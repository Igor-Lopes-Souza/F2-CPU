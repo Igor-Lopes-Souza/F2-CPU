Epoch 1/25
4378/4378 - 85s - loss: 1.0199 - accuracy: 0.5995 - val_loss: 0.9620 - val_accuracy: 0.5882 - lr: 0.0010 - 85s/epoch - 19ms/step
Epoch 2/25
4378/4378 - 125s - loss: 0.8698 - accuracy: 0.6660 - val_loss: 0.8614 - val_accuracy: 0.6359 - lr: 0.0010 - 125s/epoch - 29ms/step
Epoch 3/25
4378/4378 - 77s - loss: 0.8322 - accuracy: 0.6834 - val_loss: 0.7793 - val_accuracy: 0.6849 - lr: 0.0010 - 77s/epoch - 18ms/step
Epoch 4/25
4378/4378 - 71s - loss: 0.8099 - accuracy: 0.6928 - val_loss: 0.7861 - val_accuracy: 0.7015 - lr: 0.0010 - 71s/epoch - 16ms/step
Epoch 5/25
4378/4378 - 71s - loss: 0.7943 - accuracy: 0.6993 - val_loss: 0.8486 - val_accuracy: 0.6719 - lr: 0.0010 - 71s/epoch - 16ms/step
Epoch 6/25
4378/4378 - 71s - loss: 0.7831 - accuracy: 0.7023 - val_loss: 0.8183 - val_accuracy: 0.6771 - lr: 0.0010 - 71s/epoch - 16ms/step
Epoch 7/25
4378/4378 - 71s - loss: 0.7723 - accuracy: 0.7075 - val_loss: 0.7156 - val_accuracy: 0.7394 - lr: 0.0010 - 71s/epoch - 16ms/step
Epoch 8/25
4378/4378 - 71s - loss: 0.7632 - accuracy: 0.7121 - val_loss: 0.8044 - val_accuracy: 0.6935 - lr: 0.0010 - 71s/epoch - 16ms/step
Epoch 9/25
4378/4378 - 71s - loss: 0.7567 - accuracy: 0.7140 - val_loss: 0.7278 - val_accuracy: 0.7385 - lr: 0.0010 - 71s/epoch - 16ms/step
Epoch 10/25
4378/4378 - 72s - loss: 0.7489 - accuracy: 0.7176 - val_loss: 0.7901 - val_accuracy: 0.7086 - lr: 0.0010 - 72s/epoch - 16ms/step
Epoch 11/25
4378/4378 - 71s - loss: 0.7422 - accuracy: 0.7198 - val_loss: 0.7915 - val_accuracy: 0.7144 - lr: 0.0010 - 71s/epoch - 16ms/step
Epoch 12/25
4378/4378 - 71s - loss: 0.7373 - accuracy: 0.7216 - val_loss: 0.6651 - val_accuracy: 0.7652 - lr: 0.0010 - 71s/epoch - 16ms/step
Epoch 13/25
4378/4378 - 71s - loss: 0.7310 - accuracy: 0.7235 - val_loss: 0.6977 - val_accuracy: 0.7422 - lr: 0.0010 - 71s/epoch - 16ms/step
Epoch 14/25
4378/4378 - 71s - loss: 0.7242 - accuracy: 0.7257 - val_loss: 0.7494 - val_accuracy: 0.7172 - lr: 0.0010 - 71s/epoch - 16ms/step
Epoch 15/25
4378/4378 - 72s - loss: 0.7184 - accuracy: 0.7281 - val_loss: 0.7340 - val_accuracy: 0.7282 - lr: 0.0010 - 72s/epoch - 16ms/step
Epoch 16/25
4378/4378 - 71s - loss: 0.7123 - accuracy: 0.7323 - val_loss: 0.7078 - val_accuracy: 0.7509 - lr: 0.0010 - 71s/epoch - 16ms/step
Epoch 17/25
4378/4378 - 71s - loss: 0.7073 - accuracy: 0.7340 - val_loss: 0.6585 - val_accuracy: 0.7672 - lr: 0.0010 - 71s/epoch - 16ms/step
Epoch 18/25
4378/4378 - 71s - loss: 0.7014 - accuracy: 0.7351 - val_loss: 0.7672 - val_accuracy: 0.7125 - lr: 0.0010 - 71s/epoch - 16ms/step
Epoch 19/25
4378/4378 - 70s - loss: 0.6954 - accuracy: 0.7382 - val_loss: 0.8302 - val_accuracy: 0.7023 - lr: 0.0010 - 70s/epoch - 16ms/step
Epoch 20/25
4378/4378 - 71s - loss: 0.6917 - accuracy: 0.7380 - val_loss: 0.7240 - val_accuracy: 0.7343 - lr: 0.0010 - 71s/epoch - 16ms/step
Epoch 21/25
4378/4378 - 70s - loss: 0.6846 - accuracy: 0.7431 - val_loss: 0.8040 - val_accuracy: 0.7019 - lr: 0.0010 - 70s/epoch - 16ms/step
Epoch 22/25
4378/4378 - 71s - loss: 0.6806 - accuracy: 0.7446 - val_loss: 0.7737 - val_accuracy: 0.7143 - lr: 0.0010 - 71s/epoch - 16ms/step
Epoch 23/25
4378/4378 - 70s - loss: 0.6759 - accuracy: 0.7471 - val_loss: 0.7087 - val_accuracy: 0.7359 - lr: 0.0010 - 70s/epoch - 16ms/step
Epoch 24/25
4378/4378 - 71s - loss: 0.6698 - accuracy: 0.7477 - val_loss: 0.6754 - val_accuracy: 0.7575 - lr: 0.0010 - 71s/epoch - 16ms/step
Epoch 25/25
4378/4378 - 71s - loss: 0.6651 - accuracy: 0.7512 - val_loss: 0.6665 - val_accuracy: 0.7733 - lr: 0.0010 - 71s/epoch - 16ms/step
Epoch 1/25
876/876 - 21s - loss: 0.6198 - accuracy: 0.7698 - val_loss: 0.6863 - val_accuracy: 0.7507 - lr: 0.0010 - 21s/epoch - 24ms/step
Epoch 2/25
876/876 - 18s - loss: 0.6193 - accuracy: 0.7695 - val_loss: 0.7911 - val_accuracy: 0.7144 - lr: 0.0010 - 18s/epoch - 20ms/step
Epoch 3/25
876/876 - 18s - loss: 0.6142 - accuracy: 0.7700 - val_loss: 0.6887 - val_accuracy: 0.7544 - lr: 0.0010 - 18s/epoch - 20ms/step
Epoch 4/25
876/876 - 18s - loss: 0.6089 - accuracy: 0.7721 - val_loss: 0.6839 - val_accuracy: 0.7531 - lr: 0.0010 - 18s/epoch - 20ms/step
Epoch 5/25
876/876 - 18s - loss: 0.6035 - accuracy: 0.7749 - val_loss: 0.7644 - val_accuracy: 0.7119 - lr: 0.0010 - 18s/epoch - 20ms/step
Epoch 6/25
876/876 - 17s - loss: 0.5992 - accuracy: 0.7770 - val_loss: 0.6647 - val_accuracy: 0.7681 - lr: 0.0010 - 17s/epoch - 20ms/step
Epoch 7/25
876/876 - 18s - loss: 0.5934 - accuracy: 0.7777 - val_loss: 0.7568 - val_accuracy: 0.7199 - lr: 0.0010 - 18s/epoch - 20ms/step
Epoch 8/25
876/876 - 18s - loss: 0.5869 - accuracy: 0.7812 - val_loss: 0.6744 - val_accuracy: 0.7466 - lr: 0.0010 - 18s/epoch - 20ms/step
Epoch 9/25
876/876 - 17s - loss: 0.5826 - accuracy: 0.7818 - val_loss: 0.6875 - val_accuracy: 0.7465 - lr: 0.0010 - 17s/epoch - 20ms/step
Epoch 10/25
876/876 - 18s - loss: 0.5777 - accuracy: 0.7841 - val_loss: 0.6686 - val_accuracy: 0.7600 - lr: 0.0010 - 18s/epoch - 20ms/step
Epoch 11/25
876/876 - 17s - loss: 0.5735 - accuracy: 0.7874 - val_loss: 0.6691 - val_accuracy: 0.7529 - lr: 0.0010 - 17s/epoch - 20ms/step
Epoch 12/25
876/876 - 17s - loss: 0.5696 - accuracy: 0.7877 - val_loss: 0.7508 - val_accuracy: 0.7274 - lr: 0.0010 - 17s/epoch - 20ms/step
Epoch 13/25
876/876 - 18s - loss: 0.5641 - accuracy: 0.7901 - val_loss: 0.7274 - val_accuracy: 0.7268 - lr: 0.0010 - 18s/epoch - 20ms/step
Epoch 14/25
876/876 - 18s - loss: 0.5605 - accuracy: 0.7917 - val_loss: 0.7570 - val_accuracy: 0.7281 - lr: 0.0010 - 18s/epoch - 20ms/step
Epoch 15/25
876/876 - 17s - loss: 0.5565 - accuracy: 0.7917 - val_loss: 0.7112 - val_accuracy: 0.7334 - lr: 0.0010 - 17s/epoch - 20ms/step
Epoch 16/25
876/876 - 18s - loss: 0.5527 - accuracy: 0.7940 - val_loss: 0.7407 - val_accuracy: 0.7323 - lr: 0.0010 - 18s/epoch - 20ms/step
Epoch 17/25
876/876 - 18s - loss: 0.5493 - accuracy: 0.7952 - val_loss: 0.7764 - val_accuracy: 0.7063 - lr: 0.0010 - 18s/epoch - 20ms/step
Epoch 18/25
876/876 - 17s - loss: 0.5445 - accuracy: 0.7963 - val_loss: 0.7346 - val_accuracy: 0.7281 - lr: 0.0010 - 17s/epoch - 20ms/step
Epoch 19/25
876/876 - 18s - loss: 0.5426 - accuracy: 0.7975 - val_loss: 0.7051 - val_accuracy: 0.7281 - lr: 0.0010 - 18s/epoch - 20ms/step
Epoch 20/25
876/876 - 18s - loss: 0.5363 - accuracy: 0.8001 - val_loss: 0.7590 - val_accuracy: 0.7188 - lr: 0.0010 - 18s/epoch - 20ms/step
Epoch 21/25
876/876 - 17s - loss: 0.5321 - accuracy: 0.8011 - val_loss: 0.6468 - val_accuracy: 0.7525 - lr: 0.0010 - 17s/epoch - 20ms/step
Epoch 22/25
876/876 - 18s - loss: 0.5298 - accuracy: 0.8030 - val_loss: 0.7511 - val_accuracy: 0.7289 - lr: 0.0010 - 18s/epoch - 20ms/step
Epoch 23/25
876/876 - 18s - loss: 0.5263 - accuracy: 0.8051 - val_loss: 0.7629 - val_accuracy: 0.7210 - lr: 0.0010 - 18s/epoch - 20ms/step
Epoch 24/25
876/876 - 17s - loss: 0.5245 - accuracy: 0.8049 - val_loss: 0.7649 - val_accuracy: 0.7167 - lr: 0.0010 - 17s/epoch - 20ms/step
Epoch 25/25
876/876 - 18s - loss: 0.5186 - accuracy: 0.8066 - val_loss: 0.7703 - val_accuracy: 0.7108 - lr: 0.0010 - 18s/epoch - 20ms/step
Epoch 1/25
176/176 - 12s - loss: 0.4787 - accuracy: 0.8240 - val_loss: 0.7422 - val_accuracy: 0.7275 - lr: 0.0010 - 12s/epoch - 71ms/step
Epoch 2/25
176/176 - 9s - loss: 0.4685 - accuracy: 0.8286 - val_loss: 0.7353 - val_accuracy: 0.7350 - lr: 0.0010 - 9s/epoch - 50ms/step
Epoch 3/25
176/176 - 9s - loss: 0.4674 - accuracy: 0.8279 - val_loss: 0.7863 - val_accuracy: 0.7153 - lr: 0.0010 - 9s/epoch - 50ms/step
Epoch 4/25
176/176 - 9s - loss: 0.4659 - accuracy: 0.8299 - val_loss: 0.7318 - val_accuracy: 0.7345 - lr: 0.0010 - 9s/epoch - 50ms/step
Epoch 5/25
176/176 - 9s - loss: 0.4671 - accuracy: 0.8282 - val_loss: 0.7151 - val_accuracy: 0.7366 - lr: 0.0010 - 9s/epoch - 50ms/step
Epoch 6/25
176/176 - 9s - loss: 0.4627 - accuracy: 0.8303 - val_loss: 0.7903 - val_accuracy: 0.7118 - lr: 0.0010 - 9s/epoch - 50ms/step
Epoch 7/25
176/176 - 9s - loss: 0.4598 - accuracy: 0.8306 - val_loss: 0.7291 - val_accuracy: 0.7329 - lr: 0.0010 - 9s/epoch - 50ms/step
Epoch 8/25
176/176 - 9s - loss: 0.4568 - accuracy: 0.8330 - val_loss: 0.7819 - val_accuracy: 0.7159 - lr: 0.0010 - 9s/epoch - 50ms/step
Epoch 9/25
176/176 - 9s - loss: 0.4557 - accuracy: 0.8332 - val_loss: 0.7490 - val_accuracy: 0.7200 - lr: 0.0010 - 9s/epoch - 50ms/step
Epoch 10/25
176/176 - 9s - loss: 0.4564 - accuracy: 0.8319 - val_loss: 0.7437 - val_accuracy: 0.7350 - lr: 0.0010 - 9s/epoch - 50ms/step
Epoch 11/25
176/176 - 9s - loss: 0.4516 - accuracy: 0.8331 - val_loss: 0.7321 - val_accuracy: 0.7331 - lr: 0.0010 - 9s/epoch - 50ms/step
Epoch 12/25
176/176 - 9s - loss: 0.4513 - accuracy: 0.8343 - val_loss: 0.7367 - val_accuracy: 0.7284 - lr: 0.0010 - 9s/epoch - 50ms/step
Epoch 13/25
176/176 - 9s - loss: 0.4494 - accuracy: 0.8343 - val_loss: 0.7251 - val_accuracy: 0.7379 - lr: 0.0010 - 9s/epoch - 50ms/step
Epoch 14/25
176/176 - 9s - loss: 0.4441 - accuracy: 0.8377 - val_loss: 0.7340 - val_accuracy: 0.7290 - lr: 0.0010 - 9s/epoch - 50ms/step
Epoch 15/25
176/176 - 9s - loss: 0.4436 - accuracy: 0.8374 - val_loss: 0.7516 - val_accuracy: 0.7332 - lr: 0.0010 - 9s/epoch - 50ms/step
Epoch 16/25
176/176 - 9s - loss: 0.4403 - accuracy: 0.8392 - val_loss: 0.7497 - val_accuracy: 0.7280 - lr: 0.0010 - 9s/epoch - 50ms/step
Epoch 17/25
176/176 - 9s - loss: 0.4382 - accuracy: 0.8385 - val_loss: 0.7295 - val_accuracy: 0.7361 - lr: 0.0010 - 9s/epoch - 50ms/step
Epoch 18/25
176/176 - 9s - loss: 0.4365 - accuracy: 0.8402 - val_loss: 0.7689 - val_accuracy: 0.7205 - lr: 0.0010 - 9s/epoch - 50ms/step
Epoch 19/25
176/176 - 9s - loss: 0.4350 - accuracy: 0.8410 - val_loss: 0.7679 - val_accuracy: 0.7185 - lr: 0.0010 - 9s/epoch - 50ms/step
Epoch 20/25
176/176 - 9s - loss: 0.4311 - accuracy: 0.8413 - val_loss: 0.7565 - val_accuracy: 0.7232 - lr: 0.0010 - 9s/epoch - 51ms/step
Epoch 21/25
176/176 - 9s - loss: 0.4307 - accuracy: 0.8416 - val_loss: 0.7836 - val_accuracy: 0.7168 - lr: 0.0010 - 9s/epoch - 50ms/step
Epoch 22/25
176/176 - 9s - loss: 0.4296 - accuracy: 0.8421 - val_loss: 0.7705 - val_accuracy: 0.7219 - lr: 0.0010 - 9s/epoch - 50ms/step
Epoch 23/25
176/176 - 9s - loss: 0.4270 - accuracy: 0.8442 - val_loss: 0.7606 - val_accuracy: 0.7224 - lr: 0.0010 - 9s/epoch - 50ms/step
Epoch 24/25
176/176 - 9s - loss: 0.4279 - accuracy: 0.8424 - val_loss: 0.7323 - val_accuracy: 0.7336 - lr: 0.0010 - 9s/epoch - 50ms/step
Epoch 25/25
176/176 - 9s - loss: 0.4246 - accuracy: 0.8440 - val_loss: 0.8063 - val_accuracy: 0.7103 - lr: 0.0010 - 9s/epoch - 50ms/step
Epoch 1/25
36/36 - 11s - loss: 0.4098 - accuracy: 0.8499 - val_loss: 0.7567 - val_accuracy: 0.7248 - lr: 0.0010 - 11s/epoch - 298ms/step
Epoch 2/25
36/36 - 7s - loss: 0.4008 - accuracy: 0.8532 - val_loss: 0.7817 - val_accuracy: 0.7148 - lr: 0.0010 - 7s/epoch - 208ms/step
Epoch 3/25
36/36 - 8s - loss: 0.3999 - accuracy: 0.8536 - val_loss: 0.7888 - val_accuracy: 0.7167 - lr: 0.0010 - 8s/epoch - 209ms/step
Epoch 4/25
36/36 - 7s - loss: 0.3972 - accuracy: 0.8545 - val_loss: 0.7878 - val_accuracy: 0.7175 - lr: 0.0010 - 7s/epoch - 208ms/step
Epoch 5/25
36/36 - 8s - loss: 0.3963 - accuracy: 0.8556 - val_loss: 0.8035 - val_accuracy: 0.7093 - lr: 0.0010 - 8s/epoch - 209ms/step
Epoch 6/25
36/36 - 8s - loss: 0.3975 - accuracy: 0.8555 - val_loss: 0.7901 - val_accuracy: 0.7155 - lr: 0.0010 - 8s/epoch - 210ms/step
Epoch 7/25
36/36 - 8s - loss: 0.3958 - accuracy: 0.8550 - val_loss: 0.7781 - val_accuracy: 0.7201 - lr: 0.0010 - 8s/epoch - 210ms/step
Epoch 8/25
36/36 - 8s - loss: 0.3953 - accuracy: 0.8567 - val_loss: 0.7710 - val_accuracy: 0.7208 - lr: 0.0010 - 8s/epoch - 209ms/step
Epoch 9/25
36/36 - 8s - loss: 0.3946 - accuracy: 0.8571 - val_loss: 0.7796 - val_accuracy: 0.7190 - lr: 0.0010 - 8s/epoch - 209ms/step
Epoch 10/25
36/36 - 8s - loss: 0.3935 - accuracy: 0.8571 - val_loss: 0.7757 - val_accuracy: 0.7188 - lr: 0.0010 - 8s/epoch - 209ms/step
Epoch 11/25
36/36 - 8s - loss: 0.3929 - accuracy: 0.8566 - val_loss: 0.7651 - val_accuracy: 0.7248 - lr: 0.0010 - 8s/epoch - 210ms/step
Epoch 12/25
36/36 - 8s - loss: 0.3924 - accuracy: 0.8566 - val_loss: 0.7670 - val_accuracy: 0.7219 - lr: 0.0010 - 8s/epoch - 210ms/step
Epoch 13/25
36/36 - 8s - loss: 0.3952 - accuracy: 0.8560 - val_loss: 0.7960 - val_accuracy: 0.7117 - lr: 0.0010 - 8s/epoch - 209ms/step
Epoch 14/25
36/36 - 8s - loss: 0.3921 - accuracy: 0.8570 - val_loss: 0.7661 - val_accuracy: 0.7230 - lr: 0.0010 - 8s/epoch - 209ms/step
Epoch 15/25
36/36 - 8s - loss: 0.3911 - accuracy: 0.8581 - val_loss: 0.7935 - val_accuracy: 0.7128 - lr: 0.0010 - 8s/epoch - 210ms/step
Epoch 16/25
36/36 - 8s - loss: 0.3896 - accuracy: 0.8589 - val_loss: 0.7657 - val_accuracy: 0.7237 - lr: 0.0010 - 8s/epoch - 210ms/step
Epoch 17/25
36/36 - 8s - loss: 0.3930 - accuracy: 0.8563 - val_loss: 0.7651 - val_accuracy: 0.7235 - lr: 0.0010 - 8s/epoch - 209ms/step
Epoch 18/25
36/36 - 8s - loss: 0.3911 - accuracy: 0.8558 - val_loss: 0.7875 - val_accuracy: 0.7162 - lr: 0.0010 - 8s/epoch - 210ms/step
Epoch 19/25
36/36 - 8s - loss: 0.3906 - accuracy: 0.8580 - val_loss: 0.7859 - val_accuracy: 0.7165 - lr: 0.0010 - 8s/epoch - 210ms/step
Epoch 20/25
36/36 - 8s - loss: 0.3890 - accuracy: 0.8583 - val_loss: 0.7845 - val_accuracy: 0.7180 - lr: 0.0010 - 8s/epoch - 209ms/step
Epoch 21/25
36/36 - 8s - loss: 0.3890 - accuracy: 0.8583 - val_loss: 0.7927 - val_accuracy: 0.7137 - lr: 0.0010 - 8s/epoch - 210ms/step
Epoch 22/25
36/36 - 8s - loss: 0.3890 - accuracy: 0.8594 - val_loss: 0.7913 - val_accuracy: 0.7156 - lr: 0.0010 - 8s/epoch - 210ms/step
Epoch 23/25
36/36 - 8s - loss: 0.3915 - accuracy: 0.8579 - val_loss: 0.7859 - val_accuracy: 0.7179 - lr: 0.0010 - 8s/epoch - 210ms/step
Epoch 24/25
36/36 - 8s - loss: 0.3872 - accuracy: 0.8588 - val_loss: 0.7833 - val_accuracy: 0.7191 - lr: 0.0010 - 8s/epoch - 209ms/step
Epoch 25/25
36/36 - 8s - loss: 0.3906 - accuracy: 0.8582 - val_loss: 0.7952 - val_accuracy: 0.7158 - lr: 0.0010 - 8s/epoch - 210ms/step
Epoch 1/50
4378/4378 - 74s - loss: 0.5442 - accuracy: 0.7944 - val_loss: 0.7747 - val_accuracy: 0.7202 - lr: 0.0010 - 74s/epoch - 17ms/step
Epoch 2/50
4378/4378 - 71s - loss: 0.5583 - accuracy: 0.7897 - val_loss: 0.8232 - val_accuracy: 0.7014 - lr: 0.0010 - 71s/epoch - 16ms/step
Epoch 3/50
4378/4378 - 71s - loss: 0.5555 - accuracy: 0.7921 - val_loss: 0.7367 - val_accuracy: 0.7300 - lr: 0.0010 - 71s/epoch - 16ms/step
Epoch 4/50
4378/4378 - 71s - loss: 0.5532 - accuracy: 0.7915 - val_loss: 0.7722 - val_accuracy: 0.7199 - lr: 0.0010 - 71s/epoch - 16ms/step
Epoch 5/50
4378/4378 - 71s - loss: 0.5522 - accuracy: 0.7915 - val_loss: 0.8201 - val_accuracy: 0.7009 - lr: 0.0010 - 71s/epoch - 16ms/step
Epoch 6/50
4378/4378 - 71s - loss: 0.5501 - accuracy: 0.7951 - val_loss: 0.7976 - val_accuracy: 0.7153 - lr: 0.0010 - 71s/epoch - 16ms/step
Epoch 7/50
4378/4378 - 91s - loss: 0.5476 - accuracy: 0.7943 - val_loss: 0.7526 - val_accuracy: 0.7161 - lr: 0.0010 - 91s/epoch - 21ms/step
Epoch 8/50
4378/4378 - 96s - loss: 0.5448 - accuracy: 0.7956 - val_loss: 0.8137 - val_accuracy: 0.6936 - lr: 0.0010 - 96s/epoch - 22ms/step
Epoch 9/50
4378/4378 - 98s - loss: 0.5471 - accuracy: 0.7941 - val_loss: 0.7483 - val_accuracy: 0.7208 - lr: 0.0010 - 98s/epoch - 22ms/step
Epoch 10/50
4378/4378 - 97s - loss: 0.5436 - accuracy: 0.7976 - val_loss: 0.8828 - val_accuracy: 0.6694 - lr: 0.0010 - 97s/epoch - 22ms/step
Epoch 11/50
4378/4378 - 99s - loss: 0.5435 - accuracy: 0.7963 - val_loss: 0.7907 - val_accuracy: 0.6909 - lr: 0.0010 - 99s/epoch - 23ms/step
Epoch 12/50
4378/4378 - 103s - loss: 0.5369 - accuracy: 0.7983 - val_loss: 0.7566 - val_accuracy: 0.7219 - lr: 0.0010 - 103s/epoch - 24ms/step
Epoch 13/50
4378/4378 - 105s - loss: 0.5377 - accuracy: 0.7984 - val_loss: 0.8453 - val_accuracy: 0.6840 - lr: 0.0010 - 105s/epoch - 24ms/step
Epoch 14/50
4378/4378 - 103s - loss: 0.5353 - accuracy: 0.7998 - val_loss: 0.9310 - val_accuracy: 0.6693 - lr: 0.0010 - 103s/epoch - 24ms/step
Epoch 15/50
4378/4378 - 109s - loss: 0.5330 - accuracy: 0.7997 - val_loss: 0.8808 - val_accuracy: 0.6825 - lr: 0.0010 - 109s/epoch - 25ms/step
Epoch 16/50
4378/4378 - 106s - loss: 0.5312 - accuracy: 0.8015 - val_loss: 0.9233 - val_accuracy: 0.6491 - lr: 0.0010 - 106s/epoch - 24ms/step
Epoch 17/50
4378/4378 - 105s - loss: 0.5263 - accuracy: 0.8028 - val_loss: 0.7499 - val_accuracy: 0.7173 - lr: 0.0010 - 105s/epoch - 24ms/step
Epoch 18/50
4378/4378 - 89s - loss: 0.5234 - accuracy: 0.8035 - val_loss: 0.8677 - val_accuracy: 0.6708 - lr: 0.0010 - 89s/epoch - 20ms/step
Epoch 19/50
4378/4378 - 89s - loss: 0.5233 - accuracy: 0.8052 - val_loss: 0.8874 - val_accuracy: 0.6534 - lr: 0.0010 - 89s/epoch - 20ms/step
Epoch 20/50
4378/4378 - 90s - loss: 0.5227 - accuracy: 0.8044 - val_loss: 0.9092 - val_accuracy: 0.6533 - lr: 0.0010 - 90s/epoch - 20ms/step
Epoch 21/50
4378/4378 - 90s - loss: 0.5189 - accuracy: 0.8061 - val_loss: 0.9679 - val_accuracy: 0.6615 - lr: 0.0010 - 90s/epoch - 20ms/step
Epoch 22/50
4378/4378 - 90s - loss: 0.5168 - accuracy: 0.8077 - val_loss: 0.8739 - val_accuracy: 0.6671 - lr: 0.0010 - 90s/epoch - 20ms/step
Epoch 23/50
4378/4378 - 90s - loss: 0.5178 - accuracy: 0.8060 - val_loss: 0.7815 - val_accuracy: 0.7162 - lr: 0.0010 - 90s/epoch - 21ms/step
Epoch 24/50
4378/4378 - 90s - loss: 0.5140 - accuracy: 0.8070 - val_loss: 0.9657 - val_accuracy: 0.6519 - lr: 0.0010 - 90s/epoch - 21ms/step
Epoch 25/50
4378/4378 - 90s - loss: 0.5124 - accuracy: 0.8088 - val_loss: 0.8947 - val_accuracy: 0.6541 - lr: 0.0010 - 90s/epoch - 21ms/step
Epoch 26/50
4378/4378 - 114s - loss: 0.5100 - accuracy: 0.8087 - val_loss: 0.9118 - val_accuracy: 0.6658 - lr: 0.0010 - 114s/epoch - 26ms/step
Epoch 27/50
4378/4378 - 105s - loss: 0.5079 - accuracy: 0.8102 - val_loss: 0.9328 - val_accuracy: 0.6508 - lr: 0.0010 - 105s/epoch - 24ms/step
Epoch 28/50
4378/4378 - 107s - loss: 0.5042 - accuracy: 0.8113 - val_loss: 0.9119 - val_accuracy: 0.6532 - lr: 0.0010 - 107s/epoch - 24ms/step
Epoch 29/50
4378/4378 - 107s - loss: 0.5057 - accuracy: 0.8108 - val_loss: 0.8894 - val_accuracy: 0.6661 - lr: 0.0010 - 107s/epoch - 25ms/step
Epoch 30/50
4378/4378 - 109s - loss: 0.5032 - accuracy: 0.8109 - val_loss: 0.9833 - val_accuracy: 0.6287 - lr: 0.0010 - 109s/epoch - 25ms/step
Epoch 31/50
4378/4378 - 106s - loss: 0.5031 - accuracy: 0.8128 - val_loss: 0.9350 - val_accuracy: 0.6627 - lr: 0.0010 - 106s/epoch - 24ms/step
Epoch 32/50
4378/4378 - 109s - loss: 0.5003 - accuracy: 0.8142 - val_loss: 0.7579 - val_accuracy: 0.7060 - lr: 0.0010 - 109s/epoch - 25ms/step
Epoch 33/50
4378/4378 - 98s - loss: 0.4955 - accuracy: 0.8160 - val_loss: 0.9981 - val_accuracy: 0.6106 - lr: 0.0010 - 98s/epoch - 22ms/step
Epoch 34/50
4378/4378 - 99s - loss: 0.4965 - accuracy: 0.8145 - val_loss: 0.9349 - val_accuracy: 0.6534 - lr: 0.0010 - 99s/epoch - 23ms/step
Epoch 35/50
4378/4378 - 98s - loss: 0.4936 - accuracy: 0.8157 - val_loss: 0.8050 - val_accuracy: 0.6890 - lr: 0.0010 - 98s/epoch - 22ms/step
Epoch 36/50
4378/4378 - 99s - loss: 0.4907 - accuracy: 0.8161 - val_loss: 0.8259 - val_accuracy: 0.6914 - lr: 0.0010 - 99s/epoch - 23ms/step
Epoch 37/50
4378/4378 - 100s - loss: 0.4911 - accuracy: 0.8164 - val_loss: 0.8984 - val_accuracy: 0.6651 - lr: 0.0010 - 100s/epoch - 23ms/step
Epoch 38/50
4378/4378 - 98s - loss: 0.4895 - accuracy: 0.8169 - val_loss: 0.9767 - val_accuracy: 0.6381 - lr: 0.0010 - 98s/epoch - 22ms/step
Epoch 39/50
4378/4378 - 98s - loss: 0.4876 - accuracy: 0.8177 - val_loss: 1.0056 - val_accuracy: 0.6386 - lr: 0.0010 - 98s/epoch - 22ms/step
Epoch 40/50
4378/4378 - 110s - loss: 0.4864 - accuracy: 0.8193 - val_loss: 1.1119 - val_accuracy: 0.5924 - lr: 0.0010 - 110s/epoch - 25ms/step
Epoch 41/50
4378/4378 - 92s - loss: 0.4816 - accuracy: 0.8216 - val_loss: 0.8727 - val_accuracy: 0.6822 - lr: 0.0010 - 92s/epoch - 21ms/step
Epoch 42/50
4378/4378 - 89s - loss: 0.4797 - accuracy: 0.8211 - val_loss: 0.8436 - val_accuracy: 0.6933 - lr: 0.0010 - 89s/epoch - 20ms/step
Epoch 43/50
4378/4378 - 89s - loss: 0.4801 - accuracy: 0.8204 - val_loss: 0.8732 - val_accuracy: 0.6645 - lr: 0.0010 - 89s/epoch - 20ms/step
Epoch 44/50
4378/4378 - 96s - loss: 0.4782 - accuracy: 0.8206 - val_loss: 1.0079 - val_accuracy: 0.6383 - lr: 0.0010 - 96s/epoch - 22ms/step
Epoch 45/50
4378/4378 - 100s - loss: 0.4757 - accuracy: 0.8221 - val_loss: 0.8844 - val_accuracy: 0.6745 - lr: 0.0010 - 100s/epoch - 23ms/step
Epoch 46/50
4378/4378 - 102s - loss: 0.4758 - accuracy: 0.8219 - val_loss: 1.0335 - val_accuracy: 0.6321 - lr: 0.0010 - 102s/epoch - 23ms/step
Epoch 47/50
4378/4378 - 105s - loss: 0.4738 - accuracy: 0.8229 - val_loss: 0.8988 - val_accuracy: 0.6771 - lr: 0.0010 - 105s/epoch - 24ms/step
Epoch 48/50
4378/4378 - 100s - loss: 0.4727 - accuracy: 0.8234 - val_loss: 0.9226 - val_accuracy: 0.6551 - lr: 0.0010 - 100s/epoch - 23ms/step
Epoch 49/50
4378/4378 - 106s - loss: 0.4707 - accuracy: 0.8254 - val_loss: 0.7806 - val_accuracy: 0.6955 - lr: 0.0010 - 106s/epoch - 24ms/step
Epoch 50/50
4378/4378 - 108s - loss: 0.4694 - accuracy: 0.8258 - val_loss: 0.9188 - val_accuracy: 0.6427 - lr: 0.0010 - 108s/epoch - 25ms/step
Epoch 1/50
876/876 - 31s - loss: 0.3905 - accuracy: 0.8580 - val_loss: 1.0442 - val_accuracy: 0.6351 - lr: 0.0010 - 31s/epoch - 36ms/step
Epoch 2/50
876/876 - 38s - loss: 0.3939 - accuracy: 0.8560 - val_loss: 0.9970 - val_accuracy: 0.6484 - lr: 0.0010 - 38s/epoch - 43ms/step
Epoch 3/50
876/876 - 28s - loss: 0.3872 - accuracy: 0.8585 - val_loss: 1.0980 - val_accuracy: 0.6253 - lr: 0.0010 - 28s/epoch - 32ms/step
Epoch 4/50
876/876 - 28s - loss: 0.3855 - accuracy: 0.8587 - val_loss: 1.1185 - val_accuracy: 0.6188 - lr: 0.0010 - 28s/epoch - 32ms/step
Epoch 5/50
876/876 - 34s - loss: 0.3806 - accuracy: 0.8600 - val_loss: 1.0935 - val_accuracy: 0.6145 - lr: 0.0010 - 34s/epoch - 39ms/step
Epoch 6/50
876/876 - 36s - loss: 0.3773 - accuracy: 0.8607 - val_loss: 1.0530 - val_accuracy: 0.6411 - lr: 0.0010 - 36s/epoch - 41ms/step
Epoch 7/50
876/876 - 31s - loss: 0.3753 - accuracy: 0.8619 - val_loss: 1.0178 - val_accuracy: 0.6505 - lr: 0.0010 - 31s/epoch - 35ms/step
Epoch 8/50
876/876 - 27s - loss: 0.3705 - accuracy: 0.8628 - val_loss: 1.0278 - val_accuracy: 0.6443 - lr: 0.0010 - 27s/epoch - 31ms/step
Epoch 9/50
876/876 - 34s - loss: 0.3728 - accuracy: 0.8625 - val_loss: 0.9466 - val_accuracy: 0.6629 - lr: 0.0010 - 34s/epoch - 39ms/step
Epoch 10/50
876/876 - 31s - loss: 0.3657 - accuracy: 0.8655 - val_loss: 0.9598 - val_accuracy: 0.6656 - lr: 0.0010 - 31s/epoch - 36ms/step
Epoch 11/50
876/876 - 33s - loss: 0.3654 - accuracy: 0.8654 - val_loss: 0.8985 - val_accuracy: 0.6825 - lr: 0.0010 - 33s/epoch - 38ms/step
Epoch 12/50
876/876 - 31s - loss: 0.3630 - accuracy: 0.8656 - val_loss: 0.9593 - val_accuracy: 0.6651 - lr: 0.0010 - 31s/epoch - 35ms/step
Epoch 13/50
876/876 - 34s - loss: 0.3596 - accuracy: 0.8680 - val_loss: 1.1756 - val_accuracy: 0.6165 - lr: 0.0010 - 34s/epoch - 39ms/step
Epoch 14/50
876/876 - 31s - loss: 0.3582 - accuracy: 0.8686 - val_loss: 0.9553 - val_accuracy: 0.6750 - lr: 0.0010 - 31s/epoch - 36ms/step
Epoch 15/50
876/876 - 33s - loss: 0.3579 - accuracy: 0.8672 - val_loss: 1.0756 - val_accuracy: 0.6228 - lr: 0.0010 - 33s/epoch - 37ms/step
Epoch 16/50
876/876 - 32s - loss: 0.3552 - accuracy: 0.8698 - val_loss: 1.0880 - val_accuracy: 0.6319 - lr: 0.0010 - 32s/epoch - 37ms/step
Epoch 17/50
876/876 - 36s - loss: 0.3548 - accuracy: 0.8688 - val_loss: 1.0025 - val_accuracy: 0.6498 - lr: 0.0010 - 36s/epoch - 41ms/step
Epoch 18/50
876/876 - 33s - loss: 0.3524 - accuracy: 0.8715 - val_loss: 1.1025 - val_accuracy: 0.6274 - lr: 0.0010 - 33s/epoch - 37ms/step
Epoch 19/50
876/876 - 32s - loss: 0.3514 - accuracy: 0.8698 - val_loss: 1.0506 - val_accuracy: 0.6487 - lr: 0.0010 - 32s/epoch - 36ms/step
Epoch 20/50
876/876 - 31s - loss: 0.3492 - accuracy: 0.8724 - val_loss: 1.0098 - val_accuracy: 0.6568 - lr: 0.0010 - 31s/epoch - 35ms/step
Epoch 21/50
876/876 - 34s - loss: 0.3480 - accuracy: 0.8722 - val_loss: 0.9908 - val_accuracy: 0.6495 - lr: 0.0010 - 34s/epoch - 39ms/step
Epoch 22/50
876/876 - 32s - loss: 0.3462 - accuracy: 0.8722 - val_loss: 1.1744 - val_accuracy: 0.6149 - lr: 0.0010 - 32s/epoch - 37ms/step
Epoch 23/50
876/876 - 32s - loss: 0.3428 - accuracy: 0.8728 - val_loss: 1.2213 - val_accuracy: 0.5919 - lr: 0.0010 - 32s/epoch - 36ms/step
Epoch 24/50
876/876 - 36s - loss: 0.3433 - accuracy: 0.8742 - val_loss: 0.9512 - val_accuracy: 0.6614 - lr: 0.0010 - 36s/epoch - 41ms/step
Epoch 25/50
876/876 - 31s - loss: 0.3421 - accuracy: 0.8749 - val_loss: 1.0101 - val_accuracy: 0.6572 - lr: 0.0010 - 31s/epoch - 35ms/step
Epoch 26/50
876/876 - 26s - loss: 0.3413 - accuracy: 0.8732 - val_loss: 1.0365 - val_accuracy: 0.6453 - lr: 0.0010 - 26s/epoch - 30ms/step
Epoch 27/50
876/876 - 27s - loss: 0.3409 - accuracy: 0.8740 - val_loss: 1.0901 - val_accuracy: 0.6443 - lr: 0.0010 - 27s/epoch - 31ms/step
Epoch 28/50
876/876 - 28s - loss: 0.3407 - accuracy: 0.8741 - val_loss: 1.0640 - val_accuracy: 0.6393 - lr: 0.0010 - 28s/epoch - 32ms/step
Epoch 29/50
876/876 - 28s - loss: 0.3359 - accuracy: 0.8765 - val_loss: 1.0678 - val_accuracy: 0.6395 - lr: 0.0010 - 28s/epoch - 32ms/step
Epoch 30/50
876/876 - 29s - loss: 0.3343 - accuracy: 0.8768 - val_loss: 1.1072 - val_accuracy: 0.6286 - lr: 0.0010 - 29s/epoch - 33ms/step
Epoch 31/50
876/876 - 30s - loss: 0.3351 - accuracy: 0.8760 - val_loss: 1.1983 - val_accuracy: 0.6083 - lr: 0.0010 - 30s/epoch - 34ms/step
Epoch 32/50
876/876 - 28s - loss: 0.3346 - accuracy: 0.8769 - val_loss: 1.1011 - val_accuracy: 0.6293 - lr: 0.0010 - 28s/epoch - 32ms/step
Epoch 33/50
876/876 - 28s - loss: 0.3315 - accuracy: 0.8783 - val_loss: 1.0743 - val_accuracy: 0.6448 - lr: 0.0010 - 28s/epoch - 32ms/step
Epoch 34/50
876/876 - 29s - loss: 0.3336 - accuracy: 0.8763 - val_loss: 1.1638 - val_accuracy: 0.6010 - lr: 0.0010 - 29s/epoch - 33ms/step
Epoch 35/50
876/876 - 28s - loss: 0.3290 - accuracy: 0.8795 - val_loss: 1.2417 - val_accuracy: 0.5908 - lr: 0.0010 - 28s/epoch - 32ms/step
Epoch 36/50
876/876 - 29s - loss: 0.3293 - accuracy: 0.8788 - val_loss: 1.0179 - val_accuracy: 0.6543 - lr: 0.0010 - 29s/epoch - 33ms/step
Epoch 37/50
876/876 - 28s - loss: 0.3278 - accuracy: 0.8794 - val_loss: 1.0456 - val_accuracy: 0.6413 - lr: 0.0010 - 28s/epoch - 32ms/step
Epoch 38/50
876/876 - 28s - loss: 0.3257 - accuracy: 0.8803 - val_loss: 1.0921 - val_accuracy: 0.6356 - lr: 0.0010 - 28s/epoch - 32ms/step
Epoch 39/50
876/876 - 29s - loss: 0.3257 - accuracy: 0.8787 - val_loss: 1.2014 - val_accuracy: 0.5945 - lr: 0.0010 - 29s/epoch - 33ms/step
Epoch 40/50
876/876 - 32s - loss: 0.3252 - accuracy: 0.8808 - val_loss: 1.1877 - val_accuracy: 0.6126 - lr: 0.0010 - 32s/epoch - 37ms/step
Epoch 41/50
876/876 - 27s - loss: 0.3245 - accuracy: 0.8804 - val_loss: 1.1944 - val_accuracy: 0.5925 - lr: 0.0010 - 27s/epoch - 31ms/step
Epoch 42/50
876/876 - 27s - loss: 0.3220 - accuracy: 0.8809 - val_loss: 1.0995 - val_accuracy: 0.6203 - lr: 0.0010 - 27s/epoch - 31ms/step
Epoch 43/50
876/876 - 30s - loss: 0.3233 - accuracy: 0.8806 - val_loss: 1.2585 - val_accuracy: 0.5857 - lr: 0.0010 - 30s/epoch - 34ms/step
Epoch 44/50
876/876 - 30s - loss: 0.3214 - accuracy: 0.8809 - val_loss: 1.1936 - val_accuracy: 0.6066 - lr: 0.0010 - 30s/epoch - 34ms/step
Epoch 45/50
876/876 - 30s - loss: 0.3194 - accuracy: 0.8822 - val_loss: 1.1627 - val_accuracy: 0.6152 - lr: 0.0010 - 30s/epoch - 34ms/step
Epoch 46/50
876/876 - 32s - loss: 0.3196 - accuracy: 0.8827 - val_loss: 1.1325 - val_accuracy: 0.6155 - lr: 0.0010 - 32s/epoch - 37ms/step
Epoch 47/50
876/876 - 28s - loss: 0.3172 - accuracy: 0.8834 - val_loss: 1.2248 - val_accuracy: 0.5886 - lr: 0.0010 - 28s/epoch - 32ms/step
Epoch 48/50
876/876 - 26s - loss: 0.3165 - accuracy: 0.8837 - val_loss: 1.3193 - val_accuracy: 0.5641 - lr: 0.0010 - 26s/epoch - 30ms/step
Epoch 49/50
876/876 - 24s - loss: 0.3161 - accuracy: 0.8831 - val_loss: 1.3158 - val_accuracy: 0.5702 - lr: 0.0010 - 24s/epoch - 28ms/step
Epoch 50/50
876/876 - 25s - loss: 0.3157 - accuracy: 0.8823 - val_loss: 1.2040 - val_accuracy: 0.5841 - lr: 0.0010 - 25s/epoch - 28ms/step
Epoch 1/50
176/176 - 20s - loss: 0.2654 - accuracy: 0.9041 - val_loss: 1.2046 - val_accuracy: 0.6099 - lr: 0.0010 - 20s/epoch - 111ms/step
Epoch 2/50
176/176 - 13s - loss: 0.2457 - accuracy: 0.9126 - val_loss: 1.3014 - val_accuracy: 0.5982 - lr: 0.0010 - 13s/epoch - 74ms/step
Epoch 3/50
176/176 - 13s - loss: 0.2462 - accuracy: 0.9114 - val_loss: 1.2198 - val_accuracy: 0.6176 - lr: 0.0010 - 13s/epoch - 75ms/step
Epoch 4/50
176/176 - 13s - loss: 0.2451 - accuracy: 0.9113 - val_loss: 1.2589 - val_accuracy: 0.6083 - lr: 0.0010 - 13s/epoch - 75ms/step
Epoch 5/50
176/176 - 13s - loss: 0.2454 - accuracy: 0.9123 - val_loss: 1.3165 - val_accuracy: 0.6021 - lr: 0.0010 - 13s/epoch - 76ms/step
Epoch 6/50
176/176 - 14s - loss: 0.2473 - accuracy: 0.9104 - val_loss: 1.2889 - val_accuracy: 0.6113 - lr: 0.0010 - 14s/epoch - 77ms/step
Epoch 7/50
176/176 - 13s - loss: 0.2451 - accuracy: 0.9122 - val_loss: 1.3460 - val_accuracy: 0.5982 - lr: 0.0010 - 13s/epoch - 76ms/step
Epoch 8/50
176/176 - 13s - loss: 0.2424 - accuracy: 0.9125 - val_loss: 1.3519 - val_accuracy: 0.5943 - lr: 0.0010 - 13s/epoch - 75ms/step
Epoch 9/50
176/176 - 13s - loss: 0.2422 - accuracy: 0.9139 - val_loss: 1.3348 - val_accuracy: 0.5947 - lr: 0.0010 - 13s/epoch - 76ms/step
Epoch 10/50
176/176 - 13s - loss: 0.2448 - accuracy: 0.9120 - val_loss: 1.3105 - val_accuracy: 0.6108 - lr: 0.0010 - 13s/epoch - 74ms/step
Epoch 11/50
176/176 - 13s - loss: 0.2413 - accuracy: 0.9139 - val_loss: 1.2815 - val_accuracy: 0.6137 - lr: 0.0010 - 13s/epoch - 75ms/step
Epoch 12/50
176/176 - 13s - loss: 0.2425 - accuracy: 0.9127 - val_loss: 1.3049 - val_accuracy: 0.6083 - lr: 0.0010 - 13s/epoch - 75ms/step
Epoch 13/50
176/176 - 13s - loss: 0.2420 - accuracy: 0.9123 - val_loss: 1.3376 - val_accuracy: 0.6013 - lr: 0.0010 - 13s/epoch - 75ms/step
Epoch 14/50
176/176 - 12s - loss: 0.2416 - accuracy: 0.9126 - val_loss: 1.3997 - val_accuracy: 0.5902 - lr: 0.0010 - 12s/epoch - 66ms/step
Epoch 15/50
176/176 - 13s - loss: 0.2391 - accuracy: 0.9131 - val_loss: 1.3240 - val_accuracy: 0.6087 - lr: 0.0010 - 13s/epoch - 77ms/step
Epoch 16/50
176/176 - 14s - loss: 0.2345 - accuracy: 0.9162 - val_loss: 1.4205 - val_accuracy: 0.5897 - lr: 0.0010 - 14s/epoch - 78ms/step
Epoch 17/50
176/176 - 14s - loss: 0.2352 - accuracy: 0.9145 - val_loss: 1.3066 - val_accuracy: 0.6202 - lr: 0.0010 - 14s/epoch - 78ms/step
Epoch 18/50
176/176 - 13s - loss: 0.2338 - accuracy: 0.9157 - val_loss: 1.4182 - val_accuracy: 0.5839 - lr: 0.0010 - 13s/epoch - 75ms/step
Epoch 19/50
176/176 - 10s - loss: 0.2338 - accuracy: 0.9163 - val_loss: 1.2979 - val_accuracy: 0.6171 - lr: 0.0010 - 10s/epoch - 54ms/step
Epoch 20/50
176/176 - 18s - loss: 0.2349 - accuracy: 0.9161 - val_loss: 1.4241 - val_accuracy: 0.5848 - lr: 0.0010 - 18s/epoch - 101ms/step
Epoch 21/50
176/176 - 9s - loss: 0.2348 - accuracy: 0.9154 - val_loss: 1.4253 - val_accuracy: 0.5840 - lr: 0.0010 - 9s/epoch - 53ms/step
Epoch 22/50
176/176 - 9s - loss: 0.2382 - accuracy: 0.9143 - val_loss: 1.3373 - val_accuracy: 0.6131 - lr: 0.0010 - 9s/epoch - 51ms/step
Epoch 23/50
176/176 - 9s - loss: 0.2362 - accuracy: 0.9149 - val_loss: 1.2426 - val_accuracy: 0.6213 - lr: 0.0010 - 9s/epoch - 53ms/step
Epoch 24/50
176/176 - 10s - loss: 0.2353 - accuracy: 0.9142 - val_loss: 1.3050 - val_accuracy: 0.6061 - lr: 0.0010 - 10s/epoch - 56ms/step
Epoch 25/50
176/176 - 9s - loss: 0.2301 - accuracy: 0.9172 - val_loss: 1.3179 - val_accuracy: 0.6110 - lr: 0.0010 - 9s/epoch - 51ms/step
Epoch 26/50
176/176 - 9s - loss: 0.2300 - accuracy: 0.9171 - val_loss: 1.3503 - val_accuracy: 0.6023 - lr: 0.0010 - 9s/epoch - 51ms/step
Epoch 27/50
176/176 - 9s - loss: 0.2265 - accuracy: 0.9188 - val_loss: 1.3790 - val_accuracy: 0.6004 - lr: 0.0010 - 9s/epoch - 52ms/step
Epoch 28/50
176/176 - 9s - loss: 0.2273 - accuracy: 0.9176 - val_loss: 1.4434 - val_accuracy: 0.5943 - lr: 0.0010 - 9s/epoch - 51ms/step
Epoch 29/50
176/176 - 9s - loss: 0.2270 - accuracy: 0.9183 - val_loss: 1.3743 - val_accuracy: 0.6082 - lr: 0.0010 - 9s/epoch - 51ms/step
Epoch 30/50
176/176 - 10s - loss: 0.2250 - accuracy: 0.9195 - val_loss: 1.3998 - val_accuracy: 0.5904 - lr: 0.0010 - 10s/epoch - 57ms/step
Epoch 31/50
176/176 - 9s - loss: 0.2308 - accuracy: 0.9165 - val_loss: 1.3444 - val_accuracy: 0.6023 - lr: 0.0010 - 9s/epoch - 53ms/step
Epoch 32/50
176/176 - 9s - loss: 0.2304 - accuracy: 0.9167 - val_loss: 1.4083 - val_accuracy: 0.6010 - lr: 0.0010 - 9s/epoch - 51ms/step
Epoch 33/50
176/176 - 10s - loss: 0.2318 - accuracy: 0.9161 - val_loss: 1.3721 - val_accuracy: 0.6043 - lr: 0.0010 - 10s/epoch - 54ms/step
Epoch 34/50
176/176 - 10s - loss: 0.2301 - accuracy: 0.9170 - val_loss: 1.3801 - val_accuracy: 0.6041 - lr: 0.0010 - 10s/epoch - 57ms/step
Epoch 35/50
176/176 - 10s - loss: 0.2270 - accuracy: 0.9181 - val_loss: 1.3849 - val_accuracy: 0.6042 - lr: 0.0010 - 10s/epoch - 57ms/step
Epoch 36/50
176/176 - 11s - loss: 0.2266 - accuracy: 0.9178 - val_loss: 1.4939 - val_accuracy: 0.5789 - lr: 0.0010 - 11s/epoch - 61ms/step
Epoch 37/50
176/176 - 9s - loss: 0.2241 - accuracy: 0.9194 - val_loss: 1.4652 - val_accuracy: 0.5851 - lr: 0.0010 - 9s/epoch - 52ms/step
Epoch 38/50
176/176 - 9s - loss: 0.2268 - accuracy: 0.9186 - val_loss: 1.4471 - val_accuracy: 0.5889 - lr: 0.0010 - 9s/epoch - 50ms/step
Epoch 39/50
176/176 - 9s - loss: 0.2240 - accuracy: 0.9189 - val_loss: 1.4589 - val_accuracy: 0.5868 - lr: 0.0010 - 9s/epoch - 52ms/step
Epoch 40/50
176/176 - 9s - loss: 0.2221 - accuracy: 0.9205 - val_loss: 1.4739 - val_accuracy: 0.5851 - lr: 0.0010 - 9s/epoch - 50ms/step
Epoch 41/50
176/176 - 9s - loss: 0.2181 - accuracy: 0.9216 - val_loss: 1.4707 - val_accuracy: 0.5813 - lr: 0.0010 - 9s/epoch - 51ms/step
Epoch 42/50
176/176 - 9s - loss: 0.2192 - accuracy: 0.9202 - val_loss: 1.4718 - val_accuracy: 0.5817 - lr: 0.0010 - 9s/epoch - 50ms/step
Epoch 43/50
176/176 - 9s - loss: 0.2187 - accuracy: 0.9221 - val_loss: 1.4409 - val_accuracy: 0.5944 - lr: 0.0010 - 9s/epoch - 50ms/step
Epoch 44/50
176/176 - 9s - loss: 0.2155 - accuracy: 0.9226 - val_loss: 1.4290 - val_accuracy: 0.6068 - lr: 0.0010 - 9s/epoch - 51ms/step
Epoch 45/50
176/176 - 9s - loss: 0.2188 - accuracy: 0.9211 - val_loss: 1.4358 - val_accuracy: 0.6047 - lr: 0.0010 - 9s/epoch - 52ms/step
Epoch 46/50
176/176 - 9s - loss: 0.2164 - accuracy: 0.9222 - val_loss: 1.4585 - val_accuracy: 0.5896 - lr: 0.0010 - 9s/epoch - 50ms/step
Epoch 47/50
176/176 - 9s - loss: 0.2173 - accuracy: 0.9211 - val_loss: 1.3885 - val_accuracy: 0.6034 - lr: 0.0010 - 9s/epoch - 51ms/step
Epoch 48/50
176/176 - 9s - loss: 0.2154 - accuracy: 0.9224 - val_loss: 1.5315 - val_accuracy: 0.5825 - lr: 0.0010 - 9s/epoch - 51ms/step
Epoch 49/50
176/176 - 10s - loss: 0.2157 - accuracy: 0.9228 - val_loss: 1.4047 - val_accuracy: 0.6054 - lr: 0.0010 - 10s/epoch - 56ms/step
Epoch 50/50
176/176 - 9s - loss: 0.2112 - accuracy: 0.9242 - val_loss: 1.5444 - val_accuracy: 0.5937 - lr: 0.0010 - 9s/epoch - 53ms/step
Epoch 1/50
36/36 - 11s - loss: 0.1957 - accuracy: 0.9311 - val_loss: 1.4801 - val_accuracy: 0.5963 - lr: 0.0010 - 11s/epoch - 296ms/step
Epoch 2/50
36/36 - 8s - loss: 0.1883 - accuracy: 0.9340 - val_loss: 1.5020 - val_accuracy: 0.5962 - lr: 0.0010 - 8s/epoch - 222ms/step
Epoch 3/50
36/36 - 8s - loss: 0.1872 - accuracy: 0.9350 - val_loss: 1.5039 - val_accuracy: 0.5953 - lr: 0.0010 - 8s/epoch - 220ms/step
Epoch 4/50
36/36 - 8s - loss: 0.1851 - accuracy: 0.9358 - val_loss: 1.5269 - val_accuracy: 0.5936 - lr: 0.0010 - 8s/epoch - 220ms/step
Epoch 5/50
36/36 - 8s - loss: 0.1847 - accuracy: 0.9361 - val_loss: 1.5517 - val_accuracy: 0.5902 - lr: 0.0010 - 8s/epoch - 216ms/step
Epoch 6/50
36/36 - 8s - loss: 0.1838 - accuracy: 0.9361 - val_loss: 1.5360 - val_accuracy: 0.5945 - lr: 0.0010 - 8s/epoch - 214ms/step
Epoch 7/50
36/36 - 7s - loss: 0.1834 - accuracy: 0.9365 - val_loss: 1.5171 - val_accuracy: 0.5986 - lr: 0.0010 - 7s/epoch - 207ms/step
Epoch 8/50
36/36 - 7s - loss: 0.1853 - accuracy: 0.9355 - val_loss: 1.5776 - val_accuracy: 0.5883 - lr: 0.0010 - 7s/epoch - 204ms/step
Epoch 9/50
36/36 - 8s - loss: 0.1821 - accuracy: 0.9367 - val_loss: 1.5187 - val_accuracy: 0.6038 - lr: 0.0010 - 8s/epoch - 208ms/step
Epoch 10/50
36/36 - 7s - loss: 0.1825 - accuracy: 0.9361 - val_loss: 1.5528 - val_accuracy: 0.5924 - lr: 0.0010 - 7s/epoch - 204ms/step
Epoch 11/50
36/36 - 7s - loss: 0.1822 - accuracy: 0.9361 - val_loss: 1.6024 - val_accuracy: 0.5867 - lr: 0.0010 - 7s/epoch - 206ms/step
Epoch 12/50
36/36 - 7s - loss: 0.1812 - accuracy: 0.9366 - val_loss: 1.5372 - val_accuracy: 0.5985 - lr: 0.0010 - 7s/epoch - 206ms/step
Epoch 13/50
36/36 - 7s - loss: 0.1827 - accuracy: 0.9358 - val_loss: 1.5405 - val_accuracy: 0.5963 - lr: 0.0010 - 7s/epoch - 208ms/step
Epoch 14/50
36/36 - 7s - loss: 0.1822 - accuracy: 0.9363 - val_loss: 1.5820 - val_accuracy: 0.5907 - lr: 0.0010 - 7s/epoch - 206ms/step
Epoch 15/50
36/36 - 7s - loss: 0.1795 - accuracy: 0.9380 - val_loss: 1.5271 - val_accuracy: 0.5997 - lr: 0.0010 - 7s/epoch - 207ms/step
Epoch 16/50
36/36 - 8s - loss: 0.1822 - accuracy: 0.9369 - val_loss: 1.5636 - val_accuracy: 0.5936 - lr: 0.0010 - 8s/epoch - 218ms/step
Epoch 17/50
36/36 - 8s - loss: 0.1818 - accuracy: 0.9368 - val_loss: 1.5636 - val_accuracy: 0.5950 - lr: 0.0010 - 8s/epoch - 218ms/step
Epoch 18/50
36/36 - 8s - loss: 0.1826 - accuracy: 0.9363 - val_loss: 1.5411 - val_accuracy: 0.5976 - lr: 0.0010 - 8s/epoch - 212ms/step
Epoch 19/50
36/36 - 8s - loss: 0.1807 - accuracy: 0.9373 - val_loss: 1.5463 - val_accuracy: 0.5936 - lr: 0.0010 - 8s/epoch - 214ms/step
Epoch 20/50
36/36 - 8s - loss: 0.1826 - accuracy: 0.9368 - val_loss: 1.5643 - val_accuracy: 0.5944 - lr: 0.0010 - 8s/epoch - 216ms/step
Epoch 21/50
36/36 - 8s - loss: 0.1802 - accuracy: 0.9376 - val_loss: 1.5877 - val_accuracy: 0.5894 - lr: 0.0010 - 8s/epoch - 215ms/step
Epoch 22/50
36/36 - 8s - loss: 0.1816 - accuracy: 0.9361 - val_loss: 1.5649 - val_accuracy: 0.5900 - lr: 0.0010 - 8s/epoch - 214ms/step
Epoch 23/50
36/36 - 8s - loss: 0.1781 - accuracy: 0.9380 - val_loss: 1.5431 - val_accuracy: 0.5973 - lr: 0.0010 - 8s/epoch - 217ms/step
Epoch 24/50
36/36 - 8s - loss: 0.1790 - accuracy: 0.9376 - val_loss: 1.5881 - val_accuracy: 0.5940 - lr: 0.0010 - 8s/epoch - 216ms/step
Epoch 25/50
36/36 - 8s - loss: 0.1764 - accuracy: 0.9381 - val_loss: 1.6346 - val_accuracy: 0.5844 - lr: 0.0010 - 8s/epoch - 216ms/step
Epoch 26/50
36/36 - 8s - loss: 0.1799 - accuracy: 0.9376 - val_loss: 1.5852 - val_accuracy: 0.5910 - lr: 0.0010 - 8s/epoch - 213ms/step
Epoch 27/50
36/36 - 8s - loss: 0.1786 - accuracy: 0.9380 - val_loss: 1.5791 - val_accuracy: 0.5946 - lr: 0.0010 - 8s/epoch - 214ms/step
Epoch 28/50
36/36 - 8s - loss: 0.1752 - accuracy: 0.9389 - val_loss: 1.5611 - val_accuracy: 0.6001 - lr: 0.0010 - 8s/epoch - 214ms/step
Epoch 29/50
36/36 - 8s - loss: 0.1816 - accuracy: 0.9363 - val_loss: 1.5704 - val_accuracy: 0.5962 - lr: 0.0010 - 8s/epoch - 213ms/step
Epoch 30/50
36/36 - 8s - loss: 0.1787 - accuracy: 0.9371 - val_loss: 1.5498 - val_accuracy: 0.5989 - lr: 0.0010 - 8s/epoch - 214ms/step
Epoch 31/50
36/36 - 8s - loss: 0.1809 - accuracy: 0.9366 - val_loss: 1.6018 - val_accuracy: 0.5902 - lr: 0.0010 - 8s/epoch - 213ms/step
Epoch 32/50
36/36 - 8s - loss: 0.1759 - accuracy: 0.9387 - val_loss: 1.5836 - val_accuracy: 0.5919 - lr: 0.0010 - 8s/epoch - 214ms/step
Epoch 33/50
36/36 - 8s - loss: 0.1806 - accuracy: 0.9364 - val_loss: 1.5915 - val_accuracy: 0.5912 - lr: 0.0010 - 8s/epoch - 213ms/step
Epoch 34/50
36/36 - 7s - loss: 0.1796 - accuracy: 0.9378 - val_loss: 1.5786 - val_accuracy: 0.5915 - lr: 0.0010 - 7s/epoch - 204ms/step
Epoch 35/50
36/36 - 8s - loss: 0.1794 - accuracy: 0.9374 - val_loss: 1.5835 - val_accuracy: 0.5928 - lr: 0.0010 - 8s/epoch - 209ms/step
Epoch 36/50
36/36 - 7s - loss: 0.1785 - accuracy: 0.9374 - val_loss: 1.5517 - val_accuracy: 0.5945 - lr: 0.0010 - 7s/epoch - 205ms/step
Epoch 37/50
36/36 - 7s - loss: 0.1794 - accuracy: 0.9375 - val_loss: 1.6075 - val_accuracy: 0.5829 - lr: 0.0010 - 7s/epoch - 204ms/step
Epoch 38/50
36/36 - 7s - loss: 0.1786 - accuracy: 0.9381 - val_loss: 1.5455 - val_accuracy: 0.5992 - lr: 0.0010 - 7s/epoch - 204ms/step
Epoch 39/50
36/36 - 8s - loss: 0.1773 - accuracy: 0.9383 - val_loss: 1.5817 - val_accuracy: 0.5916 - lr: 0.0010 - 8s/epoch - 209ms/step
Epoch 40/50
36/36 - 7s - loss: 0.1774 - accuracy: 0.9375 - val_loss: 1.5929 - val_accuracy: 0.5884 - lr: 0.0010 - 7s/epoch - 206ms/step
Epoch 41/50
36/36 - 7s - loss: 0.1747 - accuracy: 0.9392 - val_loss: 1.5744 - val_accuracy: 0.5948 - lr: 0.0010 - 7s/epoch - 205ms/step
Epoch 42/50
36/36 - 7s - loss: 0.1760 - accuracy: 0.9387 - val_loss: 1.5831 - val_accuracy: 0.5898 - lr: 0.0010 - 7s/epoch - 204ms/step
Epoch 43/50
36/36 - 8s - loss: 0.1710 - accuracy: 0.9403 - val_loss: 1.5719 - val_accuracy: 0.5945 - lr: 0.0010 - 8s/epoch - 209ms/step
Epoch 44/50
36/36 - 8s - loss: 0.1789 - accuracy: 0.9378 - val_loss: 1.5679 - val_accuracy: 0.5941 - lr: 0.0010 - 8s/epoch - 212ms/step
Epoch 45/50
36/36 - 8s - loss: 0.1752 - accuracy: 0.9389 - val_loss: 1.5879 - val_accuracy: 0.5938 - lr: 0.0010 - 8s/epoch - 212ms/step
Epoch 46/50
36/36 - 7s - loss: 0.1732 - accuracy: 0.9400 - val_loss: 1.5626 - val_accuracy: 0.5979 - lr: 0.0010 - 7s/epoch - 205ms/step
Epoch 47/50
36/36 - 8s - loss: 0.1781 - accuracy: 0.9375 - val_loss: 1.5618 - val_accuracy: 0.5957 - lr: 0.0010 - 8s/epoch - 213ms/step
Epoch 48/50
36/36 - 8s - loss: 0.1774 - accuracy: 0.9389 - val_loss: 1.6126 - val_accuracy: 0.5898 - lr: 0.0010 - 8s/epoch - 213ms/step
Epoch 49/50
36/36 - 8s - loss: 0.1753 - accuracy: 0.9389 - val_loss: 1.6357 - val_accuracy: 0.5862 - lr: 0.0010 - 8s/epoch - 214ms/step
Epoch 50/50
36/36 - 8s - loss: 0.1806 - accuracy: 0.9361 - val_loss: 1.6077 - val_accuracy: 0.5898 - lr: 0.0010 - 8s/epoch - 214ms/step
Epoch 1/75
4378/4378 - 73s - loss: 0.3905 - accuracy: 0.8556 - val_loss: 1.1639 - val_accuracy: 0.6110 - lr: 0.0010 - 73s/epoch - 17ms/step
Epoch 2/75
4378/4378 - 70s - loss: 0.4023 - accuracy: 0.8484 - val_loss: 0.9494 - val_accuracy: 0.6707 - lr: 0.0010 - 70s/epoch - 16ms/step
Epoch 3/75
4378/4378 - 71s - loss: 0.4144 - accuracy: 0.8452 - val_loss: 1.0238 - val_accuracy: 0.6381 - lr: 0.0010 - 71s/epoch - 16ms/step
Epoch 4/75
4378/4378 - 76s - loss: 0.4144 - accuracy: 0.8450 - val_loss: 1.0161 - val_accuracy: 0.6314 - lr: 0.0010 - 76s/epoch - 17ms/step
Epoch 5/75
4378/4378 - 76s - loss: 0.4174 - accuracy: 0.8440 - val_loss: 0.9648 - val_accuracy: 0.6361 - lr: 0.0010 - 76s/epoch - 17ms/step
Epoch 6/75
4378/4378 - 74s - loss: 0.4177 - accuracy: 0.8435 - val_loss: 1.1556 - val_accuracy: 0.5925 - lr: 0.0010 - 74s/epoch - 17ms/step
Epoch 7/75
4378/4378 - 75s - loss: 0.4123 - accuracy: 0.8454 - val_loss: 1.0957 - val_accuracy: 0.6109 - lr: 0.0010 - 75s/epoch - 17ms/step
Epoch 8/75
4378/4378 - 73s - loss: 0.4156 - accuracy: 0.8454 - val_loss: 0.9755 - val_accuracy: 0.6494 - lr: 0.0010 - 73s/epoch - 17ms/step
Epoch 9/75
4378/4378 - 80s - loss: 0.4143 - accuracy: 0.8439 - val_loss: 0.9461 - val_accuracy: 0.6318 - lr: 0.0010 - 80s/epoch - 18ms/step
Epoch 10/75
4378/4378 - 83s - loss: 0.4157 - accuracy: 0.8441 - val_loss: 1.1308 - val_accuracy: 0.5944 - lr: 0.0010 - 83s/epoch - 19ms/step
Epoch 11/75
4378/4378 - 74s - loss: 0.4152 - accuracy: 0.8456 - val_loss: 1.1248 - val_accuracy: 0.5962 - lr: 0.0010 - 74s/epoch - 17ms/step
Epoch 12/75
4378/4378 - 75s - loss: 0.4127 - accuracy: 0.8462 - val_loss: 1.0738 - val_accuracy: 0.6134 - lr: 0.0010 - 75s/epoch - 17ms/step
Epoch 13/75
4378/4378 - 77s - loss: 0.4132 - accuracy: 0.8448 - val_loss: 0.8694 - val_accuracy: 0.6755 - lr: 0.0010 - 77s/epoch - 18ms/step
Epoch 14/75
4378/4378 - 73s - loss: 0.4142 - accuracy: 0.8462 - val_loss: 0.9479 - val_accuracy: 0.6494 - lr: 0.0010 - 73s/epoch - 17ms/step
Epoch 15/75
4378/4378 - 78s - loss: 0.4102 - accuracy: 0.8461 - val_loss: 0.9248 - val_accuracy: 0.6651 - lr: 0.0010 - 78s/epoch - 18ms/step
Epoch 16/75
4378/4378 - 76s - loss: 0.4122 - accuracy: 0.8458 - val_loss: 1.0019 - val_accuracy: 0.6253 - lr: 0.0010 - 76s/epoch - 17ms/step
Epoch 17/75
4378/4378 - 72s - loss: 0.4110 - accuracy: 0.8463 - val_loss: 1.0700 - val_accuracy: 0.6089 - lr: 0.0010 - 72s/epoch - 16ms/step
Epoch 18/75
4378/4378 - 72s - loss: 0.4123 - accuracy: 0.8456 - val_loss: 1.0193 - val_accuracy: 0.6068 - lr: 0.0010 - 72s/epoch - 17ms/step
Epoch 19/75
4378/4378 - 72s - loss: 0.4106 - accuracy: 0.8468 - val_loss: 1.0422 - val_accuracy: 0.6403 - lr: 0.0010 - 72s/epoch - 17ms/step
Epoch 20/75
4378/4378 - 73s - loss: 0.4125 - accuracy: 0.8450 - val_loss: 1.0493 - val_accuracy: 0.6298 - lr: 0.0010 - 73s/epoch - 17ms/step
Epoch 21/75
4378/4378 - 73s - loss: 0.4134 - accuracy: 0.8464 - val_loss: 0.9717 - val_accuracy: 0.6447 - lr: 0.0010 - 73s/epoch - 17ms/step
Epoch 22/75
4378/4378 - 73s - loss: 0.4127 - accuracy: 0.8462 - val_loss: 1.1185 - val_accuracy: 0.5811 - lr: 0.0010 - 73s/epoch - 17ms/step
Epoch 23/75
4378/4378 - 73s - loss: 0.4089 - accuracy: 0.8475 - val_loss: 0.8610 - val_accuracy: 0.7031 - lr: 0.0010 - 73s/epoch - 17ms/step
Epoch 24/75
4378/4378 - 73s - loss: 0.4119 - accuracy: 0.8453 - val_loss: 1.0752 - val_accuracy: 0.6122 - lr: 0.0010 - 73s/epoch - 17ms/step
Epoch 25/75
4378/4378 - 73s - loss: 0.4107 - accuracy: 0.8465 - val_loss: 1.0847 - val_accuracy: 0.5964 - lr: 0.0010 - 73s/epoch - 17ms/step
Epoch 26/75
4378/4378 - 72s - loss: 0.4111 - accuracy: 0.8466 - val_loss: 0.9432 - val_accuracy: 0.6481 - lr: 0.0010 - 72s/epoch - 17ms/step
Epoch 27/75
4378/4378 - 73s - loss: 0.4106 - accuracy: 0.8483 - val_loss: 1.0954 - val_accuracy: 0.5975 - lr: 0.0010 - 73s/epoch - 17ms/step
Epoch 28/75
4378/4378 - 73s - loss: 0.4120 - accuracy: 0.8462 - val_loss: 0.9276 - val_accuracy: 0.6575 - lr: 0.0010 - 73s/epoch - 17ms/step
Epoch 29/75
4378/4378 - 72s - loss: 0.4062 - accuracy: 0.8483 - val_loss: 1.0270 - val_accuracy: 0.6253 - lr: 0.0010 - 72s/epoch - 17ms/step
Epoch 30/75
4378/4378 - 73s - loss: 0.4082 - accuracy: 0.8480 - val_loss: 1.1418 - val_accuracy: 0.5914 - lr: 0.0010 - 73s/epoch - 17ms/step
Epoch 31/75
4378/4378 - 73s - loss: 0.4104 - accuracy: 0.8464 - val_loss: 1.0706 - val_accuracy: 0.6068 - lr: 0.0010 - 73s/epoch - 17ms/step
Epoch 32/75
4378/4378 - 72s - loss: 0.4058 - accuracy: 0.8481 - val_loss: 1.0642 - val_accuracy: 0.6260 - lr: 0.0010 - 72s/epoch - 17ms/step
Epoch 33/75
4378/4378 - 73s - loss: 0.4089 - accuracy: 0.8483 - val_loss: 1.0287 - val_accuracy: 0.6102 - lr: 0.0010 - 73s/epoch - 17ms/step
Epoch 34/75
4378/4378 - 73s - loss: 0.4074 - accuracy: 0.8469 - val_loss: 1.0126 - val_accuracy: 0.6464 - lr: 0.0010 - 73s/epoch - 17ms/step
Epoch 35/75
4378/4378 - 73s - loss: 0.4079 - accuracy: 0.8471 - val_loss: 0.9234 - val_accuracy: 0.6639 - lr: 0.0010 - 73s/epoch - 17ms/step
Epoch 36/75
4378/4378 - 73s - loss: 0.4073 - accuracy: 0.8479 - val_loss: 0.9466 - val_accuracy: 0.6526 - lr: 0.0010 - 73s/epoch - 17ms/step
Epoch 37/75
4378/4378 - 73s - loss: 0.4060 - accuracy: 0.8482 - val_loss: 1.1594 - val_accuracy: 0.5800 - lr: 0.0010 - 73s/epoch - 17ms/step
Epoch 38/75
4378/4378 - 73s - loss: 0.4014 - accuracy: 0.8504 - val_loss: 1.0810 - val_accuracy: 0.6016 - lr: 0.0010 - 73s/epoch - 17ms/step
Epoch 39/75
4378/4378 - 72s - loss: 0.4068 - accuracy: 0.8478 - val_loss: 1.0919 - val_accuracy: 0.5945 - lr: 0.0010 - 72s/epoch - 17ms/step
Epoch 40/75
4378/4378 - 73s - loss: 0.4046 - accuracy: 0.8486 - val_loss: 1.2019 - val_accuracy: 0.5302 - lr: 0.0010 - 73s/epoch - 17ms/step
Epoch 41/75
4378/4378 - 73s - loss: 0.4049 - accuracy: 0.8492 - val_loss: 0.9925 - val_accuracy: 0.6222 - lr: 0.0010 - 73s/epoch - 17ms/step
Epoch 42/75
4378/4378 - 73s - loss: 0.4067 - accuracy: 0.8487 - val_loss: 1.0695 - val_accuracy: 0.6122 - lr: 0.0010 - 73s/epoch - 17ms/step
Epoch 43/75
4378/4378 - 72s - loss: 0.4035 - accuracy: 0.8501 - val_loss: 1.2809 - val_accuracy: 0.5330 - lr: 0.0010 - 72s/epoch - 17ms/step
Epoch 44/75
4378/4378 - 72s - loss: 0.4042 - accuracy: 0.8500 - val_loss: 1.1344 - val_accuracy: 0.5827 - lr: 0.0010 - 72s/epoch - 17ms/step
Epoch 45/75
4378/4378 - 73s - loss: 0.4033 - accuracy: 0.8503 - val_loss: 1.1380 - val_accuracy: 0.5880 - lr: 0.0010 - 73s/epoch - 17ms/step
Epoch 46/75
4378/4378 - 73s - loss: 0.3995 - accuracy: 0.8509 - val_loss: 1.1801 - val_accuracy: 0.5710 - lr: 0.0010 - 73s/epoch - 17ms/step
Epoch 47/75
4378/4378 - 73s - loss: 0.4008 - accuracy: 0.8498 - val_loss: 1.1138 - val_accuracy: 0.5825 - lr: 0.0010 - 73s/epoch - 17ms/step
Epoch 48/75
4378/4378 - 73s - loss: 0.3993 - accuracy: 0.8509 - val_loss: 0.8920 - val_accuracy: 0.6636 - lr: 0.0010 - 73s/epoch - 17ms/step
Epoch 49/75
4378/4378 - 73s - loss: 0.3971 - accuracy: 0.8513 - val_loss: 1.0433 - val_accuracy: 0.6259 - lr: 0.0010 - 73s/epoch - 17ms/step
Epoch 50/75
4378/4378 - 73s - loss: 0.3995 - accuracy: 0.8511 - val_loss: 0.9963 - val_accuracy: 0.6448 - lr: 0.0010 - 73s/epoch - 17ms/step
Epoch 51/75
4378/4378 - 73s - loss: 0.3985 - accuracy: 0.8514 - val_loss: 1.1317 - val_accuracy: 0.5853 - lr: 0.0010 - 73s/epoch - 17ms/step
Epoch 52/75
4378/4378 - 72s - loss: 0.4013 - accuracy: 0.8510 - val_loss: 1.0617 - val_accuracy: 0.6239 - lr: 0.0010 - 72s/epoch - 17ms/step
Epoch 53/75
4378/4378 - 73s - loss: 0.4000 - accuracy: 0.8499 - val_loss: 1.0428 - val_accuracy: 0.6205 - lr: 0.0010 - 73s/epoch - 17ms/step
Epoch 54/75
4378/4378 - 73s - loss: 0.4001 - accuracy: 0.8503 - val_loss: 0.9729 - val_accuracy: 0.6458 - lr: 0.0010 - 73s/epoch - 17ms/step
Epoch 55/75
4378/4378 - 73s - loss: 0.3940 - accuracy: 0.8542 - val_loss: 1.0009 - val_accuracy: 0.6353 - lr: 0.0010 - 73s/epoch - 17ms/step
Epoch 56/75
4378/4378 - 73s - loss: 0.3958 - accuracy: 0.8521 - val_loss: 1.1066 - val_accuracy: 0.6066 - lr: 0.0010 - 73s/epoch - 17ms/step
Epoch 57/75
4378/4378 - 73s - loss: 0.3960 - accuracy: 0.8523 - val_loss: 0.9422 - val_accuracy: 0.6471 - lr: 0.0010 - 73s/epoch - 17ms/step
Epoch 58/75
4378/4378 - 73s - loss: 0.3938 - accuracy: 0.8523 - val_loss: 1.2440 - val_accuracy: 0.5629 - lr: 0.0010 - 73s/epoch - 17ms/step
Epoch 59/75
4378/4378 - 72s - loss: 0.3962 - accuracy: 0.8520 - val_loss: 1.0224 - val_accuracy: 0.6184 - lr: 0.0010 - 72s/epoch - 17ms/step
Epoch 60/75
4378/4378 - 72s - loss: 0.3963 - accuracy: 0.8523 - val_loss: 1.1116 - val_accuracy: 0.5942 - lr: 0.0010 - 72s/epoch - 17ms/step
Epoch 61/75
4378/4378 - 73s - loss: 0.3979 - accuracy: 0.8505 - val_loss: 1.1694 - val_accuracy: 0.5779 - lr: 0.0010 - 73s/epoch - 17ms/step
Epoch 62/75
4378/4378 - 73s - loss: 0.3957 - accuracy: 0.8533 - val_loss: 0.9978 - val_accuracy: 0.6300 - lr: 0.0010 - 73s/epoch - 17ms/step
Epoch 63/75
4378/4378 - 73s - loss: 0.3934 - accuracy: 0.8544 - val_loss: 0.9913 - val_accuracy: 0.6459 - lr: 0.0010 - 73s/epoch - 17ms/step
Epoch 64/75
4378/4378 - 73s - loss: 0.3980 - accuracy: 0.8522 - val_loss: 1.1036 - val_accuracy: 0.5785 - lr: 0.0010 - 73s/epoch - 17ms/step
Epoch 65/75
4378/4378 - 72s - loss: 0.3946 - accuracy: 0.8537 - val_loss: 1.1670 - val_accuracy: 0.5697 - lr: 0.0010 - 72s/epoch - 17ms/step
Epoch 66/75
4378/4378 - 73s - loss: 0.3922 - accuracy: 0.8540 - val_loss: 1.0468 - val_accuracy: 0.6329 - lr: 0.0010 - 73s/epoch - 17ms/step
Epoch 67/75
4378/4378 - 72s - loss: 0.3912 - accuracy: 0.8535 - val_loss: 1.1670 - val_accuracy: 0.5802 - lr: 0.0010 - 72s/epoch - 16ms/step
Epoch 68/75
4378/4378 - 73s - loss: 0.3952 - accuracy: 0.8533 - val_loss: 1.1802 - val_accuracy: 0.5800 - lr: 0.0010 - 73s/epoch - 17ms/step
Epoch 69/75
4378/4378 - 73s - loss: 0.3913 - accuracy: 0.8539 - val_loss: 1.2112 - val_accuracy: 0.5742 - lr: 0.0010 - 73s/epoch - 17ms/step
Epoch 70/75
4378/4378 - 73s - loss: 0.3923 - accuracy: 0.8546 - val_loss: 1.2337 - val_accuracy: 0.5773 - lr: 0.0010 - 73s/epoch - 17ms/step
Epoch 71/75
4378/4378 - 73s - loss: 0.3884 - accuracy: 0.8561 - val_loss: 1.0568 - val_accuracy: 0.6042 - lr: 0.0010 - 73s/epoch - 17ms/step
Epoch 72/75
4378/4378 - 73s - loss: 0.3929 - accuracy: 0.8535 - val_loss: 1.0901 - val_accuracy: 0.6006 - lr: 0.0010 - 73s/epoch - 17ms/step
Epoch 73/75
4378/4378 - 78s - loss: 0.3894 - accuracy: 0.8557 - val_loss: 1.1598 - val_accuracy: 0.5885 - lr: 0.0010 - 78s/epoch - 18ms/step
Epoch 74/75
4378/4378 - 75s - loss: 0.3867 - accuracy: 0.8560 - val_loss: 1.1161 - val_accuracy: 0.5928 - lr: 0.0010 - 75s/epoch - 17ms/step
Epoch 75/75
4378/4378 - 76s - loss: 0.3854 - accuracy: 0.8558 - val_loss: 1.0921 - val_accuracy: 0.6190 - lr: 0.0010 - 76s/epoch - 17ms/step
Epoch 1/75
876/876 - 21s - loss: 0.2972 - accuracy: 0.8916 - val_loss: 1.2103 - val_accuracy: 0.6096 - lr: 0.0010 - 21s/epoch - 24ms/step
Epoch 2/75
876/876 - 18s - loss: 0.3010 - accuracy: 0.8899 - val_loss: 1.3042 - val_accuracy: 0.5715 - lr: 0.0010 - 18s/epoch - 20ms/step
Epoch 3/75
876/876 - 18s - loss: 0.2971 - accuracy: 0.8899 - val_loss: 1.3122 - val_accuracy: 0.5762 - lr: 0.0010 - 18s/epoch - 21ms/step
Epoch 4/75
876/876 - 18s - loss: 0.2976 - accuracy: 0.8905 - val_loss: 1.3372 - val_accuracy: 0.5456 - lr: 0.0010 - 18s/epoch - 21ms/step
Epoch 5/75
876/876 - 18s - loss: 0.2907 - accuracy: 0.8929 - val_loss: 1.4038 - val_accuracy: 0.5527 - lr: 0.0010 - 18s/epoch - 20ms/step
Epoch 6/75
876/876 - 18s - loss: 0.2873 - accuracy: 0.8936 - val_loss: 1.3222 - val_accuracy: 0.5575 - lr: 0.0010 - 18s/epoch - 21ms/step
Epoch 7/75
876/876 - 17s - loss: 0.2845 - accuracy: 0.8960 - val_loss: 1.4580 - val_accuracy: 0.5337 - lr: 0.0010 - 17s/epoch - 19ms/step
Epoch 8/75
876/876 - 17s - loss: 0.2846 - accuracy: 0.8964 - val_loss: 1.4031 - val_accuracy: 0.5689 - lr: 0.0010 - 17s/epoch - 20ms/step
Epoch 9/75
876/876 - 17s - loss: 0.2813 - accuracy: 0.8967 - val_loss: 1.3590 - val_accuracy: 0.5685 - lr: 0.0010 - 17s/epoch - 19ms/step
Epoch 10/75
876/876 - 17s - loss: 0.2782 - accuracy: 0.8983 - val_loss: 1.2958 - val_accuracy: 0.5959 - lr: 0.0010 - 17s/epoch - 19ms/step
Epoch 11/75
876/876 - 17s - loss: 0.2778 - accuracy: 0.8986 - val_loss: 1.3213 - val_accuracy: 0.5790 - lr: 0.0010 - 17s/epoch - 19ms/step
Epoch 12/75
876/876 - 17s - loss: 0.2765 - accuracy: 0.8977 - val_loss: 1.1945 - val_accuracy: 0.6186 - lr: 0.0010 - 17s/epoch - 19ms/step
Epoch 13/75
876/876 - 17s - loss: 0.2722 - accuracy: 0.9004 - val_loss: 1.4123 - val_accuracy: 0.5645 - lr: 0.0010 - 17s/epoch - 19ms/step
Epoch 14/75
876/876 - 17s - loss: 0.2730 - accuracy: 0.9005 - val_loss: 1.4816 - val_accuracy: 0.5272 - lr: 0.0010 - 17s/epoch - 19ms/step
Epoch 15/75
876/876 - 17s - loss: 0.2738 - accuracy: 0.8995 - val_loss: 1.3834 - val_accuracy: 0.5713 - lr: 0.0010 - 17s/epoch - 19ms/step
Epoch 16/75
876/876 - 17s - loss: 0.2731 - accuracy: 0.8993 - val_loss: 1.4007 - val_accuracy: 0.5584 - lr: 0.0010 - 17s/epoch - 19ms/step
Epoch 17/75
876/876 - 17s - loss: 0.2723 - accuracy: 0.9001 - val_loss: 1.3280 - val_accuracy: 0.5766 - lr: 0.0010 - 17s/epoch - 20ms/step
Epoch 18/75
876/876 - 18s - loss: 0.2688 - accuracy: 0.9009 - val_loss: 1.4110 - val_accuracy: 0.5728 - lr: 0.0010 - 18s/epoch - 21ms/step
Epoch 19/75
876/876 - 18s - loss: 0.2677 - accuracy: 0.9008 - val_loss: 1.2831 - val_accuracy: 0.5934 - lr: 0.0010 - 18s/epoch - 21ms/step
Epoch 20/75
876/876 - 18s - loss: 0.2666 - accuracy: 0.9020 - val_loss: 1.5393 - val_accuracy: 0.5187 - lr: 0.0010 - 18s/epoch - 20ms/step
Epoch 21/75
876/876 - 18s - loss: 0.2699 - accuracy: 0.8999 - val_loss: 1.4483 - val_accuracy: 0.5444 - lr: 0.0010 - 18s/epoch - 21ms/step
Epoch 22/75
876/876 - 18s - loss: 0.2647 - accuracy: 0.9030 - val_loss: 1.3296 - val_accuracy: 0.6093 - lr: 0.0010 - 18s/epoch - 21ms/step
Epoch 23/75
876/876 - 18s - loss: 0.2672 - accuracy: 0.9029 - val_loss: 1.3172 - val_accuracy: 0.5945 - lr: 0.0010 - 18s/epoch - 21ms/step
Epoch 24/75
876/876 - 18s - loss: 0.2624 - accuracy: 0.9025 - val_loss: 1.4582 - val_accuracy: 0.5685 - lr: 0.0010 - 18s/epoch - 21ms/step
Epoch 25/75
876/876 - 18s - loss: 0.2671 - accuracy: 0.9018 - val_loss: 1.4724 - val_accuracy: 0.5338 - lr: 0.0010 - 18s/epoch - 21ms/step
Epoch 26/75
876/876 - 18s - loss: 0.2627 - accuracy: 0.9033 - val_loss: 1.4955 - val_accuracy: 0.5407 - lr: 0.0010 - 18s/epoch - 21ms/step
Epoch 27/75
876/876 - 18s - loss: 0.2599 - accuracy: 0.9045 - val_loss: 1.4965 - val_accuracy: 0.5590 - lr: 0.0010 - 18s/epoch - 20ms/step
Epoch 28/75
876/876 - 18s - loss: 0.2614 - accuracy: 0.9040 - val_loss: 1.4341 - val_accuracy: 0.5738 - lr: 0.0010 - 18s/epoch - 20ms/step
Epoch 29/75
876/876 - 18s - loss: 0.2577 - accuracy: 0.9043 - val_loss: 1.3890 - val_accuracy: 0.5752 - lr: 0.0010 - 18s/epoch - 20ms/step
Epoch 30/75
876/876 - 18s - loss: 0.2620 - accuracy: 0.9037 - val_loss: 1.4205 - val_accuracy: 0.5587 - lr: 0.0010 - 18s/epoch - 20ms/step
Epoch 31/75
876/876 - 18s - loss: 0.2616 - accuracy: 0.9029 - val_loss: 1.3481 - val_accuracy: 0.5884 - lr: 0.0010 - 18s/epoch - 20ms/step
Epoch 32/75
876/876 - 18s - loss: 0.2598 - accuracy: 0.9042 - val_loss: 1.3477 - val_accuracy: 0.5833 - lr: 0.0010 - 18s/epoch - 21ms/step
Epoch 33/75
876/876 - 18s - loss: 0.2586 - accuracy: 0.9039 - val_loss: 1.4223 - val_accuracy: 0.5735 - lr: 0.0010 - 18s/epoch - 21ms/step
Epoch 34/75
876/876 - 18s - loss: 0.2608 - accuracy: 0.9030 - val_loss: 1.4765 - val_accuracy: 0.5573 - lr: 0.0010 - 18s/epoch - 21ms/step
Epoch 35/75
876/876 - 18s - loss: 0.2560 - accuracy: 0.9050 - val_loss: 1.5380 - val_accuracy: 0.5361 - lr: 0.0010 - 18s/epoch - 21ms/step
Epoch 36/75
876/876 - 18s - loss: 0.2590 - accuracy: 0.9042 - val_loss: 1.4109 - val_accuracy: 0.5620 - lr: 0.0010 - 18s/epoch - 21ms/step
Epoch 37/75
876/876 - 18s - loss: 0.2552 - accuracy: 0.9052 - val_loss: 1.4942 - val_accuracy: 0.5529 - lr: 0.0010 - 18s/epoch - 21ms/step
Epoch 38/75
876/876 - 18s - loss: 0.2572 - accuracy: 0.9056 - val_loss: 1.3031 - val_accuracy: 0.6030 - lr: 0.0010 - 18s/epoch - 21ms/step
Epoch 39/75
876/876 - 18s - loss: 0.2533 - accuracy: 0.9065 - val_loss: 1.4777 - val_accuracy: 0.5548 - lr: 0.0010 - 18s/epoch - 21ms/step
Epoch 40/75
876/876 - 18s - loss: 0.2547 - accuracy: 0.9062 - val_loss: 1.6275 - val_accuracy: 0.5237 - lr: 0.0010 - 18s/epoch - 20ms/step
Epoch 41/75
876/876 - 18s - loss: 0.2541 - accuracy: 0.9061 - val_loss: 1.5255 - val_accuracy: 0.5410 - lr: 0.0010 - 18s/epoch - 21ms/step
Epoch 42/75
876/876 - 18s - loss: 0.2522 - accuracy: 0.9066 - val_loss: 1.4244 - val_accuracy: 0.5803 - lr: 0.0010 - 18s/epoch - 21ms/step
Epoch 43/75
876/876 - 18s - loss: 0.2505 - accuracy: 0.9077 - val_loss: 1.5151 - val_accuracy: 0.5560 - lr: 0.0010 - 18s/epoch - 21ms/step
Epoch 44/75
876/876 - 18s - loss: 0.2529 - accuracy: 0.9054 - val_loss: 1.4558 - val_accuracy: 0.5529 - lr: 0.0010 - 18s/epoch - 21ms/step
Epoch 45/75
876/876 - 18s - loss: 0.2532 - accuracy: 0.9064 - val_loss: 1.5569 - val_accuracy: 0.5359 - lr: 0.0010 - 18s/epoch - 21ms/step
Epoch 46/75
876/876 - 18s - loss: 0.2519 - accuracy: 0.9074 - val_loss: 1.5480 - val_accuracy: 0.5491 - lr: 0.0010 - 18s/epoch - 21ms/step
Epoch 47/75
876/876 - 18s - loss: 0.2485 - accuracy: 0.9080 - val_loss: 1.5589 - val_accuracy: 0.5262 - lr: 0.0010 - 18s/epoch - 20ms/step
Epoch 48/75
876/876 - 19s - loss: 0.2488 - accuracy: 0.9097 - val_loss: 1.5069 - val_accuracy: 0.5499 - lr: 0.0010 - 19s/epoch - 22ms/step
Epoch 49/75
876/876 - 19s - loss: 0.2484 - accuracy: 0.9094 - val_loss: 1.6621 - val_accuracy: 0.5214 - lr: 0.0010 - 19s/epoch - 22ms/step
Epoch 50/75
876/876 - 19s - loss: 0.2490 - accuracy: 0.9081 - val_loss: 1.4272 - val_accuracy: 0.5936 - lr: 0.0010 - 19s/epoch - 22ms/step
Epoch 51/75
876/876 - 19s - loss: 0.2501 - accuracy: 0.9083 - val_loss: 1.3503 - val_accuracy: 0.5935 - lr: 0.0010 - 19s/epoch - 22ms/step
Epoch 52/75
876/876 - 19s - loss: 0.2502 - accuracy: 0.9085 - val_loss: 1.4584 - val_accuracy: 0.5789 - lr: 0.0010 - 19s/epoch - 21ms/step
Epoch 53/75
876/876 - 20s - loss: 0.2486 - accuracy: 0.9087 - val_loss: 1.6345 - val_accuracy: 0.5296 - lr: 0.0010 - 20s/epoch - 23ms/step
Epoch 54/75
876/876 - 21s - loss: 0.2459 - accuracy: 0.9099 - val_loss: 1.5158 - val_accuracy: 0.5408 - lr: 0.0010 - 21s/epoch - 24ms/step
Epoch 55/75
876/876 - 19s - loss: 0.2490 - accuracy: 0.9083 - val_loss: 1.4524 - val_accuracy: 0.5672 - lr: 0.0010 - 19s/epoch - 22ms/step
Epoch 56/75
876/876 - 18s - loss: 0.2470 - accuracy: 0.9092 - val_loss: 1.5666 - val_accuracy: 0.5363 - lr: 0.0010 - 18s/epoch - 20ms/step
Epoch 57/75
876/876 - 18s - loss: 0.2457 - accuracy: 0.9091 - val_loss: 1.3758 - val_accuracy: 0.5810 - lr: 0.0010 - 18s/epoch - 20ms/step
Epoch 58/75
876/876 - 19s - loss: 0.2477 - accuracy: 0.9091 - val_loss: 1.7174 - val_accuracy: 0.5047 - lr: 0.0010 - 19s/epoch - 22ms/step
Epoch 59/75
876/876 - 18s - loss: 0.2441 - accuracy: 0.9095 - val_loss: 1.4618 - val_accuracy: 0.5696 - lr: 0.0010 - 18s/epoch - 21ms/step
Epoch 60/75
876/876 - 19s - loss: 0.2444 - accuracy: 0.9103 - val_loss: 1.5839 - val_accuracy: 0.5572 - lr: 0.0010 - 19s/epoch - 21ms/step
Epoch 61/75
876/876 - 17s - loss: 0.2495 - accuracy: 0.9077 - val_loss: 1.7522 - val_accuracy: 0.4874 - lr: 0.0010 - 17s/epoch - 19ms/step
Epoch 62/75
876/876 - 17s - loss: 0.2475 - accuracy: 0.9089 - val_loss: 1.6013 - val_accuracy: 0.5307 - lr: 0.0010 - 17s/epoch - 19ms/step
Epoch 63/75
876/876 - 18s - loss: 0.2477 - accuracy: 0.9094 - val_loss: 1.6583 - val_accuracy: 0.5347 - lr: 0.0010 - 18s/epoch - 20ms/step
Epoch 64/75
876/876 - 17s - loss: 0.2454 - accuracy: 0.9089 - val_loss: 1.6892 - val_accuracy: 0.5223 - lr: 0.0010 - 17s/epoch - 20ms/step
Epoch 65/75
876/876 - 19s - loss: 0.2444 - accuracy: 0.9097 - val_loss: 1.7921 - val_accuracy: 0.5087 - lr: 0.0010 - 19s/epoch - 22ms/step
Epoch 66/75
876/876 - 18s - loss: 0.2430 - accuracy: 0.9107 - val_loss: 1.6866 - val_accuracy: 0.5152 - lr: 0.0010 - 18s/epoch - 20ms/step
Epoch 67/75
876/876 - 18s - loss: 0.2432 - accuracy: 0.9105 - val_loss: 1.5644 - val_accuracy: 0.5491 - lr: 0.0010 - 18s/epoch - 21ms/step
Epoch 68/75
876/876 - 18s - loss: 0.2428 - accuracy: 0.9098 - val_loss: 1.5735 - val_accuracy: 0.5441 - lr: 0.0010 - 18s/epoch - 21ms/step
Epoch 69/75
876/876 - 18s - loss: 0.2429 - accuracy: 0.9105 - val_loss: 1.7681 - val_accuracy: 0.4915 - lr: 0.0010 - 18s/epoch - 21ms/step
Epoch 70/75
876/876 - 19s - loss: 0.2400 - accuracy: 0.9109 - val_loss: 1.7344 - val_accuracy: 0.5348 - lr: 0.0010 - 19s/epoch - 21ms/step
Epoch 71/75
876/876 - 19s - loss: 0.2403 - accuracy: 0.9100 - val_loss: 1.7686 - val_accuracy: 0.5013 - lr: 0.0010 - 19s/epoch - 22ms/step
Epoch 72/75
876/876 - 20s - loss: 0.2428 - accuracy: 0.9097 - val_loss: 1.4360 - val_accuracy: 0.5708 - lr: 0.0010 - 20s/epoch - 23ms/step
Epoch 73/75
876/876 - 20s - loss: 0.2390 - accuracy: 0.9120 - val_loss: 1.6555 - val_accuracy: 0.5517 - lr: 0.0010 - 20s/epoch - 23ms/step
Epoch 74/75
876/876 - 19s - loss: 0.2407 - accuracy: 0.9108 - val_loss: 1.4988 - val_accuracy: 0.5523 - lr: 0.0010 - 19s/epoch - 22ms/step
Epoch 75/75
876/876 - 19s - loss: 0.2415 - accuracy: 0.9111 - val_loss: 1.6960 - val_accuracy: 0.5208 - lr: 0.0010 - 19s/epoch - 22ms/step
Epoch 1/75
176/176 - 14s - loss: 0.1865 - accuracy: 0.9345 - val_loss: 1.6045 - val_accuracy: 0.5611 - lr: 0.0010 - 14s/epoch - 78ms/step
Epoch 2/75
176/176 - 11s - loss: 0.1689 - accuracy: 0.9414 - val_loss: 1.6894 - val_accuracy: 0.5597 - lr: 0.0010 - 11s/epoch - 61ms/step
Epoch 3/75
176/176 - 12s - loss: 0.1641 - accuracy: 0.9423 - val_loss: 1.7561 - val_accuracy: 0.5523 - lr: 0.0010 - 12s/epoch - 70ms/step
Epoch 4/75
176/176 - 11s - loss: 0.1661 - accuracy: 0.9416 - val_loss: 1.8508 - val_accuracy: 0.5245 - lr: 0.0010 - 11s/epoch - 61ms/step
Epoch 5/75
176/176 - 10s - loss: 0.1676 - accuracy: 0.9404 - val_loss: 1.9338 - val_accuracy: 0.5233 - lr: 0.0010 - 10s/epoch - 59ms/step
Epoch 6/75
176/176 - 9s - loss: 0.1671 - accuracy: 0.9400 - val_loss: 1.8855 - val_accuracy: 0.5337 - lr: 0.0010 - 9s/epoch - 52ms/step
Epoch 7/75
176/176 - 9s - loss: 0.1721 - accuracy: 0.9379 - val_loss: 1.7924 - val_accuracy: 0.5523 - lr: 0.0010 - 9s/epoch - 49ms/step
Epoch 8/75
176/176 - 9s - loss: 0.1677 - accuracy: 0.9397 - val_loss: 1.8382 - val_accuracy: 0.5369 - lr: 0.0010 - 9s/epoch - 49ms/step
Epoch 9/75
176/176 - 9s - loss: 0.1661 - accuracy: 0.9401 - val_loss: 1.8615 - val_accuracy: 0.5455 - lr: 0.0010 - 9s/epoch - 49ms/step
Epoch 10/75
176/176 - 9s - loss: 0.1635 - accuracy: 0.9423 - val_loss: 2.0012 - val_accuracy: 0.5210 - lr: 0.0010 - 9s/epoch - 54ms/step
Epoch 11/75
176/176 - 9s - loss: 0.1638 - accuracy: 0.9412 - val_loss: 1.8737 - val_accuracy: 0.5476 - lr: 0.0010 - 9s/epoch - 53ms/step
Epoch 12/75
176/176 - 9s - loss: 0.1652 - accuracy: 0.9418 - val_loss: 1.8861 - val_accuracy: 0.5317 - lr: 0.0010 - 9s/epoch - 50ms/step
Epoch 13/75
176/176 - 10s - loss: 0.1630 - accuracy: 0.9421 - val_loss: 1.9399 - val_accuracy: 0.5239 - lr: 0.0010 - 10s/epoch - 56ms/step
Epoch 14/75
176/176 - 9s - loss: 0.1613 - accuracy: 0.9426 - val_loss: 1.9294 - val_accuracy: 0.5280 - lr: 0.0010 - 9s/epoch - 52ms/step
Epoch 15/75
176/176 - 11s - loss: 0.1620 - accuracy: 0.9419 - val_loss: 1.8540 - val_accuracy: 0.5444 - lr: 0.0010 - 11s/epoch - 61ms/step
Epoch 16/75
176/176 - 9s - loss: 0.1637 - accuracy: 0.9423 - val_loss: 1.9661 - val_accuracy: 0.5266 - lr: 0.0010 - 9s/epoch - 53ms/step
Epoch 17/75
176/176 - 9s - loss: 0.1670 - accuracy: 0.9406 - val_loss: 2.0418 - val_accuracy: 0.5080 - lr: 0.0010 - 9s/epoch - 50ms/step
Epoch 18/75
176/176 - 9s - loss: 0.1656 - accuracy: 0.9406 - val_loss: 2.0093 - val_accuracy: 0.5243 - lr: 0.0010 - 9s/epoch - 49ms/step
Epoch 19/75
176/176 - 9s - loss: 0.1616 - accuracy: 0.9415 - val_loss: 1.8686 - val_accuracy: 0.5460 - lr: 0.0010 - 9s/epoch - 51ms/step
Epoch 20/75
176/176 - 9s - loss: 0.1565 - accuracy: 0.9442 - val_loss: 1.9436 - val_accuracy: 0.5402 - lr: 0.0010 - 9s/epoch - 49ms/step
Epoch 21/75
176/176 - 8s - loss: 0.1555 - accuracy: 0.9443 - val_loss: 1.9734 - val_accuracy: 0.5286 - lr: 0.0010 - 8s/epoch - 48ms/step
Epoch 22/75
176/176 - 8s - loss: 0.1578 - accuracy: 0.9438 - val_loss: 2.1227 - val_accuracy: 0.5089 - lr: 0.0010 - 8s/epoch - 48ms/step
Epoch 23/75
176/176 - 9s - loss: 0.1576 - accuracy: 0.9439 - val_loss: 2.0056 - val_accuracy: 0.5250 - lr: 0.0010 - 9s/epoch - 50ms/step
Epoch 24/75
176/176 - 9s - loss: 0.1588 - accuracy: 0.9430 - val_loss: 1.9178 - val_accuracy: 0.5358 - lr: 0.0010 - 9s/epoch - 51ms/step
Epoch 25/75
176/176 - 9s - loss: 0.1605 - accuracy: 0.9421 - val_loss: 2.0042 - val_accuracy: 0.5209 - lr: 0.0010 - 9s/epoch - 52ms/step
Epoch 26/75
176/176 - 9s - loss: 0.1557 - accuracy: 0.9451 - val_loss: 1.8506 - val_accuracy: 0.5394 - lr: 0.0010 - 9s/epoch - 51ms/step
Epoch 27/75
176/176 - 9s - loss: 0.1589 - accuracy: 0.9432 - val_loss: 1.9791 - val_accuracy: 0.5327 - lr: 0.0010 - 9s/epoch - 51ms/step
Epoch 28/75
176/176 - 9s - loss: 0.1605 - accuracy: 0.9422 - val_loss: 1.9982 - val_accuracy: 0.5275 - lr: 0.0010 - 9s/epoch - 49ms/step
Epoch 29/75
176/176 - 9s - loss: 0.1564 - accuracy: 0.9441 - val_loss: 2.0285 - val_accuracy: 0.5103 - lr: 0.0010 - 9s/epoch - 50ms/step
Epoch 30/75
176/176 - 9s - loss: 0.1600 - accuracy: 0.9427 - val_loss: 2.0375 - val_accuracy: 0.5154 - lr: 0.0010 - 9s/epoch - 51ms/step
Epoch 31/75
176/176 - 9s - loss: 0.1581 - accuracy: 0.9432 - val_loss: 2.0903 - val_accuracy: 0.5166 - lr: 0.0010 - 9s/epoch - 51ms/step
Epoch 32/75
176/176 - 9s - loss: 0.1582 - accuracy: 0.9429 - val_loss: 2.0916 - val_accuracy: 0.5161 - lr: 0.0010 - 9s/epoch - 49ms/step
Epoch 33/75
176/176 - 8s - loss: 0.1547 - accuracy: 0.9453 - val_loss: 1.9955 - val_accuracy: 0.5298 - lr: 0.0010 - 8s/epoch - 48ms/step
Epoch 34/75
176/176 - 9s - loss: 0.1559 - accuracy: 0.9442 - val_loss: 2.1297 - val_accuracy: 0.5140 - lr: 0.0010 - 9s/epoch - 49ms/step
Epoch 35/75
176/176 - 8s - loss: 0.1587 - accuracy: 0.9432 - val_loss: 2.2039 - val_accuracy: 0.4874 - lr: 0.0010 - 8s/epoch - 48ms/step
Epoch 36/75
176/176 - 9s - loss: 0.1586 - accuracy: 0.9426 - val_loss: 2.1566 - val_accuracy: 0.5075 - lr: 0.0010 - 9s/epoch - 49ms/step
Epoch 37/75
176/176 - 8s - loss: 0.1599 - accuracy: 0.9425 - val_loss: 2.1610 - val_accuracy: 0.5082 - lr: 0.0010 - 8s/epoch - 48ms/step
Epoch 38/75
176/176 - 9s - loss: 0.1584 - accuracy: 0.9432 - val_loss: 2.2224 - val_accuracy: 0.4957 - lr: 0.0010 - 9s/epoch - 50ms/step
Epoch 39/75
176/176 - 9s - loss: 0.1550 - accuracy: 0.9446 - val_loss: 2.2188 - val_accuracy: 0.4958 - lr: 0.0010 - 9s/epoch - 50ms/step
Epoch 40/75
176/176 - 8s - loss: 0.1584 - accuracy: 0.9436 - val_loss: 2.0424 - val_accuracy: 0.5197 - lr: 0.0010 - 8s/epoch - 48ms/step
Epoch 41/75
176/176 - 8s - loss: 0.1592 - accuracy: 0.9429 - val_loss: 2.0292 - val_accuracy: 0.5288 - lr: 0.0010 - 8s/epoch - 48ms/step
Epoch 42/75
176/176 - 9s - loss: 0.1536 - accuracy: 0.9450 - val_loss: 2.0577 - val_accuracy: 0.5132 - lr: 0.0010 - 9s/epoch - 48ms/step
Epoch 43/75
176/176 - 10s - loss: 0.1525 - accuracy: 0.9458 - val_loss: 2.0306 - val_accuracy: 0.5296 - lr: 0.0010 - 10s/epoch - 54ms/step
Epoch 44/75
176/176 - 10s - loss: 0.1559 - accuracy: 0.9443 - val_loss: 2.0947 - val_accuracy: 0.5283 - lr: 0.0010 - 10s/epoch - 55ms/step
Epoch 45/75
176/176 - 9s - loss: 0.1512 - accuracy: 0.9455 - val_loss: 2.2315 - val_accuracy: 0.5046 - lr: 0.0010 - 9s/epoch - 49ms/step
Epoch 46/75
176/176 - 9s - loss: 0.1512 - accuracy: 0.9458 - val_loss: 2.1548 - val_accuracy: 0.4986 - lr: 0.0010 - 9s/epoch - 49ms/step
Epoch 47/75
176/176 - 9s - loss: 0.1540 - accuracy: 0.9451 - val_loss: 2.1287 - val_accuracy: 0.5126 - lr: 0.0010 - 9s/epoch - 53ms/step
Epoch 48/75
176/176 - 10s - loss: 0.1559 - accuracy: 0.9436 - val_loss: 2.1058 - val_accuracy: 0.5203 - lr: 0.0010 - 10s/epoch - 55ms/step
Epoch 49/75
176/176 - 9s - loss: 0.1597 - accuracy: 0.9425 - val_loss: 2.1320 - val_accuracy: 0.5270 - lr: 0.0010 - 9s/epoch - 49ms/step
Epoch 50/75
176/176 - 9s - loss: 0.1581 - accuracy: 0.9430 - val_loss: 2.1572 - val_accuracy: 0.5039 - lr: 0.0010 - 9s/epoch - 51ms/step
Epoch 51/75
176/176 - 9s - loss: 0.1586 - accuracy: 0.9425 - val_loss: 2.0733 - val_accuracy: 0.5281 - lr: 0.0010 - 9s/epoch - 49ms/step
Epoch 52/75
176/176 - 9s - loss: 0.1564 - accuracy: 0.9435 - val_loss: 2.0508 - val_accuracy: 0.5291 - lr: 0.0010 - 9s/epoch - 49ms/step
Epoch 53/75
176/176 - 10s - loss: 0.1547 - accuracy: 0.9446 - val_loss: 2.1817 - val_accuracy: 0.5019 - lr: 0.0010 - 10s/epoch - 58ms/step
Epoch 54/75
176/176 - 10s - loss: 0.1557 - accuracy: 0.9439 - val_loss: 2.1251 - val_accuracy: 0.5183 - lr: 0.0010 - 10s/epoch - 55ms/step
Epoch 55/75
176/176 - 9s - loss: 0.1470 - accuracy: 0.9478 - val_loss: 2.0449 - val_accuracy: 0.5213 - lr: 0.0010 - 9s/epoch - 52ms/step
Epoch 56/75
176/176 - 11s - loss: 0.1458 - accuracy: 0.9480 - val_loss: 2.0428 - val_accuracy: 0.5228 - lr: 0.0010 - 11s/epoch - 60ms/step
Epoch 57/75
176/176 - 9s - loss: 0.1464 - accuracy: 0.9478 - val_loss: 2.0800 - val_accuracy: 0.5210 - lr: 0.0010 - 9s/epoch - 51ms/step
Epoch 58/75
176/176 - 10s - loss: 0.1470 - accuracy: 0.9476 - val_loss: 2.1290 - val_accuracy: 0.5092 - lr: 0.0010 - 10s/epoch - 55ms/step
Epoch 59/75
176/176 - 9s - loss: 0.1491 - accuracy: 0.9474 - val_loss: 2.0220 - val_accuracy: 0.5337 - lr: 0.0010 - 9s/epoch - 49ms/step
Epoch 60/75
176/176 - 9s - loss: 0.1523 - accuracy: 0.9456 - val_loss: 2.1082 - val_accuracy: 0.5218 - lr: 0.0010 - 9s/epoch - 50ms/step
Epoch 61/75
176/176 - 9s - loss: 0.1552 - accuracy: 0.9445 - val_loss: 1.9586 - val_accuracy: 0.5306 - lr: 0.0010 - 9s/epoch - 50ms/step
Epoch 62/75
176/176 - 9s - loss: 0.1561 - accuracy: 0.9440 - val_loss: 2.0381 - val_accuracy: 0.5240 - lr: 0.0010 - 9s/epoch - 53ms/step
Epoch 63/75
176/176 - 8s - loss: 0.1546 - accuracy: 0.9444 - val_loss: 2.0205 - val_accuracy: 0.5319 - lr: 0.0010 - 8s/epoch - 48ms/step
Epoch 64/75
176/176 - 9s - loss: 0.1527 - accuracy: 0.9452 - val_loss: 2.0400 - val_accuracy: 0.5233 - lr: 0.0010 - 9s/epoch - 51ms/step
Epoch 65/75
176/176 - 9s - loss: 0.1528 - accuracy: 0.9456 - val_loss: 2.0465 - val_accuracy: 0.5213 - lr: 0.0010 - 9s/epoch - 48ms/step
Epoch 66/75
176/176 - 8s - loss: 0.1505 - accuracy: 0.9459 - val_loss: 2.2370 - val_accuracy: 0.4907 - lr: 0.0010 - 8s/epoch - 48ms/step
Epoch 67/75
176/176 - 10s - loss: 0.1530 - accuracy: 0.9447 - val_loss: 2.1696 - val_accuracy: 0.5025 - lr: 0.0010 - 10s/epoch - 55ms/step
Epoch 68/75
176/176 - 11s - loss: 0.1531 - accuracy: 0.9445 - val_loss: 2.1848 - val_accuracy: 0.4984 - lr: 0.0010 - 11s/epoch - 63ms/step
Epoch 69/75
176/176 - 10s - loss: 0.1549 - accuracy: 0.9440 - val_loss: 2.2568 - val_accuracy: 0.4935 - lr: 0.0010 - 10s/epoch - 58ms/step
Epoch 70/75
176/176 - 9s - loss: 0.1505 - accuracy: 0.9465 - val_loss: 2.0333 - val_accuracy: 0.5363 - lr: 0.0010 - 9s/epoch - 51ms/step
Epoch 71/75
176/176 - 9s - loss: 0.1540 - accuracy: 0.9444 - val_loss: 2.1117 - val_accuracy: 0.5134 - lr: 0.0010 - 9s/epoch - 51ms/step
Epoch 72/75
176/176 - 11s - loss: 0.1515 - accuracy: 0.9446 - val_loss: 2.1786 - val_accuracy: 0.5067 - lr: 0.0010 - 11s/epoch - 61ms/step
Epoch 73/75
176/176 - 11s - loss: 0.1507 - accuracy: 0.9464 - val_loss: 2.2382 - val_accuracy: 0.4999 - lr: 0.0010 - 11s/epoch - 62ms/step
Epoch 74/75
176/176 - 11s - loss: 0.1467 - accuracy: 0.9479 - val_loss: 2.1628 - val_accuracy: 0.5075 - lr: 0.0010 - 11s/epoch - 61ms/step
Epoch 75/75
176/176 - 11s - loss: 0.1511 - accuracy: 0.9457 - val_loss: 2.2137 - val_accuracy: 0.4939 - lr: 0.0010 - 11s/epoch - 62ms/step
Epoch 1/75
36/36 - 13s - loss: 0.1374 - accuracy: 0.9509 - val_loss: 2.2079 - val_accuracy: 0.5006 - lr: 0.0010 - 13s/epoch - 359ms/step
Epoch 2/75
36/36 - 10s - loss: 0.1230 - accuracy: 0.9577 - val_loss: 2.1340 - val_accuracy: 0.5165 - lr: 0.0010 - 10s/epoch - 268ms/step
Epoch 3/75
36/36 - 10s - loss: 0.1205 - accuracy: 0.9588 - val_loss: 2.1493 - val_accuracy: 0.5153 - lr: 0.0010 - 10s/epoch - 272ms/step
Epoch 4/75
36/36 - 10s - loss: 0.1207 - accuracy: 0.9581 - val_loss: 2.2083 - val_accuracy: 0.5083 - lr: 0.0010 - 10s/epoch - 271ms/step
Epoch 5/75
36/36 - 10s - loss: 0.1195 - accuracy: 0.9592 - val_loss: 2.2518 - val_accuracy: 0.5050 - lr: 0.0010 - 10s/epoch - 272ms/step
Epoch 6/75
36/36 - 10s - loss: 0.1195 - accuracy: 0.9590 - val_loss: 2.2784 - val_accuracy: 0.5005 - lr: 0.0010 - 10s/epoch - 269ms/step
Epoch 7/75
36/36 - 10s - loss: 0.1157 - accuracy: 0.9598 - val_loss: 2.3040 - val_accuracy: 0.4993 - lr: 0.0010 - 10s/epoch - 265ms/step
Epoch 8/75
36/36 - 10s - loss: 0.1143 - accuracy: 0.9614 - val_loss: 2.3092 - val_accuracy: 0.5009 - lr: 0.0010 - 10s/epoch - 273ms/step
Epoch 9/75
36/36 - 10s - loss: 0.1167 - accuracy: 0.9597 - val_loss: 2.2551 - val_accuracy: 0.5127 - lr: 0.0010 - 10s/epoch - 267ms/step
Epoch 10/75
36/36 - 10s - loss: 0.1172 - accuracy: 0.9597 - val_loss: 2.3140 - val_accuracy: 0.5079 - lr: 0.0010 - 10s/epoch - 274ms/step
Epoch 11/75
36/36 - 10s - loss: 0.1182 - accuracy: 0.9587 - val_loss: 2.2618 - val_accuracy: 0.5179 - lr: 0.0010 - 10s/epoch - 274ms/step
Epoch 12/75
36/36 - 10s - loss: 0.1113 - accuracy: 0.9620 - val_loss: 2.2901 - val_accuracy: 0.5147 - lr: 0.0010 - 10s/epoch - 270ms/step
Epoch 13/75
36/36 - 10s - loss: 0.1146 - accuracy: 0.9605 - val_loss: 2.3243 - val_accuracy: 0.5090 - lr: 0.0010 - 10s/epoch - 273ms/step
Epoch 14/75
36/36 - 10s - loss: 0.1123 - accuracy: 0.9617 - val_loss: 2.3204 - val_accuracy: 0.5119 - lr: 0.0010 - 10s/epoch - 274ms/step
Epoch 15/75
36/36 - 10s - loss: 0.1150 - accuracy: 0.9597 - val_loss: 2.2687 - val_accuracy: 0.5159 - lr: 0.0010 - 10s/epoch - 273ms/step
Epoch 16/75
36/36 - 10s - loss: 0.1155 - accuracy: 0.9607 - val_loss: 2.2936 - val_accuracy: 0.5142 - lr: 0.0010 - 10s/epoch - 273ms/step
Epoch 17/75
36/36 - 10s - loss: 0.1158 - accuracy: 0.9597 - val_loss: 2.3038 - val_accuracy: 0.5096 - lr: 0.0010 - 10s/epoch - 271ms/step
Epoch 18/75
36/36 - 10s - loss: 0.1158 - accuracy: 0.9598 - val_loss: 2.3155 - val_accuracy: 0.5148 - lr: 0.0010 - 10s/epoch - 266ms/step
Epoch 19/75
36/36 - 10s - loss: 0.1110 - accuracy: 0.9626 - val_loss: 2.3465 - val_accuracy: 0.5094 - lr: 0.0010 - 10s/epoch - 269ms/step
Epoch 20/75
36/36 - 10s - loss: 0.1116 - accuracy: 0.9613 - val_loss: 2.2493 - val_accuracy: 0.5255 - lr: 0.0010 - 10s/epoch - 271ms/step
Epoch 21/75
36/36 - 10s - loss: 0.1103 - accuracy: 0.9629 - val_loss: 2.2900 - val_accuracy: 0.5221 - lr: 0.0010 - 10s/epoch - 268ms/step
Epoch 22/75
36/36 - 10s - loss: 0.1100 - accuracy: 0.9623 - val_loss: 2.3132 - val_accuracy: 0.5154 - lr: 0.0010 - 10s/epoch - 276ms/step
Epoch 23/75
36/36 - 10s - loss: 0.1145 - accuracy: 0.9604 - val_loss: 2.3872 - val_accuracy: 0.5069 - lr: 0.0010 - 10s/epoch - 269ms/step
Epoch 24/75
36/36 - 10s - loss: 0.1110 - accuracy: 0.9617 - val_loss: 2.3630 - val_accuracy: 0.5102 - lr: 0.0010 - 10s/epoch - 274ms/step
Epoch 25/75
36/36 - 10s - loss: 0.1100 - accuracy: 0.9627 - val_loss: 2.3487 - val_accuracy: 0.5122 - lr: 0.0010 - 10s/epoch - 272ms/step
Epoch 26/75
36/36 - 10s - loss: 0.1092 - accuracy: 0.9627 - val_loss: 2.3163 - val_accuracy: 0.5148 - lr: 0.0010 - 10s/epoch - 274ms/step
Epoch 27/75
36/36 - 10s - loss: 0.1111 - accuracy: 0.9615 - val_loss: 2.4260 - val_accuracy: 0.5059 - lr: 0.0010 - 10s/epoch - 272ms/step
Epoch 28/75
36/36 - 9s - loss: 0.1085 - accuracy: 0.9622 - val_loss: 2.3982 - val_accuracy: 0.5073 - lr: 0.0010 - 9s/epoch - 264ms/step
Epoch 29/75
36/36 - 9s - loss: 0.1093 - accuracy: 0.9627 - val_loss: 2.4149 - val_accuracy: 0.5082 - lr: 0.0010 - 9s/epoch - 250ms/step
Epoch 30/75
36/36 - 9s - loss: 0.1093 - accuracy: 0.9626 - val_loss: 2.3968 - val_accuracy: 0.5124 - lr: 0.0010 - 9s/epoch - 258ms/step
Epoch 31/75
36/36 - 10s - loss: 0.1084 - accuracy: 0.9623 - val_loss: 2.4494 - val_accuracy: 0.5054 - lr: 0.0010 - 10s/epoch - 266ms/step
Epoch 32/75
36/36 - 10s - loss: 0.1066 - accuracy: 0.9634 - val_loss: 2.4431 - val_accuracy: 0.5043 - lr: 0.0010 - 10s/epoch - 266ms/step
Epoch 33/75
36/36 - 9s - loss: 0.1120 - accuracy: 0.9618 - val_loss: 2.4387 - val_accuracy: 0.5106 - lr: 0.0010 - 9s/epoch - 247ms/step
Epoch 34/75
36/36 - 8s - loss: 0.1100 - accuracy: 0.9624 - val_loss: 2.3698 - val_accuracy: 0.5178 - lr: 0.0010 - 8s/epoch - 218ms/step
Epoch 35/75
36/36 - 8s - loss: 0.1125 - accuracy: 0.9614 - val_loss: 2.4293 - val_accuracy: 0.5073 - lr: 0.0010 - 8s/epoch - 232ms/step
Epoch 36/75
36/36 - 8s - loss: 0.1105 - accuracy: 0.9620 - val_loss: 2.4653 - val_accuracy: 0.5019 - lr: 0.0010 - 8s/epoch - 210ms/step
Epoch 37/75
36/36 - 7s - loss: 0.1097 - accuracy: 0.9622 - val_loss: 2.4330 - val_accuracy: 0.5097 - lr: 0.0010 - 7s/epoch - 207ms/step
Epoch 38/75
36/36 - 8s - loss: 0.1104 - accuracy: 0.9625 - val_loss: 2.4579 - val_accuracy: 0.5101 - lr: 0.0010 - 8s/epoch - 211ms/step
Epoch 39/75
36/36 - 8s - loss: 0.1115 - accuracy: 0.9614 - val_loss: 2.4678 - val_accuracy: 0.5057 - lr: 0.0010 - 8s/epoch - 209ms/step
Epoch 40/75
36/36 - 8s - loss: 0.1084 - accuracy: 0.9629 - val_loss: 2.4628 - val_accuracy: 0.5069 - lr: 0.0010 - 8s/epoch - 211ms/step
Epoch 41/75
36/36 - 8s - loss: 0.1083 - accuracy: 0.9627 - val_loss: 2.4527 - val_accuracy: 0.5088 - lr: 0.0010 - 8s/epoch - 211ms/step
Epoch 42/75
36/36 - 7s - loss: 0.1079 - accuracy: 0.9632 - val_loss: 2.4297 - val_accuracy: 0.5132 - lr: 0.0010 - 7s/epoch - 207ms/step
Epoch 43/75
36/36 - 7s - loss: 0.1096 - accuracy: 0.9614 - val_loss: 2.4399 - val_accuracy: 0.5167 - lr: 0.0010 - 7s/epoch - 207ms/step
Epoch 44/75
36/36 - 8s - loss: 0.1131 - accuracy: 0.9611 - val_loss: 2.3930 - val_accuracy: 0.5137 - lr: 0.0010 - 8s/epoch - 209ms/step
Epoch 45/75
36/36 - 9s - loss: 0.1097 - accuracy: 0.9619 - val_loss: 2.4965 - val_accuracy: 0.5038 - lr: 0.0010 - 9s/epoch - 239ms/step
Epoch 46/75
36/36 - 10s - loss: 0.1093 - accuracy: 0.9619 - val_loss: 2.4395 - val_accuracy: 0.5098 - lr: 0.0010 - 10s/epoch - 265ms/step
Epoch 47/75
36/36 - 9s - loss: 0.1082 - accuracy: 0.9632 - val_loss: 2.4235 - val_accuracy: 0.5132 - lr: 0.0010 - 9s/epoch - 252ms/step
Epoch 48/75
36/36 - 8s - loss: 0.1077 - accuracy: 0.9626 - val_loss: 2.4533 - val_accuracy: 0.5070 - lr: 0.0010 - 8s/epoch - 229ms/step
Epoch 49/75
36/36 - 10s - loss: 0.1068 - accuracy: 0.9630 - val_loss: 2.4677 - val_accuracy: 0.5064 - lr: 0.0010 - 10s/epoch - 278ms/step
Epoch 50/75
36/36 - 10s - loss: 0.1130 - accuracy: 0.9602 - val_loss: 2.4701 - val_accuracy: 0.5015 - lr: 0.0010 - 10s/epoch - 270ms/step
Epoch 51/75
36/36 - 10s - loss: 0.1113 - accuracy: 0.9609 - val_loss: 2.5000 - val_accuracy: 0.5021 - lr: 0.0010 - 10s/epoch - 270ms/step
Epoch 52/75
36/36 - 10s - loss: 0.1103 - accuracy: 0.9620 - val_loss: 2.4018 - val_accuracy: 0.5158 - lr: 0.0010 - 10s/epoch - 272ms/step
Epoch 53/75
36/36 - 10s - loss: 0.1087 - accuracy: 0.9623 - val_loss: 2.4350 - val_accuracy: 0.5095 - lr: 0.0010 - 10s/epoch - 270ms/step
Epoch 54/75
36/36 - 10s - loss: 0.1086 - accuracy: 0.9628 - val_loss: 2.3894 - val_accuracy: 0.5118 - lr: 0.0010 - 10s/epoch - 269ms/step
Epoch 55/75
36/36 - 8s - loss: 0.1089 - accuracy: 0.9626 - val_loss: 2.4548 - val_accuracy: 0.5029 - lr: 0.0010 - 8s/epoch - 234ms/step
Epoch 56/75
36/36 - 8s - loss: 0.1084 - accuracy: 0.9627 - val_loss: 2.4641 - val_accuracy: 0.5028 - lr: 0.0010 - 8s/epoch - 211ms/step
Epoch 57/75
36/36 - 8s - loss: 0.1091 - accuracy: 0.9621 - val_loss: 2.4721 - val_accuracy: 0.5060 - lr: 0.0010 - 8s/epoch - 235ms/step
Epoch 58/75
36/36 - 8s - loss: 0.1116 - accuracy: 0.9607 - val_loss: 2.4210 - val_accuracy: 0.5088 - lr: 0.0010 - 8s/epoch - 214ms/step
Epoch 59/75
36/36 - 8s - loss: 0.1067 - accuracy: 0.9635 - val_loss: 2.4506 - val_accuracy: 0.5071 - lr: 0.0010 - 8s/epoch - 210ms/step
Epoch 60/75
36/36 - 8s - loss: 0.1077 - accuracy: 0.9625 - val_loss: 2.4577 - val_accuracy: 0.5079 - lr: 0.0010 - 8s/epoch - 211ms/step
Epoch 61/75
36/36 - 8s - loss: 0.1058 - accuracy: 0.9635 - val_loss: 2.3974 - val_accuracy: 0.5162 - lr: 0.0010 - 8s/epoch - 228ms/step
Epoch 62/75
36/36 - 8s - loss: 0.1073 - accuracy: 0.9631 - val_loss: 2.4839 - val_accuracy: 0.5053 - lr: 0.0010 - 8s/epoch - 225ms/step
Epoch 63/75
36/36 - 8s - loss: 0.1078 - accuracy: 0.9629 - val_loss: 2.5379 - val_accuracy: 0.4988 - lr: 0.0010 - 8s/epoch - 231ms/step
Epoch 64/75
36/36 - 9s - loss: 0.1076 - accuracy: 0.9634 - val_loss: 2.5509 - val_accuracy: 0.4979 - lr: 0.0010 - 9s/epoch - 242ms/step
Epoch 65/75
36/36 - 8s - loss: 0.1070 - accuracy: 0.9628 - val_loss: 2.5821 - val_accuracy: 0.4974 - lr: 0.0010 - 8s/epoch - 222ms/step
Epoch 66/75
36/36 - 7s - loss: 0.1064 - accuracy: 0.9636 - val_loss: 2.6011 - val_accuracy: 0.4965 - lr: 0.0010 - 7s/epoch - 204ms/step
Epoch 67/75
36/36 - 7s - loss: 0.1039 - accuracy: 0.9640 - val_loss: 2.5523 - val_accuracy: 0.4971 - lr: 0.0010 - 7s/epoch - 202ms/step
Epoch 68/75
36/36 - 7s - loss: 0.1031 - accuracy: 0.9641 - val_loss: 2.5737 - val_accuracy: 0.4966 - lr: 0.0010 - 7s/epoch - 201ms/step
Epoch 69/75
36/36 - 7s - loss: 0.1062 - accuracy: 0.9632 - val_loss: 2.5609 - val_accuracy: 0.4982 - lr: 0.0010 - 7s/epoch - 207ms/step
Epoch 70/75
36/36 - 8s - loss: 0.1069 - accuracy: 0.9636 - val_loss: 2.5540 - val_accuracy: 0.4990 - lr: 0.0010 - 8s/epoch - 234ms/step
Epoch 71/75
36/36 - 8s - loss: 0.1053 - accuracy: 0.9639 - val_loss: 2.5313 - val_accuracy: 0.5016 - lr: 0.0010 - 8s/epoch - 217ms/step
Epoch 72/75
36/36 - 7s - loss: 0.1062 - accuracy: 0.9633 - val_loss: 2.5932 - val_accuracy: 0.4990 - lr: 0.0010 - 7s/epoch - 201ms/step
Epoch 73/75
36/36 - 8s - loss: 0.1070 - accuracy: 0.9632 - val_loss: 2.5262 - val_accuracy: 0.5035 - lr: 0.0010 - 8s/epoch - 211ms/step
Epoch 74/75
36/36 - 7s - loss: 0.1069 - accuracy: 0.9633 - val_loss: 2.5302 - val_accuracy: 0.5055 - lr: 0.0010 - 7s/epoch - 203ms/step
Epoch 75/75
36/36 - 7s - loss: 0.1087 - accuracy: 0.9628 - val_loss: 2.5318 - val_accuracy: 0.5024 - lr: 0.0010 - 7s/epoch - 207ms/step
Epoch 1/100
4378/4378 - 72s - loss: 0.3348 - accuracy: 0.8775 - val_loss: 1.3640 - val_accuracy: 0.5634 - lr: 0.0010 - 72s/epoch - 16ms/step
Epoch 2/100
4378/4378 - 71s - loss: 0.3493 - accuracy: 0.8685 - val_loss: 1.4235 - val_accuracy: 0.5009 - lr: 0.0010 - 71s/epoch - 16ms/step
Epoch 3/100
4378/4378 - 78s - loss: 0.3596 - accuracy: 0.8643 - val_loss: 1.1595 - val_accuracy: 0.5982 - lr: 0.0010 - 78s/epoch - 18ms/step
Epoch 4/100
4378/4378 - 70s - loss: 0.3544 - accuracy: 0.8655 - val_loss: 1.4071 - val_accuracy: 0.5261 - lr: 0.0010 - 70s/epoch - 16ms/step
Epoch 5/100
4378/4378 - 68s - loss: 0.3600 - accuracy: 0.8657 - val_loss: 1.5381 - val_accuracy: 0.4684 - lr: 0.0010 - 68s/epoch - 15ms/step
Epoch 6/100
4378/4378 - 71s - loss: 0.3591 - accuracy: 0.8646 - val_loss: 1.2280 - val_accuracy: 0.5674 - lr: 0.0010 - 71s/epoch - 16ms/step
Epoch 7/100
4378/4378 - 75s - loss: 0.3652 - accuracy: 0.8628 - val_loss: 1.2190 - val_accuracy: 0.5590 - lr: 0.0010 - 75s/epoch - 17ms/step
Epoch 8/100
4378/4378 - 70s - loss: 0.3588 - accuracy: 0.8645 - val_loss: 1.2445 - val_accuracy: 0.5405 - lr: 0.0010 - 70s/epoch - 16ms/step
Epoch 9/100
4378/4378 - 75s - loss: 0.3613 - accuracy: 0.8631 - val_loss: 1.3612 - val_accuracy: 0.5154 - lr: 0.0010 - 75s/epoch - 17ms/step
Epoch 10/100
4378/4378 - 76s - loss: 0.3623 - accuracy: 0.8637 - val_loss: 1.5572 - val_accuracy: 0.4785 - lr: 0.0010 - 76s/epoch - 17ms/step
Epoch 11/100
4378/4378 - 94s - loss: 0.3639 - accuracy: 0.8639 - val_loss: 1.2735 - val_accuracy: 0.5489 - lr: 0.0010 - 94s/epoch - 22ms/step
Epoch 12/100
4378/4378 - 85s - loss: 0.3606 - accuracy: 0.8638 - val_loss: 1.1356 - val_accuracy: 0.6053 - lr: 0.0010 - 85s/epoch - 19ms/step
Epoch 13/100
4378/4378 - 80s - loss: 0.3591 - accuracy: 0.8657 - val_loss: 1.2186 - val_accuracy: 0.5679 - lr: 0.0010 - 80s/epoch - 18ms/step
Epoch 14/100
4378/4378 - 79s - loss: 0.3608 - accuracy: 0.8665 - val_loss: 1.3611 - val_accuracy: 0.5368 - lr: 0.0010 - 79s/epoch - 18ms/step
Epoch 15/100
4378/4378 - 78s - loss: 0.3595 - accuracy: 0.8656 - val_loss: 1.1287 - val_accuracy: 0.5960 - lr: 0.0010 - 78s/epoch - 18ms/step
Epoch 16/100
4378/4378 - 77s - loss: 0.3619 - accuracy: 0.8639 - val_loss: 1.4539 - val_accuracy: 0.5111 - lr: 0.0010 - 77s/epoch - 18ms/step
Epoch 17/100
4378/4378 - 77s - loss: 0.3651 - accuracy: 0.8638 - val_loss: 1.3414 - val_accuracy: 0.5439 - lr: 0.0010 - 77s/epoch - 18ms/step
Epoch 18/100
4378/4378 - 76s - loss: 0.3621 - accuracy: 0.8638 - val_loss: 1.2217 - val_accuracy: 0.5653 - lr: 0.0010 - 76s/epoch - 17ms/step
Epoch 19/100
4378/4378 - 76s - loss: 0.3637 - accuracy: 0.8633 - val_loss: 1.1553 - val_accuracy: 0.5867 - lr: 0.0010 - 76s/epoch - 17ms/step
Epoch 20/100
4378/4378 - 79s - loss: 0.3641 - accuracy: 0.8634 - val_loss: 1.2475 - val_accuracy: 0.5809 - lr: 0.0010 - 79s/epoch - 18ms/step
Epoch 21/100
4378/4378 - 78s - loss: 0.3641 - accuracy: 0.8643 - val_loss: 1.3715 - val_accuracy: 0.5458 - lr: 0.0010 - 78s/epoch - 18ms/step
Epoch 22/100
4378/4378 - 81s - loss: 0.3646 - accuracy: 0.8643 - val_loss: 1.3145 - val_accuracy: 0.5586 - lr: 0.0010 - 81s/epoch - 18ms/step
Epoch 23/100
4378/4378 - 76s - loss: 0.3612 - accuracy: 0.8633 - val_loss: 1.2879 - val_accuracy: 0.5510 - lr: 0.0010 - 76s/epoch - 17ms/step
Epoch 24/100
4378/4378 - 77s - loss: 0.3587 - accuracy: 0.8661 - val_loss: 1.2743 - val_accuracy: 0.5531 - lr: 0.0010 - 77s/epoch - 18ms/step
Epoch 25/100
4378/4378 - 78s - loss: 0.3604 - accuracy: 0.8650 - val_loss: 1.2069 - val_accuracy: 0.5655 - lr: 0.0010 - 78s/epoch - 18ms/step
Epoch 26/100
4378/4378 - 75s - loss: 0.3640 - accuracy: 0.8649 - val_loss: 1.2242 - val_accuracy: 0.5646 - lr: 0.0010 - 75s/epoch - 17ms/step
Epoch 27/100
4378/4378 - 79s - loss: 0.3594 - accuracy: 0.8647 - val_loss: 1.2313 - val_accuracy: 0.5581 - lr: 0.0010 - 79s/epoch - 18ms/step
Epoch 28/100
4378/4378 - 81s - loss: 0.3598 - accuracy: 0.8651 - val_loss: 1.2185 - val_accuracy: 0.5506 - lr: 0.0010 - 81s/epoch - 19ms/step
Epoch 29/100
4378/4378 - 82s - loss: 0.3587 - accuracy: 0.8660 - val_loss: 1.2602 - val_accuracy: 0.5445 - lr: 0.0010 - 82s/epoch - 19ms/step
Epoch 30/100
4378/4378 - 76s - loss: 0.3605 - accuracy: 0.8649 - val_loss: 1.5933 - val_accuracy: 0.4599 - lr: 0.0010 - 76s/epoch - 17ms/step
Epoch 31/100
4378/4378 - 92s - loss: 0.3612 - accuracy: 0.8654 - val_loss: 1.3261 - val_accuracy: 0.5525 - lr: 0.0010 - 92s/epoch - 21ms/step
Epoch 32/100
4378/4378 - 72s - loss: 0.3618 - accuracy: 0.8645 - val_loss: 1.4134 - val_accuracy: 0.5163 - lr: 0.0010 - 72s/epoch - 16ms/step
Epoch 33/100
4378/4378 - 71s - loss: 0.3554 - accuracy: 0.8664 - val_loss: 1.4450 - val_accuracy: 0.5134 - lr: 0.0010 - 71s/epoch - 16ms/step
Epoch 34/100
4378/4378 - 72s - loss: 0.3574 - accuracy: 0.8662 - val_loss: 1.1820 - val_accuracy: 0.5776 - lr: 0.0010 - 72s/epoch - 16ms/step
Epoch 35/100
4378/4378 - 71s - loss: 0.3538 - accuracy: 0.8674 - val_loss: 1.2373 - val_accuracy: 0.5536 - lr: 0.0010 - 71s/epoch - 16ms/step
Epoch 36/100
4378/4378 - 75s - loss: 0.3606 - accuracy: 0.8651 - val_loss: 1.3589 - val_accuracy: 0.5389 - lr: 0.0010 - 75s/epoch - 17ms/step
Epoch 37/100
4378/4378 - 87s - loss: 0.3597 - accuracy: 0.8649 - val_loss: 1.2984 - val_accuracy: 0.5178 - lr: 0.0010 - 87s/epoch - 20ms/step
Epoch 38/100
4378/4378 - 80s - loss: 0.3574 - accuracy: 0.8661 - val_loss: 1.2695 - val_accuracy: 0.5433 - lr: 0.0010 - 80s/epoch - 18ms/step
Epoch 39/100
4378/4378 - 79s - loss: 0.3597 - accuracy: 0.8649 - val_loss: 1.2250 - val_accuracy: 0.5898 - lr: 0.0010 - 79s/epoch - 18ms/step
Epoch 40/100
4378/4378 - 86s - loss: 0.3615 - accuracy: 0.8656 - val_loss: 1.2205 - val_accuracy: 0.5627 - lr: 0.0010 - 86s/epoch - 20ms/step
Epoch 41/100
4378/4378 - 81s - loss: 0.3549 - accuracy: 0.8682 - val_loss: 1.2889 - val_accuracy: 0.5553 - lr: 0.0010 - 81s/epoch - 18ms/step
Epoch 42/100
4378/4378 - 82s - loss: 0.3575 - accuracy: 0.8662 - val_loss: 1.2735 - val_accuracy: 0.5559 - lr: 0.0010 - 82s/epoch - 19ms/step
Epoch 43/100
4378/4378 - 79s - loss: 0.3569 - accuracy: 0.8670 - val_loss: 1.2124 - val_accuracy: 0.5784 - lr: 0.0010 - 79s/epoch - 18ms/step
Epoch 44/100
4378/4378 - 83s - loss: 0.3594 - accuracy: 0.8642 - val_loss: 1.1832 - val_accuracy: 0.5816 - lr: 0.0010 - 83s/epoch - 19ms/step
Epoch 45/100
4378/4378 - 79s - loss: 0.3626 - accuracy: 0.8642 - val_loss: 1.2607 - val_accuracy: 0.5872 - lr: 0.0010 - 79s/epoch - 18ms/step
Epoch 46/100
4378/4378 - 79s - loss: 0.3582 - accuracy: 0.8656 - val_loss: 1.2051 - val_accuracy: 0.5677 - lr: 0.0010 - 79s/epoch - 18ms/step
Epoch 47/100
4378/4378 - 73s - loss: 0.3572 - accuracy: 0.8659 - val_loss: 1.2791 - val_accuracy: 0.5402 - lr: 0.0010 - 73s/epoch - 17ms/step
Epoch 48/100
4378/4378 - 76s - loss: 0.3547 - accuracy: 0.8671 - val_loss: 1.1545 - val_accuracy: 0.5865 - lr: 0.0010 - 76s/epoch - 17ms/step
Epoch 49/100
4378/4378 - 82s - loss: 0.3556 - accuracy: 0.8673 - val_loss: 1.3357 - val_accuracy: 0.5424 - lr: 0.0010 - 82s/epoch - 19ms/step
Epoch 50/100
4378/4378 - 79s - loss: 0.3531 - accuracy: 0.8672 - val_loss: 1.1628 - val_accuracy: 0.5604 - lr: 0.0010 - 79s/epoch - 18ms/step
Epoch 51/100
4378/4378 - 80s - loss: 0.3554 - accuracy: 0.8672 - val_loss: 1.2240 - val_accuracy: 0.5697 - lr: 0.0010 - 80s/epoch - 18ms/step
Epoch 52/100
4378/4378 - 89s - loss: 0.3574 - accuracy: 0.8662 - val_loss: 1.0979 - val_accuracy: 0.6404 - lr: 0.0010 - 89s/epoch - 20ms/step
Epoch 53/100
4378/4378 - 79s - loss: 0.3586 - accuracy: 0.8654 - val_loss: 1.2557 - val_accuracy: 0.5777 - lr: 0.0010 - 79s/epoch - 18ms/step
Epoch 54/100
4378/4378 - 78s - loss: 0.3544 - accuracy: 0.8681 - val_loss: 1.4270 - val_accuracy: 0.4961 - lr: 0.0010 - 78s/epoch - 18ms/step
Epoch 55/100
4378/4378 - 78s - loss: 0.3568 - accuracy: 0.8667 - val_loss: 1.1261 - val_accuracy: 0.6030 - lr: 0.0010 - 78s/epoch - 18ms/step
Epoch 56/100
4378/4378 - 74s - loss: 0.3521 - accuracy: 0.8671 - val_loss: 1.1273 - val_accuracy: 0.6004 - lr: 0.0010 - 74s/epoch - 17ms/step
Epoch 57/100
4378/4378 - 94s - loss: 0.3564 - accuracy: 0.8652 - val_loss: 1.3088 - val_accuracy: 0.5547 - lr: 0.0010 - 94s/epoch - 21ms/step
Epoch 58/100
4378/4378 - 77s - loss: 0.3559 - accuracy: 0.8672 - val_loss: 1.1750 - val_accuracy: 0.5805 - lr: 0.0010 - 77s/epoch - 18ms/step
Epoch 59/100
4378/4378 - 81s - loss: 0.3544 - accuracy: 0.8672 - val_loss: 1.2007 - val_accuracy: 0.5737 - lr: 0.0010 - 81s/epoch - 18ms/step
Epoch 60/100
4378/4378 - 77s - loss: 0.3555 - accuracy: 0.8671 - val_loss: 1.3573 - val_accuracy: 0.5326 - lr: 0.0010 - 77s/epoch - 18ms/step
Epoch 61/100
4378/4378 - 76s - loss: 0.3539 - accuracy: 0.8673 - val_loss: 1.0497 - val_accuracy: 0.6230 - lr: 0.0010 - 76s/epoch - 17ms/step
Epoch 62/100
4378/4378 - 77s - loss: 0.3533 - accuracy: 0.8680 - val_loss: 1.3639 - val_accuracy: 0.5401 - lr: 0.0010 - 77s/epoch - 18ms/step
Epoch 63/100
4378/4378 - 75s - loss: 0.3527 - accuracy: 0.8689 - val_loss: 1.2441 - val_accuracy: 0.5711 - lr: 0.0010 - 75s/epoch - 17ms/step
Epoch 64/100
4378/4378 - 82s - loss: 0.3549 - accuracy: 0.8674 - val_loss: 1.1745 - val_accuracy: 0.5858 - lr: 0.0010 - 82s/epoch - 19ms/step
Epoch 65/100
4378/4378 - 78s - loss: 0.3516 - accuracy: 0.8681 - val_loss: 1.1454 - val_accuracy: 0.5979 - lr: 0.0010 - 78s/epoch - 18ms/step
Epoch 66/100
4378/4378 - 81s - loss: 0.3483 - accuracy: 0.8701 - val_loss: 1.2402 - val_accuracy: 0.5739 - lr: 0.0010 - 81s/epoch - 18ms/step
Epoch 67/100
4378/4378 - 79s - loss: 0.3549 - accuracy: 0.8665 - val_loss: 1.3081 - val_accuracy: 0.5299 - lr: 0.0010 - 79s/epoch - 18ms/step
Epoch 68/100
4378/4378 - 80s - loss: 0.3509 - accuracy: 0.8688 - val_loss: 1.2651 - val_accuracy: 0.5551 - lr: 0.0010 - 80s/epoch - 18ms/step
Epoch 69/100
4378/4378 - 76s - loss: 0.3534 - accuracy: 0.8682 - val_loss: 1.2514 - val_accuracy: 0.5534 - lr: 0.0010 - 76s/epoch - 17ms/step
Epoch 70/100
4378/4378 - 80s - loss: 0.3499 - accuracy: 0.8695 - val_loss: 1.2800 - val_accuracy: 0.5759 - lr: 0.0010 - 80s/epoch - 18ms/step
Epoch 71/100
4378/4378 - 79s - loss: 0.3492 - accuracy: 0.8704 - val_loss: 1.2318 - val_accuracy: 0.5584 - lr: 0.0010 - 79s/epoch - 18ms/step
Epoch 72/100
4378/4378 - 78s - loss: 0.3509 - accuracy: 0.8676 - val_loss: 1.2567 - val_accuracy: 0.5426 - lr: 0.0010 - 78s/epoch - 18ms/step
Epoch 73/100
4378/4378 - 87s - loss: 0.3477 - accuracy: 0.8693 - val_loss: 1.1638 - val_accuracy: 0.5988 - lr: 0.0010 - 87s/epoch - 20ms/step
Epoch 74/100
4378/4378 - 81s - loss: 0.3513 - accuracy: 0.8683 - val_loss: 1.2274 - val_accuracy: 0.5646 - lr: 0.0010 - 81s/epoch - 19ms/step
Epoch 75/100
4378/4378 - 75s - loss: 0.3515 - accuracy: 0.8673 - val_loss: 1.1729 - val_accuracy: 0.5756 - lr: 0.0010 - 75s/epoch - 17ms/step
Epoch 76/100
4378/4378 - 75s - loss: 0.3540 - accuracy: 0.8669 - val_loss: 1.2681 - val_accuracy: 0.5461 - lr: 0.0010 - 75s/epoch - 17ms/step
Epoch 77/100
4378/4378 - 76s - loss: 0.3538 - accuracy: 0.8674 - val_loss: 1.1180 - val_accuracy: 0.5965 - lr: 0.0010 - 76s/epoch - 17ms/step
Epoch 78/100
4378/4378 - 78s - loss: 0.3490 - accuracy: 0.8699 - val_loss: 1.0421 - val_accuracy: 0.6281 - lr: 0.0010 - 78s/epoch - 18ms/step
Epoch 79/100
4378/4378 - 77s - loss: 0.3485 - accuracy: 0.8693 - val_loss: 1.2266 - val_accuracy: 0.5924 - lr: 0.0010 - 77s/epoch - 18ms/step
Epoch 80/100
4378/4378 - 78s - loss: 0.3487 - accuracy: 0.8691 - val_loss: 1.2398 - val_accuracy: 0.5731 - lr: 0.0010 - 78s/epoch - 18ms/step
Epoch 81/100
4378/4378 - 78s - loss: 0.3482 - accuracy: 0.8692 - val_loss: 1.2076 - val_accuracy: 0.5876 - lr: 0.0010 - 78s/epoch - 18ms/step
Epoch 82/100
4378/4378 - 78s - loss: 0.3477 - accuracy: 0.8698 - val_loss: 1.3091 - val_accuracy: 0.5479 - lr: 0.0010 - 78s/epoch - 18ms/step
Epoch 83/100
4378/4378 - 75s - loss: 0.3496 - accuracy: 0.8686 - val_loss: 1.1284 - val_accuracy: 0.5923 - lr: 0.0010 - 75s/epoch - 17ms/step
Epoch 84/100
4378/4378 - 75s - loss: 0.3484 - accuracy: 0.8691 - val_loss: 1.2983 - val_accuracy: 0.5609 - lr: 0.0010 - 75s/epoch - 17ms/step
Epoch 85/100
4378/4378 - 75s - loss: 0.3477 - accuracy: 0.8690 - val_loss: 1.0110 - val_accuracy: 0.6192 - lr: 0.0010 - 75s/epoch - 17ms/step
Epoch 86/100
4378/4378 - 77s - loss: 0.3491 - accuracy: 0.8699 - val_loss: 1.2391 - val_accuracy: 0.5616 - lr: 0.0010 - 77s/epoch - 17ms/step
Epoch 87/100
4378/4378 - 77s - loss: 0.3489 - accuracy: 0.8689 - val_loss: 1.2719 - val_accuracy: 0.5696 - lr: 0.0010 - 77s/epoch - 18ms/step
Epoch 88/100
4378/4378 - 77s - loss: 0.3454 - accuracy: 0.8713 - val_loss: 1.2098 - val_accuracy: 0.5886 - lr: 0.0010 - 77s/epoch - 18ms/step
Epoch 89/100
4378/4378 - 75s - loss: 0.3508 - accuracy: 0.8685 - val_loss: 1.0594 - val_accuracy: 0.6190 - lr: 0.0010 - 75s/epoch - 17ms/step
Epoch 90/100
4378/4378 - 75s - loss: 0.3497 - accuracy: 0.8686 - val_loss: 1.3086 - val_accuracy: 0.5803 - lr: 0.0010 - 75s/epoch - 17ms/step
Epoch 91/100
4378/4378 - 74s - loss: 0.3468 - accuracy: 0.8707 - val_loss: 1.2780 - val_accuracy: 0.5691 - lr: 0.0010 - 74s/epoch - 17ms/step
Epoch 92/100
4378/4378 - 74s - loss: 0.3428 - accuracy: 0.8720 - val_loss: 1.3031 - val_accuracy: 0.5612 - lr: 0.0010 - 74s/epoch - 17ms/step
Epoch 93/100
4378/4378 - 76s - loss: 0.3481 - accuracy: 0.8701 - val_loss: 1.1335 - val_accuracy: 0.5936 - lr: 0.0010 - 76s/epoch - 17ms/step
Epoch 94/100
4378/4378 - 75s - loss: 0.3492 - accuracy: 0.8685 - val_loss: 1.3915 - val_accuracy: 0.5366 - lr: 0.0010 - 75s/epoch - 17ms/step
Epoch 95/100
4378/4378 - 79s - loss: 0.3485 - accuracy: 0.8691 - val_loss: 1.2644 - val_accuracy: 0.5643 - lr: 0.0010 - 79s/epoch - 18ms/step
Epoch 96/100
4378/4378 - 76s - loss: 0.3441 - accuracy: 0.8702 - val_loss: 1.1577 - val_accuracy: 0.5914 - lr: 0.0010 - 76s/epoch - 17ms/step
Epoch 97/100
4378/4378 - 75s - loss: 0.3472 - accuracy: 0.8693 - val_loss: 1.2533 - val_accuracy: 0.5579 - lr: 0.0010 - 75s/epoch - 17ms/step
Epoch 98/100
4378/4378 - 75s - loss: 0.3458 - accuracy: 0.8711 - val_loss: 1.2318 - val_accuracy: 0.5640 - lr: 0.0010 - 75s/epoch - 17ms/step
Epoch 99/100
4378/4378 - 74s - loss: 0.3495 - accuracy: 0.8677 - val_loss: 1.2605 - val_accuracy: 0.5747 - lr: 0.0010 - 74s/epoch - 17ms/step
Epoch 100/100
4378/4378 - 74s - loss: 0.3488 - accuracy: 0.8682 - val_loss: 1.3066 - val_accuracy: 0.5711 - lr: 0.0010 - 74s/epoch - 17ms/step
Epoch 1/100
876/876 - 26s - loss: 0.2568 - accuracy: 0.9057 - val_loss: 1.4188 - val_accuracy: 0.5548 - lr: 0.0010 - 26s/epoch - 29ms/step
Epoch 2/100
876/876 - 23s - loss: 0.2586 - accuracy: 0.9043 - val_loss: 1.3464 - val_accuracy: 0.5812 - lr: 0.0010 - 23s/epoch - 26ms/step
Epoch 3/100
876/876 - 22s - loss: 0.2552 - accuracy: 0.9058 - val_loss: 1.4212 - val_accuracy: 0.5703 - lr: 0.0010 - 22s/epoch - 25ms/step
Epoch 4/100
876/876 - 24s - loss: 0.2494 - accuracy: 0.9078 - val_loss: 1.4528 - val_accuracy: 0.5665 - lr: 0.0010 - 24s/epoch - 27ms/step
Epoch 5/100
876/876 - 22s - loss: 0.2431 - accuracy: 0.9097 - val_loss: 1.4366 - val_accuracy: 0.5586 - lr: 0.0010 - 22s/epoch - 25ms/step
Epoch 6/100
876/876 - 23s - loss: 0.2454 - accuracy: 0.9086 - val_loss: 1.4534 - val_accuracy: 0.5698 - lr: 0.0010 - 23s/epoch - 26ms/step
Epoch 7/100
876/876 - 23s - loss: 0.2412 - accuracy: 0.9109 - val_loss: 1.5070 - val_accuracy: 0.5578 - lr: 0.0010 - 23s/epoch - 27ms/step
Epoch 8/100
876/876 - 23s - loss: 0.2375 - accuracy: 0.9122 - val_loss: 1.5471 - val_accuracy: 0.5602 - lr: 0.0010 - 23s/epoch - 26ms/step
Epoch 9/100
876/876 - 24s - loss: 0.2370 - accuracy: 0.9132 - val_loss: 1.4457 - val_accuracy: 0.5831 - lr: 0.0010 - 24s/epoch - 28ms/step
Epoch 10/100
876/876 - 23s - loss: 0.2327 - accuracy: 0.9130 - val_loss: 1.6194 - val_accuracy: 0.5435 - lr: 0.0010 - 23s/epoch - 26ms/step
Epoch 11/100
876/876 - 22s - loss: 0.2334 - accuracy: 0.9135 - val_loss: 1.4337 - val_accuracy: 0.5918 - lr: 0.0010 - 22s/epoch - 26ms/step
Epoch 12/100
876/876 - 22s - loss: 0.2355 - accuracy: 0.9128 - val_loss: 1.5599 - val_accuracy: 0.5603 - lr: 0.0010 - 22s/epoch - 26ms/step
Epoch 13/100
876/876 - 22s - loss: 0.2315 - accuracy: 0.9129 - val_loss: 1.7351 - val_accuracy: 0.5109 - lr: 0.0010 - 22s/epoch - 26ms/step
Epoch 14/100
876/876 - 22s - loss: 0.2307 - accuracy: 0.9149 - val_loss: 1.4712 - val_accuracy: 0.5791 - lr: 0.0010 - 22s/epoch - 26ms/step
Epoch 15/100
876/876 - 22s - loss: 0.2317 - accuracy: 0.9138 - val_loss: 1.5169 - val_accuracy: 0.5557 - lr: 0.0010 - 22s/epoch - 25ms/step
Epoch 16/100
876/876 - 22s - loss: 0.2291 - accuracy: 0.9153 - val_loss: 1.4541 - val_accuracy: 0.5852 - lr: 0.0010 - 22s/epoch - 25ms/step
Epoch 17/100
876/876 - 22s - loss: 0.2274 - accuracy: 0.9155 - val_loss: 1.4817 - val_accuracy: 0.5813 - lr: 0.0010 - 22s/epoch - 25ms/step
Epoch 18/100
876/876 - 22s - loss: 0.2262 - accuracy: 0.9163 - val_loss: 1.3798 - val_accuracy: 0.5935 - lr: 0.0010 - 22s/epoch - 25ms/step
Epoch 19/100
876/876 - 22s - loss: 0.2255 - accuracy: 0.9163 - val_loss: 1.6161 - val_accuracy: 0.5418 - lr: 0.0010 - 22s/epoch - 25ms/step
Epoch 20/100
876/876 - 22s - loss: 0.2294 - accuracy: 0.9142 - val_loss: 1.5450 - val_accuracy: 0.5537 - lr: 0.0010 - 22s/epoch - 25ms/step
Epoch 21/100
876/876 - 22s - loss: 0.2274 - accuracy: 0.9159 - val_loss: 1.5145 - val_accuracy: 0.5777 - lr: 0.0010 - 22s/epoch - 25ms/step
Epoch 22/100
876/876 - 22s - loss: 0.2259 - accuracy: 0.9165 - val_loss: 1.5179 - val_accuracy: 0.5650 - lr: 0.0010 - 22s/epoch - 26ms/step
Epoch 23/100
876/876 - 22s - loss: 0.2243 - accuracy: 0.9179 - val_loss: 1.6260 - val_accuracy: 0.5444 - lr: 0.0010 - 22s/epoch - 25ms/step
Epoch 24/100
876/876 - 23s - loss: 0.2249 - accuracy: 0.9172 - val_loss: 1.4092 - val_accuracy: 0.6026 - lr: 0.0010 - 23s/epoch - 26ms/step
Epoch 25/100
876/876 - 24s - loss: 0.2194 - accuracy: 0.9188 - val_loss: 1.6592 - val_accuracy: 0.5280 - lr: 0.0010 - 24s/epoch - 28ms/step
Epoch 26/100
876/876 - 23s - loss: 0.2209 - accuracy: 0.9183 - val_loss: 1.5612 - val_accuracy: 0.5682 - lr: 0.0010 - 23s/epoch - 27ms/step
Epoch 27/100
876/876 - 23s - loss: 0.2230 - accuracy: 0.9169 - val_loss: 1.4101 - val_accuracy: 0.5975 - lr: 0.0010 - 23s/epoch - 27ms/step
Epoch 28/100
876/876 - 23s - loss: 0.2210 - accuracy: 0.9190 - val_loss: 1.5445 - val_accuracy: 0.5627 - lr: 0.0010 - 23s/epoch - 26ms/step
Epoch 29/100
876/876 - 23s - loss: 0.2227 - accuracy: 0.9165 - val_loss: 1.4691 - val_accuracy: 0.5624 - lr: 0.0010 - 23s/epoch - 27ms/step
Epoch 30/100
876/876 - 23s - loss: 0.2199 - accuracy: 0.9182 - val_loss: 1.5238 - val_accuracy: 0.5487 - lr: 0.0010 - 23s/epoch - 26ms/step
Epoch 31/100
876/876 - 22s - loss: 0.2226 - accuracy: 0.9162 - val_loss: 1.3524 - val_accuracy: 0.6053 - lr: 0.0010 - 22s/epoch - 26ms/step
Epoch 32/100
876/876 - 22s - loss: 0.2177 - accuracy: 0.9199 - val_loss: 1.4308 - val_accuracy: 0.5828 - lr: 0.0010 - 22s/epoch - 25ms/step
Epoch 33/100
876/876 - 22s - loss: 0.2183 - accuracy: 0.9189 - val_loss: 1.6838 - val_accuracy: 0.5482 - lr: 0.0010 - 22s/epoch - 26ms/step
Epoch 34/100
876/876 - 22s - loss: 0.2177 - accuracy: 0.9189 - val_loss: 1.6195 - val_accuracy: 0.5526 - lr: 0.0010 - 22s/epoch - 25ms/step
Epoch 35/100
876/876 - 22s - loss: 0.2199 - accuracy: 0.9176 - val_loss: 1.4059 - val_accuracy: 0.5820 - lr: 0.0010 - 22s/epoch - 25ms/step
Epoch 36/100
876/876 - 23s - loss: 0.2167 - accuracy: 0.9196 - val_loss: 1.5477 - val_accuracy: 0.5665 - lr: 0.0010 - 23s/epoch - 26ms/step
Epoch 37/100
876/876 - 24s - loss: 0.2167 - accuracy: 0.9204 - val_loss: 1.6012 - val_accuracy: 0.5614 - lr: 0.0010 - 24s/epoch - 27ms/step
Epoch 38/100
876/876 - 23s - loss: 0.2183 - accuracy: 0.9190 - val_loss: 1.7464 - val_accuracy: 0.5455 - lr: 0.0010 - 23s/epoch - 26ms/step
Epoch 39/100
876/876 - 23s - loss: 0.2169 - accuracy: 0.9196 - val_loss: 1.5264 - val_accuracy: 0.5738 - lr: 0.0010 - 23s/epoch - 26ms/step
Epoch 40/100
876/876 - 22s - loss: 0.2170 - accuracy: 0.9195 - val_loss: 1.4617 - val_accuracy: 0.5932 - lr: 0.0010 - 22s/epoch - 26ms/step
Epoch 41/100
876/876 - 22s - loss: 0.2174 - accuracy: 0.9195 - val_loss: 1.5713 - val_accuracy: 0.5637 - lr: 0.0010 - 22s/epoch - 25ms/step
Epoch 42/100
876/876 - 22s - loss: 0.2154 - accuracy: 0.9194 - val_loss: 1.6899 - val_accuracy: 0.5393 - lr: 0.0010 - 22s/epoch - 26ms/step
Epoch 43/100
876/876 - 22s - loss: 0.2153 - accuracy: 0.9204 - val_loss: 1.4918 - val_accuracy: 0.5920 - lr: 0.0010 - 22s/epoch - 25ms/step
Epoch 44/100
876/876 - 22s - loss: 0.2177 - accuracy: 0.9194 - val_loss: 1.4726 - val_accuracy: 0.5894 - lr: 0.0010 - 22s/epoch - 25ms/step
Epoch 45/100
876/876 - 22s - loss: 0.2176 - accuracy: 0.9188 - val_loss: 1.5472 - val_accuracy: 0.5707 - lr: 0.0010 - 22s/epoch - 26ms/step
Epoch 46/100
876/876 - 22s - loss: 0.2150 - accuracy: 0.9205 - val_loss: 1.6883 - val_accuracy: 0.5223 - lr: 0.0010 - 22s/epoch - 25ms/step
Epoch 47/100
876/876 - 22s - loss: 0.2153 - accuracy: 0.9195 - val_loss: 1.5684 - val_accuracy: 0.5766 - lr: 0.0010 - 22s/epoch - 25ms/step
Epoch 48/100
876/876 - 22s - loss: 0.2122 - accuracy: 0.9215 - val_loss: 1.5670 - val_accuracy: 0.5612 - lr: 0.0010 - 22s/epoch - 25ms/step
Epoch 49/100
876/876 - 21s - loss: 0.2170 - accuracy: 0.9189 - val_loss: 1.5800 - val_accuracy: 0.5665 - lr: 0.0010 - 21s/epoch - 24ms/step
Epoch 50/100
876/876 - 22s - loss: 0.2136 - accuracy: 0.9215 - val_loss: 1.4252 - val_accuracy: 0.5991 - lr: 0.0010 - 22s/epoch - 25ms/step
Epoch 51/100
876/876 - 22s - loss: 0.2127 - accuracy: 0.9209 - val_loss: 1.6221 - val_accuracy: 0.5495 - lr: 0.0010 - 22s/epoch - 25ms/step
Epoch 52/100
876/876 - 22s - loss: 0.2103 - accuracy: 0.9218 - val_loss: 1.6640 - val_accuracy: 0.5610 - lr: 0.0010 - 22s/epoch - 25ms/step
Epoch 53/100
876/876 - 22s - loss: 0.2147 - accuracy: 0.9207 - val_loss: 1.6431 - val_accuracy: 0.5652 - lr: 0.0010 - 22s/epoch - 25ms/step
Epoch 54/100
876/876 - 22s - loss: 0.2138 - accuracy: 0.9210 - val_loss: 1.6485 - val_accuracy: 0.5665 - lr: 0.0010 - 22s/epoch - 25ms/step
Epoch 55/100
876/876 - 22s - loss: 0.2097 - accuracy: 0.9216 - val_loss: 1.5772 - val_accuracy: 0.5515 - lr: 0.0010 - 22s/epoch - 25ms/step
Epoch 56/100
876/876 - 22s - loss: 0.2111 - accuracy: 0.9220 - val_loss: 1.3743 - val_accuracy: 0.6127 - lr: 0.0010 - 22s/epoch - 26ms/step
Epoch 57/100
876/876 - 23s - loss: 0.2086 - accuracy: 0.9229 - val_loss: 1.5988 - val_accuracy: 0.5604 - lr: 0.0010 - 23s/epoch - 26ms/step
Epoch 58/100
876/876 - 22s - loss: 0.2073 - accuracy: 0.9236 - val_loss: 1.5320 - val_accuracy: 0.5668 - lr: 0.0010 - 22s/epoch - 26ms/step
Epoch 59/100
876/876 - 23s - loss: 0.2107 - accuracy: 0.9218 - val_loss: 1.5229 - val_accuracy: 0.5898 - lr: 0.0010 - 23s/epoch - 26ms/step
Epoch 60/100
876/876 - 22s - loss: 0.2109 - accuracy: 0.9209 - val_loss: 1.6325 - val_accuracy: 0.5423 - lr: 0.0010 - 22s/epoch - 25ms/step
Epoch 61/100
876/876 - 22s - loss: 0.2090 - accuracy: 0.9219 - val_loss: 1.6767 - val_accuracy: 0.5550 - lr: 0.0010 - 22s/epoch - 25ms/step
Epoch 62/100
876/876 - 22s - loss: 0.2142 - accuracy: 0.9205 - val_loss: 1.5257 - val_accuracy: 0.5696 - lr: 0.0010 - 22s/epoch - 25ms/step
Epoch 63/100
876/876 - 22s - loss: 0.2113 - accuracy: 0.9224 - val_loss: 1.6910 - val_accuracy: 0.5370 - lr: 0.0010 - 22s/epoch - 26ms/step
Epoch 64/100
876/876 - 23s - loss: 0.2101 - accuracy: 0.9226 - val_loss: 1.7160 - val_accuracy: 0.5338 - lr: 0.0010 - 23s/epoch - 26ms/step
Epoch 65/100
876/876 - 22s - loss: 0.2097 - accuracy: 0.9225 - val_loss: 1.5510 - val_accuracy: 0.5700 - lr: 0.0010 - 22s/epoch - 26ms/step
Epoch 66/100
876/876 - 22s - loss: 0.2103 - accuracy: 0.9222 - val_loss: 1.4197 - val_accuracy: 0.5946 - lr: 0.0010 - 22s/epoch - 25ms/step
Epoch 67/100
876/876 - 22s - loss: 0.2099 - accuracy: 0.9215 - val_loss: 1.6267 - val_accuracy: 0.5671 - lr: 0.0010 - 22s/epoch - 25ms/step
Epoch 68/100
876/876 - 22s - loss: 0.2063 - accuracy: 0.9229 - val_loss: 1.6598 - val_accuracy: 0.5585 - lr: 0.0010 - 22s/epoch - 25ms/step
Epoch 69/100
876/876 - 22s - loss: 0.2088 - accuracy: 0.9229 - val_loss: 1.5866 - val_accuracy: 0.5647 - lr: 0.0010 - 22s/epoch - 25ms/step
Epoch 70/100
876/876 - 23s - loss: 0.2101 - accuracy: 0.9218 - val_loss: 1.6116 - val_accuracy: 0.5754 - lr: 0.0010 - 23s/epoch - 26ms/step
Epoch 71/100
876/876 - 23s - loss: 0.2093 - accuracy: 0.9228 - val_loss: 1.4589 - val_accuracy: 0.5912 - lr: 0.0010 - 23s/epoch - 26ms/step
Epoch 72/100
876/876 - 22s - loss: 0.2131 - accuracy: 0.9218 - val_loss: 1.5903 - val_accuracy: 0.5849 - lr: 0.0010 - 22s/epoch - 26ms/step
Epoch 73/100
876/876 - 22s - loss: 0.2096 - accuracy: 0.9226 - val_loss: 1.5823 - val_accuracy: 0.5728 - lr: 0.0010 - 22s/epoch - 26ms/step
Epoch 74/100
876/876 - 22s - loss: 0.2072 - accuracy: 0.9231 - val_loss: 1.5893 - val_accuracy: 0.5544 - lr: 0.0010 - 22s/epoch - 26ms/step
Epoch 75/100
876/876 - 22s - loss: 0.2025 - accuracy: 0.9250 - val_loss: 1.7091 - val_accuracy: 0.5498 - lr: 0.0010 - 22s/epoch - 25ms/step
Epoch 76/100
876/876 - 22s - loss: 0.2035 - accuracy: 0.9247 - val_loss: 1.8677 - val_accuracy: 0.5272 - lr: 0.0010 - 22s/epoch - 25ms/step
Epoch 77/100
876/876 - 22s - loss: 0.2028 - accuracy: 0.9244 - val_loss: 1.6616 - val_accuracy: 0.5540 - lr: 0.0010 - 22s/epoch - 25ms/step
Epoch 78/100
876/876 - 22s - loss: 0.2058 - accuracy: 0.9240 - val_loss: 1.7550 - val_accuracy: 0.5585 - lr: 0.0010 - 22s/epoch - 25ms/step
Epoch 79/100
876/876 - 22s - loss: 0.2084 - accuracy: 0.9224 - val_loss: 1.5542 - val_accuracy: 0.5855 - lr: 0.0010 - 22s/epoch - 25ms/step
Epoch 80/100
876/876 - 22s - loss: 0.2084 - accuracy: 0.9222 - val_loss: 1.6030 - val_accuracy: 0.5761 - lr: 0.0010 - 22s/epoch - 25ms/step
Epoch 81/100
876/876 - 22s - loss: 0.2070 - accuracy: 0.9218 - val_loss: 1.7411 - val_accuracy: 0.5453 - lr: 0.0010 - 22s/epoch - 25ms/step
Epoch 82/100
876/876 - 22s - loss: 0.2009 - accuracy: 0.9252 - val_loss: 1.6280 - val_accuracy: 0.5846 - lr: 0.0010 - 22s/epoch - 26ms/step
Epoch 83/100
876/876 - 23s - loss: 0.2069 - accuracy: 0.9244 - val_loss: 1.6957 - val_accuracy: 0.5624 - lr: 0.0010 - 23s/epoch - 26ms/step
Epoch 84/100
876/876 - 23s - loss: 0.2040 - accuracy: 0.9246 - val_loss: 1.6246 - val_accuracy: 0.5883 - lr: 0.0010 - 23s/epoch - 26ms/step
Epoch 85/100
876/876 - 23s - loss: 0.2051 - accuracy: 0.9233 - val_loss: 1.6342 - val_accuracy: 0.5764 - lr: 0.0010 - 23s/epoch - 26ms/step
Epoch 86/100
876/876 - 23s - loss: 0.2039 - accuracy: 0.9253 - val_loss: 1.7555 - val_accuracy: 0.5502 - lr: 0.0010 - 23s/epoch - 26ms/step
Epoch 87/100
876/876 - 23s - loss: 0.2003 - accuracy: 0.9260 - val_loss: 1.6160 - val_accuracy: 0.5693 - lr: 0.0010 - 23s/epoch - 26ms/step
Epoch 88/100
876/876 - 22s - loss: 0.2031 - accuracy: 0.9236 - val_loss: 1.5956 - val_accuracy: 0.5833 - lr: 0.0010 - 22s/epoch - 26ms/step
Epoch 89/100
876/876 - 23s - loss: 0.2042 - accuracy: 0.9236 - val_loss: 1.5809 - val_accuracy: 0.5641 - lr: 0.0010 - 23s/epoch - 26ms/step
Epoch 90/100
876/876 - 23s - loss: 0.2031 - accuracy: 0.9245 - val_loss: 1.6739 - val_accuracy: 0.5740 - lr: 0.0010 - 23s/epoch - 27ms/step
Epoch 91/100
876/876 - 22s - loss: 0.2019 - accuracy: 0.9257 - val_loss: 1.6423 - val_accuracy: 0.5622 - lr: 0.0010 - 22s/epoch - 25ms/step
Epoch 92/100
876/876 - 23s - loss: 0.2048 - accuracy: 0.9244 - val_loss: 1.6572 - val_accuracy: 0.5625 - lr: 0.0010 - 23s/epoch - 26ms/step
Epoch 93/100
876/876 - 22s - loss: 0.2057 - accuracy: 0.9241 - val_loss: 1.7706 - val_accuracy: 0.5350 - lr: 0.0010 - 22s/epoch - 25ms/step
Epoch 94/100
876/876 - 23s - loss: 0.2055 - accuracy: 0.9241 - val_loss: 1.4599 - val_accuracy: 0.5947 - lr: 0.0010 - 23s/epoch - 26ms/step
Epoch 95/100
876/876 - 24s - loss: 0.2027 - accuracy: 0.9249 - val_loss: 1.5900 - val_accuracy: 0.5879 - lr: 0.0010 - 24s/epoch - 27ms/step
Epoch 96/100
876/876 - 25s - loss: 0.1995 - accuracy: 0.9254 - val_loss: 1.5499 - val_accuracy: 0.5832 - lr: 0.0010 - 25s/epoch - 28ms/step
Epoch 97/100
876/876 - 25s - loss: 0.2041 - accuracy: 0.9249 - val_loss: 1.6424 - val_accuracy: 0.5572 - lr: 0.0010 - 25s/epoch - 28ms/step
Epoch 98/100
876/876 - 23s - loss: 0.2040 - accuracy: 0.9241 - val_loss: 1.6228 - val_accuracy: 0.5654 - lr: 0.0010 - 23s/epoch - 26ms/step
Epoch 99/100
876/876 - 25s - loss: 0.2015 - accuracy: 0.9248 - val_loss: 1.5698 - val_accuracy: 0.5910 - lr: 0.0010 - 25s/epoch - 29ms/step
Epoch 100/100
876/876 - 25s - loss: 0.2020 - accuracy: 0.9260 - val_loss: 1.6836 - val_accuracy: 0.5597 - lr: 0.0010 - 25s/epoch - 29ms/step
Epoch 1/100
176/176 - 16s - loss: 0.1524 - accuracy: 0.9455 - val_loss: 1.7931 - val_accuracy: 0.5651 - lr: 0.0010 - 16s/epoch - 91ms/step
Epoch 2/100
176/176 - 14s - loss: 0.1344 - accuracy: 0.9525 - val_loss: 1.9127 - val_accuracy: 0.5542 - lr: 0.0010 - 14s/epoch - 78ms/step
Epoch 3/100
176/176 - 14s - loss: 0.1292 - accuracy: 0.9542 - val_loss: 1.9664 - val_accuracy: 0.5581 - lr: 0.0010 - 14s/epoch - 78ms/step
Epoch 4/100
176/176 - 14s - loss: 0.1297 - accuracy: 0.9539 - val_loss: 2.0752 - val_accuracy: 0.5398 - lr: 0.0010 - 14s/epoch - 77ms/step
Epoch 5/100
176/176 - 14s - loss: 0.1300 - accuracy: 0.9532 - val_loss: 2.0966 - val_accuracy: 0.5443 - lr: 0.0010 - 14s/epoch - 78ms/step
Epoch 6/100
176/176 - 14s - loss: 0.1338 - accuracy: 0.9518 - val_loss: 1.9582 - val_accuracy: 0.5599 - lr: 0.0010 - 14s/epoch - 78ms/step
Epoch 7/100
176/176 - 13s - loss: 0.1356 - accuracy: 0.9513 - val_loss: 2.1756 - val_accuracy: 0.5352 - lr: 0.0010 - 13s/epoch - 73ms/step
Epoch 8/100
176/176 - 13s - loss: 0.1350 - accuracy: 0.9513 - val_loss: 2.0467 - val_accuracy: 0.5548 - lr: 0.0010 - 13s/epoch - 71ms/step
Epoch 9/100
176/176 - 12s - loss: 0.1330 - accuracy: 0.9518 - val_loss: 2.0403 - val_accuracy: 0.5718 - lr: 0.0010 - 12s/epoch - 68ms/step
Epoch 10/100
176/176 - 14s - loss: 0.1355 - accuracy: 0.9513 - val_loss: 2.0325 - val_accuracy: 0.5694 - lr: 0.0010 - 14s/epoch - 77ms/step
Epoch 11/100
176/176 - 14s - loss: 0.1364 - accuracy: 0.9505 - val_loss: 2.2472 - val_accuracy: 0.5370 - lr: 0.0010 - 14s/epoch - 79ms/step
Epoch 12/100
176/176 - 14s - loss: 0.1322 - accuracy: 0.9525 - val_loss: 2.1119 - val_accuracy: 0.5609 - lr: 0.0010 - 14s/epoch - 78ms/step
Epoch 13/100
176/176 - 14s - loss: 0.1344 - accuracy: 0.9514 - val_loss: 2.1353 - val_accuracy: 0.5624 - lr: 0.0010 - 14s/epoch - 77ms/step
Epoch 14/100
176/176 - 14s - loss: 0.1359 - accuracy: 0.9506 - val_loss: 2.0685 - val_accuracy: 0.5707 - lr: 0.0010 - 14s/epoch - 78ms/step
Epoch 15/100
176/176 - 14s - loss: 0.1300 - accuracy: 0.9531 - val_loss: 2.0091 - val_accuracy: 0.5798 - lr: 0.0010 - 14s/epoch - 77ms/step
Epoch 16/100
176/176 - 14s - loss: 0.1305 - accuracy: 0.9534 - val_loss: 2.1493 - val_accuracy: 0.5496 - lr: 0.0010 - 14s/epoch - 78ms/step
Epoch 17/100
176/176 - 14s - loss: 0.1300 - accuracy: 0.9531 - val_loss: 2.0910 - val_accuracy: 0.5494 - lr: 0.0010 - 14s/epoch - 77ms/step
Epoch 18/100
176/176 - 13s - loss: 0.1271 - accuracy: 0.9536 - val_loss: 2.0355 - val_accuracy: 0.5704 - lr: 0.0010 - 13s/epoch - 72ms/step
Epoch 19/100
176/176 - 11s - loss: 0.1289 - accuracy: 0.9534 - val_loss: 2.1471 - val_accuracy: 0.5685 - lr: 0.0010 - 11s/epoch - 61ms/step
Epoch 20/100
176/176 - 11s - loss: 0.1299 - accuracy: 0.9547 - val_loss: 1.9430 - val_accuracy: 0.5706 - lr: 0.0010 - 11s/epoch - 65ms/step
Epoch 21/100
176/176 - 13s - loss: 0.1285 - accuracy: 0.9542 - val_loss: 2.0980 - val_accuracy: 0.5773 - lr: 0.0010 - 13s/epoch - 73ms/step
Epoch 22/100
176/176 - 13s - loss: 0.1288 - accuracy: 0.9536 - val_loss: 2.0485 - val_accuracy: 0.5650 - lr: 0.0010 - 13s/epoch - 76ms/step
Epoch 23/100
176/176 - 14s - loss: 0.1281 - accuracy: 0.9545 - val_loss: 2.1960 - val_accuracy: 0.5596 - lr: 0.0010 - 14s/epoch - 78ms/step
Epoch 24/100
176/176 - 14s - loss: 0.1300 - accuracy: 0.9536 - val_loss: 2.1858 - val_accuracy: 0.5511 - lr: 0.0010 - 14s/epoch - 77ms/step
Epoch 25/100
176/176 - 11s - loss: 0.1319 - accuracy: 0.9521 - val_loss: 2.1752 - val_accuracy: 0.5540 - lr: 0.0010 - 11s/epoch - 63ms/step
Epoch 26/100
176/176 - 13s - loss: 0.1291 - accuracy: 0.9530 - val_loss: 2.1807 - val_accuracy: 0.5573 - lr: 0.0010 - 13s/epoch - 71ms/step
Epoch 27/100
176/176 - 13s - loss: 0.1269 - accuracy: 0.9540 - val_loss: 2.1067 - val_accuracy: 0.5757 - lr: 0.0010 - 13s/epoch - 73ms/step
Epoch 28/100
176/176 - 13s - loss: 0.1238 - accuracy: 0.9558 - val_loss: 2.1220 - val_accuracy: 0.5713 - lr: 0.0010 - 13s/epoch - 73ms/step
Epoch 29/100
176/176 - 13s - loss: 0.1277 - accuracy: 0.9547 - val_loss: 2.2198 - val_accuracy: 0.5527 - lr: 0.0010 - 13s/epoch - 74ms/step
Epoch 30/100
176/176 - 13s - loss: 0.1241 - accuracy: 0.9557 - val_loss: 2.1739 - val_accuracy: 0.5676 - lr: 0.0010 - 13s/epoch - 74ms/step
Epoch 31/100
176/176 - 13s - loss: 0.1258 - accuracy: 0.9547 - val_loss: 2.2704 - val_accuracy: 0.5472 - lr: 0.0010 - 13s/epoch - 73ms/step
Epoch 32/100
176/176 - 13s - loss: 0.1279 - accuracy: 0.9536 - val_loss: 2.2330 - val_accuracy: 0.5595 - lr: 0.0010 - 13s/epoch - 73ms/step
Epoch 33/100
176/176 - 13s - loss: 0.1280 - accuracy: 0.9540 - val_loss: 2.2728 - val_accuracy: 0.5413 - lr: 0.0010 - 13s/epoch - 74ms/step
Epoch 34/100
176/176 - 13s - loss: 0.1239 - accuracy: 0.9558 - val_loss: 2.1308 - val_accuracy: 0.5865 - lr: 0.0010 - 13s/epoch - 74ms/step
Epoch 35/100
176/176 - 13s - loss: 0.1274 - accuracy: 0.9539 - val_loss: 2.2619 - val_accuracy: 0.5601 - lr: 0.0010 - 13s/epoch - 74ms/step
Epoch 36/100
176/176 - 13s - loss: 0.1240 - accuracy: 0.9552 - val_loss: 2.2717 - val_accuracy: 0.5650 - lr: 0.0010 - 13s/epoch - 73ms/step
Epoch 37/100
176/176 - 12s - loss: 0.1262 - accuracy: 0.9545 - val_loss: 2.4309 - val_accuracy: 0.5356 - lr: 0.0010 - 12s/epoch - 69ms/step
Epoch 38/100
176/176 - 12s - loss: 0.1260 - accuracy: 0.9545 - val_loss: 2.2098 - val_accuracy: 0.5640 - lr: 0.0010 - 12s/epoch - 66ms/step
Epoch 39/100
176/176 - 13s - loss: 0.1242 - accuracy: 0.9556 - val_loss: 2.3268 - val_accuracy: 0.5413 - lr: 0.0010 - 13s/epoch - 73ms/step
Epoch 40/100
176/176 - 14s - loss: 0.1260 - accuracy: 0.9549 - val_loss: 2.2752 - val_accuracy: 0.5687 - lr: 0.0010 - 14s/epoch - 79ms/step
Epoch 41/100
176/176 - 14s - loss: 0.1243 - accuracy: 0.9556 - val_loss: 2.3950 - val_accuracy: 0.5433 - lr: 0.0010 - 14s/epoch - 77ms/step
Epoch 42/100
176/176 - 13s - loss: 0.1256 - accuracy: 0.9551 - val_loss: 2.2163 - val_accuracy: 0.5517 - lr: 0.0010 - 13s/epoch - 71ms/step
Epoch 43/100
176/176 - 11s - loss: 0.1259 - accuracy: 0.9549 - val_loss: 2.2918 - val_accuracy: 0.5530 - lr: 0.0010 - 11s/epoch - 63ms/step
Epoch 44/100
176/176 - 11s - loss: 0.1196 - accuracy: 0.9579 - val_loss: 2.2890 - val_accuracy: 0.5487 - lr: 0.0010 - 11s/epoch - 63ms/step
Epoch 45/100
176/176 - 11s - loss: 0.1166 - accuracy: 0.9592 - val_loss: 2.2737 - val_accuracy: 0.5564 - lr: 0.0010 - 11s/epoch - 64ms/step
Epoch 46/100
176/176 - 11s - loss: 0.1191 - accuracy: 0.9576 - val_loss: 2.3530 - val_accuracy: 0.5494 - lr: 0.0010 - 11s/epoch - 64ms/step
Epoch 47/100
176/176 - 10s - loss: 0.1197 - accuracy: 0.9573 - val_loss: 2.3220 - val_accuracy: 0.5470 - lr: 0.0010 - 10s/epoch - 60ms/step
Epoch 48/100
176/176 - 11s - loss: 0.1170 - accuracy: 0.9582 - val_loss: 2.1268 - val_accuracy: 0.5811 - lr: 0.0010 - 11s/epoch - 63ms/step
Epoch 49/100
176/176 - 12s - loss: 0.1161 - accuracy: 0.9593 - val_loss: 2.3111 - val_accuracy: 0.5603 - lr: 0.0010 - 12s/epoch - 69ms/step
Epoch 50/100
176/176 - 12s - loss: 0.1216 - accuracy: 0.9566 - val_loss: 2.3107 - val_accuracy: 0.5546 - lr: 0.0010 - 12s/epoch - 66ms/step
Epoch 51/100
176/176 - 11s - loss: 0.1242 - accuracy: 0.9552 - val_loss: 2.0511 - val_accuracy: 0.5813 - lr: 0.0010 - 11s/epoch - 64ms/step
Epoch 52/100
176/176 - 11s - loss: 0.1216 - accuracy: 0.9562 - val_loss: 2.2319 - val_accuracy: 0.5619 - lr: 0.0010 - 11s/epoch - 65ms/step
Epoch 53/100
176/176 - 13s - loss: 0.1163 - accuracy: 0.9589 - val_loss: 2.2499 - val_accuracy: 0.5749 - lr: 0.0010 - 13s/epoch - 75ms/step
Epoch 54/100
176/176 - 12s - loss: 0.1183 - accuracy: 0.9581 - val_loss: 2.2981 - val_accuracy: 0.5532 - lr: 0.0010 - 12s/epoch - 67ms/step
Epoch 55/100
176/176 - 11s - loss: 0.1189 - accuracy: 0.9574 - val_loss: 2.3122 - val_accuracy: 0.5501 - lr: 0.0010 - 11s/epoch - 64ms/step
Epoch 56/100
176/176 - 12s - loss: 0.1201 - accuracy: 0.9571 - val_loss: 2.2698 - val_accuracy: 0.5575 - lr: 0.0010 - 12s/epoch - 66ms/step
Epoch 57/100
176/176 - 12s - loss: 0.1224 - accuracy: 0.9558 - val_loss: 2.2567 - val_accuracy: 0.5610 - lr: 0.0010 - 12s/epoch - 70ms/step
Epoch 58/100
176/176 - 12s - loss: 0.1187 - accuracy: 0.9578 - val_loss: 2.2781 - val_accuracy: 0.5543 - lr: 0.0010 - 12s/epoch - 69ms/step
Epoch 59/100
176/176 - 12s - loss: 0.1177 - accuracy: 0.9579 - val_loss: 2.2610 - val_accuracy: 0.5655 - lr: 0.0010 - 12s/epoch - 68ms/step
Epoch 60/100
176/176 - 12s - loss: 0.1151 - accuracy: 0.9597 - val_loss: 2.3048 - val_accuracy: 0.5672 - lr: 0.0010 - 12s/epoch - 67ms/step
Epoch 61/100
176/176 - 12s - loss: 0.1193 - accuracy: 0.9569 - val_loss: 2.1750 - val_accuracy: 0.5814 - lr: 0.0010 - 12s/epoch - 68ms/step
Epoch 62/100
176/176 - 12s - loss: 0.1189 - accuracy: 0.9574 - val_loss: 2.2643 - val_accuracy: 0.5718 - lr: 0.0010 - 12s/epoch - 68ms/step
Epoch 63/100
176/176 - 12s - loss: 0.1176 - accuracy: 0.9574 - val_loss: 2.3238 - val_accuracy: 0.5644 - lr: 0.0010 - 12s/epoch - 69ms/step
Epoch 64/100
176/176 - 12s - loss: 0.1183 - accuracy: 0.9581 - val_loss: 2.2383 - val_accuracy: 0.5778 - lr: 0.0010 - 12s/epoch - 68ms/step
Epoch 65/100
176/176 - 12s - loss: 0.1187 - accuracy: 0.9578 - val_loss: 2.3868 - val_accuracy: 0.5466 - lr: 0.0010 - 12s/epoch - 68ms/step
Epoch 66/100
176/176 - 12s - loss: 0.1232 - accuracy: 0.9556 - val_loss: 2.3226 - val_accuracy: 0.5634 - lr: 0.0010 - 12s/epoch - 69ms/step
Epoch 67/100
176/176 - 11s - loss: 0.1199 - accuracy: 0.9567 - val_loss: 2.3271 - val_accuracy: 0.5650 - lr: 0.0010 - 11s/epoch - 63ms/step
Epoch 68/100
176/176 - 10s - loss: 0.1243 - accuracy: 0.9550 - val_loss: 2.2469 - val_accuracy: 0.5662 - lr: 0.0010 - 10s/epoch - 60ms/step
Epoch 69/100
176/176 - 10s - loss: 0.1219 - accuracy: 0.9565 - val_loss: 2.2144 - val_accuracy: 0.5601 - lr: 0.0010 - 10s/epoch - 59ms/step
Epoch 70/100
176/176 - 10s - loss: 0.1219 - accuracy: 0.9563 - val_loss: 2.3121 - val_accuracy: 0.5561 - lr: 0.0010 - 10s/epoch - 59ms/step
Epoch 71/100
176/176 - 10s - loss: 0.1213 - accuracy: 0.9567 - val_loss: 2.2783 - val_accuracy: 0.5603 - lr: 0.0010 - 10s/epoch - 59ms/step
Epoch 72/100
176/176 - 11s - loss: 0.1225 - accuracy: 0.9550 - val_loss: 2.1890 - val_accuracy: 0.5670 - lr: 0.0010 - 11s/epoch - 60ms/step
Epoch 73/100
176/176 - 10s - loss: 0.1236 - accuracy: 0.9560 - val_loss: 2.1944 - val_accuracy: 0.5775 - lr: 0.0010 - 10s/epoch - 58ms/step
Epoch 74/100
176/176 - 11s - loss: 0.1206 - accuracy: 0.9564 - val_loss: 2.2649 - val_accuracy: 0.5647 - lr: 0.0010 - 11s/epoch - 61ms/step
Epoch 75/100
176/176 - 12s - loss: 0.1226 - accuracy: 0.9554 - val_loss: 2.2643 - val_accuracy: 0.5611 - lr: 0.0010 - 12s/epoch - 68ms/step
Epoch 76/100
176/176 - 11s - loss: 0.1243 - accuracy: 0.9558 - val_loss: 2.2345 - val_accuracy: 0.5826 - lr: 0.0010 - 11s/epoch - 62ms/step
Epoch 77/100
176/176 - 12s - loss: 0.1196 - accuracy: 0.9574 - val_loss: 2.2408 - val_accuracy: 0.5688 - lr: 0.0010 - 12s/epoch - 66ms/step
Epoch 78/100
176/176 - 11s - loss: 0.1182 - accuracy: 0.9575 - val_loss: 2.2633 - val_accuracy: 0.5719 - lr: 0.0010 - 11s/epoch - 65ms/step
Epoch 79/100
176/176 - 11s - loss: 0.1229 - accuracy: 0.9565 - val_loss: 2.2931 - val_accuracy: 0.5682 - lr: 0.0010 - 11s/epoch - 63ms/step
Epoch 80/100
176/176 - 11s - loss: 0.1216 - accuracy: 0.9562 - val_loss: 2.2463 - val_accuracy: 0.5603 - lr: 0.0010 - 11s/epoch - 64ms/step
Epoch 81/100
176/176 - 11s - loss: 0.1211 - accuracy: 0.9564 - val_loss: 2.1990 - val_accuracy: 0.5853 - lr: 0.0010 - 11s/epoch - 64ms/step
Epoch 82/100
176/176 - 11s - loss: 0.1164 - accuracy: 0.9580 - val_loss: 2.2269 - val_accuracy: 0.5745 - lr: 0.0010 - 11s/epoch - 64ms/step
Epoch 83/100
176/176 - 11s - loss: 0.1115 - accuracy: 0.9611 - val_loss: 2.2106 - val_accuracy: 0.5787 - lr: 0.0010 - 11s/epoch - 63ms/step
Epoch 84/100
176/176 - 11s - loss: 0.1114 - accuracy: 0.9609 - val_loss: 2.3019 - val_accuracy: 0.5841 - lr: 0.0010 - 11s/epoch - 63ms/step
Epoch 85/100
176/176 - 11s - loss: 0.1155 - accuracy: 0.9587 - val_loss: 2.2856 - val_accuracy: 0.5648 - lr: 0.0010 - 11s/epoch - 64ms/step
Epoch 86/100
176/176 - 11s - loss: 0.1171 - accuracy: 0.9580 - val_loss: 2.2899 - val_accuracy: 0.5682 - lr: 0.0010 - 11s/epoch - 63ms/step
Epoch 87/100
176/176 - 11s - loss: 0.1174 - accuracy: 0.9580 - val_loss: 2.3052 - val_accuracy: 0.5733 - lr: 0.0010 - 11s/epoch - 64ms/step
Epoch 88/100
176/176 - 11s - loss: 0.1140 - accuracy: 0.9593 - val_loss: 2.2959 - val_accuracy: 0.5663 - lr: 0.0010 - 11s/epoch - 65ms/step
Epoch 89/100
176/176 - 11s - loss: 0.1145 - accuracy: 0.9593 - val_loss: 2.3847 - val_accuracy: 0.5568 - lr: 0.0010 - 11s/epoch - 62ms/step
Epoch 90/100
176/176 - 11s - loss: 0.1112 - accuracy: 0.9605 - val_loss: 2.2327 - val_accuracy: 0.5706 - lr: 0.0010 - 11s/epoch - 63ms/step
Epoch 91/100
176/176 - 11s - loss: 0.1075 - accuracy: 0.9623 - val_loss: 2.4596 - val_accuracy: 0.5412 - lr: 0.0010 - 11s/epoch - 63ms/step
Epoch 92/100
176/176 - 11s - loss: 0.1149 - accuracy: 0.9587 - val_loss: 2.5635 - val_accuracy: 0.5465 - lr: 0.0010 - 11s/epoch - 63ms/step
Epoch 93/100
176/176 - 11s - loss: 0.1161 - accuracy: 0.9586 - val_loss: 2.4076 - val_accuracy: 0.5580 - lr: 0.0010 - 11s/epoch - 61ms/step
Epoch 94/100
176/176 - 12s - loss: 0.1193 - accuracy: 0.9575 - val_loss: 2.4281 - val_accuracy: 0.5529 - lr: 0.0010 - 12s/epoch - 66ms/step
Epoch 95/100
176/176 - 12s - loss: 0.1189 - accuracy: 0.9575 - val_loss: 2.1921 - val_accuracy: 0.5808 - lr: 0.0010 - 12s/epoch - 66ms/step
Epoch 96/100
176/176 - 11s - loss: 0.1188 - accuracy: 0.9578 - val_loss: 2.1999 - val_accuracy: 0.5663 - lr: 0.0010 - 11s/epoch - 65ms/step
Epoch 97/100
176/176 - 12s - loss: 0.1188 - accuracy: 0.9579 - val_loss: 2.3321 - val_accuracy: 0.5548 - lr: 0.0010 - 12s/epoch - 66ms/step
Epoch 98/100
176/176 - 12s - loss: 0.1175 - accuracy: 0.9577 - val_loss: 2.2939 - val_accuracy: 0.5676 - lr: 0.0010 - 12s/epoch - 67ms/step
Epoch 99/100
176/176 - 12s - loss: 0.1168 - accuracy: 0.9584 - val_loss: 2.1605 - val_accuracy: 0.5861 - lr: 0.0010 - 12s/epoch - 65ms/step
Epoch 100/100
176/176 - 11s - loss: 0.1216 - accuracy: 0.9568 - val_loss: 2.3583 - val_accuracy: 0.5563 - lr: 0.0010 - 11s/epoch - 64ms/step
Epoch 1/100
36/36 - 17s - loss: 0.1041 - accuracy: 0.9630 - val_loss: 2.3394 - val_accuracy: 0.5622 - lr: 0.0010 - 17s/epoch - 474ms/step
Epoch 2/100
36/36 - 10s - loss: 0.0967 - accuracy: 0.9669 - val_loss: 2.2774 - val_accuracy: 0.5696 - lr: 0.0010 - 10s/epoch - 273ms/step
Epoch 3/100
36/36 - 10s - loss: 0.0905 - accuracy: 0.9692 - val_loss: 2.3191 - val_accuracy: 0.5712 - lr: 0.0010 - 10s/epoch - 271ms/step
Epoch 4/100
36/36 - 10s - loss: 0.0897 - accuracy: 0.9692 - val_loss: 2.3284 - val_accuracy: 0.5717 - lr: 0.0010 - 10s/epoch - 267ms/step
Epoch 5/100
36/36 - 10s - loss: 0.0903 - accuracy: 0.9681 - val_loss: 2.3619 - val_accuracy: 0.5672 - lr: 0.0010 - 10s/epoch - 270ms/step
Epoch 6/100
36/36 - 10s - loss: 0.0888 - accuracy: 0.9692 - val_loss: 2.4366 - val_accuracy: 0.5601 - lr: 0.0010 - 10s/epoch - 270ms/step
Epoch 7/100
36/36 - 10s - loss: 0.0889 - accuracy: 0.9695 - val_loss: 2.4604 - val_accuracy: 0.5623 - lr: 0.0010 - 10s/epoch - 269ms/step
Epoch 8/100
36/36 - 10s - loss: 0.0907 - accuracy: 0.9689 - val_loss: 2.4527 - val_accuracy: 0.5655 - lr: 0.0010 - 10s/epoch - 266ms/step
Epoch 9/100
36/36 - 10s - loss: 0.0857 - accuracy: 0.9708 - val_loss: 2.5428 - val_accuracy: 0.5556 - lr: 0.0010 - 10s/epoch - 268ms/step
Epoch 10/100
36/36 - 10s - loss: 0.0882 - accuracy: 0.9697 - val_loss: 2.5215 - val_accuracy: 0.5581 - lr: 0.0010 - 10s/epoch - 274ms/step
Epoch 11/100
36/36 - 10s - loss: 0.0888 - accuracy: 0.9702 - val_loss: 2.5018 - val_accuracy: 0.5555 - lr: 0.0010 - 10s/epoch - 267ms/step
Epoch 12/100
36/36 - 10s - loss: 0.0821 - accuracy: 0.9723 - val_loss: 2.5286 - val_accuracy: 0.5581 - lr: 0.0010 - 10s/epoch - 270ms/step
Epoch 13/100
36/36 - 10s - loss: 0.0843 - accuracy: 0.9713 - val_loss: 2.5070 - val_accuracy: 0.5627 - lr: 0.0010 - 10s/epoch - 271ms/step
Epoch 14/100
36/36 - 10s - loss: 0.0842 - accuracy: 0.9710 - val_loss: 2.5650 - val_accuracy: 0.5571 - lr: 0.0010 - 10s/epoch - 270ms/step
Epoch 15/100
36/36 - 10s - loss: 0.0834 - accuracy: 0.9716 - val_loss: 2.5721 - val_accuracy: 0.5549 - lr: 0.0010 - 10s/epoch - 269ms/step
Epoch 16/100
36/36 - 10s - loss: 0.0820 - accuracy: 0.9723 - val_loss: 2.5136 - val_accuracy: 0.5658 - lr: 0.0010 - 10s/epoch - 267ms/step
Epoch 17/100
36/36 - 10s - loss: 0.0814 - accuracy: 0.9721 - val_loss: 2.6085 - val_accuracy: 0.5577 - lr: 0.0010 - 10s/epoch - 266ms/step
Epoch 18/100
36/36 - 10s - loss: 0.0828 - accuracy: 0.9721 - val_loss: 2.5879 - val_accuracy: 0.5582 - lr: 0.0010 - 10s/epoch - 265ms/step
Epoch 19/100
36/36 - 10s - loss: 0.0816 - accuracy: 0.9723 - val_loss: 2.6294 - val_accuracy: 0.5533 - lr: 0.0010 - 10s/epoch - 268ms/step
Epoch 20/100
36/36 - 10s - loss: 0.0784 - accuracy: 0.9734 - val_loss: 2.5785 - val_accuracy: 0.5666 - lr: 0.0010 - 10s/epoch - 266ms/step
Epoch 21/100
36/36 - 10s - loss: 0.0831 - accuracy: 0.9711 - val_loss: 2.6356 - val_accuracy: 0.5554 - lr: 0.0010 - 10s/epoch - 266ms/step
Epoch 22/100
36/36 - 10s - loss: 0.0843 - accuracy: 0.9711 - val_loss: 2.6420 - val_accuracy: 0.5539 - lr: 0.0010 - 10s/epoch - 266ms/step
Epoch 23/100
36/36 - 10s - loss: 0.0851 - accuracy: 0.9710 - val_loss: 2.6381 - val_accuracy: 0.5571 - lr: 0.0010 - 10s/epoch - 280ms/step
Epoch 24/100
36/36 - 10s - loss: 0.0819 - accuracy: 0.9724 - val_loss: 2.6230 - val_accuracy: 0.5592 - lr: 0.0010 - 10s/epoch - 269ms/step
Epoch 25/100
36/36 - 11s - loss: 0.0862 - accuracy: 0.9705 - val_loss: 2.6499 - val_accuracy: 0.5525 - lr: 0.0010 - 11s/epoch - 294ms/step
Epoch 26/100
36/36 - 10s - loss: 0.0830 - accuracy: 0.9711 - val_loss: 2.5888 - val_accuracy: 0.5607 - lr: 0.0010 - 10s/epoch - 273ms/step
Epoch 27/100
36/36 - 11s - loss: 0.0828 - accuracy: 0.9716 - val_loss: 2.6238 - val_accuracy: 0.5601 - lr: 0.0010 - 11s/epoch - 292ms/step
Epoch 28/100
36/36 - 10s - loss: 0.0853 - accuracy: 0.9708 - val_loss: 2.5749 - val_accuracy: 0.5653 - lr: 0.0010 - 10s/epoch - 278ms/step
Epoch 29/100
36/36 - 10s - loss: 0.0816 - accuracy: 0.9725 - val_loss: 2.6313 - val_accuracy: 0.5624 - lr: 0.0010 - 10s/epoch - 274ms/step
Epoch 30/100
36/36 - 10s - loss: 0.0790 - accuracy: 0.9727 - val_loss: 2.7027 - val_accuracy: 0.5516 - lr: 0.0010 - 10s/epoch - 281ms/step
Epoch 31/100
36/36 - 10s - loss: 0.0806 - accuracy: 0.9728 - val_loss: 2.6476 - val_accuracy: 0.5545 - lr: 0.0010 - 10s/epoch - 288ms/step
Epoch 32/100
36/36 - 10s - loss: 0.0826 - accuracy: 0.9715 - val_loss: 2.6568 - val_accuracy: 0.5575 - lr: 0.0010 - 10s/epoch - 276ms/step
Epoch 33/100
36/36 - 10s - loss: 0.0781 - accuracy: 0.9738 - val_loss: 2.6792 - val_accuracy: 0.5582 - lr: 0.0010 - 10s/epoch - 271ms/step
Epoch 34/100
36/36 - 10s - loss: 0.0843 - accuracy: 0.9707 - val_loss: 2.6676 - val_accuracy: 0.5580 - lr: 0.0010 - 10s/epoch - 276ms/step
Epoch 35/100
36/36 - 10s - loss: 0.0812 - accuracy: 0.9723 - val_loss: 2.6570 - val_accuracy: 0.5582 - lr: 0.0010 - 10s/epoch - 276ms/step
Epoch 36/100
36/36 - 10s - loss: 0.0799 - accuracy: 0.9734 - val_loss: 2.6403 - val_accuracy: 0.5632 - lr: 0.0010 - 10s/epoch - 265ms/step
Epoch 37/100
36/36 - 10s - loss: 0.0794 - accuracy: 0.9733 - val_loss: 2.6157 - val_accuracy: 0.5642 - lr: 0.0010 - 10s/epoch - 270ms/step
Epoch 38/100
36/36 - 10s - loss: 0.0790 - accuracy: 0.9734 - val_loss: 2.6276 - val_accuracy: 0.5666 - lr: 0.0010 - 10s/epoch - 274ms/step
Epoch 39/100
36/36 - 10s - loss: 0.0794 - accuracy: 0.9736 - val_loss: 2.6311 - val_accuracy: 0.5665 - lr: 0.0010 - 10s/epoch - 276ms/step
Epoch 40/100
36/36 - 10s - loss: 0.0832 - accuracy: 0.9714 - val_loss: 2.6191 - val_accuracy: 0.5644 - lr: 0.0010 - 10s/epoch - 270ms/step
Epoch 41/100
36/36 - 10s - loss: 0.0795 - accuracy: 0.9735 - val_loss: 2.6501 - val_accuracy: 0.5632 - lr: 0.0010 - 10s/epoch - 271ms/step
Epoch 42/100
36/36 - 10s - loss: 0.0771 - accuracy: 0.9735 - val_loss: 2.6748 - val_accuracy: 0.5606 - lr: 0.0010 - 10s/epoch - 275ms/step
Epoch 43/100
36/36 - 10s - loss: 0.0819 - accuracy: 0.9727 - val_loss: 2.6202 - val_accuracy: 0.5658 - lr: 0.0010 - 10s/epoch - 271ms/step
Epoch 44/100
36/36 - 10s - loss: 0.0827 - accuracy: 0.9715 - val_loss: 2.5836 - val_accuracy: 0.5740 - lr: 0.0010 - 10s/epoch - 271ms/step
Epoch 45/100
36/36 - 10s - loss: 0.0826 - accuracy: 0.9717 - val_loss: 2.6455 - val_accuracy: 0.5634 - lr: 0.0010 - 10s/epoch - 271ms/step
Epoch 46/100
36/36 - 10s - loss: 0.0791 - accuracy: 0.9732 - val_loss: 2.6369 - val_accuracy: 0.5664 - lr: 0.0010 - 10s/epoch - 266ms/step
Epoch 47/100
36/36 - 10s - loss: 0.0783 - accuracy: 0.9735 - val_loss: 2.7359 - val_accuracy: 0.5575 - lr: 0.0010 - 10s/epoch - 266ms/step
Epoch 48/100
36/36 - 10s - loss: 0.0816 - accuracy: 0.9719 - val_loss: 2.7213 - val_accuracy: 0.5581 - lr: 0.0010 - 10s/epoch - 266ms/step
Epoch 49/100
36/36 - 10s - loss: 0.0773 - accuracy: 0.9734 - val_loss: 2.6983 - val_accuracy: 0.5629 - lr: 0.0010 - 10s/epoch - 267ms/step
Epoch 50/100
36/36 - 14s - loss: 0.0823 - accuracy: 0.9726 - val_loss: 2.6367 - val_accuracy: 0.5700 - lr: 0.0010 - 14s/epoch - 384ms/step
Epoch 51/100
36/36 - 9s - loss: 0.0818 - accuracy: 0.9719 - val_loss: 2.6120 - val_accuracy: 0.5716 - lr: 0.0010 - 9s/epoch - 260ms/step
Epoch 52/100
36/36 - 9s - loss: 0.0835 - accuracy: 0.9709 - val_loss: 2.7692 - val_accuracy: 0.5571 - lr: 0.0010 - 9s/epoch - 243ms/step
Epoch 53/100
36/36 - 10s - loss: 0.0794 - accuracy: 0.9726 - val_loss: 2.6748 - val_accuracy: 0.5656 - lr: 0.0010 - 10s/epoch - 281ms/step
Epoch 54/100
36/36 - 12s - loss: 0.0775 - accuracy: 0.9738 - val_loss: 2.7196 - val_accuracy: 0.5618 - lr: 0.0010 - 12s/epoch - 346ms/step
Epoch 55/100
36/36 - 12s - loss: 0.0793 - accuracy: 0.9724 - val_loss: 2.6911 - val_accuracy: 0.5652 - lr: 0.0010 - 12s/epoch - 341ms/step
Epoch 56/100
36/36 - 14s - loss: 0.0821 - accuracy: 0.9718 - val_loss: 2.6656 - val_accuracy: 0.5701 - lr: 0.0010 - 14s/epoch - 388ms/step
Epoch 57/100
36/36 - 18s - loss: 0.0793 - accuracy: 0.9731 - val_loss: 2.6233 - val_accuracy: 0.5728 - lr: 0.0010 - 18s/epoch - 490ms/step
Epoch 58/100
36/36 - 21s - loss: 0.0783 - accuracy: 0.9735 - val_loss: 2.6621 - val_accuracy: 0.5665 - lr: 0.0010 - 21s/epoch - 577ms/step
Epoch 59/100
36/36 - 17s - loss: 0.0831 - accuracy: 0.9716 - val_loss: 2.6980 - val_accuracy: 0.5674 - lr: 0.0010 - 17s/epoch - 471ms/step
Epoch 60/100
36/36 - 10s - loss: 0.0811 - accuracy: 0.9728 - val_loss: 2.6633 - val_accuracy: 0.5686 - lr: 0.0010 - 10s/epoch - 278ms/step
Epoch 61/100
36/36 - 10s - loss: 0.0798 - accuracy: 0.9726 - val_loss: 2.6582 - val_accuracy: 0.5702 - lr: 0.0010 - 10s/epoch - 266ms/step
Epoch 62/100
36/36 - 11s - loss: 0.0769 - accuracy: 0.9734 - val_loss: 2.7037 - val_accuracy: 0.5683 - lr: 0.0010 - 11s/epoch - 302ms/step
Epoch 63/100
36/36 - 11s - loss: 0.0801 - accuracy: 0.9718 - val_loss: 2.7463 - val_accuracy: 0.5648 - lr: 0.0010 - 11s/epoch - 305ms/step
Epoch 64/100
36/36 - 11s - loss: 0.0776 - accuracy: 0.9742 - val_loss: 2.7204 - val_accuracy: 0.5636 - lr: 0.0010 - 11s/epoch - 303ms/step
Epoch 65/100
36/36 - 11s - loss: 0.0835 - accuracy: 0.9713 - val_loss: 2.6999 - val_accuracy: 0.5634 - lr: 0.0010 - 11s/epoch - 304ms/step
Epoch 66/100
36/36 - 11s - loss: 0.0802 - accuracy: 0.9720 - val_loss: 2.7021 - val_accuracy: 0.5671 - lr: 0.0010 - 11s/epoch - 302ms/step
Epoch 67/100
36/36 - 11s - loss: 0.0769 - accuracy: 0.9739 - val_loss: 2.7268 - val_accuracy: 0.5640 - lr: 0.0010 - 11s/epoch - 299ms/step
Epoch 68/100
36/36 - 11s - loss: 0.0774 - accuracy: 0.9733 - val_loss: 2.7524 - val_accuracy: 0.5615 - lr: 0.0010 - 11s/epoch - 292ms/step
Epoch 69/100
36/36 - 11s - loss: 0.0772 - accuracy: 0.9735 - val_loss: 2.7244 - val_accuracy: 0.5679 - lr: 0.0010 - 11s/epoch - 302ms/step
Epoch 70/100
36/36 - 11s - loss: 0.0763 - accuracy: 0.9748 - val_loss: 2.7662 - val_accuracy: 0.5603 - lr: 0.0010 - 11s/epoch - 303ms/step
Epoch 71/100
36/36 - 10s - loss: 0.0765 - accuracy: 0.9738 - val_loss: 2.7063 - val_accuracy: 0.5675 - lr: 0.0010 - 10s/epoch - 271ms/step
Epoch 72/100
36/36 - 10s - loss: 0.0761 - accuracy: 0.9742 - val_loss: 2.6390 - val_accuracy: 0.5766 - lr: 0.0010 - 10s/epoch - 267ms/step
Epoch 73/100
36/36 - 9s - loss: 0.0775 - accuracy: 0.9741 - val_loss: 2.6927 - val_accuracy: 0.5697 - lr: 0.0010 - 9s/epoch - 250ms/step
Epoch 74/100
36/36 - 9s - loss: 0.0764 - accuracy: 0.9744 - val_loss: 2.7417 - val_accuracy: 0.5664 - lr: 0.0010 - 9s/epoch - 262ms/step
Epoch 75/100
36/36 - 10s - loss: 0.0784 - accuracy: 0.9726 - val_loss: 2.6662 - val_accuracy: 0.5723 - lr: 0.0010 - 10s/epoch - 282ms/step
Epoch 76/100
36/36 - 10s - loss: 0.0800 - accuracy: 0.9716 - val_loss: 2.6454 - val_accuracy: 0.5717 - lr: 0.0010 - 10s/epoch - 266ms/step
Epoch 77/100
36/36 - 10s - loss: 0.0832 - accuracy: 0.9715 - val_loss: 2.7220 - val_accuracy: 0.5635 - lr: 0.0010 - 10s/epoch - 265ms/step
Epoch 78/100
36/36 - 10s - loss: 0.0833 - accuracy: 0.9715 - val_loss: 2.7504 - val_accuracy: 0.5614 - lr: 0.0010 - 10s/epoch - 272ms/step
Epoch 79/100
36/36 - 10s - loss: 0.0797 - accuracy: 0.9723 - val_loss: 2.7007 - val_accuracy: 0.5641 - lr: 0.0010 - 10s/epoch - 266ms/step
Epoch 80/100
36/36 - 10s - loss: 0.0791 - accuracy: 0.9730 - val_loss: 2.6763 - val_accuracy: 0.5650 - lr: 0.0010 - 10s/epoch - 278ms/step
Epoch 81/100
36/36 - 10s - loss: 0.0787 - accuracy: 0.9733 - val_loss: 2.6841 - val_accuracy: 0.5640 - lr: 0.0010 - 10s/epoch - 276ms/step
Epoch 82/100
36/36 - 10s - loss: 0.0789 - accuracy: 0.9732 - val_loss: 2.6586 - val_accuracy: 0.5693 - lr: 0.0010 - 10s/epoch - 271ms/step
Epoch 83/100
36/36 - 10s - loss: 0.0769 - accuracy: 0.9737 - val_loss: 2.6682 - val_accuracy: 0.5702 - lr: 0.0010 - 10s/epoch - 289ms/step
Epoch 84/100
36/36 - 10s - loss: 0.0759 - accuracy: 0.9743 - val_loss: 2.7495 - val_accuracy: 0.5616 - lr: 0.0010 - 10s/epoch - 276ms/step
Epoch 85/100
36/36 - 10s - loss: 0.0795 - accuracy: 0.9732 - val_loss: 2.7829 - val_accuracy: 0.5555 - lr: 0.0010 - 10s/epoch - 274ms/step
Epoch 86/100
36/36 - 10s - loss: 0.0784 - accuracy: 0.9732 - val_loss: 2.7746 - val_accuracy: 0.5582 - lr: 0.0010 - 10s/epoch - 280ms/step
Epoch 87/100
36/36 - 10s - loss: 0.0789 - accuracy: 0.9732 - val_loss: 2.8164 - val_accuracy: 0.5574 - lr: 0.0010 - 10s/epoch - 280ms/step
Epoch 88/100
36/36 - 10s - loss: 0.0811 - accuracy: 0.9720 - val_loss: 2.8525 - val_accuracy: 0.5534 - lr: 0.0010 - 10s/epoch - 266ms/step
Epoch 89/100
36/36 - 10s - loss: 0.0779 - accuracy: 0.9732 - val_loss: 2.7853 - val_accuracy: 0.5587 - lr: 0.0010 - 10s/epoch - 266ms/step
Epoch 90/100
36/36 - 10s - loss: 0.0791 - accuracy: 0.9732 - val_loss: 2.7698 - val_accuracy: 0.5611 - lr: 0.0010 - 10s/epoch - 265ms/step
Epoch 91/100
36/36 - 10s - loss: 0.0750 - accuracy: 0.9742 - val_loss: 2.8228 - val_accuracy: 0.5566 - lr: 0.0010 - 10s/epoch - 273ms/step
Epoch 92/100
36/36 - 10s - loss: 0.0773 - accuracy: 0.9741 - val_loss: 2.8347 - val_accuracy: 0.5559 - lr: 0.0010 - 10s/epoch - 265ms/step
Epoch 93/100
36/36 - 10s - loss: 0.0767 - accuracy: 0.9740 - val_loss: 2.8182 - val_accuracy: 0.5602 - lr: 0.0010 - 10s/epoch - 268ms/step
Epoch 94/100
36/36 - 10s - loss: 0.0795 - accuracy: 0.9727 - val_loss: 2.7875 - val_accuracy: 0.5632 - lr: 0.0010 - 10s/epoch - 279ms/step
Epoch 95/100
36/36 - 10s - loss: 0.0753 - accuracy: 0.9746 - val_loss: 2.7805 - val_accuracy: 0.5640 - lr: 0.0010 - 10s/epoch - 289ms/step
Epoch 96/100
36/36 - 10s - loss: 0.0805 - accuracy: 0.9724 - val_loss: 2.7566 - val_accuracy: 0.5629 - lr: 0.0010 - 10s/epoch - 282ms/step
Epoch 97/100
36/36 - 10s - loss: 0.0791 - accuracy: 0.9732 - val_loss: 2.7991 - val_accuracy: 0.5618 - lr: 0.0010 - 10s/epoch - 270ms/step
Epoch 98/100
36/36 - 10s - loss: 0.0758 - accuracy: 0.9743 - val_loss: 2.7787 - val_accuracy: 0.5621 - lr: 0.0010 - 10s/epoch - 279ms/step
Epoch 99/100
36/36 - 11s - loss: 0.0756 - accuracy: 0.9746 - val_loss: 2.7823 - val_accuracy: 0.5650 - lr: 0.0010 - 11s/epoch - 301ms/step
Epoch 100/100
36/36 - 10s - loss: 0.0781 - accuracy: 0.9734 - val_loss: 2.7778 - val_accuracy: 0.5663 - lr: 0.0010 - 10s/epoch - 274ms/step
Epoch 1/25
4378/4378 - 82s - loss: 0.1133 - accuracy: 0.8885 - val_loss: 0.4992 - val_accuracy: 0.5554 - lr: 0.0010 - 82s/epoch - 19ms/step
Epoch 2/25
4378/4378 - 78s - loss: 0.1159 - accuracy: 0.8807 - val_loss: 0.4815 - val_accuracy: 0.5677 - lr: 0.0010 - 78s/epoch - 18ms/step
Epoch 3/25
4378/4378 - 79s - loss: 0.1215 - accuracy: 0.8737 - val_loss: 0.4635 - val_accuracy: 0.5759 - lr: 0.0010 - 79s/epoch - 18ms/step
Epoch 4/25
4378/4378 - 78s - loss: 0.1215 - accuracy: 0.8732 - val_loss: 0.4899 - val_accuracy: 0.5398 - lr: 0.0010 - 78s/epoch - 18ms/step
Epoch 5/25
4378/4378 - 80s - loss: 0.1202 - accuracy: 0.8762 - val_loss: 0.4205 - val_accuracy: 0.5949 - lr: 0.0010 - 80s/epoch - 18ms/step
Epoch 6/25
4378/4378 - 79s - loss: 0.1216 - accuracy: 0.8736 - val_loss: 0.4742 - val_accuracy: 0.5576 - lr: 0.0010 - 79s/epoch - 18ms/step
Epoch 7/25
4378/4378 - 79s - loss: 0.1200 - accuracy: 0.8749 - val_loss: 0.4500 - val_accuracy: 0.5960 - lr: 0.0010 - 79s/epoch - 18ms/step
Epoch 8/25
4378/4378 - 82s - loss: 0.1203 - accuracy: 0.8758 - val_loss: 0.4629 - val_accuracy: 0.5555 - lr: 0.0010 - 82s/epoch - 19ms/step
Epoch 9/25
4378/4378 - 83s - loss: 0.1205 - accuracy: 0.8737 - val_loss: 0.4358 - val_accuracy: 0.5671 - lr: 0.0010 - 83s/epoch - 19ms/step
Epoch 10/25
4378/4378 - 84s - loss: 0.1208 - accuracy: 0.8750 - val_loss: 0.4892 - val_accuracy: 0.5260 - lr: 0.0010 - 84s/epoch - 19ms/step
Epoch 11/25
4378/4378 - 82s - loss: 0.1202 - accuracy: 0.8747 - val_loss: 0.4626 - val_accuracy: 0.5676 - lr: 0.0010 - 82s/epoch - 19ms/step
Epoch 12/25
4378/4378 - 81s - loss: 0.1202 - accuracy: 0.8743 - val_loss: 0.4831 - val_accuracy: 0.5325 - lr: 0.0010 - 81s/epoch - 19ms/step
Epoch 13/25
4378/4378 - 80s - loss: 0.1202 - accuracy: 0.8752 - val_loss: 0.4801 - val_accuracy: 0.5418 - lr: 0.0010 - 80s/epoch - 18ms/step
Epoch 14/25
4378/4378 - 80s - loss: 0.1210 - accuracy: 0.8733 - val_loss: 0.4318 - val_accuracy: 0.6147 - lr: 0.0010 - 80s/epoch - 18ms/step
Epoch 15/25
4378/4378 - 80s - loss: 0.1204 - accuracy: 0.8750 - val_loss: 0.4601 - val_accuracy: 0.5511 - lr: 0.0010 - 80s/epoch - 18ms/step
Epoch 16/25
4378/4378 - 79s - loss: 0.1205 - accuracy: 0.8758 - val_loss: 0.4619 - val_accuracy: 0.5683 - lr: 0.0010 - 79s/epoch - 18ms/step
Epoch 17/25
4378/4378 - 80s - loss: 0.1214 - accuracy: 0.8731 - val_loss: 0.4516 - val_accuracy: 0.5978 - lr: 0.0010 - 80s/epoch - 18ms/step
Epoch 18/25
4378/4378 - 79s - loss: 0.1209 - accuracy: 0.8748 - val_loss: 0.4421 - val_accuracy: 0.5781 - lr: 0.0010 - 79s/epoch - 18ms/step
Epoch 19/25
4378/4378 - 80s - loss: 0.1211 - accuracy: 0.8747 - val_loss: 0.4197 - val_accuracy: 0.6078 - lr: 0.0010 - 80s/epoch - 18ms/step
Epoch 20/25
4378/4378 - 82s - loss: 0.1210 - accuracy: 0.8746 - val_loss: 0.4442 - val_accuracy: 0.5655 - lr: 0.0010 - 82s/epoch - 19ms/step
Epoch 21/25
4378/4378 - 82s - loss: 0.1203 - accuracy: 0.8759 - val_loss: 0.4508 - val_accuracy: 0.5930 - lr: 0.0010 - 82s/epoch - 19ms/step
Epoch 22/25
4378/4378 - 80s - loss: 0.1211 - accuracy: 0.8745 - val_loss: 0.3987 - val_accuracy: 0.6458 - lr: 0.0010 - 80s/epoch - 18ms/step
Epoch 23/25
4378/4378 - 79s - loss: 0.1215 - accuracy: 0.8731 - val_loss: 0.4067 - val_accuracy: 0.6273 - lr: 0.0010 - 79s/epoch - 18ms/step
Epoch 24/25
4378/4378 - 79s - loss: 0.1192 - accuracy: 0.8763 - val_loss: 0.4625 - val_accuracy: 0.5594 - lr: 0.0010 - 79s/epoch - 18ms/step
Epoch 25/25
4378/4378 - 78s - loss: 0.1226 - accuracy: 0.8728 - val_loss: 0.4357 - val_accuracy: 0.5697 - lr: 0.0010 - 78s/epoch - 18ms/step
Epoch 1/25
876/876 - 23s - loss: 0.0880 - accuracy: 0.9114 - val_loss: 0.5004 - val_accuracy: 0.5813 - lr: 0.0010 - 23s/epoch - 27ms/step
Epoch 2/25
876/876 - 20s - loss: 0.0868 - accuracy: 0.9114 - val_loss: 0.5330 - val_accuracy: 0.5615 - lr: 0.0010 - 20s/epoch - 23ms/step
Epoch 3/25
876/876 - 20s - loss: 0.0857 - accuracy: 0.9135 - val_loss: 0.4746 - val_accuracy: 0.5941 - lr: 0.0010 - 20s/epoch - 23ms/step
Epoch 4/25
876/876 - 21s - loss: 0.0839 - accuracy: 0.9161 - val_loss: 0.5037 - val_accuracy: 0.5925 - lr: 0.0010 - 21s/epoch - 24ms/step
Epoch 5/25
876/876 - 22s - loss: 0.0817 - accuracy: 0.9176 - val_loss: 0.5081 - val_accuracy: 0.6043 - lr: 0.0010 - 22s/epoch - 25ms/step
Epoch 6/25
876/876 - 21s - loss: 0.0812 - accuracy: 0.9186 - val_loss: 0.5534 - val_accuracy: 0.5615 - lr: 0.0010 - 21s/epoch - 24ms/step
Epoch 7/25
876/876 - 22s - loss: 0.0804 - accuracy: 0.9195 - val_loss: 0.5633 - val_accuracy: 0.5599 - lr: 0.0010 - 22s/epoch - 25ms/step
Epoch 8/25
876/876 - 21s - loss: 0.0792 - accuracy: 0.9195 - val_loss: 0.5540 - val_accuracy: 0.5725 - lr: 0.0010 - 21s/epoch - 24ms/step
Epoch 9/25
876/876 - 21s - loss: 0.0798 - accuracy: 0.9196 - val_loss: 0.5634 - val_accuracy: 0.5396 - lr: 0.0010 - 21s/epoch - 24ms/step
Epoch 10/25
876/876 - 21s - loss: 0.0788 - accuracy: 0.9212 - val_loss: 0.5925 - val_accuracy: 0.5465 - lr: 0.0010 - 21s/epoch - 24ms/step
Epoch 11/25
876/876 - 21s - loss: 0.0790 - accuracy: 0.9203 - val_loss: 0.5314 - val_accuracy: 0.5836 - lr: 0.0010 - 21s/epoch - 24ms/step
Epoch 12/25
876/876 - 21s - loss: 0.0770 - accuracy: 0.9227 - val_loss: 0.5871 - val_accuracy: 0.5609 - lr: 0.0010 - 21s/epoch - 24ms/step
Epoch 13/25
876/876 - 22s - loss: 0.0769 - accuracy: 0.9227 - val_loss: 0.5854 - val_accuracy: 0.5524 - lr: 0.0010 - 22s/epoch - 25ms/step
Epoch 14/25
876/876 - 21s - loss: 0.0771 - accuracy: 0.9234 - val_loss: 0.5803 - val_accuracy: 0.5465 - lr: 0.0010 - 21s/epoch - 24ms/step
Epoch 15/25
876/876 - 21s - loss: 0.0766 - accuracy: 0.9230 - val_loss: 0.5479 - val_accuracy: 0.5784 - lr: 0.0010 - 21s/epoch - 24ms/step
Epoch 16/25
876/876 - 22s - loss: 0.0770 - accuracy: 0.9229 - val_loss: 0.5714 - val_accuracy: 0.5711 - lr: 0.0010 - 22s/epoch - 25ms/step
Epoch 17/25
876/876 - 21s - loss: 0.0764 - accuracy: 0.9230 - val_loss: 0.5796 - val_accuracy: 0.5739 - lr: 0.0010 - 21s/epoch - 24ms/step
Epoch 18/25
876/876 - 21s - loss: 0.0747 - accuracy: 0.9260 - val_loss: 0.5889 - val_accuracy: 0.5849 - lr: 0.0010 - 21s/epoch - 24ms/step
Epoch 19/25
876/876 - 21s - loss: 0.0757 - accuracy: 0.9235 - val_loss: 0.5741 - val_accuracy: 0.5739 - lr: 0.0010 - 21s/epoch - 24ms/step
Epoch 20/25
876/876 - 22s - loss: 0.0742 - accuracy: 0.9258 - val_loss: 0.6288 - val_accuracy: 0.5366 - lr: 0.0010 - 22s/epoch - 25ms/step
Epoch 21/25
876/876 - 21s - loss: 0.0757 - accuracy: 0.9246 - val_loss: 0.6459 - val_accuracy: 0.5305 - lr: 0.0010 - 21s/epoch - 24ms/step
Epoch 22/25
876/876 - 22s - loss: 0.0743 - accuracy: 0.9249 - val_loss: 0.5934 - val_accuracy: 0.5623 - lr: 0.0010 - 22s/epoch - 25ms/step
Epoch 23/25
876/876 - 22s - loss: 0.0749 - accuracy: 0.9256 - val_loss: 0.6102 - val_accuracy: 0.5470 - lr: 0.0010 - 22s/epoch - 25ms/step
Epoch 24/25
876/876 - 21s - loss: 0.0740 - accuracy: 0.9261 - val_loss: 0.5854 - val_accuracy: 0.5694 - lr: 0.0010 - 21s/epoch - 24ms/step
Epoch 25/25
876/876 - 21s - loss: 0.0746 - accuracy: 0.9256 - val_loss: 0.5791 - val_accuracy: 0.5637 - lr: 0.0010 - 21s/epoch - 25ms/step
Epoch 1/25
176/176 - 16s - loss: 0.0562 - accuracy: 0.9462 - val_loss: 0.6582 - val_accuracy: 0.5502 - lr: 0.0010 - 16s/epoch - 92ms/step
Epoch 2/25
176/176 - 12s - loss: 0.0491 - accuracy: 0.9535 - val_loss: 0.6595 - val_accuracy: 0.5584 - lr: 0.0010 - 12s/epoch - 69ms/step
Epoch 3/25
176/176 - 12s - loss: 0.0484 - accuracy: 0.9538 - val_loss: 0.6844 - val_accuracy: 0.5653 - lr: 0.0010 - 12s/epoch - 70ms/step
Epoch 4/25
176/176 - 13s - loss: 0.0482 - accuracy: 0.9543 - val_loss: 0.6872 - val_accuracy: 0.5682 - lr: 0.0010 - 13s/epoch - 71ms/step
Epoch 5/25
176/176 - 12s - loss: 0.0491 - accuracy: 0.9533 - val_loss: 0.7055 - val_accuracy: 0.5722 - lr: 0.0010 - 12s/epoch - 69ms/step
Epoch 6/25
176/176 - 13s - loss: 0.0501 - accuracy: 0.9521 - val_loss: 0.7208 - val_accuracy: 0.5680 - lr: 0.0010 - 13s/epoch - 71ms/step
Epoch 7/25
176/176 - 12s - loss: 0.0508 - accuracy: 0.9513 - val_loss: 0.7382 - val_accuracy: 0.5657 - lr: 0.0010 - 12s/epoch - 70ms/step
Epoch 8/25
176/176 - 12s - loss: 0.0487 - accuracy: 0.9535 - val_loss: 0.6933 - val_accuracy: 0.5872 - lr: 0.0010 - 12s/epoch - 70ms/step
Epoch 9/25
176/176 - 13s - loss: 0.0486 - accuracy: 0.9538 - val_loss: 0.7424 - val_accuracy: 0.5603 - lr: 0.0010 - 13s/epoch - 71ms/step
Epoch 10/25
176/176 - 12s - loss: 0.0499 - accuracy: 0.9516 - val_loss: 0.7600 - val_accuracy: 0.5544 - lr: 0.0010 - 12s/epoch - 69ms/step
Epoch 11/25
176/176 - 12s - loss: 0.0497 - accuracy: 0.9526 - val_loss: 0.7430 - val_accuracy: 0.5701 - lr: 0.0010 - 12s/epoch - 70ms/step
Epoch 12/25
176/176 - 12s - loss: 0.0482 - accuracy: 0.9545 - val_loss: 0.7741 - val_accuracy: 0.5482 - lr: 0.0010 - 12s/epoch - 68ms/step
Epoch 13/25
176/176 - 12s - loss: 0.0467 - accuracy: 0.9560 - val_loss: 0.7641 - val_accuracy: 0.5527 - lr: 0.0010 - 12s/epoch - 70ms/step
Epoch 14/25
176/176 - 12s - loss: 0.0467 - accuracy: 0.9556 - val_loss: 0.8021 - val_accuracy: 0.5391 - lr: 0.0010 - 12s/epoch - 69ms/step
Epoch 15/25
176/176 - 12s - loss: 0.0473 - accuracy: 0.9553 - val_loss: 0.7769 - val_accuracy: 0.5560 - lr: 0.0010 - 12s/epoch - 70ms/step
Epoch 16/25
176/176 - 13s - loss: 0.0475 - accuracy: 0.9545 - val_loss: 0.7576 - val_accuracy: 0.5659 - lr: 0.0010 - 13s/epoch - 72ms/step
Epoch 17/25
176/176 - 12s - loss: 0.0458 - accuracy: 0.9566 - val_loss: 0.7180 - val_accuracy: 0.5722 - lr: 0.0010 - 12s/epoch - 69ms/step
Epoch 18/25
176/176 - 13s - loss: 0.0468 - accuracy: 0.9554 - val_loss: 0.7680 - val_accuracy: 0.5539 - lr: 0.0010 - 13s/epoch - 72ms/step
Epoch 19/25
176/176 - 13s - loss: 0.0463 - accuracy: 0.9560 - val_loss: 0.7088 - val_accuracy: 0.5838 - lr: 0.0010 - 13s/epoch - 73ms/step
Epoch 20/25
176/176 - 13s - loss: 0.0467 - accuracy: 0.9557 - val_loss: 0.7634 - val_accuracy: 0.5546 - lr: 0.0010 - 13s/epoch - 73ms/step
Epoch 21/25
176/176 - 13s - loss: 0.0470 - accuracy: 0.9545 - val_loss: 0.7727 - val_accuracy: 0.5502 - lr: 0.0010 - 13s/epoch - 73ms/step
Epoch 22/25
176/176 - 13s - loss: 0.0474 - accuracy: 0.9545 - val_loss: 0.7819 - val_accuracy: 0.5455 - lr: 0.0010 - 13s/epoch - 74ms/step
Epoch 23/25
176/176 - 13s - loss: 0.0472 - accuracy: 0.9550 - val_loss: 0.7476 - val_accuracy: 0.5647 - lr: 0.0010 - 13s/epoch - 74ms/step
Epoch 24/25
176/176 - 13s - loss: 0.0454 - accuracy: 0.9564 - val_loss: 0.7414 - val_accuracy: 0.5764 - lr: 0.0010 - 13s/epoch - 73ms/step
Epoch 25/25
176/176 - 13s - loss: 0.0451 - accuracy: 0.9580 - val_loss: 0.8025 - val_accuracy: 0.5425 - lr: 0.0010 - 13s/epoch - 74ms/step
Epoch 1/25
36/36 - 15s - loss: 0.0407 - accuracy: 0.9626 - val_loss: 0.7699 - val_accuracy: 0.5662 - lr: 0.0010 - 15s/epoch - 407ms/step
Epoch 2/25
36/36 - 12s - loss: 0.0385 - accuracy: 0.9646 - val_loss: 0.7579 - val_accuracy: 0.5737 - lr: 0.0010 - 12s/epoch - 327ms/step
Epoch 3/25
36/36 - 12s - loss: 0.0369 - accuracy: 0.9671 - val_loss: 0.7651 - val_accuracy: 0.5710 - lr: 0.0010 - 12s/epoch - 336ms/step
Epoch 4/25
36/36 - 12s - loss: 0.0359 - accuracy: 0.9678 - val_loss: 0.7836 - val_accuracy: 0.5677 - lr: 0.0010 - 12s/epoch - 325ms/step
Epoch 5/25
36/36 - 12s - loss: 0.0359 - accuracy: 0.9675 - val_loss: 0.7983 - val_accuracy: 0.5620 - lr: 0.0010 - 12s/epoch - 325ms/step
Epoch 6/25
36/36 - 11s - loss: 0.0352 - accuracy: 0.9683 - val_loss: 0.8152 - val_accuracy: 0.5574 - lr: 0.0010 - 11s/epoch - 315ms/step
Epoch 7/25
36/36 - 12s - loss: 0.0347 - accuracy: 0.9687 - val_loss: 0.8200 - val_accuracy: 0.5600 - lr: 0.0010 - 12s/epoch - 320ms/step
Epoch 8/25
36/36 - 11s - loss: 0.0359 - accuracy: 0.9668 - val_loss: 0.8200 - val_accuracy: 0.5592 - lr: 0.0010 - 11s/epoch - 319ms/step
Epoch 9/25
36/36 - 11s - loss: 0.0353 - accuracy: 0.9685 - val_loss: 0.8246 - val_accuracy: 0.5593 - lr: 0.0010 - 11s/epoch - 315ms/step
Epoch 10/25
36/36 - 11s - loss: 0.0346 - accuracy: 0.9685 - val_loss: 0.8183 - val_accuracy: 0.5662 - lr: 0.0010 - 11s/epoch - 315ms/step
Epoch 11/25
36/36 - 11s - loss: 0.0337 - accuracy: 0.9696 - val_loss: 0.8161 - val_accuracy: 0.5640 - lr: 0.0010 - 11s/epoch - 313ms/step
Epoch 12/25
36/36 - 11s - loss: 0.0345 - accuracy: 0.9688 - val_loss: 0.8132 - val_accuracy: 0.5661 - lr: 0.0010 - 11s/epoch - 308ms/step
Epoch 13/25
36/36 - 11s - loss: 0.0349 - accuracy: 0.9684 - val_loss: 0.8046 - val_accuracy: 0.5744 - lr: 0.0010 - 11s/epoch - 317ms/step
Epoch 14/25
36/36 - 11s - loss: 0.0347 - accuracy: 0.9681 - val_loss: 0.8236 - val_accuracy: 0.5656 - lr: 0.0010 - 11s/epoch - 312ms/step
Epoch 15/25
36/36 - 11s - loss: 0.0335 - accuracy: 0.9694 - val_loss: 0.8251 - val_accuracy: 0.5670 - lr: 0.0010 - 11s/epoch - 302ms/step
Epoch 16/25
36/36 - 11s - loss: 0.0339 - accuracy: 0.9690 - val_loss: 0.8137 - val_accuracy: 0.5712 - lr: 0.0010 - 11s/epoch - 313ms/step
Epoch 17/25
36/36 - 11s - loss: 0.0352 - accuracy: 0.9682 - val_loss: 0.8329 - val_accuracy: 0.5638 - lr: 0.0010 - 11s/epoch - 302ms/step
Epoch 18/25
36/36 - 11s - loss: 0.0340 - accuracy: 0.9694 - val_loss: 0.8414 - val_accuracy: 0.5600 - lr: 0.0010 - 11s/epoch - 301ms/step
Epoch 19/25
36/36 - 11s - loss: 0.0339 - accuracy: 0.9694 - val_loss: 0.8488 - val_accuracy: 0.5625 - lr: 0.0010 - 11s/epoch - 308ms/step
Epoch 20/25
36/36 - 11s - loss: 0.0338 - accuracy: 0.9695 - val_loss: 0.8417 - val_accuracy: 0.5669 - lr: 0.0010 - 11s/epoch - 303ms/step
Epoch 21/25
36/36 - 11s - loss: 0.0340 - accuracy: 0.9691 - val_loss: 0.8053 - val_accuracy: 0.5800 - lr: 0.0010 - 11s/epoch - 306ms/step
Epoch 22/25
36/36 - 11s - loss: 0.0338 - accuracy: 0.9694 - val_loss: 0.8387 - val_accuracy: 0.5650 - lr: 0.0010 - 11s/epoch - 304ms/step
Epoch 23/25
36/36 - 11s - loss: 0.0333 - accuracy: 0.9698 - val_loss: 0.8309 - val_accuracy: 0.5686 - lr: 0.0010 - 11s/epoch - 307ms/step
Epoch 24/25
36/36 - 11s - loss: 0.0341 - accuracy: 0.9690 - val_loss: 0.8469 - val_accuracy: 0.5639 - lr: 0.0010 - 11s/epoch - 296ms/step
Epoch 25/25
36/36 - 11s - loss: 0.0329 - accuracy: 0.9702 - val_loss: 0.8337 - val_accuracy: 0.5688 - lr: 0.0010 - 11s/epoch - 307ms/step
Epoch 1/50
4378/4378 - 83s - loss: 0.1054 - accuracy: 0.8943 - val_loss: 0.4850 - val_accuracy: 0.5831 - lr: 0.0010 - 83s/epoch - 19ms/step
Epoch 2/50
4378/4378 - 80s - loss: 0.1129 - accuracy: 0.8836 - val_loss: 0.5284 - val_accuracy: 0.5296 - lr: 0.0010 - 80s/epoch - 18ms/step
Epoch 3/50
4378/4378 - 80s - loss: 0.1150 - accuracy: 0.8818 - val_loss: 0.4575 - val_accuracy: 0.5871 - lr: 0.0010 - 80s/epoch - 18ms/step
Epoch 4/50
4378/4378 - 80s - loss: 0.1167 - accuracy: 0.8783 - val_loss: 0.4948 - val_accuracy: 0.5392 - lr: 0.0010 - 80s/epoch - 18ms/step
Epoch 5/50
4378/4378 - 81s - loss: 0.1173 - accuracy: 0.8789 - val_loss: 0.4587 - val_accuracy: 0.5972 - lr: 0.0010 - 81s/epoch - 18ms/step
Epoch 6/50
4378/4378 - 82s - loss: 0.1169 - accuracy: 0.8788 - val_loss: 0.4372 - val_accuracy: 0.5830 - lr: 0.0010 - 82s/epoch - 19ms/step
Epoch 7/50
4378/4378 - 82s - loss: 0.1153 - accuracy: 0.8809 - val_loss: 0.4570 - val_accuracy: 0.5674 - lr: 0.0010 - 82s/epoch - 19ms/step
Epoch 8/50
4378/4378 - 82s - loss: 0.1174 - accuracy: 0.8794 - val_loss: 0.4664 - val_accuracy: 0.5422 - lr: 0.0010 - 82s/epoch - 19ms/step
Epoch 9/50
4378/4378 - 82s - loss: 0.1165 - accuracy: 0.8791 - val_loss: 0.4603 - val_accuracy: 0.5772 - lr: 0.0010 - 82s/epoch - 19ms/step
Epoch 10/50
4378/4378 - 82s - loss: 0.1178 - accuracy: 0.8778 - val_loss: 0.5241 - val_accuracy: 0.5250 - lr: 0.0010 - 82s/epoch - 19ms/step
Epoch 11/50
4378/4378 - 81s - loss: 0.1174 - accuracy: 0.8778 - val_loss: 0.4872 - val_accuracy: 0.5732 - lr: 0.0010 - 81s/epoch - 19ms/step
Epoch 12/50
4378/4378 - 82s - loss: 0.1176 - accuracy: 0.8774 - val_loss: 0.4624 - val_accuracy: 0.5869 - lr: 0.0010 - 82s/epoch - 19ms/step
Epoch 13/50
4378/4378 - 82s - loss: 0.1172 - accuracy: 0.8789 - val_loss: 0.4888 - val_accuracy: 0.5526 - lr: 0.0010 - 82s/epoch - 19ms/step
Epoch 14/50
4378/4378 - 81s - loss: 0.1183 - accuracy: 0.8767 - val_loss: 0.4398 - val_accuracy: 0.5994 - lr: 0.0010 - 81s/epoch - 19ms/step
Epoch 15/50
4378/4378 - 82s - loss: 0.1179 - accuracy: 0.8770 - val_loss: 0.4439 - val_accuracy: 0.5981 - lr: 0.0010 - 82s/epoch - 19ms/step
Epoch 16/50
4378/4378 - 82s - loss: 0.1171 - accuracy: 0.8801 - val_loss: 0.4268 - val_accuracy: 0.5993 - lr: 0.0010 - 82s/epoch - 19ms/step
Epoch 17/50
4378/4378 - 82s - loss: 0.1184 - accuracy: 0.8782 - val_loss: 0.4316 - val_accuracy: 0.6016 - lr: 0.0010 - 82s/epoch - 19ms/step
Epoch 18/50
4378/4378 - 82s - loss: 0.1180 - accuracy: 0.8776 - val_loss: 0.3901 - val_accuracy: 0.6347 - lr: 0.0010 - 82s/epoch - 19ms/step
Epoch 19/50
4378/4378 - 81s - loss: 0.1187 - accuracy: 0.8773 - val_loss: 0.4909 - val_accuracy: 0.5545 - lr: 0.0010 - 81s/epoch - 18ms/step
Epoch 20/50
4378/4378 - 83s - loss: 0.1183 - accuracy: 0.8776 - val_loss: 0.5133 - val_accuracy: 0.5238 - lr: 0.0010 - 83s/epoch - 19ms/step
Epoch 21/50
4378/4378 - 82s - loss: 0.1174 - accuracy: 0.8783 - val_loss: 0.4365 - val_accuracy: 0.6031 - lr: 0.0010 - 82s/epoch - 19ms/step
Epoch 22/50
4378/4378 - 81s - loss: 0.1178 - accuracy: 0.8774 - val_loss: 0.4748 - val_accuracy: 0.5550 - lr: 0.0010 - 81s/epoch - 19ms/step
Epoch 23/50
4378/4378 - 82s - loss: 0.1194 - accuracy: 0.8759 - val_loss: 0.4874 - val_accuracy: 0.5581 - lr: 0.0010 - 82s/epoch - 19ms/step
Epoch 24/50
4378/4378 - 82s - loss: 0.1196 - accuracy: 0.8758 - val_loss: 0.4430 - val_accuracy: 0.5929 - lr: 0.0010 - 82s/epoch - 19ms/step
Epoch 25/50
4378/4378 - 82s - loss: 0.1185 - accuracy: 0.8771 - val_loss: 0.3995 - val_accuracy: 0.6119 - lr: 0.0010 - 82s/epoch - 19ms/step
Epoch 26/50
4378/4378 - 85s - loss: 0.1183 - accuracy: 0.8768 - val_loss: 0.4484 - val_accuracy: 0.6001 - lr: 0.0010 - 85s/epoch - 19ms/step
Epoch 27/50
4378/4378 - 84s - loss: 0.1168 - accuracy: 0.8785 - val_loss: 0.4853 - val_accuracy: 0.5639 - lr: 0.0010 - 84s/epoch - 19ms/step
Epoch 28/50
4378/4378 - 82s - loss: 0.1188 - accuracy: 0.8760 - val_loss: 0.4440 - val_accuracy: 0.5851 - lr: 0.0010 - 82s/epoch - 19ms/step
Epoch 29/50
4378/4378 - 82s - loss: 0.1185 - accuracy: 0.8771 - val_loss: 0.4330 - val_accuracy: 0.5950 - lr: 0.0010 - 82s/epoch - 19ms/step
Epoch 30/50
4378/4378 - 81s - loss: 0.1192 - accuracy: 0.8762 - val_loss: 0.4605 - val_accuracy: 0.5763 - lr: 0.0010 - 81s/epoch - 19ms/step
Epoch 31/50
4378/4378 - 80s - loss: 0.1207 - accuracy: 0.8746 - val_loss: 0.3954 - val_accuracy: 0.6216 - lr: 0.0010 - 80s/epoch - 18ms/step
Epoch 32/50
4378/4378 - 81s - loss: 0.1179 - accuracy: 0.8781 - val_loss: 0.4169 - val_accuracy: 0.6227 - lr: 0.0010 - 81s/epoch - 18ms/step
Epoch 33/50
4378/4378 - 81s - loss: 0.1184 - accuracy: 0.8775 - val_loss: 0.3890 - val_accuracy: 0.6388 - lr: 0.0010 - 81s/epoch - 18ms/step
Epoch 34/50
4378/4378 - 82s - loss: 0.1198 - accuracy: 0.8745 - val_loss: 0.4591 - val_accuracy: 0.5772 - lr: 0.0010 - 82s/epoch - 19ms/step
Epoch 35/50
4378/4378 - 81s - loss: 0.1201 - accuracy: 0.8759 - val_loss: 0.4449 - val_accuracy: 0.5967 - lr: 0.0010 - 81s/epoch - 19ms/step
Epoch 36/50
4378/4378 - 79s - loss: 0.1197 - accuracy: 0.8758 - val_loss: 0.4869 - val_accuracy: 0.5880 - lr: 0.0010 - 79s/epoch - 18ms/step
Epoch 37/50
4378/4378 - 80s - loss: 0.1184 - accuracy: 0.8766 - val_loss: 0.4456 - val_accuracy: 0.6065 - lr: 0.0010 - 80s/epoch - 18ms/step
Epoch 38/50
4378/4378 - 81s - loss: 0.1174 - accuracy: 0.8777 - val_loss: 0.4494 - val_accuracy: 0.5913 - lr: 0.0010 - 81s/epoch - 19ms/step
Epoch 39/50
4378/4378 - 80s - loss: 0.1180 - accuracy: 0.8785 - val_loss: 0.4651 - val_accuracy: 0.5959 - lr: 0.0010 - 80s/epoch - 18ms/step
Epoch 40/50
4378/4378 - 81s - loss: 0.1178 - accuracy: 0.8774 - val_loss: 0.4527 - val_accuracy: 0.5937 - lr: 0.0010 - 81s/epoch - 19ms/step
Epoch 41/50
4378/4378 - 80s - loss: 0.1181 - accuracy: 0.8790 - val_loss: 0.4846 - val_accuracy: 0.5815 - lr: 0.0010 - 80s/epoch - 18ms/step
Epoch 42/50
4378/4378 - 81s - loss: 0.1174 - accuracy: 0.8787 - val_loss: 0.5220 - val_accuracy: 0.5249 - lr: 0.0010 - 81s/epoch - 18ms/step
Epoch 43/50
4378/4378 - 81s - loss: 0.1184 - accuracy: 0.8782 - val_loss: 0.4744 - val_accuracy: 0.5700 - lr: 0.0010 - 81s/epoch - 18ms/step
Epoch 44/50
4378/4378 - 81s - loss: 0.1197 - accuracy: 0.8758 - val_loss: 0.4899 - val_accuracy: 0.5660 - lr: 0.0010 - 81s/epoch - 18ms/step
Epoch 45/50
4378/4378 - 86s - loss: 0.1177 - accuracy: 0.8784 - val_loss: 0.4433 - val_accuracy: 0.5802 - lr: 0.0010 - 86s/epoch - 20ms/step
Epoch 46/50
4378/4378 - 82s - loss: 0.1182 - accuracy: 0.8779 - val_loss: 0.4757 - val_accuracy: 0.5677 - lr: 0.0010 - 82s/epoch - 19ms/step
Epoch 47/50
4378/4378 - 76s - loss: 0.1182 - accuracy: 0.8774 - val_loss: 0.4307 - val_accuracy: 0.5970 - lr: 0.0010 - 76s/epoch - 17ms/step
Epoch 48/50
4378/4378 - 87s - loss: 0.1174 - accuracy: 0.8786 - val_loss: 0.4480 - val_accuracy: 0.5889 - lr: 0.0010 - 87s/epoch - 20ms/step
Epoch 49/50
4378/4378 - 84s - loss: 0.1187 - accuracy: 0.8755 - val_loss: 0.4157 - val_accuracy: 0.6130 - lr: 0.0010 - 84s/epoch - 19ms/step
Epoch 50/50
4378/4378 - 93s - loss: 0.1185 - accuracy: 0.8777 - val_loss: 0.4833 - val_accuracy: 0.5649 - lr: 0.0010 - 93s/epoch - 21ms/step
Epoch 1/50
876/876 - 22s - loss: 0.0870 - accuracy: 0.9128 - val_loss: 0.5476 - val_accuracy: 0.5706 - lr: 0.0010 - 22s/epoch - 25ms/step
Epoch 2/50
876/876 - 19s - loss: 0.0860 - accuracy: 0.9138 - val_loss: 0.5551 - val_accuracy: 0.5690 - lr: 0.0010 - 19s/epoch - 22ms/step
Epoch 3/50
876/876 - 19s - loss: 0.0848 - accuracy: 0.9149 - val_loss: 0.5602 - val_accuracy: 0.5570 - lr: 0.0010 - 19s/epoch - 22ms/step
Epoch 4/50
876/876 - 19s - loss: 0.0826 - accuracy: 0.9172 - val_loss: 0.5564 - val_accuracy: 0.5633 - lr: 0.0010 - 19s/epoch - 22ms/step
Epoch 5/50
876/876 - 20s - loss: 0.0813 - accuracy: 0.9182 - val_loss: 0.5156 - val_accuracy: 0.5939 - lr: 0.0010 - 20s/epoch - 23ms/step
Epoch 6/50
876/876 - 19s - loss: 0.0799 - accuracy: 0.9205 - val_loss: 0.5854 - val_accuracy: 0.5735 - lr: 0.0010 - 19s/epoch - 21ms/step
Epoch 7/50
876/876 - 19s - loss: 0.0797 - accuracy: 0.9203 - val_loss: 0.5436 - val_accuracy: 0.5909 - lr: 0.0010 - 19s/epoch - 22ms/step
Epoch 8/50
876/876 - 19s - loss: 0.0793 - accuracy: 0.9209 - val_loss: 0.5237 - val_accuracy: 0.6000 - lr: 0.0010 - 19s/epoch - 22ms/step
Epoch 9/50
876/876 - 21s - loss: 0.0784 - accuracy: 0.9216 - val_loss: 0.5164 - val_accuracy: 0.6143 - lr: 0.0010 - 21s/epoch - 24ms/step
Epoch 10/50
876/876 - 24s - loss: 0.0784 - accuracy: 0.9217 - val_loss: 0.5420 - val_accuracy: 0.6011 - lr: 0.0010 - 24s/epoch - 27ms/step
Epoch 11/50
876/876 - 22s - loss: 0.0771 - accuracy: 0.9229 - val_loss: 0.6054 - val_accuracy: 0.5589 - lr: 0.0010 - 22s/epoch - 25ms/step
Epoch 12/50
876/876 - 21s - loss: 0.0773 - accuracy: 0.9220 - val_loss: 0.5495 - val_accuracy: 0.5860 - lr: 0.0010 - 21s/epoch - 24ms/step
Epoch 13/50
876/876 - 22s - loss: 0.0773 - accuracy: 0.9223 - val_loss: 0.5563 - val_accuracy: 0.5805 - lr: 0.0010 - 22s/epoch - 25ms/step
Epoch 14/50
876/876 - 21s - loss: 0.0755 - accuracy: 0.9245 - val_loss: 0.5678 - val_accuracy: 0.5878 - lr: 0.0010 - 21s/epoch - 24ms/step
Epoch 15/50
876/876 - 21s - loss: 0.0756 - accuracy: 0.9240 - val_loss: 0.5829 - val_accuracy: 0.5775 - lr: 0.0010 - 21s/epoch - 23ms/step
Epoch 16/50
876/876 - 21s - loss: 0.0751 - accuracy: 0.9247 - val_loss: 0.5637 - val_accuracy: 0.5694 - lr: 0.0010 - 21s/epoch - 24ms/step
Epoch 17/50
876/876 - 21s - loss: 0.0751 - accuracy: 0.9241 - val_loss: 0.6010 - val_accuracy: 0.5688 - lr: 0.0010 - 21s/epoch - 24ms/step
Epoch 18/50
876/876 - 21s - loss: 0.0750 - accuracy: 0.9251 - val_loss: 0.5705 - val_accuracy: 0.5837 - lr: 0.0010 - 21s/epoch - 25ms/step
Epoch 19/50
876/876 - 21s - loss: 0.0774 - accuracy: 0.9225 - val_loss: 0.5502 - val_accuracy: 0.5967 - lr: 0.0010 - 21s/epoch - 24ms/step
Epoch 20/50
876/876 - 21s - loss: 0.0738 - accuracy: 0.9261 - val_loss: 0.5767 - val_accuracy: 0.5710 - lr: 0.0010 - 21s/epoch - 24ms/step
Epoch 21/50
876/876 - 21s - loss: 0.0745 - accuracy: 0.9262 - val_loss: 0.5524 - val_accuracy: 0.5799 - lr: 0.0010 - 21s/epoch - 24ms/step
Epoch 22/50
876/876 - 21s - loss: 0.0750 - accuracy: 0.9249 - val_loss: 0.6797 - val_accuracy: 0.5371 - lr: 0.0010 - 21s/epoch - 24ms/step
Epoch 23/50
876/876 - 20s - loss: 0.0742 - accuracy: 0.9262 - val_loss: 0.5676 - val_accuracy: 0.5695 - lr: 0.0010 - 20s/epoch - 22ms/step
Epoch 24/50
876/876 - 19s - loss: 0.0744 - accuracy: 0.9261 - val_loss: 0.5855 - val_accuracy: 0.5868 - lr: 0.0010 - 19s/epoch - 22ms/step
Epoch 25/50
876/876 - 20s - loss: 0.0743 - accuracy: 0.9252 - val_loss: 0.5842 - val_accuracy: 0.5918 - lr: 0.0010 - 20s/epoch - 23ms/step
Epoch 26/50
876/876 - 19s - loss: 0.0734 - accuracy: 0.9270 - val_loss: 0.5660 - val_accuracy: 0.5730 - lr: 0.0010 - 19s/epoch - 22ms/step
Epoch 27/50
876/876 - 20s - loss: 0.0736 - accuracy: 0.9273 - val_loss: 0.6509 - val_accuracy: 0.5534 - lr: 0.0010 - 20s/epoch - 22ms/step
Epoch 28/50
876/876 - 19s - loss: 0.0739 - accuracy: 0.9267 - val_loss: 0.5575 - val_accuracy: 0.5952 - lr: 0.0010 - 19s/epoch - 22ms/step
Epoch 29/50
876/876 - 20s - loss: 0.0739 - accuracy: 0.9260 - val_loss: 0.6381 - val_accuracy: 0.5504 - lr: 0.0010 - 20s/epoch - 22ms/step
Epoch 30/50
876/876 - 20s - loss: 0.0732 - accuracy: 0.9276 - val_loss: 0.5853 - val_accuracy: 0.5832 - lr: 0.0010 - 20s/epoch - 23ms/step
Epoch 31/50
876/876 - 19s - loss: 0.0732 - accuracy: 0.9272 - val_loss: 0.5810 - val_accuracy: 0.5745 - lr: 0.0010 - 19s/epoch - 22ms/step
Epoch 32/50
876/876 - 19s - loss: 0.0722 - accuracy: 0.9280 - val_loss: 0.6237 - val_accuracy: 0.5585 - lr: 0.0010 - 19s/epoch - 22ms/step
Epoch 33/50
876/876 - 18s - loss: 0.0721 - accuracy: 0.9281 - val_loss: 0.5748 - val_accuracy: 0.5967 - lr: 0.0010 - 18s/epoch - 21ms/step
Epoch 34/50
876/876 - 18s - loss: 0.0720 - accuracy: 0.9286 - val_loss: 0.5829 - val_accuracy: 0.5727 - lr: 0.0010 - 18s/epoch - 21ms/step
Epoch 35/50
876/876 - 18s - loss: 0.0726 - accuracy: 0.9277 - val_loss: 0.6417 - val_accuracy: 0.5525 - lr: 0.0010 - 18s/epoch - 21ms/step
Epoch 36/50
876/876 - 18s - loss: 0.0726 - accuracy: 0.9279 - val_loss: 0.6190 - val_accuracy: 0.5582 - lr: 0.0010 - 18s/epoch - 21ms/step
Epoch 37/50
876/876 - 18s - loss: 0.0716 - accuracy: 0.9293 - val_loss: 0.5759 - val_accuracy: 0.5905 - lr: 0.0010 - 18s/epoch - 21ms/step
Epoch 38/50
876/876 - 18s - loss: 0.0722 - accuracy: 0.9287 - val_loss: 0.5979 - val_accuracy: 0.5792 - lr: 0.0010 - 18s/epoch - 21ms/step
Epoch 39/50
876/876 - 18s - loss: 0.0719 - accuracy: 0.9288 - val_loss: 0.6206 - val_accuracy: 0.5423 - lr: 0.0010 - 18s/epoch - 21ms/step
Epoch 40/50
876/876 - 18s - loss: 0.0730 - accuracy: 0.9272 - val_loss: 0.6049 - val_accuracy: 0.5746 - lr: 0.0010 - 18s/epoch - 21ms/step
Epoch 41/50
876/876 - 19s - loss: 0.0724 - accuracy: 0.9282 - val_loss: 0.5928 - val_accuracy: 0.5818 - lr: 0.0010 - 19s/epoch - 21ms/step
Epoch 42/50
876/876 - 19s - loss: 0.0719 - accuracy: 0.9288 - val_loss: 0.6158 - val_accuracy: 0.5672 - lr: 0.0010 - 19s/epoch - 21ms/step
Epoch 43/50
876/876 - 18s - loss: 0.0715 - accuracy: 0.9289 - val_loss: 0.6741 - val_accuracy: 0.5441 - lr: 0.0010 - 18s/epoch - 21ms/step
Epoch 44/50
876/876 - 18s - loss: 0.0723 - accuracy: 0.9278 - val_loss: 0.6255 - val_accuracy: 0.5771 - lr: 0.0010 - 18s/epoch - 21ms/step
Epoch 45/50
876/876 - 18s - loss: 0.0719 - accuracy: 0.9282 - val_loss: 0.6526 - val_accuracy: 0.5586 - lr: 0.0010 - 18s/epoch - 21ms/step
Epoch 46/50
876/876 - 18s - loss: 0.0714 - accuracy: 0.9282 - val_loss: 0.6485 - val_accuracy: 0.5686 - lr: 0.0010 - 18s/epoch - 21ms/step
Epoch 47/50
876/876 - 19s - loss: 0.0709 - accuracy: 0.9292 - val_loss: 0.6393 - val_accuracy: 0.5562 - lr: 0.0010 - 19s/epoch - 21ms/step
Epoch 48/50
876/876 - 19s - loss: 0.0719 - accuracy: 0.9276 - val_loss: 0.6242 - val_accuracy: 0.5733 - lr: 0.0010 - 19s/epoch - 21ms/step
Epoch 49/50
876/876 - 18s - loss: 0.0711 - accuracy: 0.9291 - val_loss: 0.6574 - val_accuracy: 0.5458 - lr: 0.0010 - 18s/epoch - 21ms/step
Epoch 50/50
876/876 - 18s - loss: 0.0722 - accuracy: 0.9284 - val_loss: 0.6283 - val_accuracy: 0.5650 - lr: 0.0010 - 18s/epoch - 21ms/step
Epoch 1/50
176/176 - 20s - loss: 0.0537 - accuracy: 0.9491 - val_loss: 0.6789 - val_accuracy: 0.5664 - lr: 0.0010 - 20s/epoch - 116ms/step
Epoch 2/50
176/176 - 10s - loss: 0.0467 - accuracy: 0.9563 - val_loss: 0.7250 - val_accuracy: 0.5659 - lr: 0.0010 - 10s/epoch - 54ms/step
Epoch 3/50
176/176 - 10s - loss: 0.0453 - accuracy: 0.9574 - val_loss: 0.7356 - val_accuracy: 0.5623 - lr: 0.0010 - 10s/epoch - 54ms/step
Epoch 4/50
176/176 - 10s - loss: 0.0458 - accuracy: 0.9567 - val_loss: 0.7462 - val_accuracy: 0.5715 - lr: 0.0010 - 10s/epoch - 55ms/step
Epoch 5/50
176/176 - 10s - loss: 0.0456 - accuracy: 0.9566 - val_loss: 0.7535 - val_accuracy: 0.5742 - lr: 0.0010 - 10s/epoch - 54ms/step
Epoch 6/50
176/176 - 10s - loss: 0.0468 - accuracy: 0.9552 - val_loss: 0.7547 - val_accuracy: 0.5701 - lr: 0.0010 - 10s/epoch - 55ms/step
Epoch 7/50
176/176 - 10s - loss: 0.0464 - accuracy: 0.9564 - val_loss: 0.7845 - val_accuracy: 0.5529 - lr: 0.0010 - 10s/epoch - 55ms/step
Epoch 8/50
176/176 - 10s - loss: 0.0467 - accuracy: 0.9559 - val_loss: 0.7953 - val_accuracy: 0.5551 - lr: 0.0010 - 10s/epoch - 55ms/step
Epoch 9/50
176/176 - 10s - loss: 0.0469 - accuracy: 0.9550 - val_loss: 0.7999 - val_accuracy: 0.5552 - lr: 0.0010 - 10s/epoch - 54ms/step
Epoch 10/50
176/176 - 10s - loss: 0.0468 - accuracy: 0.9557 - val_loss: 0.7266 - val_accuracy: 0.5875 - lr: 0.0010 - 10s/epoch - 55ms/step
Epoch 11/50
176/176 - 10s - loss: 0.0458 - accuracy: 0.9565 - val_loss: 0.7975 - val_accuracy: 0.5549 - lr: 0.0010 - 10s/epoch - 54ms/step
Epoch 12/50
176/176 - 10s - loss: 0.0466 - accuracy: 0.9556 - val_loss: 0.8307 - val_accuracy: 0.5416 - lr: 0.0010 - 10s/epoch - 55ms/step
Epoch 13/50
176/176 - 10s - loss: 0.0471 - accuracy: 0.9551 - val_loss: 0.7607 - val_accuracy: 0.5816 - lr: 0.0010 - 10s/epoch - 55ms/step
Epoch 14/50
176/176 - 10s - loss: 0.0480 - accuracy: 0.9541 - val_loss: 0.7973 - val_accuracy: 0.5643 - lr: 0.0010 - 10s/epoch - 55ms/step
Epoch 15/50
176/176 - 10s - loss: 0.0462 - accuracy: 0.9562 - val_loss: 0.7634 - val_accuracy: 0.5785 - lr: 0.0010 - 10s/epoch - 55ms/step
Epoch 16/50
176/176 - 10s - loss: 0.0445 - accuracy: 0.9584 - val_loss: 0.7879 - val_accuracy: 0.5661 - lr: 0.0010 - 10s/epoch - 55ms/step
Epoch 17/50
176/176 - 10s - loss: 0.0433 - accuracy: 0.9591 - val_loss: 0.8028 - val_accuracy: 0.5654 - lr: 0.0010 - 10s/epoch - 55ms/step
Epoch 18/50
176/176 - 10s - loss: 0.0435 - accuracy: 0.9598 - val_loss: 0.7791 - val_accuracy: 0.5754 - lr: 0.0010 - 10s/epoch - 54ms/step
Epoch 19/50
176/176 - 10s - loss: 0.0426 - accuracy: 0.9598 - val_loss: 0.8340 - val_accuracy: 0.5564 - lr: 0.0010 - 10s/epoch - 55ms/step
Epoch 20/50
176/176 - 10s - loss: 0.0440 - accuracy: 0.9582 - val_loss: 0.8310 - val_accuracy: 0.5684 - lr: 0.0010 - 10s/epoch - 54ms/step
Epoch 21/50
176/176 - 10s - loss: 0.0449 - accuracy: 0.9584 - val_loss: 0.8538 - val_accuracy: 0.5462 - lr: 0.0010 - 10s/epoch - 55ms/step
Epoch 22/50
176/176 - 10s - loss: 0.0454 - accuracy: 0.9578 - val_loss: 0.8456 - val_accuracy: 0.5465 - lr: 0.0010 - 10s/epoch - 55ms/step
Epoch 23/50
176/176 - 10s - loss: 0.0450 - accuracy: 0.9573 - val_loss: 0.8617 - val_accuracy: 0.5370 - lr: 0.0010 - 10s/epoch - 55ms/step
Epoch 24/50
176/176 - 10s - loss: 0.0443 - accuracy: 0.9576 - val_loss: 0.8957 - val_accuracy: 0.5349 - lr: 0.0010 - 10s/epoch - 54ms/step
Epoch 25/50
176/176 - 10s - loss: 0.0452 - accuracy: 0.9571 - val_loss: 0.9278 - val_accuracy: 0.5047 - lr: 0.0010 - 10s/epoch - 55ms/step
Epoch 26/50
176/176 - 10s - loss: 0.0451 - accuracy: 0.9584 - val_loss: 0.8370 - val_accuracy: 0.5576 - lr: 0.0010 - 10s/epoch - 55ms/step
Epoch 27/50
176/176 - 10s - loss: 0.0444 - accuracy: 0.9581 - val_loss: 0.8811 - val_accuracy: 0.5445 - lr: 0.0010 - 10s/epoch - 55ms/step
Epoch 28/50
176/176 - 10s - loss: 0.0433 - accuracy: 0.9592 - val_loss: 0.8733 - val_accuracy: 0.5419 - lr: 0.0010 - 10s/epoch - 55ms/step
Epoch 29/50
176/176 - 10s - loss: 0.0416 - accuracy: 0.9613 - val_loss: 0.8592 - val_accuracy: 0.5611 - lr: 0.0010 - 10s/epoch - 55ms/step
Epoch 30/50
176/176 - 10s - loss: 0.0430 - accuracy: 0.9597 - val_loss: 0.8918 - val_accuracy: 0.5432 - lr: 0.0010 - 10s/epoch - 55ms/step
Epoch 31/50
176/176 - 10s - loss: 0.0430 - accuracy: 0.9596 - val_loss: 0.8529 - val_accuracy: 0.5614 - lr: 0.0010 - 10s/epoch - 55ms/step
Epoch 32/50
176/176 - 10s - loss: 0.0442 - accuracy: 0.9587 - val_loss: 0.8426 - val_accuracy: 0.5569 - lr: 0.0010 - 10s/epoch - 55ms/step
Epoch 33/50
176/176 - 10s - loss: 0.0442 - accuracy: 0.9589 - val_loss: 0.8046 - val_accuracy: 0.5670 - lr: 0.0010 - 10s/epoch - 54ms/step
Epoch 34/50
176/176 - 10s - loss: 0.0441 - accuracy: 0.9582 - val_loss: 0.8492 - val_accuracy: 0.5464 - lr: 0.0010 - 10s/epoch - 55ms/step
Epoch 35/50
176/176 - 10s - loss: 0.0459 - accuracy: 0.9567 - val_loss: 0.7855 - val_accuracy: 0.5704 - lr: 0.0010 - 10s/epoch - 55ms/step
Epoch 36/50
176/176 - 10s - loss: 0.0451 - accuracy: 0.9579 - val_loss: 0.7828 - val_accuracy: 0.5810 - lr: 0.0010 - 10s/epoch - 55ms/step
Epoch 37/50
176/176 - 10s - loss: 0.0427 - accuracy: 0.9590 - val_loss: 0.8502 - val_accuracy: 0.5574 - lr: 0.0010 - 10s/epoch - 55ms/step
Epoch 38/50
176/176 - 10s - loss: 0.0431 - accuracy: 0.9589 - val_loss: 0.8348 - val_accuracy: 0.5683 - lr: 0.0010 - 10s/epoch - 55ms/step
Epoch 39/50
176/176 - 10s - loss: 0.0427 - accuracy: 0.9604 - val_loss: 0.8670 - val_accuracy: 0.5501 - lr: 0.0010 - 10s/epoch - 55ms/step
Epoch 40/50
176/176 - 10s - loss: 0.0438 - accuracy: 0.9583 - val_loss: 0.8158 - val_accuracy: 0.5663 - lr: 0.0010 - 10s/epoch - 55ms/step
Epoch 41/50
176/176 - 10s - loss: 0.0438 - accuracy: 0.9586 - val_loss: 0.8458 - val_accuracy: 0.5597 - lr: 0.0010 - 10s/epoch - 55ms/step
Epoch 42/50
176/176 - 10s - loss: 0.0432 - accuracy: 0.9600 - val_loss: 0.8309 - val_accuracy: 0.5676 - lr: 0.0010 - 10s/epoch - 55ms/step
Epoch 43/50
176/176 - 10s - loss: 0.0447 - accuracy: 0.9578 - val_loss: 0.8215 - val_accuracy: 0.5588 - lr: 0.0010 - 10s/epoch - 55ms/step
Epoch 44/50
176/176 - 10s - loss: 0.0452 - accuracy: 0.9575 - val_loss: 0.8466 - val_accuracy: 0.5507 - lr: 0.0010 - 10s/epoch - 55ms/step
Epoch 45/50
176/176 - 10s - loss: 0.0431 - accuracy: 0.9581 - val_loss: 0.8249 - val_accuracy: 0.5648 - lr: 0.0010 - 10s/epoch - 55ms/step
Epoch 46/50
176/176 - 10s - loss: 0.0413 - accuracy: 0.9600 - val_loss: 0.8171 - val_accuracy: 0.5751 - lr: 0.0010 - 10s/epoch - 54ms/step
Epoch 47/50
176/176 - 10s - loss: 0.0421 - accuracy: 0.9601 - val_loss: 0.8854 - val_accuracy: 0.5462 - lr: 0.0010 - 10s/epoch - 55ms/step
Epoch 48/50
176/176 - 10s - loss: 0.0448 - accuracy: 0.9577 - val_loss: 0.8668 - val_accuracy: 0.5540 - lr: 0.0010 - 10s/epoch - 55ms/step
Epoch 49/50
176/176 - 10s - loss: 0.0440 - accuracy: 0.9587 - val_loss: 0.8185 - val_accuracy: 0.5774 - lr: 0.0010 - 10s/epoch - 55ms/step
Epoch 50/50
176/176 - 10s - loss: 0.0419 - accuracy: 0.9615 - val_loss: 0.8626 - val_accuracy: 0.5611 - lr: 0.0010 - 10s/epoch - 54ms/step
Epoch 1/50
36/36 - 11s - loss: 0.0368 - accuracy: 0.9665 - val_loss: 0.8807 - val_accuracy: 0.5555 - lr: 0.0010 - 11s/epoch - 304ms/step
Epoch 2/50
36/36 - 9s - loss: 0.0357 - accuracy: 0.9671 - val_loss: 0.8685 - val_accuracy: 0.5593 - lr: 0.0010 - 9s/epoch - 237ms/step
Epoch 3/50
36/36 - 8s - loss: 0.0338 - accuracy: 0.9697 - val_loss: 0.8517 - val_accuracy: 0.5710 - lr: 0.0010 - 8s/epoch - 236ms/step
Epoch 4/50
36/36 - 8s - loss: 0.0324 - accuracy: 0.9706 - val_loss: 0.8713 - val_accuracy: 0.5646 - lr: 0.0010 - 8s/epoch - 236ms/step
Epoch 5/50
36/36 - 8s - loss: 0.0335 - accuracy: 0.9705 - val_loss: 0.8731 - val_accuracy: 0.5669 - lr: 0.0010 - 8s/epoch - 236ms/step
Epoch 6/50
36/36 - 9s - loss: 0.0315 - accuracy: 0.9715 - val_loss: 0.8778 - val_accuracy: 0.5670 - lr: 0.0010 - 9s/epoch - 236ms/step
Epoch 7/50
36/36 - 9s - loss: 0.0318 - accuracy: 0.9716 - val_loss: 0.8833 - val_accuracy: 0.5623 - lr: 0.0010 - 9s/epoch - 236ms/step
Epoch 8/50
36/36 - 8s - loss: 0.0318 - accuracy: 0.9717 - val_loss: 0.8711 - val_accuracy: 0.5704 - lr: 0.0010 - 8s/epoch - 235ms/step
Epoch 9/50
36/36 - 8s - loss: 0.0318 - accuracy: 0.9718 - val_loss: 0.8912 - val_accuracy: 0.5609 - lr: 0.0010 - 8s/epoch - 236ms/step
Epoch 10/50
36/36 - 8s - loss: 0.0315 - accuracy: 0.9711 - val_loss: 0.8789 - val_accuracy: 0.5669 - lr: 0.0010 - 8s/epoch - 236ms/step
Epoch 11/50
36/36 - 9s - loss: 0.0306 - accuracy: 0.9728 - val_loss: 0.9028 - val_accuracy: 0.5603 - lr: 0.0010 - 9s/epoch - 237ms/step
Epoch 12/50
36/36 - 8s - loss: 0.0310 - accuracy: 0.9728 - val_loss: 0.9022 - val_accuracy: 0.5642 - lr: 0.0010 - 8s/epoch - 236ms/step
Epoch 13/50
36/36 - 8s - loss: 0.0309 - accuracy: 0.9725 - val_loss: 0.9021 - val_accuracy: 0.5658 - lr: 0.0010 - 8s/epoch - 236ms/step
Epoch 14/50
36/36 - 8s - loss: 0.0316 - accuracy: 0.9715 - val_loss: 0.9019 - val_accuracy: 0.5651 - lr: 0.0010 - 8s/epoch - 235ms/step
Epoch 15/50
36/36 - 8s - loss: 0.0315 - accuracy: 0.9724 - val_loss: 0.9034 - val_accuracy: 0.5675 - lr: 0.0010 - 8s/epoch - 236ms/step
Epoch 16/50
36/36 - 9s - loss: 0.0310 - accuracy: 0.9729 - val_loss: 0.9144 - val_accuracy: 0.5659 - lr: 0.0010 - 9s/epoch - 236ms/step
Epoch 17/50
36/36 - 8s - loss: 0.0295 - accuracy: 0.9744 - val_loss: 0.9098 - val_accuracy: 0.5677 - lr: 0.0010 - 8s/epoch - 235ms/step
Epoch 18/50
36/36 - 9s - loss: 0.0308 - accuracy: 0.9721 - val_loss: 0.9220 - val_accuracy: 0.5634 - lr: 0.0010 - 9s/epoch - 236ms/step
Epoch 19/50
36/36 - 9s - loss: 0.0309 - accuracy: 0.9716 - val_loss: 0.9151 - val_accuracy: 0.5626 - lr: 0.0010 - 9s/epoch - 237ms/step
Epoch 20/50
36/36 - 8s - loss: 0.0319 - accuracy: 0.9714 - val_loss: 0.9294 - val_accuracy: 0.5555 - lr: 0.0010 - 8s/epoch - 236ms/step
Epoch 21/50
36/36 - 9s - loss: 0.0313 - accuracy: 0.9720 - val_loss: 0.9390 - val_accuracy: 0.5538 - lr: 0.0010 - 9s/epoch - 238ms/step
Epoch 22/50
36/36 - 8s - loss: 0.0306 - accuracy: 0.9732 - val_loss: 0.9366 - val_accuracy: 0.5612 - lr: 0.0010 - 8s/epoch - 236ms/step
Epoch 23/50
36/36 - 9s - loss: 0.0311 - accuracy: 0.9721 - val_loss: 0.9194 - val_accuracy: 0.5677 - lr: 0.0010 - 9s/epoch - 237ms/step
Epoch 24/50
36/36 - 8s - loss: 0.0317 - accuracy: 0.9718 - val_loss: 0.9202 - val_accuracy: 0.5637 - lr: 0.0010 - 8s/epoch - 234ms/step
Epoch 25/50
36/36 - 8s - loss: 0.0328 - accuracy: 0.9709 - val_loss: 0.8942 - val_accuracy: 0.5745 - lr: 0.0010 - 8s/epoch - 235ms/step
Epoch 26/50
36/36 - 8s - loss: 0.0320 - accuracy: 0.9715 - val_loss: 0.9251 - val_accuracy: 0.5635 - lr: 0.0010 - 8s/epoch - 236ms/step
Epoch 27/50
36/36 - 9s - loss: 0.0309 - accuracy: 0.9730 - val_loss: 0.9132 - val_accuracy: 0.5665 - lr: 0.0010 - 9s/epoch - 236ms/step
Epoch 28/50
36/36 - 9s - loss: 0.0304 - accuracy: 0.9732 - val_loss: 0.9343 - val_accuracy: 0.5598 - lr: 0.0010 - 9s/epoch - 236ms/step
Epoch 29/50
36/36 - 9s - loss: 0.0318 - accuracy: 0.9712 - val_loss: 0.9375 - val_accuracy: 0.5539 - lr: 0.0010 - 9s/epoch - 237ms/step
Epoch 30/50
36/36 - 9s - loss: 0.0299 - accuracy: 0.9742 - val_loss: 0.9441 - val_accuracy: 0.5541 - lr: 0.0010 - 9s/epoch - 236ms/step
Epoch 31/50
36/36 - 9s - loss: 0.0300 - accuracy: 0.9728 - val_loss: 0.9409 - val_accuracy: 0.5584 - lr: 0.0010 - 9s/epoch - 236ms/step
Epoch 32/50
36/36 - 9s - loss: 0.0297 - accuracy: 0.9733 - val_loss: 0.9339 - val_accuracy: 0.5604 - lr: 0.0010 - 9s/epoch - 236ms/step
Epoch 33/50
36/36 - 9s - loss: 0.0310 - accuracy: 0.9730 - val_loss: 0.9244 - val_accuracy: 0.5661 - lr: 0.0010 - 9s/epoch - 237ms/step
Epoch 34/50
36/36 - 9s - loss: 0.0301 - accuracy: 0.9737 - val_loss: 0.9370 - val_accuracy: 0.5622 - lr: 0.0010 - 9s/epoch - 237ms/step
Epoch 35/50
36/36 - 8s - loss: 0.0292 - accuracy: 0.9737 - val_loss: 0.9273 - val_accuracy: 0.5711 - lr: 0.0010 - 8s/epoch - 236ms/step
Epoch 36/50
36/36 - 9s - loss: 0.0293 - accuracy: 0.9743 - val_loss: 0.9274 - val_accuracy: 0.5645 - lr: 0.0010 - 9s/epoch - 237ms/step
Epoch 37/50
36/36 - 8s - loss: 0.0297 - accuracy: 0.9738 - val_loss: 0.9194 - val_accuracy: 0.5700 - lr: 0.0010 - 8s/epoch - 236ms/step
Epoch 38/50
36/36 - 8s - loss: 0.0299 - accuracy: 0.9745 - val_loss: 0.9518 - val_accuracy: 0.5566 - lr: 0.0010 - 8s/epoch - 236ms/step
Epoch 39/50
36/36 - 8s - loss: 0.0300 - accuracy: 0.9734 - val_loss: 0.9287 - val_accuracy: 0.5692 - lr: 0.0010 - 8s/epoch - 236ms/step
Epoch 40/50
36/36 - 8s - loss: 0.0295 - accuracy: 0.9736 - val_loss: 0.9321 - val_accuracy: 0.5711 - lr: 0.0010 - 8s/epoch - 235ms/step
Epoch 41/50
36/36 - 8s - loss: 0.0309 - accuracy: 0.9718 - val_loss: 0.9371 - val_accuracy: 0.5647 - lr: 0.0010 - 8s/epoch - 236ms/step
Epoch 42/50
36/36 - 8s - loss: 0.0294 - accuracy: 0.9738 - val_loss: 0.9677 - val_accuracy: 0.5549 - lr: 0.0010 - 8s/epoch - 236ms/step
Epoch 43/50
36/36 - 8s - loss: 0.0312 - accuracy: 0.9720 - val_loss: 0.9379 - val_accuracy: 0.5641 - lr: 0.0010 - 8s/epoch - 236ms/step
Epoch 44/50
36/36 - 9s - loss: 0.0306 - accuracy: 0.9727 - val_loss: 0.9634 - val_accuracy: 0.5574 - lr: 0.0010 - 9s/epoch - 237ms/step
Epoch 45/50
36/36 - 8s - loss: 0.0289 - accuracy: 0.9741 - val_loss: 0.9564 - val_accuracy: 0.5608 - lr: 0.0010 - 8s/epoch - 235ms/step
Epoch 46/50
36/36 - 9s - loss: 0.0290 - accuracy: 0.9741 - val_loss: 0.9621 - val_accuracy: 0.5587 - lr: 0.0010 - 9s/epoch - 236ms/step
Epoch 47/50
36/36 - 9s - loss: 0.0303 - accuracy: 0.9724 - val_loss: 0.9774 - val_accuracy: 0.5567 - lr: 0.0010 - 9s/epoch - 237ms/step
Epoch 48/50
36/36 - 8s - loss: 0.0307 - accuracy: 0.9717 - val_loss: 0.9598 - val_accuracy: 0.5604 - lr: 0.0010 - 8s/epoch - 236ms/step
Epoch 49/50
36/36 - 8s - loss: 0.0301 - accuracy: 0.9737 - val_loss: 0.9743 - val_accuracy: 0.5556 - lr: 0.0010 - 8s/epoch - 235ms/step
Epoch 50/50
36/36 - 9s - loss: 0.0317 - accuracy: 0.9713 - val_loss: 0.9691 - val_accuracy: 0.5523 - lr: 0.0010 - 9s/epoch - 237ms/step
Epoch 1/75
4378/4378 - 82s - loss: 0.1037 - accuracy: 0.8969 - val_loss: 0.5319 - val_accuracy: 0.5479 - lr: 0.0010 - 82s/epoch - 19ms/step
Epoch 2/75
4378/4378 - 81s - loss: 0.1089 - accuracy: 0.8884 - val_loss: 0.5091 - val_accuracy: 0.5820 - lr: 0.0010 - 81s/epoch - 18ms/step
Epoch 3/75
4378/4378 - 80s - loss: 0.1135 - accuracy: 0.8817 - val_loss: 0.4475 - val_accuracy: 0.6073 - lr: 0.0010 - 80s/epoch - 18ms/step
Epoch 4/75
4378/4378 - 80s - loss: 0.1118 - accuracy: 0.8846 - val_loss: 0.4527 - val_accuracy: 0.6033 - lr: 0.0010 - 80s/epoch - 18ms/step
Epoch 5/75
4378/4378 - 81s - loss: 0.1129 - accuracy: 0.8836 - val_loss: 0.5223 - val_accuracy: 0.5573 - lr: 0.0010 - 81s/epoch - 19ms/step
Epoch 6/75
4378/4378 - 80s - loss: 0.1120 - accuracy: 0.8843 - val_loss: 0.4613 - val_accuracy: 0.5905 - lr: 0.0010 - 80s/epoch - 18ms/step
Epoch 7/75
4378/4378 - 80s - loss: 0.1134 - accuracy: 0.8830 - val_loss: 0.5200 - val_accuracy: 0.5729 - lr: 0.0010 - 80s/epoch - 18ms/step
Epoch 8/75
4378/4378 - 80s - loss: 0.1136 - accuracy: 0.8838 - val_loss: 0.4709 - val_accuracy: 0.5827 - lr: 0.0010 - 80s/epoch - 18ms/step
Epoch 9/75
4378/4378 - 81s - loss: 0.1143 - accuracy: 0.8815 - val_loss: 0.4974 - val_accuracy: 0.5700 - lr: 0.0010 - 81s/epoch - 18ms/step
Epoch 10/75
4378/4378 - 81s - loss: 0.1140 - accuracy: 0.8821 - val_loss: 0.5532 - val_accuracy: 0.5221 - lr: 0.0010 - 81s/epoch - 18ms/step
Epoch 11/75
4378/4378 - 80s - loss: 0.1142 - accuracy: 0.8804 - val_loss: 0.4770 - val_accuracy: 0.5759 - lr: 0.0010 - 80s/epoch - 18ms/step
Epoch 12/75
4378/4378 - 80s - loss: 0.1141 - accuracy: 0.8824 - val_loss: 0.4783 - val_accuracy: 0.5319 - lr: 0.0010 - 80s/epoch - 18ms/step
Epoch 13/75
4378/4378 - 80s - loss: 0.1145 - accuracy: 0.8812 - val_loss: 0.5242 - val_accuracy: 0.5126 - lr: 0.0010 - 80s/epoch - 18ms/step
Epoch 14/75
4378/4378 - 80s - loss: 0.1153 - accuracy: 0.8806 - val_loss: 0.4315 - val_accuracy: 0.6093 - lr: 0.0010 - 80s/epoch - 18ms/step
Epoch 15/75
4378/4378 - 81s - loss: 0.1141 - accuracy: 0.8817 - val_loss: 0.4146 - val_accuracy: 0.6156 - lr: 0.0010 - 81s/epoch - 18ms/step
Epoch 16/75
4378/4378 - 80s - loss: 0.1161 - accuracy: 0.8793 - val_loss: 0.4378 - val_accuracy: 0.5945 - lr: 0.0010 - 80s/epoch - 18ms/step
Epoch 17/75
4378/4378 - 81s - loss: 0.1155 - accuracy: 0.8803 - val_loss: 0.4644 - val_accuracy: 0.5761 - lr: 0.0010 - 81s/epoch - 18ms/step
Epoch 18/75
4378/4378 - 80s - loss: 0.1144 - accuracy: 0.8823 - val_loss: 0.4626 - val_accuracy: 0.5925 - lr: 0.0010 - 80s/epoch - 18ms/step
Epoch 19/75
4378/4378 - 80s - loss: 0.1159 - accuracy: 0.8804 - val_loss: 0.4644 - val_accuracy: 0.5645 - lr: 0.0010 - 80s/epoch - 18ms/step
Epoch 20/75
4378/4378 - 80s - loss: 0.1153 - accuracy: 0.8821 - val_loss: 0.4642 - val_accuracy: 0.5846 - lr: 0.0010 - 80s/epoch - 18ms/step
Epoch 21/75
4378/4378 - 80s - loss: 0.1139 - accuracy: 0.8816 - val_loss: 0.4607 - val_accuracy: 0.5969 - lr: 0.0010 - 80s/epoch - 18ms/step
Epoch 22/75
4378/4378 - 80s - loss: 0.1161 - accuracy: 0.8798 - val_loss: 0.4722 - val_accuracy: 0.5574 - lr: 0.0010 - 80s/epoch - 18ms/step
Epoch 23/75
4378/4378 - 80s - loss: 0.1144 - accuracy: 0.8804 - val_loss: 0.4557 - val_accuracy: 0.5751 - lr: 0.0010 - 80s/epoch - 18ms/step
Epoch 24/75
4378/4378 - 81s - loss: 0.1143 - accuracy: 0.8826 - val_loss: 0.5195 - val_accuracy: 0.5335 - lr: 0.0010 - 81s/epoch - 18ms/step
Epoch 25/75
4378/4378 - 81s - loss: 0.1151 - accuracy: 0.8819 - val_loss: 0.4649 - val_accuracy: 0.5677 - lr: 0.0010 - 81s/epoch - 18ms/step
Epoch 26/75
4378/4378 - 80s - loss: 0.1159 - accuracy: 0.8801 - val_loss: 0.5102 - val_accuracy: 0.5462 - lr: 0.0010 - 80s/epoch - 18ms/step
Epoch 27/75
4378/4378 - 80s - loss: 0.1162 - accuracy: 0.8795 - val_loss: 0.4743 - val_accuracy: 0.5766 - lr: 0.0010 - 80s/epoch - 18ms/step
Epoch 28/75
4378/4378 - 80s - loss: 0.1153 - accuracy: 0.8813 - val_loss: 0.5224 - val_accuracy: 0.5673 - lr: 0.0010 - 80s/epoch - 18ms/step
Epoch 29/75
4378/4378 - 80s - loss: 0.1155 - accuracy: 0.8810 - val_loss: 0.4087 - val_accuracy: 0.6371 - lr: 0.0010 - 80s/epoch - 18ms/step
Epoch 30/75
4378/4378 - 80s - loss: 0.1162 - accuracy: 0.8793 - val_loss: 0.3979 - val_accuracy: 0.6165 - lr: 0.0010 - 80s/epoch - 18ms/step
Epoch 31/75
4378/4378 - 80s - loss: 0.1158 - accuracy: 0.8800 - val_loss: 0.4293 - val_accuracy: 0.6225 - lr: 0.0010 - 80s/epoch - 18ms/step
Epoch 32/75
4378/4378 - 80s - loss: 0.1150 - accuracy: 0.8806 - val_loss: 0.4941 - val_accuracy: 0.5381 - lr: 0.0010 - 80s/epoch - 18ms/step
Epoch 33/75
4378/4378 - 81s - loss: 0.1160 - accuracy: 0.8809 - val_loss: 0.5408 - val_accuracy: 0.5226 - lr: 0.0010 - 81s/epoch - 18ms/step
Epoch 34/75
4378/4378 - 80s - loss: 0.1151 - accuracy: 0.8806 - val_loss: 0.4482 - val_accuracy: 0.5880 - lr: 0.0010 - 80s/epoch - 18ms/step
Epoch 35/75
4378/4378 - 80s - loss: 0.1145 - accuracy: 0.8824 - val_loss: 0.4945 - val_accuracy: 0.5418 - lr: 0.0010 - 80s/epoch - 18ms/step
Epoch 36/75
4378/4378 - 80s - loss: 0.1155 - accuracy: 0.8808 - val_loss: 0.4266 - val_accuracy: 0.6053 - lr: 0.0010 - 80s/epoch - 18ms/step
Epoch 37/75
4378/4378 - 80s - loss: 0.1152 - accuracy: 0.8812 - val_loss: 0.5285 - val_accuracy: 0.5461 - lr: 0.0010 - 80s/epoch - 18ms/step
Epoch 38/75
4378/4378 - 80s - loss: 0.1136 - accuracy: 0.8825 - val_loss: 0.4576 - val_accuracy: 0.6109 - lr: 0.0010 - 80s/epoch - 18ms/step
Epoch 39/75
4378/4378 - 80s - loss: 0.1147 - accuracy: 0.8813 - val_loss: 0.4173 - val_accuracy: 0.6284 - lr: 0.0010 - 80s/epoch - 18ms/step
Epoch 40/75
4378/4378 - 80s - loss: 0.1140 - accuracy: 0.8829 - val_loss: 0.4549 - val_accuracy: 0.5823 - lr: 0.0010 - 80s/epoch - 18ms/step
Epoch 41/75
4378/4378 - 81s - loss: 0.1165 - accuracy: 0.8792 - val_loss: 0.4596 - val_accuracy: 0.5742 - lr: 0.0010 - 81s/epoch - 18ms/step
Epoch 42/75
4378/4378 - 80s - loss: 0.1154 - accuracy: 0.8805 - val_loss: 0.4399 - val_accuracy: 0.5880 - lr: 0.0010 - 80s/epoch - 18ms/step
Epoch 43/75
4378/4378 - 80s - loss: 0.1147 - accuracy: 0.8824 - val_loss: 0.4756 - val_accuracy: 0.5801 - lr: 0.0010 - 80s/epoch - 18ms/step
Epoch 44/75
4378/4378 - 81s - loss: 0.1156 - accuracy: 0.8798 - val_loss: 0.4703 - val_accuracy: 0.5571 - lr: 0.0010 - 81s/epoch - 18ms/step
Epoch 45/75
4378/4378 - 80s - loss: 0.1147 - accuracy: 0.8811 - val_loss: 0.4425 - val_accuracy: 0.6094 - lr: 0.0010 - 80s/epoch - 18ms/step
Epoch 46/75
4378/4378 - 81s - loss: 0.1140 - accuracy: 0.8833 - val_loss: 0.4439 - val_accuracy: 0.5905 - lr: 0.0010 - 81s/epoch - 18ms/step
Epoch 47/75
4378/4378 - 80s - loss: 0.1153 - accuracy: 0.8814 - val_loss: 0.4541 - val_accuracy: 0.5734 - lr: 0.0010 - 80s/epoch - 18ms/step
Epoch 48/75
4378/4378 - 80s - loss: 0.1147 - accuracy: 0.8822 - val_loss: 0.4279 - val_accuracy: 0.6078 - lr: 0.0010 - 80s/epoch - 18ms/step
Epoch 49/75
4378/4378 - 81s - loss: 0.1142 - accuracy: 0.8833 - val_loss: 0.3942 - val_accuracy: 0.6402 - lr: 0.0010 - 81s/epoch - 18ms/step
Epoch 50/75
4378/4378 - 81s - loss: 0.1154 - accuracy: 0.8810 - val_loss: 0.4597 - val_accuracy: 0.5995 - lr: 0.0010 - 81s/epoch - 18ms/step
Epoch 51/75
4378/4378 - 81s - loss: 0.1142 - accuracy: 0.8816 - val_loss: 0.4447 - val_accuracy: 0.6144 - lr: 0.0010 - 81s/epoch - 18ms/step
Epoch 52/75
4378/4378 - 81s - loss: 0.1151 - accuracy: 0.8804 - val_loss: 0.4549 - val_accuracy: 0.5892 - lr: 0.0010 - 81s/epoch - 18ms/step
Epoch 53/75
4378/4378 - 81s - loss: 0.1153 - accuracy: 0.8806 - val_loss: 0.4353 - val_accuracy: 0.6138 - lr: 0.0010 - 81s/epoch - 18ms/step
Epoch 54/75
4378/4378 - 81s - loss: 0.1142 - accuracy: 0.8821 - val_loss: 0.4722 - val_accuracy: 0.5761 - lr: 0.0010 - 81s/epoch - 18ms/step
Epoch 55/75
4378/4378 - 81s - loss: 0.1130 - accuracy: 0.8826 - val_loss: 0.4280 - val_accuracy: 0.6162 - lr: 0.0010 - 81s/epoch - 18ms/step
Epoch 56/75
4378/4378 - 80s - loss: 0.1142 - accuracy: 0.8823 - val_loss: 0.5447 - val_accuracy: 0.5551 - lr: 0.0010 - 80s/epoch - 18ms/step
Epoch 57/75
4378/4378 - 80s - loss: 0.1134 - accuracy: 0.8817 - val_loss: 0.4422 - val_accuracy: 0.6031 - lr: 0.0010 - 80s/epoch - 18ms/step
Epoch 58/75
4378/4378 - 80s - loss: 0.1130 - accuracy: 0.8833 - val_loss: 0.4609 - val_accuracy: 0.5872 - lr: 0.0010 - 80s/epoch - 18ms/step
Epoch 59/75
4378/4378 - 81s - loss: 0.1152 - accuracy: 0.8809 - val_loss: 0.4558 - val_accuracy: 0.5853 - lr: 0.0010 - 81s/epoch - 18ms/step
Epoch 60/75
4378/4378 - 80s - loss: 0.1128 - accuracy: 0.8835 - val_loss: 0.4799 - val_accuracy: 0.5792 - lr: 0.0010 - 80s/epoch - 18ms/step
Epoch 61/75
4378/4378 - 81s - loss: 0.1135 - accuracy: 0.8825 - val_loss: 0.4042 - val_accuracy: 0.6386 - lr: 0.0010 - 81s/epoch - 19ms/step
Epoch 62/75
4378/4378 - 80s - loss: 0.1151 - accuracy: 0.8809 - val_loss: 0.4905 - val_accuracy: 0.5523 - lr: 0.0010 - 80s/epoch - 18ms/step
Epoch 63/75
4378/4378 - 81s - loss: 0.1141 - accuracy: 0.8817 - val_loss: 0.4406 - val_accuracy: 0.6189 - lr: 0.0010 - 81s/epoch - 19ms/step
Epoch 64/75
4378/4378 - 80s - loss: 0.1146 - accuracy: 0.8811 - val_loss: 0.4554 - val_accuracy: 0.5946 - lr: 0.0010 - 80s/epoch - 18ms/step
Epoch 65/75
4378/4378 - 80s - loss: 0.1140 - accuracy: 0.8827 - val_loss: 0.4825 - val_accuracy: 0.5756 - lr: 0.0010 - 80s/epoch - 18ms/step
Epoch 66/75
4378/4378 - 80s - loss: 0.1148 - accuracy: 0.8821 - val_loss: 0.4534 - val_accuracy: 0.5945 - lr: 0.0010 - 80s/epoch - 18ms/step
Epoch 67/75
4378/4378 - 81s - loss: 0.1144 - accuracy: 0.8813 - val_loss: 0.4049 - val_accuracy: 0.6322 - lr: 0.0010 - 81s/epoch - 18ms/step
Epoch 68/75
4378/4378 - 80s - loss: 0.1125 - accuracy: 0.8835 - val_loss: 0.4666 - val_accuracy: 0.6073 - lr: 0.0010 - 80s/epoch - 18ms/step
Epoch 69/75
4378/4378 - 81s - loss: 0.1152 - accuracy: 0.8818 - val_loss: 0.4655 - val_accuracy: 0.5852 - lr: 0.0010 - 81s/epoch - 19ms/step
Epoch 70/75
4378/4378 - 80s - loss: 0.1140 - accuracy: 0.8819 - val_loss: 0.4919 - val_accuracy: 0.5977 - lr: 0.0010 - 80s/epoch - 18ms/step
Epoch 71/75
4378/4378 - 80s - loss: 0.1143 - accuracy: 0.8818 - val_loss: 0.4380 - val_accuracy: 0.6230 - lr: 0.0010 - 80s/epoch - 18ms/step
Epoch 72/75
4378/4378 - 80s - loss: 0.1142 - accuracy: 0.8818 - val_loss: 0.4771 - val_accuracy: 0.5870 - lr: 0.0010 - 80s/epoch - 18ms/step
Epoch 73/75
4378/4378 - 80s - loss: 0.1134 - accuracy: 0.8834 - val_loss: 0.4785 - val_accuracy: 0.5776 - lr: 0.0010 - 80s/epoch - 18ms/step
Epoch 74/75
4378/4378 - 81s - loss: 0.1135 - accuracy: 0.8829 - val_loss: 0.4790 - val_accuracy: 0.6122 - lr: 0.0010 - 81s/epoch - 18ms/step
Epoch 75/75
4378/4378 - 80s - loss: 0.1138 - accuracy: 0.8824 - val_loss: 0.4580 - val_accuracy: 0.5798 - lr: 0.0010 - 80s/epoch - 18ms/step
Epoch 1/75
876/876 - 21s - loss: 0.0835 - accuracy: 0.9160 - val_loss: 0.5274 - val_accuracy: 0.6085 - lr: 0.0010 - 21s/epoch - 24ms/step
Epoch 2/75
876/876 - 19s - loss: 0.0834 - accuracy: 0.9162 - val_loss: 0.5614 - val_accuracy: 0.5922 - lr: 0.0010 - 19s/epoch - 21ms/step
Epoch 3/75
876/876 - 18s - loss: 0.0819 - accuracy: 0.9171 - val_loss: 0.5174 - val_accuracy: 0.6347 - lr: 0.0010 - 18s/epoch - 21ms/step
Epoch 4/75
876/876 - 18s - loss: 0.0797 - accuracy: 0.9198 - val_loss: 0.5871 - val_accuracy: 0.6055 - lr: 0.0010 - 18s/epoch - 21ms/step
Epoch 5/75
876/876 - 18s - loss: 0.0786 - accuracy: 0.9215 - val_loss: 0.5439 - val_accuracy: 0.5973 - lr: 0.0010 - 18s/epoch - 21ms/step
Epoch 6/75
876/876 - 19s - loss: 0.0780 - accuracy: 0.9224 - val_loss: 0.6404 - val_accuracy: 0.5592 - lr: 0.0010 - 19s/epoch - 21ms/step
Epoch 7/75
876/876 - 18s - loss: 0.0781 - accuracy: 0.9221 - val_loss: 0.5758 - val_accuracy: 0.5932 - lr: 0.0010 - 18s/epoch - 21ms/step
Epoch 8/75
876/876 - 18s - loss: 0.0772 - accuracy: 0.9224 - val_loss: 0.5897 - val_accuracy: 0.5773 - lr: 0.0010 - 18s/epoch - 21ms/step
Epoch 9/75
876/876 - 18s - loss: 0.0754 - accuracy: 0.9249 - val_loss: 0.5831 - val_accuracy: 0.6054 - lr: 0.0010 - 18s/epoch - 21ms/step
Epoch 10/75
876/876 - 19s - loss: 0.0750 - accuracy: 0.9249 - val_loss: 0.5562 - val_accuracy: 0.6164 - lr: 0.0010 - 19s/epoch - 21ms/step
Epoch 11/75
876/876 - 18s - loss: 0.0749 - accuracy: 0.9256 - val_loss: 0.5930 - val_accuracy: 0.5953 - lr: 0.0010 - 18s/epoch - 21ms/step
Epoch 12/75
876/876 - 18s - loss: 0.0749 - accuracy: 0.9253 - val_loss: 0.6546 - val_accuracy: 0.5640 - lr: 0.0010 - 18s/epoch - 21ms/step
Epoch 13/75
876/876 - 18s - loss: 0.0737 - accuracy: 0.9268 - val_loss: 0.6646 - val_accuracy: 0.5543 - lr: 0.0010 - 18s/epoch - 21ms/step
Epoch 14/75
876/876 - 18s - loss: 0.0743 - accuracy: 0.9267 - val_loss: 0.5788 - val_accuracy: 0.5976 - lr: 0.0010 - 18s/epoch - 21ms/step
Epoch 15/75
876/876 - 19s - loss: 0.0723 - accuracy: 0.9284 - val_loss: 0.6392 - val_accuracy: 0.5725 - lr: 0.0010 - 19s/epoch - 21ms/step
Epoch 16/75
876/876 - 18s - loss: 0.0723 - accuracy: 0.9270 - val_loss: 0.6309 - val_accuracy: 0.5844 - lr: 0.0010 - 18s/epoch - 21ms/step
Epoch 17/75
876/876 - 18s - loss: 0.0727 - accuracy: 0.9279 - val_loss: 0.6077 - val_accuracy: 0.5815 - lr: 0.0010 - 18s/epoch - 21ms/step
Epoch 18/75
876/876 - 18s - loss: 0.0724 - accuracy: 0.9268 - val_loss: 0.6203 - val_accuracy: 0.5687 - lr: 0.0010 - 18s/epoch - 21ms/step
Epoch 19/75
876/876 - 19s - loss: 0.0734 - accuracy: 0.9268 - val_loss: 0.6198 - val_accuracy: 0.5810 - lr: 0.0010 - 19s/epoch - 21ms/step
Epoch 20/75
876/876 - 18s - loss: 0.0723 - accuracy: 0.9275 - val_loss: 0.6659 - val_accuracy: 0.5588 - lr: 0.0010 - 18s/epoch - 21ms/step
Epoch 21/75
876/876 - 18s - loss: 0.0729 - accuracy: 0.9273 - val_loss: 0.6128 - val_accuracy: 0.5982 - lr: 0.0010 - 18s/epoch - 21ms/step
Epoch 22/75
876/876 - 19s - loss: 0.0716 - accuracy: 0.9290 - val_loss: 0.6177 - val_accuracy: 0.5786 - lr: 0.0010 - 19s/epoch - 21ms/step
Epoch 23/75
876/876 - 18s - loss: 0.0714 - accuracy: 0.9285 - val_loss: 0.6194 - val_accuracy: 0.6006 - lr: 0.0010 - 18s/epoch - 21ms/step
Epoch 24/75
876/876 - 19s - loss: 0.0734 - accuracy: 0.9268 - val_loss: 0.5940 - val_accuracy: 0.5983 - lr: 0.0010 - 19s/epoch - 21ms/step
Epoch 25/75
876/876 - 18s - loss: 0.0719 - accuracy: 0.9284 - val_loss: 0.5925 - val_accuracy: 0.6225 - lr: 0.0010 - 18s/epoch - 21ms/step
Epoch 26/75
876/876 - 18s - loss: 0.0717 - accuracy: 0.9290 - val_loss: 0.6559 - val_accuracy: 0.5777 - lr: 0.0010 - 18s/epoch - 21ms/step
Epoch 27/75
876/876 - 19s - loss: 0.0700 - accuracy: 0.9304 - val_loss: 0.6431 - val_accuracy: 0.5877 - lr: 0.0010 - 19s/epoch - 21ms/step
Epoch 28/75
876/876 - 18s - loss: 0.0711 - accuracy: 0.9283 - val_loss: 0.5703 - val_accuracy: 0.6051 - lr: 0.0010 - 18s/epoch - 21ms/step
Epoch 29/75
876/876 - 18s - loss: 0.0700 - accuracy: 0.9295 - val_loss: 0.6219 - val_accuracy: 0.5841 - lr: 0.0010 - 18s/epoch - 21ms/step
Epoch 30/75
876/876 - 18s - loss: 0.0706 - accuracy: 0.9303 - val_loss: 0.6521 - val_accuracy: 0.5855 - lr: 0.0010 - 18s/epoch - 21ms/step
Epoch 31/75
876/876 - 18s - loss: 0.0705 - accuracy: 0.9301 - val_loss: 0.6363 - val_accuracy: 0.5886 - lr: 0.0010 - 18s/epoch - 21ms/step
Epoch 32/75
876/876 - 18s - loss: 0.0705 - accuracy: 0.9301 - val_loss: 0.6186 - val_accuracy: 0.6036 - lr: 0.0010 - 18s/epoch - 21ms/step
Epoch 33/75
876/876 - 18s - loss: 0.0717 - accuracy: 0.9285 - val_loss: 0.5926 - val_accuracy: 0.6070 - lr: 0.0010 - 18s/epoch - 21ms/step
Epoch 34/75
876/876 - 18s - loss: 0.0714 - accuracy: 0.9276 - val_loss: 0.6231 - val_accuracy: 0.5889 - lr: 0.0010 - 18s/epoch - 21ms/step
Epoch 35/75
876/876 - 18s - loss: 0.0710 - accuracy: 0.9293 - val_loss: 0.5942 - val_accuracy: 0.6125 - lr: 0.0010 - 18s/epoch - 21ms/step
Epoch 36/75
876/876 - 18s - loss: 0.0691 - accuracy: 0.9306 - val_loss: 0.6245 - val_accuracy: 0.5860 - lr: 0.0010 - 18s/epoch - 21ms/step
Epoch 37/75
876/876 - 18s - loss: 0.0697 - accuracy: 0.9313 - val_loss: 0.5797 - val_accuracy: 0.6203 - lr: 0.0010 - 18s/epoch - 21ms/step
Epoch 38/75
876/876 - 18s - loss: 0.0693 - accuracy: 0.9303 - val_loss: 0.6300 - val_accuracy: 0.5892 - lr: 0.0010 - 18s/epoch - 21ms/step
Epoch 39/75
876/876 - 19s - loss: 0.0696 - accuracy: 0.9309 - val_loss: 0.5756 - val_accuracy: 0.6290 - lr: 0.0010 - 19s/epoch - 21ms/step
Epoch 40/75
876/876 - 18s - loss: 0.0683 - accuracy: 0.9330 - val_loss: 0.6266 - val_accuracy: 0.5962 - lr: 0.0010 - 18s/epoch - 21ms/step
Epoch 41/75
876/876 - 19s - loss: 0.0697 - accuracy: 0.9312 - val_loss: 0.6056 - val_accuracy: 0.6031 - lr: 0.0010 - 19s/epoch - 21ms/step
Epoch 42/75
876/876 - 19s - loss: 0.0694 - accuracy: 0.9319 - val_loss: 0.5858 - val_accuracy: 0.6015 - lr: 0.0010 - 19s/epoch - 21ms/step
Epoch 43/75
876/876 - 19s - loss: 0.0688 - accuracy: 0.9317 - val_loss: 0.6194 - val_accuracy: 0.5927 - lr: 0.0010 - 19s/epoch - 21ms/step
Epoch 44/75
876/876 - 19s - loss: 0.0695 - accuracy: 0.9306 - val_loss: 0.5513 - val_accuracy: 0.6267 - lr: 0.0010 - 19s/epoch - 21ms/step
Epoch 45/75
876/876 - 19s - loss: 0.0694 - accuracy: 0.9311 - val_loss: 0.5458 - val_accuracy: 0.6359 - lr: 0.0010 - 19s/epoch - 21ms/step
Epoch 46/75
876/876 - 19s - loss: 0.0700 - accuracy: 0.9299 - val_loss: 0.6085 - val_accuracy: 0.6073 - lr: 0.0010 - 19s/epoch - 21ms/step
Epoch 47/75
876/876 - 19s - loss: 0.0697 - accuracy: 0.9320 - val_loss: 0.6267 - val_accuracy: 0.5879 - lr: 0.0010 - 19s/epoch - 21ms/step
Epoch 48/75
876/876 - 19s - loss: 0.0698 - accuracy: 0.9311 - val_loss: 0.6453 - val_accuracy: 0.5863 - lr: 0.0010 - 19s/epoch - 21ms/step
Epoch 49/75
876/876 - 19s - loss: 0.0696 - accuracy: 0.9307 - val_loss: 0.6493 - val_accuracy: 0.5869 - lr: 0.0010 - 19s/epoch - 21ms/step
Epoch 50/75
876/876 - 19s - loss: 0.0690 - accuracy: 0.9310 - val_loss: 0.5655 - val_accuracy: 0.6274 - lr: 0.0010 - 19s/epoch - 21ms/step
Epoch 51/75
876/876 - 19s - loss: 0.0679 - accuracy: 0.9321 - val_loss: 0.6260 - val_accuracy: 0.5995 - lr: 0.0010 - 19s/epoch - 21ms/step
Epoch 52/75
876/876 - 19s - loss: 0.0684 - accuracy: 0.9327 - val_loss: 0.6703 - val_accuracy: 0.5664 - lr: 0.0010 - 19s/epoch - 21ms/step
Epoch 53/75
876/876 - 19s - loss: 0.0684 - accuracy: 0.9324 - val_loss: 0.6807 - val_accuracy: 0.5916 - lr: 0.0010 - 19s/epoch - 21ms/step
Epoch 54/75
876/876 - 19s - loss: 0.0678 - accuracy: 0.9319 - val_loss: 0.6846 - val_accuracy: 0.5832 - lr: 0.0010 - 19s/epoch - 21ms/step
Epoch 55/75
876/876 - 19s - loss: 0.0686 - accuracy: 0.9315 - val_loss: 0.6463 - val_accuracy: 0.5871 - lr: 0.0010 - 19s/epoch - 21ms/step
Epoch 56/75
876/876 - 19s - loss: 0.0681 - accuracy: 0.9316 - val_loss: 0.6446 - val_accuracy: 0.5882 - lr: 0.0010 - 19s/epoch - 21ms/step
Epoch 57/75
876/876 - 19s - loss: 0.0677 - accuracy: 0.9328 - val_loss: 0.6869 - val_accuracy: 0.5688 - lr: 0.0010 - 19s/epoch - 21ms/step
Epoch 58/75
876/876 - 19s - loss: 0.0685 - accuracy: 0.9320 - val_loss: 0.6296 - val_accuracy: 0.5785 - lr: 0.0010 - 19s/epoch - 21ms/step
Epoch 59/75
876/876 - 18s - loss: 0.0679 - accuracy: 0.9324 - val_loss: 0.6044 - val_accuracy: 0.6045 - lr: 0.0010 - 18s/epoch - 21ms/step
Epoch 60/75
876/876 - 19s - loss: 0.0676 - accuracy: 0.9336 - val_loss: 0.6490 - val_accuracy: 0.5708 - lr: 0.0010 - 19s/epoch - 21ms/step
Epoch 61/75
876/876 - 19s - loss: 0.0669 - accuracy: 0.9337 - val_loss: 0.6144 - val_accuracy: 0.6019 - lr: 0.0010 - 19s/epoch - 21ms/step
Epoch 62/75
876/876 - 19s - loss: 0.0666 - accuracy: 0.9338 - val_loss: 0.6517 - val_accuracy: 0.5915 - lr: 0.0010 - 19s/epoch - 21ms/step
Epoch 63/75
876/876 - 19s - loss: 0.0690 - accuracy: 0.9318 - val_loss: 0.6557 - val_accuracy: 0.5744 - lr: 0.0010 - 19s/epoch - 21ms/step
Epoch 64/75
876/876 - 19s - loss: 0.0682 - accuracy: 0.9326 - val_loss: 0.6361 - val_accuracy: 0.5745 - lr: 0.0010 - 19s/epoch - 21ms/step
Epoch 65/75
876/876 - 19s - loss: 0.0682 - accuracy: 0.9325 - val_loss: 0.7279 - val_accuracy: 0.5297 - lr: 0.0010 - 19s/epoch - 21ms/step
Epoch 66/75
876/876 - 19s - loss: 0.0681 - accuracy: 0.9323 - val_loss: 0.5985 - val_accuracy: 0.6137 - lr: 0.0010 - 19s/epoch - 21ms/step
Epoch 67/75
876/876 - 19s - loss: 0.0687 - accuracy: 0.9312 - val_loss: 0.6521 - val_accuracy: 0.5805 - lr: 0.0010 - 19s/epoch - 21ms/step
Epoch 68/75
876/876 - 19s - loss: 0.0688 - accuracy: 0.9309 - val_loss: 0.6740 - val_accuracy: 0.5649 - lr: 0.0010 - 19s/epoch - 21ms/step
Epoch 69/75
876/876 - 19s - loss: 0.0675 - accuracy: 0.9328 - val_loss: 0.7238 - val_accuracy: 0.5668 - lr: 0.0010 - 19s/epoch - 21ms/step
Epoch 70/75
876/876 - 19s - loss: 0.0674 - accuracy: 0.9327 - val_loss: 0.7237 - val_accuracy: 0.5563 - lr: 0.0010 - 19s/epoch - 21ms/step
Epoch 71/75
876/876 - 19s - loss: 0.0672 - accuracy: 0.9336 - val_loss: 0.6421 - val_accuracy: 0.5992 - lr: 0.0010 - 19s/epoch - 21ms/step
Epoch 72/75
876/876 - 19s - loss: 0.0670 - accuracy: 0.9341 - val_loss: 0.6945 - val_accuracy: 0.5911 - lr: 0.0010 - 19s/epoch - 21ms/step
Epoch 73/75
876/876 - 19s - loss: 0.0664 - accuracy: 0.9346 - val_loss: 0.6430 - val_accuracy: 0.6046 - lr: 0.0010 - 19s/epoch - 21ms/step
Epoch 74/75
876/876 - 19s - loss: 0.0674 - accuracy: 0.9327 - val_loss: 0.6744 - val_accuracy: 0.5854 - lr: 0.0010 - 19s/epoch - 21ms/step
Epoch 75/75
876/876 - 19s - loss: 0.0679 - accuracy: 0.9331 - val_loss: 0.6220 - val_accuracy: 0.6072 - lr: 0.0010 - 19s/epoch - 21ms/step
Epoch 1/75
176/176 - 12s - loss: 0.0501 - accuracy: 0.9522 - val_loss: 0.6959 - val_accuracy: 0.5947 - lr: 0.0010 - 12s/epoch - 70ms/step
Epoch 2/75
176/176 - 10s - loss: 0.0432 - accuracy: 0.9604 - val_loss: 0.7001 - val_accuracy: 0.6178 - lr: 0.0010 - 10s/epoch - 55ms/step
Epoch 3/75
176/176 - 10s - loss: 0.0429 - accuracy: 0.9608 - val_loss: 0.7488 - val_accuracy: 0.6028 - lr: 0.0010 - 10s/epoch - 54ms/step
Epoch 4/75
176/176 - 10s - loss: 0.0426 - accuracy: 0.9601 - val_loss: 0.7436 - val_accuracy: 0.6058 - lr: 0.0010 - 10s/epoch - 55ms/step
Epoch 5/75
176/176 - 10s - loss: 0.0424 - accuracy: 0.9606 - val_loss: 0.7850 - val_accuracy: 0.5949 - lr: 0.0010 - 10s/epoch - 54ms/step
Epoch 6/75
176/176 - 10s - loss: 0.0423 - accuracy: 0.9599 - val_loss: 0.8096 - val_accuracy: 0.5822 - lr: 0.0010 - 10s/epoch - 55ms/step
Epoch 7/75
176/176 - 10s - loss: 0.0440 - accuracy: 0.9583 - val_loss: 0.8052 - val_accuracy: 0.5810 - lr: 0.0010 - 10s/epoch - 55ms/step
Epoch 8/75
176/176 - 10s - loss: 0.0455 - accuracy: 0.9566 - val_loss: 0.7575 - val_accuracy: 0.6074 - lr: 0.0010 - 10s/epoch - 55ms/step
Epoch 9/75
176/176 - 10s - loss: 0.0450 - accuracy: 0.9576 - val_loss: 0.7719 - val_accuracy: 0.6085 - lr: 0.0010 - 10s/epoch - 54ms/step
Epoch 10/75
176/176 - 10s - loss: 0.0444 - accuracy: 0.9572 - val_loss: 0.7896 - val_accuracy: 0.5992 - lr: 0.0010 - 10s/epoch - 55ms/step
Epoch 11/75
176/176 - 10s - loss: 0.0444 - accuracy: 0.9588 - val_loss: 0.7991 - val_accuracy: 0.6015 - lr: 0.0010 - 10s/epoch - 55ms/step
Epoch 12/75
176/176 - 10s - loss: 0.0423 - accuracy: 0.9600 - val_loss: 0.8544 - val_accuracy: 0.5832 - lr: 0.0010 - 10s/epoch - 55ms/step
Epoch 13/75
176/176 - 10s - loss: 0.0402 - accuracy: 0.9619 - val_loss: 0.7887 - val_accuracy: 0.6158 - lr: 0.0010 - 10s/epoch - 54ms/step
Epoch 14/75
176/176 - 10s - loss: 0.0397 - accuracy: 0.9630 - val_loss: 0.7920 - val_accuracy: 0.5970 - lr: 0.0010 - 10s/epoch - 55ms/step
Epoch 15/75
176/176 - 10s - loss: 0.0399 - accuracy: 0.9626 - val_loss: 0.8491 - val_accuracy: 0.5954 - lr: 0.0010 - 10s/epoch - 55ms/step
Epoch 16/75
176/176 - 10s - loss: 0.0404 - accuracy: 0.9615 - val_loss: 0.8438 - val_accuracy: 0.6015 - lr: 0.0010 - 10s/epoch - 55ms/step
Epoch 17/75
176/176 - 10s - loss: 0.0424 - accuracy: 0.9596 - val_loss: 0.7985 - val_accuracy: 0.6092 - lr: 0.0010 - 10s/epoch - 55ms/step
Epoch 18/75
176/176 - 10s - loss: 0.0435 - accuracy: 0.9588 - val_loss: 0.8541 - val_accuracy: 0.5743 - lr: 0.0010 - 10s/epoch - 54ms/step
Epoch 19/75
176/176 - 10s - loss: 0.0420 - accuracy: 0.9603 - val_loss: 0.8389 - val_accuracy: 0.5853 - lr: 0.0010 - 10s/epoch - 55ms/step
Epoch 20/75
176/176 - 10s - loss: 0.0415 - accuracy: 0.9605 - val_loss: 0.8354 - val_accuracy: 0.5988 - lr: 0.0010 - 10s/epoch - 55ms/step
Epoch 21/75
176/176 - 10s - loss: 0.0422 - accuracy: 0.9594 - val_loss: 0.7987 - val_accuracy: 0.5927 - lr: 0.0010 - 10s/epoch - 55ms/step
Epoch 22/75
176/176 - 10s - loss: 0.0426 - accuracy: 0.9596 - val_loss: 0.8500 - val_accuracy: 0.5832 - lr: 0.0010 - 10s/epoch - 55ms/step
Epoch 23/75
176/176 - 10s - loss: 0.0426 - accuracy: 0.9594 - val_loss: 0.7954 - val_accuracy: 0.5969 - lr: 0.0010 - 10s/epoch - 55ms/step
Epoch 24/75
176/176 - 10s - loss: 0.0438 - accuracy: 0.9589 - val_loss: 0.7756 - val_accuracy: 0.6121 - lr: 0.0010 - 10s/epoch - 54ms/step
Epoch 25/75
176/176 - 10s - loss: 0.0425 - accuracy: 0.9594 - val_loss: 0.7941 - val_accuracy: 0.6017 - lr: 0.0010 - 10s/epoch - 55ms/step
Epoch 26/75
176/176 - 10s - loss: 0.0419 - accuracy: 0.9602 - val_loss: 0.8782 - val_accuracy: 0.5737 - lr: 0.0010 - 10s/epoch - 55ms/step
Epoch 27/75
176/176 - 10s - loss: 0.0423 - accuracy: 0.9601 - val_loss: 0.8186 - val_accuracy: 0.5957 - lr: 0.0010 - 10s/epoch - 55ms/step
Epoch 28/75
176/176 - 10s - loss: 0.0430 - accuracy: 0.9593 - val_loss: 0.8390 - val_accuracy: 0.5889 - lr: 0.0010 - 10s/epoch - 55ms/step
Epoch 29/75
176/176 - 10s - loss: 0.0419 - accuracy: 0.9604 - val_loss: 0.8545 - val_accuracy: 0.5804 - lr: 0.0010 - 10s/epoch - 55ms/step
Epoch 30/75
176/176 - 10s - loss: 0.0422 - accuracy: 0.9600 - val_loss: 0.7774 - val_accuracy: 0.6100 - lr: 0.0010 - 10s/epoch - 54ms/step
Epoch 31/75
176/176 - 10s - loss: 0.0411 - accuracy: 0.9609 - val_loss: 0.8792 - val_accuracy: 0.5635 - lr: 0.0010 - 10s/epoch - 55ms/step
Epoch 32/75
176/176 - 10s - loss: 0.0419 - accuracy: 0.9612 - val_loss: 0.7689 - val_accuracy: 0.6174 - lr: 0.0010 - 10s/epoch - 56ms/step
Epoch 33/75
176/176 - 10s - loss: 0.0418 - accuracy: 0.9605 - val_loss: 0.8273 - val_accuracy: 0.5945 - lr: 0.0010 - 10s/epoch - 55ms/step
Epoch 34/75
176/176 - 10s - loss: 0.0415 - accuracy: 0.9614 - val_loss: 0.7682 - val_accuracy: 0.6131 - lr: 0.0010 - 10s/epoch - 55ms/step
Epoch 35/75
176/176 - 10s - loss: 0.0397 - accuracy: 0.9623 - val_loss: 0.8460 - val_accuracy: 0.5882 - lr: 0.0010 - 10s/epoch - 55ms/step
Epoch 36/75
176/176 - 10s - loss: 0.0391 - accuracy: 0.9636 - val_loss: 0.8307 - val_accuracy: 0.5904 - lr: 0.0010 - 10s/epoch - 55ms/step
Epoch 37/75
176/176 - 10s - loss: 0.0390 - accuracy: 0.9633 - val_loss: 0.8812 - val_accuracy: 0.5808 - lr: 0.0010 - 10s/epoch - 55ms/step
Epoch 38/75
176/176 - 10s - loss: 0.0391 - accuracy: 0.9636 - val_loss: 0.8521 - val_accuracy: 0.5909 - lr: 0.0010 - 10s/epoch - 55ms/step
Epoch 39/75
176/176 - 10s - loss: 0.0390 - accuracy: 0.9638 - val_loss: 0.8633 - val_accuracy: 0.5902 - lr: 0.0010 - 10s/epoch - 55ms/step
Epoch 40/75
176/176 - 10s - loss: 0.0393 - accuracy: 0.9630 - val_loss: 0.9086 - val_accuracy: 0.5652 - lr: 0.0010 - 10s/epoch - 55ms/step
Epoch 41/75
176/176 - 10s - loss: 0.0388 - accuracy: 0.9632 - val_loss: 0.8574 - val_accuracy: 0.6083 - lr: 0.0010 - 10s/epoch - 54ms/step
Epoch 42/75
176/176 - 10s - loss: 0.0399 - accuracy: 0.9634 - val_loss: 0.9038 - val_accuracy: 0.5752 - lr: 0.0010 - 10s/epoch - 55ms/step
Epoch 43/75
176/176 - 10s - loss: 0.0403 - accuracy: 0.9623 - val_loss: 0.8248 - val_accuracy: 0.6098 - lr: 0.0010 - 10s/epoch - 54ms/step
Epoch 44/75
176/176 - 10s - loss: 0.0395 - accuracy: 0.9625 - val_loss: 0.8904 - val_accuracy: 0.5789 - lr: 0.0010 - 10s/epoch - 55ms/step
Epoch 45/75
176/176 - 10s - loss: 0.0395 - accuracy: 0.9628 - val_loss: 0.8443 - val_accuracy: 0.5981 - lr: 0.0010 - 10s/epoch - 54ms/step
Epoch 46/75
176/176 - 10s - loss: 0.0411 - accuracy: 0.9611 - val_loss: 0.8334 - val_accuracy: 0.5900 - lr: 0.0010 - 10s/epoch - 55ms/step
Epoch 47/75
176/176 - 10s - loss: 0.0394 - accuracy: 0.9630 - val_loss: 0.8665 - val_accuracy: 0.5909 - lr: 0.0010 - 10s/epoch - 55ms/step
Epoch 48/75
176/176 - 10s - loss: 0.0407 - accuracy: 0.9615 - val_loss: 0.8788 - val_accuracy: 0.5925 - lr: 0.0010 - 10s/epoch - 55ms/step
Epoch 49/75
176/176 - 10s - loss: 0.0398 - accuracy: 0.9629 - val_loss: 0.9012 - val_accuracy: 0.5758 - lr: 0.0010 - 10s/epoch - 55ms/step
Epoch 50/75
176/176 - 10s - loss: 0.0410 - accuracy: 0.9610 - val_loss: 0.8221 - val_accuracy: 0.5965 - lr: 0.0010 - 10s/epoch - 55ms/step
Epoch 51/75
176/176 - 10s - loss: 0.0392 - accuracy: 0.9628 - val_loss: 0.8457 - val_accuracy: 0.5915 - lr: 0.0010 - 10s/epoch - 55ms/step
Epoch 52/75
176/176 - 10s - loss: 0.0390 - accuracy: 0.9636 - val_loss: 0.8450 - val_accuracy: 0.5941 - lr: 0.0010 - 10s/epoch - 55ms/step
Epoch 53/75
176/176 - 10s - loss: 0.0371 - accuracy: 0.9656 - val_loss: 0.8422 - val_accuracy: 0.6099 - lr: 0.0010 - 10s/epoch - 54ms/step
Epoch 54/75
176/176 - 10s - loss: 0.0377 - accuracy: 0.9648 - val_loss: 0.8626 - val_accuracy: 0.5974 - lr: 0.0010 - 10s/epoch - 55ms/step
Epoch 55/75
176/176 - 10s - loss: 0.0383 - accuracy: 0.9641 - val_loss: 0.9132 - val_accuracy: 0.5725 - lr: 0.0010 - 10s/epoch - 55ms/step
Epoch 56/75
176/176 - 10s - loss: 0.0373 - accuracy: 0.9654 - val_loss: 0.8826 - val_accuracy: 0.5799 - lr: 0.0010 - 10s/epoch - 55ms/step
Epoch 57/75
176/176 - 10s - loss: 0.0365 - accuracy: 0.9665 - val_loss: 0.8574 - val_accuracy: 0.5854 - lr: 0.0010 - 10s/epoch - 55ms/step
Epoch 58/75
176/176 - 10s - loss: 0.0385 - accuracy: 0.9646 - val_loss: 0.8766 - val_accuracy: 0.5848 - lr: 0.0010 - 10s/epoch - 55ms/step
Epoch 59/75
176/176 - 10s - loss: 0.0389 - accuracy: 0.9636 - val_loss: 0.9245 - val_accuracy: 0.5774 - lr: 0.0010 - 10s/epoch - 55ms/step
Epoch 60/75
176/176 - 10s - loss: 0.0392 - accuracy: 0.9632 - val_loss: 0.8831 - val_accuracy: 0.5878 - lr: 0.0010 - 10s/epoch - 55ms/step
Epoch 61/75
176/176 - 10s - loss: 0.0394 - accuracy: 0.9626 - val_loss: 0.8645 - val_accuracy: 0.5896 - lr: 0.0010 - 10s/epoch - 54ms/step
Epoch 62/75
176/176 - 10s - loss: 0.0408 - accuracy: 0.9613 - val_loss: 0.9007 - val_accuracy: 0.5615 - lr: 0.0010 - 10s/epoch - 55ms/step
Epoch 63/75
176/176 - 10s - loss: 0.0403 - accuracy: 0.9620 - val_loss: 0.9010 - val_accuracy: 0.5717 - lr: 0.0010 - 10s/epoch - 54ms/step
Epoch 64/75
176/176 - 10s - loss: 0.0395 - accuracy: 0.9629 - val_loss: 0.9120 - val_accuracy: 0.5626 - lr: 0.0010 - 10s/epoch - 55ms/step
Epoch 65/75
176/176 - 10s - loss: 0.0396 - accuracy: 0.9624 - val_loss: 0.9057 - val_accuracy: 0.5791 - lr: 0.0010 - 10s/epoch - 55ms/step
Epoch 66/75
176/176 - 10s - loss: 0.0389 - accuracy: 0.9636 - val_loss: 0.9269 - val_accuracy: 0.5733 - lr: 0.0010 - 10s/epoch - 55ms/step
Epoch 67/75
176/176 - 10s - loss: 0.0347 - accuracy: 0.9684 - val_loss: 0.8976 - val_accuracy: 0.5946 - lr: 0.0010 - 10s/epoch - 55ms/step
Epoch 68/75
176/176 - 10s - loss: 0.0353 - accuracy: 0.9676 - val_loss: 0.9545 - val_accuracy: 0.5685 - lr: 0.0010 - 10s/epoch - 55ms/step
Epoch 69/75
176/176 - 10s - loss: 0.0348 - accuracy: 0.9672 - val_loss: 0.9399 - val_accuracy: 0.5812 - lr: 0.0010 - 10s/epoch - 54ms/step
Epoch 70/75
176/176 - 10s - loss: 0.0370 - accuracy: 0.9660 - val_loss: 0.9394 - val_accuracy: 0.5741 - lr: 0.0010 - 10s/epoch - 55ms/step
Epoch 71/75
176/176 - 10s - loss: 0.0374 - accuracy: 0.9653 - val_loss: 0.9454 - val_accuracy: 0.5699 - lr: 0.0010 - 10s/epoch - 55ms/step
Epoch 72/75
176/176 - 10s - loss: 0.0387 - accuracy: 0.9634 - val_loss: 0.9230 - val_accuracy: 0.5781 - lr: 0.0010 - 10s/epoch - 55ms/step
Epoch 73/75
176/176 - 10s - loss: 0.0365 - accuracy: 0.9662 - val_loss: 0.9879 - val_accuracy: 0.5537 - lr: 0.0010 - 10s/epoch - 55ms/step
Epoch 74/75
176/176 - 10s - loss: 0.0347 - accuracy: 0.9679 - val_loss: 0.9653 - val_accuracy: 0.5565 - lr: 0.0010 - 10s/epoch - 55ms/step
Epoch 75/75
176/176 - 10s - loss: 0.0359 - accuracy: 0.9670 - val_loss: 0.9467 - val_accuracy: 0.5731 - lr: 0.0010 - 10s/epoch - 55ms/step
Epoch 1/75
36/36 - 12s - loss: 0.0335 - accuracy: 0.9695 - val_loss: 0.9288 - val_accuracy: 0.5796 - lr: 0.0010 - 12s/epoch - 327ms/step
Epoch 2/75
36/36 - 9s - loss: 0.0305 - accuracy: 0.9729 - val_loss: 0.9392 - val_accuracy: 0.5791 - lr: 0.0010 - 9s/epoch - 237ms/step
Epoch 3/75
36/36 - 9s - loss: 0.0285 - accuracy: 0.9746 - val_loss: 0.9355 - val_accuracy: 0.5846 - lr: 0.0010 - 9s/epoch - 237ms/step
Epoch 4/75
36/36 - 8s - loss: 0.0292 - accuracy: 0.9745 - val_loss: 0.9685 - val_accuracy: 0.5715 - lr: 0.0010 - 8s/epoch - 236ms/step
Epoch 5/75
36/36 - 8s - loss: 0.0290 - accuracy: 0.9739 - val_loss: 0.9667 - val_accuracy: 0.5783 - lr: 0.0010 - 8s/epoch - 236ms/step
Epoch 6/75
36/36 - 8s - loss: 0.0293 - accuracy: 0.9745 - val_loss: 0.9500 - val_accuracy: 0.5841 - lr: 0.0010 - 8s/epoch - 236ms/step
Epoch 7/75
36/36 - 9s - loss: 0.0283 - accuracy: 0.9752 - val_loss: 0.9618 - val_accuracy: 0.5839 - lr: 0.0010 - 9s/epoch - 237ms/step
Epoch 8/75
36/36 - 9s - loss: 0.0283 - accuracy: 0.9744 - val_loss: 0.9802 - val_accuracy: 0.5780 - lr: 0.0010 - 9s/epoch - 237ms/step
Epoch 9/75
36/36 - 8s - loss: 0.0287 - accuracy: 0.9749 - val_loss: 0.9853 - val_accuracy: 0.5782 - lr: 0.0010 - 8s/epoch - 236ms/step
Epoch 10/75
36/36 - 8s - loss: 0.0277 - accuracy: 0.9753 - val_loss: 0.9768 - val_accuracy: 0.5802 - lr: 0.0010 - 8s/epoch - 235ms/step
Epoch 11/75
36/36 - 9s - loss: 0.0275 - accuracy: 0.9757 - val_loss: 0.9897 - val_accuracy: 0.5771 - lr: 0.0010 - 9s/epoch - 237ms/step
Epoch 12/75
36/36 - 9s - loss: 0.0273 - accuracy: 0.9763 - val_loss: 0.9698 - val_accuracy: 0.5870 - lr: 0.0010 - 9s/epoch - 237ms/step
Epoch 13/75
36/36 - 8s - loss: 0.0266 - accuracy: 0.9767 - val_loss: 0.9857 - val_accuracy: 0.5787 - lr: 0.0010 - 8s/epoch - 236ms/step
Epoch 14/75
36/36 - 9s - loss: 0.0272 - accuracy: 0.9762 - val_loss: 0.9962 - val_accuracy: 0.5746 - lr: 0.0010 - 9s/epoch - 238ms/step
Epoch 15/75
36/36 - 8s - loss: 0.0272 - accuracy: 0.9763 - val_loss: 0.9927 - val_accuracy: 0.5809 - lr: 0.0010 - 8s/epoch - 235ms/step
Epoch 16/75
36/36 - 9s - loss: 0.0263 - accuracy: 0.9772 - val_loss: 1.0001 - val_accuracy: 0.5785 - lr: 0.0010 - 9s/epoch - 236ms/step
Epoch 17/75
36/36 - 9s - loss: 0.0268 - accuracy: 0.9767 - val_loss: 0.9955 - val_accuracy: 0.5832 - lr: 0.0010 - 9s/epoch - 237ms/step
Epoch 18/75
36/36 - 9s - loss: 0.0267 - accuracy: 0.9766 - val_loss: 0.9934 - val_accuracy: 0.5858 - lr: 0.0010 - 9s/epoch - 236ms/step
Epoch 19/75
36/36 - 8s - loss: 0.0270 - accuracy: 0.9763 - val_loss: 0.9970 - val_accuracy: 0.5790 - lr: 0.0010 - 8s/epoch - 236ms/step
Epoch 20/75
36/36 - 9s - loss: 0.0265 - accuracy: 0.9766 - val_loss: 0.9915 - val_accuracy: 0.5842 - lr: 0.0010 - 9s/epoch - 237ms/step
Epoch 21/75
36/36 - 9s - loss: 0.0272 - accuracy: 0.9754 - val_loss: 0.9910 - val_accuracy: 0.5887 - lr: 0.0010 - 9s/epoch - 238ms/step
Epoch 22/75
36/36 - 8s - loss: 0.0277 - accuracy: 0.9759 - val_loss: 1.0058 - val_accuracy: 0.5817 - lr: 0.0010 - 8s/epoch - 235ms/step
Epoch 23/75
36/36 - 9s - loss: 0.0271 - accuracy: 0.9758 - val_loss: 1.0055 - val_accuracy: 0.5813 - lr: 0.0010 - 9s/epoch - 237ms/step
Epoch 24/75
36/36 - 9s - loss: 0.0269 - accuracy: 0.9758 - val_loss: 1.0069 - val_accuracy: 0.5813 - lr: 0.0010 - 9s/epoch - 237ms/step
Epoch 25/75
36/36 - 9s - loss: 0.0279 - accuracy: 0.9751 - val_loss: 1.0085 - val_accuracy: 0.5760 - lr: 0.0010 - 9s/epoch - 237ms/step
Epoch 26/75
36/36 - 9s - loss: 0.0282 - accuracy: 0.9743 - val_loss: 1.0111 - val_accuracy: 0.5775 - lr: 0.0010 - 9s/epoch - 236ms/step
Epoch 27/75
36/36 - 8s - loss: 0.0273 - accuracy: 0.9760 - val_loss: 1.0183 - val_accuracy: 0.5752 - lr: 0.0010 - 8s/epoch - 236ms/step
Epoch 28/75
36/36 - 8s - loss: 0.0282 - accuracy: 0.9748 - val_loss: 1.0208 - val_accuracy: 0.5785 - lr: 0.0010 - 8s/epoch - 235ms/step
Epoch 29/75
36/36 - 9s - loss: 0.0275 - accuracy: 0.9759 - val_loss: 0.9883 - val_accuracy: 0.5869 - lr: 0.0010 - 9s/epoch - 238ms/step
Epoch 30/75
36/36 - 8s - loss: 0.0274 - accuracy: 0.9754 - val_loss: 1.0315 - val_accuracy: 0.5766 - lr: 0.0010 - 8s/epoch - 234ms/step
Epoch 31/75
36/36 - 9s - loss: 0.0276 - accuracy: 0.9759 - val_loss: 1.0140 - val_accuracy: 0.5758 - lr: 0.0010 - 9s/epoch - 237ms/step
Epoch 32/75
36/36 - 9s - loss: 0.0266 - accuracy: 0.9769 - val_loss: 1.0227 - val_accuracy: 0.5772 - lr: 0.0010 - 9s/epoch - 237ms/step
Epoch 33/75
36/36 - 9s - loss: 0.0261 - accuracy: 0.9768 - val_loss: 1.0248 - val_accuracy: 0.5766 - lr: 0.0010 - 9s/epoch - 237ms/step
Epoch 34/75
36/36 - 8s - loss: 0.0256 - accuracy: 0.9780 - val_loss: 1.0223 - val_accuracy: 0.5788 - lr: 0.0010 - 8s/epoch - 236ms/step
Epoch 35/75
36/36 - 9s - loss: 0.0265 - accuracy: 0.9768 - val_loss: 1.0121 - val_accuracy: 0.5819 - lr: 0.0010 - 9s/epoch - 237ms/step
Epoch 36/75
36/36 - 8s - loss: 0.0256 - accuracy: 0.9772 - val_loss: 1.0207 - val_accuracy: 0.5783 - lr: 0.0010 - 8s/epoch - 235ms/step
Epoch 37/75
36/36 - 8s - loss: 0.0256 - accuracy: 0.9777 - val_loss: 1.0245 - val_accuracy: 0.5833 - lr: 0.0010 - 8s/epoch - 236ms/step
Epoch 38/75
36/36 - 8s - loss: 0.0266 - accuracy: 0.9766 - val_loss: 1.0143 - val_accuracy: 0.5848 - lr: 0.0010 - 8s/epoch - 236ms/step
Epoch 39/75
36/36 - 9s - loss: 0.0268 - accuracy: 0.9761 - val_loss: 1.0450 - val_accuracy: 0.5763 - lr: 0.0010 - 9s/epoch - 237ms/step
Epoch 40/75
36/36 - 9s - loss: 0.0270 - accuracy: 0.9755 - val_loss: 1.0543 - val_accuracy: 0.5737 - lr: 0.0010 - 9s/epoch - 237ms/step
Epoch 41/75
36/36 - 9s - loss: 0.0279 - accuracy: 0.9751 - val_loss: 1.0456 - val_accuracy: 0.5742 - lr: 0.0010 - 9s/epoch - 237ms/step
Epoch 42/75
36/36 - 9s - loss: 0.0262 - accuracy: 0.9765 - val_loss: 1.0413 - val_accuracy: 0.5763 - lr: 0.0010 - 9s/epoch - 236ms/step
Epoch 43/75
36/36 - 9s - loss: 0.0268 - accuracy: 0.9763 - val_loss: 1.0369 - val_accuracy: 0.5779 - lr: 0.0010 - 9s/epoch - 237ms/step
Epoch 44/75
36/36 - 8s - loss: 0.0251 - accuracy: 0.9780 - val_loss: 1.0412 - val_accuracy: 0.5795 - lr: 0.0010 - 8s/epoch - 235ms/step
Epoch 45/75
36/36 - 8s - loss: 0.0262 - accuracy: 0.9775 - val_loss: 1.0624 - val_accuracy: 0.5695 - lr: 0.0010 - 8s/epoch - 236ms/step
Epoch 46/75
36/36 - 9s - loss: 0.0265 - accuracy: 0.9766 - val_loss: 1.0302 - val_accuracy: 0.5816 - lr: 0.0010 - 9s/epoch - 236ms/step
Epoch 47/75
36/36 - 9s - loss: 0.0264 - accuracy: 0.9766 - val_loss: 1.0407 - val_accuracy: 0.5794 - lr: 0.0010 - 9s/epoch - 236ms/step
Epoch 48/75
36/36 - 9s - loss: 0.0255 - accuracy: 0.9778 - val_loss: 1.0622 - val_accuracy: 0.5762 - lr: 0.0010 - 9s/epoch - 239ms/step
Epoch 49/75
36/36 - 9s - loss: 0.0257 - accuracy: 0.9778 - val_loss: 1.0785 - val_accuracy: 0.5718 - lr: 0.0010 - 9s/epoch - 237ms/step
Epoch 50/75
36/36 - 8s - loss: 0.0255 - accuracy: 0.9781 - val_loss: 1.0554 - val_accuracy: 0.5787 - lr: 0.0010 - 8s/epoch - 236ms/step
Epoch 51/75
36/36 - 9s - loss: 0.0260 - accuracy: 0.9772 - val_loss: 1.0732 - val_accuracy: 0.5715 - lr: 0.0010 - 9s/epoch - 236ms/step
Epoch 52/75
36/36 - 9s - loss: 0.0267 - accuracy: 0.9762 - val_loss: 1.0751 - val_accuracy: 0.5717 - lr: 0.0010 - 9s/epoch - 237ms/step
Epoch 53/75
36/36 - 9s - loss: 0.0260 - accuracy: 0.9768 - val_loss: 1.0626 - val_accuracy: 0.5734 - lr: 0.0010 - 9s/epoch - 237ms/step
Epoch 54/75
36/36 - 9s - loss: 0.0259 - accuracy: 0.9774 - val_loss: 1.0873 - val_accuracy: 0.5705 - lr: 0.0010 - 9s/epoch - 236ms/step
Epoch 55/75
36/36 - 9s - loss: 0.0266 - accuracy: 0.9763 - val_loss: 1.0607 - val_accuracy: 0.5771 - lr: 0.0010 - 9s/epoch - 238ms/step
Epoch 56/75
36/36 - 8s - loss: 0.0266 - accuracy: 0.9760 - val_loss: 1.0808 - val_accuracy: 0.5680 - lr: 0.0010 - 8s/epoch - 236ms/step
Epoch 57/75
36/36 - 8s - loss: 0.0267 - accuracy: 0.9770 - val_loss: 1.0618 - val_accuracy: 0.5710 - lr: 0.0010 - 8s/epoch - 236ms/step
Epoch 58/75
36/36 - 8s - loss: 0.0260 - accuracy: 0.9771 - val_loss: 1.0560 - val_accuracy: 0.5766 - lr: 0.0010 - 8s/epoch - 235ms/step
Epoch 59/75
36/36 - 9s - loss: 0.0257 - accuracy: 0.9774 - val_loss: 1.0848 - val_accuracy: 0.5684 - lr: 0.0010 - 9s/epoch - 236ms/step
Epoch 60/75
36/36 - 8s - loss: 0.0251 - accuracy: 0.9779 - val_loss: 1.0586 - val_accuracy: 0.5716 - lr: 0.0010 - 8s/epoch - 236ms/step
Epoch 61/75
36/36 - 9s - loss: 0.0266 - accuracy: 0.9764 - val_loss: 1.0625 - val_accuracy: 0.5735 - lr: 0.0010 - 9s/epoch - 236ms/step
Epoch 62/75
36/36 - 9s - loss: 0.0250 - accuracy: 0.9781 - val_loss: 1.0599 - val_accuracy: 0.5736 - lr: 0.0010 - 9s/epoch - 236ms/step
Epoch 63/75
36/36 - 8s - loss: 0.0256 - accuracy: 0.9776 - val_loss: 1.0762 - val_accuracy: 0.5702 - lr: 0.0010 - 8s/epoch - 236ms/step
Epoch 64/75
36/36 - 9s - loss: 0.0254 - accuracy: 0.9779 - val_loss: 1.0906 - val_accuracy: 0.5703 - lr: 0.0010 - 9s/epoch - 237ms/step
Epoch 65/75
36/36 - 8s - loss: 0.0256 - accuracy: 0.9770 - val_loss: 1.0955 - val_accuracy: 0.5642 - lr: 0.0010 - 8s/epoch - 236ms/step
Epoch 66/75
36/36 - 9s - loss: 0.0256 - accuracy: 0.9773 - val_loss: 1.0825 - val_accuracy: 0.5697 - lr: 0.0010 - 9s/epoch - 237ms/step
Epoch 67/75
36/36 - 9s - loss: 0.0262 - accuracy: 0.9771 - val_loss: 1.0727 - val_accuracy: 0.5771 - lr: 0.0010 - 9s/epoch - 236ms/step
Epoch 68/75
36/36 - 9s - loss: 0.0251 - accuracy: 0.9780 - val_loss: 1.0929 - val_accuracy: 0.5692 - lr: 0.0010 - 9s/epoch - 236ms/step
Epoch 69/75
36/36 - 8s - loss: 0.0253 - accuracy: 0.9777 - val_loss: 1.1013 - val_accuracy: 0.5656 - lr: 0.0010 - 8s/epoch - 236ms/step
Epoch 70/75
36/36 - 9s - loss: 0.0263 - accuracy: 0.9772 - val_loss: 1.0825 - val_accuracy: 0.5730 - lr: 0.0010 - 9s/epoch - 237ms/step
Epoch 71/75
36/36 - 9s - loss: 0.0256 - accuracy: 0.9777 - val_loss: 1.0775 - val_accuracy: 0.5767 - lr: 0.0010 - 9s/epoch - 236ms/step
Epoch 72/75
36/36 - 9s - loss: 0.0261 - accuracy: 0.9766 - val_loss: 1.0675 - val_accuracy: 0.5749 - lr: 0.0010 - 9s/epoch - 237ms/step
Epoch 73/75
36/36 - 9s - loss: 0.0265 - accuracy: 0.9772 - val_loss: 1.0532 - val_accuracy: 0.5791 - lr: 0.0010 - 9s/epoch - 237ms/step
Epoch 74/75
36/36 - 8s - loss: 0.0253 - accuracy: 0.9778 - val_loss: 1.0660 - val_accuracy: 0.5782 - lr: 0.0010 - 8s/epoch - 234ms/step
Epoch 75/75
36/36 - 8s - loss: 0.0267 - accuracy: 0.9770 - val_loss: 1.0607 - val_accuracy: 0.5799 - lr: 0.0010 - 8s/epoch - 236ms/step
Epoch 1/100
4378/4378 - 83s - loss: 0.1008 - accuracy: 0.9009 - val_loss: 0.6243 - val_accuracy: 0.5227 - lr: 0.0010 - 83s/epoch - 19ms/step
Epoch 2/100
4378/4378 - 83s - loss: 0.1081 - accuracy: 0.8898 - val_loss: 0.4137 - val_accuracy: 0.6382 - lr: 0.0010 - 83s/epoch - 19ms/step
Epoch 3/100
4378/4378 - 83s - loss: 0.1067 - accuracy: 0.8905 - val_loss: 0.4962 - val_accuracy: 0.5916 - lr: 0.0010 - 83s/epoch - 19ms/step
Epoch 4/100
4378/4378 - 83s - loss: 0.1099 - accuracy: 0.8856 - val_loss: 0.5656 - val_accuracy: 0.5403 - lr: 0.0010 - 83s/epoch - 19ms/step
Epoch 5/100
4378/4378 - 83s - loss: 0.1091 - accuracy: 0.8871 - val_loss: 0.4925 - val_accuracy: 0.5843 - lr: 0.0010 - 83s/epoch - 19ms/step
Epoch 6/100
4378/4378 - 82s - loss: 0.1103 - accuracy: 0.8858 - val_loss: 0.4967 - val_accuracy: 0.5920 - lr: 0.0010 - 82s/epoch - 19ms/step
Epoch 7/100
4378/4378 - 82s - loss: 0.1102 - accuracy: 0.8859 - val_loss: 0.4896 - val_accuracy: 0.5962 - lr: 0.0010 - 82s/epoch - 19ms/step
Epoch 8/100
4378/4378 - 83s - loss: 0.1089 - accuracy: 0.8870 - val_loss: 0.4633 - val_accuracy: 0.6067 - lr: 0.0010 - 83s/epoch - 19ms/step
Epoch 9/100
4378/4378 - 82s - loss: 0.1103 - accuracy: 0.8865 - val_loss: 0.4870 - val_accuracy: 0.5863 - lr: 0.0010 - 82s/epoch - 19ms/step
Epoch 10/100
4378/4378 - 83s - loss: 0.1096 - accuracy: 0.8869 - val_loss: 0.4792 - val_accuracy: 0.5888 - lr: 0.0010 - 83s/epoch - 19ms/step
Epoch 11/100
4378/4378 - 82s - loss: 0.1093 - accuracy: 0.8878 - val_loss: 0.4252 - val_accuracy: 0.6284 - lr: 0.0010 - 82s/epoch - 19ms/step
Epoch 12/100
4378/4378 - 83s - loss: 0.1095 - accuracy: 0.8885 - val_loss: 0.5013 - val_accuracy: 0.5813 - lr: 0.0010 - 83s/epoch - 19ms/step
Epoch 13/100
4378/4378 - 83s - loss: 0.1090 - accuracy: 0.8883 - val_loss: 0.3792 - val_accuracy: 0.6818 - lr: 0.0010 - 83s/epoch - 19ms/step
Epoch 14/100
4378/4378 - 83s - loss: 0.1113 - accuracy: 0.8851 - val_loss: 0.4528 - val_accuracy: 0.5914 - lr: 0.0010 - 83s/epoch - 19ms/step
Epoch 15/100
4378/4378 - 82s - loss: 0.1113 - accuracy: 0.8848 - val_loss: 0.4868 - val_accuracy: 0.5969 - lr: 0.0010 - 82s/epoch - 19ms/step
Epoch 16/100
4378/4378 - 83s - loss: 0.1114 - accuracy: 0.8853 - val_loss: 0.4813 - val_accuracy: 0.5777 - lr: 0.0010 - 83s/epoch - 19ms/step
Epoch 17/100
4378/4378 - 83s - loss: 0.1096 - accuracy: 0.8864 - val_loss: 0.4876 - val_accuracy: 0.5730 - lr: 0.0010 - 83s/epoch - 19ms/step
Epoch 18/100
4378/4378 - 83s - loss: 0.1095 - accuracy: 0.8870 - val_loss: 0.4849 - val_accuracy: 0.5966 - lr: 0.0010 - 83s/epoch - 19ms/step
Epoch 19/100
4378/4378 - 83s - loss: 0.1110 - accuracy: 0.8854 - val_loss: 0.5104 - val_accuracy: 0.5607 - lr: 0.0010 - 83s/epoch - 19ms/step
Epoch 20/100
4378/4378 - 82s - loss: 0.1109 - accuracy: 0.8863 - val_loss: 0.4480 - val_accuracy: 0.6056 - lr: 0.0010 - 82s/epoch - 19ms/step
Epoch 21/100
4378/4378 - 83s - loss: 0.1101 - accuracy: 0.8865 - val_loss: 0.4524 - val_accuracy: 0.6085 - lr: 0.0010 - 83s/epoch - 19ms/step
Epoch 22/100
4378/4378 - 83s - loss: 0.1097 - accuracy: 0.8866 - val_loss: 0.4674 - val_accuracy: 0.5994 - lr: 0.0010 - 83s/epoch - 19ms/step
Epoch 23/100
4378/4378 - 83s - loss: 0.1094 - accuracy: 0.8867 - val_loss: 0.4722 - val_accuracy: 0.5956 - lr: 0.0010 - 83s/epoch - 19ms/step
Epoch 24/100
4378/4378 - 83s - loss: 0.1106 - accuracy: 0.8857 - val_loss: 0.5342 - val_accuracy: 0.5375 - lr: 0.0010 - 83s/epoch - 19ms/step
Epoch 25/100
4378/4378 - 83s - loss: 0.1121 - accuracy: 0.8839 - val_loss: 0.5349 - val_accuracy: 0.5444 - lr: 0.0010 - 83s/epoch - 19ms/step
Epoch 26/100
4378/4378 - 83s - loss: 0.1110 - accuracy: 0.8865 - val_loss: 0.5365 - val_accuracy: 0.5613 - lr: 0.0010 - 83s/epoch - 19ms/step
Epoch 27/100
4378/4378 - 83s - loss: 0.1097 - accuracy: 0.8868 - val_loss: 0.5077 - val_accuracy: 0.5564 - lr: 0.0010 - 83s/epoch - 19ms/step
Epoch 28/100
4378/4378 - 82s - loss: 0.1093 - accuracy: 0.8877 - val_loss: 0.5433 - val_accuracy: 0.5435 - lr: 0.0010 - 82s/epoch - 19ms/step
Epoch 29/100
4378/4378 - 83s - loss: 0.1114 - accuracy: 0.8854 - val_loss: 0.4802 - val_accuracy: 0.5962 - lr: 0.0010 - 83s/epoch - 19ms/step
Epoch 30/100
4378/4378 - 83s - loss: 0.1111 - accuracy: 0.8861 - val_loss: 0.5514 - val_accuracy: 0.5271 - lr: 0.0010 - 83s/epoch - 19ms/step
Epoch 31/100
4378/4378 - 83s - loss: 0.1096 - accuracy: 0.8872 - val_loss: 0.4332 - val_accuracy: 0.6210 - lr: 0.0010 - 83s/epoch - 19ms/step
Epoch 32/100
4378/4378 - 83s - loss: 0.1106 - accuracy: 0.8869 - val_loss: 0.4796 - val_accuracy: 0.5964 - lr: 0.0010 - 83s/epoch - 19ms/step
Epoch 33/100
4378/4378 - 83s - loss: 0.1100 - accuracy: 0.8866 - val_loss: 0.4633 - val_accuracy: 0.6122 - lr: 0.0010 - 83s/epoch - 19ms/step
Epoch 34/100
4378/4378 - 82s - loss: 0.1114 - accuracy: 0.8850 - val_loss: 0.4585 - val_accuracy: 0.5994 - lr: 0.0010 - 82s/epoch - 19ms/step
Epoch 35/100
4378/4378 - 82s - loss: 0.1099 - accuracy: 0.8869 - val_loss: 0.5443 - val_accuracy: 0.5454 - lr: 0.0010 - 82s/epoch - 19ms/step
Epoch 36/100
4378/4378 - 83s - loss: 0.1102 - accuracy: 0.8862 - val_loss: 0.4601 - val_accuracy: 0.5802 - lr: 0.0010 - 83s/epoch - 19ms/step
Epoch 37/100
4378/4378 - 82s - loss: 0.1104 - accuracy: 0.8856 - val_loss: 0.4525 - val_accuracy: 0.6005 - lr: 0.0010 - 82s/epoch - 19ms/step
Epoch 38/100
4378/4378 - 83s - loss: 0.1103 - accuracy: 0.8865 - val_loss: 0.4458 - val_accuracy: 0.6241 - lr: 0.0010 - 83s/epoch - 19ms/step
Epoch 39/100
4378/4378 - 82s - loss: 0.1101 - accuracy: 0.8873 - val_loss: 0.4701 - val_accuracy: 0.5850 - lr: 0.0010 - 82s/epoch - 19ms/step
Epoch 40/100
4378/4378 - 83s - loss: 0.1107 - accuracy: 0.8859 - val_loss: 0.5195 - val_accuracy: 0.5587 - lr: 0.0010 - 83s/epoch - 19ms/step
Epoch 41/100
4378/4378 - 83s - loss: 0.1101 - accuracy: 0.8870 - val_loss: 0.5203 - val_accuracy: 0.5762 - lr: 0.0010 - 83s/epoch - 19ms/step
Epoch 42/100
4378/4378 - 83s - loss: 0.1093 - accuracy: 0.8883 - val_loss: 0.5046 - val_accuracy: 0.5748 - lr: 0.0010 - 83s/epoch - 19ms/step
Epoch 43/100
4378/4378 - 83s - loss: 0.1088 - accuracy: 0.8875 - val_loss: 0.5024 - val_accuracy: 0.5870 - lr: 0.0010 - 83s/epoch - 19ms/step
Epoch 44/100
4378/4378 - 83s - loss: 0.1091 - accuracy: 0.8886 - val_loss: 0.5118 - val_accuracy: 0.5714 - lr: 0.0010 - 83s/epoch - 19ms/step
Epoch 45/100
4378/4378 - 83s - loss: 0.1106 - accuracy: 0.8860 - val_loss: 0.4573 - val_accuracy: 0.5925 - lr: 0.0010 - 83s/epoch - 19ms/step
Epoch 46/100
4378/4378 - 83s - loss: 0.1098 - accuracy: 0.8867 - val_loss: 0.5215 - val_accuracy: 0.5747 - lr: 0.0010 - 83s/epoch - 19ms/step
Epoch 47/100
4378/4378 - 83s - loss: 0.1107 - accuracy: 0.8853 - val_loss: 0.4811 - val_accuracy: 0.5957 - lr: 0.0010 - 83s/epoch - 19ms/step
Epoch 48/100
4378/4378 - 82s - loss: 0.1096 - accuracy: 0.8875 - val_loss: 0.4878 - val_accuracy: 0.5977 - lr: 0.0010 - 82s/epoch - 19ms/step
Epoch 49/100
4378/4378 - 83s - loss: 0.1104 - accuracy: 0.8866 - val_loss: 0.4984 - val_accuracy: 0.5874 - lr: 0.0010 - 83s/epoch - 19ms/step
Epoch 50/100
4378/4378 - 83s - loss: 0.1098 - accuracy: 0.8867 - val_loss: 0.5368 - val_accuracy: 0.5447 - lr: 0.0010 - 83s/epoch - 19ms/step
Epoch 51/100
4378/4378 - 83s - loss: 0.1105 - accuracy: 0.8869 - val_loss: 0.4798 - val_accuracy: 0.5696 - lr: 0.0010 - 83s/epoch - 19ms/step
Epoch 52/100
4378/4378 - 83s - loss: 0.1108 - accuracy: 0.8855 - val_loss: 0.4918 - val_accuracy: 0.5833 - lr: 0.0010 - 83s/epoch - 19ms/step
Epoch 53/100
4378/4378 - 83s - loss: 0.1095 - accuracy: 0.8872 - val_loss: 0.4298 - val_accuracy: 0.6262 - lr: 0.0010 - 83s/epoch - 19ms/step
Epoch 54/100
4378/4378 - 83s - loss: 0.1077 - accuracy: 0.8893 - val_loss: 0.4599 - val_accuracy: 0.6284 - lr: 0.0010 - 83s/epoch - 19ms/step
Epoch 55/100
4378/4378 - 83s - loss: 0.1099 - accuracy: 0.8872 - val_loss: 0.4789 - val_accuracy: 0.5788 - lr: 0.0010 - 83s/epoch - 19ms/step
Epoch 56/100
4378/4378 - 83s - loss: 0.1106 - accuracy: 0.8862 - val_loss: 0.4386 - val_accuracy: 0.6236 - lr: 0.0010 - 83s/epoch - 19ms/step
Epoch 57/100
4378/4378 - 84s - loss: 0.1099 - accuracy: 0.8862 - val_loss: 0.4801 - val_accuracy: 0.5909 - lr: 0.0010 - 84s/epoch - 19ms/step
Epoch 58/100
4378/4378 - 83s - loss: 0.1079 - accuracy: 0.8887 - val_loss: 0.5489 - val_accuracy: 0.5398 - lr: 0.0010 - 83s/epoch - 19ms/step
Epoch 59/100
4378/4378 - 83s - loss: 0.1091 - accuracy: 0.8867 - val_loss: 0.5472 - val_accuracy: 0.5630 - lr: 0.0010 - 83s/epoch - 19ms/step
Epoch 60/100
4378/4378 - 83s - loss: 0.1093 - accuracy: 0.8865 - val_loss: 0.4239 - val_accuracy: 0.6460 - lr: 0.0010 - 83s/epoch - 19ms/step
Epoch 61/100
4378/4378 - 83s - loss: 0.1098 - accuracy: 0.8874 - val_loss: 0.4949 - val_accuracy: 0.5960 - lr: 0.0010 - 83s/epoch - 19ms/step
Epoch 62/100
4378/4378 - 83s - loss: 0.1110 - accuracy: 0.8865 - val_loss: 0.4209 - val_accuracy: 0.6443 - lr: 0.0010 - 83s/epoch - 19ms/step
Epoch 63/100
4378/4378 - 83s - loss: 0.1098 - accuracy: 0.8875 - val_loss: 0.4940 - val_accuracy: 0.5999 - lr: 0.0010 - 83s/epoch - 19ms/step
Epoch 64/100
4378/4378 - 83s - loss: 0.1093 - accuracy: 0.8882 - val_loss: 0.4793 - val_accuracy: 0.6113 - lr: 0.0010 - 83s/epoch - 19ms/step
Epoch 65/100
4378/4378 - 81s - loss: 0.1101 - accuracy: 0.8874 - val_loss: 0.5525 - val_accuracy: 0.5382 - lr: 0.0010 - 81s/epoch - 19ms/step
Epoch 66/100
4378/4378 - 83s - loss: 0.1097 - accuracy: 0.8861 - val_loss: 0.4501 - val_accuracy: 0.6314 - lr: 0.0010 - 83s/epoch - 19ms/step
Epoch 67/100
4378/4378 - 83s - loss: 0.1099 - accuracy: 0.8859 - val_loss: 0.5003 - val_accuracy: 0.5554 - lr: 0.0010 - 83s/epoch - 19ms/step
Epoch 68/100
4378/4378 - 82s - loss: 0.1095 - accuracy: 0.8874 - val_loss: 0.4796 - val_accuracy: 0.6140 - lr: 0.0010 - 82s/epoch - 19ms/step
Epoch 69/100
4378/4378 - 83s - loss: 0.1079 - accuracy: 0.8888 - val_loss: 0.4978 - val_accuracy: 0.5932 - lr: 0.0010 - 83s/epoch - 19ms/step
Epoch 70/100
4378/4378 - 83s - loss: 0.1084 - accuracy: 0.8891 - val_loss: 0.4291 - val_accuracy: 0.6305 - lr: 0.0010 - 83s/epoch - 19ms/step
Epoch 71/100
4378/4378 - 84s - loss: 0.1093 - accuracy: 0.8878 - val_loss: 0.5051 - val_accuracy: 0.5967 - lr: 0.0010 - 84s/epoch - 19ms/step
Epoch 72/100
4378/4378 - 84s - loss: 0.1103 - accuracy: 0.8858 - val_loss: 0.4673 - val_accuracy: 0.6064 - lr: 0.0010 - 84s/epoch - 19ms/step
Epoch 73/100
4378/4378 - 83s - loss: 0.1091 - accuracy: 0.8881 - val_loss: 0.4695 - val_accuracy: 0.5976 - lr: 0.0010 - 83s/epoch - 19ms/step
Epoch 74/100
4378/4378 - 83s - loss: 0.1088 - accuracy: 0.8879 - val_loss: 0.4822 - val_accuracy: 0.5744 - lr: 0.0010 - 83s/epoch - 19ms/step
Epoch 75/100
4378/4378 - 83s - loss: 0.1071 - accuracy: 0.8895 - val_loss: 0.4586 - val_accuracy: 0.6281 - lr: 0.0010 - 83s/epoch - 19ms/step
Epoch 76/100
4378/4378 - 83s - loss: 0.1076 - accuracy: 0.8897 - val_loss: 0.5003 - val_accuracy: 0.5784 - lr: 0.0010 - 83s/epoch - 19ms/step
Epoch 77/100
4378/4378 - 83s - loss: 0.1095 - accuracy: 0.8872 - val_loss: 0.4575 - val_accuracy: 0.6310 - lr: 0.0010 - 83s/epoch - 19ms/step
Epoch 78/100
4378/4378 - 83s - loss: 0.1089 - accuracy: 0.8874 - val_loss: 0.4557 - val_accuracy: 0.6147 - lr: 0.0010 - 83s/epoch - 19ms/step
Epoch 79/100
4378/4378 - 82s - loss: 0.1098 - accuracy: 0.8867 - val_loss: 0.4431 - val_accuracy: 0.6162 - lr: 0.0010 - 82s/epoch - 19ms/step
Epoch 80/100
4378/4378 - 82s - loss: 0.1088 - accuracy: 0.8876 - val_loss: 0.4903 - val_accuracy: 0.5768 - lr: 0.0010 - 82s/epoch - 19ms/step
Epoch 81/100
4378/4378 - 83s - loss: 0.1105 - accuracy: 0.8860 - val_loss: 0.4354 - val_accuracy: 0.6258 - lr: 0.0010 - 83s/epoch - 19ms/step
Epoch 82/100
4378/4378 - 83s - loss: 0.1088 - accuracy: 0.8878 - val_loss: 0.4965 - val_accuracy: 0.5626 - lr: 0.0010 - 83s/epoch - 19ms/step
Epoch 83/100
4378/4378 - 82s - loss: 0.1083 - accuracy: 0.8892 - val_loss: 0.5228 - val_accuracy: 0.5847 - lr: 0.0010 - 82s/epoch - 19ms/step
Epoch 84/100
4378/4378 - 84s - loss: 0.1089 - accuracy: 0.8881 - val_loss: 0.5581 - val_accuracy: 0.5357 - lr: 0.0010 - 84s/epoch - 19ms/step
Epoch 85/100
4378/4378 - 82s - loss: 0.1089 - accuracy: 0.8886 - val_loss: 0.4902 - val_accuracy: 0.6062 - lr: 0.0010 - 82s/epoch - 19ms/step
Epoch 86/100
4378/4378 - 82s - loss: 0.1080 - accuracy: 0.8879 - val_loss: 0.5546 - val_accuracy: 0.5534 - lr: 0.0010 - 82s/epoch - 19ms/step
Epoch 87/100
4378/4378 - 83s - loss: 0.1076 - accuracy: 0.8889 - val_loss: 0.4038 - val_accuracy: 0.6524 - lr: 0.0010 - 83s/epoch - 19ms/step
Epoch 88/100
4378/4378 - 83s - loss: 0.1084 - accuracy: 0.8889 - val_loss: 0.4783 - val_accuracy: 0.5915 - lr: 0.0010 - 83s/epoch - 19ms/step
Epoch 89/100
4378/4378 - 83s - loss: 0.1079 - accuracy: 0.8892 - val_loss: 0.4462 - val_accuracy: 0.6183 - lr: 0.0010 - 83s/epoch - 19ms/step
Epoch 90/100
4378/4378 - 83s - loss: 0.1100 - accuracy: 0.8864 - val_loss: 0.4724 - val_accuracy: 0.5859 - lr: 0.0010 - 83s/epoch - 19ms/step
Epoch 91/100
4378/4378 - 83s - loss: 0.1086 - accuracy: 0.8883 - val_loss: 0.4513 - val_accuracy: 0.6093 - lr: 0.0010 - 83s/epoch - 19ms/step
Epoch 92/100
4378/4378 - 82s - loss: 0.1083 - accuracy: 0.8889 - val_loss: 0.4691 - val_accuracy: 0.6005 - lr: 0.0010 - 82s/epoch - 19ms/step
Epoch 93/100
4378/4378 - 83s - loss: 0.1101 - accuracy: 0.8865 - val_loss: 0.4702 - val_accuracy: 0.6103 - lr: 0.0010 - 83s/epoch - 19ms/step
Epoch 94/100
4378/4378 - 82s - loss: 0.1092 - accuracy: 0.8872 - val_loss: 0.4974 - val_accuracy: 0.5760 - lr: 0.0010 - 82s/epoch - 19ms/step
Epoch 95/100
4378/4378 - 83s - loss: 0.1064 - accuracy: 0.8902 - val_loss: 0.3972 - val_accuracy: 0.6522 - lr: 0.0010 - 83s/epoch - 19ms/step
Epoch 96/100
4378/4378 - 83s - loss: 0.1064 - accuracy: 0.8910 - val_loss: 0.4866 - val_accuracy: 0.5851 - lr: 0.0010 - 83s/epoch - 19ms/step
Epoch 97/100
4378/4378 - 83s - loss: 0.1092 - accuracy: 0.8879 - val_loss: 0.5359 - val_accuracy: 0.5550 - lr: 0.0010 - 83s/epoch - 19ms/step
Epoch 98/100
4378/4378 - 83s - loss: 0.1078 - accuracy: 0.8889 - val_loss: 0.4976 - val_accuracy: 0.5792 - lr: 0.0010 - 83s/epoch - 19ms/step
Epoch 99/100
4378/4378 - 83s - loss: 0.1075 - accuracy: 0.8899 - val_loss: 0.5158 - val_accuracy: 0.5638 - lr: 0.0010 - 83s/epoch - 19ms/step
Epoch 100/100
4378/4378 - 83s - loss: 0.1093 - accuracy: 0.8881 - val_loss: 0.4873 - val_accuracy: 0.6015 - lr: 0.0010 - 83s/epoch - 19ms/step
Epoch 1/100
876/876 - 22s - loss: 0.0787 - accuracy: 0.9216 - val_loss: 0.5615 - val_accuracy: 0.6265 - lr: 0.0010 - 22s/epoch - 25ms/step
Epoch 2/100
876/876 - 19s - loss: 0.0771 - accuracy: 0.9223 - val_loss: 0.5634 - val_accuracy: 0.6175 - lr: 0.0010 - 19s/epoch - 22ms/step
Epoch 3/100
876/876 - 19s - loss: 0.0775 - accuracy: 0.9223 - val_loss: 0.6238 - val_accuracy: 0.5980 - lr: 0.0010 - 19s/epoch - 21ms/step
Epoch 4/100
876/876 - 19s - loss: 0.0756 - accuracy: 0.9247 - val_loss: 0.6271 - val_accuracy: 0.5749 - lr: 0.0010 - 19s/epoch - 21ms/step
Epoch 5/100
876/876 - 19s - loss: 0.0753 - accuracy: 0.9244 - val_loss: 0.5608 - val_accuracy: 0.5982 - lr: 0.0010 - 19s/epoch - 21ms/step
Epoch 6/100
876/876 - 19s - loss: 0.0730 - accuracy: 0.9274 - val_loss: 0.6178 - val_accuracy: 0.5905 - lr: 0.0010 - 19s/epoch - 21ms/step
Epoch 7/100
876/876 - 19s - loss: 0.0725 - accuracy: 0.9276 - val_loss: 0.6294 - val_accuracy: 0.5778 - lr: 0.0010 - 19s/epoch - 21ms/step
Epoch 8/100
876/876 - 19s - loss: 0.0727 - accuracy: 0.9278 - val_loss: 0.6625 - val_accuracy: 0.5608 - lr: 0.0010 - 19s/epoch - 21ms/step
Epoch 9/100
876/876 - 19s - loss: 0.0710 - accuracy: 0.9294 - val_loss: 0.6179 - val_accuracy: 0.5862 - lr: 0.0010 - 19s/epoch - 21ms/step
Epoch 10/100
876/876 - 19s - loss: 0.0696 - accuracy: 0.9312 - val_loss: 0.6125 - val_accuracy: 0.6068 - lr: 0.0010 - 19s/epoch - 21ms/step
Epoch 11/100
876/876 - 18s - loss: 0.0704 - accuracy: 0.9308 - val_loss: 0.6872 - val_accuracy: 0.5697 - lr: 0.0010 - 18s/epoch - 21ms/step
Epoch 12/100
876/876 - 19s - loss: 0.0702 - accuracy: 0.9292 - val_loss: 0.6598 - val_accuracy: 0.5807 - lr: 0.0010 - 19s/epoch - 21ms/step
Epoch 13/100
876/876 - 19s - loss: 0.0692 - accuracy: 0.9313 - val_loss: 0.6804 - val_accuracy: 0.5635 - lr: 0.0010 - 19s/epoch - 21ms/step
Epoch 14/100
876/876 - 19s - loss: 0.0703 - accuracy: 0.9296 - val_loss: 0.6451 - val_accuracy: 0.5854 - lr: 0.0010 - 19s/epoch - 21ms/step
Epoch 15/100
876/876 - 19s - loss: 0.0706 - accuracy: 0.9295 - val_loss: 0.6100 - val_accuracy: 0.6143 - lr: 0.0010 - 19s/epoch - 21ms/step
Epoch 16/100
876/876 - 19s - loss: 0.0693 - accuracy: 0.9311 - val_loss: 0.6704 - val_accuracy: 0.5571 - lr: 0.0010 - 19s/epoch - 21ms/step
Epoch 17/100
876/876 - 19s - loss: 0.0692 - accuracy: 0.9310 - val_loss: 0.5924 - val_accuracy: 0.6286 - lr: 0.0010 - 19s/epoch - 21ms/step
Epoch 18/100
876/876 - 19s - loss: 0.0691 - accuracy: 0.9308 - val_loss: 0.6410 - val_accuracy: 0.6002 - lr: 0.0010 - 19s/epoch - 21ms/step
Epoch 19/100
876/876 - 19s - loss: 0.0695 - accuracy: 0.9307 - val_loss: 0.6223 - val_accuracy: 0.6167 - lr: 0.0010 - 19s/epoch - 21ms/step
Epoch 20/100
876/876 - 19s - loss: 0.0699 - accuracy: 0.9309 - val_loss: 0.6253 - val_accuracy: 0.5988 - lr: 0.0010 - 19s/epoch - 21ms/step
Epoch 21/100
876/876 - 18s - loss: 0.0693 - accuracy: 0.9313 - val_loss: 0.6532 - val_accuracy: 0.5845 - lr: 0.0010 - 18s/epoch - 21ms/step
Epoch 22/100
876/876 - 19s - loss: 0.0674 - accuracy: 0.9329 - val_loss: 0.6602 - val_accuracy: 0.5824 - lr: 0.0010 - 19s/epoch - 21ms/step
Epoch 23/100
876/876 - 19s - loss: 0.0677 - accuracy: 0.9322 - val_loss: 0.6000 - val_accuracy: 0.6167 - lr: 0.0010 - 19s/epoch - 21ms/step
Epoch 24/100
876/876 - 19s - loss: 0.0679 - accuracy: 0.9320 - val_loss: 0.6616 - val_accuracy: 0.5877 - lr: 0.0010 - 19s/epoch - 21ms/step
Epoch 25/100
876/876 - 19s - loss: 0.0676 - accuracy: 0.9325 - val_loss: 0.6666 - val_accuracy: 0.5793 - lr: 0.0010 - 19s/epoch - 21ms/step
Epoch 26/100
876/876 - 19s - loss: 0.0674 - accuracy: 0.9333 - val_loss: 0.7105 - val_accuracy: 0.5706 - lr: 0.0010 - 19s/epoch - 21ms/step
Epoch 27/100
876/876 - 18s - loss: 0.0666 - accuracy: 0.9340 - val_loss: 0.6433 - val_accuracy: 0.5949 - lr: 0.0010 - 18s/epoch - 21ms/step
Epoch 28/100
876/876 - 19s - loss: 0.0664 - accuracy: 0.9342 - val_loss: 0.6995 - val_accuracy: 0.5768 - lr: 0.0010 - 19s/epoch - 21ms/step
Epoch 29/100
876/876 - 19s - loss: 0.0676 - accuracy: 0.9322 - val_loss: 0.7205 - val_accuracy: 0.5662 - lr: 0.0010 - 19s/epoch - 21ms/step
Epoch 30/100
876/876 - 19s - loss: 0.0679 - accuracy: 0.9326 - val_loss: 0.7483 - val_accuracy: 0.5568 - lr: 0.0010 - 19s/epoch - 21ms/step
Epoch 31/100
876/876 - 19s - loss: 0.0666 - accuracy: 0.9338 - val_loss: 0.6627 - val_accuracy: 0.6063 - lr: 0.0010 - 19s/epoch - 21ms/step
Epoch 32/100
876/876 - 19s - loss: 0.0675 - accuracy: 0.9328 - val_loss: 0.6711 - val_accuracy: 0.6029 - lr: 0.0010 - 19s/epoch - 21ms/step
Epoch 33/100
876/876 - 19s - loss: 0.0667 - accuracy: 0.9339 - val_loss: 0.6980 - val_accuracy: 0.5788 - lr: 0.0010 - 19s/epoch - 21ms/step
Epoch 34/100
876/876 - 19s - loss: 0.0666 - accuracy: 0.9344 - val_loss: 0.6827 - val_accuracy: 0.5941 - lr: 0.0010 - 19s/epoch - 21ms/step
Epoch 35/100
876/876 - 19s - loss: 0.0667 - accuracy: 0.9343 - val_loss: 0.6007 - val_accuracy: 0.6261 - lr: 0.0010 - 19s/epoch - 21ms/step
Epoch 36/100
876/876 - 19s - loss: 0.0652 - accuracy: 0.9356 - val_loss: 0.6378 - val_accuracy: 0.5941 - lr: 0.0010 - 19s/epoch - 21ms/step
Epoch 37/100
876/876 - 19s - loss: 0.0670 - accuracy: 0.9341 - val_loss: 0.7463 - val_accuracy: 0.5464 - lr: 0.0010 - 19s/epoch - 21ms/step
Epoch 38/100
876/876 - 19s - loss: 0.0677 - accuracy: 0.9335 - val_loss: 0.6280 - val_accuracy: 0.6022 - lr: 0.0010 - 19s/epoch - 21ms/step
Epoch 39/100
876/876 - 19s - loss: 0.0648 - accuracy: 0.9358 - val_loss: 0.6985 - val_accuracy: 0.5915 - lr: 0.0010 - 19s/epoch - 21ms/step
Epoch 40/100
876/876 - 19s - loss: 0.0654 - accuracy: 0.9354 - val_loss: 0.6322 - val_accuracy: 0.6177 - lr: 0.0010 - 19s/epoch - 21ms/step
Epoch 41/100
876/876 - 19s - loss: 0.0642 - accuracy: 0.9362 - val_loss: 0.7067 - val_accuracy: 0.5941 - lr: 0.0010 - 19s/epoch - 21ms/step
Epoch 42/100
876/876 - 19s - loss: 0.0650 - accuracy: 0.9351 - val_loss: 0.6469 - val_accuracy: 0.5994 - lr: 0.0010 - 19s/epoch - 21ms/step
Epoch 43/100
876/876 - 19s - loss: 0.0660 - accuracy: 0.9352 - val_loss: 0.6966 - val_accuracy: 0.5972 - lr: 0.0010 - 19s/epoch - 21ms/step
Epoch 44/100
876/876 - 19s - loss: 0.0656 - accuracy: 0.9346 - val_loss: 0.7353 - val_accuracy: 0.5730 - lr: 0.0010 - 19s/epoch - 21ms/step
Epoch 45/100
876/876 - 18s - loss: 0.0659 - accuracy: 0.9353 - val_loss: 0.6502 - val_accuracy: 0.6018 - lr: 0.0010 - 18s/epoch - 21ms/step
Epoch 46/100
876/876 - 19s - loss: 0.0651 - accuracy: 0.9356 - val_loss: 0.6843 - val_accuracy: 0.5889 - lr: 0.0010 - 19s/epoch - 21ms/step
Epoch 47/100
876/876 - 19s - loss: 0.0637 - accuracy: 0.9367 - val_loss: 0.6675 - val_accuracy: 0.5980 - lr: 0.0010 - 19s/epoch - 21ms/step
Epoch 48/100
876/876 - 19s - loss: 0.0641 - accuracy: 0.9367 - val_loss: 0.6927 - val_accuracy: 0.5844 - lr: 0.0010 - 19s/epoch - 21ms/step
Epoch 49/100
876/876 - 19s - loss: 0.0644 - accuracy: 0.9360 - val_loss: 0.7007 - val_accuracy: 0.5805 - lr: 0.0010 - 19s/epoch - 21ms/step
Epoch 50/100
876/876 - 19s - loss: 0.0650 - accuracy: 0.9363 - val_loss: 0.6908 - val_accuracy: 0.5844 - lr: 0.0010 - 19s/epoch - 22ms/step
Epoch 51/100
876/876 - 19s - loss: 0.0647 - accuracy: 0.9374 - val_loss: 0.7289 - val_accuracy: 0.5781 - lr: 0.0010 - 19s/epoch - 21ms/step
Epoch 52/100
876/876 - 19s - loss: 0.0640 - accuracy: 0.9372 - val_loss: 0.6544 - val_accuracy: 0.6145 - lr: 0.0010 - 19s/epoch - 21ms/step
Epoch 53/100
876/876 - 19s - loss: 0.0642 - accuracy: 0.9376 - val_loss: 0.7571 - val_accuracy: 0.5639 - lr: 0.0010 - 19s/epoch - 21ms/step
Epoch 54/100
876/876 - 19s - loss: 0.0643 - accuracy: 0.9365 - val_loss: 0.6759 - val_accuracy: 0.6023 - lr: 0.0010 - 19s/epoch - 21ms/step
Epoch 55/100
876/876 - 19s - loss: 0.0653 - accuracy: 0.9354 - val_loss: 0.6849 - val_accuracy: 0.5946 - lr: 0.0010 - 19s/epoch - 21ms/step
Epoch 56/100
876/876 - 19s - loss: 0.0638 - accuracy: 0.9368 - val_loss: 0.7110 - val_accuracy: 0.5975 - lr: 0.0010 - 19s/epoch - 21ms/step
Epoch 57/100
876/876 - 19s - loss: 0.0643 - accuracy: 0.9362 - val_loss: 0.6968 - val_accuracy: 0.5937 - lr: 0.0010 - 19s/epoch - 21ms/step
Epoch 58/100
876/876 - 19s - loss: 0.0655 - accuracy: 0.9341 - val_loss: 0.6620 - val_accuracy: 0.5953 - lr: 0.0010 - 19s/epoch - 21ms/step
Epoch 59/100
876/876 - 19s - loss: 0.0651 - accuracy: 0.9352 - val_loss: 0.7403 - val_accuracy: 0.5774 - lr: 0.0010 - 19s/epoch - 21ms/step
Epoch 60/100
876/876 - 19s - loss: 0.0655 - accuracy: 0.9353 - val_loss: 0.6426 - val_accuracy: 0.6064 - lr: 0.0010 - 19s/epoch - 21ms/step
Epoch 61/100
876/876 - 19s - loss: 0.0642 - accuracy: 0.9364 - val_loss: 0.6584 - val_accuracy: 0.6020 - lr: 0.0010 - 19s/epoch - 21ms/step
Epoch 62/100
876/876 - 19s - loss: 0.0641 - accuracy: 0.9365 - val_loss: 0.6643 - val_accuracy: 0.6010 - lr: 0.0010 - 19s/epoch - 21ms/step
Epoch 63/100
876/876 - 19s - loss: 0.0635 - accuracy: 0.9369 - val_loss: 0.6739 - val_accuracy: 0.6059 - lr: 0.0010 - 19s/epoch - 21ms/step
Epoch 64/100
876/876 - 19s - loss: 0.0649 - accuracy: 0.9360 - val_loss: 0.6925 - val_accuracy: 0.5983 - lr: 0.0010 - 19s/epoch - 21ms/step
Epoch 65/100
876/876 - 19s - loss: 0.0647 - accuracy: 0.9362 - val_loss: 0.6697 - val_accuracy: 0.6057 - lr: 0.0010 - 19s/epoch - 21ms/step
Epoch 66/100
876/876 - 19s - loss: 0.0645 - accuracy: 0.9365 - val_loss: 0.6765 - val_accuracy: 0.5843 - lr: 0.0010 - 19s/epoch - 21ms/step
Epoch 67/100
876/876 - 19s - loss: 0.0614 - accuracy: 0.9393 - val_loss: 0.6469 - val_accuracy: 0.6096 - lr: 0.0010 - 19s/epoch - 21ms/step
Epoch 68/100
876/876 - 19s - loss: 0.0632 - accuracy: 0.9375 - val_loss: 0.6862 - val_accuracy: 0.5744 - lr: 0.0010 - 19s/epoch - 22ms/step
Epoch 69/100
876/876 - 19s - loss: 0.0638 - accuracy: 0.9372 - val_loss: 0.6947 - val_accuracy: 0.5820 - lr: 0.0010 - 19s/epoch - 22ms/step
Epoch 70/100
876/876 - 19s - loss: 0.0646 - accuracy: 0.9363 - val_loss: 0.7250 - val_accuracy: 0.5864 - lr: 0.0010 - 19s/epoch - 21ms/step
Epoch 71/100
876/876 - 19s - loss: 0.0639 - accuracy: 0.9368 - val_loss: 0.7129 - val_accuracy: 0.5974 - lr: 0.0010 - 19s/epoch - 21ms/step
Epoch 72/100
876/876 - 19s - loss: 0.0623 - accuracy: 0.9389 - val_loss: 0.6964 - val_accuracy: 0.6044 - lr: 0.0010 - 19s/epoch - 21ms/step
Epoch 73/100
876/876 - 19s - loss: 0.0631 - accuracy: 0.9377 - val_loss: 0.7103 - val_accuracy: 0.5880 - lr: 0.0010 - 19s/epoch - 21ms/step
Epoch 74/100
876/876 - 19s - loss: 0.0634 - accuracy: 0.9368 - val_loss: 0.6676 - val_accuracy: 0.5955 - lr: 0.0010 - 19s/epoch - 21ms/step
Epoch 75/100
876/876 - 18s - loss: 0.0639 - accuracy: 0.9372 - val_loss: 0.6471 - val_accuracy: 0.6119 - lr: 0.0010 - 18s/epoch - 21ms/step
Epoch 76/100
876/876 - 19s - loss: 0.0630 - accuracy: 0.9383 - val_loss: 0.6796 - val_accuracy: 0.5861 - lr: 0.0010 - 19s/epoch - 21ms/step
Epoch 77/100
876/876 - 19s - loss: 0.0629 - accuracy: 0.9383 - val_loss: 0.7164 - val_accuracy: 0.5835 - lr: 0.0010 - 19s/epoch - 21ms/step
Epoch 78/100
876/876 - 19s - loss: 0.0630 - accuracy: 0.9381 - val_loss: 0.7010 - val_accuracy: 0.5952 - lr: 0.0010 - 19s/epoch - 21ms/step
Epoch 79/100
876/876 - 19s - loss: 0.0642 - accuracy: 0.9365 - val_loss: 0.7163 - val_accuracy: 0.5911 - lr: 0.0010 - 19s/epoch - 21ms/step
Epoch 80/100
876/876 - 19s - loss: 0.0642 - accuracy: 0.9370 - val_loss: 0.7055 - val_accuracy: 0.5939 - lr: 0.0010 - 19s/epoch - 21ms/step
Epoch 81/100
876/876 - 19s - loss: 0.0634 - accuracy: 0.9365 - val_loss: 0.6969 - val_accuracy: 0.5842 - lr: 0.0010 - 19s/epoch - 21ms/step
Epoch 82/100
876/876 - 19s - loss: 0.0630 - accuracy: 0.9377 - val_loss: 0.7580 - val_accuracy: 0.5611 - lr: 0.0010 - 19s/epoch - 21ms/step
Epoch 83/100
876/876 - 19s - loss: 0.0637 - accuracy: 0.9371 - val_loss: 0.6766 - val_accuracy: 0.5896 - lr: 0.0010 - 19s/epoch - 21ms/step
Epoch 84/100
876/876 - 19s - loss: 0.0634 - accuracy: 0.9368 - val_loss: 0.7688 - val_accuracy: 0.5646 - lr: 0.0010 - 19s/epoch - 21ms/step
Epoch 85/100
876/876 - 19s - loss: 0.0644 - accuracy: 0.9358 - val_loss: 0.6290 - val_accuracy: 0.6257 - lr: 0.0010 - 19s/epoch - 21ms/step
Epoch 86/100
876/876 - 19s - loss: 0.0627 - accuracy: 0.9386 - val_loss: 0.7028 - val_accuracy: 0.5850 - lr: 0.0010 - 19s/epoch - 21ms/step
Epoch 87/100
876/876 - 19s - loss: 0.0626 - accuracy: 0.9393 - val_loss: 0.6757 - val_accuracy: 0.6067 - lr: 0.0010 - 19s/epoch - 21ms/step
Epoch 88/100
876/876 - 19s - loss: 0.0610 - accuracy: 0.9398 - val_loss: 0.6954 - val_accuracy: 0.6016 - lr: 0.0010 - 19s/epoch - 21ms/step
Epoch 89/100
876/876 - 19s - loss: 0.0629 - accuracy: 0.9382 - val_loss: 0.6750 - val_accuracy: 0.5989 - lr: 0.0010 - 19s/epoch - 21ms/step
Epoch 90/100
876/876 - 19s - loss: 0.0633 - accuracy: 0.9372 - val_loss: 0.6571 - val_accuracy: 0.5955 - lr: 0.0010 - 19s/epoch - 21ms/step
Epoch 91/100
876/876 - 19s - loss: 0.0622 - accuracy: 0.9383 - val_loss: 0.6726 - val_accuracy: 0.6118 - lr: 0.0010 - 19s/epoch - 21ms/step
Epoch 92/100
876/876 - 19s - loss: 0.0614 - accuracy: 0.9402 - val_loss: 0.7503 - val_accuracy: 0.5613 - lr: 0.0010 - 19s/epoch - 21ms/step
Epoch 93/100
876/876 - 19s - loss: 0.0633 - accuracy: 0.9390 - val_loss: 0.6976 - val_accuracy: 0.5860 - lr: 0.0010 - 19s/epoch - 21ms/step
Epoch 94/100
876/876 - 19s - loss: 0.0630 - accuracy: 0.9379 - val_loss: 0.6663 - val_accuracy: 0.5890 - lr: 0.0010 - 19s/epoch - 21ms/step
Epoch 95/100
876/876 - 19s - loss: 0.0629 - accuracy: 0.9380 - val_loss: 0.7093 - val_accuracy: 0.5909 - lr: 0.0010 - 19s/epoch - 21ms/step
Epoch 96/100
876/876 - 19s - loss: 0.0640 - accuracy: 0.9377 - val_loss: 0.6818 - val_accuracy: 0.5900 - lr: 0.0010 - 19s/epoch - 21ms/step
Epoch 97/100
876/876 - 19s - loss: 0.0627 - accuracy: 0.9378 - val_loss: 0.7152 - val_accuracy: 0.5816 - lr: 0.0010 - 19s/epoch - 21ms/step
Epoch 98/100
876/876 - 19s - loss: 0.0628 - accuracy: 0.9388 - val_loss: 0.6924 - val_accuracy: 0.6121 - lr: 0.0010 - 19s/epoch - 21ms/step
Epoch 99/100
876/876 - 19s - loss: 0.0630 - accuracy: 0.9369 - val_loss: 0.6747 - val_accuracy: 0.6235 - lr: 0.0010 - 19s/epoch - 21ms/step
Epoch 100/100
876/876 - 19s - loss: 0.0623 - accuracy: 0.9382 - val_loss: 0.6582 - val_accuracy: 0.6187 - lr: 0.0010 - 19s/epoch - 21ms/step
Epoch 1/100
176/176 - 12s - loss: 0.0466 - accuracy: 0.9561 - val_loss: 0.7375 - val_accuracy: 0.6045 - lr: 0.0010 - 12s/epoch - 69ms/step
Epoch 2/100
176/176 - 10s - loss: 0.0401 - accuracy: 0.9635 - val_loss: 0.7769 - val_accuracy: 0.6022 - lr: 0.0010 - 10s/epoch - 55ms/step
Epoch 3/100
176/176 - 10s - loss: 0.0378 - accuracy: 0.9655 - val_loss: 0.8126 - val_accuracy: 0.5978 - lr: 0.0010 - 10s/epoch - 55ms/step
Epoch 4/100
176/176 - 10s - loss: 0.0379 - accuracy: 0.9647 - val_loss: 0.8218 - val_accuracy: 0.6047 - lr: 0.0010 - 10s/epoch - 55ms/step
Epoch 5/100
176/176 - 10s - loss: 0.0384 - accuracy: 0.9638 - val_loss: 0.8370 - val_accuracy: 0.5944 - lr: 0.0010 - 10s/epoch - 55ms/step
Epoch 6/100
176/176 - 10s - loss: 0.0390 - accuracy: 0.9636 - val_loss: 0.8580 - val_accuracy: 0.5984 - lr: 0.0010 - 10s/epoch - 55ms/step
Epoch 7/100
176/176 - 10s - loss: 0.0397 - accuracy: 0.9629 - val_loss: 0.8860 - val_accuracy: 0.5854 - lr: 0.0010 - 10s/epoch - 55ms/step
Epoch 8/100
176/176 - 10s - loss: 0.0389 - accuracy: 0.9635 - val_loss: 0.8682 - val_accuracy: 0.5949 - lr: 0.0010 - 10s/epoch - 55ms/step
Epoch 9/100
176/176 - 10s - loss: 0.0388 - accuracy: 0.9631 - val_loss: 0.8758 - val_accuracy: 0.5853 - lr: 0.0010 - 10s/epoch - 55ms/step
Epoch 10/100
176/176 - 10s - loss: 0.0399 - accuracy: 0.9635 - val_loss: 0.8846 - val_accuracy: 0.5944 - lr: 0.0010 - 10s/epoch - 55ms/step
Epoch 11/100
176/176 - 10s - loss: 0.0406 - accuracy: 0.9624 - val_loss: 0.8796 - val_accuracy: 0.5865 - lr: 0.0010 - 10s/epoch - 55ms/step
Epoch 12/100
176/176 - 10s - loss: 0.0405 - accuracy: 0.9616 - val_loss: 0.8788 - val_accuracy: 0.5895 - lr: 0.0010 - 10s/epoch - 55ms/step
Epoch 13/100
176/176 - 10s - loss: 0.0410 - accuracy: 0.9614 - val_loss: 0.8649 - val_accuracy: 0.6034 - lr: 0.0010 - 10s/epoch - 55ms/step
Epoch 14/100
176/176 - 10s - loss: 0.0400 - accuracy: 0.9622 - val_loss: 0.9316 - val_accuracy: 0.5635 - lr: 0.0010 - 10s/epoch - 55ms/step
Epoch 15/100
176/176 - 10s - loss: 0.0401 - accuracy: 0.9625 - val_loss: 0.9147 - val_accuracy: 0.5628 - lr: 0.0010 - 10s/epoch - 55ms/step
Epoch 16/100
176/176 - 10s - loss: 0.0405 - accuracy: 0.9617 - val_loss: 0.8961 - val_accuracy: 0.5803 - lr: 0.0010 - 10s/epoch - 55ms/step
Epoch 17/100
176/176 - 10s - loss: 0.0409 - accuracy: 0.9607 - val_loss: 0.8537 - val_accuracy: 0.6042 - lr: 0.0010 - 10s/epoch - 55ms/step
Epoch 18/100
176/176 - 10s - loss: 0.0387 - accuracy: 0.9636 - val_loss: 0.8915 - val_accuracy: 0.6014 - lr: 0.0010 - 10s/epoch - 55ms/step
Epoch 19/100
176/176 - 10s - loss: 0.0387 - accuracy: 0.9634 - val_loss: 0.8741 - val_accuracy: 0.6051 - lr: 0.0010 - 10s/epoch - 55ms/step
Epoch 20/100
176/176 - 10s - loss: 0.0371 - accuracy: 0.9657 - val_loss: 0.8993 - val_accuracy: 0.5879 - lr: 0.0010 - 10s/epoch - 55ms/step
Epoch 21/100
176/176 - 10s - loss: 0.0382 - accuracy: 0.9644 - val_loss: 0.9103 - val_accuracy: 0.5907 - lr: 0.0010 - 10s/epoch - 55ms/step
Epoch 22/100
176/176 - 10s - loss: 0.0389 - accuracy: 0.9642 - val_loss: 0.8592 - val_accuracy: 0.5980 - lr: 0.0010 - 10s/epoch - 55ms/step
Epoch 23/100
176/176 - 10s - loss: 0.0402 - accuracy: 0.9623 - val_loss: 0.8684 - val_accuracy: 0.5995 - lr: 0.0010 - 10s/epoch - 55ms/step
Epoch 24/100
176/176 - 10s - loss: 0.0393 - accuracy: 0.9630 - val_loss: 0.8970 - val_accuracy: 0.5923 - lr: 0.0010 - 10s/epoch - 55ms/step
Epoch 25/100
176/176 - 10s - loss: 0.0389 - accuracy: 0.9638 - val_loss: 0.9333 - val_accuracy: 0.5859 - lr: 0.0010 - 10s/epoch - 55ms/step
Epoch 26/100
176/176 - 10s - loss: 0.0372 - accuracy: 0.9656 - val_loss: 0.9656 - val_accuracy: 0.5675 - lr: 0.0010 - 10s/epoch - 55ms/step
Epoch 27/100
176/176 - 10s - loss: 0.0382 - accuracy: 0.9639 - val_loss: 0.9355 - val_accuracy: 0.5850 - lr: 0.0010 - 10s/epoch - 55ms/step
Epoch 28/100
176/176 - 10s - loss: 0.0374 - accuracy: 0.9647 - val_loss: 0.9290 - val_accuracy: 0.5780 - lr: 0.0010 - 10s/epoch - 55ms/step
Epoch 29/100
176/176 - 10s - loss: 0.0382 - accuracy: 0.9635 - val_loss: 0.8748 - val_accuracy: 0.6093 - lr: 0.0010 - 10s/epoch - 55ms/step
Epoch 30/100
176/176 - 10s - loss: 0.0388 - accuracy: 0.9640 - val_loss: 0.9238 - val_accuracy: 0.5806 - lr: 0.0010 - 10s/epoch - 55ms/step
Epoch 31/100
176/176 - 10s - loss: 0.0386 - accuracy: 0.9642 - val_loss: 0.9229 - val_accuracy: 0.5840 - lr: 0.0010 - 10s/epoch - 55ms/step
Epoch 32/100
176/176 - 10s - loss: 0.0390 - accuracy: 0.9640 - val_loss: 0.9749 - val_accuracy: 0.5773 - lr: 0.0010 - 10s/epoch - 55ms/step
Epoch 33/100
176/176 - 10s - loss: 0.0383 - accuracy: 0.9642 - val_loss: 0.8929 - val_accuracy: 0.5933 - lr: 0.0010 - 10s/epoch - 55ms/step
Epoch 34/100
176/176 - 10s - loss: 0.0371 - accuracy: 0.9652 - val_loss: 0.9376 - val_accuracy: 0.5907 - lr: 0.0010 - 10s/epoch - 55ms/step
Epoch 35/100
176/176 - 10s - loss: 0.0372 - accuracy: 0.9656 - val_loss: 0.9607 - val_accuracy: 0.5875 - lr: 0.0010 - 10s/epoch - 55ms/step
Epoch 36/100
176/176 - 10s - loss: 0.0365 - accuracy: 0.9658 - val_loss: 0.9426 - val_accuracy: 0.5850 - lr: 0.0010 - 10s/epoch - 55ms/step
Epoch 37/100
176/176 - 10s - loss: 0.0364 - accuracy: 0.9657 - val_loss: 0.9899 - val_accuracy: 0.5708 - lr: 0.0010 - 10s/epoch - 55ms/step
Epoch 38/100
176/176 - 10s - loss: 0.0359 - accuracy: 0.9663 - val_loss: 0.9803 - val_accuracy: 0.5796 - lr: 0.0010 - 10s/epoch - 55ms/step
Epoch 39/100
176/176 - 10s - loss: 0.0374 - accuracy: 0.9641 - val_loss: 0.9288 - val_accuracy: 0.5937 - lr: 0.0010 - 10s/epoch - 55ms/step
Epoch 40/100
176/176 - 10s - loss: 0.0388 - accuracy: 0.9639 - val_loss: 0.9512 - val_accuracy: 0.5905 - lr: 0.0010 - 10s/epoch - 55ms/step
Epoch 41/100
176/176 - 10s - loss: 0.0380 - accuracy: 0.9648 - val_loss: 0.9408 - val_accuracy: 0.5894 - lr: 0.0010 - 10s/epoch - 55ms/step
Epoch 42/100
176/176 - 10s - loss: 0.0375 - accuracy: 0.9646 - val_loss: 0.9313 - val_accuracy: 0.5909 - lr: 0.0010 - 10s/epoch - 55ms/step
Epoch 43/100
176/176 - 10s - loss: 0.0376 - accuracy: 0.9646 - val_loss: 0.9569 - val_accuracy: 0.5801 - lr: 0.0010 - 10s/epoch - 55ms/step
Epoch 44/100
176/176 - 10s - loss: 0.0366 - accuracy: 0.9656 - val_loss: 0.9514 - val_accuracy: 0.5878 - lr: 0.0010 - 10s/epoch - 55ms/step
Epoch 45/100
176/176 - 10s - loss: 0.0355 - accuracy: 0.9669 - val_loss: 0.9696 - val_accuracy: 0.5823 - lr: 0.0010 - 10s/epoch - 55ms/step
Epoch 46/100
176/176 - 10s - loss: 0.0353 - accuracy: 0.9670 - val_loss: 0.9812 - val_accuracy: 0.5805 - lr: 0.0010 - 10s/epoch - 55ms/step
Epoch 47/100
176/176 - 10s - loss: 0.0359 - accuracy: 0.9672 - val_loss: 1.0117 - val_accuracy: 0.5661 - lr: 0.0010 - 10s/epoch - 55ms/step
Epoch 48/100
176/176 - 10s - loss: 0.0371 - accuracy: 0.9655 - val_loss: 1.0021 - val_accuracy: 0.5715 - lr: 0.0010 - 10s/epoch - 55ms/step
Epoch 49/100
176/176 - 10s - loss: 0.0371 - accuracy: 0.9649 - val_loss: 0.9588 - val_accuracy: 0.5931 - lr: 0.0010 - 10s/epoch - 55ms/step
Epoch 50/100
176/176 - 10s - loss: 0.0373 - accuracy: 0.9648 - val_loss: 1.0203 - val_accuracy: 0.5808 - lr: 0.0010 - 10s/epoch - 55ms/step
Epoch 51/100
176/176 - 10s - loss: 0.0373 - accuracy: 0.9655 - val_loss: 0.9798 - val_accuracy: 0.5756 - lr: 0.0010 - 10s/epoch - 55ms/step
Epoch 52/100
176/176 - 10s - loss: 0.0378 - accuracy: 0.9649 - val_loss: 1.0249 - val_accuracy: 0.5601 - lr: 0.0010 - 10s/epoch - 55ms/step
Epoch 53/100
176/176 - 10s - loss: 0.0357 - accuracy: 0.9672 - val_loss: 0.9561 - val_accuracy: 0.5945 - lr: 0.0010 - 10s/epoch - 55ms/step
Epoch 54/100
176/176 - 10s - loss: 0.0355 - accuracy: 0.9669 - val_loss: 0.9368 - val_accuracy: 0.5888 - lr: 0.0010 - 10s/epoch - 55ms/step
Epoch 55/100
176/176 - 10s - loss: 0.0357 - accuracy: 0.9668 - val_loss: 0.9734 - val_accuracy: 0.5788 - lr: 0.0010 - 10s/epoch - 55ms/step
Epoch 56/100
176/176 - 10s - loss: 0.0376 - accuracy: 0.9645 - val_loss: 0.9998 - val_accuracy: 0.5687 - lr: 0.0010 - 10s/epoch - 55ms/step
Epoch 57/100
176/176 - 10s - loss: 0.0368 - accuracy: 0.9661 - val_loss: 1.0224 - val_accuracy: 0.5598 - lr: 0.0010 - 10s/epoch - 55ms/step
Epoch 58/100
176/176 - 10s - loss: 0.0375 - accuracy: 0.9649 - val_loss: 0.9514 - val_accuracy: 0.5845 - lr: 0.0010 - 10s/epoch - 55ms/step
Epoch 59/100
176/176 - 10s - loss: 0.0350 - accuracy: 0.9675 - val_loss: 0.9847 - val_accuracy: 0.5923 - lr: 0.0010 - 10s/epoch - 55ms/step
Epoch 60/100
176/176 - 10s - loss: 0.0354 - accuracy: 0.9675 - val_loss: 1.0097 - val_accuracy: 0.5851 - lr: 0.0010 - 10s/epoch - 55ms/step
Epoch 61/100
176/176 - 10s - loss: 0.0368 - accuracy: 0.9660 - val_loss: 0.9316 - val_accuracy: 0.5949 - lr: 0.0010 - 10s/epoch - 55ms/step
Epoch 62/100
176/176 - 10s - loss: 0.0343 - accuracy: 0.9679 - val_loss: 0.9598 - val_accuracy: 0.5923 - lr: 0.0010 - 10s/epoch - 55ms/step
Epoch 63/100
176/176 - 10s - loss: 0.0334 - accuracy: 0.9698 - val_loss: 0.9957 - val_accuracy: 0.5745 - lr: 0.0010 - 10s/epoch - 55ms/step
Epoch 64/100
176/176 - 10s - loss: 0.0318 - accuracy: 0.9705 - val_loss: 0.9848 - val_accuracy: 0.5841 - lr: 0.0010 - 10s/epoch - 55ms/step
Epoch 65/100
176/176 - 10s - loss: 0.0320 - accuracy: 0.9712 - val_loss: 0.9574 - val_accuracy: 0.5985 - lr: 0.0010 - 10s/epoch - 55ms/step
Epoch 66/100
176/176 - 10s - loss: 0.0323 - accuracy: 0.9706 - val_loss: 0.9828 - val_accuracy: 0.5979 - lr: 0.0010 - 10s/epoch - 55ms/step
Epoch 67/100
176/176 - 10s - loss: 0.0335 - accuracy: 0.9692 - val_loss: 1.0376 - val_accuracy: 0.5729 - lr: 0.0010 - 10s/epoch - 55ms/step
Epoch 68/100
176/176 - 10s - loss: 0.0347 - accuracy: 0.9682 - val_loss: 0.9931 - val_accuracy: 0.5885 - lr: 0.0010 - 10s/epoch - 55ms/step
Epoch 69/100
176/176 - 10s - loss: 0.0349 - accuracy: 0.9682 - val_loss: 0.9830 - val_accuracy: 0.5891 - lr: 0.0010 - 10s/epoch - 55ms/step
Epoch 70/100
176/176 - 10s - loss: 0.0359 - accuracy: 0.9666 - val_loss: 1.0004 - val_accuracy: 0.5856 - lr: 0.0010 - 10s/epoch - 55ms/step
Epoch 71/100
176/176 - 10s - loss: 0.0370 - accuracy: 0.9658 - val_loss: 0.9829 - val_accuracy: 0.5989 - lr: 0.0010 - 10s/epoch - 54ms/step
Epoch 72/100
176/176 - 10s - loss: 0.0366 - accuracy: 0.9659 - val_loss: 0.9872 - val_accuracy: 0.5826 - lr: 0.0010 - 10s/epoch - 55ms/step
Epoch 73/100
176/176 - 10s - loss: 0.0379 - accuracy: 0.9649 - val_loss: 1.0094 - val_accuracy: 0.5713 - lr: 0.0010 - 10s/epoch - 55ms/step
Epoch 74/100
176/176 - 10s - loss: 0.0375 - accuracy: 0.9651 - val_loss: 1.0022 - val_accuracy: 0.5890 - lr: 0.0010 - 10s/epoch - 55ms/step
Epoch 75/100
176/176 - 10s - loss: 0.0373 - accuracy: 0.9652 - val_loss: 1.0322 - val_accuracy: 0.5689 - lr: 0.0010 - 10s/epoch - 55ms/step
Epoch 76/100
176/176 - 10s - loss: 0.0371 - accuracy: 0.9651 - val_loss: 0.9521 - val_accuracy: 0.5914 - lr: 0.0010 - 10s/epoch - 55ms/step
Epoch 77/100
176/176 - 10s - loss: 0.0366 - accuracy: 0.9654 - val_loss: 0.9849 - val_accuracy: 0.5856 - lr: 0.0010 - 10s/epoch - 55ms/step
Epoch 78/100
176/176 - 10s - loss: 0.0378 - accuracy: 0.9649 - val_loss: 0.9800 - val_accuracy: 0.5763 - lr: 0.0010 - 10s/epoch - 55ms/step
Epoch 79/100
176/176 - 10s - loss: 0.0369 - accuracy: 0.9645 - val_loss: 0.9882 - val_accuracy: 0.5707 - lr: 0.0010 - 10s/epoch - 55ms/step
Epoch 80/100
176/176 - 10s - loss: 0.0359 - accuracy: 0.9663 - val_loss: 0.9753 - val_accuracy: 0.5851 - lr: 0.0010 - 10s/epoch - 55ms/step
Epoch 81/100
176/176 - 10s - loss: 0.0375 - accuracy: 0.9653 - val_loss: 0.9880 - val_accuracy: 0.5706 - lr: 0.0010 - 10s/epoch - 55ms/step
Epoch 82/100
176/176 - 10s - loss: 0.0368 - accuracy: 0.9653 - val_loss: 1.0350 - val_accuracy: 0.5615 - lr: 0.0010 - 10s/epoch - 55ms/step
Epoch 83/100
176/176 - 10s - loss: 0.0356 - accuracy: 0.9666 - val_loss: 1.0031 - val_accuracy: 0.5859 - lr: 0.0010 - 10s/epoch - 55ms/step
Epoch 84/100
176/176 - 10s - loss: 0.0354 - accuracy: 0.9672 - val_loss: 1.0527 - val_accuracy: 0.5694 - lr: 0.0010 - 10s/epoch - 55ms/step
Epoch 85/100
176/176 - 10s - loss: 0.0338 - accuracy: 0.9688 - val_loss: 1.0423 - val_accuracy: 0.5712 - lr: 0.0010 - 10s/epoch - 55ms/step
Epoch 86/100
176/176 - 10s - loss: 0.0355 - accuracy: 0.9674 - val_loss: 1.0393 - val_accuracy: 0.5730 - lr: 0.0010 - 10s/epoch - 55ms/step
Epoch 87/100
176/176 - 10s - loss: 0.0351 - accuracy: 0.9676 - val_loss: 1.0039 - val_accuracy: 0.5741 - lr: 0.0010 - 10s/epoch - 55ms/step
Epoch 88/100
176/176 - 10s - loss: 0.0344 - accuracy: 0.9680 - val_loss: 1.0246 - val_accuracy: 0.5634 - lr: 0.0010 - 10s/epoch - 55ms/step
Epoch 89/100
176/176 - 10s - loss: 0.0345 - accuracy: 0.9679 - val_loss: 0.9954 - val_accuracy: 0.5800 - lr: 0.0010 - 10s/epoch - 55ms/step
Epoch 90/100
176/176 - 10s - loss: 0.0346 - accuracy: 0.9676 - val_loss: 1.0300 - val_accuracy: 0.5709 - lr: 0.0010 - 10s/epoch - 55ms/step
Epoch 91/100
176/176 - 10s - loss: 0.0345 - accuracy: 0.9684 - val_loss: 1.0725 - val_accuracy: 0.5550 - lr: 0.0010 - 10s/epoch - 55ms/step
Epoch 92/100
176/176 - 10s - loss: 0.0337 - accuracy: 0.9686 - val_loss: 1.0226 - val_accuracy: 0.5806 - lr: 0.0010 - 10s/epoch - 55ms/step
Epoch 93/100
176/176 - 10s - loss: 0.0330 - accuracy: 0.9697 - val_loss: 1.0363 - val_accuracy: 0.5746 - lr: 0.0010 - 10s/epoch - 55ms/step
Epoch 94/100
176/176 - 10s - loss: 0.0309 - accuracy: 0.9715 - val_loss: 1.0789 - val_accuracy: 0.5735 - lr: 0.0010 - 10s/epoch - 55ms/step
Epoch 95/100
176/176 - 10s - loss: 0.0319 - accuracy: 0.9714 - val_loss: 1.0525 - val_accuracy: 0.5798 - lr: 0.0010 - 10s/epoch - 55ms/step
Epoch 96/100
176/176 - 10s - loss: 0.0326 - accuracy: 0.9700 - val_loss: 1.0251 - val_accuracy: 0.5756 - lr: 0.0010 - 10s/epoch - 55ms/step
Epoch 97/100
176/176 - 10s - loss: 0.0348 - accuracy: 0.9679 - val_loss: 1.0445 - val_accuracy: 0.5798 - lr: 0.0010 - 10s/epoch - 55ms/step
Epoch 98/100
176/176 - 10s - loss: 0.0350 - accuracy: 0.9674 - val_loss: 1.0264 - val_accuracy: 0.5804 - lr: 0.0010 - 10s/epoch - 55ms/step
Epoch 99/100
176/176 - 10s - loss: 0.0339 - accuracy: 0.9687 - val_loss: 1.0085 - val_accuracy: 0.5860 - lr: 0.0010 - 10s/epoch - 55ms/step
Epoch 100/100
176/176 - 10s - loss: 0.0350 - accuracy: 0.9673 - val_loss: 1.0627 - val_accuracy: 0.5744 - lr: 0.0010 - 10s/epoch - 55ms/step
Epoch 1/100
36/36 - 11s - loss: 0.0315 - accuracy: 0.9712 - val_loss: 1.0207 - val_accuracy: 0.5838 - lr: 0.0010 - 11s/epoch - 305ms/step
Epoch 2/100
36/36 - 9s - loss: 0.0276 - accuracy: 0.9762 - val_loss: 1.0424 - val_accuracy: 0.5788 - lr: 0.0010 - 9s/epoch - 238ms/step
Epoch 3/100
36/36 - 9s - loss: 0.0258 - accuracy: 0.9774 - val_loss: 1.0492 - val_accuracy: 0.5787 - lr: 0.0010 - 9s/epoch - 237ms/step
Epoch 4/100
36/36 - 9s - loss: 0.0260 - accuracy: 0.9771 - val_loss: 1.0820 - val_accuracy: 0.5749 - lr: 0.0010 - 9s/epoch - 237ms/step
Epoch 5/100
36/36 - 9s - loss: 0.0255 - accuracy: 0.9773 - val_loss: 1.0718 - val_accuracy: 0.5752 - lr: 0.0010 - 9s/epoch - 237ms/step
Epoch 6/100
36/36 - 9s - loss: 0.0271 - accuracy: 0.9762 - val_loss: 1.0598 - val_accuracy: 0.5849 - lr: 0.0010 - 9s/epoch - 239ms/step
Epoch 7/100
36/36 - 9s - loss: 0.0249 - accuracy: 0.9783 - val_loss: 1.0620 - val_accuracy: 0.5835 - lr: 0.0010 - 9s/epoch - 237ms/step
Epoch 8/100
36/36 - 9s - loss: 0.0265 - accuracy: 0.9766 - val_loss: 1.0809 - val_accuracy: 0.5800 - lr: 0.0010 - 9s/epoch - 236ms/step
Epoch 9/100
36/36 - 9s - loss: 0.0261 - accuracy: 0.9769 - val_loss: 1.0855 - val_accuracy: 0.5775 - lr: 0.0010 - 9s/epoch - 239ms/step
Epoch 10/100
36/36 - 9s - loss: 0.0253 - accuracy: 0.9777 - val_loss: 1.0735 - val_accuracy: 0.5809 - lr: 0.0010 - 9s/epoch - 236ms/step
Epoch 11/100
36/36 - 9s - loss: 0.0246 - accuracy: 0.9785 - val_loss: 1.1051 - val_accuracy: 0.5721 - lr: 0.0010 - 9s/epoch - 237ms/step
Epoch 12/100
36/36 - 8s - loss: 0.0259 - accuracy: 0.9773 - val_loss: 1.1036 - val_accuracy: 0.5744 - lr: 0.0010 - 8s/epoch - 236ms/step
Epoch 13/100
36/36 - 9s - loss: 0.0252 - accuracy: 0.9780 - val_loss: 1.1016 - val_accuracy: 0.5756 - lr: 0.0010 - 9s/epoch - 239ms/step
Epoch 14/100
36/36 - 9s - loss: 0.0252 - accuracy: 0.9776 - val_loss: 1.1131 - val_accuracy: 0.5751 - lr: 0.0010 - 9s/epoch - 237ms/step
Epoch 15/100
36/36 - 9s - loss: 0.0242 - accuracy: 0.9791 - val_loss: 1.1070 - val_accuracy: 0.5759 - lr: 0.0010 - 9s/epoch - 238ms/step
Epoch 16/100
36/36 - 9s - loss: 0.0230 - accuracy: 0.9799 - val_loss: 1.1220 - val_accuracy: 0.5734 - lr: 0.0010 - 9s/epoch - 239ms/step
Epoch 17/100
36/36 - 9s - loss: 0.0247 - accuracy: 0.9781 - val_loss: 1.1220 - val_accuracy: 0.5733 - lr: 0.0010 - 9s/epoch - 237ms/step
Epoch 18/100
36/36 - 9s - loss: 0.0239 - accuracy: 0.9793 - val_loss: 1.1193 - val_accuracy: 0.5751 - lr: 0.0010 - 9s/epoch - 238ms/step
Epoch 19/100
36/36 - 9s - loss: 0.0243 - accuracy: 0.9789 - val_loss: 1.1052 - val_accuracy: 0.5786 - lr: 0.0010 - 9s/epoch - 239ms/step
Epoch 20/100
36/36 - 9s - loss: 0.0236 - accuracy: 0.9791 - val_loss: 1.1104 - val_accuracy: 0.5779 - lr: 0.0010 - 9s/epoch - 238ms/step
Epoch 21/100
36/36 - 8s - loss: 0.0240 - accuracy: 0.9795 - val_loss: 1.1087 - val_accuracy: 0.5810 - lr: 0.0010 - 8s/epoch - 236ms/step
Epoch 22/100
36/36 - 9s - loss: 0.0233 - accuracy: 0.9796 - val_loss: 1.1173 - val_accuracy: 0.5765 - lr: 0.0010 - 9s/epoch - 237ms/step
Epoch 23/100
36/36 - 9s - loss: 0.0234 - accuracy: 0.9797 - val_loss: 1.1208 - val_accuracy: 0.5746 - lr: 0.0010 - 9s/epoch - 238ms/step
Epoch 24/100
36/36 - 9s - loss: 0.0237 - accuracy: 0.9794 - val_loss: 1.0956 - val_accuracy: 0.5837 - lr: 0.0010 - 9s/epoch - 238ms/step
Epoch 25/100
36/36 - 9s - loss: 0.0242 - accuracy: 0.9791 - val_loss: 1.1032 - val_accuracy: 0.5852 - lr: 0.0010 - 9s/epoch - 237ms/step
Epoch 26/100
36/36 - 9s - loss: 0.0234 - accuracy: 0.9795 - val_loss: 1.1336 - val_accuracy: 0.5751 - lr: 0.0010 - 9s/epoch - 239ms/step
Epoch 27/100
36/36 - 9s - loss: 0.0247 - accuracy: 0.9784 - val_loss: 1.1148 - val_accuracy: 0.5798 - lr: 0.0010 - 9s/epoch - 238ms/step
Epoch 28/100
36/36 - 9s - loss: 0.0230 - accuracy: 0.9802 - val_loss: 1.1355 - val_accuracy: 0.5728 - lr: 0.0010 - 9s/epoch - 238ms/step
Epoch 29/100
36/36 - 9s - loss: 0.0233 - accuracy: 0.9798 - val_loss: 1.1370 - val_accuracy: 0.5759 - lr: 0.0010 - 9s/epoch - 239ms/step
Epoch 30/100
36/36 - 9s - loss: 0.0236 - accuracy: 0.9794 - val_loss: 1.1475 - val_accuracy: 0.5751 - lr: 0.0010 - 9s/epoch - 238ms/step
Epoch 31/100
36/36 - 9s - loss: 0.0226 - accuracy: 0.9800 - val_loss: 1.1639 - val_accuracy: 0.5731 - lr: 0.0010 - 9s/epoch - 238ms/step
Epoch 32/100
36/36 - 8s - loss: 0.0236 - accuracy: 0.9800 - val_loss: 1.1531 - val_accuracy: 0.5701 - lr: 0.0010 - 8s/epoch - 236ms/step
Epoch 33/100
36/36 - 9s - loss: 0.0233 - accuracy: 0.9801 - val_loss: 1.1628 - val_accuracy: 0.5684 - lr: 0.0010 - 9s/epoch - 237ms/step
Epoch 34/100
36/36 - 9s - loss: 0.0230 - accuracy: 0.9800 - val_loss: 1.1474 - val_accuracy: 0.5765 - lr: 0.0010 - 9s/epoch - 238ms/step
Epoch 35/100
36/36 - 9s - loss: 0.0232 - accuracy: 0.9800 - val_loss: 1.1362 - val_accuracy: 0.5795 - lr: 0.0010 - 9s/epoch - 238ms/step
Epoch 36/100
36/36 - 9s - loss: 0.0241 - accuracy: 0.9791 - val_loss: 1.1717 - val_accuracy: 0.5703 - lr: 0.0010 - 9s/epoch - 238ms/step
Epoch 37/100
36/36 - 9s - loss: 0.0233 - accuracy: 0.9800 - val_loss: 1.1772 - val_accuracy: 0.5680 - lr: 0.0010 - 9s/epoch - 237ms/step
Epoch 38/100
36/36 - 9s - loss: 0.0246 - accuracy: 0.9784 - val_loss: 1.1730 - val_accuracy: 0.5663 - lr: 0.0010 - 9s/epoch - 237ms/step
Epoch 39/100
36/36 - 9s - loss: 0.0231 - accuracy: 0.9795 - val_loss: 1.1426 - val_accuracy: 0.5792 - lr: 0.0010 - 9s/epoch - 238ms/step
Epoch 40/100
36/36 - 9s - loss: 0.0243 - accuracy: 0.9789 - val_loss: 1.1238 - val_accuracy: 0.5857 - lr: 0.0010 - 9s/epoch - 238ms/step
Epoch 41/100
36/36 - 9s - loss: 0.0232 - accuracy: 0.9796 - val_loss: 1.1355 - val_accuracy: 0.5793 - lr: 0.0010 - 9s/epoch - 238ms/step
Epoch 42/100
36/36 - 9s - loss: 0.0225 - accuracy: 0.9803 - val_loss: 1.1307 - val_accuracy: 0.5811 - lr: 0.0010 - 9s/epoch - 237ms/step
Epoch 43/100
36/36 - 9s - loss: 0.0219 - accuracy: 0.9808 - val_loss: 1.1356 - val_accuracy: 0.5787 - lr: 0.0010 - 9s/epoch - 236ms/step
Epoch 44/100
36/36 - 9s - loss: 0.0232 - accuracy: 0.9793 - val_loss: 1.1570 - val_accuracy: 0.5720 - lr: 0.0010 - 9s/epoch - 236ms/step
Epoch 45/100
36/36 - 9s - loss: 0.0222 - accuracy: 0.9804 - val_loss: 1.1708 - val_accuracy: 0.5686 - lr: 0.0010 - 9s/epoch - 238ms/step
Epoch 46/100
36/36 - 9s - loss: 0.0228 - accuracy: 0.9807 - val_loss: 1.1757 - val_accuracy: 0.5686 - lr: 0.0010 - 9s/epoch - 237ms/step
Epoch 47/100
36/36 - 9s - loss: 0.0240 - accuracy: 0.9791 - val_loss: 1.1498 - val_accuracy: 0.5726 - lr: 0.0010 - 9s/epoch - 237ms/step
Epoch 48/100
36/36 - 9s - loss: 0.0229 - accuracy: 0.9802 - val_loss: 1.1588 - val_accuracy: 0.5730 - lr: 0.0010 - 9s/epoch - 238ms/step
Epoch 49/100
36/36 - 9s - loss: 0.0234 - accuracy: 0.9796 - val_loss: 1.1670 - val_accuracy: 0.5699 - lr: 0.0010 - 9s/epoch - 237ms/step
Epoch 50/100
36/36 - 9s - loss: 0.0229 - accuracy: 0.9801 - val_loss: 1.1978 - val_accuracy: 0.5633 - lr: 0.0010 - 9s/epoch - 237ms/step
Epoch 51/100
36/36 - 9s - loss: 0.0231 - accuracy: 0.9797 - val_loss: 1.1615 - val_accuracy: 0.5772 - lr: 0.0010 - 9s/epoch - 237ms/step
Epoch 52/100
36/36 - 9s - loss: 0.0239 - accuracy: 0.9789 - val_loss: 1.1790 - val_accuracy: 0.5670 - lr: 0.0010 - 9s/epoch - 238ms/step
Epoch 53/100
36/36 - 9s - loss: 0.0234 - accuracy: 0.9796 - val_loss: 1.1792 - val_accuracy: 0.5673 - lr: 0.0010 - 9s/epoch - 237ms/step
Epoch 54/100
36/36 - 9s - loss: 0.0231 - accuracy: 0.9801 - val_loss: 1.1745 - val_accuracy: 0.5720 - lr: 0.0010 - 9s/epoch - 237ms/step
Epoch 55/100
36/36 - 9s - loss: 0.0227 - accuracy: 0.9804 - val_loss: 1.1921 - val_accuracy: 0.5661 - lr: 0.0010 - 9s/epoch - 239ms/step
Epoch 56/100
36/36 - 9s - loss: 0.0224 - accuracy: 0.9803 - val_loss: 1.1999 - val_accuracy: 0.5638 - lr: 0.0010 - 9s/epoch - 238ms/step
Epoch 57/100
36/36 - 9s - loss: 0.0231 - accuracy: 0.9803 - val_loss: 1.2009 - val_accuracy: 0.5629 - lr: 0.0010 - 9s/epoch - 237ms/step
Epoch 58/100
36/36 - 9s - loss: 0.0239 - accuracy: 0.9790 - val_loss: 1.2027 - val_accuracy: 0.5655 - lr: 0.0010 - 9s/epoch - 238ms/step
Epoch 59/100
36/36 - 9s - loss: 0.0239 - accuracy: 0.9793 - val_loss: 1.1882 - val_accuracy: 0.5671 - lr: 0.0010 - 9s/epoch - 236ms/step
Epoch 60/100
36/36 - 9s - loss: 0.0236 - accuracy: 0.9794 - val_loss: 1.1410 - val_accuracy: 0.5786 - lr: 0.0010 - 9s/epoch - 237ms/step
Epoch 61/100
36/36 - 9s - loss: 0.0234 - accuracy: 0.9797 - val_loss: 1.1369 - val_accuracy: 0.5804 - lr: 0.0010 - 9s/epoch - 238ms/step
Epoch 62/100
36/36 - 9s - loss: 0.0235 - accuracy: 0.9791 - val_loss: 1.1581 - val_accuracy: 0.5774 - lr: 0.0010 - 9s/epoch - 238ms/step
Epoch 63/100
36/36 - 9s - loss: 0.0225 - accuracy: 0.9809 - val_loss: 1.1730 - val_accuracy: 0.5744 - lr: 0.0010 - 9s/epoch - 238ms/step
Epoch 64/100
36/36 - 9s - loss: 0.0226 - accuracy: 0.9803 - val_loss: 1.1764 - val_accuracy: 0.5761 - lr: 0.0010 - 9s/epoch - 237ms/step
Epoch 65/100
36/36 - 9s - loss: 0.0214 - accuracy: 0.9815 - val_loss: 1.1631 - val_accuracy: 0.5788 - lr: 0.0010 - 9s/epoch - 237ms/step
Epoch 66/100
36/36 - 9s - loss: 0.0220 - accuracy: 0.9814 - val_loss: 1.1761 - val_accuracy: 0.5740 - lr: 0.0010 - 9s/epoch - 239ms/step
Epoch 67/100
36/36 - 9s - loss: 0.0237 - accuracy: 0.9793 - val_loss: 1.1549 - val_accuracy: 0.5799 - lr: 0.0010 - 9s/epoch - 238ms/step
Epoch 68/100
36/36 - 9s - loss: 0.0232 - accuracy: 0.9799 - val_loss: 1.1533 - val_accuracy: 0.5764 - lr: 0.0010 - 9s/epoch - 237ms/step
Epoch 69/100
36/36 - 8s - loss: 0.0228 - accuracy: 0.9806 - val_loss: 1.1607 - val_accuracy: 0.5773 - lr: 0.0010 - 8s/epoch - 236ms/step
Epoch 70/100
36/36 - 9s - loss: 0.0223 - accuracy: 0.9810 - val_loss: 1.1780 - val_accuracy: 0.5762 - lr: 0.0010 - 9s/epoch - 238ms/step
Epoch 71/100
36/36 - 9s - loss: 0.0228 - accuracy: 0.9803 - val_loss: 1.1298 - val_accuracy: 0.5909 - lr: 0.0010 - 9s/epoch - 236ms/step
Epoch 72/100
36/36 - 9s - loss: 0.0229 - accuracy: 0.9799 - val_loss: 1.1485 - val_accuracy: 0.5813 - lr: 0.0010 - 9s/epoch - 238ms/step
Epoch 73/100
36/36 - 9s - loss: 0.0234 - accuracy: 0.9797 - val_loss: 1.1433 - val_accuracy: 0.5840 - lr: 0.0010 - 9s/epoch - 237ms/step
Epoch 74/100
36/36 - 9s - loss: 0.0233 - accuracy: 0.9792 - val_loss: 1.1285 - val_accuracy: 0.5897 - lr: 0.0010 - 9s/epoch - 239ms/step
Epoch 75/100
36/36 - 9s - loss: 0.0229 - accuracy: 0.9800 - val_loss: 1.1448 - val_accuracy: 0.5853 - lr: 0.0010 - 9s/epoch - 237ms/step
Epoch 76/100
36/36 - 9s - loss: 0.0224 - accuracy: 0.9803 - val_loss: 1.1633 - val_accuracy: 0.5786 - lr: 0.0010 - 9s/epoch - 237ms/step
Epoch 77/100
36/36 - 9s - loss: 0.0228 - accuracy: 0.9800 - val_loss: 1.1268 - val_accuracy: 0.5932 - lr: 0.0010 - 9s/epoch - 237ms/step
Epoch 78/100
36/36 - 9s - loss: 0.0225 - accuracy: 0.9803 - val_loss: 1.1722 - val_accuracy: 0.5756 - lr: 0.0010 - 9s/epoch - 236ms/step
Epoch 79/100
36/36 - 9s - loss: 0.0226 - accuracy: 0.9802 - val_loss: 1.1663 - val_accuracy: 0.5803 - lr: 0.0010 - 9s/epoch - 238ms/step
Epoch 80/100
36/36 - 9s - loss: 0.0238 - accuracy: 0.9793 - val_loss: 1.1884 - val_accuracy: 0.5753 - lr: 0.0010 - 9s/epoch - 237ms/step
Epoch 81/100
36/36 - 9s - loss: 0.0224 - accuracy: 0.9803 - val_loss: 1.1509 - val_accuracy: 0.5883 - lr: 0.0010 - 9s/epoch - 239ms/step
Epoch 82/100
36/36 - 9s - loss: 0.0229 - accuracy: 0.9802 - val_loss: 1.1833 - val_accuracy: 0.5770 - lr: 0.0010 - 9s/epoch - 237ms/step
Epoch 83/100
36/36 - 9s - loss: 0.0242 - accuracy: 0.9789 - val_loss: 1.1744 - val_accuracy: 0.5804 - lr: 0.0010 - 9s/epoch - 238ms/step
Epoch 84/100
36/36 - 9s - loss: 0.0233 - accuracy: 0.9797 - val_loss: 1.1743 - val_accuracy: 0.5748 - lr: 0.0010 - 9s/epoch - 238ms/step
Epoch 85/100
36/36 - 9s - loss: 0.0219 - accuracy: 0.9805 - val_loss: 1.1774 - val_accuracy: 0.5779 - lr: 0.0010 - 9s/epoch - 237ms/step
Epoch 86/100
36/36 - 9s - loss: 0.0227 - accuracy: 0.9802 - val_loss: 1.1541 - val_accuracy: 0.5809 - lr: 0.0010 - 9s/epoch - 237ms/step
Epoch 87/100
36/36 - 9s - loss: 0.0211 - accuracy: 0.9814 - val_loss: 1.1663 - val_accuracy: 0.5805 - lr: 0.0010 - 9s/epoch - 237ms/step
Epoch 88/100
36/36 - 9s - loss: 0.0214 - accuracy: 0.9816 - val_loss: 1.1752 - val_accuracy: 0.5763 - lr: 0.0010 - 9s/epoch - 238ms/step
Epoch 89/100
36/36 - 9s - loss: 0.0215 - accuracy: 0.9815 - val_loss: 1.1926 - val_accuracy: 0.5716 - lr: 0.0010 - 9s/epoch - 237ms/step
Epoch 90/100
36/36 - 9s - loss: 0.0219 - accuracy: 0.9810 - val_loss: 1.1605 - val_accuracy: 0.5842 - lr: 0.0010 - 9s/epoch - 237ms/step
Epoch 91/100
36/36 - 9s - loss: 0.0219 - accuracy: 0.9808 - val_loss: 1.1655 - val_accuracy: 0.5799 - lr: 0.0010 - 9s/epoch - 238ms/step
Epoch 92/100
36/36 - 9s - loss: 0.0234 - accuracy: 0.9801 - val_loss: 1.2033 - val_accuracy: 0.5716 - lr: 0.0010 - 9s/epoch - 237ms/step
Epoch 93/100
36/36 - 9s - loss: 0.0226 - accuracy: 0.9802 - val_loss: 1.1747 - val_accuracy: 0.5795 - lr: 0.0010 - 9s/epoch - 238ms/step
Epoch 94/100
36/36 - 9s - loss: 0.0229 - accuracy: 0.9800 - val_loss: 1.1895 - val_accuracy: 0.5769 - lr: 0.0010 - 9s/epoch - 238ms/step
Epoch 95/100
36/36 - 9s - loss: 0.0235 - accuracy: 0.9791 - val_loss: 1.1810 - val_accuracy: 0.5795 - lr: 0.0010 - 9s/epoch - 238ms/step
Epoch 96/100
36/36 - 9s - loss: 0.0214 - accuracy: 0.9819 - val_loss: 1.1966 - val_accuracy: 0.5736 - lr: 0.0010 - 9s/epoch - 237ms/step
Epoch 97/100
36/36 - 9s - loss: 0.0212 - accuracy: 0.9817 - val_loss: 1.2005 - val_accuracy: 0.5755 - lr: 0.0010 - 9s/epoch - 238ms/step
Epoch 98/100
36/36 - 9s - loss: 0.0213 - accuracy: 0.9815 - val_loss: 1.2122 - val_accuracy: 0.5721 - lr: 0.0010 - 9s/epoch - 237ms/step
Epoch 99/100
36/36 - 9s - loss: 0.0212 - accuracy: 0.9818 - val_loss: 1.1994 - val_accuracy: 0.5761 - lr: 0.0010 - 9s/epoch - 237ms/step
Epoch 100/100
36/36 - 9s - loss: 0.0218 - accuracy: 0.9809 - val_loss: 1.1905 - val_accuracy: 0.5793 - lr: 0.0010 - 9s/epoch - 238ms/step
Epoch 1/25
4378/4378 - 83s - loss: 0.0177 - accuracy: 0.8848 - val_loss: 0.0622 - val_accuracy: 0.6239 - lr: 0.0010 - 83s/epoch - 19ms/step
Epoch 2/25
4378/4378 - 83s - loss: 0.0187 - accuracy: 0.8721 - val_loss: 0.0615 - val_accuracy: 0.6170 - lr: 0.0010 - 83s/epoch - 19ms/step
Epoch 3/25
4378/4378 - 82s - loss: 0.0182 - accuracy: 0.8747 - val_loss: 0.0674 - val_accuracy: 0.5638 - lr: 0.0010 - 82s/epoch - 19ms/step
Epoch 4/25
4378/4378 - 82s - loss: 0.0180 - accuracy: 0.8750 - val_loss: 0.0598 - val_accuracy: 0.6122 - lr: 0.0010 - 82s/epoch - 19ms/step
Epoch 5/25
4378/4378 - 82s - loss: 0.0184 - accuracy: 0.8722 - val_loss: 0.0580 - val_accuracy: 0.6231 - lr: 0.0010 - 82s/epoch - 19ms/step
Epoch 6/25
4378/4378 - 82s - loss: 0.0183 - accuracy: 0.8729 - val_loss: 0.0621 - val_accuracy: 0.5985 - lr: 0.0010 - 82s/epoch - 19ms/step
Epoch 7/25
4378/4378 - 82s - loss: 0.0178 - accuracy: 0.8777 - val_loss: 0.0594 - val_accuracy: 0.6180 - lr: 0.0010 - 82s/epoch - 19ms/step
Epoch 8/25
4378/4378 - 82s - loss: 0.0183 - accuracy: 0.8740 - val_loss: 0.0560 - val_accuracy: 0.6330 - lr: 0.0010 - 82s/epoch - 19ms/step
Epoch 9/25
4378/4378 - 82s - loss: 0.0182 - accuracy: 0.8743 - val_loss: 0.0594 - val_accuracy: 0.6065 - lr: 0.0010 - 82s/epoch - 19ms/step
Epoch 10/25
4378/4378 - 82s - loss: 0.0184 - accuracy: 0.8723 - val_loss: 0.0591 - val_accuracy: 0.6089 - lr: 0.0010 - 82s/epoch - 19ms/step
Epoch 11/25
4378/4378 - 82s - loss: 0.0183 - accuracy: 0.8736 - val_loss: 0.0523 - val_accuracy: 0.6633 - lr: 0.0010 - 82s/epoch - 19ms/step
Epoch 12/25
4378/4378 - 82s - loss: 0.0183 - accuracy: 0.8739 - val_loss: 0.0540 - val_accuracy: 0.6505 - lr: 0.0010 - 82s/epoch - 19ms/step
Epoch 13/25
4378/4378 - 82s - loss: 0.0182 - accuracy: 0.8742 - val_loss: 0.0620 - val_accuracy: 0.6029 - lr: 0.0010 - 82s/epoch - 19ms/step
Epoch 14/25
4378/4378 - 82s - loss: 0.0180 - accuracy: 0.8756 - val_loss: 0.0577 - val_accuracy: 0.6251 - lr: 0.0010 - 82s/epoch - 19ms/step
Epoch 15/25
4378/4378 - 83s - loss: 0.0181 - accuracy: 0.8748 - val_loss: 0.0571 - val_accuracy: 0.6247 - lr: 0.0010 - 83s/epoch - 19ms/step
Epoch 16/25
4378/4378 - 82s - loss: 0.0180 - accuracy: 0.8751 - val_loss: 0.0608 - val_accuracy: 0.6040 - lr: 0.0010 - 82s/epoch - 19ms/step
Epoch 17/25
4378/4378 - 83s - loss: 0.0183 - accuracy: 0.8733 - val_loss: 0.0562 - val_accuracy: 0.6278 - lr: 0.0010 - 83s/epoch - 19ms/step
Epoch 18/25
4378/4378 - 82s - loss: 0.0182 - accuracy: 0.8751 - val_loss: 0.0540 - val_accuracy: 0.6486 - lr: 0.0010 - 82s/epoch - 19ms/step
Epoch 19/25
4378/4378 - 82s - loss: 0.0181 - accuracy: 0.8747 - val_loss: 0.0545 - val_accuracy: 0.6367 - lr: 0.0010 - 82s/epoch - 19ms/step
Epoch 20/25
4378/4378 - 82s - loss: 0.0180 - accuracy: 0.8758 - val_loss: 0.0552 - val_accuracy: 0.6292 - lr: 0.0010 - 82s/epoch - 19ms/step
Epoch 21/25
4378/4378 - 82s - loss: 0.0182 - accuracy: 0.8746 - val_loss: 0.0597 - val_accuracy: 0.6083 - lr: 0.0010 - 82s/epoch - 19ms/step
Epoch 22/25
4378/4378 - 82s - loss: 0.0181 - accuracy: 0.8751 - val_loss: 0.0599 - val_accuracy: 0.6029 - lr: 0.0010 - 82s/epoch - 19ms/step
Epoch 23/25
4378/4378 - 82s - loss: 0.0180 - accuracy: 0.8754 - val_loss: 0.0595 - val_accuracy: 0.6047 - lr: 0.0010 - 82s/epoch - 19ms/step
Epoch 24/25
4378/4378 - 82s - loss: 0.0180 - accuracy: 0.8752 - val_loss: 0.0518 - val_accuracy: 0.6627 - lr: 0.0010 - 82s/epoch - 19ms/step
Epoch 25/25
4378/4378 - 82s - loss: 0.0182 - accuracy: 0.8744 - val_loss: 0.0527 - val_accuracy: 0.6548 - lr: 0.0010 - 82s/epoch - 19ms/step
Epoch 1/25
876/876 - 21s - loss: 0.0128 - accuracy: 0.9141 - val_loss: 0.0598 - val_accuracy: 0.6155 - lr: 0.0010 - 21s/epoch - 24ms/step
Epoch 2/25
876/876 - 18s - loss: 0.0124 - accuracy: 0.9154 - val_loss: 0.0591 - val_accuracy: 0.6306 - lr: 0.0010 - 18s/epoch - 21ms/step
Epoch 3/25
876/876 - 18s - loss: 0.0122 - accuracy: 0.9175 - val_loss: 0.0630 - val_accuracy: 0.5987 - lr: 0.0010 - 18s/epoch - 21ms/step
Epoch 4/25
876/876 - 19s - loss: 0.0119 - accuracy: 0.9192 - val_loss: 0.0599 - val_accuracy: 0.6231 - lr: 0.0010 - 19s/epoch - 22ms/step
Epoch 5/25
876/876 - 19s - loss: 0.0118 - accuracy: 0.9204 - val_loss: 0.0626 - val_accuracy: 0.6125 - lr: 0.0010 - 19s/epoch - 21ms/step
Epoch 6/25
876/876 - 18s - loss: 0.0114 - accuracy: 0.9227 - val_loss: 0.0624 - val_accuracy: 0.6083 - lr: 0.0010 - 18s/epoch - 21ms/step
Epoch 7/25
876/876 - 18s - loss: 0.0112 - accuracy: 0.9242 - val_loss: 0.0648 - val_accuracy: 0.6002 - lr: 0.0010 - 18s/epoch - 21ms/step
Epoch 8/25
876/876 - 18s - loss: 0.0112 - accuracy: 0.9247 - val_loss: 0.0648 - val_accuracy: 0.6005 - lr: 0.0010 - 18s/epoch - 21ms/step
Epoch 9/25
876/876 - 18s - loss: 0.0113 - accuracy: 0.9236 - val_loss: 0.0688 - val_accuracy: 0.5777 - lr: 0.0010 - 18s/epoch - 21ms/step
Epoch 10/25
876/876 - 18s - loss: 0.0111 - accuracy: 0.9251 - val_loss: 0.0627 - val_accuracy: 0.6109 - lr: 0.0010 - 18s/epoch - 21ms/step
Epoch 11/25
876/876 - 18s - loss: 0.0110 - accuracy: 0.9265 - val_loss: 0.0653 - val_accuracy: 0.5938 - lr: 0.0010 - 18s/epoch - 21ms/step
Epoch 12/25
876/876 - 18s - loss: 0.0110 - accuracy: 0.9256 - val_loss: 0.0630 - val_accuracy: 0.6141 - lr: 0.0010 - 18s/epoch - 21ms/step
Epoch 13/25
876/876 - 18s - loss: 0.0108 - accuracy: 0.9260 - val_loss: 0.0624 - val_accuracy: 0.6152 - lr: 0.0010 - 18s/epoch - 21ms/step
Epoch 14/25
876/876 - 18s - loss: 0.0108 - accuracy: 0.9269 - val_loss: 0.0646 - val_accuracy: 0.6020 - lr: 0.0010 - 18s/epoch - 21ms/step
Epoch 15/25
876/876 - 18s - loss: 0.0106 - accuracy: 0.9287 - val_loss: 0.0651 - val_accuracy: 0.6019 - lr: 0.0010 - 18s/epoch - 21ms/step
Epoch 16/25
876/876 - 19s - loss: 0.0106 - accuracy: 0.9283 - val_loss: 0.0612 - val_accuracy: 0.6239 - lr: 0.0010 - 19s/epoch - 21ms/step
Epoch 17/25
876/876 - 18s - loss: 0.0106 - accuracy: 0.9289 - val_loss: 0.0620 - val_accuracy: 0.6165 - lr: 0.0010 - 18s/epoch - 21ms/step
Epoch 18/25
876/876 - 18s - loss: 0.0106 - accuracy: 0.9283 - val_loss: 0.0669 - val_accuracy: 0.5882 - lr: 0.0010 - 18s/epoch - 21ms/step
Epoch 19/25
876/876 - 18s - loss: 0.0106 - accuracy: 0.9292 - val_loss: 0.0617 - val_accuracy: 0.6223 - lr: 0.0010 - 18s/epoch - 21ms/step
Epoch 20/25
876/876 - 18s - loss: 0.0106 - accuracy: 0.9287 - val_loss: 0.0667 - val_accuracy: 0.5910 - lr: 0.0010 - 18s/epoch - 21ms/step
Epoch 21/25
876/876 - 18s - loss: 0.0103 - accuracy: 0.9311 - val_loss: 0.0648 - val_accuracy: 0.6075 - lr: 0.0010 - 18s/epoch - 21ms/step
Epoch 22/25
876/876 - 18s - loss: 0.0105 - accuracy: 0.9290 - val_loss: 0.0667 - val_accuracy: 0.5872 - lr: 0.0010 - 18s/epoch - 21ms/step
Epoch 23/25
876/876 - 18s - loss: 0.0102 - accuracy: 0.9317 - val_loss: 0.0686 - val_accuracy: 0.5825 - lr: 0.0010 - 18s/epoch - 21ms/step
Epoch 24/25
876/876 - 18s - loss: 0.0104 - accuracy: 0.9303 - val_loss: 0.0640 - val_accuracy: 0.6114 - lr: 0.0010 - 18s/epoch - 21ms/step
Epoch 25/25
876/876 - 18s - loss: 0.0105 - accuracy: 0.9293 - val_loss: 0.0648 - val_accuracy: 0.6035 - lr: 0.0010 - 18s/epoch - 21ms/step
Epoch 1/25
176/176 - 12s - loss: 0.0078 - accuracy: 0.9491 - val_loss: 0.0649 - val_accuracy: 0.6067 - lr: 0.0010 - 12s/epoch - 68ms/step
Epoch 2/25
176/176 - 10s - loss: 0.0067 - accuracy: 0.9569 - val_loss: 0.0667 - val_accuracy: 0.5962 - lr: 0.0010 - 10s/epoch - 55ms/step
Epoch 3/25
176/176 - 10s - loss: 0.0063 - accuracy: 0.9594 - val_loss: 0.0692 - val_accuracy: 0.5866 - lr: 0.0010 - 10s/epoch - 55ms/step
Epoch 4/25
176/176 - 10s - loss: 0.0063 - accuracy: 0.9583 - val_loss: 0.0651 - val_accuracy: 0.6130 - lr: 0.0010 - 10s/epoch - 55ms/step
Epoch 5/25
176/176 - 10s - loss: 0.0063 - accuracy: 0.9587 - val_loss: 0.0700 - val_accuracy: 0.5856 - lr: 0.0010 - 10s/epoch - 54ms/step
Epoch 6/25
176/176 - 10s - loss: 0.0065 - accuracy: 0.9571 - val_loss: 0.0727 - val_accuracy: 0.5676 - lr: 0.0010 - 10s/epoch - 55ms/step
Epoch 7/25
176/176 - 10s - loss: 0.0067 - accuracy: 0.9565 - val_loss: 0.0716 - val_accuracy: 0.5791 - lr: 0.0010 - 10s/epoch - 55ms/step
Epoch 8/25
176/176 - 10s - loss: 0.0065 - accuracy: 0.9576 - val_loss: 0.0721 - val_accuracy: 0.5756 - lr: 0.0010 - 10s/epoch - 55ms/step
Epoch 9/25
176/176 - 10s - loss: 0.0063 - accuracy: 0.9589 - val_loss: 0.0720 - val_accuracy: 0.5805 - lr: 0.0010 - 10s/epoch - 58ms/step
Epoch 10/25
176/176 - 10s - loss: 0.0063 - accuracy: 0.9592 - val_loss: 0.0735 - val_accuracy: 0.5694 - lr: 0.0010 - 10s/epoch - 55ms/step
Epoch 11/25
176/176 - 10s - loss: 0.0063 - accuracy: 0.9592 - val_loss: 0.0708 - val_accuracy: 0.5863 - lr: 0.0010 - 10s/epoch - 55ms/step
Epoch 12/25
176/176 - 10s - loss: 0.0064 - accuracy: 0.9582 - val_loss: 0.0751 - val_accuracy: 0.5612 - lr: 0.0010 - 10s/epoch - 55ms/step
Epoch 13/25
176/176 - 10s - loss: 0.0063 - accuracy: 0.9583 - val_loss: 0.0734 - val_accuracy: 0.5699 - lr: 0.0010 - 10s/epoch - 55ms/step
Epoch 14/25
176/176 - 10s - loss: 0.0063 - accuracy: 0.9589 - val_loss: 0.0705 - val_accuracy: 0.5875 - lr: 0.0010 - 10s/epoch - 55ms/step
Epoch 15/25
176/176 - 10s - loss: 0.0063 - accuracy: 0.9580 - val_loss: 0.0697 - val_accuracy: 0.5934 - lr: 0.0010 - 10s/epoch - 55ms/step
Epoch 16/25
176/176 - 10s - loss: 0.0061 - accuracy: 0.9609 - val_loss: 0.0719 - val_accuracy: 0.5778 - lr: 0.0010 - 10s/epoch - 55ms/step
Epoch 17/25
176/176 - 10s - loss: 0.0063 - accuracy: 0.9592 - val_loss: 0.0717 - val_accuracy: 0.5854 - lr: 0.0010 - 10s/epoch - 54ms/step
Epoch 18/25
176/176 - 10s - loss: 0.0062 - accuracy: 0.9598 - val_loss: 0.0719 - val_accuracy: 0.5825 - lr: 0.0010 - 10s/epoch - 55ms/step
Epoch 19/25
176/176 - 10s - loss: 0.0059 - accuracy: 0.9614 - val_loss: 0.0710 - val_accuracy: 0.5893 - lr: 0.0010 - 10s/epoch - 55ms/step
Epoch 20/25
176/176 - 10s - loss: 0.0057 - accuracy: 0.9630 - val_loss: 0.0740 - val_accuracy: 0.5719 - lr: 0.0010 - 10s/epoch - 55ms/step
Epoch 21/25
176/176 - 10s - loss: 0.0057 - accuracy: 0.9632 - val_loss: 0.0706 - val_accuracy: 0.5891 - lr: 0.0010 - 10s/epoch - 55ms/step
Epoch 22/25
176/176 - 10s - loss: 0.0056 - accuracy: 0.9636 - val_loss: 0.0723 - val_accuracy: 0.5820 - lr: 0.0010 - 10s/epoch - 55ms/step
Epoch 23/25
176/176 - 10s - loss: 0.0058 - accuracy: 0.9628 - val_loss: 0.0744 - val_accuracy: 0.5727 - lr: 0.0010 - 10s/epoch - 55ms/step
Epoch 24/25
176/176 - 10s - loss: 0.0060 - accuracy: 0.9608 - val_loss: 0.0711 - val_accuracy: 0.5884 - lr: 0.0010 - 10s/epoch - 55ms/step
Epoch 25/25
176/176 - 10s - loss: 0.0061 - accuracy: 0.9595 - val_loss: 0.0728 - val_accuracy: 0.5822 - lr: 0.0010 - 10s/epoch - 55ms/step
Epoch 1/25
36/36 - 11s - loss: 0.0054 - accuracy: 0.9652 - val_loss: 0.0730 - val_accuracy: 0.5819 - lr: 0.0010 - 11s/epoch - 305ms/step
Epoch 2/25
36/36 - 9s - loss: 0.0048 - accuracy: 0.9693 - val_loss: 0.0729 - val_accuracy: 0.5825 - lr: 0.0010 - 9s/epoch - 237ms/step
Epoch 3/25
36/36 - 9s - loss: 0.0047 - accuracy: 0.9699 - val_loss: 0.0741 - val_accuracy: 0.5750 - lr: 0.0010 - 9s/epoch - 237ms/step
Epoch 4/25
36/36 - 9s - loss: 0.0045 - accuracy: 0.9712 - val_loss: 0.0731 - val_accuracy: 0.5819 - lr: 0.0010 - 9s/epoch - 238ms/step
Epoch 5/25
36/36 - 9s - loss: 0.0044 - accuracy: 0.9722 - val_loss: 0.0735 - val_accuracy: 0.5785 - lr: 0.0010 - 9s/epoch - 237ms/step
Epoch 6/25
36/36 - 9s - loss: 0.0045 - accuracy: 0.9716 - val_loss: 0.0728 - val_accuracy: 0.5834 - lr: 0.0010 - 9s/epoch - 236ms/step
Epoch 7/25
36/36 - 9s - loss: 0.0044 - accuracy: 0.9720 - val_loss: 0.0726 - val_accuracy: 0.5826 - lr: 0.0010 - 9s/epoch - 237ms/step
Epoch 8/25
36/36 - 9s - loss: 0.0044 - accuracy: 0.9720 - val_loss: 0.0728 - val_accuracy: 0.5823 - lr: 0.0010 - 9s/epoch - 238ms/step
Epoch 9/25
36/36 - 9s - loss: 0.0045 - accuracy: 0.9719 - val_loss: 0.0732 - val_accuracy: 0.5812 - lr: 0.0010 - 9s/epoch - 237ms/step
Epoch 10/25
36/36 - 9s - loss: 0.0042 - accuracy: 0.9731 - val_loss: 0.0731 - val_accuracy: 0.5814 - lr: 0.0010 - 9s/epoch - 238ms/step
Epoch 11/25
36/36 - 9s - loss: 0.0043 - accuracy: 0.9733 - val_loss: 0.0730 - val_accuracy: 0.5836 - lr: 0.0010 - 9s/epoch - 238ms/step
Epoch 12/25
36/36 - 9s - loss: 0.0043 - accuracy: 0.9730 - val_loss: 0.0721 - val_accuracy: 0.5869 - lr: 0.0010 - 9s/epoch - 239ms/step
Epoch 13/25
36/36 - 9s - loss: 0.0044 - accuracy: 0.9719 - val_loss: 0.0716 - val_accuracy: 0.5908 - lr: 0.0010 - 9s/epoch - 236ms/step
Epoch 14/25
36/36 - 9s - loss: 0.0044 - accuracy: 0.9725 - val_loss: 0.0731 - val_accuracy: 0.5819 - lr: 0.0010 - 9s/epoch - 237ms/step
Epoch 15/25
36/36 - 9s - loss: 0.0043 - accuracy: 0.9729 - val_loss: 0.0724 - val_accuracy: 0.5848 - lr: 0.0010 - 9s/epoch - 238ms/step
Epoch 16/25
36/36 - 9s - loss: 0.0044 - accuracy: 0.9719 - val_loss: 0.0719 - val_accuracy: 0.5894 - lr: 0.0010 - 9s/epoch - 238ms/step
Epoch 17/25
36/36 - 9s - loss: 0.0042 - accuracy: 0.9734 - val_loss: 0.0729 - val_accuracy: 0.5831 - lr: 0.0010 - 9s/epoch - 237ms/step
Epoch 18/25
36/36 - 9s - loss: 0.0040 - accuracy: 0.9749 - val_loss: 0.0725 - val_accuracy: 0.5866 - lr: 0.0010 - 9s/epoch - 237ms/step
Epoch 19/25
36/36 - 9s - loss: 0.0039 - accuracy: 0.9752 - val_loss: 0.0722 - val_accuracy: 0.5885 - lr: 0.0010 - 9s/epoch - 239ms/step
Epoch 20/25
36/36 - 9s - loss: 0.0042 - accuracy: 0.9731 - val_loss: 0.0732 - val_accuracy: 0.5809 - lr: 0.0010 - 9s/epoch - 237ms/step
Epoch 21/25
36/36 - 9s - loss: 0.0040 - accuracy: 0.9751 - val_loss: 0.0723 - val_accuracy: 0.5884 - lr: 0.0010 - 9s/epoch - 237ms/step
Epoch 22/25
36/36 - 9s - loss: 0.0040 - accuracy: 0.9752 - val_loss: 0.0733 - val_accuracy: 0.5823 - lr: 0.0010 - 9s/epoch - 239ms/step
Epoch 23/25
36/36 - 9s - loss: 0.0039 - accuracy: 0.9754 - val_loss: 0.0728 - val_accuracy: 0.5843 - lr: 0.0010 - 9s/epoch - 237ms/step
Epoch 24/25
36/36 - 9s - loss: 0.0041 - accuracy: 0.9739 - val_loss: 0.0734 - val_accuracy: 0.5817 - lr: 0.0010 - 9s/epoch - 239ms/step
Epoch 25/25
36/36 - 9s - loss: 0.0039 - accuracy: 0.9749 - val_loss: 0.0729 - val_accuracy: 0.5837 - lr: 0.0010 - 9s/epoch - 237ms/step
Epoch 1/50
4378/4378 - 81s - loss: 0.0160 - accuracy: 0.8931 - val_loss: 0.0726 - val_accuracy: 0.5572 - lr: 0.0010 - 81s/epoch - 18ms/step
Epoch 2/50
4378/4378 - 79s - loss: 0.0167 - accuracy: 0.8858 - val_loss: 0.0644 - val_accuracy: 0.5947 - lr: 0.0010 - 79s/epoch - 18ms/step
Epoch 3/50
4378/4378 - 80s - loss: 0.0170 - accuracy: 0.8820 - val_loss: 0.0636 - val_accuracy: 0.5898 - lr: 0.0010 - 80s/epoch - 18ms/step
Epoch 4/50
4378/4378 - 80s - loss: 0.0171 - accuracy: 0.8827 - val_loss: 0.0678 - val_accuracy: 0.5685 - lr: 0.0010 - 80s/epoch - 18ms/step
Epoch 5/50
4378/4378 - 80s - loss: 0.0175 - accuracy: 0.8791 - val_loss: 0.0621 - val_accuracy: 0.5916 - lr: 0.0010 - 80s/epoch - 18ms/step
Epoch 6/50
4378/4378 - 80s - loss: 0.0173 - accuracy: 0.8808 - val_loss: 0.0571 - val_accuracy: 0.6328 - lr: 0.0010 - 80s/epoch - 18ms/step
Epoch 7/50
4378/4378 - 80s - loss: 0.0174 - accuracy: 0.8800 - val_loss: 0.0553 - val_accuracy: 0.6332 - lr: 0.0010 - 80s/epoch - 18ms/step
Epoch 8/50
4378/4378 - 80s - loss: 0.0175 - accuracy: 0.8789 - val_loss: 0.0603 - val_accuracy: 0.6109 - lr: 0.0010 - 80s/epoch - 18ms/step
Epoch 9/50
4378/4378 - 80s - loss: 0.0175 - accuracy: 0.8791 - val_loss: 0.0576 - val_accuracy: 0.6270 - lr: 0.0010 - 80s/epoch - 18ms/step
Epoch 10/50
4378/4378 - 80s - loss: 0.0176 - accuracy: 0.8794 - val_loss: 0.0615 - val_accuracy: 0.5989 - lr: 0.0010 - 80s/epoch - 18ms/step
Epoch 11/50
4378/4378 - 80s - loss: 0.0176 - accuracy: 0.8793 - val_loss: 0.0656 - val_accuracy: 0.5727 - lr: 0.0010 - 80s/epoch - 18ms/step
Epoch 12/50
4378/4378 - 80s - loss: 0.0172 - accuracy: 0.8816 - val_loss: 0.0562 - val_accuracy: 0.6347 - lr: 0.0010 - 80s/epoch - 18ms/step
Epoch 13/50
4378/4378 - 80s - loss: 0.0175 - accuracy: 0.8800 - val_loss: 0.0568 - val_accuracy: 0.6388 - lr: 0.0010 - 80s/epoch - 18ms/step
Epoch 14/50
4378/4378 - 80s - loss: 0.0177 - accuracy: 0.8784 - val_loss: 0.0642 - val_accuracy: 0.5887 - lr: 0.0010 - 80s/epoch - 18ms/step
Epoch 15/50
4378/4378 - 81s - loss: 0.0177 - accuracy: 0.8787 - val_loss: 0.0605 - val_accuracy: 0.6150 - lr: 0.0010 - 81s/epoch - 18ms/step
Epoch 16/50
4378/4378 - 80s - loss: 0.0179 - accuracy: 0.8764 - val_loss: 0.0668 - val_accuracy: 0.5616 - lr: 0.0010 - 80s/epoch - 18ms/step
Epoch 17/50
4378/4378 - 80s - loss: 0.0176 - accuracy: 0.8787 - val_loss: 0.0575 - val_accuracy: 0.6210 - lr: 0.0010 - 80s/epoch - 18ms/step
Epoch 18/50
4378/4378 - 80s - loss: 0.0177 - accuracy: 0.8775 - val_loss: 0.0619 - val_accuracy: 0.5870 - lr: 0.0010 - 80s/epoch - 18ms/step
Epoch 19/50
4378/4378 - 80s - loss: 0.0177 - accuracy: 0.8785 - val_loss: 0.0604 - val_accuracy: 0.6068 - lr: 0.0010 - 80s/epoch - 18ms/step
Epoch 20/50
4378/4378 - 79s - loss: 0.0176 - accuracy: 0.8787 - val_loss: 0.0655 - val_accuracy: 0.5749 - lr: 0.0010 - 79s/epoch - 18ms/step
Epoch 21/50
4378/4378 - 80s - loss: 0.0175 - accuracy: 0.8795 - val_loss: 0.0647 - val_accuracy: 0.5810 - lr: 0.0010 - 80s/epoch - 18ms/step
Epoch 22/50
4378/4378 - 80s - loss: 0.0177 - accuracy: 0.8782 - val_loss: 0.0588 - val_accuracy: 0.6240 - lr: 0.0010 - 80s/epoch - 18ms/step
Epoch 23/50
4378/4378 - 81s - loss: 0.0175 - accuracy: 0.8797 - val_loss: 0.0569 - val_accuracy: 0.6328 - lr: 0.0010 - 81s/epoch - 18ms/step
Epoch 24/50
4378/4378 - 80s - loss: 0.0175 - accuracy: 0.8797 - val_loss: 0.0632 - val_accuracy: 0.5843 - lr: 0.0010 - 80s/epoch - 18ms/step
Epoch 25/50
4378/4378 - 79s - loss: 0.0178 - accuracy: 0.8769 - val_loss: 0.0623 - val_accuracy: 0.5909 - lr: 0.0010 - 79s/epoch - 18ms/step
Epoch 26/50
4378/4378 - 80s - loss: 0.0173 - accuracy: 0.8805 - val_loss: 0.0577 - val_accuracy: 0.6309 - lr: 0.0010 - 80s/epoch - 18ms/step
Epoch 27/50
4378/4378 - 80s - loss: 0.0174 - accuracy: 0.8800 - val_loss: 0.0682 - val_accuracy: 0.5524 - lr: 0.0010 - 80s/epoch - 18ms/step
Epoch 28/50
4378/4378 - 80s - loss: 0.0175 - accuracy: 0.8804 - val_loss: 0.0605 - val_accuracy: 0.6084 - lr: 0.0010 - 80s/epoch - 18ms/step
Epoch 29/50
4378/4378 - 80s - loss: 0.0174 - accuracy: 0.8798 - val_loss: 0.0559 - val_accuracy: 0.6347 - lr: 0.0010 - 80s/epoch - 18ms/step
Epoch 30/50
4378/4378 - 79s - loss: 0.0177 - accuracy: 0.8784 - val_loss: 0.0534 - val_accuracy: 0.6540 - lr: 0.0010 - 79s/epoch - 18ms/step
Epoch 31/50
4378/4378 - 80s - loss: 0.0173 - accuracy: 0.8805 - val_loss: 0.0551 - val_accuracy: 0.6443 - lr: 0.0010 - 80s/epoch - 18ms/step
Epoch 32/50
4378/4378 - 80s - loss: 0.0178 - accuracy: 0.8777 - val_loss: 0.0574 - val_accuracy: 0.6320 - lr: 0.0010 - 80s/epoch - 18ms/step
Epoch 33/50
4378/4378 - 80s - loss: 0.0179 - accuracy: 0.8764 - val_loss: 0.0548 - val_accuracy: 0.6415 - lr: 0.0010 - 80s/epoch - 18ms/step
Epoch 34/50
4378/4378 - 80s - loss: 0.0175 - accuracy: 0.8802 - val_loss: 0.0561 - val_accuracy: 0.6255 - lr: 0.0010 - 80s/epoch - 18ms/step
Epoch 35/50
4378/4378 - 81s - loss: 0.0175 - accuracy: 0.8795 - val_loss: 0.0565 - val_accuracy: 0.6394 - lr: 0.0010 - 81s/epoch - 19ms/step
Epoch 36/50
4378/4378 - 80s - loss: 0.0175 - accuracy: 0.8800 - val_loss: 0.0573 - val_accuracy: 0.6343 - lr: 0.0010 - 80s/epoch - 18ms/step
Epoch 37/50
4378/4378 - 80s - loss: 0.0173 - accuracy: 0.8813 - val_loss: 0.0563 - val_accuracy: 0.6324 - lr: 0.0010 - 80s/epoch - 18ms/step
Epoch 38/50
4378/4378 - 80s - loss: 0.0172 - accuracy: 0.8816 - val_loss: 0.0487 - val_accuracy: 0.6843 - lr: 0.0010 - 80s/epoch - 18ms/step
Epoch 39/50
4378/4378 - 81s - loss: 0.0177 - accuracy: 0.8781 - val_loss: 0.0580 - val_accuracy: 0.6205 - lr: 0.0010 - 81s/epoch - 18ms/step
Epoch 40/50
4378/4378 - 81s - loss: 0.0174 - accuracy: 0.8809 - val_loss: 0.0582 - val_accuracy: 0.6193 - lr: 0.0010 - 81s/epoch - 18ms/step
Epoch 41/50
4378/4378 - 80s - loss: 0.0176 - accuracy: 0.8796 - val_loss: 0.0569 - val_accuracy: 0.6244 - lr: 0.0010 - 80s/epoch - 18ms/step
Epoch 42/50
4378/4378 - 80s - loss: 0.0176 - accuracy: 0.8798 - val_loss: 0.0542 - val_accuracy: 0.6383 - lr: 0.0010 - 80s/epoch - 18ms/step
Epoch 43/50
4378/4378 - 80s - loss: 0.0175 - accuracy: 0.8801 - val_loss: 0.0602 - val_accuracy: 0.6077 - lr: 0.0010 - 80s/epoch - 18ms/step
Epoch 44/50
4378/4378 - 83s - loss: 0.0174 - accuracy: 0.8795 - val_loss: 0.0490 - val_accuracy: 0.6778 - lr: 0.0010 - 83s/epoch - 19ms/step
Epoch 45/50
4378/4378 - 82s - loss: 0.0173 - accuracy: 0.8812 - val_loss: 0.0578 - val_accuracy: 0.6153 - lr: 0.0010 - 82s/epoch - 19ms/step
Epoch 46/50
4378/4378 - 80s - loss: 0.0173 - accuracy: 0.8811 - val_loss: 0.0566 - val_accuracy: 0.6303 - lr: 0.0010 - 80s/epoch - 18ms/step
Epoch 47/50
4378/4378 - 84s - loss: 0.0172 - accuracy: 0.8819 - val_loss: 0.0565 - val_accuracy: 0.6362 - lr: 0.0010 - 84s/epoch - 19ms/step
Epoch 48/50
4378/4378 - 86s - loss: 0.0173 - accuracy: 0.8817 - val_loss: 0.0549 - val_accuracy: 0.6498 - lr: 0.0010 - 86s/epoch - 20ms/step
Epoch 49/50
4378/4378 - 84s - loss: 0.0175 - accuracy: 0.8802 - val_loss: 0.0605 - val_accuracy: 0.6066 - lr: 0.0010 - 84s/epoch - 19ms/step
Epoch 50/50
4378/4378 - 84s - loss: 0.0175 - accuracy: 0.8803 - val_loss: 0.0590 - val_accuracy: 0.6009 - lr: 0.0010 - 84s/epoch - 19ms/step
Epoch 1/50
876/876 - 23s - loss: 0.0126 - accuracy: 0.9158 - val_loss: 0.0618 - val_accuracy: 0.6028 - lr: 0.0010 - 23s/epoch - 26ms/step
Epoch 2/50
876/876 - 19s - loss: 0.0125 - accuracy: 0.9164 - val_loss: 0.0623 - val_accuracy: 0.6072 - lr: 0.0010 - 19s/epoch - 22ms/step
Epoch 3/50
876/876 - 19s - loss: 0.0121 - accuracy: 0.9183 - val_loss: 0.0667 - val_accuracy: 0.5800 - lr: 0.0010 - 19s/epoch - 21ms/step
Epoch 4/50
876/876 - 19s - loss: 0.0118 - accuracy: 0.9208 - val_loss: 0.0625 - val_accuracy: 0.6100 - lr: 0.0010 - 19s/epoch - 22ms/step
Epoch 5/50
876/876 - 18s - loss: 0.0116 - accuracy: 0.9224 - val_loss: 0.0659 - val_accuracy: 0.5957 - lr: 0.0010 - 18s/epoch - 21ms/step
Epoch 6/50
876/876 - 19s - loss: 0.0117 - accuracy: 0.9217 - val_loss: 0.0584 - val_accuracy: 0.6374 - lr: 0.0010 - 19s/epoch - 21ms/step
Epoch 7/50
876/876 - 19s - loss: 0.0114 - accuracy: 0.9237 - val_loss: 0.0599 - val_accuracy: 0.6287 - lr: 0.0010 - 19s/epoch - 22ms/step
Epoch 8/50
876/876 - 19s - loss: 0.0115 - accuracy: 0.9232 - val_loss: 0.0621 - val_accuracy: 0.6200 - lr: 0.0010 - 19s/epoch - 21ms/step
Epoch 9/50
876/876 - 19s - loss: 0.0114 - accuracy: 0.9238 - val_loss: 0.0599 - val_accuracy: 0.6352 - lr: 0.0010 - 19s/epoch - 21ms/step
Epoch 10/50
876/876 - 19s - loss: 0.0112 - accuracy: 0.9253 - val_loss: 0.0633 - val_accuracy: 0.6119 - lr: 0.0010 - 19s/epoch - 21ms/step
Epoch 11/50
876/876 - 19s - loss: 0.0112 - accuracy: 0.9247 - val_loss: 0.0569 - val_accuracy: 0.6525 - lr: 0.0010 - 19s/epoch - 21ms/step
Epoch 12/50
876/876 - 19s - loss: 0.0109 - accuracy: 0.9269 - val_loss: 0.0663 - val_accuracy: 0.5967 - lr: 0.0010 - 19s/epoch - 22ms/step
Epoch 13/50
876/876 - 19s - loss: 0.0111 - accuracy: 0.9261 - val_loss: 0.0660 - val_accuracy: 0.5978 - lr: 0.0010 - 19s/epoch - 22ms/step
Epoch 14/50
876/876 - 19s - loss: 0.0110 - accuracy: 0.9263 - val_loss: 0.0683 - val_accuracy: 0.5829 - lr: 0.0010 - 19s/epoch - 22ms/step
Epoch 15/50
876/876 - 19s - loss: 0.0109 - accuracy: 0.9269 - val_loss: 0.0653 - val_accuracy: 0.6020 - lr: 0.0010 - 19s/epoch - 22ms/step
Epoch 16/50
876/876 - 20s - loss: 0.0107 - accuracy: 0.9279 - val_loss: 0.0603 - val_accuracy: 0.6373 - lr: 0.0010 - 20s/epoch - 22ms/step
Epoch 17/50
876/876 - 21s - loss: 0.0106 - accuracy: 0.9288 - val_loss: 0.0672 - val_accuracy: 0.5875 - lr: 0.0010 - 21s/epoch - 24ms/step
Epoch 18/50
876/876 - 21s - loss: 0.0108 - accuracy: 0.9280 - val_loss: 0.0597 - val_accuracy: 0.6299 - lr: 0.0010 - 21s/epoch - 24ms/step
Epoch 19/50
876/876 - 20s - loss: 0.0109 - accuracy: 0.9270 - val_loss: 0.0646 - val_accuracy: 0.5991 - lr: 0.0010 - 20s/epoch - 22ms/step
Epoch 20/50
876/876 - 19s - loss: 0.0107 - accuracy: 0.9289 - val_loss: 0.0679 - val_accuracy: 0.5825 - lr: 0.0010 - 19s/epoch - 22ms/step
Epoch 21/50
876/876 - 20s - loss: 0.0105 - accuracy: 0.9298 - val_loss: 0.0619 - val_accuracy: 0.6244 - lr: 0.0010 - 20s/epoch - 23ms/step
Epoch 22/50
876/876 - 20s - loss: 0.0106 - accuracy: 0.9296 - val_loss: 0.0636 - val_accuracy: 0.6115 - lr: 0.0010 - 20s/epoch - 23ms/step
Epoch 23/50
876/876 - 20s - loss: 0.0106 - accuracy: 0.9295 - val_loss: 0.0723 - val_accuracy: 0.5586 - lr: 0.0010 - 20s/epoch - 23ms/step
Epoch 24/50
876/876 - 20s - loss: 0.0104 - accuracy: 0.9307 - val_loss: 0.0647 - val_accuracy: 0.6022 - lr: 0.0010 - 20s/epoch - 23ms/step
Epoch 25/50
876/876 - 20s - loss: 0.0104 - accuracy: 0.9311 - val_loss: 0.0657 - val_accuracy: 0.5950 - lr: 0.0010 - 20s/epoch - 23ms/step
Epoch 26/50
876/876 - 20s - loss: 0.0105 - accuracy: 0.9302 - val_loss: 0.0704 - val_accuracy: 0.5708 - lr: 0.0010 - 20s/epoch - 23ms/step
Epoch 27/50
876/876 - 20s - loss: 0.0105 - accuracy: 0.9301 - val_loss: 0.0649 - val_accuracy: 0.6033 - lr: 0.0010 - 20s/epoch - 23ms/step
Epoch 28/50
876/876 - 20s - loss: 0.0105 - accuracy: 0.9305 - val_loss: 0.0652 - val_accuracy: 0.5991 - lr: 0.0010 - 20s/epoch - 23ms/step
Epoch 29/50
876/876 - 20s - loss: 0.0104 - accuracy: 0.9306 - val_loss: 0.0619 - val_accuracy: 0.6228 - lr: 0.0010 - 20s/epoch - 23ms/step
Epoch 30/50
876/876 - 20s - loss: 0.0105 - accuracy: 0.9299 - val_loss: 0.0687 - val_accuracy: 0.5758 - lr: 0.0010 - 20s/epoch - 23ms/step
Epoch 31/50
876/876 - 21s - loss: 0.0105 - accuracy: 0.9306 - val_loss: 0.0699 - val_accuracy: 0.5714 - lr: 0.0010 - 21s/epoch - 24ms/step
Epoch 32/50
876/876 - 22s - loss: 0.0102 - accuracy: 0.9328 - val_loss: 0.0613 - val_accuracy: 0.6299 - lr: 0.0010 - 22s/epoch - 25ms/step
Epoch 33/50
876/876 - 21s - loss: 0.0105 - accuracy: 0.9294 - val_loss: 0.0646 - val_accuracy: 0.6103 - lr: 0.0010 - 21s/epoch - 24ms/step
Epoch 34/50
876/876 - 21s - loss: 0.0103 - accuracy: 0.9314 - val_loss: 0.0654 - val_accuracy: 0.6034 - lr: 0.0010 - 21s/epoch - 24ms/step
Epoch 35/50
876/876 - 21s - loss: 0.0103 - accuracy: 0.9314 - val_loss: 0.0652 - val_accuracy: 0.6057 - lr: 0.0010 - 21s/epoch - 24ms/step
Epoch 36/50
876/876 - 20s - loss: 0.0105 - accuracy: 0.9304 - val_loss: 0.0662 - val_accuracy: 0.5943 - lr: 0.0010 - 20s/epoch - 23ms/step
Epoch 37/50
876/876 - 20s - loss: 0.0102 - accuracy: 0.9323 - val_loss: 0.0666 - val_accuracy: 0.5938 - lr: 0.0010 - 20s/epoch - 23ms/step
Epoch 38/50
876/876 - 21s - loss: 0.0101 - accuracy: 0.9333 - val_loss: 0.0698 - val_accuracy: 0.5745 - lr: 0.0010 - 21s/epoch - 24ms/step
Epoch 39/50
876/876 - 20s - loss: 0.0104 - accuracy: 0.9309 - val_loss: 0.0662 - val_accuracy: 0.6003 - lr: 0.0010 - 20s/epoch - 23ms/step
Epoch 40/50
876/876 - 20s - loss: 0.0102 - accuracy: 0.9321 - val_loss: 0.0747 - val_accuracy: 0.5467 - lr: 0.0010 - 20s/epoch - 23ms/step
Epoch 41/50
876/876 - 20s - loss: 0.0100 - accuracy: 0.9335 - val_loss: 0.0643 - val_accuracy: 0.6138 - lr: 0.0010 - 20s/epoch - 23ms/step
Epoch 42/50
876/876 - 19s - loss: 0.0101 - accuracy: 0.9332 - val_loss: 0.0649 - val_accuracy: 0.6057 - lr: 0.0010 - 19s/epoch - 22ms/step
Epoch 43/50
876/876 - 19s - loss: 0.0102 - accuracy: 0.9314 - val_loss: 0.0643 - val_accuracy: 0.6060 - lr: 0.0010 - 19s/epoch - 21ms/step
Epoch 44/50
876/876 - 18s - loss: 0.0101 - accuracy: 0.9322 - val_loss: 0.0693 - val_accuracy: 0.5775 - lr: 0.0010 - 18s/epoch - 21ms/step
Epoch 45/50
876/876 - 18s - loss: 0.0099 - accuracy: 0.9343 - val_loss: 0.0630 - val_accuracy: 0.6143 - lr: 0.0010 - 18s/epoch - 21ms/step
Epoch 46/50
876/876 - 20s - loss: 0.0100 - accuracy: 0.9332 - val_loss: 0.0721 - val_accuracy: 0.5630 - lr: 0.0010 - 20s/epoch - 23ms/step
Epoch 47/50
876/876 - 21s - loss: 0.0100 - accuracy: 0.9338 - val_loss: 0.0654 - val_accuracy: 0.6020 - lr: 0.0010 - 21s/epoch - 24ms/step
Epoch 48/50
876/876 - 20s - loss: 0.0101 - accuracy: 0.9323 - val_loss: 0.0722 - val_accuracy: 0.5625 - lr: 0.0010 - 20s/epoch - 23ms/step
Epoch 49/50
876/876 - 20s - loss: 0.0099 - accuracy: 0.9340 - val_loss: 0.0686 - val_accuracy: 0.5838 - lr: 0.0010 - 20s/epoch - 23ms/step
Epoch 50/50
876/876 - 19s - loss: 0.0101 - accuracy: 0.9323 - val_loss: 0.0675 - val_accuracy: 0.5875 - lr: 0.0010 - 19s/epoch - 22ms/step
Epoch 1/50
176/176 - 13s - loss: 0.0076 - accuracy: 0.9511 - val_loss: 0.0681 - val_accuracy: 0.5898 - lr: 0.0010 - 13s/epoch - 73ms/step
Epoch 2/50
176/176 - 11s - loss: 0.0066 - accuracy: 0.9580 - val_loss: 0.0700 - val_accuracy: 0.5792 - lr: 0.0010 - 11s/epoch - 62ms/step
Epoch 3/50
176/176 - 12s - loss: 0.0063 - accuracy: 0.9605 - val_loss: 0.0711 - val_accuracy: 0.5739 - lr: 0.0010 - 12s/epoch - 65ms/step
Epoch 4/50
176/176 - 12s - loss: 0.0063 - accuracy: 0.9605 - val_loss: 0.0690 - val_accuracy: 0.5893 - lr: 0.0010 - 12s/epoch - 66ms/step
Epoch 5/50
176/176 - 12s - loss: 0.0062 - accuracy: 0.9607 - val_loss: 0.0710 - val_accuracy: 0.5766 - lr: 0.0010 - 12s/epoch - 69ms/step
Epoch 6/50
176/176 - 10s - loss: 0.0062 - accuracy: 0.9607 - val_loss: 0.0700 - val_accuracy: 0.5862 - lr: 0.0010 - 10s/epoch - 58ms/step
Epoch 7/50
176/176 - 13s - loss: 0.0066 - accuracy: 0.9574 - val_loss: 0.0694 - val_accuracy: 0.5898 - lr: 0.0010 - 13s/epoch - 72ms/step
Epoch 8/50
176/176 - 12s - loss: 0.0065 - accuracy: 0.9582 - val_loss: 0.0697 - val_accuracy: 0.5936 - lr: 0.0010 - 12s/epoch - 68ms/step
Epoch 9/50
176/176 - 11s - loss: 0.0066 - accuracy: 0.9575 - val_loss: 0.0743 - val_accuracy: 0.5636 - lr: 0.0010 - 11s/epoch - 65ms/step
Epoch 10/50
176/176 - 11s - loss: 0.0067 - accuracy: 0.9570 - val_loss: 0.0704 - val_accuracy: 0.5870 - lr: 0.0010 - 11s/epoch - 64ms/step
Epoch 11/50
176/176 - 11s - loss: 0.0065 - accuracy: 0.9584 - val_loss: 0.0744 - val_accuracy: 0.5653 - lr: 0.0010 - 11s/epoch - 64ms/step
Epoch 12/50
176/176 - 12s - loss: 0.0065 - accuracy: 0.9586 - val_loss: 0.0734 - val_accuracy: 0.5723 - lr: 0.0010 - 12s/epoch - 65ms/step
Epoch 13/50
176/176 - 11s - loss: 0.0065 - accuracy: 0.9587 - val_loss: 0.0710 - val_accuracy: 0.5850 - lr: 0.0010 - 11s/epoch - 65ms/step
Epoch 14/50
176/176 - 11s - loss: 0.0063 - accuracy: 0.9600 - val_loss: 0.0672 - val_accuracy: 0.6085 - lr: 0.0010 - 11s/epoch - 64ms/step
Epoch 15/50
176/176 - 12s - loss: 0.0065 - accuracy: 0.9586 - val_loss: 0.0743 - val_accuracy: 0.5658 - lr: 0.0010 - 12s/epoch - 66ms/step
Epoch 16/50
176/176 - 12s - loss: 0.0064 - accuracy: 0.9594 - val_loss: 0.0716 - val_accuracy: 0.5850 - lr: 0.0010 - 12s/epoch - 66ms/step
Epoch 17/50
176/176 - 14s - loss: 0.0062 - accuracy: 0.9606 - val_loss: 0.0718 - val_accuracy: 0.5831 - lr: 0.0010 - 14s/epoch - 79ms/step
Epoch 18/50
176/176 - 12s - loss: 0.0065 - accuracy: 0.9581 - val_loss: 0.0693 - val_accuracy: 0.5982 - lr: 0.0010 - 12s/epoch - 69ms/step
Epoch 19/50
176/176 - 12s - loss: 0.0064 - accuracy: 0.9587 - val_loss: 0.0704 - val_accuracy: 0.5888 - lr: 0.0010 - 12s/epoch - 68ms/step
Epoch 20/50
176/176 - 9s - loss: 0.0062 - accuracy: 0.9607 - val_loss: 0.0695 - val_accuracy: 0.5947 - lr: 0.0010 - 9s/epoch - 50ms/step
Epoch 21/50
176/176 - 9s - loss: 0.0064 - accuracy: 0.9584 - val_loss: 0.0716 - val_accuracy: 0.5801 - lr: 0.0010 - 9s/epoch - 50ms/step
Epoch 22/50
176/176 - 9s - loss: 0.0063 - accuracy: 0.9594 - val_loss: 0.0692 - val_accuracy: 0.5958 - lr: 0.0010 - 9s/epoch - 49ms/step
Epoch 23/50
176/176 - 9s - loss: 0.0063 - accuracy: 0.9603 - val_loss: 0.0717 - val_accuracy: 0.5848 - lr: 0.0010 - 9s/epoch - 49ms/step
Epoch 24/50
176/176 - 9s - loss: 0.0064 - accuracy: 0.9594 - val_loss: 0.0724 - val_accuracy: 0.5780 - lr: 0.0010 - 9s/epoch - 51ms/step
Epoch 25/50
176/176 - 9s - loss: 0.0063 - accuracy: 0.9595 - val_loss: 0.0715 - val_accuracy: 0.5848 - lr: 0.0010 - 9s/epoch - 51ms/step
Epoch 26/50
176/176 - 9s - loss: 0.0063 - accuracy: 0.9598 - val_loss: 0.0726 - val_accuracy: 0.5777 - lr: 0.0010 - 9s/epoch - 50ms/step
Epoch 27/50
176/176 - 9s - loss: 0.0062 - accuracy: 0.9602 - val_loss: 0.0683 - val_accuracy: 0.6036 - lr: 0.0010 - 9s/epoch - 52ms/step
Epoch 28/50
176/176 - 10s - loss: 0.0062 - accuracy: 0.9602 - val_loss: 0.0717 - val_accuracy: 0.5816 - lr: 0.0010 - 10s/epoch - 56ms/step
Epoch 29/50
176/176 - 10s - loss: 0.0063 - accuracy: 0.9601 - val_loss: 0.0734 - val_accuracy: 0.5740 - lr: 0.0010 - 10s/epoch - 58ms/step
Epoch 30/50
176/176 - 11s - loss: 0.0062 - accuracy: 0.9599 - val_loss: 0.0704 - val_accuracy: 0.5925 - lr: 0.0010 - 11s/epoch - 65ms/step
Epoch 31/50
176/176 - 12s - loss: 0.0063 - accuracy: 0.9594 - val_loss: 0.0710 - val_accuracy: 0.5889 - lr: 0.0010 - 12s/epoch - 70ms/step
Epoch 32/50
176/176 - 12s - loss: 0.0062 - accuracy: 0.9604 - val_loss: 0.0717 - val_accuracy: 0.5846 - lr: 0.0010 - 12s/epoch - 70ms/step
Epoch 33/50
176/176 - 12s - loss: 0.0061 - accuracy: 0.9613 - val_loss: 0.0708 - val_accuracy: 0.5894 - lr: 0.0010 - 12s/epoch - 69ms/step
Epoch 34/50
176/176 - 12s - loss: 0.0061 - accuracy: 0.9611 - val_loss: 0.0729 - val_accuracy: 0.5788 - lr: 0.0010 - 12s/epoch - 70ms/step
Epoch 35/50
176/176 - 12s - loss: 0.0060 - accuracy: 0.9617 - val_loss: 0.0711 - val_accuracy: 0.5885 - lr: 0.0010 - 12s/epoch - 71ms/step
Epoch 36/50
176/176 - 12s - loss: 0.0061 - accuracy: 0.9606 - val_loss: 0.0710 - val_accuracy: 0.5904 - lr: 0.0010 - 12s/epoch - 69ms/step
Epoch 37/50
176/176 - 12s - loss: 0.0060 - accuracy: 0.9618 - val_loss: 0.0761 - val_accuracy: 0.5599 - lr: 0.0010 - 12s/epoch - 70ms/step
Epoch 38/50
176/176 - 12s - loss: 0.0061 - accuracy: 0.9611 - val_loss: 0.0724 - val_accuracy: 0.5808 - lr: 0.0010 - 12s/epoch - 67ms/step
Epoch 39/50
176/176 - 10s - loss: 0.0061 - accuracy: 0.9610 - val_loss: 0.0704 - val_accuracy: 0.5921 - lr: 0.0010 - 10s/epoch - 57ms/step
Epoch 40/50
176/176 - 10s - loss: 0.0061 - accuracy: 0.9607 - val_loss: 0.0675 - val_accuracy: 0.6115 - lr: 0.0010 - 10s/epoch - 57ms/step
Epoch 41/50
176/176 - 10s - loss: 0.0058 - accuracy: 0.9631 - val_loss: 0.0720 - val_accuracy: 0.5837 - lr: 0.0010 - 10s/epoch - 57ms/step
Epoch 42/50
176/176 - 13s - loss: 0.0059 - accuracy: 0.9619 - val_loss: 0.0708 - val_accuracy: 0.5909 - lr: 0.0010 - 13s/epoch - 75ms/step
Epoch 43/50
176/176 - 12s - loss: 0.0060 - accuracy: 0.9624 - val_loss: 0.0692 - val_accuracy: 0.5986 - lr: 0.0010 - 12s/epoch - 68ms/step
Epoch 44/50
176/176 - 12s - loss: 0.0058 - accuracy: 0.9629 - val_loss: 0.0743 - val_accuracy: 0.5704 - lr: 0.0010 - 12s/epoch - 68ms/step
Epoch 45/50
176/176 - 12s - loss: 0.0058 - accuracy: 0.9632 - val_loss: 0.0713 - val_accuracy: 0.5901 - lr: 0.0010 - 12s/epoch - 68ms/step
Epoch 46/50
176/176 - 12s - loss: 0.0054 - accuracy: 0.9661 - val_loss: 0.0720 - val_accuracy: 0.5848 - lr: 0.0010 - 12s/epoch - 68ms/step
Epoch 47/50
176/176 - 12s - loss: 0.0055 - accuracy: 0.9655 - val_loss: 0.0707 - val_accuracy: 0.5929 - lr: 0.0010 - 12s/epoch - 68ms/step
Epoch 48/50
176/176 - 12s - loss: 0.0057 - accuracy: 0.9634 - val_loss: 0.0773 - val_accuracy: 0.5559 - lr: 0.0010 - 12s/epoch - 68ms/step
Epoch 49/50
176/176 - 12s - loss: 0.0056 - accuracy: 0.9637 - val_loss: 0.0702 - val_accuracy: 0.5955 - lr: 0.0010 - 12s/epoch - 68ms/step
Epoch 50/50
176/176 - 12s - loss: 0.0056 - accuracy: 0.9645 - val_loss: 0.0722 - val_accuracy: 0.5859 - lr: 0.0010 - 12s/epoch - 67ms/step
Epoch 1/50
36/36 - 14s - loss: 0.0051 - accuracy: 0.9680 - val_loss: 0.0722 - val_accuracy: 0.5849 - lr: 0.0010 - 14s/epoch - 397ms/step
Epoch 2/50
36/36 - 10s - loss: 0.0047 - accuracy: 0.9706 - val_loss: 0.0727 - val_accuracy: 0.5819 - lr: 0.0010 - 10s/epoch - 290ms/step
Epoch 3/50
36/36 - 10s - loss: 0.0045 - accuracy: 0.9722 - val_loss: 0.0736 - val_accuracy: 0.5781 - lr: 0.0010 - 10s/epoch - 291ms/step
Epoch 4/50
36/36 - 10s - loss: 0.0044 - accuracy: 0.9731 - val_loss: 0.0726 - val_accuracy: 0.5828 - lr: 0.0010 - 10s/epoch - 291ms/step
Epoch 5/50
36/36 - 11s - loss: 0.0044 - accuracy: 0.9731 - val_loss: 0.0725 - val_accuracy: 0.5835 - lr: 0.0010 - 11s/epoch - 293ms/step
Epoch 6/50
36/36 - 10s - loss: 0.0044 - accuracy: 0.9730 - val_loss: 0.0735 - val_accuracy: 0.5793 - lr: 0.0010 - 10s/epoch - 290ms/step
Epoch 7/50
36/36 - 10s - loss: 0.0043 - accuracy: 0.9731 - val_loss: 0.0723 - val_accuracy: 0.5843 - lr: 0.0010 - 10s/epoch - 292ms/step
Epoch 8/50
36/36 - 10s - loss: 0.0042 - accuracy: 0.9743 - val_loss: 0.0721 - val_accuracy: 0.5848 - lr: 0.0010 - 10s/epoch - 289ms/step
Epoch 9/50
36/36 - 10s - loss: 0.0042 - accuracy: 0.9743 - val_loss: 0.0720 - val_accuracy: 0.5852 - lr: 0.0010 - 10s/epoch - 291ms/step
Epoch 10/50
36/36 - 10s - loss: 0.0045 - accuracy: 0.9722 - val_loss: 0.0734 - val_accuracy: 0.5804 - lr: 0.0010 - 10s/epoch - 289ms/step
Epoch 11/50
36/36 - 10s - loss: 0.0042 - accuracy: 0.9739 - val_loss: 0.0722 - val_accuracy: 0.5875 - lr: 0.0010 - 10s/epoch - 291ms/step
Epoch 12/50
36/36 - 10s - loss: 0.0042 - accuracy: 0.9745 - val_loss: 0.0733 - val_accuracy: 0.5822 - lr: 0.0010 - 10s/epoch - 287ms/step
Epoch 13/50
36/36 - 10s - loss: 0.0041 - accuracy: 0.9745 - val_loss: 0.0743 - val_accuracy: 0.5740 - lr: 0.0010 - 10s/epoch - 290ms/step
Epoch 14/50
36/36 - 10s - loss: 0.0041 - accuracy: 0.9743 - val_loss: 0.0745 - val_accuracy: 0.5732 - lr: 0.0010 - 10s/epoch - 287ms/step
Epoch 15/50
36/36 - 11s - loss: 0.0041 - accuracy: 0.9749 - val_loss: 0.0744 - val_accuracy: 0.5746 - lr: 0.0010 - 11s/epoch - 292ms/step
Epoch 16/50
36/36 - 10s - loss: 0.0041 - accuracy: 0.9750 - val_loss: 0.0744 - val_accuracy: 0.5767 - lr: 0.0010 - 10s/epoch - 287ms/step
Epoch 17/50
36/36 - 10s - loss: 0.0042 - accuracy: 0.9743 - val_loss: 0.0744 - val_accuracy: 0.5743 - lr: 0.0010 - 10s/epoch - 288ms/step
Epoch 18/50
36/36 - 10s - loss: 0.0041 - accuracy: 0.9744 - val_loss: 0.0732 - val_accuracy: 0.5816 - lr: 0.0010 - 10s/epoch - 288ms/step
Epoch 19/50
36/36 - 10s - loss: 0.0040 - accuracy: 0.9756 - val_loss: 0.0741 - val_accuracy: 0.5774 - lr: 0.0010 - 10s/epoch - 289ms/step
Epoch 20/50
36/36 - 10s - loss: 0.0041 - accuracy: 0.9749 - val_loss: 0.0745 - val_accuracy: 0.5734 - lr: 0.0010 - 10s/epoch - 291ms/step
Epoch 21/50
36/36 - 10s - loss: 0.0043 - accuracy: 0.9735 - val_loss: 0.0755 - val_accuracy: 0.5680 - lr: 0.0010 - 10s/epoch - 287ms/step
Epoch 22/50
36/36 - 10s - loss: 0.0042 - accuracy: 0.9743 - val_loss: 0.0745 - val_accuracy: 0.5745 - lr: 0.0010 - 10s/epoch - 290ms/step
Epoch 23/50
36/36 - 11s - loss: 0.0040 - accuracy: 0.9753 - val_loss: 0.0737 - val_accuracy: 0.5770 - lr: 0.0010 - 11s/epoch - 292ms/step
Epoch 24/50
36/36 - 11s - loss: 0.0041 - accuracy: 0.9748 - val_loss: 0.0753 - val_accuracy: 0.5693 - lr: 0.0010 - 11s/epoch - 293ms/step
Epoch 25/50
36/36 - 10s - loss: 0.0040 - accuracy: 0.9749 - val_loss: 0.0747 - val_accuracy: 0.5719 - lr: 0.0010 - 10s/epoch - 288ms/step
Epoch 26/50
36/36 - 10s - loss: 0.0040 - accuracy: 0.9758 - val_loss: 0.0741 - val_accuracy: 0.5764 - lr: 0.0010 - 10s/epoch - 289ms/step
Epoch 27/50
36/36 - 10s - loss: 0.0040 - accuracy: 0.9750 - val_loss: 0.0742 - val_accuracy: 0.5761 - lr: 0.0010 - 10s/epoch - 289ms/step
Epoch 28/50
36/36 - 10s - loss: 0.0041 - accuracy: 0.9749 - val_loss: 0.0741 - val_accuracy: 0.5779 - lr: 0.0010 - 10s/epoch - 291ms/step
Epoch 29/50
36/36 - 10s - loss: 0.0041 - accuracy: 0.9749 - val_loss: 0.0744 - val_accuracy: 0.5772 - lr: 0.0010 - 10s/epoch - 290ms/step
Epoch 30/50
36/36 - 10s - loss: 0.0042 - accuracy: 0.9746 - val_loss: 0.0758 - val_accuracy: 0.5664 - lr: 0.0010 - 10s/epoch - 291ms/step
Epoch 31/50
36/36 - 10s - loss: 0.0040 - accuracy: 0.9752 - val_loss: 0.0748 - val_accuracy: 0.5731 - lr: 0.0010 - 10s/epoch - 291ms/step
Epoch 32/50
36/36 - 11s - loss: 0.0040 - accuracy: 0.9754 - val_loss: 0.0751 - val_accuracy: 0.5720 - lr: 0.0010 - 11s/epoch - 292ms/step
Epoch 33/50
36/36 - 10s - loss: 0.0039 - accuracy: 0.9762 - val_loss: 0.0748 - val_accuracy: 0.5736 - lr: 0.0010 - 10s/epoch - 291ms/step
Epoch 34/50
36/36 - 10s - loss: 0.0039 - accuracy: 0.9757 - val_loss: 0.0742 - val_accuracy: 0.5765 - lr: 0.0010 - 10s/epoch - 289ms/step
Epoch 35/50
36/36 - 10s - loss: 0.0038 - accuracy: 0.9767 - val_loss: 0.0753 - val_accuracy: 0.5714 - lr: 0.0010 - 10s/epoch - 290ms/step
Epoch 36/50
36/36 - 10s - loss: 0.0041 - accuracy: 0.9750 - val_loss: 0.0756 - val_accuracy: 0.5687 - lr: 0.0010 - 10s/epoch - 290ms/step
Epoch 37/50
36/36 - 10s - loss: 0.0040 - accuracy: 0.9755 - val_loss: 0.0745 - val_accuracy: 0.5759 - lr: 0.0010 - 10s/epoch - 289ms/step
Epoch 38/50
36/36 - 10s - loss: 0.0042 - accuracy: 0.9741 - val_loss: 0.0739 - val_accuracy: 0.5800 - lr: 0.0010 - 10s/epoch - 290ms/step
Epoch 39/50
36/36 - 10s - loss: 0.0040 - accuracy: 0.9753 - val_loss: 0.0750 - val_accuracy: 0.5731 - lr: 0.0010 - 10s/epoch - 290ms/step
Epoch 40/50
36/36 - 10s - loss: 0.0039 - accuracy: 0.9757 - val_loss: 0.0762 - val_accuracy: 0.5666 - lr: 0.0010 - 10s/epoch - 290ms/step
Epoch 41/50
36/36 - 10s - loss: 0.0039 - accuracy: 0.9766 - val_loss: 0.0761 - val_accuracy: 0.5666 - lr: 0.0010 - 10s/epoch - 287ms/step
Epoch 42/50
36/36 - 10s - loss: 0.0038 - accuracy: 0.9762 - val_loss: 0.0757 - val_accuracy: 0.5695 - lr: 0.0010 - 10s/epoch - 290ms/step
Epoch 43/50
36/36 - 10s - loss: 0.0038 - accuracy: 0.9761 - val_loss: 0.0760 - val_accuracy: 0.5676 - lr: 0.0010 - 10s/epoch - 289ms/step
Epoch 44/50
36/36 - 10s - loss: 0.0038 - accuracy: 0.9766 - val_loss: 0.0757 - val_accuracy: 0.5685 - lr: 0.0010 - 10s/epoch - 290ms/step
Epoch 45/50
36/36 - 10s - loss: 0.0039 - accuracy: 0.9765 - val_loss: 0.0764 - val_accuracy: 0.5659 - lr: 0.0010 - 10s/epoch - 289ms/step
Epoch 46/50
36/36 - 10s - loss: 0.0040 - accuracy: 0.9755 - val_loss: 0.0757 - val_accuracy: 0.5702 - lr: 0.0010 - 10s/epoch - 290ms/step
Epoch 47/50
36/36 - 10s - loss: 0.0041 - accuracy: 0.9746 - val_loss: 0.0775 - val_accuracy: 0.5613 - lr: 0.0010 - 10s/epoch - 290ms/step
Epoch 48/50
36/36 - 11s - loss: 0.0040 - accuracy: 0.9752 - val_loss: 0.0757 - val_accuracy: 0.5706 - lr: 0.0010 - 11s/epoch - 292ms/step
Epoch 49/50
36/36 - 10s - loss: 0.0039 - accuracy: 0.9764 - val_loss: 0.0747 - val_accuracy: 0.5745 - lr: 0.0010 - 10s/epoch - 288ms/step
Epoch 50/50
36/36 - 10s - loss: 0.0038 - accuracy: 0.9765 - val_loss: 0.0758 - val_accuracy: 0.5700 - lr: 0.0010 - 10s/epoch - 291ms/step
Epoch 1/75
4378/4378 - 79s - loss: 0.0159 - accuracy: 0.8965 - val_loss: 0.0653 - val_accuracy: 0.6103 - lr: 0.0010 - 79s/epoch - 18ms/step
Epoch 2/75
4378/4378 - 77s - loss: 0.0162 - accuracy: 0.8896 - val_loss: 0.0674 - val_accuracy: 0.5729 - lr: 0.0010 - 77s/epoch - 18ms/step
Epoch 3/75
4378/4378 - 77s - loss: 0.0167 - accuracy: 0.8867 - val_loss: 0.0594 - val_accuracy: 0.6269 - lr: 0.0010 - 77s/epoch - 18ms/step
Epoch 4/75
4378/4378 - 77s - loss: 0.0167 - accuracy: 0.8851 - val_loss: 0.0589 - val_accuracy: 0.6232 - lr: 0.0010 - 77s/epoch - 18ms/step
Epoch 5/75
4378/4378 - 77s - loss: 0.0166 - accuracy: 0.8871 - val_loss: 0.0572 - val_accuracy: 0.6291 - lr: 0.0010 - 77s/epoch - 18ms/step
Epoch 6/75
4378/4378 - 77s - loss: 0.0167 - accuracy: 0.8871 - val_loss: 0.0645 - val_accuracy: 0.5846 - lr: 0.0010 - 77s/epoch - 18ms/step
Epoch 7/75
4378/4378 - 77s - loss: 0.0169 - accuracy: 0.8849 - val_loss: 0.0617 - val_accuracy: 0.5991 - lr: 0.0010 - 77s/epoch - 18ms/step
Epoch 8/75
4378/4378 - 76s - loss: 0.0172 - accuracy: 0.8818 - val_loss: 0.0587 - val_accuracy: 0.6182 - lr: 0.0010 - 76s/epoch - 17ms/step
Epoch 9/75
4378/4378 - 77s - loss: 0.0169 - accuracy: 0.8843 - val_loss: 0.0569 - val_accuracy: 0.6344 - lr: 0.0010 - 77s/epoch - 18ms/step
Epoch 10/75
4378/4378 - 77s - loss: 0.0168 - accuracy: 0.8851 - val_loss: 0.0604 - val_accuracy: 0.6163 - lr: 0.0010 - 77s/epoch - 18ms/step
Epoch 11/75
4378/4378 - 77s - loss: 0.0167 - accuracy: 0.8859 - val_loss: 0.0635 - val_accuracy: 0.5853 - lr: 0.0010 - 77s/epoch - 18ms/step
Epoch 12/75
4378/4378 - 77s - loss: 0.0169 - accuracy: 0.8844 - val_loss: 0.0490 - val_accuracy: 0.6908 - lr: 0.0010 - 77s/epoch - 18ms/step
Epoch 13/75
4378/4378 - 77s - loss: 0.0166 - accuracy: 0.8861 - val_loss: 0.0544 - val_accuracy: 0.6512 - lr: 0.0010 - 77s/epoch - 18ms/step
Epoch 14/75
4378/4378 - 77s - loss: 0.0169 - accuracy: 0.8851 - val_loss: 0.0538 - val_accuracy: 0.6538 - lr: 0.0010 - 77s/epoch - 18ms/step
Epoch 15/75
4378/4378 - 77s - loss: 0.0166 - accuracy: 0.8867 - val_loss: 0.0583 - val_accuracy: 0.6231 - lr: 0.0010 - 77s/epoch - 18ms/step
Epoch 16/75
4378/4378 - 77s - loss: 0.0167 - accuracy: 0.8859 - val_loss: 0.0531 - val_accuracy: 0.6593 - lr: 0.0010 - 77s/epoch - 18ms/step
Epoch 17/75
4378/4378 - 77s - loss: 0.0169 - accuracy: 0.8848 - val_loss: 0.0609 - val_accuracy: 0.6060 - lr: 0.0010 - 77s/epoch - 18ms/step
Epoch 18/75
4378/4378 - 77s - loss: 0.0170 - accuracy: 0.8821 - val_loss: 0.0592 - val_accuracy: 0.6193 - lr: 0.0010 - 77s/epoch - 18ms/step
Epoch 19/75
4378/4378 - 77s - loss: 0.0168 - accuracy: 0.8846 - val_loss: 0.0658 - val_accuracy: 0.5795 - lr: 0.0010 - 77s/epoch - 18ms/step
Epoch 20/75
4378/4378 - 77s - loss: 0.0170 - accuracy: 0.8837 - val_loss: 0.0671 - val_accuracy: 0.5623 - lr: 0.0010 - 77s/epoch - 18ms/step
Epoch 21/75
4378/4378 - 77s - loss: 0.0170 - accuracy: 0.8836 - val_loss: 0.0664 - val_accuracy: 0.5671 - lr: 0.0010 - 77s/epoch - 18ms/step
Epoch 22/75
4378/4378 - 77s - loss: 0.0168 - accuracy: 0.8855 - val_loss: 0.0545 - val_accuracy: 0.6450 - lr: 0.0010 - 77s/epoch - 18ms/step
Epoch 23/75
4378/4378 - 77s - loss: 0.0169 - accuracy: 0.8850 - val_loss: 0.0602 - val_accuracy: 0.6047 - lr: 0.0010 - 77s/epoch - 18ms/step
Epoch 24/75
4378/4378 - 77s - loss: 0.0167 - accuracy: 0.8854 - val_loss: 0.0618 - val_accuracy: 0.6056 - lr: 0.0010 - 77s/epoch - 18ms/step
Epoch 25/75
4378/4378 - 77s - loss: 0.0171 - accuracy: 0.8832 - val_loss: 0.0494 - val_accuracy: 0.6813 - lr: 0.0010 - 77s/epoch - 18ms/step
Epoch 26/75
4378/4378 - 77s - loss: 0.0171 - accuracy: 0.8828 - val_loss: 0.0556 - val_accuracy: 0.6446 - lr: 0.0010 - 77s/epoch - 18ms/step
Epoch 27/75
4378/4378 - 77s - loss: 0.0170 - accuracy: 0.8846 - val_loss: 0.0493 - val_accuracy: 0.6897 - lr: 0.0010 - 77s/epoch - 18ms/step
Epoch 28/75
4378/4378 - 77s - loss: 0.0170 - accuracy: 0.8839 - val_loss: 0.0554 - val_accuracy: 0.6371 - lr: 0.0010 - 77s/epoch - 18ms/step
Epoch 29/75
4378/4378 - 77s - loss: 0.0172 - accuracy: 0.8836 - val_loss: 0.0662 - val_accuracy: 0.5587 - lr: 0.0010 - 77s/epoch - 18ms/step
Epoch 30/75
4378/4378 - 77s - loss: 0.0166 - accuracy: 0.8868 - val_loss: 0.0612 - val_accuracy: 0.6069 - lr: 0.0010 - 77s/epoch - 18ms/step
Epoch 31/75
4378/4378 - 77s - loss: 0.0166 - accuracy: 0.8868 - val_loss: 0.0590 - val_accuracy: 0.6074 - lr: 0.0010 - 77s/epoch - 18ms/step
Epoch 32/75
4378/4378 - 77s - loss: 0.0170 - accuracy: 0.8844 - val_loss: 0.0588 - val_accuracy: 0.6205 - lr: 0.0010 - 77s/epoch - 18ms/step
Epoch 33/75
4378/4378 - 77s - loss: 0.0171 - accuracy: 0.8840 - val_loss: 0.0640 - val_accuracy: 0.5767 - lr: 0.0010 - 77s/epoch - 18ms/step
Epoch 34/75
4378/4378 - 77s - loss: 0.0168 - accuracy: 0.8863 - val_loss: 0.0603 - val_accuracy: 0.6084 - lr: 0.0010 - 77s/epoch - 18ms/step
Epoch 35/75
4378/4378 - 77s - loss: 0.0170 - accuracy: 0.8847 - val_loss: 0.0593 - val_accuracy: 0.6132 - lr: 0.0010 - 77s/epoch - 18ms/step
Epoch 36/75
4378/4378 - 77s - loss: 0.0170 - accuracy: 0.8828 - val_loss: 0.0620 - val_accuracy: 0.5905 - lr: 0.0010 - 77s/epoch - 18ms/step
Epoch 37/75
4378/4378 - 77s - loss: 0.0168 - accuracy: 0.8865 - val_loss: 0.0601 - val_accuracy: 0.6118 - lr: 0.0010 - 77s/epoch - 18ms/step
Epoch 38/75
4378/4378 - 78s - loss: 0.0173 - accuracy: 0.8819 - val_loss: 0.0655 - val_accuracy: 0.5764 - lr: 0.0010 - 78s/epoch - 18ms/step
Epoch 39/75
4378/4378 - 78s - loss: 0.0168 - accuracy: 0.8861 - val_loss: 0.0548 - val_accuracy: 0.6479 - lr: 0.0010 - 78s/epoch - 18ms/step
Epoch 40/75
4378/4378 - 77s - loss: 0.0171 - accuracy: 0.8838 - val_loss: 0.0513 - val_accuracy: 0.6550 - lr: 0.0010 - 77s/epoch - 18ms/step
Epoch 41/75
4378/4378 - 77s - loss: 0.0174 - accuracy: 0.8811 - val_loss: 0.0533 - val_accuracy: 0.6636 - lr: 0.0010 - 77s/epoch - 18ms/step
Epoch 42/75
4378/4378 - 77s - loss: 0.0167 - accuracy: 0.8861 - val_loss: 0.0591 - val_accuracy: 0.6135 - lr: 0.0010 - 77s/epoch - 18ms/step
Epoch 43/75
4378/4378 - 77s - loss: 0.0170 - accuracy: 0.8840 - val_loss: 0.0591 - val_accuracy: 0.6152 - lr: 0.0010 - 77s/epoch - 18ms/step
Epoch 44/75
4378/4378 - 77s - loss: 0.0168 - accuracy: 0.8861 - val_loss: 0.0613 - val_accuracy: 0.6050 - lr: 0.0010 - 77s/epoch - 18ms/step
Epoch 45/75
4378/4378 - 77s - loss: 0.0167 - accuracy: 0.8857 - val_loss: 0.0634 - val_accuracy: 0.5823 - lr: 0.0010 - 77s/epoch - 18ms/step
Epoch 46/75
4378/4378 - 77s - loss: 0.0167 - accuracy: 0.8864 - val_loss: 0.0553 - val_accuracy: 0.6451 - lr: 0.0010 - 77s/epoch - 18ms/step
Epoch 47/75
4378/4378 - 77s - loss: 0.0169 - accuracy: 0.8852 - val_loss: 0.0568 - val_accuracy: 0.6365 - lr: 0.0010 - 77s/epoch - 18ms/step
Epoch 48/75
4378/4378 - 77s - loss: 0.0168 - accuracy: 0.8852 - val_loss: 0.0575 - val_accuracy: 0.6256 - lr: 0.0010 - 77s/epoch - 18ms/step
Epoch 49/75
4378/4378 - 77s - loss: 0.0171 - accuracy: 0.8831 - val_loss: 0.0611 - val_accuracy: 0.6044 - lr: 0.0010 - 77s/epoch - 18ms/step
Epoch 50/75
4378/4378 - 77s - loss: 0.0168 - accuracy: 0.8846 - val_loss: 0.0571 - val_accuracy: 0.6393 - lr: 0.0010 - 77s/epoch - 18ms/step
Epoch 51/75
4378/4378 - 77s - loss: 0.0165 - accuracy: 0.8870 - val_loss: 0.0551 - val_accuracy: 0.6469 - lr: 0.0010 - 77s/epoch - 18ms/step
Epoch 52/75
4378/4378 - 77s - loss: 0.0168 - accuracy: 0.8849 - val_loss: 0.0607 - val_accuracy: 0.6036 - lr: 0.0010 - 77s/epoch - 18ms/step
Epoch 53/75
4378/4378 - 77s - loss: 0.0167 - accuracy: 0.8866 - val_loss: 0.0568 - val_accuracy: 0.6314 - lr: 0.0010 - 77s/epoch - 18ms/step
Epoch 54/75
4378/4378 - 77s - loss: 0.0168 - accuracy: 0.8857 - val_loss: 0.0565 - val_accuracy: 0.6399 - lr: 0.0010 - 77s/epoch - 18ms/step
Epoch 55/75
4378/4378 - 77s - loss: 0.0166 - accuracy: 0.8868 - val_loss: 0.0638 - val_accuracy: 0.5923 - lr: 0.0010 - 77s/epoch - 18ms/step
Epoch 56/75
4378/4378 - 77s - loss: 0.0169 - accuracy: 0.8853 - val_loss: 0.0592 - val_accuracy: 0.6162 - lr: 0.0010 - 77s/epoch - 18ms/step
Epoch 57/75
4378/4378 - 77s - loss: 0.0168 - accuracy: 0.8863 - val_loss: 0.0623 - val_accuracy: 0.5995 - lr: 0.0010 - 77s/epoch - 18ms/step
Epoch 58/75
4378/4378 - 77s - loss: 0.0173 - accuracy: 0.8820 - val_loss: 0.0638 - val_accuracy: 0.5905 - lr: 0.0010 - 77s/epoch - 18ms/step
Epoch 59/75
4378/4378 - 77s - loss: 0.0169 - accuracy: 0.8850 - val_loss: 0.0616 - val_accuracy: 0.6015 - lr: 0.0010 - 77s/epoch - 18ms/step
Epoch 60/75
4378/4378 - 77s - loss: 0.0168 - accuracy: 0.8863 - val_loss: 0.0618 - val_accuracy: 0.5993 - lr: 0.0010 - 77s/epoch - 18ms/step
Epoch 61/75
4378/4378 - 77s - loss: 0.0163 - accuracy: 0.8890 - val_loss: 0.0643 - val_accuracy: 0.5761 - lr: 0.0010 - 77s/epoch - 18ms/step
Epoch 62/75
4378/4378 - 77s - loss: 0.0169 - accuracy: 0.8850 - val_loss: 0.0558 - val_accuracy: 0.6349 - lr: 0.0010 - 77s/epoch - 18ms/step
Epoch 63/75
4378/4378 - 77s - loss: 0.0166 - accuracy: 0.8872 - val_loss: 0.0495 - val_accuracy: 0.6839 - lr: 0.0010 - 77s/epoch - 18ms/step
Epoch 64/75
4378/4378 - 77s - loss: 0.0165 - accuracy: 0.8877 - val_loss: 0.0573 - val_accuracy: 0.6257 - lr: 0.0010 - 77s/epoch - 18ms/step
Epoch 65/75
4378/4378 - 77s - loss: 0.0165 - accuracy: 0.8858 - val_loss: 0.0592 - val_accuracy: 0.6270 - lr: 0.0010 - 77s/epoch - 18ms/step
Epoch 66/75
4378/4378 - 77s - loss: 0.0166 - accuracy: 0.8873 - val_loss: 0.0547 - val_accuracy: 0.6493 - lr: 0.0010 - 77s/epoch - 18ms/step
Epoch 67/75
4378/4378 - 77s - loss: 0.0168 - accuracy: 0.8856 - val_loss: 0.0603 - val_accuracy: 0.6163 - lr: 0.0010 - 77s/epoch - 18ms/step
Epoch 68/75
4378/4378 - 77s - loss: 0.0164 - accuracy: 0.8890 - val_loss: 0.0628 - val_accuracy: 0.5961 - lr: 0.0010 - 77s/epoch - 18ms/step
Epoch 69/75
4378/4378 - 77s - loss: 0.0167 - accuracy: 0.8855 - val_loss: 0.0548 - val_accuracy: 0.6468 - lr: 0.0010 - 77s/epoch - 18ms/step
Epoch 70/75
4378/4378 - 80s - loss: 0.0168 - accuracy: 0.8861 - val_loss: 0.0555 - val_accuracy: 0.6462 - lr: 0.0010 - 80s/epoch - 18ms/step
Epoch 71/75
4378/4378 - 80s - loss: 0.0163 - accuracy: 0.8897 - val_loss: 0.0570 - val_accuracy: 0.6338 - lr: 0.0010 - 80s/epoch - 18ms/step
Epoch 72/75
4378/4378 - 83s - loss: 0.0164 - accuracy: 0.8887 - val_loss: 0.0551 - val_accuracy: 0.6469 - lr: 0.0010 - 83s/epoch - 19ms/step
Epoch 73/75
4378/4378 - 79s - loss: 0.0168 - accuracy: 0.8857 - val_loss: 0.0534 - val_accuracy: 0.6548 - lr: 0.0010 - 79s/epoch - 18ms/step
Epoch 74/75
4378/4378 - 77s - loss: 0.0169 - accuracy: 0.8846 - val_loss: 0.0558 - val_accuracy: 0.6387 - lr: 0.0010 - 77s/epoch - 18ms/step
Epoch 75/75
4378/4378 - 78s - loss: 0.0169 - accuracy: 0.8854 - val_loss: 0.0531 - val_accuracy: 0.6626 - lr: 0.0010 - 78s/epoch - 18ms/step
Epoch 1/75
876/876 - 24s - loss: 0.0120 - accuracy: 0.9198 - val_loss: 0.0614 - val_accuracy: 0.6189 - lr: 0.0010 - 24s/epoch - 27ms/step
Epoch 2/75
876/876 - 21s - loss: 0.0119 - accuracy: 0.9211 - val_loss: 0.0655 - val_accuracy: 0.5893 - lr: 0.0010 - 21s/epoch - 24ms/step
Epoch 3/75
876/876 - 21s - loss: 0.0118 - accuracy: 0.9206 - val_loss: 0.0618 - val_accuracy: 0.6169 - lr: 0.0010 - 21s/epoch - 24ms/step
Epoch 4/75
876/876 - 21s - loss: 0.0115 - accuracy: 0.9238 - val_loss: 0.0591 - val_accuracy: 0.6342 - lr: 0.0010 - 21s/epoch - 24ms/step
Epoch 5/75
876/876 - 21s - loss: 0.0115 - accuracy: 0.9233 - val_loss: 0.0640 - val_accuracy: 0.6025 - lr: 0.0010 - 21s/epoch - 24ms/step
Epoch 6/75
876/876 - 21s - loss: 0.0110 - accuracy: 0.9272 - val_loss: 0.0678 - val_accuracy: 0.5798 - lr: 0.0010 - 21s/epoch - 24ms/step
Epoch 7/75
876/876 - 21s - loss: 0.0111 - accuracy: 0.9261 - val_loss: 0.0659 - val_accuracy: 0.5948 - lr: 0.0010 - 21s/epoch - 24ms/step
Epoch 8/75
876/876 - 21s - loss: 0.0111 - accuracy: 0.9257 - val_loss: 0.0612 - val_accuracy: 0.6297 - lr: 0.0010 - 21s/epoch - 24ms/step
Epoch 9/75
876/876 - 21s - loss: 0.0110 - accuracy: 0.9278 - val_loss: 0.0649 - val_accuracy: 0.6047 - lr: 0.0010 - 21s/epoch - 24ms/step
Epoch 10/75
876/876 - 21s - loss: 0.0110 - accuracy: 0.9268 - val_loss: 0.0643 - val_accuracy: 0.6091 - lr: 0.0010 - 21s/epoch - 24ms/step
Epoch 11/75
876/876 - 21s - loss: 0.0107 - accuracy: 0.9285 - val_loss: 0.0615 - val_accuracy: 0.6269 - lr: 0.0010 - 21s/epoch - 24ms/step
Epoch 12/75
876/876 - 21s - loss: 0.0108 - accuracy: 0.9282 - val_loss: 0.0665 - val_accuracy: 0.5968 - lr: 0.0010 - 21s/epoch - 24ms/step
Epoch 13/75
876/876 - 21s - loss: 0.0109 - accuracy: 0.9280 - val_loss: 0.0602 - val_accuracy: 0.6338 - lr: 0.0010 - 21s/epoch - 24ms/step
Epoch 14/75
876/876 - 21s - loss: 0.0107 - accuracy: 0.9290 - val_loss: 0.0607 - val_accuracy: 0.6326 - lr: 0.0010 - 21s/epoch - 24ms/step
Epoch 15/75
876/876 - 21s - loss: 0.0108 - accuracy: 0.9286 - val_loss: 0.0655 - val_accuracy: 0.6025 - lr: 0.0010 - 21s/epoch - 24ms/step
Epoch 16/75
876/876 - 21s - loss: 0.0105 - accuracy: 0.9304 - val_loss: 0.0626 - val_accuracy: 0.6202 - lr: 0.0010 - 21s/epoch - 24ms/step
Epoch 17/75
876/876 - 21s - loss: 0.0104 - accuracy: 0.9311 - val_loss: 0.0688 - val_accuracy: 0.5863 - lr: 0.0010 - 21s/epoch - 24ms/step
Epoch 18/75
876/876 - 21s - loss: 0.0102 - accuracy: 0.9328 - val_loss: 0.0649 - val_accuracy: 0.6067 - lr: 0.0010 - 21s/epoch - 24ms/step
Epoch 19/75
876/876 - 22s - loss: 0.0105 - accuracy: 0.9306 - val_loss: 0.0660 - val_accuracy: 0.5977 - lr: 0.0010 - 22s/epoch - 25ms/step
Epoch 20/75
876/876 - 22s - loss: 0.0104 - accuracy: 0.9314 - val_loss: 0.0680 - val_accuracy: 0.5897 - lr: 0.0010 - 22s/epoch - 25ms/step
Epoch 21/75
876/876 - 21s - loss: 0.0104 - accuracy: 0.9306 - val_loss: 0.0639 - val_accuracy: 0.6121 - lr: 0.0010 - 21s/epoch - 25ms/step
Epoch 22/75
876/876 - 22s - loss: 0.0103 - accuracy: 0.9317 - val_loss: 0.0665 - val_accuracy: 0.5978 - lr: 0.0010 - 22s/epoch - 25ms/step
Epoch 23/75
876/876 - 22s - loss: 0.0104 - accuracy: 0.9311 - val_loss: 0.0678 - val_accuracy: 0.5872 - lr: 0.0010 - 22s/epoch - 25ms/step
Epoch 24/75
876/876 - 21s - loss: 0.0101 - accuracy: 0.9335 - val_loss: 0.0665 - val_accuracy: 0.6007 - lr: 0.0010 - 21s/epoch - 24ms/step
Epoch 25/75
876/876 - 21s - loss: 0.0103 - accuracy: 0.9323 - val_loss: 0.0638 - val_accuracy: 0.6207 - lr: 0.0010 - 21s/epoch - 24ms/step
Epoch 26/75
876/876 - 21s - loss: 0.0102 - accuracy: 0.9330 - val_loss: 0.0673 - val_accuracy: 0.5952 - lr: 0.0010 - 21s/epoch - 24ms/step
Epoch 27/75
876/876 - 21s - loss: 0.0102 - accuracy: 0.9328 - val_loss: 0.0665 - val_accuracy: 0.6008 - lr: 0.0010 - 21s/epoch - 24ms/step
Epoch 28/75
876/876 - 21s - loss: 0.0102 - accuracy: 0.9330 - val_loss: 0.0694 - val_accuracy: 0.5804 - lr: 0.0010 - 21s/epoch - 24ms/step
Epoch 29/75
876/876 - 21s - loss: 0.0101 - accuracy: 0.9334 - val_loss: 0.0593 - val_accuracy: 0.6484 - lr: 0.0010 - 21s/epoch - 24ms/step
Epoch 30/75
876/876 - 21s - loss: 0.0101 - accuracy: 0.9330 - val_loss: 0.0651 - val_accuracy: 0.6095 - lr: 0.0010 - 21s/epoch - 24ms/step
Epoch 31/75
876/876 - 21s - loss: 0.0102 - accuracy: 0.9326 - val_loss: 0.0671 - val_accuracy: 0.5970 - lr: 0.0010 - 21s/epoch - 24ms/step
Epoch 32/75
876/876 - 21s - loss: 0.0102 - accuracy: 0.9331 - val_loss: 0.0709 - val_accuracy: 0.5742 - lr: 0.0010 - 21s/epoch - 24ms/step
Epoch 33/75
876/876 - 21s - loss: 0.0101 - accuracy: 0.9332 - val_loss: 0.0631 - val_accuracy: 0.6215 - lr: 0.0010 - 21s/epoch - 24ms/step
Epoch 34/75
876/876 - 21s - loss: 0.0102 - accuracy: 0.9322 - val_loss: 0.0640 - val_accuracy: 0.6158 - lr: 0.0010 - 21s/epoch - 24ms/step
Epoch 35/75
876/876 - 21s - loss: 0.0103 - accuracy: 0.9322 - val_loss: 0.0659 - val_accuracy: 0.6060 - lr: 0.0010 - 21s/epoch - 24ms/step
Epoch 36/75
876/876 - 21s - loss: 0.0099 - accuracy: 0.9347 - val_loss: 0.0674 - val_accuracy: 0.5930 - lr: 0.0010 - 21s/epoch - 24ms/step
Epoch 37/75
876/876 - 21s - loss: 0.0100 - accuracy: 0.9340 - val_loss: 0.0645 - val_accuracy: 0.6099 - lr: 0.0010 - 21s/epoch - 24ms/step
Epoch 38/75
876/876 - 21s - loss: 0.0100 - accuracy: 0.9339 - val_loss: 0.0663 - val_accuracy: 0.6032 - lr: 0.0010 - 21s/epoch - 24ms/step
Epoch 39/75
876/876 - 21s - loss: 0.0099 - accuracy: 0.9350 - val_loss: 0.0692 - val_accuracy: 0.5872 - lr: 0.0010 - 21s/epoch - 24ms/step
Epoch 40/75
876/876 - 21s - loss: 0.0097 - accuracy: 0.9365 - val_loss: 0.0745 - val_accuracy: 0.5567 - lr: 0.0010 - 21s/epoch - 24ms/step
Epoch 41/75
876/876 - 21s - loss: 0.0096 - accuracy: 0.9366 - val_loss: 0.0698 - val_accuracy: 0.5848 - lr: 0.0010 - 21s/epoch - 23ms/step
Epoch 42/75
876/876 - 20s - loss: 0.0099 - accuracy: 0.9353 - val_loss: 0.0718 - val_accuracy: 0.5767 - lr: 0.0010 - 20s/epoch - 23ms/step
Epoch 43/75
876/876 - 20s - loss: 0.0099 - accuracy: 0.9348 - val_loss: 0.0667 - val_accuracy: 0.5972 - lr: 0.0010 - 20s/epoch - 23ms/step
Epoch 44/75
876/876 - 20s - loss: 0.0100 - accuracy: 0.9347 - val_loss: 0.0682 - val_accuracy: 0.5915 - lr: 0.0010 - 20s/epoch - 23ms/step
Epoch 45/75
876/876 - 20s - loss: 0.0100 - accuracy: 0.9341 - val_loss: 0.0672 - val_accuracy: 0.5930 - lr: 0.0010 - 20s/epoch - 23ms/step
Epoch 46/75
876/876 - 20s - loss: 0.0101 - accuracy: 0.9337 - val_loss: 0.0670 - val_accuracy: 0.5963 - lr: 0.0010 - 20s/epoch - 23ms/step
Epoch 47/75
876/876 - 20s - loss: 0.0099 - accuracy: 0.9356 - val_loss: 0.0646 - val_accuracy: 0.6121 - lr: 0.0010 - 20s/epoch - 23ms/step
Epoch 48/75
876/876 - 21s - loss: 0.0098 - accuracy: 0.9366 - val_loss: 0.0708 - val_accuracy: 0.5784 - lr: 0.0010 - 21s/epoch - 24ms/step
Epoch 49/75
876/876 - 22s - loss: 0.0097 - accuracy: 0.9366 - val_loss: 0.0672 - val_accuracy: 0.5983 - lr: 0.0010 - 22s/epoch - 25ms/step
Epoch 50/75
876/876 - 21s - loss: 0.0098 - accuracy: 0.9357 - val_loss: 0.0695 - val_accuracy: 0.5906 - lr: 0.0010 - 21s/epoch - 24ms/step
Epoch 51/75
876/876 - 21s - loss: 0.0097 - accuracy: 0.9363 - val_loss: 0.0655 - val_accuracy: 0.6130 - lr: 0.0010 - 21s/epoch - 24ms/step
Epoch 52/75
876/876 - 21s - loss: 0.0095 - accuracy: 0.9376 - val_loss: 0.0674 - val_accuracy: 0.6030 - lr: 0.0010 - 21s/epoch - 24ms/step
Epoch 53/75
876/876 - 21s - loss: 0.0094 - accuracy: 0.9377 - val_loss: 0.0714 - val_accuracy: 0.5815 - lr: 0.0010 - 21s/epoch - 24ms/step
Epoch 54/75
876/876 - 21s - loss: 0.0099 - accuracy: 0.9341 - val_loss: 0.0658 - val_accuracy: 0.6135 - lr: 0.0010 - 21s/epoch - 24ms/step
Epoch 55/75
876/876 - 21s - loss: 0.0095 - accuracy: 0.9373 - val_loss: 0.0702 - val_accuracy: 0.5838 - lr: 0.0010 - 21s/epoch - 24ms/step
Epoch 56/75
876/876 - 21s - loss: 0.0096 - accuracy: 0.9373 - val_loss: 0.0677 - val_accuracy: 0.5951 - lr: 0.0010 - 21s/epoch - 24ms/step
Epoch 57/75
876/876 - 21s - loss: 0.0097 - accuracy: 0.9368 - val_loss: 0.0634 - val_accuracy: 0.6237 - lr: 0.0010 - 21s/epoch - 24ms/step
Epoch 58/75
876/876 - 21s - loss: 0.0098 - accuracy: 0.9351 - val_loss: 0.0710 - val_accuracy: 0.5774 - lr: 0.0010 - 21s/epoch - 24ms/step
Epoch 59/75
876/876 - 21s - loss: 0.0098 - accuracy: 0.9356 - val_loss: 0.0726 - val_accuracy: 0.5682 - lr: 0.0010 - 21s/epoch - 24ms/step
Epoch 60/75
876/876 - 21s - loss: 0.0098 - accuracy: 0.9356 - val_loss: 0.0716 - val_accuracy: 0.5747 - lr: 0.0010 - 21s/epoch - 24ms/step
Epoch 61/75
876/876 - 21s - loss: 0.0097 - accuracy: 0.9360 - val_loss: 0.0728 - val_accuracy: 0.5636 - lr: 0.0010 - 21s/epoch - 24ms/step
Epoch 62/75
876/876 - 21s - loss: 0.0097 - accuracy: 0.9361 - val_loss: 0.0714 - val_accuracy: 0.5711 - lr: 0.0010 - 21s/epoch - 24ms/step
Epoch 63/75
876/876 - 21s - loss: 0.0097 - accuracy: 0.9365 - val_loss: 0.0674 - val_accuracy: 0.5963 - lr: 0.0010 - 21s/epoch - 24ms/step
Epoch 64/75
876/876 - 21s - loss: 0.0094 - accuracy: 0.9384 - val_loss: 0.0684 - val_accuracy: 0.5879 - lr: 0.0010 - 21s/epoch - 24ms/step
Epoch 65/75
876/876 - 21s - loss: 0.0098 - accuracy: 0.9362 - val_loss: 0.0701 - val_accuracy: 0.5797 - lr: 0.0010 - 21s/epoch - 24ms/step
Epoch 66/75
876/876 - 21s - loss: 0.0098 - accuracy: 0.9359 - val_loss: 0.0634 - val_accuracy: 0.6203 - lr: 0.0010 - 21s/epoch - 23ms/step
Epoch 67/75
876/876 - 22s - loss: 0.0097 - accuracy: 0.9359 - val_loss: 0.0717 - val_accuracy: 0.5691 - lr: 0.0010 - 22s/epoch - 26ms/step
Epoch 68/75
876/876 - 22s - loss: 0.0095 - accuracy: 0.9373 - val_loss: 0.0748 - val_accuracy: 0.5547 - lr: 0.0010 - 22s/epoch - 25ms/step
Epoch 69/75
876/876 - 25s - loss: 0.0094 - accuracy: 0.9387 - val_loss: 0.0689 - val_accuracy: 0.5899 - lr: 0.0010 - 25s/epoch - 28ms/step
Epoch 70/75
876/876 - 24s - loss: 0.0096 - accuracy: 0.9367 - val_loss: 0.0671 - val_accuracy: 0.5971 - lr: 0.0010 - 24s/epoch - 28ms/step
Epoch 71/75
876/876 - 24s - loss: 0.0094 - accuracy: 0.9387 - val_loss: 0.0662 - val_accuracy: 0.6076 - lr: 0.0010 - 24s/epoch - 27ms/step
Epoch 72/75
876/876 - 24s - loss: 0.0097 - accuracy: 0.9355 - val_loss: 0.0700 - val_accuracy: 0.5803 - lr: 0.0010 - 24s/epoch - 27ms/step
Epoch 73/75
876/876 - 23s - loss: 0.0095 - accuracy: 0.9379 - val_loss: 0.0704 - val_accuracy: 0.5783 - lr: 0.0010 - 23s/epoch - 26ms/step
Epoch 74/75
876/876 - 25s - loss: 0.0097 - accuracy: 0.9366 - val_loss: 0.0780 - val_accuracy: 0.5334 - lr: 0.0010 - 25s/epoch - 29ms/step
Epoch 75/75
876/876 - 24s - loss: 0.0096 - accuracy: 0.9373 - val_loss: 0.0665 - val_accuracy: 0.6083 - lr: 0.0010 - 24s/epoch - 27ms/step
Epoch 1/75
176/176 - 14s - loss: 0.0072 - accuracy: 0.9540 - val_loss: 0.0675 - val_accuracy: 0.5990 - lr: 0.0010 - 14s/epoch - 78ms/step
Epoch 2/75
176/176 - 11s - loss: 0.0062 - accuracy: 0.9615 - val_loss: 0.0708 - val_accuracy: 0.5836 - lr: 0.0010 - 11s/epoch - 63ms/step
Epoch 3/75
176/176 - 11s - loss: 0.0060 - accuracy: 0.9623 - val_loss: 0.0700 - val_accuracy: 0.5873 - lr: 0.0010 - 11s/epoch - 63ms/step
Epoch 4/75
176/176 - 12s - loss: 0.0059 - accuracy: 0.9629 - val_loss: 0.0724 - val_accuracy: 0.5776 - lr: 0.0010 - 12s/epoch - 66ms/step
Epoch 5/75
176/176 - 13s - loss: 0.0058 - accuracy: 0.9640 - val_loss: 0.0730 - val_accuracy: 0.5749 - lr: 0.0010 - 13s/epoch - 76ms/step
Epoch 6/75
176/176 - 12s - loss: 0.0059 - accuracy: 0.9631 - val_loss: 0.0714 - val_accuracy: 0.5836 - lr: 0.0010 - 12s/epoch - 69ms/step
Epoch 7/75
176/176 - 11s - loss: 0.0060 - accuracy: 0.9620 - val_loss: 0.0727 - val_accuracy: 0.5794 - lr: 0.0010 - 11s/epoch - 63ms/step
Epoch 8/75
176/176 - 11s - loss: 0.0060 - accuracy: 0.9620 - val_loss: 0.0732 - val_accuracy: 0.5761 - lr: 0.0010 - 11s/epoch - 63ms/step
Epoch 9/75
176/176 - 12s - loss: 0.0061 - accuracy: 0.9613 - val_loss: 0.0726 - val_accuracy: 0.5805 - lr: 0.0010 - 12s/epoch - 69ms/step
Epoch 10/75
176/176 - 13s - loss: 0.0060 - accuracy: 0.9625 - val_loss: 0.0711 - val_accuracy: 0.5920 - lr: 0.0010 - 13s/epoch - 72ms/step
Epoch 11/75
176/176 - 14s - loss: 0.0061 - accuracy: 0.9620 - val_loss: 0.0703 - val_accuracy: 0.5975 - lr: 0.0010 - 14s/epoch - 78ms/step
Epoch 12/75
176/176 - 14s - loss: 0.0062 - accuracy: 0.9607 - val_loss: 0.0705 - val_accuracy: 0.5918 - lr: 0.0010 - 14s/epoch - 78ms/step
Epoch 13/75
176/176 - 13s - loss: 0.0062 - accuracy: 0.9615 - val_loss: 0.0688 - val_accuracy: 0.6026 - lr: 0.0010 - 13s/epoch - 77ms/step
Epoch 14/75
176/176 - 14s - loss: 0.0059 - accuracy: 0.9633 - val_loss: 0.0665 - val_accuracy: 0.6186 - lr: 0.0010 - 14s/epoch - 77ms/step
Epoch 15/75
176/176 - 14s - loss: 0.0058 - accuracy: 0.9636 - val_loss: 0.0718 - val_accuracy: 0.5872 - lr: 0.0010 - 14s/epoch - 77ms/step
Epoch 16/75
176/176 - 13s - loss: 0.0059 - accuracy: 0.9634 - val_loss: 0.0680 - val_accuracy: 0.6107 - lr: 0.0010 - 13s/epoch - 75ms/step
Epoch 17/75
176/176 - 13s - loss: 0.0058 - accuracy: 0.9637 - val_loss: 0.0711 - val_accuracy: 0.5929 - lr: 0.0010 - 13s/epoch - 73ms/step
Epoch 18/75
176/176 - 13s - loss: 0.0057 - accuracy: 0.9641 - val_loss: 0.0724 - val_accuracy: 0.5846 - lr: 0.0010 - 13s/epoch - 72ms/step
Epoch 19/75
176/176 - 13s - loss: 0.0057 - accuracy: 0.9645 - val_loss: 0.0755 - val_accuracy: 0.5698 - lr: 0.0010 - 13s/epoch - 73ms/step
Epoch 20/75
176/176 - 13s - loss: 0.0057 - accuracy: 0.9638 - val_loss: 0.0732 - val_accuracy: 0.5841 - lr: 0.0010 - 13s/epoch - 73ms/step
Epoch 21/75
176/176 - 13s - loss: 0.0061 - accuracy: 0.9619 - val_loss: 0.0721 - val_accuracy: 0.5897 - lr: 0.0010 - 13s/epoch - 74ms/step
Epoch 22/75
176/176 - 12s - loss: 0.0061 - accuracy: 0.9616 - val_loss: 0.0729 - val_accuracy: 0.5846 - lr: 0.0010 - 12s/epoch - 68ms/step
Epoch 23/75
176/176 - 12s - loss: 0.0060 - accuracy: 0.9620 - val_loss: 0.0692 - val_accuracy: 0.6052 - lr: 0.0010 - 12s/epoch - 65ms/step
Epoch 24/75
176/176 - 13s - loss: 0.0061 - accuracy: 0.9614 - val_loss: 0.0713 - val_accuracy: 0.5937 - lr: 0.0010 - 13s/epoch - 74ms/step
Epoch 25/75
176/176 - 13s - loss: 0.0062 - accuracy: 0.9604 - val_loss: 0.0687 - val_accuracy: 0.6096 - lr: 0.0010 - 13s/epoch - 73ms/step
Epoch 26/75
176/176 - 13s - loss: 0.0058 - accuracy: 0.9633 - val_loss: 0.0686 - val_accuracy: 0.6095 - lr: 0.0010 - 13s/epoch - 72ms/step
Epoch 27/75
176/176 - 13s - loss: 0.0059 - accuracy: 0.9623 - val_loss: 0.0717 - val_accuracy: 0.5923 - lr: 0.0010 - 13s/epoch - 74ms/step
Epoch 28/75
176/176 - 13s - loss: 0.0057 - accuracy: 0.9642 - val_loss: 0.0681 - val_accuracy: 0.6105 - lr: 0.0010 - 13s/epoch - 73ms/step
Epoch 29/75
176/176 - 13s - loss: 0.0055 - accuracy: 0.9653 - val_loss: 0.0693 - val_accuracy: 0.6055 - lr: 0.0010 - 13s/epoch - 74ms/step
Epoch 30/75
176/176 - 11s - loss: 0.0055 - accuracy: 0.9659 - val_loss: 0.0721 - val_accuracy: 0.5907 - lr: 0.0010 - 11s/epoch - 65ms/step
Epoch 31/75
176/176 - 11s - loss: 0.0055 - accuracy: 0.9655 - val_loss: 0.0707 - val_accuracy: 0.5978 - lr: 0.0010 - 11s/epoch - 65ms/step
Epoch 32/75
176/176 - 11s - loss: 0.0056 - accuracy: 0.9647 - val_loss: 0.0706 - val_accuracy: 0.5999 - lr: 0.0010 - 11s/epoch - 64ms/step
Epoch 33/75
176/176 - 10s - loss: 0.0056 - accuracy: 0.9651 - val_loss: 0.0752 - val_accuracy: 0.5723 - lr: 0.0010 - 10s/epoch - 57ms/step
Epoch 34/75
176/176 - 11s - loss: 0.0058 - accuracy: 0.9636 - val_loss: 0.0699 - val_accuracy: 0.6037 - lr: 0.0010 - 11s/epoch - 63ms/step
Epoch 35/75
176/176 - 11s - loss: 0.0060 - accuracy: 0.9619 - val_loss: 0.0685 - val_accuracy: 0.6081 - lr: 0.0010 - 11s/epoch - 63ms/step
Epoch 36/75
176/176 - 11s - loss: 0.0060 - accuracy: 0.9625 - val_loss: 0.0688 - val_accuracy: 0.6092 - lr: 0.0010 - 11s/epoch - 62ms/step
Epoch 37/75
176/176 - 12s - loss: 0.0061 - accuracy: 0.9617 - val_loss: 0.0706 - val_accuracy: 0.6009 - lr: 0.0010 - 12s/epoch - 66ms/step
Epoch 38/75
176/176 - 12s - loss: 0.0058 - accuracy: 0.9633 - val_loss: 0.0702 - val_accuracy: 0.5973 - lr: 0.0010 - 12s/epoch - 71ms/step
Epoch 39/75
176/176 - 12s - loss: 0.0058 - accuracy: 0.9630 - val_loss: 0.0675 - val_accuracy: 0.6161 - lr: 0.0010 - 12s/epoch - 67ms/step
Epoch 40/75
176/176 - 12s - loss: 0.0058 - accuracy: 0.9636 - val_loss: 0.0673 - val_accuracy: 0.6161 - lr: 0.0010 - 12s/epoch - 66ms/step
Epoch 41/75
176/176 - 12s - loss: 0.0055 - accuracy: 0.9661 - val_loss: 0.0731 - val_accuracy: 0.5839 - lr: 0.0010 - 12s/epoch - 66ms/step
Epoch 42/75
176/176 - 12s - loss: 0.0057 - accuracy: 0.9646 - val_loss: 0.0706 - val_accuracy: 0.5995 - lr: 0.0010 - 12s/epoch - 66ms/step
Epoch 43/75
176/176 - 11s - loss: 0.0058 - accuracy: 0.9634 - val_loss: 0.0729 - val_accuracy: 0.5854 - lr: 0.0010 - 11s/epoch - 64ms/step
Epoch 44/75
176/176 - 11s - loss: 0.0059 - accuracy: 0.9628 - val_loss: 0.0733 - val_accuracy: 0.5807 - lr: 0.0010 - 11s/epoch - 65ms/step
Epoch 45/75
176/176 - 12s - loss: 0.0059 - accuracy: 0.9629 - val_loss: 0.0697 - val_accuracy: 0.6041 - lr: 0.0010 - 12s/epoch - 70ms/step
Epoch 46/75
176/176 - 12s - loss: 0.0058 - accuracy: 0.9636 - val_loss: 0.0715 - val_accuracy: 0.5928 - lr: 0.0010 - 12s/epoch - 71ms/step
Epoch 47/75
176/176 - 13s - loss: 0.0059 - accuracy: 0.9627 - val_loss: 0.0722 - val_accuracy: 0.5867 - lr: 0.0010 - 13s/epoch - 72ms/step
Epoch 48/75
176/176 - 12s - loss: 0.0057 - accuracy: 0.9637 - val_loss: 0.0724 - val_accuracy: 0.5867 - lr: 0.0010 - 12s/epoch - 71ms/step
Epoch 49/75
176/176 - 12s - loss: 0.0056 - accuracy: 0.9645 - val_loss: 0.0708 - val_accuracy: 0.5977 - lr: 0.0010 - 12s/epoch - 70ms/step
Epoch 50/75
176/176 - 12s - loss: 0.0055 - accuracy: 0.9657 - val_loss: 0.0746 - val_accuracy: 0.5795 - lr: 0.0010 - 12s/epoch - 70ms/step
Epoch 51/75
176/176 - 11s - loss: 0.0058 - accuracy: 0.9631 - val_loss: 0.0729 - val_accuracy: 0.5853 - lr: 0.0010 - 11s/epoch - 64ms/step
Epoch 52/75
176/176 - 11s - loss: 0.0058 - accuracy: 0.9633 - val_loss: 0.0756 - val_accuracy: 0.5723 - lr: 0.0010 - 11s/epoch - 65ms/step
Epoch 53/75
176/176 - 11s - loss: 0.0059 - accuracy: 0.9633 - val_loss: 0.0699 - val_accuracy: 0.6023 - lr: 0.0010 - 11s/epoch - 64ms/step
Epoch 54/75
176/176 - 11s - loss: 0.0056 - accuracy: 0.9645 - val_loss: 0.0725 - val_accuracy: 0.5903 - lr: 0.0010 - 11s/epoch - 63ms/step
Epoch 55/75
176/176 - 11s - loss: 0.0054 - accuracy: 0.9666 - val_loss: 0.0730 - val_accuracy: 0.5850 - lr: 0.0010 - 11s/epoch - 63ms/step
Epoch 56/75
176/176 - 11s - loss: 0.0054 - accuracy: 0.9663 - val_loss: 0.0698 - val_accuracy: 0.6044 - lr: 0.0010 - 11s/epoch - 63ms/step
Epoch 57/75
176/176 - 11s - loss: 0.0052 - accuracy: 0.9673 - val_loss: 0.0730 - val_accuracy: 0.5868 - lr: 0.0010 - 11s/epoch - 65ms/step
Epoch 58/75
176/176 - 12s - loss: 0.0054 - accuracy: 0.9663 - val_loss: 0.0743 - val_accuracy: 0.5814 - lr: 0.0010 - 12s/epoch - 69ms/step
Epoch 59/75
176/176 - 13s - loss: 0.0052 - accuracy: 0.9680 - val_loss: 0.0722 - val_accuracy: 0.5914 - lr: 0.0010 - 13s/epoch - 75ms/step
Epoch 60/75
176/176 - 13s - loss: 0.0052 - accuracy: 0.9678 - val_loss: 0.0708 - val_accuracy: 0.5993 - lr: 0.0010 - 13s/epoch - 74ms/step
Epoch 61/75
176/176 - 12s - loss: 0.0053 - accuracy: 0.9667 - val_loss: 0.0709 - val_accuracy: 0.5993 - lr: 0.0010 - 12s/epoch - 66ms/step
Epoch 62/75
176/176 - 11s - loss: 0.0055 - accuracy: 0.9659 - val_loss: 0.0742 - val_accuracy: 0.5819 - lr: 0.0010 - 11s/epoch - 62ms/step
Epoch 63/75
176/176 - 11s - loss: 0.0055 - accuracy: 0.9653 - val_loss: 0.0745 - val_accuracy: 0.5782 - lr: 0.0010 - 11s/epoch - 64ms/step
Epoch 64/75
176/176 - 12s - loss: 0.0058 - accuracy: 0.9634 - val_loss: 0.0733 - val_accuracy: 0.5862 - lr: 0.0010 - 12s/epoch - 66ms/step
Epoch 65/75
176/176 - 11s - loss: 0.0056 - accuracy: 0.9650 - val_loss: 0.0739 - val_accuracy: 0.5792 - lr: 0.0010 - 11s/epoch - 65ms/step
Epoch 66/75
176/176 - 11s - loss: 0.0054 - accuracy: 0.9662 - val_loss: 0.0730 - val_accuracy: 0.5880 - lr: 0.0010 - 11s/epoch - 65ms/step
Epoch 67/75
176/176 - 12s - loss: 0.0053 - accuracy: 0.9673 - val_loss: 0.0715 - val_accuracy: 0.5951 - lr: 0.0010 - 12s/epoch - 67ms/step
Epoch 68/75
176/176 - 11s - loss: 0.0054 - accuracy: 0.9661 - val_loss: 0.0725 - val_accuracy: 0.5865 - lr: 0.0010 - 11s/epoch - 65ms/step
Epoch 69/75
176/176 - 11s - loss: 0.0056 - accuracy: 0.9653 - val_loss: 0.0719 - val_accuracy: 0.5933 - lr: 0.0010 - 11s/epoch - 64ms/step
Epoch 70/75
176/176 - 12s - loss: 0.0057 - accuracy: 0.9645 - val_loss: 0.0735 - val_accuracy: 0.5863 - lr: 0.0010 - 12s/epoch - 66ms/step
Epoch 71/75
176/176 - 11s - loss: 0.0056 - accuracy: 0.9646 - val_loss: 0.0768 - val_accuracy: 0.5685 - lr: 0.0010 - 11s/epoch - 63ms/step
Epoch 72/75
176/176 - 11s - loss: 0.0058 - accuracy: 0.9634 - val_loss: 0.0749 - val_accuracy: 0.5774 - lr: 0.0010 - 11s/epoch - 65ms/step
Epoch 73/75
176/176 - 11s - loss: 0.0056 - accuracy: 0.9647 - val_loss: 0.0729 - val_accuracy: 0.5858 - lr: 0.0010 - 11s/epoch - 64ms/step
Epoch 74/75
176/176 - 11s - loss: 0.0056 - accuracy: 0.9650 - val_loss: 0.0738 - val_accuracy: 0.5834 - lr: 0.0010 - 11s/epoch - 64ms/step
Epoch 75/75
176/176 - 11s - loss: 0.0055 - accuracy: 0.9650 - val_loss: 0.0709 - val_accuracy: 0.6011 - lr: 0.0010 - 11s/epoch - 64ms/step
Epoch 1/75
36/36 - 12s - loss: 0.0048 - accuracy: 0.9703 - val_loss: 0.0733 - val_accuracy: 0.5865 - lr: 0.0010 - 12s/epoch - 334ms/step
Epoch 2/75
36/36 - 10s - loss: 0.0046 - accuracy: 0.9721 - val_loss: 0.0726 - val_accuracy: 0.5919 - lr: 0.0010 - 10s/epoch - 266ms/step
Epoch 3/75
36/36 - 10s - loss: 0.0045 - accuracy: 0.9727 - val_loss: 0.0728 - val_accuracy: 0.5920 - lr: 0.0010 - 10s/epoch - 266ms/step
Epoch 4/75
36/36 - 10s - loss: 0.0042 - accuracy: 0.9745 - val_loss: 0.0725 - val_accuracy: 0.5931 - lr: 0.0010 - 10s/epoch - 283ms/step
Epoch 5/75
36/36 - 10s - loss: 0.0042 - accuracy: 0.9742 - val_loss: 0.0741 - val_accuracy: 0.5828 - lr: 0.0010 - 10s/epoch - 284ms/step
Epoch 6/75
36/36 - 10s - loss: 0.0042 - accuracy: 0.9744 - val_loss: 0.0736 - val_accuracy: 0.5852 - lr: 0.0010 - 10s/epoch - 271ms/step
Epoch 7/75
36/36 - 10s - loss: 0.0041 - accuracy: 0.9754 - val_loss: 0.0737 - val_accuracy: 0.5847 - lr: 0.0010 - 10s/epoch - 272ms/step
Epoch 8/75
36/36 - 10s - loss: 0.0041 - accuracy: 0.9747 - val_loss: 0.0741 - val_accuracy: 0.5831 - lr: 0.0010 - 10s/epoch - 272ms/step
Epoch 9/75
36/36 - 10s - loss: 0.0041 - accuracy: 0.9753 - val_loss: 0.0754 - val_accuracy: 0.5762 - lr: 0.0010 - 10s/epoch - 282ms/step
Epoch 10/75
36/36 - 10s - loss: 0.0042 - accuracy: 0.9743 - val_loss: 0.0743 - val_accuracy: 0.5824 - lr: 0.0010 - 10s/epoch - 290ms/step
Epoch 11/75
36/36 - 10s - loss: 0.0043 - accuracy: 0.9736 - val_loss: 0.0732 - val_accuracy: 0.5893 - lr: 0.0010 - 10s/epoch - 285ms/step
Epoch 12/75
36/36 - 10s - loss: 0.0042 - accuracy: 0.9745 - val_loss: 0.0735 - val_accuracy: 0.5856 - lr: 0.0010 - 10s/epoch - 288ms/step
Epoch 13/75
36/36 - 10s - loss: 0.0041 - accuracy: 0.9751 - val_loss: 0.0737 - val_accuracy: 0.5851 - lr: 0.0010 - 10s/epoch - 281ms/step
Epoch 14/75
36/36 - 10s - loss: 0.0041 - accuracy: 0.9752 - val_loss: 0.0740 - val_accuracy: 0.5833 - lr: 0.0010 - 10s/epoch - 284ms/step
Epoch 15/75
36/36 - 10s - loss: 0.0040 - accuracy: 0.9756 - val_loss: 0.0731 - val_accuracy: 0.5897 - lr: 0.0010 - 10s/epoch - 279ms/step
Epoch 16/75
36/36 - 10s - loss: 0.0041 - accuracy: 0.9754 - val_loss: 0.0732 - val_accuracy: 0.5869 - lr: 0.0010 - 10s/epoch - 283ms/step
Epoch 17/75
36/36 - 10s - loss: 0.0039 - accuracy: 0.9768 - val_loss: 0.0733 - val_accuracy: 0.5876 - lr: 0.0010 - 10s/epoch - 278ms/step
Epoch 18/75
36/36 - 10s - loss: 0.0039 - accuracy: 0.9763 - val_loss: 0.0746 - val_accuracy: 0.5817 - lr: 0.0010 - 10s/epoch - 281ms/step
Epoch 19/75
36/36 - 10s - loss: 0.0039 - accuracy: 0.9767 - val_loss: 0.0760 - val_accuracy: 0.5735 - lr: 0.0010 - 10s/epoch - 267ms/step
Epoch 20/75
36/36 - 10s - loss: 0.0038 - accuracy: 0.9768 - val_loss: 0.0753 - val_accuracy: 0.5767 - lr: 0.0010 - 10s/epoch - 266ms/step
Epoch 21/75
36/36 - 10s - loss: 0.0040 - accuracy: 0.9762 - val_loss: 0.0751 - val_accuracy: 0.5796 - lr: 0.0010 - 10s/epoch - 265ms/step
Epoch 22/75
36/36 - 10s - loss: 0.0040 - accuracy: 0.9759 - val_loss: 0.0748 - val_accuracy: 0.5803 - lr: 0.0010 - 10s/epoch - 266ms/step
Epoch 23/75
36/36 - 9s - loss: 0.0039 - accuracy: 0.9764 - val_loss: 0.0758 - val_accuracy: 0.5746 - lr: 0.0010 - 9s/epoch - 262ms/step
Epoch 24/75
36/36 - 9s - loss: 0.0039 - accuracy: 0.9770 - val_loss: 0.0751 - val_accuracy: 0.5779 - lr: 0.0010 - 9s/epoch - 263ms/step
Epoch 25/75
36/36 - 10s - loss: 0.0040 - accuracy: 0.9756 - val_loss: 0.0746 - val_accuracy: 0.5821 - lr: 0.0010 - 10s/epoch - 264ms/step
Epoch 26/75
36/36 - 10s - loss: 0.0039 - accuracy: 0.9763 - val_loss: 0.0762 - val_accuracy: 0.5732 - lr: 0.0010 - 10s/epoch - 265ms/step
Epoch 27/75
36/36 - 9s - loss: 0.0038 - accuracy: 0.9770 - val_loss: 0.0758 - val_accuracy: 0.5757 - lr: 0.0010 - 9s/epoch - 263ms/step
Epoch 28/75
36/36 - 10s - loss: 0.0038 - accuracy: 0.9770 - val_loss: 0.0748 - val_accuracy: 0.5811 - lr: 0.0010 - 10s/epoch - 265ms/step
Epoch 29/75
36/36 - 9s - loss: 0.0038 - accuracy: 0.9771 - val_loss: 0.0748 - val_accuracy: 0.5800 - lr: 0.0010 - 9s/epoch - 264ms/step
Epoch 30/75
36/36 - 10s - loss: 0.0038 - accuracy: 0.9774 - val_loss: 0.0751 - val_accuracy: 0.5806 - lr: 0.0010 - 10s/epoch - 264ms/step
Epoch 31/75
36/36 - 10s - loss: 0.0038 - accuracy: 0.9766 - val_loss: 0.0761 - val_accuracy: 0.5729 - lr: 0.0010 - 10s/epoch - 265ms/step
Epoch 32/75
36/36 - 9s - loss: 0.0037 - accuracy: 0.9774 - val_loss: 0.0753 - val_accuracy: 0.5778 - lr: 0.0010 - 9s/epoch - 262ms/step
Epoch 33/75
36/36 - 10s - loss: 0.0039 - accuracy: 0.9769 - val_loss: 0.0753 - val_accuracy: 0.5796 - lr: 0.0010 - 10s/epoch - 264ms/step
Epoch 34/75
36/36 - 10s - loss: 0.0039 - accuracy: 0.9770 - val_loss: 0.0753 - val_accuracy: 0.5786 - lr: 0.0010 - 10s/epoch - 286ms/step
Epoch 35/75
36/36 - 10s - loss: 0.0038 - accuracy: 0.9774 - val_loss: 0.0737 - val_accuracy: 0.5870 - lr: 0.0010 - 10s/epoch - 290ms/step
Epoch 36/75
36/36 - 10s - loss: 0.0039 - accuracy: 0.9767 - val_loss: 0.0735 - val_accuracy: 0.5867 - lr: 0.0010 - 10s/epoch - 288ms/step
Epoch 37/75
36/36 - 10s - loss: 0.0039 - accuracy: 0.9765 - val_loss: 0.0742 - val_accuracy: 0.5845 - lr: 0.0010 - 10s/epoch - 266ms/step
Epoch 38/75
36/36 - 10s - loss: 0.0037 - accuracy: 0.9777 - val_loss: 0.0757 - val_accuracy: 0.5750 - lr: 0.0010 - 10s/epoch - 266ms/step
Epoch 39/75
36/36 - 10s - loss: 0.0037 - accuracy: 0.9774 - val_loss: 0.0746 - val_accuracy: 0.5830 - lr: 0.0010 - 10s/epoch - 265ms/step
Epoch 40/75
36/36 - 10s - loss: 0.0037 - accuracy: 0.9777 - val_loss: 0.0762 - val_accuracy: 0.5738 - lr: 0.0010 - 10s/epoch - 268ms/step
Epoch 41/75
36/36 - 10s - loss: 0.0039 - accuracy: 0.9763 - val_loss: 0.0752 - val_accuracy: 0.5788 - lr: 0.0010 - 10s/epoch - 267ms/step
Epoch 42/75
36/36 - 10s - loss: 0.0038 - accuracy: 0.9766 - val_loss: 0.0766 - val_accuracy: 0.5735 - lr: 0.0010 - 10s/epoch - 270ms/step
Epoch 43/75
36/36 - 10s - loss: 0.0037 - accuracy: 0.9773 - val_loss: 0.0758 - val_accuracy: 0.5777 - lr: 0.0010 - 10s/epoch - 273ms/step
Epoch 44/75
36/36 - 10s - loss: 0.0037 - accuracy: 0.9773 - val_loss: 0.0769 - val_accuracy: 0.5683 - lr: 0.0010 - 10s/epoch - 266ms/step
Epoch 45/75
36/36 - 10s - loss: 0.0039 - accuracy: 0.9765 - val_loss: 0.0761 - val_accuracy: 0.5756 - lr: 0.0010 - 10s/epoch - 267ms/step
Epoch 46/75
36/36 - 10s - loss: 0.0040 - accuracy: 0.9759 - val_loss: 0.0775 - val_accuracy: 0.5659 - lr: 0.0010 - 10s/epoch - 268ms/step
Epoch 47/75
36/36 - 10s - loss: 0.0039 - accuracy: 0.9768 - val_loss: 0.0766 - val_accuracy: 0.5701 - lr: 0.0010 - 10s/epoch - 266ms/step
Epoch 48/75
36/36 - 10s - loss: 0.0038 - accuracy: 0.9766 - val_loss: 0.0765 - val_accuracy: 0.5726 - lr: 0.0010 - 10s/epoch - 269ms/step
Epoch 49/75
36/36 - 10s - loss: 0.0038 - accuracy: 0.9774 - val_loss: 0.0759 - val_accuracy: 0.5752 - lr: 0.0010 - 10s/epoch - 269ms/step
Epoch 50/75
36/36 - 10s - loss: 0.0039 - accuracy: 0.9765 - val_loss: 0.0751 - val_accuracy: 0.5791 - lr: 0.0010 - 10s/epoch - 269ms/step
Epoch 51/75
36/36 - 10s - loss: 0.0040 - accuracy: 0.9763 - val_loss: 0.0784 - val_accuracy: 0.5618 - lr: 0.0010 - 10s/epoch - 268ms/step
Epoch 52/75
36/36 - 10s - loss: 0.0040 - accuracy: 0.9755 - val_loss: 0.0761 - val_accuracy: 0.5754 - lr: 0.0010 - 10s/epoch - 266ms/step
Epoch 53/75
36/36 - 10s - loss: 0.0039 - accuracy: 0.9765 - val_loss: 0.0786 - val_accuracy: 0.5609 - lr: 0.0010 - 10s/epoch - 268ms/step
Epoch 54/75
36/36 - 10s - loss: 0.0040 - accuracy: 0.9762 - val_loss: 0.0767 - val_accuracy: 0.5717 - lr: 0.0010 - 10s/epoch - 273ms/step
Epoch 55/75
36/36 - 10s - loss: 0.0040 - accuracy: 0.9755 - val_loss: 0.0780 - val_accuracy: 0.5642 - lr: 0.0010 - 10s/epoch - 270ms/step
Epoch 56/75
36/36 - 10s - loss: 0.0038 - accuracy: 0.9770 - val_loss: 0.0784 - val_accuracy: 0.5619 - lr: 0.0010 - 10s/epoch - 266ms/step
Epoch 57/75
36/36 - 10s - loss: 0.0040 - accuracy: 0.9758 - val_loss: 0.0754 - val_accuracy: 0.5786 - lr: 0.0010 - 10s/epoch - 265ms/step
Epoch 58/75
36/36 - 10s - loss: 0.0038 - accuracy: 0.9765 - val_loss: 0.0772 - val_accuracy: 0.5696 - lr: 0.0010 - 10s/epoch - 266ms/step
Epoch 59/75
36/36 - 10s - loss: 0.0040 - accuracy: 0.9753 - val_loss: 0.0778 - val_accuracy: 0.5663 - lr: 0.0010 - 10s/epoch - 266ms/step
Epoch 60/75
36/36 - 10s - loss: 0.0037 - accuracy: 0.9776 - val_loss: 0.0773 - val_accuracy: 0.5682 - lr: 0.0010 - 10s/epoch - 266ms/step
Epoch 61/75
36/36 - 10s - loss: 0.0038 - accuracy: 0.9765 - val_loss: 0.0781 - val_accuracy: 0.5647 - lr: 0.0010 - 10s/epoch - 266ms/step
Epoch 62/75
36/36 - 10s - loss: 0.0037 - accuracy: 0.9774 - val_loss: 0.0788 - val_accuracy: 0.5611 - lr: 0.0010 - 10s/epoch - 266ms/step
Epoch 63/75
36/36 - 10s - loss: 0.0037 - accuracy: 0.9778 - val_loss: 0.0788 - val_accuracy: 0.5607 - lr: 0.0010 - 10s/epoch - 266ms/step
Epoch 64/75
36/36 - 10s - loss: 0.0037 - accuracy: 0.9781 - val_loss: 0.0772 - val_accuracy: 0.5688 - lr: 0.0010 - 10s/epoch - 266ms/step
Epoch 65/75
36/36 - 10s - loss: 0.0037 - accuracy: 0.9775 - val_loss: 0.0789 - val_accuracy: 0.5604 - lr: 0.0010 - 10s/epoch - 266ms/step
Epoch 66/75
36/36 - 10s - loss: 0.0037 - accuracy: 0.9775 - val_loss: 0.0780 - val_accuracy: 0.5634 - lr: 0.0010 - 10s/epoch - 267ms/step
Epoch 67/75
36/36 - 10s - loss: 0.0038 - accuracy: 0.9769 - val_loss: 0.0784 - val_accuracy: 0.5628 - lr: 0.0010 - 10s/epoch - 266ms/step
Epoch 68/75
36/36 - 10s - loss: 0.0036 - accuracy: 0.9784 - val_loss: 0.0792 - val_accuracy: 0.5583 - lr: 0.0010 - 10s/epoch - 268ms/step
Epoch 69/75
36/36 - 10s - loss: 0.0036 - accuracy: 0.9783 - val_loss: 0.0793 - val_accuracy: 0.5580 - lr: 0.0010 - 10s/epoch - 271ms/step
Epoch 70/75
36/36 - 10s - loss: 0.0036 - accuracy: 0.9784 - val_loss: 0.0796 - val_accuracy: 0.5560 - lr: 0.0010 - 10s/epoch - 276ms/step
Epoch 71/75
36/36 - 10s - loss: 0.0038 - accuracy: 0.9765 - val_loss: 0.0801 - val_accuracy: 0.5541 - lr: 0.0010 - 10s/epoch - 276ms/step
Epoch 72/75
36/36 - 10s - loss: 0.0036 - accuracy: 0.9786 - val_loss: 0.0794 - val_accuracy: 0.5589 - lr: 0.0010 - 10s/epoch - 268ms/step
Epoch 73/75
36/36 - 10s - loss: 0.0036 - accuracy: 0.9782 - val_loss: 0.0787 - val_accuracy: 0.5622 - lr: 0.0010 - 10s/epoch - 269ms/step
Epoch 74/75
36/36 - 10s - loss: 0.0035 - accuracy: 0.9789 - val_loss: 0.0777 - val_accuracy: 0.5666 - lr: 0.0010 - 10s/epoch - 267ms/step
Epoch 75/75
36/36 - 10s - loss: 0.0037 - accuracy: 0.9777 - val_loss: 0.0757 - val_accuracy: 0.5790 - lr: 0.0010 - 10s/epoch - 270ms/step
Epoch 1/100
4378/4378 - 80s - loss: 0.0151 - accuracy: 0.9033 - val_loss: 0.0714 - val_accuracy: 0.5749 - lr: 0.0010 - 80s/epoch - 18ms/step
Epoch 2/100
4378/4378 - 80s - loss: 0.0158 - accuracy: 0.8948 - val_loss: 0.0677 - val_accuracy: 0.5756 - lr: 0.0010 - 80s/epoch - 18ms/step
Epoch 3/100
4378/4378 - 80s - loss: 0.0160 - accuracy: 0.8920 - val_loss: 0.0657 - val_accuracy: 0.5922 - lr: 0.0010 - 80s/epoch - 18ms/step
Epoch 4/100
4378/4378 - 77s - loss: 0.0161 - accuracy: 0.8909 - val_loss: 0.0590 - val_accuracy: 0.6235 - lr: 0.0010 - 77s/epoch - 18ms/step
Epoch 5/100
4378/4378 - 76s - loss: 0.0163 - accuracy: 0.8904 - val_loss: 0.0652 - val_accuracy: 0.5975 - lr: 0.0010 - 76s/epoch - 17ms/step
Epoch 6/100
4378/4378 - 77s - loss: 0.0158 - accuracy: 0.8930 - val_loss: 0.0597 - val_accuracy: 0.6309 - lr: 0.0010 - 77s/epoch - 18ms/step
Epoch 7/100
4378/4378 - 78s - loss: 0.0160 - accuracy: 0.8909 - val_loss: 0.0582 - val_accuracy: 0.6327 - lr: 0.0010 - 78s/epoch - 18ms/step
Epoch 8/100
4378/4378 - 82s - loss: 0.0154 - accuracy: 0.8958 - val_loss: 0.0621 - val_accuracy: 0.6099 - lr: 0.0010 - 82s/epoch - 19ms/step
Epoch 9/100
4378/4378 - 83s - loss: 0.0160 - accuracy: 0.8915 - val_loss: 0.0606 - val_accuracy: 0.6086 - lr: 0.0010 - 83s/epoch - 19ms/step
Epoch 10/100
4378/4378 - 80s - loss: 0.0162 - accuracy: 0.8902 - val_loss: 0.0640 - val_accuracy: 0.5920 - lr: 0.0010 - 80s/epoch - 18ms/step
Epoch 11/100
4378/4378 - 78s - loss: 0.0162 - accuracy: 0.8899 - val_loss: 0.0669 - val_accuracy: 0.5739 - lr: 0.0010 - 78s/epoch - 18ms/step
Epoch 12/100
4378/4378 - 76s - loss: 0.0164 - accuracy: 0.8885 - val_loss: 0.0619 - val_accuracy: 0.5978 - lr: 0.0010 - 76s/epoch - 17ms/step
Epoch 13/100
4378/4378 - 76s - loss: 0.0159 - accuracy: 0.8923 - val_loss: 0.0600 - val_accuracy: 0.6146 - lr: 0.0010 - 76s/epoch - 17ms/step
Epoch 14/100
4378/4378 - 77s - loss: 0.0158 - accuracy: 0.8933 - val_loss: 0.0606 - val_accuracy: 0.6099 - lr: 0.0010 - 77s/epoch - 18ms/step
Epoch 15/100
4378/4378 - 79s - loss: 0.0155 - accuracy: 0.8958 - val_loss: 0.0631 - val_accuracy: 0.5997 - lr: 0.0010 - 79s/epoch - 18ms/step
Epoch 16/100
4378/4378 - 79s - loss: 0.0157 - accuracy: 0.8935 - val_loss: 0.0575 - val_accuracy: 0.6278 - lr: 0.0010 - 79s/epoch - 18ms/step
Epoch 17/100
4378/4378 - 77s - loss: 0.0160 - accuracy: 0.8905 - val_loss: 0.0574 - val_accuracy: 0.6257 - lr: 0.0010 - 77s/epoch - 18ms/step
Epoch 18/100
4378/4378 - 78s - loss: 0.0157 - accuracy: 0.8938 - val_loss: 0.0538 - val_accuracy: 0.6609 - lr: 0.0010 - 78s/epoch - 18ms/step
Epoch 19/100
4378/4378 - 77s - loss: 0.0157 - accuracy: 0.8940 - val_loss: 0.0553 - val_accuracy: 0.6510 - lr: 0.0010 - 77s/epoch - 18ms/step
Epoch 20/100
4378/4378 - 77s - loss: 0.0161 - accuracy: 0.8893 - val_loss: 0.0560 - val_accuracy: 0.6401 - lr: 0.0010 - 77s/epoch - 18ms/step
Epoch 21/100
4378/4378 - 76s - loss: 0.0160 - accuracy: 0.8916 - val_loss: 0.0575 - val_accuracy: 0.6360 - lr: 0.0010 - 76s/epoch - 17ms/step
Epoch 22/100
4378/4378 - 80s - loss: 0.0161 - accuracy: 0.8903 - val_loss: 0.0591 - val_accuracy: 0.6252 - lr: 0.0010 - 80s/epoch - 18ms/step
Epoch 23/100
4378/4378 - 75s - loss: 0.0161 - accuracy: 0.8903 - val_loss: 0.0628 - val_accuracy: 0.5931 - lr: 0.0010 - 75s/epoch - 17ms/step
Epoch 24/100
4378/4378 - 75s - loss: 0.0160 - accuracy: 0.8915 - val_loss: 0.0521 - val_accuracy: 0.6718 - lr: 0.0010 - 75s/epoch - 17ms/step
Epoch 25/100
4378/4378 - 78s - loss: 0.0162 - accuracy: 0.8906 - val_loss: 0.0589 - val_accuracy: 0.6170 - lr: 0.0010 - 78s/epoch - 18ms/step
Epoch 26/100
4378/4378 - 77s - loss: 0.0162 - accuracy: 0.8899 - val_loss: 0.0609 - val_accuracy: 0.6090 - lr: 0.0010 - 77s/epoch - 18ms/step
Epoch 27/100
4378/4378 - 77s - loss: 0.0157 - accuracy: 0.8940 - val_loss: 0.0606 - val_accuracy: 0.6196 - lr: 0.0010 - 77s/epoch - 18ms/step
Epoch 28/100
4378/4378 - 86s - loss: 0.0161 - accuracy: 0.8917 - val_loss: 0.0567 - val_accuracy: 0.6390 - lr: 0.0010 - 86s/epoch - 20ms/step
Epoch 29/100
4378/4378 - 83s - loss: 0.0159 - accuracy: 0.8922 - val_loss: 0.0555 - val_accuracy: 0.6493 - lr: 0.0010 - 83s/epoch - 19ms/step
Epoch 30/100
4378/4378 - 83s - loss: 0.0161 - accuracy: 0.8915 - val_loss: 0.0561 - val_accuracy: 0.6466 - lr: 0.0010 - 83s/epoch - 19ms/step
Epoch 31/100
4378/4378 - 82s - loss: 0.0157 - accuracy: 0.8939 - val_loss: 0.0514 - val_accuracy: 0.6745 - lr: 0.0010 - 82s/epoch - 19ms/step
Epoch 32/100
4378/4378 - 82s - loss: 0.0161 - accuracy: 0.8914 - val_loss: 0.0573 - val_accuracy: 0.6284 - lr: 0.0010 - 82s/epoch - 19ms/step
Epoch 33/100
4378/4378 - 81s - loss: 0.0161 - accuracy: 0.8910 - val_loss: 0.0574 - val_accuracy: 0.6384 - lr: 0.0010 - 81s/epoch - 19ms/step
Epoch 34/100
4378/4378 - 83s - loss: 0.0154 - accuracy: 0.8958 - val_loss: 0.0584 - val_accuracy: 0.6237 - lr: 0.0010 - 83s/epoch - 19ms/step
Epoch 35/100
4378/4378 - 79s - loss: 0.0160 - accuracy: 0.8911 - val_loss: 0.0556 - val_accuracy: 0.6405 - lr: 0.0010 - 79s/epoch - 18ms/step
Epoch 36/100
4378/4378 - 80s - loss: 0.0158 - accuracy: 0.8933 - val_loss: 0.0645 - val_accuracy: 0.5914 - lr: 0.0010 - 80s/epoch - 18ms/step
Epoch 37/100
4378/4378 - 79s - loss: 0.0162 - accuracy: 0.8894 - val_loss: 0.0604 - val_accuracy: 0.6180 - lr: 0.0010 - 79s/epoch - 18ms/step
Epoch 38/100
4378/4378 - 79s - loss: 0.0157 - accuracy: 0.8935 - val_loss: 0.0578 - val_accuracy: 0.6264 - lr: 0.0010 - 79s/epoch - 18ms/step
Epoch 39/100
4378/4378 - 80s - loss: 0.0161 - accuracy: 0.8907 - val_loss: 0.0603 - val_accuracy: 0.6172 - lr: 0.0010 - 80s/epoch - 18ms/step
Epoch 40/100
4378/4378 - 80s - loss: 0.0159 - accuracy: 0.8915 - val_loss: 0.0599 - val_accuracy: 0.6198 - lr: 0.0010 - 80s/epoch - 18ms/step
Epoch 41/100
4378/4378 - 80s - loss: 0.0162 - accuracy: 0.8900 - val_loss: 0.0561 - val_accuracy: 0.6438 - lr: 0.0010 - 80s/epoch - 18ms/step
Epoch 42/100
4378/4378 - 80s - loss: 0.0162 - accuracy: 0.8902 - val_loss: 0.0645 - val_accuracy: 0.5888 - lr: 0.0010 - 80s/epoch - 18ms/step
Epoch 43/100
4378/4378 - 80s - loss: 0.0163 - accuracy: 0.8883 - val_loss: 0.0602 - val_accuracy: 0.6086 - lr: 0.0010 - 80s/epoch - 18ms/step
Epoch 44/100
4378/4378 - 79s - loss: 0.0162 - accuracy: 0.8894 - val_loss: 0.0610 - val_accuracy: 0.5973 - lr: 0.0010 - 79s/epoch - 18ms/step
Epoch 45/100
4378/4378 - 80s - loss: 0.0161 - accuracy: 0.8905 - val_loss: 0.0592 - val_accuracy: 0.6295 - lr: 0.0010 - 80s/epoch - 18ms/step
Epoch 46/100
4378/4378 - 80s - loss: 0.0162 - accuracy: 0.8905 - val_loss: 0.0554 - val_accuracy: 0.6436 - lr: 0.0010 - 80s/epoch - 18ms/step
Epoch 47/100
4378/4378 - 78s - loss: 0.0158 - accuracy: 0.8927 - val_loss: 0.0617 - val_accuracy: 0.6057 - lr: 0.0010 - 78s/epoch - 18ms/step
Epoch 48/100
4378/4378 - 79s - loss: 0.0156 - accuracy: 0.8948 - val_loss: 0.0592 - val_accuracy: 0.6311 - lr: 0.0010 - 79s/epoch - 18ms/step
Epoch 49/100
4378/4378 - 78s - loss: 0.0158 - accuracy: 0.8934 - val_loss: 0.0609 - val_accuracy: 0.6184 - lr: 0.0010 - 78s/epoch - 18ms/step
Epoch 50/100
4378/4378 - 78s - loss: 0.0154 - accuracy: 0.8948 - val_loss: 0.0640 - val_accuracy: 0.5896 - lr: 0.0010 - 78s/epoch - 18ms/step
Epoch 51/100
4378/4378 - 77s - loss: 0.0161 - accuracy: 0.8913 - val_loss: 0.0601 - val_accuracy: 0.6179 - lr: 0.0010 - 77s/epoch - 18ms/step
Epoch 52/100
4378/4378 - 77s - loss: 0.0158 - accuracy: 0.8940 - val_loss: 0.0652 - val_accuracy: 0.5858 - lr: 0.0010 - 77s/epoch - 18ms/step
Epoch 53/100
4378/4378 - 78s - loss: 0.0156 - accuracy: 0.8945 - val_loss: 0.0638 - val_accuracy: 0.5940 - lr: 0.0010 - 78s/epoch - 18ms/step
Epoch 54/100
4378/4378 - 78s - loss: 0.0157 - accuracy: 0.8936 - val_loss: 0.0555 - val_accuracy: 0.6509 - lr: 0.0010 - 78s/epoch - 18ms/step
Epoch 55/100
4378/4378 - 77s - loss: 0.0158 - accuracy: 0.8939 - val_loss: 0.0581 - val_accuracy: 0.6291 - lr: 0.0010 - 77s/epoch - 18ms/step
Epoch 56/100
4378/4378 - 77s - loss: 0.0156 - accuracy: 0.8939 - val_loss: 0.0569 - val_accuracy: 0.6393 - lr: 0.0010 - 77s/epoch - 18ms/step
Epoch 57/100
4378/4378 - 77s - loss: 0.0157 - accuracy: 0.8942 - val_loss: 0.0597 - val_accuracy: 0.6213 - lr: 0.0010 - 77s/epoch - 18ms/step
Epoch 58/100
4378/4378 - 78s - loss: 0.0158 - accuracy: 0.8927 - val_loss: 0.0601 - val_accuracy: 0.6205 - lr: 0.0010 - 78s/epoch - 18ms/step
Epoch 59/100
4378/4378 - 77s - loss: 0.0154 - accuracy: 0.8958 - val_loss: 0.0623 - val_accuracy: 0.6093 - lr: 0.0010 - 77s/epoch - 18ms/step
Epoch 60/100
4378/4378 - 79s - loss: 0.0159 - accuracy: 0.8923 - val_loss: 0.0527 - val_accuracy: 0.6637 - lr: 0.0010 - 79s/epoch - 18ms/step
Epoch 61/100
4378/4378 - 77s - loss: 0.0158 - accuracy: 0.8930 - val_loss: 0.0547 - val_accuracy: 0.6523 - lr: 0.0010 - 77s/epoch - 18ms/step
Epoch 62/100
4378/4378 - 76s - loss: 0.0158 - accuracy: 0.8931 - val_loss: 0.0551 - val_accuracy: 0.6520 - lr: 0.0010 - 76s/epoch - 17ms/step
Epoch 63/100
4378/4378 - 76s - loss: 0.0161 - accuracy: 0.8918 - val_loss: 0.0584 - val_accuracy: 0.6207 - lr: 0.0010 - 76s/epoch - 17ms/step
Epoch 64/100
4378/4378 - 79s - loss: 0.0158 - accuracy: 0.8931 - val_loss: 0.0633 - val_accuracy: 0.5968 - lr: 0.0010 - 79s/epoch - 18ms/step
Epoch 65/100
4378/4378 - 78s - loss: 0.0160 - accuracy: 0.8917 - val_loss: 0.0603 - val_accuracy: 0.6196 - lr: 0.0010 - 78s/epoch - 18ms/step
Epoch 66/100
4378/4378 - 76s - loss: 0.0161 - accuracy: 0.8917 - val_loss: 0.0592 - val_accuracy: 0.6258 - lr: 0.0010 - 76s/epoch - 17ms/step
Epoch 67/100
4378/4378 - 78s - loss: 0.0159 - accuracy: 0.8926 - val_loss: 0.0592 - val_accuracy: 0.6225 - lr: 0.0010 - 78s/epoch - 18ms/step
Epoch 68/100
4378/4378 - 76s - loss: 0.0160 - accuracy: 0.8912 - val_loss: 0.0568 - val_accuracy: 0.6357 - lr: 0.0010 - 76s/epoch - 17ms/step
Epoch 69/100
4378/4378 - 76s - loss: 0.0164 - accuracy: 0.8887 - val_loss: 0.0603 - val_accuracy: 0.6205 - lr: 0.0010 - 76s/epoch - 17ms/step
Epoch 70/100
4378/4378 - 74s - loss: 0.0158 - accuracy: 0.8924 - val_loss: 0.0600 - val_accuracy: 0.6152 - lr: 0.0010 - 74s/epoch - 17ms/step
Epoch 71/100
4378/4378 - 77s - loss: 0.0161 - accuracy: 0.8901 - val_loss: 0.0594 - val_accuracy: 0.6177 - lr: 0.0010 - 77s/epoch - 17ms/step
Epoch 72/100
4378/4378 - 76s - loss: 0.0157 - accuracy: 0.8939 - val_loss: 0.0571 - val_accuracy: 0.6398 - lr: 0.0010 - 76s/epoch - 17ms/step
Epoch 73/100
4378/4378 - 76s - loss: 0.0155 - accuracy: 0.8959 - val_loss: 0.0623 - val_accuracy: 0.6057 - lr: 0.0010 - 76s/epoch - 17ms/step
Epoch 74/100
4378/4378 - 79s - loss: 0.0160 - accuracy: 0.8923 - val_loss: 0.0637 - val_accuracy: 0.5828 - lr: 0.0010 - 79s/epoch - 18ms/step
Epoch 75/100
4378/4378 - 89s - loss: 0.0156 - accuracy: 0.8939 - val_loss: 0.0585 - val_accuracy: 0.6273 - lr: 0.0010 - 89s/epoch - 20ms/step
Epoch 76/100
4378/4378 - 92s - loss: 0.0159 - accuracy: 0.8926 - val_loss: 0.0577 - val_accuracy: 0.6233 - lr: 0.0010 - 92s/epoch - 21ms/step
Epoch 77/100
4378/4378 - 80s - loss: 0.0161 - accuracy: 0.8910 - val_loss: 0.0605 - val_accuracy: 0.6112 - lr: 0.0010 - 80s/epoch - 18ms/step
Epoch 78/100
4378/4378 - 81s - loss: 0.0162 - accuracy: 0.8913 - val_loss: 0.0608 - val_accuracy: 0.6124 - lr: 0.0010 - 81s/epoch - 19ms/step
Epoch 79/100
4378/4378 - 77s - loss: 0.0156 - accuracy: 0.8954 - val_loss: 0.0608 - val_accuracy: 0.6167 - lr: 0.0010 - 77s/epoch - 18ms/step
Epoch 80/100
4378/4378 - 78s - loss: 0.0160 - accuracy: 0.8919 - val_loss: 0.0508 - val_accuracy: 0.6810 - lr: 0.0010 - 78s/epoch - 18ms/step
Epoch 81/100
4378/4378 - 77s - loss: 0.0159 - accuracy: 0.8924 - val_loss: 0.0590 - val_accuracy: 0.6296 - lr: 0.0010 - 77s/epoch - 18ms/step
Epoch 82/100
4378/4378 - 76s - loss: 0.0157 - accuracy: 0.8943 - val_loss: 0.0549 - val_accuracy: 0.6525 - lr: 0.0010 - 76s/epoch - 17ms/step
Epoch 83/100
4378/4378 - 76s - loss: 0.0157 - accuracy: 0.8931 - val_loss: 0.0552 - val_accuracy: 0.6497 - lr: 0.0010 - 76s/epoch - 17ms/step
Epoch 84/100
4378/4378 - 76s - loss: 0.0157 - accuracy: 0.8939 - val_loss: 0.0629 - val_accuracy: 0.5986 - lr: 0.0010 - 76s/epoch - 17ms/step
Epoch 85/100
4378/4378 - 76s - loss: 0.0155 - accuracy: 0.8955 - val_loss: 0.0599 - val_accuracy: 0.6185 - lr: 0.0010 - 76s/epoch - 17ms/step
Epoch 86/100
4378/4378 - 77s - loss: 0.0158 - accuracy: 0.8933 - val_loss: 0.0561 - val_accuracy: 0.6376 - lr: 0.0010 - 77s/epoch - 18ms/step
Epoch 87/100
4378/4378 - 80s - loss: 0.0162 - accuracy: 0.8916 - val_loss: 0.0667 - val_accuracy: 0.5752 - lr: 0.0010 - 80s/epoch - 18ms/step
Epoch 88/100
4378/4378 - 83s - loss: 0.0158 - accuracy: 0.8940 - val_loss: 0.0518 - val_accuracy: 0.6762 - lr: 0.0010 - 83s/epoch - 19ms/step
Epoch 89/100
4378/4378 - 83s - loss: 0.0159 - accuracy: 0.8925 - val_loss: 0.0635 - val_accuracy: 0.5963 - lr: 0.0010 - 83s/epoch - 19ms/step
Epoch 90/100
4378/4378 - 82s - loss: 0.0158 - accuracy: 0.8939 - val_loss: 0.0535 - val_accuracy: 0.6617 - lr: 0.0010 - 82s/epoch - 19ms/step
Epoch 91/100
4378/4378 - 82s - loss: 0.0159 - accuracy: 0.8933 - val_loss: 0.0597 - val_accuracy: 0.6226 - lr: 0.0010 - 82s/epoch - 19ms/step
Epoch 92/100
4378/4378 - 82s - loss: 0.0156 - accuracy: 0.8946 - val_loss: 0.0594 - val_accuracy: 0.6260 - lr: 0.0010 - 82s/epoch - 19ms/step
Epoch 93/100
4378/4378 - 82s - loss: 0.0155 - accuracy: 0.8952 - val_loss: 0.0672 - val_accuracy: 0.5714 - lr: 0.0010 - 82s/epoch - 19ms/step
Epoch 94/100
4378/4378 - 82s - loss: 0.0159 - accuracy: 0.8922 - val_loss: 0.0648 - val_accuracy: 0.5910 - lr: 0.0010 - 82s/epoch - 19ms/step
Epoch 95/100
4378/4378 - 82s - loss: 0.0155 - accuracy: 0.8952 - val_loss: 0.0609 - val_accuracy: 0.6147 - lr: 0.0010 - 82s/epoch - 19ms/step
Epoch 96/100
4378/4378 - 83s - loss: 0.0154 - accuracy: 0.8969 - val_loss: 0.0609 - val_accuracy: 0.6184 - lr: 0.0010 - 83s/epoch - 19ms/step
Epoch 97/100
4378/4378 - 82s - loss: 0.0156 - accuracy: 0.8952 - val_loss: 0.0657 - val_accuracy: 0.5811 - lr: 0.0010 - 82s/epoch - 19ms/step
Epoch 98/100
4378/4378 - 79s - loss: 0.0154 - accuracy: 0.8958 - val_loss: 0.0640 - val_accuracy: 0.5976 - lr: 0.0010 - 79s/epoch - 18ms/step
Epoch 99/100
4378/4378 - 78s - loss: 0.0159 - accuracy: 0.8924 - val_loss: 0.0580 - val_accuracy: 0.6251 - lr: 0.0010 - 78s/epoch - 18ms/step
Epoch 100/100
4378/4378 - 78s - loss: 0.0162 - accuracy: 0.8900 - val_loss: 0.0600 - val_accuracy: 0.6138 - lr: 0.0010 - 78s/epoch - 18ms/step
Epoch 1/100
876/876 - 25s - loss: 0.0115 - accuracy: 0.9247 - val_loss: 0.0633 - val_accuracy: 0.6086 - lr: 0.0010 - 25s/epoch - 29ms/step
Epoch 2/100
876/876 - 23s - loss: 0.0111 - accuracy: 0.9273 - val_loss: 0.0630 - val_accuracy: 0.6170 - lr: 0.0010 - 23s/epoch - 26ms/step
Epoch 3/100
876/876 - 23s - loss: 0.0112 - accuracy: 0.9254 - val_loss: 0.0606 - val_accuracy: 0.6316 - lr: 0.0010 - 23s/epoch - 26ms/step
Epoch 4/100
876/876 - 23s - loss: 0.0107 - accuracy: 0.9300 - val_loss: 0.0609 - val_accuracy: 0.6321 - lr: 0.0010 - 23s/epoch - 26ms/step
Epoch 5/100
876/876 - 23s - loss: 0.0104 - accuracy: 0.9316 - val_loss: 0.0677 - val_accuracy: 0.5874 - lr: 0.0010 - 23s/epoch - 26ms/step
Epoch 6/100
876/876 - 23s - loss: 0.0105 - accuracy: 0.9304 - val_loss: 0.0675 - val_accuracy: 0.5908 - lr: 0.0010 - 23s/epoch - 26ms/step
Epoch 7/100
876/876 - 23s - loss: 0.0104 - accuracy: 0.9316 - val_loss: 0.0682 - val_accuracy: 0.5871 - lr: 0.0010 - 23s/epoch - 26ms/step
Epoch 8/100
876/876 - 23s - loss: 0.0103 - accuracy: 0.9328 - val_loss: 0.0698 - val_accuracy: 0.5798 - lr: 0.0010 - 23s/epoch - 26ms/step
Epoch 9/100
876/876 - 23s - loss: 0.0102 - accuracy: 0.9332 - val_loss: 0.0650 - val_accuracy: 0.6052 - lr: 0.0010 - 23s/epoch - 27ms/step
Epoch 10/100
876/876 - 23s - loss: 0.0103 - accuracy: 0.9319 - val_loss: 0.0642 - val_accuracy: 0.6114 - lr: 0.0010 - 23s/epoch - 26ms/step
Epoch 11/100
876/876 - 22s - loss: 0.0103 - accuracy: 0.9325 - val_loss: 0.0626 - val_accuracy: 0.6242 - lr: 0.0010 - 22s/epoch - 26ms/step
Epoch 12/100
876/876 - 22s - loss: 0.0102 - accuracy: 0.9340 - val_loss: 0.0618 - val_accuracy: 0.6302 - lr: 0.0010 - 22s/epoch - 25ms/step
Epoch 13/100
876/876 - 22s - loss: 0.0101 - accuracy: 0.9338 - val_loss: 0.0680 - val_accuracy: 0.5942 - lr: 0.0010 - 22s/epoch - 26ms/step
Epoch 14/100
876/876 - 23s - loss: 0.0099 - accuracy: 0.9353 - val_loss: 0.0655 - val_accuracy: 0.6093 - lr: 0.0010 - 23s/epoch - 26ms/step
Epoch 15/100
876/876 - 23s - loss: 0.0099 - accuracy: 0.9352 - val_loss: 0.0606 - val_accuracy: 0.6371 - lr: 0.0010 - 23s/epoch - 26ms/step
Epoch 16/100
876/876 - 23s - loss: 0.0100 - accuracy: 0.9348 - val_loss: 0.0666 - val_accuracy: 0.6026 - lr: 0.0010 - 23s/epoch - 26ms/step
Epoch 17/100
876/876 - 23s - loss: 0.0098 - accuracy: 0.9365 - val_loss: 0.0630 - val_accuracy: 0.6255 - lr: 0.0010 - 23s/epoch - 26ms/step
Epoch 18/100
876/876 - 23s - loss: 0.0096 - accuracy: 0.9383 - val_loss: 0.0675 - val_accuracy: 0.5964 - lr: 0.0010 - 23s/epoch - 26ms/step
Epoch 19/100
876/876 - 23s - loss: 0.0097 - accuracy: 0.9366 - val_loss: 0.0689 - val_accuracy: 0.5830 - lr: 0.0010 - 23s/epoch - 26ms/step
Epoch 20/100
876/876 - 22s - loss: 0.0099 - accuracy: 0.9355 - val_loss: 0.0675 - val_accuracy: 0.5924 - lr: 0.0010 - 22s/epoch - 26ms/step
Epoch 21/100
876/876 - 23s - loss: 0.0098 - accuracy: 0.9363 - val_loss: 0.0623 - val_accuracy: 0.6254 - lr: 0.0010 - 23s/epoch - 26ms/step
Epoch 22/100
876/876 - 23s - loss: 0.0097 - accuracy: 0.9373 - val_loss: 0.0658 - val_accuracy: 0.6036 - lr: 0.0010 - 23s/epoch - 26ms/step
Epoch 23/100
876/876 - 22s - loss: 0.0097 - accuracy: 0.9363 - val_loss: 0.0657 - val_accuracy: 0.6057 - lr: 0.0010 - 22s/epoch - 26ms/step
Epoch 24/100
876/876 - 23s - loss: 0.0097 - accuracy: 0.9358 - val_loss: 0.0693 - val_accuracy: 0.5808 - lr: 0.0010 - 23s/epoch - 26ms/step
Epoch 25/100
876/876 - 23s - loss: 0.0096 - accuracy: 0.9370 - val_loss: 0.0678 - val_accuracy: 0.5937 - lr: 0.0010 - 23s/epoch - 26ms/step
Epoch 26/100
876/876 - 22s - loss: 0.0096 - accuracy: 0.9375 - val_loss: 0.0679 - val_accuracy: 0.5973 - lr: 0.0010 - 22s/epoch - 26ms/step
Epoch 27/100
876/876 - 22s - loss: 0.0097 - accuracy: 0.9361 - val_loss: 0.0653 - val_accuracy: 0.6092 - lr: 0.0010 - 22s/epoch - 25ms/step
Epoch 28/100
876/876 - 23s - loss: 0.0096 - accuracy: 0.9375 - val_loss: 0.0633 - val_accuracy: 0.6254 - lr: 0.0010 - 23s/epoch - 26ms/step
Epoch 29/100
876/876 - 23s - loss: 0.0096 - accuracy: 0.9373 - val_loss: 0.0638 - val_accuracy: 0.6200 - lr: 0.0010 - 23s/epoch - 26ms/step
Epoch 30/100
876/876 - 23s - loss: 0.0094 - accuracy: 0.9380 - val_loss: 0.0644 - val_accuracy: 0.6131 - lr: 0.0010 - 23s/epoch - 26ms/step
Epoch 31/100
876/876 - 22s - loss: 0.0097 - accuracy: 0.9371 - val_loss: 0.0653 - val_accuracy: 0.6050 - lr: 0.0010 - 22s/epoch - 26ms/step
Epoch 32/100
876/876 - 22s - loss: 0.0096 - accuracy: 0.9379 - val_loss: 0.0670 - val_accuracy: 0.5991 - lr: 0.0010 - 22s/epoch - 26ms/step
Epoch 33/100
876/876 - 23s - loss: 0.0095 - accuracy: 0.9388 - val_loss: 0.0640 - val_accuracy: 0.6180 - lr: 0.0010 - 23s/epoch - 26ms/step
Epoch 34/100
876/876 - 23s - loss: 0.0092 - accuracy: 0.9406 - val_loss: 0.0691 - val_accuracy: 0.5882 - lr: 0.0010 - 23s/epoch - 26ms/step
Epoch 35/100
876/876 - 22s - loss: 0.0096 - accuracy: 0.9381 - val_loss: 0.0720 - val_accuracy: 0.5696 - lr: 0.0010 - 22s/epoch - 25ms/step
Epoch 36/100
876/876 - 22s - loss: 0.0096 - accuracy: 0.9374 - val_loss: 0.0685 - val_accuracy: 0.5927 - lr: 0.0010 - 22s/epoch - 25ms/step
Epoch 37/100
876/876 - 22s - loss: 0.0095 - accuracy: 0.9378 - val_loss: 0.0627 - val_accuracy: 0.6266 - lr: 0.0010 - 22s/epoch - 25ms/step
Epoch 38/100
876/876 - 22s - loss: 0.0093 - accuracy: 0.9395 - val_loss: 0.0612 - val_accuracy: 0.6353 - lr: 0.0010 - 22s/epoch - 25ms/step
Epoch 39/100
876/876 - 23s - loss: 0.0095 - accuracy: 0.9383 - val_loss: 0.0666 - val_accuracy: 0.6048 - lr: 0.0010 - 23s/epoch - 26ms/step
Epoch 40/100
876/876 - 23s - loss: 0.0095 - accuracy: 0.9379 - val_loss: 0.0655 - val_accuracy: 0.6113 - lr: 0.0010 - 23s/epoch - 26ms/step
Epoch 41/100
876/876 - 23s - loss: 0.0096 - accuracy: 0.9376 - val_loss: 0.0681 - val_accuracy: 0.5948 - lr: 0.0010 - 23s/epoch - 27ms/step
Epoch 42/100
876/876 - 23s - loss: 0.0098 - accuracy: 0.9358 - val_loss: 0.0649 - val_accuracy: 0.6147 - lr: 0.0010 - 23s/epoch - 26ms/step
Epoch 43/100
876/876 - 23s - loss: 0.0092 - accuracy: 0.9400 - val_loss: 0.0685 - val_accuracy: 0.5888 - lr: 0.0010 - 23s/epoch - 27ms/step
Epoch 44/100
876/876 - 23s - loss: 0.0093 - accuracy: 0.9393 - val_loss: 0.0656 - val_accuracy: 0.6134 - lr: 0.0010 - 23s/epoch - 26ms/step
Epoch 45/100
876/876 - 23s - loss: 0.0094 - accuracy: 0.9392 - val_loss: 0.0670 - val_accuracy: 0.5999 - lr: 0.0010 - 23s/epoch - 27ms/step
Epoch 46/100
876/876 - 23s - loss: 0.0096 - accuracy: 0.9380 - val_loss: 0.0655 - val_accuracy: 0.6094 - lr: 0.0010 - 23s/epoch - 26ms/step
Epoch 47/100
876/876 - 23s - loss: 0.0091 - accuracy: 0.9411 - val_loss: 0.0627 - val_accuracy: 0.6249 - lr: 0.0010 - 23s/epoch - 26ms/step
Epoch 48/100
876/876 - 23s - loss: 0.0093 - accuracy: 0.9402 - val_loss: 0.0704 - val_accuracy: 0.5822 - lr: 0.0010 - 23s/epoch - 26ms/step
Epoch 49/100
876/876 - 23s - loss: 0.0093 - accuracy: 0.9391 - val_loss: 0.0679 - val_accuracy: 0.5999 - lr: 0.0010 - 23s/epoch - 26ms/step
Epoch 50/100
876/876 - 22s - loss: 0.0093 - accuracy: 0.9400 - val_loss: 0.0676 - val_accuracy: 0.5975 - lr: 0.0010 - 22s/epoch - 26ms/step
Epoch 51/100
876/876 - 22s - loss: 0.0095 - accuracy: 0.9382 - val_loss: 0.0679 - val_accuracy: 0.5964 - lr: 0.0010 - 22s/epoch - 26ms/step
Epoch 52/100
876/876 - 22s - loss: 0.0092 - accuracy: 0.9408 - val_loss: 0.0717 - val_accuracy: 0.5728 - lr: 0.0010 - 22s/epoch - 26ms/step
Epoch 53/100
876/876 - 24s - loss: 0.0094 - accuracy: 0.9388 - val_loss: 0.0686 - val_accuracy: 0.5929 - lr: 0.0010 - 24s/epoch - 28ms/step
Epoch 54/100
876/876 - 23s - loss: 0.0092 - accuracy: 0.9404 - val_loss: 0.0720 - val_accuracy: 0.5715 - lr: 0.0010 - 23s/epoch - 26ms/step
Epoch 55/100
876/876 - 22s - loss: 0.0090 - accuracy: 0.9414 - val_loss: 0.0651 - val_accuracy: 0.6164 - lr: 0.0010 - 22s/epoch - 25ms/step
Epoch 56/100
876/876 - 26s - loss: 0.0092 - accuracy: 0.9397 - val_loss: 0.0668 - val_accuracy: 0.6072 - lr: 0.0010 - 26s/epoch - 30ms/step
Epoch 57/100
876/876 - 25s - loss: 0.0089 - accuracy: 0.9420 - val_loss: 0.0625 - val_accuracy: 0.6317 - lr: 0.0010 - 25s/epoch - 29ms/step
Epoch 58/100
876/876 - 29s - loss: 0.0093 - accuracy: 0.9392 - val_loss: 0.0648 - val_accuracy: 0.6173 - lr: 0.0010 - 29s/epoch - 33ms/step
Epoch 59/100
876/876 - 25s - loss: 0.0095 - accuracy: 0.9389 - val_loss: 0.0661 - val_accuracy: 0.6114 - lr: 0.0010 - 25s/epoch - 28ms/step
Epoch 60/100
876/876 - 24s - loss: 0.0094 - accuracy: 0.9385 - val_loss: 0.0716 - val_accuracy: 0.5759 - lr: 0.0010 - 24s/epoch - 27ms/step
Epoch 61/100
876/876 - 25s - loss: 0.0092 - accuracy: 0.9398 - val_loss: 0.0661 - val_accuracy: 0.6058 - lr: 0.0010 - 25s/epoch - 28ms/step
Epoch 62/100
876/876 - 25s - loss: 0.0093 - accuracy: 0.9401 - val_loss: 0.0682 - val_accuracy: 0.5947 - lr: 0.0010 - 25s/epoch - 29ms/step
Epoch 63/100
876/876 - 25s - loss: 0.0092 - accuracy: 0.9394 - val_loss: 0.0723 - val_accuracy: 0.5672 - lr: 0.0010 - 25s/epoch - 28ms/step
Epoch 64/100
876/876 - 25s - loss: 0.0092 - accuracy: 0.9393 - val_loss: 0.0755 - val_accuracy: 0.5520 - lr: 0.0010 - 25s/epoch - 29ms/step
Epoch 65/100
876/876 - 25s - loss: 0.0093 - accuracy: 0.9395 - val_loss: 0.0702 - val_accuracy: 0.5814 - lr: 0.0010 - 25s/epoch - 28ms/step
Epoch 66/100
876/876 - 25s - loss: 0.0091 - accuracy: 0.9409 - val_loss: 0.0699 - val_accuracy: 0.5857 - lr: 0.0010 - 25s/epoch - 28ms/step
Epoch 67/100
876/876 - 25s - loss: 0.0090 - accuracy: 0.9415 - val_loss: 0.0671 - val_accuracy: 0.6046 - lr: 0.0010 - 25s/epoch - 28ms/step
Epoch 68/100
876/876 - 26s - loss: 0.0094 - accuracy: 0.9388 - val_loss: 0.0684 - val_accuracy: 0.5885 - lr: 0.0010 - 26s/epoch - 30ms/step
Epoch 69/100
876/876 - 26s - loss: 0.0092 - accuracy: 0.9401 - val_loss: 0.0637 - val_accuracy: 0.6247 - lr: 0.0010 - 26s/epoch - 30ms/step
Epoch 70/100
876/876 - 26s - loss: 0.0090 - accuracy: 0.9411 - val_loss: 0.0614 - val_accuracy: 0.6379 - lr: 0.0010 - 26s/epoch - 30ms/step
Epoch 71/100
876/876 - 26s - loss: 0.0087 - accuracy: 0.9433 - val_loss: 0.0655 - val_accuracy: 0.6140 - lr: 0.0010 - 26s/epoch - 30ms/step
Epoch 72/100
876/876 - 26s - loss: 0.0089 - accuracy: 0.9422 - val_loss: 0.0685 - val_accuracy: 0.5961 - lr: 0.0010 - 26s/epoch - 30ms/step
Epoch 73/100
876/876 - 26s - loss: 0.0092 - accuracy: 0.9403 - val_loss: 0.0696 - val_accuracy: 0.5901 - lr: 0.0010 - 26s/epoch - 29ms/step
Epoch 74/100
876/876 - 25s - loss: 0.0090 - accuracy: 0.9415 - val_loss: 0.0667 - val_accuracy: 0.6064 - lr: 0.0010 - 25s/epoch - 29ms/step
Epoch 75/100
876/876 - 23s - loss: 0.0090 - accuracy: 0.9417 - val_loss: 0.0660 - val_accuracy: 0.6124 - lr: 0.0010 - 23s/epoch - 27ms/step
Epoch 76/100
876/876 - 24s - loss: 0.0092 - accuracy: 0.9401 - val_loss: 0.0729 - val_accuracy: 0.5657 - lr: 0.0010 - 24s/epoch - 27ms/step
Epoch 77/100
876/876 - 22s - loss: 0.0093 - accuracy: 0.9391 - val_loss: 0.0694 - val_accuracy: 0.5845 - lr: 0.0010 - 22s/epoch - 25ms/step
Epoch 78/100
876/876 - 23s - loss: 0.0091 - accuracy: 0.9413 - val_loss: 0.0647 - val_accuracy: 0.6167 - lr: 0.0010 - 23s/epoch - 26ms/step
Epoch 79/100
876/876 - 23s - loss: 0.0090 - accuracy: 0.9413 - val_loss: 0.0686 - val_accuracy: 0.5951 - lr: 0.0010 - 23s/epoch - 26ms/step
Epoch 80/100
876/876 - 23s - loss: 0.0089 - accuracy: 0.9423 - val_loss: 0.0679 - val_accuracy: 0.5967 - lr: 0.0010 - 23s/epoch - 26ms/step
Epoch 81/100
876/876 - 24s - loss: 0.0090 - accuracy: 0.9416 - val_loss: 0.0709 - val_accuracy: 0.5818 - lr: 0.0010 - 24s/epoch - 27ms/step
Epoch 82/100
876/876 - 23s - loss: 0.0091 - accuracy: 0.9417 - val_loss: 0.0701 - val_accuracy: 0.5898 - lr: 0.0010 - 23s/epoch - 26ms/step
Epoch 83/100
876/876 - 23s - loss: 0.0091 - accuracy: 0.9408 - val_loss: 0.0698 - val_accuracy: 0.5837 - lr: 0.0010 - 23s/epoch - 26ms/step
Epoch 84/100
876/876 - 23s - loss: 0.0092 - accuracy: 0.9405 - val_loss: 0.0639 - val_accuracy: 0.6245 - lr: 0.0010 - 23s/epoch - 26ms/step
Epoch 85/100
876/876 - 23s - loss: 0.0089 - accuracy: 0.9428 - val_loss: 0.0686 - val_accuracy: 0.5921 - lr: 0.0010 - 23s/epoch - 26ms/step
Epoch 86/100
876/876 - 23s - loss: 0.0088 - accuracy: 0.9433 - val_loss: 0.0706 - val_accuracy: 0.5856 - lr: 0.0010 - 23s/epoch - 26ms/step
Epoch 87/100
876/876 - 23s - loss: 0.0091 - accuracy: 0.9409 - val_loss: 0.0710 - val_accuracy: 0.5803 - lr: 0.0010 - 23s/epoch - 26ms/step
Epoch 88/100
876/876 - 22s - loss: 0.0089 - accuracy: 0.9421 - val_loss: 0.0672 - val_accuracy: 0.5997 - lr: 0.0010 - 22s/epoch - 26ms/step
Epoch 89/100
876/876 - 24s - loss: 0.0088 - accuracy: 0.9435 - val_loss: 0.0732 - val_accuracy: 0.5699 - lr: 0.0010 - 24s/epoch - 27ms/step
Epoch 90/100
876/876 - 23s - loss: 0.0091 - accuracy: 0.9408 - val_loss: 0.0694 - val_accuracy: 0.5916 - lr: 0.0010 - 23s/epoch - 26ms/step
Epoch 91/100
876/876 - 23s - loss: 0.0088 - accuracy: 0.9428 - val_loss: 0.0696 - val_accuracy: 0.5895 - lr: 0.0010 - 23s/epoch - 26ms/step
Epoch 92/100
876/876 - 24s - loss: 0.0091 - accuracy: 0.9402 - val_loss: 0.0673 - val_accuracy: 0.6010 - lr: 0.0010 - 24s/epoch - 27ms/step
Epoch 93/100
876/876 - 23s - loss: 0.0092 - accuracy: 0.9400 - val_loss: 0.0680 - val_accuracy: 0.6023 - lr: 0.0010 - 23s/epoch - 26ms/step
Epoch 94/100
876/876 - 23s - loss: 0.0087 - accuracy: 0.9438 - val_loss: 0.0715 - val_accuracy: 0.5809 - lr: 0.0010 - 23s/epoch - 26ms/step
Epoch 95/100
876/876 - 24s - loss: 0.0089 - accuracy: 0.9417 - val_loss: 0.0686 - val_accuracy: 0.5977 - lr: 0.0010 - 24s/epoch - 27ms/step
Epoch 96/100
876/876 - 23s - loss: 0.0088 - accuracy: 0.9432 - val_loss: 0.0698 - val_accuracy: 0.5881 - lr: 0.0010 - 23s/epoch - 27ms/step
Epoch 97/100
876/876 - 24s - loss: 0.0091 - accuracy: 0.9412 - val_loss: 0.0703 - val_accuracy: 0.5829 - lr: 0.0010 - 24s/epoch - 27ms/step
Epoch 98/100
876/876 - 23s - loss: 0.0090 - accuracy: 0.9417 - val_loss: 0.0674 - val_accuracy: 0.6035 - lr: 0.0010 - 23s/epoch - 27ms/step
Epoch 99/100
876/876 - 23s - loss: 0.0091 - accuracy: 0.9416 - val_loss: 0.0717 - val_accuracy: 0.5783 - lr: 0.0010 - 23s/epoch - 26ms/step
Epoch 100/100
876/876 - 23s - loss: 0.0093 - accuracy: 0.9394 - val_loss: 0.0703 - val_accuracy: 0.5851 - lr: 0.0010 - 23s/epoch - 26ms/step
Epoch 1/100
176/176 - 15s - loss: 0.0067 - accuracy: 0.9569 - val_loss: 0.0719 - val_accuracy: 0.5769 - lr: 0.0010 - 15s/epoch - 88ms/step
Epoch 2/100
176/176 - 12s - loss: 0.0059 - accuracy: 0.9632 - val_loss: 0.0722 - val_accuracy: 0.5773 - lr: 0.0010 - 12s/epoch - 71ms/step
Epoch 3/100
176/176 - 13s - loss: 0.0058 - accuracy: 0.9642 - val_loss: 0.0704 - val_accuracy: 0.5892 - lr: 0.0010 - 13s/epoch - 71ms/step
Epoch 4/100
176/176 - 13s - loss: 0.0055 - accuracy: 0.9658 - val_loss: 0.0736 - val_accuracy: 0.5739 - lr: 0.0010 - 13s/epoch - 71ms/step
Epoch 5/100
176/176 - 12s - loss: 0.0058 - accuracy: 0.9637 - val_loss: 0.0727 - val_accuracy: 0.5791 - lr: 0.0010 - 12s/epoch - 71ms/step
Epoch 6/100
176/176 - 13s - loss: 0.0057 - accuracy: 0.9648 - val_loss: 0.0725 - val_accuracy: 0.5791 - lr: 0.0010 - 13s/epoch - 71ms/step
Epoch 7/100
176/176 - 12s - loss: 0.0059 - accuracy: 0.9632 - val_loss: 0.0721 - val_accuracy: 0.5841 - lr: 0.0010 - 12s/epoch - 71ms/step
Epoch 8/100
176/176 - 13s - loss: 0.0058 - accuracy: 0.9641 - val_loss: 0.0731 - val_accuracy: 0.5816 - lr: 0.0010 - 13s/epoch - 71ms/step
Epoch 9/100
176/176 - 12s - loss: 0.0058 - accuracy: 0.9632 - val_loss: 0.0744 - val_accuracy: 0.5758 - lr: 0.0010 - 12s/epoch - 71ms/step
Epoch 10/100
176/176 - 12s - loss: 0.0058 - accuracy: 0.9642 - val_loss: 0.0735 - val_accuracy: 0.5799 - lr: 0.0010 - 12s/epoch - 71ms/step
Epoch 11/100
176/176 - 12s - loss: 0.0056 - accuracy: 0.9652 - val_loss: 0.0724 - val_accuracy: 0.5840 - lr: 0.0010 - 12s/epoch - 68ms/step
Epoch 12/100
176/176 - 12s - loss: 0.0057 - accuracy: 0.9643 - val_loss: 0.0742 - val_accuracy: 0.5777 - lr: 0.0010 - 12s/epoch - 68ms/step
Epoch 13/100
176/176 - 11s - loss: 0.0059 - accuracy: 0.9634 - val_loss: 0.0738 - val_accuracy: 0.5824 - lr: 0.0010 - 11s/epoch - 65ms/step
Epoch 14/100
176/176 - 11s - loss: 0.0060 - accuracy: 0.9622 - val_loss: 0.0756 - val_accuracy: 0.5701 - lr: 0.0010 - 11s/epoch - 65ms/step
Epoch 15/100
176/176 - 11s - loss: 0.0061 - accuracy: 0.9617 - val_loss: 0.0746 - val_accuracy: 0.5724 - lr: 0.0010 - 11s/epoch - 65ms/step
Epoch 16/100
176/176 - 12s - loss: 0.0059 - accuracy: 0.9626 - val_loss: 0.0748 - val_accuracy: 0.5746 - lr: 0.0010 - 12s/epoch - 67ms/step
Epoch 17/100
176/176 - 12s - loss: 0.0060 - accuracy: 0.9623 - val_loss: 0.0784 - val_accuracy: 0.5530 - lr: 0.0010 - 12s/epoch - 71ms/step
Epoch 18/100
176/176 - 12s - loss: 0.0058 - accuracy: 0.9640 - val_loss: 0.0781 - val_accuracy: 0.5532 - lr: 0.0010 - 12s/epoch - 71ms/step
Epoch 19/100
176/176 - 13s - loss: 0.0061 - accuracy: 0.9623 - val_loss: 0.0784 - val_accuracy: 0.5547 - lr: 0.0010 - 13s/epoch - 72ms/step
Epoch 20/100
176/176 - 12s - loss: 0.0060 - accuracy: 0.9622 - val_loss: 0.0772 - val_accuracy: 0.5620 - lr: 0.0010 - 12s/epoch - 68ms/step
Epoch 21/100
176/176 - 11s - loss: 0.0059 - accuracy: 0.9634 - val_loss: 0.0800 - val_accuracy: 0.5453 - lr: 0.0010 - 11s/epoch - 64ms/step
Epoch 22/100
176/176 - 12s - loss: 0.0057 - accuracy: 0.9648 - val_loss: 0.0725 - val_accuracy: 0.5868 - lr: 0.0010 - 12s/epoch - 65ms/step
Epoch 23/100
176/176 - 12s - loss: 0.0057 - accuracy: 0.9648 - val_loss: 0.0823 - val_accuracy: 0.5326 - lr: 0.0010 - 12s/epoch - 69ms/step
Epoch 24/100
176/176 - 12s - loss: 0.0057 - accuracy: 0.9646 - val_loss: 0.0776 - val_accuracy: 0.5593 - lr: 0.0010 - 12s/epoch - 71ms/step
Epoch 25/100
176/176 - 12s - loss: 0.0058 - accuracy: 0.9644 - val_loss: 0.0737 - val_accuracy: 0.5817 - lr: 0.0010 - 12s/epoch - 71ms/step
Epoch 26/100
176/176 - 12s - loss: 0.0057 - accuracy: 0.9647 - val_loss: 0.0714 - val_accuracy: 0.5922 - lr: 0.0010 - 12s/epoch - 71ms/step
Epoch 27/100
176/176 - 12s - loss: 0.0059 - accuracy: 0.9630 - val_loss: 0.0726 - val_accuracy: 0.5875 - lr: 0.0010 - 12s/epoch - 70ms/step
Epoch 28/100
176/176 - 12s - loss: 0.0057 - accuracy: 0.9648 - val_loss: 0.0761 - val_accuracy: 0.5662 - lr: 0.0010 - 12s/epoch - 68ms/step
Epoch 29/100
176/176 - 11s - loss: 0.0057 - accuracy: 0.9644 - val_loss: 0.0747 - val_accuracy: 0.5743 - lr: 0.0010 - 11s/epoch - 65ms/step
Epoch 30/100
176/176 - 11s - loss: 0.0059 - accuracy: 0.9631 - val_loss: 0.0721 - val_accuracy: 0.5929 - lr: 0.0010 - 11s/epoch - 63ms/step
Epoch 31/100
176/176 - 11s - loss: 0.0059 - accuracy: 0.9636 - val_loss: 0.0786 - val_accuracy: 0.5539 - lr: 0.0010 - 11s/epoch - 62ms/step
Epoch 32/100
176/176 - 11s - loss: 0.0055 - accuracy: 0.9662 - val_loss: 0.0775 - val_accuracy: 0.5633 - lr: 0.0010 - 11s/epoch - 64ms/step
Epoch 33/100
176/176 - 11s - loss: 0.0053 - accuracy: 0.9675 - val_loss: 0.0749 - val_accuracy: 0.5734 - lr: 0.0010 - 11s/epoch - 63ms/step
Epoch 34/100
176/176 - 11s - loss: 0.0053 - accuracy: 0.9677 - val_loss: 0.0763 - val_accuracy: 0.5666 - lr: 0.0010 - 11s/epoch - 63ms/step
Epoch 35/100
176/176 - 11s - loss: 0.0053 - accuracy: 0.9677 - val_loss: 0.0753 - val_accuracy: 0.5744 - lr: 0.0010 - 11s/epoch - 61ms/step
Epoch 36/100
176/176 - 11s - loss: 0.0053 - accuracy: 0.9673 - val_loss: 0.0753 - val_accuracy: 0.5721 - lr: 0.0010 - 11s/epoch - 60ms/step
Epoch 37/100
176/176 - 11s - loss: 0.0053 - accuracy: 0.9674 - val_loss: 0.0711 - val_accuracy: 0.5987 - lr: 0.0010 - 11s/epoch - 60ms/step
Epoch 38/100
176/176 - 11s - loss: 0.0053 - accuracy: 0.9673 - val_loss: 0.0759 - val_accuracy: 0.5726 - lr: 0.0010 - 11s/epoch - 63ms/step
Epoch 39/100
176/176 - 12s - loss: 0.0057 - accuracy: 0.9647 - val_loss: 0.0745 - val_accuracy: 0.5788 - lr: 0.0010 - 12s/epoch - 71ms/step
Epoch 40/100
176/176 - 13s - loss: 0.0056 - accuracy: 0.9655 - val_loss: 0.0780 - val_accuracy: 0.5562 - lr: 0.0010 - 13s/epoch - 74ms/step
Epoch 41/100
176/176 - 13s - loss: 0.0054 - accuracy: 0.9670 - val_loss: 0.0753 - val_accuracy: 0.5706 - lr: 0.0010 - 13s/epoch - 75ms/step
Epoch 42/100
176/176 - 13s - loss: 0.0052 - accuracy: 0.9682 - val_loss: 0.0714 - val_accuracy: 0.5972 - lr: 0.0010 - 13s/epoch - 74ms/step
Epoch 43/100
176/176 - 13s - loss: 0.0052 - accuracy: 0.9680 - val_loss: 0.0774 - val_accuracy: 0.5627 - lr: 0.0010 - 13s/epoch - 73ms/step
Epoch 44/100
176/176 - 12s - loss: 0.0053 - accuracy: 0.9671 - val_loss: 0.0817 - val_accuracy: 0.5370 - lr: 0.0010 - 12s/epoch - 69ms/step
Epoch 45/100
176/176 - 12s - loss: 0.0054 - accuracy: 0.9668 - val_loss: 0.0779 - val_accuracy: 0.5580 - lr: 0.0010 - 12s/epoch - 67ms/step
Epoch 46/100
176/176 - 12s - loss: 0.0056 - accuracy: 0.9654 - val_loss: 0.0724 - val_accuracy: 0.5922 - lr: 0.0010 - 12s/epoch - 68ms/step
Epoch 47/100
176/176 - 12s - loss: 0.0054 - accuracy: 0.9663 - val_loss: 0.0755 - val_accuracy: 0.5756 - lr: 0.0010 - 12s/epoch - 68ms/step
Epoch 48/100
176/176 - 12s - loss: 0.0055 - accuracy: 0.9660 - val_loss: 0.0749 - val_accuracy: 0.5782 - lr: 0.0010 - 12s/epoch - 67ms/step
Epoch 49/100
176/176 - 12s - loss: 0.0058 - accuracy: 0.9644 - val_loss: 0.0751 - val_accuracy: 0.5767 - lr: 0.0010 - 12s/epoch - 68ms/step
Epoch 50/100
176/176 - 11s - loss: 0.0058 - accuracy: 0.9638 - val_loss: 0.0730 - val_accuracy: 0.5842 - lr: 0.0010 - 11s/epoch - 65ms/step
Epoch 51/100
176/176 - 12s - loss: 0.0058 - accuracy: 0.9640 - val_loss: 0.0728 - val_accuracy: 0.5912 - lr: 0.0010 - 12s/epoch - 65ms/step
Epoch 52/100
176/176 - 12s - loss: 0.0054 - accuracy: 0.9669 - val_loss: 0.0749 - val_accuracy: 0.5771 - lr: 0.0010 - 12s/epoch - 65ms/step
Epoch 53/100
176/176 - 11s - loss: 0.0055 - accuracy: 0.9654 - val_loss: 0.0755 - val_accuracy: 0.5723 - lr: 0.0010 - 11s/epoch - 65ms/step
Epoch 54/100
176/176 - 11s - loss: 0.0057 - accuracy: 0.9648 - val_loss: 0.0770 - val_accuracy: 0.5656 - lr: 0.0010 - 11s/epoch - 64ms/step
Epoch 55/100
176/176 - 13s - loss: 0.0055 - accuracy: 0.9659 - val_loss: 0.0762 - val_accuracy: 0.5683 - lr: 0.0010 - 13s/epoch - 74ms/step
Epoch 56/100
176/176 - 11s - loss: 0.0053 - accuracy: 0.9669 - val_loss: 0.0760 - val_accuracy: 0.5720 - lr: 0.0010 - 11s/epoch - 63ms/step
Epoch 57/100
176/176 - 11s - loss: 0.0052 - accuracy: 0.9681 - val_loss: 0.0749 - val_accuracy: 0.5760 - lr: 0.0010 - 11s/epoch - 64ms/step
Epoch 58/100
176/176 - 12s - loss: 0.0053 - accuracy: 0.9670 - val_loss: 0.0728 - val_accuracy: 0.5883 - lr: 0.0010 - 12s/epoch - 66ms/step
Epoch 59/100
176/176 - 12s - loss: 0.0054 - accuracy: 0.9665 - val_loss: 0.0743 - val_accuracy: 0.5804 - lr: 0.0010 - 12s/epoch - 66ms/step
Epoch 60/100
176/176 - 12s - loss: 0.0054 - accuracy: 0.9663 - val_loss: 0.0754 - val_accuracy: 0.5723 - lr: 0.0010 - 12s/epoch - 65ms/step
Epoch 61/100
176/176 - 11s - loss: 0.0054 - accuracy: 0.9668 - val_loss: 0.0741 - val_accuracy: 0.5809 - lr: 0.0010 - 11s/epoch - 65ms/step
Epoch 62/100
176/176 - 12s - loss: 0.0054 - accuracy: 0.9668 - val_loss: 0.0745 - val_accuracy: 0.5799 - lr: 0.0010 - 12s/epoch - 68ms/step
Epoch 63/100
176/176 - 11s - loss: 0.0054 - accuracy: 0.9667 - val_loss: 0.0727 - val_accuracy: 0.5883 - lr: 0.0010 - 11s/epoch - 65ms/step
Epoch 64/100
176/176 - 11s - loss: 0.0055 - accuracy: 0.9659 - val_loss: 0.0739 - val_accuracy: 0.5809 - lr: 0.0010 - 11s/epoch - 65ms/step
Epoch 65/100
176/176 - 12s - loss: 0.0054 - accuracy: 0.9662 - val_loss: 0.0742 - val_accuracy: 0.5791 - lr: 0.0010 - 12s/epoch - 67ms/step
Epoch 66/100
176/176 - 12s - loss: 0.0055 - accuracy: 0.9661 - val_loss: 0.0789 - val_accuracy: 0.5527 - lr: 0.0010 - 12s/epoch - 67ms/step
Epoch 67/100
176/176 - 11s - loss: 0.0056 - accuracy: 0.9648 - val_loss: 0.0769 - val_accuracy: 0.5644 - lr: 0.0010 - 11s/epoch - 64ms/step
Epoch 68/100
176/176 - 12s - loss: 0.0054 - accuracy: 0.9668 - val_loss: 0.0735 - val_accuracy: 0.5820 - lr: 0.0010 - 12s/epoch - 67ms/step
Epoch 69/100
176/176 - 10s - loss: 0.0054 - accuracy: 0.9664 - val_loss: 0.0744 - val_accuracy: 0.5800 - lr: 0.0010 - 10s/epoch - 56ms/step
Epoch 70/100
176/176 - 14s - loss: 0.0053 - accuracy: 0.9677 - val_loss: 0.0752 - val_accuracy: 0.5731 - lr: 0.0010 - 14s/epoch - 77ms/step
Epoch 71/100
176/176 - 15s - loss: 0.0053 - accuracy: 0.9672 - val_loss: 0.0737 - val_accuracy: 0.5853 - lr: 0.0010 - 15s/epoch - 85ms/step
Epoch 72/100
176/176 - 16s - loss: 0.0052 - accuracy: 0.9680 - val_loss: 0.0782 - val_accuracy: 0.5573 - lr: 0.0010 - 16s/epoch - 93ms/step
Epoch 73/100
176/176 - 13s - loss: 0.0053 - accuracy: 0.9675 - val_loss: 0.0770 - val_accuracy: 0.5661 - lr: 0.0010 - 13s/epoch - 74ms/step
Epoch 74/100
176/176 - 14s - loss: 0.0055 - accuracy: 0.9660 - val_loss: 0.0771 - val_accuracy: 0.5649 - lr: 0.0010 - 14s/epoch - 79ms/step
Epoch 75/100
176/176 - 14s - loss: 0.0056 - accuracy: 0.9652 - val_loss: 0.0768 - val_accuracy: 0.5652 - lr: 0.0010 - 14s/epoch - 80ms/step
Epoch 76/100
176/176 - 15s - loss: 0.0055 - accuracy: 0.9660 - val_loss: 0.0752 - val_accuracy: 0.5744 - lr: 0.0010 - 15s/epoch - 83ms/step
Epoch 77/100
176/176 - 15s - loss: 0.0056 - accuracy: 0.9657 - val_loss: 0.0770 - val_accuracy: 0.5624 - lr: 0.0010 - 15s/epoch - 84ms/step
Epoch 78/100
176/176 - 15s - loss: 0.0058 - accuracy: 0.9642 - val_loss: 0.0777 - val_accuracy: 0.5614 - lr: 0.0010 - 15s/epoch - 83ms/step
Epoch 79/100
176/176 - 15s - loss: 0.0054 - accuracy: 0.9665 - val_loss: 0.0809 - val_accuracy: 0.5444 - lr: 0.0010 - 15s/epoch - 83ms/step
Epoch 80/100
176/176 - 15s - loss: 0.0053 - accuracy: 0.9671 - val_loss: 0.0786 - val_accuracy: 0.5562 - lr: 0.0010 - 15s/epoch - 84ms/step
Epoch 81/100
176/176 - 15s - loss: 0.0055 - accuracy: 0.9662 - val_loss: 0.0814 - val_accuracy: 0.5425 - lr: 0.0010 - 15s/epoch - 83ms/step
Epoch 82/100
176/176 - 15s - loss: 0.0056 - accuracy: 0.9651 - val_loss: 0.0768 - val_accuracy: 0.5675 - lr: 0.0010 - 15s/epoch - 83ms/step
Epoch 83/100
176/176 - 15s - loss: 0.0056 - accuracy: 0.9649 - val_loss: 0.0768 - val_accuracy: 0.5662 - lr: 0.0010 - 15s/epoch - 83ms/step
Epoch 84/100
176/176 - 14s - loss: 0.0055 - accuracy: 0.9660 - val_loss: 0.0785 - val_accuracy: 0.5588 - lr: 0.0010 - 14s/epoch - 82ms/step
Epoch 85/100
176/176 - 14s - loss: 0.0053 - accuracy: 0.9674 - val_loss: 0.0764 - val_accuracy: 0.5669 - lr: 0.0010 - 14s/epoch - 77ms/step
Epoch 86/100
176/176 - 12s - loss: 0.0053 - accuracy: 0.9675 - val_loss: 0.0781 - val_accuracy: 0.5572 - lr: 0.0010 - 12s/epoch - 69ms/step
Epoch 87/100
176/176 - 13s - loss: 0.0053 - accuracy: 0.9674 - val_loss: 0.0781 - val_accuracy: 0.5596 - lr: 0.0010 - 13s/epoch - 74ms/step
Epoch 88/100
176/176 - 13s - loss: 0.0053 - accuracy: 0.9669 - val_loss: 0.0766 - val_accuracy: 0.5679 - lr: 0.0010 - 13s/epoch - 75ms/step
Epoch 89/100
176/176 - 13s - loss: 0.0054 - accuracy: 0.9667 - val_loss: 0.0772 - val_accuracy: 0.5682 - lr: 0.0010 - 13s/epoch - 75ms/step
Epoch 90/100
176/176 - 13s - loss: 0.0055 - accuracy: 0.9662 - val_loss: 0.0795 - val_accuracy: 0.5522 - lr: 0.0010 - 13s/epoch - 75ms/step
Epoch 91/100
176/176 - 10s - loss: 0.0053 - accuracy: 0.9671 - val_loss: 0.0765 - val_accuracy: 0.5697 - lr: 0.0010 - 10s/epoch - 58ms/step
Epoch 92/100
176/176 - 9s - loss: 0.0054 - accuracy: 0.9662 - val_loss: 0.0800 - val_accuracy: 0.5524 - lr: 0.0010 - 9s/epoch - 51ms/step
Epoch 93/100
176/176 - 11s - loss: 0.0056 - accuracy: 0.9652 - val_loss: 0.0734 - val_accuracy: 0.5855 - lr: 0.0010 - 11s/epoch - 65ms/step
Epoch 94/100
176/176 - 9s - loss: 0.0051 - accuracy: 0.9683 - val_loss: 0.0737 - val_accuracy: 0.5866 - lr: 0.0010 - 9s/epoch - 50ms/step
Epoch 95/100
176/176 - 9s - loss: 0.0052 - accuracy: 0.9682 - val_loss: 0.0769 - val_accuracy: 0.5686 - lr: 0.0010 - 9s/epoch - 50ms/step
Epoch 96/100
176/176 - 9s - loss: 0.0053 - accuracy: 0.9672 - val_loss: 0.0742 - val_accuracy: 0.5820 - lr: 0.0010 - 9s/epoch - 53ms/step
Epoch 97/100
176/176 - 10s - loss: 0.0055 - accuracy: 0.9662 - val_loss: 0.0784 - val_accuracy: 0.5600 - lr: 0.0010 - 10s/epoch - 58ms/step
Epoch 98/100
176/176 - 9s - loss: 0.0055 - accuracy: 0.9662 - val_loss: 0.0747 - val_accuracy: 0.5791 - lr: 0.0010 - 9s/epoch - 51ms/step
Epoch 99/100
176/176 - 9s - loss: 0.0054 - accuracy: 0.9668 - val_loss: 0.0767 - val_accuracy: 0.5686 - lr: 0.0010 - 9s/epoch - 50ms/step
Epoch 100/100
176/176 - 9s - loss: 0.0054 - accuracy: 0.9664 - val_loss: 0.0799 - val_accuracy: 0.5542 - lr: 0.0010 - 9s/epoch - 50ms/step
Epoch 1/100
36/36 - 10s - loss: 0.0049 - accuracy: 0.9698 - val_loss: 0.0783 - val_accuracy: 0.5632 - lr: 0.0010 - 10s/epoch - 272ms/step
Epoch 2/100
36/36 - 7s - loss: 0.0044 - accuracy: 0.9731 - val_loss: 0.0786 - val_accuracy: 0.5585 - lr: 0.0010 - 7s/epoch - 207ms/step
Epoch 3/100
36/36 - 7s - loss: 0.0043 - accuracy: 0.9738 - val_loss: 0.0779 - val_accuracy: 0.5620 - lr: 0.0010 - 7s/epoch - 207ms/step
Epoch 4/100
36/36 - 7s - loss: 0.0043 - accuracy: 0.9742 - val_loss: 0.0787 - val_accuracy: 0.5576 - lr: 0.0010 - 7s/epoch - 205ms/step
Epoch 5/100
36/36 - 7s - loss: 0.0041 - accuracy: 0.9752 - val_loss: 0.0792 - val_accuracy: 0.5546 - lr: 0.0010 - 7s/epoch - 207ms/step
Epoch 6/100
36/36 - 7s - loss: 0.0042 - accuracy: 0.9749 - val_loss: 0.0797 - val_accuracy: 0.5532 - lr: 0.0010 - 7s/epoch - 208ms/step
Epoch 7/100
36/36 - 8s - loss: 0.0042 - accuracy: 0.9746 - val_loss: 0.0805 - val_accuracy: 0.5505 - lr: 0.0010 - 8s/epoch - 221ms/step
Epoch 8/100
36/36 - 8s - loss: 0.0040 - accuracy: 0.9758 - val_loss: 0.0800 - val_accuracy: 0.5508 - lr: 0.0010 - 8s/epoch - 220ms/step
Epoch 9/100
36/36 - 8s - loss: 0.0040 - accuracy: 0.9760 - val_loss: 0.0800 - val_accuracy: 0.5515 - lr: 0.0010 - 8s/epoch - 230ms/step
Epoch 10/100
36/36 - 9s - loss: 0.0040 - accuracy: 0.9763 - val_loss: 0.0805 - val_accuracy: 0.5495 - lr: 0.0010 - 9s/epoch - 257ms/step
Epoch 11/100
36/36 - 9s - loss: 0.0039 - accuracy: 0.9765 - val_loss: 0.0810 - val_accuracy: 0.5462 - lr: 0.0010 - 9s/epoch - 259ms/step
Epoch 12/100
36/36 - 9s - loss: 0.0039 - accuracy: 0.9765 - val_loss: 0.0784 - val_accuracy: 0.5619 - lr: 0.0010 - 9s/epoch - 239ms/step
Epoch 13/100
36/36 - 9s - loss: 0.0040 - accuracy: 0.9762 - val_loss: 0.0803 - val_accuracy: 0.5504 - lr: 0.0010 - 9s/epoch - 250ms/step
Epoch 14/100
36/36 - 9s - loss: 0.0040 - accuracy: 0.9763 - val_loss: 0.0792 - val_accuracy: 0.5567 - lr: 0.0010 - 9s/epoch - 248ms/step
Epoch 15/100
36/36 - 9s - loss: 0.0039 - accuracy: 0.9764 - val_loss: 0.0801 - val_accuracy: 0.5508 - lr: 0.0010 - 9s/epoch - 251ms/step
Epoch 16/100
36/36 - 9s - loss: 0.0039 - accuracy: 0.9767 - val_loss: 0.0805 - val_accuracy: 0.5503 - lr: 0.0010 - 9s/epoch - 251ms/step
Epoch 17/100
36/36 - 9s - loss: 0.0040 - accuracy: 0.9763 - val_loss: 0.0815 - val_accuracy: 0.5436 - lr: 0.0010 - 9s/epoch - 241ms/step
Epoch 18/100
36/36 - 8s - loss: 0.0039 - accuracy: 0.9771 - val_loss: 0.0794 - val_accuracy: 0.5546 - lr: 0.0010 - 8s/epoch - 215ms/step
Epoch 19/100
36/36 - 8s - loss: 0.0038 - accuracy: 0.9766 - val_loss: 0.0816 - val_accuracy: 0.5438 - lr: 0.0010 - 8s/epoch - 220ms/step
Epoch 20/100
36/36 - 7s - loss: 0.0038 - accuracy: 0.9777 - val_loss: 0.0798 - val_accuracy: 0.5524 - lr: 0.0010 - 7s/epoch - 203ms/step
Epoch 21/100
36/36 - 8s - loss: 0.0038 - accuracy: 0.9770 - val_loss: 0.0791 - val_accuracy: 0.5557 - lr: 0.0010 - 8s/epoch - 226ms/step
Epoch 22/100
36/36 - 8s - loss: 0.0039 - accuracy: 0.9762 - val_loss: 0.0793 - val_accuracy: 0.5576 - lr: 0.0010 - 8s/epoch - 219ms/step
Epoch 23/100
36/36 - 8s - loss: 0.0039 - accuracy: 0.9768 - val_loss: 0.0796 - val_accuracy: 0.5550 - lr: 0.0010 - 8s/epoch - 226ms/step
Epoch 24/100
36/36 - 9s - loss: 0.0039 - accuracy: 0.9765 - val_loss: 0.0797 - val_accuracy: 0.5542 - lr: 0.0010 - 9s/epoch - 257ms/step
Epoch 25/100
36/36 - 9s - loss: 0.0037 - accuracy: 0.9780 - val_loss: 0.0800 - val_accuracy: 0.5515 - lr: 0.0010 - 9s/epoch - 264ms/step
Epoch 26/100
36/36 - 9s - loss: 0.0037 - accuracy: 0.9781 - val_loss: 0.0781 - val_accuracy: 0.5637 - lr: 0.0010 - 9s/epoch - 246ms/step
Epoch 27/100
36/36 - 9s - loss: 0.0038 - accuracy: 0.9766 - val_loss: 0.0804 - val_accuracy: 0.5494 - lr: 0.0010 - 9s/epoch - 248ms/step
Epoch 28/100
36/36 - 9s - loss: 0.0040 - accuracy: 0.9762 - val_loss: 0.0804 - val_accuracy: 0.5489 - lr: 0.0010 - 9s/epoch - 249ms/step
Epoch 29/100
36/36 - 9s - loss: 0.0038 - accuracy: 0.9768 - val_loss: 0.0796 - val_accuracy: 0.5535 - lr: 0.0010 - 9s/epoch - 250ms/step
Epoch 30/100
36/36 - 9s - loss: 0.0039 - accuracy: 0.9767 - val_loss: 0.0808 - val_accuracy: 0.5478 - lr: 0.0010 - 9s/epoch - 239ms/step
Epoch 31/100
36/36 - 8s - loss: 0.0037 - accuracy: 0.9777 - val_loss: 0.0803 - val_accuracy: 0.5496 - lr: 0.0010 - 8s/epoch - 216ms/step
Epoch 32/100
36/36 - 9s - loss: 0.0037 - accuracy: 0.9776 - val_loss: 0.0803 - val_accuracy: 0.5508 - lr: 0.0010 - 9s/epoch - 247ms/step
Epoch 33/100
36/36 - 9s - loss: 0.0040 - accuracy: 0.9763 - val_loss: 0.0802 - val_accuracy: 0.5525 - lr: 0.0010 - 9s/epoch - 250ms/step
Epoch 34/100
36/36 - 9s - loss: 0.0039 - accuracy: 0.9767 - val_loss: 0.0809 - val_accuracy: 0.5474 - lr: 0.0010 - 9s/epoch - 246ms/step
Epoch 35/100
36/36 - 9s - loss: 0.0038 - accuracy: 0.9770 - val_loss: 0.0807 - val_accuracy: 0.5489 - lr: 0.0010 - 9s/epoch - 237ms/step
Epoch 36/100
36/36 - 8s - loss: 0.0038 - accuracy: 0.9770 - val_loss: 0.0816 - val_accuracy: 0.5428 - lr: 0.0010 - 8s/epoch - 230ms/step
Epoch 37/100
36/36 - 8s - loss: 0.0037 - accuracy: 0.9783 - val_loss: 0.0799 - val_accuracy: 0.5528 - lr: 0.0010 - 8s/epoch - 233ms/step
Epoch 38/100
36/36 - 9s - loss: 0.0038 - accuracy: 0.9777 - val_loss: 0.0787 - val_accuracy: 0.5608 - lr: 0.0010 - 9s/epoch - 237ms/step
Epoch 39/100
36/36 - 9s - loss: 0.0038 - accuracy: 0.9770 - val_loss: 0.0790 - val_accuracy: 0.5575 - lr: 0.0010 - 9s/epoch - 243ms/step
Epoch 40/100
36/36 - 9s - loss: 0.0038 - accuracy: 0.9767 - val_loss: 0.0802 - val_accuracy: 0.5518 - lr: 0.0010 - 9s/epoch - 247ms/step
Epoch 41/100
36/36 - 9s - loss: 0.0039 - accuracy: 0.9765 - val_loss: 0.0810 - val_accuracy: 0.5476 - lr: 0.0010 - 9s/epoch - 247ms/step
Epoch 42/100
36/36 - 9s - loss: 0.0036 - accuracy: 0.9781 - val_loss: 0.0811 - val_accuracy: 0.5475 - lr: 0.0010 - 9s/epoch - 255ms/step
Epoch 43/100
36/36 - 9s - loss: 0.0038 - accuracy: 0.9772 - val_loss: 0.0802 - val_accuracy: 0.5530 - lr: 0.0010 - 9s/epoch - 256ms/step
Epoch 44/100
36/36 - 9s - loss: 0.0037 - accuracy: 0.9774 - val_loss: 0.0806 - val_accuracy: 0.5503 - lr: 0.0010 - 9s/epoch - 257ms/step
Epoch 45/100
36/36 - 9s - loss: 0.0038 - accuracy: 0.9773 - val_loss: 0.0804 - val_accuracy: 0.5520 - lr: 0.0010 - 9s/epoch - 251ms/step
Epoch 46/100
36/36 - 9s - loss: 0.0037 - accuracy: 0.9777 - val_loss: 0.0808 - val_accuracy: 0.5489 - lr: 0.0010 - 9s/epoch - 251ms/step
Epoch 47/100
36/36 - 9s - loss: 0.0037 - accuracy: 0.9781 - val_loss: 0.0811 - val_accuracy: 0.5486 - lr: 0.0010 - 9s/epoch - 256ms/step
Epoch 48/100
36/36 - 9s - loss: 0.0037 - accuracy: 0.9778 - val_loss: 0.0813 - val_accuracy: 0.5469 - lr: 0.0010 - 9s/epoch - 247ms/step
Epoch 49/100
36/36 - 9s - loss: 0.0037 - accuracy: 0.9780 - val_loss: 0.0805 - val_accuracy: 0.5504 - lr: 0.0010 - 9s/epoch - 245ms/step
Epoch 50/100
36/36 - 9s - loss: 0.0037 - accuracy: 0.9777 - val_loss: 0.0790 - val_accuracy: 0.5584 - lr: 0.0010 - 9s/epoch - 248ms/step
Epoch 51/100
36/36 - 9s - loss: 0.0037 - accuracy: 0.9778 - val_loss: 0.0813 - val_accuracy: 0.5467 - lr: 0.0010 - 9s/epoch - 246ms/step
Epoch 52/100
36/36 - 9s - loss: 0.0037 - accuracy: 0.9774 - val_loss: 0.0806 - val_accuracy: 0.5522 - lr: 0.0010 - 9s/epoch - 251ms/step
Epoch 53/100
36/36 - 9s - loss: 0.0038 - accuracy: 0.9771 - val_loss: 0.0811 - val_accuracy: 0.5484 - lr: 0.0010 - 9s/epoch - 252ms/step
Epoch 54/100
36/36 - 9s - loss: 0.0038 - accuracy: 0.9775 - val_loss: 0.0805 - val_accuracy: 0.5502 - lr: 0.0010 - 9s/epoch - 252ms/step
Epoch 55/100
36/36 - 9s - loss: 0.0037 - accuracy: 0.9780 - val_loss: 0.0804 - val_accuracy: 0.5518 - lr: 0.0010 - 9s/epoch - 252ms/step
Epoch 56/100
36/36 - 9s - loss: 0.0037 - accuracy: 0.9779 - val_loss: 0.0806 - val_accuracy: 0.5517 - lr: 0.0010 - 9s/epoch - 242ms/step
Epoch 57/100
36/36 - 8s - loss: 0.0037 - accuracy: 0.9779 - val_loss: 0.0802 - val_accuracy: 0.5541 - lr: 0.0010 - 8s/epoch - 233ms/step
Epoch 58/100
36/36 - 8s - loss: 0.0037 - accuracy: 0.9779 - val_loss: 0.0810 - val_accuracy: 0.5486 - lr: 0.0010 - 8s/epoch - 209ms/step
Epoch 59/100
36/36 - 8s - loss: 0.0037 - accuracy: 0.9779 - val_loss: 0.0811 - val_accuracy: 0.5484 - lr: 0.0010 - 8s/epoch - 213ms/step
Epoch 60/100
36/36 - 7s - loss: 0.0038 - accuracy: 0.9772 - val_loss: 0.0820 - val_accuracy: 0.5440 - lr: 0.0010 - 7s/epoch - 205ms/step
Epoch 61/100
36/36 - 7s - loss: 0.0039 - accuracy: 0.9766 - val_loss: 0.0801 - val_accuracy: 0.5546 - lr: 0.0010 - 7s/epoch - 205ms/step
Epoch 62/100
36/36 - 8s - loss: 0.0039 - accuracy: 0.9761 - val_loss: 0.0813 - val_accuracy: 0.5475 - lr: 0.0010 - 8s/epoch - 215ms/step
Epoch 63/100
36/36 - 8s - loss: 0.0039 - accuracy: 0.9768 - val_loss: 0.0808 - val_accuracy: 0.5512 - lr: 0.0010 - 8s/epoch - 213ms/step
Epoch 64/100
36/36 - 8s - loss: 0.0037 - accuracy: 0.9782 - val_loss: 0.0819 - val_accuracy: 0.5443 - lr: 0.0010 - 8s/epoch - 215ms/step
Epoch 65/100
36/36 - 8s - loss: 0.0036 - accuracy: 0.9786 - val_loss: 0.0819 - val_accuracy: 0.5445 - lr: 0.0010 - 8s/epoch - 216ms/step
Epoch 66/100
36/36 - 8s - loss: 0.0035 - accuracy: 0.9790 - val_loss: 0.0818 - val_accuracy: 0.5435 - lr: 0.0010 - 8s/epoch - 208ms/step
Epoch 67/100
36/36 - 8s - loss: 0.0036 - accuracy: 0.9788 - val_loss: 0.0815 - val_accuracy: 0.5473 - lr: 0.0010 - 8s/epoch - 212ms/step
Epoch 68/100
36/36 - 8s - loss: 0.0037 - accuracy: 0.9779 - val_loss: 0.0811 - val_accuracy: 0.5485 - lr: 0.0010 - 8s/epoch - 209ms/step
Epoch 69/100
36/36 - 8s - loss: 0.0037 - accuracy: 0.9782 - val_loss: 0.0804 - val_accuracy: 0.5523 - lr: 0.0010 - 8s/epoch - 214ms/step
Epoch 70/100
36/36 - 9s - loss: 0.0037 - accuracy: 0.9778 - val_loss: 0.0806 - val_accuracy: 0.5514 - lr: 0.0010 - 9s/epoch - 237ms/step
Epoch 71/100
36/36 - 8s - loss: 0.0037 - accuracy: 0.9780 - val_loss: 0.0817 - val_accuracy: 0.5452 - lr: 0.0010 - 8s/epoch - 231ms/step
Epoch 72/100
36/36 - 8s - loss: 0.0036 - accuracy: 0.9782 - val_loss: 0.0812 - val_accuracy: 0.5481 - lr: 0.0010 - 8s/epoch - 231ms/step
Epoch 73/100
36/36 - 9s - loss: 0.0036 - accuracy: 0.9781 - val_loss: 0.0822 - val_accuracy: 0.5444 - lr: 0.0010 - 9s/epoch - 239ms/step
Epoch 74/100
36/36 - 9s - loss: 0.0037 - accuracy: 0.9783 - val_loss: 0.0824 - val_accuracy: 0.5410 - lr: 0.0010 - 9s/epoch - 252ms/step
Epoch 75/100
36/36 - 9s - loss: 0.0035 - accuracy: 0.9792 - val_loss: 0.0819 - val_accuracy: 0.5448 - lr: 0.0010 - 9s/epoch - 247ms/step
Epoch 76/100
36/36 - 9s - loss: 0.0035 - accuracy: 0.9789 - val_loss: 0.0813 - val_accuracy: 0.5476 - lr: 0.0010 - 9s/epoch - 247ms/step
Epoch 77/100
36/36 - 9s - loss: 0.0036 - accuracy: 0.9785 - val_loss: 0.0819 - val_accuracy: 0.5455 - lr: 0.0010 - 9s/epoch - 250ms/step
Epoch 78/100
36/36 - 9s - loss: 0.0039 - accuracy: 0.9767 - val_loss: 0.0819 - val_accuracy: 0.5444 - lr: 0.0010 - 9s/epoch - 249ms/step
Epoch 79/100
36/36 - 9s - loss: 0.0037 - accuracy: 0.9778 - val_loss: 0.0803 - val_accuracy: 0.5527 - lr: 0.0010 - 9s/epoch - 253ms/step
Epoch 80/100
36/36 - 9s - loss: 0.0037 - accuracy: 0.9781 - val_loss: 0.0800 - val_accuracy: 0.5561 - lr: 0.0010 - 9s/epoch - 251ms/step
Epoch 81/100
36/36 - 9s - loss: 0.0036 - accuracy: 0.9783 - val_loss: 0.0812 - val_accuracy: 0.5495 - lr: 0.0010 - 9s/epoch - 253ms/step
Epoch 82/100
36/36 - 9s - loss: 0.0038 - accuracy: 0.9773 - val_loss: 0.0812 - val_accuracy: 0.5496 - lr: 0.0010 - 9s/epoch - 251ms/step
Epoch 83/100
36/36 - 8s - loss: 0.0039 - accuracy: 0.9766 - val_loss: 0.0807 - val_accuracy: 0.5523 - lr: 0.0010 - 8s/epoch - 215ms/step
Epoch 84/100
36/36 - 8s - loss: 0.0036 - accuracy: 0.9787 - val_loss: 0.0805 - val_accuracy: 0.5529 - lr: 0.0010 - 8s/epoch - 218ms/step
Epoch 85/100
36/36 - 8s - loss: 0.0036 - accuracy: 0.9785 - val_loss: 0.0800 - val_accuracy: 0.5567 - lr: 0.0010 - 8s/epoch - 215ms/step
Epoch 86/100
36/36 - 8s - loss: 0.0036 - accuracy: 0.9787 - val_loss: 0.0806 - val_accuracy: 0.5526 - lr: 0.0010 - 8s/epoch - 214ms/step
Epoch 87/100
36/36 - 8s - loss: 0.0036 - accuracy: 0.9787 - val_loss: 0.0810 - val_accuracy: 0.5507 - lr: 0.0010 - 8s/epoch - 224ms/step
Epoch 88/100
36/36 - 7s - loss: 0.0035 - accuracy: 0.9787 - val_loss: 0.0814 - val_accuracy: 0.5492 - lr: 0.0010 - 7s/epoch - 207ms/step
Epoch 89/100
36/36 - 8s - loss: 0.0035 - accuracy: 0.9788 - val_loss: 0.0794 - val_accuracy: 0.5582 - lr: 0.0010 - 8s/epoch - 215ms/step
Epoch 90/100
36/36 - 7s - loss: 0.0037 - accuracy: 0.9778 - val_loss: 0.0824 - val_accuracy: 0.5431 - lr: 0.0010 - 7s/epoch - 207ms/step
Epoch 91/100
36/36 - 7s - loss: 0.0036 - accuracy: 0.9784 - val_loss: 0.0810 - val_accuracy: 0.5507 - lr: 0.0010 - 7s/epoch - 203ms/step
Epoch 92/100
36/36 - 8s - loss: 0.0039 - accuracy: 0.9768 - val_loss: 0.0819 - val_accuracy: 0.5454 - lr: 0.0010 - 8s/epoch - 226ms/step
Epoch 93/100
36/36 - 8s - loss: 0.0036 - accuracy: 0.9791 - val_loss: 0.0816 - val_accuracy: 0.5460 - lr: 0.0010 - 8s/epoch - 216ms/step
Epoch 94/100
36/36 - 8s - loss: 0.0035 - accuracy: 0.9794 - val_loss: 0.0812 - val_accuracy: 0.5498 - lr: 0.0010 - 8s/epoch - 219ms/step
Epoch 95/100
36/36 - 8s - loss: 0.0036 - accuracy: 0.9788 - val_loss: 0.0816 - val_accuracy: 0.5473 - lr: 0.0010 - 8s/epoch - 220ms/step
Epoch 96/100
36/36 - 9s - loss: 0.0035 - accuracy: 0.9794 - val_loss: 0.0801 - val_accuracy: 0.5553 - lr: 0.0010 - 9s/epoch - 245ms/step
Epoch 97/100
36/36 - 8s - loss: 0.0037 - accuracy: 0.9777 - val_loss: 0.0823 - val_accuracy: 0.5441 - lr: 0.0010 - 8s/epoch - 214ms/step
Epoch 98/100
36/36 - 8s - loss: 0.0036 - accuracy: 0.9787 - val_loss: 0.0826 - val_accuracy: 0.5424 - lr: 0.0010 - 8s/epoch - 209ms/step
Epoch 99/100
36/36 - 7s - loss: 0.0036 - accuracy: 0.9780 - val_loss: 0.0813 - val_accuracy: 0.5496 - lr: 0.0010 - 7s/epoch - 203ms/step
Epoch 100/100
36/36 - 8s - loss: 0.0036 - accuracy: 0.9785 - val_loss: 0.0800 - val_accuracy: 0.5570 - lr: 0.0010 - 8s/epoch - 229ms/step
Epoch 1/25
4378/4378 - 87s - loss: 0.2611 - accuracy: 0.9221 - val_loss: 1.8055 - val_accuracy: 0.5920 - lr: 0.0010 - 87s/epoch - 20ms/step
Epoch 2/25
4378/4378 - 75s - loss: 0.2495 - accuracy: 0.9196 - val_loss: 1.6765 - val_accuracy: 0.5851 - lr: 0.0010 - 75s/epoch - 17ms/step
Epoch 3/25
4378/4378 - 83s - loss: 0.2590 - accuracy: 0.9153 - val_loss: 1.6473 - val_accuracy: 0.5717 - lr: 0.0010 - 83s/epoch - 19ms/step
Epoch 4/25
4378/4378 - 84s - loss: 0.2433 - accuracy: 0.9198 - val_loss: 1.7247 - val_accuracy: 0.5585 - lr: 0.0010 - 84s/epoch - 19ms/step
Epoch 5/25
4378/4378 - 84s - loss: 0.2551 - accuracy: 0.9153 - val_loss: 1.5013 - val_accuracy: 0.6110 - lr: 0.0010 - 84s/epoch - 19ms/step
Epoch 6/25
4378/4378 - 84s - loss: 0.2580 - accuracy: 0.9136 - val_loss: 1.5832 - val_accuracy: 0.5959 - lr: 0.0010 - 84s/epoch - 19ms/step
Epoch 7/25
4378/4378 - 83s - loss: 0.2542 - accuracy: 0.9145 - val_loss: 1.5927 - val_accuracy: 0.5721 - lr: 0.0010 - 83s/epoch - 19ms/step
Epoch 8/25
4378/4378 - 85s - loss: 0.2605 - accuracy: 0.9122 - val_loss: 1.6176 - val_accuracy: 0.5764 - lr: 0.0010 - 85s/epoch - 19ms/step
Epoch 9/25
4378/4378 - 84s - loss: 0.2476 - accuracy: 0.9178 - val_loss: 1.5500 - val_accuracy: 0.5666 - lr: 0.0010 - 84s/epoch - 19ms/step
Epoch 10/25
4378/4378 - 87s - loss: 0.2564 - accuracy: 0.9131 - val_loss: 1.5139 - val_accuracy: 0.6005 - lr: 0.0010 - 87s/epoch - 20ms/step
Epoch 11/25
4378/4378 - 80s - loss: 0.2596 - accuracy: 0.9104 - val_loss: 1.5236 - val_accuracy: 0.6195 - lr: 0.0010 - 80s/epoch - 18ms/step
Epoch 12/25
4378/4378 - 75s - loss: 0.2581 - accuracy: 0.9127 - val_loss: 1.4665 - val_accuracy: 0.6136 - lr: 0.0010 - 75s/epoch - 17ms/step
Epoch 13/25
4378/4378 - 75s - loss: 0.2559 - accuracy: 0.9126 - val_loss: 1.7764 - val_accuracy: 0.5388 - lr: 0.0010 - 75s/epoch - 17ms/step
Epoch 14/25
4378/4378 - 76s - loss: 0.2588 - accuracy: 0.9109 - val_loss: 1.5395 - val_accuracy: 0.5884 - lr: 0.0010 - 76s/epoch - 17ms/step
Epoch 15/25
4378/4378 - 75s - loss: 0.2585 - accuracy: 0.9110 - val_loss: 1.5640 - val_accuracy: 0.5649 - lr: 0.0010 - 75s/epoch - 17ms/step
Epoch 16/25
4378/4378 - 77s - loss: 0.2501 - accuracy: 0.9149 - val_loss: 1.6319 - val_accuracy: 0.5512 - lr: 0.0010 - 77s/epoch - 18ms/step
Epoch 17/25
4378/4378 - 86s - loss: 0.2536 - accuracy: 0.9119 - val_loss: 1.4588 - val_accuracy: 0.5899 - lr: 0.0010 - 86s/epoch - 20ms/step
Epoch 18/25
4378/4378 - 88s - loss: 0.2493 - accuracy: 0.9146 - val_loss: 1.5970 - val_accuracy: 0.5587 - lr: 0.0010 - 88s/epoch - 20ms/step
Epoch 19/25
4378/4378 - 90s - loss: 0.2542 - accuracy: 0.9128 - val_loss: 1.5014 - val_accuracy: 0.5588 - lr: 0.0010 - 90s/epoch - 21ms/step
Epoch 20/25
4378/4378 - 94s - loss: 0.2584 - accuracy: 0.9107 - val_loss: 1.7837 - val_accuracy: 0.5397 - lr: 0.0010 - 94s/epoch - 21ms/step
Epoch 21/25
4378/4378 - 91s - loss: 0.2591 - accuracy: 0.9098 - val_loss: 1.7464 - val_accuracy: 0.5196 - lr: 0.0010 - 91s/epoch - 21ms/step
Epoch 22/25
4378/4378 - 90s - loss: 0.2543 - accuracy: 0.9120 - val_loss: 1.5816 - val_accuracy: 0.5763 - lr: 0.0010 - 90s/epoch - 21ms/step
Epoch 23/25
4378/4378 - 85s - loss: 0.2489 - accuracy: 0.9134 - val_loss: 1.4115 - val_accuracy: 0.6142 - lr: 0.0010 - 85s/epoch - 20ms/step
Epoch 24/25
4378/4378 - 84s - loss: 0.2591 - accuracy: 0.9094 - val_loss: 1.4916 - val_accuracy: 0.5635 - lr: 0.0010 - 84s/epoch - 19ms/step
Epoch 25/25
4378/4378 - 84s - loss: 0.2530 - accuracy: 0.9123 - val_loss: 1.5924 - val_accuracy: 0.5482 - lr: 0.0010 - 84s/epoch - 19ms/step
Epoch 1/25
876/876 - 23s - loss: 0.1790 - accuracy: 0.9418 - val_loss: 2.0850 - val_accuracy: 0.5350 - lr: 0.0010 - 23s/epoch - 27ms/step
Epoch 2/25
876/876 - 20s - loss: 0.1784 - accuracy: 0.9418 - val_loss: 1.9130 - val_accuracy: 0.5621 - lr: 0.0010 - 20s/epoch - 23ms/step
Epoch 3/25
876/876 - 20s - loss: 0.1777 - accuracy: 0.9413 - val_loss: 1.7831 - val_accuracy: 0.5710 - lr: 0.0010 - 20s/epoch - 23ms/step
Epoch 4/25
876/876 - 20s - loss: 0.1732 - accuracy: 0.9434 - val_loss: 2.1809 - val_accuracy: 0.5232 - lr: 0.0010 - 20s/epoch - 23ms/step
Epoch 5/25
876/876 - 20s - loss: 0.1703 - accuracy: 0.9440 - val_loss: 1.9687 - val_accuracy: 0.5521 - lr: 0.0010 - 20s/epoch - 23ms/step
Epoch 6/25
876/876 - 20s - loss: 0.1708 - accuracy: 0.9441 - val_loss: 2.0261 - val_accuracy: 0.5420 - lr: 0.0010 - 20s/epoch - 23ms/step
Epoch 7/25
876/876 - 20s - loss: 0.1676 - accuracy: 0.9445 - val_loss: 2.1261 - val_accuracy: 0.5476 - lr: 0.0010 - 20s/epoch - 23ms/step
Epoch 8/25
876/876 - 20s - loss: 0.1666 - accuracy: 0.9451 - val_loss: 2.1932 - val_accuracy: 0.5216 - lr: 0.0010 - 20s/epoch - 23ms/step
Epoch 9/25
876/876 - 21s - loss: 0.1631 - accuracy: 0.9469 - val_loss: 2.1522 - val_accuracy: 0.5346 - lr: 0.0010 - 21s/epoch - 24ms/step
Epoch 10/25
876/876 - 21s - loss: 0.1634 - accuracy: 0.9467 - val_loss: 1.9296 - val_accuracy: 0.5920 - lr: 0.0010 - 21s/epoch - 23ms/step
Epoch 11/25
876/876 - 21s - loss: 0.1621 - accuracy: 0.9465 - val_loss: 2.2785 - val_accuracy: 0.5366 - lr: 0.0010 - 21s/epoch - 24ms/step
Epoch 12/25
876/876 - 22s - loss: 0.1581 - accuracy: 0.9485 - val_loss: 2.2395 - val_accuracy: 0.5357 - lr: 0.0010 - 22s/epoch - 25ms/step
Epoch 13/25
876/876 - 21s - loss: 0.1577 - accuracy: 0.9476 - val_loss: 2.2738 - val_accuracy: 0.5363 - lr: 0.0010 - 21s/epoch - 24ms/step
Epoch 14/25
876/876 - 21s - loss: 0.1636 - accuracy: 0.9456 - val_loss: 2.2662 - val_accuracy: 0.5278 - lr: 0.0010 - 21s/epoch - 24ms/step
Epoch 15/25
876/876 - 21s - loss: 0.1633 - accuracy: 0.9460 - val_loss: 2.0556 - val_accuracy: 0.5651 - lr: 0.0010 - 21s/epoch - 24ms/step
Epoch 16/25
876/876 - 21s - loss: 0.1603 - accuracy: 0.9478 - val_loss: 2.0260 - val_accuracy: 0.5645 - lr: 0.0010 - 21s/epoch - 24ms/step
Epoch 17/25
876/876 - 21s - loss: 0.1662 - accuracy: 0.9446 - val_loss: 2.0298 - val_accuracy: 0.5687 - lr: 0.0010 - 21s/epoch - 24ms/step
Epoch 18/25
876/876 - 22s - loss: 0.1576 - accuracy: 0.9475 - val_loss: 2.2380 - val_accuracy: 0.5390 - lr: 0.0010 - 22s/epoch - 25ms/step
Epoch 19/25
876/876 - 22s - loss: 0.1603 - accuracy: 0.9460 - val_loss: 2.0776 - val_accuracy: 0.5667 - lr: 0.0010 - 22s/epoch - 25ms/step
Epoch 20/25
876/876 - 21s - loss: 0.1553 - accuracy: 0.9486 - val_loss: 2.1360 - val_accuracy: 0.5591 - lr: 0.0010 - 21s/epoch - 24ms/step
Epoch 21/25
876/876 - 21s - loss: 0.1501 - accuracy: 0.9507 - val_loss: 2.3450 - val_accuracy: 0.5314 - lr: 0.0010 - 21s/epoch - 24ms/step
Epoch 22/25
876/876 - 21s - loss: 0.1584 - accuracy: 0.9468 - val_loss: 2.3165 - val_accuracy: 0.5307 - lr: 0.0010 - 21s/epoch - 23ms/step
Epoch 23/25
876/876 - 21s - loss: 0.1637 - accuracy: 0.9453 - val_loss: 2.1588 - val_accuracy: 0.5477 - lr: 0.0010 - 21s/epoch - 24ms/step
Epoch 24/25
876/876 - 20s - loss: 0.1609 - accuracy: 0.9463 - val_loss: 2.2011 - val_accuracy: 0.5324 - lr: 0.0010 - 20s/epoch - 23ms/step
Epoch 25/25
876/876 - 21s - loss: 0.1579 - accuracy: 0.9469 - val_loss: 2.3166 - val_accuracy: 0.5313 - lr: 0.0010 - 21s/epoch - 24ms/step
Epoch 1/25
176/176 - 13s - loss: 0.1201 - accuracy: 0.9626 - val_loss: 2.3949 - val_accuracy: 0.5435 - lr: 0.0010 - 13s/epoch - 74ms/step
Epoch 2/25
176/176 - 10s - loss: 0.1069 - accuracy: 0.9679 - val_loss: 2.5033 - val_accuracy: 0.5361 - lr: 0.0010 - 10s/epoch - 59ms/step
Epoch 3/25
176/176 - 10s - loss: 0.1035 - accuracy: 0.9688 - val_loss: 2.5912 - val_accuracy: 0.5301 - lr: 0.0010 - 10s/epoch - 60ms/step
Epoch 4/25
176/176 - 11s - loss: 0.1029 - accuracy: 0.9687 - val_loss: 2.5975 - val_accuracy: 0.5419 - lr: 0.0010 - 11s/epoch - 61ms/step
Epoch 5/25
176/176 - 11s - loss: 0.1031 - accuracy: 0.9681 - val_loss: 2.6085 - val_accuracy: 0.5430 - lr: 0.0010 - 11s/epoch - 60ms/step
Epoch 6/25
176/176 - 11s - loss: 0.1010 - accuracy: 0.9691 - val_loss: 2.7397 - val_accuracy: 0.5253 - lr: 0.0010 - 11s/epoch - 62ms/step
Epoch 7/25
176/176 - 11s - loss: 0.1004 - accuracy: 0.9686 - val_loss: 2.7576 - val_accuracy: 0.5243 - lr: 0.0010 - 11s/epoch - 60ms/step
Epoch 8/25
176/176 - 11s - loss: 0.1017 - accuracy: 0.9693 - val_loss: 2.7912 - val_accuracy: 0.5272 - lr: 0.0010 - 11s/epoch - 61ms/step
Epoch 9/25
176/176 - 11s - loss: 0.1026 - accuracy: 0.9681 - val_loss: 2.7622 - val_accuracy: 0.5205 - lr: 0.0010 - 11s/epoch - 62ms/step
Epoch 10/25
176/176 - 11s - loss: 0.1057 - accuracy: 0.9672 - val_loss: 2.6522 - val_accuracy: 0.5299 - lr: 0.0010 - 11s/epoch - 61ms/step
Epoch 11/25
176/176 - 11s - loss: 0.1057 - accuracy: 0.9672 - val_loss: 2.8046 - val_accuracy: 0.5269 - lr: 0.0010 - 11s/epoch - 61ms/step
Epoch 12/25
176/176 - 11s - loss: 0.1067 - accuracy: 0.9666 - val_loss: 2.7831 - val_accuracy: 0.5152 - lr: 0.0010 - 11s/epoch - 61ms/step
Epoch 13/25
176/176 - 11s - loss: 0.1111 - accuracy: 0.9652 - val_loss: 2.9676 - val_accuracy: 0.4821 - lr: 0.0010 - 11s/epoch - 60ms/step
Epoch 14/25
176/176 - 11s - loss: 0.1077 - accuracy: 0.9656 - val_loss: 2.8115 - val_accuracy: 0.5211 - lr: 0.0010 - 11s/epoch - 61ms/step
Epoch 15/25
176/176 - 11s - loss: 0.1085 - accuracy: 0.9659 - val_loss: 2.7816 - val_accuracy: 0.5210 - lr: 0.0010 - 11s/epoch - 62ms/step
Epoch 16/25
176/176 - 11s - loss: 0.1046 - accuracy: 0.9674 - val_loss: 2.7037 - val_accuracy: 0.5319 - lr: 0.0010 - 11s/epoch - 61ms/step
Epoch 17/25
176/176 - 11s - loss: 0.1054 - accuracy: 0.9667 - val_loss: 2.8166 - val_accuracy: 0.5147 - lr: 0.0010 - 11s/epoch - 61ms/step
Epoch 18/25
176/176 - 11s - loss: 0.1067 - accuracy: 0.9660 - val_loss: 2.7065 - val_accuracy: 0.5317 - lr: 0.0010 - 11s/epoch - 61ms/step
Epoch 19/25
176/176 - 11s - loss: 0.1070 - accuracy: 0.9656 - val_loss: 2.7350 - val_accuracy: 0.5240 - lr: 0.0010 - 11s/epoch - 61ms/step
Epoch 20/25
176/176 - 10s - loss: 0.1016 - accuracy: 0.9682 - val_loss: 2.8436 - val_accuracy: 0.5266 - lr: 0.0010 - 10s/epoch - 59ms/step
Epoch 21/25
176/176 - 11s - loss: 0.0993 - accuracy: 0.9687 - val_loss: 2.6851 - val_accuracy: 0.5465 - lr: 0.0010 - 11s/epoch - 60ms/step
Epoch 22/25
176/176 - 10s - loss: 0.1022 - accuracy: 0.9680 - val_loss: 2.8270 - val_accuracy: 0.5252 - lr: 0.0010 - 10s/epoch - 59ms/step
Epoch 23/25
176/176 - 10s - loss: 0.1020 - accuracy: 0.9679 - val_loss: 2.8561 - val_accuracy: 0.5251 - lr: 0.0010 - 10s/epoch - 59ms/step
Epoch 24/25
176/176 - 10s - loss: 0.1056 - accuracy: 0.9665 - val_loss: 2.7562 - val_accuracy: 0.5434 - lr: 0.0010 - 10s/epoch - 59ms/step
Epoch 25/25
176/176 - 10s - loss: 0.1028 - accuracy: 0.9674 - val_loss: 2.7613 - val_accuracy: 0.5443 - lr: 0.0010 - 10s/epoch - 59ms/step
Epoch 1/25
36/36 - 12s - loss: 0.0967 - accuracy: 0.9702 - val_loss: 2.7161 - val_accuracy: 0.5477 - lr: 0.0010 - 12s/epoch - 338ms/step
Epoch 2/25
36/36 - 10s - loss: 0.0868 - accuracy: 0.9732 - val_loss: 2.7880 - val_accuracy: 0.5432 - lr: 0.0010 - 10s/epoch - 269ms/step
Epoch 3/25
36/36 - 9s - loss: 0.0826 - accuracy: 0.9750 - val_loss: 2.7872 - val_accuracy: 0.5437 - lr: 0.0010 - 9s/epoch - 264ms/step
Epoch 4/25
36/36 - 10s - loss: 0.0818 - accuracy: 0.9756 - val_loss: 2.7780 - val_accuracy: 0.5486 - lr: 0.0010 - 10s/epoch - 265ms/step
Epoch 5/25
36/36 - 10s - loss: 0.0824 - accuracy: 0.9753 - val_loss: 2.8384 - val_accuracy: 0.5408 - lr: 0.0010 - 10s/epoch - 266ms/step
Epoch 6/25
36/36 - 10s - loss: 0.0794 - accuracy: 0.9757 - val_loss: 2.8692 - val_accuracy: 0.5399 - lr: 0.0010 - 10s/epoch - 265ms/step
Epoch 7/25
36/36 - 10s - loss: 0.0778 - accuracy: 0.9771 - val_loss: 2.9186 - val_accuracy: 0.5375 - lr: 0.0010 - 10s/epoch - 264ms/step
Epoch 8/25
36/36 - 10s - loss: 0.0759 - accuracy: 0.9773 - val_loss: 2.9421 - val_accuracy: 0.5364 - lr: 0.0010 - 10s/epoch - 270ms/step
Epoch 9/25
36/36 - 10s - loss: 0.0753 - accuracy: 0.9781 - val_loss: 2.9825 - val_accuracy: 0.5300 - lr: 0.0010 - 10s/epoch - 274ms/step
Epoch 10/25
36/36 - 10s - loss: 0.0770 - accuracy: 0.9769 - val_loss: 2.9701 - val_accuracy: 0.5339 - lr: 0.0010 - 10s/epoch - 269ms/step
Epoch 11/25
36/36 - 10s - loss: 0.0793 - accuracy: 0.9761 - val_loss: 2.9969 - val_accuracy: 0.5313 - lr: 0.0010 - 10s/epoch - 277ms/step
Epoch 12/25
36/36 - 10s - loss: 0.0805 - accuracy: 0.9752 - val_loss: 3.0376 - val_accuracy: 0.5276 - lr: 0.0010 - 10s/epoch - 278ms/step
Epoch 13/25
36/36 - 10s - loss: 0.0794 - accuracy: 0.9762 - val_loss: 2.9921 - val_accuracy: 0.5316 - lr: 0.0010 - 10s/epoch - 268ms/step
Epoch 14/25
36/36 - 10s - loss: 0.0784 - accuracy: 0.9764 - val_loss: 2.9770 - val_accuracy: 0.5375 - lr: 0.0010 - 10s/epoch - 270ms/step
Epoch 15/25
36/36 - 10s - loss: 0.0748 - accuracy: 0.9779 - val_loss: 3.0353 - val_accuracy: 0.5268 - lr: 0.0010 - 10s/epoch - 264ms/step
Epoch 16/25
36/36 - 10s - loss: 0.0755 - accuracy: 0.9774 - val_loss: 3.0314 - val_accuracy: 0.5291 - lr: 0.0010 - 10s/epoch - 266ms/step
Epoch 17/25
36/36 - 10s - loss: 0.0754 - accuracy: 0.9776 - val_loss: 3.0809 - val_accuracy: 0.5287 - lr: 0.0010 - 10s/epoch - 265ms/step
Epoch 18/25
36/36 - 10s - loss: 0.0735 - accuracy: 0.9782 - val_loss: 3.0763 - val_accuracy: 0.5295 - lr: 0.0010 - 10s/epoch - 266ms/step
Epoch 19/25
36/36 - 10s - loss: 0.0740 - accuracy: 0.9776 - val_loss: 3.1130 - val_accuracy: 0.5259 - lr: 0.0010 - 10s/epoch - 264ms/step
Epoch 20/25
36/36 - 10s - loss: 0.0738 - accuracy: 0.9777 - val_loss: 3.0675 - val_accuracy: 0.5316 - lr: 0.0010 - 10s/epoch - 265ms/step
Epoch 21/25
36/36 - 10s - loss: 0.0750 - accuracy: 0.9774 - val_loss: 3.1554 - val_accuracy: 0.5220 - lr: 0.0010 - 10s/epoch - 275ms/step
Epoch 22/25
36/36 - 10s - loss: 0.0720 - accuracy: 0.9784 - val_loss: 3.1422 - val_accuracy: 0.5258 - lr: 0.0010 - 10s/epoch - 270ms/step
Epoch 23/25
36/36 - 10s - loss: 0.0740 - accuracy: 0.9785 - val_loss: 3.1704 - val_accuracy: 0.5236 - lr: 0.0010 - 10s/epoch - 271ms/step
Epoch 24/25
36/36 - 10s - loss: 0.0742 - accuracy: 0.9784 - val_loss: 3.1946 - val_accuracy: 0.5221 - lr: 0.0010 - 10s/epoch - 267ms/step
Epoch 25/25
36/36 - 10s - loss: 0.0782 - accuracy: 0.9763 - val_loss: 3.0844 - val_accuracy: 0.5279 - lr: 0.0010 - 10s/epoch - 272ms/step
Epoch 1/50
4378/4378 - 87s - loss: 0.2157 - accuracy: 0.9248 - val_loss: 1.7837 - val_accuracy: 0.5871 - lr: 0.0010 - 87s/epoch - 20ms/step
Epoch 2/50
4378/4378 - 83s - loss: 0.2266 - accuracy: 0.9209 - val_loss: 1.8728 - val_accuracy: 0.5568 - lr: 0.0010 - 83s/epoch - 19ms/step
Epoch 3/50
4378/4378 - 86s - loss: 0.2364 - accuracy: 0.9175 - val_loss: 1.4530 - val_accuracy: 0.6050 - lr: 0.0010 - 86s/epoch - 20ms/step
Epoch 4/50
4378/4378 - 97s - loss: 0.2346 - accuracy: 0.9178 - val_loss: 1.9674 - val_accuracy: 0.5448 - lr: 0.0010 - 97s/epoch - 22ms/step
Epoch 5/50
4378/4378 - 88s - loss: 0.2411 - accuracy: 0.9149 - val_loss: 1.7282 - val_accuracy: 0.5585 - lr: 0.0010 - 88s/epoch - 20ms/step
Epoch 6/50
4378/4378 - 84s - loss: 0.2404 - accuracy: 0.9144 - val_loss: 1.7240 - val_accuracy: 0.5550 - lr: 0.0010 - 84s/epoch - 19ms/step
Epoch 7/50
4378/4378 - 86s - loss: 0.2392 - accuracy: 0.9151 - val_loss: 1.6399 - val_accuracy: 0.5836 - lr: 0.0010 - 86s/epoch - 20ms/step
Epoch 8/50
4378/4378 - 85s - loss: 0.2448 - accuracy: 0.9130 - val_loss: 1.6440 - val_accuracy: 0.5674 - lr: 0.0010 - 85s/epoch - 19ms/step
Epoch 9/50
4378/4378 - 83s - loss: 0.2580 - accuracy: 0.9079 - val_loss: 1.5682 - val_accuracy: 0.5778 - lr: 0.0010 - 83s/epoch - 19ms/step
Epoch 10/50
4378/4378 - 85s - loss: 0.2438 - accuracy: 0.9143 - val_loss: 1.8557 - val_accuracy: 0.5503 - lr: 0.0010 - 85s/epoch - 20ms/step
Epoch 11/50
4378/4378 - 82s - loss: 0.2392 - accuracy: 0.9151 - val_loss: 1.8011 - val_accuracy: 0.5475 - lr: 0.0010 - 82s/epoch - 19ms/step
Epoch 12/50
4378/4378 - 84s - loss: 0.2440 - accuracy: 0.9145 - val_loss: 1.8421 - val_accuracy: 0.5388 - lr: 0.0010 - 84s/epoch - 19ms/step
Epoch 13/50
4378/4378 - 82s - loss: 0.2444 - accuracy: 0.9132 - val_loss: 1.5740 - val_accuracy: 0.5988 - lr: 0.0010 - 82s/epoch - 19ms/step
Epoch 14/50
4378/4378 - 81s - loss: 0.2431 - accuracy: 0.9139 - val_loss: 1.5580 - val_accuracy: 0.5538 - lr: 0.0010 - 81s/epoch - 19ms/step
Epoch 15/50
4378/4378 - 81s - loss: 0.2461 - accuracy: 0.9134 - val_loss: 1.8433 - val_accuracy: 0.5363 - lr: 0.0010 - 81s/epoch - 19ms/step
Epoch 16/50
4378/4378 - 84s - loss: 0.2454 - accuracy: 0.9135 - val_loss: 1.7470 - val_accuracy: 0.5683 - lr: 0.0010 - 84s/epoch - 19ms/step
Epoch 17/50
4378/4378 - 83s - loss: 0.2421 - accuracy: 0.9137 - val_loss: 1.8232 - val_accuracy: 0.5695 - lr: 0.0010 - 83s/epoch - 19ms/step
Epoch 18/50
4378/4378 - 84s - loss: 0.2445 - accuracy: 0.9142 - val_loss: 1.3769 - val_accuracy: 0.6183 - lr: 0.0010 - 84s/epoch - 19ms/step
Epoch 19/50
4378/4378 - 83s - loss: 0.2426 - accuracy: 0.9134 - val_loss: 1.6320 - val_accuracy: 0.5658 - lr: 0.0010 - 83s/epoch - 19ms/step
Epoch 20/50
4378/4378 - 83s - loss: 0.2462 - accuracy: 0.9133 - val_loss: 1.5074 - val_accuracy: 0.5915 - lr: 0.0010 - 83s/epoch - 19ms/step
Epoch 21/50
4378/4378 - 84s - loss: 0.2495 - accuracy: 0.9120 - val_loss: 1.6652 - val_accuracy: 0.5798 - lr: 0.0010 - 84s/epoch - 19ms/step
Epoch 22/50
4378/4378 - 84s - loss: 0.2469 - accuracy: 0.9126 - val_loss: 1.5435 - val_accuracy: 0.6037 - lr: 0.0010 - 84s/epoch - 19ms/step
Epoch 23/50
4378/4378 - 84s - loss: 0.2515 - accuracy: 0.9109 - val_loss: 1.5399 - val_accuracy: 0.5720 - lr: 0.0010 - 84s/epoch - 19ms/step
Epoch 24/50
4378/4378 - 104s - loss: 0.2459 - accuracy: 0.9129 - val_loss: 1.5792 - val_accuracy: 0.5721 - lr: 0.0010 - 104s/epoch - 24ms/step
Epoch 25/50
4378/4378 - 89s - loss: 0.2478 - accuracy: 0.9112 - val_loss: 1.8867 - val_accuracy: 0.5349 - lr: 0.0010 - 89s/epoch - 20ms/step
Epoch 26/50
4378/4378 - 87s - loss: 0.2485 - accuracy: 0.9113 - val_loss: 1.7374 - val_accuracy: 0.5512 - lr: 0.0010 - 87s/epoch - 20ms/step
Epoch 27/50
4378/4378 - 86s - loss: 0.2421 - accuracy: 0.9144 - val_loss: 1.6746 - val_accuracy: 0.5509 - lr: 0.0010 - 86s/epoch - 20ms/step
Epoch 28/50
4378/4378 - 83s - loss: 0.2463 - accuracy: 0.9121 - val_loss: 1.5061 - val_accuracy: 0.5901 - lr: 0.0010 - 83s/epoch - 19ms/step
Epoch 29/50
4378/4378 - 83s - loss: 0.2386 - accuracy: 0.9152 - val_loss: 1.8008 - val_accuracy: 0.5317 - lr: 0.0010 - 83s/epoch - 19ms/step
Epoch 30/50
4378/4378 - 83s - loss: 0.2465 - accuracy: 0.9129 - val_loss: 1.4025 - val_accuracy: 0.6109 - lr: 0.0010 - 83s/epoch - 19ms/step
Epoch 31/50
4378/4378 - 83s - loss: 0.2424 - accuracy: 0.9134 - val_loss: 1.4521 - val_accuracy: 0.5998 - lr: 0.0010 - 83s/epoch - 19ms/step
Epoch 32/50
4378/4378 - 82s - loss: 0.2494 - accuracy: 0.9108 - val_loss: 1.6446 - val_accuracy: 0.5617 - lr: 0.0010 - 82s/epoch - 19ms/step
Epoch 33/50
4378/4378 - 82s - loss: 0.2433 - accuracy: 0.9128 - val_loss: 1.6698 - val_accuracy: 0.5487 - lr: 0.0010 - 82s/epoch - 19ms/step
Epoch 34/50
4378/4378 - 84s - loss: 0.2437 - accuracy: 0.9140 - val_loss: 1.5276 - val_accuracy: 0.5901 - lr: 0.0010 - 84s/epoch - 19ms/step
Epoch 35/50
4378/4378 - 83s - loss: 0.2489 - accuracy: 0.9110 - val_loss: 1.6583 - val_accuracy: 0.5553 - lr: 0.0010 - 83s/epoch - 19ms/step
Epoch 36/50
4378/4378 - 84s - loss: 0.2473 - accuracy: 0.9132 - val_loss: 1.5266 - val_accuracy: 0.5790 - lr: 0.0010 - 84s/epoch - 19ms/step
Epoch 37/50
4378/4378 - 83s - loss: 0.2459 - accuracy: 0.9127 - val_loss: 1.6037 - val_accuracy: 0.5614 - lr: 0.0010 - 83s/epoch - 19ms/step
Epoch 38/50
4378/4378 - 85s - loss: 0.2478 - accuracy: 0.9115 - val_loss: 1.7097 - val_accuracy: 0.5635 - lr: 0.0010 - 85s/epoch - 19ms/step
Epoch 39/50
4378/4378 - 83s - loss: 0.2521 - accuracy: 0.9106 - val_loss: 1.6241 - val_accuracy: 0.5277 - lr: 0.0010 - 83s/epoch - 19ms/step
Epoch 40/50
4378/4378 - 84s - loss: 0.2428 - accuracy: 0.9131 - val_loss: 1.6048 - val_accuracy: 0.5822 - lr: 0.0010 - 84s/epoch - 19ms/step
Epoch 41/50
4378/4378 - 85s - loss: 0.2472 - accuracy: 0.9120 - val_loss: 1.8701 - val_accuracy: 0.5353 - lr: 0.0010 - 85s/epoch - 19ms/step
Epoch 42/50
4378/4378 - 83s - loss: 0.2510 - accuracy: 0.9101 - val_loss: 1.7539 - val_accuracy: 0.5461 - lr: 0.0010 - 83s/epoch - 19ms/step
Epoch 43/50
4378/4378 - 83s - loss: 0.2475 - accuracy: 0.9118 - val_loss: 1.5074 - val_accuracy: 0.5777 - lr: 0.0010 - 83s/epoch - 19ms/step
Epoch 44/50
4378/4378 - 85s - loss: 0.2519 - accuracy: 0.9106 - val_loss: 1.7134 - val_accuracy: 0.5248 - lr: 0.0010 - 85s/epoch - 19ms/step
Epoch 45/50
4378/4378 - 83s - loss: 0.2526 - accuracy: 0.9100 - val_loss: 1.5394 - val_accuracy: 0.5721 - lr: 0.0010 - 83s/epoch - 19ms/step
Epoch 46/50
4378/4378 - 84s - loss: 0.2495 - accuracy: 0.9105 - val_loss: 1.6632 - val_accuracy: 0.5663 - lr: 0.0010 - 84s/epoch - 19ms/step
Epoch 47/50
4378/4378 - 83s - loss: 0.2401 - accuracy: 0.9144 - val_loss: 1.7471 - val_accuracy: 0.5481 - lr: 0.0010 - 83s/epoch - 19ms/step
Epoch 48/50
4378/4378 - 84s - loss: 0.2397 - accuracy: 0.9153 - val_loss: 1.6067 - val_accuracy: 0.5697 - lr: 0.0010 - 84s/epoch - 19ms/step
Epoch 49/50
4378/4378 - 85s - loss: 0.2435 - accuracy: 0.9135 - val_loss: 1.6816 - val_accuracy: 0.5593 - lr: 0.0010 - 85s/epoch - 19ms/step
Epoch 50/50
4378/4378 - 85s - loss: 0.2424 - accuracy: 0.9138 - val_loss: 1.4740 - val_accuracy: 0.6146 - lr: 0.0010 - 85s/epoch - 19ms/step
Epoch 1/50
876/876 - 26s - loss: 0.1663 - accuracy: 0.9436 - val_loss: 2.0187 - val_accuracy: 0.5705 - lr: 0.0010 - 26s/epoch - 29ms/step
Epoch 2/50
876/876 - 23s - loss: 0.1631 - accuracy: 0.9443 - val_loss: 1.8295 - val_accuracy: 0.5925 - lr: 0.0010 - 23s/epoch - 26ms/step
Epoch 3/50
876/876 - 23s - loss: 0.1675 - accuracy: 0.9422 - val_loss: 2.0793 - val_accuracy: 0.5470 - lr: 0.0010 - 23s/epoch - 26ms/step
Epoch 4/50
876/876 - 23s - loss: 0.1705 - accuracy: 0.9418 - val_loss: 2.0192 - val_accuracy: 0.5510 - lr: 0.0010 - 23s/epoch - 26ms/step
Epoch 5/50
876/876 - 23s - loss: 0.1631 - accuracy: 0.9438 - val_loss: 2.1233 - val_accuracy: 0.5468 - lr: 0.0010 - 23s/epoch - 26ms/step
Epoch 6/50
876/876 - 23s - loss: 0.1610 - accuracy: 0.9449 - val_loss: 2.1389 - val_accuracy: 0.5528 - lr: 0.0010 - 23s/epoch - 27ms/step
Epoch 7/50
876/876 - 23s - loss: 0.1597 - accuracy: 0.9459 - val_loss: 2.4623 - val_accuracy: 0.4821 - lr: 0.0010 - 23s/epoch - 27ms/step
Epoch 8/50
876/876 - 23s - loss: 0.1675 - accuracy: 0.9420 - val_loss: 2.0783 - val_accuracy: 0.5497 - lr: 0.0010 - 23s/epoch - 27ms/step
Epoch 9/50
876/876 - 24s - loss: 0.1597 - accuracy: 0.9449 - val_loss: 2.0788 - val_accuracy: 0.5529 - lr: 0.0010 - 24s/epoch - 27ms/step
Epoch 10/50
876/876 - 22s - loss: 0.1600 - accuracy: 0.9452 - val_loss: 2.1127 - val_accuracy: 0.5604 - lr: 0.0010 - 22s/epoch - 26ms/step
Epoch 11/50
876/876 - 23s - loss: 0.1544 - accuracy: 0.9471 - val_loss: 2.2878 - val_accuracy: 0.5380 - lr: 0.0010 - 23s/epoch - 26ms/step
Epoch 12/50
876/876 - 20s - loss: 0.1557 - accuracy: 0.9465 - val_loss: 2.3610 - val_accuracy: 0.5293 - lr: 0.0010 - 20s/epoch - 23ms/step
Epoch 13/50
876/876 - 24s - loss: 0.1569 - accuracy: 0.9457 - val_loss: 2.1906 - val_accuracy: 0.5470 - lr: 0.0010 - 24s/epoch - 27ms/step
Epoch 14/50
876/876 - 23s - loss: 0.1484 - accuracy: 0.9487 - val_loss: 2.2515 - val_accuracy: 0.5513 - lr: 0.0010 - 23s/epoch - 27ms/step
Epoch 15/50
876/876 - 24s - loss: 0.1521 - accuracy: 0.9482 - val_loss: 2.2061 - val_accuracy: 0.5649 - lr: 0.0010 - 24s/epoch - 27ms/step
Epoch 16/50
876/876 - 22s - loss: 0.1554 - accuracy: 0.9461 - val_loss: 2.2038 - val_accuracy: 0.5506 - lr: 0.0010 - 22s/epoch - 25ms/step
Epoch 17/50
876/876 - 21s - loss: 0.1569 - accuracy: 0.9449 - val_loss: 2.0027 - val_accuracy: 0.5758 - lr: 0.0010 - 21s/epoch - 24ms/step
Epoch 18/50
876/876 - 23s - loss: 0.1510 - accuracy: 0.9478 - val_loss: 2.2370 - val_accuracy: 0.5343 - lr: 0.0010 - 23s/epoch - 27ms/step
Epoch 19/50
876/876 - 25s - loss: 0.1517 - accuracy: 0.9476 - val_loss: 2.1268 - val_accuracy: 0.5776 - lr: 0.0010 - 25s/epoch - 28ms/step
Epoch 20/50
876/876 - 25s - loss: 0.1487 - accuracy: 0.9489 - val_loss: 2.1703 - val_accuracy: 0.5783 - lr: 0.0010 - 25s/epoch - 28ms/step
Epoch 21/50
876/876 - 25s - loss: 0.1509 - accuracy: 0.9479 - val_loss: 2.2496 - val_accuracy: 0.5611 - lr: 0.0010 - 25s/epoch - 28ms/step
Epoch 22/50
876/876 - 25s - loss: 0.1532 - accuracy: 0.9468 - val_loss: 2.1090 - val_accuracy: 0.5821 - lr: 0.0010 - 25s/epoch - 28ms/step
Epoch 23/50
876/876 - 25s - loss: 0.1531 - accuracy: 0.9464 - val_loss: 2.2347 - val_accuracy: 0.5817 - lr: 0.0010 - 25s/epoch - 28ms/step
Epoch 24/50
876/876 - 25s - loss: 0.1525 - accuracy: 0.9481 - val_loss: 2.1300 - val_accuracy: 0.5757 - lr: 0.0010 - 25s/epoch - 28ms/step
Epoch 25/50
876/876 - 25s - loss: 0.1539 - accuracy: 0.9465 - val_loss: 2.1588 - val_accuracy: 0.5745 - lr: 0.0010 - 25s/epoch - 28ms/step
Epoch 26/50
876/876 - 25s - loss: 0.1471 - accuracy: 0.9491 - val_loss: 2.4032 - val_accuracy: 0.5453 - lr: 0.0010 - 25s/epoch - 28ms/step
Epoch 27/50
876/876 - 25s - loss: 0.1544 - accuracy: 0.9468 - val_loss: 2.0502 - val_accuracy: 0.5730 - lr: 0.0010 - 25s/epoch - 28ms/step
Epoch 28/50
876/876 - 25s - loss: 0.1481 - accuracy: 0.9491 - val_loss: 2.2598 - val_accuracy: 0.5590 - lr: 0.0010 - 25s/epoch - 28ms/step
Epoch 29/50
876/876 - 24s - loss: 0.1426 - accuracy: 0.9508 - val_loss: 2.2287 - val_accuracy: 0.5669 - lr: 0.0010 - 24s/epoch - 27ms/step
Epoch 30/50
876/876 - 23s - loss: 0.1457 - accuracy: 0.9491 - val_loss: 1.9716 - val_accuracy: 0.5987 - lr: 0.0010 - 23s/epoch - 26ms/step
Epoch 31/50
876/876 - 23s - loss: 0.1466 - accuracy: 0.9490 - val_loss: 2.2521 - val_accuracy: 0.5629 - lr: 0.0010 - 23s/epoch - 27ms/step
Epoch 32/50
876/876 - 23s - loss: 0.1494 - accuracy: 0.9479 - val_loss: 2.3351 - val_accuracy: 0.5485 - lr: 0.0010 - 23s/epoch - 26ms/step
Epoch 33/50
876/876 - 22s - loss: 0.1490 - accuracy: 0.9486 - val_loss: 2.3284 - val_accuracy: 0.5677 - lr: 0.0010 - 22s/epoch - 25ms/step
Epoch 34/50
876/876 - 21s - loss: 0.1488 - accuracy: 0.9484 - val_loss: 2.4384 - val_accuracy: 0.5105 - lr: 0.0010 - 21s/epoch - 24ms/step
Epoch 35/50
876/876 - 22s - loss: 0.1435 - accuracy: 0.9500 - val_loss: 2.4672 - val_accuracy: 0.5356 - lr: 0.0010 - 22s/epoch - 26ms/step
Epoch 36/50
876/876 - 23s - loss: 0.1496 - accuracy: 0.9486 - val_loss: 2.5070 - val_accuracy: 0.5286 - lr: 0.0010 - 23s/epoch - 27ms/step
Epoch 37/50
876/876 - 23s - loss: 0.1467 - accuracy: 0.9491 - val_loss: 2.5789 - val_accuracy: 0.5218 - lr: 0.0010 - 23s/epoch - 26ms/step
Epoch 38/50
876/876 - 23s - loss: 0.1405 - accuracy: 0.9517 - val_loss: 2.3767 - val_accuracy: 0.5447 - lr: 0.0010 - 23s/epoch - 27ms/step
Epoch 39/50
876/876 - 23s - loss: 0.1433 - accuracy: 0.9505 - val_loss: 2.3554 - val_accuracy: 0.5476 - lr: 0.0010 - 23s/epoch - 27ms/step
Epoch 40/50
876/876 - 23s - loss: 0.1515 - accuracy: 0.9471 - val_loss: 2.2824 - val_accuracy: 0.5493 - lr: 0.0010 - 23s/epoch - 27ms/step
Epoch 41/50
876/876 - 23s - loss: 0.1455 - accuracy: 0.9499 - val_loss: 2.1467 - val_accuracy: 0.5909 - lr: 0.0010 - 23s/epoch - 27ms/step
Epoch 42/50
876/876 - 23s - loss: 0.1506 - accuracy: 0.9478 - val_loss: 2.0424 - val_accuracy: 0.5939 - lr: 0.0010 - 23s/epoch - 27ms/step
Epoch 43/50
876/876 - 23s - loss: 0.1445 - accuracy: 0.9506 - val_loss: 2.3571 - val_accuracy: 0.5485 - lr: 0.0010 - 23s/epoch - 26ms/step
Epoch 44/50
876/876 - 23s - loss: 0.1511 - accuracy: 0.9476 - val_loss: 2.1132 - val_accuracy: 0.5810 - lr: 0.0010 - 23s/epoch - 26ms/step
Epoch 45/50
876/876 - 23s - loss: 0.1437 - accuracy: 0.9509 - val_loss: 2.3737 - val_accuracy: 0.5468 - lr: 0.0010 - 23s/epoch - 27ms/step
Epoch 46/50
876/876 - 23s - loss: 0.1462 - accuracy: 0.9500 - val_loss: 2.2591 - val_accuracy: 0.5570 - lr: 0.0010 - 23s/epoch - 26ms/step
Epoch 47/50
876/876 - 23s - loss: 0.1466 - accuracy: 0.9494 - val_loss: 2.1875 - val_accuracy: 0.5711 - lr: 0.0010 - 23s/epoch - 27ms/step
Epoch 48/50
876/876 - 24s - loss: 0.1431 - accuracy: 0.9508 - val_loss: 2.2394 - val_accuracy: 0.5717 - lr: 0.0010 - 24s/epoch - 27ms/step
Epoch 49/50
876/876 - 23s - loss: 0.1399 - accuracy: 0.9520 - val_loss: 2.5386 - val_accuracy: 0.5231 - lr: 0.0010 - 23s/epoch - 27ms/step
Epoch 50/50
876/876 - 23s - loss: 0.1438 - accuracy: 0.9493 - val_loss: 2.3916 - val_accuracy: 0.5485 - lr: 0.0010 - 23s/epoch - 26ms/step
Epoch 1/50
176/176 - 24s - loss: 0.1064 - accuracy: 0.9653 - val_loss: 2.5350 - val_accuracy: 0.5541 - lr: 0.0010 - 24s/epoch - 135ms/step
Epoch 2/50
176/176 - 12s - loss: 0.0904 - accuracy: 0.9710 - val_loss: 2.6691 - val_accuracy: 0.5528 - lr: 0.0010 - 12s/epoch - 66ms/step
Epoch 3/50
176/176 - 11s - loss: 0.0873 - accuracy: 0.9712 - val_loss: 2.8013 - val_accuracy: 0.5485 - lr: 0.0010 - 11s/epoch - 63ms/step
Epoch 4/50
176/176 - 12s - loss: 0.0905 - accuracy: 0.9702 - val_loss: 2.7521 - val_accuracy: 0.5633 - lr: 0.0010 - 12s/epoch - 66ms/step
Epoch 5/50
176/176 - 11s - loss: 0.0915 - accuracy: 0.9703 - val_loss: 2.7849 - val_accuracy: 0.5508 - lr: 0.0010 - 11s/epoch - 65ms/step
Epoch 6/50
176/176 - 11s - loss: 0.0924 - accuracy: 0.9699 - val_loss: 2.7858 - val_accuracy: 0.5559 - lr: 0.0010 - 11s/epoch - 64ms/step
Epoch 7/50
176/176 - 11s - loss: 0.0959 - accuracy: 0.9685 - val_loss: 2.9432 - val_accuracy: 0.5464 - lr: 0.0010 - 11s/epoch - 64ms/step
Epoch 8/50
176/176 - 11s - loss: 0.1006 - accuracy: 0.9667 - val_loss: 3.0730 - val_accuracy: 0.5214 - lr: 0.0010 - 11s/epoch - 64ms/step
Epoch 9/50
176/176 - 12s - loss: 0.1003 - accuracy: 0.9671 - val_loss: 2.7706 - val_accuracy: 0.5487 - lr: 0.0010 - 12s/epoch - 68ms/step
Epoch 10/50
176/176 - 12s - loss: 0.0984 - accuracy: 0.9676 - val_loss: 2.9161 - val_accuracy: 0.5360 - lr: 0.0010 - 12s/epoch - 67ms/step
Epoch 11/50
176/176 - 12s - loss: 0.0992 - accuracy: 0.9669 - val_loss: 2.8914 - val_accuracy: 0.5437 - lr: 0.0010 - 12s/epoch - 70ms/step
Epoch 12/50
176/176 - 12s - loss: 0.0992 - accuracy: 0.9672 - val_loss: 2.7859 - val_accuracy: 0.5498 - lr: 0.0010 - 12s/epoch - 67ms/step
Epoch 13/50
176/176 - 12s - loss: 0.0988 - accuracy: 0.9677 - val_loss: 2.9529 - val_accuracy: 0.5320 - lr: 0.0010 - 12s/epoch - 67ms/step
Epoch 14/50
176/176 - 12s - loss: 0.0930 - accuracy: 0.9689 - val_loss: 2.9389 - val_accuracy: 0.5422 - lr: 0.0010 - 12s/epoch - 67ms/step
Epoch 15/50
176/176 - 12s - loss: 0.0899 - accuracy: 0.9704 - val_loss: 3.0311 - val_accuracy: 0.5297 - lr: 0.0010 - 12s/epoch - 66ms/step
Epoch 16/50
176/176 - 12s - loss: 0.0888 - accuracy: 0.9714 - val_loss: 3.0858 - val_accuracy: 0.5332 - lr: 0.0010 - 12s/epoch - 67ms/step
Epoch 17/50
176/176 - 12s - loss: 0.0905 - accuracy: 0.9704 - val_loss: 3.2116 - val_accuracy: 0.5233 - lr: 0.0010 - 12s/epoch - 66ms/step
Epoch 18/50
176/176 - 12s - loss: 0.0888 - accuracy: 0.9703 - val_loss: 3.1411 - val_accuracy: 0.5248 - lr: 0.0010 - 12s/epoch - 66ms/step
Epoch 19/50
176/176 - 12s - loss: 0.0918 - accuracy: 0.9700 - val_loss: 3.1919 - val_accuracy: 0.5254 - lr: 0.0010 - 12s/epoch - 66ms/step
Epoch 20/50
176/176 - 12s - loss: 0.0947 - accuracy: 0.9684 - val_loss: 2.9752 - val_accuracy: 0.5431 - lr: 0.0010 - 12s/epoch - 67ms/step
Epoch 21/50
176/176 - 12s - loss: 0.0948 - accuracy: 0.9685 - val_loss: 3.1668 - val_accuracy: 0.5213 - lr: 0.0010 - 12s/epoch - 69ms/step
Epoch 22/50
176/176 - 11s - loss: 0.0958 - accuracy: 0.9688 - val_loss: 3.0354 - val_accuracy: 0.5412 - lr: 0.0010 - 11s/epoch - 64ms/step
Epoch 23/50
176/176 - 11s - loss: 0.0930 - accuracy: 0.9690 - val_loss: 3.1039 - val_accuracy: 0.5384 - lr: 0.0010 - 11s/epoch - 65ms/step
Epoch 24/50
176/176 - 12s - loss: 0.0966 - accuracy: 0.9681 - val_loss: 2.9871 - val_accuracy: 0.5480 - lr: 0.0010 - 12s/epoch - 66ms/step
Epoch 25/50
176/176 - 11s - loss: 0.0942 - accuracy: 0.9683 - val_loss: 3.1589 - val_accuracy: 0.5257 - lr: 0.0010 - 11s/epoch - 64ms/step
Epoch 26/50
176/176 - 11s - loss: 0.0928 - accuracy: 0.9697 - val_loss: 2.7875 - val_accuracy: 0.5750 - lr: 0.0010 - 11s/epoch - 64ms/step
Epoch 27/50
176/176 - 12s - loss: 0.0965 - accuracy: 0.9676 - val_loss: 3.1526 - val_accuracy: 0.5312 - lr: 0.0010 - 12s/epoch - 67ms/step
Epoch 28/50
176/176 - 11s - loss: 0.0948 - accuracy: 0.9686 - val_loss: 3.0247 - val_accuracy: 0.5420 - lr: 0.0010 - 11s/epoch - 64ms/step
Epoch 29/50
176/176 - 11s - loss: 0.0929 - accuracy: 0.9692 - val_loss: 3.0972 - val_accuracy: 0.5375 - lr: 0.0010 - 11s/epoch - 65ms/step
Epoch 30/50
176/176 - 11s - loss: 0.0904 - accuracy: 0.9699 - val_loss: 3.0584 - val_accuracy: 0.5458 - lr: 0.0010 - 11s/epoch - 64ms/step
Epoch 31/50
176/176 - 11s - loss: 0.0837 - accuracy: 0.9727 - val_loss: 3.1893 - val_accuracy: 0.5317 - lr: 0.0010 - 11s/epoch - 65ms/step
Epoch 32/50
176/176 - 11s - loss: 0.0872 - accuracy: 0.9719 - val_loss: 3.2723 - val_accuracy: 0.5238 - lr: 0.0010 - 11s/epoch - 65ms/step
Epoch 33/50
176/176 - 11s - loss: 0.0881 - accuracy: 0.9706 - val_loss: 3.1218 - val_accuracy: 0.5477 - lr: 0.0010 - 11s/epoch - 65ms/step
Epoch 34/50
176/176 - 12s - loss: 0.0915 - accuracy: 0.9696 - val_loss: 3.1330 - val_accuracy: 0.5483 - lr: 0.0010 - 12s/epoch - 66ms/step
Epoch 35/50
176/176 - 12s - loss: 0.0895 - accuracy: 0.9701 - val_loss: 3.0760 - val_accuracy: 0.5512 - lr: 0.0010 - 12s/epoch - 69ms/step
Epoch 36/50
176/176 - 12s - loss: 0.0844 - accuracy: 0.9729 - val_loss: 3.1824 - val_accuracy: 0.5420 - lr: 0.0010 - 12s/epoch - 68ms/step
Epoch 37/50
176/176 - 13s - loss: 0.0864 - accuracy: 0.9721 - val_loss: 3.0896 - val_accuracy: 0.5526 - lr: 0.0010 - 13s/epoch - 72ms/step
Epoch 38/50
176/176 - 13s - loss: 0.0860 - accuracy: 0.9715 - val_loss: 3.0954 - val_accuracy: 0.5484 - lr: 0.0010 - 13s/epoch - 72ms/step
Epoch 39/50
176/176 - 13s - loss: 0.0882 - accuracy: 0.9705 - val_loss: 3.3092 - val_accuracy: 0.5333 - lr: 0.0010 - 13s/epoch - 71ms/step
Epoch 40/50
176/176 - 13s - loss: 0.0871 - accuracy: 0.9717 - val_loss: 3.3884 - val_accuracy: 0.5188 - lr: 0.0010 - 13s/epoch - 71ms/step
Epoch 41/50
176/176 - 11s - loss: 0.0856 - accuracy: 0.9714 - val_loss: 3.2562 - val_accuracy: 0.5445 - lr: 0.0010 - 11s/epoch - 63ms/step
Epoch 42/50
176/176 - 11s - loss: 0.0866 - accuracy: 0.9717 - val_loss: 3.2952 - val_accuracy: 0.5343 - lr: 0.0010 - 11s/epoch - 64ms/step
Epoch 43/50
176/176 - 11s - loss: 0.0908 - accuracy: 0.9703 - val_loss: 3.1651 - val_accuracy: 0.5467 - lr: 0.0010 - 11s/epoch - 65ms/step
Epoch 44/50
176/176 - 11s - loss: 0.0893 - accuracy: 0.9701 - val_loss: 3.0550 - val_accuracy: 0.5551 - lr: 0.0010 - 11s/epoch - 63ms/step
Epoch 45/50
176/176 - 12s - loss: 0.0889 - accuracy: 0.9702 - val_loss: 3.2116 - val_accuracy: 0.5442 - lr: 0.0010 - 12s/epoch - 66ms/step
Epoch 46/50
176/176 - 11s - loss: 0.0831 - accuracy: 0.9730 - val_loss: 3.2757 - val_accuracy: 0.5428 - lr: 0.0010 - 11s/epoch - 65ms/step
Epoch 47/50
176/176 - 12s - loss: 0.0839 - accuracy: 0.9725 - val_loss: 3.1895 - val_accuracy: 0.5496 - lr: 0.0010 - 12s/epoch - 66ms/step
Epoch 48/50
176/176 - 12s - loss: 0.0850 - accuracy: 0.9722 - val_loss: 3.4982 - val_accuracy: 0.5166 - lr: 0.0010 - 12s/epoch - 67ms/step
Epoch 49/50
176/176 - 12s - loss: 0.0825 - accuracy: 0.9728 - val_loss: 3.2099 - val_accuracy: 0.5412 - lr: 0.0010 - 12s/epoch - 68ms/step
Epoch 50/50
176/176 - 11s - loss: 0.0832 - accuracy: 0.9719 - val_loss: 3.2905 - val_accuracy: 0.5364 - lr: 0.0010 - 11s/epoch - 65ms/step
Epoch 1/50
36/36 - 13s - loss: 0.0743 - accuracy: 0.9763 - val_loss: 3.2631 - val_accuracy: 0.5407 - lr: 0.0010 - 13s/epoch - 348ms/step
Epoch 2/50
36/36 - 10s - loss: 0.0694 - accuracy: 0.9788 - val_loss: 3.3491 - val_accuracy: 0.5314 - lr: 0.0010 - 10s/epoch - 270ms/step
Epoch 3/50
36/36 - 10s - loss: 0.0666 - accuracy: 0.9787 - val_loss: 3.3849 - val_accuracy: 0.5297 - lr: 0.0010 - 10s/epoch - 274ms/step
Epoch 4/50
36/36 - 10s - loss: 0.0664 - accuracy: 0.9791 - val_loss: 3.4178 - val_accuracy: 0.5293 - lr: 0.0010 - 10s/epoch - 277ms/step
Epoch 5/50
36/36 - 10s - loss: 0.0634 - accuracy: 0.9797 - val_loss: 3.4242 - val_accuracy: 0.5346 - lr: 0.0010 - 10s/epoch - 274ms/step
Epoch 6/50
36/36 - 10s - loss: 0.0640 - accuracy: 0.9800 - val_loss: 3.4484 - val_accuracy: 0.5307 - lr: 0.0010 - 10s/epoch - 276ms/step
Epoch 7/50
36/36 - 10s - loss: 0.0667 - accuracy: 0.9791 - val_loss: 3.5287 - val_accuracy: 0.5233 - lr: 0.0010 - 10s/epoch - 277ms/step
Epoch 8/50
36/36 - 10s - loss: 0.0630 - accuracy: 0.9800 - val_loss: 3.4726 - val_accuracy: 0.5300 - lr: 0.0010 - 10s/epoch - 271ms/step
Epoch 9/50
36/36 - 10s - loss: 0.0630 - accuracy: 0.9803 - val_loss: 3.5247 - val_accuracy: 0.5284 - lr: 0.0010 - 10s/epoch - 277ms/step
Epoch 10/50
36/36 - 10s - loss: 0.0629 - accuracy: 0.9806 - val_loss: 3.4730 - val_accuracy: 0.5344 - lr: 0.0010 - 10s/epoch - 272ms/step
Epoch 11/50
36/36 - 10s - loss: 0.0653 - accuracy: 0.9795 - val_loss: 3.4908 - val_accuracy: 0.5331 - lr: 0.0010 - 10s/epoch - 272ms/step
Epoch 12/50
36/36 - 10s - loss: 0.0625 - accuracy: 0.9805 - val_loss: 3.5583 - val_accuracy: 0.5300 - lr: 0.0010 - 10s/epoch - 276ms/step
Epoch 13/50
36/36 - 10s - loss: 0.0616 - accuracy: 0.9804 - val_loss: 3.5479 - val_accuracy: 0.5331 - lr: 0.0010 - 10s/epoch - 268ms/step
Epoch 14/50
36/36 - 11s - loss: 0.0677 - accuracy: 0.9783 - val_loss: 3.5816 - val_accuracy: 0.5283 - lr: 0.0010 - 11s/epoch - 314ms/step
Epoch 15/50
36/36 - 11s - loss: 0.0636 - accuracy: 0.9804 - val_loss: 3.6482 - val_accuracy: 0.5236 - lr: 0.0010 - 11s/epoch - 314ms/step
Epoch 16/50
36/36 - 11s - loss: 0.0615 - accuracy: 0.9807 - val_loss: 3.6499 - val_accuracy: 0.5257 - lr: 0.0010 - 11s/epoch - 316ms/step
Epoch 17/50
36/36 - 11s - loss: 0.0585 - accuracy: 0.9821 - val_loss: 3.6273 - val_accuracy: 0.5294 - lr: 0.0010 - 11s/epoch - 318ms/step
Epoch 18/50
36/36 - 11s - loss: 0.0633 - accuracy: 0.9803 - val_loss: 3.6775 - val_accuracy: 0.5206 - lr: 0.0010 - 11s/epoch - 319ms/step
Epoch 19/50
36/36 - 11s - loss: 0.0613 - accuracy: 0.9806 - val_loss: 3.5721 - val_accuracy: 0.5348 - lr: 0.0010 - 11s/epoch - 315ms/step
Epoch 20/50
36/36 - 11s - loss: 0.0606 - accuracy: 0.9809 - val_loss: 3.6603 - val_accuracy: 0.5242 - lr: 0.0010 - 11s/epoch - 317ms/step
Epoch 21/50
36/36 - 11s - loss: 0.0602 - accuracy: 0.9814 - val_loss: 3.6952 - val_accuracy: 0.5220 - lr: 0.0010 - 11s/epoch - 316ms/step
Epoch 22/50
36/36 - 11s - loss: 0.0603 - accuracy: 0.9808 - val_loss: 3.6303 - val_accuracy: 0.5317 - lr: 0.0010 - 11s/epoch - 317ms/step
Epoch 23/50
36/36 - 11s - loss: 0.0620 - accuracy: 0.9806 - val_loss: 3.6901 - val_accuracy: 0.5231 - lr: 0.0010 - 11s/epoch - 318ms/step
Epoch 24/50
36/36 - 11s - loss: 0.0609 - accuracy: 0.9811 - val_loss: 3.7412 - val_accuracy: 0.5183 - lr: 0.0010 - 11s/epoch - 315ms/step
Epoch 25/50
36/36 - 11s - loss: 0.0606 - accuracy: 0.9805 - val_loss: 3.6944 - val_accuracy: 0.5202 - lr: 0.0010 - 11s/epoch - 316ms/step
Epoch 26/50
36/36 - 11s - loss: 0.0612 - accuracy: 0.9805 - val_loss: 3.6647 - val_accuracy: 0.5243 - lr: 0.0010 - 11s/epoch - 314ms/step
Epoch 27/50
36/36 - 11s - loss: 0.0602 - accuracy: 0.9814 - val_loss: 3.7256 - val_accuracy: 0.5169 - lr: 0.0010 - 11s/epoch - 316ms/step
Epoch 28/50
36/36 - 12s - loss: 0.0594 - accuracy: 0.9819 - val_loss: 3.6789 - val_accuracy: 0.5224 - lr: 0.0010 - 12s/epoch - 322ms/step
Epoch 29/50
36/36 - 11s - loss: 0.0597 - accuracy: 0.9815 - val_loss: 3.7246 - val_accuracy: 0.5170 - lr: 0.0010 - 11s/epoch - 315ms/step
Epoch 30/50
36/36 - 11s - loss: 0.0574 - accuracy: 0.9819 - val_loss: 3.6789 - val_accuracy: 0.5237 - lr: 0.0010 - 11s/epoch - 313ms/step
Epoch 31/50
36/36 - 11s - loss: 0.0607 - accuracy: 0.9814 - val_loss: 3.6894 - val_accuracy: 0.5206 - lr: 0.0010 - 11s/epoch - 316ms/step
Epoch 32/50
36/36 - 10s - loss: 0.0600 - accuracy: 0.9813 - val_loss: 3.7080 - val_accuracy: 0.5199 - lr: 0.0010 - 10s/epoch - 287ms/step
Epoch 33/50
36/36 - 10s - loss: 0.0590 - accuracy: 0.9819 - val_loss: 3.7443 - val_accuracy: 0.5188 - lr: 0.0010 - 10s/epoch - 274ms/step
Epoch 34/50
36/36 - 10s - loss: 0.0566 - accuracy: 0.9826 - val_loss: 3.6917 - val_accuracy: 0.5245 - lr: 0.0010 - 10s/epoch - 270ms/step
Epoch 35/50
36/36 - 10s - loss: 0.0565 - accuracy: 0.9827 - val_loss: 3.7580 - val_accuracy: 0.5225 - lr: 0.0010 - 10s/epoch - 275ms/step
Epoch 36/50
36/36 - 10s - loss: 0.0587 - accuracy: 0.9818 - val_loss: 3.7928 - val_accuracy: 0.5180 - lr: 0.0010 - 10s/epoch - 282ms/step
Epoch 37/50
36/36 - 10s - loss: 0.0581 - accuracy: 0.9819 - val_loss: 3.7121 - val_accuracy: 0.5270 - lr: 0.0010 - 10s/epoch - 279ms/step
Epoch 38/50
36/36 - 10s - loss: 0.0602 - accuracy: 0.9816 - val_loss: 3.6822 - val_accuracy: 0.5303 - lr: 0.0010 - 10s/epoch - 277ms/step
Epoch 39/50
36/36 - 10s - loss: 0.0591 - accuracy: 0.9816 - val_loss: 3.6862 - val_accuracy: 0.5301 - lr: 0.0010 - 10s/epoch - 278ms/step
Epoch 40/50
36/36 - 10s - loss: 0.0592 - accuracy: 0.9825 - val_loss: 3.6925 - val_accuracy: 0.5305 - lr: 0.0010 - 10s/epoch - 276ms/step
Epoch 41/50
36/36 - 10s - loss: 0.0605 - accuracy: 0.9812 - val_loss: 3.7879 - val_accuracy: 0.5162 - lr: 0.0010 - 10s/epoch - 277ms/step
Epoch 42/50
36/36 - 10s - loss: 0.0615 - accuracy: 0.9804 - val_loss: 3.7374 - val_accuracy: 0.5226 - lr: 0.0010 - 10s/epoch - 275ms/step
Epoch 43/50
36/36 - 10s - loss: 0.0588 - accuracy: 0.9818 - val_loss: 3.7798 - val_accuracy: 0.5190 - lr: 0.0010 - 10s/epoch - 273ms/step
Epoch 44/50
36/36 - 10s - loss: 0.0585 - accuracy: 0.9824 - val_loss: 3.7201 - val_accuracy: 0.5270 - lr: 0.0010 - 10s/epoch - 274ms/step
Epoch 45/50
36/36 - 10s - loss: 0.0610 - accuracy: 0.9810 - val_loss: 3.7713 - val_accuracy: 0.5238 - lr: 0.0010 - 10s/epoch - 274ms/step
Epoch 46/50
36/36 - 10s - loss: 0.0587 - accuracy: 0.9820 - val_loss: 3.8139 - val_accuracy: 0.5184 - lr: 0.0010 - 10s/epoch - 269ms/step
Epoch 47/50
36/36 - 10s - loss: 0.0578 - accuracy: 0.9823 - val_loss: 3.8279 - val_accuracy: 0.5184 - lr: 0.0010 - 10s/epoch - 275ms/step
Epoch 48/50
36/36 - 10s - loss: 0.0573 - accuracy: 0.9820 - val_loss: 3.7783 - val_accuracy: 0.5228 - lr: 0.0010 - 10s/epoch - 266ms/step
Epoch 49/50
36/36 - 10s - loss: 0.0614 - accuracy: 0.9805 - val_loss: 3.8045 - val_accuracy: 0.5220 - lr: 0.0010 - 10s/epoch - 267ms/step
Epoch 50/50
36/36 - 10s - loss: 0.0576 - accuracy: 0.9820 - val_loss: 3.8449 - val_accuracy: 0.5155 - lr: 0.0010 - 10s/epoch - 265ms/step
Epoch 1/75
4378/4378 - 86s - loss: 0.2168 - accuracy: 0.9244 - val_loss: 2.0109 - val_accuracy: 0.5718 - lr: 0.0010 - 86s/epoch - 20ms/step
Epoch 2/75
4378/4378 - 84s - loss: 0.2220 - accuracy: 0.9199 - val_loss: 1.8873 - val_accuracy: 0.5729 - lr: 0.0010 - 84s/epoch - 19ms/step
Epoch 3/75
4378/4378 - 85s - loss: 0.2334 - accuracy: 0.9160 - val_loss: 2.1569 - val_accuracy: 0.4995 - lr: 0.0010 - 85s/epoch - 20ms/step
Epoch 4/75
4378/4378 - 83s - loss: 0.2314 - accuracy: 0.9165 - val_loss: 1.6836 - val_accuracy: 0.5927 - lr: 0.0010 - 83s/epoch - 19ms/step
Epoch 5/75
4378/4378 - 84s - loss: 0.2371 - accuracy: 0.9145 - val_loss: 1.7125 - val_accuracy: 0.5930 - lr: 0.0010 - 84s/epoch - 19ms/step
Epoch 6/75
4378/4378 - 84s - loss: 0.2262 - accuracy: 0.9183 - val_loss: 1.6815 - val_accuracy: 0.6054 - lr: 0.0010 - 84s/epoch - 19ms/step
Epoch 7/75
4378/4378 - 85s - loss: 0.2335 - accuracy: 0.9158 - val_loss: 1.9855 - val_accuracy: 0.5577 - lr: 0.0010 - 85s/epoch - 19ms/step
Epoch 8/75
4378/4378 - 85s - loss: 0.2338 - accuracy: 0.9142 - val_loss: 1.5732 - val_accuracy: 0.6099 - lr: 0.0010 - 85s/epoch - 19ms/step
Epoch 9/75
4378/4378 - 87s - loss: 0.2358 - accuracy: 0.9157 - val_loss: 1.7697 - val_accuracy: 0.5696 - lr: 0.0010 - 87s/epoch - 20ms/step
Epoch 10/75
4378/4378 - 85s - loss: 0.2423 - accuracy: 0.9123 - val_loss: 1.5692 - val_accuracy: 0.6146 - lr: 0.0010 - 85s/epoch - 19ms/step
Epoch 11/75
4378/4378 - 83s - loss: 0.2411 - accuracy: 0.9132 - val_loss: 1.5688 - val_accuracy: 0.6062 - lr: 0.0010 - 83s/epoch - 19ms/step
Epoch 12/75
4378/4378 - 84s - loss: 0.2357 - accuracy: 0.9151 - val_loss: 1.5762 - val_accuracy: 0.6062 - lr: 0.0010 - 84s/epoch - 19ms/step
Epoch 13/75
4378/4378 - 84s - loss: 0.2371 - accuracy: 0.9133 - val_loss: 1.6984 - val_accuracy: 0.5535 - lr: 0.0010 - 84s/epoch - 19ms/step
Epoch 14/75
4378/4378 - 84s - loss: 0.2316 - accuracy: 0.9166 - val_loss: 1.8087 - val_accuracy: 0.5420 - lr: 0.0010 - 84s/epoch - 19ms/step
Epoch 15/75
4378/4378 - 91s - loss: 0.2300 - accuracy: 0.9177 - val_loss: 1.6848 - val_accuracy: 0.5947 - lr: 0.0010 - 91s/epoch - 21ms/step
Epoch 16/75
4378/4378 - 109s - loss: 0.2344 - accuracy: 0.9143 - val_loss: 1.5087 - val_accuracy: 0.5954 - lr: 0.0010 - 109s/epoch - 25ms/step
Epoch 17/75
4378/4378 - 109s - loss: 0.2406 - accuracy: 0.9134 - val_loss: 1.5294 - val_accuracy: 0.6034 - lr: 0.0010 - 109s/epoch - 25ms/step
Epoch 18/75
4378/4378 - 120s - loss: 0.2356 - accuracy: 0.9140 - val_loss: 1.6624 - val_accuracy: 0.6033 - lr: 0.0010 - 120s/epoch - 27ms/step
Epoch 19/75
4378/4378 - 115s - loss: 0.2357 - accuracy: 0.9150 - val_loss: 1.7064 - val_accuracy: 0.5785 - lr: 0.0010 - 115s/epoch - 26ms/step
Epoch 20/75
4378/4378 - 114s - loss: 0.2432 - accuracy: 0.9120 - val_loss: 1.6752 - val_accuracy: 0.5568 - lr: 0.0010 - 114s/epoch - 26ms/step
Epoch 21/75
4378/4378 - 88s - loss: 0.2345 - accuracy: 0.9160 - val_loss: 1.6623 - val_accuracy: 0.5779 - lr: 0.0010 - 88s/epoch - 20ms/step
Epoch 22/75
4378/4378 - 77s - loss: 0.2385 - accuracy: 0.9137 - val_loss: 1.5179 - val_accuracy: 0.5981 - lr: 0.0010 - 77s/epoch - 18ms/step
Epoch 23/75
4378/4378 - 77s - loss: 0.2301 - accuracy: 0.9175 - val_loss: 1.6239 - val_accuracy: 0.6415 - lr: 0.0010 - 77s/epoch - 18ms/step
Epoch 24/75
4378/4378 - 79s - loss: 0.2346 - accuracy: 0.9159 - val_loss: 1.6363 - val_accuracy: 0.5953 - lr: 0.0010 - 79s/epoch - 18ms/step
Epoch 25/75
4378/4378 - 80s - loss: 0.2380 - accuracy: 0.9136 - val_loss: 1.6140 - val_accuracy: 0.6036 - lr: 0.0010 - 80s/epoch - 18ms/step
Epoch 26/75
4378/4378 - 77s - loss: 0.2336 - accuracy: 0.9154 - val_loss: 1.6473 - val_accuracy: 0.6080 - lr: 0.0010 - 77s/epoch - 18ms/step
Epoch 27/75
4378/4378 - 77s - loss: 0.2396 - accuracy: 0.9133 - val_loss: 1.7195 - val_accuracy: 0.6049 - lr: 0.0010 - 77s/epoch - 18ms/step
Epoch 28/75
4378/4378 - 79s - loss: 0.2378 - accuracy: 0.9146 - val_loss: 1.5484 - val_accuracy: 0.6219 - lr: 0.0010 - 79s/epoch - 18ms/step
Epoch 29/75
4378/4378 - 82s - loss: 0.2413 - accuracy: 0.9130 - val_loss: 1.6216 - val_accuracy: 0.5831 - lr: 0.0010 - 82s/epoch - 19ms/step
Epoch 30/75
4378/4378 - 77s - loss: 0.2370 - accuracy: 0.9140 - val_loss: 1.7174 - val_accuracy: 0.5892 - lr: 0.0010 - 77s/epoch - 18ms/step
Epoch 31/75
4378/4378 - 77s - loss: 0.2373 - accuracy: 0.9151 - val_loss: 1.4748 - val_accuracy: 0.6226 - lr: 0.0010 - 77s/epoch - 18ms/step
Epoch 32/75
4378/4378 - 77s - loss: 0.2431 - accuracy: 0.9114 - val_loss: 1.6186 - val_accuracy: 0.6103 - lr: 0.0010 - 77s/epoch - 18ms/step
Epoch 33/75
4378/4378 - 77s - loss: 0.2364 - accuracy: 0.9150 - val_loss: 1.4723 - val_accuracy: 0.6269 - lr: 0.0010 - 77s/epoch - 17ms/step
Epoch 34/75
4378/4378 - 77s - loss: 0.2422 - accuracy: 0.9127 - val_loss: 1.5886 - val_accuracy: 0.6116 - lr: 0.0010 - 77s/epoch - 17ms/step
Epoch 35/75
4378/4378 - 77s - loss: 0.2415 - accuracy: 0.9121 - val_loss: 1.6470 - val_accuracy: 0.5712 - lr: 0.0010 - 77s/epoch - 18ms/step
Epoch 36/75
4378/4378 - 77s - loss: 0.2396 - accuracy: 0.9133 - val_loss: 1.7641 - val_accuracy: 0.5888 - lr: 0.0010 - 77s/epoch - 18ms/step
Epoch 37/75
4378/4378 - 77s - loss: 0.2244 - accuracy: 0.9193 - val_loss: 1.7252 - val_accuracy: 0.5878 - lr: 0.0010 - 77s/epoch - 18ms/step
Epoch 38/75
4378/4378 - 77s - loss: 0.2355 - accuracy: 0.9155 - val_loss: 1.4500 - val_accuracy: 0.6240 - lr: 0.0010 - 77s/epoch - 18ms/step
Epoch 39/75
4378/4378 - 77s - loss: 0.2284 - accuracy: 0.9165 - val_loss: 1.6608 - val_accuracy: 0.5844 - lr: 0.0010 - 77s/epoch - 18ms/step
Epoch 40/75
4378/4378 - 77s - loss: 0.2391 - accuracy: 0.9139 - val_loss: 1.6488 - val_accuracy: 0.5826 - lr: 0.0010 - 77s/epoch - 18ms/step
Epoch 41/75
4378/4378 - 77s - loss: 0.2452 - accuracy: 0.9109 - val_loss: 1.5412 - val_accuracy: 0.6066 - lr: 0.0010 - 77s/epoch - 17ms/step
Epoch 42/75
4378/4378 - 78s - loss: 0.2467 - accuracy: 0.9104 - val_loss: 1.4372 - val_accuracy: 0.6395 - lr: 0.0010 - 78s/epoch - 18ms/step
Epoch 43/75
4378/4378 - 77s - loss: 0.2383 - accuracy: 0.9135 - val_loss: 1.4934 - val_accuracy: 0.6052 - lr: 0.0010 - 77s/epoch - 18ms/step
Epoch 44/75
4378/4378 - 77s - loss: 0.2424 - accuracy: 0.9122 - val_loss: 1.4709 - val_accuracy: 0.6163 - lr: 0.0010 - 77s/epoch - 17ms/step
Epoch 45/75
4378/4378 - 77s - loss: 0.2382 - accuracy: 0.9136 - val_loss: 1.4991 - val_accuracy: 0.6070 - lr: 0.0010 - 77s/epoch - 18ms/step
Epoch 46/75
4378/4378 - 78s - loss: 0.2418 - accuracy: 0.9111 - val_loss: 1.6521 - val_accuracy: 0.6077 - lr: 0.0010 - 78s/epoch - 18ms/step
Epoch 47/75
4378/4378 - 77s - loss: 0.2440 - accuracy: 0.9118 - val_loss: 1.4921 - val_accuracy: 0.6273 - lr: 0.0010 - 77s/epoch - 18ms/step
Epoch 48/75
4378/4378 - 77s - loss: 0.2353 - accuracy: 0.9145 - val_loss: 1.6379 - val_accuracy: 0.5933 - lr: 0.0010 - 77s/epoch - 17ms/step
Epoch 49/75
4378/4378 - 77s - loss: 0.2376 - accuracy: 0.9139 - val_loss: 1.5610 - val_accuracy: 0.5969 - lr: 0.0010 - 77s/epoch - 17ms/step
Epoch 50/75
4378/4378 - 77s - loss: 0.2364 - accuracy: 0.9144 - val_loss: 1.7196 - val_accuracy: 0.5741 - lr: 0.0010 - 77s/epoch - 18ms/step
Epoch 51/75
4378/4378 - 76s - loss: 0.2373 - accuracy: 0.9132 - val_loss: 1.4864 - val_accuracy: 0.6131 - lr: 0.0010 - 76s/epoch - 17ms/step
Epoch 52/75
4378/4378 - 78s - loss: 0.2337 - accuracy: 0.9161 - val_loss: 1.5386 - val_accuracy: 0.6129 - lr: 0.0010 - 78s/epoch - 18ms/step
Epoch 53/75
4378/4378 - 77s - loss: 0.2292 - accuracy: 0.9181 - val_loss: 1.5491 - val_accuracy: 0.6213 - lr: 0.0010 - 77s/epoch - 18ms/step
Epoch 54/75
4378/4378 - 77s - loss: 0.2455 - accuracy: 0.9116 - val_loss: 1.4371 - val_accuracy: 0.6214 - lr: 0.0010 - 77s/epoch - 18ms/step
Epoch 55/75
4378/4378 - 78s - loss: 0.2395 - accuracy: 0.9137 - val_loss: 1.6553 - val_accuracy: 0.5744 - lr: 0.0010 - 78s/epoch - 18ms/step
Epoch 56/75
4378/4378 - 77s - loss: 0.2379 - accuracy: 0.9144 - val_loss: 1.7465 - val_accuracy: 0.5740 - lr: 0.0010 - 77s/epoch - 18ms/step
Epoch 57/75
4378/4378 - 77s - loss: 0.2365 - accuracy: 0.9147 - val_loss: 1.7293 - val_accuracy: 0.5629 - lr: 0.0010 - 77s/epoch - 18ms/step
Epoch 58/75
4378/4378 - 77s - loss: 0.2343 - accuracy: 0.9149 - val_loss: 1.7179 - val_accuracy: 0.5733 - lr: 0.0010 - 77s/epoch - 18ms/step
Epoch 59/75
4378/4378 - 77s - loss: 0.2316 - accuracy: 0.9152 - val_loss: 1.6691 - val_accuracy: 0.6026 - lr: 0.0010 - 77s/epoch - 18ms/step
Epoch 60/75
4378/4378 - 77s - loss: 0.2368 - accuracy: 0.9144 - val_loss: 1.5618 - val_accuracy: 0.5894 - lr: 0.0010 - 77s/epoch - 18ms/step
Epoch 61/75
4378/4378 - 77s - loss: 0.2419 - accuracy: 0.9124 - val_loss: 1.5545 - val_accuracy: 0.6214 - lr: 0.0010 - 77s/epoch - 18ms/step
Epoch 62/75
4378/4378 - 77s - loss: 0.2391 - accuracy: 0.9127 - val_loss: 1.5031 - val_accuracy: 0.6389 - lr: 0.0010 - 77s/epoch - 18ms/step
Epoch 63/75
4378/4378 - 77s - loss: 0.2460 - accuracy: 0.9110 - val_loss: 1.5793 - val_accuracy: 0.5904 - lr: 0.0010 - 77s/epoch - 18ms/step
Epoch 64/75
4378/4378 - 77s - loss: 0.2388 - accuracy: 0.9142 - val_loss: 1.6168 - val_accuracy: 0.6037 - lr: 0.0010 - 77s/epoch - 18ms/step
Epoch 65/75
4378/4378 - 77s - loss: 0.2398 - accuracy: 0.9136 - val_loss: 1.5087 - val_accuracy: 0.6122 - lr: 0.0010 - 77s/epoch - 18ms/step
Epoch 66/75
4378/4378 - 77s - loss: 0.2438 - accuracy: 0.9113 - val_loss: 1.6191 - val_accuracy: 0.5864 - lr: 0.0010 - 77s/epoch - 18ms/step
Epoch 67/75
4378/4378 - 77s - loss: 0.2417 - accuracy: 0.9127 - val_loss: 1.6382 - val_accuracy: 0.5889 - lr: 0.0010 - 77s/epoch - 18ms/step
Epoch 68/75
4378/4378 - 77s - loss: 0.2253 - accuracy: 0.9185 - val_loss: 1.7835 - val_accuracy: 0.5819 - lr: 0.0010 - 77s/epoch - 17ms/step
Epoch 69/75
4378/4378 - 77s - loss: 0.2368 - accuracy: 0.9143 - val_loss: 1.6477 - val_accuracy: 0.5956 - lr: 0.0010 - 77s/epoch - 18ms/step
Epoch 70/75
4378/4378 - 77s - loss: 0.2388 - accuracy: 0.9128 - val_loss: 1.6544 - val_accuracy: 0.5852 - lr: 0.0010 - 77s/epoch - 18ms/step
Epoch 71/75
4378/4378 - 77s - loss: 0.2304 - accuracy: 0.9156 - val_loss: 1.7581 - val_accuracy: 0.5793 - lr: 0.0010 - 77s/epoch - 18ms/step
Epoch 72/75
4378/4378 - 77s - loss: 0.2425 - accuracy: 0.9126 - val_loss: 1.4689 - val_accuracy: 0.6305 - lr: 0.0010 - 77s/epoch - 18ms/step
Epoch 73/75
4378/4378 - 77s - loss: 0.2400 - accuracy: 0.9123 - val_loss: 1.9620 - val_accuracy: 0.5585 - lr: 0.0010 - 77s/epoch - 18ms/step
Epoch 74/75
4378/4378 - 77s - loss: 0.2373 - accuracy: 0.9135 - val_loss: 1.6302 - val_accuracy: 0.6012 - lr: 0.0010 - 77s/epoch - 18ms/step
Epoch 75/75
4378/4378 - 77s - loss: 0.2406 - accuracy: 0.9127 - val_loss: 1.4849 - val_accuracy: 0.6170 - lr: 0.0010 - 77s/epoch - 18ms/step
Epoch 1/75
876/876 - 20s - loss: 0.1646 - accuracy: 0.9422 - val_loss: 1.9729 - val_accuracy: 0.5788 - lr: 0.0010 - 20s/epoch - 23ms/step
Epoch 2/75
876/876 - 18s - loss: 0.1598 - accuracy: 0.9436 - val_loss: 2.0202 - val_accuracy: 0.5891 - lr: 0.0010 - 18s/epoch - 20ms/step
Epoch 3/75
876/876 - 17s - loss: 0.1648 - accuracy: 0.9417 - val_loss: 2.0289 - val_accuracy: 0.5800 - lr: 0.0010 - 17s/epoch - 20ms/step
Epoch 4/75
876/876 - 17s - loss: 0.1607 - accuracy: 0.9427 - val_loss: 2.0879 - val_accuracy: 0.5904 - lr: 0.0010 - 17s/epoch - 20ms/step
Epoch 5/75
876/876 - 17s - loss: 0.1587 - accuracy: 0.9437 - val_loss: 2.1532 - val_accuracy: 0.6007 - lr: 0.0010 - 17s/epoch - 20ms/step
Epoch 6/75
876/876 - 17s - loss: 0.1585 - accuracy: 0.9438 - val_loss: 1.9859 - val_accuracy: 0.6079 - lr: 0.0010 - 17s/epoch - 20ms/step
Epoch 7/75
876/876 - 17s - loss: 0.1538 - accuracy: 0.9455 - val_loss: 2.0364 - val_accuracy: 0.6040 - lr: 0.0010 - 17s/epoch - 20ms/step
Epoch 8/75
876/876 - 17s - loss: 0.1507 - accuracy: 0.9469 - val_loss: 2.1721 - val_accuracy: 0.5919 - lr: 0.0010 - 17s/epoch - 20ms/step
Epoch 9/75
876/876 - 17s - loss: 0.1510 - accuracy: 0.9477 - val_loss: 2.2580 - val_accuracy: 0.5685 - lr: 0.0010 - 17s/epoch - 20ms/step
Epoch 10/75
876/876 - 17s - loss: 0.1490 - accuracy: 0.9473 - val_loss: 2.3079 - val_accuracy: 0.5770 - lr: 0.0010 - 17s/epoch - 20ms/step
Epoch 11/75
876/876 - 17s - loss: 0.1448 - accuracy: 0.9491 - val_loss: 2.2672 - val_accuracy: 0.5756 - lr: 0.0010 - 17s/epoch - 20ms/step
Epoch 12/75
876/876 - 17s - loss: 0.1522 - accuracy: 0.9462 - val_loss: 2.3773 - val_accuracy: 0.5645 - lr: 0.0010 - 17s/epoch - 20ms/step
Epoch 13/75
876/876 - 17s - loss: 0.1495 - accuracy: 0.9474 - val_loss: 2.1270 - val_accuracy: 0.5977 - lr: 0.0010 - 17s/epoch - 20ms/step
Epoch 14/75
876/876 - 17s - loss: 0.1499 - accuracy: 0.9477 - val_loss: 2.2284 - val_accuracy: 0.5743 - lr: 0.0010 - 17s/epoch - 20ms/step
Epoch 15/75
876/876 - 17s - loss: 0.1473 - accuracy: 0.9482 - val_loss: 2.3203 - val_accuracy: 0.5716 - lr: 0.0010 - 17s/epoch - 20ms/step
Epoch 16/75
876/876 - 17s - loss: 0.1470 - accuracy: 0.9483 - val_loss: 2.4993 - val_accuracy: 0.5320 - lr: 0.0010 - 17s/epoch - 20ms/step
Epoch 17/75
876/876 - 17s - loss: 0.1432 - accuracy: 0.9498 - val_loss: 2.3707 - val_accuracy: 0.5812 - lr: 0.0010 - 17s/epoch - 20ms/step
Epoch 18/75
876/876 - 17s - loss: 0.1440 - accuracy: 0.9498 - val_loss: 2.1540 - val_accuracy: 0.6012 - lr: 0.0010 - 17s/epoch - 20ms/step
Epoch 19/75
876/876 - 17s - loss: 0.1463 - accuracy: 0.9494 - val_loss: 2.3457 - val_accuracy: 0.5624 - lr: 0.0010 - 17s/epoch - 20ms/step
Epoch 20/75
876/876 - 17s - loss: 0.1437 - accuracy: 0.9493 - val_loss: 2.2592 - val_accuracy: 0.5741 - lr: 0.0010 - 17s/epoch - 20ms/step
Epoch 21/75
876/876 - 17s - loss: 0.1468 - accuracy: 0.9481 - val_loss: 2.1578 - val_accuracy: 0.5804 - lr: 0.0010 - 17s/epoch - 20ms/step
Epoch 22/75
876/876 - 17s - loss: 0.1470 - accuracy: 0.9487 - val_loss: 2.2299 - val_accuracy: 0.5816 - lr: 0.0010 - 17s/epoch - 20ms/step
Epoch 23/75
876/876 - 17s - loss: 0.1422 - accuracy: 0.9494 - val_loss: 2.4306 - val_accuracy: 0.5806 - lr: 0.0010 - 17s/epoch - 20ms/step
Epoch 24/75
876/876 - 17s - loss: 0.1394 - accuracy: 0.9507 - val_loss: 2.4083 - val_accuracy: 0.5620 - lr: 0.0010 - 17s/epoch - 20ms/step
Epoch 25/75
876/876 - 17s - loss: 0.1418 - accuracy: 0.9504 - val_loss: 2.4220 - val_accuracy: 0.5600 - lr: 0.0010 - 17s/epoch - 20ms/step
Epoch 26/75
876/876 - 17s - loss: 0.1390 - accuracy: 0.9504 - val_loss: 2.4904 - val_accuracy: 0.5473 - lr: 0.0010 - 17s/epoch - 20ms/step
Epoch 27/75
876/876 - 17s - loss: 0.1447 - accuracy: 0.9489 - val_loss: 2.2447 - val_accuracy: 0.5840 - lr: 0.0010 - 17s/epoch - 20ms/step
Epoch 28/75
876/876 - 17s - loss: 0.1414 - accuracy: 0.9503 - val_loss: 2.2473 - val_accuracy: 0.5793 - lr: 0.0010 - 17s/epoch - 20ms/step
Epoch 29/75
876/876 - 17s - loss: 0.1330 - accuracy: 0.9534 - val_loss: 2.4697 - val_accuracy: 0.5652 - lr: 0.0010 - 17s/epoch - 20ms/step
Epoch 30/75
876/876 - 17s - loss: 0.1382 - accuracy: 0.9515 - val_loss: 2.4300 - val_accuracy: 0.5621 - lr: 0.0010 - 17s/epoch - 20ms/step
Epoch 31/75
876/876 - 17s - loss: 0.1355 - accuracy: 0.9519 - val_loss: 2.6994 - val_accuracy: 0.5249 - lr: 0.0010 - 17s/epoch - 20ms/step
Epoch 32/75
876/876 - 17s - loss: 0.1376 - accuracy: 0.9513 - val_loss: 2.4844 - val_accuracy: 0.5488 - lr: 0.0010 - 17s/epoch - 20ms/step
Epoch 33/75
876/876 - 17s - loss: 0.1420 - accuracy: 0.9495 - val_loss: 2.2647 - val_accuracy: 0.5883 - lr: 0.0010 - 17s/epoch - 20ms/step
Epoch 34/75
876/876 - 17s - loss: 0.1409 - accuracy: 0.9500 - val_loss: 2.4050 - val_accuracy: 0.5702 - lr: 0.0010 - 17s/epoch - 20ms/step
Epoch 35/75
876/876 - 17s - loss: 0.1457 - accuracy: 0.9489 - val_loss: 2.3815 - val_accuracy: 0.5655 - lr: 0.0010 - 17s/epoch - 20ms/step
Epoch 36/75
876/876 - 17s - loss: 0.1437 - accuracy: 0.9495 - val_loss: 2.3333 - val_accuracy: 0.5804 - lr: 0.0010 - 17s/epoch - 20ms/step
Epoch 37/75
876/876 - 17s - loss: 0.1408 - accuracy: 0.9509 - val_loss: 2.4292 - val_accuracy: 0.5569 - lr: 0.0010 - 17s/epoch - 20ms/step
Epoch 38/75
876/876 - 17s - loss: 0.1390 - accuracy: 0.9510 - val_loss: 2.3168 - val_accuracy: 0.5715 - lr: 0.0010 - 17s/epoch - 20ms/step
Epoch 39/75
876/876 - 17s - loss: 0.1413 - accuracy: 0.9506 - val_loss: 2.2609 - val_accuracy: 0.5734 - lr: 0.0010 - 17s/epoch - 20ms/step
Epoch 40/75
876/876 - 17s - loss: 0.1395 - accuracy: 0.9503 - val_loss: 2.2102 - val_accuracy: 0.5949 - lr: 0.0010 - 17s/epoch - 20ms/step
Epoch 41/75
876/876 - 17s - loss: 0.1375 - accuracy: 0.9514 - val_loss: 2.4774 - val_accuracy: 0.5649 - lr: 0.0010 - 17s/epoch - 20ms/step
Epoch 42/75
876/876 - 17s - loss: 0.1296 - accuracy: 0.9545 - val_loss: 2.4497 - val_accuracy: 0.5809 - lr: 0.0010 - 17s/epoch - 20ms/step
Epoch 43/75
876/876 - 17s - loss: 0.1371 - accuracy: 0.9522 - val_loss: 2.5525 - val_accuracy: 0.5515 - lr: 0.0010 - 17s/epoch - 20ms/step
Epoch 44/75
876/876 - 17s - loss: 0.1312 - accuracy: 0.9540 - val_loss: 2.4653 - val_accuracy: 0.5588 - lr: 0.0010 - 17s/epoch - 20ms/step
Epoch 45/75
876/876 - 17s - loss: 0.1363 - accuracy: 0.9528 - val_loss: 2.5763 - val_accuracy: 0.5558 - lr: 0.0010 - 17s/epoch - 20ms/step
Epoch 46/75
876/876 - 17s - loss: 0.1362 - accuracy: 0.9520 - val_loss: 2.5847 - val_accuracy: 0.5564 - lr: 0.0010 - 17s/epoch - 20ms/step
Epoch 47/75
876/876 - 17s - loss: 0.1420 - accuracy: 0.9497 - val_loss: 2.3418 - val_accuracy: 0.5797 - lr: 0.0010 - 17s/epoch - 20ms/step
Epoch 48/75
876/876 - 17s - loss: 0.1370 - accuracy: 0.9519 - val_loss: 2.5215 - val_accuracy: 0.5698 - lr: 0.0010 - 17s/epoch - 20ms/step
Epoch 49/75
876/876 - 17s - loss: 0.1342 - accuracy: 0.9522 - val_loss: 2.3284 - val_accuracy: 0.5811 - lr: 0.0010 - 17s/epoch - 20ms/step
Epoch 50/75
876/876 - 17s - loss: 0.1327 - accuracy: 0.9544 - val_loss: 2.2600 - val_accuracy: 0.5923 - lr: 0.0010 - 17s/epoch - 20ms/step
Epoch 51/75
876/876 - 17s - loss: 0.1405 - accuracy: 0.9499 - val_loss: 2.3058 - val_accuracy: 0.5761 - lr: 0.0010 - 17s/epoch - 20ms/step
Epoch 52/75
876/876 - 17s - loss: 0.1372 - accuracy: 0.9509 - val_loss: 2.3306 - val_accuracy: 0.5770 - lr: 0.0010 - 17s/epoch - 20ms/step
Epoch 53/75
876/876 - 17s - loss: 0.1370 - accuracy: 0.9511 - val_loss: 2.3784 - val_accuracy: 0.5860 - lr: 0.0010 - 17s/epoch - 20ms/step
Epoch 54/75
876/876 - 18s - loss: 0.1326 - accuracy: 0.9530 - val_loss: 2.4501 - val_accuracy: 0.5714 - lr: 0.0010 - 18s/epoch - 20ms/step
Epoch 55/75
876/876 - 18s - loss: 0.1372 - accuracy: 0.9521 - val_loss: 2.1749 - val_accuracy: 0.6069 - lr: 0.0010 - 18s/epoch - 20ms/step
Epoch 56/75
876/876 - 18s - loss: 0.1354 - accuracy: 0.9527 - val_loss: 2.3174 - val_accuracy: 0.5835 - lr: 0.0010 - 18s/epoch - 20ms/step
Epoch 57/75
876/876 - 17s - loss: 0.1385 - accuracy: 0.9513 - val_loss: 2.1669 - val_accuracy: 0.6204 - lr: 0.0010 - 17s/epoch - 20ms/step
Epoch 58/75
876/876 - 17s - loss: 0.1397 - accuracy: 0.9511 - val_loss: 2.2154 - val_accuracy: 0.5909 - lr: 0.0010 - 17s/epoch - 20ms/step
Epoch 59/75
876/876 - 17s - loss: 0.1294 - accuracy: 0.9535 - val_loss: 2.4284 - val_accuracy: 0.5530 - lr: 0.0010 - 17s/epoch - 20ms/step
Epoch 60/75
876/876 - 17s - loss: 0.1334 - accuracy: 0.9525 - val_loss: 2.2250 - val_accuracy: 0.5966 - lr: 0.0010 - 17s/epoch - 20ms/step
Epoch 61/75
876/876 - 17s - loss: 0.1399 - accuracy: 0.9503 - val_loss: 2.4652 - val_accuracy: 0.5621 - lr: 0.0010 - 17s/epoch - 20ms/step
Epoch 62/75
876/876 - 17s - loss: 0.1300 - accuracy: 0.9543 - val_loss: 2.3291 - val_accuracy: 0.5825 - lr: 0.0010 - 17s/epoch - 20ms/step
Epoch 63/75
876/876 - 17s - loss: 0.1363 - accuracy: 0.9521 - val_loss: 2.2903 - val_accuracy: 0.5787 - lr: 0.0010 - 17s/epoch - 20ms/step
Epoch 64/75
876/876 - 17s - loss: 0.1362 - accuracy: 0.9523 - val_loss: 2.4390 - val_accuracy: 0.5796 - lr: 0.0010 - 17s/epoch - 20ms/step
Epoch 65/75
876/876 - 17s - loss: 0.1350 - accuracy: 0.9519 - val_loss: 2.0814 - val_accuracy: 0.6247 - lr: 0.0010 - 17s/epoch - 20ms/step
Epoch 66/75
876/876 - 17s - loss: 0.1368 - accuracy: 0.9517 - val_loss: 2.3602 - val_accuracy: 0.5752 - lr: 0.0010 - 17s/epoch - 20ms/step
Epoch 67/75
876/876 - 17s - loss: 0.1389 - accuracy: 0.9507 - val_loss: 2.3545 - val_accuracy: 0.5769 - lr: 0.0010 - 17s/epoch - 20ms/step
Epoch 68/75
876/876 - 17s - loss: 0.1368 - accuracy: 0.9519 - val_loss: 2.3209 - val_accuracy: 0.5824 - lr: 0.0010 - 17s/epoch - 20ms/step
Epoch 69/75
876/876 - 17s - loss: 0.1374 - accuracy: 0.9516 - val_loss: 2.5375 - val_accuracy: 0.5560 - lr: 0.0010 - 17s/epoch - 20ms/step
Epoch 70/75
876/876 - 17s - loss: 0.1347 - accuracy: 0.9526 - val_loss: 2.7078 - val_accuracy: 0.5338 - lr: 0.0010 - 17s/epoch - 20ms/step
Epoch 71/75
876/876 - 17s - loss: 0.1391 - accuracy: 0.9507 - val_loss: 2.2738 - val_accuracy: 0.5815 - lr: 0.0010 - 17s/epoch - 20ms/step
Epoch 72/75
876/876 - 17s - loss: 0.1367 - accuracy: 0.9510 - val_loss: 2.3814 - val_accuracy: 0.5690 - lr: 0.0010 - 17s/epoch - 20ms/step
Epoch 73/75
876/876 - 17s - loss: 0.1319 - accuracy: 0.9535 - val_loss: 2.5683 - val_accuracy: 0.5344 - lr: 0.0010 - 17s/epoch - 20ms/step
Epoch 74/75
876/876 - 17s - loss: 0.1356 - accuracy: 0.9526 - val_loss: 2.5125 - val_accuracy: 0.5452 - lr: 0.0010 - 17s/epoch - 20ms/step
Epoch 75/75
876/876 - 17s - loss: 0.1274 - accuracy: 0.9549 - val_loss: 2.4074 - val_accuracy: 0.5915 - lr: 0.0010 - 17s/epoch - 20ms/step
Epoch 1/75
176/176 - 11s - loss: 0.0962 - accuracy: 0.9674 - val_loss: 2.4700 - val_accuracy: 0.5886 - lr: 0.0010 - 11s/epoch - 61ms/step
Epoch 2/75
176/176 - 9s - loss: 0.0837 - accuracy: 0.9729 - val_loss: 2.6212 - val_accuracy: 0.5848 - lr: 0.0010 - 9s/epoch - 48ms/step
Epoch 3/75
176/176 - 9s - loss: 0.0830 - accuracy: 0.9725 - val_loss: 2.7743 - val_accuracy: 0.5711 - lr: 0.0010 - 9s/epoch - 48ms/step
Epoch 4/75
176/176 - 9s - loss: 0.0798 - accuracy: 0.9745 - val_loss: 2.8321 - val_accuracy: 0.5686 - lr: 0.0010 - 9s/epoch - 48ms/step
Epoch 5/75
176/176 - 9s - loss: 0.0827 - accuracy: 0.9725 - val_loss: 2.8283 - val_accuracy: 0.5766 - lr: 0.0010 - 9s/epoch - 48ms/step
Epoch 6/75
176/176 - 9s - loss: 0.0859 - accuracy: 0.9713 - val_loss: 2.8563 - val_accuracy: 0.5758 - lr: 0.0010 - 9s/epoch - 49ms/step
Epoch 7/75
176/176 - 9s - loss: 0.0886 - accuracy: 0.9701 - val_loss: 2.8928 - val_accuracy: 0.5714 - lr: 0.0010 - 9s/epoch - 49ms/step
Epoch 8/75
176/176 - 8s - loss: 0.0903 - accuracy: 0.9694 - val_loss: 2.7278 - val_accuracy: 0.5814 - lr: 0.0010 - 8s/epoch - 48ms/step
Epoch 9/75
176/176 - 9s - loss: 0.0900 - accuracy: 0.9693 - val_loss: 2.9358 - val_accuracy: 0.5675 - lr: 0.0010 - 9s/epoch - 48ms/step
Epoch 10/75
176/176 - 9s - loss: 0.0873 - accuracy: 0.9709 - val_loss: 2.9082 - val_accuracy: 0.5656 - lr: 0.0010 - 9s/epoch - 48ms/step
Epoch 11/75
176/176 - 9s - loss: 0.0843 - accuracy: 0.9722 - val_loss: 3.1046 - val_accuracy: 0.5505 - lr: 0.0010 - 9s/epoch - 48ms/step
Epoch 12/75
176/176 - 9s - loss: 0.0800 - accuracy: 0.9738 - val_loss: 2.9261 - val_accuracy: 0.5815 - lr: 0.0010 - 9s/epoch - 48ms/step
Epoch 13/75
176/176 - 9s - loss: 0.0831 - accuracy: 0.9719 - val_loss: 3.0690 - val_accuracy: 0.5612 - lr: 0.0010 - 9s/epoch - 48ms/step
Epoch 14/75
176/176 - 9s - loss: 0.0852 - accuracy: 0.9715 - val_loss: 2.9578 - val_accuracy: 0.5858 - lr: 0.0010 - 9s/epoch - 48ms/step
Epoch 15/75
176/176 - 9s - loss: 0.0873 - accuracy: 0.9710 - val_loss: 3.0047 - val_accuracy: 0.5745 - lr: 0.0010 - 9s/epoch - 48ms/step
Epoch 16/75
176/176 - 9s - loss: 0.0827 - accuracy: 0.9723 - val_loss: 3.0686 - val_accuracy: 0.5618 - lr: 0.0010 - 9s/epoch - 48ms/step
Epoch 17/75
176/176 - 9s - loss: 0.0861 - accuracy: 0.9711 - val_loss: 2.9463 - val_accuracy: 0.5733 - lr: 0.0010 - 9s/epoch - 48ms/step
Epoch 18/75
176/176 - 9s - loss: 0.0820 - accuracy: 0.9730 - val_loss: 2.9786 - val_accuracy: 0.5777 - lr: 0.0010 - 9s/epoch - 49ms/step
Epoch 19/75
176/176 - 8s - loss: 0.0836 - accuracy: 0.9719 - val_loss: 3.0046 - val_accuracy: 0.5759 - lr: 0.0010 - 8s/epoch - 48ms/step
Epoch 20/75
176/176 - 9s - loss: 0.0861 - accuracy: 0.9708 - val_loss: 3.1354 - val_accuracy: 0.5559 - lr: 0.0010 - 9s/epoch - 48ms/step
Epoch 21/75
176/176 - 8s - loss: 0.0872 - accuracy: 0.9707 - val_loss: 3.1503 - val_accuracy: 0.5571 - lr: 0.0010 - 8s/epoch - 48ms/step
Epoch 22/75
176/176 - 9s - loss: 0.0861 - accuracy: 0.9713 - val_loss: 3.1011 - val_accuracy: 0.5555 - lr: 0.0010 - 9s/epoch - 48ms/step
Epoch 23/75
176/176 - 8s - loss: 0.0839 - accuracy: 0.9721 - val_loss: 3.0955 - val_accuracy: 0.5619 - lr: 0.0010 - 8s/epoch - 48ms/step
Epoch 24/75
176/176 - 9s - loss: 0.0839 - accuracy: 0.9714 - val_loss: 3.0428 - val_accuracy: 0.5794 - lr: 0.0010 - 9s/epoch - 49ms/step
Epoch 25/75
176/176 - 9s - loss: 0.0835 - accuracy: 0.9720 - val_loss: 3.2564 - val_accuracy: 0.5424 - lr: 0.0010 - 9s/epoch - 48ms/step
Epoch 26/75
176/176 - 9s - loss: 0.0834 - accuracy: 0.9720 - val_loss: 3.2637 - val_accuracy: 0.5432 - lr: 0.0010 - 9s/epoch - 48ms/step
Epoch 27/75
176/176 - 9s - loss: 0.0779 - accuracy: 0.9737 - val_loss: 3.2322 - val_accuracy: 0.5558 - lr: 0.0010 - 9s/epoch - 48ms/step
Epoch 28/75
176/176 - 9s - loss: 0.0722 - accuracy: 0.9759 - val_loss: 3.3679 - val_accuracy: 0.5492 - lr: 0.0010 - 9s/epoch - 49ms/step
Epoch 29/75
176/176 - 9s - loss: 0.0719 - accuracy: 0.9763 - val_loss: 3.3722 - val_accuracy: 0.5485 - lr: 0.0010 - 9s/epoch - 48ms/step
Epoch 30/75
176/176 - 9s - loss: 0.0738 - accuracy: 0.9759 - val_loss: 3.3433 - val_accuracy: 0.5454 - lr: 0.0010 - 9s/epoch - 49ms/step
Epoch 31/75
176/176 - 9s - loss: 0.0730 - accuracy: 0.9763 - val_loss: 3.5376 - val_accuracy: 0.5350 - lr: 0.0010 - 9s/epoch - 48ms/step
Epoch 32/75
176/176 - 9s - loss: 0.0774 - accuracy: 0.9743 - val_loss: 3.2403 - val_accuracy: 0.5675 - lr: 0.0010 - 9s/epoch - 49ms/step
Epoch 33/75
176/176 - 9s - loss: 0.0767 - accuracy: 0.9746 - val_loss: 3.2586 - val_accuracy: 0.5631 - lr: 0.0010 - 9s/epoch - 49ms/step
Epoch 34/75
176/176 - 9s - loss: 0.0769 - accuracy: 0.9748 - val_loss: 3.2921 - val_accuracy: 0.5586 - lr: 0.0010 - 9s/epoch - 49ms/step
Epoch 35/75
176/176 - 9s - loss: 0.0786 - accuracy: 0.9736 - val_loss: 3.1006 - val_accuracy: 0.5782 - lr: 0.0010 - 9s/epoch - 48ms/step
Epoch 36/75
176/176 - 9s - loss: 0.0809 - accuracy: 0.9731 - val_loss: 3.2809 - val_accuracy: 0.5436 - lr: 0.0010 - 9s/epoch - 48ms/step
Epoch 37/75
176/176 - 9s - loss: 0.0805 - accuracy: 0.9735 - val_loss: 3.1278 - val_accuracy: 0.5753 - lr: 0.0010 - 9s/epoch - 48ms/step
Epoch 38/75
176/176 - 9s - loss: 0.0823 - accuracy: 0.9721 - val_loss: 3.2423 - val_accuracy: 0.5572 - lr: 0.0010 - 9s/epoch - 49ms/step
Epoch 39/75
176/176 - 9s - loss: 0.0833 - accuracy: 0.9715 - val_loss: 3.0937 - val_accuracy: 0.5753 - lr: 0.0010 - 9s/epoch - 48ms/step
Epoch 40/75
176/176 - 9s - loss: 0.0817 - accuracy: 0.9726 - val_loss: 3.3191 - val_accuracy: 0.5544 - lr: 0.0010 - 9s/epoch - 49ms/step
Epoch 41/75
176/176 - 9s - loss: 0.0811 - accuracy: 0.9730 - val_loss: 3.1005 - val_accuracy: 0.5758 - lr: 0.0010 - 9s/epoch - 48ms/step
Epoch 42/75
176/176 - 9s - loss: 0.0826 - accuracy: 0.9724 - val_loss: 3.1844 - val_accuracy: 0.5672 - lr: 0.0010 - 9s/epoch - 48ms/step
Epoch 43/75
176/176 - 9s - loss: 0.0815 - accuracy: 0.9728 - val_loss: 3.4252 - val_accuracy: 0.5450 - lr: 0.0010 - 9s/epoch - 48ms/step
Epoch 44/75
176/176 - 9s - loss: 0.0845 - accuracy: 0.9721 - val_loss: 3.0607 - val_accuracy: 0.5653 - lr: 0.0010 - 9s/epoch - 48ms/step
Epoch 45/75
176/176 - 9s - loss: 0.0831 - accuracy: 0.9721 - val_loss: 3.1435 - val_accuracy: 0.5668 - lr: 0.0010 - 9s/epoch - 49ms/step
Epoch 46/75
176/176 - 9s - loss: 0.0860 - accuracy: 0.9704 - val_loss: 3.2425 - val_accuracy: 0.5403 - lr: 0.0010 - 9s/epoch - 49ms/step
Epoch 47/75
176/176 - 9s - loss: 0.0772 - accuracy: 0.9751 - val_loss: 3.4333 - val_accuracy: 0.5368 - lr: 0.0010 - 9s/epoch - 49ms/step
Epoch 48/75
176/176 - 9s - loss: 0.0771 - accuracy: 0.9744 - val_loss: 3.2328 - val_accuracy: 0.5542 - lr: 0.0010 - 9s/epoch - 48ms/step
Epoch 49/75
176/176 - 9s - loss: 0.0771 - accuracy: 0.9748 - val_loss: 3.1767 - val_accuracy: 0.5742 - lr: 0.0010 - 9s/epoch - 49ms/step
Epoch 50/75
176/176 - 9s - loss: 0.0786 - accuracy: 0.9740 - val_loss: 3.2781 - val_accuracy: 0.5563 - lr: 0.0010 - 9s/epoch - 48ms/step
Epoch 51/75
176/176 - 9s - loss: 0.0810 - accuracy: 0.9729 - val_loss: 3.2689 - val_accuracy: 0.5467 - lr: 0.0010 - 9s/epoch - 48ms/step
Epoch 52/75
176/176 - 9s - loss: 0.0823 - accuracy: 0.9731 - val_loss: 3.2734 - val_accuracy: 0.5521 - lr: 0.0010 - 9s/epoch - 49ms/step
Epoch 53/75
176/176 - 9s - loss: 0.0776 - accuracy: 0.9742 - val_loss: 3.1260 - val_accuracy: 0.5626 - lr: 0.0010 - 9s/epoch - 49ms/step
Epoch 54/75
176/176 - 9s - loss: 0.0807 - accuracy: 0.9729 - val_loss: 3.1227 - val_accuracy: 0.5639 - lr: 0.0010 - 9s/epoch - 49ms/step
Epoch 55/75
176/176 - 9s - loss: 0.0830 - accuracy: 0.9723 - val_loss: 3.2244 - val_accuracy: 0.5597 - lr: 0.0010 - 9s/epoch - 49ms/step
Epoch 56/75
176/176 - 9s - loss: 0.0828 - accuracy: 0.9722 - val_loss: 3.2961 - val_accuracy: 0.5518 - lr: 0.0010 - 9s/epoch - 48ms/step
Epoch 57/75
176/176 - 9s - loss: 0.0760 - accuracy: 0.9742 - val_loss: 3.2664 - val_accuracy: 0.5612 - lr: 0.0010 - 9s/epoch - 49ms/step
Epoch 58/75
176/176 - 9s - loss: 0.0796 - accuracy: 0.9734 - val_loss: 3.2894 - val_accuracy: 0.5492 - lr: 0.0010 - 9s/epoch - 48ms/step
Epoch 59/75
176/176 - 9s - loss: 0.0794 - accuracy: 0.9734 - val_loss: 3.1387 - val_accuracy: 0.5772 - lr: 0.0010 - 9s/epoch - 48ms/step
Epoch 60/75
176/176 - 9s - loss: 0.0801 - accuracy: 0.9736 - val_loss: 3.3958 - val_accuracy: 0.5516 - lr: 0.0010 - 9s/epoch - 48ms/step
Epoch 61/75
176/176 - 9s - loss: 0.0811 - accuracy: 0.9727 - val_loss: 3.3248 - val_accuracy: 0.5522 - lr: 0.0010 - 9s/epoch - 49ms/step
Epoch 62/75
176/176 - 9s - loss: 0.0822 - accuracy: 0.9724 - val_loss: 3.2170 - val_accuracy: 0.5659 - lr: 0.0010 - 9s/epoch - 48ms/step
Epoch 63/75
176/176 - 8s - loss: 0.0820 - accuracy: 0.9726 - val_loss: 3.2318 - val_accuracy: 0.5639 - lr: 0.0010 - 8s/epoch - 48ms/step
Epoch 64/75
176/176 - 9s - loss: 0.0770 - accuracy: 0.9749 - val_loss: 3.2060 - val_accuracy: 0.5713 - lr: 0.0010 - 9s/epoch - 48ms/step
Epoch 65/75
176/176 - 9s - loss: 0.0820 - accuracy: 0.9727 - val_loss: 3.2721 - val_accuracy: 0.5529 - lr: 0.0010 - 9s/epoch - 48ms/step
Epoch 66/75
176/176 - 8s - loss: 0.0785 - accuracy: 0.9738 - val_loss: 3.4061 - val_accuracy: 0.5473 - lr: 0.0010 - 8s/epoch - 48ms/step
Epoch 67/75
176/176 - 9s - loss: 0.0779 - accuracy: 0.9744 - val_loss: 3.2335 - val_accuracy: 0.5643 - lr: 0.0010 - 9s/epoch - 48ms/step
Epoch 68/75
176/176 - 9s - loss: 0.0773 - accuracy: 0.9746 - val_loss: 3.3216 - val_accuracy: 0.5593 - lr: 0.0010 - 9s/epoch - 48ms/step
Epoch 69/75
176/176 - 9s - loss: 0.0782 - accuracy: 0.9737 - val_loss: 3.4017 - val_accuracy: 0.5446 - lr: 0.0010 - 9s/epoch - 48ms/step
Epoch 70/75
176/176 - 9s - loss: 0.0756 - accuracy: 0.9745 - val_loss: 3.4859 - val_accuracy: 0.5396 - lr: 0.0010 - 9s/epoch - 48ms/step
Epoch 71/75
176/176 - 8s - loss: 0.0808 - accuracy: 0.9731 - val_loss: 3.1657 - val_accuracy: 0.5797 - lr: 0.0010 - 8s/epoch - 48ms/step
Epoch 72/75
176/176 - 8s - loss: 0.0824 - accuracy: 0.9724 - val_loss: 3.2603 - val_accuracy: 0.5571 - lr: 0.0010 - 8s/epoch - 48ms/step
Epoch 73/75
176/176 - 8s - loss: 0.0800 - accuracy: 0.9734 - val_loss: 3.1763 - val_accuracy: 0.5620 - lr: 0.0010 - 8s/epoch - 48ms/step
Epoch 74/75
176/176 - 9s - loss: 0.0766 - accuracy: 0.9742 - val_loss: 3.3123 - val_accuracy: 0.5597 - lr: 0.0010 - 9s/epoch - 48ms/step
Epoch 75/75
176/176 - 9s - loss: 0.0795 - accuracy: 0.9735 - val_loss: 3.2974 - val_accuracy: 0.5650 - lr: 0.0010 - 9s/epoch - 48ms/step
Epoch 1/75
36/36 - 9s - loss: 0.0695 - accuracy: 0.9767 - val_loss: 3.2565 - val_accuracy: 0.5752 - lr: 0.0010 - 9s/epoch - 263ms/step
Epoch 2/75
36/36 - 7s - loss: 0.0621 - accuracy: 0.9806 - val_loss: 3.2533 - val_accuracy: 0.5726 - lr: 0.0010 - 7s/epoch - 203ms/step
Epoch 3/75
36/36 - 7s - loss: 0.0568 - accuracy: 0.9816 - val_loss: 3.3161 - val_accuracy: 0.5687 - lr: 0.0010 - 7s/epoch - 203ms/step
Epoch 4/75
36/36 - 7s - loss: 0.0555 - accuracy: 0.9824 - val_loss: 3.3469 - val_accuracy: 0.5657 - lr: 0.0010 - 7s/epoch - 203ms/step
Epoch 5/75
36/36 - 7s - loss: 0.0561 - accuracy: 0.9822 - val_loss: 3.4274 - val_accuracy: 0.5575 - lr: 0.0010 - 7s/epoch - 203ms/step
Epoch 6/75
36/36 - 7s - loss: 0.0590 - accuracy: 0.9815 - val_loss: 3.3797 - val_accuracy: 0.5665 - lr: 0.0010 - 7s/epoch - 203ms/step
Epoch 7/75
36/36 - 7s - loss: 0.0574 - accuracy: 0.9829 - val_loss: 3.4208 - val_accuracy: 0.5580 - lr: 0.0010 - 7s/epoch - 203ms/step
Epoch 8/75
36/36 - 7s - loss: 0.0578 - accuracy: 0.9817 - val_loss: 3.3364 - val_accuracy: 0.5704 - lr: 0.0010 - 7s/epoch - 203ms/step
Epoch 9/75
36/36 - 7s - loss: 0.0556 - accuracy: 0.9824 - val_loss: 3.4208 - val_accuracy: 0.5645 - lr: 0.0010 - 7s/epoch - 203ms/step
Epoch 10/75
36/36 - 7s - loss: 0.0597 - accuracy: 0.9812 - val_loss: 3.4262 - val_accuracy: 0.5583 - lr: 0.0010 - 7s/epoch - 203ms/step
Epoch 11/75
36/36 - 7s - loss: 0.0600 - accuracy: 0.9809 - val_loss: 3.4569 - val_accuracy: 0.5562 - lr: 0.0010 - 7s/epoch - 203ms/step
Epoch 12/75
36/36 - 7s - loss: 0.0567 - accuracy: 0.9822 - val_loss: 3.4085 - val_accuracy: 0.5661 - lr: 0.0010 - 7s/epoch - 203ms/step
Epoch 13/75
36/36 - 7s - loss: 0.0546 - accuracy: 0.9834 - val_loss: 3.4175 - val_accuracy: 0.5647 - lr: 0.0010 - 7s/epoch - 204ms/step
Epoch 14/75
36/36 - 7s - loss: 0.0567 - accuracy: 0.9820 - val_loss: 3.4353 - val_accuracy: 0.5611 - lr: 0.0010 - 7s/epoch - 203ms/step
Epoch 15/75
36/36 - 7s - loss: 0.0547 - accuracy: 0.9830 - val_loss: 3.4700 - val_accuracy: 0.5609 - lr: 0.0010 - 7s/epoch - 204ms/step
Epoch 16/75
36/36 - 7s - loss: 0.0531 - accuracy: 0.9836 - val_loss: 3.4687 - val_accuracy: 0.5624 - lr: 0.0010 - 7s/epoch - 204ms/step
Epoch 17/75
36/36 - 7s - loss: 0.0542 - accuracy: 0.9829 - val_loss: 3.4779 - val_accuracy: 0.5630 - lr: 0.0010 - 7s/epoch - 204ms/step
Epoch 18/75
36/36 - 7s - loss: 0.0534 - accuracy: 0.9830 - val_loss: 3.5073 - val_accuracy: 0.5600 - lr: 0.0010 - 7s/epoch - 203ms/step
Epoch 19/75
36/36 - 7s - loss: 0.0546 - accuracy: 0.9831 - val_loss: 3.5359 - val_accuracy: 0.5562 - lr: 0.0010 - 7s/epoch - 204ms/step
Epoch 20/75
36/36 - 7s - loss: 0.0536 - accuracy: 0.9829 - val_loss: 3.4914 - val_accuracy: 0.5630 - lr: 0.0010 - 7s/epoch - 204ms/step
Epoch 21/75
36/36 - 7s - loss: 0.0516 - accuracy: 0.9840 - val_loss: 3.5180 - val_accuracy: 0.5591 - lr: 0.0010 - 7s/epoch - 204ms/step
Epoch 22/75
36/36 - 7s - loss: 0.0528 - accuracy: 0.9833 - val_loss: 3.5457 - val_accuracy: 0.5579 - lr: 0.0010 - 7s/epoch - 204ms/step
Epoch 23/75
36/36 - 7s - loss: 0.0525 - accuracy: 0.9836 - val_loss: 3.6545 - val_accuracy: 0.5481 - lr: 0.0010 - 7s/epoch - 204ms/step
Epoch 24/75
36/36 - 7s - loss: 0.0525 - accuracy: 0.9838 - val_loss: 3.5498 - val_accuracy: 0.5600 - lr: 0.0010 - 7s/epoch - 204ms/step
Epoch 25/75
36/36 - 7s - loss: 0.0540 - accuracy: 0.9831 - val_loss: 3.5269 - val_accuracy: 0.5634 - lr: 0.0010 - 7s/epoch - 204ms/step
Epoch 26/75
36/36 - 7s - loss: 0.0531 - accuracy: 0.9837 - val_loss: 3.6417 - val_accuracy: 0.5529 - lr: 0.0010 - 7s/epoch - 204ms/step
Epoch 27/75
36/36 - 7s - loss: 0.0553 - accuracy: 0.9826 - val_loss: 3.5590 - val_accuracy: 0.5654 - lr: 0.0010 - 7s/epoch - 204ms/step
Epoch 28/75
36/36 - 7s - loss: 0.0570 - accuracy: 0.9816 - val_loss: 3.6258 - val_accuracy: 0.5577 - lr: 0.0010 - 7s/epoch - 203ms/step
Epoch 29/75
36/36 - 7s - loss: 0.0566 - accuracy: 0.9824 - val_loss: 3.5722 - val_accuracy: 0.5601 - lr: 0.0010 - 7s/epoch - 204ms/step
Epoch 30/75
36/36 - 7s - loss: 0.0516 - accuracy: 0.9841 - val_loss: 3.6365 - val_accuracy: 0.5573 - lr: 0.0010 - 7s/epoch - 204ms/step
Epoch 31/75
36/36 - 7s - loss: 0.0551 - accuracy: 0.9821 - val_loss: 3.6391 - val_accuracy: 0.5581 - lr: 0.0010 - 7s/epoch - 204ms/step
Epoch 32/75
36/36 - 7s - loss: 0.0526 - accuracy: 0.9834 - val_loss: 3.6670 - val_accuracy: 0.5589 - lr: 0.0010 - 7s/epoch - 204ms/step
Epoch 33/75
36/36 - 7s - loss: 0.0528 - accuracy: 0.9834 - val_loss: 3.6351 - val_accuracy: 0.5612 - lr: 0.0010 - 7s/epoch - 204ms/step
Epoch 34/75
36/36 - 7s - loss: 0.0537 - accuracy: 0.9833 - val_loss: 3.6246 - val_accuracy: 0.5587 - lr: 0.0010 - 7s/epoch - 204ms/step
Epoch 35/75
36/36 - 7s - loss: 0.0546 - accuracy: 0.9831 - val_loss: 3.6424 - val_accuracy: 0.5582 - lr: 0.0010 - 7s/epoch - 204ms/step
Epoch 36/75
36/36 - 7s - loss: 0.0520 - accuracy: 0.9842 - val_loss: 3.7025 - val_accuracy: 0.5533 - lr: 0.0010 - 7s/epoch - 204ms/step
Epoch 37/75
36/36 - 7s - loss: 0.0539 - accuracy: 0.9838 - val_loss: 3.6561 - val_accuracy: 0.5555 - lr: 0.0010 - 7s/epoch - 204ms/step
Epoch 38/75
36/36 - 7s - loss: 0.0549 - accuracy: 0.9830 - val_loss: 3.6178 - val_accuracy: 0.5602 - lr: 0.0010 - 7s/epoch - 203ms/step
Epoch 39/75
36/36 - 7s - loss: 0.0529 - accuracy: 0.9838 - val_loss: 3.5873 - val_accuracy: 0.5650 - lr: 0.0010 - 7s/epoch - 203ms/step
Epoch 40/75
36/36 - 7s - loss: 0.0532 - accuracy: 0.9832 - val_loss: 3.5802 - val_accuracy: 0.5597 - lr: 0.0010 - 7s/epoch - 204ms/step
Epoch 41/75
36/36 - 7s - loss: 0.0522 - accuracy: 0.9838 - val_loss: 3.5811 - val_accuracy: 0.5629 - lr: 0.0010 - 7s/epoch - 204ms/step
Epoch 42/75
36/36 - 7s - loss: 0.0515 - accuracy: 0.9842 - val_loss: 3.6896 - val_accuracy: 0.5535 - lr: 0.0010 - 7s/epoch - 204ms/step
Epoch 43/75
36/36 - 7s - loss: 0.0520 - accuracy: 0.9841 - val_loss: 3.5722 - val_accuracy: 0.5652 - lr: 0.0010 - 7s/epoch - 204ms/step
Epoch 44/75
36/36 - 7s - loss: 0.0508 - accuracy: 0.9841 - val_loss: 3.6635 - val_accuracy: 0.5567 - lr: 0.0010 - 7s/epoch - 203ms/step
Epoch 45/75
36/36 - 7s - loss: 0.0519 - accuracy: 0.9835 - val_loss: 3.5404 - val_accuracy: 0.5721 - lr: 0.0010 - 7s/epoch - 204ms/step
Epoch 46/75
36/36 - 7s - loss: 0.0497 - accuracy: 0.9850 - val_loss: 3.6455 - val_accuracy: 0.5603 - lr: 0.0010 - 7s/epoch - 204ms/step
Epoch 47/75
36/36 - 7s - loss: 0.0525 - accuracy: 0.9835 - val_loss: 3.6652 - val_accuracy: 0.5582 - lr: 0.0010 - 7s/epoch - 204ms/step
Epoch 48/75
36/36 - 7s - loss: 0.0533 - accuracy: 0.9835 - val_loss: 3.6206 - val_accuracy: 0.5579 - lr: 0.0010 - 7s/epoch - 203ms/step
Epoch 49/75
36/36 - 7s - loss: 0.0524 - accuracy: 0.9843 - val_loss: 3.6129 - val_accuracy: 0.5597 - lr: 0.0010 - 7s/epoch - 204ms/step
Epoch 50/75
36/36 - 7s - loss: 0.0536 - accuracy: 0.9830 - val_loss: 3.6709 - val_accuracy: 0.5545 - lr: 0.0010 - 7s/epoch - 204ms/step
Epoch 51/75
36/36 - 7s - loss: 0.0490 - accuracy: 0.9848 - val_loss: 3.6937 - val_accuracy: 0.5526 - lr: 0.0010 - 7s/epoch - 204ms/step
Epoch 52/75
36/36 - 7s - loss: 0.0510 - accuracy: 0.9840 - val_loss: 3.6533 - val_accuracy: 0.5591 - lr: 0.0010 - 7s/epoch - 204ms/step
Epoch 53/75
36/36 - 7s - loss: 0.0534 - accuracy: 0.9835 - val_loss: 3.6725 - val_accuracy: 0.5527 - lr: 0.0010 - 7s/epoch - 204ms/step
Epoch 54/75
36/36 - 7s - loss: 0.0525 - accuracy: 0.9833 - val_loss: 3.6933 - val_accuracy: 0.5541 - lr: 0.0010 - 7s/epoch - 203ms/step
Epoch 55/75
36/36 - 7s - loss: 0.0501 - accuracy: 0.9846 - val_loss: 3.7146 - val_accuracy: 0.5541 - lr: 0.0010 - 7s/epoch - 204ms/step
Epoch 56/75
36/36 - 7s - loss: 0.0521 - accuracy: 0.9836 - val_loss: 3.6379 - val_accuracy: 0.5625 - lr: 0.0010 - 7s/epoch - 204ms/step
Epoch 57/75
36/36 - 7s - loss: 0.0501 - accuracy: 0.9845 - val_loss: 3.7021 - val_accuracy: 0.5564 - lr: 0.0010 - 7s/epoch - 204ms/step
Epoch 58/75
36/36 - 7s - loss: 0.0516 - accuracy: 0.9841 - val_loss: 3.7185 - val_accuracy: 0.5539 - lr: 0.0010 - 7s/epoch - 203ms/step
Epoch 59/75
36/36 - 7s - loss: 0.0523 - accuracy: 0.9835 - val_loss: 3.6819 - val_accuracy: 0.5573 - lr: 0.0010 - 7s/epoch - 204ms/step
Epoch 60/75
36/36 - 7s - loss: 0.0523 - accuracy: 0.9830 - val_loss: 3.6369 - val_accuracy: 0.5649 - lr: 0.0010 - 7s/epoch - 204ms/step
Epoch 61/75
36/36 - 7s - loss: 0.0538 - accuracy: 0.9829 - val_loss: 3.7213 - val_accuracy: 0.5552 - lr: 0.0010 - 7s/epoch - 204ms/step
Epoch 62/75
36/36 - 7s - loss: 0.0513 - accuracy: 0.9838 - val_loss: 3.7543 - val_accuracy: 0.5518 - lr: 0.0010 - 7s/epoch - 203ms/step
Epoch 63/75
36/36 - 7s - loss: 0.0502 - accuracy: 0.9847 - val_loss: 3.7231 - val_accuracy: 0.5540 - lr: 0.0010 - 7s/epoch - 203ms/step
Epoch 64/75
36/36 - 7s - loss: 0.0529 - accuracy: 0.9831 - val_loss: 3.6133 - val_accuracy: 0.5619 - lr: 0.0010 - 7s/epoch - 203ms/step
Epoch 65/75
36/36 - 7s - loss: 0.0523 - accuracy: 0.9837 - val_loss: 3.6478 - val_accuracy: 0.5587 - lr: 0.0010 - 7s/epoch - 204ms/step
Epoch 66/75
36/36 - 7s - loss: 0.0514 - accuracy: 0.9838 - val_loss: 3.5738 - val_accuracy: 0.5662 - lr: 0.0010 - 7s/epoch - 204ms/step
Epoch 67/75
36/36 - 7s - loss: 0.0520 - accuracy: 0.9841 - val_loss: 3.6686 - val_accuracy: 0.5574 - lr: 0.0010 - 7s/epoch - 204ms/step
Epoch 68/75
36/36 - 7s - loss: 0.0533 - accuracy: 0.9834 - val_loss: 3.7200 - val_accuracy: 0.5509 - lr: 0.0010 - 7s/epoch - 204ms/step
Epoch 69/75
36/36 - 7s - loss: 0.0497 - accuracy: 0.9848 - val_loss: 3.6812 - val_accuracy: 0.5547 - lr: 0.0010 - 7s/epoch - 204ms/step
Epoch 70/75
36/36 - 7s - loss: 0.0524 - accuracy: 0.9832 - val_loss: 3.7598 - val_accuracy: 0.5502 - lr: 0.0010 - 7s/epoch - 204ms/step
Epoch 71/75
36/36 - 7s - loss: 0.0517 - accuracy: 0.9842 - val_loss: 3.7248 - val_accuracy: 0.5541 - lr: 0.0010 - 7s/epoch - 204ms/step
Epoch 72/75
36/36 - 7s - loss: 0.0514 - accuracy: 0.9835 - val_loss: 3.5885 - val_accuracy: 0.5655 - lr: 0.0010 - 7s/epoch - 203ms/step
Epoch 73/75
36/36 - 7s - loss: 0.0496 - accuracy: 0.9841 - val_loss: 3.6631 - val_accuracy: 0.5607 - lr: 0.0010 - 7s/epoch - 204ms/step
Epoch 74/75
36/36 - 7s - loss: 0.0544 - accuracy: 0.9828 - val_loss: 3.7244 - val_accuracy: 0.5543 - lr: 0.0010 - 7s/epoch - 203ms/step
Epoch 75/75
36/36 - 7s - loss: 0.0501 - accuracy: 0.9841 - val_loss: 3.7429 - val_accuracy: 0.5550 - lr: 0.0010 - 7s/epoch - 204ms/step
Epoch 1/100
4378/4378 - 77s - loss: 0.1872 - accuracy: 0.9343 - val_loss: 2.1813 - val_accuracy: 0.5857 - lr: 0.0010 - 77s/epoch - 18ms/step
Epoch 2/100
4378/4378 - 77s - loss: 0.2095 - accuracy: 0.9244 - val_loss: 1.9305 - val_accuracy: 0.6084 - lr: 0.0010 - 77s/epoch - 18ms/step
Epoch 3/100
4378/4378 - 77s - loss: 0.2313 - accuracy: 0.9158 - val_loss: 1.9399 - val_accuracy: 0.5557 - lr: 0.0010 - 77s/epoch - 18ms/step
Epoch 4/100
4378/4378 - 77s - loss: 0.2266 - accuracy: 0.9179 - val_loss: 1.6479 - val_accuracy: 0.6139 - lr: 0.0010 - 77s/epoch - 18ms/step
Epoch 5/100
4378/4378 - 77s - loss: 0.2213 - accuracy: 0.9195 - val_loss: 1.5489 - val_accuracy: 0.6317 - lr: 0.0010 - 77s/epoch - 18ms/step
Epoch 6/100
4378/4378 - 78s - loss: 0.2302 - accuracy: 0.9156 - val_loss: 1.7985 - val_accuracy: 0.5854 - lr: 0.0010 - 78s/epoch - 18ms/step
Epoch 7/100
4378/4378 - 77s - loss: 0.2247 - accuracy: 0.9180 - val_loss: 1.7968 - val_accuracy: 0.5861 - lr: 0.0010 - 77s/epoch - 18ms/step
Epoch 8/100
4378/4378 - 82s - loss: 0.2127 - accuracy: 0.9221 - val_loss: 1.9363 - val_accuracy: 0.5675 - lr: 0.0010 - 82s/epoch - 19ms/step
Epoch 9/100
4378/4378 - 76s - loss: 0.2290 - accuracy: 0.9164 - val_loss: 1.8982 - val_accuracy: 0.5493 - lr: 0.0010 - 76s/epoch - 17ms/step
Epoch 10/100
4378/4378 - 77s - loss: 0.2294 - accuracy: 0.9162 - val_loss: 2.0044 - val_accuracy: 0.5371 - lr: 0.0010 - 77s/epoch - 18ms/step
Epoch 11/100
4378/4378 - 78s - loss: 0.2266 - accuracy: 0.9162 - val_loss: 1.6803 - val_accuracy: 0.5916 - lr: 0.0010 - 78s/epoch - 18ms/step
Epoch 12/100
4378/4378 - 77s - loss: 0.2297 - accuracy: 0.9167 - val_loss: 1.6847 - val_accuracy: 0.6055 - lr: 0.0010 - 77s/epoch - 18ms/step
Epoch 13/100
4378/4378 - 77s - loss: 0.2288 - accuracy: 0.9163 - val_loss: 1.7344 - val_accuracy: 0.5974 - lr: 0.0010 - 77s/epoch - 18ms/step
Epoch 14/100
4378/4378 - 76s - loss: 0.2117 - accuracy: 0.9229 - val_loss: 1.9271 - val_accuracy: 0.5631 - lr: 0.0010 - 76s/epoch - 17ms/step
Epoch 15/100
4378/4378 - 77s - loss: 0.2192 - accuracy: 0.9206 - val_loss: 1.8496 - val_accuracy: 0.5822 - lr: 0.0010 - 77s/epoch - 18ms/step
Epoch 16/100
4378/4378 - 78s - loss: 0.2196 - accuracy: 0.9195 - val_loss: 1.6603 - val_accuracy: 0.6004 - lr: 0.0010 - 78s/epoch - 18ms/step
Epoch 17/100
4378/4378 - 77s - loss: 0.2252 - accuracy: 0.9176 - val_loss: 2.0133 - val_accuracy: 0.5518 - lr: 0.0010 - 77s/epoch - 17ms/step
Epoch 18/100
4378/4378 - 77s - loss: 0.2252 - accuracy: 0.9179 - val_loss: 1.7401 - val_accuracy: 0.5806 - lr: 0.0010 - 77s/epoch - 18ms/step
Epoch 19/100
4378/4378 - 77s - loss: 0.2346 - accuracy: 0.9157 - val_loss: 1.5584 - val_accuracy: 0.6110 - lr: 0.0010 - 77s/epoch - 18ms/step
Epoch 20/100
4378/4378 - 77s - loss: 0.2203 - accuracy: 0.9190 - val_loss: 1.7347 - val_accuracy: 0.6012 - lr: 0.0010 - 77s/epoch - 18ms/step
Epoch 21/100
4378/4378 - 77s - loss: 0.2115 - accuracy: 0.9237 - val_loss: 1.7107 - val_accuracy: 0.5969 - lr: 0.0010 - 77s/epoch - 18ms/step
Epoch 22/100
4378/4378 - 77s - loss: 0.2228 - accuracy: 0.9192 - val_loss: 1.7702 - val_accuracy: 0.5742 - lr: 0.0010 - 77s/epoch - 18ms/step
Epoch 23/100
4378/4378 - 79s - loss: 0.2284 - accuracy: 0.9164 - val_loss: 1.8505 - val_accuracy: 0.5467 - lr: 0.0010 - 79s/epoch - 18ms/step
Epoch 24/100
4378/4378 - 78s - loss: 0.2339 - accuracy: 0.9146 - val_loss: 1.3972 - val_accuracy: 0.6443 - lr: 0.0010 - 78s/epoch - 18ms/step
Epoch 25/100
4378/4378 - 77s - loss: 0.2223 - accuracy: 0.9185 - val_loss: 1.7150 - val_accuracy: 0.6156 - lr: 0.0010 - 77s/epoch - 18ms/step
Epoch 26/100
4378/4378 - 79s - loss: 0.2290 - accuracy: 0.9169 - val_loss: 1.6538 - val_accuracy: 0.6011 - lr: 0.0010 - 79s/epoch - 18ms/step
Epoch 27/100
4378/4378 - 78s - loss: 0.2318 - accuracy: 0.9155 - val_loss: 1.6037 - val_accuracy: 0.6086 - lr: 0.0010 - 78s/epoch - 18ms/step
Epoch 28/100
4378/4378 - 78s - loss: 0.2291 - accuracy: 0.9169 - val_loss: 1.7408 - val_accuracy: 0.5673 - lr: 0.0010 - 78s/epoch - 18ms/step
Epoch 29/100
4378/4378 - 77s - loss: 0.2227 - accuracy: 0.9199 - val_loss: 1.6592 - val_accuracy: 0.6045 - lr: 0.0010 - 77s/epoch - 18ms/step
Epoch 30/100
4378/4378 - 77s - loss: 0.2313 - accuracy: 0.9156 - val_loss: 1.8382 - val_accuracy: 0.5744 - lr: 0.0010 - 77s/epoch - 18ms/step
Epoch 31/100
4378/4378 - 78s - loss: 0.2351 - accuracy: 0.9146 - val_loss: 1.7470 - val_accuracy: 0.5836 - lr: 0.0010 - 78s/epoch - 18ms/step
Epoch 32/100
4378/4378 - 78s - loss: 0.2398 - accuracy: 0.9117 - val_loss: 1.8536 - val_accuracy: 0.5730 - lr: 0.0010 - 78s/epoch - 18ms/step
Epoch 33/100
4378/4378 - 78s - loss: 0.2299 - accuracy: 0.9164 - val_loss: 1.8848 - val_accuracy: 0.5773 - lr: 0.0010 - 78s/epoch - 18ms/step
Epoch 34/100
4378/4378 - 77s - loss: 0.2296 - accuracy: 0.9169 - val_loss: 1.8219 - val_accuracy: 0.5793 - lr: 0.0010 - 77s/epoch - 18ms/step
Epoch 35/100
4378/4378 - 77s - loss: 0.2253 - accuracy: 0.9182 - val_loss: 1.7179 - val_accuracy: 0.5994 - lr: 0.0010 - 77s/epoch - 18ms/step
Epoch 36/100
4378/4378 - 78s - loss: 0.2331 - accuracy: 0.9149 - val_loss: 1.6842 - val_accuracy: 0.6023 - lr: 0.0010 - 78s/epoch - 18ms/step
Epoch 37/100
4378/4378 - 77s - loss: 0.2305 - accuracy: 0.9167 - val_loss: 1.7520 - val_accuracy: 0.6018 - lr: 0.0010 - 77s/epoch - 18ms/step
Epoch 38/100
4378/4378 - 78s - loss: 0.2256 - accuracy: 0.9178 - val_loss: 1.7895 - val_accuracy: 0.5593 - lr: 0.0010 - 78s/epoch - 18ms/step
Epoch 39/100
4378/4378 - 80s - loss: 0.2331 - accuracy: 0.9149 - val_loss: 1.7597 - val_accuracy: 0.6000 - lr: 0.0010 - 80s/epoch - 18ms/step
Epoch 40/100
4378/4378 - 77s - loss: 0.2285 - accuracy: 0.9162 - val_loss: 1.6661 - val_accuracy: 0.6078 - lr: 0.0010 - 77s/epoch - 18ms/step
Epoch 41/100
4378/4378 - 77s - loss: 0.2284 - accuracy: 0.9175 - val_loss: 1.5817 - val_accuracy: 0.6171 - lr: 0.0010 - 77s/epoch - 18ms/step
Epoch 42/100
4378/4378 - 77s - loss: 0.2349 - accuracy: 0.9135 - val_loss: 1.6451 - val_accuracy: 0.5972 - lr: 0.0010 - 77s/epoch - 18ms/step
Epoch 43/100
4378/4378 - 77s - loss: 0.2413 - accuracy: 0.9125 - val_loss: 1.5726 - val_accuracy: 0.6031 - lr: 0.0010 - 77s/epoch - 18ms/step
Epoch 44/100
4378/4378 - 77s - loss: 0.2304 - accuracy: 0.9162 - val_loss: 1.4888 - val_accuracy: 0.6502 - lr: 0.0010 - 77s/epoch - 18ms/step
Epoch 45/100
4378/4378 - 78s - loss: 0.2300 - accuracy: 0.9167 - val_loss: 1.8134 - val_accuracy: 0.5592 - lr: 0.0010 - 78s/epoch - 18ms/step
Epoch 46/100
4378/4378 - 78s - loss: 0.2291 - accuracy: 0.9169 - val_loss: 1.6135 - val_accuracy: 0.5977 - lr: 0.0010 - 78s/epoch - 18ms/step
Epoch 47/100
4378/4378 - 77s - loss: 0.2267 - accuracy: 0.9175 - val_loss: 1.8073 - val_accuracy: 0.5860 - lr: 0.0010 - 77s/epoch - 18ms/step
Epoch 48/100
4378/4378 - 78s - loss: 0.2307 - accuracy: 0.9161 - val_loss: 1.7366 - val_accuracy: 0.5669 - lr: 0.0010 - 78s/epoch - 18ms/step
Epoch 49/100
4378/4378 - 77s - loss: 0.2287 - accuracy: 0.9169 - val_loss: 1.5990 - val_accuracy: 0.6128 - lr: 0.0010 - 77s/epoch - 18ms/step
Epoch 50/100
4378/4378 - 77s - loss: 0.2283 - accuracy: 0.9161 - val_loss: 1.5820 - val_accuracy: 0.6092 - lr: 0.0010 - 77s/epoch - 18ms/step
Epoch 51/100
4378/4378 - 77s - loss: 0.2206 - accuracy: 0.9198 - val_loss: 1.9021 - val_accuracy: 0.5534 - lr: 0.0010 - 77s/epoch - 18ms/step
Epoch 52/100
4378/4378 - 77s - loss: 0.2207 - accuracy: 0.9195 - val_loss: 1.9936 - val_accuracy: 0.5650 - lr: 0.0010 - 77s/epoch - 18ms/step
Epoch 53/100
4378/4378 - 80s - loss: 0.2290 - accuracy: 0.9169 - val_loss: 1.7361 - val_accuracy: 0.5799 - lr: 0.0010 - 80s/epoch - 18ms/step
Epoch 54/100
4378/4378 - 77s - loss: 0.2309 - accuracy: 0.9162 - val_loss: 1.6632 - val_accuracy: 0.5983 - lr: 0.0010 - 77s/epoch - 17ms/step
Epoch 55/100
4378/4378 - 79s - loss: 0.2251 - accuracy: 0.9176 - val_loss: 1.8275 - val_accuracy: 0.5736 - lr: 0.0010 - 79s/epoch - 18ms/step
Epoch 56/100
4378/4378 - 77s - loss: 0.2255 - accuracy: 0.9177 - val_loss: 1.7004 - val_accuracy: 0.5878 - lr: 0.0010 - 77s/epoch - 18ms/step
Epoch 57/100
4378/4378 - 77s - loss: 0.2246 - accuracy: 0.9185 - val_loss: 1.8981 - val_accuracy: 0.5766 - lr: 0.0010 - 77s/epoch - 18ms/step
Epoch 58/100
4378/4378 - 77s - loss: 0.2298 - accuracy: 0.9165 - val_loss: 1.7087 - val_accuracy: 0.6116 - lr: 0.0010 - 77s/epoch - 18ms/step
Epoch 59/100
4378/4378 - 77s - loss: 0.2242 - accuracy: 0.9188 - val_loss: 1.8542 - val_accuracy: 0.6011 - lr: 0.0010 - 77s/epoch - 18ms/step
Epoch 60/100
4378/4378 - 77s - loss: 0.2217 - accuracy: 0.9199 - val_loss: 1.7634 - val_accuracy: 0.5905 - lr: 0.0010 - 77s/epoch - 18ms/step
Epoch 61/100
4378/4378 - 77s - loss: 0.2177 - accuracy: 0.9217 - val_loss: 1.7424 - val_accuracy: 0.6077 - lr: 0.0010 - 77s/epoch - 18ms/step
Epoch 62/100
4378/4378 - 77s - loss: 0.2277 - accuracy: 0.9170 - val_loss: 1.5401 - val_accuracy: 0.6327 - lr: 0.0010 - 77s/epoch - 17ms/step
Epoch 63/100
4378/4378 - 77s - loss: 0.2200 - accuracy: 0.9201 - val_loss: 1.6591 - val_accuracy: 0.6137 - lr: 0.0010 - 77s/epoch - 18ms/step
Epoch 64/100
4378/4378 - 77s - loss: 0.2247 - accuracy: 0.9185 - val_loss: 1.7739 - val_accuracy: 0.5868 - lr: 0.0010 - 77s/epoch - 18ms/step
Epoch 65/100
4378/4378 - 77s - loss: 0.2197 - accuracy: 0.9207 - val_loss: 1.6577 - val_accuracy: 0.6161 - lr: 0.0010 - 77s/epoch - 18ms/step
Epoch 66/100
4378/4378 - 77s - loss: 0.2261 - accuracy: 0.9177 - val_loss: 1.8113 - val_accuracy: 0.5752 - lr: 0.0010 - 77s/epoch - 18ms/step
Epoch 67/100
4378/4378 - 79s - loss: 0.2242 - accuracy: 0.9184 - val_loss: 1.5630 - val_accuracy: 0.6261 - lr: 0.0010 - 79s/epoch - 18ms/step
Epoch 68/100
4378/4378 - 77s - loss: 0.2258 - accuracy: 0.9182 - val_loss: 1.7011 - val_accuracy: 0.6031 - lr: 0.0010 - 77s/epoch - 18ms/step
Epoch 69/100
4378/4378 - 77s - loss: 0.2246 - accuracy: 0.9172 - val_loss: 1.7910 - val_accuracy: 0.5796 - lr: 0.0010 - 77s/epoch - 18ms/step
Epoch 70/100
4378/4378 - 77s - loss: 0.2323 - accuracy: 0.9152 - val_loss: 1.8633 - val_accuracy: 0.5472 - lr: 0.0010 - 77s/epoch - 18ms/step
Epoch 71/100
4378/4378 - 77s - loss: 0.2248 - accuracy: 0.9184 - val_loss: 1.8153 - val_accuracy: 0.5875 - lr: 0.0010 - 77s/epoch - 18ms/step
Epoch 72/100
4378/4378 - 77s - loss: 0.2276 - accuracy: 0.9174 - val_loss: 1.8222 - val_accuracy: 0.5825 - lr: 0.0010 - 77s/epoch - 18ms/step
Epoch 73/100
4378/4378 - 77s - loss: 0.2285 - accuracy: 0.9168 - val_loss: 1.9747 - val_accuracy: 0.5393 - lr: 0.0010 - 77s/epoch - 18ms/step
Epoch 74/100
4378/4378 - 77s - loss: 0.2352 - accuracy: 0.9146 - val_loss: 1.7511 - val_accuracy: 0.5833 - lr: 0.0010 - 77s/epoch - 18ms/step
Epoch 75/100
4378/4378 - 77s - loss: 0.2302 - accuracy: 0.9165 - val_loss: 1.7242 - val_accuracy: 0.6007 - lr: 0.0010 - 77s/epoch - 18ms/step
Epoch 76/100
4378/4378 - 77s - loss: 0.2301 - accuracy: 0.9159 - val_loss: 1.7904 - val_accuracy: 0.5698 - lr: 0.0010 - 77s/epoch - 18ms/step
Epoch 77/100
4378/4378 - 78s - loss: 0.2366 - accuracy: 0.9142 - val_loss: 1.7428 - val_accuracy: 0.5783 - lr: 0.0010 - 78s/epoch - 18ms/step
Epoch 78/100
4378/4378 - 77s - loss: 0.2336 - accuracy: 0.9148 - val_loss: 1.8908 - val_accuracy: 0.5766 - lr: 0.0010 - 77s/epoch - 18ms/step
Epoch 79/100
4378/4378 - 77s - loss: 0.2274 - accuracy: 0.9173 - val_loss: 1.9106 - val_accuracy: 0.5555 - lr: 0.0010 - 77s/epoch - 18ms/step
Epoch 80/100
4378/4378 - 77s - loss: 0.2210 - accuracy: 0.9189 - val_loss: 1.7618 - val_accuracy: 0.5832 - lr: 0.0010 - 77s/epoch - 18ms/step
Epoch 81/100
4378/4378 - 76s - loss: 0.2251 - accuracy: 0.9162 - val_loss: 1.8891 - val_accuracy: 0.5836 - lr: 0.0010 - 76s/epoch - 17ms/step
Epoch 82/100
4378/4378 - 77s - loss: 0.2221 - accuracy: 0.9188 - val_loss: 1.8261 - val_accuracy: 0.5943 - lr: 0.0010 - 77s/epoch - 18ms/step
Epoch 83/100
4378/4378 - 77s - loss: 0.2266 - accuracy: 0.9176 - val_loss: 1.8676 - val_accuracy: 0.5699 - lr: 0.0010 - 77s/epoch - 18ms/step
Epoch 84/100
4378/4378 - 76s - loss: 0.2220 - accuracy: 0.9194 - val_loss: 2.0703 - val_accuracy: 0.5512 - lr: 0.0010 - 76s/epoch - 17ms/step
Epoch 85/100
4378/4378 - 77s - loss: 0.2289 - accuracy: 0.9152 - val_loss: 1.7817 - val_accuracy: 0.5796 - lr: 0.0010 - 77s/epoch - 18ms/step
Epoch 86/100
4378/4378 - 76s - loss: 0.2266 - accuracy: 0.9181 - val_loss: 1.6836 - val_accuracy: 0.6021 - lr: 0.0010 - 76s/epoch - 17ms/step
Epoch 87/100
4378/4378 - 77s - loss: 0.2309 - accuracy: 0.9162 - val_loss: 1.7280 - val_accuracy: 0.5922 - lr: 0.0010 - 77s/epoch - 18ms/step
Epoch 88/100
4378/4378 - 77s - loss: 0.2342 - accuracy: 0.9141 - val_loss: 1.7827 - val_accuracy: 0.6022 - lr: 0.0010 - 77s/epoch - 17ms/step
Epoch 89/100
4378/4378 - 77s - loss: 0.2350 - accuracy: 0.9151 - val_loss: 1.7515 - val_accuracy: 0.5895 - lr: 0.0010 - 77s/epoch - 18ms/step
Epoch 90/100
4378/4378 - 77s - loss: 0.2339 - accuracy: 0.9143 - val_loss: 1.5960 - val_accuracy: 0.6305 - lr: 0.0010 - 77s/epoch - 18ms/step
Epoch 91/100
4378/4378 - 78s - loss: 0.2311 - accuracy: 0.9149 - val_loss: 1.7113 - val_accuracy: 0.5888 - lr: 0.0010 - 78s/epoch - 18ms/step
Epoch 92/100
4378/4378 - 76s - loss: 0.2150 - accuracy: 0.9220 - val_loss: 1.7462 - val_accuracy: 0.5923 - lr: 0.0010 - 76s/epoch - 17ms/step
Epoch 93/100
4378/4378 - 77s - loss: 0.2263 - accuracy: 0.9178 - val_loss: 1.8200 - val_accuracy: 0.5613 - lr: 0.0010 - 77s/epoch - 18ms/step
Epoch 94/100
4378/4378 - 77s - loss: 0.2362 - accuracy: 0.9135 - val_loss: 1.6992 - val_accuracy: 0.6040 - lr: 0.0010 - 77s/epoch - 18ms/step
Epoch 95/100
4378/4378 - 78s - loss: 0.2315 - accuracy: 0.9162 - val_loss: 1.5870 - val_accuracy: 0.6092 - lr: 0.0010 - 78s/epoch - 18ms/step
Epoch 96/100
4378/4378 - 77s - loss: 0.2212 - accuracy: 0.9193 - val_loss: 1.7169 - val_accuracy: 0.5939 - lr: 0.0010 - 77s/epoch - 18ms/step
Epoch 97/100
4378/4378 - 77s - loss: 0.2295 - accuracy: 0.9168 - val_loss: 1.6040 - val_accuracy: 0.6102 - lr: 0.0010 - 77s/epoch - 18ms/step
Epoch 98/100
4378/4378 - 77s - loss: 0.2242 - accuracy: 0.9186 - val_loss: 1.8331 - val_accuracy: 0.5779 - lr: 0.0010 - 77s/epoch - 18ms/step
Epoch 99/100
4378/4378 - 77s - loss: 0.2399 - accuracy: 0.9123 - val_loss: 1.6166 - val_accuracy: 0.5803 - lr: 0.0010 - 77s/epoch - 17ms/step
Epoch 100/100
4378/4378 - 77s - loss: 0.2305 - accuracy: 0.9157 - val_loss: 1.5733 - val_accuracy: 0.6015 - lr: 0.0010 - 77s/epoch - 18ms/step
Epoch 1/100
876/876 - 20s - loss: 0.1503 - accuracy: 0.9465 - val_loss: 2.0790 - val_accuracy: 0.5740 - lr: 0.0010 - 20s/epoch - 23ms/step
Epoch 2/100
876/876 - 17s - loss: 0.1490 - accuracy: 0.9472 - val_loss: 2.1934 - val_accuracy: 0.5622 - lr: 0.0010 - 17s/epoch - 20ms/step
Epoch 3/100
876/876 - 17s - loss: 0.1518 - accuracy: 0.9458 - val_loss: 2.2429 - val_accuracy: 0.5616 - lr: 0.0010 - 17s/epoch - 20ms/step
Epoch 4/100
876/876 - 17s - loss: 0.1500 - accuracy: 0.9469 - val_loss: 2.1373 - val_accuracy: 0.5780 - lr: 0.0010 - 17s/epoch - 20ms/step
Epoch 5/100
876/876 - 17s - loss: 0.1515 - accuracy: 0.9459 - val_loss: 2.3512 - val_accuracy: 0.5632 - lr: 0.0010 - 17s/epoch - 20ms/step
Epoch 6/100
876/876 - 17s - loss: 0.1463 - accuracy: 0.9483 - val_loss: 2.4705 - val_accuracy: 0.5395 - lr: 0.0010 - 17s/epoch - 20ms/step
Epoch 7/100
876/876 - 17s - loss: 0.1475 - accuracy: 0.9476 - val_loss: 2.3122 - val_accuracy: 0.5592 - lr: 0.0010 - 17s/epoch - 20ms/step
Epoch 8/100
876/876 - 17s - loss: 0.1424 - accuracy: 0.9494 - val_loss: 2.4326 - val_accuracy: 0.5658 - lr: 0.0010 - 17s/epoch - 20ms/step
Epoch 9/100
876/876 - 17s - loss: 0.1449 - accuracy: 0.9485 - val_loss: 2.3372 - val_accuracy: 0.5757 - lr: 0.0010 - 17s/epoch - 20ms/step
Epoch 10/100
876/876 - 17s - loss: 0.1459 - accuracy: 0.9481 - val_loss: 2.2562 - val_accuracy: 0.5756 - lr: 0.0010 - 17s/epoch - 20ms/step
Epoch 11/100
876/876 - 17s - loss: 0.1450 - accuracy: 0.9477 - val_loss: 2.2564 - val_accuracy: 0.5811 - lr: 0.0010 - 17s/epoch - 20ms/step
Epoch 12/100
876/876 - 17s - loss: 0.1407 - accuracy: 0.9497 - val_loss: 2.5002 - val_accuracy: 0.5580 - lr: 0.0010 - 17s/epoch - 20ms/step
Epoch 13/100
876/876 - 17s - loss: 0.1412 - accuracy: 0.9496 - val_loss: 2.5521 - val_accuracy: 0.5577 - lr: 0.0010 - 17s/epoch - 20ms/step
Epoch 14/100
876/876 - 17s - loss: 0.1392 - accuracy: 0.9506 - val_loss: 2.4670 - val_accuracy: 0.5575 - lr: 0.0010 - 17s/epoch - 20ms/step
Epoch 15/100
876/876 - 17s - loss: 0.1363 - accuracy: 0.9522 - val_loss: 2.5073 - val_accuracy: 0.5631 - lr: 0.0010 - 17s/epoch - 20ms/step
Epoch 16/100
876/876 - 17s - loss: 0.1352 - accuracy: 0.9523 - val_loss: 2.3415 - val_accuracy: 0.5804 - lr: 0.0010 - 17s/epoch - 20ms/step
Epoch 17/100
876/876 - 17s - loss: 0.1371 - accuracy: 0.9511 - val_loss: 2.3966 - val_accuracy: 0.5743 - lr: 0.0010 - 17s/epoch - 20ms/step
Epoch 18/100
876/876 - 17s - loss: 0.1389 - accuracy: 0.9507 - val_loss: 2.4341 - val_accuracy: 0.5691 - lr: 0.0010 - 17s/epoch - 20ms/step
Epoch 19/100
876/876 - 17s - loss: 0.1386 - accuracy: 0.9505 - val_loss: 2.5352 - val_accuracy: 0.5529 - lr: 0.0010 - 17s/epoch - 20ms/step
Epoch 20/100
876/876 - 17s - loss: 0.1370 - accuracy: 0.9514 - val_loss: 2.3137 - val_accuracy: 0.5830 - lr: 0.0010 - 17s/epoch - 20ms/step
Epoch 21/100
876/876 - 17s - loss: 0.1382 - accuracy: 0.9517 - val_loss: 2.5247 - val_accuracy: 0.5566 - lr: 0.0010 - 17s/epoch - 20ms/step
Epoch 22/100
876/876 - 17s - loss: 0.1335 - accuracy: 0.9525 - val_loss: 2.6338 - val_accuracy: 0.5480 - lr: 0.0010 - 17s/epoch - 20ms/step
Epoch 23/100
876/876 - 17s - loss: 0.1370 - accuracy: 0.9513 - val_loss: 2.2991 - val_accuracy: 0.5888 - lr: 0.0010 - 17s/epoch - 19ms/step
Epoch 24/100
876/876 - 17s - loss: 0.1388 - accuracy: 0.9509 - val_loss: 2.7975 - val_accuracy: 0.5279 - lr: 0.0010 - 17s/epoch - 19ms/step
Epoch 25/100
876/876 - 17s - loss: 0.1394 - accuracy: 0.9507 - val_loss: 2.3929 - val_accuracy: 0.5792 - lr: 0.0010 - 17s/epoch - 20ms/step
Epoch 26/100
876/876 - 17s - loss: 0.1358 - accuracy: 0.9514 - val_loss: 2.4437 - val_accuracy: 0.5708 - lr: 0.0010 - 17s/epoch - 19ms/step
Epoch 27/100
876/876 - 17s - loss: 0.1333 - accuracy: 0.9530 - val_loss: 2.5698 - val_accuracy: 0.5396 - lr: 0.0010 - 17s/epoch - 20ms/step
Epoch 28/100
876/876 - 17s - loss: 0.1297 - accuracy: 0.9533 - val_loss: 2.6388 - val_accuracy: 0.5484 - lr: 0.0010 - 17s/epoch - 20ms/step
Epoch 29/100
876/876 - 17s - loss: 0.1337 - accuracy: 0.9529 - val_loss: 2.5622 - val_accuracy: 0.5593 - lr: 0.0010 - 17s/epoch - 20ms/step
Epoch 30/100
876/876 - 17s - loss: 0.1269 - accuracy: 0.9552 - val_loss: 2.8656 - val_accuracy: 0.5573 - lr: 0.0010 - 17s/epoch - 19ms/step
Epoch 31/100
876/876 - 17s - loss: 0.1266 - accuracy: 0.9555 - val_loss: 2.6903 - val_accuracy: 0.5485 - lr: 0.0010 - 17s/epoch - 20ms/step
Epoch 32/100
876/876 - 17s - loss: 0.1230 - accuracy: 0.9567 - val_loss: 2.8238 - val_accuracy: 0.5437 - lr: 0.0010 - 17s/epoch - 19ms/step
Epoch 33/100
876/876 - 17s - loss: 0.1318 - accuracy: 0.9538 - val_loss: 2.5967 - val_accuracy: 0.5612 - lr: 0.0010 - 17s/epoch - 19ms/step
Epoch 34/100
876/876 - 17s - loss: 0.1293 - accuracy: 0.9542 - val_loss: 2.6749 - val_accuracy: 0.5497 - lr: 0.0010 - 17s/epoch - 20ms/step
Epoch 35/100
876/876 - 17s - loss: 0.1323 - accuracy: 0.9534 - val_loss: 2.5493 - val_accuracy: 0.5678 - lr: 0.0010 - 17s/epoch - 20ms/step
Epoch 36/100
876/876 - 17s - loss: 0.1372 - accuracy: 0.9513 - val_loss: 2.6354 - val_accuracy: 0.5280 - lr: 0.0010 - 17s/epoch - 19ms/step
Epoch 37/100
876/876 - 17s - loss: 0.1298 - accuracy: 0.9535 - val_loss: 2.6725 - val_accuracy: 0.5496 - lr: 0.0010 - 17s/epoch - 20ms/step
Epoch 38/100
876/876 - 17s - loss: 0.1297 - accuracy: 0.9547 - val_loss: 2.8074 - val_accuracy: 0.5287 - lr: 0.0010 - 17s/epoch - 20ms/step
Epoch 39/100
876/876 - 17s - loss: 0.1309 - accuracy: 0.9534 - val_loss: 2.9009 - val_accuracy: 0.5206 - lr: 0.0010 - 17s/epoch - 20ms/step
Epoch 40/100
876/876 - 17s - loss: 0.1244 - accuracy: 0.9563 - val_loss: 2.6139 - val_accuracy: 0.5556 - lr: 0.0010 - 17s/epoch - 20ms/step
Epoch 41/100
876/876 - 17s - loss: 0.1310 - accuracy: 0.9536 - val_loss: 2.7379 - val_accuracy: 0.5449 - lr: 0.0010 - 17s/epoch - 20ms/step
Epoch 42/100
876/876 - 17s - loss: 0.1292 - accuracy: 0.9538 - val_loss: 2.6594 - val_accuracy: 0.5490 - lr: 0.0010 - 17s/epoch - 20ms/step
Epoch 43/100
876/876 - 17s - loss: 0.1314 - accuracy: 0.9540 - val_loss: 2.4113 - val_accuracy: 0.5759 - lr: 0.0010 - 17s/epoch - 20ms/step
Epoch 44/100
876/876 - 17s - loss: 0.1324 - accuracy: 0.9530 - val_loss: 2.4538 - val_accuracy: 0.5766 - lr: 0.0010 - 17s/epoch - 20ms/step
Epoch 45/100
876/876 - 17s - loss: 0.1329 - accuracy: 0.9526 - val_loss: 2.6803 - val_accuracy: 0.5461 - lr: 0.0010 - 17s/epoch - 19ms/step
Epoch 46/100
876/876 - 17s - loss: 0.1248 - accuracy: 0.9564 - val_loss: 2.3786 - val_accuracy: 0.5882 - lr: 0.0010 - 17s/epoch - 20ms/step
Epoch 47/100
876/876 - 17s - loss: 0.1286 - accuracy: 0.9543 - val_loss: 2.5937 - val_accuracy: 0.5587 - lr: 0.0010 - 17s/epoch - 20ms/step
Epoch 48/100
876/876 - 17s - loss: 0.1261 - accuracy: 0.9561 - val_loss: 2.5664 - val_accuracy: 0.5670 - lr: 0.0010 - 17s/epoch - 20ms/step
Epoch 49/100
876/876 - 17s - loss: 0.1258 - accuracy: 0.9554 - val_loss: 2.6870 - val_accuracy: 0.5523 - lr: 0.0010 - 17s/epoch - 19ms/step
Epoch 50/100
876/876 - 17s - loss: 0.1258 - accuracy: 0.9560 - val_loss: 2.8537 - val_accuracy: 0.5142 - lr: 0.0010 - 17s/epoch - 20ms/step
Epoch 51/100
876/876 - 17s - loss: 0.1257 - accuracy: 0.9559 - val_loss: 2.7549 - val_accuracy: 0.5510 - lr: 0.0010 - 17s/epoch - 20ms/step
Epoch 52/100
876/876 - 17s - loss: 0.1270 - accuracy: 0.9543 - val_loss: 2.5126 - val_accuracy: 0.5735 - lr: 0.0010 - 17s/epoch - 20ms/step
Epoch 53/100
876/876 - 17s - loss: 0.1284 - accuracy: 0.9539 - val_loss: 2.6010 - val_accuracy: 0.5763 - lr: 0.0010 - 17s/epoch - 20ms/step
Epoch 54/100
876/876 - 17s - loss: 0.1278 - accuracy: 0.9544 - val_loss: 2.5551 - val_accuracy: 0.5733 - lr: 0.0010 - 17s/epoch - 20ms/step
Epoch 55/100
876/876 - 17s - loss: 0.1303 - accuracy: 0.9534 - val_loss: 2.5160 - val_accuracy: 0.5620 - lr: 0.0010 - 17s/epoch - 19ms/step
Epoch 56/100
876/876 - 17s - loss: 0.1293 - accuracy: 0.9543 - val_loss: 2.6811 - val_accuracy: 0.5521 - lr: 0.0010 - 17s/epoch - 20ms/step
Epoch 57/100
876/876 - 17s - loss: 0.1349 - accuracy: 0.9521 - val_loss: 2.7151 - val_accuracy: 0.5280 - lr: 0.0010 - 17s/epoch - 20ms/step
Epoch 58/100
876/876 - 17s - loss: 0.1293 - accuracy: 0.9545 - val_loss: 3.0818 - val_accuracy: 0.5000 - lr: 0.0010 - 17s/epoch - 19ms/step
Epoch 59/100
876/876 - 17s - loss: 0.1300 - accuracy: 0.9541 - val_loss: 2.5242 - val_accuracy: 0.5811 - lr: 0.0010 - 17s/epoch - 20ms/step
Epoch 60/100
876/876 - 17s - loss: 0.1253 - accuracy: 0.9555 - val_loss: 2.9176 - val_accuracy: 0.5378 - lr: 0.0010 - 17s/epoch - 20ms/step
Epoch 61/100
876/876 - 17s - loss: 0.1338 - accuracy: 0.9526 - val_loss: 2.5744 - val_accuracy: 0.5582 - lr: 0.0010 - 17s/epoch - 19ms/step
Epoch 62/100
876/876 - 17s - loss: 0.1247 - accuracy: 0.9552 - val_loss: 2.7497 - val_accuracy: 0.5539 - lr: 0.0010 - 17s/epoch - 20ms/step
Epoch 63/100
876/876 - 17s - loss: 0.1307 - accuracy: 0.9535 - val_loss: 2.8427 - val_accuracy: 0.5323 - lr: 0.0010 - 17s/epoch - 20ms/step
Epoch 64/100
876/876 - 17s - loss: 0.1319 - accuracy: 0.9535 - val_loss: 2.5763 - val_accuracy: 0.5657 - lr: 0.0010 - 17s/epoch - 19ms/step
Epoch 65/100
876/876 - 17s - loss: 0.1337 - accuracy: 0.9524 - val_loss: 2.5591 - val_accuracy: 0.5592 - lr: 0.0010 - 17s/epoch - 20ms/step
Epoch 66/100
876/876 - 17s - loss: 0.1238 - accuracy: 0.9555 - val_loss: 2.5882 - val_accuracy: 0.5805 - lr: 0.0010 - 17s/epoch - 20ms/step
Epoch 67/100
876/876 - 17s - loss: 0.1288 - accuracy: 0.9539 - val_loss: 2.6741 - val_accuracy: 0.5507 - lr: 0.0010 - 17s/epoch - 20ms/step
Epoch 68/100
876/876 - 17s - loss: 0.1327 - accuracy: 0.9529 - val_loss: 2.7469 - val_accuracy: 0.5423 - lr: 0.0010 - 17s/epoch - 20ms/step
Epoch 69/100
876/876 - 17s - loss: 0.1318 - accuracy: 0.9528 - val_loss: 2.4823 - val_accuracy: 0.5731 - lr: 0.0010 - 17s/epoch - 19ms/step
Epoch 70/100
876/876 - 17s - loss: 0.1231 - accuracy: 0.9565 - val_loss: 2.4775 - val_accuracy: 0.5911 - lr: 0.0010 - 17s/epoch - 20ms/step
Epoch 71/100
876/876 - 17s - loss: 0.1229 - accuracy: 0.9560 - val_loss: 2.6886 - val_accuracy: 0.5611 - lr: 0.0010 - 17s/epoch - 20ms/step
Epoch 72/100
876/876 - 17s - loss: 0.1296 - accuracy: 0.9543 - val_loss: 2.6387 - val_accuracy: 0.5534 - lr: 0.0010 - 17s/epoch - 19ms/step
Epoch 73/100
876/876 - 17s - loss: 0.1274 - accuracy: 0.9551 - val_loss: 2.6565 - val_accuracy: 0.5444 - lr: 0.0010 - 17s/epoch - 20ms/step
Epoch 74/100
876/876 - 17s - loss: 0.1313 - accuracy: 0.9537 - val_loss: 2.7028 - val_accuracy: 0.5564 - lr: 0.0010 - 17s/epoch - 19ms/step
Epoch 75/100
876/876 - 17s - loss: 0.1262 - accuracy: 0.9551 - val_loss: 2.5611 - val_accuracy: 0.5725 - lr: 0.0010 - 17s/epoch - 19ms/step
Epoch 76/100
876/876 - 17s - loss: 0.1279 - accuracy: 0.9544 - val_loss: 2.7788 - val_accuracy: 0.5312 - lr: 0.0010 - 17s/epoch - 20ms/step
Epoch 77/100
876/876 - 17s - loss: 0.1212 - accuracy: 0.9568 - val_loss: 2.4750 - val_accuracy: 0.5897 - lr: 0.0010 - 17s/epoch - 20ms/step
Epoch 78/100
876/876 - 17s - loss: 0.1244 - accuracy: 0.9559 - val_loss: 2.8557 - val_accuracy: 0.5389 - lr: 0.0010 - 17s/epoch - 20ms/step
Epoch 79/100
876/876 - 17s - loss: 0.1244 - accuracy: 0.9562 - val_loss: 2.8054 - val_accuracy: 0.5508 - lr: 0.0010 - 17s/epoch - 20ms/step
Epoch 80/100
876/876 - 17s - loss: 0.1239 - accuracy: 0.9560 - val_loss: 2.9937 - val_accuracy: 0.5275 - lr: 0.0010 - 17s/epoch - 20ms/step
Epoch 81/100
876/876 - 17s - loss: 0.1251 - accuracy: 0.9554 - val_loss: 2.7537 - val_accuracy: 0.5516 - lr: 0.0010 - 17s/epoch - 20ms/step
Epoch 82/100
876/876 - 17s - loss: 0.1254 - accuracy: 0.9555 - val_loss: 2.5985 - val_accuracy: 0.5549 - lr: 0.0010 - 17s/epoch - 20ms/step
Epoch 83/100
876/876 - 17s - loss: 0.1289 - accuracy: 0.9539 - val_loss: 2.7820 - val_accuracy: 0.5551 - lr: 0.0010 - 17s/epoch - 20ms/step
Epoch 84/100
876/876 - 17s - loss: 0.1313 - accuracy: 0.9535 - val_loss: 2.7030 - val_accuracy: 0.5477 - lr: 0.0010 - 17s/epoch - 20ms/step
Epoch 85/100
876/876 - 17s - loss: 0.1247 - accuracy: 0.9561 - val_loss: 2.7065 - val_accuracy: 0.5497 - lr: 0.0010 - 17s/epoch - 20ms/step
Epoch 86/100
876/876 - 17s - loss: 0.1255 - accuracy: 0.9554 - val_loss: 2.6115 - val_accuracy: 0.5670 - lr: 0.0010 - 17s/epoch - 19ms/step
Epoch 87/100
876/876 - 17s - loss: 0.1201 - accuracy: 0.9581 - val_loss: 2.6727 - val_accuracy: 0.5667 - lr: 0.0010 - 17s/epoch - 20ms/step
Epoch 88/100
876/876 - 17s - loss: 0.1248 - accuracy: 0.9559 - val_loss: 2.9699 - val_accuracy: 0.5218 - lr: 0.0010 - 17s/epoch - 20ms/step
Epoch 89/100
876/876 - 17s - loss: 0.1193 - accuracy: 0.9580 - val_loss: 2.7716 - val_accuracy: 0.5464 - lr: 0.0010 - 17s/epoch - 20ms/step
Epoch 90/100
876/876 - 17s - loss: 0.1258 - accuracy: 0.9554 - val_loss: 2.9257 - val_accuracy: 0.5420 - lr: 0.0010 - 17s/epoch - 20ms/step
Epoch 91/100
876/876 - 17s - loss: 0.1256 - accuracy: 0.9556 - val_loss: 2.9188 - val_accuracy: 0.5396 - lr: 0.0010 - 17s/epoch - 20ms/step
Epoch 92/100
876/876 - 17s - loss: 0.1271 - accuracy: 0.9553 - val_loss: 2.8095 - val_accuracy: 0.5293 - lr: 0.0010 - 17s/epoch - 20ms/step
Epoch 93/100
876/876 - 17s - loss: 0.1293 - accuracy: 0.9542 - val_loss: 2.5548 - val_accuracy: 0.5708 - lr: 0.0010 - 17s/epoch - 19ms/step
Epoch 94/100
876/876 - 17s - loss: 0.1254 - accuracy: 0.9557 - val_loss: 2.9278 - val_accuracy: 0.5100 - lr: 0.0010 - 17s/epoch - 20ms/step
Epoch 95/100
876/876 - 17s - loss: 0.1320 - accuracy: 0.9528 - val_loss: 2.4979 - val_accuracy: 0.5786 - lr: 0.0010 - 17s/epoch - 20ms/step
Epoch 96/100
876/876 - 17s - loss: 0.1258 - accuracy: 0.9555 - val_loss: 2.5566 - val_accuracy: 0.5699 - lr: 0.0010 - 17s/epoch - 20ms/step
Epoch 97/100
876/876 - 17s - loss: 0.1296 - accuracy: 0.9542 - val_loss: 2.5124 - val_accuracy: 0.5896 - lr: 0.0010 - 17s/epoch - 20ms/step
Epoch 98/100
876/876 - 17s - loss: 0.1290 - accuracy: 0.9544 - val_loss: 2.6169 - val_accuracy: 0.5789 - lr: 0.0010 - 17s/epoch - 20ms/step
Epoch 99/100
876/876 - 17s - loss: 0.1300 - accuracy: 0.9537 - val_loss: 2.5884 - val_accuracy: 0.5640 - lr: 0.0010 - 17s/epoch - 19ms/step
Epoch 100/100
876/876 - 17s - loss: 0.1272 - accuracy: 0.9552 - val_loss: 3.0140 - val_accuracy: 0.5164 - lr: 0.0010 - 17s/epoch - 19ms/step
Epoch 1/100
176/176 - 11s - loss: 0.0898 - accuracy: 0.9699 - val_loss: 3.0566 - val_accuracy: 0.5342 - lr: 0.0010 - 11s/epoch - 62ms/step
Epoch 2/100
176/176 - 9s - loss: 0.0773 - accuracy: 0.9747 - val_loss: 3.0940 - val_accuracy: 0.5497 - lr: 0.0010 - 9s/epoch - 49ms/step
Epoch 3/100
176/176 - 9s - loss: 0.0776 - accuracy: 0.9747 - val_loss: 3.2464 - val_accuracy: 0.5297 - lr: 0.0010 - 9s/epoch - 49ms/step
Epoch 4/100
176/176 - 9s - loss: 0.0765 - accuracy: 0.9749 - val_loss: 3.2748 - val_accuracy: 0.5433 - lr: 0.0010 - 9s/epoch - 49ms/step
Epoch 5/100
176/176 - 9s - loss: 0.0778 - accuracy: 0.9744 - val_loss: 3.3507 - val_accuracy: 0.5376 - lr: 0.0010 - 9s/epoch - 49ms/step
Epoch 6/100
176/176 - 9s - loss: 0.0730 - accuracy: 0.9755 - val_loss: 3.3941 - val_accuracy: 0.5483 - lr: 0.0010 - 9s/epoch - 49ms/step
Epoch 7/100
176/176 - 9s - loss: 0.0806 - accuracy: 0.9722 - val_loss: 3.5407 - val_accuracy: 0.5127 - lr: 0.0010 - 9s/epoch - 49ms/step
Epoch 8/100
176/176 - 9s - loss: 0.0812 - accuracy: 0.9730 - val_loss: 3.4050 - val_accuracy: 0.5351 - lr: 0.0010 - 9s/epoch - 49ms/step
Epoch 9/100
176/176 - 9s - loss: 0.0807 - accuracy: 0.9731 - val_loss: 3.4285 - val_accuracy: 0.5394 - lr: 0.0010 - 9s/epoch - 49ms/step
Epoch 10/100
176/176 - 9s - loss: 0.0820 - accuracy: 0.9727 - val_loss: 3.3538 - val_accuracy: 0.5434 - lr: 0.0010 - 9s/epoch - 49ms/step
Epoch 11/100
176/176 - 9s - loss: 0.0813 - accuracy: 0.9723 - val_loss: 3.3457 - val_accuracy: 0.5477 - lr: 0.0010 - 9s/epoch - 49ms/step
Epoch 12/100
176/176 - 9s - loss: 0.0765 - accuracy: 0.9741 - val_loss: 3.3377 - val_accuracy: 0.5608 - lr: 0.0010 - 9s/epoch - 49ms/step
Epoch 13/100
176/176 - 9s - loss: 0.0795 - accuracy: 0.9724 - val_loss: 3.5936 - val_accuracy: 0.5333 - lr: 0.0010 - 9s/epoch - 49ms/step
Epoch 14/100
176/176 - 9s - loss: 0.0837 - accuracy: 0.9722 - val_loss: 3.4000 - val_accuracy: 0.5383 - lr: 0.0010 - 9s/epoch - 49ms/step
Epoch 15/100
176/176 - 9s - loss: 0.0757 - accuracy: 0.9741 - val_loss: 3.4560 - val_accuracy: 0.5445 - lr: 0.0010 - 9s/epoch - 49ms/step
Epoch 16/100
176/176 - 9s - loss: 0.0811 - accuracy: 0.9728 - val_loss: 3.2991 - val_accuracy: 0.5555 - lr: 0.0010 - 9s/epoch - 49ms/step
Epoch 17/100
176/176 - 9s - loss: 0.0840 - accuracy: 0.9714 - val_loss: 3.3770 - val_accuracy: 0.5503 - lr: 0.0010 - 9s/epoch - 49ms/step
Epoch 18/100
176/176 - 9s - loss: 0.0805 - accuracy: 0.9731 - val_loss: 3.6237 - val_accuracy: 0.5259 - lr: 0.0010 - 9s/epoch - 49ms/step
Epoch 19/100
176/176 - 9s - loss: 0.0834 - accuracy: 0.9719 - val_loss: 3.4983 - val_accuracy: 0.5340 - lr: 0.0010 - 9s/epoch - 49ms/step
Epoch 20/100
176/176 - 9s - loss: 0.0840 - accuracy: 0.9716 - val_loss: 3.5458 - val_accuracy: 0.5296 - lr: 0.0010 - 9s/epoch - 49ms/step
Epoch 21/100
176/176 - 9s - loss: 0.0829 - accuracy: 0.9719 - val_loss: 3.4702 - val_accuracy: 0.5526 - lr: 0.0010 - 9s/epoch - 49ms/step
Epoch 22/100
176/176 - 9s - loss: 0.0816 - accuracy: 0.9724 - val_loss: 3.6567 - val_accuracy: 0.5242 - lr: 0.0010 - 9s/epoch - 49ms/step
Epoch 23/100
176/176 - 9s - loss: 0.0793 - accuracy: 0.9741 - val_loss: 3.4583 - val_accuracy: 0.5506 - lr: 0.0010 - 9s/epoch - 49ms/step
Epoch 24/100
176/176 - 9s - loss: 0.0738 - accuracy: 0.9750 - val_loss: 3.5741 - val_accuracy: 0.5411 - lr: 0.0010 - 9s/epoch - 49ms/step
Epoch 25/100
176/176 - 9s - loss: 0.0744 - accuracy: 0.9751 - val_loss: 3.5609 - val_accuracy: 0.5423 - lr: 0.0010 - 9s/epoch - 50ms/step
Epoch 26/100
176/176 - 9s - loss: 0.0756 - accuracy: 0.9750 - val_loss: 3.4708 - val_accuracy: 0.5508 - lr: 0.0010 - 9s/epoch - 48ms/step
Epoch 27/100
176/176 - 9s - loss: 0.0734 - accuracy: 0.9756 - val_loss: 3.6388 - val_accuracy: 0.5481 - lr: 0.0010 - 9s/epoch - 49ms/step
Epoch 28/100
176/176 - 9s - loss: 0.0775 - accuracy: 0.9745 - val_loss: 3.5905 - val_accuracy: 0.5527 - lr: 0.0010 - 9s/epoch - 49ms/step
Epoch 29/100
176/176 - 9s - loss: 0.0746 - accuracy: 0.9748 - val_loss: 3.5975 - val_accuracy: 0.5462 - lr: 0.0010 - 9s/epoch - 49ms/step
Epoch 30/100
176/176 - 9s - loss: 0.0764 - accuracy: 0.9750 - val_loss: 3.4551 - val_accuracy: 0.5548 - lr: 0.0010 - 9s/epoch - 49ms/step
Epoch 31/100
176/176 - 9s - loss: 0.0728 - accuracy: 0.9761 - val_loss: 3.5748 - val_accuracy: 0.5403 - lr: 0.0010 - 9s/epoch - 49ms/step
Epoch 32/100
176/176 - 9s - loss: 0.0723 - accuracy: 0.9759 - val_loss: 3.8009 - val_accuracy: 0.5276 - lr: 0.0010 - 9s/epoch - 49ms/step
Epoch 33/100
176/176 - 9s - loss: 0.0722 - accuracy: 0.9758 - val_loss: 3.6979 - val_accuracy: 0.5348 - lr: 0.0010 - 9s/epoch - 49ms/step
Epoch 34/100
176/176 - 9s - loss: 0.0666 - accuracy: 0.9784 - val_loss: 3.5941 - val_accuracy: 0.5444 - lr: 0.0010 - 9s/epoch - 49ms/step
Epoch 35/100
176/176 - 9s - loss: 0.0689 - accuracy: 0.9772 - val_loss: 3.6291 - val_accuracy: 0.5362 - lr: 0.0010 - 9s/epoch - 49ms/step
Epoch 36/100
176/176 - 9s - loss: 0.0715 - accuracy: 0.9765 - val_loss: 3.8504 - val_accuracy: 0.5205 - lr: 0.0010 - 9s/epoch - 49ms/step
Epoch 37/100
176/176 - 9s - loss: 0.0731 - accuracy: 0.9756 - val_loss: 3.4170 - val_accuracy: 0.5666 - lr: 0.0010 - 9s/epoch - 49ms/step
Epoch 38/100
176/176 - 9s - loss: 0.0685 - accuracy: 0.9773 - val_loss: 3.6546 - val_accuracy: 0.5407 - lr: 0.0010 - 9s/epoch - 49ms/step
Epoch 39/100
176/176 - 9s - loss: 0.0687 - accuracy: 0.9776 - val_loss: 3.6024 - val_accuracy: 0.5397 - lr: 0.0010 - 9s/epoch - 49ms/step
Epoch 40/100
176/176 - 9s - loss: 0.0735 - accuracy: 0.9750 - val_loss: 3.5528 - val_accuracy: 0.5548 - lr: 0.0010 - 9s/epoch - 49ms/step
Epoch 41/100
176/176 - 9s - loss: 0.0742 - accuracy: 0.9742 - val_loss: 3.6760 - val_accuracy: 0.5429 - lr: 0.0010 - 9s/epoch - 49ms/step
Epoch 42/100
176/176 - 9s - loss: 0.0752 - accuracy: 0.9750 - val_loss: 3.5020 - val_accuracy: 0.5578 - lr: 0.0010 - 9s/epoch - 49ms/step
Epoch 43/100
176/176 - 9s - loss: 0.0745 - accuracy: 0.9750 - val_loss: 3.5489 - val_accuracy: 0.5450 - lr: 0.0010 - 9s/epoch - 49ms/step
Epoch 44/100
176/176 - 9s - loss: 0.0732 - accuracy: 0.9761 - val_loss: 3.4994 - val_accuracy: 0.5507 - lr: 0.0010 - 9s/epoch - 49ms/step
Epoch 45/100
176/176 - 9s - loss: 0.0769 - accuracy: 0.9739 - val_loss: 3.5551 - val_accuracy: 0.5465 - lr: 0.0010 - 9s/epoch - 49ms/step
Epoch 46/100
176/176 - 9s - loss: 0.0769 - accuracy: 0.9734 - val_loss: 3.5342 - val_accuracy: 0.5530 - lr: 0.0010 - 9s/epoch - 49ms/step
Epoch 47/100
176/176 - 9s - loss: 0.0796 - accuracy: 0.9727 - val_loss: 3.5801 - val_accuracy: 0.5462 - lr: 0.0010 - 9s/epoch - 49ms/step
Epoch 48/100
176/176 - 9s - loss: 0.0743 - accuracy: 0.9753 - val_loss: 3.4916 - val_accuracy: 0.5499 - lr: 0.0010 - 9s/epoch - 49ms/step
Epoch 49/100
176/176 - 9s - loss: 0.0754 - accuracy: 0.9751 - val_loss: 3.5902 - val_accuracy: 0.5365 - lr: 0.0010 - 9s/epoch - 49ms/step
Epoch 50/100
176/176 - 9s - loss: 0.0755 - accuracy: 0.9745 - val_loss: 3.6691 - val_accuracy: 0.5329 - lr: 0.0010 - 9s/epoch - 49ms/step
Epoch 51/100
176/176 - 9s - loss: 0.0745 - accuracy: 0.9753 - val_loss: 3.7816 - val_accuracy: 0.5206 - lr: 0.0010 - 9s/epoch - 49ms/step
Epoch 52/100
176/176 - 9s - loss: 0.0735 - accuracy: 0.9755 - val_loss: 3.4841 - val_accuracy: 0.5579 - lr: 0.0010 - 9s/epoch - 49ms/step
Epoch 53/100
176/176 - 9s - loss: 0.0759 - accuracy: 0.9742 - val_loss: 3.6885 - val_accuracy: 0.5307 - lr: 0.0010 - 9s/epoch - 49ms/step
Epoch 54/100
176/176 - 9s - loss: 0.0754 - accuracy: 0.9749 - val_loss: 3.6093 - val_accuracy: 0.5418 - lr: 0.0010 - 9s/epoch - 49ms/step
Epoch 55/100
176/176 - 9s - loss: 0.0712 - accuracy: 0.9764 - val_loss: 3.4302 - val_accuracy: 0.5634 - lr: 0.0010 - 9s/epoch - 49ms/step
Epoch 56/100
176/176 - 9s - loss: 0.0759 - accuracy: 0.9742 - val_loss: 3.6934 - val_accuracy: 0.5322 - lr: 0.0010 - 9s/epoch - 49ms/step
Epoch 57/100
176/176 - 9s - loss: 0.0732 - accuracy: 0.9751 - val_loss: 3.6727 - val_accuracy: 0.5377 - lr: 0.0010 - 9s/epoch - 49ms/step
Epoch 58/100
176/176 - 9s - loss: 0.0734 - accuracy: 0.9752 - val_loss: 3.7468 - val_accuracy: 0.5346 - lr: 0.0010 - 9s/epoch - 49ms/step
Epoch 59/100
176/176 - 9s - loss: 0.0759 - accuracy: 0.9742 - val_loss: 3.6070 - val_accuracy: 0.5457 - lr: 0.0010 - 9s/epoch - 49ms/step
Epoch 60/100
176/176 - 9s - loss: 0.0755 - accuracy: 0.9743 - val_loss: 3.6122 - val_accuracy: 0.5436 - lr: 0.0010 - 9s/epoch - 49ms/step
Epoch 61/100
176/176 - 9s - loss: 0.0748 - accuracy: 0.9743 - val_loss: 3.4994 - val_accuracy: 0.5447 - lr: 0.0010 - 9s/epoch - 49ms/step
Epoch 62/100
176/176 - 9s - loss: 0.0740 - accuracy: 0.9757 - val_loss: 3.6852 - val_accuracy: 0.5302 - lr: 0.0010 - 9s/epoch - 49ms/step
Epoch 63/100
176/176 - 9s - loss: 0.0707 - accuracy: 0.9766 - val_loss: 3.7577 - val_accuracy: 0.5252 - lr: 0.0010 - 9s/epoch - 49ms/step
Epoch 64/100
176/176 - 9s - loss: 0.0735 - accuracy: 0.9754 - val_loss: 3.6166 - val_accuracy: 0.5418 - lr: 0.0010 - 9s/epoch - 49ms/step
Epoch 65/100
176/176 - 9s - loss: 0.0750 - accuracy: 0.9748 - val_loss: 3.5010 - val_accuracy: 0.5494 - lr: 0.0010 - 9s/epoch - 49ms/step
Epoch 66/100
176/176 - 9s - loss: 0.0748 - accuracy: 0.9749 - val_loss: 3.4449 - val_accuracy: 0.5576 - lr: 0.0010 - 9s/epoch - 49ms/step
Epoch 67/100
176/176 - 9s - loss: 0.0731 - accuracy: 0.9753 - val_loss: 3.3729 - val_accuracy: 0.5615 - lr: 0.0010 - 9s/epoch - 49ms/step
Epoch 68/100
176/176 - 9s - loss: 0.0772 - accuracy: 0.9746 - val_loss: 3.3215 - val_accuracy: 0.5645 - lr: 0.0010 - 9s/epoch - 49ms/step
Epoch 69/100
176/176 - 9s - loss: 0.0752 - accuracy: 0.9748 - val_loss: 3.5446 - val_accuracy: 0.5451 - lr: 0.0010 - 9s/epoch - 49ms/step
Epoch 70/100
176/176 - 9s - loss: 0.0754 - accuracy: 0.9744 - val_loss: 3.6786 - val_accuracy: 0.5246 - lr: 0.0010 - 9s/epoch - 49ms/step
Epoch 71/100
176/176 - 9s - loss: 0.0728 - accuracy: 0.9751 - val_loss: 3.6180 - val_accuracy: 0.5372 - lr: 0.0010 - 9s/epoch - 49ms/step
Epoch 72/100
176/176 - 9s - loss: 0.0734 - accuracy: 0.9751 - val_loss: 3.5361 - val_accuracy: 0.5462 - lr: 0.0010 - 9s/epoch - 49ms/step
Epoch 73/100
176/176 - 9s - loss: 0.0751 - accuracy: 0.9752 - val_loss: 3.7020 - val_accuracy: 0.5280 - lr: 0.0010 - 9s/epoch - 49ms/step
Epoch 74/100
176/176 - 9s - loss: 0.0756 - accuracy: 0.9744 - val_loss: 3.4571 - val_accuracy: 0.5514 - lr: 0.0010 - 9s/epoch - 49ms/step
Epoch 75/100
176/176 - 9s - loss: 0.0715 - accuracy: 0.9760 - val_loss: 3.4124 - val_accuracy: 0.5553 - lr: 0.0010 - 9s/epoch - 49ms/step
Epoch 76/100
176/176 - 9s - loss: 0.0705 - accuracy: 0.9764 - val_loss: 3.5359 - val_accuracy: 0.5498 - lr: 0.0010 - 9s/epoch - 49ms/step
Epoch 77/100
176/176 - 9s - loss: 0.0750 - accuracy: 0.9752 - val_loss: 3.6683 - val_accuracy: 0.5385 - lr: 0.0010 - 9s/epoch - 49ms/step
Epoch 78/100
176/176 - 9s - loss: 0.0728 - accuracy: 0.9751 - val_loss: 3.6082 - val_accuracy: 0.5445 - lr: 0.0010 - 9s/epoch - 49ms/step
Epoch 79/100
176/176 - 9s - loss: 0.0772 - accuracy: 0.9743 - val_loss: 3.5139 - val_accuracy: 0.5402 - lr: 0.0010 - 9s/epoch - 49ms/step
Epoch 80/100
176/176 - 9s - loss: 0.0742 - accuracy: 0.9752 - val_loss: 3.5867 - val_accuracy: 0.5394 - lr: 0.0010 - 9s/epoch - 49ms/step
Epoch 81/100
176/176 - 9s - loss: 0.0731 - accuracy: 0.9761 - val_loss: 3.5144 - val_accuracy: 0.5495 - lr: 0.0010 - 9s/epoch - 49ms/step
Epoch 82/100
176/176 - 9s - loss: 0.0695 - accuracy: 0.9766 - val_loss: 3.7395 - val_accuracy: 0.5349 - lr: 0.0010 - 9s/epoch - 49ms/step
Epoch 83/100
176/176 - 9s - loss: 0.0727 - accuracy: 0.9762 - val_loss: 3.6800 - val_accuracy: 0.5361 - lr: 0.0010 - 9s/epoch - 49ms/step
Epoch 84/100
176/176 - 9s - loss: 0.0727 - accuracy: 0.9756 - val_loss: 3.6321 - val_accuracy: 0.5354 - lr: 0.0010 - 9s/epoch - 49ms/step
Epoch 85/100
176/176 - 9s - loss: 0.0743 - accuracy: 0.9751 - val_loss: 3.5600 - val_accuracy: 0.5461 - lr: 0.0010 - 9s/epoch - 49ms/step
Epoch 86/100
176/176 - 9s - loss: 0.0754 - accuracy: 0.9748 - val_loss: 3.6438 - val_accuracy: 0.5430 - lr: 0.0010 - 9s/epoch - 49ms/step
Epoch 87/100
176/176 - 9s - loss: 0.0730 - accuracy: 0.9756 - val_loss: 3.7666 - val_accuracy: 0.5235 - lr: 0.0010 - 9s/epoch - 49ms/step
Epoch 88/100
176/176 - 9s - loss: 0.0711 - accuracy: 0.9762 - val_loss: 3.5792 - val_accuracy: 0.5470 - lr: 0.0010 - 9s/epoch - 49ms/step
Epoch 89/100
176/176 - 9s - loss: 0.0731 - accuracy: 0.9762 - val_loss: 3.7010 - val_accuracy: 0.5350 - lr: 0.0010 - 9s/epoch - 48ms/step
Epoch 90/100
176/176 - 9s - loss: 0.0742 - accuracy: 0.9756 - val_loss: 3.4065 - val_accuracy: 0.5671 - lr: 0.0010 - 9s/epoch - 48ms/step
Epoch 91/100
176/176 - 9s - loss: 0.0730 - accuracy: 0.9760 - val_loss: 3.4856 - val_accuracy: 0.5614 - lr: 0.0010 - 9s/epoch - 49ms/step
Epoch 92/100
176/176 - 9s - loss: 0.0754 - accuracy: 0.9751 - val_loss: 3.4240 - val_accuracy: 0.5645 - lr: 0.0010 - 9s/epoch - 49ms/step
Epoch 93/100
176/176 - 9s - loss: 0.0664 - accuracy: 0.9781 - val_loss: 3.7071 - val_accuracy: 0.5401 - lr: 0.0010 - 9s/epoch - 49ms/step
Epoch 94/100
176/176 - 9s - loss: 0.0660 - accuracy: 0.9781 - val_loss: 3.7276 - val_accuracy: 0.5339 - lr: 0.0010 - 9s/epoch - 49ms/step
Epoch 95/100
176/176 - 9s - loss: 0.0647 - accuracy: 0.9791 - val_loss: 3.7431 - val_accuracy: 0.5344 - lr: 0.0010 - 9s/epoch - 49ms/step
Epoch 96/100
176/176 - 9s - loss: 0.0670 - accuracy: 0.9780 - val_loss: 3.5441 - val_accuracy: 0.5578 - lr: 0.0010 - 9s/epoch - 49ms/step
Epoch 97/100
176/176 - 9s - loss: 0.0694 - accuracy: 0.9761 - val_loss: 3.7213 - val_accuracy: 0.5428 - lr: 0.0010 - 9s/epoch - 49ms/step
Epoch 98/100
176/176 - 9s - loss: 0.0725 - accuracy: 0.9757 - val_loss: 3.8110 - val_accuracy: 0.5304 - lr: 0.0010 - 9s/epoch - 49ms/step
Epoch 99/100
176/176 - 9s - loss: 0.0749 - accuracy: 0.9750 - val_loss: 3.5474 - val_accuracy: 0.5433 - lr: 0.0010 - 9s/epoch - 49ms/step
Epoch 100/100
176/176 - 9s - loss: 0.0741 - accuracy: 0.9756 - val_loss: 3.7647 - val_accuracy: 0.5225 - lr: 0.0010 - 9s/epoch - 49ms/step
Epoch 1/100
