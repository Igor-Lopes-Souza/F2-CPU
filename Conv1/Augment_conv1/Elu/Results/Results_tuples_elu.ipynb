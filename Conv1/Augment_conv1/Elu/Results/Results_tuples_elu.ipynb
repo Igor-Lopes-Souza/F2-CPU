Epoch 1/25
4378/4378 - 106s - loss: 1.0238 - accuracy: 0.5962 - val_loss: 0.9071 - val_accuracy: 0.6041 - lr: 0.0010 - 106s/epoch - 24ms/step
Epoch 2/25
4378/4378 - 71s - loss: 0.8694 - accuracy: 0.6687 - val_loss: 0.9281 - val_accuracy: 0.6300 - lr: 0.0010 - 71s/epoch - 16ms/step
Epoch 3/25
4378/4378 - 71s - loss: 0.8308 - accuracy: 0.6843 - val_loss: 0.8443 - val_accuracy: 0.6835 - lr: 0.0010 - 71s/epoch - 16ms/step
Epoch 4/25
4378/4378 - 70s - loss: 0.8091 - accuracy: 0.6950 - val_loss: 0.7638 - val_accuracy: 0.6972 - lr: 0.0010 - 70s/epoch - 16ms/step
Epoch 5/25
4378/4378 - 70s - loss: 0.7931 - accuracy: 0.6996 - val_loss: 0.7752 - val_accuracy: 0.6967 - lr: 0.0010 - 70s/epoch - 16ms/step
Epoch 6/25
4378/4378 - 70s - loss: 0.7806 - accuracy: 0.7054 - val_loss: 0.8418 - val_accuracy: 0.6747 - lr: 0.0010 - 70s/epoch - 16ms/step
Epoch 7/25
4378/4378 - 72s - loss: 0.7700 - accuracy: 0.7091 - val_loss: 0.7481 - val_accuracy: 0.7343 - lr: 0.0010 - 72s/epoch - 16ms/step
Epoch 8/25
4378/4378 - 71s - loss: 0.7600 - accuracy: 0.7129 - val_loss: 0.7338 - val_accuracy: 0.7452 - lr: 0.0010 - 71s/epoch - 16ms/step
Epoch 9/25
4378/4378 - 71s - loss: 0.7534 - accuracy: 0.7143 - val_loss: 0.6967 - val_accuracy: 0.7441 - lr: 0.0010 - 71s/epoch - 16ms/step
Epoch 10/25
4378/4378 - 71s - loss: 0.7460 - accuracy: 0.7185 - val_loss: 0.9133 - val_accuracy: 0.6642 - lr: 0.0010 - 71s/epoch - 16ms/step
Epoch 11/25
4378/4378 - 70s - loss: 0.7397 - accuracy: 0.7204 - val_loss: 0.7555 - val_accuracy: 0.7564 - lr: 0.0010 - 70s/epoch - 16ms/step
Epoch 12/25
4378/4378 - 71s - loss: 0.7333 - accuracy: 0.7233 - val_loss: 0.7617 - val_accuracy: 0.7466 - lr: 0.0010 - 71s/epoch - 16ms/step
Epoch 13/25
4378/4378 - 70s - loss: 0.7273 - accuracy: 0.7263 - val_loss: 0.6829 - val_accuracy: 0.7725 - lr: 0.0010 - 70s/epoch - 16ms/step
Epoch 14/25
4378/4378 - 71s - loss: 0.7215 - accuracy: 0.7283 - val_loss: 0.6902 - val_accuracy: 0.7681 - lr: 0.0010 - 71s/epoch - 16ms/step
Epoch 15/25
4378/4378 - 70s - loss: 0.7168 - accuracy: 0.7291 - val_loss: 0.6923 - val_accuracy: 0.7718 - lr: 0.0010 - 70s/epoch - 16ms/step
Epoch 16/25
4378/4378 - 70s - loss: 0.7117 - accuracy: 0.7329 - val_loss: 0.8782 - val_accuracy: 0.6842 - lr: 0.0010 - 70s/epoch - 16ms/step
Epoch 17/25
4378/4378 - 71s - loss: 0.7068 - accuracy: 0.7328 - val_loss: 0.6478 - val_accuracy: 0.7992 - lr: 0.0010 - 71s/epoch - 16ms/step
Epoch 18/25
4378/4378 - 70s - loss: 0.7013 - accuracy: 0.7348 - val_loss: 0.7272 - val_accuracy: 0.7662 - lr: 0.0010 - 70s/epoch - 16ms/step
Epoch 19/25
4378/4378 - 74s - loss: 0.6953 - accuracy: 0.7385 - val_loss: 0.7515 - val_accuracy: 0.7478 - lr: 0.0010 - 74s/epoch - 17ms/step
Epoch 20/25
4378/4378 - 71s - loss: 0.6924 - accuracy: 0.7401 - val_loss: 0.5222 - val_accuracy: 0.8588 - lr: 0.0010 - 71s/epoch - 16ms/step
Epoch 21/25
4378/4378 - 71s - loss: 0.6859 - accuracy: 0.7417 - val_loss: 0.8010 - val_accuracy: 0.7336 - lr: 0.0010 - 71s/epoch - 16ms/step
Epoch 22/25
4378/4378 - 71s - loss: 0.6809 - accuracy: 0.7438 - val_loss: 0.7749 - val_accuracy: 0.7443 - lr: 0.0010 - 71s/epoch - 16ms/step
Epoch 23/25
4378/4378 - 71s - loss: 0.6772 - accuracy: 0.7461 - val_loss: 0.6984 - val_accuracy: 0.7845 - lr: 0.0010 - 71s/epoch - 16ms/step
Epoch 24/25
4378/4378 - 71s - loss: 0.6726 - accuracy: 0.7473 - val_loss: 1.8697 - val_accuracy: 0.6071 - lr: 0.0010 - 71s/epoch - 16ms/step
Epoch 25/25
4378/4378 - 71s - loss: 0.6680 - accuracy: 0.7482 - val_loss: 5.9622 - val_accuracy: 0.1741 - lr: 0.0010 - 71s/epoch - 16ms/step
Epoch 1/25
876/876 - 21s - loss: 0.6251 - accuracy: 0.7654 - val_loss: 0.8904 - val_accuracy: 0.8076 - lr: 0.0010 - 21s/epoch - 24ms/step
Epoch 2/25
876/876 - 18s - loss: 0.6267 - accuracy: 0.7645 - val_loss: 0.5728 - val_accuracy: 0.8564 - lr: 0.0010 - 18s/epoch - 20ms/step
Epoch 3/25
876/876 - 18s - loss: 0.6215 - accuracy: 0.7669 - val_loss: 3.5577 - val_accuracy: 0.2516 - lr: 0.0010 - 18s/epoch - 20ms/step
Epoch 4/25
876/876 - 18s - loss: 0.6178 - accuracy: 0.7690 - val_loss: 2.4914 - val_accuracy: 0.3754 - lr: 0.0010 - 18s/epoch - 20ms/step
Epoch 5/25
876/876 - 18s - loss: 0.6112 - accuracy: 0.7700 - val_loss: 2.2420 - val_accuracy: 0.5617 - lr: 0.0010 - 18s/epoch - 20ms/step
Epoch 6/25
876/876 - 18s - loss: 0.6089 - accuracy: 0.7718 - val_loss: 0.7945 - val_accuracy: 0.8014 - lr: 0.0010 - 18s/epoch - 20ms/step
Epoch 7/25
876/876 - 18s - loss: 0.6027 - accuracy: 0.7735 - val_loss: 2.2369 - val_accuracy: 0.5194 - lr: 0.0010 - 18s/epoch - 20ms/step
Epoch 8/25
876/876 - 18s - loss: 0.5965 - accuracy: 0.7765 - val_loss: 7.8314 - val_accuracy: 0.1343 - lr: 0.0010 - 18s/epoch - 20ms/step
Epoch 9/25
876/876 - 18s - loss: 0.5947 - accuracy: 0.7777 - val_loss: 5.9101 - val_accuracy: 0.1847 - lr: 0.0010 - 18s/epoch - 20ms/step
Epoch 10/25
876/876 - 18s - loss: 0.5896 - accuracy: 0.7789 - val_loss: 5.1452 - val_accuracy: 0.1708 - lr: 0.0010 - 18s/epoch - 20ms/step
Epoch 11/25
876/876 - 18s - loss: 0.5859 - accuracy: 0.7807 - val_loss: 2.2021 - val_accuracy: 0.5122 - lr: 0.0010 - 18s/epoch - 20ms/step
Epoch 12/25
876/876 - 18s - loss: 0.5801 - accuracy: 0.7823 - val_loss: 1.7292 - val_accuracy: 0.5463 - lr: 0.0010 - 18s/epoch - 20ms/step
Epoch 13/25
876/876 - 18s - loss: 0.5788 - accuracy: 0.7840 - val_loss: 3.7456 - val_accuracy: 0.2964 - lr: 0.0010 - 18s/epoch - 20ms/step
Epoch 14/25
876/876 - 18s - loss: 0.5727 - accuracy: 0.7856 - val_loss: 1.3559 - val_accuracy: 0.6729 - lr: 0.0010 - 18s/epoch - 20ms/step
Epoch 15/25
876/876 - 18s - loss: 0.5702 - accuracy: 0.7864 - val_loss: 1.1032 - val_accuracy: 0.6549 - lr: 0.0010 - 18s/epoch - 20ms/step
Epoch 16/25
876/876 - 18s - loss: 0.5654 - accuracy: 0.7881 - val_loss: 2.7944 - val_accuracy: 0.4057 - lr: 0.0010 - 18s/epoch - 20ms/step
Epoch 17/25
876/876 - 18s - loss: 0.5610 - accuracy: 0.7889 - val_loss: 1.2978 - val_accuracy: 0.6356 - lr: 0.0010 - 18s/epoch - 20ms/step
Epoch 18/25
876/876 - 18s - loss: 0.5597 - accuracy: 0.7903 - val_loss: 4.3206 - val_accuracy: 0.2123 - lr: 0.0010 - 18s/epoch - 20ms/step
Epoch 19/25
876/876 - 18s - loss: 0.5554 - accuracy: 0.7928 - val_loss: 3.0463 - val_accuracy: 0.4355 - lr: 0.0010 - 18s/epoch - 20ms/step
Epoch 20/25
876/876 - 18s - loss: 0.5512 - accuracy: 0.7940 - val_loss: 6.2035 - val_accuracy: 0.1843 - lr: 0.0010 - 18s/epoch - 20ms/step
Epoch 21/25
876/876 - 18s - loss: 0.5455 - accuracy: 0.7953 - val_loss: 6.4351 - val_accuracy: 0.1861 - lr: 0.0010 - 18s/epoch - 20ms/step
Epoch 22/25
876/876 - 18s - loss: 0.5438 - accuracy: 0.7964 - val_loss: 7.6876 - val_accuracy: 0.2031 - lr: 0.0010 - 18s/epoch - 20ms/step
Epoch 23/25
876/876 - 18s - loss: 0.5407 - accuracy: 0.7968 - val_loss: 2.2841 - val_accuracy: 0.4715 - lr: 0.0010 - 18s/epoch - 20ms/step
Epoch 24/25
876/876 - 18s - loss: 0.5361 - accuracy: 0.7994 - val_loss: 3.4249 - val_accuracy: 0.3028 - lr: 0.0010 - 18s/epoch - 20ms/step
Epoch 25/25
876/876 - 18s - loss: 0.5337 - accuracy: 0.7998 - val_loss: 9.1249 - val_accuracy: 0.1588 - lr: 0.0010 - 18s/epoch - 20ms/step
Epoch 1/25
176/176 - 12s - loss: 0.4938 - accuracy: 0.8177 - val_loss: 7.7603 - val_accuracy: 0.1599 - lr: 0.0010 - 12s/epoch - 69ms/step
Epoch 2/25
176/176 - 9s - loss: 0.4879 - accuracy: 0.8196 - val_loss: 5.7739 - val_accuracy: 0.2255 - lr: 0.0010 - 9s/epoch - 50ms/step
Epoch 3/25
176/176 - 9s - loss: 0.4835 - accuracy: 0.8207 - val_loss: 5.5510 - val_accuracy: 0.2409 - lr: 0.0010 - 9s/epoch - 50ms/step
Epoch 4/25
176/176 - 9s - loss: 0.4851 - accuracy: 0.8202 - val_loss: 5.9094 - val_accuracy: 0.2108 - lr: 0.0010 - 9s/epoch - 50ms/step
Epoch 5/25
176/176 - 9s - loss: 0.4830 - accuracy: 0.8211 - val_loss: 9.8335 - val_accuracy: 0.1480 - lr: 0.0010 - 9s/epoch - 50ms/step
Epoch 6/25
176/176 - 9s - loss: 0.4838 - accuracy: 0.8207 - val_loss: 13.5715 - val_accuracy: 0.1068 - lr: 0.0010 - 9s/epoch - 50ms/step
Epoch 7/25
176/176 - 9s - loss: 0.4793 - accuracy: 0.8217 - val_loss: 8.0034 - val_accuracy: 0.1727 - lr: 0.0010 - 9s/epoch - 50ms/step
Epoch 8/25
176/176 - 9s - loss: 0.4779 - accuracy: 0.8231 - val_loss: 11.3790 - val_accuracy: 0.1355 - lr: 0.0010 - 9s/epoch - 51ms/step
Epoch 9/25
176/176 - 9s - loss: 0.4753 - accuracy: 0.8233 - val_loss: 10.3142 - val_accuracy: 0.1278 - lr: 0.0010 - 9s/epoch - 50ms/step
Epoch 10/25
176/176 - 9s - loss: 0.4714 - accuracy: 0.8253 - val_loss: 12.4372 - val_accuracy: 0.1083 - lr: 0.0010 - 9s/epoch - 50ms/step
Epoch 11/25
176/176 - 9s - loss: 0.4676 - accuracy: 0.8280 - val_loss: 13.1504 - val_accuracy: 0.1063 - lr: 0.0010 - 9s/epoch - 50ms/step
Epoch 12/25
176/176 - 9s - loss: 0.4683 - accuracy: 0.8277 - val_loss: 9.8720 - val_accuracy: 0.1274 - lr: 0.0010 - 9s/epoch - 50ms/step
Epoch 13/25
176/176 - 9s - loss: 0.4635 - accuracy: 0.8290 - val_loss: 9.8845 - val_accuracy: 0.1435 - lr: 0.0010 - 9s/epoch - 50ms/step
Epoch 14/25
176/176 - 9s - loss: 0.4653 - accuracy: 0.8272 - val_loss: 9.0908 - val_accuracy: 0.1479 - lr: 0.0010 - 9s/epoch - 50ms/step
Epoch 15/25
176/176 - 9s - loss: 0.4625 - accuracy: 0.8280 - val_loss: 10.5173 - val_accuracy: 0.1143 - lr: 0.0010 - 9s/epoch - 50ms/step
Epoch 16/25
176/176 - 9s - loss: 0.4607 - accuracy: 0.8301 - val_loss: 12.4184 - val_accuracy: 0.1147 - lr: 0.0010 - 9s/epoch - 50ms/step
Epoch 17/25
176/176 - 9s - loss: 0.4586 - accuracy: 0.8299 - val_loss: 12.2841 - val_accuracy: 0.1120 - lr: 0.0010 - 9s/epoch - 50ms/step
Epoch 18/25
176/176 - 9s - loss: 0.4550 - accuracy: 0.8315 - val_loss: 14.7302 - val_accuracy: 0.1024 - lr: 0.0010 - 9s/epoch - 50ms/step
Epoch 19/25
176/176 - 9s - loss: 0.4508 - accuracy: 0.8335 - val_loss: 12.5848 - val_accuracy: 0.1119 - lr: 0.0010 - 9s/epoch - 50ms/step
Epoch 20/25
176/176 - 9s - loss: 0.4497 - accuracy: 0.8326 - val_loss: 11.4633 - val_accuracy: 0.1086 - lr: 0.0010 - 9s/epoch - 50ms/step
Epoch 21/25
176/176 - 9s - loss: 0.4522 - accuracy: 0.8336 - val_loss: 11.9542 - val_accuracy: 0.1182 - lr: 0.0010 - 9s/epoch - 50ms/step
Epoch 22/25
176/176 - 9s - loss: 0.4468 - accuracy: 0.8338 - val_loss: 13.5234 - val_accuracy: 0.1088 - lr: 0.0010 - 9s/epoch - 50ms/step
Epoch 23/25
176/176 - 9s - loss: 0.4462 - accuracy: 0.8352 - val_loss: 16.8020 - val_accuracy: 0.1096 - lr: 0.0010 - 9s/epoch - 50ms/step
Epoch 24/25
176/176 - 9s - loss: 0.4452 - accuracy: 0.8351 - val_loss: 10.7796 - val_accuracy: 0.1245 - lr: 0.0010 - 9s/epoch - 50ms/step
Epoch 25/25
176/176 - 9s - loss: 0.4447 - accuracy: 0.8353 - val_loss: 14.0614 - val_accuracy: 0.1089 - lr: 0.0010 - 9s/epoch - 50ms/step
Epoch 1/25
36/36 - 11s - loss: 0.4279 - accuracy: 0.8428 - val_loss: 15.8872 - val_accuracy: 0.1031 - lr: 0.0010 - 11s/epoch - 297ms/step
Epoch 2/25
36/36 - 8s - loss: 0.4218 - accuracy: 0.8462 - val_loss: 16.5200 - val_accuracy: 0.1019 - lr: 0.0010 - 8s/epoch - 212ms/step
Epoch 3/25
36/36 - 8s - loss: 0.4183 - accuracy: 0.8472 - val_loss: 16.0824 - val_accuracy: 0.1016 - lr: 0.0010 - 8s/epoch - 211ms/step
Epoch 4/25
36/36 - 8s - loss: 0.4180 - accuracy: 0.8484 - val_loss: 15.3821 - val_accuracy: 0.1086 - lr: 0.0010 - 8s/epoch - 211ms/step
Epoch 5/25
36/36 - 8s - loss: 0.4169 - accuracy: 0.8466 - val_loss: 18.2230 - val_accuracy: 0.0996 - lr: 0.0010 - 8s/epoch - 211ms/step
Epoch 6/25
36/36 - 8s - loss: 0.4149 - accuracy: 0.8494 - val_loss: 19.1886 - val_accuracy: 0.0958 - lr: 0.0010 - 8s/epoch - 213ms/step
Epoch 7/25
36/36 - 8s - loss: 0.4166 - accuracy: 0.8476 - val_loss: 19.1740 - val_accuracy: 0.0968 - lr: 0.0010 - 8s/epoch - 212ms/step
Epoch 8/25
36/36 - 8s - loss: 0.4146 - accuracy: 0.8482 - val_loss: 19.3376 - val_accuracy: 0.0966 - lr: 0.0010 - 8s/epoch - 212ms/step
Epoch 9/25
36/36 - 8s - loss: 0.4129 - accuracy: 0.8485 - val_loss: 18.8216 - val_accuracy: 0.0990 - lr: 0.0010 - 8s/epoch - 213ms/step
Epoch 10/25
36/36 - 8s - loss: 0.4127 - accuracy: 0.8479 - val_loss: 17.5075 - val_accuracy: 0.1002 - lr: 0.0010 - 8s/epoch - 216ms/step
Epoch 11/25
36/36 - 8s - loss: 0.4144 - accuracy: 0.8482 - val_loss: 19.2158 - val_accuracy: 0.0994 - lr: 0.0010 - 8s/epoch - 213ms/step
Epoch 12/25
36/36 - 8s - loss: 0.4141 - accuracy: 0.8485 - val_loss: 20.9811 - val_accuracy: 0.0979 - lr: 0.0010 - 8s/epoch - 212ms/step
Epoch 13/25
36/36 - 8s - loss: 0.4144 - accuracy: 0.8487 - val_loss: 20.1235 - val_accuracy: 0.0967 - lr: 0.0010 - 8s/epoch - 213ms/step
Epoch 14/25
36/36 - 8s - loss: 0.4133 - accuracy: 0.8471 - val_loss: 19.0777 - val_accuracy: 0.0997 - lr: 0.0010 - 8s/epoch - 212ms/step
Epoch 15/25
36/36 - 8s - loss: 0.4120 - accuracy: 0.8494 - val_loss: 19.3821 - val_accuracy: 0.0987 - lr: 0.0010 - 8s/epoch - 212ms/step
Epoch 16/25
36/36 - 8s - loss: 0.4103 - accuracy: 0.8503 - val_loss: 20.2698 - val_accuracy: 0.0981 - lr: 0.0010 - 8s/epoch - 212ms/step
Epoch 17/25
36/36 - 8s - loss: 0.4116 - accuracy: 0.8487 - val_loss: 21.4868 - val_accuracy: 0.0948 - lr: 0.0010 - 8s/epoch - 213ms/step
Epoch 18/25
36/36 - 8s - loss: 0.4106 - accuracy: 0.8492 - val_loss: 22.1577 - val_accuracy: 0.0943 - lr: 0.0010 - 8s/epoch - 212ms/step
Epoch 19/25
36/36 - 8s - loss: 0.4102 - accuracy: 0.8507 - val_loss: 22.2033 - val_accuracy: 0.0945 - lr: 0.0010 - 8s/epoch - 212ms/step
Epoch 20/25
36/36 - 8s - loss: 0.4105 - accuracy: 0.8496 - val_loss: 22.4996 - val_accuracy: 0.0933 - lr: 0.0010 - 8s/epoch - 212ms/step
Epoch 21/25
36/36 - 8s - loss: 0.4111 - accuracy: 0.8486 - val_loss: 20.9296 - val_accuracy: 0.0954 - lr: 0.0010 - 8s/epoch - 212ms/step
Epoch 22/25
36/36 - 8s - loss: 0.4115 - accuracy: 0.8495 - val_loss: 20.4887 - val_accuracy: 0.0964 - lr: 0.0010 - 8s/epoch - 213ms/step
Epoch 23/25
36/36 - 8s - loss: 0.4105 - accuracy: 0.8502 - val_loss: 20.1765 - val_accuracy: 0.0973 - lr: 0.0010 - 8s/epoch - 212ms/step
Epoch 24/25
36/36 - 8s - loss: 0.4081 - accuracy: 0.8507 - val_loss: 19.7695 - val_accuracy: 0.0974 - lr: 0.0010 - 8s/epoch - 213ms/step
Epoch 25/25
36/36 - 8s - loss: 0.4083 - accuracy: 0.8506 - val_loss: 20.5572 - val_accuracy: 0.0970 - lr: 0.0010 - 8s/epoch - 213ms/step
Epoch 1/50
4378/4378 - 73s - loss: 0.5514 - accuracy: 0.7928 - val_loss: 3.9131 - val_accuracy: 0.3211 - lr: 0.0010 - 73s/epoch - 17ms/step
Epoch 2/50
4378/4378 - 71s - loss: 0.5618 - accuracy: 0.7885 - val_loss: 12.8749 - val_accuracy: 0.1362 - lr: 0.0010 - 71s/epoch - 16ms/step
Epoch 3/50
4378/4378 - 71s - loss: 0.5599 - accuracy: 0.7895 - val_loss: 3.7916 - val_accuracy: 0.2839 - lr: 0.0010 - 71s/epoch - 16ms/step
Epoch 4/50
4378/4378 - 71s - loss: 0.5580 - accuracy: 0.7894 - val_loss: 2.3293 - val_accuracy: 0.4954 - lr: 0.0010 - 71s/epoch - 16ms/step
Epoch 5/50
4378/4378 - 71s - loss: 0.5571 - accuracy: 0.7911 - val_loss: 3.4603 - val_accuracy: 0.2723 - lr: 0.0010 - 71s/epoch - 16ms/step
Epoch 6/50
4378/4378 - 71s - loss: 0.5546 - accuracy: 0.7907 - val_loss: 3.7816 - val_accuracy: 0.3332 - lr: 0.0010 - 71s/epoch - 16ms/step
Epoch 7/50
4378/4378 - 71s - loss: 0.5520 - accuracy: 0.7926 - val_loss: 3.2217 - val_accuracy: 0.3538 - lr: 0.0010 - 71s/epoch - 16ms/step
Epoch 8/50
4378/4378 - 71s - loss: 0.5507 - accuracy: 0.7917 - val_loss: 3.4209 - val_accuracy: 0.4095 - lr: 0.0010 - 71s/epoch - 16ms/step
Epoch 9/50
4378/4378 - 71s - loss: 0.5472 - accuracy: 0.7947 - val_loss: 0.9940 - val_accuracy: 0.6432 - lr: 0.0010 - 71s/epoch - 16ms/step
Epoch 10/50
4378/4378 - 70s - loss: 0.5469 - accuracy: 0.7934 - val_loss: 5.7746 - val_accuracy: 0.3318 - lr: 0.0010 - 70s/epoch - 16ms/step
Epoch 11/50
4378/4378 - 71s - loss: 0.5449 - accuracy: 0.7960 - val_loss: 3.1886 - val_accuracy: 0.4353 - lr: 0.0010 - 71s/epoch - 16ms/step
Epoch 12/50
4378/4378 - 71s - loss: 0.5443 - accuracy: 0.7959 - val_loss: 2.6649 - val_accuracy: 0.4689 - lr: 0.0010 - 71s/epoch - 16ms/step
Epoch 13/50
4378/4378 - 70s - loss: 0.5385 - accuracy: 0.7991 - val_loss: 9.0794 - val_accuracy: 0.1332 - lr: 0.0010 - 70s/epoch - 16ms/step
Epoch 14/50
4378/4378 - 71s - loss: 0.5384 - accuracy: 0.7978 - val_loss: 0.9396 - val_accuracy: 0.6305 - lr: 0.0010 - 71s/epoch - 16ms/step
Epoch 15/50
4378/4378 - 71s - loss: 0.5371 - accuracy: 0.7981 - val_loss: 11.4393 - val_accuracy: 0.1259 - lr: 0.0010 - 71s/epoch - 16ms/step
Epoch 16/50
4378/4378 - 70s - loss: 0.5317 - accuracy: 0.7996 - val_loss: 1.5369 - val_accuracy: 0.5473 - lr: 0.0010 - 70s/epoch - 16ms/step
Epoch 17/50
4378/4378 - 71s - loss: 0.5328 - accuracy: 0.8000 - val_loss: 0.8695 - val_accuracy: 0.6621 - lr: 0.0010 - 71s/epoch - 16ms/step
Epoch 18/50
4378/4378 - 70s - loss: 0.5285 - accuracy: 0.8017 - val_loss: 10.5885 - val_accuracy: 0.1327 - lr: 0.0010 - 70s/epoch - 16ms/step
Epoch 19/50
4378/4378 - 71s - loss: 0.5258 - accuracy: 0.8012 - val_loss: 3.1303 - val_accuracy: 0.4162 - lr: 0.0010 - 71s/epoch - 16ms/step
Epoch 20/50
4378/4378 - 71s - loss: 0.5247 - accuracy: 0.8039 - val_loss: 1.0768 - val_accuracy: 0.6304 - lr: 0.0010 - 71s/epoch - 16ms/step
Epoch 21/50
4378/4378 - 71s - loss: 0.5221 - accuracy: 0.8040 - val_loss: 2.6362 - val_accuracy: 0.4500 - lr: 0.0010 - 71s/epoch - 16ms/step
Epoch 22/50
4378/4378 - 75s - loss: 0.5208 - accuracy: 0.8038 - val_loss: 2.5941 - val_accuracy: 0.3870 - lr: 0.0010 - 75s/epoch - 17ms/step
Epoch 23/50
4378/4378 - 74s - loss: 0.5185 - accuracy: 0.8053 - val_loss: 1.9026 - val_accuracy: 0.4662 - lr: 0.0010 - 74s/epoch - 17ms/step
Epoch 24/50
4378/4378 - 72s - loss: 0.5163 - accuracy: 0.8059 - val_loss: 0.8819 - val_accuracy: 0.6746 - lr: 0.0010 - 72s/epoch - 16ms/step
Epoch 25/50
4378/4378 - 72s - loss: 0.5138 - accuracy: 0.8073 - val_loss: 1.4576 - val_accuracy: 0.5530 - lr: 0.0010 - 72s/epoch - 16ms/step
Epoch 26/50
4378/4378 - 72s - loss: 0.5111 - accuracy: 0.8086 - val_loss: 5.6509 - val_accuracy: 0.3713 - lr: 0.0010 - 72s/epoch - 16ms/step
Epoch 27/50
4378/4378 - 72s - loss: 0.5111 - accuracy: 0.8080 - val_loss: 2.1337 - val_accuracy: 0.4820 - lr: 0.0010 - 72s/epoch - 16ms/step
Epoch 28/50
4378/4378 - 72s - loss: 0.5102 - accuracy: 0.8091 - val_loss: 1.3320 - val_accuracy: 0.5713 - lr: 0.0010 - 72s/epoch - 16ms/step
Epoch 29/50
4378/4378 - 72s - loss: 0.5064 - accuracy: 0.8099 - val_loss: 2.7852 - val_accuracy: 0.4630 - lr: 0.0010 - 72s/epoch - 16ms/step
Epoch 30/50
4378/4378 - 72s - loss: 0.5066 - accuracy: 0.8096 - val_loss: 1.2872 - val_accuracy: 0.6096 - lr: 0.0010 - 72s/epoch - 16ms/step
Epoch 31/50
4378/4378 - 72s - loss: 0.5015 - accuracy: 0.8115 - val_loss: 0.8839 - val_accuracy: 0.6628 - lr: 0.0010 - 72s/epoch - 16ms/step
Epoch 32/50
4378/4378 - 72s - loss: 0.5000 - accuracy: 0.8121 - val_loss: 1.2959 - val_accuracy: 0.6297 - lr: 0.0010 - 72s/epoch - 16ms/step
Epoch 33/50
4378/4378 - 72s - loss: 0.5000 - accuracy: 0.8110 - val_loss: 1.0454 - val_accuracy: 0.6323 - lr: 0.0010 - 72s/epoch - 16ms/step
Epoch 34/50
4378/4378 - 72s - loss: 0.4958 - accuracy: 0.8128 - val_loss: 0.9127 - val_accuracy: 0.6705 - lr: 0.0010 - 72s/epoch - 16ms/step
Epoch 35/50
4378/4378 - 72s - loss: 0.4956 - accuracy: 0.8144 - val_loss: 5.3554 - val_accuracy: 0.3936 - lr: 0.0010 - 72s/epoch - 16ms/step
Epoch 36/50
4378/4378 - 73s - loss: 0.4937 - accuracy: 0.8150 - val_loss: 7.7902 - val_accuracy: 0.3155 - lr: 0.0010 - 73s/epoch - 17ms/step
Epoch 37/50
4378/4378 - 74s - loss: 0.4934 - accuracy: 0.8151 - val_loss: 1.9051 - val_accuracy: 0.5090 - lr: 0.0010 - 74s/epoch - 17ms/step
Epoch 38/50
4378/4378 - 71s - loss: 0.4911 - accuracy: 0.8147 - val_loss: 1.3690 - val_accuracy: 0.5888 - lr: 0.0010 - 71s/epoch - 16ms/step
Epoch 39/50
4378/4378 - 70s - loss: 0.4889 - accuracy: 0.8162 - val_loss: 0.9860 - val_accuracy: 0.6787 - lr: 0.0010 - 70s/epoch - 16ms/step
Epoch 40/50
4378/4378 - 71s - loss: 0.4891 - accuracy: 0.8173 - val_loss: 5.3967 - val_accuracy: 0.3769 - lr: 0.0010 - 71s/epoch - 16ms/step
Epoch 41/50
4378/4378 - 71s - loss: 0.4848 - accuracy: 0.8182 - val_loss: 1.0912 - val_accuracy: 0.6092 - lr: 0.0010 - 71s/epoch - 16ms/step
Epoch 42/50
4378/4378 - 71s - loss: 0.4831 - accuracy: 0.8204 - val_loss: 1.7306 - val_accuracy: 0.5576 - lr: 0.0010 - 71s/epoch - 16ms/step
Epoch 43/50
4378/4378 - 70s - loss: 0.4844 - accuracy: 0.8186 - val_loss: 2.3655 - val_accuracy: 0.4774 - lr: 0.0010 - 70s/epoch - 16ms/step
Epoch 44/50
4378/4378 - 71s - loss: 0.4812 - accuracy: 0.8202 - val_loss: 1.5407 - val_accuracy: 0.5429 - lr: 0.0010 - 71s/epoch - 16ms/step
Epoch 45/50
4378/4378 - 71s - loss: 0.4786 - accuracy: 0.8200 - val_loss: 1.2246 - val_accuracy: 0.6130 - lr: 0.0010 - 71s/epoch - 16ms/step
Epoch 46/50
4378/4378 - 71s - loss: 0.4780 - accuracy: 0.8212 - val_loss: 0.8805 - val_accuracy: 0.6975 - lr: 0.0010 - 71s/epoch - 16ms/step
Epoch 47/50
4378/4378 - 71s - loss: 0.4765 - accuracy: 0.8208 - val_loss: 5.6957 - val_accuracy: 0.3579 - lr: 0.0010 - 71s/epoch - 16ms/step
Epoch 48/50
4378/4378 - 71s - loss: 0.4767 - accuracy: 0.8209 - val_loss: 1.1246 - val_accuracy: 0.5841 - lr: 0.0010 - 71s/epoch - 16ms/step
Epoch 49/50
4378/4378 - 71s - loss: 0.4725 - accuracy: 0.8235 - val_loss: 2.1259 - val_accuracy: 0.5765 - lr: 0.0010 - 71s/epoch - 16ms/step
Epoch 50/50
4378/4378 - 71s - loss: 0.4722 - accuracy: 0.8226 - val_loss: 3.0477 - val_accuracy: 0.4718 - lr: 0.0010 - 71s/epoch - 16ms/step
Epoch 1/50
876/876 - 20s - loss: 0.3951 - accuracy: 0.8537 - val_loss: 2.9431 - val_accuracy: 0.4989 - lr: 0.0010 - 20s/epoch - 23ms/step
Epoch 2/50
876/876 - 18s - loss: 0.3987 - accuracy: 0.8518 - val_loss: 2.1836 - val_accuracy: 0.5332 - lr: 0.0010 - 18s/epoch - 20ms/step
Epoch 3/50
876/876 - 18s - loss: 0.3966 - accuracy: 0.8524 - val_loss: 1.7998 - val_accuracy: 0.5843 - lr: 0.0010 - 18s/epoch - 20ms/step
Epoch 4/50
876/876 - 18s - loss: 0.3912 - accuracy: 0.8551 - val_loss: 1.8182 - val_accuracy: 0.5319 - lr: 0.0010 - 18s/epoch - 20ms/step
Epoch 5/50
876/876 - 18s - loss: 0.3903 - accuracy: 0.8555 - val_loss: 2.4446 - val_accuracy: 0.5245 - lr: 0.0010 - 18s/epoch - 20ms/step
Epoch 6/50
876/876 - 18s - loss: 0.3833 - accuracy: 0.8584 - val_loss: 2.4051 - val_accuracy: 0.5433 - lr: 0.0010 - 18s/epoch - 20ms/step
Epoch 7/50
876/876 - 18s - loss: 0.3816 - accuracy: 0.8581 - val_loss: 2.9128 - val_accuracy: 0.5253 - lr: 0.0010 - 18s/epoch - 20ms/step
Epoch 8/50
876/876 - 18s - loss: 0.3789 - accuracy: 0.8588 - val_loss: 1.9123 - val_accuracy: 0.5843 - lr: 0.0010 - 18s/epoch - 20ms/step
Epoch 9/50
876/876 - 18s - loss: 0.3772 - accuracy: 0.8594 - val_loss: 2.0849 - val_accuracy: 0.5225 - lr: 0.0010 - 18s/epoch - 20ms/step
Epoch 10/50
876/876 - 18s - loss: 0.3745 - accuracy: 0.8607 - val_loss: 1.7637 - val_accuracy: 0.5789 - lr: 0.0010 - 18s/epoch - 20ms/step
Epoch 11/50
876/876 - 18s - loss: 0.3716 - accuracy: 0.8620 - val_loss: 1.2578 - val_accuracy: 0.5859 - lr: 0.0010 - 18s/epoch - 20ms/step
Epoch 12/50
876/876 - 18s - loss: 0.3704 - accuracy: 0.8633 - val_loss: 3.2229 - val_accuracy: 0.5067 - lr: 0.0010 - 18s/epoch - 20ms/step
Epoch 13/50
876/876 - 18s - loss: 0.3658 - accuracy: 0.8643 - val_loss: 1.5732 - val_accuracy: 0.6099 - lr: 0.0010 - 18s/epoch - 20ms/step
Epoch 14/50
876/876 - 18s - loss: 0.3650 - accuracy: 0.8646 - val_loss: 1.7124 - val_accuracy: 0.6142 - lr: 0.0010 - 18s/epoch - 20ms/step
Epoch 15/50
876/876 - 18s - loss: 0.3653 - accuracy: 0.8639 - val_loss: 1.8424 - val_accuracy: 0.5746 - lr: 0.0010 - 18s/epoch - 20ms/step
Epoch 16/50
876/876 - 18s - loss: 0.3607 - accuracy: 0.8660 - val_loss: 4.1983 - val_accuracy: 0.4755 - lr: 0.0010 - 18s/epoch - 20ms/step
Epoch 17/50
876/876 - 18s - loss: 0.3625 - accuracy: 0.8646 - val_loss: 2.5107 - val_accuracy: 0.5217 - lr: 0.0010 - 18s/epoch - 20ms/step
Epoch 18/50
876/876 - 18s - loss: 0.3577 - accuracy: 0.8674 - val_loss: 1.5810 - val_accuracy: 0.5724 - lr: 0.0010 - 18s/epoch - 20ms/step
Epoch 19/50
876/876 - 18s - loss: 0.3563 - accuracy: 0.8668 - val_loss: 4.9109 - val_accuracy: 0.4757 - lr: 0.0010 - 18s/epoch - 20ms/step
Epoch 20/50
876/876 - 18s - loss: 0.3551 - accuracy: 0.8675 - val_loss: 1.8538 - val_accuracy: 0.5679 - lr: 0.0010 - 18s/epoch - 20ms/step
Epoch 21/50
876/876 - 18s - loss: 0.3521 - accuracy: 0.8692 - val_loss: 2.4376 - val_accuracy: 0.5634 - lr: 0.0010 - 18s/epoch - 20ms/step
Epoch 22/50
876/876 - 18s - loss: 0.3542 - accuracy: 0.8680 - val_loss: 2.8231 - val_accuracy: 0.5074 - lr: 0.0010 - 18s/epoch - 20ms/step
Epoch 23/50
876/876 - 18s - loss: 0.3524 - accuracy: 0.8690 - val_loss: 5.5869 - val_accuracy: 0.3990 - lr: 0.0010 - 18s/epoch - 20ms/step
Epoch 24/50
876/876 - 18s - loss: 0.3492 - accuracy: 0.8706 - val_loss: 3.6034 - val_accuracy: 0.4681 - lr: 0.0010 - 18s/epoch - 20ms/step
Epoch 25/50
876/876 - 18s - loss: 0.3490 - accuracy: 0.8705 - val_loss: 7.3304 - val_accuracy: 0.3261 - lr: 0.0010 - 18s/epoch - 20ms/step
Epoch 26/50
876/876 - 18s - loss: 0.3470 - accuracy: 0.8718 - val_loss: 6.2029 - val_accuracy: 0.3497 - lr: 0.0010 - 18s/epoch - 20ms/step
Epoch 27/50
876/876 - 18s - loss: 0.3444 - accuracy: 0.8731 - val_loss: 1.9409 - val_accuracy: 0.5813 - lr: 0.0010 - 18s/epoch - 20ms/step
Epoch 28/50
876/876 - 18s - loss: 0.3466 - accuracy: 0.8723 - val_loss: 15.3871 - val_accuracy: 0.1776 - lr: 0.0010 - 18s/epoch - 20ms/step
Epoch 29/50
876/876 - 18s - loss: 0.3429 - accuracy: 0.8726 - val_loss: 5.4425 - val_accuracy: 0.4662 - lr: 0.0010 - 18s/epoch - 20ms/step
Epoch 30/50
876/876 - 18s - loss: 0.3437 - accuracy: 0.8711 - val_loss: 2.6686 - val_accuracy: 0.5455 - lr: 0.0010 - 18s/epoch - 20ms/step
Epoch 31/50
876/876 - 18s - loss: 0.3413 - accuracy: 0.8724 - val_loss: 2.4924 - val_accuracy: 0.5294 - lr: 0.0010 - 18s/epoch - 20ms/step
Epoch 32/50
876/876 - 18s - loss: 0.3372 - accuracy: 0.8747 - val_loss: 6.0655 - val_accuracy: 0.3791 - lr: 0.0010 - 18s/epoch - 20ms/step
Epoch 33/50
876/876 - 18s - loss: 0.3382 - accuracy: 0.8751 - val_loss: 6.5004 - val_accuracy: 0.3770 - lr: 0.0010 - 18s/epoch - 20ms/step
Epoch 34/50
876/876 - 18s - loss: 0.3386 - accuracy: 0.8734 - val_loss: 11.6039 - val_accuracy: 0.2041 - lr: 0.0010 - 18s/epoch - 20ms/step
Epoch 35/50
876/876 - 18s - loss: 0.3380 - accuracy: 0.8732 - val_loss: 2.3365 - val_accuracy: 0.5451 - lr: 0.0010 - 18s/epoch - 20ms/step
Epoch 36/50
876/876 - 18s - loss: 0.3377 - accuracy: 0.8734 - val_loss: 2.1501 - val_accuracy: 0.5474 - lr: 0.0010 - 18s/epoch - 20ms/step
Epoch 37/50
876/876 - 18s - loss: 0.3342 - accuracy: 0.8751 - val_loss: 8.2789 - val_accuracy: 0.3048 - lr: 0.0010 - 18s/epoch - 20ms/step
Epoch 38/50
876/876 - 18s - loss: 0.3321 - accuracy: 0.8761 - val_loss: 3.1423 - val_accuracy: 0.5018 - lr: 0.0010 - 18s/epoch - 20ms/step
Epoch 39/50
876/876 - 18s - loss: 0.3323 - accuracy: 0.8760 - val_loss: 7.9506 - val_accuracy: 0.3321 - lr: 0.0010 - 18s/epoch - 20ms/step
Epoch 40/50
876/876 - 18s - loss: 0.3312 - accuracy: 0.8787 - val_loss: 2.1653 - val_accuracy: 0.5309 - lr: 0.0010 - 18s/epoch - 20ms/step
Epoch 41/50
876/876 - 18s - loss: 0.3278 - accuracy: 0.8790 - val_loss: 6.3519 - val_accuracy: 0.4347 - lr: 0.0010 - 18s/epoch - 20ms/step
Epoch 42/50
876/876 - 18s - loss: 0.3309 - accuracy: 0.8765 - val_loss: 5.0845 - val_accuracy: 0.4424 - lr: 0.0010 - 18s/epoch - 20ms/step
Epoch 43/50
876/876 - 18s - loss: 0.3282 - accuracy: 0.8790 - val_loss: 10.6726 - val_accuracy: 0.2462 - lr: 0.0010 - 18s/epoch - 20ms/step
Epoch 44/50
876/876 - 18s - loss: 0.3277 - accuracy: 0.8779 - val_loss: 8.8304 - val_accuracy: 0.2865 - lr: 0.0010 - 18s/epoch - 20ms/step
Epoch 45/50
876/876 - 18s - loss: 0.3269 - accuracy: 0.8787 - val_loss: 12.2479 - val_accuracy: 0.2582 - lr: 0.0010 - 18s/epoch - 20ms/step
Epoch 46/50
876/876 - 18s - loss: 0.3256 - accuracy: 0.8798 - val_loss: 6.6888 - val_accuracy: 0.3916 - lr: 0.0010 - 18s/epoch - 20ms/step
Epoch 47/50
876/876 - 18s - loss: 0.3231 - accuracy: 0.8807 - val_loss: 2.4963 - val_accuracy: 0.5177 - lr: 0.0010 - 18s/epoch - 20ms/step
Epoch 48/50
876/876 - 18s - loss: 0.3230 - accuracy: 0.8801 - val_loss: 4.8546 - val_accuracy: 0.4478 - lr: 0.0010 - 18s/epoch - 20ms/step
Epoch 49/50
876/876 - 18s - loss: 0.3229 - accuracy: 0.8795 - val_loss: 6.2075 - val_accuracy: 0.4463 - lr: 0.0010 - 18s/epoch - 20ms/step
Epoch 50/50
876/876 - 18s - loss: 0.3229 - accuracy: 0.8795 - val_loss: 8.1217 - val_accuracy: 0.4155 - lr: 0.0010 - 18s/epoch - 20ms/step
Epoch 1/50
176/176 - 12s - loss: 0.2697 - accuracy: 0.9029 - val_loss: 8.6985 - val_accuracy: 0.3616 - lr: 0.0010 - 12s/epoch - 66ms/step
Epoch 2/50
176/176 - 9s - loss: 0.2550 - accuracy: 0.9081 - val_loss: 10.1784 - val_accuracy: 0.3298 - lr: 0.0010 - 9s/epoch - 50ms/step
Epoch 3/50
176/176 - 9s - loss: 0.2504 - accuracy: 0.9096 - val_loss: 6.6820 - val_accuracy: 0.4505 - lr: 0.0010 - 9s/epoch - 49ms/step
Epoch 4/50
176/176 - 9s - loss: 0.2521 - accuracy: 0.9084 - val_loss: 5.4493 - val_accuracy: 0.4628 - lr: 0.0010 - 9s/epoch - 49ms/step
Epoch 5/50
176/176 - 9s - loss: 0.2537 - accuracy: 0.9083 - val_loss: 7.2850 - val_accuracy: 0.4004 - lr: 0.0010 - 9s/epoch - 49ms/step
Epoch 6/50
176/176 - 9s - loss: 0.2577 - accuracy: 0.9073 - val_loss: 6.5138 - val_accuracy: 0.4644 - lr: 0.0010 - 9s/epoch - 50ms/step
Epoch 7/50
176/176 - 9s - loss: 0.2560 - accuracy: 0.9075 - val_loss: 9.5770 - val_accuracy: 0.2833 - lr: 0.0010 - 9s/epoch - 50ms/step
Epoch 8/50
176/176 - 9s - loss: 0.2532 - accuracy: 0.9076 - val_loss: 9.0072 - val_accuracy: 0.3247 - lr: 0.0010 - 9s/epoch - 50ms/step
Epoch 9/50
176/176 - 9s - loss: 0.2511 - accuracy: 0.9098 - val_loss: 11.0948 - val_accuracy: 0.3161 - lr: 0.0010 - 9s/epoch - 49ms/step
Epoch 10/50
176/176 - 9s - loss: 0.2551 - accuracy: 0.9073 - val_loss: 10.9096 - val_accuracy: 0.3383 - lr: 0.0010 - 9s/epoch - 50ms/step
Epoch 11/50
176/176 - 9s - loss: 0.2511 - accuracy: 0.9094 - val_loss: 8.6888 - val_accuracy: 0.4239 - lr: 0.0010 - 9s/epoch - 49ms/step
Epoch 12/50
176/176 - 9s - loss: 0.2496 - accuracy: 0.9096 - val_loss: 11.1768 - val_accuracy: 0.3125 - lr: 0.0010 - 9s/epoch - 50ms/step
Epoch 13/50
176/176 - 9s - loss: 0.2463 - accuracy: 0.9104 - val_loss: 5.9291 - val_accuracy: 0.4610 - lr: 0.0010 - 9s/epoch - 50ms/step
Epoch 14/50
176/176 - 9s - loss: 0.2466 - accuracy: 0.9103 - val_loss: 12.3486 - val_accuracy: 0.3321 - lr: 0.0010 - 9s/epoch - 50ms/step
Epoch 15/50
176/176 - 9s - loss: 0.2445 - accuracy: 0.9118 - val_loss: 5.8362 - val_accuracy: 0.4744 - lr: 0.0010 - 9s/epoch - 49ms/step
Epoch 16/50
176/176 - 9s - loss: 0.2455 - accuracy: 0.9108 - val_loss: 7.6648 - val_accuracy: 0.4492 - lr: 0.0010 - 9s/epoch - 49ms/step
Epoch 17/50
176/176 - 9s - loss: 0.2409 - accuracy: 0.9129 - val_loss: 9.8919 - val_accuracy: 0.3996 - lr: 0.0010 - 9s/epoch - 50ms/step
Epoch 18/50
176/176 - 9s - loss: 0.2425 - accuracy: 0.9123 - val_loss: 7.7519 - val_accuracy: 0.4370 - lr: 0.0010 - 9s/epoch - 49ms/step
Epoch 19/50
176/176 - 9s - loss: 0.2463 - accuracy: 0.9110 - val_loss: 8.6066 - val_accuracy: 0.4286 - lr: 0.0010 - 9s/epoch - 50ms/step
Epoch 20/50
176/176 - 9s - loss: 0.2414 - accuracy: 0.9123 - val_loss: 16.5286 - val_accuracy: 0.3011 - lr: 0.0010 - 9s/epoch - 50ms/step
Epoch 21/50
176/176 - 9s - loss: 0.2385 - accuracy: 0.9130 - val_loss: 10.7827 - val_accuracy: 0.4114 - lr: 0.0010 - 9s/epoch - 50ms/step
Epoch 22/50
176/176 - 9s - loss: 0.2364 - accuracy: 0.9140 - val_loss: 10.0635 - val_accuracy: 0.4001 - lr: 0.0010 - 9s/epoch - 50ms/step
Epoch 23/50
176/176 - 9s - loss: 0.2390 - accuracy: 0.9128 - val_loss: 8.0879 - val_accuracy: 0.4286 - lr: 0.0010 - 9s/epoch - 49ms/step
Epoch 24/50
176/176 - 9s - loss: 0.2405 - accuracy: 0.9127 - val_loss: 8.4649 - val_accuracy: 0.4259 - lr: 0.0010 - 9s/epoch - 50ms/step
Epoch 25/50
176/176 - 9s - loss: 0.2432 - accuracy: 0.9109 - val_loss: 6.2338 - val_accuracy: 0.4410 - lr: 0.0010 - 9s/epoch - 49ms/step
Epoch 26/50
176/176 - 9s - loss: 0.2423 - accuracy: 0.9112 - val_loss: 7.3048 - val_accuracy: 0.4381 - lr: 0.0010 - 9s/epoch - 50ms/step
Epoch 27/50
176/176 - 9s - loss: 0.2397 - accuracy: 0.9129 - val_loss: 14.2147 - val_accuracy: 0.3310 - lr: 0.0010 - 9s/epoch - 49ms/step
Epoch 28/50
176/176 - 9s - loss: 0.2339 - accuracy: 0.9151 - val_loss: 9.7896 - val_accuracy: 0.3785 - lr: 0.0010 - 9s/epoch - 49ms/step
Epoch 29/50
176/176 - 9s - loss: 0.2325 - accuracy: 0.9165 - val_loss: 9.3984 - val_accuracy: 0.3958 - lr: 0.0010 - 9s/epoch - 49ms/step
Epoch 30/50
176/176 - 9s - loss: 0.2314 - accuracy: 0.9160 - val_loss: 9.4653 - val_accuracy: 0.3988 - lr: 0.0010 - 9s/epoch - 50ms/step
Epoch 31/50
176/176 - 9s - loss: 0.2339 - accuracy: 0.9151 - val_loss: 11.0134 - val_accuracy: 0.3830 - lr: 0.0010 - 9s/epoch - 50ms/step
Epoch 32/50
176/176 - 9s - loss: 0.2302 - accuracy: 0.9160 - val_loss: 6.8483 - val_accuracy: 0.4227 - lr: 0.0010 - 9s/epoch - 50ms/step
Epoch 33/50
176/176 - 9s - loss: 0.2276 - accuracy: 0.9178 - val_loss: 6.1732 - val_accuracy: 0.4505 - lr: 0.0010 - 9s/epoch - 50ms/step
Epoch 34/50
176/176 - 9s - loss: 0.2298 - accuracy: 0.9169 - val_loss: 6.7011 - val_accuracy: 0.4502 - lr: 0.0010 - 9s/epoch - 49ms/step
Epoch 35/50
176/176 - 9s - loss: 0.2299 - accuracy: 0.9162 - val_loss: 12.0676 - val_accuracy: 0.3553 - lr: 0.0010 - 9s/epoch - 50ms/step
Epoch 36/50
176/176 - 9s - loss: 0.2271 - accuracy: 0.9175 - val_loss: 7.1701 - val_accuracy: 0.4332 - lr: 0.0010 - 9s/epoch - 50ms/step
Epoch 37/50
176/176 - 9s - loss: 0.2268 - accuracy: 0.9176 - val_loss: 8.0253 - val_accuracy: 0.4181 - lr: 0.0010 - 9s/epoch - 50ms/step
Epoch 38/50
176/176 - 9s - loss: 0.2244 - accuracy: 0.9188 - val_loss: 7.9665 - val_accuracy: 0.4200 - lr: 0.0010 - 9s/epoch - 49ms/step
Epoch 39/50
176/176 - 9s - loss: 0.2279 - accuracy: 0.9170 - val_loss: 10.1612 - val_accuracy: 0.4020 - lr: 0.0010 - 9s/epoch - 50ms/step
Epoch 40/50
176/176 - 9s - loss: 0.2268 - accuracy: 0.9175 - val_loss: 14.4552 - val_accuracy: 0.3279 - lr: 0.0010 - 9s/epoch - 50ms/step
Epoch 41/50
176/176 - 9s - loss: 0.2276 - accuracy: 0.9174 - val_loss: 11.2686 - val_accuracy: 0.3328 - lr: 0.0010 - 9s/epoch - 50ms/step
Epoch 42/50
176/176 - 9s - loss: 0.2295 - accuracy: 0.9163 - val_loss: 7.1733 - val_accuracy: 0.4275 - lr: 0.0010 - 9s/epoch - 50ms/step
Epoch 43/50
176/176 - 9s - loss: 0.2295 - accuracy: 0.9162 - val_loss: 11.3905 - val_accuracy: 0.3541 - lr: 0.0010 - 9s/epoch - 50ms/step
Epoch 44/50
176/176 - 9s - loss: 0.2282 - accuracy: 0.9173 - val_loss: 7.0274 - val_accuracy: 0.4345 - lr: 0.0010 - 9s/epoch - 50ms/step
Epoch 45/50
176/176 - 9s - loss: 0.2289 - accuracy: 0.9163 - val_loss: 7.8624 - val_accuracy: 0.4143 - lr: 0.0010 - 9s/epoch - 50ms/step
Epoch 46/50
176/176 - 9s - loss: 0.2256 - accuracy: 0.9184 - val_loss: 13.5480 - val_accuracy: 0.3567 - lr: 0.0010 - 9s/epoch - 50ms/step
Epoch 47/50
176/176 - 9s - loss: 0.2217 - accuracy: 0.9203 - val_loss: 12.2414 - val_accuracy: 0.3775 - lr: 0.0010 - 9s/epoch - 50ms/step
Epoch 48/50
176/176 - 9s - loss: 0.2244 - accuracy: 0.9182 - val_loss: 6.3585 - val_accuracy: 0.4351 - lr: 0.0010 - 9s/epoch - 50ms/step
Epoch 49/50
176/176 - 9s - loss: 0.2216 - accuracy: 0.9200 - val_loss: 8.4602 - val_accuracy: 0.4064 - lr: 0.0010 - 9s/epoch - 50ms/step
Epoch 50/50
176/176 - 9s - loss: 0.2189 - accuracy: 0.9206 - val_loss: 7.1692 - val_accuracy: 0.4342 - lr: 0.0010 - 9s/epoch - 49ms/step
Epoch 1/50
36/36 - 10s - loss: 0.2048 - accuracy: 0.9263 - val_loss: 7.5068 - val_accuracy: 0.4187 - lr: 0.0010 - 10s/epoch - 277ms/step
Epoch 2/50
36/36 - 8s - loss: 0.1980 - accuracy: 0.9300 - val_loss: 8.9086 - val_accuracy: 0.4032 - lr: 0.0010 - 8s/epoch - 212ms/step
Epoch 3/50
36/36 - 8s - loss: 0.1934 - accuracy: 0.9318 - val_loss: 9.6061 - val_accuracy: 0.4044 - lr: 0.0010 - 8s/epoch - 212ms/step
Epoch 4/50
36/36 - 8s - loss: 0.1909 - accuracy: 0.9333 - val_loss: 9.9331 - val_accuracy: 0.4038 - lr: 0.0010 - 8s/epoch - 213ms/step
Epoch 5/50
36/36 - 8s - loss: 0.1890 - accuracy: 0.9341 - val_loss: 9.7070 - val_accuracy: 0.4096 - lr: 0.0010 - 8s/epoch - 212ms/step
Epoch 6/50
36/36 - 8s - loss: 0.1946 - accuracy: 0.9315 - val_loss: 10.9454 - val_accuracy: 0.3928 - lr: 0.0010 - 8s/epoch - 213ms/step
Epoch 7/50
36/36 - 8s - loss: 0.1923 - accuracy: 0.9320 - val_loss: 9.7321 - val_accuracy: 0.4049 - lr: 0.0010 - 8s/epoch - 213ms/step
Epoch 8/50
36/36 - 8s - loss: 0.1908 - accuracy: 0.9323 - val_loss: 10.3500 - val_accuracy: 0.3993 - lr: 0.0010 - 8s/epoch - 213ms/step
Epoch 9/50
36/36 - 8s - loss: 0.1913 - accuracy: 0.9320 - val_loss: 10.1831 - val_accuracy: 0.4041 - lr: 0.0010 - 8s/epoch - 213ms/step
Epoch 10/50
36/36 - 8s - loss: 0.1881 - accuracy: 0.9328 - val_loss: 10.2413 - val_accuracy: 0.4006 - lr: 0.0010 - 8s/epoch - 213ms/step
Epoch 11/50
36/36 - 8s - loss: 0.1923 - accuracy: 0.9324 - val_loss: 9.7036 - val_accuracy: 0.4055 - lr: 0.0010 - 8s/epoch - 213ms/step
Epoch 12/50
36/36 - 8s - loss: 0.1880 - accuracy: 0.9336 - val_loss: 9.2402 - val_accuracy: 0.4147 - lr: 0.0010 - 8s/epoch - 213ms/step
Epoch 13/50
36/36 - 8s - loss: 0.1898 - accuracy: 0.9322 - val_loss: 9.8609 - val_accuracy: 0.4004 - lr: 0.0010 - 8s/epoch - 213ms/step
Epoch 14/50
36/36 - 8s - loss: 0.1882 - accuracy: 0.9339 - val_loss: 10.3210 - val_accuracy: 0.4011 - lr: 0.0010 - 8s/epoch - 213ms/step
Epoch 15/50
36/36 - 8s - loss: 0.1871 - accuracy: 0.9348 - val_loss: 9.3278 - val_accuracy: 0.4089 - lr: 0.0010 - 8s/epoch - 213ms/step
Epoch 16/50
36/36 - 8s - loss: 0.1871 - accuracy: 0.9338 - val_loss: 9.0353 - val_accuracy: 0.4173 - lr: 0.0010 - 8s/epoch - 213ms/step
Epoch 17/50
36/36 - 8s - loss: 0.1902 - accuracy: 0.9330 - val_loss: 10.2536 - val_accuracy: 0.3980 - lr: 0.0010 - 8s/epoch - 213ms/step
Epoch 18/50
36/36 - 8s - loss: 0.1864 - accuracy: 0.9339 - val_loss: 9.5545 - val_accuracy: 0.4077 - lr: 0.0010 - 8s/epoch - 213ms/step
Epoch 19/50
36/36 - 8s - loss: 0.1884 - accuracy: 0.9338 - val_loss: 11.1459 - val_accuracy: 0.3862 - lr: 0.0010 - 8s/epoch - 213ms/step
Epoch 20/50
36/36 - 8s - loss: 0.1875 - accuracy: 0.9333 - val_loss: 11.5572 - val_accuracy: 0.3800 - lr: 0.0010 - 8s/epoch - 213ms/step
Epoch 21/50
36/36 - 8s - loss: 0.1875 - accuracy: 0.9333 - val_loss: 11.7421 - val_accuracy: 0.3808 - lr: 0.0010 - 8s/epoch - 213ms/step
Epoch 22/50
36/36 - 8s - loss: 0.1854 - accuracy: 0.9335 - val_loss: 12.0645 - val_accuracy: 0.3787 - lr: 0.0010 - 8s/epoch - 213ms/step
Epoch 23/50
36/36 - 8s - loss: 0.1878 - accuracy: 0.9331 - val_loss: 12.0264 - val_accuracy: 0.3808 - lr: 0.0010 - 8s/epoch - 213ms/step
Epoch 24/50
36/36 - 8s - loss: 0.1868 - accuracy: 0.9345 - val_loss: 12.0654 - val_accuracy: 0.3847 - lr: 0.0010 - 8s/epoch - 213ms/step
Epoch 25/50
36/36 - 8s - loss: 0.1858 - accuracy: 0.9341 - val_loss: 11.3933 - val_accuracy: 0.3895 - lr: 0.0010 - 8s/epoch - 213ms/step
Epoch 26/50
36/36 - 8s - loss: 0.1819 - accuracy: 0.9350 - val_loss: 10.8801 - val_accuracy: 0.3976 - lr: 0.0010 - 8s/epoch - 213ms/step
Epoch 27/50
36/36 - 8s - loss: 0.1872 - accuracy: 0.9340 - val_loss: 12.2154 - val_accuracy: 0.3768 - lr: 0.0010 - 8s/epoch - 214ms/step
Epoch 28/50
36/36 - 8s - loss: 0.1866 - accuracy: 0.9334 - val_loss: 11.2192 - val_accuracy: 0.3958 - lr: 0.0010 - 8s/epoch - 213ms/step
Epoch 29/50
36/36 - 8s - loss: 0.1864 - accuracy: 0.9340 - val_loss: 13.5234 - val_accuracy: 0.3669 - lr: 0.0010 - 8s/epoch - 213ms/step
Epoch 30/50
36/36 - 8s - loss: 0.1873 - accuracy: 0.9342 - val_loss: 13.7084 - val_accuracy: 0.3632 - lr: 0.0010 - 8s/epoch - 213ms/step
Epoch 31/50
36/36 - 8s - loss: 0.1871 - accuracy: 0.9336 - val_loss: 15.0765 - val_accuracy: 0.3436 - lr: 0.0010 - 8s/epoch - 213ms/step
Epoch 32/50
36/36 - 8s - loss: 0.1836 - accuracy: 0.9349 - val_loss: 15.6059 - val_accuracy: 0.3427 - lr: 0.0010 - 8s/epoch - 213ms/step
Epoch 33/50
36/36 - 8s - loss: 0.1863 - accuracy: 0.9343 - val_loss: 12.4802 - val_accuracy: 0.3859 - lr: 0.0010 - 8s/epoch - 213ms/step
Epoch 34/50
36/36 - 8s - loss: 0.1844 - accuracy: 0.9352 - val_loss: 12.2212 - val_accuracy: 0.3837 - lr: 0.0010 - 8s/epoch - 213ms/step
Epoch 35/50
36/36 - 8s - loss: 0.1834 - accuracy: 0.9358 - val_loss: 11.6975 - val_accuracy: 0.3942 - lr: 0.0010 - 8s/epoch - 215ms/step
Epoch 36/50
36/36 - 8s - loss: 0.1848 - accuracy: 0.9354 - val_loss: 12.0521 - val_accuracy: 0.3883 - lr: 0.0010 - 8s/epoch - 213ms/step
Epoch 37/50
36/36 - 8s - loss: 0.1805 - accuracy: 0.9360 - val_loss: 11.2658 - val_accuracy: 0.3935 - lr: 0.0010 - 8s/epoch - 213ms/step
Epoch 38/50
36/36 - 8s - loss: 0.1839 - accuracy: 0.9351 - val_loss: 12.9704 - val_accuracy: 0.3724 - lr: 0.0010 - 8s/epoch - 213ms/step
Epoch 39/50
36/36 - 8s - loss: 0.1846 - accuracy: 0.9345 - val_loss: 13.5439 - val_accuracy: 0.3708 - lr: 0.0010 - 8s/epoch - 213ms/step
Epoch 40/50
36/36 - 8s - loss: 0.1848 - accuracy: 0.9343 - val_loss: 11.6936 - val_accuracy: 0.3913 - lr: 0.0010 - 8s/epoch - 213ms/step
Epoch 41/50
36/36 - 8s - loss: 0.1839 - accuracy: 0.9349 - val_loss: 11.4335 - val_accuracy: 0.3970 - lr: 0.0010 - 8s/epoch - 213ms/step
Epoch 42/50
36/36 - 8s - loss: 0.1877 - accuracy: 0.9332 - val_loss: 10.2115 - val_accuracy: 0.3961 - lr: 0.0010 - 8s/epoch - 213ms/step
Epoch 43/50
36/36 - 8s - loss: 0.1847 - accuracy: 0.9348 - val_loss: 10.9305 - val_accuracy: 0.3934 - lr: 0.0010 - 8s/epoch - 213ms/step
Epoch 44/50
36/36 - 8s - loss: 0.1834 - accuracy: 0.9340 - val_loss: 11.2940 - val_accuracy: 0.3891 - lr: 0.0010 - 8s/epoch - 213ms/step
Epoch 45/50
36/36 - 8s - loss: 0.1841 - accuracy: 0.9343 - val_loss: 11.4438 - val_accuracy: 0.3893 - lr: 0.0010 - 8s/epoch - 213ms/step
Epoch 46/50
36/36 - 8s - loss: 0.1857 - accuracy: 0.9343 - val_loss: 12.2646 - val_accuracy: 0.3821 - lr: 0.0010 - 8s/epoch - 213ms/step
Epoch 47/50
36/36 - 8s - loss: 0.1831 - accuracy: 0.9356 - val_loss: 12.6535 - val_accuracy: 0.3731 - lr: 0.0010 - 8s/epoch - 213ms/step
Epoch 48/50
36/36 - 8s - loss: 0.1851 - accuracy: 0.9350 - val_loss: 11.6450 - val_accuracy: 0.3914 - lr: 0.0010 - 8s/epoch - 213ms/step
Epoch 49/50
36/36 - 8s - loss: 0.1804 - accuracy: 0.9360 - val_loss: 11.8039 - val_accuracy: 0.3913 - lr: 0.0010 - 8s/epoch - 213ms/step
Epoch 50/50
36/36 - 8s - loss: 0.1805 - accuracy: 0.9360 - val_loss: 11.2172 - val_accuracy: 0.3926 - lr: 0.0010 - 8s/epoch - 213ms/step
Epoch 1/75
4378/4378 - 74s - loss: 0.3958 - accuracy: 0.8528 - val_loss: 4.6114 - val_accuracy: 0.4382 - lr: 0.0010 - 74s/epoch - 17ms/step
Epoch 2/75
4378/4378 - 71s - loss: 0.4108 - accuracy: 0.8458 - val_loss: 3.5110 - val_accuracy: 0.4942 - lr: 0.0010 - 71s/epoch - 16ms/step
Epoch 3/75
4378/4378 - 72s - loss: 0.4113 - accuracy: 0.8462 - val_loss: 17.7308 - val_accuracy: 0.1420 - lr: 0.0010 - 72s/epoch - 16ms/step
Epoch 4/75
4378/4378 - 71s - loss: 0.4157 - accuracy: 0.8424 - val_loss: 8.1501 - val_accuracy: 0.3359 - lr: 0.0010 - 71s/epoch - 16ms/step
Epoch 5/75
4378/4378 - 72s - loss: 0.4165 - accuracy: 0.8423 - val_loss: 4.9876 - val_accuracy: 0.4305 - lr: 0.0010 - 72s/epoch - 16ms/step
Epoch 6/75
4378/4378 - 73s - loss: 0.4136 - accuracy: 0.8427 - val_loss: 10.2723 - val_accuracy: 0.2885 - lr: 0.0010 - 73s/epoch - 17ms/step
Epoch 7/75
4378/4378 - 71s - loss: 0.4157 - accuracy: 0.8437 - val_loss: 11.4214 - val_accuracy: 0.3588 - lr: 0.0010 - 71s/epoch - 16ms/step
Epoch 8/75
4378/4378 - 71s - loss: 0.4170 - accuracy: 0.8425 - val_loss: 12.0768 - val_accuracy: 0.2661 - lr: 0.0010 - 71s/epoch - 16ms/step
Epoch 9/75
4378/4378 - 74s - loss: 0.4116 - accuracy: 0.8449 - val_loss: 2.9142 - val_accuracy: 0.5085 - lr: 0.0010 - 74s/epoch - 17ms/step
Epoch 10/75
4378/4378 - 71s - loss: 0.4113 - accuracy: 0.8430 - val_loss: 12.0676 - val_accuracy: 0.2932 - lr: 0.0010 - 71s/epoch - 16ms/step
Epoch 11/75
4378/4378 - 71s - loss: 0.4117 - accuracy: 0.8438 - val_loss: 11.8022 - val_accuracy: 0.2540 - lr: 0.0010 - 71s/epoch - 16ms/step
Epoch 12/75
4378/4378 - 71s - loss: 0.4136 - accuracy: 0.8451 - val_loss: 6.9274 - val_accuracy: 0.3300 - lr: 0.0010 - 71s/epoch - 16ms/step
Epoch 13/75
4378/4378 - 71s - loss: 0.4154 - accuracy: 0.8434 - val_loss: 0.9339 - val_accuracy: 0.6863 - lr: 0.0010 - 71s/epoch - 16ms/step
Epoch 14/75
4378/4378 - 71s - loss: 0.4137 - accuracy: 0.8440 - val_loss: 2.4052 - val_accuracy: 0.4877 - lr: 0.0010 - 71s/epoch - 16ms/step
Epoch 15/75
4378/4378 - 72s - loss: 0.4130 - accuracy: 0.8442 - val_loss: 3.5312 - val_accuracy: 0.4894 - lr: 0.0010 - 72s/epoch - 16ms/step
Epoch 16/75
4378/4378 - 71s - loss: 0.4118 - accuracy: 0.8454 - val_loss: 10.5024 - val_accuracy: 0.2138 - lr: 0.0010 - 71s/epoch - 16ms/step
Epoch 17/75
4378/4378 - 71s - loss: 0.4120 - accuracy: 0.8451 - val_loss: 1.7570 - val_accuracy: 0.5241 - lr: 0.0010 - 71s/epoch - 16ms/step
Epoch 18/75
4378/4378 - 71s - loss: 0.4107 - accuracy: 0.8451 - val_loss: 3.6408 - val_accuracy: 0.4698 - lr: 0.0010 - 71s/epoch - 16ms/step
Epoch 19/75
4378/4378 - 71s - loss: 0.4137 - accuracy: 0.8440 - val_loss: 5.4742 - val_accuracy: 0.4529 - lr: 0.0010 - 71s/epoch - 16ms/step
Epoch 20/75
4378/4378 - 71s - loss: 0.4108 - accuracy: 0.8447 - val_loss: 1.5071 - val_accuracy: 0.5442 - lr: 0.0010 - 71s/epoch - 16ms/step
Epoch 21/75
4378/4378 - 71s - loss: 0.4114 - accuracy: 0.8452 - val_loss: 12.8017 - val_accuracy: 0.2962 - lr: 0.0010 - 71s/epoch - 16ms/step
Epoch 22/75
4378/4378 - 71s - loss: 0.4119 - accuracy: 0.8445 - val_loss: 14.0953 - val_accuracy: 0.2012 - lr: 0.0010 - 71s/epoch - 16ms/step
Epoch 23/75
4378/4378 - 71s - loss: 0.4113 - accuracy: 0.8454 - val_loss: 5.8128 - val_accuracy: 0.3800 - lr: 0.0010 - 71s/epoch - 16ms/step
Epoch 24/75
4378/4378 - 71s - loss: 0.4124 - accuracy: 0.8444 - val_loss: 11.0591 - val_accuracy: 0.2675 - lr: 0.0010 - 71s/epoch - 16ms/step
Epoch 25/75
4378/4378 - 71s - loss: 0.4089 - accuracy: 0.8467 - val_loss: 4.0367 - val_accuracy: 0.4284 - lr: 0.0010 - 71s/epoch - 16ms/step
Epoch 26/75
4378/4378 - 71s - loss: 0.4082 - accuracy: 0.8474 - val_loss: 0.9813 - val_accuracy: 0.6536 - lr: 0.0010 - 71s/epoch - 16ms/step
Epoch 27/75
4378/4378 - 71s - loss: 0.4073 - accuracy: 0.8469 - val_loss: 1.2392 - val_accuracy: 0.6225 - lr: 0.0010 - 71s/epoch - 16ms/step
Epoch 28/75
4378/4378 - 71s - loss: 0.4051 - accuracy: 0.8482 - val_loss: 8.4406 - val_accuracy: 0.3465 - lr: 0.0010 - 71s/epoch - 16ms/step
Epoch 29/75
4378/4378 - 71s - loss: 0.4080 - accuracy: 0.8472 - val_loss: 5.9048 - val_accuracy: 0.3992 - lr: 0.0010 - 71s/epoch - 16ms/step
Epoch 30/75
4378/4378 - 71s - loss: 0.4059 - accuracy: 0.8478 - val_loss: 4.7495 - val_accuracy: 0.4024 - lr: 0.0010 - 71s/epoch - 16ms/step
Epoch 31/75
4378/4378 - 71s - loss: 0.4031 - accuracy: 0.8485 - val_loss: 13.0083 - val_accuracy: 0.3154 - lr: 0.0010 - 71s/epoch - 16ms/step
Epoch 32/75
4378/4378 - 71s - loss: 0.4063 - accuracy: 0.8480 - val_loss: 2.7971 - val_accuracy: 0.5000 - lr: 0.0010 - 71s/epoch - 16ms/step
Epoch 33/75
4378/4378 - 71s - loss: 0.4075 - accuracy: 0.8471 - val_loss: 6.9630 - val_accuracy: 0.3632 - lr: 0.0010 - 71s/epoch - 16ms/step
Epoch 34/75
4378/4378 - 71s - loss: 0.4077 - accuracy: 0.8462 - val_loss: 5.4437 - val_accuracy: 0.3242 - lr: 0.0010 - 71s/epoch - 16ms/step
Epoch 35/75
4378/4378 - 71s - loss: 0.4052 - accuracy: 0.8475 - val_loss: 10.0691 - val_accuracy: 0.2577 - lr: 0.0010 - 71s/epoch - 16ms/step
Epoch 36/75
4378/4378 - 71s - loss: 0.4074 - accuracy: 0.8475 - val_loss: 10.4582 - val_accuracy: 0.3866 - lr: 0.0010 - 71s/epoch - 16ms/step
Epoch 37/75
4378/4378 - 71s - loss: 0.4021 - accuracy: 0.8489 - val_loss: 6.0576 - val_accuracy: 0.3923 - lr: 0.0010 - 71s/epoch - 16ms/step
Epoch 38/75
4378/4378 - 71s - loss: 0.4039 - accuracy: 0.8489 - val_loss: 8.4145 - val_accuracy: 0.3584 - lr: 0.0010 - 71s/epoch - 16ms/step
Epoch 39/75
4378/4378 - 71s - loss: 0.4044 - accuracy: 0.8471 - val_loss: 21.1253 - val_accuracy: 0.1382 - lr: 0.0010 - 71s/epoch - 16ms/step
Epoch 40/75
4378/4378 - 71s - loss: 0.4021 - accuracy: 0.8500 - val_loss: 16.9323 - val_accuracy: 0.1349 - lr: 0.0010 - 71s/epoch - 16ms/step
Epoch 41/75
4378/4378 - 71s - loss: 0.4040 - accuracy: 0.8470 - val_loss: 13.2408 - val_accuracy: 0.2148 - lr: 0.0010 - 71s/epoch - 16ms/step
Epoch 42/75
4378/4378 - 71s - loss: 0.4007 - accuracy: 0.8507 - val_loss: 9.9187 - val_accuracy: 0.3007 - lr: 0.0010 - 71s/epoch - 16ms/step
Epoch 43/75
4378/4378 - 72s - loss: 0.4022 - accuracy: 0.8492 - val_loss: 6.6033 - val_accuracy: 0.3500 - lr: 0.0010 - 72s/epoch - 16ms/step
Epoch 44/75
4378/4378 - 71s - loss: 0.4010 - accuracy: 0.8501 - val_loss: 8.5668 - val_accuracy: 0.2702 - lr: 0.0010 - 71s/epoch - 16ms/step
Epoch 45/75
4378/4378 - 71s - loss: 0.3980 - accuracy: 0.8508 - val_loss: 10.9032 - val_accuracy: 0.2312 - lr: 0.0010 - 71s/epoch - 16ms/step
Epoch 46/75
4378/4378 - 71s - loss: 0.3996 - accuracy: 0.8500 - val_loss: 6.5937 - val_accuracy: 0.3531 - lr: 0.0010 - 71s/epoch - 16ms/step
Epoch 47/75
4378/4378 - 72s - loss: 0.4009 - accuracy: 0.8484 - val_loss: 6.0276 - val_accuracy: 0.2268 - lr: 0.0010 - 72s/epoch - 16ms/step
Epoch 48/75
4378/4378 - 71s - loss: 0.4016 - accuracy: 0.8493 - val_loss: 1.1542 - val_accuracy: 0.5887 - lr: 0.0010 - 71s/epoch - 16ms/step
Epoch 49/75
4378/4378 - 71s - loss: 0.4008 - accuracy: 0.8493 - val_loss: 1.0425 - val_accuracy: 0.6290 - lr: 0.0010 - 71s/epoch - 16ms/step
Epoch 50/75
4378/4378 - 71s - loss: 0.4001 - accuracy: 0.8493 - val_loss: 4.2947 - val_accuracy: 0.4083 - lr: 0.0010 - 71s/epoch - 16ms/step
Epoch 51/75
4378/4378 - 71s - loss: 0.3968 - accuracy: 0.8508 - val_loss: 1.0007 - val_accuracy: 0.6587 - lr: 0.0010 - 71s/epoch - 16ms/step
Epoch 52/75
4378/4378 - 71s - loss: 0.3959 - accuracy: 0.8516 - val_loss: 3.9292 - val_accuracy: 0.4532 - lr: 0.0010 - 71s/epoch - 16ms/step
Epoch 53/75
4378/4378 - 71s - loss: 0.3955 - accuracy: 0.8525 - val_loss: 8.8812 - val_accuracy: 0.3042 - lr: 0.0010 - 71s/epoch - 16ms/step
Epoch 54/75
4378/4378 - 71s - loss: 0.3957 - accuracy: 0.8518 - val_loss: 2.1913 - val_accuracy: 0.5151 - lr: 0.0010 - 71s/epoch - 16ms/step
Epoch 55/75
4378/4378 - 71s - loss: 0.3966 - accuracy: 0.8509 - val_loss: 1.2780 - val_accuracy: 0.6037 - lr: 0.0010 - 71s/epoch - 16ms/step
Epoch 56/75
4378/4378 - 71s - loss: 0.3940 - accuracy: 0.8514 - val_loss: 4.1513 - val_accuracy: 0.4278 - lr: 0.0010 - 71s/epoch - 16ms/step
Epoch 57/75
4378/4378 - 71s - loss: 0.3947 - accuracy: 0.8519 - val_loss: 7.5314 - val_accuracy: 0.3940 - lr: 0.0010 - 71s/epoch - 16ms/step
Epoch 58/75
4378/4378 - 71s - loss: 0.3947 - accuracy: 0.8512 - val_loss: 3.0734 - val_accuracy: 0.4819 - lr: 0.0010 - 71s/epoch - 16ms/step
Epoch 59/75
4378/4378 - 72s - loss: 0.3954 - accuracy: 0.8513 - val_loss: 1.9689 - val_accuracy: 0.5552 - lr: 0.0010 - 72s/epoch - 16ms/step
Epoch 60/75
4378/4378 - 75s - loss: 0.3940 - accuracy: 0.8495 - val_loss: 8.1011 - val_accuracy: 0.3837 - lr: 0.0010 - 75s/epoch - 17ms/step
Epoch 61/75
4378/4378 - 71s - loss: 0.3922 - accuracy: 0.8530 - val_loss: 4.0677 - val_accuracy: 0.4229 - lr: 0.0010 - 71s/epoch - 16ms/step
Epoch 62/75
4378/4378 - 71s - loss: 0.3887 - accuracy: 0.8538 - val_loss: 1.1796 - val_accuracy: 0.6156 - lr: 0.0010 - 71s/epoch - 16ms/step
Epoch 63/75
4378/4378 - 71s - loss: 0.3905 - accuracy: 0.8531 - val_loss: 7.8558 - val_accuracy: 0.3864 - lr: 0.0010 - 71s/epoch - 16ms/step
Epoch 64/75
4378/4378 - 71s - loss: 0.3932 - accuracy: 0.8516 - val_loss: 1.3384 - val_accuracy: 0.6058 - lr: 0.0010 - 71s/epoch - 16ms/step
Epoch 65/75
4378/4378 - 71s - loss: 0.3898 - accuracy: 0.8551 - val_loss: 6.1657 - val_accuracy: 0.4149 - lr: 0.0010 - 71s/epoch - 16ms/step
Epoch 66/75
4378/4378 - 71s - loss: 0.3909 - accuracy: 0.8522 - val_loss: 14.6082 - val_accuracy: 0.1605 - lr: 0.0010 - 71s/epoch - 16ms/step
Epoch 67/75
4378/4378 - 72s - loss: 0.3908 - accuracy: 0.8534 - val_loss: 5.8854 - val_accuracy: 0.3652 - lr: 0.0010 - 72s/epoch - 16ms/step
Epoch 68/75
4378/4378 - 71s - loss: 0.3899 - accuracy: 0.8534 - val_loss: 3.0521 - val_accuracy: 0.4604 - lr: 0.0010 - 71s/epoch - 16ms/step
Epoch 69/75
4378/4378 - 71s - loss: 0.3900 - accuracy: 0.8540 - val_loss: 8.9030 - val_accuracy: 0.3045 - lr: 0.0010 - 71s/epoch - 16ms/step
Epoch 70/75
4378/4378 - 71s - loss: 0.3854 - accuracy: 0.8538 - val_loss: 2.5350 - val_accuracy: 0.5372 - lr: 0.0010 - 71s/epoch - 16ms/step
Epoch 71/75
4378/4378 - 71s - loss: 0.3903 - accuracy: 0.8530 - val_loss: 5.4239 - val_accuracy: 0.4411 - lr: 0.0010 - 71s/epoch - 16ms/step
Epoch 72/75
4378/4378 - 71s - loss: 0.3874 - accuracy: 0.8553 - val_loss: 4.6455 - val_accuracy: 0.3845 - lr: 0.0010 - 71s/epoch - 16ms/step
Epoch 73/75
4378/4378 - 71s - loss: 0.3874 - accuracy: 0.8556 - val_loss: 3.7654 - val_accuracy: 0.4878 - lr: 0.0010 - 71s/epoch - 16ms/step
Epoch 74/75
4378/4378 - 71s - loss: 0.3866 - accuracy: 0.8549 - val_loss: 6.6177 - val_accuracy: 0.3279 - lr: 0.0010 - 71s/epoch - 16ms/step
Epoch 75/75
4378/4378 - 71s - loss: 0.3842 - accuracy: 0.8558 - val_loss: 4.9642 - val_accuracy: 0.3758 - lr: 0.0010 - 71s/epoch - 16ms/step
Epoch 1/75
876/876 - 21s - loss: 0.2977 - accuracy: 0.8901 - val_loss: 9.9655 - val_accuracy: 0.3201 - lr: 0.0010 - 21s/epoch - 24ms/step
Epoch 2/75
876/876 - 18s - loss: 0.3008 - accuracy: 0.8888 - val_loss: 11.7157 - val_accuracy: 0.1903 - lr: 0.0010 - 18s/epoch - 20ms/step
Epoch 3/75
876/876 - 18s - loss: 0.2990 - accuracy: 0.8898 - val_loss: 6.3087 - val_accuracy: 0.3587 - lr: 0.0010 - 18s/epoch - 20ms/step
Epoch 4/75
876/876 - 18s - loss: 0.2960 - accuracy: 0.8903 - val_loss: 7.2777 - val_accuracy: 0.3901 - lr: 0.0010 - 18s/epoch - 20ms/step
Epoch 5/75
876/876 - 18s - loss: 0.2925 - accuracy: 0.8916 - val_loss: 11.0201 - val_accuracy: 0.2171 - lr: 0.0010 - 18s/epoch - 20ms/step
Epoch 6/75
876/876 - 18s - loss: 0.2883 - accuracy: 0.8939 - val_loss: 2.7481 - val_accuracy: 0.5437 - lr: 0.0010 - 18s/epoch - 20ms/step
Epoch 7/75
876/876 - 18s - loss: 0.2854 - accuracy: 0.8950 - val_loss: 5.3402 - val_accuracy: 0.4426 - lr: 0.0010 - 18s/epoch - 20ms/step
Epoch 8/75
876/876 - 18s - loss: 0.2842 - accuracy: 0.8940 - val_loss: 2.8258 - val_accuracy: 0.5006 - lr: 0.0010 - 18s/epoch - 20ms/step
Epoch 9/75
876/876 - 18s - loss: 0.2814 - accuracy: 0.8965 - val_loss: 6.6347 - val_accuracy: 0.4075 - lr: 0.0010 - 18s/epoch - 20ms/step
Epoch 10/75
876/876 - 18s - loss: 0.2801 - accuracy: 0.8963 - val_loss: 6.7094 - val_accuracy: 0.3665 - lr: 0.0010 - 18s/epoch - 20ms/step
Epoch 11/75
876/876 - 18s - loss: 0.2759 - accuracy: 0.8989 - val_loss: 5.7028 - val_accuracy: 0.3941 - lr: 0.0010 - 18s/epoch - 20ms/step
Epoch 12/75
876/876 - 18s - loss: 0.2795 - accuracy: 0.8959 - val_loss: 6.4931 - val_accuracy: 0.4422 - lr: 0.0010 - 18s/epoch - 20ms/step
Epoch 13/75
876/876 - 18s - loss: 0.2787 - accuracy: 0.8958 - val_loss: 8.6089 - val_accuracy: 0.2616 - lr: 0.0010 - 18s/epoch - 20ms/step
Epoch 14/75
876/876 - 18s - loss: 0.2747 - accuracy: 0.8982 - val_loss: 7.0905 - val_accuracy: 0.4208 - lr: 0.0010 - 18s/epoch - 20ms/step
Epoch 15/75
876/876 - 18s - loss: 0.2743 - accuracy: 0.8976 - val_loss: 3.6610 - val_accuracy: 0.5155 - lr: 0.0010 - 18s/epoch - 20ms/step
Epoch 16/75
876/876 - 18s - loss: 0.2711 - accuracy: 0.9000 - val_loss: 1.9791 - val_accuracy: 0.5629 - lr: 0.0010 - 18s/epoch - 20ms/step
Epoch 17/75
876/876 - 18s - loss: 0.2692 - accuracy: 0.8995 - val_loss: 4.0240 - val_accuracy: 0.4734 - lr: 0.0010 - 18s/epoch - 20ms/step
Epoch 18/75
876/876 - 18s - loss: 0.2697 - accuracy: 0.9005 - val_loss: 4.8119 - val_accuracy: 0.4566 - lr: 0.0010 - 18s/epoch - 20ms/step
Epoch 19/75
876/876 - 18s - loss: 0.2670 - accuracy: 0.9019 - val_loss: 2.8671 - val_accuracy: 0.4984 - lr: 0.0010 - 18s/epoch - 20ms/step
Epoch 20/75
876/876 - 18s - loss: 0.2692 - accuracy: 0.8995 - val_loss: 4.2936 - val_accuracy: 0.4295 - lr: 0.0010 - 18s/epoch - 20ms/step
Epoch 21/75
876/876 - 18s - loss: 0.2669 - accuracy: 0.9008 - val_loss: 5.0936 - val_accuracy: 0.4106 - lr: 0.0010 - 18s/epoch - 20ms/step
Epoch 22/75
876/876 - 18s - loss: 0.2680 - accuracy: 0.9015 - val_loss: 1.4706 - val_accuracy: 0.6105 - lr: 0.0010 - 18s/epoch - 20ms/step
Epoch 23/75
876/876 - 18s - loss: 0.2691 - accuracy: 0.9006 - val_loss: 3.8191 - val_accuracy: 0.4829 - lr: 0.0010 - 18s/epoch - 20ms/step
Epoch 24/75
876/876 - 18s - loss: 0.2628 - accuracy: 0.9025 - val_loss: 2.9654 - val_accuracy: 0.5055 - lr: 0.0010 - 18s/epoch - 20ms/step
Epoch 25/75
876/876 - 18s - loss: 0.2641 - accuracy: 0.9035 - val_loss: 1.6396 - val_accuracy: 0.5761 - lr: 0.0010 - 18s/epoch - 20ms/step
Epoch 26/75
876/876 - 18s - loss: 0.2621 - accuracy: 0.9029 - val_loss: 2.2001 - val_accuracy: 0.5769 - lr: 0.0010 - 18s/epoch - 20ms/step
Epoch 27/75
876/876 - 18s - loss: 0.2596 - accuracy: 0.9038 - val_loss: 5.8834 - val_accuracy: 0.4253 - lr: 0.0010 - 18s/epoch - 20ms/step
Epoch 28/75
876/876 - 18s - loss: 0.2618 - accuracy: 0.9029 - val_loss: 5.5715 - val_accuracy: 0.4529 - lr: 0.0010 - 18s/epoch - 20ms/step
Epoch 29/75
876/876 - 18s - loss: 0.2615 - accuracy: 0.9020 - val_loss: 4.2247 - val_accuracy: 0.4786 - lr: 0.0010 - 18s/epoch - 21ms/step
Epoch 30/75
876/876 - 18s - loss: 0.2618 - accuracy: 0.9023 - val_loss: 3.9568 - val_accuracy: 0.4884 - lr: 0.0010 - 18s/epoch - 20ms/step
Epoch 31/75
876/876 - 18s - loss: 0.2580 - accuracy: 0.9044 - val_loss: 1.5988 - val_accuracy: 0.6185 - lr: 0.0010 - 18s/epoch - 20ms/step
Epoch 32/75
876/876 - 18s - loss: 0.2606 - accuracy: 0.9032 - val_loss: 1.9654 - val_accuracy: 0.5726 - lr: 0.0010 - 18s/epoch - 20ms/step
Epoch 33/75
876/876 - 18s - loss: 0.2565 - accuracy: 0.9050 - val_loss: 4.6204 - val_accuracy: 0.4197 - lr: 0.0010 - 18s/epoch - 20ms/step
Epoch 34/75
876/876 - 18s - loss: 0.2567 - accuracy: 0.9039 - val_loss: 4.2657 - val_accuracy: 0.4619 - lr: 0.0010 - 18s/epoch - 20ms/step
Epoch 35/75
876/876 - 18s - loss: 0.2597 - accuracy: 0.9040 - val_loss: 2.3511 - val_accuracy: 0.5827 - lr: 0.0010 - 18s/epoch - 20ms/step
Epoch 36/75
876/876 - 18s - loss: 0.2550 - accuracy: 0.9048 - val_loss: 7.2884 - val_accuracy: 0.3998 - lr: 0.0010 - 18s/epoch - 20ms/step
Epoch 37/75
876/876 - 18s - loss: 0.2589 - accuracy: 0.9035 - val_loss: 4.3051 - val_accuracy: 0.4517 - lr: 0.0010 - 18s/epoch - 20ms/step
Epoch 38/75
876/876 - 18s - loss: 0.2552 - accuracy: 0.9061 - val_loss: 4.7028 - val_accuracy: 0.4905 - lr: 0.0010 - 18s/epoch - 20ms/step
Epoch 39/75
876/876 - 18s - loss: 0.2532 - accuracy: 0.9072 - val_loss: 3.2298 - val_accuracy: 0.5118 - lr: 0.0010 - 18s/epoch - 20ms/step
Epoch 40/75
876/876 - 18s - loss: 0.2538 - accuracy: 0.9061 - val_loss: 3.7708 - val_accuracy: 0.5009 - lr: 0.0010 - 18s/epoch - 20ms/step
Epoch 41/75
876/876 - 18s - loss: 0.2558 - accuracy: 0.9053 - val_loss: 9.8551 - val_accuracy: 0.3826 - lr: 0.0010 - 18s/epoch - 20ms/step
Epoch 42/75
876/876 - 18s - loss: 0.2511 - accuracy: 0.9065 - val_loss: 2.0676 - val_accuracy: 0.5708 - lr: 0.0010 - 18s/epoch - 20ms/step
Epoch 43/75
876/876 - 18s - loss: 0.2558 - accuracy: 0.9063 - val_loss: 1.8870 - val_accuracy: 0.5694 - lr: 0.0010 - 18s/epoch - 20ms/step
Epoch 44/75
876/876 - 18s - loss: 0.2545 - accuracy: 0.9065 - val_loss: 6.6984 - val_accuracy: 0.4170 - lr: 0.0010 - 18s/epoch - 20ms/step
Epoch 45/75
876/876 - 18s - loss: 0.2506 - accuracy: 0.9082 - val_loss: 5.4378 - val_accuracy: 0.4496 - lr: 0.0010 - 18s/epoch - 20ms/step
Epoch 46/75
876/876 - 18s - loss: 0.2468 - accuracy: 0.9090 - val_loss: 4.2589 - val_accuracy: 0.5026 - lr: 0.0010 - 18s/epoch - 20ms/step
Epoch 47/75
876/876 - 18s - loss: 0.2500 - accuracy: 0.9081 - val_loss: 5.2409 - val_accuracy: 0.4450 - lr: 0.0010 - 18s/epoch - 20ms/step
Epoch 48/75
876/876 - 18s - loss: 0.2518 - accuracy: 0.9069 - val_loss: 4.2442 - val_accuracy: 0.4770 - lr: 0.0010 - 18s/epoch - 20ms/step
Epoch 49/75
876/876 - 18s - loss: 0.2493 - accuracy: 0.9070 - val_loss: 6.4068 - val_accuracy: 0.4534 - lr: 0.0010 - 18s/epoch - 20ms/step
Epoch 50/75
876/876 - 18s - loss: 0.2513 - accuracy: 0.9074 - val_loss: 1.7633 - val_accuracy: 0.5751 - lr: 0.0010 - 18s/epoch - 20ms/step
Epoch 51/75
876/876 - 18s - loss: 0.2505 - accuracy: 0.9078 - val_loss: 3.6785 - val_accuracy: 0.4857 - lr: 0.0010 - 18s/epoch - 20ms/step
Epoch 52/75
876/876 - 18s - loss: 0.2477 - accuracy: 0.9090 - val_loss: 2.2984 - val_accuracy: 0.5381 - lr: 0.0010 - 18s/epoch - 20ms/step
Epoch 53/75
876/876 - 18s - loss: 0.2475 - accuracy: 0.9087 - val_loss: 2.6363 - val_accuracy: 0.5118 - lr: 0.0010 - 18s/epoch - 20ms/step
Epoch 54/75
876/876 - 18s - loss: 0.2469 - accuracy: 0.9087 - val_loss: 4.1102 - val_accuracy: 0.4728 - lr: 0.0010 - 18s/epoch - 20ms/step
Epoch 55/75
876/876 - 18s - loss: 0.2520 - accuracy: 0.9078 - val_loss: 3.6259 - val_accuracy: 0.4728 - lr: 0.0010 - 18s/epoch - 20ms/step
Epoch 56/75
876/876 - 18s - loss: 0.2472 - accuracy: 0.9089 - val_loss: 3.2569 - val_accuracy: 0.5088 - lr: 0.0010 - 18s/epoch - 20ms/step
Epoch 57/75
876/876 - 18s - loss: 0.2478 - accuracy: 0.9089 - val_loss: 4.7578 - val_accuracy: 0.4437 - lr: 0.0010 - 18s/epoch - 20ms/step
Epoch 58/75
876/876 - 18s - loss: 0.2466 - accuracy: 0.9096 - val_loss: 4.0797 - val_accuracy: 0.4565 - lr: 0.0010 - 18s/epoch - 20ms/step
Epoch 59/75
876/876 - 18s - loss: 0.2450 - accuracy: 0.9098 - val_loss: 7.7630 - val_accuracy: 0.4094 - lr: 0.0010 - 18s/epoch - 20ms/step
Epoch 60/75
876/876 - 18s - loss: 0.2450 - accuracy: 0.9100 - val_loss: 1.4431 - val_accuracy: 0.6204 - lr: 0.0010 - 18s/epoch - 20ms/step
Epoch 61/75
876/876 - 18s - loss: 0.2459 - accuracy: 0.9098 - val_loss: 1.3832 - val_accuracy: 0.6250 - lr: 0.0010 - 18s/epoch - 20ms/step
Epoch 62/75
876/876 - 18s - loss: 0.2463 - accuracy: 0.9087 - val_loss: 6.0798 - val_accuracy: 0.3933 - lr: 0.0010 - 18s/epoch - 20ms/step
Epoch 63/75
876/876 - 18s - loss: 0.2431 - accuracy: 0.9104 - val_loss: 7.1324 - val_accuracy: 0.3922 - lr: 0.0010 - 18s/epoch - 20ms/step
Epoch 64/75
876/876 - 18s - loss: 0.2446 - accuracy: 0.9101 - val_loss: 7.1177 - val_accuracy: 0.4072 - lr: 0.0010 - 18s/epoch - 20ms/step
Epoch 65/75
876/876 - 18s - loss: 0.2452 - accuracy: 0.9089 - val_loss: 2.4695 - val_accuracy: 0.5158 - lr: 0.0010 - 18s/epoch - 20ms/step
Epoch 66/75
876/876 - 18s - loss: 0.2440 - accuracy: 0.9099 - val_loss: 3.1048 - val_accuracy: 0.4815 - lr: 0.0010 - 18s/epoch - 20ms/step
Epoch 67/75
876/876 - 18s - loss: 0.2445 - accuracy: 0.9095 - val_loss: 5.4214 - val_accuracy: 0.4180 - lr: 0.0010 - 18s/epoch - 20ms/step
Epoch 68/75
876/876 - 18s - loss: 0.2426 - accuracy: 0.9103 - val_loss: 2.1476 - val_accuracy: 0.5579 - lr: 0.0010 - 18s/epoch - 20ms/step
Epoch 69/75
876/876 - 18s - loss: 0.2413 - accuracy: 0.9104 - val_loss: 1.5976 - val_accuracy: 0.6147 - lr: 0.0010 - 18s/epoch - 20ms/step
Epoch 70/75
876/876 - 18s - loss: 0.2433 - accuracy: 0.9104 - val_loss: 5.8172 - val_accuracy: 0.4336 - lr: 0.0010 - 18s/epoch - 20ms/step
Epoch 71/75
876/876 - 18s - loss: 0.2411 - accuracy: 0.9100 - val_loss: 3.2504 - val_accuracy: 0.4949 - lr: 0.0010 - 18s/epoch - 20ms/step
Epoch 72/75
876/876 - 18s - loss: 0.2409 - accuracy: 0.9111 - val_loss: 2.9257 - val_accuracy: 0.5185 - lr: 0.0010 - 18s/epoch - 20ms/step
Epoch 73/75
876/876 - 18s - loss: 0.2415 - accuracy: 0.9106 - val_loss: 8.3932 - val_accuracy: 0.2954 - lr: 0.0010 - 18s/epoch - 20ms/step
Epoch 74/75
876/876 - 18s - loss: 0.2426 - accuracy: 0.9102 - val_loss: 3.6264 - val_accuracy: 0.4466 - lr: 0.0010 - 18s/epoch - 20ms/step
Epoch 75/75
876/876 - 18s - loss: 0.2410 - accuracy: 0.9110 - val_loss: 2.0386 - val_accuracy: 0.5379 - lr: 0.0010 - 18s/epoch - 20ms/step
Epoch 1/75
176/176 - 11s - loss: 0.1869 - accuracy: 0.9341 - val_loss: 2.6535 - val_accuracy: 0.5185 - lr: 0.0010 - 11s/epoch - 63ms/step
Epoch 2/75
176/176 - 9s - loss: 0.1697 - accuracy: 0.9405 - val_loss: 2.7124 - val_accuracy: 0.5101 - lr: 0.0010 - 9s/epoch - 50ms/step
Epoch 3/75
176/176 - 9s - loss: 0.1683 - accuracy: 0.9413 - val_loss: 2.3812 - val_accuracy: 0.5549 - lr: 0.0010 - 9s/epoch - 50ms/step
Epoch 4/75
176/176 - 9s - loss: 0.1676 - accuracy: 0.9408 - val_loss: 3.7792 - val_accuracy: 0.4673 - lr: 0.0010 - 9s/epoch - 50ms/step
Epoch 5/75
176/176 - 9s - loss: 0.1694 - accuracy: 0.9399 - val_loss: 3.1268 - val_accuracy: 0.5239 - lr: 0.0010 - 9s/epoch - 50ms/step
Epoch 6/75
176/176 - 9s - loss: 0.1722 - accuracy: 0.9383 - val_loss: 5.1840 - val_accuracy: 0.4493 - lr: 0.0010 - 9s/epoch - 50ms/step
Epoch 7/75
176/176 - 9s - loss: 0.1721 - accuracy: 0.9388 - val_loss: 2.9639 - val_accuracy: 0.5229 - lr: 0.0010 - 9s/epoch - 50ms/step
Epoch 8/75
176/176 - 9s - loss: 0.1674 - accuracy: 0.9408 - val_loss: 6.3850 - val_accuracy: 0.4366 - lr: 0.0010 - 9s/epoch - 50ms/step
Epoch 9/75
176/176 - 9s - loss: 0.1654 - accuracy: 0.9404 - val_loss: 6.1767 - val_accuracy: 0.4324 - lr: 0.0010 - 9s/epoch - 50ms/step
Epoch 10/75
176/176 - 9s - loss: 0.1668 - accuracy: 0.9412 - val_loss: 3.8921 - val_accuracy: 0.4865 - lr: 0.0010 - 9s/epoch - 50ms/step
Epoch 11/75
176/176 - 9s - loss: 0.1662 - accuracy: 0.9405 - val_loss: 6.5915 - val_accuracy: 0.4339 - lr: 0.0010 - 9s/epoch - 50ms/step
Epoch 12/75
176/176 - 9s - loss: 0.1669 - accuracy: 0.9403 - val_loss: 4.4313 - val_accuracy: 0.4742 - lr: 0.0010 - 9s/epoch - 50ms/step
Epoch 13/75
176/176 - 9s - loss: 0.1659 - accuracy: 0.9402 - val_loss: 6.3560 - val_accuracy: 0.4313 - lr: 0.0010 - 9s/epoch - 50ms/step
Epoch 14/75
176/176 - 9s - loss: 0.1657 - accuracy: 0.9414 - val_loss: 6.0316 - val_accuracy: 0.4273 - lr: 0.0010 - 9s/epoch - 50ms/step
Epoch 15/75
176/176 - 9s - loss: 0.1668 - accuracy: 0.9391 - val_loss: 5.1221 - val_accuracy: 0.4418 - lr: 0.0010 - 9s/epoch - 50ms/step
Epoch 16/75
176/176 - 9s - loss: 0.1626 - accuracy: 0.9422 - val_loss: 3.9281 - val_accuracy: 0.4839 - lr: 0.0010 - 9s/epoch - 50ms/step
Epoch 17/75
176/176 - 9s - loss: 0.1634 - accuracy: 0.9417 - val_loss: 4.7674 - val_accuracy: 0.4508 - lr: 0.0010 - 9s/epoch - 50ms/step
Epoch 18/75
176/176 - 9s - loss: 0.1646 - accuracy: 0.9410 - val_loss: 2.7284 - val_accuracy: 0.5383 - lr: 0.0010 - 9s/epoch - 50ms/step
Epoch 19/75
176/176 - 9s - loss: 0.1647 - accuracy: 0.9402 - val_loss: 2.6340 - val_accuracy: 0.5396 - lr: 0.0010 - 9s/epoch - 50ms/step
Epoch 20/75
176/176 - 9s - loss: 0.1646 - accuracy: 0.9406 - val_loss: 2.8301 - val_accuracy: 0.5181 - lr: 0.0010 - 9s/epoch - 50ms/step
Epoch 21/75
176/176 - 9s - loss: 0.1622 - accuracy: 0.9417 - val_loss: 3.7805 - val_accuracy: 0.4884 - lr: 0.0010 - 9s/epoch - 50ms/step
Epoch 22/75
176/176 - 9s - loss: 0.1596 - accuracy: 0.9428 - val_loss: 3.6912 - val_accuracy: 0.4743 - lr: 0.0010 - 9s/epoch - 50ms/step
Epoch 23/75
176/176 - 9s - loss: 0.1553 - accuracy: 0.9442 - val_loss: 5.1579 - val_accuracy: 0.4374 - lr: 0.0010 - 9s/epoch - 50ms/step
Epoch 24/75
176/176 - 9s - loss: 0.1526 - accuracy: 0.9463 - val_loss: 2.9133 - val_accuracy: 0.5424 - lr: 0.0010 - 9s/epoch - 50ms/step
Epoch 25/75
176/176 - 9s - loss: 0.1539 - accuracy: 0.9452 - val_loss: 3.5485 - val_accuracy: 0.4984 - lr: 0.0010 - 9s/epoch - 50ms/step
Epoch 26/75
176/176 - 9s - loss: 0.1586 - accuracy: 0.9440 - val_loss: 3.3454 - val_accuracy: 0.4883 - lr: 0.0010 - 9s/epoch - 50ms/step
Epoch 27/75
176/176 - 9s - loss: 0.1603 - accuracy: 0.9434 - val_loss: 6.2082 - val_accuracy: 0.4138 - lr: 0.0010 - 9s/epoch - 51ms/step
Epoch 28/75
176/176 - 9s - loss: 0.1572 - accuracy: 0.9439 - val_loss: 3.5242 - val_accuracy: 0.4863 - lr: 0.0010 - 9s/epoch - 50ms/step
Epoch 29/75
176/176 - 9s - loss: 0.1590 - accuracy: 0.9421 - val_loss: 1.9914 - val_accuracy: 0.5915 - lr: 0.0010 - 9s/epoch - 50ms/step
Epoch 30/75
176/176 - 9s - loss: 0.1612 - accuracy: 0.9423 - val_loss: 3.5197 - val_accuracy: 0.5012 - lr: 0.0010 - 9s/epoch - 50ms/step
Epoch 31/75
176/176 - 9s - loss: 0.1598 - accuracy: 0.9427 - val_loss: 10.2365 - val_accuracy: 0.3494 - lr: 0.0010 - 9s/epoch - 50ms/step
Epoch 32/75
176/176 - 9s - loss: 0.1584 - accuracy: 0.9437 - val_loss: 2.3186 - val_accuracy: 0.5576 - lr: 0.0010 - 9s/epoch - 50ms/step
Epoch 33/75
176/176 - 9s - loss: 0.1559 - accuracy: 0.9444 - val_loss: 4.3735 - val_accuracy: 0.4602 - lr: 0.0010 - 9s/epoch - 50ms/step
Epoch 34/75
176/176 - 9s - loss: 0.1546 - accuracy: 0.9445 - val_loss: 3.5488 - val_accuracy: 0.4783 - lr: 0.0010 - 9s/epoch - 50ms/step
Epoch 35/75
176/176 - 9s - loss: 0.1559 - accuracy: 0.9438 - val_loss: 3.9641 - val_accuracy: 0.4559 - lr: 0.0010 - 9s/epoch - 50ms/step
Epoch 36/75
176/176 - 9s - loss: 0.1608 - accuracy: 0.9420 - val_loss: 4.2201 - val_accuracy: 0.4530 - lr: 0.0010 - 9s/epoch - 50ms/step
Epoch 37/75
176/176 - 9s - loss: 0.1576 - accuracy: 0.9438 - val_loss: 5.2596 - val_accuracy: 0.4359 - lr: 0.0010 - 9s/epoch - 50ms/step
Epoch 38/75
176/176 - 9s - loss: 0.1556 - accuracy: 0.9442 - val_loss: 5.0596 - val_accuracy: 0.4332 - lr: 0.0010 - 9s/epoch - 50ms/step
Epoch 39/75
176/176 - 9s - loss: 0.1535 - accuracy: 0.9458 - val_loss: 3.9273 - val_accuracy: 0.4770 - lr: 0.0010 - 9s/epoch - 50ms/step
Epoch 40/75
176/176 - 9s - loss: 0.1523 - accuracy: 0.9454 - val_loss: 4.4863 - val_accuracy: 0.4487 - lr: 0.0010 - 9s/epoch - 50ms/step
Epoch 41/75
176/176 - 9s - loss: 0.1513 - accuracy: 0.9457 - val_loss: 3.6096 - val_accuracy: 0.4901 - lr: 0.0010 - 9s/epoch - 50ms/step
Epoch 42/75
176/176 - 9s - loss: 0.1530 - accuracy: 0.9451 - val_loss: 3.3017 - val_accuracy: 0.4927 - lr: 0.0010 - 9s/epoch - 50ms/step
Epoch 43/75
176/176 - 9s - loss: 0.1473 - accuracy: 0.9476 - val_loss: 2.2367 - val_accuracy: 0.5746 - lr: 0.0010 - 9s/epoch - 50ms/step
Epoch 44/75
176/176 - 9s - loss: 0.1492 - accuracy: 0.9462 - val_loss: 3.6687 - val_accuracy: 0.4689 - lr: 0.0010 - 9s/epoch - 50ms/step
Epoch 45/75
176/176 - 9s - loss: 0.1511 - accuracy: 0.9457 - val_loss: 2.4220 - val_accuracy: 0.5615 - lr: 0.0010 - 9s/epoch - 50ms/step
Epoch 46/75
176/176 - 9s - loss: 0.1474 - accuracy: 0.9468 - val_loss: 3.9013 - val_accuracy: 0.4676 - lr: 0.0010 - 9s/epoch - 50ms/step
Epoch 47/75
176/176 - 9s - loss: 0.1464 - accuracy: 0.9478 - val_loss: 3.3115 - val_accuracy: 0.4941 - lr: 0.0010 - 9s/epoch - 51ms/step
Epoch 48/75
176/176 - 9s - loss: 0.1517 - accuracy: 0.9455 - val_loss: 3.8236 - val_accuracy: 0.4553 - lr: 0.0010 - 9s/epoch - 50ms/step
Epoch 49/75
176/176 - 9s - loss: 0.1560 - accuracy: 0.9442 - val_loss: 3.8753 - val_accuracy: 0.4839 - lr: 0.0010 - 9s/epoch - 50ms/step
Epoch 50/75
176/176 - 9s - loss: 0.1550 - accuracy: 0.9443 - val_loss: 2.9382 - val_accuracy: 0.5233 - lr: 0.0010 - 9s/epoch - 50ms/step
Epoch 51/75
176/176 - 9s - loss: 0.1577 - accuracy: 0.9428 - val_loss: 4.4513 - val_accuracy: 0.4584 - lr: 0.0010 - 9s/epoch - 50ms/step
Epoch 52/75
176/176 - 9s - loss: 0.1605 - accuracy: 0.9419 - val_loss: 4.9795 - val_accuracy: 0.4362 - lr: 0.0010 - 9s/epoch - 50ms/step
Epoch 53/75
176/176 - 9s - loss: 0.1517 - accuracy: 0.9451 - val_loss: 3.1913 - val_accuracy: 0.5023 - lr: 0.0010 - 9s/epoch - 50ms/step
Epoch 54/75
176/176 - 9s - loss: 0.1517 - accuracy: 0.9457 - val_loss: 3.4295 - val_accuracy: 0.4908 - lr: 0.0010 - 9s/epoch - 50ms/step
Epoch 55/75
176/176 - 9s - loss: 0.1509 - accuracy: 0.9453 - val_loss: 2.7172 - val_accuracy: 0.5382 - lr: 0.0010 - 9s/epoch - 50ms/step
Epoch 56/75
176/176 - 9s - loss: 0.1521 - accuracy: 0.9456 - val_loss: 3.8121 - val_accuracy: 0.4695 - lr: 0.0010 - 9s/epoch - 50ms/step
Epoch 57/75
176/176 - 9s - loss: 0.1578 - accuracy: 0.9430 - val_loss: 4.0036 - val_accuracy: 0.4632 - lr: 0.0010 - 9s/epoch - 50ms/step
Epoch 58/75
176/176 - 9s - loss: 0.1518 - accuracy: 0.9463 - val_loss: 2.5255 - val_accuracy: 0.5622 - lr: 0.0010 - 9s/epoch - 50ms/step
Epoch 59/75
176/176 - 9s - loss: 0.1511 - accuracy: 0.9462 - val_loss: 3.4559 - val_accuracy: 0.4923 - lr: 0.0010 - 9s/epoch - 50ms/step
Epoch 60/75
176/176 - 9s - loss: 0.1524 - accuracy: 0.9450 - val_loss: 4.0191 - val_accuracy: 0.4535 - lr: 0.0010 - 9s/epoch - 50ms/step
Epoch 61/75
176/176 - 9s - loss: 0.1496 - accuracy: 0.9460 - val_loss: 2.9169 - val_accuracy: 0.5288 - lr: 0.0010 - 9s/epoch - 50ms/step
Epoch 62/75
176/176 - 9s - loss: 0.1480 - accuracy: 0.9468 - val_loss: 2.9921 - val_accuracy: 0.5126 - lr: 0.0010 - 9s/epoch - 50ms/step
Epoch 63/75
176/176 - 9s - loss: 0.1464 - accuracy: 0.9473 - val_loss: 3.4694 - val_accuracy: 0.4938 - lr: 0.0010 - 9s/epoch - 50ms/step
Epoch 64/75
176/176 - 9s - loss: 0.1506 - accuracy: 0.9457 - val_loss: 5.5709 - val_accuracy: 0.4346 - lr: 0.0010 - 9s/epoch - 50ms/step
Epoch 65/75
176/176 - 9s - loss: 0.1506 - accuracy: 0.9453 - val_loss: 6.4077 - val_accuracy: 0.4120 - lr: 0.0010 - 9s/epoch - 50ms/step
Epoch 66/75
176/176 - 9s - loss: 0.1534 - accuracy: 0.9444 - val_loss: 3.3928 - val_accuracy: 0.4862 - lr: 0.0010 - 9s/epoch - 50ms/step
Epoch 67/75
176/176 - 9s - loss: 0.1579 - accuracy: 0.9433 - val_loss: 5.5466 - val_accuracy: 0.4197 - lr: 0.0010 - 9s/epoch - 50ms/step
Epoch 68/75
176/176 - 9s - loss: 0.1480 - accuracy: 0.9476 - val_loss: 2.9095 - val_accuracy: 0.5315 - lr: 0.0010 - 9s/epoch - 50ms/step
Epoch 69/75
176/176 - 9s - loss: 0.1432 - accuracy: 0.9494 - val_loss: 4.5379 - val_accuracy: 0.4430 - lr: 0.0010 - 9s/epoch - 50ms/step
Epoch 70/75
176/176 - 9s - loss: 0.1437 - accuracy: 0.9485 - val_loss: 3.0366 - val_accuracy: 0.5077 - lr: 0.0010 - 9s/epoch - 50ms/step
Epoch 71/75
176/176 - 9s - loss: 0.1499 - accuracy: 0.9464 - val_loss: 2.8801 - val_accuracy: 0.5266 - lr: 0.0010 - 9s/epoch - 50ms/step
Epoch 72/75
176/176 - 9s - loss: 0.1471 - accuracy: 0.9470 - val_loss: 4.7237 - val_accuracy: 0.4426 - lr: 0.0010 - 9s/epoch - 50ms/step
Epoch 73/75
176/176 - 9s - loss: 0.1459 - accuracy: 0.9476 - val_loss: 3.3559 - val_accuracy: 0.4979 - lr: 0.0010 - 9s/epoch - 50ms/step
Epoch 74/75
176/176 - 9s - loss: 0.1488 - accuracy: 0.9466 - val_loss: 4.1470 - val_accuracy: 0.4527 - lr: 0.0010 - 9s/epoch - 50ms/step
Epoch 75/75
176/176 - 9s - loss: 0.1494 - accuracy: 0.9460 - val_loss: 3.0869 - val_accuracy: 0.5113 - lr: 0.0010 - 9s/epoch - 51ms/step
Epoch 1/75
36/36 - 10s - loss: 0.1352 - accuracy: 0.9527 - val_loss: 3.9075 - val_accuracy: 0.4646 - lr: 0.0010 - 10s/epoch - 276ms/step
Epoch 2/75
36/36 - 8s - loss: 0.1208 - accuracy: 0.9589 - val_loss: 5.4237 - val_accuracy: 0.4236 - lr: 0.0010 - 8s/epoch - 212ms/step
Epoch 3/75
36/36 - 8s - loss: 0.1195 - accuracy: 0.9586 - val_loss: 4.8798 - val_accuracy: 0.4322 - lr: 0.0010 - 8s/epoch - 211ms/step
Epoch 4/75
36/36 - 8s - loss: 0.1179 - accuracy: 0.9596 - val_loss: 4.7483 - val_accuracy: 0.4372 - lr: 0.0010 - 8s/epoch - 211ms/step
Epoch 5/75
36/36 - 8s - loss: 0.1178 - accuracy: 0.9595 - val_loss: 4.0545 - val_accuracy: 0.4652 - lr: 0.0010 - 8s/epoch - 211ms/step
Epoch 6/75
36/36 - 8s - loss: 0.1141 - accuracy: 0.9617 - val_loss: 4.2659 - val_accuracy: 0.4546 - lr: 0.0010 - 8s/epoch - 211ms/step
Epoch 7/75
36/36 - 8s - loss: 0.1180 - accuracy: 0.9589 - val_loss: 4.8509 - val_accuracy: 0.4297 - lr: 0.0010 - 8s/epoch - 212ms/step
Epoch 8/75
36/36 - 8s - loss: 0.1176 - accuracy: 0.9598 - val_loss: 4.8091 - val_accuracy: 0.4393 - lr: 0.0010 - 8s/epoch - 215ms/step
Epoch 9/75
36/36 - 8s - loss: 0.1151 - accuracy: 0.9607 - val_loss: 4.4060 - val_accuracy: 0.4502 - lr: 0.0010 - 8s/epoch - 212ms/step
Epoch 10/75
36/36 - 8s - loss: 0.1160 - accuracy: 0.9604 - val_loss: 3.5062 - val_accuracy: 0.4900 - lr: 0.0010 - 8s/epoch - 212ms/step
Epoch 11/75
36/36 - 8s - loss: 0.1149 - accuracy: 0.9603 - val_loss: 4.5105 - val_accuracy: 0.4540 - lr: 0.0010 - 8s/epoch - 214ms/step
Epoch 12/75
36/36 - 8s - loss: 0.1158 - accuracy: 0.9605 - val_loss: 3.8559 - val_accuracy: 0.4838 - lr: 0.0010 - 8s/epoch - 213ms/step
Epoch 13/75
36/36 - 8s - loss: 0.1149 - accuracy: 0.9604 - val_loss: 3.5778 - val_accuracy: 0.4953 - lr: 0.0010 - 8s/epoch - 212ms/step
Epoch 14/75
36/36 - 8s - loss: 0.1146 - accuracy: 0.9604 - val_loss: 4.7306 - val_accuracy: 0.4434 - lr: 0.0010 - 8s/epoch - 212ms/step
Epoch 15/75
36/36 - 8s - loss: 0.1177 - accuracy: 0.9599 - val_loss: 5.1949 - val_accuracy: 0.4339 - lr: 0.0010 - 8s/epoch - 212ms/step
Epoch 16/75
36/36 - 8s - loss: 0.1139 - accuracy: 0.9606 - val_loss: 4.6135 - val_accuracy: 0.4556 - lr: 0.0010 - 8s/epoch - 213ms/step
Epoch 17/75
36/36 - 8s - loss: 0.1151 - accuracy: 0.9611 - val_loss: 4.2420 - val_accuracy: 0.4620 - lr: 0.0010 - 8s/epoch - 212ms/step
Epoch 18/75
36/36 - 8s - loss: 0.1149 - accuracy: 0.9608 - val_loss: 3.7695 - val_accuracy: 0.4823 - lr: 0.0010 - 8s/epoch - 212ms/step
Epoch 19/75
36/36 - 8s - loss: 0.1128 - accuracy: 0.9624 - val_loss: 3.9101 - val_accuracy: 0.4839 - lr: 0.0010 - 8s/epoch - 212ms/step
Epoch 20/75
36/36 - 8s - loss: 0.1152 - accuracy: 0.9596 - val_loss: 3.7769 - val_accuracy: 0.4856 - lr: 0.0010 - 8s/epoch - 212ms/step
Epoch 21/75
36/36 - 8s - loss: 0.1157 - accuracy: 0.9608 - val_loss: 3.2301 - val_accuracy: 0.5238 - lr: 0.0010 - 8s/epoch - 212ms/step
Epoch 22/75
36/36 - 8s - loss: 0.1128 - accuracy: 0.9608 - val_loss: 4.0474 - val_accuracy: 0.4777 - lr: 0.0010 - 8s/epoch - 212ms/step
Epoch 23/75
36/36 - 8s - loss: 0.1121 - accuracy: 0.9609 - val_loss: 4.6162 - val_accuracy: 0.4475 - lr: 0.0010 - 8s/epoch - 212ms/step
Epoch 24/75
36/36 - 8s - loss: 0.1150 - accuracy: 0.9600 - val_loss: 4.3975 - val_accuracy: 0.4620 - lr: 0.0010 - 8s/epoch - 213ms/step
Epoch 25/75
36/36 - 8s - loss: 0.1168 - accuracy: 0.9598 - val_loss: 4.7419 - val_accuracy: 0.4517 - lr: 0.0010 - 8s/epoch - 213ms/step
Epoch 26/75
36/36 - 8s - loss: 0.1135 - accuracy: 0.9611 - val_loss: 4.1976 - val_accuracy: 0.4693 - lr: 0.0010 - 8s/epoch - 212ms/step
Epoch 27/75
36/36 - 8s - loss: 0.1092 - accuracy: 0.9625 - val_loss: 3.7367 - val_accuracy: 0.4855 - lr: 0.0010 - 8s/epoch - 212ms/step
Epoch 28/75
36/36 - 8s - loss: 0.1113 - accuracy: 0.9613 - val_loss: 4.0277 - val_accuracy: 0.4631 - lr: 0.0010 - 8s/epoch - 212ms/step
Epoch 29/75
36/36 - 8s - loss: 0.1139 - accuracy: 0.9618 - val_loss: 4.1955 - val_accuracy: 0.4646 - lr: 0.0010 - 8s/epoch - 212ms/step
Epoch 30/75
36/36 - 8s - loss: 0.1101 - accuracy: 0.9624 - val_loss: 4.1654 - val_accuracy: 0.4676 - lr: 0.0010 - 8s/epoch - 212ms/step
Epoch 31/75
36/36 - 8s - loss: 0.1102 - accuracy: 0.9628 - val_loss: 4.4591 - val_accuracy: 0.4558 - lr: 0.0010 - 8s/epoch - 212ms/step
Epoch 32/75
36/36 - 8s - loss: 0.1089 - accuracy: 0.9634 - val_loss: 4.2390 - val_accuracy: 0.4651 - lr: 0.0010 - 8s/epoch - 215ms/step
Epoch 33/75
36/36 - 8s - loss: 0.1128 - accuracy: 0.9610 - val_loss: 4.5377 - val_accuracy: 0.4545 - lr: 0.0010 - 8s/epoch - 212ms/step
Epoch 34/75
36/36 - 8s - loss: 0.1100 - accuracy: 0.9621 - val_loss: 4.7939 - val_accuracy: 0.4430 - lr: 0.0010 - 8s/epoch - 212ms/step
Epoch 35/75
36/36 - 8s - loss: 0.1104 - accuracy: 0.9625 - val_loss: 4.4631 - val_accuracy: 0.4572 - lr: 0.0010 - 8s/epoch - 212ms/step
Epoch 36/75
36/36 - 8s - loss: 0.1099 - accuracy: 0.9626 - val_loss: 4.6033 - val_accuracy: 0.4539 - lr: 0.0010 - 8s/epoch - 212ms/step
Epoch 37/75
36/36 - 8s - loss: 0.1112 - accuracy: 0.9623 - val_loss: 4.1669 - val_accuracy: 0.4712 - lr: 0.0010 - 8s/epoch - 212ms/step
Epoch 38/75
36/36 - 8s - loss: 0.1089 - accuracy: 0.9626 - val_loss: 3.6806 - val_accuracy: 0.4920 - lr: 0.0010 - 8s/epoch - 212ms/step
Epoch 39/75
36/36 - 8s - loss: 0.1093 - accuracy: 0.9622 - val_loss: 4.0758 - val_accuracy: 0.4750 - lr: 0.0010 - 8s/epoch - 212ms/step
Epoch 40/75
36/36 - 8s - loss: 0.1121 - accuracy: 0.9612 - val_loss: 3.7812 - val_accuracy: 0.4882 - lr: 0.0010 - 8s/epoch - 212ms/step
Epoch 41/75
36/36 - 8s - loss: 0.1105 - accuracy: 0.9622 - val_loss: 3.7518 - val_accuracy: 0.4958 - lr: 0.0010 - 8s/epoch - 214ms/step
Epoch 42/75
36/36 - 8s - loss: 0.1108 - accuracy: 0.9614 - val_loss: 3.7749 - val_accuracy: 0.4962 - lr: 0.0010 - 8s/epoch - 212ms/step
Epoch 43/75
36/36 - 8s - loss: 0.1118 - accuracy: 0.9613 - val_loss: 3.7832 - val_accuracy: 0.4863 - lr: 0.0010 - 8s/epoch - 212ms/step
Epoch 44/75
36/36 - 8s - loss: 0.1108 - accuracy: 0.9621 - val_loss: 3.5251 - val_accuracy: 0.5054 - lr: 0.0010 - 8s/epoch - 212ms/step
Epoch 45/75
36/36 - 8s - loss: 0.1096 - accuracy: 0.9628 - val_loss: 4.2070 - val_accuracy: 0.4753 - lr: 0.0010 - 8s/epoch - 212ms/step
Epoch 46/75
36/36 - 8s - loss: 0.1100 - accuracy: 0.9630 - val_loss: 4.3571 - val_accuracy: 0.4681 - lr: 0.0010 - 8s/epoch - 212ms/step
Epoch 47/75
36/36 - 8s - loss: 0.1073 - accuracy: 0.9634 - val_loss: 5.3130 - val_accuracy: 0.4438 - lr: 0.0010 - 8s/epoch - 212ms/step
Epoch 48/75
36/36 - 8s - loss: 0.1102 - accuracy: 0.9628 - val_loss: 5.1431 - val_accuracy: 0.4475 - lr: 0.0010 - 8s/epoch - 212ms/step
Epoch 49/75
36/36 - 8s - loss: 0.1125 - accuracy: 0.9605 - val_loss: 5.0096 - val_accuracy: 0.4463 - lr: 0.0010 - 8s/epoch - 214ms/step
Epoch 50/75
36/36 - 8s - loss: 0.1111 - accuracy: 0.9621 - val_loss: 5.3681 - val_accuracy: 0.4376 - lr: 0.0010 - 8s/epoch - 212ms/step
Epoch 51/75
36/36 - 8s - loss: 0.1128 - accuracy: 0.9608 - val_loss: 5.3903 - val_accuracy: 0.4308 - lr: 0.0010 - 8s/epoch - 212ms/step
Epoch 52/75
36/36 - 8s - loss: 0.1135 - accuracy: 0.9603 - val_loss: 5.7499 - val_accuracy: 0.4265 - lr: 0.0010 - 8s/epoch - 213ms/step
Epoch 53/75
36/36 - 8s - loss: 0.1083 - accuracy: 0.9629 - val_loss: 5.2352 - val_accuracy: 0.4448 - lr: 0.0010 - 8s/epoch - 212ms/step
Epoch 54/75
36/36 - 8s - loss: 0.1105 - accuracy: 0.9623 - val_loss: 5.2555 - val_accuracy: 0.4449 - lr: 0.0010 - 8s/epoch - 212ms/step
Epoch 55/75
36/36 - 8s - loss: 0.1104 - accuracy: 0.9617 - val_loss: 5.3697 - val_accuracy: 0.4374 - lr: 0.0010 - 8s/epoch - 212ms/step
Epoch 56/75
36/36 - 8s - loss: 0.1071 - accuracy: 0.9628 - val_loss: 4.6769 - val_accuracy: 0.4644 - lr: 0.0010 - 8s/epoch - 212ms/step
Epoch 57/75
36/36 - 8s - loss: 0.1060 - accuracy: 0.9643 - val_loss: 5.1246 - val_accuracy: 0.4486 - lr: 0.0010 - 8s/epoch - 213ms/step
Epoch 58/75
36/36 - 8s - loss: 0.1087 - accuracy: 0.9626 - val_loss: 4.5400 - val_accuracy: 0.4629 - lr: 0.0010 - 8s/epoch - 212ms/step
Epoch 59/75
36/36 - 8s - loss: 0.1089 - accuracy: 0.9630 - val_loss: 4.4810 - val_accuracy: 0.4605 - lr: 0.0010 - 8s/epoch - 212ms/step
Epoch 60/75
36/36 - 8s - loss: 0.1091 - accuracy: 0.9627 - val_loss: 4.3834 - val_accuracy: 0.4719 - lr: 0.0010 - 8s/epoch - 212ms/step
Epoch 61/75
36/36 - 8s - loss: 0.1111 - accuracy: 0.9622 - val_loss: 4.1022 - val_accuracy: 0.4833 - lr: 0.0010 - 8s/epoch - 212ms/step
Epoch 62/75
36/36 - 8s - loss: 0.1089 - accuracy: 0.9626 - val_loss: 4.2867 - val_accuracy: 0.4736 - lr: 0.0010 - 8s/epoch - 212ms/step
Epoch 63/75
36/36 - 8s - loss: 0.1086 - accuracy: 0.9628 - val_loss: 4.5100 - val_accuracy: 0.4603 - lr: 0.0010 - 8s/epoch - 213ms/step
Epoch 64/75
36/36 - 8s - loss: 0.1066 - accuracy: 0.9632 - val_loss: 5.5530 - val_accuracy: 0.4306 - lr: 0.0010 - 8s/epoch - 212ms/step
Epoch 65/75
36/36 - 8s - loss: 0.1077 - accuracy: 0.9637 - val_loss: 4.8379 - val_accuracy: 0.4475 - lr: 0.0010 - 8s/epoch - 213ms/step
Epoch 66/75
36/36 - 8s - loss: 0.1050 - accuracy: 0.9644 - val_loss: 4.9408 - val_accuracy: 0.4458 - lr: 0.0010 - 8s/epoch - 213ms/step
Epoch 67/75
36/36 - 8s - loss: 0.1082 - accuracy: 0.9630 - val_loss: 4.9741 - val_accuracy: 0.4497 - lr: 0.0010 - 8s/epoch - 212ms/step
Epoch 68/75
36/36 - 8s - loss: 0.1139 - accuracy: 0.9604 - val_loss: 5.3085 - val_accuracy: 0.4304 - lr: 0.0010 - 8s/epoch - 212ms/step
Epoch 69/75
36/36 - 8s - loss: 0.1073 - accuracy: 0.9628 - val_loss: 4.6397 - val_accuracy: 0.4584 - lr: 0.0010 - 8s/epoch - 212ms/step
Epoch 70/75
36/36 - 8s - loss: 0.1084 - accuracy: 0.9624 - val_loss: 4.9061 - val_accuracy: 0.4490 - lr: 0.0010 - 8s/epoch - 212ms/step
Epoch 71/75
36/36 - 8s - loss: 0.1082 - accuracy: 0.9621 - val_loss: 4.6181 - val_accuracy: 0.4597 - lr: 0.0010 - 8s/epoch - 212ms/step
Epoch 72/75
36/36 - 8s - loss: 0.1070 - accuracy: 0.9634 - val_loss: 4.2028 - val_accuracy: 0.4796 - lr: 0.0010 - 8s/epoch - 212ms/step
Epoch 73/75
36/36 - 8s - loss: 0.1062 - accuracy: 0.9634 - val_loss: 4.9797 - val_accuracy: 0.4456 - lr: 0.0010 - 8s/epoch - 212ms/step
Epoch 74/75
36/36 - 8s - loss: 0.1095 - accuracy: 0.9617 - val_loss: 4.6295 - val_accuracy: 0.4614 - lr: 0.0010 - 8s/epoch - 212ms/step
Epoch 75/75
36/36 - 8s - loss: 0.1064 - accuracy: 0.9628 - val_loss: 4.5086 - val_accuracy: 0.4631 - lr: 0.0010 - 8s/epoch - 212ms/step
Epoch 1/100
4378/4378 - 74s - loss: 0.3430 - accuracy: 0.8753 - val_loss: 4.7111 - val_accuracy: 0.3620 - lr: 0.0010 - 74s/epoch - 17ms/step
Epoch 2/100
4378/4378 - 71s - loss: 0.3454 - accuracy: 0.8700 - val_loss: 6.6723 - val_accuracy: 0.3319 - lr: 0.0010 - 71s/epoch - 16ms/step
Epoch 3/100
4378/4378 - 71s - loss: 0.3504 - accuracy: 0.8685 - val_loss: 2.6605 - val_accuracy: 0.4871 - lr: 0.0010 - 71s/epoch - 16ms/step
Epoch 4/100
4378/4378 - 71s - loss: 0.3536 - accuracy: 0.8663 - val_loss: 3.0117 - val_accuracy: 0.4679 - lr: 0.0010 - 71s/epoch - 16ms/step
Epoch 5/100
4378/4378 - 71s - loss: 0.3581 - accuracy: 0.8645 - val_loss: 4.7996 - val_accuracy: 0.4089 - lr: 0.0010 - 71s/epoch - 16ms/step
Epoch 6/100
4378/4378 - 71s - loss: 0.3553 - accuracy: 0.8666 - val_loss: 6.3762 - val_accuracy: 0.3844 - lr: 0.0010 - 71s/epoch - 16ms/step
Epoch 7/100
4378/4378 - 72s - loss: 0.3588 - accuracy: 0.8653 - val_loss: 1.4181 - val_accuracy: 0.5655 - lr: 0.0010 - 72s/epoch - 16ms/step
Epoch 8/100
4378/4378 - 71s - loss: 0.3525 - accuracy: 0.8674 - val_loss: 1.5655 - val_accuracy: 0.5463 - lr: 0.0010 - 71s/epoch - 16ms/step
Epoch 9/100
4378/4378 - 71s - loss: 0.3553 - accuracy: 0.8668 - val_loss: 1.0791 - val_accuracy: 0.6454 - lr: 0.0010 - 71s/epoch - 16ms/step
Epoch 10/100
4378/4378 - 71s - loss: 0.3539 - accuracy: 0.8665 - val_loss: 1.2948 - val_accuracy: 0.5779 - lr: 0.0010 - 71s/epoch - 16ms/step
Epoch 11/100
4378/4378 - 71s - loss: 0.3557 - accuracy: 0.8645 - val_loss: 0.9740 - val_accuracy: 0.6879 - lr: 0.0010 - 71s/epoch - 16ms/step
Epoch 12/100
4378/4378 - 71s - loss: 0.3524 - accuracy: 0.8674 - val_loss: 1.1111 - val_accuracy: 0.6318 - lr: 0.0010 - 71s/epoch - 16ms/step
Epoch 13/100
4378/4378 - 71s - loss: 0.3535 - accuracy: 0.8664 - val_loss: 1.6346 - val_accuracy: 0.5642 - lr: 0.0010 - 71s/epoch - 16ms/step
Epoch 14/100
4378/4378 - 71s - loss: 0.3604 - accuracy: 0.8643 - val_loss: 1.2270 - val_accuracy: 0.5790 - lr: 0.0010 - 71s/epoch - 16ms/step
Epoch 15/100
4378/4378 - 71s - loss: 0.3587 - accuracy: 0.8658 - val_loss: 2.2034 - val_accuracy: 0.5023 - lr: 0.0010 - 71s/epoch - 16ms/step
Epoch 16/100
4378/4378 - 71s - loss: 0.3558 - accuracy: 0.8666 - val_loss: 1.1869 - val_accuracy: 0.6180 - lr: 0.0010 - 71s/epoch - 16ms/step
Epoch 17/100
4378/4378 - 71s - loss: 0.3577 - accuracy: 0.8660 - val_loss: 2.0212 - val_accuracy: 0.5086 - lr: 0.0010 - 71s/epoch - 16ms/step
Epoch 18/100
4378/4378 - 71s - loss: 0.3559 - accuracy: 0.8668 - val_loss: 1.0090 - val_accuracy: 0.6605 - lr: 0.0010 - 71s/epoch - 16ms/step
Epoch 19/100
4378/4378 - 71s - loss: 0.3582 - accuracy: 0.8658 - val_loss: 1.0856 - val_accuracy: 0.6464 - lr: 0.0010 - 71s/epoch - 16ms/step
Epoch 20/100
4378/4378 - 71s - loss: 0.3538 - accuracy: 0.8680 - val_loss: 1.1980 - val_accuracy: 0.6160 - lr: 0.0010 - 71s/epoch - 16ms/step
Epoch 21/100
4378/4378 - 71s - loss: 0.3538 - accuracy: 0.8681 - val_loss: 1.1541 - val_accuracy: 0.6453 - lr: 0.0010 - 71s/epoch - 16ms/step
Epoch 22/100
4378/4378 - 71s - loss: 0.3567 - accuracy: 0.8664 - val_loss: 8.4348 - val_accuracy: 0.2652 - lr: 0.0010 - 71s/epoch - 16ms/step
Epoch 23/100
4378/4378 - 71s - loss: 0.3587 - accuracy: 0.8658 - val_loss: 1.4878 - val_accuracy: 0.5623 - lr: 0.0010 - 71s/epoch - 16ms/step
Epoch 24/100
4378/4378 - 71s - loss: 0.3533 - accuracy: 0.8679 - val_loss: 7.1103 - val_accuracy: 0.2087 - lr: 0.0010 - 71s/epoch - 16ms/step
Epoch 25/100
4378/4378 - 71s - loss: 0.3579 - accuracy: 0.8652 - val_loss: 1.0612 - val_accuracy: 0.6390 - lr: 0.0010 - 71s/epoch - 16ms/step
Epoch 26/100
4378/4378 - 71s - loss: 0.3561 - accuracy: 0.8669 - val_loss: 1.4815 - val_accuracy: 0.5824 - lr: 0.0010 - 71s/epoch - 16ms/step
Epoch 27/100
4378/4378 - 71s - loss: 0.3546 - accuracy: 0.8663 - val_loss: 0.8802 - val_accuracy: 0.7008 - lr: 0.0010 - 71s/epoch - 16ms/step
Epoch 28/100
4378/4378 - 71s - loss: 0.3544 - accuracy: 0.8658 - val_loss: 1.0270 - val_accuracy: 0.6522 - lr: 0.0010 - 71s/epoch - 16ms/step
Epoch 29/100
4378/4378 - 71s - loss: 0.3552 - accuracy: 0.8662 - val_loss: 1.1282 - val_accuracy: 0.6513 - lr: 0.0010 - 71s/epoch - 16ms/step
Epoch 30/100
4378/4378 - 71s - loss: 0.3556 - accuracy: 0.8672 - val_loss: 0.8286 - val_accuracy: 0.7108 - lr: 0.0010 - 71s/epoch - 16ms/step
Epoch 31/100
4378/4378 - 71s - loss: 0.3521 - accuracy: 0.8690 - val_loss: 1.1238 - val_accuracy: 0.6258 - lr: 0.0010 - 71s/epoch - 16ms/step
Epoch 32/100
4378/4378 - 71s - loss: 0.3549 - accuracy: 0.8658 - val_loss: 1.8566 - val_accuracy: 0.5681 - lr: 0.0010 - 71s/epoch - 16ms/step
Epoch 33/100
4378/4378 - 71s - loss: 0.3529 - accuracy: 0.8677 - val_loss: 1.1030 - val_accuracy: 0.6308 - lr: 0.0010 - 71s/epoch - 16ms/step
Epoch 34/100
4378/4378 - 71s - loss: 0.3592 - accuracy: 0.8642 - val_loss: 4.2430 - val_accuracy: 0.3653 - lr: 0.0010 - 71s/epoch - 16ms/step
Epoch 35/100
4378/4378 - 71s - loss: 0.3517 - accuracy: 0.8682 - val_loss: 2.3721 - val_accuracy: 0.5432 - lr: 0.0010 - 71s/epoch - 16ms/step
Epoch 36/100
4378/4378 - 71s - loss: 0.3536 - accuracy: 0.8672 - val_loss: 2.8709 - val_accuracy: 0.4919 - lr: 0.0010 - 71s/epoch - 16ms/step
Epoch 37/100
4378/4378 - 71s - loss: 0.3571 - accuracy: 0.8650 - val_loss: 1.0261 - val_accuracy: 0.6661 - lr: 0.0010 - 71s/epoch - 16ms/step
Epoch 38/100
4378/4378 - 71s - loss: 0.3560 - accuracy: 0.8667 - val_loss: 1.9317 - val_accuracy: 0.5391 - lr: 0.0010 - 71s/epoch - 16ms/step
Epoch 39/100
4378/4378 - 71s - loss: 0.3524 - accuracy: 0.8669 - val_loss: 4.9427 - val_accuracy: 0.4638 - lr: 0.0010 - 71s/epoch - 16ms/step
Epoch 40/100
4378/4378 - 71s - loss: 0.3529 - accuracy: 0.8678 - val_loss: 1.4443 - val_accuracy: 0.5512 - lr: 0.0010 - 71s/epoch - 16ms/step
Epoch 41/100
4378/4378 - 71s - loss: 0.3553 - accuracy: 0.8673 - val_loss: 3.5627 - val_accuracy: 0.4647 - lr: 0.0010 - 71s/epoch - 16ms/step
Epoch 42/100
4378/4378 - 71s - loss: 0.3556 - accuracy: 0.8668 - val_loss: 1.9460 - val_accuracy: 0.5124 - lr: 0.0010 - 71s/epoch - 16ms/step
Epoch 43/100
4378/4378 - 71s - loss: 0.3547 - accuracy: 0.8664 - val_loss: 0.8195 - val_accuracy: 0.7256 - lr: 0.0010 - 71s/epoch - 16ms/step
Epoch 44/100
4378/4378 - 71s - loss: 0.3542 - accuracy: 0.8670 - val_loss: 2.2404 - val_accuracy: 0.5312 - lr: 0.0010 - 71s/epoch - 16ms/step
Epoch 45/100
4378/4378 - 71s - loss: 0.3544 - accuracy: 0.8668 - val_loss: 0.9380 - val_accuracy: 0.6887 - lr: 0.0010 - 71s/epoch - 16ms/step
Epoch 46/100
4378/4378 - 71s - loss: 0.3534 - accuracy: 0.8683 - val_loss: 1.2017 - val_accuracy: 0.6015 - lr: 0.0010 - 71s/epoch - 16ms/step
Epoch 47/100
4378/4378 - 71s - loss: 0.3558 - accuracy: 0.8667 - val_loss: 0.9350 - val_accuracy: 0.6802 - lr: 0.0010 - 71s/epoch - 16ms/step
Epoch 48/100
4378/4378 - 71s - loss: 0.3504 - accuracy: 0.8682 - val_loss: 1.7524 - val_accuracy: 0.5523 - lr: 0.0010 - 71s/epoch - 16ms/step
Epoch 49/100
4378/4378 - 72s - loss: 0.3523 - accuracy: 0.8679 - val_loss: 0.9694 - val_accuracy: 0.6851 - lr: 0.0010 - 72s/epoch - 16ms/step
Epoch 50/100
4378/4378 - 74s - loss: 0.3538 - accuracy: 0.8683 - val_loss: 1.1566 - val_accuracy: 0.5918 - lr: 0.0010 - 74s/epoch - 17ms/step
Epoch 51/100
4378/4378 - 71s - loss: 0.3541 - accuracy: 0.8670 - val_loss: 1.1349 - val_accuracy: 0.6083 - lr: 0.0010 - 71s/epoch - 16ms/step
Epoch 52/100
4378/4378 - 71s - loss: 0.3507 - accuracy: 0.8684 - val_loss: 2.4966 - val_accuracy: 0.4692 - lr: 0.0010 - 71s/epoch - 16ms/step
Epoch 53/100
4378/4378 - 71s - loss: 0.3505 - accuracy: 0.8681 - val_loss: 0.9776 - val_accuracy: 0.6659 - lr: 0.0010 - 71s/epoch - 16ms/step
Epoch 54/100
4378/4378 - 71s - loss: 0.3471 - accuracy: 0.8704 - val_loss: 1.4988 - val_accuracy: 0.5650 - lr: 0.0010 - 71s/epoch - 16ms/step
Epoch 55/100
4378/4378 - 71s - loss: 0.3499 - accuracy: 0.8688 - val_loss: 1.2536 - val_accuracy: 0.5688 - lr: 0.0010 - 71s/epoch - 16ms/step
Epoch 56/100
4378/4378 - 74s - loss: 0.3525 - accuracy: 0.8667 - val_loss: 4.6038 - val_accuracy: 0.2838 - lr: 0.0010 - 74s/epoch - 17ms/step
Epoch 57/100
4378/4378 - 71s - loss: 0.3479 - accuracy: 0.8685 - val_loss: 1.2013 - val_accuracy: 0.6020 - lr: 0.0010 - 71s/epoch - 16ms/step
Epoch 58/100
4378/4378 - 71s - loss: 0.3474 - accuracy: 0.8688 - val_loss: 3.2430 - val_accuracy: 0.5188 - lr: 0.0010 - 71s/epoch - 16ms/step
Epoch 59/100
4378/4378 - 71s - loss: 0.3530 - accuracy: 0.8682 - val_loss: 1.3931 - val_accuracy: 0.5604 - lr: 0.0010 - 71s/epoch - 16ms/step
Epoch 60/100
4378/4378 - 71s - loss: 0.3504 - accuracy: 0.8681 - val_loss: 10.5378 - val_accuracy: 0.2155 - lr: 0.0010 - 71s/epoch - 16ms/step
Epoch 61/100
4378/4378 - 71s - loss: 0.3458 - accuracy: 0.8708 - val_loss: 1.1329 - val_accuracy: 0.6284 - lr: 0.0010 - 71s/epoch - 16ms/step
Epoch 62/100
4378/4378 - 71s - loss: 0.3520 - accuracy: 0.8690 - val_loss: 1.0854 - val_accuracy: 0.6332 - lr: 0.0010 - 71s/epoch - 16ms/step
Epoch 63/100
4378/4378 - 71s - loss: 0.3498 - accuracy: 0.8682 - val_loss: 1.2300 - val_accuracy: 0.6060 - lr: 0.0010 - 71s/epoch - 16ms/step
Epoch 64/100
4378/4378 - 71s - loss: 0.3486 - accuracy: 0.8691 - val_loss: 1.1985 - val_accuracy: 0.5893 - lr: 0.0010 - 71s/epoch - 16ms/step
Epoch 65/100
4378/4378 - 71s - loss: 0.3466 - accuracy: 0.8701 - val_loss: 1.7900 - val_accuracy: 0.5529 - lr: 0.0010 - 71s/epoch - 16ms/step
Epoch 66/100
4378/4378 - 71s - loss: 0.3501 - accuracy: 0.8686 - val_loss: 0.9838 - val_accuracy: 0.6704 - lr: 0.0010 - 71s/epoch - 16ms/step
Epoch 67/100
4378/4378 - 71s - loss: 0.3494 - accuracy: 0.8684 - val_loss: 1.9212 - val_accuracy: 0.5410 - lr: 0.0010 - 71s/epoch - 16ms/step
Epoch 68/100
4378/4378 - 71s - loss: 0.3494 - accuracy: 0.8687 - val_loss: 3.7116 - val_accuracy: 0.4735 - lr: 0.0010 - 71s/epoch - 16ms/step
Epoch 69/100
4378/4378 - 71s - loss: 0.3484 - accuracy: 0.8697 - val_loss: 1.3032 - val_accuracy: 0.5973 - lr: 0.0010 - 71s/epoch - 16ms/step
Epoch 70/100
4378/4378 - 71s - loss: 0.3437 - accuracy: 0.8707 - val_loss: 1.6627 - val_accuracy: 0.5042 - lr: 0.0010 - 71s/epoch - 16ms/step
Epoch 71/100
4378/4378 - 71s - loss: 0.3456 - accuracy: 0.8713 - val_loss: 1.3281 - val_accuracy: 0.5753 - lr: 0.0010 - 71s/epoch - 16ms/step
Epoch 72/100
4378/4378 - 71s - loss: 0.3468 - accuracy: 0.8690 - val_loss: 1.8281 - val_accuracy: 0.5130 - lr: 0.0010 - 71s/epoch - 16ms/step
Epoch 73/100
4378/4378 - 71s - loss: 0.3486 - accuracy: 0.8690 - val_loss: 1.0511 - val_accuracy: 0.6674 - lr: 0.0010 - 71s/epoch - 16ms/step
Epoch 74/100
4378/4378 - 71s - loss: 0.3446 - accuracy: 0.8708 - val_loss: 1.1725 - val_accuracy: 0.6187 - lr: 0.0010 - 71s/epoch - 16ms/step
Epoch 75/100
4378/4378 - 71s - loss: 0.3491 - accuracy: 0.8689 - val_loss: 3.4784 - val_accuracy: 0.4236 - lr: 0.0010 - 71s/epoch - 16ms/step
Epoch 76/100
4378/4378 - 71s - loss: 0.3488 - accuracy: 0.8688 - val_loss: 1.0988 - val_accuracy: 0.6349 - lr: 0.0010 - 71s/epoch - 16ms/step
Epoch 77/100
4378/4378 - 71s - loss: 0.3465 - accuracy: 0.8705 - val_loss: 0.9898 - val_accuracy: 0.6697 - lr: 0.0010 - 71s/epoch - 16ms/step
Epoch 78/100
4378/4378 - 71s - loss: 0.3464 - accuracy: 0.8701 - val_loss: 1.6849 - val_accuracy: 0.5401 - lr: 0.0010 - 71s/epoch - 16ms/step
Epoch 79/100
4378/4378 - 71s - loss: 0.3514 - accuracy: 0.8676 - val_loss: 10.1567 - val_accuracy: 0.2178 - lr: 0.0010 - 71s/epoch - 16ms/step
Epoch 80/100
4378/4378 - 71s - loss: 0.3484 - accuracy: 0.8700 - val_loss: 1.5801 - val_accuracy: 0.5927 - lr: 0.0010 - 71s/epoch - 16ms/step
Epoch 81/100
4378/4378 - 71s - loss: 0.3446 - accuracy: 0.8721 - val_loss: 12.6745 - val_accuracy: 0.2128 - lr: 0.0010 - 71s/epoch - 16ms/step
Epoch 82/100
4378/4378 - 71s - loss: 0.3471 - accuracy: 0.8685 - val_loss: 1.6945 - val_accuracy: 0.5359 - lr: 0.0010 - 71s/epoch - 16ms/step
Epoch 83/100
4378/4378 - 71s - loss: 0.3449 - accuracy: 0.8704 - val_loss: 9.5637 - val_accuracy: 0.2727 - lr: 0.0010 - 71s/epoch - 16ms/step
Epoch 84/100
4378/4378 - 71s - loss: 0.3449 - accuracy: 0.8704 - val_loss: 1.0375 - val_accuracy: 0.6712 - lr: 0.0010 - 71s/epoch - 16ms/step
Epoch 85/100
4378/4378 - 71s - loss: 0.3449 - accuracy: 0.8706 - val_loss: 1.1406 - val_accuracy: 0.6095 - lr: 0.0010 - 71s/epoch - 16ms/step
Epoch 86/100
4378/4378 - 71s - loss: 0.3444 - accuracy: 0.8707 - val_loss: 1.0233 - val_accuracy: 0.6665 - lr: 0.0010 - 71s/epoch - 16ms/step
Epoch 87/100
4378/4378 - 71s - loss: 0.3457 - accuracy: 0.8704 - val_loss: 1.1185 - val_accuracy: 0.6454 - lr: 0.0010 - 71s/epoch - 16ms/step
Epoch 88/100
4378/4378 - 72s - loss: 0.3445 - accuracy: 0.8703 - val_loss: 6.3494 - val_accuracy: 0.4221 - lr: 0.0010 - 72s/epoch - 16ms/step
Epoch 89/100
4378/4378 - 71s - loss: 0.3465 - accuracy: 0.8702 - val_loss: 14.0295 - val_accuracy: 0.2120 - lr: 0.0010 - 71s/epoch - 16ms/step
Epoch 90/100
4378/4378 - 71s - loss: 0.3469 - accuracy: 0.8693 - val_loss: 2.0506 - val_accuracy: 0.5290 - lr: 0.0010 - 71s/epoch - 16ms/step
Epoch 91/100
4378/4378 - 71s - loss: 0.3452 - accuracy: 0.8694 - val_loss: 1.9960 - val_accuracy: 0.5219 - lr: 0.0010 - 71s/epoch - 16ms/step
Epoch 92/100
4378/4378 - 71s - loss: 0.3434 - accuracy: 0.8706 - val_loss: 1.7948 - val_accuracy: 0.5641 - lr: 0.0010 - 71s/epoch - 16ms/step
Epoch 93/100
4378/4378 - 71s - loss: 0.3435 - accuracy: 0.8710 - val_loss: 8.3576 - val_accuracy: 0.3076 - lr: 0.0010 - 71s/epoch - 16ms/step
Epoch 94/100
4378/4378 - 71s - loss: 0.3415 - accuracy: 0.8722 - val_loss: 1.2854 - val_accuracy: 0.6167 - lr: 0.0010 - 71s/epoch - 16ms/step
Epoch 95/100
4378/4378 - 71s - loss: 0.3419 - accuracy: 0.8719 - val_loss: 1.0497 - val_accuracy: 0.6591 - lr: 0.0010 - 71s/epoch - 16ms/step
Epoch 96/100
4378/4378 - 71s - loss: 0.3402 - accuracy: 0.8712 - val_loss: 1.1077 - val_accuracy: 0.6367 - lr: 0.0010 - 71s/epoch - 16ms/step
Epoch 97/100
4378/4378 - 71s - loss: 0.3418 - accuracy: 0.8719 - val_loss: 1.3189 - val_accuracy: 0.6051 - lr: 0.0010 - 71s/epoch - 16ms/step
Epoch 98/100
4378/4378 - 71s - loss: 0.3392 - accuracy: 0.8721 - val_loss: 2.1998 - val_accuracy: 0.5625 - lr: 0.0010 - 71s/epoch - 16ms/step
Epoch 99/100
4378/4378 - 71s - loss: 0.3456 - accuracy: 0.8705 - val_loss: 2.8409 - val_accuracy: 0.5363 - lr: 0.0010 - 71s/epoch - 16ms/step
Epoch 100/100
4378/4378 - 74s - loss: 0.3429 - accuracy: 0.8710 - val_loss: 2.3952 - val_accuracy: 0.5143 - lr: 0.0010 - 74s/epoch - 17ms/step
Epoch 1/100
876/876 - 20s - loss: 0.2518 - accuracy: 0.9075 - val_loss: 1.7579 - val_accuracy: 0.5962 - lr: 0.0010 - 20s/epoch - 23ms/step
Epoch 2/100
876/876 - 18s - loss: 0.2504 - accuracy: 0.9086 - val_loss: 1.7973 - val_accuracy: 0.5922 - lr: 0.0010 - 18s/epoch - 20ms/step
Epoch 3/100
876/876 - 18s - loss: 0.2475 - accuracy: 0.9086 - val_loss: 3.9643 - val_accuracy: 0.5027 - lr: 0.0010 - 18s/epoch - 20ms/step
Epoch 4/100
876/876 - 18s - loss: 0.2442 - accuracy: 0.9093 - val_loss: 3.3269 - val_accuracy: 0.5323 - lr: 0.0010 - 18s/epoch - 20ms/step
Epoch 5/100
876/876 - 18s - loss: 0.2396 - accuracy: 0.9119 - val_loss: 12.5721 - val_accuracy: 0.2256 - lr: 0.0010 - 18s/epoch - 20ms/step
Epoch 6/100
876/876 - 18s - loss: 0.2398 - accuracy: 0.9114 - val_loss: 7.1910 - val_accuracy: 0.4330 - lr: 0.0010 - 18s/epoch - 20ms/step
Epoch 7/100
876/876 - 18s - loss: 0.2375 - accuracy: 0.9110 - val_loss: 8.6455 - val_accuracy: 0.3795 - lr: 0.0010 - 18s/epoch - 20ms/step
Epoch 8/100
876/876 - 18s - loss: 0.2355 - accuracy: 0.9131 - val_loss: 11.2847 - val_accuracy: 0.2401 - lr: 0.0010 - 18s/epoch - 20ms/step
Epoch 9/100
876/876 - 18s - loss: 0.2339 - accuracy: 0.9130 - val_loss: 3.5166 - val_accuracy: 0.4803 - lr: 0.0010 - 18s/epoch - 20ms/step
Epoch 10/100
876/876 - 18s - loss: 0.2343 - accuracy: 0.9129 - val_loss: 11.2541 - val_accuracy: 0.2431 - lr: 0.0010 - 18s/epoch - 20ms/step
Epoch 11/100
876/876 - 18s - loss: 0.2312 - accuracy: 0.9148 - val_loss: 2.6648 - val_accuracy: 0.5449 - lr: 0.0010 - 18s/epoch - 20ms/step
Epoch 12/100
876/876 - 18s - loss: 0.2300 - accuracy: 0.9151 - val_loss: 2.8438 - val_accuracy: 0.5186 - lr: 0.0010 - 18s/epoch - 20ms/step
Epoch 13/100
876/876 - 18s - loss: 0.2312 - accuracy: 0.9139 - val_loss: 4.2169 - val_accuracy: 0.4831 - lr: 0.0010 - 18s/epoch - 20ms/step
Epoch 14/100
876/876 - 18s - loss: 0.2287 - accuracy: 0.9147 - val_loss: 3.3404 - val_accuracy: 0.5099 - lr: 0.0010 - 18s/epoch - 20ms/step
Epoch 15/100
876/876 - 18s - loss: 0.2255 - accuracy: 0.9167 - val_loss: 3.1488 - val_accuracy: 0.5171 - lr: 0.0010 - 18s/epoch - 20ms/step
Epoch 16/100
876/876 - 18s - loss: 0.2274 - accuracy: 0.9159 - val_loss: 4.1159 - val_accuracy: 0.4727 - lr: 0.0010 - 18s/epoch - 20ms/step
Epoch 17/100
876/876 - 18s - loss: 0.2259 - accuracy: 0.9162 - val_loss: 4.1258 - val_accuracy: 0.4839 - lr: 0.0010 - 18s/epoch - 20ms/step
Epoch 18/100
876/876 - 18s - loss: 0.2255 - accuracy: 0.9162 - val_loss: 6.2261 - val_accuracy: 0.4468 - lr: 0.0010 - 18s/epoch - 20ms/step
Epoch 19/100
876/876 - 18s - loss: 0.2224 - accuracy: 0.9176 - val_loss: 2.0851 - val_accuracy: 0.5613 - lr: 0.0010 - 18s/epoch - 20ms/step
Epoch 20/100
876/876 - 18s - loss: 0.2239 - accuracy: 0.9158 - val_loss: 2.0486 - val_accuracy: 0.5636 - lr: 0.0010 - 18s/epoch - 20ms/step
Epoch 21/100
876/876 - 18s - loss: 0.2220 - accuracy: 0.9180 - val_loss: 1.9243 - val_accuracy: 0.5761 - lr: 0.0010 - 18s/epoch - 20ms/step
Epoch 22/100
876/876 - 18s - loss: 0.2240 - accuracy: 0.9184 - val_loss: 10.0481 - val_accuracy: 0.2354 - lr: 0.0010 - 18s/epoch - 20ms/step
Epoch 23/100
876/876 - 18s - loss: 0.2226 - accuracy: 0.9189 - val_loss: 5.7317 - val_accuracy: 0.4299 - lr: 0.0010 - 18s/epoch - 20ms/step
Epoch 24/100
876/876 - 18s - loss: 0.2197 - accuracy: 0.9197 - val_loss: 5.8319 - val_accuracy: 0.4244 - lr: 0.0010 - 18s/epoch - 20ms/step
Epoch 25/100
876/876 - 18s - loss: 0.2207 - accuracy: 0.9177 - val_loss: 4.1953 - val_accuracy: 0.4609 - lr: 0.0010 - 18s/epoch - 20ms/step
Epoch 26/100
876/876 - 18s - loss: 0.2244 - accuracy: 0.9170 - val_loss: 4.9872 - val_accuracy: 0.4476 - lr: 0.0010 - 18s/epoch - 20ms/step
Epoch 27/100
876/876 - 18s - loss: 0.2198 - accuracy: 0.9186 - val_loss: 7.8472 - val_accuracy: 0.3560 - lr: 0.0010 - 18s/epoch - 20ms/step
Epoch 28/100
876/876 - 18s - loss: 0.2178 - accuracy: 0.9194 - val_loss: 4.3615 - val_accuracy: 0.5006 - lr: 0.0010 - 18s/epoch - 20ms/step
Epoch 29/100
876/876 - 18s - loss: 0.2193 - accuracy: 0.9189 - val_loss: 4.2786 - val_accuracy: 0.4723 - lr: 0.0010 - 18s/epoch - 20ms/step
Epoch 30/100
876/876 - 18s - loss: 0.2191 - accuracy: 0.9187 - val_loss: 3.7181 - val_accuracy: 0.5021 - lr: 0.0010 - 18s/epoch - 20ms/step
Epoch 31/100
876/876 - 18s - loss: 0.2176 - accuracy: 0.9198 - val_loss: 2.7584 - val_accuracy: 0.5496 - lr: 0.0010 - 18s/epoch - 20ms/step
Epoch 32/100
876/876 - 18s - loss: 0.2144 - accuracy: 0.9201 - val_loss: 3.0614 - val_accuracy: 0.4971 - lr: 0.0010 - 18s/epoch - 20ms/step
Epoch 33/100
876/876 - 18s - loss: 0.2166 - accuracy: 0.9199 - val_loss: 6.7222 - val_accuracy: 0.4722 - lr: 0.0010 - 18s/epoch - 20ms/step
Epoch 34/100
876/876 - 18s - loss: 0.2159 - accuracy: 0.9202 - val_loss: 4.7968 - val_accuracy: 0.4968 - lr: 0.0010 - 18s/epoch - 20ms/step
Epoch 35/100
876/876 - 18s - loss: 0.2166 - accuracy: 0.9203 - val_loss: 2.2195 - val_accuracy: 0.5735 - lr: 0.0010 - 18s/epoch - 20ms/step
Epoch 36/100
876/876 - 18s - loss: 0.2185 - accuracy: 0.9188 - val_loss: 2.1354 - val_accuracy: 0.5867 - lr: 0.0010 - 18s/epoch - 20ms/step
Epoch 37/100
876/876 - 18s - loss: 0.2197 - accuracy: 0.9185 - val_loss: 3.0698 - val_accuracy: 0.5281 - lr: 0.0010 - 18s/epoch - 20ms/step
Epoch 38/100
876/876 - 18s - loss: 0.2152 - accuracy: 0.9206 - val_loss: 4.3517 - val_accuracy: 0.4743 - lr: 0.0010 - 18s/epoch - 20ms/step
Epoch 39/100
876/876 - 18s - loss: 0.2149 - accuracy: 0.9203 - val_loss: 3.9232 - val_accuracy: 0.4858 - lr: 0.0010 - 18s/epoch - 20ms/step
Epoch 40/100
876/876 - 18s - loss: 0.2132 - accuracy: 0.9207 - val_loss: 7.7542 - val_accuracy: 0.3685 - lr: 0.0010 - 18s/epoch - 20ms/step
Epoch 41/100
876/876 - 18s - loss: 0.2151 - accuracy: 0.9210 - val_loss: 4.0526 - val_accuracy: 0.4901 - lr: 0.0010 - 18s/epoch - 20ms/step
Epoch 42/100
876/876 - 18s - loss: 0.2161 - accuracy: 0.9197 - val_loss: 3.4011 - val_accuracy: 0.5033 - lr: 0.0010 - 18s/epoch - 20ms/step
Epoch 43/100
876/876 - 18s - loss: 0.2161 - accuracy: 0.9193 - val_loss: 3.9938 - val_accuracy: 0.4643 - lr: 0.0010 - 18s/epoch - 20ms/step
Epoch 44/100
876/876 - 18s - loss: 0.2158 - accuracy: 0.9202 - val_loss: 4.9199 - val_accuracy: 0.4428 - lr: 0.0010 - 18s/epoch - 20ms/step
Epoch 45/100
876/876 - 18s - loss: 0.2133 - accuracy: 0.9208 - val_loss: 3.9518 - val_accuracy: 0.5118 - lr: 0.0010 - 18s/epoch - 20ms/step
Epoch 46/100
876/876 - 18s - loss: 0.2100 - accuracy: 0.9219 - val_loss: 2.5498 - val_accuracy: 0.5533 - lr: 0.0010 - 18s/epoch - 20ms/step
Epoch 47/100
876/876 - 18s - loss: 0.2083 - accuracy: 0.9219 - val_loss: 5.6032 - val_accuracy: 0.4612 - lr: 0.0010 - 18s/epoch - 20ms/step
Epoch 48/100
876/876 - 18s - loss: 0.2103 - accuracy: 0.9223 - val_loss: 6.3361 - val_accuracy: 0.4520 - lr: 0.0010 - 18s/epoch - 20ms/step
Epoch 49/100
876/876 - 18s - loss: 0.2102 - accuracy: 0.9221 - val_loss: 2.7435 - val_accuracy: 0.5484 - lr: 0.0010 - 18s/epoch - 20ms/step
Epoch 50/100
876/876 - 18s - loss: 0.2143 - accuracy: 0.9216 - val_loss: 3.4010 - val_accuracy: 0.5033 - lr: 0.0010 - 18s/epoch - 20ms/step
Epoch 51/100
876/876 - 18s - loss: 0.2131 - accuracy: 0.9217 - val_loss: 2.3558 - val_accuracy: 0.5644 - lr: 0.0010 - 18s/epoch - 20ms/step
Epoch 52/100
876/876 - 18s - loss: 0.2128 - accuracy: 0.9223 - val_loss: 2.9728 - val_accuracy: 0.5268 - lr: 0.0010 - 18s/epoch - 20ms/step
Epoch 53/100
876/876 - 18s - loss: 0.2120 - accuracy: 0.9216 - val_loss: 2.7670 - val_accuracy: 0.5388 - lr: 0.0010 - 18s/epoch - 20ms/step
Epoch 54/100
876/876 - 18s - loss: 0.2089 - accuracy: 0.9233 - val_loss: 1.8713 - val_accuracy: 0.5877 - lr: 0.0010 - 18s/epoch - 20ms/step
Epoch 55/100
876/876 - 18s - loss: 0.2113 - accuracy: 0.9224 - val_loss: 2.3122 - val_accuracy: 0.5788 - lr: 0.0010 - 18s/epoch - 20ms/step
Epoch 56/100
876/876 - 18s - loss: 0.2069 - accuracy: 0.9239 - val_loss: 3.9976 - val_accuracy: 0.5073 - lr: 0.0010 - 18s/epoch - 20ms/step
Epoch 57/100
876/876 - 18s - loss: 0.2095 - accuracy: 0.9228 - val_loss: 1.7949 - val_accuracy: 0.6309 - lr: 0.0010 - 18s/epoch - 20ms/step
Epoch 58/100
876/876 - 18s - loss: 0.2087 - accuracy: 0.9233 - val_loss: 2.6604 - val_accuracy: 0.5517 - lr: 0.0010 - 18s/epoch - 20ms/step
Epoch 59/100
876/876 - 18s - loss: 0.2109 - accuracy: 0.9221 - val_loss: 2.2446 - val_accuracy: 0.5870 - lr: 0.0010 - 18s/epoch - 20ms/step
Epoch 60/100
876/876 - 18s - loss: 0.2095 - accuracy: 0.9228 - val_loss: 5.2146 - val_accuracy: 0.4520 - lr: 0.0010 - 18s/epoch - 20ms/step
Epoch 61/100
876/876 - 18s - loss: 0.2067 - accuracy: 0.9243 - val_loss: 8.1720 - val_accuracy: 0.4130 - lr: 0.0010 - 18s/epoch - 20ms/step
Epoch 62/100
876/876 - 18s - loss: 0.2085 - accuracy: 0.9228 - val_loss: 1.8283 - val_accuracy: 0.5929 - lr: 0.0010 - 18s/epoch - 20ms/step
Epoch 63/100
876/876 - 18s - loss: 0.2065 - accuracy: 0.9244 - val_loss: 4.0990 - val_accuracy: 0.4853 - lr: 0.0010 - 18s/epoch - 20ms/step
Epoch 64/100
876/876 - 18s - loss: 0.2070 - accuracy: 0.9235 - val_loss: 4.6185 - val_accuracy: 0.4764 - lr: 0.0010 - 18s/epoch - 20ms/step
Epoch 65/100
876/876 - 18s - loss: 0.2055 - accuracy: 0.9247 - val_loss: 4.9366 - val_accuracy: 0.4577 - lr: 0.0010 - 18s/epoch - 20ms/step
Epoch 66/100
876/876 - 18s - loss: 0.2075 - accuracy: 0.9228 - val_loss: 1.7346 - val_accuracy: 0.6058 - lr: 0.0010 - 18s/epoch - 20ms/step
Epoch 67/100
876/876 - 18s - loss: 0.2051 - accuracy: 0.9246 - val_loss: 4.6631 - val_accuracy: 0.4653 - lr: 0.0010 - 18s/epoch - 20ms/step
Epoch 68/100
876/876 - 18s - loss: 0.2039 - accuracy: 0.9246 - val_loss: 5.3941 - val_accuracy: 0.4486 - lr: 0.0010 - 18s/epoch - 20ms/step
Epoch 69/100
876/876 - 18s - loss: 0.2033 - accuracy: 0.9252 - val_loss: 9.2724 - val_accuracy: 0.3256 - lr: 0.0010 - 18s/epoch - 20ms/step
Epoch 70/100
876/876 - 18s - loss: 0.2066 - accuracy: 0.9235 - val_loss: 2.6312 - val_accuracy: 0.5485 - lr: 0.0010 - 18s/epoch - 20ms/step
Epoch 71/100
876/876 - 18s - loss: 0.2100 - accuracy: 0.9228 - val_loss: 3.7117 - val_accuracy: 0.4850 - lr: 0.0010 - 18s/epoch - 20ms/step
Epoch 72/100
876/876 - 18s - loss: 0.2054 - accuracy: 0.9244 - val_loss: 6.1602 - val_accuracy: 0.4310 - lr: 0.0010 - 18s/epoch - 20ms/step
Epoch 73/100
876/876 - 18s - loss: 0.2041 - accuracy: 0.9249 - val_loss: 3.7633 - val_accuracy: 0.4820 - lr: 0.0010 - 18s/epoch - 20ms/step
Epoch 74/100
876/876 - 18s - loss: 0.2010 - accuracy: 0.9251 - val_loss: 4.3652 - val_accuracy: 0.4989 - lr: 0.0010 - 18s/epoch - 20ms/step
Epoch 75/100
876/876 - 18s - loss: 0.2060 - accuracy: 0.9250 - val_loss: 3.9012 - val_accuracy: 0.4968 - lr: 0.0010 - 18s/epoch - 20ms/step
Epoch 76/100
876/876 - 18s - loss: 0.2037 - accuracy: 0.9250 - val_loss: 6.4349 - val_accuracy: 0.4375 - lr: 0.0010 - 18s/epoch - 20ms/step
Epoch 77/100
876/876 - 18s - loss: 0.2054 - accuracy: 0.9243 - val_loss: 6.3948 - val_accuracy: 0.4387 - lr: 0.0010 - 18s/epoch - 20ms/step
Epoch 78/100
876/876 - 18s - loss: 0.2038 - accuracy: 0.9251 - val_loss: 1.6557 - val_accuracy: 0.6162 - lr: 0.0010 - 18s/epoch - 20ms/step
Epoch 79/100
876/876 - 18s - loss: 0.2041 - accuracy: 0.9256 - val_loss: 4.4951 - val_accuracy: 0.4909 - lr: 0.0010 - 18s/epoch - 20ms/step
Epoch 80/100
876/876 - 18s - loss: 0.2000 - accuracy: 0.9264 - val_loss: 2.7751 - val_accuracy: 0.5241 - lr: 0.0010 - 18s/epoch - 20ms/step
Epoch 81/100
876/876 - 18s - loss: 0.2051 - accuracy: 0.9248 - val_loss: 2.5904 - val_accuracy: 0.5476 - lr: 0.0010 - 18s/epoch - 20ms/step
Epoch 82/100
876/876 - 18s - loss: 0.2062 - accuracy: 0.9236 - val_loss: 1.9793 - val_accuracy: 0.6015 - lr: 0.0010 - 18s/epoch - 20ms/step
Epoch 83/100
876/876 - 18s - loss: 0.2023 - accuracy: 0.9258 - val_loss: 4.0104 - val_accuracy: 0.4799 - lr: 0.0010 - 18s/epoch - 20ms/step
Epoch 84/100
876/876 - 18s - loss: 0.2024 - accuracy: 0.9249 - val_loss: 3.8746 - val_accuracy: 0.4885 - lr: 0.0010 - 18s/epoch - 20ms/step
Epoch 85/100
876/876 - 18s - loss: 0.2027 - accuracy: 0.9259 - val_loss: 5.0492 - val_accuracy: 0.4553 - lr: 0.0010 - 18s/epoch - 20ms/step
Epoch 86/100
876/876 - 18s - loss: 0.2016 - accuracy: 0.9259 - val_loss: 3.7738 - val_accuracy: 0.4895 - lr: 0.0010 - 18s/epoch - 20ms/step
Epoch 87/100
876/876 - 18s - loss: 0.2020 - accuracy: 0.9253 - val_loss: 3.0338 - val_accuracy: 0.5428 - lr: 0.0010 - 18s/epoch - 20ms/step
Epoch 88/100
876/876 - 18s - loss: 0.2022 - accuracy: 0.9263 - val_loss: 3.9628 - val_accuracy: 0.4868 - lr: 0.0010 - 18s/epoch - 20ms/step
Epoch 89/100
876/876 - 18s - loss: 0.2012 - accuracy: 0.9250 - val_loss: 4.0871 - val_accuracy: 0.4611 - lr: 0.0010 - 18s/epoch - 20ms/step
Epoch 90/100
876/876 - 18s - loss: 0.2001 - accuracy: 0.9265 - val_loss: 2.6786 - val_accuracy: 0.5235 - lr: 0.0010 - 18s/epoch - 20ms/step
Epoch 91/100
876/876 - 18s - loss: 0.2012 - accuracy: 0.9254 - val_loss: 1.9632 - val_accuracy: 0.5777 - lr: 0.0010 - 18s/epoch - 20ms/step
Epoch 92/100
876/876 - 18s - loss: 0.1979 - accuracy: 0.9264 - val_loss: 2.5210 - val_accuracy: 0.5640 - lr: 0.0010 - 18s/epoch - 20ms/step
Epoch 93/100
876/876 - 18s - loss: 0.2040 - accuracy: 0.9253 - val_loss: 1.4652 - val_accuracy: 0.6335 - lr: 0.0010 - 18s/epoch - 20ms/step
Epoch 94/100
876/876 - 18s - loss: 0.2003 - accuracy: 0.9253 - val_loss: 7.8543 - val_accuracy: 0.4203 - lr: 0.0010 - 18s/epoch - 20ms/step
Epoch 95/100
876/876 - 18s - loss: 0.2007 - accuracy: 0.9250 - val_loss: 2.6723 - val_accuracy: 0.5418 - lr: 0.0010 - 18s/epoch - 20ms/step
Epoch 96/100
876/876 - 18s - loss: 0.2027 - accuracy: 0.9246 - val_loss: 3.4427 - val_accuracy: 0.5118 - lr: 0.0010 - 18s/epoch - 20ms/step
Epoch 97/100
876/876 - 18s - loss: 0.2012 - accuracy: 0.9262 - val_loss: 4.1488 - val_accuracy: 0.4933 - lr: 0.0010 - 18s/epoch - 20ms/step
Epoch 98/100
876/876 - 18s - loss: 0.1994 - accuracy: 0.9269 - val_loss: 2.0091 - val_accuracy: 0.5843 - lr: 0.0010 - 18s/epoch - 20ms/step
Epoch 99/100
876/876 - 18s - loss: 0.2041 - accuracy: 0.9250 - val_loss: 2.5004 - val_accuracy: 0.5468 - lr: 0.0010 - 18s/epoch - 20ms/step
Epoch 100/100
876/876 - 18s - loss: 0.2015 - accuracy: 0.9261 - val_loss: 7.3357 - val_accuracy: 0.3947 - lr: 0.0010 - 18s/epoch - 20ms/step
Epoch 1/100
176/176 - 11s - loss: 0.1485 - accuracy: 0.9477 - val_loss: 6.9019 - val_accuracy: 0.4277 - lr: 0.0010 - 11s/epoch - 63ms/step
Epoch 2/100
176/176 - 9s - loss: 0.1340 - accuracy: 0.9535 - val_loss: 5.9423 - val_accuracy: 0.4442 - lr: 0.0010 - 9s/epoch - 51ms/step
Epoch 3/100
176/176 - 9s - loss: 0.1276 - accuracy: 0.9551 - val_loss: 5.2860 - val_accuracy: 0.4641 - lr: 0.0010 - 9s/epoch - 50ms/step
Epoch 4/100
176/176 - 9s - loss: 0.1282 - accuracy: 0.9558 - val_loss: 5.6505 - val_accuracy: 0.4612 - lr: 0.0010 - 9s/epoch - 50ms/step
Epoch 5/100
176/176 - 9s - loss: 0.1299 - accuracy: 0.9543 - val_loss: 4.9233 - val_accuracy: 0.4794 - lr: 0.0010 - 9s/epoch - 50ms/step
Epoch 6/100
176/176 - 9s - loss: 0.1302 - accuracy: 0.9537 - val_loss: 4.0761 - val_accuracy: 0.4984 - lr: 0.0010 - 9s/epoch - 50ms/step
Epoch 7/100
176/176 - 9s - loss: 0.1316 - accuracy: 0.9534 - val_loss: 8.3528 - val_accuracy: 0.4164 - lr: 0.0010 - 9s/epoch - 50ms/step
Epoch 8/100
176/176 - 9s - loss: 0.1349 - accuracy: 0.9515 - val_loss: 6.0371 - val_accuracy: 0.4592 - lr: 0.0010 - 9s/epoch - 50ms/step
Epoch 9/100
176/176 - 9s - loss: 0.1307 - accuracy: 0.9542 - val_loss: 6.7889 - val_accuracy: 0.4258 - lr: 0.0010 - 9s/epoch - 50ms/step
Epoch 10/100
176/176 - 9s - loss: 0.1293 - accuracy: 0.9551 - val_loss: 7.3566 - val_accuracy: 0.4306 - lr: 0.0010 - 9s/epoch - 51ms/step
Epoch 11/100
176/176 - 9s - loss: 0.1325 - accuracy: 0.9536 - val_loss: 4.1965 - val_accuracy: 0.5106 - lr: 0.0010 - 9s/epoch - 50ms/step
Epoch 12/100
176/176 - 9s - loss: 0.1304 - accuracy: 0.9542 - val_loss: 4.9966 - val_accuracy: 0.4704 - lr: 0.0010 - 9s/epoch - 50ms/step
Epoch 13/100
176/176 - 9s - loss: 0.1312 - accuracy: 0.9532 - val_loss: 5.4833 - val_accuracy: 0.4424 - lr: 0.0010 - 9s/epoch - 50ms/step
Epoch 14/100
176/176 - 9s - loss: 0.1327 - accuracy: 0.9527 - val_loss: 4.1654 - val_accuracy: 0.4917 - lr: 0.0010 - 9s/epoch - 50ms/step
Epoch 15/100
176/176 - 9s - loss: 0.1283 - accuracy: 0.9542 - val_loss: 6.2923 - val_accuracy: 0.4371 - lr: 0.0010 - 9s/epoch - 50ms/step
Epoch 16/100
176/176 - 9s - loss: 0.1316 - accuracy: 0.9535 - val_loss: 7.3867 - val_accuracy: 0.4138 - lr: 0.0010 - 9s/epoch - 50ms/step
Epoch 17/100
176/176 - 9s - loss: 0.1352 - accuracy: 0.9515 - val_loss: 6.4603 - val_accuracy: 0.4386 - lr: 0.0010 - 9s/epoch - 51ms/step
Epoch 18/100
176/176 - 9s - loss: 0.1325 - accuracy: 0.9528 - val_loss: 6.3127 - val_accuracy: 0.4274 - lr: 0.0010 - 9s/epoch - 50ms/step
Epoch 19/100
176/176 - 9s - loss: 0.1298 - accuracy: 0.9536 - val_loss: 8.0744 - val_accuracy: 0.4130 - lr: 0.0010 - 9s/epoch - 50ms/step
Epoch 20/100
176/176 - 9s - loss: 0.1306 - accuracy: 0.9535 - val_loss: 7.2006 - val_accuracy: 0.4333 - lr: 0.0010 - 9s/epoch - 50ms/step
Epoch 21/100
176/176 - 9s - loss: 0.1312 - accuracy: 0.9529 - val_loss: 7.0378 - val_accuracy: 0.4286 - lr: 0.0010 - 9s/epoch - 50ms/step
Epoch 22/100
176/176 - 9s - loss: 0.1305 - accuracy: 0.9528 - val_loss: 5.2426 - val_accuracy: 0.4686 - lr: 0.0010 - 9s/epoch - 50ms/step
Epoch 23/100
176/176 - 9s - loss: 0.1294 - accuracy: 0.9536 - val_loss: 6.1327 - val_accuracy: 0.4579 - lr: 0.0010 - 9s/epoch - 50ms/step
Epoch 24/100
176/176 - 9s - loss: 0.1316 - accuracy: 0.9536 - val_loss: 4.8013 - val_accuracy: 0.4663 - lr: 0.0010 - 9s/epoch - 51ms/step
Epoch 25/100
176/176 - 9s - loss: 0.1261 - accuracy: 0.9553 - val_loss: 4.8380 - val_accuracy: 0.4828 - lr: 0.0010 - 9s/epoch - 50ms/step
Epoch 26/100
176/176 - 9s - loss: 0.1261 - accuracy: 0.9551 - val_loss: 5.4088 - val_accuracy: 0.4656 - lr: 0.0010 - 9s/epoch - 50ms/step
Epoch 27/100
176/176 - 9s - loss: 0.1212 - accuracy: 0.9570 - val_loss: 6.4744 - val_accuracy: 0.4436 - lr: 0.0010 - 9s/epoch - 50ms/step
Epoch 28/100
176/176 - 9s - loss: 0.1247 - accuracy: 0.9555 - val_loss: 8.3815 - val_accuracy: 0.4292 - lr: 0.0010 - 9s/epoch - 50ms/step
Epoch 29/100
176/176 - 9s - loss: 0.1232 - accuracy: 0.9568 - val_loss: 6.2359 - val_accuracy: 0.4519 - lr: 0.0010 - 9s/epoch - 50ms/step
Epoch 30/100
176/176 - 9s - loss: 0.1301 - accuracy: 0.9537 - val_loss: 6.8554 - val_accuracy: 0.4407 - lr: 0.0010 - 9s/epoch - 50ms/step
Epoch 31/100
176/176 - 9s - loss: 0.1264 - accuracy: 0.9549 - val_loss: 7.1484 - val_accuracy: 0.4341 - lr: 0.0010 - 9s/epoch - 50ms/step
Epoch 32/100
176/176 - 9s - loss: 0.1281 - accuracy: 0.9545 - val_loss: 6.9720 - val_accuracy: 0.4466 - lr: 0.0010 - 9s/epoch - 51ms/step
Epoch 33/100
176/176 - 9s - loss: 0.1270 - accuracy: 0.9545 - val_loss: 5.9423 - val_accuracy: 0.4509 - lr: 0.0010 - 9s/epoch - 50ms/step
Epoch 34/100
176/176 - 9s - loss: 0.1265 - accuracy: 0.9551 - val_loss: 6.1287 - val_accuracy: 0.4487 - lr: 0.0010 - 9s/epoch - 50ms/step
Epoch 35/100
176/176 - 9s - loss: 0.1273 - accuracy: 0.9547 - val_loss: 12.9248 - val_accuracy: 0.2390 - lr: 0.0010 - 9s/epoch - 50ms/step
Epoch 36/100
176/176 - 9s - loss: 0.1286 - accuracy: 0.9546 - val_loss: 6.4276 - val_accuracy: 0.4559 - lr: 0.0010 - 9s/epoch - 50ms/step
Epoch 37/100
176/176 - 9s - loss: 0.1288 - accuracy: 0.9541 - val_loss: 4.9558 - val_accuracy: 0.4928 - lr: 0.0010 - 9s/epoch - 50ms/step
Epoch 38/100
176/176 - 9s - loss: 0.1248 - accuracy: 0.9554 - val_loss: 7.8723 - val_accuracy: 0.4228 - lr: 0.0010 - 9s/epoch - 50ms/step
Epoch 39/100
176/176 - 9s - loss: 0.1253 - accuracy: 0.9553 - val_loss: 4.7182 - val_accuracy: 0.4906 - lr: 0.0010 - 9s/epoch - 51ms/step
Epoch 40/100
176/176 - 9s - loss: 0.1267 - accuracy: 0.9551 - val_loss: 6.5600 - val_accuracy: 0.4521 - lr: 0.0010 - 9s/epoch - 50ms/step
Epoch 41/100
176/176 - 9s - loss: 0.1261 - accuracy: 0.9556 - val_loss: 6.6558 - val_accuracy: 0.4387 - lr: 0.0010 - 9s/epoch - 50ms/step
Epoch 42/100
176/176 - 9s - loss: 0.1230 - accuracy: 0.9565 - val_loss: 7.7640 - val_accuracy: 0.4287 - lr: 0.0010 - 9s/epoch - 50ms/step
Epoch 43/100
176/176 - 9s - loss: 0.1247 - accuracy: 0.9551 - val_loss: 5.3036 - val_accuracy: 0.4686 - lr: 0.0010 - 9s/epoch - 50ms/step
Epoch 44/100
176/176 - 9s - loss: 0.1209 - accuracy: 0.9572 - val_loss: 6.7967 - val_accuracy: 0.4353 - lr: 0.0010 - 9s/epoch - 50ms/step
Epoch 45/100
176/176 - 9s - loss: 0.1198 - accuracy: 0.9581 - val_loss: 7.6637 - val_accuracy: 0.4442 - lr: 0.0010 - 9s/epoch - 50ms/step
Epoch 46/100
176/176 - 9s - loss: 0.1204 - accuracy: 0.9577 - val_loss: 3.8731 - val_accuracy: 0.5070 - lr: 0.0010 - 9s/epoch - 50ms/step
Epoch 47/100
176/176 - 9s - loss: 0.1209 - accuracy: 0.9571 - val_loss: 5.8375 - val_accuracy: 0.4564 - lr: 0.0010 - 9s/epoch - 51ms/step
Epoch 48/100
176/176 - 9s - loss: 0.1197 - accuracy: 0.9574 - val_loss: 4.9942 - val_accuracy: 0.4746 - lr: 0.0010 - 9s/epoch - 50ms/step
Epoch 49/100
176/176 - 9s - loss: 0.1182 - accuracy: 0.9584 - val_loss: 4.3741 - val_accuracy: 0.5093 - lr: 0.0010 - 9s/epoch - 50ms/step
Epoch 50/100
176/176 - 9s - loss: 0.1166 - accuracy: 0.9591 - val_loss: 7.0456 - val_accuracy: 0.4323 - lr: 0.0010 - 9s/epoch - 50ms/step
Epoch 51/100
176/176 - 9s - loss: 0.1208 - accuracy: 0.9569 - val_loss: 7.5258 - val_accuracy: 0.4312 - lr: 0.0010 - 9s/epoch - 50ms/step
Epoch 52/100
176/176 - 9s - loss: 0.1200 - accuracy: 0.9575 - val_loss: 6.1659 - val_accuracy: 0.4463 - lr: 0.0010 - 9s/epoch - 50ms/step
Epoch 53/100
176/176 - 9s - loss: 0.1207 - accuracy: 0.9567 - val_loss: 10.8080 - val_accuracy: 0.2857 - lr: 0.0010 - 9s/epoch - 50ms/step
Epoch 54/100
176/176 - 9s - loss: 0.1247 - accuracy: 0.9563 - val_loss: 5.4217 - val_accuracy: 0.4582 - lr: 0.0010 - 9s/epoch - 51ms/step
Epoch 55/100
176/176 - 9s - loss: 0.1231 - accuracy: 0.9570 - val_loss: 5.0636 - val_accuracy: 0.4889 - lr: 0.0010 - 9s/epoch - 50ms/step
Epoch 56/100
176/176 - 9s - loss: 0.1239 - accuracy: 0.9559 - val_loss: 7.7216 - val_accuracy: 0.4236 - lr: 0.0010 - 9s/epoch - 50ms/step
Epoch 57/100
176/176 - 9s - loss: 0.1248 - accuracy: 0.9560 - val_loss: 5.7166 - val_accuracy: 0.4635 - lr: 0.0010 - 9s/epoch - 50ms/step
Epoch 58/100
176/176 - 9s - loss: 0.1256 - accuracy: 0.9558 - val_loss: 7.1936 - val_accuracy: 0.4377 - lr: 0.0010 - 9s/epoch - 50ms/step
Epoch 59/100
176/176 - 9s - loss: 0.1264 - accuracy: 0.9545 - val_loss: 4.3463 - val_accuracy: 0.5104 - lr: 0.0010 - 9s/epoch - 50ms/step
Epoch 60/100
176/176 - 9s - loss: 0.1216 - accuracy: 0.9568 - val_loss: 4.2882 - val_accuracy: 0.5080 - lr: 0.0010 - 9s/epoch - 50ms/step
Epoch 61/100
176/176 - 9s - loss: 0.1215 - accuracy: 0.9565 - val_loss: 7.1879 - val_accuracy: 0.4374 - lr: 0.0010 - 9s/epoch - 51ms/step
Epoch 62/100
176/176 - 9s - loss: 0.1193 - accuracy: 0.9579 - val_loss: 6.5587 - val_accuracy: 0.4346 - lr: 0.0010 - 9s/epoch - 50ms/step
Epoch 63/100
176/176 - 9s - loss: 0.1188 - accuracy: 0.9580 - val_loss: 5.1244 - val_accuracy: 0.4746 - lr: 0.0010 - 9s/epoch - 50ms/step
Epoch 64/100
176/176 - 9s - loss: 0.1240 - accuracy: 0.9567 - val_loss: 6.1753 - val_accuracy: 0.4375 - lr: 0.0010 - 9s/epoch - 50ms/step
Epoch 65/100
176/176 - 9s - loss: 0.1201 - accuracy: 0.9575 - val_loss: 6.0129 - val_accuracy: 0.4493 - lr: 0.0010 - 9s/epoch - 50ms/step
Epoch 66/100
176/176 - 9s - loss: 0.1205 - accuracy: 0.9582 - val_loss: 5.5597 - val_accuracy: 0.4636 - lr: 0.0010 - 9s/epoch - 50ms/step
Epoch 67/100
176/176 - 9s - loss: 0.1212 - accuracy: 0.9574 - val_loss: 7.7582 - val_accuracy: 0.4237 - lr: 0.0010 - 9s/epoch - 50ms/step
Epoch 68/100
176/176 - 9s - loss: 0.1202 - accuracy: 0.9571 - val_loss: 6.8916 - val_accuracy: 0.4389 - lr: 0.0010 - 9s/epoch - 50ms/step
Epoch 69/100
176/176 - 9s - loss: 0.1201 - accuracy: 0.9572 - val_loss: 6.7508 - val_accuracy: 0.4322 - lr: 0.0010 - 9s/epoch - 51ms/step
Epoch 70/100
176/176 - 9s - loss: 0.1199 - accuracy: 0.9579 - val_loss: 5.3871 - val_accuracy: 0.4726 - lr: 0.0010 - 9s/epoch - 50ms/step
Epoch 71/100
176/176 - 9s - loss: 0.1213 - accuracy: 0.9565 - val_loss: 5.8842 - val_accuracy: 0.4515 - lr: 0.0010 - 9s/epoch - 50ms/step
Epoch 72/100
176/176 - 9s - loss: 0.1160 - accuracy: 0.9588 - val_loss: 6.3381 - val_accuracy: 0.4360 - lr: 0.0010 - 9s/epoch - 50ms/step
Epoch 73/100
176/176 - 9s - loss: 0.1194 - accuracy: 0.9574 - val_loss: 5.9468 - val_accuracy: 0.4512 - lr: 0.0010 - 9s/epoch - 50ms/step
Epoch 74/100
176/176 - 9s - loss: 0.1210 - accuracy: 0.9566 - val_loss: 6.1603 - val_accuracy: 0.4386 - lr: 0.0010 - 9s/epoch - 50ms/step
Epoch 75/100
176/176 - 9s - loss: 0.1172 - accuracy: 0.9589 - val_loss: 4.3144 - val_accuracy: 0.5102 - lr: 0.0010 - 9s/epoch - 50ms/step
Epoch 76/100
176/176 - 9s - loss: 0.1164 - accuracy: 0.9588 - val_loss: 5.9408 - val_accuracy: 0.4426 - lr: 0.0010 - 9s/epoch - 51ms/step
Epoch 77/100
176/176 - 9s - loss: 0.1157 - accuracy: 0.9587 - val_loss: 5.5508 - val_accuracy: 0.4545 - lr: 0.0010 - 9s/epoch - 50ms/step
Epoch 78/100
176/176 - 9s - loss: 0.1141 - accuracy: 0.9598 - val_loss: 4.4128 - val_accuracy: 0.4979 - lr: 0.0010 - 9s/epoch - 50ms/step
Epoch 79/100
176/176 - 9s - loss: 0.1182 - accuracy: 0.9586 - val_loss: 4.1141 - val_accuracy: 0.5060 - lr: 0.0010 - 9s/epoch - 50ms/step
Epoch 80/100
176/176 - 9s - loss: 0.1175 - accuracy: 0.9586 - val_loss: 5.0861 - val_accuracy: 0.4770 - lr: 0.0010 - 9s/epoch - 50ms/step
Epoch 81/100
176/176 - 9s - loss: 0.1171 - accuracy: 0.9584 - val_loss: 5.3990 - val_accuracy: 0.4656 - lr: 0.0010 - 9s/epoch - 50ms/step
Epoch 82/100
176/176 - 9s - loss: 0.1175 - accuracy: 0.9581 - val_loss: 5.9193 - val_accuracy: 0.4555 - lr: 0.0010 - 9s/epoch - 50ms/step
Epoch 83/100
176/176 - 9s - loss: 0.1199 - accuracy: 0.9572 - val_loss: 5.7795 - val_accuracy: 0.4661 - lr: 0.0010 - 9s/epoch - 50ms/step
Epoch 84/100
176/176 - 9s - loss: 0.1225 - accuracy: 0.9562 - val_loss: 5.4334 - val_accuracy: 0.4614 - lr: 0.0010 - 9s/epoch - 51ms/step
Epoch 85/100
176/176 - 9s - loss: 0.1200 - accuracy: 0.9575 - val_loss: 7.4326 - val_accuracy: 0.4315 - lr: 0.0010 - 9s/epoch - 50ms/step
Epoch 86/100
176/176 - 9s - loss: 0.1218 - accuracy: 0.9571 - val_loss: 5.2545 - val_accuracy: 0.4644 - lr: 0.0010 - 9s/epoch - 50ms/step
Epoch 87/100
176/176 - 9s - loss: 0.1196 - accuracy: 0.9576 - val_loss: 6.6090 - val_accuracy: 0.4423 - lr: 0.0010 - 9s/epoch - 50ms/step
Epoch 88/100
176/176 - 9s - loss: 0.1161 - accuracy: 0.9592 - val_loss: 6.8308 - val_accuracy: 0.4414 - lr: 0.0010 - 9s/epoch - 50ms/step
Epoch 89/100
176/176 - 9s - loss: 0.1121 - accuracy: 0.9601 - val_loss: 6.0859 - val_accuracy: 0.4466 - lr: 0.0010 - 9s/epoch - 50ms/step
Epoch 90/100
176/176 - 9s - loss: 0.1094 - accuracy: 0.9619 - val_loss: 4.4395 - val_accuracy: 0.4984 - lr: 0.0010 - 9s/epoch - 50ms/step
Epoch 91/100
176/176 - 9s - loss: 0.1095 - accuracy: 0.9610 - val_loss: 7.2197 - val_accuracy: 0.4381 - lr: 0.0010 - 9s/epoch - 51ms/step
Epoch 92/100
176/176 - 9s - loss: 0.1099 - accuracy: 0.9615 - val_loss: 3.8931 - val_accuracy: 0.5197 - lr: 0.0010 - 9s/epoch - 50ms/step
Epoch 93/100
176/176 - 9s - loss: 0.1140 - accuracy: 0.9595 - val_loss: 6.9970 - val_accuracy: 0.4324 - lr: 0.0010 - 9s/epoch - 50ms/step
Epoch 94/100
176/176 - 9s - loss: 0.1076 - accuracy: 0.9622 - val_loss: 4.3316 - val_accuracy: 0.5005 - lr: 0.0010 - 9s/epoch - 50ms/step
Epoch 95/100
176/176 - 9s - loss: 0.1052 - accuracy: 0.9633 - val_loss: 5.0141 - val_accuracy: 0.4860 - lr: 0.0010 - 9s/epoch - 50ms/step
Epoch 96/100
176/176 - 9s - loss: 0.1056 - accuracy: 0.9634 - val_loss: 4.8627 - val_accuracy: 0.4951 - lr: 0.0010 - 9s/epoch - 50ms/step
Epoch 97/100
176/176 - 9s - loss: 0.1096 - accuracy: 0.9619 - val_loss: 6.5836 - val_accuracy: 0.4456 - lr: 0.0010 - 9s/epoch - 51ms/step
Epoch 98/100
176/176 - 10s - loss: 0.1085 - accuracy: 0.9617 - val_loss: 6.1322 - val_accuracy: 0.4540 - lr: 0.0010 - 10s/epoch - 54ms/step
Epoch 99/100
176/176 - 9s - loss: 0.1073 - accuracy: 0.9627 - val_loss: 4.4098 - val_accuracy: 0.5053 - lr: 0.0010 - 9s/epoch - 50ms/step
Epoch 100/100
176/176 - 9s - loss: 0.1075 - accuracy: 0.9625 - val_loss: 4.1916 - val_accuracy: 0.5067 - lr: 0.0010 - 9s/epoch - 50ms/step
Epoch 1/100
36/36 - 11s - loss: 0.0977 - accuracy: 0.9666 - val_loss: 4.7648 - val_accuracy: 0.4928 - lr: 0.0010 - 11s/epoch - 296ms/step
Epoch 2/100
36/36 - 8s - loss: 0.0911 - accuracy: 0.9689 - val_loss: 4.9425 - val_accuracy: 0.4828 - lr: 0.0010 - 8s/epoch - 211ms/step
Epoch 3/100
36/36 - 8s - loss: 0.0871 - accuracy: 0.9702 - val_loss: 5.4776 - val_accuracy: 0.4672 - lr: 0.0010 - 8s/epoch - 211ms/step
Epoch 4/100
36/36 - 8s - loss: 0.0881 - accuracy: 0.9699 - val_loss: 5.8216 - val_accuracy: 0.4578 - lr: 0.0010 - 8s/epoch - 213ms/step
Epoch 5/100
36/36 - 8s - loss: 0.0854 - accuracy: 0.9709 - val_loss: 5.9720 - val_accuracy: 0.4531 - lr: 0.0010 - 8s/epoch - 212ms/step
Epoch 6/100
36/36 - 8s - loss: 0.0871 - accuracy: 0.9706 - val_loss: 5.3616 - val_accuracy: 0.4775 - lr: 0.0010 - 8s/epoch - 212ms/step
Epoch 7/100
36/36 - 8s - loss: 0.0862 - accuracy: 0.9707 - val_loss: 5.1268 - val_accuracy: 0.4810 - lr: 0.0010 - 8s/epoch - 211ms/step
Epoch 8/100
36/36 - 8s - loss: 0.0840 - accuracy: 0.9716 - val_loss: 5.1043 - val_accuracy: 0.4861 - lr: 0.0010 - 8s/epoch - 212ms/step
Epoch 9/100
36/36 - 8s - loss: 0.0893 - accuracy: 0.9699 - val_loss: 5.9375 - val_accuracy: 0.4612 - lr: 0.0010 - 8s/epoch - 212ms/step
Epoch 10/100
36/36 - 8s - loss: 0.0845 - accuracy: 0.9715 - val_loss: 6.0456 - val_accuracy: 0.4539 - lr: 0.0010 - 8s/epoch - 212ms/step
Epoch 11/100
36/36 - 8s - loss: 0.0820 - accuracy: 0.9729 - val_loss: 6.0410 - val_accuracy: 0.4575 - lr: 0.0010 - 8s/epoch - 212ms/step
Epoch 12/100
36/36 - 8s - loss: 0.0834 - accuracy: 0.9718 - val_loss: 5.2191 - val_accuracy: 0.4873 - lr: 0.0010 - 8s/epoch - 212ms/step
Epoch 13/100
36/36 - 8s - loss: 0.0842 - accuracy: 0.9717 - val_loss: 5.5738 - val_accuracy: 0.4751 - lr: 0.0010 - 8s/epoch - 213ms/step
Epoch 14/100
36/36 - 8s - loss: 0.0851 - accuracy: 0.9712 - val_loss: 6.0230 - val_accuracy: 0.4601 - lr: 0.0010 - 8s/epoch - 213ms/step
Epoch 15/100
36/36 - 8s - loss: 0.0825 - accuracy: 0.9723 - val_loss: 6.4698 - val_accuracy: 0.4486 - lr: 0.0010 - 8s/epoch - 215ms/step
Epoch 16/100
36/36 - 8s - loss: 0.0814 - accuracy: 0.9735 - val_loss: 5.9866 - val_accuracy: 0.4613 - lr: 0.0010 - 8s/epoch - 212ms/step
Epoch 17/100
36/36 - 8s - loss: 0.0836 - accuracy: 0.9717 - val_loss: 6.1720 - val_accuracy: 0.4547 - lr: 0.0010 - 8s/epoch - 212ms/step
Epoch 18/100
36/36 - 8s - loss: 0.0830 - accuracy: 0.9727 - val_loss: 6.8033 - val_accuracy: 0.4407 - lr: 0.0010 - 8s/epoch - 212ms/step
Epoch 19/100
36/36 - 8s - loss: 0.0861 - accuracy: 0.9707 - val_loss: 6.0162 - val_accuracy: 0.4617 - lr: 0.0010 - 8s/epoch - 213ms/step
Epoch 20/100
36/36 - 8s - loss: 0.0822 - accuracy: 0.9722 - val_loss: 6.3223 - val_accuracy: 0.4508 - lr: 0.0010 - 8s/epoch - 213ms/step
Epoch 21/100
36/36 - 8s - loss: 0.0812 - accuracy: 0.9731 - val_loss: 6.9697 - val_accuracy: 0.4357 - lr: 0.0010 - 8s/epoch - 212ms/step
Epoch 22/100
36/36 - 8s - loss: 0.0808 - accuracy: 0.9731 - val_loss: 6.7218 - val_accuracy: 0.4440 - lr: 0.0010 - 8s/epoch - 212ms/step
Epoch 23/100
36/36 - 8s - loss: 0.0825 - accuracy: 0.9723 - val_loss: 6.5681 - val_accuracy: 0.4421 - lr: 0.0010 - 8s/epoch - 214ms/step
Epoch 24/100
36/36 - 8s - loss: 0.0830 - accuracy: 0.9721 - val_loss: 6.4855 - val_accuracy: 0.4445 - lr: 0.0010 - 8s/epoch - 212ms/step
Epoch 25/100
36/36 - 8s - loss: 0.0835 - accuracy: 0.9727 - val_loss: 7.0491 - val_accuracy: 0.4333 - lr: 0.0010 - 8s/epoch - 212ms/step
Epoch 26/100
36/36 - 8s - loss: 0.0789 - accuracy: 0.9738 - val_loss: 7.5323 - val_accuracy: 0.4235 - lr: 0.0010 - 8s/epoch - 213ms/step
Epoch 27/100
36/36 - 8s - loss: 0.0832 - accuracy: 0.9717 - val_loss: 7.2570 - val_accuracy: 0.4313 - lr: 0.0010 - 8s/epoch - 212ms/step
Epoch 28/100
36/36 - 8s - loss: 0.0819 - accuracy: 0.9727 - val_loss: 7.2478 - val_accuracy: 0.4314 - lr: 0.0010 - 8s/epoch - 213ms/step
Epoch 29/100
36/36 - 8s - loss: 0.0799 - accuracy: 0.9732 - val_loss: 7.4622 - val_accuracy: 0.4297 - lr: 0.0010 - 8s/epoch - 212ms/step
Epoch 30/100
36/36 - 8s - loss: 0.0852 - accuracy: 0.9710 - val_loss: 6.5657 - val_accuracy: 0.4499 - lr: 0.0010 - 8s/epoch - 212ms/step
Epoch 31/100
36/36 - 8s - loss: 0.0815 - accuracy: 0.9724 - val_loss: 7.6585 - val_accuracy: 0.4277 - lr: 0.0010 - 8s/epoch - 212ms/step
Epoch 32/100
36/36 - 8s - loss: 0.0807 - accuracy: 0.9735 - val_loss: 6.8951 - val_accuracy: 0.4373 - lr: 0.0010 - 8s/epoch - 214ms/step
Epoch 33/100
36/36 - 8s - loss: 0.0784 - accuracy: 0.9733 - val_loss: 6.7617 - val_accuracy: 0.4444 - lr: 0.0010 - 8s/epoch - 212ms/step
Epoch 34/100
36/36 - 8s - loss: 0.0803 - accuracy: 0.9726 - val_loss: 7.0447 - val_accuracy: 0.4329 - lr: 0.0010 - 8s/epoch - 212ms/step
Epoch 35/100
36/36 - 8s - loss: 0.0824 - accuracy: 0.9719 - val_loss: 7.3975 - val_accuracy: 0.4302 - lr: 0.0010 - 8s/epoch - 212ms/step
Epoch 36/100
36/36 - 8s - loss: 0.0803 - accuracy: 0.9727 - val_loss: 7.5815 - val_accuracy: 0.4260 - lr: 0.0010 - 8s/epoch - 212ms/step
Epoch 37/100
36/36 - 8s - loss: 0.0813 - accuracy: 0.9726 - val_loss: 6.7875 - val_accuracy: 0.4427 - lr: 0.0010 - 8s/epoch - 212ms/step
Epoch 38/100
36/36 - 8s - loss: 0.0795 - accuracy: 0.9728 - val_loss: 8.3144 - val_accuracy: 0.4197 - lr: 0.0010 - 8s/epoch - 212ms/step
Epoch 39/100
36/36 - 8s - loss: 0.0790 - accuracy: 0.9738 - val_loss: 8.6990 - val_accuracy: 0.4171 - lr: 0.0010 - 8s/epoch - 213ms/step
Epoch 40/100
36/36 - 8s - loss: 0.0818 - accuracy: 0.9724 - val_loss: 8.6005 - val_accuracy: 0.4128 - lr: 0.0010 - 8s/epoch - 213ms/step
Epoch 41/100
36/36 - 8s - loss: 0.0796 - accuracy: 0.9730 - val_loss: 8.6386 - val_accuracy: 0.4179 - lr: 0.0010 - 8s/epoch - 212ms/step
Epoch 42/100
36/36 - 8s - loss: 0.0847 - accuracy: 0.9712 - val_loss: 7.2272 - val_accuracy: 0.4300 - lr: 0.0010 - 8s/epoch - 212ms/step
Epoch 43/100
36/36 - 8s - loss: 0.0842 - accuracy: 0.9719 - val_loss: 6.8326 - val_accuracy: 0.4369 - lr: 0.0010 - 8s/epoch - 212ms/step
Epoch 44/100
36/36 - 8s - loss: 0.0821 - accuracy: 0.9726 - val_loss: 7.0817 - val_accuracy: 0.4302 - lr: 0.0010 - 8s/epoch - 212ms/step
Epoch 45/100
36/36 - 8s - loss: 0.0806 - accuracy: 0.9732 - val_loss: 7.3044 - val_accuracy: 0.4297 - lr: 0.0010 - 8s/epoch - 212ms/step
Epoch 46/100
36/36 - 8s - loss: 0.0811 - accuracy: 0.9726 - val_loss: 7.7150 - val_accuracy: 0.4255 - lr: 0.0010 - 8s/epoch - 212ms/step
Epoch 47/100
36/36 - 8s - loss: 0.0811 - accuracy: 0.9719 - val_loss: 7.0429 - val_accuracy: 0.4300 - lr: 0.0010 - 8s/epoch - 212ms/step
Epoch 48/100
36/36 - 8s - loss: 0.0813 - accuracy: 0.9723 - val_loss: 6.6774 - val_accuracy: 0.4399 - lr: 0.0010 - 8s/epoch - 215ms/step
Epoch 49/100
36/36 - 8s - loss: 0.0792 - accuracy: 0.9731 - val_loss: 6.9302 - val_accuracy: 0.4312 - lr: 0.0010 - 8s/epoch - 213ms/step
Epoch 50/100
36/36 - 8s - loss: 0.0786 - accuracy: 0.9735 - val_loss: 7.3339 - val_accuracy: 0.4273 - lr: 0.0010 - 8s/epoch - 212ms/step
Epoch 51/100
36/36 - 8s - loss: 0.0765 - accuracy: 0.9746 - val_loss: 7.0307 - val_accuracy: 0.4330 - lr: 0.0010 - 8s/epoch - 213ms/step
Epoch 52/100
36/36 - 8s - loss: 0.0786 - accuracy: 0.9734 - val_loss: 7.7673 - val_accuracy: 0.4224 - lr: 0.0010 - 8s/epoch - 212ms/step
Epoch 53/100
36/36 - 8s - loss: 0.0771 - accuracy: 0.9746 - val_loss: 7.3344 - val_accuracy: 0.4239 - lr: 0.0010 - 8s/epoch - 212ms/step
Epoch 54/100
36/36 - 8s - loss: 0.0778 - accuracy: 0.9735 - val_loss: 6.8003 - val_accuracy: 0.4357 - lr: 0.0010 - 8s/epoch - 212ms/step
Epoch 55/100
36/36 - 8s - loss: 0.0822 - accuracy: 0.9722 - val_loss: 7.8735 - val_accuracy: 0.4218 - lr: 0.0010 - 8s/epoch - 212ms/step
Epoch 56/100
36/36 - 8s - loss: 0.0791 - accuracy: 0.9731 - val_loss: 8.1081 - val_accuracy: 0.4212 - lr: 0.0010 - 8s/epoch - 212ms/step
Epoch 57/100
36/36 - 8s - loss: 0.0786 - accuracy: 0.9734 - val_loss: 8.0073 - val_accuracy: 0.4206 - lr: 0.0010 - 8s/epoch - 213ms/step
Epoch 58/100
36/36 - 8s - loss: 0.0780 - accuracy: 0.9738 - val_loss: 7.8552 - val_accuracy: 0.4216 - lr: 0.0010 - 8s/epoch - 212ms/step
Epoch 59/100
36/36 - 8s - loss: 0.0773 - accuracy: 0.9744 - val_loss: 7.5700 - val_accuracy: 0.4270 - lr: 0.0010 - 8s/epoch - 212ms/step
Epoch 60/100
36/36 - 8s - loss: 0.0805 - accuracy: 0.9730 - val_loss: 7.0123 - val_accuracy: 0.4332 - lr: 0.0010 - 8s/epoch - 212ms/step
Epoch 61/100
36/36 - 8s - loss: 0.0772 - accuracy: 0.9743 - val_loss: 7.6673 - val_accuracy: 0.4246 - lr: 0.0010 - 8s/epoch - 212ms/step
Epoch 62/100
36/36 - 8s - loss: 0.0791 - accuracy: 0.9735 - val_loss: 7.6999 - val_accuracy: 0.4272 - lr: 0.0010 - 8s/epoch - 212ms/step
Epoch 63/100
36/36 - 8s - loss: 0.0803 - accuracy: 0.9731 - val_loss: 8.0886 - val_accuracy: 0.4207 - lr: 0.0010 - 8s/epoch - 212ms/step
Epoch 64/100
36/36 - 8s - loss: 0.0820 - accuracy: 0.9723 - val_loss: 8.2833 - val_accuracy: 0.4234 - lr: 0.0010 - 8s/epoch - 212ms/step
Epoch 65/100
36/36 - 8s - loss: 0.0815 - accuracy: 0.9723 - val_loss: 8.9411 - val_accuracy: 0.4162 - lr: 0.0010 - 8s/epoch - 212ms/step
Epoch 66/100
36/36 - 8s - loss: 0.0806 - accuracy: 0.9732 - val_loss: 9.1079 - val_accuracy: 0.4123 - lr: 0.0010 - 8s/epoch - 213ms/step
Epoch 67/100
36/36 - 8s - loss: 0.0770 - accuracy: 0.9743 - val_loss: 8.7819 - val_accuracy: 0.4164 - lr: 0.0010 - 8s/epoch - 212ms/step
Epoch 68/100
36/36 - 8s - loss: 0.0786 - accuracy: 0.9735 - val_loss: 7.7453 - val_accuracy: 0.4260 - lr: 0.0010 - 8s/epoch - 212ms/step
Epoch 69/100
36/36 - 8s - loss: 0.0788 - accuracy: 0.9730 - val_loss: 7.7531 - val_accuracy: 0.4262 - lr: 0.0010 - 8s/epoch - 212ms/step
Epoch 70/100
36/36 - 8s - loss: 0.0766 - accuracy: 0.9744 - val_loss: 8.7442 - val_accuracy: 0.4219 - lr: 0.0010 - 8s/epoch - 212ms/step
Epoch 71/100
36/36 - 8s - loss: 0.0783 - accuracy: 0.9740 - val_loss: 7.9551 - val_accuracy: 0.4272 - lr: 0.0010 - 8s/epoch - 212ms/step
Epoch 72/100
36/36 - 8s - loss: 0.0797 - accuracy: 0.9728 - val_loss: 8.2935 - val_accuracy: 0.4200 - lr: 0.0010 - 8s/epoch - 213ms/step
Epoch 73/100
36/36 - 8s - loss: 0.0759 - accuracy: 0.9745 - val_loss: 8.3659 - val_accuracy: 0.4188 - lr: 0.0010 - 8s/epoch - 212ms/step
Epoch 74/100
36/36 - 8s - loss: 0.0808 - accuracy: 0.9728 - val_loss: 8.8507 - val_accuracy: 0.4185 - lr: 0.0010 - 8s/epoch - 213ms/step
Epoch 75/100
36/36 - 8s - loss: 0.0765 - accuracy: 0.9748 - val_loss: 8.8839 - val_accuracy: 0.4197 - lr: 0.0010 - 8s/epoch - 212ms/step
Epoch 76/100
36/36 - 8s - loss: 0.0766 - accuracy: 0.9741 - val_loss: 8.4028 - val_accuracy: 0.4191 - lr: 0.0010 - 8s/epoch - 212ms/step
Epoch 77/100
36/36 - 8s - loss: 0.0754 - accuracy: 0.9749 - val_loss: 8.1270 - val_accuracy: 0.4247 - lr: 0.0010 - 8s/epoch - 212ms/step
Epoch 78/100
36/36 - 8s - loss: 0.0786 - accuracy: 0.9740 - val_loss: 8.2788 - val_accuracy: 0.4207 - lr: 0.0010 - 8s/epoch - 212ms/step
Epoch 79/100
36/36 - 8s - loss: 0.0781 - accuracy: 0.9737 - val_loss: 8.9170 - val_accuracy: 0.4175 - lr: 0.0010 - 8s/epoch - 212ms/step
Epoch 80/100
36/36 - 8s - loss: 0.0801 - accuracy: 0.9730 - val_loss: 8.7351 - val_accuracy: 0.4127 - lr: 0.0010 - 8s/epoch - 212ms/step
Epoch 81/100
36/36 - 8s - loss: 0.0775 - accuracy: 0.9742 - val_loss: 8.8772 - val_accuracy: 0.4156 - lr: 0.0010 - 8s/epoch - 212ms/step
Epoch 82/100
36/36 - 8s - loss: 0.0763 - accuracy: 0.9747 - val_loss: 8.3496 - val_accuracy: 0.4172 - lr: 0.0010 - 8s/epoch - 212ms/step
Epoch 83/100
36/36 - 8s - loss: 0.0781 - accuracy: 0.9737 - val_loss: 7.8659 - val_accuracy: 0.4260 - lr: 0.0010 - 8s/epoch - 213ms/step
Epoch 84/100
36/36 - 8s - loss: 0.0801 - accuracy: 0.9733 - val_loss: 7.9824 - val_accuracy: 0.4259 - lr: 0.0010 - 8s/epoch - 213ms/step
Epoch 85/100
36/36 - 8s - loss: 0.0757 - accuracy: 0.9743 - val_loss: 7.9071 - val_accuracy: 0.4279 - lr: 0.0010 - 8s/epoch - 213ms/step
Epoch 86/100
36/36 - 8s - loss: 0.0791 - accuracy: 0.9735 - val_loss: 8.8729 - val_accuracy: 0.4130 - lr: 0.0010 - 8s/epoch - 212ms/step
Epoch 87/100
36/36 - 8s - loss: 0.0801 - accuracy: 0.9732 - val_loss: 8.5412 - val_accuracy: 0.4189 - lr: 0.0010 - 8s/epoch - 212ms/step
Epoch 88/100
36/36 - 8s - loss: 0.0786 - accuracy: 0.9731 - val_loss: 8.9171 - val_accuracy: 0.4163 - lr: 0.0010 - 8s/epoch - 212ms/step
Epoch 89/100
36/36 - 8s - loss: 0.0769 - accuracy: 0.9741 - val_loss: 8.3169 - val_accuracy: 0.4213 - lr: 0.0010 - 8s/epoch - 212ms/step
Epoch 90/100
36/36 - 8s - loss: 0.0816 - accuracy: 0.9724 - val_loss: 8.7521 - val_accuracy: 0.4159 - lr: 0.0010 - 8s/epoch - 212ms/step
Epoch 91/100
36/36 - 8s - loss: 0.0828 - accuracy: 0.9710 - val_loss: 8.1368 - val_accuracy: 0.4246 - lr: 0.0010 - 8s/epoch - 214ms/step
Epoch 92/100
36/36 - 8s - loss: 0.0803 - accuracy: 0.9731 - val_loss: 8.2835 - val_accuracy: 0.4218 - lr: 0.0010 - 8s/epoch - 212ms/step
Epoch 93/100
36/36 - 8s - loss: 0.0812 - accuracy: 0.9729 - val_loss: 8.3116 - val_accuracy: 0.4245 - lr: 0.0010 - 8s/epoch - 212ms/step
Epoch 94/100
36/36 - 8s - loss: 0.0803 - accuracy: 0.9730 - val_loss: 8.2584 - val_accuracy: 0.4212 - lr: 0.0010 - 8s/epoch - 212ms/step
Epoch 95/100
36/36 - 8s - loss: 0.0781 - accuracy: 0.9742 - val_loss: 7.9969 - val_accuracy: 0.4257 - lr: 0.0010 - 8s/epoch - 212ms/step
Epoch 96/100
36/36 - 8s - loss: 0.0770 - accuracy: 0.9741 - val_loss: 8.5873 - val_accuracy: 0.4249 - lr: 0.0010 - 8s/epoch - 212ms/step
Epoch 97/100
36/36 - 8s - loss: 0.0826 - accuracy: 0.9721 - val_loss: 9.5191 - val_accuracy: 0.4129 - lr: 0.0010 - 8s/epoch - 213ms/step
Epoch 98/100
36/36 - 8s - loss: 0.0792 - accuracy: 0.9739 - val_loss: 9.1828 - val_accuracy: 0.4194 - lr: 0.0010 - 8s/epoch - 212ms/step
Epoch 99/100
36/36 - 8s - loss: 0.0799 - accuracy: 0.9734 - val_loss: 8.7983 - val_accuracy: 0.4209 - lr: 0.0010 - 8s/epoch - 212ms/step
Epoch 100/100
36/36 - 8s - loss: 0.0771 - accuracy: 0.9745 - val_loss: 8.5595 - val_accuracy: 0.4191 - lr: 0.0010 - 8s/epoch - 213ms/step
Epoch 1/25
4378/4378 - 79s - loss: 0.1108 - accuracy: 0.8913 - val_loss: 0.7071 - val_accuracy: 0.5245 - lr: 0.0010 - 79s/epoch - 18ms/step
Epoch 2/25
4378/4378 - 76s - loss: 0.1176 - accuracy: 0.8789 - val_loss: 2.2084 - val_accuracy: 0.1652 - lr: 0.0010 - 76s/epoch - 17ms/step
Epoch 3/25
4378/4378 - 77s - loss: 0.1193 - accuracy: 0.8767 - val_loss: 0.5412 - val_accuracy: 0.5380 - lr: 0.0010 - 77s/epoch - 18ms/step
Epoch 4/25
4378/4378 - 76s - loss: 0.1180 - accuracy: 0.8774 - val_loss: 1.1719 - val_accuracy: 0.3565 - lr: 0.0010 - 76s/epoch - 17ms/step
Epoch 5/25
4378/4378 - 76s - loss: 0.1173 - accuracy: 0.8786 - val_loss: 0.7072 - val_accuracy: 0.4968 - lr: 0.0010 - 76s/epoch - 17ms/step
Epoch 6/25
4378/4378 - 76s - loss: 0.1202 - accuracy: 0.8748 - val_loss: 0.6387 - val_accuracy: 0.5341 - lr: 0.0010 - 76s/epoch - 17ms/step
Epoch 7/25
4378/4378 - 76s - loss: 0.1182 - accuracy: 0.8773 - val_loss: 0.6361 - val_accuracy: 0.5231 - lr: 0.0010 - 76s/epoch - 17ms/step
Epoch 8/25
4378/4378 - 76s - loss: 0.1169 - accuracy: 0.8789 - val_loss: 0.4925 - val_accuracy: 0.5589 - lr: 0.0010 - 76s/epoch - 17ms/step
Epoch 9/25
4378/4378 - 76s - loss: 0.1163 - accuracy: 0.8787 - val_loss: 0.5854 - val_accuracy: 0.5436 - lr: 0.0010 - 76s/epoch - 17ms/step
Epoch 10/25
4378/4378 - 76s - loss: 0.1171 - accuracy: 0.8784 - val_loss: 0.5625 - val_accuracy: 0.5592 - lr: 0.0010 - 76s/epoch - 17ms/step
Epoch 11/25
4378/4378 - 76s - loss: 0.1194 - accuracy: 0.8760 - val_loss: 0.6462 - val_accuracy: 0.5138 - lr: 0.0010 - 76s/epoch - 17ms/step
Epoch 12/25
4378/4378 - 76s - loss: 0.1181 - accuracy: 0.8771 - val_loss: 0.7915 - val_accuracy: 0.4989 - lr: 0.0010 - 76s/epoch - 17ms/step
Epoch 13/25
4378/4378 - 76s - loss: 0.1185 - accuracy: 0.8779 - val_loss: 0.8248 - val_accuracy: 0.5019 - lr: 0.0010 - 76s/epoch - 17ms/step
Epoch 14/25
4378/4378 - 76s - loss: 0.1189 - accuracy: 0.8770 - val_loss: 0.4684 - val_accuracy: 0.5862 - lr: 0.0010 - 76s/epoch - 17ms/step
Epoch 15/25
4378/4378 - 76s - loss: 0.1200 - accuracy: 0.8753 - val_loss: 0.4440 - val_accuracy: 0.6116 - lr: 0.0010 - 76s/epoch - 17ms/step
Epoch 16/25
4378/4378 - 76s - loss: 0.1185 - accuracy: 0.8776 - val_loss: 0.4759 - val_accuracy: 0.6015 - lr: 0.0010 - 76s/epoch - 17ms/step
Epoch 17/25
4378/4378 - 76s - loss: 0.1183 - accuracy: 0.8775 - val_loss: 0.4403 - val_accuracy: 0.6179 - lr: 0.0010 - 76s/epoch - 17ms/step
Epoch 18/25
4378/4378 - 76s - loss: 0.1203 - accuracy: 0.8750 - val_loss: 1.3777 - val_accuracy: 0.4021 - lr: 0.0010 - 76s/epoch - 17ms/step
Epoch 19/25
4378/4378 - 76s - loss: 0.1183 - accuracy: 0.8771 - val_loss: 1.4451 - val_accuracy: 0.3772 - lr: 0.0010 - 76s/epoch - 17ms/step
Epoch 20/25
4378/4378 - 76s - loss: 0.1189 - accuracy: 0.8769 - val_loss: 0.8905 - val_accuracy: 0.4114 - lr: 0.0010 - 76s/epoch - 17ms/step
Epoch 21/25
4378/4378 - 76s - loss: 0.1185 - accuracy: 0.8775 - val_loss: 0.5764 - val_accuracy: 0.5542 - lr: 0.0010 - 76s/epoch - 17ms/step
Epoch 22/25
4378/4378 - 76s - loss: 0.1174 - accuracy: 0.8787 - val_loss: 0.5026 - val_accuracy: 0.5907 - lr: 0.0010 - 76s/epoch - 17ms/step
Epoch 23/25
4378/4378 - 76s - loss: 0.1175 - accuracy: 0.8776 - val_loss: 0.4831 - val_accuracy: 0.5888 - lr: 0.0010 - 76s/epoch - 17ms/step
Epoch 24/25
4378/4378 - 76s - loss: 0.1178 - accuracy: 0.8780 - val_loss: 0.4405 - val_accuracy: 0.6111 - lr: 0.0010 - 76s/epoch - 17ms/step
Epoch 25/25
4378/4378 - 76s - loss: 0.1178 - accuracy: 0.8784 - val_loss: 1.7578 - val_accuracy: 0.1834 - lr: 0.0010 - 76s/epoch - 17ms/step
Epoch 1/25
876/876 - 21s - loss: 0.0856 - accuracy: 0.9152 - val_loss: 1.0506 - val_accuracy: 0.4645 - lr: 0.0010 - 21s/epoch - 24ms/step
Epoch 2/25
876/876 - 18s - loss: 0.0850 - accuracy: 0.9150 - val_loss: 0.9952 - val_accuracy: 0.4571 - lr: 0.0010 - 18s/epoch - 21ms/step
Epoch 3/25
876/876 - 18s - loss: 0.0829 - accuracy: 0.9172 - val_loss: 0.5607 - val_accuracy: 0.5809 - lr: 0.0010 - 18s/epoch - 21ms/step
Epoch 4/25
876/876 - 18s - loss: 0.0826 - accuracy: 0.9169 - val_loss: 0.8573 - val_accuracy: 0.5244 - lr: 0.0010 - 18s/epoch - 21ms/step
Epoch 5/25
876/876 - 19s - loss: 0.0809 - accuracy: 0.9185 - val_loss: 1.1316 - val_accuracy: 0.4257 - lr: 0.0010 - 19s/epoch - 21ms/step
Epoch 6/25
876/876 - 19s - loss: 0.0811 - accuracy: 0.9187 - val_loss: 1.0678 - val_accuracy: 0.4470 - lr: 0.0010 - 19s/epoch - 21ms/step
Epoch 7/25
876/876 - 19s - loss: 0.0785 - accuracy: 0.9220 - val_loss: 0.7189 - val_accuracy: 0.5379 - lr: 0.0010 - 19s/epoch - 21ms/step
Epoch 8/25
876/876 - 19s - loss: 0.0783 - accuracy: 0.9228 - val_loss: 1.6205 - val_accuracy: 0.3950 - lr: 0.0010 - 19s/epoch - 21ms/step
Epoch 9/25
876/876 - 19s - loss: 0.0777 - accuracy: 0.9222 - val_loss: 0.5361 - val_accuracy: 0.6047 - lr: 0.0010 - 19s/epoch - 21ms/step
Epoch 10/25
876/876 - 19s - loss: 0.0783 - accuracy: 0.9211 - val_loss: 1.1296 - val_accuracy: 0.4407 - lr: 0.0010 - 19s/epoch - 21ms/step
Epoch 11/25
876/876 - 18s - loss: 0.0762 - accuracy: 0.9245 - val_loss: 1.2216 - val_accuracy: 0.4422 - lr: 0.0010 - 18s/epoch - 21ms/step
Epoch 12/25
876/876 - 19s - loss: 0.0776 - accuracy: 0.9227 - val_loss: 1.5011 - val_accuracy: 0.4080 - lr: 0.0010 - 19s/epoch - 21ms/step
Epoch 13/25
876/876 - 19s - loss: 0.0752 - accuracy: 0.9252 - val_loss: 1.1141 - val_accuracy: 0.4751 - lr: 0.0010 - 19s/epoch - 21ms/step
Epoch 14/25
876/876 - 19s - loss: 0.0772 - accuracy: 0.9237 - val_loss: 0.9364 - val_accuracy: 0.5029 - lr: 0.0010 - 19s/epoch - 21ms/step
Epoch 15/25
876/876 - 19s - loss: 0.0759 - accuracy: 0.9242 - val_loss: 1.3482 - val_accuracy: 0.4171 - lr: 0.0010 - 19s/epoch - 21ms/step
Epoch 16/25
876/876 - 19s - loss: 0.0753 - accuracy: 0.9247 - val_loss: 0.6818 - val_accuracy: 0.5653 - lr: 0.0010 - 19s/epoch - 21ms/step
Epoch 17/25
876/876 - 19s - loss: 0.0753 - accuracy: 0.9247 - val_loss: 0.7176 - val_accuracy: 0.5523 - lr: 0.0010 - 19s/epoch - 21ms/step
Epoch 18/25
876/876 - 19s - loss: 0.0755 - accuracy: 0.9243 - val_loss: 0.5668 - val_accuracy: 0.6095 - lr: 0.0010 - 19s/epoch - 21ms/step
Epoch 19/25
876/876 - 19s - loss: 0.0757 - accuracy: 0.9258 - val_loss: 0.7235 - val_accuracy: 0.5556 - lr: 0.0010 - 19s/epoch - 21ms/step
Epoch 20/25
876/876 - 19s - loss: 0.0751 - accuracy: 0.9255 - val_loss: 1.2150 - val_accuracy: 0.4722 - lr: 0.0010 - 19s/epoch - 21ms/step
Epoch 21/25
876/876 - 19s - loss: 0.0732 - accuracy: 0.9274 - val_loss: 1.2014 - val_accuracy: 0.4556 - lr: 0.0010 - 19s/epoch - 21ms/step
Epoch 22/25
876/876 - 18s - loss: 0.0745 - accuracy: 0.9252 - val_loss: 1.8752 - val_accuracy: 0.3597 - lr: 0.0010 - 18s/epoch - 21ms/step
Epoch 23/25
876/876 - 19s - loss: 0.0743 - accuracy: 0.9263 - val_loss: 1.4652 - val_accuracy: 0.4182 - lr: 0.0010 - 19s/epoch - 21ms/step
Epoch 24/25
876/876 - 19s - loss: 0.0745 - accuracy: 0.9263 - val_loss: 1.0905 - val_accuracy: 0.4701 - lr: 0.0010 - 19s/epoch - 21ms/step
Epoch 25/25
876/876 - 19s - loss: 0.0738 - accuracy: 0.9262 - val_loss: 1.3140 - val_accuracy: 0.4392 - lr: 0.0010 - 19s/epoch - 21ms/step
Epoch 1/25
176/176 - 11s - loss: 0.0563 - accuracy: 0.9472 - val_loss: 1.4215 - val_accuracy: 0.4390 - lr: 0.0010 - 11s/epoch - 65ms/step
Epoch 2/25
176/176 - 9s - loss: 0.0489 - accuracy: 0.9542 - val_loss: 1.5525 - val_accuracy: 0.4276 - lr: 0.0010 - 9s/epoch - 51ms/step
Epoch 3/25
176/176 - 9s - loss: 0.0469 - accuracy: 0.9566 - val_loss: 1.5759 - val_accuracy: 0.4297 - lr: 0.0010 - 9s/epoch - 51ms/step
Epoch 4/25
176/176 - 9s - loss: 0.0484 - accuracy: 0.9548 - val_loss: 1.4607 - val_accuracy: 0.4369 - lr: 0.0010 - 9s/epoch - 51ms/step
Epoch 5/25
176/176 - 9s - loss: 0.0483 - accuracy: 0.9548 - val_loss: 1.3688 - val_accuracy: 0.4477 - lr: 0.0010 - 9s/epoch - 51ms/step
Epoch 6/25
176/176 - 9s - loss: 0.0486 - accuracy: 0.9540 - val_loss: 1.4052 - val_accuracy: 0.4438 - lr: 0.0010 - 9s/epoch - 51ms/step
Epoch 7/25
176/176 - 9s - loss: 0.0503 - accuracy: 0.9521 - val_loss: 1.0695 - val_accuracy: 0.5112 - lr: 0.0010 - 9s/epoch - 51ms/step
Epoch 8/25
176/176 - 9s - loss: 0.0490 - accuracy: 0.9532 - val_loss: 1.5476 - val_accuracy: 0.4261 - lr: 0.0010 - 9s/epoch - 51ms/step
Epoch 9/25
176/176 - 9s - loss: 0.0490 - accuracy: 0.9540 - val_loss: 1.3860 - val_accuracy: 0.4464 - lr: 0.0010 - 9s/epoch - 51ms/step
Epoch 10/25
176/176 - 9s - loss: 0.0482 - accuracy: 0.9538 - val_loss: 1.4302 - val_accuracy: 0.4514 - lr: 0.0010 - 9s/epoch - 51ms/step
Epoch 11/25
176/176 - 9s - loss: 0.0484 - accuracy: 0.9550 - val_loss: 1.3869 - val_accuracy: 0.4577 - lr: 0.0010 - 9s/epoch - 52ms/step
Epoch 12/25
176/176 - 9s - loss: 0.0487 - accuracy: 0.9537 - val_loss: 1.3721 - val_accuracy: 0.4498 - lr: 0.0010 - 9s/epoch - 51ms/step
Epoch 13/25
176/176 - 9s - loss: 0.0481 - accuracy: 0.9547 - val_loss: 1.1274 - val_accuracy: 0.5146 - lr: 0.0010 - 9s/epoch - 51ms/step
Epoch 14/25
176/176 - 9s - loss: 0.0476 - accuracy: 0.9555 - val_loss: 1.4307 - val_accuracy: 0.4549 - lr: 0.0010 - 9s/epoch - 51ms/step
Epoch 15/25
176/176 - 9s - loss: 0.0468 - accuracy: 0.9557 - val_loss: 1.5087 - val_accuracy: 0.4322 - lr: 0.0010 - 9s/epoch - 51ms/step
Epoch 16/25
176/176 - 9s - loss: 0.0465 - accuracy: 0.9561 - val_loss: 1.2340 - val_accuracy: 0.4836 - lr: 0.0010 - 9s/epoch - 51ms/step
Epoch 17/25
176/176 - 9s - loss: 0.0452 - accuracy: 0.9580 - val_loss: 1.0349 - val_accuracy: 0.5192 - lr: 0.0010 - 9s/epoch - 51ms/step
Epoch 18/25
176/176 - 9s - loss: 0.0457 - accuracy: 0.9577 - val_loss: 1.6609 - val_accuracy: 0.4208 - lr: 0.0010 - 9s/epoch - 52ms/step
Epoch 19/25
176/176 - 9s - loss: 0.0463 - accuracy: 0.9569 - val_loss: 1.3097 - val_accuracy: 0.4804 - lr: 0.0010 - 9s/epoch - 51ms/step
Epoch 20/25
176/176 - 9s - loss: 0.0455 - accuracy: 0.9569 - val_loss: 1.2196 - val_accuracy: 0.4862 - lr: 0.0010 - 9s/epoch - 51ms/step
Epoch 21/25
176/176 - 9s - loss: 0.0462 - accuracy: 0.9565 - val_loss: 1.4539 - val_accuracy: 0.4418 - lr: 0.0010 - 9s/epoch - 51ms/step
Epoch 22/25
176/176 - 9s - loss: 0.0465 - accuracy: 0.9561 - val_loss: 1.5889 - val_accuracy: 0.4251 - lr: 0.0010 - 9s/epoch - 51ms/step
Epoch 23/25
176/176 - 9s - loss: 0.0468 - accuracy: 0.9559 - val_loss: 1.4279 - val_accuracy: 0.4529 - lr: 0.0010 - 9s/epoch - 51ms/step
Epoch 24/25
176/176 - 9s - loss: 0.0468 - accuracy: 0.9553 - val_loss: 1.3013 - val_accuracy: 0.4664 - lr: 0.0010 - 9s/epoch - 51ms/step
Epoch 25/25
176/176 - 9s - loss: 0.0476 - accuracy: 0.9551 - val_loss: 1.2600 - val_accuracy: 0.4720 - lr: 0.0010 - 9s/epoch - 52ms/step
Epoch 1/25
36/36 - 11s - loss: 0.0418 - accuracy: 0.9611 - val_loss: 1.1518 - val_accuracy: 0.5078 - lr: 0.0010 - 11s/epoch - 308ms/step
Epoch 2/25
36/36 - 8s - loss: 0.0379 - accuracy: 0.9664 - val_loss: 1.3413 - val_accuracy: 0.4693 - lr: 0.0010 - 8s/epoch - 213ms/step
Epoch 3/25
36/36 - 8s - loss: 0.0377 - accuracy: 0.9664 - val_loss: 1.2821 - val_accuracy: 0.4863 - lr: 0.0010 - 8s/epoch - 213ms/step
Epoch 4/25
36/36 - 8s - loss: 0.0375 - accuracy: 0.9665 - val_loss: 1.3664 - val_accuracy: 0.4655 - lr: 0.0010 - 8s/epoch - 213ms/step
Epoch 5/25
36/36 - 8s - loss: 0.0367 - accuracy: 0.9673 - val_loss: 1.3974 - val_accuracy: 0.4582 - lr: 0.0010 - 8s/epoch - 214ms/step
Epoch 6/25
36/36 - 8s - loss: 0.0355 - accuracy: 0.9686 - val_loss: 1.5269 - val_accuracy: 0.4355 - lr: 0.0010 - 8s/epoch - 214ms/step
Epoch 7/25
36/36 - 8s - loss: 0.0357 - accuracy: 0.9680 - val_loss: 1.5234 - val_accuracy: 0.4417 - lr: 0.0010 - 8s/epoch - 214ms/step
Epoch 8/25
36/36 - 8s - loss: 0.0347 - accuracy: 0.9690 - val_loss: 1.4713 - val_accuracy: 0.4500 - lr: 0.0010 - 8s/epoch - 216ms/step
Epoch 9/25
36/36 - 8s - loss: 0.0363 - accuracy: 0.9678 - val_loss: 1.5500 - val_accuracy: 0.4422 - lr: 0.0010 - 8s/epoch - 215ms/step
Epoch 10/25
36/36 - 8s - loss: 0.0356 - accuracy: 0.9690 - val_loss: 1.5020 - val_accuracy: 0.4498 - lr: 0.0010 - 8s/epoch - 215ms/step
Epoch 11/25
36/36 - 8s - loss: 0.0348 - accuracy: 0.9683 - val_loss: 1.5984 - val_accuracy: 0.4398 - lr: 0.0010 - 8s/epoch - 215ms/step
Epoch 12/25
36/36 - 8s - loss: 0.0344 - accuracy: 0.9692 - val_loss: 1.4384 - val_accuracy: 0.4623 - lr: 0.0010 - 8s/epoch - 214ms/step
Epoch 13/25
36/36 - 8s - loss: 0.0337 - accuracy: 0.9699 - val_loss: 1.4829 - val_accuracy: 0.4544 - lr: 0.0010 - 8s/epoch - 214ms/step
Epoch 14/25
36/36 - 8s - loss: 0.0343 - accuracy: 0.9694 - val_loss: 1.5704 - val_accuracy: 0.4404 - lr: 0.0010 - 8s/epoch - 214ms/step
Epoch 15/25
36/36 - 8s - loss: 0.0335 - accuracy: 0.9705 - val_loss: 1.5914 - val_accuracy: 0.4390 - lr: 0.0010 - 8s/epoch - 215ms/step
Epoch 16/25
36/36 - 8s - loss: 0.0336 - accuracy: 0.9698 - val_loss: 1.5867 - val_accuracy: 0.4367 - lr: 0.0010 - 8s/epoch - 214ms/step
Epoch 17/25
36/36 - 8s - loss: 0.0336 - accuracy: 0.9703 - val_loss: 1.6059 - val_accuracy: 0.4422 - lr: 0.0010 - 8s/epoch - 215ms/step
Epoch 18/25
36/36 - 8s - loss: 0.0340 - accuracy: 0.9698 - val_loss: 1.6005 - val_accuracy: 0.4436 - lr: 0.0010 - 8s/epoch - 214ms/step
Epoch 19/25
36/36 - 8s - loss: 0.0336 - accuracy: 0.9701 - val_loss: 1.6545 - val_accuracy: 0.4311 - lr: 0.0010 - 8s/epoch - 214ms/step
Epoch 20/25
36/36 - 8s - loss: 0.0342 - accuracy: 0.9694 - val_loss: 1.5397 - val_accuracy: 0.4485 - lr: 0.0010 - 8s/epoch - 214ms/step
Epoch 21/25
36/36 - 8s - loss: 0.0340 - accuracy: 0.9701 - val_loss: 1.5836 - val_accuracy: 0.4472 - lr: 0.0010 - 8s/epoch - 215ms/step
Epoch 22/25
36/36 - 8s - loss: 0.0341 - accuracy: 0.9701 - val_loss: 1.5004 - val_accuracy: 0.4603 - lr: 0.0010 - 8s/epoch - 215ms/step
Epoch 23/25
36/36 - 8s - loss: 0.0341 - accuracy: 0.9701 - val_loss: 1.6045 - val_accuracy: 0.4413 - lr: 0.0010 - 8s/epoch - 215ms/step
Epoch 24/25
36/36 - 8s - loss: 0.0332 - accuracy: 0.9711 - val_loss: 1.6363 - val_accuracy: 0.4385 - lr: 0.0010 - 8s/epoch - 214ms/step
Epoch 25/25
36/36 - 8s - loss: 0.0343 - accuracy: 0.9693 - val_loss: 1.5655 - val_accuracy: 0.4476 - lr: 0.0010 - 8s/epoch - 214ms/step
Epoch 1/50
4378/4378 - 79s - loss: 0.1032 - accuracy: 0.8972 - val_loss: 0.8087 - val_accuracy: 0.5296 - lr: 0.0010 - 79s/epoch - 18ms/step
Epoch 2/50
4378/4378 - 76s - loss: 0.1106 - accuracy: 0.8861 - val_loss: 1.3418 - val_accuracy: 0.2807 - lr: 0.0010 - 76s/epoch - 17ms/step
Epoch 3/50
4378/4378 - 76s - loss: 0.1134 - accuracy: 0.8838 - val_loss: 0.8784 - val_accuracy: 0.4487 - lr: 0.0010 - 76s/epoch - 17ms/step
Epoch 4/50
4378/4378 - 76s - loss: 0.1133 - accuracy: 0.8826 - val_loss: 1.3972 - val_accuracy: 0.3556 - lr: 0.0010 - 76s/epoch - 17ms/step
Epoch 5/50
4378/4378 - 76s - loss: 0.1135 - accuracy: 0.8830 - val_loss: 0.7385 - val_accuracy: 0.4626 - lr: 0.0010 - 76s/epoch - 17ms/step
Epoch 6/50
4378/4378 - 76s - loss: 0.1137 - accuracy: 0.8816 - val_loss: 0.5556 - val_accuracy: 0.5343 - lr: 0.0010 - 76s/epoch - 17ms/step
Epoch 7/50
4378/4378 - 76s - loss: 0.1156 - accuracy: 0.8808 - val_loss: 0.8638 - val_accuracy: 0.5107 - lr: 0.0010 - 76s/epoch - 17ms/step
Epoch 8/50
4378/4378 - 76s - loss: 0.1154 - accuracy: 0.8796 - val_loss: 0.6407 - val_accuracy: 0.4871 - lr: 0.0010 - 76s/epoch - 17ms/step
Epoch 9/50
4378/4378 - 76s - loss: 0.1168 - accuracy: 0.8789 - val_loss: 0.5837 - val_accuracy: 0.5694 - lr: 0.0010 - 76s/epoch - 17ms/step
Epoch 10/50
4378/4378 - 76s - loss: 0.1152 - accuracy: 0.8814 - val_loss: 0.4088 - val_accuracy: 0.6343 - lr: 0.0010 - 76s/epoch - 17ms/step
Epoch 11/50
4378/4378 - 76s - loss: 0.1164 - accuracy: 0.8801 - val_loss: 0.4530 - val_accuracy: 0.5959 - lr: 0.0010 - 76s/epoch - 17ms/step
Epoch 12/50
4378/4378 - 77s - loss: 0.1149 - accuracy: 0.8805 - val_loss: 1.1186 - val_accuracy: 0.4147 - lr: 0.0010 - 77s/epoch - 18ms/step
Epoch 13/50
4378/4378 - 77s - loss: 0.1162 - accuracy: 0.8797 - val_loss: 0.4276 - val_accuracy: 0.6150 - lr: 0.0010 - 77s/epoch - 18ms/step
Epoch 14/50
4378/4378 - 76s - loss: 0.1178 - accuracy: 0.8779 - val_loss: 0.3643 - val_accuracy: 0.6549 - lr: 0.0010 - 76s/epoch - 17ms/step
Epoch 15/50
4378/4378 - 76s - loss: 0.1174 - accuracy: 0.8792 - val_loss: 0.4600 - val_accuracy: 0.6093 - lr: 0.0010 - 76s/epoch - 17ms/step
Epoch 16/50
4378/4378 - 76s - loss: 0.1180 - accuracy: 0.8778 - val_loss: 0.4083 - val_accuracy: 0.6348 - lr: 0.0010 - 76s/epoch - 17ms/step
Epoch 17/50
4378/4378 - 76s - loss: 0.1172 - accuracy: 0.8785 - val_loss: 0.4633 - val_accuracy: 0.6169 - lr: 0.0010 - 76s/epoch - 17ms/step
Epoch 18/50
4378/4378 - 76s - loss: 0.1178 - accuracy: 0.8780 - val_loss: 0.4376 - val_accuracy: 0.5913 - lr: 0.0010 - 76s/epoch - 17ms/step
Epoch 19/50
4378/4378 - 77s - loss: 0.1163 - accuracy: 0.8798 - val_loss: 0.3699 - val_accuracy: 0.6571 - lr: 0.0010 - 77s/epoch - 18ms/step
Epoch 20/50
4378/4378 - 76s - loss: 0.1168 - accuracy: 0.8789 - val_loss: 0.5130 - val_accuracy: 0.5882 - lr: 0.0010 - 76s/epoch - 17ms/step
Epoch 21/50
4378/4378 - 76s - loss: 0.1168 - accuracy: 0.8796 - val_loss: 0.6114 - val_accuracy: 0.5613 - lr: 0.0010 - 76s/epoch - 17ms/step
Epoch 22/50
4378/4378 - 76s - loss: 0.1160 - accuracy: 0.8784 - val_loss: 0.3720 - val_accuracy: 0.6553 - lr: 0.0010 - 76s/epoch - 17ms/step
Epoch 23/50
4378/4378 - 76s - loss: 0.1176 - accuracy: 0.8788 - val_loss: 1.0663 - val_accuracy: 0.4564 - lr: 0.0010 - 76s/epoch - 17ms/step
Epoch 24/50
4378/4378 - 76s - loss: 0.1170 - accuracy: 0.8790 - val_loss: 0.5953 - val_accuracy: 0.5537 - lr: 0.0010 - 76s/epoch - 17ms/step
Epoch 25/50
4378/4378 - 76s - loss: 0.1179 - accuracy: 0.8774 - val_loss: 0.6253 - val_accuracy: 0.5668 - lr: 0.0010 - 76s/epoch - 17ms/step
Epoch 26/50
4378/4378 - 76s - loss: 0.1167 - accuracy: 0.8789 - val_loss: 0.5476 - val_accuracy: 0.5865 - lr: 0.0010 - 76s/epoch - 17ms/step
Epoch 27/50
4378/4378 - 76s - loss: 0.1170 - accuracy: 0.8795 - val_loss: 1.0610 - val_accuracy: 0.4418 - lr: 0.0010 - 76s/epoch - 17ms/step
Epoch 28/50
4378/4378 - 76s - loss: 0.1173 - accuracy: 0.8792 - val_loss: 0.8995 - val_accuracy: 0.4663 - lr: 0.0010 - 76s/epoch - 17ms/step
Epoch 29/50
4378/4378 - 76s - loss: 0.1166 - accuracy: 0.8792 - val_loss: 1.0121 - val_accuracy: 0.4177 - lr: 0.0010 - 76s/epoch - 17ms/step
Epoch 30/50
4378/4378 - 76s - loss: 0.1163 - accuracy: 0.8802 - val_loss: 0.7242 - val_accuracy: 0.5051 - lr: 0.0010 - 76s/epoch - 17ms/step
Epoch 31/50
4378/4378 - 76s - loss: 0.1167 - accuracy: 0.8787 - val_loss: 0.8533 - val_accuracy: 0.4661 - lr: 0.0010 - 76s/epoch - 17ms/step
Epoch 32/50
4378/4378 - 76s - loss: 0.1171 - accuracy: 0.8783 - val_loss: 0.4422 - val_accuracy: 0.6141 - lr: 0.0010 - 76s/epoch - 17ms/step
Epoch 33/50
4378/4378 - 76s - loss: 0.1156 - accuracy: 0.8807 - val_loss: 1.1663 - val_accuracy: 0.4208 - lr: 0.0010 - 76s/epoch - 17ms/step
Epoch 34/50
4378/4378 - 76s - loss: 0.1178 - accuracy: 0.8787 - val_loss: 0.6248 - val_accuracy: 0.5347 - lr: 0.0010 - 76s/epoch - 17ms/step
Epoch 35/50
4378/4378 - 77s - loss: 0.1178 - accuracy: 0.8779 - val_loss: 1.3833 - val_accuracy: 0.2252 - lr: 0.0010 - 77s/epoch - 17ms/step
Epoch 36/50
4378/4378 - 76s - loss: 0.1161 - accuracy: 0.8810 - val_loss: 0.4618 - val_accuracy: 0.6076 - lr: 0.0010 - 76s/epoch - 17ms/step
Epoch 37/50
4378/4378 - 76s - loss: 0.1169 - accuracy: 0.8789 - val_loss: 0.4272 - val_accuracy: 0.6077 - lr: 0.0010 - 76s/epoch - 17ms/step
Epoch 38/50
4378/4378 - 76s - loss: 0.1169 - accuracy: 0.8791 - val_loss: 0.9433 - val_accuracy: 0.5114 - lr: 0.0010 - 76s/epoch - 17ms/step
Epoch 39/50
4378/4378 - 76s - loss: 0.1162 - accuracy: 0.8794 - val_loss: 0.3993 - val_accuracy: 0.6394 - lr: 0.0010 - 76s/epoch - 17ms/step
Epoch 40/50
4378/4378 - 76s - loss: 0.1173 - accuracy: 0.8774 - val_loss: 0.8391 - val_accuracy: 0.5013 - lr: 0.0010 - 76s/epoch - 17ms/step
Epoch 41/50
4378/4378 - 76s - loss: 0.1171 - accuracy: 0.8795 - val_loss: 0.9203 - val_accuracy: 0.4853 - lr: 0.0010 - 76s/epoch - 17ms/step
Epoch 42/50
4378/4378 - 76s - loss: 0.1161 - accuracy: 0.8800 - val_loss: 0.7379 - val_accuracy: 0.5312 - lr: 0.0010 - 76s/epoch - 17ms/step
Epoch 43/50
4378/4378 - 77s - loss: 0.1160 - accuracy: 0.8806 - val_loss: 0.8433 - val_accuracy: 0.4998 - lr: 0.0010 - 77s/epoch - 17ms/step
Epoch 44/50
4378/4378 - 76s - loss: 0.1176 - accuracy: 0.8785 - val_loss: 0.5134 - val_accuracy: 0.5974 - lr: 0.0010 - 76s/epoch - 17ms/step
Epoch 45/50
4378/4378 - 76s - loss: 0.1188 - accuracy: 0.8758 - val_loss: 0.4241 - val_accuracy: 0.6286 - lr: 0.0010 - 76s/epoch - 17ms/step
Epoch 46/50
4378/4378 - 77s - loss: 0.1176 - accuracy: 0.8788 - val_loss: 0.4422 - val_accuracy: 0.6138 - lr: 0.0010 - 77s/epoch - 18ms/step
Epoch 47/50
4378/4378 - 76s - loss: 0.1166 - accuracy: 0.8797 - val_loss: 0.9299 - val_accuracy: 0.4975 - lr: 0.0010 - 76s/epoch - 17ms/step
Epoch 48/50
4378/4378 - 76s - loss: 0.1176 - accuracy: 0.8779 - val_loss: 1.0281 - val_accuracy: 0.4501 - lr: 0.0010 - 76s/epoch - 17ms/step
Epoch 49/50
4378/4378 - 77s - loss: 0.1155 - accuracy: 0.8799 - val_loss: 0.8473 - val_accuracy: 0.5011 - lr: 0.0010 - 77s/epoch - 17ms/step
Epoch 50/50
4378/4378 - 77s - loss: 0.1157 - accuracy: 0.8808 - val_loss: 1.0061 - val_accuracy: 0.4583 - lr: 0.0010 - 77s/epoch - 18ms/step
Epoch 1/50
876/876 - 21s - loss: 0.0847 - accuracy: 0.9159 - val_loss: 1.2850 - val_accuracy: 0.4354 - lr: 0.0010 - 21s/epoch - 24ms/step
Epoch 2/50
876/876 - 19s - loss: 0.0849 - accuracy: 0.9159 - val_loss: 1.0615 - val_accuracy: 0.4888 - lr: 0.0010 - 19s/epoch - 21ms/step
Epoch 3/50
876/876 - 19s - loss: 0.0834 - accuracy: 0.9162 - val_loss: 1.2371 - val_accuracy: 0.4567 - lr: 0.0010 - 19s/epoch - 21ms/step
Epoch 4/50
876/876 - 19s - loss: 0.0818 - accuracy: 0.9177 - val_loss: 0.7842 - val_accuracy: 0.5247 - lr: 0.0010 - 19s/epoch - 21ms/step
Epoch 5/50
876/876 - 18s - loss: 0.0807 - accuracy: 0.9191 - val_loss: 0.6379 - val_accuracy: 0.5692 - lr: 0.0010 - 18s/epoch - 21ms/step
Epoch 6/50
876/876 - 19s - loss: 0.0812 - accuracy: 0.9183 - val_loss: 1.1858 - val_accuracy: 0.4649 - lr: 0.0010 - 19s/epoch - 21ms/step
Epoch 7/50
876/876 - 19s - loss: 0.0800 - accuracy: 0.9206 - val_loss: 0.8870 - val_accuracy: 0.5315 - lr: 0.0010 - 19s/epoch - 21ms/step
Epoch 8/50
876/876 - 19s - loss: 0.0787 - accuracy: 0.9229 - val_loss: 1.2517 - val_accuracy: 0.4508 - lr: 0.0010 - 19s/epoch - 21ms/step
Epoch 9/50
876/876 - 19s - loss: 0.0772 - accuracy: 0.9226 - val_loss: 0.6966 - val_accuracy: 0.5846 - lr: 0.0010 - 19s/epoch - 21ms/step
Epoch 10/50
876/876 - 19s - loss: 0.0773 - accuracy: 0.9226 - val_loss: 0.8520 - val_accuracy: 0.5244 - lr: 0.0010 - 19s/epoch - 21ms/step
Epoch 11/50
876/876 - 19s - loss: 0.0783 - accuracy: 0.9211 - val_loss: 1.2887 - val_accuracy: 0.4354 - lr: 0.0010 - 19s/epoch - 21ms/step
Epoch 12/50
876/876 - 19s - loss: 0.0777 - accuracy: 0.9221 - val_loss: 1.1093 - val_accuracy: 0.4746 - lr: 0.0010 - 19s/epoch - 21ms/step
Epoch 13/50
876/876 - 19s - loss: 0.0769 - accuracy: 0.9235 - val_loss: 1.3738 - val_accuracy: 0.4329 - lr: 0.0010 - 19s/epoch - 21ms/step
Epoch 14/50
876/876 - 19s - loss: 0.0765 - accuracy: 0.9234 - val_loss: 1.4930 - val_accuracy: 0.4218 - lr: 0.0010 - 19s/epoch - 21ms/step
Epoch 15/50
876/876 - 19s - loss: 0.0761 - accuracy: 0.9241 - val_loss: 0.9726 - val_accuracy: 0.5106 - lr: 0.0010 - 19s/epoch - 21ms/step
Epoch 16/50
876/876 - 19s - loss: 0.0759 - accuracy: 0.9249 - val_loss: 1.3923 - val_accuracy: 0.4429 - lr: 0.0010 - 19s/epoch - 21ms/step
Epoch 17/50
876/876 - 19s - loss: 0.0751 - accuracy: 0.9245 - val_loss: 0.9048 - val_accuracy: 0.5130 - lr: 0.0010 - 19s/epoch - 21ms/step
Epoch 18/50
876/876 - 19s - loss: 0.0753 - accuracy: 0.9245 - val_loss: 1.0880 - val_accuracy: 0.4910 - lr: 0.0010 - 19s/epoch - 21ms/step
Epoch 19/50
876/876 - 19s - loss: 0.0753 - accuracy: 0.9258 - val_loss: 1.3274 - val_accuracy: 0.4197 - lr: 0.0010 - 19s/epoch - 21ms/step
Epoch 20/50
876/876 - 19s - loss: 0.0744 - accuracy: 0.9270 - val_loss: 1.6199 - val_accuracy: 0.3971 - lr: 0.0010 - 19s/epoch - 21ms/step
Epoch 21/50
876/876 - 19s - loss: 0.0750 - accuracy: 0.9252 - val_loss: 1.3034 - val_accuracy: 0.4516 - lr: 0.0010 - 19s/epoch - 21ms/step
Epoch 22/50
876/876 - 19s - loss: 0.0734 - accuracy: 0.9264 - val_loss: 0.9081 - val_accuracy: 0.5311 - lr: 0.0010 - 19s/epoch - 21ms/step
Epoch 23/50
876/876 - 19s - loss: 0.0738 - accuracy: 0.9269 - val_loss: 0.7749 - val_accuracy: 0.5454 - lr: 0.0010 - 19s/epoch - 21ms/step
Epoch 24/50
876/876 - 19s - loss: 0.0739 - accuracy: 0.9259 - val_loss: 1.3094 - val_accuracy: 0.4396 - lr: 0.0010 - 19s/epoch - 21ms/step
Epoch 25/50
876/876 - 19s - loss: 0.0740 - accuracy: 0.9259 - val_loss: 0.9727 - val_accuracy: 0.5134 - lr: 0.0010 - 19s/epoch - 21ms/step
Epoch 26/50
876/876 - 19s - loss: 0.0734 - accuracy: 0.9267 - val_loss: 0.8534 - val_accuracy: 0.5406 - lr: 0.0010 - 19s/epoch - 21ms/step
Epoch 27/50
876/876 - 19s - loss: 0.0724 - accuracy: 0.9283 - val_loss: 1.1196 - val_accuracy: 0.4820 - lr: 0.0010 - 19s/epoch - 21ms/step
Epoch 28/50
876/876 - 19s - loss: 0.0724 - accuracy: 0.9287 - val_loss: 0.5724 - val_accuracy: 0.6151 - lr: 0.0010 - 19s/epoch - 21ms/step
Epoch 29/50
876/876 - 19s - loss: 0.0730 - accuracy: 0.9279 - val_loss: 0.7758 - val_accuracy: 0.5698 - lr: 0.0010 - 19s/epoch - 21ms/step
Epoch 30/50
876/876 - 19s - loss: 0.0734 - accuracy: 0.9272 - val_loss: 1.3248 - val_accuracy: 0.4338 - lr: 0.0010 - 19s/epoch - 21ms/step
Epoch 31/50
876/876 - 19s - loss: 0.0730 - accuracy: 0.9277 - val_loss: 1.1022 - val_accuracy: 0.4836 - lr: 0.0010 - 19s/epoch - 21ms/step
Epoch 32/50
876/876 - 19s - loss: 0.0720 - accuracy: 0.9285 - val_loss: 0.9335 - val_accuracy: 0.5221 - lr: 0.0010 - 19s/epoch - 21ms/step
Epoch 33/50
876/876 - 19s - loss: 0.0725 - accuracy: 0.9287 - val_loss: 1.0070 - val_accuracy: 0.4942 - lr: 0.0010 - 19s/epoch - 21ms/step
Epoch 34/50
876/876 - 19s - loss: 0.0715 - accuracy: 0.9294 - val_loss: 1.6530 - val_accuracy: 0.4018 - lr: 0.0010 - 19s/epoch - 21ms/step
Epoch 35/50
876/876 - 19s - loss: 0.0718 - accuracy: 0.9292 - val_loss: 1.2561 - val_accuracy: 0.4584 - lr: 0.0010 - 19s/epoch - 21ms/step
Epoch 36/50
876/876 - 19s - loss: 0.0723 - accuracy: 0.9282 - val_loss: 0.8335 - val_accuracy: 0.5286 - lr: 0.0010 - 19s/epoch - 21ms/step
Epoch 37/50
876/876 - 19s - loss: 0.0722 - accuracy: 0.9284 - val_loss: 0.6082 - val_accuracy: 0.6068 - lr: 0.0010 - 19s/epoch - 21ms/step
Epoch 38/50
876/876 - 18s - loss: 0.0720 - accuracy: 0.9286 - val_loss: 1.1432 - val_accuracy: 0.4615 - lr: 0.0010 - 18s/epoch - 21ms/step
Epoch 39/50
876/876 - 19s - loss: 0.0723 - accuracy: 0.9286 - val_loss: 1.2939 - val_accuracy: 0.4483 - lr: 0.0010 - 19s/epoch - 21ms/step
Epoch 40/50
876/876 - 19s - loss: 0.0725 - accuracy: 0.9286 - val_loss: 1.3376 - val_accuracy: 0.4337 - lr: 0.0010 - 19s/epoch - 21ms/step
Epoch 41/50
876/876 - 19s - loss: 0.0707 - accuracy: 0.9301 - val_loss: 1.4180 - val_accuracy: 0.3975 - lr: 0.0010 - 19s/epoch - 22ms/step
Epoch 42/50
876/876 - 19s - loss: 0.0707 - accuracy: 0.9305 - val_loss: 1.5292 - val_accuracy: 0.3994 - lr: 0.0010 - 19s/epoch - 21ms/step
Epoch 43/50
876/876 - 18s - loss: 0.0704 - accuracy: 0.9315 - val_loss: 1.5609 - val_accuracy: 0.3959 - lr: 0.0010 - 18s/epoch - 21ms/step
Epoch 44/50
876/876 - 19s - loss: 0.0719 - accuracy: 0.9281 - val_loss: 0.6991 - val_accuracy: 0.5729 - lr: 0.0010 - 19s/epoch - 21ms/step
Epoch 45/50
876/876 - 19s - loss: 0.0713 - accuracy: 0.9296 - val_loss: 1.4215 - val_accuracy: 0.4107 - lr: 0.0010 - 19s/epoch - 21ms/step
Epoch 46/50
876/876 - 19s - loss: 0.0698 - accuracy: 0.9312 - val_loss: 1.6979 - val_accuracy: 0.3865 - lr: 0.0010 - 19s/epoch - 21ms/step
Epoch 47/50
876/876 - 19s - loss: 0.0703 - accuracy: 0.9307 - val_loss: 1.0877 - val_accuracy: 0.4826 - lr: 0.0010 - 19s/epoch - 21ms/step
Epoch 48/50
876/876 - 19s - loss: 0.0711 - accuracy: 0.9308 - val_loss: 0.9594 - val_accuracy: 0.5139 - lr: 0.0010 - 19s/epoch - 21ms/step
Epoch 49/50
876/876 - 19s - loss: 0.0706 - accuracy: 0.9313 - val_loss: 0.8332 - val_accuracy: 0.5330 - lr: 0.0010 - 19s/epoch - 21ms/step
Epoch 50/50
876/876 - 19s - loss: 0.0712 - accuracy: 0.9290 - val_loss: 0.9841 - val_accuracy: 0.5028 - lr: 0.0010 - 19s/epoch - 21ms/step
Epoch 1/50
176/176 - 11s - loss: 0.0527 - accuracy: 0.9506 - val_loss: 0.9006 - val_accuracy: 0.5292 - lr: 0.0010 - 11s/epoch - 65ms/step
Epoch 2/50
176/176 - 9s - loss: 0.0467 - accuracy: 0.9571 - val_loss: 1.3129 - val_accuracy: 0.4550 - lr: 0.0010 - 9s/epoch - 52ms/step
Epoch 3/50
176/176 - 9s - loss: 0.0459 - accuracy: 0.9577 - val_loss: 1.2007 - val_accuracy: 0.4843 - lr: 0.0010 - 9s/epoch - 51ms/step
Epoch 4/50
176/176 - 9s - loss: 0.0453 - accuracy: 0.9577 - val_loss: 1.4156 - val_accuracy: 0.4453 - lr: 0.0010 - 9s/epoch - 51ms/step
Epoch 5/50
176/176 - 9s - loss: 0.0462 - accuracy: 0.9568 - val_loss: 1.2103 - val_accuracy: 0.4825 - lr: 0.0010 - 9s/epoch - 51ms/step
Epoch 6/50
176/176 - 9s - loss: 0.0472 - accuracy: 0.9557 - val_loss: 1.4001 - val_accuracy: 0.4576 - lr: 0.0010 - 9s/epoch - 51ms/step
Epoch 7/50
176/176 - 9s - loss: 0.0476 - accuracy: 0.9548 - val_loss: 1.5309 - val_accuracy: 0.4297 - lr: 0.0010 - 9s/epoch - 51ms/step
Epoch 8/50
176/176 - 9s - loss: 0.0481 - accuracy: 0.9548 - val_loss: 1.1832 - val_accuracy: 0.5083 - lr: 0.0010 - 9s/epoch - 51ms/step
Epoch 9/50
176/176 - 9s - loss: 0.0449 - accuracy: 0.9577 - val_loss: 1.0375 - val_accuracy: 0.5312 - lr: 0.0010 - 9s/epoch - 51ms/step
Epoch 10/50
176/176 - 9s - loss: 0.0428 - accuracy: 0.9604 - val_loss: 1.1303 - val_accuracy: 0.4960 - lr: 0.0010 - 9s/epoch - 51ms/step
Epoch 11/50
176/176 - 9s - loss: 0.0437 - accuracy: 0.9589 - val_loss: 1.2775 - val_accuracy: 0.4771 - lr: 0.0010 - 9s/epoch - 51ms/step
Epoch 12/50
176/176 - 9s - loss: 0.0450 - accuracy: 0.9583 - val_loss: 1.0253 - val_accuracy: 0.5412 - lr: 0.0010 - 9s/epoch - 51ms/step
Epoch 13/50
176/176 - 9s - loss: 0.0445 - accuracy: 0.9588 - val_loss: 1.0540 - val_accuracy: 0.5325 - lr: 0.0010 - 9s/epoch - 51ms/step
Epoch 14/50
176/176 - 9s - loss: 0.0461 - accuracy: 0.9571 - val_loss: 1.2436 - val_accuracy: 0.4838 - lr: 0.0010 - 9s/epoch - 51ms/step
Epoch 15/50
176/176 - 9s - loss: 0.0466 - accuracy: 0.9565 - val_loss: 1.1543 - val_accuracy: 0.5136 - lr: 0.0010 - 9s/epoch - 51ms/step
Epoch 16/50
176/176 - 9s - loss: 0.0457 - accuracy: 0.9578 - val_loss: 1.0663 - val_accuracy: 0.5259 - lr: 0.0010 - 9s/epoch - 51ms/step
Epoch 17/50
176/176 - 9s - loss: 0.0440 - accuracy: 0.9587 - val_loss: 0.9733 - val_accuracy: 0.5529 - lr: 0.0010 - 9s/epoch - 51ms/step
Epoch 18/50
176/176 - 9s - loss: 0.0433 - accuracy: 0.9601 - val_loss: 1.2875 - val_accuracy: 0.4816 - lr: 0.0010 - 9s/epoch - 51ms/step
Epoch 19/50
176/176 - 9s - loss: 0.0428 - accuracy: 0.9603 - val_loss: 1.0170 - val_accuracy: 0.5401 - lr: 0.0010 - 9s/epoch - 51ms/step
Epoch 20/50
176/176 - 9s - loss: 0.0441 - accuracy: 0.9591 - val_loss: 1.0941 - val_accuracy: 0.5190 - lr: 0.0010 - 9s/epoch - 51ms/step
Epoch 21/50
176/176 - 9s - loss: 0.0436 - accuracy: 0.9596 - val_loss: 1.1296 - val_accuracy: 0.4981 - lr: 0.0010 - 9s/epoch - 51ms/step
Epoch 22/50
176/176 - 9s - loss: 0.0429 - accuracy: 0.9600 - val_loss: 1.2696 - val_accuracy: 0.4847 - lr: 0.0010 - 9s/epoch - 51ms/step
Epoch 23/50
176/176 - 9s - loss: 0.0435 - accuracy: 0.9596 - val_loss: 1.2149 - val_accuracy: 0.4995 - lr: 0.0010 - 9s/epoch - 51ms/step
Epoch 24/50
176/176 - 9s - loss: 0.0454 - accuracy: 0.9575 - val_loss: 1.3717 - val_accuracy: 0.4565 - lr: 0.0010 - 9s/epoch - 51ms/step
Epoch 25/50
176/176 - 9s - loss: 0.0460 - accuracy: 0.9570 - val_loss: 1.1919 - val_accuracy: 0.4937 - lr: 0.0010 - 9s/epoch - 51ms/step
Epoch 26/50
176/176 - 9s - loss: 0.0453 - accuracy: 0.9578 - val_loss: 1.1258 - val_accuracy: 0.5066 - lr: 0.0010 - 9s/epoch - 51ms/step
Epoch 27/50
176/176 - 9s - loss: 0.0451 - accuracy: 0.9572 - val_loss: 1.0150 - val_accuracy: 0.5357 - lr: 0.0010 - 9s/epoch - 51ms/step
Epoch 28/50
176/176 - 9s - loss: 0.0467 - accuracy: 0.9562 - val_loss: 1.2231 - val_accuracy: 0.4837 - lr: 0.0010 - 9s/epoch - 51ms/step
Epoch 29/50
176/176 - 9s - loss: 0.0454 - accuracy: 0.9572 - val_loss: 1.0509 - val_accuracy: 0.5171 - lr: 0.0010 - 9s/epoch - 51ms/step
Epoch 30/50
176/176 - 9s - loss: 0.0458 - accuracy: 0.9573 - val_loss: 1.2419 - val_accuracy: 0.4747 - lr: 0.0010 - 9s/epoch - 51ms/step
Epoch 31/50
176/176 - 9s - loss: 0.0448 - accuracy: 0.9586 - val_loss: 1.5146 - val_accuracy: 0.4328 - lr: 0.0010 - 9s/epoch - 51ms/step
Epoch 32/50
176/176 - 9s - loss: 0.0432 - accuracy: 0.9600 - val_loss: 0.9386 - val_accuracy: 0.5498 - lr: 0.0010 - 9s/epoch - 51ms/step
Epoch 33/50
176/176 - 9s - loss: 0.0420 - accuracy: 0.9602 - val_loss: 1.2942 - val_accuracy: 0.4739 - lr: 0.0010 - 9s/epoch - 51ms/step
Epoch 34/50
176/176 - 9s - loss: 0.0417 - accuracy: 0.9619 - val_loss: 1.1262 - val_accuracy: 0.5109 - lr: 0.0010 - 9s/epoch - 51ms/step
Epoch 35/50
176/176 - 9s - loss: 0.0420 - accuracy: 0.9619 - val_loss: 1.1344 - val_accuracy: 0.5025 - lr: 0.0010 - 9s/epoch - 51ms/step
Epoch 36/50
176/176 - 9s - loss: 0.0430 - accuracy: 0.9599 - val_loss: 1.3267 - val_accuracy: 0.4718 - lr: 0.0010 - 9s/epoch - 51ms/step
Epoch 37/50
176/176 - 9s - loss: 0.0436 - accuracy: 0.9593 - val_loss: 1.0408 - val_accuracy: 0.5393 - lr: 0.0010 - 9s/epoch - 51ms/step
Epoch 38/50
176/176 - 9s - loss: 0.0434 - accuracy: 0.9598 - val_loss: 1.1625 - val_accuracy: 0.5058 - lr: 0.0010 - 9s/epoch - 51ms/step
Epoch 39/50
176/176 - 9s - loss: 0.0436 - accuracy: 0.9588 - val_loss: 1.0146 - val_accuracy: 0.5400 - lr: 0.0010 - 9s/epoch - 51ms/step
Epoch 40/50
176/176 - 9s - loss: 0.0419 - accuracy: 0.9605 - val_loss: 1.0212 - val_accuracy: 0.5341 - lr: 0.0010 - 9s/epoch - 51ms/step
Epoch 41/50
176/176 - 9s - loss: 0.0414 - accuracy: 0.9615 - val_loss: 1.1894 - val_accuracy: 0.5055 - lr: 0.0010 - 9s/epoch - 51ms/step
Epoch 42/50
176/176 - 9s - loss: 0.0414 - accuracy: 0.9623 - val_loss: 1.3390 - val_accuracy: 0.4707 - lr: 0.0010 - 9s/epoch - 51ms/step
Epoch 43/50
176/176 - 9s - loss: 0.0422 - accuracy: 0.9603 - val_loss: 1.1184 - val_accuracy: 0.5099 - lr: 0.0010 - 9s/epoch - 51ms/step
Epoch 44/50
176/176 - 9s - loss: 0.0424 - accuracy: 0.9610 - val_loss: 1.0353 - val_accuracy: 0.5404 - lr: 0.0010 - 9s/epoch - 51ms/step
Epoch 45/50
176/176 - 9s - loss: 0.0434 - accuracy: 0.9600 - val_loss: 1.2276 - val_accuracy: 0.4929 - lr: 0.0010 - 9s/epoch - 51ms/step
Epoch 46/50
176/176 - 9s - loss: 0.0429 - accuracy: 0.9600 - val_loss: 1.1172 - val_accuracy: 0.5070 - lr: 0.0010 - 9s/epoch - 51ms/step
Epoch 47/50
176/176 - 9s - loss: 0.0437 - accuracy: 0.9591 - val_loss: 1.5105 - val_accuracy: 0.4340 - lr: 0.0010 - 9s/epoch - 51ms/step
Epoch 48/50
176/176 - 9s - loss: 0.0417 - accuracy: 0.9613 - val_loss: 1.2556 - val_accuracy: 0.4891 - lr: 0.0010 - 9s/epoch - 51ms/step
Epoch 49/50
176/176 - 9s - loss: 0.0429 - accuracy: 0.9598 - val_loss: 1.3329 - val_accuracy: 0.4778 - lr: 0.0010 - 9s/epoch - 51ms/step
Epoch 50/50
176/176 - 9s - loss: 0.0436 - accuracy: 0.9591 - val_loss: 1.1444 - val_accuracy: 0.5105 - lr: 0.0010 - 9s/epoch - 51ms/step
Epoch 1/50
36/36 - 11s - loss: 0.0388 - accuracy: 0.9642 - val_loss: 1.1954 - val_accuracy: 0.4972 - lr: 0.0010 - 11s/epoch - 313ms/step
Epoch 2/50
36/36 - 8s - loss: 0.0347 - accuracy: 0.9682 - val_loss: 1.2205 - val_accuracy: 0.4976 - lr: 0.0010 - 8s/epoch - 214ms/step
Epoch 3/50
36/36 - 8s - loss: 0.0346 - accuracy: 0.9687 - val_loss: 1.2600 - val_accuracy: 0.4947 - lr: 0.0010 - 8s/epoch - 214ms/step
Epoch 4/50
36/36 - 8s - loss: 0.0337 - accuracy: 0.9695 - val_loss: 1.2163 - val_accuracy: 0.5097 - lr: 0.0010 - 8s/epoch - 214ms/step
Epoch 5/50
36/36 - 8s - loss: 0.0327 - accuracy: 0.9715 - val_loss: 1.3073 - val_accuracy: 0.4827 - lr: 0.0010 - 8s/epoch - 214ms/step
Epoch 6/50
36/36 - 8s - loss: 0.0326 - accuracy: 0.9716 - val_loss: 1.3213 - val_accuracy: 0.4810 - lr: 0.0010 - 8s/epoch - 214ms/step
Epoch 7/50
36/36 - 8s - loss: 0.0322 - accuracy: 0.9719 - val_loss: 1.3706 - val_accuracy: 0.4749 - lr: 0.0010 - 8s/epoch - 215ms/step
Epoch 8/50
36/36 - 8s - loss: 0.0317 - accuracy: 0.9720 - val_loss: 1.3386 - val_accuracy: 0.4803 - lr: 0.0010 - 8s/epoch - 214ms/step
Epoch 9/50
36/36 - 8s - loss: 0.0324 - accuracy: 0.9714 - val_loss: 1.3270 - val_accuracy: 0.4910 - lr: 0.0010 - 8s/epoch - 214ms/step
Epoch 10/50
36/36 - 8s - loss: 0.0323 - accuracy: 0.9716 - val_loss: 1.3435 - val_accuracy: 0.4811 - lr: 0.0010 - 8s/epoch - 215ms/step
Epoch 11/50
36/36 - 8s - loss: 0.0333 - accuracy: 0.9712 - val_loss: 1.2585 - val_accuracy: 0.4992 - lr: 0.0010 - 8s/epoch - 215ms/step
Epoch 12/50
36/36 - 8s - loss: 0.0313 - accuracy: 0.9730 - val_loss: 1.2591 - val_accuracy: 0.5036 - lr: 0.0010 - 8s/epoch - 214ms/step
Epoch 13/50
36/36 - 8s - loss: 0.0304 - accuracy: 0.9731 - val_loss: 1.3294 - val_accuracy: 0.4909 - lr: 0.0010 - 8s/epoch - 214ms/step
Epoch 14/50
36/36 - 8s - loss: 0.0316 - accuracy: 0.9719 - val_loss: 1.3184 - val_accuracy: 0.4913 - lr: 0.0010 - 8s/epoch - 214ms/step
Epoch 15/50
36/36 - 8s - loss: 0.0316 - accuracy: 0.9719 - val_loss: 1.3595 - val_accuracy: 0.4868 - lr: 0.0010 - 8s/epoch - 215ms/step
Epoch 16/50
36/36 - 8s - loss: 0.0319 - accuracy: 0.9717 - val_loss: 1.3630 - val_accuracy: 0.4852 - lr: 0.0010 - 8s/epoch - 214ms/step
Epoch 17/50
36/36 - 8s - loss: 0.0315 - accuracy: 0.9719 - val_loss: 1.3864 - val_accuracy: 0.4844 - lr: 0.0010 - 8s/epoch - 214ms/step
Epoch 18/50
36/36 - 8s - loss: 0.0303 - accuracy: 0.9733 - val_loss: 1.3421 - val_accuracy: 0.4910 - lr: 0.0010 - 8s/epoch - 215ms/step
Epoch 19/50
36/36 - 8s - loss: 0.0319 - accuracy: 0.9717 - val_loss: 1.3086 - val_accuracy: 0.4979 - lr: 0.0010 - 8s/epoch - 214ms/step
Epoch 20/50
36/36 - 8s - loss: 0.0317 - accuracy: 0.9720 - val_loss: 1.2953 - val_accuracy: 0.4997 - lr: 0.0010 - 8s/epoch - 214ms/step
Epoch 21/50
36/36 - 8s - loss: 0.0318 - accuracy: 0.9722 - val_loss: 1.3747 - val_accuracy: 0.4823 - lr: 0.0010 - 8s/epoch - 214ms/step
Epoch 22/50
36/36 - 8s - loss: 0.0327 - accuracy: 0.9713 - val_loss: 1.3160 - val_accuracy: 0.4920 - lr: 0.0010 - 8s/epoch - 214ms/step
Epoch 23/50
36/36 - 8s - loss: 0.0308 - accuracy: 0.9730 - val_loss: 1.3256 - val_accuracy: 0.4917 - lr: 0.0010 - 8s/epoch - 215ms/step
Epoch 24/50
36/36 - 8s - loss: 0.0303 - accuracy: 0.9740 - val_loss: 1.3349 - val_accuracy: 0.4871 - lr: 0.0010 - 8s/epoch - 214ms/step
Epoch 25/50
36/36 - 8s - loss: 0.0303 - accuracy: 0.9736 - val_loss: 1.2914 - val_accuracy: 0.4933 - lr: 0.0010 - 8s/epoch - 214ms/step
Epoch 26/50
36/36 - 8s - loss: 0.0308 - accuracy: 0.9732 - val_loss: 1.3941 - val_accuracy: 0.4757 - lr: 0.0010 - 8s/epoch - 214ms/step
Epoch 27/50
36/36 - 8s - loss: 0.0312 - accuracy: 0.9728 - val_loss: 1.4124 - val_accuracy: 0.4742 - lr: 0.0010 - 8s/epoch - 214ms/step
Epoch 28/50
36/36 - 8s - loss: 0.0298 - accuracy: 0.9736 - val_loss: 1.3248 - val_accuracy: 0.4918 - lr: 0.0010 - 8s/epoch - 215ms/step
Epoch 29/50
36/36 - 8s - loss: 0.0297 - accuracy: 0.9740 - val_loss: 1.3489 - val_accuracy: 0.4866 - lr: 0.0010 - 8s/epoch - 215ms/step
Epoch 30/50
36/36 - 8s - loss: 0.0308 - accuracy: 0.9730 - val_loss: 1.3453 - val_accuracy: 0.4895 - lr: 0.0010 - 8s/epoch - 214ms/step
Epoch 31/50
36/36 - 8s - loss: 0.0296 - accuracy: 0.9737 - val_loss: 1.3931 - val_accuracy: 0.4842 - lr: 0.0010 - 8s/epoch - 214ms/step
Epoch 32/50
36/36 - 8s - loss: 0.0304 - accuracy: 0.9733 - val_loss: 1.4293 - val_accuracy: 0.4772 - lr: 0.0010 - 8s/epoch - 214ms/step
Epoch 33/50
36/36 - 8s - loss: 0.0297 - accuracy: 0.9742 - val_loss: 1.4318 - val_accuracy: 0.4733 - lr: 0.0010 - 8s/epoch - 215ms/step
Epoch 34/50
36/36 - 8s - loss: 0.0306 - accuracy: 0.9730 - val_loss: 1.5083 - val_accuracy: 0.4630 - lr: 0.0010 - 8s/epoch - 214ms/step
Epoch 35/50
36/36 - 8s - loss: 0.0303 - accuracy: 0.9735 - val_loss: 1.4974 - val_accuracy: 0.4660 - lr: 0.0010 - 8s/epoch - 214ms/step
Epoch 36/50
36/36 - 8s - loss: 0.0308 - accuracy: 0.9731 - val_loss: 1.5568 - val_accuracy: 0.4532 - lr: 0.0010 - 8s/epoch - 214ms/step
Epoch 37/50
36/36 - 8s - loss: 0.0301 - accuracy: 0.9733 - val_loss: 1.5160 - val_accuracy: 0.4586 - lr: 0.0010 - 8s/epoch - 214ms/step
Epoch 38/50
36/36 - 8s - loss: 0.0311 - accuracy: 0.9720 - val_loss: 1.4178 - val_accuracy: 0.4773 - lr: 0.0010 - 8s/epoch - 214ms/step
Epoch 39/50
36/36 - 8s - loss: 0.0308 - accuracy: 0.9725 - val_loss: 1.4144 - val_accuracy: 0.4774 - lr: 0.0010 - 8s/epoch - 214ms/step
Epoch 40/50
36/36 - 8s - loss: 0.0295 - accuracy: 0.9742 - val_loss: 1.4252 - val_accuracy: 0.4767 - lr: 0.0010 - 8s/epoch - 215ms/step
Epoch 41/50
36/36 - 8s - loss: 0.0317 - accuracy: 0.9722 - val_loss: 1.4141 - val_accuracy: 0.4771 - lr: 0.0010 - 8s/epoch - 214ms/step
Epoch 42/50
36/36 - 8s - loss: 0.0300 - accuracy: 0.9735 - val_loss: 1.4269 - val_accuracy: 0.4759 - lr: 0.0010 - 8s/epoch - 214ms/step
Epoch 43/50
36/36 - 8s - loss: 0.0292 - accuracy: 0.9749 - val_loss: 1.4897 - val_accuracy: 0.4621 - lr: 0.0010 - 8s/epoch - 215ms/step
Epoch 44/50
36/36 - 8s - loss: 0.0294 - accuracy: 0.9746 - val_loss: 1.4459 - val_accuracy: 0.4745 - lr: 0.0010 - 8s/epoch - 214ms/step
Epoch 45/50
36/36 - 8s - loss: 0.0296 - accuracy: 0.9737 - val_loss: 1.4429 - val_accuracy: 0.4728 - lr: 0.0010 - 8s/epoch - 214ms/step
Epoch 46/50
36/36 - 8s - loss: 0.0299 - accuracy: 0.9740 - val_loss: 1.3868 - val_accuracy: 0.4846 - lr: 0.0010 - 8s/epoch - 214ms/step
Epoch 47/50
36/36 - 8s - loss: 0.0309 - accuracy: 0.9732 - val_loss: 1.3432 - val_accuracy: 0.4889 - lr: 0.0010 - 8s/epoch - 215ms/step
Epoch 48/50
36/36 - 8s - loss: 0.0291 - accuracy: 0.9748 - val_loss: 1.4072 - val_accuracy: 0.4835 - lr: 0.0010 - 8s/epoch - 214ms/step
Epoch 49/50
36/36 - 8s - loss: 0.0299 - accuracy: 0.9742 - val_loss: 1.3573 - val_accuracy: 0.4877 - lr: 0.0010 - 8s/epoch - 214ms/step
Epoch 50/50
36/36 - 8s - loss: 0.0297 - accuracy: 0.9743 - val_loss: 1.3932 - val_accuracy: 0.4828 - lr: 0.0010 - 8s/epoch - 214ms/step
Epoch 1/75
4378/4378 - 79s - loss: 0.1035 - accuracy: 0.8982 - val_loss: 0.4856 - val_accuracy: 0.6266 - lr: 0.0010 - 79s/epoch - 18ms/step
Epoch 2/75
4378/4378 - 77s - loss: 0.1089 - accuracy: 0.8881 - val_loss: 0.8968 - val_accuracy: 0.4683 - lr: 0.0010 - 77s/epoch - 18ms/step
Epoch 3/75
4378/4378 - 77s - loss: 0.1128 - accuracy: 0.8848 - val_loss: 0.5918 - val_accuracy: 0.5923 - lr: 0.0010 - 77s/epoch - 18ms/step
Epoch 4/75
4378/4378 - 77s - loss: 0.1134 - accuracy: 0.8826 - val_loss: 0.6254 - val_accuracy: 0.5220 - lr: 0.0010 - 77s/epoch - 18ms/step
Epoch 5/75
4378/4378 - 77s - loss: 0.1136 - accuracy: 0.8829 - val_loss: 0.8075 - val_accuracy: 0.4732 - lr: 0.0010 - 77s/epoch - 18ms/step
Epoch 6/75
4378/4378 - 77s - loss: 0.1127 - accuracy: 0.8837 - val_loss: 0.6322 - val_accuracy: 0.5368 - lr: 0.0010 - 77s/epoch - 18ms/step
Epoch 7/75
4378/4378 - 77s - loss: 0.1136 - accuracy: 0.8825 - val_loss: 1.2672 - val_accuracy: 0.3992 - lr: 0.0010 - 77s/epoch - 17ms/step
Epoch 8/75
4378/4378 - 77s - loss: 0.1144 - accuracy: 0.8821 - val_loss: 0.5813 - val_accuracy: 0.5586 - lr: 0.0010 - 77s/epoch - 17ms/step
Epoch 9/75
4378/4378 - 77s - loss: 0.1125 - accuracy: 0.8833 - val_loss: 1.0658 - val_accuracy: 0.4527 - lr: 0.0010 - 77s/epoch - 17ms/step
Epoch 10/75
4378/4378 - 77s - loss: 0.1130 - accuracy: 0.8838 - val_loss: 0.6046 - val_accuracy: 0.5685 - lr: 0.0010 - 77s/epoch - 18ms/step
Epoch 11/75
4378/4378 - 77s - loss: 0.1148 - accuracy: 0.8822 - val_loss: 0.6781 - val_accuracy: 0.4942 - lr: 0.0010 - 77s/epoch - 18ms/step
Epoch 12/75
4378/4378 - 77s - loss: 0.1131 - accuracy: 0.8827 - val_loss: 0.7150 - val_accuracy: 0.5156 - lr: 0.0010 - 77s/epoch - 17ms/step
Epoch 13/75
4378/4378 - 77s - loss: 0.1128 - accuracy: 0.8826 - val_loss: 0.4301 - val_accuracy: 0.6386 - lr: 0.0010 - 77s/epoch - 18ms/step
Epoch 14/75
4378/4378 - 77s - loss: 0.1150 - accuracy: 0.8819 - val_loss: 0.4912 - val_accuracy: 0.5926 - lr: 0.0010 - 77s/epoch - 17ms/step
Epoch 15/75
4378/4378 - 77s - loss: 0.1149 - accuracy: 0.8812 - val_loss: 0.5461 - val_accuracy: 0.5638 - lr: 0.0010 - 77s/epoch - 18ms/step
Epoch 16/75
4378/4378 - 77s - loss: 0.1141 - accuracy: 0.8814 - val_loss: 0.4921 - val_accuracy: 0.5948 - lr: 0.0010 - 77s/epoch - 18ms/step
Epoch 17/75
4378/4378 - 77s - loss: 0.1135 - accuracy: 0.8817 - val_loss: 0.7435 - val_accuracy: 0.5153 - lr: 0.0010 - 77s/epoch - 18ms/step
Epoch 18/75
4378/4378 - 77s - loss: 0.1150 - accuracy: 0.8803 - val_loss: 0.8681 - val_accuracy: 0.5175 - lr: 0.0010 - 77s/epoch - 18ms/step
Epoch 19/75
4378/4378 - 76s - loss: 0.1138 - accuracy: 0.8824 - val_loss: 0.8536 - val_accuracy: 0.4876 - lr: 0.0010 - 76s/epoch - 17ms/step
Epoch 20/75
4378/4378 - 77s - loss: 0.1147 - accuracy: 0.8805 - val_loss: 0.8236 - val_accuracy: 0.5191 - lr: 0.0010 - 77s/epoch - 18ms/step
Epoch 21/75
4378/4378 - 77s - loss: 0.1126 - accuracy: 0.8836 - val_loss: 1.0764 - val_accuracy: 0.4157 - lr: 0.0010 - 77s/epoch - 18ms/step
Epoch 22/75
4378/4378 - 77s - loss: 0.1142 - accuracy: 0.8827 - val_loss: 0.5447 - val_accuracy: 0.6065 - lr: 0.0010 - 77s/epoch - 18ms/step
Epoch 23/75
4378/4378 - 77s - loss: 0.1117 - accuracy: 0.8846 - val_loss: 0.5430 - val_accuracy: 0.5919 - lr: 0.0010 - 77s/epoch - 18ms/step
Epoch 24/75
4378/4378 - 77s - loss: 0.1121 - accuracy: 0.8852 - val_loss: 1.7906 - val_accuracy: 0.1985 - lr: 0.0010 - 77s/epoch - 17ms/step
Epoch 25/75
4378/4378 - 77s - loss: 0.1128 - accuracy: 0.8837 - val_loss: 1.0036 - val_accuracy: 0.4756 - lr: 0.0010 - 77s/epoch - 18ms/step
Epoch 26/75
4378/4378 - 77s - loss: 0.1126 - accuracy: 0.8834 - val_loss: 1.3264 - val_accuracy: 0.4641 - lr: 0.0010 - 77s/epoch - 18ms/step
Epoch 27/75
4378/4378 - 77s - loss: 0.1135 - accuracy: 0.8825 - val_loss: 0.7774 - val_accuracy: 0.5070 - lr: 0.0010 - 77s/epoch - 18ms/step
Epoch 28/75
4378/4378 - 77s - loss: 0.1135 - accuracy: 0.8827 - val_loss: 0.6536 - val_accuracy: 0.5402 - lr: 0.0010 - 77s/epoch - 18ms/step
Epoch 29/75
4378/4378 - 77s - loss: 0.1111 - accuracy: 0.8848 - val_loss: 0.3906 - val_accuracy: 0.6631 - lr: 0.0010 - 77s/epoch - 18ms/step
Epoch 30/75
4378/4378 - 77s - loss: 0.1146 - accuracy: 0.8817 - val_loss: 0.6182 - val_accuracy: 0.5468 - lr: 0.0010 - 77s/epoch - 18ms/step
Epoch 31/75
4378/4378 - 77s - loss: 0.1138 - accuracy: 0.8827 - val_loss: 0.4375 - val_accuracy: 0.6116 - lr: 0.0010 - 77s/epoch - 18ms/step
Epoch 32/75
4378/4378 - 77s - loss: 0.1145 - accuracy: 0.8817 - val_loss: 0.7402 - val_accuracy: 0.5007 - lr: 0.0010 - 77s/epoch - 18ms/step
Epoch 33/75
4378/4378 - 77s - loss: 0.1111 - accuracy: 0.8839 - val_loss: 0.4654 - val_accuracy: 0.6184 - lr: 0.0010 - 77s/epoch - 17ms/step
Epoch 34/75
4378/4378 - 78s - loss: 0.1134 - accuracy: 0.8832 - val_loss: 0.5780 - val_accuracy: 0.5605 - lr: 0.0010 - 78s/epoch - 18ms/step
Epoch 35/75
4378/4378 - 77s - loss: 0.1134 - accuracy: 0.8840 - val_loss: 0.6476 - val_accuracy: 0.5312 - lr: 0.0010 - 77s/epoch - 18ms/step
Epoch 36/75
4378/4378 - 77s - loss: 0.1131 - accuracy: 0.8837 - val_loss: 0.4421 - val_accuracy: 0.6176 - lr: 0.0010 - 77s/epoch - 18ms/step
Epoch 37/75
4378/4378 - 77s - loss: 0.1126 - accuracy: 0.8829 - val_loss: 0.4088 - val_accuracy: 0.6375 - lr: 0.0010 - 77s/epoch - 17ms/step
Epoch 38/75
4378/4378 - 77s - loss: 0.1141 - accuracy: 0.8824 - val_loss: 0.4026 - val_accuracy: 0.6533 - lr: 0.0010 - 77s/epoch - 18ms/step
Epoch 39/75
4378/4378 - 76s - loss: 0.1137 - accuracy: 0.8822 - val_loss: 0.4662 - val_accuracy: 0.5929 - lr: 0.0010 - 76s/epoch - 17ms/step
Epoch 40/75
4378/4378 - 77s - loss: 0.1157 - accuracy: 0.8805 - val_loss: 0.4405 - val_accuracy: 0.6110 - lr: 0.0010 - 77s/epoch - 18ms/step
Epoch 41/75
4378/4378 - 76s - loss: 0.1147 - accuracy: 0.8814 - val_loss: 0.3698 - val_accuracy: 0.6752 - lr: 0.0010 - 76s/epoch - 17ms/step
Epoch 42/75
4378/4378 - 77s - loss: 0.1138 - accuracy: 0.8828 - val_loss: 0.9186 - val_accuracy: 0.4360 - lr: 0.0010 - 77s/epoch - 18ms/step
Epoch 43/75
4378/4378 - 77s - loss: 0.1138 - accuracy: 0.8830 - val_loss: 0.7915 - val_accuracy: 0.5126 - lr: 0.0010 - 77s/epoch - 18ms/step
Epoch 44/75
4378/4378 - 77s - loss: 0.1142 - accuracy: 0.8813 - val_loss: 0.9465 - val_accuracy: 0.4581 - lr: 0.0010 - 77s/epoch - 18ms/step
Epoch 45/75
4378/4378 - 77s - loss: 0.1130 - accuracy: 0.8834 - val_loss: 0.4453 - val_accuracy: 0.6011 - lr: 0.0010 - 77s/epoch - 18ms/step
Epoch 46/75
4378/4378 - 77s - loss: 0.1131 - accuracy: 0.8833 - val_loss: 0.4626 - val_accuracy: 0.6136 - lr: 0.0010 - 77s/epoch - 18ms/step
Epoch 47/75
4378/4378 - 77s - loss: 0.1120 - accuracy: 0.8843 - val_loss: 0.4197 - val_accuracy: 0.6497 - lr: 0.0010 - 77s/epoch - 18ms/step
Epoch 48/75
4378/4378 - 77s - loss: 0.1151 - accuracy: 0.8803 - val_loss: 0.6125 - val_accuracy: 0.5803 - lr: 0.0010 - 77s/epoch - 18ms/step
Epoch 49/75
4378/4378 - 77s - loss: 0.1147 - accuracy: 0.8817 - val_loss: 0.7981 - val_accuracy: 0.4749 - lr: 0.0010 - 77s/epoch - 18ms/step
Epoch 50/75
4378/4378 - 77s - loss: 0.1147 - accuracy: 0.8808 - val_loss: 0.6229 - val_accuracy: 0.5569 - lr: 0.0010 - 77s/epoch - 18ms/step
Epoch 51/75
4378/4378 - 77s - loss: 0.1136 - accuracy: 0.8836 - val_loss: 0.8399 - val_accuracy: 0.4377 - lr: 0.0010 - 77s/epoch - 18ms/step
Epoch 52/75
4378/4378 - 77s - loss: 0.1140 - accuracy: 0.8831 - val_loss: 0.5580 - val_accuracy: 0.5587 - lr: 0.0010 - 77s/epoch - 18ms/step
Epoch 53/75
4378/4378 - 77s - loss: 0.1137 - accuracy: 0.8815 - val_loss: 0.4300 - val_accuracy: 0.6373 - lr: 0.0010 - 77s/epoch - 18ms/step
Epoch 54/75
4378/4378 - 77s - loss: 0.1135 - accuracy: 0.8827 - val_loss: 0.9446 - val_accuracy: 0.4211 - lr: 0.0010 - 77s/epoch - 18ms/step
Epoch 55/75
4378/4378 - 77s - loss: 0.1130 - accuracy: 0.8835 - val_loss: 0.7595 - val_accuracy: 0.4978 - lr: 0.0010 - 77s/epoch - 17ms/step
Epoch 56/75
4378/4378 - 77s - loss: 0.1145 - accuracy: 0.8830 - val_loss: 0.4481 - val_accuracy: 0.6323 - lr: 0.0010 - 77s/epoch - 18ms/step
Epoch 57/75
4378/4378 - 77s - loss: 0.1140 - accuracy: 0.8819 - val_loss: 0.5481 - val_accuracy: 0.5576 - lr: 0.0010 - 77s/epoch - 18ms/step
Epoch 58/75
4378/4378 - 76s - loss: 0.1150 - accuracy: 0.8815 - val_loss: 0.4079 - val_accuracy: 0.6321 - lr: 0.0010 - 76s/epoch - 17ms/step
Epoch 59/75
4378/4378 - 77s - loss: 0.1141 - accuracy: 0.8826 - val_loss: 0.4689 - val_accuracy: 0.6151 - lr: 0.0010 - 77s/epoch - 18ms/step
Epoch 60/75
4378/4378 - 77s - loss: 0.1153 - accuracy: 0.8810 - val_loss: 0.6140 - val_accuracy: 0.5012 - lr: 0.0010 - 77s/epoch - 18ms/step
Epoch 61/75
4378/4378 - 77s - loss: 0.1127 - accuracy: 0.8840 - val_loss: 0.4620 - val_accuracy: 0.6100 - lr: 0.0010 - 77s/epoch - 18ms/step
Epoch 62/75
4378/4378 - 77s - loss: 0.1134 - accuracy: 0.8826 - val_loss: 0.5961 - val_accuracy: 0.5463 - lr: 0.0010 - 77s/epoch - 18ms/step
Epoch 63/75
4378/4378 - 77s - loss: 0.1143 - accuracy: 0.8825 - val_loss: 0.5650 - val_accuracy: 0.5822 - lr: 0.0010 - 77s/epoch - 18ms/step
Epoch 64/75
4378/4378 - 77s - loss: 0.1151 - accuracy: 0.8808 - val_loss: 0.4721 - val_accuracy: 0.6078 - lr: 0.0010 - 77s/epoch - 18ms/step
Epoch 65/75
4378/4378 - 77s - loss: 0.1142 - accuracy: 0.8828 - val_loss: 0.5146 - val_accuracy: 0.5688 - lr: 0.0010 - 77s/epoch - 17ms/step
Epoch 66/75
4378/4378 - 76s - loss: 0.1139 - accuracy: 0.8820 - val_loss: 0.4058 - val_accuracy: 0.6394 - lr: 0.0010 - 76s/epoch - 17ms/step
Epoch 67/75
4378/4378 - 76s - loss: 0.1142 - accuracy: 0.8821 - val_loss: 0.3856 - val_accuracy: 0.6526 - lr: 0.0010 - 76s/epoch - 17ms/step
Epoch 68/75
4378/4378 - 76s - loss: 0.1128 - accuracy: 0.8836 - val_loss: 0.6243 - val_accuracy: 0.5439 - lr: 0.0010 - 76s/epoch - 17ms/step
Epoch 69/75
4378/4378 - 77s - loss: 0.1135 - accuracy: 0.8827 - val_loss: 0.4923 - val_accuracy: 0.5826 - lr: 0.0010 - 77s/epoch - 17ms/step
Epoch 70/75
4378/4378 - 77s - loss: 0.1129 - accuracy: 0.8841 - val_loss: 0.5007 - val_accuracy: 0.5906 - lr: 0.0010 - 77s/epoch - 17ms/step
Epoch 71/75
4378/4378 - 77s - loss: 0.1131 - accuracy: 0.8834 - val_loss: 0.7436 - val_accuracy: 0.4951 - lr: 0.0010 - 77s/epoch - 18ms/step
Epoch 72/75
4378/4378 - 76s - loss: 0.1131 - accuracy: 0.8834 - val_loss: 0.5305 - val_accuracy: 0.6116 - lr: 0.0010 - 76s/epoch - 17ms/step
Epoch 73/75
4378/4378 - 76s - loss: 0.1124 - accuracy: 0.8842 - val_loss: 0.4654 - val_accuracy: 0.6195 - lr: 0.0010 - 76s/epoch - 17ms/step
Epoch 74/75
4378/4378 - 76s - loss: 0.1126 - accuracy: 0.8835 - val_loss: 0.4199 - val_accuracy: 0.6476 - lr: 0.0010 - 76s/epoch - 17ms/step
Epoch 75/75
4378/4378 - 76s - loss: 0.1121 - accuracy: 0.8845 - val_loss: 0.4525 - val_accuracy: 0.6131 - lr: 0.0010 - 76s/epoch - 17ms/step
Epoch 1/75
876/876 - 21s - loss: 0.0815 - accuracy: 0.9187 - val_loss: 0.5438 - val_accuracy: 0.5972 - lr: 0.0010 - 21s/epoch - 24ms/step
Epoch 2/75
876/876 - 18s - loss: 0.0812 - accuracy: 0.9186 - val_loss: 0.8904 - val_accuracy: 0.4896 - lr: 0.0010 - 18s/epoch - 21ms/step
Epoch 3/75
876/876 - 18s - loss: 0.0807 - accuracy: 0.9187 - val_loss: 0.6079 - val_accuracy: 0.5694 - lr: 0.0010 - 18s/epoch - 21ms/step
Epoch 4/75
876/876 - 19s - loss: 0.0798 - accuracy: 0.9200 - val_loss: 0.8887 - val_accuracy: 0.5468 - lr: 0.0010 - 19s/epoch - 21ms/step
Epoch 5/75
876/876 - 19s - loss: 0.0789 - accuracy: 0.9210 - val_loss: 0.6017 - val_accuracy: 0.5871 - lr: 0.0010 - 19s/epoch - 21ms/step
Epoch 6/75
876/876 - 19s - loss: 0.0780 - accuracy: 0.9229 - val_loss: 0.9076 - val_accuracy: 0.5213 - lr: 0.0010 - 19s/epoch - 21ms/step
Epoch 7/75
876/876 - 18s - loss: 0.0767 - accuracy: 0.9237 - val_loss: 0.8963 - val_accuracy: 0.5290 - lr: 0.0010 - 18s/epoch - 21ms/step
Epoch 8/75
876/876 - 18s - loss: 0.0761 - accuracy: 0.9242 - val_loss: 0.7877 - val_accuracy: 0.5542 - lr: 0.0010 - 18s/epoch - 21ms/step
Epoch 9/75
876/876 - 19s - loss: 0.0757 - accuracy: 0.9249 - val_loss: 0.8766 - val_accuracy: 0.5285 - lr: 0.0010 - 19s/epoch - 21ms/step
Epoch 10/75
876/876 - 19s - loss: 0.0753 - accuracy: 0.9251 - val_loss: 0.6869 - val_accuracy: 0.5693 - lr: 0.0010 - 19s/epoch - 21ms/step
Epoch 11/75
876/876 - 19s - loss: 0.0751 - accuracy: 0.9248 - val_loss: 0.9755 - val_accuracy: 0.5174 - lr: 0.0010 - 19s/epoch - 21ms/step
Epoch 12/75
876/876 - 19s - loss: 0.0745 - accuracy: 0.9261 - val_loss: 0.8309 - val_accuracy: 0.5379 - lr: 0.0010 - 19s/epoch - 21ms/step
Epoch 13/75
876/876 - 18s - loss: 0.0741 - accuracy: 0.9267 - val_loss: 0.9414 - val_accuracy: 0.5155 - lr: 0.0010 - 18s/epoch - 21ms/step
Epoch 14/75
876/876 - 19s - loss: 0.0738 - accuracy: 0.9259 - val_loss: 0.7483 - val_accuracy: 0.5387 - lr: 0.0010 - 19s/epoch - 21ms/step
Epoch 15/75
876/876 - 19s - loss: 0.0727 - accuracy: 0.9287 - val_loss: 0.6415 - val_accuracy: 0.5757 - lr: 0.0010 - 19s/epoch - 21ms/step
Epoch 16/75
876/876 - 19s - loss: 0.0726 - accuracy: 0.9280 - val_loss: 0.6738 - val_accuracy: 0.5871 - lr: 0.0010 - 19s/epoch - 21ms/step
Epoch 17/75
876/876 - 18s - loss: 0.0725 - accuracy: 0.9279 - val_loss: 0.5860 - val_accuracy: 0.6176 - lr: 0.0010 - 18s/epoch - 21ms/step
Epoch 18/75
876/876 - 19s - loss: 0.0732 - accuracy: 0.9273 - val_loss: 0.6363 - val_accuracy: 0.5978 - lr: 0.0010 - 19s/epoch - 21ms/step
Epoch 19/75
876/876 - 19s - loss: 0.0727 - accuracy: 0.9282 - val_loss: 0.7266 - val_accuracy: 0.5564 - lr: 0.0010 - 19s/epoch - 21ms/step
Epoch 20/75
876/876 - 18s - loss: 0.0719 - accuracy: 0.9288 - val_loss: 1.0128 - val_accuracy: 0.4929 - lr: 0.0010 - 18s/epoch - 21ms/step
Epoch 21/75
876/876 - 18s - loss: 0.0728 - accuracy: 0.9281 - val_loss: 0.7155 - val_accuracy: 0.5465 - lr: 0.0010 - 18s/epoch - 21ms/step
Epoch 22/75
876/876 - 19s - loss: 0.0712 - accuracy: 0.9300 - val_loss: 0.7263 - val_accuracy: 0.5577 - lr: 0.0010 - 19s/epoch - 21ms/step
Epoch 23/75
876/876 - 19s - loss: 0.0705 - accuracy: 0.9303 - val_loss: 0.9452 - val_accuracy: 0.5127 - lr: 0.0010 - 19s/epoch - 22ms/step
Epoch 24/75
876/876 - 18s - loss: 0.0709 - accuracy: 0.9288 - val_loss: 1.0184 - val_accuracy: 0.4698 - lr: 0.0010 - 18s/epoch - 21ms/step
Epoch 25/75
876/876 - 19s - loss: 0.0711 - accuracy: 0.9297 - val_loss: 0.7332 - val_accuracy: 0.5690 - lr: 0.0010 - 19s/epoch - 21ms/step
Epoch 26/75
876/876 - 19s - loss: 0.0712 - accuracy: 0.9296 - val_loss: 0.8034 - val_accuracy: 0.5546 - lr: 0.0010 - 19s/epoch - 21ms/step
Epoch 27/75
876/876 - 18s - loss: 0.0706 - accuracy: 0.9299 - val_loss: 0.9356 - val_accuracy: 0.5352 - lr: 0.0010 - 18s/epoch - 21ms/step
Epoch 28/75
876/876 - 18s - loss: 0.0712 - accuracy: 0.9299 - val_loss: 0.9442 - val_accuracy: 0.5037 - lr: 0.0010 - 18s/epoch - 21ms/step
Epoch 29/75
876/876 - 19s - loss: 0.0695 - accuracy: 0.9312 - val_loss: 1.4355 - val_accuracy: 0.4354 - lr: 0.0010 - 19s/epoch - 21ms/step
Epoch 30/75
876/876 - 18s - loss: 0.0719 - accuracy: 0.9288 - val_loss: 0.7925 - val_accuracy: 0.5518 - lr: 0.0010 - 18s/epoch - 21ms/step
Epoch 31/75
876/876 - 18s - loss: 0.0700 - accuracy: 0.9306 - val_loss: 0.8389 - val_accuracy: 0.5153 - lr: 0.0010 - 18s/epoch - 21ms/step
Epoch 32/75
876/876 - 18s - loss: 0.0709 - accuracy: 0.9303 - val_loss: 0.7465 - val_accuracy: 0.5644 - lr: 0.0010 - 18s/epoch - 21ms/step
Epoch 33/75
876/876 - 18s - loss: 0.0704 - accuracy: 0.9307 - val_loss: 0.7109 - val_accuracy: 0.5748 - lr: 0.0010 - 18s/epoch - 21ms/step
Epoch 34/75
876/876 - 19s - loss: 0.0701 - accuracy: 0.9306 - val_loss: 0.9395 - val_accuracy: 0.5069 - lr: 0.0010 - 19s/epoch - 21ms/step
Epoch 35/75
876/876 - 18s - loss: 0.0709 - accuracy: 0.9306 - val_loss: 0.6448 - val_accuracy: 0.5587 - lr: 0.0010 - 18s/epoch - 21ms/step
Epoch 36/75
876/876 - 18s - loss: 0.0704 - accuracy: 0.9313 - val_loss: 0.7720 - val_accuracy: 0.5423 - lr: 0.0010 - 18s/epoch - 21ms/step
Epoch 37/75
876/876 - 18s - loss: 0.0698 - accuracy: 0.9317 - val_loss: 0.7500 - val_accuracy: 0.5581 - lr: 0.0010 - 18s/epoch - 21ms/step
Epoch 38/75
876/876 - 18s - loss: 0.0707 - accuracy: 0.9302 - val_loss: 0.9321 - val_accuracy: 0.4900 - lr: 0.0010 - 18s/epoch - 21ms/step
Epoch 39/75
876/876 - 19s - loss: 0.0691 - accuracy: 0.9322 - val_loss: 0.7939 - val_accuracy: 0.5396 - lr: 0.0010 - 19s/epoch - 21ms/step
Epoch 40/75
876/876 - 18s - loss: 0.0696 - accuracy: 0.9305 - val_loss: 0.7511 - val_accuracy: 0.5338 - lr: 0.0010 - 18s/epoch - 21ms/step
Epoch 41/75
876/876 - 19s - loss: 0.0695 - accuracy: 0.9319 - val_loss: 0.8317 - val_accuracy: 0.5533 - lr: 0.0010 - 19s/epoch - 21ms/step
Epoch 42/75
876/876 - 19s - loss: 0.0700 - accuracy: 0.9312 - val_loss: 0.9005 - val_accuracy: 0.5214 - lr: 0.0010 - 19s/epoch - 21ms/step
Epoch 43/75
876/876 - 18s - loss: 0.0689 - accuracy: 0.9315 - val_loss: 1.0346 - val_accuracy: 0.4719 - lr: 0.0010 - 18s/epoch - 21ms/step
Epoch 44/75
876/876 - 18s - loss: 0.0701 - accuracy: 0.9309 - val_loss: 0.8055 - val_accuracy: 0.5287 - lr: 0.0010 - 18s/epoch - 21ms/step
Epoch 45/75
876/876 - 18s - loss: 0.0699 - accuracy: 0.9304 - val_loss: 0.8399 - val_accuracy: 0.5179 - lr: 0.0010 - 18s/epoch - 21ms/step
Epoch 46/75
876/876 - 19s - loss: 0.0697 - accuracy: 0.9316 - val_loss: 0.9331 - val_accuracy: 0.5208 - lr: 0.0010 - 19s/epoch - 21ms/step
Epoch 47/75
876/876 - 19s - loss: 0.0691 - accuracy: 0.9324 - val_loss: 0.9510 - val_accuracy: 0.4955 - lr: 0.0010 - 19s/epoch - 21ms/step
Epoch 48/75
876/876 - 19s - loss: 0.0681 - accuracy: 0.9318 - val_loss: 1.0559 - val_accuracy: 0.4836 - lr: 0.0010 - 19s/epoch - 21ms/step
Epoch 49/75
876/876 - 19s - loss: 0.0665 - accuracy: 0.9342 - val_loss: 0.9097 - val_accuracy: 0.5043 - lr: 0.0010 - 19s/epoch - 21ms/step
Epoch 50/75
876/876 - 18s - loss: 0.0675 - accuracy: 0.9329 - val_loss: 0.9543 - val_accuracy: 0.5148 - lr: 0.0010 - 18s/epoch - 21ms/step
Epoch 51/75
876/876 - 19s - loss: 0.0683 - accuracy: 0.9323 - val_loss: 0.6611 - val_accuracy: 0.5809 - lr: 0.0010 - 19s/epoch - 21ms/step
Epoch 52/75
876/876 - 19s - loss: 0.0680 - accuracy: 0.9327 - val_loss: 0.9076 - val_accuracy: 0.5285 - lr: 0.0010 - 19s/epoch - 21ms/step
Epoch 53/75
876/876 - 19s - loss: 0.0684 - accuracy: 0.9332 - val_loss: 1.0777 - val_accuracy: 0.4778 - lr: 0.0010 - 19s/epoch - 21ms/step
Epoch 54/75
876/876 - 18s - loss: 0.0682 - accuracy: 0.9329 - val_loss: 0.9383 - val_accuracy: 0.5283 - lr: 0.0010 - 18s/epoch - 21ms/step
Epoch 55/75
876/876 - 19s - loss: 0.0684 - accuracy: 0.9329 - val_loss: 0.8870 - val_accuracy: 0.5435 - lr: 0.0010 - 19s/epoch - 21ms/step
Epoch 56/75
876/876 - 19s - loss: 0.0680 - accuracy: 0.9324 - val_loss: 0.9456 - val_accuracy: 0.5424 - lr: 0.0010 - 19s/epoch - 21ms/step
Epoch 57/75
876/876 - 19s - loss: 0.0676 - accuracy: 0.9337 - val_loss: 0.9067 - val_accuracy: 0.5256 - lr: 0.0010 - 19s/epoch - 21ms/step
Epoch 58/75
876/876 - 18s - loss: 0.0680 - accuracy: 0.9332 - val_loss: 0.9269 - val_accuracy: 0.5185 - lr: 0.0010 - 18s/epoch - 21ms/step
Epoch 59/75
876/876 - 19s - loss: 0.0673 - accuracy: 0.9339 - val_loss: 0.9582 - val_accuracy: 0.5157 - lr: 0.0010 - 19s/epoch - 21ms/step
Epoch 60/75
876/876 - 19s - loss: 0.0677 - accuracy: 0.9334 - val_loss: 0.8030 - val_accuracy: 0.5340 - lr: 0.0010 - 19s/epoch - 21ms/step
Epoch 61/75
876/876 - 19s - loss: 0.0680 - accuracy: 0.9332 - val_loss: 1.2423 - val_accuracy: 0.4502 - lr: 0.0010 - 19s/epoch - 21ms/step
Epoch 62/75
876/876 - 18s - loss: 0.0679 - accuracy: 0.9330 - val_loss: 0.8171 - val_accuracy: 0.5512 - lr: 0.0010 - 18s/epoch - 21ms/step
Epoch 63/75
876/876 - 18s - loss: 0.0685 - accuracy: 0.9322 - val_loss: 0.9094 - val_accuracy: 0.5217 - lr: 0.0010 - 18s/epoch - 21ms/step
Epoch 64/75
876/876 - 19s - loss: 0.0686 - accuracy: 0.9328 - val_loss: 0.8544 - val_accuracy: 0.5543 - lr: 0.0010 - 19s/epoch - 21ms/step
Epoch 65/75
876/876 - 19s - loss: 0.0680 - accuracy: 0.9327 - val_loss: 0.9451 - val_accuracy: 0.5243 - lr: 0.0010 - 19s/epoch - 21ms/step
Epoch 66/75
876/876 - 18s - loss: 0.0669 - accuracy: 0.9344 - val_loss: 1.1149 - val_accuracy: 0.4735 - lr: 0.0010 - 18s/epoch - 21ms/step
Epoch 67/75
876/876 - 19s - loss: 0.0682 - accuracy: 0.9326 - val_loss: 1.0245 - val_accuracy: 0.4843 - lr: 0.0010 - 19s/epoch - 21ms/step
Epoch 68/75
876/876 - 19s - loss: 0.0681 - accuracy: 0.9327 - val_loss: 0.9297 - val_accuracy: 0.5207 - lr: 0.0010 - 19s/epoch - 21ms/step
Epoch 69/75
876/876 - 19s - loss: 0.0674 - accuracy: 0.9342 - val_loss: 1.2178 - val_accuracy: 0.4405 - lr: 0.0010 - 19s/epoch - 21ms/step
Epoch 70/75
876/876 - 19s - loss: 0.0680 - accuracy: 0.9331 - val_loss: 0.9019 - val_accuracy: 0.5378 - lr: 0.0010 - 19s/epoch - 21ms/step
Epoch 71/75
876/876 - 19s - loss: 0.0666 - accuracy: 0.9345 - val_loss: 1.0385 - val_accuracy: 0.4959 - lr: 0.0010 - 19s/epoch - 21ms/step
Epoch 72/75
876/876 - 18s - loss: 0.0673 - accuracy: 0.9341 - val_loss: 0.7288 - val_accuracy: 0.5680 - lr: 0.0010 - 18s/epoch - 21ms/step
Epoch 73/75
876/876 - 19s - loss: 0.0684 - accuracy: 0.9328 - val_loss: 1.0142 - val_accuracy: 0.5002 - lr: 0.0010 - 19s/epoch - 21ms/step
Epoch 74/75
876/876 - 18s - loss: 0.0690 - accuracy: 0.9310 - val_loss: 0.9280 - val_accuracy: 0.5111 - lr: 0.0010 - 18s/epoch - 21ms/step
Epoch 75/75
876/876 - 18s - loss: 0.0675 - accuracy: 0.9332 - val_loss: 0.8880 - val_accuracy: 0.5285 - lr: 0.0010 - 18s/epoch - 21ms/step
Epoch 1/75
176/176 - 11s - loss: 0.0490 - accuracy: 0.9547 - val_loss: 0.9397 - val_accuracy: 0.5314 - lr: 0.0010 - 11s/epoch - 65ms/step
Epoch 2/75
176/176 - 9s - loss: 0.0437 - accuracy: 0.9602 - val_loss: 1.1367 - val_accuracy: 0.4896 - lr: 0.0010 - 9s/epoch - 51ms/step
Epoch 3/75
176/176 - 9s - loss: 0.0415 - accuracy: 0.9623 - val_loss: 1.1123 - val_accuracy: 0.5053 - lr: 0.0010 - 9s/epoch - 51ms/step
Epoch 4/75
176/176 - 9s - loss: 0.0424 - accuracy: 0.9614 - val_loss: 1.0301 - val_accuracy: 0.5299 - lr: 0.0010 - 9s/epoch - 51ms/step
Epoch 5/75
176/176 - 9s - loss: 0.0436 - accuracy: 0.9586 - val_loss: 0.8252 - val_accuracy: 0.5820 - lr: 0.0010 - 9s/epoch - 51ms/step
Epoch 6/75
176/176 - 9s - loss: 0.0447 - accuracy: 0.9581 - val_loss: 1.0446 - val_accuracy: 0.5306 - lr: 0.0010 - 9s/epoch - 51ms/step
Epoch 7/75
176/176 - 9s - loss: 0.0462 - accuracy: 0.9564 - val_loss: 1.1648 - val_accuracy: 0.4990 - lr: 0.0010 - 9s/epoch - 51ms/step
Epoch 8/75
176/176 - 9s - loss: 0.0450 - accuracy: 0.9579 - val_loss: 1.2096 - val_accuracy: 0.4984 - lr: 0.0010 - 9s/epoch - 51ms/step
Epoch 9/75
176/176 - 9s - loss: 0.0466 - accuracy: 0.9559 - val_loss: 1.2341 - val_accuracy: 0.4781 - lr: 0.0010 - 9s/epoch - 51ms/step
Epoch 10/75
176/176 - 9s - loss: 0.0442 - accuracy: 0.9589 - val_loss: 1.1939 - val_accuracy: 0.4935 - lr: 0.0010 - 9s/epoch - 51ms/step
Epoch 11/75
176/176 - 9s - loss: 0.0425 - accuracy: 0.9604 - val_loss: 1.2352 - val_accuracy: 0.4888 - lr: 0.0010 - 9s/epoch - 51ms/step
Epoch 12/75
176/176 - 9s - loss: 0.0419 - accuracy: 0.9612 - val_loss: 1.0870 - val_accuracy: 0.5293 - lr: 0.0010 - 9s/epoch - 51ms/step
Epoch 13/75
176/176 - 9s - loss: 0.0422 - accuracy: 0.9603 - val_loss: 1.2433 - val_accuracy: 0.4949 - lr: 0.0010 - 9s/epoch - 51ms/step
Epoch 14/75
176/176 - 9s - loss: 0.0412 - accuracy: 0.9618 - val_loss: 1.3755 - val_accuracy: 0.4582 - lr: 0.0010 - 9s/epoch - 51ms/step
Epoch 15/75
176/176 - 9s - loss: 0.0428 - accuracy: 0.9602 - val_loss: 1.2156 - val_accuracy: 0.4813 - lr: 0.0010 - 9s/epoch - 51ms/step
Epoch 16/75
176/176 - 9s - loss: 0.0437 - accuracy: 0.9593 - val_loss: 1.1388 - val_accuracy: 0.5249 - lr: 0.0010 - 9s/epoch - 51ms/step
Epoch 17/75
176/176 - 9s - loss: 0.0401 - accuracy: 0.9637 - val_loss: 1.2488 - val_accuracy: 0.5057 - lr: 0.0010 - 9s/epoch - 51ms/step
Epoch 18/75
176/176 - 9s - loss: 0.0385 - accuracy: 0.9654 - val_loss: 1.2312 - val_accuracy: 0.5023 - lr: 0.0010 - 9s/epoch - 51ms/step
Epoch 19/75
176/176 - 9s - loss: 0.0401 - accuracy: 0.9634 - val_loss: 1.4746 - val_accuracy: 0.4629 - lr: 0.0010 - 9s/epoch - 51ms/step
Epoch 20/75
176/176 - 9s - loss: 0.0403 - accuracy: 0.9629 - val_loss: 1.4155 - val_accuracy: 0.4659 - lr: 0.0010 - 9s/epoch - 51ms/step
Epoch 21/75
176/176 - 9s - loss: 0.0399 - accuracy: 0.9638 - val_loss: 1.3076 - val_accuracy: 0.4907 - lr: 0.0010 - 9s/epoch - 51ms/step
Epoch 22/75
176/176 - 9s - loss: 0.0396 - accuracy: 0.9636 - val_loss: 1.2377 - val_accuracy: 0.5004 - lr: 0.0010 - 9s/epoch - 51ms/step
Epoch 23/75
176/176 - 9s - loss: 0.0422 - accuracy: 0.9611 - val_loss: 1.3852 - val_accuracy: 0.4618 - lr: 0.0010 - 9s/epoch - 51ms/step
Epoch 24/75
176/176 - 9s - loss: 0.0419 - accuracy: 0.9613 - val_loss: 1.2309 - val_accuracy: 0.4965 - lr: 0.0010 - 9s/epoch - 51ms/step
Epoch 25/75
176/176 - 9s - loss: 0.0415 - accuracy: 0.9617 - val_loss: 1.2153 - val_accuracy: 0.5117 - lr: 0.0010 - 9s/epoch - 51ms/step
Epoch 26/75
176/176 - 9s - loss: 0.0408 - accuracy: 0.9626 - val_loss: 1.2315 - val_accuracy: 0.4912 - lr: 0.0010 - 9s/epoch - 51ms/step
Epoch 27/75
176/176 - 9s - loss: 0.0418 - accuracy: 0.9613 - val_loss: 1.2856 - val_accuracy: 0.4815 - lr: 0.0010 - 9s/epoch - 51ms/step
Epoch 28/75
176/176 - 9s - loss: 0.0433 - accuracy: 0.9594 - val_loss: 1.2345 - val_accuracy: 0.4913 - lr: 0.0010 - 9s/epoch - 51ms/step
Epoch 29/75
176/176 - 9s - loss: 0.0416 - accuracy: 0.9613 - val_loss: 1.3053 - val_accuracy: 0.4792 - lr: 0.0010 - 9s/epoch - 51ms/step
Epoch 30/75
176/176 - 9s - loss: 0.0415 - accuracy: 0.9613 - val_loss: 1.3862 - val_accuracy: 0.4662 - lr: 0.0010 - 9s/epoch - 51ms/step
Epoch 31/75
176/176 - 9s - loss: 0.0429 - accuracy: 0.9595 - val_loss: 1.2266 - val_accuracy: 0.4974 - lr: 0.0010 - 9s/epoch - 51ms/step
Epoch 32/75
176/176 - 9s - loss: 0.0431 - accuracy: 0.9596 - val_loss: 1.2289 - val_accuracy: 0.4951 - lr: 0.0010 - 9s/epoch - 51ms/step
Epoch 33/75
176/176 - 9s - loss: 0.0433 - accuracy: 0.9603 - val_loss: 1.0086 - val_accuracy: 0.5402 - lr: 0.0010 - 9s/epoch - 51ms/step
Epoch 34/75
176/176 - 9s - loss: 0.0422 - accuracy: 0.9603 - val_loss: 1.0839 - val_accuracy: 0.5159 - lr: 0.0010 - 9s/epoch - 51ms/step
Epoch 35/75
176/176 - 9s - loss: 0.0404 - accuracy: 0.9625 - val_loss: 1.0129 - val_accuracy: 0.5404 - lr: 0.0010 - 9s/epoch - 51ms/step
Epoch 36/75
176/176 - 9s - loss: 0.0423 - accuracy: 0.9611 - val_loss: 1.0340 - val_accuracy: 0.5345 - lr: 0.0010 - 9s/epoch - 51ms/step
Epoch 37/75
176/176 - 9s - loss: 0.0408 - accuracy: 0.9617 - val_loss: 1.1785 - val_accuracy: 0.5028 - lr: 0.0010 - 9s/epoch - 51ms/step
Epoch 38/75
176/176 - 9s - loss: 0.0407 - accuracy: 0.9620 - val_loss: 1.2295 - val_accuracy: 0.4859 - lr: 0.0010 - 9s/epoch - 51ms/step
Epoch 39/75
176/176 - 9s - loss: 0.0406 - accuracy: 0.9625 - val_loss: 1.1335 - val_accuracy: 0.5264 - lr: 0.0010 - 9s/epoch - 51ms/step
Epoch 40/75
176/176 - 9s - loss: 0.0412 - accuracy: 0.9610 - val_loss: 1.1760 - val_accuracy: 0.5159 - lr: 0.0010 - 9s/epoch - 51ms/step
Epoch 41/75
176/176 - 9s - loss: 0.0418 - accuracy: 0.9617 - val_loss: 1.2061 - val_accuracy: 0.5032 - lr: 0.0010 - 9s/epoch - 51ms/step
Epoch 42/75
176/176 - 9s - loss: 0.0409 - accuracy: 0.9620 - val_loss: 0.9713 - val_accuracy: 0.5478 - lr: 0.0010 - 9s/epoch - 51ms/step
Epoch 43/75
176/176 - 9s - loss: 0.0410 - accuracy: 0.9613 - val_loss: 1.2963 - val_accuracy: 0.4810 - lr: 0.0010 - 9s/epoch - 51ms/step
Epoch 44/75
176/176 - 9s - loss: 0.0409 - accuracy: 0.9616 - val_loss: 1.4816 - val_accuracy: 0.4490 - lr: 0.0010 - 9s/epoch - 51ms/step
Epoch 45/75
176/176 - 9s - loss: 0.0415 - accuracy: 0.9615 - val_loss: 1.2941 - val_accuracy: 0.4748 - lr: 0.0010 - 9s/epoch - 51ms/step
Epoch 46/75
176/176 - 9s - loss: 0.0418 - accuracy: 0.9612 - val_loss: 1.3821 - val_accuracy: 0.4656 - lr: 0.0010 - 9s/epoch - 51ms/step
Epoch 47/75
176/176 - 9s - loss: 0.0397 - accuracy: 0.9634 - val_loss: 1.2187 - val_accuracy: 0.4961 - lr: 0.0010 - 9s/epoch - 51ms/step
Epoch 48/75
176/176 - 9s - loss: 0.0394 - accuracy: 0.9636 - val_loss: 1.3486 - val_accuracy: 0.4699 - lr: 0.0010 - 9s/epoch - 51ms/step
Epoch 49/75
176/176 - 9s - loss: 0.0391 - accuracy: 0.9637 - val_loss: 1.2743 - val_accuracy: 0.4915 - lr: 0.0010 - 9s/epoch - 51ms/step
Epoch 50/75
176/176 - 9s - loss: 0.0383 - accuracy: 0.9644 - val_loss: 1.3508 - val_accuracy: 0.4688 - lr: 0.0010 - 9s/epoch - 51ms/step
Epoch 51/75
176/176 - 9s - loss: 0.0391 - accuracy: 0.9638 - val_loss: 1.3905 - val_accuracy: 0.4646 - lr: 0.0010 - 9s/epoch - 51ms/step
Epoch 52/75
176/176 - 9s - loss: 0.0395 - accuracy: 0.9638 - val_loss: 1.2769 - val_accuracy: 0.4942 - lr: 0.0010 - 9s/epoch - 51ms/step
Epoch 53/75
176/176 - 9s - loss: 0.0380 - accuracy: 0.9650 - val_loss: 1.2118 - val_accuracy: 0.5088 - lr: 0.0010 - 9s/epoch - 51ms/step
Epoch 54/75
176/176 - 9s - loss: 0.0385 - accuracy: 0.9652 - val_loss: 1.0612 - val_accuracy: 0.5480 - lr: 0.0010 - 9s/epoch - 51ms/step
Epoch 55/75
176/176 - 9s - loss: 0.0392 - accuracy: 0.9644 - val_loss: 1.3631 - val_accuracy: 0.4687 - lr: 0.0010 - 9s/epoch - 51ms/step
Epoch 56/75
176/176 - 9s - loss: 0.0386 - accuracy: 0.9648 - val_loss: 1.4355 - val_accuracy: 0.4550 - lr: 0.0010 - 9s/epoch - 51ms/step
Epoch 57/75
176/176 - 9s - loss: 0.0391 - accuracy: 0.9637 - val_loss: 1.3790 - val_accuracy: 0.4682 - lr: 0.0010 - 9s/epoch - 51ms/step
Epoch 58/75
176/176 - 9s - loss: 0.0382 - accuracy: 0.9647 - val_loss: 1.2530 - val_accuracy: 0.4939 - lr: 0.0010 - 9s/epoch - 51ms/step
Epoch 59/75
176/176 - 9s - loss: 0.0378 - accuracy: 0.9654 - val_loss: 1.4226 - val_accuracy: 0.4656 - lr: 0.0010 - 9s/epoch - 51ms/step
Epoch 60/75
176/176 - 9s - loss: 0.0365 - accuracy: 0.9668 - val_loss: 1.1836 - val_accuracy: 0.5163 - lr: 0.0010 - 9s/epoch - 51ms/step
Epoch 61/75
176/176 - 9s - loss: 0.0367 - accuracy: 0.9666 - val_loss: 1.1897 - val_accuracy: 0.5216 - lr: 0.0010 - 9s/epoch - 51ms/step
Epoch 62/75
176/176 - 9s - loss: 0.0387 - accuracy: 0.9646 - val_loss: 1.2651 - val_accuracy: 0.4979 - lr: 0.0010 - 9s/epoch - 51ms/step
Epoch 63/75
176/176 - 9s - loss: 0.0387 - accuracy: 0.9650 - val_loss: 1.2094 - val_accuracy: 0.5023 - lr: 0.0010 - 9s/epoch - 51ms/step
Epoch 64/75
176/176 - 9s - loss: 0.0400 - accuracy: 0.9628 - val_loss: 1.1835 - val_accuracy: 0.5059 - lr: 0.0010 - 9s/epoch - 51ms/step
Epoch 65/75
176/176 - 9s - loss: 0.0394 - accuracy: 0.9640 - val_loss: 1.1788 - val_accuracy: 0.5142 - lr: 0.0010 - 9s/epoch - 51ms/step
Epoch 66/75
176/176 - 9s - loss: 0.0398 - accuracy: 0.9634 - val_loss: 1.0280 - val_accuracy: 0.5483 - lr: 0.0010 - 9s/epoch - 51ms/step
Epoch 67/75
176/176 - 9s - loss: 0.0390 - accuracy: 0.9639 - val_loss: 1.3514 - val_accuracy: 0.4736 - lr: 0.0010 - 9s/epoch - 51ms/step
Epoch 68/75
176/176 - 9s - loss: 0.0390 - accuracy: 0.9641 - val_loss: 1.2495 - val_accuracy: 0.4979 - lr: 0.0010 - 9s/epoch - 51ms/step
Epoch 69/75
176/176 - 9s - loss: 0.0380 - accuracy: 0.9653 - val_loss: 1.1691 - val_accuracy: 0.5249 - lr: 0.0010 - 9s/epoch - 51ms/step
Epoch 70/75
176/176 - 9s - loss: 0.0388 - accuracy: 0.9635 - val_loss: 1.1904 - val_accuracy: 0.5203 - lr: 0.0010 - 9s/epoch - 51ms/step
Epoch 71/75
176/176 - 9s - loss: 0.0383 - accuracy: 0.9652 - val_loss: 1.3160 - val_accuracy: 0.4882 - lr: 0.0010 - 9s/epoch - 51ms/step
Epoch 72/75
176/176 - 9s - loss: 0.0391 - accuracy: 0.9641 - val_loss: 1.3151 - val_accuracy: 0.4910 - lr: 0.0010 - 9s/epoch - 51ms/step
Epoch 73/75
176/176 - 9s - loss: 0.0386 - accuracy: 0.9647 - val_loss: 1.2014 - val_accuracy: 0.5210 - lr: 0.0010 - 9s/epoch - 51ms/step
Epoch 74/75
176/176 - 9s - loss: 0.0392 - accuracy: 0.9636 - val_loss: 1.0739 - val_accuracy: 0.5458 - lr: 0.0010 - 9s/epoch - 51ms/step
Epoch 75/75
176/176 - 9s - loss: 0.0388 - accuracy: 0.9641 - val_loss: 0.9865 - val_accuracy: 0.5687 - lr: 0.0010 - 9s/epoch - 51ms/step
Epoch 1/75
36/36 - 10s - loss: 0.0343 - accuracy: 0.9689 - val_loss: 1.1018 - val_accuracy: 0.5484 - lr: 0.0010 - 10s/epoch - 282ms/step
Epoch 2/75
36/36 - 8s - loss: 0.0313 - accuracy: 0.9725 - val_loss: 1.1670 - val_accuracy: 0.5319 - lr: 0.0010 - 8s/epoch - 214ms/step
Epoch 3/75
36/36 - 8s - loss: 0.0296 - accuracy: 0.9744 - val_loss: 1.1669 - val_accuracy: 0.5354 - lr: 0.0010 - 8s/epoch - 214ms/step
Epoch 4/75
36/36 - 8s - loss: 0.0294 - accuracy: 0.9735 - val_loss: 1.1849 - val_accuracy: 0.5279 - lr: 0.0010 - 8s/epoch - 215ms/step
Epoch 5/75
36/36 - 8s - loss: 0.0295 - accuracy: 0.9750 - val_loss: 1.1512 - val_accuracy: 0.5360 - lr: 0.0010 - 8s/epoch - 214ms/step
Epoch 6/75
36/36 - 8s - loss: 0.0286 - accuracy: 0.9748 - val_loss: 1.1850 - val_accuracy: 0.5259 - lr: 0.0010 - 8s/epoch - 213ms/step
Epoch 7/75
36/36 - 8s - loss: 0.0289 - accuracy: 0.9747 - val_loss: 1.1942 - val_accuracy: 0.5220 - lr: 0.0010 - 8s/epoch - 214ms/step
Epoch 8/75
36/36 - 8s - loss: 0.0297 - accuracy: 0.9740 - val_loss: 1.2329 - val_accuracy: 0.5162 - lr: 0.0010 - 8s/epoch - 214ms/step
Epoch 9/75
36/36 - 8s - loss: 0.0290 - accuracy: 0.9747 - val_loss: 1.3341 - val_accuracy: 0.4934 - lr: 0.0010 - 8s/epoch - 214ms/step
Epoch 10/75
36/36 - 8s - loss: 0.0277 - accuracy: 0.9754 - val_loss: 1.2705 - val_accuracy: 0.5091 - lr: 0.0010 - 8s/epoch - 215ms/step
Epoch 11/75
36/36 - 8s - loss: 0.0291 - accuracy: 0.9747 - val_loss: 1.3206 - val_accuracy: 0.4979 - lr: 0.0010 - 8s/epoch - 214ms/step
Epoch 12/75
36/36 - 8s - loss: 0.0276 - accuracy: 0.9757 - val_loss: 1.3012 - val_accuracy: 0.5031 - lr: 0.0010 - 8s/epoch - 214ms/step
Epoch 13/75
36/36 - 8s - loss: 0.0274 - accuracy: 0.9763 - val_loss: 1.3074 - val_accuracy: 0.4986 - lr: 0.0010 - 8s/epoch - 214ms/step
Epoch 14/75
36/36 - 8s - loss: 0.0278 - accuracy: 0.9759 - val_loss: 1.2541 - val_accuracy: 0.5142 - lr: 0.0010 - 8s/epoch - 214ms/step
Epoch 15/75
36/36 - 8s - loss: 0.0268 - accuracy: 0.9766 - val_loss: 1.3336 - val_accuracy: 0.4985 - lr: 0.0010 - 8s/epoch - 214ms/step
Epoch 16/75
36/36 - 8s - loss: 0.0272 - accuracy: 0.9763 - val_loss: 1.3096 - val_accuracy: 0.5057 - lr: 0.0010 - 8s/epoch - 214ms/step
Epoch 17/75
36/36 - 8s - loss: 0.0270 - accuracy: 0.9770 - val_loss: 1.3769 - val_accuracy: 0.4944 - lr: 0.0010 - 8s/epoch - 215ms/step
Epoch 18/75
36/36 - 8s - loss: 0.0283 - accuracy: 0.9756 - val_loss: 1.2680 - val_accuracy: 0.5090 - lr: 0.0010 - 8s/epoch - 215ms/step
Epoch 19/75
36/36 - 8s - loss: 0.0279 - accuracy: 0.9755 - val_loss: 1.3197 - val_accuracy: 0.5029 - lr: 0.0010 - 8s/epoch - 214ms/step
Epoch 20/75
36/36 - 8s - loss: 0.0271 - accuracy: 0.9772 - val_loss: 1.3176 - val_accuracy: 0.5020 - lr: 0.0010 - 8s/epoch - 214ms/step
Epoch 21/75
36/36 - 8s - loss: 0.0278 - accuracy: 0.9757 - val_loss: 1.3117 - val_accuracy: 0.5011 - lr: 0.0010 - 8s/epoch - 215ms/step
Epoch 22/75
36/36 - 8s - loss: 0.0270 - accuracy: 0.9765 - val_loss: 1.3042 - val_accuracy: 0.5073 - lr: 0.0010 - 8s/epoch - 215ms/step
Epoch 23/75
36/36 - 8s - loss: 0.0274 - accuracy: 0.9759 - val_loss: 1.3011 - val_accuracy: 0.5122 - lr: 0.0010 - 8s/epoch - 214ms/step
Epoch 24/75
36/36 - 8s - loss: 0.0269 - accuracy: 0.9765 - val_loss: 1.3263 - val_accuracy: 0.5082 - lr: 0.0010 - 8s/epoch - 214ms/step
Epoch 25/75
36/36 - 8s - loss: 0.0279 - accuracy: 0.9758 - val_loss: 1.3607 - val_accuracy: 0.4977 - lr: 0.0010 - 8s/epoch - 216ms/step
Epoch 26/75
36/36 - 8s - loss: 0.0257 - accuracy: 0.9779 - val_loss: 1.3364 - val_accuracy: 0.4998 - lr: 0.0010 - 8s/epoch - 216ms/step
Epoch 27/75
36/36 - 8s - loss: 0.0265 - accuracy: 0.9775 - val_loss: 1.3099 - val_accuracy: 0.5111 - lr: 0.0010 - 8s/epoch - 215ms/step
Epoch 28/75
36/36 - 8s - loss: 0.0263 - accuracy: 0.9774 - val_loss: 1.3561 - val_accuracy: 0.4984 - lr: 0.0010 - 8s/epoch - 214ms/step
Epoch 29/75
36/36 - 8s - loss: 0.0268 - accuracy: 0.9771 - val_loss: 1.3982 - val_accuracy: 0.4920 - lr: 0.0010 - 8s/epoch - 214ms/step
Epoch 30/75
36/36 - 8s - loss: 0.0272 - accuracy: 0.9767 - val_loss: 1.4011 - val_accuracy: 0.4909 - lr: 0.0010 - 8s/epoch - 215ms/step
Epoch 31/75
36/36 - 8s - loss: 0.0276 - accuracy: 0.9760 - val_loss: 1.4992 - val_accuracy: 0.4694 - lr: 0.0010 - 8s/epoch - 215ms/step
Epoch 32/75
36/36 - 8s - loss: 0.0275 - accuracy: 0.9757 - val_loss: 1.4717 - val_accuracy: 0.4732 - lr: 0.0010 - 8s/epoch - 215ms/step
Epoch 33/75
36/36 - 8s - loss: 0.0277 - accuracy: 0.9761 - val_loss: 1.4751 - val_accuracy: 0.4786 - lr: 0.0010 - 8s/epoch - 214ms/step
Epoch 34/75
36/36 - 8s - loss: 0.0272 - accuracy: 0.9763 - val_loss: 1.4160 - val_accuracy: 0.4877 - lr: 0.0010 - 8s/epoch - 215ms/step
Epoch 35/75
36/36 - 8s - loss: 0.0262 - accuracy: 0.9780 - val_loss: 1.3780 - val_accuracy: 0.4985 - lr: 0.0010 - 8s/epoch - 216ms/step
Epoch 36/75
36/36 - 8s - loss: 0.0285 - accuracy: 0.9752 - val_loss: 1.3890 - val_accuracy: 0.4939 - lr: 0.0010 - 8s/epoch - 215ms/step
Epoch 37/75
36/36 - 8s - loss: 0.0276 - accuracy: 0.9761 - val_loss: 1.3782 - val_accuracy: 0.4931 - lr: 0.0010 - 8s/epoch - 215ms/step
Epoch 38/75
36/36 - 8s - loss: 0.0274 - accuracy: 0.9760 - val_loss: 1.4803 - val_accuracy: 0.4771 - lr: 0.0010 - 8s/epoch - 215ms/step
Epoch 39/75
36/36 - 8s - loss: 0.0275 - accuracy: 0.9762 - val_loss: 1.4133 - val_accuracy: 0.4902 - lr: 0.0010 - 8s/epoch - 215ms/step
Epoch 40/75
36/36 - 8s - loss: 0.0274 - accuracy: 0.9757 - val_loss: 1.4010 - val_accuracy: 0.4960 - lr: 0.0010 - 8s/epoch - 215ms/step
Epoch 41/75
36/36 - 8s - loss: 0.0267 - accuracy: 0.9773 - val_loss: 1.4050 - val_accuracy: 0.4975 - lr: 0.0010 - 8s/epoch - 214ms/step
Epoch 42/75
36/36 - 8s - loss: 0.0253 - accuracy: 0.9785 - val_loss: 1.3993 - val_accuracy: 0.4936 - lr: 0.0010 - 8s/epoch - 214ms/step
Epoch 43/75
36/36 - 8s - loss: 0.0289 - accuracy: 0.9747 - val_loss: 1.4181 - val_accuracy: 0.4954 - lr: 0.0010 - 8s/epoch - 215ms/step
Epoch 44/75
36/36 - 8s - loss: 0.0250 - accuracy: 0.9784 - val_loss: 1.3831 - val_accuracy: 0.5045 - lr: 0.0010 - 8s/epoch - 215ms/step
Epoch 45/75
36/36 - 8s - loss: 0.0262 - accuracy: 0.9775 - val_loss: 1.4089 - val_accuracy: 0.4944 - lr: 0.0010 - 8s/epoch - 215ms/step
Epoch 46/75
36/36 - 8s - loss: 0.0274 - accuracy: 0.9756 - val_loss: 1.4644 - val_accuracy: 0.4802 - lr: 0.0010 - 8s/epoch - 214ms/step
Epoch 47/75
36/36 - 8s - loss: 0.0265 - accuracy: 0.9771 - val_loss: 1.4771 - val_accuracy: 0.4781 - lr: 0.0010 - 8s/epoch - 215ms/step
Epoch 48/75
36/36 - 8s - loss: 0.0258 - accuracy: 0.9779 - val_loss: 1.4533 - val_accuracy: 0.4863 - lr: 0.0010 - 8s/epoch - 215ms/step
Epoch 49/75
36/36 - 8s - loss: 0.0261 - accuracy: 0.9774 - val_loss: 1.4835 - val_accuracy: 0.4771 - lr: 0.0010 - 8s/epoch - 215ms/step
Epoch 50/75
36/36 - 8s - loss: 0.0271 - accuracy: 0.9766 - val_loss: 1.4656 - val_accuracy: 0.4829 - lr: 0.0010 - 8s/epoch - 214ms/step
Epoch 51/75
36/36 - 8s - loss: 0.0257 - accuracy: 0.9773 - val_loss: 1.4379 - val_accuracy: 0.4911 - lr: 0.0010 - 8s/epoch - 214ms/step
Epoch 52/75
36/36 - 8s - loss: 0.0265 - accuracy: 0.9771 - val_loss: 1.4339 - val_accuracy: 0.4914 - lr: 0.0010 - 8s/epoch - 215ms/step
Epoch 53/75
36/36 - 8s - loss: 0.0255 - accuracy: 0.9777 - val_loss: 1.4729 - val_accuracy: 0.4879 - lr: 0.0010 - 8s/epoch - 214ms/step
Epoch 54/75
36/36 - 8s - loss: 0.0259 - accuracy: 0.9777 - val_loss: 1.4922 - val_accuracy: 0.4794 - lr: 0.0010 - 8s/epoch - 214ms/step
Epoch 55/75
36/36 - 8s - loss: 0.0261 - accuracy: 0.9772 - val_loss: 1.4667 - val_accuracy: 0.4875 - lr: 0.0010 - 8s/epoch - 216ms/step
Epoch 56/75
36/36 - 8s - loss: 0.0275 - accuracy: 0.9758 - val_loss: 1.3213 - val_accuracy: 0.5190 - lr: 0.0010 - 8s/epoch - 215ms/step
Epoch 57/75
36/36 - 8s - loss: 0.0266 - accuracy: 0.9770 - val_loss: 1.3755 - val_accuracy: 0.5009 - lr: 0.0010 - 8s/epoch - 215ms/step
Epoch 58/75
36/36 - 8s - loss: 0.0260 - accuracy: 0.9780 - val_loss: 1.3953 - val_accuracy: 0.5001 - lr: 0.0010 - 8s/epoch - 215ms/step
Epoch 59/75
36/36 - 8s - loss: 0.0273 - accuracy: 0.9760 - val_loss: 1.3341 - val_accuracy: 0.5144 - lr: 0.0010 - 8s/epoch - 214ms/step
Epoch 60/75
36/36 - 8s - loss: 0.0258 - accuracy: 0.9784 - val_loss: 1.3261 - val_accuracy: 0.5163 - lr: 0.0010 - 8s/epoch - 214ms/step
Epoch 61/75
36/36 - 8s - loss: 0.0258 - accuracy: 0.9778 - val_loss: 1.3947 - val_accuracy: 0.4970 - lr: 0.0010 - 8s/epoch - 215ms/step
Epoch 62/75
36/36 - 8s - loss: 0.0255 - accuracy: 0.9780 - val_loss: 1.3922 - val_accuracy: 0.4979 - lr: 0.0010 - 8s/epoch - 215ms/step
Epoch 63/75
36/36 - 8s - loss: 0.0261 - accuracy: 0.9772 - val_loss: 1.3903 - val_accuracy: 0.4982 - lr: 0.0010 - 8s/epoch - 215ms/step
Epoch 64/75
36/36 - 8s - loss: 0.0257 - accuracy: 0.9781 - val_loss: 1.3388 - val_accuracy: 0.5097 - lr: 0.0010 - 8s/epoch - 216ms/step
Epoch 65/75
36/36 - 8s - loss: 0.0267 - accuracy: 0.9767 - val_loss: 1.3418 - val_accuracy: 0.5120 - lr: 0.0010 - 8s/epoch - 216ms/step
Epoch 66/75
36/36 - 8s - loss: 0.0253 - accuracy: 0.9783 - val_loss: 1.4019 - val_accuracy: 0.4952 - lr: 0.0010 - 8s/epoch - 215ms/step
Epoch 67/75
36/36 - 8s - loss: 0.0258 - accuracy: 0.9777 - val_loss: 1.4048 - val_accuracy: 0.4985 - lr: 0.0010 - 8s/epoch - 214ms/step
Epoch 68/75
36/36 - 8s - loss: 0.0274 - accuracy: 0.9757 - val_loss: 1.4078 - val_accuracy: 0.4944 - lr: 0.0010 - 8s/epoch - 214ms/step
Epoch 69/75
36/36 - 8s - loss: 0.0265 - accuracy: 0.9766 - val_loss: 1.3455 - val_accuracy: 0.5136 - lr: 0.0010 - 8s/epoch - 214ms/step
Epoch 70/75
36/36 - 8s - loss: 0.0271 - accuracy: 0.9767 - val_loss: 1.3284 - val_accuracy: 0.5159 - lr: 0.0010 - 8s/epoch - 216ms/step
Epoch 71/75
36/36 - 8s - loss: 0.0265 - accuracy: 0.9770 - val_loss: 1.3687 - val_accuracy: 0.5052 - lr: 0.0010 - 8s/epoch - 215ms/step
Epoch 72/75
36/36 - 8s - loss: 0.0259 - accuracy: 0.9780 - val_loss: 1.3559 - val_accuracy: 0.5076 - lr: 0.0010 - 8s/epoch - 215ms/step
Epoch 73/75
36/36 - 8s - loss: 0.0247 - accuracy: 0.9789 - val_loss: 1.3514 - val_accuracy: 0.5063 - lr: 0.0010 - 8s/epoch - 214ms/step
Epoch 74/75
36/36 - 8s - loss: 0.0259 - accuracy: 0.9780 - val_loss: 1.3581 - val_accuracy: 0.5072 - lr: 0.0010 - 8s/epoch - 215ms/step
Epoch 75/75
36/36 - 8s - loss: 0.0250 - accuracy: 0.9791 - val_loss: 1.4102 - val_accuracy: 0.4969 - lr: 0.0010 - 8s/epoch - 215ms/step
Epoch 1/100
4378/4378 - 80s - loss: 0.0997 - accuracy: 0.9035 - val_loss: 0.8044 - val_accuracy: 0.5154 - lr: 0.0010 - 80s/epoch - 18ms/step
Epoch 2/100
4378/4378 - 76s - loss: 0.1073 - accuracy: 0.8904 - val_loss: 0.5587 - val_accuracy: 0.5815 - lr: 0.0010 - 76s/epoch - 17ms/step
Epoch 3/100
4378/4378 - 76s - loss: 0.1076 - accuracy: 0.8890 - val_loss: 0.8236 - val_accuracy: 0.4510 - lr: 0.0010 - 76s/epoch - 17ms/step
Epoch 4/100
4378/4378 - 76s - loss: 0.1087 - accuracy: 0.8891 - val_loss: 0.4906 - val_accuracy: 0.5963 - lr: 0.0010 - 76s/epoch - 17ms/step
Epoch 5/100
4378/4378 - 76s - loss: 0.1087 - accuracy: 0.8882 - val_loss: 0.6679 - val_accuracy: 0.4912 - lr: 0.0010 - 76s/epoch - 17ms/step
Epoch 6/100
4378/4378 - 76s - loss: 0.1088 - accuracy: 0.8885 - val_loss: 0.6986 - val_accuracy: 0.5003 - lr: 0.0010 - 76s/epoch - 17ms/step
Epoch 7/100
4378/4378 - 76s - loss: 0.1102 - accuracy: 0.8865 - val_loss: 0.6486 - val_accuracy: 0.5220 - lr: 0.0010 - 76s/epoch - 17ms/step
Epoch 8/100
4378/4378 - 76s - loss: 0.1120 - accuracy: 0.8852 - val_loss: 0.7104 - val_accuracy: 0.5132 - lr: 0.0010 - 76s/epoch - 17ms/step
Epoch 9/100
4378/4378 - 76s - loss: 0.1102 - accuracy: 0.8869 - val_loss: 0.7235 - val_accuracy: 0.5338 - lr: 0.0010 - 76s/epoch - 17ms/step
Epoch 10/100
4378/4378 - 76s - loss: 0.1102 - accuracy: 0.8866 - val_loss: 0.6435 - val_accuracy: 0.5210 - lr: 0.0010 - 76s/epoch - 17ms/step
Epoch 11/100
4378/4378 - 76s - loss: 0.1098 - accuracy: 0.8874 - val_loss: 0.5531 - val_accuracy: 0.5915 - lr: 0.0010 - 76s/epoch - 17ms/step
Epoch 12/100
4378/4378 - 76s - loss: 0.1102 - accuracy: 0.8867 - val_loss: 0.8303 - val_accuracy: 0.4985 - lr: 0.0010 - 76s/epoch - 17ms/step
Epoch 13/100
4378/4378 - 76s - loss: 0.1106 - accuracy: 0.8864 - val_loss: 0.5333 - val_accuracy: 0.5442 - lr: 0.0010 - 76s/epoch - 17ms/step
Epoch 14/100
4378/4378 - 76s - loss: 0.1098 - accuracy: 0.8871 - val_loss: 0.8129 - val_accuracy: 0.4955 - lr: 0.0010 - 76s/epoch - 17ms/step
Epoch 15/100
4378/4378 - 76s - loss: 0.1093 - accuracy: 0.8874 - val_loss: 0.5075 - val_accuracy: 0.5880 - lr: 0.0010 - 76s/epoch - 17ms/step
Epoch 16/100
4378/4378 - 76s - loss: 0.1097 - accuracy: 0.8876 - val_loss: 0.4729 - val_accuracy: 0.6116 - lr: 0.0010 - 76s/epoch - 17ms/step
Epoch 17/100
4378/4378 - 76s - loss: 0.1105 - accuracy: 0.8868 - val_loss: 0.4198 - val_accuracy: 0.6304 - lr: 0.0010 - 76s/epoch - 17ms/step
Epoch 18/100
4378/4378 - 77s - loss: 0.1090 - accuracy: 0.8878 - val_loss: 0.9564 - val_accuracy: 0.4614 - lr: 0.0010 - 77s/epoch - 18ms/step
Epoch 19/100
4378/4378 - 76s - loss: 0.1110 - accuracy: 0.8847 - val_loss: 0.4676 - val_accuracy: 0.5987 - lr: 0.0010 - 76s/epoch - 17ms/step
Epoch 20/100
4378/4378 - 76s - loss: 0.1108 - accuracy: 0.8861 - val_loss: 0.9701 - val_accuracy: 0.4023 - lr: 0.0010 - 76s/epoch - 17ms/step
Epoch 21/100
4378/4378 - 76s - loss: 0.1097 - accuracy: 0.8871 - val_loss: 0.6392 - val_accuracy: 0.5491 - lr: 0.0010 - 76s/epoch - 17ms/step
Epoch 22/100
4378/4378 - 76s - loss: 0.1089 - accuracy: 0.8873 - val_loss: 0.5448 - val_accuracy: 0.5708 - lr: 0.0010 - 76s/epoch - 17ms/step
Epoch 23/100
4378/4378 - 76s - loss: 0.1100 - accuracy: 0.8871 - val_loss: 0.5174 - val_accuracy: 0.6019 - lr: 0.0010 - 76s/epoch - 17ms/step
Epoch 24/100
4378/4378 - 76s - loss: 0.1099 - accuracy: 0.8882 - val_loss: 0.6238 - val_accuracy: 0.5513 - lr: 0.0010 - 76s/epoch - 17ms/step
Epoch 25/100
4378/4378 - 76s - loss: 0.1094 - accuracy: 0.8877 - val_loss: 0.4623 - val_accuracy: 0.6152 - lr: 0.0010 - 76s/epoch - 17ms/step
Epoch 26/100
4378/4378 - 76s - loss: 0.1107 - accuracy: 0.8856 - val_loss: 0.5800 - val_accuracy: 0.5497 - lr: 0.0010 - 76s/epoch - 17ms/step
Epoch 27/100
4378/4378 - 76s - loss: 0.1095 - accuracy: 0.8874 - val_loss: 0.9283 - val_accuracy: 0.4306 - lr: 0.0010 - 76s/epoch - 17ms/step
Epoch 28/100
4378/4378 - 76s - loss: 0.1091 - accuracy: 0.8876 - val_loss: 0.5668 - val_accuracy: 0.5783 - lr: 0.0010 - 76s/epoch - 17ms/step
Epoch 29/100
4378/4378 - 76s - loss: 0.1089 - accuracy: 0.8873 - val_loss: 0.4160 - val_accuracy: 0.6632 - lr: 0.0010 - 76s/epoch - 17ms/step
Epoch 30/100
4378/4378 - 76s - loss: 0.1092 - accuracy: 0.8880 - val_loss: 0.5844 - val_accuracy: 0.5421 - lr: 0.0010 - 76s/epoch - 17ms/step
Epoch 31/100
4378/4378 - 76s - loss: 0.1088 - accuracy: 0.8876 - val_loss: 0.4745 - val_accuracy: 0.5993 - lr: 0.0010 - 76s/epoch - 17ms/step
Epoch 32/100
4378/4378 - 76s - loss: 0.1104 - accuracy: 0.8865 - val_loss: 0.6243 - val_accuracy: 0.5142 - lr: 0.0010 - 76s/epoch - 17ms/step
Epoch 33/100
4378/4378 - 76s - loss: 0.1093 - accuracy: 0.8874 - val_loss: 0.3793 - val_accuracy: 0.6940 - lr: 0.0010 - 76s/epoch - 17ms/step
Epoch 34/100
4378/4378 - 76s - loss: 0.1084 - accuracy: 0.8884 - val_loss: 0.5860 - val_accuracy: 0.5334 - lr: 0.0010 - 76s/epoch - 17ms/step
Epoch 35/100
4378/4378 - 76s - loss: 0.1085 - accuracy: 0.8887 - val_loss: 0.5967 - val_accuracy: 0.5813 - lr: 0.0010 - 76s/epoch - 17ms/step
Epoch 36/100
4378/4378 - 76s - loss: 0.1089 - accuracy: 0.8878 - val_loss: 0.4421 - val_accuracy: 0.6229 - lr: 0.0010 - 76s/epoch - 17ms/step
Epoch 37/100
4378/4378 - 76s - loss: 0.1089 - accuracy: 0.8895 - val_loss: 0.5776 - val_accuracy: 0.5498 - lr: 0.0010 - 76s/epoch - 17ms/step
Epoch 38/100
4378/4378 - 76s - loss: 0.1094 - accuracy: 0.8881 - val_loss: 0.7956 - val_accuracy: 0.5033 - lr: 0.0010 - 76s/epoch - 17ms/step
Epoch 39/100
4378/4378 - 76s - loss: 0.1101 - accuracy: 0.8869 - val_loss: 0.4918 - val_accuracy: 0.5874 - lr: 0.0010 - 76s/epoch - 17ms/step
Epoch 40/100
4378/4378 - 76s - loss: 0.1088 - accuracy: 0.8878 - val_loss: 0.4422 - val_accuracy: 0.6245 - lr: 0.0010 - 76s/epoch - 17ms/step
Epoch 41/100
4378/4378 - 76s - loss: 0.1083 - accuracy: 0.8881 - val_loss: 0.7189 - val_accuracy: 0.5237 - lr: 0.0010 - 76s/epoch - 17ms/step
Epoch 42/100
4378/4378 - 76s - loss: 0.1104 - accuracy: 0.8865 - val_loss: 0.5597 - val_accuracy: 0.5620 - lr: 0.0010 - 76s/epoch - 17ms/step
Epoch 43/100
4378/4378 - 76s - loss: 0.1099 - accuracy: 0.8864 - val_loss: 0.5584 - val_accuracy: 0.5596 - lr: 0.0010 - 76s/epoch - 17ms/step
Epoch 44/100
4378/4378 - 76s - loss: 0.1088 - accuracy: 0.8884 - val_loss: 0.4852 - val_accuracy: 0.5738 - lr: 0.0010 - 76s/epoch - 17ms/step
Epoch 45/100
4378/4378 - 76s - loss: 0.1099 - accuracy: 0.8854 - val_loss: 0.3957 - val_accuracy: 0.6656 - lr: 0.0010 - 76s/epoch - 17ms/step
Epoch 46/100
4378/4378 - 76s - loss: 0.1096 - accuracy: 0.8875 - val_loss: 0.9006 - val_accuracy: 0.4468 - lr: 0.0010 - 76s/epoch - 17ms/step
Epoch 47/100
4378/4378 - 76s - loss: 0.1099 - accuracy: 0.8873 - val_loss: 0.5219 - val_accuracy: 0.5643 - lr: 0.0010 - 76s/epoch - 17ms/step
Epoch 48/100
4378/4378 - 76s - loss: 0.1102 - accuracy: 0.8869 - val_loss: 0.8790 - val_accuracy: 0.4463 - lr: 0.0010 - 76s/epoch - 17ms/step
Epoch 49/100
4378/4378 - 76s - loss: 0.1091 - accuracy: 0.8875 - val_loss: 0.8769 - val_accuracy: 0.4351 - lr: 0.0010 - 76s/epoch - 17ms/step
Epoch 50/100
4378/4378 - 76s - loss: 0.1101 - accuracy: 0.8867 - val_loss: 0.7808 - val_accuracy: 0.4772 - lr: 0.0010 - 76s/epoch - 17ms/step
Epoch 51/100
4378/4378 - 76s - loss: 0.1093 - accuracy: 0.8886 - val_loss: 0.5292 - val_accuracy: 0.5730 - lr: 0.0010 - 76s/epoch - 17ms/step
Epoch 52/100
4378/4378 - 76s - loss: 0.1104 - accuracy: 0.8863 - val_loss: 0.4296 - val_accuracy: 0.6300 - lr: 0.0010 - 76s/epoch - 17ms/step
Epoch 53/100
4378/4378 - 76s - loss: 0.1089 - accuracy: 0.8884 - val_loss: 0.3874 - val_accuracy: 0.6907 - lr: 0.0010 - 76s/epoch - 17ms/step
Epoch 54/100
4378/4378 - 76s - loss: 0.1091 - accuracy: 0.8889 - val_loss: 0.4619 - val_accuracy: 0.6153 - lr: 0.0010 - 76s/epoch - 17ms/step
Epoch 55/100
4378/4378 - 76s - loss: 0.1094 - accuracy: 0.8871 - val_loss: 0.6447 - val_accuracy: 0.5751 - lr: 0.0010 - 76s/epoch - 17ms/step
Epoch 56/100
4378/4378 - 76s - loss: 0.1092 - accuracy: 0.8883 - val_loss: 0.6078 - val_accuracy: 0.5729 - lr: 0.0010 - 76s/epoch - 17ms/step
Epoch 57/100
4378/4378 - 76s - loss: 0.1101 - accuracy: 0.8861 - val_loss: 0.6452 - val_accuracy: 0.4533 - lr: 0.0010 - 76s/epoch - 17ms/step
Epoch 58/100
4378/4378 - 76s - loss: 0.1110 - accuracy: 0.8851 - val_loss: 0.4911 - val_accuracy: 0.6035 - lr: 0.0010 - 76s/epoch - 17ms/step
Epoch 59/100
4378/4378 - 76s - loss: 0.1085 - accuracy: 0.8883 - val_loss: 0.6397 - val_accuracy: 0.5471 - lr: 0.0010 - 76s/epoch - 17ms/step
Epoch 60/100
4378/4378 - 76s - loss: 0.1099 - accuracy: 0.8869 - val_loss: 0.5936 - val_accuracy: 0.5349 - lr: 0.0010 - 76s/epoch - 17ms/step
Epoch 61/100
4378/4378 - 76s - loss: 0.1107 - accuracy: 0.8870 - val_loss: 0.6656 - val_accuracy: 0.5261 - lr: 0.0010 - 76s/epoch - 17ms/step
Epoch 62/100
4378/4378 - 76s - loss: 0.1100 - accuracy: 0.8873 - val_loss: 0.4453 - val_accuracy: 0.6047 - lr: 0.0010 - 76s/epoch - 17ms/step
Epoch 63/100
4378/4378 - 76s - loss: 0.1090 - accuracy: 0.8877 - val_loss: 0.5389 - val_accuracy: 0.5669 - lr: 0.0010 - 76s/epoch - 17ms/step
Epoch 64/100
4378/4378 - 76s - loss: 0.1094 - accuracy: 0.8875 - val_loss: 0.4250 - val_accuracy: 0.6212 - lr: 0.0010 - 76s/epoch - 17ms/step
Epoch 65/100
4378/4378 - 76s - loss: 0.1097 - accuracy: 0.8871 - val_loss: 0.6366 - val_accuracy: 0.5032 - lr: 0.0010 - 76s/epoch - 17ms/step
Epoch 66/100
4378/4378 - 77s - loss: 0.1100 - accuracy: 0.8879 - val_loss: 0.8153 - val_accuracy: 0.4821 - lr: 0.0010 - 77s/epoch - 18ms/step
Epoch 67/100
4378/4378 - 76s - loss: 0.1080 - accuracy: 0.8890 - val_loss: 0.7468 - val_accuracy: 0.5075 - lr: 0.0010 - 76s/epoch - 17ms/step
Epoch 68/100
4378/4378 - 76s - loss: 0.1095 - accuracy: 0.8872 - val_loss: 0.3620 - val_accuracy: 0.6807 - lr: 0.0010 - 76s/epoch - 17ms/step
Epoch 69/100
4378/4378 - 76s - loss: 0.1087 - accuracy: 0.8880 - val_loss: 0.6224 - val_accuracy: 0.5850 - lr: 0.0010 - 76s/epoch - 17ms/step
Epoch 70/100
4378/4378 - 76s - loss: 0.1078 - accuracy: 0.8894 - val_loss: 0.7380 - val_accuracy: 0.5190 - lr: 0.0010 - 76s/epoch - 17ms/step
Epoch 71/100
4378/4378 - 76s - loss: 0.1087 - accuracy: 0.8885 - val_loss: 0.7440 - val_accuracy: 0.5179 - lr: 0.0010 - 76s/epoch - 17ms/step
Epoch 72/100
4378/4378 - 76s - loss: 0.1081 - accuracy: 0.8882 - val_loss: 1.1442 - val_accuracy: 0.4260 - lr: 0.0010 - 76s/epoch - 17ms/step
Epoch 73/100
4378/4378 - 76s - loss: 0.1090 - accuracy: 0.8873 - val_loss: 0.9638 - val_accuracy: 0.4482 - lr: 0.0010 - 76s/epoch - 17ms/step
Epoch 74/100
4378/4378 - 76s - loss: 0.1091 - accuracy: 0.8881 - val_loss: 0.5256 - val_accuracy: 0.5895 - lr: 0.0010 - 76s/epoch - 17ms/step
Epoch 75/100
4378/4378 - 76s - loss: 0.1067 - accuracy: 0.8910 - val_loss: 0.4131 - val_accuracy: 0.6467 - lr: 0.0010 - 76s/epoch - 17ms/step
Epoch 76/100
4378/4378 - 76s - loss: 0.1084 - accuracy: 0.8890 - val_loss: 0.4139 - val_accuracy: 0.6572 - lr: 0.0010 - 76s/epoch - 17ms/step
Epoch 77/100
4378/4378 - 76s - loss: 0.1092 - accuracy: 0.8878 - val_loss: 0.8221 - val_accuracy: 0.4896 - lr: 0.0010 - 76s/epoch - 17ms/step
Epoch 78/100
4378/4378 - 76s - loss: 0.1095 - accuracy: 0.8883 - val_loss: 0.3768 - val_accuracy: 0.6694 - lr: 0.0010 - 76s/epoch - 17ms/step
Epoch 79/100
4378/4378 - 76s - loss: 0.1083 - accuracy: 0.8884 - val_loss: 1.0525 - val_accuracy: 0.3589 - lr: 0.0010 - 76s/epoch - 17ms/step
Epoch 80/100
4378/4378 - 76s - loss: 0.1073 - accuracy: 0.8892 - val_loss: 0.4535 - val_accuracy: 0.6337 - lr: 0.0010 - 76s/epoch - 17ms/step
Epoch 81/100
4378/4378 - 76s - loss: 0.1090 - accuracy: 0.8879 - val_loss: 0.4471 - val_accuracy: 0.6443 - lr: 0.0010 - 76s/epoch - 17ms/step
Epoch 82/100
4378/4378 - 76s - loss: 0.1080 - accuracy: 0.8897 - val_loss: 0.6916 - val_accuracy: 0.5169 - lr: 0.0010 - 76s/epoch - 17ms/step
Epoch 83/100
4378/4378 - 76s - loss: 0.1088 - accuracy: 0.8882 - val_loss: 0.4737 - val_accuracy: 0.6330 - lr: 0.0010 - 76s/epoch - 17ms/step
Epoch 84/100
4378/4378 - 76s - loss: 0.1089 - accuracy: 0.8881 - val_loss: 0.3951 - val_accuracy: 0.6579 - lr: 0.0010 - 76s/epoch - 17ms/step
Epoch 85/100
4378/4378 - 76s - loss: 0.1075 - accuracy: 0.8906 - val_loss: 0.3792 - val_accuracy: 0.6835 - lr: 0.0010 - 76s/epoch - 17ms/step
Epoch 86/100
4378/4378 - 76s - loss: 0.1085 - accuracy: 0.8888 - val_loss: 0.4899 - val_accuracy: 0.6117 - lr: 0.0010 - 76s/epoch - 17ms/step
Epoch 87/100
4378/4378 - 76s - loss: 0.1096 - accuracy: 0.8872 - val_loss: 0.7680 - val_accuracy: 0.4957 - lr: 0.0010 - 76s/epoch - 17ms/step
Epoch 88/100
4378/4378 - 76s - loss: 0.1093 - accuracy: 0.8879 - val_loss: 1.2674 - val_accuracy: 0.3582 - lr: 0.0010 - 76s/epoch - 17ms/step
Epoch 89/100
4378/4378 - 76s - loss: 0.1089 - accuracy: 0.8881 - val_loss: 0.5240 - val_accuracy: 0.5887 - lr: 0.0010 - 76s/epoch - 17ms/step
Epoch 90/100
4378/4378 - 76s - loss: 0.1085 - accuracy: 0.8885 - val_loss: 0.4580 - val_accuracy: 0.6368 - lr: 0.0010 - 76s/epoch - 17ms/step
Epoch 91/100
4378/4378 - 76s - loss: 0.1084 - accuracy: 0.8898 - val_loss: 0.8493 - val_accuracy: 0.4572 - lr: 0.0010 - 76s/epoch - 17ms/step
Epoch 92/100
4378/4378 - 76s - loss: 0.1100 - accuracy: 0.8879 - val_loss: 0.7090 - val_accuracy: 0.5486 - lr: 0.0010 - 76s/epoch - 17ms/step
Epoch 93/100
4378/4378 - 76s - loss: 0.1077 - accuracy: 0.8895 - val_loss: 0.8613 - val_accuracy: 0.5079 - lr: 0.0010 - 76s/epoch - 17ms/step
Epoch 94/100
4378/4378 - 76s - loss: 0.1076 - accuracy: 0.8908 - val_loss: 0.4651 - val_accuracy: 0.6166 - lr: 0.0010 - 76s/epoch - 17ms/step
Epoch 95/100
4378/4378 - 76s - loss: 0.1098 - accuracy: 0.8866 - val_loss: 0.6338 - val_accuracy: 0.5717 - lr: 0.0010 - 76s/epoch - 17ms/step
Epoch 96/100
4378/4378 - 76s - loss: 0.1097 - accuracy: 0.8877 - val_loss: 1.0218 - val_accuracy: 0.4041 - lr: 0.0010 - 76s/epoch - 17ms/step
Epoch 97/100
4378/4378 - 76s - loss: 0.1078 - accuracy: 0.8896 - val_loss: 0.6468 - val_accuracy: 0.5380 - lr: 0.0010 - 76s/epoch - 17ms/step
Epoch 98/100
4378/4378 - 76s - loss: 0.1089 - accuracy: 0.8877 - val_loss: 0.5025 - val_accuracy: 0.5946 - lr: 0.0010 - 76s/epoch - 17ms/step
Epoch 99/100
4378/4378 - 76s - loss: 0.1067 - accuracy: 0.8906 - val_loss: 0.8959 - val_accuracy: 0.5226 - lr: 0.0010 - 76s/epoch - 17ms/step
Epoch 100/100
4378/4378 - 76s - loss: 0.1083 - accuracy: 0.8892 - val_loss: 0.5857 - val_accuracy: 0.5779 - lr: 0.0010 - 76s/epoch - 17ms/step
Epoch 1/100
876/876 - 21s - loss: 0.0757 - accuracy: 0.9253 - val_loss: 0.8355 - val_accuracy: 0.5450 - lr: 0.0010 - 21s/epoch - 24ms/step
Epoch 2/100
876/876 - 18s - loss: 0.0765 - accuracy: 0.9236 - val_loss: 1.1293 - val_accuracy: 0.4799 - lr: 0.0010 - 18s/epoch - 21ms/step
Epoch 3/100
876/876 - 18s - loss: 0.0770 - accuracy: 0.9231 - val_loss: 0.8591 - val_accuracy: 0.5236 - lr: 0.0010 - 18s/epoch - 21ms/step
Epoch 4/100
876/876 - 19s - loss: 0.0745 - accuracy: 0.9261 - val_loss: 0.9289 - val_accuracy: 0.5329 - lr: 0.0010 - 19s/epoch - 21ms/step
Epoch 5/100
876/876 - 18s - loss: 0.0746 - accuracy: 0.9266 - val_loss: 0.7284 - val_accuracy: 0.5544 - lr: 0.0010 - 18s/epoch - 21ms/step
Epoch 6/100
876/876 - 18s - loss: 0.0734 - accuracy: 0.9274 - val_loss: 1.0007 - val_accuracy: 0.5005 - lr: 0.0010 - 18s/epoch - 21ms/step
Epoch 7/100
876/876 - 18s - loss: 0.0733 - accuracy: 0.9275 - val_loss: 1.2017 - val_accuracy: 0.4632 - lr: 0.0010 - 18s/epoch - 21ms/step
Epoch 8/100
876/876 - 18s - loss: 0.0722 - accuracy: 0.9280 - val_loss: 0.9702 - val_accuracy: 0.4828 - lr: 0.0010 - 18s/epoch - 21ms/step
Epoch 9/100
876/876 - 18s - loss: 0.0715 - accuracy: 0.9295 - val_loss: 1.1420 - val_accuracy: 0.4825 - lr: 0.0010 - 18s/epoch - 21ms/step
Epoch 10/100
876/876 - 19s - loss: 0.0715 - accuracy: 0.9297 - val_loss: 1.3043 - val_accuracy: 0.4425 - lr: 0.0010 - 19s/epoch - 21ms/step
Epoch 11/100
876/876 - 18s - loss: 0.0696 - accuracy: 0.9316 - val_loss: 0.9521 - val_accuracy: 0.4864 - lr: 0.0010 - 18s/epoch - 21ms/step
Epoch 12/100
876/876 - 18s - loss: 0.0700 - accuracy: 0.9307 - val_loss: 1.0723 - val_accuracy: 0.4832 - lr: 0.0010 - 18s/epoch - 21ms/step
Epoch 13/100
876/876 - 18s - loss: 0.0716 - accuracy: 0.9304 - val_loss: 1.1105 - val_accuracy: 0.4615 - lr: 0.0010 - 18s/epoch - 21ms/step
Epoch 14/100
876/876 - 19s - loss: 0.0683 - accuracy: 0.9329 - val_loss: 1.0837 - val_accuracy: 0.4873 - lr: 0.0010 - 19s/epoch - 21ms/step
Epoch 15/100
876/876 - 18s - loss: 0.0693 - accuracy: 0.9313 - val_loss: 1.0780 - val_accuracy: 0.4905 - lr: 0.0010 - 18s/epoch - 21ms/step
Epoch 16/100
876/876 - 18s - loss: 0.0707 - accuracy: 0.9297 - val_loss: 0.8577 - val_accuracy: 0.5435 - lr: 0.0010 - 18s/epoch - 21ms/step
Epoch 17/100
876/876 - 18s - loss: 0.0691 - accuracy: 0.9323 - val_loss: 0.9647 - val_accuracy: 0.5042 - lr: 0.0010 - 18s/epoch - 21ms/step
Epoch 18/100
876/876 - 18s - loss: 0.0695 - accuracy: 0.9321 - val_loss: 1.1257 - val_accuracy: 0.4709 - lr: 0.0010 - 18s/epoch - 21ms/step
Epoch 19/100
876/876 - 19s - loss: 0.0690 - accuracy: 0.9325 - val_loss: 0.9068 - val_accuracy: 0.5201 - lr: 0.0010 - 19s/epoch - 21ms/step
Epoch 20/100
876/876 - 18s - loss: 0.0681 - accuracy: 0.9333 - val_loss: 1.0884 - val_accuracy: 0.4940 - lr: 0.0010 - 18s/epoch - 21ms/step
Epoch 21/100
876/876 - 18s - loss: 0.0686 - accuracy: 0.9318 - val_loss: 1.1415 - val_accuracy: 0.4804 - lr: 0.0010 - 18s/epoch - 21ms/step
Epoch 22/100
876/876 - 18s - loss: 0.0672 - accuracy: 0.9342 - val_loss: 1.3043 - val_accuracy: 0.3999 - lr: 0.0010 - 18s/epoch - 21ms/step
Epoch 23/100
876/876 - 19s - loss: 0.0664 - accuracy: 0.9351 - val_loss: 1.2449 - val_accuracy: 0.4732 - lr: 0.0010 - 19s/epoch - 21ms/step
Epoch 24/100
876/876 - 18s - loss: 0.0663 - accuracy: 0.9353 - val_loss: 1.1464 - val_accuracy: 0.4323 - lr: 0.0010 - 18s/epoch - 21ms/step
Epoch 25/100
876/876 - 18s - loss: 0.0681 - accuracy: 0.9329 - val_loss: 1.3030 - val_accuracy: 0.4468 - lr: 0.0010 - 18s/epoch - 21ms/step
Epoch 26/100
876/876 - 18s - loss: 0.0679 - accuracy: 0.9328 - val_loss: 1.2203 - val_accuracy: 0.4286 - lr: 0.0010 - 18s/epoch - 21ms/step
Epoch 27/100
876/876 - 19s - loss: 0.0654 - accuracy: 0.9361 - val_loss: 0.7386 - val_accuracy: 0.5386 - lr: 0.0010 - 19s/epoch - 21ms/step
Epoch 28/100
876/876 - 18s - loss: 0.0664 - accuracy: 0.9348 - val_loss: 0.8332 - val_accuracy: 0.5136 - lr: 0.0010 - 18s/epoch - 21ms/step
Epoch 29/100
876/876 - 18s - loss: 0.0667 - accuracy: 0.9339 - val_loss: 0.8912 - val_accuracy: 0.5134 - lr: 0.0010 - 18s/epoch - 21ms/step
Epoch 30/100
876/876 - 18s - loss: 0.0665 - accuracy: 0.9347 - val_loss: 1.0886 - val_accuracy: 0.4480 - lr: 0.0010 - 18s/epoch - 21ms/step
Epoch 31/100
876/876 - 18s - loss: 0.0670 - accuracy: 0.9346 - val_loss: 1.0622 - val_accuracy: 0.4681 - lr: 0.0010 - 18s/epoch - 21ms/step
Epoch 32/100
876/876 - 19s - loss: 0.0667 - accuracy: 0.9347 - val_loss: 0.8455 - val_accuracy: 0.5333 - lr: 0.0010 - 19s/epoch - 21ms/step
Epoch 33/100
876/876 - 18s - loss: 0.0675 - accuracy: 0.9335 - val_loss: 0.9961 - val_accuracy: 0.4814 - lr: 0.0010 - 18s/epoch - 21ms/step
Epoch 34/100
876/876 - 18s - loss: 0.0661 - accuracy: 0.9352 - val_loss: 1.0831 - val_accuracy: 0.4863 - lr: 0.0010 - 18s/epoch - 21ms/step
Epoch 35/100
876/876 - 18s - loss: 0.0664 - accuracy: 0.9355 - val_loss: 1.0191 - val_accuracy: 0.4951 - lr: 0.0010 - 18s/epoch - 21ms/step
Epoch 36/100
876/876 - 19s - loss: 0.0676 - accuracy: 0.9328 - val_loss: 1.0301 - val_accuracy: 0.5023 - lr: 0.0010 - 19s/epoch - 21ms/step
Epoch 37/100
876/876 - 18s - loss: 0.0663 - accuracy: 0.9355 - val_loss: 0.9060 - val_accuracy: 0.5044 - lr: 0.0010 - 18s/epoch - 21ms/step
Epoch 38/100
876/876 - 18s - loss: 0.0664 - accuracy: 0.9354 - val_loss: 1.1284 - val_accuracy: 0.4794 - lr: 0.0010 - 18s/epoch - 21ms/step
Epoch 39/100
876/876 - 18s - loss: 0.0665 - accuracy: 0.9353 - val_loss: 1.1224 - val_accuracy: 0.4534 - lr: 0.0010 - 18s/epoch - 21ms/step
Epoch 40/100
876/876 - 18s - loss: 0.0649 - accuracy: 0.9370 - val_loss: 0.9409 - val_accuracy: 0.4871 - lr: 0.0010 - 18s/epoch - 21ms/step
Epoch 41/100
876/876 - 19s - loss: 0.0665 - accuracy: 0.9348 - val_loss: 1.1923 - val_accuracy: 0.4417 - lr: 0.0010 - 19s/epoch - 22ms/step
Epoch 42/100
876/876 - 18s - loss: 0.0653 - accuracy: 0.9353 - val_loss: 1.0057 - val_accuracy: 0.4994 - lr: 0.0010 - 18s/epoch - 21ms/step
Epoch 43/100
876/876 - 18s - loss: 0.0658 - accuracy: 0.9357 - val_loss: 1.1305 - val_accuracy: 0.4721 - lr: 0.0010 - 18s/epoch - 21ms/step
Epoch 44/100
876/876 - 18s - loss: 0.0647 - accuracy: 0.9372 - val_loss: 1.1168 - val_accuracy: 0.4863 - lr: 0.0010 - 18s/epoch - 21ms/step
Epoch 45/100
876/876 - 19s - loss: 0.0654 - accuracy: 0.9352 - val_loss: 0.9798 - val_accuracy: 0.5075 - lr: 0.0010 - 19s/epoch - 21ms/step
Epoch 46/100
876/876 - 18s - loss: 0.0646 - accuracy: 0.9376 - val_loss: 1.2524 - val_accuracy: 0.4405 - lr: 0.0010 - 18s/epoch - 21ms/step
Epoch 47/100
876/876 - 18s - loss: 0.0658 - accuracy: 0.9359 - val_loss: 1.6301 - val_accuracy: 0.3537 - lr: 0.0010 - 18s/epoch - 21ms/step
Epoch 48/100
876/876 - 18s - loss: 0.0646 - accuracy: 0.9368 - val_loss: 1.0429 - val_accuracy: 0.4861 - lr: 0.0010 - 18s/epoch - 21ms/step
Epoch 49/100
876/876 - 18s - loss: 0.0663 - accuracy: 0.9336 - val_loss: 1.3602 - val_accuracy: 0.4292 - lr: 0.0010 - 18s/epoch - 21ms/step
Epoch 50/100
876/876 - 19s - loss: 0.0648 - accuracy: 0.9372 - val_loss: 2.2681 - val_accuracy: 0.2771 - lr: 0.0010 - 19s/epoch - 21ms/step
Epoch 51/100
876/876 - 18s - loss: 0.0649 - accuracy: 0.9366 - val_loss: 0.8834 - val_accuracy: 0.5234 - lr: 0.0010 - 18s/epoch - 21ms/step
Epoch 52/100
876/876 - 19s - loss: 0.0658 - accuracy: 0.9354 - val_loss: 0.9637 - val_accuracy: 0.5289 - lr: 0.0010 - 19s/epoch - 21ms/step
Epoch 53/100
876/876 - 19s - loss: 0.0636 - accuracy: 0.9378 - val_loss: 1.1699 - val_accuracy: 0.4804 - lr: 0.0010 - 19s/epoch - 21ms/step
Epoch 54/100
876/876 - 19s - loss: 0.0645 - accuracy: 0.9366 - val_loss: 1.5753 - val_accuracy: 0.3670 - lr: 0.0010 - 19s/epoch - 21ms/step
Epoch 55/100
876/876 - 19s - loss: 0.0650 - accuracy: 0.9364 - val_loss: 1.0644 - val_accuracy: 0.4986 - lr: 0.0010 - 19s/epoch - 21ms/step
Epoch 56/100
876/876 - 19s - loss: 0.0639 - accuracy: 0.9377 - val_loss: 1.0568 - val_accuracy: 0.5037 - lr: 0.0010 - 19s/epoch - 21ms/step
Epoch 57/100
876/876 - 19s - loss: 0.0654 - accuracy: 0.9350 - val_loss: 0.9591 - val_accuracy: 0.4980 - lr: 0.0010 - 19s/epoch - 21ms/step
Epoch 58/100
876/876 - 18s - loss: 0.0636 - accuracy: 0.9379 - val_loss: 0.9724 - val_accuracy: 0.5196 - lr: 0.0010 - 18s/epoch - 21ms/step
Epoch 59/100
876/876 - 19s - loss: 0.0648 - accuracy: 0.9363 - val_loss: 1.2201 - val_accuracy: 0.4737 - lr: 0.0010 - 19s/epoch - 21ms/step
Epoch 60/100
876/876 - 18s - loss: 0.0650 - accuracy: 0.9368 - val_loss: 1.2708 - val_accuracy: 0.4365 - lr: 0.0010 - 18s/epoch - 21ms/step
Epoch 61/100
876/876 - 19s - loss: 0.0647 - accuracy: 0.9363 - val_loss: 1.3994 - val_accuracy: 0.3901 - lr: 0.0010 - 19s/epoch - 21ms/step
Epoch 62/100
876/876 - 18s - loss: 0.0648 - accuracy: 0.9365 - val_loss: 0.7344 - val_accuracy: 0.5792 - lr: 0.0010 - 18s/epoch - 21ms/step
Epoch 63/100
876/876 - 19s - loss: 0.0649 - accuracy: 0.9369 - val_loss: 1.1653 - val_accuracy: 0.4932 - lr: 0.0010 - 19s/epoch - 21ms/step
Epoch 64/100
876/876 - 18s - loss: 0.0657 - accuracy: 0.9356 - val_loss: 1.3921 - val_accuracy: 0.4009 - lr: 0.0010 - 18s/epoch - 21ms/step
Epoch 65/100
876/876 - 18s - loss: 0.0651 - accuracy: 0.9376 - val_loss: 1.1942 - val_accuracy: 0.4811 - lr: 0.0010 - 18s/epoch - 21ms/step
Epoch 66/100
876/876 - 18s - loss: 0.0647 - accuracy: 0.9354 - val_loss: 0.8963 - val_accuracy: 0.5222 - lr: 0.0010 - 18s/epoch - 21ms/step
Epoch 67/100
876/876 - 18s - loss: 0.0638 - accuracy: 0.9382 - val_loss: 1.2667 - val_accuracy: 0.4258 - lr: 0.0010 - 18s/epoch - 21ms/step
Epoch 68/100
876/876 - 19s - loss: 0.0640 - accuracy: 0.9374 - val_loss: 1.0950 - val_accuracy: 0.4844 - lr: 0.0010 - 19s/epoch - 21ms/step
Epoch 69/100
876/876 - 18s - loss: 0.0638 - accuracy: 0.9373 - val_loss: 2.0200 - val_accuracy: 0.3183 - lr: 0.0010 - 18s/epoch - 21ms/step
Epoch 70/100
876/876 - 18s - loss: 0.0643 - accuracy: 0.9364 - val_loss: 1.2871 - val_accuracy: 0.4859 - lr: 0.0010 - 18s/epoch - 21ms/step
Epoch 71/100
876/876 - 19s - loss: 0.0646 - accuracy: 0.9366 - val_loss: 0.8615 - val_accuracy: 0.5395 - lr: 0.0010 - 19s/epoch - 21ms/step
Epoch 72/100
876/876 - 18s - loss: 0.0649 - accuracy: 0.9360 - val_loss: 1.2673 - val_accuracy: 0.4058 - lr: 0.0010 - 18s/epoch - 21ms/step
Epoch 73/100
876/876 - 19s - loss: 0.0649 - accuracy: 0.9370 - val_loss: 1.1600 - val_accuracy: 0.4638 - lr: 0.0010 - 19s/epoch - 21ms/step
Epoch 74/100
876/876 - 19s - loss: 0.0634 - accuracy: 0.9382 - val_loss: 0.8411 - val_accuracy: 0.5391 - lr: 0.0010 - 19s/epoch - 21ms/step
Epoch 75/100
876/876 - 18s - loss: 0.0645 - accuracy: 0.9367 - val_loss: 0.7674 - val_accuracy: 0.5537 - lr: 0.0010 - 18s/epoch - 21ms/step
Epoch 76/100
876/876 - 18s - loss: 0.0640 - accuracy: 0.9371 - val_loss: 1.5378 - val_accuracy: 0.3800 - lr: 0.0010 - 18s/epoch - 21ms/step
Epoch 77/100
876/876 - 19s - loss: 0.0634 - accuracy: 0.9374 - val_loss: 1.1797 - val_accuracy: 0.4392 - lr: 0.0010 - 19s/epoch - 21ms/step
Epoch 78/100
876/876 - 19s - loss: 0.0631 - accuracy: 0.9380 - val_loss: 0.9689 - val_accuracy: 0.5174 - lr: 0.0010 - 19s/epoch - 21ms/step
Epoch 79/100
876/876 - 19s - loss: 0.0642 - accuracy: 0.9375 - val_loss: 1.0327 - val_accuracy: 0.5091 - lr: 0.0010 - 19s/epoch - 21ms/step
Epoch 80/100
876/876 - 18s - loss: 0.0630 - accuracy: 0.9385 - val_loss: 1.0379 - val_accuracy: 0.4969 - lr: 0.0010 - 18s/epoch - 21ms/step
Epoch 81/100
876/876 - 18s - loss: 0.0634 - accuracy: 0.9388 - val_loss: 1.1031 - val_accuracy: 0.4778 - lr: 0.0010 - 18s/epoch - 21ms/step
Epoch 82/100
876/876 - 19s - loss: 0.0639 - accuracy: 0.9380 - val_loss: 0.9041 - val_accuracy: 0.5188 - lr: 0.0010 - 19s/epoch - 21ms/step
Epoch 83/100
876/876 - 18s - loss: 0.0633 - accuracy: 0.9383 - val_loss: 0.8803 - val_accuracy: 0.5519 - lr: 0.0010 - 18s/epoch - 21ms/step
Epoch 84/100
876/876 - 18s - loss: 0.0636 - accuracy: 0.9369 - val_loss: 0.8588 - val_accuracy: 0.5234 - lr: 0.0010 - 18s/epoch - 21ms/step
Epoch 85/100
876/876 - 18s - loss: 0.0643 - accuracy: 0.9368 - val_loss: 0.8467 - val_accuracy: 0.5274 - lr: 0.0010 - 18s/epoch - 21ms/step
Epoch 86/100
876/876 - 19s - loss: 0.0642 - accuracy: 0.9368 - val_loss: 1.0067 - val_accuracy: 0.5242 - lr: 0.0010 - 19s/epoch - 21ms/step
Epoch 87/100
876/876 - 18s - loss: 0.0626 - accuracy: 0.9393 - val_loss: 1.0715 - val_accuracy: 0.4742 - lr: 0.0010 - 18s/epoch - 21ms/step
Epoch 88/100
876/876 - 18s - loss: 0.0637 - accuracy: 0.9377 - val_loss: 0.8837 - val_accuracy: 0.5390 - lr: 0.0010 - 18s/epoch - 21ms/step
Epoch 89/100
876/876 - 18s - loss: 0.0630 - accuracy: 0.9387 - val_loss: 0.9041 - val_accuracy: 0.5219 - lr: 0.0010 - 18s/epoch - 21ms/step
Epoch 90/100
876/876 - 18s - loss: 0.0646 - accuracy: 0.9374 - val_loss: 1.2125 - val_accuracy: 0.4285 - lr: 0.0010 - 18s/epoch - 21ms/step
Epoch 91/100
876/876 - 19s - loss: 0.0632 - accuracy: 0.9384 - val_loss: 0.9156 - val_accuracy: 0.5146 - lr: 0.0010 - 19s/epoch - 21ms/step
Epoch 92/100
876/876 - 18s - loss: 0.0641 - accuracy: 0.9377 - val_loss: 0.9455 - val_accuracy: 0.5053 - lr: 0.0010 - 18s/epoch - 21ms/step
Epoch 93/100
876/876 - 18s - loss: 0.0629 - accuracy: 0.9392 - val_loss: 1.0708 - val_accuracy: 0.4948 - lr: 0.0010 - 18s/epoch - 21ms/step
Epoch 94/100
876/876 - 19s - loss: 0.0629 - accuracy: 0.9382 - val_loss: 1.2486 - val_accuracy: 0.4305 - lr: 0.0010 - 19s/epoch - 21ms/step
Epoch 95/100
876/876 - 19s - loss: 0.0634 - accuracy: 0.9372 - val_loss: 1.2402 - val_accuracy: 0.4391 - lr: 0.0010 - 19s/epoch - 21ms/step
Epoch 96/100
876/876 - 18s - loss: 0.0638 - accuracy: 0.9369 - val_loss: 1.0987 - val_accuracy: 0.4678 - lr: 0.0010 - 18s/epoch - 21ms/step
Epoch 97/100
876/876 - 18s - loss: 0.0629 - accuracy: 0.9387 - val_loss: 0.9778 - val_accuracy: 0.5045 - lr: 0.0010 - 18s/epoch - 21ms/step
Epoch 98/100
876/876 - 19s - loss: 0.0624 - accuracy: 0.9386 - val_loss: 0.8928 - val_accuracy: 0.5199 - lr: 0.0010 - 19s/epoch - 21ms/step
Epoch 99/100
876/876 - 18s - loss: 0.0624 - accuracy: 0.9393 - val_loss: 0.9036 - val_accuracy: 0.5205 - lr: 0.0010 - 18s/epoch - 21ms/step
Epoch 100/100
876/876 - 19s - loss: 0.0632 - accuracy: 0.9388 - val_loss: 0.9510 - val_accuracy: 0.4913 - lr: 0.0010 - 19s/epoch - 21ms/step
Epoch 1/100
176/176 - 12s - loss: 0.0471 - accuracy: 0.9566 - val_loss: 1.0797 - val_accuracy: 0.4845 - lr: 0.0010 - 12s/epoch - 66ms/step
Epoch 2/100
176/176 - 9s - loss: 0.0403 - accuracy: 0.9630 - val_loss: 1.1094 - val_accuracy: 0.5000 - lr: 0.0010 - 9s/epoch - 51ms/step
Epoch 3/100
176/176 - 9s - loss: 0.0380 - accuracy: 0.9661 - val_loss: 1.6265 - val_accuracy: 0.3713 - lr: 0.0010 - 9s/epoch - 51ms/step
Epoch 4/100
176/176 - 9s - loss: 0.0388 - accuracy: 0.9640 - val_loss: 1.5212 - val_accuracy: 0.4003 - lr: 0.0010 - 9s/epoch - 50ms/step
Epoch 5/100
176/176 - 9s - loss: 0.0390 - accuracy: 0.9643 - val_loss: 1.6677 - val_accuracy: 0.3734 - lr: 0.0010 - 9s/epoch - 51ms/step
Epoch 6/100
176/176 - 9s - loss: 0.0393 - accuracy: 0.9638 - val_loss: 1.3801 - val_accuracy: 0.4327 - lr: 0.0010 - 9s/epoch - 51ms/step
Epoch 7/100
176/176 - 9s - loss: 0.0401 - accuracy: 0.9631 - val_loss: 1.4614 - val_accuracy: 0.4167 - lr: 0.0010 - 9s/epoch - 51ms/step
Epoch 8/100
176/176 - 9s - loss: 0.0381 - accuracy: 0.9656 - val_loss: 1.4555 - val_accuracy: 0.4498 - lr: 0.0010 - 9s/epoch - 51ms/step
Epoch 9/100
176/176 - 9s - loss: 0.0395 - accuracy: 0.9636 - val_loss: 1.4679 - val_accuracy: 0.4228 - lr: 0.0010 - 9s/epoch - 51ms/step
Epoch 10/100
176/176 - 9s - loss: 0.0387 - accuracy: 0.9647 - val_loss: 1.3987 - val_accuracy: 0.4359 - lr: 0.0010 - 9s/epoch - 51ms/step
Epoch 11/100
176/176 - 9s - loss: 0.0390 - accuracy: 0.9647 - val_loss: 1.4719 - val_accuracy: 0.4228 - lr: 0.0010 - 9s/epoch - 51ms/step
Epoch 12/100
176/176 - 9s - loss: 0.0416 - accuracy: 0.9619 - val_loss: 1.3634 - val_accuracy: 0.4627 - lr: 0.0010 - 9s/epoch - 51ms/step
Epoch 13/100
176/176 - 9s - loss: 0.0402 - accuracy: 0.9629 - val_loss: 1.5542 - val_accuracy: 0.3960 - lr: 0.0010 - 9s/epoch - 51ms/step
Epoch 14/100
176/176 - 9s - loss: 0.0400 - accuracy: 0.9631 - val_loss: 1.2501 - val_accuracy: 0.4668 - lr: 0.0010 - 9s/epoch - 51ms/step
Epoch 15/100
176/176 - 9s - loss: 0.0394 - accuracy: 0.9635 - val_loss: 1.6006 - val_accuracy: 0.4080 - lr: 0.0010 - 9s/epoch - 51ms/step
Epoch 16/100
176/176 - 9s - loss: 0.0404 - accuracy: 0.9627 - val_loss: 1.7508 - val_accuracy: 0.3848 - lr: 0.0010 - 9s/epoch - 51ms/step
Epoch 17/100
176/176 - 9s - loss: 0.0386 - accuracy: 0.9651 - val_loss: 1.5725 - val_accuracy: 0.4169 - lr: 0.0010 - 9s/epoch - 51ms/step
Epoch 18/100
176/176 - 9s - loss: 0.0395 - accuracy: 0.9633 - val_loss: 1.6682 - val_accuracy: 0.3818 - lr: 0.0010 - 9s/epoch - 51ms/step
Epoch 19/100
176/176 - 9s - loss: 0.0385 - accuracy: 0.9640 - val_loss: 1.6894 - val_accuracy: 0.3713 - lr: 0.0010 - 9s/epoch - 51ms/step
Epoch 20/100
176/176 - 9s - loss: 0.0400 - accuracy: 0.9633 - val_loss: 1.4056 - val_accuracy: 0.4527 - lr: 0.0010 - 9s/epoch - 51ms/step
Epoch 21/100
176/176 - 9s - loss: 0.0389 - accuracy: 0.9640 - val_loss: 1.7793 - val_accuracy: 0.3719 - lr: 0.0010 - 9s/epoch - 51ms/step
Epoch 22/100
176/176 - 9s - loss: 0.0372 - accuracy: 0.9658 - val_loss: 1.3577 - val_accuracy: 0.4575 - lr: 0.0010 - 9s/epoch - 51ms/step
Epoch 23/100
176/176 - 9s - loss: 0.0378 - accuracy: 0.9650 - val_loss: 1.7657 - val_accuracy: 0.3785 - lr: 0.0010 - 9s/epoch - 51ms/step
Epoch 24/100
176/176 - 9s - loss: 0.0396 - accuracy: 0.9634 - val_loss: 1.2961 - val_accuracy: 0.4808 - lr: 0.0010 - 9s/epoch - 51ms/step
Epoch 25/100
176/176 - 9s - loss: 0.0391 - accuracy: 0.9637 - val_loss: 1.7011 - val_accuracy: 0.3779 - lr: 0.0010 - 9s/epoch - 51ms/step
Epoch 26/100
176/176 - 9s - loss: 0.0393 - accuracy: 0.9633 - val_loss: 1.3632 - val_accuracy: 0.4631 - lr: 0.0010 - 9s/epoch - 51ms/step
Epoch 27/100
176/176 - 9s - loss: 0.0381 - accuracy: 0.9653 - val_loss: 1.2205 - val_accuracy: 0.4956 - lr: 0.0010 - 9s/epoch - 51ms/step
Epoch 28/100
176/176 - 9s - loss: 0.0375 - accuracy: 0.9657 - val_loss: 1.4282 - val_accuracy: 0.4480 - lr: 0.0010 - 9s/epoch - 51ms/step
Epoch 29/100
176/176 - 9s - loss: 0.0378 - accuracy: 0.9650 - val_loss: 1.5519 - val_accuracy: 0.4160 - lr: 0.0010 - 9s/epoch - 51ms/step
Epoch 30/100
176/176 - 9s - loss: 0.0374 - accuracy: 0.9660 - val_loss: 1.5480 - val_accuracy: 0.4223 - lr: 0.0010 - 9s/epoch - 51ms/step
Epoch 31/100
176/176 - 9s - loss: 0.0373 - accuracy: 0.9664 - val_loss: 1.3484 - val_accuracy: 0.4843 - lr: 0.0010 - 9s/epoch - 51ms/step
Epoch 32/100
176/176 - 9s - loss: 0.0382 - accuracy: 0.9652 - val_loss: 1.4294 - val_accuracy: 0.4462 - lr: 0.0010 - 9s/epoch - 51ms/step
Epoch 33/100
176/176 - 9s - loss: 0.0374 - accuracy: 0.9663 - val_loss: 1.3497 - val_accuracy: 0.4754 - lr: 0.0010 - 9s/epoch - 51ms/step
Epoch 34/100
176/176 - 9s - loss: 0.0386 - accuracy: 0.9645 - val_loss: 1.4349 - val_accuracy: 0.4498 - lr: 0.0010 - 9s/epoch - 51ms/step
Epoch 35/100
176/176 - 9s - loss: 0.0385 - accuracy: 0.9645 - val_loss: 1.6212 - val_accuracy: 0.4113 - lr: 0.0010 - 9s/epoch - 51ms/step
Epoch 36/100
176/176 - 9s - loss: 0.0386 - accuracy: 0.9651 - val_loss: 1.6805 - val_accuracy: 0.3736 - lr: 0.0010 - 9s/epoch - 51ms/step
Epoch 37/100
176/176 - 9s - loss: 0.0383 - accuracy: 0.9647 - val_loss: 1.7591 - val_accuracy: 0.3656 - lr: 0.0010 - 9s/epoch - 51ms/step
Epoch 38/100
176/176 - 9s - loss: 0.0395 - accuracy: 0.9639 - val_loss: 2.0678 - val_accuracy: 0.3171 - lr: 0.0010 - 9s/epoch - 51ms/step
Epoch 39/100
176/176 - 9s - loss: 0.0373 - accuracy: 0.9663 - val_loss: 1.5759 - val_accuracy: 0.3906 - lr: 0.0010 - 9s/epoch - 51ms/step
Epoch 40/100
176/176 - 9s - loss: 0.0342 - accuracy: 0.9689 - val_loss: 1.3301 - val_accuracy: 0.4572 - lr: 0.0010 - 9s/epoch - 51ms/step
Epoch 41/100
176/176 - 9s - loss: 0.0335 - accuracy: 0.9701 - val_loss: 1.4803 - val_accuracy: 0.4350 - lr: 0.0010 - 9s/epoch - 51ms/step
Epoch 42/100
176/176 - 9s - loss: 0.0334 - accuracy: 0.9697 - val_loss: 1.4193 - val_accuracy: 0.4416 - lr: 0.0010 - 9s/epoch - 51ms/step
Epoch 43/100
176/176 - 9s - loss: 0.0347 - accuracy: 0.9689 - val_loss: 1.5888 - val_accuracy: 0.4029 - lr: 0.0010 - 9s/epoch - 51ms/step
Epoch 44/100
176/176 - 9s - loss: 0.0343 - accuracy: 0.9695 - val_loss: 1.6140 - val_accuracy: 0.4030 - lr: 0.0010 - 9s/epoch - 51ms/step
Epoch 45/100
176/176 - 9s - loss: 0.0350 - accuracy: 0.9681 - val_loss: 1.4193 - val_accuracy: 0.4561 - lr: 0.0010 - 9s/epoch - 51ms/step
Epoch 46/100
176/176 - 9s - loss: 0.0361 - accuracy: 0.9673 - val_loss: 1.3468 - val_accuracy: 0.4545 - lr: 0.0010 - 9s/epoch - 51ms/step
Epoch 47/100
176/176 - 9s - loss: 0.0358 - accuracy: 0.9670 - val_loss: 1.6024 - val_accuracy: 0.3999 - lr: 0.0010 - 9s/epoch - 51ms/step
Epoch 48/100
176/176 - 9s - loss: 0.0373 - accuracy: 0.9656 - val_loss: 1.4790 - val_accuracy: 0.4365 - lr: 0.0010 - 9s/epoch - 51ms/step
Epoch 49/100
176/176 - 9s - loss: 0.0336 - accuracy: 0.9695 - val_loss: 1.4345 - val_accuracy: 0.4593 - lr: 0.0010 - 9s/epoch - 51ms/step
Epoch 50/100
176/176 - 9s - loss: 0.0350 - accuracy: 0.9686 - val_loss: 1.3642 - val_accuracy: 0.4673 - lr: 0.0010 - 9s/epoch - 51ms/step
Epoch 51/100
176/176 - 9s - loss: 0.0362 - accuracy: 0.9677 - val_loss: 1.4066 - val_accuracy: 0.4563 - lr: 0.0010 - 9s/epoch - 51ms/step
Epoch 52/100
176/176 - 9s - loss: 0.0354 - accuracy: 0.9678 - val_loss: 1.4086 - val_accuracy: 0.4625 - lr: 0.0010 - 9s/epoch - 51ms/step
Epoch 53/100
176/176 - 9s - loss: 0.0365 - accuracy: 0.9663 - val_loss: 1.4794 - val_accuracy: 0.4306 - lr: 0.0010 - 9s/epoch - 51ms/step
Epoch 54/100
176/176 - 9s - loss: 0.0369 - accuracy: 0.9662 - val_loss: 1.4048 - val_accuracy: 0.4551 - lr: 0.0010 - 9s/epoch - 51ms/step
Epoch 55/100
176/176 - 9s - loss: 0.0365 - accuracy: 0.9662 - val_loss: 1.3292 - val_accuracy: 0.4629 - lr: 0.0010 - 9s/epoch - 51ms/step
Epoch 56/100
176/176 - 9s - loss: 0.0360 - accuracy: 0.9674 - val_loss: 1.6626 - val_accuracy: 0.3856 - lr: 0.0010 - 9s/epoch - 51ms/step
Epoch 57/100
176/176 - 9s - loss: 0.0365 - accuracy: 0.9664 - val_loss: 1.4487 - val_accuracy: 0.4231 - lr: 0.0010 - 9s/epoch - 51ms/step
Epoch 58/100
176/176 - 9s - loss: 0.0359 - accuracy: 0.9678 - val_loss: 1.5259 - val_accuracy: 0.4039 - lr: 0.0010 - 9s/epoch - 51ms/step
Epoch 59/100
176/176 - 9s - loss: 0.0355 - accuracy: 0.9673 - val_loss: 1.3821 - val_accuracy: 0.4677 - lr: 0.0010 - 9s/epoch - 51ms/step
Epoch 60/100
176/176 - 9s - loss: 0.0361 - accuracy: 0.9674 - val_loss: 1.4975 - val_accuracy: 0.4223 - lr: 0.0010 - 9s/epoch - 51ms/step
Epoch 61/100
176/176 - 9s - loss: 0.0366 - accuracy: 0.9665 - val_loss: 1.3890 - val_accuracy: 0.4716 - lr: 0.0010 - 9s/epoch - 51ms/step
Epoch 62/100
176/176 - 9s - loss: 0.0357 - accuracy: 0.9677 - val_loss: 1.8733 - val_accuracy: 0.3566 - lr: 0.0010 - 9s/epoch - 51ms/step
Epoch 63/100
176/176 - 9s - loss: 0.0363 - accuracy: 0.9667 - val_loss: 1.5444 - val_accuracy: 0.4347 - lr: 0.0010 - 9s/epoch - 51ms/step
Epoch 64/100
176/176 - 9s - loss: 0.0364 - accuracy: 0.9668 - val_loss: 2.2941 - val_accuracy: 0.2938 - lr: 0.0010 - 9s/epoch - 51ms/step
Epoch 65/100
176/176 - 9s - loss: 0.0359 - accuracy: 0.9675 - val_loss: 1.5037 - val_accuracy: 0.4263 - lr: 0.0010 - 9s/epoch - 51ms/step
Epoch 66/100
176/176 - 9s - loss: 0.0357 - accuracy: 0.9672 - val_loss: 1.3249 - val_accuracy: 0.4632 - lr: 0.0010 - 9s/epoch - 51ms/step
Epoch 67/100
176/176 - 9s - loss: 0.0362 - accuracy: 0.9669 - val_loss: 1.4755 - val_accuracy: 0.4243 - lr: 0.0010 - 9s/epoch - 51ms/step
Epoch 68/100
176/176 - 9s - loss: 0.0352 - accuracy: 0.9682 - val_loss: 1.4976 - val_accuracy: 0.4170 - lr: 0.0010 - 9s/epoch - 51ms/step
Epoch 69/100
176/176 - 9s - loss: 0.0334 - accuracy: 0.9702 - val_loss: 1.4742 - val_accuracy: 0.4287 - lr: 0.0010 - 9s/epoch - 51ms/step
Epoch 70/100
176/176 - 9s - loss: 0.0339 - accuracy: 0.9691 - val_loss: 1.3037 - val_accuracy: 0.4839 - lr: 0.0010 - 9s/epoch - 51ms/step
Epoch 71/100
176/176 - 9s - loss: 0.0346 - accuracy: 0.9682 - val_loss: 1.4536 - val_accuracy: 0.4429 - lr: 0.0010 - 9s/epoch - 51ms/step
Epoch 72/100
176/176 - 9s - loss: 0.0350 - accuracy: 0.9685 - val_loss: 1.4753 - val_accuracy: 0.4267 - lr: 0.0010 - 9s/epoch - 51ms/step
Epoch 73/100
176/176 - 9s - loss: 0.0356 - accuracy: 0.9668 - val_loss: 1.4870 - val_accuracy: 0.4206 - lr: 0.0010 - 9s/epoch - 51ms/step
Epoch 74/100
176/176 - 9s - loss: 0.0368 - accuracy: 0.9657 - val_loss: 1.2580 - val_accuracy: 0.4890 - lr: 0.0010 - 9s/epoch - 51ms/step
Epoch 75/100
176/176 - 9s - loss: 0.0387 - accuracy: 0.9645 - val_loss: 1.3755 - val_accuracy: 0.4502 - lr: 0.0010 - 9s/epoch - 51ms/step
Epoch 76/100
176/176 - 9s - loss: 0.0367 - accuracy: 0.9666 - val_loss: 1.5308 - val_accuracy: 0.4012 - lr: 0.0010 - 9s/epoch - 51ms/step
Epoch 77/100
176/176 - 9s - loss: 0.0364 - accuracy: 0.9671 - val_loss: 1.3355 - val_accuracy: 0.4671 - lr: 0.0010 - 9s/epoch - 51ms/step
Epoch 78/100
176/176 - 9s - loss: 0.0373 - accuracy: 0.9660 - val_loss: 1.4857 - val_accuracy: 0.4224 - lr: 0.0010 - 9s/epoch - 51ms/step
Epoch 79/100
176/176 - 9s - loss: 0.0353 - accuracy: 0.9678 - val_loss: 1.3599 - val_accuracy: 0.4517 - lr: 0.0010 - 9s/epoch - 51ms/step
Epoch 80/100
176/176 - 9s - loss: 0.0358 - accuracy: 0.9678 - val_loss: 1.4892 - val_accuracy: 0.4348 - lr: 0.0010 - 9s/epoch - 51ms/step
Epoch 81/100
176/176 - 9s - loss: 0.0358 - accuracy: 0.9675 - val_loss: 1.3712 - val_accuracy: 0.4501 - lr: 0.0010 - 9s/epoch - 51ms/step
Epoch 82/100
176/176 - 9s - loss: 0.0344 - accuracy: 0.9689 - val_loss: 1.3509 - val_accuracy: 0.4648 - lr: 0.0010 - 9s/epoch - 51ms/step
Epoch 83/100
176/176 - 9s - loss: 0.0340 - accuracy: 0.9689 - val_loss: 1.3045 - val_accuracy: 0.4609 - lr: 0.0010 - 9s/epoch - 51ms/step
Epoch 84/100
176/176 - 9s - loss: 0.0346 - accuracy: 0.9687 - val_loss: 1.4724 - val_accuracy: 0.4264 - lr: 0.0010 - 9s/epoch - 51ms/step
Epoch 85/100
176/176 - 9s - loss: 0.0352 - accuracy: 0.9675 - val_loss: 1.2577 - val_accuracy: 0.4822 - lr: 0.0010 - 9s/epoch - 51ms/step
Epoch 86/100
176/176 - 9s - loss: 0.0348 - accuracy: 0.9675 - val_loss: 1.3700 - val_accuracy: 0.4539 - lr: 0.0010 - 9s/epoch - 51ms/step
Epoch 87/100
176/176 - 9s - loss: 0.0344 - accuracy: 0.9682 - val_loss: 1.4444 - val_accuracy: 0.4583 - lr: 0.0010 - 9s/epoch - 51ms/step
Epoch 88/100
176/176 - 9s - loss: 0.0363 - accuracy: 0.9668 - val_loss: 1.3984 - val_accuracy: 0.4377 - lr: 0.0010 - 9s/epoch - 51ms/step
Epoch 89/100
176/176 - 9s - loss: 0.0349 - accuracy: 0.9684 - val_loss: 1.3068 - val_accuracy: 0.4748 - lr: 0.0010 - 9s/epoch - 51ms/step
Epoch 90/100
176/176 - 9s - loss: 0.0347 - accuracy: 0.9694 - val_loss: 1.4317 - val_accuracy: 0.4549 - lr: 0.0010 - 9s/epoch - 51ms/step
Epoch 91/100
176/176 - 9s - loss: 0.0339 - accuracy: 0.9695 - val_loss: 1.4701 - val_accuracy: 0.4300 - lr: 0.0010 - 9s/epoch - 51ms/step
Epoch 92/100
176/176 - 9s - loss: 0.0355 - accuracy: 0.9674 - val_loss: 1.4282 - val_accuracy: 0.4465 - lr: 0.0010 - 9s/epoch - 51ms/step
Epoch 93/100
176/176 - 9s - loss: 0.0362 - accuracy: 0.9668 - val_loss: 1.3813 - val_accuracy: 0.4713 - lr: 0.0010 - 9s/epoch - 51ms/step
Epoch 94/100
176/176 - 9s - loss: 0.0354 - accuracy: 0.9682 - val_loss: 1.6098 - val_accuracy: 0.3951 - lr: 0.0010 - 9s/epoch - 51ms/step
Epoch 95/100
176/176 - 9s - loss: 0.0355 - accuracy: 0.9675 - val_loss: 1.5502 - val_accuracy: 0.4096 - lr: 0.0010 - 9s/epoch - 51ms/step
Epoch 96/100
176/176 - 9s - loss: 0.0354 - accuracy: 0.9679 - val_loss: 1.7327 - val_accuracy: 0.3612 - lr: 0.0010 - 9s/epoch - 51ms/step
Epoch 97/100
176/176 - 9s - loss: 0.0362 - accuracy: 0.9672 - val_loss: 1.6509 - val_accuracy: 0.3954 - lr: 0.0010 - 9s/epoch - 51ms/step
Epoch 98/100
176/176 - 9s - loss: 0.0339 - accuracy: 0.9694 - val_loss: 1.6002 - val_accuracy: 0.4032 - lr: 0.0010 - 9s/epoch - 51ms/step
Epoch 99/100
176/176 - 9s - loss: 0.0347 - accuracy: 0.9685 - val_loss: 1.6555 - val_accuracy: 0.3827 - lr: 0.0010 - 9s/epoch - 51ms/step
Epoch 100/100
176/176 - 9s - loss: 0.0346 - accuracy: 0.9681 - val_loss: 1.4125 - val_accuracy: 0.4687 - lr: 0.0010 - 9s/epoch - 51ms/step
Epoch 1/100
36/36 - 10s - loss: 0.0315 - accuracy: 0.9718 - val_loss: 1.4857 - val_accuracy: 0.4288 - lr: 0.0010 - 10s/epoch - 284ms/step
Epoch 2/100
36/36 - 8s - loss: 0.0273 - accuracy: 0.9765 - val_loss: 1.5003 - val_accuracy: 0.4265 - lr: 0.0010 - 8s/epoch - 214ms/step
Epoch 3/100
36/36 - 8s - loss: 0.0267 - accuracy: 0.9769 - val_loss: 1.5661 - val_accuracy: 0.4100 - lr: 0.0010 - 8s/epoch - 214ms/step
Epoch 4/100
36/36 - 8s - loss: 0.0262 - accuracy: 0.9768 - val_loss: 1.4787 - val_accuracy: 0.4481 - lr: 0.0010 - 8s/epoch - 214ms/step
Epoch 5/100
36/36 - 8s - loss: 0.0260 - accuracy: 0.9779 - val_loss: 1.5118 - val_accuracy: 0.4275 - lr: 0.0010 - 8s/epoch - 215ms/step
Epoch 6/100
36/36 - 8s - loss: 0.0249 - accuracy: 0.9786 - val_loss: 1.4858 - val_accuracy: 0.4382 - lr: 0.0010 - 8s/epoch - 215ms/step
Epoch 7/100
36/36 - 8s - loss: 0.0260 - accuracy: 0.9779 - val_loss: 1.5121 - val_accuracy: 0.4345 - lr: 0.0010 - 8s/epoch - 215ms/step
Epoch 8/100
36/36 - 8s - loss: 0.0251 - accuracy: 0.9790 - val_loss: 1.5154 - val_accuracy: 0.4337 - lr: 0.0010 - 8s/epoch - 214ms/step
Epoch 9/100
36/36 - 8s - loss: 0.0242 - accuracy: 0.9793 - val_loss: 1.4961 - val_accuracy: 0.4464 - lr: 0.0010 - 8s/epoch - 215ms/step
Epoch 10/100
36/36 - 8s - loss: 0.0262 - accuracy: 0.9770 - val_loss: 1.6162 - val_accuracy: 0.4096 - lr: 0.0010 - 8s/epoch - 215ms/step
Epoch 11/100
36/36 - 8s - loss: 0.0254 - accuracy: 0.9778 - val_loss: 1.8812 - val_accuracy: 0.3631 - lr: 0.0010 - 8s/epoch - 215ms/step
Epoch 12/100
36/36 - 8s - loss: 0.0258 - accuracy: 0.9777 - val_loss: 1.5848 - val_accuracy: 0.4178 - lr: 0.0010 - 8s/epoch - 215ms/step
Epoch 13/100
36/36 - 8s - loss: 0.0257 - accuracy: 0.9777 - val_loss: 1.5852 - val_accuracy: 0.4180 - lr: 0.0010 - 8s/epoch - 214ms/step
Epoch 14/100
36/36 - 8s - loss: 0.0252 - accuracy: 0.9783 - val_loss: 1.5604 - val_accuracy: 0.4276 - lr: 0.0010 - 8s/epoch - 214ms/step
Epoch 15/100
36/36 - 8s - loss: 0.0240 - accuracy: 0.9790 - val_loss: 1.5653 - val_accuracy: 0.4249 - lr: 0.0010 - 8s/epoch - 214ms/step
Epoch 16/100
36/36 - 8s - loss: 0.0245 - accuracy: 0.9794 - val_loss: 1.5886 - val_accuracy: 0.4207 - lr: 0.0010 - 8s/epoch - 215ms/step
Epoch 17/100
36/36 - 8s - loss: 0.0237 - accuracy: 0.9799 - val_loss: 1.5795 - val_accuracy: 0.4232 - lr: 0.0010 - 8s/epoch - 214ms/step
Epoch 18/100
36/36 - 8s - loss: 0.0244 - accuracy: 0.9796 - val_loss: 1.6672 - val_accuracy: 0.4073 - lr: 0.0010 - 8s/epoch - 215ms/step
Epoch 19/100
36/36 - 8s - loss: 0.0241 - accuracy: 0.9797 - val_loss: 1.6706 - val_accuracy: 0.4040 - lr: 0.0010 - 8s/epoch - 215ms/step
Epoch 20/100
36/36 - 8s - loss: 0.0238 - accuracy: 0.9795 - val_loss: 1.6291 - val_accuracy: 0.4176 - lr: 0.0010 - 8s/epoch - 215ms/step
Epoch 21/100
36/36 - 8s - loss: 0.0248 - accuracy: 0.9788 - val_loss: 1.6241 - val_accuracy: 0.4165 - lr: 0.0010 - 8s/epoch - 216ms/step
Epoch 22/100
36/36 - 8s - loss: 0.0247 - accuracy: 0.9786 - val_loss: 1.5996 - val_accuracy: 0.4239 - lr: 0.0010 - 8s/epoch - 216ms/step
Epoch 23/100
36/36 - 8s - loss: 0.0260 - accuracy: 0.9776 - val_loss: 1.6067 - val_accuracy: 0.4204 - lr: 0.0010 - 8s/epoch - 214ms/step
Epoch 24/100
36/36 - 8s - loss: 0.0241 - accuracy: 0.9793 - val_loss: 1.6198 - val_accuracy: 0.4146 - lr: 0.0010 - 8s/epoch - 215ms/step
Epoch 25/100
36/36 - 8s - loss: 0.0243 - accuracy: 0.9788 - val_loss: 1.6368 - val_accuracy: 0.4117 - lr: 0.0010 - 8s/epoch - 216ms/step
Epoch 26/100
36/36 - 8s - loss: 0.0239 - accuracy: 0.9796 - val_loss: 1.5887 - val_accuracy: 0.4321 - lr: 0.0010 - 8s/epoch - 215ms/step
Epoch 27/100
36/36 - 8s - loss: 0.0257 - accuracy: 0.9782 - val_loss: 1.6479 - val_accuracy: 0.4119 - lr: 0.0010 - 8s/epoch - 216ms/step
Epoch 28/100
36/36 - 8s - loss: 0.0243 - accuracy: 0.9789 - val_loss: 1.6358 - val_accuracy: 0.4191 - lr: 0.0010 - 8s/epoch - 216ms/step
Epoch 29/100
36/36 - 8s - loss: 0.0240 - accuracy: 0.9793 - val_loss: 1.5770 - val_accuracy: 0.4359 - lr: 0.0010 - 8s/epoch - 215ms/step
Epoch 30/100
36/36 - 8s - loss: 0.0236 - accuracy: 0.9800 - val_loss: 1.6257 - val_accuracy: 0.4216 - lr: 0.0010 - 8s/epoch - 215ms/step
Epoch 31/100
36/36 - 8s - loss: 0.0228 - accuracy: 0.9803 - val_loss: 1.6556 - val_accuracy: 0.4128 - lr: 0.0010 - 8s/epoch - 214ms/step
Epoch 32/100
36/36 - 8s - loss: 0.0235 - accuracy: 0.9800 - val_loss: 1.6240 - val_accuracy: 0.4137 - lr: 0.0010 - 8s/epoch - 215ms/step
Epoch 33/100
36/36 - 8s - loss: 0.0237 - accuracy: 0.9800 - val_loss: 1.6983 - val_accuracy: 0.4000 - lr: 0.0010 - 8s/epoch - 216ms/step
Epoch 34/100
36/36 - 8s - loss: 0.0233 - accuracy: 0.9805 - val_loss: 1.6386 - val_accuracy: 0.4159 - lr: 0.0010 - 8s/epoch - 215ms/step
Epoch 35/100
36/36 - 8s - loss: 0.0230 - accuracy: 0.9808 - val_loss: 1.7627 - val_accuracy: 0.3879 - lr: 0.0010 - 8s/epoch - 214ms/step
Epoch 36/100
36/36 - 8s - loss: 0.0227 - accuracy: 0.9805 - val_loss: 1.6771 - val_accuracy: 0.4036 - lr: 0.0010 - 8s/epoch - 214ms/step
Epoch 37/100
36/36 - 8s - loss: 0.0243 - accuracy: 0.9794 - val_loss: 1.5175 - val_accuracy: 0.4451 - lr: 0.0010 - 8s/epoch - 215ms/step
Epoch 38/100
36/36 - 8s - loss: 0.0233 - accuracy: 0.9805 - val_loss: 1.5824 - val_accuracy: 0.4235 - lr: 0.0010 - 8s/epoch - 215ms/step
Epoch 39/100
36/36 - 8s - loss: 0.0221 - accuracy: 0.9812 - val_loss: 1.5735 - val_accuracy: 0.4301 - lr: 0.0010 - 8s/epoch - 215ms/step
Epoch 40/100
36/36 - 8s - loss: 0.0227 - accuracy: 0.9803 - val_loss: 1.6438 - val_accuracy: 0.4109 - lr: 0.0010 - 8s/epoch - 214ms/step
Epoch 41/100
36/36 - 8s - loss: 0.0231 - accuracy: 0.9805 - val_loss: 1.6050 - val_accuracy: 0.4219 - lr: 0.0010 - 8s/epoch - 215ms/step
Epoch 42/100
36/36 - 8s - loss: 0.0236 - accuracy: 0.9800 - val_loss: 1.6374 - val_accuracy: 0.4207 - lr: 0.0010 - 8s/epoch - 215ms/step
Epoch 43/100
36/36 - 8s - loss: 0.0232 - accuracy: 0.9792 - val_loss: 1.5474 - val_accuracy: 0.4466 - lr: 0.0010 - 8s/epoch - 215ms/step
Epoch 44/100
36/36 - 8s - loss: 0.0232 - accuracy: 0.9805 - val_loss: 1.6282 - val_accuracy: 0.4258 - lr: 0.0010 - 8s/epoch - 215ms/step
Epoch 45/100
36/36 - 8s - loss: 0.0228 - accuracy: 0.9807 - val_loss: 1.6050 - val_accuracy: 0.4344 - lr: 0.0010 - 8s/epoch - 215ms/step
Epoch 46/100
36/36 - 8s - loss: 0.0233 - accuracy: 0.9803 - val_loss: 1.6608 - val_accuracy: 0.4108 - lr: 0.0010 - 8s/epoch - 215ms/step
Epoch 47/100
36/36 - 8s - loss: 0.0233 - accuracy: 0.9802 - val_loss: 1.6418 - val_accuracy: 0.4234 - lr: 0.0010 - 8s/epoch - 215ms/step
Epoch 48/100
36/36 - 8s - loss: 0.0255 - accuracy: 0.9779 - val_loss: 1.8145 - val_accuracy: 0.3790 - lr: 0.0010 - 8s/epoch - 215ms/step
Epoch 49/100
36/36 - 8s - loss: 0.0232 - accuracy: 0.9800 - val_loss: 1.7207 - val_accuracy: 0.4024 - lr: 0.0010 - 8s/epoch - 215ms/step
Epoch 50/100
36/36 - 8s - loss: 0.0240 - accuracy: 0.9795 - val_loss: 1.7377 - val_accuracy: 0.3970 - lr: 0.0010 - 8s/epoch - 215ms/step
Epoch 51/100
36/36 - 8s - loss: 0.0229 - accuracy: 0.9809 - val_loss: 1.7092 - val_accuracy: 0.4025 - lr: 0.0010 - 8s/epoch - 216ms/step
Epoch 52/100
36/36 - 8s - loss: 0.0232 - accuracy: 0.9799 - val_loss: 1.6380 - val_accuracy: 0.4211 - lr: 0.0010 - 8s/epoch - 214ms/step
Epoch 53/100
36/36 - 8s - loss: 0.0245 - accuracy: 0.9791 - val_loss: 1.6238 - val_accuracy: 0.4276 - lr: 0.0010 - 8s/epoch - 215ms/step
Epoch 54/100
36/36 - 8s - loss: 0.0242 - accuracy: 0.9795 - val_loss: 1.6328 - val_accuracy: 0.4231 - lr: 0.0010 - 8s/epoch - 216ms/step
Epoch 55/100
36/36 - 8s - loss: 0.0229 - accuracy: 0.9803 - val_loss: 1.6099 - val_accuracy: 0.4314 - lr: 0.0010 - 8s/epoch - 216ms/step
Epoch 56/100
36/36 - 8s - loss: 0.0230 - accuracy: 0.9807 - val_loss: 1.6121 - val_accuracy: 0.4275 - lr: 0.0010 - 8s/epoch - 215ms/step
Epoch 57/100
36/36 - 8s - loss: 0.0235 - accuracy: 0.9805 - val_loss: 1.6499 - val_accuracy: 0.4258 - lr: 0.0010 - 8s/epoch - 215ms/step
Epoch 58/100
36/36 - 8s - loss: 0.0231 - accuracy: 0.9802 - val_loss: 1.7289 - val_accuracy: 0.4028 - lr: 0.0010 - 8s/epoch - 214ms/step
Epoch 59/100
36/36 - 8s - loss: 0.0238 - accuracy: 0.9798 - val_loss: 1.7139 - val_accuracy: 0.4089 - lr: 0.0010 - 8s/epoch - 215ms/step
Epoch 60/100
36/36 - 8s - loss: 0.0235 - accuracy: 0.9801 - val_loss: 1.7163 - val_accuracy: 0.4080 - lr: 0.0010 - 8s/epoch - 216ms/step
Epoch 61/100
36/36 - 8s - loss: 0.0241 - accuracy: 0.9795 - val_loss: 1.7055 - val_accuracy: 0.4065 - lr: 0.0010 - 8s/epoch - 216ms/step
Epoch 62/100
36/36 - 8s - loss: 0.0242 - accuracy: 0.9796 - val_loss: 1.6327 - val_accuracy: 0.4266 - lr: 0.0010 - 8s/epoch - 216ms/step
Epoch 63/100
36/36 - 8s - loss: 0.0243 - accuracy: 0.9796 - val_loss: 1.6567 - val_accuracy: 0.4208 - lr: 0.0010 - 8s/epoch - 216ms/step
Epoch 64/100
36/36 - 8s - loss: 0.0234 - accuracy: 0.9799 - val_loss: 1.6997 - val_accuracy: 0.4090 - lr: 0.0010 - 8s/epoch - 216ms/step
Epoch 65/100
36/36 - 8s - loss: 0.0235 - accuracy: 0.9804 - val_loss: 1.6924 - val_accuracy: 0.4114 - lr: 0.0010 - 8s/epoch - 215ms/step
Epoch 66/100
36/36 - 8s - loss: 0.0222 - accuracy: 0.9814 - val_loss: 1.6440 - val_accuracy: 0.4232 - lr: 0.0010 - 8s/epoch - 214ms/step
Epoch 67/100
36/36 - 8s - loss: 0.0230 - accuracy: 0.9810 - val_loss: 1.6563 - val_accuracy: 0.4174 - lr: 0.0010 - 8s/epoch - 215ms/step
Epoch 68/100
36/36 - 8s - loss: 0.0231 - accuracy: 0.9801 - val_loss: 1.6737 - val_accuracy: 0.4165 - lr: 0.0010 - 8s/epoch - 215ms/step
Epoch 69/100
36/36 - 8s - loss: 0.0224 - accuracy: 0.9809 - val_loss: 1.7047 - val_accuracy: 0.4061 - lr: 0.0010 - 8s/epoch - 216ms/step
Epoch 70/100
36/36 - 8s - loss: 0.0238 - accuracy: 0.9793 - val_loss: 2.0383 - val_accuracy: 0.3544 - lr: 0.0010 - 8s/epoch - 216ms/step
Epoch 71/100
36/36 - 8s - loss: 0.0237 - accuracy: 0.9798 - val_loss: 2.0382 - val_accuracy: 0.3514 - lr: 0.0010 - 8s/epoch - 216ms/step
Epoch 72/100
36/36 - 8s - loss: 0.0225 - accuracy: 0.9810 - val_loss: 1.9816 - val_accuracy: 0.3630 - lr: 0.0010 - 8s/epoch - 215ms/step
Epoch 73/100
36/36 - 8s - loss: 0.0234 - accuracy: 0.9796 - val_loss: 2.0001 - val_accuracy: 0.3607 - lr: 0.0010 - 8s/epoch - 214ms/step
Epoch 74/100
36/36 - 8s - loss: 0.0222 - accuracy: 0.9811 - val_loss: 1.9542 - val_accuracy: 0.3636 - lr: 0.0010 - 8s/epoch - 214ms/step
Epoch 75/100
36/36 - 8s - loss: 0.0235 - accuracy: 0.9803 - val_loss: 1.8572 - val_accuracy: 0.3754 - lr: 0.0010 - 8s/epoch - 215ms/step
Epoch 76/100
36/36 - 8s - loss: 0.0228 - accuracy: 0.9805 - val_loss: 1.6635 - val_accuracy: 0.4220 - lr: 0.0010 - 8s/epoch - 216ms/step
Epoch 77/100
36/36 - 8s - loss: 0.0221 - accuracy: 0.9812 - val_loss: 1.6284 - val_accuracy: 0.4256 - lr: 0.0010 - 8s/epoch - 215ms/step
Epoch 78/100
36/36 - 8s - loss: 0.0225 - accuracy: 0.9810 - val_loss: 1.8586 - val_accuracy: 0.3813 - lr: 0.0010 - 8s/epoch - 215ms/step
Epoch 79/100
36/36 - 8s - loss: 0.0233 - accuracy: 0.9805 - val_loss: 2.0079 - val_accuracy: 0.3567 - lr: 0.0010 - 8s/epoch - 214ms/step
Epoch 80/100
36/36 - 8s - loss: 0.0232 - accuracy: 0.9808 - val_loss: 1.8136 - val_accuracy: 0.3868 - lr: 0.0010 - 8s/epoch - 215ms/step
Epoch 81/100
36/36 - 8s - loss: 0.0231 - accuracy: 0.9801 - val_loss: 1.5652 - val_accuracy: 0.4392 - lr: 0.0010 - 8s/epoch - 215ms/step
Epoch 82/100
36/36 - 8s - loss: 0.0240 - accuracy: 0.9795 - val_loss: 1.5890 - val_accuracy: 0.4261 - lr: 0.0010 - 8s/epoch - 215ms/step
Epoch 83/100
36/36 - 8s - loss: 0.0225 - accuracy: 0.9811 - val_loss: 1.5936 - val_accuracy: 0.4249 - lr: 0.0010 - 8s/epoch - 215ms/step
Epoch 84/100
36/36 - 8s - loss: 0.0223 - accuracy: 0.9808 - val_loss: 1.6204 - val_accuracy: 0.4218 - lr: 0.0010 - 8s/epoch - 214ms/step
Epoch 85/100
36/36 - 8s - loss: 0.0223 - accuracy: 0.9811 - val_loss: 1.6232 - val_accuracy: 0.4258 - lr: 0.0010 - 8s/epoch - 215ms/step
Epoch 86/100
36/36 - 8s - loss: 0.0217 - accuracy: 0.9813 - val_loss: 1.6645 - val_accuracy: 0.4102 - lr: 0.0010 - 8s/epoch - 215ms/step
Epoch 87/100
36/36 - 8s - loss: 0.0237 - accuracy: 0.9795 - val_loss: 1.6225 - val_accuracy: 0.4173 - lr: 0.0010 - 8s/epoch - 214ms/step
Epoch 88/100
36/36 - 8s - loss: 0.0229 - accuracy: 0.9806 - val_loss: 1.6629 - val_accuracy: 0.4146 - lr: 0.0010 - 8s/epoch - 215ms/step
Epoch 89/100
36/36 - 8s - loss: 0.0236 - accuracy: 0.9799 - val_loss: 1.8900 - val_accuracy: 0.3803 - lr: 0.0010 - 8s/epoch - 215ms/step
Epoch 90/100
36/36 - 8s - loss: 0.0228 - accuracy: 0.9807 - val_loss: 1.9246 - val_accuracy: 0.3717 - lr: 0.0010 - 8s/epoch - 216ms/step
Epoch 91/100
36/36 - 8s - loss: 0.0232 - accuracy: 0.9799 - val_loss: 1.7502 - val_accuracy: 0.4017 - lr: 0.0010 - 8s/epoch - 215ms/step
Epoch 92/100
36/36 - 8s - loss: 0.0232 - accuracy: 0.9805 - val_loss: 1.6732 - val_accuracy: 0.4180 - lr: 0.0010 - 8s/epoch - 215ms/step
Epoch 93/100
36/36 - 8s - loss: 0.0222 - accuracy: 0.9813 - val_loss: 1.7467 - val_accuracy: 0.3985 - lr: 0.0010 - 8s/epoch - 215ms/step
Epoch 94/100
36/36 - 8s - loss: 0.0223 - accuracy: 0.9809 - val_loss: 1.6181 - val_accuracy: 0.4312 - lr: 0.0010 - 8s/epoch - 215ms/step
Epoch 95/100
36/36 - 8s - loss: 0.0218 - accuracy: 0.9818 - val_loss: 1.6005 - val_accuracy: 0.4356 - lr: 0.0010 - 8s/epoch - 216ms/step
Epoch 96/100
36/36 - 8s - loss: 0.0225 - accuracy: 0.9809 - val_loss: 1.5705 - val_accuracy: 0.4464 - lr: 0.0010 - 8s/epoch - 215ms/step
Epoch 97/100
36/36 - 8s - loss: 0.0240 - accuracy: 0.9796 - val_loss: 1.6492 - val_accuracy: 0.4160 - lr: 0.0010 - 8s/epoch - 215ms/step
Epoch 98/100
36/36 - 8s - loss: 0.0233 - accuracy: 0.9801 - val_loss: 1.6878 - val_accuracy: 0.4130 - lr: 0.0010 - 8s/epoch - 215ms/step
Epoch 99/100
36/36 - 8s - loss: 0.0227 - accuracy: 0.9802 - val_loss: 1.7291 - val_accuracy: 0.4055 - lr: 0.0010 - 8s/epoch - 214ms/step
Epoch 100/100
36/36 - 8s - loss: 0.0225 - accuracy: 0.9808 - val_loss: 1.7626 - val_accuracy: 0.3987 - lr: 0.0010 - 8s/epoch - 215ms/step
Epoch 1/25
4378/4378 - 77s - loss: 0.0178 - accuracy: 0.8848 - val_loss: 0.0796 - val_accuracy: 0.5243 - lr: 0.0010 - 77s/epoch - 18ms/step
Epoch 2/25
4378/4378 - 75s - loss: 0.0187 - accuracy: 0.8717 - val_loss: 0.0692 - val_accuracy: 0.5610 - lr: 0.0010 - 75s/epoch - 17ms/step
Epoch 3/25
4378/4378 - 74s - loss: 0.0186 - accuracy: 0.8722 - val_loss: 0.0772 - val_accuracy: 0.5030 - lr: 0.0010 - 74s/epoch - 17ms/step
Epoch 4/25
4378/4378 - 75s - loss: 0.0186 - accuracy: 0.8721 - val_loss: 0.0756 - val_accuracy: 0.5115 - lr: 0.0010 - 75s/epoch - 17ms/step
Epoch 5/25
4378/4378 - 75s - loss: 0.0181 - accuracy: 0.8746 - val_loss: 0.0652 - val_accuracy: 0.5678 - lr: 0.0010 - 75s/epoch - 17ms/step
Epoch 6/25
4378/4378 - 74s - loss: 0.0180 - accuracy: 0.8749 - val_loss: 0.0673 - val_accuracy: 0.5585 - lr: 0.0010 - 74s/epoch - 17ms/step
Epoch 7/25
4378/4378 - 75s - loss: 0.0181 - accuracy: 0.8744 - val_loss: 0.0754 - val_accuracy: 0.5125 - lr: 0.0010 - 75s/epoch - 17ms/step
Epoch 8/25
4378/4378 - 75s - loss: 0.0179 - accuracy: 0.8767 - val_loss: 0.0675 - val_accuracy: 0.5523 - lr: 0.0010 - 75s/epoch - 17ms/step
Epoch 9/25
4378/4378 - 75s - loss: 0.0181 - accuracy: 0.8746 - val_loss: 0.0613 - val_accuracy: 0.5909 - lr: 0.0010 - 75s/epoch - 17ms/step
Epoch 10/25
4378/4378 - 75s - loss: 0.0182 - accuracy: 0.8736 - val_loss: 0.0636 - val_accuracy: 0.5854 - lr: 0.0010 - 75s/epoch - 17ms/step
Epoch 11/25
4378/4378 - 75s - loss: 0.0184 - accuracy: 0.8728 - val_loss: 0.0532 - val_accuracy: 0.6522 - lr: 0.0010 - 75s/epoch - 17ms/step
Epoch 12/25
4378/4378 - 74s - loss: 0.0184 - accuracy: 0.8729 - val_loss: 0.0613 - val_accuracy: 0.5861 - lr: 0.0010 - 74s/epoch - 17ms/step
Epoch 13/25
4378/4378 - 75s - loss: 0.0180 - accuracy: 0.8755 - val_loss: 0.0639 - val_accuracy: 0.5793 - lr: 0.0010 - 75s/epoch - 17ms/step
Epoch 14/25
4378/4378 - 75s - loss: 0.0181 - accuracy: 0.8749 - val_loss: 0.0782 - val_accuracy: 0.4680 - lr: 0.0010 - 75s/epoch - 17ms/step
Epoch 15/25
4378/4378 - 75s - loss: 0.0180 - accuracy: 0.8751 - val_loss: 0.0778 - val_accuracy: 0.4920 - lr: 0.0010 - 75s/epoch - 17ms/step
Epoch 16/25
4378/4378 - 74s - loss: 0.0179 - accuracy: 0.8763 - val_loss: 0.0795 - val_accuracy: 0.4871 - lr: 0.0010 - 74s/epoch - 17ms/step
Epoch 17/25
4378/4378 - 75s - loss: 0.0180 - accuracy: 0.8760 - val_loss: 0.0601 - val_accuracy: 0.6092 - lr: 0.0010 - 75s/epoch - 17ms/step
Epoch 18/25
4378/4378 - 75s - loss: 0.0180 - accuracy: 0.8755 - val_loss: 0.0630 - val_accuracy: 0.5957 - lr: 0.0010 - 75s/epoch - 17ms/step
Epoch 19/25
4378/4378 - 75s - loss: 0.0180 - accuracy: 0.8751 - val_loss: 0.0669 - val_accuracy: 0.5544 - lr: 0.0010 - 75s/epoch - 17ms/step
Epoch 20/25
4378/4378 - 75s - loss: 0.0183 - accuracy: 0.8746 - val_loss: 0.0851 - val_accuracy: 0.4729 - lr: 0.0010 - 75s/epoch - 17ms/step
Epoch 21/25
4378/4378 - 76s - loss: 0.0182 - accuracy: 0.8739 - val_loss: 0.0562 - val_accuracy: 0.6383 - lr: 0.0010 - 76s/epoch - 17ms/step
Epoch 22/25
4378/4378 - 75s - loss: 0.0182 - accuracy: 0.8748 - val_loss: 0.0625 - val_accuracy: 0.5908 - lr: 0.0010 - 75s/epoch - 17ms/step
Epoch 23/25
4378/4378 - 75s - loss: 0.0179 - accuracy: 0.8765 - val_loss: 0.0815 - val_accuracy: 0.4884 - lr: 0.0010 - 75s/epoch - 17ms/step
Epoch 24/25
4378/4378 - 75s - loss: 0.0182 - accuracy: 0.8758 - val_loss: 0.0685 - val_accuracy: 0.5477 - lr: 0.0010 - 75s/epoch - 17ms/step
Epoch 25/25
4378/4378 - 75s - loss: 0.0183 - accuracy: 0.8738 - val_loss: 0.0645 - val_accuracy: 0.5759 - lr: 0.0010 - 75s/epoch - 17ms/step
Epoch 1/25
876/876 - 21s - loss: 0.0129 - accuracy: 0.9129 - val_loss: 0.0726 - val_accuracy: 0.5456 - lr: 0.0010 - 21s/epoch - 24ms/step
Epoch 2/25
876/876 - 18s - loss: 0.0127 - accuracy: 0.9145 - val_loss: 0.0654 - val_accuracy: 0.5915 - lr: 0.0010 - 18s/epoch - 21ms/step
Epoch 3/25
876/876 - 18s - loss: 0.0122 - accuracy: 0.9178 - val_loss: 0.0655 - val_accuracy: 0.5973 - lr: 0.0010 - 18s/epoch - 21ms/step
Epoch 4/25
876/876 - 18s - loss: 0.0119 - accuracy: 0.9196 - val_loss: 0.0795 - val_accuracy: 0.5125 - lr: 0.0010 - 18s/epoch - 21ms/step
Epoch 5/25
876/876 - 18s - loss: 0.0119 - accuracy: 0.9196 - val_loss: 0.0644 - val_accuracy: 0.5990 - lr: 0.0010 - 18s/epoch - 21ms/step
Epoch 6/25
876/876 - 18s - loss: 0.0115 - accuracy: 0.9225 - val_loss: 0.0796 - val_accuracy: 0.5123 - lr: 0.0010 - 18s/epoch - 21ms/step
Epoch 7/25
876/876 - 18s - loss: 0.0113 - accuracy: 0.9239 - val_loss: 0.0744 - val_accuracy: 0.5419 - lr: 0.0010 - 18s/epoch - 21ms/step
Epoch 8/25
876/876 - 18s - loss: 0.0113 - accuracy: 0.9240 - val_loss: 0.0636 - val_accuracy: 0.6085 - lr: 0.0010 - 18s/epoch - 21ms/step
Epoch 9/25
876/876 - 18s - loss: 0.0110 - accuracy: 0.9257 - val_loss: 0.0836 - val_accuracy: 0.4912 - lr: 0.0010 - 18s/epoch - 21ms/step
Epoch 10/25
876/876 - 18s - loss: 0.0111 - accuracy: 0.9246 - val_loss: 0.0650 - val_accuracy: 0.6013 - lr: 0.0010 - 18s/epoch - 21ms/step
Epoch 11/25
876/876 - 18s - loss: 0.0111 - accuracy: 0.9255 - val_loss: 0.0677 - val_accuracy: 0.5885 - lr: 0.0010 - 18s/epoch - 21ms/step
Epoch 12/25
876/876 - 18s - loss: 0.0110 - accuracy: 0.9263 - val_loss: 0.0806 - val_accuracy: 0.5102 - lr: 0.0010 - 18s/epoch - 21ms/step
Epoch 13/25
876/876 - 18s - loss: 0.0108 - accuracy: 0.9274 - val_loss: 0.0900 - val_accuracy: 0.4644 - lr: 0.0010 - 18s/epoch - 21ms/step
Epoch 14/25
876/876 - 18s - loss: 0.0109 - accuracy: 0.9265 - val_loss: 0.0822 - val_accuracy: 0.5011 - lr: 0.0010 - 18s/epoch - 21ms/step
Epoch 15/25
876/876 - 19s - loss: 0.0106 - accuracy: 0.9296 - val_loss: 0.0687 - val_accuracy: 0.5829 - lr: 0.0010 - 19s/epoch - 21ms/step
Epoch 16/25
876/876 - 18s - loss: 0.0107 - accuracy: 0.9277 - val_loss: 0.0843 - val_accuracy: 0.4900 - lr: 0.0010 - 18s/epoch - 21ms/step
Epoch 17/25
876/876 - 18s - loss: 0.0107 - accuracy: 0.9278 - val_loss: 0.0859 - val_accuracy: 0.4871 - lr: 0.0010 - 18s/epoch - 21ms/step
Epoch 18/25
876/876 - 18s - loss: 0.0105 - accuracy: 0.9296 - val_loss: 0.0955 - val_accuracy: 0.4316 - lr: 0.0010 - 18s/epoch - 21ms/step
Epoch 19/25
876/876 - 18s - loss: 0.0106 - accuracy: 0.9284 - val_loss: 0.0918 - val_accuracy: 0.4492 - lr: 0.0010 - 18s/epoch - 21ms/step
Epoch 20/25
876/876 - 18s - loss: 0.0106 - accuracy: 0.9284 - val_loss: 0.0918 - val_accuracy: 0.4534 - lr: 0.0010 - 18s/epoch - 21ms/step
Epoch 21/25
876/876 - 18s - loss: 0.0105 - accuracy: 0.9294 - val_loss: 0.0913 - val_accuracy: 0.4530 - lr: 0.0010 - 18s/epoch - 21ms/step
Epoch 22/25
876/876 - 18s - loss: 0.0103 - accuracy: 0.9308 - val_loss: 0.0843 - val_accuracy: 0.4865 - lr: 0.0010 - 18s/epoch - 21ms/step
Epoch 23/25
876/876 - 18s - loss: 0.0105 - accuracy: 0.9294 - val_loss: 0.0771 - val_accuracy: 0.5329 - lr: 0.0010 - 18s/epoch - 21ms/step
Epoch 24/25
876/876 - 18s - loss: 0.0105 - accuracy: 0.9287 - val_loss: 0.0803 - val_accuracy: 0.5088 - lr: 0.0010 - 18s/epoch - 21ms/step
Epoch 25/25
876/876 - 18s - loss: 0.0102 - accuracy: 0.9317 - val_loss: 0.0890 - val_accuracy: 0.4627 - lr: 0.0010 - 18s/epoch - 21ms/step
Epoch 1/25
176/176 - 13s - loss: 0.0076 - accuracy: 0.9506 - val_loss: 0.0848 - val_accuracy: 0.4894 - lr: 0.0010 - 13s/epoch - 73ms/step
Epoch 2/25
176/176 - 9s - loss: 0.0066 - accuracy: 0.9577 - val_loss: 0.0845 - val_accuracy: 0.4984 - lr: 0.0010 - 9s/epoch - 50ms/step
Epoch 3/25
176/176 - 9s - loss: 0.0062 - accuracy: 0.9599 - val_loss: 0.0871 - val_accuracy: 0.4863 - lr: 0.0010 - 9s/epoch - 50ms/step
Epoch 4/25
176/176 - 9s - loss: 0.0062 - accuracy: 0.9604 - val_loss: 0.0880 - val_accuracy: 0.4866 - lr: 0.0010 - 9s/epoch - 50ms/step
Epoch 5/25
176/176 - 9s - loss: 0.0061 - accuracy: 0.9602 - val_loss: 0.0875 - val_accuracy: 0.4873 - lr: 0.0010 - 9s/epoch - 50ms/step
Epoch 6/25
176/176 - 9s - loss: 0.0062 - accuracy: 0.9599 - val_loss: 0.0869 - val_accuracy: 0.4909 - lr: 0.0010 - 9s/epoch - 51ms/step
Epoch 7/25
176/176 - 9s - loss: 0.0062 - accuracy: 0.9602 - val_loss: 0.0847 - val_accuracy: 0.5055 - lr: 0.0010 - 9s/epoch - 50ms/step
Epoch 8/25
176/176 - 9s - loss: 0.0061 - accuracy: 0.9607 - val_loss: 0.0866 - val_accuracy: 0.4940 - lr: 0.0010 - 9s/epoch - 50ms/step
Epoch 9/25
176/176 - 9s - loss: 0.0059 - accuracy: 0.9613 - val_loss: 0.0903 - val_accuracy: 0.4770 - lr: 0.0010 - 9s/epoch - 50ms/step
Epoch 10/25
176/176 - 9s - loss: 0.0059 - accuracy: 0.9624 - val_loss: 0.0880 - val_accuracy: 0.4894 - lr: 0.0010 - 9s/epoch - 50ms/step
Epoch 11/25
176/176 - 9s - loss: 0.0058 - accuracy: 0.9622 - val_loss: 0.0901 - val_accuracy: 0.4782 - lr: 0.0010 - 9s/epoch - 50ms/step
Epoch 12/25
176/176 - 9s - loss: 0.0059 - accuracy: 0.9618 - val_loss: 0.0880 - val_accuracy: 0.4925 - lr: 0.0010 - 9s/epoch - 50ms/step
Epoch 13/25
176/176 - 9s - loss: 0.0060 - accuracy: 0.9610 - val_loss: 0.0888 - val_accuracy: 0.4900 - lr: 0.0010 - 9s/epoch - 51ms/step
Epoch 14/25
176/176 - 9s - loss: 0.0059 - accuracy: 0.9618 - val_loss: 0.0915 - val_accuracy: 0.4752 - lr: 0.0010 - 9s/epoch - 50ms/step
Epoch 15/25
176/176 - 9s - loss: 0.0059 - accuracy: 0.9619 - val_loss: 0.0939 - val_accuracy: 0.4652 - lr: 0.0010 - 9s/epoch - 51ms/step
Epoch 16/25
176/176 - 9s - loss: 0.0058 - accuracy: 0.9624 - val_loss: 0.0940 - val_accuracy: 0.4635 - lr: 0.0010 - 9s/epoch - 50ms/step
Epoch 17/25
176/176 - 9s - loss: 0.0059 - accuracy: 0.9616 - val_loss: 0.0952 - val_accuracy: 0.4514 - lr: 0.0010 - 9s/epoch - 50ms/step
Epoch 18/25
176/176 - 9s - loss: 0.0059 - accuracy: 0.9616 - val_loss: 0.0914 - val_accuracy: 0.4758 - lr: 0.0010 - 9s/epoch - 50ms/step
Epoch 19/25
176/176 - 9s - loss: 0.0060 - accuracy: 0.9605 - val_loss: 0.0856 - val_accuracy: 0.5085 - lr: 0.0010 - 9s/epoch - 50ms/step
Epoch 20/25
176/176 - 9s - loss: 0.0062 - accuracy: 0.9602 - val_loss: 0.0938 - val_accuracy: 0.4614 - lr: 0.0010 - 9s/epoch - 50ms/step
Epoch 21/25
176/176 - 9s - loss: 0.0062 - accuracy: 0.9602 - val_loss: 0.0897 - val_accuracy: 0.4833 - lr: 0.0010 - 9s/epoch - 50ms/step
Epoch 22/25
176/176 - 9s - loss: 0.0061 - accuracy: 0.9607 - val_loss: 0.0938 - val_accuracy: 0.4612 - lr: 0.0010 - 9s/epoch - 50ms/step
Epoch 23/25
176/176 - 9s - loss: 0.0061 - accuracy: 0.9608 - val_loss: 0.0916 - val_accuracy: 0.4732 - lr: 0.0010 - 9s/epoch - 50ms/step
Epoch 24/25
176/176 - 9s - loss: 0.0061 - accuracy: 0.9603 - val_loss: 0.0887 - val_accuracy: 0.4905 - lr: 0.0010 - 9s/epoch - 51ms/step
Epoch 25/25
176/176 - 9s - loss: 0.0060 - accuracy: 0.9606 - val_loss: 0.0893 - val_accuracy: 0.4871 - lr: 0.0010 - 9s/epoch - 51ms/step
Epoch 1/25
36/36 - 10s - loss: 0.0055 - accuracy: 0.9648 - val_loss: 0.0934 - val_accuracy: 0.4681 - lr: 0.0010 - 10s/epoch - 281ms/step
Epoch 2/25
36/36 - 8s - loss: 0.0049 - accuracy: 0.9687 - val_loss: 0.0913 - val_accuracy: 0.4769 - lr: 0.0010 - 8s/epoch - 213ms/step
Epoch 3/25
36/36 - 8s - loss: 0.0046 - accuracy: 0.9706 - val_loss: 0.0945 - val_accuracy: 0.4606 - lr: 0.0010 - 8s/epoch - 214ms/step
Epoch 4/25
36/36 - 8s - loss: 0.0045 - accuracy: 0.9713 - val_loss: 0.0952 - val_accuracy: 0.4587 - lr: 0.0010 - 8s/epoch - 215ms/step
Epoch 5/25
36/36 - 8s - loss: 0.0045 - accuracy: 0.9721 - val_loss: 0.0926 - val_accuracy: 0.4715 - lr: 0.0010 - 8s/epoch - 215ms/step
Epoch 6/25
36/36 - 8s - loss: 0.0043 - accuracy: 0.9727 - val_loss: 0.0953 - val_accuracy: 0.4584 - lr: 0.0010 - 8s/epoch - 215ms/step
Epoch 7/25
36/36 - 8s - loss: 0.0043 - accuracy: 0.9731 - val_loss: 0.0970 - val_accuracy: 0.4493 - lr: 0.0010 - 8s/epoch - 214ms/step
Epoch 8/25
36/36 - 8s - loss: 0.0044 - accuracy: 0.9724 - val_loss: 0.0959 - val_accuracy: 0.4556 - lr: 0.0010 - 8s/epoch - 215ms/step
Epoch 9/25
36/36 - 8s - loss: 0.0044 - accuracy: 0.9719 - val_loss: 0.0960 - val_accuracy: 0.4534 - lr: 0.0010 - 8s/epoch - 215ms/step
Epoch 10/25
36/36 - 8s - loss: 0.0043 - accuracy: 0.9727 - val_loss: 0.0948 - val_accuracy: 0.4612 - lr: 0.0010 - 8s/epoch - 215ms/step
Epoch 11/25
36/36 - 8s - loss: 0.0041 - accuracy: 0.9743 - val_loss: 0.0961 - val_accuracy: 0.4537 - lr: 0.0010 - 8s/epoch - 215ms/step
Epoch 12/25
36/36 - 8s - loss: 0.0044 - accuracy: 0.9724 - val_loss: 0.0934 - val_accuracy: 0.4693 - lr: 0.0010 - 8s/epoch - 214ms/step
Epoch 13/25
36/36 - 8s - loss: 0.0044 - accuracy: 0.9723 - val_loss: 0.0941 - val_accuracy: 0.4641 - lr: 0.0010 - 8s/epoch - 214ms/step
Epoch 14/25
36/36 - 8s - loss: 0.0042 - accuracy: 0.9730 - val_loss: 0.0985 - val_accuracy: 0.4427 - lr: 0.0010 - 8s/epoch - 215ms/step
Epoch 15/25
36/36 - 8s - loss: 0.0041 - accuracy: 0.9738 - val_loss: 0.0946 - val_accuracy: 0.4629 - lr: 0.0010 - 8s/epoch - 214ms/step
Epoch 16/25
36/36 - 8s - loss: 0.0043 - accuracy: 0.9731 - val_loss: 0.0962 - val_accuracy: 0.4534 - lr: 0.0010 - 8s/epoch - 215ms/step
Epoch 17/25
36/36 - 8s - loss: 0.0041 - accuracy: 0.9742 - val_loss: 0.0968 - val_accuracy: 0.4520 - lr: 0.0010 - 8s/epoch - 215ms/step
Epoch 18/25
36/36 - 8s - loss: 0.0041 - accuracy: 0.9746 - val_loss: 0.0987 - val_accuracy: 0.4409 - lr: 0.0010 - 8s/epoch - 215ms/step
Epoch 19/25
36/36 - 8s - loss: 0.0041 - accuracy: 0.9742 - val_loss: 0.1010 - val_accuracy: 0.4285 - lr: 0.0010 - 8s/epoch - 215ms/step
Epoch 20/25
36/36 - 8s - loss: 0.0041 - accuracy: 0.9739 - val_loss: 0.0956 - val_accuracy: 0.4614 - lr: 0.0010 - 8s/epoch - 215ms/step
Epoch 21/25
36/36 - 8s - loss: 0.0041 - accuracy: 0.9742 - val_loss: 0.0956 - val_accuracy: 0.4614 - lr: 0.0010 - 8s/epoch - 215ms/step
Epoch 22/25
36/36 - 8s - loss: 0.0042 - accuracy: 0.9736 - val_loss: 0.0961 - val_accuracy: 0.4576 - lr: 0.0010 - 8s/epoch - 215ms/step
Epoch 23/25
36/36 - 8s - loss: 0.0041 - accuracy: 0.9741 - val_loss: 0.0964 - val_accuracy: 0.4558 - lr: 0.0010 - 8s/epoch - 214ms/step
Epoch 24/25
36/36 - 8s - loss: 0.0041 - accuracy: 0.9748 - val_loss: 0.0957 - val_accuracy: 0.4598 - lr: 0.0010 - 8s/epoch - 215ms/step
Epoch 25/25
36/36 - 8s - loss: 0.0039 - accuracy: 0.9755 - val_loss: 0.0963 - val_accuracy: 0.4570 - lr: 0.0010 - 8s/epoch - 215ms/step
Epoch 1/50
4378/4378 - 77s - loss: 0.0163 - accuracy: 0.8916 - val_loss: 0.1178 - val_accuracy: 0.3298 - lr: 0.0010 - 77s/epoch - 18ms/step
Epoch 2/50
4378/4378 - 75s - loss: 0.0167 - accuracy: 0.8846 - val_loss: 0.0808 - val_accuracy: 0.4746 - lr: 0.0010 - 75s/epoch - 17ms/step
Epoch 3/50
4378/4378 - 75s - loss: 0.0168 - accuracy: 0.8839 - val_loss: 0.0786 - val_accuracy: 0.4999 - lr: 0.0010 - 75s/epoch - 17ms/step
Epoch 4/50
4378/4378 - 74s - loss: 0.0172 - accuracy: 0.8817 - val_loss: 0.0964 - val_accuracy: 0.4024 - lr: 0.0010 - 74s/epoch - 17ms/step
Epoch 5/50
4378/4378 - 75s - loss: 0.0173 - accuracy: 0.8809 - val_loss: 0.1090 - val_accuracy: 0.3398 - lr: 0.0010 - 75s/epoch - 17ms/step
Epoch 6/50
4378/4378 - 75s - loss: 0.0175 - accuracy: 0.8795 - val_loss: 0.0889 - val_accuracy: 0.4384 - lr: 0.0010 - 75s/epoch - 17ms/step
Epoch 7/50
4378/4378 - 74s - loss: 0.0176 - accuracy: 0.8793 - val_loss: 0.0747 - val_accuracy: 0.4980 - lr: 0.0010 - 74s/epoch - 17ms/step
Epoch 8/50
4378/4378 - 75s - loss: 0.0173 - accuracy: 0.8823 - val_loss: 0.0679 - val_accuracy: 0.5517 - lr: 0.0010 - 75s/epoch - 17ms/step
Epoch 9/50
4378/4378 - 74s - loss: 0.0175 - accuracy: 0.8800 - val_loss: 0.0843 - val_accuracy: 0.4543 - lr: 0.0010 - 74s/epoch - 17ms/step
Epoch 10/50
4378/4378 - 75s - loss: 0.0175 - accuracy: 0.8791 - val_loss: 0.0765 - val_accuracy: 0.4974 - lr: 0.0010 - 75s/epoch - 17ms/step
Epoch 11/50
4378/4378 - 75s - loss: 0.0176 - accuracy: 0.8796 - val_loss: 0.0774 - val_accuracy: 0.4946 - lr: 0.0010 - 75s/epoch - 17ms/step
Epoch 12/50
4378/4378 - 75s - loss: 0.0174 - accuracy: 0.8801 - val_loss: 0.0721 - val_accuracy: 0.5221 - lr: 0.0010 - 75s/epoch - 17ms/step
Epoch 13/50
4378/4378 - 74s - loss: 0.0175 - accuracy: 0.8788 - val_loss: 0.0742 - val_accuracy: 0.5061 - lr: 0.0010 - 74s/epoch - 17ms/step
Epoch 14/50
4378/4378 - 75s - loss: 0.0174 - accuracy: 0.8802 - val_loss: 0.0751 - val_accuracy: 0.5097 - lr: 0.0010 - 75s/epoch - 17ms/step
Epoch 15/50
4378/4378 - 75s - loss: 0.0174 - accuracy: 0.8811 - val_loss: 0.0675 - val_accuracy: 0.5700 - lr: 0.0010 - 75s/epoch - 17ms/step
Epoch 16/50
4378/4378 - 75s - loss: 0.0175 - accuracy: 0.8797 - val_loss: 0.0759 - val_accuracy: 0.5169 - lr: 0.0010 - 75s/epoch - 17ms/step
Epoch 17/50
4378/4378 - 75s - loss: 0.0175 - accuracy: 0.8797 - val_loss: 0.0619 - val_accuracy: 0.5962 - lr: 0.0010 - 75s/epoch - 17ms/step
Epoch 18/50
4378/4378 - 75s - loss: 0.0176 - accuracy: 0.8796 - val_loss: 0.0669 - val_accuracy: 0.5581 - lr: 0.0010 - 75s/epoch - 17ms/step
Epoch 19/50
4378/4378 - 74s - loss: 0.0175 - accuracy: 0.8795 - val_loss: 0.0553 - val_accuracy: 0.6364 - lr: 0.0010 - 74s/epoch - 17ms/step
Epoch 20/50
4378/4378 - 75s - loss: 0.0175 - accuracy: 0.8800 - val_loss: 0.0932 - val_accuracy: 0.4342 - lr: 0.0010 - 75s/epoch - 17ms/step
Epoch 21/50
4378/4378 - 74s - loss: 0.0177 - accuracy: 0.8790 - val_loss: 0.0765 - val_accuracy: 0.5080 - lr: 0.0010 - 74s/epoch - 17ms/step
Epoch 22/50
4378/4378 - 75s - loss: 0.0175 - accuracy: 0.8800 - val_loss: 0.0701 - val_accuracy: 0.5568 - lr: 0.0010 - 75s/epoch - 17ms/step
Epoch 23/50
4378/4378 - 75s - loss: 0.0180 - accuracy: 0.8764 - val_loss: 0.0580 - val_accuracy: 0.6206 - lr: 0.0010 - 75s/epoch - 17ms/step
Epoch 24/50
4378/4378 - 75s - loss: 0.0177 - accuracy: 0.8779 - val_loss: 0.0568 - val_accuracy: 0.6333 - lr: 0.0010 - 75s/epoch - 17ms/step
Epoch 25/50
4378/4378 - 75s - loss: 0.0173 - accuracy: 0.8812 - val_loss: 0.0621 - val_accuracy: 0.5895 - lr: 0.0010 - 75s/epoch - 17ms/step
Epoch 26/50
4378/4378 - 76s - loss: 0.0174 - accuracy: 0.8799 - val_loss: 0.0707 - val_accuracy: 0.5474 - lr: 0.0010 - 76s/epoch - 17ms/step
Epoch 27/50
4378/4378 - 75s - loss: 0.0176 - accuracy: 0.8788 - val_loss: 0.0689 - val_accuracy: 0.5573 - lr: 0.0010 - 75s/epoch - 17ms/step
Epoch 28/50
4378/4378 - 74s - loss: 0.0177 - accuracy: 0.8794 - val_loss: 0.0663 - val_accuracy: 0.5613 - lr: 0.0010 - 74s/epoch - 17ms/step
Epoch 29/50
4378/4378 - 75s - loss: 0.0176 - accuracy: 0.8792 - val_loss: 0.0652 - val_accuracy: 0.5766 - lr: 0.0010 - 75s/epoch - 17ms/step
Epoch 30/50
4378/4378 - 75s - loss: 0.0179 - accuracy: 0.8762 - val_loss: 0.0689 - val_accuracy: 0.5537 - lr: 0.0010 - 75s/epoch - 17ms/step
Epoch 31/50
4378/4378 - 75s - loss: 0.0177 - accuracy: 0.8781 - val_loss: 0.0662 - val_accuracy: 0.5649 - lr: 0.0010 - 75s/epoch - 17ms/step
Epoch 32/50
4378/4378 - 75s - loss: 0.0178 - accuracy: 0.8788 - val_loss: 0.0685 - val_accuracy: 0.5531 - lr: 0.0010 - 75s/epoch - 17ms/step
Epoch 33/50
4378/4378 - 75s - loss: 0.0176 - accuracy: 0.8793 - val_loss: 0.0541 - val_accuracy: 0.6429 - lr: 0.0010 - 75s/epoch - 17ms/step
Epoch 34/50
4378/4378 - 74s - loss: 0.0179 - accuracy: 0.8776 - val_loss: 0.0709 - val_accuracy: 0.5281 - lr: 0.0010 - 74s/epoch - 17ms/step
Epoch 35/50
4378/4378 - 74s - loss: 0.0176 - accuracy: 0.8794 - val_loss: 0.0583 - val_accuracy: 0.6090 - lr: 0.0010 - 74s/epoch - 17ms/step
Epoch 36/50
4378/4378 - 74s - loss: 0.0176 - accuracy: 0.8796 - val_loss: 0.0802 - val_accuracy: 0.4649 - lr: 0.0010 - 74s/epoch - 17ms/step
Epoch 37/50
4378/4378 - 75s - loss: 0.0174 - accuracy: 0.8820 - val_loss: 0.0661 - val_accuracy: 0.5598 - lr: 0.0010 - 75s/epoch - 17ms/step
Epoch 38/50
4378/4378 - 75s - loss: 0.0174 - accuracy: 0.8812 - val_loss: 0.0654 - val_accuracy: 0.5762 - lr: 0.0010 - 75s/epoch - 17ms/step
Epoch 39/50
4378/4378 - 75s - loss: 0.0175 - accuracy: 0.8802 - val_loss: 0.0702 - val_accuracy: 0.5361 - lr: 0.0010 - 75s/epoch - 17ms/step
Epoch 40/50
4378/4378 - 75s - loss: 0.0173 - accuracy: 0.8813 - val_loss: 0.0553 - val_accuracy: 0.6251 - lr: 0.0010 - 75s/epoch - 17ms/step
Epoch 41/50
4378/4378 - 74s - loss: 0.0177 - accuracy: 0.8784 - val_loss: 0.0625 - val_accuracy: 0.5735 - lr: 0.0010 - 74s/epoch - 17ms/step
Epoch 42/50
4378/4378 - 75s - loss: 0.0176 - accuracy: 0.8792 - val_loss: 0.0714 - val_accuracy: 0.5270 - lr: 0.0010 - 75s/epoch - 17ms/step
Epoch 43/50
4378/4378 - 74s - loss: 0.0177 - accuracy: 0.8788 - val_loss: 0.0572 - val_accuracy: 0.6302 - lr: 0.0010 - 74s/epoch - 17ms/step
Epoch 44/50
4378/4378 - 74s - loss: 0.0175 - accuracy: 0.8801 - val_loss: 0.0578 - val_accuracy: 0.6235 - lr: 0.0010 - 74s/epoch - 17ms/step
Epoch 45/50
4378/4378 - 74s - loss: 0.0177 - accuracy: 0.8798 - val_loss: 0.0657 - val_accuracy: 0.5621 - lr: 0.0010 - 74s/epoch - 17ms/step
Epoch 46/50
4378/4378 - 74s - loss: 0.0174 - accuracy: 0.8810 - val_loss: 0.0631 - val_accuracy: 0.5774 - lr: 0.0010 - 74s/epoch - 17ms/step
Epoch 47/50
4378/4378 - 75s - loss: 0.0177 - accuracy: 0.8794 - val_loss: 0.0629 - val_accuracy: 0.5831 - lr: 0.0010 - 75s/epoch - 17ms/step
Epoch 48/50
4378/4378 - 74s - loss: 0.0175 - accuracy: 0.8804 - val_loss: 0.0611 - val_accuracy: 0.5941 - lr: 0.0010 - 74s/epoch - 17ms/step
Epoch 49/50
4378/4378 - 75s - loss: 0.0175 - accuracy: 0.8809 - val_loss: 0.0587 - val_accuracy: 0.6221 - lr: 0.0010 - 75s/epoch - 17ms/step
Epoch 50/50
4378/4378 - 74s - loss: 0.0172 - accuracy: 0.8823 - val_loss: 0.0615 - val_accuracy: 0.6046 - lr: 0.0010 - 74s/epoch - 17ms/step
Epoch 1/50
876/876 - 21s - loss: 0.0126 - accuracy: 0.9168 - val_loss: 0.0638 - val_accuracy: 0.5994 - lr: 0.0010 - 21s/epoch - 24ms/step
Epoch 2/50
876/876 - 18s - loss: 0.0124 - accuracy: 0.9170 - val_loss: 0.0663 - val_accuracy: 0.5765 - lr: 0.0010 - 18s/epoch - 21ms/step
Epoch 3/50
876/876 - 18s - loss: 0.0122 - accuracy: 0.9181 - val_loss: 0.0626 - val_accuracy: 0.6144 - lr: 0.0010 - 18s/epoch - 21ms/step
Epoch 4/50
876/876 - 18s - loss: 0.0119 - accuracy: 0.9204 - val_loss: 0.0632 - val_accuracy: 0.5991 - lr: 0.0010 - 18s/epoch - 21ms/step
Epoch 5/50
876/876 - 18s - loss: 0.0118 - accuracy: 0.9205 - val_loss: 0.0595 - val_accuracy: 0.6267 - lr: 0.0010 - 18s/epoch - 21ms/step
Epoch 6/50
876/876 - 18s - loss: 0.0117 - accuracy: 0.9223 - val_loss: 0.0702 - val_accuracy: 0.5592 - lr: 0.0010 - 18s/epoch - 21ms/step
Epoch 7/50
876/876 - 18s - loss: 0.0116 - accuracy: 0.9224 - val_loss: 0.0619 - val_accuracy: 0.6241 - lr: 0.0010 - 18s/epoch - 21ms/step
Epoch 8/50
876/876 - 18s - loss: 0.0114 - accuracy: 0.9239 - val_loss: 0.0614 - val_accuracy: 0.6288 - lr: 0.0010 - 18s/epoch - 21ms/step
Epoch 9/50
876/876 - 18s - loss: 0.0114 - accuracy: 0.9234 - val_loss: 0.0615 - val_accuracy: 0.6201 - lr: 0.0010 - 18s/epoch - 21ms/step
Epoch 10/50
876/876 - 18s - loss: 0.0113 - accuracy: 0.9244 - val_loss: 0.0631 - val_accuracy: 0.6094 - lr: 0.0010 - 18s/epoch - 21ms/step
Epoch 11/50
876/876 - 18s - loss: 0.0111 - accuracy: 0.9255 - val_loss: 0.0621 - val_accuracy: 0.6220 - lr: 0.0010 - 18s/epoch - 21ms/step
Epoch 12/50
876/876 - 18s - loss: 0.0111 - accuracy: 0.9256 - val_loss: 0.0617 - val_accuracy: 0.6244 - lr: 0.0010 - 18s/epoch - 21ms/step
Epoch 13/50
876/876 - 18s - loss: 0.0110 - accuracy: 0.9270 - val_loss: 0.0665 - val_accuracy: 0.5971 - lr: 0.0010 - 18s/epoch - 21ms/step
Epoch 14/50
876/876 - 18s - loss: 0.0112 - accuracy: 0.9250 - val_loss: 0.0583 - val_accuracy: 0.6464 - lr: 0.0010 - 18s/epoch - 21ms/step
Epoch 15/50
876/876 - 18s - loss: 0.0110 - accuracy: 0.9266 - val_loss: 0.0611 - val_accuracy: 0.6254 - lr: 0.0010 - 18s/epoch - 21ms/step
Epoch 16/50
876/876 - 18s - loss: 0.0108 - accuracy: 0.9278 - val_loss: 0.0609 - val_accuracy: 0.6326 - lr: 0.0010 - 18s/epoch - 21ms/step
Epoch 17/50
876/876 - 18s - loss: 0.0110 - accuracy: 0.9270 - val_loss: 0.0694 - val_accuracy: 0.5702 - lr: 0.0010 - 18s/epoch - 21ms/step
Epoch 18/50
876/876 - 18s - loss: 0.0108 - accuracy: 0.9281 - val_loss: 0.0687 - val_accuracy: 0.5850 - lr: 0.0010 - 18s/epoch - 21ms/step
Epoch 19/50
876/876 - 18s - loss: 0.0109 - accuracy: 0.9280 - val_loss: 0.0634 - val_accuracy: 0.6191 - lr: 0.0010 - 18s/epoch - 21ms/step
Epoch 20/50
876/876 - 18s - loss: 0.0109 - accuracy: 0.9272 - val_loss: 0.0643 - val_accuracy: 0.6084 - lr: 0.0010 - 18s/epoch - 21ms/step
Epoch 21/50
876/876 - 18s - loss: 0.0107 - accuracy: 0.9292 - val_loss: 0.0581 - val_accuracy: 0.6497 - lr: 0.0010 - 18s/epoch - 21ms/step
Epoch 22/50
876/876 - 18s - loss: 0.0106 - accuracy: 0.9300 - val_loss: 0.0666 - val_accuracy: 0.5987 - lr: 0.0010 - 18s/epoch - 21ms/step
Epoch 23/50
876/876 - 18s - loss: 0.0106 - accuracy: 0.9296 - val_loss: 0.0657 - val_accuracy: 0.6047 - lr: 0.0010 - 18s/epoch - 21ms/step
Epoch 24/50
876/876 - 18s - loss: 0.0106 - accuracy: 0.9302 - val_loss: 0.0724 - val_accuracy: 0.5574 - lr: 0.0010 - 18s/epoch - 21ms/step
Epoch 25/50
876/876 - 18s - loss: 0.0106 - accuracy: 0.9302 - val_loss: 0.0658 - val_accuracy: 0.6053 - lr: 0.0010 - 18s/epoch - 21ms/step
Epoch 26/50
876/876 - 18s - loss: 0.0105 - accuracy: 0.9311 - val_loss: 0.0642 - val_accuracy: 0.6091 - lr: 0.0010 - 18s/epoch - 21ms/step
Epoch 27/50
876/876 - 18s - loss: 0.0107 - accuracy: 0.9293 - val_loss: 0.0616 - val_accuracy: 0.6284 - lr: 0.0010 - 18s/epoch - 21ms/step
Epoch 28/50
876/876 - 18s - loss: 0.0104 - accuracy: 0.9307 - val_loss: 0.0675 - val_accuracy: 0.5953 - lr: 0.0010 - 18s/epoch - 21ms/step
Epoch 29/50
876/876 - 18s - loss: 0.0105 - accuracy: 0.9305 - val_loss: 0.0679 - val_accuracy: 0.5884 - lr: 0.0010 - 18s/epoch - 21ms/step
Epoch 30/50
876/876 - 18s - loss: 0.0106 - accuracy: 0.9299 - val_loss: 0.0719 - val_accuracy: 0.5600 - lr: 0.0010 - 18s/epoch - 21ms/step
Epoch 31/50
876/876 - 18s - loss: 0.0103 - accuracy: 0.9313 - val_loss: 0.0733 - val_accuracy: 0.5464 - lr: 0.0010 - 18s/epoch - 21ms/step
Epoch 32/50
876/876 - 18s - loss: 0.0104 - accuracy: 0.9312 - val_loss: 0.0604 - val_accuracy: 0.6374 - lr: 0.0010 - 18s/epoch - 21ms/step
Epoch 33/50
876/876 - 18s - loss: 0.0103 - accuracy: 0.9321 - val_loss: 0.0637 - val_accuracy: 0.6090 - lr: 0.0010 - 18s/epoch - 21ms/step
Epoch 34/50
876/876 - 18s - loss: 0.0104 - accuracy: 0.9311 - val_loss: 0.0685 - val_accuracy: 0.5866 - lr: 0.0010 - 18s/epoch - 21ms/step
Epoch 35/50
876/876 - 18s - loss: 0.0105 - accuracy: 0.9304 - val_loss: 0.0592 - val_accuracy: 0.6467 - lr: 0.0010 - 18s/epoch - 21ms/step
Epoch 36/50
876/876 - 18s - loss: 0.0104 - accuracy: 0.9309 - val_loss: 0.0643 - val_accuracy: 0.6101 - lr: 0.0010 - 18s/epoch - 21ms/step
Epoch 37/50
876/876 - 18s - loss: 0.0105 - accuracy: 0.9302 - val_loss: 0.0667 - val_accuracy: 0.5917 - lr: 0.0010 - 18s/epoch - 21ms/step
Epoch 38/50
876/876 - 18s - loss: 0.0103 - accuracy: 0.9323 - val_loss: 0.0607 - val_accuracy: 0.6356 - lr: 0.0010 - 18s/epoch - 21ms/step
Epoch 39/50
876/876 - 18s - loss: 0.0104 - accuracy: 0.9323 - val_loss: 0.0592 - val_accuracy: 0.6432 - lr: 0.0010 - 18s/epoch - 21ms/step
Epoch 40/50
876/876 - 18s - loss: 0.0104 - accuracy: 0.9308 - val_loss: 0.0712 - val_accuracy: 0.5562 - lr: 0.0010 - 18s/epoch - 21ms/step
Epoch 41/50
876/876 - 18s - loss: 0.0102 - accuracy: 0.9327 - val_loss: 0.0641 - val_accuracy: 0.6119 - lr: 0.0010 - 18s/epoch - 21ms/step
Epoch 42/50
876/876 - 18s - loss: 0.0104 - accuracy: 0.9305 - val_loss: 0.0598 - val_accuracy: 0.6392 - lr: 0.0010 - 18s/epoch - 21ms/step
Epoch 43/50
876/876 - 18s - loss: 0.0102 - accuracy: 0.9331 - val_loss: 0.0632 - val_accuracy: 0.6226 - lr: 0.0010 - 18s/epoch - 21ms/step
Epoch 44/50
876/876 - 18s - loss: 0.0102 - accuracy: 0.9328 - val_loss: 0.0671 - val_accuracy: 0.5955 - lr: 0.0010 - 18s/epoch - 21ms/step
Epoch 45/50
876/876 - 18s - loss: 0.0099 - accuracy: 0.9347 - val_loss: 0.0696 - val_accuracy: 0.5788 - lr: 0.0010 - 18s/epoch - 21ms/step
Epoch 46/50
876/876 - 18s - loss: 0.0104 - accuracy: 0.9309 - val_loss: 0.0604 - val_accuracy: 0.6404 - lr: 0.0010 - 18s/epoch - 21ms/step
Epoch 47/50
876/876 - 18s - loss: 0.0103 - accuracy: 0.9317 - val_loss: 0.0605 - val_accuracy: 0.6376 - lr: 0.0010 - 18s/epoch - 21ms/step
Epoch 48/50
876/876 - 18s - loss: 0.0102 - accuracy: 0.9326 - val_loss: 0.0646 - val_accuracy: 0.6102 - lr: 0.0010 - 18s/epoch - 21ms/step
Epoch 49/50
876/876 - 18s - loss: 0.0099 - accuracy: 0.9346 - val_loss: 0.0683 - val_accuracy: 0.5820 - lr: 0.0010 - 18s/epoch - 21ms/step
Epoch 50/50
876/876 - 18s - loss: 0.0101 - accuracy: 0.9331 - val_loss: 0.0662 - val_accuracy: 0.6001 - lr: 0.0010 - 18s/epoch - 21ms/step
Epoch 1/50
176/176 - 11s - loss: 0.0076 - accuracy: 0.9513 - val_loss: 0.0670 - val_accuracy: 0.5921 - lr: 0.0010 - 11s/epoch - 65ms/step
Epoch 2/50
176/176 - 9s - loss: 0.0066 - accuracy: 0.9577 - val_loss: 0.0708 - val_accuracy: 0.5740 - lr: 0.0010 - 9s/epoch - 50ms/step
Epoch 3/50
176/176 - 9s - loss: 0.0063 - accuracy: 0.9606 - val_loss: 0.0655 - val_accuracy: 0.6097 - lr: 0.0010 - 9s/epoch - 50ms/step
Epoch 4/50
176/176 - 9s - loss: 0.0062 - accuracy: 0.9608 - val_loss: 0.0695 - val_accuracy: 0.5855 - lr: 0.0010 - 9s/epoch - 50ms/step
Epoch 5/50
176/176 - 9s - loss: 0.0065 - accuracy: 0.9584 - val_loss: 0.0718 - val_accuracy: 0.5734 - lr: 0.0010 - 9s/epoch - 50ms/step
Epoch 6/50
176/176 - 9s - loss: 0.0067 - accuracy: 0.9573 - val_loss: 0.0688 - val_accuracy: 0.5935 - lr: 0.0010 - 9s/epoch - 50ms/step
Epoch 7/50
176/176 - 9s - loss: 0.0067 - accuracy: 0.9567 - val_loss: 0.0761 - val_accuracy: 0.5498 - lr: 0.0010 - 9s/epoch - 50ms/step
Epoch 8/50
176/176 - 9s - loss: 0.0066 - accuracy: 0.9575 - val_loss: 0.0675 - val_accuracy: 0.5998 - lr: 0.0010 - 9s/epoch - 51ms/step
Epoch 9/50
176/176 - 9s - loss: 0.0064 - accuracy: 0.9592 - val_loss: 0.0764 - val_accuracy: 0.5498 - lr: 0.0010 - 9s/epoch - 50ms/step
Epoch 10/50
176/176 - 9s - loss: 0.0066 - accuracy: 0.9579 - val_loss: 0.0686 - val_accuracy: 0.6014 - lr: 0.0010 - 9s/epoch - 50ms/step
Epoch 11/50
176/176 - 9s - loss: 0.0066 - accuracy: 0.9575 - val_loss: 0.0734 - val_accuracy: 0.5722 - lr: 0.0010 - 9s/epoch - 50ms/step
Epoch 12/50
176/176 - 9s - loss: 0.0067 - accuracy: 0.9572 - val_loss: 0.0683 - val_accuracy: 0.5970 - lr: 0.0010 - 9s/epoch - 50ms/step
Epoch 13/50
176/176 - 9s - loss: 0.0066 - accuracy: 0.9572 - val_loss: 0.0732 - val_accuracy: 0.5697 - lr: 0.0010 - 9s/epoch - 51ms/step
Epoch 14/50
176/176 - 9s - loss: 0.0065 - accuracy: 0.9583 - val_loss: 0.0737 - val_accuracy: 0.5693 - lr: 0.0010 - 9s/epoch - 50ms/step
Epoch 15/50
176/176 - 9s - loss: 0.0065 - accuracy: 0.9587 - val_loss: 0.0739 - val_accuracy: 0.5648 - lr: 0.0010 - 9s/epoch - 50ms/step
Epoch 16/50
176/176 - 9s - loss: 0.0064 - accuracy: 0.9586 - val_loss: 0.0734 - val_accuracy: 0.5720 - lr: 0.0010 - 9s/epoch - 50ms/step
Epoch 17/50
176/176 - 9s - loss: 0.0065 - accuracy: 0.9583 - val_loss: 0.0824 - val_accuracy: 0.5175 - lr: 0.0010 - 9s/epoch - 50ms/step
Epoch 18/50
176/176 - 9s - loss: 0.0066 - accuracy: 0.9577 - val_loss: 0.0700 - val_accuracy: 0.5935 - lr: 0.0010 - 9s/epoch - 51ms/step
Epoch 19/50
176/176 - 9s - loss: 0.0064 - accuracy: 0.9588 - val_loss: 0.0771 - val_accuracy: 0.5515 - lr: 0.0010 - 9s/epoch - 50ms/step
Epoch 20/50
176/176 - 9s - loss: 0.0061 - accuracy: 0.9611 - val_loss: 0.0740 - val_accuracy: 0.5683 - lr: 0.0010 - 9s/epoch - 50ms/step
Epoch 21/50
176/176 - 9s - loss: 0.0060 - accuracy: 0.9615 - val_loss: 0.0704 - val_accuracy: 0.5952 - lr: 0.0010 - 9s/epoch - 50ms/step
Epoch 22/50
176/176 - 9s - loss: 0.0062 - accuracy: 0.9608 - val_loss: 0.0683 - val_accuracy: 0.6069 - lr: 0.0010 - 9s/epoch - 51ms/step
Epoch 23/50
176/176 - 9s - loss: 0.0058 - accuracy: 0.9632 - val_loss: 0.0763 - val_accuracy: 0.5558 - lr: 0.0010 - 9s/epoch - 50ms/step
Epoch 24/50
176/176 - 9s - loss: 0.0058 - accuracy: 0.9627 - val_loss: 0.0683 - val_accuracy: 0.6042 - lr: 0.0010 - 9s/epoch - 50ms/step
Epoch 25/50
176/176 - 9s - loss: 0.0060 - accuracy: 0.9616 - val_loss: 0.0746 - val_accuracy: 0.5662 - lr: 0.0010 - 9s/epoch - 50ms/step
Epoch 26/50
176/176 - 9s - loss: 0.0059 - accuracy: 0.9625 - val_loss: 0.0780 - val_accuracy: 0.5466 - lr: 0.0010 - 9s/epoch - 50ms/step
Epoch 27/50
176/176 - 9s - loss: 0.0057 - accuracy: 0.9641 - val_loss: 0.0784 - val_accuracy: 0.5460 - lr: 0.0010 - 9s/epoch - 50ms/step
Epoch 28/50
176/176 - 9s - loss: 0.0059 - accuracy: 0.9630 - val_loss: 0.0772 - val_accuracy: 0.5523 - lr: 0.0010 - 9s/epoch - 51ms/step
Epoch 29/50
176/176 - 9s - loss: 0.0057 - accuracy: 0.9641 - val_loss: 0.0767 - val_accuracy: 0.5595 - lr: 0.0010 - 9s/epoch - 50ms/step
Epoch 30/50
176/176 - 9s - loss: 0.0058 - accuracy: 0.9632 - val_loss: 0.0835 - val_accuracy: 0.5196 - lr: 0.0010 - 9s/epoch - 50ms/step
Epoch 31/50
176/176 - 9s - loss: 0.0056 - accuracy: 0.9644 - val_loss: 0.0718 - val_accuracy: 0.5836 - lr: 0.0010 - 9s/epoch - 50ms/step
Epoch 32/50
176/176 - 9s - loss: 0.0058 - accuracy: 0.9630 - val_loss: 0.0765 - val_accuracy: 0.5573 - lr: 0.0010 - 9s/epoch - 50ms/step
Epoch 33/50
176/176 - 9s - loss: 0.0059 - accuracy: 0.9621 - val_loss: 0.0716 - val_accuracy: 0.5877 - lr: 0.0010 - 9s/epoch - 50ms/step
Epoch 34/50
176/176 - 9s - loss: 0.0059 - accuracy: 0.9625 - val_loss: 0.0705 - val_accuracy: 0.5935 - lr: 0.0010 - 9s/epoch - 51ms/step
Epoch 35/50
176/176 - 9s - loss: 0.0060 - accuracy: 0.9621 - val_loss: 0.0707 - val_accuracy: 0.5911 - lr: 0.0010 - 9s/epoch - 50ms/step
Epoch 36/50
176/176 - 9s - loss: 0.0058 - accuracy: 0.9634 - val_loss: 0.0708 - val_accuracy: 0.5959 - lr: 0.0010 - 9s/epoch - 50ms/step
Epoch 37/50
176/176 - 9s - loss: 0.0057 - accuracy: 0.9641 - val_loss: 0.0681 - val_accuracy: 0.6094 - lr: 0.0010 - 9s/epoch - 51ms/step
Epoch 38/50
176/176 - 9s - loss: 0.0057 - accuracy: 0.9639 - val_loss: 0.0799 - val_accuracy: 0.5361 - lr: 0.0010 - 9s/epoch - 50ms/step
Epoch 39/50
176/176 - 9s - loss: 0.0056 - accuracy: 0.9642 - val_loss: 0.0756 - val_accuracy: 0.5635 - lr: 0.0010 - 9s/epoch - 50ms/step
Epoch 40/50
176/176 - 9s - loss: 0.0059 - accuracy: 0.9625 - val_loss: 0.0732 - val_accuracy: 0.5839 - lr: 0.0010 - 9s/epoch - 51ms/step
Epoch 41/50
176/176 - 9s - loss: 0.0062 - accuracy: 0.9601 - val_loss: 0.0743 - val_accuracy: 0.5733 - lr: 0.0010 - 9s/epoch - 50ms/step
Epoch 42/50
176/176 - 9s - loss: 0.0061 - accuracy: 0.9612 - val_loss: 0.0738 - val_accuracy: 0.5760 - lr: 0.0010 - 9s/epoch - 50ms/step
Epoch 43/50
176/176 - 9s - loss: 0.0061 - accuracy: 0.9612 - val_loss: 0.0797 - val_accuracy: 0.5376 - lr: 0.0010 - 9s/epoch - 50ms/step
Epoch 44/50
176/176 - 9s - loss: 0.0061 - accuracy: 0.9609 - val_loss: 0.0776 - val_accuracy: 0.5517 - lr: 0.0010 - 9s/epoch - 50ms/step
Epoch 45/50
176/176 - 9s - loss: 0.0060 - accuracy: 0.9623 - val_loss: 0.0809 - val_accuracy: 0.5323 - lr: 0.0010 - 9s/epoch - 50ms/step
Epoch 46/50
176/176 - 9s - loss: 0.0060 - accuracy: 0.9618 - val_loss: 0.0826 - val_accuracy: 0.5242 - lr: 0.0010 - 9s/epoch - 51ms/step
Epoch 47/50
176/176 - 9s - loss: 0.0060 - accuracy: 0.9617 - val_loss: 0.0769 - val_accuracy: 0.5537 - lr: 0.0010 - 9s/epoch - 51ms/step
Epoch 48/50
176/176 - 9s - loss: 0.0060 - accuracy: 0.9616 - val_loss: 0.0786 - val_accuracy: 0.5433 - lr: 0.0010 - 9s/epoch - 50ms/step
Epoch 49/50
176/176 - 9s - loss: 0.0059 - accuracy: 0.9617 - val_loss: 0.0770 - val_accuracy: 0.5524 - lr: 0.0010 - 9s/epoch - 51ms/step
Epoch 50/50
176/176 - 9s - loss: 0.0058 - accuracy: 0.9636 - val_loss: 0.0728 - val_accuracy: 0.5786 - lr: 0.0010 - 9s/epoch - 50ms/step
Epoch 1/50
36/36 - 10s - loss: 0.0052 - accuracy: 0.9672 - val_loss: 0.0753 - val_accuracy: 0.5645 - lr: 0.0010 - 10s/epoch - 282ms/step
Epoch 2/50
36/36 - 8s - loss: 0.0048 - accuracy: 0.9706 - val_loss: 0.0738 - val_accuracy: 0.5713 - lr: 0.0010 - 8s/epoch - 214ms/step
Epoch 3/50
36/36 - 8s - loss: 0.0046 - accuracy: 0.9716 - val_loss: 0.0743 - val_accuracy: 0.5708 - lr: 0.0010 - 8s/epoch - 214ms/step
Epoch 4/50
36/36 - 8s - loss: 0.0046 - accuracy: 0.9718 - val_loss: 0.0749 - val_accuracy: 0.5669 - lr: 0.0010 - 8s/epoch - 214ms/step
Epoch 5/50
36/36 - 8s - loss: 0.0047 - accuracy: 0.9707 - val_loss: 0.0755 - val_accuracy: 0.5641 - lr: 0.0010 - 8s/epoch - 214ms/step
Epoch 6/50
36/36 - 8s - loss: 0.0045 - accuracy: 0.9723 - val_loss: 0.0752 - val_accuracy: 0.5646 - lr: 0.0010 - 8s/epoch - 214ms/step
Epoch 7/50
36/36 - 8s - loss: 0.0043 - accuracy: 0.9734 - val_loss: 0.0755 - val_accuracy: 0.5631 - lr: 0.0010 - 8s/epoch - 215ms/step
Epoch 8/50
36/36 - 8s - loss: 0.0044 - accuracy: 0.9725 - val_loss: 0.0792 - val_accuracy: 0.5436 - lr: 0.0010 - 8s/epoch - 214ms/step
Epoch 9/50
36/36 - 8s - loss: 0.0043 - accuracy: 0.9741 - val_loss: 0.0765 - val_accuracy: 0.5588 - lr: 0.0010 - 8s/epoch - 216ms/step
Epoch 10/50
36/36 - 8s - loss: 0.0043 - accuracy: 0.9735 - val_loss: 0.0763 - val_accuracy: 0.5588 - lr: 0.0010 - 8s/epoch - 215ms/step
Epoch 11/50
36/36 - 8s - loss: 0.0043 - accuracy: 0.9731 - val_loss: 0.0768 - val_accuracy: 0.5552 - lr: 0.0010 - 8s/epoch - 215ms/step
Epoch 12/50
36/36 - 8s - loss: 0.0044 - accuracy: 0.9730 - val_loss: 0.0755 - val_accuracy: 0.5623 - lr: 0.0010 - 8s/epoch - 214ms/step
Epoch 13/50
36/36 - 8s - loss: 0.0042 - accuracy: 0.9747 - val_loss: 0.0756 - val_accuracy: 0.5631 - lr: 0.0010 - 8s/epoch - 214ms/step
Epoch 14/50
36/36 - 8s - loss: 0.0042 - accuracy: 0.9745 - val_loss: 0.0773 - val_accuracy: 0.5542 - lr: 0.0010 - 8s/epoch - 215ms/step
Epoch 15/50
36/36 - 8s - loss: 0.0042 - accuracy: 0.9746 - val_loss: 0.0771 - val_accuracy: 0.5555 - lr: 0.0010 - 8s/epoch - 215ms/step
Epoch 16/50
36/36 - 8s - loss: 0.0042 - accuracy: 0.9739 - val_loss: 0.0779 - val_accuracy: 0.5499 - lr: 0.0010 - 8s/epoch - 215ms/step
Epoch 17/50
36/36 - 8s - loss: 0.0041 - accuracy: 0.9752 - val_loss: 0.0754 - val_accuracy: 0.5658 - lr: 0.0010 - 8s/epoch - 215ms/step
Epoch 18/50
36/36 - 8s - loss: 0.0041 - accuracy: 0.9750 - val_loss: 0.0770 - val_accuracy: 0.5555 - lr: 0.0010 - 8s/epoch - 215ms/step
Epoch 19/50
36/36 - 8s - loss: 0.0041 - accuracy: 0.9751 - val_loss: 0.0791 - val_accuracy: 0.5449 - lr: 0.0010 - 8s/epoch - 214ms/step
Epoch 20/50
36/36 - 8s - loss: 0.0041 - accuracy: 0.9746 - val_loss: 0.0777 - val_accuracy: 0.5535 - lr: 0.0010 - 8s/epoch - 215ms/step
Epoch 21/50
36/36 - 8s - loss: 0.0041 - accuracy: 0.9745 - val_loss: 0.0816 - val_accuracy: 0.5305 - lr: 0.0010 - 8s/epoch - 214ms/step
Epoch 22/50
36/36 - 8s - loss: 0.0044 - accuracy: 0.9721 - val_loss: 0.0797 - val_accuracy: 0.5419 - lr: 0.0010 - 8s/epoch - 215ms/step
Epoch 23/50
36/36 - 8s - loss: 0.0041 - accuracy: 0.9751 - val_loss: 0.0795 - val_accuracy: 0.5420 - lr: 0.0010 - 8s/epoch - 215ms/step
Epoch 24/50
36/36 - 8s - loss: 0.0041 - accuracy: 0.9754 - val_loss: 0.0812 - val_accuracy: 0.5345 - lr: 0.0010 - 8s/epoch - 215ms/step
Epoch 25/50
36/36 - 8s - loss: 0.0042 - accuracy: 0.9740 - val_loss: 0.0821 - val_accuracy: 0.5289 - lr: 0.0010 - 8s/epoch - 216ms/step
Epoch 26/50
36/36 - 8s - loss: 0.0042 - accuracy: 0.9744 - val_loss: 0.0813 - val_accuracy: 0.5327 - lr: 0.0010 - 8s/epoch - 214ms/step
Epoch 27/50
36/36 - 8s - loss: 0.0041 - accuracy: 0.9753 - val_loss: 0.0816 - val_accuracy: 0.5338 - lr: 0.0010 - 8s/epoch - 215ms/step
Epoch 28/50
36/36 - 8s - loss: 0.0040 - accuracy: 0.9752 - val_loss: 0.0787 - val_accuracy: 0.5485 - lr: 0.0010 - 8s/epoch - 215ms/step
Epoch 29/50
36/36 - 8s - loss: 0.0040 - accuracy: 0.9756 - val_loss: 0.0802 - val_accuracy: 0.5408 - lr: 0.0010 - 8s/epoch - 214ms/step
Epoch 30/50
36/36 - 8s - loss: 0.0041 - accuracy: 0.9749 - val_loss: 0.0803 - val_accuracy: 0.5409 - lr: 0.0010 - 8s/epoch - 215ms/step
Epoch 31/50
36/36 - 8s - loss: 0.0042 - accuracy: 0.9744 - val_loss: 0.0819 - val_accuracy: 0.5313 - lr: 0.0010 - 8s/epoch - 215ms/step
Epoch 32/50
36/36 - 8s - loss: 0.0040 - accuracy: 0.9757 - val_loss: 0.0800 - val_accuracy: 0.5430 - lr: 0.0010 - 8s/epoch - 215ms/step
Epoch 33/50
36/36 - 8s - loss: 0.0040 - accuracy: 0.9756 - val_loss: 0.0819 - val_accuracy: 0.5326 - lr: 0.0010 - 8s/epoch - 215ms/step
Epoch 34/50
36/36 - 8s - loss: 0.0040 - accuracy: 0.9752 - val_loss: 0.0810 - val_accuracy: 0.5364 - lr: 0.0010 - 8s/epoch - 215ms/step
Epoch 35/50
36/36 - 8s - loss: 0.0041 - accuracy: 0.9751 - val_loss: 0.0825 - val_accuracy: 0.5301 - lr: 0.0010 - 8s/epoch - 215ms/step
Epoch 36/50
36/36 - 8s - loss: 0.0039 - accuracy: 0.9761 - val_loss: 0.0799 - val_accuracy: 0.5449 - lr: 0.0010 - 8s/epoch - 214ms/step
Epoch 37/50
36/36 - 8s - loss: 0.0041 - accuracy: 0.9752 - val_loss: 0.0803 - val_accuracy: 0.5415 - lr: 0.0010 - 8s/epoch - 215ms/step
Epoch 38/50
36/36 - 8s - loss: 0.0040 - accuracy: 0.9756 - val_loss: 0.0811 - val_accuracy: 0.5375 - lr: 0.0010 - 8s/epoch - 215ms/step
Epoch 39/50
36/36 - 8s - loss: 0.0039 - accuracy: 0.9762 - val_loss: 0.0795 - val_accuracy: 0.5452 - lr: 0.0010 - 8s/epoch - 215ms/step
Epoch 40/50
36/36 - 8s - loss: 0.0038 - accuracy: 0.9766 - val_loss: 0.0792 - val_accuracy: 0.5484 - lr: 0.0010 - 8s/epoch - 215ms/step
Epoch 41/50
36/36 - 8s - loss: 0.0039 - accuracy: 0.9759 - val_loss: 0.0806 - val_accuracy: 0.5418 - lr: 0.0010 - 8s/epoch - 215ms/step
Epoch 42/50
36/36 - 8s - loss: 0.0039 - accuracy: 0.9759 - val_loss: 0.0827 - val_accuracy: 0.5294 - lr: 0.0010 - 8s/epoch - 215ms/step
Epoch 43/50
36/36 - 8s - loss: 0.0040 - accuracy: 0.9748 - val_loss: 0.0813 - val_accuracy: 0.5358 - lr: 0.0010 - 8s/epoch - 216ms/step
Epoch 44/50
36/36 - 8s - loss: 0.0041 - accuracy: 0.9752 - val_loss: 0.0806 - val_accuracy: 0.5403 - lr: 0.0010 - 8s/epoch - 216ms/step
Epoch 45/50
36/36 - 8s - loss: 0.0040 - accuracy: 0.9752 - val_loss: 0.0800 - val_accuracy: 0.5436 - lr: 0.0010 - 8s/epoch - 215ms/step
Epoch 46/50
36/36 - 8s - loss: 0.0040 - accuracy: 0.9758 - val_loss: 0.0814 - val_accuracy: 0.5362 - lr: 0.0010 - 8s/epoch - 215ms/step
Epoch 47/50
36/36 - 8s - loss: 0.0041 - accuracy: 0.9754 - val_loss: 0.0797 - val_accuracy: 0.5456 - lr: 0.0010 - 8s/epoch - 215ms/step
Epoch 48/50
36/36 - 8s - loss: 0.0040 - accuracy: 0.9755 - val_loss: 0.0796 - val_accuracy: 0.5486 - lr: 0.0010 - 8s/epoch - 214ms/step
Epoch 49/50
36/36 - 8s - loss: 0.0040 - accuracy: 0.9754 - val_loss: 0.0794 - val_accuracy: 0.5481 - lr: 0.0010 - 8s/epoch - 216ms/step
Epoch 50/50
36/36 - 8s - loss: 0.0040 - accuracy: 0.9758 - val_loss: 0.0781 - val_accuracy: 0.5554 - lr: 0.0010 - 8s/epoch - 215ms/step
Epoch 1/75
4378/4378 - 77s - loss: 0.0157 - accuracy: 0.8975 - val_loss: 0.0770 - val_accuracy: 0.5385 - lr: 0.0010 - 77s/epoch - 18ms/step
Epoch 2/75
4378/4378 - 75s - loss: 0.0163 - accuracy: 0.8898 - val_loss: 0.0656 - val_accuracy: 0.5842 - lr: 0.0010 - 75s/epoch - 17ms/step
Epoch 3/75
4378/4378 - 75s - loss: 0.0164 - accuracy: 0.8886 - val_loss: 0.0620 - val_accuracy: 0.6093 - lr: 0.0010 - 75s/epoch - 17ms/step
Epoch 4/75
4378/4378 - 75s - loss: 0.0164 - accuracy: 0.8879 - val_loss: 0.0561 - val_accuracy: 0.6493 - lr: 0.0010 - 75s/epoch - 17ms/step
Epoch 5/75
4378/4378 - 75s - loss: 0.0166 - accuracy: 0.8869 - val_loss: 0.0676 - val_accuracy: 0.5569 - lr: 0.0010 - 75s/epoch - 17ms/step
Epoch 6/75
4378/4378 - 75s - loss: 0.0167 - accuracy: 0.8866 - val_loss: 0.0639 - val_accuracy: 0.5879 - lr: 0.0010 - 75s/epoch - 17ms/step
Epoch 7/75
4378/4378 - 75s - loss: 0.0165 - accuracy: 0.8867 - val_loss: 0.0651 - val_accuracy: 0.5793 - lr: 0.0010 - 75s/epoch - 17ms/step
Epoch 8/75
4378/4378 - 74s - loss: 0.0169 - accuracy: 0.8845 - val_loss: 0.0540 - val_accuracy: 0.6486 - lr: 0.0010 - 74s/epoch - 17ms/step
Epoch 9/75
4378/4378 - 75s - loss: 0.0170 - accuracy: 0.8836 - val_loss: 0.0597 - val_accuracy: 0.6189 - lr: 0.0010 - 75s/epoch - 17ms/step
Epoch 10/75
4378/4378 - 75s - loss: 0.0169 - accuracy: 0.8848 - val_loss: 0.0721 - val_accuracy: 0.5298 - lr: 0.0010 - 75s/epoch - 17ms/step
Epoch 11/75
4378/4378 - 74s - loss: 0.0169 - accuracy: 0.8850 - val_loss: 0.0685 - val_accuracy: 0.5587 - lr: 0.0010 - 74s/epoch - 17ms/step
Epoch 12/75
4378/4378 - 75s - loss: 0.0168 - accuracy: 0.8856 - val_loss: 0.0642 - val_accuracy: 0.5788 - lr: 0.0010 - 75s/epoch - 17ms/step
Epoch 13/75
4378/4378 - 75s - loss: 0.0169 - accuracy: 0.8842 - val_loss: 0.0649 - val_accuracy: 0.5861 - lr: 0.0010 - 75s/epoch - 17ms/step
Epoch 14/75
4378/4378 - 75s - loss: 0.0171 - accuracy: 0.8826 - val_loss: 0.0646 - val_accuracy: 0.5788 - lr: 0.0010 - 75s/epoch - 17ms/step
Epoch 15/75
4378/4378 - 75s - loss: 0.0169 - accuracy: 0.8849 - val_loss: 0.0758 - val_accuracy: 0.5090 - lr: 0.0010 - 75s/epoch - 17ms/step
Epoch 16/75
4378/4378 - 75s - loss: 0.0171 - accuracy: 0.8823 - val_loss: 0.0614 - val_accuracy: 0.5979 - lr: 0.0010 - 75s/epoch - 17ms/step
Epoch 17/75
4378/4378 - 75s - loss: 0.0171 - accuracy: 0.8838 - val_loss: 0.0661 - val_accuracy: 0.5631 - lr: 0.0010 - 75s/epoch - 17ms/step
Epoch 18/75
4378/4378 - 74s - loss: 0.0169 - accuracy: 0.8842 - val_loss: 0.0581 - val_accuracy: 0.6296 - lr: 0.0010 - 74s/epoch - 17ms/step
Epoch 19/75
4378/4378 - 75s - loss: 0.0170 - accuracy: 0.8837 - val_loss: 0.0552 - val_accuracy: 0.6391 - lr: 0.0010 - 75s/epoch - 17ms/step
Epoch 20/75
4378/4378 - 74s - loss: 0.0169 - accuracy: 0.8849 - val_loss: 0.0743 - val_accuracy: 0.5299 - lr: 0.0010 - 74s/epoch - 17ms/step
Epoch 21/75
4378/4378 - 75s - loss: 0.0171 - accuracy: 0.8826 - val_loss: 0.0575 - val_accuracy: 0.6341 - lr: 0.0010 - 75s/epoch - 17ms/step
Epoch 22/75
4378/4378 - 75s - loss: 0.0171 - accuracy: 0.8832 - val_loss: 0.0713 - val_accuracy: 0.5317 - lr: 0.0010 - 75s/epoch - 17ms/step
Epoch 23/75
4378/4378 - 75s - loss: 0.0172 - accuracy: 0.8811 - val_loss: 0.0513 - val_accuracy: 0.6634 - lr: 0.0010 - 75s/epoch - 17ms/step
Epoch 24/75
4378/4378 - 74s - loss: 0.0169 - accuracy: 0.8845 - val_loss: 0.0568 - val_accuracy: 0.6250 - lr: 0.0010 - 74s/epoch - 17ms/step
Epoch 25/75
4378/4378 - 75s - loss: 0.0171 - accuracy: 0.8832 - val_loss: 0.0618 - val_accuracy: 0.6063 - lr: 0.0010 - 75s/epoch - 17ms/step
Epoch 26/75
4378/4378 - 74s - loss: 0.0170 - accuracy: 0.8839 - val_loss: 0.0643 - val_accuracy: 0.5883 - lr: 0.0010 - 74s/epoch - 17ms/step
Epoch 27/75
4378/4378 - 74s - loss: 0.0172 - accuracy: 0.8827 - val_loss: 0.0626 - val_accuracy: 0.5995 - lr: 0.0010 - 74s/epoch - 17ms/step
Epoch 28/75
4378/4378 - 75s - loss: 0.0172 - accuracy: 0.8825 - val_loss: 0.0598 - val_accuracy: 0.6060 - lr: 0.0010 - 75s/epoch - 17ms/step
Epoch 29/75
4378/4378 - 74s - loss: 0.0171 - accuracy: 0.8840 - val_loss: 0.0704 - val_accuracy: 0.5354 - lr: 0.0010 - 74s/epoch - 17ms/step
Epoch 30/75
4378/4378 - 75s - loss: 0.0171 - accuracy: 0.8823 - val_loss: 0.0630 - val_accuracy: 0.5857 - lr: 0.0010 - 75s/epoch - 17ms/step
Epoch 31/75
4378/4378 - 75s - loss: 0.0172 - accuracy: 0.8822 - val_loss: 0.0606 - val_accuracy: 0.6096 - lr: 0.0010 - 75s/epoch - 17ms/step
Epoch 32/75
4378/4378 - 75s - loss: 0.0172 - accuracy: 0.8830 - val_loss: 0.0619 - val_accuracy: 0.5916 - lr: 0.0010 - 75s/epoch - 17ms/step
Epoch 33/75
4378/4378 - 75s - loss: 0.0172 - accuracy: 0.8825 - val_loss: 0.0704 - val_accuracy: 0.5354 - lr: 0.0010 - 75s/epoch - 17ms/step
Epoch 34/75
4378/4378 - 75s - loss: 0.0169 - accuracy: 0.8855 - val_loss: 0.0739 - val_accuracy: 0.5166 - lr: 0.0010 - 75s/epoch - 17ms/step
Epoch 35/75
4378/4378 - 74s - loss: 0.0173 - accuracy: 0.8828 - val_loss: 0.0834 - val_accuracy: 0.4556 - lr: 0.0010 - 74s/epoch - 17ms/step
Epoch 36/75
4378/4378 - 74s - loss: 0.0171 - accuracy: 0.8827 - val_loss: 0.0544 - val_accuracy: 0.6490 - lr: 0.0010 - 74s/epoch - 17ms/step
Epoch 37/75
4378/4378 - 75s - loss: 0.0172 - accuracy: 0.8832 - val_loss: 0.0667 - val_accuracy: 0.5567 - lr: 0.0010 - 75s/epoch - 17ms/step
Epoch 38/75
4378/4378 - 75s - loss: 0.0172 - accuracy: 0.8826 - val_loss: 0.0628 - val_accuracy: 0.5809 - lr: 0.0010 - 75s/epoch - 17ms/step
Epoch 39/75
4378/4378 - 75s - loss: 0.0170 - accuracy: 0.8842 - val_loss: 0.0690 - val_accuracy: 0.5390 - lr: 0.0010 - 75s/epoch - 17ms/step
Epoch 40/75
4378/4378 - 75s - loss: 0.0170 - accuracy: 0.8836 - val_loss: 0.0613 - val_accuracy: 0.6006 - lr: 0.0010 - 75s/epoch - 17ms/step
Epoch 41/75
4378/4378 - 74s - loss: 0.0169 - accuracy: 0.8851 - val_loss: 0.0790 - val_accuracy: 0.4814 - lr: 0.0010 - 74s/epoch - 17ms/step
Epoch 42/75
4378/4378 - 74s - loss: 0.0171 - accuracy: 0.8841 - val_loss: 0.0553 - val_accuracy: 0.6425 - lr: 0.0010 - 74s/epoch - 17ms/step
Epoch 43/75
4378/4378 - 74s - loss: 0.0169 - accuracy: 0.8859 - val_loss: 0.0588 - val_accuracy: 0.6226 - lr: 0.0010 - 74s/epoch - 17ms/step
Epoch 44/75
4378/4378 - 75s - loss: 0.0172 - accuracy: 0.8830 - val_loss: 0.0559 - val_accuracy: 0.6459 - lr: 0.0010 - 75s/epoch - 17ms/step
Epoch 45/75
4378/4378 - 75s - loss: 0.0171 - accuracy: 0.8841 - val_loss: 0.0568 - val_accuracy: 0.6386 - lr: 0.0010 - 75s/epoch - 17ms/step
Epoch 46/75
4378/4378 - 75s - loss: 0.0173 - accuracy: 0.8822 - val_loss: 0.0847 - val_accuracy: 0.4621 - lr: 0.0010 - 75s/epoch - 17ms/step
Epoch 47/75
4378/4378 - 75s - loss: 0.0170 - accuracy: 0.8835 - val_loss: 0.0755 - val_accuracy: 0.5121 - lr: 0.0010 - 75s/epoch - 17ms/step
Epoch 48/75
4378/4378 - 74s - loss: 0.0171 - accuracy: 0.8845 - val_loss: 0.0535 - val_accuracy: 0.6505 - lr: 0.0010 - 74s/epoch - 17ms/step
Epoch 49/75
4378/4378 - 76s - loss: 0.0171 - accuracy: 0.8837 - val_loss: 0.1121 - val_accuracy: 0.3047 - lr: 0.0010 - 76s/epoch - 17ms/step
Epoch 50/75
4378/4378 - 75s - loss: 0.0170 - accuracy: 0.8845 - val_loss: 0.0714 - val_accuracy: 0.5375 - lr: 0.0010 - 75s/epoch - 17ms/step
Epoch 51/75
4378/4378 - 75s - loss: 0.0170 - accuracy: 0.8837 - val_loss: 0.0757 - val_accuracy: 0.5111 - lr: 0.0010 - 75s/epoch - 17ms/step
Epoch 52/75
4378/4378 - 75s - loss: 0.0170 - accuracy: 0.8842 - val_loss: 0.0834 - val_accuracy: 0.4509 - lr: 0.0010 - 75s/epoch - 17ms/step
Epoch 53/75
4378/4378 - 75s - loss: 0.0171 - accuracy: 0.8833 - val_loss: 0.0701 - val_accuracy: 0.5419 - lr: 0.0010 - 75s/epoch - 17ms/step
Epoch 54/75
4378/4378 - 75s - loss: 0.0172 - accuracy: 0.8824 - val_loss: 0.0668 - val_accuracy: 0.5624 - lr: 0.0010 - 75s/epoch - 17ms/step
Epoch 55/75
4378/4378 - 75s - loss: 0.0171 - accuracy: 0.8837 - val_loss: 0.0766 - val_accuracy: 0.5064 - lr: 0.0010 - 75s/epoch - 17ms/step
Epoch 56/75
4378/4378 - 75s - loss: 0.0172 - accuracy: 0.8830 - val_loss: 0.0622 - val_accuracy: 0.6014 - lr: 0.0010 - 75s/epoch - 17ms/step
Epoch 57/75
4378/4378 - 75s - loss: 0.0167 - accuracy: 0.8861 - val_loss: 0.0595 - val_accuracy: 0.6141 - lr: 0.0010 - 75s/epoch - 17ms/step
Epoch 58/75
4378/4378 - 75s - loss: 0.0168 - accuracy: 0.8857 - val_loss: 0.0596 - val_accuracy: 0.6124 - lr: 0.0010 - 75s/epoch - 17ms/step
Epoch 59/75
4378/4378 - 75s - loss: 0.0170 - accuracy: 0.8839 - val_loss: 0.0546 - val_accuracy: 0.6526 - lr: 0.0010 - 75s/epoch - 17ms/step
Epoch 60/75
4378/4378 - 75s - loss: 0.0167 - accuracy: 0.8872 - val_loss: 0.0529 - val_accuracy: 0.6628 - lr: 0.0010 - 75s/epoch - 17ms/step
Epoch 61/75
4378/4378 - 74s - loss: 0.0170 - accuracy: 0.8849 - val_loss: 0.0526 - val_accuracy: 0.6629 - lr: 0.0010 - 74s/epoch - 17ms/step
Epoch 62/75
4378/4378 - 75s - loss: 0.0170 - accuracy: 0.8849 - val_loss: 0.0676 - val_accuracy: 0.5624 - lr: 0.0010 - 75s/epoch - 17ms/step
Epoch 63/75
4378/4378 - 75s - loss: 0.0171 - accuracy: 0.8833 - val_loss: 0.0513 - val_accuracy: 0.6750 - lr: 0.0010 - 75s/epoch - 17ms/step
Epoch 64/75
4378/4378 - 75s - loss: 0.0169 - accuracy: 0.8850 - val_loss: 0.0554 - val_accuracy: 0.6432 - lr: 0.0010 - 75s/epoch - 17ms/step
Epoch 65/75
4378/4378 - 75s - loss: 0.0170 - accuracy: 0.8845 - val_loss: 0.0583 - val_accuracy: 0.6219 - lr: 0.0010 - 75s/epoch - 17ms/step
Epoch 66/75
4378/4378 - 74s - loss: 0.0169 - accuracy: 0.8852 - val_loss: 0.0586 - val_accuracy: 0.6138 - lr: 0.0010 - 74s/epoch - 17ms/step
Epoch 67/75
4378/4378 - 75s - loss: 0.0171 - accuracy: 0.8836 - val_loss: 0.0793 - val_accuracy: 0.4981 - lr: 0.0010 - 75s/epoch - 17ms/step
Epoch 68/75
4378/4378 - 74s - loss: 0.0171 - accuracy: 0.8847 - val_loss: 0.0673 - val_accuracy: 0.5537 - lr: 0.0010 - 74s/epoch - 17ms/step
Epoch 69/75
4378/4378 - 75s - loss: 0.0171 - accuracy: 0.8836 - val_loss: 0.0532 - val_accuracy: 0.6579 - lr: 0.0010 - 75s/epoch - 17ms/step
Epoch 70/75
4378/4378 - 75s - loss: 0.0170 - accuracy: 0.8841 - val_loss: 0.0639 - val_accuracy: 0.5755 - lr: 0.0010 - 75s/epoch - 17ms/step
Epoch 71/75
4378/4378 - 75s - loss: 0.0172 - accuracy: 0.8849 - val_loss: 0.0711 - val_accuracy: 0.5219 - lr: 0.0010 - 75s/epoch - 17ms/step
Epoch 72/75
4378/4378 - 74s - loss: 0.0169 - accuracy: 0.8852 - val_loss: 0.0648 - val_accuracy: 0.5733 - lr: 0.0010 - 74s/epoch - 17ms/step
Epoch 73/75
4378/4378 - 75s - loss: 0.0170 - accuracy: 0.8838 - val_loss: 0.0662 - val_accuracy: 0.5549 - lr: 0.0010 - 75s/epoch - 17ms/step
Epoch 74/75
4378/4378 - 75s - loss: 0.0170 - accuracy: 0.8845 - val_loss: 0.0600 - val_accuracy: 0.6115 - lr: 0.0010 - 75s/epoch - 17ms/step
Epoch 75/75
4378/4378 - 75s - loss: 0.0173 - accuracy: 0.8825 - val_loss: 0.0575 - val_accuracy: 0.6260 - lr: 0.0010 - 75s/epoch - 17ms/step
Epoch 1/75
876/876 - 22s - loss: 0.0123 - accuracy: 0.9189 - val_loss: 0.0615 - val_accuracy: 0.6161 - lr: 0.0010 - 22s/epoch - 26ms/step
Epoch 2/75
876/876 - 18s - loss: 0.0120 - accuracy: 0.9201 - val_loss: 0.0588 - val_accuracy: 0.6363 - lr: 0.0010 - 18s/epoch - 21ms/step
Epoch 3/75
876/876 - 18s - loss: 0.0120 - accuracy: 0.9199 - val_loss: 0.0598 - val_accuracy: 0.6316 - lr: 0.0010 - 18s/epoch - 21ms/step
Epoch 4/75
876/876 - 18s - loss: 0.0117 - accuracy: 0.9224 - val_loss: 0.0760 - val_accuracy: 0.5270 - lr: 0.0010 - 18s/epoch - 21ms/step
Epoch 5/75
876/876 - 18s - loss: 0.0114 - accuracy: 0.9240 - val_loss: 0.0676 - val_accuracy: 0.5814 - lr: 0.0010 - 18s/epoch - 21ms/step
Epoch 6/75
876/876 - 18s - loss: 0.0115 - accuracy: 0.9235 - val_loss: 0.0608 - val_accuracy: 0.6286 - lr: 0.0010 - 18s/epoch - 21ms/step
Epoch 7/75
876/876 - 18s - loss: 0.0112 - accuracy: 0.9250 - val_loss: 0.0653 - val_accuracy: 0.5976 - lr: 0.0010 - 18s/epoch - 21ms/step
Epoch 8/75
876/876 - 18s - loss: 0.0112 - accuracy: 0.9262 - val_loss: 0.0667 - val_accuracy: 0.5935 - lr: 0.0010 - 18s/epoch - 21ms/step
Epoch 9/75
876/876 - 18s - loss: 0.0110 - accuracy: 0.9279 - val_loss: 0.0696 - val_accuracy: 0.5703 - lr: 0.0010 - 18s/epoch - 21ms/step
Epoch 10/75
876/876 - 18s - loss: 0.0109 - accuracy: 0.9282 - val_loss: 0.0625 - val_accuracy: 0.6195 - lr: 0.0010 - 18s/epoch - 21ms/step
Epoch 11/75
876/876 - 18s - loss: 0.0109 - accuracy: 0.9277 - val_loss: 0.0625 - val_accuracy: 0.6157 - lr: 0.0010 - 18s/epoch - 21ms/step
Epoch 12/75
876/876 - 18s - loss: 0.0111 - accuracy: 0.9268 - val_loss: 0.0577 - val_accuracy: 0.6508 - lr: 0.0010 - 18s/epoch - 21ms/step
Epoch 13/75
876/876 - 18s - loss: 0.0108 - accuracy: 0.9285 - val_loss: 0.0630 - val_accuracy: 0.6116 - lr: 0.0010 - 18s/epoch - 21ms/step
Epoch 14/75
876/876 - 18s - loss: 0.0107 - accuracy: 0.9301 - val_loss: 0.0602 - val_accuracy: 0.6281 - lr: 0.0010 - 18s/epoch - 21ms/step
Epoch 15/75
876/876 - 18s - loss: 0.0106 - accuracy: 0.9308 - val_loss: 0.0644 - val_accuracy: 0.6092 - lr: 0.0010 - 18s/epoch - 21ms/step
Epoch 16/75
876/876 - 18s - loss: 0.0110 - accuracy: 0.9275 - val_loss: 0.0622 - val_accuracy: 0.6188 - lr: 0.0010 - 18s/epoch - 21ms/step
Epoch 17/75
876/876 - 18s - loss: 0.0106 - accuracy: 0.9301 - val_loss: 0.0592 - val_accuracy: 0.6404 - lr: 0.0010 - 18s/epoch - 21ms/step
Epoch 18/75
876/876 - 18s - loss: 0.0104 - accuracy: 0.9316 - val_loss: 0.0565 - val_accuracy: 0.6584 - lr: 0.0010 - 18s/epoch - 21ms/step
Epoch 19/75
876/876 - 18s - loss: 0.0106 - accuracy: 0.9300 - val_loss: 0.0597 - val_accuracy: 0.6349 - lr: 0.0010 - 18s/epoch - 21ms/step
Epoch 20/75
876/876 - 18s - loss: 0.0104 - accuracy: 0.9319 - val_loss: 0.0594 - val_accuracy: 0.6399 - lr: 0.0010 - 18s/epoch - 21ms/step
Epoch 21/75
876/876 - 18s - loss: 0.0103 - accuracy: 0.9332 - val_loss: 0.0573 - val_accuracy: 0.6524 - lr: 0.0010 - 18s/epoch - 21ms/step
Epoch 22/75
876/876 - 18s - loss: 0.0103 - accuracy: 0.9314 - val_loss: 0.0592 - val_accuracy: 0.6431 - lr: 0.0010 - 18s/epoch - 21ms/step
Epoch 23/75
876/876 - 18s - loss: 0.0105 - accuracy: 0.9308 - val_loss: 0.0576 - val_accuracy: 0.6556 - lr: 0.0010 - 18s/epoch - 21ms/step
Epoch 24/75
876/876 - 18s - loss: 0.0106 - accuracy: 0.9304 - val_loss: 0.0657 - val_accuracy: 0.6068 - lr: 0.0010 - 18s/epoch - 21ms/step
Epoch 25/75
876/876 - 18s - loss: 0.0105 - accuracy: 0.9315 - val_loss: 0.0573 - val_accuracy: 0.6575 - lr: 0.0010 - 18s/epoch - 21ms/step
Epoch 26/75
876/876 - 18s - loss: 0.0107 - accuracy: 0.9296 - val_loss: 0.0617 - val_accuracy: 0.6243 - lr: 0.0010 - 18s/epoch - 21ms/step
Epoch 27/75
876/876 - 18s - loss: 0.0104 - accuracy: 0.9322 - val_loss: 0.0616 - val_accuracy: 0.6308 - lr: 0.0010 - 18s/epoch - 21ms/step
Epoch 28/75
876/876 - 18s - loss: 0.0100 - accuracy: 0.9340 - val_loss: 0.0626 - val_accuracy: 0.6196 - lr: 0.0010 - 18s/epoch - 21ms/step
Epoch 29/75
876/876 - 18s - loss: 0.0102 - accuracy: 0.9329 - val_loss: 0.0660 - val_accuracy: 0.5931 - lr: 0.0010 - 18s/epoch - 21ms/step
Epoch 30/75
876/876 - 18s - loss: 0.0104 - accuracy: 0.9311 - val_loss: 0.0612 - val_accuracy: 0.6259 - lr: 0.0010 - 18s/epoch - 21ms/step
Epoch 31/75
876/876 - 18s - loss: 0.0102 - accuracy: 0.9333 - val_loss: 0.0619 - val_accuracy: 0.6272 - lr: 0.0010 - 18s/epoch - 21ms/step
Epoch 32/75
876/876 - 18s - loss: 0.0102 - accuracy: 0.9328 - val_loss: 0.0613 - val_accuracy: 0.6263 - lr: 0.0010 - 18s/epoch - 21ms/step
Epoch 33/75
876/876 - 18s - loss: 0.0104 - accuracy: 0.9318 - val_loss: 0.0680 - val_accuracy: 0.5885 - lr: 0.0010 - 18s/epoch - 21ms/step
Epoch 34/75
876/876 - 18s - loss: 0.0100 - accuracy: 0.9342 - val_loss: 0.0606 - val_accuracy: 0.6351 - lr: 0.0010 - 18s/epoch - 21ms/step
Epoch 35/75
876/876 - 18s - loss: 0.0101 - accuracy: 0.9340 - val_loss: 0.0622 - val_accuracy: 0.6226 - lr: 0.0010 - 18s/epoch - 21ms/step
Epoch 36/75
876/876 - 18s - loss: 0.0103 - accuracy: 0.9318 - val_loss: 0.0562 - val_accuracy: 0.6646 - lr: 0.0010 - 18s/epoch - 21ms/step
Epoch 37/75
876/876 - 18s - loss: 0.0101 - accuracy: 0.9335 - val_loss: 0.0690 - val_accuracy: 0.5838 - lr: 0.0010 - 18s/epoch - 21ms/step
Epoch 38/75
876/876 - 18s - loss: 0.0102 - accuracy: 0.9332 - val_loss: 0.0675 - val_accuracy: 0.5906 - lr: 0.0010 - 18s/epoch - 21ms/step
Epoch 39/75
876/876 - 19s - loss: 0.0102 - accuracy: 0.9334 - val_loss: 0.0636 - val_accuracy: 0.6171 - lr: 0.0010 - 19s/epoch - 21ms/step
Epoch 40/75
876/876 - 18s - loss: 0.0100 - accuracy: 0.9342 - val_loss: 0.0552 - val_accuracy: 0.6698 - lr: 0.0010 - 18s/epoch - 21ms/step
Epoch 41/75
876/876 - 18s - loss: 0.0101 - accuracy: 0.9336 - val_loss: 0.0631 - val_accuracy: 0.6125 - lr: 0.0010 - 18s/epoch - 21ms/step
Epoch 42/75
876/876 - 18s - loss: 0.0099 - accuracy: 0.9352 - val_loss: 0.0677 - val_accuracy: 0.5825 - lr: 0.0010 - 18s/epoch - 21ms/step
Epoch 43/75
876/876 - 18s - loss: 0.0101 - accuracy: 0.9338 - val_loss: 0.0750 - val_accuracy: 0.5286 - lr: 0.0010 - 18s/epoch - 21ms/step
Epoch 44/75
876/876 - 18s - loss: 0.0100 - accuracy: 0.9349 - val_loss: 0.0667 - val_accuracy: 0.5875 - lr: 0.0010 - 18s/epoch - 21ms/step
Epoch 45/75
876/876 - 18s - loss: 0.0100 - accuracy: 0.9340 - val_loss: 0.0640 - val_accuracy: 0.6103 - lr: 0.0010 - 18s/epoch - 21ms/step
Epoch 46/75
876/876 - 18s - loss: 0.0101 - accuracy: 0.9339 - val_loss: 0.0638 - val_accuracy: 0.6173 - lr: 0.0010 - 18s/epoch - 21ms/step
Epoch 47/75
876/876 - 18s - loss: 0.0100 - accuracy: 0.9345 - val_loss: 0.0647 - val_accuracy: 0.6080 - lr: 0.0010 - 18s/epoch - 21ms/step
Epoch 48/75
876/876 - 18s - loss: 0.0098 - accuracy: 0.9361 - val_loss: 0.0647 - val_accuracy: 0.6127 - lr: 0.0010 - 18s/epoch - 21ms/step
Epoch 49/75
876/876 - 18s - loss: 0.0099 - accuracy: 0.9349 - val_loss: 0.0666 - val_accuracy: 0.5969 - lr: 0.0010 - 18s/epoch - 21ms/step
Epoch 50/75
876/876 - 18s - loss: 0.0098 - accuracy: 0.9358 - val_loss: 0.0623 - val_accuracy: 0.6239 - lr: 0.0010 - 18s/epoch - 21ms/step
Epoch 51/75
876/876 - 18s - loss: 0.0098 - accuracy: 0.9355 - val_loss: 0.0609 - val_accuracy: 0.6327 - lr: 0.0010 - 18s/epoch - 21ms/step
Epoch 52/75
876/876 - 18s - loss: 0.0098 - accuracy: 0.9359 - val_loss: 0.0634 - val_accuracy: 0.6202 - lr: 0.0010 - 18s/epoch - 21ms/step
Epoch 53/75
876/876 - 18s - loss: 0.0100 - accuracy: 0.9340 - val_loss: 0.0589 - val_accuracy: 0.6489 - lr: 0.0010 - 18s/epoch - 21ms/step
Epoch 54/75
876/876 - 18s - loss: 0.0100 - accuracy: 0.9337 - val_loss: 0.0680 - val_accuracy: 0.5956 - lr: 0.0010 - 18s/epoch - 21ms/step
Epoch 55/75
876/876 - 18s - loss: 0.0100 - accuracy: 0.9349 - val_loss: 0.0636 - val_accuracy: 0.6185 - lr: 0.0010 - 18s/epoch - 21ms/step
Epoch 56/75
876/876 - 18s - loss: 0.0100 - accuracy: 0.9345 - val_loss: 0.0638 - val_accuracy: 0.6194 - lr: 0.0010 - 18s/epoch - 21ms/step
Epoch 57/75
876/876 - 18s - loss: 0.0100 - accuracy: 0.9347 - val_loss: 0.0632 - val_accuracy: 0.6228 - lr: 0.0010 - 18s/epoch - 21ms/step
Epoch 58/75
876/876 - 18s - loss: 0.0099 - accuracy: 0.9349 - val_loss: 0.0718 - val_accuracy: 0.5632 - lr: 0.0010 - 18s/epoch - 21ms/step
Epoch 59/75
876/876 - 18s - loss: 0.0099 - accuracy: 0.9354 - val_loss: 0.0624 - val_accuracy: 0.6248 - lr: 0.0010 - 18s/epoch - 21ms/step
Epoch 60/75
876/876 - 18s - loss: 0.0100 - accuracy: 0.9340 - val_loss: 0.0608 - val_accuracy: 0.6367 - lr: 0.0010 - 18s/epoch - 21ms/step
Epoch 61/75
876/876 - 18s - loss: 0.0099 - accuracy: 0.9357 - val_loss: 0.0636 - val_accuracy: 0.6172 - lr: 0.0010 - 18s/epoch - 21ms/step
Epoch 62/75
876/876 - 18s - loss: 0.0098 - accuracy: 0.9360 - val_loss: 0.0644 - val_accuracy: 0.6161 - lr: 0.0010 - 18s/epoch - 21ms/step
Epoch 63/75
876/876 - 18s - loss: 0.0099 - accuracy: 0.9353 - val_loss: 0.0622 - val_accuracy: 0.6265 - lr: 0.0010 - 18s/epoch - 21ms/step
Epoch 64/75
876/876 - 18s - loss: 0.0096 - accuracy: 0.9371 - val_loss: 0.0691 - val_accuracy: 0.5843 - lr: 0.0010 - 18s/epoch - 21ms/step
Epoch 65/75
876/876 - 18s - loss: 0.0098 - accuracy: 0.9353 - val_loss: 0.0638 - val_accuracy: 0.6216 - lr: 0.0010 - 18s/epoch - 21ms/step
Epoch 66/75
876/876 - 18s - loss: 0.0097 - accuracy: 0.9356 - val_loss: 0.0662 - val_accuracy: 0.6002 - lr: 0.0010 - 18s/epoch - 21ms/step
Epoch 67/75
876/876 - 18s - loss: 0.0098 - accuracy: 0.9359 - val_loss: 0.0660 - val_accuracy: 0.6021 - lr: 0.0010 - 18s/epoch - 21ms/step
Epoch 68/75
876/876 - 18s - loss: 0.0097 - accuracy: 0.9362 - val_loss: 0.0644 - val_accuracy: 0.6160 - lr: 0.0010 - 18s/epoch - 21ms/step
Epoch 69/75
876/876 - 18s - loss: 0.0097 - accuracy: 0.9371 - val_loss: 0.0636 - val_accuracy: 0.6190 - lr: 0.0010 - 18s/epoch - 21ms/step
Epoch 70/75
876/876 - 18s - loss: 0.0098 - accuracy: 0.9348 - val_loss: 0.0699 - val_accuracy: 0.5729 - lr: 0.0010 - 18s/epoch - 21ms/step
Epoch 71/75
876/876 - 18s - loss: 0.0097 - accuracy: 0.9363 - val_loss: 0.0693 - val_accuracy: 0.5755 - lr: 0.0010 - 18s/epoch - 21ms/step
Epoch 72/75
876/876 - 18s - loss: 0.0096 - accuracy: 0.9376 - val_loss: 0.0606 - val_accuracy: 0.6389 - lr: 0.0010 - 18s/epoch - 21ms/step
Epoch 73/75
876/876 - 18s - loss: 0.0099 - accuracy: 0.9355 - val_loss: 0.0714 - val_accuracy: 0.5755 - lr: 0.0010 - 18s/epoch - 21ms/step
Epoch 74/75
876/876 - 18s - loss: 0.0096 - accuracy: 0.9374 - val_loss: 0.0625 - val_accuracy: 0.6269 - lr: 0.0010 - 18s/epoch - 21ms/step
Epoch 75/75
876/876 - 18s - loss: 0.0097 - accuracy: 0.9372 - val_loss: 0.0686 - val_accuracy: 0.5903 - lr: 0.0010 - 18s/epoch - 21ms/step
Epoch 1/75
176/176 - 11s - loss: 0.0073 - accuracy: 0.9536 - val_loss: 0.0678 - val_accuracy: 0.5955 - lr: 0.0010 - 11s/epoch - 65ms/step
Epoch 2/75
176/176 - 9s - loss: 0.0062 - accuracy: 0.9609 - val_loss: 0.0662 - val_accuracy: 0.6071 - lr: 0.0010 - 9s/epoch - 51ms/step
Epoch 3/75
176/176 - 9s - loss: 0.0060 - accuracy: 0.9630 - val_loss: 0.0662 - val_accuracy: 0.6093 - lr: 0.0010 - 9s/epoch - 51ms/step
Epoch 4/75
176/176 - 9s - loss: 0.0060 - accuracy: 0.9623 - val_loss: 0.0692 - val_accuracy: 0.5901 - lr: 0.0010 - 9s/epoch - 51ms/step
Epoch 5/75
176/176 - 9s - loss: 0.0062 - accuracy: 0.9609 - val_loss: 0.0684 - val_accuracy: 0.5941 - lr: 0.0010 - 9s/epoch - 51ms/step
Epoch 6/75
176/176 - 9s - loss: 0.0062 - accuracy: 0.9612 - val_loss: 0.0674 - val_accuracy: 0.6019 - lr: 0.0010 - 9s/epoch - 51ms/step
Epoch 7/75
176/176 - 9s - loss: 0.0064 - accuracy: 0.9593 - val_loss: 0.0716 - val_accuracy: 0.5838 - lr: 0.0010 - 9s/epoch - 51ms/step
Epoch 8/75
176/176 - 9s - loss: 0.0064 - accuracy: 0.9589 - val_loss: 0.0663 - val_accuracy: 0.6130 - lr: 0.0010 - 9s/epoch - 51ms/step
Epoch 9/75
176/176 - 9s - loss: 0.0064 - accuracy: 0.9598 - val_loss: 0.0676 - val_accuracy: 0.6078 - lr: 0.0010 - 9s/epoch - 51ms/step
Epoch 10/75
176/176 - 9s - loss: 0.0061 - accuracy: 0.9618 - val_loss: 0.0693 - val_accuracy: 0.5974 - lr: 0.0010 - 9s/epoch - 51ms/step
Epoch 11/75
176/176 - 9s - loss: 0.0059 - accuracy: 0.9627 - val_loss: 0.0680 - val_accuracy: 0.6052 - lr: 0.0010 - 9s/epoch - 51ms/step
Epoch 12/75
176/176 - 9s - loss: 0.0061 - accuracy: 0.9612 - val_loss: 0.0655 - val_accuracy: 0.6199 - lr: 0.0010 - 9s/epoch - 51ms/step
Epoch 13/75
176/176 - 9s - loss: 0.0060 - accuracy: 0.9616 - val_loss: 0.0680 - val_accuracy: 0.6072 - lr: 0.0010 - 9s/epoch - 51ms/step
Epoch 14/75
176/176 - 9s - loss: 0.0060 - accuracy: 0.9627 - val_loss: 0.0653 - val_accuracy: 0.6212 - lr: 0.0010 - 9s/epoch - 51ms/step
Epoch 15/75
176/176 - 9s - loss: 0.0061 - accuracy: 0.9613 - val_loss: 0.0671 - val_accuracy: 0.6122 - lr: 0.0010 - 9s/epoch - 51ms/step
Epoch 16/75
176/176 - 9s - loss: 0.0066 - accuracy: 0.9583 - val_loss: 0.0686 - val_accuracy: 0.6031 - lr: 0.0010 - 9s/epoch - 51ms/step
Epoch 17/75
176/176 - 9s - loss: 0.0062 - accuracy: 0.9607 - val_loss: 0.0703 - val_accuracy: 0.5904 - lr: 0.0010 - 9s/epoch - 51ms/step
Epoch 18/75
176/176 - 9s - loss: 0.0062 - accuracy: 0.9609 - val_loss: 0.0700 - val_accuracy: 0.5899 - lr: 0.0010 - 9s/epoch - 51ms/step
Epoch 19/75
176/176 - 9s - loss: 0.0061 - accuracy: 0.9616 - val_loss: 0.0698 - val_accuracy: 0.5960 - lr: 0.0010 - 9s/epoch - 51ms/step
Epoch 20/75
176/176 - 9s - loss: 0.0060 - accuracy: 0.9627 - val_loss: 0.0697 - val_accuracy: 0.5965 - lr: 0.0010 - 9s/epoch - 51ms/step
Epoch 21/75
176/176 - 9s - loss: 0.0059 - accuracy: 0.9633 - val_loss: 0.0668 - val_accuracy: 0.6173 - lr: 0.0010 - 9s/epoch - 51ms/step
Epoch 22/75
176/176 - 9s - loss: 0.0061 - accuracy: 0.9616 - val_loss: 0.0702 - val_accuracy: 0.5967 - lr: 0.0010 - 9s/epoch - 51ms/step
Epoch 23/75
176/176 - 9s - loss: 0.0059 - accuracy: 0.9627 - val_loss: 0.0764 - val_accuracy: 0.5608 - lr: 0.0010 - 9s/epoch - 51ms/step
Epoch 24/75
176/176 - 9s - loss: 0.0060 - accuracy: 0.9626 - val_loss: 0.0712 - val_accuracy: 0.5912 - lr: 0.0010 - 9s/epoch - 51ms/step
Epoch 25/75
176/176 - 9s - loss: 0.0060 - accuracy: 0.9620 - val_loss: 0.0694 - val_accuracy: 0.5982 - lr: 0.0010 - 9s/epoch - 51ms/step
Epoch 26/75
176/176 - 9s - loss: 0.0061 - accuracy: 0.9619 - val_loss: 0.0647 - val_accuracy: 0.6286 - lr: 0.0010 - 9s/epoch - 51ms/step
Epoch 27/75
176/176 - 9s - loss: 0.0058 - accuracy: 0.9638 - val_loss: 0.0706 - val_accuracy: 0.5965 - lr: 0.0010 - 9s/epoch - 52ms/step
Epoch 28/75
176/176 - 9s - loss: 0.0060 - accuracy: 0.9629 - val_loss: 0.0715 - val_accuracy: 0.5842 - lr: 0.0010 - 9s/epoch - 51ms/step
Epoch 29/75
176/176 - 9s - loss: 0.0063 - accuracy: 0.9603 - val_loss: 0.0698 - val_accuracy: 0.5959 - lr: 0.0010 - 9s/epoch - 51ms/step
Epoch 30/75
176/176 - 9s - loss: 0.0062 - accuracy: 0.9608 - val_loss: 0.0687 - val_accuracy: 0.6038 - lr: 0.0010 - 9s/epoch - 51ms/step
Epoch 31/75
176/176 - 9s - loss: 0.0056 - accuracy: 0.9648 - val_loss: 0.0718 - val_accuracy: 0.5861 - lr: 0.0010 - 9s/epoch - 52ms/step
Epoch 32/75
176/176 - 9s - loss: 0.0055 - accuracy: 0.9656 - val_loss: 0.0675 - val_accuracy: 0.6091 - lr: 0.0010 - 9s/epoch - 51ms/step
Epoch 33/75
176/176 - 9s - loss: 0.0054 - accuracy: 0.9663 - val_loss: 0.0669 - val_accuracy: 0.6134 - lr: 0.0010 - 9s/epoch - 51ms/step
Epoch 34/75
176/176 - 9s - loss: 0.0057 - accuracy: 0.9644 - val_loss: 0.0690 - val_accuracy: 0.6039 - lr: 0.0010 - 9s/epoch - 51ms/step
Epoch 35/75
176/176 - 9s - loss: 0.0058 - accuracy: 0.9641 - val_loss: 0.0685 - val_accuracy: 0.6074 - lr: 0.0010 - 9s/epoch - 51ms/step
Epoch 36/75
176/176 - 9s - loss: 0.0059 - accuracy: 0.9630 - val_loss: 0.0712 - val_accuracy: 0.5895 - lr: 0.0010 - 9s/epoch - 51ms/step
Epoch 37/75
176/176 - 9s - loss: 0.0059 - accuracy: 0.9630 - val_loss: 0.0707 - val_accuracy: 0.5948 - lr: 0.0010 - 9s/epoch - 51ms/step
Epoch 38/75
176/176 - 9s - loss: 0.0058 - accuracy: 0.9628 - val_loss: 0.0694 - val_accuracy: 0.6012 - lr: 0.0010 - 9s/epoch - 51ms/step
Epoch 39/75
176/176 - 9s - loss: 0.0059 - accuracy: 0.9632 - val_loss: 0.0709 - val_accuracy: 0.5939 - lr: 0.0010 - 9s/epoch - 51ms/step
Epoch 40/75
176/176 - 9s - loss: 0.0061 - accuracy: 0.9614 - val_loss: 0.0670 - val_accuracy: 0.6155 - lr: 0.0010 - 9s/epoch - 51ms/step
Epoch 41/75
176/176 - 9s - loss: 0.0060 - accuracy: 0.9623 - val_loss: 0.0700 - val_accuracy: 0.5952 - lr: 0.0010 - 9s/epoch - 51ms/step
Epoch 42/75
176/176 - 9s - loss: 0.0060 - accuracy: 0.9622 - val_loss: 0.0696 - val_accuracy: 0.5989 - lr: 0.0010 - 9s/epoch - 51ms/step
Epoch 43/75
176/176 - 9s - loss: 0.0059 - accuracy: 0.9628 - val_loss: 0.0704 - val_accuracy: 0.5971 - lr: 0.0010 - 9s/epoch - 51ms/step
Epoch 44/75
176/176 - 9s - loss: 0.0060 - accuracy: 0.9627 - val_loss: 0.0702 - val_accuracy: 0.5962 - lr: 0.0010 - 9s/epoch - 51ms/step
Epoch 45/75
176/176 - 9s - loss: 0.0058 - accuracy: 0.9631 - val_loss: 0.0718 - val_accuracy: 0.5867 - lr: 0.0010 - 9s/epoch - 51ms/step
Epoch 46/75
176/176 - 9s - loss: 0.0060 - accuracy: 0.9625 - val_loss: 0.0700 - val_accuracy: 0.6019 - lr: 0.0010 - 9s/epoch - 51ms/step
Epoch 47/75
176/176 - 9s - loss: 0.0059 - accuracy: 0.9629 - val_loss: 0.0683 - val_accuracy: 0.6099 - lr: 0.0010 - 9s/epoch - 51ms/step
Epoch 48/75
176/176 - 9s - loss: 0.0061 - accuracy: 0.9611 - val_loss: 0.0712 - val_accuracy: 0.5940 - lr: 0.0010 - 9s/epoch - 51ms/step
Epoch 49/75
176/176 - 9s - loss: 0.0061 - accuracy: 0.9619 - val_loss: 0.0659 - val_accuracy: 0.6185 - lr: 0.0010 - 9s/epoch - 51ms/step
Epoch 50/75
176/176 - 9s - loss: 0.0060 - accuracy: 0.9621 - val_loss: 0.0704 - val_accuracy: 0.5983 - lr: 0.0010 - 9s/epoch - 51ms/step
Epoch 51/75
176/176 - 9s - loss: 0.0059 - accuracy: 0.9635 - val_loss: 0.0714 - val_accuracy: 0.5877 - lr: 0.0010 - 9s/epoch - 51ms/step
Epoch 52/75
176/176 - 9s - loss: 0.0060 - accuracy: 0.9620 - val_loss: 0.0652 - val_accuracy: 0.6250 - lr: 0.0010 - 9s/epoch - 51ms/step
Epoch 53/75
176/176 - 9s - loss: 0.0060 - accuracy: 0.9623 - val_loss: 0.0696 - val_accuracy: 0.6004 - lr: 0.0010 - 9s/epoch - 51ms/step
Epoch 54/75
176/176 - 9s - loss: 0.0058 - accuracy: 0.9637 - val_loss: 0.0703 - val_accuracy: 0.5922 - lr: 0.0010 - 9s/epoch - 51ms/step
Epoch 55/75
176/176 - 9s - loss: 0.0057 - accuracy: 0.9641 - val_loss: 0.0669 - val_accuracy: 0.6132 - lr: 0.0010 - 9s/epoch - 51ms/step
Epoch 56/75
176/176 - 9s - loss: 0.0057 - accuracy: 0.9640 - val_loss: 0.0731 - val_accuracy: 0.5810 - lr: 0.0010 - 9s/epoch - 51ms/step
Epoch 57/75
176/176 - 9s - loss: 0.0060 - accuracy: 0.9624 - val_loss: 0.0736 - val_accuracy: 0.5738 - lr: 0.0010 - 9s/epoch - 51ms/step
Epoch 58/75
176/176 - 9s - loss: 0.0058 - accuracy: 0.9632 - val_loss: 0.0714 - val_accuracy: 0.5892 - lr: 0.0010 - 9s/epoch - 51ms/step
Epoch 59/75
176/176 - 9s - loss: 0.0055 - accuracy: 0.9653 - val_loss: 0.0717 - val_accuracy: 0.5869 - lr: 0.0010 - 9s/epoch - 51ms/step
Epoch 60/75
176/176 - 9s - loss: 0.0056 - accuracy: 0.9652 - val_loss: 0.0691 - val_accuracy: 0.6036 - lr: 0.0010 - 9s/epoch - 51ms/step
Epoch 61/75
176/176 - 9s - loss: 0.0053 - accuracy: 0.9669 - val_loss: 0.0691 - val_accuracy: 0.6061 - lr: 0.0010 - 9s/epoch - 51ms/step
Epoch 62/75
176/176 - 9s - loss: 0.0052 - accuracy: 0.9674 - val_loss: 0.0701 - val_accuracy: 0.6003 - lr: 0.0010 - 9s/epoch - 51ms/step
Epoch 63/75
176/176 - 9s - loss: 0.0051 - accuracy: 0.9680 - val_loss: 0.0687 - val_accuracy: 0.6092 - lr: 0.0010 - 9s/epoch - 51ms/step
Epoch 64/75
176/176 - 9s - loss: 0.0055 - accuracy: 0.9657 - val_loss: 0.0683 - val_accuracy: 0.6117 - lr: 0.0010 - 9s/epoch - 51ms/step
Epoch 65/75
176/176 - 9s - loss: 0.0058 - accuracy: 0.9635 - val_loss: 0.0730 - val_accuracy: 0.5815 - lr: 0.0010 - 9s/epoch - 51ms/step
Epoch 66/75
176/176 - 9s - loss: 0.0060 - accuracy: 0.9626 - val_loss: 0.0724 - val_accuracy: 0.5880 - lr: 0.0010 - 9s/epoch - 51ms/step
Epoch 67/75
176/176 - 9s - loss: 0.0060 - accuracy: 0.9623 - val_loss: 0.0788 - val_accuracy: 0.5478 - lr: 0.0010 - 9s/epoch - 51ms/step
Epoch 68/75
176/176 - 9s - loss: 0.0056 - accuracy: 0.9647 - val_loss: 0.0785 - val_accuracy: 0.5495 - lr: 0.0010 - 9s/epoch - 51ms/step
Epoch 69/75
176/176 - 9s - loss: 0.0057 - accuracy: 0.9637 - val_loss: 0.0709 - val_accuracy: 0.5928 - lr: 0.0010 - 9s/epoch - 51ms/step
Epoch 70/75
176/176 - 9s - loss: 0.0055 - accuracy: 0.9660 - val_loss: 0.0732 - val_accuracy: 0.5814 - lr: 0.0010 - 9s/epoch - 51ms/step
Epoch 71/75
176/176 - 9s - loss: 0.0061 - accuracy: 0.9619 - val_loss: 0.0710 - val_accuracy: 0.5960 - lr: 0.0010 - 9s/epoch - 51ms/step
Epoch 72/75
176/176 - 9s - loss: 0.0058 - accuracy: 0.9640 - val_loss: 0.0718 - val_accuracy: 0.5867 - lr: 0.0010 - 9s/epoch - 51ms/step
Epoch 73/75
176/176 - 9s - loss: 0.0055 - accuracy: 0.9663 - val_loss: 0.0682 - val_accuracy: 0.6129 - lr: 0.0010 - 9s/epoch - 51ms/step
Epoch 74/75
176/176 - 9s - loss: 0.0058 - accuracy: 0.9635 - val_loss: 0.0662 - val_accuracy: 0.6223 - lr: 0.0010 - 9s/epoch - 51ms/step
Epoch 75/75
176/176 - 9s - loss: 0.0056 - accuracy: 0.9651 - val_loss: 0.0696 - val_accuracy: 0.6041 - lr: 0.0010 - 9s/epoch - 52ms/step
Epoch 1/75
36/36 - 10s - loss: 0.0050 - accuracy: 0.9688 - val_loss: 0.0694 - val_accuracy: 0.6056 - lr: 0.0010 - 10s/epoch - 282ms/step
Epoch 2/75
36/36 - 8s - loss: 0.0046 - accuracy: 0.9724 - val_loss: 0.0713 - val_accuracy: 0.5926 - lr: 0.0010 - 8s/epoch - 215ms/step
Epoch 3/75
36/36 - 8s - loss: 0.0043 - accuracy: 0.9739 - val_loss: 0.0709 - val_accuracy: 0.5944 - lr: 0.0010 - 8s/epoch - 215ms/step
Epoch 4/75
36/36 - 8s - loss: 0.0043 - accuracy: 0.9739 - val_loss: 0.0712 - val_accuracy: 0.5931 - lr: 0.0010 - 8s/epoch - 215ms/step
Epoch 5/75
36/36 - 8s - loss: 0.0042 - accuracy: 0.9745 - val_loss: 0.0705 - val_accuracy: 0.5979 - lr: 0.0010 - 8s/epoch - 214ms/step
Epoch 6/75
36/36 - 8s - loss: 0.0043 - accuracy: 0.9744 - val_loss: 0.0702 - val_accuracy: 0.6004 - lr: 0.0010 - 8s/epoch - 214ms/step
Epoch 7/75
36/36 - 8s - loss: 0.0042 - accuracy: 0.9741 - val_loss: 0.0707 - val_accuracy: 0.5962 - lr: 0.0010 - 8s/epoch - 214ms/step
Epoch 8/75
36/36 - 8s - loss: 0.0042 - accuracy: 0.9748 - val_loss: 0.0716 - val_accuracy: 0.5936 - lr: 0.0010 - 8s/epoch - 214ms/step
Epoch 9/75
36/36 - 8s - loss: 0.0041 - accuracy: 0.9756 - val_loss: 0.0699 - val_accuracy: 0.6013 - lr: 0.0010 - 8s/epoch - 215ms/step
Epoch 10/75
36/36 - 8s - loss: 0.0043 - accuracy: 0.9735 - val_loss: 0.0702 - val_accuracy: 0.5984 - lr: 0.0010 - 8s/epoch - 215ms/step
Epoch 11/75
36/36 - 8s - loss: 0.0042 - accuracy: 0.9752 - val_loss: 0.0707 - val_accuracy: 0.5981 - lr: 0.0010 - 8s/epoch - 215ms/step
Epoch 12/75
36/36 - 8s - loss: 0.0043 - accuracy: 0.9740 - val_loss: 0.0697 - val_accuracy: 0.6031 - lr: 0.0010 - 8s/epoch - 215ms/step
Epoch 13/75
36/36 - 8s - loss: 0.0043 - accuracy: 0.9738 - val_loss: 0.0693 - val_accuracy: 0.6049 - lr: 0.0010 - 8s/epoch - 215ms/step
Epoch 14/75
36/36 - 8s - loss: 0.0042 - accuracy: 0.9752 - val_loss: 0.0684 - val_accuracy: 0.6116 - lr: 0.0010 - 8s/epoch - 214ms/step
Epoch 15/75
36/36 - 8s - loss: 0.0041 - accuracy: 0.9749 - val_loss: 0.0675 - val_accuracy: 0.6177 - lr: 0.0010 - 8s/epoch - 215ms/step
Epoch 16/75
36/36 - 8s - loss: 0.0042 - accuracy: 0.9743 - val_loss: 0.0693 - val_accuracy: 0.6073 - lr: 0.0010 - 8s/epoch - 215ms/step
Epoch 17/75
36/36 - 8s - loss: 0.0041 - accuracy: 0.9757 - val_loss: 0.0701 - val_accuracy: 0.6031 - lr: 0.0010 - 8s/epoch - 215ms/step
Epoch 18/75
36/36 - 8s - loss: 0.0040 - accuracy: 0.9755 - val_loss: 0.0698 - val_accuracy: 0.6041 - lr: 0.0010 - 8s/epoch - 215ms/step
Epoch 19/75
36/36 - 8s - loss: 0.0039 - accuracy: 0.9768 - val_loss: 0.0701 - val_accuracy: 0.6032 - lr: 0.0010 - 8s/epoch - 216ms/step
Epoch 20/75
36/36 - 8s - loss: 0.0040 - accuracy: 0.9759 - val_loss: 0.0696 - val_accuracy: 0.6062 - lr: 0.0010 - 8s/epoch - 215ms/step
Epoch 21/75
36/36 - 8s - loss: 0.0039 - accuracy: 0.9761 - val_loss: 0.0708 - val_accuracy: 0.5985 - lr: 0.0010 - 8s/epoch - 215ms/step
Epoch 22/75
36/36 - 8s - loss: 0.0040 - accuracy: 0.9760 - val_loss: 0.0692 - val_accuracy: 0.6068 - lr: 0.0010 - 8s/epoch - 215ms/step
Epoch 23/75
36/36 - 8s - loss: 0.0039 - accuracy: 0.9765 - val_loss: 0.0694 - val_accuracy: 0.6062 - lr: 0.0010 - 8s/epoch - 215ms/step
Epoch 24/75
36/36 - 8s - loss: 0.0039 - accuracy: 0.9769 - val_loss: 0.0691 - val_accuracy: 0.6083 - lr: 0.0010 - 8s/epoch - 215ms/step
Epoch 25/75
36/36 - 8s - loss: 0.0040 - accuracy: 0.9756 - val_loss: 0.0695 - val_accuracy: 0.6060 - lr: 0.0010 - 8s/epoch - 216ms/step
Epoch 26/75
36/36 - 8s - loss: 0.0039 - accuracy: 0.9768 - val_loss: 0.0687 - val_accuracy: 0.6106 - lr: 0.0010 - 8s/epoch - 215ms/step
Epoch 27/75
36/36 - 8s - loss: 0.0041 - accuracy: 0.9754 - val_loss: 0.0705 - val_accuracy: 0.5995 - lr: 0.0010 - 8s/epoch - 215ms/step
Epoch 28/75
36/36 - 8s - loss: 0.0040 - accuracy: 0.9760 - val_loss: 0.0704 - val_accuracy: 0.6004 - lr: 0.0010 - 8s/epoch - 215ms/step
Epoch 29/75
36/36 - 8s - loss: 0.0040 - accuracy: 0.9758 - val_loss: 0.0712 - val_accuracy: 0.5953 - lr: 0.0010 - 8s/epoch - 215ms/step
Epoch 30/75
36/36 - 8s - loss: 0.0040 - accuracy: 0.9759 - val_loss: 0.0713 - val_accuracy: 0.5951 - lr: 0.0010 - 8s/epoch - 215ms/step
Epoch 31/75
36/36 - 8s - loss: 0.0039 - accuracy: 0.9766 - val_loss: 0.0706 - val_accuracy: 0.6000 - lr: 0.0010 - 8s/epoch - 215ms/step
Epoch 32/75
36/36 - 8s - loss: 0.0040 - accuracy: 0.9762 - val_loss: 0.0694 - val_accuracy: 0.6085 - lr: 0.0010 - 8s/epoch - 216ms/step
Epoch 33/75
36/36 - 8s - loss: 0.0041 - accuracy: 0.9757 - val_loss: 0.0709 - val_accuracy: 0.5996 - lr: 0.0010 - 8s/epoch - 215ms/step
Epoch 34/75
36/36 - 8s - loss: 0.0041 - accuracy: 0.9752 - val_loss: 0.0721 - val_accuracy: 0.5914 - lr: 0.0010 - 8s/epoch - 216ms/step
Epoch 35/75
36/36 - 8s - loss: 0.0041 - accuracy: 0.9748 - val_loss: 0.0709 - val_accuracy: 0.5994 - lr: 0.0010 - 8s/epoch - 216ms/step
Epoch 36/75
36/36 - 8s - loss: 0.0040 - accuracy: 0.9762 - val_loss: 0.0709 - val_accuracy: 0.5986 - lr: 0.0010 - 8s/epoch - 216ms/step
Epoch 37/75
36/36 - 8s - loss: 0.0039 - accuracy: 0.9768 - val_loss: 0.0707 - val_accuracy: 0.6017 - lr: 0.0010 - 8s/epoch - 215ms/step
Epoch 38/75
36/36 - 8s - loss: 0.0039 - accuracy: 0.9762 - val_loss: 0.0715 - val_accuracy: 0.5950 - lr: 0.0010 - 8s/epoch - 215ms/step
Epoch 39/75
36/36 - 8s - loss: 0.0038 - accuracy: 0.9768 - val_loss: 0.0713 - val_accuracy: 0.5965 - lr: 0.0010 - 8s/epoch - 215ms/step
Epoch 40/75
36/36 - 8s - loss: 0.0038 - accuracy: 0.9770 - val_loss: 0.0707 - val_accuracy: 0.5993 - lr: 0.0010 - 8s/epoch - 215ms/step
Epoch 41/75
36/36 - 8s - loss: 0.0038 - accuracy: 0.9769 - val_loss: 0.0705 - val_accuracy: 0.6025 - lr: 0.0010 - 8s/epoch - 215ms/step
Epoch 42/75
36/36 - 8s - loss: 0.0038 - accuracy: 0.9769 - val_loss: 0.0718 - val_accuracy: 0.5941 - lr: 0.0010 - 8s/epoch - 215ms/step
Epoch 43/75
36/36 - 8s - loss: 0.0038 - accuracy: 0.9771 - val_loss: 0.0723 - val_accuracy: 0.5915 - lr: 0.0010 - 8s/epoch - 215ms/step
Epoch 44/75
36/36 - 8s - loss: 0.0039 - accuracy: 0.9767 - val_loss: 0.0725 - val_accuracy: 0.5894 - lr: 0.0010 - 8s/epoch - 215ms/step
Epoch 45/75
36/36 - 8s - loss: 0.0038 - accuracy: 0.9771 - val_loss: 0.0714 - val_accuracy: 0.5957 - lr: 0.0010 - 8s/epoch - 216ms/step
Epoch 46/75
36/36 - 8s - loss: 0.0039 - accuracy: 0.9763 - val_loss: 0.0707 - val_accuracy: 0.6009 - lr: 0.0010 - 8s/epoch - 215ms/step
Epoch 47/75
36/36 - 8s - loss: 0.0038 - accuracy: 0.9769 - val_loss: 0.0711 - val_accuracy: 0.5976 - lr: 0.0010 - 8s/epoch - 215ms/step
Epoch 48/75
36/36 - 8s - loss: 0.0038 - accuracy: 0.9769 - val_loss: 0.0701 - val_accuracy: 0.6045 - lr: 0.0010 - 8s/epoch - 215ms/step
Epoch 49/75
36/36 - 8s - loss: 0.0038 - accuracy: 0.9775 - val_loss: 0.0717 - val_accuracy: 0.5943 - lr: 0.0010 - 8s/epoch - 215ms/step
Epoch 50/75
36/36 - 8s - loss: 0.0039 - accuracy: 0.9767 - val_loss: 0.0725 - val_accuracy: 0.5906 - lr: 0.0010 - 8s/epoch - 215ms/step
Epoch 51/75
36/36 - 8s - loss: 0.0040 - accuracy: 0.9758 - val_loss: 0.0715 - val_accuracy: 0.5965 - lr: 0.0010 - 8s/epoch - 216ms/step
Epoch 52/75
36/36 - 8s - loss: 0.0039 - accuracy: 0.9764 - val_loss: 0.0705 - val_accuracy: 0.6009 - lr: 0.0010 - 8s/epoch - 215ms/step
Epoch 53/75
36/36 - 8s - loss: 0.0039 - accuracy: 0.9763 - val_loss: 0.0696 - val_accuracy: 0.6065 - lr: 0.0010 - 8s/epoch - 215ms/step
Epoch 54/75
36/36 - 8s - loss: 0.0041 - accuracy: 0.9753 - val_loss: 0.0703 - val_accuracy: 0.6040 - lr: 0.0010 - 8s/epoch - 215ms/step
Epoch 55/75
36/36 - 8s - loss: 0.0040 - accuracy: 0.9759 - val_loss: 0.0705 - val_accuracy: 0.6012 - lr: 0.0010 - 8s/epoch - 216ms/step
Epoch 56/75
36/36 - 8s - loss: 0.0038 - accuracy: 0.9772 - val_loss: 0.0693 - val_accuracy: 0.6086 - lr: 0.0010 - 8s/epoch - 215ms/step
Epoch 57/75
36/36 - 8s - loss: 0.0038 - accuracy: 0.9773 - val_loss: 0.0704 - val_accuracy: 0.6021 - lr: 0.0010 - 8s/epoch - 215ms/step
Epoch 58/75
36/36 - 8s - loss: 0.0038 - accuracy: 0.9773 - val_loss: 0.0700 - val_accuracy: 0.6037 - lr: 0.0010 - 8s/epoch - 215ms/step
Epoch 59/75
36/36 - 8s - loss: 0.0041 - accuracy: 0.9748 - val_loss: 0.0715 - val_accuracy: 0.5940 - lr: 0.0010 - 8s/epoch - 215ms/step
Epoch 60/75
36/36 - 8s - loss: 0.0040 - accuracy: 0.9763 - val_loss: 0.0700 - val_accuracy: 0.6033 - lr: 0.0010 - 8s/epoch - 215ms/step
Epoch 61/75
36/36 - 8s - loss: 0.0040 - accuracy: 0.9758 - val_loss: 0.0704 - val_accuracy: 0.6020 - lr: 0.0010 - 8s/epoch - 215ms/step
Epoch 62/75
36/36 - 8s - loss: 0.0039 - accuracy: 0.9763 - val_loss: 0.0708 - val_accuracy: 0.5999 - lr: 0.0010 - 8s/epoch - 215ms/step
Epoch 63/75
36/36 - 8s - loss: 0.0038 - accuracy: 0.9774 - val_loss: 0.0711 - val_accuracy: 0.5979 - lr: 0.0010 - 8s/epoch - 215ms/step
Epoch 64/75
36/36 - 8s - loss: 0.0038 - accuracy: 0.9770 - val_loss: 0.0720 - val_accuracy: 0.5938 - lr: 0.0010 - 8s/epoch - 216ms/step
Epoch 65/75
36/36 - 8s - loss: 0.0039 - accuracy: 0.9765 - val_loss: 0.0741 - val_accuracy: 0.5820 - lr: 0.0010 - 8s/epoch - 215ms/step
Epoch 66/75
36/36 - 8s - loss: 0.0039 - accuracy: 0.9765 - val_loss: 0.0736 - val_accuracy: 0.5840 - lr: 0.0010 - 8s/epoch - 215ms/step
Epoch 67/75
36/36 - 8s - loss: 0.0038 - accuracy: 0.9773 - val_loss: 0.0719 - val_accuracy: 0.5946 - lr: 0.0010 - 8s/epoch - 215ms/step
Epoch 68/75
36/36 - 8s - loss: 0.0037 - accuracy: 0.9777 - val_loss: 0.0724 - val_accuracy: 0.5909 - lr: 0.0010 - 8s/epoch - 215ms/step
Epoch 69/75
36/36 - 8s - loss: 0.0037 - accuracy: 0.9777 - val_loss: 0.0720 - val_accuracy: 0.5931 - lr: 0.0010 - 8s/epoch - 215ms/step
Epoch 70/75
36/36 - 8s - loss: 0.0037 - accuracy: 0.9780 - val_loss: 0.0730 - val_accuracy: 0.5888 - lr: 0.0010 - 8s/epoch - 214ms/step
Epoch 71/75
36/36 - 8s - loss: 0.0039 - accuracy: 0.9767 - val_loss: 0.0720 - val_accuracy: 0.5930 - lr: 0.0010 - 8s/epoch - 215ms/step
Epoch 72/75
36/36 - 8s - loss: 0.0039 - accuracy: 0.9767 - val_loss: 0.0727 - val_accuracy: 0.5878 - lr: 0.0010 - 8s/epoch - 216ms/step
Epoch 73/75
36/36 - 8s - loss: 0.0037 - accuracy: 0.9780 - val_loss: 0.0726 - val_accuracy: 0.5908 - lr: 0.0010 - 8s/epoch - 215ms/step
Epoch 74/75
36/36 - 8s - loss: 0.0037 - accuracy: 0.9777 - val_loss: 0.0718 - val_accuracy: 0.5943 - lr: 0.0010 - 8s/epoch - 215ms/step
Epoch 75/75
36/36 - 8s - loss: 0.0039 - accuracy: 0.9769 - val_loss: 0.0718 - val_accuracy: 0.5962 - lr: 0.0010 - 8s/epoch - 215ms/step
Epoch 1/100
4378/4378 - 77s - loss: 0.0156 - accuracy: 0.9003 - val_loss: 0.0630 - val_accuracy: 0.6252 - lr: 0.0010 - 77s/epoch - 18ms/step
Epoch 2/100
4378/4378 - 75s - loss: 0.0163 - accuracy: 0.8906 - val_loss: 0.0615 - val_accuracy: 0.6084 - lr: 0.0010 - 75s/epoch - 17ms/step
Epoch 3/100
4378/4378 - 75s - loss: 0.0159 - accuracy: 0.8925 - val_loss: 0.0639 - val_accuracy: 0.5888 - lr: 0.0010 - 75s/epoch - 17ms/step
Epoch 4/100
4378/4378 - 75s - loss: 0.0160 - accuracy: 0.8913 - val_loss: 0.0601 - val_accuracy: 0.6193 - lr: 0.0010 - 75s/epoch - 17ms/step
Epoch 5/100
4378/4378 - 75s - loss: 0.0160 - accuracy: 0.8912 - val_loss: 0.0638 - val_accuracy: 0.5935 - lr: 0.0010 - 75s/epoch - 17ms/step
Epoch 6/100
4378/4378 - 75s - loss: 0.0163 - accuracy: 0.8902 - val_loss: 0.0588 - val_accuracy: 0.6243 - lr: 0.0010 - 75s/epoch - 17ms/step
Epoch 7/100
4378/4378 - 75s - loss: 0.0161 - accuracy: 0.8908 - val_loss: 0.0644 - val_accuracy: 0.5859 - lr: 0.0010 - 75s/epoch - 17ms/step
Epoch 8/100
4378/4378 - 75s - loss: 0.0161 - accuracy: 0.8911 - val_loss: 0.0705 - val_accuracy: 0.5491 - lr: 0.0010 - 75s/epoch - 17ms/step
Epoch 9/100
4378/4378 - 75s - loss: 0.0161 - accuracy: 0.8903 - val_loss: 0.0582 - val_accuracy: 0.6348 - lr: 0.0010 - 75s/epoch - 17ms/step
Epoch 10/100
4378/4378 - 75s - loss: 0.0163 - accuracy: 0.8901 - val_loss: 0.0583 - val_accuracy: 0.6379 - lr: 0.0010 - 75s/epoch - 17ms/step
Epoch 11/100
4378/4378 - 75s - loss: 0.0161 - accuracy: 0.8911 - val_loss: 0.0623 - val_accuracy: 0.6068 - lr: 0.0010 - 75s/epoch - 17ms/step
Epoch 12/100
4378/4378 - 75s - loss: 0.0162 - accuracy: 0.8897 - val_loss: 0.0692 - val_accuracy: 0.5486 - lr: 0.0010 - 75s/epoch - 17ms/step
Epoch 13/100
4378/4378 - 75s - loss: 0.0162 - accuracy: 0.8901 - val_loss: 0.0527 - val_accuracy: 0.6617 - lr: 0.0010 - 75s/epoch - 17ms/step
Epoch 14/100
4378/4378 - 75s - loss: 0.0164 - accuracy: 0.8890 - val_loss: 0.0713 - val_accuracy: 0.5284 - lr: 0.0010 - 75s/epoch - 17ms/step
Epoch 15/100
4378/4378 - 75s - loss: 0.0162 - accuracy: 0.8903 - val_loss: 0.0683 - val_accuracy: 0.5617 - lr: 0.0010 - 75s/epoch - 17ms/step
Epoch 16/100
4378/4378 - 74s - loss: 0.0163 - accuracy: 0.8878 - val_loss: 0.0706 - val_accuracy: 0.5380 - lr: 0.0010 - 74s/epoch - 17ms/step
Epoch 17/100
4378/4378 - 75s - loss: 0.0162 - accuracy: 0.8903 - val_loss: 0.0558 - val_accuracy: 0.6431 - lr: 0.0010 - 75s/epoch - 17ms/step
Epoch 18/100
4378/4378 - 75s - loss: 0.0161 - accuracy: 0.8906 - val_loss: 0.0703 - val_accuracy: 0.5425 - lr: 0.0010 - 75s/epoch - 17ms/step
Epoch 19/100
4378/4378 - 75s - loss: 0.0163 - accuracy: 0.8888 - val_loss: 0.0531 - val_accuracy: 0.6624 - lr: 0.0010 - 75s/epoch - 17ms/step
Epoch 20/100
4378/4378 - 75s - loss: 0.0163 - accuracy: 0.8898 - val_loss: 0.0552 - val_accuracy: 0.6491 - lr: 0.0010 - 75s/epoch - 17ms/step
Epoch 21/100
4378/4378 - 75s - loss: 0.0163 - accuracy: 0.8890 - val_loss: 0.0560 - val_accuracy: 0.6388 - lr: 0.0010 - 75s/epoch - 17ms/step
Epoch 22/100
4378/4378 - 75s - loss: 0.0164 - accuracy: 0.8883 - val_loss: 0.0517 - val_accuracy: 0.6715 - lr: 0.0010 - 75s/epoch - 17ms/step
Epoch 23/100
4378/4378 - 75s - loss: 0.0161 - accuracy: 0.8900 - val_loss: 0.0585 - val_accuracy: 0.6227 - lr: 0.0010 - 75s/epoch - 17ms/step
Epoch 24/100
4378/4378 - 75s - loss: 0.0162 - accuracy: 0.8905 - val_loss: 0.0515 - val_accuracy: 0.6760 - lr: 0.0010 - 75s/epoch - 17ms/step
Epoch 25/100
4378/4378 - 74s - loss: 0.0162 - accuracy: 0.8907 - val_loss: 0.0508 - val_accuracy: 0.6768 - lr: 0.0010 - 74s/epoch - 17ms/step
Epoch 26/100
4378/4378 - 75s - loss: 0.0164 - accuracy: 0.8891 - val_loss: 0.0523 - val_accuracy: 0.6631 - lr: 0.0010 - 75s/epoch - 17ms/step
Epoch 27/100
4378/4378 - 75s - loss: 0.0165 - accuracy: 0.8890 - val_loss: 0.0537 - val_accuracy: 0.6578 - lr: 0.0010 - 75s/epoch - 17ms/step
Epoch 28/100
4378/4378 - 75s - loss: 0.0165 - accuracy: 0.8867 - val_loss: 0.0647 - val_accuracy: 0.5777 - lr: 0.0010 - 75s/epoch - 17ms/step
Epoch 29/100
4378/4378 - 75s - loss: 0.0161 - accuracy: 0.8908 - val_loss: 0.0626 - val_accuracy: 0.5934 - lr: 0.0010 - 75s/epoch - 17ms/step
Epoch 30/100
4378/4378 - 75s - loss: 0.0163 - accuracy: 0.8900 - val_loss: 0.0616 - val_accuracy: 0.6121 - lr: 0.0010 - 75s/epoch - 17ms/step
Epoch 31/100
4378/4378 - 75s - loss: 0.0162 - accuracy: 0.8904 - val_loss: 0.0605 - val_accuracy: 0.6057 - lr: 0.0010 - 75s/epoch - 17ms/step
Epoch 32/100
4378/4378 - 75s - loss: 0.0158 - accuracy: 0.8938 - val_loss: 0.0546 - val_accuracy: 0.6486 - lr: 0.0010 - 75s/epoch - 17ms/step
Epoch 33/100
4378/4378 - 75s - loss: 0.0164 - accuracy: 0.8887 - val_loss: 0.0732 - val_accuracy: 0.5226 - lr: 0.0010 - 75s/epoch - 17ms/step
Epoch 34/100
4378/4378 - 75s - loss: 0.0162 - accuracy: 0.8904 - val_loss: 0.0635 - val_accuracy: 0.5925 - lr: 0.0010 - 75s/epoch - 17ms/step
Epoch 35/100
4378/4378 - 76s - loss: 0.0165 - accuracy: 0.8879 - val_loss: 0.0569 - val_accuracy: 0.6407 - lr: 0.0010 - 76s/epoch - 17ms/step
Epoch 36/100
4378/4378 - 75s - loss: 0.0162 - accuracy: 0.8896 - val_loss: 0.0578 - val_accuracy: 0.6328 - lr: 0.0010 - 75s/epoch - 17ms/step
Epoch 37/100
4378/4378 - 75s - loss: 0.0163 - accuracy: 0.8898 - val_loss: 0.0576 - val_accuracy: 0.6347 - lr: 0.0010 - 75s/epoch - 17ms/step
Epoch 38/100
4378/4378 - 75s - loss: 0.0161 - accuracy: 0.8902 - val_loss: 0.0574 - val_accuracy: 0.6342 - lr: 0.0010 - 75s/epoch - 17ms/step
Epoch 39/100
4378/4378 - 75s - loss: 0.0163 - accuracy: 0.8886 - val_loss: 0.0562 - val_accuracy: 0.6367 - lr: 0.0010 - 75s/epoch - 17ms/step
Epoch 40/100
4378/4378 - 74s - loss: 0.0160 - accuracy: 0.8921 - val_loss: 0.0537 - val_accuracy: 0.6589 - lr: 0.0010 - 74s/epoch - 17ms/step
Epoch 41/100
4378/4378 - 75s - loss: 0.0164 - accuracy: 0.8883 - val_loss: 0.0587 - val_accuracy: 0.6257 - lr: 0.0010 - 75s/epoch - 17ms/step
Epoch 42/100
4378/4378 - 75s - loss: 0.0162 - accuracy: 0.8902 - val_loss: 0.0492 - val_accuracy: 0.6899 - lr: 0.0010 - 75s/epoch - 17ms/step
Epoch 43/100
4378/4378 - 75s - loss: 0.0162 - accuracy: 0.8894 - val_loss: 0.0592 - val_accuracy: 0.6282 - lr: 0.0010 - 75s/epoch - 17ms/step
Epoch 44/100
4378/4378 - 75s - loss: 0.0161 - accuracy: 0.8902 - val_loss: 0.0555 - val_accuracy: 0.6484 - lr: 0.0010 - 75s/epoch - 17ms/step
Epoch 45/100
4378/4378 - 75s - loss: 0.0162 - accuracy: 0.8910 - val_loss: 0.0486 - val_accuracy: 0.6861 - lr: 0.0010 - 75s/epoch - 17ms/step
Epoch 46/100
4378/4378 - 75s - loss: 0.0163 - accuracy: 0.8899 - val_loss: 0.0605 - val_accuracy: 0.6128 - lr: 0.0010 - 75s/epoch - 17ms/step
Epoch 47/100
4378/4378 - 75s - loss: 0.0161 - accuracy: 0.8914 - val_loss: 0.0587 - val_accuracy: 0.6214 - lr: 0.0010 - 75s/epoch - 17ms/step
Epoch 48/100
4378/4378 - 75s - loss: 0.0163 - accuracy: 0.8892 - val_loss: 0.0550 - val_accuracy: 0.6471 - lr: 0.0010 - 75s/epoch - 17ms/step
Epoch 49/100
4378/4378 - 75s - loss: 0.0165 - accuracy: 0.8889 - val_loss: 0.0573 - val_accuracy: 0.6332 - lr: 0.0010 - 75s/epoch - 17ms/step
Epoch 50/100
4378/4378 - 75s - loss: 0.0165 - accuracy: 0.8876 - val_loss: 0.0559 - val_accuracy: 0.6386 - lr: 0.0010 - 75s/epoch - 17ms/step
Epoch 51/100
4378/4378 - 75s - loss: 0.0163 - accuracy: 0.8897 - val_loss: 0.0566 - val_accuracy: 0.6398 - lr: 0.0010 - 75s/epoch - 17ms/step
Epoch 52/100
4378/4378 - 75s - loss: 0.0161 - accuracy: 0.8921 - val_loss: 0.0543 - val_accuracy: 0.6511 - lr: 0.0010 - 75s/epoch - 17ms/step
Epoch 53/100
4378/4378 - 74s - loss: 0.0164 - accuracy: 0.8891 - val_loss: 0.0588 - val_accuracy: 0.6220 - lr: 0.0010 - 74s/epoch - 17ms/step
Epoch 54/100
4378/4378 - 75s - loss: 0.0166 - accuracy: 0.8872 - val_loss: 0.0551 - val_accuracy: 0.6535 - lr: 0.0010 - 75s/epoch - 17ms/step
Epoch 55/100
4378/4378 - 75s - loss: 0.0163 - accuracy: 0.8897 - val_loss: 0.0533 - val_accuracy: 0.6655 - lr: 0.0010 - 75s/epoch - 17ms/step
Epoch 56/100
4378/4378 - 75s - loss: 0.0164 - accuracy: 0.8891 - val_loss: 0.0546 - val_accuracy: 0.6550 - lr: 0.0010 - 75s/epoch - 17ms/step
Epoch 57/100
4378/4378 - 74s - loss: 0.0165 - accuracy: 0.8892 - val_loss: 0.0585 - val_accuracy: 0.6203 - lr: 0.0010 - 74s/epoch - 17ms/step
Epoch 58/100
4378/4378 - 75s - loss: 0.0161 - accuracy: 0.8913 - val_loss: 0.0563 - val_accuracy: 0.6443 - lr: 0.0010 - 75s/epoch - 17ms/step
Epoch 59/100
4378/4378 - 74s - loss: 0.0162 - accuracy: 0.8902 - val_loss: 0.0520 - val_accuracy: 0.6789 - lr: 0.0010 - 74s/epoch - 17ms/step
Epoch 60/100
4378/4378 - 74s - loss: 0.0162 - accuracy: 0.8906 - val_loss: 0.0623 - val_accuracy: 0.6026 - lr: 0.0010 - 74s/epoch - 17ms/step
Epoch 61/100
4378/4378 - 75s - loss: 0.0158 - accuracy: 0.8931 - val_loss: 0.0562 - val_accuracy: 0.6448 - lr: 0.0010 - 75s/epoch - 17ms/step
Epoch 62/100
4378/4378 - 74s - loss: 0.0162 - accuracy: 0.8910 - val_loss: 0.0559 - val_accuracy: 0.6457 - lr: 0.0010 - 74s/epoch - 17ms/step
Epoch 63/100
4378/4378 - 75s - loss: 0.0161 - accuracy: 0.8905 - val_loss: 0.0647 - val_accuracy: 0.5868 - lr: 0.0010 - 75s/epoch - 17ms/step
Epoch 64/100
4378/4378 - 75s - loss: 0.0162 - accuracy: 0.8901 - val_loss: 0.0582 - val_accuracy: 0.6285 - lr: 0.0010 - 75s/epoch - 17ms/step
Epoch 65/100
4378/4378 - 75s - loss: 0.0160 - accuracy: 0.8917 - val_loss: 0.0843 - val_accuracy: 0.4560 - lr: 0.0010 - 75s/epoch - 17ms/step
Epoch 66/100
4378/4378 - 75s - loss: 0.0162 - accuracy: 0.8912 - val_loss: 0.0512 - val_accuracy: 0.6772 - lr: 0.0010 - 75s/epoch - 17ms/step
Epoch 67/100
4378/4378 - 75s - loss: 0.0160 - accuracy: 0.8927 - val_loss: 0.0607 - val_accuracy: 0.6117 - lr: 0.0010 - 75s/epoch - 17ms/step
Epoch 68/100
4378/4378 - 75s - loss: 0.0162 - accuracy: 0.8905 - val_loss: 0.0501 - val_accuracy: 0.6860 - lr: 0.0010 - 75s/epoch - 17ms/step
Epoch 69/100
4378/4378 - 75s - loss: 0.0161 - accuracy: 0.8919 - val_loss: 0.0545 - val_accuracy: 0.6510 - lr: 0.0010 - 75s/epoch - 17ms/step
Epoch 70/100
4378/4378 - 75s - loss: 0.0157 - accuracy: 0.8933 - val_loss: 0.0878 - val_accuracy: 0.4345 - lr: 0.0010 - 75s/epoch - 17ms/step
Epoch 71/100
4378/4378 - 75s - loss: 0.0159 - accuracy: 0.8926 - val_loss: 0.0560 - val_accuracy: 0.6419 - lr: 0.0010 - 75s/epoch - 17ms/step
Epoch 72/100
4378/4378 - 75s - loss: 0.0158 - accuracy: 0.8930 - val_loss: 0.0538 - val_accuracy: 0.6617 - lr: 0.0010 - 75s/epoch - 17ms/step
Epoch 73/100
4378/4378 - 75s - loss: 0.0162 - accuracy: 0.8909 - val_loss: 0.0623 - val_accuracy: 0.6043 - lr: 0.0010 - 75s/epoch - 17ms/step
Epoch 74/100
4378/4378 - 75s - loss: 0.0156 - accuracy: 0.8943 - val_loss: 0.0610 - val_accuracy: 0.6171 - lr: 0.0010 - 75s/epoch - 17ms/step
Epoch 75/100
4378/4378 - 75s - loss: 0.0159 - accuracy: 0.8914 - val_loss: 0.0638 - val_accuracy: 0.5881 - lr: 0.0010 - 75s/epoch - 17ms/step
Epoch 76/100
4378/4378 - 74s - loss: 0.0160 - accuracy: 0.8910 - val_loss: 0.0608 - val_accuracy: 0.6068 - lr: 0.0010 - 74s/epoch - 17ms/step
Epoch 77/100
4378/4378 - 75s - loss: 0.0158 - accuracy: 0.8938 - val_loss: 0.0567 - val_accuracy: 0.6362 - lr: 0.0010 - 75s/epoch - 17ms/step
Epoch 78/100
4378/4378 - 75s - loss: 0.0159 - accuracy: 0.8920 - val_loss: 0.0621 - val_accuracy: 0.6028 - lr: 0.0010 - 75s/epoch - 17ms/step
Epoch 79/100
4378/4378 - 75s - loss: 0.0158 - accuracy: 0.8932 - val_loss: 0.0571 - val_accuracy: 0.6329 - lr: 0.0010 - 75s/epoch - 17ms/step
Epoch 80/100
4378/4378 - 75s - loss: 0.0156 - accuracy: 0.8946 - val_loss: 0.0808 - val_accuracy: 0.4814 - lr: 0.0010 - 75s/epoch - 17ms/step
Epoch 81/100
4378/4378 - 75s - loss: 0.0159 - accuracy: 0.8926 - val_loss: 0.0481 - val_accuracy: 0.6979 - lr: 0.0010 - 75s/epoch - 17ms/step
Epoch 82/100
4378/4378 - 75s - loss: 0.0156 - accuracy: 0.8948 - val_loss: 0.0571 - val_accuracy: 0.6416 - lr: 0.0010 - 75s/epoch - 17ms/step
Epoch 83/100
4378/4378 - 76s - loss: 0.0161 - accuracy: 0.8921 - val_loss: 0.0602 - val_accuracy: 0.6268 - lr: 0.0010 - 76s/epoch - 17ms/step
Epoch 84/100
4378/4378 - 75s - loss: 0.0161 - accuracy: 0.8916 - val_loss: 0.0619 - val_accuracy: 0.6009 - lr: 0.0010 - 75s/epoch - 17ms/step
Epoch 85/100
4378/4378 - 75s - loss: 0.0158 - accuracy: 0.8935 - val_loss: 0.0573 - val_accuracy: 0.6418 - lr: 0.0010 - 75s/epoch - 17ms/step
Epoch 86/100
4378/4378 - 75s - loss: 0.0159 - accuracy: 0.8936 - val_loss: 0.0619 - val_accuracy: 0.6082 - lr: 0.0010 - 75s/epoch - 17ms/step
Epoch 87/100
4378/4378 - 75s - loss: 0.0161 - accuracy: 0.8914 - val_loss: 0.0638 - val_accuracy: 0.5945 - lr: 0.0010 - 75s/epoch - 17ms/step
Epoch 88/100
4378/4378 - 75s - loss: 0.0160 - accuracy: 0.8928 - val_loss: 0.0601 - val_accuracy: 0.6255 - lr: 0.0010 - 75s/epoch - 17ms/step
Epoch 89/100
4378/4378 - 74s - loss: 0.0158 - accuracy: 0.8934 - val_loss: 0.0694 - val_accuracy: 0.5576 - lr: 0.0010 - 74s/epoch - 17ms/step
Epoch 90/100
4378/4378 - 75s - loss: 0.0157 - accuracy: 0.8933 - val_loss: 0.0642 - val_accuracy: 0.5925 - lr: 0.0010 - 75s/epoch - 17ms/step
Epoch 91/100
4378/4378 - 74s - loss: 0.0158 - accuracy: 0.8943 - val_loss: 0.0595 - val_accuracy: 0.6242 - lr: 0.0010 - 74s/epoch - 17ms/step
Epoch 92/100
4378/4378 - 75s - loss: 0.0163 - accuracy: 0.8899 - val_loss: 0.0597 - val_accuracy: 0.6205 - lr: 0.0010 - 75s/epoch - 17ms/step
Epoch 93/100
4378/4378 - 75s - loss: 0.0160 - accuracy: 0.8924 - val_loss: 0.0644 - val_accuracy: 0.5888 - lr: 0.0010 - 75s/epoch - 17ms/step
Epoch 94/100
4378/4378 - 75s - loss: 0.0158 - accuracy: 0.8936 - val_loss: 0.0635 - val_accuracy: 0.6012 - lr: 0.0010 - 75s/epoch - 17ms/step
Epoch 95/100
4378/4378 - 75s - loss: 0.0161 - accuracy: 0.8923 - val_loss: 0.0638 - val_accuracy: 0.5968 - lr: 0.0010 - 75s/epoch - 17ms/step
Epoch 96/100
4378/4378 - 74s - loss: 0.0160 - accuracy: 0.8922 - val_loss: 0.0670 - val_accuracy: 0.5637 - lr: 0.0010 - 74s/epoch - 17ms/step
Epoch 97/100
4378/4378 - 75s - loss: 0.0160 - accuracy: 0.8919 - val_loss: 0.0635 - val_accuracy: 0.5905 - lr: 0.0010 - 75s/epoch - 17ms/step
Epoch 98/100
4378/4378 - 75s - loss: 0.0161 - accuracy: 0.8920 - val_loss: 0.0599 - val_accuracy: 0.6193 - lr: 0.0010 - 75s/epoch - 17ms/step
Epoch 99/100
4378/4378 - 75s - loss: 0.0163 - accuracy: 0.8899 - val_loss: 0.0660 - val_accuracy: 0.5838 - lr: 0.0010 - 75s/epoch - 17ms/step
Epoch 100/100
4378/4378 - 75s - loss: 0.0163 - accuracy: 0.8893 - val_loss: 0.0598 - val_accuracy: 0.6157 - lr: 0.0010 - 75s/epoch - 17ms/step
Epoch 1/100
876/876 - 21s - loss: 0.0115 - accuracy: 0.9251 - val_loss: 0.0645 - val_accuracy: 0.5971 - lr: 0.0010 - 21s/epoch - 24ms/step
Epoch 2/100
876/876 - 18s - loss: 0.0114 - accuracy: 0.9253 - val_loss: 0.0626 - val_accuracy: 0.6136 - lr: 0.0010 - 18s/epoch - 21ms/step
Epoch 3/100
876/876 - 18s - loss: 0.0114 - accuracy: 0.9249 - val_loss: 0.0679 - val_accuracy: 0.5837 - lr: 0.0010 - 18s/epoch - 21ms/step
Epoch 4/100
876/876 - 18s - loss: 0.0109 - accuracy: 0.9280 - val_loss: 0.0669 - val_accuracy: 0.5915 - lr: 0.0010 - 18s/epoch - 21ms/step
Epoch 5/100
876/876 - 18s - loss: 0.0109 - accuracy: 0.9286 - val_loss: 0.0649 - val_accuracy: 0.6073 - lr: 0.0010 - 18s/epoch - 21ms/step
Epoch 6/100
876/876 - 18s - loss: 0.0107 - accuracy: 0.9301 - val_loss: 0.0622 - val_accuracy: 0.6250 - lr: 0.0010 - 18s/epoch - 21ms/step
Epoch 7/100
876/876 - 18s - loss: 0.0105 - accuracy: 0.9312 - val_loss: 0.0705 - val_accuracy: 0.5754 - lr: 0.0010 - 18s/epoch - 21ms/step
Epoch 8/100
876/876 - 18s - loss: 0.0106 - accuracy: 0.9302 - val_loss: 0.0705 - val_accuracy: 0.5709 - lr: 0.0010 - 18s/epoch - 21ms/step
Epoch 9/100
876/876 - 18s - loss: 0.0105 - accuracy: 0.9312 - val_loss: 0.0685 - val_accuracy: 0.5880 - lr: 0.0010 - 18s/epoch - 21ms/step
Epoch 10/100
876/876 - 18s - loss: 0.0103 - accuracy: 0.9325 - val_loss: 0.0602 - val_accuracy: 0.6350 - lr: 0.0010 - 18s/epoch - 21ms/step
Epoch 11/100
876/876 - 18s - loss: 0.0100 - accuracy: 0.9356 - val_loss: 0.0634 - val_accuracy: 0.6165 - lr: 0.0010 - 18s/epoch - 21ms/step
Epoch 12/100
876/876 - 18s - loss: 0.0104 - accuracy: 0.9318 - val_loss: 0.0611 - val_accuracy: 0.6264 - lr: 0.0010 - 18s/epoch - 21ms/step
Epoch 13/100
876/876 - 18s - loss: 0.0101 - accuracy: 0.9338 - val_loss: 0.0649 - val_accuracy: 0.6039 - lr: 0.0010 - 18s/epoch - 21ms/step
Epoch 14/100
876/876 - 18s - loss: 0.0104 - accuracy: 0.9316 - val_loss: 0.0695 - val_accuracy: 0.5749 - lr: 0.0010 - 18s/epoch - 21ms/step
Epoch 15/100
876/876 - 18s - loss: 0.0101 - accuracy: 0.9338 - val_loss: 0.0696 - val_accuracy: 0.5721 - lr: 0.0010 - 18s/epoch - 21ms/step
Epoch 16/100
876/876 - 18s - loss: 0.0102 - accuracy: 0.9332 - val_loss: 0.0719 - val_accuracy: 0.5650 - lr: 0.0010 - 18s/epoch - 21ms/step
Epoch 17/100
876/876 - 18s - loss: 0.0100 - accuracy: 0.9340 - val_loss: 0.0618 - val_accuracy: 0.6342 - lr: 0.0010 - 18s/epoch - 21ms/step
Epoch 18/100
876/876 - 18s - loss: 0.0101 - accuracy: 0.9338 - val_loss: 0.0602 - val_accuracy: 0.6419 - lr: 0.0010 - 18s/epoch - 21ms/step
Epoch 19/100
876/876 - 18s - loss: 0.0102 - accuracy: 0.9331 - val_loss: 0.0619 - val_accuracy: 0.6272 - lr: 0.0010 - 18s/epoch - 21ms/step
Epoch 20/100
876/876 - 18s - loss: 0.0099 - accuracy: 0.9355 - val_loss: 0.0685 - val_accuracy: 0.5928 - lr: 0.0010 - 18s/epoch - 21ms/step
Epoch 21/100
876/876 - 18s - loss: 0.0098 - accuracy: 0.9365 - val_loss: 0.0645 - val_accuracy: 0.6165 - lr: 0.0010 - 18s/epoch - 21ms/step
Epoch 22/100
876/876 - 18s - loss: 0.0097 - accuracy: 0.9373 - val_loss: 0.0656 - val_accuracy: 0.6067 - lr: 0.0010 - 18s/epoch - 21ms/step
Epoch 23/100
876/876 - 18s - loss: 0.0098 - accuracy: 0.9357 - val_loss: 0.0679 - val_accuracy: 0.5927 - lr: 0.0010 - 18s/epoch - 21ms/step
Epoch 24/100
876/876 - 18s - loss: 0.0097 - accuracy: 0.9364 - val_loss: 0.0687 - val_accuracy: 0.5856 - lr: 0.0010 - 18s/epoch - 21ms/step
Epoch 25/100
876/876 - 18s - loss: 0.0100 - accuracy: 0.9342 - val_loss: 0.0706 - val_accuracy: 0.5789 - lr: 0.0010 - 18s/epoch - 21ms/step
Epoch 26/100
876/876 - 18s - loss: 0.0099 - accuracy: 0.9358 - val_loss: 0.0650 - val_accuracy: 0.6097 - lr: 0.0010 - 18s/epoch - 21ms/step
Epoch 27/100
876/876 - 18s - loss: 0.0098 - accuracy: 0.9365 - val_loss: 0.0739 - val_accuracy: 0.5523 - lr: 0.0010 - 18s/epoch - 21ms/step
Epoch 28/100
876/876 - 18s - loss: 0.0099 - accuracy: 0.9354 - val_loss: 0.0628 - val_accuracy: 0.6223 - lr: 0.0010 - 18s/epoch - 21ms/step
Epoch 29/100
876/876 - 18s - loss: 0.0096 - accuracy: 0.9375 - val_loss: 0.0657 - val_accuracy: 0.6063 - lr: 0.0010 - 18s/epoch - 21ms/step
Epoch 30/100
876/876 - 18s - loss: 0.0098 - accuracy: 0.9363 - val_loss: 0.0631 - val_accuracy: 0.6288 - lr: 0.0010 - 18s/epoch - 21ms/step
Epoch 31/100
876/876 - 18s - loss: 0.0097 - accuracy: 0.9370 - val_loss: 0.0763 - val_accuracy: 0.5394 - lr: 0.0010 - 18s/epoch - 21ms/step
Epoch 32/100
876/876 - 18s - loss: 0.0095 - accuracy: 0.9381 - val_loss: 0.0684 - val_accuracy: 0.5903 - lr: 0.0010 - 18s/epoch - 21ms/step
Epoch 33/100
876/876 - 18s - loss: 0.0097 - accuracy: 0.9366 - val_loss: 0.0666 - val_accuracy: 0.5987 - lr: 0.0010 - 18s/epoch - 21ms/step
Epoch 34/100
876/876 - 18s - loss: 0.0098 - accuracy: 0.9366 - val_loss: 0.0710 - val_accuracy: 0.5751 - lr: 0.0010 - 18s/epoch - 21ms/step
Epoch 35/100
876/876 - 18s - loss: 0.0096 - accuracy: 0.9382 - val_loss: 0.0720 - val_accuracy: 0.5687 - lr: 0.0010 - 18s/epoch - 21ms/step
Epoch 36/100
876/876 - 18s - loss: 0.0098 - accuracy: 0.9363 - val_loss: 0.0608 - val_accuracy: 0.6352 - lr: 0.0010 - 18s/epoch - 21ms/step
Epoch 37/100
876/876 - 18s - loss: 0.0096 - accuracy: 0.9381 - val_loss: 0.0665 - val_accuracy: 0.6054 - lr: 0.0010 - 18s/epoch - 21ms/step
Epoch 38/100
876/876 - 18s - loss: 0.0097 - accuracy: 0.9369 - val_loss: 0.0682 - val_accuracy: 0.5960 - lr: 0.0010 - 18s/epoch - 21ms/step
Epoch 39/100
876/876 - 18s - loss: 0.0095 - accuracy: 0.9385 - val_loss: 0.0671 - val_accuracy: 0.5953 - lr: 0.0010 - 18s/epoch - 21ms/step
Epoch 40/100
876/876 - 18s - loss: 0.0095 - accuracy: 0.9389 - val_loss: 0.0657 - val_accuracy: 0.6110 - lr: 0.0010 - 18s/epoch - 21ms/step
Epoch 41/100
876/876 - 18s - loss: 0.0095 - accuracy: 0.9379 - val_loss: 0.0661 - val_accuracy: 0.6065 - lr: 0.0010 - 18s/epoch - 21ms/step
Epoch 42/100
876/876 - 18s - loss: 0.0095 - accuracy: 0.9378 - val_loss: 0.0683 - val_accuracy: 0.5943 - lr: 0.0010 - 18s/epoch - 21ms/step
Epoch 43/100
876/876 - 18s - loss: 0.0094 - accuracy: 0.9395 - val_loss: 0.0672 - val_accuracy: 0.6000 - lr: 0.0010 - 18s/epoch - 21ms/step
Epoch 44/100
876/876 - 18s - loss: 0.0094 - accuracy: 0.9392 - val_loss: 0.0684 - val_accuracy: 0.5924 - lr: 0.0010 - 18s/epoch - 21ms/step
Epoch 45/100
876/876 - 18s - loss: 0.0094 - accuracy: 0.9390 - val_loss: 0.0728 - val_accuracy: 0.5662 - lr: 0.0010 - 18s/epoch - 21ms/step
Epoch 46/100
876/876 - 18s - loss: 0.0093 - accuracy: 0.9406 - val_loss: 0.0688 - val_accuracy: 0.5902 - lr: 0.0010 - 18s/epoch - 21ms/step
Epoch 47/100
876/876 - 18s - loss: 0.0095 - accuracy: 0.9378 - val_loss: 0.0714 - val_accuracy: 0.5717 - lr: 0.0010 - 18s/epoch - 21ms/step
Epoch 48/100
876/876 - 18s - loss: 0.0092 - accuracy: 0.9404 - val_loss: 0.0689 - val_accuracy: 0.5845 - lr: 0.0010 - 18s/epoch - 21ms/step
Epoch 49/100
876/876 - 18s - loss: 0.0092 - accuracy: 0.9404 - val_loss: 0.0644 - val_accuracy: 0.6168 - lr: 0.0010 - 18s/epoch - 21ms/step
Epoch 50/100
876/876 - 18s - loss: 0.0094 - accuracy: 0.9389 - val_loss: 0.0656 - val_accuracy: 0.6132 - lr: 0.0010 - 18s/epoch - 21ms/step
Epoch 51/100
876/876 - 18s - loss: 0.0096 - accuracy: 0.9378 - val_loss: 0.0673 - val_accuracy: 0.6010 - lr: 0.0010 - 18s/epoch - 21ms/step
Epoch 52/100
876/876 - 18s - loss: 0.0094 - accuracy: 0.9386 - val_loss: 0.0683 - val_accuracy: 0.5919 - lr: 0.0010 - 18s/epoch - 21ms/step
Epoch 53/100
876/876 - 18s - loss: 0.0093 - accuracy: 0.9404 - val_loss: 0.0690 - val_accuracy: 0.5894 - lr: 0.0010 - 18s/epoch - 21ms/step
Epoch 54/100
876/876 - 18s - loss: 0.0093 - accuracy: 0.9402 - val_loss: 0.0657 - val_accuracy: 0.6099 - lr: 0.0010 - 18s/epoch - 21ms/step
Epoch 55/100
876/876 - 18s - loss: 0.0094 - accuracy: 0.9387 - val_loss: 0.0681 - val_accuracy: 0.5946 - lr: 0.0010 - 18s/epoch - 21ms/step
Epoch 56/100
876/876 - 18s - loss: 0.0096 - accuracy: 0.9379 - val_loss: 0.0683 - val_accuracy: 0.5962 - lr: 0.0010 - 18s/epoch - 21ms/step
Epoch 57/100
876/876 - 18s - loss: 0.0094 - accuracy: 0.9397 - val_loss: 0.0715 - val_accuracy: 0.5747 - lr: 0.0010 - 18s/epoch - 21ms/step
Epoch 58/100
876/876 - 18s - loss: 0.0094 - accuracy: 0.9394 - val_loss: 0.0712 - val_accuracy: 0.5760 - lr: 0.0010 - 18s/epoch - 21ms/step
Epoch 59/100
876/876 - 18s - loss: 0.0094 - accuracy: 0.9387 - val_loss: 0.0681 - val_accuracy: 0.5938 - lr: 0.0010 - 18s/epoch - 21ms/step
Epoch 60/100
876/876 - 18s - loss: 0.0093 - accuracy: 0.9394 - val_loss: 0.0796 - val_accuracy: 0.5291 - lr: 0.0010 - 18s/epoch - 21ms/step
Epoch 61/100
876/876 - 18s - loss: 0.0096 - accuracy: 0.9374 - val_loss: 0.0775 - val_accuracy: 0.5313 - lr: 0.0010 - 18s/epoch - 21ms/step
Epoch 62/100
876/876 - 18s - loss: 0.0094 - accuracy: 0.9395 - val_loss: 0.0717 - val_accuracy: 0.5696 - lr: 0.0010 - 18s/epoch - 21ms/step
Epoch 63/100
876/876 - 18s - loss: 0.0092 - accuracy: 0.9407 - val_loss: 0.0749 - val_accuracy: 0.5498 - lr: 0.0010 - 18s/epoch - 21ms/step
Epoch 64/100
876/876 - 18s - loss: 0.0094 - accuracy: 0.9388 - val_loss: 0.0653 - val_accuracy: 0.6142 - lr: 0.0010 - 18s/epoch - 21ms/step
Epoch 65/100
876/876 - 18s - loss: 0.0092 - accuracy: 0.9403 - val_loss: 0.0680 - val_accuracy: 0.5939 - lr: 0.0010 - 18s/epoch - 21ms/step
Epoch 66/100
876/876 - 18s - loss: 0.0095 - accuracy: 0.9392 - val_loss: 0.0686 - val_accuracy: 0.5903 - lr: 0.0010 - 18s/epoch - 21ms/step
Epoch 67/100
876/876 - 18s - loss: 0.0092 - accuracy: 0.9406 - val_loss: 0.0662 - val_accuracy: 0.6073 - lr: 0.0010 - 18s/epoch - 21ms/step
Epoch 68/100
876/876 - 18s - loss: 0.0092 - accuracy: 0.9405 - val_loss: 0.0671 - val_accuracy: 0.6025 - lr: 0.0010 - 18s/epoch - 21ms/step
Epoch 69/100
876/876 - 18s - loss: 0.0093 - accuracy: 0.9401 - val_loss: 0.0686 - val_accuracy: 0.5861 - lr: 0.0010 - 18s/epoch - 21ms/step
Epoch 70/100
876/876 - 18s - loss: 0.0094 - accuracy: 0.9395 - val_loss: 0.0693 - val_accuracy: 0.5845 - lr: 0.0010 - 18s/epoch - 21ms/step
Epoch 71/100
876/876 - 18s - loss: 0.0091 - accuracy: 0.9405 - val_loss: 0.0665 - val_accuracy: 0.6023 - lr: 0.0010 - 18s/epoch - 21ms/step
Epoch 72/100
876/876 - 18s - loss: 0.0093 - accuracy: 0.9400 - val_loss: 0.0718 - val_accuracy: 0.5624 - lr: 0.0010 - 18s/epoch - 21ms/step
Epoch 73/100
876/876 - 18s - loss: 0.0093 - accuracy: 0.9403 - val_loss: 0.0673 - val_accuracy: 0.6033 - lr: 0.0010 - 18s/epoch - 21ms/step
Epoch 74/100
876/876 - 18s - loss: 0.0094 - accuracy: 0.9395 - val_loss: 0.0676 - val_accuracy: 0.5984 - lr: 0.0010 - 18s/epoch - 21ms/step
Epoch 75/100
876/876 - 18s - loss: 0.0094 - accuracy: 0.9392 - val_loss: 0.0676 - val_accuracy: 0.5994 - lr: 0.0010 - 18s/epoch - 21ms/step
Epoch 76/100
876/876 - 18s - loss: 0.0093 - accuracy: 0.9396 - val_loss: 0.0651 - val_accuracy: 0.6140 - lr: 0.0010 - 18s/epoch - 21ms/step
Epoch 77/100
876/876 - 18s - loss: 0.0091 - accuracy: 0.9407 - val_loss: 0.0656 - val_accuracy: 0.6102 - lr: 0.0010 - 18s/epoch - 21ms/step
Epoch 78/100
876/876 - 18s - loss: 0.0092 - accuracy: 0.9410 - val_loss: 0.0715 - val_accuracy: 0.5719 - lr: 0.0010 - 18s/epoch - 21ms/step
Epoch 79/100
876/876 - 18s - loss: 0.0092 - accuracy: 0.9399 - val_loss: 0.0667 - val_accuracy: 0.6031 - lr: 0.0010 - 18s/epoch - 21ms/step
Epoch 80/100
876/876 - 18s - loss: 0.0090 - accuracy: 0.9421 - val_loss: 0.0694 - val_accuracy: 0.5884 - lr: 0.0010 - 18s/epoch - 21ms/step
Epoch 81/100
876/876 - 18s - loss: 0.0091 - accuracy: 0.9414 - val_loss: 0.0702 - val_accuracy: 0.5799 - lr: 0.0010 - 18s/epoch - 21ms/step
Epoch 82/100
876/876 - 18s - loss: 0.0091 - accuracy: 0.9414 - val_loss: 0.0664 - val_accuracy: 0.6066 - lr: 0.0010 - 18s/epoch - 21ms/step
Epoch 83/100
876/876 - 18s - loss: 0.0090 - accuracy: 0.9410 - val_loss: 0.0701 - val_accuracy: 0.5819 - lr: 0.0010 - 18s/epoch - 21ms/step
Epoch 84/100
876/876 - 18s - loss: 0.0092 - accuracy: 0.9405 - val_loss: 0.0698 - val_accuracy: 0.5868 - lr: 0.0010 - 18s/epoch - 21ms/step
Epoch 85/100
876/876 - 18s - loss: 0.0090 - accuracy: 0.9416 - val_loss: 0.0631 - val_accuracy: 0.6274 - lr: 0.0010 - 18s/epoch - 21ms/step
Epoch 86/100
876/876 - 18s - loss: 0.0094 - accuracy: 0.9396 - val_loss: 0.0754 - val_accuracy: 0.5494 - lr: 0.0010 - 18s/epoch - 21ms/step
Epoch 87/100
876/876 - 18s - loss: 0.0092 - accuracy: 0.9405 - val_loss: 0.0737 - val_accuracy: 0.5601 - lr: 0.0010 - 18s/epoch - 21ms/step
Epoch 88/100
876/876 - 18s - loss: 0.0093 - accuracy: 0.9404 - val_loss: 0.0703 - val_accuracy: 0.5812 - lr: 0.0010 - 18s/epoch - 21ms/step
Epoch 89/100
876/876 - 18s - loss: 0.0090 - accuracy: 0.9426 - val_loss: 0.0681 - val_accuracy: 0.5973 - lr: 0.0010 - 18s/epoch - 21ms/step
Epoch 90/100
876/876 - 18s - loss: 0.0088 - accuracy: 0.9427 - val_loss: 0.0742 - val_accuracy: 0.5630 - lr: 0.0010 - 18s/epoch - 21ms/step
Epoch 91/100
876/876 - 18s - loss: 0.0090 - accuracy: 0.9423 - val_loss: 0.0638 - val_accuracy: 0.6241 - lr: 0.0010 - 18s/epoch - 21ms/step
Epoch 92/100
876/876 - 18s - loss: 0.0092 - accuracy: 0.9408 - val_loss: 0.0775 - val_accuracy: 0.5340 - lr: 0.0010 - 18s/epoch - 21ms/step
Epoch 93/100
876/876 - 18s - loss: 0.0093 - accuracy: 0.9405 - val_loss: 0.0703 - val_accuracy: 0.5790 - lr: 0.0010 - 18s/epoch - 21ms/step
Epoch 94/100
876/876 - 18s - loss: 0.0092 - accuracy: 0.9405 - val_loss: 0.0729 - val_accuracy: 0.5657 - lr: 0.0010 - 18s/epoch - 21ms/step
Epoch 95/100
876/876 - 18s - loss: 0.0090 - accuracy: 0.9424 - val_loss: 0.0592 - val_accuracy: 0.6459 - lr: 0.0010 - 18s/epoch - 21ms/step
Epoch 96/100
876/876 - 18s - loss: 0.0090 - accuracy: 0.9418 - val_loss: 0.0648 - val_accuracy: 0.6165 - lr: 0.0010 - 18s/epoch - 21ms/step
Epoch 97/100
876/876 - 18s - loss: 0.0090 - accuracy: 0.9419 - val_loss: 0.0775 - val_accuracy: 0.5386 - lr: 0.0010 - 18s/epoch - 21ms/step
Epoch 98/100
876/876 - 18s - loss: 0.0091 - accuracy: 0.9411 - val_loss: 0.0708 - val_accuracy: 0.5815 - lr: 0.0010 - 18s/epoch - 21ms/step
Epoch 99/100
876/876 - 18s - loss: 0.0089 - accuracy: 0.9422 - val_loss: 0.0735 - val_accuracy: 0.5606 - lr: 0.0010 - 18s/epoch - 21ms/step
Epoch 100/100
876/876 - 18s - loss: 0.0093 - accuracy: 0.9404 - val_loss: 0.0777 - val_accuracy: 0.5352 - lr: 0.0010 - 18s/epoch - 21ms/step
Epoch 1/100
176/176 - 11s - loss: 0.0070 - accuracy: 0.9559 - val_loss: 0.0695 - val_accuracy: 0.5918 - lr: 0.0010 - 11s/epoch - 65ms/step
Epoch 2/100
176/176 - 9s - loss: 0.0059 - accuracy: 0.9642 - val_loss: 0.0709 - val_accuracy: 0.5832 - lr: 0.0010 - 9s/epoch - 51ms/step
Epoch 3/100
176/176 - 9s - loss: 0.0056 - accuracy: 0.9656 - val_loss: 0.0736 - val_accuracy: 0.5692 - lr: 0.0010 - 9s/epoch - 51ms/step
Epoch 4/100
176/176 - 9s - loss: 0.0057 - accuracy: 0.9649 - val_loss: 0.0700 - val_accuracy: 0.5935 - lr: 0.0010 - 9s/epoch - 51ms/step
Epoch 5/100
176/176 - 9s - loss: 0.0057 - accuracy: 0.9652 - val_loss: 0.0746 - val_accuracy: 0.5668 - lr: 0.0010 - 9s/epoch - 51ms/step
Epoch 6/100
176/176 - 9s - loss: 0.0058 - accuracy: 0.9649 - val_loss: 0.0722 - val_accuracy: 0.5836 - lr: 0.0010 - 9s/epoch - 51ms/step
Epoch 7/100
176/176 - 9s - loss: 0.0060 - accuracy: 0.9631 - val_loss: 0.0789 - val_accuracy: 0.5417 - lr: 0.0010 - 9s/epoch - 51ms/step
Epoch 8/100
176/176 - 9s - loss: 0.0061 - accuracy: 0.9625 - val_loss: 0.0717 - val_accuracy: 0.5877 - lr: 0.0010 - 9s/epoch - 51ms/step
Epoch 9/100
176/176 - 9s - loss: 0.0062 - accuracy: 0.9610 - val_loss: 0.0751 - val_accuracy: 0.5692 - lr: 0.0010 - 9s/epoch - 51ms/step
Epoch 10/100
176/176 - 9s - loss: 0.0062 - accuracy: 0.9618 - val_loss: 0.0762 - val_accuracy: 0.5645 - lr: 0.0010 - 9s/epoch - 51ms/step
Epoch 11/100
176/176 - 9s - loss: 0.0061 - accuracy: 0.9621 - val_loss: 0.0754 - val_accuracy: 0.5653 - lr: 0.0010 - 9s/epoch - 51ms/step
Epoch 12/100
176/176 - 9s - loss: 0.0060 - accuracy: 0.9620 - val_loss: 0.0772 - val_accuracy: 0.5564 - lr: 0.0010 - 9s/epoch - 50ms/step
Epoch 13/100
176/176 - 9s - loss: 0.0060 - accuracy: 0.9625 - val_loss: 0.0740 - val_accuracy: 0.5750 - lr: 0.0010 - 9s/epoch - 51ms/step
Epoch 14/100
176/176 - 9s - loss: 0.0061 - accuracy: 0.9619 - val_loss: 0.0750 - val_accuracy: 0.5712 - lr: 0.0010 - 9s/epoch - 51ms/step
Epoch 15/100
176/176 - 9s - loss: 0.0061 - accuracy: 0.9622 - val_loss: 0.0735 - val_accuracy: 0.5764 - lr: 0.0010 - 9s/epoch - 51ms/step
Epoch 16/100
176/176 - 9s - loss: 0.0060 - accuracy: 0.9628 - val_loss: 0.0747 - val_accuracy: 0.5726 - lr: 0.0010 - 9s/epoch - 51ms/step
Epoch 17/100
176/176 - 9s - loss: 0.0059 - accuracy: 0.9637 - val_loss: 0.0729 - val_accuracy: 0.5809 - lr: 0.0010 - 9s/epoch - 51ms/step
Epoch 18/100
176/176 - 9s - loss: 0.0059 - accuracy: 0.9634 - val_loss: 0.0735 - val_accuracy: 0.5755 - lr: 0.0010 - 9s/epoch - 51ms/step
Epoch 19/100
176/176 - 9s - loss: 0.0059 - accuracy: 0.9637 - val_loss: 0.0762 - val_accuracy: 0.5601 - lr: 0.0010 - 9s/epoch - 51ms/step
Epoch 20/100
176/176 - 9s - loss: 0.0059 - accuracy: 0.9632 - val_loss: 0.0807 - val_accuracy: 0.5356 - lr: 0.0010 - 9s/epoch - 51ms/step
Epoch 21/100
176/176 - 9s - loss: 0.0059 - accuracy: 0.9635 - val_loss: 0.0785 - val_accuracy: 0.5476 - lr: 0.0010 - 9s/epoch - 51ms/step
Epoch 22/100
176/176 - 9s - loss: 0.0059 - accuracy: 0.9631 - val_loss: 0.0743 - val_accuracy: 0.5756 - lr: 0.0010 - 9s/epoch - 51ms/step
Epoch 23/100
176/176 - 9s - loss: 0.0059 - accuracy: 0.9634 - val_loss: 0.0721 - val_accuracy: 0.5876 - lr: 0.0010 - 9s/epoch - 51ms/step
Epoch 24/100
176/176 - 9s - loss: 0.0060 - accuracy: 0.9625 - val_loss: 0.0729 - val_accuracy: 0.5826 - lr: 0.0010 - 9s/epoch - 51ms/step
Epoch 25/100
176/176 - 9s - loss: 0.0059 - accuracy: 0.9639 - val_loss: 0.0769 - val_accuracy: 0.5584 - lr: 0.0010 - 9s/epoch - 51ms/step
Epoch 26/100
176/176 - 9s - loss: 0.0057 - accuracy: 0.9655 - val_loss: 0.0745 - val_accuracy: 0.5737 - lr: 0.0010 - 9s/epoch - 51ms/step
Epoch 27/100
176/176 - 9s - loss: 0.0056 - accuracy: 0.9654 - val_loss: 0.0787 - val_accuracy: 0.5518 - lr: 0.0010 - 9s/epoch - 51ms/step
Epoch 28/100
176/176 - 9s - loss: 0.0057 - accuracy: 0.9649 - val_loss: 0.0805 - val_accuracy: 0.5392 - lr: 0.0010 - 9s/epoch - 51ms/step
Epoch 29/100
176/176 - 9s - loss: 0.0058 - accuracy: 0.9640 - val_loss: 0.0730 - val_accuracy: 0.5831 - lr: 0.0010 - 9s/epoch - 51ms/step
Epoch 30/100
176/176 - 9s - loss: 0.0057 - accuracy: 0.9651 - val_loss: 0.0794 - val_accuracy: 0.5446 - lr: 0.0010 - 9s/epoch - 51ms/step
Epoch 31/100
176/176 - 9s - loss: 0.0055 - accuracy: 0.9653 - val_loss: 0.0800 - val_accuracy: 0.5455 - lr: 0.0010 - 9s/epoch - 51ms/step
Epoch 32/100
176/176 - 9s - loss: 0.0056 - accuracy: 0.9659 - val_loss: 0.0731 - val_accuracy: 0.5844 - lr: 0.0010 - 9s/epoch - 51ms/step
Epoch 33/100
176/176 - 9s - loss: 0.0058 - accuracy: 0.9635 - val_loss: 0.0753 - val_accuracy: 0.5721 - lr: 0.0010 - 9s/epoch - 51ms/step
Epoch 34/100
176/176 - 9s - loss: 0.0058 - accuracy: 0.9641 - val_loss: 0.0732 - val_accuracy: 0.5822 - lr: 0.0010 - 9s/epoch - 51ms/step
Epoch 35/100
176/176 - 9s - loss: 0.0058 - accuracy: 0.9643 - val_loss: 0.0711 - val_accuracy: 0.5964 - lr: 0.0010 - 9s/epoch - 51ms/step
Epoch 36/100
176/176 - 9s - loss: 0.0059 - accuracy: 0.9632 - val_loss: 0.0766 - val_accuracy: 0.5641 - lr: 0.0010 - 9s/epoch - 51ms/step
Epoch 37/100
176/176 - 9s - loss: 0.0060 - accuracy: 0.9629 - val_loss: 0.0795 - val_accuracy: 0.5443 - lr: 0.0010 - 9s/epoch - 51ms/step
Epoch 38/100
176/176 - 9s - loss: 0.0058 - accuracy: 0.9641 - val_loss: 0.0756 - val_accuracy: 0.5689 - lr: 0.0010 - 9s/epoch - 51ms/step
Epoch 39/100
176/176 - 9s - loss: 0.0056 - accuracy: 0.9657 - val_loss: 0.0766 - val_accuracy: 0.5623 - lr: 0.0010 - 9s/epoch - 51ms/step
Epoch 40/100
176/176 - 9s - loss: 0.0058 - accuracy: 0.9642 - val_loss: 0.0751 - val_accuracy: 0.5709 - lr: 0.0010 - 9s/epoch - 51ms/step
Epoch 41/100
176/176 - 9s - loss: 0.0056 - accuracy: 0.9654 - val_loss: 0.0778 - val_accuracy: 0.5564 - lr: 0.0010 - 9s/epoch - 51ms/step
Epoch 42/100
176/176 - 9s - loss: 0.0057 - accuracy: 0.9644 - val_loss: 0.0802 - val_accuracy: 0.5386 - lr: 0.0010 - 9s/epoch - 51ms/step
Epoch 43/100
176/176 - 9s - loss: 0.0058 - accuracy: 0.9641 - val_loss: 0.0805 - val_accuracy: 0.5393 - lr: 0.0010 - 9s/epoch - 51ms/step
Epoch 44/100
176/176 - 9s - loss: 0.0058 - accuracy: 0.9641 - val_loss: 0.0745 - val_accuracy: 0.5766 - lr: 0.0010 - 9s/epoch - 51ms/step
Epoch 45/100
176/176 - 9s - loss: 0.0058 - accuracy: 0.9644 - val_loss: 0.0814 - val_accuracy: 0.5349 - lr: 0.0010 - 9s/epoch - 51ms/step
Epoch 46/100
176/176 - 9s - loss: 0.0058 - accuracy: 0.9636 - val_loss: 0.0793 - val_accuracy: 0.5486 - lr: 0.0010 - 9s/epoch - 51ms/step
Epoch 47/100
176/176 - 9s - loss: 0.0057 - accuracy: 0.9645 - val_loss: 0.0773 - val_accuracy: 0.5571 - lr: 0.0010 - 9s/epoch - 51ms/step
Epoch 48/100
176/176 - 9s - loss: 0.0056 - accuracy: 0.9659 - val_loss: 0.0811 - val_accuracy: 0.5321 - lr: 0.0010 - 9s/epoch - 51ms/step
Epoch 49/100
176/176 - 9s - loss: 0.0056 - accuracy: 0.9652 - val_loss: 0.0777 - val_accuracy: 0.5542 - lr: 0.0010 - 9s/epoch - 51ms/step
Epoch 50/100
176/176 - 9s - loss: 0.0057 - accuracy: 0.9649 - val_loss: 0.0785 - val_accuracy: 0.5530 - lr: 0.0010 - 9s/epoch - 51ms/step
Epoch 51/100
176/176 - 9s - loss: 0.0056 - accuracy: 0.9651 - val_loss: 0.0801 - val_accuracy: 0.5416 - lr: 0.0010 - 9s/epoch - 51ms/step
Epoch 52/100
176/176 - 9s - loss: 0.0057 - accuracy: 0.9653 - val_loss: 0.0712 - val_accuracy: 0.5945 - lr: 0.0010 - 9s/epoch - 51ms/step
Epoch 53/100
176/176 - 9s - loss: 0.0056 - accuracy: 0.9653 - val_loss: 0.0765 - val_accuracy: 0.5659 - lr: 0.0010 - 9s/epoch - 52ms/step
Epoch 54/100
176/176 - 9s - loss: 0.0055 - accuracy: 0.9660 - val_loss: 0.0735 - val_accuracy: 0.5818 - lr: 0.0010 - 9s/epoch - 51ms/step
Epoch 55/100
176/176 - 9s - loss: 0.0054 - accuracy: 0.9672 - val_loss: 0.0744 - val_accuracy: 0.5791 - lr: 0.0010 - 9s/epoch - 51ms/step
Epoch 56/100
176/176 - 9s - loss: 0.0054 - accuracy: 0.9670 - val_loss: 0.0805 - val_accuracy: 0.5380 - lr: 0.0010 - 9s/epoch - 51ms/step
Epoch 57/100
176/176 - 9s - loss: 0.0054 - accuracy: 0.9667 - val_loss: 0.0774 - val_accuracy: 0.5608 - lr: 0.0010 - 9s/epoch - 51ms/step
Epoch 58/100
176/176 - 9s - loss: 0.0055 - accuracy: 0.9665 - val_loss: 0.0769 - val_accuracy: 0.5645 - lr: 0.0010 - 9s/epoch - 51ms/step
Epoch 59/100
176/176 - 9s - loss: 0.0055 - accuracy: 0.9664 - val_loss: 0.0767 - val_accuracy: 0.5640 - lr: 0.0010 - 9s/epoch - 51ms/step
Epoch 60/100
176/176 - 9s - loss: 0.0056 - accuracy: 0.9651 - val_loss: 0.0782 - val_accuracy: 0.5544 - lr: 0.0010 - 9s/epoch - 50ms/step
Epoch 61/100
176/176 - 9s - loss: 0.0057 - accuracy: 0.9646 - val_loss: 0.0785 - val_accuracy: 0.5462 - lr: 0.0010 - 9s/epoch - 51ms/step
Epoch 62/100
176/176 - 9s - loss: 0.0056 - accuracy: 0.9655 - val_loss: 0.0802 - val_accuracy: 0.5408 - lr: 0.0010 - 9s/epoch - 51ms/step
Epoch 63/100
176/176 - 9s - loss: 0.0057 - accuracy: 0.9649 - val_loss: 0.0782 - val_accuracy: 0.5533 - lr: 0.0010 - 9s/epoch - 51ms/step
Epoch 64/100
176/176 - 9s - loss: 0.0055 - accuracy: 0.9659 - val_loss: 0.0747 - val_accuracy: 0.5742 - lr: 0.0010 - 9s/epoch - 51ms/step
Epoch 65/100
176/176 - 9s - loss: 0.0054 - accuracy: 0.9664 - val_loss: 0.0725 - val_accuracy: 0.5873 - lr: 0.0010 - 9s/epoch - 51ms/step
Epoch 66/100
176/176 - 9s - loss: 0.0055 - accuracy: 0.9662 - val_loss: 0.0795 - val_accuracy: 0.5412 - lr: 0.0010 - 9s/epoch - 51ms/step
Epoch 67/100
176/176 - 9s - loss: 0.0055 - accuracy: 0.9662 - val_loss: 0.0778 - val_accuracy: 0.5552 - lr: 0.0010 - 9s/epoch - 51ms/step
Epoch 68/100
176/176 - 9s - loss: 0.0056 - accuracy: 0.9653 - val_loss: 0.0753 - val_accuracy: 0.5729 - lr: 0.0010 - 9s/epoch - 51ms/step
Epoch 69/100
176/176 - 9s - loss: 0.0056 - accuracy: 0.9659 - val_loss: 0.0787 - val_accuracy: 0.5497 - lr: 0.0010 - 9s/epoch - 51ms/step
Epoch 70/100
176/176 - 9s - loss: 0.0055 - accuracy: 0.9664 - val_loss: 0.0745 - val_accuracy: 0.5772 - lr: 0.0010 - 9s/epoch - 51ms/step
Epoch 71/100
176/176 - 9s - loss: 0.0054 - accuracy: 0.9665 - val_loss: 0.0752 - val_accuracy: 0.5708 - lr: 0.0010 - 9s/epoch - 51ms/step
Epoch 72/100
176/176 - 9s - loss: 0.0055 - accuracy: 0.9658 - val_loss: 0.0744 - val_accuracy: 0.5754 - lr: 0.0010 - 9s/epoch - 51ms/step
Epoch 73/100
176/176 - 9s - loss: 0.0055 - accuracy: 0.9661 - val_loss: 0.0782 - val_accuracy: 0.5539 - lr: 0.0010 - 9s/epoch - 51ms/step
Epoch 74/100
176/176 - 9s - loss: 0.0055 - accuracy: 0.9659 - val_loss: 0.0750 - val_accuracy: 0.5751 - lr: 0.0010 - 9s/epoch - 51ms/step
Epoch 75/100
176/176 - 9s - loss: 0.0056 - accuracy: 0.9658 - val_loss: 0.0754 - val_accuracy: 0.5712 - lr: 0.0010 - 9s/epoch - 51ms/step
Epoch 76/100
176/176 - 9s - loss: 0.0056 - accuracy: 0.9656 - val_loss: 0.0763 - val_accuracy: 0.5660 - lr: 0.0010 - 9s/epoch - 51ms/step
Epoch 77/100
176/176 - 9s - loss: 0.0057 - accuracy: 0.9645 - val_loss: 0.0774 - val_accuracy: 0.5557 - lr: 0.0010 - 9s/epoch - 51ms/step
Epoch 78/100
176/176 - 9s - loss: 0.0056 - accuracy: 0.9654 - val_loss: 0.0774 - val_accuracy: 0.5553 - lr: 0.0010 - 9s/epoch - 51ms/step
Epoch 79/100
176/176 - 9s - loss: 0.0059 - accuracy: 0.9634 - val_loss: 0.0800 - val_accuracy: 0.5401 - lr: 0.0010 - 9s/epoch - 51ms/step
Epoch 80/100
176/176 - 9s - loss: 0.0056 - accuracy: 0.9658 - val_loss: 0.0765 - val_accuracy: 0.5638 - lr: 0.0010 - 9s/epoch - 51ms/step
Epoch 81/100
176/176 - 9s - loss: 0.0056 - accuracy: 0.9651 - val_loss: 0.0725 - val_accuracy: 0.5878 - lr: 0.0010 - 9s/epoch - 51ms/step
Epoch 82/100
176/176 - 9s - loss: 0.0055 - accuracy: 0.9661 - val_loss: 0.0791 - val_accuracy: 0.5507 - lr: 0.0010 - 9s/epoch - 51ms/step
Epoch 83/100
176/176 - 9s - loss: 0.0052 - accuracy: 0.9680 - val_loss: 0.0774 - val_accuracy: 0.5592 - lr: 0.0010 - 9s/epoch - 51ms/step
Epoch 84/100
176/176 - 9s - loss: 0.0050 - accuracy: 0.9698 - val_loss: 0.0798 - val_accuracy: 0.5436 - lr: 0.0010 - 9s/epoch - 51ms/step
Epoch 85/100
176/176 - 9s - loss: 0.0049 - accuracy: 0.9706 - val_loss: 0.0756 - val_accuracy: 0.5748 - lr: 0.0010 - 9s/epoch - 51ms/step
Epoch 86/100
176/176 - 9s - loss: 0.0051 - accuracy: 0.9691 - val_loss: 0.0772 - val_accuracy: 0.5624 - lr: 0.0010 - 9s/epoch - 51ms/step
Epoch 87/100
176/176 - 9s - loss: 0.0050 - accuracy: 0.9697 - val_loss: 0.0832 - val_accuracy: 0.5274 - lr: 0.0010 - 9s/epoch - 51ms/step
Epoch 88/100
176/176 - 9s - loss: 0.0052 - accuracy: 0.9687 - val_loss: 0.0808 - val_accuracy: 0.5451 - lr: 0.0010 - 9s/epoch - 51ms/step
Epoch 89/100
176/176 - 9s - loss: 0.0054 - accuracy: 0.9674 - val_loss: 0.0829 - val_accuracy: 0.5263 - lr: 0.0010 - 9s/epoch - 51ms/step
Epoch 90/100
176/176 - 9s - loss: 0.0053 - accuracy: 0.9673 - val_loss: 0.0801 - val_accuracy: 0.5467 - lr: 0.0010 - 9s/epoch - 51ms/step
Epoch 91/100
176/176 - 9s - loss: 0.0054 - accuracy: 0.9667 - val_loss: 0.0788 - val_accuracy: 0.5566 - lr: 0.0010 - 9s/epoch - 51ms/step
Epoch 92/100
176/176 - 9s - loss: 0.0054 - accuracy: 0.9664 - val_loss: 0.0819 - val_accuracy: 0.5360 - lr: 0.0010 - 9s/epoch - 51ms/step
Epoch 93/100
176/176 - 9s - loss: 0.0057 - accuracy: 0.9646 - val_loss: 0.0819 - val_accuracy: 0.5366 - lr: 0.0010 - 9s/epoch - 51ms/step
Epoch 94/100
176/176 - 9s - loss: 0.0055 - accuracy: 0.9660 - val_loss: 0.0826 - val_accuracy: 0.5307 - lr: 0.0010 - 9s/epoch - 51ms/step
Epoch 95/100
176/176 - 9s - loss: 0.0055 - accuracy: 0.9661 - val_loss: 0.0759 - val_accuracy: 0.5734 - lr: 0.0010 - 9s/epoch - 51ms/step
Epoch 96/100
176/176 - 9s - loss: 0.0053 - accuracy: 0.9673 - val_loss: 0.0839 - val_accuracy: 0.5229 - lr: 0.0010 - 9s/epoch - 51ms/step
Epoch 97/100
176/176 - 9s - loss: 0.0052 - accuracy: 0.9680 - val_loss: 0.0774 - val_accuracy: 0.5648 - lr: 0.0010 - 9s/epoch - 51ms/step
Epoch 98/100
176/176 - 9s - loss: 0.0053 - accuracy: 0.9677 - val_loss: 0.0745 - val_accuracy: 0.5774 - lr: 0.0010 - 9s/epoch - 51ms/step
Epoch 99/100
176/176 - 9s - loss: 0.0053 - accuracy: 0.9673 - val_loss: 0.0785 - val_accuracy: 0.5530 - lr: 0.0010 - 9s/epoch - 51ms/step
Epoch 100/100
176/176 - 9s - loss: 0.0055 - accuracy: 0.9662 - val_loss: 0.0804 - val_accuracy: 0.5460 - lr: 0.0010 - 9s/epoch - 51ms/step
Epoch 1/100
36/36 - 10s - loss: 0.0049 - accuracy: 0.9703 - val_loss: 0.0808 - val_accuracy: 0.5422 - lr: 0.0010 - 10s/epoch - 284ms/step
Epoch 2/100
36/36 - 8s - loss: 0.0046 - accuracy: 0.9723 - val_loss: 0.0784 - val_accuracy: 0.5561 - lr: 0.0010 - 8s/epoch - 214ms/step
Epoch 3/100
36/36 - 8s - loss: 0.0042 - accuracy: 0.9749 - val_loss: 0.0794 - val_accuracy: 0.5510 - lr: 0.0010 - 8s/epoch - 214ms/step
Epoch 4/100
36/36 - 8s - loss: 0.0044 - accuracy: 0.9741 - val_loss: 0.0792 - val_accuracy: 0.5527 - lr: 0.0010 - 8s/epoch - 214ms/step
Epoch 5/100
36/36 - 8s - loss: 0.0043 - accuracy: 0.9748 - val_loss: 0.0791 - val_accuracy: 0.5537 - lr: 0.0010 - 8s/epoch - 215ms/step
Epoch 6/100
36/36 - 8s - loss: 0.0041 - accuracy: 0.9757 - val_loss: 0.0806 - val_accuracy: 0.5433 - lr: 0.0010 - 8s/epoch - 214ms/step
Epoch 7/100
36/36 - 8s - loss: 0.0041 - accuracy: 0.9755 - val_loss: 0.0813 - val_accuracy: 0.5380 - lr: 0.0010 - 8s/epoch - 214ms/step
Epoch 8/100
36/36 - 8s - loss: 0.0043 - accuracy: 0.9746 - val_loss: 0.0823 - val_accuracy: 0.5336 - lr: 0.0010 - 8s/epoch - 214ms/step
Epoch 9/100
36/36 - 8s - loss: 0.0041 - accuracy: 0.9757 - val_loss: 0.0820 - val_accuracy: 0.5364 - lr: 0.0010 - 8s/epoch - 214ms/step
Epoch 10/100
36/36 - 8s - loss: 0.0041 - accuracy: 0.9757 - val_loss: 0.0813 - val_accuracy: 0.5385 - lr: 0.0010 - 8s/epoch - 213ms/step
Epoch 11/100
36/36 - 8s - loss: 0.0041 - accuracy: 0.9757 - val_loss: 0.0821 - val_accuracy: 0.5362 - lr: 0.0010 - 8s/epoch - 214ms/step
Epoch 12/100
36/36 - 8s - loss: 0.0040 - accuracy: 0.9763 - val_loss: 0.0810 - val_accuracy: 0.5448 - lr: 0.0010 - 8s/epoch - 215ms/step
Epoch 13/100
36/36 - 8s - loss: 0.0041 - accuracy: 0.9756 - val_loss: 0.0811 - val_accuracy: 0.5420 - lr: 0.0010 - 8s/epoch - 215ms/step
Epoch 14/100
36/36 - 8s - loss: 0.0039 - accuracy: 0.9770 - val_loss: 0.0813 - val_accuracy: 0.5416 - lr: 0.0010 - 8s/epoch - 215ms/step
Epoch 15/100
36/36 - 8s - loss: 0.0040 - accuracy: 0.9765 - val_loss: 0.0817 - val_accuracy: 0.5404 - lr: 0.0010 - 8s/epoch - 215ms/step
Epoch 16/100
36/36 - 8s - loss: 0.0040 - accuracy: 0.9763 - val_loss: 0.0808 - val_accuracy: 0.5461 - lr: 0.0010 - 8s/epoch - 215ms/step
Epoch 17/100
36/36 - 8s - loss: 0.0039 - accuracy: 0.9772 - val_loss: 0.0791 - val_accuracy: 0.5557 - lr: 0.0010 - 8s/epoch - 215ms/step
Epoch 18/100
36/36 - 8s - loss: 0.0039 - accuracy: 0.9770 - val_loss: 0.0807 - val_accuracy: 0.5474 - lr: 0.0010 - 8s/epoch - 215ms/step
Epoch 19/100
36/36 - 8s - loss: 0.0040 - accuracy: 0.9761 - val_loss: 0.0802 - val_accuracy: 0.5492 - lr: 0.0010 - 8s/epoch - 215ms/step
Epoch 20/100
36/36 - 8s - loss: 0.0038 - accuracy: 0.9776 - val_loss: 0.0798 - val_accuracy: 0.5522 - lr: 0.0010 - 8s/epoch - 215ms/step
Epoch 21/100
36/36 - 8s - loss: 0.0039 - accuracy: 0.9766 - val_loss: 0.0805 - val_accuracy: 0.5472 - lr: 0.0010 - 8s/epoch - 214ms/step
Epoch 22/100
36/36 - 8s - loss: 0.0041 - accuracy: 0.9754 - val_loss: 0.0804 - val_accuracy: 0.5492 - lr: 0.0010 - 8s/epoch - 215ms/step
Epoch 23/100
36/36 - 8s - loss: 0.0039 - accuracy: 0.9763 - val_loss: 0.0788 - val_accuracy: 0.5576 - lr: 0.0010 - 8s/epoch - 214ms/step
Epoch 24/100
36/36 - 8s - loss: 0.0038 - accuracy: 0.9776 - val_loss: 0.0810 - val_accuracy: 0.5435 - lr: 0.0010 - 8s/epoch - 214ms/step
Epoch 25/100
36/36 - 8s - loss: 0.0039 - accuracy: 0.9765 - val_loss: 0.0816 - val_accuracy: 0.5417 - lr: 0.0010 - 8s/epoch - 215ms/step
Epoch 26/100
36/36 - 8s - loss: 0.0038 - accuracy: 0.9776 - val_loss: 0.0823 - val_accuracy: 0.5359 - lr: 0.0010 - 8s/epoch - 214ms/step
Epoch 27/100
36/36 - 8s - loss: 0.0039 - accuracy: 0.9772 - val_loss: 0.0804 - val_accuracy: 0.5486 - lr: 0.0010 - 8s/epoch - 215ms/step
Epoch 28/100
36/36 - 8s - loss: 0.0040 - accuracy: 0.9763 - val_loss: 0.0810 - val_accuracy: 0.5440 - lr: 0.0010 - 8s/epoch - 215ms/step
Epoch 29/100
36/36 - 8s - loss: 0.0039 - accuracy: 0.9767 - val_loss: 0.0803 - val_accuracy: 0.5491 - lr: 0.0010 - 8s/epoch - 214ms/step
Epoch 30/100
36/36 - 8s - loss: 0.0038 - accuracy: 0.9777 - val_loss: 0.0808 - val_accuracy: 0.5459 - lr: 0.0010 - 8s/epoch - 215ms/step
Epoch 31/100
36/36 - 8s - loss: 0.0038 - accuracy: 0.9777 - val_loss: 0.0798 - val_accuracy: 0.5492 - lr: 0.0010 - 8s/epoch - 214ms/step
Epoch 32/100
36/36 - 8s - loss: 0.0039 - accuracy: 0.9767 - val_loss: 0.0793 - val_accuracy: 0.5543 - lr: 0.0010 - 8s/epoch - 215ms/step
Epoch 33/100
36/36 - 8s - loss: 0.0038 - accuracy: 0.9778 - val_loss: 0.0810 - val_accuracy: 0.5435 - lr: 0.0010 - 8s/epoch - 215ms/step
Epoch 34/100
36/36 - 8s - loss: 0.0039 - accuracy: 0.9774 - val_loss: 0.0794 - val_accuracy: 0.5547 - lr: 0.0010 - 8s/epoch - 215ms/step
Epoch 35/100
36/36 - 8s - loss: 0.0038 - accuracy: 0.9775 - val_loss: 0.0804 - val_accuracy: 0.5477 - lr: 0.0010 - 8s/epoch - 215ms/step
Epoch 36/100
36/36 - 8s - loss: 0.0038 - accuracy: 0.9777 - val_loss: 0.0807 - val_accuracy: 0.5444 - lr: 0.0010 - 8s/epoch - 215ms/step
Epoch 37/100
36/36 - 8s - loss: 0.0038 - accuracy: 0.9779 - val_loss: 0.0798 - val_accuracy: 0.5516 - lr: 0.0010 - 8s/epoch - 214ms/step
Epoch 38/100
36/36 - 8s - loss: 0.0038 - accuracy: 0.9775 - val_loss: 0.0806 - val_accuracy: 0.5478 - lr: 0.0010 - 8s/epoch - 215ms/step
Epoch 39/100
36/36 - 8s - loss: 0.0037 - accuracy: 0.9781 - val_loss: 0.0797 - val_accuracy: 0.5516 - lr: 0.0010 - 8s/epoch - 214ms/step
Epoch 40/100
36/36 - 8s - loss: 0.0037 - accuracy: 0.9782 - val_loss: 0.0807 - val_accuracy: 0.5475 - lr: 0.0010 - 8s/epoch - 214ms/step
Epoch 41/100
36/36 - 8s - loss: 0.0038 - accuracy: 0.9775 - val_loss: 0.0791 - val_accuracy: 0.5571 - lr: 0.0010 - 8s/epoch - 215ms/step
Epoch 42/100
36/36 - 8s - loss: 0.0038 - accuracy: 0.9777 - val_loss: 0.0791 - val_accuracy: 0.5573 - lr: 0.0010 - 8s/epoch - 214ms/step
Epoch 43/100
36/36 - 8s - loss: 0.0039 - accuracy: 0.9768 - val_loss: 0.0799 - val_accuracy: 0.5504 - lr: 0.0010 - 8s/epoch - 215ms/step
Epoch 44/100
36/36 - 8s - loss: 0.0038 - accuracy: 0.9777 - val_loss: 0.0808 - val_accuracy: 0.5452 - lr: 0.0010 - 8s/epoch - 214ms/step
Epoch 45/100
36/36 - 8s - loss: 0.0038 - accuracy: 0.9778 - val_loss: 0.0812 - val_accuracy: 0.5433 - lr: 0.0010 - 8s/epoch - 214ms/step
Epoch 46/100
36/36 - 8s - loss: 0.0038 - accuracy: 0.9775 - val_loss: 0.0788 - val_accuracy: 0.5591 - lr: 0.0010 - 8s/epoch - 215ms/step
Epoch 47/100
36/36 - 8s - loss: 0.0037 - accuracy: 0.9783 - val_loss: 0.0799 - val_accuracy: 0.5524 - lr: 0.0010 - 8s/epoch - 214ms/step
Epoch 48/100
36/36 - 8s - loss: 0.0039 - accuracy: 0.9768 - val_loss: 0.0818 - val_accuracy: 0.5400 - lr: 0.0010 - 8s/epoch - 214ms/step
Epoch 49/100
36/36 - 8s - loss: 0.0039 - accuracy: 0.9772 - val_loss: 0.0814 - val_accuracy: 0.5438 - lr: 0.0010 - 8s/epoch - 214ms/step
Epoch 50/100
36/36 - 8s - loss: 0.0038 - accuracy: 0.9774 - val_loss: 0.0812 - val_accuracy: 0.5457 - lr: 0.0010 - 8s/epoch - 214ms/step
Epoch 51/100
36/36 - 8s - loss: 0.0037 - accuracy: 0.9783 - val_loss: 0.0815 - val_accuracy: 0.5436 - lr: 0.0010 - 8s/epoch - 214ms/step
Epoch 52/100
36/36 - 8s - loss: 0.0039 - accuracy: 0.9770 - val_loss: 0.0804 - val_accuracy: 0.5495 - lr: 0.0010 - 8s/epoch - 215ms/step
Epoch 53/100
36/36 - 8s - loss: 0.0036 - accuracy: 0.9787 - val_loss: 0.0799 - val_accuracy: 0.5519 - lr: 0.0010 - 8s/epoch - 214ms/step
Epoch 54/100
36/36 - 8s - loss: 0.0037 - accuracy: 0.9785 - val_loss: 0.0805 - val_accuracy: 0.5495 - lr: 0.0010 - 8s/epoch - 215ms/step
Epoch 55/100
36/36 - 8s - loss: 0.0037 - accuracy: 0.9783 - val_loss: 0.0815 - val_accuracy: 0.5429 - lr: 0.0010 - 8s/epoch - 215ms/step
Epoch 56/100
36/36 - 8s - loss: 0.0037 - accuracy: 0.9780 - val_loss: 0.0815 - val_accuracy: 0.5436 - lr: 0.0010 - 8s/epoch - 214ms/step
Epoch 57/100
36/36 - 8s - loss: 0.0037 - accuracy: 0.9781 - val_loss: 0.0819 - val_accuracy: 0.5423 - lr: 0.0010 - 8s/epoch - 215ms/step
Epoch 58/100
36/36 - 8s - loss: 0.0040 - accuracy: 0.9762 - val_loss: 0.0810 - val_accuracy: 0.5479 - lr: 0.0010 - 8s/epoch - 214ms/step
Epoch 59/100
36/36 - 8s - loss: 0.0037 - accuracy: 0.9781 - val_loss: 0.0827 - val_accuracy: 0.5374 - lr: 0.0010 - 8s/epoch - 214ms/step
Epoch 60/100
36/36 - 8s - loss: 0.0037 - accuracy: 0.9782 - val_loss: 0.0821 - val_accuracy: 0.5400 - lr: 0.0010 - 8s/epoch - 215ms/step
Epoch 61/100
36/36 - 8s - loss: 0.0038 - accuracy: 0.9772 - val_loss: 0.0831 - val_accuracy: 0.5343 - lr: 0.0010 - 8s/epoch - 215ms/step
Epoch 62/100
36/36 - 8s - loss: 0.0037 - accuracy: 0.9779 - val_loss: 0.0821 - val_accuracy: 0.5395 - lr: 0.0010 - 8s/epoch - 214ms/step
Epoch 63/100
36/36 - 8s - loss: 0.0037 - accuracy: 0.9783 - val_loss: 0.0838 - val_accuracy: 0.5300 - lr: 0.0010 - 8s/epoch - 215ms/step
Epoch 64/100
36/36 - 8s - loss: 0.0037 - accuracy: 0.9782 - val_loss: 0.0825 - val_accuracy: 0.5364 - lr: 0.0010 - 8s/epoch - 216ms/step
Epoch 65/100
36/36 - 8s - loss: 0.0036 - accuracy: 0.9786 - val_loss: 0.0836 - val_accuracy: 0.5319 - lr: 0.0010 - 8s/epoch - 214ms/step
Epoch 66/100
36/36 - 8s - loss: 0.0039 - accuracy: 0.9766 - val_loss: 0.0825 - val_accuracy: 0.5395 - lr: 0.0010 - 8s/epoch - 215ms/step
Epoch 67/100
36/36 - 8s - loss: 0.0039 - accuracy: 0.9766 - val_loss: 0.0823 - val_accuracy: 0.5384 - lr: 0.0010 - 8s/epoch - 215ms/step
Epoch 68/100
36/36 - 8s - loss: 0.0037 - accuracy: 0.9780 - val_loss: 0.0840 - val_accuracy: 0.5293 - lr: 0.0010 - 8s/epoch - 215ms/step
Epoch 69/100
36/36 - 8s - loss: 0.0038 - accuracy: 0.9773 - val_loss: 0.0813 - val_accuracy: 0.5448 - lr: 0.0010 - 8s/epoch - 215ms/step
Epoch 70/100
36/36 - 8s - loss: 0.0037 - accuracy: 0.9784 - val_loss: 0.0829 - val_accuracy: 0.5353 - lr: 0.0010 - 8s/epoch - 215ms/step
Epoch 71/100
36/36 - 8s - loss: 0.0036 - accuracy: 0.9787 - val_loss: 0.0835 - val_accuracy: 0.5323 - lr: 0.0010 - 8s/epoch - 214ms/step
Epoch 72/100
36/36 - 8s - loss: 0.0036 - accuracy: 0.9786 - val_loss: 0.0823 - val_accuracy: 0.5404 - lr: 0.0010 - 8s/epoch - 216ms/step
Epoch 73/100
36/36 - 8s - loss: 0.0036 - accuracy: 0.9785 - val_loss: 0.0824 - val_accuracy: 0.5397 - lr: 0.0010 - 8s/epoch - 214ms/step
Epoch 74/100
36/36 - 8s - loss: 0.0037 - accuracy: 0.9780 - val_loss: 0.0822 - val_accuracy: 0.5395 - lr: 0.0010 - 8s/epoch - 215ms/step
Epoch 75/100
36/36 - 8s - loss: 0.0036 - accuracy: 0.9786 - val_loss: 0.0818 - val_accuracy: 0.5431 - lr: 0.0010 - 8s/epoch - 215ms/step
Epoch 76/100
36/36 - 8s - loss: 0.0037 - accuracy: 0.9783 - val_loss: 0.0790 - val_accuracy: 0.5602 - lr: 0.0010 - 8s/epoch - 215ms/step
Epoch 77/100
36/36 - 8s - loss: 0.0036 - accuracy: 0.9783 - val_loss: 0.0802 - val_accuracy: 0.5514 - lr: 0.0010 - 8s/epoch - 215ms/step
Epoch 78/100
36/36 - 8s - loss: 0.0037 - accuracy: 0.9783 - val_loss: 0.0813 - val_accuracy: 0.5463 - lr: 0.0010 - 8s/epoch - 215ms/step
Epoch 79/100
36/36 - 8s - loss: 0.0037 - accuracy: 0.9781 - val_loss: 0.0803 - val_accuracy: 0.5520 - lr: 0.0010 - 8s/epoch - 214ms/step
Epoch 80/100
36/36 - 8s - loss: 0.0036 - accuracy: 0.9787 - val_loss: 0.0819 - val_accuracy: 0.5428 - lr: 0.0010 - 8s/epoch - 214ms/step
Epoch 81/100
36/36 - 8s - loss: 0.0036 - accuracy: 0.9787 - val_loss: 0.0804 - val_accuracy: 0.5510 - lr: 0.0010 - 8s/epoch - 215ms/step
Epoch 82/100
36/36 - 8s - loss: 0.0037 - accuracy: 0.9776 - val_loss: 0.0827 - val_accuracy: 0.5388 - lr: 0.0010 - 8s/epoch - 215ms/step
Epoch 83/100
36/36 - 8s - loss: 0.0038 - accuracy: 0.9777 - val_loss: 0.0813 - val_accuracy: 0.5441 - lr: 0.0010 - 8s/epoch - 214ms/step
Epoch 84/100
36/36 - 8s - loss: 0.0036 - accuracy: 0.9787 - val_loss: 0.0826 - val_accuracy: 0.5367 - lr: 0.0010 - 8s/epoch - 214ms/step
Epoch 85/100
36/36 - 8s - loss: 0.0037 - accuracy: 0.9778 - val_loss: 0.0842 - val_accuracy: 0.5291 - lr: 0.0010 - 8s/epoch - 214ms/step
Epoch 86/100
36/36 - 8s - loss: 0.0038 - accuracy: 0.9775 - val_loss: 0.0810 - val_accuracy: 0.5474 - lr: 0.0010 - 8s/epoch - 214ms/step
Epoch 87/100
36/36 - 8s - loss: 0.0037 - accuracy: 0.9779 - val_loss: 0.0800 - val_accuracy: 0.5536 - lr: 0.0010 - 8s/epoch - 214ms/step
Epoch 88/100
36/36 - 8s - loss: 0.0038 - accuracy: 0.9769 - val_loss: 0.0796 - val_accuracy: 0.5540 - lr: 0.0010 - 8s/epoch - 214ms/step
Epoch 89/100
36/36 - 8s - loss: 0.0039 - accuracy: 0.9766 - val_loss: 0.0794 - val_accuracy: 0.5571 - lr: 0.0010 - 8s/epoch - 215ms/step
Epoch 90/100
36/36 - 8s - loss: 0.0038 - accuracy: 0.9771 - val_loss: 0.0798 - val_accuracy: 0.5548 - lr: 0.0010 - 8s/epoch - 215ms/step
Epoch 91/100
36/36 - 8s - loss: 0.0036 - accuracy: 0.9784 - val_loss: 0.0795 - val_accuracy: 0.5562 - lr: 0.0010 - 8s/epoch - 214ms/step
Epoch 92/100
36/36 - 8s - loss: 0.0037 - accuracy: 0.9781 - val_loss: 0.0821 - val_accuracy: 0.5418 - lr: 0.0010 - 8s/epoch - 215ms/step
Epoch 93/100
36/36 - 8s - loss: 0.0037 - accuracy: 0.9781 - val_loss: 0.0804 - val_accuracy: 0.5528 - lr: 0.0010 - 8s/epoch - 215ms/step
Epoch 94/100
36/36 - 8s - loss: 0.0037 - accuracy: 0.9777 - val_loss: 0.0808 - val_accuracy: 0.5493 - lr: 0.0010 - 8s/epoch - 214ms/step
Epoch 95/100
36/36 - 8s - loss: 0.0036 - accuracy: 0.9788 - val_loss: 0.0816 - val_accuracy: 0.5459 - lr: 0.0010 - 8s/epoch - 214ms/step
Epoch 96/100
36/36 - 8s - loss: 0.0035 - accuracy: 0.9792 - val_loss: 0.0820 - val_accuracy: 0.5428 - lr: 0.0010 - 8s/epoch - 215ms/step
Epoch 97/100
36/36 - 8s - loss: 0.0036 - accuracy: 0.9787 - val_loss: 0.0845 - val_accuracy: 0.5271 - lr: 0.0010 - 8s/epoch - 214ms/step
Epoch 98/100
36/36 - 8s - loss: 0.0037 - accuracy: 0.9781 - val_loss: 0.0848 - val_accuracy: 0.5263 - lr: 0.0010 - 8s/epoch - 214ms/step
Epoch 99/100
36/36 - 8s - loss: 0.0036 - accuracy: 0.9787 - val_loss: 0.0857 - val_accuracy: 0.5200 - lr: 0.0010 - 8s/epoch - 215ms/step
Epoch 100/100
36/36 - 8s - loss: 0.0037 - accuracy: 0.9785 - val_loss: 0.0842 - val_accuracy: 0.5301 - lr: 0.0010 - 8s/epoch - 215ms/step
Epoch 1/25
4378/4378 - 79s - loss: 0.2520 - accuracy: 0.9251 - val_loss: 1.9982 - val_accuracy: 0.5715 - lr: 0.0010 - 79s/epoch - 18ms/step
Epoch 2/25
4378/4378 - 74s - loss: 0.2544 - accuracy: 0.9174 - val_loss: 2.1012 - val_accuracy: 0.5241 - lr: 0.0010 - 74s/epoch - 17ms/step
Epoch 3/25
4378/4378 - 74s - loss: 0.2598 - accuracy: 0.9147 - val_loss: 1.6191 - val_accuracy: 0.5744 - lr: 0.0010 - 74s/epoch - 17ms/step
Epoch 4/25
4378/4378 - 74s - loss: 0.2673 - accuracy: 0.9109 - val_loss: 1.7497 - val_accuracy: 0.5709 - lr: 0.0010 - 74s/epoch - 17ms/step
Epoch 5/25
4378/4378 - 74s - loss: 0.2675 - accuracy: 0.9106 - val_loss: 1.7269 - val_accuracy: 0.5661 - lr: 0.0010 - 74s/epoch - 17ms/step
Epoch 6/25
4378/4378 - 74s - loss: 0.2665 - accuracy: 0.9115 - val_loss: 1.9317 - val_accuracy: 0.5375 - lr: 0.0010 - 74s/epoch - 17ms/step
Epoch 7/25
4378/4378 - 74s - loss: 0.2657 - accuracy: 0.9108 - val_loss: 1.7423 - val_accuracy: 0.5672 - lr: 0.0010 - 74s/epoch - 17ms/step
Epoch 8/25
4378/4378 - 74s - loss: 0.2645 - accuracy: 0.9110 - val_loss: 1.6816 - val_accuracy: 0.5592 - lr: 0.0010 - 74s/epoch - 17ms/step
Epoch 9/25
4378/4378 - 74s - loss: 0.2632 - accuracy: 0.9112 - val_loss: 2.4203 - val_accuracy: 0.4395 - lr: 0.0010 - 74s/epoch - 17ms/step
Epoch 10/25
4378/4378 - 75s - loss: 0.2633 - accuracy: 0.9106 - val_loss: 1.5622 - val_accuracy: 0.6132 - lr: 0.0010 - 75s/epoch - 17ms/step
Epoch 11/25
4378/4378 - 74s - loss: 0.2547 - accuracy: 0.9138 - val_loss: 1.7026 - val_accuracy: 0.5740 - lr: 0.0010 - 74s/epoch - 17ms/step
Epoch 12/25
4378/4378 - 74s - loss: 0.2616 - accuracy: 0.9111 - val_loss: 1.8342 - val_accuracy: 0.5531 - lr: 0.0010 - 74s/epoch - 17ms/step
Epoch 13/25
4378/4378 - 74s - loss: 0.2667 - accuracy: 0.9097 - val_loss: 1.5464 - val_accuracy: 0.5795 - lr: 0.0010 - 74s/epoch - 17ms/step
Epoch 14/25
4378/4378 - 74s - loss: 0.2624 - accuracy: 0.9103 - val_loss: 1.5776 - val_accuracy: 0.5861 - lr: 0.0010 - 74s/epoch - 17ms/step
Epoch 15/25
4378/4378 - 74s - loss: 0.2655 - accuracy: 0.9081 - val_loss: 1.8270 - val_accuracy: 0.5605 - lr: 0.0010 - 74s/epoch - 17ms/step
Epoch 16/25
4378/4378 - 74s - loss: 0.2604 - accuracy: 0.9108 - val_loss: 1.4860 - val_accuracy: 0.6347 - lr: 0.0010 - 74s/epoch - 17ms/step
Epoch 17/25
4378/4378 - 74s - loss: 0.2612 - accuracy: 0.9090 - val_loss: 1.6091 - val_accuracy: 0.5755 - lr: 0.0010 - 74s/epoch - 17ms/step
Epoch 18/25
4378/4378 - 74s - loss: 0.2687 - accuracy: 0.9078 - val_loss: 1.5947 - val_accuracy: 0.5959 - lr: 0.0010 - 74s/epoch - 17ms/step
Epoch 19/25
4378/4378 - 74s - loss: 0.2630 - accuracy: 0.9095 - val_loss: 1.5010 - val_accuracy: 0.5962 - lr: 0.0010 - 74s/epoch - 17ms/step
Epoch 20/25
4378/4378 - 74s - loss: 0.2633 - accuracy: 0.9095 - val_loss: 1.5769 - val_accuracy: 0.5928 - lr: 0.0010 - 74s/epoch - 17ms/step
Epoch 21/25
4378/4378 - 75s - loss: 0.2608 - accuracy: 0.9098 - val_loss: 1.7242 - val_accuracy: 0.5767 - lr: 0.0010 - 75s/epoch - 17ms/step
Epoch 22/25
4378/4378 - 74s - loss: 0.2650 - accuracy: 0.9090 - val_loss: 1.6417 - val_accuracy: 0.5779 - lr: 0.0010 - 74s/epoch - 17ms/step
Epoch 23/25
4378/4378 - 74s - loss: 0.2584 - accuracy: 0.9098 - val_loss: 1.8484 - val_accuracy: 0.5613 - lr: 0.0010 - 74s/epoch - 17ms/step
Epoch 24/25
4378/4378 - 74s - loss: 0.2584 - accuracy: 0.9106 - val_loss: 1.5626 - val_accuracy: 0.5824 - lr: 0.0010 - 74s/epoch - 17ms/step
Epoch 25/25
4378/4378 - 74s - loss: 0.2536 - accuracy: 0.9120 - val_loss: 1.7618 - val_accuracy: 0.5707 - lr: 0.0010 - 74s/epoch - 17ms/step
Epoch 1/25
876/876 - 21s - loss: 0.1790 - accuracy: 0.9419 - val_loss: 1.8422 - val_accuracy: 0.5962 - lr: 0.0010 - 21s/epoch - 24ms/step
Epoch 2/25
876/876 - 18s - loss: 0.1816 - accuracy: 0.9400 - val_loss: 2.0883 - val_accuracy: 0.5427 - lr: 0.0010 - 18s/epoch - 21ms/step
Epoch 3/25
876/876 - 18s - loss: 0.1849 - accuracy: 0.9394 - val_loss: 1.9016 - val_accuracy: 0.5816 - lr: 0.0010 - 18s/epoch - 21ms/step
Epoch 4/25
876/876 - 18s - loss: 0.1846 - accuracy: 0.9387 - val_loss: 1.8524 - val_accuracy: 0.5985 - lr: 0.0010 - 18s/epoch - 21ms/step
Epoch 5/25
876/876 - 18s - loss: 0.1787 - accuracy: 0.9419 - val_loss: 1.8598 - val_accuracy: 0.5880 - lr: 0.0010 - 18s/epoch - 21ms/step
Epoch 6/25
876/876 - 18s - loss: 0.1798 - accuracy: 0.9408 - val_loss: 2.0078 - val_accuracy: 0.5673 - lr: 0.0010 - 18s/epoch - 21ms/step
Epoch 7/25
876/876 - 18s - loss: 0.1753 - accuracy: 0.9424 - val_loss: 2.0032 - val_accuracy: 0.5758 - lr: 0.0010 - 18s/epoch - 21ms/step
Epoch 8/25
876/876 - 18s - loss: 0.1742 - accuracy: 0.9419 - val_loss: 2.3435 - val_accuracy: 0.5096 - lr: 0.0010 - 18s/epoch - 21ms/step
Epoch 9/25
876/876 - 18s - loss: 0.1736 - accuracy: 0.9433 - val_loss: 2.0257 - val_accuracy: 0.5731 - lr: 0.0010 - 18s/epoch - 21ms/step
Epoch 10/25
876/876 - 18s - loss: 0.1725 - accuracy: 0.9433 - val_loss: 2.2018 - val_accuracy: 0.5236 - lr: 0.0010 - 18s/epoch - 21ms/step
Epoch 11/25
876/876 - 18s - loss: 0.1741 - accuracy: 0.9424 - val_loss: 2.0676 - val_accuracy: 0.5720 - lr: 0.0010 - 18s/epoch - 21ms/step
Epoch 12/25
876/876 - 18s - loss: 0.1653 - accuracy: 0.9457 - val_loss: 2.1356 - val_accuracy: 0.5627 - lr: 0.0010 - 18s/epoch - 21ms/step
Epoch 13/25
876/876 - 18s - loss: 0.1687 - accuracy: 0.9447 - val_loss: 2.1594 - val_accuracy: 0.5364 - lr: 0.0010 - 18s/epoch - 21ms/step
Epoch 14/25
876/876 - 18s - loss: 0.1700 - accuracy: 0.9432 - val_loss: 2.1903 - val_accuracy: 0.5402 - lr: 0.0010 - 18s/epoch - 21ms/step
Epoch 15/25
876/876 - 18s - loss: 0.1680 - accuracy: 0.9448 - val_loss: 2.2106 - val_accuracy: 0.5129 - lr: 0.0010 - 18s/epoch - 21ms/step
Epoch 16/25
876/876 - 18s - loss: 0.1664 - accuracy: 0.9450 - val_loss: 2.1932 - val_accuracy: 0.5449 - lr: 0.0010 - 18s/epoch - 21ms/step
Epoch 17/25
876/876 - 18s - loss: 0.1697 - accuracy: 0.9429 - val_loss: 2.1689 - val_accuracy: 0.5624 - lr: 0.0010 - 18s/epoch - 21ms/step
Epoch 18/25
876/876 - 18s - loss: 0.1665 - accuracy: 0.9447 - val_loss: 2.3197 - val_accuracy: 0.5451 - lr: 0.0010 - 18s/epoch - 21ms/step
Epoch 19/25
876/876 - 18s - loss: 0.1680 - accuracy: 0.9437 - val_loss: 2.1081 - val_accuracy: 0.5651 - lr: 0.0010 - 18s/epoch - 21ms/step
Epoch 20/25
876/876 - 18s - loss: 0.1641 - accuracy: 0.9457 - val_loss: 2.0931 - val_accuracy: 0.5631 - lr: 0.0010 - 18s/epoch - 21ms/step
Epoch 21/25
876/876 - 18s - loss: 0.1622 - accuracy: 0.9462 - val_loss: 2.0900 - val_accuracy: 0.5738 - lr: 0.0010 - 18s/epoch - 21ms/step
Epoch 22/25
876/876 - 18s - loss: 0.1642 - accuracy: 0.9454 - val_loss: 2.2797 - val_accuracy: 0.5513 - lr: 0.0010 - 18s/epoch - 21ms/step
Epoch 23/25
876/876 - 18s - loss: 0.1630 - accuracy: 0.9461 - val_loss: 2.0492 - val_accuracy: 0.5920 - lr: 0.0010 - 18s/epoch - 21ms/step
Epoch 24/25
876/876 - 18s - loss: 0.1631 - accuracy: 0.9451 - val_loss: 2.0747 - val_accuracy: 0.5914 - lr: 0.0010 - 18s/epoch - 21ms/step
Epoch 25/25
876/876 - 18s - loss: 0.1656 - accuracy: 0.9446 - val_loss: 2.2295 - val_accuracy: 0.5575 - lr: 0.0010 - 18s/epoch - 21ms/step
Epoch 1/25
176/176 - 11s - loss: 0.1285 - accuracy: 0.9595 - val_loss: 2.2114 - val_accuracy: 0.5893 - lr: 0.0010 - 11s/epoch - 65ms/step
Epoch 2/25
176/176 - 9s - loss: 0.1109 - accuracy: 0.9655 - val_loss: 2.3357 - val_accuracy: 0.5804 - lr: 0.0010 - 9s/epoch - 51ms/step
Epoch 3/25
176/176 - 9s - loss: 0.1079 - accuracy: 0.9670 - val_loss: 2.3025 - val_accuracy: 0.5968 - lr: 0.0010 - 9s/epoch - 51ms/step
Epoch 4/25
176/176 - 9s - loss: 0.1080 - accuracy: 0.9669 - val_loss: 2.3550 - val_accuracy: 0.5952 - lr: 0.0010 - 9s/epoch - 51ms/step
Epoch 5/25
176/176 - 9s - loss: 0.1089 - accuracy: 0.9662 - val_loss: 2.3791 - val_accuracy: 0.5985 - lr: 0.0010 - 9s/epoch - 51ms/step
Epoch 6/25
176/176 - 9s - loss: 0.1118 - accuracy: 0.9650 - val_loss: 2.4135 - val_accuracy: 0.5873 - lr: 0.0010 - 9s/epoch - 51ms/step
Epoch 7/25
176/176 - 9s - loss: 0.1141 - accuracy: 0.9640 - val_loss: 2.5474 - val_accuracy: 0.5592 - lr: 0.0010 - 9s/epoch - 51ms/step
Epoch 8/25
176/176 - 9s - loss: 0.1116 - accuracy: 0.9650 - val_loss: 2.3141 - val_accuracy: 0.6119 - lr: 0.0010 - 9s/epoch - 51ms/step
Epoch 9/25
176/176 - 9s - loss: 0.1162 - accuracy: 0.9629 - val_loss: 2.6257 - val_accuracy: 0.5646 - lr: 0.0010 - 9s/epoch - 52ms/step
Epoch 10/25
176/176 - 9s - loss: 0.1118 - accuracy: 0.9639 - val_loss: 2.5459 - val_accuracy: 0.5779 - lr: 0.0010 - 9s/epoch - 51ms/step
Epoch 11/25
176/176 - 9s - loss: 0.1135 - accuracy: 0.9636 - val_loss: 2.3899 - val_accuracy: 0.6036 - lr: 0.0010 - 9s/epoch - 51ms/step
Epoch 12/25
176/176 - 9s - loss: 0.1145 - accuracy: 0.9636 - val_loss: 2.3666 - val_accuracy: 0.6023 - lr: 0.0010 - 9s/epoch - 51ms/step
Epoch 13/25
176/176 - 9s - loss: 0.1135 - accuracy: 0.9634 - val_loss: 2.3816 - val_accuracy: 0.6058 - lr: 0.0010 - 9s/epoch - 51ms/step
Epoch 14/25
176/176 - 9s - loss: 0.1082 - accuracy: 0.9652 - val_loss: 2.6388 - val_accuracy: 0.5779 - lr: 0.0010 - 9s/epoch - 51ms/step
Epoch 15/25
176/176 - 9s - loss: 0.1078 - accuracy: 0.9666 - val_loss: 2.3940 - val_accuracy: 0.6010 - lr: 0.0010 - 9s/epoch - 51ms/step
Epoch 16/25
176/176 - 9s - loss: 0.1068 - accuracy: 0.9656 - val_loss: 2.4383 - val_accuracy: 0.5939 - lr: 0.0010 - 9s/epoch - 51ms/step
Epoch 17/25
176/176 - 9s - loss: 0.1029 - accuracy: 0.9677 - val_loss: 2.5788 - val_accuracy: 0.5872 - lr: 0.0010 - 9s/epoch - 51ms/step
Epoch 18/25
176/176 - 9s - loss: 0.1012 - accuracy: 0.9675 - val_loss: 2.6864 - val_accuracy: 0.5820 - lr: 0.0010 - 9s/epoch - 51ms/step
Epoch 19/25
176/176 - 9s - loss: 0.1010 - accuracy: 0.9686 - val_loss: 2.5603 - val_accuracy: 0.5932 - lr: 0.0010 - 9s/epoch - 51ms/step
Epoch 20/25
176/176 - 9s - loss: 0.1021 - accuracy: 0.9681 - val_loss: 2.5622 - val_accuracy: 0.5895 - lr: 0.0010 - 9s/epoch - 51ms/step
Epoch 21/25
176/176 - 9s - loss: 0.1009 - accuracy: 0.9679 - val_loss: 2.7507 - val_accuracy: 0.5680 - lr: 0.0010 - 9s/epoch - 51ms/step
Epoch 22/25
176/176 - 9s - loss: 0.1050 - accuracy: 0.9661 - val_loss: 2.7482 - val_accuracy: 0.5730 - lr: 0.0010 - 9s/epoch - 51ms/step
Epoch 23/25
176/176 - 9s - loss: 0.1066 - accuracy: 0.9658 - val_loss: 2.4761 - val_accuracy: 0.5996 - lr: 0.0010 - 9s/epoch - 51ms/step
Epoch 24/25
176/176 - 9s - loss: 0.1056 - accuracy: 0.9671 - val_loss: 2.6707 - val_accuracy: 0.5782 - lr: 0.0010 - 9s/epoch - 51ms/step
Epoch 25/25
176/176 - 9s - loss: 0.1059 - accuracy: 0.9659 - val_loss: 2.6791 - val_accuracy: 0.5851 - lr: 0.0010 - 9s/epoch - 51ms/step
Epoch 1/25
36/36 - 10s - loss: 0.0935 - accuracy: 0.9703 - val_loss: 2.6776 - val_accuracy: 0.5908 - lr: 0.0010 - 10s/epoch - 283ms/step
Epoch 2/25
36/36 - 8s - loss: 0.0847 - accuracy: 0.9744 - val_loss: 2.7536 - val_accuracy: 0.5846 - lr: 0.0010 - 8s/epoch - 214ms/step
Epoch 3/25
36/36 - 8s - loss: 0.0833 - accuracy: 0.9748 - val_loss: 2.6840 - val_accuracy: 0.5929 - lr: 0.0010 - 8s/epoch - 214ms/step
Epoch 4/25
36/36 - 8s - loss: 0.0807 - accuracy: 0.9757 - val_loss: 2.7606 - val_accuracy: 0.5879 - lr: 0.0010 - 8s/epoch - 214ms/step
Epoch 5/25
36/36 - 8s - loss: 0.0798 - accuracy: 0.9764 - val_loss: 2.8051 - val_accuracy: 0.5865 - lr: 0.0010 - 8s/epoch - 214ms/step
Epoch 6/25
36/36 - 8s - loss: 0.0780 - accuracy: 0.9767 - val_loss: 2.8617 - val_accuracy: 0.5819 - lr: 0.0010 - 8s/epoch - 214ms/step
Epoch 7/25
36/36 - 8s - loss: 0.0768 - accuracy: 0.9768 - val_loss: 2.8716 - val_accuracy: 0.5814 - lr: 0.0010 - 8s/epoch - 214ms/step
Epoch 8/25
36/36 - 8s - loss: 0.0787 - accuracy: 0.9759 - val_loss: 2.9327 - val_accuracy: 0.5742 - lr: 0.0010 - 8s/epoch - 214ms/step
Epoch 9/25
36/36 - 8s - loss: 0.0795 - accuracy: 0.9765 - val_loss: 2.9115 - val_accuracy: 0.5772 - lr: 0.0010 - 8s/epoch - 214ms/step
Epoch 10/25
36/36 - 8s - loss: 0.0764 - accuracy: 0.9772 - val_loss: 2.9136 - val_accuracy: 0.5779 - lr: 0.0010 - 8s/epoch - 215ms/step
Epoch 11/25
36/36 - 8s - loss: 0.0796 - accuracy: 0.9759 - val_loss: 2.9307 - val_accuracy: 0.5748 - lr: 0.0010 - 8s/epoch - 214ms/step
Epoch 12/25
36/36 - 8s - loss: 0.0770 - accuracy: 0.9770 - val_loss: 2.9109 - val_accuracy: 0.5796 - lr: 0.0010 - 8s/epoch - 214ms/step
Epoch 13/25
36/36 - 8s - loss: 0.0772 - accuracy: 0.9764 - val_loss: 3.0180 - val_accuracy: 0.5696 - lr: 0.0010 - 8s/epoch - 214ms/step
Epoch 14/25
36/36 - 8s - loss: 0.0742 - accuracy: 0.9777 - val_loss: 2.9841 - val_accuracy: 0.5705 - lr: 0.0010 - 8s/epoch - 214ms/step
Epoch 15/25
36/36 - 8s - loss: 0.0779 - accuracy: 0.9767 - val_loss: 2.9603 - val_accuracy: 0.5747 - lr: 0.0010 - 8s/epoch - 215ms/step
Epoch 16/25
36/36 - 8s - loss: 0.0770 - accuracy: 0.9767 - val_loss: 2.9106 - val_accuracy: 0.5822 - lr: 0.0010 - 8s/epoch - 214ms/step
Epoch 17/25
36/36 - 8s - loss: 0.0765 - accuracy: 0.9770 - val_loss: 2.9105 - val_accuracy: 0.5826 - lr: 0.0010 - 8s/epoch - 214ms/step
Epoch 18/25
36/36 - 8s - loss: 0.0752 - accuracy: 0.9775 - val_loss: 2.9905 - val_accuracy: 0.5745 - lr: 0.0010 - 8s/epoch - 215ms/step
Epoch 19/25
36/36 - 8s - loss: 0.0768 - accuracy: 0.9766 - val_loss: 2.9602 - val_accuracy: 0.5814 - lr: 0.0010 - 8s/epoch - 215ms/step
Epoch 20/25
36/36 - 8s - loss: 0.0731 - accuracy: 0.9781 - val_loss: 2.9884 - val_accuracy: 0.5756 - lr: 0.0010 - 8s/epoch - 215ms/step
Epoch 21/25
36/36 - 8s - loss: 0.0803 - accuracy: 0.9759 - val_loss: 2.8755 - val_accuracy: 0.5878 - lr: 0.0010 - 8s/epoch - 214ms/step
Epoch 22/25
36/36 - 8s - loss: 0.0775 - accuracy: 0.9768 - val_loss: 2.9127 - val_accuracy: 0.5787 - lr: 0.0010 - 8s/epoch - 215ms/step
Epoch 23/25
36/36 - 8s - loss: 0.0771 - accuracy: 0.9768 - val_loss: 2.9772 - val_accuracy: 0.5763 - lr: 0.0010 - 8s/epoch - 215ms/step
Epoch 24/25
36/36 - 8s - loss: 0.0760 - accuracy: 0.9772 - val_loss: 2.9600 - val_accuracy: 0.5765 - lr: 0.0010 - 8s/epoch - 215ms/step
Epoch 25/25
36/36 - 8s - loss: 0.0758 - accuracy: 0.9777 - val_loss: 2.9606 - val_accuracy: 0.5740 - lr: 0.0010 - 8s/epoch - 215ms/step
Epoch 1/50
4378/4378 - 76s - loss: 0.2246 - accuracy: 0.9224 - val_loss: 1.7711 - val_accuracy: 0.6140 - lr: 0.0010 - 76s/epoch - 17ms/step
Epoch 2/50
4378/4378 - 74s - loss: 0.2432 - accuracy: 0.9149 - val_loss: 2.0752 - val_accuracy: 0.5031 - lr: 0.0010 - 74s/epoch - 17ms/step
Epoch 3/50
4378/4378 - 74s - loss: 0.2422 - accuracy: 0.9147 - val_loss: 1.6761 - val_accuracy: 0.5985 - lr: 0.0010 - 74s/epoch - 17ms/step
Epoch 4/50
4378/4378 - 74s - loss: 0.2453 - accuracy: 0.9136 - val_loss: 1.7627 - val_accuracy: 0.5945 - lr: 0.0010 - 74s/epoch - 17ms/step
Epoch 5/50
4378/4378 - 74s - loss: 0.2498 - accuracy: 0.9114 - val_loss: 1.8648 - val_accuracy: 0.5395 - lr: 0.0010 - 74s/epoch - 17ms/step
Epoch 6/50
4378/4378 - 74s - loss: 0.2557 - accuracy: 0.9084 - val_loss: 1.8863 - val_accuracy: 0.5344 - lr: 0.0010 - 74s/epoch - 17ms/step
Epoch 7/50
4378/4378 - 74s - loss: 0.2539 - accuracy: 0.9104 - val_loss: 1.6079 - val_accuracy: 0.6010 - lr: 0.0010 - 74s/epoch - 17ms/step
Epoch 8/50
4378/4378 - 74s - loss: 0.2513 - accuracy: 0.9112 - val_loss: 1.5447 - val_accuracy: 0.6094 - lr: 0.0010 - 74s/epoch - 17ms/step
Epoch 9/50
4378/4378 - 74s - loss: 0.2508 - accuracy: 0.9110 - val_loss: 1.7129 - val_accuracy: 0.5857 - lr: 0.0010 - 74s/epoch - 17ms/step
Epoch 10/50
4378/4378 - 74s - loss: 0.2528 - accuracy: 0.9105 - val_loss: 1.5455 - val_accuracy: 0.6015 - lr: 0.0010 - 74s/epoch - 17ms/step
Epoch 11/50
4378/4378 - 74s - loss: 0.2604 - accuracy: 0.9082 - val_loss: 1.5750 - val_accuracy: 0.5961 - lr: 0.0010 - 74s/epoch - 17ms/step
Epoch 12/50
4378/4378 - 74s - loss: 0.2598 - accuracy: 0.9080 - val_loss: 1.4903 - val_accuracy: 0.6106 - lr: 0.0010 - 74s/epoch - 17ms/step
Epoch 13/50
4378/4378 - 74s - loss: 0.2577 - accuracy: 0.9085 - val_loss: 1.6156 - val_accuracy: 0.5753 - lr: 0.0010 - 74s/epoch - 17ms/step
Epoch 14/50
4378/4378 - 74s - loss: 0.2627 - accuracy: 0.9062 - val_loss: 1.5320 - val_accuracy: 0.6169 - lr: 0.0010 - 74s/epoch - 17ms/step
Epoch 15/50
4378/4378 - 74s - loss: 0.2535 - accuracy: 0.9112 - val_loss: 1.9871 - val_accuracy: 0.4698 - lr: 0.0010 - 74s/epoch - 17ms/step
Epoch 16/50
4378/4378 - 74s - loss: 0.2548 - accuracy: 0.9100 - val_loss: 1.8915 - val_accuracy: 0.5245 - lr: 0.0010 - 74s/epoch - 17ms/step
Epoch 17/50
4378/4378 - 74s - loss: 0.2562 - accuracy: 0.9101 - val_loss: 1.6080 - val_accuracy: 0.6052 - lr: 0.0010 - 74s/epoch - 17ms/step
Epoch 18/50
4378/4378 - 74s - loss: 0.2553 - accuracy: 0.9093 - val_loss: 1.7722 - val_accuracy: 0.5552 - lr: 0.0010 - 74s/epoch - 17ms/step
Epoch 19/50
4378/4378 - 74s - loss: 0.2551 - accuracy: 0.9097 - val_loss: 1.5631 - val_accuracy: 0.6039 - lr: 0.0010 - 74s/epoch - 17ms/step
Epoch 20/50
4378/4378 - 74s - loss: 0.2620 - accuracy: 0.9075 - val_loss: 1.7270 - val_accuracy: 0.5315 - lr: 0.0010 - 74s/epoch - 17ms/step
Epoch 21/50
4378/4378 - 74s - loss: 0.2534 - accuracy: 0.9108 - val_loss: 1.5595 - val_accuracy: 0.6144 - lr: 0.0010 - 74s/epoch - 17ms/step
Epoch 22/50
4378/4378 - 74s - loss: 0.2537 - accuracy: 0.9094 - val_loss: 1.8541 - val_accuracy: 0.5281 - lr: 0.0010 - 74s/epoch - 17ms/step
Epoch 23/50
4378/4378 - 74s - loss: 0.2584 - accuracy: 0.9083 - val_loss: 1.4995 - val_accuracy: 0.6125 - lr: 0.0010 - 74s/epoch - 17ms/step
Epoch 24/50
4378/4378 - 74s - loss: 0.2599 - accuracy: 0.9083 - val_loss: 1.6785 - val_accuracy: 0.5662 - lr: 0.0010 - 74s/epoch - 17ms/step
Epoch 25/50
4378/4378 - 74s - loss: 0.2595 - accuracy: 0.9076 - val_loss: 1.9276 - val_accuracy: 0.5470 - lr: 0.0010 - 74s/epoch - 17ms/step
Epoch 26/50
4378/4378 - 74s - loss: 0.2583 - accuracy: 0.9073 - val_loss: 1.4514 - val_accuracy: 0.6052 - lr: 0.0010 - 74s/epoch - 17ms/step
Epoch 27/50
4378/4378 - 74s - loss: 0.2557 - accuracy: 0.9086 - val_loss: 1.8175 - val_accuracy: 0.5661 - lr: 0.0010 - 74s/epoch - 17ms/step
Epoch 28/50
4378/4378 - 74s - loss: 0.2576 - accuracy: 0.9090 - val_loss: 1.9196 - val_accuracy: 0.5690 - lr: 0.0010 - 74s/epoch - 17ms/step
Epoch 29/50
4378/4378 - 74s - loss: 0.2588 - accuracy: 0.9067 - val_loss: 1.8516 - val_accuracy: 0.5390 - lr: 0.0010 - 74s/epoch - 17ms/step
Epoch 30/50
4378/4378 - 74s - loss: 0.2531 - accuracy: 0.9103 - val_loss: 1.7844 - val_accuracy: 0.5633 - lr: 0.0010 - 74s/epoch - 17ms/step
Epoch 31/50
4378/4378 - 74s - loss: 0.2603 - accuracy: 0.9073 - val_loss: 1.3588 - val_accuracy: 0.6391 - lr: 0.0010 - 74s/epoch - 17ms/step
Epoch 32/50
4378/4378 - 74s - loss: 0.2534 - accuracy: 0.9091 - val_loss: 1.4998 - val_accuracy: 0.6173 - lr: 0.0010 - 74s/epoch - 17ms/step
Epoch 33/50
4378/4378 - 74s - loss: 0.2531 - accuracy: 0.9106 - val_loss: 1.6911 - val_accuracy: 0.5898 - lr: 0.0010 - 74s/epoch - 17ms/step
Epoch 34/50
4378/4378 - 74s - loss: 0.2586 - accuracy: 0.9077 - val_loss: 1.5181 - val_accuracy: 0.6040 - lr: 0.0010 - 74s/epoch - 17ms/step
Epoch 35/50
4378/4378 - 74s - loss: 0.2542 - accuracy: 0.9092 - val_loss: 1.4126 - val_accuracy: 0.6239 - lr: 0.0010 - 74s/epoch - 17ms/step
Epoch 36/50
4378/4378 - 74s - loss: 0.2552 - accuracy: 0.9091 - val_loss: 1.5763 - val_accuracy: 0.6175 - lr: 0.0010 - 74s/epoch - 17ms/step
Epoch 37/50
4378/4378 - 74s - loss: 0.2538 - accuracy: 0.9098 - val_loss: 1.3316 - val_accuracy: 0.6508 - lr: 0.0010 - 74s/epoch - 17ms/step
Epoch 38/50
4378/4378 - 74s - loss: 0.2542 - accuracy: 0.9098 - val_loss: 1.5063 - val_accuracy: 0.6183 - lr: 0.0010 - 74s/epoch - 17ms/step
Epoch 39/50
4378/4378 - 74s - loss: 0.2534 - accuracy: 0.9099 - val_loss: 1.6375 - val_accuracy: 0.6109 - lr: 0.0010 - 74s/epoch - 17ms/step
Epoch 40/50
4378/4378 - 74s - loss: 0.2572 - accuracy: 0.9085 - val_loss: 1.5504 - val_accuracy: 0.5881 - lr: 0.0010 - 74s/epoch - 17ms/step
Epoch 41/50
4378/4378 - 74s - loss: 0.2555 - accuracy: 0.9094 - val_loss: 1.4551 - val_accuracy: 0.6243 - lr: 0.0010 - 74s/epoch - 17ms/step
Epoch 42/50
4378/4378 - 74s - loss: 0.2628 - accuracy: 0.9067 - val_loss: 1.7932 - val_accuracy: 0.5533 - lr: 0.0010 - 74s/epoch - 17ms/step
Epoch 43/50
4378/4378 - 74s - loss: 0.2582 - accuracy: 0.9083 - val_loss: 1.4309 - val_accuracy: 0.6355 - lr: 0.0010 - 74s/epoch - 17ms/step
Epoch 44/50
4378/4378 - 75s - loss: 0.2536 - accuracy: 0.9098 - val_loss: 1.5879 - val_accuracy: 0.6030 - lr: 0.0010 - 75s/epoch - 17ms/step
Epoch 45/50
4378/4378 - 74s - loss: 0.2526 - accuracy: 0.9097 - val_loss: 1.4443 - val_accuracy: 0.6172 - lr: 0.0010 - 74s/epoch - 17ms/step
Epoch 46/50
4378/4378 - 74s - loss: 0.2543 - accuracy: 0.9084 - val_loss: 1.5594 - val_accuracy: 0.6186 - lr: 0.0010 - 74s/epoch - 17ms/step
Epoch 47/50
4378/4378 - 74s - loss: 0.2513 - accuracy: 0.9110 - val_loss: 1.5104 - val_accuracy: 0.6169 - lr: 0.0010 - 74s/epoch - 17ms/step
Epoch 48/50
4378/4378 - 74s - loss: 0.2521 - accuracy: 0.9096 - val_loss: 1.5224 - val_accuracy: 0.6349 - lr: 0.0010 - 74s/epoch - 17ms/step
Epoch 49/50
4378/4378 - 74s - loss: 0.2506 - accuracy: 0.9104 - val_loss: 1.6755 - val_accuracy: 0.5910 - lr: 0.0010 - 74s/epoch - 17ms/step
Epoch 50/50
4378/4378 - 74s - loss: 0.2544 - accuracy: 0.9086 - val_loss: 2.1166 - val_accuracy: 0.5147 - lr: 0.0010 - 74s/epoch - 17ms/step
Epoch 1/50
876/876 - 21s - loss: 0.1784 - accuracy: 0.9391 - val_loss: 2.0310 - val_accuracy: 0.5900 - lr: 0.0010 - 21s/epoch - 24ms/step
Epoch 2/50
876/876 - 18s - loss: 0.1771 - accuracy: 0.9395 - val_loss: 2.0804 - val_accuracy: 0.5816 - lr: 0.0010 - 18s/epoch - 21ms/step
Epoch 3/50
876/876 - 18s - loss: 0.1789 - accuracy: 0.9384 - val_loss: 2.0119 - val_accuracy: 0.5825 - lr: 0.0010 - 18s/epoch - 21ms/step
Epoch 4/50
876/876 - 18s - loss: 0.1720 - accuracy: 0.9405 - val_loss: 2.0540 - val_accuracy: 0.5661 - lr: 0.0010 - 18s/epoch - 21ms/step
Epoch 5/50
876/876 - 18s - loss: 0.1718 - accuracy: 0.9403 - val_loss: 1.8888 - val_accuracy: 0.6253 - lr: 0.0010 - 18s/epoch - 21ms/step
Epoch 6/50
876/876 - 18s - loss: 0.1682 - accuracy: 0.9420 - val_loss: 1.7613 - val_accuracy: 0.6417 - lr: 0.0010 - 18s/epoch - 21ms/step
Epoch 7/50
876/876 - 18s - loss: 0.1656 - accuracy: 0.9430 - val_loss: 1.7985 - val_accuracy: 0.6317 - lr: 0.0010 - 18s/epoch - 21ms/step
Epoch 8/50
876/876 - 18s - loss: 0.1675 - accuracy: 0.9427 - val_loss: 2.0734 - val_accuracy: 0.5777 - lr: 0.0010 - 18s/epoch - 21ms/step
Epoch 9/50
876/876 - 18s - loss: 0.1675 - accuracy: 0.9425 - val_loss: 1.8942 - val_accuracy: 0.6202 - lr: 0.0010 - 18s/epoch - 21ms/step
Epoch 10/50
876/876 - 18s - loss: 0.1642 - accuracy: 0.9440 - val_loss: 1.9553 - val_accuracy: 0.6163 - lr: 0.0010 - 18s/epoch - 21ms/step
Epoch 11/50
876/876 - 18s - loss: 0.1630 - accuracy: 0.9428 - val_loss: 1.8394 - val_accuracy: 0.6283 - lr: 0.0010 - 18s/epoch - 21ms/step
Epoch 12/50
876/876 - 18s - loss: 0.1624 - accuracy: 0.9436 - val_loss: 2.0126 - val_accuracy: 0.6185 - lr: 0.0010 - 18s/epoch - 21ms/step
Epoch 13/50
876/876 - 18s - loss: 0.1590 - accuracy: 0.9451 - val_loss: 2.0799 - val_accuracy: 0.6153 - lr: 0.0010 - 18s/epoch - 21ms/step
Epoch 14/50
876/876 - 18s - loss: 0.1616 - accuracy: 0.9447 - val_loss: 1.9923 - val_accuracy: 0.6073 - lr: 0.0010 - 18s/epoch - 21ms/step
Epoch 15/50
876/876 - 18s - loss: 0.1615 - accuracy: 0.9436 - val_loss: 2.0120 - val_accuracy: 0.6170 - lr: 0.0010 - 18s/epoch - 21ms/step
Epoch 16/50
876/876 - 18s - loss: 0.1589 - accuracy: 0.9448 - val_loss: 2.2235 - val_accuracy: 0.5813 - lr: 0.0010 - 18s/epoch - 21ms/step
Epoch 17/50
876/876 - 18s - loss: 0.1606 - accuracy: 0.9448 - val_loss: 2.0485 - val_accuracy: 0.5736 - lr: 0.0010 - 18s/epoch - 21ms/step
Epoch 18/50
876/876 - 18s - loss: 0.1604 - accuracy: 0.9453 - val_loss: 2.2328 - val_accuracy: 0.5693 - lr: 0.0010 - 18s/epoch - 21ms/step
Epoch 19/50
876/876 - 18s - loss: 0.1583 - accuracy: 0.9450 - val_loss: 1.9968 - val_accuracy: 0.6009 - lr: 0.0010 - 18s/epoch - 21ms/step
Epoch 20/50
876/876 - 18s - loss: 0.1587 - accuracy: 0.9448 - val_loss: 1.9009 - val_accuracy: 0.6235 - lr: 0.0010 - 18s/epoch - 21ms/step
Epoch 21/50
876/876 - 18s - loss: 0.1554 - accuracy: 0.9465 - val_loss: 2.1846 - val_accuracy: 0.5957 - lr: 0.0010 - 18s/epoch - 21ms/step
Epoch 22/50
876/876 - 18s - loss: 0.1555 - accuracy: 0.9469 - val_loss: 2.1524 - val_accuracy: 0.5910 - lr: 0.0010 - 18s/epoch - 21ms/step
Epoch 23/50
876/876 - 18s - loss: 0.1574 - accuracy: 0.9453 - val_loss: 1.8826 - val_accuracy: 0.6301 - lr: 0.0010 - 18s/epoch - 21ms/step
Epoch 24/50
876/876 - 18s - loss: 0.1599 - accuracy: 0.9446 - val_loss: 2.2699 - val_accuracy: 0.5702 - lr: 0.0010 - 18s/epoch - 21ms/step
Epoch 25/50
876/876 - 18s - loss: 0.1578 - accuracy: 0.9454 - val_loss: 1.9131 - val_accuracy: 0.6168 - lr: 0.0010 - 18s/epoch - 21ms/step
Epoch 26/50
876/876 - 18s - loss: 0.1570 - accuracy: 0.9461 - val_loss: 2.0579 - val_accuracy: 0.6110 - lr: 0.0010 - 18s/epoch - 21ms/step
Epoch 27/50
876/876 - 18s - loss: 0.1546 - accuracy: 0.9468 - val_loss: 2.1791 - val_accuracy: 0.5757 - lr: 0.0010 - 18s/epoch - 21ms/step
Epoch 28/50
876/876 - 18s - loss: 0.1577 - accuracy: 0.9454 - val_loss: 2.0101 - val_accuracy: 0.6127 - lr: 0.0010 - 18s/epoch - 21ms/step
Epoch 29/50
876/876 - 18s - loss: 0.1557 - accuracy: 0.9459 - val_loss: 1.9113 - val_accuracy: 0.6259 - lr: 0.0010 - 18s/epoch - 21ms/step
Epoch 30/50
876/876 - 18s - loss: 0.1546 - accuracy: 0.9460 - val_loss: 1.9638 - val_accuracy: 0.6305 - lr: 0.0010 - 18s/epoch - 21ms/step
Epoch 31/50
876/876 - 18s - loss: 0.1522 - accuracy: 0.9475 - val_loss: 2.2070 - val_accuracy: 0.5909 - lr: 0.0010 - 18s/epoch - 21ms/step
Epoch 32/50
876/876 - 18s - loss: 0.1553 - accuracy: 0.9464 - val_loss: 2.1439 - val_accuracy: 0.6086 - lr: 0.0010 - 18s/epoch - 21ms/step
Epoch 33/50
876/876 - 18s - loss: 0.1527 - accuracy: 0.9480 - val_loss: 2.0083 - val_accuracy: 0.6216 - lr: 0.0010 - 18s/epoch - 21ms/step
Epoch 34/50
876/876 - 18s - loss: 0.1509 - accuracy: 0.9485 - val_loss: 2.1255 - val_accuracy: 0.5986 - lr: 0.0010 - 18s/epoch - 21ms/step
Epoch 35/50
876/876 - 18s - loss: 0.1514 - accuracy: 0.9478 - val_loss: 2.1472 - val_accuracy: 0.6120 - lr: 0.0010 - 18s/epoch - 21ms/step
Epoch 36/50
876/876 - 18s - loss: 0.1531 - accuracy: 0.9473 - val_loss: 2.1242 - val_accuracy: 0.6099 - lr: 0.0010 - 18s/epoch - 21ms/step
Epoch 37/50
876/876 - 18s - loss: 0.1462 - accuracy: 0.9501 - val_loss: 2.2295 - val_accuracy: 0.6031 - lr: 0.0010 - 18s/epoch - 21ms/step
Epoch 38/50
876/876 - 18s - loss: 0.1543 - accuracy: 0.9472 - val_loss: 2.3329 - val_accuracy: 0.5830 - lr: 0.0010 - 18s/epoch - 21ms/step
Epoch 39/50
876/876 - 18s - loss: 0.1557 - accuracy: 0.9463 - val_loss: 2.3378 - val_accuracy: 0.5801 - lr: 0.0010 - 18s/epoch - 21ms/step
Epoch 40/50
876/876 - 18s - loss: 0.1533 - accuracy: 0.9473 - val_loss: 2.2240 - val_accuracy: 0.5921 - lr: 0.0010 - 18s/epoch - 21ms/step
Epoch 41/50
876/876 - 18s - loss: 0.1534 - accuracy: 0.9474 - val_loss: 2.2746 - val_accuracy: 0.5856 - lr: 0.0010 - 18s/epoch - 21ms/step
Epoch 42/50
876/876 - 18s - loss: 0.1495 - accuracy: 0.9481 - val_loss: 2.3125 - val_accuracy: 0.6015 - lr: 0.0010 - 18s/epoch - 21ms/step
Epoch 43/50
876/876 - 18s - loss: 0.1530 - accuracy: 0.9467 - val_loss: 2.1506 - val_accuracy: 0.6169 - lr: 0.0010 - 18s/epoch - 21ms/step
Epoch 44/50
876/876 - 18s - loss: 0.1524 - accuracy: 0.9470 - val_loss: 2.1659 - val_accuracy: 0.6180 - lr: 0.0010 - 18s/epoch - 21ms/step
Epoch 45/50
876/876 - 18s - loss: 0.1505 - accuracy: 0.9484 - val_loss: 2.2952 - val_accuracy: 0.5912 - lr: 0.0010 - 18s/epoch - 21ms/step
Epoch 46/50
876/876 - 19s - loss: 0.1527 - accuracy: 0.9463 - val_loss: 2.2356 - val_accuracy: 0.6053 - lr: 0.0010 - 19s/epoch - 21ms/step
Epoch 47/50
876/876 - 18s - loss: 0.1541 - accuracy: 0.9465 - val_loss: 2.2900 - val_accuracy: 0.5700 - lr: 0.0010 - 18s/epoch - 21ms/step
Epoch 48/50
876/876 - 18s - loss: 0.1547 - accuracy: 0.9456 - val_loss: 2.1929 - val_accuracy: 0.5995 - lr: 0.0010 - 18s/epoch - 21ms/step
Epoch 49/50
876/876 - 18s - loss: 0.1495 - accuracy: 0.9491 - val_loss: 2.1881 - val_accuracy: 0.5995 - lr: 0.0010 - 18s/epoch - 21ms/step
Epoch 50/50
876/876 - 18s - loss: 0.1480 - accuracy: 0.9482 - val_loss: 2.1435 - val_accuracy: 0.6088 - lr: 0.0010 - 18s/epoch - 21ms/step
Epoch 1/50
176/176 - 11s - loss: 0.1124 - accuracy: 0.9632 - val_loss: 2.2542 - val_accuracy: 0.6067 - lr: 0.0010 - 11s/epoch - 64ms/step
Epoch 2/50
176/176 - 9s - loss: 0.0965 - accuracy: 0.9693 - val_loss: 2.3604 - val_accuracy: 0.6073 - lr: 0.0010 - 9s/epoch - 51ms/step
Epoch 3/50
176/176 - 9s - loss: 0.0938 - accuracy: 0.9706 - val_loss: 2.5214 - val_accuracy: 0.5898 - lr: 0.0010 - 9s/epoch - 51ms/step
Epoch 4/50
176/176 - 9s - loss: 0.0947 - accuracy: 0.9703 - val_loss: 2.5338 - val_accuracy: 0.6017 - lr: 0.0010 - 9s/epoch - 51ms/step
Epoch 5/50
176/176 - 9s - loss: 0.0930 - accuracy: 0.9697 - val_loss: 2.4604 - val_accuracy: 0.6217 - lr: 0.0010 - 9s/epoch - 51ms/step
Epoch 6/50
176/176 - 9s - loss: 0.0962 - accuracy: 0.9690 - val_loss: 2.6087 - val_accuracy: 0.5963 - lr: 0.0010 - 9s/epoch - 51ms/step
Epoch 7/50
176/176 - 9s - loss: 0.0998 - accuracy: 0.9674 - val_loss: 2.5338 - val_accuracy: 0.6140 - lr: 0.0010 - 9s/epoch - 51ms/step
Epoch 8/50
176/176 - 9s - loss: 0.0939 - accuracy: 0.9693 - val_loss: 2.6723 - val_accuracy: 0.5920 - lr: 0.0010 - 9s/epoch - 51ms/step
Epoch 9/50
176/176 - 9s - loss: 0.0919 - accuracy: 0.9702 - val_loss: 2.7846 - val_accuracy: 0.5975 - lr: 0.0010 - 9s/epoch - 51ms/step
Epoch 10/50
176/176 - 9s - loss: 0.0948 - accuracy: 0.9694 - val_loss: 2.6513 - val_accuracy: 0.6050 - lr: 0.0010 - 9s/epoch - 51ms/step
Epoch 11/50
176/176 - 9s - loss: 0.0942 - accuracy: 0.9700 - val_loss: 2.7985 - val_accuracy: 0.5724 - lr: 0.0010 - 9s/epoch - 51ms/step
Epoch 12/50
176/176 - 9s - loss: 0.0968 - accuracy: 0.9682 - val_loss: 2.7553 - val_accuracy: 0.5913 - lr: 0.0010 - 9s/epoch - 51ms/step
Epoch 13/50
176/176 - 9s - loss: 0.0971 - accuracy: 0.9681 - val_loss: 2.7478 - val_accuracy: 0.5825 - lr: 0.0010 - 9s/epoch - 51ms/step
Epoch 14/50
176/176 - 9s - loss: 0.0977 - accuracy: 0.9681 - val_loss: 2.7112 - val_accuracy: 0.6006 - lr: 0.0010 - 9s/epoch - 51ms/step
Epoch 15/50
176/176 - 9s - loss: 0.1025 - accuracy: 0.9663 - val_loss: 2.6763 - val_accuracy: 0.5913 - lr: 0.0010 - 9s/epoch - 51ms/step
Epoch 16/50
176/176 - 9s - loss: 0.0976 - accuracy: 0.9680 - val_loss: 2.7470 - val_accuracy: 0.5881 - lr: 0.0010 - 9s/epoch - 51ms/step
Epoch 17/50
176/176 - 9s - loss: 0.0966 - accuracy: 0.9685 - val_loss: 2.8169 - val_accuracy: 0.5732 - lr: 0.0010 - 9s/epoch - 51ms/step
Epoch 18/50
176/176 - 9s - loss: 0.0971 - accuracy: 0.9687 - val_loss: 2.8518 - val_accuracy: 0.5801 - lr: 0.0010 - 9s/epoch - 51ms/step
Epoch 19/50
176/176 - 9s - loss: 0.0984 - accuracy: 0.9675 - val_loss: 2.8039 - val_accuracy: 0.5717 - lr: 0.0010 - 9s/epoch - 51ms/step
Epoch 20/50
176/176 - 9s - loss: 0.0980 - accuracy: 0.9678 - val_loss: 2.7338 - val_accuracy: 0.5824 - lr: 0.0010 - 9s/epoch - 51ms/step
Epoch 21/50
176/176 - 9s - loss: 0.0984 - accuracy: 0.9676 - val_loss: 2.7511 - val_accuracy: 0.5837 - lr: 0.0010 - 9s/epoch - 51ms/step
Epoch 22/50
176/176 - 9s - loss: 0.1001 - accuracy: 0.9668 - val_loss: 2.7142 - val_accuracy: 0.6037 - lr: 0.0010 - 9s/epoch - 51ms/step
Epoch 23/50
176/176 - 9s - loss: 0.0950 - accuracy: 0.9687 - val_loss: 2.8563 - val_accuracy: 0.5857 - lr: 0.0010 - 9s/epoch - 51ms/step
Epoch 24/50
176/176 - 9s - loss: 0.0989 - accuracy: 0.9675 - val_loss: 2.8455 - val_accuracy: 0.5803 - lr: 0.0010 - 9s/epoch - 51ms/step
Epoch 25/50
176/176 - 9s - loss: 0.0985 - accuracy: 0.9677 - val_loss: 2.7990 - val_accuracy: 0.5920 - lr: 0.0010 - 9s/epoch - 51ms/step
Epoch 26/50
176/176 - 9s - loss: 0.0943 - accuracy: 0.9692 - val_loss: 2.8210 - val_accuracy: 0.5750 - lr: 0.0010 - 9s/epoch - 51ms/step
Epoch 27/50
176/176 - 9s - loss: 0.0921 - accuracy: 0.9698 - val_loss: 2.7790 - val_accuracy: 0.5872 - lr: 0.0010 - 9s/epoch - 51ms/step
Epoch 28/50
176/176 - 9s - loss: 0.0874 - accuracy: 0.9717 - val_loss: 2.7825 - val_accuracy: 0.6031 - lr: 0.0010 - 9s/epoch - 51ms/step
Epoch 29/50
176/176 - 9s - loss: 0.0862 - accuracy: 0.9714 - val_loss: 2.8083 - val_accuracy: 0.6004 - lr: 0.0010 - 9s/epoch - 51ms/step
Epoch 30/50
176/176 - 9s - loss: 0.0895 - accuracy: 0.9712 - val_loss: 2.6885 - val_accuracy: 0.6158 - lr: 0.0010 - 9s/epoch - 51ms/step
Epoch 31/50
176/176 - 9s - loss: 0.0853 - accuracy: 0.9724 - val_loss: 2.8306 - val_accuracy: 0.6032 - lr: 0.0010 - 9s/epoch - 51ms/step
Epoch 32/50
176/176 - 9s - loss: 0.0907 - accuracy: 0.9702 - val_loss: 2.7431 - val_accuracy: 0.6022 - lr: 0.0010 - 9s/epoch - 51ms/step
Epoch 33/50
176/176 - 9s - loss: 0.0922 - accuracy: 0.9702 - val_loss: 2.9048 - val_accuracy: 0.5841 - lr: 0.0010 - 9s/epoch - 51ms/step
Epoch 34/50
176/176 - 9s - loss: 0.0913 - accuracy: 0.9697 - val_loss: 2.8157 - val_accuracy: 0.5974 - lr: 0.0010 - 9s/epoch - 51ms/step
Epoch 35/50
176/176 - 9s - loss: 0.0912 - accuracy: 0.9703 - val_loss: 2.6980 - val_accuracy: 0.6077 - lr: 0.0010 - 9s/epoch - 51ms/step
Epoch 36/50
176/176 - 9s - loss: 0.0941 - accuracy: 0.9691 - val_loss: 2.8295 - val_accuracy: 0.6023 - lr: 0.0010 - 9s/epoch - 51ms/step
Epoch 37/50
176/176 - 9s - loss: 0.0919 - accuracy: 0.9710 - val_loss: 2.9664 - val_accuracy: 0.5645 - lr: 0.0010 - 9s/epoch - 51ms/step
Epoch 38/50
176/176 - 9s - loss: 0.0931 - accuracy: 0.9702 - val_loss: 2.8286 - val_accuracy: 0.5967 - lr: 0.0010 - 9s/epoch - 51ms/step
Epoch 39/50
176/176 - 9s - loss: 0.0921 - accuracy: 0.9698 - val_loss: 2.8112 - val_accuracy: 0.6017 - lr: 0.0010 - 9s/epoch - 51ms/step
Epoch 40/50
176/176 - 9s - loss: 0.0922 - accuracy: 0.9700 - val_loss: 2.7808 - val_accuracy: 0.6018 - lr: 0.0010 - 9s/epoch - 51ms/step
Epoch 41/50
176/176 - 9s - loss: 0.0950 - accuracy: 0.9686 - val_loss: 2.8643 - val_accuracy: 0.5943 - lr: 0.0010 - 9s/epoch - 51ms/step
Epoch 42/50
176/176 - 9s - loss: 0.0957 - accuracy: 0.9683 - val_loss: 2.7782 - val_accuracy: 0.6068 - lr: 0.0010 - 9s/epoch - 51ms/step
Epoch 43/50
176/176 - 9s - loss: 0.0916 - accuracy: 0.9697 - val_loss: 2.7896 - val_accuracy: 0.5965 - lr: 0.0010 - 9s/epoch - 51ms/step
Epoch 44/50
176/176 - 9s - loss: 0.0897 - accuracy: 0.9706 - val_loss: 2.9742 - val_accuracy: 0.5570 - lr: 0.0010 - 9s/epoch - 51ms/step
Epoch 45/50
176/176 - 9s - loss: 0.0901 - accuracy: 0.9702 - val_loss: 3.0580 - val_accuracy: 0.5556 - lr: 0.0010 - 9s/epoch - 51ms/step
Epoch 46/50
176/176 - 9s - loss: 0.0916 - accuracy: 0.9705 - val_loss: 2.9229 - val_accuracy: 0.5786 - lr: 0.0010 - 9s/epoch - 51ms/step
Epoch 47/50
176/176 - 9s - loss: 0.0910 - accuracy: 0.9700 - val_loss: 2.7962 - val_accuracy: 0.5911 - lr: 0.0010 - 9s/epoch - 51ms/step
Epoch 48/50
176/176 - 9s - loss: 0.0913 - accuracy: 0.9699 - val_loss: 3.0453 - val_accuracy: 0.5674 - lr: 0.0010 - 9s/epoch - 51ms/step
Epoch 49/50
176/176 - 9s - loss: 0.0914 - accuracy: 0.9698 - val_loss: 2.8544 - val_accuracy: 0.5883 - lr: 0.0010 - 9s/epoch - 51ms/step
Epoch 50/50
176/176 - 9s - loss: 0.0911 - accuracy: 0.9708 - val_loss: 2.8381 - val_accuracy: 0.6010 - lr: 0.0010 - 9s/epoch - 51ms/step
Epoch 1/50
36/36 - 10s - loss: 0.0830 - accuracy: 0.9732 - val_loss: 2.8253 - val_accuracy: 0.5971 - lr: 0.0010 - 10s/epoch - 280ms/step
Epoch 2/50
36/36 - 8s - loss: 0.0766 - accuracy: 0.9755 - val_loss: 2.9212 - val_accuracy: 0.5872 - lr: 0.0010 - 8s/epoch - 223ms/step
Epoch 3/50
36/36 - 8s - loss: 0.0703 - accuracy: 0.9780 - val_loss: 2.9224 - val_accuracy: 0.5899 - lr: 0.0010 - 8s/epoch - 223ms/step
Epoch 4/50
36/36 - 8s - loss: 0.0754 - accuracy: 0.9763 - val_loss: 2.9376 - val_accuracy: 0.5884 - lr: 0.0010 - 8s/epoch - 224ms/step
Epoch 5/50
36/36 - 8s - loss: 0.0692 - accuracy: 0.9787 - val_loss: 2.9437 - val_accuracy: 0.5906 - lr: 0.0010 - 8s/epoch - 224ms/step
Epoch 6/50
36/36 - 8s - loss: 0.0677 - accuracy: 0.9787 - val_loss: 2.9800 - val_accuracy: 0.5894 - lr: 0.0010 - 8s/epoch - 223ms/step
Epoch 7/50
36/36 - 8s - loss: 0.0648 - accuracy: 0.9803 - val_loss: 2.9905 - val_accuracy: 0.5888 - lr: 0.0010 - 8s/epoch - 224ms/step
Epoch 8/50
36/36 - 8s - loss: 0.0669 - accuracy: 0.9795 - val_loss: 2.9466 - val_accuracy: 0.5968 - lr: 0.0010 - 8s/epoch - 224ms/step
Epoch 9/50
36/36 - 8s - loss: 0.0662 - accuracy: 0.9793 - val_loss: 3.0128 - val_accuracy: 0.5859 - lr: 0.0010 - 8s/epoch - 224ms/step
Epoch 10/50
36/36 - 8s - loss: 0.0647 - accuracy: 0.9795 - val_loss: 3.0038 - val_accuracy: 0.5889 - lr: 0.0010 - 8s/epoch - 224ms/step
Epoch 11/50
36/36 - 8s - loss: 0.0669 - accuracy: 0.9795 - val_loss: 3.0222 - val_accuracy: 0.5879 - lr: 0.0010 - 8s/epoch - 224ms/step
Epoch 12/50
36/36 - 8s - loss: 0.0634 - accuracy: 0.9806 - val_loss: 2.9841 - val_accuracy: 0.5966 - lr: 0.0010 - 8s/epoch - 224ms/step
Epoch 13/50
36/36 - 8s - loss: 0.0632 - accuracy: 0.9801 - val_loss: 3.0210 - val_accuracy: 0.5948 - lr: 0.0010 - 8s/epoch - 225ms/step
Epoch 14/50
36/36 - 8s - loss: 0.0638 - accuracy: 0.9798 - val_loss: 3.0601 - val_accuracy: 0.5941 - lr: 0.0010 - 8s/epoch - 224ms/step
Epoch 15/50
36/36 - 8s - loss: 0.0643 - accuracy: 0.9799 - val_loss: 3.0592 - val_accuracy: 0.5936 - lr: 0.0010 - 8s/epoch - 224ms/step
Epoch 16/50
36/36 - 8s - loss: 0.0630 - accuracy: 0.9813 - val_loss: 3.0825 - val_accuracy: 0.5942 - lr: 0.0010 - 8s/epoch - 224ms/step
Epoch 17/50
36/36 - 8s - loss: 0.0631 - accuracy: 0.9808 - val_loss: 3.1066 - val_accuracy: 0.5872 - lr: 0.0010 - 8s/epoch - 224ms/step
Epoch 18/50
36/36 - 8s - loss: 0.0627 - accuracy: 0.9809 - val_loss: 3.0937 - val_accuracy: 0.5929 - lr: 0.0010 - 8s/epoch - 224ms/step
Epoch 19/50
36/36 - 8s - loss: 0.0651 - accuracy: 0.9804 - val_loss: 3.1185 - val_accuracy: 0.5923 - lr: 0.0010 - 8s/epoch - 224ms/step
Epoch 20/50
36/36 - 8s - loss: 0.0630 - accuracy: 0.9810 - val_loss: 3.0876 - val_accuracy: 0.5949 - lr: 0.0010 - 8s/epoch - 224ms/step
Epoch 21/50
36/36 - 8s - loss: 0.0616 - accuracy: 0.9811 - val_loss: 3.0807 - val_accuracy: 0.5992 - lr: 0.0010 - 8s/epoch - 224ms/step
Epoch 22/50
36/36 - 8s - loss: 0.0610 - accuracy: 0.9812 - val_loss: 3.0961 - val_accuracy: 0.5953 - lr: 0.0010 - 8s/epoch - 224ms/step
Epoch 23/50
36/36 - 8s - loss: 0.0621 - accuracy: 0.9802 - val_loss: 3.1289 - val_accuracy: 0.5873 - lr: 0.0010 - 8s/epoch - 224ms/step
Epoch 24/50
36/36 - 8s - loss: 0.0690 - accuracy: 0.9788 - val_loss: 3.0789 - val_accuracy: 0.6011 - lr: 0.0010 - 8s/epoch - 224ms/step
Epoch 25/50
36/36 - 8s - loss: 0.0653 - accuracy: 0.9794 - val_loss: 3.1431 - val_accuracy: 0.5962 - lr: 0.0010 - 8s/epoch - 224ms/step
Epoch 26/50
36/36 - 8s - loss: 0.0633 - accuracy: 0.9808 - val_loss: 3.1472 - val_accuracy: 0.5901 - lr: 0.0010 - 8s/epoch - 224ms/step
Epoch 27/50
36/36 - 8s - loss: 0.0607 - accuracy: 0.9809 - val_loss: 3.1637 - val_accuracy: 0.5925 - lr: 0.0010 - 8s/epoch - 224ms/step
Epoch 28/50
36/36 - 8s - loss: 0.0601 - accuracy: 0.9815 - val_loss: 3.2121 - val_accuracy: 0.5831 - lr: 0.0010 - 8s/epoch - 224ms/step
Epoch 29/50
36/36 - 8s - loss: 0.0629 - accuracy: 0.9802 - val_loss: 3.1467 - val_accuracy: 0.5882 - lr: 0.0010 - 8s/epoch - 224ms/step
Epoch 30/50
36/36 - 8s - loss: 0.0624 - accuracy: 0.9809 - val_loss: 3.1826 - val_accuracy: 0.5918 - lr: 0.0010 - 8s/epoch - 225ms/step
Epoch 31/50
36/36 - 8s - loss: 0.0616 - accuracy: 0.9812 - val_loss: 3.1656 - val_accuracy: 0.5988 - lr: 0.0010 - 8s/epoch - 224ms/step
Epoch 32/50
36/36 - 8s - loss: 0.0608 - accuracy: 0.9815 - val_loss: 3.2027 - val_accuracy: 0.5869 - lr: 0.0010 - 8s/epoch - 224ms/step
Epoch 33/50
36/36 - 8s - loss: 0.0606 - accuracy: 0.9816 - val_loss: 3.1907 - val_accuracy: 0.5899 - lr: 0.0010 - 8s/epoch - 224ms/step
Epoch 34/50
36/36 - 8s - loss: 0.0592 - accuracy: 0.9816 - val_loss: 3.1991 - val_accuracy: 0.5948 - lr: 0.0010 - 8s/epoch - 224ms/step
Epoch 35/50
36/36 - 8s - loss: 0.0621 - accuracy: 0.9807 - val_loss: 3.1572 - val_accuracy: 0.5993 - lr: 0.0010 - 8s/epoch - 224ms/step
Epoch 36/50
36/36 - 8s - loss: 0.0653 - accuracy: 0.9798 - val_loss: 3.2069 - val_accuracy: 0.5948 - lr: 0.0010 - 8s/epoch - 224ms/step
Epoch 37/50
36/36 - 8s - loss: 0.0606 - accuracy: 0.9812 - val_loss: 3.2592 - val_accuracy: 0.5886 - lr: 0.0010 - 8s/epoch - 224ms/step
Epoch 38/50
36/36 - 8s - loss: 0.0623 - accuracy: 0.9808 - val_loss: 3.2201 - val_accuracy: 0.5891 - lr: 0.0010 - 8s/epoch - 224ms/step
Epoch 39/50
36/36 - 8s - loss: 0.0611 - accuracy: 0.9812 - val_loss: 3.2598 - val_accuracy: 0.5859 - lr: 0.0010 - 8s/epoch - 224ms/step
Epoch 40/50
36/36 - 8s - loss: 0.0617 - accuracy: 0.9809 - val_loss: 3.1749 - val_accuracy: 0.5970 - lr: 0.0010 - 8s/epoch - 224ms/step
Epoch 41/50
36/36 - 8s - loss: 0.0608 - accuracy: 0.9816 - val_loss: 3.1966 - val_accuracy: 0.5964 - lr: 0.0010 - 8s/epoch - 224ms/step
Epoch 42/50
36/36 - 8s - loss: 0.0598 - accuracy: 0.9819 - val_loss: 3.2220 - val_accuracy: 0.5919 - lr: 0.0010 - 8s/epoch - 224ms/step
Epoch 43/50
36/36 - 8s - loss: 0.0585 - accuracy: 0.9823 - val_loss: 3.2283 - val_accuracy: 0.5910 - lr: 0.0010 - 8s/epoch - 224ms/step
Epoch 44/50
36/36 - 8s - loss: 0.0574 - accuracy: 0.9825 - val_loss: 3.2056 - val_accuracy: 0.5959 - lr: 0.0010 - 8s/epoch - 224ms/step
Epoch 45/50
36/36 - 8s - loss: 0.0593 - accuracy: 0.9819 - val_loss: 3.1375 - val_accuracy: 0.6047 - lr: 0.0010 - 8s/epoch - 223ms/step
Epoch 46/50
36/36 - 8s - loss: 0.0616 - accuracy: 0.9812 - val_loss: 3.1442 - val_accuracy: 0.5988 - lr: 0.0010 - 8s/epoch - 224ms/step
Epoch 47/50
36/36 - 8s - loss: 0.0582 - accuracy: 0.9822 - val_loss: 3.1956 - val_accuracy: 0.5938 - lr: 0.0010 - 8s/epoch - 224ms/step
Epoch 48/50
36/36 - 8s - loss: 0.0616 - accuracy: 0.9809 - val_loss: 3.1954 - val_accuracy: 0.5942 - lr: 0.0010 - 8s/epoch - 224ms/step
Epoch 49/50
36/36 - 8s - loss: 0.0627 - accuracy: 0.9811 - val_loss: 3.2499 - val_accuracy: 0.5859 - lr: 0.0010 - 8s/epoch - 224ms/step
Epoch 50/50
36/36 - 8s - loss: 0.0600 - accuracy: 0.9814 - val_loss: 3.2261 - val_accuracy: 0.5868 - lr: 0.0010 - 8s/epoch - 224ms/step
Epoch 1/75
4378/4378 - 77s - loss: 0.2176 - accuracy: 0.9245 - val_loss: 1.9104 - val_accuracy: 0.6229 - lr: 0.0010 - 77s/epoch - 18ms/step
Epoch 2/75
4378/4378 - 74s - loss: 0.2368 - accuracy: 0.9158 - val_loss: 1.7713 - val_accuracy: 0.6049 - lr: 0.0010 - 74s/epoch - 17ms/step
Epoch 3/75
4378/4378 - 75s - loss: 0.2388 - accuracy: 0.9137 - val_loss: 1.6406 - val_accuracy: 0.6359 - lr: 0.0010 - 75s/epoch - 17ms/step
Epoch 4/75
4378/4378 - 75s - loss: 0.2414 - accuracy: 0.9133 - val_loss: 1.6523 - val_accuracy: 0.6115 - lr: 0.0010 - 75s/epoch - 17ms/step
Epoch 5/75
4378/4378 - 75s - loss: 0.2495 - accuracy: 0.9101 - val_loss: 1.7345 - val_accuracy: 0.5813 - lr: 0.0010 - 75s/epoch - 17ms/step
Epoch 6/75
4378/4378 - 75s - loss: 0.2510 - accuracy: 0.9099 - val_loss: 1.6624 - val_accuracy: 0.5747 - lr: 0.0010 - 75s/epoch - 17ms/step
Epoch 7/75
4378/4378 - 75s - loss: 0.2487 - accuracy: 0.9099 - val_loss: 1.4813 - val_accuracy: 0.6429 - lr: 0.0010 - 75s/epoch - 17ms/step
Epoch 8/75
4378/4378 - 75s - loss: 0.2408 - accuracy: 0.9133 - val_loss: 1.7099 - val_accuracy: 0.6203 - lr: 0.0010 - 75s/epoch - 17ms/step
Epoch 9/75
4378/4378 - 76s - loss: 0.2419 - accuracy: 0.9128 - val_loss: 1.6231 - val_accuracy: 0.6290 - lr: 0.0010 - 76s/epoch - 17ms/step
Epoch 10/75
4378/4378 - 76s - loss: 0.2439 - accuracy: 0.9125 - val_loss: 1.7832 - val_accuracy: 0.5818 - lr: 0.0010 - 76s/epoch - 17ms/step
Epoch 11/75
4378/4378 - 76s - loss: 0.2426 - accuracy: 0.9132 - val_loss: 1.7431 - val_accuracy: 0.5670 - lr: 0.0010 - 76s/epoch - 17ms/step
Epoch 12/75
4378/4378 - 75s - loss: 0.2448 - accuracy: 0.9120 - val_loss: 1.5495 - val_accuracy: 0.6175 - lr: 0.0010 - 75s/epoch - 17ms/step
Epoch 13/75
4378/4378 - 76s - loss: 0.2419 - accuracy: 0.9143 - val_loss: 1.5064 - val_accuracy: 0.6236 - lr: 0.0010 - 76s/epoch - 17ms/step
Epoch 14/75
4378/4378 - 76s - loss: 0.2427 - accuracy: 0.9127 - val_loss: 1.5075 - val_accuracy: 0.6280 - lr: 0.0010 - 76s/epoch - 17ms/step
Epoch 15/75
4378/4378 - 76s - loss: 0.2467 - accuracy: 0.9113 - val_loss: 1.5820 - val_accuracy: 0.6053 - lr: 0.0010 - 76s/epoch - 17ms/step
Epoch 16/75
4378/4378 - 76s - loss: 0.2457 - accuracy: 0.9121 - val_loss: 1.7125 - val_accuracy: 0.5875 - lr: 0.0010 - 76s/epoch - 17ms/step
Epoch 17/75
4378/4378 - 76s - loss: 0.2501 - accuracy: 0.9094 - val_loss: 1.7426 - val_accuracy: 0.5897 - lr: 0.0010 - 76s/epoch - 17ms/step
Epoch 18/75
4378/4378 - 76s - loss: 0.2458 - accuracy: 0.9119 - val_loss: 1.5144 - val_accuracy: 0.5984 - lr: 0.0010 - 76s/epoch - 17ms/step
Epoch 19/75
4378/4378 - 76s - loss: 0.2450 - accuracy: 0.9124 - val_loss: 1.7838 - val_accuracy: 0.5726 - lr: 0.0010 - 76s/epoch - 17ms/step
Epoch 20/75
4378/4378 - 76s - loss: 0.2462 - accuracy: 0.9112 - val_loss: 1.6766 - val_accuracy: 0.5915 - lr: 0.0010 - 76s/epoch - 17ms/step
Epoch 21/75
4378/4378 - 76s - loss: 0.2452 - accuracy: 0.9115 - val_loss: 1.5484 - val_accuracy: 0.6223 - lr: 0.0010 - 76s/epoch - 17ms/step
Epoch 22/75
4378/4378 - 77s - loss: 0.2467 - accuracy: 0.9107 - val_loss: 1.6257 - val_accuracy: 0.5876 - lr: 0.0010 - 77s/epoch - 18ms/step
Epoch 23/75
4378/4378 - 75s - loss: 0.2413 - accuracy: 0.9127 - val_loss: 1.5815 - val_accuracy: 0.6087 - lr: 0.0010 - 75s/epoch - 17ms/step
Epoch 24/75
4378/4378 - 75s - loss: 0.2432 - accuracy: 0.9120 - val_loss: 1.6842 - val_accuracy: 0.6031 - lr: 0.0010 - 75s/epoch - 17ms/step
Epoch 25/75
4378/4378 - 75s - loss: 0.2439 - accuracy: 0.9119 - val_loss: 1.9743 - val_accuracy: 0.5389 - lr: 0.0010 - 75s/epoch - 17ms/step
Epoch 26/75
4378/4378 - 75s - loss: 0.2468 - accuracy: 0.9113 - val_loss: 1.9682 - val_accuracy: 0.5343 - lr: 0.0010 - 75s/epoch - 17ms/step
Epoch 27/75
4378/4378 - 75s - loss: 0.2439 - accuracy: 0.9118 - val_loss: 1.5629 - val_accuracy: 0.6370 - lr: 0.0010 - 75s/epoch - 17ms/step
Epoch 28/75
4378/4378 - 75s - loss: 0.2476 - accuracy: 0.9113 - val_loss: 1.4306 - val_accuracy: 0.6583 - lr: 0.0010 - 75s/epoch - 17ms/step
Epoch 29/75
4378/4378 - 75s - loss: 0.2475 - accuracy: 0.9115 - val_loss: 1.6862 - val_accuracy: 0.5842 - lr: 0.0010 - 75s/epoch - 17ms/step
Epoch 30/75
4378/4378 - 75s - loss: 0.2457 - accuracy: 0.9114 - val_loss: 1.7256 - val_accuracy: 0.5936 - lr: 0.0010 - 75s/epoch - 17ms/step
Epoch 31/75
4378/4378 - 75s - loss: 0.2496 - accuracy: 0.9108 - val_loss: 1.6807 - val_accuracy: 0.6044 - lr: 0.0010 - 75s/epoch - 17ms/step
Epoch 32/75
4378/4378 - 75s - loss: 0.2530 - accuracy: 0.9093 - val_loss: 1.5699 - val_accuracy: 0.6138 - lr: 0.0010 - 75s/epoch - 17ms/step
Epoch 33/75
4378/4378 - 75s - loss: 0.2556 - accuracy: 0.9080 - val_loss: 1.6077 - val_accuracy: 0.5943 - lr: 0.0010 - 75s/epoch - 17ms/step
Epoch 34/75
4378/4378 - 75s - loss: 0.2460 - accuracy: 0.9121 - val_loss: 1.6524 - val_accuracy: 0.5731 - lr: 0.0010 - 75s/epoch - 17ms/step
Epoch 35/75
4378/4378 - 75s - loss: 0.2434 - accuracy: 0.9119 - val_loss: 1.5506 - val_accuracy: 0.6521 - lr: 0.0010 - 75s/epoch - 17ms/step
Epoch 36/75
4378/4378 - 75s - loss: 0.2480 - accuracy: 0.9103 - val_loss: 1.7588 - val_accuracy: 0.5578 - lr: 0.0010 - 75s/epoch - 17ms/step
Epoch 37/75
4378/4378 - 75s - loss: 0.2463 - accuracy: 0.9111 - val_loss: 2.0156 - val_accuracy: 0.5303 - lr: 0.0010 - 75s/epoch - 17ms/step
Epoch 38/75
4378/4378 - 75s - loss: 0.2431 - accuracy: 0.9130 - val_loss: 1.8387 - val_accuracy: 0.5417 - lr: 0.0010 - 75s/epoch - 17ms/step
Epoch 39/75
4378/4378 - 75s - loss: 0.2532 - accuracy: 0.9089 - val_loss: 1.4343 - val_accuracy: 0.6366 - lr: 0.0010 - 75s/epoch - 17ms/step
Epoch 40/75
4378/4378 - 75s - loss: 0.2492 - accuracy: 0.9110 - val_loss: 1.6218 - val_accuracy: 0.6012 - lr: 0.0010 - 75s/epoch - 17ms/step
Epoch 41/75
4378/4378 - 75s - loss: 0.2505 - accuracy: 0.9101 - val_loss: 1.2923 - val_accuracy: 0.6718 - lr: 0.0010 - 75s/epoch - 17ms/step
Epoch 42/75
4378/4378 - 75s - loss: 0.2430 - accuracy: 0.9127 - val_loss: 2.4744 - val_accuracy: 0.4524 - lr: 0.0010 - 75s/epoch - 17ms/step
Epoch 43/75
4378/4378 - 75s - loss: 0.2482 - accuracy: 0.9106 - val_loss: 1.8000 - val_accuracy: 0.5772 - lr: 0.0010 - 75s/epoch - 17ms/step
Epoch 44/75
4378/4378 - 75s - loss: 0.2422 - accuracy: 0.9140 - val_loss: 1.7521 - val_accuracy: 0.6026 - lr: 0.0010 - 75s/epoch - 17ms/step
Epoch 45/75
4378/4378 - 75s - loss: 0.2395 - accuracy: 0.9144 - val_loss: 1.8454 - val_accuracy: 0.5539 - lr: 0.0010 - 75s/epoch - 17ms/step
Epoch 46/75
4378/4378 - 75s - loss: 0.2479 - accuracy: 0.9109 - val_loss: 1.5731 - val_accuracy: 0.5873 - lr: 0.0010 - 75s/epoch - 17ms/step
Epoch 47/75
4378/4378 - 74s - loss: 0.2492 - accuracy: 0.9109 - val_loss: 1.7169 - val_accuracy: 0.5661 - lr: 0.0010 - 74s/epoch - 17ms/step
Epoch 48/75
4378/4378 - 74s - loss: 0.2475 - accuracy: 0.9105 - val_loss: 1.8181 - val_accuracy: 0.5292 - lr: 0.0010 - 74s/epoch - 17ms/step
Epoch 49/75
4378/4378 - 74s - loss: 0.2450 - accuracy: 0.9120 - val_loss: 1.5279 - val_accuracy: 0.6002 - lr: 0.0010 - 74s/epoch - 17ms/step
Epoch 50/75
4378/4378 - 74s - loss: 0.2509 - accuracy: 0.9089 - val_loss: 1.8725 - val_accuracy: 0.5211 - lr: 0.0010 - 74s/epoch - 17ms/step
Epoch 51/75
4378/4378 - 75s - loss: 0.2491 - accuracy: 0.9093 - val_loss: 1.4626 - val_accuracy: 0.6554 - lr: 0.0010 - 75s/epoch - 17ms/step
Epoch 52/75
4378/4378 - 74s - loss: 0.2502 - accuracy: 0.9098 - val_loss: 1.8544 - val_accuracy: 0.5485 - lr: 0.0010 - 74s/epoch - 17ms/step
Epoch 53/75
4378/4378 - 75s - loss: 0.2454 - accuracy: 0.9118 - val_loss: 1.8208 - val_accuracy: 0.5524 - lr: 0.0010 - 75s/epoch - 17ms/step
Epoch 54/75
4378/4378 - 75s - loss: 0.2486 - accuracy: 0.9104 - val_loss: 1.7526 - val_accuracy: 0.5795 - lr: 0.0010 - 75s/epoch - 17ms/step
Epoch 55/75
4378/4378 - 75s - loss: 0.2451 - accuracy: 0.9122 - val_loss: 1.8425 - val_accuracy: 0.5446 - lr: 0.0010 - 75s/epoch - 17ms/step
Epoch 56/75
4378/4378 - 75s - loss: 0.2464 - accuracy: 0.9116 - val_loss: 2.0621 - val_accuracy: 0.4882 - lr: 0.0010 - 75s/epoch - 17ms/step
Epoch 57/75
4378/4378 - 74s - loss: 0.2476 - accuracy: 0.9119 - val_loss: 1.9338 - val_accuracy: 0.5253 - lr: 0.0010 - 74s/epoch - 17ms/step
Epoch 58/75
4378/4378 - 74s - loss: 0.2463 - accuracy: 0.9114 - val_loss: 1.7400 - val_accuracy: 0.5772 - lr: 0.0010 - 74s/epoch - 17ms/step
Epoch 59/75
4378/4378 - 75s - loss: 0.2476 - accuracy: 0.9119 - val_loss: 1.9508 - val_accuracy: 0.5074 - lr: 0.0010 - 75s/epoch - 17ms/step
Epoch 60/75
4378/4378 - 74s - loss: 0.2462 - accuracy: 0.9112 - val_loss: 1.7298 - val_accuracy: 0.5775 - lr: 0.0010 - 74s/epoch - 17ms/step
Epoch 61/75
4378/4378 - 75s - loss: 0.2421 - accuracy: 0.9128 - val_loss: 1.9181 - val_accuracy: 0.5326 - lr: 0.0010 - 75s/epoch - 17ms/step
Epoch 62/75
4378/4378 - 74s - loss: 0.2417 - accuracy: 0.9125 - val_loss: 1.7300 - val_accuracy: 0.5988 - lr: 0.0010 - 74s/epoch - 17ms/step
Epoch 63/75
4378/4378 - 74s - loss: 0.2502 - accuracy: 0.9099 - val_loss: 1.6815 - val_accuracy: 0.5777 - lr: 0.0010 - 74s/epoch - 17ms/step
Epoch 64/75
4378/4378 - 74s - loss: 0.2516 - accuracy: 0.9100 - val_loss: 1.8724 - val_accuracy: 0.5618 - lr: 0.0010 - 74s/epoch - 17ms/step
Epoch 65/75
4378/4378 - 75s - loss: 0.2435 - accuracy: 0.9130 - val_loss: 1.6964 - val_accuracy: 0.6004 - lr: 0.0010 - 75s/epoch - 17ms/step
Epoch 66/75
4378/4378 - 75s - loss: 0.2432 - accuracy: 0.9121 - val_loss: 1.8665 - val_accuracy: 0.5956 - lr: 0.0010 - 75s/epoch - 17ms/step
Epoch 67/75
4378/4378 - 75s - loss: 0.2457 - accuracy: 0.9114 - val_loss: 1.8436 - val_accuracy: 0.5681 - lr: 0.0010 - 75s/epoch - 17ms/step
Epoch 68/75
4378/4378 - 75s - loss: 0.2455 - accuracy: 0.9121 - val_loss: 1.7430 - val_accuracy: 0.6179 - lr: 0.0010 - 75s/epoch - 17ms/step
Epoch 69/75
4378/4378 - 75s - loss: 0.2384 - accuracy: 0.9141 - val_loss: 1.8257 - val_accuracy: 0.5650 - lr: 0.0010 - 75s/epoch - 17ms/step
Epoch 70/75
4378/4378 - 76s - loss: 0.2459 - accuracy: 0.9112 - val_loss: 1.5801 - val_accuracy: 0.6204 - lr: 0.0010 - 76s/epoch - 17ms/step
Epoch 71/75
4378/4378 - 74s - loss: 0.2484 - accuracy: 0.9093 - val_loss: 1.6399 - val_accuracy: 0.6194 - lr: 0.0010 - 74s/epoch - 17ms/step
Epoch 72/75
4378/4378 - 74s - loss: 0.2468 - accuracy: 0.9107 - val_loss: 1.5504 - val_accuracy: 0.6105 - lr: 0.0010 - 74s/epoch - 17ms/step
Epoch 73/75
4378/4378 - 74s - loss: 0.2458 - accuracy: 0.9119 - val_loss: 1.6306 - val_accuracy: 0.6004 - lr: 0.0010 - 74s/epoch - 17ms/step
Epoch 74/75
4378/4378 - 74s - loss: 0.2491 - accuracy: 0.9105 - val_loss: 1.5701 - val_accuracy: 0.6353 - lr: 0.0010 - 74s/epoch - 17ms/step
Epoch 75/75
4378/4378 - 74s - loss: 0.2457 - accuracy: 0.9118 - val_loss: 1.7180 - val_accuracy: 0.5964 - lr: 0.0010 - 74s/epoch - 17ms/step
Epoch 1/75
876/876 - 32s - loss: 0.1697 - accuracy: 0.9409 - val_loss: 2.0397 - val_accuracy: 0.5981 - lr: 0.0010 - 32s/epoch - 37ms/step
Epoch 2/75
876/876 - 18s - loss: 0.1710 - accuracy: 0.9402 - val_loss: 2.0110 - val_accuracy: 0.6061 - lr: 0.0010 - 18s/epoch - 21ms/step
Epoch 3/75
876/876 - 18s - loss: 0.1707 - accuracy: 0.9401 - val_loss: 2.2482 - val_accuracy: 0.5848 - lr: 0.0010 - 18s/epoch - 21ms/step
Epoch 4/75
876/876 - 18s - loss: 0.1674 - accuracy: 0.9411 - val_loss: 2.2459 - val_accuracy: 0.5799 - lr: 0.0010 - 18s/epoch - 21ms/step
Epoch 5/75
876/876 - 18s - loss: 0.1572 - accuracy: 0.9443 - val_loss: 2.2476 - val_accuracy: 0.5826 - lr: 0.0010 - 18s/epoch - 21ms/step
Epoch 6/75
876/876 - 18s - loss: 0.1617 - accuracy: 0.9440 - val_loss: 2.1909 - val_accuracy: 0.5747 - lr: 0.0010 - 18s/epoch - 21ms/step
Epoch 7/75
876/876 - 18s - loss: 0.1592 - accuracy: 0.9445 - val_loss: 2.3843 - val_accuracy: 0.5442 - lr: 0.0010 - 18s/epoch - 21ms/step
Epoch 8/75
876/876 - 18s - loss: 0.1565 - accuracy: 0.9456 - val_loss: 2.2975 - val_accuracy: 0.5676 - lr: 0.0010 - 18s/epoch - 21ms/step
Epoch 9/75
876/876 - 18s - loss: 0.1589 - accuracy: 0.9447 - val_loss: 2.0803 - val_accuracy: 0.6101 - lr: 0.0010 - 18s/epoch - 21ms/step
Epoch 10/75
876/876 - 18s - loss: 0.1580 - accuracy: 0.9444 - val_loss: 2.5772 - val_accuracy: 0.5492 - lr: 0.0010 - 18s/epoch - 21ms/step
Epoch 11/75
876/876 - 18s - loss: 0.1530 - accuracy: 0.9470 - val_loss: 2.1991 - val_accuracy: 0.5949 - lr: 0.0010 - 18s/epoch - 21ms/step
Epoch 12/75
876/876 - 18s - loss: 0.1545 - accuracy: 0.9460 - val_loss: 2.1652 - val_accuracy: 0.6235 - lr: 0.0010 - 18s/epoch - 21ms/step
Epoch 13/75
876/876 - 18s - loss: 0.1554 - accuracy: 0.9454 - val_loss: 2.3772 - val_accuracy: 0.5795 - lr: 0.0010 - 18s/epoch - 21ms/step
Epoch 14/75
876/876 - 18s - loss: 0.1523 - accuracy: 0.9457 - val_loss: 2.2586 - val_accuracy: 0.6036 - lr: 0.0010 - 18s/epoch - 21ms/step
Epoch 15/75
876/876 - 18s - loss: 0.1472 - accuracy: 0.9485 - val_loss: 2.5034 - val_accuracy: 0.5620 - lr: 0.0010 - 18s/epoch - 21ms/step
Epoch 16/75
876/876 - 18s - loss: 0.1498 - accuracy: 0.9477 - val_loss: 2.2825 - val_accuracy: 0.5918 - lr: 0.0010 - 18s/epoch - 21ms/step
Epoch 17/75
876/876 - 18s - loss: 0.1498 - accuracy: 0.9478 - val_loss: 2.4915 - val_accuracy: 0.5754 - lr: 0.0010 - 18s/epoch - 21ms/step
Epoch 18/75
876/876 - 18s - loss: 0.1550 - accuracy: 0.9453 - val_loss: 2.5020 - val_accuracy: 0.5687 - lr: 0.0010 - 18s/epoch - 21ms/step
Epoch 19/75
876/876 - 18s - loss: 0.1515 - accuracy: 0.9469 - val_loss: 2.0946 - val_accuracy: 0.6250 - lr: 0.0010 - 18s/epoch - 21ms/step
Epoch 20/75
876/876 - 18s - loss: 0.1470 - accuracy: 0.9485 - val_loss: 2.7670 - val_accuracy: 0.5265 - lr: 0.0010 - 18s/epoch - 21ms/step
Epoch 21/75
876/876 - 18s - loss: 0.1463 - accuracy: 0.9485 - val_loss: 2.2183 - val_accuracy: 0.6115 - lr: 0.0010 - 18s/epoch - 21ms/step
Epoch 22/75
876/876 - 18s - loss: 0.1474 - accuracy: 0.9488 - val_loss: 2.2832 - val_accuracy: 0.5899 - lr: 0.0010 - 18s/epoch - 21ms/step
Epoch 23/75
876/876 - 18s - loss: 0.1508 - accuracy: 0.9477 - val_loss: 2.4144 - val_accuracy: 0.5611 - lr: 0.0010 - 18s/epoch - 21ms/step
Epoch 24/75
876/876 - 18s - loss: 0.1507 - accuracy: 0.9469 - val_loss: 2.6590 - val_accuracy: 0.5211 - lr: 0.0010 - 18s/epoch - 21ms/step
Epoch 25/75
876/876 - 18s - loss: 0.1467 - accuracy: 0.9487 - val_loss: 2.3766 - val_accuracy: 0.5912 - lr: 0.0010 - 18s/epoch - 21ms/step
Epoch 26/75
876/876 - 18s - loss: 0.1496 - accuracy: 0.9478 - val_loss: 2.3126 - val_accuracy: 0.5842 - lr: 0.0010 - 18s/epoch - 21ms/step
Epoch 27/75
876/876 - 18s - loss: 0.1477 - accuracy: 0.9493 - val_loss: 2.4115 - val_accuracy: 0.5776 - lr: 0.0010 - 18s/epoch - 21ms/step
Epoch 28/75
876/876 - 18s - loss: 0.1490 - accuracy: 0.9474 - val_loss: 2.4983 - val_accuracy: 0.5587 - lr: 0.0010 - 18s/epoch - 21ms/step
Epoch 29/75
876/876 - 18s - loss: 0.1463 - accuracy: 0.9483 - val_loss: 2.5649 - val_accuracy: 0.5528 - lr: 0.0010 - 18s/epoch - 21ms/step
Epoch 30/75
876/876 - 18s - loss: 0.1504 - accuracy: 0.9482 - val_loss: 2.5013 - val_accuracy: 0.5559 - lr: 0.0010 - 18s/epoch - 21ms/step
Epoch 31/75
876/876 - 18s - loss: 0.1462 - accuracy: 0.9490 - val_loss: 2.1936 - val_accuracy: 0.6084 - lr: 0.0010 - 18s/epoch - 21ms/step
Epoch 32/75
876/876 - 18s - loss: 0.1494 - accuracy: 0.9474 - val_loss: 2.5932 - val_accuracy: 0.5521 - lr: 0.0010 - 18s/epoch - 21ms/step
Epoch 33/75
876/876 - 18s - loss: 0.1452 - accuracy: 0.9492 - val_loss: 2.4130 - val_accuracy: 0.5884 - lr: 0.0010 - 18s/epoch - 21ms/step
Epoch 34/75
876/876 - 18s - loss: 0.1494 - accuracy: 0.9481 - val_loss: 2.2126 - val_accuracy: 0.6063 - lr: 0.0010 - 18s/epoch - 21ms/step
Epoch 35/75
876/876 - 18s - loss: 0.1435 - accuracy: 0.9496 - val_loss: 2.4288 - val_accuracy: 0.5901 - lr: 0.0010 - 18s/epoch - 21ms/step
Epoch 36/75
876/876 - 18s - loss: 0.1431 - accuracy: 0.9507 - val_loss: 2.3294 - val_accuracy: 0.5951 - lr: 0.0010 - 18s/epoch - 21ms/step
Epoch 37/75
876/876 - 18s - loss: 0.1451 - accuracy: 0.9493 - val_loss: 2.3904 - val_accuracy: 0.5947 - lr: 0.0010 - 18s/epoch - 21ms/step
Epoch 38/75
876/876 - 18s - loss: 0.1460 - accuracy: 0.9492 - val_loss: 2.3756 - val_accuracy: 0.5888 - lr: 0.0010 - 18s/epoch - 21ms/step
Epoch 39/75
876/876 - 18s - loss: 0.1418 - accuracy: 0.9506 - val_loss: 2.4109 - val_accuracy: 0.5902 - lr: 0.0010 - 18s/epoch - 21ms/step
Epoch 40/75
876/876 - 18s - loss: 0.1432 - accuracy: 0.9504 - val_loss: 2.3185 - val_accuracy: 0.5962 - lr: 0.0010 - 18s/epoch - 21ms/step
Epoch 41/75
876/876 - 18s - loss: 0.1430 - accuracy: 0.9504 - val_loss: 2.5667 - val_accuracy: 0.5507 - lr: 0.0010 - 18s/epoch - 21ms/step
Epoch 42/75
876/876 - 18s - loss: 0.1443 - accuracy: 0.9489 - val_loss: 2.6095 - val_accuracy: 0.5569 - lr: 0.0010 - 18s/epoch - 21ms/step
Epoch 43/75
876/876 - 18s - loss: 0.1454 - accuracy: 0.9498 - val_loss: 2.5962 - val_accuracy: 0.5705 - lr: 0.0010 - 18s/epoch - 21ms/step
Epoch 44/75
876/876 - 18s - loss: 0.1445 - accuracy: 0.9488 - val_loss: 2.6936 - val_accuracy: 0.5362 - lr: 0.0010 - 18s/epoch - 21ms/step
Epoch 45/75
876/876 - 18s - loss: 0.1429 - accuracy: 0.9504 - val_loss: 2.5673 - val_accuracy: 0.5607 - lr: 0.0010 - 18s/epoch - 21ms/step
Epoch 46/75
876/876 - 18s - loss: 0.1400 - accuracy: 0.9511 - val_loss: 2.5450 - val_accuracy: 0.5706 - lr: 0.0010 - 18s/epoch - 21ms/step
Epoch 47/75
876/876 - 18s - loss: 0.1414 - accuracy: 0.9510 - val_loss: 2.5835 - val_accuracy: 0.5715 - lr: 0.0010 - 18s/epoch - 21ms/step
Epoch 48/75
876/876 - 18s - loss: 0.1423 - accuracy: 0.9510 - val_loss: 2.3566 - val_accuracy: 0.5838 - lr: 0.0010 - 18s/epoch - 21ms/step
Epoch 49/75
876/876 - 18s - loss: 0.1416 - accuracy: 0.9498 - val_loss: 2.2797 - val_accuracy: 0.6144 - lr: 0.0010 - 18s/epoch - 21ms/step
Epoch 50/75
876/876 - 18s - loss: 0.1466 - accuracy: 0.9486 - val_loss: 2.4354 - val_accuracy: 0.5781 - lr: 0.0010 - 18s/epoch - 21ms/step
Epoch 51/75
876/876 - 18s - loss: 0.1432 - accuracy: 0.9501 - val_loss: 2.2218 - val_accuracy: 0.6237 - lr: 0.0010 - 18s/epoch - 21ms/step
Epoch 52/75
876/876 - 18s - loss: 0.1451 - accuracy: 0.9493 - val_loss: 2.2974 - val_accuracy: 0.5980 - lr: 0.0010 - 18s/epoch - 21ms/step
Epoch 53/75
876/876 - 18s - loss: 0.1453 - accuracy: 0.9494 - val_loss: 2.4458 - val_accuracy: 0.5780 - lr: 0.0010 - 18s/epoch - 21ms/step
Epoch 54/75
876/876 - 18s - loss: 0.1433 - accuracy: 0.9501 - val_loss: 2.6055 - val_accuracy: 0.5514 - lr: 0.0010 - 18s/epoch - 21ms/step
Epoch 55/75
876/876 - 18s - loss: 0.1397 - accuracy: 0.9516 - val_loss: 2.3962 - val_accuracy: 0.5844 - lr: 0.0010 - 18s/epoch - 21ms/step
Epoch 56/75
876/876 - 18s - loss: 0.1416 - accuracy: 0.9508 - val_loss: 2.4952 - val_accuracy: 0.5661 - lr: 0.0010 - 18s/epoch - 21ms/step
Epoch 57/75
876/876 - 18s - loss: 0.1460 - accuracy: 0.9493 - val_loss: 2.4629 - val_accuracy: 0.5731 - lr: 0.0010 - 18s/epoch - 21ms/step
Epoch 58/75
876/876 - 18s - loss: 0.1395 - accuracy: 0.9507 - val_loss: 2.3562 - val_accuracy: 0.6032 - lr: 0.0010 - 18s/epoch - 21ms/step
Epoch 59/75
876/876 - 18s - loss: 0.1421 - accuracy: 0.9506 - val_loss: 2.3323 - val_accuracy: 0.6002 - lr: 0.0010 - 18s/epoch - 21ms/step
Epoch 60/75
876/876 - 18s - loss: 0.1463 - accuracy: 0.9488 - val_loss: 2.3636 - val_accuracy: 0.5791 - lr: 0.0010 - 18s/epoch - 21ms/step
Epoch 61/75
876/876 - 18s - loss: 0.1396 - accuracy: 0.9522 - val_loss: 2.6494 - val_accuracy: 0.5551 - lr: 0.0010 - 18s/epoch - 21ms/step
Epoch 62/75
876/876 - 18s - loss: 0.1444 - accuracy: 0.9501 - val_loss: 2.2622 - val_accuracy: 0.6115 - lr: 0.0010 - 18s/epoch - 21ms/step
Epoch 63/75
876/876 - 18s - loss: 0.1414 - accuracy: 0.9511 - val_loss: 2.4437 - val_accuracy: 0.5952 - lr: 0.0010 - 18s/epoch - 21ms/step
Epoch 64/75
876/876 - 18s - loss: 0.1419 - accuracy: 0.9510 - val_loss: 2.4779 - val_accuracy: 0.5772 - lr: 0.0010 - 18s/epoch - 21ms/step
Epoch 65/75
876/876 - 18s - loss: 0.1413 - accuracy: 0.9504 - val_loss: 2.5650 - val_accuracy: 0.5724 - lr: 0.0010 - 18s/epoch - 21ms/step
Epoch 66/75
876/876 - 18s - loss: 0.1379 - accuracy: 0.9521 - val_loss: 2.4988 - val_accuracy: 0.5942 - lr: 0.0010 - 18s/epoch - 21ms/step
Epoch 67/75
876/876 - 18s - loss: 0.1357 - accuracy: 0.9524 - val_loss: 2.5638 - val_accuracy: 0.5666 - lr: 0.0010 - 18s/epoch - 21ms/step
Epoch 68/75
876/876 - 18s - loss: 0.1393 - accuracy: 0.9511 - val_loss: 2.2271 - val_accuracy: 0.6247 - lr: 0.0010 - 18s/epoch - 21ms/step
Epoch 69/75
876/876 - 18s - loss: 0.1386 - accuracy: 0.9515 - val_loss: 2.6757 - val_accuracy: 0.5365 - lr: 0.0010 - 18s/epoch - 21ms/step
Epoch 70/75
876/876 - 18s - loss: 0.1339 - accuracy: 0.9542 - val_loss: 2.7407 - val_accuracy: 0.5348 - lr: 0.0010 - 18s/epoch - 21ms/step
Epoch 71/75
876/876 - 18s - loss: 0.1399 - accuracy: 0.9514 - val_loss: 2.3924 - val_accuracy: 0.5871 - lr: 0.0010 - 18s/epoch - 21ms/step
Epoch 72/75
876/876 - 18s - loss: 0.1405 - accuracy: 0.9507 - val_loss: 2.5059 - val_accuracy: 0.5805 - lr: 0.0010 - 18s/epoch - 21ms/step
Epoch 73/75
876/876 - 18s - loss: 0.1433 - accuracy: 0.9493 - val_loss: 2.3736 - val_accuracy: 0.5938 - lr: 0.0010 - 18s/epoch - 21ms/step
Epoch 74/75
876/876 - 18s - loss: 0.1405 - accuracy: 0.9514 - val_loss: 2.1598 - val_accuracy: 0.6323 - lr: 0.0010 - 18s/epoch - 21ms/step
Epoch 75/75
876/876 - 18s - loss: 0.1355 - accuracy: 0.9527 - val_loss: 2.4396 - val_accuracy: 0.5980 - lr: 0.0010 - 18s/epoch - 21ms/step
Epoch 1/75
176/176 - 11s - loss: 0.0977 - accuracy: 0.9680 - val_loss: 2.6336 - val_accuracy: 0.5910 - lr: 0.0010 - 11s/epoch - 65ms/step
Epoch 2/75
176/176 - 9s - loss: 0.0874 - accuracy: 0.9717 - val_loss: 2.7763 - val_accuracy: 0.5855 - lr: 0.0010 - 9s/epoch - 51ms/step
Epoch 3/75
176/176 - 9s - loss: 0.0830 - accuracy: 0.9730 - val_loss: 2.8386 - val_accuracy: 0.5930 - lr: 0.0010 - 9s/epoch - 51ms/step
Epoch 4/75
176/176 - 9s - loss: 0.0870 - accuracy: 0.9711 - val_loss: 2.8784 - val_accuracy: 0.5971 - lr: 0.0010 - 9s/epoch - 51ms/step
Epoch 5/75
176/176 - 9s - loss: 0.0854 - accuracy: 0.9721 - val_loss: 2.9634 - val_accuracy: 0.5921 - lr: 0.0010 - 9s/epoch - 51ms/step
Epoch 6/75
176/176 - 9s - loss: 0.0877 - accuracy: 0.9713 - val_loss: 2.8071 - val_accuracy: 0.6017 - lr: 0.0010 - 9s/epoch - 51ms/step
Epoch 7/75
176/176 - 9s - loss: 0.0913 - accuracy: 0.9696 - val_loss: 2.7578 - val_accuracy: 0.6099 - lr: 0.0010 - 9s/epoch - 51ms/step
Epoch 8/75
176/176 - 9s - loss: 0.0908 - accuracy: 0.9696 - val_loss: 2.9051 - val_accuracy: 0.5974 - lr: 0.0010 - 9s/epoch - 51ms/step
Epoch 9/75
176/176 - 9s - loss: 0.0933 - accuracy: 0.9695 - val_loss: 2.8587 - val_accuracy: 0.6006 - lr: 0.0010 - 9s/epoch - 51ms/step
Epoch 10/75
176/176 - 9s - loss: 0.0948 - accuracy: 0.9683 - val_loss: 2.9576 - val_accuracy: 0.5873 - lr: 0.0010 - 9s/epoch - 51ms/step
Epoch 11/75
176/176 - 9s - loss: 0.0899 - accuracy: 0.9700 - val_loss: 2.8245 - val_accuracy: 0.6017 - lr: 0.0010 - 9s/epoch - 51ms/step
Epoch 12/75
176/176 - 9s - loss: 0.0894 - accuracy: 0.9703 - val_loss: 2.9535 - val_accuracy: 0.5914 - lr: 0.0010 - 9s/epoch - 51ms/step
Epoch 13/75
176/176 - 9s - loss: 0.0864 - accuracy: 0.9710 - val_loss: 2.9756 - val_accuracy: 0.5908 - lr: 0.0010 - 9s/epoch - 51ms/step
Epoch 14/75
176/176 - 9s - loss: 0.0873 - accuracy: 0.9710 - val_loss: 3.0433 - val_accuracy: 0.5866 - lr: 0.0010 - 9s/epoch - 51ms/step
Epoch 15/75
176/176 - 9s - loss: 0.0871 - accuracy: 0.9710 - val_loss: 2.9968 - val_accuracy: 0.5814 - lr: 0.0010 - 9s/epoch - 51ms/step
Epoch 16/75
176/176 - 9s - loss: 0.0913 - accuracy: 0.9695 - val_loss: 2.9202 - val_accuracy: 0.5995 - lr: 0.0010 - 9s/epoch - 51ms/step
Epoch 17/75
176/176 - 9s - loss: 0.0900 - accuracy: 0.9699 - val_loss: 2.8387 - val_accuracy: 0.5969 - lr: 0.0010 - 9s/epoch - 51ms/step
Epoch 18/75
176/176 - 9s - loss: 0.0883 - accuracy: 0.9710 - val_loss: 2.8982 - val_accuracy: 0.5888 - lr: 0.0010 - 9s/epoch - 51ms/step
Epoch 19/75
176/176 - 9s - loss: 0.0836 - accuracy: 0.9724 - val_loss: 3.0068 - val_accuracy: 0.5919 - lr: 0.0010 - 9s/epoch - 51ms/step
Epoch 20/75
176/176 - 9s - loss: 0.0866 - accuracy: 0.9721 - val_loss: 3.1488 - val_accuracy: 0.5634 - lr: 0.0010 - 9s/epoch - 51ms/step
Epoch 21/75
176/176 - 9s - loss: 0.0861 - accuracy: 0.9712 - val_loss: 3.2245 - val_accuracy: 0.5561 - lr: 0.0010 - 9s/epoch - 51ms/step
Epoch 22/75
176/176 - 9s - loss: 0.0874 - accuracy: 0.9707 - val_loss: 3.0744 - val_accuracy: 0.5765 - lr: 0.0010 - 9s/epoch - 51ms/step
Epoch 23/75
176/176 - 9s - loss: 0.0898 - accuracy: 0.9701 - val_loss: 3.2627 - val_accuracy: 0.5663 - lr: 0.0010 - 9s/epoch - 51ms/step
Epoch 24/75
176/176 - 9s - loss: 0.0876 - accuracy: 0.9712 - val_loss: 3.1396 - val_accuracy: 0.5746 - lr: 0.0010 - 9s/epoch - 51ms/step
Epoch 25/75
176/176 - 9s - loss: 0.0848 - accuracy: 0.9719 - val_loss: 3.0788 - val_accuracy: 0.5734 - lr: 0.0010 - 9s/epoch - 51ms/step
Epoch 26/75
176/176 - 9s - loss: 0.0861 - accuracy: 0.9720 - val_loss: 3.1481 - val_accuracy: 0.5621 - lr: 0.0010 - 9s/epoch - 51ms/step
Epoch 27/75
176/176 - 9s - loss: 0.0850 - accuracy: 0.9720 - val_loss: 3.2016 - val_accuracy: 0.5665 - lr: 0.0010 - 9s/epoch - 51ms/step
Epoch 28/75
176/176 - 9s - loss: 0.0887 - accuracy: 0.9703 - val_loss: 3.0845 - val_accuracy: 0.5721 - lr: 0.0010 - 9s/epoch - 51ms/step
Epoch 29/75
176/176 - 9s - loss: 0.0865 - accuracy: 0.9712 - val_loss: 3.0075 - val_accuracy: 0.5876 - lr: 0.0010 - 9s/epoch - 51ms/step
Epoch 30/75
176/176 - 9s - loss: 0.0884 - accuracy: 0.9703 - val_loss: 3.0937 - val_accuracy: 0.5766 - lr: 0.0010 - 9s/epoch - 51ms/step
Epoch 31/75
176/176 - 9s - loss: 0.0837 - accuracy: 0.9726 - val_loss: 3.0680 - val_accuracy: 0.5834 - lr: 0.0010 - 9s/epoch - 51ms/step
Epoch 32/75
176/176 - 9s - loss: 0.0759 - accuracy: 0.9754 - val_loss: 3.1875 - val_accuracy: 0.5824 - lr: 0.0010 - 9s/epoch - 51ms/step
Epoch 33/75
176/176 - 9s - loss: 0.0764 - accuracy: 0.9753 - val_loss: 3.2568 - val_accuracy: 0.5689 - lr: 0.0010 - 9s/epoch - 51ms/step
Epoch 34/75
176/176 - 9s - loss: 0.0767 - accuracy: 0.9748 - val_loss: 3.3788 - val_accuracy: 0.5626 - lr: 0.0010 - 9s/epoch - 51ms/step
Epoch 35/75
176/176 - 9s - loss: 0.0774 - accuracy: 0.9753 - val_loss: 3.3606 - val_accuracy: 0.5648 - lr: 0.0010 - 9s/epoch - 51ms/step
Epoch 36/75
176/176 - 9s - loss: 0.0789 - accuracy: 0.9741 - val_loss: 3.2368 - val_accuracy: 0.5693 - lr: 0.0010 - 9s/epoch - 51ms/step
Epoch 37/75
176/176 - 9s - loss: 0.0783 - accuracy: 0.9751 - val_loss: 3.1468 - val_accuracy: 0.5896 - lr: 0.0010 - 9s/epoch - 51ms/step
Epoch 38/75
176/176 - 9s - loss: 0.0815 - accuracy: 0.9727 - val_loss: 3.4164 - val_accuracy: 0.5493 - lr: 0.0010 - 9s/epoch - 51ms/step
Epoch 39/75
176/176 - 9s - loss: 0.0824 - accuracy: 0.9729 - val_loss: 3.3727 - val_accuracy: 0.5598 - lr: 0.0010 - 9s/epoch - 51ms/step
Epoch 40/75
176/176 - 9s - loss: 0.0852 - accuracy: 0.9718 - val_loss: 3.3557 - val_accuracy: 0.5442 - lr: 0.0010 - 9s/epoch - 51ms/step
Epoch 41/75
176/176 - 9s - loss: 0.0848 - accuracy: 0.9717 - val_loss: 3.2241 - val_accuracy: 0.5675 - lr: 0.0010 - 9s/epoch - 51ms/step
Epoch 42/75
176/176 - 9s - loss: 0.0838 - accuracy: 0.9718 - val_loss: 3.1830 - val_accuracy: 0.5806 - lr: 0.0010 - 9s/epoch - 51ms/step
Epoch 43/75
176/176 - 9s - loss: 0.0801 - accuracy: 0.9736 - val_loss: 3.3169 - val_accuracy: 0.5661 - lr: 0.0010 - 9s/epoch - 51ms/step
Epoch 44/75
176/176 - 9s - loss: 0.0832 - accuracy: 0.9724 - val_loss: 3.2229 - val_accuracy: 0.5835 - lr: 0.0010 - 9s/epoch - 51ms/step
Epoch 45/75
176/176 - 9s - loss: 0.0855 - accuracy: 0.9713 - val_loss: 3.2131 - val_accuracy: 0.5761 - lr: 0.0010 - 9s/epoch - 51ms/step
Epoch 46/75
176/176 - 9s - loss: 0.0854 - accuracy: 0.9712 - val_loss: 3.2800 - val_accuracy: 0.5748 - lr: 0.0010 - 9s/epoch - 51ms/step
Epoch 47/75
176/176 - 9s - loss: 0.0812 - accuracy: 0.9734 - val_loss: 3.2116 - val_accuracy: 0.5775 - lr: 0.0010 - 9s/epoch - 51ms/step
Epoch 48/75
176/176 - 9s - loss: 0.0778 - accuracy: 0.9756 - val_loss: 3.2862 - val_accuracy: 0.5743 - lr: 0.0010 - 9s/epoch - 51ms/step
Epoch 49/75
176/176 - 9s - loss: 0.0766 - accuracy: 0.9749 - val_loss: 3.3011 - val_accuracy: 0.5683 - lr: 0.0010 - 9s/epoch - 51ms/step
Epoch 50/75
176/176 - 9s - loss: 0.0800 - accuracy: 0.9737 - val_loss: 3.2364 - val_accuracy: 0.5813 - lr: 0.0010 - 9s/epoch - 51ms/step
Epoch 51/75
176/176 - 9s - loss: 0.0787 - accuracy: 0.9738 - val_loss: 3.2819 - val_accuracy: 0.5775 - lr: 0.0010 - 9s/epoch - 51ms/step
Epoch 52/75
176/176 - 9s - loss: 0.0819 - accuracy: 0.9731 - val_loss: 3.3337 - val_accuracy: 0.5647 - lr: 0.0010 - 9s/epoch - 51ms/step
Epoch 53/75
176/176 - 9s - loss: 0.0805 - accuracy: 0.9737 - val_loss: 3.2807 - val_accuracy: 0.5739 - lr: 0.0010 - 9s/epoch - 51ms/step
Epoch 54/75
176/176 - 9s - loss: 0.0822 - accuracy: 0.9726 - val_loss: 3.3766 - val_accuracy: 0.5614 - lr: 0.0010 - 9s/epoch - 51ms/step
Epoch 55/75
176/176 - 9s - loss: 0.0843 - accuracy: 0.9721 - val_loss: 3.2378 - val_accuracy: 0.5671 - lr: 0.0010 - 9s/epoch - 51ms/step
Epoch 56/75
176/176 - 9s - loss: 0.0856 - accuracy: 0.9715 - val_loss: 3.1708 - val_accuracy: 0.5800 - lr: 0.0010 - 9s/epoch - 51ms/step
Epoch 57/75
176/176 - 9s - loss: 0.0859 - accuracy: 0.9717 - val_loss: 3.2856 - val_accuracy: 0.5720 - lr: 0.0010 - 9s/epoch - 51ms/step
Epoch 58/75
176/176 - 9s - loss: 0.0838 - accuracy: 0.9725 - val_loss: 3.3369 - val_accuracy: 0.5484 - lr: 0.0010 - 9s/epoch - 51ms/step
Epoch 59/75
176/176 - 9s - loss: 0.0837 - accuracy: 0.9721 - val_loss: 3.3612 - val_accuracy: 0.5650 - lr: 0.0010 - 9s/epoch - 51ms/step
Epoch 60/75
176/176 - 9s - loss: 0.0899 - accuracy: 0.9701 - val_loss: 3.2246 - val_accuracy: 0.5700 - lr: 0.0010 - 9s/epoch - 51ms/step
Epoch 61/75
176/176 - 9s - loss: 0.0816 - accuracy: 0.9728 - val_loss: 3.3241 - val_accuracy: 0.5652 - lr: 0.0010 - 9s/epoch - 51ms/step
Epoch 62/75
176/176 - 9s - loss: 0.0874 - accuracy: 0.9713 - val_loss: 3.0643 - val_accuracy: 0.6053 - lr: 0.0010 - 9s/epoch - 51ms/step
Epoch 63/75
176/176 - 9s - loss: 0.0878 - accuracy: 0.9707 - val_loss: 2.9468 - val_accuracy: 0.6094 - lr: 0.0010 - 9s/epoch - 51ms/step
Epoch 64/75
176/176 - 9s - loss: 0.0845 - accuracy: 0.9727 - val_loss: 3.3055 - val_accuracy: 0.5646 - lr: 0.0010 - 9s/epoch - 51ms/step
Epoch 65/75
176/176 - 9s - loss: 0.0847 - accuracy: 0.9718 - val_loss: 3.1868 - val_accuracy: 0.5841 - lr: 0.0010 - 9s/epoch - 51ms/step
Epoch 66/75
176/176 - 9s - loss: 0.0868 - accuracy: 0.9711 - val_loss: 2.9605 - val_accuracy: 0.6086 - lr: 0.0010 - 9s/epoch - 51ms/step
Epoch 67/75
176/176 - 9s - loss: 0.0865 - accuracy: 0.9714 - val_loss: 3.0299 - val_accuracy: 0.5989 - lr: 0.0010 - 9s/epoch - 51ms/step
Epoch 68/75
176/176 - 9s - loss: 0.0780 - accuracy: 0.9746 - val_loss: 3.0355 - val_accuracy: 0.6052 - lr: 0.0010 - 9s/epoch - 51ms/step
Epoch 69/75
176/176 - 9s - loss: 0.0709 - accuracy: 0.9769 - val_loss: 2.9806 - val_accuracy: 0.6144 - lr: 0.0010 - 9s/epoch - 51ms/step
Epoch 70/75
176/176 - 9s - loss: 0.0722 - accuracy: 0.9771 - val_loss: 3.2533 - val_accuracy: 0.5869 - lr: 0.0010 - 9s/epoch - 51ms/step
Epoch 71/75
176/176 - 9s - loss: 0.0727 - accuracy: 0.9764 - val_loss: 3.2328 - val_accuracy: 0.5970 - lr: 0.0010 - 9s/epoch - 51ms/step
Epoch 72/75
176/176 - 9s - loss: 0.0739 - accuracy: 0.9764 - val_loss: 3.2410 - val_accuracy: 0.5852 - lr: 0.0010 - 9s/epoch - 51ms/step
Epoch 73/75
176/176 - 9s - loss: 0.0762 - accuracy: 0.9746 - val_loss: 3.1572 - val_accuracy: 0.5909 - lr: 0.0010 - 9s/epoch - 51ms/step
Epoch 74/75
176/176 - 9s - loss: 0.0758 - accuracy: 0.9756 - val_loss: 3.1511 - val_accuracy: 0.5988 - lr: 0.0010 - 9s/epoch - 51ms/step
Epoch 75/75
176/176 - 9s - loss: 0.0784 - accuracy: 0.9753 - val_loss: 3.3248 - val_accuracy: 0.5752 - lr: 0.0010 - 9s/epoch - 51ms/step
Epoch 1/75
36/36 - 10s - loss: 0.0694 - accuracy: 0.9771 - val_loss: 3.2612 - val_accuracy: 0.5846 - lr: 0.0010 - 10s/epoch - 286ms/step
Epoch 2/75
36/36 - 8s - loss: 0.0601 - accuracy: 0.9814 - val_loss: 3.3075 - val_accuracy: 0.5797 - lr: 0.0010 - 8s/epoch - 212ms/step
Epoch 3/75
36/36 - 8s - loss: 0.0611 - accuracy: 0.9814 - val_loss: 3.3674 - val_accuracy: 0.5778 - lr: 0.0010 - 8s/epoch - 213ms/step
Epoch 4/75
36/36 - 8s - loss: 0.0579 - accuracy: 0.9817 - val_loss: 3.3106 - val_accuracy: 0.5858 - lr: 0.0010 - 8s/epoch - 213ms/step
Epoch 5/75
36/36 - 8s - loss: 0.0591 - accuracy: 0.9813 - val_loss: 3.3218 - val_accuracy: 0.5815 - lr: 0.0010 - 8s/epoch - 213ms/step
Epoch 6/75
36/36 - 8s - loss: 0.0612 - accuracy: 0.9809 - val_loss: 3.2625 - val_accuracy: 0.5891 - lr: 0.0010 - 8s/epoch - 214ms/step
Epoch 7/75
36/36 - 8s - loss: 0.0584 - accuracy: 0.9813 - val_loss: 3.3730 - val_accuracy: 0.5808 - lr: 0.0010 - 8s/epoch - 214ms/step
Epoch 8/75
36/36 - 8s - loss: 0.0578 - accuracy: 0.9823 - val_loss: 3.3066 - val_accuracy: 0.5882 - lr: 0.0010 - 8s/epoch - 214ms/step
Epoch 9/75
36/36 - 8s - loss: 0.0579 - accuracy: 0.9824 - val_loss: 3.2805 - val_accuracy: 0.5959 - lr: 0.0010 - 8s/epoch - 214ms/step
Epoch 10/75
36/36 - 8s - loss: 0.0568 - accuracy: 0.9825 - val_loss: 3.3729 - val_accuracy: 0.5830 - lr: 0.0010 - 8s/epoch - 214ms/step
Epoch 11/75
36/36 - 8s - loss: 0.0581 - accuracy: 0.9823 - val_loss: 3.3546 - val_accuracy: 0.5852 - lr: 0.0010 - 8s/epoch - 214ms/step
Epoch 12/75
36/36 - 8s - loss: 0.0543 - accuracy: 0.9834 - val_loss: 3.3423 - val_accuracy: 0.5894 - lr: 0.0010 - 8s/epoch - 214ms/step
Epoch 13/75
36/36 - 8s - loss: 0.0530 - accuracy: 0.9839 - val_loss: 3.3632 - val_accuracy: 0.5831 - lr: 0.0010 - 8s/epoch - 215ms/step
Epoch 14/75
36/36 - 8s - loss: 0.0564 - accuracy: 0.9824 - val_loss: 3.4008 - val_accuracy: 0.5798 - lr: 0.0010 - 8s/epoch - 214ms/step
Epoch 15/75
36/36 - 8s - loss: 0.0563 - accuracy: 0.9826 - val_loss: 3.4346 - val_accuracy: 0.5763 - lr: 0.0010 - 8s/epoch - 214ms/step
Epoch 16/75
36/36 - 8s - loss: 0.0555 - accuracy: 0.9830 - val_loss: 3.4096 - val_accuracy: 0.5814 - lr: 0.0010 - 8s/epoch - 215ms/step
Epoch 17/75
36/36 - 8s - loss: 0.0567 - accuracy: 0.9827 - val_loss: 3.4251 - val_accuracy: 0.5785 - lr: 0.0010 - 8s/epoch - 215ms/step
Epoch 18/75
36/36 - 8s - loss: 0.0558 - accuracy: 0.9827 - val_loss: 3.4314 - val_accuracy: 0.5820 - lr: 0.0010 - 8s/epoch - 214ms/step
Epoch 19/75
36/36 - 8s - loss: 0.0602 - accuracy: 0.9809 - val_loss: 3.4488 - val_accuracy: 0.5772 - lr: 0.0010 - 8s/epoch - 214ms/step
Epoch 20/75
36/36 - 8s - loss: 0.0571 - accuracy: 0.9823 - val_loss: 3.3937 - val_accuracy: 0.5898 - lr: 0.0010 - 8s/epoch - 214ms/step
Epoch 21/75
36/36 - 8s - loss: 0.0542 - accuracy: 0.9831 - val_loss: 3.4596 - val_accuracy: 0.5777 - lr: 0.0010 - 8s/epoch - 215ms/step
Epoch 22/75
36/36 - 8s - loss: 0.0549 - accuracy: 0.9830 - val_loss: 3.4456 - val_accuracy: 0.5830 - lr: 0.0010 - 8s/epoch - 214ms/step
Epoch 23/75
36/36 - 8s - loss: 0.0552 - accuracy: 0.9829 - val_loss: 3.4784 - val_accuracy: 0.5762 - lr: 0.0010 - 8s/epoch - 215ms/step
Epoch 24/75
36/36 - 8s - loss: 0.0534 - accuracy: 0.9834 - val_loss: 3.4660 - val_accuracy: 0.5796 - lr: 0.0010 - 8s/epoch - 214ms/step
Epoch 25/75
36/36 - 8s - loss: 0.0545 - accuracy: 0.9830 - val_loss: 3.4457 - val_accuracy: 0.5843 - lr: 0.0010 - 8s/epoch - 214ms/step
Epoch 26/75
36/36 - 8s - loss: 0.0550 - accuracy: 0.9832 - val_loss: 3.3945 - val_accuracy: 0.5915 - lr: 0.0010 - 8s/epoch - 213ms/step
Epoch 27/75
36/36 - 8s - loss: 0.0577 - accuracy: 0.9821 - val_loss: 3.4221 - val_accuracy: 0.5894 - lr: 0.0010 - 8s/epoch - 214ms/step
Epoch 28/75
36/36 - 8s - loss: 0.0542 - accuracy: 0.9830 - val_loss: 3.4710 - val_accuracy: 0.5793 - lr: 0.0010 - 8s/epoch - 214ms/step
Epoch 29/75
36/36 - 8s - loss: 0.0589 - accuracy: 0.9815 - val_loss: 3.5380 - val_accuracy: 0.5753 - lr: 0.0010 - 8s/epoch - 214ms/step
Epoch 30/75
36/36 - 8s - loss: 0.0551 - accuracy: 0.9829 - val_loss: 3.4039 - val_accuracy: 0.5898 - lr: 0.0010 - 8s/epoch - 214ms/step
Epoch 31/75
36/36 - 8s - loss: 0.0549 - accuracy: 0.9832 - val_loss: 3.4438 - val_accuracy: 0.5888 - lr: 0.0010 - 8s/epoch - 214ms/step
Epoch 32/75
36/36 - 8s - loss: 0.0536 - accuracy: 0.9835 - val_loss: 3.4383 - val_accuracy: 0.5900 - lr: 0.0010 - 8s/epoch - 213ms/step
Epoch 33/75
36/36 - 8s - loss: 0.0550 - accuracy: 0.9832 - val_loss: 3.5011 - val_accuracy: 0.5810 - lr: 0.0010 - 8s/epoch - 213ms/step
Epoch 34/75
36/36 - 8s - loss: 0.0544 - accuracy: 0.9829 - val_loss: 3.4664 - val_accuracy: 0.5886 - lr: 0.0010 - 8s/epoch - 214ms/step
Epoch 35/75
36/36 - 8s - loss: 0.0573 - accuracy: 0.9819 - val_loss: 3.3812 - val_accuracy: 0.5954 - lr: 0.0010 - 8s/epoch - 214ms/step
Epoch 36/75
36/36 - 8s - loss: 0.0556 - accuracy: 0.9828 - val_loss: 3.4544 - val_accuracy: 0.5862 - lr: 0.0010 - 8s/epoch - 214ms/step
Epoch 37/75
36/36 - 8s - loss: 0.0539 - accuracy: 0.9828 - val_loss: 3.3986 - val_accuracy: 0.5939 - lr: 0.0010 - 8s/epoch - 214ms/step
Epoch 38/75
36/36 - 8s - loss: 0.0551 - accuracy: 0.9827 - val_loss: 3.4002 - val_accuracy: 0.5953 - lr: 0.0010 - 8s/epoch - 214ms/step
Epoch 39/75
36/36 - 8s - loss: 0.0559 - accuracy: 0.9824 - val_loss: 3.3997 - val_accuracy: 0.5920 - lr: 0.0010 - 8s/epoch - 214ms/step
Epoch 40/75
36/36 - 8s - loss: 0.0544 - accuracy: 0.9832 - val_loss: 3.4274 - val_accuracy: 0.5900 - lr: 0.0010 - 8s/epoch - 213ms/step
Epoch 41/75
36/36 - 8s - loss: 0.0551 - accuracy: 0.9831 - val_loss: 3.4558 - val_accuracy: 0.5842 - lr: 0.0010 - 8s/epoch - 214ms/step
Epoch 42/75
36/36 - 8s - loss: 0.0538 - accuracy: 0.9833 - val_loss: 3.4378 - val_accuracy: 0.5880 - lr: 0.0010 - 8s/epoch - 214ms/step
Epoch 43/75
36/36 - 8s - loss: 0.0540 - accuracy: 0.9833 - val_loss: 3.4658 - val_accuracy: 0.5881 - lr: 0.0010 - 8s/epoch - 214ms/step
Epoch 44/75
36/36 - 8s - loss: 0.0530 - accuracy: 0.9836 - val_loss: 3.4165 - val_accuracy: 0.5950 - lr: 0.0010 - 8s/epoch - 214ms/step
Epoch 45/75
36/36 - 8s - loss: 0.0548 - accuracy: 0.9826 - val_loss: 3.5165 - val_accuracy: 0.5803 - lr: 0.0010 - 8s/epoch - 214ms/step
Epoch 46/75
36/36 - 8s - loss: 0.0548 - accuracy: 0.9827 - val_loss: 3.3685 - val_accuracy: 0.5969 - lr: 0.0010 - 8s/epoch - 214ms/step
Epoch 47/75
36/36 - 8s - loss: 0.0549 - accuracy: 0.9828 - val_loss: 3.5026 - val_accuracy: 0.5809 - lr: 0.0010 - 8s/epoch - 213ms/step
Epoch 48/75
36/36 - 8s - loss: 0.0533 - accuracy: 0.9837 - val_loss: 3.5265 - val_accuracy: 0.5719 - lr: 0.0010 - 8s/epoch - 213ms/step
Epoch 49/75
36/36 - 8s - loss: 0.0554 - accuracy: 0.9827 - val_loss: 3.5611 - val_accuracy: 0.5744 - lr: 0.0010 - 8s/epoch - 214ms/step
Epoch 50/75
36/36 - 8s - loss: 0.0517 - accuracy: 0.9841 - val_loss: 3.4907 - val_accuracy: 0.5836 - lr: 0.0010 - 8s/epoch - 215ms/step
Epoch 51/75
36/36 - 8s - loss: 0.0521 - accuracy: 0.9838 - val_loss: 3.4404 - val_accuracy: 0.5896 - lr: 0.0010 - 8s/epoch - 214ms/step
Epoch 52/75
36/36 - 8s - loss: 0.0507 - accuracy: 0.9842 - val_loss: 3.5551 - val_accuracy: 0.5740 - lr: 0.0010 - 8s/epoch - 214ms/step
Epoch 53/75
36/36 - 8s - loss: 0.0522 - accuracy: 0.9838 - val_loss: 3.5224 - val_accuracy: 0.5788 - lr: 0.0010 - 8s/epoch - 214ms/step
Epoch 54/75
36/36 - 8s - loss: 0.0530 - accuracy: 0.9839 - val_loss: 3.5638 - val_accuracy: 0.5800 - lr: 0.0010 - 8s/epoch - 214ms/step
Epoch 55/75
36/36 - 8s - loss: 0.0521 - accuracy: 0.9837 - val_loss: 3.5160 - val_accuracy: 0.5833 - lr: 0.0010 - 8s/epoch - 214ms/step
Epoch 56/75
36/36 - 8s - loss: 0.0515 - accuracy: 0.9842 - val_loss: 3.6110 - val_accuracy: 0.5698 - lr: 0.0010 - 8s/epoch - 214ms/step
Epoch 57/75
36/36 - 8s - loss: 0.0532 - accuracy: 0.9840 - val_loss: 3.6391 - val_accuracy: 0.5706 - lr: 0.0010 - 8s/epoch - 214ms/step
Epoch 58/75
36/36 - 8s - loss: 0.0559 - accuracy: 0.9827 - val_loss: 3.6568 - val_accuracy: 0.5671 - lr: 0.0010 - 8s/epoch - 214ms/step
Epoch 59/75
36/36 - 8s - loss: 0.0538 - accuracy: 0.9831 - val_loss: 3.6095 - val_accuracy: 0.5691 - lr: 0.0010 - 8s/epoch - 214ms/step
Epoch 60/75
36/36 - 8s - loss: 0.0528 - accuracy: 0.9832 - val_loss: 3.6766 - val_accuracy: 0.5632 - lr: 0.0010 - 8s/epoch - 214ms/step
Epoch 61/75
36/36 - 8s - loss: 0.0527 - accuracy: 0.9838 - val_loss: 3.6564 - val_accuracy: 0.5701 - lr: 0.0010 - 8s/epoch - 214ms/step
Epoch 62/75
36/36 - 8s - loss: 0.0575 - accuracy: 0.9818 - val_loss: 3.5692 - val_accuracy: 0.5715 - lr: 0.0010 - 8s/epoch - 214ms/step
Epoch 63/75
36/36 - 8s - loss: 0.0536 - accuracy: 0.9833 - val_loss: 3.5596 - val_accuracy: 0.5756 - lr: 0.0010 - 8s/epoch - 214ms/step
Epoch 64/75
36/36 - 8s - loss: 0.0583 - accuracy: 0.9819 - val_loss: 3.5091 - val_accuracy: 0.5806 - lr: 0.0010 - 8s/epoch - 214ms/step
Epoch 65/75
36/36 - 8s - loss: 0.0541 - accuracy: 0.9830 - val_loss: 3.6014 - val_accuracy: 0.5776 - lr: 0.0010 - 8s/epoch - 214ms/step
Epoch 66/75
36/36 - 8s - loss: 0.0522 - accuracy: 0.9836 - val_loss: 3.5798 - val_accuracy: 0.5807 - lr: 0.0010 - 8s/epoch - 215ms/step
Epoch 67/75
36/36 - 8s - loss: 0.0541 - accuracy: 0.9832 - val_loss: 3.4970 - val_accuracy: 0.5890 - lr: 0.0010 - 8s/epoch - 214ms/step
Epoch 68/75
36/36 - 8s - loss: 0.0542 - accuracy: 0.9833 - val_loss: 3.5378 - val_accuracy: 0.5806 - lr: 0.0010 - 8s/epoch - 214ms/step
Epoch 69/75
36/36 - 8s - loss: 0.0508 - accuracy: 0.9845 - val_loss: 3.5332 - val_accuracy: 0.5843 - lr: 0.0010 - 8s/epoch - 213ms/step
Epoch 70/75
36/36 - 8s - loss: 0.0519 - accuracy: 0.9836 - val_loss: 3.5693 - val_accuracy: 0.5825 - lr: 0.0010 - 8s/epoch - 215ms/step
Epoch 71/75
36/36 - 8s - loss: 0.0516 - accuracy: 0.9841 - val_loss: 3.5776 - val_accuracy: 0.5794 - lr: 0.0010 - 8s/epoch - 213ms/step
Epoch 72/75
36/36 - 8s - loss: 0.0522 - accuracy: 0.9834 - val_loss: 3.5524 - val_accuracy: 0.5848 - lr: 0.0010 - 8s/epoch - 213ms/step
Epoch 73/75
36/36 - 8s - loss: 0.0517 - accuracy: 0.9840 - val_loss: 3.5128 - val_accuracy: 0.5871 - lr: 0.0010 - 8s/epoch - 214ms/step
Epoch 74/75
36/36 - 8s - loss: 0.0499 - accuracy: 0.9848 - val_loss: 3.4907 - val_accuracy: 0.5874 - lr: 0.0010 - 8s/epoch - 215ms/step
Epoch 75/75
36/36 - 8s - loss: 0.0529 - accuracy: 0.9836 - val_loss: 3.4760 - val_accuracy: 0.5932 - lr: 0.0010 - 8s/epoch - 214ms/step
Epoch 1/100
4378/4378 - 77s - loss: 0.2129 - accuracy: 0.9249 - val_loss: 2.0100 - val_accuracy: 0.5960 - lr: 0.0010 - 77s/epoch - 18ms/step
Epoch 2/100
4378/4378 - 74s - loss: 0.2316 - accuracy: 0.9158 - val_loss: 1.9110 - val_accuracy: 0.5939 - lr: 0.0010 - 74s/epoch - 17ms/step
Epoch 3/100
4378/4378 - 74s - loss: 0.2261 - accuracy: 0.9175 - val_loss: 1.8241 - val_accuracy: 0.6134 - lr: 0.0010 - 74s/epoch - 17ms/step
Epoch 4/100
4378/4378 - 75s - loss: 0.2366 - accuracy: 0.9154 - val_loss: 1.7305 - val_accuracy: 0.6071 - lr: 0.0010 - 75s/epoch - 17ms/step
Epoch 5/100
4378/4378 - 75s - loss: 0.2290 - accuracy: 0.9183 - val_loss: 1.9049 - val_accuracy: 0.6054 - lr: 0.0010 - 75s/epoch - 17ms/step
Epoch 6/100
4378/4378 - 74s - loss: 0.2368 - accuracy: 0.9145 - val_loss: 1.7600 - val_accuracy: 0.6226 - lr: 0.0010 - 74s/epoch - 17ms/step
Epoch 7/100
4378/4378 - 75s - loss: 0.2335 - accuracy: 0.9157 - val_loss: 2.0507 - val_accuracy: 0.5714 - lr: 0.0010 - 75s/epoch - 17ms/step
Epoch 8/100
4378/4378 - 74s - loss: 0.2421 - accuracy: 0.9118 - val_loss: 1.5714 - val_accuracy: 0.6291 - lr: 0.0010 - 74s/epoch - 17ms/step
Epoch 9/100
4378/4378 - 74s - loss: 0.2433 - accuracy: 0.9113 - val_loss: 1.5155 - val_accuracy: 0.6544 - lr: 0.0010 - 74s/epoch - 17ms/step
Epoch 10/100
4378/4378 - 75s - loss: 0.2396 - accuracy: 0.9133 - val_loss: 1.6291 - val_accuracy: 0.6273 - lr: 0.0010 - 75s/epoch - 17ms/step
Epoch 11/100
4378/4378 - 74s - loss: 0.2391 - accuracy: 0.9124 - val_loss: 1.8114 - val_accuracy: 0.5821 - lr: 0.0010 - 74s/epoch - 17ms/step
Epoch 12/100
4378/4378 - 74s - loss: 0.2394 - accuracy: 0.9132 - val_loss: 1.5597 - val_accuracy: 0.6396 - lr: 0.0010 - 74s/epoch - 17ms/step
Epoch 13/100
4378/4378 - 74s - loss: 0.2366 - accuracy: 0.9142 - val_loss: 1.9436 - val_accuracy: 0.6104 - lr: 0.0010 - 74s/epoch - 17ms/step
Epoch 14/100
4378/4378 - 75s - loss: 0.2323 - accuracy: 0.9161 - val_loss: 1.8621 - val_accuracy: 0.6030 - lr: 0.0010 - 75s/epoch - 17ms/step
Epoch 15/100
4378/4378 - 75s - loss: 0.2353 - accuracy: 0.9155 - val_loss: 1.6565 - val_accuracy: 0.6306 - lr: 0.0010 - 75s/epoch - 17ms/step
Epoch 16/100
4378/4378 - 74s - loss: 0.2282 - accuracy: 0.9177 - val_loss: 1.6729 - val_accuracy: 0.6463 - lr: 0.0010 - 74s/epoch - 17ms/step
Epoch 17/100
4378/4378 - 75s - loss: 0.2357 - accuracy: 0.9139 - val_loss: 1.7389 - val_accuracy: 0.6252 - lr: 0.0010 - 75s/epoch - 17ms/step
Epoch 18/100
4378/4378 - 75s - loss: 0.2319 - accuracy: 0.9166 - val_loss: 1.7249 - val_accuracy: 0.6158 - lr: 0.0010 - 75s/epoch - 17ms/step
Epoch 19/100
4378/4378 - 74s - loss: 0.2387 - accuracy: 0.9135 - val_loss: 1.6962 - val_accuracy: 0.5869 - lr: 0.0010 - 74s/epoch - 17ms/step
Epoch 20/100
4378/4378 - 74s - loss: 0.2434 - accuracy: 0.9118 - val_loss: 1.7185 - val_accuracy: 0.5835 - lr: 0.0010 - 74s/epoch - 17ms/step
Epoch 21/100
4378/4378 - 74s - loss: 0.2403 - accuracy: 0.9127 - val_loss: 1.4235 - val_accuracy: 0.6413 - lr: 0.0010 - 74s/epoch - 17ms/step
Epoch 22/100
4378/4378 - 74s - loss: 0.2367 - accuracy: 0.9138 - val_loss: 1.7540 - val_accuracy: 0.5942 - lr: 0.0010 - 74s/epoch - 17ms/step
Epoch 23/100
4378/4378 - 74s - loss: 0.2358 - accuracy: 0.9151 - val_loss: 1.7317 - val_accuracy: 0.5969 - lr: 0.0010 - 74s/epoch - 17ms/step
Epoch 24/100
4378/4378 - 74s - loss: 0.2284 - accuracy: 0.9173 - val_loss: 1.7971 - val_accuracy: 0.6015 - lr: 0.0010 - 74s/epoch - 17ms/step
Epoch 25/100
4378/4378 - 74s - loss: 0.2380 - accuracy: 0.9130 - val_loss: 1.6283 - val_accuracy: 0.6105 - lr: 0.0010 - 74s/epoch - 17ms/step
Epoch 26/100
4378/4378 - 75s - loss: 0.2406 - accuracy: 0.9125 - val_loss: 1.7353 - val_accuracy: 0.5988 - lr: 0.0010 - 75s/epoch - 17ms/step
Epoch 27/100
4378/4378 - 74s - loss: 0.2420 - accuracy: 0.9118 - val_loss: 1.4696 - val_accuracy: 0.6270 - lr: 0.0010 - 74s/epoch - 17ms/step
Epoch 28/100
4378/4378 - 75s - loss: 0.2364 - accuracy: 0.9128 - val_loss: 1.6721 - val_accuracy: 0.6037 - lr: 0.0010 - 75s/epoch - 17ms/step
Epoch 29/100
