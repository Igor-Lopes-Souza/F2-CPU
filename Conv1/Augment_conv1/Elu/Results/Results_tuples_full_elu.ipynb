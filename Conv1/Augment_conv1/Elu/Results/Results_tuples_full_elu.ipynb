Epoch 1/25
4378/4378 - 79s - loss: 1.1807 - accuracy: 0.5120 - val_loss: 0.9517 - val_accuracy: 0.6177 - lr: 0.0010 - 79s/epoch - 18ms/step
Epoch 2/25
4378/4378 - 70s - loss: 0.9409 - accuracy: 0.6359 - val_loss: 0.9779 - val_accuracy: 0.5885 - lr: 0.0010 - 70s/epoch - 16ms/step
Epoch 3/25
4378/4378 - 70s - loss: 0.8832 - accuracy: 0.6612 - val_loss: 0.8836 - val_accuracy: 0.6619 - lr: 0.0010 - 70s/epoch - 16ms/step
Epoch 4/25
4378/4378 - 70s - loss: 0.8506 - accuracy: 0.6765 - val_loss: 0.8874 - val_accuracy: 0.6498 - lr: 0.0010 - 70s/epoch - 16ms/step
Epoch 5/25
4378/4378 - 70s - loss: 0.8301 - accuracy: 0.6845 - val_loss: 0.8932 - val_accuracy: 0.6420 - lr: 0.0010 - 70s/epoch - 16ms/step
Epoch 6/25
4378/4378 - 69s - loss: 0.8154 - accuracy: 0.6899 - val_loss: 0.7803 - val_accuracy: 0.6957 - lr: 0.0010 - 69s/epoch - 16ms/step
Epoch 7/25
4378/4378 - 69s - loss: 0.8019 - accuracy: 0.6941 - val_loss: 0.7863 - val_accuracy: 0.7005 - lr: 0.0010 - 69s/epoch - 16ms/step
Epoch 8/25
4378/4378 - 70s - loss: 0.7943 - accuracy: 0.6999 - val_loss: 0.8056 - val_accuracy: 0.7035 - lr: 0.0010 - 70s/epoch - 16ms/step
Epoch 9/25
4378/4378 - 70s - loss: 0.7841 - accuracy: 0.7047 - val_loss: 0.8394 - val_accuracy: 0.6845 - lr: 0.0010 - 70s/epoch - 16ms/step
Epoch 10/25
4378/4378 - 70s - loss: 0.7757 - accuracy: 0.7069 - val_loss: 0.7673 - val_accuracy: 0.7132 - lr: 0.0010 - 70s/epoch - 16ms/step
Epoch 11/25
4378/4378 - 70s - loss: 0.7712 - accuracy: 0.7080 - val_loss: 0.7622 - val_accuracy: 0.7107 - lr: 0.0010 - 70s/epoch - 16ms/step
Epoch 12/25
4378/4378 - 70s - loss: 0.7657 - accuracy: 0.7106 - val_loss: 0.8351 - val_accuracy: 0.6654 - lr: 0.0010 - 70s/epoch - 16ms/step
Epoch 13/25
4378/4378 - 69s - loss: 0.7597 - accuracy: 0.7143 - val_loss: 0.7447 - val_accuracy: 0.7302 - lr: 0.0010 - 69s/epoch - 16ms/step
Epoch 14/25
4378/4378 - 70s - loss: 0.7520 - accuracy: 0.7163 - val_loss: 0.7091 - val_accuracy: 0.7468 - lr: 0.0010 - 70s/epoch - 16ms/step
Epoch 15/25
4378/4378 - 69s - loss: 0.7498 - accuracy: 0.7166 - val_loss: 0.8044 - val_accuracy: 0.7034 - lr: 0.0010 - 69s/epoch - 16ms/step
Epoch 16/25
4378/4378 - 69s - loss: 0.7421 - accuracy: 0.7187 - val_loss: 0.7790 - val_accuracy: 0.7035 - lr: 0.0010 - 69s/epoch - 16ms/step
Epoch 17/25
4378/4378 - 69s - loss: 0.7360 - accuracy: 0.7227 - val_loss: 0.8402 - val_accuracy: 0.6723 - lr: 0.0010 - 69s/epoch - 16ms/step
Epoch 18/25
4378/4378 - 69s - loss: 0.7341 - accuracy: 0.7230 - val_loss: 0.9447 - val_accuracy: 0.6086 - lr: 0.0010 - 69s/epoch - 16ms/step
Epoch 19/25
4378/4378 - 69s - loss: 0.7295 - accuracy: 0.7253 - val_loss: 0.7670 - val_accuracy: 0.7139 - lr: 0.0010 - 69s/epoch - 16ms/step
Epoch 20/25
4378/4378 - 69s - loss: 0.7262 - accuracy: 0.7264 - val_loss: 0.8412 - val_accuracy: 0.6579 - lr: 0.0010 - 69s/epoch - 16ms/step
Epoch 21/25
4378/4378 - 69s - loss: 0.7219 - accuracy: 0.7283 - val_loss: 0.6991 - val_accuracy: 0.7633 - lr: 0.0010 - 69s/epoch - 16ms/step
Epoch 22/25
4378/4378 - 69s - loss: 0.7177 - accuracy: 0.7291 - val_loss: 0.7825 - val_accuracy: 0.6948 - lr: 0.0010 - 69s/epoch - 16ms/step
Epoch 23/25
4378/4378 - 70s - loss: 0.7113 - accuracy: 0.7307 - val_loss: 0.8088 - val_accuracy: 0.6934 - lr: 0.0010 - 70s/epoch - 16ms/step
Epoch 24/25
4378/4378 - 69s - loss: 0.7073 - accuracy: 0.7344 - val_loss: 0.7226 - val_accuracy: 0.7511 - lr: 0.0010 - 69s/epoch - 16ms/step
Epoch 25/25
4378/4378 - 69s - loss: 0.7061 - accuracy: 0.7339 - val_loss: 0.7457 - val_accuracy: 0.7455 - lr: 0.0010 - 69s/epoch - 16ms/step
Epoch 1/25
876/876 - 21s - loss: 0.6759 - accuracy: 0.7469 - val_loss: 0.7372 - val_accuracy: 0.7307 - lr: 0.0010 - 21s/epoch - 24ms/step
Epoch 2/25
876/876 - 20s - loss: 0.6768 - accuracy: 0.7443 - val_loss: 0.7854 - val_accuracy: 0.7053 - lr: 0.0010 - 20s/epoch - 22ms/step
Epoch 3/25
876/876 - 18s - loss: 0.6733 - accuracy: 0.7474 - val_loss: 0.8347 - val_accuracy: 0.6683 - lr: 0.0010 - 18s/epoch - 20ms/step
Epoch 4/25
876/876 - 18s - loss: 0.6707 - accuracy: 0.7471 - val_loss: 0.7410 - val_accuracy: 0.7199 - lr: 0.0010 - 18s/epoch - 20ms/step
Epoch 5/25
876/876 - 18s - loss: 0.6668 - accuracy: 0.7505 - val_loss: 0.7247 - val_accuracy: 0.7347 - lr: 0.0010 - 18s/epoch - 20ms/step
Epoch 6/25
876/876 - 18s - loss: 0.6638 - accuracy: 0.7514 - val_loss: 0.7269 - val_accuracy: 0.7267 - lr: 0.0010 - 18s/epoch - 20ms/step
Epoch 7/25
876/876 - 18s - loss: 0.6604 - accuracy: 0.7524 - val_loss: 0.8124 - val_accuracy: 0.6647 - lr: 0.0010 - 18s/epoch - 20ms/step
Epoch 8/25
876/876 - 18s - loss: 0.6565 - accuracy: 0.7533 - val_loss: 0.8051 - val_accuracy: 0.6823 - lr: 0.0010 - 18s/epoch - 20ms/step
Epoch 9/25
876/876 - 18s - loss: 0.6542 - accuracy: 0.7543 - val_loss: 0.8380 - val_accuracy: 0.6427 - lr: 0.0010 - 18s/epoch - 20ms/step
Epoch 10/25
876/876 - 18s - loss: 0.6505 - accuracy: 0.7566 - val_loss: 0.8092 - val_accuracy: 0.6716 - lr: 0.0010 - 18s/epoch - 20ms/step
Epoch 11/25
876/876 - 18s - loss: 0.6467 - accuracy: 0.7572 - val_loss: 0.8076 - val_accuracy: 0.6696 - lr: 0.0010 - 18s/epoch - 20ms/step
Epoch 12/25
876/876 - 18s - loss: 0.6428 - accuracy: 0.7586 - val_loss: 0.7654 - val_accuracy: 0.6864 - lr: 0.0010 - 18s/epoch - 20ms/step
Epoch 13/25
876/876 - 18s - loss: 0.6412 - accuracy: 0.7594 - val_loss: 0.9159 - val_accuracy: 0.5988 - lr: 0.0010 - 18s/epoch - 20ms/step
Epoch 14/25
876/876 - 18s - loss: 0.6351 - accuracy: 0.7615 - val_loss: 0.7687 - val_accuracy: 0.6985 - lr: 0.0010 - 18s/epoch - 20ms/step
Epoch 15/25
876/876 - 18s - loss: 0.6320 - accuracy: 0.7626 - val_loss: 0.7620 - val_accuracy: 0.7119 - lr: 0.0010 - 18s/epoch - 20ms/step
Epoch 16/25
876/876 - 18s - loss: 0.6294 - accuracy: 0.7637 - val_loss: 0.7752 - val_accuracy: 0.6994 - lr: 0.0010 - 18s/epoch - 20ms/step
Epoch 17/25
876/876 - 18s - loss: 0.6261 - accuracy: 0.7645 - val_loss: 0.8585 - val_accuracy: 0.6652 - lr: 0.0010 - 18s/epoch - 20ms/step
Epoch 18/25
876/876 - 18s - loss: 0.6230 - accuracy: 0.7672 - val_loss: 0.7628 - val_accuracy: 0.6953 - lr: 0.0010 - 18s/epoch - 20ms/step
Epoch 19/25
876/876 - 18s - loss: 0.6184 - accuracy: 0.7677 - val_loss: 0.7939 - val_accuracy: 0.6774 - lr: 0.0010 - 18s/epoch - 20ms/step
Epoch 20/25
876/876 - 18s - loss: 0.6166 - accuracy: 0.7696 - val_loss: 0.8369 - val_accuracy: 0.6639 - lr: 0.0010 - 18s/epoch - 20ms/step
Epoch 21/25
876/876 - 18s - loss: 0.6132 - accuracy: 0.7712 - val_loss: 0.8655 - val_accuracy: 0.6435 - lr: 0.0010 - 18s/epoch - 20ms/step
Epoch 22/25
876/876 - 18s - loss: 0.6095 - accuracy: 0.7713 - val_loss: 0.7764 - val_accuracy: 0.7003 - lr: 0.0010 - 18s/epoch - 20ms/step
Epoch 23/25
876/876 - 18s - loss: 0.6055 - accuracy: 0.7735 - val_loss: 0.8165 - val_accuracy: 0.6679 - lr: 0.0010 - 18s/epoch - 20ms/step
Epoch 24/25
876/876 - 18s - loss: 0.6030 - accuracy: 0.7742 - val_loss: 0.8204 - val_accuracy: 0.6686 - lr: 0.0010 - 18s/epoch - 20ms/step
Epoch 25/25
876/876 - 18s - loss: 0.5990 - accuracy: 0.7754 - val_loss: 0.8453 - val_accuracy: 0.6584 - lr: 0.0010 - 18s/epoch - 20ms/step
Epoch 1/25
176/176 - 12s - loss: 0.5691 - accuracy: 0.7884 - val_loss: 0.8164 - val_accuracy: 0.6838 - lr: 0.0010 - 12s/epoch - 68ms/step
Epoch 2/25
176/176 - 9s - loss: 0.5656 - accuracy: 0.7899 - val_loss: 0.7928 - val_accuracy: 0.6917 - lr: 0.0010 - 9s/epoch - 50ms/step
Epoch 3/25
176/176 - 9s - loss: 0.5634 - accuracy: 0.7908 - val_loss: 0.8586 - val_accuracy: 0.6583 - lr: 0.0010 - 9s/epoch - 51ms/step
Epoch 4/25
176/176 - 9s - loss: 0.5632 - accuracy: 0.7908 - val_loss: 0.8319 - val_accuracy: 0.6747 - lr: 0.0010 - 9s/epoch - 50ms/step
Epoch 5/25
176/176 - 9s - loss: 0.5629 - accuracy: 0.7912 - val_loss: 0.8397 - val_accuracy: 0.6656 - lr: 0.0010 - 9s/epoch - 50ms/step
Epoch 6/25
176/176 - 9s - loss: 0.5622 - accuracy: 0.7916 - val_loss: 0.8206 - val_accuracy: 0.6871 - lr: 0.0010 - 9s/epoch - 50ms/step
Epoch 7/25
176/176 - 9s - loss: 0.5599 - accuracy: 0.7926 - val_loss: 0.8780 - val_accuracy: 0.6478 - lr: 0.0010 - 9s/epoch - 50ms/step
Epoch 8/25
176/176 - 9s - loss: 0.5568 - accuracy: 0.7932 - val_loss: 0.8548 - val_accuracy: 0.6587 - lr: 0.0010 - 9s/epoch - 50ms/step
Epoch 9/25
176/176 - 9s - loss: 0.5553 - accuracy: 0.7933 - val_loss: 0.8558 - val_accuracy: 0.6593 - lr: 0.0010 - 9s/epoch - 50ms/step
Epoch 10/25
176/176 - 9s - loss: 0.5534 - accuracy: 0.7943 - val_loss: 0.7925 - val_accuracy: 0.6886 - lr: 0.0010 - 9s/epoch - 50ms/step
Epoch 11/25
176/176 - 9s - loss: 0.5500 - accuracy: 0.7959 - val_loss: 0.8758 - val_accuracy: 0.6468 - lr: 0.0010 - 9s/epoch - 50ms/step
Epoch 12/25
176/176 - 9s - loss: 0.5469 - accuracy: 0.7962 - val_loss: 0.8343 - val_accuracy: 0.6785 - lr: 0.0010 - 9s/epoch - 50ms/step
Epoch 13/25
176/176 - 9s - loss: 0.5472 - accuracy: 0.7966 - val_loss: 0.7999 - val_accuracy: 0.6934 - lr: 0.0010 - 9s/epoch - 50ms/step
Epoch 14/25
176/176 - 9s - loss: 0.5449 - accuracy: 0.7984 - val_loss: 0.8837 - val_accuracy: 0.6565 - lr: 0.0010 - 9s/epoch - 50ms/step
Epoch 15/25
176/176 - 9s - loss: 0.5418 - accuracy: 0.7994 - val_loss: 0.8615 - val_accuracy: 0.6644 - lr: 0.0010 - 9s/epoch - 50ms/step
Epoch 16/25
176/176 - 9s - loss: 0.5420 - accuracy: 0.7998 - val_loss: 0.8387 - val_accuracy: 0.6670 - lr: 0.0010 - 9s/epoch - 50ms/step
Epoch 17/25
176/176 - 9s - loss: 0.5390 - accuracy: 0.7995 - val_loss: 0.7840 - val_accuracy: 0.7033 - lr: 0.0010 - 9s/epoch - 50ms/step
Epoch 18/25
176/176 - 9s - loss: 0.5383 - accuracy: 0.8000 - val_loss: 0.8792 - val_accuracy: 0.6600 - lr: 0.0010 - 9s/epoch - 50ms/step
Epoch 19/25
176/176 - 9s - loss: 0.5353 - accuracy: 0.8002 - val_loss: 0.8047 - val_accuracy: 0.6950 - lr: 0.0010 - 9s/epoch - 50ms/step
Epoch 20/25
176/176 - 9s - loss: 0.5328 - accuracy: 0.8024 - val_loss: 0.8739 - val_accuracy: 0.6608 - lr: 0.0010 - 9s/epoch - 50ms/step
Epoch 21/25
176/176 - 9s - loss: 0.5321 - accuracy: 0.8024 - val_loss: 0.8985 - val_accuracy: 0.6522 - lr: 0.0010 - 9s/epoch - 51ms/step
Epoch 22/25
176/176 - 9s - loss: 0.5304 - accuracy: 0.8024 - val_loss: 0.8575 - val_accuracy: 0.6678 - lr: 0.0010 - 9s/epoch - 50ms/step
Epoch 23/25
176/176 - 9s - loss: 0.5272 - accuracy: 0.8047 - val_loss: 0.9120 - val_accuracy: 0.6474 - lr: 0.0010 - 9s/epoch - 50ms/step
Epoch 24/25
176/176 - 9s - loss: 0.5253 - accuracy: 0.8055 - val_loss: 0.8170 - val_accuracy: 0.6800 - lr: 0.0010 - 9s/epoch - 50ms/step
Epoch 25/25
176/176 - 9s - loss: 0.5248 - accuracy: 0.8048 - val_loss: 0.8356 - val_accuracy: 0.6726 - lr: 0.0010 - 9s/epoch - 50ms/step
Epoch 1/25
36/36 - 11s - loss: 0.5094 - accuracy: 0.8129 - val_loss: 0.8336 - val_accuracy: 0.6759 - lr: 0.0010 - 11s/epoch - 305ms/step
Epoch 2/25
36/36 - 8s - loss: 0.5032 - accuracy: 0.8149 - val_loss: 0.8528 - val_accuracy: 0.6677 - lr: 0.0010 - 8s/epoch - 213ms/step
Epoch 3/25
36/36 - 8s - loss: 0.5026 - accuracy: 0.8151 - val_loss: 0.8746 - val_accuracy: 0.6612 - lr: 0.0010 - 8s/epoch - 213ms/step
Epoch 4/25
36/36 - 8s - loss: 0.5013 - accuracy: 0.8152 - val_loss: 0.8645 - val_accuracy: 0.6661 - lr: 0.0010 - 8s/epoch - 213ms/step
Epoch 5/25
36/36 - 8s - loss: 0.5020 - accuracy: 0.8152 - val_loss: 0.8532 - val_accuracy: 0.6706 - lr: 0.0010 - 8s/epoch - 214ms/step
Epoch 6/25
36/36 - 8s - loss: 0.5030 - accuracy: 0.8153 - val_loss: 0.8507 - val_accuracy: 0.6740 - lr: 0.0010 - 8s/epoch - 213ms/step
Epoch 7/25
36/36 - 8s - loss: 0.5008 - accuracy: 0.8153 - val_loss: 0.8712 - val_accuracy: 0.6652 - lr: 0.0010 - 8s/epoch - 213ms/step
Epoch 8/25
36/36 - 8s - loss: 0.4993 - accuracy: 0.8160 - val_loss: 0.8429 - val_accuracy: 0.6765 - lr: 0.0010 - 8s/epoch - 213ms/step
Epoch 9/25
36/36 - 8s - loss: 0.4986 - accuracy: 0.8171 - val_loss: 0.8299 - val_accuracy: 0.6820 - lr: 0.0010 - 8s/epoch - 214ms/step
Epoch 10/25
36/36 - 8s - loss: 0.4982 - accuracy: 0.8166 - val_loss: 0.8259 - val_accuracy: 0.6826 - lr: 0.0010 - 8s/epoch - 213ms/step
Epoch 11/25
36/36 - 8s - loss: 0.4982 - accuracy: 0.8159 - val_loss: 0.8538 - val_accuracy: 0.6696 - lr: 0.0010 - 8s/epoch - 213ms/step
Epoch 12/25
36/36 - 8s - loss: 0.4980 - accuracy: 0.8161 - val_loss: 0.8639 - val_accuracy: 0.6661 - lr: 0.0010 - 8s/epoch - 213ms/step
Epoch 13/25
36/36 - 8s - loss: 0.4977 - accuracy: 0.8180 - val_loss: 0.8899 - val_accuracy: 0.6590 - lr: 0.0010 - 8s/epoch - 213ms/step
Epoch 14/25
36/36 - 8s - loss: 0.4966 - accuracy: 0.8175 - val_loss: 0.8604 - val_accuracy: 0.6717 - lr: 0.0010 - 8s/epoch - 213ms/step
Epoch 15/25
36/36 - 8s - loss: 0.4967 - accuracy: 0.8166 - val_loss: 0.8525 - val_accuracy: 0.6746 - lr: 0.0010 - 8s/epoch - 213ms/step
Epoch 16/25
36/36 - 8s - loss: 0.4945 - accuracy: 0.8186 - val_loss: 0.8938 - val_accuracy: 0.6549 - lr: 0.0010 - 8s/epoch - 213ms/step
Epoch 17/25
36/36 - 8s - loss: 0.4940 - accuracy: 0.8185 - val_loss: 0.8556 - val_accuracy: 0.6727 - lr: 0.0010 - 8s/epoch - 213ms/step
Epoch 18/25
36/36 - 8s - loss: 0.4924 - accuracy: 0.8190 - val_loss: 0.8639 - val_accuracy: 0.6693 - lr: 0.0010 - 8s/epoch - 213ms/step
Epoch 19/25
36/36 - 8s - loss: 0.4924 - accuracy: 0.8192 - val_loss: 0.8693 - val_accuracy: 0.6664 - lr: 0.0010 - 8s/epoch - 214ms/step
Epoch 20/25
36/36 - 8s - loss: 0.4941 - accuracy: 0.8188 - val_loss: 0.8612 - val_accuracy: 0.6692 - lr: 0.0010 - 8s/epoch - 214ms/step
Epoch 21/25
36/36 - 8s - loss: 0.4965 - accuracy: 0.8169 - val_loss: 0.8631 - val_accuracy: 0.6653 - lr: 0.0010 - 8s/epoch - 213ms/step
Epoch 22/25
36/36 - 8s - loss: 0.4943 - accuracy: 0.8181 - val_loss: 0.8700 - val_accuracy: 0.6652 - lr: 0.0010 - 8s/epoch - 213ms/step
Epoch 23/25
36/36 - 8s - loss: 0.4912 - accuracy: 0.8190 - val_loss: 0.8650 - val_accuracy: 0.6663 - lr: 0.0010 - 8s/epoch - 214ms/step
Epoch 24/25
36/36 - 8s - loss: 0.4922 - accuracy: 0.8191 - val_loss: 0.8682 - val_accuracy: 0.6683 - lr: 0.0010 - 8s/epoch - 213ms/step
Epoch 25/25
36/36 - 8s - loss: 0.4937 - accuracy: 0.8186 - val_loss: 0.8668 - val_accuracy: 0.6690 - lr: 0.0010 - 8s/epoch - 213ms/step
Epoch 1/50
4378/4378 - 72s - loss: 0.5919 - accuracy: 0.7769 - val_loss: 0.8114 - val_accuracy: 0.6705 - lr: 0.0010 - 72s/epoch - 17ms/step
Epoch 2/50
4378/4378 - 70s - loss: 0.5926 - accuracy: 0.7782 - val_loss: 0.8035 - val_accuracy: 0.6862 - lr: 0.0010 - 70s/epoch - 16ms/step
Epoch 3/50
4378/4378 - 70s - loss: 0.5889 - accuracy: 0.7785 - val_loss: 0.8669 - val_accuracy: 0.6724 - lr: 0.0010 - 70s/epoch - 16ms/step
Epoch 4/50
4378/4378 - 70s - loss: 0.5883 - accuracy: 0.7783 - val_loss: 0.8732 - val_accuracy: 0.6486 - lr: 0.0010 - 70s/epoch - 16ms/step
Epoch 5/50
4378/4378 - 70s - loss: 0.5854 - accuracy: 0.7811 - val_loss: 0.9035 - val_accuracy: 0.6338 - lr: 0.0010 - 70s/epoch - 16ms/step
Epoch 6/50
4378/4378 - 70s - loss: 0.5841 - accuracy: 0.7806 - val_loss: 0.9159 - val_accuracy: 0.6294 - lr: 0.0010 - 70s/epoch - 16ms/step
Epoch 7/50
4378/4378 - 70s - loss: 0.5820 - accuracy: 0.7821 - val_loss: 0.9761 - val_accuracy: 0.5940 - lr: 0.0010 - 70s/epoch - 16ms/step
Epoch 8/50
4378/4378 - 70s - loss: 0.5805 - accuracy: 0.7828 - val_loss: 0.8343 - val_accuracy: 0.6777 - lr: 0.0010 - 70s/epoch - 16ms/step
Epoch 9/50
4378/4378 - 70s - loss: 0.5756 - accuracy: 0.7827 - val_loss: 0.7313 - val_accuracy: 0.7193 - lr: 0.0010 - 70s/epoch - 16ms/step
Epoch 10/50
4378/4378 - 70s - loss: 0.5738 - accuracy: 0.7857 - val_loss: 0.7176 - val_accuracy: 0.7332 - lr: 0.0010 - 70s/epoch - 16ms/step
Epoch 11/50
4378/4378 - 71s - loss: 0.5699 - accuracy: 0.7864 - val_loss: 0.9237 - val_accuracy: 0.6360 - lr: 0.0010 - 71s/epoch - 16ms/step
Epoch 12/50
4378/4378 - 70s - loss: 0.5689 - accuracy: 0.7867 - val_loss: 0.7892 - val_accuracy: 0.7086 - lr: 0.0010 - 70s/epoch - 16ms/step
Epoch 13/50
4378/4378 - 70s - loss: 0.5669 - accuracy: 0.7870 - val_loss: 0.8267 - val_accuracy: 0.6595 - lr: 0.0010 - 70s/epoch - 16ms/step
Epoch 14/50
4378/4378 - 70s - loss: 0.5622 - accuracy: 0.7889 - val_loss: 0.8469 - val_accuracy: 0.6562 - lr: 0.0010 - 70s/epoch - 16ms/step
Epoch 15/50
4378/4378 - 70s - loss: 0.5602 - accuracy: 0.7892 - val_loss: 0.7139 - val_accuracy: 0.7400 - lr: 0.0010 - 70s/epoch - 16ms/step
Epoch 16/50
4378/4378 - 70s - loss: 0.5578 - accuracy: 0.7910 - val_loss: 0.8183 - val_accuracy: 0.6924 - lr: 0.0010 - 70s/epoch - 16ms/step
Epoch 17/50
4378/4378 - 70s - loss: 0.5558 - accuracy: 0.7903 - val_loss: 0.7893 - val_accuracy: 0.6870 - lr: 0.0010 - 70s/epoch - 16ms/step
Epoch 18/50
4378/4378 - 70s - loss: 0.5517 - accuracy: 0.7931 - val_loss: 0.7007 - val_accuracy: 0.7591 - lr: 0.0010 - 70s/epoch - 16ms/step
Epoch 19/50
4378/4378 - 70s - loss: 0.5509 - accuracy: 0.7936 - val_loss: 0.8399 - val_accuracy: 0.6713 - lr: 0.0010 - 70s/epoch - 16ms/step
Epoch 20/50
4378/4378 - 70s - loss: 0.5458 - accuracy: 0.7960 - val_loss: 0.9211 - val_accuracy: 0.6339 - lr: 0.0010 - 70s/epoch - 16ms/step
Epoch 21/50
4378/4378 - 70s - loss: 0.5463 - accuracy: 0.7957 - val_loss: 0.7404 - val_accuracy: 0.7263 - lr: 0.0010 - 70s/epoch - 16ms/step
Epoch 22/50
4378/4378 - 70s - loss: 0.5436 - accuracy: 0.7958 - val_loss: 0.8589 - val_accuracy: 0.6524 - lr: 0.0010 - 70s/epoch - 16ms/step
Epoch 23/50
4378/4378 - 70s - loss: 0.5401 - accuracy: 0.7985 - val_loss: 0.7170 - val_accuracy: 0.7262 - lr: 0.0010 - 70s/epoch - 16ms/step
Epoch 24/50
4378/4378 - 70s - loss: 0.5395 - accuracy: 0.7977 - val_loss: 0.7914 - val_accuracy: 0.7026 - lr: 0.0010 - 70s/epoch - 16ms/step
Epoch 25/50
4378/4378 - 70s - loss: 0.5384 - accuracy: 0.7980 - val_loss: 0.9307 - val_accuracy: 0.6270 - lr: 0.0010 - 70s/epoch - 16ms/step
Epoch 26/50
4378/4378 - 70s - loss: 0.5345 - accuracy: 0.8005 - val_loss: 0.8139 - val_accuracy: 0.6917 - lr: 0.0010 - 70s/epoch - 16ms/step
Epoch 27/50
4378/4378 - 70s - loss: 0.5319 - accuracy: 0.8006 - val_loss: 0.8565 - val_accuracy: 0.6709 - lr: 0.0010 - 70s/epoch - 16ms/step
Epoch 28/50
4378/4378 - 70s - loss: 0.5288 - accuracy: 0.8022 - val_loss: 0.8393 - val_accuracy: 0.6882 - lr: 0.0010 - 70s/epoch - 16ms/step
Epoch 29/50
4378/4378 - 70s - loss: 0.5268 - accuracy: 0.8025 - val_loss: 0.8441 - val_accuracy: 0.6786 - lr: 0.0010 - 70s/epoch - 16ms/step
Epoch 30/50
4378/4378 - 70s - loss: 0.5248 - accuracy: 0.8044 - val_loss: 0.7436 - val_accuracy: 0.7224 - lr: 0.0010 - 70s/epoch - 16ms/step
Epoch 31/50
4378/4378 - 70s - loss: 0.5229 - accuracy: 0.8052 - val_loss: 0.7822 - val_accuracy: 0.7077 - lr: 0.0010 - 70s/epoch - 16ms/step
Epoch 32/50
4378/4378 - 70s - loss: 0.5211 - accuracy: 0.8053 - val_loss: 0.8094 - val_accuracy: 0.6851 - lr: 0.0010 - 70s/epoch - 16ms/step
Epoch 33/50
4378/4378 - 70s - loss: 0.5178 - accuracy: 0.8063 - val_loss: 0.8226 - val_accuracy: 0.6907 - lr: 0.0010 - 70s/epoch - 16ms/step
Epoch 34/50
4378/4378 - 70s - loss: 0.5168 - accuracy: 0.8070 - val_loss: 0.8830 - val_accuracy: 0.6666 - lr: 0.0010 - 70s/epoch - 16ms/step
Epoch 35/50
4378/4378 - 71s - loss: 0.5122 - accuracy: 0.8084 - val_loss: 0.9044 - val_accuracy: 0.6496 - lr: 0.0010 - 71s/epoch - 16ms/step
Epoch 36/50
4378/4378 - 70s - loss: 0.5114 - accuracy: 0.8100 - val_loss: 0.7717 - val_accuracy: 0.7134 - lr: 0.0010 - 70s/epoch - 16ms/step
Epoch 37/50
4378/4378 - 70s - loss: 0.5103 - accuracy: 0.8094 - val_loss: 0.8500 - val_accuracy: 0.6750 - lr: 0.0010 - 70s/epoch - 16ms/step
Epoch 38/50
4378/4378 - 70s - loss: 0.5080 - accuracy: 0.8104 - val_loss: 0.7534 - val_accuracy: 0.7354 - lr: 0.0010 - 70s/epoch - 16ms/step
Epoch 39/50
4378/4378 - 70s - loss: 0.5055 - accuracy: 0.8127 - val_loss: 0.8823 - val_accuracy: 0.6615 - lr: 0.0010 - 70s/epoch - 16ms/step
Epoch 40/50
4378/4378 - 73s - loss: 0.5014 - accuracy: 0.8117 - val_loss: 0.7263 - val_accuracy: 0.7288 - lr: 0.0010 - 73s/epoch - 17ms/step
Epoch 41/50
4378/4378 - 70s - loss: 0.4983 - accuracy: 0.8148 - val_loss: 0.7510 - val_accuracy: 0.7148 - lr: 0.0010 - 70s/epoch - 16ms/step
Epoch 42/50
4378/4378 - 70s - loss: 0.5015 - accuracy: 0.8113 - val_loss: 0.8431 - val_accuracy: 0.6874 - lr: 0.0010 - 70s/epoch - 16ms/step
Epoch 43/50
4378/4378 - 70s - loss: 0.4951 - accuracy: 0.8136 - val_loss: 0.7597 - val_accuracy: 0.7234 - lr: 0.0010 - 70s/epoch - 16ms/step
Epoch 44/50
4378/4378 - 70s - loss: 0.4952 - accuracy: 0.8142 - val_loss: 0.8370 - val_accuracy: 0.6930 - lr: 0.0010 - 70s/epoch - 16ms/step
Epoch 45/50
4378/4378 - 70s - loss: 0.4937 - accuracy: 0.8164 - val_loss: 0.8416 - val_accuracy: 0.6915 - lr: 0.0010 - 70s/epoch - 16ms/step
Epoch 46/50
4378/4378 - 70s - loss: 0.4929 - accuracy: 0.8159 - val_loss: 0.7890 - val_accuracy: 0.7081 - lr: 0.0010 - 70s/epoch - 16ms/step
Epoch 47/50
4378/4378 - 70s - loss: 0.4898 - accuracy: 0.8164 - val_loss: 0.7902 - val_accuracy: 0.6957 - lr: 0.0010 - 70s/epoch - 16ms/step
Epoch 48/50
4378/4378 - 71s - loss: 0.4854 - accuracy: 0.8195 - val_loss: 0.7199 - val_accuracy: 0.7428 - lr: 0.0010 - 71s/epoch - 16ms/step
Epoch 49/50
4378/4378 - 70s - loss: 0.4878 - accuracy: 0.8179 - val_loss: 0.8748 - val_accuracy: 0.6823 - lr: 0.0010 - 70s/epoch - 16ms/step
Epoch 50/50
4378/4378 - 70s - loss: 0.4861 - accuracy: 0.8183 - val_loss: 0.8911 - val_accuracy: 0.6688 - lr: 0.0010 - 70s/epoch - 16ms/step
Epoch 1/50
876/876 - 20s - loss: 0.4229 - accuracy: 0.8429 - val_loss: 0.8118 - val_accuracy: 0.7106 - lr: 0.0010 - 20s/epoch - 23ms/step
Epoch 2/50
876/876 - 18s - loss: 0.4304 - accuracy: 0.8392 - val_loss: 0.8218 - val_accuracy: 0.6960 - lr: 0.0010 - 18s/epoch - 20ms/step
Epoch 3/50
876/876 - 18s - loss: 0.4289 - accuracy: 0.8401 - val_loss: 0.9168 - val_accuracy: 0.6685 - lr: 0.0010 - 18s/epoch - 20ms/step
Epoch 4/50
876/876 - 18s - loss: 0.4261 - accuracy: 0.8411 - val_loss: 0.8510 - val_accuracy: 0.6998 - lr: 0.0010 - 18s/epoch - 20ms/step
Epoch 5/50
876/876 - 18s - loss: 0.4206 - accuracy: 0.8442 - val_loss: 0.8166 - val_accuracy: 0.7163 - lr: 0.0010 - 18s/epoch - 20ms/step
Epoch 6/50
876/876 - 18s - loss: 0.4195 - accuracy: 0.8444 - val_loss: 0.8564 - val_accuracy: 0.7069 - lr: 0.0010 - 18s/epoch - 20ms/step
Epoch 7/50
876/876 - 17s - loss: 0.4169 - accuracy: 0.8453 - val_loss: 0.8132 - val_accuracy: 0.7118 - lr: 0.0010 - 17s/epoch - 20ms/step
Epoch 8/50
876/876 - 18s - loss: 0.4148 - accuracy: 0.8454 - val_loss: 0.8837 - val_accuracy: 0.6869 - lr: 0.0010 - 18s/epoch - 20ms/step
Epoch 9/50
876/876 - 18s - loss: 0.4125 - accuracy: 0.8459 - val_loss: 0.8130 - val_accuracy: 0.7110 - lr: 0.0010 - 18s/epoch - 20ms/step
Epoch 10/50
876/876 - 18s - loss: 0.4108 - accuracy: 0.8463 - val_loss: 0.8480 - val_accuracy: 0.7024 - lr: 0.0010 - 18s/epoch - 20ms/step
Epoch 11/50
876/876 - 18s - loss: 0.4084 - accuracy: 0.8475 - val_loss: 0.8238 - val_accuracy: 0.7167 - lr: 0.0010 - 18s/epoch - 20ms/step
Epoch 12/50
876/876 - 18s - loss: 0.4078 - accuracy: 0.8484 - val_loss: 0.8030 - val_accuracy: 0.7221 - lr: 0.0010 - 18s/epoch - 20ms/step
Epoch 13/50
876/876 - 18s - loss: 0.4037 - accuracy: 0.8487 - val_loss: 0.9107 - val_accuracy: 0.6823 - lr: 0.0010 - 18s/epoch - 20ms/step
Epoch 14/50
876/876 - 18s - loss: 0.4048 - accuracy: 0.8487 - val_loss: 0.8627 - val_accuracy: 0.6985 - lr: 0.0010 - 18s/epoch - 20ms/step
Epoch 15/50
876/876 - 18s - loss: 0.4017 - accuracy: 0.8502 - val_loss: 0.8350 - val_accuracy: 0.7225 - lr: 0.0010 - 18s/epoch - 20ms/step
Epoch 16/50
876/876 - 18s - loss: 0.3997 - accuracy: 0.8518 - val_loss: 0.7774 - val_accuracy: 0.7361 - lr: 0.0010 - 18s/epoch - 20ms/step
Epoch 17/50
876/876 - 18s - loss: 0.4002 - accuracy: 0.8513 - val_loss: 0.9517 - val_accuracy: 0.6723 - lr: 0.0010 - 18s/epoch - 20ms/step
Epoch 18/50
876/876 - 18s - loss: 0.3968 - accuracy: 0.8525 - val_loss: 0.9866 - val_accuracy: 0.6783 - lr: 0.0010 - 18s/epoch - 20ms/step
Epoch 19/50
876/876 - 18s - loss: 0.3943 - accuracy: 0.8536 - val_loss: 0.8319 - val_accuracy: 0.7255 - lr: 0.0010 - 18s/epoch - 20ms/step
Epoch 20/50
876/876 - 17s - loss: 0.3939 - accuracy: 0.8529 - val_loss: 0.8354 - val_accuracy: 0.7150 - lr: 0.0010 - 17s/epoch - 20ms/step
Epoch 21/50
876/876 - 18s - loss: 0.3938 - accuracy: 0.8530 - val_loss: 0.8171 - val_accuracy: 0.7310 - lr: 0.0010 - 18s/epoch - 20ms/step
Epoch 22/50
876/876 - 18s - loss: 0.3914 - accuracy: 0.8534 - val_loss: 0.9257 - val_accuracy: 0.6929 - lr: 0.0010 - 18s/epoch - 20ms/step
Epoch 23/50
876/876 - 18s - loss: 0.3897 - accuracy: 0.8549 - val_loss: 0.9053 - val_accuracy: 0.6920 - lr: 0.0010 - 18s/epoch - 20ms/step
Epoch 24/50
876/876 - 17s - loss: 0.3856 - accuracy: 0.8567 - val_loss: 0.9938 - val_accuracy: 0.6740 - lr: 0.0010 - 17s/epoch - 20ms/step
Epoch 25/50
876/876 - 18s - loss: 0.3848 - accuracy: 0.8561 - val_loss: 0.9538 - val_accuracy: 0.6857 - lr: 0.0010 - 18s/epoch - 20ms/step
Epoch 26/50
876/876 - 18s - loss: 0.3856 - accuracy: 0.8556 - val_loss: 0.8898 - val_accuracy: 0.7122 - lr: 0.0010 - 18s/epoch - 20ms/step
Epoch 27/50
876/876 - 18s - loss: 0.3857 - accuracy: 0.8564 - val_loss: 0.8076 - val_accuracy: 0.7301 - lr: 0.0010 - 18s/epoch - 20ms/step
Epoch 28/50
876/876 - 18s - loss: 0.3788 - accuracy: 0.8583 - val_loss: 0.8864 - val_accuracy: 0.6991 - lr: 0.0010 - 18s/epoch - 20ms/step
Epoch 29/50
876/876 - 18s - loss: 0.3801 - accuracy: 0.8577 - val_loss: 0.9858 - val_accuracy: 0.6779 - lr: 0.0010 - 18s/epoch - 20ms/step
Epoch 30/50
876/876 - 18s - loss: 0.3805 - accuracy: 0.8579 - val_loss: 0.9281 - val_accuracy: 0.6991 - lr: 0.0010 - 18s/epoch - 20ms/step
Epoch 31/50
876/876 - 18s - loss: 0.3764 - accuracy: 0.8603 - val_loss: 0.8996 - val_accuracy: 0.7072 - lr: 0.0010 - 18s/epoch - 20ms/step
Epoch 32/50
876/876 - 18s - loss: 0.3784 - accuracy: 0.8597 - val_loss: 0.9821 - val_accuracy: 0.6857 - lr: 0.0010 - 18s/epoch - 20ms/step
Epoch 33/50
876/876 - 18s - loss: 0.3746 - accuracy: 0.8610 - val_loss: 0.9867 - val_accuracy: 0.6787 - lr: 0.0010 - 18s/epoch - 20ms/step
Epoch 34/50
876/876 - 18s - loss: 0.3756 - accuracy: 0.8598 - val_loss: 0.8711 - val_accuracy: 0.7204 - lr: 0.0010 - 18s/epoch - 20ms/step
Epoch 35/50
876/876 - 18s - loss: 0.3760 - accuracy: 0.8600 - val_loss: 0.9852 - val_accuracy: 0.6876 - lr: 0.0010 - 18s/epoch - 20ms/step
Epoch 36/50
876/876 - 18s - loss: 0.3720 - accuracy: 0.8619 - val_loss: 1.0330 - val_accuracy: 0.6733 - lr: 0.0010 - 18s/epoch - 20ms/step
Epoch 37/50
876/876 - 18s - loss: 0.3726 - accuracy: 0.8619 - val_loss: 0.9536 - val_accuracy: 0.6944 - lr: 0.0010 - 18s/epoch - 20ms/step
Epoch 38/50
876/876 - 18s - loss: 0.3715 - accuracy: 0.8622 - val_loss: 0.8407 - val_accuracy: 0.7255 - lr: 0.0010 - 18s/epoch - 20ms/step
Epoch 39/50
876/876 - 18s - loss: 0.3703 - accuracy: 0.8620 - val_loss: 0.8684 - val_accuracy: 0.7215 - lr: 0.0010 - 18s/epoch - 20ms/step
Epoch 40/50
876/876 - 18s - loss: 0.3689 - accuracy: 0.8633 - val_loss: 0.9163 - val_accuracy: 0.7040 - lr: 0.0010 - 18s/epoch - 20ms/step
Epoch 41/50
876/876 - 17s - loss: 0.3688 - accuracy: 0.8622 - val_loss: 0.8957 - val_accuracy: 0.7084 - lr: 0.0010 - 17s/epoch - 20ms/step
Epoch 42/50
876/876 - 18s - loss: 0.3646 - accuracy: 0.8654 - val_loss: 0.9452 - val_accuracy: 0.7089 - lr: 0.0010 - 18s/epoch - 20ms/step
Epoch 43/50
876/876 - 18s - loss: 0.3672 - accuracy: 0.8631 - val_loss: 0.9846 - val_accuracy: 0.6907 - lr: 0.0010 - 18s/epoch - 20ms/step
Epoch 44/50
876/876 - 18s - loss: 0.3644 - accuracy: 0.8637 - val_loss: 0.8480 - val_accuracy: 0.7225 - lr: 0.0010 - 18s/epoch - 20ms/step
Epoch 45/50
876/876 - 18s - loss: 0.3638 - accuracy: 0.8643 - val_loss: 0.9418 - val_accuracy: 0.7019 - lr: 0.0010 - 18s/epoch - 20ms/step
Epoch 46/50
876/876 - 18s - loss: 0.3604 - accuracy: 0.8660 - val_loss: 1.0132 - val_accuracy: 0.6846 - lr: 0.0010 - 18s/epoch - 20ms/step
Epoch 47/50
876/876 - 18s - loss: 0.3600 - accuracy: 0.8654 - val_loss: 1.0206 - val_accuracy: 0.6746 - lr: 0.0010 - 18s/epoch - 20ms/step
Epoch 48/50
876/876 - 18s - loss: 0.3622 - accuracy: 0.8648 - val_loss: 0.8624 - val_accuracy: 0.7219 - lr: 0.0010 - 18s/epoch - 20ms/step
Epoch 49/50
876/876 - 18s - loss: 0.3641 - accuracy: 0.8649 - val_loss: 0.9258 - val_accuracy: 0.7120 - lr: 0.0010 - 18s/epoch - 20ms/step
Epoch 50/50
876/876 - 18s - loss: 0.3601 - accuracy: 0.8662 - val_loss: 0.8603 - val_accuracy: 0.7208 - lr: 0.0010 - 18s/epoch - 20ms/step
Epoch 1/50
176/176 - 12s - loss: 0.3148 - accuracy: 0.8848 - val_loss: 0.9625 - val_accuracy: 0.7081 - lr: 0.0010 - 12s/epoch - 65ms/step
Epoch 2/50
176/176 - 9s - loss: 0.3057 - accuracy: 0.8886 - val_loss: 0.9421 - val_accuracy: 0.7118 - lr: 0.0010 - 9s/epoch - 50ms/step
Epoch 3/50
176/176 - 9s - loss: 0.3023 - accuracy: 0.8899 - val_loss: 1.0076 - val_accuracy: 0.7045 - lr: 0.0010 - 9s/epoch - 50ms/step
Epoch 4/50
176/176 - 9s - loss: 0.3051 - accuracy: 0.8884 - val_loss: 1.0052 - val_accuracy: 0.7022 - lr: 0.0010 - 9s/epoch - 50ms/step
Epoch 5/50
176/176 - 9s - loss: 0.3046 - accuracy: 0.8877 - val_loss: 1.0416 - val_accuracy: 0.6940 - lr: 0.0010 - 9s/epoch - 50ms/step
Epoch 6/50
176/176 - 9s - loss: 0.3074 - accuracy: 0.8874 - val_loss: 1.0590 - val_accuracy: 0.6938 - lr: 0.0010 - 9s/epoch - 50ms/step
Epoch 7/50
176/176 - 9s - loss: 0.3068 - accuracy: 0.8863 - val_loss: 0.9469 - val_accuracy: 0.7141 - lr: 0.0010 - 9s/epoch - 50ms/step
Epoch 8/50
176/176 - 9s - loss: 0.3096 - accuracy: 0.8859 - val_loss: 1.0061 - val_accuracy: 0.7188 - lr: 0.0010 - 9s/epoch - 50ms/step
Epoch 9/50
176/176 - 9s - loss: 0.3100 - accuracy: 0.8847 - val_loss: 0.9570 - val_accuracy: 0.7215 - lr: 0.0010 - 9s/epoch - 50ms/step
Epoch 10/50
176/176 - 9s - loss: 0.3048 - accuracy: 0.8876 - val_loss: 1.0005 - val_accuracy: 0.7245 - lr: 0.0010 - 9s/epoch - 50ms/step
Epoch 11/50
176/176 - 9s - loss: 0.3022 - accuracy: 0.8883 - val_loss: 1.0822 - val_accuracy: 0.6966 - lr: 0.0010 - 9s/epoch - 50ms/step
Epoch 12/50
176/176 - 9s - loss: 0.3043 - accuracy: 0.8885 - val_loss: 1.0357 - val_accuracy: 0.7024 - lr: 0.0010 - 9s/epoch - 50ms/step
Epoch 13/50
176/176 - 9s - loss: 0.3029 - accuracy: 0.8883 - val_loss: 1.1782 - val_accuracy: 0.6752 - lr: 0.0010 - 9s/epoch - 50ms/step
Epoch 14/50
176/176 - 9s - loss: 0.3015 - accuracy: 0.8892 - val_loss: 1.0423 - val_accuracy: 0.7011 - lr: 0.0010 - 9s/epoch - 50ms/step
Epoch 15/50
176/176 - 9s - loss: 0.3024 - accuracy: 0.8884 - val_loss: 1.0820 - val_accuracy: 0.6993 - lr: 0.0010 - 9s/epoch - 51ms/step
Epoch 16/50
176/176 - 9s - loss: 0.2978 - accuracy: 0.8904 - val_loss: 1.1070 - val_accuracy: 0.6940 - lr: 0.0010 - 9s/epoch - 50ms/step
Epoch 17/50
176/176 - 9s - loss: 0.2997 - accuracy: 0.8901 - val_loss: 1.1099 - val_accuracy: 0.7021 - lr: 0.0010 - 9s/epoch - 51ms/step
Epoch 18/50
176/176 - 9s - loss: 0.3012 - accuracy: 0.8895 - val_loss: 1.1347 - val_accuracy: 0.6871 - lr: 0.0010 - 9s/epoch - 50ms/step
Epoch 19/50
176/176 - 9s - loss: 0.2995 - accuracy: 0.8897 - val_loss: 1.1256 - val_accuracy: 0.6921 - lr: 0.0010 - 9s/epoch - 50ms/step
Epoch 20/50
176/176 - 9s - loss: 0.2952 - accuracy: 0.8914 - val_loss: 1.0837 - val_accuracy: 0.7040 - lr: 0.0010 - 9s/epoch - 50ms/step
Epoch 21/50
176/176 - 9s - loss: 0.2961 - accuracy: 0.8893 - val_loss: 1.1311 - val_accuracy: 0.7062 - lr: 0.0010 - 9s/epoch - 51ms/step
Epoch 22/50
176/176 - 9s - loss: 0.2967 - accuracy: 0.8921 - val_loss: 1.1162 - val_accuracy: 0.6975 - lr: 0.0010 - 9s/epoch - 50ms/step
Epoch 23/50
176/176 - 9s - loss: 0.2893 - accuracy: 0.8938 - val_loss: 1.1629 - val_accuracy: 0.7016 - lr: 0.0010 - 9s/epoch - 50ms/step
Epoch 24/50
176/176 - 9s - loss: 0.2915 - accuracy: 0.8932 - val_loss: 1.1530 - val_accuracy: 0.7040 - lr: 0.0010 - 9s/epoch - 50ms/step
Epoch 25/50
176/176 - 9s - loss: 0.2942 - accuracy: 0.8930 - val_loss: 1.3023 - val_accuracy: 0.6699 - lr: 0.0010 - 9s/epoch - 50ms/step
Epoch 26/50
176/176 - 9s - loss: 0.2898 - accuracy: 0.8939 - val_loss: 1.2359 - val_accuracy: 0.6871 - lr: 0.0010 - 9s/epoch - 50ms/step
Epoch 27/50
176/176 - 9s - loss: 0.2877 - accuracy: 0.8948 - val_loss: 1.1752 - val_accuracy: 0.6911 - lr: 0.0010 - 9s/epoch - 50ms/step
Epoch 28/50
176/176 - 9s - loss: 0.2871 - accuracy: 0.8959 - val_loss: 1.2080 - val_accuracy: 0.6997 - lr: 0.0010 - 9s/epoch - 51ms/step
Epoch 29/50
176/176 - 9s - loss: 0.2902 - accuracy: 0.8929 - val_loss: 1.1656 - val_accuracy: 0.7016 - lr: 0.0010 - 9s/epoch - 50ms/step
Epoch 30/50
176/176 - 9s - loss: 0.2908 - accuracy: 0.8936 - val_loss: 1.2854 - val_accuracy: 0.6844 - lr: 0.0010 - 9s/epoch - 50ms/step
Epoch 31/50
176/176 - 9s - loss: 0.2913 - accuracy: 0.8928 - val_loss: 1.2079 - val_accuracy: 0.6855 - lr: 0.0010 - 9s/epoch - 50ms/step
Epoch 32/50
176/176 - 9s - loss: 0.2818 - accuracy: 0.8964 - val_loss: 1.2570 - val_accuracy: 0.6826 - lr: 0.0010 - 9s/epoch - 50ms/step
Epoch 33/50
176/176 - 9s - loss: 0.2793 - accuracy: 0.8976 - val_loss: 1.2284 - val_accuracy: 0.6981 - lr: 0.0010 - 9s/epoch - 50ms/step
Epoch 34/50
176/176 - 9s - loss: 0.2832 - accuracy: 0.8964 - val_loss: 1.3080 - val_accuracy: 0.6712 - lr: 0.0010 - 9s/epoch - 51ms/step
Epoch 35/50
176/176 - 9s - loss: 0.2837 - accuracy: 0.8963 - val_loss: 1.2755 - val_accuracy: 0.6942 - lr: 0.0010 - 9s/epoch - 50ms/step
Epoch 36/50
176/176 - 9s - loss: 0.2836 - accuracy: 0.8958 - val_loss: 1.2348 - val_accuracy: 0.6889 - lr: 0.0010 - 9s/epoch - 50ms/step
Epoch 37/50
176/176 - 9s - loss: 0.2858 - accuracy: 0.8952 - val_loss: 1.2383 - val_accuracy: 0.6882 - lr: 0.0010 - 9s/epoch - 50ms/step
Epoch 38/50
176/176 - 9s - loss: 0.2839 - accuracy: 0.8956 - val_loss: 1.2887 - val_accuracy: 0.6777 - lr: 0.0010 - 9s/epoch - 50ms/step
Epoch 39/50
176/176 - 9s - loss: 0.2875 - accuracy: 0.8944 - val_loss: 1.2193 - val_accuracy: 0.6939 - lr: 0.0010 - 9s/epoch - 50ms/step
Epoch 40/50
176/176 - 9s - loss: 0.2878 - accuracy: 0.8946 - val_loss: 1.2254 - val_accuracy: 0.6873 - lr: 0.0010 - 9s/epoch - 51ms/step
Epoch 41/50
176/176 - 9s - loss: 0.2844 - accuracy: 0.8950 - val_loss: 1.2204 - val_accuracy: 0.6971 - lr: 0.0010 - 9s/epoch - 50ms/step
Epoch 42/50
176/176 - 9s - loss: 0.2823 - accuracy: 0.8953 - val_loss: 1.2892 - val_accuracy: 0.6813 - lr: 0.0010 - 9s/epoch - 51ms/step
Epoch 43/50
176/176 - 9s - loss: 0.2870 - accuracy: 0.8940 - val_loss: 1.1883 - val_accuracy: 0.6892 - lr: 0.0010 - 9s/epoch - 50ms/step
Epoch 44/50
176/176 - 9s - loss: 0.2827 - accuracy: 0.8944 - val_loss: 1.2753 - val_accuracy: 0.6826 - lr: 0.0010 - 9s/epoch - 50ms/step
Epoch 45/50
176/176 - 9s - loss: 0.2819 - accuracy: 0.8961 - val_loss: 1.2443 - val_accuracy: 0.6884 - lr: 0.0010 - 9s/epoch - 50ms/step
Epoch 46/50
176/176 - 9s - loss: 0.2832 - accuracy: 0.8967 - val_loss: 1.3260 - val_accuracy: 0.6865 - lr: 0.0010 - 9s/epoch - 51ms/step
Epoch 47/50
176/176 - 9s - loss: 0.2831 - accuracy: 0.8967 - val_loss: 1.2524 - val_accuracy: 0.6974 - lr: 0.0010 - 9s/epoch - 50ms/step
Epoch 48/50
176/176 - 9s - loss: 0.2796 - accuracy: 0.8971 - val_loss: 1.2877 - val_accuracy: 0.6846 - lr: 0.0010 - 9s/epoch - 50ms/step
Epoch 49/50
176/176 - 9s - loss: 0.2829 - accuracy: 0.8951 - val_loss: 1.2094 - val_accuracy: 0.7008 - lr: 0.0010 - 9s/epoch - 51ms/step
Epoch 50/50
176/176 - 9s - loss: 0.2750 - accuracy: 0.8997 - val_loss: 1.2049 - val_accuracy: 0.6996 - lr: 0.0010 - 9s/epoch - 50ms/step
Epoch 1/50
36/36 - 10s - loss: 0.2613 - accuracy: 0.9047 - val_loss: 1.2625 - val_accuracy: 0.6931 - lr: 0.0010 - 10s/epoch - 278ms/step
Epoch 2/50
36/36 - 8s - loss: 0.2531 - accuracy: 0.9085 - val_loss: 1.2841 - val_accuracy: 0.6911 - lr: 0.0010 - 8s/epoch - 214ms/step
Epoch 3/50
36/36 - 8s - loss: 0.2487 - accuracy: 0.9112 - val_loss: 1.2763 - val_accuracy: 0.6996 - lr: 0.0010 - 8s/epoch - 214ms/step
Epoch 4/50
36/36 - 8s - loss: 0.2513 - accuracy: 0.9089 - val_loss: 1.3049 - val_accuracy: 0.6913 - lr: 0.0010 - 8s/epoch - 213ms/step
Epoch 5/50
36/36 - 8s - loss: 0.2524 - accuracy: 0.9087 - val_loss: 1.3192 - val_accuracy: 0.6906 - lr: 0.0010 - 8s/epoch - 214ms/step
Epoch 6/50
36/36 - 8s - loss: 0.2491 - accuracy: 0.9102 - val_loss: 1.3110 - val_accuracy: 0.6933 - lr: 0.0010 - 8s/epoch - 214ms/step
Epoch 7/50
36/36 - 8s - loss: 0.2480 - accuracy: 0.9111 - val_loss: 1.3551 - val_accuracy: 0.6885 - lr: 0.0010 - 8s/epoch - 213ms/step
Epoch 8/50
36/36 - 8s - loss: 0.2457 - accuracy: 0.9115 - val_loss: 1.3032 - val_accuracy: 0.6974 - lr: 0.0010 - 8s/epoch - 214ms/step
Epoch 9/50
36/36 - 8s - loss: 0.2492 - accuracy: 0.9104 - val_loss: 1.3508 - val_accuracy: 0.6906 - lr: 0.0010 - 8s/epoch - 213ms/step
Epoch 10/50
36/36 - 8s - loss: 0.2479 - accuracy: 0.9107 - val_loss: 1.3710 - val_accuracy: 0.6873 - lr: 0.0010 - 8s/epoch - 213ms/step
Epoch 11/50
36/36 - 8s - loss: 0.2477 - accuracy: 0.9115 - val_loss: 1.3534 - val_accuracy: 0.6928 - lr: 0.0010 - 8s/epoch - 214ms/step
Epoch 12/50
36/36 - 8s - loss: 0.2483 - accuracy: 0.9095 - val_loss: 1.3597 - val_accuracy: 0.6955 - lr: 0.0010 - 8s/epoch - 213ms/step
Epoch 13/50
36/36 - 8s - loss: 0.2482 - accuracy: 0.9105 - val_loss: 1.3789 - val_accuracy: 0.6914 - lr: 0.0010 - 8s/epoch - 214ms/step
Epoch 14/50
36/36 - 8s - loss: 0.2471 - accuracy: 0.9115 - val_loss: 1.3792 - val_accuracy: 0.6929 - lr: 0.0010 - 8s/epoch - 214ms/step
Epoch 15/50
36/36 - 8s - loss: 0.2463 - accuracy: 0.9114 - val_loss: 1.3729 - val_accuracy: 0.6954 - lr: 0.0010 - 8s/epoch - 213ms/step
Epoch 16/50
36/36 - 8s - loss: 0.2458 - accuracy: 0.9114 - val_loss: 1.3582 - val_accuracy: 0.6935 - lr: 0.0010 - 8s/epoch - 214ms/step
Epoch 17/50
36/36 - 8s - loss: 0.2438 - accuracy: 0.9125 - val_loss: 1.4176 - val_accuracy: 0.6906 - lr: 0.0010 - 8s/epoch - 214ms/step
Epoch 18/50
36/36 - 8s - loss: 0.2446 - accuracy: 0.9120 - val_loss: 1.3978 - val_accuracy: 0.6924 - lr: 0.0010 - 8s/epoch - 214ms/step
Epoch 19/50
36/36 - 8s - loss: 0.2417 - accuracy: 0.9134 - val_loss: 1.3830 - val_accuracy: 0.6875 - lr: 0.0010 - 8s/epoch - 214ms/step
Epoch 20/50
36/36 - 8s - loss: 0.2454 - accuracy: 0.9118 - val_loss: 1.3791 - val_accuracy: 0.6968 - lr: 0.0010 - 8s/epoch - 214ms/step
Epoch 21/50
36/36 - 8s - loss: 0.2447 - accuracy: 0.9129 - val_loss: 1.3664 - val_accuracy: 0.6929 - lr: 0.0010 - 8s/epoch - 214ms/step
Epoch 22/50
36/36 - 8s - loss: 0.2425 - accuracy: 0.9133 - val_loss: 1.4356 - val_accuracy: 0.6858 - lr: 0.0010 - 8s/epoch - 213ms/step
Epoch 23/50
36/36 - 8s - loss: 0.2397 - accuracy: 0.9138 - val_loss: 1.3598 - val_accuracy: 0.7000 - lr: 0.0010 - 8s/epoch - 215ms/step
Epoch 24/50
36/36 - 8s - loss: 0.2439 - accuracy: 0.9128 - val_loss: 1.3961 - val_accuracy: 0.6945 - lr: 0.0010 - 8s/epoch - 214ms/step
Epoch 25/50
36/36 - 8s - loss: 0.2432 - accuracy: 0.9131 - val_loss: 1.4504 - val_accuracy: 0.6875 - lr: 0.0010 - 8s/epoch - 214ms/step
Epoch 26/50
36/36 - 8s - loss: 0.2405 - accuracy: 0.9128 - val_loss: 1.3760 - val_accuracy: 0.7009 - lr: 0.0010 - 8s/epoch - 214ms/step
Epoch 27/50
36/36 - 8s - loss: 0.2426 - accuracy: 0.9126 - val_loss: 1.4198 - val_accuracy: 0.6913 - lr: 0.0010 - 8s/epoch - 214ms/step
Epoch 28/50
36/36 - 8s - loss: 0.2439 - accuracy: 0.9121 - val_loss: 1.4242 - val_accuracy: 0.6940 - lr: 0.0010 - 8s/epoch - 214ms/step
Epoch 29/50
36/36 - 8s - loss: 0.2412 - accuracy: 0.9130 - val_loss: 1.4207 - val_accuracy: 0.6974 - lr: 0.0010 - 8s/epoch - 214ms/step
Epoch 30/50
36/36 - 8s - loss: 0.2467 - accuracy: 0.9112 - val_loss: 1.4446 - val_accuracy: 0.6869 - lr: 0.0010 - 8s/epoch - 215ms/step
Epoch 31/50
36/36 - 8s - loss: 0.2427 - accuracy: 0.9129 - val_loss: 1.3860 - val_accuracy: 0.7003 - lr: 0.0010 - 8s/epoch - 214ms/step
Epoch 32/50
36/36 - 8s - loss: 0.2414 - accuracy: 0.9138 - val_loss: 1.4277 - val_accuracy: 0.6949 - lr: 0.0010 - 8s/epoch - 214ms/step
Epoch 33/50
36/36 - 8s - loss: 0.2381 - accuracy: 0.9145 - val_loss: 1.4578 - val_accuracy: 0.6904 - lr: 0.0010 - 8s/epoch - 214ms/step
Epoch 34/50
36/36 - 8s - loss: 0.2430 - accuracy: 0.9131 - val_loss: 1.4475 - val_accuracy: 0.6946 - lr: 0.0010 - 8s/epoch - 214ms/step
Epoch 35/50
36/36 - 8s - loss: 0.2422 - accuracy: 0.9138 - val_loss: 1.5161 - val_accuracy: 0.6878 - lr: 0.0010 - 8s/epoch - 215ms/step
Epoch 36/50
36/36 - 8s - loss: 0.2393 - accuracy: 0.9152 - val_loss: 1.4811 - val_accuracy: 0.6906 - lr: 0.0010 - 8s/epoch - 215ms/step
Epoch 37/50
36/36 - 8s - loss: 0.2434 - accuracy: 0.9125 - val_loss: 1.5331 - val_accuracy: 0.6808 - lr: 0.0010 - 8s/epoch - 214ms/step
Epoch 38/50
36/36 - 8s - loss: 0.2401 - accuracy: 0.9142 - val_loss: 1.4903 - val_accuracy: 0.6860 - lr: 0.0010 - 8s/epoch - 214ms/step
Epoch 39/50
36/36 - 8s - loss: 0.2418 - accuracy: 0.9128 - val_loss: 1.4672 - val_accuracy: 0.6896 - lr: 0.0010 - 8s/epoch - 214ms/step
Epoch 40/50
36/36 - 8s - loss: 0.2380 - accuracy: 0.9144 - val_loss: 1.5014 - val_accuracy: 0.6847 - lr: 0.0010 - 8s/epoch - 213ms/step
Epoch 41/50
36/36 - 8s - loss: 0.2392 - accuracy: 0.9139 - val_loss: 1.4897 - val_accuracy: 0.6877 - lr: 0.0010 - 8s/epoch - 214ms/step
Epoch 42/50
36/36 - 8s - loss: 0.2427 - accuracy: 0.9126 - val_loss: 1.4514 - val_accuracy: 0.6920 - lr: 0.0010 - 8s/epoch - 215ms/step
Epoch 43/50
36/36 - 8s - loss: 0.2390 - accuracy: 0.9144 - val_loss: 1.4767 - val_accuracy: 0.6927 - lr: 0.0010 - 8s/epoch - 214ms/step
Epoch 44/50
36/36 - 8s - loss: 0.2351 - accuracy: 0.9161 - val_loss: 1.4840 - val_accuracy: 0.6895 - lr: 0.0010 - 8s/epoch - 215ms/step
Epoch 45/50
36/36 - 8s - loss: 0.2392 - accuracy: 0.9141 - val_loss: 1.4838 - val_accuracy: 0.6926 - lr: 0.0010 - 8s/epoch - 215ms/step
Epoch 46/50
36/36 - 8s - loss: 0.2369 - accuracy: 0.9150 - val_loss: 1.5084 - val_accuracy: 0.6883 - lr: 0.0010 - 8s/epoch - 214ms/step
Epoch 47/50
36/36 - 8s - loss: 0.2387 - accuracy: 0.9143 - val_loss: 1.4981 - val_accuracy: 0.6883 - lr: 0.0010 - 8s/epoch - 214ms/step
Epoch 48/50
36/36 - 8s - loss: 0.2398 - accuracy: 0.9131 - val_loss: 1.4985 - val_accuracy: 0.6908 - lr: 0.0010 - 8s/epoch - 214ms/step
Epoch 49/50
36/36 - 8s - loss: 0.2399 - accuracy: 0.9139 - val_loss: 1.4805 - val_accuracy: 0.6931 - lr: 0.0010 - 8s/epoch - 214ms/step
Epoch 50/50
36/36 - 8s - loss: 0.2385 - accuracy: 0.9145 - val_loss: 1.5063 - val_accuracy: 0.6903 - lr: 0.0010 - 8s/epoch - 214ms/step
Epoch 1/75
4378/4378 - 72s - loss: 0.4071 - accuracy: 0.8496 - val_loss: 1.0458 - val_accuracy: 0.6950 - lr: 0.0010 - 72s/epoch - 17ms/step
Epoch 2/75
4378/4378 - 70s - loss: 0.4065 - accuracy: 0.8477 - val_loss: 0.9669 - val_accuracy: 0.6963 - lr: 0.0010 - 70s/epoch - 16ms/step
Epoch 3/75
4378/4378 - 69s - loss: 0.4095 - accuracy: 0.8462 - val_loss: 0.9061 - val_accuracy: 0.7154 - lr: 0.0010 - 69s/epoch - 16ms/step
Epoch 4/75
4378/4378 - 70s - loss: 0.4156 - accuracy: 0.8435 - val_loss: 0.7539 - val_accuracy: 0.7341 - lr: 0.0010 - 70s/epoch - 16ms/step
Epoch 5/75
4378/4378 - 70s - loss: 0.4092 - accuracy: 0.8472 - val_loss: 0.8669 - val_accuracy: 0.7173 - lr: 0.0010 - 70s/epoch - 16ms/step
Epoch 6/75
4378/4378 - 70s - loss: 0.4086 - accuracy: 0.8467 - val_loss: 0.8555 - val_accuracy: 0.7100 - lr: 0.0010 - 70s/epoch - 16ms/step
Epoch 7/75
4378/4378 - 70s - loss: 0.4107 - accuracy: 0.8461 - val_loss: 0.9507 - val_accuracy: 0.6798 - lr: 0.0010 - 70s/epoch - 16ms/step
Epoch 8/75
4378/4378 - 70s - loss: 0.4110 - accuracy: 0.8458 - val_loss: 0.8247 - val_accuracy: 0.7131 - lr: 0.0010 - 70s/epoch - 16ms/step
Epoch 9/75
4378/4378 - 70s - loss: 0.4145 - accuracy: 0.8449 - val_loss: 0.8699 - val_accuracy: 0.6961 - lr: 0.0010 - 70s/epoch - 16ms/step
Epoch 10/75
4378/4378 - 70s - loss: 0.4122 - accuracy: 0.8457 - val_loss: 0.8335 - val_accuracy: 0.7150 - lr: 0.0010 - 70s/epoch - 16ms/step
Epoch 11/75
4378/4378 - 70s - loss: 0.4136 - accuracy: 0.8453 - val_loss: 0.8020 - val_accuracy: 0.7100 - lr: 0.0010 - 70s/epoch - 16ms/step
Epoch 12/75
4378/4378 - 70s - loss: 0.4123 - accuracy: 0.8453 - val_loss: 0.7762 - val_accuracy: 0.7226 - lr: 0.0010 - 70s/epoch - 16ms/step
Epoch 13/75
4378/4378 - 70s - loss: 0.4112 - accuracy: 0.8457 - val_loss: 0.8410 - val_accuracy: 0.7163 - lr: 0.0010 - 70s/epoch - 16ms/step
Epoch 14/75
4378/4378 - 70s - loss: 0.4110 - accuracy: 0.8458 - val_loss: 0.8242 - val_accuracy: 0.7215 - lr: 0.0010 - 70s/epoch - 16ms/step
Epoch 15/75
4378/4378 - 69s - loss: 0.4151 - accuracy: 0.8443 - val_loss: 0.8800 - val_accuracy: 0.6940 - lr: 0.0010 - 69s/epoch - 16ms/step
Epoch 16/75
4378/4378 - 70s - loss: 0.4080 - accuracy: 0.8486 - val_loss: 0.8224 - val_accuracy: 0.7164 - lr: 0.0010 - 70s/epoch - 16ms/step
Epoch 17/75
4378/4378 - 73s - loss: 0.4064 - accuracy: 0.8475 - val_loss: 0.8700 - val_accuracy: 0.7005 - lr: 0.0010 - 73s/epoch - 17ms/step
Epoch 18/75
4378/4378 - 70s - loss: 0.4097 - accuracy: 0.8469 - val_loss: 0.8373 - val_accuracy: 0.7069 - lr: 0.0010 - 70s/epoch - 16ms/step
Epoch 19/75
4378/4378 - 70s - loss: 0.4075 - accuracy: 0.8470 - val_loss: 0.8852 - val_accuracy: 0.6903 - lr: 0.0010 - 70s/epoch - 16ms/step
Epoch 20/75
4378/4378 - 70s - loss: 0.4074 - accuracy: 0.8469 - val_loss: 0.8271 - val_accuracy: 0.7199 - lr: 0.0010 - 70s/epoch - 16ms/step
Epoch 21/75
4378/4378 - 70s - loss: 0.4092 - accuracy: 0.8459 - val_loss: 0.8406 - val_accuracy: 0.7103 - lr: 0.0010 - 70s/epoch - 16ms/step
Epoch 22/75
4378/4378 - 70s - loss: 0.4109 - accuracy: 0.8465 - val_loss: 0.8345 - val_accuracy: 0.7136 - lr: 0.0010 - 70s/epoch - 16ms/step
Epoch 23/75
4378/4378 - 70s - loss: 0.4060 - accuracy: 0.8488 - val_loss: 0.8490 - val_accuracy: 0.7148 - lr: 0.0010 - 70s/epoch - 16ms/step
Epoch 24/75
4378/4378 - 70s - loss: 0.4079 - accuracy: 0.8463 - val_loss: 0.7915 - val_accuracy: 0.7188 - lr: 0.0010 - 70s/epoch - 16ms/step
Epoch 25/75
4378/4378 - 70s - loss: 0.4076 - accuracy: 0.8470 - val_loss: 0.9123 - val_accuracy: 0.6805 - lr: 0.0010 - 70s/epoch - 16ms/step
Epoch 26/75
4378/4378 - 70s - loss: 0.4054 - accuracy: 0.8477 - val_loss: 0.8345 - val_accuracy: 0.7090 - lr: 0.0010 - 70s/epoch - 16ms/step
Epoch 27/75
4378/4378 - 70s - loss: 0.4049 - accuracy: 0.8469 - val_loss: 0.8836 - val_accuracy: 0.6906 - lr: 0.0010 - 70s/epoch - 16ms/step
Epoch 28/75
4378/4378 - 70s - loss: 0.4052 - accuracy: 0.8480 - val_loss: 0.8022 - val_accuracy: 0.7356 - lr: 0.0010 - 70s/epoch - 16ms/step
Epoch 29/75
4378/4378 - 70s - loss: 0.4056 - accuracy: 0.8480 - val_loss: 0.7838 - val_accuracy: 0.7346 - lr: 0.0010 - 70s/epoch - 16ms/step
Epoch 30/75
4378/4378 - 70s - loss: 0.4032 - accuracy: 0.8498 - val_loss: 0.7678 - val_accuracy: 0.7336 - lr: 0.0010 - 70s/epoch - 16ms/step
Epoch 31/75
4378/4378 - 70s - loss: 0.3995 - accuracy: 0.8517 - val_loss: 0.9074 - val_accuracy: 0.6951 - lr: 0.0010 - 70s/epoch - 16ms/step
Epoch 32/75
4378/4378 - 70s - loss: 0.4032 - accuracy: 0.8487 - val_loss: 0.9374 - val_accuracy: 0.6848 - lr: 0.0010 - 70s/epoch - 16ms/step
Epoch 33/75
4378/4378 - 70s - loss: 0.4040 - accuracy: 0.8491 - val_loss: 0.8427 - val_accuracy: 0.7040 - lr: 0.0010 - 70s/epoch - 16ms/step
Epoch 34/75
4378/4378 - 70s - loss: 0.4023 - accuracy: 0.8491 - val_loss: 0.8307 - val_accuracy: 0.7216 - lr: 0.0010 - 70s/epoch - 16ms/step
Epoch 35/75
4378/4378 - 70s - loss: 0.3968 - accuracy: 0.8512 - val_loss: 0.7265 - val_accuracy: 0.7548 - lr: 0.0010 - 70s/epoch - 16ms/step
Epoch 36/75
4378/4378 - 70s - loss: 0.3969 - accuracy: 0.8525 - val_loss: 0.8205 - val_accuracy: 0.7171 - lr: 0.0010 - 70s/epoch - 16ms/step
Epoch 37/75
4378/4378 - 70s - loss: 0.3981 - accuracy: 0.8509 - val_loss: 0.8030 - val_accuracy: 0.7352 - lr: 0.0010 - 70s/epoch - 16ms/step
Epoch 38/75
4378/4378 - 70s - loss: 0.4036 - accuracy: 0.8487 - val_loss: 0.8571 - val_accuracy: 0.7040 - lr: 0.0010 - 70s/epoch - 16ms/step
Epoch 39/75
4378/4378 - 70s - loss: 0.3981 - accuracy: 0.8509 - val_loss: 0.8889 - val_accuracy: 0.6952 - lr: 0.0010 - 70s/epoch - 16ms/step
Epoch 40/75
4378/4378 - 70s - loss: 0.3951 - accuracy: 0.8525 - val_loss: 0.7792 - val_accuracy: 0.7379 - lr: 0.0010 - 70s/epoch - 16ms/step
Epoch 41/75
4378/4378 - 70s - loss: 0.3963 - accuracy: 0.8513 - val_loss: 0.9876 - val_accuracy: 0.6649 - lr: 0.0010 - 70s/epoch - 16ms/step
Epoch 42/75
4378/4378 - 70s - loss: 0.3983 - accuracy: 0.8508 - val_loss: 0.9218 - val_accuracy: 0.6802 - lr: 0.0010 - 70s/epoch - 16ms/step
Epoch 43/75
4378/4378 - 70s - loss: 0.3999 - accuracy: 0.8488 - val_loss: 0.8260 - val_accuracy: 0.7232 - lr: 0.0010 - 70s/epoch - 16ms/step
Epoch 44/75
4378/4378 - 70s - loss: 0.3979 - accuracy: 0.8507 - val_loss: 0.8834 - val_accuracy: 0.7116 - lr: 0.0010 - 70s/epoch - 16ms/step
Epoch 45/75
4378/4378 - 70s - loss: 0.3947 - accuracy: 0.8528 - val_loss: 0.9556 - val_accuracy: 0.6720 - lr: 0.0010 - 70s/epoch - 16ms/step
Epoch 46/75
4378/4378 - 70s - loss: 0.3933 - accuracy: 0.8529 - val_loss: 0.9587 - val_accuracy: 0.6682 - lr: 0.0010 - 70s/epoch - 16ms/step
Epoch 47/75
4378/4378 - 70s - loss: 0.3938 - accuracy: 0.8525 - val_loss: 0.9034 - val_accuracy: 0.7022 - lr: 0.0010 - 70s/epoch - 16ms/step
Epoch 48/75
4378/4378 - 70s - loss: 0.3949 - accuracy: 0.8533 - val_loss: 0.8939 - val_accuracy: 0.6848 - lr: 0.0010 - 70s/epoch - 16ms/step
Epoch 49/75
4378/4378 - 70s - loss: 0.3941 - accuracy: 0.8525 - val_loss: 0.8577 - val_accuracy: 0.7075 - lr: 0.0010 - 70s/epoch - 16ms/step
Epoch 50/75
4378/4378 - 70s - loss: 0.3937 - accuracy: 0.8532 - val_loss: 0.8354 - val_accuracy: 0.7070 - lr: 0.0010 - 70s/epoch - 16ms/step
Epoch 51/75
4378/4378 - 70s - loss: 0.3896 - accuracy: 0.8541 - val_loss: 0.8571 - val_accuracy: 0.7109 - lr: 0.0010 - 70s/epoch - 16ms/step
Epoch 52/75
4378/4378 - 70s - loss: 0.3901 - accuracy: 0.8540 - val_loss: 0.7582 - val_accuracy: 0.7314 - lr: 0.0010 - 70s/epoch - 16ms/step
Epoch 53/75
4378/4378 - 70s - loss: 0.3915 - accuracy: 0.8532 - val_loss: 0.9104 - val_accuracy: 0.6924 - lr: 0.0010 - 70s/epoch - 16ms/step
Epoch 54/75
4378/4378 - 70s - loss: 0.3880 - accuracy: 0.8546 - val_loss: 0.7847 - val_accuracy: 0.7384 - lr: 0.0010 - 70s/epoch - 16ms/step
Epoch 55/75
4378/4378 - 70s - loss: 0.3916 - accuracy: 0.8536 - val_loss: 0.8450 - val_accuracy: 0.7070 - lr: 0.0010 - 70s/epoch - 16ms/step
Epoch 56/75
4378/4378 - 70s - loss: 0.3901 - accuracy: 0.8547 - val_loss: 0.8726 - val_accuracy: 0.6898 - lr: 0.0010 - 70s/epoch - 16ms/step
Epoch 57/75
4378/4378 - 70s - loss: 0.3881 - accuracy: 0.8547 - val_loss: 0.8270 - val_accuracy: 0.7071 - lr: 0.0010 - 70s/epoch - 16ms/step
Epoch 58/75
4378/4378 - 70s - loss: 0.3837 - accuracy: 0.8567 - val_loss: 0.7886 - val_accuracy: 0.7253 - lr: 0.0010 - 70s/epoch - 16ms/step
Epoch 59/75
4378/4378 - 70s - loss: 0.3863 - accuracy: 0.8556 - val_loss: 0.8124 - val_accuracy: 0.7110 - lr: 0.0010 - 70s/epoch - 16ms/step
Epoch 60/75
4378/4378 - 70s - loss: 0.3865 - accuracy: 0.8555 - val_loss: 0.8708 - val_accuracy: 0.7005 - lr: 0.0010 - 70s/epoch - 16ms/step
Epoch 61/75
4378/4378 - 70s - loss: 0.3900 - accuracy: 0.8552 - val_loss: 0.8217 - val_accuracy: 0.7220 - lr: 0.0010 - 70s/epoch - 16ms/step
Epoch 62/75
4378/4378 - 70s - loss: 0.3901 - accuracy: 0.8542 - val_loss: 0.8771 - val_accuracy: 0.6967 - lr: 0.0010 - 70s/epoch - 16ms/step
Epoch 63/75
4378/4378 - 70s - loss: 0.3857 - accuracy: 0.8559 - val_loss: 0.9256 - val_accuracy: 0.6734 - lr: 0.0010 - 70s/epoch - 16ms/step
Epoch 64/75
4378/4378 - 70s - loss: 0.3788 - accuracy: 0.8596 - val_loss: 0.8262 - val_accuracy: 0.7152 - lr: 0.0010 - 70s/epoch - 16ms/step
Epoch 65/75
4378/4378 - 70s - loss: 0.3796 - accuracy: 0.8578 - val_loss: 0.9177 - val_accuracy: 0.6887 - lr: 0.0010 - 70s/epoch - 16ms/step
Epoch 66/75
4378/4378 - 70s - loss: 0.3814 - accuracy: 0.8564 - val_loss: 0.7920 - val_accuracy: 0.7373 - lr: 0.0010 - 70s/epoch - 16ms/step
Epoch 67/75
4378/4378 - 70s - loss: 0.3822 - accuracy: 0.8578 - val_loss: 0.9688 - val_accuracy: 0.6453 - lr: 0.0010 - 70s/epoch - 16ms/step
Epoch 68/75
4378/4378 - 70s - loss: 0.3862 - accuracy: 0.8551 - val_loss: 0.8228 - val_accuracy: 0.7113 - lr: 0.0010 - 70s/epoch - 16ms/step
Epoch 69/75
4378/4378 - 70s - loss: 0.3813 - accuracy: 0.8572 - val_loss: 0.8031 - val_accuracy: 0.7135 - lr: 0.0010 - 70s/epoch - 16ms/step
Epoch 70/75
4378/4378 - 70s - loss: 0.3821 - accuracy: 0.8568 - val_loss: 0.8794 - val_accuracy: 0.6977 - lr: 0.0010 - 70s/epoch - 16ms/step
Epoch 71/75
4378/4378 - 70s - loss: 0.3807 - accuracy: 0.8580 - val_loss: 0.7995 - val_accuracy: 0.7225 - lr: 0.0010 - 70s/epoch - 16ms/step
Epoch 72/75
4378/4378 - 70s - loss: 0.3824 - accuracy: 0.8563 - val_loss: 0.9268 - val_accuracy: 0.6717 - lr: 0.0010 - 70s/epoch - 16ms/step
Epoch 73/75
4378/4378 - 69s - loss: 0.3795 - accuracy: 0.8583 - val_loss: 0.7443 - val_accuracy: 0.7308 - lr: 0.0010 - 69s/epoch - 16ms/step
Epoch 74/75
4378/4378 - 70s - loss: 0.3835 - accuracy: 0.8569 - val_loss: 0.9504 - val_accuracy: 0.6759 - lr: 0.0010 - 70s/epoch - 16ms/step
Epoch 75/75
4378/4378 - 70s - loss: 0.3743 - accuracy: 0.8588 - val_loss: 0.9908 - val_accuracy: 0.6627 - lr: 0.0010 - 70s/epoch - 16ms/step
Epoch 1/75
876/876 - 20s - loss: 0.3072 - accuracy: 0.8852 - val_loss: 0.9551 - val_accuracy: 0.6982 - lr: 0.0010 - 20s/epoch - 23ms/step
Epoch 2/75
876/876 - 18s - loss: 0.3121 - accuracy: 0.8837 - val_loss: 0.9468 - val_accuracy: 0.6991 - lr: 0.0010 - 18s/epoch - 20ms/step
Epoch 3/75
876/876 - 18s - loss: 0.3130 - accuracy: 0.8837 - val_loss: 1.0567 - val_accuracy: 0.6823 - lr: 0.0010 - 18s/epoch - 20ms/step
Epoch 4/75
876/876 - 18s - loss: 0.3087 - accuracy: 0.8845 - val_loss: 0.8204 - val_accuracy: 0.7329 - lr: 0.0010 - 18s/epoch - 20ms/step
Epoch 5/75
876/876 - 18s - loss: 0.3102 - accuracy: 0.8848 - val_loss: 0.8934 - val_accuracy: 0.7279 - lr: 0.0010 - 18s/epoch - 20ms/step
Epoch 6/75
876/876 - 18s - loss: 0.3035 - accuracy: 0.8860 - val_loss: 0.9921 - val_accuracy: 0.6907 - lr: 0.0010 - 18s/epoch - 20ms/step
Epoch 7/75
876/876 - 18s - loss: 0.3036 - accuracy: 0.8870 - val_loss: 0.9383 - val_accuracy: 0.7053 - lr: 0.0010 - 18s/epoch - 20ms/step
Epoch 8/75
876/876 - 18s - loss: 0.3009 - accuracy: 0.8877 - val_loss: 0.9955 - val_accuracy: 0.6929 - lr: 0.0010 - 18s/epoch - 20ms/step
Epoch 9/75
876/876 - 18s - loss: 0.3005 - accuracy: 0.8887 - val_loss: 1.0208 - val_accuracy: 0.6903 - lr: 0.0010 - 18s/epoch - 20ms/step
Epoch 10/75
876/876 - 18s - loss: 0.3012 - accuracy: 0.8871 - val_loss: 0.9720 - val_accuracy: 0.7042 - lr: 0.0010 - 18s/epoch - 20ms/step
Epoch 11/75
876/876 - 18s - loss: 0.2981 - accuracy: 0.8902 - val_loss: 1.0854 - val_accuracy: 0.6732 - lr: 0.0010 - 18s/epoch - 20ms/step
Epoch 12/75
876/876 - 18s - loss: 0.2970 - accuracy: 0.8888 - val_loss: 1.0124 - val_accuracy: 0.6938 - lr: 0.0010 - 18s/epoch - 20ms/step
Epoch 13/75
876/876 - 18s - loss: 0.2951 - accuracy: 0.8902 - val_loss: 0.9819 - val_accuracy: 0.6983 - lr: 0.0010 - 18s/epoch - 20ms/step
Epoch 14/75
876/876 - 18s - loss: 0.2971 - accuracy: 0.8894 - val_loss: 1.0889 - val_accuracy: 0.6859 - lr: 0.0010 - 18s/epoch - 20ms/step
Epoch 15/75
876/876 - 18s - loss: 0.2939 - accuracy: 0.8905 - val_loss: 1.1448 - val_accuracy: 0.6715 - lr: 0.0010 - 18s/epoch - 20ms/step
Epoch 16/75
876/876 - 18s - loss: 0.2912 - accuracy: 0.8915 - val_loss: 1.0407 - val_accuracy: 0.7003 - lr: 0.0010 - 18s/epoch - 20ms/step
Epoch 17/75
876/876 - 18s - loss: 0.2929 - accuracy: 0.8913 - val_loss: 1.0809 - val_accuracy: 0.6841 - lr: 0.0010 - 18s/epoch - 20ms/step
Epoch 18/75
876/876 - 18s - loss: 0.2925 - accuracy: 0.8906 - val_loss: 1.0327 - val_accuracy: 0.6856 - lr: 0.0010 - 18s/epoch - 20ms/step
Epoch 19/75
876/876 - 18s - loss: 0.2901 - accuracy: 0.8920 - val_loss: 0.9947 - val_accuracy: 0.7031 - lr: 0.0010 - 18s/epoch - 20ms/step
Epoch 20/75
876/876 - 18s - loss: 0.2896 - accuracy: 0.8925 - val_loss: 1.0715 - val_accuracy: 0.6855 - lr: 0.0010 - 18s/epoch - 20ms/step
Epoch 21/75
876/876 - 18s - loss: 0.2890 - accuracy: 0.8917 - val_loss: 1.0658 - val_accuracy: 0.6851 - lr: 0.0010 - 18s/epoch - 20ms/step
Epoch 22/75
876/876 - 18s - loss: 0.2909 - accuracy: 0.8914 - val_loss: 1.0414 - val_accuracy: 0.6870 - lr: 0.0010 - 18s/epoch - 20ms/step
Epoch 23/75
876/876 - 18s - loss: 0.2874 - accuracy: 0.8928 - val_loss: 0.9811 - val_accuracy: 0.7037 - lr: 0.0010 - 18s/epoch - 20ms/step
Epoch 24/75
876/876 - 18s - loss: 0.2879 - accuracy: 0.8931 - val_loss: 1.0033 - val_accuracy: 0.6982 - lr: 0.0010 - 18s/epoch - 20ms/step
Epoch 25/75
876/876 - 18s - loss: 0.2891 - accuracy: 0.8928 - val_loss: 1.0164 - val_accuracy: 0.7007 - lr: 0.0010 - 18s/epoch - 20ms/step
Epoch 26/75
876/876 - 18s - loss: 0.2848 - accuracy: 0.8946 - val_loss: 1.0869 - val_accuracy: 0.6852 - lr: 0.0010 - 18s/epoch - 20ms/step
Epoch 27/75
876/876 - 18s - loss: 0.2846 - accuracy: 0.8947 - val_loss: 1.1085 - val_accuracy: 0.6793 - lr: 0.0010 - 18s/epoch - 20ms/step
Epoch 28/75
876/876 - 18s - loss: 0.2861 - accuracy: 0.8928 - val_loss: 0.9786 - val_accuracy: 0.7093 - lr: 0.0010 - 18s/epoch - 20ms/step
Epoch 29/75
876/876 - 18s - loss: 0.2855 - accuracy: 0.8943 - val_loss: 0.9298 - val_accuracy: 0.7205 - lr: 0.0010 - 18s/epoch - 20ms/step
Epoch 30/75
876/876 - 18s - loss: 0.2835 - accuracy: 0.8933 - val_loss: 0.8972 - val_accuracy: 0.7230 - lr: 0.0010 - 18s/epoch - 20ms/step
Epoch 31/75
876/876 - 18s - loss: 0.2807 - accuracy: 0.8963 - val_loss: 1.0704 - val_accuracy: 0.6864 - lr: 0.0010 - 18s/epoch - 20ms/step
Epoch 32/75
876/876 - 18s - loss: 0.2811 - accuracy: 0.8955 - val_loss: 0.9744 - val_accuracy: 0.7028 - lr: 0.0010 - 18s/epoch - 20ms/step
Epoch 33/75
876/876 - 18s - loss: 0.2825 - accuracy: 0.8946 - val_loss: 0.9779 - val_accuracy: 0.7107 - lr: 0.0010 - 18s/epoch - 20ms/step
Epoch 34/75
876/876 - 18s - loss: 0.2786 - accuracy: 0.8969 - val_loss: 0.9877 - val_accuracy: 0.7047 - lr: 0.0010 - 18s/epoch - 20ms/step
Epoch 35/75
876/876 - 18s - loss: 0.2800 - accuracy: 0.8960 - val_loss: 1.0227 - val_accuracy: 0.6981 - lr: 0.0010 - 18s/epoch - 20ms/step
Epoch 36/75
876/876 - 18s - loss: 0.2762 - accuracy: 0.8978 - val_loss: 1.1049 - val_accuracy: 0.6792 - lr: 0.0010 - 18s/epoch - 20ms/step
Epoch 37/75
876/876 - 18s - loss: 0.2795 - accuracy: 0.8963 - val_loss: 1.0979 - val_accuracy: 0.6978 - lr: 0.0010 - 18s/epoch - 20ms/step
Epoch 38/75
876/876 - 18s - loss: 0.2749 - accuracy: 0.8980 - val_loss: 1.0603 - val_accuracy: 0.6931 - lr: 0.0010 - 18s/epoch - 20ms/step
Epoch 39/75
876/876 - 18s - loss: 0.2783 - accuracy: 0.8965 - val_loss: 1.0806 - val_accuracy: 0.6939 - lr: 0.0010 - 18s/epoch - 20ms/step
Epoch 40/75
876/876 - 18s - loss: 0.2761 - accuracy: 0.8969 - val_loss: 1.0204 - val_accuracy: 0.7146 - lr: 0.0010 - 18s/epoch - 20ms/step
Epoch 41/75
876/876 - 18s - loss: 0.2791 - accuracy: 0.8962 - val_loss: 1.0350 - val_accuracy: 0.7056 - lr: 0.0010 - 18s/epoch - 20ms/step
Epoch 42/75
876/876 - 18s - loss: 0.2770 - accuracy: 0.8966 - val_loss: 1.0638 - val_accuracy: 0.7045 - lr: 0.0010 - 18s/epoch - 20ms/step
Epoch 43/75
876/876 - 18s - loss: 0.2768 - accuracy: 0.8975 - val_loss: 1.0487 - val_accuracy: 0.7064 - lr: 0.0010 - 18s/epoch - 20ms/step
Epoch 44/75
876/876 - 18s - loss: 0.2802 - accuracy: 0.8957 - val_loss: 0.9986 - val_accuracy: 0.7093 - lr: 0.0010 - 18s/epoch - 20ms/step
Epoch 45/75
876/876 - 18s - loss: 0.2755 - accuracy: 0.8975 - val_loss: 1.0326 - val_accuracy: 0.7041 - lr: 0.0010 - 18s/epoch - 20ms/step
Epoch 46/75
876/876 - 19s - loss: 0.2744 - accuracy: 0.8980 - val_loss: 0.9820 - val_accuracy: 0.7147 - lr: 0.0010 - 19s/epoch - 21ms/step
Epoch 47/75
876/876 - 18s - loss: 0.2746 - accuracy: 0.8973 - val_loss: 1.0291 - val_accuracy: 0.7081 - lr: 0.0010 - 18s/epoch - 20ms/step
Epoch 48/75
876/876 - 18s - loss: 0.2749 - accuracy: 0.8974 - val_loss: 1.0204 - val_accuracy: 0.7088 - lr: 0.0010 - 18s/epoch - 20ms/step
Epoch 49/75
876/876 - 18s - loss: 0.2730 - accuracy: 0.8980 - val_loss: 1.1502 - val_accuracy: 0.6827 - lr: 0.0010 - 18s/epoch - 20ms/step
Epoch 50/75
876/876 - 18s - loss: 0.2710 - accuracy: 0.8996 - val_loss: 0.9634 - val_accuracy: 0.7215 - lr: 0.0010 - 18s/epoch - 20ms/step
Epoch 51/75
876/876 - 18s - loss: 0.2723 - accuracy: 0.8985 - val_loss: 1.0184 - val_accuracy: 0.7143 - lr: 0.0010 - 18s/epoch - 20ms/step
Epoch 52/75
876/876 - 18s - loss: 0.2735 - accuracy: 0.8977 - val_loss: 1.1138 - val_accuracy: 0.6918 - lr: 0.0010 - 18s/epoch - 20ms/step
Epoch 53/75
876/876 - 18s - loss: 0.2721 - accuracy: 0.8987 - val_loss: 1.0590 - val_accuracy: 0.7012 - lr: 0.0010 - 18s/epoch - 20ms/step
Epoch 54/75
876/876 - 18s - loss: 0.2712 - accuracy: 0.8990 - val_loss: 1.0077 - val_accuracy: 0.7156 - lr: 0.0010 - 18s/epoch - 20ms/step
Epoch 55/75
876/876 - 18s - loss: 0.2692 - accuracy: 0.8990 - val_loss: 1.0235 - val_accuracy: 0.7171 - lr: 0.0010 - 18s/epoch - 20ms/step
Epoch 56/75
876/876 - 18s - loss: 0.2661 - accuracy: 0.9008 - val_loss: 1.0661 - val_accuracy: 0.7072 - lr: 0.0010 - 18s/epoch - 20ms/step
Epoch 57/75
876/876 - 18s - loss: 0.2707 - accuracy: 0.8986 - val_loss: 1.0207 - val_accuracy: 0.7261 - lr: 0.0010 - 18s/epoch - 20ms/step
Epoch 58/75
876/876 - 18s - loss: 0.2678 - accuracy: 0.9005 - val_loss: 1.0510 - val_accuracy: 0.7014 - lr: 0.0010 - 18s/epoch - 20ms/step
Epoch 59/75
876/876 - 18s - loss: 0.2697 - accuracy: 0.9004 - val_loss: 1.0748 - val_accuracy: 0.6942 - lr: 0.0010 - 18s/epoch - 20ms/step
Epoch 60/75
876/876 - 18s - loss: 0.2696 - accuracy: 0.9006 - val_loss: 1.0781 - val_accuracy: 0.6938 - lr: 0.0010 - 18s/epoch - 20ms/step
Epoch 61/75
876/876 - 18s - loss: 0.2696 - accuracy: 0.8990 - val_loss: 1.0887 - val_accuracy: 0.6918 - lr: 0.0010 - 18s/epoch - 20ms/step
Epoch 62/75
876/876 - 18s - loss: 0.2674 - accuracy: 0.9003 - val_loss: 1.1300 - val_accuracy: 0.6983 - lr: 0.0010 - 18s/epoch - 20ms/step
Epoch 63/75
876/876 - 18s - loss: 0.2669 - accuracy: 0.9014 - val_loss: 0.9966 - val_accuracy: 0.7166 - lr: 0.0010 - 18s/epoch - 20ms/step
Epoch 64/75
876/876 - 18s - loss: 0.2654 - accuracy: 0.9015 - val_loss: 1.1044 - val_accuracy: 0.6934 - lr: 0.0010 - 18s/epoch - 21ms/step
Epoch 65/75
876/876 - 18s - loss: 0.2666 - accuracy: 0.9018 - val_loss: 1.1109 - val_accuracy: 0.6855 - lr: 0.0010 - 18s/epoch - 20ms/step
Epoch 66/75
876/876 - 18s - loss: 0.2651 - accuracy: 0.9028 - val_loss: 1.1746 - val_accuracy: 0.6776 - lr: 0.0010 - 18s/epoch - 20ms/step
Epoch 67/75
876/876 - 18s - loss: 0.2650 - accuracy: 0.9011 - val_loss: 0.9987 - val_accuracy: 0.7131 - lr: 0.0010 - 18s/epoch - 20ms/step
Epoch 68/75
876/876 - 18s - loss: 0.2683 - accuracy: 0.8998 - val_loss: 1.0302 - val_accuracy: 0.7070 - lr: 0.0010 - 18s/epoch - 20ms/step
Epoch 69/75
876/876 - 18s - loss: 0.2642 - accuracy: 0.9016 - val_loss: 1.1415 - val_accuracy: 0.6890 - lr: 0.0010 - 18s/epoch - 20ms/step
Epoch 70/75
876/876 - 18s - loss: 0.2650 - accuracy: 0.9016 - val_loss: 1.1951 - val_accuracy: 0.6884 - lr: 0.0010 - 18s/epoch - 20ms/step
Epoch 71/75
876/876 - 18s - loss: 0.2608 - accuracy: 0.9038 - val_loss: 0.9748 - val_accuracy: 0.7208 - lr: 0.0010 - 18s/epoch - 20ms/step
Epoch 72/75
876/876 - 18s - loss: 0.2603 - accuracy: 0.9033 - val_loss: 1.1649 - val_accuracy: 0.6918 - lr: 0.0010 - 18s/epoch - 20ms/step
Epoch 73/75
876/876 - 18s - loss: 0.2610 - accuracy: 0.9034 - val_loss: 1.0099 - val_accuracy: 0.7192 - lr: 0.0010 - 18s/epoch - 20ms/step
Epoch 74/75
876/876 - 18s - loss: 0.2590 - accuracy: 0.9041 - val_loss: 1.1551 - val_accuracy: 0.6799 - lr: 0.0010 - 18s/epoch - 20ms/step
Epoch 75/75
876/876 - 18s - loss: 0.2636 - accuracy: 0.9027 - val_loss: 1.1015 - val_accuracy: 0.6987 - lr: 0.0010 - 18s/epoch - 20ms/step
Epoch 1/75
176/176 - 11s - loss: 0.2179 - accuracy: 0.9207 - val_loss: 1.1613 - val_accuracy: 0.6979 - lr: 0.0010 - 11s/epoch - 64ms/step
Epoch 2/75
176/176 - 9s - loss: 0.2040 - accuracy: 0.9263 - val_loss: 1.2521 - val_accuracy: 0.6917 - lr: 0.0010 - 9s/epoch - 51ms/step
Epoch 3/75
176/176 - 9s - loss: 0.2012 - accuracy: 0.9270 - val_loss: 1.2035 - val_accuracy: 0.7061 - lr: 0.0010 - 9s/epoch - 51ms/step
Epoch 4/75
176/176 - 9s - loss: 0.2004 - accuracy: 0.9269 - val_loss: 1.2215 - val_accuracy: 0.7040 - lr: 0.0010 - 9s/epoch - 50ms/step
Epoch 5/75
176/176 - 9s - loss: 0.2014 - accuracy: 0.9264 - val_loss: 1.2925 - val_accuracy: 0.6958 - lr: 0.0010 - 9s/epoch - 50ms/step
Epoch 6/75
176/176 - 9s - loss: 0.2044 - accuracy: 0.9261 - val_loss: 1.3343 - val_accuracy: 0.6873 - lr: 0.0010 - 9s/epoch - 51ms/step
Epoch 7/75
176/176 - 9s - loss: 0.2071 - accuracy: 0.9248 - val_loss: 1.3092 - val_accuracy: 0.7000 - lr: 0.0010 - 9s/epoch - 51ms/step
Epoch 8/75
176/176 - 9s - loss: 0.2090 - accuracy: 0.9240 - val_loss: 1.2894 - val_accuracy: 0.6980 - lr: 0.0010 - 9s/epoch - 51ms/step
Epoch 9/75
176/176 - 9s - loss: 0.2072 - accuracy: 0.9240 - val_loss: 1.3251 - val_accuracy: 0.6965 - lr: 0.0010 - 9s/epoch - 51ms/step
Epoch 10/75
176/176 - 9s - loss: 0.2089 - accuracy: 0.9232 - val_loss: 1.3813 - val_accuracy: 0.6791 - lr: 0.0010 - 9s/epoch - 51ms/step
Epoch 11/75
176/176 - 9s - loss: 0.2077 - accuracy: 0.9244 - val_loss: 1.2939 - val_accuracy: 0.6990 - lr: 0.0010 - 9s/epoch - 50ms/step
Epoch 12/75
176/176 - 9s - loss: 0.2098 - accuracy: 0.9235 - val_loss: 1.3033 - val_accuracy: 0.7003 - lr: 0.0010 - 9s/epoch - 50ms/step
Epoch 13/75
176/176 - 9s - loss: 0.2077 - accuracy: 0.9236 - val_loss: 1.4226 - val_accuracy: 0.6839 - lr: 0.0010 - 9s/epoch - 51ms/step
Epoch 14/75
176/176 - 9s - loss: 0.2077 - accuracy: 0.9230 - val_loss: 1.4227 - val_accuracy: 0.6862 - lr: 0.0010 - 9s/epoch - 51ms/step
Epoch 15/75
176/176 - 9s - loss: 0.2111 - accuracy: 0.9229 - val_loss: 1.2146 - val_accuracy: 0.7157 - lr: 0.0010 - 9s/epoch - 51ms/step
Epoch 16/75
176/176 - 9s - loss: 0.2040 - accuracy: 0.9251 - val_loss: 1.4004 - val_accuracy: 0.6864 - lr: 0.0010 - 9s/epoch - 50ms/step
Epoch 17/75
176/176 - 9s - loss: 0.2030 - accuracy: 0.9262 - val_loss: 1.3357 - val_accuracy: 0.7057 - lr: 0.0010 - 9s/epoch - 50ms/step
Epoch 18/75
176/176 - 9s - loss: 0.1984 - accuracy: 0.9278 - val_loss: 1.3425 - val_accuracy: 0.7040 - lr: 0.0010 - 9s/epoch - 50ms/step
Epoch 19/75
176/176 - 9s - loss: 0.1997 - accuracy: 0.9260 - val_loss: 1.5228 - val_accuracy: 0.6775 - lr: 0.0010 - 9s/epoch - 51ms/step
Epoch 20/75
176/176 - 9s - loss: 0.2034 - accuracy: 0.9254 - val_loss: 1.3138 - val_accuracy: 0.7063 - lr: 0.0010 - 9s/epoch - 51ms/step
Epoch 21/75
176/176 - 9s - loss: 0.2009 - accuracy: 0.9268 - val_loss: 1.3042 - val_accuracy: 0.7099 - lr: 0.0010 - 9s/epoch - 51ms/step
Epoch 22/75
176/176 - 9s - loss: 0.2043 - accuracy: 0.9261 - val_loss: 1.4311 - val_accuracy: 0.6810 - lr: 0.0010 - 9s/epoch - 51ms/step
Epoch 23/75
176/176 - 9s - loss: 0.2027 - accuracy: 0.9260 - val_loss: 1.3952 - val_accuracy: 0.6939 - lr: 0.0010 - 9s/epoch - 51ms/step
Epoch 24/75
176/176 - 9s - loss: 0.2000 - accuracy: 0.9263 - val_loss: 1.3867 - val_accuracy: 0.7014 - lr: 0.0010 - 9s/epoch - 51ms/step
Epoch 25/75
176/176 - 9s - loss: 0.2030 - accuracy: 0.9262 - val_loss: 1.4155 - val_accuracy: 0.6990 - lr: 0.0010 - 9s/epoch - 51ms/step
Epoch 26/75
176/176 - 9s - loss: 0.2038 - accuracy: 0.9250 - val_loss: 1.4731 - val_accuracy: 0.6849 - lr: 0.0010 - 9s/epoch - 50ms/step
Epoch 27/75
176/176 - 9s - loss: 0.2050 - accuracy: 0.9254 - val_loss: 1.3915 - val_accuracy: 0.7027 - lr: 0.0010 - 9s/epoch - 50ms/step
Epoch 28/75
176/176 - 9s - loss: 0.2010 - accuracy: 0.9260 - val_loss: 1.4403 - val_accuracy: 0.6916 - lr: 0.0010 - 9s/epoch - 50ms/step
Epoch 29/75
176/176 - 9s - loss: 0.1991 - accuracy: 0.9271 - val_loss: 1.4949 - val_accuracy: 0.6829 - lr: 0.0010 - 9s/epoch - 50ms/step
Epoch 30/75
176/176 - 9s - loss: 0.1991 - accuracy: 0.9274 - val_loss: 1.4607 - val_accuracy: 0.6941 - lr: 0.0010 - 9s/epoch - 51ms/step
Epoch 31/75
176/176 - 9s - loss: 0.1993 - accuracy: 0.9271 - val_loss: 1.4304 - val_accuracy: 0.6998 - lr: 0.0010 - 9s/epoch - 51ms/step
Epoch 32/75
176/176 - 9s - loss: 0.1991 - accuracy: 0.9279 - val_loss: 1.4174 - val_accuracy: 0.7058 - lr: 0.0010 - 9s/epoch - 51ms/step
Epoch 33/75
176/176 - 9s - loss: 0.1992 - accuracy: 0.9273 - val_loss: 1.4619 - val_accuracy: 0.6916 - lr: 0.0010 - 9s/epoch - 51ms/step
Epoch 34/75
176/176 - 9s - loss: 0.1953 - accuracy: 0.9285 - val_loss: 1.4187 - val_accuracy: 0.6997 - lr: 0.0010 - 9s/epoch - 51ms/step
Epoch 35/75
176/176 - 9s - loss: 0.1969 - accuracy: 0.9274 - val_loss: 1.4397 - val_accuracy: 0.7031 - lr: 0.0010 - 9s/epoch - 50ms/step
Epoch 36/75
176/176 - 9s - loss: 0.1979 - accuracy: 0.9275 - val_loss: 1.6536 - val_accuracy: 0.6806 - lr: 0.0010 - 9s/epoch - 51ms/step
Epoch 37/75
176/176 - 9s - loss: 0.1950 - accuracy: 0.9282 - val_loss: 1.5488 - val_accuracy: 0.6906 - lr: 0.0010 - 9s/epoch - 51ms/step
Epoch 38/75
176/176 - 9s - loss: 0.1956 - accuracy: 0.9282 - val_loss: 1.4731 - val_accuracy: 0.6988 - lr: 0.0010 - 9s/epoch - 50ms/step
Epoch 39/75
176/176 - 9s - loss: 0.1941 - accuracy: 0.9294 - val_loss: 1.4973 - val_accuracy: 0.6987 - lr: 0.0010 - 9s/epoch - 51ms/step
Epoch 40/75
176/176 - 9s - loss: 0.1973 - accuracy: 0.9265 - val_loss: 1.4450 - val_accuracy: 0.7018 - lr: 0.0010 - 9s/epoch - 51ms/step
Epoch 41/75
176/176 - 9s - loss: 0.1971 - accuracy: 0.9280 - val_loss: 1.4716 - val_accuracy: 0.7006 - lr: 0.0010 - 9s/epoch - 50ms/step
Epoch 42/75
176/176 - 9s - loss: 0.1950 - accuracy: 0.9282 - val_loss: 1.5038 - val_accuracy: 0.6840 - lr: 0.0010 - 9s/epoch - 51ms/step
Epoch 43/75
176/176 - 9s - loss: 0.1961 - accuracy: 0.9279 - val_loss: 1.5287 - val_accuracy: 0.6944 - lr: 0.0010 - 9s/epoch - 50ms/step
Epoch 44/75
176/176 - 9s - loss: 0.1923 - accuracy: 0.9298 - val_loss: 1.5253 - val_accuracy: 0.6948 - lr: 0.0010 - 9s/epoch - 51ms/step
Epoch 45/75
176/176 - 9s - loss: 0.1964 - accuracy: 0.9283 - val_loss: 1.4239 - val_accuracy: 0.7107 - lr: 0.0010 - 9s/epoch - 51ms/step
Epoch 46/75
176/176 - 9s - loss: 0.1953 - accuracy: 0.9294 - val_loss: 1.6413 - val_accuracy: 0.6816 - lr: 0.0010 - 9s/epoch - 51ms/step
Epoch 47/75
176/176 - 9s - loss: 0.1928 - accuracy: 0.9293 - val_loss: 1.4848 - val_accuracy: 0.7082 - lr: 0.0010 - 9s/epoch - 51ms/step
Epoch 48/75
176/176 - 9s - loss: 0.1907 - accuracy: 0.9302 - val_loss: 1.4769 - val_accuracy: 0.7019 - lr: 0.0010 - 9s/epoch - 51ms/step
Epoch 49/75
176/176 - 9s - loss: 0.1894 - accuracy: 0.9300 - val_loss: 1.5403 - val_accuracy: 0.6950 - lr: 0.0010 - 9s/epoch - 50ms/step
Epoch 50/75
176/176 - 9s - loss: 0.1906 - accuracy: 0.9300 - val_loss: 1.5692 - val_accuracy: 0.6892 - lr: 0.0010 - 9s/epoch - 51ms/step
Epoch 51/75
176/176 - 9s - loss: 0.1864 - accuracy: 0.9326 - val_loss: 1.4547 - val_accuracy: 0.7021 - lr: 0.0010 - 9s/epoch - 50ms/step
Epoch 52/75
176/176 - 9s - loss: 0.1856 - accuracy: 0.9323 - val_loss: 1.5826 - val_accuracy: 0.6883 - lr: 0.0010 - 9s/epoch - 51ms/step
Epoch 53/75
176/176 - 9s - loss: 0.1859 - accuracy: 0.9317 - val_loss: 1.5794 - val_accuracy: 0.6922 - lr: 0.0010 - 9s/epoch - 51ms/step
Epoch 54/75
176/176 - 9s - loss: 0.1860 - accuracy: 0.9323 - val_loss: 1.6546 - val_accuracy: 0.6900 - lr: 0.0010 - 9s/epoch - 51ms/step
Epoch 55/75
176/176 - 9s - loss: 0.1886 - accuracy: 0.9315 - val_loss: 1.4806 - val_accuracy: 0.7042 - lr: 0.0010 - 9s/epoch - 51ms/step
Epoch 56/75
176/176 - 9s - loss: 0.1885 - accuracy: 0.9315 - val_loss: 1.5122 - val_accuracy: 0.6994 - lr: 0.0010 - 9s/epoch - 51ms/step
Epoch 57/75
176/176 - 9s - loss: 0.1922 - accuracy: 0.9299 - val_loss: 1.6075 - val_accuracy: 0.6898 - lr: 0.0010 - 9s/epoch - 50ms/step
Epoch 58/75
176/176 - 9s - loss: 0.1860 - accuracy: 0.9322 - val_loss: 1.5780 - val_accuracy: 0.6903 - lr: 0.0010 - 9s/epoch - 51ms/step
Epoch 59/75
176/176 - 9s - loss: 0.1850 - accuracy: 0.9330 - val_loss: 1.5804 - val_accuracy: 0.6951 - lr: 0.0010 - 9s/epoch - 50ms/step
Epoch 60/75
176/176 - 9s - loss: 0.1823 - accuracy: 0.9340 - val_loss: 1.5868 - val_accuracy: 0.6932 - lr: 0.0010 - 9s/epoch - 51ms/step
Epoch 61/75
176/176 - 9s - loss: 0.1868 - accuracy: 0.9316 - val_loss: 1.6079 - val_accuracy: 0.6894 - lr: 0.0010 - 9s/epoch - 51ms/step
Epoch 62/75
176/176 - 9s - loss: 0.1866 - accuracy: 0.9324 - val_loss: 1.5408 - val_accuracy: 0.7014 - lr: 0.0010 - 9s/epoch - 51ms/step
Epoch 63/75
176/176 - 9s - loss: 0.1833 - accuracy: 0.9332 - val_loss: 1.5816 - val_accuracy: 0.6987 - lr: 0.0010 - 9s/epoch - 50ms/step
Epoch 64/75
176/176 - 9s - loss: 0.1832 - accuracy: 0.9333 - val_loss: 1.6040 - val_accuracy: 0.6875 - lr: 0.0010 - 9s/epoch - 51ms/step
Epoch 65/75
176/176 - 9s - loss: 0.1864 - accuracy: 0.9321 - val_loss: 1.5526 - val_accuracy: 0.6995 - lr: 0.0010 - 9s/epoch - 51ms/step
Epoch 66/75
176/176 - 9s - loss: 0.1844 - accuracy: 0.9322 - val_loss: 1.5864 - val_accuracy: 0.6980 - lr: 0.0010 - 9s/epoch - 51ms/step
Epoch 67/75
176/176 - 9s - loss: 0.1891 - accuracy: 0.9319 - val_loss: 1.4886 - val_accuracy: 0.7099 - lr: 0.0010 - 9s/epoch - 51ms/step
Epoch 68/75
176/176 - 9s - loss: 0.1820 - accuracy: 0.9338 - val_loss: 1.6163 - val_accuracy: 0.7019 - lr: 0.0010 - 9s/epoch - 51ms/step
Epoch 69/75
176/176 - 9s - loss: 0.1829 - accuracy: 0.9330 - val_loss: 1.5991 - val_accuracy: 0.6981 - lr: 0.0010 - 9s/epoch - 50ms/step
Epoch 70/75
176/176 - 9s - loss: 0.1847 - accuracy: 0.9318 - val_loss: 1.6601 - val_accuracy: 0.6927 - lr: 0.0010 - 9s/epoch - 51ms/step
Epoch 71/75
176/176 - 9s - loss: 0.1839 - accuracy: 0.9317 - val_loss: 1.6265 - val_accuracy: 0.6942 - lr: 0.0010 - 9s/epoch - 50ms/step
Epoch 72/75
176/176 - 9s - loss: 0.1858 - accuracy: 0.9331 - val_loss: 1.7827 - val_accuracy: 0.6807 - lr: 0.0010 - 9s/epoch - 51ms/step
Epoch 73/75
176/176 - 9s - loss: 0.1813 - accuracy: 0.9337 - val_loss: 1.7208 - val_accuracy: 0.6920 - lr: 0.0010 - 9s/epoch - 52ms/step
Epoch 74/75
176/176 - 9s - loss: 0.1834 - accuracy: 0.9336 - val_loss: 1.6610 - val_accuracy: 0.6959 - lr: 0.0010 - 9s/epoch - 51ms/step
Epoch 75/75
176/176 - 9s - loss: 0.1856 - accuracy: 0.9325 - val_loss: 1.5848 - val_accuracy: 0.7001 - lr: 0.0010 - 9s/epoch - 51ms/step
Epoch 1/75
36/36 - 10s - loss: 0.1711 - accuracy: 0.9376 - val_loss: 1.6258 - val_accuracy: 0.6990 - lr: 0.0010 - 10s/epoch - 282ms/step
Epoch 2/75
36/36 - 8s - loss: 0.1607 - accuracy: 0.9419 - val_loss: 1.7298 - val_accuracy: 0.6914 - lr: 0.0010 - 8s/epoch - 212ms/step
Epoch 3/75
36/36 - 8s - loss: 0.1600 - accuracy: 0.9428 - val_loss: 1.6996 - val_accuracy: 0.6942 - lr: 0.0010 - 8s/epoch - 212ms/step
Epoch 4/75
36/36 - 8s - loss: 0.1595 - accuracy: 0.9429 - val_loss: 1.6750 - val_accuracy: 0.7006 - lr: 0.0010 - 8s/epoch - 212ms/step
Epoch 5/75
36/36 - 8s - loss: 0.1579 - accuracy: 0.9433 - val_loss: 1.7158 - val_accuracy: 0.6965 - lr: 0.0010 - 8s/epoch - 212ms/step
Epoch 6/75
36/36 - 8s - loss: 0.1568 - accuracy: 0.9437 - val_loss: 1.6828 - val_accuracy: 0.6986 - lr: 0.0010 - 8s/epoch - 213ms/step
Epoch 7/75
36/36 - 8s - loss: 0.1548 - accuracy: 0.9439 - val_loss: 1.7439 - val_accuracy: 0.6959 - lr: 0.0010 - 8s/epoch - 212ms/step
Epoch 8/75
36/36 - 8s - loss: 0.1552 - accuracy: 0.9443 - val_loss: 1.7636 - val_accuracy: 0.6927 - lr: 0.0010 - 8s/epoch - 212ms/step
Epoch 9/75
36/36 - 8s - loss: 0.1582 - accuracy: 0.9430 - val_loss: 1.7219 - val_accuracy: 0.6981 - lr: 0.0010 - 8s/epoch - 212ms/step
Epoch 10/75
36/36 - 8s - loss: 0.1561 - accuracy: 0.9440 - val_loss: 1.7543 - val_accuracy: 0.6966 - lr: 0.0010 - 8s/epoch - 213ms/step
Epoch 11/75
36/36 - 8s - loss: 0.1573 - accuracy: 0.9437 - val_loss: 1.8223 - val_accuracy: 0.6874 - lr: 0.0010 - 8s/epoch - 212ms/step
Epoch 12/75
36/36 - 8s - loss: 0.1571 - accuracy: 0.9441 - val_loss: 1.7723 - val_accuracy: 0.6903 - lr: 0.0010 - 8s/epoch - 214ms/step
Epoch 13/75
36/36 - 8s - loss: 0.1557 - accuracy: 0.9442 - val_loss: 1.7771 - val_accuracy: 0.6957 - lr: 0.0010 - 8s/epoch - 213ms/step
Epoch 14/75
36/36 - 8s - loss: 0.1559 - accuracy: 0.9442 - val_loss: 1.7874 - val_accuracy: 0.6929 - lr: 0.0010 - 8s/epoch - 213ms/step
Epoch 15/75
36/36 - 8s - loss: 0.1518 - accuracy: 0.9457 - val_loss: 1.8213 - val_accuracy: 0.6924 - lr: 0.0010 - 8s/epoch - 213ms/step
Epoch 16/75
36/36 - 8s - loss: 0.1567 - accuracy: 0.9446 - val_loss: 1.8571 - val_accuracy: 0.6895 - lr: 0.0010 - 8s/epoch - 213ms/step
Epoch 17/75
36/36 - 8s - loss: 0.1512 - accuracy: 0.9463 - val_loss: 1.8401 - val_accuracy: 0.6931 - lr: 0.0010 - 8s/epoch - 213ms/step
Epoch 18/75
36/36 - 8s - loss: 0.1542 - accuracy: 0.9435 - val_loss: 1.8132 - val_accuracy: 0.6940 - lr: 0.0010 - 8s/epoch - 213ms/step
Epoch 19/75
36/36 - 8s - loss: 0.1568 - accuracy: 0.9441 - val_loss: 1.8102 - val_accuracy: 0.6935 - lr: 0.0010 - 8s/epoch - 213ms/step
Epoch 20/75
36/36 - 8s - loss: 0.1500 - accuracy: 0.9463 - val_loss: 1.8630 - val_accuracy: 0.6878 - lr: 0.0010 - 8s/epoch - 213ms/step
Epoch 21/75
36/36 - 8s - loss: 0.1518 - accuracy: 0.9456 - val_loss: 1.8998 - val_accuracy: 0.6867 - lr: 0.0010 - 8s/epoch - 213ms/step
Epoch 22/75
36/36 - 8s - loss: 0.1535 - accuracy: 0.9450 - val_loss: 1.8764 - val_accuracy: 0.6864 - lr: 0.0010 - 8s/epoch - 213ms/step
Epoch 23/75
36/36 - 8s - loss: 0.1523 - accuracy: 0.9462 - val_loss: 1.9090 - val_accuracy: 0.6850 - lr: 0.0010 - 8s/epoch - 213ms/step
Epoch 24/75
36/36 - 8s - loss: 0.1492 - accuracy: 0.9470 - val_loss: 1.8932 - val_accuracy: 0.6894 - lr: 0.0010 - 8s/epoch - 213ms/step
Epoch 25/75
36/36 - 8s - loss: 0.1504 - accuracy: 0.9462 - val_loss: 1.8418 - val_accuracy: 0.6969 - lr: 0.0010 - 8s/epoch - 213ms/step
Epoch 26/75
36/36 - 8s - loss: 0.1534 - accuracy: 0.9453 - val_loss: 1.8484 - val_accuracy: 0.6945 - lr: 0.0010 - 8s/epoch - 213ms/step
Epoch 27/75
36/36 - 8s - loss: 0.1508 - accuracy: 0.9456 - val_loss: 1.9080 - val_accuracy: 0.6930 - lr: 0.0010 - 8s/epoch - 213ms/step
Epoch 28/75
36/36 - 8s - loss: 0.1504 - accuracy: 0.9458 - val_loss: 1.8996 - val_accuracy: 0.6899 - lr: 0.0010 - 8s/epoch - 213ms/step
Epoch 29/75
36/36 - 8s - loss: 0.1494 - accuracy: 0.9468 - val_loss: 1.9308 - val_accuracy: 0.6911 - lr: 0.0010 - 8s/epoch - 213ms/step
Epoch 30/75
36/36 - 8s - loss: 0.1513 - accuracy: 0.9460 - val_loss: 1.9255 - val_accuracy: 0.6879 - lr: 0.0010 - 8s/epoch - 213ms/step
Epoch 31/75
36/36 - 8s - loss: 0.1490 - accuracy: 0.9464 - val_loss: 1.9227 - val_accuracy: 0.6892 - lr: 0.0010 - 8s/epoch - 213ms/step
Epoch 32/75
36/36 - 8s - loss: 0.1505 - accuracy: 0.9467 - val_loss: 1.9182 - val_accuracy: 0.6910 - lr: 0.0010 - 8s/epoch - 213ms/step
Epoch 33/75
36/36 - 8s - loss: 0.1547 - accuracy: 0.9438 - val_loss: 1.9958 - val_accuracy: 0.6843 - lr: 0.0010 - 8s/epoch - 213ms/step
Epoch 34/75
36/36 - 8s - loss: 0.1560 - accuracy: 0.9446 - val_loss: 1.8586 - val_accuracy: 0.6994 - lr: 0.0010 - 8s/epoch - 213ms/step
Epoch 35/75
36/36 - 8s - loss: 0.1497 - accuracy: 0.9473 - val_loss: 1.9005 - val_accuracy: 0.6919 - lr: 0.0010 - 8s/epoch - 213ms/step
Epoch 36/75
36/36 - 8s - loss: 0.1495 - accuracy: 0.9469 - val_loss: 1.9192 - val_accuracy: 0.6945 - lr: 0.0010 - 8s/epoch - 213ms/step
Epoch 37/75
36/36 - 8s - loss: 0.1486 - accuracy: 0.9470 - val_loss: 1.9128 - val_accuracy: 0.6917 - lr: 0.0010 - 8s/epoch - 213ms/step
Epoch 38/75
36/36 - 8s - loss: 0.1508 - accuracy: 0.9459 - val_loss: 1.9241 - val_accuracy: 0.6940 - lr: 0.0010 - 8s/epoch - 213ms/step
Epoch 39/75
36/36 - 8s - loss: 0.1533 - accuracy: 0.9456 - val_loss: 1.9415 - val_accuracy: 0.6932 - lr: 0.0010 - 8s/epoch - 213ms/step
Epoch 40/75
36/36 - 8s - loss: 0.1512 - accuracy: 0.9455 - val_loss: 1.9502 - val_accuracy: 0.6924 - lr: 0.0010 - 8s/epoch - 213ms/step
Epoch 41/75
36/36 - 8s - loss: 0.1534 - accuracy: 0.9446 - val_loss: 1.9620 - val_accuracy: 0.6900 - lr: 0.0010 - 8s/epoch - 213ms/step
Epoch 42/75
36/36 - 8s - loss: 0.1512 - accuracy: 0.9457 - val_loss: 1.9851 - val_accuracy: 0.6876 - lr: 0.0010 - 8s/epoch - 213ms/step
Epoch 43/75
36/36 - 8s - loss: 0.1485 - accuracy: 0.9466 - val_loss: 1.9677 - val_accuracy: 0.6910 - lr: 0.0010 - 8s/epoch - 213ms/step
Epoch 44/75
36/36 - 8s - loss: 0.1508 - accuracy: 0.9466 - val_loss: 1.9680 - val_accuracy: 0.6928 - lr: 0.0010 - 8s/epoch - 213ms/step
Epoch 45/75
36/36 - 8s - loss: 0.1476 - accuracy: 0.9475 - val_loss: 1.9794 - val_accuracy: 0.6896 - lr: 0.0010 - 8s/epoch - 213ms/step
Epoch 46/75
36/36 - 8s - loss: 0.1513 - accuracy: 0.9460 - val_loss: 1.9648 - val_accuracy: 0.6885 - lr: 0.0010 - 8s/epoch - 213ms/step
Epoch 47/75
36/36 - 8s - loss: 0.1486 - accuracy: 0.9473 - val_loss: 1.9676 - val_accuracy: 0.6894 - lr: 0.0010 - 8s/epoch - 213ms/step
Epoch 48/75
36/36 - 8s - loss: 0.1495 - accuracy: 0.9463 - val_loss: 1.9706 - val_accuracy: 0.6886 - lr: 0.0010 - 8s/epoch - 213ms/step
Epoch 49/75
36/36 - 8s - loss: 0.1495 - accuracy: 0.9467 - val_loss: 1.9479 - val_accuracy: 0.6956 - lr: 0.0010 - 8s/epoch - 213ms/step
Epoch 50/75
36/36 - 8s - loss: 0.1485 - accuracy: 0.9478 - val_loss: 1.9631 - val_accuracy: 0.6906 - lr: 0.0010 - 8s/epoch - 213ms/step
Epoch 51/75
36/36 - 8s - loss: 0.1507 - accuracy: 0.9467 - val_loss: 2.0216 - val_accuracy: 0.6881 - lr: 0.0010 - 8s/epoch - 213ms/step
Epoch 52/75
36/36 - 8s - loss: 0.1496 - accuracy: 0.9462 - val_loss: 2.0138 - val_accuracy: 0.6890 - lr: 0.0010 - 8s/epoch - 213ms/step
Epoch 53/75
36/36 - 8s - loss: 0.1485 - accuracy: 0.9480 - val_loss: 2.0438 - val_accuracy: 0.6858 - lr: 0.0010 - 8s/epoch - 213ms/step
Epoch 54/75
36/36 - 8s - loss: 0.1491 - accuracy: 0.9471 - val_loss: 1.9821 - val_accuracy: 0.6914 - lr: 0.0010 - 8s/epoch - 213ms/step
Epoch 55/75
36/36 - 8s - loss: 0.1484 - accuracy: 0.9469 - val_loss: 2.0482 - val_accuracy: 0.6835 - lr: 0.0010 - 8s/epoch - 214ms/step
Epoch 56/75
36/36 - 8s - loss: 0.1466 - accuracy: 0.9474 - val_loss: 2.0101 - val_accuracy: 0.6894 - lr: 0.0010 - 8s/epoch - 213ms/step
Epoch 57/75
36/36 - 8s - loss: 0.1509 - accuracy: 0.9461 - val_loss: 1.9867 - val_accuracy: 0.6924 - lr: 0.0010 - 8s/epoch - 212ms/step
Epoch 58/75
36/36 - 8s - loss: 0.1492 - accuracy: 0.9463 - val_loss: 2.0328 - val_accuracy: 0.6876 - lr: 0.0010 - 8s/epoch - 213ms/step
Epoch 59/75
36/36 - 8s - loss: 0.1487 - accuracy: 0.9464 - val_loss: 1.9638 - val_accuracy: 0.6940 - lr: 0.0010 - 8s/epoch - 213ms/step
Epoch 60/75
36/36 - 8s - loss: 0.1472 - accuracy: 0.9475 - val_loss: 2.0474 - val_accuracy: 0.6859 - lr: 0.0010 - 8s/epoch - 213ms/step
Epoch 61/75
36/36 - 8s - loss: 0.1484 - accuracy: 0.9473 - val_loss: 1.9870 - val_accuracy: 0.6915 - lr: 0.0010 - 8s/epoch - 213ms/step
Epoch 62/75
36/36 - 8s - loss: 0.1515 - accuracy: 0.9458 - val_loss: 2.0398 - val_accuracy: 0.6895 - lr: 0.0010 - 8s/epoch - 213ms/step
Epoch 63/75
36/36 - 8s - loss: 0.1457 - accuracy: 0.9477 - val_loss: 2.0421 - val_accuracy: 0.6882 - lr: 0.0010 - 8s/epoch - 213ms/step
Epoch 64/75
36/36 - 8s - loss: 0.1456 - accuracy: 0.9484 - val_loss: 2.0158 - val_accuracy: 0.6913 - lr: 0.0010 - 8s/epoch - 213ms/step
Epoch 65/75
36/36 - 8s - loss: 0.1490 - accuracy: 0.9471 - val_loss: 2.0676 - val_accuracy: 0.6853 - lr: 0.0010 - 8s/epoch - 213ms/step
Epoch 66/75
36/36 - 8s - loss: 0.1437 - accuracy: 0.9490 - val_loss: 2.0158 - val_accuracy: 0.6899 - lr: 0.0010 - 8s/epoch - 213ms/step
Epoch 67/75
36/36 - 8s - loss: 0.1494 - accuracy: 0.9465 - val_loss: 2.0698 - val_accuracy: 0.6871 - lr: 0.0010 - 8s/epoch - 213ms/step
Epoch 68/75
36/36 - 8s - loss: 0.1452 - accuracy: 0.9477 - val_loss: 2.0034 - val_accuracy: 0.6948 - lr: 0.0010 - 8s/epoch - 213ms/step
Epoch 69/75
36/36 - 8s - loss: 0.1492 - accuracy: 0.9474 - val_loss: 1.9868 - val_accuracy: 0.6922 - lr: 0.0010 - 8s/epoch - 213ms/step
Epoch 70/75
36/36 - 8s - loss: 0.1493 - accuracy: 0.9466 - val_loss: 2.0312 - val_accuracy: 0.6922 - lr: 0.0010 - 8s/epoch - 215ms/step
Epoch 71/75
36/36 - 8s - loss: 0.1506 - accuracy: 0.9458 - val_loss: 1.9934 - val_accuracy: 0.6929 - lr: 0.0010 - 8s/epoch - 213ms/step
Epoch 72/75
36/36 - 8s - loss: 0.1475 - accuracy: 0.9476 - val_loss: 2.0407 - val_accuracy: 0.6889 - lr: 0.0010 - 8s/epoch - 213ms/step
Epoch 73/75
36/36 - 8s - loss: 0.1426 - accuracy: 0.9488 - val_loss: 2.0765 - val_accuracy: 0.6887 - lr: 0.0010 - 8s/epoch - 213ms/step
Epoch 74/75
36/36 - 8s - loss: 0.1452 - accuracy: 0.9486 - val_loss: 2.0480 - val_accuracy: 0.6891 - lr: 0.0010 - 8s/epoch - 213ms/step
Epoch 75/75
36/36 - 8s - loss: 0.1457 - accuracy: 0.9481 - val_loss: 2.0742 - val_accuracy: 0.6902 - lr: 0.0010 - 8s/epoch - 213ms/step
Epoch 1/100
4378/4378 - 72s - loss: 0.3392 - accuracy: 0.8767 - val_loss: 1.0895 - val_accuracy: 0.7224 - lr: 0.0010 - 72s/epoch - 16ms/step
Epoch 2/100
4378/4378 - 69s - loss: 0.3346 - accuracy: 0.8735 - val_loss: 0.9683 - val_accuracy: 0.7091 - lr: 0.0010 - 69s/epoch - 16ms/step
Epoch 3/100
4378/4378 - 70s - loss: 0.3352 - accuracy: 0.8742 - val_loss: 0.9298 - val_accuracy: 0.7109 - lr: 0.0010 - 70s/epoch - 16ms/step
Epoch 4/100
4378/4378 - 69s - loss: 0.3446 - accuracy: 0.8716 - val_loss: 0.8376 - val_accuracy: 0.7388 - lr: 0.0010 - 69s/epoch - 16ms/step
Epoch 5/100
4378/4378 - 69s - loss: 0.3446 - accuracy: 0.8706 - val_loss: 0.9464 - val_accuracy: 0.7125 - lr: 0.0010 - 69s/epoch - 16ms/step
Epoch 6/100
4378/4378 - 69s - loss: 0.3423 - accuracy: 0.8713 - val_loss: 0.8473 - val_accuracy: 0.7290 - lr: 0.0010 - 69s/epoch - 16ms/step
Epoch 7/100
4378/4378 - 69s - loss: 0.3468 - accuracy: 0.8700 - val_loss: 0.8518 - val_accuracy: 0.7261 - lr: 0.0010 - 69s/epoch - 16ms/step
Epoch 8/100
4378/4378 - 72s - loss: 0.3416 - accuracy: 0.8723 - val_loss: 0.9058 - val_accuracy: 0.7126 - lr: 0.0010 - 72s/epoch - 17ms/step
Epoch 9/100
4378/4378 - 70s - loss: 0.3408 - accuracy: 0.8721 - val_loss: 0.9733 - val_accuracy: 0.6904 - lr: 0.0010 - 70s/epoch - 16ms/step
Epoch 10/100
4378/4378 - 69s - loss: 0.3376 - accuracy: 0.8730 - val_loss: 0.8097 - val_accuracy: 0.7226 - lr: 0.0010 - 69s/epoch - 16ms/step
Epoch 11/100
4378/4378 - 69s - loss: 0.3444 - accuracy: 0.8701 - val_loss: 0.8793 - val_accuracy: 0.7046 - lr: 0.0010 - 69s/epoch - 16ms/step
Epoch 12/100
4378/4378 - 69s - loss: 0.3426 - accuracy: 0.8714 - val_loss: 0.8468 - val_accuracy: 0.7213 - lr: 0.0010 - 69s/epoch - 16ms/step
Epoch 13/100
4378/4378 - 69s - loss: 0.3381 - accuracy: 0.8735 - val_loss: 0.8593 - val_accuracy: 0.7168 - lr: 0.0010 - 69s/epoch - 16ms/step
Epoch 14/100
4378/4378 - 69s - loss: 0.3427 - accuracy: 0.8717 - val_loss: 0.9007 - val_accuracy: 0.7032 - lr: 0.0010 - 69s/epoch - 16ms/step
Epoch 15/100
4378/4378 - 69s - loss: 0.3421 - accuracy: 0.8713 - val_loss: 0.8279 - val_accuracy: 0.7204 - lr: 0.0010 - 69s/epoch - 16ms/step
Epoch 16/100
4378/4378 - 69s - loss: 0.3428 - accuracy: 0.8718 - val_loss: 0.8483 - val_accuracy: 0.7257 - lr: 0.0010 - 69s/epoch - 16ms/step
Epoch 17/100
4378/4378 - 69s - loss: 0.3402 - accuracy: 0.8721 - val_loss: 0.9169 - val_accuracy: 0.7132 - lr: 0.0010 - 69s/epoch - 16ms/step
Epoch 18/100
4378/4378 - 69s - loss: 0.3435 - accuracy: 0.8705 - val_loss: 0.8021 - val_accuracy: 0.7297 - lr: 0.0010 - 69s/epoch - 16ms/step
Epoch 19/100
4378/4378 - 70s - loss: 0.3431 - accuracy: 0.8717 - val_loss: 0.8825 - val_accuracy: 0.7126 - lr: 0.0010 - 70s/epoch - 16ms/step
Epoch 20/100
4378/4378 - 69s - loss: 0.3401 - accuracy: 0.8733 - val_loss: 0.8390 - val_accuracy: 0.7336 - lr: 0.0010 - 69s/epoch - 16ms/step
Epoch 21/100
4378/4378 - 69s - loss: 0.3438 - accuracy: 0.8721 - val_loss: 0.8647 - val_accuracy: 0.7088 - lr: 0.0010 - 69s/epoch - 16ms/step
Epoch 22/100
4378/4378 - 69s - loss: 0.3405 - accuracy: 0.8718 - val_loss: 0.9788 - val_accuracy: 0.6972 - lr: 0.0010 - 69s/epoch - 16ms/step
Epoch 23/100
4378/4378 - 69s - loss: 0.3389 - accuracy: 0.8737 - val_loss: 0.9056 - val_accuracy: 0.7027 - lr: 0.0010 - 69s/epoch - 16ms/step
Epoch 24/100
4378/4378 - 69s - loss: 0.3412 - accuracy: 0.8717 - val_loss: 0.8366 - val_accuracy: 0.7333 - lr: 0.0010 - 69s/epoch - 16ms/step
Epoch 25/100
4378/4378 - 69s - loss: 0.3386 - accuracy: 0.8731 - val_loss: 0.9433 - val_accuracy: 0.6941 - lr: 0.0010 - 69s/epoch - 16ms/step
Epoch 26/100
4378/4378 - 69s - loss: 0.3404 - accuracy: 0.8714 - val_loss: 0.9062 - val_accuracy: 0.7011 - lr: 0.0010 - 69s/epoch - 16ms/step
Epoch 27/100
4378/4378 - 69s - loss: 0.3412 - accuracy: 0.8720 - val_loss: 0.9072 - val_accuracy: 0.6995 - lr: 0.0010 - 69s/epoch - 16ms/step
Epoch 28/100
4378/4378 - 69s - loss: 0.3430 - accuracy: 0.8717 - val_loss: 0.8598 - val_accuracy: 0.7247 - lr: 0.0010 - 69s/epoch - 16ms/step
Epoch 29/100
4378/4378 - 69s - loss: 0.3425 - accuracy: 0.8709 - val_loss: 0.7817 - val_accuracy: 0.7490 - lr: 0.0010 - 69s/epoch - 16ms/step
Epoch 30/100
4378/4378 - 69s - loss: 0.3408 - accuracy: 0.8708 - val_loss: 0.7626 - val_accuracy: 0.7520 - lr: 0.0010 - 69s/epoch - 16ms/step
Epoch 31/100
4378/4378 - 70s - loss: 0.3385 - accuracy: 0.8733 - val_loss: 0.8488 - val_accuracy: 0.7258 - lr: 0.0010 - 70s/epoch - 16ms/step
Epoch 32/100
4378/4378 - 70s - loss: 0.3401 - accuracy: 0.8723 - val_loss: 0.8240 - val_accuracy: 0.7267 - lr: 0.0010 - 70s/epoch - 16ms/step
Epoch 33/100
4378/4378 - 69s - loss: 0.3393 - accuracy: 0.8729 - val_loss: 0.7879 - val_accuracy: 0.7437 - lr: 0.0010 - 69s/epoch - 16ms/step
Epoch 34/100
4378/4378 - 70s - loss: 0.3407 - accuracy: 0.8719 - val_loss: 0.8692 - val_accuracy: 0.7291 - lr: 0.0010 - 70s/epoch - 16ms/step
Epoch 35/100
4378/4378 - 70s - loss: 0.3379 - accuracy: 0.8734 - val_loss: 0.8445 - val_accuracy: 0.7291 - lr: 0.0010 - 70s/epoch - 16ms/step
Epoch 36/100
4378/4378 - 69s - loss: 0.3393 - accuracy: 0.8735 - val_loss: 0.8471 - val_accuracy: 0.7193 - lr: 0.0010 - 69s/epoch - 16ms/step
Epoch 37/100
4378/4378 - 69s - loss: 0.3337 - accuracy: 0.8741 - val_loss: 0.8220 - val_accuracy: 0.7247 - lr: 0.0010 - 69s/epoch - 16ms/step
Epoch 38/100
4378/4378 - 69s - loss: 0.3359 - accuracy: 0.8747 - val_loss: 0.9664 - val_accuracy: 0.6927 - lr: 0.0010 - 69s/epoch - 16ms/step
Epoch 39/100
4378/4378 - 69s - loss: 0.3385 - accuracy: 0.8726 - val_loss: 0.8467 - val_accuracy: 0.7232 - lr: 0.0010 - 69s/epoch - 16ms/step
Epoch 40/100
4378/4378 - 69s - loss: 0.3358 - accuracy: 0.8750 - val_loss: 0.8635 - val_accuracy: 0.7164 - lr: 0.0010 - 69s/epoch - 16ms/step
Epoch 41/100
4378/4378 - 70s - loss: 0.3371 - accuracy: 0.8725 - val_loss: 0.8893 - val_accuracy: 0.7159 - lr: 0.0010 - 70s/epoch - 16ms/step
Epoch 42/100
4378/4378 - 70s - loss: 0.3340 - accuracy: 0.8750 - val_loss: 0.8503 - val_accuracy: 0.7117 - lr: 0.0010 - 70s/epoch - 16ms/step
Epoch 43/100
4378/4378 - 69s - loss: 0.3368 - accuracy: 0.8737 - val_loss: 0.8738 - val_accuracy: 0.7084 - lr: 0.0010 - 69s/epoch - 16ms/step
Epoch 44/100
4378/4378 - 69s - loss: 0.3337 - accuracy: 0.8752 - val_loss: 0.9030 - val_accuracy: 0.7025 - lr: 0.0010 - 69s/epoch - 16ms/step
Epoch 45/100
4378/4378 - 69s - loss: 0.3382 - accuracy: 0.8725 - val_loss: 0.8185 - val_accuracy: 0.7280 - lr: 0.0010 - 69s/epoch - 16ms/step
Epoch 46/100
4378/4378 - 69s - loss: 0.3336 - accuracy: 0.8740 - val_loss: 0.8592 - val_accuracy: 0.7285 - lr: 0.0010 - 69s/epoch - 16ms/step
Epoch 47/100
4378/4378 - 70s - loss: 0.3326 - accuracy: 0.8753 - val_loss: 0.9779 - val_accuracy: 0.6714 - lr: 0.0010 - 70s/epoch - 16ms/step
Epoch 48/100
4378/4378 - 70s - loss: 0.3331 - accuracy: 0.8761 - val_loss: 0.8341 - val_accuracy: 0.7178 - lr: 0.0010 - 70s/epoch - 16ms/step
Epoch 49/100
4378/4378 - 69s - loss: 0.3336 - accuracy: 0.8750 - val_loss: 0.8474 - val_accuracy: 0.7228 - lr: 0.0010 - 69s/epoch - 16ms/step
Epoch 50/100
4378/4378 - 69s - loss: 0.3342 - accuracy: 0.8744 - val_loss: 0.8491 - val_accuracy: 0.7239 - lr: 0.0010 - 69s/epoch - 16ms/step
Epoch 51/100
4378/4378 - 69s - loss: 0.3314 - accuracy: 0.8761 - val_loss: 0.8305 - val_accuracy: 0.7258 - lr: 0.0010 - 69s/epoch - 16ms/step
Epoch 52/100
4378/4378 - 69s - loss: 0.3321 - accuracy: 0.8755 - val_loss: 0.9465 - val_accuracy: 0.6822 - lr: 0.0010 - 69s/epoch - 16ms/step
Epoch 53/100
4378/4378 - 69s - loss: 0.3302 - accuracy: 0.8762 - val_loss: 0.8533 - val_accuracy: 0.7189 - lr: 0.0010 - 69s/epoch - 16ms/step
Epoch 54/100
4378/4378 - 69s - loss: 0.3312 - accuracy: 0.8759 - val_loss: 0.9023 - val_accuracy: 0.7064 - lr: 0.0010 - 69s/epoch - 16ms/step
Epoch 55/100
4378/4378 - 69s - loss: 0.3310 - accuracy: 0.8765 - val_loss: 0.8374 - val_accuracy: 0.7268 - lr: 0.0010 - 69s/epoch - 16ms/step
Epoch 56/100
4378/4378 - 70s - loss: 0.3365 - accuracy: 0.8733 - val_loss: 0.9647 - val_accuracy: 0.7017 - lr: 0.0010 - 70s/epoch - 16ms/step
Epoch 57/100
4378/4378 - 69s - loss: 0.3292 - accuracy: 0.8759 - val_loss: 0.8493 - val_accuracy: 0.7219 - lr: 0.0010 - 69s/epoch - 16ms/step
Epoch 58/100
4378/4378 - 69s - loss: 0.3314 - accuracy: 0.8749 - val_loss: 0.8444 - val_accuracy: 0.7301 - lr: 0.0010 - 69s/epoch - 16ms/step
Epoch 59/100
4378/4378 - 69s - loss: 0.3314 - accuracy: 0.8750 - val_loss: 0.9658 - val_accuracy: 0.7017 - lr: 0.0010 - 69s/epoch - 16ms/step
Epoch 60/100
4378/4378 - 72s - loss: 0.3319 - accuracy: 0.8757 - val_loss: 0.9673 - val_accuracy: 0.6886 - lr: 0.0010 - 72s/epoch - 16ms/step
Epoch 61/100
4378/4378 - 70s - loss: 0.3304 - accuracy: 0.8757 - val_loss: 0.9022 - val_accuracy: 0.7121 - lr: 0.0010 - 70s/epoch - 16ms/step
Epoch 62/100
4378/4378 - 69s - loss: 0.3259 - accuracy: 0.8773 - val_loss: 0.9332 - val_accuracy: 0.7084 - lr: 0.0010 - 69s/epoch - 16ms/step
Epoch 63/100
4378/4378 - 69s - loss: 0.3287 - accuracy: 0.8763 - val_loss: 0.8697 - val_accuracy: 0.7263 - lr: 0.0010 - 69s/epoch - 16ms/step
Epoch 64/100
4378/4378 - 69s - loss: 0.3334 - accuracy: 0.8750 - val_loss: 0.8713 - val_accuracy: 0.7157 - lr: 0.0010 - 69s/epoch - 16ms/step
Epoch 65/100
4378/4378 - 69s - loss: 0.3332 - accuracy: 0.8748 - val_loss: 0.7843 - val_accuracy: 0.7435 - lr: 0.0010 - 69s/epoch - 16ms/step
Epoch 66/100
4378/4378 - 69s - loss: 0.3316 - accuracy: 0.8759 - val_loss: 0.8452 - val_accuracy: 0.7278 - lr: 0.0010 - 69s/epoch - 16ms/step
Epoch 67/100
4378/4378 - 70s - loss: 0.3332 - accuracy: 0.8742 - val_loss: 0.8301 - val_accuracy: 0.7220 - lr: 0.0010 - 70s/epoch - 16ms/step
Epoch 68/100
4378/4378 - 69s - loss: 0.3294 - accuracy: 0.8760 - val_loss: 0.9002 - val_accuracy: 0.7085 - lr: 0.0010 - 69s/epoch - 16ms/step
Epoch 69/100
4378/4378 - 70s - loss: 0.3246 - accuracy: 0.8783 - val_loss: 0.9940 - val_accuracy: 0.6821 - lr: 0.0010 - 70s/epoch - 16ms/step
Epoch 70/100
4378/4378 - 70s - loss: 0.3267 - accuracy: 0.8776 - val_loss: 0.8772 - val_accuracy: 0.7242 - lr: 0.0010 - 70s/epoch - 16ms/step
Epoch 71/100
4378/4378 - 69s - loss: 0.3310 - accuracy: 0.8768 - val_loss: 0.8622 - val_accuracy: 0.7215 - lr: 0.0010 - 69s/epoch - 16ms/step
Epoch 72/100
4378/4378 - 69s - loss: 0.3280 - accuracy: 0.8770 - val_loss: 0.8658 - val_accuracy: 0.7176 - lr: 0.0010 - 69s/epoch - 16ms/step
Epoch 73/100
4378/4378 - 69s - loss: 0.3270 - accuracy: 0.8782 - val_loss: 0.9203 - val_accuracy: 0.7048 - lr: 0.0010 - 69s/epoch - 16ms/step
Epoch 74/100
4378/4378 - 69s - loss: 0.3286 - accuracy: 0.8777 - val_loss: 0.8258 - val_accuracy: 0.7386 - lr: 0.0010 - 69s/epoch - 16ms/step
Epoch 75/100
4378/4378 - 69s - loss: 0.3248 - accuracy: 0.8770 - val_loss: 0.8813 - val_accuracy: 0.7253 - lr: 0.0010 - 69s/epoch - 16ms/step
Epoch 76/100
4378/4378 - 69s - loss: 0.3236 - accuracy: 0.8785 - val_loss: 0.9156 - val_accuracy: 0.7047 - lr: 0.0010 - 69s/epoch - 16ms/step
Epoch 77/100
4378/4378 - 69s - loss: 0.3250 - accuracy: 0.8768 - val_loss: 0.9505 - val_accuracy: 0.6965 - lr: 0.0010 - 69s/epoch - 16ms/step
Epoch 78/100
4378/4378 - 70s - loss: 0.3280 - accuracy: 0.8771 - val_loss: 0.8844 - val_accuracy: 0.7162 - lr: 0.0010 - 70s/epoch - 16ms/step
Epoch 79/100
4378/4378 - 69s - loss: 0.3280 - accuracy: 0.8776 - val_loss: 0.8864 - val_accuracy: 0.7096 - lr: 0.0010 - 69s/epoch - 16ms/step
Epoch 80/100
4378/4378 - 70s - loss: 0.3202 - accuracy: 0.8794 - val_loss: 0.8101 - val_accuracy: 0.7353 - lr: 0.0010 - 70s/epoch - 16ms/step
Epoch 81/100
4378/4378 - 69s - loss: 0.3238 - accuracy: 0.8783 - val_loss: 0.9247 - val_accuracy: 0.7143 - lr: 0.0010 - 69s/epoch - 16ms/step
Epoch 82/100
4378/4378 - 70s - loss: 0.3237 - accuracy: 0.8779 - val_loss: 0.9704 - val_accuracy: 0.6934 - lr: 0.0010 - 70s/epoch - 16ms/step
Epoch 83/100
4378/4378 - 69s - loss: 0.3160 - accuracy: 0.8813 - val_loss: 0.9160 - val_accuracy: 0.7243 - lr: 0.0010 - 69s/epoch - 16ms/step
Epoch 84/100
4378/4378 - 71s - loss: 0.3276 - accuracy: 0.8768 - val_loss: 0.8937 - val_accuracy: 0.7135 - lr: 0.0010 - 71s/epoch - 16ms/step
Epoch 85/100
4378/4378 - 69s - loss: 0.3233 - accuracy: 0.8781 - val_loss: 0.8683 - val_accuracy: 0.7249 - lr: 0.0010 - 69s/epoch - 16ms/step
Epoch 86/100
4378/4378 - 69s - loss: 0.3240 - accuracy: 0.8795 - val_loss: 0.8063 - val_accuracy: 0.7521 - lr: 0.0010 - 69s/epoch - 16ms/step
Epoch 87/100
4378/4378 - 70s - loss: 0.3234 - accuracy: 0.8784 - val_loss: 0.9173 - val_accuracy: 0.7092 - lr: 0.0010 - 70s/epoch - 16ms/step
Epoch 88/100
4378/4378 - 69s - loss: 0.3261 - accuracy: 0.8778 - val_loss: 1.0010 - val_accuracy: 0.6855 - lr: 0.0010 - 69s/epoch - 16ms/step
Epoch 89/100
4378/4378 - 70s - loss: 0.3169 - accuracy: 0.8806 - val_loss: 0.9720 - val_accuracy: 0.7045 - lr: 0.0010 - 70s/epoch - 16ms/step
Epoch 90/100
4378/4378 - 69s - loss: 0.3237 - accuracy: 0.8781 - val_loss: 0.8490 - val_accuracy: 0.7247 - lr: 0.0010 - 69s/epoch - 16ms/step
Epoch 91/100
4378/4378 - 70s - loss: 0.3185 - accuracy: 0.8804 - val_loss: 0.9574 - val_accuracy: 0.7056 - lr: 0.0010 - 70s/epoch - 16ms/step
Epoch 92/100
4378/4378 - 69s - loss: 0.3201 - accuracy: 0.8797 - val_loss: 0.9026 - val_accuracy: 0.7245 - lr: 0.0010 - 69s/epoch - 16ms/step
Epoch 93/100
4378/4378 - 69s - loss: 0.3216 - accuracy: 0.8783 - val_loss: 0.9146 - val_accuracy: 0.7183 - lr: 0.0010 - 69s/epoch - 16ms/step
Epoch 94/100
4378/4378 - 69s - loss: 0.3219 - accuracy: 0.8792 - val_loss: 0.9477 - val_accuracy: 0.7059 - lr: 0.0010 - 69s/epoch - 16ms/step
Epoch 95/100
4378/4378 - 69s - loss: 0.3216 - accuracy: 0.8805 - val_loss: 0.7923 - val_accuracy: 0.7441 - lr: 0.0010 - 69s/epoch - 16ms/step
Epoch 96/100
4378/4378 - 69s - loss: 0.3222 - accuracy: 0.8787 - val_loss: 0.8606 - val_accuracy: 0.7303 - lr: 0.0010 - 69s/epoch - 16ms/step
Epoch 97/100
4378/4378 - 69s - loss: 0.3193 - accuracy: 0.8801 - val_loss: 0.8555 - val_accuracy: 0.7384 - lr: 0.0010 - 69s/epoch - 16ms/step
Epoch 98/100
4378/4378 - 69s - loss: 0.3211 - accuracy: 0.8790 - val_loss: 0.9597 - val_accuracy: 0.6950 - lr: 0.0010 - 69s/epoch - 16ms/step
Epoch 99/100
4378/4378 - 70s - loss: 0.3215 - accuracy: 0.8800 - val_loss: 0.8465 - val_accuracy: 0.7301 - lr: 0.0010 - 70s/epoch - 16ms/step
Epoch 100/100
4378/4378 - 70s - loss: 0.3195 - accuracy: 0.8808 - val_loss: 0.8749 - val_accuracy: 0.7304 - lr: 0.0010 - 70s/epoch - 16ms/step
Epoch 1/100
876/876 - 20s - loss: 0.2428 - accuracy: 0.9103 - val_loss: 0.9647 - val_accuracy: 0.7267 - lr: 0.0010 - 20s/epoch - 23ms/step
Epoch 2/100
876/876 - 17s - loss: 0.2509 - accuracy: 0.9069 - val_loss: 0.9679 - val_accuracy: 0.7273 - lr: 0.0010 - 17s/epoch - 20ms/step
Epoch 3/100
876/876 - 18s - loss: 0.2493 - accuracy: 0.9079 - val_loss: 1.0352 - val_accuracy: 0.7206 - lr: 0.0010 - 18s/epoch - 20ms/step
Epoch 4/100
876/876 - 18s - loss: 0.2476 - accuracy: 0.9076 - val_loss: 1.1380 - val_accuracy: 0.7005 - lr: 0.0010 - 18s/epoch - 20ms/step
Epoch 5/100
876/876 - 18s - loss: 0.2449 - accuracy: 0.9091 - val_loss: 1.0810 - val_accuracy: 0.7201 - lr: 0.0010 - 18s/epoch - 20ms/step
Epoch 6/100
876/876 - 18s - loss: 0.2429 - accuracy: 0.9106 - val_loss: 1.1200 - val_accuracy: 0.7103 - lr: 0.0010 - 18s/epoch - 20ms/step
Epoch 7/100
876/876 - 18s - loss: 0.2415 - accuracy: 0.9099 - val_loss: 1.1779 - val_accuracy: 0.6967 - lr: 0.0010 - 18s/epoch - 20ms/step
Epoch 8/100
876/876 - 18s - loss: 0.2424 - accuracy: 0.9106 - val_loss: 1.0787 - val_accuracy: 0.7195 - lr: 0.0010 - 18s/epoch - 20ms/step
Epoch 9/100
876/876 - 18s - loss: 0.2409 - accuracy: 0.9111 - val_loss: 1.0664 - val_accuracy: 0.7188 - lr: 0.0010 - 18s/epoch - 20ms/step
Epoch 10/100
876/876 - 18s - loss: 0.2351 - accuracy: 0.9123 - val_loss: 1.1503 - val_accuracy: 0.7060 - lr: 0.0010 - 18s/epoch - 20ms/step
Epoch 11/100
876/876 - 18s - loss: 0.2375 - accuracy: 0.9114 - val_loss: 1.1820 - val_accuracy: 0.7066 - lr: 0.0010 - 18s/epoch - 20ms/step
Epoch 12/100
876/876 - 18s - loss: 0.2382 - accuracy: 0.9109 - val_loss: 1.1936 - val_accuracy: 0.6980 - lr: 0.0010 - 18s/epoch - 20ms/step
Epoch 13/100
876/876 - 18s - loss: 0.2337 - accuracy: 0.9128 - val_loss: 1.1863 - val_accuracy: 0.7022 - lr: 0.0010 - 18s/epoch - 20ms/step
Epoch 14/100
876/876 - 18s - loss: 0.2394 - accuracy: 0.9110 - val_loss: 1.2333 - val_accuracy: 0.6823 - lr: 0.0010 - 18s/epoch - 20ms/step
Epoch 15/100
876/876 - 18s - loss: 0.2333 - accuracy: 0.9132 - val_loss: 1.2649 - val_accuracy: 0.6749 - lr: 0.0010 - 18s/epoch - 20ms/step
Epoch 16/100
876/876 - 18s - loss: 0.2341 - accuracy: 0.9124 - val_loss: 1.1257 - val_accuracy: 0.7115 - lr: 0.0010 - 18s/epoch - 20ms/step
Epoch 17/100
876/876 - 18s - loss: 0.2326 - accuracy: 0.9140 - val_loss: 1.1553 - val_accuracy: 0.6997 - lr: 0.0010 - 18s/epoch - 20ms/step
Epoch 18/100
876/876 - 18s - loss: 0.2329 - accuracy: 0.9125 - val_loss: 1.1548 - val_accuracy: 0.7046 - lr: 0.0010 - 18s/epoch - 20ms/step
Epoch 19/100
876/876 - 18s - loss: 0.2312 - accuracy: 0.9145 - val_loss: 1.1424 - val_accuracy: 0.7118 - lr: 0.0010 - 18s/epoch - 20ms/step
Epoch 20/100
876/876 - 18s - loss: 0.2317 - accuracy: 0.9135 - val_loss: 1.1604 - val_accuracy: 0.7041 - lr: 0.0010 - 18s/epoch - 20ms/step
Epoch 21/100
876/876 - 18s - loss: 0.2305 - accuracy: 0.9139 - val_loss: 1.1267 - val_accuracy: 0.7159 - lr: 0.0010 - 18s/epoch - 20ms/step
Epoch 22/100
876/876 - 18s - loss: 0.2276 - accuracy: 0.9155 - val_loss: 1.1760 - val_accuracy: 0.7064 - lr: 0.0010 - 18s/epoch - 20ms/step
Epoch 23/100
876/876 - 18s - loss: 0.2281 - accuracy: 0.9152 - val_loss: 1.1463 - val_accuracy: 0.7218 - lr: 0.0010 - 18s/epoch - 20ms/step
Epoch 24/100
876/876 - 18s - loss: 0.2286 - accuracy: 0.9137 - val_loss: 1.1588 - val_accuracy: 0.7183 - lr: 0.0010 - 18s/epoch - 20ms/step
Epoch 25/100
876/876 - 18s - loss: 0.2296 - accuracy: 0.9142 - val_loss: 1.2665 - val_accuracy: 0.6940 - lr: 0.0010 - 18s/epoch - 20ms/step
Epoch 26/100
876/876 - 18s - loss: 0.2274 - accuracy: 0.9158 - val_loss: 1.2429 - val_accuracy: 0.7003 - lr: 0.0010 - 18s/epoch - 20ms/step
Epoch 27/100
876/876 - 18s - loss: 0.2275 - accuracy: 0.9160 - val_loss: 1.2257 - val_accuracy: 0.6998 - lr: 0.0010 - 18s/epoch - 20ms/step
Epoch 28/100
876/876 - 17s - loss: 0.2283 - accuracy: 0.9158 - val_loss: 1.1837 - val_accuracy: 0.7135 - lr: 0.0010 - 17s/epoch - 20ms/step
Epoch 29/100
876/876 - 18s - loss: 0.2270 - accuracy: 0.9158 - val_loss: 1.1266 - val_accuracy: 0.7296 - lr: 0.0010 - 18s/epoch - 20ms/step
Epoch 30/100
876/876 - 18s - loss: 0.2224 - accuracy: 0.9174 - val_loss: 1.2047 - val_accuracy: 0.7124 - lr: 0.0010 - 18s/epoch - 20ms/step
Epoch 31/100
876/876 - 18s - loss: 0.2270 - accuracy: 0.9158 - val_loss: 1.0761 - val_accuracy: 0.7376 - lr: 0.0010 - 18s/epoch - 20ms/step
Epoch 32/100
876/876 - 18s - loss: 0.2263 - accuracy: 0.9170 - val_loss: 1.0813 - val_accuracy: 0.7330 - lr: 0.0010 - 18s/epoch - 20ms/step
Epoch 33/100
876/876 - 18s - loss: 0.2216 - accuracy: 0.9168 - val_loss: 1.2101 - val_accuracy: 0.7052 - lr: 0.0010 - 18s/epoch - 20ms/step
Epoch 34/100
876/876 - 18s - loss: 0.2240 - accuracy: 0.9166 - val_loss: 1.2892 - val_accuracy: 0.6920 - lr: 0.0010 - 18s/epoch - 20ms/step
Epoch 35/100
876/876 - 17s - loss: 0.2233 - accuracy: 0.9173 - val_loss: 1.2320 - val_accuracy: 0.7070 - lr: 0.0010 - 17s/epoch - 20ms/step
Epoch 36/100
876/876 - 18s - loss: 0.2244 - accuracy: 0.9163 - val_loss: 1.1382 - val_accuracy: 0.7200 - lr: 0.0010 - 18s/epoch - 20ms/step
Epoch 37/100
876/876 - 18s - loss: 0.2216 - accuracy: 0.9172 - val_loss: 1.1887 - val_accuracy: 0.7205 - lr: 0.0010 - 18s/epoch - 20ms/step
Epoch 38/100
876/876 - 18s - loss: 0.2157 - accuracy: 0.9201 - val_loss: 1.1303 - val_accuracy: 0.7196 - lr: 0.0010 - 18s/epoch - 20ms/step
Epoch 39/100
876/876 - 18s - loss: 0.2225 - accuracy: 0.9180 - val_loss: 1.1575 - val_accuracy: 0.7167 - lr: 0.0010 - 18s/epoch - 20ms/step
Epoch 40/100
876/876 - 18s - loss: 0.2250 - accuracy: 0.9166 - val_loss: 1.1574 - val_accuracy: 0.7157 - lr: 0.0010 - 18s/epoch - 20ms/step
Epoch 41/100
876/876 - 18s - loss: 0.2248 - accuracy: 0.9175 - val_loss: 1.1874 - val_accuracy: 0.7166 - lr: 0.0010 - 18s/epoch - 20ms/step
Epoch 42/100
876/876 - 18s - loss: 0.2246 - accuracy: 0.9171 - val_loss: 1.2250 - val_accuracy: 0.7119 - lr: 0.0010 - 18s/epoch - 20ms/step
Epoch 43/100
876/876 - 18s - loss: 0.2222 - accuracy: 0.9171 - val_loss: 1.1532 - val_accuracy: 0.7169 - lr: 0.0010 - 18s/epoch - 20ms/step
Epoch 44/100
876/876 - 18s - loss: 0.2197 - accuracy: 0.9183 - val_loss: 1.2809 - val_accuracy: 0.7012 - lr: 0.0010 - 18s/epoch - 20ms/step
Epoch 45/100
876/876 - 17s - loss: 0.2187 - accuracy: 0.9200 - val_loss: 1.3026 - val_accuracy: 0.6945 - lr: 0.0010 - 17s/epoch - 20ms/step
Epoch 46/100
876/876 - 18s - loss: 0.2171 - accuracy: 0.9198 - val_loss: 1.2278 - val_accuracy: 0.7146 - lr: 0.0010 - 18s/epoch - 20ms/step
Epoch 47/100
876/876 - 18s - loss: 0.2191 - accuracy: 0.9188 - val_loss: 1.2853 - val_accuracy: 0.7032 - lr: 0.0010 - 18s/epoch - 20ms/step
Epoch 48/100
876/876 - 18s - loss: 0.2186 - accuracy: 0.9192 - val_loss: 1.1522 - val_accuracy: 0.7220 - lr: 0.0010 - 18s/epoch - 20ms/step
Epoch 49/100
876/876 - 18s - loss: 0.2193 - accuracy: 0.9182 - val_loss: 1.2407 - val_accuracy: 0.7053 - lr: 0.0010 - 18s/epoch - 20ms/step
Epoch 50/100
876/876 - 18s - loss: 0.2186 - accuracy: 0.9193 - val_loss: 1.1432 - val_accuracy: 0.7246 - lr: 0.0010 - 18s/epoch - 20ms/step
Epoch 51/100
876/876 - 18s - loss: 0.2186 - accuracy: 0.9186 - val_loss: 1.3578 - val_accuracy: 0.6892 - lr: 0.0010 - 18s/epoch - 20ms/step
Epoch 52/100
876/876 - 18s - loss: 0.2186 - accuracy: 0.9188 - val_loss: 1.2032 - val_accuracy: 0.7146 - lr: 0.0010 - 18s/epoch - 20ms/step
Epoch 53/100
876/876 - 18s - loss: 0.2186 - accuracy: 0.9192 - val_loss: 1.3114 - val_accuracy: 0.6932 - lr: 0.0010 - 18s/epoch - 20ms/step
Epoch 54/100
876/876 - 18s - loss: 0.2194 - accuracy: 0.9177 - val_loss: 1.2724 - val_accuracy: 0.7056 - lr: 0.0010 - 18s/epoch - 20ms/step
Epoch 55/100
876/876 - 17s - loss: 0.2149 - accuracy: 0.9207 - val_loss: 1.1820 - val_accuracy: 0.7203 - lr: 0.0010 - 17s/epoch - 20ms/step
Epoch 56/100
876/876 - 17s - loss: 0.2190 - accuracy: 0.9185 - val_loss: 1.4041 - val_accuracy: 0.6855 - lr: 0.0010 - 17s/epoch - 20ms/step
Epoch 57/100
876/876 - 18s - loss: 0.2165 - accuracy: 0.9196 - val_loss: 1.1803 - val_accuracy: 0.7154 - lr: 0.0010 - 18s/epoch - 20ms/step
Epoch 58/100
876/876 - 18s - loss: 0.2192 - accuracy: 0.9195 - val_loss: 1.1731 - val_accuracy: 0.7135 - lr: 0.0010 - 18s/epoch - 20ms/step
Epoch 59/100
876/876 - 18s - loss: 0.2187 - accuracy: 0.9190 - val_loss: 1.1986 - val_accuracy: 0.7233 - lr: 0.0010 - 18s/epoch - 20ms/step
Epoch 60/100
876/876 - 18s - loss: 0.2174 - accuracy: 0.9199 - val_loss: 1.2842 - val_accuracy: 0.6904 - lr: 0.0010 - 18s/epoch - 20ms/step
Epoch 61/100
876/876 - 17s - loss: 0.2207 - accuracy: 0.9180 - val_loss: 1.2724 - val_accuracy: 0.7030 - lr: 0.0010 - 17s/epoch - 20ms/step
Epoch 62/100
876/876 - 18s - loss: 0.2138 - accuracy: 0.9212 - val_loss: 1.2406 - val_accuracy: 0.7107 - lr: 0.0010 - 18s/epoch - 20ms/step
Epoch 63/100
876/876 - 18s - loss: 0.2152 - accuracy: 0.9196 - val_loss: 1.2548 - val_accuracy: 0.7088 - lr: 0.0010 - 18s/epoch - 20ms/step
Epoch 64/100
876/876 - 18s - loss: 0.2164 - accuracy: 0.9195 - val_loss: 1.2103 - val_accuracy: 0.7112 - lr: 0.0010 - 18s/epoch - 20ms/step
Epoch 65/100
876/876 - 17s - loss: 0.2180 - accuracy: 0.9193 - val_loss: 1.1059 - val_accuracy: 0.7309 - lr: 0.0010 - 17s/epoch - 20ms/step
Epoch 66/100
876/876 - 17s - loss: 0.2165 - accuracy: 0.9197 - val_loss: 1.2990 - val_accuracy: 0.7042 - lr: 0.0010 - 17s/epoch - 20ms/step
Epoch 67/100
876/876 - 18s - loss: 0.2133 - accuracy: 0.9220 - val_loss: 1.1954 - val_accuracy: 0.7127 - lr: 0.0010 - 18s/epoch - 20ms/step
Epoch 68/100
876/876 - 18s - loss: 0.2151 - accuracy: 0.9212 - val_loss: 1.2633 - val_accuracy: 0.7100 - lr: 0.0010 - 18s/epoch - 20ms/step
Epoch 69/100
876/876 - 18s - loss: 0.2144 - accuracy: 0.9200 - val_loss: 1.2846 - val_accuracy: 0.7017 - lr: 0.0010 - 18s/epoch - 20ms/step
Epoch 70/100
876/876 - 18s - loss: 0.2110 - accuracy: 0.9215 - val_loss: 1.1271 - val_accuracy: 0.7362 - lr: 0.0010 - 18s/epoch - 20ms/step
Epoch 71/100
876/876 - 18s - loss: 0.2148 - accuracy: 0.9198 - val_loss: 1.2206 - val_accuracy: 0.7122 - lr: 0.0010 - 18s/epoch - 20ms/step
Epoch 72/100
876/876 - 18s - loss: 0.2139 - accuracy: 0.9204 - val_loss: 1.1796 - val_accuracy: 0.7141 - lr: 0.0010 - 18s/epoch - 20ms/step
Epoch 73/100
876/876 - 18s - loss: 0.2114 - accuracy: 0.9222 - val_loss: 1.1851 - val_accuracy: 0.7215 - lr: 0.0010 - 18s/epoch - 20ms/step
Epoch 74/100
876/876 - 18s - loss: 0.2121 - accuracy: 0.9225 - val_loss: 1.1327 - val_accuracy: 0.7315 - lr: 0.0010 - 18s/epoch - 20ms/step
Epoch 75/100
876/876 - 18s - loss: 0.2105 - accuracy: 0.9218 - val_loss: 1.1545 - val_accuracy: 0.7260 - lr: 0.0010 - 18s/epoch - 20ms/step
Epoch 76/100
876/876 - 18s - loss: 0.2102 - accuracy: 0.9233 - val_loss: 1.2035 - val_accuracy: 0.7308 - lr: 0.0010 - 18s/epoch - 20ms/step
Epoch 77/100
876/876 - 18s - loss: 0.2125 - accuracy: 0.9208 - val_loss: 1.1163 - val_accuracy: 0.7330 - lr: 0.0010 - 18s/epoch - 20ms/step
Epoch 78/100
876/876 - 18s - loss: 0.2151 - accuracy: 0.9206 - val_loss: 1.3482 - val_accuracy: 0.6960 - lr: 0.0010 - 18s/epoch - 20ms/step
Epoch 79/100
876/876 - 18s - loss: 0.2134 - accuracy: 0.9212 - val_loss: 1.3366 - val_accuracy: 0.6958 - lr: 0.0010 - 18s/epoch - 20ms/step
Epoch 80/100
876/876 - 18s - loss: 0.2140 - accuracy: 0.9207 - val_loss: 1.1579 - val_accuracy: 0.7209 - lr: 0.0010 - 18s/epoch - 20ms/step
Epoch 81/100
876/876 - 18s - loss: 0.2145 - accuracy: 0.9214 - val_loss: 1.3367 - val_accuracy: 0.6923 - lr: 0.0010 - 18s/epoch - 20ms/step
Epoch 82/100
876/876 - 18s - loss: 0.2104 - accuracy: 0.9221 - val_loss: 1.2322 - val_accuracy: 0.7163 - lr: 0.0010 - 18s/epoch - 20ms/step
Epoch 83/100
876/876 - 18s - loss: 0.2095 - accuracy: 0.9223 - val_loss: 1.3209 - val_accuracy: 0.7056 - lr: 0.0010 - 18s/epoch - 20ms/step
Epoch 84/100
876/876 - 18s - loss: 0.2110 - accuracy: 0.9216 - val_loss: 1.2695 - val_accuracy: 0.7040 - lr: 0.0010 - 18s/epoch - 20ms/step
Epoch 85/100
876/876 - 18s - loss: 0.2085 - accuracy: 0.9224 - val_loss: 1.2259 - val_accuracy: 0.7195 - lr: 0.0010 - 18s/epoch - 20ms/step
Epoch 86/100
876/876 - 18s - loss: 0.2103 - accuracy: 0.9222 - val_loss: 1.2427 - val_accuracy: 0.7151 - lr: 0.0010 - 18s/epoch - 20ms/step
Epoch 87/100
876/876 - 18s - loss: 0.2147 - accuracy: 0.9202 - val_loss: 1.2496 - val_accuracy: 0.7060 - lr: 0.0010 - 18s/epoch - 20ms/step
Epoch 88/100
876/876 - 18s - loss: 0.2084 - accuracy: 0.9231 - val_loss: 1.1832 - val_accuracy: 0.7217 - lr: 0.0010 - 18s/epoch - 20ms/step
Epoch 89/100
876/876 - 18s - loss: 0.2090 - accuracy: 0.9236 - val_loss: 1.2018 - val_accuracy: 0.7174 - lr: 0.0010 - 18s/epoch - 20ms/step
Epoch 90/100
876/876 - 18s - loss: 0.2120 - accuracy: 0.9223 - val_loss: 1.1405 - val_accuracy: 0.7347 - lr: 0.0010 - 18s/epoch - 20ms/step
Epoch 91/100
876/876 - 18s - loss: 0.2142 - accuracy: 0.9212 - val_loss: 1.1970 - val_accuracy: 0.7233 - lr: 0.0010 - 18s/epoch - 20ms/step
Epoch 92/100
876/876 - 18s - loss: 0.2070 - accuracy: 0.9239 - val_loss: 1.1696 - val_accuracy: 0.7282 - lr: 0.0010 - 18s/epoch - 20ms/step
Epoch 93/100
876/876 - 18s - loss: 0.2043 - accuracy: 0.9249 - val_loss: 1.2948 - val_accuracy: 0.7151 - lr: 0.0010 - 18s/epoch - 20ms/step
Epoch 94/100
876/876 - 18s - loss: 0.2089 - accuracy: 0.9230 - val_loss: 1.3038 - val_accuracy: 0.6999 - lr: 0.0010 - 18s/epoch - 20ms/step
Epoch 95/100
876/876 - 18s - loss: 0.2068 - accuracy: 0.9239 - val_loss: 1.2631 - val_accuracy: 0.7199 - lr: 0.0010 - 18s/epoch - 20ms/step
Epoch 96/100
876/876 - 18s - loss: 0.2080 - accuracy: 0.9239 - val_loss: 1.2473 - val_accuracy: 0.7233 - lr: 0.0010 - 18s/epoch - 20ms/step
Epoch 97/100
876/876 - 18s - loss: 0.2105 - accuracy: 0.9222 - val_loss: 1.3330 - val_accuracy: 0.7096 - lr: 0.0010 - 18s/epoch - 20ms/step
Epoch 98/100
876/876 - 18s - loss: 0.2119 - accuracy: 0.9213 - val_loss: 1.3502 - val_accuracy: 0.6921 - lr: 0.0010 - 18s/epoch - 20ms/step
Epoch 99/100
876/876 - 18s - loss: 0.2075 - accuracy: 0.9232 - val_loss: 1.1854 - val_accuracy: 0.7251 - lr: 0.0010 - 18s/epoch - 20ms/step
Epoch 100/100
876/876 - 18s - loss: 0.2071 - accuracy: 0.9228 - val_loss: 1.2973 - val_accuracy: 0.7060 - lr: 0.0010 - 18s/epoch - 20ms/step
Epoch 1/100
176/176 - 12s - loss: 0.1681 - accuracy: 0.9398 - val_loss: 1.3616 - val_accuracy: 0.7101 - lr: 0.0010 - 12s/epoch - 66ms/step
Epoch 2/100
176/176 - 9s - loss: 0.1538 - accuracy: 0.9450 - val_loss: 1.4288 - val_accuracy: 0.7087 - lr: 0.0010 - 9s/epoch - 50ms/step
Epoch 3/100
176/176 - 9s - loss: 0.1487 - accuracy: 0.9472 - val_loss: 1.4595 - val_accuracy: 0.7107 - lr: 0.0010 - 9s/epoch - 50ms/step
Epoch 4/100
176/176 - 9s - loss: 0.1531 - accuracy: 0.9463 - val_loss: 1.5076 - val_accuracy: 0.7078 - lr: 0.0010 - 9s/epoch - 50ms/step
Epoch 5/100
176/176 - 9s - loss: 0.1497 - accuracy: 0.9464 - val_loss: 1.5581 - val_accuracy: 0.7083 - lr: 0.0010 - 9s/epoch - 50ms/step
Epoch 6/100
176/176 - 9s - loss: 0.1516 - accuracy: 0.9459 - val_loss: 1.6115 - val_accuracy: 0.7048 - lr: 0.0010 - 9s/epoch - 50ms/step
Epoch 7/100
176/176 - 9s - loss: 0.1563 - accuracy: 0.9438 - val_loss: 1.5654 - val_accuracy: 0.7097 - lr: 0.0010 - 9s/epoch - 50ms/step
Epoch 8/100
176/176 - 9s - loss: 0.1592 - accuracy: 0.9432 - val_loss: 1.5476 - val_accuracy: 0.7151 - lr: 0.0010 - 9s/epoch - 50ms/step
Epoch 9/100
176/176 - 9s - loss: 0.1556 - accuracy: 0.9447 - val_loss: 1.7064 - val_accuracy: 0.6944 - lr: 0.0010 - 9s/epoch - 50ms/step
Epoch 10/100
176/176 - 9s - loss: 0.1578 - accuracy: 0.9442 - val_loss: 1.6697 - val_accuracy: 0.6944 - lr: 0.0010 - 9s/epoch - 50ms/step
Epoch 11/100
176/176 - 9s - loss: 0.1568 - accuracy: 0.9434 - val_loss: 1.5942 - val_accuracy: 0.7071 - lr: 0.0010 - 9s/epoch - 50ms/step
Epoch 12/100
176/176 - 9s - loss: 0.1552 - accuracy: 0.9443 - val_loss: 1.6603 - val_accuracy: 0.6979 - lr: 0.0010 - 9s/epoch - 50ms/step
Epoch 13/100
176/176 - 9s - loss: 0.1575 - accuracy: 0.9432 - val_loss: 1.6791 - val_accuracy: 0.7051 - lr: 0.0010 - 9s/epoch - 50ms/step
Epoch 14/100
176/176 - 9s - loss: 0.1591 - accuracy: 0.9425 - val_loss: 1.6080 - val_accuracy: 0.7032 - lr: 0.0010 - 9s/epoch - 50ms/step
Epoch 15/100
176/176 - 9s - loss: 0.1578 - accuracy: 0.9427 - val_loss: 1.5828 - val_accuracy: 0.7140 - lr: 0.0010 - 9s/epoch - 50ms/step
Epoch 16/100
176/176 - 9s - loss: 0.1567 - accuracy: 0.9440 - val_loss: 1.7152 - val_accuracy: 0.6985 - lr: 0.0010 - 9s/epoch - 50ms/step
Epoch 17/100
176/176 - 9s - loss: 0.1575 - accuracy: 0.9432 - val_loss: 1.7222 - val_accuracy: 0.6999 - lr: 0.0010 - 9s/epoch - 50ms/step
Epoch 18/100
176/176 - 9s - loss: 0.1571 - accuracy: 0.9442 - val_loss: 1.6163 - val_accuracy: 0.7138 - lr: 0.0010 - 9s/epoch - 50ms/step
Epoch 19/100
176/176 - 9s - loss: 0.1594 - accuracy: 0.9432 - val_loss: 1.6863 - val_accuracy: 0.7054 - lr: 0.0010 - 9s/epoch - 50ms/step
Epoch 20/100
176/176 - 9s - loss: 0.1541 - accuracy: 0.9453 - val_loss: 1.7850 - val_accuracy: 0.6925 - lr: 0.0010 - 9s/epoch - 50ms/step
Epoch 21/100
176/176 - 9s - loss: 0.1547 - accuracy: 0.9449 - val_loss: 1.7796 - val_accuracy: 0.6991 - lr: 0.0010 - 9s/epoch - 50ms/step
Epoch 22/100
176/176 - 9s - loss: 0.1539 - accuracy: 0.9446 - val_loss: 1.7361 - val_accuracy: 0.7086 - lr: 0.0010 - 9s/epoch - 50ms/step
Epoch 23/100
176/176 - 9s - loss: 0.1575 - accuracy: 0.9435 - val_loss: 1.7115 - val_accuracy: 0.7095 - lr: 0.0010 - 9s/epoch - 51ms/step
Epoch 24/100
176/176 - 9s - loss: 0.1527 - accuracy: 0.9451 - val_loss: 1.8227 - val_accuracy: 0.7001 - lr: 0.0010 - 9s/epoch - 50ms/step
Epoch 25/100
176/176 - 9s - loss: 0.1502 - accuracy: 0.9464 - val_loss: 1.7384 - val_accuracy: 0.7096 - lr: 0.0010 - 9s/epoch - 50ms/step
Epoch 26/100
176/176 - 9s - loss: 0.1506 - accuracy: 0.9467 - val_loss: 1.7998 - val_accuracy: 0.7054 - lr: 0.0010 - 9s/epoch - 50ms/step
Epoch 27/100
176/176 - 9s - loss: 0.1490 - accuracy: 0.9462 - val_loss: 1.8285 - val_accuracy: 0.6989 - lr: 0.0010 - 9s/epoch - 50ms/step
Epoch 28/100
176/176 - 9s - loss: 0.1488 - accuracy: 0.9475 - val_loss: 1.8271 - val_accuracy: 0.6984 - lr: 0.0010 - 9s/epoch - 50ms/step
Epoch 29/100
176/176 - 9s - loss: 0.1481 - accuracy: 0.9471 - val_loss: 1.8136 - val_accuracy: 0.6999 - lr: 0.0010 - 9s/epoch - 51ms/step
Epoch 30/100
176/176 - 9s - loss: 0.1481 - accuracy: 0.9468 - val_loss: 1.9328 - val_accuracy: 0.6913 - lr: 0.0010 - 9s/epoch - 50ms/step
Epoch 31/100
176/176 - 9s - loss: 0.1505 - accuracy: 0.9464 - val_loss: 1.7710 - val_accuracy: 0.7062 - lr: 0.0010 - 9s/epoch - 50ms/step
Epoch 32/100
176/176 - 9s - loss: 0.1483 - accuracy: 0.9475 - val_loss: 1.6971 - val_accuracy: 0.7154 - lr: 0.0010 - 9s/epoch - 50ms/step
Epoch 33/100
176/176 - 9s - loss: 0.1500 - accuracy: 0.9464 - val_loss: 1.7906 - val_accuracy: 0.7032 - lr: 0.0010 - 9s/epoch - 50ms/step
Epoch 34/100
176/176 - 9s - loss: 0.1514 - accuracy: 0.9462 - val_loss: 1.7356 - val_accuracy: 0.7101 - lr: 0.0010 - 9s/epoch - 50ms/step
Epoch 35/100
176/176 - 9s - loss: 0.1474 - accuracy: 0.9479 - val_loss: 1.8466 - val_accuracy: 0.7024 - lr: 0.0010 - 9s/epoch - 50ms/step
Epoch 36/100
176/176 - 9s - loss: 0.1482 - accuracy: 0.9476 - val_loss: 1.6884 - val_accuracy: 0.7180 - lr: 0.0010 - 9s/epoch - 51ms/step
Epoch 37/100
176/176 - 9s - loss: 0.1482 - accuracy: 0.9462 - val_loss: 1.9517 - val_accuracy: 0.6907 - lr: 0.0010 - 9s/epoch - 50ms/step
Epoch 38/100
176/176 - 9s - loss: 0.1521 - accuracy: 0.9453 - val_loss: 1.7645 - val_accuracy: 0.7130 - lr: 0.0010 - 9s/epoch - 50ms/step
Epoch 39/100
176/176 - 9s - loss: 0.1472 - accuracy: 0.9477 - val_loss: 1.9335 - val_accuracy: 0.6980 - lr: 0.0010 - 9s/epoch - 50ms/step
Epoch 40/100
176/176 - 9s - loss: 0.1522 - accuracy: 0.9455 - val_loss: 1.8173 - val_accuracy: 0.7060 - lr: 0.0010 - 9s/epoch - 50ms/step
Epoch 41/100
176/176 - 9s - loss: 0.1512 - accuracy: 0.9460 - val_loss: 1.7863 - val_accuracy: 0.7053 - lr: 0.0010 - 9s/epoch - 50ms/step
Epoch 42/100
176/176 - 9s - loss: 0.1521 - accuracy: 0.9465 - val_loss: 1.7380 - val_accuracy: 0.7106 - lr: 0.0010 - 9s/epoch - 50ms/step
Epoch 43/100
176/176 - 9s - loss: 0.1546 - accuracy: 0.9444 - val_loss: 1.7777 - val_accuracy: 0.7145 - lr: 0.0010 - 9s/epoch - 50ms/step
Epoch 44/100
176/176 - 9s - loss: 0.1482 - accuracy: 0.9472 - val_loss: 1.7545 - val_accuracy: 0.7123 - lr: 0.0010 - 9s/epoch - 50ms/step
Epoch 45/100
176/176 - 9s - loss: 0.1501 - accuracy: 0.9468 - val_loss: 1.6883 - val_accuracy: 0.7167 - lr: 0.0010 - 9s/epoch - 50ms/step
Epoch 46/100
176/176 - 9s - loss: 0.1462 - accuracy: 0.9477 - val_loss: 1.8337 - val_accuracy: 0.7014 - lr: 0.0010 - 9s/epoch - 50ms/step
Epoch 47/100
176/176 - 9s - loss: 0.1508 - accuracy: 0.9458 - val_loss: 1.8774 - val_accuracy: 0.6981 - lr: 0.0010 - 9s/epoch - 50ms/step
Epoch 48/100
176/176 - 9s - loss: 0.1485 - accuracy: 0.9470 - val_loss: 1.7946 - val_accuracy: 0.7115 - lr: 0.0010 - 9s/epoch - 51ms/step
Epoch 49/100
176/176 - 9s - loss: 0.1387 - accuracy: 0.9504 - val_loss: 1.9620 - val_accuracy: 0.7001 - lr: 0.0010 - 9s/epoch - 50ms/step
Epoch 50/100
176/176 - 9s - loss: 0.1353 - accuracy: 0.9520 - val_loss: 1.9663 - val_accuracy: 0.6965 - lr: 0.0010 - 9s/epoch - 50ms/step
Epoch 51/100
176/176 - 9s - loss: 0.1388 - accuracy: 0.9510 - val_loss: 2.0215 - val_accuracy: 0.6905 - lr: 0.0010 - 9s/epoch - 50ms/step
Epoch 52/100
176/176 - 9s - loss: 0.1422 - accuracy: 0.9491 - val_loss: 1.8813 - val_accuracy: 0.7014 - lr: 0.0010 - 9s/epoch - 50ms/step
Epoch 53/100
176/176 - 9s - loss: 0.1421 - accuracy: 0.9498 - val_loss: 1.9890 - val_accuracy: 0.6922 - lr: 0.0010 - 9s/epoch - 50ms/step
Epoch 54/100
176/176 - 9s - loss: 0.1444 - accuracy: 0.9487 - val_loss: 1.9877 - val_accuracy: 0.6886 - lr: 0.0010 - 9s/epoch - 50ms/step
Epoch 55/100
176/176 - 9s - loss: 0.1451 - accuracy: 0.9484 - val_loss: 2.0193 - val_accuracy: 0.6896 - lr: 0.0010 - 9s/epoch - 50ms/step
Epoch 56/100
176/176 - 9s - loss: 0.1442 - accuracy: 0.9490 - val_loss: 1.8647 - val_accuracy: 0.7072 - lr: 0.0010 - 9s/epoch - 50ms/step
Epoch 57/100
176/176 - 9s - loss: 0.1464 - accuracy: 0.9479 - val_loss: 1.9045 - val_accuracy: 0.7008 - lr: 0.0010 - 9s/epoch - 50ms/step
Epoch 58/100
176/176 - 9s - loss: 0.1482 - accuracy: 0.9472 - val_loss: 1.8522 - val_accuracy: 0.7073 - lr: 0.0010 - 9s/epoch - 50ms/step
Epoch 59/100
176/176 - 9s - loss: 0.1453 - accuracy: 0.9481 - val_loss: 1.8941 - val_accuracy: 0.7049 - lr: 0.0010 - 9s/epoch - 50ms/step
Epoch 60/100
176/176 - 9s - loss: 0.1459 - accuracy: 0.9479 - val_loss: 1.8021 - val_accuracy: 0.7056 - lr: 0.0010 - 9s/epoch - 50ms/step
Epoch 61/100
176/176 - 9s - loss: 0.1452 - accuracy: 0.9484 - val_loss: 1.9266 - val_accuracy: 0.6979 - lr: 0.0010 - 9s/epoch - 50ms/step
Epoch 62/100
176/176 - 9s - loss: 0.1446 - accuracy: 0.9480 - val_loss: 1.8303 - val_accuracy: 0.7093 - lr: 0.0010 - 9s/epoch - 50ms/step
Epoch 63/100
176/176 - 9s - loss: 0.1460 - accuracy: 0.9471 - val_loss: 1.9359 - val_accuracy: 0.6968 - lr: 0.0010 - 9s/epoch - 50ms/step
Epoch 64/100
176/176 - 9s - loss: 0.1497 - accuracy: 0.9462 - val_loss: 1.9267 - val_accuracy: 0.7011 - lr: 0.0010 - 9s/epoch - 50ms/step
Epoch 65/100
176/176 - 9s - loss: 0.1460 - accuracy: 0.9479 - val_loss: 1.8694 - val_accuracy: 0.7119 - lr: 0.0010 - 9s/epoch - 50ms/step
Epoch 66/100
176/176 - 9s - loss: 0.1451 - accuracy: 0.9489 - val_loss: 1.8645 - val_accuracy: 0.7097 - lr: 0.0010 - 9s/epoch - 50ms/step
Epoch 67/100
176/176 - 9s - loss: 0.1435 - accuracy: 0.9484 - val_loss: 1.9042 - val_accuracy: 0.7071 - lr: 0.0010 - 9s/epoch - 50ms/step
Epoch 68/100
176/176 - 9s - loss: 0.1469 - accuracy: 0.9467 - val_loss: 1.9950 - val_accuracy: 0.6962 - lr: 0.0010 - 9s/epoch - 50ms/step
Epoch 69/100
176/176 - 9s - loss: 0.1444 - accuracy: 0.9490 - val_loss: 1.8706 - val_accuracy: 0.7131 - lr: 0.0010 - 9s/epoch - 50ms/step
Epoch 70/100
176/176 - 9s - loss: 0.1484 - accuracy: 0.9466 - val_loss: 1.9554 - val_accuracy: 0.6905 - lr: 0.0010 - 9s/epoch - 50ms/step
Epoch 71/100
176/176 - 9s - loss: 0.1452 - accuracy: 0.9487 - val_loss: 1.8838 - val_accuracy: 0.7035 - lr: 0.0010 - 9s/epoch - 50ms/step
Epoch 72/100
176/176 - 9s - loss: 0.1466 - accuracy: 0.9473 - val_loss: 1.9622 - val_accuracy: 0.7040 - lr: 0.0010 - 9s/epoch - 50ms/step
Epoch 73/100
176/176 - 9s - loss: 0.1474 - accuracy: 0.9475 - val_loss: 2.0567 - val_accuracy: 0.6853 - lr: 0.0010 - 9s/epoch - 50ms/step
Epoch 74/100
176/176 - 9s - loss: 0.1435 - accuracy: 0.9491 - val_loss: 1.8577 - val_accuracy: 0.7054 - lr: 0.0010 - 9s/epoch - 50ms/step
Epoch 75/100
176/176 - 9s - loss: 0.1449 - accuracy: 0.9479 - val_loss: 1.9393 - val_accuracy: 0.7079 - lr: 0.0010 - 9s/epoch - 50ms/step
Epoch 76/100
176/176 - 9s - loss: 0.1450 - accuracy: 0.9488 - val_loss: 1.9613 - val_accuracy: 0.6967 - lr: 0.0010 - 9s/epoch - 50ms/step
Epoch 77/100
176/176 - 9s - loss: 0.1413 - accuracy: 0.9503 - val_loss: 1.8975 - val_accuracy: 0.7035 - lr: 0.0010 - 9s/epoch - 50ms/step
Epoch 78/100
176/176 - 9s - loss: 0.1458 - accuracy: 0.9479 - val_loss: 2.0689 - val_accuracy: 0.6866 - lr: 0.0010 - 9s/epoch - 50ms/step
Epoch 79/100
176/176 - 9s - loss: 0.1438 - accuracy: 0.9483 - val_loss: 1.9944 - val_accuracy: 0.6971 - lr: 0.0010 - 9s/epoch - 50ms/step
Epoch 80/100
176/176 - 9s - loss: 0.1460 - accuracy: 0.9481 - val_loss: 2.0285 - val_accuracy: 0.6918 - lr: 0.0010 - 9s/epoch - 50ms/step
Epoch 81/100
176/176 - 9s - loss: 0.1417 - accuracy: 0.9493 - val_loss: 1.8631 - val_accuracy: 0.7152 - lr: 0.0010 - 9s/epoch - 50ms/step
Epoch 82/100
176/176 - 9s - loss: 0.1464 - accuracy: 0.9476 - val_loss: 1.9412 - val_accuracy: 0.7033 - lr: 0.0010 - 9s/epoch - 50ms/step
Epoch 83/100
176/176 - 9s - loss: 0.1431 - accuracy: 0.9491 - val_loss: 1.9782 - val_accuracy: 0.6966 - lr: 0.0010 - 9s/epoch - 50ms/step
Epoch 84/100
176/176 - 9s - loss: 0.1432 - accuracy: 0.9492 - val_loss: 2.0880 - val_accuracy: 0.6898 - lr: 0.0010 - 9s/epoch - 50ms/step
Epoch 85/100
176/176 - 9s - loss: 0.1373 - accuracy: 0.9517 - val_loss: 2.0385 - val_accuracy: 0.6993 - lr: 0.0010 - 9s/epoch - 50ms/step
Epoch 86/100
176/176 - 9s - loss: 0.1378 - accuracy: 0.9510 - val_loss: 2.0117 - val_accuracy: 0.7000 - lr: 0.0010 - 9s/epoch - 50ms/step
Epoch 87/100
176/176 - 9s - loss: 0.1431 - accuracy: 0.9493 - val_loss: 1.9305 - val_accuracy: 0.7031 - lr: 0.0010 - 9s/epoch - 50ms/step
Epoch 88/100
176/176 - 9s - loss: 0.1419 - accuracy: 0.9490 - val_loss: 1.9258 - val_accuracy: 0.7113 - lr: 0.0010 - 9s/epoch - 50ms/step
Epoch 89/100
176/176 - 9s - loss: 0.1441 - accuracy: 0.9482 - val_loss: 2.2017 - val_accuracy: 0.6839 - lr: 0.0010 - 9s/epoch - 50ms/step
Epoch 90/100
176/176 - 9s - loss: 0.1461 - accuracy: 0.9472 - val_loss: 1.9824 - val_accuracy: 0.7054 - lr: 0.0010 - 9s/epoch - 50ms/step
Epoch 91/100
176/176 - 9s - loss: 0.1405 - accuracy: 0.9504 - val_loss: 1.8104 - val_accuracy: 0.7154 - lr: 0.0010 - 9s/epoch - 50ms/step
Epoch 92/100
176/176 - 9s - loss: 0.1364 - accuracy: 0.9517 - val_loss: 1.9742 - val_accuracy: 0.7045 - lr: 0.0010 - 9s/epoch - 50ms/step
Epoch 93/100
176/176 - 9s - loss: 0.1342 - accuracy: 0.9529 - val_loss: 1.9922 - val_accuracy: 0.6997 - lr: 0.0010 - 9s/epoch - 51ms/step
Epoch 94/100
176/176 - 9s - loss: 0.1395 - accuracy: 0.9512 - val_loss: 2.1423 - val_accuracy: 0.6890 - lr: 0.0010 - 9s/epoch - 50ms/step
Epoch 95/100
176/176 - 9s - loss: 0.1346 - accuracy: 0.9529 - val_loss: 2.0889 - val_accuracy: 0.6915 - lr: 0.0010 - 9s/epoch - 50ms/step
Epoch 96/100
176/176 - 9s - loss: 0.1330 - accuracy: 0.9528 - val_loss: 2.1693 - val_accuracy: 0.6924 - lr: 0.0010 - 9s/epoch - 50ms/step
Epoch 97/100
176/176 - 9s - loss: 0.1390 - accuracy: 0.9513 - val_loss: 2.0262 - val_accuracy: 0.7052 - lr: 0.0010 - 9s/epoch - 50ms/step
Epoch 98/100
176/176 - 9s - loss: 0.1387 - accuracy: 0.9504 - val_loss: 2.2450 - val_accuracy: 0.6840 - lr: 0.0010 - 9s/epoch - 50ms/step
Epoch 99/100
176/176 - 9s - loss: 0.1429 - accuracy: 0.9493 - val_loss: 1.9938 - val_accuracy: 0.6967 - lr: 0.0010 - 9s/epoch - 50ms/step
Epoch 100/100
176/176 - 9s - loss: 0.1460 - accuracy: 0.9474 - val_loss: 2.1752 - val_accuracy: 0.6771 - lr: 0.0010 - 9s/epoch - 50ms/step
Epoch 1/100
36/36 - 10s - loss: 0.1318 - accuracy: 0.9537 - val_loss: 2.0739 - val_accuracy: 0.6901 - lr: 0.0010 - 10s/epoch - 279ms/step
Epoch 2/100
36/36 - 8s - loss: 0.1200 - accuracy: 0.9587 - val_loss: 2.1181 - val_accuracy: 0.6938 - lr: 0.0010 - 8s/epoch - 213ms/step
Epoch 3/100
36/36 - 8s - loss: 0.1171 - accuracy: 0.9597 - val_loss: 2.1422 - val_accuracy: 0.6904 - lr: 0.0010 - 8s/epoch - 213ms/step
Epoch 4/100
36/36 - 8s - loss: 0.1139 - accuracy: 0.9614 - val_loss: 2.1286 - val_accuracy: 0.6947 - lr: 0.0010 - 8s/epoch - 213ms/step
Epoch 5/100
36/36 - 8s - loss: 0.1131 - accuracy: 0.9606 - val_loss: 2.1344 - val_accuracy: 0.6954 - lr: 0.0010 - 8s/epoch - 213ms/step
Epoch 6/100
36/36 - 8s - loss: 0.1155 - accuracy: 0.9597 - val_loss: 2.1857 - val_accuracy: 0.6886 - lr: 0.0010 - 8s/epoch - 213ms/step
Epoch 7/100
36/36 - 8s - loss: 0.1125 - accuracy: 0.9611 - val_loss: 2.1973 - val_accuracy: 0.6891 - lr: 0.0010 - 8s/epoch - 213ms/step
Epoch 8/100
36/36 - 8s - loss: 0.1137 - accuracy: 0.9607 - val_loss: 2.1504 - val_accuracy: 0.6958 - lr: 0.0010 - 8s/epoch - 213ms/step
Epoch 9/100
36/36 - 8s - loss: 0.1105 - accuracy: 0.9618 - val_loss: 2.2315 - val_accuracy: 0.6903 - lr: 0.0010 - 8s/epoch - 213ms/step
Epoch 10/100
36/36 - 8s - loss: 0.1089 - accuracy: 0.9624 - val_loss: 2.2991 - val_accuracy: 0.6834 - lr: 0.0010 - 8s/epoch - 213ms/step
Epoch 11/100
36/36 - 8s - loss: 0.1150 - accuracy: 0.9604 - val_loss: 2.3245 - val_accuracy: 0.6805 - lr: 0.0010 - 8s/epoch - 213ms/step
Epoch 12/100
36/36 - 8s - loss: 0.1142 - accuracy: 0.9604 - val_loss: 2.2828 - val_accuracy: 0.6867 - lr: 0.0010 - 8s/epoch - 213ms/step
Epoch 13/100
36/36 - 8s - loss: 0.1157 - accuracy: 0.9601 - val_loss: 2.2116 - val_accuracy: 0.6944 - lr: 0.0010 - 8s/epoch - 213ms/step
Epoch 14/100
36/36 - 8s - loss: 0.1118 - accuracy: 0.9611 - val_loss: 2.2682 - val_accuracy: 0.6908 - lr: 0.0010 - 8s/epoch - 213ms/step
Epoch 15/100
36/36 - 8s - loss: 0.1082 - accuracy: 0.9624 - val_loss: 2.3042 - val_accuracy: 0.6889 - lr: 0.0010 - 8s/epoch - 213ms/step
Epoch 16/100
36/36 - 8s - loss: 0.1105 - accuracy: 0.9618 - val_loss: 2.2695 - val_accuracy: 0.6904 - lr: 0.0010 - 8s/epoch - 214ms/step
Epoch 17/100
36/36 - 8s - loss: 0.1132 - accuracy: 0.9605 - val_loss: 2.2336 - val_accuracy: 0.6954 - lr: 0.0010 - 8s/epoch - 214ms/step
Epoch 18/100
36/36 - 8s - loss: 0.1163 - accuracy: 0.9604 - val_loss: 2.2547 - val_accuracy: 0.6938 - lr: 0.0010 - 8s/epoch - 214ms/step
Epoch 19/100
36/36 - 8s - loss: 0.1093 - accuracy: 0.9622 - val_loss: 2.3210 - val_accuracy: 0.6915 - lr: 0.0010 - 8s/epoch - 214ms/step
Epoch 20/100
36/36 - 8s - loss: 0.1079 - accuracy: 0.9633 - val_loss: 2.4252 - val_accuracy: 0.6811 - lr: 0.0010 - 8s/epoch - 215ms/step
Epoch 21/100
36/36 - 8s - loss: 0.1098 - accuracy: 0.9620 - val_loss: 2.3466 - val_accuracy: 0.6876 - lr: 0.0010 - 8s/epoch - 214ms/step
Epoch 22/100
36/36 - 8s - loss: 0.1084 - accuracy: 0.9628 - val_loss: 2.3328 - val_accuracy: 0.6924 - lr: 0.0010 - 8s/epoch - 214ms/step
Epoch 23/100
36/36 - 8s - loss: 0.1121 - accuracy: 0.9608 - val_loss: 2.3220 - val_accuracy: 0.6960 - lr: 0.0010 - 8s/epoch - 214ms/step
Epoch 24/100
36/36 - 8s - loss: 0.1104 - accuracy: 0.9616 - val_loss: 2.3405 - val_accuracy: 0.6919 - lr: 0.0010 - 8s/epoch - 214ms/step
Epoch 25/100
36/36 - 8s - loss: 0.1107 - accuracy: 0.9616 - val_loss: 2.3885 - val_accuracy: 0.6894 - lr: 0.0010 - 8s/epoch - 214ms/step
Epoch 26/100
36/36 - 8s - loss: 0.1108 - accuracy: 0.9617 - val_loss: 2.3544 - val_accuracy: 0.6901 - lr: 0.0010 - 8s/epoch - 214ms/step
Epoch 27/100
36/36 - 8s - loss: 0.1149 - accuracy: 0.9605 - val_loss: 2.4399 - val_accuracy: 0.6832 - lr: 0.0010 - 8s/epoch - 215ms/step
Epoch 28/100
36/36 - 8s - loss: 0.1094 - accuracy: 0.9620 - val_loss: 2.3575 - val_accuracy: 0.6884 - lr: 0.0010 - 8s/epoch - 214ms/step
Epoch 29/100
36/36 - 8s - loss: 0.1087 - accuracy: 0.9624 - val_loss: 2.5025 - val_accuracy: 0.6789 - lr: 0.0010 - 8s/epoch - 214ms/step
Epoch 30/100
36/36 - 8s - loss: 0.1060 - accuracy: 0.9631 - val_loss: 2.4862 - val_accuracy: 0.6826 - lr: 0.0010 - 8s/epoch - 214ms/step
Epoch 31/100
36/36 - 8s - loss: 0.1095 - accuracy: 0.9624 - val_loss: 2.4411 - val_accuracy: 0.6878 - lr: 0.0010 - 8s/epoch - 214ms/step
Epoch 32/100
36/36 - 8s - loss: 0.1103 - accuracy: 0.9619 - val_loss: 2.4049 - val_accuracy: 0.6860 - lr: 0.0010 - 8s/epoch - 214ms/step
Epoch 33/100
36/36 - 8s - loss: 0.1084 - accuracy: 0.9626 - val_loss: 2.4073 - val_accuracy: 0.6881 - lr: 0.0010 - 8s/epoch - 214ms/step
Epoch 34/100
36/36 - 8s - loss: 0.1068 - accuracy: 0.9632 - val_loss: 2.4902 - val_accuracy: 0.6842 - lr: 0.0010 - 8s/epoch - 214ms/step
Epoch 35/100
36/36 - 8s - loss: 0.1114 - accuracy: 0.9613 - val_loss: 2.4521 - val_accuracy: 0.6892 - lr: 0.0010 - 8s/epoch - 214ms/step
Epoch 36/100
36/36 - 8s - loss: 0.1100 - accuracy: 0.9622 - val_loss: 2.3834 - val_accuracy: 0.6940 - lr: 0.0010 - 8s/epoch - 214ms/step
Epoch 37/100
36/36 - 8s - loss: 0.1070 - accuracy: 0.9633 - val_loss: 2.4284 - val_accuracy: 0.6913 - lr: 0.0010 - 8s/epoch - 215ms/step
Epoch 38/100
36/36 - 8s - loss: 0.1131 - accuracy: 0.9614 - val_loss: 2.5323 - val_accuracy: 0.6827 - lr: 0.0010 - 8s/epoch - 214ms/step
Epoch 39/100
36/36 - 8s - loss: 0.1106 - accuracy: 0.9623 - val_loss: 2.4815 - val_accuracy: 0.6882 - lr: 0.0010 - 8s/epoch - 214ms/step
Epoch 40/100
36/36 - 8s - loss: 0.1101 - accuracy: 0.9622 - val_loss: 2.4661 - val_accuracy: 0.6865 - lr: 0.0010 - 8s/epoch - 215ms/step
Epoch 41/100
36/36 - 8s - loss: 0.1110 - accuracy: 0.9625 - val_loss: 2.4964 - val_accuracy: 0.6844 - lr: 0.0010 - 8s/epoch - 214ms/step
Epoch 42/100
36/36 - 8s - loss: 0.1049 - accuracy: 0.9635 - val_loss: 2.5321 - val_accuracy: 0.6845 - lr: 0.0010 - 8s/epoch - 214ms/step
Epoch 43/100
36/36 - 8s - loss: 0.1054 - accuracy: 0.9641 - val_loss: 2.4979 - val_accuracy: 0.6867 - lr: 0.0010 - 8s/epoch - 214ms/step
Epoch 44/100
36/36 - 8s - loss: 0.1091 - accuracy: 0.9620 - val_loss: 2.6059 - val_accuracy: 0.6795 - lr: 0.0010 - 8s/epoch - 214ms/step
Epoch 45/100
36/36 - 8s - loss: 0.1068 - accuracy: 0.9626 - val_loss: 2.5409 - val_accuracy: 0.6846 - lr: 0.0010 - 8s/epoch - 214ms/step
Epoch 46/100
36/36 - 8s - loss: 0.1060 - accuracy: 0.9633 - val_loss: 2.5119 - val_accuracy: 0.6882 - lr: 0.0010 - 8s/epoch - 214ms/step
Epoch 47/100
36/36 - 8s - loss: 0.1052 - accuracy: 0.9637 - val_loss: 2.5985 - val_accuracy: 0.6821 - lr: 0.0010 - 8s/epoch - 214ms/step
Epoch 48/100
36/36 - 8s - loss: 0.1075 - accuracy: 0.9635 - val_loss: 2.5037 - val_accuracy: 0.6880 - lr: 0.0010 - 8s/epoch - 214ms/step
Epoch 49/100
36/36 - 8s - loss: 0.1072 - accuracy: 0.9630 - val_loss: 2.6231 - val_accuracy: 0.6808 - lr: 0.0010 - 8s/epoch - 214ms/step
Epoch 50/100
36/36 - 8s - loss: 0.1110 - accuracy: 0.9614 - val_loss: 2.5215 - val_accuracy: 0.6890 - lr: 0.0010 - 8s/epoch - 214ms/step
Epoch 51/100
36/36 - 8s - loss: 0.1071 - accuracy: 0.9630 - val_loss: 2.5127 - val_accuracy: 0.6877 - lr: 0.0010 - 8s/epoch - 214ms/step
Epoch 52/100
36/36 - 8s - loss: 0.1144 - accuracy: 0.9607 - val_loss: 2.4231 - val_accuracy: 0.6992 - lr: 0.0010 - 8s/epoch - 214ms/step
Epoch 53/100
36/36 - 8s - loss: 0.1087 - accuracy: 0.9625 - val_loss: 2.5283 - val_accuracy: 0.6881 - lr: 0.0010 - 8s/epoch - 214ms/step
Epoch 54/100
36/36 - 8s - loss: 0.1037 - accuracy: 0.9649 - val_loss: 2.5411 - val_accuracy: 0.6880 - lr: 0.0010 - 8s/epoch - 214ms/step
Epoch 55/100
36/36 - 8s - loss: 0.1087 - accuracy: 0.9625 - val_loss: 2.5573 - val_accuracy: 0.6888 - lr: 0.0010 - 8s/epoch - 214ms/step
Epoch 56/100
36/36 - 8s - loss: 0.1051 - accuracy: 0.9638 - val_loss: 2.5957 - val_accuracy: 0.6850 - lr: 0.0010 - 8s/epoch - 214ms/step
Epoch 57/100
36/36 - 8s - loss: 0.1066 - accuracy: 0.9638 - val_loss: 2.5702 - val_accuracy: 0.6862 - lr: 0.0010 - 8s/epoch - 214ms/step
Epoch 58/100
36/36 - 8s - loss: 0.1063 - accuracy: 0.9632 - val_loss: 2.5550 - val_accuracy: 0.6880 - lr: 0.0010 - 8s/epoch - 215ms/step
Epoch 59/100
36/36 - 8s - loss: 0.1055 - accuracy: 0.9639 - val_loss: 2.5738 - val_accuracy: 0.6893 - lr: 0.0010 - 8s/epoch - 214ms/step
Epoch 60/100
36/36 - 8s - loss: 0.1070 - accuracy: 0.9632 - val_loss: 2.6050 - val_accuracy: 0.6852 - lr: 0.0010 - 8s/epoch - 214ms/step
Epoch 61/100
36/36 - 8s - loss: 0.1070 - accuracy: 0.9633 - val_loss: 2.5872 - val_accuracy: 0.6877 - lr: 0.0010 - 8s/epoch - 214ms/step
Epoch 62/100
36/36 - 8s - loss: 0.1033 - accuracy: 0.9647 - val_loss: 2.6016 - val_accuracy: 0.6881 - lr: 0.0010 - 8s/epoch - 214ms/step
Epoch 63/100
36/36 - 8s - loss: 0.1046 - accuracy: 0.9639 - val_loss: 2.6927 - val_accuracy: 0.6818 - lr: 0.0010 - 8s/epoch - 214ms/step
Epoch 64/100
36/36 - 8s - loss: 0.1065 - accuracy: 0.9636 - val_loss: 2.6019 - val_accuracy: 0.6910 - lr: 0.0010 - 8s/epoch - 214ms/step
Epoch 65/100
36/36 - 8s - loss: 0.1021 - accuracy: 0.9649 - val_loss: 2.6174 - val_accuracy: 0.6897 - lr: 0.0010 - 8s/epoch - 215ms/step
Epoch 66/100
36/36 - 8s - loss: 0.1074 - accuracy: 0.9628 - val_loss: 2.6896 - val_accuracy: 0.6839 - lr: 0.0010 - 8s/epoch - 214ms/step
Epoch 67/100
36/36 - 8s - loss: 0.1041 - accuracy: 0.9647 - val_loss: 2.6516 - val_accuracy: 0.6892 - lr: 0.0010 - 8s/epoch - 214ms/step
Epoch 68/100
36/36 - 8s - loss: 0.1046 - accuracy: 0.9632 - val_loss: 2.6746 - val_accuracy: 0.6866 - lr: 0.0010 - 8s/epoch - 214ms/step
Epoch 69/100
36/36 - 8s - loss: 0.1058 - accuracy: 0.9632 - val_loss: 2.7518 - val_accuracy: 0.6830 - lr: 0.0010 - 8s/epoch - 215ms/step
Epoch 70/100
36/36 - 8s - loss: 0.1058 - accuracy: 0.9636 - val_loss: 2.7204 - val_accuracy: 0.6885 - lr: 0.0010 - 8s/epoch - 214ms/step
Epoch 71/100
36/36 - 8s - loss: 0.1032 - accuracy: 0.9638 - val_loss: 2.6605 - val_accuracy: 0.6894 - lr: 0.0010 - 8s/epoch - 214ms/step
Epoch 72/100
36/36 - 8s - loss: 0.1065 - accuracy: 0.9629 - val_loss: 2.6540 - val_accuracy: 0.6896 - lr: 0.0010 - 8s/epoch - 214ms/step
Epoch 73/100
36/36 - 8s - loss: 0.1052 - accuracy: 0.9644 - val_loss: 2.6426 - val_accuracy: 0.6877 - lr: 0.0010 - 8s/epoch - 214ms/step
Epoch 74/100
36/36 - 8s - loss: 0.1083 - accuracy: 0.9625 - val_loss: 2.7377 - val_accuracy: 0.6863 - lr: 0.0010 - 8s/epoch - 214ms/step
Epoch 75/100
36/36 - 8s - loss: 0.1085 - accuracy: 0.9628 - val_loss: 2.5943 - val_accuracy: 0.6928 - lr: 0.0010 - 8s/epoch - 214ms/step
Epoch 76/100
36/36 - 8s - loss: 0.1099 - accuracy: 0.9622 - val_loss: 2.7889 - val_accuracy: 0.6802 - lr: 0.0010 - 8s/epoch - 214ms/step
Epoch 77/100
36/36 - 8s - loss: 0.1122 - accuracy: 0.9620 - val_loss: 2.7250 - val_accuracy: 0.6831 - lr: 0.0010 - 8s/epoch - 214ms/step
Epoch 78/100
36/36 - 8s - loss: 0.1079 - accuracy: 0.9630 - val_loss: 2.7113 - val_accuracy: 0.6813 - lr: 0.0010 - 8s/epoch - 214ms/step
Epoch 79/100
36/36 - 8s - loss: 0.1064 - accuracy: 0.9632 - val_loss: 2.6984 - val_accuracy: 0.6853 - lr: 0.0010 - 8s/epoch - 214ms/step
Epoch 80/100
36/36 - 8s - loss: 0.1060 - accuracy: 0.9638 - val_loss: 2.6988 - val_accuracy: 0.6849 - lr: 0.0010 - 8s/epoch - 215ms/step
Epoch 81/100
36/36 - 8s - loss: 0.1034 - accuracy: 0.9641 - val_loss: 2.7325 - val_accuracy: 0.6834 - lr: 0.0010 - 8s/epoch - 214ms/step
Epoch 82/100
36/36 - 8s - loss: 0.1076 - accuracy: 0.9628 - val_loss: 2.7331 - val_accuracy: 0.6860 - lr: 0.0010 - 8s/epoch - 214ms/step
Epoch 83/100
36/36 - 8s - loss: 0.1053 - accuracy: 0.9638 - val_loss: 2.7004 - val_accuracy: 0.6871 - lr: 0.0010 - 8s/epoch - 214ms/step
Epoch 84/100
36/36 - 8s - loss: 0.1021 - accuracy: 0.9652 - val_loss: 2.7458 - val_accuracy: 0.6875 - lr: 0.0010 - 8s/epoch - 214ms/step
Epoch 85/100
36/36 - 8s - loss: 0.1054 - accuracy: 0.9635 - val_loss: 2.7323 - val_accuracy: 0.6877 - lr: 0.0010 - 8s/epoch - 214ms/step
Epoch 86/100
36/36 - 8s - loss: 0.1039 - accuracy: 0.9641 - val_loss: 2.7441 - val_accuracy: 0.6898 - lr: 0.0010 - 8s/epoch - 215ms/step
Epoch 87/100
36/36 - 8s - loss: 0.0994 - accuracy: 0.9652 - val_loss: 2.7833 - val_accuracy: 0.6859 - lr: 0.0010 - 8s/epoch - 214ms/step
Epoch 88/100
36/36 - 8s - loss: 0.1060 - accuracy: 0.9639 - val_loss: 2.7344 - val_accuracy: 0.6900 - lr: 0.0010 - 8s/epoch - 214ms/step
Epoch 89/100
36/36 - 8s - loss: 0.1026 - accuracy: 0.9642 - val_loss: 2.7966 - val_accuracy: 0.6844 - lr: 0.0010 - 8s/epoch - 215ms/step
Epoch 90/100
36/36 - 8s - loss: 0.1050 - accuracy: 0.9637 - val_loss: 2.8346 - val_accuracy: 0.6831 - lr: 0.0010 - 8s/epoch - 214ms/step
Epoch 91/100
36/36 - 8s - loss: 0.1022 - accuracy: 0.9654 - val_loss: 2.8379 - val_accuracy: 0.6796 - lr: 0.0010 - 8s/epoch - 214ms/step
Epoch 92/100
36/36 - 8s - loss: 0.1053 - accuracy: 0.9638 - val_loss: 2.6869 - val_accuracy: 0.6928 - lr: 0.0010 - 8s/epoch - 214ms/step
Epoch 93/100
36/36 - 8s - loss: 0.1036 - accuracy: 0.9643 - val_loss: 2.7988 - val_accuracy: 0.6829 - lr: 0.0010 - 8s/epoch - 214ms/step
Epoch 94/100
36/36 - 8s - loss: 0.1052 - accuracy: 0.9638 - val_loss: 2.8015 - val_accuracy: 0.6854 - lr: 0.0010 - 8s/epoch - 214ms/step
Epoch 95/100
36/36 - 8s - loss: 0.1031 - accuracy: 0.9648 - val_loss: 2.7588 - val_accuracy: 0.6881 - lr: 0.0010 - 8s/epoch - 214ms/step
Epoch 96/100
36/36 - 8s - loss: 0.1051 - accuracy: 0.9641 - val_loss: 2.7807 - val_accuracy: 0.6855 - lr: 0.0010 - 8s/epoch - 214ms/step
Epoch 97/100
36/36 - 8s - loss: 0.1038 - accuracy: 0.9641 - val_loss: 2.7467 - val_accuracy: 0.6841 - lr: 0.0010 - 8s/epoch - 214ms/step
Epoch 98/100
36/36 - 8s - loss: 0.1045 - accuracy: 0.9642 - val_loss: 2.7879 - val_accuracy: 0.6860 - lr: 0.0010 - 8s/epoch - 214ms/step
Epoch 99/100
36/36 - 8s - loss: 0.1097 - accuracy: 0.9619 - val_loss: 2.7499 - val_accuracy: 0.6911 - lr: 0.0010 - 8s/epoch - 214ms/step
Epoch 100/100
36/36 - 8s - loss: 0.1101 - accuracy: 0.9616 - val_loss: 2.8041 - val_accuracy: 0.6871 - lr: 0.0010 - 8s/epoch - 214ms/step
Epoch 1/25
4378/4378 - 77s - loss: 0.1106 - accuracy: 0.8910 - val_loss: 0.4250 - val_accuracy: 0.7161 - lr: 0.0010 - 77s/epoch - 18ms/step
Epoch 2/25
4378/4378 - 74s - loss: 0.1092 - accuracy: 0.8868 - val_loss: 0.4565 - val_accuracy: 0.6619 - lr: 0.0010 - 74s/epoch - 17ms/step
Epoch 3/25
4378/4378 - 74s - loss: 0.1090 - accuracy: 0.8867 - val_loss: 0.3398 - val_accuracy: 0.7270 - lr: 0.0010 - 74s/epoch - 17ms/step
Epoch 4/25
4378/4378 - 74s - loss: 0.1079 - accuracy: 0.8868 - val_loss: 0.3522 - val_accuracy: 0.7216 - lr: 0.0010 - 74s/epoch - 17ms/step
Epoch 5/25
4378/4378 - 74s - loss: 0.1070 - accuracy: 0.8879 - val_loss: 0.3057 - val_accuracy: 0.7429 - lr: 0.0010 - 74s/epoch - 17ms/step
Epoch 6/25
4378/4378 - 74s - loss: 0.1072 - accuracy: 0.8884 - val_loss: 0.3369 - val_accuracy: 0.7336 - lr: 0.0010 - 74s/epoch - 17ms/step
Epoch 7/25
4378/4378 - 74s - loss: 0.1079 - accuracy: 0.8869 - val_loss: 0.3252 - val_accuracy: 0.7395 - lr: 0.0010 - 74s/epoch - 17ms/step
Epoch 8/25
4378/4378 - 74s - loss: 0.1101 - accuracy: 0.8855 - val_loss: 0.3303 - val_accuracy: 0.7319 - lr: 0.0010 - 74s/epoch - 17ms/step
Epoch 9/25
4378/4378 - 74s - loss: 0.1072 - accuracy: 0.8877 - val_loss: 0.3411 - val_accuracy: 0.7207 - lr: 0.0010 - 74s/epoch - 17ms/step
Epoch 10/25
4378/4378 - 74s - loss: 0.1065 - accuracy: 0.8895 - val_loss: 0.3075 - val_accuracy: 0.7448 - lr: 0.0010 - 74s/epoch - 17ms/step
Epoch 11/25
4378/4378 - 74s - loss: 0.1095 - accuracy: 0.8845 - val_loss: 0.3254 - val_accuracy: 0.7204 - lr: 0.0010 - 74s/epoch - 17ms/step
Epoch 12/25
4378/4378 - 74s - loss: 0.1085 - accuracy: 0.8868 - val_loss: 0.3347 - val_accuracy: 0.7244 - lr: 0.0010 - 74s/epoch - 17ms/step
Epoch 13/25
4378/4378 - 75s - loss: 0.1076 - accuracy: 0.8875 - val_loss: 0.2951 - val_accuracy: 0.7475 - lr: 0.0010 - 75s/epoch - 17ms/step
Epoch 14/25
4378/4378 - 76s - loss: 0.1072 - accuracy: 0.8883 - val_loss: 0.3118 - val_accuracy: 0.7407 - lr: 0.0010 - 76s/epoch - 17ms/step
Epoch 15/25
4378/4378 - 77s - loss: 0.1077 - accuracy: 0.8879 - val_loss: 0.3316 - val_accuracy: 0.7285 - lr: 0.0010 - 77s/epoch - 18ms/step
Epoch 16/25
4378/4378 - 85s - loss: 0.1073 - accuracy: 0.8892 - val_loss: 0.3248 - val_accuracy: 0.7190 - lr: 0.0010 - 85s/epoch - 19ms/step
Epoch 17/25
4378/4378 - 86s - loss: 0.1061 - accuracy: 0.8900 - val_loss: 0.3221 - val_accuracy: 0.7298 - lr: 0.0010 - 86s/epoch - 20ms/step
Epoch 18/25
4378/4378 - 86s - loss: 0.1078 - accuracy: 0.8882 - val_loss: 0.3465 - val_accuracy: 0.7098 - lr: 0.0010 - 86s/epoch - 20ms/step
Epoch 19/25
4378/4378 - 86s - loss: 0.1057 - accuracy: 0.8900 - val_loss: 0.3455 - val_accuracy: 0.7237 - lr: 0.0010 - 86s/epoch - 20ms/step
Epoch 20/25
4378/4378 - 84s - loss: 0.1089 - accuracy: 0.8860 - val_loss: 0.3393 - val_accuracy: 0.7040 - lr: 0.0010 - 84s/epoch - 19ms/step
Epoch 21/25
4378/4378 - 87s - loss: 0.1061 - accuracy: 0.8905 - val_loss: 0.3682 - val_accuracy: 0.6937 - lr: 0.0010 - 87s/epoch - 20ms/step
Epoch 22/25
4378/4378 - 87s - loss: 0.1066 - accuracy: 0.8893 - val_loss: 0.3180 - val_accuracy: 0.7425 - lr: 0.0010 - 87s/epoch - 20ms/step
Epoch 23/25
4378/4378 - 85s - loss: 0.1092 - accuracy: 0.8866 - val_loss: 0.3541 - val_accuracy: 0.6943 - lr: 0.0010 - 85s/epoch - 19ms/step
Epoch 24/25
4378/4378 - 83s - loss: 0.1070 - accuracy: 0.8883 - val_loss: 0.3153 - val_accuracy: 0.7234 - lr: 0.0010 - 83s/epoch - 19ms/step
Epoch 25/25
4378/4378 - 80s - loss: 0.1074 - accuracy: 0.8879 - val_loss: 0.3234 - val_accuracy: 0.7309 - lr: 0.0010 - 80s/epoch - 18ms/step
Epoch 1/25
876/876 - 25s - loss: 0.0781 - accuracy: 0.9204 - val_loss: 0.3679 - val_accuracy: 0.7217 - lr: 0.0010 - 25s/epoch - 29ms/step
Epoch 2/25
876/876 - 22s - loss: 0.0798 - accuracy: 0.9191 - val_loss: 0.4081 - val_accuracy: 0.7114 - lr: 0.0010 - 22s/epoch - 25ms/step
Epoch 3/25
876/876 - 22s - loss: 0.0800 - accuracy: 0.9188 - val_loss: 0.4025 - val_accuracy: 0.7054 - lr: 0.0010 - 22s/epoch - 25ms/step
Epoch 4/25
876/876 - 22s - loss: 0.0796 - accuracy: 0.9186 - val_loss: 0.4103 - val_accuracy: 0.7145 - lr: 0.0010 - 22s/epoch - 25ms/step
Epoch 5/25
876/876 - 22s - loss: 0.0777 - accuracy: 0.9212 - val_loss: 0.3960 - val_accuracy: 0.7194 - lr: 0.0010 - 22s/epoch - 25ms/step
Epoch 6/25
876/876 - 21s - loss: 0.0768 - accuracy: 0.9221 - val_loss: 0.3980 - val_accuracy: 0.7235 - lr: 0.0010 - 21s/epoch - 24ms/step
Epoch 7/25
876/876 - 22s - loss: 0.0767 - accuracy: 0.9221 - val_loss: 0.3567 - val_accuracy: 0.7489 - lr: 0.0010 - 22s/epoch - 25ms/step
Epoch 8/25
876/876 - 21s - loss: 0.0765 - accuracy: 0.9220 - val_loss: 0.3928 - val_accuracy: 0.7337 - lr: 0.0010 - 21s/epoch - 24ms/step
Epoch 9/25
876/876 - 21s - loss: 0.0769 - accuracy: 0.9218 - val_loss: 0.3998 - val_accuracy: 0.7244 - lr: 0.0010 - 21s/epoch - 24ms/step
Epoch 10/25
876/876 - 21s - loss: 0.0766 - accuracy: 0.9221 - val_loss: 0.4270 - val_accuracy: 0.7187 - lr: 0.0010 - 21s/epoch - 24ms/step
Epoch 11/25
876/876 - 21s - loss: 0.0754 - accuracy: 0.9240 - val_loss: 0.4235 - val_accuracy: 0.7202 - lr: 0.0010 - 21s/epoch - 24ms/step
Epoch 12/25
876/876 - 21s - loss: 0.0757 - accuracy: 0.9232 - val_loss: 0.4227 - val_accuracy: 0.7215 - lr: 0.0010 - 21s/epoch - 24ms/step
Epoch 13/25
876/876 - 21s - loss: 0.0746 - accuracy: 0.9240 - val_loss: 0.4015 - val_accuracy: 0.7304 - lr: 0.0010 - 21s/epoch - 24ms/step
Epoch 14/25
876/876 - 21s - loss: 0.0758 - accuracy: 0.9234 - val_loss: 0.4022 - val_accuracy: 0.7398 - lr: 0.0010 - 21s/epoch - 24ms/step
Epoch 15/25
876/876 - 21s - loss: 0.0752 - accuracy: 0.9236 - val_loss: 0.4314 - val_accuracy: 0.7166 - lr: 0.0010 - 21s/epoch - 24ms/step
Epoch 16/25
876/876 - 21s - loss: 0.0764 - accuracy: 0.9228 - val_loss: 0.4089 - val_accuracy: 0.7215 - lr: 0.0010 - 21s/epoch - 24ms/step
Epoch 17/25
876/876 - 21s - loss: 0.0747 - accuracy: 0.9258 - val_loss: 0.4004 - val_accuracy: 0.7353 - lr: 0.0010 - 21s/epoch - 24ms/step
Epoch 18/25
876/876 - 21s - loss: 0.0741 - accuracy: 0.9246 - val_loss: 0.4363 - val_accuracy: 0.7089 - lr: 0.0010 - 21s/epoch - 24ms/step
Epoch 19/25
876/876 - 21s - loss: 0.0748 - accuracy: 0.9246 - val_loss: 0.4310 - val_accuracy: 0.7131 - lr: 0.0010 - 21s/epoch - 24ms/step
Epoch 20/25
876/876 - 21s - loss: 0.0738 - accuracy: 0.9250 - val_loss: 0.4232 - val_accuracy: 0.7176 - lr: 0.0010 - 21s/epoch - 24ms/step
Epoch 21/25
876/876 - 21s - loss: 0.0749 - accuracy: 0.9243 - val_loss: 0.4072 - val_accuracy: 0.7289 - lr: 0.0010 - 21s/epoch - 24ms/step
Epoch 22/25
876/876 - 21s - loss: 0.0738 - accuracy: 0.9252 - val_loss: 0.4013 - val_accuracy: 0.7420 - lr: 0.0010 - 21s/epoch - 24ms/step
Epoch 23/25
876/876 - 21s - loss: 0.0745 - accuracy: 0.9249 - val_loss: 0.4128 - val_accuracy: 0.7210 - lr: 0.0010 - 21s/epoch - 24ms/step
Epoch 24/25
876/876 - 21s - loss: 0.0738 - accuracy: 0.9249 - val_loss: 0.4346 - val_accuracy: 0.7146 - lr: 0.0010 - 21s/epoch - 24ms/step
Epoch 25/25
876/876 - 22s - loss: 0.0753 - accuracy: 0.9236 - val_loss: 0.4342 - val_accuracy: 0.7136 - lr: 0.0010 - 22s/epoch - 26ms/step
Epoch 1/25
176/176 - 13s - loss: 0.0595 - accuracy: 0.9415 - val_loss: 0.4600 - val_accuracy: 0.7129 - lr: 0.0010 - 13s/epoch - 71ms/step
Epoch 2/25
176/176 - 11s - loss: 0.0535 - accuracy: 0.9478 - val_loss: 0.4711 - val_accuracy: 0.7159 - lr: 0.0010 - 11s/epoch - 64ms/step
Epoch 3/25
176/176 - 11s - loss: 0.0528 - accuracy: 0.9486 - val_loss: 0.5144 - val_accuracy: 0.7045 - lr: 0.0010 - 11s/epoch - 62ms/step
Epoch 4/25
176/176 - 10s - loss: 0.0524 - accuracy: 0.9493 - val_loss: 0.5042 - val_accuracy: 0.7094 - lr: 0.0010 - 10s/epoch - 59ms/step
Epoch 5/25
176/176 - 11s - loss: 0.0531 - accuracy: 0.9483 - val_loss: 0.5396 - val_accuracy: 0.7024 - lr: 0.0010 - 11s/epoch - 61ms/step
Epoch 6/25
176/176 - 11s - loss: 0.0545 - accuracy: 0.9463 - val_loss: 0.5390 - val_accuracy: 0.7081 - lr: 0.0010 - 11s/epoch - 61ms/step
Epoch 7/25
176/176 - 11s - loss: 0.0542 - accuracy: 0.9472 - val_loss: 0.5316 - val_accuracy: 0.7082 - lr: 0.0010 - 11s/epoch - 64ms/step
Epoch 8/25
176/176 - 11s - loss: 0.0541 - accuracy: 0.9471 - val_loss: 0.5236 - val_accuracy: 0.7079 - lr: 0.0010 - 11s/epoch - 63ms/step
Epoch 9/25
176/176 - 11s - loss: 0.0548 - accuracy: 0.9467 - val_loss: 0.5553 - val_accuracy: 0.7009 - lr: 0.0010 - 11s/epoch - 62ms/step
Epoch 10/25
176/176 - 11s - loss: 0.0547 - accuracy: 0.9473 - val_loss: 0.5040 - val_accuracy: 0.7162 - lr: 0.0010 - 11s/epoch - 63ms/step
Epoch 11/25
176/176 - 11s - loss: 0.0529 - accuracy: 0.9486 - val_loss: 0.5186 - val_accuracy: 0.7216 - lr: 0.0010 - 11s/epoch - 61ms/step
Epoch 12/25
176/176 - 11s - loss: 0.0525 - accuracy: 0.9485 - val_loss: 0.5322 - val_accuracy: 0.7174 - lr: 0.0010 - 11s/epoch - 63ms/step
Epoch 13/25
176/176 - 10s - loss: 0.0537 - accuracy: 0.9483 - val_loss: 0.5235 - val_accuracy: 0.7153 - lr: 0.0010 - 10s/epoch - 60ms/step
Epoch 14/25
176/176 - 11s - loss: 0.0540 - accuracy: 0.9486 - val_loss: 0.5070 - val_accuracy: 0.7240 - lr: 0.0010 - 11s/epoch - 63ms/step
Epoch 15/25
176/176 - 10s - loss: 0.0545 - accuracy: 0.9471 - val_loss: 0.5476 - val_accuracy: 0.7078 - lr: 0.0010 - 10s/epoch - 59ms/step
Epoch 16/25
176/176 - 11s - loss: 0.0542 - accuracy: 0.9472 - val_loss: 0.5304 - val_accuracy: 0.7138 - lr: 0.0010 - 11s/epoch - 61ms/step
Epoch 17/25
176/176 - 11s - loss: 0.0532 - accuracy: 0.9482 - val_loss: 0.5726 - val_accuracy: 0.7073 - lr: 0.0010 - 11s/epoch - 60ms/step
Epoch 18/25
176/176 - 10s - loss: 0.0520 - accuracy: 0.9501 - val_loss: 0.5459 - val_accuracy: 0.7131 - lr: 0.0010 - 10s/epoch - 59ms/step
Epoch 19/25
176/176 - 10s - loss: 0.0526 - accuracy: 0.9489 - val_loss: 0.5442 - val_accuracy: 0.7177 - lr: 0.0010 - 10s/epoch - 57ms/step
Epoch 20/25
176/176 - 10s - loss: 0.0533 - accuracy: 0.9476 - val_loss: 0.5781 - val_accuracy: 0.7015 - lr: 0.0010 - 10s/epoch - 59ms/step
Epoch 21/25
176/176 - 10s - loss: 0.0544 - accuracy: 0.9472 - val_loss: 0.5537 - val_accuracy: 0.7049 - lr: 0.0010 - 10s/epoch - 58ms/step
Epoch 22/25
176/176 - 10s - loss: 0.0532 - accuracy: 0.9483 - val_loss: 0.5071 - val_accuracy: 0.7331 - lr: 0.0010 - 10s/epoch - 57ms/step
Epoch 23/25
176/176 - 10s - loss: 0.0526 - accuracy: 0.9493 - val_loss: 0.5667 - val_accuracy: 0.7102 - lr: 0.0010 - 10s/epoch - 57ms/step
Epoch 24/25
176/176 - 10s - loss: 0.0529 - accuracy: 0.9486 - val_loss: 0.5478 - val_accuracy: 0.7123 - lr: 0.0010 - 10s/epoch - 57ms/step
Epoch 25/25
176/176 - 11s - loss: 0.0522 - accuracy: 0.9490 - val_loss: 0.5859 - val_accuracy: 0.6951 - lr: 0.0010 - 11s/epoch - 62ms/step
Epoch 1/25
36/36 - 13s - loss: 0.0490 - accuracy: 0.9523 - val_loss: 0.5948 - val_accuracy: 0.7008 - lr: 0.0010 - 13s/epoch - 362ms/step
Epoch 2/25
36/36 - 11s - loss: 0.0446 - accuracy: 0.9579 - val_loss: 0.6121 - val_accuracy: 0.6999 - lr: 0.0010 - 11s/epoch - 293ms/step
Epoch 3/25
36/36 - 10s - loss: 0.0439 - accuracy: 0.9585 - val_loss: 0.5943 - val_accuracy: 0.7070 - lr: 0.0010 - 10s/epoch - 281ms/step
Epoch 4/25
36/36 - 10s - loss: 0.0446 - accuracy: 0.9585 - val_loss: 0.6101 - val_accuracy: 0.6978 - lr: 0.0010 - 10s/epoch - 269ms/step
Epoch 5/25
36/36 - 10s - loss: 0.0437 - accuracy: 0.9586 - val_loss: 0.6125 - val_accuracy: 0.7001 - lr: 0.0010 - 10s/epoch - 273ms/step
Epoch 6/25
36/36 - 10s - loss: 0.0432 - accuracy: 0.9591 - val_loss: 0.6242 - val_accuracy: 0.6952 - lr: 0.0010 - 10s/epoch - 266ms/step
Epoch 7/25
36/36 - 10s - loss: 0.0434 - accuracy: 0.9592 - val_loss: 0.6195 - val_accuracy: 0.7008 - lr: 0.0010 - 10s/epoch - 285ms/step
Epoch 8/25
36/36 - 10s - loss: 0.0428 - accuracy: 0.9598 - val_loss: 0.6195 - val_accuracy: 0.6999 - lr: 0.0010 - 10s/epoch - 288ms/step
Epoch 9/25
36/36 - 10s - loss: 0.0425 - accuracy: 0.9592 - val_loss: 0.6228 - val_accuracy: 0.6999 - lr: 0.0010 - 10s/epoch - 287ms/step
Epoch 10/25
36/36 - 10s - loss: 0.0423 - accuracy: 0.9600 - val_loss: 0.6351 - val_accuracy: 0.6963 - lr: 0.0010 - 10s/epoch - 278ms/step
Epoch 11/25
36/36 - 10s - loss: 0.0420 - accuracy: 0.9600 - val_loss: 0.6290 - val_accuracy: 0.6997 - lr: 0.0010 - 10s/epoch - 285ms/step
Epoch 12/25
36/36 - 10s - loss: 0.0435 - accuracy: 0.9588 - val_loss: 0.6355 - val_accuracy: 0.6952 - lr: 0.0010 - 10s/epoch - 284ms/step
Epoch 13/25
36/36 - 10s - loss: 0.0425 - accuracy: 0.9598 - val_loss: 0.6211 - val_accuracy: 0.7003 - lr: 0.0010 - 10s/epoch - 291ms/step
Epoch 14/25
36/36 - 10s - loss: 0.0423 - accuracy: 0.9597 - val_loss: 0.6464 - val_accuracy: 0.6950 - lr: 0.0010 - 10s/epoch - 288ms/step
Epoch 15/25
36/36 - 10s - loss: 0.0434 - accuracy: 0.9585 - val_loss: 0.6108 - val_accuracy: 0.7068 - lr: 0.0010 - 10s/epoch - 286ms/step
Epoch 16/25
36/36 - 10s - loss: 0.0438 - accuracy: 0.9588 - val_loss: 0.6304 - val_accuracy: 0.7026 - lr: 0.0010 - 10s/epoch - 285ms/step
Epoch 17/25
36/36 - 10s - loss: 0.0429 - accuracy: 0.9596 - val_loss: 0.6317 - val_accuracy: 0.7003 - lr: 0.0010 - 10s/epoch - 281ms/step
Epoch 18/25
36/36 - 10s - loss: 0.0413 - accuracy: 0.9615 - val_loss: 0.6295 - val_accuracy: 0.7014 - lr: 0.0010 - 10s/epoch - 269ms/step
Epoch 19/25
36/36 - 10s - loss: 0.0413 - accuracy: 0.9611 - val_loss: 0.6376 - val_accuracy: 0.7012 - lr: 0.0010 - 10s/epoch - 270ms/step
Epoch 20/25
36/36 - 10s - loss: 0.0414 - accuracy: 0.9605 - val_loss: 0.6484 - val_accuracy: 0.6971 - lr: 0.0010 - 10s/epoch - 269ms/step
Epoch 21/25
36/36 - 10s - loss: 0.0430 - accuracy: 0.9591 - val_loss: 0.6466 - val_accuracy: 0.6920 - lr: 0.0010 - 10s/epoch - 270ms/step
Epoch 22/25
36/36 - 10s - loss: 0.0426 - accuracy: 0.9604 - val_loss: 0.6447 - val_accuracy: 0.6963 - lr: 0.0010 - 10s/epoch - 268ms/step
Epoch 23/25
36/36 - 10s - loss: 0.0420 - accuracy: 0.9606 - val_loss: 0.6527 - val_accuracy: 0.6957 - lr: 0.0010 - 10s/epoch - 267ms/step
Epoch 24/25
36/36 - 10s - loss: 0.0411 - accuracy: 0.9612 - val_loss: 0.6549 - val_accuracy: 0.6934 - lr: 0.0010 - 10s/epoch - 267ms/step
Epoch 25/25
36/36 - 10s - loss: 0.0414 - accuracy: 0.9608 - val_loss: 0.6582 - val_accuracy: 0.6922 - lr: 0.0010 - 10s/epoch - 269ms/step
Epoch 1/50
4378/4378 - 80s - loss: 0.0982 - accuracy: 0.9006 - val_loss: 0.3572 - val_accuracy: 0.7433 - lr: 0.0010 - 80s/epoch - 18ms/step
Epoch 2/50
4378/4378 - 78s - loss: 0.0996 - accuracy: 0.8970 - val_loss: 0.3296 - val_accuracy: 0.7457 - lr: 0.0010 - 78s/epoch - 18ms/step
Epoch 3/50
4378/4378 - 78s - loss: 0.1018 - accuracy: 0.8946 - val_loss: 0.3512 - val_accuracy: 0.7361 - lr: 0.0010 - 78s/epoch - 18ms/step
Epoch 4/50
4378/4378 - 78s - loss: 0.1030 - accuracy: 0.8926 - val_loss: 0.3001 - val_accuracy: 0.7560 - lr: 0.0010 - 78s/epoch - 18ms/step
Epoch 5/50
4378/4378 - 76s - loss: 0.1020 - accuracy: 0.8939 - val_loss: 0.2913 - val_accuracy: 0.7621 - lr: 0.0010 - 76s/epoch - 17ms/step
Epoch 6/50
4378/4378 - 76s - loss: 0.1035 - accuracy: 0.8921 - val_loss: 0.3298 - val_accuracy: 0.7219 - lr: 0.0010 - 76s/epoch - 17ms/step
Epoch 7/50
4378/4378 - 78s - loss: 0.1041 - accuracy: 0.8912 - val_loss: 0.3338 - val_accuracy: 0.7239 - lr: 0.0010 - 78s/epoch - 18ms/step
Epoch 8/50
4378/4378 - 78s - loss: 0.1039 - accuracy: 0.8915 - val_loss: 0.3014 - val_accuracy: 0.7505 - lr: 0.0010 - 78s/epoch - 18ms/step
Epoch 9/50
4378/4378 - 77s - loss: 0.1040 - accuracy: 0.8922 - val_loss: 0.3997 - val_accuracy: 0.6858 - lr: 0.0010 - 77s/epoch - 18ms/step
Epoch 10/50
4378/4378 - 77s - loss: 0.1050 - accuracy: 0.8912 - val_loss: 0.2859 - val_accuracy: 0.7599 - lr: 0.0010 - 77s/epoch - 18ms/step
Epoch 11/50
4378/4378 - 77s - loss: 0.1043 - accuracy: 0.8908 - val_loss: 0.3297 - val_accuracy: 0.7405 - lr: 0.0010 - 77s/epoch - 18ms/step
Epoch 12/50
4378/4378 - 77s - loss: 0.1054 - accuracy: 0.8901 - val_loss: 0.3216 - val_accuracy: 0.7396 - lr: 0.0010 - 77s/epoch - 18ms/step
Epoch 13/50
4378/4378 - 85s - loss: 0.1038 - accuracy: 0.8916 - val_loss: 0.3268 - val_accuracy: 0.7277 - lr: 0.0010 - 85s/epoch - 19ms/step
Epoch 14/50
4378/4378 - 88s - loss: 0.1051 - accuracy: 0.8897 - val_loss: 0.3166 - val_accuracy: 0.7248 - lr: 0.0010 - 88s/epoch - 20ms/step
Epoch 15/50
4378/4378 - 89s - loss: 0.1062 - accuracy: 0.8892 - val_loss: 0.3050 - val_accuracy: 0.7422 - lr: 0.0010 - 89s/epoch - 20ms/step
Epoch 16/50
4378/4378 - 90s - loss: 0.1054 - accuracy: 0.8897 - val_loss: 0.3260 - val_accuracy: 0.7252 - lr: 0.0010 - 90s/epoch - 21ms/step
Epoch 17/50
4378/4378 - 89s - loss: 0.1039 - accuracy: 0.8913 - val_loss: 0.3167 - val_accuracy: 0.7350 - lr: 0.0010 - 89s/epoch - 20ms/step
Epoch 18/50
4378/4378 - 90s - loss: 0.1045 - accuracy: 0.8916 - val_loss: 0.3204 - val_accuracy: 0.7289 - lr: 0.0010 - 90s/epoch - 20ms/step
Epoch 19/50
4378/4378 - 90s - loss: 0.1041 - accuracy: 0.8917 - val_loss: 0.3508 - val_accuracy: 0.7214 - lr: 0.0010 - 90s/epoch - 21ms/step
Epoch 20/50
4378/4378 - 90s - loss: 0.1038 - accuracy: 0.8916 - val_loss: 0.3072 - val_accuracy: 0.7466 - lr: 0.0010 - 90s/epoch - 21ms/step
Epoch 21/50
4378/4378 - 84s - loss: 0.1039 - accuracy: 0.8918 - val_loss: 0.3470 - val_accuracy: 0.7206 - lr: 0.0010 - 84s/epoch - 19ms/step
Epoch 22/50
4378/4378 - 84s - loss: 0.1044 - accuracy: 0.8909 - val_loss: 0.3356 - val_accuracy: 0.7126 - lr: 0.0010 - 84s/epoch - 19ms/step
Epoch 23/50
4378/4378 - 84s - loss: 0.1041 - accuracy: 0.8918 - val_loss: 0.3204 - val_accuracy: 0.7384 - lr: 0.0010 - 84s/epoch - 19ms/step
Epoch 24/50
4378/4378 - 83s - loss: 0.1036 - accuracy: 0.8914 - val_loss: 0.3401 - val_accuracy: 0.7168 - lr: 0.0010 - 83s/epoch - 19ms/step
Epoch 25/50
4378/4378 - 83s - loss: 0.1053 - accuracy: 0.8903 - val_loss: 0.3226 - val_accuracy: 0.7324 - lr: 0.0010 - 83s/epoch - 19ms/step
Epoch 26/50
4378/4378 - 82s - loss: 0.1051 - accuracy: 0.8912 - val_loss: 0.3478 - val_accuracy: 0.7109 - lr: 0.0010 - 82s/epoch - 19ms/step
Epoch 27/50
4378/4378 - 82s - loss: 0.1035 - accuracy: 0.8925 - val_loss: 0.3194 - val_accuracy: 0.7362 - lr: 0.0010 - 82s/epoch - 19ms/step
Epoch 28/50
4378/4378 - 81s - loss: 0.1051 - accuracy: 0.8906 - val_loss: 0.3365 - val_accuracy: 0.7228 - lr: 0.0010 - 81s/epoch - 19ms/step
Epoch 29/50
4378/4378 - 81s - loss: 0.1050 - accuracy: 0.8911 - val_loss: 0.3533 - val_accuracy: 0.7042 - lr: 0.0010 - 81s/epoch - 19ms/step
Epoch 30/50
4378/4378 - 81s - loss: 0.1051 - accuracy: 0.8913 - val_loss: 0.3375 - val_accuracy: 0.7205 - lr: 0.0010 - 81s/epoch - 18ms/step
Epoch 31/50
4378/4378 - 79s - loss: 0.1057 - accuracy: 0.8900 - val_loss: 0.3609 - val_accuracy: 0.7042 - lr: 0.0010 - 79s/epoch - 18ms/step
Epoch 32/50
4378/4378 - 81s - loss: 0.1044 - accuracy: 0.8916 - val_loss: 0.3072 - val_accuracy: 0.7437 - lr: 0.0010 - 81s/epoch - 19ms/step
Epoch 33/50
4378/4378 - 81s - loss: 0.1024 - accuracy: 0.8941 - val_loss: 0.3015 - val_accuracy: 0.7437 - lr: 0.0010 - 81s/epoch - 18ms/step
Epoch 34/50
4378/4378 - 81s - loss: 0.1042 - accuracy: 0.8919 - val_loss: 0.3321 - val_accuracy: 0.7204 - lr: 0.0010 - 81s/epoch - 18ms/step
Epoch 35/50
4378/4378 - 80s - loss: 0.1053 - accuracy: 0.8905 - val_loss: 0.2996 - val_accuracy: 0.7437 - lr: 0.0010 - 80s/epoch - 18ms/step
Epoch 36/50
4378/4378 - 80s - loss: 0.1044 - accuracy: 0.8915 - val_loss: 0.2853 - val_accuracy: 0.7555 - lr: 0.0010 - 80s/epoch - 18ms/step
Epoch 37/50
4378/4378 - 80s - loss: 0.1052 - accuracy: 0.8911 - val_loss: 0.2837 - val_accuracy: 0.7556 - lr: 0.0010 - 80s/epoch - 18ms/step
Epoch 38/50
4378/4378 - 80s - loss: 0.1025 - accuracy: 0.8937 - val_loss: 0.3098 - val_accuracy: 0.7346 - lr: 0.0010 - 80s/epoch - 18ms/step
Epoch 39/50
4378/4378 - 82s - loss: 0.1028 - accuracy: 0.8930 - val_loss: 0.3375 - val_accuracy: 0.7239 - lr: 0.0010 - 82s/epoch - 19ms/step
Epoch 40/50
4378/4378 - 80s - loss: 0.1049 - accuracy: 0.8908 - val_loss: 0.3250 - val_accuracy: 0.7273 - lr: 0.0010 - 80s/epoch - 18ms/step
Epoch 41/50
4378/4378 - 81s - loss: 0.1045 - accuracy: 0.8911 - val_loss: 0.3353 - val_accuracy: 0.7314 - lr: 0.0010 - 81s/epoch - 18ms/step
Epoch 42/50
4378/4378 - 82s - loss: 0.1037 - accuracy: 0.8923 - val_loss: 0.3037 - val_accuracy: 0.7441 - lr: 0.0010 - 82s/epoch - 19ms/step
Epoch 43/50
4378/4378 - 80s - loss: 0.1056 - accuracy: 0.8908 - val_loss: 0.2922 - val_accuracy: 0.7473 - lr: 0.0010 - 80s/epoch - 18ms/step
Epoch 44/50
4378/4378 - 78s - loss: 0.1026 - accuracy: 0.8937 - val_loss: 0.3376 - val_accuracy: 0.7169 - lr: 0.0010 - 78s/epoch - 18ms/step
Epoch 45/50
4378/4378 - 77s - loss: 0.1021 - accuracy: 0.8946 - val_loss: 0.3173 - val_accuracy: 0.7353 - lr: 0.0010 - 77s/epoch - 18ms/step
Epoch 46/50
4378/4378 - 77s - loss: 0.1038 - accuracy: 0.8920 - val_loss: 0.3308 - val_accuracy: 0.7145 - lr: 0.0010 - 77s/epoch - 18ms/step
Epoch 47/50
4378/4378 - 77s - loss: 0.1032 - accuracy: 0.8923 - val_loss: 0.3239 - val_accuracy: 0.7282 - lr: 0.0010 - 77s/epoch - 18ms/step
Epoch 48/50
4378/4378 - 80s - loss: 0.1045 - accuracy: 0.8912 - val_loss: 0.2916 - val_accuracy: 0.7676 - lr: 0.0010 - 80s/epoch - 18ms/step
Epoch 49/50
4378/4378 - 81s - loss: 0.1035 - accuracy: 0.8930 - val_loss: 0.3138 - val_accuracy: 0.7376 - lr: 0.0010 - 81s/epoch - 19ms/step
Epoch 50/50
4378/4378 - 83s - loss: 0.1031 - accuracy: 0.8930 - val_loss: 0.3025 - val_accuracy: 0.7356 - lr: 0.0010 - 83s/epoch - 19ms/step
Epoch 1/50
876/876 - 27s - loss: 0.0762 - accuracy: 0.9232 - val_loss: 0.3485 - val_accuracy: 0.7378 - lr: 0.0010 - 27s/epoch - 31ms/step
Epoch 2/50
876/876 - 24s - loss: 0.0777 - accuracy: 0.9209 - val_loss: 0.3845 - val_accuracy: 0.7240 - lr: 0.0010 - 24s/epoch - 27ms/step
Epoch 3/50
876/876 - 24s - loss: 0.0791 - accuracy: 0.9191 - val_loss: 0.3493 - val_accuracy: 0.7427 - lr: 0.0010 - 24s/epoch - 27ms/step
Epoch 4/50
876/876 - 24s - loss: 0.0779 - accuracy: 0.9209 - val_loss: 0.3653 - val_accuracy: 0.7400 - lr: 0.0010 - 24s/epoch - 27ms/step
Epoch 5/50
876/876 - 24s - loss: 0.0755 - accuracy: 0.9226 - val_loss: 0.4009 - val_accuracy: 0.7199 - lr: 0.0010 - 24s/epoch - 27ms/step
Epoch 6/50
876/876 - 24s - loss: 0.0762 - accuracy: 0.9227 - val_loss: 0.4044 - val_accuracy: 0.7230 - lr: 0.0010 - 24s/epoch - 27ms/step
Epoch 7/50
876/876 - 24s - loss: 0.0759 - accuracy: 0.9234 - val_loss: 0.4239 - val_accuracy: 0.7120 - lr: 0.0010 - 24s/epoch - 28ms/step
Epoch 8/50
876/876 - 26s - loss: 0.0752 - accuracy: 0.9244 - val_loss: 0.4325 - val_accuracy: 0.7017 - lr: 0.0010 - 26s/epoch - 30ms/step
Epoch 9/50
876/876 - 28s - loss: 0.0735 - accuracy: 0.9260 - val_loss: 0.4130 - val_accuracy: 0.7241 - lr: 0.0010 - 28s/epoch - 31ms/step
Epoch 10/50
876/876 - 28s - loss: 0.0737 - accuracy: 0.9259 - val_loss: 0.4278 - val_accuracy: 0.7106 - lr: 0.0010 - 28s/epoch - 32ms/step
Epoch 11/50
876/876 - 28s - loss: 0.0751 - accuracy: 0.9240 - val_loss: 0.3799 - val_accuracy: 0.7328 - lr: 0.0010 - 28s/epoch - 32ms/step
Epoch 12/50
876/876 - 28s - loss: 0.0735 - accuracy: 0.9254 - val_loss: 0.3781 - val_accuracy: 0.7450 - lr: 0.0010 - 28s/epoch - 32ms/step
Epoch 13/50
876/876 - 28s - loss: 0.0730 - accuracy: 0.9266 - val_loss: 0.4254 - val_accuracy: 0.7077 - lr: 0.0010 - 28s/epoch - 32ms/step
Epoch 14/50
876/876 - 28s - loss: 0.0728 - accuracy: 0.9268 - val_loss: 0.4207 - val_accuracy: 0.7198 - lr: 0.0010 - 28s/epoch - 32ms/step
Epoch 15/50
876/876 - 28s - loss: 0.0734 - accuracy: 0.9258 - val_loss: 0.4145 - val_accuracy: 0.7145 - lr: 0.0010 - 28s/epoch - 32ms/step
Epoch 16/50
876/876 - 28s - loss: 0.0733 - accuracy: 0.9264 - val_loss: 0.3980 - val_accuracy: 0.7290 - lr: 0.0010 - 28s/epoch - 32ms/step
Epoch 17/50
876/876 - 28s - loss: 0.0728 - accuracy: 0.9266 - val_loss: 0.4108 - val_accuracy: 0.7238 - lr: 0.0010 - 28s/epoch - 32ms/step
Epoch 18/50
876/876 - 26s - loss: 0.0726 - accuracy: 0.9263 - val_loss: 0.4470 - val_accuracy: 0.6970 - lr: 0.0010 - 26s/epoch - 30ms/step
Epoch 19/50
876/876 - 31s - loss: 0.0726 - accuracy: 0.9269 - val_loss: 0.4124 - val_accuracy: 0.7270 - lr: 0.0010 - 31s/epoch - 36ms/step
Epoch 20/50
876/876 - 34s - loss: 0.0721 - accuracy: 0.9269 - val_loss: 0.4198 - val_accuracy: 0.7233 - lr: 0.0010 - 34s/epoch - 39ms/step
Epoch 21/50
876/876 - 30s - loss: 0.0727 - accuracy: 0.9259 - val_loss: 0.4366 - val_accuracy: 0.7137 - lr: 0.0010 - 30s/epoch - 34ms/step
Epoch 22/50
876/876 - 28s - loss: 0.0720 - accuracy: 0.9267 - val_loss: 0.4211 - val_accuracy: 0.7110 - lr: 0.0010 - 28s/epoch - 32ms/step
Epoch 23/50
876/876 - 28s - loss: 0.0722 - accuracy: 0.9275 - val_loss: 0.4056 - val_accuracy: 0.7267 - lr: 0.0010 - 28s/epoch - 32ms/step
Epoch 24/50
876/876 - 29s - loss: 0.0711 - accuracy: 0.9286 - val_loss: 0.4103 - val_accuracy: 0.7304 - lr: 0.0010 - 29s/epoch - 33ms/step
Epoch 25/50
876/876 - 28s - loss: 0.0721 - accuracy: 0.9277 - val_loss: 0.4137 - val_accuracy: 0.7229 - lr: 0.0010 - 28s/epoch - 32ms/step
Epoch 26/50
876/876 - 28s - loss: 0.0721 - accuracy: 0.9271 - val_loss: 0.4347 - val_accuracy: 0.7199 - lr: 0.0010 - 28s/epoch - 32ms/step
Epoch 27/50
876/876 - 28s - loss: 0.0719 - accuracy: 0.9277 - val_loss: 0.3855 - val_accuracy: 0.7435 - lr: 0.0010 - 28s/epoch - 32ms/step
Epoch 28/50
876/876 - 27s - loss: 0.0708 - accuracy: 0.9288 - val_loss: 0.4370 - val_accuracy: 0.7159 - lr: 0.0010 - 27s/epoch - 31ms/step
Epoch 29/50
876/876 - 25s - loss: 0.0703 - accuracy: 0.9292 - val_loss: 0.3991 - val_accuracy: 0.7310 - lr: 0.0010 - 25s/epoch - 29ms/step
Epoch 30/50
876/876 - 24s - loss: 0.0706 - accuracy: 0.9285 - val_loss: 0.4366 - val_accuracy: 0.7167 - lr: 0.0010 - 24s/epoch - 28ms/step
Epoch 31/50
876/876 - 25s - loss: 0.0706 - accuracy: 0.9297 - val_loss: 0.4129 - val_accuracy: 0.7337 - lr: 0.0010 - 25s/epoch - 28ms/step
Epoch 32/50
876/876 - 27s - loss: 0.0712 - accuracy: 0.9287 - val_loss: 0.4095 - val_accuracy: 0.7232 - lr: 0.0010 - 27s/epoch - 31ms/step
Epoch 33/50
876/876 - 26s - loss: 0.0715 - accuracy: 0.9273 - val_loss: 0.3983 - val_accuracy: 0.7291 - lr: 0.0010 - 26s/epoch - 30ms/step
Epoch 34/50
876/876 - 27s - loss: 0.0714 - accuracy: 0.9278 - val_loss: 0.4440 - val_accuracy: 0.7150 - lr: 0.0010 - 27s/epoch - 31ms/step
Epoch 35/50
876/876 - 27s - loss: 0.0709 - accuracy: 0.9286 - val_loss: 0.4568 - val_accuracy: 0.7023 - lr: 0.0010 - 27s/epoch - 31ms/step
Epoch 36/50
876/876 - 27s - loss: 0.0706 - accuracy: 0.9290 - val_loss: 0.4163 - val_accuracy: 0.7214 - lr: 0.0010 - 27s/epoch - 31ms/step
Epoch 37/50
876/876 - 27s - loss: 0.0701 - accuracy: 0.9298 - val_loss: 0.4252 - val_accuracy: 0.7184 - lr: 0.0010 - 27s/epoch - 31ms/step
Epoch 38/50
876/876 - 27s - loss: 0.0691 - accuracy: 0.9307 - val_loss: 0.4212 - val_accuracy: 0.7283 - lr: 0.0010 - 27s/epoch - 31ms/step
Epoch 39/50
876/876 - 27s - loss: 0.0693 - accuracy: 0.9305 - val_loss: 0.4264 - val_accuracy: 0.7247 - lr: 0.0010 - 27s/epoch - 31ms/step
Epoch 40/50
876/876 - 26s - loss: 0.0688 - accuracy: 0.9306 - val_loss: 0.4211 - val_accuracy: 0.7313 - lr: 0.0010 - 26s/epoch - 30ms/step
Epoch 41/50
876/876 - 25s - loss: 0.0711 - accuracy: 0.9283 - val_loss: 0.4047 - val_accuracy: 0.7320 - lr: 0.0010 - 25s/epoch - 29ms/step
Epoch 42/50
876/876 - 25s - loss: 0.0717 - accuracy: 0.9282 - val_loss: 0.4268 - val_accuracy: 0.7141 - lr: 0.0010 - 25s/epoch - 29ms/step
Epoch 43/50
876/876 - 26s - loss: 0.0705 - accuracy: 0.9290 - val_loss: 0.4228 - val_accuracy: 0.7230 - lr: 0.0010 - 26s/epoch - 30ms/step
Epoch 44/50
876/876 - 27s - loss: 0.0715 - accuracy: 0.9282 - val_loss: 0.4277 - val_accuracy: 0.7144 - lr: 0.0010 - 27s/epoch - 31ms/step
Epoch 45/50
876/876 - 27s - loss: 0.0689 - accuracy: 0.9310 - val_loss: 0.4224 - val_accuracy: 0.7201 - lr: 0.0010 - 27s/epoch - 31ms/step
Epoch 46/50
876/876 - 27s - loss: 0.0697 - accuracy: 0.9304 - val_loss: 0.4624 - val_accuracy: 0.7041 - lr: 0.0010 - 27s/epoch - 31ms/step
Epoch 47/50
876/876 - 27s - loss: 0.0697 - accuracy: 0.9303 - val_loss: 0.4239 - val_accuracy: 0.7183 - lr: 0.0010 - 27s/epoch - 31ms/step
Epoch 48/50
876/876 - 27s - loss: 0.0691 - accuracy: 0.9317 - val_loss: 0.4763 - val_accuracy: 0.6998 - lr: 0.0010 - 27s/epoch - 31ms/step
Epoch 49/50
876/876 - 26s - loss: 0.0698 - accuracy: 0.9309 - val_loss: 0.4348 - val_accuracy: 0.7199 - lr: 0.0010 - 26s/epoch - 30ms/step
Epoch 50/50
876/876 - 25s - loss: 0.0709 - accuracy: 0.9295 - val_loss: 0.4516 - val_accuracy: 0.7028 - lr: 0.0010 - 25s/epoch - 28ms/step
Epoch 1/50
176/176 - 16s - loss: 0.0559 - accuracy: 0.9449 - val_loss: 0.4509 - val_accuracy: 0.7183 - lr: 0.0010 - 16s/epoch - 89ms/step
Epoch 2/50
176/176 - 12s - loss: 0.0517 - accuracy: 0.9506 - val_loss: 0.4731 - val_accuracy: 0.7122 - lr: 0.0010 - 12s/epoch - 71ms/step
Epoch 3/50
176/176 - 12s - loss: 0.0498 - accuracy: 0.9518 - val_loss: 0.4823 - val_accuracy: 0.7159 - lr: 0.0010 - 12s/epoch - 68ms/step
Epoch 4/50
176/176 - 13s - loss: 0.0497 - accuracy: 0.9521 - val_loss: 0.4931 - val_accuracy: 0.7150 - lr: 0.0010 - 13s/epoch - 75ms/step
Epoch 5/50
176/176 - 13s - loss: 0.0506 - accuracy: 0.9511 - val_loss: 0.4829 - val_accuracy: 0.7222 - lr: 0.0010 - 13s/epoch - 76ms/step
Epoch 6/50
176/176 - 13s - loss: 0.0496 - accuracy: 0.9521 - val_loss: 0.5262 - val_accuracy: 0.7090 - lr: 0.0010 - 13s/epoch - 73ms/step
Epoch 7/50
176/176 - 13s - loss: 0.0512 - accuracy: 0.9506 - val_loss: 0.5189 - val_accuracy: 0.7098 - lr: 0.0010 - 13s/epoch - 76ms/step
Epoch 8/50
176/176 - 11s - loss: 0.0530 - accuracy: 0.9483 - val_loss: 0.5055 - val_accuracy: 0.7174 - lr: 0.0010 - 11s/epoch - 64ms/step
Epoch 9/50
176/176 - 12s - loss: 0.0523 - accuracy: 0.9487 - val_loss: 0.4907 - val_accuracy: 0.7263 - lr: 0.0010 - 12s/epoch - 69ms/step
Epoch 10/50
176/176 - 11s - loss: 0.0528 - accuracy: 0.9482 - val_loss: 0.5243 - val_accuracy: 0.7117 - lr: 0.0010 - 11s/epoch - 65ms/step
Epoch 11/50
176/176 - 12s - loss: 0.0522 - accuracy: 0.9495 - val_loss: 0.5237 - val_accuracy: 0.7114 - lr: 0.0010 - 12s/epoch - 66ms/step
Epoch 12/50
176/176 - 12s - loss: 0.0501 - accuracy: 0.9512 - val_loss: 0.5313 - val_accuracy: 0.7156 - lr: 0.0010 - 12s/epoch - 66ms/step
Epoch 13/50
176/176 - 12s - loss: 0.0520 - accuracy: 0.9491 - val_loss: 0.5238 - val_accuracy: 0.7188 - lr: 0.0010 - 12s/epoch - 69ms/step
Epoch 14/50
176/176 - 12s - loss: 0.0508 - accuracy: 0.9510 - val_loss: 0.5558 - val_accuracy: 0.7050 - lr: 0.0010 - 12s/epoch - 69ms/step
Epoch 15/50
176/176 - 12s - loss: 0.0517 - accuracy: 0.9504 - val_loss: 0.5698 - val_accuracy: 0.7015 - lr: 0.0010 - 12s/epoch - 69ms/step
Epoch 16/50
176/176 - 12s - loss: 0.0515 - accuracy: 0.9499 - val_loss: 0.5406 - val_accuracy: 0.7129 - lr: 0.0010 - 12s/epoch - 68ms/step
Epoch 17/50
176/176 - 12s - loss: 0.0517 - accuracy: 0.9497 - val_loss: 0.5502 - val_accuracy: 0.7052 - lr: 0.0010 - 12s/epoch - 68ms/step
Epoch 18/50
176/176 - 12s - loss: 0.0505 - accuracy: 0.9508 - val_loss: 0.5245 - val_accuracy: 0.7138 - lr: 0.0010 - 12s/epoch - 69ms/step
Epoch 19/50
176/176 - 12s - loss: 0.0527 - accuracy: 0.9496 - val_loss: 0.5147 - val_accuracy: 0.7197 - lr: 0.0010 - 12s/epoch - 67ms/step
Epoch 20/50
176/176 - 13s - loss: 0.0520 - accuracy: 0.9497 - val_loss: 0.5408 - val_accuracy: 0.7126 - lr: 0.0010 - 13s/epoch - 71ms/step
Epoch 21/50
176/176 - 12s - loss: 0.0514 - accuracy: 0.9496 - val_loss: 0.5151 - val_accuracy: 0.7200 - lr: 0.0010 - 12s/epoch - 67ms/step
Epoch 22/50
176/176 - 12s - loss: 0.0505 - accuracy: 0.9512 - val_loss: 0.5381 - val_accuracy: 0.7154 - lr: 0.0010 - 12s/epoch - 67ms/step
Epoch 23/50
176/176 - 11s - loss: 0.0498 - accuracy: 0.9522 - val_loss: 0.5306 - val_accuracy: 0.7196 - lr: 0.0010 - 11s/epoch - 65ms/step
Epoch 24/50
176/176 - 12s - loss: 0.0494 - accuracy: 0.9522 - val_loss: 0.5518 - val_accuracy: 0.7120 - lr: 0.0010 - 12s/epoch - 70ms/step
Epoch 25/50
176/176 - 12s - loss: 0.0488 - accuracy: 0.9532 - val_loss: 0.5395 - val_accuracy: 0.7135 - lr: 0.0010 - 12s/epoch - 69ms/step
Epoch 26/50
176/176 - 12s - loss: 0.0483 - accuracy: 0.9535 - val_loss: 0.5506 - val_accuracy: 0.7188 - lr: 0.0010 - 12s/epoch - 70ms/step
Epoch 27/50
176/176 - 12s - loss: 0.0489 - accuracy: 0.9530 - val_loss: 0.5521 - val_accuracy: 0.7129 - lr: 0.0010 - 12s/epoch - 67ms/step
Epoch 28/50
176/176 - 12s - loss: 0.0491 - accuracy: 0.9529 - val_loss: 0.5671 - val_accuracy: 0.7077 - lr: 0.0010 - 12s/epoch - 66ms/step
Epoch 29/50
176/176 - 12s - loss: 0.0487 - accuracy: 0.9532 - val_loss: 0.5311 - val_accuracy: 0.7197 - lr: 0.0010 - 12s/epoch - 67ms/step
Epoch 30/50
176/176 - 12s - loss: 0.0481 - accuracy: 0.9542 - val_loss: 0.5565 - val_accuracy: 0.7141 - lr: 0.0010 - 12s/epoch - 68ms/step
Epoch 31/50
176/176 - 12s - loss: 0.0479 - accuracy: 0.9542 - val_loss: 0.5764 - val_accuracy: 0.7051 - lr: 0.0010 - 12s/epoch - 67ms/step
Epoch 32/50
176/176 - 12s - loss: 0.0504 - accuracy: 0.9513 - val_loss: 0.6159 - val_accuracy: 0.6930 - lr: 0.0010 - 12s/epoch - 67ms/step
Epoch 33/50
176/176 - 12s - loss: 0.0493 - accuracy: 0.9522 - val_loss: 0.5277 - val_accuracy: 0.7245 - lr: 0.0010 - 12s/epoch - 66ms/step
Epoch 34/50
176/176 - 12s - loss: 0.0496 - accuracy: 0.9519 - val_loss: 0.5732 - val_accuracy: 0.7082 - lr: 0.0010 - 12s/epoch - 68ms/step
Epoch 35/50
176/176 - 12s - loss: 0.0492 - accuracy: 0.9530 - val_loss: 0.5671 - val_accuracy: 0.7080 - lr: 0.0010 - 12s/epoch - 66ms/step
Epoch 36/50
176/176 - 12s - loss: 0.0506 - accuracy: 0.9504 - val_loss: 0.5074 - val_accuracy: 0.7356 - lr: 0.0010 - 12s/epoch - 66ms/step
Epoch 37/50
176/176 - 12s - loss: 0.0513 - accuracy: 0.9505 - val_loss: 0.5655 - val_accuracy: 0.7079 - lr: 0.0010 - 12s/epoch - 67ms/step
Epoch 38/50
176/176 - 12s - loss: 0.0493 - accuracy: 0.9525 - val_loss: 0.5534 - val_accuracy: 0.7158 - lr: 0.0010 - 12s/epoch - 66ms/step
Epoch 39/50
176/176 - 12s - loss: 0.0497 - accuracy: 0.9520 - val_loss: 0.5332 - val_accuracy: 0.7207 - lr: 0.0010 - 12s/epoch - 66ms/step
Epoch 40/50
176/176 - 12s - loss: 0.0475 - accuracy: 0.9543 - val_loss: 0.5733 - val_accuracy: 0.7127 - lr: 0.0010 - 12s/epoch - 66ms/step
Epoch 41/50
176/176 - 11s - loss: 0.0476 - accuracy: 0.9546 - val_loss: 0.5556 - val_accuracy: 0.7098 - lr: 0.0010 - 11s/epoch - 64ms/step
Epoch 42/50
176/176 - 12s - loss: 0.0479 - accuracy: 0.9537 - val_loss: 0.5421 - val_accuracy: 0.7184 - lr: 0.0010 - 12s/epoch - 66ms/step
Epoch 43/50
176/176 - 12s - loss: 0.0471 - accuracy: 0.9542 - val_loss: 0.5996 - val_accuracy: 0.7044 - lr: 0.0010 - 12s/epoch - 66ms/step
Epoch 44/50
176/176 - 11s - loss: 0.0464 - accuracy: 0.9560 - val_loss: 0.5749 - val_accuracy: 0.7140 - lr: 0.0010 - 11s/epoch - 65ms/step
Epoch 45/50
176/176 - 12s - loss: 0.0474 - accuracy: 0.9544 - val_loss: 0.5841 - val_accuracy: 0.7109 - lr: 0.0010 - 12s/epoch - 66ms/step
Epoch 46/50
176/176 - 11s - loss: 0.0486 - accuracy: 0.9533 - val_loss: 0.5347 - val_accuracy: 0.7284 - lr: 0.0010 - 11s/epoch - 64ms/step
Epoch 47/50
176/176 - 12s - loss: 0.0476 - accuracy: 0.9538 - val_loss: 0.5487 - val_accuracy: 0.7221 - lr: 0.0010 - 12s/epoch - 69ms/step
Epoch 48/50
176/176 - 13s - loss: 0.0487 - accuracy: 0.9526 - val_loss: 0.5618 - val_accuracy: 0.7133 - lr: 0.0010 - 13s/epoch - 72ms/step
Epoch 49/50
176/176 - 13s - loss: 0.0478 - accuracy: 0.9542 - val_loss: 0.5389 - val_accuracy: 0.7263 - lr: 0.0010 - 13s/epoch - 73ms/step
Epoch 50/50
176/176 - 13s - loss: 0.0460 - accuracy: 0.9564 - val_loss: 0.5604 - val_accuracy: 0.7190 - lr: 0.0010 - 13s/epoch - 74ms/step
Epoch 1/50
36/36 - 13s - loss: 0.0428 - accuracy: 0.9591 - val_loss: 0.5975 - val_accuracy: 0.7063 - lr: 0.0010 - 13s/epoch - 372ms/step
Epoch 2/50
36/36 - 11s - loss: 0.0407 - accuracy: 0.9612 - val_loss: 0.5920 - val_accuracy: 0.7107 - lr: 0.0010 - 11s/epoch - 300ms/step
Epoch 3/50
36/36 - 11s - loss: 0.0403 - accuracy: 0.9624 - val_loss: 0.6071 - val_accuracy: 0.7027 - lr: 0.0010 - 11s/epoch - 293ms/step
Epoch 4/50
36/36 - 11s - loss: 0.0392 - accuracy: 0.9636 - val_loss: 0.6058 - val_accuracy: 0.7058 - lr: 0.0010 - 11s/epoch - 295ms/step
Epoch 5/50
36/36 - 10s - loss: 0.0387 - accuracy: 0.9641 - val_loss: 0.5948 - val_accuracy: 0.7103 - lr: 0.0010 - 10s/epoch - 279ms/step
Epoch 6/50
36/36 - 10s - loss: 0.0393 - accuracy: 0.9637 - val_loss: 0.6025 - val_accuracy: 0.7087 - lr: 0.0010 - 10s/epoch - 289ms/step
Epoch 7/50
36/36 - 10s - loss: 0.0390 - accuracy: 0.9633 - val_loss: 0.6296 - val_accuracy: 0.7005 - lr: 0.0010 - 10s/epoch - 285ms/step
Epoch 8/50
36/36 - 10s - loss: 0.0394 - accuracy: 0.9629 - val_loss: 0.6261 - val_accuracy: 0.7022 - lr: 0.0010 - 10s/epoch - 287ms/step
Epoch 9/50
36/36 - 11s - loss: 0.0385 - accuracy: 0.9642 - val_loss: 0.6268 - val_accuracy: 0.7004 - lr: 0.0010 - 11s/epoch - 295ms/step
Epoch 10/50
36/36 - 10s - loss: 0.0382 - accuracy: 0.9639 - val_loss: 0.6265 - val_accuracy: 0.7051 - lr: 0.0010 - 10s/epoch - 282ms/step
Epoch 11/50
36/36 - 10s - loss: 0.0377 - accuracy: 0.9647 - val_loss: 0.6259 - val_accuracy: 0.7026 - lr: 0.0010 - 10s/epoch - 290ms/step
Epoch 12/50
36/36 - 10s - loss: 0.0391 - accuracy: 0.9634 - val_loss: 0.6328 - val_accuracy: 0.7009 - lr: 0.0010 - 10s/epoch - 289ms/step
Epoch 13/50
36/36 - 10s - loss: 0.0382 - accuracy: 0.9642 - val_loss: 0.6505 - val_accuracy: 0.6961 - lr: 0.0010 - 10s/epoch - 277ms/step
Epoch 14/50
36/36 - 10s - loss: 0.0387 - accuracy: 0.9636 - val_loss: 0.6566 - val_accuracy: 0.6946 - lr: 0.0010 - 10s/epoch - 284ms/step
Epoch 15/50
36/36 - 10s - loss: 0.0382 - accuracy: 0.9644 - val_loss: 0.6293 - val_accuracy: 0.7070 - lr: 0.0010 - 10s/epoch - 284ms/step
Epoch 16/50
36/36 - 11s - loss: 0.0387 - accuracy: 0.9641 - val_loss: 0.6494 - val_accuracy: 0.7001 - lr: 0.0010 - 11s/epoch - 299ms/step
Epoch 17/50
36/36 - 11s - loss: 0.0392 - accuracy: 0.9627 - val_loss: 0.6450 - val_accuracy: 0.7003 - lr: 0.0010 - 11s/epoch - 316ms/step
Epoch 18/50
36/36 - 10s - loss: 0.0381 - accuracy: 0.9647 - val_loss: 0.6416 - val_accuracy: 0.7014 - lr: 0.0010 - 10s/epoch - 274ms/step
Epoch 19/50
36/36 - 10s - loss: 0.0379 - accuracy: 0.9649 - val_loss: 0.6570 - val_accuracy: 0.6974 - lr: 0.0010 - 10s/epoch - 270ms/step
Epoch 20/50
36/36 - 10s - loss: 0.0384 - accuracy: 0.9644 - val_loss: 0.6506 - val_accuracy: 0.6999 - lr: 0.0010 - 10s/epoch - 282ms/step
Epoch 21/50
36/36 - 10s - loss: 0.0386 - accuracy: 0.9640 - val_loss: 0.6493 - val_accuracy: 0.6999 - lr: 0.0010 - 10s/epoch - 275ms/step
Epoch 22/50
36/36 - 10s - loss: 0.0378 - accuracy: 0.9646 - val_loss: 0.6473 - val_accuracy: 0.7032 - lr: 0.0010 - 10s/epoch - 285ms/step
Epoch 23/50
36/36 - 11s - loss: 0.0377 - accuracy: 0.9652 - val_loss: 0.6513 - val_accuracy: 0.7009 - lr: 0.0010 - 11s/epoch - 295ms/step
Epoch 24/50
36/36 - 11s - loss: 0.0374 - accuracy: 0.9649 - val_loss: 0.6496 - val_accuracy: 0.7021 - lr: 0.0010 - 11s/epoch - 303ms/step
Epoch 25/50
36/36 - 10s - loss: 0.0381 - accuracy: 0.9638 - val_loss: 0.6552 - val_accuracy: 0.6995 - lr: 0.0010 - 10s/epoch - 283ms/step
Epoch 26/50
36/36 - 10s - loss: 0.0382 - accuracy: 0.9643 - val_loss: 0.6361 - val_accuracy: 0.7060 - lr: 0.0010 - 10s/epoch - 284ms/step
Epoch 27/50
36/36 - 10s - loss: 0.0377 - accuracy: 0.9652 - val_loss: 0.6499 - val_accuracy: 0.7033 - lr: 0.0010 - 10s/epoch - 284ms/step
Epoch 28/50
36/36 - 10s - loss: 0.0371 - accuracy: 0.9657 - val_loss: 0.6583 - val_accuracy: 0.6986 - lr: 0.0010 - 10s/epoch - 286ms/step
Epoch 29/50
36/36 - 10s - loss: 0.0389 - accuracy: 0.9639 - val_loss: 0.6554 - val_accuracy: 0.7021 - lr: 0.0010 - 10s/epoch - 285ms/step
Epoch 30/50
36/36 - 10s - loss: 0.0367 - accuracy: 0.9664 - val_loss: 0.6565 - val_accuracy: 0.7007 - lr: 0.0010 - 10s/epoch - 280ms/step
Epoch 31/50
36/36 - 10s - loss: 0.0367 - accuracy: 0.9659 - val_loss: 0.6601 - val_accuracy: 0.6988 - lr: 0.0010 - 10s/epoch - 282ms/step
Epoch 32/50
36/36 - 10s - loss: 0.0362 - accuracy: 0.9658 - val_loss: 0.6608 - val_accuracy: 0.6998 - lr: 0.0010 - 10s/epoch - 271ms/step
Epoch 33/50
36/36 - 10s - loss: 0.0370 - accuracy: 0.9656 - val_loss: 0.6422 - val_accuracy: 0.7059 - lr: 0.0010 - 10s/epoch - 278ms/step
Epoch 34/50
36/36 - 11s - loss: 0.0365 - accuracy: 0.9662 - val_loss: 0.6763 - val_accuracy: 0.6951 - lr: 0.0010 - 11s/epoch - 295ms/step
Epoch 35/50
36/36 - 11s - loss: 0.0373 - accuracy: 0.9653 - val_loss: 0.6630 - val_accuracy: 0.6988 - lr: 0.0010 - 11s/epoch - 301ms/step
Epoch 36/50
36/36 - 10s - loss: 0.0362 - accuracy: 0.9661 - val_loss: 0.6774 - val_accuracy: 0.6938 - lr: 0.0010 - 10s/epoch - 290ms/step
Epoch 37/50
36/36 - 10s - loss: 0.0379 - accuracy: 0.9646 - val_loss: 0.6798 - val_accuracy: 0.6923 - lr: 0.0010 - 10s/epoch - 286ms/step
Epoch 38/50
36/36 - 10s - loss: 0.0366 - accuracy: 0.9657 - val_loss: 0.6861 - val_accuracy: 0.6918 - lr: 0.0010 - 10s/epoch - 289ms/step
Epoch 39/50
36/36 - 10s - loss: 0.0371 - accuracy: 0.9656 - val_loss: 0.6617 - val_accuracy: 0.7035 - lr: 0.0010 - 10s/epoch - 283ms/step
Epoch 40/50
36/36 - 10s - loss: 0.0381 - accuracy: 0.9642 - val_loss: 0.6755 - val_accuracy: 0.6973 - lr: 0.0010 - 10s/epoch - 279ms/step
Epoch 41/50
36/36 - 10s - loss: 0.0378 - accuracy: 0.9643 - val_loss: 0.6703 - val_accuracy: 0.6997 - lr: 0.0010 - 10s/epoch - 274ms/step
Epoch 42/50
36/36 - 10s - loss: 0.0365 - accuracy: 0.9657 - val_loss: 0.6683 - val_accuracy: 0.7013 - lr: 0.0010 - 10s/epoch - 288ms/step
Epoch 43/50
36/36 - 10s - loss: 0.0369 - accuracy: 0.9661 - val_loss: 0.6806 - val_accuracy: 0.6958 - lr: 0.0010 - 10s/epoch - 290ms/step
Epoch 44/50
36/36 - 11s - loss: 0.0372 - accuracy: 0.9656 - val_loss: 0.6909 - val_accuracy: 0.6942 - lr: 0.0010 - 11s/epoch - 299ms/step
Epoch 45/50
36/36 - 11s - loss: 0.0368 - accuracy: 0.9657 - val_loss: 0.7060 - val_accuracy: 0.6889 - lr: 0.0010 - 11s/epoch - 293ms/step
Epoch 46/50
36/36 - 11s - loss: 0.0361 - accuracy: 0.9665 - val_loss: 0.6839 - val_accuracy: 0.6968 - lr: 0.0010 - 11s/epoch - 297ms/step
Epoch 47/50
36/36 - 11s - loss: 0.0361 - accuracy: 0.9665 - val_loss: 0.6885 - val_accuracy: 0.6975 - lr: 0.0010 - 11s/epoch - 298ms/step
Epoch 48/50
36/36 - 11s - loss: 0.0367 - accuracy: 0.9667 - val_loss: 0.6768 - val_accuracy: 0.6988 - lr: 0.0010 - 11s/epoch - 299ms/step
Epoch 49/50
36/36 - 11s - loss: 0.0364 - accuracy: 0.9661 - val_loss: 0.6778 - val_accuracy: 0.7012 - lr: 0.0010 - 11s/epoch - 300ms/step
Epoch 50/50
36/36 - 11s - loss: 0.0360 - accuracy: 0.9665 - val_loss: 0.6790 - val_accuracy: 0.6993 - lr: 0.0010 - 11s/epoch - 304ms/step
Epoch 1/75
4378/4378 - 83s - loss: 0.0960 - accuracy: 0.9041 - val_loss: 0.3676 - val_accuracy: 0.7442 - lr: 0.0010 - 83s/epoch - 19ms/step
Epoch 2/75
4378/4378 - 79s - loss: 0.0984 - accuracy: 0.8987 - val_loss: 0.3770 - val_accuracy: 0.7183 - lr: 0.0010 - 79s/epoch - 18ms/step
Epoch 3/75
4378/4378 - 78s - loss: 0.0998 - accuracy: 0.8969 - val_loss: 0.3794 - val_accuracy: 0.7109 - lr: 0.0010 - 78s/epoch - 18ms/step
Epoch 4/75
4378/4378 - 81s - loss: 0.0998 - accuracy: 0.8971 - val_loss: 0.3709 - val_accuracy: 0.7128 - lr: 0.0010 - 81s/epoch - 19ms/step
Epoch 5/75
4378/4378 - 80s - loss: 0.0997 - accuracy: 0.8973 - val_loss: 0.3143 - val_accuracy: 0.7499 - lr: 0.0010 - 80s/epoch - 18ms/step
Epoch 6/75
4378/4378 - 82s - loss: 0.1018 - accuracy: 0.8940 - val_loss: 0.3341 - val_accuracy: 0.7331 - lr: 0.0010 - 82s/epoch - 19ms/step
Epoch 7/75
4378/4378 - 81s - loss: 0.1016 - accuracy: 0.8953 - val_loss: 0.3567 - val_accuracy: 0.7115 - lr: 0.0010 - 81s/epoch - 18ms/step
Epoch 8/75
4378/4378 - 81s - loss: 0.1011 - accuracy: 0.8954 - val_loss: 0.3729 - val_accuracy: 0.7031 - lr: 0.0010 - 81s/epoch - 19ms/step
Epoch 9/75
4378/4378 - 75s - loss: 0.1008 - accuracy: 0.8962 - val_loss: 0.2960 - val_accuracy: 0.7632 - lr: 0.0010 - 75s/epoch - 17ms/step
Epoch 10/75
4378/4378 - 75s - loss: 0.1006 - accuracy: 0.8962 - val_loss: 0.3139 - val_accuracy: 0.7455 - lr: 0.0010 - 75s/epoch - 17ms/step
Epoch 11/75
4378/4378 - 75s - loss: 0.0990 - accuracy: 0.8973 - val_loss: 0.3714 - val_accuracy: 0.6989 - lr: 0.0010 - 75s/epoch - 17ms/step
Epoch 12/75
4378/4378 - 75s - loss: 0.1000 - accuracy: 0.8968 - val_loss: 0.3510 - val_accuracy: 0.7087 - lr: 0.0010 - 75s/epoch - 17ms/step
Epoch 13/75
4378/4378 - 75s - loss: 0.1008 - accuracy: 0.8942 - val_loss: 0.3300 - val_accuracy: 0.7302 - lr: 0.0010 - 75s/epoch - 17ms/step
Epoch 14/75
4378/4378 - 75s - loss: 0.0998 - accuracy: 0.8975 - val_loss: 0.3067 - val_accuracy: 0.7537 - lr: 0.0010 - 75s/epoch - 17ms/step
Epoch 15/75
4378/4378 - 75s - loss: 0.0999 - accuracy: 0.8968 - val_loss: 0.3357 - val_accuracy: 0.7239 - lr: 0.0010 - 75s/epoch - 17ms/step
Epoch 16/75
4378/4378 - 75s - loss: 0.0999 - accuracy: 0.8963 - val_loss: 0.3166 - val_accuracy: 0.7384 - lr: 0.0010 - 75s/epoch - 17ms/step
Epoch 17/75
4378/4378 - 75s - loss: 0.0976 - accuracy: 0.8995 - val_loss: 0.3125 - val_accuracy: 0.7377 - lr: 0.0010 - 75s/epoch - 17ms/step
Epoch 18/75
4378/4378 - 76s - loss: 0.0994 - accuracy: 0.8975 - val_loss: 0.3608 - val_accuracy: 0.7030 - lr: 0.0010 - 76s/epoch - 17ms/step
Epoch 19/75
4378/4378 - 78s - loss: 0.1007 - accuracy: 0.8963 - val_loss: 0.3440 - val_accuracy: 0.7103 - lr: 0.0010 - 78s/epoch - 18ms/step
Epoch 20/75
4378/4378 - 79s - loss: 0.1001 - accuracy: 0.8963 - val_loss: 0.3891 - val_accuracy: 0.6861 - lr: 0.0010 - 79s/epoch - 18ms/step
Epoch 21/75
4378/4378 - 78s - loss: 0.1000 - accuracy: 0.8961 - val_loss: 0.3424 - val_accuracy: 0.7086 - lr: 0.0010 - 78s/epoch - 18ms/step
Epoch 22/75
4378/4378 - 78s - loss: 0.0988 - accuracy: 0.8978 - val_loss: 0.3584 - val_accuracy: 0.7175 - lr: 0.0010 - 78s/epoch - 18ms/step
Epoch 23/75
4378/4378 - 81s - loss: 0.0986 - accuracy: 0.8983 - val_loss: 0.3274 - val_accuracy: 0.7415 - lr: 0.0010 - 81s/epoch - 18ms/step
Epoch 24/75
4378/4378 - 86s - loss: 0.0989 - accuracy: 0.8969 - val_loss: 0.3446 - val_accuracy: 0.7308 - lr: 0.0010 - 86s/epoch - 20ms/step
Epoch 25/75
4378/4378 - 85s - loss: 0.0993 - accuracy: 0.8979 - val_loss: 0.2918 - val_accuracy: 0.7612 - lr: 0.0010 - 85s/epoch - 19ms/step
Epoch 26/75
4378/4378 - 86s - loss: 0.1005 - accuracy: 0.8964 - val_loss: 0.3545 - val_accuracy: 0.7068 - lr: 0.0010 - 86s/epoch - 20ms/step
Epoch 27/75
4378/4378 - 86s - loss: 0.0995 - accuracy: 0.8979 - val_loss: 0.3449 - val_accuracy: 0.7185 - lr: 0.0010 - 86s/epoch - 20ms/step
Epoch 28/75
4378/4378 - 85s - loss: 0.0990 - accuracy: 0.8985 - val_loss: 0.3235 - val_accuracy: 0.7429 - lr: 0.0010 - 85s/epoch - 19ms/step
Epoch 29/75
4378/4378 - 84s - loss: 0.1000 - accuracy: 0.8959 - val_loss: 0.3192 - val_accuracy: 0.7403 - lr: 0.0010 - 84s/epoch - 19ms/step
Epoch 30/75
4378/4378 - 85s - loss: 0.1009 - accuracy: 0.8956 - val_loss: 0.3311 - val_accuracy: 0.7249 - lr: 0.0010 - 85s/epoch - 19ms/step
Epoch 31/75
4378/4378 - 83s - loss: 0.0992 - accuracy: 0.8975 - val_loss: 0.3057 - val_accuracy: 0.7643 - lr: 0.0010 - 83s/epoch - 19ms/step
Epoch 32/75
4378/4378 - 85s - loss: 0.0988 - accuracy: 0.8984 - val_loss: 0.3326 - val_accuracy: 0.7367 - lr: 0.0010 - 85s/epoch - 19ms/step
Epoch 33/75
4378/4378 - 82s - loss: 0.0995 - accuracy: 0.8978 - val_loss: 0.3135 - val_accuracy: 0.7511 - lr: 0.0010 - 82s/epoch - 19ms/step
Epoch 34/75
4378/4378 - 78s - loss: 0.0987 - accuracy: 0.8986 - val_loss: 0.3319 - val_accuracy: 0.7131 - lr: 0.0010 - 78s/epoch - 18ms/step
Epoch 35/75
4378/4378 - 79s - loss: 0.0984 - accuracy: 0.8979 - val_loss: 0.3186 - val_accuracy: 0.7358 - lr: 0.0010 - 79s/epoch - 18ms/step
Epoch 36/75
4378/4378 - 78s - loss: 0.0991 - accuracy: 0.8984 - val_loss: 0.3313 - val_accuracy: 0.7257 - lr: 0.0010 - 78s/epoch - 18ms/step
Epoch 37/75
4378/4378 - 79s - loss: 0.0997 - accuracy: 0.8972 - val_loss: 0.3442 - val_accuracy: 0.7256 - lr: 0.0010 - 79s/epoch - 18ms/step
Epoch 38/75
4378/4378 - 80s - loss: 0.0990 - accuracy: 0.8981 - val_loss: 0.3448 - val_accuracy: 0.7254 - lr: 0.0010 - 80s/epoch - 18ms/step
Epoch 39/75
4378/4378 - 79s - loss: 0.0979 - accuracy: 0.8988 - val_loss: 0.3364 - val_accuracy: 0.7272 - lr: 0.0010 - 79s/epoch - 18ms/step
Epoch 40/75
4378/4378 - 79s - loss: 0.0990 - accuracy: 0.8981 - val_loss: 0.3446 - val_accuracy: 0.7116 - lr: 0.0010 - 79s/epoch - 18ms/step
Epoch 41/75
4378/4378 - 80s - loss: 0.0975 - accuracy: 0.8986 - val_loss: 0.3508 - val_accuracy: 0.7184 - lr: 0.0010 - 80s/epoch - 18ms/step
Epoch 42/75
4378/4378 - 78s - loss: 0.0996 - accuracy: 0.8976 - val_loss: 0.3587 - val_accuracy: 0.7175 - lr: 0.0010 - 78s/epoch - 18ms/step
Epoch 43/75
4378/4378 - 79s - loss: 0.0993 - accuracy: 0.8972 - val_loss: 0.3323 - val_accuracy: 0.7236 - lr: 0.0010 - 79s/epoch - 18ms/step
Epoch 44/75
4378/4378 - 81s - loss: 0.0990 - accuracy: 0.8979 - val_loss: 0.3644 - val_accuracy: 0.6988 - lr: 0.0010 - 81s/epoch - 18ms/step
Epoch 45/75
4378/4378 - 79s - loss: 0.1000 - accuracy: 0.8962 - val_loss: 0.3550 - val_accuracy: 0.7069 - lr: 0.0010 - 79s/epoch - 18ms/step
Epoch 46/75
4378/4378 - 76s - loss: 0.1000 - accuracy: 0.8969 - val_loss: 0.3314 - val_accuracy: 0.7343 - lr: 0.0010 - 76s/epoch - 17ms/step
Epoch 47/75
4378/4378 - 79s - loss: 0.0983 - accuracy: 0.8991 - val_loss: 0.3453 - val_accuracy: 0.7320 - lr: 0.0010 - 79s/epoch - 18ms/step
Epoch 48/75
4378/4378 - 80s - loss: 0.0984 - accuracy: 0.8988 - val_loss: 0.3185 - val_accuracy: 0.7458 - lr: 0.0010 - 80s/epoch - 18ms/step
Epoch 49/75
4378/4378 - 84s - loss: 0.0976 - accuracy: 0.8993 - val_loss: 0.3775 - val_accuracy: 0.6996 - lr: 0.0010 - 84s/epoch - 19ms/step
Epoch 50/75
4378/4378 - 82s - loss: 0.0985 - accuracy: 0.8991 - val_loss: 0.3282 - val_accuracy: 0.7371 - lr: 0.0010 - 82s/epoch - 19ms/step
Epoch 51/75
4378/4378 - 82s - loss: 0.0983 - accuracy: 0.8983 - val_loss: 0.3009 - val_accuracy: 0.7585 - lr: 0.0010 - 82s/epoch - 19ms/step
Epoch 52/75
4378/4378 - 84s - loss: 0.0997 - accuracy: 0.8971 - val_loss: 0.3466 - val_accuracy: 0.7253 - lr: 0.0010 - 84s/epoch - 19ms/step
Epoch 53/75
4378/4378 - 80s - loss: 0.0986 - accuracy: 0.8990 - val_loss: 0.3113 - val_accuracy: 0.7396 - lr: 0.0010 - 80s/epoch - 18ms/step
Epoch 54/75
4378/4378 - 79s - loss: 0.0975 - accuracy: 0.8998 - val_loss: 0.3690 - val_accuracy: 0.7120 - lr: 0.0010 - 79s/epoch - 18ms/step
Epoch 55/75
4378/4378 - 79s - loss: 0.0976 - accuracy: 0.8993 - val_loss: 0.3509 - val_accuracy: 0.7195 - lr: 0.0010 - 79s/epoch - 18ms/step
Epoch 56/75
4378/4378 - 78s - loss: 0.0990 - accuracy: 0.8980 - val_loss: 0.3449 - val_accuracy: 0.7145 - lr: 0.0010 - 78s/epoch - 18ms/step
Epoch 57/75
4378/4378 - 80s - loss: 0.0978 - accuracy: 0.8985 - val_loss: 0.3903 - val_accuracy: 0.6983 - lr: 0.0010 - 80s/epoch - 18ms/step
Epoch 58/75
4378/4378 - 79s - loss: 0.0975 - accuracy: 0.8998 - val_loss: 0.3123 - val_accuracy: 0.7410 - lr: 0.0010 - 79s/epoch - 18ms/step
Epoch 59/75
4378/4378 - 78s - loss: 0.0988 - accuracy: 0.8987 - val_loss: 0.3089 - val_accuracy: 0.7484 - lr: 0.0010 - 78s/epoch - 18ms/step
Epoch 60/75
4378/4378 - 79s - loss: 0.0966 - accuracy: 0.9004 - val_loss: 0.3302 - val_accuracy: 0.7282 - lr: 0.0010 - 79s/epoch - 18ms/step
Epoch 61/75
4378/4378 - 79s - loss: 0.0991 - accuracy: 0.8969 - val_loss: 0.3423 - val_accuracy: 0.7249 - lr: 0.0010 - 79s/epoch - 18ms/step
Epoch 62/75
4378/4378 - 80s - loss: 0.0987 - accuracy: 0.8972 - val_loss: 0.3493 - val_accuracy: 0.7202 - lr: 0.0010 - 80s/epoch - 18ms/step
Epoch 63/75
4378/4378 - 79s - loss: 0.1001 - accuracy: 0.8967 - val_loss: 0.3634 - val_accuracy: 0.7110 - lr: 0.0010 - 79s/epoch - 18ms/step
Epoch 64/75
4378/4378 - 79s - loss: 0.0983 - accuracy: 0.8983 - val_loss: 0.3108 - val_accuracy: 0.7524 - lr: 0.0010 - 79s/epoch - 18ms/step
Epoch 65/75
4378/4378 - 79s - loss: 0.0981 - accuracy: 0.8993 - val_loss: 0.3069 - val_accuracy: 0.7512 - lr: 0.0010 - 79s/epoch - 18ms/step
Epoch 66/75
4378/4378 - 77s - loss: 0.0972 - accuracy: 0.9006 - val_loss: 0.3341 - val_accuracy: 0.7300 - lr: 0.0010 - 77s/epoch - 18ms/step
Epoch 67/75
4378/4378 - 80s - loss: 0.0989 - accuracy: 0.8976 - val_loss: 0.3143 - val_accuracy: 0.7365 - lr: 0.0010 - 80s/epoch - 18ms/step
Epoch 68/75
4378/4378 - 79s - loss: 0.0973 - accuracy: 0.8991 - val_loss: 0.3477 - val_accuracy: 0.7258 - lr: 0.0010 - 79s/epoch - 18ms/step
Epoch 69/75
4378/4378 - 80s - loss: 0.0983 - accuracy: 0.8991 - val_loss: 0.2944 - val_accuracy: 0.7640 - lr: 0.0010 - 80s/epoch - 18ms/step
Epoch 70/75
4378/4378 - 80s - loss: 0.0979 - accuracy: 0.8988 - val_loss: 0.3373 - val_accuracy: 0.7293 - lr: 0.0010 - 80s/epoch - 18ms/step
Epoch 71/75
4378/4378 - 81s - loss: 0.0966 - accuracy: 0.9004 - val_loss: 0.4142 - val_accuracy: 0.6838 - lr: 0.0010 - 81s/epoch - 18ms/step
Epoch 72/75
4378/4378 - 80s - loss: 0.0976 - accuracy: 0.8990 - val_loss: 0.3422 - val_accuracy: 0.7224 - lr: 0.0010 - 80s/epoch - 18ms/step
Epoch 73/75
4378/4378 - 80s - loss: 0.0970 - accuracy: 0.9005 - val_loss: 0.2936 - val_accuracy: 0.7660 - lr: 0.0010 - 80s/epoch - 18ms/step
Epoch 74/75
4378/4378 - 80s - loss: 0.0968 - accuracy: 0.9005 - val_loss: 0.3375 - val_accuracy: 0.7332 - lr: 0.0010 - 80s/epoch - 18ms/step
Epoch 75/75
4378/4378 - 79s - loss: 0.0964 - accuracy: 0.9017 - val_loss: 0.3767 - val_accuracy: 0.7118 - lr: 0.0010 - 79s/epoch - 18ms/step
Epoch 1/75
876/876 - 28s - loss: 0.0698 - accuracy: 0.9302 - val_loss: 0.3830 - val_accuracy: 0.7297 - lr: 0.0010 - 28s/epoch - 32ms/step
Epoch 2/75
876/876 - 21s - loss: 0.0737 - accuracy: 0.9258 - val_loss: 0.3944 - val_accuracy: 0.7216 - lr: 0.0010 - 21s/epoch - 24ms/step
Epoch 3/75
876/876 - 21s - loss: 0.0733 - accuracy: 0.9263 - val_loss: 0.3838 - val_accuracy: 0.7366 - lr: 0.0010 - 21s/epoch - 24ms/step
Epoch 4/75
876/876 - 21s - loss: 0.0723 - accuracy: 0.9277 - val_loss: 0.4323 - val_accuracy: 0.7138 - lr: 0.0010 - 21s/epoch - 24ms/step
Epoch 5/75
876/876 - 23s - loss: 0.0721 - accuracy: 0.9275 - val_loss: 0.4433 - val_accuracy: 0.6963 - lr: 0.0010 - 23s/epoch - 26ms/step
Epoch 6/75
876/876 - 21s - loss: 0.0732 - accuracy: 0.9262 - val_loss: 0.4301 - val_accuracy: 0.7125 - lr: 0.0010 - 21s/epoch - 25ms/step
Epoch 7/75
876/876 - 21s - loss: 0.0715 - accuracy: 0.9289 - val_loss: 0.3995 - val_accuracy: 0.7264 - lr: 0.0010 - 21s/epoch - 24ms/step
Epoch 8/75
876/876 - 21s - loss: 0.0700 - accuracy: 0.9297 - val_loss: 0.4205 - val_accuracy: 0.7188 - lr: 0.0010 - 21s/epoch - 24ms/step
Epoch 9/75
876/876 - 21s - loss: 0.0697 - accuracy: 0.9292 - val_loss: 0.4177 - val_accuracy: 0.7272 - lr: 0.0010 - 21s/epoch - 24ms/step
Epoch 10/75
876/876 - 21s - loss: 0.0699 - accuracy: 0.9300 - val_loss: 0.4307 - val_accuracy: 0.7161 - lr: 0.0010 - 21s/epoch - 24ms/step
Epoch 11/75
876/876 - 24s - loss: 0.0701 - accuracy: 0.9298 - val_loss: 0.4008 - val_accuracy: 0.7349 - lr: 0.0010 - 24s/epoch - 28ms/step
Epoch 12/75
876/876 - 25s - loss: 0.0696 - accuracy: 0.9298 - val_loss: 0.3820 - val_accuracy: 0.7401 - lr: 0.0010 - 25s/epoch - 29ms/step
Epoch 13/75
876/876 - 26s - loss: 0.0691 - accuracy: 0.9308 - val_loss: 0.4254 - val_accuracy: 0.7147 - lr: 0.0010 - 26s/epoch - 29ms/step
Epoch 14/75
876/876 - 22s - loss: 0.0695 - accuracy: 0.9307 - val_loss: 0.4408 - val_accuracy: 0.7146 - lr: 0.0010 - 22s/epoch - 25ms/step
Epoch 15/75
876/876 - 19s - loss: 0.0687 - accuracy: 0.9318 - val_loss: 0.4216 - val_accuracy: 0.7183 - lr: 0.0010 - 19s/epoch - 21ms/step
Epoch 16/75
876/876 - 18s - loss: 0.0687 - accuracy: 0.9319 - val_loss: 0.4198 - val_accuracy: 0.7209 - lr: 0.0010 - 18s/epoch - 21ms/step
Epoch 17/75
876/876 - 18s - loss: 0.0685 - accuracy: 0.9313 - val_loss: 0.4143 - val_accuracy: 0.7298 - lr: 0.0010 - 18s/epoch - 21ms/step
Epoch 18/75
876/876 - 18s - loss: 0.0671 - accuracy: 0.9327 - val_loss: 0.4278 - val_accuracy: 0.7207 - lr: 0.0010 - 18s/epoch - 21ms/step
Epoch 19/75
876/876 - 18s - loss: 0.0690 - accuracy: 0.9306 - val_loss: 0.4203 - val_accuracy: 0.7240 - lr: 0.0010 - 18s/epoch - 21ms/step
Epoch 20/75
876/876 - 18s - loss: 0.0697 - accuracy: 0.9298 - val_loss: 0.4079 - val_accuracy: 0.7291 - lr: 0.0010 - 18s/epoch - 21ms/step
Epoch 21/75
876/876 - 18s - loss: 0.0680 - accuracy: 0.9325 - val_loss: 0.4160 - val_accuracy: 0.7313 - lr: 0.0010 - 18s/epoch - 21ms/step
Epoch 22/75
876/876 - 18s - loss: 0.0669 - accuracy: 0.9333 - val_loss: 0.3872 - val_accuracy: 0.7471 - lr: 0.0010 - 18s/epoch - 21ms/step
Epoch 23/75
876/876 - 18s - loss: 0.0675 - accuracy: 0.9330 - val_loss: 0.4750 - val_accuracy: 0.6971 - lr: 0.0010 - 18s/epoch - 21ms/step
Epoch 24/75
876/876 - 18s - loss: 0.0668 - accuracy: 0.9338 - val_loss: 0.4401 - val_accuracy: 0.7183 - lr: 0.0010 - 18s/epoch - 21ms/step
Epoch 25/75
876/876 - 18s - loss: 0.0676 - accuracy: 0.9324 - val_loss: 0.4514 - val_accuracy: 0.7087 - lr: 0.0010 - 18s/epoch - 21ms/step
Epoch 26/75
876/876 - 18s - loss: 0.0681 - accuracy: 0.9318 - val_loss: 0.4223 - val_accuracy: 0.7265 - lr: 0.0010 - 18s/epoch - 21ms/step
Epoch 27/75
876/876 - 18s - loss: 0.0673 - accuracy: 0.9331 - val_loss: 0.4731 - val_accuracy: 0.7051 - lr: 0.0010 - 18s/epoch - 21ms/step
Epoch 28/75
876/876 - 18s - loss: 0.0672 - accuracy: 0.9334 - val_loss: 0.4303 - val_accuracy: 0.7233 - lr: 0.0010 - 18s/epoch - 21ms/step
Epoch 29/75
876/876 - 18s - loss: 0.0661 - accuracy: 0.9343 - val_loss: 0.4574 - val_accuracy: 0.7048 - lr: 0.0010 - 18s/epoch - 21ms/step
Epoch 30/75
876/876 - 18s - loss: 0.0668 - accuracy: 0.9338 - val_loss: 0.3973 - val_accuracy: 0.7326 - lr: 0.0010 - 18s/epoch - 21ms/step
Epoch 31/75
876/876 - 18s - loss: 0.0664 - accuracy: 0.9343 - val_loss: 0.4262 - val_accuracy: 0.7264 - lr: 0.0010 - 18s/epoch - 21ms/step
Epoch 32/75
876/876 - 18s - loss: 0.0678 - accuracy: 0.9330 - val_loss: 0.4637 - val_accuracy: 0.7031 - lr: 0.0010 - 18s/epoch - 21ms/step
Epoch 33/75
876/876 - 18s - loss: 0.0670 - accuracy: 0.9330 - val_loss: 0.4427 - val_accuracy: 0.7167 - lr: 0.0010 - 18s/epoch - 21ms/step
Epoch 34/75
876/876 - 18s - loss: 0.0666 - accuracy: 0.9344 - val_loss: 0.4418 - val_accuracy: 0.7165 - lr: 0.0010 - 18s/epoch - 21ms/step
Epoch 35/75
876/876 - 18s - loss: 0.0653 - accuracy: 0.9355 - val_loss: 0.4386 - val_accuracy: 0.7186 - lr: 0.0010 - 18s/epoch - 21ms/step
Epoch 36/75
876/876 - 18s - loss: 0.0665 - accuracy: 0.9346 - val_loss: 0.4822 - val_accuracy: 0.6921 - lr: 0.0010 - 18s/epoch - 21ms/step
Epoch 37/75
876/876 - 18s - loss: 0.0659 - accuracy: 0.9345 - val_loss: 0.4581 - val_accuracy: 0.7120 - lr: 0.0010 - 18s/epoch - 21ms/step
Epoch 38/75
876/876 - 18s - loss: 0.0669 - accuracy: 0.9337 - val_loss: 0.4716 - val_accuracy: 0.6944 - lr: 0.0010 - 18s/epoch - 21ms/step
Epoch 39/75
876/876 - 18s - loss: 0.0653 - accuracy: 0.9357 - val_loss: 0.4286 - val_accuracy: 0.7173 - lr: 0.0010 - 18s/epoch - 21ms/step
Epoch 40/75
876/876 - 18s - loss: 0.0665 - accuracy: 0.9340 - val_loss: 0.4531 - val_accuracy: 0.7108 - lr: 0.0010 - 18s/epoch - 21ms/step
Epoch 41/75
876/876 - 18s - loss: 0.0666 - accuracy: 0.9339 - val_loss: 0.4619 - val_accuracy: 0.6982 - lr: 0.0010 - 18s/epoch - 21ms/step
Epoch 42/75
876/876 - 18s - loss: 0.0651 - accuracy: 0.9350 - val_loss: 0.4523 - val_accuracy: 0.7181 - lr: 0.0010 - 18s/epoch - 21ms/step
Epoch 43/75
876/876 - 18s - loss: 0.0646 - accuracy: 0.9358 - val_loss: 0.4563 - val_accuracy: 0.7099 - lr: 0.0010 - 18s/epoch - 21ms/step
Epoch 44/75
876/876 - 18s - loss: 0.0653 - accuracy: 0.9353 - val_loss: 0.4100 - val_accuracy: 0.7367 - lr: 0.0010 - 18s/epoch - 21ms/step
Epoch 45/75
876/876 - 18s - loss: 0.0660 - accuracy: 0.9350 - val_loss: 0.4233 - val_accuracy: 0.7313 - lr: 0.0010 - 18s/epoch - 21ms/step
Epoch 46/75
876/876 - 18s - loss: 0.0647 - accuracy: 0.9352 - val_loss: 0.5133 - val_accuracy: 0.6838 - lr: 0.0010 - 18s/epoch - 21ms/step
Epoch 47/75
876/876 - 18s - loss: 0.0656 - accuracy: 0.9345 - val_loss: 0.5018 - val_accuracy: 0.6952 - lr: 0.0010 - 18s/epoch - 21ms/step
Epoch 48/75
876/876 - 18s - loss: 0.0664 - accuracy: 0.9338 - val_loss: 0.4776 - val_accuracy: 0.6984 - lr: 0.0010 - 18s/epoch - 21ms/step
Epoch 49/75
876/876 - 18s - loss: 0.0654 - accuracy: 0.9347 - val_loss: 0.4451 - val_accuracy: 0.7095 - lr: 0.0010 - 18s/epoch - 21ms/step
Epoch 50/75
876/876 - 18s - loss: 0.0653 - accuracy: 0.9356 - val_loss: 0.4779 - val_accuracy: 0.7011 - lr: 0.0010 - 18s/epoch - 21ms/step
Epoch 51/75
876/876 - 18s - loss: 0.0659 - accuracy: 0.9340 - val_loss: 0.5346 - val_accuracy: 0.6813 - lr: 0.0010 - 18s/epoch - 21ms/step
Epoch 52/75
876/876 - 18s - loss: 0.0649 - accuracy: 0.9360 - val_loss: 0.4642 - val_accuracy: 0.7119 - lr: 0.0010 - 18s/epoch - 21ms/step
Epoch 53/75
876/876 - 18s - loss: 0.0663 - accuracy: 0.9339 - val_loss: 0.4356 - val_accuracy: 0.7256 - lr: 0.0010 - 18s/epoch - 21ms/step
Epoch 54/75
876/876 - 18s - loss: 0.0668 - accuracy: 0.9342 - val_loss: 0.4660 - val_accuracy: 0.7133 - lr: 0.0010 - 18s/epoch - 21ms/step
Epoch 55/75
876/876 - 18s - loss: 0.0660 - accuracy: 0.9347 - val_loss: 0.4459 - val_accuracy: 0.7203 - lr: 0.0010 - 18s/epoch - 21ms/step
Epoch 56/75
876/876 - 18s - loss: 0.0661 - accuracy: 0.9344 - val_loss: 0.4731 - val_accuracy: 0.7069 - lr: 0.0010 - 18s/epoch - 21ms/step
Epoch 57/75
876/876 - 18s - loss: 0.0656 - accuracy: 0.9357 - val_loss: 0.4976 - val_accuracy: 0.6920 - lr: 0.0010 - 18s/epoch - 21ms/step
Epoch 58/75
876/876 - 18s - loss: 0.0658 - accuracy: 0.9349 - val_loss: 0.4645 - val_accuracy: 0.7054 - lr: 0.0010 - 18s/epoch - 21ms/step
Epoch 59/75
876/876 - 18s - loss: 0.0657 - accuracy: 0.9345 - val_loss: 0.4765 - val_accuracy: 0.7131 - lr: 0.0010 - 18s/epoch - 21ms/step
Epoch 60/75
876/876 - 18s - loss: 0.0652 - accuracy: 0.9359 - val_loss: 0.4863 - val_accuracy: 0.6989 - lr: 0.0010 - 18s/epoch - 21ms/step
Epoch 61/75
876/876 - 18s - loss: 0.0644 - accuracy: 0.9366 - val_loss: 0.4462 - val_accuracy: 0.7203 - lr: 0.0010 - 18s/epoch - 21ms/step
Epoch 62/75
876/876 - 18s - loss: 0.0641 - accuracy: 0.9367 - val_loss: 0.4730 - val_accuracy: 0.7093 - lr: 0.0010 - 18s/epoch - 21ms/step
Epoch 63/75
876/876 - 18s - loss: 0.0656 - accuracy: 0.9345 - val_loss: 0.4964 - val_accuracy: 0.6979 - lr: 0.0010 - 18s/epoch - 21ms/step
Epoch 64/75
876/876 - 18s - loss: 0.0656 - accuracy: 0.9351 - val_loss: 0.4540 - val_accuracy: 0.7153 - lr: 0.0010 - 18s/epoch - 21ms/step
Epoch 65/75
876/876 - 18s - loss: 0.0649 - accuracy: 0.9353 - val_loss: 0.4633 - val_accuracy: 0.7100 - lr: 0.0010 - 18s/epoch - 21ms/step
Epoch 66/75
876/876 - 18s - loss: 0.0643 - accuracy: 0.9366 - val_loss: 0.4547 - val_accuracy: 0.7100 - lr: 0.0010 - 18s/epoch - 21ms/step
Epoch 67/75
876/876 - 18s - loss: 0.0643 - accuracy: 0.9360 - val_loss: 0.4991 - val_accuracy: 0.6928 - lr: 0.0010 - 18s/epoch - 21ms/step
Epoch 68/75
876/876 - 18s - loss: 0.0652 - accuracy: 0.9364 - val_loss: 0.4558 - val_accuracy: 0.7106 - lr: 0.0010 - 18s/epoch - 21ms/step
Epoch 69/75
876/876 - 18s - loss: 0.0640 - accuracy: 0.9362 - val_loss: 0.4541 - val_accuracy: 0.7235 - lr: 0.0010 - 18s/epoch - 21ms/step
Epoch 70/75
876/876 - 18s - loss: 0.0640 - accuracy: 0.9362 - val_loss: 0.4743 - val_accuracy: 0.7063 - lr: 0.0010 - 18s/epoch - 21ms/step
Epoch 71/75
876/876 - 18s - loss: 0.0640 - accuracy: 0.9367 - val_loss: 0.4485 - val_accuracy: 0.7252 - lr: 0.0010 - 18s/epoch - 21ms/step
Epoch 72/75
876/876 - 18s - loss: 0.0642 - accuracy: 0.9365 - val_loss: 0.4599 - val_accuracy: 0.7161 - lr: 0.0010 - 18s/epoch - 21ms/step
Epoch 73/75
876/876 - 18s - loss: 0.0651 - accuracy: 0.9360 - val_loss: 0.4268 - val_accuracy: 0.7251 - lr: 0.0010 - 18s/epoch - 21ms/step
Epoch 74/75
876/876 - 18s - loss: 0.0644 - accuracy: 0.9358 - val_loss: 0.4740 - val_accuracy: 0.7142 - lr: 0.0010 - 18s/epoch - 21ms/step
Epoch 75/75
876/876 - 18s - loss: 0.0649 - accuracy: 0.9368 - val_loss: 0.4829 - val_accuracy: 0.7037 - lr: 0.0010 - 18s/epoch - 21ms/step
Epoch 1/75
176/176 - 12s - loss: 0.0509 - accuracy: 0.9510 - val_loss: 0.5184 - val_accuracy: 0.6954 - lr: 0.0010 - 12s/epoch - 65ms/step
Epoch 2/75
176/176 - 9s - loss: 0.0471 - accuracy: 0.9558 - val_loss: 0.5214 - val_accuracy: 0.7010 - lr: 0.0010 - 9s/epoch - 51ms/step
Epoch 3/75
176/176 - 9s - loss: 0.0451 - accuracy: 0.9572 - val_loss: 0.5399 - val_accuracy: 0.6991 - lr: 0.0010 - 9s/epoch - 51ms/step
Epoch 4/75
176/176 - 9s - loss: 0.0459 - accuracy: 0.9562 - val_loss: 0.5548 - val_accuracy: 0.6983 - lr: 0.0010 - 9s/epoch - 51ms/step
Epoch 5/75
176/176 - 9s - loss: 0.0463 - accuracy: 0.9564 - val_loss: 0.5725 - val_accuracy: 0.6934 - lr: 0.0010 - 9s/epoch - 51ms/step
Epoch 6/75
176/176 - 9s - loss: 0.0465 - accuracy: 0.9556 - val_loss: 0.5740 - val_accuracy: 0.6982 - lr: 0.0010 - 9s/epoch - 51ms/step
Epoch 7/75
176/176 - 9s - loss: 0.0458 - accuracy: 0.9567 - val_loss: 0.5706 - val_accuracy: 0.6998 - lr: 0.0010 - 9s/epoch - 51ms/step
Epoch 8/75
176/176 - 9s - loss: 0.0460 - accuracy: 0.9560 - val_loss: 0.5274 - val_accuracy: 0.7167 - lr: 0.0010 - 9s/epoch - 51ms/step
Epoch 9/75
176/176 - 9s - loss: 0.0457 - accuracy: 0.9562 - val_loss: 0.5916 - val_accuracy: 0.6941 - lr: 0.0010 - 9s/epoch - 51ms/step
Epoch 10/75
176/176 - 9s - loss: 0.0467 - accuracy: 0.9552 - val_loss: 0.5823 - val_accuracy: 0.6977 - lr: 0.0010 - 9s/epoch - 51ms/step
Epoch 11/75
176/176 - 9s - loss: 0.0460 - accuracy: 0.9559 - val_loss: 0.5796 - val_accuracy: 0.6997 - lr: 0.0010 - 9s/epoch - 51ms/step
Epoch 12/75
176/176 - 9s - loss: 0.0473 - accuracy: 0.9550 - val_loss: 0.5797 - val_accuracy: 0.6990 - lr: 0.0010 - 9s/epoch - 51ms/step
Epoch 13/75
176/176 - 9s - loss: 0.0471 - accuracy: 0.9555 - val_loss: 0.5800 - val_accuracy: 0.7014 - lr: 0.0010 - 9s/epoch - 51ms/step
Epoch 14/75
176/176 - 9s - loss: 0.0475 - accuracy: 0.9546 - val_loss: 0.6443 - val_accuracy: 0.6786 - lr: 0.0010 - 9s/epoch - 51ms/step
Epoch 15/75
176/176 - 9s - loss: 0.0473 - accuracy: 0.9549 - val_loss: 0.5853 - val_accuracy: 0.6975 - lr: 0.0010 - 9s/epoch - 51ms/step
Epoch 16/75
176/176 - 9s - loss: 0.0472 - accuracy: 0.9554 - val_loss: 0.6153 - val_accuracy: 0.6903 - lr: 0.0010 - 9s/epoch - 51ms/step
Epoch 17/75
176/176 - 9s - loss: 0.0467 - accuracy: 0.9547 - val_loss: 0.5765 - val_accuracy: 0.6995 - lr: 0.0010 - 9s/epoch - 51ms/step
Epoch 18/75
176/176 - 9s - loss: 0.0469 - accuracy: 0.9551 - val_loss: 0.5740 - val_accuracy: 0.7078 - lr: 0.0010 - 9s/epoch - 51ms/step
Epoch 19/75
176/176 - 9s - loss: 0.0468 - accuracy: 0.9549 - val_loss: 0.6123 - val_accuracy: 0.6939 - lr: 0.0010 - 9s/epoch - 51ms/step
Epoch 20/75
176/176 - 9s - loss: 0.0464 - accuracy: 0.9553 - val_loss: 0.6119 - val_accuracy: 0.6956 - lr: 0.0010 - 9s/epoch - 51ms/step
Epoch 21/75
176/176 - 9s - loss: 0.0470 - accuracy: 0.9549 - val_loss: 0.6272 - val_accuracy: 0.6929 - lr: 0.0010 - 9s/epoch - 51ms/step
Epoch 22/75
176/176 - 9s - loss: 0.0482 - accuracy: 0.9540 - val_loss: 0.6266 - val_accuracy: 0.6937 - lr: 0.0010 - 9s/epoch - 51ms/step
Epoch 23/75
176/176 - 9s - loss: 0.0458 - accuracy: 0.9573 - val_loss: 0.6125 - val_accuracy: 0.6915 - lr: 0.0010 - 9s/epoch - 51ms/step
Epoch 24/75
176/176 - 9s - loss: 0.0459 - accuracy: 0.9565 - val_loss: 0.6304 - val_accuracy: 0.6891 - lr: 0.0010 - 9s/epoch - 51ms/step
Epoch 25/75
176/176 - 9s - loss: 0.0459 - accuracy: 0.9563 - val_loss: 0.6191 - val_accuracy: 0.6935 - lr: 0.0010 - 9s/epoch - 51ms/step
Epoch 26/75
176/176 - 9s - loss: 0.0454 - accuracy: 0.9564 - val_loss: 0.5718 - val_accuracy: 0.7093 - lr: 0.0010 - 9s/epoch - 51ms/step
Epoch 27/75
176/176 - 9s - loss: 0.0449 - accuracy: 0.9578 - val_loss: 0.6037 - val_accuracy: 0.6986 - lr: 0.0010 - 9s/epoch - 51ms/step
Epoch 28/75
176/176 - 9s - loss: 0.0453 - accuracy: 0.9576 - val_loss: 0.6213 - val_accuracy: 0.6943 - lr: 0.0010 - 9s/epoch - 51ms/step
Epoch 29/75
176/176 - 9s - loss: 0.0458 - accuracy: 0.9564 - val_loss: 0.6037 - val_accuracy: 0.7045 - lr: 0.0010 - 9s/epoch - 51ms/step
Epoch 30/75
176/176 - 9s - loss: 0.0454 - accuracy: 0.9571 - val_loss: 0.6048 - val_accuracy: 0.7019 - lr: 0.0010 - 9s/epoch - 51ms/step
Epoch 31/75
176/176 - 9s - loss: 0.0461 - accuracy: 0.9564 - val_loss: 0.6635 - val_accuracy: 0.6805 - lr: 0.0010 - 9s/epoch - 51ms/step
Epoch 32/75
176/176 - 9s - loss: 0.0458 - accuracy: 0.9564 - val_loss: 0.6568 - val_accuracy: 0.6845 - lr: 0.0010 - 9s/epoch - 51ms/step
Epoch 33/75
176/176 - 9s - loss: 0.0445 - accuracy: 0.9577 - val_loss: 0.5878 - val_accuracy: 0.7108 - lr: 0.0010 - 9s/epoch - 51ms/step
Epoch 34/75
176/176 - 9s - loss: 0.0452 - accuracy: 0.9571 - val_loss: 0.6198 - val_accuracy: 0.6987 - lr: 0.0010 - 9s/epoch - 51ms/step
Epoch 35/75
176/176 - 9s - loss: 0.0453 - accuracy: 0.9568 - val_loss: 0.6219 - val_accuracy: 0.6989 - lr: 0.0010 - 9s/epoch - 51ms/step
Epoch 36/75
176/176 - 9s - loss: 0.0446 - accuracy: 0.9579 - val_loss: 0.5938 - val_accuracy: 0.7098 - lr: 0.0010 - 9s/epoch - 51ms/step
Epoch 37/75
176/176 - 9s - loss: 0.0430 - accuracy: 0.9594 - val_loss: 0.6415 - val_accuracy: 0.6931 - lr: 0.0010 - 9s/epoch - 51ms/step
Epoch 38/75
176/176 - 9s - loss: 0.0452 - accuracy: 0.9575 - val_loss: 0.6349 - val_accuracy: 0.6974 - lr: 0.0010 - 9s/epoch - 51ms/step
Epoch 39/75
176/176 - 9s - loss: 0.0437 - accuracy: 0.9588 - val_loss: 0.6521 - val_accuracy: 0.6876 - lr: 0.0010 - 9s/epoch - 51ms/step
Epoch 40/75
176/176 - 9s - loss: 0.0448 - accuracy: 0.9582 - val_loss: 0.6302 - val_accuracy: 0.6966 - lr: 0.0010 - 9s/epoch - 51ms/step
Epoch 41/75
176/176 - 9s - loss: 0.0454 - accuracy: 0.9566 - val_loss: 0.6338 - val_accuracy: 0.6953 - lr: 0.0010 - 9s/epoch - 51ms/step
Epoch 42/75
176/176 - 9s - loss: 0.0433 - accuracy: 0.9584 - val_loss: 0.6125 - val_accuracy: 0.7044 - lr: 0.0010 - 9s/epoch - 51ms/step
Epoch 43/75
176/176 - 9s - loss: 0.0431 - accuracy: 0.9587 - val_loss: 0.6410 - val_accuracy: 0.6995 - lr: 0.0010 - 9s/epoch - 51ms/step
Epoch 44/75
176/176 - 9s - loss: 0.0444 - accuracy: 0.9578 - val_loss: 0.6440 - val_accuracy: 0.6962 - lr: 0.0010 - 9s/epoch - 51ms/step
Epoch 45/75
176/176 - 9s - loss: 0.0459 - accuracy: 0.9558 - val_loss: 0.6346 - val_accuracy: 0.6987 - lr: 0.0010 - 9s/epoch - 51ms/step
Epoch 46/75
176/176 - 9s - loss: 0.0444 - accuracy: 0.9574 - val_loss: 0.6262 - val_accuracy: 0.7025 - lr: 0.0010 - 9s/epoch - 51ms/step
Epoch 47/75
176/176 - 9s - loss: 0.0458 - accuracy: 0.9565 - val_loss: 0.5919 - val_accuracy: 0.7061 - lr: 0.0010 - 9s/epoch - 51ms/step
Epoch 48/75
176/176 - 9s - loss: 0.0460 - accuracy: 0.9574 - val_loss: 0.6500 - val_accuracy: 0.6873 - lr: 0.0010 - 9s/epoch - 51ms/step
Epoch 49/75
176/176 - 9s - loss: 0.0455 - accuracy: 0.9570 - val_loss: 0.6688 - val_accuracy: 0.6867 - lr: 0.0010 - 9s/epoch - 51ms/step
Epoch 50/75
176/176 - 9s - loss: 0.0446 - accuracy: 0.9582 - val_loss: 0.6864 - val_accuracy: 0.6818 - lr: 0.0010 - 9s/epoch - 51ms/step
Epoch 51/75
176/176 - 9s - loss: 0.0448 - accuracy: 0.9568 - val_loss: 0.6794 - val_accuracy: 0.6888 - lr: 0.0010 - 9s/epoch - 51ms/step
Epoch 52/75
176/176 - 9s - loss: 0.0459 - accuracy: 0.9565 - val_loss: 0.6559 - val_accuracy: 0.6876 - lr: 0.0010 - 9s/epoch - 51ms/step
Epoch 53/75
176/176 - 9s - loss: 0.0438 - accuracy: 0.9583 - val_loss: 0.6611 - val_accuracy: 0.6934 - lr: 0.0010 - 9s/epoch - 51ms/step
Epoch 54/75
176/176 - 9s - loss: 0.0421 - accuracy: 0.9605 - val_loss: 0.6774 - val_accuracy: 0.6842 - lr: 0.0010 - 9s/epoch - 51ms/step
Epoch 55/75
176/176 - 9s - loss: 0.0421 - accuracy: 0.9605 - val_loss: 0.6964 - val_accuracy: 0.6830 - lr: 0.0010 - 9s/epoch - 51ms/step
Epoch 56/75
176/176 - 9s - loss: 0.0424 - accuracy: 0.9600 - val_loss: 0.6670 - val_accuracy: 0.6915 - lr: 0.0010 - 9s/epoch - 51ms/step
Epoch 57/75
176/176 - 9s - loss: 0.0423 - accuracy: 0.9605 - val_loss: 0.6842 - val_accuracy: 0.6827 - lr: 0.0010 - 9s/epoch - 51ms/step
Epoch 58/75
176/176 - 9s - loss: 0.0438 - accuracy: 0.9586 - val_loss: 0.6689 - val_accuracy: 0.6912 - lr: 0.0010 - 9s/epoch - 51ms/step
Epoch 59/75
176/176 - 9s - loss: 0.0425 - accuracy: 0.9603 - val_loss: 0.7064 - val_accuracy: 0.6743 - lr: 0.0010 - 9s/epoch - 51ms/step
Epoch 60/75
176/176 - 9s - loss: 0.0429 - accuracy: 0.9593 - val_loss: 0.6876 - val_accuracy: 0.6900 - lr: 0.0010 - 9s/epoch - 51ms/step
Epoch 61/75
176/176 - 9s - loss: 0.0437 - accuracy: 0.9590 - val_loss: 0.6808 - val_accuracy: 0.6855 - lr: 0.0010 - 9s/epoch - 51ms/step
Epoch 62/75
176/176 - 9s - loss: 0.0430 - accuracy: 0.9598 - val_loss: 0.6791 - val_accuracy: 0.6852 - lr: 0.0010 - 9s/epoch - 51ms/step
Epoch 63/75
176/176 - 9s - loss: 0.0426 - accuracy: 0.9594 - val_loss: 0.6561 - val_accuracy: 0.6986 - lr: 0.0010 - 9s/epoch - 51ms/step
Epoch 64/75
176/176 - 9s - loss: 0.0421 - accuracy: 0.9603 - val_loss: 0.6719 - val_accuracy: 0.6948 - lr: 0.0010 - 9s/epoch - 51ms/step
Epoch 65/75
176/176 - 9s - loss: 0.0436 - accuracy: 0.9593 - val_loss: 0.6769 - val_accuracy: 0.6857 - lr: 0.0010 - 9s/epoch - 51ms/step
Epoch 66/75
176/176 - 9s - loss: 0.0446 - accuracy: 0.9578 - val_loss: 0.6791 - val_accuracy: 0.6824 - lr: 0.0010 - 9s/epoch - 51ms/step
Epoch 67/75
176/176 - 9s - loss: 0.0444 - accuracy: 0.9583 - val_loss: 0.6394 - val_accuracy: 0.7066 - lr: 0.0010 - 9s/epoch - 51ms/step
Epoch 68/75
176/176 - 9s - loss: 0.0449 - accuracy: 0.9573 - val_loss: 0.6609 - val_accuracy: 0.6893 - lr: 0.0010 - 9s/epoch - 51ms/step
Epoch 69/75
176/176 - 9s - loss: 0.0452 - accuracy: 0.9574 - val_loss: 0.6610 - val_accuracy: 0.6995 - lr: 0.0010 - 9s/epoch - 51ms/step
Epoch 70/75
176/176 - 9s - loss: 0.0456 - accuracy: 0.9568 - val_loss: 0.6755 - val_accuracy: 0.6898 - lr: 0.0010 - 9s/epoch - 51ms/step
Epoch 71/75
176/176 - 9s - loss: 0.0445 - accuracy: 0.9575 - val_loss: 0.6632 - val_accuracy: 0.6903 - lr: 0.0010 - 9s/epoch - 51ms/step
Epoch 72/75
176/176 - 9s - loss: 0.0445 - accuracy: 0.9581 - val_loss: 0.6711 - val_accuracy: 0.6940 - lr: 0.0010 - 9s/epoch - 51ms/step
Epoch 73/75
176/176 - 9s - loss: 0.0431 - accuracy: 0.9591 - val_loss: 0.6229 - val_accuracy: 0.7078 - lr: 0.0010 - 9s/epoch - 51ms/step
Epoch 74/75
176/176 - 9s - loss: 0.0418 - accuracy: 0.9602 - val_loss: 0.6788 - val_accuracy: 0.6900 - lr: 0.0010 - 9s/epoch - 51ms/step
Epoch 75/75
176/176 - 9s - loss: 0.0433 - accuracy: 0.9598 - val_loss: 0.6523 - val_accuracy: 0.7035 - lr: 0.0010 - 9s/epoch - 51ms/step
Epoch 1/75
36/36 - 10s - loss: 0.0396 - accuracy: 0.9631 - val_loss: 0.7179 - val_accuracy: 0.6775 - lr: 0.0010 - 10s/epoch - 282ms/step
Epoch 2/75
36/36 - 8s - loss: 0.0366 - accuracy: 0.9655 - val_loss: 0.6996 - val_accuracy: 0.6819 - lr: 0.0010 - 8s/epoch - 214ms/step
Epoch 3/75
36/36 - 8s - loss: 0.0361 - accuracy: 0.9668 - val_loss: 0.7113 - val_accuracy: 0.6815 - lr: 0.0010 - 8s/epoch - 215ms/step
Epoch 4/75
36/36 - 8s - loss: 0.0356 - accuracy: 0.9674 - val_loss: 0.7090 - val_accuracy: 0.6860 - lr: 0.0010 - 8s/epoch - 214ms/step
Epoch 5/75
36/36 - 8s - loss: 0.0353 - accuracy: 0.9671 - val_loss: 0.7150 - val_accuracy: 0.6847 - lr: 0.0010 - 8s/epoch - 214ms/step
Epoch 6/75
36/36 - 8s - loss: 0.0348 - accuracy: 0.9675 - val_loss: 0.7237 - val_accuracy: 0.6822 - lr: 0.0010 - 8s/epoch - 214ms/step
Epoch 7/75
36/36 - 8s - loss: 0.0345 - accuracy: 0.9683 - val_loss: 0.7316 - val_accuracy: 0.6810 - lr: 0.0010 - 8s/epoch - 214ms/step
Epoch 8/75
36/36 - 8s - loss: 0.0350 - accuracy: 0.9673 - val_loss: 0.7407 - val_accuracy: 0.6784 - lr: 0.0010 - 8s/epoch - 215ms/step
Epoch 9/75
36/36 - 8s - loss: 0.0353 - accuracy: 0.9677 - val_loss: 0.7294 - val_accuracy: 0.6839 - lr: 0.0010 - 8s/epoch - 215ms/step
Epoch 10/75
36/36 - 8s - loss: 0.0360 - accuracy: 0.9664 - val_loss: 0.7156 - val_accuracy: 0.6897 - lr: 0.0010 - 8s/epoch - 214ms/step
Epoch 11/75
36/36 - 8s - loss: 0.0344 - accuracy: 0.9682 - val_loss: 0.7096 - val_accuracy: 0.6906 - lr: 0.0010 - 8s/epoch - 214ms/step
Epoch 12/75
36/36 - 8s - loss: 0.0351 - accuracy: 0.9675 - val_loss: 0.7262 - val_accuracy: 0.6847 - lr: 0.0010 - 8s/epoch - 214ms/step
Epoch 13/75
36/36 - 8s - loss: 0.0343 - accuracy: 0.9682 - val_loss: 0.7337 - val_accuracy: 0.6843 - lr: 0.0010 - 8s/epoch - 214ms/step
Epoch 14/75
36/36 - 8s - loss: 0.0344 - accuracy: 0.9681 - val_loss: 0.7232 - val_accuracy: 0.6866 - lr: 0.0010 - 8s/epoch - 215ms/step
Epoch 15/75
36/36 - 8s - loss: 0.0342 - accuracy: 0.9691 - val_loss: 0.7418 - val_accuracy: 0.6828 - lr: 0.0010 - 8s/epoch - 214ms/step
Epoch 16/75
36/36 - 8s - loss: 0.0344 - accuracy: 0.9685 - val_loss: 0.7373 - val_accuracy: 0.6855 - lr: 0.0010 - 8s/epoch - 214ms/step
Epoch 17/75
36/36 - 8s - loss: 0.0344 - accuracy: 0.9681 - val_loss: 0.7114 - val_accuracy: 0.6932 - lr: 0.0010 - 8s/epoch - 214ms/step
Epoch 18/75
36/36 - 8s - loss: 0.0350 - accuracy: 0.9679 - val_loss: 0.7287 - val_accuracy: 0.6877 - lr: 0.0010 - 8s/epoch - 214ms/step
Epoch 19/75
36/36 - 8s - loss: 0.0355 - accuracy: 0.9669 - val_loss: 0.7319 - val_accuracy: 0.6870 - lr: 0.0010 - 8s/epoch - 214ms/step
Epoch 20/75
36/36 - 8s - loss: 0.0336 - accuracy: 0.9684 - val_loss: 0.7473 - val_accuracy: 0.6801 - lr: 0.0010 - 8s/epoch - 214ms/step
Epoch 21/75
36/36 - 8s - loss: 0.0343 - accuracy: 0.9689 - val_loss: 0.7568 - val_accuracy: 0.6808 - lr: 0.0010 - 8s/epoch - 214ms/step
Epoch 22/75
36/36 - 8s - loss: 0.0339 - accuracy: 0.9681 - val_loss: 0.7453 - val_accuracy: 0.6839 - lr: 0.0010 - 8s/epoch - 214ms/step
Epoch 23/75
36/36 - 8s - loss: 0.0336 - accuracy: 0.9686 - val_loss: 0.7512 - val_accuracy: 0.6836 - lr: 0.0010 - 8s/epoch - 215ms/step
Epoch 24/75
36/36 - 8s - loss: 0.0333 - accuracy: 0.9689 - val_loss: 0.7497 - val_accuracy: 0.6859 - lr: 0.0010 - 8s/epoch - 214ms/step
Epoch 25/75
36/36 - 8s - loss: 0.0345 - accuracy: 0.9681 - val_loss: 0.7471 - val_accuracy: 0.6857 - lr: 0.0010 - 8s/epoch - 214ms/step
Epoch 26/75
36/36 - 8s - loss: 0.0333 - accuracy: 0.9691 - val_loss: 0.7655 - val_accuracy: 0.6782 - lr: 0.0010 - 8s/epoch - 214ms/step
Epoch 27/75
36/36 - 8s - loss: 0.0345 - accuracy: 0.9675 - val_loss: 0.7533 - val_accuracy: 0.6826 - lr: 0.0010 - 8s/epoch - 214ms/step
Epoch 28/75
36/36 - 8s - loss: 0.0339 - accuracy: 0.9690 - val_loss: 0.7550 - val_accuracy: 0.6818 - lr: 0.0010 - 8s/epoch - 214ms/step
Epoch 29/75
36/36 - 8s - loss: 0.0327 - accuracy: 0.9697 - val_loss: 0.7594 - val_accuracy: 0.6801 - lr: 0.0010 - 8s/epoch - 214ms/step
Epoch 30/75
36/36 - 8s - loss: 0.0330 - accuracy: 0.9694 - val_loss: 0.7602 - val_accuracy: 0.6807 - lr: 0.0010 - 8s/epoch - 214ms/step
Epoch 31/75
36/36 - 8s - loss: 0.0338 - accuracy: 0.9685 - val_loss: 0.7521 - val_accuracy: 0.6829 - lr: 0.0010 - 8s/epoch - 214ms/step
Epoch 32/75
36/36 - 8s - loss: 0.0341 - accuracy: 0.9685 - val_loss: 0.7636 - val_accuracy: 0.6809 - lr: 0.0010 - 8s/epoch - 214ms/step
Epoch 33/75
36/36 - 8s - loss: 0.0329 - accuracy: 0.9693 - val_loss: 0.7599 - val_accuracy: 0.6848 - lr: 0.0010 - 8s/epoch - 214ms/step
Epoch 34/75
36/36 - 8s - loss: 0.0324 - accuracy: 0.9699 - val_loss: 0.7747 - val_accuracy: 0.6782 - lr: 0.0010 - 8s/epoch - 214ms/step
Epoch 35/75
36/36 - 8s - loss: 0.0331 - accuracy: 0.9693 - val_loss: 0.7703 - val_accuracy: 0.6829 - lr: 0.0010 - 8s/epoch - 214ms/step
Epoch 36/75
36/36 - 8s - loss: 0.0339 - accuracy: 0.9685 - val_loss: 0.7917 - val_accuracy: 0.6769 - lr: 0.0010 - 8s/epoch - 214ms/step
Epoch 37/75
36/36 - 8s - loss: 0.0324 - accuracy: 0.9698 - val_loss: 0.7735 - val_accuracy: 0.6829 - lr: 0.0010 - 8s/epoch - 214ms/step
Epoch 38/75
36/36 - 8s - loss: 0.0344 - accuracy: 0.9685 - val_loss: 0.7832 - val_accuracy: 0.6793 - lr: 0.0010 - 8s/epoch - 214ms/step
Epoch 39/75
36/36 - 8s - loss: 0.0327 - accuracy: 0.9699 - val_loss: 0.7769 - val_accuracy: 0.6770 - lr: 0.0010 - 8s/epoch - 214ms/step
Epoch 40/75
36/36 - 8s - loss: 0.0335 - accuracy: 0.9696 - val_loss: 0.7950 - val_accuracy: 0.6742 - lr: 0.0010 - 8s/epoch - 214ms/step
Epoch 41/75
36/36 - 8s - loss: 0.0334 - accuracy: 0.9693 - val_loss: 0.7762 - val_accuracy: 0.6792 - lr: 0.0010 - 8s/epoch - 215ms/step
Epoch 42/75
36/36 - 8s - loss: 0.0332 - accuracy: 0.9698 - val_loss: 0.7661 - val_accuracy: 0.6829 - lr: 0.0010 - 8s/epoch - 214ms/step
Epoch 43/75
36/36 - 8s - loss: 0.0341 - accuracy: 0.9690 - val_loss: 0.7765 - val_accuracy: 0.6809 - lr: 0.0010 - 8s/epoch - 215ms/step
Epoch 44/75
36/36 - 8s - loss: 0.0337 - accuracy: 0.9686 - val_loss: 0.7773 - val_accuracy: 0.6806 - lr: 0.0010 - 8s/epoch - 214ms/step
Epoch 45/75
36/36 - 8s - loss: 0.0337 - accuracy: 0.9690 - val_loss: 0.7720 - val_accuracy: 0.6808 - lr: 0.0010 - 8s/epoch - 214ms/step
Epoch 46/75
36/36 - 8s - loss: 0.0333 - accuracy: 0.9695 - val_loss: 0.7640 - val_accuracy: 0.6830 - lr: 0.0010 - 8s/epoch - 214ms/step
Epoch 47/75
36/36 - 8s - loss: 0.0349 - accuracy: 0.9676 - val_loss: 0.7664 - val_accuracy: 0.6803 - lr: 0.0010 - 8s/epoch - 214ms/step
Epoch 48/75
36/36 - 8s - loss: 0.0326 - accuracy: 0.9697 - val_loss: 0.7636 - val_accuracy: 0.6847 - lr: 0.0010 - 8s/epoch - 214ms/step
Epoch 49/75
36/36 - 8s - loss: 0.0323 - accuracy: 0.9701 - val_loss: 0.7826 - val_accuracy: 0.6761 - lr: 0.0010 - 8s/epoch - 214ms/step
Epoch 50/75
36/36 - 8s - loss: 0.0331 - accuracy: 0.9694 - val_loss: 0.7630 - val_accuracy: 0.6853 - lr: 0.0010 - 8s/epoch - 214ms/step
Epoch 51/75
36/36 - 8s - loss: 0.0329 - accuracy: 0.9695 - val_loss: 0.7610 - val_accuracy: 0.6866 - lr: 0.0010 - 8s/epoch - 214ms/step
Epoch 52/75
36/36 - 8s - loss: 0.0325 - accuracy: 0.9696 - val_loss: 0.7918 - val_accuracy: 0.6771 - lr: 0.0010 - 8s/epoch - 214ms/step
Epoch 53/75
36/36 - 8s - loss: 0.0321 - accuracy: 0.9704 - val_loss: 0.7831 - val_accuracy: 0.6816 - lr: 0.0010 - 8s/epoch - 215ms/step
Epoch 54/75
36/36 - 8s - loss: 0.0330 - accuracy: 0.9699 - val_loss: 0.7651 - val_accuracy: 0.6846 - lr: 0.0010 - 8s/epoch - 214ms/step
Epoch 55/75
36/36 - 8s - loss: 0.0331 - accuracy: 0.9694 - val_loss: 0.7675 - val_accuracy: 0.6837 - lr: 0.0010 - 8s/epoch - 214ms/step
Epoch 56/75
36/36 - 8s - loss: 0.0327 - accuracy: 0.9697 - val_loss: 0.7716 - val_accuracy: 0.6843 - lr: 0.0010 - 8s/epoch - 215ms/step
Epoch 57/75
36/36 - 8s - loss: 0.0340 - accuracy: 0.9683 - val_loss: 0.7679 - val_accuracy: 0.6845 - lr: 0.0010 - 8s/epoch - 214ms/step
Epoch 58/75
36/36 - 8s - loss: 0.0320 - accuracy: 0.9708 - val_loss: 0.7800 - val_accuracy: 0.6848 - lr: 0.0010 - 8s/epoch - 215ms/step
Epoch 59/75
36/36 - 8s - loss: 0.0333 - accuracy: 0.9690 - val_loss: 0.7680 - val_accuracy: 0.6868 - lr: 0.0010 - 8s/epoch - 214ms/step
Epoch 60/75
36/36 - 8s - loss: 0.0320 - accuracy: 0.9701 - val_loss: 0.7724 - val_accuracy: 0.6841 - lr: 0.0010 - 8s/epoch - 214ms/step
Epoch 61/75
36/36 - 8s - loss: 0.0319 - accuracy: 0.9706 - val_loss: 0.7881 - val_accuracy: 0.6805 - lr: 0.0010 - 8s/epoch - 215ms/step
Epoch 62/75
36/36 - 8s - loss: 0.0327 - accuracy: 0.9701 - val_loss: 0.7834 - val_accuracy: 0.6825 - lr: 0.0010 - 8s/epoch - 215ms/step
Epoch 63/75
36/36 - 8s - loss: 0.0328 - accuracy: 0.9693 - val_loss: 0.7932 - val_accuracy: 0.6802 - lr: 0.0010 - 8s/epoch - 214ms/step
Epoch 64/75
36/36 - 8s - loss: 0.0327 - accuracy: 0.9698 - val_loss: 0.7925 - val_accuracy: 0.6796 - lr: 0.0010 - 8s/epoch - 215ms/step
Epoch 65/75
36/36 - 8s - loss: 0.0324 - accuracy: 0.9699 - val_loss: 0.7916 - val_accuracy: 0.6818 - lr: 0.0010 - 8s/epoch - 215ms/step
Epoch 66/75
36/36 - 8s - loss: 0.0322 - accuracy: 0.9709 - val_loss: 0.7831 - val_accuracy: 0.6832 - lr: 0.0010 - 8s/epoch - 214ms/step
Epoch 67/75
36/36 - 8s - loss: 0.0332 - accuracy: 0.9692 - val_loss: 0.7766 - val_accuracy: 0.6855 - lr: 0.0010 - 8s/epoch - 215ms/step
Epoch 68/75
36/36 - 8s - loss: 0.0329 - accuracy: 0.9703 - val_loss: 0.7881 - val_accuracy: 0.6802 - lr: 0.0010 - 8s/epoch - 214ms/step
Epoch 69/75
36/36 - 8s - loss: 0.0324 - accuracy: 0.9702 - val_loss: 0.7807 - val_accuracy: 0.6825 - lr: 0.0010 - 8s/epoch - 215ms/step
Epoch 70/75
36/36 - 8s - loss: 0.0318 - accuracy: 0.9705 - val_loss: 0.7892 - val_accuracy: 0.6802 - lr: 0.0010 - 8s/epoch - 215ms/step
Epoch 71/75
36/36 - 8s - loss: 0.0315 - accuracy: 0.9709 - val_loss: 0.7947 - val_accuracy: 0.6774 - lr: 0.0010 - 8s/epoch - 215ms/step
Epoch 72/75
36/36 - 8s - loss: 0.0327 - accuracy: 0.9694 - val_loss: 0.7848 - val_accuracy: 0.6827 - lr: 0.0010 - 8s/epoch - 214ms/step
Epoch 73/75
36/36 - 8s - loss: 0.0332 - accuracy: 0.9698 - val_loss: 0.7782 - val_accuracy: 0.6808 - lr: 0.0010 - 8s/epoch - 214ms/step
Epoch 74/75
36/36 - 8s - loss: 0.0338 - accuracy: 0.9683 - val_loss: 0.7642 - val_accuracy: 0.6887 - lr: 0.0010 - 8s/epoch - 215ms/step
Epoch 75/75
36/36 - 8s - loss: 0.0325 - accuracy: 0.9701 - val_loss: 0.7875 - val_accuracy: 0.6823 - lr: 0.0010 - 8s/epoch - 214ms/step
Epoch 1/100
4378/4378 - 81s - loss: 0.0921 - accuracy: 0.9107 - val_loss: 0.4308 - val_accuracy: 0.7203 - lr: 0.0010 - 81s/epoch - 18ms/step
Epoch 2/100
4378/4378 - 78s - loss: 0.0908 - accuracy: 0.9091 - val_loss: 0.4196 - val_accuracy: 0.7085 - lr: 0.0010 - 78s/epoch - 18ms/step
Epoch 3/100
4378/4378 - 78s - loss: 0.0941 - accuracy: 0.9045 - val_loss: 0.4238 - val_accuracy: 0.6912 - lr: 0.0010 - 78s/epoch - 18ms/step
Epoch 4/100
4378/4378 - 77s - loss: 0.0942 - accuracy: 0.9034 - val_loss: 0.3559 - val_accuracy: 0.7231 - lr: 0.0010 - 77s/epoch - 18ms/step
Epoch 5/100
4378/4378 - 77s - loss: 0.0929 - accuracy: 0.9059 - val_loss: 0.3859 - val_accuracy: 0.7105 - lr: 0.0010 - 77s/epoch - 18ms/step
Epoch 6/100
4378/4378 - 77s - loss: 0.0938 - accuracy: 0.9043 - val_loss: 0.4166 - val_accuracy: 0.6956 - lr: 0.0010 - 77s/epoch - 18ms/step
Epoch 7/100
4378/4378 - 78s - loss: 0.0936 - accuracy: 0.9042 - val_loss: 0.3152 - val_accuracy: 0.7566 - lr: 0.0010 - 78s/epoch - 18ms/step
Epoch 8/100
4378/4378 - 77s - loss: 0.0922 - accuracy: 0.9068 - val_loss: 0.3645 - val_accuracy: 0.7186 - lr: 0.0010 - 77s/epoch - 18ms/step
Epoch 9/100
4378/4378 - 77s - loss: 0.0938 - accuracy: 0.9043 - val_loss: 0.3444 - val_accuracy: 0.7357 - lr: 0.0010 - 77s/epoch - 18ms/step
Epoch 10/100
4378/4378 - 77s - loss: 0.0952 - accuracy: 0.9030 - val_loss: 0.3436 - val_accuracy: 0.7435 - lr: 0.0010 - 77s/epoch - 18ms/step
Epoch 11/100
4378/4378 - 77s - loss: 0.0950 - accuracy: 0.9015 - val_loss: 0.3257 - val_accuracy: 0.7472 - lr: 0.0010 - 77s/epoch - 18ms/step
Epoch 12/100
4378/4378 - 78s - loss: 0.0952 - accuracy: 0.9029 - val_loss: 0.3357 - val_accuracy: 0.7329 - lr: 0.0010 - 78s/epoch - 18ms/step
Epoch 13/100
4378/4378 - 77s - loss: 0.0948 - accuracy: 0.9034 - val_loss: 0.3275 - val_accuracy: 0.7396 - lr: 0.0010 - 77s/epoch - 18ms/step
Epoch 14/100
4378/4378 - 75s - loss: 0.0933 - accuracy: 0.9049 - val_loss: 0.3386 - val_accuracy: 0.7356 - lr: 0.0010 - 75s/epoch - 17ms/step
Epoch 15/100
4378/4378 - 75s - loss: 0.0923 - accuracy: 0.9056 - val_loss: 0.3297 - val_accuracy: 0.7345 - lr: 0.0010 - 75s/epoch - 17ms/step
Epoch 16/100
4378/4378 - 75s - loss: 0.0934 - accuracy: 0.9049 - val_loss: 0.3259 - val_accuracy: 0.7392 - lr: 0.0010 - 75s/epoch - 17ms/step
Epoch 17/100
4378/4378 - 75s - loss: 0.0951 - accuracy: 0.9023 - val_loss: 0.3419 - val_accuracy: 0.7341 - lr: 0.0010 - 75s/epoch - 17ms/step
Epoch 18/100
4378/4378 - 75s - loss: 0.0958 - accuracy: 0.9020 - val_loss: 0.3353 - val_accuracy: 0.7246 - lr: 0.0010 - 75s/epoch - 17ms/step
Epoch 19/100
4378/4378 - 75s - loss: 0.0950 - accuracy: 0.9029 - val_loss: 0.3493 - val_accuracy: 0.7236 - lr: 0.0010 - 75s/epoch - 17ms/step
Epoch 20/100
4378/4378 - 75s - loss: 0.0941 - accuracy: 0.9038 - val_loss: 0.3546 - val_accuracy: 0.7164 - lr: 0.0010 - 75s/epoch - 17ms/step
Epoch 21/100
4378/4378 - 75s - loss: 0.0938 - accuracy: 0.9048 - val_loss: 0.3601 - val_accuracy: 0.7106 - lr: 0.0010 - 75s/epoch - 17ms/step
Epoch 22/100
4378/4378 - 75s - loss: 0.0931 - accuracy: 0.9049 - val_loss: 0.3438 - val_accuracy: 0.7349 - lr: 0.0010 - 75s/epoch - 17ms/step
Epoch 23/100
4378/4378 - 75s - loss: 0.0938 - accuracy: 0.9037 - val_loss: 0.4013 - val_accuracy: 0.6931 - lr: 0.0010 - 75s/epoch - 17ms/step
Epoch 24/100
4378/4378 - 75s - loss: 0.0922 - accuracy: 0.9055 - val_loss: 0.3363 - val_accuracy: 0.7285 - lr: 0.0010 - 75s/epoch - 17ms/step
Epoch 25/100
4378/4378 - 75s - loss: 0.0942 - accuracy: 0.9034 - val_loss: 0.3445 - val_accuracy: 0.7312 - lr: 0.0010 - 75s/epoch - 17ms/step
Epoch 26/100
4378/4378 - 75s - loss: 0.0952 - accuracy: 0.9018 - val_loss: 0.3423 - val_accuracy: 0.7201 - lr: 0.0010 - 75s/epoch - 17ms/step
Epoch 27/100
4378/4378 - 75s - loss: 0.0953 - accuracy: 0.9021 - val_loss: 0.3244 - val_accuracy: 0.7386 - lr: 0.0010 - 75s/epoch - 17ms/step
Epoch 28/100
4378/4378 - 75s - loss: 0.0957 - accuracy: 0.9016 - val_loss: 0.3739 - val_accuracy: 0.6986 - lr: 0.0010 - 75s/epoch - 17ms/step
Epoch 29/100
4378/4378 - 75s - loss: 0.0939 - accuracy: 0.9039 - val_loss: 0.3526 - val_accuracy: 0.7294 - lr: 0.0010 - 75s/epoch - 17ms/step
Epoch 30/100
4378/4378 - 75s - loss: 0.0938 - accuracy: 0.9042 - val_loss: 0.3409 - val_accuracy: 0.7346 - lr: 0.0010 - 75s/epoch - 17ms/step
Epoch 31/100
4378/4378 - 75s - loss: 0.0951 - accuracy: 0.9026 - val_loss: 0.2939 - val_accuracy: 0.7703 - lr: 0.0010 - 75s/epoch - 17ms/step
Epoch 32/100
4378/4378 - 75s - loss: 0.0941 - accuracy: 0.9027 - val_loss: 0.3759 - val_accuracy: 0.7092 - lr: 0.0010 - 75s/epoch - 17ms/step
Epoch 33/100
4378/4378 - 75s - loss: 0.0943 - accuracy: 0.9039 - val_loss: 0.3533 - val_accuracy: 0.7267 - lr: 0.0010 - 75s/epoch - 17ms/step
Epoch 34/100
4378/4378 - 75s - loss: 0.0920 - accuracy: 0.9058 - val_loss: 0.3426 - val_accuracy: 0.7288 - lr: 0.0010 - 75s/epoch - 17ms/step
Epoch 35/100
4378/4378 - 75s - loss: 0.0948 - accuracy: 0.9041 - val_loss: 0.3465 - val_accuracy: 0.7203 - lr: 0.0010 - 75s/epoch - 17ms/step
Epoch 36/100
4378/4378 - 75s - loss: 0.0947 - accuracy: 0.9024 - val_loss: 0.3399 - val_accuracy: 0.7241 - lr: 0.0010 - 75s/epoch - 17ms/step
Epoch 37/100
4378/4378 - 75s - loss: 0.0941 - accuracy: 0.9052 - val_loss: 0.3558 - val_accuracy: 0.7114 - lr: 0.0010 - 75s/epoch - 17ms/step
Epoch 38/100
4378/4378 - 75s - loss: 0.0931 - accuracy: 0.9051 - val_loss: 0.3400 - val_accuracy: 0.7345 - lr: 0.0010 - 75s/epoch - 17ms/step
Epoch 39/100
4378/4378 - 75s - loss: 0.0936 - accuracy: 0.9048 - val_loss: 0.3669 - val_accuracy: 0.7201 - lr: 0.0010 - 75s/epoch - 17ms/step
Epoch 40/100
4378/4378 - 75s - loss: 0.0924 - accuracy: 0.9062 - val_loss: 0.3431 - val_accuracy: 0.7267 - lr: 0.0010 - 75s/epoch - 17ms/step
Epoch 41/100
4378/4378 - 75s - loss: 0.0922 - accuracy: 0.9050 - val_loss: 0.3302 - val_accuracy: 0.7267 - lr: 0.0010 - 75s/epoch - 17ms/step
Epoch 42/100
4378/4378 - 75s - loss: 0.0920 - accuracy: 0.9063 - val_loss: 0.3360 - val_accuracy: 0.7252 - lr: 0.0010 - 75s/epoch - 17ms/step
Epoch 43/100
4378/4378 - 75s - loss: 0.0938 - accuracy: 0.9033 - val_loss: 0.3341 - val_accuracy: 0.7316 - lr: 0.0010 - 75s/epoch - 17ms/step
Epoch 44/100
4378/4378 - 75s - loss: 0.0920 - accuracy: 0.9070 - val_loss: 0.3244 - val_accuracy: 0.7460 - lr: 0.0010 - 75s/epoch - 17ms/step
Epoch 45/100
4378/4378 - 75s - loss: 0.0935 - accuracy: 0.9039 - val_loss: 0.3111 - val_accuracy: 0.7501 - lr: 0.0010 - 75s/epoch - 17ms/step
Epoch 46/100
4378/4378 - 75s - loss: 0.0936 - accuracy: 0.9045 - val_loss: 0.3362 - val_accuracy: 0.7351 - lr: 0.0010 - 75s/epoch - 17ms/step
Epoch 47/100
4378/4378 - 75s - loss: 0.0945 - accuracy: 0.9031 - val_loss: 0.3386 - val_accuracy: 0.7348 - lr: 0.0010 - 75s/epoch - 17ms/step
Epoch 48/100
4378/4378 - 75s - loss: 0.0947 - accuracy: 0.9025 - val_loss: 0.3344 - val_accuracy: 0.7381 - lr: 0.0010 - 75s/epoch - 17ms/step
Epoch 49/100
4378/4378 - 75s - loss: 0.0940 - accuracy: 0.9035 - val_loss: 0.3622 - val_accuracy: 0.7149 - lr: 0.0010 - 75s/epoch - 17ms/step
Epoch 50/100
4378/4378 - 75s - loss: 0.0910 - accuracy: 0.9068 - val_loss: 0.3632 - val_accuracy: 0.7134 - lr: 0.0010 - 75s/epoch - 17ms/step
Epoch 51/100
4378/4378 - 75s - loss: 0.0930 - accuracy: 0.9052 - val_loss: 0.3681 - val_accuracy: 0.7172 - lr: 0.0010 - 75s/epoch - 17ms/step
Epoch 52/100
4378/4378 - 75s - loss: 0.0922 - accuracy: 0.9063 - val_loss: 0.3562 - val_accuracy: 0.7213 - lr: 0.0010 - 75s/epoch - 17ms/step
Epoch 53/100
4378/4378 - 75s - loss: 0.0925 - accuracy: 0.9051 - val_loss: 0.3620 - val_accuracy: 0.7212 - lr: 0.0010 - 75s/epoch - 17ms/step
Epoch 54/100
4378/4378 - 75s - loss: 0.0949 - accuracy: 0.9034 - val_loss: 0.3327 - val_accuracy: 0.7306 - lr: 0.0010 - 75s/epoch - 17ms/step
Epoch 55/100
4378/4378 - 75s - loss: 0.0923 - accuracy: 0.9061 - val_loss: 0.3502 - val_accuracy: 0.7197 - lr: 0.0010 - 75s/epoch - 17ms/step
Epoch 56/100
4378/4378 - 75s - loss: 0.0928 - accuracy: 0.9058 - val_loss: 0.3475 - val_accuracy: 0.7301 - lr: 0.0010 - 75s/epoch - 17ms/step
Epoch 57/100
4378/4378 - 75s - loss: 0.0948 - accuracy: 0.9038 - val_loss: 0.3487 - val_accuracy: 0.7176 - lr: 0.0010 - 75s/epoch - 17ms/step
Epoch 58/100
4378/4378 - 76s - loss: 0.0946 - accuracy: 0.9039 - val_loss: 0.3565 - val_accuracy: 0.7120 - lr: 0.0010 - 76s/epoch - 17ms/step
Epoch 59/100
4378/4378 - 75s - loss: 0.0943 - accuracy: 0.9043 - val_loss: 0.3451 - val_accuracy: 0.7198 - lr: 0.0010 - 75s/epoch - 17ms/step
Epoch 60/100
4378/4378 - 75s - loss: 0.0944 - accuracy: 0.9043 - val_loss: 0.3480 - val_accuracy: 0.7316 - lr: 0.0010 - 75s/epoch - 17ms/step
Epoch 61/100
4378/4378 - 75s - loss: 0.0935 - accuracy: 0.9045 - val_loss: 0.3593 - val_accuracy: 0.7230 - lr: 0.0010 - 75s/epoch - 17ms/step
Epoch 62/100
4378/4378 - 75s - loss: 0.0924 - accuracy: 0.9058 - val_loss: 0.3312 - val_accuracy: 0.7385 - lr: 0.0010 - 75s/epoch - 17ms/step
Epoch 63/100
4378/4378 - 75s - loss: 0.0929 - accuracy: 0.9047 - val_loss: 0.3596 - val_accuracy: 0.7283 - lr: 0.0010 - 75s/epoch - 17ms/step
Epoch 64/100
4378/4378 - 75s - loss: 0.0933 - accuracy: 0.9046 - val_loss: 0.3583 - val_accuracy: 0.7219 - lr: 0.0010 - 75s/epoch - 17ms/step
Epoch 65/100
4378/4378 - 75s - loss: 0.0949 - accuracy: 0.9013 - val_loss: 0.3212 - val_accuracy: 0.7492 - lr: 0.0010 - 75s/epoch - 17ms/step
Epoch 66/100
4378/4378 - 75s - loss: 0.0940 - accuracy: 0.9037 - val_loss: 0.3232 - val_accuracy: 0.7447 - lr: 0.0010 - 75s/epoch - 17ms/step
Epoch 67/100
4378/4378 - 75s - loss: 0.0940 - accuracy: 0.9045 - val_loss: 0.2898 - val_accuracy: 0.7573 - lr: 0.0010 - 75s/epoch - 17ms/step
Epoch 68/100
4378/4378 - 75s - loss: 0.0928 - accuracy: 0.9045 - val_loss: 0.3145 - val_accuracy: 0.7384 - lr: 0.0010 - 75s/epoch - 17ms/step
Epoch 69/100
4378/4378 - 75s - loss: 0.0923 - accuracy: 0.9059 - val_loss: 0.3836 - val_accuracy: 0.7024 - lr: 0.0010 - 75s/epoch - 17ms/step
Epoch 70/100
4378/4378 - 75s - loss: 0.0926 - accuracy: 0.9060 - val_loss: 0.3228 - val_accuracy: 0.7376 - lr: 0.0010 - 75s/epoch - 17ms/step
Epoch 71/100
4378/4378 - 75s - loss: 0.0934 - accuracy: 0.9046 - val_loss: 0.3307 - val_accuracy: 0.7408 - lr: 0.0010 - 75s/epoch - 17ms/step
Epoch 72/100
4378/4378 - 75s - loss: 0.0922 - accuracy: 0.9069 - val_loss: 0.3270 - val_accuracy: 0.7365 - lr: 0.0010 - 75s/epoch - 17ms/step
Epoch 73/100
4378/4378 - 75s - loss: 0.0927 - accuracy: 0.9058 - val_loss: 0.3708 - val_accuracy: 0.7161 - lr: 0.0010 - 75s/epoch - 17ms/step
Epoch 74/100
4378/4378 - 75s - loss: 0.0918 - accuracy: 0.9072 - val_loss: 0.3283 - val_accuracy: 0.7479 - lr: 0.0010 - 75s/epoch - 17ms/step
Epoch 75/100
4378/4378 - 75s - loss: 0.0935 - accuracy: 0.9042 - val_loss: 0.3849 - val_accuracy: 0.6985 - lr: 0.0010 - 75s/epoch - 17ms/step
Epoch 76/100
4378/4378 - 74s - loss: 0.0947 - accuracy: 0.9036 - val_loss: 0.3244 - val_accuracy: 0.7383 - lr: 0.0010 - 74s/epoch - 17ms/step
Epoch 77/100
4378/4378 - 75s - loss: 0.0924 - accuracy: 0.9055 - val_loss: 0.3304 - val_accuracy: 0.7424 - lr: 0.0010 - 75s/epoch - 17ms/step
Epoch 78/100
4378/4378 - 75s - loss: 0.0921 - accuracy: 0.9058 - val_loss: 0.3299 - val_accuracy: 0.7390 - lr: 0.0010 - 75s/epoch - 17ms/step
Epoch 79/100
4378/4378 - 75s - loss: 0.0919 - accuracy: 0.9069 - val_loss: 0.3721 - val_accuracy: 0.7071 - lr: 0.0010 - 75s/epoch - 17ms/step
Epoch 80/100
4378/4378 - 75s - loss: 0.0934 - accuracy: 0.9041 - val_loss: 0.3904 - val_accuracy: 0.7066 - lr: 0.0010 - 75s/epoch - 17ms/step
Epoch 81/100
4378/4378 - 75s - loss: 0.0912 - accuracy: 0.9077 - val_loss: 0.3499 - val_accuracy: 0.7384 - lr: 0.0010 - 75s/epoch - 17ms/step
Epoch 82/100
4378/4378 - 75s - loss: 0.0922 - accuracy: 0.9062 - val_loss: 0.3330 - val_accuracy: 0.7369 - lr: 0.0010 - 75s/epoch - 17ms/step
Epoch 83/100
4378/4378 - 75s - loss: 0.0934 - accuracy: 0.9054 - val_loss: 0.3252 - val_accuracy: 0.7398 - lr: 0.0010 - 75s/epoch - 17ms/step
Epoch 84/100
4378/4378 - 75s - loss: 0.0912 - accuracy: 0.9075 - val_loss: 0.3715 - val_accuracy: 0.7110 - lr: 0.0010 - 75s/epoch - 17ms/step
Epoch 85/100
4378/4378 - 75s - loss: 0.0927 - accuracy: 0.9054 - val_loss: 0.3392 - val_accuracy: 0.7410 - lr: 0.0010 - 75s/epoch - 17ms/step
Epoch 86/100
4378/4378 - 75s - loss: 0.0930 - accuracy: 0.9048 - val_loss: 0.3021 - val_accuracy: 0.7638 - lr: 0.0010 - 75s/epoch - 17ms/step
Epoch 87/100
4378/4378 - 75s - loss: 0.0927 - accuracy: 0.9060 - val_loss: 0.3453 - val_accuracy: 0.7366 - lr: 0.0010 - 75s/epoch - 17ms/step
Epoch 88/100
4378/4378 - 75s - loss: 0.0909 - accuracy: 0.9081 - val_loss: 0.3586 - val_accuracy: 0.7214 - lr: 0.0010 - 75s/epoch - 17ms/step
Epoch 89/100
4378/4378 - 75s - loss: 0.0906 - accuracy: 0.9084 - val_loss: 0.3638 - val_accuracy: 0.7037 - lr: 0.0010 - 75s/epoch - 17ms/step
Epoch 90/100
4378/4378 - 75s - loss: 0.0923 - accuracy: 0.9066 - val_loss: 0.3795 - val_accuracy: 0.7210 - lr: 0.0010 - 75s/epoch - 17ms/step
Epoch 91/100
4378/4378 - 75s - loss: 0.0918 - accuracy: 0.9069 - val_loss: 0.3454 - val_accuracy: 0.7315 - lr: 0.0010 - 75s/epoch - 17ms/step
Epoch 92/100
4378/4378 - 75s - loss: 0.0928 - accuracy: 0.9046 - val_loss: 0.3199 - val_accuracy: 0.7499 - lr: 0.0010 - 75s/epoch - 17ms/step
Epoch 93/100
4378/4378 - 75s - loss: 0.0911 - accuracy: 0.9070 - val_loss: 0.3596 - val_accuracy: 0.7250 - lr: 0.0010 - 75s/epoch - 17ms/step
Epoch 94/100
4378/4378 - 75s - loss: 0.0906 - accuracy: 0.9070 - val_loss: 0.3536 - val_accuracy: 0.7302 - lr: 0.0010 - 75s/epoch - 17ms/step
Epoch 95/100
4378/4378 - 75s - loss: 0.0924 - accuracy: 0.9068 - val_loss: 0.3267 - val_accuracy: 0.7411 - lr: 0.0010 - 75s/epoch - 17ms/step
Epoch 96/100
4378/4378 - 75s - loss: 0.0927 - accuracy: 0.9056 - val_loss: 0.3195 - val_accuracy: 0.7453 - lr: 0.0010 - 75s/epoch - 17ms/step
Epoch 97/100
4378/4378 - 75s - loss: 0.0917 - accuracy: 0.9067 - val_loss: 0.3018 - val_accuracy: 0.7573 - lr: 0.0010 - 75s/epoch - 17ms/step
Epoch 98/100
4378/4378 - 75s - loss: 0.0905 - accuracy: 0.9075 - val_loss: 0.3118 - val_accuracy: 0.7474 - lr: 0.0010 - 75s/epoch - 17ms/step
Epoch 99/100
4378/4378 - 75s - loss: 0.0909 - accuracy: 0.9076 - val_loss: 0.3415 - val_accuracy: 0.7260 - lr: 0.0010 - 75s/epoch - 17ms/step
Epoch 100/100
4378/4378 - 75s - loss: 0.0921 - accuracy: 0.9059 - val_loss: 0.3468 - val_accuracy: 0.7362 - lr: 0.0010 - 75s/epoch - 17ms/step
Epoch 1/100
876/876 - 21s - loss: 0.0663 - accuracy: 0.9340 - val_loss: 0.4020 - val_accuracy: 0.7221 - lr: 0.0010 - 21s/epoch - 24ms/step
Epoch 2/100
876/876 - 18s - loss: 0.0679 - accuracy: 0.9321 - val_loss: 0.4182 - val_accuracy: 0.7124 - lr: 0.0010 - 18s/epoch - 21ms/step
Epoch 3/100
876/876 - 18s - loss: 0.0689 - accuracy: 0.9312 - val_loss: 0.4256 - val_accuracy: 0.7150 - lr: 0.0010 - 18s/epoch - 21ms/step
Epoch 4/100
876/876 - 18s - loss: 0.0680 - accuracy: 0.9325 - val_loss: 0.4247 - val_accuracy: 0.7179 - lr: 0.0010 - 18s/epoch - 21ms/step
Epoch 5/100
876/876 - 18s - loss: 0.0660 - accuracy: 0.9345 - val_loss: 0.4087 - val_accuracy: 0.7317 - lr: 0.0010 - 18s/epoch - 21ms/step
Epoch 6/100
876/876 - 18s - loss: 0.0662 - accuracy: 0.9347 - val_loss: 0.4853 - val_accuracy: 0.7012 - lr: 0.0010 - 18s/epoch - 21ms/step
Epoch 7/100
876/876 - 18s - loss: 0.0662 - accuracy: 0.9342 - val_loss: 0.4285 - val_accuracy: 0.7191 - lr: 0.0010 - 18s/epoch - 21ms/step
Epoch 8/100
876/876 - 18s - loss: 0.0656 - accuracy: 0.9352 - val_loss: 0.4652 - val_accuracy: 0.7119 - lr: 0.0010 - 18s/epoch - 21ms/step
Epoch 9/100
876/876 - 18s - loss: 0.0644 - accuracy: 0.9365 - val_loss: 0.4258 - val_accuracy: 0.7136 - lr: 0.0010 - 18s/epoch - 21ms/step
Epoch 10/100
876/876 - 18s - loss: 0.0647 - accuracy: 0.9366 - val_loss: 0.4623 - val_accuracy: 0.7138 - lr: 0.0010 - 18s/epoch - 21ms/step
Epoch 11/100
876/876 - 18s - loss: 0.0645 - accuracy: 0.9362 - val_loss: 0.4921 - val_accuracy: 0.6966 - lr: 0.0010 - 18s/epoch - 21ms/step
Epoch 12/100
876/876 - 18s - loss: 0.0656 - accuracy: 0.9355 - val_loss: 0.4607 - val_accuracy: 0.7106 - lr: 0.0010 - 18s/epoch - 21ms/step
Epoch 13/100
876/876 - 18s - loss: 0.0647 - accuracy: 0.9357 - val_loss: 0.4816 - val_accuracy: 0.7020 - lr: 0.0010 - 18s/epoch - 21ms/step
Epoch 14/100
876/876 - 18s - loss: 0.0642 - accuracy: 0.9367 - val_loss: 0.4142 - val_accuracy: 0.7388 - lr: 0.0010 - 18s/epoch - 21ms/step
Epoch 15/100
876/876 - 18s - loss: 0.0619 - accuracy: 0.9388 - val_loss: 0.4494 - val_accuracy: 0.7174 - lr: 0.0010 - 18s/epoch - 21ms/step
Epoch 16/100
876/876 - 18s - loss: 0.0637 - accuracy: 0.9379 - val_loss: 0.4401 - val_accuracy: 0.7210 - lr: 0.0010 - 18s/epoch - 21ms/step
Epoch 17/100
876/876 - 18s - loss: 0.0643 - accuracy: 0.9363 - val_loss: 0.4527 - val_accuracy: 0.7171 - lr: 0.0010 - 18s/epoch - 21ms/step
Epoch 18/100
876/876 - 18s - loss: 0.0637 - accuracy: 0.9371 - val_loss: 0.4839 - val_accuracy: 0.7031 - lr: 0.0010 - 18s/epoch - 21ms/step
Epoch 19/100
876/876 - 18s - loss: 0.0633 - accuracy: 0.9373 - val_loss: 0.4407 - val_accuracy: 0.7243 - lr: 0.0010 - 18s/epoch - 21ms/step
Epoch 20/100
876/876 - 18s - loss: 0.0630 - accuracy: 0.9389 - val_loss: 0.4870 - val_accuracy: 0.7081 - lr: 0.0010 - 18s/epoch - 21ms/step
Epoch 21/100
876/876 - 18s - loss: 0.0642 - accuracy: 0.9372 - val_loss: 0.4496 - val_accuracy: 0.7164 - lr: 0.0010 - 18s/epoch - 21ms/step
Epoch 22/100
876/876 - 19s - loss: 0.0639 - accuracy: 0.9375 - val_loss: 0.4687 - val_accuracy: 0.7088 - lr: 0.0010 - 19s/epoch - 21ms/step
Epoch 23/100
876/876 - 18s - loss: 0.0614 - accuracy: 0.9396 - val_loss: 0.4765 - val_accuracy: 0.7085 - lr: 0.0010 - 18s/epoch - 21ms/step
Epoch 24/100
876/876 - 18s - loss: 0.0632 - accuracy: 0.9383 - val_loss: 0.4494 - val_accuracy: 0.7234 - lr: 0.0010 - 18s/epoch - 21ms/step
Epoch 25/100
876/876 - 18s - loss: 0.0616 - accuracy: 0.9397 - val_loss: 0.4834 - val_accuracy: 0.7105 - lr: 0.0010 - 18s/epoch - 21ms/step
Epoch 26/100
876/876 - 18s - loss: 0.0625 - accuracy: 0.9390 - val_loss: 0.4491 - val_accuracy: 0.7169 - lr: 0.0010 - 18s/epoch - 21ms/step
Epoch 27/100
876/876 - 18s - loss: 0.0623 - accuracy: 0.9389 - val_loss: 0.4666 - val_accuracy: 0.7132 - lr: 0.0010 - 18s/epoch - 21ms/step
Epoch 28/100
876/876 - 18s - loss: 0.0623 - accuracy: 0.9391 - val_loss: 0.4704 - val_accuracy: 0.7129 - lr: 0.0010 - 18s/epoch - 21ms/step
Epoch 29/100
876/876 - 18s - loss: 0.0636 - accuracy: 0.9375 - val_loss: 0.4796 - val_accuracy: 0.7097 - lr: 0.0010 - 18s/epoch - 21ms/step
Epoch 30/100
876/876 - 18s - loss: 0.0617 - accuracy: 0.9389 - val_loss: 0.5243 - val_accuracy: 0.6993 - lr: 0.0010 - 18s/epoch - 21ms/step
Epoch 31/100
876/876 - 18s - loss: 0.0622 - accuracy: 0.9387 - val_loss: 0.4973 - val_accuracy: 0.7100 - lr: 0.0010 - 18s/epoch - 21ms/step
Epoch 32/100
876/876 - 18s - loss: 0.0616 - accuracy: 0.9394 - val_loss: 0.4844 - val_accuracy: 0.7175 - lr: 0.0010 - 18s/epoch - 21ms/step
Epoch 33/100
876/876 - 18s - loss: 0.0610 - accuracy: 0.9408 - val_loss: 0.4890 - val_accuracy: 0.7158 - lr: 0.0010 - 18s/epoch - 21ms/step
Epoch 34/100
876/876 - 18s - loss: 0.0614 - accuracy: 0.9403 - val_loss: 0.5021 - val_accuracy: 0.7087 - lr: 0.0010 - 18s/epoch - 21ms/step
Epoch 35/100
876/876 - 18s - loss: 0.0619 - accuracy: 0.9388 - val_loss: 0.4728 - val_accuracy: 0.7129 - lr: 0.0010 - 18s/epoch - 21ms/step
Epoch 36/100
876/876 - 18s - loss: 0.0619 - accuracy: 0.9388 - val_loss: 0.4830 - val_accuracy: 0.7110 - lr: 0.0010 - 18s/epoch - 21ms/step
Epoch 37/100
876/876 - 18s - loss: 0.0617 - accuracy: 0.9394 - val_loss: 0.4743 - val_accuracy: 0.7137 - lr: 0.0010 - 18s/epoch - 21ms/step
Epoch 38/100
876/876 - 18s - loss: 0.0635 - accuracy: 0.9370 - val_loss: 0.4729 - val_accuracy: 0.7222 - lr: 0.0010 - 18s/epoch - 21ms/step
Epoch 39/100
876/876 - 18s - loss: 0.0614 - accuracy: 0.9396 - val_loss: 0.4682 - val_accuracy: 0.7142 - lr: 0.0010 - 18s/epoch - 21ms/step
Epoch 40/100
876/876 - 18s - loss: 0.0621 - accuracy: 0.9393 - val_loss: 0.4400 - val_accuracy: 0.7263 - lr: 0.0010 - 18s/epoch - 21ms/step
Epoch 41/100
876/876 - 18s - loss: 0.0624 - accuracy: 0.9392 - val_loss: 0.4461 - val_accuracy: 0.7308 - lr: 0.0010 - 18s/epoch - 21ms/step
Epoch 42/100
876/876 - 18s - loss: 0.0620 - accuracy: 0.9389 - val_loss: 0.4700 - val_accuracy: 0.7119 - lr: 0.0010 - 18s/epoch - 21ms/step
Epoch 43/100
876/876 - 18s - loss: 0.0623 - accuracy: 0.9389 - val_loss: 0.4731 - val_accuracy: 0.7088 - lr: 0.0010 - 18s/epoch - 21ms/step
Epoch 44/100
876/876 - 18s - loss: 0.0608 - accuracy: 0.9403 - val_loss: 0.4715 - val_accuracy: 0.7130 - lr: 0.0010 - 18s/epoch - 21ms/step
Epoch 45/100
876/876 - 18s - loss: 0.0613 - accuracy: 0.9397 - val_loss: 0.4998 - val_accuracy: 0.6976 - lr: 0.0010 - 18s/epoch - 21ms/step
Epoch 46/100
876/876 - 18s - loss: 0.0604 - accuracy: 0.9412 - val_loss: 0.4752 - val_accuracy: 0.7158 - lr: 0.0010 - 18s/epoch - 21ms/step
Epoch 47/100
876/876 - 18s - loss: 0.0607 - accuracy: 0.9410 - val_loss: 0.4885 - val_accuracy: 0.7100 - lr: 0.0010 - 18s/epoch - 21ms/step
Epoch 48/100
876/876 - 18s - loss: 0.0618 - accuracy: 0.9390 - val_loss: 0.4709 - val_accuracy: 0.7188 - lr: 0.0010 - 18s/epoch - 21ms/step
Epoch 49/100
876/876 - 18s - loss: 0.0619 - accuracy: 0.9393 - val_loss: 0.4858 - val_accuracy: 0.7085 - lr: 0.0010 - 18s/epoch - 21ms/step
Epoch 50/100
876/876 - 18s - loss: 0.0611 - accuracy: 0.9400 - val_loss: 0.4555 - val_accuracy: 0.7269 - lr: 0.0010 - 18s/epoch - 21ms/step
Epoch 51/100
876/876 - 18s - loss: 0.0601 - accuracy: 0.9409 - val_loss: 0.4857 - val_accuracy: 0.7125 - lr: 0.0010 - 18s/epoch - 21ms/step
Epoch 52/100
876/876 - 18s - loss: 0.0588 - accuracy: 0.9436 - val_loss: 0.5856 - val_accuracy: 0.6647 - lr: 0.0010 - 18s/epoch - 21ms/step
Epoch 53/100
876/876 - 18s - loss: 0.0603 - accuracy: 0.9404 - val_loss: 0.5222 - val_accuracy: 0.6982 - lr: 0.0010 - 18s/epoch - 21ms/step
Epoch 54/100
876/876 - 18s - loss: 0.0599 - accuracy: 0.9419 - val_loss: 0.5277 - val_accuracy: 0.6885 - lr: 0.0010 - 18s/epoch - 21ms/step
Epoch 55/100
876/876 - 18s - loss: 0.0604 - accuracy: 0.9412 - val_loss: 0.4935 - val_accuracy: 0.7103 - lr: 0.0010 - 18s/epoch - 21ms/step
Epoch 56/100
876/876 - 18s - loss: 0.0596 - accuracy: 0.9414 - val_loss: 0.4792 - val_accuracy: 0.7184 - lr: 0.0010 - 18s/epoch - 21ms/step
Epoch 57/100
876/876 - 18s - loss: 0.0612 - accuracy: 0.9405 - val_loss: 0.5171 - val_accuracy: 0.7005 - lr: 0.0010 - 18s/epoch - 21ms/step
Epoch 58/100
876/876 - 18s - loss: 0.0603 - accuracy: 0.9408 - val_loss: 0.4957 - val_accuracy: 0.7042 - lr: 0.0010 - 18s/epoch - 21ms/step
Epoch 59/100
876/876 - 18s - loss: 0.0606 - accuracy: 0.9408 - val_loss: 0.4751 - val_accuracy: 0.7199 - lr: 0.0010 - 18s/epoch - 21ms/step
Epoch 60/100
876/876 - 18s - loss: 0.0596 - accuracy: 0.9420 - val_loss: 0.4707 - val_accuracy: 0.7277 - lr: 0.0010 - 18s/epoch - 21ms/step
Epoch 61/100
876/876 - 18s - loss: 0.0602 - accuracy: 0.9419 - val_loss: 0.4939 - val_accuracy: 0.7040 - lr: 0.0010 - 18s/epoch - 21ms/step
Epoch 62/100
876/876 - 18s - loss: 0.0601 - accuracy: 0.9412 - val_loss: 0.5293 - val_accuracy: 0.6927 - lr: 0.0010 - 18s/epoch - 21ms/step
Epoch 63/100
876/876 - 18s - loss: 0.0611 - accuracy: 0.9411 - val_loss: 0.4755 - val_accuracy: 0.7171 - lr: 0.0010 - 18s/epoch - 21ms/step
Epoch 64/100
876/876 - 18s - loss: 0.0599 - accuracy: 0.9414 - val_loss: 0.4696 - val_accuracy: 0.7192 - lr: 0.0010 - 18s/epoch - 21ms/step
Epoch 65/100
876/876 - 18s - loss: 0.0609 - accuracy: 0.9405 - val_loss: 0.4833 - val_accuracy: 0.7127 - lr: 0.0010 - 18s/epoch - 21ms/step
Epoch 66/100
876/876 - 18s - loss: 0.0587 - accuracy: 0.9427 - val_loss: 0.4709 - val_accuracy: 0.7251 - lr: 0.0010 - 18s/epoch - 21ms/step
Epoch 67/100
876/876 - 18s - loss: 0.0604 - accuracy: 0.9406 - val_loss: 0.4656 - val_accuracy: 0.7201 - lr: 0.0010 - 18s/epoch - 21ms/step
Epoch 68/100
876/876 - 18s - loss: 0.0593 - accuracy: 0.9423 - val_loss: 0.4732 - val_accuracy: 0.7206 - lr: 0.0010 - 18s/epoch - 21ms/step
Epoch 69/100
876/876 - 18s - loss: 0.0592 - accuracy: 0.9417 - val_loss: 0.5084 - val_accuracy: 0.7079 - lr: 0.0010 - 18s/epoch - 21ms/step
Epoch 70/100
876/876 - 18s - loss: 0.0600 - accuracy: 0.9408 - val_loss: 0.4960 - val_accuracy: 0.7095 - lr: 0.0010 - 18s/epoch - 21ms/step
Epoch 71/100
876/876 - 19s - loss: 0.0601 - accuracy: 0.9409 - val_loss: 0.4739 - val_accuracy: 0.7243 - lr: 0.0010 - 19s/epoch - 21ms/step
Epoch 72/100
876/876 - 18s - loss: 0.0597 - accuracy: 0.9404 - val_loss: 0.4939 - val_accuracy: 0.7121 - lr: 0.0010 - 18s/epoch - 21ms/step
Epoch 73/100
876/876 - 18s - loss: 0.0609 - accuracy: 0.9403 - val_loss: 0.4959 - val_accuracy: 0.7079 - lr: 0.0010 - 18s/epoch - 21ms/step
Epoch 74/100
876/876 - 18s - loss: 0.0589 - accuracy: 0.9424 - val_loss: 0.5347 - val_accuracy: 0.6965 - lr: 0.0010 - 18s/epoch - 21ms/step
Epoch 75/100
876/876 - 18s - loss: 0.0606 - accuracy: 0.9397 - val_loss: 0.5197 - val_accuracy: 0.7023 - lr: 0.0010 - 18s/epoch - 21ms/step
Epoch 76/100
876/876 - 18s - loss: 0.0593 - accuracy: 0.9417 - val_loss: 0.5071 - val_accuracy: 0.7108 - lr: 0.0010 - 18s/epoch - 21ms/step
Epoch 77/100
876/876 - 18s - loss: 0.0601 - accuracy: 0.9415 - val_loss: 0.5290 - val_accuracy: 0.6981 - lr: 0.0010 - 18s/epoch - 21ms/step
Epoch 78/100
876/876 - 18s - loss: 0.0599 - accuracy: 0.9419 - val_loss: 0.5496 - val_accuracy: 0.6941 - lr: 0.0010 - 18s/epoch - 21ms/step
Epoch 79/100
876/876 - 18s - loss: 0.0593 - accuracy: 0.9415 - val_loss: 0.5186 - val_accuracy: 0.6983 - lr: 0.0010 - 18s/epoch - 21ms/step
Epoch 80/100
876/876 - 18s - loss: 0.0586 - accuracy: 0.9423 - val_loss: 0.5498 - val_accuracy: 0.6851 - lr: 0.0010 - 18s/epoch - 21ms/step
Epoch 81/100
876/876 - 18s - loss: 0.0591 - accuracy: 0.9427 - val_loss: 0.4419 - val_accuracy: 0.7440 - lr: 0.0010 - 18s/epoch - 21ms/step
Epoch 82/100
876/876 - 18s - loss: 0.0598 - accuracy: 0.9416 - val_loss: 0.5444 - val_accuracy: 0.6882 - lr: 0.0010 - 18s/epoch - 21ms/step
Epoch 83/100
876/876 - 18s - loss: 0.0587 - accuracy: 0.9424 - val_loss: 0.4889 - val_accuracy: 0.7179 - lr: 0.0010 - 18s/epoch - 21ms/step
Epoch 84/100
876/876 - 18s - loss: 0.0593 - accuracy: 0.9413 - val_loss: 0.5223 - val_accuracy: 0.7015 - lr: 0.0010 - 18s/epoch - 21ms/step
Epoch 85/100
876/876 - 18s - loss: 0.0599 - accuracy: 0.9419 - val_loss: 0.5056 - val_accuracy: 0.7077 - lr: 0.0010 - 18s/epoch - 21ms/step
Epoch 86/100
876/876 - 18s - loss: 0.0589 - accuracy: 0.9436 - val_loss: 0.4554 - val_accuracy: 0.7337 - lr: 0.0010 - 18s/epoch - 21ms/step
Epoch 87/100
876/876 - 18s - loss: 0.0595 - accuracy: 0.9422 - val_loss: 0.4914 - val_accuracy: 0.7129 - lr: 0.0010 - 18s/epoch - 21ms/step
Epoch 88/100
876/876 - 18s - loss: 0.0594 - accuracy: 0.9418 - val_loss: 0.4941 - val_accuracy: 0.7094 - lr: 0.0010 - 18s/epoch - 21ms/step
Epoch 89/100
876/876 - 18s - loss: 0.0595 - accuracy: 0.9421 - val_loss: 0.5007 - val_accuracy: 0.7125 - lr: 0.0010 - 18s/epoch - 21ms/step
Epoch 90/100
876/876 - 18s - loss: 0.0591 - accuracy: 0.9416 - val_loss: 0.5065 - val_accuracy: 0.7112 - lr: 0.0010 - 18s/epoch - 21ms/step
Epoch 91/100
876/876 - 18s - loss: 0.0604 - accuracy: 0.9418 - val_loss: 0.5234 - val_accuracy: 0.6938 - lr: 0.0010 - 18s/epoch - 21ms/step
Epoch 92/100
876/876 - 18s - loss: 0.0593 - accuracy: 0.9425 - val_loss: 0.5261 - val_accuracy: 0.7023 - lr: 0.0010 - 18s/epoch - 21ms/step
Epoch 93/100
876/876 - 18s - loss: 0.0590 - accuracy: 0.9423 - val_loss: 0.5344 - val_accuracy: 0.6927 - lr: 0.0010 - 18s/epoch - 21ms/step
Epoch 94/100
876/876 - 18s - loss: 0.0600 - accuracy: 0.9409 - val_loss: 0.5297 - val_accuracy: 0.6956 - lr: 0.0010 - 18s/epoch - 21ms/step
Epoch 95/100
876/876 - 18s - loss: 0.0599 - accuracy: 0.9408 - val_loss: 0.4924 - val_accuracy: 0.7092 - lr: 0.0010 - 18s/epoch - 21ms/step
Epoch 96/100
876/876 - 18s - loss: 0.0591 - accuracy: 0.9428 - val_loss: 0.5355 - val_accuracy: 0.6882 - lr: 0.0010 - 18s/epoch - 21ms/step
Epoch 97/100
876/876 - 18s - loss: 0.0590 - accuracy: 0.9429 - val_loss: 0.4872 - val_accuracy: 0.7105 - lr: 0.0010 - 18s/epoch - 21ms/step
Epoch 98/100
876/876 - 18s - loss: 0.0603 - accuracy: 0.9413 - val_loss: 0.5106 - val_accuracy: 0.6995 - lr: 0.0010 - 18s/epoch - 21ms/step
Epoch 99/100
876/876 - 18s - loss: 0.0577 - accuracy: 0.9444 - val_loss: 0.5158 - val_accuracy: 0.6997 - lr: 0.0010 - 18s/epoch - 21ms/step
Epoch 100/100
876/876 - 18s - loss: 0.0586 - accuracy: 0.9421 - val_loss: 0.4950 - val_accuracy: 0.7106 - lr: 0.0010 - 18s/epoch - 21ms/step
Epoch 1/100
176/176 - 12s - loss: 0.0459 - accuracy: 0.9573 - val_loss: 0.5498 - val_accuracy: 0.6978 - lr: 0.0010 - 12s/epoch - 70ms/step
Epoch 2/100
176/176 - 9s - loss: 0.0420 - accuracy: 0.9608 - val_loss: 0.5701 - val_accuracy: 0.6953 - lr: 0.0010 - 9s/epoch - 51ms/step
Epoch 3/100
176/176 - 9s - loss: 0.0408 - accuracy: 0.9620 - val_loss: 0.5997 - val_accuracy: 0.6889 - lr: 0.0010 - 9s/epoch - 51ms/step
Epoch 4/100
176/176 - 9s - loss: 0.0409 - accuracy: 0.9623 - val_loss: 0.6140 - val_accuracy: 0.6847 - lr: 0.0010 - 9s/epoch - 51ms/step
Epoch 5/100
176/176 - 9s - loss: 0.0418 - accuracy: 0.9618 - val_loss: 0.6035 - val_accuracy: 0.6941 - lr: 0.0010 - 9s/epoch - 51ms/step
Epoch 6/100
176/176 - 9s - loss: 0.0421 - accuracy: 0.9603 - val_loss: 0.5811 - val_accuracy: 0.7042 - lr: 0.0010 - 9s/epoch - 51ms/step
Epoch 7/100
176/176 - 9s - loss: 0.0430 - accuracy: 0.9598 - val_loss: 0.6444 - val_accuracy: 0.6848 - lr: 0.0010 - 9s/epoch - 51ms/step
Epoch 8/100
176/176 - 9s - loss: 0.0427 - accuracy: 0.9602 - val_loss: 0.6208 - val_accuracy: 0.6935 - lr: 0.0010 - 9s/epoch - 51ms/step
Epoch 9/100
176/176 - 9s - loss: 0.0436 - accuracy: 0.9593 - val_loss: 0.5975 - val_accuracy: 0.6976 - lr: 0.0010 - 9s/epoch - 51ms/step
Epoch 10/100
176/176 - 9s - loss: 0.0437 - accuracy: 0.9588 - val_loss: 0.5895 - val_accuracy: 0.7027 - lr: 0.0010 - 9s/epoch - 51ms/step
Epoch 11/100
176/176 - 9s - loss: 0.0431 - accuracy: 0.9594 - val_loss: 0.6655 - val_accuracy: 0.6850 - lr: 0.0010 - 9s/epoch - 51ms/step
Epoch 12/100
176/176 - 9s - loss: 0.0423 - accuracy: 0.9603 - val_loss: 0.6404 - val_accuracy: 0.6868 - lr: 0.0010 - 9s/epoch - 51ms/step
Epoch 13/100
176/176 - 9s - loss: 0.0430 - accuracy: 0.9601 - val_loss: 0.6217 - val_accuracy: 0.6917 - lr: 0.0010 - 9s/epoch - 51ms/step
Epoch 14/100
176/176 - 9s - loss: 0.0425 - accuracy: 0.9604 - val_loss: 0.6288 - val_accuracy: 0.6950 - lr: 0.0010 - 9s/epoch - 51ms/step
Epoch 15/100
176/176 - 9s - loss: 0.0430 - accuracy: 0.9591 - val_loss: 0.6401 - val_accuracy: 0.6879 - lr: 0.0010 - 9s/epoch - 51ms/step
Epoch 16/100
176/176 - 9s - loss: 0.0427 - accuracy: 0.9597 - val_loss: 0.6422 - val_accuracy: 0.6866 - lr: 0.0010 - 9s/epoch - 51ms/step
Epoch 17/100
176/176 - 9s - loss: 0.0432 - accuracy: 0.9592 - val_loss: 0.6123 - val_accuracy: 0.7023 - lr: 0.0010 - 9s/epoch - 51ms/step
Epoch 18/100
176/176 - 9s - loss: 0.0441 - accuracy: 0.9587 - val_loss: 0.6344 - val_accuracy: 0.6915 - lr: 0.0010 - 9s/epoch - 51ms/step
Epoch 19/100
176/176 - 9s - loss: 0.0429 - accuracy: 0.9598 - val_loss: 0.6321 - val_accuracy: 0.7003 - lr: 0.0010 - 9s/epoch - 51ms/step
Epoch 20/100
176/176 - 9s - loss: 0.0427 - accuracy: 0.9604 - val_loss: 0.6287 - val_accuracy: 0.6927 - lr: 0.0010 - 9s/epoch - 51ms/step
Epoch 21/100
176/176 - 9s - loss: 0.0435 - accuracy: 0.9594 - val_loss: 0.6740 - val_accuracy: 0.6830 - lr: 0.0010 - 9s/epoch - 51ms/step
Epoch 22/100
176/176 - 9s - loss: 0.0414 - accuracy: 0.9615 - val_loss: 0.6591 - val_accuracy: 0.6933 - lr: 0.0010 - 9s/epoch - 51ms/step
Epoch 23/100
176/176 - 9s - loss: 0.0419 - accuracy: 0.9611 - val_loss: 0.6229 - val_accuracy: 0.6999 - lr: 0.0010 - 9s/epoch - 51ms/step
Epoch 24/100
176/176 - 9s - loss: 0.0419 - accuracy: 0.9605 - val_loss: 0.6605 - val_accuracy: 0.6857 - lr: 0.0010 - 9s/epoch - 51ms/step
Epoch 25/100
176/176 - 9s - loss: 0.0429 - accuracy: 0.9600 - val_loss: 0.6580 - val_accuracy: 0.6845 - lr: 0.0010 - 9s/epoch - 51ms/step
Epoch 26/100
176/176 - 9s - loss: 0.0419 - accuracy: 0.9610 - val_loss: 0.6781 - val_accuracy: 0.6838 - lr: 0.0010 - 9s/epoch - 51ms/step
Epoch 27/100
176/176 - 9s - loss: 0.0416 - accuracy: 0.9615 - val_loss: 0.6527 - val_accuracy: 0.6943 - lr: 0.0010 - 9s/epoch - 51ms/step
Epoch 28/100
176/176 - 9s - loss: 0.0411 - accuracy: 0.9614 - val_loss: 0.6687 - val_accuracy: 0.6945 - lr: 0.0010 - 9s/epoch - 51ms/step
Epoch 29/100
176/176 - 9s - loss: 0.0405 - accuracy: 0.9621 - val_loss: 0.7063 - val_accuracy: 0.6763 - lr: 0.0010 - 9s/epoch - 51ms/step
Epoch 30/100
176/176 - 9s - loss: 0.0424 - accuracy: 0.9600 - val_loss: 0.6549 - val_accuracy: 0.6885 - lr: 0.0010 - 9s/epoch - 51ms/step
Epoch 31/100
176/176 - 9s - loss: 0.0416 - accuracy: 0.9618 - val_loss: 0.6572 - val_accuracy: 0.6897 - lr: 0.0010 - 9s/epoch - 51ms/step
Epoch 32/100
176/176 - 9s - loss: 0.0399 - accuracy: 0.9629 - val_loss: 0.6832 - val_accuracy: 0.6848 - lr: 0.0010 - 9s/epoch - 51ms/step
Epoch 33/100
176/176 - 9s - loss: 0.0415 - accuracy: 0.9609 - val_loss: 0.6855 - val_accuracy: 0.6883 - lr: 0.0010 - 9s/epoch - 51ms/step
Epoch 34/100
176/176 - 9s - loss: 0.0400 - accuracy: 0.9630 - val_loss: 0.6309 - val_accuracy: 0.7006 - lr: 0.0010 - 9s/epoch - 51ms/step
Epoch 35/100
176/176 - 9s - loss: 0.0415 - accuracy: 0.9617 - val_loss: 0.6632 - val_accuracy: 0.6946 - lr: 0.0010 - 9s/epoch - 51ms/step
Epoch 36/100
176/176 - 9s - loss: 0.0413 - accuracy: 0.9619 - val_loss: 0.6884 - val_accuracy: 0.6881 - lr: 0.0010 - 9s/epoch - 51ms/step
Epoch 37/100
176/176 - 9s - loss: 0.0420 - accuracy: 0.9612 - val_loss: 0.6481 - val_accuracy: 0.6936 - lr: 0.0010 - 9s/epoch - 51ms/step
Epoch 38/100
176/176 - 9s - loss: 0.0408 - accuracy: 0.9622 - val_loss: 0.6827 - val_accuracy: 0.6823 - lr: 0.0010 - 9s/epoch - 51ms/step
Epoch 39/100
176/176 - 9s - loss: 0.0415 - accuracy: 0.9616 - val_loss: 0.6646 - val_accuracy: 0.6913 - lr: 0.0010 - 9s/epoch - 51ms/step
Epoch 40/100
176/176 - 9s - loss: 0.0412 - accuracy: 0.9615 - val_loss: 0.6809 - val_accuracy: 0.6823 - lr: 0.0010 - 9s/epoch - 51ms/step
Epoch 41/100
176/176 - 9s - loss: 0.0409 - accuracy: 0.9620 - val_loss: 0.6459 - val_accuracy: 0.6964 - lr: 0.0010 - 9s/epoch - 51ms/step
Epoch 42/100
176/176 - 9s - loss: 0.0422 - accuracy: 0.9604 - val_loss: 0.6787 - val_accuracy: 0.6834 - lr: 0.0010 - 9s/epoch - 51ms/step
Epoch 43/100
176/176 - 9s - loss: 0.0421 - accuracy: 0.9604 - val_loss: 0.6734 - val_accuracy: 0.6885 - lr: 0.0010 - 9s/epoch - 51ms/step
Epoch 44/100
176/176 - 9s - loss: 0.0409 - accuracy: 0.9623 - val_loss: 0.6866 - val_accuracy: 0.6810 - lr: 0.0010 - 9s/epoch - 51ms/step
Epoch 45/100
176/176 - 9s - loss: 0.0412 - accuracy: 0.9613 - val_loss: 0.6248 - val_accuracy: 0.7085 - lr: 0.0010 - 9s/epoch - 51ms/step
Epoch 46/100
176/176 - 9s - loss: 0.0423 - accuracy: 0.9608 - val_loss: 0.6750 - val_accuracy: 0.6912 - lr: 0.0010 - 9s/epoch - 51ms/step
Epoch 47/100
176/176 - 9s - loss: 0.0391 - accuracy: 0.9637 - val_loss: 0.6970 - val_accuracy: 0.6956 - lr: 0.0010 - 9s/epoch - 51ms/step
Epoch 48/100
176/176 - 9s - loss: 0.0382 - accuracy: 0.9648 - val_loss: 0.7180 - val_accuracy: 0.6783 - lr: 0.0010 - 9s/epoch - 51ms/step
Epoch 49/100
176/176 - 9s - loss: 0.0399 - accuracy: 0.9635 - val_loss: 0.7249 - val_accuracy: 0.6785 - lr: 0.0010 - 9s/epoch - 51ms/step
Epoch 50/100
176/176 - 9s - loss: 0.0401 - accuracy: 0.9625 - val_loss: 0.7113 - val_accuracy: 0.6890 - lr: 0.0010 - 9s/epoch - 51ms/step
Epoch 51/100
176/176 - 9s - loss: 0.0404 - accuracy: 0.9623 - val_loss: 0.7111 - val_accuracy: 0.6925 - lr: 0.0010 - 9s/epoch - 51ms/step
Epoch 52/100
176/176 - 9s - loss: 0.0408 - accuracy: 0.9616 - val_loss: 0.6943 - val_accuracy: 0.6877 - lr: 0.0010 - 9s/epoch - 51ms/step
Epoch 53/100
176/176 - 9s - loss: 0.0411 - accuracy: 0.9619 - val_loss: 0.6810 - val_accuracy: 0.6956 - lr: 0.0010 - 9s/epoch - 51ms/step
Epoch 54/100
176/176 - 9s - loss: 0.0421 - accuracy: 0.9601 - val_loss: 0.6373 - val_accuracy: 0.7001 - lr: 0.0010 - 9s/epoch - 51ms/step
Epoch 55/100
176/176 - 9s - loss: 0.0405 - accuracy: 0.9623 - val_loss: 0.6879 - val_accuracy: 0.6879 - lr: 0.0010 - 9s/epoch - 51ms/step
Epoch 56/100
176/176 - 9s - loss: 0.0403 - accuracy: 0.9628 - val_loss: 0.6558 - val_accuracy: 0.7008 - lr: 0.0010 - 9s/epoch - 51ms/step
Epoch 57/100
176/176 - 9s - loss: 0.0394 - accuracy: 0.9635 - val_loss: 0.6917 - val_accuracy: 0.6875 - lr: 0.0010 - 9s/epoch - 51ms/step
Epoch 58/100
176/176 - 9s - loss: 0.0396 - accuracy: 0.9634 - val_loss: 0.6986 - val_accuracy: 0.6871 - lr: 0.0010 - 9s/epoch - 51ms/step
Epoch 59/100
176/176 - 9s - loss: 0.0392 - accuracy: 0.9637 - val_loss: 0.6826 - val_accuracy: 0.6941 - lr: 0.0010 - 9s/epoch - 51ms/step
Epoch 60/100
176/176 - 9s - loss: 0.0408 - accuracy: 0.9621 - val_loss: 0.7581 - val_accuracy: 0.6694 - lr: 0.0010 - 9s/epoch - 51ms/step
Epoch 61/100
176/176 - 9s - loss: 0.0409 - accuracy: 0.9622 - val_loss: 0.6921 - val_accuracy: 0.6947 - lr: 0.0010 - 9s/epoch - 51ms/step
Epoch 62/100
176/176 - 9s - loss: 0.0407 - accuracy: 0.9616 - val_loss: 0.6979 - val_accuracy: 0.6870 - lr: 0.0010 - 9s/epoch - 51ms/step
Epoch 63/100
176/176 - 9s - loss: 0.0413 - accuracy: 0.9610 - val_loss: 0.6682 - val_accuracy: 0.6990 - lr: 0.0010 - 9s/epoch - 51ms/step
Epoch 64/100
176/176 - 9s - loss: 0.0414 - accuracy: 0.9618 - val_loss: 0.6808 - val_accuracy: 0.6939 - lr: 0.0010 - 9s/epoch - 51ms/step
Epoch 65/100
176/176 - 9s - loss: 0.0413 - accuracy: 0.9617 - val_loss: 0.6569 - val_accuracy: 0.6996 - lr: 0.0010 - 9s/epoch - 51ms/step
Epoch 66/100
176/176 - 9s - loss: 0.0412 - accuracy: 0.9616 - val_loss: 0.6898 - val_accuracy: 0.6936 - lr: 0.0010 - 9s/epoch - 51ms/step
Epoch 67/100
176/176 - 9s - loss: 0.0391 - accuracy: 0.9634 - val_loss: 0.7467 - val_accuracy: 0.6709 - lr: 0.0010 - 9s/epoch - 51ms/step
Epoch 68/100
176/176 - 9s - loss: 0.0396 - accuracy: 0.9633 - val_loss: 0.7247 - val_accuracy: 0.6814 - lr: 0.0010 - 9s/epoch - 51ms/step
Epoch 69/100
176/176 - 9s - loss: 0.0402 - accuracy: 0.9621 - val_loss: 0.7332 - val_accuracy: 0.6798 - lr: 0.0010 - 9s/epoch - 51ms/step
Epoch 70/100
176/176 - 9s - loss: 0.0400 - accuracy: 0.9630 - val_loss: 0.6879 - val_accuracy: 0.6856 - lr: 0.0010 - 9s/epoch - 51ms/step
Epoch 71/100
176/176 - 9s - loss: 0.0399 - accuracy: 0.9625 - val_loss: 0.7183 - val_accuracy: 0.6788 - lr: 0.0010 - 9s/epoch - 51ms/step
Epoch 72/100
176/176 - 9s - loss: 0.0397 - accuracy: 0.9626 - val_loss: 0.7730 - val_accuracy: 0.6651 - lr: 0.0010 - 9s/epoch - 51ms/step
Epoch 73/100
176/176 - 9s - loss: 0.0396 - accuracy: 0.9635 - val_loss: 0.6989 - val_accuracy: 0.6887 - lr: 0.0010 - 9s/epoch - 51ms/step
Epoch 74/100
176/176 - 9s - loss: 0.0387 - accuracy: 0.9642 - val_loss: 0.7203 - val_accuracy: 0.6892 - lr: 0.0010 - 9s/epoch - 51ms/step
Epoch 75/100
176/176 - 9s - loss: 0.0390 - accuracy: 0.9633 - val_loss: 0.7257 - val_accuracy: 0.6798 - lr: 0.0010 - 9s/epoch - 51ms/step
Epoch 76/100
176/176 - 9s - loss: 0.0385 - accuracy: 0.9642 - val_loss: 0.7003 - val_accuracy: 0.6938 - lr: 0.0010 - 9s/epoch - 51ms/step
Epoch 77/100
176/176 - 9s - loss: 0.0387 - accuracy: 0.9641 - val_loss: 0.6995 - val_accuracy: 0.6895 - lr: 0.0010 - 9s/epoch - 51ms/step
Epoch 78/100
176/176 - 9s - loss: 0.0391 - accuracy: 0.9637 - val_loss: 0.7013 - val_accuracy: 0.6889 - lr: 0.0010 - 9s/epoch - 51ms/step
Epoch 79/100
176/176 - 9s - loss: 0.0396 - accuracy: 0.9636 - val_loss: 0.6861 - val_accuracy: 0.7013 - lr: 0.0010 - 9s/epoch - 51ms/step
Epoch 80/100
176/176 - 9s - loss: 0.0394 - accuracy: 0.9642 - val_loss: 0.6726 - val_accuracy: 0.6991 - lr: 0.0010 - 9s/epoch - 51ms/step
Epoch 81/100
176/176 - 9s - loss: 0.0401 - accuracy: 0.9629 - val_loss: 0.6882 - val_accuracy: 0.6994 - lr: 0.0010 - 9s/epoch - 51ms/step
Epoch 82/100
176/176 - 9s - loss: 0.0408 - accuracy: 0.9621 - val_loss: 0.7056 - val_accuracy: 0.6903 - lr: 0.0010 - 9s/epoch - 51ms/step
Epoch 83/100
176/176 - 9s - loss: 0.0400 - accuracy: 0.9623 - val_loss: 0.7423 - val_accuracy: 0.6801 - lr: 0.0010 - 9s/epoch - 51ms/step
Epoch 84/100
176/176 - 9s - loss: 0.0390 - accuracy: 0.9638 - val_loss: 0.6764 - val_accuracy: 0.7043 - lr: 0.0010 - 9s/epoch - 51ms/step
Epoch 85/100
176/176 - 9s - loss: 0.0393 - accuracy: 0.9634 - val_loss: 0.7657 - val_accuracy: 0.6697 - lr: 0.0010 - 9s/epoch - 51ms/step
Epoch 86/100
176/176 - 9s - loss: 0.0371 - accuracy: 0.9660 - val_loss: 0.6813 - val_accuracy: 0.7005 - lr: 0.0010 - 9s/epoch - 51ms/step
Epoch 87/100
176/176 - 9s - loss: 0.0366 - accuracy: 0.9664 - val_loss: 0.7552 - val_accuracy: 0.6779 - lr: 0.0010 - 9s/epoch - 51ms/step
Epoch 88/100
176/176 - 9s - loss: 0.0388 - accuracy: 0.9649 - val_loss: 0.7124 - val_accuracy: 0.6868 - lr: 0.0010 - 9s/epoch - 51ms/step
Epoch 89/100
176/176 - 9s - loss: 0.0379 - accuracy: 0.9649 - val_loss: 0.7648 - val_accuracy: 0.6677 - lr: 0.0010 - 9s/epoch - 51ms/step
Epoch 90/100
176/176 - 9s - loss: 0.0373 - accuracy: 0.9654 - val_loss: 0.7414 - val_accuracy: 0.6822 - lr: 0.0010 - 9s/epoch - 51ms/step
Epoch 91/100
176/176 - 9s - loss: 0.0366 - accuracy: 0.9660 - val_loss: 0.7308 - val_accuracy: 0.6876 - lr: 0.0010 - 9s/epoch - 51ms/step
Epoch 92/100
176/176 - 9s - loss: 0.0373 - accuracy: 0.9660 - val_loss: 0.7178 - val_accuracy: 0.6944 - lr: 0.0010 - 9s/epoch - 51ms/step
Epoch 93/100
176/176 - 9s - loss: 0.0381 - accuracy: 0.9649 - val_loss: 0.7335 - val_accuracy: 0.6860 - lr: 0.0010 - 9s/epoch - 51ms/step
Epoch 94/100
176/176 - 9s - loss: 0.0372 - accuracy: 0.9645 - val_loss: 0.7110 - val_accuracy: 0.6933 - lr: 0.0010 - 9s/epoch - 51ms/step
Epoch 95/100
176/176 - 9s - loss: 0.0402 - accuracy: 0.9630 - val_loss: 0.7335 - val_accuracy: 0.6853 - lr: 0.0010 - 9s/epoch - 51ms/step
Epoch 96/100
176/176 - 9s - loss: 0.0407 - accuracy: 0.9628 - val_loss: 0.6823 - val_accuracy: 0.6995 - lr: 0.0010 - 9s/epoch - 51ms/step
Epoch 97/100
176/176 - 9s - loss: 0.0396 - accuracy: 0.9633 - val_loss: 0.7230 - val_accuracy: 0.6837 - lr: 0.0010 - 9s/epoch - 51ms/step
Epoch 98/100
176/176 - 9s - loss: 0.0402 - accuracy: 0.9628 - val_loss: 0.6930 - val_accuracy: 0.7006 - lr: 0.0010 - 9s/epoch - 51ms/step
Epoch 99/100
176/176 - 9s - loss: 0.0391 - accuracy: 0.9639 - val_loss: 0.6733 - val_accuracy: 0.7024 - lr: 0.0010 - 9s/epoch - 51ms/step
Epoch 100/100
176/176 - 9s - loss: 0.0400 - accuracy: 0.9631 - val_loss: 0.7395 - val_accuracy: 0.6775 - lr: 0.0010 - 9s/epoch - 51ms/step
Epoch 1/100
36/36 - 10s - loss: 0.0363 - accuracy: 0.9661 - val_loss: 0.7322 - val_accuracy: 0.6867 - lr: 0.0010 - 10s/epoch - 283ms/step
Epoch 2/100
36/36 - 8s - loss: 0.0347 - accuracy: 0.9680 - val_loss: 0.7367 - val_accuracy: 0.6848 - lr: 0.0010 - 8s/epoch - 215ms/step
Epoch 3/100
36/36 - 8s - loss: 0.0331 - accuracy: 0.9698 - val_loss: 0.7357 - val_accuracy: 0.6860 - lr: 0.0010 - 8s/epoch - 216ms/step
Epoch 4/100
36/36 - 8s - loss: 0.0316 - accuracy: 0.9713 - val_loss: 0.7449 - val_accuracy: 0.6833 - lr: 0.0010 - 8s/epoch - 215ms/step
Epoch 5/100
36/36 - 8s - loss: 0.0332 - accuracy: 0.9691 - val_loss: 0.7280 - val_accuracy: 0.6897 - lr: 0.0010 - 8s/epoch - 215ms/step
Epoch 6/100
36/36 - 8s - loss: 0.0310 - accuracy: 0.9716 - val_loss: 0.7559 - val_accuracy: 0.6802 - lr: 0.0010 - 8s/epoch - 215ms/step
Epoch 7/100
36/36 - 8s - loss: 0.0303 - accuracy: 0.9725 - val_loss: 0.7643 - val_accuracy: 0.6817 - lr: 0.0010 - 8s/epoch - 216ms/step
Epoch 8/100
36/36 - 8s - loss: 0.0304 - accuracy: 0.9725 - val_loss: 0.7750 - val_accuracy: 0.6790 - lr: 0.0010 - 8s/epoch - 215ms/step
Epoch 9/100
36/36 - 8s - loss: 0.0304 - accuracy: 0.9723 - val_loss: 0.7849 - val_accuracy: 0.6763 - lr: 0.0010 - 8s/epoch - 215ms/step
Epoch 10/100
36/36 - 8s - loss: 0.0296 - accuracy: 0.9729 - val_loss: 0.7870 - val_accuracy: 0.6770 - lr: 0.0010 - 8s/epoch - 215ms/step
Epoch 11/100
36/36 - 8s - loss: 0.0300 - accuracy: 0.9725 - val_loss: 0.7867 - val_accuracy: 0.6769 - lr: 0.0010 - 8s/epoch - 215ms/step
Epoch 12/100
36/36 - 8s - loss: 0.0293 - accuracy: 0.9731 - val_loss: 0.7798 - val_accuracy: 0.6804 - lr: 0.0010 - 8s/epoch - 215ms/step
Epoch 13/100
36/36 - 8s - loss: 0.0300 - accuracy: 0.9726 - val_loss: 0.7815 - val_accuracy: 0.6834 - lr: 0.0010 - 8s/epoch - 215ms/step
Epoch 14/100
36/36 - 8s - loss: 0.0297 - accuracy: 0.9730 - val_loss: 0.7829 - val_accuracy: 0.6807 - lr: 0.0010 - 8s/epoch - 215ms/step
Epoch 15/100
36/36 - 8s - loss: 0.0301 - accuracy: 0.9732 - val_loss: 0.7931 - val_accuracy: 0.6789 - lr: 0.0010 - 8s/epoch - 215ms/step
Epoch 16/100
36/36 - 8s - loss: 0.0305 - accuracy: 0.9721 - val_loss: 0.8103 - val_accuracy: 0.6735 - lr: 0.0010 - 8s/epoch - 215ms/step
Epoch 17/100
36/36 - 8s - loss: 0.0298 - accuracy: 0.9731 - val_loss: 0.7915 - val_accuracy: 0.6781 - lr: 0.0010 - 8s/epoch - 215ms/step
Epoch 18/100
36/36 - 8s - loss: 0.0304 - accuracy: 0.9730 - val_loss: 0.8052 - val_accuracy: 0.6759 - lr: 0.0010 - 8s/epoch - 215ms/step
Epoch 19/100
36/36 - 8s - loss: 0.0293 - accuracy: 0.9733 - val_loss: 0.7974 - val_accuracy: 0.6770 - lr: 0.0010 - 8s/epoch - 216ms/step
Epoch 20/100
36/36 - 8s - loss: 0.0306 - accuracy: 0.9730 - val_loss: 0.8084 - val_accuracy: 0.6780 - lr: 0.0010 - 8s/epoch - 215ms/step
Epoch 21/100
36/36 - 8s - loss: 0.0309 - accuracy: 0.9713 - val_loss: 0.8112 - val_accuracy: 0.6741 - lr: 0.0010 - 8s/epoch - 215ms/step
Epoch 22/100
36/36 - 8s - loss: 0.0309 - accuracy: 0.9717 - val_loss: 0.7964 - val_accuracy: 0.6794 - lr: 0.0010 - 8s/epoch - 216ms/step
Epoch 23/100
36/36 - 8s - loss: 0.0318 - accuracy: 0.9708 - val_loss: 0.8187 - val_accuracy: 0.6727 - lr: 0.0010 - 8s/epoch - 215ms/step
Epoch 24/100
36/36 - 8s - loss: 0.0315 - accuracy: 0.9717 - val_loss: 0.8111 - val_accuracy: 0.6753 - lr: 0.0010 - 8s/epoch - 215ms/step
Epoch 25/100
36/36 - 8s - loss: 0.0307 - accuracy: 0.9723 - val_loss: 0.7954 - val_accuracy: 0.6770 - lr: 0.0010 - 8s/epoch - 215ms/step
Epoch 26/100
36/36 - 8s - loss: 0.0293 - accuracy: 0.9734 - val_loss: 0.8247 - val_accuracy: 0.6721 - lr: 0.0010 - 8s/epoch - 215ms/step
Epoch 27/100
36/36 - 8s - loss: 0.0298 - accuracy: 0.9726 - val_loss: 0.8234 - val_accuracy: 0.6728 - lr: 0.0010 - 8s/epoch - 216ms/step
Epoch 28/100
36/36 - 8s - loss: 0.0288 - accuracy: 0.9737 - val_loss: 0.8114 - val_accuracy: 0.6755 - lr: 0.0010 - 8s/epoch - 215ms/step
Epoch 29/100
36/36 - 8s - loss: 0.0291 - accuracy: 0.9736 - val_loss: 0.8211 - val_accuracy: 0.6738 - lr: 0.0010 - 8s/epoch - 215ms/step
Epoch 30/100
36/36 - 8s - loss: 0.0295 - accuracy: 0.9734 - val_loss: 0.8120 - val_accuracy: 0.6750 - lr: 0.0010 - 8s/epoch - 215ms/step
Epoch 31/100
36/36 - 8s - loss: 0.0300 - accuracy: 0.9724 - val_loss: 0.8401 - val_accuracy: 0.6701 - lr: 0.0010 - 8s/epoch - 215ms/step
Epoch 32/100
36/36 - 8s - loss: 0.0282 - accuracy: 0.9741 - val_loss: 0.8230 - val_accuracy: 0.6773 - lr: 0.0010 - 8s/epoch - 216ms/step
Epoch 33/100
36/36 - 8s - loss: 0.0303 - accuracy: 0.9727 - val_loss: 0.8300 - val_accuracy: 0.6760 - lr: 0.0010 - 8s/epoch - 216ms/step
Epoch 34/100
36/36 - 8s - loss: 0.0306 - accuracy: 0.9720 - val_loss: 0.8138 - val_accuracy: 0.6782 - lr: 0.0010 - 8s/epoch - 215ms/step
Epoch 35/100
36/36 - 8s - loss: 0.0287 - accuracy: 0.9736 - val_loss: 0.8303 - val_accuracy: 0.6743 - lr: 0.0010 - 8s/epoch - 215ms/step
Epoch 36/100
36/36 - 8s - loss: 0.0287 - accuracy: 0.9739 - val_loss: 0.8235 - val_accuracy: 0.6765 - lr: 0.0010 - 8s/epoch - 215ms/step
Epoch 37/100
36/36 - 8s - loss: 0.0295 - accuracy: 0.9734 - val_loss: 0.8135 - val_accuracy: 0.6801 - lr: 0.0010 - 8s/epoch - 215ms/step
Epoch 38/100
36/36 - 8s - loss: 0.0293 - accuracy: 0.9731 - val_loss: 0.8265 - val_accuracy: 0.6755 - lr: 0.0010 - 8s/epoch - 215ms/step
Epoch 39/100
36/36 - 8s - loss: 0.0299 - accuracy: 0.9729 - val_loss: 0.8259 - val_accuracy: 0.6736 - lr: 0.0010 - 8s/epoch - 215ms/step
Epoch 40/100
36/36 - 8s - loss: 0.0307 - accuracy: 0.9722 - val_loss: 0.8396 - val_accuracy: 0.6712 - lr: 0.0010 - 8s/epoch - 216ms/step
Epoch 41/100
36/36 - 8s - loss: 0.0290 - accuracy: 0.9737 - val_loss: 0.8194 - val_accuracy: 0.6756 - lr: 0.0010 - 8s/epoch - 215ms/step
Epoch 42/100
36/36 - 8s - loss: 0.0298 - accuracy: 0.9729 - val_loss: 0.8318 - val_accuracy: 0.6726 - lr: 0.0010 - 8s/epoch - 215ms/step
Epoch 43/100
36/36 - 8s - loss: 0.0293 - accuracy: 0.9730 - val_loss: 0.8336 - val_accuracy: 0.6763 - lr: 0.0010 - 8s/epoch - 215ms/step
Epoch 44/100
36/36 - 8s - loss: 0.0294 - accuracy: 0.9735 - val_loss: 0.8478 - val_accuracy: 0.6707 - lr: 0.0010 - 8s/epoch - 216ms/step
Epoch 45/100
36/36 - 8s - loss: 0.0298 - accuracy: 0.9727 - val_loss: 0.8607 - val_accuracy: 0.6685 - lr: 0.0010 - 8s/epoch - 215ms/step
Epoch 46/100
36/36 - 8s - loss: 0.0295 - accuracy: 0.9729 - val_loss: 0.8572 - val_accuracy: 0.6669 - lr: 0.0010 - 8s/epoch - 215ms/step
Epoch 47/100
36/36 - 8s - loss: 0.0290 - accuracy: 0.9740 - val_loss: 0.8477 - val_accuracy: 0.6716 - lr: 0.0010 - 8s/epoch - 215ms/step
Epoch 48/100
36/36 - 8s - loss: 0.0285 - accuracy: 0.9739 - val_loss: 0.8487 - val_accuracy: 0.6697 - lr: 0.0010 - 8s/epoch - 216ms/step
Epoch 49/100
36/36 - 8s - loss: 0.0284 - accuracy: 0.9741 - val_loss: 0.8487 - val_accuracy: 0.6706 - lr: 0.0010 - 8s/epoch - 215ms/step
Epoch 50/100
36/36 - 8s - loss: 0.0294 - accuracy: 0.9733 - val_loss: 0.8631 - val_accuracy: 0.6660 - lr: 0.0010 - 8s/epoch - 215ms/step
Epoch 51/100
36/36 - 8s - loss: 0.0283 - accuracy: 0.9743 - val_loss: 0.8669 - val_accuracy: 0.6670 - lr: 0.0010 - 8s/epoch - 215ms/step
Epoch 52/100
36/36 - 8s - loss: 0.0306 - accuracy: 0.9724 - val_loss: 0.8390 - val_accuracy: 0.6747 - lr: 0.0010 - 8s/epoch - 216ms/step
Epoch 53/100
36/36 - 8s - loss: 0.0289 - accuracy: 0.9740 - val_loss: 0.8407 - val_accuracy: 0.6762 - lr: 0.0010 - 8s/epoch - 216ms/step
Epoch 54/100
36/36 - 8s - loss: 0.0288 - accuracy: 0.9737 - val_loss: 0.8289 - val_accuracy: 0.6776 - lr: 0.0010 - 8s/epoch - 215ms/step
Epoch 55/100
36/36 - 8s - loss: 0.0301 - accuracy: 0.9725 - val_loss: 0.8524 - val_accuracy: 0.6752 - lr: 0.0010 - 8s/epoch - 215ms/step
Epoch 56/100
36/36 - 8s - loss: 0.0293 - accuracy: 0.9739 - val_loss: 0.8236 - val_accuracy: 0.6827 - lr: 0.0010 - 8s/epoch - 215ms/step
Epoch 57/100
36/36 - 8s - loss: 0.0288 - accuracy: 0.9735 - val_loss: 0.8437 - val_accuracy: 0.6740 - lr: 0.0010 - 8s/epoch - 215ms/step
Epoch 58/100
36/36 - 8s - loss: 0.0285 - accuracy: 0.9746 - val_loss: 0.8606 - val_accuracy: 0.6702 - lr: 0.0010 - 8s/epoch - 215ms/step
Epoch 59/100
36/36 - 8s - loss: 0.0294 - accuracy: 0.9734 - val_loss: 0.8531 - val_accuracy: 0.6705 - lr: 0.0010 - 8s/epoch - 215ms/step
Epoch 60/100
36/36 - 8s - loss: 0.0291 - accuracy: 0.9735 - val_loss: 0.8396 - val_accuracy: 0.6795 - lr: 0.0010 - 8s/epoch - 215ms/step
Epoch 61/100
36/36 - 8s - loss: 0.0307 - accuracy: 0.9723 - val_loss: 0.8555 - val_accuracy: 0.6714 - lr: 0.0010 - 8s/epoch - 215ms/step
Epoch 62/100
36/36 - 8s - loss: 0.0280 - accuracy: 0.9748 - val_loss: 0.8659 - val_accuracy: 0.6696 - lr: 0.0010 - 8s/epoch - 216ms/step
Epoch 63/100
36/36 - 8s - loss: 0.0269 - accuracy: 0.9758 - val_loss: 0.8701 - val_accuracy: 0.6697 - lr: 0.0010 - 8s/epoch - 215ms/step
Epoch 64/100
36/36 - 8s - loss: 0.0285 - accuracy: 0.9741 - val_loss: 0.8477 - val_accuracy: 0.6753 - lr: 0.0010 - 8s/epoch - 215ms/step
Epoch 65/100
36/36 - 8s - loss: 0.0281 - accuracy: 0.9749 - val_loss: 0.8886 - val_accuracy: 0.6628 - lr: 0.0010 - 8s/epoch - 216ms/step
Epoch 66/100
36/36 - 8s - loss: 0.0290 - accuracy: 0.9740 - val_loss: 0.8403 - val_accuracy: 0.6761 - lr: 0.0010 - 8s/epoch - 215ms/step
Epoch 67/100
36/36 - 8s - loss: 0.0297 - accuracy: 0.9738 - val_loss: 0.8624 - val_accuracy: 0.6723 - lr: 0.0010 - 8s/epoch - 215ms/step
Epoch 68/100
36/36 - 8s - loss: 0.0294 - accuracy: 0.9740 - val_loss: 0.8494 - val_accuracy: 0.6737 - lr: 0.0010 - 8s/epoch - 215ms/step
Epoch 69/100
36/36 - 8s - loss: 0.0280 - accuracy: 0.9740 - val_loss: 0.8692 - val_accuracy: 0.6690 - lr: 0.0010 - 8s/epoch - 215ms/step
Epoch 70/100
36/36 - 8s - loss: 0.0297 - accuracy: 0.9731 - val_loss: 0.8646 - val_accuracy: 0.6724 - lr: 0.0010 - 8s/epoch - 215ms/step
Epoch 71/100
36/36 - 8s - loss: 0.0289 - accuracy: 0.9737 - val_loss: 0.8428 - val_accuracy: 0.6772 - lr: 0.0010 - 8s/epoch - 216ms/step
Epoch 72/100
36/36 - 8s - loss: 0.0288 - accuracy: 0.9744 - val_loss: 0.8705 - val_accuracy: 0.6696 - lr: 0.0010 - 8s/epoch - 215ms/step
Epoch 73/100
36/36 - 8s - loss: 0.0291 - accuracy: 0.9738 - val_loss: 0.8368 - val_accuracy: 0.6777 - lr: 0.0010 - 8s/epoch - 215ms/step
Epoch 74/100
36/36 - 8s - loss: 0.0293 - accuracy: 0.9736 - val_loss: 0.8457 - val_accuracy: 0.6768 - lr: 0.0010 - 8s/epoch - 215ms/step
Epoch 75/100
36/36 - 8s - loss: 0.0288 - accuracy: 0.9739 - val_loss: 0.8482 - val_accuracy: 0.6738 - lr: 0.0010 - 8s/epoch - 215ms/step
Epoch 76/100
36/36 - 8s - loss: 0.0283 - accuracy: 0.9739 - val_loss: 0.8704 - val_accuracy: 0.6650 - lr: 0.0010 - 8s/epoch - 215ms/step
Epoch 77/100
36/36 - 8s - loss: 0.0285 - accuracy: 0.9744 - val_loss: 0.8731 - val_accuracy: 0.6677 - lr: 0.0010 - 8s/epoch - 215ms/step
Epoch 78/100
36/36 - 8s - loss: 0.0280 - accuracy: 0.9748 - val_loss: 0.8817 - val_accuracy: 0.6683 - lr: 0.0010 - 8s/epoch - 215ms/step
Epoch 79/100
36/36 - 8s - loss: 0.0277 - accuracy: 0.9749 - val_loss: 0.8684 - val_accuracy: 0.6696 - lr: 0.0010 - 8s/epoch - 215ms/step
Epoch 80/100
36/36 - 8s - loss: 0.0271 - accuracy: 0.9756 - val_loss: 0.8524 - val_accuracy: 0.6745 - lr: 0.0010 - 8s/epoch - 215ms/step
Epoch 81/100
36/36 - 8s - loss: 0.0282 - accuracy: 0.9744 - val_loss: 0.8416 - val_accuracy: 0.6777 - lr: 0.0010 - 8s/epoch - 215ms/step
Epoch 82/100
36/36 - 8s - loss: 0.0290 - accuracy: 0.9735 - val_loss: 0.8608 - val_accuracy: 0.6738 - lr: 0.0010 - 8s/epoch - 215ms/step
Epoch 83/100
36/36 - 8s - loss: 0.0281 - accuracy: 0.9748 - val_loss: 0.8683 - val_accuracy: 0.6709 - lr: 0.0010 - 8s/epoch - 215ms/step
Epoch 84/100
36/36 - 8s - loss: 0.0290 - accuracy: 0.9734 - val_loss: 0.8658 - val_accuracy: 0.6708 - lr: 0.0010 - 8s/epoch - 216ms/step
Epoch 85/100
36/36 - 8s - loss: 0.0283 - accuracy: 0.9747 - val_loss: 0.8913 - val_accuracy: 0.6631 - lr: 0.0010 - 8s/epoch - 215ms/step
Epoch 86/100
36/36 - 8s - loss: 0.0275 - accuracy: 0.9748 - val_loss: 0.8746 - val_accuracy: 0.6733 - lr: 0.0010 - 8s/epoch - 216ms/step
Epoch 87/100
36/36 - 8s - loss: 0.0291 - accuracy: 0.9734 - val_loss: 0.8852 - val_accuracy: 0.6673 - lr: 0.0010 - 8s/epoch - 215ms/step
Epoch 88/100
36/36 - 8s - loss: 0.0311 - accuracy: 0.9717 - val_loss: 0.8787 - val_accuracy: 0.6682 - lr: 0.0010 - 8s/epoch - 215ms/step
Epoch 89/100
36/36 - 8s - loss: 0.0298 - accuracy: 0.9734 - val_loss: 0.8943 - val_accuracy: 0.6614 - lr: 0.0010 - 8s/epoch - 215ms/step
Epoch 90/100
36/36 - 8s - loss: 0.0282 - accuracy: 0.9750 - val_loss: 0.8886 - val_accuracy: 0.6639 - lr: 0.0010 - 8s/epoch - 217ms/step
Epoch 91/100
36/36 - 8s - loss: 0.0275 - accuracy: 0.9752 - val_loss: 0.8838 - val_accuracy: 0.6685 - lr: 0.0010 - 8s/epoch - 216ms/step
Epoch 92/100
36/36 - 8s - loss: 0.0291 - accuracy: 0.9734 - val_loss: 0.8704 - val_accuracy: 0.6728 - lr: 0.0010 - 8s/epoch - 216ms/step
Epoch 93/100
36/36 - 8s - loss: 0.0277 - accuracy: 0.9754 - val_loss: 0.8975 - val_accuracy: 0.6633 - lr: 0.0010 - 8s/epoch - 216ms/step
Epoch 94/100
36/36 - 8s - loss: 0.0278 - accuracy: 0.9751 - val_loss: 0.9022 - val_accuracy: 0.6628 - lr: 0.0010 - 8s/epoch - 216ms/step
Epoch 95/100
36/36 - 8s - loss: 0.0276 - accuracy: 0.9753 - val_loss: 0.8883 - val_accuracy: 0.6672 - lr: 0.0010 - 8s/epoch - 215ms/step
Epoch 96/100
36/36 - 8s - loss: 0.0273 - accuracy: 0.9754 - val_loss: 0.8863 - val_accuracy: 0.6708 - lr: 0.0010 - 8s/epoch - 215ms/step
Epoch 97/100
36/36 - 8s - loss: 0.0284 - accuracy: 0.9746 - val_loss: 0.8934 - val_accuracy: 0.6662 - lr: 0.0010 - 8s/epoch - 215ms/step
Epoch 98/100
36/36 - 8s - loss: 0.0282 - accuracy: 0.9749 - val_loss: 0.8992 - val_accuracy: 0.6659 - lr: 0.0010 - 8s/epoch - 215ms/step
Epoch 99/100
36/36 - 8s - loss: 0.0286 - accuracy: 0.9745 - val_loss: 0.8912 - val_accuracy: 0.6715 - lr: 0.0010 - 8s/epoch - 215ms/step
Epoch 100/100
36/36 - 8s - loss: 0.0302 - accuracy: 0.9726 - val_loss: 0.8559 - val_accuracy: 0.6797 - lr: 0.0010 - 8s/epoch - 215ms/step
Epoch 1/25
4378/4378 - 77s - loss: 0.0151 - accuracy: 0.9012 - val_loss: 0.0561 - val_accuracy: 0.6870 - lr: 0.0010 - 77s/epoch - 18ms/step
Epoch 2/25
4378/4378 - 75s - loss: 0.0162 - accuracy: 0.8914 - val_loss: 0.0495 - val_accuracy: 0.7121 - lr: 0.0010 - 75s/epoch - 17ms/step
Epoch 3/25
4378/4378 - 75s - loss: 0.0158 - accuracy: 0.8919 - val_loss: 0.0422 - val_accuracy: 0.7500 - lr: 0.0010 - 75s/epoch - 17ms/step
Epoch 4/25
4378/4378 - 74s - loss: 0.0157 - accuracy: 0.8914 - val_loss: 0.0475 - val_accuracy: 0.7138 - lr: 0.0010 - 74s/epoch - 17ms/step
Epoch 5/25
4378/4378 - 74s - loss: 0.0155 - accuracy: 0.8936 - val_loss: 0.0408 - val_accuracy: 0.7532 - lr: 0.0010 - 74s/epoch - 17ms/step
Epoch 6/25
4378/4378 - 74s - loss: 0.0154 - accuracy: 0.8941 - val_loss: 0.0493 - val_accuracy: 0.6954 - lr: 0.0010 - 74s/epoch - 17ms/step
Epoch 7/25
4378/4378 - 75s - loss: 0.0156 - accuracy: 0.8936 - val_loss: 0.0429 - val_accuracy: 0.7374 - lr: 0.0010 - 75s/epoch - 17ms/step
Epoch 8/25
4378/4378 - 74s - loss: 0.0153 - accuracy: 0.8948 - val_loss: 0.0444 - val_accuracy: 0.7267 - lr: 0.0010 - 74s/epoch - 17ms/step
Epoch 9/25
4378/4378 - 74s - loss: 0.0154 - accuracy: 0.8940 - val_loss: 0.0465 - val_accuracy: 0.7100 - lr: 0.0010 - 74s/epoch - 17ms/step
Epoch 10/25
4378/4378 - 75s - loss: 0.0152 - accuracy: 0.8957 - val_loss: 0.0450 - val_accuracy: 0.7213 - lr: 0.0010 - 75s/epoch - 17ms/step
Epoch 11/25
4378/4378 - 74s - loss: 0.0155 - accuracy: 0.8933 - val_loss: 0.0451 - val_accuracy: 0.7203 - lr: 0.0010 - 74s/epoch - 17ms/step
Epoch 12/25
4378/4378 - 74s - loss: 0.0155 - accuracy: 0.8932 - val_loss: 0.0432 - val_accuracy: 0.7341 - lr: 0.0010 - 74s/epoch - 17ms/step
Epoch 13/25
4378/4378 - 75s - loss: 0.0153 - accuracy: 0.8941 - val_loss: 0.0451 - val_accuracy: 0.7188 - lr: 0.0010 - 75s/epoch - 17ms/step
Epoch 14/25
4378/4378 - 74s - loss: 0.0152 - accuracy: 0.8955 - val_loss: 0.0400 - val_accuracy: 0.7547 - lr: 0.0010 - 74s/epoch - 17ms/step
Epoch 15/25
4378/4378 - 74s - loss: 0.0151 - accuracy: 0.8962 - val_loss: 0.0467 - val_accuracy: 0.7107 - lr: 0.0010 - 74s/epoch - 17ms/step
Epoch 16/25
4378/4378 - 75s - loss: 0.0150 - accuracy: 0.8968 - val_loss: 0.0448 - val_accuracy: 0.7258 - lr: 0.0010 - 75s/epoch - 17ms/step
Epoch 17/25
4378/4378 - 74s - loss: 0.0151 - accuracy: 0.8957 - val_loss: 0.0458 - val_accuracy: 0.7106 - lr: 0.0010 - 74s/epoch - 17ms/step
Epoch 18/25
4378/4378 - 74s - loss: 0.0154 - accuracy: 0.8935 - val_loss: 0.0413 - val_accuracy: 0.7371 - lr: 0.0010 - 74s/epoch - 17ms/step
Epoch 19/25
4378/4378 - 74s - loss: 0.0152 - accuracy: 0.8955 - val_loss: 0.0392 - val_accuracy: 0.7570 - lr: 0.0010 - 74s/epoch - 17ms/step
Epoch 20/25
4378/4378 - 74s - loss: 0.0152 - accuracy: 0.8958 - val_loss: 0.0418 - val_accuracy: 0.7371 - lr: 0.0010 - 74s/epoch - 17ms/step
Epoch 21/25
4378/4378 - 74s - loss: 0.0151 - accuracy: 0.8961 - val_loss: 0.0420 - val_accuracy: 0.7437 - lr: 0.0010 - 74s/epoch - 17ms/step
Epoch 22/25
4378/4378 - 74s - loss: 0.0148 - accuracy: 0.8980 - val_loss: 0.0440 - val_accuracy: 0.7245 - lr: 0.0010 - 74s/epoch - 17ms/step
Epoch 23/25
4378/4378 - 74s - loss: 0.0151 - accuracy: 0.8959 - val_loss: 0.0402 - val_accuracy: 0.7529 - lr: 0.0010 - 74s/epoch - 17ms/step
Epoch 24/25
4378/4378 - 75s - loss: 0.0148 - accuracy: 0.8980 - val_loss: 0.0407 - val_accuracy: 0.7498 - lr: 0.0010 - 75s/epoch - 17ms/step
Epoch 25/25
4378/4378 - 74s - loss: 0.0152 - accuracy: 0.8957 - val_loss: 0.0461 - val_accuracy: 0.7120 - lr: 0.0010 - 74s/epoch - 17ms/step
Epoch 1/25
876/876 - 20s - loss: 0.0104 - accuracy: 0.9301 - val_loss: 0.0450 - val_accuracy: 0.7257 - lr: 0.0010 - 20s/epoch - 23ms/step
Epoch 2/25
876/876 - 18s - loss: 0.0105 - accuracy: 0.9285 - val_loss: 0.0461 - val_accuracy: 0.7227 - lr: 0.0010 - 18s/epoch - 20ms/step
Epoch 3/25
876/876 - 18s - loss: 0.0105 - accuracy: 0.9285 - val_loss: 0.0430 - val_accuracy: 0.7392 - lr: 0.0010 - 18s/epoch - 20ms/step
Epoch 4/25
876/876 - 18s - loss: 0.0104 - accuracy: 0.9298 - val_loss: 0.0454 - val_accuracy: 0.7229 - lr: 0.0010 - 18s/epoch - 21ms/step
Epoch 5/25
876/876 - 18s - loss: 0.0102 - accuracy: 0.9314 - val_loss: 0.0495 - val_accuracy: 0.7049 - lr: 0.0010 - 18s/epoch - 20ms/step
Epoch 6/25
876/876 - 18s - loss: 0.0103 - accuracy: 0.9302 - val_loss: 0.0520 - val_accuracy: 0.6892 - lr: 0.0010 - 18s/epoch - 20ms/step
Epoch 7/25
876/876 - 18s - loss: 0.0100 - accuracy: 0.9324 - val_loss: 0.0448 - val_accuracy: 0.7327 - lr: 0.0010 - 18s/epoch - 20ms/step
Epoch 8/25
876/876 - 18s - loss: 0.0099 - accuracy: 0.9332 - val_loss: 0.0479 - val_accuracy: 0.7100 - lr: 0.0010 - 18s/epoch - 20ms/step
Epoch 9/25
876/876 - 18s - loss: 0.0098 - accuracy: 0.9333 - val_loss: 0.0496 - val_accuracy: 0.7072 - lr: 0.0010 - 18s/epoch - 20ms/step
Epoch 10/25
876/876 - 18s - loss: 0.0099 - accuracy: 0.9336 - val_loss: 0.0490 - val_accuracy: 0.7071 - lr: 0.0010 - 18s/epoch - 20ms/step
Epoch 11/25
876/876 - 18s - loss: 0.0096 - accuracy: 0.9353 - val_loss: 0.0489 - val_accuracy: 0.7075 - lr: 0.0010 - 18s/epoch - 20ms/step
Epoch 12/25
876/876 - 18s - loss: 0.0096 - accuracy: 0.9355 - val_loss: 0.0448 - val_accuracy: 0.7353 - lr: 0.0010 - 18s/epoch - 20ms/step
Epoch 13/25
876/876 - 18s - loss: 0.0097 - accuracy: 0.9347 - val_loss: 0.0493 - val_accuracy: 0.7047 - lr: 0.0010 - 18s/epoch - 20ms/step
Epoch 14/25
876/876 - 18s - loss: 0.0095 - accuracy: 0.9362 - val_loss: 0.0524 - val_accuracy: 0.6913 - lr: 0.0010 - 18s/epoch - 21ms/step
Epoch 15/25
876/876 - 18s - loss: 0.0095 - accuracy: 0.9359 - val_loss: 0.0512 - val_accuracy: 0.6981 - lr: 0.0010 - 18s/epoch - 20ms/step
Epoch 16/25
876/876 - 18s - loss: 0.0096 - accuracy: 0.9354 - val_loss: 0.0475 - val_accuracy: 0.7189 - lr: 0.0010 - 18s/epoch - 20ms/step
Epoch 17/25
876/876 - 18s - loss: 0.0094 - accuracy: 0.9374 - val_loss: 0.0469 - val_accuracy: 0.7279 - lr: 0.0010 - 18s/epoch - 20ms/step
Epoch 18/25
876/876 - 18s - loss: 0.0097 - accuracy: 0.9354 - val_loss: 0.0473 - val_accuracy: 0.7206 - lr: 0.0010 - 18s/epoch - 20ms/step
Epoch 19/25
876/876 - 18s - loss: 0.0094 - accuracy: 0.9369 - val_loss: 0.0494 - val_accuracy: 0.7047 - lr: 0.0010 - 18s/epoch - 20ms/step
Epoch 20/25
876/876 - 18s - loss: 0.0094 - accuracy: 0.9373 - val_loss: 0.0486 - val_accuracy: 0.7113 - lr: 0.0010 - 18s/epoch - 20ms/step
Epoch 21/25
876/876 - 18s - loss: 0.0093 - accuracy: 0.9378 - val_loss: 0.0538 - val_accuracy: 0.6841 - lr: 0.0010 - 18s/epoch - 21ms/step
Epoch 22/25
876/876 - 18s - loss: 0.0095 - accuracy: 0.9368 - val_loss: 0.0508 - val_accuracy: 0.7003 - lr: 0.0010 - 18s/epoch - 21ms/step
Epoch 23/25
876/876 - 18s - loss: 0.0093 - accuracy: 0.9376 - val_loss: 0.0475 - val_accuracy: 0.7252 - lr: 0.0010 - 18s/epoch - 20ms/step
Epoch 24/25
876/876 - 18s - loss: 0.0092 - accuracy: 0.9377 - val_loss: 0.0452 - val_accuracy: 0.7343 - lr: 0.0010 - 18s/epoch - 20ms/step
Epoch 25/25
876/876 - 18s - loss: 0.0092 - accuracy: 0.9381 - val_loss: 0.0526 - val_accuracy: 0.6932 - lr: 0.0010 - 18s/epoch - 21ms/step
Epoch 1/25
176/176 - 11s - loss: 0.0069 - accuracy: 0.9541 - val_loss: 0.0508 - val_accuracy: 0.7045 - lr: 0.0010 - 11s/epoch - 65ms/step
Epoch 2/25
176/176 - 9s - loss: 0.0062 - accuracy: 0.9597 - val_loss: 0.0497 - val_accuracy: 0.7114 - lr: 0.0010 - 9s/epoch - 50ms/step
Epoch 3/25
176/176 - 9s - loss: 0.0063 - accuracy: 0.9589 - val_loss: 0.0507 - val_accuracy: 0.7072 - lr: 0.0010 - 9s/epoch - 51ms/step
Epoch 4/25
176/176 - 9s - loss: 0.0061 - accuracy: 0.9610 - val_loss: 0.0484 - val_accuracy: 0.7193 - lr: 0.0010 - 9s/epoch - 51ms/step
Epoch 5/25
176/176 - 9s - loss: 0.0061 - accuracy: 0.9600 - val_loss: 0.0528 - val_accuracy: 0.6947 - lr: 0.0010 - 9s/epoch - 51ms/step
Epoch 6/25
176/176 - 9s - loss: 0.0061 - accuracy: 0.9602 - val_loss: 0.0526 - val_accuracy: 0.7003 - lr: 0.0010 - 9s/epoch - 51ms/step
Epoch 7/25
176/176 - 9s - loss: 0.0062 - accuracy: 0.9595 - val_loss: 0.0515 - val_accuracy: 0.7019 - lr: 0.0010 - 9s/epoch - 51ms/step
Epoch 8/25
176/176 - 9s - loss: 0.0065 - accuracy: 0.9579 - val_loss: 0.0519 - val_accuracy: 0.7005 - lr: 0.0010 - 9s/epoch - 51ms/step
Epoch 9/25
176/176 - 9s - loss: 0.0064 - accuracy: 0.9580 - val_loss: 0.0492 - val_accuracy: 0.7183 - lr: 0.0010 - 9s/epoch - 51ms/step
Epoch 10/25
176/176 - 9s - loss: 0.0066 - accuracy: 0.9566 - val_loss: 0.0510 - val_accuracy: 0.7099 - lr: 0.0010 - 9s/epoch - 51ms/step
Epoch 11/25
176/176 - 9s - loss: 0.0064 - accuracy: 0.9582 - val_loss: 0.0518 - val_accuracy: 0.7030 - lr: 0.0010 - 9s/epoch - 51ms/step
Epoch 12/25
176/176 - 9s - loss: 0.0064 - accuracy: 0.9588 - val_loss: 0.0507 - val_accuracy: 0.7076 - lr: 0.0010 - 9s/epoch - 51ms/step
Epoch 13/25
176/176 - 9s - loss: 0.0064 - accuracy: 0.9582 - val_loss: 0.0502 - val_accuracy: 0.7105 - lr: 0.0010 - 9s/epoch - 51ms/step
Epoch 14/25
176/176 - 9s - loss: 0.0065 - accuracy: 0.9576 - val_loss: 0.0523 - val_accuracy: 0.7024 - lr: 0.0010 - 9s/epoch - 51ms/step
Epoch 15/25
176/176 - 9s - loss: 0.0064 - accuracy: 0.9582 - val_loss: 0.0570 - val_accuracy: 0.6768 - lr: 0.0010 - 9s/epoch - 51ms/step
Epoch 16/25
176/176 - 9s - loss: 0.0063 - accuracy: 0.9587 - val_loss: 0.0542 - val_accuracy: 0.6897 - lr: 0.0010 - 9s/epoch - 51ms/step
Epoch 17/25
176/176 - 9s - loss: 0.0063 - accuracy: 0.9595 - val_loss: 0.0547 - val_accuracy: 0.6880 - lr: 0.0010 - 9s/epoch - 51ms/step
Epoch 18/25
176/176 - 9s - loss: 0.0061 - accuracy: 0.9600 - val_loss: 0.0522 - val_accuracy: 0.7024 - lr: 0.0010 - 9s/epoch - 51ms/step
Epoch 19/25
176/176 - 9s - loss: 0.0061 - accuracy: 0.9601 - val_loss: 0.0524 - val_accuracy: 0.7015 - lr: 0.0010 - 9s/epoch - 51ms/step
Epoch 20/25
176/176 - 9s - loss: 0.0065 - accuracy: 0.9571 - val_loss: 0.0534 - val_accuracy: 0.6964 - lr: 0.0010 - 9s/epoch - 51ms/step
Epoch 21/25
176/176 - 9s - loss: 0.0063 - accuracy: 0.9584 - val_loss: 0.0553 - val_accuracy: 0.6843 - lr: 0.0010 - 9s/epoch - 51ms/step
Epoch 22/25
176/176 - 9s - loss: 0.0060 - accuracy: 0.9608 - val_loss: 0.0526 - val_accuracy: 0.7019 - lr: 0.0010 - 9s/epoch - 51ms/step
Epoch 23/25
176/176 - 9s - loss: 0.0059 - accuracy: 0.9622 - val_loss: 0.0569 - val_accuracy: 0.6774 - lr: 0.0010 - 9s/epoch - 51ms/step
Epoch 24/25
176/176 - 9s - loss: 0.0059 - accuracy: 0.9615 - val_loss: 0.0565 - val_accuracy: 0.6794 - lr: 0.0010 - 9s/epoch - 51ms/step
Epoch 25/25
176/176 - 9s - loss: 0.0060 - accuracy: 0.9608 - val_loss: 0.0551 - val_accuracy: 0.6886 - lr: 0.0010 - 9s/epoch - 51ms/step
Epoch 1/25
36/36 - 10s - loss: 0.0054 - accuracy: 0.9650 - val_loss: 0.0564 - val_accuracy: 0.6808 - lr: 0.0010 - 10s/epoch - 281ms/step
Epoch 2/25
36/36 - 8s - loss: 0.0051 - accuracy: 0.9671 - val_loss: 0.0557 - val_accuracy: 0.6849 - lr: 0.0010 - 8s/epoch - 214ms/step
Epoch 3/25
36/36 - 8s - loss: 0.0048 - accuracy: 0.9695 - val_loss: 0.0562 - val_accuracy: 0.6819 - lr: 0.0010 - 8s/epoch - 214ms/step
Epoch 4/25
36/36 - 8s - loss: 0.0050 - accuracy: 0.9678 - val_loss: 0.0554 - val_accuracy: 0.6873 - lr: 0.0010 - 8s/epoch - 214ms/step
Epoch 5/25
36/36 - 8s - loss: 0.0048 - accuracy: 0.9694 - val_loss: 0.0560 - val_accuracy: 0.6831 - lr: 0.0010 - 8s/epoch - 214ms/step
Epoch 6/25
36/36 - 8s - loss: 0.0049 - accuracy: 0.9679 - val_loss: 0.0567 - val_accuracy: 0.6790 - lr: 0.0010 - 8s/epoch - 214ms/step
Epoch 7/25
36/36 - 8s - loss: 0.0047 - accuracy: 0.9696 - val_loss: 0.0565 - val_accuracy: 0.6813 - lr: 0.0010 - 8s/epoch - 214ms/step
Epoch 8/25
36/36 - 8s - loss: 0.0046 - accuracy: 0.9707 - val_loss: 0.0568 - val_accuracy: 0.6800 - lr: 0.0010 - 8s/epoch - 214ms/step
Epoch 9/25
36/36 - 8s - loss: 0.0047 - accuracy: 0.9701 - val_loss: 0.0569 - val_accuracy: 0.6802 - lr: 0.0010 - 8s/epoch - 214ms/step
Epoch 10/25
36/36 - 8s - loss: 0.0048 - accuracy: 0.9696 - val_loss: 0.0570 - val_accuracy: 0.6792 - lr: 0.0010 - 8s/epoch - 214ms/step
Epoch 11/25
36/36 - 8s - loss: 0.0045 - accuracy: 0.9712 - val_loss: 0.0575 - val_accuracy: 0.6758 - lr: 0.0010 - 8s/epoch - 214ms/step
Epoch 12/25
36/36 - 8s - loss: 0.0048 - accuracy: 0.9697 - val_loss: 0.0572 - val_accuracy: 0.6785 - lr: 0.0010 - 8s/epoch - 214ms/step
Epoch 13/25
36/36 - 8s - loss: 0.0047 - accuracy: 0.9700 - val_loss: 0.0568 - val_accuracy: 0.6804 - lr: 0.0010 - 8s/epoch - 214ms/step
Epoch 14/25
36/36 - 8s - loss: 0.0047 - accuracy: 0.9698 - val_loss: 0.0572 - val_accuracy: 0.6789 - lr: 0.0010 - 8s/epoch - 214ms/step
Epoch 15/25
36/36 - 8s - loss: 0.0046 - accuracy: 0.9707 - val_loss: 0.0576 - val_accuracy: 0.6744 - lr: 0.0010 - 8s/epoch - 214ms/step
Epoch 16/25
36/36 - 8s - loss: 0.0047 - accuracy: 0.9693 - val_loss: 0.0577 - val_accuracy: 0.6764 - lr: 0.0010 - 8s/epoch - 214ms/step
Epoch 17/25
36/36 - 8s - loss: 0.0046 - accuracy: 0.9707 - val_loss: 0.0578 - val_accuracy: 0.6748 - lr: 0.0010 - 8s/epoch - 214ms/step
Epoch 18/25
36/36 - 8s - loss: 0.0048 - accuracy: 0.9694 - val_loss: 0.0576 - val_accuracy: 0.6771 - lr: 0.0010 - 8s/epoch - 214ms/step
Epoch 19/25
36/36 - 8s - loss: 0.0046 - accuracy: 0.9707 - val_loss: 0.0571 - val_accuracy: 0.6797 - lr: 0.0010 - 8s/epoch - 214ms/step
Epoch 20/25
36/36 - 8s - loss: 0.0048 - accuracy: 0.9693 - val_loss: 0.0579 - val_accuracy: 0.6751 - lr: 0.0010 - 8s/epoch - 214ms/step
Epoch 21/25
36/36 - 8s - loss: 0.0045 - accuracy: 0.9713 - val_loss: 0.0569 - val_accuracy: 0.6802 - lr: 0.0010 - 8s/epoch - 214ms/step
Epoch 22/25
36/36 - 8s - loss: 0.0044 - accuracy: 0.9716 - val_loss: 0.0574 - val_accuracy: 0.6782 - lr: 0.0010 - 8s/epoch - 214ms/step
Epoch 23/25
36/36 - 8s - loss: 0.0044 - accuracy: 0.9717 - val_loss: 0.0569 - val_accuracy: 0.6805 - lr: 0.0010 - 8s/epoch - 214ms/step
Epoch 24/25
36/36 - 8s - loss: 0.0044 - accuracy: 0.9719 - val_loss: 0.0576 - val_accuracy: 0.6773 - lr: 0.0010 - 8s/epoch - 214ms/step
Epoch 25/25
36/36 - 8s - loss: 0.0045 - accuracy: 0.9706 - val_loss: 0.0577 - val_accuracy: 0.6768 - lr: 0.0010 - 8s/epoch - 214ms/step
Epoch 1/50
4378/4378 - 77s - loss: 0.0143 - accuracy: 0.9056 - val_loss: 0.0521 - val_accuracy: 0.6884 - lr: 0.0010 - 77s/epoch - 18ms/step
Epoch 2/50
4378/4378 - 74s - loss: 0.0144 - accuracy: 0.9024 - val_loss: 0.0465 - val_accuracy: 0.7155 - lr: 0.0010 - 74s/epoch - 17ms/step
Epoch 3/50
4378/4378 - 74s - loss: 0.0146 - accuracy: 0.9002 - val_loss: 0.0442 - val_accuracy: 0.7280 - lr: 0.0010 - 74s/epoch - 17ms/step
Epoch 4/50
4378/4378 - 74s - loss: 0.0147 - accuracy: 0.8991 - val_loss: 0.0446 - val_accuracy: 0.7289 - lr: 0.0010 - 74s/epoch - 17ms/step
Epoch 5/50
4378/4378 - 74s - loss: 0.0146 - accuracy: 0.9012 - val_loss: 0.0387 - val_accuracy: 0.7627 - lr: 0.0010 - 74s/epoch - 17ms/step
Epoch 6/50
4378/4378 - 74s - loss: 0.0150 - accuracy: 0.8978 - val_loss: 0.0438 - val_accuracy: 0.7324 - lr: 0.0010 - 74s/epoch - 17ms/step
Epoch 7/50
4378/4378 - 74s - loss: 0.0148 - accuracy: 0.8989 - val_loss: 0.0393 - val_accuracy: 0.7593 - lr: 0.0010 - 74s/epoch - 17ms/step
Epoch 8/50
4378/4378 - 74s - loss: 0.0149 - accuracy: 0.8992 - val_loss: 0.0394 - val_accuracy: 0.7568 - lr: 0.0010 - 74s/epoch - 17ms/step
Epoch 9/50
4378/4378 - 74s - loss: 0.0149 - accuracy: 0.8984 - val_loss: 0.0445 - val_accuracy: 0.7312 - lr: 0.0010 - 74s/epoch - 17ms/step
Epoch 10/50
4378/4378 - 74s - loss: 0.0151 - accuracy: 0.8967 - val_loss: 0.0513 - val_accuracy: 0.6903 - lr: 0.0010 - 74s/epoch - 17ms/step
Epoch 11/50
4378/4378 - 74s - loss: 0.0147 - accuracy: 0.8989 - val_loss: 0.0463 - val_accuracy: 0.7098 - lr: 0.0010 - 74s/epoch - 17ms/step
Epoch 12/50
4378/4378 - 74s - loss: 0.0148 - accuracy: 0.8995 - val_loss: 0.0490 - val_accuracy: 0.6989 - lr: 0.0010 - 74s/epoch - 17ms/step
Epoch 13/50
4378/4378 - 74s - loss: 0.0148 - accuracy: 0.8987 - val_loss: 0.0392 - val_accuracy: 0.7593 - lr: 0.0010 - 74s/epoch - 17ms/step
Epoch 14/50
4378/4378 - 74s - loss: 0.0151 - accuracy: 0.8956 - val_loss: 0.0434 - val_accuracy: 0.7347 - lr: 0.0010 - 74s/epoch - 17ms/step
Epoch 15/50
4378/4378 - 74s - loss: 0.0151 - accuracy: 0.8962 - val_loss: 0.0456 - val_accuracy: 0.7172 - lr: 0.0010 - 74s/epoch - 17ms/step
Epoch 16/50
4378/4378 - 74s - loss: 0.0150 - accuracy: 0.8978 - val_loss: 0.0373 - val_accuracy: 0.7695 - lr: 0.0010 - 74s/epoch - 17ms/step
Epoch 17/50
4378/4378 - 73s - loss: 0.0147 - accuracy: 0.8989 - val_loss: 0.0399 - val_accuracy: 0.7568 - lr: 0.0010 - 73s/epoch - 17ms/step
Epoch 18/50
4378/4378 - 74s - loss: 0.0149 - accuracy: 0.8982 - val_loss: 0.0458 - val_accuracy: 0.7108 - lr: 0.0010 - 74s/epoch - 17ms/step
Epoch 19/50
4378/4378 - 75s - loss: 0.0150 - accuracy: 0.8979 - val_loss: 0.0405 - val_accuracy: 0.7472 - lr: 0.0010 - 75s/epoch - 17ms/step
Epoch 20/50
4378/4378 - 74s - loss: 0.0148 - accuracy: 0.8992 - val_loss: 0.0431 - val_accuracy: 0.7368 - lr: 0.0010 - 74s/epoch - 17ms/step
Epoch 21/50
4378/4378 - 74s - loss: 0.0149 - accuracy: 0.8979 - val_loss: 0.0442 - val_accuracy: 0.7266 - lr: 0.0010 - 74s/epoch - 17ms/step
Epoch 22/50
4378/4378 - 74s - loss: 0.0150 - accuracy: 0.8970 - val_loss: 0.0389 - val_accuracy: 0.7566 - lr: 0.0010 - 74s/epoch - 17ms/step
Epoch 23/50
4378/4378 - 74s - loss: 0.0148 - accuracy: 0.8982 - val_loss: 0.0425 - val_accuracy: 0.7405 - lr: 0.0010 - 74s/epoch - 17ms/step
Epoch 24/50
4378/4378 - 74s - loss: 0.0149 - accuracy: 0.8988 - val_loss: 0.0394 - val_accuracy: 0.7540 - lr: 0.0010 - 74s/epoch - 17ms/step
Epoch 25/50
4378/4378 - 74s - loss: 0.0151 - accuracy: 0.8965 - val_loss: 0.0424 - val_accuracy: 0.7361 - lr: 0.0010 - 74s/epoch - 17ms/step
Epoch 26/50
4378/4378 - 74s - loss: 0.0151 - accuracy: 0.8960 - val_loss: 0.0402 - val_accuracy: 0.7480 - lr: 0.0010 - 74s/epoch - 17ms/step
Epoch 27/50
4378/4378 - 74s - loss: 0.0149 - accuracy: 0.8984 - val_loss: 0.0407 - val_accuracy: 0.7426 - lr: 0.0010 - 74s/epoch - 17ms/step
Epoch 28/50
4378/4378 - 74s - loss: 0.0151 - accuracy: 0.8975 - val_loss: 0.0440 - val_accuracy: 0.7261 - lr: 0.0010 - 74s/epoch - 17ms/step
Epoch 29/50
4378/4378 - 74s - loss: 0.0151 - accuracy: 0.8962 - val_loss: 0.0436 - val_accuracy: 0.7359 - lr: 0.0010 - 74s/epoch - 17ms/step
Epoch 30/50
4378/4378 - 74s - loss: 0.0148 - accuracy: 0.8996 - val_loss: 0.0389 - val_accuracy: 0.7617 - lr: 0.0010 - 74s/epoch - 17ms/step
Epoch 31/50
4378/4378 - 74s - loss: 0.0149 - accuracy: 0.8970 - val_loss: 0.0440 - val_accuracy: 0.7246 - lr: 0.0010 - 74s/epoch - 17ms/step
Epoch 32/50
4378/4378 - 74s - loss: 0.0148 - accuracy: 0.8993 - val_loss: 0.0396 - val_accuracy: 0.7561 - lr: 0.0010 - 74s/epoch - 17ms/step
Epoch 33/50
4378/4378 - 74s - loss: 0.0147 - accuracy: 0.8996 - val_loss: 0.0437 - val_accuracy: 0.7320 - lr: 0.0010 - 74s/epoch - 17ms/step
Epoch 34/50
4378/4378 - 74s - loss: 0.0148 - accuracy: 0.8981 - val_loss: 0.0376 - val_accuracy: 0.7622 - lr: 0.0010 - 74s/epoch - 17ms/step
Epoch 35/50
4378/4378 - 74s - loss: 0.0148 - accuracy: 0.8987 - val_loss: 0.0452 - val_accuracy: 0.7179 - lr: 0.0010 - 74s/epoch - 17ms/step
Epoch 36/50
4378/4378 - 74s - loss: 0.0150 - accuracy: 0.8972 - val_loss: 0.0405 - val_accuracy: 0.7502 - lr: 0.0010 - 74s/epoch - 17ms/step
Epoch 37/50
4378/4378 - 74s - loss: 0.0150 - accuracy: 0.8974 - val_loss: 0.0433 - val_accuracy: 0.7311 - lr: 0.0010 - 74s/epoch - 17ms/step
Epoch 38/50
4378/4378 - 74s - loss: 0.0150 - accuracy: 0.8968 - val_loss: 0.0439 - val_accuracy: 0.7266 - lr: 0.0010 - 74s/epoch - 17ms/step
Epoch 39/50
4378/4378 - 74s - loss: 0.0147 - accuracy: 0.8998 - val_loss: 0.0494 - val_accuracy: 0.6956 - lr: 0.0010 - 74s/epoch - 17ms/step
Epoch 40/50
4378/4378 - 74s - loss: 0.0148 - accuracy: 0.8988 - val_loss: 0.0401 - val_accuracy: 0.7547 - lr: 0.0010 - 74s/epoch - 17ms/step
Epoch 41/50
4378/4378 - 74s - loss: 0.0150 - accuracy: 0.8971 - val_loss: 0.0401 - val_accuracy: 0.7453 - lr: 0.0010 - 74s/epoch - 17ms/step
Epoch 42/50
4378/4378 - 74s - loss: 0.0148 - accuracy: 0.9000 - val_loss: 0.0426 - val_accuracy: 0.7349 - lr: 0.0010 - 74s/epoch - 17ms/step
Epoch 43/50
4378/4378 - 74s - loss: 0.0150 - accuracy: 0.8979 - val_loss: 0.0428 - val_accuracy: 0.7306 - lr: 0.0010 - 74s/epoch - 17ms/step
Epoch 44/50
4378/4378 - 74s - loss: 0.0147 - accuracy: 0.9000 - val_loss: 0.0449 - val_accuracy: 0.7160 - lr: 0.0010 - 74s/epoch - 17ms/step
Epoch 45/50
4378/4378 - 74s - loss: 0.0147 - accuracy: 0.8994 - val_loss: 0.0450 - val_accuracy: 0.7172 - lr: 0.0010 - 74s/epoch - 17ms/step
Epoch 46/50
4378/4378 - 74s - loss: 0.0147 - accuracy: 0.8992 - val_loss: 0.0426 - val_accuracy: 0.7341 - lr: 0.0010 - 74s/epoch - 17ms/step
Epoch 47/50
4378/4378 - 74s - loss: 0.0147 - accuracy: 0.8995 - val_loss: 0.0448 - val_accuracy: 0.7237 - lr: 0.0010 - 74s/epoch - 17ms/step
Epoch 48/50
4378/4378 - 74s - loss: 0.0150 - accuracy: 0.8979 - val_loss: 0.0439 - val_accuracy: 0.7333 - lr: 0.0010 - 74s/epoch - 17ms/step
Epoch 49/50
4378/4378 - 74s - loss: 0.0149 - accuracy: 0.8979 - val_loss: 0.0478 - val_accuracy: 0.7036 - lr: 0.0010 - 74s/epoch - 17ms/step
Epoch 50/50
4378/4378 - 74s - loss: 0.0149 - accuracy: 0.8982 - val_loss: 0.0426 - val_accuracy: 0.7292 - lr: 0.0010 - 74s/epoch - 17ms/step
Epoch 1/50
876/876 - 21s - loss: 0.0105 - accuracy: 0.9298 - val_loss: 0.0445 - val_accuracy: 0.7313 - lr: 0.0010 - 21s/epoch - 23ms/step
Epoch 2/50
876/876 - 18s - loss: 0.0105 - accuracy: 0.9308 - val_loss: 0.0433 - val_accuracy: 0.7385 - lr: 0.0010 - 18s/epoch - 21ms/step
Epoch 3/50
876/876 - 18s - loss: 0.0106 - accuracy: 0.9290 - val_loss: 0.0491 - val_accuracy: 0.7047 - lr: 0.0010 - 18s/epoch - 21ms/step
Epoch 4/50
876/876 - 18s - loss: 0.0105 - accuracy: 0.9291 - val_loss: 0.0492 - val_accuracy: 0.7046 - lr: 0.0010 - 18s/epoch - 21ms/step
Epoch 5/50
876/876 - 18s - loss: 0.0103 - accuracy: 0.9317 - val_loss: 0.0482 - val_accuracy: 0.7102 - lr: 0.0010 - 18s/epoch - 20ms/step
Epoch 6/50
876/876 - 18s - loss: 0.0103 - accuracy: 0.9311 - val_loss: 0.0490 - val_accuracy: 0.7077 - lr: 0.0010 - 18s/epoch - 21ms/step
Epoch 7/50
876/876 - 18s - loss: 0.0098 - accuracy: 0.9348 - val_loss: 0.0493 - val_accuracy: 0.7086 - lr: 0.0010 - 18s/epoch - 20ms/step
Epoch 8/50
876/876 - 18s - loss: 0.0099 - accuracy: 0.9341 - val_loss: 0.0474 - val_accuracy: 0.7188 - lr: 0.0010 - 18s/epoch - 20ms/step
Epoch 9/50
876/876 - 18s - loss: 0.0098 - accuracy: 0.9348 - val_loss: 0.0462 - val_accuracy: 0.7258 - lr: 0.0010 - 18s/epoch - 20ms/step
Epoch 10/50
876/876 - 18s - loss: 0.0097 - accuracy: 0.9352 - val_loss: 0.0490 - val_accuracy: 0.7083 - lr: 0.0010 - 18s/epoch - 20ms/step
Epoch 11/50
876/876 - 18s - loss: 0.0098 - accuracy: 0.9356 - val_loss: 0.0504 - val_accuracy: 0.7006 - lr: 0.0010 - 18s/epoch - 20ms/step
Epoch 12/50
876/876 - 18s - loss: 0.0097 - accuracy: 0.9358 - val_loss: 0.0471 - val_accuracy: 0.7176 - lr: 0.0010 - 18s/epoch - 20ms/step
Epoch 13/50
876/876 - 18s - loss: 0.0095 - accuracy: 0.9367 - val_loss: 0.0483 - val_accuracy: 0.7115 - lr: 0.0010 - 18s/epoch - 20ms/step
Epoch 14/50
876/876 - 18s - loss: 0.0096 - accuracy: 0.9363 - val_loss: 0.0460 - val_accuracy: 0.7254 - lr: 0.0010 - 18s/epoch - 20ms/step
Epoch 15/50
876/876 - 18s - loss: 0.0096 - accuracy: 0.9370 - val_loss: 0.0469 - val_accuracy: 0.7241 - lr: 0.0010 - 18s/epoch - 20ms/step
Epoch 16/50
876/876 - 18s - loss: 0.0096 - accuracy: 0.9362 - val_loss: 0.0476 - val_accuracy: 0.7172 - lr: 0.0010 - 18s/epoch - 21ms/step
Epoch 17/50
876/876 - 18s - loss: 0.0096 - accuracy: 0.9365 - val_loss: 0.0515 - val_accuracy: 0.6957 - lr: 0.0010 - 18s/epoch - 20ms/step
Epoch 18/50
876/876 - 18s - loss: 0.0094 - accuracy: 0.9372 - val_loss: 0.0502 - val_accuracy: 0.7074 - lr: 0.0010 - 18s/epoch - 21ms/step
Epoch 19/50
876/876 - 18s - loss: 0.0096 - accuracy: 0.9359 - val_loss: 0.0523 - val_accuracy: 0.6916 - lr: 0.0010 - 18s/epoch - 21ms/step
Epoch 20/50
876/876 - 18s - loss: 0.0094 - accuracy: 0.9367 - val_loss: 0.0521 - val_accuracy: 0.6923 - lr: 0.0010 - 18s/epoch - 21ms/step
Epoch 21/50
876/876 - 18s - loss: 0.0093 - accuracy: 0.9389 - val_loss: 0.0496 - val_accuracy: 0.7049 - lr: 0.0010 - 18s/epoch - 21ms/step
Epoch 22/50
876/876 - 18s - loss: 0.0097 - accuracy: 0.9358 - val_loss: 0.0476 - val_accuracy: 0.7207 - lr: 0.0010 - 18s/epoch - 21ms/step
Epoch 23/50
876/876 - 18s - loss: 0.0096 - accuracy: 0.9371 - val_loss: 0.0454 - val_accuracy: 0.7339 - lr: 0.0010 - 18s/epoch - 20ms/step
Epoch 24/50
876/876 - 18s - loss: 0.0093 - accuracy: 0.9381 - val_loss: 0.0470 - val_accuracy: 0.7235 - lr: 0.0010 - 18s/epoch - 21ms/step
Epoch 25/50
876/876 - 18s - loss: 0.0094 - accuracy: 0.9383 - val_loss: 0.0475 - val_accuracy: 0.7213 - lr: 0.0010 - 18s/epoch - 21ms/step
Epoch 26/50
876/876 - 18s - loss: 0.0094 - accuracy: 0.9380 - val_loss: 0.0440 - val_accuracy: 0.7411 - lr: 0.0010 - 18s/epoch - 20ms/step
Epoch 27/50
876/876 - 18s - loss: 0.0094 - accuracy: 0.9371 - val_loss: 0.0473 - val_accuracy: 0.7199 - lr: 0.0010 - 18s/epoch - 21ms/step
Epoch 28/50
876/876 - 18s - loss: 0.0095 - accuracy: 0.9373 - val_loss: 0.0468 - val_accuracy: 0.7220 - lr: 0.0010 - 18s/epoch - 21ms/step
Epoch 29/50
876/876 - 18s - loss: 0.0093 - accuracy: 0.9381 - val_loss: 0.0469 - val_accuracy: 0.7228 - lr: 0.0010 - 18s/epoch - 20ms/step
Epoch 30/50
876/876 - 18s - loss: 0.0092 - accuracy: 0.9391 - val_loss: 0.0487 - val_accuracy: 0.7132 - lr: 0.0010 - 18s/epoch - 20ms/step
Epoch 31/50
876/876 - 18s - loss: 0.0090 - accuracy: 0.9407 - val_loss: 0.0477 - val_accuracy: 0.7219 - lr: 0.0010 - 18s/epoch - 21ms/step
Epoch 32/50
876/876 - 18s - loss: 0.0093 - accuracy: 0.9383 - val_loss: 0.0478 - val_accuracy: 0.7202 - lr: 0.0010 - 18s/epoch - 20ms/step
Epoch 33/50
876/876 - 18s - loss: 0.0093 - accuracy: 0.9378 - val_loss: 0.0483 - val_accuracy: 0.7145 - lr: 0.0010 - 18s/epoch - 21ms/step
Epoch 34/50
876/876 - 18s - loss: 0.0093 - accuracy: 0.9380 - val_loss: 0.0490 - val_accuracy: 0.7139 - lr: 0.0010 - 18s/epoch - 21ms/step
Epoch 35/50
876/876 - 18s - loss: 0.0094 - accuracy: 0.9372 - val_loss: 0.0501 - val_accuracy: 0.7057 - lr: 0.0010 - 18s/epoch - 20ms/step
Epoch 36/50
876/876 - 18s - loss: 0.0092 - accuracy: 0.9393 - val_loss: 0.0454 - val_accuracy: 0.7279 - lr: 0.0010 - 18s/epoch - 21ms/step
Epoch 37/50
876/876 - 18s - loss: 0.0091 - accuracy: 0.9400 - val_loss: 0.0523 - val_accuracy: 0.6871 - lr: 0.0010 - 18s/epoch - 21ms/step
Epoch 38/50
876/876 - 18s - loss: 0.0093 - accuracy: 0.9390 - val_loss: 0.0510 - val_accuracy: 0.7010 - lr: 0.0010 - 18s/epoch - 20ms/step
Epoch 39/50
876/876 - 18s - loss: 0.0092 - accuracy: 0.9396 - val_loss: 0.0456 - val_accuracy: 0.7314 - lr: 0.0010 - 18s/epoch - 20ms/step
Epoch 40/50
876/876 - 18s - loss: 0.0091 - accuracy: 0.9404 - val_loss: 0.0483 - val_accuracy: 0.7135 - lr: 0.0010 - 18s/epoch - 21ms/step
Epoch 41/50
876/876 - 18s - loss: 0.0088 - accuracy: 0.9420 - val_loss: 0.0494 - val_accuracy: 0.7072 - lr: 0.0010 - 18s/epoch - 20ms/step
Epoch 42/50
876/876 - 18s - loss: 0.0094 - accuracy: 0.9375 - val_loss: 0.0517 - val_accuracy: 0.6922 - lr: 0.0010 - 18s/epoch - 20ms/step
Epoch 43/50
876/876 - 18s - loss: 0.0090 - accuracy: 0.9403 - val_loss: 0.0532 - val_accuracy: 0.6905 - lr: 0.0010 - 18s/epoch - 20ms/step
Epoch 44/50
876/876 - 18s - loss: 0.0092 - accuracy: 0.9390 - val_loss: 0.0521 - val_accuracy: 0.6944 - lr: 0.0010 - 18s/epoch - 21ms/step
Epoch 45/50
876/876 - 18s - loss: 0.0088 - accuracy: 0.9422 - val_loss: 0.0459 - val_accuracy: 0.7298 - lr: 0.0010 - 18s/epoch - 20ms/step
Epoch 46/50
876/876 - 18s - loss: 0.0090 - accuracy: 0.9402 - val_loss: 0.0513 - val_accuracy: 0.6971 - lr: 0.0010 - 18s/epoch - 20ms/step
Epoch 47/50
876/876 - 18s - loss: 0.0089 - accuracy: 0.9416 - val_loss: 0.0503 - val_accuracy: 0.7047 - lr: 0.0010 - 18s/epoch - 20ms/step
Epoch 48/50
876/876 - 18s - loss: 0.0088 - accuracy: 0.9420 - val_loss: 0.0478 - val_accuracy: 0.7184 - lr: 0.0010 - 18s/epoch - 20ms/step
Epoch 49/50
876/876 - 18s - loss: 0.0090 - accuracy: 0.9405 - val_loss: 0.0498 - val_accuracy: 0.7096 - lr: 0.0010 - 18s/epoch - 21ms/step
Epoch 50/50
876/876 - 18s - loss: 0.0089 - accuracy: 0.9404 - val_loss: 0.0513 - val_accuracy: 0.6987 - lr: 0.0010 - 18s/epoch - 21ms/step
Epoch 1/50
176/176 - 11s - loss: 0.0068 - accuracy: 0.9563 - val_loss: 0.0515 - val_accuracy: 0.7007 - lr: 0.0010 - 11s/epoch - 65ms/step
Epoch 2/50
176/176 - 9s - loss: 0.0062 - accuracy: 0.9598 - val_loss: 0.0512 - val_accuracy: 0.7021 - lr: 0.0010 - 9s/epoch - 51ms/step
Epoch 3/50
176/176 - 9s - loss: 0.0061 - accuracy: 0.9609 - val_loss: 0.0517 - val_accuracy: 0.6993 - lr: 0.0010 - 9s/epoch - 51ms/step
Epoch 4/50
176/176 - 9s - loss: 0.0060 - accuracy: 0.9622 - val_loss: 0.0523 - val_accuracy: 0.6969 - lr: 0.0010 - 9s/epoch - 51ms/step
Epoch 5/50
176/176 - 9s - loss: 0.0061 - accuracy: 0.9606 - val_loss: 0.0548 - val_accuracy: 0.6845 - lr: 0.0010 - 9s/epoch - 51ms/step
Epoch 6/50
176/176 - 9s - loss: 0.0061 - accuracy: 0.9607 - val_loss: 0.0540 - val_accuracy: 0.6900 - lr: 0.0010 - 9s/epoch - 51ms/step
Epoch 7/50
176/176 - 9s - loss: 0.0063 - accuracy: 0.9594 - val_loss: 0.0522 - val_accuracy: 0.6998 - lr: 0.0010 - 9s/epoch - 51ms/step
Epoch 8/50
176/176 - 9s - loss: 0.0064 - accuracy: 0.9584 - val_loss: 0.0524 - val_accuracy: 0.6995 - lr: 0.0010 - 9s/epoch - 51ms/step
Epoch 9/50
176/176 - 9s - loss: 0.0066 - accuracy: 0.9578 - val_loss: 0.0493 - val_accuracy: 0.7188 - lr: 0.0010 - 9s/epoch - 51ms/step
Epoch 10/50
176/176 - 9s - loss: 0.0064 - accuracy: 0.9587 - val_loss: 0.0557 - val_accuracy: 0.6834 - lr: 0.0010 - 9s/epoch - 51ms/step
Epoch 11/50
176/176 - 9s - loss: 0.0065 - accuracy: 0.9576 - val_loss: 0.0545 - val_accuracy: 0.6899 - lr: 0.0010 - 9s/epoch - 51ms/step
Epoch 12/50
176/176 - 9s - loss: 0.0064 - accuracy: 0.9587 - val_loss: 0.0546 - val_accuracy: 0.6864 - lr: 0.0010 - 9s/epoch - 51ms/step
Epoch 13/50
176/176 - 9s - loss: 0.0062 - accuracy: 0.9593 - val_loss: 0.0528 - val_accuracy: 0.6966 - lr: 0.0010 - 9s/epoch - 51ms/step
Epoch 14/50
176/176 - 9s - loss: 0.0063 - accuracy: 0.9591 - val_loss: 0.0524 - val_accuracy: 0.7008 - lr: 0.0010 - 9s/epoch - 51ms/step
Epoch 15/50
176/176 - 9s - loss: 0.0061 - accuracy: 0.9611 - val_loss: 0.0536 - val_accuracy: 0.6944 - lr: 0.0010 - 9s/epoch - 51ms/step
Epoch 16/50
176/176 - 9s - loss: 0.0058 - accuracy: 0.9627 - val_loss: 0.0538 - val_accuracy: 0.6920 - lr: 0.0010 - 9s/epoch - 51ms/step
Epoch 17/50
176/176 - 9s - loss: 0.0060 - accuracy: 0.9619 - val_loss: 0.0517 - val_accuracy: 0.7072 - lr: 0.0010 - 9s/epoch - 51ms/step
Epoch 18/50
176/176 - 9s - loss: 0.0058 - accuracy: 0.9628 - val_loss: 0.0511 - val_accuracy: 0.7109 - lr: 0.0010 - 9s/epoch - 51ms/step
Epoch 19/50
176/176 - 9s - loss: 0.0057 - accuracy: 0.9640 - val_loss: 0.0528 - val_accuracy: 0.7006 - lr: 0.0010 - 9s/epoch - 51ms/step
Epoch 20/50
176/176 - 9s - loss: 0.0058 - accuracy: 0.9628 - val_loss: 0.0521 - val_accuracy: 0.7057 - lr: 0.0010 - 9s/epoch - 51ms/step
Epoch 21/50
176/176 - 9s - loss: 0.0060 - accuracy: 0.9614 - val_loss: 0.0522 - val_accuracy: 0.7044 - lr: 0.0010 - 9s/epoch - 51ms/step
Epoch 22/50
176/176 - 9s - loss: 0.0060 - accuracy: 0.9619 - val_loss: 0.0549 - val_accuracy: 0.6885 - lr: 0.0010 - 9s/epoch - 51ms/step
Epoch 23/50
176/176 - 9s - loss: 0.0060 - accuracy: 0.9613 - val_loss: 0.0537 - val_accuracy: 0.6971 - lr: 0.0010 - 9s/epoch - 51ms/step
Epoch 24/50
176/176 - 9s - loss: 0.0060 - accuracy: 0.9619 - val_loss: 0.0538 - val_accuracy: 0.6949 - lr: 0.0010 - 9s/epoch - 51ms/step
Epoch 25/50
176/176 - 9s - loss: 0.0061 - accuracy: 0.9608 - val_loss: 0.0547 - val_accuracy: 0.6926 - lr: 0.0010 - 9s/epoch - 51ms/step
Epoch 26/50
176/176 - 9s - loss: 0.0062 - accuracy: 0.9604 - val_loss: 0.0526 - val_accuracy: 0.7031 - lr: 0.0010 - 9s/epoch - 51ms/step
Epoch 27/50
176/176 - 9s - loss: 0.0060 - accuracy: 0.9614 - val_loss: 0.0523 - val_accuracy: 0.7073 - lr: 0.0010 - 9s/epoch - 51ms/step
Epoch 28/50
176/176 - 9s - loss: 0.0062 - accuracy: 0.9601 - val_loss: 0.0536 - val_accuracy: 0.6997 - lr: 0.0010 - 9s/epoch - 51ms/step
Epoch 29/50
176/176 - 9s - loss: 0.0061 - accuracy: 0.9615 - val_loss: 0.0548 - val_accuracy: 0.6897 - lr: 0.0010 - 9s/epoch - 51ms/step
Epoch 30/50
176/176 - 9s - loss: 0.0062 - accuracy: 0.9599 - val_loss: 0.0554 - val_accuracy: 0.6870 - lr: 0.0010 - 9s/epoch - 51ms/step
Epoch 31/50
176/176 - 9s - loss: 0.0059 - accuracy: 0.9628 - val_loss: 0.0534 - val_accuracy: 0.7004 - lr: 0.0010 - 9s/epoch - 51ms/step
Epoch 32/50
176/176 - 9s - loss: 0.0060 - accuracy: 0.9616 - val_loss: 0.0545 - val_accuracy: 0.6921 - lr: 0.0010 - 9s/epoch - 51ms/step
Epoch 33/50
176/176 - 9s - loss: 0.0061 - accuracy: 0.9613 - val_loss: 0.0540 - val_accuracy: 0.6952 - lr: 0.0010 - 9s/epoch - 51ms/step
Epoch 34/50
176/176 - 9s - loss: 0.0060 - accuracy: 0.9614 - val_loss: 0.0555 - val_accuracy: 0.6873 - lr: 0.0010 - 9s/epoch - 51ms/step
Epoch 35/50
176/176 - 9s - loss: 0.0060 - accuracy: 0.9616 - val_loss: 0.0554 - val_accuracy: 0.6872 - lr: 0.0010 - 9s/epoch - 51ms/step
Epoch 36/50
176/176 - 9s - loss: 0.0058 - accuracy: 0.9632 - val_loss: 0.0555 - val_accuracy: 0.6874 - lr: 0.0010 - 9s/epoch - 51ms/step
Epoch 37/50
176/176 - 9s - loss: 0.0058 - accuracy: 0.9625 - val_loss: 0.0573 - val_accuracy: 0.6782 - lr: 0.0010 - 9s/epoch - 51ms/step
Epoch 38/50
176/176 - 9s - loss: 0.0061 - accuracy: 0.9614 - val_loss: 0.0549 - val_accuracy: 0.6936 - lr: 0.0010 - 9s/epoch - 51ms/step
Epoch 39/50
176/176 - 9s - loss: 0.0060 - accuracy: 0.9611 - val_loss: 0.0560 - val_accuracy: 0.6863 - lr: 0.0010 - 9s/epoch - 52ms/step
Epoch 40/50
176/176 - 9s - loss: 0.0061 - accuracy: 0.9607 - val_loss: 0.0562 - val_accuracy: 0.6837 - lr: 0.0010 - 9s/epoch - 51ms/step
Epoch 41/50
176/176 - 9s - loss: 0.0061 - accuracy: 0.9601 - val_loss: 0.0548 - val_accuracy: 0.6921 - lr: 0.0010 - 9s/epoch - 51ms/step
Epoch 42/50
176/176 - 9s - loss: 0.0060 - accuracy: 0.9617 - val_loss: 0.0559 - val_accuracy: 0.6848 - lr: 0.0010 - 9s/epoch - 51ms/step
Epoch 43/50
176/176 - 9s - loss: 0.0061 - accuracy: 0.9609 - val_loss: 0.0562 - val_accuracy: 0.6842 - lr: 0.0010 - 9s/epoch - 51ms/step
Epoch 44/50
176/176 - 9s - loss: 0.0062 - accuracy: 0.9604 - val_loss: 0.0556 - val_accuracy: 0.6876 - lr: 0.0010 - 9s/epoch - 51ms/step
Epoch 45/50
176/176 - 9s - loss: 0.0059 - accuracy: 0.9618 - val_loss: 0.0535 - val_accuracy: 0.6984 - lr: 0.0010 - 9s/epoch - 51ms/step
Epoch 46/50
176/176 - 9s - loss: 0.0057 - accuracy: 0.9638 - val_loss: 0.0562 - val_accuracy: 0.6834 - lr: 0.0010 - 9s/epoch - 51ms/step
Epoch 47/50
176/176 - 9s - loss: 0.0056 - accuracy: 0.9641 - val_loss: 0.0569 - val_accuracy: 0.6813 - lr: 0.0010 - 9s/epoch - 51ms/step
Epoch 48/50
176/176 - 9s - loss: 0.0055 - accuracy: 0.9654 - val_loss: 0.0551 - val_accuracy: 0.6906 - lr: 0.0010 - 9s/epoch - 51ms/step
Epoch 49/50
176/176 - 9s - loss: 0.0057 - accuracy: 0.9639 - val_loss: 0.0564 - val_accuracy: 0.6849 - lr: 0.0010 - 9s/epoch - 51ms/step
Epoch 50/50
176/176 - 9s - loss: 0.0058 - accuracy: 0.9631 - val_loss: 0.0559 - val_accuracy: 0.6854 - lr: 0.0010 - 9s/epoch - 51ms/step
Epoch 1/50
36/36 - 10s - loss: 0.0055 - accuracy: 0.9652 - val_loss: 0.0563 - val_accuracy: 0.6851 - lr: 0.0010 - 10s/epoch - 283ms/step
Epoch 2/50
36/36 - 8s - loss: 0.0051 - accuracy: 0.9673 - val_loss: 0.0570 - val_accuracy: 0.6818 - lr: 0.0010 - 8s/epoch - 214ms/step
Epoch 3/50
36/36 - 8s - loss: 0.0048 - accuracy: 0.9701 - val_loss: 0.0568 - val_accuracy: 0.6824 - lr: 0.0010 - 8s/epoch - 214ms/step
Epoch 4/50
36/36 - 8s - loss: 0.0047 - accuracy: 0.9705 - val_loss: 0.0571 - val_accuracy: 0.6807 - lr: 0.0010 - 8s/epoch - 214ms/step
Epoch 5/50
36/36 - 8s - loss: 0.0047 - accuracy: 0.9704 - val_loss: 0.0577 - val_accuracy: 0.6796 - lr: 0.0010 - 8s/epoch - 214ms/step
Epoch 6/50
36/36 - 8s - loss: 0.0046 - accuracy: 0.9714 - val_loss: 0.0571 - val_accuracy: 0.6818 - lr: 0.0010 - 8s/epoch - 214ms/step
Epoch 7/50
36/36 - 8s - loss: 0.0045 - accuracy: 0.9716 - val_loss: 0.0568 - val_accuracy: 0.6839 - lr: 0.0010 - 8s/epoch - 214ms/step
Epoch 8/50
36/36 - 8s - loss: 0.0045 - accuracy: 0.9717 - val_loss: 0.0573 - val_accuracy: 0.6804 - lr: 0.0010 - 8s/epoch - 214ms/step
Epoch 9/50
36/36 - 8s - loss: 0.0046 - accuracy: 0.9712 - val_loss: 0.0576 - val_accuracy: 0.6787 - lr: 0.0010 - 8s/epoch - 214ms/step
Epoch 10/50
36/36 - 8s - loss: 0.0044 - accuracy: 0.9721 - val_loss: 0.0576 - val_accuracy: 0.6791 - lr: 0.0010 - 8s/epoch - 214ms/step
Epoch 11/50
36/36 - 8s - loss: 0.0044 - accuracy: 0.9725 - val_loss: 0.0578 - val_accuracy: 0.6790 - lr: 0.0010 - 8s/epoch - 214ms/step
Epoch 12/50
36/36 - 8s - loss: 0.0044 - accuracy: 0.9722 - val_loss: 0.0575 - val_accuracy: 0.6808 - lr: 0.0010 - 8s/epoch - 214ms/step
Epoch 13/50
36/36 - 8s - loss: 0.0045 - accuracy: 0.9719 - val_loss: 0.0582 - val_accuracy: 0.6764 - lr: 0.0010 - 8s/epoch - 214ms/step
Epoch 14/50
36/36 - 8s - loss: 0.0044 - accuracy: 0.9724 - val_loss: 0.0585 - val_accuracy: 0.6753 - lr: 0.0010 - 8s/epoch - 214ms/step
Epoch 15/50
36/36 - 8s - loss: 0.0044 - accuracy: 0.9726 - val_loss: 0.0571 - val_accuracy: 0.6829 - lr: 0.0010 - 8s/epoch - 215ms/step
Epoch 16/50
36/36 - 8s - loss: 0.0043 - accuracy: 0.9728 - val_loss: 0.0584 - val_accuracy: 0.6766 - lr: 0.0010 - 8s/epoch - 214ms/step
Epoch 17/50
36/36 - 8s - loss: 0.0044 - accuracy: 0.9726 - val_loss: 0.0572 - val_accuracy: 0.6827 - lr: 0.0010 - 8s/epoch - 214ms/step
Epoch 18/50
36/36 - 8s - loss: 0.0045 - accuracy: 0.9720 - val_loss: 0.0570 - val_accuracy: 0.6834 - lr: 0.0010 - 8s/epoch - 214ms/step
Epoch 19/50
36/36 - 8s - loss: 0.0044 - accuracy: 0.9722 - val_loss: 0.0578 - val_accuracy: 0.6791 - lr: 0.0010 - 8s/epoch - 214ms/step
Epoch 20/50
36/36 - 8s - loss: 0.0045 - accuracy: 0.9719 - val_loss: 0.0577 - val_accuracy: 0.6804 - lr: 0.0010 - 8s/epoch - 214ms/step
Epoch 21/50
36/36 - 8s - loss: 0.0043 - accuracy: 0.9734 - val_loss: 0.0575 - val_accuracy: 0.6802 - lr: 0.0010 - 8s/epoch - 214ms/step
Epoch 22/50
36/36 - 8s - loss: 0.0044 - accuracy: 0.9724 - val_loss: 0.0576 - val_accuracy: 0.6808 - lr: 0.0010 - 8s/epoch - 215ms/step
Epoch 23/50
36/36 - 8s - loss: 0.0044 - accuracy: 0.9726 - val_loss: 0.0583 - val_accuracy: 0.6762 - lr: 0.0010 - 8s/epoch - 215ms/step
Epoch 24/50
36/36 - 8s - loss: 0.0044 - accuracy: 0.9726 - val_loss: 0.0569 - val_accuracy: 0.6857 - lr: 0.0010 - 8s/epoch - 214ms/step
Epoch 25/50
36/36 - 8s - loss: 0.0046 - accuracy: 0.9712 - val_loss: 0.0572 - val_accuracy: 0.6844 - lr: 0.0010 - 8s/epoch - 214ms/step
Epoch 26/50
36/36 - 8s - loss: 0.0044 - accuracy: 0.9726 - val_loss: 0.0571 - val_accuracy: 0.6839 - lr: 0.0010 - 8s/epoch - 214ms/step
Epoch 27/50
36/36 - 8s - loss: 0.0042 - accuracy: 0.9742 - val_loss: 0.0566 - val_accuracy: 0.6867 - lr: 0.0010 - 8s/epoch - 214ms/step
Epoch 28/50
36/36 - 8s - loss: 0.0043 - accuracy: 0.9733 - val_loss: 0.0574 - val_accuracy: 0.6822 - lr: 0.0010 - 8s/epoch - 215ms/step
Epoch 29/50
36/36 - 8s - loss: 0.0042 - accuracy: 0.9734 - val_loss: 0.0572 - val_accuracy: 0.6840 - lr: 0.0010 - 8s/epoch - 216ms/step
Epoch 30/50
36/36 - 8s - loss: 0.0043 - accuracy: 0.9728 - val_loss: 0.0577 - val_accuracy: 0.6813 - lr: 0.0010 - 8s/epoch - 215ms/step
Epoch 31/50
36/36 - 8s - loss: 0.0043 - accuracy: 0.9730 - val_loss: 0.0584 - val_accuracy: 0.6763 - lr: 0.0010 - 8s/epoch - 215ms/step
Epoch 32/50
36/36 - 8s - loss: 0.0043 - accuracy: 0.9728 - val_loss: 0.0580 - val_accuracy: 0.6798 - lr: 0.0010 - 8s/epoch - 216ms/step
Epoch 33/50
36/36 - 8s - loss: 0.0043 - accuracy: 0.9736 - val_loss: 0.0575 - val_accuracy: 0.6824 - lr: 0.0010 - 8s/epoch - 215ms/step
Epoch 34/50
36/36 - 8s - loss: 0.0043 - accuracy: 0.9731 - val_loss: 0.0580 - val_accuracy: 0.6798 - lr: 0.0010 - 8s/epoch - 215ms/step
Epoch 35/50
36/36 - 8s - loss: 0.0042 - accuracy: 0.9735 - val_loss: 0.0578 - val_accuracy: 0.6818 - lr: 0.0010 - 8s/epoch - 216ms/step
Epoch 36/50
36/36 - 8s - loss: 0.0043 - accuracy: 0.9734 - val_loss: 0.0576 - val_accuracy: 0.6820 - lr: 0.0010 - 8s/epoch - 216ms/step
Epoch 37/50
36/36 - 8s - loss: 0.0043 - accuracy: 0.9731 - val_loss: 0.0581 - val_accuracy: 0.6802 - lr: 0.0010 - 8s/epoch - 215ms/step
Epoch 38/50
36/36 - 8s - loss: 0.0043 - accuracy: 0.9734 - val_loss: 0.0584 - val_accuracy: 0.6764 - lr: 0.0010 - 8s/epoch - 215ms/step
Epoch 39/50
36/36 - 8s - loss: 0.0042 - accuracy: 0.9733 - val_loss: 0.0577 - val_accuracy: 0.6823 - lr: 0.0010 - 8s/epoch - 215ms/step
Epoch 40/50
36/36 - 8s - loss: 0.0041 - accuracy: 0.9742 - val_loss: 0.0583 - val_accuracy: 0.6778 - lr: 0.0010 - 8s/epoch - 215ms/step
Epoch 41/50
36/36 - 8s - loss: 0.0044 - accuracy: 0.9725 - val_loss: 0.0600 - val_accuracy: 0.6684 - lr: 0.0010 - 8s/epoch - 215ms/step
Epoch 42/50
36/36 - 8s - loss: 0.0042 - accuracy: 0.9739 - val_loss: 0.0577 - val_accuracy: 0.6823 - lr: 0.0010 - 8s/epoch - 215ms/step
Epoch 43/50
36/36 - 8s - loss: 0.0045 - accuracy: 0.9722 - val_loss: 0.0587 - val_accuracy: 0.6768 - lr: 0.0010 - 8s/epoch - 215ms/step
Epoch 44/50
36/36 - 8s - loss: 0.0043 - accuracy: 0.9730 - val_loss: 0.0578 - val_accuracy: 0.6802 - lr: 0.0010 - 8s/epoch - 215ms/step
Epoch 45/50
36/36 - 8s - loss: 0.0042 - accuracy: 0.9732 - val_loss: 0.0586 - val_accuracy: 0.6775 - lr: 0.0010 - 8s/epoch - 215ms/step
Epoch 46/50
36/36 - 8s - loss: 0.0043 - accuracy: 0.9729 - val_loss: 0.0582 - val_accuracy: 0.6813 - lr: 0.0010 - 8s/epoch - 215ms/step
Epoch 47/50
36/36 - 8s - loss: 0.0044 - accuracy: 0.9725 - val_loss: 0.0594 - val_accuracy: 0.6720 - lr: 0.0010 - 8s/epoch - 216ms/step
Epoch 48/50
36/36 - 8s - loss: 0.0043 - accuracy: 0.9735 - val_loss: 0.0592 - val_accuracy: 0.6742 - lr: 0.0010 - 8s/epoch - 215ms/step
Epoch 49/50
36/36 - 8s - loss: 0.0043 - accuracy: 0.9730 - val_loss: 0.0569 - val_accuracy: 0.6860 - lr: 0.0010 - 8s/epoch - 215ms/step
Epoch 50/50
36/36 - 8s - loss: 0.0042 - accuracy: 0.9734 - val_loss: 0.0579 - val_accuracy: 0.6802 - lr: 0.0010 - 8s/epoch - 215ms/step
Epoch 1/75
4378/4378 - 76s - loss: 0.0142 - accuracy: 0.9074 - val_loss: 0.0523 - val_accuracy: 0.6966 - lr: 0.0010 - 76s/epoch - 17ms/step
Epoch 2/75
4378/4378 - 74s - loss: 0.0146 - accuracy: 0.9025 - val_loss: 0.0464 - val_accuracy: 0.7218 - lr: 0.0010 - 74s/epoch - 17ms/step
Epoch 3/75
4378/4378 - 74s - loss: 0.0142 - accuracy: 0.9041 - val_loss: 0.0443 - val_accuracy: 0.7378 - lr: 0.0010 - 74s/epoch - 17ms/step
Epoch 4/75
4378/4378 - 74s - loss: 0.0142 - accuracy: 0.9039 - val_loss: 0.0392 - val_accuracy: 0.7643 - lr: 0.0010 - 74s/epoch - 17ms/step
Epoch 5/75
4378/4378 - 74s - loss: 0.0143 - accuracy: 0.9030 - val_loss: 0.0449 - val_accuracy: 0.7298 - lr: 0.0010 - 74s/epoch - 17ms/step
Epoch 6/75
4378/4378 - 74s - loss: 0.0143 - accuracy: 0.9031 - val_loss: 0.0457 - val_accuracy: 0.7204 - lr: 0.0010 - 74s/epoch - 17ms/step
Epoch 7/75
4378/4378 - 73s - loss: 0.0144 - accuracy: 0.9021 - val_loss: 0.0429 - val_accuracy: 0.7373 - lr: 0.0010 - 73s/epoch - 17ms/step
Epoch 8/75
4378/4378 - 74s - loss: 0.0142 - accuracy: 0.9037 - val_loss: 0.0421 - val_accuracy: 0.7379 - lr: 0.0010 - 74s/epoch - 17ms/step
Epoch 9/75
4378/4378 - 74s - loss: 0.0142 - accuracy: 0.9036 - val_loss: 0.0437 - val_accuracy: 0.7363 - lr: 0.0010 - 74s/epoch - 17ms/step
Epoch 10/75
4378/4378 - 73s - loss: 0.0143 - accuracy: 0.9029 - val_loss: 0.0385 - val_accuracy: 0.7627 - lr: 0.0010 - 73s/epoch - 17ms/step
Epoch 11/75
4378/4378 - 73s - loss: 0.0141 - accuracy: 0.9039 - val_loss: 0.0434 - val_accuracy: 0.7367 - lr: 0.0010 - 73s/epoch - 17ms/step
Epoch 12/75
4378/4378 - 74s - loss: 0.0142 - accuracy: 0.9035 - val_loss: 0.0480 - val_accuracy: 0.7104 - lr: 0.0010 - 74s/epoch - 17ms/step
Epoch 13/75
4378/4378 - 73s - loss: 0.0143 - accuracy: 0.9024 - val_loss: 0.0484 - val_accuracy: 0.7022 - lr: 0.0010 - 73s/epoch - 17ms/step
Epoch 14/75
4378/4378 - 74s - loss: 0.0143 - accuracy: 0.9024 - val_loss: 0.0465 - val_accuracy: 0.7157 - lr: 0.0010 - 74s/epoch - 17ms/step
Epoch 15/75
4378/4378 - 74s - loss: 0.0143 - accuracy: 0.9029 - val_loss: 0.0435 - val_accuracy: 0.7329 - lr: 0.0010 - 74s/epoch - 17ms/step
Epoch 16/75
4378/4378 - 74s - loss: 0.0142 - accuracy: 0.9039 - val_loss: 0.0436 - val_accuracy: 0.7338 - lr: 0.0010 - 74s/epoch - 17ms/step
Epoch 17/75
4378/4378 - 74s - loss: 0.0143 - accuracy: 0.9030 - val_loss: 0.0413 - val_accuracy: 0.7486 - lr: 0.0010 - 74s/epoch - 17ms/step
Epoch 18/75
4378/4378 - 74s - loss: 0.0140 - accuracy: 0.9035 - val_loss: 0.0442 - val_accuracy: 0.7265 - lr: 0.0010 - 74s/epoch - 17ms/step
Epoch 19/75
4378/4378 - 74s - loss: 0.0141 - accuracy: 0.9038 - val_loss: 0.0494 - val_accuracy: 0.6959 - lr: 0.0010 - 74s/epoch - 17ms/step
Epoch 20/75
4378/4378 - 74s - loss: 0.0143 - accuracy: 0.9033 - val_loss: 0.0450 - val_accuracy: 0.7221 - lr: 0.0010 - 74s/epoch - 17ms/step
Epoch 21/75
4378/4378 - 74s - loss: 0.0143 - accuracy: 0.9022 - val_loss: 0.0417 - val_accuracy: 0.7439 - lr: 0.0010 - 74s/epoch - 17ms/step
Epoch 22/75
4378/4378 - 73s - loss: 0.0142 - accuracy: 0.9041 - val_loss: 0.0414 - val_accuracy: 0.7444 - lr: 0.0010 - 73s/epoch - 17ms/step
Epoch 23/75
4378/4378 - 74s - loss: 0.0139 - accuracy: 0.9055 - val_loss: 0.0461 - val_accuracy: 0.7172 - lr: 0.0010 - 74s/epoch - 17ms/step
Epoch 24/75
4378/4378 - 74s - loss: 0.0142 - accuracy: 0.9033 - val_loss: 0.0474 - val_accuracy: 0.7080 - lr: 0.0010 - 74s/epoch - 17ms/step
Epoch 25/75
4378/4378 - 73s - loss: 0.0143 - accuracy: 0.9032 - val_loss: 0.0409 - val_accuracy: 0.7505 - lr: 0.0010 - 73s/epoch - 17ms/step
Epoch 26/75
4378/4378 - 74s - loss: 0.0143 - accuracy: 0.9031 - val_loss: 0.0441 - val_accuracy: 0.7280 - lr: 0.0010 - 74s/epoch - 17ms/step
Epoch 27/75
4378/4378 - 74s - loss: 0.0142 - accuracy: 0.9031 - val_loss: 0.0406 - val_accuracy: 0.7494 - lr: 0.0010 - 74s/epoch - 17ms/step
Epoch 28/75
4378/4378 - 73s - loss: 0.0145 - accuracy: 0.9014 - val_loss: 0.0437 - val_accuracy: 0.7305 - lr: 0.0010 - 73s/epoch - 17ms/step
Epoch 29/75
4378/4378 - 74s - loss: 0.0143 - accuracy: 0.9034 - val_loss: 0.0439 - val_accuracy: 0.7265 - lr: 0.0010 - 74s/epoch - 17ms/step
Epoch 30/75
4378/4378 - 73s - loss: 0.0141 - accuracy: 0.9039 - val_loss: 0.0454 - val_accuracy: 0.7167 - lr: 0.0010 - 73s/epoch - 17ms/step
Epoch 31/75
4378/4378 - 73s - loss: 0.0141 - accuracy: 0.9049 - val_loss: 0.0453 - val_accuracy: 0.7223 - lr: 0.0010 - 73s/epoch - 17ms/step
Epoch 32/75
4378/4378 - 73s - loss: 0.0143 - accuracy: 0.9038 - val_loss: 0.0442 - val_accuracy: 0.7291 - lr: 0.0010 - 73s/epoch - 17ms/step
Epoch 33/75
4378/4378 - 74s - loss: 0.0141 - accuracy: 0.9040 - val_loss: 0.0433 - val_accuracy: 0.7343 - lr: 0.0010 - 74s/epoch - 17ms/step
Epoch 34/75
4378/4378 - 74s - loss: 0.0144 - accuracy: 0.9024 - val_loss: 0.0466 - val_accuracy: 0.7107 - lr: 0.0010 - 74s/epoch - 17ms/step
Epoch 35/75
4378/4378 - 74s - loss: 0.0145 - accuracy: 0.9017 - val_loss: 0.0460 - val_accuracy: 0.7137 - lr: 0.0010 - 74s/epoch - 17ms/step
Epoch 36/75
4378/4378 - 74s - loss: 0.0144 - accuracy: 0.9025 - val_loss: 0.0407 - val_accuracy: 0.7479 - lr: 0.0010 - 74s/epoch - 17ms/step
Epoch 37/75
4378/4378 - 73s - loss: 0.0142 - accuracy: 0.9040 - val_loss: 0.0460 - val_accuracy: 0.7193 - lr: 0.0010 - 73s/epoch - 17ms/step
Epoch 38/75
4378/4378 - 73s - loss: 0.0143 - accuracy: 0.9032 - val_loss: 0.0462 - val_accuracy: 0.7175 - lr: 0.0010 - 73s/epoch - 17ms/step
Epoch 39/75
4378/4378 - 73s - loss: 0.0143 - accuracy: 0.9033 - val_loss: 0.0451 - val_accuracy: 0.7219 - lr: 0.0010 - 73s/epoch - 17ms/step
Epoch 40/75
4378/4378 - 73s - loss: 0.0144 - accuracy: 0.9023 - val_loss: 0.0425 - val_accuracy: 0.7418 - lr: 0.0010 - 73s/epoch - 17ms/step
Epoch 41/75
4378/4378 - 73s - loss: 0.0143 - accuracy: 0.9030 - val_loss: 0.0447 - val_accuracy: 0.7272 - lr: 0.0010 - 73s/epoch - 17ms/step
Epoch 42/75
4378/4378 - 73s - loss: 0.0146 - accuracy: 0.9011 - val_loss: 0.0444 - val_accuracy: 0.7248 - lr: 0.0010 - 73s/epoch - 17ms/step
Epoch 43/75
4378/4378 - 73s - loss: 0.0144 - accuracy: 0.9017 - val_loss: 0.0459 - val_accuracy: 0.7162 - lr: 0.0010 - 73s/epoch - 17ms/step
Epoch 44/75
4378/4378 - 73s - loss: 0.0143 - accuracy: 0.9028 - val_loss: 0.0442 - val_accuracy: 0.7276 - lr: 0.0010 - 73s/epoch - 17ms/step
Epoch 45/75
4378/4378 - 73s - loss: 0.0144 - accuracy: 0.9018 - val_loss: 0.0459 - val_accuracy: 0.7191 - lr: 0.0010 - 73s/epoch - 17ms/step
Epoch 46/75
4378/4378 - 73s - loss: 0.0144 - accuracy: 0.9023 - val_loss: 0.0420 - val_accuracy: 0.7389 - lr: 0.0010 - 73s/epoch - 17ms/step
Epoch 47/75
4378/4378 - 73s - loss: 0.0141 - accuracy: 0.9044 - val_loss: 0.0428 - val_accuracy: 0.7379 - lr: 0.0010 - 73s/epoch - 17ms/step
Epoch 48/75
4378/4378 - 73s - loss: 0.0141 - accuracy: 0.9046 - val_loss: 0.0461 - val_accuracy: 0.7216 - lr: 0.0010 - 73s/epoch - 17ms/step
Epoch 49/75
4378/4378 - 73s - loss: 0.0142 - accuracy: 0.9041 - val_loss: 0.0437 - val_accuracy: 0.7369 - lr: 0.0010 - 73s/epoch - 17ms/step
Epoch 50/75
4378/4378 - 73s - loss: 0.0145 - accuracy: 0.9011 - val_loss: 0.0456 - val_accuracy: 0.7180 - lr: 0.0010 - 73s/epoch - 17ms/step
Epoch 51/75
4378/4378 - 73s - loss: 0.0141 - accuracy: 0.9043 - val_loss: 0.0459 - val_accuracy: 0.7212 - lr: 0.0010 - 73s/epoch - 17ms/step
Epoch 52/75
4378/4378 - 73s - loss: 0.0142 - accuracy: 0.9039 - val_loss: 0.0424 - val_accuracy: 0.7396 - lr: 0.0010 - 73s/epoch - 17ms/step
Epoch 53/75
4378/4378 - 74s - loss: 0.0142 - accuracy: 0.9024 - val_loss: 0.0381 - val_accuracy: 0.7638 - lr: 0.0010 - 74s/epoch - 17ms/step
Epoch 54/75
4378/4378 - 74s - loss: 0.0141 - accuracy: 0.9046 - val_loss: 0.0432 - val_accuracy: 0.7333 - lr: 0.0010 - 74s/epoch - 17ms/step
Epoch 55/75
4378/4378 - 73s - loss: 0.0144 - accuracy: 0.9034 - val_loss: 0.0402 - val_accuracy: 0.7563 - lr: 0.0010 - 73s/epoch - 17ms/step
Epoch 56/75
4378/4378 - 73s - loss: 0.0140 - accuracy: 0.9062 - val_loss: 0.0418 - val_accuracy: 0.7428 - lr: 0.0010 - 73s/epoch - 17ms/step
Epoch 57/75
4378/4378 - 73s - loss: 0.0141 - accuracy: 0.9040 - val_loss: 0.0433 - val_accuracy: 0.7302 - lr: 0.0010 - 73s/epoch - 17ms/step
Epoch 58/75
4378/4378 - 74s - loss: 0.0139 - accuracy: 0.9050 - val_loss: 0.0423 - val_accuracy: 0.7426 - lr: 0.0010 - 74s/epoch - 17ms/step
Epoch 59/75
4378/4378 - 73s - loss: 0.0137 - accuracy: 0.9073 - val_loss: 0.0428 - val_accuracy: 0.7394 - lr: 0.0010 - 73s/epoch - 17ms/step
Epoch 60/75
4378/4378 - 74s - loss: 0.0139 - accuracy: 0.9053 - val_loss: 0.0415 - val_accuracy: 0.7463 - lr: 0.0010 - 74s/epoch - 17ms/step
Epoch 61/75
4378/4378 - 73s - loss: 0.0142 - accuracy: 0.9039 - val_loss: 0.0440 - val_accuracy: 0.7321 - lr: 0.0010 - 73s/epoch - 17ms/step
Epoch 62/75
4378/4378 - 73s - loss: 0.0143 - accuracy: 0.9027 - val_loss: 0.0444 - val_accuracy: 0.7329 - lr: 0.0010 - 73s/epoch - 17ms/step
Epoch 63/75
4378/4378 - 73s - loss: 0.0143 - accuracy: 0.9032 - val_loss: 0.0468 - val_accuracy: 0.7102 - lr: 0.0010 - 73s/epoch - 17ms/step
Epoch 64/75
4378/4378 - 73s - loss: 0.0141 - accuracy: 0.9049 - val_loss: 0.0437 - val_accuracy: 0.7304 - lr: 0.0010 - 73s/epoch - 17ms/step
Epoch 65/75
4378/4378 - 73s - loss: 0.0142 - accuracy: 0.9041 - val_loss: 0.0410 - val_accuracy: 0.7449 - lr: 0.0010 - 73s/epoch - 17ms/step
Epoch 66/75
4378/4378 - 73s - loss: 0.0146 - accuracy: 0.9007 - val_loss: 0.0427 - val_accuracy: 0.7419 - lr: 0.0010 - 73s/epoch - 17ms/step
Epoch 67/75
4378/4378 - 73s - loss: 0.0144 - accuracy: 0.9026 - val_loss: 0.0480 - val_accuracy: 0.7064 - lr: 0.0010 - 73s/epoch - 17ms/step
Epoch 68/75
4378/4378 - 73s - loss: 0.0143 - accuracy: 0.9025 - val_loss: 0.0428 - val_accuracy: 0.7320 - lr: 0.0010 - 73s/epoch - 17ms/step
Epoch 69/75
4378/4378 - 74s - loss: 0.0140 - accuracy: 0.9054 - val_loss: 0.0466 - val_accuracy: 0.7097 - lr: 0.0010 - 74s/epoch - 17ms/step
Epoch 70/75
4378/4378 - 73s - loss: 0.0142 - accuracy: 0.9041 - val_loss: 0.0440 - val_accuracy: 0.7279 - lr: 0.0010 - 73s/epoch - 17ms/step
Epoch 71/75
4378/4378 - 73s - loss: 0.0143 - accuracy: 0.9035 - val_loss: 0.0484 - val_accuracy: 0.6968 - lr: 0.0010 - 73s/epoch - 17ms/step
Epoch 72/75
4378/4378 - 74s - loss: 0.0141 - accuracy: 0.9040 - val_loss: 0.0494 - val_accuracy: 0.6965 - lr: 0.0010 - 74s/epoch - 17ms/step
Epoch 73/75
4378/4378 - 73s - loss: 0.0142 - accuracy: 0.9040 - val_loss: 0.0447 - val_accuracy: 0.7280 - lr: 0.0010 - 73s/epoch - 17ms/step
Epoch 74/75
4378/4378 - 73s - loss: 0.0142 - accuracy: 0.9045 - val_loss: 0.0480 - val_accuracy: 0.7079 - lr: 0.0010 - 73s/epoch - 17ms/step
Epoch 75/75
4378/4378 - 73s - loss: 0.0141 - accuracy: 0.9045 - val_loss: 0.0508 - val_accuracy: 0.6860 - lr: 0.0010 - 73s/epoch - 17ms/step
Epoch 1/75
876/876 - 21s - loss: 0.0099 - accuracy: 0.9349 - val_loss: 0.0439 - val_accuracy: 0.7344 - lr: 0.0010 - 21s/epoch - 24ms/step
Epoch 2/75
876/876 - 18s - loss: 0.0100 - accuracy: 0.9337 - val_loss: 0.0490 - val_accuracy: 0.7028 - lr: 0.0010 - 18s/epoch - 21ms/step
Epoch 3/75
876/876 - 18s - loss: 0.0101 - accuracy: 0.9331 - val_loss: 0.0484 - val_accuracy: 0.7088 - lr: 0.0010 - 18s/epoch - 20ms/step
Epoch 4/75
876/876 - 18s - loss: 0.0099 - accuracy: 0.9348 - val_loss: 0.0467 - val_accuracy: 0.7192 - lr: 0.0010 - 18s/epoch - 21ms/step
Epoch 5/75
876/876 - 18s - loss: 0.0097 - accuracy: 0.9355 - val_loss: 0.0537 - val_accuracy: 0.6764 - lr: 0.0010 - 18s/epoch - 20ms/step
Epoch 6/75
876/876 - 18s - loss: 0.0097 - accuracy: 0.9358 - val_loss: 0.0479 - val_accuracy: 0.7133 - lr: 0.0010 - 18s/epoch - 21ms/step
Epoch 7/75
876/876 - 18s - loss: 0.0096 - accuracy: 0.9365 - val_loss: 0.0510 - val_accuracy: 0.6936 - lr: 0.0010 - 18s/epoch - 20ms/step
Epoch 8/75
876/876 - 18s - loss: 0.0096 - accuracy: 0.9366 - val_loss: 0.0490 - val_accuracy: 0.7077 - lr: 0.0010 - 18s/epoch - 21ms/step
Epoch 9/75
876/876 - 18s - loss: 0.0096 - accuracy: 0.9372 - val_loss: 0.0499 - val_accuracy: 0.7026 - lr: 0.0010 - 18s/epoch - 20ms/step
Epoch 10/75
876/876 - 18s - loss: 0.0093 - accuracy: 0.9384 - val_loss: 0.0503 - val_accuracy: 0.7016 - lr: 0.0010 - 18s/epoch - 20ms/step
Epoch 11/75
876/876 - 18s - loss: 0.0092 - accuracy: 0.9394 - val_loss: 0.0483 - val_accuracy: 0.7141 - lr: 0.0010 - 18s/epoch - 20ms/step
Epoch 12/75
876/876 - 18s - loss: 0.0091 - accuracy: 0.9395 - val_loss: 0.0494 - val_accuracy: 0.7091 - lr: 0.0010 - 18s/epoch - 20ms/step
Epoch 13/75
876/876 - 18s - loss: 0.0094 - accuracy: 0.9377 - val_loss: 0.0493 - val_accuracy: 0.7082 - lr: 0.0010 - 18s/epoch - 21ms/step
Epoch 14/75
876/876 - 18s - loss: 0.0094 - accuracy: 0.9383 - val_loss: 0.0498 - val_accuracy: 0.7055 - lr: 0.0010 - 18s/epoch - 20ms/step
Epoch 15/75
876/876 - 18s - loss: 0.0093 - accuracy: 0.9385 - val_loss: 0.0486 - val_accuracy: 0.7137 - lr: 0.0010 - 18s/epoch - 20ms/step
Epoch 16/75
876/876 - 18s - loss: 0.0093 - accuracy: 0.9389 - val_loss: 0.0473 - val_accuracy: 0.7214 - lr: 0.0010 - 18s/epoch - 21ms/step
Epoch 17/75
876/876 - 18s - loss: 0.0093 - accuracy: 0.9397 - val_loss: 0.0480 - val_accuracy: 0.7182 - lr: 0.0010 - 18s/epoch - 21ms/step
Epoch 18/75
876/876 - 18s - loss: 0.0092 - accuracy: 0.9393 - val_loss: 0.0473 - val_accuracy: 0.7211 - lr: 0.0010 - 18s/epoch - 21ms/step
Epoch 19/75
876/876 - 18s - loss: 0.0092 - accuracy: 0.9396 - val_loss: 0.0482 - val_accuracy: 0.7197 - lr: 0.0010 - 18s/epoch - 21ms/step
Epoch 20/75
876/876 - 18s - loss: 0.0090 - accuracy: 0.9403 - val_loss: 0.0497 - val_accuracy: 0.7061 - lr: 0.0010 - 18s/epoch - 21ms/step
Epoch 21/75
876/876 - 18s - loss: 0.0091 - accuracy: 0.9405 - val_loss: 0.0490 - val_accuracy: 0.7123 - lr: 0.0010 - 18s/epoch - 20ms/step
Epoch 22/75
876/876 - 18s - loss: 0.0092 - accuracy: 0.9397 - val_loss: 0.0466 - val_accuracy: 0.7248 - lr: 0.0010 - 18s/epoch - 21ms/step
Epoch 23/75
876/876 - 18s - loss: 0.0093 - accuracy: 0.9389 - val_loss: 0.0467 - val_accuracy: 0.7247 - lr: 0.0010 - 18s/epoch - 21ms/step
Epoch 24/75
876/876 - 18s - loss: 0.0094 - accuracy: 0.9382 - val_loss: 0.0493 - val_accuracy: 0.7107 - lr: 0.0010 - 18s/epoch - 20ms/step
Epoch 25/75
876/876 - 18s - loss: 0.0090 - accuracy: 0.9403 - val_loss: 0.0486 - val_accuracy: 0.7160 - lr: 0.0010 - 18s/epoch - 20ms/step
Epoch 26/75
876/876 - 18s - loss: 0.0091 - accuracy: 0.9406 - val_loss: 0.0524 - val_accuracy: 0.6919 - lr: 0.0010 - 18s/epoch - 21ms/step
Epoch 27/75
876/876 - 18s - loss: 0.0088 - accuracy: 0.9426 - val_loss: 0.0500 - val_accuracy: 0.7061 - lr: 0.0010 - 18s/epoch - 20ms/step
Epoch 28/75
876/876 - 18s - loss: 0.0089 - accuracy: 0.9415 - val_loss: 0.0523 - val_accuracy: 0.6905 - lr: 0.0010 - 18s/epoch - 21ms/step
Epoch 29/75
876/876 - 18s - loss: 0.0088 - accuracy: 0.9423 - val_loss: 0.0545 - val_accuracy: 0.6786 - lr: 0.0010 - 18s/epoch - 20ms/step
Epoch 30/75
876/876 - 18s - loss: 0.0090 - accuracy: 0.9407 - val_loss: 0.0517 - val_accuracy: 0.6961 - lr: 0.0010 - 18s/epoch - 21ms/step
Epoch 31/75
876/876 - 18s - loss: 0.0087 - accuracy: 0.9432 - val_loss: 0.0558 - val_accuracy: 0.6748 - lr: 0.0010 - 18s/epoch - 21ms/step
Epoch 32/75
876/876 - 18s - loss: 0.0089 - accuracy: 0.9419 - val_loss: 0.0518 - val_accuracy: 0.6960 - lr: 0.0010 - 18s/epoch - 21ms/step
Epoch 33/75
876/876 - 18s - loss: 0.0086 - accuracy: 0.9436 - val_loss: 0.0485 - val_accuracy: 0.7161 - lr: 0.0010 - 18s/epoch - 21ms/step
Epoch 34/75
876/876 - 18s - loss: 0.0090 - accuracy: 0.9409 - val_loss: 0.0499 - val_accuracy: 0.7057 - lr: 0.0010 - 18s/epoch - 20ms/step
Epoch 35/75
876/876 - 18s - loss: 0.0089 - accuracy: 0.9415 - val_loss: 0.0456 - val_accuracy: 0.7325 - lr: 0.0010 - 18s/epoch - 21ms/step
Epoch 36/75
876/876 - 18s - loss: 0.0089 - accuracy: 0.9415 - val_loss: 0.0496 - val_accuracy: 0.7108 - lr: 0.0010 - 18s/epoch - 21ms/step
Epoch 37/75
876/876 - 18s - loss: 0.0089 - accuracy: 0.9425 - val_loss: 0.0456 - val_accuracy: 0.7344 - lr: 0.0010 - 18s/epoch - 20ms/step
Epoch 38/75
876/876 - 18s - loss: 0.0092 - accuracy: 0.9396 - val_loss: 0.0482 - val_accuracy: 0.7185 - lr: 0.0010 - 18s/epoch - 21ms/step
Epoch 39/75
876/876 - 18s - loss: 0.0089 - accuracy: 0.9419 - val_loss: 0.0500 - val_accuracy: 0.7088 - lr: 0.0010 - 18s/epoch - 21ms/step
Epoch 40/75
876/876 - 18s - loss: 0.0090 - accuracy: 0.9409 - val_loss: 0.0494 - val_accuracy: 0.7104 - lr: 0.0010 - 18s/epoch - 21ms/step
Epoch 41/75
876/876 - 18s - loss: 0.0088 - accuracy: 0.9423 - val_loss: 0.0555 - val_accuracy: 0.6790 - lr: 0.0010 - 18s/epoch - 21ms/step
Epoch 42/75
876/876 - 18s - loss: 0.0089 - accuracy: 0.9424 - val_loss: 0.0485 - val_accuracy: 0.7158 - lr: 0.0010 - 18s/epoch - 21ms/step
Epoch 43/75
876/876 - 18s - loss: 0.0087 - accuracy: 0.9425 - val_loss: 0.0458 - val_accuracy: 0.7300 - lr: 0.0010 - 18s/epoch - 21ms/step
Epoch 44/75
876/876 - 18s - loss: 0.0089 - accuracy: 0.9412 - val_loss: 0.0508 - val_accuracy: 0.7013 - lr: 0.0010 - 18s/epoch - 21ms/step
Epoch 45/75
876/876 - 18s - loss: 0.0087 - accuracy: 0.9428 - val_loss: 0.0478 - val_accuracy: 0.7188 - lr: 0.0010 - 18s/epoch - 21ms/step
Epoch 46/75
876/876 - 18s - loss: 0.0087 - accuracy: 0.9433 - val_loss: 0.0468 - val_accuracy: 0.7300 - lr: 0.0010 - 18s/epoch - 20ms/step
Epoch 47/75
876/876 - 18s - loss: 0.0089 - accuracy: 0.9420 - val_loss: 0.0510 - val_accuracy: 0.6999 - lr: 0.0010 - 18s/epoch - 20ms/step
Epoch 48/75
876/876 - 18s - loss: 0.0090 - accuracy: 0.9410 - val_loss: 0.0462 - val_accuracy: 0.7285 - lr: 0.0010 - 18s/epoch - 20ms/step
Epoch 49/75
876/876 - 18s - loss: 0.0087 - accuracy: 0.9430 - val_loss: 0.0494 - val_accuracy: 0.7113 - lr: 0.0010 - 18s/epoch - 20ms/step
Epoch 50/75
876/876 - 18s - loss: 0.0087 - accuracy: 0.9430 - val_loss: 0.0497 - val_accuracy: 0.7071 - lr: 0.0010 - 18s/epoch - 21ms/step
Epoch 51/75
876/876 - 18s - loss: 0.0089 - accuracy: 0.9416 - val_loss: 0.0525 - val_accuracy: 0.6935 - lr: 0.0010 - 18s/epoch - 21ms/step
Epoch 52/75
876/876 - 18s - loss: 0.0088 - accuracy: 0.9420 - val_loss: 0.0478 - val_accuracy: 0.7192 - lr: 0.0010 - 18s/epoch - 21ms/step
Epoch 53/75
876/876 - 18s - loss: 0.0086 - accuracy: 0.9431 - val_loss: 0.0503 - val_accuracy: 0.7048 - lr: 0.0010 - 18s/epoch - 20ms/step
Epoch 54/75
876/876 - 18s - loss: 0.0087 - accuracy: 0.9433 - val_loss: 0.0495 - val_accuracy: 0.7123 - lr: 0.0010 - 18s/epoch - 21ms/step
Epoch 55/75
876/876 - 18s - loss: 0.0086 - accuracy: 0.9430 - val_loss: 0.0487 - val_accuracy: 0.7137 - lr: 0.0010 - 18s/epoch - 20ms/step
Epoch 56/75
876/876 - 18s - loss: 0.0086 - accuracy: 0.9440 - val_loss: 0.0499 - val_accuracy: 0.7101 - lr: 0.0010 - 18s/epoch - 20ms/step
Epoch 57/75
876/876 - 18s - loss: 0.0085 - accuracy: 0.9444 - val_loss: 0.0521 - val_accuracy: 0.6986 - lr: 0.0010 - 18s/epoch - 21ms/step
Epoch 58/75
876/876 - 18s - loss: 0.0089 - accuracy: 0.9421 - val_loss: 0.0513 - val_accuracy: 0.7033 - lr: 0.0010 - 18s/epoch - 20ms/step
Epoch 59/75
876/876 - 18s - loss: 0.0087 - accuracy: 0.9430 - val_loss: 0.0545 - val_accuracy: 0.6812 - lr: 0.0010 - 18s/epoch - 20ms/step
Epoch 60/75
876/876 - 18s - loss: 0.0086 - accuracy: 0.9434 - val_loss: 0.0499 - val_accuracy: 0.7085 - lr: 0.0010 - 18s/epoch - 21ms/step
Epoch 61/75
876/876 - 18s - loss: 0.0085 - accuracy: 0.9449 - val_loss: 0.0491 - val_accuracy: 0.7102 - lr: 0.0010 - 18s/epoch - 21ms/step
Epoch 62/75
876/876 - 18s - loss: 0.0087 - accuracy: 0.9433 - val_loss: 0.0524 - val_accuracy: 0.6938 - lr: 0.0010 - 18s/epoch - 21ms/step
Epoch 63/75
876/876 - 18s - loss: 0.0085 - accuracy: 0.9443 - val_loss: 0.0508 - val_accuracy: 0.7029 - lr: 0.0010 - 18s/epoch - 21ms/step
Epoch 64/75
876/876 - 18s - loss: 0.0086 - accuracy: 0.9439 - val_loss: 0.0512 - val_accuracy: 0.7008 - lr: 0.0010 - 18s/epoch - 20ms/step
Epoch 65/75
876/876 - 18s - loss: 0.0085 - accuracy: 0.9444 - val_loss: 0.0467 - val_accuracy: 0.7298 - lr: 0.0010 - 18s/epoch - 20ms/step
Epoch 66/75
876/876 - 18s - loss: 0.0086 - accuracy: 0.9442 - val_loss: 0.0489 - val_accuracy: 0.7152 - lr: 0.0010 - 18s/epoch - 21ms/step
Epoch 67/75
876/876 - 18s - loss: 0.0087 - accuracy: 0.9435 - val_loss: 0.0548 - val_accuracy: 0.6763 - lr: 0.0010 - 18s/epoch - 21ms/step
Epoch 68/75
876/876 - 18s - loss: 0.0087 - accuracy: 0.9429 - val_loss: 0.0510 - val_accuracy: 0.7044 - lr: 0.0010 - 18s/epoch - 21ms/step
Epoch 69/75
876/876 - 18s - loss: 0.0083 - accuracy: 0.9451 - val_loss: 0.0516 - val_accuracy: 0.7023 - lr: 0.0010 - 18s/epoch - 21ms/step
Epoch 70/75
876/876 - 18s - loss: 0.0085 - accuracy: 0.9444 - val_loss: 0.0514 - val_accuracy: 0.7011 - lr: 0.0010 - 18s/epoch - 20ms/step
Epoch 71/75
876/876 - 18s - loss: 0.0086 - accuracy: 0.9439 - val_loss: 0.0498 - val_accuracy: 0.7128 - lr: 0.0010 - 18s/epoch - 21ms/step
Epoch 72/75
876/876 - 18s - loss: 0.0086 - accuracy: 0.9441 - val_loss: 0.0485 - val_accuracy: 0.7185 - lr: 0.0010 - 18s/epoch - 20ms/step
Epoch 73/75
876/876 - 18s - loss: 0.0085 - accuracy: 0.9447 - val_loss: 0.0557 - val_accuracy: 0.6754 - lr: 0.0010 - 18s/epoch - 21ms/step
Epoch 74/75
876/876 - 18s - loss: 0.0084 - accuracy: 0.9452 - val_loss: 0.0521 - val_accuracy: 0.6962 - lr: 0.0010 - 18s/epoch - 21ms/step
Epoch 75/75
876/876 - 18s - loss: 0.0086 - accuracy: 0.9435 - val_loss: 0.0487 - val_accuracy: 0.7180 - lr: 0.0010 - 18s/epoch - 21ms/step
Epoch 1/75
176/176 - 11s - loss: 0.0067 - accuracy: 0.9573 - val_loss: 0.0520 - val_accuracy: 0.6991 - lr: 0.0010 - 11s/epoch - 65ms/step
Epoch 2/75
176/176 - 9s - loss: 0.0058 - accuracy: 0.9636 - val_loss: 0.0511 - val_accuracy: 0.7045 - lr: 0.0010 - 9s/epoch - 51ms/step
Epoch 3/75
176/176 - 9s - loss: 0.0057 - accuracy: 0.9642 - val_loss: 0.0520 - val_accuracy: 0.6995 - lr: 0.0010 - 9s/epoch - 51ms/step
Epoch 4/75
176/176 - 9s - loss: 0.0057 - accuracy: 0.9641 - val_loss: 0.0522 - val_accuracy: 0.7020 - lr: 0.0010 - 9s/epoch - 51ms/step
Epoch 5/75
176/176 - 9s - loss: 0.0055 - accuracy: 0.9653 - val_loss: 0.0524 - val_accuracy: 0.6993 - lr: 0.0010 - 9s/epoch - 51ms/step
Epoch 6/75
176/176 - 9s - loss: 0.0058 - accuracy: 0.9634 - val_loss: 0.0528 - val_accuracy: 0.6974 - lr: 0.0010 - 9s/epoch - 51ms/step
Epoch 7/75
176/176 - 9s - loss: 0.0059 - accuracy: 0.9620 - val_loss: 0.0531 - val_accuracy: 0.6958 - lr: 0.0010 - 9s/epoch - 51ms/step
Epoch 8/75
176/176 - 9s - loss: 0.0059 - accuracy: 0.9627 - val_loss: 0.0532 - val_accuracy: 0.6962 - lr: 0.0010 - 9s/epoch - 51ms/step
Epoch 9/75
176/176 - 9s - loss: 0.0059 - accuracy: 0.9627 - val_loss: 0.0541 - val_accuracy: 0.6905 - lr: 0.0010 - 9s/epoch - 51ms/step
Epoch 10/75
176/176 - 9s - loss: 0.0058 - accuracy: 0.9633 - val_loss: 0.0536 - val_accuracy: 0.6955 - lr: 0.0010 - 9s/epoch - 51ms/step
Epoch 11/75
176/176 - 9s - loss: 0.0059 - accuracy: 0.9629 - val_loss: 0.0519 - val_accuracy: 0.7033 - lr: 0.0010 - 9s/epoch - 51ms/step
Epoch 12/75
176/176 - 9s - loss: 0.0059 - accuracy: 0.9623 - val_loss: 0.0526 - val_accuracy: 0.7006 - lr: 0.0010 - 9s/epoch - 51ms/step
Epoch 13/75
176/176 - 9s - loss: 0.0060 - accuracy: 0.9623 - val_loss: 0.0524 - val_accuracy: 0.7045 - lr: 0.0010 - 9s/epoch - 51ms/step
Epoch 14/75
176/176 - 9s - loss: 0.0060 - accuracy: 0.9623 - val_loss: 0.0511 - val_accuracy: 0.7104 - lr: 0.0010 - 9s/epoch - 51ms/step
Epoch 15/75
176/176 - 9s - loss: 0.0061 - accuracy: 0.9609 - val_loss: 0.0511 - val_accuracy: 0.7101 - lr: 0.0010 - 9s/epoch - 51ms/step
Epoch 16/75
176/176 - 9s - loss: 0.0059 - accuracy: 0.9623 - val_loss: 0.0508 - val_accuracy: 0.7109 - lr: 0.0010 - 9s/epoch - 51ms/step
Epoch 17/75
176/176 - 9s - loss: 0.0060 - accuracy: 0.9616 - val_loss: 0.0515 - val_accuracy: 0.7099 - lr: 0.0010 - 9s/epoch - 51ms/step
Epoch 18/75
176/176 - 9s - loss: 0.0060 - accuracy: 0.9621 - val_loss: 0.0542 - val_accuracy: 0.6933 - lr: 0.0010 - 9s/epoch - 51ms/step
Epoch 19/75
176/176 - 9s - loss: 0.0060 - accuracy: 0.9621 - val_loss: 0.0568 - val_accuracy: 0.6765 - lr: 0.0010 - 9s/epoch - 51ms/step
Epoch 20/75
176/176 - 9s - loss: 0.0059 - accuracy: 0.9626 - val_loss: 0.0541 - val_accuracy: 0.6920 - lr: 0.0010 - 9s/epoch - 51ms/step
Epoch 21/75
176/176 - 9s - loss: 0.0060 - accuracy: 0.9617 - val_loss: 0.0557 - val_accuracy: 0.6828 - lr: 0.0010 - 9s/epoch - 51ms/step
Epoch 22/75
176/176 - 9s - loss: 0.0061 - accuracy: 0.9615 - val_loss: 0.0558 - val_accuracy: 0.6832 - lr: 0.0010 - 9s/epoch - 51ms/step
Epoch 23/75
176/176 - 9s - loss: 0.0058 - accuracy: 0.9636 - val_loss: 0.0527 - val_accuracy: 0.6998 - lr: 0.0010 - 9s/epoch - 51ms/step
Epoch 24/75
176/176 - 9s - loss: 0.0058 - accuracy: 0.9636 - val_loss: 0.0555 - val_accuracy: 0.6845 - lr: 0.0010 - 9s/epoch - 51ms/step
Epoch 25/75
176/176 - 9s - loss: 0.0058 - accuracy: 0.9637 - val_loss: 0.0550 - val_accuracy: 0.6866 - lr: 0.0010 - 9s/epoch - 51ms/step
Epoch 26/75
176/176 - 9s - loss: 0.0060 - accuracy: 0.9619 - val_loss: 0.0528 - val_accuracy: 0.7025 - lr: 0.0010 - 9s/epoch - 51ms/step
Epoch 27/75
176/176 - 9s - loss: 0.0058 - accuracy: 0.9633 - val_loss: 0.0553 - val_accuracy: 0.6854 - lr: 0.0010 - 9s/epoch - 51ms/step
Epoch 28/75
176/176 - 9s - loss: 0.0058 - accuracy: 0.9633 - val_loss: 0.0540 - val_accuracy: 0.6953 - lr: 0.0010 - 9s/epoch - 51ms/step
Epoch 29/75
176/176 - 9s - loss: 0.0058 - accuracy: 0.9637 - val_loss: 0.0543 - val_accuracy: 0.6933 - lr: 0.0010 - 9s/epoch - 51ms/step
Epoch 30/75
176/176 - 9s - loss: 0.0057 - accuracy: 0.9645 - val_loss: 0.0558 - val_accuracy: 0.6834 - lr: 0.0010 - 9s/epoch - 51ms/step
Epoch 31/75
176/176 - 9s - loss: 0.0058 - accuracy: 0.9639 - val_loss: 0.0580 - val_accuracy: 0.6729 - lr: 0.0010 - 9s/epoch - 51ms/step
Epoch 32/75
176/176 - 9s - loss: 0.0056 - accuracy: 0.9646 - val_loss: 0.0547 - val_accuracy: 0.6919 - lr: 0.0010 - 9s/epoch - 51ms/step
Epoch 33/75
176/176 - 9s - loss: 0.0057 - accuracy: 0.9640 - val_loss: 0.0551 - val_accuracy: 0.6879 - lr: 0.0010 - 9s/epoch - 51ms/step
Epoch 34/75
176/176 - 9s - loss: 0.0058 - accuracy: 0.9636 - val_loss: 0.0539 - val_accuracy: 0.6950 - lr: 0.0010 - 9s/epoch - 51ms/step
Epoch 35/75
176/176 - 9s - loss: 0.0058 - accuracy: 0.9635 - val_loss: 0.0557 - val_accuracy: 0.6831 - lr: 0.0010 - 9s/epoch - 51ms/step
Epoch 36/75
176/176 - 9s - loss: 0.0059 - accuracy: 0.9626 - val_loss: 0.0551 - val_accuracy: 0.6895 - lr: 0.0010 - 9s/epoch - 51ms/step
Epoch 37/75
176/176 - 9s - loss: 0.0059 - accuracy: 0.9624 - val_loss: 0.0535 - val_accuracy: 0.6981 - lr: 0.0010 - 9s/epoch - 51ms/step
Epoch 38/75
176/176 - 9s - loss: 0.0058 - accuracy: 0.9639 - val_loss: 0.0561 - val_accuracy: 0.6831 - lr: 0.0010 - 9s/epoch - 51ms/step
Epoch 39/75
176/176 - 9s - loss: 0.0057 - accuracy: 0.9643 - val_loss: 0.0553 - val_accuracy: 0.6870 - lr: 0.0010 - 9s/epoch - 51ms/step
Epoch 40/75
176/176 - 9s - loss: 0.0057 - accuracy: 0.9639 - val_loss: 0.0548 - val_accuracy: 0.6908 - lr: 0.0010 - 9s/epoch - 51ms/step
Epoch 41/75
176/176 - 9s - loss: 0.0058 - accuracy: 0.9635 - val_loss: 0.0564 - val_accuracy: 0.6801 - lr: 0.0010 - 9s/epoch - 51ms/step
Epoch 42/75
176/176 - 9s - loss: 0.0057 - accuracy: 0.9641 - val_loss: 0.0551 - val_accuracy: 0.6892 - lr: 0.0010 - 9s/epoch - 51ms/step
Epoch 43/75
176/176 - 9s - loss: 0.0058 - accuracy: 0.9635 - val_loss: 0.0541 - val_accuracy: 0.6934 - lr: 0.0010 - 9s/epoch - 51ms/step
Epoch 44/75
176/176 - 9s - loss: 0.0057 - accuracy: 0.9642 - val_loss: 0.0567 - val_accuracy: 0.6786 - lr: 0.0010 - 9s/epoch - 51ms/step
Epoch 45/75
176/176 - 9s - loss: 0.0055 - accuracy: 0.9651 - val_loss: 0.0560 - val_accuracy: 0.6857 - lr: 0.0010 - 9s/epoch - 51ms/step
Epoch 46/75
176/176 - 9s - loss: 0.0053 - accuracy: 0.9666 - val_loss: 0.0553 - val_accuracy: 0.6895 - lr: 0.0010 - 9s/epoch - 51ms/step
Epoch 47/75
176/176 - 9s - loss: 0.0056 - accuracy: 0.9650 - val_loss: 0.0538 - val_accuracy: 0.6978 - lr: 0.0010 - 9s/epoch - 51ms/step
Epoch 48/75
176/176 - 9s - loss: 0.0054 - accuracy: 0.9665 - val_loss: 0.0553 - val_accuracy: 0.6893 - lr: 0.0010 - 9s/epoch - 51ms/step
Epoch 49/75
176/176 - 9s - loss: 0.0055 - accuracy: 0.9655 - val_loss: 0.0543 - val_accuracy: 0.6961 - lr: 0.0010 - 9s/epoch - 51ms/step
Epoch 50/75
176/176 - 9s - loss: 0.0054 - accuracy: 0.9657 - val_loss: 0.0535 - val_accuracy: 0.6986 - lr: 0.0010 - 9s/epoch - 51ms/step
Epoch 51/75
176/176 - 9s - loss: 0.0057 - accuracy: 0.9645 - val_loss: 0.0515 - val_accuracy: 0.7120 - lr: 0.0010 - 9s/epoch - 51ms/step
Epoch 52/75
176/176 - 9s - loss: 0.0057 - accuracy: 0.9640 - val_loss: 0.0546 - val_accuracy: 0.6944 - lr: 0.0010 - 9s/epoch - 51ms/step
Epoch 53/75
176/176 - 9s - loss: 0.0058 - accuracy: 0.9637 - val_loss: 0.0545 - val_accuracy: 0.6924 - lr: 0.0010 - 9s/epoch - 51ms/step
Epoch 54/75
176/176 - 9s - loss: 0.0058 - accuracy: 0.9632 - val_loss: 0.0581 - val_accuracy: 0.6727 - lr: 0.0010 - 9s/epoch - 51ms/step
Epoch 55/75
176/176 - 9s - loss: 0.0058 - accuracy: 0.9635 - val_loss: 0.0559 - val_accuracy: 0.6873 - lr: 0.0010 - 9s/epoch - 51ms/step
Epoch 56/75
176/176 - 9s - loss: 0.0058 - accuracy: 0.9633 - val_loss: 0.0553 - val_accuracy: 0.6886 - lr: 0.0010 - 9s/epoch - 51ms/step
Epoch 57/75
176/176 - 9s - loss: 0.0059 - accuracy: 0.9632 - val_loss: 0.0564 - val_accuracy: 0.6844 - lr: 0.0010 - 9s/epoch - 51ms/step
Epoch 58/75
176/176 - 9s - loss: 0.0056 - accuracy: 0.9649 - val_loss: 0.0587 - val_accuracy: 0.6699 - lr: 0.0010 - 9s/epoch - 51ms/step
Epoch 59/75
176/176 - 9s - loss: 0.0056 - accuracy: 0.9649 - val_loss: 0.0554 - val_accuracy: 0.6902 - lr: 0.0010 - 9s/epoch - 51ms/step
Epoch 60/75
176/176 - 9s - loss: 0.0055 - accuracy: 0.9656 - val_loss: 0.0558 - val_accuracy: 0.6847 - lr: 0.0010 - 9s/epoch - 51ms/step
Epoch 61/75
176/176 - 9s - loss: 0.0054 - accuracy: 0.9655 - val_loss: 0.0553 - val_accuracy: 0.6886 - lr: 0.0010 - 9s/epoch - 51ms/step
Epoch 62/75
176/176 - 9s - loss: 0.0054 - accuracy: 0.9657 - val_loss: 0.0565 - val_accuracy: 0.6823 - lr: 0.0010 - 9s/epoch - 51ms/step
Epoch 63/75
176/176 - 9s - loss: 0.0056 - accuracy: 0.9645 - val_loss: 0.0587 - val_accuracy: 0.6689 - lr: 0.0010 - 9s/epoch - 51ms/step
Epoch 64/75
176/176 - 9s - loss: 0.0054 - accuracy: 0.9659 - val_loss: 0.0544 - val_accuracy: 0.6941 - lr: 0.0010 - 9s/epoch - 51ms/step
Epoch 65/75
176/176 - 9s - loss: 0.0053 - accuracy: 0.9666 - val_loss: 0.0577 - val_accuracy: 0.6756 - lr: 0.0010 - 9s/epoch - 51ms/step
Epoch 66/75
176/176 - 9s - loss: 0.0055 - accuracy: 0.9655 - val_loss: 0.0563 - val_accuracy: 0.6848 - lr: 0.0010 - 9s/epoch - 51ms/step
Epoch 67/75
176/176 - 9s - loss: 0.0055 - accuracy: 0.9657 - val_loss: 0.0533 - val_accuracy: 0.7020 - lr: 0.0010 - 9s/epoch - 51ms/step
Epoch 68/75
176/176 - 9s - loss: 0.0054 - accuracy: 0.9666 - val_loss: 0.0550 - val_accuracy: 0.6921 - lr: 0.0010 - 9s/epoch - 51ms/step
Epoch 69/75
176/176 - 9s - loss: 0.0055 - accuracy: 0.9653 - val_loss: 0.0558 - val_accuracy: 0.6869 - lr: 0.0010 - 9s/epoch - 51ms/step
Epoch 70/75
176/176 - 9s - loss: 0.0056 - accuracy: 0.9647 - val_loss: 0.0531 - val_accuracy: 0.7040 - lr: 0.0010 - 9s/epoch - 51ms/step
Epoch 71/75
176/176 - 9s - loss: 0.0054 - accuracy: 0.9668 - val_loss: 0.0578 - val_accuracy: 0.6760 - lr: 0.0010 - 9s/epoch - 51ms/step
Epoch 72/75
176/176 - 9s - loss: 0.0054 - accuracy: 0.9657 - val_loss: 0.0554 - val_accuracy: 0.6894 - lr: 0.0010 - 9s/epoch - 51ms/step
Epoch 73/75
176/176 - 9s - loss: 0.0055 - accuracy: 0.9658 - val_loss: 0.0551 - val_accuracy: 0.6912 - lr: 0.0010 - 9s/epoch - 51ms/step
Epoch 74/75
176/176 - 9s - loss: 0.0055 - accuracy: 0.9653 - val_loss: 0.0564 - val_accuracy: 0.6832 - lr: 0.0010 - 9s/epoch - 51ms/step
Epoch 75/75
176/176 - 9s - loss: 0.0055 - accuracy: 0.9652 - val_loss: 0.0577 - val_accuracy: 0.6758 - lr: 0.0010 - 9s/epoch - 51ms/step
Epoch 1/75
36/36 - 10s - loss: 0.0052 - accuracy: 0.9676 - val_loss: 0.0579 - val_accuracy: 0.6759 - lr: 0.0010 - 10s/epoch - 283ms/step
Epoch 2/75
36/36 - 8s - loss: 0.0047 - accuracy: 0.9711 - val_loss: 0.0582 - val_accuracy: 0.6758 - lr: 0.0010 - 8s/epoch - 214ms/step
Epoch 3/75
36/36 - 8s - loss: 0.0045 - accuracy: 0.9721 - val_loss: 0.0583 - val_accuracy: 0.6749 - lr: 0.0010 - 8s/epoch - 214ms/step
Epoch 4/75
36/36 - 8s - loss: 0.0047 - accuracy: 0.9709 - val_loss: 0.0578 - val_accuracy: 0.6773 - lr: 0.0010 - 8s/epoch - 214ms/step
Epoch 5/75
36/36 - 8s - loss: 0.0045 - accuracy: 0.9720 - val_loss: 0.0579 - val_accuracy: 0.6782 - lr: 0.0010 - 8s/epoch - 214ms/step
Epoch 6/75
36/36 - 8s - loss: 0.0044 - accuracy: 0.9730 - val_loss: 0.0575 - val_accuracy: 0.6801 - lr: 0.0010 - 8s/epoch - 215ms/step
Epoch 7/75
36/36 - 8s - loss: 0.0042 - accuracy: 0.9743 - val_loss: 0.0587 - val_accuracy: 0.6742 - lr: 0.0010 - 8s/epoch - 216ms/step
Epoch 8/75
36/36 - 8s - loss: 0.0043 - accuracy: 0.9739 - val_loss: 0.0580 - val_accuracy: 0.6773 - lr: 0.0010 - 8s/epoch - 215ms/step
Epoch 9/75
36/36 - 8s - loss: 0.0043 - accuracy: 0.9738 - val_loss: 0.0575 - val_accuracy: 0.6801 - lr: 0.0010 - 8s/epoch - 215ms/step
Epoch 10/75
36/36 - 8s - loss: 0.0043 - accuracy: 0.9732 - val_loss: 0.0587 - val_accuracy: 0.6728 - lr: 0.0010 - 8s/epoch - 215ms/step
Epoch 11/75
36/36 - 8s - loss: 0.0045 - accuracy: 0.9725 - val_loss: 0.0585 - val_accuracy: 0.6755 - lr: 0.0010 - 8s/epoch - 215ms/step
Epoch 12/75
36/36 - 8s - loss: 0.0044 - accuracy: 0.9727 - val_loss: 0.0585 - val_accuracy: 0.6745 - lr: 0.0010 - 8s/epoch - 215ms/step
Epoch 13/75
36/36 - 8s - loss: 0.0043 - accuracy: 0.9739 - val_loss: 0.0580 - val_accuracy: 0.6781 - lr: 0.0010 - 8s/epoch - 215ms/step
Epoch 14/75
36/36 - 8s - loss: 0.0043 - accuracy: 0.9733 - val_loss: 0.0584 - val_accuracy: 0.6751 - lr: 0.0010 - 8s/epoch - 215ms/step
Epoch 15/75
36/36 - 8s - loss: 0.0042 - accuracy: 0.9741 - val_loss: 0.0589 - val_accuracy: 0.6723 - lr: 0.0010 - 8s/epoch - 215ms/step
Epoch 16/75
36/36 - 8s - loss: 0.0043 - accuracy: 0.9735 - val_loss: 0.0582 - val_accuracy: 0.6757 - lr: 0.0010 - 8s/epoch - 215ms/step
Epoch 17/75
36/36 - 8s - loss: 0.0043 - accuracy: 0.9738 - val_loss: 0.0583 - val_accuracy: 0.6748 - lr: 0.0010 - 8s/epoch - 214ms/step
Epoch 18/75
36/36 - 8s - loss: 0.0043 - accuracy: 0.9737 - val_loss: 0.0589 - val_accuracy: 0.6722 - lr: 0.0010 - 8s/epoch - 215ms/step
Epoch 19/75
36/36 - 8s - loss: 0.0044 - accuracy: 0.9730 - val_loss: 0.0583 - val_accuracy: 0.6762 - lr: 0.0010 - 8s/epoch - 216ms/step
Epoch 20/75
36/36 - 8s - loss: 0.0042 - accuracy: 0.9745 - val_loss: 0.0586 - val_accuracy: 0.6753 - lr: 0.0010 - 8s/epoch - 215ms/step
Epoch 21/75
36/36 - 8s - loss: 0.0041 - accuracy: 0.9749 - val_loss: 0.0586 - val_accuracy: 0.6735 - lr: 0.0010 - 8s/epoch - 215ms/step
Epoch 22/75
36/36 - 8s - loss: 0.0041 - accuracy: 0.9744 - val_loss: 0.0579 - val_accuracy: 0.6771 - lr: 0.0010 - 8s/epoch - 215ms/step
Epoch 23/75
36/36 - 8s - loss: 0.0040 - accuracy: 0.9750 - val_loss: 0.0591 - val_accuracy: 0.6718 - lr: 0.0010 - 8s/epoch - 215ms/step
Epoch 24/75
36/36 - 8s - loss: 0.0040 - accuracy: 0.9752 - val_loss: 0.0580 - val_accuracy: 0.6772 - lr: 0.0010 - 8s/epoch - 215ms/step
Epoch 25/75
36/36 - 8s - loss: 0.0042 - accuracy: 0.9746 - val_loss: 0.0585 - val_accuracy: 0.6754 - lr: 0.0010 - 8s/epoch - 216ms/step
Epoch 26/75
36/36 - 8s - loss: 0.0043 - accuracy: 0.9737 - val_loss: 0.0595 - val_accuracy: 0.6704 - lr: 0.0010 - 8s/epoch - 215ms/step
Epoch 27/75
36/36 - 8s - loss: 0.0041 - accuracy: 0.9746 - val_loss: 0.0584 - val_accuracy: 0.6756 - lr: 0.0010 - 8s/epoch - 215ms/step
Epoch 28/75
36/36 - 8s - loss: 0.0040 - accuracy: 0.9752 - val_loss: 0.0596 - val_accuracy: 0.6691 - lr: 0.0010 - 8s/epoch - 215ms/step
Epoch 29/75
36/36 - 8s - loss: 0.0041 - accuracy: 0.9748 - val_loss: 0.0591 - val_accuracy: 0.6721 - lr: 0.0010 - 8s/epoch - 215ms/step
Epoch 30/75
36/36 - 8s - loss: 0.0041 - accuracy: 0.9753 - val_loss: 0.0586 - val_accuracy: 0.6749 - lr: 0.0010 - 8s/epoch - 215ms/step
Epoch 31/75
36/36 - 8s - loss: 0.0040 - accuracy: 0.9755 - val_loss: 0.0585 - val_accuracy: 0.6764 - lr: 0.0010 - 8s/epoch - 215ms/step
Epoch 32/75
36/36 - 8s - loss: 0.0043 - accuracy: 0.9736 - val_loss: 0.0585 - val_accuracy: 0.6755 - lr: 0.0010 - 8s/epoch - 215ms/step
Epoch 33/75
36/36 - 8s - loss: 0.0041 - accuracy: 0.9748 - val_loss: 0.0580 - val_accuracy: 0.6784 - lr: 0.0010 - 8s/epoch - 215ms/step
Epoch 34/75
36/36 - 8s - loss: 0.0042 - accuracy: 0.9742 - val_loss: 0.0574 - val_accuracy: 0.6825 - lr: 0.0010 - 8s/epoch - 216ms/step
Epoch 35/75
36/36 - 8s - loss: 0.0041 - accuracy: 0.9748 - val_loss: 0.0577 - val_accuracy: 0.6796 - lr: 0.0010 - 8s/epoch - 215ms/step
Epoch 36/75
36/36 - 8s - loss: 0.0040 - accuracy: 0.9759 - val_loss: 0.0588 - val_accuracy: 0.6731 - lr: 0.0010 - 8s/epoch - 215ms/step
Epoch 37/75
36/36 - 8s - loss: 0.0039 - accuracy: 0.9766 - val_loss: 0.0582 - val_accuracy: 0.6771 - lr: 0.0010 - 8s/epoch - 215ms/step
Epoch 38/75
36/36 - 8s - loss: 0.0041 - accuracy: 0.9746 - val_loss: 0.0586 - val_accuracy: 0.6754 - lr: 0.0010 - 8s/epoch - 215ms/step
Epoch 39/75
36/36 - 8s - loss: 0.0041 - accuracy: 0.9748 - val_loss: 0.0576 - val_accuracy: 0.6813 - lr: 0.0010 - 8s/epoch - 215ms/step
Epoch 40/75
36/36 - 8s - loss: 0.0039 - accuracy: 0.9761 - val_loss: 0.0587 - val_accuracy: 0.6759 - lr: 0.0010 - 8s/epoch - 215ms/step
Epoch 41/75
36/36 - 8s - loss: 0.0041 - accuracy: 0.9749 - val_loss: 0.0580 - val_accuracy: 0.6774 - lr: 0.0010 - 8s/epoch - 215ms/step
Epoch 42/75
36/36 - 8s - loss: 0.0041 - accuracy: 0.9747 - val_loss: 0.0586 - val_accuracy: 0.6747 - lr: 0.0010 - 8s/epoch - 215ms/step
Epoch 43/75
36/36 - 8s - loss: 0.0041 - accuracy: 0.9752 - val_loss: 0.0585 - val_accuracy: 0.6760 - lr: 0.0010 - 8s/epoch - 215ms/step
Epoch 44/75
36/36 - 8s - loss: 0.0040 - accuracy: 0.9754 - val_loss: 0.0588 - val_accuracy: 0.6738 - lr: 0.0010 - 8s/epoch - 215ms/step
Epoch 45/75
36/36 - 8s - loss: 0.0040 - accuracy: 0.9753 - val_loss: 0.0597 - val_accuracy: 0.6691 - lr: 0.0010 - 8s/epoch - 215ms/step
Epoch 46/75
36/36 - 8s - loss: 0.0041 - accuracy: 0.9750 - val_loss: 0.0590 - val_accuracy: 0.6727 - lr: 0.0010 - 8s/epoch - 215ms/step
Epoch 47/75
36/36 - 8s - loss: 0.0040 - accuracy: 0.9755 - val_loss: 0.0588 - val_accuracy: 0.6731 - lr: 0.0010 - 8s/epoch - 215ms/step
Epoch 48/75
36/36 - 8s - loss: 0.0040 - accuracy: 0.9751 - val_loss: 0.0585 - val_accuracy: 0.6767 - lr: 0.0010 - 8s/epoch - 216ms/step
Epoch 49/75
36/36 - 8s - loss: 0.0041 - accuracy: 0.9750 - val_loss: 0.0593 - val_accuracy: 0.6706 - lr: 0.0010 - 8s/epoch - 215ms/step
Epoch 50/75
36/36 - 8s - loss: 0.0040 - accuracy: 0.9756 - val_loss: 0.0578 - val_accuracy: 0.6812 - lr: 0.0010 - 8s/epoch - 215ms/step
Epoch 51/75
36/36 - 8s - loss: 0.0041 - accuracy: 0.9748 - val_loss: 0.0581 - val_accuracy: 0.6781 - lr: 0.0010 - 8s/epoch - 216ms/step
Epoch 52/75
36/36 - 8s - loss: 0.0042 - accuracy: 0.9748 - val_loss: 0.0588 - val_accuracy: 0.6734 - lr: 0.0010 - 8s/epoch - 215ms/step
Epoch 53/75
36/36 - 8s - loss: 0.0040 - accuracy: 0.9757 - val_loss: 0.0589 - val_accuracy: 0.6731 - lr: 0.0010 - 8s/epoch - 215ms/step
Epoch 54/75
36/36 - 8s - loss: 0.0041 - accuracy: 0.9752 - val_loss: 0.0596 - val_accuracy: 0.6698 - lr: 0.0010 - 8s/epoch - 214ms/step
Epoch 55/75
36/36 - 8s - loss: 0.0041 - accuracy: 0.9751 - val_loss: 0.0593 - val_accuracy: 0.6719 - lr: 0.0010 - 8s/epoch - 215ms/step
Epoch 56/75
36/36 - 8s - loss: 0.0041 - accuracy: 0.9746 - val_loss: 0.0591 - val_accuracy: 0.6720 - lr: 0.0010 - 8s/epoch - 215ms/step
Epoch 57/75
36/36 - 8s - loss: 0.0041 - accuracy: 0.9751 - val_loss: 0.0603 - val_accuracy: 0.6650 - lr: 0.0010 - 8s/epoch - 215ms/step
Epoch 58/75
36/36 - 8s - loss: 0.0039 - accuracy: 0.9758 - val_loss: 0.0600 - val_accuracy: 0.6677 - lr: 0.0010 - 8s/epoch - 215ms/step
Epoch 59/75
36/36 - 8s - loss: 0.0042 - accuracy: 0.9741 - val_loss: 0.0600 - val_accuracy: 0.6678 - lr: 0.0010 - 8s/epoch - 215ms/step
Epoch 60/75
36/36 - 8s - loss: 0.0041 - accuracy: 0.9747 - val_loss: 0.0597 - val_accuracy: 0.6696 - lr: 0.0010 - 8s/epoch - 216ms/step
Epoch 61/75
36/36 - 8s - loss: 0.0042 - accuracy: 0.9743 - val_loss: 0.0588 - val_accuracy: 0.6745 - lr: 0.0010 - 8s/epoch - 215ms/step
Epoch 62/75
36/36 - 8s - loss: 0.0041 - accuracy: 0.9751 - val_loss: 0.0592 - val_accuracy: 0.6709 - lr: 0.0010 - 8s/epoch - 216ms/step
Epoch 63/75
36/36 - 8s - loss: 0.0040 - accuracy: 0.9759 - val_loss: 0.0593 - val_accuracy: 0.6718 - lr: 0.0010 - 8s/epoch - 215ms/step
Epoch 64/75
36/36 - 8s - loss: 0.0039 - accuracy: 0.9760 - val_loss: 0.0594 - val_accuracy: 0.6702 - lr: 0.0010 - 8s/epoch - 215ms/step
Epoch 65/75
36/36 - 8s - loss: 0.0040 - accuracy: 0.9754 - val_loss: 0.0585 - val_accuracy: 0.6759 - lr: 0.0010 - 8s/epoch - 214ms/step
Epoch 66/75
36/36 - 8s - loss: 0.0040 - accuracy: 0.9759 - val_loss: 0.0595 - val_accuracy: 0.6709 - lr: 0.0010 - 8s/epoch - 215ms/step
Epoch 67/75
36/36 - 8s - loss: 0.0039 - accuracy: 0.9760 - val_loss: 0.0593 - val_accuracy: 0.6718 - lr: 0.0010 - 8s/epoch - 215ms/step
Epoch 68/75
36/36 - 8s - loss: 0.0038 - accuracy: 0.9765 - val_loss: 0.0600 - val_accuracy: 0.6681 - lr: 0.0010 - 8s/epoch - 215ms/step
Epoch 69/75
36/36 - 8s - loss: 0.0042 - accuracy: 0.9740 - val_loss: 0.0599 - val_accuracy: 0.6675 - lr: 0.0010 - 8s/epoch - 215ms/step
Epoch 70/75
36/36 - 8s - loss: 0.0041 - accuracy: 0.9749 - val_loss: 0.0589 - val_accuracy: 0.6734 - lr: 0.0010 - 8s/epoch - 215ms/step
Epoch 71/75
36/36 - 8s - loss: 0.0039 - accuracy: 0.9762 - val_loss: 0.0592 - val_accuracy: 0.6722 - lr: 0.0010 - 8s/epoch - 215ms/step
Epoch 72/75
36/36 - 8s - loss: 0.0039 - accuracy: 0.9760 - val_loss: 0.0598 - val_accuracy: 0.6676 - lr: 0.0010 - 8s/epoch - 215ms/step
Epoch 73/75
36/36 - 8s - loss: 0.0040 - accuracy: 0.9756 - val_loss: 0.0597 - val_accuracy: 0.6697 - lr: 0.0010 - 8s/epoch - 215ms/step
Epoch 74/75
36/36 - 8s - loss: 0.0042 - accuracy: 0.9738 - val_loss: 0.0582 - val_accuracy: 0.6788 - lr: 0.0010 - 8s/epoch - 215ms/step
Epoch 75/75
36/36 - 8s - loss: 0.0040 - accuracy: 0.9756 - val_loss: 0.0587 - val_accuracy: 0.6772 - lr: 0.0010 - 8s/epoch - 215ms/step
Epoch 1/100
4378/4378 - 76s - loss: 0.0126 - accuracy: 0.9191 - val_loss: 0.0518 - val_accuracy: 0.7003 - lr: 0.0010 - 76s/epoch - 17ms/step
Epoch 2/100
4378/4378 - 74s - loss: 0.0136 - accuracy: 0.9103 - val_loss: 0.0494 - val_accuracy: 0.7063 - lr: 0.0010 - 74s/epoch - 17ms/step
Epoch 3/100
4378/4378 - 74s - loss: 0.0138 - accuracy: 0.9077 - val_loss: 0.0475 - val_accuracy: 0.7167 - lr: 0.0010 - 74s/epoch - 17ms/step
Epoch 4/100
4378/4378 - 74s - loss: 0.0136 - accuracy: 0.9087 - val_loss: 0.0450 - val_accuracy: 0.7331 - lr: 0.0010 - 74s/epoch - 17ms/step
Epoch 5/100
4378/4378 - 74s - loss: 0.0138 - accuracy: 0.9073 - val_loss: 0.0421 - val_accuracy: 0.7466 - lr: 0.0010 - 74s/epoch - 17ms/step
Epoch 6/100
4378/4378 - 74s - loss: 0.0139 - accuracy: 0.9059 - val_loss: 0.0465 - val_accuracy: 0.7190 - lr: 0.0010 - 74s/epoch - 17ms/step
Epoch 7/100
4378/4378 - 74s - loss: 0.0134 - accuracy: 0.9106 - val_loss: 0.0452 - val_accuracy: 0.7248 - lr: 0.0010 - 74s/epoch - 17ms/step
Epoch 8/100
4378/4378 - 74s - loss: 0.0138 - accuracy: 0.9072 - val_loss: 0.0476 - val_accuracy: 0.7119 - lr: 0.0010 - 74s/epoch - 17ms/step
Epoch 9/100
4378/4378 - 74s - loss: 0.0140 - accuracy: 0.9045 - val_loss: 0.0418 - val_accuracy: 0.7491 - lr: 0.0010 - 74s/epoch - 17ms/step
Epoch 10/100
4378/4378 - 74s - loss: 0.0137 - accuracy: 0.9077 - val_loss: 0.0401 - val_accuracy: 0.7558 - lr: 0.0010 - 74s/epoch - 17ms/step
Epoch 11/100
4378/4378 - 74s - loss: 0.0136 - accuracy: 0.9085 - val_loss: 0.0444 - val_accuracy: 0.7258 - lr: 0.0010 - 74s/epoch - 17ms/step
Epoch 12/100
4378/4378 - 74s - loss: 0.0136 - accuracy: 0.9081 - val_loss: 0.0485 - val_accuracy: 0.7024 - lr: 0.0010 - 74s/epoch - 17ms/step
Epoch 13/100
4378/4378 - 74s - loss: 0.0140 - accuracy: 0.9058 - val_loss: 0.0478 - val_accuracy: 0.7052 - lr: 0.0010 - 74s/epoch - 17ms/step
Epoch 14/100
4378/4378 - 74s - loss: 0.0138 - accuracy: 0.9065 - val_loss: 0.0502 - val_accuracy: 0.6979 - lr: 0.0010 - 74s/epoch - 17ms/step
Epoch 15/100
4378/4378 - 74s - loss: 0.0137 - accuracy: 0.9066 - val_loss: 0.0459 - val_accuracy: 0.7220 - lr: 0.0010 - 74s/epoch - 17ms/step
Epoch 16/100
4378/4378 - 74s - loss: 0.0136 - accuracy: 0.9083 - val_loss: 0.0464 - val_accuracy: 0.7152 - lr: 0.0010 - 74s/epoch - 17ms/step
Epoch 17/100
4378/4378 - 74s - loss: 0.0139 - accuracy: 0.9051 - val_loss: 0.0454 - val_accuracy: 0.7254 - lr: 0.0010 - 74s/epoch - 17ms/step
Epoch 18/100
4378/4378 - 74s - loss: 0.0136 - accuracy: 0.9088 - val_loss: 0.0466 - val_accuracy: 0.7183 - lr: 0.0010 - 74s/epoch - 17ms/step
Epoch 19/100
4378/4378 - 74s - loss: 0.0138 - accuracy: 0.9069 - val_loss: 0.0478 - val_accuracy: 0.7076 - lr: 0.0010 - 74s/epoch - 17ms/step
Epoch 20/100
4378/4378 - 74s - loss: 0.0139 - accuracy: 0.9052 - val_loss: 0.0436 - val_accuracy: 0.7302 - lr: 0.0010 - 74s/epoch - 17ms/step
Epoch 21/100
4378/4378 - 74s - loss: 0.0135 - accuracy: 0.9086 - val_loss: 0.0501 - val_accuracy: 0.6967 - lr: 0.0010 - 74s/epoch - 17ms/step
Epoch 22/100
4378/4378 - 74s - loss: 0.0136 - accuracy: 0.9083 - val_loss: 0.0423 - val_accuracy: 0.7460 - lr: 0.0010 - 74s/epoch - 17ms/step
Epoch 23/100
4378/4378 - 74s - loss: 0.0139 - accuracy: 0.9065 - val_loss: 0.0450 - val_accuracy: 0.7237 - lr: 0.0010 - 74s/epoch - 17ms/step
Epoch 24/100
4378/4378 - 74s - loss: 0.0140 - accuracy: 0.9061 - val_loss: 0.0440 - val_accuracy: 0.7339 - lr: 0.0010 - 74s/epoch - 17ms/step
Epoch 25/100
4378/4378 - 74s - loss: 0.0136 - accuracy: 0.9084 - val_loss: 0.0456 - val_accuracy: 0.7209 - lr: 0.0010 - 74s/epoch - 17ms/step
Epoch 26/100
4378/4378 - 74s - loss: 0.0141 - accuracy: 0.9038 - val_loss: 0.0441 - val_accuracy: 0.7288 - lr: 0.0010 - 74s/epoch - 17ms/step
Epoch 27/100
4378/4378 - 73s - loss: 0.0136 - accuracy: 0.9084 - val_loss: 0.0414 - val_accuracy: 0.7447 - lr: 0.0010 - 73s/epoch - 17ms/step
Epoch 28/100
4378/4378 - 73s - loss: 0.0138 - accuracy: 0.9068 - val_loss: 0.0423 - val_accuracy: 0.7447 - lr: 0.0010 - 73s/epoch - 17ms/step
Epoch 29/100
4378/4378 - 73s - loss: 0.0138 - accuracy: 0.9066 - val_loss: 0.0454 - val_accuracy: 0.7249 - lr: 0.0010 - 73s/epoch - 17ms/step
Epoch 30/100
4378/4378 - 75s - loss: 0.0138 - accuracy: 0.9072 - val_loss: 0.0437 - val_accuracy: 0.7354 - lr: 0.0010 - 75s/epoch - 17ms/step
Epoch 31/100
4378/4378 - 73s - loss: 0.0138 - accuracy: 0.9070 - val_loss: 0.0428 - val_accuracy: 0.7397 - lr: 0.0010 - 73s/epoch - 17ms/step
Epoch 32/100
4378/4378 - 74s - loss: 0.0139 - accuracy: 0.9057 - val_loss: 0.0452 - val_accuracy: 0.7271 - lr: 0.0010 - 74s/epoch - 17ms/step
Epoch 33/100
4378/4378 - 74s - loss: 0.0137 - accuracy: 0.9081 - val_loss: 0.0431 - val_accuracy: 0.7349 - lr: 0.0010 - 74s/epoch - 17ms/step
Epoch 34/100
4378/4378 - 74s - loss: 0.0138 - accuracy: 0.9062 - val_loss: 0.0449 - val_accuracy: 0.7236 - lr: 0.0010 - 74s/epoch - 17ms/step
Epoch 35/100
4378/4378 - 74s - loss: 0.0137 - accuracy: 0.9075 - val_loss: 0.0419 - val_accuracy: 0.7430 - lr: 0.0010 - 74s/epoch - 17ms/step
Epoch 36/100
4378/4378 - 74s - loss: 0.0135 - accuracy: 0.9082 - val_loss: 0.0430 - val_accuracy: 0.7374 - lr: 0.0010 - 74s/epoch - 17ms/step
Epoch 37/100
4378/4378 - 74s - loss: 0.0137 - accuracy: 0.9078 - val_loss: 0.0489 - val_accuracy: 0.6987 - lr: 0.0010 - 74s/epoch - 17ms/step
Epoch 38/100
4378/4378 - 74s - loss: 0.0137 - accuracy: 0.9079 - val_loss: 0.0438 - val_accuracy: 0.7306 - lr: 0.0010 - 74s/epoch - 17ms/step
Epoch 39/100
4378/4378 - 73s - loss: 0.0141 - accuracy: 0.9046 - val_loss: 0.0411 - val_accuracy: 0.7474 - lr: 0.0010 - 73s/epoch - 17ms/step
Epoch 40/100
4378/4378 - 74s - loss: 0.0137 - accuracy: 0.9074 - val_loss: 0.0467 - val_accuracy: 0.7081 - lr: 0.0010 - 74s/epoch - 17ms/step
Epoch 41/100
4378/4378 - 74s - loss: 0.0139 - accuracy: 0.9059 - val_loss: 0.0493 - val_accuracy: 0.6988 - lr: 0.0010 - 74s/epoch - 17ms/step
Epoch 42/100
4378/4378 - 74s - loss: 0.0139 - accuracy: 0.9065 - val_loss: 0.0437 - val_accuracy: 0.7361 - lr: 0.0010 - 74s/epoch - 17ms/step
Epoch 43/100
4378/4378 - 73s - loss: 0.0137 - accuracy: 0.9080 - val_loss: 0.0507 - val_accuracy: 0.6834 - lr: 0.0010 - 73s/epoch - 17ms/step
Epoch 44/100
4378/4378 - 74s - loss: 0.0138 - accuracy: 0.9065 - val_loss: 0.0463 - val_accuracy: 0.7134 - lr: 0.0010 - 74s/epoch - 17ms/step
Epoch 45/100
4378/4378 - 73s - loss: 0.0138 - accuracy: 0.9067 - val_loss: 0.0460 - val_accuracy: 0.7173 - lr: 0.0010 - 73s/epoch - 17ms/step
Epoch 46/100
4378/4378 - 74s - loss: 0.0137 - accuracy: 0.9071 - val_loss: 0.0434 - val_accuracy: 0.7379 - lr: 0.0010 - 74s/epoch - 17ms/step
Epoch 47/100
4378/4378 - 74s - loss: 0.0138 - accuracy: 0.9066 - val_loss: 0.0488 - val_accuracy: 0.6982 - lr: 0.0010 - 74s/epoch - 17ms/step
Epoch 48/100
4378/4378 - 74s - loss: 0.0138 - accuracy: 0.9060 - val_loss: 0.0435 - val_accuracy: 0.7326 - lr: 0.0010 - 74s/epoch - 17ms/step
Epoch 49/100
4378/4378 - 74s - loss: 0.0136 - accuracy: 0.9082 - val_loss: 0.0429 - val_accuracy: 0.7301 - lr: 0.0010 - 74s/epoch - 17ms/step
Epoch 50/100
4378/4378 - 73s - loss: 0.0137 - accuracy: 0.9077 - val_loss: 0.0431 - val_accuracy: 0.7337 - lr: 0.0010 - 73s/epoch - 17ms/step
Epoch 51/100
4378/4378 - 74s - loss: 0.0135 - accuracy: 0.9096 - val_loss: 0.0451 - val_accuracy: 0.7277 - lr: 0.0010 - 74s/epoch - 17ms/step
Epoch 52/100
4378/4378 - 74s - loss: 0.0138 - accuracy: 0.9075 - val_loss: 0.0422 - val_accuracy: 0.7405 - lr: 0.0010 - 74s/epoch - 17ms/step
Epoch 53/100
4378/4378 - 74s - loss: 0.0137 - accuracy: 0.9080 - val_loss: 0.0479 - val_accuracy: 0.7075 - lr: 0.0010 - 74s/epoch - 17ms/step
Epoch 54/100
4378/4378 - 73s - loss: 0.0139 - accuracy: 0.9070 - val_loss: 0.0472 - val_accuracy: 0.7054 - lr: 0.0010 - 73s/epoch - 17ms/step
Epoch 55/100
4378/4378 - 74s - loss: 0.0136 - accuracy: 0.9084 - val_loss: 0.0464 - val_accuracy: 0.7125 - lr: 0.0010 - 74s/epoch - 17ms/step
Epoch 56/100
4378/4378 - 74s - loss: 0.0137 - accuracy: 0.9080 - val_loss: 0.0421 - val_accuracy: 0.7461 - lr: 0.0010 - 74s/epoch - 17ms/step
Epoch 57/100
4378/4378 - 73s - loss: 0.0136 - accuracy: 0.9083 - val_loss: 0.0518 - val_accuracy: 0.6846 - lr: 0.0010 - 73s/epoch - 17ms/step
Epoch 58/100
4378/4378 - 74s - loss: 0.0135 - accuracy: 0.9079 - val_loss: 0.0465 - val_accuracy: 0.7185 - lr: 0.0010 - 74s/epoch - 17ms/step
Epoch 59/100
4378/4378 - 74s - loss: 0.0135 - accuracy: 0.9087 - val_loss: 0.0453 - val_accuracy: 0.7172 - lr: 0.0010 - 74s/epoch - 17ms/step
Epoch 60/100
4378/4378 - 74s - loss: 0.0133 - accuracy: 0.9105 - val_loss: 0.0491 - val_accuracy: 0.6964 - lr: 0.0010 - 74s/epoch - 17ms/step
Epoch 61/100
4378/4378 - 74s - loss: 0.0134 - accuracy: 0.9091 - val_loss: 0.0465 - val_accuracy: 0.7128 - lr: 0.0010 - 74s/epoch - 17ms/step
Epoch 62/100
4378/4378 - 74s - loss: 0.0137 - accuracy: 0.9075 - val_loss: 0.0414 - val_accuracy: 0.7468 - lr: 0.0010 - 74s/epoch - 17ms/step
Epoch 63/100
4378/4378 - 74s - loss: 0.0134 - accuracy: 0.9103 - val_loss: 0.0454 - val_accuracy: 0.7210 - lr: 0.0010 - 74s/epoch - 17ms/step
Epoch 64/100
4378/4378 - 73s - loss: 0.0135 - accuracy: 0.9086 - val_loss: 0.0420 - val_accuracy: 0.7437 - lr: 0.0010 - 73s/epoch - 17ms/step
Epoch 65/100
4378/4378 - 73s - loss: 0.0138 - accuracy: 0.9076 - val_loss: 0.0431 - val_accuracy: 0.7331 - lr: 0.0010 - 73s/epoch - 17ms/step
Epoch 66/100
4378/4378 - 74s - loss: 0.0137 - accuracy: 0.9085 - val_loss: 0.0446 - val_accuracy: 0.7257 - lr: 0.0010 - 74s/epoch - 17ms/step
Epoch 67/100
4378/4378 - 74s - loss: 0.0136 - accuracy: 0.9083 - val_loss: 0.0468 - val_accuracy: 0.7148 - lr: 0.0010 - 74s/epoch - 17ms/step
Epoch 68/100
4378/4378 - 74s - loss: 0.0137 - accuracy: 0.9077 - val_loss: 0.0442 - val_accuracy: 0.7308 - lr: 0.0010 - 74s/epoch - 17ms/step
Epoch 69/100
4378/4378 - 74s - loss: 0.0135 - accuracy: 0.9090 - val_loss: 0.0433 - val_accuracy: 0.7361 - lr: 0.0010 - 74s/epoch - 17ms/step
Epoch 70/100
4378/4378 - 74s - loss: 0.0136 - accuracy: 0.9086 - val_loss: 0.0464 - val_accuracy: 0.7163 - lr: 0.0010 - 74s/epoch - 17ms/step
Epoch 71/100
4378/4378 - 74s - loss: 0.0135 - accuracy: 0.9086 - val_loss: 0.0439 - val_accuracy: 0.7329 - lr: 0.0010 - 74s/epoch - 17ms/step
Epoch 72/100
4378/4378 - 74s - loss: 0.0137 - accuracy: 0.9074 - val_loss: 0.0469 - val_accuracy: 0.7176 - lr: 0.0010 - 74s/epoch - 17ms/step
Epoch 73/100
4378/4378 - 74s - loss: 0.0136 - accuracy: 0.9087 - val_loss: 0.0449 - val_accuracy: 0.7293 - lr: 0.0010 - 74s/epoch - 17ms/step
Epoch 74/100
4378/4378 - 74s - loss: 0.0133 - accuracy: 0.9105 - val_loss: 0.0417 - val_accuracy: 0.7451 - lr: 0.0010 - 74s/epoch - 17ms/step
Epoch 75/100
4378/4378 - 74s - loss: 0.0134 - accuracy: 0.9103 - val_loss: 0.0397 - val_accuracy: 0.7581 - lr: 0.0010 - 74s/epoch - 17ms/step
Epoch 76/100
4378/4378 - 74s - loss: 0.0137 - accuracy: 0.9084 - val_loss: 0.0431 - val_accuracy: 0.7375 - lr: 0.0010 - 74s/epoch - 17ms/step
Epoch 77/100
4378/4378 - 74s - loss: 0.0138 - accuracy: 0.9063 - val_loss: 0.0471 - val_accuracy: 0.7114 - lr: 0.0010 - 74s/epoch - 17ms/step
Epoch 78/100
4378/4378 - 74s - loss: 0.0136 - accuracy: 0.9084 - val_loss: 0.0454 - val_accuracy: 0.7221 - lr: 0.0010 - 74s/epoch - 17ms/step
Epoch 79/100
4378/4378 - 74s - loss: 0.0137 - accuracy: 0.9075 - val_loss: 0.0452 - val_accuracy: 0.7181 - lr: 0.0010 - 74s/epoch - 17ms/step
Epoch 80/100
4378/4378 - 74s - loss: 0.0136 - accuracy: 0.9084 - val_loss: 0.0421 - val_accuracy: 0.7429 - lr: 0.0010 - 74s/epoch - 17ms/step
Epoch 81/100
4378/4378 - 74s - loss: 0.0135 - accuracy: 0.9087 - val_loss: 0.0400 - val_accuracy: 0.7565 - lr: 0.0010 - 74s/epoch - 17ms/step
Epoch 82/100
4378/4378 - 74s - loss: 0.0137 - accuracy: 0.9078 - val_loss: 0.0420 - val_accuracy: 0.7437 - lr: 0.0010 - 74s/epoch - 17ms/step
Epoch 83/100
4378/4378 - 74s - loss: 0.0136 - accuracy: 0.9092 - val_loss: 0.0418 - val_accuracy: 0.7441 - lr: 0.0010 - 74s/epoch - 17ms/step
Epoch 84/100
4378/4378 - 74s - loss: 0.0139 - accuracy: 0.9064 - val_loss: 0.0455 - val_accuracy: 0.7208 - lr: 0.0010 - 74s/epoch - 17ms/step
Epoch 85/100
4378/4378 - 74s - loss: 0.0136 - accuracy: 0.9087 - val_loss: 0.0446 - val_accuracy: 0.7285 - lr: 0.0010 - 74s/epoch - 17ms/step
Epoch 86/100
4378/4378 - 74s - loss: 0.0136 - accuracy: 0.9088 - val_loss: 0.0454 - val_accuracy: 0.7282 - lr: 0.0010 - 74s/epoch - 17ms/step
Epoch 87/100
4378/4378 - 74s - loss: 0.0137 - accuracy: 0.9076 - val_loss: 0.0477 - val_accuracy: 0.7093 - lr: 0.0010 - 74s/epoch - 17ms/step
Epoch 88/100
4378/4378 - 74s - loss: 0.0134 - accuracy: 0.9096 - val_loss: 0.0471 - val_accuracy: 0.7175 - lr: 0.0010 - 74s/epoch - 17ms/step
Epoch 89/100
4378/4378 - 74s - loss: 0.0135 - accuracy: 0.9087 - val_loss: 0.0450 - val_accuracy: 0.7293 - lr: 0.0010 - 74s/epoch - 17ms/step
Epoch 90/100
4378/4378 - 74s - loss: 0.0134 - accuracy: 0.9099 - val_loss: 0.0427 - val_accuracy: 0.7391 - lr: 0.0010 - 74s/epoch - 17ms/step
Epoch 91/100
4378/4378 - 74s - loss: 0.0134 - accuracy: 0.9098 - val_loss: 0.0433 - val_accuracy: 0.7320 - lr: 0.0010 - 74s/epoch - 17ms/step
Epoch 92/100
4378/4378 - 74s - loss: 0.0136 - accuracy: 0.9082 - val_loss: 0.0402 - val_accuracy: 0.7560 - lr: 0.0010 - 74s/epoch - 17ms/step
Epoch 93/100
4378/4378 - 74s - loss: 0.0137 - accuracy: 0.9078 - val_loss: 0.0450 - val_accuracy: 0.7267 - lr: 0.0010 - 74s/epoch - 17ms/step
Epoch 94/100
4378/4378 - 73s - loss: 0.0134 - accuracy: 0.9096 - val_loss: 0.0501 - val_accuracy: 0.6944 - lr: 0.0010 - 73s/epoch - 17ms/step
Epoch 95/100
4378/4378 - 74s - loss: 0.0136 - accuracy: 0.9090 - val_loss: 0.0470 - val_accuracy: 0.7106 - lr: 0.0010 - 74s/epoch - 17ms/step
Epoch 96/100
4378/4378 - 74s - loss: 0.0135 - accuracy: 0.9093 - val_loss: 0.0422 - val_accuracy: 0.7411 - lr: 0.0010 - 74s/epoch - 17ms/step
Epoch 97/100
4378/4378 - 74s - loss: 0.0135 - accuracy: 0.9097 - val_loss: 0.0443 - val_accuracy: 0.7267 - lr: 0.0010 - 74s/epoch - 17ms/step
Epoch 98/100
4378/4378 - 74s - loss: 0.0135 - accuracy: 0.9093 - val_loss: 0.0436 - val_accuracy: 0.7325 - lr: 0.0010 - 74s/epoch - 17ms/step
Epoch 99/100
4378/4378 - 74s - loss: 0.0136 - accuracy: 0.9087 - val_loss: 0.0458 - val_accuracy: 0.7226 - lr: 0.0010 - 74s/epoch - 17ms/step
Epoch 100/100
4378/4378 - 74s - loss: 0.0135 - accuracy: 0.9094 - val_loss: 0.0461 - val_accuracy: 0.7178 - lr: 0.0010 - 74s/epoch - 17ms/step
Epoch 1/100
876/876 - 20s - loss: 0.0094 - accuracy: 0.9384 - val_loss: 0.0482 - val_accuracy: 0.7084 - lr: 0.0010 - 20s/epoch - 23ms/step
Epoch 2/100
876/876 - 18s - loss: 0.0097 - accuracy: 0.9366 - val_loss: 0.0443 - val_accuracy: 0.7320 - lr: 0.0010 - 18s/epoch - 21ms/step
Epoch 3/100
876/876 - 18s - loss: 0.0097 - accuracy: 0.9362 - val_loss: 0.0456 - val_accuracy: 0.7299 - lr: 0.0010 - 18s/epoch - 21ms/step
Epoch 4/100
876/876 - 18s - loss: 0.0096 - accuracy: 0.9367 - val_loss: 0.0506 - val_accuracy: 0.6938 - lr: 0.0010 - 18s/epoch - 20ms/step
Epoch 5/100
876/876 - 18s - loss: 0.0093 - accuracy: 0.9391 - val_loss: 0.0494 - val_accuracy: 0.7081 - lr: 0.0010 - 18s/epoch - 20ms/step
Epoch 6/100
876/876 - 18s - loss: 0.0092 - accuracy: 0.9397 - val_loss: 0.0505 - val_accuracy: 0.7014 - lr: 0.0010 - 18s/epoch - 20ms/step
Epoch 7/100
876/876 - 18s - loss: 0.0092 - accuracy: 0.9400 - val_loss: 0.0482 - val_accuracy: 0.7122 - lr: 0.0010 - 18s/epoch - 20ms/step
Epoch 8/100
876/876 - 18s - loss: 0.0091 - accuracy: 0.9407 - val_loss: 0.0505 - val_accuracy: 0.6973 - lr: 0.0010 - 18s/epoch - 20ms/step
Epoch 9/100
876/876 - 18s - loss: 0.0092 - accuracy: 0.9402 - val_loss: 0.0517 - val_accuracy: 0.6939 - lr: 0.0010 - 18s/epoch - 20ms/step
Epoch 10/100
876/876 - 18s - loss: 0.0090 - accuracy: 0.9407 - val_loss: 0.0516 - val_accuracy: 0.6930 - lr: 0.0010 - 18s/epoch - 20ms/step
Epoch 11/100
876/876 - 18s - loss: 0.0090 - accuracy: 0.9414 - val_loss: 0.0485 - val_accuracy: 0.7149 - lr: 0.0010 - 18s/epoch - 20ms/step
Epoch 12/100
876/876 - 18s - loss: 0.0088 - accuracy: 0.9430 - val_loss: 0.0511 - val_accuracy: 0.6978 - lr: 0.0010 - 18s/epoch - 20ms/step
Epoch 13/100
876/876 - 18s - loss: 0.0090 - accuracy: 0.9408 - val_loss: 0.0488 - val_accuracy: 0.7136 - lr: 0.0010 - 18s/epoch - 20ms/step
Epoch 14/100
876/876 - 18s - loss: 0.0090 - accuracy: 0.9414 - val_loss: 0.0492 - val_accuracy: 0.7163 - lr: 0.0010 - 18s/epoch - 20ms/step
Epoch 15/100
876/876 - 18s - loss: 0.0088 - accuracy: 0.9426 - val_loss: 0.0475 - val_accuracy: 0.7226 - lr: 0.0010 - 18s/epoch - 20ms/step
Epoch 16/100
876/876 - 18s - loss: 0.0089 - accuracy: 0.9420 - val_loss: 0.0455 - val_accuracy: 0.7327 - lr: 0.0010 - 18s/epoch - 21ms/step
Epoch 17/100
876/876 - 18s - loss: 0.0086 - accuracy: 0.9441 - val_loss: 0.0475 - val_accuracy: 0.7231 - lr: 0.0010 - 18s/epoch - 20ms/step
Epoch 18/100
876/876 - 18s - loss: 0.0086 - accuracy: 0.9442 - val_loss: 0.0480 - val_accuracy: 0.7233 - lr: 0.0010 - 18s/epoch - 21ms/step
Epoch 19/100
876/876 - 18s - loss: 0.0087 - accuracy: 0.9438 - val_loss: 0.0479 - val_accuracy: 0.7201 - lr: 0.0010 - 18s/epoch - 21ms/step
Epoch 20/100
876/876 - 18s - loss: 0.0085 - accuracy: 0.9450 - val_loss: 0.0466 - val_accuracy: 0.7274 - lr: 0.0010 - 18s/epoch - 21ms/step
Epoch 21/100
876/876 - 18s - loss: 0.0084 - accuracy: 0.9456 - val_loss: 0.0464 - val_accuracy: 0.7290 - lr: 0.0010 - 18s/epoch - 20ms/step
Epoch 22/100
876/876 - 18s - loss: 0.0085 - accuracy: 0.9450 - val_loss: 0.0503 - val_accuracy: 0.7067 - lr: 0.0010 - 18s/epoch - 21ms/step
Epoch 23/100
876/876 - 18s - loss: 0.0086 - accuracy: 0.9438 - val_loss: 0.0501 - val_accuracy: 0.7068 - lr: 0.0010 - 18s/epoch - 20ms/step
Epoch 24/100
876/876 - 18s - loss: 0.0087 - accuracy: 0.9429 - val_loss: 0.0484 - val_accuracy: 0.7159 - lr: 0.0010 - 18s/epoch - 20ms/step
Epoch 25/100
876/876 - 18s - loss: 0.0084 - accuracy: 0.9449 - val_loss: 0.0474 - val_accuracy: 0.7237 - lr: 0.0010 - 18s/epoch - 21ms/step
Epoch 26/100
876/876 - 18s - loss: 0.0084 - accuracy: 0.9449 - val_loss: 0.0474 - val_accuracy: 0.7247 - lr: 0.0010 - 18s/epoch - 20ms/step
Epoch 27/100
876/876 - 18s - loss: 0.0088 - accuracy: 0.9427 - val_loss: 0.0494 - val_accuracy: 0.7113 - lr: 0.0010 - 18s/epoch - 20ms/step
Epoch 28/100
876/876 - 18s - loss: 0.0085 - accuracy: 0.9451 - val_loss: 0.0462 - val_accuracy: 0.7302 - lr: 0.0010 - 18s/epoch - 20ms/step
Epoch 29/100
876/876 - 18s - loss: 0.0085 - accuracy: 0.9452 - val_loss: 0.0503 - val_accuracy: 0.7067 - lr: 0.0010 - 18s/epoch - 21ms/step
Epoch 30/100
876/876 - 18s - loss: 0.0083 - accuracy: 0.9458 - val_loss: 0.0501 - val_accuracy: 0.7072 - lr: 0.0010 - 18s/epoch - 20ms/step
Epoch 31/100
876/876 - 18s - loss: 0.0086 - accuracy: 0.9444 - val_loss: 0.0496 - val_accuracy: 0.7082 - lr: 0.0010 - 18s/epoch - 21ms/step
Epoch 32/100
876/876 - 18s - loss: 0.0084 - accuracy: 0.9453 - val_loss: 0.0477 - val_accuracy: 0.7221 - lr: 0.0010 - 18s/epoch - 20ms/step
Epoch 33/100
876/876 - 18s - loss: 0.0085 - accuracy: 0.9451 - val_loss: 0.0471 - val_accuracy: 0.7263 - lr: 0.0010 - 18s/epoch - 20ms/step
Epoch 34/100
876/876 - 18s - loss: 0.0084 - accuracy: 0.9456 - val_loss: 0.0508 - val_accuracy: 0.7021 - lr: 0.0010 - 18s/epoch - 20ms/step
Epoch 35/100
876/876 - 18s - loss: 0.0085 - accuracy: 0.9448 - val_loss: 0.0496 - val_accuracy: 0.7109 - lr: 0.0010 - 18s/epoch - 21ms/step
Epoch 36/100
876/876 - 18s - loss: 0.0085 - accuracy: 0.9451 - val_loss: 0.0508 - val_accuracy: 0.7035 - lr: 0.0010 - 18s/epoch - 21ms/step
Epoch 37/100
876/876 - 18s - loss: 0.0083 - accuracy: 0.9460 - val_loss: 0.0497 - val_accuracy: 0.7084 - lr: 0.0010 - 18s/epoch - 20ms/step
Epoch 38/100
876/876 - 18s - loss: 0.0085 - accuracy: 0.9442 - val_loss: 0.0476 - val_accuracy: 0.7252 - lr: 0.0010 - 18s/epoch - 20ms/step
Epoch 39/100
876/876 - 18s - loss: 0.0085 - accuracy: 0.9446 - val_loss: 0.0483 - val_accuracy: 0.7166 - lr: 0.0010 - 18s/epoch - 21ms/step
Epoch 40/100
876/876 - 18s - loss: 0.0085 - accuracy: 0.9453 - val_loss: 0.0506 - val_accuracy: 0.7058 - lr: 0.0010 - 18s/epoch - 20ms/step
Epoch 41/100
876/876 - 18s - loss: 0.0084 - accuracy: 0.9449 - val_loss: 0.0509 - val_accuracy: 0.7024 - lr: 0.0010 - 18s/epoch - 20ms/step
Epoch 42/100
876/876 - 18s - loss: 0.0083 - accuracy: 0.9461 - val_loss: 0.0521 - val_accuracy: 0.6941 - lr: 0.0010 - 18s/epoch - 20ms/step
Epoch 43/100
876/876 - 18s - loss: 0.0084 - accuracy: 0.9450 - val_loss: 0.0527 - val_accuracy: 0.6917 - lr: 0.0010 - 18s/epoch - 20ms/step
Epoch 44/100
876/876 - 18s - loss: 0.0084 - accuracy: 0.9454 - val_loss: 0.0534 - val_accuracy: 0.6905 - lr: 0.0010 - 18s/epoch - 20ms/step
Epoch 45/100
876/876 - 18s - loss: 0.0083 - accuracy: 0.9463 - val_loss: 0.0511 - val_accuracy: 0.7019 - lr: 0.0010 - 18s/epoch - 20ms/step
Epoch 46/100
876/876 - 18s - loss: 0.0085 - accuracy: 0.9455 - val_loss: 0.0505 - val_accuracy: 0.7051 - lr: 0.0010 - 18s/epoch - 21ms/step
Epoch 47/100
876/876 - 18s - loss: 0.0085 - accuracy: 0.9452 - val_loss: 0.0512 - val_accuracy: 0.6982 - lr: 0.0010 - 18s/epoch - 20ms/step
Epoch 48/100
876/876 - 18s - loss: 0.0084 - accuracy: 0.9455 - val_loss: 0.0498 - val_accuracy: 0.7088 - lr: 0.0010 - 18s/epoch - 20ms/step
Epoch 49/100
876/876 - 18s - loss: 0.0083 - accuracy: 0.9470 - val_loss: 0.0493 - val_accuracy: 0.7125 - lr: 0.0010 - 18s/epoch - 20ms/step
Epoch 50/100
876/876 - 18s - loss: 0.0084 - accuracy: 0.9458 - val_loss: 0.0503 - val_accuracy: 0.7074 - lr: 0.0010 - 18s/epoch - 20ms/step
Epoch 51/100
876/876 - 18s - loss: 0.0082 - accuracy: 0.9471 - val_loss: 0.0522 - val_accuracy: 0.6941 - lr: 0.0010 - 18s/epoch - 20ms/step
Epoch 52/100
876/876 - 18s - loss: 0.0083 - accuracy: 0.9460 - val_loss: 0.0518 - val_accuracy: 0.6980 - lr: 0.0010 - 18s/epoch - 20ms/step
Epoch 53/100
876/876 - 18s - loss: 0.0083 - accuracy: 0.9463 - val_loss: 0.0531 - val_accuracy: 0.6891 - lr: 0.0010 - 18s/epoch - 20ms/step
Epoch 54/100
876/876 - 18s - loss: 0.0081 - accuracy: 0.9474 - val_loss: 0.0471 - val_accuracy: 0.7215 - lr: 0.0010 - 18s/epoch - 20ms/step
Epoch 55/100
876/876 - 18s - loss: 0.0083 - accuracy: 0.9468 - val_loss: 0.0503 - val_accuracy: 0.7080 - lr: 0.0010 - 18s/epoch - 20ms/step
Epoch 56/100
876/876 - 18s - loss: 0.0084 - accuracy: 0.9459 - val_loss: 0.0500 - val_accuracy: 0.7110 - lr: 0.0010 - 18s/epoch - 20ms/step
Epoch 57/100
876/876 - 18s - loss: 0.0082 - accuracy: 0.9472 - val_loss: 0.0476 - val_accuracy: 0.7213 - lr: 0.0010 - 18s/epoch - 20ms/step
Epoch 58/100
876/876 - 18s - loss: 0.0082 - accuracy: 0.9471 - val_loss: 0.0509 - val_accuracy: 0.7054 - lr: 0.0010 - 18s/epoch - 20ms/step
Epoch 59/100
876/876 - 18s - loss: 0.0083 - accuracy: 0.9463 - val_loss: 0.0500 - val_accuracy: 0.7082 - lr: 0.0010 - 18s/epoch - 20ms/step
Epoch 60/100
876/876 - 18s - loss: 0.0083 - accuracy: 0.9459 - val_loss: 0.0523 - val_accuracy: 0.6982 - lr: 0.0010 - 18s/epoch - 21ms/step
Epoch 61/100
876/876 - 18s - loss: 0.0081 - accuracy: 0.9472 - val_loss: 0.0496 - val_accuracy: 0.7119 - lr: 0.0010 - 18s/epoch - 20ms/step
Epoch 62/100
876/876 - 18s - loss: 0.0081 - accuracy: 0.9476 - val_loss: 0.0528 - val_accuracy: 0.6946 - lr: 0.0010 - 18s/epoch - 20ms/step
Epoch 63/100
876/876 - 18s - loss: 0.0083 - accuracy: 0.9463 - val_loss: 0.0523 - val_accuracy: 0.6964 - lr: 0.0010 - 18s/epoch - 21ms/step
Epoch 64/100
876/876 - 18s - loss: 0.0081 - accuracy: 0.9478 - val_loss: 0.0486 - val_accuracy: 0.7195 - lr: 0.0010 - 18s/epoch - 20ms/step
Epoch 65/100
876/876 - 18s - loss: 0.0079 - accuracy: 0.9487 - val_loss: 0.0477 - val_accuracy: 0.7222 - lr: 0.0010 - 18s/epoch - 21ms/step
Epoch 66/100
876/876 - 18s - loss: 0.0080 - accuracy: 0.9481 - val_loss: 0.0505 - val_accuracy: 0.7059 - lr: 0.0010 - 18s/epoch - 20ms/step
Epoch 67/100
876/876 - 18s - loss: 0.0080 - accuracy: 0.9483 - val_loss: 0.0523 - val_accuracy: 0.6952 - lr: 0.0010 - 18s/epoch - 20ms/step
Epoch 68/100
876/876 - 18s - loss: 0.0083 - accuracy: 0.9460 - val_loss: 0.0527 - val_accuracy: 0.6924 - lr: 0.0010 - 18s/epoch - 20ms/step
Epoch 69/100
876/876 - 18s - loss: 0.0080 - accuracy: 0.9483 - val_loss: 0.0521 - val_accuracy: 0.6971 - lr: 0.0010 - 18s/epoch - 20ms/step
Epoch 70/100
876/876 - 18s - loss: 0.0083 - accuracy: 0.9466 - val_loss: 0.0507 - val_accuracy: 0.7051 - lr: 0.0010 - 18s/epoch - 20ms/step
Epoch 71/100
876/876 - 18s - loss: 0.0082 - accuracy: 0.9469 - val_loss: 0.0515 - val_accuracy: 0.6999 - lr: 0.0010 - 18s/epoch - 20ms/step
Epoch 72/100
876/876 - 18s - loss: 0.0082 - accuracy: 0.9468 - val_loss: 0.0506 - val_accuracy: 0.7082 - lr: 0.0010 - 18s/epoch - 20ms/step
Epoch 73/100
876/876 - 18s - loss: 0.0084 - accuracy: 0.9458 - val_loss: 0.0500 - val_accuracy: 0.7093 - lr: 0.0010 - 18s/epoch - 20ms/step
Epoch 74/100
876/876 - 18s - loss: 0.0082 - accuracy: 0.9474 - val_loss: 0.0492 - val_accuracy: 0.7130 - lr: 0.0010 - 18s/epoch - 20ms/step
Epoch 75/100
876/876 - 18s - loss: 0.0082 - accuracy: 0.9468 - val_loss: 0.0511 - val_accuracy: 0.7049 - lr: 0.0010 - 18s/epoch - 20ms/step
Epoch 76/100
876/876 - 18s - loss: 0.0078 - accuracy: 0.9497 - val_loss: 0.0500 - val_accuracy: 0.7079 - lr: 0.0010 - 18s/epoch - 20ms/step
Epoch 77/100
876/876 - 18s - loss: 0.0082 - accuracy: 0.9473 - val_loss: 0.0523 - val_accuracy: 0.6964 - lr: 0.0010 - 18s/epoch - 20ms/step
Epoch 78/100
876/876 - 18s - loss: 0.0083 - accuracy: 0.9465 - val_loss: 0.0519 - val_accuracy: 0.6986 - lr: 0.0010 - 18s/epoch - 20ms/step
Epoch 79/100
876/876 - 18s - loss: 0.0079 - accuracy: 0.9490 - val_loss: 0.0498 - val_accuracy: 0.7123 - lr: 0.0010 - 18s/epoch - 20ms/step
Epoch 80/100
876/876 - 18s - loss: 0.0080 - accuracy: 0.9478 - val_loss: 0.0529 - val_accuracy: 0.6906 - lr: 0.0010 - 18s/epoch - 20ms/step
Epoch 81/100
876/876 - 18s - loss: 0.0080 - accuracy: 0.9489 - val_loss: 0.0510 - val_accuracy: 0.7039 - lr: 0.0010 - 18s/epoch - 21ms/step
Epoch 82/100
876/876 - 18s - loss: 0.0084 - accuracy: 0.9460 - val_loss: 0.0541 - val_accuracy: 0.6830 - lr: 0.0010 - 18s/epoch - 20ms/step
Epoch 83/100
876/876 - 18s - loss: 0.0079 - accuracy: 0.9496 - val_loss: 0.0553 - val_accuracy: 0.6814 - lr: 0.0010 - 18s/epoch - 20ms/step
Epoch 84/100
876/876 - 18s - loss: 0.0081 - accuracy: 0.9478 - val_loss: 0.0503 - val_accuracy: 0.7080 - lr: 0.0010 - 18s/epoch - 20ms/step
Epoch 85/100
876/876 - 18s - loss: 0.0081 - accuracy: 0.9476 - val_loss: 0.0551 - val_accuracy: 0.6809 - lr: 0.0010 - 18s/epoch - 20ms/step
Epoch 86/100
876/876 - 18s - loss: 0.0083 - accuracy: 0.9463 - val_loss: 0.0521 - val_accuracy: 0.6973 - lr: 0.0010 - 18s/epoch - 20ms/step
Epoch 87/100
876/876 - 18s - loss: 0.0082 - accuracy: 0.9464 - val_loss: 0.0523 - val_accuracy: 0.6965 - lr: 0.0010 - 18s/epoch - 21ms/step
Epoch 88/100
876/876 - 18s - loss: 0.0080 - accuracy: 0.9491 - val_loss: 0.0518 - val_accuracy: 0.6978 - lr: 0.0010 - 18s/epoch - 21ms/step
Epoch 89/100
876/876 - 19s - loss: 0.0080 - accuracy: 0.9483 - val_loss: 0.0551 - val_accuracy: 0.6819 - lr: 0.0010 - 19s/epoch - 22ms/step
Epoch 90/100
876/876 - 23s - loss: 0.0081 - accuracy: 0.9482 - val_loss: 0.0532 - val_accuracy: 0.6919 - lr: 0.0010 - 23s/epoch - 26ms/step
Epoch 91/100
876/876 - 26s - loss: 0.0077 - accuracy: 0.9502 - val_loss: 0.0475 - val_accuracy: 0.7248 - lr: 0.0010 - 26s/epoch - 30ms/step
Epoch 92/100
876/876 - 28s - loss: 0.0081 - accuracy: 0.9478 - val_loss: 0.0529 - val_accuracy: 0.6909 - lr: 0.0010 - 28s/epoch - 32ms/step
Epoch 93/100
876/876 - 30s - loss: 0.0082 - accuracy: 0.9470 - val_loss: 0.0504 - val_accuracy: 0.7044 - lr: 0.0010 - 30s/epoch - 34ms/step
Epoch 94/100
876/876 - 31s - loss: 0.0080 - accuracy: 0.9476 - val_loss: 0.0531 - val_accuracy: 0.6895 - lr: 0.0010 - 31s/epoch - 36ms/step
Epoch 95/100
876/876 - 31s - loss: 0.0082 - accuracy: 0.9475 - val_loss: 0.0505 - val_accuracy: 0.7044 - lr: 0.0010 - 31s/epoch - 35ms/step
Epoch 96/100
876/876 - 32s - loss: 0.0081 - accuracy: 0.9477 - val_loss: 0.0542 - val_accuracy: 0.6800 - lr: 0.0010 - 32s/epoch - 36ms/step
Epoch 97/100
876/876 - 31s - loss: 0.0080 - accuracy: 0.9486 - val_loss: 0.0510 - val_accuracy: 0.7061 - lr: 0.0010 - 31s/epoch - 36ms/step
Epoch 98/100
876/876 - 32s - loss: 0.0081 - accuracy: 0.9478 - val_loss: 0.0502 - val_accuracy: 0.7089 - lr: 0.0010 - 32s/epoch - 37ms/step
Epoch 99/100
876/876 - 30s - loss: 0.0078 - accuracy: 0.9501 - val_loss: 0.0497 - val_accuracy: 0.7075 - lr: 0.0010 - 30s/epoch - 35ms/step
Epoch 100/100
876/876 - 32s - loss: 0.0079 - accuracy: 0.9493 - val_loss: 0.0522 - val_accuracy: 0.6951 - lr: 0.0010 - 32s/epoch - 36ms/step
Epoch 1/100
176/176 - 22s - loss: 0.0061 - accuracy: 0.9615 - val_loss: 0.0519 - val_accuracy: 0.6989 - lr: 0.0010 - 22s/epoch - 124ms/step
Epoch 2/100
176/176 - 19s - loss: 0.0054 - accuracy: 0.9667 - val_loss: 0.0536 - val_accuracy: 0.6900 - lr: 0.0010 - 19s/epoch - 109ms/step
Epoch 3/100
176/176 - 21s - loss: 0.0053 - accuracy: 0.9675 - val_loss: 0.0543 - val_accuracy: 0.6897 - lr: 0.0010 - 21s/epoch - 118ms/step
Epoch 4/100
176/176 - 18s - loss: 0.0053 - accuracy: 0.9672 - val_loss: 0.0531 - val_accuracy: 0.6955 - lr: 0.0010 - 18s/epoch - 103ms/step
Epoch 5/100
176/176 - 17s - loss: 0.0053 - accuracy: 0.9667 - val_loss: 0.0533 - val_accuracy: 0.6956 - lr: 0.0010 - 17s/epoch - 98ms/step
Epoch 6/100
176/176 - 18s - loss: 0.0054 - accuracy: 0.9658 - val_loss: 0.0536 - val_accuracy: 0.6944 - lr: 0.0010 - 18s/epoch - 101ms/step
Epoch 7/100
176/176 - 17s - loss: 0.0056 - accuracy: 0.9653 - val_loss: 0.0542 - val_accuracy: 0.6913 - lr: 0.0010 - 17s/epoch - 97ms/step
Epoch 8/100
176/176 - 20s - loss: 0.0057 - accuracy: 0.9641 - val_loss: 0.0551 - val_accuracy: 0.6872 - lr: 0.0010 - 20s/epoch - 111ms/step
Epoch 9/100
176/176 - 16s - loss: 0.0058 - accuracy: 0.9640 - val_loss: 0.0559 - val_accuracy: 0.6797 - lr: 0.0010 - 16s/epoch - 94ms/step
Epoch 10/100
176/176 - 16s - loss: 0.0056 - accuracy: 0.9651 - val_loss: 0.0537 - val_accuracy: 0.6934 - lr: 0.0010 - 16s/epoch - 90ms/step
Epoch 11/100
176/176 - 18s - loss: 0.0053 - accuracy: 0.9671 - val_loss: 0.0543 - val_accuracy: 0.6908 - lr: 0.0010 - 18s/epoch - 100ms/step
Epoch 12/100
176/176 - 19s - loss: 0.0055 - accuracy: 0.9658 - val_loss: 0.0565 - val_accuracy: 0.6816 - lr: 0.0010 - 19s/epoch - 109ms/step
Epoch 13/100
176/176 - 18s - loss: 0.0056 - accuracy: 0.9650 - val_loss: 0.0540 - val_accuracy: 0.6934 - lr: 0.0010 - 18s/epoch - 102ms/step
Epoch 14/100
176/176 - 15s - loss: 0.0056 - accuracy: 0.9642 - val_loss: 0.0550 - val_accuracy: 0.6881 - lr: 0.0010 - 15s/epoch - 85ms/step
Epoch 15/100
176/176 - 15s - loss: 0.0056 - accuracy: 0.9650 - val_loss: 0.0554 - val_accuracy: 0.6869 - lr: 0.0010 - 15s/epoch - 83ms/step
Epoch 16/100
176/176 - 17s - loss: 0.0057 - accuracy: 0.9645 - val_loss: 0.0566 - val_accuracy: 0.6778 - lr: 0.0010 - 17s/epoch - 96ms/step
Epoch 17/100
176/176 - 20s - loss: 0.0056 - accuracy: 0.9651 - val_loss: 0.0549 - val_accuracy: 0.6890 - lr: 0.0010 - 20s/epoch - 111ms/step
Epoch 18/100
176/176 - 21s - loss: 0.0057 - accuracy: 0.9641 - val_loss: 0.0553 - val_accuracy: 0.6874 - lr: 0.0010 - 21s/epoch - 117ms/step
Epoch 19/100
176/176 - 19s - loss: 0.0056 - accuracy: 0.9654 - val_loss: 0.0542 - val_accuracy: 0.6920 - lr: 0.0010 - 19s/epoch - 106ms/step
Epoch 20/100
176/176 - 20s - loss: 0.0057 - accuracy: 0.9643 - val_loss: 0.0550 - val_accuracy: 0.6887 - lr: 0.0010 - 20s/epoch - 112ms/step
Epoch 21/100
176/176 - 22s - loss: 0.0054 - accuracy: 0.9666 - val_loss: 0.0540 - val_accuracy: 0.6944 - lr: 0.0010 - 22s/epoch - 126ms/step
Epoch 22/100
176/176 - 18s - loss: 0.0053 - accuracy: 0.9674 - val_loss: 0.0546 - val_accuracy: 0.6933 - lr: 0.0010 - 18s/epoch - 102ms/step
Epoch 23/100
176/176 - 18s - loss: 0.0055 - accuracy: 0.9657 - val_loss: 0.0570 - val_accuracy: 0.6771 - lr: 0.0010 - 18s/epoch - 105ms/step
Epoch 24/100
176/176 - 17s - loss: 0.0054 - accuracy: 0.9670 - val_loss: 0.0555 - val_accuracy: 0.6864 - lr: 0.0010 - 17s/epoch - 94ms/step
Epoch 25/100
176/176 - 15s - loss: 0.0055 - accuracy: 0.9654 - val_loss: 0.0556 - val_accuracy: 0.6851 - lr: 0.0010 - 15s/epoch - 85ms/step
Epoch 26/100
176/176 - 16s - loss: 0.0054 - accuracy: 0.9668 - val_loss: 0.0549 - val_accuracy: 0.6912 - lr: 0.0010 - 16s/epoch - 92ms/step
Epoch 27/100
176/176 - 17s - loss: 0.0055 - accuracy: 0.9657 - val_loss: 0.0530 - val_accuracy: 0.7005 - lr: 0.0010 - 17s/epoch - 94ms/step
Epoch 28/100
176/176 - 20s - loss: 0.0055 - accuracy: 0.9665 - val_loss: 0.0527 - val_accuracy: 0.7008 - lr: 0.0010 - 20s/epoch - 115ms/step
Epoch 29/100
176/176 - 38s - loss: 0.0055 - accuracy: 0.9655 - val_loss: 0.0565 - val_accuracy: 0.6803 - lr: 0.0010 - 38s/epoch - 217ms/step
Epoch 30/100
176/176 - 35s - loss: 0.0056 - accuracy: 0.9653 - val_loss: 0.0554 - val_accuracy: 0.6880 - lr: 0.0010 - 35s/epoch - 201ms/step
Epoch 31/100
176/176 - 17s - loss: 0.0056 - accuracy: 0.9655 - val_loss: 0.0531 - val_accuracy: 0.7010 - lr: 0.0010 - 17s/epoch - 98ms/step
Epoch 32/100
176/176 - 16s - loss: 0.0054 - accuracy: 0.9662 - val_loss: 0.0550 - val_accuracy: 0.6881 - lr: 0.0010 - 16s/epoch - 91ms/step
Epoch 33/100
176/176 - 18s - loss: 0.0055 - accuracy: 0.9656 - val_loss: 0.0547 - val_accuracy: 0.6904 - lr: 0.0010 - 18s/epoch - 103ms/step
Epoch 34/100
176/176 - 21s - loss: 0.0056 - accuracy: 0.9651 - val_loss: 0.0552 - val_accuracy: 0.6878 - lr: 0.0010 - 21s/epoch - 120ms/step
Epoch 35/100
176/176 - 23s - loss: 0.0054 - accuracy: 0.9669 - val_loss: 0.0556 - val_accuracy: 0.6856 - lr: 0.0010 - 23s/epoch - 130ms/step
Epoch 36/100
176/176 - 24s - loss: 0.0052 - accuracy: 0.9677 - val_loss: 0.0555 - val_accuracy: 0.6875 - lr: 0.0010 - 24s/epoch - 135ms/step
Epoch 37/100
176/176 - 18s - loss: 0.0053 - accuracy: 0.9671 - val_loss: 0.0535 - val_accuracy: 0.6971 - lr: 0.0010 - 18s/epoch - 100ms/step
Epoch 38/100
176/176 - 22s - loss: 0.0051 - accuracy: 0.9685 - val_loss: 0.0525 - val_accuracy: 0.7026 - lr: 0.0010 - 22s/epoch - 128ms/step
Epoch 39/100
176/176 - 21s - loss: 0.0053 - accuracy: 0.9672 - val_loss: 0.0541 - val_accuracy: 0.6961 - lr: 0.0010 - 21s/epoch - 118ms/step
Epoch 40/100
176/176 - 22s - loss: 0.0053 - accuracy: 0.9670 - val_loss: 0.0573 - val_accuracy: 0.6767 - lr: 0.0010 - 22s/epoch - 127ms/step
Epoch 41/100
176/176 - 17s - loss: 0.0053 - accuracy: 0.9675 - val_loss: 0.0545 - val_accuracy: 0.6932 - lr: 0.0010 - 17s/epoch - 97ms/step
Epoch 42/100
176/176 - 15s - loss: 0.0052 - accuracy: 0.9677 - val_loss: 0.0543 - val_accuracy: 0.6945 - lr: 0.0010 - 15s/epoch - 87ms/step
Epoch 43/100
176/176 - 16s - loss: 0.0052 - accuracy: 0.9673 - val_loss: 0.0540 - val_accuracy: 0.6952 - lr: 0.0010 - 16s/epoch - 90ms/step
Epoch 44/100
176/176 - 19s - loss: 0.0053 - accuracy: 0.9671 - val_loss: 0.0543 - val_accuracy: 0.6940 - lr: 0.0010 - 19s/epoch - 107ms/step
Epoch 45/100
176/176 - 25s - loss: 0.0052 - accuracy: 0.9679 - val_loss: 0.0550 - val_accuracy: 0.6895 - lr: 0.0010 - 25s/epoch - 140ms/step
Epoch 46/100
176/176 - 24s - loss: 0.0053 - accuracy: 0.9670 - val_loss: 0.0559 - val_accuracy: 0.6850 - lr: 0.0010 - 24s/epoch - 134ms/step
Epoch 47/100
176/176 - 25s - loss: 0.0052 - accuracy: 0.9676 - val_loss: 0.0565 - val_accuracy: 0.6827 - lr: 0.0010 - 25s/epoch - 145ms/step
Epoch 48/100
176/176 - 18s - loss: 0.0051 - accuracy: 0.9686 - val_loss: 0.0546 - val_accuracy: 0.6924 - lr: 0.0010 - 18s/epoch - 103ms/step
Epoch 49/100
176/176 - 17s - loss: 0.0053 - accuracy: 0.9666 - val_loss: 0.0522 - val_accuracy: 0.7068 - lr: 0.0010 - 17s/epoch - 94ms/step
Epoch 50/100
176/176 - 14s - loss: 0.0053 - accuracy: 0.9668 - val_loss: 0.0565 - val_accuracy: 0.6820 - lr: 0.0010 - 14s/epoch - 82ms/step
Epoch 51/100
176/176 - 17s - loss: 0.0053 - accuracy: 0.9672 - val_loss: 0.0570 - val_accuracy: 0.6795 - lr: 0.0010 - 17s/epoch - 96ms/step
Epoch 52/100
176/176 - 18s - loss: 0.0051 - accuracy: 0.9686 - val_loss: 0.0575 - val_accuracy: 0.6773 - lr: 0.0010 - 18s/epoch - 104ms/step
Epoch 53/100
176/176 - 21s - loss: 0.0051 - accuracy: 0.9681 - val_loss: 0.0545 - val_accuracy: 0.6944 - lr: 0.0010 - 21s/epoch - 119ms/step
Epoch 54/100
176/176 - 20s - loss: 0.0052 - accuracy: 0.9679 - val_loss: 0.0564 - val_accuracy: 0.6839 - lr: 0.0010 - 20s/epoch - 116ms/step
Epoch 55/100
176/176 - 20s - loss: 0.0050 - accuracy: 0.9693 - val_loss: 0.0567 - val_accuracy: 0.6808 - lr: 0.0010 - 20s/epoch - 114ms/step
Epoch 56/100
176/176 - 19s - loss: 0.0050 - accuracy: 0.9696 - val_loss: 0.0566 - val_accuracy: 0.6825 - lr: 0.0010 - 19s/epoch - 110ms/step
Epoch 57/100
176/176 - 21s - loss: 0.0051 - accuracy: 0.9681 - val_loss: 0.0572 - val_accuracy: 0.6766 - lr: 0.0010 - 21s/epoch - 117ms/step
Epoch 58/100
176/176 - 19s - loss: 0.0053 - accuracy: 0.9671 - val_loss: 0.0563 - val_accuracy: 0.6826 - lr: 0.0010 - 19s/epoch - 110ms/step
Epoch 59/100
176/176 - 18s - loss: 0.0054 - accuracy: 0.9660 - val_loss: 0.0550 - val_accuracy: 0.6905 - lr: 0.0010 - 18s/epoch - 99ms/step
Epoch 60/100
176/176 - 18s - loss: 0.0053 - accuracy: 0.9675 - val_loss: 0.0555 - val_accuracy: 0.6883 - lr: 0.0010 - 18s/epoch - 102ms/step
Epoch 61/100
176/176 - 21s - loss: 0.0053 - accuracy: 0.9670 - val_loss: 0.0581 - val_accuracy: 0.6734 - lr: 0.0010 - 21s/epoch - 119ms/step
Epoch 62/100
176/176 - 23s - loss: 0.0053 - accuracy: 0.9671 - val_loss: 0.0574 - val_accuracy: 0.6771 - lr: 0.0010 - 23s/epoch - 132ms/step
Epoch 63/100
176/176 - 22s - loss: 0.0055 - accuracy: 0.9657 - val_loss: 0.0558 - val_accuracy: 0.6864 - lr: 0.0010 - 22s/epoch - 122ms/step
Epoch 64/100
176/176 - 19s - loss: 0.0055 - accuracy: 0.9657 - val_loss: 0.0562 - val_accuracy: 0.6831 - lr: 0.0010 - 19s/epoch - 109ms/step
Epoch 65/100
176/176 - 21s - loss: 0.0051 - accuracy: 0.9683 - val_loss: 0.0563 - val_accuracy: 0.6821 - lr: 0.0010 - 21s/epoch - 119ms/step
Epoch 66/100
176/176 - 21s - loss: 0.0049 - accuracy: 0.9694 - val_loss: 0.0573 - val_accuracy: 0.6787 - lr: 0.0010 - 21s/epoch - 122ms/step
Epoch 67/100
176/176 - 22s - loss: 0.0049 - accuracy: 0.9697 - val_loss: 0.0555 - val_accuracy: 0.6883 - lr: 0.0010 - 22s/epoch - 126ms/step
Epoch 68/100
176/176 - 27s - loss: 0.0050 - accuracy: 0.9690 - val_loss: 0.0556 - val_accuracy: 0.6881 - lr: 0.0010 - 27s/epoch - 152ms/step
Epoch 69/100
176/176 - 24s - loss: 0.0052 - accuracy: 0.9679 - val_loss: 0.0550 - val_accuracy: 0.6918 - lr: 0.0010 - 24s/epoch - 134ms/step
Epoch 70/100
176/176 - 24s - loss: 0.0052 - accuracy: 0.9677 - val_loss: 0.0562 - val_accuracy: 0.6846 - lr: 0.0010 - 24s/epoch - 134ms/step
Epoch 71/100
176/176 - 23s - loss: 0.0052 - accuracy: 0.9675 - val_loss: 0.0572 - val_accuracy: 0.6787 - lr: 0.0010 - 23s/epoch - 130ms/step
Epoch 72/100
176/176 - 17s - loss: 0.0050 - accuracy: 0.9689 - val_loss: 0.0545 - val_accuracy: 0.6930 - lr: 0.0010 - 17s/epoch - 97ms/step
Epoch 73/100
176/176 - 22s - loss: 0.0053 - accuracy: 0.9674 - val_loss: 0.0553 - val_accuracy: 0.6893 - lr: 0.0010 - 22s/epoch - 125ms/step
Epoch 74/100
176/176 - 21s - loss: 0.0052 - accuracy: 0.9680 - val_loss: 0.0558 - val_accuracy: 0.6852 - lr: 0.0010 - 21s/epoch - 118ms/step
Epoch 75/100
176/176 - 23s - loss: 0.0050 - accuracy: 0.9688 - val_loss: 0.0541 - val_accuracy: 0.6950 - lr: 0.0010 - 23s/epoch - 130ms/step
Epoch 76/100
176/176 - 27s - loss: 0.0048 - accuracy: 0.9708 - val_loss: 0.0555 - val_accuracy: 0.6878 - lr: 0.0010 - 27s/epoch - 153ms/step
Epoch 77/100
176/176 - 19s - loss: 0.0051 - accuracy: 0.9686 - val_loss: 0.0566 - val_accuracy: 0.6810 - lr: 0.0010 - 19s/epoch - 108ms/step
Epoch 78/100
176/176 - 17s - loss: 0.0051 - accuracy: 0.9687 - val_loss: 0.0528 - val_accuracy: 0.7027 - lr: 0.0010 - 17s/epoch - 98ms/step
Epoch 79/100
176/176 - 14s - loss: 0.0052 - accuracy: 0.9678 - val_loss: 0.0557 - val_accuracy: 0.6882 - lr: 0.0010 - 14s/epoch - 80ms/step
Epoch 80/100
176/176 - 14s - loss: 0.0052 - accuracy: 0.9679 - val_loss: 0.0558 - val_accuracy: 0.6889 - lr: 0.0010 - 14s/epoch - 81ms/step
Epoch 81/100
176/176 - 16s - loss: 0.0052 - accuracy: 0.9676 - val_loss: 0.0563 - val_accuracy: 0.6846 - lr: 0.0010 - 16s/epoch - 88ms/step
Epoch 82/100
176/176 - 15s - loss: 0.0051 - accuracy: 0.9683 - val_loss: 0.0555 - val_accuracy: 0.6885 - lr: 0.0010 - 15s/epoch - 88ms/step
Epoch 83/100
176/176 - 16s - loss: 0.0053 - accuracy: 0.9672 - val_loss: 0.0580 - val_accuracy: 0.6728 - lr: 0.0010 - 16s/epoch - 92ms/step
Epoch 84/100
176/176 - 15s - loss: 0.0054 - accuracy: 0.9666 - val_loss: 0.0580 - val_accuracy: 0.6737 - lr: 0.0010 - 15s/epoch - 86ms/step
Epoch 85/100
176/176 - 16s - loss: 0.0054 - accuracy: 0.9661 - val_loss: 0.0558 - val_accuracy: 0.6856 - lr: 0.0010 - 16s/epoch - 91ms/step
Epoch 86/100
176/176 - 16s - loss: 0.0051 - accuracy: 0.9684 - val_loss: 0.0547 - val_accuracy: 0.6924 - lr: 0.0010 - 16s/epoch - 92ms/step
Epoch 87/100
176/176 - 16s - loss: 0.0050 - accuracy: 0.9686 - val_loss: 0.0557 - val_accuracy: 0.6862 - lr: 0.0010 - 16s/epoch - 92ms/step
Epoch 88/100
176/176 - 17s - loss: 0.0050 - accuracy: 0.9691 - val_loss: 0.0581 - val_accuracy: 0.6732 - lr: 0.0010 - 17s/epoch - 97ms/step
Epoch 89/100
176/176 - 19s - loss: 0.0050 - accuracy: 0.9689 - val_loss: 0.0570 - val_accuracy: 0.6795 - lr: 0.0010 - 19s/epoch - 107ms/step
Epoch 90/100
176/176 - 16s - loss: 0.0051 - accuracy: 0.9690 - val_loss: 0.0555 - val_accuracy: 0.6876 - lr: 0.0010 - 16s/epoch - 93ms/step
Epoch 91/100
176/176 - 15s - loss: 0.0050 - accuracy: 0.9690 - val_loss: 0.0555 - val_accuracy: 0.6892 - lr: 0.0010 - 15s/epoch - 87ms/step
Epoch 92/100
176/176 - 17s - loss: 0.0052 - accuracy: 0.9683 - val_loss: 0.0565 - val_accuracy: 0.6828 - lr: 0.0010 - 17s/epoch - 98ms/step
Epoch 93/100
176/176 - 17s - loss: 0.0051 - accuracy: 0.9688 - val_loss: 0.0546 - val_accuracy: 0.6956 - lr: 0.0010 - 17s/epoch - 94ms/step
Epoch 94/100
176/176 - 18s - loss: 0.0051 - accuracy: 0.9682 - val_loss: 0.0575 - val_accuracy: 0.6770 - lr: 0.0010 - 18s/epoch - 102ms/step
Epoch 95/100
176/176 - 15s - loss: 0.0051 - accuracy: 0.9683 - val_loss: 0.0567 - val_accuracy: 0.6818 - lr: 0.0010 - 15s/epoch - 85ms/step
Epoch 96/100
176/176 - 16s - loss: 0.0053 - accuracy: 0.9669 - val_loss: 0.0563 - val_accuracy: 0.6854 - lr: 0.0010 - 16s/epoch - 91ms/step
Epoch 97/100
176/176 - 16s - loss: 0.0052 - accuracy: 0.9679 - val_loss: 0.0558 - val_accuracy: 0.6873 - lr: 0.0010 - 16s/epoch - 91ms/step
Epoch 98/100
176/176 - 17s - loss: 0.0053 - accuracy: 0.9669 - val_loss: 0.0580 - val_accuracy: 0.6747 - lr: 0.0010 - 17s/epoch - 96ms/step
Epoch 99/100
176/176 - 16s - loss: 0.0053 - accuracy: 0.9670 - val_loss: 0.0559 - val_accuracy: 0.6856 - lr: 0.0010 - 16s/epoch - 90ms/step
Epoch 100/100
176/176 - 16s - loss: 0.0054 - accuracy: 0.9659 - val_loss: 0.0568 - val_accuracy: 0.6819 - lr: 0.0010 - 16s/epoch - 89ms/step
Epoch 1/100
36/36 - 20s - loss: 0.0048 - accuracy: 0.9708 - val_loss: 0.0574 - val_accuracy: 0.6779 - lr: 0.0010 - 20s/epoch - 544ms/step
Epoch 2/100
36/36 - 14s - loss: 0.0045 - accuracy: 0.9724 - val_loss: 0.0561 - val_accuracy: 0.6855 - lr: 0.0010 - 14s/epoch - 382ms/step
Epoch 3/100
36/36 - 14s - loss: 0.0042 - accuracy: 0.9747 - val_loss: 0.0577 - val_accuracy: 0.6765 - lr: 0.0010 - 14s/epoch - 384ms/step
Epoch 4/100
36/36 - 13s - loss: 0.0043 - accuracy: 0.9741 - val_loss: 0.0566 - val_accuracy: 0.6833 - lr: 0.0010 - 13s/epoch - 357ms/step
Epoch 5/100
36/36 - 14s - loss: 0.0042 - accuracy: 0.9745 - val_loss: 0.0581 - val_accuracy: 0.6758 - lr: 0.0010 - 14s/epoch - 382ms/step
Epoch 6/100
36/36 - 13s - loss: 0.0042 - accuracy: 0.9744 - val_loss: 0.0574 - val_accuracy: 0.6794 - lr: 0.0010 - 13s/epoch - 354ms/step
Epoch 7/100
36/36 - 15s - loss: 0.0042 - accuracy: 0.9742 - val_loss: 0.0582 - val_accuracy: 0.6744 - lr: 0.0010 - 15s/epoch - 411ms/step
Epoch 8/100
36/36 - 21s - loss: 0.0041 - accuracy: 0.9751 - val_loss: 0.0580 - val_accuracy: 0.6760 - lr: 0.0010 - 21s/epoch - 571ms/step
Epoch 9/100
36/36 - 15s - loss: 0.0040 - accuracy: 0.9752 - val_loss: 0.0579 - val_accuracy: 0.6764 - lr: 0.0010 - 15s/epoch - 412ms/step
Epoch 10/100
36/36 - 14s - loss: 0.0040 - accuracy: 0.9753 - val_loss: 0.0584 - val_accuracy: 0.6745 - lr: 0.0010 - 14s/epoch - 398ms/step
Epoch 11/100
36/36 - 14s - loss: 0.0040 - accuracy: 0.9758 - val_loss: 0.0577 - val_accuracy: 0.6776 - lr: 0.0010 - 14s/epoch - 376ms/step
Epoch 12/100
36/36 - 13s - loss: 0.0041 - accuracy: 0.9753 - val_loss: 0.0581 - val_accuracy: 0.6757 - lr: 0.0010 - 13s/epoch - 348ms/step
Epoch 13/100
36/36 - 14s - loss: 0.0039 - accuracy: 0.9764 - val_loss: 0.0588 - val_accuracy: 0.6723 - lr: 0.0010 - 14s/epoch - 389ms/step
Epoch 14/100
36/36 - 14s - loss: 0.0039 - accuracy: 0.9760 - val_loss: 0.0581 - val_accuracy: 0.6759 - lr: 0.0010 - 14s/epoch - 400ms/step
Epoch 15/100
36/36 - 15s - loss: 0.0039 - accuracy: 0.9760 - val_loss: 0.0576 - val_accuracy: 0.6785 - lr: 0.0010 - 15s/epoch - 417ms/step
Epoch 16/100
36/36 - 14s - loss: 0.0039 - accuracy: 0.9764 - val_loss: 0.0581 - val_accuracy: 0.6756 - lr: 0.0010 - 14s/epoch - 400ms/step
Epoch 17/100
36/36 - 14s - loss: 0.0039 - accuracy: 0.9767 - val_loss: 0.0581 - val_accuracy: 0.6759 - lr: 0.0010 - 14s/epoch - 401ms/step
Epoch 18/100
36/36 - 13s - loss: 0.0041 - accuracy: 0.9751 - val_loss: 0.0574 - val_accuracy: 0.6801 - lr: 0.0010 - 13s/epoch - 361ms/step
Epoch 19/100
36/36 - 12s - loss: 0.0039 - accuracy: 0.9764 - val_loss: 0.0573 - val_accuracy: 0.6811 - lr: 0.0010 - 12s/epoch - 339ms/step
Epoch 20/100
36/36 - 13s - loss: 0.0039 - accuracy: 0.9760 - val_loss: 0.0577 - val_accuracy: 0.6791 - lr: 0.0010 - 13s/epoch - 369ms/step
Epoch 21/100
36/36 - 13s - loss: 0.0040 - accuracy: 0.9756 - val_loss: 0.0576 - val_accuracy: 0.6781 - lr: 0.0010 - 13s/epoch - 369ms/step
Epoch 22/100
36/36 - 13s - loss: 0.0040 - accuracy: 0.9761 - val_loss: 0.0577 - val_accuracy: 0.6774 - lr: 0.0010 - 13s/epoch - 375ms/step
Epoch 23/100
36/36 - 13s - loss: 0.0039 - accuracy: 0.9760 - val_loss: 0.0592 - val_accuracy: 0.6697 - lr: 0.0010 - 13s/epoch - 366ms/step
Epoch 24/100
36/36 - 13s - loss: 0.0039 - accuracy: 0.9760 - val_loss: 0.0588 - val_accuracy: 0.6731 - lr: 0.0010 - 13s/epoch - 366ms/step
Epoch 25/100
36/36 - 15s - loss: 0.0041 - accuracy: 0.9752 - val_loss: 0.0579 - val_accuracy: 0.6777 - lr: 0.0010 - 15s/epoch - 423ms/step
Epoch 26/100
36/36 - 15s - loss: 0.0039 - accuracy: 0.9759 - val_loss: 0.0573 - val_accuracy: 0.6811 - lr: 0.0010 - 15s/epoch - 413ms/step
Epoch 27/100
36/36 - 15s - loss: 0.0040 - accuracy: 0.9760 - val_loss: 0.0592 - val_accuracy: 0.6700 - lr: 0.0010 - 15s/epoch - 427ms/step
Epoch 28/100
36/36 - 15s - loss: 0.0039 - accuracy: 0.9761 - val_loss: 0.0595 - val_accuracy: 0.6681 - lr: 0.0010 - 15s/epoch - 425ms/step
Epoch 29/100
36/36 - 15s - loss: 0.0040 - accuracy: 0.9761 - val_loss: 0.0591 - val_accuracy: 0.6711 - lr: 0.0010 - 15s/epoch - 421ms/step
Epoch 30/100
36/36 - 15s - loss: 0.0040 - accuracy: 0.9760 - val_loss: 0.0589 - val_accuracy: 0.6723 - lr: 0.0010 - 15s/epoch - 421ms/step
Epoch 31/100
36/36 - 15s - loss: 0.0039 - accuracy: 0.9766 - val_loss: 0.0587 - val_accuracy: 0.6724 - lr: 0.0010 - 15s/epoch - 411ms/step
Epoch 32/100
36/36 - 15s - loss: 0.0038 - accuracy: 0.9767 - val_loss: 0.0600 - val_accuracy: 0.6664 - lr: 0.0010 - 15s/epoch - 410ms/step
Epoch 33/100
36/36 - 17s - loss: 0.0038 - accuracy: 0.9769 - val_loss: 0.0598 - val_accuracy: 0.6666 - lr: 0.0010 - 17s/epoch - 459ms/step
Epoch 34/100
36/36 - 20s - loss: 0.0037 - accuracy: 0.9776 - val_loss: 0.0592 - val_accuracy: 0.6704 - lr: 0.0010 - 20s/epoch - 549ms/step
Epoch 35/100
36/36 - 22s - loss: 0.0039 - accuracy: 0.9767 - val_loss: 0.0587 - val_accuracy: 0.6747 - lr: 0.0010 - 22s/epoch - 616ms/step
Epoch 36/100
36/36 - 20s - loss: 0.0039 - accuracy: 0.9761 - val_loss: 0.0588 - val_accuracy: 0.6724 - lr: 0.0010 - 20s/epoch - 549ms/step
Epoch 37/100
36/36 - 16s - loss: 0.0039 - accuracy: 0.9763 - val_loss: 0.0575 - val_accuracy: 0.6798 - lr: 0.0010 - 16s/epoch - 447ms/step
Epoch 38/100
36/36 - 14s - loss: 0.0041 - accuracy: 0.9749 - val_loss: 0.0584 - val_accuracy: 0.6751 - lr: 0.0010 - 14s/epoch - 380ms/step
Epoch 39/100
36/36 - 13s - loss: 0.0040 - accuracy: 0.9759 - val_loss: 0.0585 - val_accuracy: 0.6738 - lr: 0.0010 - 13s/epoch - 351ms/step
Epoch 40/100
36/36 - 9s - loss: 0.0038 - accuracy: 0.9769 - val_loss: 0.0595 - val_accuracy: 0.6683 - lr: 0.0010 - 9s/epoch - 253ms/step
Epoch 41/100
36/36 - 9s - loss: 0.0039 - accuracy: 0.9766 - val_loss: 0.0597 - val_accuracy: 0.6677 - lr: 0.0010 - 9s/epoch - 254ms/step
Epoch 42/100
36/36 - 12s - loss: 0.0038 - accuracy: 0.9771 - val_loss: 0.0595 - val_accuracy: 0.6695 - lr: 0.0010 - 12s/epoch - 335ms/step
Epoch 43/100
36/36 - 12s - loss: 0.0038 - accuracy: 0.9770 - val_loss: 0.0590 - val_accuracy: 0.6728 - lr: 0.0010 - 12s/epoch - 339ms/step
Epoch 44/100
36/36 - 13s - loss: 0.0037 - accuracy: 0.9778 - val_loss: 0.0592 - val_accuracy: 0.6711 - lr: 0.0010 - 13s/epoch - 372ms/step
Epoch 45/100
36/36 - 14s - loss: 0.0038 - accuracy: 0.9773 - val_loss: 0.0588 - val_accuracy: 0.6728 - lr: 0.0010 - 14s/epoch - 379ms/step
Epoch 46/100
36/36 - 13s - loss: 0.0038 - accuracy: 0.9771 - val_loss: 0.0585 - val_accuracy: 0.6734 - lr: 0.0010 - 13s/epoch - 370ms/step
Epoch 47/100
36/36 - 13s - loss: 0.0039 - accuracy: 0.9769 - val_loss: 0.0590 - val_accuracy: 0.6724 - lr: 0.0010 - 13s/epoch - 350ms/step
Epoch 48/100
36/36 - 13s - loss: 0.0038 - accuracy: 0.9774 - val_loss: 0.0594 - val_accuracy: 0.6699 - lr: 0.0010 - 13s/epoch - 370ms/step
Epoch 49/100
36/36 - 14s - loss: 0.0039 - accuracy: 0.9765 - val_loss: 0.0582 - val_accuracy: 0.6766 - lr: 0.0010 - 14s/epoch - 385ms/step
Epoch 50/100
36/36 - 13s - loss: 0.0041 - accuracy: 0.9748 - val_loss: 0.0580 - val_accuracy: 0.6780 - lr: 0.0010 - 13s/epoch - 371ms/step
Epoch 51/100
36/36 - 13s - loss: 0.0038 - accuracy: 0.9767 - val_loss: 0.0585 - val_accuracy: 0.6757 - lr: 0.0010 - 13s/epoch - 361ms/step
Epoch 52/100
36/36 - 12s - loss: 0.0038 - accuracy: 0.9770 - val_loss: 0.0595 - val_accuracy: 0.6702 - lr: 0.0010 - 12s/epoch - 339ms/step
Epoch 53/100
36/36 - 12s - loss: 0.0037 - accuracy: 0.9776 - val_loss: 0.0597 - val_accuracy: 0.6684 - lr: 0.0010 - 12s/epoch - 338ms/step
Epoch 54/100
36/36 - 12s - loss: 0.0040 - accuracy: 0.9759 - val_loss: 0.0578 - val_accuracy: 0.6780 - lr: 0.0010 - 12s/epoch - 340ms/step
Epoch 55/100
36/36 - 13s - loss: 0.0037 - accuracy: 0.9774 - val_loss: 0.0588 - val_accuracy: 0.6737 - lr: 0.0010 - 13s/epoch - 353ms/step
Epoch 56/100
36/36 - 11s - loss: 0.0038 - accuracy: 0.9776 - val_loss: 0.0587 - val_accuracy: 0.6749 - lr: 0.0010 - 11s/epoch - 319ms/step
Epoch 57/100
36/36 - 11s - loss: 0.0038 - accuracy: 0.9766 - val_loss: 0.0592 - val_accuracy: 0.6713 - lr: 0.0010 - 11s/epoch - 319ms/step
Epoch 58/100
36/36 - 12s - loss: 0.0038 - accuracy: 0.9772 - val_loss: 0.0590 - val_accuracy: 0.6731 - lr: 0.0010 - 12s/epoch - 341ms/step
Epoch 59/100
36/36 - 12s - loss: 0.0037 - accuracy: 0.9774 - val_loss: 0.0588 - val_accuracy: 0.6737 - lr: 0.0010 - 12s/epoch - 329ms/step
Epoch 60/100
36/36 - 12s - loss: 0.0039 - accuracy: 0.9767 - val_loss: 0.0598 - val_accuracy: 0.6686 - lr: 0.0010 - 12s/epoch - 346ms/step
Epoch 61/100
36/36 - 11s - loss: 0.0038 - accuracy: 0.9773 - val_loss: 0.0584 - val_accuracy: 0.6759 - lr: 0.0010 - 11s/epoch - 293ms/step
Epoch 62/100
36/36 - 12s - loss: 0.0038 - accuracy: 0.9769 - val_loss: 0.0588 - val_accuracy: 0.6743 - lr: 0.0010 - 12s/epoch - 334ms/step
Epoch 63/100
36/36 - 13s - loss: 0.0038 - accuracy: 0.9774 - val_loss: 0.0588 - val_accuracy: 0.6748 - lr: 0.0010 - 13s/epoch - 358ms/step
Epoch 64/100
36/36 - 13s - loss: 0.0039 - accuracy: 0.9762 - val_loss: 0.0594 - val_accuracy: 0.6697 - lr: 0.0010 - 13s/epoch - 358ms/step
Epoch 65/100
36/36 - 12s - loss: 0.0036 - accuracy: 0.9783 - val_loss: 0.0588 - val_accuracy: 0.6740 - lr: 0.0010 - 12s/epoch - 334ms/step
Epoch 66/100
36/36 - 10s - loss: 0.0037 - accuracy: 0.9780 - val_loss: 0.0597 - val_accuracy: 0.6684 - lr: 0.0010 - 10s/epoch - 272ms/step
Epoch 67/100
36/36 - 14s - loss: 0.0036 - accuracy: 0.9780 - val_loss: 0.0595 - val_accuracy: 0.6704 - lr: 0.0010 - 14s/epoch - 389ms/step
Epoch 68/100
36/36 - 13s - loss: 0.0037 - accuracy: 0.9774 - val_loss: 0.0584 - val_accuracy: 0.6762 - lr: 0.0010 - 13s/epoch - 373ms/step
Epoch 69/100
36/36 - 14s - loss: 0.0037 - accuracy: 0.9775 - val_loss: 0.0601 - val_accuracy: 0.6669 - lr: 0.0010 - 14s/epoch - 379ms/step
Epoch 70/100
36/36 - 15s - loss: 0.0039 - accuracy: 0.9760 - val_loss: 0.0592 - val_accuracy: 0.6722 - lr: 0.0010 - 15s/epoch - 422ms/step
Epoch 71/100
36/36 - 14s - loss: 0.0038 - accuracy: 0.9765 - val_loss: 0.0599 - val_accuracy: 0.6677 - lr: 0.0010 - 14s/epoch - 396ms/step
Epoch 72/100
36/36 - 14s - loss: 0.0037 - accuracy: 0.9779 - val_loss: 0.0592 - val_accuracy: 0.6712 - lr: 0.0010 - 14s/epoch - 402ms/step
Epoch 73/100
36/36 - 15s - loss: 0.0037 - accuracy: 0.9778 - val_loss: 0.0591 - val_accuracy: 0.6725 - lr: 0.0010 - 15s/epoch - 405ms/step
Epoch 74/100
36/36 - 16s - loss: 0.0038 - accuracy: 0.9772 - val_loss: 0.0592 - val_accuracy: 0.6717 - lr: 0.0010 - 16s/epoch - 432ms/step
Epoch 75/100
36/36 - 16s - loss: 0.0038 - accuracy: 0.9775 - val_loss: 0.0601 - val_accuracy: 0.6667 - lr: 0.0010 - 16s/epoch - 442ms/step
Epoch 76/100
36/36 - 18s - loss: 0.0037 - accuracy: 0.9778 - val_loss: 0.0596 - val_accuracy: 0.6704 - lr: 0.0010 - 18s/epoch - 513ms/step
Epoch 77/100
36/36 - 17s - loss: 0.0036 - accuracy: 0.9782 - val_loss: 0.0596 - val_accuracy: 0.6708 - lr: 0.0010 - 17s/epoch - 482ms/step
Epoch 78/100
36/36 - 18s - loss: 0.0035 - accuracy: 0.9787 - val_loss: 0.0604 - val_accuracy: 0.6651 - lr: 0.0010 - 18s/epoch - 511ms/step
Epoch 79/100
36/36 - 19s - loss: 0.0037 - accuracy: 0.9777 - val_loss: 0.0606 - val_accuracy: 0.6648 - lr: 0.0010 - 19s/epoch - 536ms/step
Epoch 80/100
36/36 - 13s - loss: 0.0037 - accuracy: 0.9776 - val_loss: 0.0602 - val_accuracy: 0.6663 - lr: 0.0010 - 13s/epoch - 367ms/step
Epoch 81/100
36/36 - 15s - loss: 0.0037 - accuracy: 0.9778 - val_loss: 0.0590 - val_accuracy: 0.6740 - lr: 0.0010 - 15s/epoch - 429ms/step
Epoch 82/100
36/36 - 16s - loss: 0.0036 - accuracy: 0.9783 - val_loss: 0.0597 - val_accuracy: 0.6702 - lr: 0.0010 - 16s/epoch - 444ms/step
Epoch 83/100
36/36 - 13s - loss: 0.0036 - accuracy: 0.9783 - val_loss: 0.0606 - val_accuracy: 0.6646 - lr: 0.0010 - 13s/epoch - 352ms/step
Epoch 84/100
36/36 - 12s - loss: 0.0035 - accuracy: 0.9786 - val_loss: 0.0587 - val_accuracy: 0.6755 - lr: 0.0010 - 12s/epoch - 326ms/step
Epoch 85/100
36/36 - 12s - loss: 0.0035 - accuracy: 0.9787 - val_loss: 0.0589 - val_accuracy: 0.6747 - lr: 0.0010 - 12s/epoch - 343ms/step
Epoch 86/100
36/36 - 14s - loss: 0.0036 - accuracy: 0.9785 - val_loss: 0.0599 - val_accuracy: 0.6687 - lr: 0.0010 - 14s/epoch - 380ms/step
Epoch 87/100
36/36 - 16s - loss: 0.0038 - accuracy: 0.9770 - val_loss: 0.0581 - val_accuracy: 0.6783 - lr: 0.0010 - 16s/epoch - 439ms/step
Epoch 88/100
36/36 - 18s - loss: 0.0037 - accuracy: 0.9781 - val_loss: 0.0609 - val_accuracy: 0.6615 - lr: 0.0010 - 18s/epoch - 510ms/step
Epoch 89/100
36/36 - 14s - loss: 0.0038 - accuracy: 0.9767 - val_loss: 0.0597 - val_accuracy: 0.6699 - lr: 0.0010 - 14s/epoch - 395ms/step
Epoch 90/100
36/36 - 13s - loss: 0.0037 - accuracy: 0.9776 - val_loss: 0.0604 - val_accuracy: 0.6670 - lr: 0.0010 - 13s/epoch - 370ms/step
Epoch 91/100
36/36 - 17s - loss: 0.0036 - accuracy: 0.9778 - val_loss: 0.0603 - val_accuracy: 0.6665 - lr: 0.0010 - 17s/epoch - 469ms/step
Epoch 92/100
36/36 - 16s - loss: 0.0037 - accuracy: 0.9777 - val_loss: 0.0602 - val_accuracy: 0.6679 - lr: 0.0010 - 16s/epoch - 456ms/step
Epoch 93/100
36/36 - 14s - loss: 0.0037 - accuracy: 0.9780 - val_loss: 0.0598 - val_accuracy: 0.6694 - lr: 0.0010 - 14s/epoch - 391ms/step
Epoch 94/100
36/36 - 16s - loss: 0.0039 - accuracy: 0.9762 - val_loss: 0.0609 - val_accuracy: 0.6634 - lr: 0.0010 - 16s/epoch - 447ms/step
Epoch 95/100
36/36 - 20s - loss: 0.0045 - accuracy: 0.9722 - val_loss: 0.0585 - val_accuracy: 0.6771 - lr: 0.0010 - 20s/epoch - 547ms/step
Epoch 96/100
36/36 - 17s - loss: 0.0038 - accuracy: 0.9772 - val_loss: 0.0600 - val_accuracy: 0.6685 - lr: 0.0010 - 17s/epoch - 474ms/step
Epoch 97/100
36/36 - 21s - loss: 0.0037 - accuracy: 0.9778 - val_loss: 0.0601 - val_accuracy: 0.6678 - lr: 0.0010 - 21s/epoch - 575ms/step
Epoch 98/100
36/36 - 19s - loss: 0.0038 - accuracy: 0.9773 - val_loss: 0.0597 - val_accuracy: 0.6697 - lr: 0.0010 - 19s/epoch - 531ms/step
Epoch 99/100
36/36 - 13s - loss: 0.0036 - accuracy: 0.9780 - val_loss: 0.0595 - val_accuracy: 0.6717 - lr: 0.0010 - 13s/epoch - 365ms/step
Epoch 100/100
36/36 - 13s - loss: 0.0036 - accuracy: 0.9785 - val_loss: 0.0607 - val_accuracy: 0.6645 - lr: 0.0010 - 13s/epoch - 356ms/step
Epoch 1/25
4378/4378 - 109s - loss: 0.2293 - accuracy: 0.9332 - val_loss: 1.5139 - val_accuracy: 0.7038 - lr: 0.0010 - 109s/epoch - 25ms/step
Epoch 2/25
4378/4378 - 101s - loss: 0.2256 - accuracy: 0.9282 - val_loss: 1.3741 - val_accuracy: 0.7130 - lr: 0.0010 - 101s/epoch - 23ms/step
Epoch 3/25
4378/4378 - 112s - loss: 0.2264 - accuracy: 0.9273 - val_loss: 1.2257 - val_accuracy: 0.7131 - lr: 0.0010 - 112s/epoch - 26ms/step
Epoch 4/25
4378/4378 - 116s - loss: 0.2287 - accuracy: 0.9258 - val_loss: 1.3722 - val_accuracy: 0.6915 - lr: 0.0010 - 116s/epoch - 27ms/step
Epoch 5/25
4378/4378 - 119s - loss: 0.2283 - accuracy: 0.9265 - val_loss: 1.0709 - val_accuracy: 0.7393 - lr: 0.0010 - 119s/epoch - 27ms/step
Epoch 6/25
4378/4378 - 111s - loss: 0.2289 - accuracy: 0.9246 - val_loss: 1.1494 - val_accuracy: 0.7200 - lr: 0.0010 - 111s/epoch - 25ms/step
Epoch 7/25
4378/4378 - 121s - loss: 0.2240 - accuracy: 0.9264 - val_loss: 1.2241 - val_accuracy: 0.7076 - lr: 0.0010 - 121s/epoch - 28ms/step
Epoch 8/25
4378/4378 - 105s - loss: 0.2298 - accuracy: 0.9239 - val_loss: 1.2039 - val_accuracy: 0.7103 - lr: 0.0010 - 105s/epoch - 24ms/step
Epoch 9/25
4378/4378 - 118s - loss: 0.2239 - accuracy: 0.9256 - val_loss: 1.1040 - val_accuracy: 0.7368 - lr: 0.0010 - 118s/epoch - 27ms/step
Epoch 10/25
4378/4378 - 115s - loss: 0.2266 - accuracy: 0.9241 - val_loss: 1.1832 - val_accuracy: 0.7209 - lr: 0.0010 - 115s/epoch - 26ms/step
Epoch 11/25
4378/4378 - 122s - loss: 0.2226 - accuracy: 0.9254 - val_loss: 1.0886 - val_accuracy: 0.7282 - lr: 0.0010 - 122s/epoch - 28ms/step
Epoch 12/25
4378/4378 - 113s - loss: 0.2227 - accuracy: 0.9261 - val_loss: 1.0972 - val_accuracy: 0.7249 - lr: 0.0010 - 113s/epoch - 26ms/step
Epoch 13/25
4378/4378 - 117s - loss: 0.2242 - accuracy: 0.9246 - val_loss: 1.0842 - val_accuracy: 0.7344 - lr: 0.0010 - 117s/epoch - 27ms/step
Epoch 14/25
4378/4378 - 126s - loss: 0.2230 - accuracy: 0.9246 - val_loss: 1.2048 - val_accuracy: 0.6987 - lr: 0.0010 - 126s/epoch - 29ms/step
Epoch 15/25
4378/4378 - 114s - loss: 0.2218 - accuracy: 0.9256 - val_loss: 1.2486 - val_accuracy: 0.6968 - lr: 0.0010 - 114s/epoch - 26ms/step
Epoch 16/25
4378/4378 - 133s - loss: 0.2246 - accuracy: 0.9241 - val_loss: 1.1404 - val_accuracy: 0.7180 - lr: 0.0010 - 133s/epoch - 30ms/step
Epoch 17/25
4378/4378 - 100s - loss: 0.2151 - accuracy: 0.9276 - val_loss: 1.3358 - val_accuracy: 0.6829 - lr: 0.0010 - 100s/epoch - 23ms/step
Epoch 18/25
4378/4378 - 102s - loss: 0.2214 - accuracy: 0.9261 - val_loss: 0.9867 - val_accuracy: 0.7348 - lr: 0.0010 - 102s/epoch - 23ms/step
Epoch 19/25
4378/4378 - 105s - loss: 0.2242 - accuracy: 0.9227 - val_loss: 1.0670 - val_accuracy: 0.7310 - lr: 0.0010 - 105s/epoch - 24ms/step
Epoch 20/25
4378/4378 - 104s - loss: 0.2242 - accuracy: 0.9246 - val_loss: 1.1603 - val_accuracy: 0.7099 - lr: 0.0010 - 104s/epoch - 24ms/step
Epoch 21/25
4378/4378 - 105s - loss: 0.2229 - accuracy: 0.9244 - val_loss: 1.0260 - val_accuracy: 0.7316 - lr: 0.0010 - 105s/epoch - 24ms/step
Epoch 22/25
4378/4378 - 109s - loss: 0.2222 - accuracy: 0.9251 - val_loss: 1.1616 - val_accuracy: 0.7141 - lr: 0.0010 - 109s/epoch - 25ms/step
Epoch 23/25
4378/4378 - 119s - loss: 0.2232 - accuracy: 0.9232 - val_loss: 1.0683 - val_accuracy: 0.7199 - lr: 0.0010 - 119s/epoch - 27ms/step
Epoch 24/25
4378/4378 - 114s - loss: 0.2223 - accuracy: 0.9254 - val_loss: 1.1686 - val_accuracy: 0.7111 - lr: 0.0010 - 114s/epoch - 26ms/step
Epoch 25/25
4378/4378 - 100s - loss: 0.2273 - accuracy: 0.9227 - val_loss: 1.1680 - val_accuracy: 0.7000 - lr: 0.0010 - 100s/epoch - 23ms/step
Epoch 1/25
876/876 - 32s - loss: 0.1566 - accuracy: 0.9507 - val_loss: 1.2929 - val_accuracy: 0.7178 - lr: 0.0010 - 32s/epoch - 37ms/step
Epoch 2/25
876/876 - 29s - loss: 0.1580 - accuracy: 0.9485 - val_loss: 1.2714 - val_accuracy: 0.7273 - lr: 0.0010 - 29s/epoch - 33ms/step
Epoch 3/25
876/876 - 31s - loss: 0.1619 - accuracy: 0.9477 - val_loss: 1.4825 - val_accuracy: 0.6971 - lr: 0.0010 - 31s/epoch - 35ms/step
Epoch 4/25
876/876 - 24s - loss: 0.1625 - accuracy: 0.9472 - val_loss: 1.4045 - val_accuracy: 0.7074 - lr: 0.0010 - 24s/epoch - 28ms/step
Epoch 5/25
876/876 - 20s - loss: 0.1614 - accuracy: 0.9482 - val_loss: 1.5639 - val_accuracy: 0.6877 - lr: 0.0010 - 20s/epoch - 23ms/step
Epoch 6/25
876/876 - 26s - loss: 0.1554 - accuracy: 0.9492 - val_loss: 1.6309 - val_accuracy: 0.6861 - lr: 0.0010 - 26s/epoch - 30ms/step
Epoch 7/25
876/876 - 28s - loss: 0.1519 - accuracy: 0.9505 - val_loss: 1.6453 - val_accuracy: 0.6866 - lr: 0.0010 - 28s/epoch - 32ms/step
Epoch 8/25
876/876 - 27s - loss: 0.1534 - accuracy: 0.9503 - val_loss: 1.4564 - val_accuracy: 0.7165 - lr: 0.0010 - 27s/epoch - 30ms/step
Epoch 9/25
876/876 - 26s - loss: 0.1499 - accuracy: 0.9518 - val_loss: 1.5827 - val_accuracy: 0.6987 - lr: 0.0010 - 26s/epoch - 29ms/step
Epoch 10/25
876/876 - 27s - loss: 0.1489 - accuracy: 0.9523 - val_loss: 1.7930 - val_accuracy: 0.6689 - lr: 0.0010 - 27s/epoch - 30ms/step
Epoch 11/25
876/876 - 28s - loss: 0.1542 - accuracy: 0.9503 - val_loss: 1.5364 - val_accuracy: 0.7021 - lr: 0.0010 - 28s/epoch - 31ms/step
Epoch 12/25
876/876 - 33s - loss: 0.1512 - accuracy: 0.9516 - val_loss: 1.7169 - val_accuracy: 0.6823 - lr: 0.0010 - 33s/epoch - 38ms/step
Epoch 13/25
876/876 - 31s - loss: 0.1490 - accuracy: 0.9514 - val_loss: 1.5922 - val_accuracy: 0.6996 - lr: 0.0010 - 31s/epoch - 35ms/step
Epoch 14/25
876/876 - 32s - loss: 0.1469 - accuracy: 0.9519 - val_loss: 1.6239 - val_accuracy: 0.6960 - lr: 0.0010 - 32s/epoch - 37ms/step
Epoch 15/25
876/876 - 36s - loss: 0.1460 - accuracy: 0.9534 - val_loss: 1.7595 - val_accuracy: 0.6831 - lr: 0.0010 - 36s/epoch - 41ms/step
Epoch 16/25
876/876 - 32s - loss: 0.1461 - accuracy: 0.9524 - val_loss: 1.6262 - val_accuracy: 0.6983 - lr: 0.0010 - 32s/epoch - 37ms/step
Epoch 17/25
876/876 - 31s - loss: 0.1491 - accuracy: 0.9509 - val_loss: 1.5652 - val_accuracy: 0.7090 - lr: 0.0010 - 31s/epoch - 36ms/step
Epoch 18/25
876/876 - 31s - loss: 0.1487 - accuracy: 0.9517 - val_loss: 1.7378 - val_accuracy: 0.6858 - lr: 0.0010 - 31s/epoch - 36ms/step
Epoch 19/25
876/876 - 31s - loss: 0.1530 - accuracy: 0.9505 - val_loss: 1.6164 - val_accuracy: 0.6968 - lr: 0.0010 - 31s/epoch - 35ms/step
Epoch 20/25
876/876 - 31s - loss: 0.1475 - accuracy: 0.9521 - val_loss: 1.6572 - val_accuracy: 0.6931 - lr: 0.0010 - 31s/epoch - 35ms/step
Epoch 21/25
876/876 - 31s - loss: 0.1476 - accuracy: 0.9522 - val_loss: 1.7429 - val_accuracy: 0.6870 - lr: 0.0010 - 31s/epoch - 36ms/step
Epoch 22/25
876/876 - 31s - loss: 0.1483 - accuracy: 0.9515 - val_loss: 1.9243 - val_accuracy: 0.6652 - lr: 0.0010 - 31s/epoch - 35ms/step
Epoch 23/25
876/876 - 31s - loss: 0.1498 - accuracy: 0.9510 - val_loss: 1.7924 - val_accuracy: 0.6813 - lr: 0.0010 - 31s/epoch - 35ms/step
Epoch 24/25
876/876 - 31s - loss: 0.1497 - accuracy: 0.9514 - val_loss: 1.7715 - val_accuracy: 0.6767 - lr: 0.0010 - 31s/epoch - 35ms/step
Epoch 25/25
876/876 - 31s - loss: 0.1417 - accuracy: 0.9542 - val_loss: 1.6721 - val_accuracy: 0.6968 - lr: 0.0010 - 31s/epoch - 35ms/step
Epoch 1/25
176/176 - 29s - loss: 0.1145 - accuracy: 0.9645 - val_loss: 1.7299 - val_accuracy: 0.6956 - lr: 0.0010 - 29s/epoch - 165ms/step
Epoch 2/25
176/176 - 18s - loss: 0.1034 - accuracy: 0.9680 - val_loss: 1.8314 - val_accuracy: 0.6960 - lr: 0.0010 - 18s/epoch - 102ms/step
Epoch 3/25
176/176 - 18s - loss: 0.1022 - accuracy: 0.9692 - val_loss: 1.9641 - val_accuracy: 0.6856 - lr: 0.0010 - 18s/epoch - 100ms/step
Epoch 4/25
176/176 - 18s - loss: 0.1040 - accuracy: 0.9682 - val_loss: 2.0388 - val_accuracy: 0.6839 - lr: 0.0010 - 18s/epoch - 101ms/step
Epoch 5/25
176/176 - 18s - loss: 0.1013 - accuracy: 0.9694 - val_loss: 2.0149 - val_accuracy: 0.6842 - lr: 0.0010 - 18s/epoch - 102ms/step
Epoch 6/25
176/176 - 18s - loss: 0.1049 - accuracy: 0.9677 - val_loss: 2.0099 - val_accuracy: 0.6868 - lr: 0.0010 - 18s/epoch - 101ms/step
Epoch 7/25
176/176 - 18s - loss: 0.1082 - accuracy: 0.9665 - val_loss: 2.1091 - val_accuracy: 0.6789 - lr: 0.0010 - 18s/epoch - 101ms/step
Epoch 8/25
176/176 - 18s - loss: 0.1111 - accuracy: 0.9653 - val_loss: 2.1215 - val_accuracy: 0.6804 - lr: 0.0010 - 18s/epoch - 101ms/step
Epoch 9/25
176/176 - 18s - loss: 0.1069 - accuracy: 0.9664 - val_loss: 2.2632 - val_accuracy: 0.6665 - lr: 0.0010 - 18s/epoch - 102ms/step
Epoch 10/25
176/176 - 18s - loss: 0.1086 - accuracy: 0.9665 - val_loss: 2.0096 - val_accuracy: 0.6919 - lr: 0.0010 - 18s/epoch - 100ms/step
Epoch 11/25
176/176 - 18s - loss: 0.1087 - accuracy: 0.9659 - val_loss: 2.1501 - val_accuracy: 0.6828 - lr: 0.0010 - 18s/epoch - 102ms/step
Epoch 12/25
176/176 - 18s - loss: 0.1093 - accuracy: 0.9658 - val_loss: 2.2501 - val_accuracy: 0.6655 - lr: 0.0010 - 18s/epoch - 100ms/step
Epoch 13/25
176/176 - 18s - loss: 0.1072 - accuracy: 0.9671 - val_loss: 2.1547 - val_accuracy: 0.6792 - lr: 0.0010 - 18s/epoch - 103ms/step
Epoch 14/25
176/176 - 18s - loss: 0.1066 - accuracy: 0.9666 - val_loss: 2.0624 - val_accuracy: 0.6910 - lr: 0.0010 - 18s/epoch - 101ms/step
Epoch 15/25
176/176 - 18s - loss: 0.1061 - accuracy: 0.9675 - val_loss: 2.0880 - val_accuracy: 0.6936 - lr: 0.0010 - 18s/epoch - 101ms/step
Epoch 16/25
176/176 - 18s - loss: 0.1040 - accuracy: 0.9677 - val_loss: 2.1115 - val_accuracy: 0.6904 - lr: 0.0010 - 18s/epoch - 101ms/step
Epoch 17/25
176/176 - 18s - loss: 0.1060 - accuracy: 0.9675 - val_loss: 2.1332 - val_accuracy: 0.6899 - lr: 0.0010 - 18s/epoch - 101ms/step
Epoch 18/25
176/176 - 18s - loss: 0.1065 - accuracy: 0.9672 - val_loss: 2.3029 - val_accuracy: 0.6660 - lr: 0.0010 - 18s/epoch - 102ms/step
Epoch 19/25
176/176 - 18s - loss: 0.1032 - accuracy: 0.9681 - val_loss: 2.2149 - val_accuracy: 0.6845 - lr: 0.0010 - 18s/epoch - 102ms/step
Epoch 20/25
176/176 - 18s - loss: 0.1045 - accuracy: 0.9682 - val_loss: 2.1769 - val_accuracy: 0.6873 - lr: 0.0010 - 18s/epoch - 101ms/step
Epoch 21/25
176/176 - 18s - loss: 0.1020 - accuracy: 0.9676 - val_loss: 2.2521 - val_accuracy: 0.6777 - lr: 0.0010 - 18s/epoch - 102ms/step
Epoch 22/25
176/176 - 18s - loss: 0.1034 - accuracy: 0.9679 - val_loss: 2.2927 - val_accuracy: 0.6794 - lr: 0.0010 - 18s/epoch - 101ms/step
Epoch 23/25
176/176 - 18s - loss: 0.1054 - accuracy: 0.9676 - val_loss: 2.2087 - val_accuracy: 0.6839 - lr: 0.0010 - 18s/epoch - 102ms/step
Epoch 24/25
176/176 - 18s - loss: 0.1033 - accuracy: 0.9676 - val_loss: 2.2817 - val_accuracy: 0.6739 - lr: 0.0010 - 18s/epoch - 101ms/step
Epoch 25/25
176/176 - 18s - loss: 0.0981 - accuracy: 0.9698 - val_loss: 2.2365 - val_accuracy: 0.6853 - lr: 0.0010 - 18s/epoch - 100ms/step
Epoch 1/25
36/36 - 20s - loss: 0.0935 - accuracy: 0.9716 - val_loss: 2.2947 - val_accuracy: 0.6820 - lr: 0.0010 - 20s/epoch - 549ms/step
Epoch 2/25
36/36 - 16s - loss: 0.0872 - accuracy: 0.9732 - val_loss: 2.3470 - val_accuracy: 0.6788 - lr: 0.0010 - 16s/epoch - 454ms/step
Epoch 3/25
36/36 - 16s - loss: 0.0886 - accuracy: 0.9734 - val_loss: 2.3820 - val_accuracy: 0.6759 - lr: 0.0010 - 16s/epoch - 457ms/step
Epoch 4/25
36/36 - 16s - loss: 0.0856 - accuracy: 0.9742 - val_loss: 2.4876 - val_accuracy: 0.6670 - lr: 0.0010 - 16s/epoch - 450ms/step
Epoch 5/25
36/36 - 16s - loss: 0.0859 - accuracy: 0.9738 - val_loss: 2.4384 - val_accuracy: 0.6697 - lr: 0.0010 - 16s/epoch - 456ms/step
Epoch 6/25
36/36 - 16s - loss: 0.0869 - accuracy: 0.9737 - val_loss: 2.3922 - val_accuracy: 0.6774 - lr: 0.0010 - 16s/epoch - 449ms/step
Epoch 7/25
36/36 - 16s - loss: 0.0839 - accuracy: 0.9750 - val_loss: 2.4024 - val_accuracy: 0.6751 - lr: 0.0010 - 16s/epoch - 457ms/step
Epoch 8/25
36/36 - 16s - loss: 0.0859 - accuracy: 0.9739 - val_loss: 2.3989 - val_accuracy: 0.6756 - lr: 0.0010 - 16s/epoch - 454ms/step
Epoch 9/25
36/36 - 16s - loss: 0.0847 - accuracy: 0.9752 - val_loss: 2.4204 - val_accuracy: 0.6770 - lr: 0.0010 - 16s/epoch - 457ms/step
Epoch 10/25
36/36 - 16s - loss: 0.0852 - accuracy: 0.9747 - val_loss: 2.4311 - val_accuracy: 0.6758 - lr: 0.0010 - 16s/epoch - 452ms/step
Epoch 11/25
36/36 - 16s - loss: 0.0826 - accuracy: 0.9752 - val_loss: 2.4424 - val_accuracy: 0.6734 - lr: 0.0010 - 16s/epoch - 452ms/step
Epoch 12/25
36/36 - 16s - loss: 0.0820 - accuracy: 0.9755 - val_loss: 2.4594 - val_accuracy: 0.6756 - lr: 0.0010 - 16s/epoch - 451ms/step
Epoch 13/25
36/36 - 16s - loss: 0.0820 - accuracy: 0.9757 - val_loss: 2.4590 - val_accuracy: 0.6744 - lr: 0.0010 - 16s/epoch - 455ms/step
Epoch 14/25
36/36 - 16s - loss: 0.0803 - accuracy: 0.9763 - val_loss: 2.4600 - val_accuracy: 0.6729 - lr: 0.0010 - 16s/epoch - 458ms/step
Epoch 15/25
36/36 - 17s - loss: 0.0801 - accuracy: 0.9761 - val_loss: 2.4735 - val_accuracy: 0.6739 - lr: 0.0010 - 17s/epoch - 459ms/step
Epoch 16/25
36/36 - 16s - loss: 0.0805 - accuracy: 0.9761 - val_loss: 2.4994 - val_accuracy: 0.6708 - lr: 0.0010 - 16s/epoch - 452ms/step
Epoch 17/25
36/36 - 17s - loss: 0.0793 - accuracy: 0.9767 - val_loss: 2.5616 - val_accuracy: 0.6694 - lr: 0.0010 - 17s/epoch - 459ms/step
Epoch 18/25
36/36 - 16s - loss: 0.0823 - accuracy: 0.9754 - val_loss: 2.4854 - val_accuracy: 0.6725 - lr: 0.0010 - 16s/epoch - 456ms/step
Epoch 19/25
36/36 - 17s - loss: 0.0791 - accuracy: 0.9763 - val_loss: 2.5605 - val_accuracy: 0.6643 - lr: 0.0010 - 17s/epoch - 463ms/step
Epoch 20/25
36/36 - 16s - loss: 0.0784 - accuracy: 0.9763 - val_loss: 2.5409 - val_accuracy: 0.6709 - lr: 0.0010 - 16s/epoch - 454ms/step
Epoch 21/25
36/36 - 16s - loss: 0.0826 - accuracy: 0.9754 - val_loss: 2.5407 - val_accuracy: 0.6694 - lr: 0.0010 - 16s/epoch - 452ms/step
Epoch 22/25
36/36 - 16s - loss: 0.0830 - accuracy: 0.9749 - val_loss: 2.5584 - val_accuracy: 0.6718 - lr: 0.0010 - 16s/epoch - 457ms/step
Epoch 23/25
36/36 - 16s - loss: 0.0853 - accuracy: 0.9742 - val_loss: 2.5095 - val_accuracy: 0.6711 - lr: 0.0010 - 16s/epoch - 450ms/step
Epoch 24/25
36/36 - 16s - loss: 0.0819 - accuracy: 0.9757 - val_loss: 2.5727 - val_accuracy: 0.6668 - lr: 0.0010 - 16s/epoch - 457ms/step
Epoch 25/25
36/36 - 17s - loss: 0.0807 - accuracy: 0.9763 - val_loss: 2.6048 - val_accuracy: 0.6646 - lr: 0.0010 - 17s/epoch - 460ms/step
Epoch 1/50
4378/4378 - 100s - loss: 0.2000 - accuracy: 0.9329 - val_loss: 1.3155 - val_accuracy: 0.7162 - lr: 0.0010 - 100s/epoch - 23ms/step
Epoch 2/50
4378/4378 - 97s - loss: 0.2082 - accuracy: 0.9289 - val_loss: 1.2544 - val_accuracy: 0.7162 - lr: 0.0010 - 97s/epoch - 22ms/step
Epoch 3/50
4378/4378 - 97s - loss: 0.2082 - accuracy: 0.9288 - val_loss: 1.2679 - val_accuracy: 0.7067 - lr: 0.0010 - 97s/epoch - 22ms/step
Epoch 4/50
4378/4378 - 98s - loss: 0.2108 - accuracy: 0.9275 - val_loss: 1.2559 - val_accuracy: 0.7094 - lr: 0.0010 - 98s/epoch - 22ms/step
Epoch 5/50
4378/4378 - 97s - loss: 0.2139 - accuracy: 0.9256 - val_loss: 1.1588 - val_accuracy: 0.7255 - lr: 0.0010 - 97s/epoch - 22ms/step
Epoch 6/50
4378/4378 - 98s - loss: 0.2191 - accuracy: 0.9236 - val_loss: 1.2413 - val_accuracy: 0.7151 - lr: 0.0010 - 98s/epoch - 22ms/step
Epoch 7/50
4378/4378 - 97s - loss: 0.2199 - accuracy: 0.9240 - val_loss: 1.3572 - val_accuracy: 0.6862 - lr: 0.0010 - 97s/epoch - 22ms/step
Epoch 8/50
4378/4378 - 98s - loss: 0.2164 - accuracy: 0.9242 - val_loss: 1.2301 - val_accuracy: 0.7160 - lr: 0.0010 - 98s/epoch - 22ms/step
Epoch 9/50
4378/4378 - 97s - loss: 0.2156 - accuracy: 0.9253 - val_loss: 1.2598 - val_accuracy: 0.7057 - lr: 0.0010 - 97s/epoch - 22ms/step
Epoch 10/50
4378/4378 - 98s - loss: 0.2154 - accuracy: 0.9250 - val_loss: 1.2986 - val_accuracy: 0.7023 - lr: 0.0010 - 98s/epoch - 22ms/step
Epoch 11/50
4378/4378 - 101s - loss: 0.2202 - accuracy: 0.9232 - val_loss: 1.3209 - val_accuracy: 0.6983 - lr: 0.0010 - 101s/epoch - 23ms/step
Epoch 12/50
4378/4378 - 98s - loss: 0.2194 - accuracy: 0.9236 - val_loss: 1.2233 - val_accuracy: 0.7041 - lr: 0.0010 - 98s/epoch - 22ms/step
Epoch 13/50
4378/4378 - 103s - loss: 0.2142 - accuracy: 0.9253 - val_loss: 1.0510 - val_accuracy: 0.7366 - lr: 0.0010 - 103s/epoch - 24ms/step
Epoch 14/50
4378/4378 - 101s - loss: 0.2174 - accuracy: 0.9243 - val_loss: 1.0774 - val_accuracy: 0.7377 - lr: 0.0010 - 101s/epoch - 23ms/step
Epoch 15/50
4378/4378 - 99s - loss: 0.2140 - accuracy: 0.9268 - val_loss: 1.2377 - val_accuracy: 0.7038 - lr: 0.0010 - 99s/epoch - 23ms/step
Epoch 16/50
4378/4378 - 102s - loss: 0.2159 - accuracy: 0.9253 - val_loss: 1.2468 - val_accuracy: 0.7073 - lr: 0.0010 - 102s/epoch - 23ms/step
Epoch 17/50
4378/4378 - 106s - loss: 0.2171 - accuracy: 0.9255 - val_loss: 1.3267 - val_accuracy: 0.6919 - lr: 0.0010 - 106s/epoch - 24ms/step
Epoch 18/50
4378/4378 - 100s - loss: 0.2143 - accuracy: 0.9260 - val_loss: 1.2152 - val_accuracy: 0.7064 - lr: 0.0010 - 100s/epoch - 23ms/step
Epoch 19/50
4378/4378 - 107s - loss: 0.2115 - accuracy: 0.9267 - val_loss: 1.2327 - val_accuracy: 0.7141 - lr: 0.0010 - 107s/epoch - 24ms/step
Epoch 20/50
4378/4378 - 104s - loss: 0.2192 - accuracy: 0.9240 - val_loss: 1.1689 - val_accuracy: 0.7159 - lr: 0.0010 - 104s/epoch - 24ms/step
Epoch 21/50
4378/4378 - 105s - loss: 0.2189 - accuracy: 0.9236 - val_loss: 1.4042 - val_accuracy: 0.6654 - lr: 0.0010 - 105s/epoch - 24ms/step
Epoch 22/50
4378/4378 - 110s - loss: 0.2147 - accuracy: 0.9251 - val_loss: 1.2148 - val_accuracy: 0.7083 - lr: 0.0010 - 110s/epoch - 25ms/step
Epoch 23/50
4378/4378 - 106s - loss: 0.2178 - accuracy: 0.9243 - val_loss: 1.2156 - val_accuracy: 0.7124 - lr: 0.0010 - 106s/epoch - 24ms/step
Epoch 24/50
4378/4378 - 110s - loss: 0.2181 - accuracy: 0.9252 - val_loss: 1.1685 - val_accuracy: 0.7183 - lr: 0.0010 - 110s/epoch - 25ms/step
Epoch 25/50
4378/4378 - 107s - loss: 0.2179 - accuracy: 0.9244 - val_loss: 1.3396 - val_accuracy: 0.7005 - lr: 0.0010 - 107s/epoch - 24ms/step
Epoch 26/50
4378/4378 - 116s - loss: 0.2216 - accuracy: 0.9225 - val_loss: 1.2142 - val_accuracy: 0.7066 - lr: 0.0010 - 116s/epoch - 27ms/step
Epoch 27/50
4378/4378 - 108s - loss: 0.2160 - accuracy: 0.9251 - val_loss: 1.1774 - val_accuracy: 0.6948 - lr: 0.0010 - 108s/epoch - 25ms/step
Epoch 28/50
4378/4378 - 97s - loss: 0.2172 - accuracy: 0.9253 - val_loss: 1.1802 - val_accuracy: 0.7137 - lr: 0.0010 - 97s/epoch - 22ms/step
Epoch 29/50
4378/4378 - 99s - loss: 0.2204 - accuracy: 0.9230 - val_loss: 1.2269 - val_accuracy: 0.7016 - lr: 0.0010 - 99s/epoch - 23ms/step
Epoch 30/50
4378/4378 - 97s - loss: 0.2138 - accuracy: 0.9259 - val_loss: 1.1857 - val_accuracy: 0.7122 - lr: 0.0010 - 97s/epoch - 22ms/step
Epoch 31/50
4378/4378 - 99s - loss: 0.2178 - accuracy: 0.9237 - val_loss: 1.1419 - val_accuracy: 0.7158 - lr: 0.0010 - 99s/epoch - 23ms/step
Epoch 32/50
4378/4378 - 98s - loss: 0.2146 - accuracy: 0.9254 - val_loss: 1.2025 - val_accuracy: 0.7080 - lr: 0.0010 - 98s/epoch - 22ms/step
Epoch 33/50
4378/4378 - 99s - loss: 0.2165 - accuracy: 0.9252 - val_loss: 1.0104 - val_accuracy: 0.7479 - lr: 0.0010 - 99s/epoch - 23ms/step
Epoch 34/50
4378/4378 - 98s - loss: 0.2156 - accuracy: 0.9254 - val_loss: 1.1014 - val_accuracy: 0.7247 - lr: 0.0010 - 98s/epoch - 22ms/step
Epoch 35/50
4378/4378 - 96s - loss: 0.2163 - accuracy: 0.9254 - val_loss: 1.2448 - val_accuracy: 0.6994 - lr: 0.0010 - 96s/epoch - 22ms/step
Epoch 36/50
4378/4378 - 102s - loss: 0.2165 - accuracy: 0.9250 - val_loss: 1.0825 - val_accuracy: 0.7292 - lr: 0.0010 - 102s/epoch - 23ms/step
Epoch 37/50
4378/4378 - 96s - loss: 0.2190 - accuracy: 0.9236 - val_loss: 1.1041 - val_accuracy: 0.7155 - lr: 0.0010 - 96s/epoch - 22ms/step
Epoch 38/50
4378/4378 - 92s - loss: 0.2152 - accuracy: 0.9256 - val_loss: 1.1336 - val_accuracy: 0.7124 - lr: 0.0010 - 92s/epoch - 21ms/step
Epoch 39/50
4378/4378 - 88s - loss: 0.2144 - accuracy: 0.9250 - val_loss: 1.3072 - val_accuracy: 0.6934 - lr: 0.0010 - 88s/epoch - 20ms/step
Epoch 40/50
4378/4378 - 81s - loss: 0.2143 - accuracy: 0.9256 - val_loss: 1.2064 - val_accuracy: 0.7054 - lr: 0.0010 - 81s/epoch - 19ms/step
Epoch 41/50
4378/4378 - 75s - loss: 0.2189 - accuracy: 0.9239 - val_loss: 1.0569 - val_accuracy: 0.7305 - lr: 0.0010 - 75s/epoch - 17ms/step
Epoch 42/50
4378/4378 - 75s - loss: 0.2207 - accuracy: 0.9224 - val_loss: 1.1020 - val_accuracy: 0.7280 - lr: 0.0010 - 75s/epoch - 17ms/step
Epoch 43/50
4378/4378 - 75s - loss: 0.2204 - accuracy: 0.9225 - val_loss: 1.1267 - val_accuracy: 0.7090 - lr: 0.0010 - 75s/epoch - 17ms/step
Epoch 44/50
4378/4378 - 75s - loss: 0.2136 - accuracy: 0.9250 - val_loss: 1.2490 - val_accuracy: 0.7141 - lr: 0.0010 - 75s/epoch - 17ms/step
Epoch 45/50
4378/4378 - 75s - loss: 0.2174 - accuracy: 0.9251 - val_loss: 1.1137 - val_accuracy: 0.7274 - lr: 0.0010 - 75s/epoch - 17ms/step
Epoch 46/50
4378/4378 - 75s - loss: 0.2136 - accuracy: 0.9252 - val_loss: 1.1263 - val_accuracy: 0.7210 - lr: 0.0010 - 75s/epoch - 17ms/step
Epoch 47/50
4378/4378 - 76s - loss: 0.2198 - accuracy: 0.9236 - val_loss: 1.1678 - val_accuracy: 0.7107 - lr: 0.0010 - 76s/epoch - 17ms/step
Epoch 48/50
4378/4378 - 75s - loss: 0.2130 - accuracy: 0.9262 - val_loss: 1.0793 - val_accuracy: 0.7363 - lr: 0.0010 - 75s/epoch - 17ms/step
Epoch 49/50
4378/4378 - 75s - loss: 0.2184 - accuracy: 0.9242 - val_loss: 1.1558 - val_accuracy: 0.7134 - lr: 0.0010 - 75s/epoch - 17ms/step
Epoch 50/50
4378/4378 - 75s - loss: 0.2210 - accuracy: 0.9228 - val_loss: 1.1444 - val_accuracy: 0.7221 - lr: 0.0010 - 75s/epoch - 17ms/step
Epoch 1/50
876/876 - 23s - loss: 0.1521 - accuracy: 0.9490 - val_loss: 1.3636 - val_accuracy: 0.7107 - lr: 0.0010 - 23s/epoch - 26ms/step
Epoch 2/50
876/876 - 18s - loss: 0.1539 - accuracy: 0.9491 - val_loss: 1.5807 - val_accuracy: 0.6823 - lr: 0.0010 - 18s/epoch - 21ms/step
Epoch 3/50
876/876 - 19s - loss: 0.1555 - accuracy: 0.9474 - val_loss: 1.5624 - val_accuracy: 0.6879 - lr: 0.0010 - 19s/epoch - 21ms/step
Epoch 4/50
876/876 - 18s - loss: 0.1544 - accuracy: 0.9482 - val_loss: 1.6631 - val_accuracy: 0.6829 - lr: 0.0010 - 18s/epoch - 21ms/step
Epoch 5/50
876/876 - 18s - loss: 0.1521 - accuracy: 0.9483 - val_loss: 1.5222 - val_accuracy: 0.7016 - lr: 0.0010 - 18s/epoch - 21ms/step
Epoch 6/50
876/876 - 18s - loss: 0.1499 - accuracy: 0.9503 - val_loss: 1.6177 - val_accuracy: 0.6807 - lr: 0.0010 - 18s/epoch - 21ms/step
Epoch 7/50
876/876 - 18s - loss: 0.1485 - accuracy: 0.9506 - val_loss: 1.6239 - val_accuracy: 0.6919 - lr: 0.0010 - 18s/epoch - 21ms/step
Epoch 8/50
876/876 - 18s - loss: 0.1486 - accuracy: 0.9508 - val_loss: 1.7716 - val_accuracy: 0.6770 - lr: 0.0010 - 18s/epoch - 21ms/step
Epoch 9/50
876/876 - 18s - loss: 0.1507 - accuracy: 0.9491 - val_loss: 1.6800 - val_accuracy: 0.6934 - lr: 0.0010 - 18s/epoch - 21ms/step
Epoch 10/50
876/876 - 18s - loss: 0.1471 - accuracy: 0.9502 - val_loss: 1.6305 - val_accuracy: 0.6937 - lr: 0.0010 - 18s/epoch - 21ms/step
Epoch 11/50
876/876 - 19s - loss: 0.1433 - accuracy: 0.9524 - val_loss: 1.7188 - val_accuracy: 0.6905 - lr: 0.0010 - 19s/epoch - 21ms/step
Epoch 12/50
876/876 - 18s - loss: 0.1466 - accuracy: 0.9514 - val_loss: 1.6463 - val_accuracy: 0.6858 - lr: 0.0010 - 18s/epoch - 21ms/step
Epoch 13/50
876/876 - 18s - loss: 0.1435 - accuracy: 0.9517 - val_loss: 1.7496 - val_accuracy: 0.6857 - lr: 0.0010 - 18s/epoch - 21ms/step
Epoch 14/50
876/876 - 19s - loss: 0.1425 - accuracy: 0.9522 - val_loss: 1.7083 - val_accuracy: 0.6879 - lr: 0.0010 - 19s/epoch - 21ms/step
Epoch 15/50
876/876 - 18s - loss: 0.1452 - accuracy: 0.9518 - val_loss: 1.6190 - val_accuracy: 0.6986 - lr: 0.0010 - 18s/epoch - 21ms/step
Epoch 16/50
876/876 - 18s - loss: 0.1450 - accuracy: 0.9521 - val_loss: 1.6029 - val_accuracy: 0.6963 - lr: 0.0010 - 18s/epoch - 21ms/step
Epoch 17/50
876/876 - 18s - loss: 0.1455 - accuracy: 0.9515 - val_loss: 1.7937 - val_accuracy: 0.6743 - lr: 0.0010 - 18s/epoch - 21ms/step
Epoch 18/50
876/876 - 19s - loss: 0.1418 - accuracy: 0.9534 - val_loss: 1.6409 - val_accuracy: 0.6972 - lr: 0.0010 - 19s/epoch - 21ms/step
Epoch 19/50
876/876 - 18s - loss: 0.1420 - accuracy: 0.9530 - val_loss: 1.6172 - val_accuracy: 0.6982 - lr: 0.0010 - 18s/epoch - 21ms/step
Epoch 20/50
876/876 - 18s - loss: 0.1441 - accuracy: 0.9523 - val_loss: 1.7003 - val_accuracy: 0.6974 - lr: 0.0010 - 18s/epoch - 21ms/step
Epoch 21/50
876/876 - 18s - loss: 0.1438 - accuracy: 0.9523 - val_loss: 1.5500 - val_accuracy: 0.7154 - lr: 0.0010 - 18s/epoch - 21ms/step
Epoch 22/50
876/876 - 18s - loss: 0.1422 - accuracy: 0.9526 - val_loss: 1.7861 - val_accuracy: 0.6864 - lr: 0.0010 - 18s/epoch - 21ms/step
Epoch 23/50
876/876 - 18s - loss: 0.1438 - accuracy: 0.9522 - val_loss: 1.7251 - val_accuracy: 0.6847 - lr: 0.0010 - 18s/epoch - 21ms/step
Epoch 24/50
876/876 - 19s - loss: 0.1444 - accuracy: 0.9516 - val_loss: 1.8576 - val_accuracy: 0.6742 - lr: 0.0010 - 19s/epoch - 21ms/step
Epoch 25/50
876/876 - 18s - loss: 0.1391 - accuracy: 0.9539 - val_loss: 1.9544 - val_accuracy: 0.6670 - lr: 0.0010 - 18s/epoch - 21ms/step
Epoch 26/50
876/876 - 19s - loss: 0.1430 - accuracy: 0.9528 - val_loss: 1.6931 - val_accuracy: 0.6969 - lr: 0.0010 - 19s/epoch - 21ms/step
Epoch 27/50
876/876 - 18s - loss: 0.1393 - accuracy: 0.9531 - val_loss: 1.7233 - val_accuracy: 0.6965 - lr: 0.0010 - 18s/epoch - 21ms/step
Epoch 28/50
876/876 - 18s - loss: 0.1408 - accuracy: 0.9529 - val_loss: 1.9512 - val_accuracy: 0.6759 - lr: 0.0010 - 18s/epoch - 21ms/step
Epoch 29/50
876/876 - 18s - loss: 0.1368 - accuracy: 0.9546 - val_loss: 1.7561 - val_accuracy: 0.6936 - lr: 0.0010 - 18s/epoch - 21ms/step
Epoch 30/50
876/876 - 18s - loss: 0.1390 - accuracy: 0.9536 - val_loss: 1.7438 - val_accuracy: 0.6942 - lr: 0.0010 - 18s/epoch - 21ms/step
Epoch 31/50
876/876 - 18s - loss: 0.1400 - accuracy: 0.9532 - val_loss: 1.7644 - val_accuracy: 0.6893 - lr: 0.0010 - 18s/epoch - 21ms/step
Epoch 32/50
876/876 - 19s - loss: 0.1392 - accuracy: 0.9540 - val_loss: 1.7835 - val_accuracy: 0.6921 - lr: 0.0010 - 19s/epoch - 21ms/step
Epoch 33/50
876/876 - 18s - loss: 0.1388 - accuracy: 0.9541 - val_loss: 1.7109 - val_accuracy: 0.6954 - lr: 0.0010 - 18s/epoch - 21ms/step
Epoch 34/50
876/876 - 19s - loss: 0.1387 - accuracy: 0.9540 - val_loss: 1.6683 - val_accuracy: 0.6993 - lr: 0.0010 - 19s/epoch - 21ms/step
Epoch 35/50
876/876 - 18s - loss: 0.1402 - accuracy: 0.9531 - val_loss: 1.7672 - val_accuracy: 0.6825 - lr: 0.0010 - 18s/epoch - 21ms/step
Epoch 36/50
876/876 - 18s - loss: 0.1391 - accuracy: 0.9541 - val_loss: 1.7549 - val_accuracy: 0.6876 - lr: 0.0010 - 18s/epoch - 21ms/step
Epoch 37/50
876/876 - 18s - loss: 0.1367 - accuracy: 0.9552 - val_loss: 1.7602 - val_accuracy: 0.6891 - lr: 0.0010 - 18s/epoch - 21ms/step
Epoch 38/50
876/876 - 18s - loss: 0.1374 - accuracy: 0.9547 - val_loss: 1.6335 - val_accuracy: 0.6947 - lr: 0.0010 - 18s/epoch - 21ms/step
Epoch 39/50
876/876 - 18s - loss: 0.1373 - accuracy: 0.9543 - val_loss: 1.6890 - val_accuracy: 0.6941 - lr: 0.0010 - 18s/epoch - 21ms/step
Epoch 40/50
876/876 - 18s - loss: 0.1377 - accuracy: 0.9540 - val_loss: 1.6789 - val_accuracy: 0.7050 - lr: 0.0010 - 18s/epoch - 21ms/step
Epoch 41/50
876/876 - 19s - loss: 0.1427 - accuracy: 0.9528 - val_loss: 1.7359 - val_accuracy: 0.6942 - lr: 0.0010 - 19s/epoch - 21ms/step
Epoch 42/50
876/876 - 18s - loss: 0.1396 - accuracy: 0.9534 - val_loss: 1.8152 - val_accuracy: 0.6807 - lr: 0.0010 - 18s/epoch - 21ms/step
Epoch 43/50
876/876 - 18s - loss: 0.1411 - accuracy: 0.9524 - val_loss: 1.8370 - val_accuracy: 0.6922 - lr: 0.0010 - 18s/epoch - 21ms/step
Epoch 44/50
876/876 - 19s - loss: 0.1371 - accuracy: 0.9547 - val_loss: 1.7627 - val_accuracy: 0.6925 - lr: 0.0010 - 19s/epoch - 21ms/step
Epoch 45/50
876/876 - 18s - loss: 0.1406 - accuracy: 0.9534 - val_loss: 1.8809 - val_accuracy: 0.6707 - lr: 0.0010 - 18s/epoch - 21ms/step
Epoch 46/50
876/876 - 18s - loss: 0.1369 - accuracy: 0.9544 - val_loss: 1.8561 - val_accuracy: 0.6784 - lr: 0.0010 - 18s/epoch - 21ms/step
Epoch 47/50
876/876 - 18s - loss: 0.1381 - accuracy: 0.9536 - val_loss: 1.8816 - val_accuracy: 0.6770 - lr: 0.0010 - 18s/epoch - 21ms/step
Epoch 48/50
876/876 - 18s - loss: 0.1330 - accuracy: 0.9552 - val_loss: 1.8541 - val_accuracy: 0.6855 - lr: 0.0010 - 18s/epoch - 21ms/step
Epoch 49/50
876/876 - 19s - loss: 0.1331 - accuracy: 0.9558 - val_loss: 1.8202 - val_accuracy: 0.6833 - lr: 0.0010 - 19s/epoch - 21ms/step
Epoch 50/50
876/876 - 18s - loss: 0.1405 - accuracy: 0.9535 - val_loss: 1.7740 - val_accuracy: 0.6901 - lr: 0.0010 - 18s/epoch - 21ms/step
Epoch 1/50
176/176 - 12s - loss: 0.1062 - accuracy: 0.9659 - val_loss: 1.9330 - val_accuracy: 0.6807 - lr: 0.0010 - 12s/epoch - 68ms/step
Epoch 2/50
176/176 - 9s - loss: 0.0957 - accuracy: 0.9703 - val_loss: 2.0368 - val_accuracy: 0.6770 - lr: 0.0010 - 9s/epoch - 51ms/step
Epoch 3/50
176/176 - 9s - loss: 0.0931 - accuracy: 0.9707 - val_loss: 2.1799 - val_accuracy: 0.6708 - lr: 0.0010 - 9s/epoch - 51ms/step
Epoch 4/50
176/176 - 9s - loss: 0.0940 - accuracy: 0.9708 - val_loss: 2.0542 - val_accuracy: 0.6880 - lr: 0.0010 - 9s/epoch - 51ms/step
Epoch 5/50
176/176 - 9s - loss: 0.0937 - accuracy: 0.9706 - val_loss: 2.1584 - val_accuracy: 0.6795 - lr: 0.0010 - 9s/epoch - 51ms/step
Epoch 6/50
176/176 - 9s - loss: 0.0969 - accuracy: 0.9691 - val_loss: 2.1966 - val_accuracy: 0.6771 - lr: 0.0010 - 9s/epoch - 52ms/step
Epoch 7/50
176/176 - 9s - loss: 0.0952 - accuracy: 0.9698 - val_loss: 2.2140 - val_accuracy: 0.6807 - lr: 0.0010 - 9s/epoch - 51ms/step
Epoch 8/50
176/176 - 9s - loss: 0.0959 - accuracy: 0.9702 - val_loss: 2.2336 - val_accuracy: 0.6775 - lr: 0.0010 - 9s/epoch - 51ms/step
Epoch 9/50
176/176 - 9s - loss: 0.0981 - accuracy: 0.9688 - val_loss: 2.1482 - val_accuracy: 0.6892 - lr: 0.0010 - 9s/epoch - 51ms/step
Epoch 10/50
176/176 - 9s - loss: 0.0969 - accuracy: 0.9694 - val_loss: 2.3143 - val_accuracy: 0.6714 - lr: 0.0010 - 9s/epoch - 52ms/step
Epoch 11/50
176/176 - 9s - loss: 0.0959 - accuracy: 0.9697 - val_loss: 2.1423 - val_accuracy: 0.6911 - lr: 0.0010 - 9s/epoch - 51ms/step
Epoch 12/50
176/176 - 9s - loss: 0.0981 - accuracy: 0.9693 - val_loss: 2.2958 - val_accuracy: 0.6739 - lr: 0.0010 - 9s/epoch - 51ms/step
Epoch 13/50
176/176 - 9s - loss: 0.0999 - accuracy: 0.9688 - val_loss: 2.1634 - val_accuracy: 0.6889 - lr: 0.0010 - 9s/epoch - 51ms/step
Epoch 14/50
176/176 - 9s - loss: 0.0999 - accuracy: 0.9684 - val_loss: 2.3727 - val_accuracy: 0.6687 - lr: 0.0010 - 9s/epoch - 51ms/step
Epoch 15/50
176/176 - 9s - loss: 0.1039 - accuracy: 0.9669 - val_loss: 2.1190 - val_accuracy: 0.6929 - lr: 0.0010 - 9s/epoch - 51ms/step
Epoch 16/50
176/176 - 9s - loss: 0.0994 - accuracy: 0.9680 - val_loss: 2.3043 - val_accuracy: 0.6792 - lr: 0.0010 - 9s/epoch - 52ms/step
Epoch 17/50
176/176 - 9s - loss: 0.1008 - accuracy: 0.9674 - val_loss: 2.1948 - val_accuracy: 0.6846 - lr: 0.0010 - 9s/epoch - 51ms/step
Epoch 18/50
176/176 - 9s - loss: 0.1030 - accuracy: 0.9672 - val_loss: 2.1386 - val_accuracy: 0.6945 - lr: 0.0010 - 9s/epoch - 52ms/step
Epoch 19/50
176/176 - 9s - loss: 0.0947 - accuracy: 0.9706 - val_loss: 2.2042 - val_accuracy: 0.6845 - lr: 0.0010 - 9s/epoch - 51ms/step
Epoch 20/50
176/176 - 9s - loss: 0.0998 - accuracy: 0.9686 - val_loss: 2.2357 - val_accuracy: 0.6837 - lr: 0.0010 - 9s/epoch - 52ms/step
Epoch 21/50
176/176 - 9s - loss: 0.1000 - accuracy: 0.9682 - val_loss: 2.3275 - val_accuracy: 0.6743 - lr: 0.0010 - 9s/epoch - 51ms/step
Epoch 22/50
176/176 - 9s - loss: 0.0988 - accuracy: 0.9684 - val_loss: 2.2124 - val_accuracy: 0.6897 - lr: 0.0010 - 9s/epoch - 52ms/step
Epoch 23/50
176/176 - 9s - loss: 0.0929 - accuracy: 0.9703 - val_loss: 2.2239 - val_accuracy: 0.6886 - lr: 0.0010 - 9s/epoch - 51ms/step
Epoch 24/50
176/176 - 9s - loss: 0.0943 - accuracy: 0.9701 - val_loss: 2.2884 - val_accuracy: 0.6803 - lr: 0.0010 - 9s/epoch - 51ms/step
Epoch 25/50
176/176 - 9s - loss: 0.0954 - accuracy: 0.9697 - val_loss: 2.3619 - val_accuracy: 0.6747 - lr: 0.0010 - 9s/epoch - 52ms/step
Epoch 26/50
176/176 - 9s - loss: 0.0979 - accuracy: 0.9692 - val_loss: 2.3149 - val_accuracy: 0.6813 - lr: 0.0010 - 9s/epoch - 51ms/step
Epoch 27/50
176/176 - 9s - loss: 0.0929 - accuracy: 0.9708 - val_loss: 2.4264 - val_accuracy: 0.6767 - lr: 0.0010 - 9s/epoch - 52ms/step
Epoch 28/50
176/176 - 9s - loss: 0.0926 - accuracy: 0.9708 - val_loss: 2.4025 - val_accuracy: 0.6762 - lr: 0.0010 - 9s/epoch - 51ms/step
Epoch 29/50
176/176 - 9s - loss: 0.0961 - accuracy: 0.9692 - val_loss: 2.4175 - val_accuracy: 0.6720 - lr: 0.0010 - 9s/epoch - 51ms/step
Epoch 30/50
176/176 - 9s - loss: 0.0972 - accuracy: 0.9695 - val_loss: 2.4387 - val_accuracy: 0.6756 - lr: 0.0010 - 9s/epoch - 51ms/step
Epoch 31/50
176/176 - 9s - loss: 0.0936 - accuracy: 0.9702 - val_loss: 2.3642 - val_accuracy: 0.6796 - lr: 0.0010 - 9s/epoch - 52ms/step
Epoch 32/50
176/176 - 9s - loss: 0.0949 - accuracy: 0.9697 - val_loss: 2.4159 - val_accuracy: 0.6745 - lr: 0.0010 - 9s/epoch - 51ms/step
Epoch 33/50
176/176 - 9s - loss: 0.0986 - accuracy: 0.9691 - val_loss: 2.2563 - val_accuracy: 0.6951 - lr: 0.0010 - 9s/epoch - 52ms/step
Epoch 34/50
176/176 - 9s - loss: 0.0957 - accuracy: 0.9696 - val_loss: 2.3019 - val_accuracy: 0.6862 - lr: 0.0010 - 9s/epoch - 52ms/step
Epoch 35/50
176/176 - 9s - loss: 0.0989 - accuracy: 0.9681 - val_loss: 2.4029 - val_accuracy: 0.6764 - lr: 0.0010 - 9s/epoch - 51ms/step
Epoch 36/50
176/176 - 9s - loss: 0.0973 - accuracy: 0.9693 - val_loss: 2.4429 - val_accuracy: 0.6761 - lr: 0.0010 - 9s/epoch - 51ms/step
Epoch 37/50
176/176 - 9s - loss: 0.0980 - accuracy: 0.9692 - val_loss: 2.3981 - val_accuracy: 0.6776 - lr: 0.0010 - 9s/epoch - 51ms/step
Epoch 38/50
176/176 - 9s - loss: 0.0955 - accuracy: 0.9699 - val_loss: 2.5134 - val_accuracy: 0.6714 - lr: 0.0010 - 9s/epoch - 51ms/step
Epoch 39/50
176/176 - 9s - loss: 0.0926 - accuracy: 0.9714 - val_loss: 2.4076 - val_accuracy: 0.6773 - lr: 0.0010 - 9s/epoch - 52ms/step
Epoch 40/50
176/176 - 9s - loss: 0.0923 - accuracy: 0.9708 - val_loss: 2.5908 - val_accuracy: 0.6613 - lr: 0.0010 - 9s/epoch - 52ms/step
Epoch 41/50
176/176 - 9s - loss: 0.0963 - accuracy: 0.9690 - val_loss: 2.6260 - val_accuracy: 0.6612 - lr: 0.0010 - 9s/epoch - 52ms/step
Epoch 42/50
176/176 - 9s - loss: 0.0963 - accuracy: 0.9697 - val_loss: 2.4653 - val_accuracy: 0.6716 - lr: 0.0010 - 9s/epoch - 52ms/step
Epoch 43/50
176/176 - 9s - loss: 0.0965 - accuracy: 0.9693 - val_loss: 2.4114 - val_accuracy: 0.6813 - lr: 0.0010 - 9s/epoch - 51ms/step
Epoch 44/50
176/176 - 9s - loss: 0.0973 - accuracy: 0.9692 - val_loss: 2.4141 - val_accuracy: 0.6781 - lr: 0.0010 - 9s/epoch - 51ms/step
Epoch 45/50
176/176 - 9s - loss: 0.0938 - accuracy: 0.9701 - val_loss: 2.5282 - val_accuracy: 0.6704 - lr: 0.0010 - 9s/epoch - 51ms/step
Epoch 46/50
176/176 - 9s - loss: 0.0948 - accuracy: 0.9700 - val_loss: 2.4335 - val_accuracy: 0.6749 - lr: 0.0010 - 9s/epoch - 51ms/step
Epoch 47/50
176/176 - 9s - loss: 0.0944 - accuracy: 0.9701 - val_loss: 2.4739 - val_accuracy: 0.6700 - lr: 0.0010 - 9s/epoch - 51ms/step
Epoch 48/50
176/176 - 9s - loss: 0.0979 - accuracy: 0.9694 - val_loss: 2.4092 - val_accuracy: 0.6801 - lr: 0.0010 - 9s/epoch - 51ms/step
Epoch 49/50
176/176 - 9s - loss: 0.0961 - accuracy: 0.9689 - val_loss: 2.5071 - val_accuracy: 0.6702 - lr: 0.0010 - 9s/epoch - 52ms/step
Epoch 50/50
176/176 - 9s - loss: 0.0963 - accuracy: 0.9692 - val_loss: 2.4461 - val_accuracy: 0.6721 - lr: 0.0010 - 9s/epoch - 51ms/step
Epoch 1/50
36/36 - 10s - loss: 0.0901 - accuracy: 0.9717 - val_loss: 2.5115 - val_accuracy: 0.6742 - lr: 0.0010 - 10s/epoch - 291ms/step
Epoch 2/50
36/36 - 8s - loss: 0.0798 - accuracy: 0.9759 - val_loss: 2.5904 - val_accuracy: 0.6676 - lr: 0.0010 - 8s/epoch - 214ms/step
Epoch 3/50
36/36 - 8s - loss: 0.0804 - accuracy: 0.9751 - val_loss: 2.6131 - val_accuracy: 0.6686 - lr: 0.0010 - 8s/epoch - 215ms/step
Epoch 4/50
36/36 - 8s - loss: 0.0754 - accuracy: 0.9771 - val_loss: 2.5738 - val_accuracy: 0.6697 - lr: 0.0010 - 8s/epoch - 215ms/step
Epoch 5/50
36/36 - 8s - loss: 0.0741 - accuracy: 0.9773 - val_loss: 2.5921 - val_accuracy: 0.6695 - lr: 0.0010 - 8s/epoch - 215ms/step
Epoch 6/50
36/36 - 8s - loss: 0.0761 - accuracy: 0.9766 - val_loss: 2.6519 - val_accuracy: 0.6669 - lr: 0.0010 - 8s/epoch - 215ms/step
Epoch 7/50
36/36 - 8s - loss: 0.0732 - accuracy: 0.9779 - val_loss: 2.6219 - val_accuracy: 0.6707 - lr: 0.0010 - 8s/epoch - 215ms/step
Epoch 8/50
36/36 - 8s - loss: 0.0742 - accuracy: 0.9773 - val_loss: 2.6223 - val_accuracy: 0.6712 - lr: 0.0010 - 8s/epoch - 215ms/step
Epoch 9/50
36/36 - 8s - loss: 0.0739 - accuracy: 0.9773 - val_loss: 2.6831 - val_accuracy: 0.6654 - lr: 0.0010 - 8s/epoch - 216ms/step
Epoch 10/50
36/36 - 8s - loss: 0.0749 - accuracy: 0.9775 - val_loss: 2.6932 - val_accuracy: 0.6656 - lr: 0.0010 - 8s/epoch - 215ms/step
Epoch 11/50
36/36 - 8s - loss: 0.0718 - accuracy: 0.9780 - val_loss: 2.6816 - val_accuracy: 0.6673 - lr: 0.0010 - 8s/epoch - 216ms/step
Epoch 12/50
36/36 - 8s - loss: 0.0743 - accuracy: 0.9773 - val_loss: 2.6446 - val_accuracy: 0.6666 - lr: 0.0010 - 8s/epoch - 215ms/step
Epoch 13/50
36/36 - 8s - loss: 0.0724 - accuracy: 0.9777 - val_loss: 2.6593 - val_accuracy: 0.6685 - lr: 0.0010 - 8s/epoch - 215ms/step
Epoch 14/50
36/36 - 8s - loss: 0.0711 - accuracy: 0.9785 - val_loss: 2.6695 - val_accuracy: 0.6698 - lr: 0.0010 - 8s/epoch - 215ms/step
Epoch 15/50
36/36 - 8s - loss: 0.0727 - accuracy: 0.9777 - val_loss: 2.6875 - val_accuracy: 0.6675 - lr: 0.0010 - 8s/epoch - 216ms/step
Epoch 16/50
36/36 - 8s - loss: 0.0739 - accuracy: 0.9772 - val_loss: 2.6477 - val_accuracy: 0.6734 - lr: 0.0010 - 8s/epoch - 215ms/step
Epoch 17/50
36/36 - 8s - loss: 0.0717 - accuracy: 0.9780 - val_loss: 2.7031 - val_accuracy: 0.6679 - lr: 0.0010 - 8s/epoch - 215ms/step
Epoch 18/50
36/36 - 8s - loss: 0.0763 - accuracy: 0.9769 - val_loss: 2.6367 - val_accuracy: 0.6720 - lr: 0.0010 - 8s/epoch - 215ms/step
Epoch 19/50
36/36 - 8s - loss: 0.0725 - accuracy: 0.9779 - val_loss: 2.7599 - val_accuracy: 0.6645 - lr: 0.0010 - 8s/epoch - 215ms/step
Epoch 20/50
36/36 - 8s - loss: 0.0727 - accuracy: 0.9778 - val_loss: 2.7571 - val_accuracy: 0.6636 - lr: 0.0010 - 8s/epoch - 215ms/step
Epoch 21/50
36/36 - 8s - loss: 0.0706 - accuracy: 0.9781 - val_loss: 2.7518 - val_accuracy: 0.6656 - lr: 0.0010 - 8s/epoch - 215ms/step
Epoch 22/50
36/36 - 8s - loss: 0.0717 - accuracy: 0.9787 - val_loss: 2.7763 - val_accuracy: 0.6624 - lr: 0.0010 - 8s/epoch - 215ms/step
Epoch 23/50
36/36 - 8s - loss: 0.0700 - accuracy: 0.9783 - val_loss: 2.7337 - val_accuracy: 0.6657 - lr: 0.0010 - 8s/epoch - 215ms/step
Epoch 24/50
36/36 - 8s - loss: 0.0696 - accuracy: 0.9790 - val_loss: 2.7984 - val_accuracy: 0.6626 - lr: 0.0010 - 8s/epoch - 215ms/step
Epoch 25/50
36/36 - 8s - loss: 0.0716 - accuracy: 0.9781 - val_loss: 2.7872 - val_accuracy: 0.6653 - lr: 0.0010 - 8s/epoch - 215ms/step
Epoch 26/50
36/36 - 8s - loss: 0.0709 - accuracy: 0.9784 - val_loss: 2.7628 - val_accuracy: 0.6682 - lr: 0.0010 - 8s/epoch - 215ms/step
Epoch 27/50
36/36 - 8s - loss: 0.0735 - accuracy: 0.9778 - val_loss: 2.7553 - val_accuracy: 0.6660 - lr: 0.0010 - 8s/epoch - 215ms/step
Epoch 28/50
36/36 - 8s - loss: 0.0718 - accuracy: 0.9784 - val_loss: 2.8083 - val_accuracy: 0.6660 - lr: 0.0010 - 8s/epoch - 215ms/step
Epoch 29/50
36/36 - 8s - loss: 0.0689 - accuracy: 0.9788 - val_loss: 2.8153 - val_accuracy: 0.6644 - lr: 0.0010 - 8s/epoch - 215ms/step
Epoch 30/50
36/36 - 8s - loss: 0.0706 - accuracy: 0.9781 - val_loss: 2.8436 - val_accuracy: 0.6632 - lr: 0.0010 - 8s/epoch - 215ms/step
Epoch 31/50
36/36 - 8s - loss: 0.0714 - accuracy: 0.9781 - val_loss: 2.8337 - val_accuracy: 0.6642 - lr: 0.0010 - 8s/epoch - 215ms/step
Epoch 32/50
36/36 - 8s - loss: 0.0706 - accuracy: 0.9785 - val_loss: 2.8880 - val_accuracy: 0.6588 - lr: 0.0010 - 8s/epoch - 215ms/step
Epoch 33/50
36/36 - 8s - loss: 0.0676 - accuracy: 0.9798 - val_loss: 2.8974 - val_accuracy: 0.6589 - lr: 0.0010 - 8s/epoch - 215ms/step
Epoch 34/50
36/36 - 8s - loss: 0.0665 - accuracy: 0.9796 - val_loss: 2.8752 - val_accuracy: 0.6616 - lr: 0.0010 - 8s/epoch - 216ms/step
Epoch 35/50
36/36 - 8s - loss: 0.0673 - accuracy: 0.9795 - val_loss: 2.8675 - val_accuracy: 0.6633 - lr: 0.0010 - 8s/epoch - 215ms/step
Epoch 36/50
36/36 - 8s - loss: 0.0710 - accuracy: 0.9790 - val_loss: 2.9845 - val_accuracy: 0.6535 - lr: 0.0010 - 8s/epoch - 216ms/step
Epoch 37/50
36/36 - 8s - loss: 0.0720 - accuracy: 0.9780 - val_loss: 2.8900 - val_accuracy: 0.6637 - lr: 0.0010 - 8s/epoch - 215ms/step
Epoch 38/50
36/36 - 8s - loss: 0.0685 - accuracy: 0.9791 - val_loss: 2.9585 - val_accuracy: 0.6538 - lr: 0.0010 - 8s/epoch - 215ms/step
Epoch 39/50
36/36 - 8s - loss: 0.0703 - accuracy: 0.9785 - val_loss: 2.9501 - val_accuracy: 0.6574 - lr: 0.0010 - 8s/epoch - 215ms/step
Epoch 40/50
36/36 - 8s - loss: 0.0692 - accuracy: 0.9790 - val_loss: 2.9240 - val_accuracy: 0.6605 - lr: 0.0010 - 8s/epoch - 215ms/step
Epoch 41/50
36/36 - 8s - loss: 0.0712 - accuracy: 0.9776 - val_loss: 2.9040 - val_accuracy: 0.6612 - lr: 0.0010 - 8s/epoch - 215ms/step
Epoch 42/50
36/36 - 8s - loss: 0.0684 - accuracy: 0.9792 - val_loss: 2.9125 - val_accuracy: 0.6604 - lr: 0.0010 - 8s/epoch - 216ms/step
Epoch 43/50
36/36 - 8s - loss: 0.0701 - accuracy: 0.9793 - val_loss: 2.9130 - val_accuracy: 0.6583 - lr: 0.0010 - 8s/epoch - 215ms/step
Epoch 44/50
36/36 - 8s - loss: 0.0708 - accuracy: 0.9782 - val_loss: 2.9880 - val_accuracy: 0.6539 - lr: 0.0010 - 8s/epoch - 215ms/step
Epoch 45/50
36/36 - 8s - loss: 0.0685 - accuracy: 0.9787 - val_loss: 2.9535 - val_accuracy: 0.6560 - lr: 0.0010 - 8s/epoch - 215ms/step
Epoch 46/50
36/36 - 8s - loss: 0.0671 - accuracy: 0.9796 - val_loss: 2.9883 - val_accuracy: 0.6554 - lr: 0.0010 - 8s/epoch - 215ms/step
Epoch 47/50
36/36 - 8s - loss: 0.0667 - accuracy: 0.9796 - val_loss: 2.9273 - val_accuracy: 0.6614 - lr: 0.0010 - 8s/epoch - 216ms/step
Epoch 48/50
36/36 - 8s - loss: 0.0704 - accuracy: 0.9786 - val_loss: 2.9374 - val_accuracy: 0.6627 - lr: 0.0010 - 8s/epoch - 215ms/step
Epoch 49/50
36/36 - 8s - loss: 0.0679 - accuracy: 0.9790 - val_loss: 2.9830 - val_accuracy: 0.6585 - lr: 0.0010 - 8s/epoch - 215ms/step
Epoch 50/50
36/36 - 8s - loss: 0.0710 - accuracy: 0.9784 - val_loss: 2.9228 - val_accuracy: 0.6608 - lr: 0.0010 - 8s/epoch - 215ms/step
Epoch 1/75
4378/4378 - 77s - loss: 0.1940 - accuracy: 0.9354 - val_loss: 1.7387 - val_accuracy: 0.6964 - lr: 0.0010 - 77s/epoch - 18ms/step
Epoch 2/75
4378/4378 - 76s - loss: 0.1976 - accuracy: 0.9320 - val_loss: 1.6878 - val_accuracy: 0.6725 - lr: 0.0010 - 76s/epoch - 17ms/step
Epoch 3/75
4378/4378 - 75s - loss: 0.2012 - accuracy: 0.9291 - val_loss: 1.3710 - val_accuracy: 0.7039 - lr: 0.0010 - 75s/epoch - 17ms/step
Epoch 4/75
4378/4378 - 75s - loss: 0.2062 - accuracy: 0.9286 - val_loss: 1.4686 - val_accuracy: 0.6734 - lr: 0.0010 - 75s/epoch - 17ms/step
Epoch 5/75
4378/4378 - 74s - loss: 0.2089 - accuracy: 0.9273 - val_loss: 1.4143 - val_accuracy: 0.6853 - lr: 0.0010 - 74s/epoch - 17ms/step
Epoch 6/75
4378/4378 - 74s - loss: 0.2093 - accuracy: 0.9260 - val_loss: 1.4837 - val_accuracy: 0.6766 - lr: 0.0010 - 74s/epoch - 17ms/step
Epoch 7/75
4378/4378 - 74s - loss: 0.2101 - accuracy: 0.9262 - val_loss: 1.3557 - val_accuracy: 0.6796 - lr: 0.0010 - 74s/epoch - 17ms/step
Epoch 8/75
4378/4378 - 75s - loss: 0.2095 - accuracy: 0.9275 - val_loss: 1.3431 - val_accuracy: 0.6896 - lr: 0.0010 - 75s/epoch - 17ms/step
Epoch 9/75
4378/4378 - 75s - loss: 0.2074 - accuracy: 0.9273 - val_loss: 1.1831 - val_accuracy: 0.7229 - lr: 0.0010 - 75s/epoch - 17ms/step
Epoch 10/75
4378/4378 - 78s - loss: 0.2049 - accuracy: 0.9282 - val_loss: 1.4213 - val_accuracy: 0.6824 - lr: 0.0010 - 78s/epoch - 18ms/step
Epoch 11/75
4378/4378 - 79s - loss: 0.2078 - accuracy: 0.9274 - val_loss: 1.2118 - val_accuracy: 0.7109 - lr: 0.0010 - 79s/epoch - 18ms/step
Epoch 12/75
4378/4378 - 75s - loss: 0.2045 - accuracy: 0.9288 - val_loss: 1.2449 - val_accuracy: 0.7072 - lr: 0.0010 - 75s/epoch - 17ms/step
Epoch 13/75
4378/4378 - 75s - loss: 0.2101 - accuracy: 0.9260 - val_loss: 1.2823 - val_accuracy: 0.6956 - lr: 0.0010 - 75s/epoch - 17ms/step
Epoch 14/75
4378/4378 - 74s - loss: 0.2123 - accuracy: 0.9250 - val_loss: 1.1722 - val_accuracy: 0.7139 - lr: 0.0010 - 74s/epoch - 17ms/step
Epoch 15/75
4378/4378 - 74s - loss: 0.2097 - accuracy: 0.9263 - val_loss: 1.2923 - val_accuracy: 0.6906 - lr: 0.0010 - 74s/epoch - 17ms/step
Epoch 16/75
4378/4378 - 74s - loss: 0.2073 - accuracy: 0.9277 - val_loss: 1.2422 - val_accuracy: 0.7002 - lr: 0.0010 - 74s/epoch - 17ms/step
Epoch 17/75
4378/4378 - 74s - loss: 0.2077 - accuracy: 0.9272 - val_loss: 1.5467 - val_accuracy: 0.6581 - lr: 0.0010 - 74s/epoch - 17ms/step
Epoch 18/75
4378/4378 - 74s - loss: 0.2093 - accuracy: 0.9262 - val_loss: 1.1856 - val_accuracy: 0.7127 - lr: 0.0010 - 74s/epoch - 17ms/step
Epoch 19/75
4378/4378 - 74s - loss: 0.2106 - accuracy: 0.9266 - val_loss: 1.1972 - val_accuracy: 0.7144 - lr: 0.0010 - 74s/epoch - 17ms/step
Epoch 20/75
4378/4378 - 74s - loss: 0.2105 - accuracy: 0.9264 - val_loss: 1.2619 - val_accuracy: 0.7036 - lr: 0.0010 - 74s/epoch - 17ms/step
Epoch 21/75
4378/4378 - 75s - loss: 0.2139 - accuracy: 0.9251 - val_loss: 1.2229 - val_accuracy: 0.7086 - lr: 0.0010 - 75s/epoch - 17ms/step
Epoch 22/75
4378/4378 - 75s - loss: 0.2133 - accuracy: 0.9254 - val_loss: 1.1964 - val_accuracy: 0.7065 - lr: 0.0010 - 75s/epoch - 17ms/step
Epoch 23/75
4378/4378 - 74s - loss: 0.2135 - accuracy: 0.9248 - val_loss: 1.1609 - val_accuracy: 0.7122 - lr: 0.0010 - 74s/epoch - 17ms/step
Epoch 24/75
4378/4378 - 75s - loss: 0.2101 - accuracy: 0.9259 - val_loss: 1.3706 - val_accuracy: 0.6728 - lr: 0.0010 - 75s/epoch - 17ms/step
Epoch 25/75
4378/4378 - 74s - loss: 0.2072 - accuracy: 0.9284 - val_loss: 1.1607 - val_accuracy: 0.7230 - lr: 0.0010 - 74s/epoch - 17ms/step
Epoch 26/75
4378/4378 - 74s - loss: 0.2086 - accuracy: 0.9273 - val_loss: 1.0424 - val_accuracy: 0.7410 - lr: 0.0010 - 74s/epoch - 17ms/step
Epoch 27/75
4378/4378 - 74s - loss: 0.2133 - accuracy: 0.9254 - val_loss: 1.2596 - val_accuracy: 0.7034 - lr: 0.0010 - 74s/epoch - 17ms/step
Epoch 28/75
4378/4378 - 75s - loss: 0.2108 - accuracy: 0.9263 - val_loss: 1.2003 - val_accuracy: 0.7153 - lr: 0.0010 - 75s/epoch - 17ms/step
Epoch 29/75
4378/4378 - 75s - loss: 0.2126 - accuracy: 0.9255 - val_loss: 1.1841 - val_accuracy: 0.7058 - lr: 0.0010 - 75s/epoch - 17ms/step
Epoch 30/75
4378/4378 - 75s - loss: 0.2134 - accuracy: 0.9240 - val_loss: 1.1601 - val_accuracy: 0.7127 - lr: 0.0010 - 75s/epoch - 17ms/step
Epoch 31/75
4378/4378 - 75s - loss: 0.2062 - accuracy: 0.9278 - val_loss: 1.4782 - val_accuracy: 0.6720 - lr: 0.0010 - 75s/epoch - 17ms/step
Epoch 32/75
4378/4378 - 74s - loss: 0.2058 - accuracy: 0.9275 - val_loss: 1.2084 - val_accuracy: 0.7124 - lr: 0.0010 - 74s/epoch - 17ms/step
Epoch 33/75
4378/4378 - 74s - loss: 0.2093 - accuracy: 0.9266 - val_loss: 1.2389 - val_accuracy: 0.7183 - lr: 0.0010 - 74s/epoch - 17ms/step
Epoch 34/75
4378/4378 - 74s - loss: 0.2113 - accuracy: 0.9260 - val_loss: 1.1723 - val_accuracy: 0.7258 - lr: 0.0010 - 74s/epoch - 17ms/step
Epoch 35/75
4378/4378 - 75s - loss: 0.2104 - accuracy: 0.9264 - val_loss: 1.1491 - val_accuracy: 0.7209 - lr: 0.0010 - 75s/epoch - 17ms/step
Epoch 36/75
4378/4378 - 75s - loss: 0.2120 - accuracy: 0.9265 - val_loss: 1.1981 - val_accuracy: 0.7144 - lr: 0.0010 - 75s/epoch - 17ms/step
Epoch 37/75
4378/4378 - 75s - loss: 0.2045 - accuracy: 0.9285 - val_loss: 1.3220 - val_accuracy: 0.7030 - lr: 0.0010 - 75s/epoch - 17ms/step
Epoch 38/75
4378/4378 - 74s - loss: 0.2078 - accuracy: 0.9272 - val_loss: 1.2730 - val_accuracy: 0.6948 - lr: 0.0010 - 74s/epoch - 17ms/step
Epoch 39/75
4378/4378 - 74s - loss: 0.2112 - accuracy: 0.9255 - val_loss: 1.1372 - val_accuracy: 0.7357 - lr: 0.0010 - 74s/epoch - 17ms/step
Epoch 40/75
4378/4378 - 74s - loss: 0.2148 - accuracy: 0.9250 - val_loss: 1.3473 - val_accuracy: 0.6943 - lr: 0.0010 - 74s/epoch - 17ms/step
Epoch 41/75
4378/4378 - 75s - loss: 0.2109 - accuracy: 0.9259 - val_loss: 1.1890 - val_accuracy: 0.7112 - lr: 0.0010 - 75s/epoch - 17ms/step
Epoch 42/75
4378/4378 - 75s - loss: 0.2120 - accuracy: 0.9256 - val_loss: 1.3284 - val_accuracy: 0.6988 - lr: 0.0010 - 75s/epoch - 17ms/step
Epoch 43/75
4378/4378 - 74s - loss: 0.2093 - accuracy: 0.9279 - val_loss: 1.1605 - val_accuracy: 0.7200 - lr: 0.0010 - 74s/epoch - 17ms/step
Epoch 44/75
4378/4378 - 74s - loss: 0.2135 - accuracy: 0.9251 - val_loss: 1.3066 - val_accuracy: 0.6949 - lr: 0.0010 - 74s/epoch - 17ms/step
Epoch 45/75
4378/4378 - 74s - loss: 0.2088 - accuracy: 0.9271 - val_loss: 1.2973 - val_accuracy: 0.6962 - lr: 0.0010 - 74s/epoch - 17ms/step
Epoch 46/75
4378/4378 - 75s - loss: 0.2134 - accuracy: 0.9246 - val_loss: 1.3240 - val_accuracy: 0.6808 - lr: 0.0010 - 75s/epoch - 17ms/step
Epoch 47/75
4378/4378 - 75s - loss: 0.2084 - accuracy: 0.9268 - val_loss: 1.3257 - val_accuracy: 0.6898 - lr: 0.0010 - 75s/epoch - 17ms/step
Epoch 48/75
4378/4378 - 75s - loss: 0.2112 - accuracy: 0.9255 - val_loss: 1.2757 - val_accuracy: 0.6947 - lr: 0.0010 - 75s/epoch - 17ms/step
Epoch 49/75
4378/4378 - 75s - loss: 0.2078 - accuracy: 0.9267 - val_loss: 1.2657 - val_accuracy: 0.6955 - lr: 0.0010 - 75s/epoch - 17ms/step
Epoch 50/75
4378/4378 - 75s - loss: 0.2098 - accuracy: 0.9266 - val_loss: 1.3856 - val_accuracy: 0.6800 - lr: 0.0010 - 75s/epoch - 17ms/step
Epoch 51/75
4378/4378 - 74s - loss: 0.2125 - accuracy: 0.9250 - val_loss: 1.2241 - val_accuracy: 0.6958 - lr: 0.0010 - 74s/epoch - 17ms/step
Epoch 52/75
4378/4378 - 74s - loss: 0.2111 - accuracy: 0.9258 - val_loss: 1.3432 - val_accuracy: 0.6848 - lr: 0.0010 - 74s/epoch - 17ms/step
Epoch 53/75
4378/4378 - 74s - loss: 0.2127 - accuracy: 0.9258 - val_loss: 1.3346 - val_accuracy: 0.6897 - lr: 0.0010 - 74s/epoch - 17ms/step
Epoch 54/75
4378/4378 - 74s - loss: 0.2123 - accuracy: 0.9260 - val_loss: 1.0997 - val_accuracy: 0.7299 - lr: 0.0010 - 74s/epoch - 17ms/step
Epoch 55/75
4378/4378 - 75s - loss: 0.2148 - accuracy: 0.9238 - val_loss: 1.3536 - val_accuracy: 0.6842 - lr: 0.0010 - 75s/epoch - 17ms/step
Epoch 56/75
4378/4378 - 74s - loss: 0.2084 - accuracy: 0.9262 - val_loss: 1.1681 - val_accuracy: 0.7123 - lr: 0.0010 - 74s/epoch - 17ms/step
Epoch 57/75
4378/4378 - 74s - loss: 0.2095 - accuracy: 0.9263 - val_loss: 1.3192 - val_accuracy: 0.6888 - lr: 0.0010 - 74s/epoch - 17ms/step
Epoch 58/75
4378/4378 - 75s - loss: 0.2053 - accuracy: 0.9283 - val_loss: 1.2309 - val_accuracy: 0.7155 - lr: 0.0010 - 75s/epoch - 17ms/step
Epoch 59/75
4378/4378 - 74s - loss: 0.2101 - accuracy: 0.9267 - val_loss: 1.1671 - val_accuracy: 0.7035 - lr: 0.0010 - 74s/epoch - 17ms/step
Epoch 60/75
4378/4378 - 75s - loss: 0.2140 - accuracy: 0.9251 - val_loss: 1.2826 - val_accuracy: 0.6764 - lr: 0.0010 - 75s/epoch - 17ms/step
Epoch 61/75
4378/4378 - 75s - loss: 0.2111 - accuracy: 0.9257 - val_loss: 1.3734 - val_accuracy: 0.6796 - lr: 0.0010 - 75s/epoch - 17ms/step
Epoch 62/75
4378/4378 - 75s - loss: 0.2093 - accuracy: 0.9268 - val_loss: 1.3075 - val_accuracy: 0.6832 - lr: 0.0010 - 75s/epoch - 17ms/step
Epoch 63/75
4378/4378 - 75s - loss: 0.2106 - accuracy: 0.9254 - val_loss: 1.3975 - val_accuracy: 0.6720 - lr: 0.0010 - 75s/epoch - 17ms/step
Epoch 64/75
4378/4378 - 74s - loss: 0.2111 - accuracy: 0.9259 - val_loss: 1.1173 - val_accuracy: 0.7203 - lr: 0.0010 - 74s/epoch - 17ms/step
Epoch 65/75
4378/4378 - 74s - loss: 0.2108 - accuracy: 0.9248 - val_loss: 1.2100 - val_accuracy: 0.7077 - lr: 0.0010 - 74s/epoch - 17ms/step
Epoch 66/75
4378/4378 - 74s - loss: 0.2121 - accuracy: 0.9252 - val_loss: 1.2298 - val_accuracy: 0.7083 - lr: 0.0010 - 74s/epoch - 17ms/step
Epoch 67/75
4378/4378 - 74s - loss: 0.2132 - accuracy: 0.9256 - val_loss: 1.1979 - val_accuracy: 0.7046 - lr: 0.0010 - 74s/epoch - 17ms/step
Epoch 68/75
4378/4378 - 75s - loss: 0.2131 - accuracy: 0.9252 - val_loss: 1.3042 - val_accuracy: 0.6970 - lr: 0.0010 - 75s/epoch - 17ms/step
Epoch 69/75
4378/4378 - 74s - loss: 0.2125 - accuracy: 0.9257 - val_loss: 1.1970 - val_accuracy: 0.7140 - lr: 0.0010 - 74s/epoch - 17ms/step
Epoch 70/75
4378/4378 - 74s - loss: 0.2123 - accuracy: 0.9255 - val_loss: 1.4377 - val_accuracy: 0.6631 - lr: 0.0010 - 74s/epoch - 17ms/step
Epoch 71/75
4378/4378 - 74s - loss: 0.2085 - accuracy: 0.9263 - val_loss: 1.3271 - val_accuracy: 0.6894 - lr: 0.0010 - 74s/epoch - 17ms/step
Epoch 72/75
4378/4378 - 74s - loss: 0.2060 - accuracy: 0.9280 - val_loss: 1.2454 - val_accuracy: 0.7023 - lr: 0.0010 - 74s/epoch - 17ms/step
Epoch 73/75
4378/4378 - 74s - loss: 0.2142 - accuracy: 0.9245 - val_loss: 1.2507 - val_accuracy: 0.6966 - lr: 0.0010 - 74s/epoch - 17ms/step
Epoch 74/75
4378/4378 - 75s - loss: 0.2067 - accuracy: 0.9265 - val_loss: 1.2809 - val_accuracy: 0.7094 - lr: 0.0010 - 75s/epoch - 17ms/step
Epoch 75/75
4378/4378 - 74s - loss: 0.2112 - accuracy: 0.9259 - val_loss: 1.2173 - val_accuracy: 0.7043 - lr: 0.0010 - 74s/epoch - 17ms/step
Epoch 1/75
876/876 - 21s - loss: 0.1437 - accuracy: 0.9521 - val_loss: 1.7677 - val_accuracy: 0.6627 - lr: 0.0010 - 21s/epoch - 24ms/step
Epoch 2/75
876/876 - 19s - loss: 0.1475 - accuracy: 0.9507 - val_loss: 1.6968 - val_accuracy: 0.6752 - lr: 0.0010 - 19s/epoch - 21ms/step
Epoch 3/75
876/876 - 19s - loss: 0.1514 - accuracy: 0.9488 - val_loss: 1.7754 - val_accuracy: 0.6683 - lr: 0.0010 - 19s/epoch - 21ms/step
Epoch 4/75
876/876 - 19s - loss: 0.1447 - accuracy: 0.9520 - val_loss: 1.8369 - val_accuracy: 0.6723 - lr: 0.0010 - 19s/epoch - 21ms/step
Epoch 5/75
876/876 - 19s - loss: 0.1492 - accuracy: 0.9496 - val_loss: 1.7781 - val_accuracy: 0.6713 - lr: 0.0010 - 19s/epoch - 21ms/step
Epoch 6/75
876/876 - 19s - loss: 0.1417 - accuracy: 0.9523 - val_loss: 1.7926 - val_accuracy: 0.6753 - lr: 0.0010 - 19s/epoch - 21ms/step
Epoch 7/75
876/876 - 19s - loss: 0.1424 - accuracy: 0.9527 - val_loss: 1.7697 - val_accuracy: 0.6787 - lr: 0.0010 - 19s/epoch - 21ms/step
Epoch 8/75
876/876 - 19s - loss: 0.1420 - accuracy: 0.9518 - val_loss: 1.9322 - val_accuracy: 0.6649 - lr: 0.0010 - 19s/epoch - 21ms/step
Epoch 9/75
876/876 - 19s - loss: 0.1415 - accuracy: 0.9519 - val_loss: 1.7962 - val_accuracy: 0.6777 - lr: 0.0010 - 19s/epoch - 21ms/step
Epoch 10/75
876/876 - 19s - loss: 0.1409 - accuracy: 0.9528 - val_loss: 1.8552 - val_accuracy: 0.6737 - lr: 0.0010 - 19s/epoch - 21ms/step
Epoch 11/75
876/876 - 19s - loss: 0.1404 - accuracy: 0.9525 - val_loss: 1.7792 - val_accuracy: 0.6813 - lr: 0.0010 - 19s/epoch - 21ms/step
Epoch 12/75
876/876 - 19s - loss: 0.1392 - accuracy: 0.9531 - val_loss: 1.8662 - val_accuracy: 0.6807 - lr: 0.0010 - 19s/epoch - 21ms/step
Epoch 13/75
876/876 - 19s - loss: 0.1383 - accuracy: 0.9538 - val_loss: 1.7939 - val_accuracy: 0.6843 - lr: 0.0010 - 19s/epoch - 21ms/step
Epoch 14/75
876/876 - 19s - loss: 0.1353 - accuracy: 0.9543 - val_loss: 1.9460 - val_accuracy: 0.6724 - lr: 0.0010 - 19s/epoch - 21ms/step
Epoch 15/75
876/876 - 19s - loss: 0.1388 - accuracy: 0.9534 - val_loss: 1.8388 - val_accuracy: 0.6846 - lr: 0.0010 - 19s/epoch - 21ms/step
Epoch 16/75
876/876 - 19s - loss: 0.1389 - accuracy: 0.9528 - val_loss: 1.8672 - val_accuracy: 0.6893 - lr: 0.0010 - 19s/epoch - 21ms/step
Epoch 17/75
876/876 - 19s - loss: 0.1407 - accuracy: 0.9526 - val_loss: 1.8627 - val_accuracy: 0.6706 - lr: 0.0010 - 19s/epoch - 21ms/step
Epoch 18/75
876/876 - 19s - loss: 0.1368 - accuracy: 0.9531 - val_loss: 1.8419 - val_accuracy: 0.6776 - lr: 0.0010 - 19s/epoch - 21ms/step
Epoch 19/75
876/876 - 19s - loss: 0.1356 - accuracy: 0.9551 - val_loss: 2.0351 - val_accuracy: 0.6604 - lr: 0.0010 - 19s/epoch - 21ms/step
Epoch 20/75
876/876 - 19s - loss: 0.1373 - accuracy: 0.9536 - val_loss: 1.9751 - val_accuracy: 0.6664 - lr: 0.0010 - 19s/epoch - 21ms/step
Epoch 21/75
876/876 - 19s - loss: 0.1373 - accuracy: 0.9539 - val_loss: 1.9581 - val_accuracy: 0.6685 - lr: 0.0010 - 19s/epoch - 21ms/step
Epoch 22/75
876/876 - 19s - loss: 0.1399 - accuracy: 0.9526 - val_loss: 1.9220 - val_accuracy: 0.6715 - lr: 0.0010 - 19s/epoch - 21ms/step
Epoch 23/75
876/876 - 19s - loss: 0.1343 - accuracy: 0.9551 - val_loss: 2.0518 - val_accuracy: 0.6541 - lr: 0.0010 - 19s/epoch - 21ms/step
Epoch 24/75
876/876 - 19s - loss: 0.1346 - accuracy: 0.9548 - val_loss: 1.8435 - val_accuracy: 0.6813 - lr: 0.0010 - 19s/epoch - 21ms/step
Epoch 25/75
876/876 - 19s - loss: 0.1337 - accuracy: 0.9558 - val_loss: 1.8350 - val_accuracy: 0.6826 - lr: 0.0010 - 19s/epoch - 21ms/step
Epoch 26/75
876/876 - 19s - loss: 0.1329 - accuracy: 0.9552 - val_loss: 2.1179 - val_accuracy: 0.6607 - lr: 0.0010 - 19s/epoch - 21ms/step
Epoch 27/75
876/876 - 19s - loss: 0.1388 - accuracy: 0.9539 - val_loss: 2.0300 - val_accuracy: 0.6572 - lr: 0.0010 - 19s/epoch - 21ms/step
Epoch 28/75
876/876 - 19s - loss: 0.1365 - accuracy: 0.9545 - val_loss: 1.9728 - val_accuracy: 0.6682 - lr: 0.0010 - 19s/epoch - 21ms/step
Epoch 29/75
876/876 - 19s - loss: 0.1350 - accuracy: 0.9548 - val_loss: 1.7848 - val_accuracy: 0.6920 - lr: 0.0010 - 19s/epoch - 21ms/step
Epoch 30/75
876/876 - 19s - loss: 0.1338 - accuracy: 0.9549 - val_loss: 1.7792 - val_accuracy: 0.6939 - lr: 0.0010 - 19s/epoch - 21ms/step
Epoch 31/75
876/876 - 19s - loss: 0.1317 - accuracy: 0.9560 - val_loss: 1.8584 - val_accuracy: 0.6848 - lr: 0.0010 - 19s/epoch - 21ms/step
Epoch 32/75
876/876 - 19s - loss: 0.1259 - accuracy: 0.9581 - val_loss: 2.0019 - val_accuracy: 0.6675 - lr: 0.0010 - 19s/epoch - 21ms/step
Epoch 33/75
876/876 - 19s - loss: 0.1342 - accuracy: 0.9547 - val_loss: 1.9242 - val_accuracy: 0.6803 - lr: 0.0010 - 19s/epoch - 21ms/step
Epoch 34/75
876/876 - 19s - loss: 0.1344 - accuracy: 0.9550 - val_loss: 1.8756 - val_accuracy: 0.6867 - lr: 0.0010 - 19s/epoch - 21ms/step
Epoch 35/75
876/876 - 19s - loss: 0.1353 - accuracy: 0.9546 - val_loss: 1.9028 - val_accuracy: 0.6672 - lr: 0.0010 - 19s/epoch - 21ms/step
Epoch 36/75
876/876 - 19s - loss: 0.1304 - accuracy: 0.9570 - val_loss: 1.8318 - val_accuracy: 0.6889 - lr: 0.0010 - 19s/epoch - 21ms/step
Epoch 37/75
876/876 - 19s - loss: 0.1301 - accuracy: 0.9559 - val_loss: 2.0096 - val_accuracy: 0.6701 - lr: 0.0010 - 19s/epoch - 21ms/step
Epoch 38/75
876/876 - 19s - loss: 0.1343 - accuracy: 0.9553 - val_loss: 1.8388 - val_accuracy: 0.6794 - lr: 0.0010 - 19s/epoch - 21ms/step
Epoch 39/75
876/876 - 19s - loss: 0.1358 - accuracy: 0.9542 - val_loss: 1.6539 - val_accuracy: 0.6991 - lr: 0.0010 - 19s/epoch - 21ms/step
Epoch 40/75
876/876 - 19s - loss: 0.1321 - accuracy: 0.9563 - val_loss: 1.8859 - val_accuracy: 0.6719 - lr: 0.0010 - 19s/epoch - 21ms/step
Epoch 41/75
876/876 - 19s - loss: 0.1335 - accuracy: 0.9554 - val_loss: 1.8064 - val_accuracy: 0.6904 - lr: 0.0010 - 19s/epoch - 21ms/step
Epoch 42/75
876/876 - 19s - loss: 0.1305 - accuracy: 0.9575 - val_loss: 1.7991 - val_accuracy: 0.6861 - lr: 0.0010 - 19s/epoch - 21ms/step
Epoch 43/75
876/876 - 19s - loss: 0.1290 - accuracy: 0.9572 - val_loss: 1.8501 - val_accuracy: 0.6757 - lr: 0.0010 - 19s/epoch - 21ms/step
Epoch 44/75
876/876 - 19s - loss: 0.1294 - accuracy: 0.9566 - val_loss: 1.9899 - val_accuracy: 0.6644 - lr: 0.0010 - 19s/epoch - 21ms/step
Epoch 45/75
876/876 - 19s - loss: 0.1302 - accuracy: 0.9558 - val_loss: 2.0361 - val_accuracy: 0.6605 - lr: 0.0010 - 19s/epoch - 21ms/step
Epoch 46/75
876/876 - 19s - loss: 0.1310 - accuracy: 0.9558 - val_loss: 1.9145 - val_accuracy: 0.6796 - lr: 0.0010 - 19s/epoch - 21ms/step
Epoch 47/75
876/876 - 19s - loss: 0.1332 - accuracy: 0.9555 - val_loss: 2.0507 - val_accuracy: 0.6580 - lr: 0.0010 - 19s/epoch - 21ms/step
Epoch 48/75
876/876 - 19s - loss: 0.1319 - accuracy: 0.9558 - val_loss: 1.9505 - val_accuracy: 0.6776 - lr: 0.0010 - 19s/epoch - 21ms/step
Epoch 49/75
876/876 - 19s - loss: 0.1332 - accuracy: 0.9552 - val_loss: 2.0067 - val_accuracy: 0.6669 - lr: 0.0010 - 19s/epoch - 21ms/step
Epoch 50/75
876/876 - 18s - loss: 0.1305 - accuracy: 0.9559 - val_loss: 1.9020 - val_accuracy: 0.6712 - lr: 0.0010 - 18s/epoch - 21ms/step
Epoch 51/75
876/876 - 19s - loss: 0.1338 - accuracy: 0.9551 - val_loss: 1.9563 - val_accuracy: 0.6781 - lr: 0.0010 - 19s/epoch - 21ms/step
Epoch 52/75
876/876 - 19s - loss: 0.1358 - accuracy: 0.9552 - val_loss: 1.7924 - val_accuracy: 0.6865 - lr: 0.0010 - 19s/epoch - 21ms/step
Epoch 53/75
876/876 - 19s - loss: 0.1303 - accuracy: 0.9556 - val_loss: 1.9074 - val_accuracy: 0.6778 - lr: 0.0010 - 19s/epoch - 21ms/step
Epoch 54/75
876/876 - 19s - loss: 0.1338 - accuracy: 0.9552 - val_loss: 1.8563 - val_accuracy: 0.6699 - lr: 0.0010 - 19s/epoch - 21ms/step
Epoch 55/75
876/876 - 19s - loss: 0.1297 - accuracy: 0.9560 - val_loss: 1.9371 - val_accuracy: 0.6773 - lr: 0.0010 - 19s/epoch - 21ms/step
Epoch 56/75
876/876 - 19s - loss: 0.1319 - accuracy: 0.9558 - val_loss: 1.9313 - val_accuracy: 0.6850 - lr: 0.0010 - 19s/epoch - 21ms/step
Epoch 57/75
876/876 - 19s - loss: 0.1341 - accuracy: 0.9553 - val_loss: 1.8183 - val_accuracy: 0.6850 - lr: 0.0010 - 19s/epoch - 21ms/step
Epoch 58/75
876/876 - 18s - loss: 0.1321 - accuracy: 0.9563 - val_loss: 1.8157 - val_accuracy: 0.6999 - lr: 0.0010 - 18s/epoch - 21ms/step
Epoch 59/75
876/876 - 19s - loss: 0.1304 - accuracy: 0.9567 - val_loss: 1.8507 - val_accuracy: 0.6823 - lr: 0.0010 - 19s/epoch - 21ms/step
Epoch 60/75
876/876 - 19s - loss: 0.1307 - accuracy: 0.9566 - val_loss: 1.6893 - val_accuracy: 0.7018 - lr: 0.0010 - 19s/epoch - 21ms/step
Epoch 61/75
876/876 - 19s - loss: 0.1310 - accuracy: 0.9556 - val_loss: 1.7786 - val_accuracy: 0.6885 - lr: 0.0010 - 19s/epoch - 21ms/step
Epoch 62/75
876/876 - 19s - loss: 0.1336 - accuracy: 0.9548 - val_loss: 2.0696 - val_accuracy: 0.6504 - lr: 0.0010 - 19s/epoch - 21ms/step
Epoch 63/75
876/876 - 19s - loss: 0.1359 - accuracy: 0.9548 - val_loss: 1.8773 - val_accuracy: 0.6723 - lr: 0.0010 - 19s/epoch - 21ms/step
Epoch 64/75
876/876 - 19s - loss: 0.1288 - accuracy: 0.9574 - val_loss: 1.8730 - val_accuracy: 0.6797 - lr: 0.0010 - 19s/epoch - 21ms/step
Epoch 65/75
876/876 - 19s - loss: 0.1302 - accuracy: 0.9565 - val_loss: 1.9964 - val_accuracy: 0.6802 - lr: 0.0010 - 19s/epoch - 21ms/step
Epoch 66/75
876/876 - 19s - loss: 0.1315 - accuracy: 0.9566 - val_loss: 1.8806 - val_accuracy: 0.6823 - lr: 0.0010 - 19s/epoch - 21ms/step
Epoch 67/75
876/876 - 19s - loss: 0.1266 - accuracy: 0.9583 - val_loss: 2.0023 - val_accuracy: 0.6751 - lr: 0.0010 - 19s/epoch - 21ms/step
Epoch 68/75
876/876 - 19s - loss: 0.1324 - accuracy: 0.9557 - val_loss: 2.0804 - val_accuracy: 0.6643 - lr: 0.0010 - 19s/epoch - 21ms/step
Epoch 69/75
876/876 - 19s - loss: 0.1298 - accuracy: 0.9562 - val_loss: 1.9487 - val_accuracy: 0.6761 - lr: 0.0010 - 19s/epoch - 21ms/step
Epoch 70/75
876/876 - 19s - loss: 0.1308 - accuracy: 0.9561 - val_loss: 1.9741 - val_accuracy: 0.6815 - lr: 0.0010 - 19s/epoch - 21ms/step
Epoch 71/75
876/876 - 19s - loss: 0.1172 - accuracy: 0.9610 - val_loss: 1.9474 - val_accuracy: 0.6858 - lr: 0.0010 - 19s/epoch - 21ms/step
Epoch 72/75
876/876 - 19s - loss: 0.1276 - accuracy: 0.9574 - val_loss: 2.0550 - val_accuracy: 0.6645 - lr: 0.0010 - 19s/epoch - 21ms/step
Epoch 73/75
876/876 - 19s - loss: 0.1266 - accuracy: 0.9578 - val_loss: 2.0620 - val_accuracy: 0.6608 - lr: 0.0010 - 19s/epoch - 21ms/step
Epoch 74/75
876/876 - 19s - loss: 0.1261 - accuracy: 0.9578 - val_loss: 2.0159 - val_accuracy: 0.6662 - lr: 0.0010 - 19s/epoch - 21ms/step
Epoch 75/75
876/876 - 19s - loss: 0.1270 - accuracy: 0.9581 - val_loss: 1.9359 - val_accuracy: 0.6835 - lr: 0.0010 - 19s/epoch - 21ms/step
Epoch 1/75
176/176 - 12s - loss: 0.0978 - accuracy: 0.9687 - val_loss: 2.1806 - val_accuracy: 0.6623 - lr: 0.0010 - 12s/epoch - 66ms/step
Epoch 2/75
176/176 - 9s - loss: 0.0889 - accuracy: 0.9723 - val_loss: 2.1277 - val_accuracy: 0.6712 - lr: 0.0010 - 9s/epoch - 52ms/step
Epoch 3/75
176/176 - 9s - loss: 0.0864 - accuracy: 0.9733 - val_loss: 2.1592 - val_accuracy: 0.6728 - lr: 0.0010 - 9s/epoch - 52ms/step
Epoch 4/75
176/176 - 9s - loss: 0.0866 - accuracy: 0.9732 - val_loss: 2.2961 - val_accuracy: 0.6629 - lr: 0.0010 - 9s/epoch - 52ms/step
Epoch 5/75
176/176 - 9s - loss: 0.0864 - accuracy: 0.9733 - val_loss: 2.3423 - val_accuracy: 0.6662 - lr: 0.0010 - 9s/epoch - 52ms/step
Epoch 6/75
176/176 - 9s - loss: 0.0902 - accuracy: 0.9717 - val_loss: 2.2295 - val_accuracy: 0.6800 - lr: 0.0010 - 9s/epoch - 52ms/step
Epoch 7/75
176/176 - 9s - loss: 0.0933 - accuracy: 0.9711 - val_loss: 2.2837 - val_accuracy: 0.6744 - lr: 0.0010 - 9s/epoch - 52ms/step
Epoch 8/75
176/176 - 9s - loss: 0.0920 - accuracy: 0.9709 - val_loss: 2.3585 - val_accuracy: 0.6697 - lr: 0.0010 - 9s/epoch - 52ms/step
Epoch 9/75
176/176 - 9s - loss: 0.0955 - accuracy: 0.9698 - val_loss: 2.3272 - val_accuracy: 0.6765 - lr: 0.0010 - 9s/epoch - 52ms/step
Epoch 10/75
176/176 - 9s - loss: 0.0922 - accuracy: 0.9706 - val_loss: 2.4373 - val_accuracy: 0.6671 - lr: 0.0010 - 9s/epoch - 52ms/step
Epoch 11/75
176/176 - 9s - loss: 0.0893 - accuracy: 0.9714 - val_loss: 2.4381 - val_accuracy: 0.6681 - lr: 0.0010 - 9s/epoch - 52ms/step
Epoch 12/75
176/176 - 9s - loss: 0.0919 - accuracy: 0.9709 - val_loss: 2.2881 - val_accuracy: 0.6768 - lr: 0.0010 - 9s/epoch - 52ms/step
Epoch 13/75
176/176 - 9s - loss: 0.0921 - accuracy: 0.9712 - val_loss: 2.4300 - val_accuracy: 0.6666 - lr: 0.0010 - 9s/epoch - 52ms/step
Epoch 14/75
176/176 - 9s - loss: 0.0908 - accuracy: 0.9711 - val_loss: 2.3604 - val_accuracy: 0.6726 - lr: 0.0010 - 9s/epoch - 52ms/step
Epoch 15/75
176/176 - 9s - loss: 0.0923 - accuracy: 0.9707 - val_loss: 2.5093 - val_accuracy: 0.6675 - lr: 0.0010 - 9s/epoch - 52ms/step
Epoch 16/75
176/176 - 9s - loss: 0.0914 - accuracy: 0.9707 - val_loss: 2.4687 - val_accuracy: 0.6677 - lr: 0.0010 - 9s/epoch - 52ms/step
Epoch 17/75
176/176 - 9s - loss: 0.0905 - accuracy: 0.9711 - val_loss: 2.4555 - val_accuracy: 0.6672 - lr: 0.0010 - 9s/epoch - 52ms/step
Epoch 18/75
176/176 - 9s - loss: 0.0901 - accuracy: 0.9717 - val_loss: 2.3007 - val_accuracy: 0.6823 - lr: 0.0010 - 9s/epoch - 52ms/step
Epoch 19/75
176/176 - 9s - loss: 0.0910 - accuracy: 0.9714 - val_loss: 2.3139 - val_accuracy: 0.6735 - lr: 0.0010 - 9s/epoch - 52ms/step
Epoch 20/75
176/176 - 9s - loss: 0.0930 - accuracy: 0.9701 - val_loss: 2.4425 - val_accuracy: 0.6692 - lr: 0.0010 - 9s/epoch - 52ms/step
Epoch 21/75
176/176 - 9s - loss: 0.0886 - accuracy: 0.9722 - val_loss: 2.3783 - val_accuracy: 0.6746 - lr: 0.0010 - 9s/epoch - 52ms/step
Epoch 22/75
176/176 - 9s - loss: 0.0881 - accuracy: 0.9723 - val_loss: 2.3200 - val_accuracy: 0.6820 - lr: 0.0010 - 9s/epoch - 52ms/step
Epoch 23/75
176/176 - 9s - loss: 0.0879 - accuracy: 0.9723 - val_loss: 2.5326 - val_accuracy: 0.6623 - lr: 0.0010 - 9s/epoch - 52ms/step
Epoch 24/75
176/176 - 9s - loss: 0.0900 - accuracy: 0.9717 - val_loss: 2.4665 - val_accuracy: 0.6681 - lr: 0.0010 - 9s/epoch - 52ms/step
Epoch 25/75
176/176 - 9s - loss: 0.0904 - accuracy: 0.9715 - val_loss: 2.4523 - val_accuracy: 0.6710 - lr: 0.0010 - 9s/epoch - 52ms/step
Epoch 26/75
176/176 - 9s - loss: 0.0910 - accuracy: 0.9716 - val_loss: 2.4362 - val_accuracy: 0.6737 - lr: 0.0010 - 9s/epoch - 52ms/step
Epoch 27/75
176/176 - 9s - loss: 0.0887 - accuracy: 0.9717 - val_loss: 2.3585 - val_accuracy: 0.6823 - lr: 0.0010 - 9s/epoch - 52ms/step
Epoch 28/75
176/176 - 9s - loss: 0.0934 - accuracy: 0.9698 - val_loss: 2.5329 - val_accuracy: 0.6636 - lr: 0.0010 - 9s/epoch - 52ms/step
Epoch 29/75
176/176 - 9s - loss: 0.0945 - accuracy: 0.9698 - val_loss: 2.3590 - val_accuracy: 0.6778 - lr: 0.0010 - 9s/epoch - 52ms/step
Epoch 30/75
176/176 - 9s - loss: 0.0898 - accuracy: 0.9715 - val_loss: 2.4484 - val_accuracy: 0.6707 - lr: 0.0010 - 9s/epoch - 52ms/step
Epoch 31/75
176/176 - 9s - loss: 0.0866 - accuracy: 0.9725 - val_loss: 2.5436 - val_accuracy: 0.6627 - lr: 0.0010 - 9s/epoch - 52ms/step
Epoch 32/75
176/176 - 9s - loss: 0.0878 - accuracy: 0.9727 - val_loss: 2.6169 - val_accuracy: 0.6631 - lr: 0.0010 - 9s/epoch - 52ms/step
Epoch 33/75
176/176 - 9s - loss: 0.0907 - accuracy: 0.9714 - val_loss: 2.4078 - val_accuracy: 0.6789 - lr: 0.0010 - 9s/epoch - 52ms/step
Epoch 34/75
176/176 - 9s - loss: 0.0895 - accuracy: 0.9720 - val_loss: 2.4223 - val_accuracy: 0.6788 - lr: 0.0010 - 9s/epoch - 52ms/step
Epoch 35/75
176/176 - 9s - loss: 0.0917 - accuracy: 0.9711 - val_loss: 2.5267 - val_accuracy: 0.6650 - lr: 0.0010 - 9s/epoch - 52ms/step
Epoch 36/75
176/176 - 9s - loss: 0.0898 - accuracy: 0.9713 - val_loss: 2.5738 - val_accuracy: 0.6622 - lr: 0.0010 - 9s/epoch - 52ms/step
Epoch 37/75
176/176 - 9s - loss: 0.0937 - accuracy: 0.9705 - val_loss: 2.3966 - val_accuracy: 0.6799 - lr: 0.0010 - 9s/epoch - 52ms/step
Epoch 38/75
176/176 - 9s - loss: 0.0913 - accuracy: 0.9712 - val_loss: 2.4743 - val_accuracy: 0.6697 - lr: 0.0010 - 9s/epoch - 52ms/step
Epoch 39/75
176/176 - 9s - loss: 0.0911 - accuracy: 0.9707 - val_loss: 2.4463 - val_accuracy: 0.6734 - lr: 0.0010 - 9s/epoch - 52ms/step
Epoch 40/75
176/176 - 9s - loss: 0.0873 - accuracy: 0.9725 - val_loss: 2.5158 - val_accuracy: 0.6686 - lr: 0.0010 - 9s/epoch - 52ms/step
Epoch 41/75
176/176 - 9s - loss: 0.0877 - accuracy: 0.9723 - val_loss: 2.6406 - val_accuracy: 0.6590 - lr: 0.0010 - 9s/epoch - 52ms/step
Epoch 42/75
176/176 - 9s - loss: 0.0859 - accuracy: 0.9729 - val_loss: 2.5819 - val_accuracy: 0.6640 - lr: 0.0010 - 9s/epoch - 52ms/step
Epoch 43/75
176/176 - 9s - loss: 0.0822 - accuracy: 0.9748 - val_loss: 2.6559 - val_accuracy: 0.6581 - lr: 0.0010 - 9s/epoch - 52ms/step
Epoch 44/75
176/176 - 9s - loss: 0.0844 - accuracy: 0.9735 - val_loss: 2.7001 - val_accuracy: 0.6518 - lr: 0.0010 - 9s/epoch - 52ms/step
Epoch 45/75
176/176 - 9s - loss: 0.0899 - accuracy: 0.9720 - val_loss: 2.6611 - val_accuracy: 0.6575 - lr: 0.0010 - 9s/epoch - 52ms/step
Epoch 46/75
176/176 - 9s - loss: 0.0855 - accuracy: 0.9729 - val_loss: 2.4732 - val_accuracy: 0.6771 - lr: 0.0010 - 9s/epoch - 52ms/step
Epoch 47/75
176/176 - 9s - loss: 0.0873 - accuracy: 0.9726 - val_loss: 2.5884 - val_accuracy: 0.6681 - lr: 0.0010 - 9s/epoch - 52ms/step
Epoch 48/75
176/176 - 9s - loss: 0.0896 - accuracy: 0.9719 - val_loss: 2.5271 - val_accuracy: 0.6706 - lr: 0.0010 - 9s/epoch - 52ms/step
Epoch 49/75
176/176 - 9s - loss: 0.0910 - accuracy: 0.9711 - val_loss: 2.5264 - val_accuracy: 0.6674 - lr: 0.0010 - 9s/epoch - 52ms/step
Epoch 50/75
176/176 - 9s - loss: 0.0885 - accuracy: 0.9722 - val_loss: 2.4542 - val_accuracy: 0.6759 - lr: 0.0010 - 9s/epoch - 52ms/step
Epoch 51/75
176/176 - 9s - loss: 0.0861 - accuracy: 0.9726 - val_loss: 2.5434 - val_accuracy: 0.6671 - lr: 0.0010 - 9s/epoch - 52ms/step
Epoch 52/75
176/176 - 9s - loss: 0.0870 - accuracy: 0.9722 - val_loss: 2.5836 - val_accuracy: 0.6673 - lr: 0.0010 - 9s/epoch - 52ms/step
Epoch 53/75
176/176 - 9s - loss: 0.0915 - accuracy: 0.9706 - val_loss: 2.5156 - val_accuracy: 0.6652 - lr: 0.0010 - 9s/epoch - 52ms/step
Epoch 54/75
176/176 - 9s - loss: 0.0878 - accuracy: 0.9720 - val_loss: 2.4974 - val_accuracy: 0.6720 - lr: 0.0010 - 9s/epoch - 52ms/step
Epoch 55/75
176/176 - 9s - loss: 0.0873 - accuracy: 0.9729 - val_loss: 2.5021 - val_accuracy: 0.6705 - lr: 0.0010 - 9s/epoch - 52ms/step
Epoch 56/75
176/176 - 9s - loss: 0.0911 - accuracy: 0.9713 - val_loss: 2.6229 - val_accuracy: 0.6587 - lr: 0.0010 - 9s/epoch - 52ms/step
Epoch 57/75
176/176 - 9s - loss: 0.0876 - accuracy: 0.9714 - val_loss: 2.5243 - val_accuracy: 0.6676 - lr: 0.0010 - 9s/epoch - 52ms/step
Epoch 58/75
176/176 - 9s - loss: 0.0874 - accuracy: 0.9730 - val_loss: 2.6247 - val_accuracy: 0.6625 - lr: 0.0010 - 9s/epoch - 52ms/step
Epoch 59/75
176/176 - 9s - loss: 0.0880 - accuracy: 0.9719 - val_loss: 2.6342 - val_accuracy: 0.6610 - lr: 0.0010 - 9s/epoch - 52ms/step
Epoch 60/75
176/176 - 9s - loss: 0.0859 - accuracy: 0.9732 - val_loss: 2.6832 - val_accuracy: 0.6528 - lr: 0.0010 - 9s/epoch - 52ms/step
Epoch 61/75
176/176 - 9s - loss: 0.0892 - accuracy: 0.9715 - val_loss: 2.7030 - val_accuracy: 0.6536 - lr: 0.0010 - 9s/epoch - 52ms/step
Epoch 62/75
176/176 - 9s - loss: 0.0808 - accuracy: 0.9743 - val_loss: 2.6368 - val_accuracy: 0.6599 - lr: 0.0010 - 9s/epoch - 52ms/step
Epoch 63/75
176/176 - 9s - loss: 0.0812 - accuracy: 0.9747 - val_loss: 2.6492 - val_accuracy: 0.6604 - lr: 0.0010 - 9s/epoch - 52ms/step
Epoch 64/75
176/176 - 9s - loss: 0.0844 - accuracy: 0.9733 - val_loss: 2.7174 - val_accuracy: 0.6567 - lr: 0.0010 - 9s/epoch - 52ms/step
Epoch 65/75
176/176 - 9s - loss: 0.0837 - accuracy: 0.9734 - val_loss: 2.6142 - val_accuracy: 0.6729 - lr: 0.0010 - 9s/epoch - 52ms/step
Epoch 66/75
176/176 - 9s - loss: 0.0820 - accuracy: 0.9747 - val_loss: 2.7566 - val_accuracy: 0.6525 - lr: 0.0010 - 9s/epoch - 52ms/step
Epoch 67/75
176/176 - 9s - loss: 0.0846 - accuracy: 0.9731 - val_loss: 2.5970 - val_accuracy: 0.6695 - lr: 0.0010 - 9s/epoch - 52ms/step
Epoch 68/75
176/176 - 9s - loss: 0.0846 - accuracy: 0.9728 - val_loss: 2.6661 - val_accuracy: 0.6627 - lr: 0.0010 - 9s/epoch - 52ms/step
Epoch 69/75
176/176 - 9s - loss: 0.0883 - accuracy: 0.9720 - val_loss: 2.6064 - val_accuracy: 0.6660 - lr: 0.0010 - 9s/epoch - 52ms/step
Epoch 70/75
176/176 - 9s - loss: 0.0860 - accuracy: 0.9733 - val_loss: 2.7793 - val_accuracy: 0.6518 - lr: 0.0010 - 9s/epoch - 52ms/step
Epoch 71/75
176/176 - 9s - loss: 0.0859 - accuracy: 0.9735 - val_loss: 2.5358 - val_accuracy: 0.6754 - lr: 0.0010 - 9s/epoch - 52ms/step
Epoch 72/75
176/176 - 9s - loss: 0.0850 - accuracy: 0.9730 - val_loss: 2.8183 - val_accuracy: 0.6500 - lr: 0.0010 - 9s/epoch - 52ms/step
Epoch 73/75
176/176 - 9s - loss: 0.0839 - accuracy: 0.9738 - val_loss: 2.7062 - val_accuracy: 0.6574 - lr: 0.0010 - 9s/epoch - 52ms/step
Epoch 74/75
176/176 - 9s - loss: 0.0844 - accuracy: 0.9737 - val_loss: 2.8177 - val_accuracy: 0.6474 - lr: 0.0010 - 9s/epoch - 52ms/step
Epoch 75/75
176/176 - 9s - loss: 0.0869 - accuracy: 0.9723 - val_loss: 2.6640 - val_accuracy: 0.6633 - lr: 0.0010 - 9s/epoch - 52ms/step
Epoch 1/75
36/36 - 22s - loss: 0.0813 - accuracy: 0.9751 - val_loss: 2.6900 - val_accuracy: 0.6606 - lr: 0.0010 - 22s/epoch - 607ms/step
Epoch 2/75
36/36 - 8s - loss: 0.0717 - accuracy: 0.9781 - val_loss: 2.8412 - val_accuracy: 0.6512 - lr: 0.0010 - 8s/epoch - 215ms/step
Epoch 3/75
36/36 - 8s - loss: 0.0697 - accuracy: 0.9793 - val_loss: 2.7925 - val_accuracy: 0.6574 - lr: 0.0010 - 8s/epoch - 215ms/step
Epoch 4/75
36/36 - 8s - loss: 0.0668 - accuracy: 0.9798 - val_loss: 2.8762 - val_accuracy: 0.6511 - lr: 0.0010 - 8s/epoch - 214ms/step
Epoch 5/75
36/36 - 8s - loss: 0.0707 - accuracy: 0.9787 - val_loss: 2.7986 - val_accuracy: 0.6557 - lr: 0.0010 - 8s/epoch - 214ms/step
Epoch 6/75
36/36 - 8s - loss: 0.0682 - accuracy: 0.9792 - val_loss: 2.8500 - val_accuracy: 0.6525 - lr: 0.0010 - 8s/epoch - 214ms/step
Epoch 7/75
36/36 - 8s - loss: 0.0688 - accuracy: 0.9787 - val_loss: 2.9160 - val_accuracy: 0.6467 - lr: 0.0010 - 8s/epoch - 215ms/step
Epoch 8/75
36/36 - 8s - loss: 0.0681 - accuracy: 0.9793 - val_loss: 2.9215 - val_accuracy: 0.6472 - lr: 0.0010 - 8s/epoch - 214ms/step
Epoch 9/75
36/36 - 8s - loss: 0.0671 - accuracy: 0.9797 - val_loss: 2.9237 - val_accuracy: 0.6490 - lr: 0.0010 - 8s/epoch - 214ms/step
Epoch 10/75
36/36 - 8s - loss: 0.0668 - accuracy: 0.9793 - val_loss: 2.9173 - val_accuracy: 0.6501 - lr: 0.0010 - 8s/epoch - 214ms/step
Epoch 11/75
36/36 - 8s - loss: 0.0641 - accuracy: 0.9805 - val_loss: 2.9790 - val_accuracy: 0.6465 - lr: 0.0010 - 8s/epoch - 215ms/step
Epoch 12/75
36/36 - 8s - loss: 0.0683 - accuracy: 0.9791 - val_loss: 2.9688 - val_accuracy: 0.6482 - lr: 0.0010 - 8s/epoch - 215ms/step
Epoch 13/75
36/36 - 8s - loss: 0.0681 - accuracy: 0.9791 - val_loss: 2.9896 - val_accuracy: 0.6464 - lr: 0.0010 - 8s/epoch - 215ms/step
Epoch 14/75
36/36 - 8s - loss: 0.0656 - accuracy: 0.9801 - val_loss: 2.9397 - val_accuracy: 0.6511 - lr: 0.0010 - 8s/epoch - 215ms/step
Epoch 15/75
36/36 - 8s - loss: 0.0680 - accuracy: 0.9789 - val_loss: 2.9364 - val_accuracy: 0.6508 - lr: 0.0010 - 8s/epoch - 215ms/step
Epoch 16/75
36/36 - 8s - loss: 0.0670 - accuracy: 0.9797 - val_loss: 2.9862 - val_accuracy: 0.6485 - lr: 0.0010 - 8s/epoch - 215ms/step
Epoch 17/75
36/36 - 8s - loss: 0.0692 - accuracy: 0.9790 - val_loss: 2.9084 - val_accuracy: 0.6540 - lr: 0.0010 - 8s/epoch - 216ms/step
Epoch 18/75
36/36 - 8s - loss: 0.0707 - accuracy: 0.9789 - val_loss: 2.9792 - val_accuracy: 0.6484 - lr: 0.0010 - 8s/epoch - 215ms/step
Epoch 19/75
36/36 - 8s - loss: 0.0684 - accuracy: 0.9795 - val_loss: 3.0004 - val_accuracy: 0.6456 - lr: 0.0010 - 8s/epoch - 215ms/step
Epoch 20/75
36/36 - 8s - loss: 0.0673 - accuracy: 0.9795 - val_loss: 2.9515 - val_accuracy: 0.6503 - lr: 0.0010 - 8s/epoch - 215ms/step
Epoch 21/75
36/36 - 8s - loss: 0.0659 - accuracy: 0.9796 - val_loss: 2.9681 - val_accuracy: 0.6496 - lr: 0.0010 - 8s/epoch - 215ms/step
Epoch 22/75
36/36 - 8s - loss: 0.0658 - accuracy: 0.9807 - val_loss: 3.0133 - val_accuracy: 0.6475 - lr: 0.0010 - 8s/epoch - 216ms/step
Epoch 23/75
36/36 - 8s - loss: 0.0640 - accuracy: 0.9804 - val_loss: 2.9603 - val_accuracy: 0.6516 - lr: 0.0010 - 8s/epoch - 215ms/step
Epoch 24/75
36/36 - 8s - loss: 0.0634 - accuracy: 0.9813 - val_loss: 2.9671 - val_accuracy: 0.6506 - lr: 0.0010 - 8s/epoch - 216ms/step
Epoch 25/75
36/36 - 8s - loss: 0.0642 - accuracy: 0.9804 - val_loss: 2.9944 - val_accuracy: 0.6483 - lr: 0.0010 - 8s/epoch - 215ms/step
Epoch 26/75
36/36 - 8s - loss: 0.0615 - accuracy: 0.9813 - val_loss: 2.9858 - val_accuracy: 0.6506 - lr: 0.0010 - 8s/epoch - 216ms/step
Epoch 27/75
36/36 - 8s - loss: 0.0641 - accuracy: 0.9806 - val_loss: 2.9689 - val_accuracy: 0.6533 - lr: 0.0010 - 8s/epoch - 215ms/step
Epoch 28/75
36/36 - 8s - loss: 0.0640 - accuracy: 0.9806 - val_loss: 3.0716 - val_accuracy: 0.6455 - lr: 0.0010 - 8s/epoch - 215ms/step
Epoch 29/75
36/36 - 8s - loss: 0.0624 - accuracy: 0.9809 - val_loss: 3.0075 - val_accuracy: 0.6506 - lr: 0.0010 - 8s/epoch - 215ms/step
Epoch 30/75
36/36 - 8s - loss: 0.0630 - accuracy: 0.9806 - val_loss: 3.0247 - val_accuracy: 0.6487 - lr: 0.0010 - 8s/epoch - 215ms/step
Epoch 31/75
36/36 - 8s - loss: 0.0643 - accuracy: 0.9805 - val_loss: 3.0187 - val_accuracy: 0.6506 - lr: 0.0010 - 8s/epoch - 216ms/step
Epoch 32/75
36/36 - 8s - loss: 0.0638 - accuracy: 0.9809 - val_loss: 3.0661 - val_accuracy: 0.6480 - lr: 0.0010 - 8s/epoch - 215ms/step
Epoch 33/75
36/36 - 8s - loss: 0.0622 - accuracy: 0.9816 - val_loss: 3.0931 - val_accuracy: 0.6455 - lr: 0.0010 - 8s/epoch - 216ms/step
Epoch 34/75
36/36 - 8s - loss: 0.0637 - accuracy: 0.9808 - val_loss: 3.0446 - val_accuracy: 0.6489 - lr: 0.0010 - 8s/epoch - 216ms/step
Epoch 35/75
36/36 - 8s - loss: 0.0632 - accuracy: 0.9806 - val_loss: 3.1145 - val_accuracy: 0.6434 - lr: 0.0010 - 8s/epoch - 215ms/step
Epoch 36/75
36/36 - 8s - loss: 0.0627 - accuracy: 0.9805 - val_loss: 3.0898 - val_accuracy: 0.6453 - lr: 0.0010 - 8s/epoch - 215ms/step
Epoch 37/75
36/36 - 8s - loss: 0.0617 - accuracy: 0.9816 - val_loss: 3.1114 - val_accuracy: 0.6442 - lr: 0.0010 - 8s/epoch - 215ms/step
Epoch 38/75
36/36 - 8s - loss: 0.0671 - accuracy: 0.9797 - val_loss: 3.0812 - val_accuracy: 0.6467 - lr: 0.0010 - 8s/epoch - 215ms/step
Epoch 39/75
36/36 - 8s - loss: 0.0660 - accuracy: 0.9799 - val_loss: 3.0741 - val_accuracy: 0.6470 - lr: 0.0010 - 8s/epoch - 216ms/step
Epoch 40/75
36/36 - 8s - loss: 0.0660 - accuracy: 0.9802 - val_loss: 3.1593 - val_accuracy: 0.6408 - lr: 0.0010 - 8s/epoch - 215ms/step
Epoch 41/75
36/36 - 8s - loss: 0.0677 - accuracy: 0.9796 - val_loss: 3.0412 - val_accuracy: 0.6502 - lr: 0.0010 - 8s/epoch - 216ms/step
Epoch 42/75
36/36 - 8s - loss: 0.0643 - accuracy: 0.9800 - val_loss: 3.0497 - val_accuracy: 0.6488 - lr: 0.0010 - 8s/epoch - 215ms/step
Epoch 43/75
36/36 - 8s - loss: 0.0638 - accuracy: 0.9806 - val_loss: 3.0952 - val_accuracy: 0.6465 - lr: 0.0010 - 8s/epoch - 215ms/step
Epoch 44/75
36/36 - 8s - loss: 0.0636 - accuracy: 0.9809 - val_loss: 3.1104 - val_accuracy: 0.6471 - lr: 0.0010 - 8s/epoch - 215ms/step
Epoch 45/75
36/36 - 8s - loss: 0.0646 - accuracy: 0.9804 - val_loss: 3.0744 - val_accuracy: 0.6471 - lr: 0.0010 - 8s/epoch - 215ms/step
Epoch 46/75
36/36 - 8s - loss: 0.0626 - accuracy: 0.9808 - val_loss: 3.0931 - val_accuracy: 0.6463 - lr: 0.0010 - 8s/epoch - 216ms/step
Epoch 47/75
36/36 - 8s - loss: 0.0624 - accuracy: 0.9810 - val_loss: 3.1315 - val_accuracy: 0.6451 - lr: 0.0010 - 8s/epoch - 215ms/step
Epoch 48/75
36/36 - 8s - loss: 0.0640 - accuracy: 0.9805 - val_loss: 3.2140 - val_accuracy: 0.6388 - lr: 0.0010 - 8s/epoch - 215ms/step
Epoch 49/75
36/36 - 8s - loss: 0.0625 - accuracy: 0.9807 - val_loss: 3.1436 - val_accuracy: 0.6442 - lr: 0.0010 - 8s/epoch - 215ms/step
Epoch 50/75
36/36 - 8s - loss: 0.0649 - accuracy: 0.9804 - val_loss: 3.1702 - val_accuracy: 0.6428 - lr: 0.0010 - 8s/epoch - 215ms/step
Epoch 51/75
36/36 - 8s - loss: 0.0615 - accuracy: 0.9817 - val_loss: 3.0961 - val_accuracy: 0.6481 - lr: 0.0010 - 8s/epoch - 216ms/step
Epoch 52/75
36/36 - 8s - loss: 0.0636 - accuracy: 0.9811 - val_loss: 3.0889 - val_accuracy: 0.6490 - lr: 0.0010 - 8s/epoch - 217ms/step
Epoch 53/75
36/36 - 8s - loss: 0.0620 - accuracy: 0.9813 - val_loss: 3.1964 - val_accuracy: 0.6411 - lr: 0.0010 - 8s/epoch - 215ms/step
Epoch 54/75
36/36 - 8s - loss: 0.0644 - accuracy: 0.9803 - val_loss: 3.1265 - val_accuracy: 0.6462 - lr: 0.0010 - 8s/epoch - 215ms/step
Epoch 55/75
36/36 - 8s - loss: 0.0638 - accuracy: 0.9804 - val_loss: 3.0380 - val_accuracy: 0.6527 - lr: 0.0010 - 8s/epoch - 215ms/step
Epoch 56/75
36/36 - 8s - loss: 0.0625 - accuracy: 0.9818 - val_loss: 3.1584 - val_accuracy: 0.6442 - lr: 0.0010 - 8s/epoch - 215ms/step
Epoch 57/75
36/36 - 8s - loss: 0.0627 - accuracy: 0.9811 - val_loss: 3.1427 - val_accuracy: 0.6458 - lr: 0.0010 - 8s/epoch - 215ms/step
Epoch 58/75
36/36 - 8s - loss: 0.0605 - accuracy: 0.9814 - val_loss: 3.0930 - val_accuracy: 0.6487 - lr: 0.0010 - 8s/epoch - 215ms/step
Epoch 59/75
36/36 - 8s - loss: 0.0606 - accuracy: 0.9818 - val_loss: 3.1759 - val_accuracy: 0.6431 - lr: 0.0010 - 8s/epoch - 215ms/step
Epoch 60/75
36/36 - 8s - loss: 0.0610 - accuracy: 0.9815 - val_loss: 3.1229 - val_accuracy: 0.6476 - lr: 0.0010 - 8s/epoch - 215ms/step
Epoch 61/75
36/36 - 8s - loss: 0.0626 - accuracy: 0.9811 - val_loss: 3.1838 - val_accuracy: 0.6441 - lr: 0.0010 - 8s/epoch - 216ms/step
Epoch 62/75
36/36 - 8s - loss: 0.0658 - accuracy: 0.9804 - val_loss: 3.1271 - val_accuracy: 0.6490 - lr: 0.0010 - 8s/epoch - 215ms/step
Epoch 63/75
36/36 - 8s - loss: 0.0649 - accuracy: 0.9801 - val_loss: 3.1713 - val_accuracy: 0.6445 - lr: 0.0010 - 8s/epoch - 215ms/step
Epoch 64/75
36/36 - 8s - loss: 0.0617 - accuracy: 0.9813 - val_loss: 3.2098 - val_accuracy: 0.6424 - lr: 0.0010 - 8s/epoch - 215ms/step
Epoch 65/75
36/36 - 8s - loss: 0.0654 - accuracy: 0.9799 - val_loss: 3.1136 - val_accuracy: 0.6506 - lr: 0.0010 - 8s/epoch - 215ms/step
Epoch 66/75
36/36 - 8s - loss: 0.0616 - accuracy: 0.9812 - val_loss: 3.1059 - val_accuracy: 0.6517 - lr: 0.0010 - 8s/epoch - 215ms/step
Epoch 67/75
36/36 - 8s - loss: 0.0668 - accuracy: 0.9794 - val_loss: 3.1025 - val_accuracy: 0.6496 - lr: 0.0010 - 8s/epoch - 216ms/step
Epoch 68/75
36/36 - 8s - loss: 0.0625 - accuracy: 0.9810 - val_loss: 3.0997 - val_accuracy: 0.6521 - lr: 0.0010 - 8s/epoch - 215ms/step
Epoch 69/75
36/36 - 8s - loss: 0.0653 - accuracy: 0.9808 - val_loss: 3.0566 - val_accuracy: 0.6541 - lr: 0.0010 - 8s/epoch - 214ms/step
Epoch 70/75
36/36 - 8s - loss: 0.0616 - accuracy: 0.9814 - val_loss: 3.0976 - val_accuracy: 0.6496 - lr: 0.0010 - 8s/epoch - 215ms/step
Epoch 71/75
36/36 - 8s - loss: 0.0639 - accuracy: 0.9808 - val_loss: 3.1627 - val_accuracy: 0.6469 - lr: 0.0010 - 8s/epoch - 215ms/step
Epoch 72/75
36/36 - 8s - loss: 0.0640 - accuracy: 0.9805 - val_loss: 3.1644 - val_accuracy: 0.6454 - lr: 0.0010 - 8s/epoch - 215ms/step
Epoch 73/75
36/36 - 8s - loss: 0.0604 - accuracy: 0.9819 - val_loss: 3.1276 - val_accuracy: 0.6492 - lr: 0.0010 - 8s/epoch - 215ms/step
Epoch 74/75
36/36 - 8s - loss: 0.0595 - accuracy: 0.9820 - val_loss: 3.1605 - val_accuracy: 0.6470 - lr: 0.0010 - 8s/epoch - 215ms/step
Epoch 75/75
36/36 - 8s - loss: 0.0611 - accuracy: 0.9819 - val_loss: 3.2386 - val_accuracy: 0.6393 - lr: 0.0010 - 8s/epoch - 216ms/step
Epoch 1/100
4378/4378 - 78s - loss: 0.1954 - accuracy: 0.9356 - val_loss: 1.7178 - val_accuracy: 0.6823 - lr: 0.0010 - 78s/epoch - 18ms/step
Epoch 2/100
4378/4378 - 75s - loss: 0.1928 - accuracy: 0.9335 - val_loss: 1.6352 - val_accuracy: 0.6817 - lr: 0.0010 - 75s/epoch - 17ms/step
Epoch 3/100
4378/4378 - 75s - loss: 0.2064 - accuracy: 0.9283 - val_loss: 1.2710 - val_accuracy: 0.7267 - lr: 0.0010 - 75s/epoch - 17ms/step
Epoch 4/100
4378/4378 - 75s - loss: 0.2101 - accuracy: 0.9268 - val_loss: 1.2816 - val_accuracy: 0.7079 - lr: 0.0010 - 75s/epoch - 17ms/step
Epoch 5/100
4378/4378 - 75s - loss: 0.2072 - accuracy: 0.9271 - val_loss: 1.5108 - val_accuracy: 0.6719 - lr: 0.0010 - 75s/epoch - 17ms/step
Epoch 6/100
4378/4378 - 75s - loss: 0.2035 - accuracy: 0.9284 - val_loss: 1.2672 - val_accuracy: 0.7183 - lr: 0.0010 - 75s/epoch - 17ms/step
Epoch 7/100
4378/4378 - 75s - loss: 0.2044 - accuracy: 0.9275 - val_loss: 1.4078 - val_accuracy: 0.6918 - lr: 0.0010 - 75s/epoch - 17ms/step
Epoch 8/100
4378/4378 - 75s - loss: 0.2009 - accuracy: 0.9299 - val_loss: 1.3859 - val_accuracy: 0.6833 - lr: 0.0010 - 75s/epoch - 17ms/step
Epoch 9/100
4378/4378 - 75s - loss: 0.2006 - accuracy: 0.9292 - val_loss: 1.3252 - val_accuracy: 0.6934 - lr: 0.0010 - 75s/epoch - 17ms/step
Epoch 10/100
4378/4378 - 75s - loss: 0.2013 - accuracy: 0.9297 - val_loss: 1.4118 - val_accuracy: 0.6832 - lr: 0.0010 - 75s/epoch - 17ms/step
Epoch 11/100
4378/4378 - 75s - loss: 0.2036 - accuracy: 0.9282 - val_loss: 1.3019 - val_accuracy: 0.6858 - lr: 0.0010 - 75s/epoch - 17ms/step
Epoch 12/100
4378/4378 - 75s - loss: 0.2061 - accuracy: 0.9282 - val_loss: 1.3472 - val_accuracy: 0.6924 - lr: 0.0010 - 75s/epoch - 17ms/step
Epoch 13/100
4378/4378 - 76s - loss: 0.2007 - accuracy: 0.9292 - val_loss: 1.2926 - val_accuracy: 0.6961 - lr: 0.0010 - 76s/epoch - 17ms/step
Epoch 14/100
4378/4378 - 75s - loss: 0.2046 - accuracy: 0.9286 - val_loss: 1.1805 - val_accuracy: 0.7147 - lr: 0.0010 - 75s/epoch - 17ms/step
Epoch 15/100
4378/4378 - 75s - loss: 0.2012 - accuracy: 0.9300 - val_loss: 1.3052 - val_accuracy: 0.7032 - lr: 0.0010 - 75s/epoch - 17ms/step
Epoch 16/100
4378/4378 - 75s - loss: 0.2021 - accuracy: 0.9283 - val_loss: 1.3126 - val_accuracy: 0.6836 - lr: 0.0010 - 75s/epoch - 17ms/step
Epoch 17/100
4378/4378 - 75s - loss: 0.2057 - accuracy: 0.9280 - val_loss: 1.1601 - val_accuracy: 0.7215 - lr: 0.0010 - 75s/epoch - 17ms/step
Epoch 18/100
4378/4378 - 75s - loss: 0.2037 - accuracy: 0.9280 - val_loss: 1.1809 - val_accuracy: 0.7102 - lr: 0.0010 - 75s/epoch - 17ms/step
Epoch 19/100
4378/4378 - 76s - loss: 0.2020 - accuracy: 0.9292 - val_loss: 1.2399 - val_accuracy: 0.7098 - lr: 0.0010 - 76s/epoch - 17ms/step
Epoch 20/100
4378/4378 - 75s - loss: 0.2062 - accuracy: 0.9273 - val_loss: 1.1948 - val_accuracy: 0.7187 - lr: 0.0010 - 75s/epoch - 17ms/step
Epoch 21/100
4378/4378 - 75s - loss: 0.2017 - accuracy: 0.9285 - val_loss: 1.2109 - val_accuracy: 0.7114 - lr: 0.0010 - 75s/epoch - 17ms/step
Epoch 22/100
4378/4378 - 75s - loss: 0.2020 - accuracy: 0.9287 - val_loss: 1.4651 - val_accuracy: 0.6720 - lr: 0.0010 - 75s/epoch - 17ms/step
Epoch 23/100
4378/4378 - 75s - loss: 0.2039 - accuracy: 0.9288 - val_loss: 1.2498 - val_accuracy: 0.7144 - lr: 0.0010 - 75s/epoch - 17ms/step
Epoch 24/100
4378/4378 - 75s - loss: 0.2089 - accuracy: 0.9262 - val_loss: 1.2221 - val_accuracy: 0.7091 - lr: 0.0010 - 75s/epoch - 17ms/step
Epoch 25/100
4378/4378 - 75s - loss: 0.2065 - accuracy: 0.9268 - val_loss: 1.2580 - val_accuracy: 0.7113 - lr: 0.0010 - 75s/epoch - 17ms/step
Epoch 26/100
4378/4378 - 76s - loss: 0.2034 - accuracy: 0.9289 - val_loss: 1.1422 - val_accuracy: 0.7194 - lr: 0.0010 - 76s/epoch - 17ms/step
Epoch 27/100
4378/4378 - 75s - loss: 0.2063 - accuracy: 0.9275 - val_loss: 1.2301 - val_accuracy: 0.7018 - lr: 0.0010 - 75s/epoch - 17ms/step
Epoch 28/100
4378/4378 - 75s - loss: 0.2013 - accuracy: 0.9286 - val_loss: 1.3213 - val_accuracy: 0.7047 - lr: 0.0010 - 75s/epoch - 17ms/step
Epoch 29/100
4378/4378 - 75s - loss: 0.2034 - accuracy: 0.9292 - val_loss: 1.2292 - val_accuracy: 0.7023 - lr: 0.0010 - 75s/epoch - 17ms/step
Epoch 30/100
4378/4378 - 75s - loss: 0.2033 - accuracy: 0.9285 - val_loss: 1.2194 - val_accuracy: 0.7006 - lr: 0.0010 - 75s/epoch - 17ms/step
Epoch 31/100
4378/4378 - 75s - loss: 0.1979 - accuracy: 0.9302 - val_loss: 1.2761 - val_accuracy: 0.7044 - lr: 0.0010 - 75s/epoch - 17ms/step
Epoch 32/100
4378/4378 - 75s - loss: 0.2061 - accuracy: 0.9268 - val_loss: 1.1410 - val_accuracy: 0.7278 - lr: 0.0010 - 75s/epoch - 17ms/step
Epoch 33/100
4378/4378 - 75s - loss: 0.2077 - accuracy: 0.9267 - val_loss: 1.1814 - val_accuracy: 0.7169 - lr: 0.0010 - 75s/epoch - 17ms/step
Epoch 34/100
4378/4378 - 75s - loss: 0.2012 - accuracy: 0.9295 - val_loss: 1.3123 - val_accuracy: 0.7036 - lr: 0.0010 - 75s/epoch - 17ms/step
Epoch 35/100
4378/4378 - 75s - loss: 0.2076 - accuracy: 0.9274 - val_loss: 1.2349 - val_accuracy: 0.7018 - lr: 0.0010 - 75s/epoch - 17ms/step
Epoch 36/100
4378/4378 - 75s - loss: 0.2082 - accuracy: 0.9262 - val_loss: 1.1651 - val_accuracy: 0.7047 - lr: 0.0010 - 75s/epoch - 17ms/step
Epoch 37/100
4378/4378 - 75s - loss: 0.2046 - accuracy: 0.9270 - val_loss: 1.3524 - val_accuracy: 0.7031 - lr: 0.0010 - 75s/epoch - 17ms/step
Epoch 38/100
4378/4378 - 75s - loss: 0.2061 - accuracy: 0.9276 - val_loss: 1.3422 - val_accuracy: 0.6920 - lr: 0.0010 - 75s/epoch - 17ms/step
Epoch 39/100
4378/4378 - 75s - loss: 0.2098 - accuracy: 0.9268 - val_loss: 1.0026 - val_accuracy: 0.7434 - lr: 0.0010 - 75s/epoch - 17ms/step
Epoch 40/100
4378/4378 - 75s - loss: 0.2041 - accuracy: 0.9277 - val_loss: 1.1193 - val_accuracy: 0.7269 - lr: 0.0010 - 75s/epoch - 17ms/step
Epoch 41/100
4378/4378 - 75s - loss: 0.2060 - accuracy: 0.9276 - val_loss: 1.2355 - val_accuracy: 0.6956 - lr: 0.0010 - 75s/epoch - 17ms/step
Epoch 42/100
4378/4378 - 75s - loss: 0.2051 - accuracy: 0.9278 - val_loss: 1.5372 - val_accuracy: 0.6592 - lr: 0.0010 - 75s/epoch - 17ms/step
Epoch 43/100
4378/4378 - 74s - loss: 0.2038 - accuracy: 0.9283 - val_loss: 1.2595 - val_accuracy: 0.6956 - lr: 0.0010 - 74s/epoch - 17ms/step
Epoch 44/100
4378/4378 - 75s - loss: 0.2021 - accuracy: 0.9289 - val_loss: 1.3402 - val_accuracy: 0.6998 - lr: 0.0010 - 75s/epoch - 17ms/step
Epoch 45/100
4378/4378 - 75s - loss: 0.2033 - accuracy: 0.9290 - val_loss: 1.4104 - val_accuracy: 0.6847 - lr: 0.0010 - 75s/epoch - 17ms/step
Epoch 46/100
4378/4378 - 75s - loss: 0.2055 - accuracy: 0.9282 - val_loss: 1.1772 - val_accuracy: 0.7236 - lr: 0.0010 - 75s/epoch - 17ms/step
Epoch 47/100
4378/4378 - 75s - loss: 0.2030 - accuracy: 0.9279 - val_loss: 1.2872 - val_accuracy: 0.7092 - lr: 0.0010 - 75s/epoch - 17ms/step
Epoch 48/100
4378/4378 - 75s - loss: 0.2031 - accuracy: 0.9295 - val_loss: 1.3100 - val_accuracy: 0.6830 - lr: 0.0010 - 75s/epoch - 17ms/step
Epoch 49/100
4378/4378 - 75s - loss: 0.2114 - accuracy: 0.9261 - val_loss: 1.2898 - val_accuracy: 0.6941 - lr: 0.0010 - 75s/epoch - 17ms/step
Epoch 50/100
4378/4378 - 75s - loss: 0.2018 - accuracy: 0.9292 - val_loss: 1.3608 - val_accuracy: 0.6907 - lr: 0.0010 - 75s/epoch - 17ms/step
Epoch 51/100
4378/4378 - 75s - loss: 0.2021 - accuracy: 0.9290 - val_loss: 1.2406 - val_accuracy: 0.7104 - lr: 0.0010 - 75s/epoch - 17ms/step
Epoch 52/100
4378/4378 - 75s - loss: 0.2007 - accuracy: 0.9298 - val_loss: 1.3606 - val_accuracy: 0.6844 - lr: 0.0010 - 75s/epoch - 17ms/step
Epoch 53/100
4378/4378 - 75s - loss: 0.2046 - accuracy: 0.9290 - val_loss: 1.2197 - val_accuracy: 0.7008 - lr: 0.0010 - 75s/epoch - 17ms/step
Epoch 54/100
4378/4378 - 75s - loss: 0.2097 - accuracy: 0.9256 - val_loss: 1.3570 - val_accuracy: 0.6863 - lr: 0.0010 - 75s/epoch - 17ms/step
Epoch 55/100
4378/4378 - 75s - loss: 0.2066 - accuracy: 0.9266 - val_loss: 1.4353 - val_accuracy: 0.6718 - lr: 0.0010 - 75s/epoch - 17ms/step
Epoch 56/100
4378/4378 - 75s - loss: 0.2092 - accuracy: 0.9261 - val_loss: 1.4319 - val_accuracy: 0.6743 - lr: 0.0010 - 75s/epoch - 17ms/step
Epoch 57/100
4378/4378 - 75s - loss: 0.2124 - accuracy: 0.9257 - val_loss: 1.2225 - val_accuracy: 0.7135 - lr: 0.0010 - 75s/epoch - 17ms/step
Epoch 58/100
4378/4378 - 75s - loss: 0.2092 - accuracy: 0.9257 - val_loss: 1.1813 - val_accuracy: 0.7129 - lr: 0.0010 - 75s/epoch - 17ms/step
Epoch 59/100
4378/4378 - 75s - loss: 0.2050 - accuracy: 0.9278 - val_loss: 1.5508 - val_accuracy: 0.6487 - lr: 0.0010 - 75s/epoch - 17ms/step
Epoch 60/100
4378/4378 - 75s - loss: 0.1998 - accuracy: 0.9293 - val_loss: 1.5001 - val_accuracy: 0.6508 - lr: 0.0010 - 75s/epoch - 17ms/step
Epoch 61/100
4378/4378 - 75s - loss: 0.2052 - accuracy: 0.9273 - val_loss: 1.3863 - val_accuracy: 0.6781 - lr: 0.0010 - 75s/epoch - 17ms/step
Epoch 62/100
4378/4378 - 75s - loss: 0.2035 - accuracy: 0.9283 - val_loss: 1.1036 - val_accuracy: 0.7135 - lr: 0.0010 - 75s/epoch - 17ms/step
Epoch 63/100
4378/4378 - 74s - loss: 0.2099 - accuracy: 0.9259 - val_loss: 1.3577 - val_accuracy: 0.6848 - lr: 0.0010 - 74s/epoch - 17ms/step
Epoch 64/100
4378/4378 - 75s - loss: 0.1998 - accuracy: 0.9296 - val_loss: 1.2396 - val_accuracy: 0.7006 - lr: 0.0010 - 75s/epoch - 17ms/step
Epoch 65/100
4378/4378 - 75s - loss: 0.2023 - accuracy: 0.9296 - val_loss: 1.2717 - val_accuracy: 0.6959 - lr: 0.0010 - 75s/epoch - 17ms/step
Epoch 66/100
4378/4378 - 75s - loss: 0.2095 - accuracy: 0.9262 - val_loss: 1.2040 - val_accuracy: 0.7019 - lr: 0.0010 - 75s/epoch - 17ms/step
Epoch 67/100
4378/4378 - 75s - loss: 0.2006 - accuracy: 0.9295 - val_loss: 1.2688 - val_accuracy: 0.6966 - lr: 0.0010 - 75s/epoch - 17ms/step
Epoch 68/100
4378/4378 - 75s - loss: 0.2015 - accuracy: 0.9293 - val_loss: 1.2273 - val_accuracy: 0.7099 - lr: 0.0010 - 75s/epoch - 17ms/step
Epoch 69/100
4378/4378 - 75s - loss: 0.2016 - accuracy: 0.9287 - val_loss: 1.5642 - val_accuracy: 0.6644 - lr: 0.0010 - 75s/epoch - 17ms/step
Epoch 70/100
4378/4378 - 75s - loss: 0.1997 - accuracy: 0.9295 - val_loss: 1.3487 - val_accuracy: 0.6808 - lr: 0.0010 - 75s/epoch - 17ms/step
Epoch 71/100
4378/4378 - 75s - loss: 0.2020 - accuracy: 0.9292 - val_loss: 1.2821 - val_accuracy: 0.6944 - lr: 0.0010 - 75s/epoch - 17ms/step
Epoch 72/100
4378/4378 - 75s - loss: 0.2002 - accuracy: 0.9294 - val_loss: 1.3557 - val_accuracy: 0.6885 - lr: 0.0010 - 75s/epoch - 17ms/step
Epoch 73/100
4378/4378 - 75s - loss: 0.2059 - accuracy: 0.9280 - val_loss: 1.2836 - val_accuracy: 0.6928 - lr: 0.0010 - 75s/epoch - 17ms/step
Epoch 74/100
4378/4378 - 75s - loss: 0.2101 - accuracy: 0.9257 - val_loss: 1.3151 - val_accuracy: 0.6866 - lr: 0.0010 - 75s/epoch - 17ms/step
Epoch 75/100
4378/4378 - 75s - loss: 0.2088 - accuracy: 0.9267 - val_loss: 1.2342 - val_accuracy: 0.6952 - lr: 0.0010 - 75s/epoch - 17ms/step
Epoch 76/100
4378/4378 - 75s - loss: 0.2136 - accuracy: 0.9240 - val_loss: 1.2194 - val_accuracy: 0.7038 - lr: 0.0010 - 75s/epoch - 17ms/step
Epoch 77/100
4378/4378 - 75s - loss: 0.2017 - accuracy: 0.9292 - val_loss: 1.3143 - val_accuracy: 0.6814 - lr: 0.0010 - 75s/epoch - 17ms/step
Epoch 78/100
4378/4378 - 75s - loss: 0.2043 - accuracy: 0.9280 - val_loss: 1.2659 - val_accuracy: 0.6989 - lr: 0.0010 - 75s/epoch - 17ms/step
Epoch 79/100
4378/4378 - 75s - loss: 0.2057 - accuracy: 0.9273 - val_loss: 1.2256 - val_accuracy: 0.7013 - lr: 0.0010 - 75s/epoch - 17ms/step
Epoch 80/100
4378/4378 - 75s - loss: 0.2065 - accuracy: 0.9273 - val_loss: 1.3827 - val_accuracy: 0.6857 - lr: 0.0010 - 75s/epoch - 17ms/step
Epoch 81/100
4378/4378 - 75s - loss: 0.2052 - accuracy: 0.9275 - val_loss: 1.3289 - val_accuracy: 0.6845 - lr: 0.0010 - 75s/epoch - 17ms/step
Epoch 82/100
4378/4378 - 75s - loss: 0.2071 - accuracy: 0.9270 - val_loss: 1.1671 - val_accuracy: 0.7151 - lr: 0.0010 - 75s/epoch - 17ms/step
Epoch 83/100
4378/4378 - 75s - loss: 0.2046 - accuracy: 0.9284 - val_loss: 1.3774 - val_accuracy: 0.6860 - lr: 0.0010 - 75s/epoch - 17ms/step
Epoch 84/100
4378/4378 - 76s - loss: 0.2049 - accuracy: 0.9279 - val_loss: 1.3924 - val_accuracy: 0.6793 - lr: 0.0010 - 76s/epoch - 17ms/step
Epoch 85/100
4378/4378 - 75s - loss: 0.2062 - accuracy: 0.9270 - val_loss: 1.2730 - val_accuracy: 0.6936 - lr: 0.0010 - 75s/epoch - 17ms/step
Epoch 86/100
4378/4378 - 75s - loss: 0.2101 - accuracy: 0.9260 - val_loss: 1.2965 - val_accuracy: 0.6870 - lr: 0.0010 - 75s/epoch - 17ms/step
Epoch 87/100
4378/4378 - 75s - loss: 0.2041 - accuracy: 0.9285 - val_loss: 1.5392 - val_accuracy: 0.6507 - lr: 0.0010 - 75s/epoch - 17ms/step
Epoch 88/100
4378/4378 - 75s - loss: 0.2034 - accuracy: 0.9276 - val_loss: 1.3218 - val_accuracy: 0.6924 - lr: 0.0010 - 75s/epoch - 17ms/step
Epoch 89/100
4378/4378 - 75s - loss: 0.2045 - accuracy: 0.9276 - val_loss: 1.5763 - val_accuracy: 0.6434 - lr: 0.0010 - 75s/epoch - 17ms/step
Epoch 90/100
4378/4378 - 75s - loss: 0.2109 - accuracy: 0.9261 - val_loss: 1.3076 - val_accuracy: 0.6821 - lr: 0.0010 - 75s/epoch - 17ms/step
Epoch 91/100
4378/4378 - 75s - loss: 0.2039 - accuracy: 0.9287 - val_loss: 1.4718 - val_accuracy: 0.6645 - lr: 0.0010 - 75s/epoch - 17ms/step
Epoch 92/100
4378/4378 - 75s - loss: 0.2005 - accuracy: 0.9294 - val_loss: 1.4794 - val_accuracy: 0.6633 - lr: 0.0010 - 75s/epoch - 17ms/step
Epoch 93/100
4378/4378 - 75s - loss: 0.2033 - accuracy: 0.9284 - val_loss: 1.3608 - val_accuracy: 0.6894 - lr: 0.0010 - 75s/epoch - 17ms/step
Epoch 94/100
4378/4378 - 75s - loss: 0.2065 - accuracy: 0.9271 - val_loss: 1.5087 - val_accuracy: 0.6626 - lr: 0.0010 - 75s/epoch - 17ms/step
Epoch 95/100
4378/4378 - 75s - loss: 0.2070 - accuracy: 0.9282 - val_loss: 1.3748 - val_accuracy: 0.6910 - lr: 0.0010 - 75s/epoch - 17ms/step
Epoch 96/100
4378/4378 - 75s - loss: 0.2052 - accuracy: 0.9283 - val_loss: 1.4119 - val_accuracy: 0.6812 - lr: 0.0010 - 75s/epoch - 17ms/step
Epoch 97/100
4378/4378 - 75s - loss: 0.2039 - accuracy: 0.9282 - val_loss: 1.3998 - val_accuracy: 0.6761 - lr: 0.0010 - 75s/epoch - 17ms/step
Epoch 98/100
4378/4378 - 75s - loss: 0.2067 - accuracy: 0.9262 - val_loss: 1.3646 - val_accuracy: 0.6710 - lr: 0.0010 - 75s/epoch - 17ms/step
Epoch 99/100
4378/4378 - 75s - loss: 0.2027 - accuracy: 0.9292 - val_loss: 1.2082 - val_accuracy: 0.7093 - lr: 0.0010 - 75s/epoch - 17ms/step
Epoch 100/100
4378/4378 - 75s - loss: 0.2036 - accuracy: 0.9291 - val_loss: 1.3976 - val_accuracy: 0.6788 - lr: 0.0010 - 75s/epoch - 17ms/step
Epoch 1/100
876/876 - 21s - loss: 0.1364 - accuracy: 0.9545 - val_loss: 1.6250 - val_accuracy: 0.6830 - lr: 0.0010 - 21s/epoch - 24ms/step
Epoch 2/100
876/876 - 19s - loss: 0.1423 - accuracy: 0.9525 - val_loss: 1.6099 - val_accuracy: 0.6818 - lr: 0.0010 - 19s/epoch - 21ms/step
Epoch 3/100
876/876 - 19s - loss: 0.1459 - accuracy: 0.9500 - val_loss: 1.6794 - val_accuracy: 0.6784 - lr: 0.0010 - 19s/epoch - 21ms/step
Epoch 4/100
876/876 - 19s - loss: 0.1418 - accuracy: 0.9519 - val_loss: 1.6664 - val_accuracy: 0.6908 - lr: 0.0010 - 19s/epoch - 21ms/step
Epoch 5/100
876/876 - 19s - loss: 0.1383 - accuracy: 0.9536 - val_loss: 1.8326 - val_accuracy: 0.6746 - lr: 0.0010 - 19s/epoch - 21ms/step
Epoch 6/100
876/876 - 19s - loss: 0.1412 - accuracy: 0.9522 - val_loss: 1.9601 - val_accuracy: 0.6556 - lr: 0.0010 - 19s/epoch - 21ms/step
Epoch 7/100
876/876 - 18s - loss: 0.1348 - accuracy: 0.9545 - val_loss: 1.9410 - val_accuracy: 0.6633 - lr: 0.0010 - 18s/epoch - 21ms/step
Epoch 8/100
876/876 - 19s - loss: 0.1350 - accuracy: 0.9547 - val_loss: 1.8995 - val_accuracy: 0.6641 - lr: 0.0010 - 19s/epoch - 21ms/step
Epoch 9/100
876/876 - 19s - loss: 0.1364 - accuracy: 0.9546 - val_loss: 2.0072 - val_accuracy: 0.6558 - lr: 0.0010 - 19s/epoch - 21ms/step
Epoch 10/100
876/876 - 19s - loss: 0.1348 - accuracy: 0.9545 - val_loss: 2.0720 - val_accuracy: 0.6475 - lr: 0.0010 - 19s/epoch - 21ms/step
Epoch 11/100
876/876 - 19s - loss: 0.1339 - accuracy: 0.9550 - val_loss: 1.9412 - val_accuracy: 0.6654 - lr: 0.0010 - 19s/epoch - 21ms/step
Epoch 12/100
876/876 - 19s - loss: 0.1364 - accuracy: 0.9542 - val_loss: 1.9936 - val_accuracy: 0.6558 - lr: 0.0010 - 19s/epoch - 21ms/step
Epoch 13/100
876/876 - 19s - loss: 0.1332 - accuracy: 0.9552 - val_loss: 2.0398 - val_accuracy: 0.6606 - lr: 0.0010 - 19s/epoch - 21ms/step
Epoch 14/100
876/876 - 19s - loss: 0.1311 - accuracy: 0.9564 - val_loss: 1.7519 - val_accuracy: 0.6911 - lr: 0.0010 - 19s/epoch - 21ms/step
Epoch 15/100
876/876 - 19s - loss: 0.1320 - accuracy: 0.9561 - val_loss: 2.0260 - val_accuracy: 0.6556 - lr: 0.0010 - 19s/epoch - 21ms/step
Epoch 16/100
876/876 - 19s - loss: 0.1355 - accuracy: 0.9546 - val_loss: 1.8824 - val_accuracy: 0.6678 - lr: 0.0010 - 19s/epoch - 21ms/step
Epoch 17/100
876/876 - 19s - loss: 0.1346 - accuracy: 0.9551 - val_loss: 1.9720 - val_accuracy: 0.6597 - lr: 0.0010 - 19s/epoch - 21ms/step
Epoch 18/100
876/876 - 19s - loss: 0.1322 - accuracy: 0.9557 - val_loss: 2.0492 - val_accuracy: 0.6605 - lr: 0.0010 - 19s/epoch - 21ms/step
Epoch 19/100
876/876 - 19s - loss: 0.1341 - accuracy: 0.9552 - val_loss: 1.9405 - val_accuracy: 0.6763 - lr: 0.0010 - 19s/epoch - 21ms/step
Epoch 20/100
876/876 - 19s - loss: 0.1270 - accuracy: 0.9571 - val_loss: 2.1065 - val_accuracy: 0.6507 - lr: 0.0010 - 19s/epoch - 21ms/step
Epoch 21/100
876/876 - 19s - loss: 0.1314 - accuracy: 0.9555 - val_loss: 1.9265 - val_accuracy: 0.6733 - lr: 0.0010 - 19s/epoch - 21ms/step
Epoch 22/100
876/876 - 19s - loss: 0.1312 - accuracy: 0.9560 - val_loss: 2.0527 - val_accuracy: 0.6556 - lr: 0.0010 - 19s/epoch - 21ms/step
Epoch 23/100
876/876 - 19s - loss: 0.1328 - accuracy: 0.9552 - val_loss: 1.9320 - val_accuracy: 0.6850 - lr: 0.0010 - 19s/epoch - 21ms/step
Epoch 24/100
876/876 - 19s - loss: 0.1303 - accuracy: 0.9564 - val_loss: 2.1062 - val_accuracy: 0.6571 - lr: 0.0010 - 19s/epoch - 21ms/step
Epoch 25/100
876/876 - 19s - loss: 0.1318 - accuracy: 0.9559 - val_loss: 1.9166 - val_accuracy: 0.6665 - lr: 0.0010 - 19s/epoch - 21ms/step
Epoch 26/100
876/876 - 19s - loss: 0.1321 - accuracy: 0.9563 - val_loss: 1.8745 - val_accuracy: 0.6754 - lr: 0.0010 - 19s/epoch - 21ms/step
Epoch 27/100
876/876 - 19s - loss: 0.1292 - accuracy: 0.9564 - val_loss: 2.1173 - val_accuracy: 0.6480 - lr: 0.0010 - 19s/epoch - 21ms/step
Epoch 28/100
876/876 - 18s - loss: 0.1276 - accuracy: 0.9576 - val_loss: 2.0283 - val_accuracy: 0.6612 - lr: 0.0010 - 18s/epoch - 21ms/step
Epoch 29/100
876/876 - 19s - loss: 0.1278 - accuracy: 0.9572 - val_loss: 2.1676 - val_accuracy: 0.6555 - lr: 0.0010 - 19s/epoch - 21ms/step
Epoch 30/100
876/876 - 19s - loss: 0.1246 - accuracy: 0.9588 - val_loss: 2.0295 - val_accuracy: 0.6687 - lr: 0.0010 - 19s/epoch - 21ms/step
Epoch 31/100
876/876 - 19s - loss: 0.1295 - accuracy: 0.9569 - val_loss: 2.0938 - val_accuracy: 0.6559 - lr: 0.0010 - 19s/epoch - 21ms/step
Epoch 32/100
876/876 - 19s - loss: 0.1266 - accuracy: 0.9576 - val_loss: 2.0117 - val_accuracy: 0.6670 - lr: 0.0010 - 19s/epoch - 21ms/step
Epoch 33/100
876/876 - 19s - loss: 0.1270 - accuracy: 0.9575 - val_loss: 2.0612 - val_accuracy: 0.6712 - lr: 0.0010 - 19s/epoch - 21ms/step
Epoch 34/100
876/876 - 18s - loss: 0.1266 - accuracy: 0.9583 - val_loss: 1.9744 - val_accuracy: 0.6794 - lr: 0.0010 - 18s/epoch - 21ms/step
Epoch 35/100
876/876 - 19s - loss: 0.1287 - accuracy: 0.9568 - val_loss: 1.9672 - val_accuracy: 0.6633 - lr: 0.0010 - 19s/epoch - 21ms/step
Epoch 36/100
876/876 - 18s - loss: 0.1288 - accuracy: 0.9576 - val_loss: 1.9077 - val_accuracy: 0.6753 - lr: 0.0010 - 18s/epoch - 21ms/step
Epoch 37/100
876/876 - 19s - loss: 0.1262 - accuracy: 0.9582 - val_loss: 2.1494 - val_accuracy: 0.6566 - lr: 0.0010 - 19s/epoch - 21ms/step
Epoch 38/100
876/876 - 19s - loss: 0.1281 - accuracy: 0.9569 - val_loss: 1.9865 - val_accuracy: 0.6633 - lr: 0.0010 - 19s/epoch - 21ms/step
Epoch 39/100
876/876 - 19s - loss: 0.1267 - accuracy: 0.9572 - val_loss: 2.1874 - val_accuracy: 0.6490 - lr: 0.0010 - 19s/epoch - 21ms/step
Epoch 40/100
876/876 - 19s - loss: 0.1279 - accuracy: 0.9576 - val_loss: 1.9502 - val_accuracy: 0.6756 - lr: 0.0010 - 19s/epoch - 21ms/step
Epoch 41/100
876/876 - 19s - loss: 0.1294 - accuracy: 0.9567 - val_loss: 2.1979 - val_accuracy: 0.6557 - lr: 0.0010 - 19s/epoch - 21ms/step
Epoch 42/100
876/876 - 18s - loss: 0.1244 - accuracy: 0.9586 - val_loss: 1.8164 - val_accuracy: 0.6904 - lr: 0.0010 - 18s/epoch - 21ms/step
Epoch 43/100
876/876 - 18s - loss: 0.1236 - accuracy: 0.9587 - val_loss: 1.9155 - val_accuracy: 0.6782 - lr: 0.0010 - 18s/epoch - 21ms/step
Epoch 44/100
876/876 - 19s - loss: 0.1277 - accuracy: 0.9571 - val_loss: 2.0974 - val_accuracy: 0.6557 - lr: 0.0010 - 19s/epoch - 21ms/step
Epoch 45/100
876/876 - 18s - loss: 0.1245 - accuracy: 0.9588 - val_loss: 1.9225 - val_accuracy: 0.6801 - lr: 0.0010 - 18s/epoch - 21ms/step
Epoch 46/100
876/876 - 19s - loss: 0.1259 - accuracy: 0.9578 - val_loss: 1.9244 - val_accuracy: 0.6793 - lr: 0.0010 - 19s/epoch - 21ms/step
Epoch 47/100
876/876 - 19s - loss: 0.1293 - accuracy: 0.9564 - val_loss: 1.9133 - val_accuracy: 0.6739 - lr: 0.0010 - 19s/epoch - 21ms/step
Epoch 48/100
876/876 - 19s - loss: 0.1258 - accuracy: 0.9580 - val_loss: 1.9190 - val_accuracy: 0.6831 - lr: 0.0010 - 19s/epoch - 21ms/step
Epoch 49/100
876/876 - 19s - loss: 0.1250 - accuracy: 0.9588 - val_loss: 1.9191 - val_accuracy: 0.6848 - lr: 0.0010 - 19s/epoch - 21ms/step
Epoch 50/100
876/876 - 19s - loss: 0.1258 - accuracy: 0.9576 - val_loss: 2.0370 - val_accuracy: 0.6646 - lr: 0.0010 - 19s/epoch - 21ms/step
Epoch 51/100
876/876 - 19s - loss: 0.1269 - accuracy: 0.9576 - val_loss: 1.9551 - val_accuracy: 0.6741 - lr: 0.0010 - 19s/epoch - 21ms/step
Epoch 52/100
876/876 - 19s - loss: 0.1268 - accuracy: 0.9579 - val_loss: 2.0396 - val_accuracy: 0.6664 - lr: 0.0010 - 19s/epoch - 21ms/step
Epoch 53/100
876/876 - 19s - loss: 0.1249 - accuracy: 0.9582 - val_loss: 2.0115 - val_accuracy: 0.6771 - lr: 0.0010 - 19s/epoch - 21ms/step
Epoch 54/100
876/876 - 19s - loss: 0.1270 - accuracy: 0.9568 - val_loss: 2.1269 - val_accuracy: 0.6555 - lr: 0.0010 - 19s/epoch - 21ms/step
Epoch 55/100
876/876 - 19s - loss: 0.1265 - accuracy: 0.9579 - val_loss: 2.1122 - val_accuracy: 0.6585 - lr: 0.0010 - 19s/epoch - 21ms/step
Epoch 56/100
876/876 - 19s - loss: 0.1276 - accuracy: 0.9581 - val_loss: 2.1633 - val_accuracy: 0.6404 - lr: 0.0010 - 19s/epoch - 21ms/step
Epoch 57/100
876/876 - 19s - loss: 0.1239 - accuracy: 0.9590 - val_loss: 2.1038 - val_accuracy: 0.6702 - lr: 0.0010 - 19s/epoch - 21ms/step
Epoch 58/100
876/876 - 18s - loss: 0.1245 - accuracy: 0.9582 - val_loss: 2.1096 - val_accuracy: 0.6529 - lr: 0.0010 - 18s/epoch - 21ms/step
Epoch 59/100
876/876 - 19s - loss: 0.1275 - accuracy: 0.9576 - val_loss: 2.0393 - val_accuracy: 0.6555 - lr: 0.0010 - 19s/epoch - 21ms/step
Epoch 60/100
876/876 - 19s - loss: 0.1255 - accuracy: 0.9582 - val_loss: 2.0489 - val_accuracy: 0.6657 - lr: 0.0010 - 19s/epoch - 21ms/step
Epoch 61/100
876/876 - 19s - loss: 0.1255 - accuracy: 0.9584 - val_loss: 2.0813 - val_accuracy: 0.6638 - lr: 0.0010 - 19s/epoch - 21ms/step
Epoch 62/100
876/876 - 18s - loss: 0.1248 - accuracy: 0.9575 - val_loss: 2.2330 - val_accuracy: 0.6524 - lr: 0.0010 - 18s/epoch - 21ms/step
Epoch 63/100
876/876 - 19s - loss: 0.1273 - accuracy: 0.9575 - val_loss: 1.9868 - val_accuracy: 0.6681 - lr: 0.0010 - 19s/epoch - 21ms/step
Epoch 64/100
876/876 - 19s - loss: 0.1220 - accuracy: 0.9599 - val_loss: 2.0304 - val_accuracy: 0.6687 - lr: 0.0010 - 19s/epoch - 21ms/step
Epoch 65/100
876/876 - 19s - loss: 0.1275 - accuracy: 0.9579 - val_loss: 1.8632 - val_accuracy: 0.6813 - lr: 0.0010 - 19s/epoch - 21ms/step
Epoch 66/100
876/876 - 19s - loss: 0.1244 - accuracy: 0.9586 - val_loss: 1.8619 - val_accuracy: 0.6929 - lr: 0.0010 - 19s/epoch - 21ms/step
Epoch 67/100
876/876 - 19s - loss: 0.1191 - accuracy: 0.9609 - val_loss: 2.0627 - val_accuracy: 0.6600 - lr: 0.0010 - 19s/epoch - 21ms/step
Epoch 68/100
876/876 - 18s - loss: 0.1243 - accuracy: 0.9579 - val_loss: 2.0468 - val_accuracy: 0.6703 - lr: 0.0010 - 18s/epoch - 21ms/step
Epoch 69/100
876/876 - 19s - loss: 0.1239 - accuracy: 0.9585 - val_loss: 1.9346 - val_accuracy: 0.6823 - lr: 0.0010 - 19s/epoch - 21ms/step
Epoch 70/100
876/876 - 19s - loss: 0.1213 - accuracy: 0.9592 - val_loss: 2.0761 - val_accuracy: 0.6739 - lr: 0.0010 - 19s/epoch - 21ms/step
Epoch 71/100
876/876 - 19s - loss: 0.1224 - accuracy: 0.9595 - val_loss: 2.2019 - val_accuracy: 0.6440 - lr: 0.0010 - 19s/epoch - 21ms/step
Epoch 72/100
876/876 - 19s - loss: 0.1222 - accuracy: 0.9590 - val_loss: 2.2177 - val_accuracy: 0.6578 - lr: 0.0010 - 19s/epoch - 21ms/step
Epoch 73/100
876/876 - 18s - loss: 0.1250 - accuracy: 0.9585 - val_loss: 1.9887 - val_accuracy: 0.6792 - lr: 0.0010 - 18s/epoch - 21ms/step
Epoch 74/100
876/876 - 19s - loss: 0.1261 - accuracy: 0.9578 - val_loss: 2.1387 - val_accuracy: 0.6597 - lr: 0.0010 - 19s/epoch - 21ms/step
Epoch 75/100
876/876 - 19s - loss: 0.1247 - accuracy: 0.9586 - val_loss: 2.2438 - val_accuracy: 0.6449 - lr: 0.0010 - 19s/epoch - 21ms/step
Epoch 76/100
876/876 - 19s - loss: 0.1259 - accuracy: 0.9584 - val_loss: 2.0169 - val_accuracy: 0.6695 - lr: 0.0010 - 19s/epoch - 21ms/step
Epoch 77/100
876/876 - 18s - loss: 0.1222 - accuracy: 0.9596 - val_loss: 2.1454 - val_accuracy: 0.6630 - lr: 0.0010 - 18s/epoch - 21ms/step
Epoch 78/100
876/876 - 19s - loss: 0.1242 - accuracy: 0.9585 - val_loss: 2.0103 - val_accuracy: 0.6656 - lr: 0.0010 - 19s/epoch - 21ms/step
Epoch 79/100
876/876 - 19s - loss: 0.1215 - accuracy: 0.9596 - val_loss: 2.1338 - val_accuracy: 0.6659 - lr: 0.0010 - 19s/epoch - 21ms/step
Epoch 80/100
876/876 - 19s - loss: 0.1250 - accuracy: 0.9589 - val_loss: 1.9235 - val_accuracy: 0.6859 - lr: 0.0010 - 19s/epoch - 21ms/step
Epoch 81/100
876/876 - 18s - loss: 0.1264 - accuracy: 0.9575 - val_loss: 2.0814 - val_accuracy: 0.6691 - lr: 0.0010 - 18s/epoch - 21ms/step
Epoch 82/100
876/876 - 19s - loss: 0.1224 - accuracy: 0.9594 - val_loss: 1.9626 - val_accuracy: 0.6745 - lr: 0.0010 - 19s/epoch - 21ms/step
Epoch 83/100
876/876 - 19s - loss: 0.1232 - accuracy: 0.9591 - val_loss: 2.0035 - val_accuracy: 0.6717 - lr: 0.0010 - 19s/epoch - 21ms/step
Epoch 84/100
876/876 - 18s - loss: 0.1258 - accuracy: 0.9575 - val_loss: 2.0066 - val_accuracy: 0.6704 - lr: 0.0010 - 18s/epoch - 21ms/step
Epoch 85/100
876/876 - 19s - loss: 0.1234 - accuracy: 0.9592 - val_loss: 2.0683 - val_accuracy: 0.6613 - lr: 0.0010 - 19s/epoch - 21ms/step
Epoch 86/100
876/876 - 19s - loss: 0.1201 - accuracy: 0.9608 - val_loss: 1.8629 - val_accuracy: 0.6853 - lr: 0.0010 - 19s/epoch - 21ms/step
Epoch 87/100
876/876 - 19s - loss: 0.1203 - accuracy: 0.9600 - val_loss: 1.8434 - val_accuracy: 0.6921 - lr: 0.0010 - 19s/epoch - 21ms/step
Epoch 88/100
876/876 - 18s - loss: 0.1231 - accuracy: 0.9594 - val_loss: 2.0171 - val_accuracy: 0.6725 - lr: 0.0010 - 18s/epoch - 21ms/step
Epoch 89/100
876/876 - 18s - loss: 0.1245 - accuracy: 0.9589 - val_loss: 1.8796 - val_accuracy: 0.6829 - lr: 0.0010 - 18s/epoch - 21ms/step
Epoch 90/100
876/876 - 19s - loss: 0.1224 - accuracy: 0.9595 - val_loss: 2.2170 - val_accuracy: 0.6466 - lr: 0.0010 - 19s/epoch - 21ms/step
Epoch 91/100
876/876 - 19s - loss: 0.1234 - accuracy: 0.9588 - val_loss: 2.2854 - val_accuracy: 0.6457 - lr: 0.0010 - 19s/epoch - 21ms/step
Epoch 92/100
876/876 - 19s - loss: 0.1221 - accuracy: 0.9591 - val_loss: 2.0948 - val_accuracy: 0.6680 - lr: 0.0010 - 19s/epoch - 21ms/step
Epoch 93/100
876/876 - 19s - loss: 0.1217 - accuracy: 0.9599 - val_loss: 2.0919 - val_accuracy: 0.6670 - lr: 0.0010 - 19s/epoch - 21ms/step
Epoch 94/100
876/876 - 18s - loss: 0.1227 - accuracy: 0.9595 - val_loss: 2.1101 - val_accuracy: 0.6712 - lr: 0.0010 - 18s/epoch - 21ms/step
Epoch 95/100
876/876 - 19s - loss: 0.1232 - accuracy: 0.9593 - val_loss: 2.0317 - val_accuracy: 0.6741 - lr: 0.0010 - 19s/epoch - 21ms/step
Epoch 96/100
876/876 - 19s - loss: 0.1241 - accuracy: 0.9588 - val_loss: 2.2355 - val_accuracy: 0.6546 - lr: 0.0010 - 19s/epoch - 21ms/step
Epoch 97/100
876/876 - 19s - loss: 0.1228 - accuracy: 0.9592 - val_loss: 1.9619 - val_accuracy: 0.6722 - lr: 0.0010 - 19s/epoch - 21ms/step
Epoch 98/100
876/876 - 19s - loss: 0.1198 - accuracy: 0.9606 - val_loss: 2.1108 - val_accuracy: 0.6599 - lr: 0.0010 - 19s/epoch - 21ms/step
Epoch 99/100
876/876 - 19s - loss: 0.1209 - accuracy: 0.9603 - val_loss: 2.0960 - val_accuracy: 0.6678 - lr: 0.0010 - 19s/epoch - 21ms/step
Epoch 100/100
876/876 - 19s - loss: 0.1248 - accuracy: 0.9583 - val_loss: 2.1142 - val_accuracy: 0.6681 - lr: 0.0010 - 19s/epoch - 21ms/step
Epoch 1/100
176/176 - 12s - loss: 0.0932 - accuracy: 0.9706 - val_loss: 2.2120 - val_accuracy: 0.6626 - lr: 0.0010 - 12s/epoch - 66ms/step
Epoch 2/100
176/176 - 9s - loss: 0.0849 - accuracy: 0.9737 - val_loss: 2.2792 - val_accuracy: 0.6607 - lr: 0.0010 - 9s/epoch - 52ms/step
Epoch 3/100
176/176 - 9s - loss: 0.0814 - accuracy: 0.9751 - val_loss: 2.4882 - val_accuracy: 0.6448 - lr: 0.0010 - 9s/epoch - 52ms/step
Epoch 4/100
176/176 - 9s - loss: 0.0822 - accuracy: 0.9749 - val_loss: 2.4818 - val_accuracy: 0.6469 - lr: 0.0010 - 9s/epoch - 52ms/step
Epoch 5/100
176/176 - 9s - loss: 0.0816 - accuracy: 0.9751 - val_loss: 2.4901 - val_accuracy: 0.6552 - lr: 0.0010 - 9s/epoch - 52ms/step
Epoch 6/100
176/176 - 9s - loss: 0.0830 - accuracy: 0.9743 - val_loss: 2.5380 - val_accuracy: 0.6537 - lr: 0.0010 - 9s/epoch - 51ms/step
Epoch 7/100
176/176 - 9s - loss: 0.0866 - accuracy: 0.9724 - val_loss: 2.5790 - val_accuracy: 0.6454 - lr: 0.0010 - 9s/epoch - 52ms/step
Epoch 8/100
176/176 - 9s - loss: 0.0897 - accuracy: 0.9724 - val_loss: 2.6491 - val_accuracy: 0.6421 - lr: 0.0010 - 9s/epoch - 52ms/step
Epoch 9/100
176/176 - 9s - loss: 0.0854 - accuracy: 0.9729 - val_loss: 2.6778 - val_accuracy: 0.6428 - lr: 0.0010 - 9s/epoch - 52ms/step
Epoch 10/100
176/176 - 9s - loss: 0.0927 - accuracy: 0.9712 - val_loss: 2.6119 - val_accuracy: 0.6427 - lr: 0.0010 - 9s/epoch - 52ms/step
Epoch 11/100
176/176 - 9s - loss: 0.0893 - accuracy: 0.9711 - val_loss: 2.5444 - val_accuracy: 0.6493 - lr: 0.0010 - 9s/epoch - 52ms/step
Epoch 12/100
176/176 - 9s - loss: 0.0863 - accuracy: 0.9728 - val_loss: 2.6368 - val_accuracy: 0.6520 - lr: 0.0010 - 9s/epoch - 51ms/step
Epoch 13/100
176/176 - 9s - loss: 0.0862 - accuracy: 0.9740 - val_loss: 2.6010 - val_accuracy: 0.6516 - lr: 0.0010 - 9s/epoch - 51ms/step
Epoch 14/100
176/176 - 9s - loss: 0.0842 - accuracy: 0.9735 - val_loss: 2.6920 - val_accuracy: 0.6501 - lr: 0.0010 - 9s/epoch - 52ms/step
Epoch 15/100
176/176 - 9s - loss: 0.0835 - accuracy: 0.9742 - val_loss: 2.6897 - val_accuracy: 0.6507 - lr: 0.0010 - 9s/epoch - 51ms/step
Epoch 16/100
176/176 - 9s - loss: 0.0839 - accuracy: 0.9735 - val_loss: 2.6213 - val_accuracy: 0.6588 - lr: 0.0010 - 9s/epoch - 52ms/step
Epoch 17/100
176/176 - 9s - loss: 0.0831 - accuracy: 0.9744 - val_loss: 2.6512 - val_accuracy: 0.6582 - lr: 0.0010 - 9s/epoch - 52ms/step
Epoch 18/100
176/176 - 9s - loss: 0.0827 - accuracy: 0.9739 - val_loss: 2.6564 - val_accuracy: 0.6612 - lr: 0.0010 - 9s/epoch - 52ms/step
Epoch 19/100
176/176 - 9s - loss: 0.0857 - accuracy: 0.9733 - val_loss: 2.6850 - val_accuracy: 0.6500 - lr: 0.0010 - 9s/epoch - 51ms/step
Epoch 20/100
176/176 - 9s - loss: 0.0867 - accuracy: 0.9730 - val_loss: 2.9198 - val_accuracy: 0.6323 - lr: 0.0010 - 9s/epoch - 52ms/step
Epoch 21/100
176/176 - 9s - loss: 0.0881 - accuracy: 0.9723 - val_loss: 2.6307 - val_accuracy: 0.6555 - lr: 0.0010 - 9s/epoch - 52ms/step
Epoch 22/100
176/176 - 9s - loss: 0.0859 - accuracy: 0.9725 - val_loss: 2.6863 - val_accuracy: 0.6514 - lr: 0.0010 - 9s/epoch - 52ms/step
Epoch 23/100
176/176 - 9s - loss: 0.0849 - accuracy: 0.9733 - val_loss: 2.7040 - val_accuracy: 0.6501 - lr: 0.0010 - 9s/epoch - 52ms/step
Epoch 24/100
176/176 - 9s - loss: 0.0874 - accuracy: 0.9728 - val_loss: 2.8845 - val_accuracy: 0.6342 - lr: 0.0010 - 9s/epoch - 52ms/step
Epoch 25/100
176/176 - 9s - loss: 0.0836 - accuracy: 0.9735 - val_loss: 2.7968 - val_accuracy: 0.6375 - lr: 0.0010 - 9s/epoch - 52ms/step
Epoch 26/100
176/176 - 9s - loss: 0.0833 - accuracy: 0.9735 - val_loss: 2.7638 - val_accuracy: 0.6478 - lr: 0.0010 - 9s/epoch - 52ms/step
Epoch 27/100
176/176 - 9s - loss: 0.0820 - accuracy: 0.9746 - val_loss: 2.8124 - val_accuracy: 0.6434 - lr: 0.0010 - 9s/epoch - 52ms/step
Epoch 28/100
176/176 - 9s - loss: 0.0817 - accuracy: 0.9744 - val_loss: 2.7761 - val_accuracy: 0.6426 - lr: 0.0010 - 9s/epoch - 52ms/step
Epoch 29/100
176/176 - 9s - loss: 0.0820 - accuracy: 0.9745 - val_loss: 2.7808 - val_accuracy: 0.6435 - lr: 0.0010 - 9s/epoch - 50ms/step
Epoch 30/100
176/176 - 9s - loss: 0.0859 - accuracy: 0.9733 - val_loss: 2.7142 - val_accuracy: 0.6518 - lr: 0.0010 - 9s/epoch - 51ms/step
Epoch 31/100
176/176 - 11s - loss: 0.0844 - accuracy: 0.9734 - val_loss: 2.6809 - val_accuracy: 0.6558 - lr: 0.0010 - 11s/epoch - 60ms/step
Epoch 32/100
176/176 - 10s - loss: 0.0894 - accuracy: 0.9726 - val_loss: 2.7136 - val_accuracy: 0.6460 - lr: 0.0010 - 10s/epoch - 56ms/step
Epoch 33/100
176/176 - 10s - loss: 0.0844 - accuracy: 0.9732 - val_loss: 2.6649 - val_accuracy: 0.6590 - lr: 0.0010 - 10s/epoch - 55ms/step
Epoch 34/100
176/176 - 14s - loss: 0.0827 - accuracy: 0.9739 - val_loss: 2.6882 - val_accuracy: 0.6575 - lr: 0.0010 - 14s/epoch - 77ms/step
Epoch 35/100
176/176 - 15s - loss: 0.0835 - accuracy: 0.9739 - val_loss: 2.7238 - val_accuracy: 0.6486 - lr: 0.0010 - 15s/epoch - 84ms/step
Epoch 36/100
176/176 - 14s - loss: 0.0843 - accuracy: 0.9738 - val_loss: 2.9104 - val_accuracy: 0.6366 - lr: 0.0010 - 14s/epoch - 80ms/step
Epoch 37/100
176/176 - 14s - loss: 0.0870 - accuracy: 0.9728 - val_loss: 2.8105 - val_accuracy: 0.6481 - lr: 0.0010 - 14s/epoch - 80ms/step
Epoch 38/100
176/176 - 14s - loss: 0.0833 - accuracy: 0.9732 - val_loss: 2.8541 - val_accuracy: 0.6443 - lr: 0.0010 - 14s/epoch - 80ms/step
Epoch 39/100
176/176 - 14s - loss: 0.0855 - accuracy: 0.9724 - val_loss: 2.6566 - val_accuracy: 0.6632 - lr: 0.0010 - 14s/epoch - 79ms/step
Epoch 40/100
176/176 - 14s - loss: 0.0845 - accuracy: 0.9739 - val_loss: 2.8133 - val_accuracy: 0.6469 - lr: 0.0010 - 14s/epoch - 81ms/step
Epoch 41/100
176/176 - 13s - loss: 0.0834 - accuracy: 0.9732 - val_loss: 2.8466 - val_accuracy: 0.6464 - lr: 0.0010 - 13s/epoch - 73ms/step
Epoch 42/100
176/176 - 15s - loss: 0.0850 - accuracy: 0.9736 - val_loss: 2.8545 - val_accuracy: 0.6446 - lr: 0.0010 - 15s/epoch - 87ms/step
Epoch 43/100
176/176 - 15s - loss: 0.0835 - accuracy: 0.9735 - val_loss: 2.6979 - val_accuracy: 0.6584 - lr: 0.0010 - 15s/epoch - 83ms/step
Epoch 44/100
176/176 - 15s - loss: 0.0865 - accuracy: 0.9734 - val_loss: 2.7791 - val_accuracy: 0.6470 - lr: 0.0010 - 15s/epoch - 86ms/step
Epoch 45/100
176/176 - 19s - loss: 0.0836 - accuracy: 0.9734 - val_loss: 2.7380 - val_accuracy: 0.6557 - lr: 0.0010 - 19s/epoch - 110ms/step
Epoch 46/100
176/176 - 17s - loss: 0.0840 - accuracy: 0.9739 - val_loss: 2.7877 - val_accuracy: 0.6484 - lr: 0.0010 - 17s/epoch - 97ms/step
Epoch 47/100
176/176 - 20s - loss: 0.0791 - accuracy: 0.9752 - val_loss: 2.7974 - val_accuracy: 0.6471 - lr: 0.0010 - 20s/epoch - 111ms/step
Epoch 48/100
176/176 - 17s - loss: 0.0801 - accuracy: 0.9754 - val_loss: 2.7982 - val_accuracy: 0.6491 - lr: 0.0010 - 17s/epoch - 96ms/step
Epoch 49/100
176/176 - 17s - loss: 0.0826 - accuracy: 0.9741 - val_loss: 2.6830 - val_accuracy: 0.6619 - lr: 0.0010 - 17s/epoch - 95ms/step
Epoch 50/100
176/176 - 19s - loss: 0.0844 - accuracy: 0.9735 - val_loss: 2.8931 - val_accuracy: 0.6397 - lr: 0.0010 - 19s/epoch - 107ms/step
Epoch 51/100
176/176 - 19s - loss: 0.0834 - accuracy: 0.9741 - val_loss: 2.7568 - val_accuracy: 0.6506 - lr: 0.0010 - 19s/epoch - 108ms/step
Epoch 52/100
176/176 - 18s - loss: 0.0846 - accuracy: 0.9734 - val_loss: 2.8970 - val_accuracy: 0.6411 - lr: 0.0010 - 18s/epoch - 102ms/step
Epoch 53/100
176/176 - 18s - loss: 0.0876 - accuracy: 0.9725 - val_loss: 2.6119 - val_accuracy: 0.6646 - lr: 0.0010 - 18s/epoch - 105ms/step
Epoch 54/100
176/176 - 17s - loss: 0.0865 - accuracy: 0.9728 - val_loss: 2.7707 - val_accuracy: 0.6469 - lr: 0.0010 - 17s/epoch - 95ms/step
Epoch 55/100
176/176 - 18s - loss: 0.0831 - accuracy: 0.9738 - val_loss: 2.8056 - val_accuracy: 0.6505 - lr: 0.0010 - 18s/epoch - 102ms/step
Epoch 56/100
176/176 - 19s - loss: 0.0814 - accuracy: 0.9741 - val_loss: 2.8739 - val_accuracy: 0.6463 - lr: 0.0010 - 19s/epoch - 106ms/step
Epoch 57/100
176/176 - 16s - loss: 0.0803 - accuracy: 0.9748 - val_loss: 2.7946 - val_accuracy: 0.6485 - lr: 0.0010 - 16s/epoch - 89ms/step
Epoch 58/100
176/176 - 15s - loss: 0.0854 - accuracy: 0.9730 - val_loss: 2.8493 - val_accuracy: 0.6462 - lr: 0.0010 - 15s/epoch - 87ms/step
Epoch 59/100
176/176 - 17s - loss: 0.0814 - accuracy: 0.9745 - val_loss: 3.0184 - val_accuracy: 0.6307 - lr: 0.0010 - 17s/epoch - 96ms/step
Epoch 60/100
176/176 - 17s - loss: 0.0785 - accuracy: 0.9757 - val_loss: 2.8891 - val_accuracy: 0.6436 - lr: 0.0010 - 17s/epoch - 97ms/step
Epoch 61/100
176/176 - 16s - loss: 0.0795 - accuracy: 0.9747 - val_loss: 2.9689 - val_accuracy: 0.6381 - lr: 0.0010 - 16s/epoch - 89ms/step
Epoch 62/100
176/176 - 18s - loss: 0.0807 - accuracy: 0.9748 - val_loss: 2.8159 - val_accuracy: 0.6475 - lr: 0.0010 - 18s/epoch - 100ms/step
Epoch 63/100
176/176 - 20s - loss: 0.0828 - accuracy: 0.9738 - val_loss: 2.8138 - val_accuracy: 0.6489 - lr: 0.0010 - 20s/epoch - 112ms/step
Epoch 64/100
176/176 - 18s - loss: 0.0796 - accuracy: 0.9753 - val_loss: 2.8177 - val_accuracy: 0.6504 - lr: 0.0010 - 18s/epoch - 100ms/step
Epoch 65/100
176/176 - 17s - loss: 0.0810 - accuracy: 0.9748 - val_loss: 2.8637 - val_accuracy: 0.6417 - lr: 0.0010 - 17s/epoch - 98ms/step
Epoch 66/100
176/176 - 18s - loss: 0.0778 - accuracy: 0.9763 - val_loss: 2.8965 - val_accuracy: 0.6438 - lr: 0.0010 - 18s/epoch - 104ms/step
Epoch 67/100
176/176 - 18s - loss: 0.0800 - accuracy: 0.9751 - val_loss: 2.8944 - val_accuracy: 0.6506 - lr: 0.0010 - 18s/epoch - 101ms/step
Epoch 68/100
176/176 - 15s - loss: 0.0835 - accuracy: 0.9736 - val_loss: 2.8429 - val_accuracy: 0.6509 - lr: 0.0010 - 15s/epoch - 85ms/step
Epoch 69/100
176/176 - 18s - loss: 0.0809 - accuracy: 0.9744 - val_loss: 2.9563 - val_accuracy: 0.6401 - lr: 0.0010 - 18s/epoch - 101ms/step
Epoch 70/100
176/176 - 16s - loss: 0.0802 - accuracy: 0.9749 - val_loss: 2.9754 - val_accuracy: 0.6348 - lr: 0.0010 - 16s/epoch - 91ms/step
Epoch 71/100
176/176 - 15s - loss: 0.0757 - accuracy: 0.9764 - val_loss: 3.0478 - val_accuracy: 0.6257 - lr: 0.0010 - 15s/epoch - 85ms/step
Epoch 72/100
176/176 - 16s - loss: 0.0767 - accuracy: 0.9769 - val_loss: 2.8354 - val_accuracy: 0.6511 - lr: 0.0010 - 16s/epoch - 88ms/step
Epoch 73/100
176/176 - 17s - loss: 0.0786 - accuracy: 0.9757 - val_loss: 2.7934 - val_accuracy: 0.6538 - lr: 0.0010 - 17s/epoch - 96ms/step
Epoch 74/100
176/176 - 19s - loss: 0.0733 - accuracy: 0.9772 - val_loss: 2.9688 - val_accuracy: 0.6441 - lr: 0.0010 - 19s/epoch - 110ms/step
Epoch 75/100
176/176 - 16s - loss: 0.0800 - accuracy: 0.9754 - val_loss: 2.9444 - val_accuracy: 0.6458 - lr: 0.0010 - 16s/epoch - 91ms/step
Epoch 76/100
176/176 - 20s - loss: 0.0761 - accuracy: 0.9767 - val_loss: 3.1132 - val_accuracy: 0.6342 - lr: 0.0010 - 20s/epoch - 113ms/step
Epoch 77/100
176/176 - 19s - loss: 0.0755 - accuracy: 0.9767 - val_loss: 2.9657 - val_accuracy: 0.6480 - lr: 0.0010 - 19s/epoch - 110ms/step
Epoch 78/100
176/176 - 17s - loss: 0.0744 - accuracy: 0.9768 - val_loss: 2.9137 - val_accuracy: 0.6522 - lr: 0.0010 - 17s/epoch - 96ms/step
Epoch 79/100
176/176 - 17s - loss: 0.0752 - accuracy: 0.9768 - val_loss: 2.9766 - val_accuracy: 0.6443 - lr: 0.0010 - 17s/epoch - 96ms/step
Epoch 80/100
176/176 - 17s - loss: 0.0781 - accuracy: 0.9754 - val_loss: 2.9598 - val_accuracy: 0.6479 - lr: 0.0010 - 17s/epoch - 99ms/step
Epoch 81/100
176/176 - 19s - loss: 0.0796 - accuracy: 0.9756 - val_loss: 3.1067 - val_accuracy: 0.6270 - lr: 0.0010 - 19s/epoch - 111ms/step
Epoch 82/100
176/176 - 17s - loss: 0.0771 - accuracy: 0.9761 - val_loss: 2.9832 - val_accuracy: 0.6386 - lr: 0.0010 - 17s/epoch - 96ms/step
Epoch 83/100
176/176 - 20s - loss: 0.0735 - accuracy: 0.9772 - val_loss: 2.9383 - val_accuracy: 0.6441 - lr: 0.0010 - 20s/epoch - 113ms/step
Epoch 84/100
176/176 - 22s - loss: 0.0727 - accuracy: 0.9779 - val_loss: 3.0174 - val_accuracy: 0.6412 - lr: 0.0010 - 22s/epoch - 127ms/step
Epoch 85/100
176/176 - 16s - loss: 0.0776 - accuracy: 0.9761 - val_loss: 2.9440 - val_accuracy: 0.6411 - lr: 0.0010 - 16s/epoch - 90ms/step
Epoch 86/100
176/176 - 20s - loss: 0.0766 - accuracy: 0.9760 - val_loss: 2.8975 - val_accuracy: 0.6494 - lr: 0.0010 - 20s/epoch - 116ms/step
Epoch 87/100
176/176 - 17s - loss: 0.0778 - accuracy: 0.9761 - val_loss: 2.8026 - val_accuracy: 0.6619 - lr: 0.0010 - 17s/epoch - 96ms/step
Epoch 88/100
176/176 - 19s - loss: 0.0808 - accuracy: 0.9749 - val_loss: 3.1000 - val_accuracy: 0.6274 - lr: 0.0010 - 19s/epoch - 108ms/step
Epoch 89/100
176/176 - 20s - loss: 0.0779 - accuracy: 0.9762 - val_loss: 2.7500 - val_accuracy: 0.6635 - lr: 0.0010 - 20s/epoch - 111ms/step
Epoch 90/100
176/176 - 17s - loss: 0.0827 - accuracy: 0.9735 - val_loss: 2.8057 - val_accuracy: 0.6560 - lr: 0.0010 - 17s/epoch - 97ms/step
Epoch 91/100
176/176 - 19s - loss: 0.0803 - accuracy: 0.9746 - val_loss: 2.9392 - val_accuracy: 0.6464 - lr: 0.0010 - 19s/epoch - 108ms/step
Epoch 92/100
176/176 - 16s - loss: 0.0776 - accuracy: 0.9760 - val_loss: 2.7033 - val_accuracy: 0.6689 - lr: 0.0010 - 16s/epoch - 89ms/step
Epoch 93/100
176/176 - 18s - loss: 0.0779 - accuracy: 0.9758 - val_loss: 2.8718 - val_accuracy: 0.6517 - lr: 0.0010 - 18s/epoch - 103ms/step
Epoch 94/100
176/176 - 20s - loss: 0.0785 - accuracy: 0.9755 - val_loss: 2.9412 - val_accuracy: 0.6490 - lr: 0.0010 - 20s/epoch - 115ms/step
Epoch 95/100
176/176 - 22s - loss: 0.0745 - accuracy: 0.9766 - val_loss: 2.9555 - val_accuracy: 0.6495 - lr: 0.0010 - 22s/epoch - 124ms/step
Epoch 96/100
176/176 - 22s - loss: 0.0780 - accuracy: 0.9760 - val_loss: 2.9577 - val_accuracy: 0.6409 - lr: 0.0010 - 22s/epoch - 125ms/step
Epoch 97/100
176/176 - 20s - loss: 0.0779 - accuracy: 0.9758 - val_loss: 2.9826 - val_accuracy: 0.6457 - lr: 0.0010 - 20s/epoch - 111ms/step
Epoch 98/100
176/176 - 19s - loss: 0.0777 - accuracy: 0.9759 - val_loss: 3.0597 - val_accuracy: 0.6390 - lr: 0.0010 - 19s/epoch - 106ms/step
Epoch 99/100
176/176 - 17s - loss: 0.0741 - accuracy: 0.9771 - val_loss: 2.9292 - val_accuracy: 0.6517 - lr: 0.0010 - 17s/epoch - 96ms/step
Epoch 100/100
176/176 - 22s - loss: 0.0771 - accuracy: 0.9768 - val_loss: 2.8727 - val_accuracy: 0.6527 - lr: 0.0010 - 22s/epoch - 126ms/step
Epoch 1/100
36/36 - 27s - loss: 0.0709 - accuracy: 0.9783 - val_loss: 3.0106 - val_accuracy: 0.6440 - lr: 0.0010 - 27s/epoch - 755ms/step
Epoch 2/100
36/36 - 22s - loss: 0.0638 - accuracy: 0.9814 - val_loss: 2.9711 - val_accuracy: 0.6483 - lr: 0.0010 - 22s/epoch - 616ms/step
Epoch 3/100
36/36 - 18s - loss: 0.0606 - accuracy: 0.9822 - val_loss: 3.0134 - val_accuracy: 0.6459 - lr: 0.0010 - 18s/epoch - 494ms/step
Epoch 4/100
36/36 - 18s - loss: 0.0635 - accuracy: 0.9808 - val_loss: 3.0655 - val_accuracy: 0.6432 - lr: 0.0010 - 18s/epoch - 506ms/step
Epoch 5/100
36/36 - 13s - loss: 0.0672 - accuracy: 0.9797 - val_loss: 2.9418 - val_accuracy: 0.6528 - lr: 0.0010 - 13s/epoch - 348ms/step
Epoch 6/100
36/36 - 19s - loss: 0.0623 - accuracy: 0.9813 - val_loss: 3.0359 - val_accuracy: 0.6422 - lr: 0.0010 - 19s/epoch - 532ms/step
Epoch 7/100
36/36 - 25s - loss: 0.0643 - accuracy: 0.9806 - val_loss: 3.0480 - val_accuracy: 0.6421 - lr: 0.0010 - 25s/epoch - 684ms/step
Epoch 8/100
36/36 - 29s - loss: 0.0604 - accuracy: 0.9820 - val_loss: 3.0410 - val_accuracy: 0.6443 - lr: 0.0010 - 29s/epoch - 798ms/step
Epoch 9/100
36/36 - 24s - loss: 0.0615 - accuracy: 0.9818 - val_loss: 3.1438 - val_accuracy: 0.6355 - lr: 0.0010 - 24s/epoch - 655ms/step
Epoch 10/100
36/36 - 22s - loss: 0.0607 - accuracy: 0.9822 - val_loss: 3.1210 - val_accuracy: 0.6383 - lr: 0.0010 - 22s/epoch - 599ms/step
Epoch 11/100
36/36 - 18s - loss: 0.0621 - accuracy: 0.9815 - val_loss: 3.1180 - val_accuracy: 0.6417 - lr: 0.0010 - 18s/epoch - 487ms/step
Epoch 12/100
36/36 - 19s - loss: 0.0644 - accuracy: 0.9807 - val_loss: 3.1576 - val_accuracy: 0.6381 - lr: 0.0010 - 19s/epoch - 529ms/step
Epoch 13/100
36/36 - 19s - loss: 0.0608 - accuracy: 0.9818 - val_loss: 3.0835 - val_accuracy: 0.6456 - lr: 0.0010 - 19s/epoch - 532ms/step
Epoch 14/100
36/36 - 22s - loss: 0.0591 - accuracy: 0.9824 - val_loss: 3.1840 - val_accuracy: 0.6362 - lr: 0.0010 - 22s/epoch - 617ms/step
Epoch 15/100
36/36 - 17s - loss: 0.0588 - accuracy: 0.9824 - val_loss: 3.1734 - val_accuracy: 0.6373 - lr: 0.0010 - 17s/epoch - 463ms/step
Epoch 16/100
36/36 - 15s - loss: 0.0593 - accuracy: 0.9827 - val_loss: 3.1814 - val_accuracy: 0.6374 - lr: 0.0010 - 15s/epoch - 416ms/step
Epoch 17/100
36/36 - 22s - loss: 0.0597 - accuracy: 0.9825 - val_loss: 3.2066 - val_accuracy: 0.6368 - lr: 0.0010 - 22s/epoch - 609ms/step
Epoch 18/100
36/36 - 25s - loss: 0.0606 - accuracy: 0.9821 - val_loss: 3.1562 - val_accuracy: 0.6379 - lr: 0.0010 - 25s/epoch - 701ms/step
Epoch 19/100
36/36 - 21s - loss: 0.0593 - accuracy: 0.9821 - val_loss: 3.2105 - val_accuracy: 0.6345 - lr: 0.0010 - 21s/epoch - 591ms/step
Epoch 20/100
36/36 - 16s - loss: 0.0635 - accuracy: 0.9804 - val_loss: 3.1207 - val_accuracy: 0.6405 - lr: 0.0010 - 16s/epoch - 452ms/step
Epoch 21/100
36/36 - 19s - loss: 0.0601 - accuracy: 0.9823 - val_loss: 3.2240 - val_accuracy: 0.6325 - lr: 0.0010 - 19s/epoch - 516ms/step
Epoch 22/100
36/36 - 24s - loss: 0.0573 - accuracy: 0.9829 - val_loss: 3.2218 - val_accuracy: 0.6352 - lr: 0.0010 - 24s/epoch - 656ms/step
Epoch 23/100
36/36 - 16s - loss: 0.0580 - accuracy: 0.9828 - val_loss: 3.2320 - val_accuracy: 0.6351 - lr: 0.0010 - 16s/epoch - 439ms/step
Epoch 24/100
36/36 - 16s - loss: 0.0586 - accuracy: 0.9823 - val_loss: 3.2012 - val_accuracy: 0.6379 - lr: 0.0010 - 16s/epoch - 454ms/step
Epoch 25/100
36/36 - 24s - loss: 0.0610 - accuracy: 0.9818 - val_loss: 3.1921 - val_accuracy: 0.6394 - lr: 0.0010 - 24s/epoch - 658ms/step
Epoch 26/100
36/36 - 18s - loss: 0.0637 - accuracy: 0.9809 - val_loss: 3.2294 - val_accuracy: 0.6368 - lr: 0.0010 - 18s/epoch - 507ms/step
Epoch 27/100
36/36 - 19s - loss: 0.0587 - accuracy: 0.9826 - val_loss: 3.1991 - val_accuracy: 0.6391 - lr: 0.0010 - 19s/epoch - 526ms/step
Epoch 28/100
36/36 - 22s - loss: 0.0624 - accuracy: 0.9807 - val_loss: 3.2768 - val_accuracy: 0.6356 - lr: 0.0010 - 22s/epoch - 601ms/step
Epoch 29/100
36/36 - 17s - loss: 0.0590 - accuracy: 0.9822 - val_loss: 3.2912 - val_accuracy: 0.6342 - lr: 0.0010 - 17s/epoch - 485ms/step
Epoch 30/100
36/36 - 20s - loss: 0.0583 - accuracy: 0.9823 - val_loss: 3.2934 - val_accuracy: 0.6350 - lr: 0.0010 - 20s/epoch - 566ms/step
Epoch 31/100
36/36 - 21s - loss: 0.0584 - accuracy: 0.9828 - val_loss: 3.2475 - val_accuracy: 0.6365 - lr: 0.0010 - 21s/epoch - 582ms/step
Epoch 32/100
36/36 - 19s - loss: 0.0582 - accuracy: 0.9826 - val_loss: 3.2856 - val_accuracy: 0.6346 - lr: 0.0010 - 19s/epoch - 538ms/step
Epoch 33/100
36/36 - 15s - loss: 0.0571 - accuracy: 0.9832 - val_loss: 3.3218 - val_accuracy: 0.6321 - lr: 0.0010 - 15s/epoch - 422ms/step
Epoch 34/100
36/36 - 23s - loss: 0.0588 - accuracy: 0.9827 - val_loss: 3.2559 - val_accuracy: 0.6382 - lr: 0.0010 - 23s/epoch - 631ms/step
Epoch 35/100
36/36 - 31s - loss: 0.0589 - accuracy: 0.9827 - val_loss: 3.3043 - val_accuracy: 0.6359 - lr: 0.0010 - 31s/epoch - 854ms/step
Epoch 36/100
36/36 - 16s - loss: 0.0593 - accuracy: 0.9822 - val_loss: 3.3164 - val_accuracy: 0.6327 - lr: 0.0010 - 16s/epoch - 438ms/step
Epoch 37/100
36/36 - 14s - loss: 0.0583 - accuracy: 0.9829 - val_loss: 3.2666 - val_accuracy: 0.6396 - lr: 0.0010 - 14s/epoch - 399ms/step
Epoch 38/100
36/36 - 12s - loss: 0.0569 - accuracy: 0.9835 - val_loss: 3.3404 - val_accuracy: 0.6327 - lr: 0.0010 - 12s/epoch - 337ms/step
Epoch 39/100
36/36 - 14s - loss: 0.0564 - accuracy: 0.9830 - val_loss: 3.2842 - val_accuracy: 0.6400 - lr: 0.0010 - 14s/epoch - 397ms/step
Epoch 40/100
36/36 - 13s - loss: 0.0562 - accuracy: 0.9834 - val_loss: 3.3384 - val_accuracy: 0.6359 - lr: 0.0010 - 13s/epoch - 371ms/step
Epoch 41/100
36/36 - 13s - loss: 0.0593 - accuracy: 0.9831 - val_loss: 3.3100 - val_accuracy: 0.6364 - lr: 0.0010 - 13s/epoch - 364ms/step
Epoch 42/100
36/36 - 13s - loss: 0.0579 - accuracy: 0.9826 - val_loss: 3.1969 - val_accuracy: 0.6475 - lr: 0.0010 - 13s/epoch - 374ms/step
Epoch 43/100
36/36 - 14s - loss: 0.0569 - accuracy: 0.9832 - val_loss: 3.2778 - val_accuracy: 0.6391 - lr: 0.0010 - 14s/epoch - 397ms/step
Epoch 44/100
36/36 - 14s - loss: 0.0577 - accuracy: 0.9829 - val_loss: 3.2603 - val_accuracy: 0.6407 - lr: 0.0010 - 14s/epoch - 400ms/step
Epoch 45/100
36/36 - 16s - loss: 0.0574 - accuracy: 0.9831 - val_loss: 3.3462 - val_accuracy: 0.6323 - lr: 0.0010 - 16s/epoch - 441ms/step
Epoch 46/100
36/36 - 15s - loss: 0.0611 - accuracy: 0.9818 - val_loss: 3.2667 - val_accuracy: 0.6393 - lr: 0.0010 - 15s/epoch - 415ms/step
Epoch 47/100
36/36 - 15s - loss: 0.0602 - accuracy: 0.9819 - val_loss: 3.3646 - val_accuracy: 0.6334 - lr: 0.0010 - 15s/epoch - 411ms/step
Epoch 48/100
36/36 - 17s - loss: 0.0597 - accuracy: 0.9819 - val_loss: 3.4521 - val_accuracy: 0.6254 - lr: 0.0010 - 17s/epoch - 482ms/step
Epoch 49/100
36/36 - 14s - loss: 0.0587 - accuracy: 0.9824 - val_loss: 3.3793 - val_accuracy: 0.6321 - lr: 0.0010 - 14s/epoch - 387ms/step
Epoch 50/100
36/36 - 14s - loss: 0.0603 - accuracy: 0.9822 - val_loss: 3.3433 - val_accuracy: 0.6360 - lr: 0.0010 - 14s/epoch - 394ms/step
Epoch 51/100
36/36 - 15s - loss: 0.0595 - accuracy: 0.9820 - val_loss: 3.2753 - val_accuracy: 0.6417 - lr: 0.0010 - 15s/epoch - 404ms/step
Epoch 52/100
36/36 - 15s - loss: 0.0572 - accuracy: 0.9825 - val_loss: 3.4123 - val_accuracy: 0.6297 - lr: 0.0010 - 15s/epoch - 418ms/step
Epoch 53/100
36/36 - 14s - loss: 0.0590 - accuracy: 0.9824 - val_loss: 3.3350 - val_accuracy: 0.6361 - lr: 0.0010 - 14s/epoch - 393ms/step
Epoch 54/100
36/36 - 14s - loss: 0.0612 - accuracy: 0.9817 - val_loss: 3.3229 - val_accuracy: 0.6393 - lr: 0.0010 - 14s/epoch - 389ms/step
Epoch 55/100
36/36 - 15s - loss: 0.0604 - accuracy: 0.9818 - val_loss: 3.3129 - val_accuracy: 0.6386 - lr: 0.0010 - 15s/epoch - 421ms/step
Epoch 56/100
36/36 - 15s - loss: 0.0587 - accuracy: 0.9827 - val_loss: 3.3543 - val_accuracy: 0.6370 - lr: 0.0010 - 15s/epoch - 421ms/step
Epoch 57/100
36/36 - 11s - loss: 0.0584 - accuracy: 0.9829 - val_loss: 3.3214 - val_accuracy: 0.6419 - lr: 0.0010 - 11s/epoch - 318ms/step
Epoch 58/100
36/36 - 15s - loss: 0.0607 - accuracy: 0.9817 - val_loss: 3.3642 - val_accuracy: 0.6353 - lr: 0.0010 - 15s/epoch - 430ms/step
Epoch 59/100
36/36 - 15s - loss: 0.0574 - accuracy: 0.9825 - val_loss: 3.4200 - val_accuracy: 0.6295 - lr: 0.0010 - 15s/epoch - 408ms/step
Epoch 60/100
36/36 - 14s - loss: 0.0608 - accuracy: 0.9821 - val_loss: 3.2660 - val_accuracy: 0.6426 - lr: 0.0010 - 14s/epoch - 398ms/step
Epoch 61/100
36/36 - 14s - loss: 0.0560 - accuracy: 0.9832 - val_loss: 3.3053 - val_accuracy: 0.6431 - lr: 0.0010 - 14s/epoch - 391ms/step
Epoch 62/100
36/36 - 15s - loss: 0.0572 - accuracy: 0.9827 - val_loss: 3.3889 - val_accuracy: 0.6370 - lr: 0.0010 - 15s/epoch - 410ms/step
Epoch 63/100
36/36 - 15s - loss: 0.0566 - accuracy: 0.9830 - val_loss: 3.3551 - val_accuracy: 0.6417 - lr: 0.0010 - 15s/epoch - 418ms/step
Epoch 64/100
36/36 - 16s - loss: 0.0584 - accuracy: 0.9826 - val_loss: 3.4271 - val_accuracy: 0.6348 - lr: 0.0010 - 16s/epoch - 457ms/step
Epoch 65/100
36/36 - 15s - loss: 0.0611 - accuracy: 0.9814 - val_loss: 3.4238 - val_accuracy: 0.6321 - lr: 0.0010 - 15s/epoch - 423ms/step
Epoch 66/100
36/36 - 15s - loss: 0.0578 - accuracy: 0.9831 - val_loss: 3.2873 - val_accuracy: 0.6435 - lr: 0.0010 - 15s/epoch - 411ms/step
Epoch 67/100
36/36 - 13s - loss: 0.0567 - accuracy: 0.9832 - val_loss: 3.3350 - val_accuracy: 0.6400 - lr: 0.0010 - 13s/epoch - 354ms/step
Epoch 68/100
36/36 - 14s - loss: 0.0587 - accuracy: 0.9826 - val_loss: 3.4743 - val_accuracy: 0.6316 - lr: 0.0010 - 14s/epoch - 397ms/step
Epoch 69/100
36/36 - 14s - loss: 0.0572 - accuracy: 0.9826 - val_loss: 3.4082 - val_accuracy: 0.6343 - lr: 0.0010 - 14s/epoch - 379ms/step
Epoch 70/100
36/36 - 15s - loss: 0.0587 - accuracy: 0.9825 - val_loss: 3.3756 - val_accuracy: 0.6374 - lr: 0.0010 - 15s/epoch - 420ms/step
Epoch 71/100
36/36 - 16s - loss: 0.0592 - accuracy: 0.9827 - val_loss: 3.4561 - val_accuracy: 0.6330 - lr: 0.0010 - 16s/epoch - 434ms/step
Epoch 72/100
36/36 - 15s - loss: 0.0546 - accuracy: 0.9837 - val_loss: 3.3943 - val_accuracy: 0.6383 - lr: 0.0010 - 15s/epoch - 424ms/step
Epoch 73/100
36/36 - 14s - loss: 0.0588 - accuracy: 0.9823 - val_loss: 3.4432 - val_accuracy: 0.6346 - lr: 0.0010 - 14s/epoch - 394ms/step
Epoch 74/100
36/36 - 13s - loss: 0.0555 - accuracy: 0.9836 - val_loss: 3.3931 - val_accuracy: 0.6379 - lr: 0.0010 - 13s/epoch - 369ms/step
Epoch 75/100
36/36 - 14s - loss: 0.0560 - accuracy: 0.9832 - val_loss: 3.4383 - val_accuracy: 0.6356 - lr: 0.0010 - 14s/epoch - 385ms/step
Epoch 76/100
36/36 - 16s - loss: 0.0561 - accuracy: 0.9831 - val_loss: 3.4399 - val_accuracy: 0.6350 - lr: 0.0010 - 16s/epoch - 457ms/step
Epoch 77/100
36/36 - 18s - loss: 0.0563 - accuracy: 0.9832 - val_loss: 3.4145 - val_accuracy: 0.6361 - lr: 0.0010 - 18s/epoch - 509ms/step
Epoch 78/100
36/36 - 17s - loss: 0.0550 - accuracy: 0.9838 - val_loss: 3.5168 - val_accuracy: 0.6309 - lr: 0.0010 - 17s/epoch - 465ms/step
Epoch 79/100
36/36 - 18s - loss: 0.0601 - accuracy: 0.9828 - val_loss: 3.4421 - val_accuracy: 0.6350 - lr: 0.0010 - 18s/epoch - 503ms/step
Epoch 80/100
36/36 - 17s - loss: 0.0547 - accuracy: 0.9840 - val_loss: 3.4558 - val_accuracy: 0.6341 - lr: 0.0010 - 17s/epoch - 480ms/step
Epoch 81/100
36/36 - 15s - loss: 0.0560 - accuracy: 0.9832 - val_loss: 3.4231 - val_accuracy: 0.6379 - lr: 0.0010 - 15s/epoch - 418ms/step
Epoch 82/100
36/36 - 16s - loss: 0.0557 - accuracy: 0.9834 - val_loss: 3.4580 - val_accuracy: 0.6335 - lr: 0.0010 - 16s/epoch - 440ms/step
Epoch 83/100
36/36 - 16s - loss: 0.0560 - accuracy: 0.9833 - val_loss: 3.4336 - val_accuracy: 0.6385 - lr: 0.0010 - 16s/epoch - 444ms/step
Epoch 84/100
36/36 - 17s - loss: 0.0545 - accuracy: 0.9836 - val_loss: 3.4841 - val_accuracy: 0.6329 - lr: 0.0010 - 17s/epoch - 483ms/step
Epoch 85/100
36/36 - 18s - loss: 0.0561 - accuracy: 0.9830 - val_loss: 3.4882 - val_accuracy: 0.6321 - lr: 0.0010 - 18s/epoch - 491ms/step
Epoch 86/100
36/36 - 12s - loss: 0.0564 - accuracy: 0.9836 - val_loss: 3.4190 - val_accuracy: 0.6388 - lr: 0.0010 - 12s/epoch - 323ms/step
Epoch 87/100
36/36 - 12s - loss: 0.0544 - accuracy: 0.9838 - val_loss: 3.5063 - val_accuracy: 0.6332 - lr: 0.0010 - 12s/epoch - 322ms/step
Epoch 88/100
36/36 - 13s - loss: 0.0587 - accuracy: 0.9825 - val_loss: 3.4787 - val_accuracy: 0.6368 - lr: 0.0010 - 13s/epoch - 363ms/step
Epoch 89/100
36/36 - 15s - loss: 0.0584 - accuracy: 0.9821 - val_loss: 3.4670 - val_accuracy: 0.6350 - lr: 0.0010 - 15s/epoch - 422ms/step
Epoch 90/100
36/36 - 13s - loss: 0.0578 - accuracy: 0.9832 - val_loss: 3.4356 - val_accuracy: 0.6360 - lr: 0.0010 - 13s/epoch - 372ms/step
Epoch 91/100
36/36 - 13s - loss: 0.0569 - accuracy: 0.9831 - val_loss: 3.4787 - val_accuracy: 0.6329 - lr: 0.0010 - 13s/epoch - 365ms/step
Epoch 92/100
36/36 - 12s - loss: 0.0605 - accuracy: 0.9819 - val_loss: 3.4307 - val_accuracy: 0.6356 - lr: 0.0010 - 12s/epoch - 347ms/step
Epoch 93/100
36/36 - 11s - loss: 0.0578 - accuracy: 0.9828 - val_loss: 3.4709 - val_accuracy: 0.6346 - lr: 0.0010 - 11s/epoch - 310ms/step
Epoch 94/100
36/36 - 13s - loss: 0.0558 - accuracy: 0.9832 - val_loss: 3.4900 - val_accuracy: 0.6319 - lr: 0.0010 - 13s/epoch - 350ms/step
Epoch 95/100
36/36 - 12s - loss: 0.0552 - accuracy: 0.9833 - val_loss: 3.4042 - val_accuracy: 0.6394 - lr: 0.0010 - 12s/epoch - 342ms/step
Epoch 96/100
36/36 - 11s - loss: 0.0608 - accuracy: 0.9818 - val_loss: 3.4523 - val_accuracy: 0.6362 - lr: 0.0010 - 11s/epoch - 308ms/step
Epoch 97/100
36/36 - 10s - loss: 0.0580 - accuracy: 0.9824 - val_loss: 3.4301 - val_accuracy: 0.6367 - lr: 0.0010 - 10s/epoch - 281ms/step
Epoch 98/100
36/36 - 11s - loss: 0.0573 - accuracy: 0.9828 - val_loss: 3.4106 - val_accuracy: 0.6401 - lr: 0.0010 - 11s/epoch - 308ms/step
Epoch 99/100
36/36 - 13s - loss: 0.0615 - accuracy: 0.9817 - val_loss: 3.4706 - val_accuracy: 0.6356 - lr: 0.0010 - 13s/epoch - 365ms/step
Epoch 100/100
36/36 - 12s - loss: 0.0564 - accuracy: 0.9833 - val_loss: 3.5404 - val_accuracy: 0.6295 - lr: 0.0010 - 12s/epoch - 339ms/step
