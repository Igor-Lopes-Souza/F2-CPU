Epoch 1/25
4378/4378 - 79s - loss: 1.2359 - accuracy: 0.4751 - val_loss: 1.1825 - val_accuracy: 0.4930 - lr: 0.0010 - 79s/epoch - 18ms/step
Epoch 2/25
4378/4378 - 69s - loss: 0.9596 - accuracy: 0.6278 - val_loss: 1.0019 - val_accuracy: 0.5938 - lr: 0.0010 - 69s/epoch - 16ms/step
Epoch 3/25
4378/4378 - 69s - loss: 0.8963 - accuracy: 0.6556 - val_loss: 0.7961 - val_accuracy: 0.6616 - lr: 0.0010 - 69s/epoch - 16ms/step
Epoch 4/25
4378/4378 - 69s - loss: 0.8651 - accuracy: 0.6687 - val_loss: 0.8724 - val_accuracy: 0.6312 - lr: 0.0010 - 69s/epoch - 16ms/step
Epoch 5/25
4378/4378 - 70s - loss: 0.8445 - accuracy: 0.6779 - val_loss: 0.8247 - val_accuracy: 0.7015 - lr: 0.0010 - 70s/epoch - 16ms/step
Epoch 6/25
4378/4378 - 69s - loss: 0.8286 - accuracy: 0.6845 - val_loss: 0.9162 - val_accuracy: 0.6162 - lr: 0.0010 - 69s/epoch - 16ms/step
Epoch 7/25
4378/4378 - 69s - loss: 0.8157 - accuracy: 0.6903 - val_loss: 0.8828 - val_accuracy: 0.6561 - lr: 0.0010 - 69s/epoch - 16ms/step
Epoch 8/25
4378/4378 - 69s - loss: 0.8048 - accuracy: 0.6939 - val_loss: 0.7821 - val_accuracy: 0.7055 - lr: 0.0010 - 69s/epoch - 16ms/step
Epoch 9/25
4378/4378 - 69s - loss: 0.7942 - accuracy: 0.6991 - val_loss: 0.8627 - val_accuracy: 0.6862 - lr: 0.0010 - 69s/epoch - 16ms/step
Epoch 10/25
4378/4378 - 69s - loss: 0.7873 - accuracy: 0.7027 - val_loss: 0.8840 - val_accuracy: 0.6636 - lr: 0.0010 - 69s/epoch - 16ms/step
Epoch 11/25
4378/4378 - 69s - loss: 0.7797 - accuracy: 0.7054 - val_loss: 0.8122 - val_accuracy: 0.6860 - lr: 0.0010 - 69s/epoch - 16ms/step
Epoch 12/25
4378/4378 - 69s - loss: 0.7735 - accuracy: 0.7086 - val_loss: 0.7399 - val_accuracy: 0.7224 - lr: 0.0010 - 69s/epoch - 16ms/step
Epoch 13/25
4378/4378 - 69s - loss: 0.7662 - accuracy: 0.7112 - val_loss: 0.8494 - val_accuracy: 0.6666 - lr: 0.0010 - 69s/epoch - 16ms/step
Epoch 14/25
4378/4378 - 69s - loss: 0.7624 - accuracy: 0.7118 - val_loss: 0.8637 - val_accuracy: 0.6686 - lr: 0.0010 - 69s/epoch - 16ms/step
Epoch 15/25
4378/4378 - 69s - loss: 0.7573 - accuracy: 0.7160 - val_loss: 0.8299 - val_accuracy: 0.6881 - lr: 0.0010 - 69s/epoch - 16ms/step
Epoch 16/25
4378/4378 - 69s - loss: 0.7518 - accuracy: 0.7167 - val_loss: 0.7873 - val_accuracy: 0.7209 - lr: 0.0010 - 69s/epoch - 16ms/step
Epoch 17/25
4378/4378 - 69s - loss: 0.7461 - accuracy: 0.7189 - val_loss: 0.7197 - val_accuracy: 0.7210 - lr: 0.0010 - 69s/epoch - 16ms/step
Epoch 18/25
4378/4378 - 69s - loss: 0.7413 - accuracy: 0.7220 - val_loss: 0.7478 - val_accuracy: 0.7276 - lr: 0.0010 - 69s/epoch - 16ms/step
Epoch 19/25
4378/4378 - 69s - loss: 0.7383 - accuracy: 0.7216 - val_loss: 0.7496 - val_accuracy: 0.7266 - lr: 0.0010 - 69s/epoch - 16ms/step
Epoch 20/25
4378/4378 - 69s - loss: 0.7317 - accuracy: 0.7249 - val_loss: 0.7231 - val_accuracy: 0.7451 - lr: 0.0010 - 69s/epoch - 16ms/step
Epoch 21/25
4378/4378 - 69s - loss: 0.7276 - accuracy: 0.7262 - val_loss: 0.7426 - val_accuracy: 0.7453 - lr: 0.0010 - 69s/epoch - 16ms/step
Epoch 22/25
4378/4378 - 69s - loss: 0.7235 - accuracy: 0.7273 - val_loss: 0.7912 - val_accuracy: 0.6935 - lr: 0.0010 - 69s/epoch - 16ms/step
Epoch 23/25
4378/4378 - 69s - loss: 0.7206 - accuracy: 0.7297 - val_loss: 0.7739 - val_accuracy: 0.7156 - lr: 0.0010 - 69s/epoch - 16ms/step
Epoch 24/25
4378/4378 - 69s - loss: 0.7155 - accuracy: 0.7312 - val_loss: 0.6925 - val_accuracy: 0.7472 - lr: 0.0010 - 69s/epoch - 16ms/step
Epoch 25/25
4378/4378 - 69s - loss: 0.7111 - accuracy: 0.7322 - val_loss: 0.7274 - val_accuracy: 0.7443 - lr: 0.0010 - 69s/epoch - 16ms/step
Epoch 1/25
876/876 - 21s - loss: 0.6831 - accuracy: 0.7434 - val_loss: 0.6572 - val_accuracy: 0.7838 - lr: 0.0010 - 21s/epoch - 23ms/step
Epoch 2/25
876/876 - 18s - loss: 0.6843 - accuracy: 0.7439 - val_loss: 0.6782 - val_accuracy: 0.7633 - lr: 0.0010 - 18s/epoch - 20ms/step
Epoch 3/25
876/876 - 17s - loss: 0.6817 - accuracy: 0.7437 - val_loss: 0.6735 - val_accuracy: 0.7559 - lr: 0.0010 - 17s/epoch - 20ms/step
Epoch 4/25
876/876 - 17s - loss: 0.6775 - accuracy: 0.7459 - val_loss: 0.6747 - val_accuracy: 0.7719 - lr: 0.0010 - 17s/epoch - 20ms/step
Epoch 5/25
876/876 - 17s - loss: 0.6751 - accuracy: 0.7463 - val_loss: 0.6823 - val_accuracy: 0.7545 - lr: 0.0010 - 17s/epoch - 20ms/step
Epoch 6/25
876/876 - 17s - loss: 0.6721 - accuracy: 0.7476 - val_loss: 0.6536 - val_accuracy: 0.7757 - lr: 0.0010 - 17s/epoch - 20ms/step
Epoch 7/25
876/876 - 17s - loss: 0.6675 - accuracy: 0.7497 - val_loss: 0.6255 - val_accuracy: 0.7866 - lr: 0.0010 - 17s/epoch - 20ms/step
Epoch 8/25
876/876 - 17s - loss: 0.6629 - accuracy: 0.7511 - val_loss: 0.7032 - val_accuracy: 0.7429 - lr: 0.0010 - 17s/epoch - 20ms/step
Epoch 9/25
876/876 - 17s - loss: 0.6620 - accuracy: 0.7502 - val_loss: 0.6906 - val_accuracy: 0.7589 - lr: 0.0010 - 17s/epoch - 20ms/step
Epoch 10/25
876/876 - 17s - loss: 0.6578 - accuracy: 0.7535 - val_loss: 0.6643 - val_accuracy: 0.7561 - lr: 0.0010 - 17s/epoch - 20ms/step
Epoch 11/25
876/876 - 17s - loss: 0.6545 - accuracy: 0.7541 - val_loss: 0.6824 - val_accuracy: 0.7524 - lr: 0.0010 - 17s/epoch - 20ms/step
Epoch 12/25
876/876 - 17s - loss: 0.6500 - accuracy: 0.7556 - val_loss: 0.6661 - val_accuracy: 0.7592 - lr: 0.0010 - 17s/epoch - 20ms/step
Epoch 13/25
876/876 - 17s - loss: 0.6475 - accuracy: 0.7580 - val_loss: 0.6630 - val_accuracy: 0.7582 - lr: 0.0010 - 17s/epoch - 20ms/step
Epoch 14/25
876/876 - 17s - loss: 0.6443 - accuracy: 0.7597 - val_loss: 0.6459 - val_accuracy: 0.7718 - lr: 0.0010 - 17s/epoch - 20ms/step
Epoch 15/25
876/876 - 17s - loss: 0.6400 - accuracy: 0.7597 - val_loss: 0.7210 - val_accuracy: 0.7353 - lr: 0.0010 - 17s/epoch - 20ms/step
Epoch 16/25
876/876 - 18s - loss: 0.6393 - accuracy: 0.7607 - val_loss: 0.6478 - val_accuracy: 0.7580 - lr: 0.0010 - 18s/epoch - 20ms/step
Epoch 17/25
876/876 - 17s - loss: 0.6345 - accuracy: 0.7619 - val_loss: 0.6143 - val_accuracy: 0.7794 - lr: 0.0010 - 17s/epoch - 20ms/step
Epoch 18/25
876/876 - 17s - loss: 0.6328 - accuracy: 0.7635 - val_loss: 0.6218 - val_accuracy: 0.7850 - lr: 0.0010 - 17s/epoch - 20ms/step
Epoch 19/25
876/876 - 17s - loss: 0.6278 - accuracy: 0.7641 - val_loss: 0.6636 - val_accuracy: 0.7663 - lr: 0.0010 - 17s/epoch - 20ms/step
Epoch 20/25
876/876 - 17s - loss: 0.6249 - accuracy: 0.7661 - val_loss: 0.6017 - val_accuracy: 0.7886 - lr: 0.0010 - 17s/epoch - 20ms/step
Epoch 21/25
876/876 - 17s - loss: 0.6209 - accuracy: 0.7692 - val_loss: 0.6163 - val_accuracy: 0.7827 - lr: 0.0010 - 17s/epoch - 20ms/step
Epoch 22/25
876/876 - 17s - loss: 0.6177 - accuracy: 0.7685 - val_loss: 0.5966 - val_accuracy: 0.7908 - lr: 0.0010 - 17s/epoch - 20ms/step
Epoch 23/25
876/876 - 17s - loss: 0.6135 - accuracy: 0.7705 - val_loss: 0.7379 - val_accuracy: 0.7119 - lr: 0.0010 - 17s/epoch - 20ms/step
Epoch 24/25
876/876 - 17s - loss: 0.6096 - accuracy: 0.7711 - val_loss: 0.6564 - val_accuracy: 0.7671 - lr: 0.0010 - 17s/epoch - 20ms/step
Epoch 25/25
876/876 - 17s - loss: 0.6061 - accuracy: 0.7739 - val_loss: 0.6779 - val_accuracy: 0.7359 - lr: 0.0010 - 17s/epoch - 20ms/step
Epoch 1/25
176/176 - 12s - loss: 0.5789 - accuracy: 0.7838 - val_loss: 0.6167 - val_accuracy: 0.7731 - lr: 0.0010 - 12s/epoch - 66ms/step
Epoch 2/25
176/176 - 9s - loss: 0.5721 - accuracy: 0.7868 - val_loss: 0.6083 - val_accuracy: 0.7791 - lr: 0.0010 - 9s/epoch - 50ms/step
Epoch 3/25
176/176 - 9s - loss: 0.5716 - accuracy: 0.7876 - val_loss: 0.5966 - val_accuracy: 0.7807 - lr: 0.0010 - 9s/epoch - 50ms/step
Epoch 4/25
176/176 - 9s - loss: 0.5705 - accuracy: 0.7881 - val_loss: 0.5821 - val_accuracy: 0.8021 - lr: 0.0010 - 9s/epoch - 50ms/step
Epoch 5/25
176/176 - 9s - loss: 0.5724 - accuracy: 0.7872 - val_loss: 0.6188 - val_accuracy: 0.7685 - lr: 0.0010 - 9s/epoch - 50ms/step
Epoch 6/25
176/176 - 9s - loss: 0.5704 - accuracy: 0.7878 - val_loss: 0.5854 - val_accuracy: 0.7978 - lr: 0.0010 - 9s/epoch - 50ms/step
Epoch 7/25
176/176 - 9s - loss: 0.5680 - accuracy: 0.7897 - val_loss: 0.6066 - val_accuracy: 0.7715 - lr: 0.0010 - 9s/epoch - 50ms/step
Epoch 8/25
176/176 - 9s - loss: 0.5661 - accuracy: 0.7899 - val_loss: 0.6338 - val_accuracy: 0.7625 - lr: 0.0010 - 9s/epoch - 50ms/step
Epoch 9/25
176/176 - 9s - loss: 0.5630 - accuracy: 0.7909 - val_loss: 0.5935 - val_accuracy: 0.7854 - lr: 0.0010 - 9s/epoch - 50ms/step
Epoch 10/25
176/176 - 9s - loss: 0.5599 - accuracy: 0.7914 - val_loss: 0.5918 - val_accuracy: 0.7848 - lr: 0.0010 - 9s/epoch - 50ms/step
Epoch 11/25
176/176 - 9s - loss: 0.5587 - accuracy: 0.7922 - val_loss: 0.6320 - val_accuracy: 0.7658 - lr: 0.0010 - 9s/epoch - 50ms/step
Epoch 12/25
176/176 - 9s - loss: 0.5562 - accuracy: 0.7932 - val_loss: 0.6139 - val_accuracy: 0.7796 - lr: 0.0010 - 9s/epoch - 50ms/step
Epoch 13/25
176/176 - 9s - loss: 0.5552 - accuracy: 0.7938 - val_loss: 0.6297 - val_accuracy: 0.7580 - lr: 0.0010 - 9s/epoch - 50ms/step
Epoch 14/25
176/176 - 9s - loss: 0.5530 - accuracy: 0.7945 - val_loss: 0.6078 - val_accuracy: 0.7777 - lr: 0.0010 - 9s/epoch - 50ms/step
Epoch 15/25
176/176 - 9s - loss: 0.5482 - accuracy: 0.7959 - val_loss: 0.6234 - val_accuracy: 0.7723 - lr: 0.0010 - 9s/epoch - 50ms/step
Epoch 16/25
176/176 - 9s - loss: 0.5474 - accuracy: 0.7961 - val_loss: 0.6392 - val_accuracy: 0.7520 - lr: 0.0010 - 9s/epoch - 50ms/step
Epoch 17/25
176/176 - 9s - loss: 0.5461 - accuracy: 0.7968 - val_loss: 0.6259 - val_accuracy: 0.7652 - lr: 0.0010 - 9s/epoch - 50ms/step
Epoch 18/25
176/176 - 9s - loss: 0.5453 - accuracy: 0.7977 - val_loss: 0.6083 - val_accuracy: 0.7746 - lr: 0.0010 - 9s/epoch - 50ms/step
Epoch 19/25
176/176 - 9s - loss: 0.5441 - accuracy: 0.7981 - val_loss: 0.6244 - val_accuracy: 0.7663 - lr: 0.0010 - 9s/epoch - 50ms/step
Epoch 20/25
176/176 - 9s - loss: 0.5418 - accuracy: 0.7984 - val_loss: 0.6040 - val_accuracy: 0.7781 - lr: 0.0010 - 9s/epoch - 50ms/step
Epoch 21/25
176/176 - 9s - loss: 0.5393 - accuracy: 0.7988 - val_loss: 0.6008 - val_accuracy: 0.7851 - lr: 0.0010 - 9s/epoch - 50ms/step
Epoch 22/25
176/176 - 9s - loss: 0.5374 - accuracy: 0.8009 - val_loss: 0.6069 - val_accuracy: 0.7782 - lr: 0.0010 - 9s/epoch - 50ms/step
Epoch 23/25
176/176 - 9s - loss: 0.5358 - accuracy: 0.8010 - val_loss: 0.5844 - val_accuracy: 0.7950 - lr: 0.0010 - 9s/epoch - 50ms/step
Epoch 24/25
176/176 - 9s - loss: 0.5330 - accuracy: 0.8023 - val_loss: 0.6181 - val_accuracy: 0.7849 - lr: 0.0010 - 9s/epoch - 50ms/step
Epoch 25/25
176/176 - 9s - loss: 0.5304 - accuracy: 0.8036 - val_loss: 0.6241 - val_accuracy: 0.7590 - lr: 0.0010 - 9s/epoch - 50ms/step
Epoch 1/25
36/36 - 11s - loss: 0.5175 - accuracy: 0.8092 - val_loss: 0.5933 - val_accuracy: 0.7846 - lr: 0.0010 - 11s/epoch - 295ms/step
Epoch 2/25
36/36 - 8s - loss: 0.5116 - accuracy: 0.8103 - val_loss: 0.5978 - val_accuracy: 0.7803 - lr: 0.0010 - 8s/epoch - 213ms/step
Epoch 3/25
36/36 - 8s - loss: 0.5116 - accuracy: 0.8104 - val_loss: 0.6124 - val_accuracy: 0.7704 - lr: 0.0010 - 8s/epoch - 213ms/step
Epoch 4/25
36/36 - 8s - loss: 0.5107 - accuracy: 0.8112 - val_loss: 0.5926 - val_accuracy: 0.7827 - lr: 0.0010 - 8s/epoch - 213ms/step
Epoch 5/25
36/36 - 8s - loss: 0.5088 - accuracy: 0.8118 - val_loss: 0.5971 - val_accuracy: 0.7781 - lr: 0.0010 - 8s/epoch - 214ms/step
Epoch 6/25
36/36 - 8s - loss: 0.5084 - accuracy: 0.8127 - val_loss: 0.5967 - val_accuracy: 0.7766 - lr: 0.0010 - 8s/epoch - 214ms/step
Epoch 7/25
36/36 - 8s - loss: 0.5096 - accuracy: 0.8111 - val_loss: 0.6057 - val_accuracy: 0.7705 - lr: 0.0010 - 8s/epoch - 213ms/step
Epoch 8/25
36/36 - 8s - loss: 0.5081 - accuracy: 0.8119 - val_loss: 0.5940 - val_accuracy: 0.7763 - lr: 0.0010 - 8s/epoch - 213ms/step
Epoch 9/25
36/36 - 8s - loss: 0.5049 - accuracy: 0.8145 - val_loss: 0.6045 - val_accuracy: 0.7736 - lr: 0.0010 - 8s/epoch - 213ms/step
Epoch 10/25
36/36 - 8s - loss: 0.5074 - accuracy: 0.8122 - val_loss: 0.5922 - val_accuracy: 0.7784 - lr: 0.0010 - 8s/epoch - 213ms/step
Epoch 11/25
36/36 - 8s - loss: 0.5053 - accuracy: 0.8135 - val_loss: 0.5992 - val_accuracy: 0.7734 - lr: 0.0010 - 8s/epoch - 214ms/step
Epoch 12/25
36/36 - 8s - loss: 0.5042 - accuracy: 0.8127 - val_loss: 0.6007 - val_accuracy: 0.7714 - lr: 0.0010 - 8s/epoch - 213ms/step
Epoch 13/25
36/36 - 8s - loss: 0.5061 - accuracy: 0.8134 - val_loss: 0.5910 - val_accuracy: 0.7773 - lr: 0.0010 - 8s/epoch - 213ms/step
Epoch 14/25
36/36 - 8s - loss: 0.5050 - accuracy: 0.8130 - val_loss: 0.5926 - val_accuracy: 0.7767 - lr: 0.0010 - 8s/epoch - 214ms/step
Epoch 15/25
36/36 - 8s - loss: 0.5016 - accuracy: 0.8148 - val_loss: 0.6049 - val_accuracy: 0.7722 - lr: 0.0010 - 8s/epoch - 214ms/step
Epoch 16/25
36/36 - 8s - loss: 0.5046 - accuracy: 0.8139 - val_loss: 0.5948 - val_accuracy: 0.7793 - lr: 0.0010 - 8s/epoch - 213ms/step
Epoch 17/25
36/36 - 8s - loss: 0.5031 - accuracy: 0.8146 - val_loss: 0.6147 - val_accuracy: 0.7659 - lr: 0.0010 - 8s/epoch - 214ms/step
Epoch 18/25
36/36 - 8s - loss: 0.5029 - accuracy: 0.8146 - val_loss: 0.6001 - val_accuracy: 0.7784 - lr: 0.0010 - 8s/epoch - 213ms/step
Epoch 19/25
36/36 - 8s - loss: 0.5044 - accuracy: 0.8139 - val_loss: 0.6009 - val_accuracy: 0.7765 - lr: 0.0010 - 8s/epoch - 214ms/step
Epoch 20/25
36/36 - 8s - loss: 0.5014 - accuracy: 0.8161 - val_loss: 0.6241 - val_accuracy: 0.7635 - lr: 0.0010 - 8s/epoch - 214ms/step
Epoch 21/25
36/36 - 8s - loss: 0.5022 - accuracy: 0.8153 - val_loss: 0.6131 - val_accuracy: 0.7682 - lr: 0.0010 - 8s/epoch - 213ms/step
Epoch 22/25
36/36 - 8s - loss: 0.5028 - accuracy: 0.8144 - val_loss: 0.5999 - val_accuracy: 0.7754 - lr: 0.0010 - 8s/epoch - 213ms/step
Epoch 23/25
36/36 - 8s - loss: 0.4999 - accuracy: 0.8161 - val_loss: 0.5959 - val_accuracy: 0.7727 - lr: 0.0010 - 8s/epoch - 214ms/step
Epoch 24/25
36/36 - 8s - loss: 0.4994 - accuracy: 0.8163 - val_loss: 0.6077 - val_accuracy: 0.7711 - lr: 0.0010 - 8s/epoch - 213ms/step
Epoch 25/25
36/36 - 8s - loss: 0.4991 - accuracy: 0.8164 - val_loss: 0.5965 - val_accuracy: 0.7751 - lr: 0.0010 - 8s/epoch - 214ms/step
Epoch 1/50
4378/4378 - 75s - loss: 0.5980 - accuracy: 0.7764 - val_loss: 0.6291 - val_accuracy: 0.7722 - lr: 0.0010 - 75s/epoch - 17ms/step
Epoch 2/50
4378/4378 - 71s - loss: 0.5963 - accuracy: 0.7780 - val_loss: 0.7031 - val_accuracy: 0.7394 - lr: 0.0010 - 71s/epoch - 16ms/step
Epoch 3/50
4378/4378 - 70s - loss: 0.5964 - accuracy: 0.7759 - val_loss: 0.6226 - val_accuracy: 0.7738 - lr: 0.0010 - 70s/epoch - 16ms/step
Epoch 4/50
4378/4378 - 70s - loss: 0.5924 - accuracy: 0.7781 - val_loss: 0.6428 - val_accuracy: 0.7705 - lr: 0.0010 - 70s/epoch - 16ms/step
Epoch 5/50
4378/4378 - 70s - loss: 0.5912 - accuracy: 0.7800 - val_loss: 0.6617 - val_accuracy: 0.7732 - lr: 0.0010 - 70s/epoch - 16ms/step
Epoch 6/50
4378/4378 - 70s - loss: 0.5897 - accuracy: 0.7789 - val_loss: 0.6341 - val_accuracy: 0.7732 - lr: 0.0010 - 70s/epoch - 16ms/step
Epoch 7/50
4378/4378 - 70s - loss: 0.5851 - accuracy: 0.7808 - val_loss: 0.7264 - val_accuracy: 0.7239 - lr: 0.0010 - 70s/epoch - 16ms/step
Epoch 8/50
4378/4378 - 70s - loss: 0.5845 - accuracy: 0.7814 - val_loss: 0.6622 - val_accuracy: 0.7522 - lr: 0.0010 - 70s/epoch - 16ms/step
Epoch 9/50
4378/4378 - 70s - loss: 0.5799 - accuracy: 0.7831 - val_loss: 0.7036 - val_accuracy: 0.7482 - lr: 0.0010 - 70s/epoch - 16ms/step
Epoch 10/50
4378/4378 - 70s - loss: 0.5778 - accuracy: 0.7836 - val_loss: 0.6625 - val_accuracy: 0.7511 - lr: 0.0010 - 70s/epoch - 16ms/step
Epoch 11/50
4378/4378 - 70s - loss: 0.5714 - accuracy: 0.7871 - val_loss: 0.6197 - val_accuracy: 0.7670 - lr: 0.0010 - 70s/epoch - 16ms/step
Epoch 12/50
4378/4378 - 70s - loss: 0.5742 - accuracy: 0.7861 - val_loss: 0.5500 - val_accuracy: 0.8007 - lr: 0.0010 - 70s/epoch - 16ms/step
Epoch 13/50
4378/4378 - 70s - loss: 0.5686 - accuracy: 0.7868 - val_loss: 0.6605 - val_accuracy: 0.7502 - lr: 0.0010 - 70s/epoch - 16ms/step
Epoch 14/50
4378/4378 - 70s - loss: 0.5670 - accuracy: 0.7892 - val_loss: 0.6904 - val_accuracy: 0.7379 - lr: 0.0010 - 70s/epoch - 16ms/step
Epoch 15/50
4378/4378 - 70s - loss: 0.5642 - accuracy: 0.7889 - val_loss: 0.6821 - val_accuracy: 0.7663 - lr: 0.0010 - 70s/epoch - 16ms/step
Epoch 16/50
4378/4378 - 70s - loss: 0.5629 - accuracy: 0.7893 - val_loss: 0.5977 - val_accuracy: 0.7802 - lr: 0.0010 - 70s/epoch - 16ms/step
Epoch 17/50
4378/4378 - 70s - loss: 0.5614 - accuracy: 0.7892 - val_loss: 0.6681 - val_accuracy: 0.7456 - lr: 0.0010 - 70s/epoch - 16ms/step
Epoch 18/50
4378/4378 - 70s - loss: 0.5540 - accuracy: 0.7942 - val_loss: 0.6704 - val_accuracy: 0.7522 - lr: 0.0010 - 70s/epoch - 16ms/step
Epoch 19/50
4378/4378 - 70s - loss: 0.5552 - accuracy: 0.7935 - val_loss: 0.6787 - val_accuracy: 0.7363 - lr: 0.0010 - 70s/epoch - 16ms/step
Epoch 20/50
4378/4378 - 70s - loss: 0.5526 - accuracy: 0.7940 - val_loss: 0.6210 - val_accuracy: 0.7629 - lr: 0.0010 - 70s/epoch - 16ms/step
Epoch 21/50
4378/4378 - 70s - loss: 0.5489 - accuracy: 0.7953 - val_loss: 0.6003 - val_accuracy: 0.7780 - lr: 0.0010 - 70s/epoch - 16ms/step
Epoch 22/50
4378/4378 - 70s - loss: 0.5469 - accuracy: 0.7957 - val_loss: 0.6881 - val_accuracy: 0.7476 - lr: 0.0010 - 70s/epoch - 16ms/step
Epoch 23/50
4378/4378 - 70s - loss: 0.5429 - accuracy: 0.7983 - val_loss: 0.6340 - val_accuracy: 0.7726 - lr: 0.0010 - 70s/epoch - 16ms/step
Epoch 24/50
4378/4378 - 70s - loss: 0.5439 - accuracy: 0.7966 - val_loss: 0.6608 - val_accuracy: 0.7486 - lr: 0.0010 - 70s/epoch - 16ms/step
Epoch 25/50
4378/4378 - 70s - loss: 0.5420 - accuracy: 0.7967 - val_loss: 0.6738 - val_accuracy: 0.7651 - lr: 0.0010 - 70s/epoch - 16ms/step
Epoch 26/50
4378/4378 - 70s - loss: 0.5393 - accuracy: 0.7981 - val_loss: 0.6039 - val_accuracy: 0.7794 - lr: 0.0010 - 70s/epoch - 16ms/step
Epoch 27/50
4378/4378 - 70s - loss: 0.5369 - accuracy: 0.7998 - val_loss: 0.6493 - val_accuracy: 0.7704 - lr: 0.0010 - 70s/epoch - 16ms/step
Epoch 28/50
4378/4378 - 70s - loss: 0.5335 - accuracy: 0.8003 - val_loss: 0.7230 - val_accuracy: 0.7232 - lr: 0.0010 - 70s/epoch - 16ms/step
Epoch 29/50
4378/4378 - 70s - loss: 0.5320 - accuracy: 0.8013 - val_loss: 0.6231 - val_accuracy: 0.7748 - lr: 0.0010 - 70s/epoch - 16ms/step
Epoch 30/50
4378/4378 - 70s - loss: 0.5279 - accuracy: 0.8023 - val_loss: 0.6392 - val_accuracy: 0.7754 - lr: 0.0010 - 70s/epoch - 16ms/step
Epoch 31/50
4378/4378 - 70s - loss: 0.5256 - accuracy: 0.8039 - val_loss: 0.6727 - val_accuracy: 0.7428 - lr: 0.0010 - 70s/epoch - 16ms/step
Epoch 32/50
4378/4378 - 70s - loss: 0.5249 - accuracy: 0.8036 - val_loss: 0.7195 - val_accuracy: 0.7257 - lr: 0.0010 - 70s/epoch - 16ms/step
Epoch 33/50
4378/4378 - 70s - loss: 0.5240 - accuracy: 0.8047 - val_loss: 0.6722 - val_accuracy: 0.7537 - lr: 0.0010 - 70s/epoch - 16ms/step
Epoch 34/50
4378/4378 - 70s - loss: 0.5200 - accuracy: 0.8060 - val_loss: 0.6503 - val_accuracy: 0.7541 - lr: 0.0010 - 70s/epoch - 16ms/step
Epoch 35/50
4378/4378 - 70s - loss: 0.5189 - accuracy: 0.8068 - val_loss: 0.7005 - val_accuracy: 0.7450 - lr: 0.0010 - 70s/epoch - 16ms/step
Epoch 36/50
4378/4378 - 70s - loss: 0.5166 - accuracy: 0.8073 - val_loss: 0.6846 - val_accuracy: 0.7659 - lr: 0.0010 - 70s/epoch - 16ms/step
Epoch 37/50
4378/4378 - 71s - loss: 0.5153 - accuracy: 0.8068 - val_loss: 0.6671 - val_accuracy: 0.7566 - lr: 0.0010 - 71s/epoch - 16ms/step
Epoch 38/50
4378/4378 - 70s - loss: 0.5097 - accuracy: 0.8095 - val_loss: 0.6047 - val_accuracy: 0.7837 - lr: 0.0010 - 70s/epoch - 16ms/step
Epoch 39/50
4378/4378 - 70s - loss: 0.5083 - accuracy: 0.8101 - val_loss: 0.7235 - val_accuracy: 0.7472 - lr: 0.0010 - 70s/epoch - 16ms/step
Epoch 40/50
4378/4378 - 70s - loss: 0.5090 - accuracy: 0.8105 - val_loss: 0.7047 - val_accuracy: 0.7423 - lr: 0.0010 - 70s/epoch - 16ms/step
Epoch 41/50
4378/4378 - 70s - loss: 0.5077 - accuracy: 0.8103 - val_loss: 0.7269 - val_accuracy: 0.7226 - lr: 0.0010 - 70s/epoch - 16ms/step
Epoch 42/50
4378/4378 - 70s - loss: 0.5018 - accuracy: 0.8129 - val_loss: 0.7052 - val_accuracy: 0.7424 - lr: 0.0010 - 70s/epoch - 16ms/step
Epoch 43/50
4378/4378 - 70s - loss: 0.5030 - accuracy: 0.8125 - val_loss: 0.6163 - val_accuracy: 0.7885 - lr: 0.0010 - 70s/epoch - 16ms/step
Epoch 44/50
4378/4378 - 70s - loss: 0.5010 - accuracy: 0.8128 - val_loss: 0.7232 - val_accuracy: 0.7449 - lr: 0.0010 - 70s/epoch - 16ms/step
Epoch 45/50
4378/4378 - 70s - loss: 0.4971 - accuracy: 0.8156 - val_loss: 0.6206 - val_accuracy: 0.7764 - lr: 0.0010 - 70s/epoch - 16ms/step
Epoch 46/50
4378/4378 - 70s - loss: 0.4951 - accuracy: 0.8148 - val_loss: 0.6829 - val_accuracy: 0.7554 - lr: 0.0010 - 70s/epoch - 16ms/step
Epoch 47/50
4378/4378 - 70s - loss: 0.4919 - accuracy: 0.8152 - val_loss: 0.6580 - val_accuracy: 0.7627 - lr: 0.0010 - 70s/epoch - 16ms/step
Epoch 48/50
4378/4378 - 70s - loss: 0.4910 - accuracy: 0.8166 - val_loss: 0.6206 - val_accuracy: 0.7873 - lr: 0.0010 - 70s/epoch - 16ms/step
Epoch 49/50
4378/4378 - 70s - loss: 0.4917 - accuracy: 0.8157 - val_loss: 0.5758 - val_accuracy: 0.8073 - lr: 0.0010 - 70s/epoch - 16ms/step
Epoch 50/50
4378/4378 - 70s - loss: 0.4881 - accuracy: 0.8187 - val_loss: 0.6995 - val_accuracy: 0.7454 - lr: 0.0010 - 70s/epoch - 16ms/step
Epoch 1/50
876/876 - 20s - loss: 0.4279 - accuracy: 0.8411 - val_loss: 0.6605 - val_accuracy: 0.7541 - lr: 0.0010 - 20s/epoch - 23ms/step
Epoch 2/50
876/876 - 18s - loss: 0.4334 - accuracy: 0.8382 - val_loss: 0.6340 - val_accuracy: 0.7656 - lr: 0.0010 - 18s/epoch - 20ms/step
Epoch 3/50
876/876 - 17s - loss: 0.4339 - accuracy: 0.8383 - val_loss: 0.6724 - val_accuracy: 0.7542 - lr: 0.0010 - 17s/epoch - 20ms/step
Epoch 4/50
876/876 - 17s - loss: 0.4317 - accuracy: 0.8387 - val_loss: 0.6324 - val_accuracy: 0.7592 - lr: 0.0010 - 17s/epoch - 20ms/step
Epoch 5/50
876/876 - 17s - loss: 0.4278 - accuracy: 0.8396 - val_loss: 0.6131 - val_accuracy: 0.7713 - lr: 0.0010 - 17s/epoch - 20ms/step
Epoch 6/50
876/876 - 17s - loss: 0.4263 - accuracy: 0.8420 - val_loss: 0.6786 - val_accuracy: 0.7560 - lr: 0.0010 - 17s/epoch - 20ms/step
Epoch 7/50
876/876 - 17s - loss: 0.4231 - accuracy: 0.8435 - val_loss: 0.6376 - val_accuracy: 0.7736 - lr: 0.0010 - 17s/epoch - 20ms/step
Epoch 8/50
876/876 - 17s - loss: 0.4183 - accuracy: 0.8435 - val_loss: 0.6165 - val_accuracy: 0.7832 - lr: 0.0010 - 17s/epoch - 20ms/step
Epoch 9/50
876/876 - 19s - loss: 0.4191 - accuracy: 0.8435 - val_loss: 0.6134 - val_accuracy: 0.7825 - lr: 0.0010 - 19s/epoch - 21ms/step
Epoch 10/50
876/876 - 18s - loss: 0.4162 - accuracy: 0.8449 - val_loss: 0.6609 - val_accuracy: 0.7703 - lr: 0.0010 - 18s/epoch - 20ms/step
Epoch 11/50
876/876 - 17s - loss: 0.4138 - accuracy: 0.8456 - val_loss: 0.6905 - val_accuracy: 0.7515 - lr: 0.0010 - 17s/epoch - 20ms/step
Epoch 12/50
876/876 - 17s - loss: 0.4097 - accuracy: 0.8470 - val_loss: 0.6478 - val_accuracy: 0.7690 - lr: 0.0010 - 17s/epoch - 20ms/step
Epoch 13/50
876/876 - 17s - loss: 0.4097 - accuracy: 0.8479 - val_loss: 0.6697 - val_accuracy: 0.7640 - lr: 0.0010 - 17s/epoch - 20ms/step
Epoch 14/50
876/876 - 18s - loss: 0.4066 - accuracy: 0.8488 - val_loss: 0.6574 - val_accuracy: 0.7567 - lr: 0.0010 - 18s/epoch - 20ms/step
Epoch 15/50
876/876 - 17s - loss: 0.4023 - accuracy: 0.8497 - val_loss: 0.6266 - val_accuracy: 0.7737 - lr: 0.0010 - 17s/epoch - 20ms/step
Epoch 16/50
876/876 - 17s - loss: 0.4052 - accuracy: 0.8486 - val_loss: 0.6728 - val_accuracy: 0.7566 - lr: 0.0010 - 17s/epoch - 20ms/step
Epoch 17/50
876/876 - 17s - loss: 0.4030 - accuracy: 0.8489 - val_loss: 0.6701 - val_accuracy: 0.7569 - lr: 0.0010 - 17s/epoch - 20ms/step
Epoch 18/50
876/876 - 17s - loss: 0.3995 - accuracy: 0.8513 - val_loss: 0.6477 - val_accuracy: 0.7687 - lr: 0.0010 - 17s/epoch - 20ms/step
Epoch 19/50
876/876 - 17s - loss: 0.3957 - accuracy: 0.8516 - val_loss: 0.6018 - val_accuracy: 0.7881 - lr: 0.0010 - 17s/epoch - 20ms/step
Epoch 20/50
876/876 - 17s - loss: 0.3974 - accuracy: 0.8523 - val_loss: 0.6268 - val_accuracy: 0.7794 - lr: 0.0010 - 17s/epoch - 20ms/step
Epoch 21/50
876/876 - 18s - loss: 0.3945 - accuracy: 0.8531 - val_loss: 0.7190 - val_accuracy: 0.7452 - lr: 0.0010 - 18s/epoch - 20ms/step
Epoch 22/50
876/876 - 17s - loss: 0.3935 - accuracy: 0.8532 - val_loss: 0.6474 - val_accuracy: 0.7722 - lr: 0.0010 - 17s/epoch - 20ms/step
Epoch 23/50
876/876 - 17s - loss: 0.3904 - accuracy: 0.8536 - val_loss: 0.6133 - val_accuracy: 0.7777 - lr: 0.0010 - 17s/epoch - 20ms/step
Epoch 24/50
876/876 - 17s - loss: 0.3889 - accuracy: 0.8552 - val_loss: 0.6918 - val_accuracy: 0.7553 - lr: 0.0010 - 17s/epoch - 20ms/step
Epoch 25/50
876/876 - 17s - loss: 0.3903 - accuracy: 0.8536 - val_loss: 0.6227 - val_accuracy: 0.7904 - lr: 0.0010 - 17s/epoch - 20ms/step
Epoch 26/50
876/876 - 17s - loss: 0.3879 - accuracy: 0.8548 - val_loss: 0.7296 - val_accuracy: 0.7491 - lr: 0.0010 - 17s/epoch - 20ms/step
Epoch 27/50
876/876 - 17s - loss: 0.3860 - accuracy: 0.8546 - val_loss: 0.6090 - val_accuracy: 0.7934 - lr: 0.0010 - 17s/epoch - 20ms/step
Epoch 28/50
876/876 - 17s - loss: 0.3848 - accuracy: 0.8550 - val_loss: 0.6585 - val_accuracy: 0.7693 - lr: 0.0010 - 17s/epoch - 20ms/step
Epoch 29/50
876/876 - 17s - loss: 0.3839 - accuracy: 0.8574 - val_loss: 0.6217 - val_accuracy: 0.7852 - lr: 0.0010 - 17s/epoch - 20ms/step
Epoch 30/50
876/876 - 17s - loss: 0.3813 - accuracy: 0.8578 - val_loss: 0.6419 - val_accuracy: 0.7843 - lr: 0.0010 - 17s/epoch - 20ms/step
Epoch 31/50
876/876 - 17s - loss: 0.3805 - accuracy: 0.8577 - val_loss: 0.6334 - val_accuracy: 0.7776 - lr: 0.0010 - 17s/epoch - 20ms/step
Epoch 32/50
876/876 - 17s - loss: 0.3793 - accuracy: 0.8585 - val_loss: 0.6532 - val_accuracy: 0.7841 - lr: 0.0010 - 17s/epoch - 20ms/step
Epoch 33/50
876/876 - 17s - loss: 0.3787 - accuracy: 0.8587 - val_loss: 0.6891 - val_accuracy: 0.7620 - lr: 0.0010 - 17s/epoch - 20ms/step
Epoch 34/50
876/876 - 17s - loss: 0.3748 - accuracy: 0.8598 - val_loss: 0.6440 - val_accuracy: 0.7815 - lr: 0.0010 - 17s/epoch - 20ms/step
Epoch 35/50
876/876 - 17s - loss: 0.3772 - accuracy: 0.8597 - val_loss: 0.6624 - val_accuracy: 0.7728 - lr: 0.0010 - 17s/epoch - 20ms/step
Epoch 36/50
876/876 - 17s - loss: 0.3743 - accuracy: 0.8615 - val_loss: 0.6516 - val_accuracy: 0.7698 - lr: 0.0010 - 17s/epoch - 20ms/step
Epoch 37/50
876/876 - 18s - loss: 0.3719 - accuracy: 0.8604 - val_loss: 0.6369 - val_accuracy: 0.7731 - lr: 0.0010 - 18s/epoch - 20ms/step
Epoch 38/50
876/876 - 17s - loss: 0.3721 - accuracy: 0.8612 - val_loss: 0.7377 - val_accuracy: 0.7408 - lr: 0.0010 - 17s/epoch - 20ms/step
Epoch 39/50
876/876 - 17s - loss: 0.3722 - accuracy: 0.8606 - val_loss: 0.6757 - val_accuracy: 0.7682 - lr: 0.0010 - 17s/epoch - 20ms/step
Epoch 40/50
876/876 - 17s - loss: 0.3705 - accuracy: 0.8624 - val_loss: 0.6694 - val_accuracy: 0.7641 - lr: 0.0010 - 17s/epoch - 20ms/step
Epoch 41/50
876/876 - 17s - loss: 0.3675 - accuracy: 0.8621 - val_loss: 0.6624 - val_accuracy: 0.7674 - lr: 0.0010 - 17s/epoch - 20ms/step
Epoch 42/50
876/876 - 17s - loss: 0.3660 - accuracy: 0.8624 - val_loss: 0.6667 - val_accuracy: 0.7757 - lr: 0.0010 - 17s/epoch - 20ms/step
Epoch 43/50
876/876 - 17s - loss: 0.3681 - accuracy: 0.8618 - val_loss: 0.7227 - val_accuracy: 0.7524 - lr: 0.0010 - 17s/epoch - 20ms/step
Epoch 44/50
876/876 - 17s - loss: 0.3629 - accuracy: 0.8636 - val_loss: 0.6527 - val_accuracy: 0.7753 - lr: 0.0010 - 17s/epoch - 20ms/step
Epoch 45/50
876/876 - 17s - loss: 0.3628 - accuracy: 0.8642 - val_loss: 0.6989 - val_accuracy: 0.7595 - lr: 0.0010 - 17s/epoch - 20ms/step
Epoch 46/50
876/876 - 17s - loss: 0.3637 - accuracy: 0.8636 - val_loss: 0.6394 - val_accuracy: 0.7739 - lr: 0.0010 - 17s/epoch - 20ms/step
Epoch 47/50
876/876 - 17s - loss: 0.3638 - accuracy: 0.8646 - val_loss: 0.6864 - val_accuracy: 0.7633 - lr: 0.0010 - 17s/epoch - 20ms/step
Epoch 48/50
876/876 - 17s - loss: 0.3622 - accuracy: 0.8651 - val_loss: 0.6666 - val_accuracy: 0.7709 - lr: 0.0010 - 17s/epoch - 20ms/step
Epoch 49/50
876/876 - 17s - loss: 0.3604 - accuracy: 0.8649 - val_loss: 0.6953 - val_accuracy: 0.7606 - lr: 0.0010 - 17s/epoch - 20ms/step
Epoch 50/50
876/876 - 17s - loss: 0.3606 - accuracy: 0.8652 - val_loss: 0.6922 - val_accuracy: 0.7661 - lr: 0.0010 - 17s/epoch - 20ms/step
Epoch 1/50
176/176 - 11s - loss: 0.3135 - accuracy: 0.8841 - val_loss: 0.6818 - val_accuracy: 0.7736 - lr: 0.0010 - 11s/epoch - 65ms/step
Epoch 2/50
176/176 - 9s - loss: 0.3025 - accuracy: 0.8885 - val_loss: 0.6685 - val_accuracy: 0.7786 - lr: 0.0010 - 9s/epoch - 50ms/step
Epoch 3/50
176/176 - 9s - loss: 0.3022 - accuracy: 0.8890 - val_loss: 0.6831 - val_accuracy: 0.7760 - lr: 0.0010 - 9s/epoch - 50ms/step
Epoch 4/50
176/176 - 9s - loss: 0.3025 - accuracy: 0.8887 - val_loss: 0.7057 - val_accuracy: 0.7738 - lr: 0.0010 - 9s/epoch - 50ms/step
Epoch 5/50
176/176 - 9s - loss: 0.3015 - accuracy: 0.8886 - val_loss: 0.7040 - val_accuracy: 0.7720 - lr: 0.0010 - 9s/epoch - 50ms/step
Epoch 6/50
176/176 - 9s - loss: 0.3056 - accuracy: 0.8871 - val_loss: 0.7160 - val_accuracy: 0.7712 - lr: 0.0010 - 9s/epoch - 51ms/step
Epoch 7/50
176/176 - 9s - loss: 0.3092 - accuracy: 0.8848 - val_loss: 0.7287 - val_accuracy: 0.7680 - lr: 0.0010 - 9s/epoch - 50ms/step
Epoch 8/50
176/176 - 9s - loss: 0.3055 - accuracy: 0.8872 - val_loss: 0.7166 - val_accuracy: 0.7722 - lr: 0.0010 - 9s/epoch - 50ms/step
Epoch 9/50
176/176 - 9s - loss: 0.3023 - accuracy: 0.8879 - val_loss: 0.6987 - val_accuracy: 0.7775 - lr: 0.0010 - 9s/epoch - 50ms/step
Epoch 10/50
176/176 - 9s - loss: 0.3051 - accuracy: 0.8876 - val_loss: 0.6763 - val_accuracy: 0.7878 - lr: 0.0010 - 9s/epoch - 50ms/step
Epoch 11/50
176/176 - 9s - loss: 0.3015 - accuracy: 0.8881 - val_loss: 0.7261 - val_accuracy: 0.7767 - lr: 0.0010 - 9s/epoch - 50ms/step
Epoch 12/50
176/176 - 9s - loss: 0.2987 - accuracy: 0.8893 - val_loss: 0.6934 - val_accuracy: 0.7838 - lr: 0.0010 - 9s/epoch - 50ms/step
Epoch 13/50
176/176 - 9s - loss: 0.2996 - accuracy: 0.8892 - val_loss: 0.7302 - val_accuracy: 0.7751 - lr: 0.0010 - 9s/epoch - 50ms/step
Epoch 14/50
176/176 - 9s - loss: 0.2980 - accuracy: 0.8889 - val_loss: 0.7593 - val_accuracy: 0.7705 - lr: 0.0010 - 9s/epoch - 50ms/step
Epoch 15/50
176/176 - 9s - loss: 0.3002 - accuracy: 0.8890 - val_loss: 0.7235 - val_accuracy: 0.7765 - lr: 0.0010 - 9s/epoch - 50ms/step
Epoch 16/50
176/176 - 9s - loss: 0.2953 - accuracy: 0.8900 - val_loss: 0.7781 - val_accuracy: 0.7664 - lr: 0.0010 - 9s/epoch - 50ms/step
Epoch 17/50
176/176 - 9s - loss: 0.2970 - accuracy: 0.8891 - val_loss: 0.7570 - val_accuracy: 0.7692 - lr: 0.0010 - 9s/epoch - 50ms/step
Epoch 18/50
176/176 - 9s - loss: 0.2917 - accuracy: 0.8920 - val_loss: 0.7332 - val_accuracy: 0.7789 - lr: 0.0010 - 9s/epoch - 50ms/step
Epoch 19/50
176/176 - 9s - loss: 0.2955 - accuracy: 0.8906 - val_loss: 0.7824 - val_accuracy: 0.7694 - lr: 0.0010 - 9s/epoch - 50ms/step
Epoch 20/50
176/176 - 9s - loss: 0.2904 - accuracy: 0.8925 - val_loss: 0.7455 - val_accuracy: 0.7775 - lr: 0.0010 - 9s/epoch - 50ms/step
Epoch 21/50
176/176 - 9s - loss: 0.2910 - accuracy: 0.8920 - val_loss: 0.7947 - val_accuracy: 0.7653 - lr: 0.0010 - 9s/epoch - 50ms/step
Epoch 22/50
176/176 - 9s - loss: 0.2919 - accuracy: 0.8916 - val_loss: 0.6931 - val_accuracy: 0.7889 - lr: 0.0010 - 9s/epoch - 50ms/step
Epoch 23/50
176/176 - 9s - loss: 0.2903 - accuracy: 0.8925 - val_loss: 0.7392 - val_accuracy: 0.7787 - lr: 0.0010 - 9s/epoch - 50ms/step
Epoch 24/50
176/176 - 9s - loss: 0.2912 - accuracy: 0.8925 - val_loss: 0.7365 - val_accuracy: 0.7823 - lr: 0.0010 - 9s/epoch - 50ms/step
Epoch 25/50
176/176 - 9s - loss: 0.2910 - accuracy: 0.8926 - val_loss: 0.7875 - val_accuracy: 0.7686 - lr: 0.0010 - 9s/epoch - 50ms/step
Epoch 26/50
176/176 - 9s - loss: 0.2926 - accuracy: 0.8919 - val_loss: 0.7539 - val_accuracy: 0.7766 - lr: 0.0010 - 9s/epoch - 51ms/step
Epoch 27/50
176/176 - 9s - loss: 0.2915 - accuracy: 0.8923 - val_loss: 0.7814 - val_accuracy: 0.7724 - lr: 0.0010 - 9s/epoch - 50ms/step
Epoch 28/50
176/176 - 9s - loss: 0.2892 - accuracy: 0.8927 - val_loss: 0.7523 - val_accuracy: 0.7799 - lr: 0.0010 - 9s/epoch - 50ms/step
Epoch 29/50
176/176 - 9s - loss: 0.2871 - accuracy: 0.8937 - val_loss: 0.7369 - val_accuracy: 0.7851 - lr: 0.0010 - 9s/epoch - 50ms/step
Epoch 30/50
176/176 - 9s - loss: 0.2889 - accuracy: 0.8936 - val_loss: 0.7893 - val_accuracy: 0.7731 - lr: 0.0010 - 9s/epoch - 50ms/step
Epoch 31/50
176/176 - 9s - loss: 0.2876 - accuracy: 0.8930 - val_loss: 0.7389 - val_accuracy: 0.7810 - lr: 0.0010 - 9s/epoch - 50ms/step
Epoch 32/50
176/176 - 9s - loss: 0.2847 - accuracy: 0.8944 - val_loss: 0.7502 - val_accuracy: 0.7825 - lr: 0.0010 - 9s/epoch - 50ms/step
Epoch 33/50
176/176 - 9s - loss: 0.2839 - accuracy: 0.8951 - val_loss: 0.7222 - val_accuracy: 0.7862 - lr: 0.0010 - 9s/epoch - 50ms/step
Epoch 34/50
176/176 - 9s - loss: 0.2844 - accuracy: 0.8948 - val_loss: 0.7862 - val_accuracy: 0.7757 - lr: 0.0010 - 9s/epoch - 50ms/step
Epoch 35/50
176/176 - 9s - loss: 0.2864 - accuracy: 0.8944 - val_loss: 0.7699 - val_accuracy: 0.7798 - lr: 0.0010 - 9s/epoch - 50ms/step
Epoch 36/50
176/176 - 9s - loss: 0.2821 - accuracy: 0.8960 - val_loss: 0.8140 - val_accuracy: 0.7702 - lr: 0.0010 - 9s/epoch - 50ms/step
Epoch 37/50
176/176 - 9s - loss: 0.2821 - accuracy: 0.8953 - val_loss: 0.7827 - val_accuracy: 0.7731 - lr: 0.0010 - 9s/epoch - 50ms/step
Epoch 38/50
176/176 - 9s - loss: 0.2780 - accuracy: 0.8971 - val_loss: 0.8280 - val_accuracy: 0.7697 - lr: 0.0010 - 9s/epoch - 50ms/step
Epoch 39/50
176/176 - 9s - loss: 0.2770 - accuracy: 0.8981 - val_loss: 0.7968 - val_accuracy: 0.7747 - lr: 0.0010 - 9s/epoch - 50ms/step
Epoch 40/50
176/176 - 9s - loss: 0.2741 - accuracy: 0.8994 - val_loss: 0.8060 - val_accuracy: 0.7779 - lr: 0.0010 - 9s/epoch - 50ms/step
Epoch 41/50
176/176 - 9s - loss: 0.2761 - accuracy: 0.8991 - val_loss: 0.8002 - val_accuracy: 0.7753 - lr: 0.0010 - 9s/epoch - 50ms/step
Epoch 42/50
176/176 - 9s - loss: 0.2770 - accuracy: 0.8990 - val_loss: 0.7790 - val_accuracy: 0.7832 - lr: 0.0010 - 9s/epoch - 50ms/step
Epoch 43/50
176/176 - 9s - loss: 0.2783 - accuracy: 0.8974 - val_loss: 0.7868 - val_accuracy: 0.7815 - lr: 0.0010 - 9s/epoch - 50ms/step
Epoch 44/50
176/176 - 9s - loss: 0.2758 - accuracy: 0.8975 - val_loss: 0.8469 - val_accuracy: 0.7690 - lr: 0.0010 - 9s/epoch - 50ms/step
Epoch 45/50
176/176 - 9s - loss: 0.2762 - accuracy: 0.8984 - val_loss: 0.8372 - val_accuracy: 0.7710 - lr: 0.0010 - 9s/epoch - 50ms/step
Epoch 46/50
176/176 - 9s - loss: 0.2744 - accuracy: 0.8983 - val_loss: 0.7738 - val_accuracy: 0.7844 - lr: 0.0010 - 9s/epoch - 50ms/step
Epoch 47/50
176/176 - 9s - loss: 0.2780 - accuracy: 0.8974 - val_loss: 0.7971 - val_accuracy: 0.7812 - lr: 0.0010 - 9s/epoch - 50ms/step
Epoch 48/50
176/176 - 9s - loss: 0.2733 - accuracy: 0.8978 - val_loss: 0.7941 - val_accuracy: 0.7782 - lr: 0.0010 - 9s/epoch - 50ms/step
Epoch 49/50
176/176 - 9s - loss: 0.2756 - accuracy: 0.8979 - val_loss: 0.8076 - val_accuracy: 0.7782 - lr: 0.0010 - 9s/epoch - 50ms/step
Epoch 50/50
176/176 - 9s - loss: 0.2790 - accuracy: 0.8970 - val_loss: 0.8135 - val_accuracy: 0.7814 - lr: 0.0010 - 9s/epoch - 50ms/step
Epoch 1/50
36/36 - 10s - loss: 0.2607 - accuracy: 0.9049 - val_loss: 0.8015 - val_accuracy: 0.7814 - lr: 0.0010 - 10s/epoch - 275ms/step
Epoch 2/50
36/36 - 8s - loss: 0.2525 - accuracy: 0.9076 - val_loss: 0.8316 - val_accuracy: 0.7751 - lr: 0.0010 - 8s/epoch - 214ms/step
Epoch 3/50
36/36 - 8s - loss: 0.2517 - accuracy: 0.9085 - val_loss: 0.8350 - val_accuracy: 0.7780 - lr: 0.0010 - 8s/epoch - 212ms/step
Epoch 4/50
36/36 - 8s - loss: 0.2482 - accuracy: 0.9099 - val_loss: 0.8422 - val_accuracy: 0.7775 - lr: 0.0010 - 8s/epoch - 212ms/step
Epoch 5/50
36/36 - 8s - loss: 0.2462 - accuracy: 0.9103 - val_loss: 0.8530 - val_accuracy: 0.7763 - lr: 0.0010 - 8s/epoch - 212ms/step
Epoch 6/50
36/36 - 8s - loss: 0.2492 - accuracy: 0.9103 - val_loss: 0.8400 - val_accuracy: 0.7773 - lr: 0.0010 - 8s/epoch - 213ms/step
Epoch 7/50
36/36 - 8s - loss: 0.2458 - accuracy: 0.9110 - val_loss: 0.8815 - val_accuracy: 0.7699 - lr: 0.0010 - 8s/epoch - 214ms/step
Epoch 8/50
36/36 - 8s - loss: 0.2465 - accuracy: 0.9110 - val_loss: 0.8679 - val_accuracy: 0.7723 - lr: 0.0010 - 8s/epoch - 213ms/step
Epoch 9/50
36/36 - 8s - loss: 0.2449 - accuracy: 0.9110 - val_loss: 0.8685 - val_accuracy: 0.7743 - lr: 0.0010 - 8s/epoch - 212ms/step
Epoch 10/50
36/36 - 8s - loss: 0.2440 - accuracy: 0.9117 - val_loss: 0.8616 - val_accuracy: 0.7748 - lr: 0.0010 - 8s/epoch - 214ms/step
Epoch 11/50
36/36 - 8s - loss: 0.2418 - accuracy: 0.9122 - val_loss: 0.8841 - val_accuracy: 0.7697 - lr: 0.0010 - 8s/epoch - 213ms/step
Epoch 12/50
36/36 - 8s - loss: 0.2427 - accuracy: 0.9128 - val_loss: 0.8823 - val_accuracy: 0.7712 - lr: 0.0010 - 8s/epoch - 213ms/step
Epoch 13/50
36/36 - 8s - loss: 0.2444 - accuracy: 0.9118 - val_loss: 0.8848 - val_accuracy: 0.7739 - lr: 0.0010 - 8s/epoch - 212ms/step
Epoch 14/50
36/36 - 8s - loss: 0.2408 - accuracy: 0.9120 - val_loss: 0.8875 - val_accuracy: 0.7708 - lr: 0.0010 - 8s/epoch - 213ms/step
Epoch 15/50
36/36 - 8s - loss: 0.2405 - accuracy: 0.9135 - val_loss: 0.9112 - val_accuracy: 0.7704 - lr: 0.0010 - 8s/epoch - 213ms/step
Epoch 16/50
36/36 - 8s - loss: 0.2415 - accuracy: 0.9129 - val_loss: 0.9031 - val_accuracy: 0.7721 - lr: 0.0010 - 8s/epoch - 213ms/step
Epoch 17/50
36/36 - 8s - loss: 0.2422 - accuracy: 0.9114 - val_loss: 0.8938 - val_accuracy: 0.7722 - lr: 0.0010 - 8s/epoch - 213ms/step
Epoch 18/50
36/36 - 8s - loss: 0.2432 - accuracy: 0.9124 - val_loss: 0.8959 - val_accuracy: 0.7730 - lr: 0.0010 - 8s/epoch - 214ms/step
Epoch 19/50
36/36 - 8s - loss: 0.2412 - accuracy: 0.9126 - val_loss: 0.8736 - val_accuracy: 0.7775 - lr: 0.0010 - 8s/epoch - 214ms/step
Epoch 20/50
36/36 - 8s - loss: 0.2422 - accuracy: 0.9121 - val_loss: 0.8970 - val_accuracy: 0.7732 - lr: 0.0010 - 8s/epoch - 214ms/step
Epoch 21/50
36/36 - 8s - loss: 0.2406 - accuracy: 0.9129 - val_loss: 0.8946 - val_accuracy: 0.7758 - lr: 0.0010 - 8s/epoch - 213ms/step
Epoch 22/50
36/36 - 8s - loss: 0.2448 - accuracy: 0.9109 - val_loss: 0.8870 - val_accuracy: 0.7743 - lr: 0.0010 - 8s/epoch - 213ms/step
Epoch 23/50
36/36 - 8s - loss: 0.2401 - accuracy: 0.9120 - val_loss: 0.8976 - val_accuracy: 0.7761 - lr: 0.0010 - 8s/epoch - 213ms/step
Epoch 24/50
36/36 - 8s - loss: 0.2397 - accuracy: 0.9127 - val_loss: 0.9002 - val_accuracy: 0.7728 - lr: 0.0010 - 8s/epoch - 214ms/step
Epoch 25/50
36/36 - 8s - loss: 0.2403 - accuracy: 0.9122 - val_loss: 0.9157 - val_accuracy: 0.7685 - lr: 0.0010 - 8s/epoch - 213ms/step
Epoch 26/50
36/36 - 8s - loss: 0.2405 - accuracy: 0.9133 - val_loss: 0.8852 - val_accuracy: 0.7778 - lr: 0.0010 - 8s/epoch - 213ms/step
Epoch 27/50
36/36 - 8s - loss: 0.2382 - accuracy: 0.9136 - val_loss: 0.9139 - val_accuracy: 0.7704 - lr: 0.0010 - 8s/epoch - 213ms/step
Epoch 28/50
36/36 - 8s - loss: 0.2373 - accuracy: 0.9143 - val_loss: 0.8974 - val_accuracy: 0.7743 - lr: 0.0010 - 8s/epoch - 214ms/step
Epoch 29/50
36/36 - 8s - loss: 0.2393 - accuracy: 0.9139 - val_loss: 0.9149 - val_accuracy: 0.7723 - lr: 0.0010 - 8s/epoch - 212ms/step
Epoch 30/50
36/36 - 8s - loss: 0.2395 - accuracy: 0.9138 - val_loss: 0.9072 - val_accuracy: 0.7739 - lr: 0.0010 - 8s/epoch - 213ms/step
Epoch 31/50
36/36 - 8s - loss: 0.2380 - accuracy: 0.9145 - val_loss: 0.8938 - val_accuracy: 0.7762 - lr: 0.0010 - 8s/epoch - 213ms/step
Epoch 32/50
36/36 - 8s - loss: 0.2408 - accuracy: 0.9128 - val_loss: 0.9229 - val_accuracy: 0.7714 - lr: 0.0010 - 8s/epoch - 214ms/step
Epoch 33/50
36/36 - 8s - loss: 0.2381 - accuracy: 0.9136 - val_loss: 0.9274 - val_accuracy: 0.7694 - lr: 0.0010 - 8s/epoch - 214ms/step
Epoch 34/50
36/36 - 8s - loss: 0.2374 - accuracy: 0.9135 - val_loss: 0.8934 - val_accuracy: 0.7757 - lr: 0.0010 - 8s/epoch - 214ms/step
Epoch 35/50
36/36 - 8s - loss: 0.2389 - accuracy: 0.9144 - val_loss: 0.9149 - val_accuracy: 0.7727 - lr: 0.0010 - 8s/epoch - 213ms/step
Epoch 36/50
36/36 - 8s - loss: 0.2450 - accuracy: 0.9107 - val_loss: 0.9227 - val_accuracy: 0.7723 - lr: 0.0010 - 8s/epoch - 214ms/step
Epoch 37/50
36/36 - 8s - loss: 0.2441 - accuracy: 0.9113 - val_loss: 0.9189 - val_accuracy: 0.7710 - lr: 0.0010 - 8s/epoch - 214ms/step
Epoch 38/50
36/36 - 8s - loss: 0.2400 - accuracy: 0.9131 - val_loss: 0.9149 - val_accuracy: 0.7725 - lr: 0.0010 - 8s/epoch - 213ms/step
Epoch 39/50
36/36 - 8s - loss: 0.2353 - accuracy: 0.9144 - val_loss: 0.9104 - val_accuracy: 0.7735 - lr: 0.0010 - 8s/epoch - 213ms/step
Epoch 40/50
36/36 - 8s - loss: 0.2330 - accuracy: 0.9161 - val_loss: 0.9413 - val_accuracy: 0.7691 - lr: 0.0010 - 8s/epoch - 213ms/step
Epoch 41/50
36/36 - 8s - loss: 0.2342 - accuracy: 0.9146 - val_loss: 0.9318 - val_accuracy: 0.7691 - lr: 0.0010 - 8s/epoch - 214ms/step
Epoch 42/50
36/36 - 8s - loss: 0.2361 - accuracy: 0.9148 - val_loss: 0.9326 - val_accuracy: 0.7707 - lr: 0.0010 - 8s/epoch - 214ms/step
Epoch 43/50
36/36 - 8s - loss: 0.2338 - accuracy: 0.9155 - val_loss: 0.9290 - val_accuracy: 0.7711 - lr: 0.0010 - 8s/epoch - 213ms/step
Epoch 44/50
36/36 - 8s - loss: 0.2329 - accuracy: 0.9167 - val_loss: 0.9390 - val_accuracy: 0.7689 - lr: 0.0010 - 8s/epoch - 213ms/step
Epoch 45/50
36/36 - 8s - loss: 0.2346 - accuracy: 0.9149 - val_loss: 0.9288 - val_accuracy: 0.7707 - lr: 0.0010 - 8s/epoch - 214ms/step
Epoch 46/50
36/36 - 8s - loss: 0.2331 - accuracy: 0.9154 - val_loss: 0.9329 - val_accuracy: 0.7737 - lr: 0.0010 - 8s/epoch - 214ms/step
Epoch 47/50
36/36 - 8s - loss: 0.2334 - accuracy: 0.9163 - val_loss: 0.9538 - val_accuracy: 0.7685 - lr: 0.0010 - 8s/epoch - 213ms/step
Epoch 48/50
36/36 - 8s - loss: 0.2305 - accuracy: 0.9163 - val_loss: 0.9350 - val_accuracy: 0.7722 - lr: 0.0010 - 8s/epoch - 213ms/step
Epoch 49/50
36/36 - 8s - loss: 0.2331 - accuracy: 0.9158 - val_loss: 0.9615 - val_accuracy: 0.7680 - lr: 0.0010 - 8s/epoch - 213ms/step
Epoch 50/50
36/36 - 8s - loss: 0.2319 - accuracy: 0.9172 - val_loss: 0.9498 - val_accuracy: 0.7711 - lr: 0.0010 - 8s/epoch - 214ms/step
Epoch 1/75
4378/4378 - 72s - loss: 0.4054 - accuracy: 0.8510 - val_loss: 0.7350 - val_accuracy: 0.7637 - lr: 0.0010 - 72s/epoch - 16ms/step
Epoch 2/75
4378/4378 - 70s - loss: 0.4094 - accuracy: 0.8478 - val_loss: 0.7486 - val_accuracy: 0.7516 - lr: 0.0010 - 70s/epoch - 16ms/step
Epoch 3/75
4378/4378 - 70s - loss: 0.4125 - accuracy: 0.8456 - val_loss: 0.7498 - val_accuracy: 0.7478 - lr: 0.0010 - 70s/epoch - 16ms/step
Epoch 4/75
4378/4378 - 69s - loss: 0.4143 - accuracy: 0.8444 - val_loss: 0.5772 - val_accuracy: 0.8122 - lr: 0.0010 - 69s/epoch - 16ms/step
Epoch 5/75
4378/4378 - 69s - loss: 0.4111 - accuracy: 0.8455 - val_loss: 0.7014 - val_accuracy: 0.7479 - lr: 0.0010 - 69s/epoch - 16ms/step
Epoch 6/75
4378/4378 - 70s - loss: 0.4157 - accuracy: 0.8435 - val_loss: 0.7563 - val_accuracy: 0.7310 - lr: 0.0010 - 70s/epoch - 16ms/step
Epoch 7/75
4378/4378 - 70s - loss: 0.4149 - accuracy: 0.8447 - val_loss: 0.6595 - val_accuracy: 0.7791 - lr: 0.0010 - 70s/epoch - 16ms/step
Epoch 8/75
4378/4378 - 69s - loss: 0.4122 - accuracy: 0.8451 - val_loss: 0.7365 - val_accuracy: 0.7493 - lr: 0.0010 - 69s/epoch - 16ms/step
Epoch 9/75
4378/4378 - 70s - loss: 0.4114 - accuracy: 0.8455 - val_loss: 0.7599 - val_accuracy: 0.7441 - lr: 0.0010 - 70s/epoch - 16ms/step
Epoch 10/75
4378/4378 - 69s - loss: 0.4144 - accuracy: 0.8435 - val_loss: 0.6718 - val_accuracy: 0.7701 - lr: 0.0010 - 69s/epoch - 16ms/step
Epoch 11/75
4378/4378 - 70s - loss: 0.4100 - accuracy: 0.8452 - val_loss: 0.6154 - val_accuracy: 0.7862 - lr: 0.0010 - 70s/epoch - 16ms/step
Epoch 12/75
4378/4378 - 69s - loss: 0.4142 - accuracy: 0.8444 - val_loss: 0.6646 - val_accuracy: 0.7633 - lr: 0.0010 - 69s/epoch - 16ms/step
Epoch 13/75
4378/4378 - 70s - loss: 0.4140 - accuracy: 0.8450 - val_loss: 0.6364 - val_accuracy: 0.7791 - lr: 0.0010 - 70s/epoch - 16ms/step
Epoch 14/75
4378/4378 - 69s - loss: 0.4120 - accuracy: 0.8459 - val_loss: 0.7755 - val_accuracy: 0.7353 - lr: 0.0010 - 69s/epoch - 16ms/step
Epoch 15/75
4378/4378 - 69s - loss: 0.4149 - accuracy: 0.8441 - val_loss: 0.7086 - val_accuracy: 0.7564 - lr: 0.0010 - 69s/epoch - 16ms/step
Epoch 16/75
4378/4378 - 69s - loss: 0.4118 - accuracy: 0.8457 - val_loss: 0.6443 - val_accuracy: 0.7768 - lr: 0.0010 - 69s/epoch - 16ms/step
Epoch 17/75
4378/4378 - 69s - loss: 0.4102 - accuracy: 0.8460 - val_loss: 0.6712 - val_accuracy: 0.7685 - lr: 0.0010 - 69s/epoch - 16ms/step
Epoch 18/75
4378/4378 - 69s - loss: 0.4106 - accuracy: 0.8453 - val_loss: 0.6577 - val_accuracy: 0.7742 - lr: 0.0010 - 69s/epoch - 16ms/step
Epoch 19/75
4378/4378 - 70s - loss: 0.4125 - accuracy: 0.8453 - val_loss: 0.6237 - val_accuracy: 0.7760 - lr: 0.0010 - 70s/epoch - 16ms/step
Epoch 20/75
4378/4378 - 70s - loss: 0.4069 - accuracy: 0.8469 - val_loss: 0.6262 - val_accuracy: 0.7797 - lr: 0.0010 - 70s/epoch - 16ms/step
Epoch 21/75
4378/4378 - 69s - loss: 0.4075 - accuracy: 0.8467 - val_loss: 0.6088 - val_accuracy: 0.7904 - lr: 0.0010 - 69s/epoch - 16ms/step
Epoch 22/75
4378/4378 - 70s - loss: 0.4106 - accuracy: 0.8464 - val_loss: 0.6352 - val_accuracy: 0.7857 - lr: 0.0010 - 70s/epoch - 16ms/step
Epoch 23/75
4378/4378 - 69s - loss: 0.4078 - accuracy: 0.8465 - val_loss: 0.6875 - val_accuracy: 0.7680 - lr: 0.0010 - 69s/epoch - 16ms/step
Epoch 24/75
4378/4378 - 69s - loss: 0.4079 - accuracy: 0.8461 - val_loss: 0.6223 - val_accuracy: 0.7905 - lr: 0.0010 - 69s/epoch - 16ms/step
Epoch 25/75
4378/4378 - 69s - loss: 0.4040 - accuracy: 0.8477 - val_loss: 0.6206 - val_accuracy: 0.7912 - lr: 0.0010 - 69s/epoch - 16ms/step
Epoch 26/75
4378/4378 - 70s - loss: 0.4065 - accuracy: 0.8470 - val_loss: 0.6938 - val_accuracy: 0.7673 - lr: 0.0010 - 70s/epoch - 16ms/step
Epoch 27/75
4378/4378 - 70s - loss: 0.4082 - accuracy: 0.8467 - val_loss: 0.6485 - val_accuracy: 0.7799 - lr: 0.0010 - 70s/epoch - 16ms/step
Epoch 28/75
4378/4378 - 70s - loss: 0.4032 - accuracy: 0.8490 - val_loss: 0.6337 - val_accuracy: 0.7845 - lr: 0.0010 - 70s/epoch - 16ms/step
Epoch 29/75
4378/4378 - 70s - loss: 0.4072 - accuracy: 0.8472 - val_loss: 0.6119 - val_accuracy: 0.7859 - lr: 0.0010 - 70s/epoch - 16ms/step
Epoch 30/75
4378/4378 - 70s - loss: 0.4080 - accuracy: 0.8467 - val_loss: 0.6516 - val_accuracy: 0.7767 - lr: 0.0010 - 70s/epoch - 16ms/step
Epoch 31/75
4378/4378 - 69s - loss: 0.4031 - accuracy: 0.8497 - val_loss: 0.6423 - val_accuracy: 0.7812 - lr: 0.0010 - 69s/epoch - 16ms/step
Epoch 32/75
4378/4378 - 70s - loss: 0.3997 - accuracy: 0.8512 - val_loss: 0.6513 - val_accuracy: 0.7824 - lr: 0.0010 - 70s/epoch - 16ms/step
Epoch 33/75
4378/4378 - 70s - loss: 0.4008 - accuracy: 0.8495 - val_loss: 0.6501 - val_accuracy: 0.7869 - lr: 0.0010 - 70s/epoch - 16ms/step
Epoch 34/75
4378/4378 - 69s - loss: 0.4036 - accuracy: 0.8486 - val_loss: 0.6420 - val_accuracy: 0.7847 - lr: 0.0010 - 69s/epoch - 16ms/step
Epoch 35/75
4378/4378 - 69s - loss: 0.4024 - accuracy: 0.8492 - val_loss: 0.6584 - val_accuracy: 0.7817 - lr: 0.0010 - 69s/epoch - 16ms/step
Epoch 36/75
4378/4378 - 69s - loss: 0.3987 - accuracy: 0.8505 - val_loss: 0.6835 - val_accuracy: 0.7739 - lr: 0.0010 - 69s/epoch - 16ms/step
Epoch 37/75
4378/4378 - 70s - loss: 0.3985 - accuracy: 0.8509 - val_loss: 0.6749 - val_accuracy: 0.7647 - lr: 0.0010 - 70s/epoch - 16ms/step
Epoch 38/75
4378/4378 - 69s - loss: 0.4000 - accuracy: 0.8512 - val_loss: 0.6459 - val_accuracy: 0.7775 - lr: 0.0010 - 69s/epoch - 16ms/step
Epoch 39/75
4378/4378 - 69s - loss: 0.4031 - accuracy: 0.8487 - val_loss: 0.6759 - val_accuracy: 0.7659 - lr: 0.0010 - 69s/epoch - 16ms/step
Epoch 40/75
4378/4378 - 70s - loss: 0.3975 - accuracy: 0.8511 - val_loss: 0.5794 - val_accuracy: 0.8093 - lr: 0.0010 - 70s/epoch - 16ms/step
Epoch 41/75
4378/4378 - 70s - loss: 0.3973 - accuracy: 0.8502 - val_loss: 0.6624 - val_accuracy: 0.7735 - lr: 0.0010 - 70s/epoch - 16ms/step
Epoch 42/75
4378/4378 - 69s - loss: 0.3946 - accuracy: 0.8522 - val_loss: 0.6750 - val_accuracy: 0.7663 - lr: 0.0010 - 69s/epoch - 16ms/step
Epoch 43/75
4378/4378 - 70s - loss: 0.3986 - accuracy: 0.8510 - val_loss: 0.6035 - val_accuracy: 0.7930 - lr: 0.0010 - 70s/epoch - 16ms/step
Epoch 44/75
4378/4378 - 69s - loss: 0.4001 - accuracy: 0.8493 - val_loss: 0.6380 - val_accuracy: 0.7752 - lr: 0.0010 - 69s/epoch - 16ms/step
Epoch 45/75
4378/4378 - 70s - loss: 0.3966 - accuracy: 0.8511 - val_loss: 0.6398 - val_accuracy: 0.7887 - lr: 0.0010 - 70s/epoch - 16ms/step
Epoch 46/75
4378/4378 - 70s - loss: 0.3946 - accuracy: 0.8518 - val_loss: 0.6469 - val_accuracy: 0.7950 - lr: 0.0010 - 70s/epoch - 16ms/step
Epoch 47/75
4378/4378 - 70s - loss: 0.3946 - accuracy: 0.8523 - val_loss: 0.6611 - val_accuracy: 0.7858 - lr: 0.0010 - 70s/epoch - 16ms/step
Epoch 48/75
4378/4378 - 70s - loss: 0.3943 - accuracy: 0.8520 - val_loss: 0.6788 - val_accuracy: 0.7773 - lr: 0.0010 - 70s/epoch - 16ms/step
Epoch 49/75
4378/4378 - 69s - loss: 0.3938 - accuracy: 0.8519 - val_loss: 0.6652 - val_accuracy: 0.7729 - lr: 0.0010 - 69s/epoch - 16ms/step
Epoch 50/75
4378/4378 - 70s - loss: 0.3936 - accuracy: 0.8516 - val_loss: 0.6682 - val_accuracy: 0.7705 - lr: 0.0010 - 70s/epoch - 16ms/step
Epoch 51/75
4378/4378 - 70s - loss: 0.3935 - accuracy: 0.8528 - val_loss: 0.6437 - val_accuracy: 0.7852 - lr: 0.0010 - 70s/epoch - 16ms/step
Epoch 52/75
4378/4378 - 70s - loss: 0.3946 - accuracy: 0.8525 - val_loss: 0.6884 - val_accuracy: 0.7772 - lr: 0.0010 - 70s/epoch - 16ms/step
Epoch 53/75
4378/4378 - 70s - loss: 0.3892 - accuracy: 0.8552 - val_loss: 0.5580 - val_accuracy: 0.8061 - lr: 0.0010 - 70s/epoch - 16ms/step
Epoch 54/75
4378/4378 - 70s - loss: 0.3935 - accuracy: 0.8525 - val_loss: 0.6208 - val_accuracy: 0.7932 - lr: 0.0010 - 70s/epoch - 16ms/step
Epoch 55/75
4378/4378 - 70s - loss: 0.3918 - accuracy: 0.8530 - val_loss: 0.7177 - val_accuracy: 0.7613 - lr: 0.0010 - 70s/epoch - 16ms/step
Epoch 56/75
4378/4378 - 69s - loss: 0.3908 - accuracy: 0.8536 - val_loss: 0.7182 - val_accuracy: 0.7593 - lr: 0.0010 - 69s/epoch - 16ms/step
Epoch 57/75
4378/4378 - 69s - loss: 0.3879 - accuracy: 0.8556 - val_loss: 0.6927 - val_accuracy: 0.7721 - lr: 0.0010 - 69s/epoch - 16ms/step
Epoch 58/75
4378/4378 - 70s - loss: 0.3876 - accuracy: 0.8544 - val_loss: 0.6485 - val_accuracy: 0.7819 - lr: 0.0010 - 70s/epoch - 16ms/step
Epoch 59/75
4378/4378 - 70s - loss: 0.3909 - accuracy: 0.8536 - val_loss: 0.6414 - val_accuracy: 0.7787 - lr: 0.0010 - 70s/epoch - 16ms/step
Epoch 60/75
4378/4378 - 70s - loss: 0.3880 - accuracy: 0.8552 - val_loss: 0.6483 - val_accuracy: 0.7770 - lr: 0.0010 - 70s/epoch - 16ms/step
Epoch 61/75
4378/4378 - 70s - loss: 0.3881 - accuracy: 0.8550 - val_loss: 0.6984 - val_accuracy: 0.7742 - lr: 0.0010 - 70s/epoch - 16ms/step
Epoch 62/75
4378/4378 - 70s - loss: 0.3880 - accuracy: 0.8541 - val_loss: 0.6682 - val_accuracy: 0.7675 - lr: 0.0010 - 70s/epoch - 16ms/step
Epoch 63/75
4378/4378 - 70s - loss: 0.3841 - accuracy: 0.8561 - val_loss: 0.6297 - val_accuracy: 0.7895 - lr: 0.0010 - 70s/epoch - 16ms/step
Epoch 64/75
4378/4378 - 69s - loss: 0.3868 - accuracy: 0.8550 - val_loss: 0.6333 - val_accuracy: 0.7877 - lr: 0.0010 - 69s/epoch - 16ms/step
Epoch 65/75
4378/4378 - 70s - loss: 0.3863 - accuracy: 0.8552 - val_loss: 0.6121 - val_accuracy: 0.7927 - lr: 0.0010 - 70s/epoch - 16ms/step
Epoch 66/75
4378/4378 - 70s - loss: 0.3880 - accuracy: 0.8553 - val_loss: 0.6892 - val_accuracy: 0.7708 - lr: 0.0010 - 70s/epoch - 16ms/step
Epoch 67/75
4378/4378 - 70s - loss: 0.3826 - accuracy: 0.8564 - val_loss: 0.6853 - val_accuracy: 0.7665 - lr: 0.0010 - 70s/epoch - 16ms/step
Epoch 68/75
4378/4378 - 70s - loss: 0.3837 - accuracy: 0.8563 - val_loss: 0.6437 - val_accuracy: 0.7900 - lr: 0.0010 - 70s/epoch - 16ms/step
Epoch 69/75
4378/4378 - 69s - loss: 0.3833 - accuracy: 0.8570 - val_loss: 0.6765 - val_accuracy: 0.7780 - lr: 0.0010 - 69s/epoch - 16ms/step
Epoch 70/75
4378/4378 - 70s - loss: 0.3814 - accuracy: 0.8577 - val_loss: 0.6854 - val_accuracy: 0.7745 - lr: 0.0010 - 70s/epoch - 16ms/step
Epoch 71/75
4378/4378 - 70s - loss: 0.3806 - accuracy: 0.8575 - val_loss: 0.6697 - val_accuracy: 0.7817 - lr: 0.0010 - 70s/epoch - 16ms/step
Epoch 72/75
4378/4378 - 70s - loss: 0.3851 - accuracy: 0.8567 - val_loss: 0.7102 - val_accuracy: 0.7658 - lr: 0.0010 - 70s/epoch - 16ms/step
Epoch 73/75
4378/4378 - 70s - loss: 0.3796 - accuracy: 0.8573 - val_loss: 0.5914 - val_accuracy: 0.8023 - lr: 0.0010 - 70s/epoch - 16ms/step
Epoch 74/75
4378/4378 - 69s - loss: 0.3800 - accuracy: 0.8582 - val_loss: 0.5951 - val_accuracy: 0.8014 - lr: 0.0010 - 69s/epoch - 16ms/step
Epoch 75/75
4378/4378 - 70s - loss: 0.3801 - accuracy: 0.8592 - val_loss: 0.7454 - val_accuracy: 0.7535 - lr: 0.0010 - 70s/epoch - 16ms/step
Epoch 1/75
876/876 - 20s - loss: 0.3051 - accuracy: 0.8869 - val_loss: 0.6936 - val_accuracy: 0.7779 - lr: 0.0010 - 20s/epoch - 22ms/step
Epoch 2/75
876/876 - 17s - loss: 0.3121 - accuracy: 0.8839 - val_loss: 0.7535 - val_accuracy: 0.7638 - lr: 0.0010 - 17s/epoch - 20ms/step
Epoch 3/75
876/876 - 17s - loss: 0.3147 - accuracy: 0.8818 - val_loss: 0.7039 - val_accuracy: 0.7822 - lr: 0.0010 - 17s/epoch - 20ms/step
Epoch 4/75
876/876 - 17s - loss: 0.3089 - accuracy: 0.8864 - val_loss: 0.7215 - val_accuracy: 0.7713 - lr: 0.0010 - 17s/epoch - 20ms/step
Epoch 5/75
876/876 - 17s - loss: 0.3100 - accuracy: 0.8838 - val_loss: 0.6960 - val_accuracy: 0.7795 - lr: 0.0010 - 17s/epoch - 20ms/step
Epoch 6/75
876/876 - 17s - loss: 0.3049 - accuracy: 0.8871 - val_loss: 0.7111 - val_accuracy: 0.7838 - lr: 0.0010 - 17s/epoch - 20ms/step
Epoch 7/75
876/876 - 17s - loss: 0.3016 - accuracy: 0.8873 - val_loss: 0.7151 - val_accuracy: 0.7825 - lr: 0.0010 - 17s/epoch - 20ms/step
Epoch 8/75
876/876 - 17s - loss: 0.3004 - accuracy: 0.8877 - val_loss: 0.7533 - val_accuracy: 0.7687 - lr: 0.0010 - 17s/epoch - 20ms/step
Epoch 9/75
876/876 - 17s - loss: 0.3020 - accuracy: 0.8875 - val_loss: 0.7222 - val_accuracy: 0.7847 - lr: 0.0010 - 17s/epoch - 20ms/step
Epoch 10/75
876/876 - 17s - loss: 0.3014 - accuracy: 0.8880 - val_loss: 0.6775 - val_accuracy: 0.7965 - lr: 0.0010 - 17s/epoch - 20ms/step
Epoch 11/75
876/876 - 17s - loss: 0.2979 - accuracy: 0.8894 - val_loss: 0.7799 - val_accuracy: 0.7705 - lr: 0.0010 - 17s/epoch - 20ms/step
Epoch 12/75
876/876 - 17s - loss: 0.2994 - accuracy: 0.8882 - val_loss: 0.7645 - val_accuracy: 0.7731 - lr: 0.0010 - 17s/epoch - 20ms/step
Epoch 13/75
876/876 - 17s - loss: 0.2986 - accuracy: 0.8894 - val_loss: 0.7656 - val_accuracy: 0.7812 - lr: 0.0010 - 17s/epoch - 20ms/step
Epoch 14/75
876/876 - 17s - loss: 0.2954 - accuracy: 0.8903 - val_loss: 0.7939 - val_accuracy: 0.7652 - lr: 0.0010 - 17s/epoch - 20ms/step
Epoch 15/75
876/876 - 17s - loss: 0.2939 - accuracy: 0.8900 - val_loss: 0.8216 - val_accuracy: 0.7634 - lr: 0.0010 - 17s/epoch - 20ms/step
Epoch 16/75
876/876 - 17s - loss: 0.2921 - accuracy: 0.8918 - val_loss: 0.7420 - val_accuracy: 0.7795 - lr: 0.0010 - 17s/epoch - 20ms/step
Epoch 17/75
876/876 - 17s - loss: 0.2923 - accuracy: 0.8914 - val_loss: 0.7178 - val_accuracy: 0.7869 - lr: 0.0010 - 17s/epoch - 20ms/step
Epoch 18/75
876/876 - 17s - loss: 0.2920 - accuracy: 0.8905 - val_loss: 0.7830 - val_accuracy: 0.7740 - lr: 0.0010 - 17s/epoch - 20ms/step
Epoch 19/75
876/876 - 17s - loss: 0.2894 - accuracy: 0.8920 - val_loss: 0.7553 - val_accuracy: 0.7816 - lr: 0.0010 - 17s/epoch - 20ms/step
Epoch 20/75
876/876 - 17s - loss: 0.2910 - accuracy: 0.8919 - val_loss: 0.7555 - val_accuracy: 0.7791 - lr: 0.0010 - 17s/epoch - 20ms/step
Epoch 21/75
876/876 - 17s - loss: 0.2891 - accuracy: 0.8927 - val_loss: 0.7609 - val_accuracy: 0.7722 - lr: 0.0010 - 17s/epoch - 20ms/step
Epoch 22/75
876/876 - 17s - loss: 0.2901 - accuracy: 0.8930 - val_loss: 0.7739 - val_accuracy: 0.7695 - lr: 0.0010 - 17s/epoch - 20ms/step
Epoch 23/75
876/876 - 17s - loss: 0.2878 - accuracy: 0.8928 - val_loss: 0.7910 - val_accuracy: 0.7730 - lr: 0.0010 - 17s/epoch - 20ms/step
Epoch 24/75
876/876 - 17s - loss: 0.2853 - accuracy: 0.8946 - val_loss: 0.7232 - val_accuracy: 0.7846 - lr: 0.0010 - 17s/epoch - 20ms/step
Epoch 25/75
876/876 - 19s - loss: 0.2848 - accuracy: 0.8947 - val_loss: 0.7841 - val_accuracy: 0.7775 - lr: 0.0010 - 19s/epoch - 21ms/step
Epoch 26/75
876/876 - 18s - loss: 0.2861 - accuracy: 0.8938 - val_loss: 0.7910 - val_accuracy: 0.7737 - lr: 0.0010 - 18s/epoch - 21ms/step
Epoch 27/75
876/876 - 17s - loss: 0.2826 - accuracy: 0.8945 - val_loss: 0.7862 - val_accuracy: 0.7744 - lr: 0.0010 - 17s/epoch - 20ms/step
Epoch 28/75
876/876 - 17s - loss: 0.2796 - accuracy: 0.8953 - val_loss: 0.8534 - val_accuracy: 0.7558 - lr: 0.0010 - 17s/epoch - 20ms/step
Epoch 29/75
876/876 - 17s - loss: 0.2829 - accuracy: 0.8954 - val_loss: 0.7625 - val_accuracy: 0.7783 - lr: 0.0010 - 17s/epoch - 20ms/step
Epoch 30/75
876/876 - 17s - loss: 0.2846 - accuracy: 0.8941 - val_loss: 0.7390 - val_accuracy: 0.7869 - lr: 0.0010 - 17s/epoch - 20ms/step
Epoch 31/75
876/876 - 17s - loss: 0.2799 - accuracy: 0.8956 - val_loss: 0.7704 - val_accuracy: 0.7765 - lr: 0.0010 - 17s/epoch - 20ms/step
Epoch 32/75
876/876 - 17s - loss: 0.2825 - accuracy: 0.8950 - val_loss: 0.7785 - val_accuracy: 0.7781 - lr: 0.0010 - 17s/epoch - 20ms/step
Epoch 33/75
876/876 - 17s - loss: 0.2794 - accuracy: 0.8964 - val_loss: 0.8273 - val_accuracy: 0.7673 - lr: 0.0010 - 17s/epoch - 20ms/step
Epoch 34/75
876/876 - 17s - loss: 0.2779 - accuracy: 0.8974 - val_loss: 0.8408 - val_accuracy: 0.7652 - lr: 0.0010 - 17s/epoch - 20ms/step
Epoch 35/75
876/876 - 17s - loss: 0.2776 - accuracy: 0.8965 - val_loss: 0.7972 - val_accuracy: 0.7717 - lr: 0.0010 - 17s/epoch - 20ms/step
Epoch 36/75
876/876 - 17s - loss: 0.2803 - accuracy: 0.8955 - val_loss: 0.7812 - val_accuracy: 0.7779 - lr: 0.0010 - 17s/epoch - 20ms/step
Epoch 37/75
876/876 - 17s - loss: 0.2781 - accuracy: 0.8969 - val_loss: 0.8062 - val_accuracy: 0.7743 - lr: 0.0010 - 17s/epoch - 20ms/step
Epoch 38/75
876/876 - 17s - loss: 0.2787 - accuracy: 0.8961 - val_loss: 0.7676 - val_accuracy: 0.7814 - lr: 0.0010 - 17s/epoch - 20ms/step
Epoch 39/75
876/876 - 17s - loss: 0.2775 - accuracy: 0.8962 - val_loss: 0.7976 - val_accuracy: 0.7707 - lr: 0.0010 - 17s/epoch - 20ms/step
Epoch 40/75
876/876 - 17s - loss: 0.2766 - accuracy: 0.8974 - val_loss: 0.7466 - val_accuracy: 0.7889 - lr: 0.0010 - 17s/epoch - 20ms/step
Epoch 41/75
876/876 - 17s - loss: 0.2778 - accuracy: 0.8964 - val_loss: 0.7744 - val_accuracy: 0.7810 - lr: 0.0010 - 17s/epoch - 20ms/step
Epoch 42/75
876/876 - 17s - loss: 0.2785 - accuracy: 0.8961 - val_loss: 0.8165 - val_accuracy: 0.7732 - lr: 0.0010 - 17s/epoch - 20ms/step
Epoch 43/75
876/876 - 17s - loss: 0.2748 - accuracy: 0.8973 - val_loss: 0.7636 - val_accuracy: 0.7845 - lr: 0.0010 - 17s/epoch - 20ms/step
Epoch 44/75
876/876 - 17s - loss: 0.2732 - accuracy: 0.8967 - val_loss: 0.7677 - val_accuracy: 0.7840 - lr: 0.0010 - 17s/epoch - 20ms/step
Epoch 45/75
876/876 - 17s - loss: 0.2742 - accuracy: 0.8978 - val_loss: 0.8383 - val_accuracy: 0.7670 - lr: 0.0010 - 17s/epoch - 20ms/step
Epoch 46/75
876/876 - 17s - loss: 0.2757 - accuracy: 0.8978 - val_loss: 0.8834 - val_accuracy: 0.7611 - lr: 0.0010 - 17s/epoch - 20ms/step
Epoch 47/75
876/876 - 17s - loss: 0.2768 - accuracy: 0.8979 - val_loss: 0.7888 - val_accuracy: 0.7754 - lr: 0.0010 - 17s/epoch - 20ms/step
Epoch 48/75
876/876 - 17s - loss: 0.2727 - accuracy: 0.8983 - val_loss: 0.8166 - val_accuracy: 0.7677 - lr: 0.0010 - 17s/epoch - 20ms/step
Epoch 49/75
876/876 - 17s - loss: 0.2713 - accuracy: 0.8990 - val_loss: 0.8250 - val_accuracy: 0.7749 - lr: 0.0010 - 17s/epoch - 20ms/step
Epoch 50/75
876/876 - 17s - loss: 0.2737 - accuracy: 0.8986 - val_loss: 0.8270 - val_accuracy: 0.7656 - lr: 0.0010 - 17s/epoch - 20ms/step
Epoch 51/75
876/876 - 17s - loss: 0.2716 - accuracy: 0.9002 - val_loss: 0.7850 - val_accuracy: 0.7725 - lr: 0.0010 - 17s/epoch - 20ms/step
Epoch 52/75
876/876 - 17s - loss: 0.2718 - accuracy: 0.8992 - val_loss: 0.8187 - val_accuracy: 0.7674 - lr: 0.0010 - 17s/epoch - 20ms/step
Epoch 53/75
876/876 - 17s - loss: 0.2662 - accuracy: 0.9011 - val_loss: 0.8553 - val_accuracy: 0.7664 - lr: 0.0010 - 17s/epoch - 20ms/step
Epoch 54/75
876/876 - 17s - loss: 0.2721 - accuracy: 0.8995 - val_loss: 0.8233 - val_accuracy: 0.7823 - lr: 0.0010 - 17s/epoch - 20ms/step
Epoch 55/75
876/876 - 17s - loss: 0.2682 - accuracy: 0.8999 - val_loss: 0.7382 - val_accuracy: 0.7950 - lr: 0.0010 - 17s/epoch - 20ms/step
Epoch 56/75
876/876 - 17s - loss: 0.2745 - accuracy: 0.8966 - val_loss: 0.8244 - val_accuracy: 0.7807 - lr: 0.0010 - 17s/epoch - 20ms/step
Epoch 57/75
876/876 - 17s - loss: 0.2702 - accuracy: 0.8984 - val_loss: 0.7787 - val_accuracy: 0.7837 - lr: 0.0010 - 17s/epoch - 20ms/step
Epoch 58/75
876/876 - 17s - loss: 0.2695 - accuracy: 0.8997 - val_loss: 0.8707 - val_accuracy: 0.7653 - lr: 0.0010 - 17s/epoch - 20ms/step
Epoch 59/75
876/876 - 17s - loss: 0.2647 - accuracy: 0.9015 - val_loss: 0.8168 - val_accuracy: 0.7762 - lr: 0.0010 - 17s/epoch - 20ms/step
Epoch 60/75
876/876 - 17s - loss: 0.2645 - accuracy: 0.9020 - val_loss: 0.8755 - val_accuracy: 0.7649 - lr: 0.0010 - 17s/epoch - 20ms/step
Epoch 61/75
876/876 - 17s - loss: 0.2681 - accuracy: 0.9005 - val_loss: 0.7927 - val_accuracy: 0.7886 - lr: 0.0010 - 17s/epoch - 20ms/step
Epoch 62/75
876/876 - 17s - loss: 0.2665 - accuracy: 0.9008 - val_loss: 0.9239 - val_accuracy: 0.7490 - lr: 0.0010 - 17s/epoch - 20ms/step
Epoch 63/75
876/876 - 17s - loss: 0.2683 - accuracy: 0.9004 - val_loss: 0.8304 - val_accuracy: 0.7802 - lr: 0.0010 - 17s/epoch - 20ms/step
Epoch 64/75
876/876 - 17s - loss: 0.2647 - accuracy: 0.9027 - val_loss: 0.8572 - val_accuracy: 0.7687 - lr: 0.0010 - 17s/epoch - 20ms/step
Epoch 65/75
876/876 - 17s - loss: 0.2659 - accuracy: 0.9013 - val_loss: 0.9222 - val_accuracy: 0.7573 - lr: 0.0010 - 17s/epoch - 20ms/step
Epoch 66/75
876/876 - 17s - loss: 0.2654 - accuracy: 0.9013 - val_loss: 0.8181 - val_accuracy: 0.7769 - lr: 0.0010 - 17s/epoch - 20ms/step
Epoch 67/75
876/876 - 17s - loss: 0.2647 - accuracy: 0.9017 - val_loss: 0.7570 - val_accuracy: 0.7913 - lr: 0.0010 - 17s/epoch - 20ms/step
Epoch 68/75
876/876 - 17s - loss: 0.2657 - accuracy: 0.9008 - val_loss: 0.7710 - val_accuracy: 0.7878 - lr: 0.0010 - 17s/epoch - 20ms/step
Epoch 69/75
876/876 - 17s - loss: 0.2643 - accuracy: 0.9023 - val_loss: 0.9252 - val_accuracy: 0.7498 - lr: 0.0010 - 17s/epoch - 20ms/step
Epoch 70/75
876/876 - 17s - loss: 0.2642 - accuracy: 0.9015 - val_loss: 0.8050 - val_accuracy: 0.7798 - lr: 0.0010 - 17s/epoch - 20ms/step
Epoch 71/75
876/876 - 17s - loss: 0.2613 - accuracy: 0.9033 - val_loss: 0.8723 - val_accuracy: 0.7682 - lr: 0.0010 - 17s/epoch - 20ms/step
Epoch 72/75
876/876 - 17s - loss: 0.2657 - accuracy: 0.9004 - val_loss: 0.9184 - val_accuracy: 0.7531 - lr: 0.0010 - 17s/epoch - 20ms/step
Epoch 73/75
876/876 - 17s - loss: 0.2619 - accuracy: 0.9029 - val_loss: 0.8280 - val_accuracy: 0.7819 - lr: 0.0010 - 17s/epoch - 20ms/step
Epoch 74/75
876/876 - 17s - loss: 0.2670 - accuracy: 0.9011 - val_loss: 0.7989 - val_accuracy: 0.7819 - lr: 0.0010 - 17s/epoch - 20ms/step
Epoch 75/75
876/876 - 17s - loss: 0.2621 - accuracy: 0.9020 - val_loss: 0.8129 - val_accuracy: 0.7858 - lr: 0.0010 - 17s/epoch - 20ms/step
Epoch 1/75
176/176 - 11s - loss: 0.2169 - accuracy: 0.9207 - val_loss: 0.9079 - val_accuracy: 0.7691 - lr: 0.0010 - 11s/epoch - 63ms/step
Epoch 2/75
176/176 - 9s - loss: 0.2060 - accuracy: 0.9250 - val_loss: 0.9105 - val_accuracy: 0.7724 - lr: 0.0010 - 9s/epoch - 50ms/step
Epoch 3/75
176/176 - 9s - loss: 0.2018 - accuracy: 0.9262 - val_loss: 0.9277 - val_accuracy: 0.7729 - lr: 0.0010 - 9s/epoch - 50ms/step
Epoch 4/75
176/176 - 9s - loss: 0.2000 - accuracy: 0.9275 - val_loss: 0.9928 - val_accuracy: 0.7601 - lr: 0.0010 - 9s/epoch - 50ms/step
Epoch 5/75
176/176 - 9s - loss: 0.2045 - accuracy: 0.9256 - val_loss: 0.9268 - val_accuracy: 0.7763 - lr: 0.0010 - 9s/epoch - 50ms/step
Epoch 6/75
176/176 - 9s - loss: 0.2052 - accuracy: 0.9254 - val_loss: 0.9865 - val_accuracy: 0.7658 - lr: 0.0010 - 9s/epoch - 50ms/step
Epoch 7/75
176/176 - 9s - loss: 0.2071 - accuracy: 0.9241 - val_loss: 1.0329 - val_accuracy: 0.7603 - lr: 0.0010 - 9s/epoch - 51ms/step
Epoch 8/75
176/176 - 9s - loss: 0.2100 - accuracy: 0.9229 - val_loss: 0.9704 - val_accuracy: 0.7680 - lr: 0.0010 - 9s/epoch - 50ms/step
Epoch 9/75
176/176 - 9s - loss: 0.2099 - accuracy: 0.9230 - val_loss: 1.0210 - val_accuracy: 0.7622 - lr: 0.0010 - 9s/epoch - 50ms/step
Epoch 10/75
176/176 - 9s - loss: 0.2096 - accuracy: 0.9234 - val_loss: 0.9985 - val_accuracy: 0.7658 - lr: 0.0010 - 9s/epoch - 50ms/step
Epoch 11/75
176/176 - 9s - loss: 0.2043 - accuracy: 0.9257 - val_loss: 1.0688 - val_accuracy: 0.7626 - lr: 0.0010 - 9s/epoch - 50ms/step
Epoch 12/75
176/176 - 9s - loss: 0.2056 - accuracy: 0.9246 - val_loss: 0.9633 - val_accuracy: 0.7793 - lr: 0.0010 - 9s/epoch - 50ms/step
Epoch 13/75
176/176 - 9s - loss: 0.2117 - accuracy: 0.9230 - val_loss: 1.0033 - val_accuracy: 0.7685 - lr: 0.0010 - 9s/epoch - 50ms/step
Epoch 14/75
176/176 - 9s - loss: 0.2079 - accuracy: 0.9240 - val_loss: 0.9967 - val_accuracy: 0.7684 - lr: 0.0010 - 9s/epoch - 50ms/step
Epoch 15/75
176/176 - 9s - loss: 0.2065 - accuracy: 0.9240 - val_loss: 1.0197 - val_accuracy: 0.7673 - lr: 0.0010 - 9s/epoch - 50ms/step
Epoch 16/75
176/176 - 9s - loss: 0.2089 - accuracy: 0.9235 - val_loss: 1.0022 - val_accuracy: 0.7769 - lr: 0.0010 - 9s/epoch - 50ms/step
Epoch 17/75
176/176 - 9s - loss: 0.2070 - accuracy: 0.9241 - val_loss: 1.0551 - val_accuracy: 0.7648 - lr: 0.0010 - 9s/epoch - 50ms/step
Epoch 18/75
176/176 - 9s - loss: 0.2050 - accuracy: 0.9244 - val_loss: 1.1116 - val_accuracy: 0.7595 - lr: 0.0010 - 9s/epoch - 50ms/step
Epoch 19/75
176/176 - 9s - loss: 0.2032 - accuracy: 0.9259 - val_loss: 1.0212 - val_accuracy: 0.7733 - lr: 0.0010 - 9s/epoch - 50ms/step
Epoch 20/75
176/176 - 9s - loss: 0.2049 - accuracy: 0.9252 - val_loss: 1.0770 - val_accuracy: 0.7697 - lr: 0.0010 - 9s/epoch - 50ms/step
Epoch 21/75
176/176 - 9s - loss: 0.2058 - accuracy: 0.9239 - val_loss: 1.0034 - val_accuracy: 0.7732 - lr: 0.0010 - 9s/epoch - 50ms/step
Epoch 22/75
176/176 - 9s - loss: 0.2038 - accuracy: 0.9261 - val_loss: 1.0244 - val_accuracy: 0.7729 - lr: 0.0010 - 9s/epoch - 50ms/step
Epoch 23/75
176/176 - 9s - loss: 0.2038 - accuracy: 0.9251 - val_loss: 1.0754 - val_accuracy: 0.7650 - lr: 0.0010 - 9s/epoch - 50ms/step
Epoch 24/75
176/176 - 9s - loss: 0.1978 - accuracy: 0.9268 - val_loss: 0.9897 - val_accuracy: 0.7799 - lr: 0.0010 - 9s/epoch - 50ms/step
Epoch 25/75
176/176 - 9s - loss: 0.1992 - accuracy: 0.9281 - val_loss: 1.1181 - val_accuracy: 0.7645 - lr: 0.0010 - 9s/epoch - 50ms/step
Epoch 26/75
176/176 - 9s - loss: 0.1991 - accuracy: 0.9273 - val_loss: 1.0417 - val_accuracy: 0.7764 - lr: 0.0010 - 9s/epoch - 50ms/step
Epoch 27/75
176/176 - 9s - loss: 0.1983 - accuracy: 0.9278 - val_loss: 1.0631 - val_accuracy: 0.7706 - lr: 0.0010 - 9s/epoch - 50ms/step
Epoch 28/75
176/176 - 9s - loss: 0.1952 - accuracy: 0.9286 - val_loss: 1.0481 - val_accuracy: 0.7769 - lr: 0.0010 - 9s/epoch - 50ms/step
Epoch 29/75
176/176 - 9s - loss: 0.1964 - accuracy: 0.9289 - val_loss: 1.0170 - val_accuracy: 0.7827 - lr: 0.0010 - 9s/epoch - 50ms/step
Epoch 30/75
176/176 - 9s - loss: 0.1970 - accuracy: 0.9280 - val_loss: 1.0833 - val_accuracy: 0.7713 - lr: 0.0010 - 9s/epoch - 50ms/step
Epoch 31/75
176/176 - 9s - loss: 0.1954 - accuracy: 0.9282 - val_loss: 1.0677 - val_accuracy: 0.7740 - lr: 0.0010 - 9s/epoch - 50ms/step
Epoch 32/75
176/176 - 9s - loss: 0.1936 - accuracy: 0.9295 - val_loss: 1.0041 - val_accuracy: 0.7815 - lr: 0.0010 - 9s/epoch - 50ms/step
Epoch 33/75
176/176 - 9s - loss: 0.1953 - accuracy: 0.9289 - val_loss: 1.1340 - val_accuracy: 0.7615 - lr: 0.0010 - 9s/epoch - 50ms/step
Epoch 34/75
176/176 - 9s - loss: 0.1960 - accuracy: 0.9288 - val_loss: 1.1215 - val_accuracy: 0.7722 - lr: 0.0010 - 9s/epoch - 50ms/step
Epoch 35/75
176/176 - 9s - loss: 0.1937 - accuracy: 0.9298 - val_loss: 1.0702 - val_accuracy: 0.7740 - lr: 0.0010 - 9s/epoch - 50ms/step
Epoch 36/75
176/176 - 9s - loss: 0.1944 - accuracy: 0.9294 - val_loss: 1.1137 - val_accuracy: 0.7680 - lr: 0.0010 - 9s/epoch - 50ms/step
Epoch 37/75
176/176 - 9s - loss: 0.1958 - accuracy: 0.9279 - val_loss: 1.0577 - val_accuracy: 0.7793 - lr: 0.0010 - 9s/epoch - 50ms/step
Epoch 38/75
176/176 - 9s - loss: 0.1971 - accuracy: 0.9275 - val_loss: 1.1028 - val_accuracy: 0.7702 - lr: 0.0010 - 9s/epoch - 50ms/step
Epoch 39/75
176/176 - 9s - loss: 0.1987 - accuracy: 0.9266 - val_loss: 1.1686 - val_accuracy: 0.7628 - lr: 0.0010 - 9s/epoch - 50ms/step
Epoch 40/75
176/176 - 9s - loss: 0.1952 - accuracy: 0.9281 - val_loss: 1.0786 - val_accuracy: 0.7787 - lr: 0.0010 - 9s/epoch - 50ms/step
Epoch 41/75
176/176 - 9s - loss: 0.1926 - accuracy: 0.9297 - val_loss: 1.1677 - val_accuracy: 0.7700 - lr: 0.0010 - 9s/epoch - 50ms/step
Epoch 42/75
176/176 - 9s - loss: 0.1891 - accuracy: 0.9316 - val_loss: 1.1643 - val_accuracy: 0.7672 - lr: 0.0010 - 9s/epoch - 50ms/step
Epoch 43/75
176/176 - 9s - loss: 0.1928 - accuracy: 0.9288 - val_loss: 1.1543 - val_accuracy: 0.7696 - lr: 0.0010 - 9s/epoch - 50ms/step
Epoch 44/75
176/176 - 9s - loss: 0.1966 - accuracy: 0.9287 - val_loss: 1.1397 - val_accuracy: 0.7644 - lr: 0.0010 - 9s/epoch - 50ms/step
Epoch 45/75
176/176 - 9s - loss: 0.1990 - accuracy: 0.9274 - val_loss: 1.1858 - val_accuracy: 0.7536 - lr: 0.0010 - 9s/epoch - 50ms/step
Epoch 46/75
176/176 - 9s - loss: 0.1937 - accuracy: 0.9295 - val_loss: 1.0920 - val_accuracy: 0.7730 - lr: 0.0010 - 9s/epoch - 50ms/step
Epoch 47/75
176/176 - 9s - loss: 0.1922 - accuracy: 0.9297 - val_loss: 1.1041 - val_accuracy: 0.7712 - lr: 0.0010 - 9s/epoch - 50ms/step
Epoch 48/75
176/176 - 9s - loss: 0.1927 - accuracy: 0.9297 - val_loss: 1.1092 - val_accuracy: 0.7718 - lr: 0.0010 - 9s/epoch - 50ms/step
Epoch 49/75
176/176 - 9s - loss: 0.1893 - accuracy: 0.9310 - val_loss: 1.1750 - val_accuracy: 0.7640 - lr: 0.0010 - 9s/epoch - 51ms/step
Epoch 50/75
176/176 - 9s - loss: 0.1942 - accuracy: 0.9296 - val_loss: 1.1697 - val_accuracy: 0.7637 - lr: 0.0010 - 9s/epoch - 50ms/step
Epoch 51/75
176/176 - 9s - loss: 0.1946 - accuracy: 0.9287 - val_loss: 1.1562 - val_accuracy: 0.7637 - lr: 0.0010 - 9s/epoch - 50ms/step
Epoch 52/75
176/176 - 9s - loss: 0.1925 - accuracy: 0.9301 - val_loss: 1.1439 - val_accuracy: 0.7703 - lr: 0.0010 - 9s/epoch - 50ms/step
Epoch 53/75
176/176 - 9s - loss: 0.1971 - accuracy: 0.9277 - val_loss: 1.0787 - val_accuracy: 0.7743 - lr: 0.0010 - 9s/epoch - 50ms/step
Epoch 54/75
176/176 - 9s - loss: 0.1919 - accuracy: 0.9294 - val_loss: 1.0892 - val_accuracy: 0.7723 - lr: 0.0010 - 9s/epoch - 50ms/step
Epoch 55/75
176/176 - 9s - loss: 0.1901 - accuracy: 0.9309 - val_loss: 1.1180 - val_accuracy: 0.7684 - lr: 0.0010 - 9s/epoch - 50ms/step
Epoch 56/75
176/176 - 9s - loss: 0.1938 - accuracy: 0.9302 - val_loss: 1.0955 - val_accuracy: 0.7767 - lr: 0.0010 - 9s/epoch - 50ms/step
Epoch 57/75
176/176 - 9s - loss: 0.1939 - accuracy: 0.9292 - val_loss: 1.2435 - val_accuracy: 0.7546 - lr: 0.0010 - 9s/epoch - 50ms/step
Epoch 58/75
176/176 - 9s - loss: 0.1950 - accuracy: 0.9294 - val_loss: 1.1536 - val_accuracy: 0.7678 - lr: 0.0010 - 9s/epoch - 50ms/step
Epoch 59/75
176/176 - 9s - loss: 0.1923 - accuracy: 0.9303 - val_loss: 1.1035 - val_accuracy: 0.7755 - lr: 0.0010 - 9s/epoch - 50ms/step
Epoch 60/75
176/176 - 9s - loss: 0.1882 - accuracy: 0.9316 - val_loss: 1.0808 - val_accuracy: 0.7813 - lr: 0.0010 - 9s/epoch - 50ms/step
Epoch 61/75
176/176 - 9s - loss: 0.1858 - accuracy: 0.9326 - val_loss: 1.1378 - val_accuracy: 0.7698 - lr: 0.0010 - 9s/epoch - 50ms/step
Epoch 62/75
176/176 - 9s - loss: 0.1901 - accuracy: 0.9312 - val_loss: 1.1742 - val_accuracy: 0.7691 - lr: 0.0010 - 9s/epoch - 50ms/step
Epoch 63/75
176/176 - 9s - loss: 0.1899 - accuracy: 0.9312 - val_loss: 1.2098 - val_accuracy: 0.7580 - lr: 0.0010 - 9s/epoch - 50ms/step
Epoch 64/75
176/176 - 9s - loss: 0.1896 - accuracy: 0.9310 - val_loss: 1.1715 - val_accuracy: 0.7710 - lr: 0.0010 - 9s/epoch - 50ms/step
Epoch 65/75
176/176 - 9s - loss: 0.1928 - accuracy: 0.9293 - val_loss: 1.0607 - val_accuracy: 0.7809 - lr: 0.0010 - 9s/epoch - 50ms/step
Epoch 66/75
176/176 - 9s - loss: 0.1932 - accuracy: 0.9298 - val_loss: 1.1754 - val_accuracy: 0.7649 - lr: 0.0010 - 9s/epoch - 50ms/step
Epoch 67/75
176/176 - 9s - loss: 0.1960 - accuracy: 0.9290 - val_loss: 1.1190 - val_accuracy: 0.7743 - lr: 0.0010 - 9s/epoch - 50ms/step
Epoch 68/75
176/176 - 9s - loss: 0.1891 - accuracy: 0.9318 - val_loss: 1.1290 - val_accuracy: 0.7745 - lr: 0.0010 - 9s/epoch - 50ms/step
Epoch 69/75
176/176 - 9s - loss: 0.1887 - accuracy: 0.9315 - val_loss: 1.2163 - val_accuracy: 0.7649 - lr: 0.0010 - 9s/epoch - 50ms/step
Epoch 70/75
176/176 - 9s - loss: 0.1850 - accuracy: 0.9328 - val_loss: 1.1780 - val_accuracy: 0.7696 - lr: 0.0010 - 9s/epoch - 50ms/step
Epoch 71/75
176/176 - 9s - loss: 0.1876 - accuracy: 0.9324 - val_loss: 1.1491 - val_accuracy: 0.7761 - lr: 0.0010 - 9s/epoch - 50ms/step
Epoch 72/75
176/176 - 9s - loss: 0.1830 - accuracy: 0.9334 - val_loss: 1.1461 - val_accuracy: 0.7745 - lr: 0.0010 - 9s/epoch - 50ms/step
Epoch 73/75
176/176 - 9s - loss: 0.1796 - accuracy: 0.9344 - val_loss: 1.1650 - val_accuracy: 0.7770 - lr: 0.0010 - 9s/epoch - 50ms/step
Epoch 74/75
176/176 - 9s - loss: 0.1784 - accuracy: 0.9352 - val_loss: 1.1369 - val_accuracy: 0.7784 - lr: 0.0010 - 9s/epoch - 50ms/step
Epoch 75/75
176/176 - 9s - loss: 0.1811 - accuracy: 0.9334 - val_loss: 1.2575 - val_accuracy: 0.7618 - lr: 0.0010 - 9s/epoch - 50ms/step
Epoch 1/75
36/36 - 10s - loss: 0.1720 - accuracy: 0.9380 - val_loss: 1.2348 - val_accuracy: 0.7688 - lr: 0.0010 - 10s/epoch - 286ms/step
Epoch 2/75
36/36 - 8s - loss: 0.1614 - accuracy: 0.9422 - val_loss: 1.2366 - val_accuracy: 0.7679 - lr: 0.0010 - 8s/epoch - 212ms/step
Epoch 3/75
36/36 - 8s - loss: 0.1564 - accuracy: 0.9443 - val_loss: 1.2109 - val_accuracy: 0.7702 - lr: 0.0010 - 8s/epoch - 212ms/step
Epoch 4/75
36/36 - 8s - loss: 0.1575 - accuracy: 0.9446 - val_loss: 1.2130 - val_accuracy: 0.7726 - lr: 0.0010 - 8s/epoch - 214ms/step
Epoch 5/75
36/36 - 8s - loss: 0.1550 - accuracy: 0.9439 - val_loss: 1.2323 - val_accuracy: 0.7701 - lr: 0.0010 - 8s/epoch - 213ms/step
Epoch 6/75
36/36 - 8s - loss: 0.1560 - accuracy: 0.9440 - val_loss: 1.2409 - val_accuracy: 0.7704 - lr: 0.0010 - 8s/epoch - 212ms/step
Epoch 7/75
36/36 - 8s - loss: 0.1551 - accuracy: 0.9446 - val_loss: 1.2660 - val_accuracy: 0.7690 - lr: 0.0010 - 8s/epoch - 212ms/step
Epoch 8/75
36/36 - 8s - loss: 0.1590 - accuracy: 0.9433 - val_loss: 1.2617 - val_accuracy: 0.7679 - lr: 0.0010 - 8s/epoch - 213ms/step
Epoch 9/75
36/36 - 8s - loss: 0.1561 - accuracy: 0.9452 - val_loss: 1.2829 - val_accuracy: 0.7653 - lr: 0.0010 - 8s/epoch - 213ms/step
Epoch 10/75
36/36 - 8s - loss: 0.1562 - accuracy: 0.9436 - val_loss: 1.2924 - val_accuracy: 0.7659 - lr: 0.0010 - 8s/epoch - 212ms/step
Epoch 11/75
36/36 - 8s - loss: 0.1522 - accuracy: 0.9457 - val_loss: 1.3130 - val_accuracy: 0.7647 - lr: 0.0010 - 8s/epoch - 213ms/step
Epoch 12/75
36/36 - 8s - loss: 0.1569 - accuracy: 0.9447 - val_loss: 1.2916 - val_accuracy: 0.7677 - lr: 0.0010 - 8s/epoch - 212ms/step
Epoch 13/75
36/36 - 8s - loss: 0.1529 - accuracy: 0.9457 - val_loss: 1.3341 - val_accuracy: 0.7622 - lr: 0.0010 - 8s/epoch - 213ms/step
Epoch 14/75
36/36 - 8s - loss: 0.1565 - accuracy: 0.9444 - val_loss: 1.2938 - val_accuracy: 0.7655 - lr: 0.0010 - 8s/epoch - 213ms/step
Epoch 15/75
36/36 - 8s - loss: 0.1545 - accuracy: 0.9457 - val_loss: 1.3298 - val_accuracy: 0.7656 - lr: 0.0010 - 8s/epoch - 212ms/step
Epoch 16/75
36/36 - 8s - loss: 0.1551 - accuracy: 0.9452 - val_loss: 1.3104 - val_accuracy: 0.7634 - lr: 0.0010 - 8s/epoch - 213ms/step
Epoch 17/75
36/36 - 8s - loss: 0.1532 - accuracy: 0.9449 - val_loss: 1.2952 - val_accuracy: 0.7693 - lr: 0.0010 - 8s/epoch - 214ms/step
Epoch 18/75
36/36 - 8s - loss: 0.1535 - accuracy: 0.9452 - val_loss: 1.3059 - val_accuracy: 0.7689 - lr: 0.0010 - 8s/epoch - 213ms/step
Epoch 19/75
36/36 - 8s - loss: 0.1573 - accuracy: 0.9443 - val_loss: 1.3308 - val_accuracy: 0.7646 - lr: 0.0010 - 8s/epoch - 213ms/step
Epoch 20/75
36/36 - 8s - loss: 0.1542 - accuracy: 0.9449 - val_loss: 1.3111 - val_accuracy: 0.7676 - lr: 0.0010 - 8s/epoch - 214ms/step
Epoch 21/75
36/36 - 8s - loss: 0.1552 - accuracy: 0.9444 - val_loss: 1.3100 - val_accuracy: 0.7666 - lr: 0.0010 - 8s/epoch - 213ms/step
Epoch 22/75
36/36 - 8s - loss: 0.1515 - accuracy: 0.9458 - val_loss: 1.3304 - val_accuracy: 0.7620 - lr: 0.0010 - 8s/epoch - 214ms/step
Epoch 23/75
36/36 - 8s - loss: 0.1541 - accuracy: 0.9450 - val_loss: 1.3247 - val_accuracy: 0.7640 - lr: 0.0010 - 8s/epoch - 214ms/step
Epoch 24/75
36/36 - 8s - loss: 0.1554 - accuracy: 0.9449 - val_loss: 1.3333 - val_accuracy: 0.7651 - lr: 0.0010 - 8s/epoch - 213ms/step
Epoch 25/75
36/36 - 8s - loss: 0.1527 - accuracy: 0.9460 - val_loss: 1.3250 - val_accuracy: 0.7674 - lr: 0.0010 - 8s/epoch - 214ms/step
Epoch 26/75
36/36 - 8s - loss: 0.1517 - accuracy: 0.9460 - val_loss: 1.3284 - val_accuracy: 0.7681 - lr: 0.0010 - 8s/epoch - 214ms/step
Epoch 27/75
36/36 - 8s - loss: 0.1501 - accuracy: 0.9454 - val_loss: 1.3200 - val_accuracy: 0.7684 - lr: 0.0010 - 8s/epoch - 213ms/step
Epoch 28/75
36/36 - 8s - loss: 0.1554 - accuracy: 0.9454 - val_loss: 1.3121 - val_accuracy: 0.7688 - lr: 0.0010 - 8s/epoch - 213ms/step
Epoch 29/75
36/36 - 8s - loss: 0.1534 - accuracy: 0.9453 - val_loss: 1.3150 - val_accuracy: 0.7717 - lr: 0.0010 - 8s/epoch - 213ms/step
Epoch 30/75
36/36 - 8s - loss: 0.1544 - accuracy: 0.9441 - val_loss: 1.3314 - val_accuracy: 0.7708 - lr: 0.0010 - 8s/epoch - 213ms/step
Epoch 31/75
36/36 - 8s - loss: 0.1493 - accuracy: 0.9466 - val_loss: 1.3380 - val_accuracy: 0.7678 - lr: 0.0010 - 8s/epoch - 214ms/step
Epoch 32/75
36/36 - 8s - loss: 0.1505 - accuracy: 0.9457 - val_loss: 1.3699 - val_accuracy: 0.7615 - lr: 0.0010 - 8s/epoch - 214ms/step
Epoch 33/75
36/36 - 8s - loss: 0.1536 - accuracy: 0.9459 - val_loss: 1.3549 - val_accuracy: 0.7637 - lr: 0.0010 - 8s/epoch - 213ms/step
Epoch 34/75
36/36 - 8s - loss: 0.1504 - accuracy: 0.9459 - val_loss: 1.3704 - val_accuracy: 0.7627 - lr: 0.0010 - 8s/epoch - 215ms/step
Epoch 35/75
36/36 - 8s - loss: 0.1523 - accuracy: 0.9457 - val_loss: 1.3565 - val_accuracy: 0.7673 - lr: 0.0010 - 8s/epoch - 213ms/step
Epoch 36/75
36/36 - 8s - loss: 0.1500 - accuracy: 0.9471 - val_loss: 1.3731 - val_accuracy: 0.7655 - lr: 0.0010 - 8s/epoch - 213ms/step
Epoch 37/75
36/36 - 8s - loss: 0.1504 - accuracy: 0.9469 - val_loss: 1.3651 - val_accuracy: 0.7664 - lr: 0.0010 - 8s/epoch - 213ms/step
Epoch 38/75
36/36 - 8s - loss: 0.1527 - accuracy: 0.9456 - val_loss: 1.3550 - val_accuracy: 0.7679 - lr: 0.0010 - 8s/epoch - 214ms/step
Epoch 39/75
36/36 - 8s - loss: 0.1497 - accuracy: 0.9467 - val_loss: 1.3920 - val_accuracy: 0.7638 - lr: 0.0010 - 8s/epoch - 216ms/step
Epoch 40/75
36/36 - 8s - loss: 0.1458 - accuracy: 0.9480 - val_loss: 1.3961 - val_accuracy: 0.7651 - lr: 0.0010 - 8s/epoch - 213ms/step
Epoch 41/75
36/36 - 8s - loss: 0.1498 - accuracy: 0.9471 - val_loss: 1.3965 - val_accuracy: 0.7627 - lr: 0.0010 - 8s/epoch - 213ms/step
Epoch 42/75
36/36 - 8s - loss: 0.1484 - accuracy: 0.9472 - val_loss: 1.3817 - val_accuracy: 0.7659 - lr: 0.0010 - 8s/epoch - 214ms/step
Epoch 43/75
36/36 - 8s - loss: 0.1482 - accuracy: 0.9475 - val_loss: 1.3948 - val_accuracy: 0.7632 - lr: 0.0010 - 8s/epoch - 214ms/step
Epoch 44/75
36/36 - 8s - loss: 0.1514 - accuracy: 0.9456 - val_loss: 1.3886 - val_accuracy: 0.7629 - lr: 0.0010 - 8s/epoch - 214ms/step
Epoch 45/75
36/36 - 8s - loss: 0.1508 - accuracy: 0.9461 - val_loss: 1.3756 - val_accuracy: 0.7655 - lr: 0.0010 - 8s/epoch - 213ms/step
Epoch 46/75
36/36 - 8s - loss: 0.1541 - accuracy: 0.9449 - val_loss: 1.3981 - val_accuracy: 0.7655 - lr: 0.0010 - 8s/epoch - 214ms/step
Epoch 47/75
36/36 - 8s - loss: 0.1494 - accuracy: 0.9471 - val_loss: 1.3647 - val_accuracy: 0.7675 - lr: 0.0010 - 8s/epoch - 214ms/step
Epoch 48/75
36/36 - 8s - loss: 0.1482 - accuracy: 0.9470 - val_loss: 1.3782 - val_accuracy: 0.7680 - lr: 0.0010 - 8s/epoch - 214ms/step
Epoch 49/75
36/36 - 8s - loss: 0.1547 - accuracy: 0.9446 - val_loss: 1.3752 - val_accuracy: 0.7684 - lr: 0.0010 - 8s/epoch - 215ms/step
Epoch 50/75
36/36 - 8s - loss: 0.1487 - accuracy: 0.9466 - val_loss: 1.4009 - val_accuracy: 0.7662 - lr: 0.0010 - 8s/epoch - 213ms/step
Epoch 51/75
36/36 - 8s - loss: 0.1498 - accuracy: 0.9474 - val_loss: 1.4149 - val_accuracy: 0.7621 - lr: 0.0010 - 8s/epoch - 215ms/step
Epoch 52/75
36/36 - 8s - loss: 0.1492 - accuracy: 0.9470 - val_loss: 1.3817 - val_accuracy: 0.7662 - lr: 0.0010 - 8s/epoch - 214ms/step
Epoch 53/75
36/36 - 8s - loss: 0.1488 - accuracy: 0.9469 - val_loss: 1.3756 - val_accuracy: 0.7681 - lr: 0.0010 - 8s/epoch - 213ms/step
Epoch 54/75
36/36 - 8s - loss: 0.1474 - accuracy: 0.9474 - val_loss: 1.4268 - val_accuracy: 0.7635 - lr: 0.0010 - 8s/epoch - 214ms/step
Epoch 55/75
36/36 - 8s - loss: 0.1518 - accuracy: 0.9456 - val_loss: 1.4143 - val_accuracy: 0.7637 - lr: 0.0010 - 8s/epoch - 213ms/step
Epoch 56/75
36/36 - 8s - loss: 0.1447 - accuracy: 0.9487 - val_loss: 1.4113 - val_accuracy: 0.7667 - lr: 0.0010 - 8s/epoch - 214ms/step
Epoch 57/75
36/36 - 8s - loss: 0.1484 - accuracy: 0.9473 - val_loss: 1.4545 - val_accuracy: 0.7579 - lr: 0.0010 - 8s/epoch - 214ms/step
Epoch 58/75
36/36 - 8s - loss: 0.1505 - accuracy: 0.9464 - val_loss: 1.4197 - val_accuracy: 0.7633 - lr: 0.0010 - 8s/epoch - 213ms/step
Epoch 59/75
36/36 - 8s - loss: 0.1497 - accuracy: 0.9468 - val_loss: 1.4081 - val_accuracy: 0.7657 - lr: 0.0010 - 8s/epoch - 214ms/step
Epoch 60/75
36/36 - 8s - loss: 0.1482 - accuracy: 0.9461 - val_loss: 1.4295 - val_accuracy: 0.7650 - lr: 0.0010 - 8s/epoch - 214ms/step
Epoch 61/75
36/36 - 8s - loss: 0.1454 - accuracy: 0.9486 - val_loss: 1.4003 - val_accuracy: 0.7689 - lr: 0.0010 - 8s/epoch - 214ms/step
Epoch 62/75
36/36 - 8s - loss: 0.1469 - accuracy: 0.9477 - val_loss: 1.4245 - val_accuracy: 0.7666 - lr: 0.0010 - 8s/epoch - 214ms/step
Epoch 63/75
36/36 - 8s - loss: 0.1458 - accuracy: 0.9479 - val_loss: 1.4242 - val_accuracy: 0.7671 - lr: 0.0010 - 8s/epoch - 213ms/step
Epoch 64/75
36/36 - 8s - loss: 0.1464 - accuracy: 0.9482 - val_loss: 1.4642 - val_accuracy: 0.7610 - lr: 0.0010 - 8s/epoch - 214ms/step
Epoch 65/75
36/36 - 8s - loss: 0.1496 - accuracy: 0.9473 - val_loss: 1.4658 - val_accuracy: 0.7599 - lr: 0.0010 - 8s/epoch - 214ms/step
Epoch 66/75
36/36 - 8s - loss: 0.1482 - accuracy: 0.9471 - val_loss: 1.3965 - val_accuracy: 0.7690 - lr: 0.0010 - 8s/epoch - 214ms/step
Epoch 67/75
36/36 - 8s - loss: 0.1485 - accuracy: 0.9471 - val_loss: 1.4295 - val_accuracy: 0.7632 - lr: 0.0010 - 8s/epoch - 213ms/step
Epoch 68/75
36/36 - 8s - loss: 0.1484 - accuracy: 0.9475 - val_loss: 1.4629 - val_accuracy: 0.7644 - lr: 0.0010 - 8s/epoch - 214ms/step
Epoch 69/75
36/36 - 8s - loss: 0.1497 - accuracy: 0.9469 - val_loss: 1.4338 - val_accuracy: 0.7664 - lr: 0.0010 - 8s/epoch - 214ms/step
Epoch 70/75
36/36 - 8s - loss: 0.1467 - accuracy: 0.9484 - val_loss: 1.4557 - val_accuracy: 0.7632 - lr: 0.0010 - 8s/epoch - 213ms/step
Epoch 71/75
36/36 - 8s - loss: 0.1476 - accuracy: 0.9484 - val_loss: 1.4510 - val_accuracy: 0.7628 - lr: 0.0010 - 8s/epoch - 213ms/step
Epoch 72/75
36/36 - 8s - loss: 0.1462 - accuracy: 0.9479 - val_loss: 1.4421 - val_accuracy: 0.7649 - lr: 0.0010 - 8s/epoch - 213ms/step
Epoch 73/75
36/36 - 8s - loss: 0.1462 - accuracy: 0.9478 - val_loss: 1.4676 - val_accuracy: 0.7637 - lr: 0.0010 - 8s/epoch - 214ms/step
Epoch 74/75
36/36 - 8s - loss: 0.1492 - accuracy: 0.9470 - val_loss: 1.4289 - val_accuracy: 0.7658 - lr: 0.0010 - 8s/epoch - 214ms/step
Epoch 75/75
36/36 - 8s - loss: 0.1489 - accuracy: 0.9465 - val_loss: 1.4578 - val_accuracy: 0.7619 - lr: 0.0010 - 8s/epoch - 214ms/step
Epoch 1/100
4378/4378 - 71s - loss: 0.3484 - accuracy: 0.8746 - val_loss: 0.7638 - val_accuracy: 0.8061 - lr: 0.0010 - 71s/epoch - 16ms/step
Epoch 2/100
4378/4378 - 69s - loss: 0.3410 - accuracy: 0.8732 - val_loss: 0.7333 - val_accuracy: 0.7819 - lr: 0.0010 - 69s/epoch - 16ms/step
Epoch 3/100
4378/4378 - 69s - loss: 0.3446 - accuracy: 0.8706 - val_loss: 0.7081 - val_accuracy: 0.7903 - lr: 0.0010 - 69s/epoch - 16ms/step
Epoch 4/100
4378/4378 - 69s - loss: 0.3457 - accuracy: 0.8703 - val_loss: 0.7384 - val_accuracy: 0.7832 - lr: 0.0010 - 69s/epoch - 16ms/step
Epoch 5/100
4378/4378 - 69s - loss: 0.3446 - accuracy: 0.8720 - val_loss: 0.7738 - val_accuracy: 0.7677 - lr: 0.0010 - 69s/epoch - 16ms/step
Epoch 6/100
4378/4378 - 69s - loss: 0.3447 - accuracy: 0.8708 - val_loss: 0.8110 - val_accuracy: 0.7469 - lr: 0.0010 - 69s/epoch - 16ms/step
Epoch 7/100
4378/4378 - 69s - loss: 0.3454 - accuracy: 0.8694 - val_loss: 0.6383 - val_accuracy: 0.7994 - lr: 0.0010 - 69s/epoch - 16ms/step
Epoch 8/100
4378/4378 - 69s - loss: 0.3460 - accuracy: 0.8712 - val_loss: 0.6904 - val_accuracy: 0.7788 - lr: 0.0010 - 69s/epoch - 16ms/step
Epoch 9/100
4378/4378 - 69s - loss: 0.3474 - accuracy: 0.8697 - val_loss: 0.8055 - val_accuracy: 0.7513 - lr: 0.0010 - 69s/epoch - 16ms/step
Epoch 10/100
4378/4378 - 69s - loss: 0.3458 - accuracy: 0.8707 - val_loss: 0.6745 - val_accuracy: 0.7854 - lr: 0.0010 - 69s/epoch - 16ms/step
Epoch 11/100
4378/4378 - 69s - loss: 0.3460 - accuracy: 0.8700 - val_loss: 0.7108 - val_accuracy: 0.7731 - lr: 0.0010 - 69s/epoch - 16ms/step
Epoch 12/100
4378/4378 - 69s - loss: 0.3460 - accuracy: 0.8707 - val_loss: 0.7427 - val_accuracy: 0.7661 - lr: 0.0010 - 69s/epoch - 16ms/step
Epoch 13/100
4378/4378 - 69s - loss: 0.3430 - accuracy: 0.8713 - val_loss: 0.7238 - val_accuracy: 0.7770 - lr: 0.0010 - 69s/epoch - 16ms/step
Epoch 14/100
4378/4378 - 69s - loss: 0.3449 - accuracy: 0.8709 - val_loss: 0.6435 - val_accuracy: 0.7963 - lr: 0.0010 - 69s/epoch - 16ms/step
Epoch 15/100
4378/4378 - 69s - loss: 0.3450 - accuracy: 0.8718 - val_loss: 0.7009 - val_accuracy: 0.7831 - lr: 0.0010 - 69s/epoch - 16ms/step
Epoch 16/100
4378/4378 - 69s - loss: 0.3473 - accuracy: 0.8696 - val_loss: 0.6808 - val_accuracy: 0.7785 - lr: 0.0010 - 69s/epoch - 16ms/step
Epoch 17/100
4378/4378 - 69s - loss: 0.3459 - accuracy: 0.8703 - val_loss: 0.6841 - val_accuracy: 0.7803 - lr: 0.0010 - 69s/epoch - 16ms/step
Epoch 18/100
4378/4378 - 69s - loss: 0.3463 - accuracy: 0.8700 - val_loss: 0.7138 - val_accuracy: 0.7703 - lr: 0.0010 - 69s/epoch - 16ms/step
Epoch 19/100
4378/4378 - 69s - loss: 0.3445 - accuracy: 0.8705 - val_loss: 0.6832 - val_accuracy: 0.7788 - lr: 0.0010 - 69s/epoch - 16ms/step
Epoch 20/100
4378/4378 - 69s - loss: 0.3488 - accuracy: 0.8707 - val_loss: 0.6584 - val_accuracy: 0.7896 - lr: 0.0010 - 69s/epoch - 16ms/step
Epoch 21/100
4378/4378 - 69s - loss: 0.3405 - accuracy: 0.8737 - val_loss: 0.7117 - val_accuracy: 0.7752 - lr: 0.0010 - 69s/epoch - 16ms/step
Epoch 22/100
4378/4378 - 71s - loss: 0.3425 - accuracy: 0.8710 - val_loss: 0.8040 - val_accuracy: 0.7443 - lr: 0.0010 - 71s/epoch - 16ms/step
Epoch 23/100
4378/4378 - 69s - loss: 0.3431 - accuracy: 0.8720 - val_loss: 0.7802 - val_accuracy: 0.7575 - lr: 0.0010 - 69s/epoch - 16ms/step
Epoch 24/100
4378/4378 - 69s - loss: 0.3452 - accuracy: 0.8711 - val_loss: 0.7461 - val_accuracy: 0.7621 - lr: 0.0010 - 69s/epoch - 16ms/step
Epoch 25/100
4378/4378 - 69s - loss: 0.3433 - accuracy: 0.8717 - val_loss: 0.7235 - val_accuracy: 0.7725 - lr: 0.0010 - 69s/epoch - 16ms/step
Epoch 26/100
4378/4378 - 69s - loss: 0.3451 - accuracy: 0.8711 - val_loss: 0.6976 - val_accuracy: 0.7802 - lr: 0.0010 - 69s/epoch - 16ms/step
Epoch 27/100
4378/4378 - 69s - loss: 0.3434 - accuracy: 0.8708 - val_loss: 0.7389 - val_accuracy: 0.7717 - lr: 0.0010 - 69s/epoch - 16ms/step
Epoch 28/100
4378/4378 - 69s - loss: 0.3462 - accuracy: 0.8707 - val_loss: 0.6972 - val_accuracy: 0.7837 - lr: 0.0010 - 69s/epoch - 16ms/step
Epoch 29/100
4378/4378 - 69s - loss: 0.3457 - accuracy: 0.8708 - val_loss: 0.7845 - val_accuracy: 0.7482 - lr: 0.0010 - 69s/epoch - 16ms/step
Epoch 30/100
4378/4378 - 69s - loss: 0.3449 - accuracy: 0.8713 - val_loss: 0.6717 - val_accuracy: 0.7943 - lr: 0.0010 - 69s/epoch - 16ms/step
Epoch 31/100
4378/4378 - 69s - loss: 0.3449 - accuracy: 0.8703 - val_loss: 0.7061 - val_accuracy: 0.7762 - lr: 0.0010 - 69s/epoch - 16ms/step
Epoch 32/100
4378/4378 - 69s - loss: 0.3470 - accuracy: 0.8703 - val_loss: 0.7036 - val_accuracy: 0.7754 - lr: 0.0010 - 69s/epoch - 16ms/step
Epoch 33/100
4378/4378 - 69s - loss: 0.3465 - accuracy: 0.8705 - val_loss: 0.6963 - val_accuracy: 0.7787 - lr: 0.0010 - 69s/epoch - 16ms/step
Epoch 34/100
4378/4378 - 69s - loss: 0.3417 - accuracy: 0.8726 - val_loss: 0.7441 - val_accuracy: 0.7701 - lr: 0.0010 - 69s/epoch - 16ms/step
Epoch 35/100
4378/4378 - 69s - loss: 0.3408 - accuracy: 0.8725 - val_loss: 0.7910 - val_accuracy: 0.7507 - lr: 0.0010 - 69s/epoch - 16ms/step
Epoch 36/100
4378/4378 - 69s - loss: 0.3408 - accuracy: 0.8724 - val_loss: 0.7081 - val_accuracy: 0.7829 - lr: 0.0010 - 69s/epoch - 16ms/step
Epoch 37/100
4378/4378 - 70s - loss: 0.3419 - accuracy: 0.8726 - val_loss: 0.6759 - val_accuracy: 0.7937 - lr: 0.0010 - 70s/epoch - 16ms/step
Epoch 38/100
4378/4378 - 69s - loss: 0.3380 - accuracy: 0.8740 - val_loss: 0.6813 - val_accuracy: 0.7921 - lr: 0.0010 - 69s/epoch - 16ms/step
Epoch 39/100
4378/4378 - 69s - loss: 0.3399 - accuracy: 0.8733 - val_loss: 0.7047 - val_accuracy: 0.7761 - lr: 0.0010 - 69s/epoch - 16ms/step
Epoch 40/100
4378/4378 - 69s - loss: 0.3377 - accuracy: 0.8735 - val_loss: 0.6638 - val_accuracy: 0.7832 - lr: 0.0010 - 69s/epoch - 16ms/step
Epoch 41/100
4378/4378 - 69s - loss: 0.3360 - accuracy: 0.8741 - val_loss: 0.8016 - val_accuracy: 0.7530 - lr: 0.0010 - 69s/epoch - 16ms/step
Epoch 42/100
4378/4378 - 69s - loss: 0.3392 - accuracy: 0.8730 - val_loss: 0.7265 - val_accuracy: 0.7666 - lr: 0.0010 - 69s/epoch - 16ms/step
Epoch 43/100
4378/4378 - 69s - loss: 0.3414 - accuracy: 0.8729 - val_loss: 0.7350 - val_accuracy: 0.7702 - lr: 0.0010 - 69s/epoch - 16ms/step
Epoch 44/100
4378/4378 - 69s - loss: 0.3411 - accuracy: 0.8717 - val_loss: 0.7214 - val_accuracy: 0.7659 - lr: 0.0010 - 69s/epoch - 16ms/step
Epoch 45/100
4378/4378 - 69s - loss: 0.3361 - accuracy: 0.8733 - val_loss: 0.5941 - val_accuracy: 0.8130 - lr: 0.0010 - 69s/epoch - 16ms/step
Epoch 46/100
4378/4378 - 69s - loss: 0.3363 - accuracy: 0.8747 - val_loss: 0.7708 - val_accuracy: 0.7668 - lr: 0.0010 - 69s/epoch - 16ms/step
Epoch 47/100
4378/4378 - 69s - loss: 0.3370 - accuracy: 0.8738 - val_loss: 0.7390 - val_accuracy: 0.7660 - lr: 0.0010 - 69s/epoch - 16ms/step
Epoch 48/100
4378/4378 - 69s - loss: 0.3409 - accuracy: 0.8724 - val_loss: 0.6921 - val_accuracy: 0.7809 - lr: 0.0010 - 69s/epoch - 16ms/step
Epoch 49/100
4378/4378 - 69s - loss: 0.3406 - accuracy: 0.8718 - val_loss: 0.6959 - val_accuracy: 0.7770 - lr: 0.0010 - 69s/epoch - 16ms/step
Epoch 50/100
4378/4378 - 69s - loss: 0.3375 - accuracy: 0.8745 - val_loss: 0.7021 - val_accuracy: 0.7701 - lr: 0.0010 - 69s/epoch - 16ms/step
Epoch 51/100
4378/4378 - 69s - loss: 0.3431 - accuracy: 0.8723 - val_loss: 0.6235 - val_accuracy: 0.8038 - lr: 0.0010 - 69s/epoch - 16ms/step
Epoch 52/100
4378/4378 - 69s - loss: 0.3388 - accuracy: 0.8732 - val_loss: 0.6292 - val_accuracy: 0.7926 - lr: 0.0010 - 69s/epoch - 16ms/step
Epoch 53/100
4378/4378 - 69s - loss: 0.3396 - accuracy: 0.8740 - val_loss: 0.6559 - val_accuracy: 0.7951 - lr: 0.0010 - 69s/epoch - 16ms/step
Epoch 54/100
4378/4378 - 69s - loss: 0.3416 - accuracy: 0.8730 - val_loss: 0.7140 - val_accuracy: 0.7753 - lr: 0.0010 - 69s/epoch - 16ms/step
Epoch 55/100
4378/4378 - 69s - loss: 0.3406 - accuracy: 0.8736 - val_loss: 0.6818 - val_accuracy: 0.7872 - lr: 0.0010 - 69s/epoch - 16ms/step
Epoch 56/100
4378/4378 - 69s - loss: 0.3355 - accuracy: 0.8750 - val_loss: 0.6883 - val_accuracy: 0.7877 - lr: 0.0010 - 69s/epoch - 16ms/step
Epoch 57/100
4378/4378 - 69s - loss: 0.3344 - accuracy: 0.8745 - val_loss: 0.6939 - val_accuracy: 0.7878 - lr: 0.0010 - 69s/epoch - 16ms/step
Epoch 58/100
4378/4378 - 69s - loss: 0.3338 - accuracy: 0.8758 - val_loss: 0.6973 - val_accuracy: 0.7822 - lr: 0.0010 - 69s/epoch - 16ms/step
Epoch 59/100
4378/4378 - 69s - loss: 0.3384 - accuracy: 0.8739 - val_loss: 0.6590 - val_accuracy: 0.7959 - lr: 0.0010 - 69s/epoch - 16ms/step
Epoch 60/100
4378/4378 - 69s - loss: 0.3380 - accuracy: 0.8735 - val_loss: 0.8029 - val_accuracy: 0.7499 - lr: 0.0010 - 69s/epoch - 16ms/step
Epoch 61/100
4378/4378 - 70s - loss: 0.3378 - accuracy: 0.8738 - val_loss: 0.7700 - val_accuracy: 0.7697 - lr: 0.0010 - 70s/epoch - 16ms/step
Epoch 62/100
4378/4378 - 69s - loss: 0.3353 - accuracy: 0.8756 - val_loss: 0.7200 - val_accuracy: 0.7773 - lr: 0.0010 - 69s/epoch - 16ms/step
Epoch 63/100
4378/4378 - 70s - loss: 0.3348 - accuracy: 0.8757 - val_loss: 0.7055 - val_accuracy: 0.7791 - lr: 0.0010 - 70s/epoch - 16ms/step
Epoch 64/100
4378/4378 - 69s - loss: 0.3340 - accuracy: 0.8752 - val_loss: 0.7767 - val_accuracy: 0.7608 - lr: 0.0010 - 69s/epoch - 16ms/step
Epoch 65/100
4378/4378 - 69s - loss: 0.3360 - accuracy: 0.8747 - val_loss: 0.8174 - val_accuracy: 0.7468 - lr: 0.0010 - 69s/epoch - 16ms/step
Epoch 66/100
4378/4378 - 69s - loss: 0.3371 - accuracy: 0.8746 - val_loss: 0.7508 - val_accuracy: 0.7618 - lr: 0.0010 - 69s/epoch - 16ms/step
Epoch 67/100
4378/4378 - 69s - loss: 0.3317 - accuracy: 0.8761 - val_loss: 0.7779 - val_accuracy: 0.7456 - lr: 0.0010 - 69s/epoch - 16ms/step
Epoch 68/100
4378/4378 - 70s - loss: 0.3347 - accuracy: 0.8756 - val_loss: 0.7824 - val_accuracy: 0.7689 - lr: 0.0010 - 70s/epoch - 16ms/step
Epoch 69/100
4378/4378 - 70s - loss: 0.3344 - accuracy: 0.8753 - val_loss: 0.7281 - val_accuracy: 0.7764 - lr: 0.0010 - 70s/epoch - 16ms/step
Epoch 70/100
4378/4378 - 69s - loss: 0.3361 - accuracy: 0.8752 - val_loss: 0.8517 - val_accuracy: 0.7483 - lr: 0.0010 - 69s/epoch - 16ms/step
Epoch 71/100
4378/4378 - 69s - loss: 0.3347 - accuracy: 0.8757 - val_loss: 0.6491 - val_accuracy: 0.7996 - lr: 0.0010 - 69s/epoch - 16ms/step
Epoch 72/100
4378/4378 - 69s - loss: 0.3299 - accuracy: 0.8768 - val_loss: 0.7284 - val_accuracy: 0.7759 - lr: 0.0010 - 69s/epoch - 16ms/step
Epoch 73/100
4378/4378 - 69s - loss: 0.3362 - accuracy: 0.8743 - val_loss: 0.8191 - val_accuracy: 0.7533 - lr: 0.0010 - 69s/epoch - 16ms/step
Epoch 74/100
4378/4378 - 72s - loss: 0.3335 - accuracy: 0.8754 - val_loss: 0.6276 - val_accuracy: 0.7938 - lr: 0.0010 - 72s/epoch - 16ms/step
Epoch 75/100
4378/4378 - 69s - loss: 0.3358 - accuracy: 0.8754 - val_loss: 0.7583 - val_accuracy: 0.7613 - lr: 0.0010 - 69s/epoch - 16ms/step
Epoch 76/100
4378/4378 - 69s - loss: 0.3325 - accuracy: 0.8763 - val_loss: 0.6643 - val_accuracy: 0.7970 - lr: 0.0010 - 69s/epoch - 16ms/step
Epoch 77/100
4378/4378 - 69s - loss: 0.3320 - accuracy: 0.8757 - val_loss: 0.7233 - val_accuracy: 0.7800 - lr: 0.0010 - 69s/epoch - 16ms/step
Epoch 78/100
4378/4378 - 69s - loss: 0.3340 - accuracy: 0.8763 - val_loss: 0.7237 - val_accuracy: 0.7787 - lr: 0.0010 - 69s/epoch - 16ms/step
Epoch 79/100
4378/4378 - 69s - loss: 0.3327 - accuracy: 0.8758 - val_loss: 0.6552 - val_accuracy: 0.7995 - lr: 0.0010 - 69s/epoch - 16ms/step
Epoch 80/100
4378/4378 - 69s - loss: 0.3289 - accuracy: 0.8782 - val_loss: 0.7023 - val_accuracy: 0.7879 - lr: 0.0010 - 69s/epoch - 16ms/step
Epoch 81/100
4378/4378 - 69s - loss: 0.3309 - accuracy: 0.8774 - val_loss: 0.7743 - val_accuracy: 0.7636 - lr: 0.0010 - 69s/epoch - 16ms/step
Epoch 82/100
4378/4378 - 69s - loss: 0.3320 - accuracy: 0.8761 - val_loss: 0.7157 - val_accuracy: 0.7785 - lr: 0.0010 - 69s/epoch - 16ms/step
Epoch 83/100
4378/4378 - 69s - loss: 0.3355 - accuracy: 0.8746 - val_loss: 0.6909 - val_accuracy: 0.7833 - lr: 0.0010 - 69s/epoch - 16ms/step
Epoch 84/100
4378/4378 - 69s - loss: 0.3321 - accuracy: 0.8763 - val_loss: 0.8152 - val_accuracy: 0.7491 - lr: 0.0010 - 69s/epoch - 16ms/step
Epoch 85/100
4378/4378 - 69s - loss: 0.3336 - accuracy: 0.8763 - val_loss: 0.7603 - val_accuracy: 0.7600 - lr: 0.0010 - 69s/epoch - 16ms/step
Epoch 86/100
4378/4378 - 69s - loss: 0.3287 - accuracy: 0.8780 - val_loss: 0.8032 - val_accuracy: 0.7499 - lr: 0.0010 - 69s/epoch - 16ms/step
Epoch 87/100
4378/4378 - 69s - loss: 0.3289 - accuracy: 0.8778 - val_loss: 0.7368 - val_accuracy: 0.7687 - lr: 0.0010 - 69s/epoch - 16ms/step
Epoch 88/100
4378/4378 - 69s - loss: 0.3290 - accuracy: 0.8769 - val_loss: 0.7877 - val_accuracy: 0.7534 - lr: 0.0010 - 69s/epoch - 16ms/step
Epoch 89/100
4378/4378 - 69s - loss: 0.3267 - accuracy: 0.8787 - val_loss: 0.7422 - val_accuracy: 0.7764 - lr: 0.0010 - 69s/epoch - 16ms/step
Epoch 90/100
4378/4378 - 69s - loss: 0.3277 - accuracy: 0.8784 - val_loss: 0.6693 - val_accuracy: 0.7891 - lr: 0.0010 - 69s/epoch - 16ms/step
Epoch 91/100
4378/4378 - 69s - loss: 0.3271 - accuracy: 0.8787 - val_loss: 0.7769 - val_accuracy: 0.7634 - lr: 0.0010 - 69s/epoch - 16ms/step
Epoch 92/100
4378/4378 - 69s - loss: 0.3276 - accuracy: 0.8784 - val_loss: 0.7500 - val_accuracy: 0.7709 - lr: 0.0010 - 69s/epoch - 16ms/step
Epoch 93/100
4378/4378 - 70s - loss: 0.3284 - accuracy: 0.8773 - val_loss: 0.7171 - val_accuracy: 0.7790 - lr: 0.0010 - 70s/epoch - 16ms/step
Epoch 94/100
4378/4378 - 69s - loss: 0.3274 - accuracy: 0.8787 - val_loss: 0.7297 - val_accuracy: 0.7819 - lr: 0.0010 - 69s/epoch - 16ms/step
Epoch 95/100
4378/4378 - 69s - loss: 0.3273 - accuracy: 0.8781 - val_loss: 0.7521 - val_accuracy: 0.7774 - lr: 0.0010 - 69s/epoch - 16ms/step
Epoch 96/100
4378/4378 - 69s - loss: 0.3279 - accuracy: 0.8786 - val_loss: 0.7179 - val_accuracy: 0.7848 - lr: 0.0010 - 69s/epoch - 16ms/step
Epoch 97/100
4378/4378 - 69s - loss: 0.3242 - accuracy: 0.8798 - val_loss: 0.8096 - val_accuracy: 0.7598 - lr: 0.0010 - 69s/epoch - 16ms/step
Epoch 98/100
4378/4378 - 69s - loss: 0.3249 - accuracy: 0.8798 - val_loss: 0.7519 - val_accuracy: 0.7728 - lr: 0.0010 - 69s/epoch - 16ms/step
Epoch 99/100
4378/4378 - 69s - loss: 0.3278 - accuracy: 0.8788 - val_loss: 0.6330 - val_accuracy: 0.8097 - lr: 0.0010 - 69s/epoch - 16ms/step
Epoch 100/100
4378/4378 - 69s - loss: 0.3262 - accuracy: 0.8787 - val_loss: 0.7682 - val_accuracy: 0.7642 - lr: 0.0010 - 69s/epoch - 16ms/step
Epoch 1/100
876/876 - 20s - loss: 0.2487 - accuracy: 0.9092 - val_loss: 0.7703 - val_accuracy: 0.7814 - lr: 0.0010 - 20s/epoch - 23ms/step
Epoch 2/100
876/876 - 18s - loss: 0.2541 - accuracy: 0.9070 - val_loss: 0.8036 - val_accuracy: 0.7751 - lr: 0.0010 - 18s/epoch - 20ms/step
Epoch 3/100
876/876 - 17s - loss: 0.2531 - accuracy: 0.9065 - val_loss: 0.8201 - val_accuracy: 0.7758 - lr: 0.0010 - 17s/epoch - 20ms/step
Epoch 4/100
876/876 - 17s - loss: 0.2542 - accuracy: 0.9057 - val_loss: 0.8072 - val_accuracy: 0.7844 - lr: 0.0010 - 17s/epoch - 20ms/step
Epoch 5/100
876/876 - 17s - loss: 0.2538 - accuracy: 0.9064 - val_loss: 0.8436 - val_accuracy: 0.7689 - lr: 0.0010 - 17s/epoch - 20ms/step
Epoch 6/100
876/876 - 17s - loss: 0.2473 - accuracy: 0.9091 - val_loss: 0.8553 - val_accuracy: 0.7707 - lr: 0.0010 - 17s/epoch - 20ms/step
Epoch 7/100
876/876 - 17s - loss: 0.2492 - accuracy: 0.9070 - val_loss: 0.8516 - val_accuracy: 0.7753 - lr: 0.0010 - 17s/epoch - 20ms/step
Epoch 8/100
876/876 - 17s - loss: 0.2497 - accuracy: 0.9069 - val_loss: 0.8003 - val_accuracy: 0.7832 - lr: 0.0010 - 17s/epoch - 20ms/step
Epoch 9/100
876/876 - 17s - loss: 0.2444 - accuracy: 0.9098 - val_loss: 0.9252 - val_accuracy: 0.7590 - lr: 0.0010 - 17s/epoch - 20ms/step
Epoch 10/100
876/876 - 18s - loss: 0.2449 - accuracy: 0.9093 - val_loss: 0.8785 - val_accuracy: 0.7668 - lr: 0.0010 - 18s/epoch - 20ms/step
Epoch 11/100
876/876 - 17s - loss: 0.2434 - accuracy: 0.9104 - val_loss: 0.9217 - val_accuracy: 0.7576 - lr: 0.0010 - 17s/epoch - 20ms/step
Epoch 12/100
876/876 - 17s - loss: 0.2393 - accuracy: 0.9120 - val_loss: 0.8494 - val_accuracy: 0.7832 - lr: 0.0010 - 17s/epoch - 20ms/step
Epoch 13/100
876/876 - 17s - loss: 0.2414 - accuracy: 0.9101 - val_loss: 0.9924 - val_accuracy: 0.7460 - lr: 0.0010 - 17s/epoch - 20ms/step
Epoch 14/100
876/876 - 17s - loss: 0.2386 - accuracy: 0.9114 - val_loss: 0.8888 - val_accuracy: 0.7639 - lr: 0.0010 - 17s/epoch - 20ms/step
Epoch 15/100
876/876 - 18s - loss: 0.2396 - accuracy: 0.9122 - val_loss: 0.9076 - val_accuracy: 0.7647 - lr: 0.0010 - 18s/epoch - 20ms/step
Epoch 16/100
876/876 - 18s - loss: 0.2409 - accuracy: 0.9115 - val_loss: 0.8547 - val_accuracy: 0.7720 - lr: 0.0010 - 18s/epoch - 20ms/step
Epoch 17/100
876/876 - 17s - loss: 0.2346 - accuracy: 0.9139 - val_loss: 0.8700 - val_accuracy: 0.7812 - lr: 0.0010 - 17s/epoch - 20ms/step
Epoch 18/100
876/876 - 17s - loss: 0.2357 - accuracy: 0.9144 - val_loss: 0.8806 - val_accuracy: 0.7749 - lr: 0.0010 - 17s/epoch - 20ms/step
Epoch 19/100
876/876 - 17s - loss: 0.2356 - accuracy: 0.9132 - val_loss: 0.9125 - val_accuracy: 0.7649 - lr: 0.0010 - 17s/epoch - 20ms/step
Epoch 20/100
876/876 - 17s - loss: 0.2359 - accuracy: 0.9127 - val_loss: 0.9449 - val_accuracy: 0.7553 - lr: 0.0010 - 17s/epoch - 20ms/step
Epoch 21/100
876/876 - 17s - loss: 0.2320 - accuracy: 0.9148 - val_loss: 0.8625 - val_accuracy: 0.7776 - lr: 0.0010 - 17s/epoch - 20ms/step
Epoch 22/100
876/876 - 18s - loss: 0.2357 - accuracy: 0.9126 - val_loss: 0.8924 - val_accuracy: 0.7728 - lr: 0.0010 - 18s/epoch - 20ms/step
Epoch 23/100
876/876 - 17s - loss: 0.2319 - accuracy: 0.9151 - val_loss: 0.8074 - val_accuracy: 0.7918 - lr: 0.0010 - 17s/epoch - 20ms/step
Epoch 24/100
876/876 - 17s - loss: 0.2320 - accuracy: 0.9148 - val_loss: 0.9245 - val_accuracy: 0.7656 - lr: 0.0010 - 17s/epoch - 20ms/step
Epoch 25/100
876/876 - 17s - loss: 0.2348 - accuracy: 0.9133 - val_loss: 0.8886 - val_accuracy: 0.7696 - lr: 0.0010 - 17s/epoch - 20ms/step
Epoch 26/100
876/876 - 17s - loss: 0.2350 - accuracy: 0.9139 - val_loss: 0.9197 - val_accuracy: 0.7679 - lr: 0.0010 - 17s/epoch - 20ms/step
Epoch 27/100
876/876 - 17s - loss: 0.2308 - accuracy: 0.9152 - val_loss: 0.9939 - val_accuracy: 0.7513 - lr: 0.0010 - 17s/epoch - 20ms/step
Epoch 28/100
876/876 - 17s - loss: 0.2316 - accuracy: 0.9146 - val_loss: 0.9259 - val_accuracy: 0.7673 - lr: 0.0010 - 17s/epoch - 20ms/step
Epoch 29/100
876/876 - 18s - loss: 0.2317 - accuracy: 0.9143 - val_loss: 0.8734 - val_accuracy: 0.7781 - lr: 0.0010 - 18s/epoch - 20ms/step
Epoch 30/100
876/876 - 17s - loss: 0.2295 - accuracy: 0.9153 - val_loss: 0.9241 - val_accuracy: 0.7628 - lr: 0.0010 - 17s/epoch - 20ms/step
Epoch 31/100
876/876 - 17s - loss: 0.2303 - accuracy: 0.9160 - val_loss: 0.9011 - val_accuracy: 0.7777 - lr: 0.0010 - 17s/epoch - 20ms/step
Epoch 32/100
876/876 - 17s - loss: 0.2252 - accuracy: 0.9172 - val_loss: 0.9289 - val_accuracy: 0.7710 - lr: 0.0010 - 17s/epoch - 20ms/step
Epoch 33/100
876/876 - 17s - loss: 0.2294 - accuracy: 0.9151 - val_loss: 0.8721 - val_accuracy: 0.7763 - lr: 0.0010 - 17s/epoch - 20ms/step
Epoch 34/100
876/876 - 17s - loss: 0.2303 - accuracy: 0.9152 - val_loss: 0.9876 - val_accuracy: 0.7514 - lr: 0.0010 - 17s/epoch - 20ms/step
Epoch 35/100
876/876 - 17s - loss: 0.2288 - accuracy: 0.9159 - val_loss: 1.0269 - val_accuracy: 0.7515 - lr: 0.0010 - 17s/epoch - 20ms/step
Epoch 36/100
876/876 - 17s - loss: 0.2283 - accuracy: 0.9153 - val_loss: 0.9504 - val_accuracy: 0.7640 - lr: 0.0010 - 17s/epoch - 20ms/step
Epoch 37/100
876/876 - 18s - loss: 0.2308 - accuracy: 0.9155 - val_loss: 0.9868 - val_accuracy: 0.7594 - lr: 0.0010 - 18s/epoch - 20ms/step
Epoch 38/100
876/876 - 17s - loss: 0.2284 - accuracy: 0.9160 - val_loss: 0.9912 - val_accuracy: 0.7546 - lr: 0.0010 - 17s/epoch - 20ms/step
Epoch 39/100
876/876 - 17s - loss: 0.2267 - accuracy: 0.9167 - val_loss: 1.0708 - val_accuracy: 0.7431 - lr: 0.0010 - 17s/epoch - 20ms/step
Epoch 40/100
876/876 - 17s - loss: 0.2286 - accuracy: 0.9150 - val_loss: 0.9482 - val_accuracy: 0.7632 - lr: 0.0010 - 17s/epoch - 20ms/step
Epoch 41/100
876/876 - 17s - loss: 0.2280 - accuracy: 0.9152 - val_loss: 0.9448 - val_accuracy: 0.7662 - lr: 0.0010 - 17s/epoch - 20ms/step
Epoch 42/100
876/876 - 18s - loss: 0.2227 - accuracy: 0.9181 - val_loss: 1.0014 - val_accuracy: 0.7615 - lr: 0.0010 - 18s/epoch - 20ms/step
Epoch 43/100
876/876 - 17s - loss: 0.2270 - accuracy: 0.9168 - val_loss: 0.9238 - val_accuracy: 0.7759 - lr: 0.0010 - 17s/epoch - 20ms/step
Epoch 44/100
876/876 - 17s - loss: 0.2250 - accuracy: 0.9177 - val_loss: 0.9338 - val_accuracy: 0.7645 - lr: 0.0010 - 17s/epoch - 20ms/step
Epoch 45/100
876/876 - 17s - loss: 0.2247 - accuracy: 0.9170 - val_loss: 0.9925 - val_accuracy: 0.7579 - lr: 0.0010 - 17s/epoch - 20ms/step
Epoch 46/100
876/876 - 17s - loss: 0.2241 - accuracy: 0.9178 - val_loss: 0.9749 - val_accuracy: 0.7635 - lr: 0.0010 - 17s/epoch - 20ms/step
Epoch 47/100
876/876 - 17s - loss: 0.2223 - accuracy: 0.9180 - val_loss: 1.0308 - val_accuracy: 0.7578 - lr: 0.0010 - 17s/epoch - 20ms/step
Epoch 48/100
876/876 - 17s - loss: 0.2269 - accuracy: 0.9164 - val_loss: 0.9173 - val_accuracy: 0.7710 - lr: 0.0010 - 17s/epoch - 20ms/step
Epoch 49/100
876/876 - 17s - loss: 0.2218 - accuracy: 0.9183 - val_loss: 1.0622 - val_accuracy: 0.7459 - lr: 0.0010 - 17s/epoch - 20ms/step
Epoch 50/100
876/876 - 17s - loss: 0.2224 - accuracy: 0.9176 - val_loss: 1.0232 - val_accuracy: 0.7569 - lr: 0.0010 - 17s/epoch - 20ms/step
Epoch 51/100
876/876 - 17s - loss: 0.2250 - accuracy: 0.9172 - val_loss: 0.9824 - val_accuracy: 0.7631 - lr: 0.0010 - 17s/epoch - 20ms/step
Epoch 52/100
876/876 - 18s - loss: 0.2231 - accuracy: 0.9181 - val_loss: 0.9933 - val_accuracy: 0.7658 - lr: 0.0010 - 18s/epoch - 20ms/step
Epoch 53/100
876/876 - 17s - loss: 0.2205 - accuracy: 0.9184 - val_loss: 0.9756 - val_accuracy: 0.7706 - lr: 0.0010 - 17s/epoch - 20ms/step
Epoch 54/100
876/876 - 17s - loss: 0.2217 - accuracy: 0.9190 - val_loss: 1.0184 - val_accuracy: 0.7545 - lr: 0.0010 - 17s/epoch - 20ms/step
Epoch 55/100
876/876 - 17s - loss: 0.2210 - accuracy: 0.9179 - val_loss: 1.0012 - val_accuracy: 0.7616 - lr: 0.0010 - 17s/epoch - 20ms/step
Epoch 56/100
876/876 - 17s - loss: 0.2218 - accuracy: 0.9182 - val_loss: 1.0282 - val_accuracy: 0.7537 - lr: 0.0010 - 17s/epoch - 20ms/step
Epoch 57/100
876/876 - 17s - loss: 0.2203 - accuracy: 0.9197 - val_loss: 0.9157 - val_accuracy: 0.7770 - lr: 0.0010 - 17s/epoch - 20ms/step
Epoch 58/100
876/876 - 17s - loss: 0.2172 - accuracy: 0.9204 - val_loss: 1.0480 - val_accuracy: 0.7534 - lr: 0.0010 - 17s/epoch - 20ms/step
Epoch 59/100
876/876 - 17s - loss: 0.2222 - accuracy: 0.9190 - val_loss: 1.0933 - val_accuracy: 0.7442 - lr: 0.0010 - 17s/epoch - 20ms/step
Epoch 60/100
876/876 - 18s - loss: 0.2224 - accuracy: 0.9179 - val_loss: 0.9615 - val_accuracy: 0.7769 - lr: 0.0010 - 18s/epoch - 20ms/step
Epoch 61/100
876/876 - 17s - loss: 0.2179 - accuracy: 0.9203 - val_loss: 1.0420 - val_accuracy: 0.7528 - lr: 0.0010 - 17s/epoch - 20ms/step
Epoch 62/100
876/876 - 17s - loss: 0.2185 - accuracy: 0.9201 - val_loss: 0.9834 - val_accuracy: 0.7665 - lr: 0.0010 - 17s/epoch - 20ms/step
Epoch 63/100
876/876 - 17s - loss: 0.2173 - accuracy: 0.9199 - val_loss: 0.9986 - val_accuracy: 0.7642 - lr: 0.0010 - 17s/epoch - 20ms/step
Epoch 64/100
876/876 - 17s - loss: 0.2214 - accuracy: 0.9181 - val_loss: 1.0493 - val_accuracy: 0.7516 - lr: 0.0010 - 17s/epoch - 20ms/step
Epoch 65/100
876/876 - 18s - loss: 0.2178 - accuracy: 0.9200 - val_loss: 0.9276 - val_accuracy: 0.7690 - lr: 0.0010 - 18s/epoch - 20ms/step
Epoch 66/100
876/876 - 18s - loss: 0.2163 - accuracy: 0.9199 - val_loss: 0.9401 - val_accuracy: 0.7714 - lr: 0.0010 - 18s/epoch - 20ms/step
Epoch 67/100
876/876 - 17s - loss: 0.2193 - accuracy: 0.9193 - val_loss: 0.9662 - val_accuracy: 0.7691 - lr: 0.0010 - 17s/epoch - 20ms/step
Epoch 68/100
876/876 - 17s - loss: 0.2182 - accuracy: 0.9196 - val_loss: 1.0299 - val_accuracy: 0.7581 - lr: 0.0010 - 17s/epoch - 20ms/step
Epoch 69/100
876/876 - 17s - loss: 0.2160 - accuracy: 0.9217 - val_loss: 1.0344 - val_accuracy: 0.7563 - lr: 0.0010 - 17s/epoch - 20ms/step
Epoch 70/100
876/876 - 17s - loss: 0.2222 - accuracy: 0.9184 - val_loss: 0.9351 - val_accuracy: 0.7767 - lr: 0.0010 - 17s/epoch - 20ms/step
Epoch 71/100
876/876 - 17s - loss: 0.2175 - accuracy: 0.9191 - val_loss: 0.9682 - val_accuracy: 0.7672 - lr: 0.0010 - 17s/epoch - 20ms/step
Epoch 72/100
876/876 - 17s - loss: 0.2156 - accuracy: 0.9206 - val_loss: 1.0318 - val_accuracy: 0.7605 - lr: 0.0010 - 17s/epoch - 20ms/step
Epoch 73/100
876/876 - 18s - loss: 0.2174 - accuracy: 0.9208 - val_loss: 0.9389 - val_accuracy: 0.7726 - lr: 0.0010 - 18s/epoch - 20ms/step
Epoch 74/100
876/876 - 17s - loss: 0.2174 - accuracy: 0.9198 - val_loss: 1.0186 - val_accuracy: 0.7536 - lr: 0.0010 - 17s/epoch - 20ms/step
Epoch 75/100
876/876 - 17s - loss: 0.2201 - accuracy: 0.9199 - val_loss: 1.0821 - val_accuracy: 0.7439 - lr: 0.0010 - 17s/epoch - 20ms/step
Epoch 76/100
876/876 - 17s - loss: 0.2176 - accuracy: 0.9206 - val_loss: 0.9758 - val_accuracy: 0.7670 - lr: 0.0010 - 17s/epoch - 20ms/step
Epoch 77/100
876/876 - 17s - loss: 0.2168 - accuracy: 0.9203 - val_loss: 1.0439 - val_accuracy: 0.7574 - lr: 0.0010 - 17s/epoch - 20ms/step
Epoch 78/100
876/876 - 17s - loss: 0.2147 - accuracy: 0.9209 - val_loss: 1.0742 - val_accuracy: 0.7520 - lr: 0.0010 - 17s/epoch - 20ms/step
Epoch 79/100
876/876 - 17s - loss: 0.2174 - accuracy: 0.9200 - val_loss: 0.9479 - val_accuracy: 0.7739 - lr: 0.0010 - 17s/epoch - 20ms/step
Epoch 80/100
876/876 - 17s - loss: 0.2160 - accuracy: 0.9216 - val_loss: 1.1150 - val_accuracy: 0.7384 - lr: 0.0010 - 17s/epoch - 20ms/step
Epoch 81/100
876/876 - 17s - loss: 0.2149 - accuracy: 0.9218 - val_loss: 1.0776 - val_accuracy: 0.7530 - lr: 0.0010 - 17s/epoch - 20ms/step
Epoch 82/100
876/876 - 17s - loss: 0.2146 - accuracy: 0.9205 - val_loss: 1.0814 - val_accuracy: 0.7479 - lr: 0.0010 - 17s/epoch - 20ms/step
Epoch 83/100
876/876 - 17s - loss: 0.2153 - accuracy: 0.9206 - val_loss: 0.9235 - val_accuracy: 0.7774 - lr: 0.0010 - 17s/epoch - 20ms/step
Epoch 84/100
876/876 - 17s - loss: 0.2143 - accuracy: 0.9214 - val_loss: 1.0196 - val_accuracy: 0.7617 - lr: 0.0010 - 17s/epoch - 20ms/step
Epoch 85/100
876/876 - 17s - loss: 0.2157 - accuracy: 0.9211 - val_loss: 0.9820 - val_accuracy: 0.7660 - lr: 0.0010 - 17s/epoch - 20ms/step
Epoch 86/100
876/876 - 17s - loss: 0.2157 - accuracy: 0.9211 - val_loss: 0.9808 - val_accuracy: 0.7726 - lr: 0.0010 - 17s/epoch - 20ms/step
Epoch 87/100
876/876 - 17s - loss: 0.2131 - accuracy: 0.9212 - val_loss: 1.0093 - val_accuracy: 0.7653 - lr: 0.0010 - 17s/epoch - 20ms/step
Epoch 88/100
876/876 - 17s - loss: 0.2126 - accuracy: 0.9217 - val_loss: 0.9872 - val_accuracy: 0.7750 - lr: 0.0010 - 17s/epoch - 20ms/step
Epoch 89/100
876/876 - 17s - loss: 0.2140 - accuracy: 0.9217 - val_loss: 0.9753 - val_accuracy: 0.7706 - lr: 0.0010 - 17s/epoch - 20ms/step
Epoch 90/100
876/876 - 17s - loss: 0.2148 - accuracy: 0.9212 - val_loss: 0.9811 - val_accuracy: 0.7661 - lr: 0.0010 - 17s/epoch - 20ms/step
Epoch 91/100
876/876 - 17s - loss: 0.2149 - accuracy: 0.9212 - val_loss: 1.0199 - val_accuracy: 0.7616 - lr: 0.0010 - 17s/epoch - 20ms/step
Epoch 92/100
876/876 - 17s - loss: 0.2123 - accuracy: 0.9225 - val_loss: 0.9363 - val_accuracy: 0.7767 - lr: 0.0010 - 17s/epoch - 20ms/step
Epoch 93/100
876/876 - 17s - loss: 0.2143 - accuracy: 0.9217 - val_loss: 0.9194 - val_accuracy: 0.7785 - lr: 0.0010 - 17s/epoch - 20ms/step
Epoch 94/100
876/876 - 17s - loss: 0.2165 - accuracy: 0.9205 - val_loss: 1.0262 - val_accuracy: 0.7599 - lr: 0.0010 - 17s/epoch - 20ms/step
Epoch 95/100
876/876 - 17s - loss: 0.2140 - accuracy: 0.9215 - val_loss: 1.1304 - val_accuracy: 0.7424 - lr: 0.0010 - 17s/epoch - 20ms/step
Epoch 96/100
876/876 - 17s - loss: 0.2151 - accuracy: 0.9206 - val_loss: 0.9645 - val_accuracy: 0.7697 - lr: 0.0010 - 17s/epoch - 20ms/step
Epoch 97/100
876/876 - 17s - loss: 0.2130 - accuracy: 0.9209 - val_loss: 1.0918 - val_accuracy: 0.7513 - lr: 0.0010 - 17s/epoch - 20ms/step
Epoch 98/100
876/876 - 17s - loss: 0.2138 - accuracy: 0.9213 - val_loss: 1.0233 - val_accuracy: 0.7618 - lr: 0.0010 - 17s/epoch - 20ms/step
Epoch 99/100
876/876 - 17s - loss: 0.2138 - accuracy: 0.9224 - val_loss: 0.9607 - val_accuracy: 0.7678 - lr: 0.0010 - 17s/epoch - 20ms/step
Epoch 100/100
876/876 - 17s - loss: 0.2140 - accuracy: 0.9213 - val_loss: 1.0612 - val_accuracy: 0.7594 - lr: 0.0010 - 17s/epoch - 20ms/step
Epoch 1/100
176/176 - 11s - loss: 0.1683 - accuracy: 0.9397 - val_loss: 1.1287 - val_accuracy: 0.7507 - lr: 0.0010 - 11s/epoch - 63ms/step
Epoch 2/100
176/176 - 9s - loss: 0.1569 - accuracy: 0.9443 - val_loss: 1.1510 - val_accuracy: 0.7555 - lr: 0.0010 - 9s/epoch - 52ms/step
Epoch 3/100
176/176 - 10s - loss: 0.1542 - accuracy: 0.9447 - val_loss: 1.1340 - val_accuracy: 0.7592 - lr: 0.0010 - 10s/epoch - 54ms/step
Epoch 4/100
176/176 - 9s - loss: 0.1540 - accuracy: 0.9451 - val_loss: 1.2404 - val_accuracy: 0.7502 - lr: 0.0010 - 9s/epoch - 50ms/step
Epoch 5/100
176/176 - 9s - loss: 0.1546 - accuracy: 0.9442 - val_loss: 1.2190 - val_accuracy: 0.7593 - lr: 0.0010 - 9s/epoch - 50ms/step
Epoch 6/100
176/176 - 9s - loss: 0.1601 - accuracy: 0.9425 - val_loss: 1.1984 - val_accuracy: 0.7595 - lr: 0.0010 - 9s/epoch - 50ms/step
Epoch 7/100
176/176 - 9s - loss: 0.1588 - accuracy: 0.9426 - val_loss: 1.1722 - val_accuracy: 0.7677 - lr: 0.0010 - 9s/epoch - 50ms/step
Epoch 8/100
176/176 - 9s - loss: 0.1626 - accuracy: 0.9410 - val_loss: 1.2260 - val_accuracy: 0.7560 - lr: 0.0010 - 9s/epoch - 50ms/step
Epoch 9/100
176/176 - 9s - loss: 0.1629 - accuracy: 0.9410 - val_loss: 1.1453 - val_accuracy: 0.7674 - lr: 0.0010 - 9s/epoch - 50ms/step
Epoch 10/100
176/176 - 9s - loss: 0.1625 - accuracy: 0.9420 - val_loss: 1.2849 - val_accuracy: 0.7540 - lr: 0.0010 - 9s/epoch - 50ms/step
Epoch 11/100
176/176 - 9s - loss: 0.1601 - accuracy: 0.9429 - val_loss: 1.2994 - val_accuracy: 0.7494 - lr: 0.0010 - 9s/epoch - 50ms/step
Epoch 12/100
176/176 - 9s - loss: 0.1563 - accuracy: 0.9435 - val_loss: 1.3505 - val_accuracy: 0.7457 - lr: 0.0010 - 9s/epoch - 50ms/step
Epoch 13/100
176/176 - 9s - loss: 0.1552 - accuracy: 0.9446 - val_loss: 1.2780 - val_accuracy: 0.7574 - lr: 0.0010 - 9s/epoch - 50ms/step
Epoch 14/100
176/176 - 9s - loss: 0.1581 - accuracy: 0.9434 - val_loss: 1.3022 - val_accuracy: 0.7505 - lr: 0.0010 - 9s/epoch - 50ms/step
Epoch 15/100
176/176 - 9s - loss: 0.1581 - accuracy: 0.9434 - val_loss: 1.3079 - val_accuracy: 0.7553 - lr: 0.0010 - 9s/epoch - 50ms/step
Epoch 16/100
176/176 - 9s - loss: 0.1512 - accuracy: 0.9458 - val_loss: 1.3501 - val_accuracy: 0.7532 - lr: 0.0010 - 9s/epoch - 50ms/step
Epoch 17/100
176/176 - 9s - loss: 0.1538 - accuracy: 0.9447 - val_loss: 1.2908 - val_accuracy: 0.7607 - lr: 0.0010 - 9s/epoch - 50ms/step
Epoch 18/100
176/176 - 9s - loss: 0.1585 - accuracy: 0.9436 - val_loss: 1.2628 - val_accuracy: 0.7629 - lr: 0.0010 - 9s/epoch - 50ms/step
Epoch 19/100
176/176 - 9s - loss: 0.1553 - accuracy: 0.9440 - val_loss: 1.2875 - val_accuracy: 0.7596 - lr: 0.0010 - 9s/epoch - 50ms/step
Epoch 20/100
176/176 - 9s - loss: 0.1521 - accuracy: 0.9458 - val_loss: 1.3531 - val_accuracy: 0.7555 - lr: 0.0010 - 9s/epoch - 50ms/step
Epoch 21/100
176/176 - 9s - loss: 0.1535 - accuracy: 0.9449 - val_loss: 1.4283 - val_accuracy: 0.7415 - lr: 0.0010 - 9s/epoch - 50ms/step
Epoch 22/100
176/176 - 9s - loss: 0.1560 - accuracy: 0.9438 - val_loss: 1.3263 - val_accuracy: 0.7577 - lr: 0.0010 - 9s/epoch - 50ms/step
Epoch 23/100
176/176 - 9s - loss: 0.1594 - accuracy: 0.9430 - val_loss: 1.3831 - val_accuracy: 0.7523 - lr: 0.0010 - 9s/epoch - 50ms/step
Epoch 24/100
176/176 - 9s - loss: 0.1587 - accuracy: 0.9427 - val_loss: 1.3940 - val_accuracy: 0.7466 - lr: 0.0010 - 9s/epoch - 50ms/step
Epoch 25/100
176/176 - 9s - loss: 0.1558 - accuracy: 0.9443 - val_loss: 1.3564 - val_accuracy: 0.7554 - lr: 0.0010 - 9s/epoch - 50ms/step
Epoch 26/100
176/176 - 9s - loss: 0.1523 - accuracy: 0.9460 - val_loss: 1.2974 - val_accuracy: 0.7590 - lr: 0.0010 - 9s/epoch - 50ms/step
Epoch 27/100
176/176 - 9s - loss: 0.1549 - accuracy: 0.9452 - val_loss: 1.2936 - val_accuracy: 0.7561 - lr: 0.0010 - 9s/epoch - 50ms/step
Epoch 28/100
176/176 - 9s - loss: 0.1507 - accuracy: 0.9463 - val_loss: 1.3118 - val_accuracy: 0.7616 - lr: 0.0010 - 9s/epoch - 50ms/step
Epoch 29/100
176/176 - 9s - loss: 0.1488 - accuracy: 0.9468 - val_loss: 1.3069 - val_accuracy: 0.7629 - lr: 0.0010 - 9s/epoch - 50ms/step
Epoch 30/100
176/176 - 9s - loss: 0.1470 - accuracy: 0.9471 - val_loss: 1.3575 - val_accuracy: 0.7583 - lr: 0.0010 - 9s/epoch - 50ms/step
Epoch 31/100
176/176 - 9s - loss: 0.1464 - accuracy: 0.9474 - val_loss: 1.3351 - val_accuracy: 0.7656 - lr: 0.0010 - 9s/epoch - 50ms/step
Epoch 32/100
176/176 - 9s - loss: 0.1459 - accuracy: 0.9482 - val_loss: 1.3617 - val_accuracy: 0.7592 - lr: 0.0010 - 9s/epoch - 50ms/step
Epoch 33/100
176/176 - 9s - loss: 0.1466 - accuracy: 0.9480 - val_loss: 1.4607 - val_accuracy: 0.7441 - lr: 0.0010 - 9s/epoch - 50ms/step
Epoch 34/100
176/176 - 9s - loss: 0.1502 - accuracy: 0.9461 - val_loss: 1.3509 - val_accuracy: 0.7561 - lr: 0.0010 - 9s/epoch - 51ms/step
Epoch 35/100
176/176 - 9s - loss: 0.1500 - accuracy: 0.9465 - val_loss: 1.3706 - val_accuracy: 0.7622 - lr: 0.0010 - 9s/epoch - 50ms/step
Epoch 36/100
176/176 - 9s - loss: 0.1452 - accuracy: 0.9483 - val_loss: 1.4835 - val_accuracy: 0.7505 - lr: 0.0010 - 9s/epoch - 50ms/step
Epoch 37/100
176/176 - 9s - loss: 0.1485 - accuracy: 0.9472 - val_loss: 1.3685 - val_accuracy: 0.7665 - lr: 0.0010 - 9s/epoch - 50ms/step
Epoch 38/100
176/176 - 9s - loss: 0.1469 - accuracy: 0.9481 - val_loss: 1.4149 - val_accuracy: 0.7581 - lr: 0.0010 - 9s/epoch - 50ms/step
Epoch 39/100
176/176 - 9s - loss: 0.1467 - accuracy: 0.9477 - val_loss: 1.4178 - val_accuracy: 0.7559 - lr: 0.0010 - 9s/epoch - 50ms/step
Epoch 40/100
176/176 - 9s - loss: 0.1476 - accuracy: 0.9470 - val_loss: 1.4149 - val_accuracy: 0.7638 - lr: 0.0010 - 9s/epoch - 50ms/step
Epoch 41/100
176/176 - 9s - loss: 0.1528 - accuracy: 0.9453 - val_loss: 1.3156 - val_accuracy: 0.7699 - lr: 0.0010 - 9s/epoch - 50ms/step
Epoch 42/100
176/176 - 9s - loss: 0.1517 - accuracy: 0.9459 - val_loss: 1.2985 - val_accuracy: 0.7723 - lr: 0.0010 - 9s/epoch - 50ms/step
Epoch 43/100
176/176 - 9s - loss: 0.1463 - accuracy: 0.9481 - val_loss: 1.3974 - val_accuracy: 0.7586 - lr: 0.0010 - 9s/epoch - 50ms/step
Epoch 44/100
176/176 - 9s - loss: 0.1473 - accuracy: 0.9473 - val_loss: 1.3229 - val_accuracy: 0.7667 - lr: 0.0010 - 9s/epoch - 50ms/step
Epoch 45/100
176/176 - 9s - loss: 0.1475 - accuracy: 0.9472 - val_loss: 1.4832 - val_accuracy: 0.7437 - lr: 0.0010 - 9s/epoch - 50ms/step
Epoch 46/100
176/176 - 9s - loss: 0.1485 - accuracy: 0.9469 - val_loss: 1.4285 - val_accuracy: 0.7577 - lr: 0.0010 - 9s/epoch - 50ms/step
Epoch 47/100
176/176 - 9s - loss: 0.1479 - accuracy: 0.9472 - val_loss: 1.5126 - val_accuracy: 0.7474 - lr: 0.0010 - 9s/epoch - 50ms/step
Epoch 48/100
176/176 - 9s - loss: 0.1466 - accuracy: 0.9471 - val_loss: 1.4767 - val_accuracy: 0.7503 - lr: 0.0010 - 9s/epoch - 50ms/step
Epoch 49/100
176/176 - 9s - loss: 0.1417 - accuracy: 0.9494 - val_loss: 1.5222 - val_accuracy: 0.7539 - lr: 0.0010 - 9s/epoch - 50ms/step
Epoch 50/100
176/176 - 9s - loss: 0.1460 - accuracy: 0.9475 - val_loss: 1.3743 - val_accuracy: 0.7620 - lr: 0.0010 - 9s/epoch - 50ms/step
Epoch 51/100
176/176 - 9s - loss: 0.1466 - accuracy: 0.9476 - val_loss: 1.4479 - val_accuracy: 0.7527 - lr: 0.0010 - 9s/epoch - 50ms/step
Epoch 52/100
176/176 - 9s - loss: 0.1445 - accuracy: 0.9488 - val_loss: 1.5300 - val_accuracy: 0.7476 - lr: 0.0010 - 9s/epoch - 50ms/step
Epoch 53/100
176/176 - 9s - loss: 0.1477 - accuracy: 0.9476 - val_loss: 1.4075 - val_accuracy: 0.7519 - lr: 0.0010 - 9s/epoch - 50ms/step
Epoch 54/100
176/176 - 9s - loss: 0.1464 - accuracy: 0.9493 - val_loss: 1.4007 - val_accuracy: 0.7579 - lr: 0.0010 - 9s/epoch - 50ms/step
Epoch 55/100
176/176 - 9s - loss: 0.1490 - accuracy: 0.9470 - val_loss: 1.4812 - val_accuracy: 0.7554 - lr: 0.0010 - 9s/epoch - 50ms/step
Epoch 56/100
176/176 - 9s - loss: 0.1512 - accuracy: 0.9460 - val_loss: 1.4181 - val_accuracy: 0.7567 - lr: 0.0010 - 9s/epoch - 50ms/step
Epoch 57/100
176/176 - 9s - loss: 0.1513 - accuracy: 0.9456 - val_loss: 1.4125 - val_accuracy: 0.7519 - lr: 0.0010 - 9s/epoch - 50ms/step
Epoch 58/100
176/176 - 9s - loss: 0.1493 - accuracy: 0.9462 - val_loss: 1.3601 - val_accuracy: 0.7633 - lr: 0.0010 - 9s/epoch - 50ms/step
Epoch 59/100
176/176 - 9s - loss: 0.1475 - accuracy: 0.9468 - val_loss: 1.4790 - val_accuracy: 0.7495 - lr: 0.0010 - 9s/epoch - 50ms/step
Epoch 60/100
176/176 - 9s - loss: 0.1457 - accuracy: 0.9475 - val_loss: 1.4110 - val_accuracy: 0.7630 - lr: 0.0010 - 9s/epoch - 51ms/step
Epoch 61/100
176/176 - 9s - loss: 0.1465 - accuracy: 0.9474 - val_loss: 1.4355 - val_accuracy: 0.7552 - lr: 0.0010 - 9s/epoch - 50ms/step
Epoch 62/100
176/176 - 9s - loss: 0.1424 - accuracy: 0.9495 - val_loss: 1.4303 - val_accuracy: 0.7590 - lr: 0.0010 - 9s/epoch - 50ms/step
Epoch 63/100
176/176 - 9s - loss: 0.1423 - accuracy: 0.9497 - val_loss: 1.3721 - val_accuracy: 0.7664 - lr: 0.0010 - 9s/epoch - 50ms/step
Epoch 64/100
176/176 - 9s - loss: 0.1445 - accuracy: 0.9488 - val_loss: 1.4802 - val_accuracy: 0.7578 - lr: 0.0010 - 9s/epoch - 50ms/step
Epoch 65/100
176/176 - 9s - loss: 0.1429 - accuracy: 0.9493 - val_loss: 1.4403 - val_accuracy: 0.7601 - lr: 0.0010 - 9s/epoch - 50ms/step
Epoch 66/100
176/176 - 9s - loss: 0.1425 - accuracy: 0.9489 - val_loss: 1.4761 - val_accuracy: 0.7582 - lr: 0.0010 - 9s/epoch - 50ms/step
Epoch 67/100
176/176 - 9s - loss: 0.1450 - accuracy: 0.9479 - val_loss: 1.5439 - val_accuracy: 0.7522 - lr: 0.0010 - 9s/epoch - 50ms/step
Epoch 68/100
176/176 - 9s - loss: 0.1414 - accuracy: 0.9494 - val_loss: 1.4948 - val_accuracy: 0.7538 - lr: 0.0010 - 9s/epoch - 50ms/step
Epoch 69/100
176/176 - 9s - loss: 0.1449 - accuracy: 0.9489 - val_loss: 1.4824 - val_accuracy: 0.7589 - lr: 0.0010 - 9s/epoch - 50ms/step
Epoch 70/100
176/176 - 9s - loss: 0.1469 - accuracy: 0.9483 - val_loss: 1.5725 - val_accuracy: 0.7468 - lr: 0.0010 - 9s/epoch - 50ms/step
Epoch 71/100
176/176 - 9s - loss: 0.1464 - accuracy: 0.9472 - val_loss: 1.5937 - val_accuracy: 0.7468 - lr: 0.0010 - 9s/epoch - 50ms/step
Epoch 72/100
176/176 - 9s - loss: 0.1442 - accuracy: 0.9489 - val_loss: 1.5737 - val_accuracy: 0.7406 - lr: 0.0010 - 9s/epoch - 50ms/step
Epoch 73/100
176/176 - 9s - loss: 0.1465 - accuracy: 0.9476 - val_loss: 1.5030 - val_accuracy: 0.7524 - lr: 0.0010 - 9s/epoch - 50ms/step
Epoch 74/100
176/176 - 9s - loss: 0.1452 - accuracy: 0.9477 - val_loss: 1.5535 - val_accuracy: 0.7491 - lr: 0.0010 - 9s/epoch - 50ms/step
Epoch 75/100
176/176 - 9s - loss: 0.1446 - accuracy: 0.9489 - val_loss: 1.4657 - val_accuracy: 0.7546 - lr: 0.0010 - 9s/epoch - 50ms/step
Epoch 76/100
176/176 - 9s - loss: 0.1397 - accuracy: 0.9500 - val_loss: 1.5697 - val_accuracy: 0.7489 - lr: 0.0010 - 9s/epoch - 50ms/step
Epoch 77/100
176/176 - 9s - loss: 0.1417 - accuracy: 0.9500 - val_loss: 1.5632 - val_accuracy: 0.7492 - lr: 0.0010 - 9s/epoch - 50ms/step
Epoch 78/100
176/176 - 9s - loss: 0.1404 - accuracy: 0.9494 - val_loss: 1.5221 - val_accuracy: 0.7536 - lr: 0.0010 - 9s/epoch - 50ms/step
Epoch 79/100
176/176 - 9s - loss: 0.1467 - accuracy: 0.9472 - val_loss: 1.4802 - val_accuracy: 0.7592 - lr: 0.0010 - 9s/epoch - 50ms/step
Epoch 80/100
176/176 - 9s - loss: 0.1476 - accuracy: 0.9465 - val_loss: 1.4524 - val_accuracy: 0.7571 - lr: 0.0010 - 9s/epoch - 50ms/step
Epoch 81/100
176/176 - 9s - loss: 0.1445 - accuracy: 0.9489 - val_loss: 1.5108 - val_accuracy: 0.7564 - lr: 0.0010 - 9s/epoch - 50ms/step
Epoch 82/100
176/176 - 9s - loss: 0.1414 - accuracy: 0.9490 - val_loss: 1.4932 - val_accuracy: 0.7577 - lr: 0.0010 - 9s/epoch - 50ms/step
Epoch 83/100
176/176 - 9s - loss: 0.1444 - accuracy: 0.9486 - val_loss: 1.4289 - val_accuracy: 0.7663 - lr: 0.0010 - 9s/epoch - 50ms/step
Epoch 84/100
176/176 - 9s - loss: 0.1455 - accuracy: 0.9487 - val_loss: 1.4863 - val_accuracy: 0.7528 - lr: 0.0010 - 9s/epoch - 50ms/step
Epoch 85/100
176/176 - 9s - loss: 0.1482 - accuracy: 0.9467 - val_loss: 1.4235 - val_accuracy: 0.7632 - lr: 0.0010 - 9s/epoch - 50ms/step
Epoch 86/100
176/176 - 9s - loss: 0.1454 - accuracy: 0.9486 - val_loss: 1.4862 - val_accuracy: 0.7569 - lr: 0.0010 - 9s/epoch - 50ms/step
Epoch 87/100
176/176 - 9s - loss: 0.1456 - accuracy: 0.9481 - val_loss: 1.4993 - val_accuracy: 0.7560 - lr: 0.0010 - 9s/epoch - 50ms/step
Epoch 88/100
176/176 - 9s - loss: 0.1445 - accuracy: 0.9490 - val_loss: 1.5503 - val_accuracy: 0.7429 - lr: 0.0010 - 9s/epoch - 50ms/step
Epoch 89/100
176/176 - 9s - loss: 0.1398 - accuracy: 0.9496 - val_loss: 1.4931 - val_accuracy: 0.7559 - lr: 0.0010 - 9s/epoch - 50ms/step
Epoch 90/100
176/176 - 9s - loss: 0.1385 - accuracy: 0.9503 - val_loss: 1.5094 - val_accuracy: 0.7542 - lr: 0.0010 - 9s/epoch - 51ms/step
Epoch 91/100
176/176 - 9s - loss: 0.1352 - accuracy: 0.9515 - val_loss: 1.4692 - val_accuracy: 0.7650 - lr: 0.0010 - 9s/epoch - 50ms/step
Epoch 92/100
176/176 - 9s - loss: 0.1370 - accuracy: 0.9510 - val_loss: 1.5382 - val_accuracy: 0.7555 - lr: 0.0010 - 9s/epoch - 50ms/step
Epoch 93/100
176/176 - 9s - loss: 0.1376 - accuracy: 0.9503 - val_loss: 1.5131 - val_accuracy: 0.7612 - lr: 0.0010 - 9s/epoch - 50ms/step
Epoch 94/100
176/176 - 9s - loss: 0.1336 - accuracy: 0.9528 - val_loss: 1.5525 - val_accuracy: 0.7590 - lr: 0.0010 - 9s/epoch - 50ms/step
Epoch 95/100
176/176 - 9s - loss: 0.1375 - accuracy: 0.9515 - val_loss: 1.4797 - val_accuracy: 0.7647 - lr: 0.0010 - 9s/epoch - 50ms/step
Epoch 96/100
176/176 - 9s - loss: 0.1389 - accuracy: 0.9509 - val_loss: 1.5396 - val_accuracy: 0.7561 - lr: 0.0010 - 9s/epoch - 50ms/step
Epoch 97/100
176/176 - 9s - loss: 0.1402 - accuracy: 0.9499 - val_loss: 1.4452 - val_accuracy: 0.7681 - lr: 0.0010 - 9s/epoch - 50ms/step
Epoch 98/100
176/176 - 9s - loss: 0.1465 - accuracy: 0.9475 - val_loss: 1.4543 - val_accuracy: 0.7621 - lr: 0.0010 - 9s/epoch - 50ms/step
Epoch 99/100
176/176 - 9s - loss: 0.1407 - accuracy: 0.9493 - val_loss: 1.4945 - val_accuracy: 0.7608 - lr: 0.0010 - 9s/epoch - 50ms/step
Epoch 100/100
176/176 - 9s - loss: 0.1429 - accuracy: 0.9487 - val_loss: 1.4725 - val_accuracy: 0.7664 - lr: 0.0010 - 9s/epoch - 50ms/step
Epoch 1/100
36/36 - 10s - loss: 0.1311 - accuracy: 0.9539 - val_loss: 1.5261 - val_accuracy: 0.7590 - lr: 0.0010 - 10s/epoch - 291ms/step
Epoch 2/100
36/36 - 8s - loss: 0.1213 - accuracy: 0.9577 - val_loss: 1.5105 - val_accuracy: 0.7595 - lr: 0.0010 - 8s/epoch - 214ms/step
Epoch 3/100
36/36 - 8s - loss: 0.1191 - accuracy: 0.9583 - val_loss: 1.5528 - val_accuracy: 0.7594 - lr: 0.0010 - 8s/epoch - 213ms/step
Epoch 4/100
36/36 - 8s - loss: 0.1188 - accuracy: 0.9590 - val_loss: 1.5348 - val_accuracy: 0.7624 - lr: 0.0010 - 8s/epoch - 213ms/step
Epoch 5/100
36/36 - 8s - loss: 0.1164 - accuracy: 0.9592 - val_loss: 1.5849 - val_accuracy: 0.7568 - lr: 0.0010 - 8s/epoch - 214ms/step
Epoch 6/100
36/36 - 8s - loss: 0.1162 - accuracy: 0.9588 - val_loss: 1.6109 - val_accuracy: 0.7555 - lr: 0.0010 - 8s/epoch - 214ms/step
Epoch 7/100
36/36 - 8s - loss: 0.1136 - accuracy: 0.9603 - val_loss: 1.6091 - val_accuracy: 0.7569 - lr: 0.0010 - 8s/epoch - 213ms/step
Epoch 8/100
36/36 - 8s - loss: 0.1143 - accuracy: 0.9594 - val_loss: 1.6064 - val_accuracy: 0.7559 - lr: 0.0010 - 8s/epoch - 213ms/step
Epoch 9/100
36/36 - 8s - loss: 0.1100 - accuracy: 0.9611 - val_loss: 1.6569 - val_accuracy: 0.7542 - lr: 0.0010 - 8s/epoch - 213ms/step
Epoch 10/100
36/36 - 8s - loss: 0.1150 - accuracy: 0.9592 - val_loss: 1.5822 - val_accuracy: 0.7605 - lr: 0.0010 - 8s/epoch - 215ms/step
Epoch 11/100
36/36 - 8s - loss: 0.1152 - accuracy: 0.9592 - val_loss: 1.6120 - val_accuracy: 0.7589 - lr: 0.0010 - 8s/epoch - 214ms/step
Epoch 12/100
36/36 - 8s - loss: 0.1168 - accuracy: 0.9585 - val_loss: 1.6335 - val_accuracy: 0.7557 - lr: 0.0010 - 8s/epoch - 213ms/step
Epoch 13/100
36/36 - 8s - loss: 0.1153 - accuracy: 0.9593 - val_loss: 1.6621 - val_accuracy: 0.7545 - lr: 0.0010 - 8s/epoch - 214ms/step
Epoch 14/100
36/36 - 8s - loss: 0.1135 - accuracy: 0.9603 - val_loss: 1.6576 - val_accuracy: 0.7536 - lr: 0.0010 - 8s/epoch - 214ms/step
Epoch 15/100
36/36 - 8s - loss: 0.1135 - accuracy: 0.9601 - val_loss: 1.6872 - val_accuracy: 0.7521 - lr: 0.0010 - 8s/epoch - 214ms/step
Epoch 16/100
36/36 - 8s - loss: 0.1152 - accuracy: 0.9591 - val_loss: 1.6563 - val_accuracy: 0.7576 - lr: 0.0010 - 8s/epoch - 214ms/step
Epoch 17/100
36/36 - 8s - loss: 0.1183 - accuracy: 0.9586 - val_loss: 1.6573 - val_accuracy: 0.7552 - lr: 0.0010 - 8s/epoch - 214ms/step
Epoch 18/100
36/36 - 8s - loss: 0.1133 - accuracy: 0.9603 - val_loss: 1.6804 - val_accuracy: 0.7553 - lr: 0.0010 - 8s/epoch - 214ms/step
Epoch 19/100
36/36 - 8s - loss: 0.1100 - accuracy: 0.9610 - val_loss: 1.7130 - val_accuracy: 0.7519 - lr: 0.0010 - 8s/epoch - 215ms/step
Epoch 20/100
36/36 - 8s - loss: 0.1092 - accuracy: 0.9616 - val_loss: 1.7017 - val_accuracy: 0.7541 - lr: 0.0010 - 8s/epoch - 214ms/step
Epoch 21/100
36/36 - 8s - loss: 0.1113 - accuracy: 0.9604 - val_loss: 1.7073 - val_accuracy: 0.7551 - lr: 0.0010 - 8s/epoch - 214ms/step
Epoch 22/100
36/36 - 8s - loss: 0.1094 - accuracy: 0.9614 - val_loss: 1.7470 - val_accuracy: 0.7520 - lr: 0.0010 - 8s/epoch - 216ms/step
Epoch 23/100
36/36 - 8s - loss: 0.1070 - accuracy: 0.9626 - val_loss: 1.7446 - val_accuracy: 0.7519 - lr: 0.0010 - 8s/epoch - 216ms/step
Epoch 24/100
36/36 - 8s - loss: 0.1107 - accuracy: 0.9610 - val_loss: 1.7447 - val_accuracy: 0.7522 - lr: 0.0010 - 8s/epoch - 213ms/step
Epoch 25/100
36/36 - 8s - loss: 0.1146 - accuracy: 0.9590 - val_loss: 1.7453 - val_accuracy: 0.7535 - lr: 0.0010 - 8s/epoch - 214ms/step
Epoch 26/100
36/36 - 8s - loss: 0.1116 - accuracy: 0.9609 - val_loss: 1.7615 - val_accuracy: 0.7526 - lr: 0.0010 - 8s/epoch - 215ms/step
Epoch 27/100
36/36 - 8s - loss: 0.1107 - accuracy: 0.9612 - val_loss: 1.7293 - val_accuracy: 0.7561 - lr: 0.0010 - 8s/epoch - 214ms/step
Epoch 28/100
36/36 - 8s - loss: 0.1175 - accuracy: 0.9585 - val_loss: 1.7414 - val_accuracy: 0.7547 - lr: 0.0010 - 8s/epoch - 215ms/step
Epoch 29/100
36/36 - 8s - loss: 0.1084 - accuracy: 0.9622 - val_loss: 1.7359 - val_accuracy: 0.7553 - lr: 0.0010 - 8s/epoch - 215ms/step
Epoch 30/100
36/36 - 8s - loss: 0.1102 - accuracy: 0.9615 - val_loss: 1.7788 - val_accuracy: 0.7532 - lr: 0.0010 - 8s/epoch - 214ms/step
Epoch 31/100
36/36 - 8s - loss: 0.1097 - accuracy: 0.9612 - val_loss: 1.7085 - val_accuracy: 0.7574 - lr: 0.0010 - 8s/epoch - 215ms/step
Epoch 32/100
36/36 - 8s - loss: 0.1130 - accuracy: 0.9595 - val_loss: 1.7772 - val_accuracy: 0.7509 - lr: 0.0010 - 8s/epoch - 214ms/step
Epoch 33/100
36/36 - 8s - loss: 0.1112 - accuracy: 0.9612 - val_loss: 1.8351 - val_accuracy: 0.7471 - lr: 0.0010 - 8s/epoch - 215ms/step
Epoch 34/100
36/36 - 8s - loss: 0.1119 - accuracy: 0.9604 - val_loss: 1.7874 - val_accuracy: 0.7502 - lr: 0.0010 - 8s/epoch - 213ms/step
Epoch 35/100
36/36 - 8s - loss: 0.1075 - accuracy: 0.9624 - val_loss: 1.7750 - val_accuracy: 0.7542 - lr: 0.0010 - 8s/epoch - 214ms/step
Epoch 36/100
36/36 - 8s - loss: 0.1093 - accuracy: 0.9615 - val_loss: 1.8037 - val_accuracy: 0.7493 - lr: 0.0010 - 8s/epoch - 216ms/step
Epoch 37/100
36/36 - 8s - loss: 0.1089 - accuracy: 0.9625 - val_loss: 1.7673 - val_accuracy: 0.7525 - lr: 0.0010 - 8s/epoch - 216ms/step
Epoch 38/100
36/36 - 8s - loss: 0.1116 - accuracy: 0.9608 - val_loss: 1.7801 - val_accuracy: 0.7527 - lr: 0.0010 - 8s/epoch - 214ms/step
Epoch 39/100
36/36 - 8s - loss: 0.1086 - accuracy: 0.9621 - val_loss: 1.8073 - val_accuracy: 0.7503 - lr: 0.0010 - 8s/epoch - 215ms/step
Epoch 40/100
36/36 - 8s - loss: 0.1102 - accuracy: 0.9611 - val_loss: 1.7393 - val_accuracy: 0.7562 - lr: 0.0010 - 8s/epoch - 215ms/step
Epoch 41/100
36/36 - 8s - loss: 0.1068 - accuracy: 0.9622 - val_loss: 1.7361 - val_accuracy: 0.7568 - lr: 0.0010 - 8s/epoch - 215ms/step
Epoch 42/100
36/36 - 8s - loss: 0.1069 - accuracy: 0.9621 - val_loss: 1.7465 - val_accuracy: 0.7569 - lr: 0.0010 - 8s/epoch - 214ms/step
Epoch 43/100
36/36 - 8s - loss: 0.1077 - accuracy: 0.9625 - val_loss: 1.7869 - val_accuracy: 0.7528 - lr: 0.0010 - 8s/epoch - 214ms/step
Epoch 44/100
36/36 - 8s - loss: 0.1054 - accuracy: 0.9638 - val_loss: 1.7952 - val_accuracy: 0.7538 - lr: 0.0010 - 8s/epoch - 215ms/step
Epoch 45/100
36/36 - 8s - loss: 0.1083 - accuracy: 0.9621 - val_loss: 1.7807 - val_accuracy: 0.7556 - lr: 0.0010 - 8s/epoch - 215ms/step
Epoch 46/100
36/36 - 8s - loss: 0.1062 - accuracy: 0.9616 - val_loss: 1.7865 - val_accuracy: 0.7585 - lr: 0.0010 - 8s/epoch - 214ms/step
Epoch 47/100
36/36 - 8s - loss: 0.1111 - accuracy: 0.9609 - val_loss: 1.8211 - val_accuracy: 0.7537 - lr: 0.0010 - 8s/epoch - 214ms/step
Epoch 48/100
36/36 - 8s - loss: 0.1070 - accuracy: 0.9626 - val_loss: 1.8305 - val_accuracy: 0.7510 - lr: 0.0010 - 8s/epoch - 215ms/step
Epoch 49/100
36/36 - 8s - loss: 0.1090 - accuracy: 0.9617 - val_loss: 1.7900 - val_accuracy: 0.7563 - lr: 0.0010 - 8s/epoch - 215ms/step
Epoch 50/100
36/36 - 8s - loss: 0.1086 - accuracy: 0.9622 - val_loss: 1.8110 - val_accuracy: 0.7543 - lr: 0.0010 - 8s/epoch - 214ms/step
Epoch 51/100
36/36 - 8s - loss: 0.1088 - accuracy: 0.9615 - val_loss: 1.8540 - val_accuracy: 0.7507 - lr: 0.0010 - 8s/epoch - 214ms/step
Epoch 52/100
36/36 - 8s - loss: 0.1062 - accuracy: 0.9631 - val_loss: 1.8521 - val_accuracy: 0.7526 - lr: 0.0010 - 8s/epoch - 214ms/step
Epoch 53/100
36/36 - 8s - loss: 0.1076 - accuracy: 0.9624 - val_loss: 1.8631 - val_accuracy: 0.7521 - lr: 0.0010 - 8s/epoch - 214ms/step
Epoch 54/100
36/36 - 8s - loss: 0.1093 - accuracy: 0.9616 - val_loss: 1.8541 - val_accuracy: 0.7504 - lr: 0.0010 - 8s/epoch - 215ms/step
Epoch 55/100
36/36 - 8s - loss: 0.1087 - accuracy: 0.9623 - val_loss: 1.8836 - val_accuracy: 0.7499 - lr: 0.0010 - 8s/epoch - 214ms/step
Epoch 56/100
36/36 - 8s - loss: 0.1086 - accuracy: 0.9622 - val_loss: 1.8554 - val_accuracy: 0.7509 - lr: 0.0010 - 8s/epoch - 215ms/step
Epoch 57/100
36/36 - 8s - loss: 0.1146 - accuracy: 0.9599 - val_loss: 1.8488 - val_accuracy: 0.7517 - lr: 0.0010 - 8s/epoch - 217ms/step
Epoch 58/100
36/36 - 8s - loss: 0.1070 - accuracy: 0.9623 - val_loss: 1.7865 - val_accuracy: 0.7585 - lr: 0.0010 - 8s/epoch - 215ms/step
Epoch 59/100
36/36 - 8s - loss: 0.1092 - accuracy: 0.9616 - val_loss: 1.8465 - val_accuracy: 0.7495 - lr: 0.0010 - 8s/epoch - 214ms/step
Epoch 60/100
36/36 - 8s - loss: 0.1108 - accuracy: 0.9616 - val_loss: 1.8739 - val_accuracy: 0.7480 - lr: 0.0010 - 8s/epoch - 214ms/step
Epoch 61/100
36/36 - 8s - loss: 0.1079 - accuracy: 0.9625 - val_loss: 1.8632 - val_accuracy: 0.7495 - lr: 0.0010 - 8s/epoch - 215ms/step
Epoch 62/100
36/36 - 8s - loss: 0.1087 - accuracy: 0.9618 - val_loss: 1.8967 - val_accuracy: 0.7471 - lr: 0.0010 - 8s/epoch - 215ms/step
Epoch 63/100
36/36 - 8s - loss: 0.1053 - accuracy: 0.9627 - val_loss: 1.8805 - val_accuracy: 0.7492 - lr: 0.0010 - 8s/epoch - 214ms/step
Epoch 64/100
36/36 - 8s - loss: 0.1082 - accuracy: 0.9627 - val_loss: 1.8518 - val_accuracy: 0.7524 - lr: 0.0010 - 8s/epoch - 215ms/step
Epoch 65/100
36/36 - 8s - loss: 0.1076 - accuracy: 0.9624 - val_loss: 1.8498 - val_accuracy: 0.7519 - lr: 0.0010 - 8s/epoch - 215ms/step
Epoch 66/100
36/36 - 8s - loss: 0.1085 - accuracy: 0.9619 - val_loss: 1.8156 - val_accuracy: 0.7563 - lr: 0.0010 - 8s/epoch - 216ms/step
Epoch 67/100
36/36 - 8s - loss: 0.1072 - accuracy: 0.9615 - val_loss: 1.8577 - val_accuracy: 0.7529 - lr: 0.0010 - 8s/epoch - 214ms/step
Epoch 68/100
36/36 - 8s - loss: 0.1064 - accuracy: 0.9621 - val_loss: 1.8752 - val_accuracy: 0.7537 - lr: 0.0010 - 8s/epoch - 214ms/step
Epoch 69/100
36/36 - 8s - loss: 0.1090 - accuracy: 0.9623 - val_loss: 1.8465 - val_accuracy: 0.7558 - lr: 0.0010 - 8s/epoch - 215ms/step
Epoch 70/100
36/36 - 8s - loss: 0.1119 - accuracy: 0.9612 - val_loss: 1.8319 - val_accuracy: 0.7542 - lr: 0.0010 - 8s/epoch - 214ms/step
Epoch 71/100
36/36 - 8s - loss: 0.1113 - accuracy: 0.9606 - val_loss: 1.8677 - val_accuracy: 0.7520 - lr: 0.0010 - 8s/epoch - 215ms/step
Epoch 72/100
36/36 - 8s - loss: 0.1098 - accuracy: 0.9611 - val_loss: 1.8896 - val_accuracy: 0.7523 - lr: 0.0010 - 8s/epoch - 215ms/step
Epoch 73/100
36/36 - 8s - loss: 0.1076 - accuracy: 0.9615 - val_loss: 1.8522 - val_accuracy: 0.7558 - lr: 0.0010 - 8s/epoch - 215ms/step
Epoch 74/100
36/36 - 8s - loss: 0.1092 - accuracy: 0.9611 - val_loss: 1.8946 - val_accuracy: 0.7509 - lr: 0.0010 - 8s/epoch - 215ms/step
Epoch 75/100
36/36 - 8s - loss: 0.1083 - accuracy: 0.9625 - val_loss: 1.8810 - val_accuracy: 0.7522 - lr: 0.0010 - 8s/epoch - 214ms/step
Epoch 76/100
36/36 - 8s - loss: 0.1056 - accuracy: 0.9623 - val_loss: 1.9457 - val_accuracy: 0.7476 - lr: 0.0010 - 8s/epoch - 214ms/step
Epoch 77/100
36/36 - 8s - loss: 0.1106 - accuracy: 0.9621 - val_loss: 1.8903 - val_accuracy: 0.7523 - lr: 0.0010 - 8s/epoch - 215ms/step
Epoch 78/100
36/36 - 8s - loss: 0.1054 - accuracy: 0.9626 - val_loss: 1.8964 - val_accuracy: 0.7530 - lr: 0.0010 - 8s/epoch - 213ms/step
Epoch 79/100
36/36 - 8s - loss: 0.1071 - accuracy: 0.9623 - val_loss: 1.9453 - val_accuracy: 0.7475 - lr: 0.0010 - 8s/epoch - 216ms/step
Epoch 80/100
36/36 - 8s - loss: 0.1061 - accuracy: 0.9635 - val_loss: 1.9189 - val_accuracy: 0.7519 - lr: 0.0010 - 8s/epoch - 215ms/step
Epoch 81/100
36/36 - 8s - loss: 0.1076 - accuracy: 0.9622 - val_loss: 1.9446 - val_accuracy: 0.7473 - lr: 0.0010 - 8s/epoch - 214ms/step
Epoch 82/100
36/36 - 8s - loss: 0.1052 - accuracy: 0.9628 - val_loss: 1.8882 - val_accuracy: 0.7541 - lr: 0.0010 - 8s/epoch - 214ms/step
Epoch 83/100
36/36 - 8s - loss: 0.1084 - accuracy: 0.9619 - val_loss: 1.8840 - val_accuracy: 0.7529 - lr: 0.0010 - 8s/epoch - 215ms/step
Epoch 84/100
36/36 - 8s - loss: 0.1054 - accuracy: 0.9628 - val_loss: 1.8809 - val_accuracy: 0.7568 - lr: 0.0010 - 8s/epoch - 214ms/step
Epoch 85/100
36/36 - 8s - loss: 0.1063 - accuracy: 0.9629 - val_loss: 1.9681 - val_accuracy: 0.7480 - lr: 0.0010 - 8s/epoch - 214ms/step
Epoch 86/100
36/36 - 8s - loss: 0.1048 - accuracy: 0.9631 - val_loss: 1.9476 - val_accuracy: 0.7498 - lr: 0.0010 - 8s/epoch - 214ms/step
Epoch 87/100
36/36 - 8s - loss: 0.1043 - accuracy: 0.9631 - val_loss: 1.9214 - val_accuracy: 0.7523 - lr: 0.0010 - 8s/epoch - 216ms/step
Epoch 88/100
36/36 - 8s - loss: 0.1068 - accuracy: 0.9626 - val_loss: 1.9921 - val_accuracy: 0.7447 - lr: 0.0010 - 8s/epoch - 216ms/step
Epoch 89/100
36/36 - 8s - loss: 0.1047 - accuracy: 0.9629 - val_loss: 1.9345 - val_accuracy: 0.7519 - lr: 0.0010 - 8s/epoch - 215ms/step
Epoch 90/100
36/36 - 8s - loss: 0.1065 - accuracy: 0.9626 - val_loss: 1.8844 - val_accuracy: 0.7553 - lr: 0.0010 - 8s/epoch - 215ms/step
Epoch 91/100
36/36 - 8s - loss: 0.1094 - accuracy: 0.9616 - val_loss: 1.9172 - val_accuracy: 0.7520 - lr: 0.0010 - 8s/epoch - 214ms/step
Epoch 92/100
36/36 - 8s - loss: 0.1043 - accuracy: 0.9639 - val_loss: 2.0027 - val_accuracy: 0.7443 - lr: 0.0010 - 8s/epoch - 215ms/step
Epoch 93/100
36/36 - 8s - loss: 0.1030 - accuracy: 0.9637 - val_loss: 1.9554 - val_accuracy: 0.7490 - lr: 0.0010 - 8s/epoch - 214ms/step
Epoch 94/100
36/36 - 8s - loss: 0.1074 - accuracy: 0.9619 - val_loss: 1.9603 - val_accuracy: 0.7484 - lr: 0.0010 - 8s/epoch - 214ms/step
Epoch 95/100
36/36 - 8s - loss: 0.1070 - accuracy: 0.9621 - val_loss: 1.9524 - val_accuracy: 0.7505 - lr: 0.0010 - 8s/epoch - 214ms/step
Epoch 96/100
36/36 - 8s - loss: 0.1039 - accuracy: 0.9639 - val_loss: 1.9257 - val_accuracy: 0.7552 - lr: 0.0010 - 8s/epoch - 215ms/step
Epoch 97/100
36/36 - 8s - loss: 0.1045 - accuracy: 0.9634 - val_loss: 1.9227 - val_accuracy: 0.7546 - lr: 0.0010 - 8s/epoch - 216ms/step
Epoch 98/100
36/36 - 8s - loss: 0.1051 - accuracy: 0.9636 - val_loss: 1.9850 - val_accuracy: 0.7501 - lr: 0.0010 - 8s/epoch - 214ms/step
Epoch 99/100
36/36 - 8s - loss: 0.1065 - accuracy: 0.9623 - val_loss: 2.0260 - val_accuracy: 0.7442 - lr: 0.0010 - 8s/epoch - 214ms/step
Epoch 100/100
36/36 - 8s - loss: 0.1108 - accuracy: 0.9603 - val_loss: 1.9812 - val_accuracy: 0.7518 - lr: 0.0010 - 8s/epoch - 216ms/step
Epoch 1/25
4378/4378 - 77s - loss: 0.1084 - accuracy: 0.8934 - val_loss: 0.3747 - val_accuracy: 0.7520 - lr: 0.0010 - 77s/epoch - 18ms/step
Epoch 2/25
4378/4378 - 74s - loss: 0.1077 - accuracy: 0.8897 - val_loss: 0.3297 - val_accuracy: 0.7600 - lr: 0.0010 - 74s/epoch - 17ms/step
Epoch 3/25
4378/4378 - 74s - loss: 0.1091 - accuracy: 0.8871 - val_loss: 0.3243 - val_accuracy: 0.7496 - lr: 0.0010 - 74s/epoch - 17ms/step
Epoch 4/25
4378/4378 - 74s - loss: 0.1098 - accuracy: 0.8866 - val_loss: 0.3024 - val_accuracy: 0.7655 - lr: 0.0010 - 74s/epoch - 17ms/step
Epoch 5/25
4378/4378 - 74s - loss: 0.1085 - accuracy: 0.8875 - val_loss: 0.2719 - val_accuracy: 0.7867 - lr: 0.0010 - 74s/epoch - 17ms/step
Epoch 6/25
4378/4378 - 75s - loss: 0.1091 - accuracy: 0.8870 - val_loss: 0.2688 - val_accuracy: 0.7779 - lr: 0.0010 - 75s/epoch - 17ms/step
Epoch 7/25
4378/4378 - 74s - loss: 0.1080 - accuracy: 0.8868 - val_loss: 0.2823 - val_accuracy: 0.7829 - lr: 0.0010 - 74s/epoch - 17ms/step
Epoch 8/25
4378/4378 - 74s - loss: 0.1077 - accuracy: 0.8886 - val_loss: 0.2728 - val_accuracy: 0.7746 - lr: 0.0010 - 74s/epoch - 17ms/step
Epoch 9/25
4378/4378 - 74s - loss: 0.1085 - accuracy: 0.8865 - val_loss: 0.2839 - val_accuracy: 0.7703 - lr: 0.0010 - 74s/epoch - 17ms/step
Epoch 10/25
4378/4378 - 74s - loss: 0.1093 - accuracy: 0.8861 - val_loss: 0.2972 - val_accuracy: 0.7533 - lr: 0.0010 - 74s/epoch - 17ms/step
Epoch 11/25
4378/4378 - 74s - loss: 0.1092 - accuracy: 0.8857 - val_loss: 0.2814 - val_accuracy: 0.7653 - lr: 0.0010 - 74s/epoch - 17ms/step
Epoch 12/25
4378/4378 - 74s - loss: 0.1070 - accuracy: 0.8881 - val_loss: 0.2842 - val_accuracy: 0.7601 - lr: 0.0010 - 74s/epoch - 17ms/step
Epoch 13/25
4378/4378 - 74s - loss: 0.1080 - accuracy: 0.8867 - val_loss: 0.2957 - val_accuracy: 0.7610 - lr: 0.0010 - 74s/epoch - 17ms/step
Epoch 14/25
4378/4378 - 74s - loss: 0.1074 - accuracy: 0.8879 - val_loss: 0.2657 - val_accuracy: 0.7746 - lr: 0.0010 - 74s/epoch - 17ms/step
Epoch 15/25
4378/4378 - 74s - loss: 0.1082 - accuracy: 0.8865 - val_loss: 0.2752 - val_accuracy: 0.7676 - lr: 0.0010 - 74s/epoch - 17ms/step
Epoch 16/25
4378/4378 - 74s - loss: 0.1089 - accuracy: 0.8863 - val_loss: 0.2836 - val_accuracy: 0.7719 - lr: 0.0010 - 74s/epoch - 17ms/step
Epoch 17/25
4378/4378 - 74s - loss: 0.1092 - accuracy: 0.8858 - val_loss: 0.2787 - val_accuracy: 0.7617 - lr: 0.0010 - 74s/epoch - 17ms/step
Epoch 18/25
4378/4378 - 74s - loss: 0.1082 - accuracy: 0.8871 - val_loss: 0.2902 - val_accuracy: 0.7542 - lr: 0.0010 - 74s/epoch - 17ms/step
Epoch 19/25
4378/4378 - 75s - loss: 0.1092 - accuracy: 0.8865 - val_loss: 0.2605 - val_accuracy: 0.7745 - lr: 0.0010 - 75s/epoch - 17ms/step
Epoch 20/25
4378/4378 - 75s - loss: 0.1088 - accuracy: 0.8865 - val_loss: 0.2761 - val_accuracy: 0.7632 - lr: 0.0010 - 75s/epoch - 17ms/step
Epoch 21/25
4378/4378 - 74s - loss: 0.1079 - accuracy: 0.8878 - val_loss: 0.2489 - val_accuracy: 0.7867 - lr: 0.0010 - 74s/epoch - 17ms/step
Epoch 22/25
4378/4378 - 74s - loss: 0.1074 - accuracy: 0.8873 - val_loss: 0.2508 - val_accuracy: 0.7846 - lr: 0.0010 - 74s/epoch - 17ms/step
Epoch 23/25
4378/4378 - 74s - loss: 0.1075 - accuracy: 0.8878 - val_loss: 0.2477 - val_accuracy: 0.7933 - lr: 0.0010 - 74s/epoch - 17ms/step
Epoch 24/25
4378/4378 - 74s - loss: 0.1089 - accuracy: 0.8869 - val_loss: 0.2563 - val_accuracy: 0.7859 - lr: 0.0010 - 74s/epoch - 17ms/step
Epoch 25/25
4378/4378 - 75s - loss: 0.1067 - accuracy: 0.8890 - val_loss: 0.2662 - val_accuracy: 0.7759 - lr: 0.0010 - 75s/epoch - 17ms/step
Epoch 1/25
876/876 - 21s - loss: 0.0797 - accuracy: 0.9184 - val_loss: 0.3325 - val_accuracy: 0.7602 - lr: 0.0010 - 21s/epoch - 24ms/step
Epoch 2/25
876/876 - 18s - loss: 0.0808 - accuracy: 0.9167 - val_loss: 0.3104 - val_accuracy: 0.7657 - lr: 0.0010 - 18s/epoch - 21ms/step
Epoch 3/25
876/876 - 18s - loss: 0.0805 - accuracy: 0.9173 - val_loss: 0.3228 - val_accuracy: 0.7575 - lr: 0.0010 - 18s/epoch - 21ms/step
Epoch 4/25
876/876 - 18s - loss: 0.0795 - accuracy: 0.9189 - val_loss: 0.3391 - val_accuracy: 0.7554 - lr: 0.0010 - 18s/epoch - 21ms/step
Epoch 5/25
876/876 - 18s - loss: 0.0777 - accuracy: 0.9208 - val_loss: 0.3227 - val_accuracy: 0.7700 - lr: 0.0010 - 18s/epoch - 21ms/step
Epoch 6/25
876/876 - 18s - loss: 0.0784 - accuracy: 0.9201 - val_loss: 0.3560 - val_accuracy: 0.7490 - lr: 0.0010 - 18s/epoch - 21ms/step
Epoch 7/25
876/876 - 18s - loss: 0.0780 - accuracy: 0.9200 - val_loss: 0.3124 - val_accuracy: 0.7788 - lr: 0.0010 - 18s/epoch - 21ms/step
Epoch 8/25
876/876 - 18s - loss: 0.0767 - accuracy: 0.9225 - val_loss: 0.3314 - val_accuracy: 0.7644 - lr: 0.0010 - 18s/epoch - 21ms/step
Epoch 9/25
876/876 - 18s - loss: 0.0774 - accuracy: 0.9224 - val_loss: 0.3578 - val_accuracy: 0.7576 - lr: 0.0010 - 18s/epoch - 21ms/step
Epoch 10/25
876/876 - 18s - loss: 0.0766 - accuracy: 0.9224 - val_loss: 0.3786 - val_accuracy: 0.7465 - lr: 0.0010 - 18s/epoch - 21ms/step
Epoch 11/25
876/876 - 18s - loss: 0.0760 - accuracy: 0.9230 - val_loss: 0.3749 - val_accuracy: 0.7511 - lr: 0.0010 - 18s/epoch - 21ms/step
Epoch 12/25
876/876 - 18s - loss: 0.0759 - accuracy: 0.9231 - val_loss: 0.3794 - val_accuracy: 0.7465 - lr: 0.0010 - 18s/epoch - 21ms/step
Epoch 13/25
876/876 - 18s - loss: 0.0765 - accuracy: 0.9216 - val_loss: 0.3532 - val_accuracy: 0.7538 - lr: 0.0010 - 18s/epoch - 21ms/step
Epoch 14/25
876/876 - 18s - loss: 0.0750 - accuracy: 0.9244 - val_loss: 0.3958 - val_accuracy: 0.7375 - lr: 0.0010 - 18s/epoch - 21ms/step
Epoch 15/25
876/876 - 18s - loss: 0.0736 - accuracy: 0.9253 - val_loss: 0.3816 - val_accuracy: 0.7440 - lr: 0.0010 - 18s/epoch - 21ms/step
Epoch 16/25
876/876 - 18s - loss: 0.0749 - accuracy: 0.9243 - val_loss: 0.3597 - val_accuracy: 0.7611 - lr: 0.0010 - 18s/epoch - 21ms/step
Epoch 17/25
876/876 - 18s - loss: 0.0744 - accuracy: 0.9245 - val_loss: 0.3551 - val_accuracy: 0.7645 - lr: 0.0010 - 18s/epoch - 21ms/step
Epoch 18/25
876/876 - 18s - loss: 0.0739 - accuracy: 0.9252 - val_loss: 0.3715 - val_accuracy: 0.7557 - lr: 0.0010 - 18s/epoch - 21ms/step
Epoch 19/25
876/876 - 18s - loss: 0.0734 - accuracy: 0.9247 - val_loss: 0.3876 - val_accuracy: 0.7495 - lr: 0.0010 - 18s/epoch - 21ms/step
Epoch 20/25
876/876 - 18s - loss: 0.0729 - accuracy: 0.9262 - val_loss: 0.3823 - val_accuracy: 0.7545 - lr: 0.0010 - 18s/epoch - 21ms/step
Epoch 21/25
876/876 - 18s - loss: 0.0742 - accuracy: 0.9248 - val_loss: 0.3677 - val_accuracy: 0.7574 - lr: 0.0010 - 18s/epoch - 21ms/step
Epoch 22/25
876/876 - 18s - loss: 0.0745 - accuracy: 0.9241 - val_loss: 0.3411 - val_accuracy: 0.7717 - lr: 0.0010 - 18s/epoch - 21ms/step
Epoch 23/25
876/876 - 18s - loss: 0.0741 - accuracy: 0.9245 - val_loss: 0.3498 - val_accuracy: 0.7690 - lr: 0.0010 - 18s/epoch - 21ms/step
Epoch 24/25
876/876 - 18s - loss: 0.0751 - accuracy: 0.9237 - val_loss: 0.3558 - val_accuracy: 0.7591 - lr: 0.0010 - 18s/epoch - 21ms/step
Epoch 25/25
876/876 - 18s - loss: 0.0729 - accuracy: 0.9261 - val_loss: 0.3696 - val_accuracy: 0.7547 - lr: 0.0010 - 18s/epoch - 21ms/step
Epoch 1/25
176/176 - 12s - loss: 0.0588 - accuracy: 0.9421 - val_loss: 0.3818 - val_accuracy: 0.7568 - lr: 0.0010 - 12s/epoch - 69ms/step
Epoch 2/25
176/176 - 9s - loss: 0.0541 - accuracy: 0.9472 - val_loss: 0.3847 - val_accuracy: 0.7602 - lr: 0.0010 - 9s/epoch - 52ms/step
Epoch 3/25
176/176 - 9s - loss: 0.0535 - accuracy: 0.9483 - val_loss: 0.4339 - val_accuracy: 0.7449 - lr: 0.0010 - 9s/epoch - 51ms/step
Epoch 4/25
176/176 - 9s - loss: 0.0525 - accuracy: 0.9485 - val_loss: 0.4333 - val_accuracy: 0.7508 - lr: 0.0010 - 9s/epoch - 51ms/step
Epoch 5/25
176/176 - 9s - loss: 0.0532 - accuracy: 0.9475 - val_loss: 0.4255 - val_accuracy: 0.7539 - lr: 0.0010 - 9s/epoch - 51ms/step
Epoch 6/25
176/176 - 9s - loss: 0.0537 - accuracy: 0.9470 - val_loss: 0.4266 - val_accuracy: 0.7553 - lr: 0.0010 - 9s/epoch - 52ms/step
Epoch 7/25
176/176 - 9s - loss: 0.0549 - accuracy: 0.9457 - val_loss: 0.4390 - val_accuracy: 0.7532 - lr: 0.0010 - 9s/epoch - 51ms/step
Epoch 8/25
176/176 - 9s - loss: 0.0564 - accuracy: 0.9438 - val_loss: 0.4284 - val_accuracy: 0.7575 - lr: 0.0010 - 9s/epoch - 51ms/step
Epoch 9/25
176/176 - 9s - loss: 0.0563 - accuracy: 0.9441 - val_loss: 0.4219 - val_accuracy: 0.7618 - lr: 0.0010 - 9s/epoch - 52ms/step
Epoch 10/25
176/176 - 9s - loss: 0.0556 - accuracy: 0.9450 - val_loss: 0.4513 - val_accuracy: 0.7508 - lr: 0.0010 - 9s/epoch - 51ms/step
Epoch 11/25
176/176 - 9s - loss: 0.0560 - accuracy: 0.9443 - val_loss: 0.4328 - val_accuracy: 0.7597 - lr: 0.0010 - 9s/epoch - 51ms/step
Epoch 12/25
176/176 - 9s - loss: 0.0551 - accuracy: 0.9457 - val_loss: 0.4514 - val_accuracy: 0.7546 - lr: 0.0010 - 9s/epoch - 52ms/step
Epoch 13/25
176/176 - 9s - loss: 0.0526 - accuracy: 0.9486 - val_loss: 0.4198 - val_accuracy: 0.7669 - lr: 0.0010 - 9s/epoch - 51ms/step
Epoch 14/25
176/176 - 9s - loss: 0.0525 - accuracy: 0.9486 - val_loss: 0.4375 - val_accuracy: 0.7608 - lr: 0.0010 - 9s/epoch - 51ms/step
Epoch 15/25
176/176 - 9s - loss: 0.0529 - accuracy: 0.9470 - val_loss: 0.4241 - val_accuracy: 0.7655 - lr: 0.0010 - 9s/epoch - 51ms/step
Epoch 16/25
176/176 - 9s - loss: 0.0531 - accuracy: 0.9479 - val_loss: 0.4418 - val_accuracy: 0.7571 - lr: 0.0010 - 9s/epoch - 51ms/step
Epoch 17/25
176/176 - 9s - loss: 0.0530 - accuracy: 0.9478 - val_loss: 0.4593 - val_accuracy: 0.7562 - lr: 0.0010 - 9s/epoch - 52ms/step
Epoch 18/25
176/176 - 9s - loss: 0.0537 - accuracy: 0.9475 - val_loss: 0.4534 - val_accuracy: 0.7600 - lr: 0.0010 - 9s/epoch - 51ms/step
Epoch 19/25
176/176 - 9s - loss: 0.0532 - accuracy: 0.9476 - val_loss: 0.4393 - val_accuracy: 0.7600 - lr: 0.0010 - 9s/epoch - 52ms/step
Epoch 20/25
176/176 - 9s - loss: 0.0529 - accuracy: 0.9478 - val_loss: 0.4531 - val_accuracy: 0.7540 - lr: 0.0010 - 9s/epoch - 52ms/step
Epoch 21/25
176/176 - 9s - loss: 0.0527 - accuracy: 0.9481 - val_loss: 0.4724 - val_accuracy: 0.7452 - lr: 0.0010 - 9s/epoch - 51ms/step
Epoch 22/25
176/176 - 9s - loss: 0.0531 - accuracy: 0.9483 - val_loss: 0.4746 - val_accuracy: 0.7478 - lr: 0.0010 - 9s/epoch - 51ms/step
Epoch 23/25
176/176 - 9s - loss: 0.0528 - accuracy: 0.9480 - val_loss: 0.4537 - val_accuracy: 0.7584 - lr: 0.0010 - 9s/epoch - 51ms/step
Epoch 24/25
176/176 - 9s - loss: 0.0518 - accuracy: 0.9494 - val_loss: 0.4364 - val_accuracy: 0.7623 - lr: 0.0010 - 9s/epoch - 52ms/step
Epoch 25/25
176/176 - 9s - loss: 0.0529 - accuracy: 0.9483 - val_loss: 0.4799 - val_accuracy: 0.7502 - lr: 0.0010 - 9s/epoch - 51ms/step
Epoch 1/25
36/36 - 10s - loss: 0.0491 - accuracy: 0.9522 - val_loss: 0.4570 - val_accuracy: 0.7598 - lr: 0.0010 - 10s/epoch - 279ms/step
Epoch 2/25
36/36 - 8s - loss: 0.0456 - accuracy: 0.9551 - val_loss: 0.4604 - val_accuracy: 0.7605 - lr: 0.0010 - 8s/epoch - 215ms/step
Epoch 3/25
36/36 - 8s - loss: 0.0440 - accuracy: 0.9571 - val_loss: 0.4693 - val_accuracy: 0.7566 - lr: 0.0010 - 8s/epoch - 214ms/step
Epoch 4/25
36/36 - 8s - loss: 0.0438 - accuracy: 0.9573 - val_loss: 0.4733 - val_accuracy: 0.7550 - lr: 0.0010 - 8s/epoch - 214ms/step
Epoch 5/25
36/36 - 8s - loss: 0.0434 - accuracy: 0.9583 - val_loss: 0.4825 - val_accuracy: 0.7536 - lr: 0.0010 - 8s/epoch - 214ms/step
Epoch 6/25
36/36 - 8s - loss: 0.0426 - accuracy: 0.9589 - val_loss: 0.4777 - val_accuracy: 0.7579 - lr: 0.0010 - 8s/epoch - 215ms/step
Epoch 7/25
36/36 - 8s - loss: 0.0422 - accuracy: 0.9588 - val_loss: 0.4850 - val_accuracy: 0.7560 - lr: 0.0010 - 8s/epoch - 215ms/step
Epoch 8/25
36/36 - 8s - loss: 0.0426 - accuracy: 0.9597 - val_loss: 0.4941 - val_accuracy: 0.7524 - lr: 0.0010 - 8s/epoch - 215ms/step
Epoch 9/25
36/36 - 8s - loss: 0.0431 - accuracy: 0.9583 - val_loss: 0.4897 - val_accuracy: 0.7553 - lr: 0.0010 - 8s/epoch - 214ms/step
Epoch 10/25
36/36 - 8s - loss: 0.0420 - accuracy: 0.9596 - val_loss: 0.4993 - val_accuracy: 0.7526 - lr: 0.0010 - 8s/epoch - 216ms/step
Epoch 11/25
36/36 - 8s - loss: 0.0417 - accuracy: 0.9593 - val_loss: 0.4933 - val_accuracy: 0.7564 - lr: 0.0010 - 8s/epoch - 216ms/step
Epoch 12/25
36/36 - 8s - loss: 0.0424 - accuracy: 0.9590 - val_loss: 0.4961 - val_accuracy: 0.7538 - lr: 0.0010 - 8s/epoch - 214ms/step
Epoch 13/25
36/36 - 8s - loss: 0.0412 - accuracy: 0.9597 - val_loss: 0.5090 - val_accuracy: 0.7493 - lr: 0.0010 - 8s/epoch - 214ms/step
Epoch 14/25
36/36 - 8s - loss: 0.0421 - accuracy: 0.9581 - val_loss: 0.5128 - val_accuracy: 0.7509 - lr: 0.0010 - 8s/epoch - 214ms/step
Epoch 15/25
36/36 - 8s - loss: 0.0427 - accuracy: 0.9594 - val_loss: 0.5267 - val_accuracy: 0.7464 - lr: 0.0010 - 8s/epoch - 215ms/step
Epoch 16/25
36/36 - 8s - loss: 0.0424 - accuracy: 0.9589 - val_loss: 0.5002 - val_accuracy: 0.7568 - lr: 0.0010 - 8s/epoch - 216ms/step
Epoch 17/25
36/36 - 8s - loss: 0.0412 - accuracy: 0.9599 - val_loss: 0.4977 - val_accuracy: 0.7577 - lr: 0.0010 - 8s/epoch - 215ms/step
Epoch 18/25
36/36 - 8s - loss: 0.0419 - accuracy: 0.9589 - val_loss: 0.5156 - val_accuracy: 0.7539 - lr: 0.0010 - 8s/epoch - 214ms/step
Epoch 19/25
36/36 - 8s - loss: 0.0417 - accuracy: 0.9601 - val_loss: 0.5124 - val_accuracy: 0.7544 - lr: 0.0010 - 8s/epoch - 216ms/step
Epoch 20/25
36/36 - 8s - loss: 0.0422 - accuracy: 0.9585 - val_loss: 0.5177 - val_accuracy: 0.7537 - lr: 0.0010 - 8s/epoch - 215ms/step
Epoch 21/25
36/36 - 8s - loss: 0.0420 - accuracy: 0.9596 - val_loss: 0.5115 - val_accuracy: 0.7553 - lr: 0.0010 - 8s/epoch - 214ms/step
Epoch 22/25
36/36 - 8s - loss: 0.0412 - accuracy: 0.9593 - val_loss: 0.5099 - val_accuracy: 0.7548 - lr: 0.0010 - 8s/epoch - 214ms/step
Epoch 23/25
36/36 - 8s - loss: 0.0410 - accuracy: 0.9605 - val_loss: 0.5227 - val_accuracy: 0.7547 - lr: 0.0010 - 8s/epoch - 214ms/step
Epoch 24/25
36/36 - 8s - loss: 0.0418 - accuracy: 0.9598 - val_loss: 0.5158 - val_accuracy: 0.7538 - lr: 0.0010 - 8s/epoch - 216ms/step
Epoch 25/25
36/36 - 8s - loss: 0.0430 - accuracy: 0.9584 - val_loss: 0.5367 - val_accuracy: 0.7468 - lr: 0.0010 - 8s/epoch - 216ms/step
Epoch 1/50
4378/4378 - 76s - loss: 0.0966 - accuracy: 0.9031 - val_loss: 0.3067 - val_accuracy: 0.7790 - lr: 0.0010 - 76s/epoch - 17ms/step
Epoch 2/50
4378/4378 - 74s - loss: 0.1012 - accuracy: 0.8966 - val_loss: 0.2952 - val_accuracy: 0.7733 - lr: 0.0010 - 74s/epoch - 17ms/step
Epoch 3/50
4378/4378 - 74s - loss: 0.1043 - accuracy: 0.8920 - val_loss: 0.3266 - val_accuracy: 0.7411 - lr: 0.0010 - 74s/epoch - 17ms/step
Epoch 4/50
4378/4378 - 74s - loss: 0.1019 - accuracy: 0.8949 - val_loss: 0.2989 - val_accuracy: 0.7551 - lr: 0.0010 - 74s/epoch - 17ms/step
Epoch 5/50
4378/4378 - 74s - loss: 0.1032 - accuracy: 0.8921 - val_loss: 0.2996 - val_accuracy: 0.7595 - lr: 0.0010 - 74s/epoch - 17ms/step
Epoch 6/50
4378/4378 - 74s - loss: 0.1026 - accuracy: 0.8931 - val_loss: 0.2998 - val_accuracy: 0.7621 - lr: 0.0010 - 74s/epoch - 17ms/step
Epoch 7/50
4378/4378 - 74s - loss: 0.1048 - accuracy: 0.8908 - val_loss: 0.2643 - val_accuracy: 0.7734 - lr: 0.0010 - 74s/epoch - 17ms/step
Epoch 8/50
4378/4378 - 74s - loss: 0.1038 - accuracy: 0.8923 - val_loss: 0.2910 - val_accuracy: 0.7597 - lr: 0.0010 - 74s/epoch - 17ms/step
Epoch 9/50
4378/4378 - 74s - loss: 0.1051 - accuracy: 0.8911 - val_loss: 0.2726 - val_accuracy: 0.7738 - lr: 0.0010 - 74s/epoch - 17ms/step
Epoch 10/50
4378/4378 - 74s - loss: 0.1050 - accuracy: 0.8916 - val_loss: 0.2436 - val_accuracy: 0.8061 - lr: 0.0010 - 74s/epoch - 17ms/step
Epoch 11/50
4378/4378 - 74s - loss: 0.1045 - accuracy: 0.8923 - val_loss: 0.2625 - val_accuracy: 0.7822 - lr: 0.0010 - 74s/epoch - 17ms/step
Epoch 12/50
4378/4378 - 74s - loss: 0.1044 - accuracy: 0.8917 - val_loss: 0.3071 - val_accuracy: 0.7474 - lr: 0.0010 - 74s/epoch - 17ms/step
Epoch 13/50
4378/4378 - 74s - loss: 0.1037 - accuracy: 0.8933 - val_loss: 0.2800 - val_accuracy: 0.7674 - lr: 0.0010 - 74s/epoch - 17ms/step
Epoch 14/50
4378/4378 - 74s - loss: 0.1048 - accuracy: 0.8909 - val_loss: 0.2931 - val_accuracy: 0.7621 - lr: 0.0010 - 74s/epoch - 17ms/step
Epoch 15/50
4378/4378 - 73s - loss: 0.1046 - accuracy: 0.8922 - val_loss: 0.2880 - val_accuracy: 0.7579 - lr: 0.0010 - 73s/epoch - 17ms/step
Epoch 16/50
4378/4378 - 74s - loss: 0.1053 - accuracy: 0.8895 - val_loss: 0.2739 - val_accuracy: 0.7654 - lr: 0.0010 - 74s/epoch - 17ms/step
Epoch 17/50
4378/4378 - 74s - loss: 0.1045 - accuracy: 0.8911 - val_loss: 0.2995 - val_accuracy: 0.7548 - lr: 0.0010 - 74s/epoch - 17ms/step
Epoch 18/50
4378/4378 - 74s - loss: 0.1042 - accuracy: 0.8914 - val_loss: 0.2526 - val_accuracy: 0.8000 - lr: 0.0010 - 74s/epoch - 17ms/step
Epoch 19/50
4378/4378 - 74s - loss: 0.1038 - accuracy: 0.8931 - val_loss: 0.2605 - val_accuracy: 0.7902 - lr: 0.0010 - 74s/epoch - 17ms/step
Epoch 20/50
4378/4378 - 72s - loss: 0.1027 - accuracy: 0.8934 - val_loss: 0.2911 - val_accuracy: 0.7733 - lr: 0.0010 - 72s/epoch - 17ms/step
Epoch 21/50
4378/4378 - 74s - loss: 0.1054 - accuracy: 0.8903 - val_loss: 0.3090 - val_accuracy: 0.7465 - lr: 0.0010 - 74s/epoch - 17ms/step
Epoch 22/50
4378/4378 - 74s - loss: 0.1043 - accuracy: 0.8915 - val_loss: 0.2909 - val_accuracy: 0.7714 - lr: 0.0010 - 74s/epoch - 17ms/step
Epoch 23/50
4378/4378 - 74s - loss: 0.1037 - accuracy: 0.8925 - val_loss: 0.2741 - val_accuracy: 0.7855 - lr: 0.0010 - 74s/epoch - 17ms/step
Epoch 24/50
4378/4378 - 74s - loss: 0.1050 - accuracy: 0.8910 - val_loss: 0.2827 - val_accuracy: 0.7663 - lr: 0.0010 - 74s/epoch - 17ms/step
Epoch 25/50
4378/4378 - 74s - loss: 0.1043 - accuracy: 0.8919 - val_loss: 0.2632 - val_accuracy: 0.7886 - lr: 0.0010 - 74s/epoch - 17ms/step
Epoch 26/50
4378/4378 - 74s - loss: 0.1052 - accuracy: 0.8910 - val_loss: 0.2537 - val_accuracy: 0.7898 - lr: 0.0010 - 74s/epoch - 17ms/step
Epoch 27/50
4378/4378 - 74s - loss: 0.1048 - accuracy: 0.8906 - val_loss: 0.2584 - val_accuracy: 0.7910 - lr: 0.0010 - 74s/epoch - 17ms/step
Epoch 28/50
4378/4378 - 74s - loss: 0.1046 - accuracy: 0.8921 - val_loss: 0.2900 - val_accuracy: 0.7679 - lr: 0.0010 - 74s/epoch - 17ms/step
Epoch 29/50
4378/4378 - 74s - loss: 0.1036 - accuracy: 0.8922 - val_loss: 0.2793 - val_accuracy: 0.7661 - lr: 0.0010 - 74s/epoch - 17ms/step
Epoch 30/50
4378/4378 - 74s - loss: 0.1043 - accuracy: 0.8906 - val_loss: 0.2802 - val_accuracy: 0.7682 - lr: 0.0010 - 74s/epoch - 17ms/step
Epoch 31/50
4378/4378 - 74s - loss: 0.1056 - accuracy: 0.8902 - val_loss: 0.2990 - val_accuracy: 0.7676 - lr: 0.0010 - 74s/epoch - 17ms/step
Epoch 32/50
4378/4378 - 74s - loss: 0.1049 - accuracy: 0.8907 - val_loss: 0.2662 - val_accuracy: 0.7781 - lr: 0.0010 - 74s/epoch - 17ms/step
Epoch 33/50
4378/4378 - 74s - loss: 0.1038 - accuracy: 0.8923 - val_loss: 0.2724 - val_accuracy: 0.7715 - lr: 0.0010 - 74s/epoch - 17ms/step
Epoch 34/50
4378/4378 - 74s - loss: 0.1048 - accuracy: 0.8916 - val_loss: 0.2785 - val_accuracy: 0.7722 - lr: 0.0010 - 74s/epoch - 17ms/step
Epoch 35/50
4378/4378 - 74s - loss: 0.1058 - accuracy: 0.8885 - val_loss: 0.2635 - val_accuracy: 0.7842 - lr: 0.0010 - 74s/epoch - 17ms/step
Epoch 36/50
4378/4378 - 74s - loss: 0.1051 - accuracy: 0.8902 - val_loss: 0.2931 - val_accuracy: 0.7565 - lr: 0.0010 - 74s/epoch - 17ms/step
Epoch 37/50
4378/4378 - 74s - loss: 0.1034 - accuracy: 0.8922 - val_loss: 0.3564 - val_accuracy: 0.7265 - lr: 0.0010 - 74s/epoch - 17ms/step
Epoch 38/50
4378/4378 - 74s - loss: 0.1045 - accuracy: 0.8915 - val_loss: 0.3090 - val_accuracy: 0.7534 - lr: 0.0010 - 74s/epoch - 17ms/step
Epoch 39/50
4378/4378 - 74s - loss: 0.1047 - accuracy: 0.8912 - val_loss: 0.2649 - val_accuracy: 0.7829 - lr: 0.0010 - 74s/epoch - 17ms/step
Epoch 40/50
4378/4378 - 74s - loss: 0.1039 - accuracy: 0.8926 - val_loss: 0.3275 - val_accuracy: 0.7376 - lr: 0.0010 - 74s/epoch - 17ms/step
Epoch 41/50
4378/4378 - 74s - loss: 0.1040 - accuracy: 0.8921 - val_loss: 0.3194 - val_accuracy: 0.7390 - lr: 0.0010 - 74s/epoch - 17ms/step
Epoch 42/50
4378/4378 - 73s - loss: 0.1038 - accuracy: 0.8926 - val_loss: 0.2625 - val_accuracy: 0.7790 - lr: 0.0010 - 73s/epoch - 17ms/step
Epoch 43/50
4378/4378 - 74s - loss: 0.1035 - accuracy: 0.8927 - val_loss: 0.3057 - val_accuracy: 0.7555 - lr: 0.0010 - 74s/epoch - 17ms/step
Epoch 44/50
4378/4378 - 74s - loss: 0.1045 - accuracy: 0.8915 - val_loss: 0.2998 - val_accuracy: 0.7555 - lr: 0.0010 - 74s/epoch - 17ms/step
Epoch 45/50
4378/4378 - 74s - loss: 0.1051 - accuracy: 0.8904 - val_loss: 0.2759 - val_accuracy: 0.7679 - lr: 0.0010 - 74s/epoch - 17ms/step
Epoch 46/50
4378/4378 - 74s - loss: 0.1047 - accuracy: 0.8915 - val_loss: 0.2990 - val_accuracy: 0.7582 - lr: 0.0010 - 74s/epoch - 17ms/step
Epoch 47/50
4378/4378 - 74s - loss: 0.1044 - accuracy: 0.8910 - val_loss: 0.2607 - val_accuracy: 0.7886 - lr: 0.0010 - 74s/epoch - 17ms/step
Epoch 48/50
4378/4378 - 74s - loss: 0.1037 - accuracy: 0.8926 - val_loss: 0.2615 - val_accuracy: 0.7870 - lr: 0.0010 - 74s/epoch - 17ms/step
Epoch 49/50
4378/4378 - 73s - loss: 0.1024 - accuracy: 0.8936 - val_loss: 0.2937 - val_accuracy: 0.7610 - lr: 0.0010 - 73s/epoch - 17ms/step
Epoch 50/50
4378/4378 - 74s - loss: 0.1036 - accuracy: 0.8918 - val_loss: 0.2635 - val_accuracy: 0.7763 - lr: 0.0010 - 74s/epoch - 17ms/step
Epoch 1/50
876/876 - 21s - loss: 0.0766 - accuracy: 0.9227 - val_loss: 0.3526 - val_accuracy: 0.7419 - lr: 0.0010 - 21s/epoch - 23ms/step
Epoch 2/50
876/876 - 18s - loss: 0.0775 - accuracy: 0.9208 - val_loss: 0.3285 - val_accuracy: 0.7575 - lr: 0.0010 - 18s/epoch - 21ms/step
Epoch 3/50
876/876 - 18s - loss: 0.0784 - accuracy: 0.9197 - val_loss: 0.3355 - val_accuracy: 0.7581 - lr: 0.0010 - 18s/epoch - 21ms/step
Epoch 4/50
876/876 - 18s - loss: 0.0776 - accuracy: 0.9205 - val_loss: 0.3212 - val_accuracy: 0.7699 - lr: 0.0010 - 18s/epoch - 21ms/step
Epoch 5/50
876/876 - 18s - loss: 0.0765 - accuracy: 0.9228 - val_loss: 0.3125 - val_accuracy: 0.7704 - lr: 0.0010 - 18s/epoch - 21ms/step
Epoch 6/50
876/876 - 18s - loss: 0.0771 - accuracy: 0.9218 - val_loss: 0.3652 - val_accuracy: 0.7447 - lr: 0.0010 - 18s/epoch - 21ms/step
Epoch 7/50
876/876 - 18s - loss: 0.0757 - accuracy: 0.9229 - val_loss: 0.3563 - val_accuracy: 0.7550 - lr: 0.0010 - 18s/epoch - 21ms/step
Epoch 8/50
876/876 - 18s - loss: 0.0750 - accuracy: 0.9240 - val_loss: 0.3475 - val_accuracy: 0.7604 - lr: 0.0010 - 18s/epoch - 21ms/step
Epoch 9/50
876/876 - 18s - loss: 0.0757 - accuracy: 0.9234 - val_loss: 0.3183 - val_accuracy: 0.7732 - lr: 0.0010 - 18s/epoch - 21ms/step
Epoch 10/50
876/876 - 18s - loss: 0.0742 - accuracy: 0.9253 - val_loss: 0.3649 - val_accuracy: 0.7535 - lr: 0.0010 - 18s/epoch - 21ms/step
Epoch 11/50
876/876 - 18s - loss: 0.0736 - accuracy: 0.9255 - val_loss: 0.3560 - val_accuracy: 0.7595 - lr: 0.0010 - 18s/epoch - 21ms/step
Epoch 12/50
876/876 - 18s - loss: 0.0732 - accuracy: 0.9260 - val_loss: 0.3581 - val_accuracy: 0.7574 - lr: 0.0010 - 18s/epoch - 21ms/step
Epoch 13/50
876/876 - 18s - loss: 0.0732 - accuracy: 0.9263 - val_loss: 0.3542 - val_accuracy: 0.7590 - lr: 0.0010 - 18s/epoch - 21ms/step
Epoch 14/50
876/876 - 18s - loss: 0.0724 - accuracy: 0.9275 - val_loss: 0.3845 - val_accuracy: 0.7494 - lr: 0.0010 - 18s/epoch - 21ms/step
Epoch 15/50
876/876 - 18s - loss: 0.0726 - accuracy: 0.9260 - val_loss: 0.3463 - val_accuracy: 0.7692 - lr: 0.0010 - 18s/epoch - 21ms/step
Epoch 16/50
876/876 - 18s - loss: 0.0726 - accuracy: 0.9270 - val_loss: 0.3917 - val_accuracy: 0.7450 - lr: 0.0010 - 18s/epoch - 21ms/step
Epoch 17/50
876/876 - 18s - loss: 0.0719 - accuracy: 0.9270 - val_loss: 0.3897 - val_accuracy: 0.7421 - lr: 0.0010 - 18s/epoch - 21ms/step
Epoch 18/50
876/876 - 18s - loss: 0.0727 - accuracy: 0.9263 - val_loss: 0.3596 - val_accuracy: 0.7558 - lr: 0.0010 - 18s/epoch - 21ms/step
Epoch 19/50
876/876 - 18s - loss: 0.0716 - accuracy: 0.9267 - val_loss: 0.4069 - val_accuracy: 0.7352 - lr: 0.0010 - 18s/epoch - 21ms/step
Epoch 20/50
876/876 - 18s - loss: 0.0715 - accuracy: 0.9278 - val_loss: 0.3668 - val_accuracy: 0.7545 - lr: 0.0010 - 18s/epoch - 21ms/step
Epoch 21/50
876/876 - 18s - loss: 0.0727 - accuracy: 0.9265 - val_loss: 0.3880 - val_accuracy: 0.7455 - lr: 0.0010 - 18s/epoch - 21ms/step
Epoch 22/50
876/876 - 18s - loss: 0.0726 - accuracy: 0.9269 - val_loss: 0.3722 - val_accuracy: 0.7593 - lr: 0.0010 - 18s/epoch - 21ms/step
Epoch 23/50
876/876 - 18s - loss: 0.0716 - accuracy: 0.9272 - val_loss: 0.3912 - val_accuracy: 0.7435 - lr: 0.0010 - 18s/epoch - 21ms/step
Epoch 24/50
876/876 - 18s - loss: 0.0719 - accuracy: 0.9273 - val_loss: 0.3533 - val_accuracy: 0.7662 - lr: 0.0010 - 18s/epoch - 21ms/step
Epoch 25/50
876/876 - 18s - loss: 0.0711 - accuracy: 0.9283 - val_loss: 0.3982 - val_accuracy: 0.7457 - lr: 0.0010 - 18s/epoch - 21ms/step
Epoch 26/50
876/876 - 18s - loss: 0.0709 - accuracy: 0.9283 - val_loss: 0.3584 - val_accuracy: 0.7611 - lr: 0.0010 - 18s/epoch - 21ms/step
Epoch 27/50
876/876 - 18s - loss: 0.0719 - accuracy: 0.9269 - val_loss: 0.3406 - val_accuracy: 0.7680 - lr: 0.0010 - 18s/epoch - 21ms/step
Epoch 28/50
876/876 - 18s - loss: 0.0708 - accuracy: 0.9289 - val_loss: 0.3620 - val_accuracy: 0.7530 - lr: 0.0010 - 18s/epoch - 21ms/step
Epoch 29/50
876/876 - 18s - loss: 0.0709 - accuracy: 0.9284 - val_loss: 0.4002 - val_accuracy: 0.7449 - lr: 0.0010 - 18s/epoch - 21ms/step
Epoch 30/50
876/876 - 18s - loss: 0.0705 - accuracy: 0.9285 - val_loss: 0.3847 - val_accuracy: 0.7532 - lr: 0.0010 - 18s/epoch - 21ms/step
Epoch 31/50
876/876 - 18s - loss: 0.0711 - accuracy: 0.9284 - val_loss: 0.3629 - val_accuracy: 0.7642 - lr: 0.0010 - 18s/epoch - 21ms/step
Epoch 32/50
876/876 - 18s - loss: 0.0710 - accuracy: 0.9291 - val_loss: 0.3478 - val_accuracy: 0.7622 - lr: 0.0010 - 18s/epoch - 21ms/step
Epoch 33/50
876/876 - 18s - loss: 0.0702 - accuracy: 0.9300 - val_loss: 0.3632 - val_accuracy: 0.7549 - lr: 0.0010 - 18s/epoch - 21ms/step
Epoch 34/50
876/876 - 18s - loss: 0.0704 - accuracy: 0.9286 - val_loss: 0.3444 - val_accuracy: 0.7660 - lr: 0.0010 - 18s/epoch - 21ms/step
Epoch 35/50
876/876 - 18s - loss: 0.0709 - accuracy: 0.9282 - val_loss: 0.3725 - val_accuracy: 0.7503 - lr: 0.0010 - 18s/epoch - 21ms/step
Epoch 36/50
876/876 - 18s - loss: 0.0707 - accuracy: 0.9292 - val_loss: 0.3582 - val_accuracy: 0.7636 - lr: 0.0010 - 18s/epoch - 21ms/step
Epoch 37/50
876/876 - 18s - loss: 0.0705 - accuracy: 0.9291 - val_loss: 0.3931 - val_accuracy: 0.7470 - lr: 0.0010 - 18s/epoch - 21ms/step
Epoch 38/50
876/876 - 18s - loss: 0.0702 - accuracy: 0.9288 - val_loss: 0.3840 - val_accuracy: 0.7447 - lr: 0.0010 - 18s/epoch - 21ms/step
Epoch 39/50
876/876 - 18s - loss: 0.0681 - accuracy: 0.9314 - val_loss: 0.3768 - val_accuracy: 0.7610 - lr: 0.0010 - 18s/epoch - 21ms/step
Epoch 40/50
876/876 - 18s - loss: 0.0694 - accuracy: 0.9302 - val_loss: 0.3994 - val_accuracy: 0.7443 - lr: 0.0010 - 18s/epoch - 21ms/step
Epoch 41/50
876/876 - 18s - loss: 0.0692 - accuracy: 0.9305 - val_loss: 0.3733 - val_accuracy: 0.7603 - lr: 0.0010 - 18s/epoch - 21ms/step
Epoch 42/50
876/876 - 18s - loss: 0.0703 - accuracy: 0.9299 - val_loss: 0.3776 - val_accuracy: 0.7568 - lr: 0.0010 - 18s/epoch - 21ms/step
Epoch 43/50
876/876 - 18s - loss: 0.0693 - accuracy: 0.9306 - val_loss: 0.3928 - val_accuracy: 0.7575 - lr: 0.0010 - 18s/epoch - 21ms/step
Epoch 44/50
876/876 - 18s - loss: 0.0697 - accuracy: 0.9299 - val_loss: 0.3969 - val_accuracy: 0.7505 - lr: 0.0010 - 18s/epoch - 21ms/step
Epoch 45/50
876/876 - 18s - loss: 0.0699 - accuracy: 0.9294 - val_loss: 0.3910 - val_accuracy: 0.7484 - lr: 0.0010 - 18s/epoch - 21ms/step
Epoch 46/50
876/876 - 18s - loss: 0.0686 - accuracy: 0.9310 - val_loss: 0.3887 - val_accuracy: 0.7468 - lr: 0.0010 - 18s/epoch - 21ms/step
Epoch 47/50
876/876 - 18s - loss: 0.0697 - accuracy: 0.9293 - val_loss: 0.3784 - val_accuracy: 0.7587 - lr: 0.0010 - 18s/epoch - 21ms/step
Epoch 48/50
876/876 - 18s - loss: 0.0688 - accuracy: 0.9305 - val_loss: 0.3664 - val_accuracy: 0.7664 - lr: 0.0010 - 18s/epoch - 21ms/step
Epoch 49/50
876/876 - 18s - loss: 0.0690 - accuracy: 0.9306 - val_loss: 0.3529 - val_accuracy: 0.7694 - lr: 0.0010 - 18s/epoch - 21ms/step
Epoch 50/50
876/876 - 18s - loss: 0.0683 - accuracy: 0.9321 - val_loss: 0.3553 - val_accuracy: 0.7662 - lr: 0.0010 - 18s/epoch - 21ms/step
Epoch 1/50
176/176 - 12s - loss: 0.0541 - accuracy: 0.9469 - val_loss: 0.4031 - val_accuracy: 0.7536 - lr: 0.0010 - 12s/epoch - 69ms/step
Epoch 2/50
176/176 - 9s - loss: 0.0501 - accuracy: 0.9513 - val_loss: 0.4402 - val_accuracy: 0.7456 - lr: 0.0010 - 9s/epoch - 52ms/step
Epoch 3/50
176/176 - 9s - loss: 0.0501 - accuracy: 0.9510 - val_loss: 0.4404 - val_accuracy: 0.7456 - lr: 0.0010 - 9s/epoch - 52ms/step
Epoch 4/50
176/176 - 9s - loss: 0.0500 - accuracy: 0.9512 - val_loss: 0.4394 - val_accuracy: 0.7508 - lr: 0.0010 - 9s/epoch - 51ms/step
Epoch 5/50
176/176 - 9s - loss: 0.0504 - accuracy: 0.9506 - val_loss: 0.4158 - val_accuracy: 0.7616 - lr: 0.0010 - 9s/epoch - 52ms/step
Epoch 6/50
176/176 - 9s - loss: 0.0504 - accuracy: 0.9500 - val_loss: 0.4497 - val_accuracy: 0.7556 - lr: 0.0010 - 9s/epoch - 52ms/step
Epoch 7/50
176/176 - 9s - loss: 0.0504 - accuracy: 0.9502 - val_loss: 0.4485 - val_accuracy: 0.7522 - lr: 0.0010 - 9s/epoch - 51ms/step
Epoch 8/50
176/176 - 9s - loss: 0.0501 - accuracy: 0.9503 - val_loss: 0.4221 - val_accuracy: 0.7634 - lr: 0.0010 - 9s/epoch - 52ms/step
Epoch 9/50
176/176 - 9s - loss: 0.0534 - accuracy: 0.9471 - val_loss: 0.4555 - val_accuracy: 0.7503 - lr: 0.0010 - 9s/epoch - 52ms/step
Epoch 10/50
176/176 - 9s - loss: 0.0511 - accuracy: 0.9490 - val_loss: 0.4625 - val_accuracy: 0.7497 - lr: 0.0010 - 9s/epoch - 52ms/step
Epoch 11/50
176/176 - 9s - loss: 0.0522 - accuracy: 0.9485 - val_loss: 0.4482 - val_accuracy: 0.7524 - lr: 0.0010 - 9s/epoch - 52ms/step
Epoch 12/50
176/176 - 9s - loss: 0.0511 - accuracy: 0.9502 - val_loss: 0.4656 - val_accuracy: 0.7486 - lr: 0.0010 - 9s/epoch - 52ms/step
Epoch 13/50
176/176 - 9s - loss: 0.0512 - accuracy: 0.9499 - val_loss: 0.5008 - val_accuracy: 0.7401 - lr: 0.0010 - 9s/epoch - 52ms/step
Epoch 14/50
176/176 - 9s - loss: 0.0509 - accuracy: 0.9494 - val_loss: 0.4710 - val_accuracy: 0.7470 - lr: 0.0010 - 9s/epoch - 52ms/step
Epoch 15/50
176/176 - 9s - loss: 0.0507 - accuracy: 0.9508 - val_loss: 0.4709 - val_accuracy: 0.7517 - lr: 0.0010 - 9s/epoch - 51ms/step
Epoch 16/50
176/176 - 9s - loss: 0.0496 - accuracy: 0.9508 - val_loss: 0.4550 - val_accuracy: 0.7554 - lr: 0.0010 - 9s/epoch - 52ms/step
Epoch 17/50
176/176 - 9s - loss: 0.0513 - accuracy: 0.9498 - val_loss: 0.4699 - val_accuracy: 0.7464 - lr: 0.0010 - 9s/epoch - 52ms/step
Epoch 18/50
176/176 - 9s - loss: 0.0509 - accuracy: 0.9495 - val_loss: 0.4777 - val_accuracy: 0.7488 - lr: 0.0010 - 9s/epoch - 51ms/step
Epoch 19/50
176/176 - 9s - loss: 0.0512 - accuracy: 0.9503 - val_loss: 0.4845 - val_accuracy: 0.7383 - lr: 0.0010 - 9s/epoch - 52ms/step
Epoch 20/50
176/176 - 9s - loss: 0.0505 - accuracy: 0.9506 - val_loss: 0.4605 - val_accuracy: 0.7513 - lr: 0.0010 - 9s/epoch - 52ms/step
Epoch 21/50
176/176 - 9s - loss: 0.0495 - accuracy: 0.9519 - val_loss: 0.4728 - val_accuracy: 0.7488 - lr: 0.0010 - 9s/epoch - 52ms/step
Epoch 22/50
176/176 - 9s - loss: 0.0490 - accuracy: 0.9517 - val_loss: 0.4552 - val_accuracy: 0.7536 - lr: 0.0010 - 9s/epoch - 52ms/step
Epoch 23/50
176/176 - 9s - loss: 0.0490 - accuracy: 0.9522 - val_loss: 0.4990 - val_accuracy: 0.7426 - lr: 0.0010 - 9s/epoch - 52ms/step
Epoch 24/50
176/176 - 9s - loss: 0.0492 - accuracy: 0.9514 - val_loss: 0.4867 - val_accuracy: 0.7505 - lr: 0.0010 - 9s/epoch - 52ms/step
Epoch 25/50
176/176 - 9s - loss: 0.0492 - accuracy: 0.9517 - val_loss: 0.4889 - val_accuracy: 0.7480 - lr: 0.0010 - 9s/epoch - 52ms/step
Epoch 26/50
176/176 - 9s - loss: 0.0487 - accuracy: 0.9525 - val_loss: 0.4749 - val_accuracy: 0.7530 - lr: 0.0010 - 9s/epoch - 51ms/step
Epoch 27/50
176/176 - 9s - loss: 0.0502 - accuracy: 0.9506 - val_loss: 0.4777 - val_accuracy: 0.7497 - lr: 0.0010 - 9s/epoch - 51ms/step
Epoch 28/50
176/176 - 9s - loss: 0.0507 - accuracy: 0.9507 - val_loss: 0.4961 - val_accuracy: 0.7438 - lr: 0.0010 - 9s/epoch - 52ms/step
Epoch 29/50
176/176 - 9s - loss: 0.0508 - accuracy: 0.9500 - val_loss: 0.4841 - val_accuracy: 0.7459 - lr: 0.0010 - 9s/epoch - 51ms/step
Epoch 30/50
176/176 - 9s - loss: 0.0498 - accuracy: 0.9512 - val_loss: 0.4984 - val_accuracy: 0.7434 - lr: 0.0010 - 9s/epoch - 52ms/step
Epoch 31/50
176/176 - 9s - loss: 0.0487 - accuracy: 0.9521 - val_loss: 0.4556 - val_accuracy: 0.7586 - lr: 0.0010 - 9s/epoch - 52ms/step
Epoch 32/50
176/176 - 9s - loss: 0.0486 - accuracy: 0.9523 - val_loss: 0.4937 - val_accuracy: 0.7455 - lr: 0.0010 - 9s/epoch - 51ms/step
Epoch 33/50
176/176 - 9s - loss: 0.0491 - accuracy: 0.9517 - val_loss: 0.4841 - val_accuracy: 0.7553 - lr: 0.0010 - 9s/epoch - 51ms/step
Epoch 34/50
176/176 - 9s - loss: 0.0495 - accuracy: 0.9507 - val_loss: 0.4737 - val_accuracy: 0.7554 - lr: 0.0010 - 9s/epoch - 51ms/step
Epoch 35/50
176/176 - 9s - loss: 0.0495 - accuracy: 0.9511 - val_loss: 0.5443 - val_accuracy: 0.7325 - lr: 0.0010 - 9s/epoch - 52ms/step
Epoch 36/50
176/176 - 9s - loss: 0.0496 - accuracy: 0.9509 - val_loss: 0.5191 - val_accuracy: 0.7357 - lr: 0.0010 - 9s/epoch - 52ms/step
Epoch 37/50
176/176 - 9s - loss: 0.0498 - accuracy: 0.9508 - val_loss: 0.4804 - val_accuracy: 0.7480 - lr: 0.0010 - 9s/epoch - 52ms/step
Epoch 38/50
176/176 - 9s - loss: 0.0498 - accuracy: 0.9513 - val_loss: 0.4809 - val_accuracy: 0.7513 - lr: 0.0010 - 9s/epoch - 52ms/step
Epoch 39/50
176/176 - 9s - loss: 0.0490 - accuracy: 0.9520 - val_loss: 0.4845 - val_accuracy: 0.7466 - lr: 0.0010 - 9s/epoch - 52ms/step
Epoch 40/50
176/176 - 9s - loss: 0.0484 - accuracy: 0.9522 - val_loss: 0.5144 - val_accuracy: 0.7426 - lr: 0.0010 - 9s/epoch - 51ms/step
Epoch 41/50
176/176 - 9s - loss: 0.0489 - accuracy: 0.9525 - val_loss: 0.5164 - val_accuracy: 0.7411 - lr: 0.0010 - 9s/epoch - 52ms/step
Epoch 42/50
176/176 - 9s - loss: 0.0487 - accuracy: 0.9528 - val_loss: 0.5077 - val_accuracy: 0.7417 - lr: 0.0010 - 9s/epoch - 52ms/step
Epoch 43/50
176/176 - 9s - loss: 0.0484 - accuracy: 0.9529 - val_loss: 0.5181 - val_accuracy: 0.7474 - lr: 0.0010 - 9s/epoch - 52ms/step
Epoch 44/50
176/176 - 9s - loss: 0.0500 - accuracy: 0.9514 - val_loss: 0.4751 - val_accuracy: 0.7539 - lr: 0.0010 - 9s/epoch - 51ms/step
Epoch 45/50
176/176 - 9s - loss: 0.0485 - accuracy: 0.9523 - val_loss: 0.4774 - val_accuracy: 0.7511 - lr: 0.0010 - 9s/epoch - 52ms/step
Epoch 46/50
176/176 - 9s - loss: 0.0477 - accuracy: 0.9531 - val_loss: 0.4755 - val_accuracy: 0.7575 - lr: 0.0010 - 9s/epoch - 52ms/step
Epoch 47/50
176/176 - 9s - loss: 0.0491 - accuracy: 0.9513 - val_loss: 0.4891 - val_accuracy: 0.7558 - lr: 0.0010 - 9s/epoch - 52ms/step
Epoch 48/50
176/176 - 9s - loss: 0.0489 - accuracy: 0.9526 - val_loss: 0.4943 - val_accuracy: 0.7507 - lr: 0.0010 - 9s/epoch - 51ms/step
Epoch 49/50
176/176 - 9s - loss: 0.0480 - accuracy: 0.9525 - val_loss: 0.4862 - val_accuracy: 0.7532 - lr: 0.0010 - 9s/epoch - 51ms/step
Epoch 50/50
176/176 - 9s - loss: 0.0485 - accuracy: 0.9529 - val_loss: 0.5307 - val_accuracy: 0.7374 - lr: 0.0010 - 9s/epoch - 52ms/step
Epoch 1/50
36/36 - 10s - loss: 0.0433 - accuracy: 0.9581 - val_loss: 0.5197 - val_accuracy: 0.7421 - lr: 0.0010 - 10s/epoch - 281ms/step
Epoch 2/50
36/36 - 8s - loss: 0.0408 - accuracy: 0.9604 - val_loss: 0.5301 - val_accuracy: 0.7414 - lr: 0.0010 - 8s/epoch - 215ms/step
Epoch 3/50
36/36 - 8s - loss: 0.0414 - accuracy: 0.9595 - val_loss: 0.5274 - val_accuracy: 0.7424 - lr: 0.0010 - 8s/epoch - 216ms/step
Epoch 4/50
36/36 - 8s - loss: 0.0398 - accuracy: 0.9615 - val_loss: 0.5327 - val_accuracy: 0.7411 - lr: 0.0010 - 8s/epoch - 215ms/step
Epoch 5/50
36/36 - 8s - loss: 0.0396 - accuracy: 0.9617 - val_loss: 0.5343 - val_accuracy: 0.7425 - lr: 0.0010 - 8s/epoch - 215ms/step
Epoch 6/50
36/36 - 8s - loss: 0.0387 - accuracy: 0.9628 - val_loss: 0.5451 - val_accuracy: 0.7399 - lr: 0.0010 - 8s/epoch - 216ms/step
Epoch 7/50
36/36 - 8s - loss: 0.0384 - accuracy: 0.9626 - val_loss: 0.5469 - val_accuracy: 0.7388 - lr: 0.0010 - 8s/epoch - 215ms/step
Epoch 8/50
36/36 - 8s - loss: 0.0396 - accuracy: 0.9620 - val_loss: 0.5562 - val_accuracy: 0.7378 - lr: 0.0010 - 8s/epoch - 217ms/step
Epoch 9/50
36/36 - 8s - loss: 0.0395 - accuracy: 0.9621 - val_loss: 0.5422 - val_accuracy: 0.7426 - lr: 0.0010 - 8s/epoch - 216ms/step
Epoch 10/50
36/36 - 8s - loss: 0.0385 - accuracy: 0.9628 - val_loss: 0.5392 - val_accuracy: 0.7443 - lr: 0.0010 - 8s/epoch - 216ms/step
Epoch 11/50
36/36 - 8s - loss: 0.0386 - accuracy: 0.9629 - val_loss: 0.5505 - val_accuracy: 0.7405 - lr: 0.0010 - 8s/epoch - 216ms/step
Epoch 12/50
36/36 - 8s - loss: 0.0385 - accuracy: 0.9623 - val_loss: 0.5503 - val_accuracy: 0.7422 - lr: 0.0010 - 8s/epoch - 216ms/step
Epoch 13/50
36/36 - 8s - loss: 0.0377 - accuracy: 0.9631 - val_loss: 0.5361 - val_accuracy: 0.7473 - lr: 0.0010 - 8s/epoch - 215ms/step
Epoch 14/50
36/36 - 8s - loss: 0.0387 - accuracy: 0.9624 - val_loss: 0.5494 - val_accuracy: 0.7414 - lr: 0.0010 - 8s/epoch - 215ms/step
Epoch 15/50
36/36 - 8s - loss: 0.0401 - accuracy: 0.9618 - val_loss: 0.5382 - val_accuracy: 0.7443 - lr: 0.0010 - 8s/epoch - 215ms/step
Epoch 16/50
36/36 - 8s - loss: 0.0386 - accuracy: 0.9626 - val_loss: 0.5490 - val_accuracy: 0.7431 - lr: 0.0010 - 8s/epoch - 216ms/step
Epoch 17/50
36/36 - 8s - loss: 0.0375 - accuracy: 0.9640 - val_loss: 0.5505 - val_accuracy: 0.7423 - lr: 0.0010 - 8s/epoch - 216ms/step
Epoch 18/50
36/36 - 8s - loss: 0.0385 - accuracy: 0.9634 - val_loss: 0.5434 - val_accuracy: 0.7465 - lr: 0.0010 - 8s/epoch - 215ms/step
Epoch 19/50
36/36 - 8s - loss: 0.0371 - accuracy: 0.9636 - val_loss: 0.5447 - val_accuracy: 0.7471 - lr: 0.0010 - 8s/epoch - 216ms/step
Epoch 20/50
36/36 - 8s - loss: 0.0369 - accuracy: 0.9643 - val_loss: 0.5563 - val_accuracy: 0.7425 - lr: 0.0010 - 8s/epoch - 216ms/step
Epoch 21/50
36/36 - 8s - loss: 0.0368 - accuracy: 0.9648 - val_loss: 0.5580 - val_accuracy: 0.7438 - lr: 0.0010 - 8s/epoch - 216ms/step
Epoch 22/50
36/36 - 8s - loss: 0.0381 - accuracy: 0.9634 - val_loss: 0.5680 - val_accuracy: 0.7394 - lr: 0.0010 - 8s/epoch - 215ms/step
Epoch 23/50
36/36 - 8s - loss: 0.0377 - accuracy: 0.9636 - val_loss: 0.5643 - val_accuracy: 0.7412 - lr: 0.0010 - 8s/epoch - 216ms/step
Epoch 24/50
36/36 - 8s - loss: 0.0373 - accuracy: 0.9634 - val_loss: 0.5637 - val_accuracy: 0.7415 - lr: 0.0010 - 8s/epoch - 215ms/step
Epoch 25/50
36/36 - 8s - loss: 0.0375 - accuracy: 0.9640 - val_loss: 0.5615 - val_accuracy: 0.7447 - lr: 0.0010 - 8s/epoch - 217ms/step
Epoch 26/50
36/36 - 8s - loss: 0.0376 - accuracy: 0.9639 - val_loss: 0.5645 - val_accuracy: 0.7433 - lr: 0.0010 - 8s/epoch - 216ms/step
Epoch 27/50
36/36 - 8s - loss: 0.0390 - accuracy: 0.9632 - val_loss: 0.5732 - val_accuracy: 0.7411 - lr: 0.0010 - 8s/epoch - 215ms/step
Epoch 28/50
36/36 - 8s - loss: 0.0373 - accuracy: 0.9640 - val_loss: 0.5835 - val_accuracy: 0.7373 - lr: 0.0010 - 8s/epoch - 216ms/step
Epoch 29/50
36/36 - 8s - loss: 0.0369 - accuracy: 0.9643 - val_loss: 0.5769 - val_accuracy: 0.7400 - lr: 0.0010 - 8s/epoch - 217ms/step
Epoch 30/50
36/36 - 8s - loss: 0.0358 - accuracy: 0.9646 - val_loss: 0.5697 - val_accuracy: 0.7420 - lr: 0.0010 - 8s/epoch - 215ms/step
Epoch 31/50
36/36 - 8s - loss: 0.0366 - accuracy: 0.9647 - val_loss: 0.5725 - val_accuracy: 0.7427 - lr: 0.0010 - 8s/epoch - 215ms/step
Epoch 32/50
36/36 - 8s - loss: 0.0362 - accuracy: 0.9648 - val_loss: 0.5752 - val_accuracy: 0.7427 - lr: 0.0010 - 8s/epoch - 215ms/step
Epoch 33/50
36/36 - 8s - loss: 0.0385 - accuracy: 0.9630 - val_loss: 0.5560 - val_accuracy: 0.7462 - lr: 0.0010 - 8s/epoch - 216ms/step
Epoch 34/50
36/36 - 8s - loss: 0.0363 - accuracy: 0.9647 - val_loss: 0.5681 - val_accuracy: 0.7416 - lr: 0.0010 - 8s/epoch - 216ms/step
Epoch 35/50
36/36 - 8s - loss: 0.0365 - accuracy: 0.9648 - val_loss: 0.5875 - val_accuracy: 0.7397 - lr: 0.0010 - 8s/epoch - 215ms/step
Epoch 36/50
36/36 - 8s - loss: 0.0363 - accuracy: 0.9646 - val_loss: 0.5849 - val_accuracy: 0.7391 - lr: 0.0010 - 8s/epoch - 215ms/step
Epoch 37/50
36/36 - 8s - loss: 0.0371 - accuracy: 0.9645 - val_loss: 0.5883 - val_accuracy: 0.7398 - lr: 0.0010 - 8s/epoch - 217ms/step
Epoch 38/50
36/36 - 8s - loss: 0.0359 - accuracy: 0.9651 - val_loss: 0.5890 - val_accuracy: 0.7390 - lr: 0.0010 - 8s/epoch - 216ms/step
Epoch 39/50
36/36 - 8s - loss: 0.0363 - accuracy: 0.9646 - val_loss: 0.6123 - val_accuracy: 0.7310 - lr: 0.0010 - 8s/epoch - 215ms/step
Epoch 40/50
36/36 - 8s - loss: 0.0357 - accuracy: 0.9652 - val_loss: 0.5877 - val_accuracy: 0.7384 - lr: 0.0010 - 8s/epoch - 215ms/step
Epoch 41/50
36/36 - 8s - loss: 0.0362 - accuracy: 0.9651 - val_loss: 0.5833 - val_accuracy: 0.7383 - lr: 0.0010 - 8s/epoch - 215ms/step
Epoch 42/50
36/36 - 8s - loss: 0.0376 - accuracy: 0.9638 - val_loss: 0.5919 - val_accuracy: 0.7384 - lr: 0.0010 - 8s/epoch - 217ms/step
Epoch 43/50
36/36 - 8s - loss: 0.0365 - accuracy: 0.9650 - val_loss: 0.5854 - val_accuracy: 0.7377 - lr: 0.0010 - 8s/epoch - 216ms/step
Epoch 44/50
36/36 - 8s - loss: 0.0363 - accuracy: 0.9645 - val_loss: 0.5931 - val_accuracy: 0.7390 - lr: 0.0010 - 8s/epoch - 215ms/step
Epoch 45/50
36/36 - 8s - loss: 0.0370 - accuracy: 0.9645 - val_loss: 0.5915 - val_accuracy: 0.7380 - lr: 0.0010 - 8s/epoch - 216ms/step
Epoch 46/50
36/36 - 8s - loss: 0.0366 - accuracy: 0.9650 - val_loss: 0.5910 - val_accuracy: 0.7373 - lr: 0.0010 - 8s/epoch - 216ms/step
Epoch 47/50
36/36 - 8s - loss: 0.0373 - accuracy: 0.9636 - val_loss: 0.5677 - val_accuracy: 0.7456 - lr: 0.0010 - 8s/epoch - 215ms/step
Epoch 48/50
36/36 - 8s - loss: 0.0363 - accuracy: 0.9648 - val_loss: 0.5716 - val_accuracy: 0.7452 - lr: 0.0010 - 8s/epoch - 215ms/step
Epoch 49/50
36/36 - 8s - loss: 0.0363 - accuracy: 0.9646 - val_loss: 0.5845 - val_accuracy: 0.7407 - lr: 0.0010 - 8s/epoch - 215ms/step
Epoch 50/50
36/36 - 8s - loss: 0.0360 - accuracy: 0.9653 - val_loss: 0.5729 - val_accuracy: 0.7465 - lr: 0.0010 - 8s/epoch - 215ms/step
Epoch 1/75
4378/4378 - 76s - loss: 0.0964 - accuracy: 0.9043 - val_loss: 0.3685 - val_accuracy: 0.7488 - lr: 0.0010 - 76s/epoch - 17ms/step
Epoch 2/75
4378/4378 - 74s - loss: 0.0984 - accuracy: 0.9004 - val_loss: 0.3522 - val_accuracy: 0.7436 - lr: 0.0010 - 74s/epoch - 17ms/step
Epoch 3/75
4378/4378 - 74s - loss: 0.0978 - accuracy: 0.9006 - val_loss: 0.3038 - val_accuracy: 0.7675 - lr: 0.0010 - 74s/epoch - 17ms/step
Epoch 4/75
4378/4378 - 74s - loss: 0.0980 - accuracy: 0.8995 - val_loss: 0.2806 - val_accuracy: 0.7732 - lr: 0.0010 - 74s/epoch - 17ms/step
Epoch 5/75
4378/4378 - 74s - loss: 0.0986 - accuracy: 0.8985 - val_loss: 0.2864 - val_accuracy: 0.7714 - lr: 0.0010 - 74s/epoch - 17ms/step
Epoch 6/75
4378/4378 - 74s - loss: 0.0979 - accuracy: 0.8989 - val_loss: 0.2920 - val_accuracy: 0.7761 - lr: 0.0010 - 74s/epoch - 17ms/step
Epoch 7/75
4378/4378 - 74s - loss: 0.0993 - accuracy: 0.8980 - val_loss: 0.2789 - val_accuracy: 0.7746 - lr: 0.0010 - 74s/epoch - 17ms/step
Epoch 8/75
4378/4378 - 74s - loss: 0.0997 - accuracy: 0.8974 - val_loss: 0.3154 - val_accuracy: 0.7520 - lr: 0.0010 - 74s/epoch - 17ms/step
Epoch 9/75
4378/4378 - 74s - loss: 0.0994 - accuracy: 0.8977 - val_loss: 0.2942 - val_accuracy: 0.7554 - lr: 0.0010 - 74s/epoch - 17ms/step
Epoch 10/75
4378/4378 - 74s - loss: 0.1001 - accuracy: 0.8964 - val_loss: 0.2855 - val_accuracy: 0.7706 - lr: 0.0010 - 74s/epoch - 17ms/step
Epoch 11/75
4378/4378 - 74s - loss: 0.1003 - accuracy: 0.8965 - val_loss: 0.2837 - val_accuracy: 0.7702 - lr: 0.0010 - 74s/epoch - 17ms/step
Epoch 12/75
4378/4378 - 74s - loss: 0.0986 - accuracy: 0.8982 - val_loss: 0.2791 - val_accuracy: 0.7759 - lr: 0.0010 - 74s/epoch - 17ms/step
Epoch 13/75
4378/4378 - 74s - loss: 0.0988 - accuracy: 0.8984 - val_loss: 0.3358 - val_accuracy: 0.7357 - lr: 0.0010 - 74s/epoch - 17ms/step
Epoch 14/75
4378/4378 - 74s - loss: 0.0990 - accuracy: 0.8988 - val_loss: 0.3045 - val_accuracy: 0.7575 - lr: 0.0010 - 74s/epoch - 17ms/step
Epoch 15/75
4378/4378 - 74s - loss: 0.0997 - accuracy: 0.8969 - val_loss: 0.2732 - val_accuracy: 0.7742 - lr: 0.0010 - 74s/epoch - 17ms/step
Epoch 16/75
4378/4378 - 74s - loss: 0.0980 - accuracy: 0.8989 - val_loss: 0.2668 - val_accuracy: 0.7811 - lr: 0.0010 - 74s/epoch - 17ms/step
Epoch 17/75
4378/4378 - 74s - loss: 0.1007 - accuracy: 0.8953 - val_loss: 0.3011 - val_accuracy: 0.7455 - lr: 0.0010 - 74s/epoch - 17ms/step
Epoch 18/75
4378/4378 - 74s - loss: 0.0996 - accuracy: 0.8970 - val_loss: 0.2697 - val_accuracy: 0.7776 - lr: 0.0010 - 74s/epoch - 17ms/step
Epoch 19/75
4378/4378 - 74s - loss: 0.0998 - accuracy: 0.8972 - val_loss: 0.2742 - val_accuracy: 0.7717 - lr: 0.0010 - 74s/epoch - 17ms/step
Epoch 20/75
4378/4378 - 74s - loss: 0.0989 - accuracy: 0.8970 - val_loss: 0.3107 - val_accuracy: 0.7421 - lr: 0.0010 - 74s/epoch - 17ms/step
Epoch 21/75
4378/4378 - 74s - loss: 0.0989 - accuracy: 0.8968 - val_loss: 0.2401 - val_accuracy: 0.8022 - lr: 0.0010 - 74s/epoch - 17ms/step
Epoch 22/75
4378/4378 - 74s - loss: 0.0987 - accuracy: 0.8983 - val_loss: 0.2914 - val_accuracy: 0.7694 - lr: 0.0010 - 74s/epoch - 17ms/step
Epoch 23/75
4378/4378 - 74s - loss: 0.0994 - accuracy: 0.8970 - val_loss: 0.3175 - val_accuracy: 0.7435 - lr: 0.0010 - 74s/epoch - 17ms/step
Epoch 24/75
4378/4378 - 74s - loss: 0.1001 - accuracy: 0.8961 - val_loss: 0.2759 - val_accuracy: 0.7743 - lr: 0.0010 - 74s/epoch - 17ms/step
Epoch 25/75
4378/4378 - 74s - loss: 0.1001 - accuracy: 0.8962 - val_loss: 0.3218 - val_accuracy: 0.7373 - lr: 0.0010 - 74s/epoch - 17ms/step
Epoch 26/75
4378/4378 - 74s - loss: 0.0991 - accuracy: 0.8974 - val_loss: 0.2836 - val_accuracy: 0.7619 - lr: 0.0010 - 74s/epoch - 17ms/step
Epoch 27/75
4378/4378 - 74s - loss: 0.0987 - accuracy: 0.8984 - val_loss: 0.2766 - val_accuracy: 0.7772 - lr: 0.0010 - 74s/epoch - 17ms/step
Epoch 28/75
4378/4378 - 74s - loss: 0.0988 - accuracy: 0.8972 - val_loss: 0.3265 - val_accuracy: 0.7421 - lr: 0.0010 - 74s/epoch - 17ms/step
Epoch 29/75
4378/4378 - 74s - loss: 0.1001 - accuracy: 0.8965 - val_loss: 0.2880 - val_accuracy: 0.7659 - lr: 0.0010 - 74s/epoch - 17ms/step
Epoch 30/75
4378/4378 - 74s - loss: 0.1002 - accuracy: 0.8964 - val_loss: 0.2488 - val_accuracy: 0.7967 - lr: 0.0010 - 74s/epoch - 17ms/step
Epoch 31/75
4378/4378 - 74s - loss: 0.0993 - accuracy: 0.8967 - val_loss: 0.3108 - val_accuracy: 0.7458 - lr: 0.0010 - 74s/epoch - 17ms/step
Epoch 32/75
4378/4378 - 74s - loss: 0.1002 - accuracy: 0.8969 - val_loss: 0.2852 - val_accuracy: 0.7658 - lr: 0.0010 - 74s/epoch - 17ms/step
Epoch 33/75
4378/4378 - 74s - loss: 0.1012 - accuracy: 0.8957 - val_loss: 0.2616 - val_accuracy: 0.7836 - lr: 0.0010 - 74s/epoch - 17ms/step
Epoch 34/75
4378/4378 - 74s - loss: 0.1000 - accuracy: 0.8967 - val_loss: 0.2805 - val_accuracy: 0.7707 - lr: 0.0010 - 74s/epoch - 17ms/step
Epoch 35/75
4378/4378 - 74s - loss: 0.1008 - accuracy: 0.8954 - val_loss: 0.2905 - val_accuracy: 0.7657 - lr: 0.0010 - 74s/epoch - 17ms/step
Epoch 36/75
4378/4378 - 74s - loss: 0.0988 - accuracy: 0.8969 - val_loss: 0.3314 - val_accuracy: 0.7484 - lr: 0.0010 - 74s/epoch - 17ms/step
Epoch 37/75
4378/4378 - 74s - loss: 0.0997 - accuracy: 0.8966 - val_loss: 0.3032 - val_accuracy: 0.7553 - lr: 0.0010 - 74s/epoch - 17ms/step
Epoch 38/75
4378/4378 - 74s - loss: 0.0990 - accuracy: 0.8983 - val_loss: 0.2646 - val_accuracy: 0.7814 - lr: 0.0010 - 74s/epoch - 17ms/step
Epoch 39/75
4378/4378 - 74s - loss: 0.0992 - accuracy: 0.8962 - val_loss: 0.3145 - val_accuracy: 0.7505 - lr: 0.0010 - 74s/epoch - 17ms/step
Epoch 40/75
4378/4378 - 74s - loss: 0.1006 - accuracy: 0.8960 - val_loss: 0.3290 - val_accuracy: 0.7465 - lr: 0.0010 - 74s/epoch - 17ms/step
Epoch 41/75
4378/4378 - 74s - loss: 0.1003 - accuracy: 0.8966 - val_loss: 0.3165 - val_accuracy: 0.7405 - lr: 0.0010 - 74s/epoch - 17ms/step
Epoch 42/75
4378/4378 - 74s - loss: 0.0980 - accuracy: 0.8992 - val_loss: 0.2999 - val_accuracy: 0.7572 - lr: 0.0010 - 74s/epoch - 17ms/step
Epoch 43/75
4378/4378 - 74s - loss: 0.0982 - accuracy: 0.8991 - val_loss: 0.3229 - val_accuracy: 0.7447 - lr: 0.0010 - 74s/epoch - 17ms/step
Epoch 44/75
4378/4378 - 74s - loss: 0.0987 - accuracy: 0.8976 - val_loss: 0.2826 - val_accuracy: 0.7662 - lr: 0.0010 - 74s/epoch - 17ms/step
Epoch 45/75
4378/4378 - 74s - loss: 0.0992 - accuracy: 0.8974 - val_loss: 0.2472 - val_accuracy: 0.7914 - lr: 0.0010 - 74s/epoch - 17ms/step
Epoch 46/75
4378/4378 - 74s - loss: 0.0990 - accuracy: 0.8980 - val_loss: 0.2679 - val_accuracy: 0.7786 - lr: 0.0010 - 74s/epoch - 17ms/step
Epoch 47/75
4378/4378 - 74s - loss: 0.0998 - accuracy: 0.8962 - val_loss: 0.3456 - val_accuracy: 0.7425 - lr: 0.0010 - 74s/epoch - 17ms/step
Epoch 48/75
4378/4378 - 74s - loss: 0.0980 - accuracy: 0.8992 - val_loss: 0.2904 - val_accuracy: 0.7581 - lr: 0.0010 - 74s/epoch - 17ms/step
Epoch 49/75
4378/4378 - 74s - loss: 0.0977 - accuracy: 0.9000 - val_loss: 0.3288 - val_accuracy: 0.7441 - lr: 0.0010 - 74s/epoch - 17ms/step
Epoch 50/75
4378/4378 - 74s - loss: 0.0984 - accuracy: 0.8981 - val_loss: 0.3360 - val_accuracy: 0.7370 - lr: 0.0010 - 74s/epoch - 17ms/step
Epoch 51/75
4378/4378 - 74s - loss: 0.0976 - accuracy: 0.8999 - val_loss: 0.3265 - val_accuracy: 0.7467 - lr: 0.0010 - 74s/epoch - 17ms/step
Epoch 52/75
4378/4378 - 74s - loss: 0.0981 - accuracy: 0.8984 - val_loss: 0.2784 - val_accuracy: 0.7733 - lr: 0.0010 - 74s/epoch - 17ms/step
Epoch 53/75
4378/4378 - 74s - loss: 0.0969 - accuracy: 0.8998 - val_loss: 0.2896 - val_accuracy: 0.7612 - lr: 0.0010 - 74s/epoch - 17ms/step
Epoch 54/75
4378/4378 - 74s - loss: 0.0982 - accuracy: 0.8984 - val_loss: 0.2976 - val_accuracy: 0.7578 - lr: 0.0010 - 74s/epoch - 17ms/step
Epoch 55/75
4378/4378 - 73s - loss: 0.0975 - accuracy: 0.8992 - val_loss: 0.3387 - val_accuracy: 0.7463 - lr: 0.0010 - 73s/epoch - 17ms/step
Epoch 56/75
4378/4378 - 74s - loss: 0.0996 - accuracy: 0.8969 - val_loss: 0.2897 - val_accuracy: 0.7556 - lr: 0.0010 - 74s/epoch - 17ms/step
Epoch 57/75
4378/4378 - 74s - loss: 0.0984 - accuracy: 0.8982 - val_loss: 0.2946 - val_accuracy: 0.7652 - lr: 0.0010 - 74s/epoch - 17ms/step
Epoch 58/75
4378/4378 - 74s - loss: 0.0987 - accuracy: 0.8988 - val_loss: 0.3293 - val_accuracy: 0.7387 - lr: 0.0010 - 74s/epoch - 17ms/step
Epoch 59/75
4378/4378 - 74s - loss: 0.0976 - accuracy: 0.8996 - val_loss: 0.2944 - val_accuracy: 0.7615 - lr: 0.0010 - 74s/epoch - 17ms/step
Epoch 60/75
4378/4378 - 74s - loss: 0.0985 - accuracy: 0.8980 - val_loss: 0.3120 - val_accuracy: 0.7578 - lr: 0.0010 - 74s/epoch - 17ms/step
Epoch 61/75
4378/4378 - 74s - loss: 0.0971 - accuracy: 0.9000 - val_loss: 0.3329 - val_accuracy: 0.7516 - lr: 0.0010 - 74s/epoch - 17ms/step
Epoch 62/75
4378/4378 - 74s - loss: 0.0980 - accuracy: 0.8993 - val_loss: 0.3147 - val_accuracy: 0.7539 - lr: 0.0010 - 74s/epoch - 17ms/step
Epoch 63/75
4378/4378 - 74s - loss: 0.0989 - accuracy: 0.8980 - val_loss: 0.2836 - val_accuracy: 0.7792 - lr: 0.0010 - 74s/epoch - 17ms/step
Epoch 64/75
4378/4378 - 74s - loss: 0.0988 - accuracy: 0.8980 - val_loss: 0.2970 - val_accuracy: 0.7549 - lr: 0.0010 - 74s/epoch - 17ms/step
Epoch 65/75
4378/4378 - 74s - loss: 0.0986 - accuracy: 0.8976 - val_loss: 0.2678 - val_accuracy: 0.7859 - lr: 0.0010 - 74s/epoch - 17ms/step
Epoch 66/75
4378/4378 - 74s - loss: 0.0977 - accuracy: 0.8991 - val_loss: 0.2947 - val_accuracy: 0.7708 - lr: 0.0010 - 74s/epoch - 17ms/step
Epoch 67/75
4378/4378 - 74s - loss: 0.0980 - accuracy: 0.8987 - val_loss: 0.2695 - val_accuracy: 0.7829 - lr: 0.0010 - 74s/epoch - 17ms/step
Epoch 68/75
4378/4378 - 74s - loss: 0.0981 - accuracy: 0.8992 - val_loss: 0.3041 - val_accuracy: 0.7604 - lr: 0.0010 - 74s/epoch - 17ms/step
Epoch 69/75
4378/4378 - 74s - loss: 0.0977 - accuracy: 0.8995 - val_loss: 0.2801 - val_accuracy: 0.7712 - lr: 0.0010 - 74s/epoch - 17ms/step
Epoch 70/75
4378/4378 - 74s - loss: 0.0987 - accuracy: 0.8973 - val_loss: 0.3061 - val_accuracy: 0.7539 - lr: 0.0010 - 74s/epoch - 17ms/step
Epoch 71/75
4378/4378 - 74s - loss: 0.0976 - accuracy: 0.8996 - val_loss: 0.3310 - val_accuracy: 0.7495 - lr: 0.0010 - 74s/epoch - 17ms/step
Epoch 72/75
4378/4378 - 73s - loss: 0.0988 - accuracy: 0.8988 - val_loss: 0.2749 - val_accuracy: 0.7750 - lr: 0.0010 - 73s/epoch - 17ms/step
Epoch 73/75
4378/4378 - 74s - loss: 0.0984 - accuracy: 0.8985 - val_loss: 0.3042 - val_accuracy: 0.7536 - lr: 0.0010 - 74s/epoch - 17ms/step
Epoch 74/75
4378/4378 - 74s - loss: 0.0975 - accuracy: 0.8990 - val_loss: 0.3138 - val_accuracy: 0.7502 - lr: 0.0010 - 74s/epoch - 17ms/step
Epoch 75/75
4378/4378 - 75s - loss: 0.0983 - accuracy: 0.8990 - val_loss: 0.2934 - val_accuracy: 0.7572 - lr: 0.0010 - 75s/epoch - 17ms/step
Epoch 1/75
876/876 - 21s - loss: 0.0720 - accuracy: 0.9269 - val_loss: 0.3430 - val_accuracy: 0.7573 - lr: 0.0010 - 21s/epoch - 24ms/step
Epoch 2/75
876/876 - 19s - loss: 0.0724 - accuracy: 0.9257 - val_loss: 0.3296 - val_accuracy: 0.7657 - lr: 0.0010 - 19s/epoch - 21ms/step
Epoch 3/75
876/876 - 18s - loss: 0.0727 - accuracy: 0.9264 - val_loss: 0.3582 - val_accuracy: 0.7553 - lr: 0.0010 - 18s/epoch - 21ms/step
Epoch 4/75
876/876 - 18s - loss: 0.0739 - accuracy: 0.9249 - val_loss: 0.3444 - val_accuracy: 0.7638 - lr: 0.0010 - 18s/epoch - 21ms/step
Epoch 5/75
876/876 - 18s - loss: 0.0715 - accuracy: 0.9274 - val_loss: 0.3594 - val_accuracy: 0.7508 - lr: 0.0010 - 18s/epoch - 21ms/step
Epoch 6/75
876/876 - 19s - loss: 0.0711 - accuracy: 0.9284 - val_loss: 0.3480 - val_accuracy: 0.7672 - lr: 0.0010 - 19s/epoch - 22ms/step
Epoch 7/75
876/876 - 19s - loss: 0.0716 - accuracy: 0.9277 - val_loss: 0.3476 - val_accuracy: 0.7636 - lr: 0.0010 - 19s/epoch - 22ms/step
Epoch 8/75
876/876 - 24s - loss: 0.0702 - accuracy: 0.9294 - val_loss: 0.3491 - val_accuracy: 0.7686 - lr: 0.0010 - 24s/epoch - 27ms/step
Epoch 9/75
876/876 - 18s - loss: 0.0702 - accuracy: 0.9287 - val_loss: 0.3897 - val_accuracy: 0.7483 - lr: 0.0010 - 18s/epoch - 21ms/step
Epoch 10/75
876/876 - 18s - loss: 0.0690 - accuracy: 0.9308 - val_loss: 0.3995 - val_accuracy: 0.7428 - lr: 0.0010 - 18s/epoch - 21ms/step
Epoch 11/75
876/876 - 18s - loss: 0.0693 - accuracy: 0.9301 - val_loss: 0.3956 - val_accuracy: 0.7491 - lr: 0.0010 - 18s/epoch - 21ms/step
Epoch 12/75
876/876 - 20s - loss: 0.0704 - accuracy: 0.9298 - val_loss: 0.3772 - val_accuracy: 0.7546 - lr: 0.0010 - 20s/epoch - 23ms/step
Epoch 13/75
876/876 - 19s - loss: 0.0689 - accuracy: 0.9311 - val_loss: 0.3888 - val_accuracy: 0.7540 - lr: 0.0010 - 19s/epoch - 21ms/step
Epoch 14/75
876/876 - 20s - loss: 0.0685 - accuracy: 0.9312 - val_loss: 0.4218 - val_accuracy: 0.7350 - lr: 0.0010 - 20s/epoch - 23ms/step
Epoch 15/75
876/876 - 19s - loss: 0.0688 - accuracy: 0.9307 - val_loss: 0.3997 - val_accuracy: 0.7406 - lr: 0.0010 - 19s/epoch - 22ms/step
Epoch 16/75
876/876 - 20s - loss: 0.0682 - accuracy: 0.9316 - val_loss: 0.3671 - val_accuracy: 0.7599 - lr: 0.0010 - 20s/epoch - 23ms/step
Epoch 17/75
876/876 - 20s - loss: 0.0677 - accuracy: 0.9321 - val_loss: 0.3792 - val_accuracy: 0.7560 - lr: 0.0010 - 20s/epoch - 22ms/step
Epoch 18/75
876/876 - 21s - loss: 0.0683 - accuracy: 0.9315 - val_loss: 0.4024 - val_accuracy: 0.7528 - lr: 0.0010 - 21s/epoch - 24ms/step
Epoch 19/75
876/876 - 20s - loss: 0.0675 - accuracy: 0.9316 - val_loss: 0.4067 - val_accuracy: 0.7450 - lr: 0.0010 - 20s/epoch - 23ms/step
Epoch 20/75
876/876 - 20s - loss: 0.0677 - accuracy: 0.9319 - val_loss: 0.3910 - val_accuracy: 0.7475 - lr: 0.0010 - 20s/epoch - 23ms/step
Epoch 21/75
876/876 - 20s - loss: 0.0669 - accuracy: 0.9341 - val_loss: 0.4184 - val_accuracy: 0.7395 - lr: 0.0010 - 20s/epoch - 23ms/step
Epoch 22/75
876/876 - 20s - loss: 0.0676 - accuracy: 0.9326 - val_loss: 0.4153 - val_accuracy: 0.7373 - lr: 0.0010 - 20s/epoch - 23ms/step
Epoch 23/75
876/876 - 21s - loss: 0.0660 - accuracy: 0.9335 - val_loss: 0.4005 - val_accuracy: 0.7473 - lr: 0.0010 - 21s/epoch - 23ms/step
Epoch 24/75
876/876 - 20s - loss: 0.0671 - accuracy: 0.9329 - val_loss: 0.3839 - val_accuracy: 0.7511 - lr: 0.0010 - 20s/epoch - 23ms/step
Epoch 25/75
876/876 - 20s - loss: 0.0671 - accuracy: 0.9333 - val_loss: 0.3822 - val_accuracy: 0.7524 - lr: 0.0010 - 20s/epoch - 23ms/step
Epoch 26/75
876/876 - 21s - loss: 0.0668 - accuracy: 0.9322 - val_loss: 0.3770 - val_accuracy: 0.7552 - lr: 0.0010 - 21s/epoch - 24ms/step
Epoch 27/75
876/876 - 21s - loss: 0.0671 - accuracy: 0.9324 - val_loss: 0.3951 - val_accuracy: 0.7542 - lr: 0.0010 - 21s/epoch - 24ms/step
Epoch 28/75
876/876 - 21s - loss: 0.0655 - accuracy: 0.9340 - val_loss: 0.3869 - val_accuracy: 0.7594 - lr: 0.0010 - 21s/epoch - 24ms/step
Epoch 29/75
876/876 - 20s - loss: 0.0673 - accuracy: 0.9328 - val_loss: 0.4027 - val_accuracy: 0.7416 - lr: 0.0010 - 20s/epoch - 23ms/step
Epoch 30/75
876/876 - 20s - loss: 0.0667 - accuracy: 0.9325 - val_loss: 0.3666 - val_accuracy: 0.7645 - lr: 0.0010 - 20s/epoch - 23ms/step
Epoch 31/75
876/876 - 20s - loss: 0.0674 - accuracy: 0.9327 - val_loss: 0.3752 - val_accuracy: 0.7615 - lr: 0.0010 - 20s/epoch - 23ms/step
Epoch 32/75
876/876 - 20s - loss: 0.0660 - accuracy: 0.9331 - val_loss: 0.3781 - val_accuracy: 0.7563 - lr: 0.0010 - 20s/epoch - 23ms/step
Epoch 33/75
876/876 - 19s - loss: 0.0657 - accuracy: 0.9347 - val_loss: 0.3914 - val_accuracy: 0.7577 - lr: 0.0010 - 19s/epoch - 22ms/step
Epoch 34/75
876/876 - 19s - loss: 0.0661 - accuracy: 0.9325 - val_loss: 0.3823 - val_accuracy: 0.7634 - lr: 0.0010 - 19s/epoch - 22ms/step
Epoch 35/75
876/876 - 19s - loss: 0.0661 - accuracy: 0.9336 - val_loss: 0.3778 - val_accuracy: 0.7637 - lr: 0.0010 - 19s/epoch - 22ms/step
Epoch 36/75
876/876 - 19s - loss: 0.0661 - accuracy: 0.9339 - val_loss: 0.3998 - val_accuracy: 0.7493 - lr: 0.0010 - 19s/epoch - 22ms/step
Epoch 37/75
876/876 - 19s - loss: 0.0657 - accuracy: 0.9331 - val_loss: 0.3789 - val_accuracy: 0.7583 - lr: 0.0010 - 19s/epoch - 22ms/step
Epoch 38/75
876/876 - 20s - loss: 0.0662 - accuracy: 0.9340 - val_loss: 0.3926 - val_accuracy: 0.7561 - lr: 0.0010 - 20s/epoch - 23ms/step
Epoch 39/75
876/876 - 20s - loss: 0.0649 - accuracy: 0.9354 - val_loss: 0.3966 - val_accuracy: 0.7493 - lr: 0.0010 - 20s/epoch - 22ms/step
Epoch 40/75
876/876 - 19s - loss: 0.0639 - accuracy: 0.9361 - val_loss: 0.4074 - val_accuracy: 0.7512 - lr: 0.0010 - 19s/epoch - 22ms/step
Epoch 41/75
876/876 - 19s - loss: 0.0652 - accuracy: 0.9347 - val_loss: 0.4451 - val_accuracy: 0.7353 - lr: 0.0010 - 19s/epoch - 21ms/step
Epoch 42/75
876/876 - 19s - loss: 0.0659 - accuracy: 0.9341 - val_loss: 0.4152 - val_accuracy: 0.7390 - lr: 0.0010 - 19s/epoch - 22ms/step
Epoch 43/75
876/876 - 19s - loss: 0.0652 - accuracy: 0.9346 - val_loss: 0.3879 - val_accuracy: 0.7609 - lr: 0.0010 - 19s/epoch - 21ms/step
Epoch 44/75
876/876 - 19s - loss: 0.0635 - accuracy: 0.9372 - val_loss: 0.3558 - val_accuracy: 0.7731 - lr: 0.0010 - 19s/epoch - 22ms/step
Epoch 45/75
876/876 - 19s - loss: 0.0652 - accuracy: 0.9348 - val_loss: 0.3903 - val_accuracy: 0.7603 - lr: 0.0010 - 19s/epoch - 21ms/step
Epoch 46/75
876/876 - 19s - loss: 0.0651 - accuracy: 0.9354 - val_loss: 0.4037 - val_accuracy: 0.7488 - lr: 0.0010 - 19s/epoch - 21ms/step
Epoch 47/75
876/876 - 18s - loss: 0.0649 - accuracy: 0.9350 - val_loss: 0.3963 - val_accuracy: 0.7504 - lr: 0.0010 - 18s/epoch - 21ms/step
Epoch 48/75
876/876 - 18s - loss: 0.0642 - accuracy: 0.9359 - val_loss: 0.4008 - val_accuracy: 0.7517 - lr: 0.0010 - 18s/epoch - 21ms/step
Epoch 49/75
876/876 - 18s - loss: 0.0653 - accuracy: 0.9353 - val_loss: 0.4533 - val_accuracy: 0.7285 - lr: 0.0010 - 18s/epoch - 21ms/step
Epoch 50/75
876/876 - 18s - loss: 0.0646 - accuracy: 0.9352 - val_loss: 0.4031 - val_accuracy: 0.7462 - lr: 0.0010 - 18s/epoch - 21ms/step
Epoch 51/75
876/876 - 18s - loss: 0.0646 - accuracy: 0.9350 - val_loss: 0.3936 - val_accuracy: 0.7561 - lr: 0.0010 - 18s/epoch - 21ms/step
Epoch 52/75
876/876 - 18s - loss: 0.0640 - accuracy: 0.9366 - val_loss: 0.4372 - val_accuracy: 0.7370 - lr: 0.0010 - 18s/epoch - 21ms/step
Epoch 53/75
876/876 - 18s - loss: 0.0654 - accuracy: 0.9335 - val_loss: 0.4145 - val_accuracy: 0.7428 - lr: 0.0010 - 18s/epoch - 21ms/step
Epoch 54/75
876/876 - 18s - loss: 0.0647 - accuracy: 0.9361 - val_loss: 0.3617 - val_accuracy: 0.7659 - lr: 0.0010 - 18s/epoch - 20ms/step
Epoch 55/75
876/876 - 18s - loss: 0.0646 - accuracy: 0.9353 - val_loss: 0.3848 - val_accuracy: 0.7652 - lr: 0.0010 - 18s/epoch - 21ms/step
Epoch 56/75
876/876 - 18s - loss: 0.0645 - accuracy: 0.9351 - val_loss: 0.4310 - val_accuracy: 0.7396 - lr: 0.0010 - 18s/epoch - 21ms/step
Epoch 57/75
876/876 - 18s - loss: 0.0647 - accuracy: 0.9363 - val_loss: 0.4107 - val_accuracy: 0.7496 - lr: 0.0010 - 18s/epoch - 21ms/step
Epoch 58/75
876/876 - 18s - loss: 0.0651 - accuracy: 0.9353 - val_loss: 0.3613 - val_accuracy: 0.7652 - lr: 0.0010 - 18s/epoch - 21ms/step
Epoch 59/75
876/876 - 18s - loss: 0.0646 - accuracy: 0.9349 - val_loss: 0.4053 - val_accuracy: 0.7549 - lr: 0.0010 - 18s/epoch - 21ms/step
Epoch 60/75
876/876 - 18s - loss: 0.0635 - accuracy: 0.9369 - val_loss: 0.3936 - val_accuracy: 0.7571 - lr: 0.0010 - 18s/epoch - 21ms/step
Epoch 61/75
876/876 - 18s - loss: 0.0641 - accuracy: 0.9356 - val_loss: 0.4098 - val_accuracy: 0.7480 - lr: 0.0010 - 18s/epoch - 20ms/step
Epoch 62/75
876/876 - 18s - loss: 0.0641 - accuracy: 0.9352 - val_loss: 0.4334 - val_accuracy: 0.7414 - lr: 0.0010 - 18s/epoch - 20ms/step
Epoch 63/75
876/876 - 18s - loss: 0.0642 - accuracy: 0.9356 - val_loss: 0.4199 - val_accuracy: 0.7451 - lr: 0.0010 - 18s/epoch - 21ms/step
Epoch 64/75
876/876 - 19s - loss: 0.0624 - accuracy: 0.9379 - val_loss: 0.4354 - val_accuracy: 0.7419 - lr: 0.0010 - 19s/epoch - 21ms/step
Epoch 65/75
876/876 - 20s - loss: 0.0642 - accuracy: 0.9356 - val_loss: 0.4302 - val_accuracy: 0.7400 - lr: 0.0010 - 20s/epoch - 22ms/step
Epoch 66/75
876/876 - 19s - loss: 0.0637 - accuracy: 0.9360 - val_loss: 0.4248 - val_accuracy: 0.7421 - lr: 0.0010 - 19s/epoch - 22ms/step
Epoch 67/75
876/876 - 19s - loss: 0.0638 - accuracy: 0.9372 - val_loss: 0.4372 - val_accuracy: 0.7406 - lr: 0.0010 - 19s/epoch - 22ms/step
Epoch 68/75
876/876 - 19s - loss: 0.0647 - accuracy: 0.9355 - val_loss: 0.4086 - val_accuracy: 0.7408 - lr: 0.0010 - 19s/epoch - 22ms/step
Epoch 69/75
876/876 - 20s - loss: 0.0639 - accuracy: 0.9362 - val_loss: 0.4292 - val_accuracy: 0.7487 - lr: 0.0010 - 20s/epoch - 22ms/step
Epoch 70/75
876/876 - 19s - loss: 0.0641 - accuracy: 0.9352 - val_loss: 0.4100 - val_accuracy: 0.7451 - lr: 0.0010 - 19s/epoch - 22ms/step
Epoch 71/75
876/876 - 20s - loss: 0.0635 - accuracy: 0.9366 - val_loss: 0.4458 - val_accuracy: 0.7405 - lr: 0.0010 - 20s/epoch - 22ms/step
Epoch 72/75
876/876 - 19s - loss: 0.0645 - accuracy: 0.9356 - val_loss: 0.3884 - val_accuracy: 0.7610 - lr: 0.0010 - 19s/epoch - 22ms/step
Epoch 73/75
876/876 - 20s - loss: 0.0635 - accuracy: 0.9364 - val_loss: 0.4041 - val_accuracy: 0.7499 - lr: 0.0010 - 20s/epoch - 22ms/step
Epoch 74/75
876/876 - 20s - loss: 0.0626 - accuracy: 0.9373 - val_loss: 0.4097 - val_accuracy: 0.7589 - lr: 0.0010 - 20s/epoch - 22ms/step
Epoch 75/75
876/876 - 19s - loss: 0.0629 - accuracy: 0.9362 - val_loss: 0.4163 - val_accuracy: 0.7451 - lr: 0.0010 - 19s/epoch - 21ms/step
Epoch 1/75
176/176 - 12s - loss: 0.0489 - accuracy: 0.9522 - val_loss: 0.4528 - val_accuracy: 0.7421 - lr: 0.0010 - 12s/epoch - 70ms/step
Epoch 2/75
176/176 - 10s - loss: 0.0456 - accuracy: 0.9566 - val_loss: 0.4628 - val_accuracy: 0.7444 - lr: 0.0010 - 10s/epoch - 55ms/step
Epoch 3/75
176/176 - 10s - loss: 0.0453 - accuracy: 0.9564 - val_loss: 0.4740 - val_accuracy: 0.7458 - lr: 0.0010 - 10s/epoch - 55ms/step
Epoch 4/75
176/176 - 10s - loss: 0.0448 - accuracy: 0.9570 - val_loss: 0.4842 - val_accuracy: 0.7405 - lr: 0.0010 - 10s/epoch - 54ms/step
Epoch 5/75
176/176 - 10s - loss: 0.0453 - accuracy: 0.9561 - val_loss: 0.5183 - val_accuracy: 0.7327 - lr: 0.0010 - 10s/epoch - 55ms/step
Epoch 6/75
176/176 - 10s - loss: 0.0453 - accuracy: 0.9558 - val_loss: 0.5029 - val_accuracy: 0.7422 - lr: 0.0010 - 10s/epoch - 55ms/step
Epoch 7/75
176/176 - 10s - loss: 0.0467 - accuracy: 0.9543 - val_loss: 0.5120 - val_accuracy: 0.7373 - lr: 0.0010 - 10s/epoch - 54ms/step
Epoch 8/75
176/176 - 10s - loss: 0.0458 - accuracy: 0.9553 - val_loss: 0.5339 - val_accuracy: 0.7324 - lr: 0.0010 - 10s/epoch - 55ms/step
Epoch 9/75
176/176 - 10s - loss: 0.0459 - accuracy: 0.9551 - val_loss: 0.4907 - val_accuracy: 0.7475 - lr: 0.0010 - 10s/epoch - 55ms/step
Epoch 10/75
176/176 - 10s - loss: 0.0459 - accuracy: 0.9555 - val_loss: 0.5439 - val_accuracy: 0.7310 - lr: 0.0010 - 10s/epoch - 56ms/step
Epoch 11/75
176/176 - 10s - loss: 0.0452 - accuracy: 0.9569 - val_loss: 0.5060 - val_accuracy: 0.7421 - lr: 0.0010 - 10s/epoch - 57ms/step
Epoch 12/75
176/176 - 10s - loss: 0.0451 - accuracy: 0.9553 - val_loss: 0.5181 - val_accuracy: 0.7426 - lr: 0.0010 - 10s/epoch - 56ms/step
Epoch 13/75
176/176 - 10s - loss: 0.0471 - accuracy: 0.9542 - val_loss: 0.5624 - val_accuracy: 0.7243 - lr: 0.0010 - 10s/epoch - 56ms/step
Epoch 14/75
176/176 - 10s - loss: 0.0452 - accuracy: 0.9560 - val_loss: 0.5669 - val_accuracy: 0.7247 - lr: 0.0010 - 10s/epoch - 55ms/step
Epoch 15/75
176/176 - 10s - loss: 0.0454 - accuracy: 0.9560 - val_loss: 0.5334 - val_accuracy: 0.7395 - lr: 0.0010 - 10s/epoch - 56ms/step
Epoch 16/75
176/176 - 10s - loss: 0.0451 - accuracy: 0.9562 - val_loss: 0.5533 - val_accuracy: 0.7347 - lr: 0.0010 - 10s/epoch - 55ms/step
Epoch 17/75
176/176 - 10s - loss: 0.0456 - accuracy: 0.9555 - val_loss: 0.5345 - val_accuracy: 0.7367 - lr: 0.0010 - 10s/epoch - 56ms/step
Epoch 18/75
176/176 - 10s - loss: 0.0467 - accuracy: 0.9543 - val_loss: 0.5573 - val_accuracy: 0.7290 - lr: 0.0010 - 10s/epoch - 56ms/step
Epoch 19/75
176/176 - 10s - loss: 0.0460 - accuracy: 0.9554 - val_loss: 0.5088 - val_accuracy: 0.7499 - lr: 0.0010 - 10s/epoch - 55ms/step
Epoch 20/75
176/176 - 10s - loss: 0.0456 - accuracy: 0.9554 - val_loss: 0.5181 - val_accuracy: 0.7465 - lr: 0.0010 - 10s/epoch - 58ms/step
Epoch 21/75
176/176 - 10s - loss: 0.0458 - accuracy: 0.9556 - val_loss: 0.5545 - val_accuracy: 0.7316 - lr: 0.0010 - 10s/epoch - 58ms/step
Epoch 22/75
176/176 - 11s - loss: 0.0462 - accuracy: 0.9561 - val_loss: 0.5060 - val_accuracy: 0.7418 - lr: 0.0010 - 11s/epoch - 63ms/step
Epoch 23/75
176/176 - 12s - loss: 0.0462 - accuracy: 0.9551 - val_loss: 0.5457 - val_accuracy: 0.7346 - lr: 0.0010 - 12s/epoch - 67ms/step
Epoch 24/75
176/176 - 10s - loss: 0.0455 - accuracy: 0.9557 - val_loss: 0.5215 - val_accuracy: 0.7443 - lr: 0.0010 - 10s/epoch - 59ms/step
Epoch 25/75
176/176 - 11s - loss: 0.0468 - accuracy: 0.9543 - val_loss: 0.4829 - val_accuracy: 0.7596 - lr: 0.0010 - 11s/epoch - 60ms/step
Epoch 26/75
176/176 - 10s - loss: 0.0468 - accuracy: 0.9543 - val_loss: 0.5184 - val_accuracy: 0.7411 - lr: 0.0010 - 10s/epoch - 59ms/step
Epoch 27/75
176/176 - 11s - loss: 0.0465 - accuracy: 0.9555 - val_loss: 0.4942 - val_accuracy: 0.7499 - lr: 0.0010 - 11s/epoch - 63ms/step
Epoch 28/75
176/176 - 10s - loss: 0.0478 - accuracy: 0.9537 - val_loss: 0.5158 - val_accuracy: 0.7450 - lr: 0.0010 - 10s/epoch - 59ms/step
Epoch 29/75
176/176 - 10s - loss: 0.0457 - accuracy: 0.9558 - val_loss: 0.5614 - val_accuracy: 0.7369 - lr: 0.0010 - 10s/epoch - 57ms/step
Epoch 30/75
176/176 - 10s - loss: 0.0448 - accuracy: 0.9567 - val_loss: 0.5372 - val_accuracy: 0.7400 - lr: 0.0010 - 10s/epoch - 55ms/step
Epoch 31/75
176/176 - 10s - loss: 0.0437 - accuracy: 0.9574 - val_loss: 0.5395 - val_accuracy: 0.7382 - lr: 0.0010 - 10s/epoch - 55ms/step
Epoch 32/75
176/176 - 10s - loss: 0.0436 - accuracy: 0.9581 - val_loss: 0.5401 - val_accuracy: 0.7395 - lr: 0.0010 - 10s/epoch - 55ms/step
Epoch 33/75
176/176 - 10s - loss: 0.0440 - accuracy: 0.9569 - val_loss: 0.5605 - val_accuracy: 0.7389 - lr: 0.0010 - 10s/epoch - 55ms/step
Epoch 34/75
176/176 - 10s - loss: 0.0450 - accuracy: 0.9565 - val_loss: 0.5083 - val_accuracy: 0.7527 - lr: 0.0010 - 10s/epoch - 55ms/step
Epoch 35/75
176/176 - 9s - loss: 0.0458 - accuracy: 0.9554 - val_loss: 0.5119 - val_accuracy: 0.7471 - lr: 0.0010 - 9s/epoch - 52ms/step
Epoch 36/75
176/176 - 9s - loss: 0.0455 - accuracy: 0.9556 - val_loss: 0.5569 - val_accuracy: 0.7368 - lr: 0.0010 - 9s/epoch - 52ms/step
Epoch 37/75
176/176 - 9s - loss: 0.0453 - accuracy: 0.9560 - val_loss: 0.5167 - val_accuracy: 0.7492 - lr: 0.0010 - 9s/epoch - 51ms/step
Epoch 38/75
176/176 - 10s - loss: 0.0461 - accuracy: 0.9551 - val_loss: 0.5193 - val_accuracy: 0.7437 - lr: 0.0010 - 10s/epoch - 55ms/step
Epoch 39/75
176/176 - 10s - loss: 0.0460 - accuracy: 0.9557 - val_loss: 0.5414 - val_accuracy: 0.7376 - lr: 0.0010 - 10s/epoch - 55ms/step
Epoch 40/75
176/176 - 10s - loss: 0.0457 - accuracy: 0.9560 - val_loss: 0.4974 - val_accuracy: 0.7568 - lr: 0.0010 - 10s/epoch - 55ms/step
Epoch 41/75
176/176 - 10s - loss: 0.0454 - accuracy: 0.9555 - val_loss: 0.5285 - val_accuracy: 0.7421 - lr: 0.0010 - 10s/epoch - 54ms/step
Epoch 42/75
176/176 - 10s - loss: 0.0459 - accuracy: 0.9553 - val_loss: 0.5412 - val_accuracy: 0.7392 - lr: 0.0010 - 10s/epoch - 55ms/step
Epoch 43/75
176/176 - 10s - loss: 0.0459 - accuracy: 0.9551 - val_loss: 0.5519 - val_accuracy: 0.7335 - lr: 0.0010 - 10s/epoch - 55ms/step
Epoch 44/75
176/176 - 10s - loss: 0.0458 - accuracy: 0.9556 - val_loss: 0.5464 - val_accuracy: 0.7332 - lr: 0.0010 - 10s/epoch - 55ms/step
Epoch 45/75
176/176 - 10s - loss: 0.0462 - accuracy: 0.9556 - val_loss: 0.5369 - val_accuracy: 0.7383 - lr: 0.0010 - 10s/epoch - 55ms/step
Epoch 46/75
176/176 - 10s - loss: 0.0443 - accuracy: 0.9575 - val_loss: 0.5341 - val_accuracy: 0.7421 - lr: 0.0010 - 10s/epoch - 57ms/step
Epoch 47/75
176/176 - 10s - loss: 0.0440 - accuracy: 0.9570 - val_loss: 0.5523 - val_accuracy: 0.7370 - lr: 0.0010 - 10s/epoch - 57ms/step
Epoch 48/75
176/176 - 9s - loss: 0.0439 - accuracy: 0.9583 - val_loss: 0.5423 - val_accuracy: 0.7442 - lr: 0.0010 - 9s/epoch - 53ms/step
Epoch 49/75
176/176 - 10s - loss: 0.0446 - accuracy: 0.9568 - val_loss: 0.5411 - val_accuracy: 0.7422 - lr: 0.0010 - 10s/epoch - 57ms/step
Epoch 50/75
176/176 - 10s - loss: 0.0434 - accuracy: 0.9584 - val_loss: 0.5842 - val_accuracy: 0.7286 - lr: 0.0010 - 10s/epoch - 55ms/step
Epoch 51/75
176/176 - 10s - loss: 0.0432 - accuracy: 0.9586 - val_loss: 0.5456 - val_accuracy: 0.7439 - lr: 0.0010 - 10s/epoch - 56ms/step
Epoch 52/75
176/176 - 10s - loss: 0.0439 - accuracy: 0.9574 - val_loss: 0.5673 - val_accuracy: 0.7357 - lr: 0.0010 - 10s/epoch - 55ms/step
Epoch 53/75
176/176 - 10s - loss: 0.0444 - accuracy: 0.9571 - val_loss: 0.6029 - val_accuracy: 0.7232 - lr: 0.0010 - 10s/epoch - 55ms/step
Epoch 54/75
176/176 - 10s - loss: 0.0428 - accuracy: 0.9579 - val_loss: 0.5537 - val_accuracy: 0.7408 - lr: 0.0010 - 10s/epoch - 55ms/step
Epoch 55/75
176/176 - 10s - loss: 0.0429 - accuracy: 0.9582 - val_loss: 0.5650 - val_accuracy: 0.7429 - lr: 0.0010 - 10s/epoch - 56ms/step
Epoch 56/75
176/176 - 10s - loss: 0.0436 - accuracy: 0.9580 - val_loss: 0.5648 - val_accuracy: 0.7350 - lr: 0.0010 - 10s/epoch - 55ms/step
Epoch 57/75
176/176 - 10s - loss: 0.0455 - accuracy: 0.9558 - val_loss: 0.5743 - val_accuracy: 0.7286 - lr: 0.0010 - 10s/epoch - 57ms/step
Epoch 58/75
176/176 - 10s - loss: 0.0443 - accuracy: 0.9575 - val_loss: 0.5602 - val_accuracy: 0.7360 - lr: 0.0010 - 10s/epoch - 55ms/step
Epoch 59/75
176/176 - 10s - loss: 0.0432 - accuracy: 0.9576 - val_loss: 0.5737 - val_accuracy: 0.7396 - lr: 0.0010 - 10s/epoch - 56ms/step
Epoch 60/75
176/176 - 10s - loss: 0.0440 - accuracy: 0.9575 - val_loss: 0.5901 - val_accuracy: 0.7322 - lr: 0.0010 - 10s/epoch - 55ms/step
Epoch 61/75
176/176 - 10s - loss: 0.0437 - accuracy: 0.9574 - val_loss: 0.5617 - val_accuracy: 0.7373 - lr: 0.0010 - 10s/epoch - 56ms/step
Epoch 62/75
176/176 - 10s - loss: 0.0435 - accuracy: 0.9581 - val_loss: 0.5638 - val_accuracy: 0.7405 - lr: 0.0010 - 10s/epoch - 55ms/step
Epoch 63/75
176/176 - 10s - loss: 0.0429 - accuracy: 0.9583 - val_loss: 0.5725 - val_accuracy: 0.7335 - lr: 0.0010 - 10s/epoch - 56ms/step
Epoch 64/75
176/176 - 11s - loss: 0.0437 - accuracy: 0.9575 - val_loss: 0.5783 - val_accuracy: 0.7360 - lr: 0.0010 - 11s/epoch - 62ms/step
Epoch 65/75
176/176 - 12s - loss: 0.0420 - accuracy: 0.9595 - val_loss: 0.5374 - val_accuracy: 0.7450 - lr: 0.0010 - 12s/epoch - 67ms/step
Epoch 66/75
176/176 - 11s - loss: 0.0428 - accuracy: 0.9587 - val_loss: 0.5837 - val_accuracy: 0.7314 - lr: 0.0010 - 11s/epoch - 63ms/step
Epoch 67/75
176/176 - 10s - loss: 0.0424 - accuracy: 0.9588 - val_loss: 0.5865 - val_accuracy: 0.7333 - lr: 0.0010 - 10s/epoch - 59ms/step
Epoch 68/75
176/176 - 11s - loss: 0.0433 - accuracy: 0.9579 - val_loss: 0.5269 - val_accuracy: 0.7532 - lr: 0.0010 - 11s/epoch - 61ms/step
Epoch 69/75
176/176 - 12s - loss: 0.0415 - accuracy: 0.9593 - val_loss: 0.6039 - val_accuracy: 0.7274 - lr: 0.0010 - 12s/epoch - 67ms/step
Epoch 70/75
176/176 - 11s - loss: 0.0423 - accuracy: 0.9595 - val_loss: 0.5768 - val_accuracy: 0.7357 - lr: 0.0010 - 11s/epoch - 65ms/step
Epoch 71/75
176/176 - 11s - loss: 0.0435 - accuracy: 0.9581 - val_loss: 0.5859 - val_accuracy: 0.7332 - lr: 0.0010 - 11s/epoch - 62ms/step
Epoch 72/75
176/176 - 10s - loss: 0.0416 - accuracy: 0.9593 - val_loss: 0.5979 - val_accuracy: 0.7388 - lr: 0.0010 - 10s/epoch - 59ms/step
Epoch 73/75
176/176 - 11s - loss: 0.0438 - accuracy: 0.9575 - val_loss: 0.5435 - val_accuracy: 0.7479 - lr: 0.0010 - 11s/epoch - 60ms/step
Epoch 74/75
176/176 - 11s - loss: 0.0437 - accuracy: 0.9572 - val_loss: 0.5627 - val_accuracy: 0.7426 - lr: 0.0010 - 11s/epoch - 65ms/step
Epoch 75/75
176/176 - 13s - loss: 0.0420 - accuracy: 0.9596 - val_loss: 0.5726 - val_accuracy: 0.7410 - lr: 0.0010 - 13s/epoch - 74ms/step
Epoch 1/75
36/36 - 16s - loss: 0.0395 - accuracy: 0.9622 - val_loss: 0.5839 - val_accuracy: 0.7373 - lr: 0.0010 - 16s/epoch - 442ms/step
Epoch 2/75
36/36 - 12s - loss: 0.0368 - accuracy: 0.9646 - val_loss: 0.5789 - val_accuracy: 0.7392 - lr: 0.0010 - 12s/epoch - 326ms/step
Epoch 3/75
36/36 - 12s - loss: 0.0349 - accuracy: 0.9665 - val_loss: 0.5931 - val_accuracy: 0.7356 - lr: 0.0010 - 12s/epoch - 332ms/step
Epoch 4/75
36/36 - 12s - loss: 0.0345 - accuracy: 0.9671 - val_loss: 0.5993 - val_accuracy: 0.7349 - lr: 0.0010 - 12s/epoch - 345ms/step
Epoch 5/75
36/36 - 12s - loss: 0.0344 - accuracy: 0.9673 - val_loss: 0.5943 - val_accuracy: 0.7365 - lr: 0.0010 - 12s/epoch - 321ms/step
Epoch 6/75
36/36 - 12s - loss: 0.0345 - accuracy: 0.9670 - val_loss: 0.5954 - val_accuracy: 0.7363 - lr: 0.0010 - 12s/epoch - 323ms/step
Epoch 7/75
36/36 - 11s - loss: 0.0339 - accuracy: 0.9668 - val_loss: 0.6000 - val_accuracy: 0.7358 - lr: 0.0010 - 11s/epoch - 315ms/step
Epoch 8/75
36/36 - 8s - loss: 0.0351 - accuracy: 0.9661 - val_loss: 0.6075 - val_accuracy: 0.7334 - lr: 0.0010 - 8s/epoch - 224ms/step
Epoch 9/75
36/36 - 7s - loss: 0.0339 - accuracy: 0.9674 - val_loss: 0.6026 - val_accuracy: 0.7364 - lr: 0.0010 - 7s/epoch - 207ms/step
Epoch 10/75
36/36 - 8s - loss: 0.0348 - accuracy: 0.9671 - val_loss: 0.6129 - val_accuracy: 0.7339 - lr: 0.0010 - 8s/epoch - 213ms/step
Epoch 11/75
36/36 - 7s - loss: 0.0328 - accuracy: 0.9686 - val_loss: 0.6065 - val_accuracy: 0.7358 - lr: 0.0010 - 7s/epoch - 207ms/step
Epoch 12/75
36/36 - 8s - loss: 0.0333 - accuracy: 0.9680 - val_loss: 0.6249 - val_accuracy: 0.7310 - lr: 0.0010 - 8s/epoch - 214ms/step
Epoch 13/75
36/36 - 8s - loss: 0.0340 - accuracy: 0.9677 - val_loss: 0.6235 - val_accuracy: 0.7320 - lr: 0.0010 - 8s/epoch - 213ms/step
Epoch 14/75
36/36 - 7s - loss: 0.0345 - accuracy: 0.9669 - val_loss: 0.6231 - val_accuracy: 0.7355 - lr: 0.0010 - 7s/epoch - 208ms/step
Epoch 15/75
36/36 - 8s - loss: 0.0345 - accuracy: 0.9673 - val_loss: 0.6183 - val_accuracy: 0.7372 - lr: 0.0010 - 8s/epoch - 220ms/step
Epoch 16/75
36/36 - 8s - loss: 0.0332 - accuracy: 0.9683 - val_loss: 0.6413 - val_accuracy: 0.7294 - lr: 0.0010 - 8s/epoch - 224ms/step
Epoch 17/75
36/36 - 7s - loss: 0.0333 - accuracy: 0.9678 - val_loss: 0.6322 - val_accuracy: 0.7314 - lr: 0.0010 - 7s/epoch - 206ms/step
Epoch 18/75
36/36 - 8s - loss: 0.0333 - accuracy: 0.9681 - val_loss: 0.6137 - val_accuracy: 0.7376 - lr: 0.0010 - 8s/epoch - 212ms/step
Epoch 19/75
36/36 - 8s - loss: 0.0338 - accuracy: 0.9676 - val_loss: 0.6272 - val_accuracy: 0.7347 - lr: 0.0010 - 8s/epoch - 224ms/step
Epoch 20/75
36/36 - 7s - loss: 0.0344 - accuracy: 0.9673 - val_loss: 0.6123 - val_accuracy: 0.7375 - lr: 0.0010 - 7s/epoch - 206ms/step
Epoch 21/75
36/36 - 7s - loss: 0.0328 - accuracy: 0.9682 - val_loss: 0.6262 - val_accuracy: 0.7356 - lr: 0.0010 - 7s/epoch - 208ms/step
Epoch 22/75
36/36 - 8s - loss: 0.0333 - accuracy: 0.9686 - val_loss: 0.6358 - val_accuracy: 0.7315 - lr: 0.0010 - 8s/epoch - 215ms/step
Epoch 23/75
36/36 - 8s - loss: 0.0316 - accuracy: 0.9691 - val_loss: 0.6291 - val_accuracy: 0.7328 - lr: 0.0010 - 8s/epoch - 233ms/step
Epoch 24/75
36/36 - 14s - loss: 0.0339 - accuracy: 0.9681 - val_loss: 0.6249 - val_accuracy: 0.7313 - lr: 0.0010 - 14s/epoch - 381ms/step
Epoch 25/75
36/36 - 11s - loss: 0.0347 - accuracy: 0.9666 - val_loss: 0.6310 - val_accuracy: 0.7303 - lr: 0.0010 - 11s/epoch - 297ms/step
Epoch 26/75
36/36 - 12s - loss: 0.0325 - accuracy: 0.9692 - val_loss: 0.6335 - val_accuracy: 0.7346 - lr: 0.0010 - 12s/epoch - 339ms/step
Epoch 27/75
36/36 - 12s - loss: 0.0328 - accuracy: 0.9686 - val_loss: 0.6188 - val_accuracy: 0.7383 - lr: 0.0010 - 12s/epoch - 346ms/step
Epoch 28/75
36/36 - 12s - loss: 0.0325 - accuracy: 0.9690 - val_loss: 0.6439 - val_accuracy: 0.7327 - lr: 0.0010 - 12s/epoch - 338ms/step
Epoch 29/75
36/36 - 12s - loss: 0.0323 - accuracy: 0.9690 - val_loss: 0.6366 - val_accuracy: 0.7291 - lr: 0.0010 - 12s/epoch - 338ms/step
Epoch 30/75
36/36 - 13s - loss: 0.0314 - accuracy: 0.9698 - val_loss: 0.6323 - val_accuracy: 0.7286 - lr: 0.0010 - 13s/epoch - 358ms/step
Epoch 31/75
36/36 - 15s - loss: 0.0326 - accuracy: 0.9693 - val_loss: 0.6301 - val_accuracy: 0.7303 - lr: 0.0010 - 15s/epoch - 404ms/step
Epoch 32/75
36/36 - 15s - loss: 0.0330 - accuracy: 0.9686 - val_loss: 0.6425 - val_accuracy: 0.7234 - lr: 0.0010 - 15s/epoch - 418ms/step
Epoch 33/75
36/36 - 14s - loss: 0.0330 - accuracy: 0.9687 - val_loss: 0.6426 - val_accuracy: 0.7267 - lr: 0.0010 - 14s/epoch - 375ms/step
Epoch 34/75
36/36 - 12s - loss: 0.0330 - accuracy: 0.9683 - val_loss: 0.6401 - val_accuracy: 0.7306 - lr: 0.0010 - 12s/epoch - 345ms/step
Epoch 35/75
36/36 - 14s - loss: 0.0322 - accuracy: 0.9698 - val_loss: 0.6362 - val_accuracy: 0.7274 - lr: 0.0010 - 14s/epoch - 394ms/step
Epoch 36/75
36/36 - 14s - loss: 0.0322 - accuracy: 0.9699 - val_loss: 0.6495 - val_accuracy: 0.7232 - lr: 0.0010 - 14s/epoch - 376ms/step
Epoch 37/75
36/36 - 17s - loss: 0.0321 - accuracy: 0.9696 - val_loss: 0.6406 - val_accuracy: 0.7304 - lr: 0.0010 - 17s/epoch - 484ms/step
Epoch 38/75
36/36 - 16s - loss: 0.0331 - accuracy: 0.9682 - val_loss: 0.6465 - val_accuracy: 0.7278 - lr: 0.0010 - 16s/epoch - 434ms/step
Epoch 39/75
36/36 - 17s - loss: 0.0326 - accuracy: 0.9686 - val_loss: 0.6441 - val_accuracy: 0.7324 - lr: 0.0010 - 17s/epoch - 479ms/step
Epoch 40/75
36/36 - 18s - loss: 0.0327 - accuracy: 0.9685 - val_loss: 0.6345 - val_accuracy: 0.7402 - lr: 0.0010 - 18s/epoch - 499ms/step
Epoch 41/75
36/36 - 15s - loss: 0.0319 - accuracy: 0.9695 - val_loss: 0.6388 - val_accuracy: 0.7369 - lr: 0.0010 - 15s/epoch - 407ms/step
Epoch 42/75
36/36 - 18s - loss: 0.0317 - accuracy: 0.9695 - val_loss: 0.6441 - val_accuracy: 0.7307 - lr: 0.0010 - 18s/epoch - 500ms/step
Epoch 43/75
36/36 - 13s - loss: 0.0320 - accuracy: 0.9695 - val_loss: 0.6460 - val_accuracy: 0.7294 - lr: 0.0010 - 13s/epoch - 362ms/step
Epoch 44/75
36/36 - 15s - loss: 0.0312 - accuracy: 0.9703 - val_loss: 0.6346 - val_accuracy: 0.7324 - lr: 0.0010 - 15s/epoch - 403ms/step
Epoch 45/75
36/36 - 15s - loss: 0.0326 - accuracy: 0.9690 - val_loss: 0.6407 - val_accuracy: 0.7370 - lr: 0.0010 - 15s/epoch - 406ms/step
Epoch 46/75
36/36 - 17s - loss: 0.0330 - accuracy: 0.9683 - val_loss: 0.6581 - val_accuracy: 0.7331 - lr: 0.0010 - 17s/epoch - 469ms/step
Epoch 47/75
36/36 - 22s - loss: 0.0333 - accuracy: 0.9680 - val_loss: 0.6545 - val_accuracy: 0.7271 - lr: 0.0010 - 22s/epoch - 605ms/step
Epoch 48/75
36/36 - 18s - loss: 0.0319 - accuracy: 0.9698 - val_loss: 0.6519 - val_accuracy: 0.7252 - lr: 0.0010 - 18s/epoch - 487ms/step
Epoch 49/75
36/36 - 20s - loss: 0.0323 - accuracy: 0.9694 - val_loss: 0.6459 - val_accuracy: 0.7270 - lr: 0.0010 - 20s/epoch - 548ms/step
Epoch 50/75
36/36 - 12s - loss: 0.0322 - accuracy: 0.9698 - val_loss: 0.6401 - val_accuracy: 0.7291 - lr: 0.0010 - 12s/epoch - 339ms/step
Epoch 51/75
36/36 - 12s - loss: 0.0314 - accuracy: 0.9698 - val_loss: 0.6554 - val_accuracy: 0.7254 - lr: 0.0010 - 12s/epoch - 337ms/step
Epoch 52/75
36/36 - 13s - loss: 0.0301 - accuracy: 0.9716 - val_loss: 0.6473 - val_accuracy: 0.7275 - lr: 0.0010 - 13s/epoch - 351ms/step
Epoch 53/75
36/36 - 15s - loss: 0.0313 - accuracy: 0.9707 - val_loss: 0.6444 - val_accuracy: 0.7290 - lr: 0.0010 - 15s/epoch - 427ms/step
Epoch 54/75
36/36 - 23s - loss: 0.0315 - accuracy: 0.9705 - val_loss: 0.6465 - val_accuracy: 0.7301 - lr: 0.0010 - 23s/epoch - 641ms/step
Epoch 55/75
36/36 - 21s - loss: 0.0325 - accuracy: 0.9698 - val_loss: 0.6581 - val_accuracy: 0.7234 - lr: 0.0010 - 21s/epoch - 579ms/step
Epoch 56/75
36/36 - 18s - loss: 0.0318 - accuracy: 0.9698 - val_loss: 0.6526 - val_accuracy: 0.7245 - lr: 0.0010 - 18s/epoch - 506ms/step
Epoch 57/75
36/36 - 19s - loss: 0.0307 - accuracy: 0.9721 - val_loss: 0.6596 - val_accuracy: 0.7258 - lr: 0.0010 - 19s/epoch - 538ms/step
Epoch 58/75
36/36 - 24s - loss: 0.0325 - accuracy: 0.9697 - val_loss: 0.6547 - val_accuracy: 0.7287 - lr: 0.0010 - 24s/epoch - 668ms/step
Epoch 59/75
36/36 - 19s - loss: 0.0312 - accuracy: 0.9703 - val_loss: 0.6638 - val_accuracy: 0.7236 - lr: 0.0010 - 19s/epoch - 530ms/step
Epoch 60/75
36/36 - 16s - loss: 0.0321 - accuracy: 0.9701 - val_loss: 0.6580 - val_accuracy: 0.7239 - lr: 0.0010 - 16s/epoch - 456ms/step
Epoch 61/75
36/36 - 15s - loss: 0.0323 - accuracy: 0.9695 - val_loss: 0.6658 - val_accuracy: 0.7227 - lr: 0.0010 - 15s/epoch - 421ms/step
Epoch 62/75
36/36 - 18s - loss: 0.0308 - accuracy: 0.9707 - val_loss: 0.6550 - val_accuracy: 0.7262 - lr: 0.0010 - 18s/epoch - 486ms/step
Epoch 63/75
36/36 - 15s - loss: 0.0316 - accuracy: 0.9699 - val_loss: 0.6626 - val_accuracy: 0.7269 - lr: 0.0010 - 15s/epoch - 413ms/step
Epoch 64/75
36/36 - 13s - loss: 0.0333 - accuracy: 0.9675 - val_loss: 0.6564 - val_accuracy: 0.7313 - lr: 0.0010 - 13s/epoch - 375ms/step
Epoch 65/75
36/36 - 12s - loss: 0.0318 - accuracy: 0.9697 - val_loss: 0.6575 - val_accuracy: 0.7276 - lr: 0.0010 - 12s/epoch - 341ms/step
Epoch 66/75
36/36 - 15s - loss: 0.0319 - accuracy: 0.9703 - val_loss: 0.6500 - val_accuracy: 0.7289 - lr: 0.0010 - 15s/epoch - 427ms/step
Epoch 67/75
36/36 - 17s - loss: 0.0315 - accuracy: 0.9705 - val_loss: 0.6628 - val_accuracy: 0.7257 - lr: 0.0010 - 17s/epoch - 467ms/step
Epoch 68/75
36/36 - 20s - loss: 0.0310 - accuracy: 0.9704 - val_loss: 0.6697 - val_accuracy: 0.7216 - lr: 0.0010 - 20s/epoch - 567ms/step
Epoch 69/75
36/36 - 25s - loss: 0.0318 - accuracy: 0.9701 - val_loss: 0.6739 - val_accuracy: 0.7243 - lr: 0.0010 - 25s/epoch - 703ms/step
Epoch 70/75
36/36 - 18s - loss: 0.0316 - accuracy: 0.9704 - val_loss: 0.6710 - val_accuracy: 0.7225 - lr: 0.0010 - 18s/epoch - 498ms/step
Epoch 71/75
36/36 - 16s - loss: 0.0306 - accuracy: 0.9713 - val_loss: 0.6721 - val_accuracy: 0.7198 - lr: 0.0010 - 16s/epoch - 447ms/step
Epoch 72/75
36/36 - 19s - loss: 0.0316 - accuracy: 0.9707 - val_loss: 0.6751 - val_accuracy: 0.7217 - lr: 0.0010 - 19s/epoch - 521ms/step
Epoch 73/75
36/36 - 15s - loss: 0.0313 - accuracy: 0.9701 - val_loss: 0.6667 - val_accuracy: 0.7254 - lr: 0.0010 - 15s/epoch - 426ms/step
Epoch 74/75
36/36 - 19s - loss: 0.0321 - accuracy: 0.9697 - val_loss: 0.6601 - val_accuracy: 0.7275 - lr: 0.0010 - 19s/epoch - 518ms/step
Epoch 75/75
36/36 - 23s - loss: 0.0310 - accuracy: 0.9708 - val_loss: 0.6725 - val_accuracy: 0.7249 - lr: 0.0010 - 23s/epoch - 632ms/step
Epoch 1/100
4378/4378 - 116s - loss: 0.0892 - accuracy: 0.9135 - val_loss: 0.3828 - val_accuracy: 0.7478 - lr: 0.0010 - 116s/epoch - 27ms/step
Epoch 2/100
4378/4378 - 112s - loss: 0.0921 - accuracy: 0.9070 - val_loss: 0.3130 - val_accuracy: 0.7749 - lr: 0.0010 - 112s/epoch - 26ms/step
Epoch 3/100
4378/4378 - 120s - loss: 0.0937 - accuracy: 0.9045 - val_loss: 0.3540 - val_accuracy: 0.7413 - lr: 0.0010 - 120s/epoch - 27ms/step
Epoch 4/100
4378/4378 - 113s - loss: 0.0921 - accuracy: 0.9066 - val_loss: 0.3251 - val_accuracy: 0.7541 - lr: 0.0010 - 113s/epoch - 26ms/step
Epoch 5/100
4378/4378 - 117s - loss: 0.0930 - accuracy: 0.9051 - val_loss: 0.2979 - val_accuracy: 0.7763 - lr: 0.0010 - 117s/epoch - 27ms/step
Epoch 6/100
4378/4378 - 119s - loss: 0.0926 - accuracy: 0.9051 - val_loss: 0.3139 - val_accuracy: 0.7626 - lr: 0.0010 - 119s/epoch - 27ms/step
Epoch 7/100
4378/4378 - 124s - loss: 0.0943 - accuracy: 0.9039 - val_loss: 0.2815 - val_accuracy: 0.7809 - lr: 0.0010 - 124s/epoch - 28ms/step
Epoch 8/100
4378/4378 - 125s - loss: 0.0939 - accuracy: 0.9035 - val_loss: 0.3082 - val_accuracy: 0.7631 - lr: 0.0010 - 125s/epoch - 29ms/step
Epoch 9/100
4378/4378 - 131s - loss: 0.0934 - accuracy: 0.9049 - val_loss: 0.2960 - val_accuracy: 0.7744 - lr: 0.0010 - 131s/epoch - 30ms/step
Epoch 10/100
4378/4378 - 106s - loss: 0.0943 - accuracy: 0.9032 - val_loss: 0.2962 - val_accuracy: 0.7718 - lr: 0.0010 - 106s/epoch - 24ms/step
Epoch 11/100
4378/4378 - 104s - loss: 0.0928 - accuracy: 0.9045 - val_loss: 0.2940 - val_accuracy: 0.7729 - lr: 0.0010 - 104s/epoch - 24ms/step
Epoch 12/100
4378/4378 - 107s - loss: 0.0944 - accuracy: 0.9033 - val_loss: 0.2844 - val_accuracy: 0.7759 - lr: 0.0010 - 107s/epoch - 24ms/step
Epoch 13/100
4378/4378 - 109s - loss: 0.0926 - accuracy: 0.9057 - val_loss: 0.2917 - val_accuracy: 0.7803 - lr: 0.0010 - 109s/epoch - 25ms/step
Epoch 14/100
4378/4378 - 108s - loss: 0.0933 - accuracy: 0.9037 - val_loss: 0.2790 - val_accuracy: 0.7823 - lr: 0.0010 - 108s/epoch - 25ms/step
Epoch 15/100
4378/4378 - 107s - loss: 0.0929 - accuracy: 0.9051 - val_loss: 0.3363 - val_accuracy: 0.7466 - lr: 0.0010 - 107s/epoch - 24ms/step
Epoch 16/100
4378/4378 - 103s - loss: 0.0937 - accuracy: 0.9044 - val_loss: 0.3242 - val_accuracy: 0.7553 - lr: 0.0010 - 103s/epoch - 24ms/step
Epoch 17/100
4378/4378 - 109s - loss: 0.0939 - accuracy: 0.9047 - val_loss: 0.2752 - val_accuracy: 0.7782 - lr: 0.0010 - 109s/epoch - 25ms/step
Epoch 18/100
4378/4378 - 96s - loss: 0.0937 - accuracy: 0.9036 - val_loss: 0.2983 - val_accuracy: 0.7718 - lr: 0.0010 - 96s/epoch - 22ms/step
Epoch 19/100
4378/4378 - 91s - loss: 0.0941 - accuracy: 0.9033 - val_loss: 0.2831 - val_accuracy: 0.7781 - lr: 0.0010 - 91s/epoch - 21ms/step
Epoch 20/100
4378/4378 - 106s - loss: 0.0950 - accuracy: 0.9028 - val_loss: 0.2805 - val_accuracy: 0.7780 - lr: 0.0010 - 106s/epoch - 24ms/step
Epoch 21/100
4378/4378 - 112s - loss: 0.0940 - accuracy: 0.9034 - val_loss: 0.3049 - val_accuracy: 0.7632 - lr: 0.0010 - 112s/epoch - 26ms/step
Epoch 22/100
4378/4378 - 117s - loss: 0.0952 - accuracy: 0.9032 - val_loss: 0.3430 - val_accuracy: 0.7484 - lr: 0.0010 - 117s/epoch - 27ms/step
Epoch 23/100
4378/4378 - 114s - loss: 0.0932 - accuracy: 0.9042 - val_loss: 0.3033 - val_accuracy: 0.7655 - lr: 0.0010 - 114s/epoch - 26ms/step
Epoch 24/100
4378/4378 - 113s - loss: 0.0935 - accuracy: 0.9037 - val_loss: 0.2806 - val_accuracy: 0.7773 - lr: 0.0010 - 113s/epoch - 26ms/step
Epoch 25/100
4378/4378 - 118s - loss: 0.0950 - accuracy: 0.9033 - val_loss: 0.3186 - val_accuracy: 0.7527 - lr: 0.0010 - 118s/epoch - 27ms/step
Epoch 26/100
4378/4378 - 111s - loss: 0.0930 - accuracy: 0.9050 - val_loss: 0.3199 - val_accuracy: 0.7504 - lr: 0.0010 - 111s/epoch - 25ms/step
Epoch 27/100
4378/4378 - 119s - loss: 0.0928 - accuracy: 0.9039 - val_loss: 0.3095 - val_accuracy: 0.7683 - lr: 0.0010 - 119s/epoch - 27ms/step
Epoch 28/100
4378/4378 - 118s - loss: 0.0942 - accuracy: 0.9035 - val_loss: 0.2537 - val_accuracy: 0.7939 - lr: 0.0010 - 118s/epoch - 27ms/step
Epoch 29/100
4378/4378 - 129s - loss: 0.0945 - accuracy: 0.9034 - val_loss: 0.2603 - val_accuracy: 0.7909 - lr: 0.0010 - 129s/epoch - 30ms/step
Epoch 30/100
4378/4378 - 126s - loss: 0.0932 - accuracy: 0.9039 - val_loss: 0.3037 - val_accuracy: 0.7622 - lr: 0.0010 - 126s/epoch - 29ms/step
Epoch 31/100
4378/4378 - 125s - loss: 0.0936 - accuracy: 0.9030 - val_loss: 0.3263 - val_accuracy: 0.7504 - lr: 0.0010 - 125s/epoch - 28ms/step
Epoch 32/100
4378/4378 - 135s - loss: 0.0939 - accuracy: 0.9040 - val_loss: 0.3052 - val_accuracy: 0.7555 - lr: 0.0010 - 135s/epoch - 31ms/step
Epoch 33/100
4378/4378 - 130s - loss: 0.0935 - accuracy: 0.9042 - val_loss: 0.2854 - val_accuracy: 0.7721 - lr: 0.0010 - 130s/epoch - 30ms/step
Epoch 34/100
4378/4378 - 132s - loss: 0.0941 - accuracy: 0.9039 - val_loss: 0.2710 - val_accuracy: 0.7858 - lr: 0.0010 - 132s/epoch - 30ms/step
Epoch 35/100
4378/4378 - 139s - loss: 0.0924 - accuracy: 0.9058 - val_loss: 0.2937 - val_accuracy: 0.7671 - lr: 0.0010 - 139s/epoch - 32ms/step
Epoch 36/100
4378/4378 - 146s - loss: 0.0938 - accuracy: 0.9039 - val_loss: 0.3061 - val_accuracy: 0.7623 - lr: 0.0010 - 146s/epoch - 33ms/step
Epoch 37/100
4378/4378 - 135s - loss: 0.0927 - accuracy: 0.9053 - val_loss: 0.3034 - val_accuracy: 0.7584 - lr: 0.0010 - 135s/epoch - 31ms/step
Epoch 38/100
4378/4378 - 114s - loss: 0.0947 - accuracy: 0.9030 - val_loss: 0.3131 - val_accuracy: 0.7516 - lr: 0.0010 - 114s/epoch - 26ms/step
Epoch 39/100
4378/4378 - 112s - loss: 0.0933 - accuracy: 0.9041 - val_loss: 0.3180 - val_accuracy: 0.7528 - lr: 0.0010 - 112s/epoch - 25ms/step
Epoch 40/100
4378/4378 - 112s - loss: 0.0930 - accuracy: 0.9054 - val_loss: 0.3032 - val_accuracy: 0.7583 - lr: 0.0010 - 112s/epoch - 26ms/step
Epoch 41/100
4378/4378 - 116s - loss: 0.0939 - accuracy: 0.9033 - val_loss: 0.2516 - val_accuracy: 0.7932 - lr: 0.0010 - 116s/epoch - 26ms/step
Epoch 42/100
4378/4378 - 117s - loss: 0.0930 - accuracy: 0.9049 - val_loss: 0.2828 - val_accuracy: 0.7809 - lr: 0.0010 - 117s/epoch - 27ms/step
Epoch 43/100
4378/4378 - 111s - loss: 0.0919 - accuracy: 0.9063 - val_loss: 0.3074 - val_accuracy: 0.7614 - lr: 0.0010 - 111s/epoch - 25ms/step
Epoch 44/100
4378/4378 - 113s - loss: 0.0932 - accuracy: 0.9046 - val_loss: 0.2773 - val_accuracy: 0.7756 - lr: 0.0010 - 113s/epoch - 26ms/step
Epoch 45/100
4378/4378 - 112s - loss: 0.0933 - accuracy: 0.9041 - val_loss: 0.2873 - val_accuracy: 0.7753 - lr: 0.0010 - 112s/epoch - 26ms/step
Epoch 46/100
4378/4378 - 118s - loss: 0.0931 - accuracy: 0.9033 - val_loss: 0.2796 - val_accuracy: 0.7761 - lr: 0.0010 - 118s/epoch - 27ms/step
Epoch 47/100
4378/4378 - 103s - loss: 0.0926 - accuracy: 0.9056 - val_loss: 0.2883 - val_accuracy: 0.7639 - lr: 0.0010 - 103s/epoch - 24ms/step
Epoch 48/100
4378/4378 - 107s - loss: 0.0933 - accuracy: 0.9039 - val_loss: 0.2603 - val_accuracy: 0.7910 - lr: 0.0010 - 107s/epoch - 24ms/step
Epoch 49/100
4378/4378 - 112s - loss: 0.0925 - accuracy: 0.9050 - val_loss: 0.3073 - val_accuracy: 0.7591 - lr: 0.0010 - 112s/epoch - 26ms/step
Epoch 50/100
4378/4378 - 122s - loss: 0.0939 - accuracy: 0.9035 - val_loss: 0.3105 - val_accuracy: 0.7589 - lr: 0.0010 - 122s/epoch - 28ms/step
Epoch 51/100
4378/4378 - 119s - loss: 0.0925 - accuracy: 0.9053 - val_loss: 0.2972 - val_accuracy: 0.7717 - lr: 0.0010 - 119s/epoch - 27ms/step
Epoch 52/100
4378/4378 - 121s - loss: 0.0929 - accuracy: 0.9054 - val_loss: 0.2839 - val_accuracy: 0.7726 - lr: 0.0010 - 121s/epoch - 28ms/step
Epoch 53/100
4378/4378 - 114s - loss: 0.0938 - accuracy: 0.9041 - val_loss: 0.3366 - val_accuracy: 0.7386 - lr: 0.0010 - 114s/epoch - 26ms/step
Epoch 54/100
4378/4378 - 103s - loss: 0.0928 - accuracy: 0.9047 - val_loss: 0.3007 - val_accuracy: 0.7624 - lr: 0.0010 - 103s/epoch - 23ms/step
Epoch 55/100
4378/4378 - 103s - loss: 0.0936 - accuracy: 0.9043 - val_loss: 0.3173 - val_accuracy: 0.7568 - lr: 0.0010 - 103s/epoch - 24ms/step
Epoch 56/100
4378/4378 - 103s - loss: 0.0931 - accuracy: 0.9046 - val_loss: 0.3521 - val_accuracy: 0.7326 - lr: 0.0010 - 103s/epoch - 24ms/step
Epoch 57/100
4378/4378 - 103s - loss: 0.0941 - accuracy: 0.9030 - val_loss: 0.3104 - val_accuracy: 0.7575 - lr: 0.0010 - 103s/epoch - 24ms/step
Epoch 58/100
4378/4378 - 103s - loss: 0.0918 - accuracy: 0.9057 - val_loss: 0.3038 - val_accuracy: 0.7704 - lr: 0.0010 - 103s/epoch - 23ms/step
Epoch 59/100
4378/4378 - 103s - loss: 0.0933 - accuracy: 0.9053 - val_loss: 0.3069 - val_accuracy: 0.7652 - lr: 0.0010 - 103s/epoch - 23ms/step
Epoch 60/100
4378/4378 - 103s - loss: 0.0921 - accuracy: 0.9050 - val_loss: 0.3058 - val_accuracy: 0.7627 - lr: 0.0010 - 103s/epoch - 24ms/step
Epoch 61/100
4378/4378 - 103s - loss: 0.0914 - accuracy: 0.9067 - val_loss: 0.3364 - val_accuracy: 0.7433 - lr: 0.0010 - 103s/epoch - 24ms/step
Epoch 62/100
4378/4378 - 102s - loss: 0.0931 - accuracy: 0.9054 - val_loss: 0.3114 - val_accuracy: 0.7617 - lr: 0.0010 - 102s/epoch - 23ms/step
Epoch 63/100
4378/4378 - 99s - loss: 0.0918 - accuracy: 0.9061 - val_loss: 0.2771 - val_accuracy: 0.7802 - lr: 0.0010 - 99s/epoch - 23ms/step
Epoch 64/100
4378/4378 - 98s - loss: 0.0919 - accuracy: 0.9058 - val_loss: 0.3399 - val_accuracy: 0.7443 - lr: 0.0010 - 98s/epoch - 22ms/step
Epoch 65/100
4378/4378 - 100s - loss: 0.0922 - accuracy: 0.9060 - val_loss: 0.3292 - val_accuracy: 0.7532 - lr: 0.0010 - 100s/epoch - 23ms/step
Epoch 66/100
4378/4378 - 100s - loss: 0.0933 - accuracy: 0.9037 - val_loss: 0.2973 - val_accuracy: 0.7690 - lr: 0.0010 - 100s/epoch - 23ms/step
Epoch 67/100
4378/4378 - 100s - loss: 0.0928 - accuracy: 0.9049 - val_loss: 0.3027 - val_accuracy: 0.7631 - lr: 0.0010 - 100s/epoch - 23ms/step
Epoch 68/100
4378/4378 - 100s - loss: 0.0922 - accuracy: 0.9052 - val_loss: 0.3218 - val_accuracy: 0.7461 - lr: 0.0010 - 100s/epoch - 23ms/step
Epoch 69/100
4378/4378 - 99s - loss: 0.0924 - accuracy: 0.9050 - val_loss: 0.3076 - val_accuracy: 0.7644 - lr: 0.0010 - 99s/epoch - 23ms/step
Epoch 70/100
4378/4378 - 100s - loss: 0.0936 - accuracy: 0.9046 - val_loss: 0.3118 - val_accuracy: 0.7552 - lr: 0.0010 - 100s/epoch - 23ms/step
Epoch 71/100
4378/4378 - 99s - loss: 0.0945 - accuracy: 0.9028 - val_loss: 0.3112 - val_accuracy: 0.7532 - lr: 0.0010 - 99s/epoch - 23ms/step
Epoch 72/100
4378/4378 - 100s - loss: 0.0939 - accuracy: 0.9049 - val_loss: 0.3000 - val_accuracy: 0.7641 - lr: 0.0010 - 100s/epoch - 23ms/step
Epoch 73/100
4378/4378 - 100s - loss: 0.0928 - accuracy: 0.9051 - val_loss: 0.2661 - val_accuracy: 0.7895 - lr: 0.0010 - 100s/epoch - 23ms/step
Epoch 74/100
4378/4378 - 100s - loss: 0.0932 - accuracy: 0.9044 - val_loss: 0.3292 - val_accuracy: 0.7523 - lr: 0.0010 - 100s/epoch - 23ms/step
Epoch 75/100
4378/4378 - 100s - loss: 0.0939 - accuracy: 0.9045 - val_loss: 0.2907 - val_accuracy: 0.7659 - lr: 0.0010 - 100s/epoch - 23ms/step
Epoch 76/100
4378/4378 - 99s - loss: 0.0944 - accuracy: 0.9037 - val_loss: 0.3560 - val_accuracy: 0.7390 - lr: 0.0010 - 99s/epoch - 23ms/step
Epoch 77/100
4378/4378 - 99s - loss: 0.0919 - accuracy: 0.9059 - val_loss: 0.3127 - val_accuracy: 0.7561 - lr: 0.0010 - 99s/epoch - 23ms/step
Epoch 78/100
4378/4378 - 99s - loss: 0.0918 - accuracy: 0.9059 - val_loss: 0.2911 - val_accuracy: 0.7645 - lr: 0.0010 - 99s/epoch - 23ms/step
Epoch 79/100
4378/4378 - 100s - loss: 0.0927 - accuracy: 0.9046 - val_loss: 0.3073 - val_accuracy: 0.7609 - lr: 0.0010 - 100s/epoch - 23ms/step
Epoch 80/100
4378/4378 - 100s - loss: 0.0944 - accuracy: 0.9032 - val_loss: 0.2724 - val_accuracy: 0.7768 - lr: 0.0010 - 100s/epoch - 23ms/step
Epoch 81/100
4378/4378 - 100s - loss: 0.0921 - accuracy: 0.9056 - val_loss: 0.2964 - val_accuracy: 0.7708 - lr: 0.0010 - 100s/epoch - 23ms/step
Epoch 82/100
4378/4378 - 99s - loss: 0.0920 - accuracy: 0.9062 - val_loss: 0.3129 - val_accuracy: 0.7437 - lr: 0.0010 - 99s/epoch - 23ms/step
Epoch 83/100
4378/4378 - 99s - loss: 0.0937 - accuracy: 0.9042 - val_loss: 0.3316 - val_accuracy: 0.7543 - lr: 0.0010 - 99s/epoch - 23ms/step
Epoch 84/100
4378/4378 - 99s - loss: 0.0917 - accuracy: 0.9060 - val_loss: 0.3042 - val_accuracy: 0.7616 - lr: 0.0010 - 99s/epoch - 23ms/step
Epoch 85/100
4378/4378 - 100s - loss: 0.0919 - accuracy: 0.9063 - val_loss: 0.2884 - val_accuracy: 0.7759 - lr: 0.0010 - 100s/epoch - 23ms/step
Epoch 86/100
4378/4378 - 99s - loss: 0.0931 - accuracy: 0.9045 - val_loss: 0.2886 - val_accuracy: 0.7684 - lr: 0.0010 - 99s/epoch - 23ms/step
Epoch 87/100
4378/4378 - 100s - loss: 0.0901 - accuracy: 0.9086 - val_loss: 0.3182 - val_accuracy: 0.7601 - lr: 0.0010 - 100s/epoch - 23ms/step
Epoch 88/100
4378/4378 - 99s - loss: 0.0902 - accuracy: 0.9082 - val_loss: 0.3329 - val_accuracy: 0.7580 - lr: 0.0010 - 99s/epoch - 23ms/step
Epoch 89/100
4378/4378 - 100s - loss: 0.0905 - accuracy: 0.9075 - val_loss: 0.3264 - val_accuracy: 0.7493 - lr: 0.0010 - 100s/epoch - 23ms/step
Epoch 90/100
4378/4378 - 100s - loss: 0.0904 - accuracy: 0.9079 - val_loss: 0.3047 - val_accuracy: 0.7595 - lr: 0.0010 - 100s/epoch - 23ms/step
Epoch 91/100
4378/4378 - 100s - loss: 0.0922 - accuracy: 0.9056 - val_loss: 0.3222 - val_accuracy: 0.7569 - lr: 0.0010 - 100s/epoch - 23ms/step
Epoch 92/100
4378/4378 - 100s - loss: 0.0920 - accuracy: 0.9070 - val_loss: 0.2932 - val_accuracy: 0.7752 - lr: 0.0010 - 100s/epoch - 23ms/step
Epoch 93/100
4378/4378 - 99s - loss: 0.0897 - accuracy: 0.9084 - val_loss: 0.3047 - val_accuracy: 0.7579 - lr: 0.0010 - 99s/epoch - 23ms/step
Epoch 94/100
4378/4378 - 100s - loss: 0.0906 - accuracy: 0.9073 - val_loss: 0.3317 - val_accuracy: 0.7535 - lr: 0.0010 - 100s/epoch - 23ms/step
Epoch 95/100
4378/4378 - 100s - loss: 0.0927 - accuracy: 0.9050 - val_loss: 0.2885 - val_accuracy: 0.7714 - lr: 0.0010 - 100s/epoch - 23ms/step
Epoch 96/100
4378/4378 - 99s - loss: 0.0909 - accuracy: 0.9072 - val_loss: 0.3174 - val_accuracy: 0.7592 - lr: 0.0010 - 99s/epoch - 23ms/step
Epoch 97/100
4378/4378 - 99s - loss: 0.0909 - accuracy: 0.9071 - val_loss: 0.2955 - val_accuracy: 0.7713 - lr: 0.0010 - 99s/epoch - 23ms/step
Epoch 98/100
4378/4378 - 99s - loss: 0.0929 - accuracy: 0.9054 - val_loss: 0.3076 - val_accuracy: 0.7635 - lr: 0.0010 - 99s/epoch - 23ms/step
Epoch 99/100
4378/4378 - 99s - loss: 0.0916 - accuracy: 0.9064 - val_loss: 0.2865 - val_accuracy: 0.7720 - lr: 0.0010 - 99s/epoch - 23ms/step
Epoch 100/100
4378/4378 - 100s - loss: 0.0914 - accuracy: 0.9069 - val_loss: 0.2578 - val_accuracy: 0.7939 - lr: 0.0010 - 100s/epoch - 23ms/step
Epoch 1/100
876/876 - 35s - loss: 0.0657 - accuracy: 0.9350 - val_loss: 0.3419 - val_accuracy: 0.7571 - lr: 0.0010 - 35s/epoch - 40ms/step
Epoch 2/100
876/876 - 31s - loss: 0.0668 - accuracy: 0.9327 - val_loss: 0.3631 - val_accuracy: 0.7437 - lr: 0.0010 - 31s/epoch - 35ms/step
Epoch 3/100
876/876 - 30s - loss: 0.0679 - accuracy: 0.9312 - val_loss: 0.3809 - val_accuracy: 0.7422 - lr: 0.0010 - 30s/epoch - 35ms/step
Epoch 4/100
876/876 - 30s - loss: 0.0672 - accuracy: 0.9318 - val_loss: 0.3640 - val_accuracy: 0.7593 - lr: 0.0010 - 30s/epoch - 35ms/step
Epoch 5/100
876/876 - 30s - loss: 0.0667 - accuracy: 0.9327 - val_loss: 0.3509 - val_accuracy: 0.7604 - lr: 0.0010 - 30s/epoch - 35ms/step
Epoch 6/100
876/876 - 30s - loss: 0.0658 - accuracy: 0.9337 - val_loss: 0.3704 - val_accuracy: 0.7508 - lr: 0.0010 - 30s/epoch - 34ms/step
Epoch 7/100
876/876 - 31s - loss: 0.0654 - accuracy: 0.9347 - val_loss: 0.3625 - val_accuracy: 0.7600 - lr: 0.0010 - 31s/epoch - 35ms/step
Epoch 8/100
876/876 - 30s - loss: 0.0652 - accuracy: 0.9342 - val_loss: 0.3665 - val_accuracy: 0.7572 - lr: 0.0010 - 30s/epoch - 35ms/step
Epoch 9/100
876/876 - 30s - loss: 0.0645 - accuracy: 0.9362 - val_loss: 0.3792 - val_accuracy: 0.7533 - lr: 0.0010 - 30s/epoch - 34ms/step
Epoch 10/100
876/876 - 30s - loss: 0.0646 - accuracy: 0.9355 - val_loss: 0.3853 - val_accuracy: 0.7500 - lr: 0.0010 - 30s/epoch - 35ms/step
Epoch 11/100
876/876 - 30s - loss: 0.0640 - accuracy: 0.9363 - val_loss: 0.3757 - val_accuracy: 0.7561 - lr: 0.0010 - 30s/epoch - 35ms/step
Epoch 12/100
876/876 - 31s - loss: 0.0642 - accuracy: 0.9355 - val_loss: 0.3966 - val_accuracy: 0.7448 - lr: 0.0010 - 31s/epoch - 35ms/step
Epoch 13/100
876/876 - 30s - loss: 0.0635 - accuracy: 0.9365 - val_loss: 0.3501 - val_accuracy: 0.7711 - lr: 0.0010 - 30s/epoch - 35ms/step
Epoch 14/100
876/876 - 30s - loss: 0.0645 - accuracy: 0.9355 - val_loss: 0.3809 - val_accuracy: 0.7520 - lr: 0.0010 - 30s/epoch - 35ms/step
Epoch 15/100
876/876 - 30s - loss: 0.0629 - accuracy: 0.9371 - val_loss: 0.3914 - val_accuracy: 0.7537 - lr: 0.0010 - 30s/epoch - 35ms/step
Epoch 16/100
876/876 - 30s - loss: 0.0628 - accuracy: 0.9369 - val_loss: 0.3784 - val_accuracy: 0.7593 - lr: 0.0010 - 30s/epoch - 34ms/step
Epoch 17/100
876/876 - 31s - loss: 0.0631 - accuracy: 0.9369 - val_loss: 0.3926 - val_accuracy: 0.7487 - lr: 0.0010 - 31s/epoch - 35ms/step
Epoch 18/100
876/876 - 31s - loss: 0.0634 - accuracy: 0.9362 - val_loss: 0.3928 - val_accuracy: 0.7511 - lr: 0.0010 - 31s/epoch - 35ms/step
Epoch 19/100
876/876 - 30s - loss: 0.0625 - accuracy: 0.9379 - val_loss: 0.4164 - val_accuracy: 0.7445 - lr: 0.0010 - 30s/epoch - 34ms/step
Epoch 20/100
876/876 - 30s - loss: 0.0631 - accuracy: 0.9369 - val_loss: 0.4172 - val_accuracy: 0.7445 - lr: 0.0010 - 30s/epoch - 35ms/step
Epoch 21/100
876/876 - 30s - loss: 0.0634 - accuracy: 0.9366 - val_loss: 0.3961 - val_accuracy: 0.7475 - lr: 0.0010 - 30s/epoch - 35ms/step
Epoch 22/100
876/876 - 30s - loss: 0.0625 - accuracy: 0.9378 - val_loss: 0.3788 - val_accuracy: 0.7644 - lr: 0.0010 - 30s/epoch - 34ms/step
Epoch 23/100
876/876 - 31s - loss: 0.0621 - accuracy: 0.9383 - val_loss: 0.4260 - val_accuracy: 0.7421 - lr: 0.0010 - 31s/epoch - 35ms/step
Epoch 24/100
876/876 - 31s - loss: 0.0621 - accuracy: 0.9385 - val_loss: 0.4242 - val_accuracy: 0.7502 - lr: 0.0010 - 31s/epoch - 35ms/step
Epoch 25/100
876/876 - 31s - loss: 0.0616 - accuracy: 0.9377 - val_loss: 0.4250 - val_accuracy: 0.7346 - lr: 0.0010 - 31s/epoch - 35ms/step
Epoch 26/100
876/876 - 30s - loss: 0.0617 - accuracy: 0.9388 - val_loss: 0.3938 - val_accuracy: 0.7572 - lr: 0.0010 - 30s/epoch - 34ms/step
Epoch 27/100
876/876 - 31s - loss: 0.0614 - accuracy: 0.9389 - val_loss: 0.4169 - val_accuracy: 0.7467 - lr: 0.0010 - 31s/epoch - 35ms/step
Epoch 28/100
876/876 - 30s - loss: 0.0616 - accuracy: 0.9391 - val_loss: 0.3972 - val_accuracy: 0.7534 - lr: 0.0010 - 30s/epoch - 35ms/step
Epoch 29/100
876/876 - 30s - loss: 0.0608 - accuracy: 0.9392 - val_loss: 0.4327 - val_accuracy: 0.7373 - lr: 0.0010 - 30s/epoch - 34ms/step
Epoch 30/100
876/876 - 30s - loss: 0.0595 - accuracy: 0.9413 - val_loss: 0.4008 - val_accuracy: 0.7530 - lr: 0.0010 - 30s/epoch - 35ms/step
Epoch 31/100
876/876 - 30s - loss: 0.0612 - accuracy: 0.9396 - val_loss: 0.4184 - val_accuracy: 0.7485 - lr: 0.0010 - 30s/epoch - 35ms/step
Epoch 32/100
876/876 - 30s - loss: 0.0604 - accuracy: 0.9400 - val_loss: 0.3938 - val_accuracy: 0.7543 - lr: 0.0010 - 30s/epoch - 35ms/step
Epoch 33/100
876/876 - 31s - loss: 0.0612 - accuracy: 0.9402 - val_loss: 0.4484 - val_accuracy: 0.7321 - lr: 0.0010 - 31s/epoch - 35ms/step
Epoch 34/100
876/876 - 30s - loss: 0.0609 - accuracy: 0.9393 - val_loss: 0.3980 - val_accuracy: 0.7583 - lr: 0.0010 - 30s/epoch - 35ms/step
Epoch 35/100
876/876 - 31s - loss: 0.0611 - accuracy: 0.9388 - val_loss: 0.3988 - val_accuracy: 0.7519 - lr: 0.0010 - 31s/epoch - 35ms/step
Epoch 36/100
876/876 - 31s - loss: 0.0618 - accuracy: 0.9386 - val_loss: 0.3822 - val_accuracy: 0.7590 - lr: 0.0010 - 31s/epoch - 35ms/step
Epoch 37/100
876/876 - 31s - loss: 0.0602 - accuracy: 0.9402 - val_loss: 0.3790 - val_accuracy: 0.7623 - lr: 0.0010 - 31s/epoch - 35ms/step
Epoch 38/100
876/876 - 31s - loss: 0.0606 - accuracy: 0.9396 - val_loss: 0.4204 - val_accuracy: 0.7501 - lr: 0.0010 - 31s/epoch - 36ms/step
Epoch 39/100
876/876 - 30s - loss: 0.0593 - accuracy: 0.9414 - val_loss: 0.4302 - val_accuracy: 0.7426 - lr: 0.0010 - 30s/epoch - 34ms/step
Epoch 40/100
876/876 - 30s - loss: 0.0604 - accuracy: 0.9401 - val_loss: 0.3991 - val_accuracy: 0.7534 - lr: 0.0010 - 30s/epoch - 35ms/step
Epoch 41/100
876/876 - 30s - loss: 0.0615 - accuracy: 0.9392 - val_loss: 0.3978 - val_accuracy: 0.7553 - lr: 0.0010 - 30s/epoch - 35ms/step
Epoch 42/100
876/876 - 31s - loss: 0.0599 - accuracy: 0.9407 - val_loss: 0.4001 - val_accuracy: 0.7566 - lr: 0.0010 - 31s/epoch - 35ms/step
Epoch 43/100
876/876 - 32s - loss: 0.0596 - accuracy: 0.9406 - val_loss: 0.4153 - val_accuracy: 0.7429 - lr: 0.0010 - 32s/epoch - 37ms/step
Epoch 44/100
876/876 - 36s - loss: 0.0610 - accuracy: 0.9393 - val_loss: 0.4334 - val_accuracy: 0.7367 - lr: 0.0010 - 36s/epoch - 41ms/step
Epoch 45/100
876/876 - 42s - loss: 0.0607 - accuracy: 0.9407 - val_loss: 0.3875 - val_accuracy: 0.7577 - lr: 0.0010 - 42s/epoch - 48ms/step
Epoch 46/100
876/876 - 50s - loss: 0.0603 - accuracy: 0.9402 - val_loss: 0.4170 - val_accuracy: 0.7483 - lr: 0.0010 - 50s/epoch - 57ms/step
Epoch 47/100
876/876 - 37s - loss: 0.0607 - accuracy: 0.9401 - val_loss: 0.3909 - val_accuracy: 0.7537 - lr: 0.0010 - 37s/epoch - 42ms/step
Epoch 48/100
876/876 - 49s - loss: 0.0596 - accuracy: 0.9409 - val_loss: 0.4244 - val_accuracy: 0.7396 - lr: 0.0010 - 49s/epoch - 55ms/step
Epoch 49/100
876/876 - 40s - loss: 0.0607 - accuracy: 0.9405 - val_loss: 0.3825 - val_accuracy: 0.7648 - lr: 0.0010 - 40s/epoch - 46ms/step
Epoch 50/100
876/876 - 33s - loss: 0.0600 - accuracy: 0.9406 - val_loss: 0.4078 - val_accuracy: 0.7536 - lr: 0.0010 - 33s/epoch - 38ms/step
Epoch 51/100
876/876 - 36s - loss: 0.0610 - accuracy: 0.9393 - val_loss: 0.4534 - val_accuracy: 0.7310 - lr: 0.0010 - 36s/epoch - 41ms/step
Epoch 52/100
876/876 - 44s - loss: 0.0606 - accuracy: 0.9404 - val_loss: 0.4303 - val_accuracy: 0.7422 - lr: 0.0010 - 44s/epoch - 51ms/step
Epoch 53/100
876/876 - 43s - loss: 0.0598 - accuracy: 0.9412 - val_loss: 0.4292 - val_accuracy: 0.7420 - lr: 0.0010 - 43s/epoch - 49ms/step
Epoch 54/100
876/876 - 32s - loss: 0.0609 - accuracy: 0.9396 - val_loss: 0.4138 - val_accuracy: 0.7530 - lr: 0.0010 - 32s/epoch - 36ms/step
Epoch 55/100
876/876 - 44s - loss: 0.0589 - accuracy: 0.9413 - val_loss: 0.4146 - val_accuracy: 0.7518 - lr: 0.0010 - 44s/epoch - 50ms/step
Epoch 56/100
876/876 - 53s - loss: 0.0599 - accuracy: 0.9404 - val_loss: 0.3937 - val_accuracy: 0.7612 - lr: 0.0010 - 53s/epoch - 60ms/step
Epoch 57/100
876/876 - 40s - loss: 0.0592 - accuracy: 0.9415 - val_loss: 0.4362 - val_accuracy: 0.7424 - lr: 0.0010 - 40s/epoch - 45ms/step
Epoch 58/100
876/876 - 49s - loss: 0.0595 - accuracy: 0.9416 - val_loss: 0.3876 - val_accuracy: 0.7575 - lr: 0.0010 - 49s/epoch - 55ms/step
Epoch 59/100
876/876 - 49s - loss: 0.0590 - accuracy: 0.9416 - val_loss: 0.4304 - val_accuracy: 0.7411 - lr: 0.0010 - 49s/epoch - 56ms/step
Epoch 60/100
876/876 - 62s - loss: 0.0589 - accuracy: 0.9417 - val_loss: 0.4384 - val_accuracy: 0.7410 - lr: 0.0010 - 62s/epoch - 70ms/step
Epoch 61/100
876/876 - 49s - loss: 0.0594 - accuracy: 0.9419 - val_loss: 0.4146 - val_accuracy: 0.7604 - lr: 0.0010 - 49s/epoch - 56ms/step
Epoch 62/100
876/876 - 46s - loss: 0.0586 - accuracy: 0.9426 - val_loss: 0.4378 - val_accuracy: 0.7434 - lr: 0.0010 - 46s/epoch - 53ms/step
Epoch 63/100
876/876 - 63s - loss: 0.0587 - accuracy: 0.9427 - val_loss: 0.4553 - val_accuracy: 0.7341 - lr: 0.0010 - 63s/epoch - 72ms/step
Epoch 64/100
876/876 - 68s - loss: 0.0584 - accuracy: 0.9427 - val_loss: 0.4310 - val_accuracy: 0.7438 - lr: 0.0010 - 68s/epoch - 77ms/step
Epoch 65/100
876/876 - 49s - loss: 0.0585 - accuracy: 0.9422 - val_loss: 0.4146 - val_accuracy: 0.7505 - lr: 0.0010 - 49s/epoch - 56ms/step
Epoch 66/100
876/876 - 64s - loss: 0.0583 - accuracy: 0.9427 - val_loss: 0.4568 - val_accuracy: 0.7380 - lr: 0.0010 - 64s/epoch - 73ms/step
Epoch 67/100
876/876 - 33s - loss: 0.0601 - accuracy: 0.9403 - val_loss: 0.4298 - val_accuracy: 0.7466 - lr: 0.0010 - 33s/epoch - 37ms/step
Epoch 68/100
876/876 - 34s - loss: 0.0580 - accuracy: 0.9438 - val_loss: 0.4903 - val_accuracy: 0.7276 - lr: 0.0010 - 34s/epoch - 39ms/step
Epoch 69/100
876/876 - 32s - loss: 0.0586 - accuracy: 0.9424 - val_loss: 0.4111 - val_accuracy: 0.7521 - lr: 0.0010 - 32s/epoch - 37ms/step
Epoch 70/100
876/876 - 34s - loss: 0.0579 - accuracy: 0.9429 - val_loss: 0.4728 - val_accuracy: 0.7258 - lr: 0.0010 - 34s/epoch - 39ms/step
Epoch 71/100
876/876 - 37s - loss: 0.0589 - accuracy: 0.9424 - val_loss: 0.4194 - val_accuracy: 0.7524 - lr: 0.0010 - 37s/epoch - 42ms/step
Epoch 72/100
876/876 - 33s - loss: 0.0590 - accuracy: 0.9414 - val_loss: 0.4262 - val_accuracy: 0.7521 - lr: 0.0010 - 33s/epoch - 38ms/step
Epoch 73/100
876/876 - 33s - loss: 0.0572 - accuracy: 0.9440 - val_loss: 0.4071 - val_accuracy: 0.7539 - lr: 0.0010 - 33s/epoch - 38ms/step
Epoch 74/100
876/876 - 33s - loss: 0.0585 - accuracy: 0.9427 - val_loss: 0.4425 - val_accuracy: 0.7397 - lr: 0.0010 - 33s/epoch - 37ms/step
Epoch 75/100
876/876 - 34s - loss: 0.0583 - accuracy: 0.9419 - val_loss: 0.4130 - val_accuracy: 0.7552 - lr: 0.0010 - 34s/epoch - 38ms/step
Epoch 76/100
876/876 - 32s - loss: 0.0591 - accuracy: 0.9412 - val_loss: 0.4415 - val_accuracy: 0.7385 - lr: 0.0010 - 32s/epoch - 37ms/step
Epoch 77/100
876/876 - 37s - loss: 0.0596 - accuracy: 0.9409 - val_loss: 0.4099 - val_accuracy: 0.7503 - lr: 0.0010 - 37s/epoch - 42ms/step
Epoch 78/100
876/876 - 38s - loss: 0.0566 - accuracy: 0.9446 - val_loss: 0.4251 - val_accuracy: 0.7500 - lr: 0.0010 - 38s/epoch - 43ms/step
Epoch 79/100
876/876 - 39s - loss: 0.0571 - accuracy: 0.9433 - val_loss: 0.4334 - val_accuracy: 0.7435 - lr: 0.0010 - 39s/epoch - 45ms/step
Epoch 80/100
876/876 - 48s - loss: 0.0575 - accuracy: 0.9428 - val_loss: 0.4369 - val_accuracy: 0.7430 - lr: 0.0010 - 48s/epoch - 55ms/step
Epoch 81/100
876/876 - 29s - loss: 0.0576 - accuracy: 0.9438 - val_loss: 0.4313 - val_accuracy: 0.7489 - lr: 0.0010 - 29s/epoch - 33ms/step
Epoch 82/100
876/876 - 31s - loss: 0.0574 - accuracy: 0.9433 - val_loss: 0.4558 - val_accuracy: 0.7445 - lr: 0.0010 - 31s/epoch - 36ms/step
Epoch 83/100
876/876 - 29s - loss: 0.0582 - accuracy: 0.9423 - val_loss: 0.3956 - val_accuracy: 0.7654 - lr: 0.0010 - 29s/epoch - 33ms/step
Epoch 84/100
876/876 - 30s - loss: 0.0578 - accuracy: 0.9432 - val_loss: 0.4221 - val_accuracy: 0.7477 - lr: 0.0010 - 30s/epoch - 34ms/step
Epoch 85/100
876/876 - 28s - loss: 0.0576 - accuracy: 0.9434 - val_loss: 0.3873 - val_accuracy: 0.7576 - lr: 0.0010 - 28s/epoch - 32ms/step
Epoch 86/100
876/876 - 29s - loss: 0.0586 - accuracy: 0.9427 - val_loss: 0.4076 - val_accuracy: 0.7447 - lr: 0.0010 - 29s/epoch - 33ms/step
Epoch 87/100
876/876 - 29s - loss: 0.0590 - accuracy: 0.9424 - val_loss: 0.4413 - val_accuracy: 0.7393 - lr: 0.0010 - 29s/epoch - 33ms/step
Epoch 88/100
876/876 - 28s - loss: 0.0582 - accuracy: 0.9426 - val_loss: 0.4094 - val_accuracy: 0.7478 - lr: 0.0010 - 28s/epoch - 32ms/step
Epoch 89/100
876/876 - 26s - loss: 0.0577 - accuracy: 0.9429 - val_loss: 0.4164 - val_accuracy: 0.7514 - lr: 0.0010 - 26s/epoch - 30ms/step
Epoch 90/100
876/876 - 27s - loss: 0.0572 - accuracy: 0.9441 - val_loss: 0.4390 - val_accuracy: 0.7420 - lr: 0.0010 - 27s/epoch - 31ms/step
Epoch 91/100
876/876 - 37s - loss: 0.0578 - accuracy: 0.9425 - val_loss: 0.4582 - val_accuracy: 0.7337 - lr: 0.0010 - 37s/epoch - 42ms/step
Epoch 92/100
876/876 - 44s - loss: 0.0581 - accuracy: 0.9424 - val_loss: 0.3947 - val_accuracy: 0.7604 - lr: 0.0010 - 44s/epoch - 51ms/step
Epoch 93/100
876/876 - 40s - loss: 0.0582 - accuracy: 0.9429 - val_loss: 0.4179 - val_accuracy: 0.7526 - lr: 0.0010 - 40s/epoch - 46ms/step
Epoch 94/100
876/876 - 36s - loss: 0.0578 - accuracy: 0.9429 - val_loss: 0.4165 - val_accuracy: 0.7480 - lr: 0.0010 - 36s/epoch - 42ms/step
Epoch 95/100
876/876 - 47s - loss: 0.0575 - accuracy: 0.9429 - val_loss: 0.4286 - val_accuracy: 0.7455 - lr: 0.0010 - 47s/epoch - 54ms/step
Epoch 96/100
876/876 - 35s - loss: 0.0563 - accuracy: 0.9439 - val_loss: 0.4646 - val_accuracy: 0.7416 - lr: 0.0010 - 35s/epoch - 40ms/step
Epoch 97/100
876/876 - 54s - loss: 0.0588 - accuracy: 0.9417 - val_loss: 0.4339 - val_accuracy: 0.7450 - lr: 0.0010 - 54s/epoch - 61ms/step
Epoch 98/100
876/876 - 45s - loss: 0.0578 - accuracy: 0.9432 - val_loss: 0.4198 - val_accuracy: 0.7491 - lr: 0.0010 - 45s/epoch - 52ms/step
Epoch 99/100
876/876 - 41s - loss: 0.0570 - accuracy: 0.9440 - val_loss: 0.4551 - val_accuracy: 0.7376 - lr: 0.0010 - 41s/epoch - 47ms/step
Epoch 100/100
876/876 - 53s - loss: 0.0579 - accuracy: 0.9434 - val_loss: 0.3896 - val_accuracy: 0.7663 - lr: 0.0010 - 53s/epoch - 60ms/step
Epoch 1/100
176/176 - 30s - loss: 0.0446 - accuracy: 0.9568 - val_loss: 0.4425 - val_accuracy: 0.7486 - lr: 0.0010 - 30s/epoch - 170ms/step
Epoch 2/100
176/176 - 35s - loss: 0.0408 - accuracy: 0.9605 - val_loss: 0.4662 - val_accuracy: 0.7455 - lr: 0.0010 - 35s/epoch - 199ms/step
Epoch 3/100
176/176 - 23s - loss: 0.0389 - accuracy: 0.9623 - val_loss: 0.4860 - val_accuracy: 0.7429 - lr: 0.0010 - 23s/epoch - 133ms/step
Epoch 4/100
176/176 - 22s - loss: 0.0400 - accuracy: 0.9617 - val_loss: 0.4815 - val_accuracy: 0.7491 - lr: 0.0010 - 22s/epoch - 123ms/step
Epoch 5/100
176/176 - 37s - loss: 0.0406 - accuracy: 0.9609 - val_loss: 0.5137 - val_accuracy: 0.7385 - lr: 0.0010 - 37s/epoch - 211ms/step
Epoch 6/100
176/176 - 29s - loss: 0.0415 - accuracy: 0.9598 - val_loss: 0.5204 - val_accuracy: 0.7395 - lr: 0.0010 - 29s/epoch - 165ms/step
Epoch 7/100
176/176 - 57s - loss: 0.0432 - accuracy: 0.9584 - val_loss: 0.5061 - val_accuracy: 0.7380 - lr: 0.0010 - 57s/epoch - 325ms/step
Epoch 8/100
176/176 - 20s - loss: 0.0421 - accuracy: 0.9586 - val_loss: 0.4984 - val_accuracy: 0.7436 - lr: 0.0010 - 20s/epoch - 114ms/step
Epoch 9/100
176/176 - 38s - loss: 0.0421 - accuracy: 0.9599 - val_loss: 0.5279 - val_accuracy: 0.7417 - lr: 0.0010 - 38s/epoch - 216ms/step
Epoch 10/100
176/176 - 45s - loss: 0.0414 - accuracy: 0.9605 - val_loss: 0.5220 - val_accuracy: 0.7344 - lr: 0.0010 - 45s/epoch - 256ms/step
Epoch 11/100
176/176 - 28s - loss: 0.0406 - accuracy: 0.9613 - val_loss: 0.5383 - val_accuracy: 0.7362 - lr: 0.0010 - 28s/epoch - 161ms/step
Epoch 12/100
176/176 - 52s - loss: 0.0408 - accuracy: 0.9606 - val_loss: 0.5277 - val_accuracy: 0.7365 - lr: 0.0010 - 52s/epoch - 294ms/step
Epoch 13/100
176/176 - 23s - loss: 0.0402 - accuracy: 0.9615 - val_loss: 0.5354 - val_accuracy: 0.7374 - lr: 0.0010 - 23s/epoch - 130ms/step
Epoch 14/100
176/176 - 28s - loss: 0.0418 - accuracy: 0.9596 - val_loss: 0.5156 - val_accuracy: 0.7393 - lr: 0.0010 - 28s/epoch - 156ms/step
Epoch 15/100
176/176 - 54s - loss: 0.0414 - accuracy: 0.9595 - val_loss: 0.5233 - val_accuracy: 0.7422 - lr: 0.0010 - 54s/epoch - 308ms/step
Epoch 16/100
176/176 - 62s - loss: 0.0421 - accuracy: 0.9594 - val_loss: 0.4988 - val_accuracy: 0.7465 - lr: 0.0010 - 62s/epoch - 352ms/step
Epoch 17/100
176/176 - 20s - loss: 0.0427 - accuracy: 0.9589 - val_loss: 0.5478 - val_accuracy: 0.7336 - lr: 0.0010 - 20s/epoch - 113ms/step
Epoch 18/100
176/176 - 27s - loss: 0.0428 - accuracy: 0.9584 - val_loss: 0.5473 - val_accuracy: 0.7343 - lr: 0.0010 - 27s/epoch - 156ms/step
Epoch 19/100
176/176 - 55s - loss: 0.0421 - accuracy: 0.9596 - val_loss: 0.5343 - val_accuracy: 0.7415 - lr: 0.0010 - 55s/epoch - 314ms/step
Epoch 20/100
176/176 - 50s - loss: 0.0425 - accuracy: 0.9597 - val_loss: 0.5517 - val_accuracy: 0.7383 - lr: 0.0010 - 50s/epoch - 282ms/step
Epoch 21/100
176/176 - 68s - loss: 0.0424 - accuracy: 0.9592 - val_loss: 0.5075 - val_accuracy: 0.7455 - lr: 0.0010 - 68s/epoch - 388ms/step
Epoch 22/100
176/176 - 56s - loss: 0.0422 - accuracy: 0.9594 - val_loss: 0.5282 - val_accuracy: 0.7401 - lr: 0.0010 - 56s/epoch - 320ms/step
Epoch 23/100
176/176 - 30s - loss: 0.0424 - accuracy: 0.9588 - val_loss: 0.5198 - val_accuracy: 0.7433 - lr: 0.0010 - 30s/epoch - 170ms/step
Epoch 24/100
176/176 - 79s - loss: 0.0414 - accuracy: 0.9605 - val_loss: 0.5277 - val_accuracy: 0.7459 - lr: 0.0010 - 79s/epoch - 446ms/step
Epoch 25/100
176/176 - 74s - loss: 0.0416 - accuracy: 0.9598 - val_loss: 0.5110 - val_accuracy: 0.7489 - lr: 0.0010 - 74s/epoch - 423ms/step
Epoch 26/100
176/176 - 79s - loss: 0.0422 - accuracy: 0.9599 - val_loss: 0.5585 - val_accuracy: 0.7273 - lr: 0.0010 - 79s/epoch - 451ms/step
Epoch 27/100
176/176 - 72s - loss: 0.0405 - accuracy: 0.9616 - val_loss: 0.5297 - val_accuracy: 0.7431 - lr: 0.0010 - 72s/epoch - 409ms/step
Epoch 28/100
176/176 - 23s - loss: 0.0406 - accuracy: 0.9607 - val_loss: 0.5482 - val_accuracy: 0.7441 - lr: 0.0010 - 23s/epoch - 130ms/step
Epoch 29/100
176/176 - 18s - loss: 0.0399 - accuracy: 0.9621 - val_loss: 0.5342 - val_accuracy: 0.7436 - lr: 0.0010 - 18s/epoch - 104ms/step
Epoch 30/100
176/176 - 20s - loss: 0.0391 - accuracy: 0.9620 - val_loss: 0.5761 - val_accuracy: 0.7272 - lr: 0.0010 - 20s/epoch - 112ms/step
Epoch 31/100
176/176 - 23s - loss: 0.0397 - accuracy: 0.9621 - val_loss: 0.5318 - val_accuracy: 0.7415 - lr: 0.0010 - 23s/epoch - 132ms/step
Epoch 32/100
176/176 - 27s - loss: 0.0405 - accuracy: 0.9611 - val_loss: 0.5602 - val_accuracy: 0.7330 - lr: 0.0010 - 27s/epoch - 151ms/step
Epoch 33/100
176/176 - 23s - loss: 0.0403 - accuracy: 0.9610 - val_loss: 0.5349 - val_accuracy: 0.7466 - lr: 0.0010 - 23s/epoch - 128ms/step
Epoch 34/100
176/176 - 24s - loss: 0.0386 - accuracy: 0.9626 - val_loss: 0.5410 - val_accuracy: 0.7421 - lr: 0.0010 - 24s/epoch - 136ms/step
Epoch 35/100
176/176 - 28s - loss: 0.0376 - accuracy: 0.9637 - val_loss: 0.5735 - val_accuracy: 0.7360 - lr: 0.0010 - 28s/epoch - 156ms/step
Epoch 36/100
176/176 - 31s - loss: 0.0379 - accuracy: 0.9640 - val_loss: 0.5416 - val_accuracy: 0.7432 - lr: 0.0010 - 31s/epoch - 176ms/step
Epoch 37/100
176/176 - 27s - loss: 0.0380 - accuracy: 0.9634 - val_loss: 0.6037 - val_accuracy: 0.7217 - lr: 0.0010 - 27s/epoch - 155ms/step
Epoch 38/100
176/176 - 25s - loss: 0.0397 - accuracy: 0.9624 - val_loss: 0.5618 - val_accuracy: 0.7360 - lr: 0.0010 - 25s/epoch - 141ms/step
Epoch 39/100
176/176 - 35s - loss: 0.0389 - accuracy: 0.9624 - val_loss: 0.5438 - val_accuracy: 0.7389 - lr: 0.0010 - 35s/epoch - 198ms/step
Epoch 40/100
176/176 - 25s - loss: 0.0405 - accuracy: 0.9616 - val_loss: 0.5493 - val_accuracy: 0.7352 - lr: 0.0010 - 25s/epoch - 142ms/step
Epoch 41/100
176/176 - 25s - loss: 0.0392 - accuracy: 0.9620 - val_loss: 0.5773 - val_accuracy: 0.7356 - lr: 0.0010 - 25s/epoch - 140ms/step
Epoch 42/100
176/176 - 23s - loss: 0.0413 - accuracy: 0.9604 - val_loss: 0.5439 - val_accuracy: 0.7429 - lr: 0.0010 - 23s/epoch - 133ms/step
Epoch 43/100
176/176 - 39s - loss: 0.0387 - accuracy: 0.9631 - val_loss: 0.5545 - val_accuracy: 0.7333 - lr: 0.0010 - 39s/epoch - 220ms/step
Epoch 44/100
176/176 - 43s - loss: 0.0397 - accuracy: 0.9620 - val_loss: 0.5685 - val_accuracy: 0.7284 - lr: 0.0010 - 43s/epoch - 243ms/step
Epoch 45/100
176/176 - 28s - loss: 0.0396 - accuracy: 0.9616 - val_loss: 0.5548 - val_accuracy: 0.7389 - lr: 0.0010 - 28s/epoch - 160ms/step
Epoch 46/100
176/176 - 27s - loss: 0.0391 - accuracy: 0.9625 - val_loss: 0.5557 - val_accuracy: 0.7387 - lr: 0.0010 - 27s/epoch - 155ms/step
Epoch 47/100
176/176 - 40s - loss: 0.0400 - accuracy: 0.9611 - val_loss: 0.5510 - val_accuracy: 0.7392 - lr: 0.0010 - 40s/epoch - 227ms/step
Epoch 48/100
176/176 - 73s - loss: 0.0389 - accuracy: 0.9620 - val_loss: 0.5160 - val_accuracy: 0.7521 - lr: 0.0010 - 73s/epoch - 415ms/step
Epoch 49/100
176/176 - 22s - loss: 0.0414 - accuracy: 0.9604 - val_loss: 0.5459 - val_accuracy: 0.7390 - lr: 0.0010 - 22s/epoch - 126ms/step
Epoch 50/100
176/176 - 17s - loss: 0.0409 - accuracy: 0.9606 - val_loss: 0.5418 - val_accuracy: 0.7377 - lr: 0.0010 - 17s/epoch - 97ms/step
Epoch 51/100
176/176 - 19s - loss: 0.0407 - accuracy: 0.9604 - val_loss: 0.5434 - val_accuracy: 0.7437 - lr: 0.0010 - 19s/epoch - 108ms/step
Epoch 52/100
176/176 - 17s - loss: 0.0401 - accuracy: 0.9619 - val_loss: 0.5864 - val_accuracy: 0.7275 - lr: 0.0010 - 17s/epoch - 96ms/step
Epoch 53/100
176/176 - 18s - loss: 0.0412 - accuracy: 0.9603 - val_loss: 0.5733 - val_accuracy: 0.7265 - lr: 0.0010 - 18s/epoch - 102ms/step
Epoch 54/100
176/176 - 17s - loss: 0.0391 - accuracy: 0.9620 - val_loss: 0.5861 - val_accuracy: 0.7266 - lr: 0.0010 - 17s/epoch - 99ms/step
Epoch 55/100
176/176 - 18s - loss: 0.0399 - accuracy: 0.9621 - val_loss: 0.5046 - val_accuracy: 0.7557 - lr: 0.0010 - 18s/epoch - 102ms/step
Epoch 56/100
176/176 - 20s - loss: 0.0405 - accuracy: 0.9608 - val_loss: 0.5728 - val_accuracy: 0.7343 - lr: 0.0010 - 20s/epoch - 112ms/step
Epoch 57/100
176/176 - 18s - loss: 0.0390 - accuracy: 0.9624 - val_loss: 0.5521 - val_accuracy: 0.7355 - lr: 0.0010 - 18s/epoch - 105ms/step
Epoch 58/100
176/176 - 18s - loss: 0.0384 - accuracy: 0.9631 - val_loss: 0.5737 - val_accuracy: 0.7326 - lr: 0.0010 - 18s/epoch - 101ms/step
Epoch 59/100
176/176 - 15s - loss: 0.0375 - accuracy: 0.9639 - val_loss: 0.5559 - val_accuracy: 0.7370 - lr: 0.0010 - 15s/epoch - 83ms/step
Epoch 60/100
176/176 - 10s - loss: 0.0372 - accuracy: 0.9642 - val_loss: 0.5598 - val_accuracy: 0.7411 - lr: 0.0010 - 10s/epoch - 54ms/step
Epoch 61/100
176/176 - 9s - loss: 0.0380 - accuracy: 0.9635 - val_loss: 0.5838 - val_accuracy: 0.7310 - lr: 0.0010 - 9s/epoch - 53ms/step
Epoch 62/100
176/176 - 10s - loss: 0.0387 - accuracy: 0.9628 - val_loss: 0.5760 - val_accuracy: 0.7395 - lr: 0.0010 - 10s/epoch - 54ms/step
Epoch 63/100
176/176 - 10s - loss: 0.0390 - accuracy: 0.9624 - val_loss: 0.5487 - val_accuracy: 0.7415 - lr: 0.0010 - 10s/epoch - 57ms/step
Epoch 64/100
176/176 - 10s - loss: 0.0385 - accuracy: 0.9626 - val_loss: 0.5781 - val_accuracy: 0.7394 - lr: 0.0010 - 10s/epoch - 55ms/step
Epoch 65/100
176/176 - 11s - loss: 0.0392 - accuracy: 0.9617 - val_loss: 0.5604 - val_accuracy: 0.7394 - lr: 0.0010 - 11s/epoch - 64ms/step
Epoch 66/100
176/176 - 10s - loss: 0.0396 - accuracy: 0.9619 - val_loss: 0.5424 - val_accuracy: 0.7432 - lr: 0.0010 - 10s/epoch - 54ms/step
Epoch 67/100
176/176 - 10s - loss: 0.0379 - accuracy: 0.9635 - val_loss: 0.5676 - val_accuracy: 0.7424 - lr: 0.0010 - 10s/epoch - 54ms/step
Epoch 68/100
176/176 - 9s - loss: 0.0391 - accuracy: 0.9623 - val_loss: 0.6001 - val_accuracy: 0.7349 - lr: 0.0010 - 9s/epoch - 53ms/step
Epoch 69/100
176/176 - 9s - loss: 0.0399 - accuracy: 0.9621 - val_loss: 0.5510 - val_accuracy: 0.7458 - lr: 0.0010 - 9s/epoch - 54ms/step
Epoch 70/100
176/176 - 9s - loss: 0.0398 - accuracy: 0.9617 - val_loss: 0.5660 - val_accuracy: 0.7359 - lr: 0.0010 - 9s/epoch - 53ms/step
Epoch 71/100
176/176 - 9s - loss: 0.0394 - accuracy: 0.9621 - val_loss: 0.5656 - val_accuracy: 0.7378 - lr: 0.0010 - 9s/epoch - 53ms/step
Epoch 72/100
176/176 - 9s - loss: 0.0403 - accuracy: 0.9608 - val_loss: 0.5187 - val_accuracy: 0.7513 - lr: 0.0010 - 9s/epoch - 53ms/step
Epoch 73/100
176/176 - 9s - loss: 0.0411 - accuracy: 0.9606 - val_loss: 0.5502 - val_accuracy: 0.7403 - lr: 0.0010 - 9s/epoch - 52ms/step
Epoch 74/100
176/176 - 9s - loss: 0.0381 - accuracy: 0.9637 - val_loss: 0.5509 - val_accuracy: 0.7435 - lr: 0.0010 - 9s/epoch - 52ms/step
Epoch 75/100
176/176 - 9s - loss: 0.0366 - accuracy: 0.9653 - val_loss: 0.5682 - val_accuracy: 0.7400 - lr: 0.0010 - 9s/epoch - 53ms/step
Epoch 76/100
176/176 - 9s - loss: 0.0380 - accuracy: 0.9625 - val_loss: 0.5431 - val_accuracy: 0.7415 - lr: 0.0010 - 9s/epoch - 52ms/step
Epoch 77/100
176/176 - 9s - loss: 0.0369 - accuracy: 0.9638 - val_loss: 0.5872 - val_accuracy: 0.7368 - lr: 0.0010 - 9s/epoch - 54ms/step
Epoch 78/100
176/176 - 9s - loss: 0.0367 - accuracy: 0.9644 - val_loss: 0.5671 - val_accuracy: 0.7385 - lr: 0.0010 - 9s/epoch - 54ms/step
Epoch 79/100
176/176 - 9s - loss: 0.0363 - accuracy: 0.9651 - val_loss: 0.5433 - val_accuracy: 0.7483 - lr: 0.0010 - 9s/epoch - 53ms/step
Epoch 80/100
176/176 - 9s - loss: 0.0354 - accuracy: 0.9658 - val_loss: 0.6029 - val_accuracy: 0.7305 - lr: 0.0010 - 9s/epoch - 53ms/step
Epoch 81/100
176/176 - 9s - loss: 0.0369 - accuracy: 0.9646 - val_loss: 0.5999 - val_accuracy: 0.7315 - lr: 0.0010 - 9s/epoch - 53ms/step
Epoch 82/100
176/176 - 9s - loss: 0.0376 - accuracy: 0.9645 - val_loss: 0.5865 - val_accuracy: 0.7326 - lr: 0.0010 - 9s/epoch - 53ms/step
Epoch 83/100
176/176 - 9s - loss: 0.0372 - accuracy: 0.9643 - val_loss: 0.5839 - val_accuracy: 0.7353 - lr: 0.0010 - 9s/epoch - 52ms/step
Epoch 84/100
176/176 - 10s - loss: 0.0383 - accuracy: 0.9630 - val_loss: 0.5336 - val_accuracy: 0.7465 - lr: 0.0010 - 10s/epoch - 57ms/step
Epoch 85/100
176/176 - 10s - loss: 0.0383 - accuracy: 0.9629 - val_loss: 0.5866 - val_accuracy: 0.7291 - lr: 0.0010 - 10s/epoch - 59ms/step
Epoch 86/100
176/176 - 10s - loss: 0.0381 - accuracy: 0.9634 - val_loss: 0.5873 - val_accuracy: 0.7266 - lr: 0.0010 - 10s/epoch - 59ms/step
Epoch 87/100
176/176 - 10s - loss: 0.0392 - accuracy: 0.9621 - val_loss: 0.5967 - val_accuracy: 0.7360 - lr: 0.0010 - 10s/epoch - 57ms/step
Epoch 88/100
176/176 - 10s - loss: 0.0392 - accuracy: 0.9627 - val_loss: 0.5826 - val_accuracy: 0.7294 - lr: 0.0010 - 10s/epoch - 57ms/step
Epoch 89/100
176/176 - 11s - loss: 0.0398 - accuracy: 0.9615 - val_loss: 0.5847 - val_accuracy: 0.7280 - lr: 0.0010 - 11s/epoch - 60ms/step
Epoch 90/100
176/176 - 11s - loss: 0.0388 - accuracy: 0.9624 - val_loss: 0.5631 - val_accuracy: 0.7373 - lr: 0.0010 - 11s/epoch - 61ms/step
Epoch 91/100
176/176 - 10s - loss: 0.0393 - accuracy: 0.9621 - val_loss: 0.5650 - val_accuracy: 0.7413 - lr: 0.0010 - 10s/epoch - 58ms/step
Epoch 92/100
176/176 - 10s - loss: 0.0370 - accuracy: 0.9641 - val_loss: 0.5764 - val_accuracy: 0.7405 - lr: 0.0010 - 10s/epoch - 58ms/step
Epoch 93/100
176/176 - 10s - loss: 0.0360 - accuracy: 0.9655 - val_loss: 0.5948 - val_accuracy: 0.7342 - lr: 0.0010 - 10s/epoch - 56ms/step
Epoch 94/100
176/176 - 10s - loss: 0.0368 - accuracy: 0.9645 - val_loss: 0.5883 - val_accuracy: 0.7354 - lr: 0.0010 - 10s/epoch - 57ms/step
Epoch 95/100
176/176 - 10s - loss: 0.0362 - accuracy: 0.9647 - val_loss: 0.5996 - val_accuracy: 0.7319 - lr: 0.0010 - 10s/epoch - 57ms/step
Epoch 96/100
176/176 - 10s - loss: 0.0380 - accuracy: 0.9633 - val_loss: 0.6078 - val_accuracy: 0.7291 - lr: 0.0010 - 10s/epoch - 57ms/step
Epoch 97/100
176/176 - 10s - loss: 0.0379 - accuracy: 0.9630 - val_loss: 0.5790 - val_accuracy: 0.7363 - lr: 0.0010 - 10s/epoch - 57ms/step
Epoch 98/100
176/176 - 10s - loss: 0.0378 - accuracy: 0.9637 - val_loss: 0.5760 - val_accuracy: 0.7381 - lr: 0.0010 - 10s/epoch - 59ms/step
Epoch 99/100
176/176 - 10s - loss: 0.0373 - accuracy: 0.9639 - val_loss: 0.5653 - val_accuracy: 0.7389 - lr: 0.0010 - 10s/epoch - 55ms/step
Epoch 100/100
176/176 - 9s - loss: 0.0371 - accuracy: 0.9638 - val_loss: 0.6060 - val_accuracy: 0.7294 - lr: 0.0010 - 9s/epoch - 50ms/step
Epoch 1/100
36/36 - 10s - loss: 0.0354 - accuracy: 0.9665 - val_loss: 0.5867 - val_accuracy: 0.7340 - lr: 0.0010 - 10s/epoch - 280ms/step
Epoch 2/100
36/36 - 7s - loss: 0.0326 - accuracy: 0.9689 - val_loss: 0.5876 - val_accuracy: 0.7361 - lr: 0.0010 - 7s/epoch - 207ms/step
Epoch 3/100
36/36 - 8s - loss: 0.0311 - accuracy: 0.9706 - val_loss: 0.5975 - val_accuracy: 0.7343 - lr: 0.0010 - 8s/epoch - 223ms/step
Epoch 4/100
36/36 - 8s - loss: 0.0305 - accuracy: 0.9705 - val_loss: 0.6042 - val_accuracy: 0.7326 - lr: 0.0010 - 8s/epoch - 224ms/step
Epoch 5/100
36/36 - 8s - loss: 0.0302 - accuracy: 0.9713 - val_loss: 0.6011 - val_accuracy: 0.7273 - lr: 0.0010 - 8s/epoch - 213ms/step
Epoch 6/100
36/36 - 8s - loss: 0.0301 - accuracy: 0.9713 - val_loss: 0.6022 - val_accuracy: 0.7321 - lr: 0.0010 - 8s/epoch - 213ms/step
Epoch 7/100
36/36 - 8s - loss: 0.0293 - accuracy: 0.9725 - val_loss: 0.6115 - val_accuracy: 0.7283 - lr: 0.0010 - 8s/epoch - 223ms/step
Epoch 8/100
36/36 - 8s - loss: 0.0310 - accuracy: 0.9716 - val_loss: 0.6249 - val_accuracy: 0.7226 - lr: 0.0010 - 8s/epoch - 222ms/step
Epoch 9/100
36/36 - 8s - loss: 0.0302 - accuracy: 0.9719 - val_loss: 0.6139 - val_accuracy: 0.7242 - lr: 0.0010 - 8s/epoch - 213ms/step
Epoch 10/100
36/36 - 8s - loss: 0.0294 - accuracy: 0.9727 - val_loss: 0.6221 - val_accuracy: 0.7246 - lr: 0.0010 - 8s/epoch - 211ms/step
Epoch 11/100
36/36 - 8s - loss: 0.0304 - accuracy: 0.9707 - val_loss: 0.6134 - val_accuracy: 0.7278 - lr: 0.0010 - 8s/epoch - 214ms/step
Epoch 12/100
36/36 - 8s - loss: 0.0310 - accuracy: 0.9710 - val_loss: 0.6348 - val_accuracy: 0.7214 - lr: 0.0010 - 8s/epoch - 212ms/step
Epoch 13/100
36/36 - 8s - loss: 0.0290 - accuracy: 0.9722 - val_loss: 0.6211 - val_accuracy: 0.7253 - lr: 0.0010 - 8s/epoch - 211ms/step
Epoch 14/100
36/36 - 8s - loss: 0.0289 - accuracy: 0.9728 - val_loss: 0.6338 - val_accuracy: 0.7216 - lr: 0.0010 - 8s/epoch - 213ms/step
Epoch 15/100
36/36 - 8s - loss: 0.0288 - accuracy: 0.9731 - val_loss: 0.6360 - val_accuracy: 0.7233 - lr: 0.0010 - 8s/epoch - 214ms/step
Epoch 16/100
36/36 - 8s - loss: 0.0286 - accuracy: 0.9730 - val_loss: 0.6338 - val_accuracy: 0.7239 - lr: 0.0010 - 8s/epoch - 215ms/step
Epoch 17/100
36/36 - 8s - loss: 0.0281 - accuracy: 0.9736 - val_loss: 0.6480 - val_accuracy: 0.7213 - lr: 0.0010 - 8s/epoch - 213ms/step
Epoch 18/100
36/36 - 8s - loss: 0.0283 - accuracy: 0.9737 - val_loss: 0.6469 - val_accuracy: 0.7225 - lr: 0.0010 - 8s/epoch - 212ms/step
Epoch 19/100
36/36 - 8s - loss: 0.0295 - accuracy: 0.9727 - val_loss: 0.6486 - val_accuracy: 0.7238 - lr: 0.0010 - 8s/epoch - 214ms/step
Epoch 20/100
36/36 - 9s - loss: 0.0283 - accuracy: 0.9730 - val_loss: 0.6202 - val_accuracy: 0.7280 - lr: 0.0010 - 9s/epoch - 253ms/step
Epoch 21/100
36/36 - 8s - loss: 0.0288 - accuracy: 0.9729 - val_loss: 0.6483 - val_accuracy: 0.7168 - lr: 0.0010 - 8s/epoch - 223ms/step
Epoch 22/100
36/36 - 8s - loss: 0.0276 - accuracy: 0.9739 - val_loss: 0.6486 - val_accuracy: 0.7221 - lr: 0.0010 - 8s/epoch - 220ms/step
Epoch 23/100
36/36 - 8s - loss: 0.0287 - accuracy: 0.9723 - val_loss: 0.6604 - val_accuracy: 0.7168 - lr: 0.0010 - 8s/epoch - 212ms/step
Epoch 24/100
36/36 - 8s - loss: 0.0296 - accuracy: 0.9722 - val_loss: 0.6401 - val_accuracy: 0.7185 - lr: 0.0010 - 8s/epoch - 211ms/step
Epoch 25/100
36/36 - 9s - loss: 0.0289 - accuracy: 0.9727 - val_loss: 0.6430 - val_accuracy: 0.7246 - lr: 0.0010 - 9s/epoch - 241ms/step
Epoch 26/100
36/36 - 9s - loss: 0.0304 - accuracy: 0.9715 - val_loss: 0.6352 - val_accuracy: 0.7290 - lr: 0.0010 - 9s/epoch - 245ms/step
Epoch 27/100
36/36 - 9s - loss: 0.0304 - accuracy: 0.9715 - val_loss: 0.6515 - val_accuracy: 0.7235 - lr: 0.0010 - 9s/epoch - 241ms/step
Epoch 28/100
36/36 - 8s - loss: 0.0285 - accuracy: 0.9735 - val_loss: 0.6430 - val_accuracy: 0.7230 - lr: 0.0010 - 8s/epoch - 210ms/step
Epoch 29/100
36/36 - 7s - loss: 0.0276 - accuracy: 0.9742 - val_loss: 0.6510 - val_accuracy: 0.7226 - lr: 0.0010 - 7s/epoch - 208ms/step
Epoch 30/100
36/36 - 8s - loss: 0.0279 - accuracy: 0.9738 - val_loss: 0.6546 - val_accuracy: 0.7193 - lr: 0.0010 - 8s/epoch - 232ms/step
Epoch 31/100
36/36 - 8s - loss: 0.0286 - accuracy: 0.9735 - val_loss: 0.6566 - val_accuracy: 0.7216 - lr: 0.0010 - 8s/epoch - 213ms/step
Epoch 32/100
36/36 - 8s - loss: 0.0279 - accuracy: 0.9740 - val_loss: 0.6669 - val_accuracy: 0.7185 - lr: 0.0010 - 8s/epoch - 222ms/step
Epoch 33/100
36/36 - 7s - loss: 0.0278 - accuracy: 0.9740 - val_loss: 0.6744 - val_accuracy: 0.7158 - lr: 0.0010 - 7s/epoch - 208ms/step
Epoch 34/100
36/36 - 8s - loss: 0.0281 - accuracy: 0.9739 - val_loss: 0.6777 - val_accuracy: 0.7151 - lr: 0.0010 - 8s/epoch - 216ms/step
Epoch 35/100
36/36 - 8s - loss: 0.0281 - accuracy: 0.9744 - val_loss: 0.6619 - val_accuracy: 0.7202 - lr: 0.0010 - 8s/epoch - 214ms/step
Epoch 36/100
36/36 - 8s - loss: 0.0279 - accuracy: 0.9736 - val_loss: 0.6694 - val_accuracy: 0.7204 - lr: 0.0010 - 8s/epoch - 214ms/step
Epoch 37/100
36/36 - 7s - loss: 0.0277 - accuracy: 0.9743 - val_loss: 0.6837 - val_accuracy: 0.7133 - lr: 0.0010 - 7s/epoch - 208ms/step
Epoch 38/100
36/36 - 8s - loss: 0.0286 - accuracy: 0.9735 - val_loss: 0.6819 - val_accuracy: 0.7162 - lr: 0.0010 - 8s/epoch - 209ms/step
Epoch 39/100
36/36 - 7s - loss: 0.0278 - accuracy: 0.9740 - val_loss: 0.6741 - val_accuracy: 0.7149 - lr: 0.0010 - 7s/epoch - 208ms/step
Epoch 40/100
36/36 - 8s - loss: 0.0292 - accuracy: 0.9729 - val_loss: 0.6799 - val_accuracy: 0.7197 - lr: 0.0010 - 8s/epoch - 229ms/step
Epoch 41/100
36/36 - 7s - loss: 0.0273 - accuracy: 0.9750 - val_loss: 0.6732 - val_accuracy: 0.7212 - lr: 0.0010 - 7s/epoch - 208ms/step
Epoch 42/100
36/36 - 8s - loss: 0.0270 - accuracy: 0.9747 - val_loss: 0.6707 - val_accuracy: 0.7207 - lr: 0.0010 - 8s/epoch - 210ms/step
Epoch 43/100
36/36 - 8s - loss: 0.0281 - accuracy: 0.9736 - val_loss: 0.6822 - val_accuracy: 0.7166 - lr: 0.0010 - 8s/epoch - 228ms/step
Epoch 44/100
36/36 - 8s - loss: 0.0287 - accuracy: 0.9734 - val_loss: 0.6652 - val_accuracy: 0.7207 - lr: 0.0010 - 8s/epoch - 221ms/step
Epoch 45/100
36/36 - 8s - loss: 0.0286 - accuracy: 0.9735 - val_loss: 0.6744 - val_accuracy: 0.7226 - lr: 0.0010 - 8s/epoch - 214ms/step
Epoch 46/100
36/36 - 8s - loss: 0.0291 - accuracy: 0.9728 - val_loss: 0.6806 - val_accuracy: 0.7159 - lr: 0.0010 - 8s/epoch - 211ms/step
Epoch 47/100
36/36 - 7s - loss: 0.0275 - accuracy: 0.9745 - val_loss: 0.6782 - val_accuracy: 0.7180 - lr: 0.0010 - 7s/epoch - 207ms/step
Epoch 48/100
36/36 - 7s - loss: 0.0286 - accuracy: 0.9738 - val_loss: 0.6715 - val_accuracy: 0.7205 - lr: 0.0010 - 7s/epoch - 207ms/step
Epoch 49/100
36/36 - 8s - loss: 0.0279 - accuracy: 0.9744 - val_loss: 0.6711 - val_accuracy: 0.7190 - lr: 0.0010 - 8s/epoch - 209ms/step
Epoch 50/100
36/36 - 8s - loss: 0.0274 - accuracy: 0.9746 - val_loss: 0.6888 - val_accuracy: 0.7175 - lr: 0.0010 - 8s/epoch - 226ms/step
Epoch 51/100
36/36 - 8s - loss: 0.0277 - accuracy: 0.9742 - val_loss: 0.6829 - val_accuracy: 0.7182 - lr: 0.0010 - 8s/epoch - 212ms/step
Epoch 52/100
36/36 - 8s - loss: 0.0276 - accuracy: 0.9746 - val_loss: 0.6836 - val_accuracy: 0.7172 - lr: 0.0010 - 8s/epoch - 213ms/step
Epoch 53/100
36/36 - 8s - loss: 0.0285 - accuracy: 0.9732 - val_loss: 0.6881 - val_accuracy: 0.7162 - lr: 0.0010 - 8s/epoch - 208ms/step
Epoch 54/100
36/36 - 8s - loss: 0.0278 - accuracy: 0.9744 - val_loss: 0.6994 - val_accuracy: 0.7121 - lr: 0.0010 - 8s/epoch - 214ms/step
Epoch 55/100
36/36 - 8s - loss: 0.0279 - accuracy: 0.9739 - val_loss: 0.6831 - val_accuracy: 0.7189 - lr: 0.0010 - 8s/epoch - 213ms/step
Epoch 56/100
36/36 - 8s - loss: 0.0273 - accuracy: 0.9744 - val_loss: 0.6780 - val_accuracy: 0.7161 - lr: 0.0010 - 8s/epoch - 212ms/step
Epoch 57/100
36/36 - 8s - loss: 0.0276 - accuracy: 0.9741 - val_loss: 0.6701 - val_accuracy: 0.7205 - lr: 0.0010 - 8s/epoch - 214ms/step
Epoch 58/100
36/36 - 7s - loss: 0.0274 - accuracy: 0.9747 - val_loss: 0.6729 - val_accuracy: 0.7211 - lr: 0.0010 - 7s/epoch - 208ms/step
Epoch 59/100
36/36 - 8s - loss: 0.0274 - accuracy: 0.9742 - val_loss: 0.6876 - val_accuracy: 0.7160 - lr: 0.0010 - 8s/epoch - 210ms/step
Epoch 60/100
36/36 - 8s - loss: 0.0267 - accuracy: 0.9754 - val_loss: 0.6878 - val_accuracy: 0.7162 - lr: 0.0010 - 8s/epoch - 209ms/step
Epoch 61/100
36/36 - 8s - loss: 0.0273 - accuracy: 0.9751 - val_loss: 0.6928 - val_accuracy: 0.7159 - lr: 0.0010 - 8s/epoch - 211ms/step
Epoch 62/100
36/36 - 7s - loss: 0.0272 - accuracy: 0.9747 - val_loss: 0.6884 - val_accuracy: 0.7174 - lr: 0.0010 - 7s/epoch - 208ms/step
Epoch 63/100
36/36 - 8s - loss: 0.0285 - accuracy: 0.9738 - val_loss: 0.6942 - val_accuracy: 0.7138 - lr: 0.0010 - 8s/epoch - 209ms/step
Epoch 64/100
36/36 - 8s - loss: 0.0271 - accuracy: 0.9750 - val_loss: 0.6858 - val_accuracy: 0.7179 - lr: 0.0010 - 8s/epoch - 212ms/step
Epoch 65/100
36/36 - 8s - loss: 0.0269 - accuracy: 0.9756 - val_loss: 0.6915 - val_accuracy: 0.7200 - lr: 0.0010 - 8s/epoch - 214ms/step
Epoch 66/100
36/36 - 8s - loss: 0.0277 - accuracy: 0.9745 - val_loss: 0.7022 - val_accuracy: 0.7169 - lr: 0.0010 - 8s/epoch - 212ms/step
Epoch 67/100
36/36 - 8s - loss: 0.0279 - accuracy: 0.9743 - val_loss: 0.6980 - val_accuracy: 0.7167 - lr: 0.0010 - 8s/epoch - 211ms/step
Epoch 68/100
36/36 - 8s - loss: 0.0283 - accuracy: 0.9741 - val_loss: 0.6991 - val_accuracy: 0.7137 - lr: 0.0010 - 8s/epoch - 211ms/step
Epoch 69/100
36/36 - 7s - loss: 0.0280 - accuracy: 0.9740 - val_loss: 0.7079 - val_accuracy: 0.7146 - lr: 0.0010 - 7s/epoch - 207ms/step
Epoch 70/100
36/36 - 8s - loss: 0.0277 - accuracy: 0.9737 - val_loss: 0.6794 - val_accuracy: 0.7187 - lr: 0.0010 - 8s/epoch - 216ms/step
Epoch 71/100
36/36 - 8s - loss: 0.0279 - accuracy: 0.9750 - val_loss: 0.6884 - val_accuracy: 0.7173 - lr: 0.0010 - 8s/epoch - 214ms/step
Epoch 72/100
36/36 - 8s - loss: 0.0277 - accuracy: 0.9737 - val_loss: 0.7095 - val_accuracy: 0.7119 - lr: 0.0010 - 8s/epoch - 218ms/step
Epoch 73/100
36/36 - 8s - loss: 0.0278 - accuracy: 0.9746 - val_loss: 0.6955 - val_accuracy: 0.7160 - lr: 0.0010 - 8s/epoch - 215ms/step
Epoch 74/100
36/36 - 8s - loss: 0.0270 - accuracy: 0.9747 - val_loss: 0.6746 - val_accuracy: 0.7204 - lr: 0.0010 - 8s/epoch - 217ms/step
Epoch 75/100
36/36 - 8s - loss: 0.0275 - accuracy: 0.9748 - val_loss: 0.7013 - val_accuracy: 0.7157 - lr: 0.0010 - 8s/epoch - 212ms/step
Epoch 76/100
36/36 - 8s - loss: 0.0273 - accuracy: 0.9750 - val_loss: 0.7013 - val_accuracy: 0.7167 - lr: 0.0010 - 8s/epoch - 212ms/step
Epoch 77/100
36/36 - 7s - loss: 0.0278 - accuracy: 0.9745 - val_loss: 0.7032 - val_accuracy: 0.7131 - lr: 0.0010 - 7s/epoch - 207ms/step
Epoch 78/100
36/36 - 7s - loss: 0.0289 - accuracy: 0.9728 - val_loss: 0.7032 - val_accuracy: 0.7139 - lr: 0.0010 - 7s/epoch - 207ms/step
Epoch 79/100
36/36 - 7s - loss: 0.0278 - accuracy: 0.9746 - val_loss: 0.6885 - val_accuracy: 0.7205 - lr: 0.0010 - 7s/epoch - 207ms/step
Epoch 80/100
36/36 - 7s - loss: 0.0282 - accuracy: 0.9738 - val_loss: 0.6957 - val_accuracy: 0.7166 - lr: 0.0010 - 7s/epoch - 208ms/step
Epoch 81/100
36/36 - 7s - loss: 0.0273 - accuracy: 0.9745 - val_loss: 0.6995 - val_accuracy: 0.7185 - lr: 0.0010 - 7s/epoch - 207ms/step
Epoch 82/100
36/36 - 7s - loss: 0.0283 - accuracy: 0.9732 - val_loss: 0.6889 - val_accuracy: 0.7185 - lr: 0.0010 - 7s/epoch - 207ms/step
Epoch 83/100
36/36 - 8s - loss: 0.0287 - accuracy: 0.9733 - val_loss: 0.7032 - val_accuracy: 0.7160 - lr: 0.0010 - 8s/epoch - 208ms/step
Epoch 84/100
36/36 - 8s - loss: 0.0278 - accuracy: 0.9738 - val_loss: 0.6988 - val_accuracy: 0.7119 - lr: 0.0010 - 8s/epoch - 208ms/step
Epoch 85/100
36/36 - 7s - loss: 0.0293 - accuracy: 0.9731 - val_loss: 0.6918 - val_accuracy: 0.7170 - lr: 0.0010 - 7s/epoch - 207ms/step
Epoch 86/100
36/36 - 8s - loss: 0.0275 - accuracy: 0.9745 - val_loss: 0.6840 - val_accuracy: 0.7196 - lr: 0.0010 - 8s/epoch - 210ms/step
Epoch 87/100
36/36 - 7s - loss: 0.0270 - accuracy: 0.9752 - val_loss: 0.7092 - val_accuracy: 0.7151 - lr: 0.0010 - 7s/epoch - 208ms/step
Epoch 88/100
36/36 - 8s - loss: 0.0270 - accuracy: 0.9747 - val_loss: 0.6953 - val_accuracy: 0.7181 - lr: 0.0010 - 8s/epoch - 213ms/step
Epoch 89/100
36/36 - 7s - loss: 0.0272 - accuracy: 0.9749 - val_loss: 0.6878 - val_accuracy: 0.7180 - lr: 0.0010 - 7s/epoch - 207ms/step
Epoch 90/100
36/36 - 7s - loss: 0.0271 - accuracy: 0.9750 - val_loss: 0.6890 - val_accuracy: 0.7209 - lr: 0.0010 - 7s/epoch - 208ms/step
Epoch 91/100
36/36 - 8s - loss: 0.0268 - accuracy: 0.9750 - val_loss: 0.7070 - val_accuracy: 0.7165 - lr: 0.0010 - 8s/epoch - 219ms/step
Epoch 92/100
36/36 - 8s - loss: 0.0278 - accuracy: 0.9750 - val_loss: 0.7190 - val_accuracy: 0.7113 - lr: 0.0010 - 8s/epoch - 217ms/step
Epoch 93/100
36/36 - 8s - loss: 0.0279 - accuracy: 0.9746 - val_loss: 0.7009 - val_accuracy: 0.7171 - lr: 0.0010 - 8s/epoch - 220ms/step
Epoch 94/100
36/36 - 8s - loss: 0.0279 - accuracy: 0.9743 - val_loss: 0.7083 - val_accuracy: 0.7151 - lr: 0.0010 - 8s/epoch - 214ms/step
Epoch 95/100
36/36 - 8s - loss: 0.0273 - accuracy: 0.9749 - val_loss: 0.7129 - val_accuracy: 0.7130 - lr: 0.0010 - 8s/epoch - 225ms/step
Epoch 96/100
36/36 - 8s - loss: 0.0271 - accuracy: 0.9750 - val_loss: 0.7081 - val_accuracy: 0.7167 - lr: 0.0010 - 8s/epoch - 216ms/step
Epoch 97/100
36/36 - 7s - loss: 0.0279 - accuracy: 0.9742 - val_loss: 0.7203 - val_accuracy: 0.7110 - lr: 0.0010 - 7s/epoch - 208ms/step
Epoch 98/100
36/36 - 7s - loss: 0.0266 - accuracy: 0.9754 - val_loss: 0.7087 - val_accuracy: 0.7173 - lr: 0.0010 - 7s/epoch - 207ms/step
Epoch 99/100
36/36 - 8s - loss: 0.0262 - accuracy: 0.9758 - val_loss: 0.7199 - val_accuracy: 0.7125 - lr: 0.0010 - 8s/epoch - 211ms/step
Epoch 100/100
36/36 - 8s - loss: 0.0272 - accuracy: 0.9751 - val_loss: 0.7331 - val_accuracy: 0.7108 - lr: 0.0010 - 8s/epoch - 212ms/step
Epoch 1/25
4378/4378 - 81s - loss: 0.0155 - accuracy: 0.8979 - val_loss: 0.0392 - val_accuracy: 0.7715 - lr: 0.0010 - 81s/epoch - 19ms/step
Epoch 2/25
4378/4378 - 81s - loss: 0.0161 - accuracy: 0.8921 - val_loss: 0.0437 - val_accuracy: 0.7411 - lr: 0.0010 - 81s/epoch - 18ms/step
Epoch 3/25
4378/4378 - 87s - loss: 0.0161 - accuracy: 0.8905 - val_loss: 0.0368 - val_accuracy: 0.7718 - lr: 0.0010 - 87s/epoch - 20ms/step
Epoch 4/25
4378/4378 - 79s - loss: 0.0158 - accuracy: 0.8919 - val_loss: 0.0368 - val_accuracy: 0.7758 - lr: 0.0010 - 79s/epoch - 18ms/step
Epoch 5/25
4378/4378 - 73s - loss: 0.0155 - accuracy: 0.8930 - val_loss: 0.0368 - val_accuracy: 0.7750 - lr: 0.0010 - 73s/epoch - 17ms/step
Epoch 6/25
4378/4378 - 73s - loss: 0.0155 - accuracy: 0.8943 - val_loss: 0.0375 - val_accuracy: 0.7635 - lr: 0.0010 - 73s/epoch - 17ms/step
Epoch 7/25
4378/4378 - 74s - loss: 0.0156 - accuracy: 0.8921 - val_loss: 0.0385 - val_accuracy: 0.7637 - lr: 0.0010 - 74s/epoch - 17ms/step
Epoch 8/25
4378/4378 - 73s - loss: 0.0155 - accuracy: 0.8934 - val_loss: 0.0364 - val_accuracy: 0.7739 - lr: 0.0010 - 73s/epoch - 17ms/step
Epoch 9/25
4378/4378 - 74s - loss: 0.0152 - accuracy: 0.8951 - val_loss: 0.0349 - val_accuracy: 0.7822 - lr: 0.0010 - 74s/epoch - 17ms/step
Epoch 10/25
4378/4378 - 74s - loss: 0.0154 - accuracy: 0.8940 - val_loss: 0.0419 - val_accuracy: 0.7408 - lr: 0.0010 - 74s/epoch - 17ms/step
Epoch 11/25
4378/4378 - 74s - loss: 0.0155 - accuracy: 0.8929 - val_loss: 0.0387 - val_accuracy: 0.7621 - lr: 0.0010 - 74s/epoch - 17ms/step
Epoch 12/25
4378/4378 - 73s - loss: 0.0154 - accuracy: 0.8937 - val_loss: 0.0354 - val_accuracy: 0.7777 - lr: 0.0010 - 73s/epoch - 17ms/step
Epoch 13/25
4378/4378 - 74s - loss: 0.0151 - accuracy: 0.8955 - val_loss: 0.0354 - val_accuracy: 0.7747 - lr: 0.0010 - 74s/epoch - 17ms/step
Epoch 14/25
4378/4378 - 73s - loss: 0.0151 - accuracy: 0.8958 - val_loss: 0.0392 - val_accuracy: 0.7522 - lr: 0.0010 - 73s/epoch - 17ms/step
Epoch 15/25
4378/4378 - 73s - loss: 0.0152 - accuracy: 0.8952 - val_loss: 0.0340 - val_accuracy: 0.7885 - lr: 0.0010 - 73s/epoch - 17ms/step
Epoch 16/25
4378/4378 - 73s - loss: 0.0151 - accuracy: 0.8960 - val_loss: 0.0354 - val_accuracy: 0.7793 - lr: 0.0010 - 73s/epoch - 17ms/step
Epoch 17/25
4378/4378 - 73s - loss: 0.0153 - accuracy: 0.8940 - val_loss: 0.0375 - val_accuracy: 0.7664 - lr: 0.0010 - 73s/epoch - 17ms/step
Epoch 18/25
4378/4378 - 73s - loss: 0.0151 - accuracy: 0.8958 - val_loss: 0.0378 - val_accuracy: 0.7640 - lr: 0.0010 - 73s/epoch - 17ms/step
Epoch 19/25
4378/4378 - 73s - loss: 0.0150 - accuracy: 0.8967 - val_loss: 0.0376 - val_accuracy: 0.7649 - lr: 0.0010 - 73s/epoch - 17ms/step
Epoch 20/25
4378/4378 - 73s - loss: 0.0148 - accuracy: 0.8981 - val_loss: 0.0406 - val_accuracy: 0.7458 - lr: 0.0010 - 73s/epoch - 17ms/step
Epoch 21/25
4378/4378 - 73s - loss: 0.0150 - accuracy: 0.8970 - val_loss: 0.0383 - val_accuracy: 0.7592 - lr: 0.0010 - 73s/epoch - 17ms/step
Epoch 22/25
4378/4378 - 73s - loss: 0.0150 - accuracy: 0.8968 - val_loss: 0.0352 - val_accuracy: 0.7775 - lr: 0.0010 - 73s/epoch - 17ms/step
Epoch 23/25
4378/4378 - 73s - loss: 0.0150 - accuracy: 0.8965 - val_loss: 0.0326 - val_accuracy: 0.7934 - lr: 0.0010 - 73s/epoch - 17ms/step
Epoch 24/25
4378/4378 - 73s - loss: 0.0148 - accuracy: 0.8983 - val_loss: 0.0395 - val_accuracy: 0.7565 - lr: 0.0010 - 73s/epoch - 17ms/step
Epoch 25/25
4378/4378 - 73s - loss: 0.0150 - accuracy: 0.8979 - val_loss: 0.0393 - val_accuracy: 0.7542 - lr: 0.0010 - 73s/epoch - 17ms/step
Epoch 1/25
876/876 - 21s - loss: 0.0102 - accuracy: 0.9307 - val_loss: 0.0415 - val_accuracy: 0.7443 - lr: 0.0010 - 21s/epoch - 24ms/step
Epoch 2/25
876/876 - 18s - loss: 0.0103 - accuracy: 0.9300 - val_loss: 0.0431 - val_accuracy: 0.7356 - lr: 0.0010 - 18s/epoch - 21ms/step
Epoch 3/25
876/876 - 18s - loss: 0.0103 - accuracy: 0.9297 - val_loss: 0.0446 - val_accuracy: 0.7284 - lr: 0.0010 - 18s/epoch - 21ms/step
Epoch 4/25
876/876 - 18s - loss: 0.0101 - accuracy: 0.9310 - val_loss: 0.0396 - val_accuracy: 0.7586 - lr: 0.0010 - 18s/epoch - 21ms/step
Epoch 5/25
876/876 - 18s - loss: 0.0096 - accuracy: 0.9343 - val_loss: 0.0436 - val_accuracy: 0.7353 - lr: 0.0010 - 18s/epoch - 21ms/step
Epoch 6/25
876/876 - 18s - loss: 0.0098 - accuracy: 0.9340 - val_loss: 0.0429 - val_accuracy: 0.7401 - lr: 0.0010 - 18s/epoch - 21ms/step
Epoch 7/25
876/876 - 18s - loss: 0.0096 - accuracy: 0.9350 - val_loss: 0.0444 - val_accuracy: 0.7322 - lr: 0.0010 - 18s/epoch - 21ms/step
Epoch 8/25
876/876 - 18s - loss: 0.0099 - accuracy: 0.9324 - val_loss: 0.0418 - val_accuracy: 0.7481 - lr: 0.0010 - 18s/epoch - 21ms/step
Epoch 9/25
876/876 - 18s - loss: 0.0098 - accuracy: 0.9332 - val_loss: 0.0376 - val_accuracy: 0.7729 - lr: 0.0010 - 18s/epoch - 21ms/step
Epoch 10/25
876/876 - 18s - loss: 0.0097 - accuracy: 0.9341 - val_loss: 0.0436 - val_accuracy: 0.7389 - lr: 0.0010 - 18s/epoch - 21ms/step
Epoch 11/25
876/876 - 18s - loss: 0.0097 - accuracy: 0.9342 - val_loss: 0.0388 - val_accuracy: 0.7638 - lr: 0.0010 - 18s/epoch - 21ms/step
Epoch 12/25
876/876 - 18s - loss: 0.0096 - accuracy: 0.9356 - val_loss: 0.0453 - val_accuracy: 0.7299 - lr: 0.0010 - 18s/epoch - 21ms/step
Epoch 13/25
876/876 - 18s - loss: 0.0097 - accuracy: 0.9346 - val_loss: 0.0380 - val_accuracy: 0.7706 - lr: 0.0010 - 18s/epoch - 21ms/step
Epoch 14/25
876/876 - 18s - loss: 0.0095 - accuracy: 0.9362 - val_loss: 0.0407 - val_accuracy: 0.7563 - lr: 0.0010 - 18s/epoch - 21ms/step
Epoch 15/25
876/876 - 18s - loss: 0.0092 - accuracy: 0.9375 - val_loss: 0.0409 - val_accuracy: 0.7551 - lr: 0.0010 - 18s/epoch - 21ms/step
Epoch 16/25
876/876 - 18s - loss: 0.0095 - accuracy: 0.9355 - val_loss: 0.0406 - val_accuracy: 0.7584 - lr: 0.0010 - 18s/epoch - 21ms/step
Epoch 17/25
876/876 - 18s - loss: 0.0095 - accuracy: 0.9365 - val_loss: 0.0414 - val_accuracy: 0.7546 - lr: 0.0010 - 18s/epoch - 21ms/step
Epoch 18/25
876/876 - 18s - loss: 0.0093 - accuracy: 0.9374 - val_loss: 0.0421 - val_accuracy: 0.7462 - lr: 0.0010 - 18s/epoch - 21ms/step
Epoch 19/25
876/876 - 19s - loss: 0.0091 - accuracy: 0.9382 - val_loss: 0.0389 - val_accuracy: 0.7644 - lr: 0.0010 - 19s/epoch - 22ms/step
Epoch 20/25
876/876 - 18s - loss: 0.0092 - accuracy: 0.9383 - val_loss: 0.0432 - val_accuracy: 0.7418 - lr: 0.0010 - 18s/epoch - 21ms/step
Epoch 21/25
876/876 - 18s - loss: 0.0092 - accuracy: 0.9378 - val_loss: 0.0419 - val_accuracy: 0.7486 - lr: 0.0010 - 18s/epoch - 21ms/step
Epoch 22/25
876/876 - 17s - loss: 0.0090 - accuracy: 0.9396 - val_loss: 0.0417 - val_accuracy: 0.7501 - lr: 0.0010 - 17s/epoch - 20ms/step
Epoch 23/25
876/876 - 18s - loss: 0.0093 - accuracy: 0.9359 - val_loss: 0.0424 - val_accuracy: 0.7480 - lr: 0.0010 - 18s/epoch - 21ms/step
Epoch 24/25
876/876 - 18s - loss: 0.0094 - accuracy: 0.9368 - val_loss: 0.0410 - val_accuracy: 0.7532 - lr: 0.0010 - 18s/epoch - 21ms/step
Epoch 25/25
876/876 - 19s - loss: 0.0093 - accuracy: 0.9369 - val_loss: 0.0406 - val_accuracy: 0.7558 - lr: 0.0010 - 19s/epoch - 21ms/step
Epoch 1/25
176/176 - 12s - loss: 0.0071 - accuracy: 0.9528 - val_loss: 0.0418 - val_accuracy: 0.7496 - lr: 0.0010 - 12s/epoch - 69ms/step
Epoch 2/25
176/176 - 10s - loss: 0.0062 - accuracy: 0.9590 - val_loss: 0.0417 - val_accuracy: 0.7535 - lr: 0.0010 - 10s/epoch - 55ms/step
Epoch 3/25
176/176 - 10s - loss: 0.0060 - accuracy: 0.9600 - val_loss: 0.0438 - val_accuracy: 0.7437 - lr: 0.0010 - 10s/epoch - 55ms/step
Epoch 4/25
176/176 - 10s - loss: 0.0060 - accuracy: 0.9602 - val_loss: 0.0441 - val_accuracy: 0.7416 - lr: 0.0010 - 10s/epoch - 55ms/step
Epoch 5/25
176/176 - 10s - loss: 0.0061 - accuracy: 0.9596 - val_loss: 0.0437 - val_accuracy: 0.7439 - lr: 0.0010 - 10s/epoch - 55ms/step
Epoch 6/25
176/176 - 10s - loss: 0.0062 - accuracy: 0.9581 - val_loss: 0.0449 - val_accuracy: 0.7375 - lr: 0.0010 - 10s/epoch - 55ms/step
Epoch 7/25
176/176 - 10s - loss: 0.0063 - accuracy: 0.9575 - val_loss: 0.0438 - val_accuracy: 0.7444 - lr: 0.0010 - 10s/epoch - 55ms/step
Epoch 8/25
176/176 - 10s - loss: 0.0064 - accuracy: 0.9576 - val_loss: 0.0459 - val_accuracy: 0.7322 - lr: 0.0010 - 10s/epoch - 55ms/step
Epoch 9/25
176/176 - 10s - loss: 0.0064 - accuracy: 0.9576 - val_loss: 0.0414 - val_accuracy: 0.7589 - lr: 0.0010 - 10s/epoch - 55ms/step
Epoch 10/25
176/176 - 10s - loss: 0.0066 - accuracy: 0.9552 - val_loss: 0.0442 - val_accuracy: 0.7424 - lr: 0.0010 - 10s/epoch - 56ms/step
Epoch 11/25
176/176 - 10s - loss: 0.0065 - accuracy: 0.9570 - val_loss: 0.0420 - val_accuracy: 0.7542 - lr: 0.0010 - 10s/epoch - 56ms/step
Epoch 12/25
176/176 - 10s - loss: 0.0063 - accuracy: 0.9578 - val_loss: 0.0459 - val_accuracy: 0.7348 - lr: 0.0010 - 10s/epoch - 56ms/step
Epoch 13/25
176/176 - 10s - loss: 0.0062 - accuracy: 0.9591 - val_loss: 0.0430 - val_accuracy: 0.7505 - lr: 0.0010 - 10s/epoch - 56ms/step
Epoch 14/25
176/176 - 10s - loss: 0.0060 - accuracy: 0.9599 - val_loss: 0.0448 - val_accuracy: 0.7412 - lr: 0.0010 - 10s/epoch - 56ms/step
Epoch 15/25
176/176 - 10s - loss: 0.0061 - accuracy: 0.9594 - val_loss: 0.0428 - val_accuracy: 0.7506 - lr: 0.0010 - 10s/epoch - 56ms/step
Epoch 16/25
176/176 - 10s - loss: 0.0061 - accuracy: 0.9590 - val_loss: 0.0465 - val_accuracy: 0.7313 - lr: 0.0010 - 10s/epoch - 57ms/step
Epoch 17/25
176/176 - 10s - loss: 0.0062 - accuracy: 0.9579 - val_loss: 0.0445 - val_accuracy: 0.7427 - lr: 0.0010 - 10s/epoch - 55ms/step
Epoch 18/25
176/176 - 10s - loss: 0.0064 - accuracy: 0.9567 - val_loss: 0.0445 - val_accuracy: 0.7443 - lr: 0.0010 - 10s/epoch - 56ms/step
Epoch 19/25
176/176 - 10s - loss: 0.0062 - accuracy: 0.9589 - val_loss: 0.0426 - val_accuracy: 0.7557 - lr: 0.0010 - 10s/epoch - 56ms/step
Epoch 20/25
176/176 - 10s - loss: 0.0061 - accuracy: 0.9596 - val_loss: 0.0440 - val_accuracy: 0.7446 - lr: 0.0010 - 10s/epoch - 56ms/step
Epoch 21/25
176/176 - 10s - loss: 0.0061 - accuracy: 0.9598 - val_loss: 0.0453 - val_accuracy: 0.7398 - lr: 0.0010 - 10s/epoch - 55ms/step
Epoch 22/25
176/176 - 10s - loss: 0.0062 - accuracy: 0.9589 - val_loss: 0.0449 - val_accuracy: 0.7424 - lr: 0.0010 - 10s/epoch - 55ms/step
Epoch 23/25
176/176 - 10s - loss: 0.0063 - accuracy: 0.9580 - val_loss: 0.0451 - val_accuracy: 0.7426 - lr: 0.0010 - 10s/epoch - 56ms/step
Epoch 24/25
176/176 - 10s - loss: 0.0059 - accuracy: 0.9604 - val_loss: 0.0444 - val_accuracy: 0.7449 - lr: 0.0010 - 10s/epoch - 56ms/step
Epoch 25/25
176/176 - 10s - loss: 0.0059 - accuracy: 0.9608 - val_loss: 0.0438 - val_accuracy: 0.7487 - lr: 0.0010 - 10s/epoch - 57ms/step
Epoch 1/25
36/36 - 11s - loss: 0.0055 - accuracy: 0.9632 - val_loss: 0.0456 - val_accuracy: 0.7406 - lr: 0.0010 - 11s/epoch - 311ms/step
Epoch 2/25
36/36 - 9s - loss: 0.0049 - accuracy: 0.9671 - val_loss: 0.0447 - val_accuracy: 0.7439 - lr: 0.0010 - 9s/epoch - 247ms/step
Epoch 3/25
36/36 - 9s - loss: 0.0048 - accuracy: 0.9681 - val_loss: 0.0451 - val_accuracy: 0.7426 - lr: 0.0010 - 9s/epoch - 246ms/step
Epoch 4/25
36/36 - 9s - loss: 0.0047 - accuracy: 0.9682 - val_loss: 0.0454 - val_accuracy: 0.7404 - lr: 0.0010 - 9s/epoch - 246ms/step
Epoch 5/25
36/36 - 9s - loss: 0.0047 - accuracy: 0.9683 - val_loss: 0.0454 - val_accuracy: 0.7402 - lr: 0.0010 - 9s/epoch - 246ms/step
Epoch 6/25
36/36 - 9s - loss: 0.0045 - accuracy: 0.9693 - val_loss: 0.0459 - val_accuracy: 0.7389 - lr: 0.0010 - 9s/epoch - 241ms/step
Epoch 7/25
36/36 - 9s - loss: 0.0047 - accuracy: 0.9689 - val_loss: 0.0461 - val_accuracy: 0.7380 - lr: 0.0010 - 9s/epoch - 244ms/step
Epoch 8/25
36/36 - 9s - loss: 0.0045 - accuracy: 0.9697 - val_loss: 0.0451 - val_accuracy: 0.7438 - lr: 0.0010 - 9s/epoch - 245ms/step
Epoch 9/25
36/36 - 9s - loss: 0.0048 - accuracy: 0.9682 - val_loss: 0.0460 - val_accuracy: 0.7384 - lr: 0.0010 - 9s/epoch - 247ms/step
Epoch 10/25
36/36 - 9s - loss: 0.0047 - accuracy: 0.9686 - val_loss: 0.0462 - val_accuracy: 0.7384 - lr: 0.0010 - 9s/epoch - 247ms/step
Epoch 11/25
36/36 - 9s - loss: 0.0045 - accuracy: 0.9697 - val_loss: 0.0459 - val_accuracy: 0.7393 - lr: 0.0010 - 9s/epoch - 246ms/step
Epoch 12/25
36/36 - 9s - loss: 0.0045 - accuracy: 0.9698 - val_loss: 0.0459 - val_accuracy: 0.7406 - lr: 0.0010 - 9s/epoch - 246ms/step
Epoch 13/25
36/36 - 9s - loss: 0.0044 - accuracy: 0.9701 - val_loss: 0.0470 - val_accuracy: 0.7352 - lr: 0.0010 - 9s/epoch - 244ms/step
Epoch 14/25
36/36 - 9s - loss: 0.0047 - accuracy: 0.9687 - val_loss: 0.0465 - val_accuracy: 0.7370 - lr: 0.0010 - 9s/epoch - 240ms/step
Epoch 15/25
36/36 - 9s - loss: 0.0046 - accuracy: 0.9691 - val_loss: 0.0462 - val_accuracy: 0.7385 - lr: 0.0010 - 9s/epoch - 246ms/step
Epoch 16/25
36/36 - 9s - loss: 0.0045 - accuracy: 0.9696 - val_loss: 0.0465 - val_accuracy: 0.7375 - lr: 0.0010 - 9s/epoch - 246ms/step
Epoch 17/25
36/36 - 9s - loss: 0.0043 - accuracy: 0.9709 - val_loss: 0.0451 - val_accuracy: 0.7447 - lr: 0.0010 - 9s/epoch - 246ms/step
Epoch 18/25
36/36 - 9s - loss: 0.0044 - accuracy: 0.9704 - val_loss: 0.0464 - val_accuracy: 0.7370 - lr: 0.0010 - 9s/epoch - 246ms/step
Epoch 19/25
36/36 - 9s - loss: 0.0044 - accuracy: 0.9697 - val_loss: 0.0455 - val_accuracy: 0.7434 - lr: 0.0010 - 9s/epoch - 246ms/step
Epoch 20/25
36/36 - 9s - loss: 0.0044 - accuracy: 0.9704 - val_loss: 0.0462 - val_accuracy: 0.7387 - lr: 0.0010 - 9s/epoch - 245ms/step
Epoch 21/25
36/36 - 9s - loss: 0.0043 - accuracy: 0.9710 - val_loss: 0.0461 - val_accuracy: 0.7406 - lr: 0.0010 - 9s/epoch - 242ms/step
Epoch 22/25
36/36 - 9s - loss: 0.0044 - accuracy: 0.9708 - val_loss: 0.0472 - val_accuracy: 0.7342 - lr: 0.0010 - 9s/epoch - 243ms/step
Epoch 23/25
36/36 - 9s - loss: 0.0042 - accuracy: 0.9720 - val_loss: 0.0462 - val_accuracy: 0.7390 - lr: 0.0010 - 9s/epoch - 245ms/step
Epoch 24/25
36/36 - 9s - loss: 0.0042 - accuracy: 0.9713 - val_loss: 0.0466 - val_accuracy: 0.7384 - lr: 0.0010 - 9s/epoch - 247ms/step
Epoch 25/25
36/36 - 9s - loss: 0.0042 - accuracy: 0.9714 - val_loss: 0.0474 - val_accuracy: 0.7336 - lr: 0.0010 - 9s/epoch - 246ms/step
Epoch 1/50
4378/4378 - 76s - loss: 0.0141 - accuracy: 0.9063 - val_loss: 0.0423 - val_accuracy: 0.7471 - lr: 0.0010 - 76s/epoch - 17ms/step
Epoch 2/50
4378/4378 - 74s - loss: 0.0143 - accuracy: 0.9036 - val_loss: 0.0378 - val_accuracy: 0.7706 - lr: 0.0010 - 74s/epoch - 17ms/step
Epoch 3/50
4378/4378 - 74s - loss: 0.0144 - accuracy: 0.9021 - val_loss: 0.0394 - val_accuracy: 0.7564 - lr: 0.0010 - 74s/epoch - 17ms/step
Epoch 4/50
4378/4378 - 74s - loss: 0.0146 - accuracy: 0.8995 - val_loss: 0.0368 - val_accuracy: 0.7705 - lr: 0.0010 - 74s/epoch - 17ms/step
Epoch 5/50
4378/4378 - 74s - loss: 0.0144 - accuracy: 0.9020 - val_loss: 0.0391 - val_accuracy: 0.7568 - lr: 0.0010 - 74s/epoch - 17ms/step
Epoch 6/50
4378/4378 - 74s - loss: 0.0145 - accuracy: 0.9010 - val_loss: 0.0378 - val_accuracy: 0.7623 - lr: 0.0010 - 74s/epoch - 17ms/step
Epoch 7/50
4378/4378 - 74s - loss: 0.0145 - accuracy: 0.9004 - val_loss: 0.0385 - val_accuracy: 0.7585 - lr: 0.0010 - 74s/epoch - 17ms/step
Epoch 8/50
4378/4378 - 74s - loss: 0.0143 - accuracy: 0.9024 - val_loss: 0.0400 - val_accuracy: 0.7505 - lr: 0.0010 - 74s/epoch - 17ms/step
Epoch 9/50
4378/4378 - 74s - loss: 0.0147 - accuracy: 0.8992 - val_loss: 0.0378 - val_accuracy: 0.7611 - lr: 0.0010 - 74s/epoch - 17ms/step
Epoch 10/50
4378/4378 - 74s - loss: 0.0146 - accuracy: 0.8990 - val_loss: 0.0389 - val_accuracy: 0.7542 - lr: 0.0010 - 74s/epoch - 17ms/step
Epoch 11/50
4378/4378 - 74s - loss: 0.0148 - accuracy: 0.8984 - val_loss: 0.0393 - val_accuracy: 0.7521 - lr: 0.0010 - 74s/epoch - 17ms/step
Epoch 12/50
4378/4378 - 73s - loss: 0.0147 - accuracy: 0.8996 - val_loss: 0.0356 - val_accuracy: 0.7752 - lr: 0.0010 - 73s/epoch - 17ms/step
Epoch 13/50
4378/4378 - 74s - loss: 0.0150 - accuracy: 0.8979 - val_loss: 0.0361 - val_accuracy: 0.7724 - lr: 0.0010 - 74s/epoch - 17ms/step
Epoch 14/50
4378/4378 - 74s - loss: 0.0148 - accuracy: 0.8985 - val_loss: 0.0388 - val_accuracy: 0.7545 - lr: 0.0010 - 74s/epoch - 17ms/step
Epoch 15/50
4378/4378 - 74s - loss: 0.0147 - accuracy: 0.8990 - val_loss: 0.0363 - val_accuracy: 0.7681 - lr: 0.0010 - 74s/epoch - 17ms/step
Epoch 16/50
4378/4378 - 74s - loss: 0.0148 - accuracy: 0.8989 - val_loss: 0.0377 - val_accuracy: 0.7604 - lr: 0.0010 - 74s/epoch - 17ms/step
Epoch 17/50
4378/4378 - 74s - loss: 0.0143 - accuracy: 0.9023 - val_loss: 0.0374 - val_accuracy: 0.7674 - lr: 0.0010 - 74s/epoch - 17ms/step
Epoch 18/50
4378/4378 - 74s - loss: 0.0147 - accuracy: 0.8996 - val_loss: 0.0345 - val_accuracy: 0.7795 - lr: 0.0010 - 74s/epoch - 17ms/step
Epoch 19/50
4378/4378 - 74s - loss: 0.0145 - accuracy: 0.8994 - val_loss: 0.0357 - val_accuracy: 0.7740 - lr: 0.0010 - 74s/epoch - 17ms/step
Epoch 20/50
4378/4378 - 74s - loss: 0.0145 - accuracy: 0.9014 - val_loss: 0.0387 - val_accuracy: 0.7573 - lr: 0.0010 - 74s/epoch - 17ms/step
Epoch 21/50
4378/4378 - 74s - loss: 0.0149 - accuracy: 0.8984 - val_loss: 0.0333 - val_accuracy: 0.7902 - lr: 0.0010 - 74s/epoch - 17ms/step
Epoch 22/50
4378/4378 - 73s - loss: 0.0147 - accuracy: 0.8994 - val_loss: 0.0382 - val_accuracy: 0.7591 - lr: 0.0010 - 73s/epoch - 17ms/step
Epoch 23/50
4378/4378 - 74s - loss: 0.0152 - accuracy: 0.8960 - val_loss: 0.0351 - val_accuracy: 0.7769 - lr: 0.0010 - 74s/epoch - 17ms/step
Epoch 24/50
4378/4378 - 73s - loss: 0.0146 - accuracy: 0.8997 - val_loss: 0.0358 - val_accuracy: 0.7720 - lr: 0.0010 - 73s/epoch - 17ms/step
Epoch 25/50
4378/4378 - 74s - loss: 0.0147 - accuracy: 0.8994 - val_loss: 0.0404 - val_accuracy: 0.7424 - lr: 0.0010 - 74s/epoch - 17ms/step
Epoch 26/50
4378/4378 - 74s - loss: 0.0147 - accuracy: 0.8991 - val_loss: 0.0361 - val_accuracy: 0.7715 - lr: 0.0010 - 74s/epoch - 17ms/step
Epoch 27/50
4378/4378 - 74s - loss: 0.0146 - accuracy: 0.9005 - val_loss: 0.0357 - val_accuracy: 0.7779 - lr: 0.0010 - 74s/epoch - 17ms/step
Epoch 28/50
4378/4378 - 73s - loss: 0.0146 - accuracy: 0.8989 - val_loss: 0.0389 - val_accuracy: 0.7521 - lr: 0.0010 - 73s/epoch - 17ms/step
Epoch 29/50
4378/4378 - 74s - loss: 0.0146 - accuracy: 0.8993 - val_loss: 0.0420 - val_accuracy: 0.7334 - lr: 0.0010 - 74s/epoch - 17ms/step
Epoch 30/50
4378/4378 - 74s - loss: 0.0146 - accuracy: 0.9007 - val_loss: 0.0367 - val_accuracy: 0.7658 - lr: 0.0010 - 74s/epoch - 17ms/step
Epoch 31/50
4378/4378 - 74s - loss: 0.0145 - accuracy: 0.9013 - val_loss: 0.0350 - val_accuracy: 0.7773 - lr: 0.0010 - 74s/epoch - 17ms/step
Epoch 32/50
4378/4378 - 74s - loss: 0.0147 - accuracy: 0.8998 - val_loss: 0.0362 - val_accuracy: 0.7663 - lr: 0.0010 - 74s/epoch - 17ms/step
Epoch 33/50
4378/4378 - 74s - loss: 0.0148 - accuracy: 0.8986 - val_loss: 0.0373 - val_accuracy: 0.7579 - lr: 0.0010 - 74s/epoch - 17ms/step
Epoch 34/50
4378/4378 - 74s - loss: 0.0148 - accuracy: 0.8986 - val_loss: 0.0361 - val_accuracy: 0.7706 - lr: 0.0010 - 74s/epoch - 17ms/step
Epoch 35/50
4378/4378 - 74s - loss: 0.0145 - accuracy: 0.9012 - val_loss: 0.0369 - val_accuracy: 0.7672 - lr: 0.0010 - 74s/epoch - 17ms/step
Epoch 36/50
4378/4378 - 74s - loss: 0.0147 - accuracy: 0.8994 - val_loss: 0.0360 - val_accuracy: 0.7695 - lr: 0.0010 - 74s/epoch - 17ms/step
Epoch 37/50
4378/4378 - 73s - loss: 0.0147 - accuracy: 0.8994 - val_loss: 0.0356 - val_accuracy: 0.7705 - lr: 0.0010 - 73s/epoch - 17ms/step
Epoch 38/50
4378/4378 - 73s - loss: 0.0149 - accuracy: 0.8976 - val_loss: 0.0366 - val_accuracy: 0.7664 - lr: 0.0010 - 73s/epoch - 17ms/step
Epoch 39/50
4378/4378 - 74s - loss: 0.0149 - accuracy: 0.8986 - val_loss: 0.0392 - val_accuracy: 0.7557 - lr: 0.0010 - 74s/epoch - 17ms/step
Epoch 40/50
4378/4378 - 73s - loss: 0.0144 - accuracy: 0.9006 - val_loss: 0.0397 - val_accuracy: 0.7501 - lr: 0.0010 - 73s/epoch - 17ms/step
Epoch 41/50
4378/4378 - 74s - loss: 0.0145 - accuracy: 0.9017 - val_loss: 0.0367 - val_accuracy: 0.7661 - lr: 0.0010 - 74s/epoch - 17ms/step
Epoch 42/50
4378/4378 - 73s - loss: 0.0146 - accuracy: 0.9007 - val_loss: 0.0315 - val_accuracy: 0.7979 - lr: 0.0010 - 73s/epoch - 17ms/step
Epoch 43/50
4378/4378 - 73s - loss: 0.0144 - accuracy: 0.9015 - val_loss: 0.0364 - val_accuracy: 0.7692 - lr: 0.0010 - 73s/epoch - 17ms/step
Epoch 44/50
4378/4378 - 74s - loss: 0.0147 - accuracy: 0.9000 - val_loss: 0.0412 - val_accuracy: 0.7404 - lr: 0.0010 - 74s/epoch - 17ms/step
Epoch 45/50
4378/4378 - 74s - loss: 0.0146 - accuracy: 0.8998 - val_loss: 0.0391 - val_accuracy: 0.7561 - lr: 0.0010 - 74s/epoch - 17ms/step
Epoch 46/50
4378/4378 - 73s - loss: 0.0148 - accuracy: 0.8992 - val_loss: 0.0374 - val_accuracy: 0.7590 - lr: 0.0010 - 73s/epoch - 17ms/step
Epoch 47/50
4378/4378 - 74s - loss: 0.0145 - accuracy: 0.9007 - val_loss: 0.0345 - val_accuracy: 0.7838 - lr: 0.0010 - 74s/epoch - 17ms/step
Epoch 48/50
4378/4378 - 74s - loss: 0.0150 - accuracy: 0.8976 - val_loss: 0.0302 - val_accuracy: 0.8074 - lr: 0.0010 - 74s/epoch - 17ms/step
Epoch 49/50
4378/4378 - 73s - loss: 0.0146 - accuracy: 0.9004 - val_loss: 0.0396 - val_accuracy: 0.7461 - lr: 0.0010 - 73s/epoch - 17ms/step
Epoch 50/50
4378/4378 - 74s - loss: 0.0147 - accuracy: 0.8995 - val_loss: 0.0381 - val_accuracy: 0.7543 - lr: 0.0010 - 74s/epoch - 17ms/step
Epoch 1/50
876/876 - 21s - loss: 0.0103 - accuracy: 0.9307 - val_loss: 0.0333 - val_accuracy: 0.7890 - lr: 0.0010 - 21s/epoch - 24ms/step
Epoch 2/50
876/876 - 18s - loss: 0.0104 - accuracy: 0.9306 - val_loss: 0.0380 - val_accuracy: 0.7624 - lr: 0.0010 - 18s/epoch - 21ms/step
Epoch 3/50
876/876 - 18s - loss: 0.0104 - accuracy: 0.9293 - val_loss: 0.0383 - val_accuracy: 0.7617 - lr: 0.0010 - 18s/epoch - 21ms/step
Epoch 4/50
876/876 - 18s - loss: 0.0095 - accuracy: 0.9358 - val_loss: 0.0407 - val_accuracy: 0.7518 - lr: 0.0010 - 18s/epoch - 21ms/step
Epoch 5/50
876/876 - 18s - loss: 0.0097 - accuracy: 0.9348 - val_loss: 0.0392 - val_accuracy: 0.7575 - lr: 0.0010 - 18s/epoch - 21ms/step
Epoch 6/50
876/876 - 18s - loss: 0.0097 - accuracy: 0.9347 - val_loss: 0.0410 - val_accuracy: 0.7510 - lr: 0.0010 - 18s/epoch - 21ms/step
Epoch 7/50
876/876 - 18s - loss: 0.0096 - accuracy: 0.9360 - val_loss: 0.0403 - val_accuracy: 0.7519 - lr: 0.0010 - 18s/epoch - 21ms/step
Epoch 8/50
876/876 - 18s - loss: 0.0097 - accuracy: 0.9357 - val_loss: 0.0430 - val_accuracy: 0.7393 - lr: 0.0010 - 18s/epoch - 21ms/step
Epoch 9/50
876/876 - 18s - loss: 0.0098 - accuracy: 0.9344 - val_loss: 0.0400 - val_accuracy: 0.7545 - lr: 0.0010 - 18s/epoch - 21ms/step
Epoch 10/50
876/876 - 18s - loss: 0.0096 - accuracy: 0.9358 - val_loss: 0.0399 - val_accuracy: 0.7556 - lr: 0.0010 - 18s/epoch - 21ms/step
Epoch 11/50
876/876 - 18s - loss: 0.0094 - accuracy: 0.9375 - val_loss: 0.0380 - val_accuracy: 0.7664 - lr: 0.0010 - 18s/epoch - 21ms/step
Epoch 12/50
876/876 - 18s - loss: 0.0094 - accuracy: 0.9372 - val_loss: 0.0434 - val_accuracy: 0.7358 - lr: 0.0010 - 18s/epoch - 21ms/step
Epoch 13/50
876/876 - 18s - loss: 0.0096 - accuracy: 0.9356 - val_loss: 0.0378 - val_accuracy: 0.7669 - lr: 0.0010 - 18s/epoch - 21ms/step
Epoch 14/50
876/876 - 18s - loss: 0.0094 - accuracy: 0.9375 - val_loss: 0.0389 - val_accuracy: 0.7628 - lr: 0.0010 - 18s/epoch - 21ms/step
Epoch 15/50
876/876 - 18s - loss: 0.0095 - accuracy: 0.9368 - val_loss: 0.0373 - val_accuracy: 0.7732 - lr: 0.0010 - 18s/epoch - 21ms/step
Epoch 16/50
876/876 - 18s - loss: 0.0096 - accuracy: 0.9364 - val_loss: 0.0409 - val_accuracy: 0.7575 - lr: 0.0010 - 18s/epoch - 21ms/step
Epoch 17/50
876/876 - 18s - loss: 0.0094 - accuracy: 0.9374 - val_loss: 0.0395 - val_accuracy: 0.7602 - lr: 0.0010 - 18s/epoch - 21ms/step
Epoch 18/50
876/876 - 18s - loss: 0.0094 - accuracy: 0.9377 - val_loss: 0.0369 - val_accuracy: 0.7731 - lr: 0.0010 - 18s/epoch - 21ms/step
Epoch 19/50
876/876 - 18s - loss: 0.0093 - accuracy: 0.9382 - val_loss: 0.0401 - val_accuracy: 0.7557 - lr: 0.0010 - 18s/epoch - 21ms/step
Epoch 20/50
876/876 - 18s - loss: 0.0094 - accuracy: 0.9379 - val_loss: 0.0429 - val_accuracy: 0.7395 - lr: 0.0010 - 18s/epoch - 21ms/step
Epoch 21/50
876/876 - 18s - loss: 0.0093 - accuracy: 0.9380 - val_loss: 0.0423 - val_accuracy: 0.7446 - lr: 0.0010 - 18s/epoch - 21ms/step
Epoch 22/50
876/876 - 18s - loss: 0.0093 - accuracy: 0.9377 - val_loss: 0.0398 - val_accuracy: 0.7614 - lr: 0.0010 - 18s/epoch - 21ms/step
Epoch 23/50
876/876 - 18s - loss: 0.0091 - accuracy: 0.9391 - val_loss: 0.0420 - val_accuracy: 0.7455 - lr: 0.0010 - 18s/epoch - 21ms/step
Epoch 24/50
876/876 - 18s - loss: 0.0091 - accuracy: 0.9393 - val_loss: 0.0427 - val_accuracy: 0.7421 - lr: 0.0010 - 18s/epoch - 21ms/step
Epoch 25/50
876/876 - 18s - loss: 0.0091 - accuracy: 0.9393 - val_loss: 0.0440 - val_accuracy: 0.7381 - lr: 0.0010 - 18s/epoch - 21ms/step
Epoch 26/50
876/876 - 18s - loss: 0.0091 - accuracy: 0.9399 - val_loss: 0.0381 - val_accuracy: 0.7669 - lr: 0.0010 - 18s/epoch - 21ms/step
Epoch 27/50
876/876 - 18s - loss: 0.0087 - accuracy: 0.9421 - val_loss: 0.0399 - val_accuracy: 0.7596 - lr: 0.0010 - 18s/epoch - 21ms/step
Epoch 28/50
876/876 - 18s - loss: 0.0083 - accuracy: 0.9449 - val_loss: 0.0450 - val_accuracy: 0.7323 - lr: 0.0010 - 18s/epoch - 21ms/step
Epoch 29/50
876/876 - 18s - loss: 0.0090 - accuracy: 0.9401 - val_loss: 0.0443 - val_accuracy: 0.7361 - lr: 0.0010 - 18s/epoch - 21ms/step
Epoch 30/50
876/876 - 18s - loss: 0.0091 - accuracy: 0.9394 - val_loss: 0.0391 - val_accuracy: 0.7661 - lr: 0.0010 - 18s/epoch - 21ms/step
Epoch 31/50
876/876 - 18s - loss: 0.0092 - accuracy: 0.9388 - val_loss: 0.0406 - val_accuracy: 0.7564 - lr: 0.0010 - 18s/epoch - 21ms/step
Epoch 32/50
876/876 - 18s - loss: 0.0092 - accuracy: 0.9379 - val_loss: 0.0397 - val_accuracy: 0.7602 - lr: 0.0010 - 18s/epoch - 21ms/step
Epoch 33/50
876/876 - 18s - loss: 0.0091 - accuracy: 0.9389 - val_loss: 0.0398 - val_accuracy: 0.7591 - lr: 0.0010 - 18s/epoch - 21ms/step
Epoch 34/50
876/876 - 18s - loss: 0.0092 - accuracy: 0.9384 - val_loss: 0.0444 - val_accuracy: 0.7336 - lr: 0.0010 - 18s/epoch - 21ms/step
Epoch 35/50
876/876 - 18s - loss: 0.0091 - accuracy: 0.9390 - val_loss: 0.0406 - val_accuracy: 0.7530 - lr: 0.0010 - 18s/epoch - 21ms/step
Epoch 36/50
876/876 - 18s - loss: 0.0091 - accuracy: 0.9397 - val_loss: 0.0403 - val_accuracy: 0.7552 - lr: 0.0010 - 18s/epoch - 21ms/step
Epoch 37/50
876/876 - 18s - loss: 0.0089 - accuracy: 0.9408 - val_loss: 0.0405 - val_accuracy: 0.7565 - lr: 0.0010 - 18s/epoch - 21ms/step
Epoch 38/50
876/876 - 18s - loss: 0.0091 - accuracy: 0.9395 - val_loss: 0.0421 - val_accuracy: 0.7461 - lr: 0.0010 - 18s/epoch - 21ms/step
Epoch 39/50
876/876 - 18s - loss: 0.0092 - accuracy: 0.9385 - val_loss: 0.0384 - val_accuracy: 0.7665 - lr: 0.0010 - 18s/epoch - 21ms/step
Epoch 40/50
876/876 - 18s - loss: 0.0087 - accuracy: 0.9416 - val_loss: 0.0401 - val_accuracy: 0.7576 - lr: 0.0010 - 18s/epoch - 21ms/step
Epoch 41/50
876/876 - 18s - loss: 0.0090 - accuracy: 0.9399 - val_loss: 0.0384 - val_accuracy: 0.7681 - lr: 0.0010 - 18s/epoch - 21ms/step
Epoch 42/50
876/876 - 18s - loss: 0.0089 - accuracy: 0.9413 - val_loss: 0.0430 - val_accuracy: 0.7395 - lr: 0.0010 - 18s/epoch - 21ms/step
Epoch 43/50
876/876 - 18s - loss: 0.0089 - accuracy: 0.9408 - val_loss: 0.0387 - val_accuracy: 0.7679 - lr: 0.0010 - 18s/epoch - 21ms/step
Epoch 44/50
876/876 - 18s - loss: 0.0090 - accuracy: 0.9400 - val_loss: 0.0420 - val_accuracy: 0.7476 - lr: 0.0010 - 18s/epoch - 21ms/step
Epoch 45/50
876/876 - 18s - loss: 0.0090 - accuracy: 0.9403 - val_loss: 0.0425 - val_accuracy: 0.7454 - lr: 0.0010 - 18s/epoch - 21ms/step
Epoch 46/50
876/876 - 18s - loss: 0.0089 - accuracy: 0.9406 - val_loss: 0.0408 - val_accuracy: 0.7566 - lr: 0.0010 - 18s/epoch - 21ms/step
Epoch 47/50
876/876 - 18s - loss: 0.0090 - accuracy: 0.9400 - val_loss: 0.0383 - val_accuracy: 0.7676 - lr: 0.0010 - 18s/epoch - 21ms/step
Epoch 48/50
876/876 - 18s - loss: 0.0089 - accuracy: 0.9407 - val_loss: 0.0428 - val_accuracy: 0.7436 - lr: 0.0010 - 18s/epoch - 21ms/step
Epoch 49/50
876/876 - 18s - loss: 0.0085 - accuracy: 0.9426 - val_loss: 0.0418 - val_accuracy: 0.7495 - lr: 0.0010 - 18s/epoch - 21ms/step
Epoch 50/50
876/876 - 18s - loss: 0.0086 - accuracy: 0.9429 - val_loss: 0.0413 - val_accuracy: 0.7527 - lr: 0.0010 - 18s/epoch - 21ms/step
Epoch 1/50
176/176 - 13s - loss: 0.0068 - accuracy: 0.9554 - val_loss: 0.0410 - val_accuracy: 0.7553 - lr: 0.0010 - 13s/epoch - 76ms/step
Epoch 2/50
176/176 - 10s - loss: 0.0060 - accuracy: 0.9612 - val_loss: 0.0420 - val_accuracy: 0.7491 - lr: 0.0010 - 10s/epoch - 56ms/step
Epoch 3/50
176/176 - 10s - loss: 0.0061 - accuracy: 0.9600 - val_loss: 0.0429 - val_accuracy: 0.7458 - lr: 0.0010 - 10s/epoch - 55ms/step
Epoch 4/50
176/176 - 10s - loss: 0.0059 - accuracy: 0.9614 - val_loss: 0.0415 - val_accuracy: 0.7535 - lr: 0.0010 - 10s/epoch - 56ms/step
Epoch 5/50
176/176 - 10s - loss: 0.0059 - accuracy: 0.9616 - val_loss: 0.0407 - val_accuracy: 0.7593 - lr: 0.0010 - 10s/epoch - 56ms/step
Epoch 6/50
176/176 - 10s - loss: 0.0060 - accuracy: 0.9604 - val_loss: 0.0420 - val_accuracy: 0.7514 - lr: 0.0010 - 10s/epoch - 56ms/step
Epoch 7/50
176/176 - 10s - loss: 0.0060 - accuracy: 0.9599 - val_loss: 0.0423 - val_accuracy: 0.7511 - lr: 0.0010 - 10s/epoch - 56ms/step
Epoch 8/50
176/176 - 10s - loss: 0.0062 - accuracy: 0.9591 - val_loss: 0.0416 - val_accuracy: 0.7561 - lr: 0.0010 - 10s/epoch - 56ms/step
Epoch 9/50
176/176 - 10s - loss: 0.0062 - accuracy: 0.9595 - val_loss: 0.0423 - val_accuracy: 0.7532 - lr: 0.0010 - 10s/epoch - 57ms/step
Epoch 10/50
176/176 - 10s - loss: 0.0063 - accuracy: 0.9581 - val_loss: 0.0453 - val_accuracy: 0.7355 - lr: 0.0010 - 10s/epoch - 55ms/step
Epoch 11/50
176/176 - 10s - loss: 0.0062 - accuracy: 0.9586 - val_loss: 0.0455 - val_accuracy: 0.7354 - lr: 0.0010 - 10s/epoch - 56ms/step
Epoch 12/50
176/176 - 10s - loss: 0.0062 - accuracy: 0.9592 - val_loss: 0.0458 - val_accuracy: 0.7340 - lr: 0.0010 - 10s/epoch - 56ms/step
Epoch 13/50
176/176 - 10s - loss: 0.0061 - accuracy: 0.9595 - val_loss: 0.0443 - val_accuracy: 0.7433 - lr: 0.0010 - 10s/epoch - 56ms/step
Epoch 14/50
176/176 - 10s - loss: 0.0063 - accuracy: 0.9585 - val_loss: 0.0457 - val_accuracy: 0.7330 - lr: 0.0010 - 10s/epoch - 56ms/step
Epoch 15/50
176/176 - 10s - loss: 0.0062 - accuracy: 0.9590 - val_loss: 0.0424 - val_accuracy: 0.7536 - lr: 0.0010 - 10s/epoch - 56ms/step
Epoch 16/50
176/176 - 10s - loss: 0.0062 - accuracy: 0.9594 - val_loss: 0.0440 - val_accuracy: 0.7463 - lr: 0.0010 - 10s/epoch - 55ms/step
Epoch 17/50
176/176 - 10s - loss: 0.0060 - accuracy: 0.9606 - val_loss: 0.0430 - val_accuracy: 0.7519 - lr: 0.0010 - 10s/epoch - 55ms/step
Epoch 18/50
176/176 - 10s - loss: 0.0062 - accuracy: 0.9594 - val_loss: 0.0416 - val_accuracy: 0.7586 - lr: 0.0010 - 10s/epoch - 55ms/step
Epoch 19/50
176/176 - 10s - loss: 0.0061 - accuracy: 0.9603 - val_loss: 0.0428 - val_accuracy: 0.7525 - lr: 0.0010 - 10s/epoch - 56ms/step
Epoch 20/50
176/176 - 10s - loss: 0.0063 - accuracy: 0.9592 - val_loss: 0.0432 - val_accuracy: 0.7487 - lr: 0.0010 - 10s/epoch - 56ms/step
Epoch 21/50
176/176 - 10s - loss: 0.0061 - accuracy: 0.9596 - val_loss: 0.0455 - val_accuracy: 0.7384 - lr: 0.0010 - 10s/epoch - 56ms/step
Epoch 22/50
176/176 - 10s - loss: 0.0061 - accuracy: 0.9595 - val_loss: 0.0431 - val_accuracy: 0.7511 - lr: 0.0010 - 10s/epoch - 56ms/step
Epoch 23/50
176/176 - 10s - loss: 0.0059 - accuracy: 0.9609 - val_loss: 0.0438 - val_accuracy: 0.7476 - lr: 0.0010 - 10s/epoch - 55ms/step
Epoch 24/50
176/176 - 10s - loss: 0.0060 - accuracy: 0.9608 - val_loss: 0.0427 - val_accuracy: 0.7553 - lr: 0.0010 - 10s/epoch - 56ms/step
Epoch 25/50
176/176 - 10s - loss: 0.0060 - accuracy: 0.9603 - val_loss: 0.0452 - val_accuracy: 0.7393 - lr: 0.0010 - 10s/epoch - 56ms/step
Epoch 26/50
176/176 - 10s - loss: 0.0059 - accuracy: 0.9612 - val_loss: 0.0471 - val_accuracy: 0.7269 - lr: 0.0010 - 10s/epoch - 56ms/step
Epoch 27/50
176/176 - 10s - loss: 0.0057 - accuracy: 0.9625 - val_loss: 0.0450 - val_accuracy: 0.7404 - lr: 0.0010 - 10s/epoch - 55ms/step
Epoch 28/50
176/176 - 10s - loss: 0.0060 - accuracy: 0.9608 - val_loss: 0.0459 - val_accuracy: 0.7353 - lr: 0.0010 - 10s/epoch - 55ms/step
Epoch 29/50
176/176 - 10s - loss: 0.0059 - accuracy: 0.9619 - val_loss: 0.0444 - val_accuracy: 0.7450 - lr: 0.0010 - 10s/epoch - 55ms/step
Epoch 30/50
176/176 - 10s - loss: 0.0062 - accuracy: 0.9593 - val_loss: 0.0429 - val_accuracy: 0.7536 - lr: 0.0010 - 10s/epoch - 55ms/step
Epoch 31/50
176/176 - 10s - loss: 0.0061 - accuracy: 0.9592 - val_loss: 0.0457 - val_accuracy: 0.7387 - lr: 0.0010 - 10s/epoch - 56ms/step
Epoch 32/50
176/176 - 10s - loss: 0.0058 - accuracy: 0.9611 - val_loss: 0.0461 - val_accuracy: 0.7344 - lr: 0.0010 - 10s/epoch - 57ms/step
Epoch 33/50
176/176 - 10s - loss: 0.0058 - accuracy: 0.9619 - val_loss: 0.0438 - val_accuracy: 0.7495 - lr: 0.0010 - 10s/epoch - 57ms/step
Epoch 34/50
176/176 - 10s - loss: 0.0059 - accuracy: 0.9609 - val_loss: 0.0453 - val_accuracy: 0.7400 - lr: 0.0010 - 10s/epoch - 56ms/step
Epoch 35/50
176/176 - 10s - loss: 0.0058 - accuracy: 0.9614 - val_loss: 0.0451 - val_accuracy: 0.7411 - lr: 0.0010 - 10s/epoch - 55ms/step
Epoch 36/50
176/176 - 10s - loss: 0.0057 - accuracy: 0.9626 - val_loss: 0.0442 - val_accuracy: 0.7476 - lr: 0.0010 - 10s/epoch - 55ms/step
Epoch 37/50
176/176 - 10s - loss: 0.0058 - accuracy: 0.9621 - val_loss: 0.0451 - val_accuracy: 0.7411 - lr: 0.0010 - 10s/epoch - 55ms/step
Epoch 38/50
176/176 - 10s - loss: 0.0056 - accuracy: 0.9630 - val_loss: 0.0430 - val_accuracy: 0.7537 - lr: 0.0010 - 10s/epoch - 56ms/step
Epoch 39/50
176/176 - 10s - loss: 0.0055 - accuracy: 0.9640 - val_loss: 0.0443 - val_accuracy: 0.7465 - lr: 0.0010 - 10s/epoch - 55ms/step
Epoch 40/50
176/176 - 10s - loss: 0.0055 - accuracy: 0.9642 - val_loss: 0.0451 - val_accuracy: 0.7407 - lr: 0.0010 - 10s/epoch - 55ms/step
Epoch 41/50
176/176 - 10s - loss: 0.0056 - accuracy: 0.9641 - val_loss: 0.0447 - val_accuracy: 0.7438 - lr: 0.0010 - 10s/epoch - 55ms/step
Epoch 42/50
176/176 - 10s - loss: 0.0056 - accuracy: 0.9634 - val_loss: 0.0446 - val_accuracy: 0.7458 - lr: 0.0010 - 10s/epoch - 55ms/step
Epoch 43/50
176/176 - 10s - loss: 0.0058 - accuracy: 0.9618 - val_loss: 0.0452 - val_accuracy: 0.7431 - lr: 0.0010 - 10s/epoch - 55ms/step
Epoch 44/50
176/176 - 10s - loss: 0.0058 - accuracy: 0.9616 - val_loss: 0.0466 - val_accuracy: 0.7340 - lr: 0.0010 - 10s/epoch - 56ms/step
Epoch 45/50
176/176 - 10s - loss: 0.0059 - accuracy: 0.9614 - val_loss: 0.0468 - val_accuracy: 0.7329 - lr: 0.0010 - 10s/epoch - 56ms/step
Epoch 46/50
176/176 - 10s - loss: 0.0058 - accuracy: 0.9616 - val_loss: 0.0440 - val_accuracy: 0.7472 - lr: 0.0010 - 10s/epoch - 56ms/step
Epoch 47/50
176/176 - 10s - loss: 0.0059 - accuracy: 0.9617 - val_loss: 0.0459 - val_accuracy: 0.7373 - lr: 0.0010 - 10s/epoch - 56ms/step
Epoch 48/50
176/176 - 10s - loss: 0.0060 - accuracy: 0.9606 - val_loss: 0.0452 - val_accuracy: 0.7417 - lr: 0.0010 - 10s/epoch - 57ms/step
Epoch 49/50
176/176 - 10s - loss: 0.0058 - accuracy: 0.9621 - val_loss: 0.0435 - val_accuracy: 0.7495 - lr: 0.0010 - 10s/epoch - 56ms/step
Epoch 50/50
176/176 - 10s - loss: 0.0058 - accuracy: 0.9619 - val_loss: 0.0432 - val_accuracy: 0.7505 - lr: 0.0010 - 10s/epoch - 55ms/step
Epoch 1/50
36/36 - 11s - loss: 0.0056 - accuracy: 0.9634 - val_loss: 0.0441 - val_accuracy: 0.7447 - lr: 0.0010 - 11s/epoch - 309ms/step
Epoch 2/50
36/36 - 9s - loss: 0.0049 - accuracy: 0.9688 - val_loss: 0.0435 - val_accuracy: 0.7495 - lr: 0.0010 - 9s/epoch - 246ms/step
Epoch 3/50
36/36 - 9s - loss: 0.0047 - accuracy: 0.9695 - val_loss: 0.0441 - val_accuracy: 0.7459 - lr: 0.0010 - 9s/epoch - 247ms/step
Epoch 4/50
36/36 - 9s - loss: 0.0045 - accuracy: 0.9705 - val_loss: 0.0450 - val_accuracy: 0.7416 - lr: 0.0010 - 9s/epoch - 247ms/step
Epoch 5/50
36/36 - 9s - loss: 0.0045 - accuracy: 0.9705 - val_loss: 0.0457 - val_accuracy: 0.7381 - lr: 0.0010 - 9s/epoch - 246ms/step
Epoch 6/50
36/36 - 9s - loss: 0.0045 - accuracy: 0.9706 - val_loss: 0.0454 - val_accuracy: 0.7403 - lr: 0.0010 - 9s/epoch - 247ms/step
Epoch 7/50
36/36 - 9s - loss: 0.0045 - accuracy: 0.9707 - val_loss: 0.0448 - val_accuracy: 0.7437 - lr: 0.0010 - 9s/epoch - 243ms/step
Epoch 8/50
36/36 - 9s - loss: 0.0045 - accuracy: 0.9707 - val_loss: 0.0464 - val_accuracy: 0.7350 - lr: 0.0010 - 9s/epoch - 241ms/step
Epoch 9/50
36/36 - 9s - loss: 0.0044 - accuracy: 0.9712 - val_loss: 0.0447 - val_accuracy: 0.7439 - lr: 0.0010 - 9s/epoch - 247ms/step
Epoch 10/50
36/36 - 9s - loss: 0.0043 - accuracy: 0.9722 - val_loss: 0.0465 - val_accuracy: 0.7352 - lr: 0.0010 - 9s/epoch - 245ms/step
Epoch 11/50
36/36 - 9s - loss: 0.0046 - accuracy: 0.9697 - val_loss: 0.0457 - val_accuracy: 0.7403 - lr: 0.0010 - 9s/epoch - 247ms/step
Epoch 12/50
36/36 - 9s - loss: 0.0044 - accuracy: 0.9716 - val_loss: 0.0460 - val_accuracy: 0.7371 - lr: 0.0010 - 9s/epoch - 246ms/step
Epoch 13/50
36/36 - 9s - loss: 0.0044 - accuracy: 0.9709 - val_loss: 0.0467 - val_accuracy: 0.7332 - lr: 0.0010 - 9s/epoch - 247ms/step
Epoch 14/50
36/36 - 9s - loss: 0.0043 - accuracy: 0.9721 - val_loss: 0.0477 - val_accuracy: 0.7284 - lr: 0.0010 - 9s/epoch - 245ms/step
Epoch 15/50
36/36 - 9s - loss: 0.0043 - accuracy: 0.9723 - val_loss: 0.0466 - val_accuracy: 0.7353 - lr: 0.0010 - 9s/epoch - 241ms/step
Epoch 16/50
36/36 - 9s - loss: 0.0043 - accuracy: 0.9718 - val_loss: 0.0474 - val_accuracy: 0.7322 - lr: 0.0010 - 9s/epoch - 242ms/step
Epoch 17/50
36/36 - 9s - loss: 0.0044 - accuracy: 0.9712 - val_loss: 0.0461 - val_accuracy: 0.7391 - lr: 0.0010 - 9s/epoch - 246ms/step
Epoch 18/50
36/36 - 9s - loss: 0.0044 - accuracy: 0.9714 - val_loss: 0.0457 - val_accuracy: 0.7408 - lr: 0.0010 - 9s/epoch - 247ms/step
Epoch 19/50
36/36 - 9s - loss: 0.0043 - accuracy: 0.9716 - val_loss: 0.0470 - val_accuracy: 0.7351 - lr: 0.0010 - 9s/epoch - 246ms/step
Epoch 20/50
36/36 - 9s - loss: 0.0044 - accuracy: 0.9712 - val_loss: 0.0462 - val_accuracy: 0.7394 - lr: 0.0010 - 9s/epoch - 247ms/step
Epoch 21/50
36/36 - 9s - loss: 0.0044 - accuracy: 0.9709 - val_loss: 0.0465 - val_accuracy: 0.7358 - lr: 0.0010 - 9s/epoch - 246ms/step
Epoch 22/50
36/36 - 9s - loss: 0.0043 - accuracy: 0.9722 - val_loss: 0.0474 - val_accuracy: 0.7308 - lr: 0.0010 - 9s/epoch - 243ms/step
Epoch 23/50
36/36 - 9s - loss: 0.0042 - accuracy: 0.9724 - val_loss: 0.0470 - val_accuracy: 0.7334 - lr: 0.0010 - 9s/epoch - 240ms/step
Epoch 24/50
36/36 - 9s - loss: 0.0044 - accuracy: 0.9717 - val_loss: 0.0452 - val_accuracy: 0.7446 - lr: 0.0010 - 9s/epoch - 246ms/step
Epoch 25/50
36/36 - 9s - loss: 0.0042 - accuracy: 0.9722 - val_loss: 0.0459 - val_accuracy: 0.7389 - lr: 0.0010 - 9s/epoch - 248ms/step
Epoch 26/50
36/36 - 9s - loss: 0.0041 - accuracy: 0.9732 - val_loss: 0.0472 - val_accuracy: 0.7324 - lr: 0.0010 - 9s/epoch - 247ms/step
Epoch 27/50
36/36 - 9s - loss: 0.0042 - accuracy: 0.9722 - val_loss: 0.0465 - val_accuracy: 0.7374 - lr: 0.0010 - 9s/epoch - 246ms/step
Epoch 28/50
36/36 - 9s - loss: 0.0042 - accuracy: 0.9725 - val_loss: 0.0470 - val_accuracy: 0.7344 - lr: 0.0010 - 9s/epoch - 248ms/step
Epoch 29/50
36/36 - 9s - loss: 0.0044 - accuracy: 0.9710 - val_loss: 0.0474 - val_accuracy: 0.7320 - lr: 0.0010 - 9s/epoch - 246ms/step
Epoch 30/50
36/36 - 9s - loss: 0.0042 - accuracy: 0.9727 - val_loss: 0.0469 - val_accuracy: 0.7335 - lr: 0.0010 - 9s/epoch - 242ms/step
Epoch 31/50
36/36 - 9s - loss: 0.0041 - accuracy: 0.9728 - val_loss: 0.0468 - val_accuracy: 0.7358 - lr: 0.0010 - 9s/epoch - 242ms/step
Epoch 32/50
36/36 - 9s - loss: 0.0041 - accuracy: 0.9730 - val_loss: 0.0465 - val_accuracy: 0.7383 - lr: 0.0010 - 9s/epoch - 246ms/step
Epoch 33/50
36/36 - 9s - loss: 0.0042 - accuracy: 0.9723 - val_loss: 0.0468 - val_accuracy: 0.7357 - lr: 0.0010 - 9s/epoch - 246ms/step
Epoch 34/50
36/36 - 9s - loss: 0.0042 - accuracy: 0.9720 - val_loss: 0.0462 - val_accuracy: 0.7400 - lr: 0.0010 - 9s/epoch - 246ms/step
Epoch 35/50
36/36 - 9s - loss: 0.0042 - accuracy: 0.9726 - val_loss: 0.0468 - val_accuracy: 0.7359 - lr: 0.0010 - 9s/epoch - 246ms/step
Epoch 36/50
36/36 - 9s - loss: 0.0041 - accuracy: 0.9736 - val_loss: 0.0470 - val_accuracy: 0.7344 - lr: 0.0010 - 9s/epoch - 246ms/step
Epoch 37/50
36/36 - 9s - loss: 0.0040 - accuracy: 0.9731 - val_loss: 0.0471 - val_accuracy: 0.7340 - lr: 0.0010 - 9s/epoch - 245ms/step
Epoch 38/50
36/36 - 9s - loss: 0.0041 - accuracy: 0.9728 - val_loss: 0.0482 - val_accuracy: 0.7283 - lr: 0.0010 - 9s/epoch - 241ms/step
Epoch 39/50
36/36 - 9s - loss: 0.0042 - accuracy: 0.9726 - val_loss: 0.0483 - val_accuracy: 0.7270 - lr: 0.0010 - 9s/epoch - 245ms/step
Epoch 40/50
36/36 - 9s - loss: 0.0041 - accuracy: 0.9731 - val_loss: 0.0485 - val_accuracy: 0.7276 - lr: 0.0010 - 9s/epoch - 247ms/step
Epoch 41/50
36/36 - 9s - loss: 0.0041 - accuracy: 0.9730 - val_loss: 0.0472 - val_accuracy: 0.7347 - lr: 0.0010 - 9s/epoch - 246ms/step
Epoch 42/50
36/36 - 9s - loss: 0.0042 - accuracy: 0.9725 - val_loss: 0.0472 - val_accuracy: 0.7345 - lr: 0.0010 - 9s/epoch - 247ms/step
Epoch 43/50
36/36 - 9s - loss: 0.0041 - accuracy: 0.9732 - val_loss: 0.0482 - val_accuracy: 0.7285 - lr: 0.0010 - 9s/epoch - 247ms/step
Epoch 44/50
36/36 - 9s - loss: 0.0041 - accuracy: 0.9732 - val_loss: 0.0474 - val_accuracy: 0.7330 - lr: 0.0010 - 9s/epoch - 247ms/step
Epoch 45/50
36/36 - 9s - loss: 0.0041 - accuracy: 0.9728 - val_loss: 0.0476 - val_accuracy: 0.7317 - lr: 0.0010 - 9s/epoch - 242ms/step
Epoch 46/50
36/36 - 9s - loss: 0.0041 - accuracy: 0.9732 - val_loss: 0.0468 - val_accuracy: 0.7365 - lr: 0.0010 - 9s/epoch - 242ms/step
Epoch 47/50
36/36 - 9s - loss: 0.0040 - accuracy: 0.9738 - val_loss: 0.0478 - val_accuracy: 0.7315 - lr: 0.0010 - 9s/epoch - 247ms/step
Epoch 48/50
36/36 - 9s - loss: 0.0040 - accuracy: 0.9732 - val_loss: 0.0470 - val_accuracy: 0.7352 - lr: 0.0010 - 9s/epoch - 246ms/step
Epoch 49/50
36/36 - 9s - loss: 0.0041 - accuracy: 0.9729 - val_loss: 0.0469 - val_accuracy: 0.7363 - lr: 0.0010 - 9s/epoch - 245ms/step
Epoch 50/50
36/36 - 9s - loss: 0.0040 - accuracy: 0.9740 - val_loss: 0.0466 - val_accuracy: 0.7391 - lr: 0.0010 - 9s/epoch - 244ms/step
Epoch 1/75
4378/4378 - 77s - loss: 0.0135 - accuracy: 0.9120 - val_loss: 0.0468 - val_accuracy: 0.7248 - lr: 0.0010 - 77s/epoch - 18ms/step
Epoch 2/75
4378/4378 - 74s - loss: 0.0148 - accuracy: 0.9006 - val_loss: 0.0390 - val_accuracy: 0.7626 - lr: 0.0010 - 74s/epoch - 17ms/step
Epoch 3/75
4378/4378 - 74s - loss: 0.0139 - accuracy: 0.9061 - val_loss: 0.0401 - val_accuracy: 0.7529 - lr: 0.0010 - 74s/epoch - 17ms/step
Epoch 4/75
4378/4378 - 75s - loss: 0.0142 - accuracy: 0.9034 - val_loss: 0.0371 - val_accuracy: 0.7733 - lr: 0.0010 - 75s/epoch - 17ms/step
Epoch 5/75
4378/4378 - 74s - loss: 0.0145 - accuracy: 0.9018 - val_loss: 0.0344 - val_accuracy: 0.7833 - lr: 0.0010 - 74s/epoch - 17ms/step
Epoch 6/75
4378/4378 - 77s - loss: 0.0142 - accuracy: 0.9033 - val_loss: 0.0343 - val_accuracy: 0.7873 - lr: 0.0010 - 77s/epoch - 18ms/step
Epoch 7/75
4378/4378 - 75s - loss: 0.0141 - accuracy: 0.9041 - val_loss: 0.0418 - val_accuracy: 0.7426 - lr: 0.0010 - 75s/epoch - 17ms/step
Epoch 8/75
4378/4378 - 75s - loss: 0.0143 - accuracy: 0.9031 - val_loss: 0.0367 - val_accuracy: 0.7677 - lr: 0.0010 - 75s/epoch - 17ms/step
Epoch 9/75
4378/4378 - 74s - loss: 0.0143 - accuracy: 0.9025 - val_loss: 0.0383 - val_accuracy: 0.7606 - lr: 0.0010 - 74s/epoch - 17ms/step
Epoch 10/75
4378/4378 - 74s - loss: 0.0142 - accuracy: 0.9027 - val_loss: 0.0410 - val_accuracy: 0.7402 - lr: 0.0010 - 74s/epoch - 17ms/step
Epoch 11/75
4378/4378 - 74s - loss: 0.0144 - accuracy: 0.9016 - val_loss: 0.0347 - val_accuracy: 0.7819 - lr: 0.0010 - 74s/epoch - 17ms/step
Epoch 12/75
4378/4378 - 74s - loss: 0.0141 - accuracy: 0.9040 - val_loss: 0.0393 - val_accuracy: 0.7521 - lr: 0.0010 - 74s/epoch - 17ms/step
Epoch 13/75
4378/4378 - 75s - loss: 0.0142 - accuracy: 0.9030 - val_loss: 0.0389 - val_accuracy: 0.7567 - lr: 0.0010 - 75s/epoch - 17ms/step
Epoch 14/75
4378/4378 - 74s - loss: 0.0141 - accuracy: 0.9039 - val_loss: 0.0374 - val_accuracy: 0.7615 - lr: 0.0010 - 74s/epoch - 17ms/step
Epoch 15/75
4378/4378 - 75s - loss: 0.0144 - accuracy: 0.9020 - val_loss: 0.0357 - val_accuracy: 0.7740 - lr: 0.0010 - 75s/epoch - 17ms/step
Epoch 16/75
4378/4378 - 74s - loss: 0.0143 - accuracy: 0.9023 - val_loss: 0.0339 - val_accuracy: 0.7815 - lr: 0.0010 - 74s/epoch - 17ms/step
Epoch 17/75
4378/4378 - 74s - loss: 0.0142 - accuracy: 0.9035 - val_loss: 0.0391 - val_accuracy: 0.7569 - lr: 0.0010 - 74s/epoch - 17ms/step
Epoch 18/75
4378/4378 - 74s - loss: 0.0144 - accuracy: 0.9027 - val_loss: 0.0346 - val_accuracy: 0.7778 - lr: 0.0010 - 74s/epoch - 17ms/step
Epoch 19/75
4378/4378 - 74s - loss: 0.0144 - accuracy: 0.9013 - val_loss: 0.0387 - val_accuracy: 0.7567 - lr: 0.0010 - 74s/epoch - 17ms/step
Epoch 20/75
4378/4378 - 74s - loss: 0.0144 - accuracy: 0.9014 - val_loss: 0.0356 - val_accuracy: 0.7739 - lr: 0.0010 - 74s/epoch - 17ms/step
Epoch 21/75
4378/4378 - 74s - loss: 0.0145 - accuracy: 0.9004 - val_loss: 0.0356 - val_accuracy: 0.7735 - lr: 0.0010 - 74s/epoch - 17ms/step
Epoch 22/75
4378/4378 - 74s - loss: 0.0142 - accuracy: 0.9031 - val_loss: 0.0388 - val_accuracy: 0.7568 - lr: 0.0010 - 74s/epoch - 17ms/step
Epoch 23/75
4378/4378 - 74s - loss: 0.0143 - accuracy: 0.9031 - val_loss: 0.0342 - val_accuracy: 0.7825 - lr: 0.0010 - 74s/epoch - 17ms/step
Epoch 24/75
4378/4378 - 74s - loss: 0.0140 - accuracy: 0.9045 - val_loss: 0.0361 - val_accuracy: 0.7739 - lr: 0.0010 - 74s/epoch - 17ms/step
Epoch 25/75
4378/4378 - 74s - loss: 0.0140 - accuracy: 0.9044 - val_loss: 0.0375 - val_accuracy: 0.7653 - lr: 0.0010 - 74s/epoch - 17ms/step
Epoch 26/75
4378/4378 - 74s - loss: 0.0141 - accuracy: 0.9043 - val_loss: 0.0375 - val_accuracy: 0.7629 - lr: 0.0010 - 74s/epoch - 17ms/step
Epoch 27/75
4378/4378 - 74s - loss: 0.0144 - accuracy: 0.9018 - val_loss: 0.0349 - val_accuracy: 0.7776 - lr: 0.0010 - 74s/epoch - 17ms/step
Epoch 28/75
4378/4378 - 74s - loss: 0.0145 - accuracy: 0.9023 - val_loss: 0.0363 - val_accuracy: 0.7736 - lr: 0.0010 - 74s/epoch - 17ms/step
Epoch 29/75
4378/4378 - 74s - loss: 0.0143 - accuracy: 0.9026 - val_loss: 0.0375 - val_accuracy: 0.7617 - lr: 0.0010 - 74s/epoch - 17ms/step
Epoch 30/75
4378/4378 - 74s - loss: 0.0141 - accuracy: 0.9040 - val_loss: 0.0360 - val_accuracy: 0.7743 - lr: 0.0010 - 74s/epoch - 17ms/step
Epoch 31/75
4378/4378 - 74s - loss: 0.0141 - accuracy: 0.9043 - val_loss: 0.0419 - val_accuracy: 0.7383 - lr: 0.0010 - 74s/epoch - 17ms/step
Epoch 32/75
4378/4378 - 74s - loss: 0.0140 - accuracy: 0.9046 - val_loss: 0.0386 - val_accuracy: 0.7600 - lr: 0.0010 - 74s/epoch - 17ms/step
Epoch 33/75
4378/4378 - 74s - loss: 0.0141 - accuracy: 0.9037 - val_loss: 0.0358 - val_accuracy: 0.7696 - lr: 0.0010 - 74s/epoch - 17ms/step
Epoch 34/75
4378/4378 - 74s - loss: 0.0142 - accuracy: 0.9034 - val_loss: 0.0367 - val_accuracy: 0.7695 - lr: 0.0010 - 74s/epoch - 17ms/step
Epoch 35/75
4378/4378 - 74s - loss: 0.0142 - accuracy: 0.9028 - val_loss: 0.0383 - val_accuracy: 0.7581 - lr: 0.0010 - 74s/epoch - 17ms/step
Epoch 36/75
4378/4378 - 74s - loss: 0.0140 - accuracy: 0.9060 - val_loss: 0.0380 - val_accuracy: 0.7611 - lr: 0.0010 - 74s/epoch - 17ms/step
Epoch 37/75
4378/4378 - 74s - loss: 0.0142 - accuracy: 0.9035 - val_loss: 0.0378 - val_accuracy: 0.7633 - lr: 0.0010 - 74s/epoch - 17ms/step
Epoch 38/75
4378/4378 - 74s - loss: 0.0142 - accuracy: 0.9030 - val_loss: 0.0384 - val_accuracy: 0.7585 - lr: 0.0010 - 74s/epoch - 17ms/step
Epoch 39/75
4378/4378 - 74s - loss: 0.0139 - accuracy: 0.9048 - val_loss: 0.0378 - val_accuracy: 0.7651 - lr: 0.0010 - 74s/epoch - 17ms/step
Epoch 40/75
4378/4378 - 74s - loss: 0.0139 - accuracy: 0.9061 - val_loss: 0.0403 - val_accuracy: 0.7451 - lr: 0.0010 - 74s/epoch - 17ms/step
Epoch 41/75
4378/4378 - 74s - loss: 0.0140 - accuracy: 0.9047 - val_loss: 0.0381 - val_accuracy: 0.7628 - lr: 0.0010 - 74s/epoch - 17ms/step
Epoch 42/75
4378/4378 - 74s - loss: 0.0140 - accuracy: 0.9054 - val_loss: 0.0415 - val_accuracy: 0.7433 - lr: 0.0010 - 74s/epoch - 17ms/step
Epoch 43/75
4378/4378 - 74s - loss: 0.0144 - accuracy: 0.9016 - val_loss: 0.0350 - val_accuracy: 0.7729 - lr: 0.0010 - 74s/epoch - 17ms/step
Epoch 44/75
4378/4378 - 74s - loss: 0.0141 - accuracy: 0.9046 - val_loss: 0.0343 - val_accuracy: 0.7817 - lr: 0.0010 - 74s/epoch - 17ms/step
Epoch 45/75
4378/4378 - 74s - loss: 0.0142 - accuracy: 0.9037 - val_loss: 0.0365 - val_accuracy: 0.7675 - lr: 0.0010 - 74s/epoch - 17ms/step
Epoch 46/75
4378/4378 - 74s - loss: 0.0143 - accuracy: 0.9023 - val_loss: 0.0376 - val_accuracy: 0.7622 - lr: 0.0010 - 74s/epoch - 17ms/step
Epoch 47/75
4378/4378 - 74s - loss: 0.0141 - accuracy: 0.9042 - val_loss: 0.0415 - val_accuracy: 0.7447 - lr: 0.0010 - 74s/epoch - 17ms/step
Epoch 48/75
4378/4378 - 74s - loss: 0.0143 - accuracy: 0.9024 - val_loss: 0.0383 - val_accuracy: 0.7619 - lr: 0.0010 - 74s/epoch - 17ms/step
Epoch 49/75
4378/4378 - 74s - loss: 0.0141 - accuracy: 0.9041 - val_loss: 0.0383 - val_accuracy: 0.7581 - lr: 0.0010 - 74s/epoch - 17ms/step
Epoch 50/75
4378/4378 - 74s - loss: 0.0142 - accuracy: 0.9036 - val_loss: 0.0406 - val_accuracy: 0.7470 - lr: 0.0010 - 74s/epoch - 17ms/step
Epoch 51/75
4378/4378 - 74s - loss: 0.0141 - accuracy: 0.9040 - val_loss: 0.0384 - val_accuracy: 0.7591 - lr: 0.0010 - 74s/epoch - 17ms/step
Epoch 52/75
4378/4378 - 74s - loss: 0.0141 - accuracy: 0.9041 - val_loss: 0.0411 - val_accuracy: 0.7484 - lr: 0.0010 - 74s/epoch - 17ms/step
Epoch 53/75
4378/4378 - 74s - loss: 0.0143 - accuracy: 0.9026 - val_loss: 0.0353 - val_accuracy: 0.7793 - lr: 0.0010 - 74s/epoch - 17ms/step
Epoch 54/75
4378/4378 - 74s - loss: 0.0142 - accuracy: 0.9040 - val_loss: 0.0437 - val_accuracy: 0.7256 - lr: 0.0010 - 74s/epoch - 17ms/step
Epoch 55/75
4378/4378 - 74s - loss: 0.0144 - accuracy: 0.9019 - val_loss: 0.0376 - val_accuracy: 0.7640 - lr: 0.0010 - 74s/epoch - 17ms/step
Epoch 56/75
4378/4378 - 74s - loss: 0.0140 - accuracy: 0.9046 - val_loss: 0.0375 - val_accuracy: 0.7647 - lr: 0.0010 - 74s/epoch - 17ms/step
Epoch 57/75
4378/4378 - 74s - loss: 0.0143 - accuracy: 0.9027 - val_loss: 0.0384 - val_accuracy: 0.7565 - lr: 0.0010 - 74s/epoch - 17ms/step
Epoch 58/75
4378/4378 - 74s - loss: 0.0141 - accuracy: 0.9043 - val_loss: 0.0428 - val_accuracy: 0.7326 - lr: 0.0010 - 74s/epoch - 17ms/step
Epoch 59/75
4378/4378 - 74s - loss: 0.0142 - accuracy: 0.9037 - val_loss: 0.0361 - val_accuracy: 0.7725 - lr: 0.0010 - 74s/epoch - 17ms/step
Epoch 60/75
4378/4378 - 74s - loss: 0.0141 - accuracy: 0.9038 - val_loss: 0.0336 - val_accuracy: 0.7886 - lr: 0.0010 - 74s/epoch - 17ms/step
Epoch 61/75
4378/4378 - 74s - loss: 0.0138 - accuracy: 0.9058 - val_loss: 0.0362 - val_accuracy: 0.7743 - lr: 0.0010 - 74s/epoch - 17ms/step
Epoch 62/75
4378/4378 - 74s - loss: 0.0141 - accuracy: 0.9040 - val_loss: 0.0357 - val_accuracy: 0.7775 - lr: 0.0010 - 74s/epoch - 17ms/step
Epoch 63/75
4378/4378 - 74s - loss: 0.0141 - accuracy: 0.9046 - val_loss: 0.0334 - val_accuracy: 0.7891 - lr: 0.0010 - 74s/epoch - 17ms/step
Epoch 64/75
4378/4378 - 74s - loss: 0.0140 - accuracy: 0.9049 - val_loss: 0.0414 - val_accuracy: 0.7442 - lr: 0.0010 - 74s/epoch - 17ms/step
Epoch 65/75
4378/4378 - 74s - loss: 0.0139 - accuracy: 0.9057 - val_loss: 0.0386 - val_accuracy: 0.7569 - lr: 0.0010 - 74s/epoch - 17ms/step
Epoch 66/75
4378/4378 - 74s - loss: 0.0141 - accuracy: 0.9040 - val_loss: 0.0374 - val_accuracy: 0.7699 - lr: 0.0010 - 74s/epoch - 17ms/step
Epoch 67/75
4378/4378 - 74s - loss: 0.0140 - accuracy: 0.9051 - val_loss: 0.0355 - val_accuracy: 0.7754 - lr: 0.0010 - 74s/epoch - 17ms/step
Epoch 68/75
4378/4378 - 74s - loss: 0.0140 - accuracy: 0.9048 - val_loss: 0.0410 - val_accuracy: 0.7436 - lr: 0.0010 - 74s/epoch - 17ms/step
Epoch 69/75
4378/4378 - 74s - loss: 0.0142 - accuracy: 0.9026 - val_loss: 0.0332 - val_accuracy: 0.7879 - lr: 0.0010 - 74s/epoch - 17ms/step
Epoch 70/75
4378/4378 - 74s - loss: 0.0141 - accuracy: 0.9041 - val_loss: 0.0367 - val_accuracy: 0.7693 - lr: 0.0010 - 74s/epoch - 17ms/step
Epoch 71/75
4378/4378 - 74s - loss: 0.0138 - accuracy: 0.9068 - val_loss: 0.0384 - val_accuracy: 0.7580 - lr: 0.0010 - 74s/epoch - 17ms/step
Epoch 72/75
4378/4378 - 74s - loss: 0.0142 - accuracy: 0.9042 - val_loss: 0.0395 - val_accuracy: 0.7481 - lr: 0.0010 - 74s/epoch - 17ms/step
Epoch 73/75
4378/4378 - 74s - loss: 0.0143 - accuracy: 0.9030 - val_loss: 0.0356 - val_accuracy: 0.7747 - lr: 0.0010 - 74s/epoch - 17ms/step
Epoch 74/75
4378/4378 - 74s - loss: 0.0139 - accuracy: 0.9056 - val_loss: 0.0373 - val_accuracy: 0.7619 - lr: 0.0010 - 74s/epoch - 17ms/step
Epoch 75/75
4378/4378 - 74s - loss: 0.0140 - accuracy: 0.9053 - val_loss: 0.0361 - val_accuracy: 0.7701 - lr: 0.0010 - 74s/epoch - 17ms/step
Epoch 1/75
876/876 - 21s - loss: 0.0099 - accuracy: 0.9348 - val_loss: 0.0360 - val_accuracy: 0.7767 - lr: 0.0010 - 21s/epoch - 24ms/step
Epoch 2/75
876/876 - 18s - loss: 0.0097 - accuracy: 0.9352 - val_loss: 0.0411 - val_accuracy: 0.7474 - lr: 0.0010 - 18s/epoch - 21ms/step
Epoch 3/75
876/876 - 18s - loss: 0.0101 - accuracy: 0.9326 - val_loss: 0.0396 - val_accuracy: 0.7558 - lr: 0.0010 - 18s/epoch - 21ms/step
Epoch 4/75
876/876 - 18s - loss: 0.0100 - accuracy: 0.9331 - val_loss: 0.0366 - val_accuracy: 0.7724 - lr: 0.0010 - 18s/epoch - 21ms/step
Epoch 5/75
876/876 - 18s - loss: 0.0096 - accuracy: 0.9364 - val_loss: 0.0420 - val_accuracy: 0.7443 - lr: 0.0010 - 18s/epoch - 21ms/step
Epoch 6/75
876/876 - 18s - loss: 0.0095 - accuracy: 0.9366 - val_loss: 0.0394 - val_accuracy: 0.7632 - lr: 0.0010 - 18s/epoch - 21ms/step
Epoch 7/75
876/876 - 18s - loss: 0.0096 - accuracy: 0.9362 - val_loss: 0.0399 - val_accuracy: 0.7586 - lr: 0.0010 - 18s/epoch - 21ms/step
Epoch 8/75
876/876 - 18s - loss: 0.0094 - accuracy: 0.9372 - val_loss: 0.0372 - val_accuracy: 0.7744 - lr: 0.0010 - 18s/epoch - 21ms/step
Epoch 9/75
876/876 - 18s - loss: 0.0093 - accuracy: 0.9386 - val_loss: 0.0385 - val_accuracy: 0.7673 - lr: 0.0010 - 18s/epoch - 21ms/step
Epoch 10/75
876/876 - 18s - loss: 0.0093 - accuracy: 0.9380 - val_loss: 0.0377 - val_accuracy: 0.7690 - lr: 0.0010 - 18s/epoch - 21ms/step
Epoch 11/75
876/876 - 18s - loss: 0.0092 - accuracy: 0.9387 - val_loss: 0.0407 - val_accuracy: 0.7564 - lr: 0.0010 - 18s/epoch - 21ms/step
Epoch 12/75
876/876 - 18s - loss: 0.0094 - accuracy: 0.9375 - val_loss: 0.0406 - val_accuracy: 0.7555 - lr: 0.0010 - 18s/epoch - 21ms/step
Epoch 13/75
876/876 - 18s - loss: 0.0092 - accuracy: 0.9392 - val_loss: 0.0428 - val_accuracy: 0.7414 - lr: 0.0010 - 18s/epoch - 21ms/step
Epoch 14/75
876/876 - 18s - loss: 0.0093 - accuracy: 0.9385 - val_loss: 0.0420 - val_accuracy: 0.7468 - lr: 0.0010 - 18s/epoch - 21ms/step
Epoch 15/75
876/876 - 18s - loss: 0.0093 - accuracy: 0.9388 - val_loss: 0.0392 - val_accuracy: 0.7628 - lr: 0.0010 - 18s/epoch - 21ms/step
Epoch 16/75
876/876 - 18s - loss: 0.0092 - accuracy: 0.9395 - val_loss: 0.0407 - val_accuracy: 0.7534 - lr: 0.0010 - 18s/epoch - 21ms/step
Epoch 17/75
876/876 - 18s - loss: 0.0091 - accuracy: 0.9401 - val_loss: 0.0400 - val_accuracy: 0.7585 - lr: 0.0010 - 18s/epoch - 21ms/step
Epoch 18/75
876/876 - 18s - loss: 0.0092 - accuracy: 0.9397 - val_loss: 0.0415 - val_accuracy: 0.7479 - lr: 0.0010 - 18s/epoch - 21ms/step
Epoch 19/75
876/876 - 18s - loss: 0.0093 - accuracy: 0.9382 - val_loss: 0.0398 - val_accuracy: 0.7592 - lr: 0.0010 - 18s/epoch - 21ms/step
Epoch 20/75
876/876 - 18s - loss: 0.0089 - accuracy: 0.9415 - val_loss: 0.0414 - val_accuracy: 0.7496 - lr: 0.0010 - 18s/epoch - 21ms/step
Epoch 21/75
876/876 - 18s - loss: 0.0090 - accuracy: 0.9404 - val_loss: 0.0427 - val_accuracy: 0.7437 - lr: 0.0010 - 18s/epoch - 21ms/step
Epoch 22/75
876/876 - 18s - loss: 0.0088 - accuracy: 0.9418 - val_loss: 0.0424 - val_accuracy: 0.7445 - lr: 0.0010 - 18s/epoch - 21ms/step
Epoch 23/75
876/876 - 18s - loss: 0.0090 - accuracy: 0.9409 - val_loss: 0.0405 - val_accuracy: 0.7560 - lr: 0.0010 - 18s/epoch - 21ms/step
Epoch 24/75
876/876 - 18s - loss: 0.0090 - accuracy: 0.9404 - val_loss: 0.0420 - val_accuracy: 0.7482 - lr: 0.0010 - 18s/epoch - 21ms/step
Epoch 25/75
876/876 - 18s - loss: 0.0086 - accuracy: 0.9437 - val_loss: 0.0400 - val_accuracy: 0.7606 - lr: 0.0010 - 18s/epoch - 21ms/step
Epoch 26/75
876/876 - 18s - loss: 0.0089 - accuracy: 0.9420 - val_loss: 0.0422 - val_accuracy: 0.7461 - lr: 0.0010 - 18s/epoch - 21ms/step
Epoch 27/75
876/876 - 18s - loss: 0.0087 - accuracy: 0.9431 - val_loss: 0.0419 - val_accuracy: 0.7495 - lr: 0.0010 - 18s/epoch - 21ms/step
Epoch 28/75
876/876 - 18s - loss: 0.0087 - accuracy: 0.9425 - val_loss: 0.0428 - val_accuracy: 0.7457 - lr: 0.0010 - 18s/epoch - 21ms/step
Epoch 29/75
876/876 - 18s - loss: 0.0083 - accuracy: 0.9450 - val_loss: 0.0437 - val_accuracy: 0.7408 - lr: 0.0010 - 18s/epoch - 21ms/step
Epoch 30/75
876/876 - 18s - loss: 0.0090 - accuracy: 0.9405 - val_loss: 0.0453 - val_accuracy: 0.7281 - lr: 0.0010 - 18s/epoch - 21ms/step
Epoch 31/75
876/876 - 18s - loss: 0.0087 - accuracy: 0.9426 - val_loss: 0.0440 - val_accuracy: 0.7400 - lr: 0.0010 - 18s/epoch - 21ms/step
Epoch 32/75
876/876 - 18s - loss: 0.0087 - accuracy: 0.9423 - val_loss: 0.0414 - val_accuracy: 0.7547 - lr: 0.0010 - 18s/epoch - 21ms/step
Epoch 33/75
876/876 - 18s - loss: 0.0090 - accuracy: 0.9402 - val_loss: 0.0411 - val_accuracy: 0.7543 - lr: 0.0010 - 18s/epoch - 21ms/step
Epoch 34/75
876/876 - 18s - loss: 0.0086 - accuracy: 0.9434 - val_loss: 0.0425 - val_accuracy: 0.7476 - lr: 0.0010 - 18s/epoch - 21ms/step
Epoch 35/75
876/876 - 18s - loss: 0.0088 - accuracy: 0.9416 - val_loss: 0.0430 - val_accuracy: 0.7442 - lr: 0.0010 - 18s/epoch - 21ms/step
Epoch 36/75
876/876 - 18s - loss: 0.0086 - accuracy: 0.9430 - val_loss: 0.0433 - val_accuracy: 0.7411 - lr: 0.0010 - 18s/epoch - 21ms/step
Epoch 37/75
876/876 - 18s - loss: 0.0090 - accuracy: 0.9409 - val_loss: 0.0413 - val_accuracy: 0.7528 - lr: 0.0010 - 18s/epoch - 21ms/step
Epoch 38/75
876/876 - 18s - loss: 0.0089 - accuracy: 0.9415 - val_loss: 0.0442 - val_accuracy: 0.7369 - lr: 0.0010 - 18s/epoch - 21ms/step
Epoch 39/75
876/876 - 18s - loss: 0.0086 - accuracy: 0.9433 - val_loss: 0.0420 - val_accuracy: 0.7515 - lr: 0.0010 - 18s/epoch - 21ms/step
Epoch 40/75
876/876 - 18s - loss: 0.0086 - accuracy: 0.9434 - val_loss: 0.0425 - val_accuracy: 0.7472 - lr: 0.0010 - 18s/epoch - 21ms/step
Epoch 41/75
876/876 - 18s - loss: 0.0087 - accuracy: 0.9421 - val_loss: 0.0402 - val_accuracy: 0.7589 - lr: 0.0010 - 18s/epoch - 21ms/step
Epoch 42/75
876/876 - 18s - loss: 0.0087 - accuracy: 0.9422 - val_loss: 0.0421 - val_accuracy: 0.7494 - lr: 0.0010 - 18s/epoch - 21ms/step
Epoch 43/75
876/876 - 18s - loss: 0.0090 - accuracy: 0.9409 - val_loss: 0.0426 - val_accuracy: 0.7458 - lr: 0.0010 - 18s/epoch - 21ms/step
Epoch 44/75
876/876 - 18s - loss: 0.0087 - accuracy: 0.9428 - val_loss: 0.0396 - val_accuracy: 0.7630 - lr: 0.0010 - 18s/epoch - 21ms/step
Epoch 45/75
876/876 - 18s - loss: 0.0088 - accuracy: 0.9419 - val_loss: 0.0433 - val_accuracy: 0.7444 - lr: 0.0010 - 18s/epoch - 21ms/step
Epoch 46/75
876/876 - 18s - loss: 0.0087 - accuracy: 0.9429 - val_loss: 0.0397 - val_accuracy: 0.7609 - lr: 0.0010 - 18s/epoch - 21ms/step
Epoch 47/75
876/876 - 18s - loss: 0.0086 - accuracy: 0.9430 - val_loss: 0.0401 - val_accuracy: 0.7620 - lr: 0.0010 - 18s/epoch - 21ms/step
Epoch 48/75
876/876 - 18s - loss: 0.0088 - accuracy: 0.9418 - val_loss: 0.0443 - val_accuracy: 0.7361 - lr: 0.0010 - 18s/epoch - 21ms/step
Epoch 49/75
876/876 - 18s - loss: 0.0087 - accuracy: 0.9428 - val_loss: 0.0404 - val_accuracy: 0.7568 - lr: 0.0010 - 18s/epoch - 21ms/step
Epoch 50/75
876/876 - 18s - loss: 0.0087 - accuracy: 0.9430 - val_loss: 0.0424 - val_accuracy: 0.7463 - lr: 0.0010 - 18s/epoch - 21ms/step
Epoch 51/75
876/876 - 18s - loss: 0.0086 - accuracy: 0.9436 - val_loss: 0.0411 - val_accuracy: 0.7541 - lr: 0.0010 - 18s/epoch - 21ms/step
Epoch 52/75
876/876 - 18s - loss: 0.0085 - accuracy: 0.9440 - val_loss: 0.0418 - val_accuracy: 0.7521 - lr: 0.0010 - 18s/epoch - 21ms/step
Epoch 53/75
876/876 - 18s - loss: 0.0087 - accuracy: 0.9426 - val_loss: 0.0410 - val_accuracy: 0.7553 - lr: 0.0010 - 18s/epoch - 21ms/step
Epoch 54/75
876/876 - 18s - loss: 0.0086 - accuracy: 0.9433 - val_loss: 0.0422 - val_accuracy: 0.7479 - lr: 0.0010 - 18s/epoch - 21ms/step
Epoch 55/75
876/876 - 18s - loss: 0.0086 - accuracy: 0.9436 - val_loss: 0.0439 - val_accuracy: 0.7394 - lr: 0.0010 - 18s/epoch - 21ms/step
Epoch 56/75
876/876 - 18s - loss: 0.0084 - accuracy: 0.9445 - val_loss: 0.0428 - val_accuracy: 0.7451 - lr: 0.0010 - 18s/epoch - 21ms/step
Epoch 57/75
876/876 - 18s - loss: 0.0087 - accuracy: 0.9429 - val_loss: 0.0402 - val_accuracy: 0.7594 - lr: 0.0010 - 18s/epoch - 21ms/step
Epoch 58/75
876/876 - 18s - loss: 0.0085 - accuracy: 0.9435 - val_loss: 0.0421 - val_accuracy: 0.7515 - lr: 0.0010 - 18s/epoch - 21ms/step
Epoch 59/75
876/876 - 18s - loss: 0.0086 - accuracy: 0.9434 - val_loss: 0.0429 - val_accuracy: 0.7477 - lr: 0.0010 - 18s/epoch - 21ms/step
Epoch 60/75
876/876 - 18s - loss: 0.0088 - accuracy: 0.9421 - val_loss: 0.0443 - val_accuracy: 0.7372 - lr: 0.0010 - 18s/epoch - 21ms/step
Epoch 61/75
876/876 - 18s - loss: 0.0087 - accuracy: 0.9431 - val_loss: 0.0434 - val_accuracy: 0.7401 - lr: 0.0010 - 18s/epoch - 21ms/step
Epoch 62/75
876/876 - 18s - loss: 0.0086 - accuracy: 0.9430 - val_loss: 0.0410 - val_accuracy: 0.7546 - lr: 0.0010 - 18s/epoch - 21ms/step
Epoch 63/75
876/876 - 18s - loss: 0.0086 - accuracy: 0.9436 - val_loss: 0.0454 - val_accuracy: 0.7310 - lr: 0.0010 - 18s/epoch - 21ms/step
Epoch 64/75
876/876 - 18s - loss: 0.0085 - accuracy: 0.9435 - val_loss: 0.0412 - val_accuracy: 0.7557 - lr: 0.0010 - 18s/epoch - 21ms/step
Epoch 65/75
876/876 - 18s - loss: 0.0085 - accuracy: 0.9444 - val_loss: 0.0416 - val_accuracy: 0.7506 - lr: 0.0010 - 18s/epoch - 21ms/step
Epoch 66/75
876/876 - 18s - loss: 0.0088 - accuracy: 0.9417 - val_loss: 0.0410 - val_accuracy: 0.7549 - lr: 0.0010 - 18s/epoch - 21ms/step
Epoch 67/75
876/876 - 18s - loss: 0.0085 - accuracy: 0.9437 - val_loss: 0.0411 - val_accuracy: 0.7542 - lr: 0.0010 - 18s/epoch - 21ms/step
Epoch 68/75
876/876 - 18s - loss: 0.0087 - accuracy: 0.9424 - val_loss: 0.0440 - val_accuracy: 0.7377 - lr: 0.0010 - 18s/epoch - 21ms/step
Epoch 69/75
876/876 - 18s - loss: 0.0085 - accuracy: 0.9447 - val_loss: 0.0434 - val_accuracy: 0.7398 - lr: 0.0010 - 18s/epoch - 21ms/step
Epoch 70/75
876/876 - 18s - loss: 0.0088 - accuracy: 0.9416 - val_loss: 0.0406 - val_accuracy: 0.7568 - lr: 0.0010 - 18s/epoch - 21ms/step
Epoch 71/75
876/876 - 18s - loss: 0.0085 - accuracy: 0.9436 - val_loss: 0.0415 - val_accuracy: 0.7501 - lr: 0.0010 - 18s/epoch - 21ms/step
Epoch 72/75
876/876 - 18s - loss: 0.0085 - accuracy: 0.9438 - val_loss: 0.0435 - val_accuracy: 0.7402 - lr: 0.0010 - 18s/epoch - 21ms/step
Epoch 73/75
876/876 - 18s - loss: 0.0085 - accuracy: 0.9440 - val_loss: 0.0417 - val_accuracy: 0.7526 - lr: 0.0010 - 18s/epoch - 21ms/step
Epoch 74/75
876/876 - 18s - loss: 0.0085 - accuracy: 0.9440 - val_loss: 0.0418 - val_accuracy: 0.7527 - lr: 0.0010 - 18s/epoch - 21ms/step
Epoch 75/75
876/876 - 18s - loss: 0.0085 - accuracy: 0.9433 - val_loss: 0.0418 - val_accuracy: 0.7515 - lr: 0.0010 - 18s/epoch - 21ms/step
Epoch 1/75
176/176 - 12s - loss: 0.0066 - accuracy: 0.9567 - val_loss: 0.0416 - val_accuracy: 0.7527 - lr: 0.0010 - 12s/epoch - 69ms/step
Epoch 2/75
176/176 - 10s - loss: 0.0059 - accuracy: 0.9622 - val_loss: 0.0416 - val_accuracy: 0.7537 - lr: 0.0010 - 10s/epoch - 57ms/step
Epoch 3/75
176/176 - 10s - loss: 0.0055 - accuracy: 0.9650 - val_loss: 0.0425 - val_accuracy: 0.7499 - lr: 0.0010 - 10s/epoch - 56ms/step
Epoch 4/75
176/176 - 10s - loss: 0.0057 - accuracy: 0.9637 - val_loss: 0.0439 - val_accuracy: 0.7427 - lr: 0.0010 - 10s/epoch - 55ms/step
Epoch 5/75
176/176 - 10s - loss: 0.0056 - accuracy: 0.9639 - val_loss: 0.0442 - val_accuracy: 0.7406 - lr: 0.0010 - 10s/epoch - 55ms/step
Epoch 6/75
176/176 - 10s - loss: 0.0056 - accuracy: 0.9644 - val_loss: 0.0434 - val_accuracy: 0.7460 - lr: 0.0010 - 10s/epoch - 56ms/step
Epoch 7/75
176/176 - 10s - loss: 0.0058 - accuracy: 0.9626 - val_loss: 0.0446 - val_accuracy: 0.7396 - lr: 0.0010 - 10s/epoch - 55ms/step
Epoch 8/75
176/176 - 10s - loss: 0.0060 - accuracy: 0.9617 - val_loss: 0.0426 - val_accuracy: 0.7497 - lr: 0.0010 - 10s/epoch - 55ms/step
Epoch 9/75
176/176 - 10s - loss: 0.0059 - accuracy: 0.9619 - val_loss: 0.0429 - val_accuracy: 0.7511 - lr: 0.0010 - 10s/epoch - 55ms/step
Epoch 10/75
176/176 - 10s - loss: 0.0059 - accuracy: 0.9623 - val_loss: 0.0432 - val_accuracy: 0.7499 - lr: 0.0010 - 10s/epoch - 55ms/step
Epoch 11/75
176/176 - 10s - loss: 0.0059 - accuracy: 0.9617 - val_loss: 0.0451 - val_accuracy: 0.7394 - lr: 0.0010 - 10s/epoch - 55ms/step
Epoch 12/75
176/176 - 10s - loss: 0.0060 - accuracy: 0.9612 - val_loss: 0.0457 - val_accuracy: 0.7349 - lr: 0.0010 - 10s/epoch - 55ms/step
Epoch 13/75
176/176 - 10s - loss: 0.0061 - accuracy: 0.9609 - val_loss: 0.0455 - val_accuracy: 0.7367 - lr: 0.0010 - 10s/epoch - 56ms/step
Epoch 14/75
176/176 - 10s - loss: 0.0060 - accuracy: 0.9612 - val_loss: 0.0433 - val_accuracy: 0.7502 - lr: 0.0010 - 10s/epoch - 56ms/step
Epoch 15/75
176/176 - 10s - loss: 0.0059 - accuracy: 0.9622 - val_loss: 0.0474 - val_accuracy: 0.7268 - lr: 0.0010 - 10s/epoch - 55ms/step
Epoch 16/75
176/176 - 10s - loss: 0.0058 - accuracy: 0.9627 - val_loss: 0.0459 - val_accuracy: 0.7373 - lr: 0.0010 - 10s/epoch - 56ms/step
Epoch 17/75
176/176 - 10s - loss: 0.0060 - accuracy: 0.9612 - val_loss: 0.0442 - val_accuracy: 0.7441 - lr: 0.0010 - 10s/epoch - 58ms/step
Epoch 18/75
176/176 - 10s - loss: 0.0057 - accuracy: 0.9634 - val_loss: 0.0453 - val_accuracy: 0.7393 - lr: 0.0010 - 10s/epoch - 55ms/step
Epoch 19/75
176/176 - 10s - loss: 0.0057 - accuracy: 0.9631 - val_loss: 0.0459 - val_accuracy: 0.7380 - lr: 0.0010 - 10s/epoch - 56ms/step
Epoch 20/75
176/176 - 10s - loss: 0.0059 - accuracy: 0.9622 - val_loss: 0.0454 - val_accuracy: 0.7395 - lr: 0.0010 - 10s/epoch - 55ms/step
Epoch 21/75
176/176 - 10s - loss: 0.0058 - accuracy: 0.9622 - val_loss: 0.0450 - val_accuracy: 0.7419 - lr: 0.0010 - 10s/epoch - 55ms/step
Epoch 22/75
176/176 - 10s - loss: 0.0058 - accuracy: 0.9628 - val_loss: 0.0452 - val_accuracy: 0.7423 - lr: 0.0010 - 10s/epoch - 56ms/step
Epoch 23/75
176/176 - 10s - loss: 0.0058 - accuracy: 0.9631 - val_loss: 0.0427 - val_accuracy: 0.7526 - lr: 0.0010 - 10s/epoch - 55ms/step
Epoch 24/75
176/176 - 10s - loss: 0.0058 - accuracy: 0.9630 - val_loss: 0.0490 - val_accuracy: 0.7192 - lr: 0.0010 - 10s/epoch - 55ms/step
Epoch 25/75
176/176 - 10s - loss: 0.0058 - accuracy: 0.9623 - val_loss: 0.0463 - val_accuracy: 0.7353 - lr: 0.0010 - 10s/epoch - 55ms/step
Epoch 26/75
176/176 - 10s - loss: 0.0056 - accuracy: 0.9639 - val_loss: 0.0471 - val_accuracy: 0.7304 - lr: 0.0010 - 10s/epoch - 56ms/step
Epoch 27/75
176/176 - 10s - loss: 0.0055 - accuracy: 0.9647 - val_loss: 0.0454 - val_accuracy: 0.7397 - lr: 0.0010 - 10s/epoch - 60ms/step
Epoch 28/75
176/176 - 11s - loss: 0.0055 - accuracy: 0.9642 - val_loss: 0.0451 - val_accuracy: 0.7416 - lr: 0.0010 - 11s/epoch - 60ms/step
Epoch 29/75
176/176 - 11s - loss: 0.0055 - accuracy: 0.9640 - val_loss: 0.0468 - val_accuracy: 0.7323 - lr: 0.0010 - 11s/epoch - 60ms/step
Epoch 30/75
176/176 - 11s - loss: 0.0054 - accuracy: 0.9649 - val_loss: 0.0440 - val_accuracy: 0.7477 - lr: 0.0010 - 11s/epoch - 60ms/step
Epoch 31/75
176/176 - 10s - loss: 0.0055 - accuracy: 0.9638 - val_loss: 0.0467 - val_accuracy: 0.7331 - lr: 0.0010 - 10s/epoch - 56ms/step
Epoch 32/75
176/176 - 10s - loss: 0.0057 - accuracy: 0.9636 - val_loss: 0.0466 - val_accuracy: 0.7338 - lr: 0.0010 - 10s/epoch - 56ms/step
Epoch 33/75
176/176 - 10s - loss: 0.0057 - accuracy: 0.9629 - val_loss: 0.0465 - val_accuracy: 0.7347 - lr: 0.0010 - 10s/epoch - 56ms/step
Epoch 34/75
176/176 - 10s - loss: 0.0057 - accuracy: 0.9636 - val_loss: 0.0471 - val_accuracy: 0.7312 - lr: 0.0010 - 10s/epoch - 56ms/step
Epoch 35/75
176/176 - 10s - loss: 0.0055 - accuracy: 0.9647 - val_loss: 0.0462 - val_accuracy: 0.7374 - lr: 0.0010 - 10s/epoch - 57ms/step
Epoch 36/75
176/176 - 10s - loss: 0.0055 - accuracy: 0.9649 - val_loss: 0.0499 - val_accuracy: 0.7168 - lr: 0.0010 - 10s/epoch - 56ms/step
Epoch 37/75
176/176 - 10s - loss: 0.0057 - accuracy: 0.9631 - val_loss: 0.0453 - val_accuracy: 0.7425 - lr: 0.0010 - 10s/epoch - 57ms/step
Epoch 38/75
176/176 - 10s - loss: 0.0054 - accuracy: 0.9658 - val_loss: 0.0439 - val_accuracy: 0.7489 - lr: 0.0010 - 10s/epoch - 55ms/step
Epoch 39/75
176/176 - 10s - loss: 0.0054 - accuracy: 0.9650 - val_loss: 0.0455 - val_accuracy: 0.7405 - lr: 0.0010 - 10s/epoch - 56ms/step
Epoch 40/75
176/176 - 10s - loss: 0.0054 - accuracy: 0.9654 - val_loss: 0.0482 - val_accuracy: 0.7262 - lr: 0.0010 - 10s/epoch - 55ms/step
Epoch 41/75
176/176 - 10s - loss: 0.0054 - accuracy: 0.9653 - val_loss: 0.0462 - val_accuracy: 0.7372 - lr: 0.0010 - 10s/epoch - 55ms/step
Epoch 42/75
176/176 - 10s - loss: 0.0053 - accuracy: 0.9657 - val_loss: 0.0461 - val_accuracy: 0.7374 - lr: 0.0010 - 10s/epoch - 56ms/step
Epoch 43/75
176/176 - 10s - loss: 0.0055 - accuracy: 0.9646 - val_loss: 0.0455 - val_accuracy: 0.7404 - lr: 0.0010 - 10s/epoch - 56ms/step
Epoch 44/75
176/176 - 10s - loss: 0.0053 - accuracy: 0.9655 - val_loss: 0.0464 - val_accuracy: 0.7363 - lr: 0.0010 - 10s/epoch - 56ms/step
Epoch 45/75
176/176 - 10s - loss: 0.0053 - accuracy: 0.9658 - val_loss: 0.0468 - val_accuracy: 0.7341 - lr: 0.0010 - 10s/epoch - 55ms/step
Epoch 46/75
176/176 - 10s - loss: 0.0055 - accuracy: 0.9648 - val_loss: 0.0455 - val_accuracy: 0.7410 - lr: 0.0010 - 10s/epoch - 56ms/step
Epoch 47/75
176/176 - 10s - loss: 0.0054 - accuracy: 0.9653 - val_loss: 0.0474 - val_accuracy: 0.7285 - lr: 0.0010 - 10s/epoch - 56ms/step
Epoch 48/75
176/176 - 10s - loss: 0.0056 - accuracy: 0.9633 - val_loss: 0.0442 - val_accuracy: 0.7472 - lr: 0.0010 - 10s/epoch - 57ms/step
Epoch 49/75
176/176 - 10s - loss: 0.0056 - accuracy: 0.9636 - val_loss: 0.0473 - val_accuracy: 0.7293 - lr: 0.0010 - 10s/epoch - 56ms/step
Epoch 50/75
176/176 - 10s - loss: 0.0058 - accuracy: 0.9628 - val_loss: 0.0469 - val_accuracy: 0.7324 - lr: 0.0010 - 10s/epoch - 56ms/step
Epoch 51/75
176/176 - 10s - loss: 0.0056 - accuracy: 0.9639 - val_loss: 0.0449 - val_accuracy: 0.7441 - lr: 0.0010 - 10s/epoch - 55ms/step
Epoch 52/75
176/176 - 10s - loss: 0.0058 - accuracy: 0.9626 - val_loss: 0.0460 - val_accuracy: 0.7360 - lr: 0.0010 - 10s/epoch - 56ms/step
Epoch 53/75
176/176 - 10s - loss: 0.0055 - accuracy: 0.9640 - val_loss: 0.0461 - val_accuracy: 0.7357 - lr: 0.0010 - 10s/epoch - 56ms/step
Epoch 54/75
176/176 - 10s - loss: 0.0055 - accuracy: 0.9643 - val_loss: 0.0489 - val_accuracy: 0.7235 - lr: 0.0010 - 10s/epoch - 57ms/step
Epoch 55/75
176/176 - 10s - loss: 0.0054 - accuracy: 0.9656 - val_loss: 0.0452 - val_accuracy: 0.7410 - lr: 0.0010 - 10s/epoch - 56ms/step
Epoch 56/75
176/176 - 10s - loss: 0.0054 - accuracy: 0.9653 - val_loss: 0.0461 - val_accuracy: 0.7374 - lr: 0.0010 - 10s/epoch - 55ms/step
Epoch 57/75
176/176 - 10s - loss: 0.0055 - accuracy: 0.9646 - val_loss: 0.0456 - val_accuracy: 0.7399 - lr: 0.0010 - 10s/epoch - 56ms/step
Epoch 58/75
176/176 - 10s - loss: 0.0058 - accuracy: 0.9628 - val_loss: 0.0466 - val_accuracy: 0.7340 - lr: 0.0010 - 10s/epoch - 55ms/step
Epoch 59/75
176/176 - 10s - loss: 0.0057 - accuracy: 0.9635 - val_loss: 0.0452 - val_accuracy: 0.7422 - lr: 0.0010 - 10s/epoch - 56ms/step
Epoch 60/75
176/176 - 10s - loss: 0.0054 - accuracy: 0.9649 - val_loss: 0.0480 - val_accuracy: 0.7277 - lr: 0.0010 - 10s/epoch - 56ms/step
Epoch 61/75
176/176 - 10s - loss: 0.0056 - accuracy: 0.9637 - val_loss: 0.0478 - val_accuracy: 0.7297 - lr: 0.0010 - 10s/epoch - 56ms/step
Epoch 62/75
176/176 - 10s - loss: 0.0055 - accuracy: 0.9646 - val_loss: 0.0470 - val_accuracy: 0.7318 - lr: 0.0010 - 10s/epoch - 56ms/step
Epoch 63/75
176/176 - 10s - loss: 0.0055 - accuracy: 0.9640 - val_loss: 0.0462 - val_accuracy: 0.7367 - lr: 0.0010 - 10s/epoch - 55ms/step
Epoch 64/75
176/176 - 10s - loss: 0.0058 - accuracy: 0.9624 - val_loss: 0.0464 - val_accuracy: 0.7367 - lr: 0.0010 - 10s/epoch - 56ms/step
Epoch 65/75
176/176 - 10s - loss: 0.0056 - accuracy: 0.9641 - val_loss: 0.0470 - val_accuracy: 0.7327 - lr: 0.0010 - 10s/epoch - 55ms/step
Epoch 66/75
176/176 - 10s - loss: 0.0056 - accuracy: 0.9637 - val_loss: 0.0473 - val_accuracy: 0.7308 - lr: 0.0010 - 10s/epoch - 56ms/step
Epoch 67/75
176/176 - 10s - loss: 0.0057 - accuracy: 0.9632 - val_loss: 0.0460 - val_accuracy: 0.7378 - lr: 0.0010 - 10s/epoch - 56ms/step
Epoch 68/75
176/176 - 10s - loss: 0.0056 - accuracy: 0.9641 - val_loss: 0.0468 - val_accuracy: 0.7353 - lr: 0.0010 - 10s/epoch - 55ms/step
Epoch 69/75
176/176 - 10s - loss: 0.0055 - accuracy: 0.9645 - val_loss: 0.0484 - val_accuracy: 0.7253 - lr: 0.0010 - 10s/epoch - 55ms/step
Epoch 70/75
176/176 - 10s - loss: 0.0055 - accuracy: 0.9644 - val_loss: 0.0475 - val_accuracy: 0.7290 - lr: 0.0010 - 10s/epoch - 55ms/step
Epoch 71/75
176/176 - 10s - loss: 0.0055 - accuracy: 0.9640 - val_loss: 0.0478 - val_accuracy: 0.7291 - lr: 0.0010 - 10s/epoch - 55ms/step
Epoch 72/75
176/176 - 10s - loss: 0.0055 - accuracy: 0.9645 - val_loss: 0.0486 - val_accuracy: 0.7238 - lr: 0.0010 - 10s/epoch - 56ms/step
Epoch 73/75
176/176 - 10s - loss: 0.0053 - accuracy: 0.9656 - val_loss: 0.0504 - val_accuracy: 0.7151 - lr: 0.0010 - 10s/epoch - 56ms/step
Epoch 74/75
176/176 - 10s - loss: 0.0053 - accuracy: 0.9658 - val_loss: 0.0486 - val_accuracy: 0.7249 - lr: 0.0010 - 10s/epoch - 56ms/step
Epoch 75/75
176/176 - 10s - loss: 0.0053 - accuracy: 0.9659 - val_loss: 0.0454 - val_accuracy: 0.7415 - lr: 0.0010 - 10s/epoch - 56ms/step
Epoch 1/75
36/36 - 11s - loss: 0.0048 - accuracy: 0.9689 - val_loss: 0.0471 - val_accuracy: 0.7321 - lr: 0.0010 - 11s/epoch - 313ms/step
Epoch 2/75
36/36 - 9s - loss: 0.0045 - accuracy: 0.9714 - val_loss: 0.0484 - val_accuracy: 0.7254 - lr: 0.0010 - 9s/epoch - 246ms/step
Epoch 3/75
36/36 - 9s - loss: 0.0045 - accuracy: 0.9710 - val_loss: 0.0477 - val_accuracy: 0.7296 - lr: 0.0010 - 9s/epoch - 246ms/step
Epoch 4/75
36/36 - 9s - loss: 0.0043 - accuracy: 0.9726 - val_loss: 0.0474 - val_accuracy: 0.7304 - lr: 0.0010 - 9s/epoch - 242ms/step
Epoch 5/75
36/36 - 9s - loss: 0.0043 - accuracy: 0.9723 - val_loss: 0.0482 - val_accuracy: 0.7274 - lr: 0.0010 - 9s/epoch - 243ms/step
Epoch 6/75
36/36 - 9s - loss: 0.0043 - accuracy: 0.9726 - val_loss: 0.0476 - val_accuracy: 0.7293 - lr: 0.0010 - 9s/epoch - 246ms/step
Epoch 7/75
36/36 - 9s - loss: 0.0043 - accuracy: 0.9727 - val_loss: 0.0479 - val_accuracy: 0.7287 - lr: 0.0010 - 9s/epoch - 247ms/step
Epoch 8/75
36/36 - 9s - loss: 0.0042 - accuracy: 0.9729 - val_loss: 0.0480 - val_accuracy: 0.7286 - lr: 0.0010 - 9s/epoch - 246ms/step
Epoch 9/75
36/36 - 9s - loss: 0.0043 - accuracy: 0.9726 - val_loss: 0.0471 - val_accuracy: 0.7342 - lr: 0.0010 - 9s/epoch - 247ms/step
Epoch 10/75
36/36 - 9s - loss: 0.0043 - accuracy: 0.9720 - val_loss: 0.0478 - val_accuracy: 0.7300 - lr: 0.0010 - 9s/epoch - 245ms/step
Epoch 11/75
36/36 - 9s - loss: 0.0041 - accuracy: 0.9732 - val_loss: 0.0475 - val_accuracy: 0.7326 - lr: 0.0010 - 9s/epoch - 244ms/step
Epoch 12/75
36/36 - 9s - loss: 0.0042 - accuracy: 0.9731 - val_loss: 0.0483 - val_accuracy: 0.7267 - lr: 0.0010 - 9s/epoch - 242ms/step
Epoch 13/75
36/36 - 9s - loss: 0.0040 - accuracy: 0.9739 - val_loss: 0.0476 - val_accuracy: 0.7318 - lr: 0.0010 - 9s/epoch - 246ms/step
Epoch 14/75
36/36 - 9s - loss: 0.0040 - accuracy: 0.9740 - val_loss: 0.0482 - val_accuracy: 0.7288 - lr: 0.0010 - 9s/epoch - 246ms/step
Epoch 15/75
36/36 - 9s - loss: 0.0043 - accuracy: 0.9726 - val_loss: 0.0474 - val_accuracy: 0.7323 - lr: 0.0010 - 9s/epoch - 247ms/step
Epoch 16/75
36/36 - 9s - loss: 0.0041 - accuracy: 0.9734 - val_loss: 0.0490 - val_accuracy: 0.7249 - lr: 0.0010 - 9s/epoch - 247ms/step
Epoch 17/75
36/36 - 9s - loss: 0.0042 - accuracy: 0.9731 - val_loss: 0.0491 - val_accuracy: 0.7245 - lr: 0.0010 - 9s/epoch - 248ms/step
Epoch 18/75
36/36 - 9s - loss: 0.0040 - accuracy: 0.9744 - val_loss: 0.0476 - val_accuracy: 0.7312 - lr: 0.0010 - 9s/epoch - 247ms/step
Epoch 19/75
36/36 - 9s - loss: 0.0041 - accuracy: 0.9733 - val_loss: 0.0487 - val_accuracy: 0.7267 - lr: 0.0010 - 9s/epoch - 240ms/step
Epoch 20/75
36/36 - 9s - loss: 0.0040 - accuracy: 0.9740 - val_loss: 0.0494 - val_accuracy: 0.7218 - lr: 0.0010 - 9s/epoch - 244ms/step
Epoch 21/75
36/36 - 9s - loss: 0.0040 - accuracy: 0.9742 - val_loss: 0.0489 - val_accuracy: 0.7252 - lr: 0.0010 - 9s/epoch - 242ms/step
Epoch 22/75
36/36 - 9s - loss: 0.0040 - accuracy: 0.9739 - val_loss: 0.0475 - val_accuracy: 0.7324 - lr: 0.0010 - 9s/epoch - 245ms/step
Epoch 23/75
36/36 - 9s - loss: 0.0040 - accuracy: 0.9741 - val_loss: 0.0483 - val_accuracy: 0.7290 - lr: 0.0010 - 9s/epoch - 243ms/step
Epoch 24/75
36/36 - 9s - loss: 0.0041 - accuracy: 0.9733 - val_loss: 0.0490 - val_accuracy: 0.7254 - lr: 0.0010 - 9s/epoch - 242ms/step
Epoch 25/75
36/36 - 9s - loss: 0.0040 - accuracy: 0.9744 - val_loss: 0.0484 - val_accuracy: 0.7290 - lr: 0.0010 - 9s/epoch - 244ms/step
Epoch 26/75
36/36 - 9s - loss: 0.0041 - accuracy: 0.9739 - val_loss: 0.0487 - val_accuracy: 0.7277 - lr: 0.0010 - 9s/epoch - 243ms/step
Epoch 27/75
36/36 - 9s - loss: 0.0040 - accuracy: 0.9740 - val_loss: 0.0483 - val_accuracy: 0.7289 - lr: 0.0010 - 9s/epoch - 242ms/step
Epoch 28/75
36/36 - 9s - loss: 0.0041 - accuracy: 0.9735 - val_loss: 0.0482 - val_accuracy: 0.7285 - lr: 0.0010 - 9s/epoch - 245ms/step
Epoch 29/75
36/36 - 9s - loss: 0.0041 - accuracy: 0.9736 - val_loss: 0.0491 - val_accuracy: 0.7246 - lr: 0.0010 - 9s/epoch - 262ms/step
Epoch 30/75
36/36 - 9s - loss: 0.0041 - accuracy: 0.9734 - val_loss: 0.0491 - val_accuracy: 0.7252 - lr: 0.0010 - 9s/epoch - 261ms/step
Epoch 31/75
36/36 - 10s - loss: 0.0040 - accuracy: 0.9746 - val_loss: 0.0483 - val_accuracy: 0.7281 - lr: 0.0010 - 10s/epoch - 264ms/step
Epoch 32/75
36/36 - 9s - loss: 0.0041 - accuracy: 0.9733 - val_loss: 0.0481 - val_accuracy: 0.7302 - lr: 0.0010 - 9s/epoch - 263ms/step
Epoch 33/75
36/36 - 9s - loss: 0.0040 - accuracy: 0.9744 - val_loss: 0.0481 - val_accuracy: 0.7305 - lr: 0.0010 - 9s/epoch - 260ms/step
Epoch 34/75
36/36 - 9s - loss: 0.0040 - accuracy: 0.9743 - val_loss: 0.0505 - val_accuracy: 0.7186 - lr: 0.0010 - 9s/epoch - 240ms/step
Epoch 35/75
36/36 - 9s - loss: 0.0041 - accuracy: 0.9737 - val_loss: 0.0494 - val_accuracy: 0.7239 - lr: 0.0010 - 9s/epoch - 245ms/step
Epoch 36/75
36/36 - 9s - loss: 0.0040 - accuracy: 0.9748 - val_loss: 0.0488 - val_accuracy: 0.7262 - lr: 0.0010 - 9s/epoch - 246ms/step
Epoch 37/75
36/36 - 9s - loss: 0.0040 - accuracy: 0.9746 - val_loss: 0.0494 - val_accuracy: 0.7236 - lr: 0.0010 - 9s/epoch - 247ms/step
Epoch 38/75
36/36 - 9s - loss: 0.0042 - accuracy: 0.9731 - val_loss: 0.0490 - val_accuracy: 0.7265 - lr: 0.0010 - 9s/epoch - 246ms/step
Epoch 39/75
36/36 - 9s - loss: 0.0039 - accuracy: 0.9744 - val_loss: 0.0493 - val_accuracy: 0.7240 - lr: 0.0010 - 9s/epoch - 247ms/step
Epoch 40/75
36/36 - 9s - loss: 0.0041 - accuracy: 0.9733 - val_loss: 0.0484 - val_accuracy: 0.7291 - lr: 0.0010 - 9s/epoch - 246ms/step
Epoch 41/75
36/36 - 9s - loss: 0.0040 - accuracy: 0.9742 - val_loss: 0.0491 - val_accuracy: 0.7253 - lr: 0.0010 - 9s/epoch - 244ms/step
Epoch 42/75
36/36 - 9s - loss: 0.0039 - accuracy: 0.9751 - val_loss: 0.0485 - val_accuracy: 0.7287 - lr: 0.0010 - 9s/epoch - 241ms/step
Epoch 43/75
36/36 - 9s - loss: 0.0041 - accuracy: 0.9738 - val_loss: 0.0498 - val_accuracy: 0.7231 - lr: 0.0010 - 9s/epoch - 247ms/step
Epoch 44/75
36/36 - 9s - loss: 0.0039 - accuracy: 0.9749 - val_loss: 0.0488 - val_accuracy: 0.7269 - lr: 0.0010 - 9s/epoch - 244ms/step
Epoch 45/75
36/36 - 9s - loss: 0.0038 - accuracy: 0.9750 - val_loss: 0.0491 - val_accuracy: 0.7254 - lr: 0.0010 - 9s/epoch - 245ms/step
Epoch 46/75
36/36 - 9s - loss: 0.0040 - accuracy: 0.9742 - val_loss: 0.0489 - val_accuracy: 0.7267 - lr: 0.0010 - 9s/epoch - 242ms/step
Epoch 47/75
36/36 - 9s - loss: 0.0039 - accuracy: 0.9749 - val_loss: 0.0482 - val_accuracy: 0.7315 - lr: 0.0010 - 9s/epoch - 243ms/step
Epoch 48/75
36/36 - 9s - loss: 0.0040 - accuracy: 0.9746 - val_loss: 0.0476 - val_accuracy: 0.7326 - lr: 0.0010 - 9s/epoch - 244ms/step
Epoch 49/75
36/36 - 9s - loss: 0.0039 - accuracy: 0.9750 - val_loss: 0.0483 - val_accuracy: 0.7300 - lr: 0.0010 - 9s/epoch - 241ms/step
Epoch 50/75
36/36 - 9s - loss: 0.0039 - accuracy: 0.9748 - val_loss: 0.0490 - val_accuracy: 0.7263 - lr: 0.0010 - 9s/epoch - 244ms/step
Epoch 51/75
36/36 - 9s - loss: 0.0039 - accuracy: 0.9749 - val_loss: 0.0487 - val_accuracy: 0.7284 - lr: 0.0010 - 9s/epoch - 247ms/step
Epoch 52/75
36/36 - 9s - loss: 0.0041 - accuracy: 0.9741 - val_loss: 0.0490 - val_accuracy: 0.7263 - lr: 0.0010 - 9s/epoch - 247ms/step
Epoch 53/75
36/36 - 9s - loss: 0.0040 - accuracy: 0.9743 - val_loss: 0.0497 - val_accuracy: 0.7226 - lr: 0.0010 - 9s/epoch - 247ms/step
Epoch 54/75
36/36 - 9s - loss: 0.0039 - accuracy: 0.9751 - val_loss: 0.0499 - val_accuracy: 0.7217 - lr: 0.0010 - 9s/epoch - 246ms/step
Epoch 55/75
36/36 - 9s - loss: 0.0039 - accuracy: 0.9747 - val_loss: 0.0495 - val_accuracy: 0.7245 - lr: 0.0010 - 9s/epoch - 246ms/step
Epoch 56/75
36/36 - 9s - loss: 0.0038 - accuracy: 0.9757 - val_loss: 0.0492 - val_accuracy: 0.7253 - lr: 0.0010 - 9s/epoch - 243ms/step
Epoch 57/75
36/36 - 9s - loss: 0.0040 - accuracy: 0.9746 - val_loss: 0.0497 - val_accuracy: 0.7233 - lr: 0.0010 - 9s/epoch - 240ms/step
Epoch 58/75
36/36 - 9s - loss: 0.0038 - accuracy: 0.9752 - val_loss: 0.0494 - val_accuracy: 0.7241 - lr: 0.0010 - 9s/epoch - 246ms/step
Epoch 59/75
36/36 - 9s - loss: 0.0038 - accuracy: 0.9755 - val_loss: 0.0506 - val_accuracy: 0.7193 - lr: 0.0010 - 9s/epoch - 245ms/step
Epoch 60/75
36/36 - 9s - loss: 0.0038 - accuracy: 0.9758 - val_loss: 0.0493 - val_accuracy: 0.7262 - lr: 0.0010 - 9s/epoch - 246ms/step
Epoch 61/75
36/36 - 9s - loss: 0.0040 - accuracy: 0.9744 - val_loss: 0.0495 - val_accuracy: 0.7242 - lr: 0.0010 - 9s/epoch - 243ms/step
Epoch 62/75
36/36 - 9s - loss: 0.0038 - accuracy: 0.9752 - val_loss: 0.0493 - val_accuracy: 0.7256 - lr: 0.0010 - 9s/epoch - 244ms/step
Epoch 63/75
36/36 - 9s - loss: 0.0037 - accuracy: 0.9764 - val_loss: 0.0501 - val_accuracy: 0.7208 - lr: 0.0010 - 9s/epoch - 243ms/step
Epoch 64/75
36/36 - 9s - loss: 0.0038 - accuracy: 0.9754 - val_loss: 0.0501 - val_accuracy: 0.7213 - lr: 0.0010 - 9s/epoch - 241ms/step
Epoch 65/75
36/36 - 9s - loss: 0.0038 - accuracy: 0.9753 - val_loss: 0.0500 - val_accuracy: 0.7215 - lr: 0.0010 - 9s/epoch - 243ms/step
Epoch 66/75
36/36 - 9s - loss: 0.0039 - accuracy: 0.9746 - val_loss: 0.0494 - val_accuracy: 0.7258 - lr: 0.0010 - 9s/epoch - 246ms/step
Epoch 67/75
36/36 - 9s - loss: 0.0040 - accuracy: 0.9744 - val_loss: 0.0493 - val_accuracy: 0.7258 - lr: 0.0010 - 9s/epoch - 247ms/step
Epoch 68/75
36/36 - 9s - loss: 0.0037 - accuracy: 0.9755 - val_loss: 0.0499 - val_accuracy: 0.7241 - lr: 0.0010 - 9s/epoch - 247ms/step
Epoch 69/75
36/36 - 9s - loss: 0.0038 - accuracy: 0.9759 - val_loss: 0.0496 - val_accuracy: 0.7240 - lr: 0.0010 - 9s/epoch - 246ms/step
Epoch 70/75
36/36 - 9s - loss: 0.0038 - accuracy: 0.9754 - val_loss: 0.0497 - val_accuracy: 0.7238 - lr: 0.0010 - 9s/epoch - 246ms/step
Epoch 71/75
36/36 - 9s - loss: 0.0038 - accuracy: 0.9756 - val_loss: 0.0494 - val_accuracy: 0.7256 - lr: 0.0010 - 9s/epoch - 244ms/step
Epoch 72/75
36/36 - 9s - loss: 0.0040 - accuracy: 0.9746 - val_loss: 0.0494 - val_accuracy: 0.7251 - lr: 0.0010 - 9s/epoch - 240ms/step
Epoch 73/75
36/36 - 9s - loss: 0.0039 - accuracy: 0.9750 - val_loss: 0.0495 - val_accuracy: 0.7257 - lr: 0.0010 - 9s/epoch - 245ms/step
Epoch 74/75
36/36 - 9s - loss: 0.0040 - accuracy: 0.9737 - val_loss: 0.0496 - val_accuracy: 0.7250 - lr: 0.0010 - 9s/epoch - 247ms/step
Epoch 75/75
36/36 - 9s - loss: 0.0039 - accuracy: 0.9749 - val_loss: 0.0501 - val_accuracy: 0.7223 - lr: 0.0010 - 9s/epoch - 246ms/step
Epoch 1/100
4378/4378 - 76s - loss: 0.0141 - accuracy: 0.9102 - val_loss: 0.0465 - val_accuracy: 0.7287 - lr: 0.0010 - 76s/epoch - 17ms/step
Epoch 2/100
4378/4378 - 73s - loss: 0.0144 - accuracy: 0.9046 - val_loss: 0.0384 - val_accuracy: 0.7664 - lr: 0.0010 - 73s/epoch - 17ms/step
Epoch 3/100
4378/4378 - 74s - loss: 0.0137 - accuracy: 0.9079 - val_loss: 0.0360 - val_accuracy: 0.7787 - lr: 0.0010 - 74s/epoch - 17ms/step
Epoch 4/100
4378/4378 - 73s - loss: 0.0135 - accuracy: 0.9092 - val_loss: 0.0384 - val_accuracy: 0.7653 - lr: 0.0010 - 73s/epoch - 17ms/step
Epoch 5/100
4378/4378 - 73s - loss: 0.0138 - accuracy: 0.9063 - val_loss: 0.0388 - val_accuracy: 0.7639 - lr: 0.0010 - 73s/epoch - 17ms/step
Epoch 6/100
4378/4378 - 74s - loss: 0.0137 - accuracy: 0.9074 - val_loss: 0.0428 - val_accuracy: 0.7331 - lr: 0.0010 - 74s/epoch - 17ms/step
Epoch 7/100
4378/4378 - 73s - loss: 0.0134 - accuracy: 0.9099 - val_loss: 0.0335 - val_accuracy: 0.7909 - lr: 0.0010 - 73s/epoch - 17ms/step
Epoch 8/100
4378/4378 - 74s - loss: 0.0136 - accuracy: 0.9080 - val_loss: 0.0368 - val_accuracy: 0.7695 - lr: 0.0010 - 74s/epoch - 17ms/step
Epoch 9/100
4378/4378 - 74s - loss: 0.0137 - accuracy: 0.9070 - val_loss: 0.0372 - val_accuracy: 0.7690 - lr: 0.0010 - 74s/epoch - 17ms/step
Epoch 10/100
4378/4378 - 74s - loss: 0.0137 - accuracy: 0.9072 - val_loss: 0.0367 - val_accuracy: 0.7708 - lr: 0.0010 - 74s/epoch - 17ms/step
Epoch 11/100
4378/4378 - 73s - loss: 0.0135 - accuracy: 0.9089 - val_loss: 0.0376 - val_accuracy: 0.7665 - lr: 0.0010 - 73s/epoch - 17ms/step
Epoch 12/100
4378/4378 - 73s - loss: 0.0134 - accuracy: 0.9090 - val_loss: 0.0359 - val_accuracy: 0.7792 - lr: 0.0010 - 73s/epoch - 17ms/step
Epoch 13/100
4378/4378 - 74s - loss: 0.0136 - accuracy: 0.9088 - val_loss: 0.0391 - val_accuracy: 0.7576 - lr: 0.0010 - 74s/epoch - 17ms/step
Epoch 14/100
4378/4378 - 74s - loss: 0.0134 - accuracy: 0.9089 - val_loss: 0.0363 - val_accuracy: 0.7712 - lr: 0.0010 - 74s/epoch - 17ms/step
Epoch 15/100
4378/4378 - 74s - loss: 0.0137 - accuracy: 0.9069 - val_loss: 0.0375 - val_accuracy: 0.7654 - lr: 0.0010 - 74s/epoch - 17ms/step
Epoch 16/100
4378/4378 - 74s - loss: 0.0138 - accuracy: 0.9060 - val_loss: 0.0397 - val_accuracy: 0.7524 - lr: 0.0010 - 74s/epoch - 17ms/step
Epoch 17/100
4378/4378 - 73s - loss: 0.0137 - accuracy: 0.9073 - val_loss: 0.0348 - val_accuracy: 0.7828 - lr: 0.0010 - 73s/epoch - 17ms/step
Epoch 18/100
4378/4378 - 73s - loss: 0.0137 - accuracy: 0.9079 - val_loss: 0.0370 - val_accuracy: 0.7729 - lr: 0.0010 - 73s/epoch - 17ms/step
Epoch 19/100
4378/4378 - 74s - loss: 0.0138 - accuracy: 0.9060 - val_loss: 0.0372 - val_accuracy: 0.7677 - lr: 0.0010 - 74s/epoch - 17ms/step
Epoch 20/100
4378/4378 - 73s - loss: 0.0133 - accuracy: 0.9104 - val_loss: 0.0396 - val_accuracy: 0.7523 - lr: 0.0010 - 73s/epoch - 17ms/step
Epoch 21/100
4378/4378 - 74s - loss: 0.0136 - accuracy: 0.9079 - val_loss: 0.0368 - val_accuracy: 0.7730 - lr: 0.0010 - 74s/epoch - 17ms/step
Epoch 22/100
4378/4378 - 74s - loss: 0.0138 - accuracy: 0.9064 - val_loss: 0.0369 - val_accuracy: 0.7720 - lr: 0.0010 - 74s/epoch - 17ms/step
Epoch 23/100
4378/4378 - 74s - loss: 0.0137 - accuracy: 0.9074 - val_loss: 0.0389 - val_accuracy: 0.7576 - lr: 0.0010 - 74s/epoch - 17ms/step
Epoch 24/100
4378/4378 - 73s - loss: 0.0137 - accuracy: 0.9076 - val_loss: 0.0322 - val_accuracy: 0.8000 - lr: 0.0010 - 73s/epoch - 17ms/step
Epoch 25/100
4378/4378 - 73s - loss: 0.0138 - accuracy: 0.9064 - val_loss: 0.0335 - val_accuracy: 0.7914 - lr: 0.0010 - 73s/epoch - 17ms/step
Epoch 26/100
4378/4378 - 74s - loss: 0.0140 - accuracy: 0.9046 - val_loss: 0.0352 - val_accuracy: 0.7771 - lr: 0.0010 - 74s/epoch - 17ms/step
Epoch 27/100
4378/4378 - 73s - loss: 0.0137 - accuracy: 0.9077 - val_loss: 0.0386 - val_accuracy: 0.7583 - lr: 0.0010 - 73s/epoch - 17ms/step
Epoch 28/100
4378/4378 - 73s - loss: 0.0134 - accuracy: 0.9094 - val_loss: 0.0352 - val_accuracy: 0.7809 - lr: 0.0010 - 73s/epoch - 17ms/step
Epoch 29/100
4378/4378 - 74s - loss: 0.0137 - accuracy: 0.9085 - val_loss: 0.0358 - val_accuracy: 0.7762 - lr: 0.0010 - 74s/epoch - 17ms/step
Epoch 30/100
4378/4378 - 73s - loss: 0.0137 - accuracy: 0.9077 - val_loss: 0.0345 - val_accuracy: 0.7864 - lr: 0.0010 - 73s/epoch - 17ms/step
Epoch 31/100
4378/4378 - 74s - loss: 0.0138 - accuracy: 0.9061 - val_loss: 0.0303 - val_accuracy: 0.8075 - lr: 0.0010 - 74s/epoch - 17ms/step
Epoch 32/100
4378/4378 - 74s - loss: 0.0131 - accuracy: 0.9122 - val_loss: 0.0379 - val_accuracy: 0.7659 - lr: 0.0010 - 74s/epoch - 17ms/step
Epoch 33/100
4378/4378 - 73s - loss: 0.0135 - accuracy: 0.9090 - val_loss: 0.0356 - val_accuracy: 0.7799 - lr: 0.0010 - 73s/epoch - 17ms/step
Epoch 34/100
4378/4378 - 74s - loss: 0.0135 - accuracy: 0.9084 - val_loss: 0.0359 - val_accuracy: 0.7744 - lr: 0.0010 - 74s/epoch - 17ms/step
Epoch 35/100
4378/4378 - 73s - loss: 0.0138 - accuracy: 0.9065 - val_loss: 0.0353 - val_accuracy: 0.7764 - lr: 0.0010 - 73s/epoch - 17ms/step
Epoch 36/100
4378/4378 - 73s - loss: 0.0137 - accuracy: 0.9064 - val_loss: 0.0356 - val_accuracy: 0.7719 - lr: 0.0010 - 73s/epoch - 17ms/step
Epoch 37/100
4378/4378 - 74s - loss: 0.0137 - accuracy: 0.9076 - val_loss: 0.0373 - val_accuracy: 0.7657 - lr: 0.0010 - 74s/epoch - 17ms/step
Epoch 38/100
4378/4378 - 74s - loss: 0.0137 - accuracy: 0.9080 - val_loss: 0.0342 - val_accuracy: 0.7844 - lr: 0.0010 - 74s/epoch - 17ms/step
Epoch 39/100
4378/4378 - 73s - loss: 0.0134 - accuracy: 0.9103 - val_loss: 0.0345 - val_accuracy: 0.7851 - lr: 0.0010 - 73s/epoch - 17ms/step
Epoch 40/100
4378/4378 - 73s - loss: 0.0132 - accuracy: 0.9114 - val_loss: 0.0388 - val_accuracy: 0.7595 - lr: 0.0010 - 73s/epoch - 17ms/step
Epoch 41/100
4378/4378 - 73s - loss: 0.0140 - accuracy: 0.9053 - val_loss: 0.0370 - val_accuracy: 0.7731 - lr: 0.0010 - 73s/epoch - 17ms/step
Epoch 42/100
4378/4378 - 73s - loss: 0.0136 - accuracy: 0.9084 - val_loss: 0.0330 - val_accuracy: 0.7903 - lr: 0.0010 - 73s/epoch - 17ms/step
Epoch 43/100
4378/4378 - 74s - loss: 0.0134 - accuracy: 0.9097 - val_loss: 0.0359 - val_accuracy: 0.7741 - lr: 0.0010 - 74s/epoch - 17ms/step
Epoch 44/100
4378/4378 - 73s - loss: 0.0133 - accuracy: 0.9104 - val_loss: 0.0383 - val_accuracy: 0.7618 - lr: 0.0010 - 73s/epoch - 17ms/step
Epoch 45/100
4378/4378 - 73s - loss: 0.0134 - accuracy: 0.9093 - val_loss: 0.0387 - val_accuracy: 0.7606 - lr: 0.0010 - 73s/epoch - 17ms/step
Epoch 46/100
4378/4378 - 74s - loss: 0.0137 - accuracy: 0.9077 - val_loss: 0.0341 - val_accuracy: 0.7858 - lr: 0.0010 - 74s/epoch - 17ms/step
Epoch 47/100
4378/4378 - 73s - loss: 0.0135 - accuracy: 0.9092 - val_loss: 0.0373 - val_accuracy: 0.7681 - lr: 0.0010 - 73s/epoch - 17ms/step
Epoch 48/100
4378/4378 - 73s - loss: 0.0136 - accuracy: 0.9086 - val_loss: 0.0366 - val_accuracy: 0.7727 - lr: 0.0010 - 73s/epoch - 17ms/step
Epoch 49/100
4378/4378 - 74s - loss: 0.0133 - accuracy: 0.9103 - val_loss: 0.0365 - val_accuracy: 0.7732 - lr: 0.0010 - 74s/epoch - 17ms/step
Epoch 50/100
4378/4378 - 74s - loss: 0.0135 - accuracy: 0.9087 - val_loss: 0.0386 - val_accuracy: 0.7606 - lr: 0.0010 - 74s/epoch - 17ms/step
Epoch 51/100
4378/4378 - 73s - loss: 0.0136 - accuracy: 0.9082 - val_loss: 0.0356 - val_accuracy: 0.7781 - lr: 0.0010 - 73s/epoch - 17ms/step
Epoch 52/100
4378/4378 - 73s - loss: 0.0137 - accuracy: 0.9074 - val_loss: 0.0356 - val_accuracy: 0.7758 - lr: 0.0010 - 73s/epoch - 17ms/step
Epoch 53/100
4378/4378 - 73s - loss: 0.0138 - accuracy: 0.9068 - val_loss: 0.0362 - val_accuracy: 0.7726 - lr: 0.0010 - 73s/epoch - 17ms/step
Epoch 54/100
4378/4378 - 73s - loss: 0.0133 - accuracy: 0.9103 - val_loss: 0.0341 - val_accuracy: 0.7854 - lr: 0.0010 - 73s/epoch - 17ms/step
Epoch 55/100
4378/4378 - 73s - loss: 0.0135 - accuracy: 0.9092 - val_loss: 0.0373 - val_accuracy: 0.7640 - lr: 0.0010 - 73s/epoch - 17ms/step
Epoch 56/100
4378/4378 - 74s - loss: 0.0135 - accuracy: 0.9089 - val_loss: 0.0384 - val_accuracy: 0.7576 - lr: 0.0010 - 74s/epoch - 17ms/step
Epoch 57/100
4378/4378 - 74s - loss: 0.0134 - accuracy: 0.9093 - val_loss: 0.0379 - val_accuracy: 0.7598 - lr: 0.0010 - 74s/epoch - 17ms/step
Epoch 58/100
4378/4378 - 73s - loss: 0.0136 - accuracy: 0.9082 - val_loss: 0.0421 - val_accuracy: 0.7410 - lr: 0.0010 - 73s/epoch - 17ms/step
Epoch 59/100
4378/4378 - 73s - loss: 0.0137 - accuracy: 0.9072 - val_loss: 0.0370 - val_accuracy: 0.7685 - lr: 0.0010 - 73s/epoch - 17ms/step
Epoch 60/100
4378/4378 - 73s - loss: 0.0137 - accuracy: 0.9074 - val_loss: 0.0361 - val_accuracy: 0.7741 - lr: 0.0010 - 73s/epoch - 17ms/step
Epoch 61/100
4378/4378 - 74s - loss: 0.0136 - accuracy: 0.9083 - val_loss: 0.0368 - val_accuracy: 0.7706 - lr: 0.0010 - 74s/epoch - 17ms/step
Epoch 62/100
4378/4378 - 74s - loss: 0.0137 - accuracy: 0.9075 - val_loss: 0.0402 - val_accuracy: 0.7481 - lr: 0.0010 - 74s/epoch - 17ms/step
Epoch 63/100
4378/4378 - 76s - loss: 0.0136 - accuracy: 0.9088 - val_loss: 0.0381 - val_accuracy: 0.7635 - lr: 0.0010 - 76s/epoch - 17ms/step
Epoch 64/100
4378/4378 - 73s - loss: 0.0138 - accuracy: 0.9067 - val_loss: 0.0396 - val_accuracy: 0.7527 - lr: 0.0010 - 73s/epoch - 17ms/step
Epoch 65/100
4378/4378 - 73s - loss: 0.0134 - accuracy: 0.9092 - val_loss: 0.0383 - val_accuracy: 0.7555 - lr: 0.0010 - 73s/epoch - 17ms/step
Epoch 66/100
4378/4378 - 74s - loss: 0.0134 - accuracy: 0.9097 - val_loss: 0.0359 - val_accuracy: 0.7773 - lr: 0.0010 - 74s/epoch - 17ms/step
Epoch 67/100
4378/4378 - 73s - loss: 0.0132 - accuracy: 0.9109 - val_loss: 0.0371 - val_accuracy: 0.7652 - lr: 0.0010 - 73s/epoch - 17ms/step
Epoch 68/100
4378/4378 - 74s - loss: 0.0136 - accuracy: 0.9081 - val_loss: 0.0387 - val_accuracy: 0.7556 - lr: 0.0010 - 74s/epoch - 17ms/step
Epoch 69/100
4378/4378 - 74s - loss: 0.0134 - accuracy: 0.9104 - val_loss: 0.0406 - val_accuracy: 0.7431 - lr: 0.0010 - 74s/epoch - 17ms/step
Epoch 70/100
4378/4378 - 73s - loss: 0.0138 - accuracy: 0.9065 - val_loss: 0.0375 - val_accuracy: 0.7669 - lr: 0.0010 - 73s/epoch - 17ms/step
Epoch 71/100
4378/4378 - 73s - loss: 0.0137 - accuracy: 0.9082 - val_loss: 0.0395 - val_accuracy: 0.7523 - lr: 0.0010 - 73s/epoch - 17ms/step
Epoch 72/100
4378/4378 - 74s - loss: 0.0133 - accuracy: 0.9105 - val_loss: 0.0380 - val_accuracy: 0.7604 - lr: 0.0010 - 74s/epoch - 17ms/step
Epoch 73/100
4378/4378 - 74s - loss: 0.0136 - accuracy: 0.9091 - val_loss: 0.0354 - val_accuracy: 0.7808 - lr: 0.0010 - 74s/epoch - 17ms/step
Epoch 74/100
4378/4378 - 74s - loss: 0.0136 - accuracy: 0.9085 - val_loss: 0.0363 - val_accuracy: 0.7669 - lr: 0.0010 - 74s/epoch - 17ms/step
Epoch 75/100
4378/4378 - 73s - loss: 0.0136 - accuracy: 0.9081 - val_loss: 0.0357 - val_accuracy: 0.7728 - lr: 0.0010 - 73s/epoch - 17ms/step
Epoch 76/100
4378/4378 - 73s - loss: 0.0134 - accuracy: 0.9090 - val_loss: 0.0385 - val_accuracy: 0.7571 - lr: 0.0010 - 73s/epoch - 17ms/step
Epoch 77/100
4378/4378 - 73s - loss: 0.0135 - accuracy: 0.9088 - val_loss: 0.0382 - val_accuracy: 0.7597 - lr: 0.0010 - 73s/epoch - 17ms/step
Epoch 78/100
4378/4378 - 74s - loss: 0.0134 - accuracy: 0.9097 - val_loss: 0.0368 - val_accuracy: 0.7675 - lr: 0.0010 - 74s/epoch - 17ms/step
Epoch 79/100
4378/4378 - 73s - loss: 0.0138 - accuracy: 0.9074 - val_loss: 0.0349 - val_accuracy: 0.7809 - lr: 0.0010 - 73s/epoch - 17ms/step
Epoch 80/100
4378/4378 - 73s - loss: 0.0137 - accuracy: 0.9082 - val_loss: 0.0328 - val_accuracy: 0.7925 - lr: 0.0010 - 73s/epoch - 17ms/step
Epoch 81/100
4378/4378 - 73s - loss: 0.0135 - accuracy: 0.9089 - val_loss: 0.0369 - val_accuracy: 0.7724 - lr: 0.0010 - 73s/epoch - 17ms/step
Epoch 82/100
4378/4378 - 74s - loss: 0.0136 - accuracy: 0.9088 - val_loss: 0.0343 - val_accuracy: 0.7869 - lr: 0.0010 - 74s/epoch - 17ms/step
Epoch 83/100
4378/4378 - 73s - loss: 0.0136 - accuracy: 0.9081 - val_loss: 0.0404 - val_accuracy: 0.7432 - lr: 0.0010 - 73s/epoch - 17ms/step
Epoch 84/100
4378/4378 - 74s - loss: 0.0138 - accuracy: 0.9074 - val_loss: 0.0402 - val_accuracy: 0.7506 - lr: 0.0010 - 74s/epoch - 17ms/step
Epoch 85/100
4378/4378 - 73s - loss: 0.0138 - accuracy: 0.9069 - val_loss: 0.0408 - val_accuracy: 0.7438 - lr: 0.0010 - 73s/epoch - 17ms/step
Epoch 86/100
4378/4378 - 74s - loss: 0.0137 - accuracy: 0.9086 - val_loss: 0.0380 - val_accuracy: 0.7623 - lr: 0.0010 - 74s/epoch - 17ms/step
Epoch 87/100
4378/4378 - 73s - loss: 0.0135 - accuracy: 0.9090 - val_loss: 0.0330 - val_accuracy: 0.7886 - lr: 0.0010 - 73s/epoch - 17ms/step
Epoch 88/100
4378/4378 - 73s - loss: 0.0134 - accuracy: 0.9096 - val_loss: 0.0406 - val_accuracy: 0.7470 - lr: 0.0010 - 73s/epoch - 17ms/step
Epoch 89/100
4378/4378 - 73s - loss: 0.0137 - accuracy: 0.9081 - val_loss: 0.0394 - val_accuracy: 0.7530 - lr: 0.0010 - 73s/epoch - 17ms/step
Epoch 90/100
4378/4378 - 73s - loss: 0.0131 - accuracy: 0.9114 - val_loss: 0.0367 - val_accuracy: 0.7727 - lr: 0.0010 - 73s/epoch - 17ms/step
Epoch 91/100
4378/4378 - 73s - loss: 0.0134 - accuracy: 0.9096 - val_loss: 0.0397 - val_accuracy: 0.7507 - lr: 0.0010 - 73s/epoch - 17ms/step
Epoch 92/100
4378/4378 - 74s - loss: 0.0135 - accuracy: 0.9092 - val_loss: 0.0355 - val_accuracy: 0.7764 - lr: 0.0010 - 74s/epoch - 17ms/step
Epoch 93/100
4378/4378 - 73s - loss: 0.0133 - accuracy: 0.9108 - val_loss: 0.0353 - val_accuracy: 0.7764 - lr: 0.0010 - 73s/epoch - 17ms/step
Epoch 94/100
4378/4378 - 74s - loss: 0.0134 - accuracy: 0.9103 - val_loss: 0.0354 - val_accuracy: 0.7763 - lr: 0.0010 - 74s/epoch - 17ms/step
Epoch 95/100
4378/4378 - 73s - loss: 0.0135 - accuracy: 0.9086 - val_loss: 0.0380 - val_accuracy: 0.7581 - lr: 0.0010 - 73s/epoch - 17ms/step
Epoch 96/100
4378/4378 - 73s - loss: 0.0137 - accuracy: 0.9068 - val_loss: 0.0376 - val_accuracy: 0.7612 - lr: 0.0010 - 73s/epoch - 17ms/step
Epoch 97/100
4378/4378 - 73s - loss: 0.0135 - accuracy: 0.9089 - val_loss: 0.0366 - val_accuracy: 0.7693 - lr: 0.0010 - 73s/epoch - 17ms/step
Epoch 98/100
4378/4378 - 73s - loss: 0.0131 - accuracy: 0.9118 - val_loss: 0.0373 - val_accuracy: 0.7644 - lr: 0.0010 - 73s/epoch - 17ms/step
Epoch 99/100
4378/4378 - 73s - loss: 0.0130 - accuracy: 0.9120 - val_loss: 0.0375 - val_accuracy: 0.7643 - lr: 0.0010 - 73s/epoch - 17ms/step
Epoch 100/100
4378/4378 - 73s - loss: 0.0133 - accuracy: 0.9106 - val_loss: 0.0330 - val_accuracy: 0.7886 - lr: 0.0010 - 73s/epoch - 17ms/step
Epoch 1/100
876/876 - 22s - loss: 0.0094 - accuracy: 0.9379 - val_loss: 0.0403 - val_accuracy: 0.7520 - lr: 0.0010 - 22s/epoch - 25ms/step
Epoch 2/100
876/876 - 18s - loss: 0.0094 - accuracy: 0.9383 - val_loss: 0.0365 - val_accuracy: 0.7737 - lr: 0.0010 - 18s/epoch - 21ms/step
Epoch 3/100
876/876 - 18s - loss: 0.0094 - accuracy: 0.9376 - val_loss: 0.0416 - val_accuracy: 0.7491 - lr: 0.0010 - 18s/epoch - 21ms/step
Epoch 4/100
876/876 - 18s - loss: 0.0094 - accuracy: 0.9383 - val_loss: 0.0396 - val_accuracy: 0.7576 - lr: 0.0010 - 18s/epoch - 21ms/step
Epoch 5/100
876/876 - 18s - loss: 0.0093 - accuracy: 0.9385 - val_loss: 0.0363 - val_accuracy: 0.7781 - lr: 0.0010 - 18s/epoch - 21ms/step
Epoch 6/100
876/876 - 18s - loss: 0.0093 - accuracy: 0.9384 - val_loss: 0.0391 - val_accuracy: 0.7612 - lr: 0.0010 - 18s/epoch - 21ms/step
Epoch 7/100
876/876 - 18s - loss: 0.0091 - accuracy: 0.9401 - val_loss: 0.0377 - val_accuracy: 0.7706 - lr: 0.0010 - 18s/epoch - 21ms/step
Epoch 8/100
876/876 - 18s - loss: 0.0089 - accuracy: 0.9414 - val_loss: 0.0391 - val_accuracy: 0.7612 - lr: 0.0010 - 18s/epoch - 21ms/step
Epoch 9/100
876/876 - 18s - loss: 0.0092 - accuracy: 0.9394 - val_loss: 0.0373 - val_accuracy: 0.7733 - lr: 0.0010 - 18s/epoch - 21ms/step
Epoch 10/100
876/876 - 18s - loss: 0.0090 - accuracy: 0.9408 - val_loss: 0.0396 - val_accuracy: 0.7584 - lr: 0.0010 - 18s/epoch - 21ms/step
Epoch 11/100
876/876 - 18s - loss: 0.0089 - accuracy: 0.9421 - val_loss: 0.0401 - val_accuracy: 0.7555 - lr: 0.0010 - 18s/epoch - 21ms/step
Epoch 12/100
876/876 - 18s - loss: 0.0088 - accuracy: 0.9424 - val_loss: 0.0400 - val_accuracy: 0.7605 - lr: 0.0010 - 18s/epoch - 21ms/step
Epoch 13/100
876/876 - 18s - loss: 0.0089 - accuracy: 0.9417 - val_loss: 0.0389 - val_accuracy: 0.7674 - lr: 0.0010 - 18s/epoch - 21ms/step
Epoch 14/100
876/876 - 18s - loss: 0.0090 - accuracy: 0.9410 - val_loss: 0.0403 - val_accuracy: 0.7548 - lr: 0.0010 - 18s/epoch - 21ms/step
Epoch 15/100
876/876 - 18s - loss: 0.0084 - accuracy: 0.9447 - val_loss: 0.0382 - val_accuracy: 0.7704 - lr: 0.0010 - 18s/epoch - 21ms/step
Epoch 16/100
876/876 - 18s - loss: 0.0087 - accuracy: 0.9429 - val_loss: 0.0406 - val_accuracy: 0.7534 - lr: 0.0010 - 18s/epoch - 21ms/step
Epoch 17/100
876/876 - 18s - loss: 0.0085 - accuracy: 0.9445 - val_loss: 0.0427 - val_accuracy: 0.7440 - lr: 0.0010 - 18s/epoch - 21ms/step
Epoch 18/100
876/876 - 18s - loss: 0.0084 - accuracy: 0.9453 - val_loss: 0.0401 - val_accuracy: 0.7597 - lr: 0.0010 - 18s/epoch - 21ms/step
Epoch 19/100
876/876 - 18s - loss: 0.0087 - accuracy: 0.9430 - val_loss: 0.0431 - val_accuracy: 0.7416 - lr: 0.0010 - 18s/epoch - 21ms/step
Epoch 20/100
876/876 - 18s - loss: 0.0087 - accuracy: 0.9422 - val_loss: 0.0398 - val_accuracy: 0.7601 - lr: 0.0010 - 18s/epoch - 21ms/step
Epoch 21/100
876/876 - 19s - loss: 0.0086 - accuracy: 0.9443 - val_loss: 0.0425 - val_accuracy: 0.7472 - lr: 0.0010 - 19s/epoch - 21ms/step
Epoch 22/100
876/876 - 18s - loss: 0.0084 - accuracy: 0.9455 - val_loss: 0.0416 - val_accuracy: 0.7516 - lr: 0.0010 - 18s/epoch - 21ms/step
Epoch 23/100
876/876 - 18s - loss: 0.0087 - accuracy: 0.9424 - val_loss: 0.0392 - val_accuracy: 0.7648 - lr: 0.0010 - 18s/epoch - 21ms/step
Epoch 24/100
876/876 - 18s - loss: 0.0086 - accuracy: 0.9441 - val_loss: 0.0420 - val_accuracy: 0.7488 - lr: 0.0010 - 18s/epoch - 21ms/step
Epoch 25/100
876/876 - 18s - loss: 0.0085 - accuracy: 0.9449 - val_loss: 0.0405 - val_accuracy: 0.7572 - lr: 0.0010 - 18s/epoch - 21ms/step
Epoch 26/100
876/876 - 18s - loss: 0.0086 - accuracy: 0.9439 - val_loss: 0.0404 - val_accuracy: 0.7600 - lr: 0.0010 - 18s/epoch - 21ms/step
Epoch 27/100
876/876 - 18s - loss: 0.0084 - accuracy: 0.9453 - val_loss: 0.0403 - val_accuracy: 0.7579 - lr: 0.0010 - 18s/epoch - 21ms/step
Epoch 28/100
876/876 - 18s - loss: 0.0085 - accuracy: 0.9441 - val_loss: 0.0443 - val_accuracy: 0.7376 - lr: 0.0010 - 18s/epoch - 21ms/step
Epoch 29/100
876/876 - 18s - loss: 0.0083 - accuracy: 0.9456 - val_loss: 0.0397 - val_accuracy: 0.7609 - lr: 0.0010 - 18s/epoch - 21ms/step
Epoch 30/100
876/876 - 18s - loss: 0.0087 - accuracy: 0.9433 - val_loss: 0.0431 - val_accuracy: 0.7450 - lr: 0.0010 - 18s/epoch - 21ms/step
Epoch 31/100
876/876 - 18s - loss: 0.0086 - accuracy: 0.9446 - val_loss: 0.0382 - val_accuracy: 0.7688 - lr: 0.0010 - 18s/epoch - 21ms/step
Epoch 32/100
876/876 - 18s - loss: 0.0084 - accuracy: 0.9452 - val_loss: 0.0432 - val_accuracy: 0.7436 - lr: 0.0010 - 18s/epoch - 21ms/step
Epoch 33/100
876/876 - 18s - loss: 0.0080 - accuracy: 0.9478 - val_loss: 0.0416 - val_accuracy: 0.7512 - lr: 0.0010 - 18s/epoch - 21ms/step
Epoch 34/100
876/876 - 18s - loss: 0.0085 - accuracy: 0.9440 - val_loss: 0.0389 - val_accuracy: 0.7680 - lr: 0.0010 - 18s/epoch - 21ms/step
Epoch 35/100
876/876 - 18s - loss: 0.0085 - accuracy: 0.9445 - val_loss: 0.0424 - val_accuracy: 0.7461 - lr: 0.0010 - 18s/epoch - 21ms/step
Epoch 36/100
876/876 - 18s - loss: 0.0083 - accuracy: 0.9462 - val_loss: 0.0428 - val_accuracy: 0.7431 - lr: 0.0010 - 18s/epoch - 21ms/step
Epoch 37/100
876/876 - 18s - loss: 0.0083 - accuracy: 0.9454 - val_loss: 0.0390 - val_accuracy: 0.7632 - lr: 0.0010 - 18s/epoch - 21ms/step
Epoch 38/100
876/876 - 18s - loss: 0.0083 - accuracy: 0.9454 - val_loss: 0.0396 - val_accuracy: 0.7643 - lr: 0.0010 - 18s/epoch - 21ms/step
Epoch 39/100
876/876 - 18s - loss: 0.0082 - accuracy: 0.9461 - val_loss: 0.0398 - val_accuracy: 0.7641 - lr: 0.0010 - 18s/epoch - 21ms/step
Epoch 40/100
876/876 - 18s - loss: 0.0083 - accuracy: 0.9453 - val_loss: 0.0411 - val_accuracy: 0.7568 - lr: 0.0010 - 18s/epoch - 21ms/step
Epoch 41/100
876/876 - 18s - loss: 0.0084 - accuracy: 0.9453 - val_loss: 0.0421 - val_accuracy: 0.7478 - lr: 0.0010 - 18s/epoch - 21ms/step
Epoch 42/100
876/876 - 18s - loss: 0.0085 - accuracy: 0.9444 - val_loss: 0.0416 - val_accuracy: 0.7507 - lr: 0.0010 - 18s/epoch - 21ms/step
Epoch 43/100
876/876 - 18s - loss: 0.0083 - accuracy: 0.9461 - val_loss: 0.0424 - val_accuracy: 0.7477 - lr: 0.0010 - 18s/epoch - 21ms/step
Epoch 44/100
876/876 - 18s - loss: 0.0083 - accuracy: 0.9459 - val_loss: 0.0410 - val_accuracy: 0.7561 - lr: 0.0010 - 18s/epoch - 21ms/step
Epoch 45/100
876/876 - 18s - loss: 0.0083 - accuracy: 0.9464 - val_loss: 0.0416 - val_accuracy: 0.7498 - lr: 0.0010 - 18s/epoch - 21ms/step
Epoch 46/100
876/876 - 19s - loss: 0.0083 - accuracy: 0.9454 - val_loss: 0.0373 - val_accuracy: 0.7751 - lr: 0.0010 - 19s/epoch - 21ms/step
Epoch 47/100
876/876 - 18s - loss: 0.0083 - accuracy: 0.9455 - val_loss: 0.0414 - val_accuracy: 0.7516 - lr: 0.0010 - 18s/epoch - 21ms/step
Epoch 48/100
876/876 - 18s - loss: 0.0084 - accuracy: 0.9457 - val_loss: 0.0398 - val_accuracy: 0.7599 - lr: 0.0010 - 18s/epoch - 21ms/step
Epoch 49/100
876/876 - 18s - loss: 0.0086 - accuracy: 0.9436 - val_loss: 0.0413 - val_accuracy: 0.7523 - lr: 0.0010 - 18s/epoch - 21ms/step
Epoch 50/100
876/876 - 18s - loss: 0.0083 - accuracy: 0.9459 - val_loss: 0.0403 - val_accuracy: 0.7570 - lr: 0.0010 - 18s/epoch - 21ms/step
Epoch 51/100
876/876 - 18s - loss: 0.0085 - accuracy: 0.9446 - val_loss: 0.0424 - val_accuracy: 0.7468 - lr: 0.0010 - 18s/epoch - 21ms/step
Epoch 52/100
876/876 - 18s - loss: 0.0083 - accuracy: 0.9455 - val_loss: 0.0407 - val_accuracy: 0.7559 - lr: 0.0010 - 18s/epoch - 21ms/step
Epoch 53/100
876/876 - 18s - loss: 0.0084 - accuracy: 0.9445 - val_loss: 0.0409 - val_accuracy: 0.7543 - lr: 0.0010 - 18s/epoch - 21ms/step
Epoch 54/100
876/876 - 18s - loss: 0.0084 - accuracy: 0.9453 - val_loss: 0.0416 - val_accuracy: 0.7500 - lr: 0.0010 - 18s/epoch - 21ms/step
Epoch 55/100
876/876 - 18s - loss: 0.0083 - accuracy: 0.9463 - val_loss: 0.0428 - val_accuracy: 0.7468 - lr: 0.0010 - 18s/epoch - 21ms/step
Epoch 56/100
876/876 - 18s - loss: 0.0078 - accuracy: 0.9495 - val_loss: 0.0412 - val_accuracy: 0.7558 - lr: 0.0010 - 18s/epoch - 21ms/step
Epoch 57/100
876/876 - 18s - loss: 0.0082 - accuracy: 0.9459 - val_loss: 0.0430 - val_accuracy: 0.7432 - lr: 0.0010 - 18s/epoch - 21ms/step
Epoch 58/100
876/876 - 18s - loss: 0.0082 - accuracy: 0.9467 - val_loss: 0.0422 - val_accuracy: 0.7495 - lr: 0.0010 - 18s/epoch - 21ms/step
Epoch 59/100
876/876 - 18s - loss: 0.0082 - accuracy: 0.9465 - val_loss: 0.0418 - val_accuracy: 0.7538 - lr: 0.0010 - 18s/epoch - 21ms/step
Epoch 60/100
876/876 - 19s - loss: 0.0084 - accuracy: 0.9449 - val_loss: 0.0408 - val_accuracy: 0.7541 - lr: 0.0010 - 19s/epoch - 22ms/step
Epoch 61/100
876/876 - 19s - loss: 0.0083 - accuracy: 0.9457 - val_loss: 0.0401 - val_accuracy: 0.7606 - lr: 0.0010 - 19s/epoch - 21ms/step
Epoch 62/100
876/876 - 18s - loss: 0.0084 - accuracy: 0.9445 - val_loss: 0.0440 - val_accuracy: 0.7354 - lr: 0.0010 - 18s/epoch - 21ms/step
Epoch 63/100
876/876 - 18s - loss: 0.0080 - accuracy: 0.9480 - val_loss: 0.0440 - val_accuracy: 0.7405 - lr: 0.0010 - 18s/epoch - 21ms/step
Epoch 64/100
876/876 - 18s - loss: 0.0082 - accuracy: 0.9469 - val_loss: 0.0386 - val_accuracy: 0.7691 - lr: 0.0010 - 18s/epoch - 21ms/step
Epoch 65/100
876/876 - 18s - loss: 0.0082 - accuracy: 0.9466 - val_loss: 0.0431 - val_accuracy: 0.7434 - lr: 0.0010 - 18s/epoch - 21ms/step
Epoch 66/100
876/876 - 18s - loss: 0.0082 - accuracy: 0.9469 - val_loss: 0.0418 - val_accuracy: 0.7504 - lr: 0.0010 - 18s/epoch - 21ms/step
Epoch 67/100
876/876 - 18s - loss: 0.0083 - accuracy: 0.9456 - val_loss: 0.0383 - val_accuracy: 0.7733 - lr: 0.0010 - 18s/epoch - 21ms/step
Epoch 68/100
876/876 - 18s - loss: 0.0084 - accuracy: 0.9452 - val_loss: 0.0389 - val_accuracy: 0.7679 - lr: 0.0010 - 18s/epoch - 21ms/step
Epoch 69/100
876/876 - 18s - loss: 0.0082 - accuracy: 0.9460 - val_loss: 0.0438 - val_accuracy: 0.7393 - lr: 0.0010 - 18s/epoch - 21ms/step
Epoch 70/100
876/876 - 18s - loss: 0.0082 - accuracy: 0.9466 - val_loss: 0.0424 - val_accuracy: 0.7483 - lr: 0.0010 - 18s/epoch - 21ms/step
Epoch 71/100
876/876 - 18s - loss: 0.0084 - accuracy: 0.9453 - val_loss: 0.0408 - val_accuracy: 0.7572 - lr: 0.0010 - 18s/epoch - 21ms/step
Epoch 72/100
876/876 - 18s - loss: 0.0082 - accuracy: 0.9461 - val_loss: 0.0435 - val_accuracy: 0.7423 - lr: 0.0010 - 18s/epoch - 21ms/step
Epoch 73/100
876/876 - 18s - loss: 0.0081 - accuracy: 0.9466 - val_loss: 0.0398 - val_accuracy: 0.7602 - lr: 0.0010 - 18s/epoch - 21ms/step
Epoch 74/100
876/876 - 18s - loss: 0.0084 - accuracy: 0.9458 - val_loss: 0.0437 - val_accuracy: 0.7423 - lr: 0.0010 - 18s/epoch - 21ms/step
Epoch 75/100
876/876 - 18s - loss: 0.0082 - accuracy: 0.9468 - val_loss: 0.0426 - val_accuracy: 0.7481 - lr: 0.0010 - 18s/epoch - 21ms/step
Epoch 76/100
876/876 - 19s - loss: 0.0081 - accuracy: 0.9471 - val_loss: 0.0438 - val_accuracy: 0.7404 - lr: 0.0010 - 19s/epoch - 21ms/step
Epoch 77/100
876/876 - 18s - loss: 0.0083 - accuracy: 0.9461 - val_loss: 0.0422 - val_accuracy: 0.7492 - lr: 0.0010 - 18s/epoch - 21ms/step
Epoch 78/100
876/876 - 18s - loss: 0.0081 - accuracy: 0.9479 - val_loss: 0.0432 - val_accuracy: 0.7440 - lr: 0.0010 - 18s/epoch - 21ms/step
Epoch 79/100
876/876 - 19s - loss: 0.0082 - accuracy: 0.9459 - val_loss: 0.0443 - val_accuracy: 0.7373 - lr: 0.0010 - 19s/epoch - 21ms/step
Epoch 80/100
876/876 - 18s - loss: 0.0078 - accuracy: 0.9493 - val_loss: 0.0415 - val_accuracy: 0.7542 - lr: 0.0010 - 18s/epoch - 21ms/step
Epoch 81/100
876/876 - 18s - loss: 0.0080 - accuracy: 0.9476 - val_loss: 0.0430 - val_accuracy: 0.7441 - lr: 0.0010 - 18s/epoch - 21ms/step
Epoch 82/100
876/876 - 18s - loss: 0.0080 - accuracy: 0.9481 - val_loss: 0.0405 - val_accuracy: 0.7614 - lr: 0.0010 - 18s/epoch - 21ms/step
Epoch 83/100
876/876 - 18s - loss: 0.0080 - accuracy: 0.9481 - val_loss: 0.0423 - val_accuracy: 0.7484 - lr: 0.0010 - 18s/epoch - 21ms/step
Epoch 84/100
876/876 - 18s - loss: 0.0082 - accuracy: 0.9467 - val_loss: 0.0441 - val_accuracy: 0.7391 - lr: 0.0010 - 18s/epoch - 21ms/step
Epoch 85/100
876/876 - 18s - loss: 0.0080 - accuracy: 0.9479 - val_loss: 0.0420 - val_accuracy: 0.7529 - lr: 0.0010 - 18s/epoch - 21ms/step
Epoch 86/100
876/876 - 18s - loss: 0.0075 - accuracy: 0.9514 - val_loss: 0.0425 - val_accuracy: 0.7495 - lr: 0.0010 - 18s/epoch - 21ms/step
Epoch 87/100
876/876 - 18s - loss: 0.0079 - accuracy: 0.9486 - val_loss: 0.0444 - val_accuracy: 0.7379 - lr: 0.0010 - 18s/epoch - 21ms/step
Epoch 88/100
876/876 - 18s - loss: 0.0079 - accuracy: 0.9489 - val_loss: 0.0421 - val_accuracy: 0.7475 - lr: 0.0010 - 18s/epoch - 21ms/step
Epoch 89/100
876/876 - 18s - loss: 0.0082 - accuracy: 0.9469 - val_loss: 0.0436 - val_accuracy: 0.7426 - lr: 0.0010 - 18s/epoch - 21ms/step
Epoch 90/100
876/876 - 18s - loss: 0.0080 - accuracy: 0.9478 - val_loss: 0.0411 - val_accuracy: 0.7558 - lr: 0.0010 - 18s/epoch - 21ms/step
Epoch 91/100
876/876 - 18s - loss: 0.0080 - accuracy: 0.9474 - val_loss: 0.0414 - val_accuracy: 0.7545 - lr: 0.0010 - 18s/epoch - 21ms/step
Epoch 92/100
876/876 - 18s - loss: 0.0081 - accuracy: 0.9472 - val_loss: 0.0434 - val_accuracy: 0.7435 - lr: 0.0010 - 18s/epoch - 21ms/step
Epoch 93/100
876/876 - 18s - loss: 0.0083 - accuracy: 0.9464 - val_loss: 0.0422 - val_accuracy: 0.7483 - lr: 0.0010 - 18s/epoch - 21ms/step
Epoch 94/100
876/876 - 18s - loss: 0.0080 - accuracy: 0.9481 - val_loss: 0.0419 - val_accuracy: 0.7515 - lr: 0.0010 - 18s/epoch - 21ms/step
Epoch 95/100
876/876 - 18s - loss: 0.0081 - accuracy: 0.9464 - val_loss: 0.0432 - val_accuracy: 0.7414 - lr: 0.0010 - 18s/epoch - 21ms/step
Epoch 96/100
876/876 - 18s - loss: 0.0081 - accuracy: 0.9475 - val_loss: 0.0409 - val_accuracy: 0.7542 - lr: 0.0010 - 18s/epoch - 21ms/step
Epoch 97/100
876/876 - 19s - loss: 0.0081 - accuracy: 0.9468 - val_loss: 0.0436 - val_accuracy: 0.7403 - lr: 0.0010 - 19s/epoch - 21ms/step
Epoch 98/100
876/876 - 18s - loss: 0.0081 - accuracy: 0.9471 - val_loss: 0.0444 - val_accuracy: 0.7367 - lr: 0.0010 - 18s/epoch - 21ms/step
Epoch 99/100
876/876 - 18s - loss: 0.0079 - accuracy: 0.9484 - val_loss: 0.0419 - val_accuracy: 0.7506 - lr: 0.0010 - 18s/epoch - 21ms/step
Epoch 100/100
876/876 - 18s - loss: 0.0079 - accuracy: 0.9493 - val_loss: 0.0450 - val_accuracy: 0.7327 - lr: 0.0010 - 18s/epoch - 21ms/step
Epoch 1/100
176/176 - 12s - loss: 0.0061 - accuracy: 0.9613 - val_loss: 0.0440 - val_accuracy: 0.7392 - lr: 0.0010 - 12s/epoch - 69ms/step
Epoch 2/100
176/176 - 10s - loss: 0.0055 - accuracy: 0.9649 - val_loss: 0.0444 - val_accuracy: 0.7373 - lr: 0.0010 - 10s/epoch - 55ms/step
Epoch 3/100
176/176 - 10s - loss: 0.0054 - accuracy: 0.9658 - val_loss: 0.0439 - val_accuracy: 0.7414 - lr: 0.0010 - 10s/epoch - 55ms/step
Epoch 4/100
176/176 - 10s - loss: 0.0054 - accuracy: 0.9657 - val_loss: 0.0449 - val_accuracy: 0.7354 - lr: 0.0010 - 10s/epoch - 55ms/step
Epoch 5/100
176/176 - 10s - loss: 0.0053 - accuracy: 0.9663 - val_loss: 0.0450 - val_accuracy: 0.7366 - lr: 0.0010 - 10s/epoch - 55ms/step
Epoch 6/100
176/176 - 10s - loss: 0.0054 - accuracy: 0.9660 - val_loss: 0.0452 - val_accuracy: 0.7367 - lr: 0.0010 - 10s/epoch - 55ms/step
Epoch 7/100
176/176 - 10s - loss: 0.0055 - accuracy: 0.9648 - val_loss: 0.0439 - val_accuracy: 0.7452 - lr: 0.0010 - 10s/epoch - 55ms/step
Epoch 8/100
176/176 - 10s - loss: 0.0056 - accuracy: 0.9648 - val_loss: 0.0442 - val_accuracy: 0.7445 - lr: 0.0010 - 10s/epoch - 56ms/step
Epoch 9/100
176/176 - 10s - loss: 0.0057 - accuracy: 0.9640 - val_loss: 0.0467 - val_accuracy: 0.7299 - lr: 0.0010 - 10s/epoch - 55ms/step
Epoch 10/100
176/176 - 10s - loss: 0.0057 - accuracy: 0.9635 - val_loss: 0.0457 - val_accuracy: 0.7347 - lr: 0.0010 - 10s/epoch - 54ms/step
Epoch 11/100
176/176 - 10s - loss: 0.0058 - accuracy: 0.9633 - val_loss: 0.0434 - val_accuracy: 0.7484 - lr: 0.0010 - 10s/epoch - 55ms/step
Epoch 12/100
176/176 - 10s - loss: 0.0058 - accuracy: 0.9627 - val_loss: 0.0441 - val_accuracy: 0.7452 - lr: 0.0010 - 10s/epoch - 56ms/step
Epoch 13/100
176/176 - 10s - loss: 0.0056 - accuracy: 0.9642 - val_loss: 0.0465 - val_accuracy: 0.7325 - lr: 0.0010 - 10s/epoch - 59ms/step
Epoch 14/100
176/176 - 10s - loss: 0.0057 - accuracy: 0.9631 - val_loss: 0.0450 - val_accuracy: 0.7394 - lr: 0.0010 - 10s/epoch - 59ms/step
Epoch 15/100
176/176 - 10s - loss: 0.0058 - accuracy: 0.9636 - val_loss: 0.0467 - val_accuracy: 0.7301 - lr: 0.0010 - 10s/epoch - 59ms/step
Epoch 16/100
176/176 - 10s - loss: 0.0054 - accuracy: 0.9658 - val_loss: 0.0460 - val_accuracy: 0.7353 - lr: 0.0010 - 10s/epoch - 59ms/step
Epoch 17/100
176/176 - 10s - loss: 0.0054 - accuracy: 0.9654 - val_loss: 0.0459 - val_accuracy: 0.7345 - lr: 0.0010 - 10s/epoch - 58ms/step
Epoch 18/100
176/176 - 10s - loss: 0.0054 - accuracy: 0.9651 - val_loss: 0.0484 - val_accuracy: 0.7221 - lr: 0.0010 - 10s/epoch - 55ms/step
Epoch 19/100
176/176 - 10s - loss: 0.0056 - accuracy: 0.9638 - val_loss: 0.0458 - val_accuracy: 0.7361 - lr: 0.0010 - 10s/epoch - 56ms/step
Epoch 20/100
176/176 - 10s - loss: 0.0056 - accuracy: 0.9641 - val_loss: 0.0468 - val_accuracy: 0.7323 - lr: 0.0010 - 10s/epoch - 55ms/step
Epoch 21/100
176/176 - 10s - loss: 0.0057 - accuracy: 0.9636 - val_loss: 0.0488 - val_accuracy: 0.7219 - lr: 0.0010 - 10s/epoch - 55ms/step
Epoch 22/100
176/176 - 10s - loss: 0.0056 - accuracy: 0.9639 - val_loss: 0.0473 - val_accuracy: 0.7288 - lr: 0.0010 - 10s/epoch - 55ms/step
Epoch 23/100
176/176 - 10s - loss: 0.0058 - accuracy: 0.9632 - val_loss: 0.0443 - val_accuracy: 0.7437 - lr: 0.0010 - 10s/epoch - 55ms/step
Epoch 24/100
176/176 - 10s - loss: 0.0056 - accuracy: 0.9646 - val_loss: 0.0442 - val_accuracy: 0.7445 - lr: 0.0010 - 10s/epoch - 55ms/step
Epoch 25/100
176/176 - 10s - loss: 0.0054 - accuracy: 0.9656 - val_loss: 0.0453 - val_accuracy: 0.7408 - lr: 0.0010 - 10s/epoch - 55ms/step
Epoch 26/100
176/176 - 10s - loss: 0.0052 - accuracy: 0.9666 - val_loss: 0.0472 - val_accuracy: 0.7301 - lr: 0.0010 - 10s/epoch - 57ms/step
Epoch 27/100
176/176 - 10s - loss: 0.0052 - accuracy: 0.9674 - val_loss: 0.0467 - val_accuracy: 0.7337 - lr: 0.0010 - 10s/epoch - 56ms/step
Epoch 28/100
176/176 - 10s - loss: 0.0052 - accuracy: 0.9665 - val_loss: 0.0460 - val_accuracy: 0.7391 - lr: 0.0010 - 10s/epoch - 56ms/step
Epoch 29/100
176/176 - 10s - loss: 0.0052 - accuracy: 0.9670 - val_loss: 0.0470 - val_accuracy: 0.7323 - lr: 0.0010 - 10s/epoch - 55ms/step
Epoch 30/100
176/176 - 10s - loss: 0.0053 - accuracy: 0.9656 - val_loss: 0.0467 - val_accuracy: 0.7341 - lr: 0.0010 - 10s/epoch - 55ms/step
Epoch 31/100
176/176 - 10s - loss: 0.0053 - accuracy: 0.9660 - val_loss: 0.0462 - val_accuracy: 0.7359 - lr: 0.0010 - 10s/epoch - 55ms/step
Epoch 32/100
176/176 - 10s - loss: 0.0051 - accuracy: 0.9673 - val_loss: 0.0463 - val_accuracy: 0.7360 - lr: 0.0010 - 10s/epoch - 55ms/step
Epoch 33/100
176/176 - 10s - loss: 0.0051 - accuracy: 0.9675 - val_loss: 0.0474 - val_accuracy: 0.7297 - lr: 0.0010 - 10s/epoch - 56ms/step
Epoch 34/100
176/176 - 10s - loss: 0.0053 - accuracy: 0.9660 - val_loss: 0.0468 - val_accuracy: 0.7328 - lr: 0.0010 - 10s/epoch - 57ms/step
Epoch 35/100
176/176 - 10s - loss: 0.0051 - accuracy: 0.9672 - val_loss: 0.0453 - val_accuracy: 0.7409 - lr: 0.0010 - 10s/epoch - 56ms/step
Epoch 36/100
176/176 - 10s - loss: 0.0053 - accuracy: 0.9664 - val_loss: 0.0476 - val_accuracy: 0.7294 - lr: 0.0010 - 10s/epoch - 56ms/step
Epoch 37/100
176/176 - 10s - loss: 0.0052 - accuracy: 0.9671 - val_loss: 0.0458 - val_accuracy: 0.7390 - lr: 0.0010 - 10s/epoch - 55ms/step
Epoch 38/100
176/176 - 10s - loss: 0.0053 - accuracy: 0.9661 - val_loss: 0.0470 - val_accuracy: 0.7344 - lr: 0.0010 - 10s/epoch - 55ms/step
Epoch 39/100
176/176 - 10s - loss: 0.0054 - accuracy: 0.9652 - val_loss: 0.0476 - val_accuracy: 0.7310 - lr: 0.0010 - 10s/epoch - 56ms/step
Epoch 40/100
176/176 - 10s - loss: 0.0053 - accuracy: 0.9664 - val_loss: 0.0484 - val_accuracy: 0.7246 - lr: 0.0010 - 10s/epoch - 56ms/step
Epoch 41/100
176/176 - 10s - loss: 0.0054 - accuracy: 0.9656 - val_loss: 0.0466 - val_accuracy: 0.7347 - lr: 0.0010 - 10s/epoch - 56ms/step
Epoch 42/100
176/176 - 10s - loss: 0.0054 - accuracy: 0.9653 - val_loss: 0.0455 - val_accuracy: 0.7400 - lr: 0.0010 - 10s/epoch - 55ms/step
Epoch 43/100
176/176 - 10s - loss: 0.0053 - accuracy: 0.9660 - val_loss: 0.0448 - val_accuracy: 0.7442 - lr: 0.0010 - 10s/epoch - 55ms/step
Epoch 44/100
176/176 - 10s - loss: 0.0055 - accuracy: 0.9647 - val_loss: 0.0432 - val_accuracy: 0.7518 - lr: 0.0010 - 10s/epoch - 55ms/step
Epoch 45/100
176/176 - 10s - loss: 0.0054 - accuracy: 0.9653 - val_loss: 0.0473 - val_accuracy: 0.7310 - lr: 0.0010 - 10s/epoch - 56ms/step
Epoch 46/100
176/176 - 10s - loss: 0.0053 - accuracy: 0.9660 - val_loss: 0.0457 - val_accuracy: 0.7381 - lr: 0.0010 - 10s/epoch - 56ms/step
Epoch 47/100
176/176 - 10s - loss: 0.0052 - accuracy: 0.9664 - val_loss: 0.0460 - val_accuracy: 0.7399 - lr: 0.0010 - 10s/epoch - 56ms/step
Epoch 48/100
176/176 - 10s - loss: 0.0052 - accuracy: 0.9676 - val_loss: 0.0453 - val_accuracy: 0.7439 - lr: 0.0010 - 10s/epoch - 57ms/step
Epoch 49/100
176/176 - 10s - loss: 0.0053 - accuracy: 0.9661 - val_loss: 0.0466 - val_accuracy: 0.7341 - lr: 0.0010 - 10s/epoch - 56ms/step
Epoch 50/100
176/176 - 10s - loss: 0.0054 - accuracy: 0.9659 - val_loss: 0.0417 - val_accuracy: 0.7607 - lr: 0.0010 - 10s/epoch - 56ms/step
Epoch 51/100
176/176 - 10s - loss: 0.0053 - accuracy: 0.9663 - val_loss: 0.0455 - val_accuracy: 0.7409 - lr: 0.0010 - 10s/epoch - 56ms/step
Epoch 52/100
176/176 - 10s - loss: 0.0053 - accuracy: 0.9664 - val_loss: 0.0458 - val_accuracy: 0.7389 - lr: 0.0010 - 10s/epoch - 55ms/step
Epoch 53/100
176/176 - 10s - loss: 0.0053 - accuracy: 0.9658 - val_loss: 0.0457 - val_accuracy: 0.7399 - lr: 0.0010 - 10s/epoch - 56ms/step
Epoch 54/100
176/176 - 10s - loss: 0.0053 - accuracy: 0.9662 - val_loss: 0.0468 - val_accuracy: 0.7335 - lr: 0.0010 - 10s/epoch - 56ms/step
Epoch 55/100
176/176 - 10s - loss: 0.0052 - accuracy: 0.9671 - val_loss: 0.0461 - val_accuracy: 0.7380 - lr: 0.0010 - 10s/epoch - 56ms/step
Epoch 56/100
176/176 - 10s - loss: 0.0051 - accuracy: 0.9675 - val_loss: 0.0444 - val_accuracy: 0.7467 - lr: 0.0010 - 10s/epoch - 56ms/step
Epoch 57/100
176/176 - 10s - loss: 0.0052 - accuracy: 0.9669 - val_loss: 0.0453 - val_accuracy: 0.7427 - lr: 0.0010 - 10s/epoch - 56ms/step
Epoch 58/100
176/176 - 10s - loss: 0.0054 - accuracy: 0.9660 - val_loss: 0.0438 - val_accuracy: 0.7499 - lr: 0.0010 - 10s/epoch - 56ms/step
Epoch 59/100
176/176 - 10s - loss: 0.0055 - accuracy: 0.9653 - val_loss: 0.0471 - val_accuracy: 0.7314 - lr: 0.0010 - 10s/epoch - 56ms/step
Epoch 60/100
176/176 - 10s - loss: 0.0054 - accuracy: 0.9652 - val_loss: 0.0452 - val_accuracy: 0.7432 - lr: 0.0010 - 10s/epoch - 56ms/step
Epoch 61/100
176/176 - 10s - loss: 0.0053 - accuracy: 0.9665 - val_loss: 0.0451 - val_accuracy: 0.7421 - lr: 0.0010 - 10s/epoch - 56ms/step
Epoch 62/100
176/176 - 10s - loss: 0.0054 - accuracy: 0.9655 - val_loss: 0.0474 - val_accuracy: 0.7308 - lr: 0.0010 - 10s/epoch - 56ms/step
Epoch 63/100
176/176 - 10s - loss: 0.0055 - accuracy: 0.9647 - val_loss: 0.0455 - val_accuracy: 0.7402 - lr: 0.0010 - 10s/epoch - 56ms/step
Epoch 64/100
176/176 - 10s - loss: 0.0055 - accuracy: 0.9645 - val_loss: 0.0444 - val_accuracy: 0.7476 - lr: 0.0010 - 10s/epoch - 59ms/step
Epoch 65/100
176/176 - 10s - loss: 0.0053 - accuracy: 0.9660 - val_loss: 0.0441 - val_accuracy: 0.7502 - lr: 0.0010 - 10s/epoch - 57ms/step
Epoch 66/100
176/176 - 10s - loss: 0.0054 - accuracy: 0.9652 - val_loss: 0.0439 - val_accuracy: 0.7490 - lr: 0.0010 - 10s/epoch - 55ms/step
Epoch 67/100
176/176 - 10s - loss: 0.0053 - accuracy: 0.9666 - val_loss: 0.0453 - val_accuracy: 0.7416 - lr: 0.0010 - 10s/epoch - 57ms/step
Epoch 68/100
176/176 - 10s - loss: 0.0054 - accuracy: 0.9658 - val_loss: 0.0447 - val_accuracy: 0.7466 - lr: 0.0010 - 10s/epoch - 56ms/step
Epoch 69/100
176/176 - 10s - loss: 0.0054 - accuracy: 0.9662 - val_loss: 0.0468 - val_accuracy: 0.7347 - lr: 0.0010 - 10s/epoch - 56ms/step
Epoch 70/100
176/176 - 10s - loss: 0.0054 - accuracy: 0.9659 - val_loss: 0.0439 - val_accuracy: 0.7523 - lr: 0.0010 - 10s/epoch - 56ms/step
Epoch 71/100
176/176 - 10s - loss: 0.0052 - accuracy: 0.9665 - val_loss: 0.0466 - val_accuracy: 0.7363 - lr: 0.0010 - 10s/epoch - 57ms/step
Epoch 72/100
176/176 - 10s - loss: 0.0053 - accuracy: 0.9665 - val_loss: 0.0462 - val_accuracy: 0.7373 - lr: 0.0010 - 10s/epoch - 56ms/step
Epoch 73/100
176/176 - 10s - loss: 0.0051 - accuracy: 0.9679 - val_loss: 0.0462 - val_accuracy: 0.7376 - lr: 0.0010 - 10s/epoch - 56ms/step
Epoch 74/100
176/176 - 10s - loss: 0.0052 - accuracy: 0.9671 - val_loss: 0.0465 - val_accuracy: 0.7363 - lr: 0.0010 - 10s/epoch - 56ms/step
Epoch 75/100
176/176 - 10s - loss: 0.0051 - accuracy: 0.9673 - val_loss: 0.0452 - val_accuracy: 0.7438 - lr: 0.0010 - 10s/epoch - 56ms/step
Epoch 76/100
176/176 - 10s - loss: 0.0051 - accuracy: 0.9673 - val_loss: 0.0440 - val_accuracy: 0.7487 - lr: 0.0010 - 10s/epoch - 56ms/step
Epoch 77/100
176/176 - 10s - loss: 0.0051 - accuracy: 0.9674 - val_loss: 0.0470 - val_accuracy: 0.7346 - lr: 0.0010 - 10s/epoch - 56ms/step
Epoch 78/100
176/176 - 10s - loss: 0.0053 - accuracy: 0.9659 - val_loss: 0.0459 - val_accuracy: 0.7393 - lr: 0.0010 - 10s/epoch - 56ms/step
Epoch 79/100
176/176 - 10s - loss: 0.0054 - accuracy: 0.9656 - val_loss: 0.0453 - val_accuracy: 0.7415 - lr: 0.0010 - 10s/epoch - 55ms/step
Epoch 80/100
176/176 - 10s - loss: 0.0054 - accuracy: 0.9656 - val_loss: 0.0465 - val_accuracy: 0.7355 - lr: 0.0010 - 10s/epoch - 56ms/step
Epoch 81/100
176/176 - 10s - loss: 0.0052 - accuracy: 0.9666 - val_loss: 0.0456 - val_accuracy: 0.7418 - lr: 0.0010 - 10s/epoch - 56ms/step
Epoch 82/100
176/176 - 10s - loss: 0.0051 - accuracy: 0.9678 - val_loss: 0.0469 - val_accuracy: 0.7349 - lr: 0.0010 - 10s/epoch - 56ms/step
Epoch 83/100
176/176 - 10s - loss: 0.0051 - accuracy: 0.9677 - val_loss: 0.0473 - val_accuracy: 0.7346 - lr: 0.0010 - 10s/epoch - 59ms/step
Epoch 84/100
176/176 - 11s - loss: 0.0051 - accuracy: 0.9675 - val_loss: 0.0465 - val_accuracy: 0.7366 - lr: 0.0010 - 11s/epoch - 60ms/step
Epoch 85/100
176/176 - 10s - loss: 0.0052 - accuracy: 0.9670 - val_loss: 0.0473 - val_accuracy: 0.7333 - lr: 0.0010 - 10s/epoch - 58ms/step
Epoch 86/100
176/176 - 10s - loss: 0.0053 - accuracy: 0.9660 - val_loss: 0.0455 - val_accuracy: 0.7420 - lr: 0.0010 - 10s/epoch - 55ms/step
Epoch 87/100
176/176 - 10s - loss: 0.0053 - accuracy: 0.9664 - val_loss: 0.0470 - val_accuracy: 0.7348 - lr: 0.0010 - 10s/epoch - 56ms/step
Epoch 88/100
176/176 - 10s - loss: 0.0052 - accuracy: 0.9662 - val_loss: 0.0463 - val_accuracy: 0.7377 - lr: 0.0010 - 10s/epoch - 56ms/step
Epoch 89/100
176/176 - 10s - loss: 0.0055 - accuracy: 0.9652 - val_loss: 0.0458 - val_accuracy: 0.7381 - lr: 0.0010 - 10s/epoch - 56ms/step
Epoch 90/100
176/176 - 10s - loss: 0.0053 - accuracy: 0.9658 - val_loss: 0.0457 - val_accuracy: 0.7397 - lr: 0.0010 - 10s/epoch - 57ms/step
Epoch 91/100
176/176 - 10s - loss: 0.0051 - accuracy: 0.9679 - val_loss: 0.0486 - val_accuracy: 0.7245 - lr: 0.0010 - 10s/epoch - 56ms/step
Epoch 92/100
176/176 - 10s - loss: 0.0052 - accuracy: 0.9669 - val_loss: 0.0453 - val_accuracy: 0.7426 - lr: 0.0010 - 10s/epoch - 56ms/step
Epoch 93/100
176/176 - 10s - loss: 0.0053 - accuracy: 0.9666 - val_loss: 0.0461 - val_accuracy: 0.7382 - lr: 0.0010 - 10s/epoch - 56ms/step
Epoch 94/100
176/176 - 10s - loss: 0.0052 - accuracy: 0.9665 - val_loss: 0.0453 - val_accuracy: 0.7413 - lr: 0.0010 - 10s/epoch - 56ms/step
Epoch 95/100
176/176 - 10s - loss: 0.0050 - accuracy: 0.9679 - val_loss: 0.0471 - val_accuracy: 0.7325 - lr: 0.0010 - 10s/epoch - 57ms/step
Epoch 96/100
176/176 - 10s - loss: 0.0050 - accuracy: 0.9678 - val_loss: 0.0465 - val_accuracy: 0.7373 - lr: 0.0010 - 10s/epoch - 56ms/step
Epoch 97/100
176/176 - 10s - loss: 0.0051 - accuracy: 0.9673 - val_loss: 0.0452 - val_accuracy: 0.7449 - lr: 0.0010 - 10s/epoch - 56ms/step
Epoch 98/100
176/176 - 10s - loss: 0.0051 - accuracy: 0.9675 - val_loss: 0.0458 - val_accuracy: 0.7394 - lr: 0.0010 - 10s/epoch - 57ms/step
Epoch 99/100
176/176 - 10s - loss: 0.0053 - accuracy: 0.9663 - val_loss: 0.0458 - val_accuracy: 0.7405 - lr: 0.0010 - 10s/epoch - 55ms/step
Epoch 100/100
176/176 - 10s - loss: 0.0054 - accuracy: 0.9654 - val_loss: 0.0452 - val_accuracy: 0.7429 - lr: 0.0010 - 10s/epoch - 56ms/step
Epoch 1/100
36/36 - 11s - loss: 0.0047 - accuracy: 0.9701 - val_loss: 0.0457 - val_accuracy: 0.7401 - lr: 0.0010 - 11s/epoch - 312ms/step
Epoch 2/100
36/36 - 9s - loss: 0.0044 - accuracy: 0.9723 - val_loss: 0.0469 - val_accuracy: 0.7341 - lr: 0.0010 - 9s/epoch - 247ms/step
Epoch 3/100
36/36 - 9s - loss: 0.0042 - accuracy: 0.9731 - val_loss: 0.0461 - val_accuracy: 0.7392 - lr: 0.0010 - 9s/epoch - 247ms/step
Epoch 4/100
36/36 - 9s - loss: 0.0041 - accuracy: 0.9739 - val_loss: 0.0469 - val_accuracy: 0.7355 - lr: 0.0010 - 9s/epoch - 247ms/step
Epoch 5/100
36/36 - 9s - loss: 0.0041 - accuracy: 0.9738 - val_loss: 0.0473 - val_accuracy: 0.7322 - lr: 0.0010 - 9s/epoch - 247ms/step
Epoch 6/100
36/36 - 9s - loss: 0.0042 - accuracy: 0.9730 - val_loss: 0.0469 - val_accuracy: 0.7350 - lr: 0.0010 - 9s/epoch - 242ms/step
Epoch 7/100
36/36 - 9s - loss: 0.0042 - accuracy: 0.9738 - val_loss: 0.0473 - val_accuracy: 0.7344 - lr: 0.0010 - 9s/epoch - 241ms/step
Epoch 8/100
36/36 - 9s - loss: 0.0042 - accuracy: 0.9734 - val_loss: 0.0469 - val_accuracy: 0.7354 - lr: 0.0010 - 9s/epoch - 246ms/step
Epoch 9/100
36/36 - 9s - loss: 0.0041 - accuracy: 0.9741 - val_loss: 0.0475 - val_accuracy: 0.7320 - lr: 0.0010 - 9s/epoch - 246ms/step
Epoch 10/100
36/36 - 9s - loss: 0.0042 - accuracy: 0.9734 - val_loss: 0.0473 - val_accuracy: 0.7346 - lr: 0.0010 - 9s/epoch - 246ms/step
Epoch 11/100
36/36 - 9s - loss: 0.0041 - accuracy: 0.9737 - val_loss: 0.0475 - val_accuracy: 0.7326 - lr: 0.0010 - 9s/epoch - 246ms/step
Epoch 12/100
36/36 - 9s - loss: 0.0040 - accuracy: 0.9746 - val_loss: 0.0479 - val_accuracy: 0.7310 - lr: 0.0010 - 9s/epoch - 247ms/step
Epoch 13/100
36/36 - 9s - loss: 0.0039 - accuracy: 0.9756 - val_loss: 0.0471 - val_accuracy: 0.7348 - lr: 0.0010 - 9s/epoch - 243ms/step
Epoch 14/100
36/36 - 9s - loss: 0.0038 - accuracy: 0.9759 - val_loss: 0.0479 - val_accuracy: 0.7301 - lr: 0.0010 - 9s/epoch - 239ms/step
Epoch 15/100
36/36 - 9s - loss: 0.0039 - accuracy: 0.9756 - val_loss: 0.0481 - val_accuracy: 0.7291 - lr: 0.0010 - 9s/epoch - 245ms/step
Epoch 16/100
36/36 - 9s - loss: 0.0042 - accuracy: 0.9733 - val_loss: 0.0479 - val_accuracy: 0.7293 - lr: 0.0010 - 9s/epoch - 246ms/step
Epoch 17/100
36/36 - 9s - loss: 0.0039 - accuracy: 0.9751 - val_loss: 0.0486 - val_accuracy: 0.7267 - lr: 0.0010 - 9s/epoch - 246ms/step
Epoch 18/100
36/36 - 9s - loss: 0.0039 - accuracy: 0.9757 - val_loss: 0.0481 - val_accuracy: 0.7296 - lr: 0.0010 - 9s/epoch - 247ms/step
Epoch 19/100
36/36 - 9s - loss: 0.0038 - accuracy: 0.9759 - val_loss: 0.0482 - val_accuracy: 0.7301 - lr: 0.0010 - 9s/epoch - 246ms/step
Epoch 20/100
36/36 - 9s - loss: 0.0039 - accuracy: 0.9751 - val_loss: 0.0494 - val_accuracy: 0.7246 - lr: 0.0010 - 9s/epoch - 247ms/step
Epoch 21/100
36/36 - 9s - loss: 0.0038 - accuracy: 0.9760 - val_loss: 0.0489 - val_accuracy: 0.7269 - lr: 0.0010 - 9s/epoch - 242ms/step
Epoch 22/100
36/36 - 9s - loss: 0.0038 - accuracy: 0.9758 - val_loss: 0.0485 - val_accuracy: 0.7278 - lr: 0.0010 - 9s/epoch - 241ms/step
Epoch 23/100
36/36 - 9s - loss: 0.0038 - accuracy: 0.9763 - val_loss: 0.0487 - val_accuracy: 0.7278 - lr: 0.0010 - 9s/epoch - 245ms/step
Epoch 24/100
36/36 - 9s - loss: 0.0039 - accuracy: 0.9755 - val_loss: 0.0489 - val_accuracy: 0.7265 - lr: 0.0010 - 9s/epoch - 245ms/step
Epoch 25/100
36/36 - 9s - loss: 0.0037 - accuracy: 0.9763 - val_loss: 0.0485 - val_accuracy: 0.7297 - lr: 0.0010 - 9s/epoch - 249ms/step
Epoch 26/100
36/36 - 9s - loss: 0.0038 - accuracy: 0.9764 - val_loss: 0.0482 - val_accuracy: 0.7310 - lr: 0.0010 - 9s/epoch - 247ms/step
Epoch 27/100
36/36 - 9s - loss: 0.0039 - accuracy: 0.9753 - val_loss: 0.0483 - val_accuracy: 0.7289 - lr: 0.0010 - 9s/epoch - 247ms/step
Epoch 28/100
36/36 - 9s - loss: 0.0039 - accuracy: 0.9752 - val_loss: 0.0472 - val_accuracy: 0.7363 - lr: 0.0010 - 9s/epoch - 245ms/step
Epoch 29/100
36/36 - 9s - loss: 0.0039 - accuracy: 0.9756 - val_loss: 0.0488 - val_accuracy: 0.7268 - lr: 0.0010 - 9s/epoch - 242ms/step
Epoch 30/100
36/36 - 9s - loss: 0.0039 - accuracy: 0.9753 - val_loss: 0.0475 - val_accuracy: 0.7336 - lr: 0.0010 - 9s/epoch - 245ms/step
Epoch 31/100
36/36 - 9s - loss: 0.0040 - accuracy: 0.9747 - val_loss: 0.0484 - val_accuracy: 0.7297 - lr: 0.0010 - 9s/epoch - 246ms/step
Epoch 32/100
36/36 - 9s - loss: 0.0039 - accuracy: 0.9754 - val_loss: 0.0493 - val_accuracy: 0.7253 - lr: 0.0010 - 9s/epoch - 247ms/step
Epoch 33/100
36/36 - 9s - loss: 0.0039 - accuracy: 0.9758 - val_loss: 0.0480 - val_accuracy: 0.7323 - lr: 0.0010 - 9s/epoch - 247ms/step
Epoch 34/100
36/36 - 9s - loss: 0.0037 - accuracy: 0.9767 - val_loss: 0.0491 - val_accuracy: 0.7263 - lr: 0.0010 - 9s/epoch - 247ms/step
Epoch 35/100
36/36 - 9s - loss: 0.0037 - accuracy: 0.9766 - val_loss: 0.0485 - val_accuracy: 0.7295 - lr: 0.0010 - 9s/epoch - 244ms/step
Epoch 36/100
36/36 - 9s - loss: 0.0038 - accuracy: 0.9758 - val_loss: 0.0485 - val_accuracy: 0.7305 - lr: 0.0010 - 9s/epoch - 243ms/step
Epoch 37/100
36/36 - 9s - loss: 0.0037 - accuracy: 0.9767 - val_loss: 0.0485 - val_accuracy: 0.7298 - lr: 0.0010 - 9s/epoch - 241ms/step
Epoch 38/100
36/36 - 9s - loss: 0.0037 - accuracy: 0.9759 - val_loss: 0.0487 - val_accuracy: 0.7284 - lr: 0.0010 - 9s/epoch - 246ms/step
Epoch 39/100
36/36 - 9s - loss: 0.0039 - accuracy: 0.9753 - val_loss: 0.0486 - val_accuracy: 0.7302 - lr: 0.0010 - 9s/epoch - 245ms/step
Epoch 40/100
36/36 - 9s - loss: 0.0037 - accuracy: 0.9762 - val_loss: 0.0484 - val_accuracy: 0.7303 - lr: 0.0010 - 9s/epoch - 247ms/step
Epoch 41/100
36/36 - 9s - loss: 0.0038 - accuracy: 0.9760 - val_loss: 0.0496 - val_accuracy: 0.7255 - lr: 0.0010 - 9s/epoch - 247ms/step
Epoch 42/100
36/36 - 9s - loss: 0.0036 - accuracy: 0.9766 - val_loss: 0.0492 - val_accuracy: 0.7262 - lr: 0.0010 - 9s/epoch - 246ms/step
Epoch 43/100
36/36 - 9s - loss: 0.0038 - accuracy: 0.9759 - val_loss: 0.0493 - val_accuracy: 0.7259 - lr: 0.0010 - 9s/epoch - 246ms/step
Epoch 44/100
36/36 - 9s - loss: 0.0037 - accuracy: 0.9765 - val_loss: 0.0488 - val_accuracy: 0.7286 - lr: 0.0010 - 9s/epoch - 241ms/step
Epoch 45/100
36/36 - 9s - loss: 0.0037 - accuracy: 0.9762 - val_loss: 0.0487 - val_accuracy: 0.7286 - lr: 0.0010 - 9s/epoch - 244ms/step
Epoch 46/100
36/36 - 9s - loss: 0.0040 - accuracy: 0.9749 - val_loss: 0.0488 - val_accuracy: 0.7283 - lr: 0.0010 - 9s/epoch - 263ms/step
Epoch 47/100
36/36 - 10s - loss: 0.0037 - accuracy: 0.9764 - val_loss: 0.0492 - val_accuracy: 0.7258 - lr: 0.0010 - 10s/epoch - 265ms/step
Epoch 48/100
36/36 - 10s - loss: 0.0036 - accuracy: 0.9770 - val_loss: 0.0497 - val_accuracy: 0.7240 - lr: 0.0010 - 10s/epoch - 266ms/step
Epoch 49/100
36/36 - 10s - loss: 0.0038 - accuracy: 0.9756 - val_loss: 0.0491 - val_accuracy: 0.7274 - lr: 0.0010 - 10s/epoch - 264ms/step
Epoch 50/100
36/36 - 9s - loss: 0.0038 - accuracy: 0.9756 - val_loss: 0.0492 - val_accuracy: 0.7264 - lr: 0.0010 - 9s/epoch - 263ms/step
Epoch 51/100
36/36 - 9s - loss: 0.0036 - accuracy: 0.9770 - val_loss: 0.0494 - val_accuracy: 0.7262 - lr: 0.0010 - 9s/epoch - 246ms/step
Epoch 52/100
36/36 - 9s - loss: 0.0039 - accuracy: 0.9754 - val_loss: 0.0497 - val_accuracy: 0.7241 - lr: 0.0010 - 9s/epoch - 242ms/step
Epoch 53/100
36/36 - 9s - loss: 0.0036 - accuracy: 0.9771 - val_loss: 0.0490 - val_accuracy: 0.7266 - lr: 0.0010 - 9s/epoch - 247ms/step
Epoch 54/100
36/36 - 9s - loss: 0.0040 - accuracy: 0.9747 - val_loss: 0.0489 - val_accuracy: 0.7274 - lr: 0.0010 - 9s/epoch - 246ms/step
Epoch 55/100
36/36 - 9s - loss: 0.0037 - accuracy: 0.9767 - val_loss: 0.0497 - val_accuracy: 0.7237 - lr: 0.0010 - 9s/epoch - 244ms/step
Epoch 56/100
36/36 - 9s - loss: 0.0038 - accuracy: 0.9757 - val_loss: 0.0497 - val_accuracy: 0.7240 - lr: 0.0010 - 9s/epoch - 244ms/step
Epoch 57/100
36/36 - 9s - loss: 0.0037 - accuracy: 0.9764 - val_loss: 0.0485 - val_accuracy: 0.7295 - lr: 0.0010 - 9s/epoch - 243ms/step
Epoch 58/100
36/36 - 9s - loss: 0.0037 - accuracy: 0.9765 - val_loss: 0.0484 - val_accuracy: 0.7298 - lr: 0.0010 - 9s/epoch - 243ms/step
Epoch 59/100
36/36 - 9s - loss: 0.0037 - accuracy: 0.9770 - val_loss: 0.0499 - val_accuracy: 0.7233 - lr: 0.0010 - 9s/epoch - 241ms/step
Epoch 60/100
36/36 - 9s - loss: 0.0036 - accuracy: 0.9771 - val_loss: 0.0495 - val_accuracy: 0.7246 - lr: 0.0010 - 9s/epoch - 245ms/step
Epoch 61/100
36/36 - 9s - loss: 0.0037 - accuracy: 0.9765 - val_loss: 0.0490 - val_accuracy: 0.7267 - lr: 0.0010 - 9s/epoch - 261ms/step
Epoch 62/100
36/36 - 9s - loss: 0.0038 - accuracy: 0.9760 - val_loss: 0.0495 - val_accuracy: 0.7248 - lr: 0.0010 - 9s/epoch - 264ms/step
Epoch 63/100
36/36 - 10s - loss: 0.0038 - accuracy: 0.9757 - val_loss: 0.0491 - val_accuracy: 0.7267 - lr: 0.0010 - 10s/epoch - 264ms/step
Epoch 64/100
36/36 - 10s - loss: 0.0036 - accuracy: 0.9770 - val_loss: 0.0494 - val_accuracy: 0.7250 - lr: 0.0010 - 10s/epoch - 265ms/step
Epoch 65/100
36/36 - 10s - loss: 0.0037 - accuracy: 0.9767 - val_loss: 0.0494 - val_accuracy: 0.7257 - lr: 0.0010 - 10s/epoch - 264ms/step
Epoch 66/100
36/36 - 9s - loss: 0.0037 - accuracy: 0.9768 - val_loss: 0.0490 - val_accuracy: 0.7280 - lr: 0.0010 - 9s/epoch - 240ms/step
Epoch 67/100
36/36 - 9s - loss: 0.0037 - accuracy: 0.9764 - val_loss: 0.0489 - val_accuracy: 0.7284 - lr: 0.0010 - 9s/epoch - 243ms/step
Epoch 68/100
36/36 - 9s - loss: 0.0037 - accuracy: 0.9771 - val_loss: 0.0494 - val_accuracy: 0.7256 - lr: 0.0010 - 9s/epoch - 245ms/step
Epoch 69/100
36/36 - 9s - loss: 0.0038 - accuracy: 0.9756 - val_loss: 0.0490 - val_accuracy: 0.7286 - lr: 0.0010 - 9s/epoch - 246ms/step
Epoch 70/100
36/36 - 9s - loss: 0.0037 - accuracy: 0.9763 - val_loss: 0.0494 - val_accuracy: 0.7261 - lr: 0.0010 - 9s/epoch - 244ms/step
Epoch 71/100
36/36 - 9s - loss: 0.0038 - accuracy: 0.9758 - val_loss: 0.0493 - val_accuracy: 0.7273 - lr: 0.0010 - 9s/epoch - 242ms/step
Epoch 72/100
36/36 - 9s - loss: 0.0037 - accuracy: 0.9766 - val_loss: 0.0493 - val_accuracy: 0.7270 - lr: 0.0010 - 9s/epoch - 245ms/step
Epoch 73/100
36/36 - 9s - loss: 0.0037 - accuracy: 0.9769 - val_loss: 0.0492 - val_accuracy: 0.7279 - lr: 0.0010 - 9s/epoch - 242ms/step
Epoch 74/100
36/36 - 9s - loss: 0.0036 - accuracy: 0.9768 - val_loss: 0.0492 - val_accuracy: 0.7277 - lr: 0.0010 - 9s/epoch - 240ms/step
Epoch 75/100
36/36 - 9s - loss: 0.0036 - accuracy: 0.9770 - val_loss: 0.0488 - val_accuracy: 0.7299 - lr: 0.0010 - 9s/epoch - 245ms/step
Epoch 76/100
36/36 - 9s - loss: 0.0036 - accuracy: 0.9768 - val_loss: 0.0492 - val_accuracy: 0.7281 - lr: 0.0010 - 9s/epoch - 247ms/step
Epoch 77/100
36/36 - 9s - loss: 0.0037 - accuracy: 0.9769 - val_loss: 0.0494 - val_accuracy: 0.7270 - lr: 0.0010 - 9s/epoch - 247ms/step
Epoch 78/100
36/36 - 9s - loss: 0.0037 - accuracy: 0.9766 - val_loss: 0.0484 - val_accuracy: 0.7309 - lr: 0.0010 - 9s/epoch - 246ms/step
Epoch 79/100
36/36 - 9s - loss: 0.0036 - accuracy: 0.9772 - val_loss: 0.0500 - val_accuracy: 0.7224 - lr: 0.0010 - 9s/epoch - 246ms/step
Epoch 80/100
36/36 - 9s - loss: 0.0036 - accuracy: 0.9771 - val_loss: 0.0492 - val_accuracy: 0.7276 - lr: 0.0010 - 9s/epoch - 246ms/step
Epoch 81/100
36/36 - 9s - loss: 0.0036 - accuracy: 0.9770 - val_loss: 0.0499 - val_accuracy: 0.7240 - lr: 0.0010 - 9s/epoch - 243ms/step
Epoch 82/100
36/36 - 9s - loss: 0.0038 - accuracy: 0.9763 - val_loss: 0.0491 - val_accuracy: 0.7278 - lr: 0.0010 - 9s/epoch - 242ms/step
Epoch 83/100
36/36 - 9s - loss: 0.0036 - accuracy: 0.9768 - val_loss: 0.0499 - val_accuracy: 0.7239 - lr: 0.0010 - 9s/epoch - 246ms/step
Epoch 84/100
36/36 - 9s - loss: 0.0037 - accuracy: 0.9765 - val_loss: 0.0492 - val_accuracy: 0.7269 - lr: 0.0010 - 9s/epoch - 245ms/step
Epoch 85/100
36/36 - 9s - loss: 0.0037 - accuracy: 0.9767 - val_loss: 0.0500 - val_accuracy: 0.7235 - lr: 0.0010 - 9s/epoch - 243ms/step
Epoch 86/100
36/36 - 9s - loss: 0.0037 - accuracy: 0.9766 - val_loss: 0.0491 - val_accuracy: 0.7281 - lr: 0.0010 - 9s/epoch - 243ms/step
Epoch 87/100
36/36 - 9s - loss: 0.0037 - accuracy: 0.9764 - val_loss: 0.0503 - val_accuracy: 0.7220 - lr: 0.0010 - 9s/epoch - 244ms/step
Epoch 88/100
36/36 - 9s - loss: 0.0037 - accuracy: 0.9763 - val_loss: 0.0496 - val_accuracy: 0.7242 - lr: 0.0010 - 9s/epoch - 244ms/step
Epoch 89/100
36/36 - 9s - loss: 0.0036 - accuracy: 0.9768 - val_loss: 0.0500 - val_accuracy: 0.7223 - lr: 0.0010 - 9s/epoch - 241ms/step
Epoch 90/100
36/36 - 9s - loss: 0.0036 - accuracy: 0.9772 - val_loss: 0.0503 - val_accuracy: 0.7210 - lr: 0.0010 - 9s/epoch - 244ms/step
Epoch 91/100
36/36 - 9s - loss: 0.0036 - accuracy: 0.9770 - val_loss: 0.0496 - val_accuracy: 0.7252 - lr: 0.0010 - 9s/epoch - 247ms/step
Epoch 92/100
36/36 - 9s - loss: 0.0037 - accuracy: 0.9762 - val_loss: 0.0488 - val_accuracy: 0.7287 - lr: 0.0010 - 9s/epoch - 245ms/step
Epoch 93/100
36/36 - 9s - loss: 0.0038 - accuracy: 0.9761 - val_loss: 0.0491 - val_accuracy: 0.7276 - lr: 0.0010 - 9s/epoch - 243ms/step
Epoch 94/100
36/36 - 9s - loss: 0.0035 - accuracy: 0.9775 - val_loss: 0.0493 - val_accuracy: 0.7276 - lr: 0.0010 - 9s/epoch - 244ms/step
Epoch 95/100
36/36 - 9s - loss: 0.0037 - accuracy: 0.9767 - val_loss: 0.0490 - val_accuracy: 0.7281 - lr: 0.0010 - 9s/epoch - 245ms/step
Epoch 96/100
36/36 - 9s - loss: 0.0039 - accuracy: 0.9754 - val_loss: 0.0480 - val_accuracy: 0.7326 - lr: 0.0010 - 9s/epoch - 240ms/step
Epoch 97/100
36/36 - 9s - loss: 0.0037 - accuracy: 0.9762 - val_loss: 0.0491 - val_accuracy: 0.7277 - lr: 0.0010 - 9s/epoch - 241ms/step
Epoch 98/100
36/36 - 9s - loss: 0.0037 - accuracy: 0.9761 - val_loss: 0.0498 - val_accuracy: 0.7244 - lr: 0.0010 - 9s/epoch - 246ms/step
Epoch 99/100
36/36 - 9s - loss: 0.0037 - accuracy: 0.9767 - val_loss: 0.0501 - val_accuracy: 0.7232 - lr: 0.0010 - 9s/epoch - 246ms/step
Epoch 100/100
36/36 - 9s - loss: 0.0039 - accuracy: 0.9757 - val_loss: 0.0497 - val_accuracy: 0.7242 - lr: 0.0010 - 9s/epoch - 247ms/step
Epoch 1/25
4378/4378 - 76s - loss: 0.2262 - accuracy: 0.9339 - val_loss: 1.0570 - val_accuracy: 0.7596 - lr: 0.0010 - 76s/epoch - 17ms/step
Epoch 2/25
4378/4378 - 74s - loss: 0.2241 - accuracy: 0.9285 - val_loss: 0.9203 - val_accuracy: 0.7632 - lr: 0.0010 - 74s/epoch - 17ms/step
Epoch 3/25
4378/4378 - 74s - loss: 0.2250 - accuracy: 0.9274 - val_loss: 0.8929 - val_accuracy: 0.7669 - lr: 0.0010 - 74s/epoch - 17ms/step
Epoch 4/25
4378/4378 - 75s - loss: 0.2288 - accuracy: 0.9250 - val_loss: 0.9640 - val_accuracy: 0.7594 - lr: 0.0010 - 75s/epoch - 17ms/step
Epoch 5/25
4378/4378 - 74s - loss: 0.2255 - accuracy: 0.9260 - val_loss: 0.8407 - val_accuracy: 0.7690 - lr: 0.0010 - 74s/epoch - 17ms/step
Epoch 6/25
4378/4378 - 74s - loss: 0.2232 - accuracy: 0.9266 - val_loss: 0.9338 - val_accuracy: 0.7558 - lr: 0.0010 - 74s/epoch - 17ms/step
Epoch 7/25
4378/4378 - 75s - loss: 0.2244 - accuracy: 0.9254 - val_loss: 0.8324 - val_accuracy: 0.7793 - lr: 0.0010 - 75s/epoch - 17ms/step
Epoch 8/25
4378/4378 - 75s - loss: 0.2237 - accuracy: 0.9259 - val_loss: 0.8385 - val_accuracy: 0.7722 - lr: 0.0010 - 75s/epoch - 17ms/step
Epoch 9/25
4378/4378 - 74s - loss: 0.2213 - accuracy: 0.9269 - val_loss: 0.9306 - val_accuracy: 0.7611 - lr: 0.0010 - 74s/epoch - 17ms/step
Epoch 10/25
4378/4378 - 75s - loss: 0.2169 - accuracy: 0.9282 - val_loss: 0.9123 - val_accuracy: 0.7606 - lr: 0.0010 - 75s/epoch - 17ms/step
Epoch 11/25
4378/4378 - 74s - loss: 0.2217 - accuracy: 0.9258 - val_loss: 0.8980 - val_accuracy: 0.7606 - lr: 0.0010 - 74s/epoch - 17ms/step
Epoch 12/25
4378/4378 - 74s - loss: 0.2239 - accuracy: 0.9245 - val_loss: 0.8413 - val_accuracy: 0.7688 - lr: 0.0010 - 74s/epoch - 17ms/step
Epoch 13/25
4378/4378 - 74s - loss: 0.2227 - accuracy: 0.9258 - val_loss: 0.8875 - val_accuracy: 0.7711 - lr: 0.0010 - 74s/epoch - 17ms/step
Epoch 14/25
4378/4378 - 74s - loss: 0.2251 - accuracy: 0.9231 - val_loss: 0.8833 - val_accuracy: 0.7557 - lr: 0.0010 - 74s/epoch - 17ms/step
Epoch 15/25
4378/4378 - 74s - loss: 0.2225 - accuracy: 0.9240 - val_loss: 0.8153 - val_accuracy: 0.7743 - lr: 0.0010 - 74s/epoch - 17ms/step
Epoch 16/25
4378/4378 - 75s - loss: 0.2236 - accuracy: 0.9232 - val_loss: 0.7324 - val_accuracy: 0.7915 - lr: 0.0010 - 75s/epoch - 17ms/step
Epoch 17/25
4378/4378 - 74s - loss: 0.2241 - accuracy: 0.9244 - val_loss: 0.8383 - val_accuracy: 0.7714 - lr: 0.0010 - 74s/epoch - 17ms/step
Epoch 18/25
4378/4378 - 74s - loss: 0.2263 - accuracy: 0.9237 - val_loss: 0.8315 - val_accuracy: 0.7727 - lr: 0.0010 - 74s/epoch - 17ms/step
Epoch 19/25
4378/4378 - 74s - loss: 0.2280 - accuracy: 0.9236 - val_loss: 0.9526 - val_accuracy: 0.7422 - lr: 0.0010 - 74s/epoch - 17ms/step
Epoch 20/25
4378/4378 - 74s - loss: 0.2227 - accuracy: 0.9246 - val_loss: 0.8985 - val_accuracy: 0.7587 - lr: 0.0010 - 74s/epoch - 17ms/step
Epoch 21/25
4378/4378 - 74s - loss: 0.2186 - accuracy: 0.9264 - val_loss: 0.8479 - val_accuracy: 0.7780 - lr: 0.0010 - 74s/epoch - 17ms/step
Epoch 22/25
4378/4378 - 74s - loss: 0.2194 - accuracy: 0.9265 - val_loss: 0.8284 - val_accuracy: 0.7692 - lr: 0.0010 - 74s/epoch - 17ms/step
Epoch 23/25
4378/4378 - 74s - loss: 0.2201 - accuracy: 0.9254 - val_loss: 0.8595 - val_accuracy: 0.7703 - lr: 0.0010 - 74s/epoch - 17ms/step
Epoch 24/25
4378/4378 - 74s - loss: 0.2241 - accuracy: 0.9242 - val_loss: 0.8635 - val_accuracy: 0.7639 - lr: 0.0010 - 74s/epoch - 17ms/step
Epoch 25/25
4378/4378 - 75s - loss: 0.2210 - accuracy: 0.9254 - val_loss: 0.9345 - val_accuracy: 0.7415 - lr: 0.0010 - 75s/epoch - 17ms/step
Epoch 1/25
876/876 - 21s - loss: 0.1553 - accuracy: 0.9502 - val_loss: 1.1087 - val_accuracy: 0.7451 - lr: 0.0010 - 21s/epoch - 24ms/step
Epoch 2/25
876/876 - 18s - loss: 0.1570 - accuracy: 0.9489 - val_loss: 1.0337 - val_accuracy: 0.7635 - lr: 0.0010 - 18s/epoch - 21ms/step
Epoch 3/25
876/876 - 19s - loss: 0.1625 - accuracy: 0.9468 - val_loss: 1.0567 - val_accuracy: 0.7526 - lr: 0.0010 - 19s/epoch - 21ms/step
Epoch 4/25
876/876 - 18s - loss: 0.1558 - accuracy: 0.9493 - val_loss: 1.0456 - val_accuracy: 0.7647 - lr: 0.0010 - 18s/epoch - 21ms/step
Epoch 5/25
876/876 - 18s - loss: 0.1573 - accuracy: 0.9482 - val_loss: 1.0421 - val_accuracy: 0.7603 - lr: 0.0010 - 18s/epoch - 21ms/step
Epoch 6/25
876/876 - 18s - loss: 0.1559 - accuracy: 0.9494 - val_loss: 1.1520 - val_accuracy: 0.7390 - lr: 0.0010 - 18s/epoch - 21ms/step
Epoch 7/25
876/876 - 19s - loss: 0.1541 - accuracy: 0.9502 - val_loss: 1.0883 - val_accuracy: 0.7475 - lr: 0.0010 - 19s/epoch - 21ms/step
Epoch 8/25
876/876 - 18s - loss: 0.1508 - accuracy: 0.9507 - val_loss: 1.1422 - val_accuracy: 0.7490 - lr: 0.0010 - 18s/epoch - 21ms/step
Epoch 9/25
876/876 - 18s - loss: 0.1515 - accuracy: 0.9510 - val_loss: 1.0594 - val_accuracy: 0.7653 - lr: 0.0010 - 18s/epoch - 21ms/step
Epoch 10/25
876/876 - 19s - loss: 0.1495 - accuracy: 0.9515 - val_loss: 1.1286 - val_accuracy: 0.7536 - lr: 0.0010 - 19s/epoch - 21ms/step
Epoch 11/25
876/876 - 18s - loss: 0.1520 - accuracy: 0.9504 - val_loss: 1.1457 - val_accuracy: 0.7476 - lr: 0.0010 - 18s/epoch - 21ms/step
Epoch 12/25
876/876 - 18s - loss: 0.1511 - accuracy: 0.9509 - val_loss: 1.1377 - val_accuracy: 0.7501 - lr: 0.0010 - 18s/epoch - 21ms/step
Epoch 13/25
876/876 - 18s - loss: 0.1495 - accuracy: 0.9518 - val_loss: 1.1285 - val_accuracy: 0.7529 - lr: 0.0010 - 18s/epoch - 21ms/step
Epoch 14/25
876/876 - 18s - loss: 0.1502 - accuracy: 0.9511 - val_loss: 1.0950 - val_accuracy: 0.7650 - lr: 0.0010 - 18s/epoch - 21ms/step
Epoch 15/25
876/876 - 18s - loss: 0.1464 - accuracy: 0.9518 - val_loss: 1.1365 - val_accuracy: 0.7562 - lr: 0.0010 - 18s/epoch - 21ms/step
Epoch 16/25
876/876 - 18s - loss: 0.1494 - accuracy: 0.9511 - val_loss: 1.0791 - val_accuracy: 0.7667 - lr: 0.0010 - 18s/epoch - 21ms/step
Epoch 17/25
876/876 - 18s - loss: 0.1474 - accuracy: 0.9519 - val_loss: 1.1399 - val_accuracy: 0.7529 - lr: 0.0010 - 18s/epoch - 21ms/step
Epoch 18/25
876/876 - 18s - loss: 0.1506 - accuracy: 0.9503 - val_loss: 1.1268 - val_accuracy: 0.7558 - lr: 0.0010 - 18s/epoch - 21ms/step
Epoch 19/25
876/876 - 18s - loss: 0.1465 - accuracy: 0.9521 - val_loss: 1.1416 - val_accuracy: 0.7571 - lr: 0.0010 - 18s/epoch - 21ms/step
Epoch 20/25
876/876 - 18s - loss: 0.1504 - accuracy: 0.9503 - val_loss: 1.2227 - val_accuracy: 0.7372 - lr: 0.0010 - 18s/epoch - 21ms/step
Epoch 21/25
876/876 - 18s - loss: 0.1404 - accuracy: 0.9538 - val_loss: 1.1639 - val_accuracy: 0.7464 - lr: 0.0010 - 18s/epoch - 21ms/step
Epoch 22/25
876/876 - 18s - loss: 0.1452 - accuracy: 0.9524 - val_loss: 1.1452 - val_accuracy: 0.7561 - lr: 0.0010 - 18s/epoch - 21ms/step
Epoch 23/25
876/876 - 18s - loss: 0.1484 - accuracy: 0.9512 - val_loss: 1.1765 - val_accuracy: 0.7497 - lr: 0.0010 - 18s/epoch - 21ms/step
Epoch 24/25
876/876 - 18s - loss: 0.1486 - accuracy: 0.9508 - val_loss: 1.0800 - val_accuracy: 0.7644 - lr: 0.0010 - 18s/epoch - 21ms/step
Epoch 25/25
876/876 - 18s - loss: 0.1476 - accuracy: 0.9516 - val_loss: 1.1149 - val_accuracy: 0.7609 - lr: 0.0010 - 18s/epoch - 21ms/step
Epoch 1/25
176/176 - 12s - loss: 0.1133 - accuracy: 0.9638 - val_loss: 1.2262 - val_accuracy: 0.7537 - lr: 0.0010 - 12s/epoch - 68ms/step
Epoch 2/25
176/176 - 10s - loss: 0.1025 - accuracy: 0.9679 - val_loss: 1.2955 - val_accuracy: 0.7479 - lr: 0.0010 - 10s/epoch - 56ms/step
Epoch 3/25
176/176 - 10s - loss: 0.1016 - accuracy: 0.9686 - val_loss: 1.4053 - val_accuracy: 0.7399 - lr: 0.0010 - 10s/epoch - 56ms/step
Epoch 4/25
176/176 - 10s - loss: 0.1008 - accuracy: 0.9678 - val_loss: 1.4365 - val_accuracy: 0.7336 - lr: 0.0010 - 10s/epoch - 55ms/step
Epoch 5/25
176/176 - 10s - loss: 0.1014 - accuracy: 0.9685 - val_loss: 1.3943 - val_accuracy: 0.7448 - lr: 0.0010 - 10s/epoch - 56ms/step
Epoch 6/25
176/176 - 10s - loss: 0.1049 - accuracy: 0.9668 - val_loss: 1.4523 - val_accuracy: 0.7362 - lr: 0.0010 - 10s/epoch - 56ms/step
Epoch 7/25
176/176 - 10s - loss: 0.1086 - accuracy: 0.9657 - val_loss: 1.4605 - val_accuracy: 0.7370 - lr: 0.0010 - 10s/epoch - 55ms/step
Epoch 8/25
176/176 - 10s - loss: 0.1081 - accuracy: 0.9665 - val_loss: 1.4294 - val_accuracy: 0.7439 - lr: 0.0010 - 10s/epoch - 55ms/step
Epoch 9/25
176/176 - 10s - loss: 0.1068 - accuracy: 0.9662 - val_loss: 1.4158 - val_accuracy: 0.7437 - lr: 0.0010 - 10s/epoch - 56ms/step
Epoch 10/25
176/176 - 10s - loss: 0.1084 - accuracy: 0.9654 - val_loss: 1.3776 - val_accuracy: 0.7470 - lr: 0.0010 - 10s/epoch - 56ms/step
Epoch 11/25
176/176 - 10s - loss: 0.1106 - accuracy: 0.9647 - val_loss: 1.4838 - val_accuracy: 0.7361 - lr: 0.0010 - 10s/epoch - 56ms/step
Epoch 12/25
176/176 - 10s - loss: 0.1071 - accuracy: 0.9657 - val_loss: 1.4017 - val_accuracy: 0.7472 - lr: 0.0010 - 10s/epoch - 55ms/step
Epoch 13/25
176/176 - 10s - loss: 0.1044 - accuracy: 0.9664 - val_loss: 1.4412 - val_accuracy: 0.7489 - lr: 0.0010 - 10s/epoch - 55ms/step
Epoch 14/25
176/176 - 10s - loss: 0.1086 - accuracy: 0.9654 - val_loss: 1.4808 - val_accuracy: 0.7389 - lr: 0.0010 - 10s/epoch - 55ms/step
Epoch 15/25
176/176 - 10s - loss: 0.1039 - accuracy: 0.9674 - val_loss: 1.4623 - val_accuracy: 0.7400 - lr: 0.0010 - 10s/epoch - 55ms/step
Epoch 16/25
176/176 - 10s - loss: 0.1037 - accuracy: 0.9667 - val_loss: 1.4525 - val_accuracy: 0.7424 - lr: 0.0010 - 10s/epoch - 56ms/step
Epoch 17/25
176/176 - 10s - loss: 0.1034 - accuracy: 0.9669 - val_loss: 1.5089 - val_accuracy: 0.7408 - lr: 0.0010 - 10s/epoch - 55ms/step
Epoch 18/25
176/176 - 10s - loss: 0.1052 - accuracy: 0.9665 - val_loss: 1.4970 - val_accuracy: 0.7383 - lr: 0.0010 - 10s/epoch - 56ms/step
Epoch 19/25
176/176 - 10s - loss: 0.1032 - accuracy: 0.9675 - val_loss: 1.5481 - val_accuracy: 0.7369 - lr: 0.0010 - 10s/epoch - 55ms/step
Epoch 20/25
176/176 - 10s - loss: 0.1017 - accuracy: 0.9679 - val_loss: 1.5358 - val_accuracy: 0.7379 - lr: 0.0010 - 10s/epoch - 56ms/step
Epoch 21/25
176/176 - 10s - loss: 0.1029 - accuracy: 0.9673 - val_loss: 1.5323 - val_accuracy: 0.7371 - lr: 0.0010 - 10s/epoch - 55ms/step
Epoch 22/25
176/176 - 10s - loss: 0.1013 - accuracy: 0.9673 - val_loss: 1.4787 - val_accuracy: 0.7473 - lr: 0.0010 - 10s/epoch - 55ms/step
Epoch 23/25
176/176 - 10s - loss: 0.0999 - accuracy: 0.9688 - val_loss: 1.5109 - val_accuracy: 0.7436 - lr: 0.0010 - 10s/epoch - 56ms/step
Epoch 24/25
176/176 - 10s - loss: 0.1008 - accuracy: 0.9677 - val_loss: 1.5583 - val_accuracy: 0.7383 - lr: 0.0010 - 10s/epoch - 55ms/step
Epoch 25/25
176/176 - 10s - loss: 0.1034 - accuracy: 0.9669 - val_loss: 1.5024 - val_accuracy: 0.7465 - lr: 0.0010 - 10s/epoch - 55ms/step
Epoch 1/25
36/36 - 11s - loss: 0.0953 - accuracy: 0.9703 - val_loss: 1.5487 - val_accuracy: 0.7396 - lr: 0.0010 - 11s/epoch - 308ms/step
Epoch 2/25
36/36 - 9s - loss: 0.0868 - accuracy: 0.9732 - val_loss: 1.5530 - val_accuracy: 0.7407 - lr: 0.0010 - 9s/epoch - 245ms/step
Epoch 3/25
36/36 - 9s - loss: 0.0852 - accuracy: 0.9734 - val_loss: 1.6160 - val_accuracy: 0.7347 - lr: 0.0010 - 9s/epoch - 243ms/step
Epoch 4/25
36/36 - 9s - loss: 0.0868 - accuracy: 0.9739 - val_loss: 1.6042 - val_accuracy: 0.7363 - lr: 0.0010 - 9s/epoch - 242ms/step
Epoch 5/25
36/36 - 9s - loss: 0.0851 - accuracy: 0.9734 - val_loss: 1.6671 - val_accuracy: 0.7300 - lr: 0.0010 - 9s/epoch - 247ms/step
Epoch 6/25
36/36 - 9s - loss: 0.0824 - accuracy: 0.9746 - val_loss: 1.6814 - val_accuracy: 0.7326 - lr: 0.0010 - 9s/epoch - 246ms/step
Epoch 7/25
36/36 - 9s - loss: 0.0798 - accuracy: 0.9750 - val_loss: 1.6450 - val_accuracy: 0.7378 - lr: 0.0010 - 9s/epoch - 247ms/step
Epoch 8/25
36/36 - 9s - loss: 0.0810 - accuracy: 0.9746 - val_loss: 1.7069 - val_accuracy: 0.7317 - lr: 0.0010 - 9s/epoch - 246ms/step
Epoch 9/25
36/36 - 9s - loss: 0.0806 - accuracy: 0.9750 - val_loss: 1.7132 - val_accuracy: 0.7311 - lr: 0.0010 - 9s/epoch - 246ms/step
Epoch 10/25
36/36 - 9s - loss: 0.0817 - accuracy: 0.9748 - val_loss: 1.7314 - val_accuracy: 0.7297 - lr: 0.0010 - 9s/epoch - 246ms/step
Epoch 11/25
36/36 - 9s - loss: 0.0846 - accuracy: 0.9741 - val_loss: 1.6675 - val_accuracy: 0.7352 - lr: 0.0010 - 9s/epoch - 241ms/step
Epoch 12/25
36/36 - 9s - loss: 0.0834 - accuracy: 0.9745 - val_loss: 1.6507 - val_accuracy: 0.7380 - lr: 0.0010 - 9s/epoch - 245ms/step
Epoch 13/25
36/36 - 9s - loss: 0.0814 - accuracy: 0.9753 - val_loss: 1.6534 - val_accuracy: 0.7389 - lr: 0.0010 - 9s/epoch - 247ms/step
Epoch 14/25
36/36 - 9s - loss: 0.0789 - accuracy: 0.9756 - val_loss: 1.7258 - val_accuracy: 0.7322 - lr: 0.0010 - 9s/epoch - 246ms/step
Epoch 15/25
36/36 - 9s - loss: 0.0810 - accuracy: 0.9750 - val_loss: 1.7336 - val_accuracy: 0.7319 - lr: 0.0010 - 9s/epoch - 246ms/step
Epoch 16/25
36/36 - 9s - loss: 0.0833 - accuracy: 0.9743 - val_loss: 1.7074 - val_accuracy: 0.7352 - lr: 0.0010 - 9s/epoch - 246ms/step
Epoch 17/25
36/36 - 9s - loss: 0.0809 - accuracy: 0.9746 - val_loss: 1.7356 - val_accuracy: 0.7332 - lr: 0.0010 - 9s/epoch - 247ms/step
Epoch 18/25
36/36 - 9s - loss: 0.0810 - accuracy: 0.9752 - val_loss: 1.7651 - val_accuracy: 0.7312 - lr: 0.0010 - 9s/epoch - 251ms/step
Epoch 19/25
36/36 - 9s - loss: 0.0772 - accuracy: 0.9757 - val_loss: 1.7314 - val_accuracy: 0.7326 - lr: 0.0010 - 9s/epoch - 241ms/step
Epoch 20/25
36/36 - 9s - loss: 0.0777 - accuracy: 0.9758 - val_loss: 1.7744 - val_accuracy: 0.7326 - lr: 0.0010 - 9s/epoch - 246ms/step
Epoch 21/25
36/36 - 9s - loss: 0.0801 - accuracy: 0.9752 - val_loss: 1.7744 - val_accuracy: 0.7307 - lr: 0.0010 - 9s/epoch - 246ms/step
Epoch 22/25
36/36 - 9s - loss: 0.0816 - accuracy: 0.9752 - val_loss: 1.8099 - val_accuracy: 0.7283 - lr: 0.0010 - 9s/epoch - 246ms/step
Epoch 23/25
36/36 - 9s - loss: 0.0772 - accuracy: 0.9761 - val_loss: 1.7867 - val_accuracy: 0.7308 - lr: 0.0010 - 9s/epoch - 246ms/step
Epoch 24/25
36/36 - 9s - loss: 0.0775 - accuracy: 0.9755 - val_loss: 1.8394 - val_accuracy: 0.7262 - lr: 0.0010 - 9s/epoch - 246ms/step
Epoch 25/25
36/36 - 9s - loss: 0.0820 - accuracy: 0.9745 - val_loss: 1.8193 - val_accuracy: 0.7281 - lr: 0.0010 - 9s/epoch - 247ms/step
Epoch 1/50
4378/4378 - 76s - loss: 0.2042 - accuracy: 0.9315 - val_loss: 0.9917 - val_accuracy: 0.7622 - lr: 0.0010 - 76s/epoch - 17ms/step
Epoch 2/50
4378/4378 - 75s - loss: 0.2087 - accuracy: 0.9285 - val_loss: 0.9145 - val_accuracy: 0.7628 - lr: 0.0010 - 75s/epoch - 17ms/step
Epoch 3/50
4378/4378 - 74s - loss: 0.2155 - accuracy: 0.9258 - val_loss: 0.9153 - val_accuracy: 0.7605 - lr: 0.0010 - 74s/epoch - 17ms/step
Epoch 4/50
4378/4378 - 74s - loss: 0.2089 - accuracy: 0.9287 - val_loss: 0.9166 - val_accuracy: 0.7593 - lr: 0.0010 - 74s/epoch - 17ms/step
Epoch 5/50
4378/4378 - 73s - loss: 0.2132 - accuracy: 0.9269 - val_loss: 0.8145 - val_accuracy: 0.7764 - lr: 0.0010 - 73s/epoch - 17ms/step
Epoch 6/50
4378/4378 - 74s - loss: 0.2175 - accuracy: 0.9242 - val_loss: 0.8818 - val_accuracy: 0.7627 - lr: 0.0010 - 74s/epoch - 17ms/step
Epoch 7/50
4378/4378 - 74s - loss: 0.2146 - accuracy: 0.9263 - val_loss: 0.8600 - val_accuracy: 0.7655 - lr: 0.0010 - 74s/epoch - 17ms/step
Epoch 8/50
4378/4378 - 73s - loss: 0.2172 - accuracy: 0.9256 - val_loss: 0.9193 - val_accuracy: 0.7484 - lr: 0.0010 - 73s/epoch - 17ms/step
Epoch 9/50
4378/4378 - 74s - loss: 0.2217 - accuracy: 0.9229 - val_loss: 0.8917 - val_accuracy: 0.7652 - lr: 0.0010 - 74s/epoch - 17ms/step
Epoch 10/50
4378/4378 - 74s - loss: 0.2170 - accuracy: 0.9246 - val_loss: 0.9040 - val_accuracy: 0.7643 - lr: 0.0010 - 74s/epoch - 17ms/step
Epoch 11/50
4378/4378 - 74s - loss: 0.2177 - accuracy: 0.9254 - val_loss: 0.8542 - val_accuracy: 0.7711 - lr: 0.0010 - 74s/epoch - 17ms/step
Epoch 12/50
4378/4378 - 74s - loss: 0.2224 - accuracy: 0.9226 - val_loss: 0.8609 - val_accuracy: 0.7748 - lr: 0.0010 - 74s/epoch - 17ms/step
Epoch 13/50
4378/4378 - 73s - loss: 0.2179 - accuracy: 0.9243 - val_loss: 0.9697 - val_accuracy: 0.7505 - lr: 0.0010 - 73s/epoch - 17ms/step
Epoch 14/50
4378/4378 - 74s - loss: 0.2175 - accuracy: 0.9253 - val_loss: 0.8906 - val_accuracy: 0.7614 - lr: 0.0010 - 74s/epoch - 17ms/step
Epoch 15/50
4378/4378 - 74s - loss: 0.2141 - accuracy: 0.9261 - val_loss: 0.9648 - val_accuracy: 0.7576 - lr: 0.0010 - 74s/epoch - 17ms/step
Epoch 16/50
4378/4378 - 74s - loss: 0.2193 - accuracy: 0.9243 - val_loss: 0.8972 - val_accuracy: 0.7563 - lr: 0.0010 - 74s/epoch - 17ms/step
Epoch 17/50
4378/4378 - 74s - loss: 0.2183 - accuracy: 0.9245 - val_loss: 1.0376 - val_accuracy: 0.7358 - lr: 0.0010 - 74s/epoch - 17ms/step
Epoch 18/50
4378/4378 - 74s - loss: 0.2216 - accuracy: 0.9231 - val_loss: 0.9091 - val_accuracy: 0.7495 - lr: 0.0010 - 74s/epoch - 17ms/step
Epoch 19/50
4378/4378 - 74s - loss: 0.2184 - accuracy: 0.9246 - val_loss: 0.8560 - val_accuracy: 0.7671 - lr: 0.0010 - 74s/epoch - 17ms/step
Epoch 20/50
4378/4378 - 73s - loss: 0.2246 - accuracy: 0.9230 - val_loss: 0.7921 - val_accuracy: 0.7843 - lr: 0.0010 - 73s/epoch - 17ms/step
Epoch 21/50
4378/4378 - 75s - loss: 0.2161 - accuracy: 0.9256 - val_loss: 0.8765 - val_accuracy: 0.7684 - lr: 0.0010 - 75s/epoch - 17ms/step
Epoch 22/50
4378/4378 - 74s - loss: 0.2178 - accuracy: 0.9248 - val_loss: 0.7953 - val_accuracy: 0.7794 - lr: 0.0010 - 74s/epoch - 17ms/step
Epoch 23/50
4378/4378 - 74s - loss: 0.2230 - accuracy: 0.9229 - val_loss: 0.9236 - val_accuracy: 0.7532 - lr: 0.0010 - 74s/epoch - 17ms/step
Epoch 24/50
4378/4378 - 74s - loss: 0.2205 - accuracy: 0.9236 - val_loss: 0.9095 - val_accuracy: 0.7572 - lr: 0.0010 - 74s/epoch - 17ms/step
Epoch 25/50
4378/4378 - 74s - loss: 0.2147 - accuracy: 0.9258 - val_loss: 0.8954 - val_accuracy: 0.7548 - lr: 0.0010 - 74s/epoch - 17ms/step
Epoch 26/50
4378/4378 - 74s - loss: 0.2240 - accuracy: 0.9219 - val_loss: 0.8722 - val_accuracy: 0.7680 - lr: 0.0010 - 74s/epoch - 17ms/step
Epoch 27/50
4378/4378 - 74s - loss: 0.2162 - accuracy: 0.9260 - val_loss: 0.9691 - val_accuracy: 0.7518 - lr: 0.0010 - 74s/epoch - 17ms/step
Epoch 28/50
4378/4378 - 74s - loss: 0.2220 - accuracy: 0.9229 - val_loss: 0.8997 - val_accuracy: 0.7602 - lr: 0.0010 - 74s/epoch - 17ms/step
Epoch 29/50
4378/4378 - 74s - loss: 0.2192 - accuracy: 0.9237 - val_loss: 0.9488 - val_accuracy: 0.7446 - lr: 0.0010 - 74s/epoch - 17ms/step
Epoch 30/50
4378/4378 - 74s - loss: 0.2206 - accuracy: 0.9228 - val_loss: 0.8137 - val_accuracy: 0.7691 - lr: 0.0010 - 74s/epoch - 17ms/step
Epoch 31/50
4378/4378 - 74s - loss: 0.2214 - accuracy: 0.9228 - val_loss: 0.8432 - val_accuracy: 0.7660 - lr: 0.0010 - 74s/epoch - 17ms/step
Epoch 32/50
4378/4378 - 74s - loss: 0.2220 - accuracy: 0.9227 - val_loss: 0.9310 - val_accuracy: 0.7539 - lr: 0.0010 - 74s/epoch - 17ms/step
Epoch 33/50
4378/4378 - 74s - loss: 0.2164 - accuracy: 0.9248 - val_loss: 0.9726 - val_accuracy: 0.7419 - lr: 0.0010 - 74s/epoch - 17ms/step
Epoch 34/50
4378/4378 - 74s - loss: 0.2182 - accuracy: 0.9238 - val_loss: 0.8374 - val_accuracy: 0.7659 - lr: 0.0010 - 74s/epoch - 17ms/step
Epoch 35/50
4378/4378 - 74s - loss: 0.2208 - accuracy: 0.9230 - val_loss: 0.8618 - val_accuracy: 0.7581 - lr: 0.0010 - 74s/epoch - 17ms/step
Epoch 36/50
4378/4378 - 73s - loss: 0.2211 - accuracy: 0.9236 - val_loss: 0.8863 - val_accuracy: 0.7610 - lr: 0.0010 - 73s/epoch - 17ms/step
Epoch 37/50
4378/4378 - 73s - loss: 0.2218 - accuracy: 0.9231 - val_loss: 0.8784 - val_accuracy: 0.7665 - lr: 0.0010 - 73s/epoch - 17ms/step
Epoch 38/50
4378/4378 - 74s - loss: 0.2168 - accuracy: 0.9246 - val_loss: 0.8565 - val_accuracy: 0.7610 - lr: 0.0010 - 74s/epoch - 17ms/step
Epoch 39/50
4378/4378 - 74s - loss: 0.2204 - accuracy: 0.9240 - val_loss: 0.9098 - val_accuracy: 0.7473 - lr: 0.0010 - 74s/epoch - 17ms/step
Epoch 40/50
4378/4378 - 74s - loss: 0.2173 - accuracy: 0.9251 - val_loss: 0.8270 - val_accuracy: 0.7700 - lr: 0.0010 - 74s/epoch - 17ms/step
Epoch 41/50
4378/4378 - 74s - loss: 0.2134 - accuracy: 0.9257 - val_loss: 0.9703 - val_accuracy: 0.7463 - lr: 0.0010 - 74s/epoch - 17ms/step
Epoch 42/50
4378/4378 - 74s - loss: 0.2177 - accuracy: 0.9246 - val_loss: 0.8320 - val_accuracy: 0.7768 - lr: 0.0010 - 74s/epoch - 17ms/step
Epoch 43/50
4378/4378 - 74s - loss: 0.2181 - accuracy: 0.9248 - val_loss: 0.9086 - val_accuracy: 0.7656 - lr: 0.0010 - 74s/epoch - 17ms/step
Epoch 44/50
4378/4378 - 74s - loss: 0.2152 - accuracy: 0.9253 - val_loss: 0.8757 - val_accuracy: 0.7720 - lr: 0.0010 - 74s/epoch - 17ms/step
Epoch 45/50
4378/4378 - 74s - loss: 0.2195 - accuracy: 0.9229 - val_loss: 0.8576 - val_accuracy: 0.7745 - lr: 0.0010 - 74s/epoch - 17ms/step
Epoch 46/50
4378/4378 - 74s - loss: 0.2221 - accuracy: 0.9229 - val_loss: 0.8593 - val_accuracy: 0.7730 - lr: 0.0010 - 74s/epoch - 17ms/step
Epoch 47/50
4378/4378 - 74s - loss: 0.2197 - accuracy: 0.9229 - val_loss: 0.8674 - val_accuracy: 0.7655 - lr: 0.0010 - 74s/epoch - 17ms/step
Epoch 48/50
4378/4378 - 73s - loss: 0.2192 - accuracy: 0.9231 - val_loss: 0.7913 - val_accuracy: 0.7792 - lr: 0.0010 - 73s/epoch - 17ms/step
Epoch 49/50
4378/4378 - 75s - loss: 0.2176 - accuracy: 0.9242 - val_loss: 0.8656 - val_accuracy: 0.7603 - lr: 0.0010 - 75s/epoch - 17ms/step
Epoch 50/50
4378/4378 - 73s - loss: 0.2192 - accuracy: 0.9236 - val_loss: 0.8454 - val_accuracy: 0.7788 - lr: 0.0010 - 73s/epoch - 17ms/step
Epoch 1/50
876/876 - 21s - loss: 0.1520 - accuracy: 0.9502 - val_loss: 1.0380 - val_accuracy: 0.7611 - lr: 0.0010 - 21s/epoch - 24ms/step
Epoch 2/50
876/876 - 19s - loss: 0.1496 - accuracy: 0.9505 - val_loss: 1.1031 - val_accuracy: 0.7569 - lr: 0.0010 - 19s/epoch - 21ms/step
Epoch 3/50
876/876 - 19s - loss: 0.1566 - accuracy: 0.9479 - val_loss: 1.0296 - val_accuracy: 0.7626 - lr: 0.0010 - 19s/epoch - 21ms/step
Epoch 4/50
876/876 - 19s - loss: 0.1553 - accuracy: 0.9478 - val_loss: 1.1458 - val_accuracy: 0.7482 - lr: 0.0010 - 19s/epoch - 21ms/step
Epoch 5/50
876/876 - 19s - loss: 0.1556 - accuracy: 0.9481 - val_loss: 1.1678 - val_accuracy: 0.7374 - lr: 0.0010 - 19s/epoch - 21ms/step
Epoch 6/50
876/876 - 19s - loss: 0.1544 - accuracy: 0.9484 - val_loss: 1.2569 - val_accuracy: 0.7363 - lr: 0.0010 - 19s/epoch - 21ms/step
Epoch 7/50
876/876 - 18s - loss: 0.1491 - accuracy: 0.9491 - val_loss: 1.1240 - val_accuracy: 0.7564 - lr: 0.0010 - 18s/epoch - 21ms/step
Epoch 8/50
876/876 - 18s - loss: 0.1517 - accuracy: 0.9489 - val_loss: 1.1448 - val_accuracy: 0.7506 - lr: 0.0010 - 18s/epoch - 21ms/step
Epoch 9/50
876/876 - 19s - loss: 0.1515 - accuracy: 0.9488 - val_loss: 1.0946 - val_accuracy: 0.7525 - lr: 0.0010 - 19s/epoch - 21ms/step
Epoch 10/50
876/876 - 18s - loss: 0.1444 - accuracy: 0.9519 - val_loss: 1.2435 - val_accuracy: 0.7420 - lr: 0.0010 - 18s/epoch - 21ms/step
Epoch 11/50
876/876 - 19s - loss: 0.1426 - accuracy: 0.9521 - val_loss: 1.1306 - val_accuracy: 0.7593 - lr: 0.0010 - 19s/epoch - 21ms/step
Epoch 12/50
876/876 - 18s - loss: 0.1447 - accuracy: 0.9522 - val_loss: 1.1014 - val_accuracy: 0.7610 - lr: 0.0010 - 18s/epoch - 21ms/step
Epoch 13/50
876/876 - 19s - loss: 0.1441 - accuracy: 0.9518 - val_loss: 1.1897 - val_accuracy: 0.7514 - lr: 0.0010 - 19s/epoch - 21ms/step
Epoch 14/50
876/876 - 18s - loss: 0.1437 - accuracy: 0.9519 - val_loss: 1.1971 - val_accuracy: 0.7522 - lr: 0.0010 - 18s/epoch - 21ms/step
Epoch 15/50
876/876 - 18s - loss: 0.1403 - accuracy: 0.9528 - val_loss: 1.2064 - val_accuracy: 0.7471 - lr: 0.0010 - 18s/epoch - 21ms/step
Epoch 16/50
876/876 - 18s - loss: 0.1429 - accuracy: 0.9523 - val_loss: 1.1897 - val_accuracy: 0.7504 - lr: 0.0010 - 18s/epoch - 21ms/step
Epoch 17/50
876/876 - 18s - loss: 0.1438 - accuracy: 0.9519 - val_loss: 1.0584 - val_accuracy: 0.7748 - lr: 0.0010 - 18s/epoch - 21ms/step
Epoch 18/50
876/876 - 18s - loss: 0.1396 - accuracy: 0.9537 - val_loss: 1.1971 - val_accuracy: 0.7480 - lr: 0.0010 - 18s/epoch - 21ms/step
Epoch 19/50
876/876 - 19s - loss: 0.1410 - accuracy: 0.9528 - val_loss: 1.3443 - val_accuracy: 0.7353 - lr: 0.0010 - 19s/epoch - 21ms/step
Epoch 20/50
876/876 - 18s - loss: 0.1424 - accuracy: 0.9529 - val_loss: 1.1687 - val_accuracy: 0.7575 - lr: 0.0010 - 18s/epoch - 21ms/step
Epoch 21/50
876/876 - 18s - loss: 0.1433 - accuracy: 0.9522 - val_loss: 1.3879 - val_accuracy: 0.7203 - lr: 0.0010 - 18s/epoch - 21ms/step
Epoch 22/50
876/876 - 18s - loss: 0.1425 - accuracy: 0.9524 - val_loss: 1.2251 - val_accuracy: 0.7450 - lr: 0.0010 - 18s/epoch - 21ms/step
Epoch 23/50
876/876 - 19s - loss: 0.1417 - accuracy: 0.9530 - val_loss: 1.2955 - val_accuracy: 0.7380 - lr: 0.0010 - 19s/epoch - 21ms/step
Epoch 24/50
876/876 - 19s - loss: 0.1439 - accuracy: 0.9508 - val_loss: 1.2282 - val_accuracy: 0.7389 - lr: 0.0010 - 19s/epoch - 21ms/step
Epoch 25/50
876/876 - 18s - loss: 0.1430 - accuracy: 0.9533 - val_loss: 1.2217 - val_accuracy: 0.7513 - lr: 0.0010 - 18s/epoch - 21ms/step
Epoch 26/50
876/876 - 19s - loss: 0.1354 - accuracy: 0.9549 - val_loss: 1.2299 - val_accuracy: 0.7500 - lr: 0.0010 - 19s/epoch - 21ms/step
Epoch 27/50
876/876 - 18s - loss: 0.1378 - accuracy: 0.9547 - val_loss: 1.2465 - val_accuracy: 0.7487 - lr: 0.0010 - 18s/epoch - 21ms/step
Epoch 28/50
876/876 - 18s - loss: 0.1377 - accuracy: 0.9539 - val_loss: 1.4150 - val_accuracy: 0.7249 - lr: 0.0010 - 18s/epoch - 21ms/step
Epoch 29/50
876/876 - 18s - loss: 0.1397 - accuracy: 0.9531 - val_loss: 1.2747 - val_accuracy: 0.7400 - lr: 0.0010 - 18s/epoch - 21ms/step
Epoch 30/50
876/876 - 18s - loss: 0.1405 - accuracy: 0.9530 - val_loss: 1.2549 - val_accuracy: 0.7470 - lr: 0.0010 - 18s/epoch - 21ms/step
Epoch 31/50
876/876 - 18s - loss: 0.1386 - accuracy: 0.9539 - val_loss: 1.2339 - val_accuracy: 0.7496 - lr: 0.0010 - 18s/epoch - 21ms/step
Epoch 32/50
876/876 - 19s - loss: 0.1384 - accuracy: 0.9541 - val_loss: 1.1691 - val_accuracy: 0.7542 - lr: 0.0010 - 19s/epoch - 21ms/step
Epoch 33/50
876/876 - 19s - loss: 0.1393 - accuracy: 0.9538 - val_loss: 1.3042 - val_accuracy: 0.7421 - lr: 0.0010 - 19s/epoch - 21ms/step
Epoch 34/50
876/876 - 18s - loss: 0.1405 - accuracy: 0.9527 - val_loss: 1.3155 - val_accuracy: 0.7385 - lr: 0.0010 - 18s/epoch - 21ms/step
Epoch 35/50
876/876 - 19s - loss: 0.1409 - accuracy: 0.9526 - val_loss: 1.2812 - val_accuracy: 0.7426 - lr: 0.0010 - 19s/epoch - 21ms/step
Epoch 36/50
876/876 - 18s - loss: 0.1380 - accuracy: 0.9537 - val_loss: 1.2794 - val_accuracy: 0.7442 - lr: 0.0010 - 18s/epoch - 21ms/step
Epoch 37/50
876/876 - 19s - loss: 0.1422 - accuracy: 0.9519 - val_loss: 1.2682 - val_accuracy: 0.7348 - lr: 0.0010 - 19s/epoch - 21ms/step
Epoch 38/50
876/876 - 18s - loss: 0.1364 - accuracy: 0.9538 - val_loss: 1.2217 - val_accuracy: 0.7517 - lr: 0.0010 - 18s/epoch - 21ms/step
Epoch 39/50
876/876 - 18s - loss: 0.1383 - accuracy: 0.9536 - val_loss: 1.2346 - val_accuracy: 0.7409 - lr: 0.0010 - 18s/epoch - 21ms/step
Epoch 40/50
876/876 - 19s - loss: 0.1348 - accuracy: 0.9553 - val_loss: 1.2491 - val_accuracy: 0.7466 - lr: 0.0010 - 19s/epoch - 21ms/step
Epoch 41/50
876/876 - 19s - loss: 0.1361 - accuracy: 0.9546 - val_loss: 1.2797 - val_accuracy: 0.7433 - lr: 0.0010 - 19s/epoch - 21ms/step
Epoch 42/50
876/876 - 18s - loss: 0.1397 - accuracy: 0.9534 - val_loss: 1.1742 - val_accuracy: 0.7543 - lr: 0.0010 - 18s/epoch - 21ms/step
Epoch 43/50
876/876 - 17s - loss: 0.1422 - accuracy: 0.9524 - val_loss: 1.3377 - val_accuracy: 0.7290 - lr: 0.0010 - 17s/epoch - 20ms/step
Epoch 44/50
876/876 - 19s - loss: 0.1411 - accuracy: 0.9525 - val_loss: 1.1489 - val_accuracy: 0.7601 - lr: 0.0010 - 19s/epoch - 21ms/step
Epoch 45/50
876/876 - 19s - loss: 0.1342 - accuracy: 0.9555 - val_loss: 1.2019 - val_accuracy: 0.7594 - lr: 0.0010 - 19s/epoch - 21ms/step
Epoch 46/50
876/876 - 18s - loss: 0.1357 - accuracy: 0.9548 - val_loss: 1.2536 - val_accuracy: 0.7484 - lr: 0.0010 - 18s/epoch - 21ms/step
Epoch 47/50
876/876 - 19s - loss: 0.1384 - accuracy: 0.9537 - val_loss: 1.2006 - val_accuracy: 0.7548 - lr: 0.0010 - 19s/epoch - 21ms/step
Epoch 48/50
876/876 - 19s - loss: 0.1343 - accuracy: 0.9551 - val_loss: 1.2697 - val_accuracy: 0.7507 - lr: 0.0010 - 19s/epoch - 21ms/step
Epoch 49/50
876/876 - 19s - loss: 0.1330 - accuracy: 0.9554 - val_loss: 1.2909 - val_accuracy: 0.7456 - lr: 0.0010 - 19s/epoch - 21ms/step
Epoch 50/50
876/876 - 18s - loss: 0.1341 - accuracy: 0.9551 - val_loss: 1.2854 - val_accuracy: 0.7447 - lr: 0.0010 - 18s/epoch - 21ms/step
Epoch 1/50
176/176 - 14s - loss: 0.1072 - accuracy: 0.9657 - val_loss: 1.3468 - val_accuracy: 0.7465 - lr: 0.0010 - 14s/epoch - 78ms/step
Epoch 2/50
176/176 - 10s - loss: 0.0927 - accuracy: 0.9705 - val_loss: 1.4028 - val_accuracy: 0.7439 - lr: 0.0010 - 10s/epoch - 56ms/step
Epoch 3/50
176/176 - 10s - loss: 0.0920 - accuracy: 0.9709 - val_loss: 1.4608 - val_accuracy: 0.7422 - lr: 0.0010 - 10s/epoch - 56ms/step
Epoch 4/50
176/176 - 10s - loss: 0.0918 - accuracy: 0.9705 - val_loss: 1.4232 - val_accuracy: 0.7461 - lr: 0.0010 - 10s/epoch - 56ms/step
Epoch 5/50
176/176 - 10s - loss: 0.0940 - accuracy: 0.9699 - val_loss: 1.4645 - val_accuracy: 0.7425 - lr: 0.0010 - 10s/epoch - 56ms/step
Epoch 6/50
176/176 - 10s - loss: 0.0948 - accuracy: 0.9694 - val_loss: 1.4869 - val_accuracy: 0.7452 - lr: 0.0010 - 10s/epoch - 55ms/step
Epoch 7/50
176/176 - 10s - loss: 0.0954 - accuracy: 0.9694 - val_loss: 1.4803 - val_accuracy: 0.7442 - lr: 0.0010 - 10s/epoch - 56ms/step
Epoch 8/50
176/176 - 10s - loss: 0.0970 - accuracy: 0.9688 - val_loss: 1.4995 - val_accuracy: 0.7392 - lr: 0.0010 - 10s/epoch - 56ms/step
Epoch 9/50
176/176 - 10s - loss: 0.1004 - accuracy: 0.9676 - val_loss: 1.5900 - val_accuracy: 0.7326 - lr: 0.0010 - 10s/epoch - 56ms/step
Epoch 10/50
176/176 - 10s - loss: 0.0962 - accuracy: 0.9694 - val_loss: 1.5121 - val_accuracy: 0.7431 - lr: 0.0010 - 10s/epoch - 56ms/step
Epoch 11/50
176/176 - 10s - loss: 0.0960 - accuracy: 0.9692 - val_loss: 1.5309 - val_accuracy: 0.7418 - lr: 0.0010 - 10s/epoch - 56ms/step
Epoch 12/50
176/176 - 10s - loss: 0.0993 - accuracy: 0.9680 - val_loss: 1.4718 - val_accuracy: 0.7485 - lr: 0.0010 - 10s/epoch - 56ms/step
Epoch 13/50
176/176 - 10s - loss: 0.0976 - accuracy: 0.9691 - val_loss: 1.5086 - val_accuracy: 0.7454 - lr: 0.0010 - 10s/epoch - 55ms/step
Epoch 14/50
176/176 - 10s - loss: 0.0897 - accuracy: 0.9712 - val_loss: 1.5731 - val_accuracy: 0.7395 - lr: 0.0010 - 10s/epoch - 56ms/step
Epoch 15/50
176/176 - 10s - loss: 0.0929 - accuracy: 0.9700 - val_loss: 1.4794 - val_accuracy: 0.7497 - lr: 0.0010 - 10s/epoch - 55ms/step
Epoch 16/50
176/176 - 10s - loss: 0.0945 - accuracy: 0.9701 - val_loss: 1.5852 - val_accuracy: 0.7369 - lr: 0.0010 - 10s/epoch - 55ms/step
Epoch 17/50
176/176 - 10s - loss: 0.0912 - accuracy: 0.9702 - val_loss: 1.5654 - val_accuracy: 0.7382 - lr: 0.0010 - 10s/epoch - 55ms/step
Epoch 18/50
176/176 - 10s - loss: 0.0931 - accuracy: 0.9705 - val_loss: 1.5257 - val_accuracy: 0.7442 - lr: 0.0010 - 10s/epoch - 56ms/step
Epoch 19/50
176/176 - 10s - loss: 0.0949 - accuracy: 0.9697 - val_loss: 1.5411 - val_accuracy: 0.7413 - lr: 0.0010 - 10s/epoch - 56ms/step
Epoch 20/50
176/176 - 10s - loss: 0.0937 - accuracy: 0.9703 - val_loss: 1.5059 - val_accuracy: 0.7461 - lr: 0.0010 - 10s/epoch - 55ms/step
Epoch 21/50
176/176 - 10s - loss: 0.0974 - accuracy: 0.9689 - val_loss: 1.5768 - val_accuracy: 0.7356 - lr: 0.0010 - 10s/epoch - 55ms/step
Epoch 22/50
176/176 - 10s - loss: 0.0930 - accuracy: 0.9700 - val_loss: 1.5754 - val_accuracy: 0.7410 - lr: 0.0010 - 10s/epoch - 55ms/step
Epoch 23/50
176/176 - 10s - loss: 0.0901 - accuracy: 0.9708 - val_loss: 1.5299 - val_accuracy: 0.7481 - lr: 0.0010 - 10s/epoch - 55ms/step
Epoch 24/50
176/176 - 10s - loss: 0.0890 - accuracy: 0.9713 - val_loss: 1.4965 - val_accuracy: 0.7534 - lr: 0.0010 - 10s/epoch - 56ms/step
Epoch 25/50
176/176 - 10s - loss: 0.0929 - accuracy: 0.9703 - val_loss: 1.5425 - val_accuracy: 0.7486 - lr: 0.0010 - 10s/epoch - 55ms/step
Epoch 26/50
176/176 - 10s - loss: 0.0969 - accuracy: 0.9686 - val_loss: 1.6431 - val_accuracy: 0.7339 - lr: 0.0010 - 10s/epoch - 55ms/step
Epoch 27/50
176/176 - 10s - loss: 0.0930 - accuracy: 0.9700 - val_loss: 1.6841 - val_accuracy: 0.7319 - lr: 0.0010 - 10s/epoch - 56ms/step
Epoch 28/50
176/176 - 10s - loss: 0.0931 - accuracy: 0.9703 - val_loss: 1.6780 - val_accuracy: 0.7374 - lr: 0.0010 - 10s/epoch - 56ms/step
Epoch 29/50
176/176 - 10s - loss: 0.0954 - accuracy: 0.9689 - val_loss: 1.5952 - val_accuracy: 0.7414 - lr: 0.0010 - 10s/epoch - 56ms/step
Epoch 30/50
176/176 - 10s - loss: 0.0937 - accuracy: 0.9701 - val_loss: 1.5689 - val_accuracy: 0.7416 - lr: 0.0010 - 10s/epoch - 56ms/step
Epoch 31/50
176/176 - 10s - loss: 0.0935 - accuracy: 0.9703 - val_loss: 1.5623 - val_accuracy: 0.7452 - lr: 0.0010 - 10s/epoch - 57ms/step
Epoch 32/50
176/176 - 10s - loss: 0.0931 - accuracy: 0.9698 - val_loss: 1.6030 - val_accuracy: 0.7409 - lr: 0.0010 - 10s/epoch - 56ms/step
Epoch 33/50
176/176 - 10s - loss: 0.0948 - accuracy: 0.9690 - val_loss: 1.6563 - val_accuracy: 0.7323 - lr: 0.0010 - 10s/epoch - 56ms/step
Epoch 34/50
176/176 - 10s - loss: 0.0938 - accuracy: 0.9698 - val_loss: 1.6377 - val_accuracy: 0.7410 - lr: 0.0010 - 10s/epoch - 56ms/step
Epoch 35/50
176/176 - 10s - loss: 0.0935 - accuracy: 0.9696 - val_loss: 1.6165 - val_accuracy: 0.7335 - lr: 0.0010 - 10s/epoch - 56ms/step
Epoch 36/50
176/176 - 10s - loss: 0.0951 - accuracy: 0.9699 - val_loss: 1.6057 - val_accuracy: 0.7404 - lr: 0.0010 - 10s/epoch - 56ms/step
Epoch 37/50
176/176 - 11s - loss: 0.0913 - accuracy: 0.9709 - val_loss: 1.6443 - val_accuracy: 0.7370 - lr: 0.0010 - 11s/epoch - 60ms/step
Epoch 38/50
176/176 - 11s - loss: 0.0921 - accuracy: 0.9702 - val_loss: 1.6114 - val_accuracy: 0.7404 - lr: 0.0010 - 11s/epoch - 60ms/step
Epoch 39/50
176/176 - 10s - loss: 0.0921 - accuracy: 0.9707 - val_loss: 1.5552 - val_accuracy: 0.7405 - lr: 0.0010 - 10s/epoch - 58ms/step
Epoch 40/50
176/176 - 10s - loss: 0.0914 - accuracy: 0.9704 - val_loss: 1.6202 - val_accuracy: 0.7392 - lr: 0.0010 - 10s/epoch - 56ms/step
Epoch 41/50
176/176 - 10s - loss: 0.0902 - accuracy: 0.9710 - val_loss: 1.5897 - val_accuracy: 0.7407 - lr: 0.0010 - 10s/epoch - 60ms/step
Epoch 42/50
176/176 - 10s - loss: 0.0889 - accuracy: 0.9712 - val_loss: 1.6537 - val_accuracy: 0.7400 - lr: 0.0010 - 10s/epoch - 59ms/step
Epoch 43/50
176/176 - 11s - loss: 0.0882 - accuracy: 0.9716 - val_loss: 1.5221 - val_accuracy: 0.7504 - lr: 0.0010 - 11s/epoch - 60ms/step
Epoch 44/50
176/176 - 10s - loss: 0.0882 - accuracy: 0.9716 - val_loss: 1.5567 - val_accuracy: 0.7526 - lr: 0.0010 - 10s/epoch - 55ms/step
Epoch 45/50
176/176 - 10s - loss: 0.0936 - accuracy: 0.9705 - val_loss: 1.6324 - val_accuracy: 0.7395 - lr: 0.0010 - 10s/epoch - 55ms/step
Epoch 46/50
176/176 - 10s - loss: 0.0928 - accuracy: 0.9703 - val_loss: 1.6450 - val_accuracy: 0.7354 - lr: 0.0010 - 10s/epoch - 56ms/step
Epoch 47/50
176/176 - 10s - loss: 0.0930 - accuracy: 0.9698 - val_loss: 1.7131 - val_accuracy: 0.7299 - lr: 0.0010 - 10s/epoch - 56ms/step
Epoch 48/50
176/176 - 10s - loss: 0.0935 - accuracy: 0.9700 - val_loss: 1.6546 - val_accuracy: 0.7378 - lr: 0.0010 - 10s/epoch - 56ms/step
Epoch 49/50
176/176 - 10s - loss: 0.0917 - accuracy: 0.9700 - val_loss: 1.5911 - val_accuracy: 0.7437 - lr: 0.0010 - 10s/epoch - 55ms/step
Epoch 50/50
176/176 - 10s - loss: 0.0946 - accuracy: 0.9702 - val_loss: 1.5586 - val_accuracy: 0.7468 - lr: 0.0010 - 10s/epoch - 55ms/step
Epoch 1/50
36/36 - 11s - loss: 0.0825 - accuracy: 0.9734 - val_loss: 1.6529 - val_accuracy: 0.7372 - lr: 0.0010 - 11s/epoch - 313ms/step
Epoch 2/50
36/36 - 9s - loss: 0.0786 - accuracy: 0.9752 - val_loss: 1.6772 - val_accuracy: 0.7375 - lr: 0.0010 - 9s/epoch - 243ms/step
Epoch 3/50
36/36 - 9s - loss: 0.0781 - accuracy: 0.9759 - val_loss: 1.6546 - val_accuracy: 0.7368 - lr: 0.0010 - 9s/epoch - 240ms/step
Epoch 4/50
36/36 - 9s - loss: 0.0737 - accuracy: 0.9767 - val_loss: 1.7134 - val_accuracy: 0.7326 - lr: 0.0010 - 9s/epoch - 244ms/step
Epoch 5/50
36/36 - 9s - loss: 0.0757 - accuracy: 0.9755 - val_loss: 1.7311 - val_accuracy: 0.7325 - lr: 0.0010 - 9s/epoch - 245ms/step
Epoch 6/50
36/36 - 9s - loss: 0.0742 - accuracy: 0.9765 - val_loss: 1.7325 - val_accuracy: 0.7329 - lr: 0.0010 - 9s/epoch - 246ms/step
Epoch 7/50
36/36 - 9s - loss: 0.0707 - accuracy: 0.9778 - val_loss: 1.7358 - val_accuracy: 0.7358 - lr: 0.0010 - 9s/epoch - 246ms/step
Epoch 8/50
36/36 - 9s - loss: 0.0723 - accuracy: 0.9771 - val_loss: 1.7337 - val_accuracy: 0.7362 - lr: 0.0010 - 9s/epoch - 246ms/step
Epoch 9/50
36/36 - 9s - loss: 0.0727 - accuracy: 0.9771 - val_loss: 1.7738 - val_accuracy: 0.7319 - lr: 0.0010 - 9s/epoch - 246ms/step
Epoch 10/50
36/36 - 9s - loss: 0.0681 - accuracy: 0.9784 - val_loss: 1.7930 - val_accuracy: 0.7315 - lr: 0.0010 - 9s/epoch - 242ms/step
Epoch 11/50
36/36 - 9s - loss: 0.0689 - accuracy: 0.9779 - val_loss: 1.8068 - val_accuracy: 0.7303 - lr: 0.0010 - 9s/epoch - 239ms/step
Epoch 12/50
36/36 - 9s - loss: 0.0721 - accuracy: 0.9772 - val_loss: 1.7779 - val_accuracy: 0.7323 - lr: 0.0010 - 9s/epoch - 246ms/step
Epoch 13/50
36/36 - 9s - loss: 0.0710 - accuracy: 0.9772 - val_loss: 1.8072 - val_accuracy: 0.7317 - lr: 0.0010 - 9s/epoch - 247ms/step
Epoch 14/50
36/36 - 9s - loss: 0.0735 - accuracy: 0.9773 - val_loss: 1.8353 - val_accuracy: 0.7283 - lr: 0.0010 - 9s/epoch - 247ms/step
Epoch 15/50
36/36 - 9s - loss: 0.0691 - accuracy: 0.9781 - val_loss: 1.8018 - val_accuracy: 0.7313 - lr: 0.0010 - 9s/epoch - 246ms/step
Epoch 16/50
36/36 - 9s - loss: 0.0724 - accuracy: 0.9773 - val_loss: 1.8239 - val_accuracy: 0.7315 - lr: 0.0010 - 9s/epoch - 246ms/step
Epoch 17/50
36/36 - 9s - loss: 0.0717 - accuracy: 0.9774 - val_loss: 1.8493 - val_accuracy: 0.7271 - lr: 0.0010 - 9s/epoch - 244ms/step
Epoch 18/50
36/36 - 9s - loss: 0.0713 - accuracy: 0.9777 - val_loss: 1.8347 - val_accuracy: 0.7299 - lr: 0.0010 - 9s/epoch - 241ms/step
Epoch 19/50
36/36 - 9s - loss: 0.0686 - accuracy: 0.9781 - val_loss: 1.8738 - val_accuracy: 0.7265 - lr: 0.0010 - 9s/epoch - 243ms/step
Epoch 20/50
36/36 - 9s - loss: 0.0703 - accuracy: 0.9781 - val_loss: 1.8291 - val_accuracy: 0.7303 - lr: 0.0010 - 9s/epoch - 246ms/step
Epoch 21/50
36/36 - 9s - loss: 0.0684 - accuracy: 0.9781 - val_loss: 1.8397 - val_accuracy: 0.7296 - lr: 0.0010 - 9s/epoch - 248ms/step
Epoch 22/50
36/36 - 9s - loss: 0.0730 - accuracy: 0.9769 - val_loss: 1.8413 - val_accuracy: 0.7292 - lr: 0.0010 - 9s/epoch - 247ms/step
Epoch 23/50
36/36 - 9s - loss: 0.0696 - accuracy: 0.9783 - val_loss: 1.8379 - val_accuracy: 0.7295 - lr: 0.0010 - 9s/epoch - 247ms/step
Epoch 24/50
36/36 - 9s - loss: 0.0724 - accuracy: 0.9772 - val_loss: 1.8472 - val_accuracy: 0.7305 - lr: 0.0010 - 9s/epoch - 246ms/step
Epoch 25/50
36/36 - 9s - loss: 0.0702 - accuracy: 0.9773 - val_loss: 1.8587 - val_accuracy: 0.7304 - lr: 0.0010 - 9s/epoch - 258ms/step
Epoch 26/50
36/36 - 9s - loss: 0.0725 - accuracy: 0.9775 - val_loss: 1.8306 - val_accuracy: 0.7322 - lr: 0.0010 - 9s/epoch - 241ms/step
Epoch 27/50
36/36 - 9s - loss: 0.0706 - accuracy: 0.9778 - val_loss: 1.8469 - val_accuracy: 0.7303 - lr: 0.0010 - 9s/epoch - 244ms/step
Epoch 28/50
36/36 - 9s - loss: 0.0683 - accuracy: 0.9784 - val_loss: 1.8260 - val_accuracy: 0.7331 - lr: 0.0010 - 9s/epoch - 246ms/step
Epoch 29/50
36/36 - 9s - loss: 0.0724 - accuracy: 0.9765 - val_loss: 1.8533 - val_accuracy: 0.7296 - lr: 0.0010 - 9s/epoch - 261ms/step
Epoch 30/50
36/36 - 10s - loss: 0.0693 - accuracy: 0.9785 - val_loss: 1.8707 - val_accuracy: 0.7304 - lr: 0.0010 - 10s/epoch - 264ms/step
Epoch 31/50
36/36 - 10s - loss: 0.0691 - accuracy: 0.9783 - val_loss: 1.8777 - val_accuracy: 0.7297 - lr: 0.0010 - 10s/epoch - 264ms/step
Epoch 32/50
36/36 - 9s - loss: 0.0688 - accuracy: 0.9780 - val_loss: 1.8907 - val_accuracy: 0.7299 - lr: 0.0010 - 9s/epoch - 264ms/step
Epoch 33/50
36/36 - 9s - loss: 0.0689 - accuracy: 0.9780 - val_loss: 1.8973 - val_accuracy: 0.7281 - lr: 0.0010 - 9s/epoch - 241ms/step
Epoch 34/50
36/36 - 9s - loss: 0.0669 - accuracy: 0.9790 - val_loss: 1.8374 - val_accuracy: 0.7334 - lr: 0.0010 - 9s/epoch - 243ms/step
Epoch 35/50
36/36 - 9s - loss: 0.0709 - accuracy: 0.9776 - val_loss: 1.8822 - val_accuracy: 0.7299 - lr: 0.0010 - 9s/epoch - 246ms/step
Epoch 36/50
36/36 - 9s - loss: 0.0710 - accuracy: 0.9777 - val_loss: 1.8609 - val_accuracy: 0.7325 - lr: 0.0010 - 9s/epoch - 247ms/step
Epoch 37/50
36/36 - 9s - loss: 0.0686 - accuracy: 0.9786 - val_loss: 1.9266 - val_accuracy: 0.7276 - lr: 0.0010 - 9s/epoch - 243ms/step
Epoch 38/50
36/36 - 9s - loss: 0.0671 - accuracy: 0.9790 - val_loss: 1.9096 - val_accuracy: 0.7299 - lr: 0.0010 - 9s/epoch - 244ms/step
Epoch 39/50
36/36 - 9s - loss: 0.0706 - accuracy: 0.9780 - val_loss: 1.9546 - val_accuracy: 0.7215 - lr: 0.0010 - 9s/epoch - 243ms/step
Epoch 40/50
36/36 - 9s - loss: 0.0680 - accuracy: 0.9785 - val_loss: 1.8716 - val_accuracy: 0.7315 - lr: 0.0010 - 9s/epoch - 245ms/step
Epoch 41/50
36/36 - 9s - loss: 0.0681 - accuracy: 0.9790 - val_loss: 1.9277 - val_accuracy: 0.7279 - lr: 0.0010 - 9s/epoch - 241ms/step
Epoch 42/50
36/36 - 9s - loss: 0.0690 - accuracy: 0.9779 - val_loss: 1.9004 - val_accuracy: 0.7317 - lr: 0.0010 - 9s/epoch - 245ms/step
Epoch 43/50
36/36 - 9s - loss: 0.0700 - accuracy: 0.9777 - val_loss: 1.9180 - val_accuracy: 0.7293 - lr: 0.0010 - 9s/epoch - 247ms/step
Epoch 44/50
36/36 - 9s - loss: 0.0675 - accuracy: 0.9788 - val_loss: 1.9229 - val_accuracy: 0.7289 - lr: 0.0010 - 9s/epoch - 264ms/step
Epoch 45/50
36/36 - 9s - loss: 0.0705 - accuracy: 0.9782 - val_loss: 1.9114 - val_accuracy: 0.7275 - lr: 0.0010 - 9s/epoch - 264ms/step
Epoch 46/50
36/36 - 9s - loss: 0.0729 - accuracy: 0.9773 - val_loss: 1.8926 - val_accuracy: 0.7283 - lr: 0.0010 - 9s/epoch - 264ms/step
Epoch 47/50
36/36 - 9s - loss: 0.0675 - accuracy: 0.9793 - val_loss: 1.9181 - val_accuracy: 0.7260 - lr: 0.0010 - 9s/epoch - 261ms/step
Epoch 48/50
36/36 - 9s - loss: 0.0677 - accuracy: 0.9786 - val_loss: 1.9032 - val_accuracy: 0.7306 - lr: 0.0010 - 9s/epoch - 240ms/step
Epoch 49/50
36/36 - 9s - loss: 0.0666 - accuracy: 0.9788 - val_loss: 1.9234 - val_accuracy: 0.7294 - lr: 0.0010 - 9s/epoch - 244ms/step
Epoch 50/50
36/36 - 9s - loss: 0.0688 - accuracy: 0.9788 - val_loss: 1.8951 - val_accuracy: 0.7329 - lr: 0.0010 - 9s/epoch - 247ms/step
Epoch 1/75
4378/4378 - 77s - loss: 0.1948 - accuracy: 0.9352 - val_loss: 1.1296 - val_accuracy: 0.7553 - lr: 0.0010 - 77s/epoch - 18ms/step
Epoch 2/75
4378/4378 - 74s - loss: 0.2030 - accuracy: 0.9303 - val_loss: 0.9328 - val_accuracy: 0.7724 - lr: 0.0010 - 74s/epoch - 17ms/step
Epoch 3/75
4378/4378 - 74s - loss: 0.2019 - accuracy: 0.9297 - val_loss: 0.9624 - val_accuracy: 0.7619 - lr: 0.0010 - 74s/epoch - 17ms/step
Epoch 4/75
4378/4378 - 73s - loss: 0.2055 - accuracy: 0.9291 - val_loss: 0.9314 - val_accuracy: 0.7606 - lr: 0.0010 - 73s/epoch - 17ms/step
Epoch 5/75
4378/4378 - 74s - loss: 0.2053 - accuracy: 0.9287 - val_loss: 0.9534 - val_accuracy: 0.7614 - lr: 0.0010 - 74s/epoch - 17ms/step
Epoch 6/75
4378/4378 - 74s - loss: 0.2135 - accuracy: 0.9252 - val_loss: 0.9178 - val_accuracy: 0.7665 - lr: 0.0010 - 74s/epoch - 17ms/step
Epoch 7/75
4378/4378 - 74s - loss: 0.2101 - accuracy: 0.9275 - val_loss: 0.9253 - val_accuracy: 0.7569 - lr: 0.0010 - 74s/epoch - 17ms/step
Epoch 8/75
4378/4378 - 74s - loss: 0.2121 - accuracy: 0.9264 - val_loss: 0.9869 - val_accuracy: 0.7461 - lr: 0.0010 - 74s/epoch - 17ms/step
Epoch 9/75
4378/4378 - 74s - loss: 0.2127 - accuracy: 0.9260 - val_loss: 0.8597 - val_accuracy: 0.7708 - lr: 0.0010 - 74s/epoch - 17ms/step
Epoch 10/75
4378/4378 - 74s - loss: 0.2139 - accuracy: 0.9248 - val_loss: 0.9057 - val_accuracy: 0.7648 - lr: 0.0010 - 74s/epoch - 17ms/step
Epoch 11/75
4378/4378 - 74s - loss: 0.2119 - accuracy: 0.9264 - val_loss: 0.9483 - val_accuracy: 0.7491 - lr: 0.0010 - 74s/epoch - 17ms/step
Epoch 12/75
4378/4378 - 74s - loss: 0.2034 - accuracy: 0.9304 - val_loss: 0.9006 - val_accuracy: 0.7661 - lr: 0.0010 - 74s/epoch - 17ms/step
Epoch 13/75
4378/4378 - 74s - loss: 0.2098 - accuracy: 0.9267 - val_loss: 0.9397 - val_accuracy: 0.7595 - lr: 0.0010 - 74s/epoch - 17ms/step
Epoch 14/75
4378/4378 - 74s - loss: 0.2115 - accuracy: 0.9270 - val_loss: 0.7995 - val_accuracy: 0.7791 - lr: 0.0010 - 74s/epoch - 17ms/step
Epoch 15/75
4378/4378 - 74s - loss: 0.2099 - accuracy: 0.9261 - val_loss: 0.9222 - val_accuracy: 0.7550 - lr: 0.0010 - 74s/epoch - 17ms/step
Epoch 16/75
4378/4378 - 74s - loss: 0.2059 - accuracy: 0.9281 - val_loss: 0.8631 - val_accuracy: 0.7641 - lr: 0.0010 - 74s/epoch - 17ms/step
Epoch 17/75
4378/4378 - 74s - loss: 0.2071 - accuracy: 0.9280 - val_loss: 0.9641 - val_accuracy: 0.7547 - lr: 0.0010 - 74s/epoch - 17ms/step
Epoch 18/75
4378/4378 - 73s - loss: 0.2128 - accuracy: 0.9265 - val_loss: 0.8834 - val_accuracy: 0.7662 - lr: 0.0010 - 73s/epoch - 17ms/step
Epoch 19/75
4378/4378 - 74s - loss: 0.2109 - accuracy: 0.9270 - val_loss: 0.8601 - val_accuracy: 0.7699 - lr: 0.0010 - 74s/epoch - 17ms/step
Epoch 20/75
4378/4378 - 74s - loss: 0.2129 - accuracy: 0.9267 - val_loss: 0.9803 - val_accuracy: 0.7536 - lr: 0.0010 - 74s/epoch - 17ms/step
Epoch 21/75
4378/4378 - 74s - loss: 0.2067 - accuracy: 0.9286 - val_loss: 0.9993 - val_accuracy: 0.7505 - lr: 0.0010 - 74s/epoch - 17ms/step
Epoch 22/75
4378/4378 - 74s - loss: 0.2061 - accuracy: 0.9294 - val_loss: 0.8434 - val_accuracy: 0.7722 - lr: 0.0010 - 74s/epoch - 17ms/step
Epoch 23/75
4378/4378 - 74s - loss: 0.2107 - accuracy: 0.9270 - val_loss: 0.9595 - val_accuracy: 0.7530 - lr: 0.0010 - 74s/epoch - 17ms/step
Epoch 24/75
4378/4378 - 74s - loss: 0.2122 - accuracy: 0.9258 - val_loss: 0.9212 - val_accuracy: 0.7539 - lr: 0.0010 - 74s/epoch - 17ms/step
Epoch 25/75
4378/4378 - 74s - loss: 0.2153 - accuracy: 0.9246 - val_loss: 0.9214 - val_accuracy: 0.7554 - lr: 0.0010 - 74s/epoch - 17ms/step
Epoch 26/75
4378/4378 - 74s - loss: 0.2080 - accuracy: 0.9282 - val_loss: 0.9427 - val_accuracy: 0.7685 - lr: 0.0010 - 74s/epoch - 17ms/step
Epoch 27/75
4378/4378 - 74s - loss: 0.2068 - accuracy: 0.9282 - val_loss: 1.0095 - val_accuracy: 0.7373 - lr: 0.0010 - 74s/epoch - 17ms/step
Epoch 28/75
4378/4378 - 74s - loss: 0.2086 - accuracy: 0.9278 - val_loss: 0.8329 - val_accuracy: 0.7817 - lr: 0.0010 - 74s/epoch - 17ms/step
Epoch 29/75
4378/4378 - 74s - loss: 0.2102 - accuracy: 0.9273 - val_loss: 0.8366 - val_accuracy: 0.7701 - lr: 0.0010 - 74s/epoch - 17ms/step
Epoch 30/75
4378/4378 - 74s - loss: 0.2063 - accuracy: 0.9286 - val_loss: 0.9498 - val_accuracy: 0.7526 - lr: 0.0010 - 74s/epoch - 17ms/step
Epoch 31/75
4378/4378 - 74s - loss: 0.2043 - accuracy: 0.9290 - val_loss: 0.9879 - val_accuracy: 0.7537 - lr: 0.0010 - 74s/epoch - 17ms/step
Epoch 32/75
4378/4378 - 74s - loss: 0.2065 - accuracy: 0.9279 - val_loss: 0.9809 - val_accuracy: 0.7527 - lr: 0.0010 - 74s/epoch - 17ms/step
Epoch 33/75
4378/4378 - 74s - loss: 0.2146 - accuracy: 0.9252 - val_loss: 0.9277 - val_accuracy: 0.7534 - lr: 0.0010 - 74s/epoch - 17ms/step
Epoch 34/75
4378/4378 - 74s - loss: 0.2134 - accuracy: 0.9254 - val_loss: 0.9397 - val_accuracy: 0.7582 - lr: 0.0010 - 74s/epoch - 17ms/step
Epoch 35/75
4378/4378 - 74s - loss: 0.2163 - accuracy: 0.9249 - val_loss: 0.9106 - val_accuracy: 0.7560 - lr: 0.0010 - 74s/epoch - 17ms/step
Epoch 36/75
4378/4378 - 74s - loss: 0.2121 - accuracy: 0.9261 - val_loss: 0.8937 - val_accuracy: 0.7643 - lr: 0.0010 - 74s/epoch - 17ms/step
Epoch 37/75
4378/4378 - 74s - loss: 0.2110 - accuracy: 0.9274 - val_loss: 1.0036 - val_accuracy: 0.7480 - lr: 0.0010 - 74s/epoch - 17ms/step
Epoch 38/75
4378/4378 - 74s - loss: 0.2062 - accuracy: 0.9289 - val_loss: 0.9969 - val_accuracy: 0.7453 - lr: 0.0010 - 74s/epoch - 17ms/step
Epoch 39/75
4378/4378 - 74s - loss: 0.2127 - accuracy: 0.9260 - val_loss: 0.9056 - val_accuracy: 0.7503 - lr: 0.0010 - 74s/epoch - 17ms/step
Epoch 40/75
4378/4378 - 74s - loss: 0.2168 - accuracy: 0.9238 - val_loss: 0.9777 - val_accuracy: 0.7511 - lr: 0.0010 - 74s/epoch - 17ms/step
Epoch 41/75
4378/4378 - 74s - loss: 0.2144 - accuracy: 0.9247 - val_loss: 0.8694 - val_accuracy: 0.7700 - lr: 0.0010 - 74s/epoch - 17ms/step
Epoch 42/75
4378/4378 - 74s - loss: 0.2153 - accuracy: 0.9242 - val_loss: 0.8550 - val_accuracy: 0.7697 - lr: 0.0010 - 74s/epoch - 17ms/step
Epoch 43/75
4378/4378 - 75s - loss: 0.2088 - accuracy: 0.9275 - val_loss: 0.9033 - val_accuracy: 0.7696 - lr: 0.0010 - 75s/epoch - 17ms/step
Epoch 44/75
4378/4378 - 74s - loss: 0.2121 - accuracy: 0.9256 - val_loss: 0.9786 - val_accuracy: 0.7475 - lr: 0.0010 - 74s/epoch - 17ms/step
Epoch 45/75
4378/4378 - 74s - loss: 0.2091 - accuracy: 0.9276 - val_loss: 0.9384 - val_accuracy: 0.7567 - lr: 0.0010 - 74s/epoch - 17ms/step
Epoch 46/75
4378/4378 - 74s - loss: 0.2118 - accuracy: 0.9257 - val_loss: 0.9447 - val_accuracy: 0.7536 - lr: 0.0010 - 74s/epoch - 17ms/step
Epoch 47/75
4378/4378 - 74s - loss: 0.2082 - accuracy: 0.9270 - val_loss: 0.8403 - val_accuracy: 0.7722 - lr: 0.0010 - 74s/epoch - 17ms/step
Epoch 48/75
4378/4378 - 74s - loss: 0.2099 - accuracy: 0.9270 - val_loss: 0.9342 - val_accuracy: 0.7627 - lr: 0.0010 - 74s/epoch - 17ms/step
Epoch 49/75
4378/4378 - 74s - loss: 0.2094 - accuracy: 0.9269 - val_loss: 0.8443 - val_accuracy: 0.7685 - lr: 0.0010 - 74s/epoch - 17ms/step
Epoch 50/75
4378/4378 - 74s - loss: 0.2075 - accuracy: 0.9283 - val_loss: 0.9278 - val_accuracy: 0.7593 - lr: 0.0010 - 74s/epoch - 17ms/step
Epoch 51/75
4378/4378 - 74s - loss: 0.2100 - accuracy: 0.9268 - val_loss: 1.1296 - val_accuracy: 0.7214 - lr: 0.0010 - 74s/epoch - 17ms/step
Epoch 52/75
4378/4378 - 74s - loss: 0.2176 - accuracy: 0.9234 - val_loss: 0.9148 - val_accuracy: 0.7528 - lr: 0.0010 - 74s/epoch - 17ms/step
Epoch 53/75
4378/4378 - 74s - loss: 0.2056 - accuracy: 0.9290 - val_loss: 0.9043 - val_accuracy: 0.7467 - lr: 0.0010 - 74s/epoch - 17ms/step
Epoch 54/75
4378/4378 - 74s - loss: 0.2088 - accuracy: 0.9270 - val_loss: 0.9052 - val_accuracy: 0.7673 - lr: 0.0010 - 74s/epoch - 17ms/step
Epoch 55/75
4378/4378 - 74s - loss: 0.2121 - accuracy: 0.9249 - val_loss: 0.9134 - val_accuracy: 0.7545 - lr: 0.0010 - 74s/epoch - 17ms/step
Epoch 56/75
4378/4378 - 74s - loss: 0.2181 - accuracy: 0.9244 - val_loss: 0.8911 - val_accuracy: 0.7574 - lr: 0.0010 - 74s/epoch - 17ms/step
Epoch 57/75
4378/4378 - 74s - loss: 0.2154 - accuracy: 0.9248 - val_loss: 0.9656 - val_accuracy: 0.7511 - lr: 0.0010 - 74s/epoch - 17ms/step
Epoch 58/75
4378/4378 - 74s - loss: 0.2132 - accuracy: 0.9253 - val_loss: 0.9231 - val_accuracy: 0.7499 - lr: 0.0010 - 74s/epoch - 17ms/step
Epoch 59/75
4378/4378 - 74s - loss: 0.2144 - accuracy: 0.9247 - val_loss: 0.9150 - val_accuracy: 0.7564 - lr: 0.0010 - 74s/epoch - 17ms/step
Epoch 60/75
4378/4378 - 74s - loss: 0.2157 - accuracy: 0.9238 - val_loss: 1.0458 - val_accuracy: 0.7244 - lr: 0.0010 - 74s/epoch - 17ms/step
Epoch 61/75
4378/4378 - 74s - loss: 0.2096 - accuracy: 0.9266 - val_loss: 0.9363 - val_accuracy: 0.7603 - lr: 0.0010 - 74s/epoch - 17ms/step
Epoch 62/75
4378/4378 - 77s - loss: 0.2181 - accuracy: 0.9235 - val_loss: 1.0169 - val_accuracy: 0.7328 - lr: 0.0010 - 77s/epoch - 18ms/step
Epoch 63/75
4378/4378 - 74s - loss: 0.2151 - accuracy: 0.9246 - val_loss: 1.0285 - val_accuracy: 0.7308 - lr: 0.0010 - 74s/epoch - 17ms/step
Epoch 64/75
4378/4378 - 74s - loss: 0.2187 - accuracy: 0.9232 - val_loss: 0.9093 - val_accuracy: 0.7652 - lr: 0.0010 - 74s/epoch - 17ms/step
Epoch 65/75
4378/4378 - 74s - loss: 0.2125 - accuracy: 0.9260 - val_loss: 0.8458 - val_accuracy: 0.7637 - lr: 0.0010 - 74s/epoch - 17ms/step
Epoch 66/75
4378/4378 - 74s - loss: 0.2082 - accuracy: 0.9268 - val_loss: 0.9251 - val_accuracy: 0.7698 - lr: 0.0010 - 74s/epoch - 17ms/step
Epoch 67/75
4378/4378 - 74s - loss: 0.2122 - accuracy: 0.9265 - val_loss: 0.9212 - val_accuracy: 0.7608 - lr: 0.0010 - 74s/epoch - 17ms/step
Epoch 68/75
4378/4378 - 74s - loss: 0.2099 - accuracy: 0.9265 - val_loss: 0.9273 - val_accuracy: 0.7516 - lr: 0.0010 - 74s/epoch - 17ms/step
Epoch 69/75
4378/4378 - 74s - loss: 0.2080 - accuracy: 0.9276 - val_loss: 0.9321 - val_accuracy: 0.7558 - lr: 0.0010 - 74s/epoch - 17ms/step
Epoch 70/75
4378/4378 - 74s - loss: 0.2086 - accuracy: 0.9269 - val_loss: 0.9338 - val_accuracy: 0.7574 - lr: 0.0010 - 74s/epoch - 17ms/step
Epoch 71/75
4378/4378 - 74s - loss: 0.2147 - accuracy: 0.9236 - val_loss: 0.9687 - val_accuracy: 0.7494 - lr: 0.0010 - 74s/epoch - 17ms/step
Epoch 72/75
4378/4378 - 75s - loss: 0.2113 - accuracy: 0.9256 - val_loss: 0.8388 - val_accuracy: 0.7770 - lr: 0.0010 - 75s/epoch - 17ms/step
Epoch 73/75
4378/4378 - 73s - loss: 0.2125 - accuracy: 0.9252 - val_loss: 0.8815 - val_accuracy: 0.7632 - lr: 0.0010 - 73s/epoch - 17ms/step
Epoch 74/75
4378/4378 - 74s - loss: 0.2108 - accuracy: 0.9263 - val_loss: 0.8785 - val_accuracy: 0.7724 - lr: 0.0010 - 74s/epoch - 17ms/step
Epoch 75/75
4378/4378 - 74s - loss: 0.2128 - accuracy: 0.9259 - val_loss: 0.8359 - val_accuracy: 0.7747 - lr: 0.0010 - 74s/epoch - 17ms/step
Epoch 1/75
876/876 - 21s - loss: 0.1471 - accuracy: 0.9518 - val_loss: 1.0163 - val_accuracy: 0.7681 - lr: 0.0010 - 21s/epoch - 24ms/step
Epoch 2/75
876/876 - 19s - loss: 0.1477 - accuracy: 0.9503 - val_loss: 1.1690 - val_accuracy: 0.7435 - lr: 0.0010 - 19s/epoch - 21ms/step
Epoch 3/75
876/876 - 18s - loss: 0.1496 - accuracy: 0.9495 - val_loss: 1.1021 - val_accuracy: 0.7588 - lr: 0.0010 - 18s/epoch - 21ms/step
Epoch 4/75
876/876 - 18s - loss: 0.1515 - accuracy: 0.9486 - val_loss: 1.1918 - val_accuracy: 0.7477 - lr: 0.0010 - 18s/epoch - 21ms/step
Epoch 5/75
876/876 - 18s - loss: 0.1477 - accuracy: 0.9502 - val_loss: 1.1605 - val_accuracy: 0.7539 - lr: 0.0010 - 18s/epoch - 21ms/step
Epoch 6/75
876/876 - 19s - loss: 0.1464 - accuracy: 0.9504 - val_loss: 1.0220 - val_accuracy: 0.7770 - lr: 0.0010 - 19s/epoch - 21ms/step
Epoch 7/75
876/876 - 18s - loss: 0.1434 - accuracy: 0.9520 - val_loss: 1.1619 - val_accuracy: 0.7524 - lr: 0.0010 - 18s/epoch - 21ms/step
Epoch 8/75
876/876 - 18s - loss: 0.1417 - accuracy: 0.9515 - val_loss: 1.1915 - val_accuracy: 0.7512 - lr: 0.0010 - 18s/epoch - 21ms/step
Epoch 9/75
876/876 - 19s - loss: 0.1413 - accuracy: 0.9522 - val_loss: 1.1401 - val_accuracy: 0.7524 - lr: 0.0010 - 19s/epoch - 21ms/step
Epoch 10/75
876/876 - 18s - loss: 0.1393 - accuracy: 0.9532 - val_loss: 1.1220 - val_accuracy: 0.7560 - lr: 0.0010 - 18s/epoch - 21ms/step
Epoch 11/75
876/876 - 18s - loss: 0.1359 - accuracy: 0.9541 - val_loss: 1.2177 - val_accuracy: 0.7524 - lr: 0.0010 - 18s/epoch - 21ms/step
Epoch 12/75
876/876 - 19s - loss: 0.1418 - accuracy: 0.9521 - val_loss: 1.2517 - val_accuracy: 0.7458 - lr: 0.0010 - 19s/epoch - 21ms/step
Epoch 13/75
876/876 - 19s - loss: 0.1388 - accuracy: 0.9526 - val_loss: 1.1713 - val_accuracy: 0.7582 - lr: 0.0010 - 19s/epoch - 21ms/step
Epoch 14/75
876/876 - 18s - loss: 0.1362 - accuracy: 0.9541 - val_loss: 1.2298 - val_accuracy: 0.7450 - lr: 0.0010 - 18s/epoch - 21ms/step
Epoch 15/75
876/876 - 18s - loss: 0.1346 - accuracy: 0.9556 - val_loss: 1.3164 - val_accuracy: 0.7373 - lr: 0.0010 - 18s/epoch - 21ms/step
Epoch 16/75
876/876 - 18s - loss: 0.1400 - accuracy: 0.9531 - val_loss: 1.0480 - val_accuracy: 0.7672 - lr: 0.0010 - 18s/epoch - 21ms/step
Epoch 17/75
876/876 - 18s - loss: 0.1383 - accuracy: 0.9535 - val_loss: 1.2453 - val_accuracy: 0.7461 - lr: 0.0010 - 18s/epoch - 21ms/step
Epoch 18/75
876/876 - 18s - loss: 0.1391 - accuracy: 0.9539 - val_loss: 1.2015 - val_accuracy: 0.7506 - lr: 0.0010 - 18s/epoch - 21ms/step
Epoch 19/75
876/876 - 19s - loss: 0.1333 - accuracy: 0.9556 - val_loss: 1.2729 - val_accuracy: 0.7500 - lr: 0.0010 - 19s/epoch - 21ms/step
Epoch 20/75
876/876 - 19s - loss: 0.1364 - accuracy: 0.9539 - val_loss: 1.2469 - val_accuracy: 0.7494 - lr: 0.0010 - 19s/epoch - 21ms/step
Epoch 21/75
876/876 - 18s - loss: 0.1316 - accuracy: 0.9561 - val_loss: 1.2264 - val_accuracy: 0.7583 - lr: 0.0010 - 18s/epoch - 21ms/step
Epoch 22/75
876/876 - 18s - loss: 0.1313 - accuracy: 0.9562 - val_loss: 1.2495 - val_accuracy: 0.7450 - lr: 0.0010 - 18s/epoch - 21ms/step
Epoch 23/75
876/876 - 18s - loss: 0.1384 - accuracy: 0.9541 - val_loss: 1.2238 - val_accuracy: 0.7457 - lr: 0.0010 - 18s/epoch - 21ms/step
Epoch 24/75
876/876 - 19s - loss: 0.1289 - accuracy: 0.9568 - val_loss: 1.2803 - val_accuracy: 0.7453 - lr: 0.0010 - 19s/epoch - 21ms/step
Epoch 25/75
876/876 - 18s - loss: 0.1327 - accuracy: 0.9550 - val_loss: 1.3272 - val_accuracy: 0.7376 - lr: 0.0010 - 18s/epoch - 21ms/step
Epoch 26/75
876/876 - 18s - loss: 0.1323 - accuracy: 0.9552 - val_loss: 1.1812 - val_accuracy: 0.7568 - lr: 0.0010 - 18s/epoch - 21ms/step
Epoch 27/75
876/876 - 18s - loss: 0.1331 - accuracy: 0.9560 - val_loss: 1.3253 - val_accuracy: 0.7371 - lr: 0.0010 - 18s/epoch - 21ms/step
Epoch 28/75
876/876 - 18s - loss: 0.1310 - accuracy: 0.9562 - val_loss: 1.2006 - val_accuracy: 0.7591 - lr: 0.0010 - 18s/epoch - 21ms/step
Epoch 29/75
876/876 - 18s - loss: 0.1332 - accuracy: 0.9553 - val_loss: 1.2284 - val_accuracy: 0.7516 - lr: 0.0010 - 18s/epoch - 21ms/step
Epoch 30/75
876/876 - 19s - loss: 0.1334 - accuracy: 0.9555 - val_loss: 1.1875 - val_accuracy: 0.7544 - lr: 0.0010 - 19s/epoch - 21ms/step
Epoch 31/75
876/876 - 19s - loss: 0.1328 - accuracy: 0.9552 - val_loss: 1.3571 - val_accuracy: 0.7334 - lr: 0.0010 - 19s/epoch - 21ms/step
Epoch 32/75
876/876 - 19s - loss: 0.1287 - accuracy: 0.9565 - val_loss: 1.1906 - val_accuracy: 0.7562 - lr: 0.0010 - 19s/epoch - 21ms/step
Epoch 33/75
876/876 - 18s - loss: 0.1315 - accuracy: 0.9554 - val_loss: 1.3297 - val_accuracy: 0.7382 - lr: 0.0010 - 18s/epoch - 21ms/step
Epoch 34/75
876/876 - 18s - loss: 0.1330 - accuracy: 0.9557 - val_loss: 1.2786 - val_accuracy: 0.7431 - lr: 0.0010 - 18s/epoch - 21ms/step
Epoch 35/75
876/876 - 18s - loss: 0.1327 - accuracy: 0.9549 - val_loss: 1.3380 - val_accuracy: 0.7379 - lr: 0.0010 - 18s/epoch - 21ms/step
Epoch 36/75
876/876 - 19s - loss: 0.1316 - accuracy: 0.9558 - val_loss: 1.2026 - val_accuracy: 0.7481 - lr: 0.0010 - 19s/epoch - 21ms/step
Epoch 37/75
876/876 - 19s - loss: 0.1344 - accuracy: 0.9545 - val_loss: 1.1670 - val_accuracy: 0.7545 - lr: 0.0010 - 19s/epoch - 21ms/step
Epoch 38/75
876/876 - 19s - loss: 0.1315 - accuracy: 0.9555 - val_loss: 1.3460 - val_accuracy: 0.7358 - lr: 0.0010 - 19s/epoch - 21ms/step
Epoch 39/75
876/876 - 18s - loss: 0.1330 - accuracy: 0.9559 - val_loss: 1.2055 - val_accuracy: 0.7521 - lr: 0.0010 - 18s/epoch - 21ms/step
Epoch 40/75
876/876 - 18s - loss: 0.1335 - accuracy: 0.9552 - val_loss: 1.2399 - val_accuracy: 0.7413 - lr: 0.0010 - 18s/epoch - 21ms/step
Epoch 41/75
876/876 - 19s - loss: 0.1282 - accuracy: 0.9566 - val_loss: 1.3065 - val_accuracy: 0.7499 - lr: 0.0010 - 19s/epoch - 21ms/step
Epoch 42/75
876/876 - 19s - loss: 0.1316 - accuracy: 0.9561 - val_loss: 1.2319 - val_accuracy: 0.7548 - lr: 0.0010 - 19s/epoch - 21ms/step
Epoch 43/75
876/876 - 18s - loss: 0.1299 - accuracy: 0.9566 - val_loss: 1.2562 - val_accuracy: 0.7548 - lr: 0.0010 - 18s/epoch - 21ms/step
Epoch 44/75
876/876 - 19s - loss: 0.1289 - accuracy: 0.9571 - val_loss: 1.2884 - val_accuracy: 0.7511 - lr: 0.0010 - 19s/epoch - 21ms/step
Epoch 45/75
876/876 - 18s - loss: 0.1282 - accuracy: 0.9572 - val_loss: 1.3072 - val_accuracy: 0.7416 - lr: 0.0010 - 18s/epoch - 21ms/step
Epoch 46/75
876/876 - 19s - loss: 0.1311 - accuracy: 0.9567 - val_loss: 1.2294 - val_accuracy: 0.7557 - lr: 0.0010 - 19s/epoch - 21ms/step
Epoch 47/75
876/876 - 19s - loss: 0.1313 - accuracy: 0.9559 - val_loss: 1.2658 - val_accuracy: 0.7507 - lr: 0.0010 - 19s/epoch - 21ms/step
Epoch 48/75
876/876 - 18s - loss: 0.1351 - accuracy: 0.9543 - val_loss: 1.2082 - val_accuracy: 0.7521 - lr: 0.0010 - 18s/epoch - 21ms/step
Epoch 49/75
876/876 - 18s - loss: 0.1317 - accuracy: 0.9558 - val_loss: 1.2250 - val_accuracy: 0.7518 - lr: 0.0010 - 18s/epoch - 21ms/step
Epoch 50/75
876/876 - 18s - loss: 0.1307 - accuracy: 0.9562 - val_loss: 1.2201 - val_accuracy: 0.7587 - lr: 0.0010 - 18s/epoch - 21ms/step
Epoch 51/75
876/876 - 19s - loss: 0.1312 - accuracy: 0.9561 - val_loss: 1.2402 - val_accuracy: 0.7550 - lr: 0.0010 - 19s/epoch - 21ms/step
Epoch 52/75
876/876 - 19s - loss: 0.1234 - accuracy: 0.9589 - val_loss: 1.3888 - val_accuracy: 0.7405 - lr: 0.0010 - 19s/epoch - 21ms/step
Epoch 53/75
876/876 - 19s - loss: 0.1254 - accuracy: 0.9578 - val_loss: 1.2139 - val_accuracy: 0.7599 - lr: 0.0010 - 19s/epoch - 21ms/step
Epoch 54/75
876/876 - 18s - loss: 0.1279 - accuracy: 0.9570 - val_loss: 1.2562 - val_accuracy: 0.7495 - lr: 0.0010 - 18s/epoch - 21ms/step
Epoch 55/75
876/876 - 19s - loss: 0.1291 - accuracy: 0.9568 - val_loss: 1.3430 - val_accuracy: 0.7400 - lr: 0.0010 - 19s/epoch - 21ms/step
Epoch 56/75
876/876 - 18s - loss: 0.1329 - accuracy: 0.9553 - val_loss: 1.2783 - val_accuracy: 0.7479 - lr: 0.0010 - 18s/epoch - 21ms/step
Epoch 57/75
876/876 - 19s - loss: 0.1185 - accuracy: 0.9606 - val_loss: 1.2831 - val_accuracy: 0.7556 - lr: 0.0010 - 19s/epoch - 21ms/step
Epoch 58/75
876/876 - 19s - loss: 0.1171 - accuracy: 0.9610 - val_loss: 1.3683 - val_accuracy: 0.7361 - lr: 0.0010 - 19s/epoch - 21ms/step
Epoch 59/75
876/876 - 18s - loss: 0.1217 - accuracy: 0.9600 - val_loss: 1.3412 - val_accuracy: 0.7471 - lr: 0.0010 - 18s/epoch - 21ms/step
Epoch 60/75
876/876 - 18s - loss: 0.1263 - accuracy: 0.9575 - val_loss: 1.3742 - val_accuracy: 0.7375 - lr: 0.0010 - 18s/epoch - 21ms/step
Epoch 61/75
876/876 - 18s - loss: 0.1244 - accuracy: 0.9585 - val_loss: 1.2751 - val_accuracy: 0.7478 - lr: 0.0010 - 18s/epoch - 21ms/step
Epoch 62/75
876/876 - 19s - loss: 0.1311 - accuracy: 0.9554 - val_loss: 1.2100 - val_accuracy: 0.7606 - lr: 0.0010 - 19s/epoch - 21ms/step
Epoch 63/75
876/876 - 18s - loss: 0.1257 - accuracy: 0.9586 - val_loss: 1.2127 - val_accuracy: 0.7648 - lr: 0.0010 - 18s/epoch - 21ms/step
Epoch 64/75
876/876 - 19s - loss: 0.1213 - accuracy: 0.9588 - val_loss: 1.3577 - val_accuracy: 0.7384 - lr: 0.0010 - 19s/epoch - 21ms/step
Epoch 65/75
876/876 - 18s - loss: 0.1282 - accuracy: 0.9563 - val_loss: 1.3226 - val_accuracy: 0.7509 - lr: 0.0010 - 18s/epoch - 21ms/step
Epoch 66/75
876/876 - 19s - loss: 0.1249 - accuracy: 0.9576 - val_loss: 1.3011 - val_accuracy: 0.7451 - lr: 0.0010 - 19s/epoch - 21ms/step
Epoch 67/75
876/876 - 19s - loss: 0.1247 - accuracy: 0.9589 - val_loss: 1.3121 - val_accuracy: 0.7501 - lr: 0.0010 - 19s/epoch - 22ms/step
Epoch 68/75
876/876 - 18s - loss: 0.1296 - accuracy: 0.9558 - val_loss: 1.2683 - val_accuracy: 0.7488 - lr: 0.0010 - 18s/epoch - 21ms/step
Epoch 69/75
876/876 - 18s - loss: 0.1283 - accuracy: 0.9570 - val_loss: 1.2429 - val_accuracy: 0.7550 - lr: 0.0010 - 18s/epoch - 21ms/step
Epoch 70/75
876/876 - 19s - loss: 0.1258 - accuracy: 0.9583 - val_loss: 1.3234 - val_accuracy: 0.7394 - lr: 0.0010 - 19s/epoch - 21ms/step
Epoch 71/75
876/876 - 19s - loss: 0.1323 - accuracy: 0.9564 - val_loss: 1.2435 - val_accuracy: 0.7485 - lr: 0.0010 - 19s/epoch - 21ms/step
Epoch 72/75
876/876 - 18s - loss: 0.1326 - accuracy: 0.9555 - val_loss: 1.2838 - val_accuracy: 0.7423 - lr: 0.0010 - 18s/epoch - 21ms/step
Epoch 73/75
876/876 - 18s - loss: 0.1294 - accuracy: 0.9559 - val_loss: 1.2087 - val_accuracy: 0.7579 - lr: 0.0010 - 18s/epoch - 21ms/step
Epoch 74/75
876/876 - 19s - loss: 0.1252 - accuracy: 0.9585 - val_loss: 1.2449 - val_accuracy: 0.7576 - lr: 0.0010 - 19s/epoch - 21ms/step
Epoch 75/75
876/876 - 18s - loss: 0.1300 - accuracy: 0.9561 - val_loss: 1.2123 - val_accuracy: 0.7621 - lr: 0.0010 - 18s/epoch - 21ms/step
Epoch 1/75
176/176 - 12s - loss: 0.0987 - accuracy: 0.9681 - val_loss: 1.3767 - val_accuracy: 0.7440 - lr: 0.0010 - 12s/epoch - 69ms/step
Epoch 2/75
176/176 - 10s - loss: 0.0867 - accuracy: 0.9722 - val_loss: 1.4218 - val_accuracy: 0.7473 - lr: 0.0010 - 10s/epoch - 56ms/step
Epoch 3/75
176/176 - 10s - loss: 0.0850 - accuracy: 0.9727 - val_loss: 1.4560 - val_accuracy: 0.7419 - lr: 0.0010 - 10s/epoch - 55ms/step
Epoch 4/75
176/176 - 10s - loss: 0.0865 - accuracy: 0.9725 - val_loss: 1.4987 - val_accuracy: 0.7406 - lr: 0.0010 - 10s/epoch - 55ms/step
Epoch 5/75
176/176 - 10s - loss: 0.0877 - accuracy: 0.9718 - val_loss: 1.5430 - val_accuracy: 0.7367 - lr: 0.0010 - 10s/epoch - 55ms/step
Epoch 6/75
176/176 - 10s - loss: 0.0893 - accuracy: 0.9711 - val_loss: 1.4891 - val_accuracy: 0.7424 - lr: 0.0010 - 10s/epoch - 55ms/step
Epoch 7/75
176/176 - 10s - loss: 0.0903 - accuracy: 0.9704 - val_loss: 1.4771 - val_accuracy: 0.7461 - lr: 0.0010 - 10s/epoch - 55ms/step
Epoch 8/75
176/176 - 10s - loss: 0.0916 - accuracy: 0.9703 - val_loss: 1.5349 - val_accuracy: 0.7474 - lr: 0.0010 - 10s/epoch - 55ms/step
Epoch 9/75
176/176 - 10s - loss: 0.0927 - accuracy: 0.9703 - val_loss: 1.6294 - val_accuracy: 0.7341 - lr: 0.0010 - 10s/epoch - 56ms/step
Epoch 10/75
176/176 - 10s - loss: 0.0924 - accuracy: 0.9699 - val_loss: 1.4899 - val_accuracy: 0.7483 - lr: 0.0010 - 10s/epoch - 56ms/step
Epoch 11/75
176/176 - 10s - loss: 0.0930 - accuracy: 0.9694 - val_loss: 1.5089 - val_accuracy: 0.7463 - lr: 0.0010 - 10s/epoch - 56ms/step
Epoch 12/75
176/176 - 10s - loss: 0.0902 - accuracy: 0.9706 - val_loss: 1.5826 - val_accuracy: 0.7405 - lr: 0.0010 - 10s/epoch - 56ms/step
Epoch 13/75
176/176 - 10s - loss: 0.0903 - accuracy: 0.9707 - val_loss: 1.5175 - val_accuracy: 0.7434 - lr: 0.0010 - 10s/epoch - 56ms/step
Epoch 14/75
176/176 - 10s - loss: 0.0933 - accuracy: 0.9704 - val_loss: 1.5680 - val_accuracy: 0.7390 - lr: 0.0010 - 10s/epoch - 55ms/step
Epoch 15/75
176/176 - 10s - loss: 0.0947 - accuracy: 0.9697 - val_loss: 1.4624 - val_accuracy: 0.7504 - lr: 0.0010 - 10s/epoch - 56ms/step
Epoch 16/75
176/176 - 10s - loss: 0.0931 - accuracy: 0.9696 - val_loss: 1.5245 - val_accuracy: 0.7471 - lr: 0.0010 - 10s/epoch - 57ms/step
Epoch 17/75
176/176 - 10s - loss: 0.0917 - accuracy: 0.9702 - val_loss: 1.5260 - val_accuracy: 0.7447 - lr: 0.0010 - 10s/epoch - 57ms/step
Epoch 18/75
176/176 - 10s - loss: 0.0913 - accuracy: 0.9705 - val_loss: 1.6263 - val_accuracy: 0.7312 - lr: 0.0010 - 10s/epoch - 56ms/step
Epoch 19/75
176/176 - 10s - loss: 0.0906 - accuracy: 0.9711 - val_loss: 1.6115 - val_accuracy: 0.7368 - lr: 0.0010 - 10s/epoch - 56ms/step
Epoch 20/75
176/176 - 10s - loss: 0.0892 - accuracy: 0.9713 - val_loss: 1.5067 - val_accuracy: 0.7473 - lr: 0.0010 - 10s/epoch - 57ms/step
Epoch 21/75
176/176 - 10s - loss: 0.0935 - accuracy: 0.9698 - val_loss: 1.6402 - val_accuracy: 0.7345 - lr: 0.0010 - 10s/epoch - 56ms/step
Epoch 22/75
176/176 - 10s - loss: 0.0917 - accuracy: 0.9699 - val_loss: 1.5922 - val_accuracy: 0.7390 - lr: 0.0010 - 10s/epoch - 56ms/step
Epoch 23/75
176/176 - 10s - loss: 0.0905 - accuracy: 0.9709 - val_loss: 1.6213 - val_accuracy: 0.7369 - lr: 0.0010 - 10s/epoch - 56ms/step
Epoch 24/75
176/176 - 10s - loss: 0.0882 - accuracy: 0.9717 - val_loss: 1.6065 - val_accuracy: 0.7356 - lr: 0.0010 - 10s/epoch - 56ms/step
Epoch 25/75
176/176 - 10s - loss: 0.0893 - accuracy: 0.9710 - val_loss: 1.5405 - val_accuracy: 0.7480 - lr: 0.0010 - 10s/epoch - 56ms/step
Epoch 26/75
176/176 - 10s - loss: 0.0891 - accuracy: 0.9713 - val_loss: 1.6188 - val_accuracy: 0.7331 - lr: 0.0010 - 10s/epoch - 57ms/step
Epoch 27/75
176/176 - 10s - loss: 0.0897 - accuracy: 0.9714 - val_loss: 1.5164 - val_accuracy: 0.7454 - lr: 0.0010 - 10s/epoch - 56ms/step
Epoch 28/75
176/176 - 10s - loss: 0.0883 - accuracy: 0.9713 - val_loss: 1.5888 - val_accuracy: 0.7405 - lr: 0.0010 - 10s/epoch - 55ms/step
Epoch 29/75
176/176 - 10s - loss: 0.0856 - accuracy: 0.9727 - val_loss: 1.4796 - val_accuracy: 0.7501 - lr: 0.0010 - 10s/epoch - 56ms/step
Epoch 30/75
176/176 - 10s - loss: 0.0838 - accuracy: 0.9726 - val_loss: 1.5755 - val_accuracy: 0.7498 - lr: 0.0010 - 10s/epoch - 56ms/step
Epoch 31/75
176/176 - 10s - loss: 0.0865 - accuracy: 0.9718 - val_loss: 1.5717 - val_accuracy: 0.7475 - lr: 0.0010 - 10s/epoch - 57ms/step
Epoch 32/75
176/176 - 10s - loss: 0.0870 - accuracy: 0.9714 - val_loss: 1.6465 - val_accuracy: 0.7355 - lr: 0.0010 - 10s/epoch - 56ms/step
Epoch 33/75
176/176 - 10s - loss: 0.0877 - accuracy: 0.9711 - val_loss: 1.6079 - val_accuracy: 0.7441 - lr: 0.0010 - 10s/epoch - 56ms/step
Epoch 34/75
176/176 - 10s - loss: 0.0885 - accuracy: 0.9707 - val_loss: 1.5400 - val_accuracy: 0.7479 - lr: 0.0010 - 10s/epoch - 56ms/step
Epoch 35/75
176/176 - 10s - loss: 0.0916 - accuracy: 0.9701 - val_loss: 1.5955 - val_accuracy: 0.7419 - lr: 0.0010 - 10s/epoch - 56ms/step
Epoch 36/75
176/176 - 10s - loss: 0.0897 - accuracy: 0.9707 - val_loss: 1.6349 - val_accuracy: 0.7354 - lr: 0.0010 - 10s/epoch - 56ms/step
Epoch 37/75
176/176 - 10s - loss: 0.0904 - accuracy: 0.9708 - val_loss: 1.5740 - val_accuracy: 0.7443 - lr: 0.0010 - 10s/epoch - 56ms/step
Epoch 38/75
176/176 - 10s - loss: 0.0871 - accuracy: 0.9713 - val_loss: 1.5973 - val_accuracy: 0.7435 - lr: 0.0010 - 10s/epoch - 56ms/step
Epoch 39/75
176/176 - 10s - loss: 0.0896 - accuracy: 0.9702 - val_loss: 1.6145 - val_accuracy: 0.7437 - lr: 0.0010 - 10s/epoch - 56ms/step
Epoch 40/75
176/176 - 11s - loss: 0.0898 - accuracy: 0.9706 - val_loss: 1.5853 - val_accuracy: 0.7464 - lr: 0.0010 - 11s/epoch - 60ms/step
Epoch 41/75
176/176 - 10s - loss: 0.0886 - accuracy: 0.9715 - val_loss: 1.5336 - val_accuracy: 0.7487 - lr: 0.0010 - 10s/epoch - 56ms/step
Epoch 42/75
176/176 - 10s - loss: 0.0874 - accuracy: 0.9714 - val_loss: 1.6090 - val_accuracy: 0.7396 - lr: 0.0010 - 10s/epoch - 56ms/step
Epoch 43/75
176/176 - 10s - loss: 0.0881 - accuracy: 0.9712 - val_loss: 1.6382 - val_accuracy: 0.7398 - lr: 0.0010 - 10s/epoch - 56ms/step
Epoch 44/75
176/176 - 10s - loss: 0.0850 - accuracy: 0.9726 - val_loss: 1.5722 - val_accuracy: 0.7455 - lr: 0.0010 - 10s/epoch - 59ms/step
Epoch 45/75
176/176 - 10s - loss: 0.0841 - accuracy: 0.9723 - val_loss: 1.6235 - val_accuracy: 0.7384 - lr: 0.0010 - 10s/epoch - 60ms/step
Epoch 46/75
176/176 - 11s - loss: 0.0877 - accuracy: 0.9716 - val_loss: 1.6526 - val_accuracy: 0.7385 - lr: 0.0010 - 11s/epoch - 61ms/step
Epoch 47/75
176/176 - 10s - loss: 0.0878 - accuracy: 0.9715 - val_loss: 1.6309 - val_accuracy: 0.7411 - lr: 0.0010 - 10s/epoch - 58ms/step
Epoch 48/75
176/176 - 10s - loss: 0.0872 - accuracy: 0.9722 - val_loss: 1.6353 - val_accuracy: 0.7400 - lr: 0.0010 - 10s/epoch - 56ms/step
Epoch 49/75
176/176 - 10s - loss: 0.0892 - accuracy: 0.9711 - val_loss: 1.6207 - val_accuracy: 0.7427 - lr: 0.0010 - 10s/epoch - 56ms/step
Epoch 50/75
176/176 - 10s - loss: 0.0881 - accuracy: 0.9718 - val_loss: 1.6237 - val_accuracy: 0.7423 - lr: 0.0010 - 10s/epoch - 57ms/step
Epoch 51/75
176/176 - 10s - loss: 0.0918 - accuracy: 0.9698 - val_loss: 1.6073 - val_accuracy: 0.7405 - lr: 0.0010 - 10s/epoch - 55ms/step
Epoch 52/75
176/176 - 10s - loss: 0.0871 - accuracy: 0.9717 - val_loss: 1.6088 - val_accuracy: 0.7361 - lr: 0.0010 - 10s/epoch - 55ms/step
Epoch 53/75
176/176 - 10s - loss: 0.0873 - accuracy: 0.9718 - val_loss: 1.6251 - val_accuracy: 0.7433 - lr: 0.0010 - 10s/epoch - 56ms/step
Epoch 54/75
176/176 - 10s - loss: 0.0861 - accuracy: 0.9722 - val_loss: 1.5519 - val_accuracy: 0.7487 - lr: 0.0010 - 10s/epoch - 55ms/step
Epoch 55/75
176/176 - 10s - loss: 0.0845 - accuracy: 0.9730 - val_loss: 1.6990 - val_accuracy: 0.7320 - lr: 0.0010 - 10s/epoch - 55ms/step
Epoch 56/75
176/176 - 10s - loss: 0.0847 - accuracy: 0.9730 - val_loss: 1.6117 - val_accuracy: 0.7416 - lr: 0.0010 - 10s/epoch - 57ms/step
Epoch 57/75
176/176 - 10s - loss: 0.0892 - accuracy: 0.9713 - val_loss: 1.5387 - val_accuracy: 0.7499 - lr: 0.0010 - 10s/epoch - 56ms/step
Epoch 58/75
176/176 - 10s - loss: 0.0877 - accuracy: 0.9715 - val_loss: 1.6973 - val_accuracy: 0.7380 - lr: 0.0010 - 10s/epoch - 56ms/step
Epoch 59/75
176/176 - 10s - loss: 0.0870 - accuracy: 0.9719 - val_loss: 1.6000 - val_accuracy: 0.7429 - lr: 0.0010 - 10s/epoch - 57ms/step
Epoch 60/75
176/176 - 10s - loss: 0.0857 - accuracy: 0.9718 - val_loss: 1.6002 - val_accuracy: 0.7478 - lr: 0.0010 - 10s/epoch - 57ms/step
Epoch 61/75
176/176 - 10s - loss: 0.0869 - accuracy: 0.9725 - val_loss: 1.5963 - val_accuracy: 0.7462 - lr: 0.0010 - 10s/epoch - 56ms/step
Epoch 62/75
176/176 - 10s - loss: 0.0869 - accuracy: 0.9722 - val_loss: 1.5845 - val_accuracy: 0.7468 - lr: 0.0010 - 10s/epoch - 56ms/step
Epoch 63/75
176/176 - 10s - loss: 0.0879 - accuracy: 0.9718 - val_loss: 1.6591 - val_accuracy: 0.7447 - lr: 0.0010 - 10s/epoch - 57ms/step
Epoch 64/75
176/176 - 10s - loss: 0.0868 - accuracy: 0.9715 - val_loss: 1.5986 - val_accuracy: 0.7444 - lr: 0.0010 - 10s/epoch - 56ms/step
Epoch 65/75
176/176 - 10s - loss: 0.0888 - accuracy: 0.9714 - val_loss: 1.6216 - val_accuracy: 0.7426 - lr: 0.0010 - 10s/epoch - 56ms/step
Epoch 66/75
176/176 - 10s - loss: 0.0854 - accuracy: 0.9725 - val_loss: 1.6022 - val_accuracy: 0.7437 - lr: 0.0010 - 10s/epoch - 56ms/step
Epoch 67/75
176/176 - 10s - loss: 0.0845 - accuracy: 0.9728 - val_loss: 1.6784 - val_accuracy: 0.7381 - lr: 0.0010 - 10s/epoch - 56ms/step
Epoch 68/75
176/176 - 10s - loss: 0.0833 - accuracy: 0.9730 - val_loss: 1.5929 - val_accuracy: 0.7453 - lr: 0.0010 - 10s/epoch - 55ms/step
Epoch 69/75
176/176 - 10s - loss: 0.0864 - accuracy: 0.9718 - val_loss: 1.5274 - val_accuracy: 0.7528 - lr: 0.0010 - 10s/epoch - 56ms/step
Epoch 70/75
176/176 - 10s - loss: 0.0887 - accuracy: 0.9711 - val_loss: 1.6069 - val_accuracy: 0.7487 - lr: 0.0010 - 10s/epoch - 56ms/step
Epoch 71/75
176/176 - 10s - loss: 0.0864 - accuracy: 0.9720 - val_loss: 1.5740 - val_accuracy: 0.7511 - lr: 0.0010 - 10s/epoch - 55ms/step
Epoch 72/75
176/176 - 10s - loss: 0.0869 - accuracy: 0.9726 - val_loss: 1.6655 - val_accuracy: 0.7422 - lr: 0.0010 - 10s/epoch - 55ms/step
Epoch 73/75
176/176 - 10s - loss: 0.0858 - accuracy: 0.9726 - val_loss: 1.5354 - val_accuracy: 0.7513 - lr: 0.0010 - 10s/epoch - 56ms/step
Epoch 74/75
176/176 - 10s - loss: 0.0818 - accuracy: 0.9733 - val_loss: 1.6407 - val_accuracy: 0.7455 - lr: 0.0010 - 10s/epoch - 55ms/step
Epoch 75/75
176/176 - 10s - loss: 0.0852 - accuracy: 0.9728 - val_loss: 1.5504 - val_accuracy: 0.7540 - lr: 0.0010 - 10s/epoch - 55ms/step
Epoch 1/75
36/36 - 11s - loss: 0.0784 - accuracy: 0.9750 - val_loss: 1.6234 - val_accuracy: 0.7458 - lr: 0.0010 - 11s/epoch - 311ms/step
Epoch 2/75
36/36 - 9s - loss: 0.0719 - accuracy: 0.9773 - val_loss: 1.6586 - val_accuracy: 0.7428 - lr: 0.0010 - 9s/epoch - 247ms/step
Epoch 3/75
36/36 - 9s - loss: 0.0700 - accuracy: 0.9779 - val_loss: 1.7148 - val_accuracy: 0.7369 - lr: 0.0010 - 9s/epoch - 245ms/step
Epoch 4/75
36/36 - 9s - loss: 0.0703 - accuracy: 0.9778 - val_loss: 1.6824 - val_accuracy: 0.7405 - lr: 0.0010 - 9s/epoch - 247ms/step
Epoch 5/75
36/36 - 9s - loss: 0.0702 - accuracy: 0.9778 - val_loss: 1.6581 - val_accuracy: 0.7455 - lr: 0.0010 - 9s/epoch - 246ms/step
Epoch 6/75
36/36 - 9s - loss: 0.0654 - accuracy: 0.9794 - val_loss: 1.6522 - val_accuracy: 0.7468 - lr: 0.0010 - 9s/epoch - 244ms/step
Epoch 7/75
36/36 - 9s - loss: 0.0697 - accuracy: 0.9780 - val_loss: 1.7120 - val_accuracy: 0.7403 - lr: 0.0010 - 9s/epoch - 239ms/step
Epoch 8/75
36/36 - 9s - loss: 0.0692 - accuracy: 0.9790 - val_loss: 1.6955 - val_accuracy: 0.7431 - lr: 0.0010 - 9s/epoch - 243ms/step
Epoch 9/75
36/36 - 9s - loss: 0.0679 - accuracy: 0.9785 - val_loss: 1.7282 - val_accuracy: 0.7421 - lr: 0.0010 - 9s/epoch - 246ms/step
Epoch 10/75
36/36 - 9s - loss: 0.0662 - accuracy: 0.9792 - val_loss: 1.7185 - val_accuracy: 0.7447 - lr: 0.0010 - 9s/epoch - 262ms/step
Epoch 11/75
36/36 - 9s - loss: 0.0657 - accuracy: 0.9796 - val_loss: 1.7028 - val_accuracy: 0.7464 - lr: 0.0010 - 9s/epoch - 262ms/step
Epoch 12/75
36/36 - 9s - loss: 0.0672 - accuracy: 0.9785 - val_loss: 1.7426 - val_accuracy: 0.7381 - lr: 0.0010 - 9s/epoch - 245ms/step
Epoch 13/75
36/36 - 9s - loss: 0.0652 - accuracy: 0.9789 - val_loss: 1.7295 - val_accuracy: 0.7412 - lr: 0.0010 - 9s/epoch - 242ms/step
Epoch 14/75
36/36 - 9s - loss: 0.0656 - accuracy: 0.9793 - val_loss: 1.7427 - val_accuracy: 0.7434 - lr: 0.0010 - 9s/epoch - 240ms/step
Epoch 15/75
36/36 - 9s - loss: 0.0630 - accuracy: 0.9801 - val_loss: 1.7378 - val_accuracy: 0.7428 - lr: 0.0010 - 9s/epoch - 241ms/step
Epoch 16/75
36/36 - 9s - loss: 0.0652 - accuracy: 0.9798 - val_loss: 1.7518 - val_accuracy: 0.7407 - lr: 0.0010 - 9s/epoch - 246ms/step
Epoch 17/75
36/36 - 9s - loss: 0.0643 - accuracy: 0.9797 - val_loss: 1.7794 - val_accuracy: 0.7386 - lr: 0.0010 - 9s/epoch - 246ms/step
Epoch 18/75
36/36 - 9s - loss: 0.0640 - accuracy: 0.9799 - val_loss: 1.7969 - val_accuracy: 0.7374 - lr: 0.0010 - 9s/epoch - 248ms/step
Epoch 19/75
36/36 - 9s - loss: 0.0644 - accuracy: 0.9802 - val_loss: 1.7628 - val_accuracy: 0.7424 - lr: 0.0010 - 9s/epoch - 247ms/step
Epoch 20/75
36/36 - 9s - loss: 0.0622 - accuracy: 0.9798 - val_loss: 1.7806 - val_accuracy: 0.7413 - lr: 0.0010 - 9s/epoch - 243ms/step
Epoch 21/75
36/36 - 9s - loss: 0.0636 - accuracy: 0.9797 - val_loss: 1.8144 - val_accuracy: 0.7386 - lr: 0.0010 - 9s/epoch - 243ms/step
Epoch 22/75
36/36 - 9s - loss: 0.0624 - accuracy: 0.9803 - val_loss: 1.7551 - val_accuracy: 0.7438 - lr: 0.0010 - 9s/epoch - 242ms/step
Epoch 23/75
36/36 - 9s - loss: 0.0692 - accuracy: 0.9785 - val_loss: 1.8040 - val_accuracy: 0.7384 - lr: 0.0010 - 9s/epoch - 244ms/step
Epoch 24/75
36/36 - 9s - loss: 0.0655 - accuracy: 0.9795 - val_loss: 1.7571 - val_accuracy: 0.7443 - lr: 0.0010 - 9s/epoch - 245ms/step
Epoch 25/75
36/36 - 9s - loss: 0.0638 - accuracy: 0.9799 - val_loss: 1.7847 - val_accuracy: 0.7401 - lr: 0.0010 - 9s/epoch - 247ms/step
Epoch 26/75
36/36 - 9s - loss: 0.0682 - accuracy: 0.9788 - val_loss: 1.8027 - val_accuracy: 0.7367 - lr: 0.0010 - 9s/epoch - 245ms/step
Epoch 27/75
36/36 - 9s - loss: 0.0621 - accuracy: 0.9801 - val_loss: 1.8009 - val_accuracy: 0.7381 - lr: 0.0010 - 9s/epoch - 246ms/step
Epoch 28/75
36/36 - 9s - loss: 0.0635 - accuracy: 0.9800 - val_loss: 1.7599 - val_accuracy: 0.7438 - lr: 0.0010 - 9s/epoch - 244ms/step
Epoch 29/75
36/36 - 9s - loss: 0.0633 - accuracy: 0.9803 - val_loss: 1.8111 - val_accuracy: 0.7375 - lr: 0.0010 - 9s/epoch - 241ms/step
Epoch 30/75
36/36 - 9s - loss: 0.0617 - accuracy: 0.9801 - val_loss: 1.8383 - val_accuracy: 0.7358 - lr: 0.0010 - 9s/epoch - 241ms/step
Epoch 31/75
36/36 - 9s - loss: 0.0633 - accuracy: 0.9799 - val_loss: 1.8194 - val_accuracy: 0.7375 - lr: 0.0010 - 9s/epoch - 245ms/step
Epoch 32/75
36/36 - 9s - loss: 0.0599 - accuracy: 0.9809 - val_loss: 1.7845 - val_accuracy: 0.7419 - lr: 0.0010 - 9s/epoch - 245ms/step
Epoch 33/75
36/36 - 9s - loss: 0.0613 - accuracy: 0.9803 - val_loss: 1.8405 - val_accuracy: 0.7357 - lr: 0.0010 - 9s/epoch - 244ms/step
Epoch 34/75
36/36 - 9s - loss: 0.0683 - accuracy: 0.9783 - val_loss: 1.8520 - val_accuracy: 0.7326 - lr: 0.0010 - 9s/epoch - 242ms/step
Epoch 35/75
36/36 - 9s - loss: 0.0663 - accuracy: 0.9790 - val_loss: 1.8499 - val_accuracy: 0.7307 - lr: 0.0010 - 9s/epoch - 243ms/step
Epoch 36/75
36/36 - 9s - loss: 0.0656 - accuracy: 0.9795 - val_loss: 1.8337 - val_accuracy: 0.7350 - lr: 0.0010 - 9s/epoch - 243ms/step
Epoch 37/75
36/36 - 9s - loss: 0.0636 - accuracy: 0.9802 - val_loss: 1.8410 - val_accuracy: 0.7358 - lr: 0.0010 - 9s/epoch - 242ms/step
Epoch 38/75
36/36 - 9s - loss: 0.0625 - accuracy: 0.9805 - val_loss: 1.8685 - val_accuracy: 0.7240 - lr: 0.0010 - 9s/epoch - 242ms/step
Epoch 39/75
36/36 - 9s - loss: 0.0619 - accuracy: 0.9803 - val_loss: 1.8532 - val_accuracy: 0.7278 - lr: 0.0010 - 9s/epoch - 244ms/step
Epoch 40/75
36/36 - 9s - loss: 0.0594 - accuracy: 0.9810 - val_loss: 1.8135 - val_accuracy: 0.7402 - lr: 0.0010 - 9s/epoch - 244ms/step
Epoch 41/75
36/36 - 9s - loss: 0.0613 - accuracy: 0.9807 - val_loss: 1.8482 - val_accuracy: 0.7367 - lr: 0.0010 - 9s/epoch - 244ms/step
Epoch 42/75
36/36 - 9s - loss: 0.0618 - accuracy: 0.9804 - val_loss: 1.7769 - val_accuracy: 0.7444 - lr: 0.0010 - 9s/epoch - 243ms/step
Epoch 43/75
36/36 - 9s - loss: 0.0627 - accuracy: 0.9802 - val_loss: 1.8492 - val_accuracy: 0.7361 - lr: 0.0010 - 9s/epoch - 245ms/step
Epoch 44/75
36/36 - 9s - loss: 0.0637 - accuracy: 0.9797 - val_loss: 1.8131 - val_accuracy: 0.7415 - lr: 0.0010 - 9s/epoch - 243ms/step
Epoch 45/75
36/36 - 9s - loss: 0.0613 - accuracy: 0.9806 - val_loss: 1.8650 - val_accuracy: 0.7289 - lr: 0.0010 - 9s/epoch - 240ms/step
Epoch 46/75
36/36 - 9s - loss: 0.0627 - accuracy: 0.9805 - val_loss: 1.8115 - val_accuracy: 0.7324 - lr: 0.0010 - 9s/epoch - 245ms/step
Epoch 47/75
36/36 - 9s - loss: 0.0608 - accuracy: 0.9812 - val_loss: 1.8103 - val_accuracy: 0.7342 - lr: 0.0010 - 9s/epoch - 246ms/step
Epoch 48/75
36/36 - 9s - loss: 0.0624 - accuracy: 0.9803 - val_loss: 1.8383 - val_accuracy: 0.7313 - lr: 0.0010 - 9s/epoch - 246ms/step
Epoch 49/75
36/36 - 9s - loss: 0.0622 - accuracy: 0.9810 - val_loss: 1.8671 - val_accuracy: 0.7271 - lr: 0.0010 - 9s/epoch - 247ms/step
Epoch 50/75
36/36 - 9s - loss: 0.0625 - accuracy: 0.9804 - val_loss: 1.8753 - val_accuracy: 0.7304 - lr: 0.0010 - 9s/epoch - 246ms/step
Epoch 51/75
36/36 - 9s - loss: 0.0594 - accuracy: 0.9811 - val_loss: 1.8320 - val_accuracy: 0.7337 - lr: 0.0010 - 9s/epoch - 245ms/step
Epoch 52/75
36/36 - 9s - loss: 0.0609 - accuracy: 0.9809 - val_loss: 1.8862 - val_accuracy: 0.7294 - lr: 0.0010 - 9s/epoch - 241ms/step
Epoch 53/75
36/36 - 9s - loss: 0.0620 - accuracy: 0.9805 - val_loss: 1.8958 - val_accuracy: 0.7278 - lr: 0.0010 - 9s/epoch - 242ms/step
Epoch 54/75
36/36 - 9s - loss: 0.0593 - accuracy: 0.9816 - val_loss: 1.9462 - val_accuracy: 0.7247 - lr: 0.0010 - 9s/epoch - 245ms/step
Epoch 55/75
36/36 - 9s - loss: 0.0629 - accuracy: 0.9798 - val_loss: 1.8865 - val_accuracy: 0.7304 - lr: 0.0010 - 9s/epoch - 246ms/step
Epoch 56/75
36/36 - 9s - loss: 0.0639 - accuracy: 0.9794 - val_loss: 1.8915 - val_accuracy: 0.7302 - lr: 0.0010 - 9s/epoch - 246ms/step
Epoch 57/75
36/36 - 9s - loss: 0.0601 - accuracy: 0.9809 - val_loss: 1.8789 - val_accuracy: 0.7389 - lr: 0.0010 - 9s/epoch - 247ms/step
Epoch 58/75
36/36 - 9s - loss: 0.0658 - accuracy: 0.9791 - val_loss: 1.9300 - val_accuracy: 0.7253 - lr: 0.0010 - 9s/epoch - 246ms/step
Epoch 59/75
36/36 - 9s - loss: 0.0616 - accuracy: 0.9807 - val_loss: 1.8746 - val_accuracy: 0.7389 - lr: 0.0010 - 9s/epoch - 246ms/step
Epoch 60/75
36/36 - 9s - loss: 0.0614 - accuracy: 0.9810 - val_loss: 1.9186 - val_accuracy: 0.7251 - lr: 0.0010 - 9s/epoch - 239ms/step
Epoch 61/75
36/36 - 9s - loss: 0.0631 - accuracy: 0.9807 - val_loss: 1.8956 - val_accuracy: 0.7288 - lr: 0.0010 - 9s/epoch - 244ms/step
Epoch 62/75
36/36 - 9s - loss: 0.0625 - accuracy: 0.9807 - val_loss: 1.8771 - val_accuracy: 0.7338 - lr: 0.0010 - 9s/epoch - 246ms/step
Epoch 63/75
36/36 - 9s - loss: 0.0627 - accuracy: 0.9801 - val_loss: 1.8970 - val_accuracy: 0.7380 - lr: 0.0010 - 9s/epoch - 262ms/step
Epoch 64/75
36/36 - 10s - loss: 0.0613 - accuracy: 0.9804 - val_loss: 1.9321 - val_accuracy: 0.7327 - lr: 0.0010 - 10s/epoch - 264ms/step
Epoch 65/75
36/36 - 9s - loss: 0.0592 - accuracy: 0.9816 - val_loss: 1.8254 - val_accuracy: 0.7374 - lr: 0.0010 - 9s/epoch - 261ms/step
Epoch 66/75
36/36 - 9s - loss: 0.0598 - accuracy: 0.9817 - val_loss: 1.9099 - val_accuracy: 0.7284 - lr: 0.0010 - 9s/epoch - 262ms/step
Epoch 67/75
36/36 - 9s - loss: 0.0596 - accuracy: 0.9817 - val_loss: 1.8804 - val_accuracy: 0.7294 - lr: 0.0010 - 9s/epoch - 243ms/step
Epoch 68/75
36/36 - 9s - loss: 0.0598 - accuracy: 0.9812 - val_loss: 1.9060 - val_accuracy: 0.7303 - lr: 0.0010 - 9s/epoch - 243ms/step
Epoch 69/75
36/36 - 9s - loss: 0.0629 - accuracy: 0.9807 - val_loss: 1.9355 - val_accuracy: 0.7283 - lr: 0.0010 - 9s/epoch - 247ms/step
Epoch 70/75
36/36 - 9s - loss: 0.0580 - accuracy: 0.9821 - val_loss: 1.8767 - val_accuracy: 0.7338 - lr: 0.0010 - 9s/epoch - 247ms/step
Epoch 71/75
36/36 - 9s - loss: 0.0586 - accuracy: 0.9823 - val_loss: 1.8871 - val_accuracy: 0.7316 - lr: 0.0010 - 9s/epoch - 246ms/step
Epoch 72/75
36/36 - 9s - loss: 0.0611 - accuracy: 0.9811 - val_loss: 1.8951 - val_accuracy: 0.7312 - lr: 0.0010 - 9s/epoch - 244ms/step
Epoch 73/75
36/36 - 9s - loss: 0.0590 - accuracy: 0.9820 - val_loss: 1.9243 - val_accuracy: 0.7278 - lr: 0.0010 - 9s/epoch - 244ms/step
Epoch 74/75
36/36 - 9s - loss: 0.0589 - accuracy: 0.9823 - val_loss: 1.9048 - val_accuracy: 0.7304 - lr: 0.0010 - 9s/epoch - 242ms/step
Epoch 75/75
36/36 - 9s - loss: 0.0601 - accuracy: 0.9818 - val_loss: 1.9063 - val_accuracy: 0.7264 - lr: 0.0010 - 9s/epoch - 240ms/step
Epoch 1/100
4378/4378 - 76s - loss: 0.1984 - accuracy: 0.9341 - val_loss: 1.1257 - val_accuracy: 0.7604 - lr: 0.0010 - 76s/epoch - 17ms/step
Epoch 2/100
4378/4378 - 74s - loss: 0.1973 - accuracy: 0.9316 - val_loss: 1.0365 - val_accuracy: 0.7539 - lr: 0.0010 - 74s/epoch - 17ms/step
Epoch 3/100
4378/4378 - 73s - loss: 0.2064 - accuracy: 0.9283 - val_loss: 0.8796 - val_accuracy: 0.7673 - lr: 0.0010 - 73s/epoch - 17ms/step
Epoch 4/100
4378/4378 - 73s - loss: 0.2059 - accuracy: 0.9279 - val_loss: 0.9970 - val_accuracy: 0.7547 - lr: 0.0010 - 73s/epoch - 17ms/step
Epoch 5/100
4378/4378 - 74s - loss: 0.2039 - accuracy: 0.9289 - val_loss: 0.8689 - val_accuracy: 0.7760 - lr: 0.0010 - 74s/epoch - 17ms/step
Epoch 6/100
4378/4378 - 74s - loss: 0.1986 - accuracy: 0.9309 - val_loss: 0.9567 - val_accuracy: 0.7627 - lr: 0.0010 - 74s/epoch - 17ms/step
Epoch 7/100
4378/4378 - 74s - loss: 0.2024 - accuracy: 0.9297 - val_loss: 0.8939 - val_accuracy: 0.7701 - lr: 0.0010 - 74s/epoch - 17ms/step
Epoch 8/100
4378/4378 - 74s - loss: 0.2050 - accuracy: 0.9280 - val_loss: 0.9419 - val_accuracy: 0.7498 - lr: 0.0010 - 74s/epoch - 17ms/step
Epoch 9/100
4378/4378 - 74s - loss: 0.2021 - accuracy: 0.9294 - val_loss: 0.9223 - val_accuracy: 0.7525 - lr: 0.0010 - 74s/epoch - 17ms/step
Epoch 10/100
4378/4378 - 74s - loss: 0.2084 - accuracy: 0.9264 - val_loss: 0.9123 - val_accuracy: 0.7629 - lr: 0.0010 - 74s/epoch - 17ms/step
Epoch 11/100
4378/4378 - 74s - loss: 0.2068 - accuracy: 0.9267 - val_loss: 0.8461 - val_accuracy: 0.7781 - lr: 0.0010 - 74s/epoch - 17ms/step
Epoch 12/100
4378/4378 - 74s - loss: 0.2044 - accuracy: 0.9282 - val_loss: 0.8938 - val_accuracy: 0.7643 - lr: 0.0010 - 74s/epoch - 17ms/step
Epoch 13/100
4378/4378 - 74s - loss: 0.2109 - accuracy: 0.9259 - val_loss: 0.8679 - val_accuracy: 0.7709 - lr: 0.0010 - 74s/epoch - 17ms/step
Epoch 14/100
4378/4378 - 74s - loss: 0.2014 - accuracy: 0.9297 - val_loss: 0.9641 - val_accuracy: 0.7521 - lr: 0.0010 - 74s/epoch - 17ms/step
Epoch 15/100
4378/4378 - 74s - loss: 0.2040 - accuracy: 0.9287 - val_loss: 1.0170 - val_accuracy: 0.7570 - lr: 0.0010 - 74s/epoch - 17ms/step
Epoch 16/100
4378/4378 - 74s - loss: 0.2058 - accuracy: 0.9282 - val_loss: 0.8333 - val_accuracy: 0.7655 - lr: 0.0010 - 74s/epoch - 17ms/step
Epoch 17/100
4378/4378 - 73s - loss: 0.2051 - accuracy: 0.9287 - val_loss: 0.9802 - val_accuracy: 0.7541 - lr: 0.0010 - 73s/epoch - 17ms/step
Epoch 18/100
4378/4378 - 74s - loss: 0.2042 - accuracy: 0.9287 - val_loss: 0.9254 - val_accuracy: 0.7591 - lr: 0.0010 - 74s/epoch - 17ms/step
Epoch 19/100
4378/4378 - 74s - loss: 0.2097 - accuracy: 0.9271 - val_loss: 0.9295 - val_accuracy: 0.7580 - lr: 0.0010 - 74s/epoch - 17ms/step
Epoch 20/100
4378/4378 - 74s - loss: 0.2061 - accuracy: 0.9277 - val_loss: 0.7834 - val_accuracy: 0.7914 - lr: 0.0010 - 74s/epoch - 17ms/step
Epoch 21/100
4378/4378 - 74s - loss: 0.2065 - accuracy: 0.9281 - val_loss: 0.9218 - val_accuracy: 0.7675 - lr: 0.0010 - 74s/epoch - 17ms/step
Epoch 22/100
4378/4378 - 74s - loss: 0.2048 - accuracy: 0.9279 - val_loss: 0.9006 - val_accuracy: 0.7648 - lr: 0.0010 - 74s/epoch - 17ms/step
Epoch 23/100
4378/4378 - 74s - loss: 0.2010 - accuracy: 0.9293 - val_loss: 0.8359 - val_accuracy: 0.7791 - lr: 0.0010 - 74s/epoch - 17ms/step
Epoch 24/100
4378/4378 - 74s - loss: 0.2009 - accuracy: 0.9301 - val_loss: 0.8821 - val_accuracy: 0.7725 - lr: 0.0010 - 74s/epoch - 17ms/step
Epoch 25/100
4378/4378 - 74s - loss: 0.2042 - accuracy: 0.9287 - val_loss: 0.9501 - val_accuracy: 0.7565 - lr: 0.0010 - 74s/epoch - 17ms/step
Epoch 26/100
4378/4378 - 73s - loss: 0.2050 - accuracy: 0.9291 - val_loss: 0.9322 - val_accuracy: 0.7637 - lr: 0.0010 - 73s/epoch - 17ms/step
Epoch 27/100
4378/4378 - 74s - loss: 0.2058 - accuracy: 0.9286 - val_loss: 0.9025 - val_accuracy: 0.7615 - lr: 0.0010 - 74s/epoch - 17ms/step
Epoch 28/100
4378/4378 - 75s - loss: 0.2114 - accuracy: 0.9260 - val_loss: 0.8781 - val_accuracy: 0.7602 - lr: 0.0010 - 75s/epoch - 17ms/step
Epoch 29/100
4378/4378 - 74s - loss: 0.2107 - accuracy: 0.9266 - val_loss: 0.8722 - val_accuracy: 0.7767 - lr: 0.0010 - 74s/epoch - 17ms/step
Epoch 30/100
4378/4378 - 74s - loss: 0.2006 - accuracy: 0.9302 - val_loss: 0.9438 - val_accuracy: 0.7528 - lr: 0.0010 - 74s/epoch - 17ms/step
Epoch 31/100
4378/4378 - 74s - loss: 0.2030 - accuracy: 0.9295 - val_loss: 0.9757 - val_accuracy: 0.7463 - lr: 0.0010 - 74s/epoch - 17ms/step
Epoch 32/100
4378/4378 - 74s - loss: 0.2040 - accuracy: 0.9288 - val_loss: 0.8276 - val_accuracy: 0.7811 - lr: 0.0010 - 74s/epoch - 17ms/step
Epoch 33/100
4378/4378 - 73s - loss: 0.2027 - accuracy: 0.9290 - val_loss: 0.8721 - val_accuracy: 0.7685 - lr: 0.0010 - 73s/epoch - 17ms/step
Epoch 34/100
4378/4378 - 74s - loss: 0.2077 - accuracy: 0.9281 - val_loss: 0.9353 - val_accuracy: 0.7622 - lr: 0.0010 - 74s/epoch - 17ms/step
Epoch 35/100
4378/4378 - 74s - loss: 0.2058 - accuracy: 0.9281 - val_loss: 0.9007 - val_accuracy: 0.7602 - lr: 0.0010 - 74s/epoch - 17ms/step
Epoch 36/100
4378/4378 - 74s - loss: 0.2046 - accuracy: 0.9285 - val_loss: 0.9178 - val_accuracy: 0.7594 - lr: 0.0010 - 74s/epoch - 17ms/step
Epoch 37/100
4378/4378 - 73s - loss: 0.1976 - accuracy: 0.9305 - val_loss: 0.8764 - val_accuracy: 0.7779 - lr: 0.0010 - 73s/epoch - 17ms/step
Epoch 38/100
4378/4378 - 73s - loss: 0.2098 - accuracy: 0.9264 - val_loss: 0.8904 - val_accuracy: 0.7690 - lr: 0.0010 - 73s/epoch - 17ms/step
Epoch 39/100
4378/4378 - 73s - loss: 0.2030 - accuracy: 0.9296 - val_loss: 1.0458 - val_accuracy: 0.7378 - lr: 0.0010 - 73s/epoch - 17ms/step
Epoch 40/100
4378/4378 - 74s - loss: 0.2089 - accuracy: 0.9270 - val_loss: 0.8287 - val_accuracy: 0.7836 - lr: 0.0010 - 74s/epoch - 17ms/step
Epoch 41/100
4378/4378 - 74s - loss: 0.2076 - accuracy: 0.9273 - val_loss: 0.8591 - val_accuracy: 0.7746 - lr: 0.0010 - 74s/epoch - 17ms/step
Epoch 42/100
4378/4378 - 74s - loss: 0.2034 - accuracy: 0.9292 - val_loss: 0.9252 - val_accuracy: 0.7662 - lr: 0.0010 - 74s/epoch - 17ms/step
Epoch 43/100
4378/4378 - 73s - loss: 0.2052 - accuracy: 0.9290 - val_loss: 0.9150 - val_accuracy: 0.7610 - lr: 0.0010 - 73s/epoch - 17ms/step
Epoch 44/100
4378/4378 - 73s - loss: 0.2076 - accuracy: 0.9283 - val_loss: 0.9287 - val_accuracy: 0.7591 - lr: 0.0010 - 73s/epoch - 17ms/step
Epoch 45/100
4378/4378 - 74s - loss: 0.2094 - accuracy: 0.9269 - val_loss: 0.9646 - val_accuracy: 0.7575 - lr: 0.0010 - 74s/epoch - 17ms/step
Epoch 46/100
4378/4378 - 74s - loss: 0.2064 - accuracy: 0.9280 - val_loss: 0.9603 - val_accuracy: 0.7595 - lr: 0.0010 - 74s/epoch - 17ms/step
Epoch 47/100
4378/4378 - 74s - loss: 0.2101 - accuracy: 0.9263 - val_loss: 0.8797 - val_accuracy: 0.7691 - lr: 0.0010 - 74s/epoch - 17ms/step
Epoch 48/100
4378/4378 - 73s - loss: 0.2029 - accuracy: 0.9287 - val_loss: 0.9067 - val_accuracy: 0.7674 - lr: 0.0010 - 73s/epoch - 17ms/step
Epoch 49/100
4378/4378 - 74s - loss: 0.1993 - accuracy: 0.9296 - val_loss: 0.9775 - val_accuracy: 0.7489 - lr: 0.0010 - 74s/epoch - 17ms/step
Epoch 50/100
4378/4378 - 73s - loss: 0.1997 - accuracy: 0.9298 - val_loss: 0.9815 - val_accuracy: 0.7660 - lr: 0.0010 - 73s/epoch - 17ms/step
Epoch 51/100
4378/4378 - 74s - loss: 0.2022 - accuracy: 0.9294 - val_loss: 0.9689 - val_accuracy: 0.7498 - lr: 0.0010 - 74s/epoch - 17ms/step
Epoch 52/100
4378/4378 - 73s - loss: 0.2063 - accuracy: 0.9286 - val_loss: 0.8397 - val_accuracy: 0.7757 - lr: 0.0010 - 73s/epoch - 17ms/step
Epoch 53/100
4378/4378 - 74s - loss: 0.2029 - accuracy: 0.9291 - val_loss: 0.9736 - val_accuracy: 0.7447 - lr: 0.0010 - 74s/epoch - 17ms/step
Epoch 54/100
4378/4378 - 74s - loss: 0.1997 - accuracy: 0.9302 - val_loss: 0.9158 - val_accuracy: 0.7603 - lr: 0.0010 - 74s/epoch - 17ms/step
Epoch 55/100
4378/4378 - 74s - loss: 0.2032 - accuracy: 0.9287 - val_loss: 0.8559 - val_accuracy: 0.7680 - lr: 0.0010 - 74s/epoch - 17ms/step
Epoch 56/100
4378/4378 - 73s - loss: 0.2036 - accuracy: 0.9286 - val_loss: 0.9175 - val_accuracy: 0.7562 - lr: 0.0010 - 73s/epoch - 17ms/step
Epoch 57/100
4378/4378 - 74s - loss: 0.2006 - accuracy: 0.9301 - val_loss: 1.0307 - val_accuracy: 0.7406 - lr: 0.0010 - 74s/epoch - 17ms/step
Epoch 58/100
4378/4378 - 73s - loss: 0.2094 - accuracy: 0.9269 - val_loss: 0.8594 - val_accuracy: 0.7802 - lr: 0.0010 - 73s/epoch - 17ms/step
Epoch 59/100
4378/4378 - 74s - loss: 0.2044 - accuracy: 0.9283 - val_loss: 0.9572 - val_accuracy: 0.7549 - lr: 0.0010 - 74s/epoch - 17ms/step
Epoch 60/100
4378/4378 - 74s - loss: 0.2058 - accuracy: 0.9285 - val_loss: 0.8064 - val_accuracy: 0.7761 - lr: 0.0010 - 74s/epoch - 17ms/step
Epoch 61/100
4378/4378 - 74s - loss: 0.2050 - accuracy: 0.9275 - val_loss: 0.8432 - val_accuracy: 0.7760 - lr: 0.0010 - 74s/epoch - 17ms/step
Epoch 62/100
4378/4378 - 73s - loss: 0.2107 - accuracy: 0.9263 - val_loss: 0.9685 - val_accuracy: 0.7450 - lr: 0.0010 - 73s/epoch - 17ms/step
Epoch 63/100
4378/4378 - 74s - loss: 0.2041 - accuracy: 0.9287 - val_loss: 0.8439 - val_accuracy: 0.7774 - lr: 0.0010 - 74s/epoch - 17ms/step
Epoch 64/100
4378/4378 - 73s - loss: 0.2047 - accuracy: 0.9276 - val_loss: 0.7978 - val_accuracy: 0.7833 - lr: 0.0010 - 73s/epoch - 17ms/step
Epoch 65/100
4378/4378 - 74s - loss: 0.2008 - accuracy: 0.9294 - val_loss: 0.8656 - val_accuracy: 0.7681 - lr: 0.0010 - 74s/epoch - 17ms/step
Epoch 66/100
4378/4378 - 74s - loss: 0.2034 - accuracy: 0.9295 - val_loss: 0.8920 - val_accuracy: 0.7712 - lr: 0.0010 - 74s/epoch - 17ms/step
Epoch 67/100
4378/4378 - 74s - loss: 0.2013 - accuracy: 0.9291 - val_loss: 0.8760 - val_accuracy: 0.7650 - lr: 0.0010 - 74s/epoch - 17ms/step
Epoch 68/100
4378/4378 - 74s - loss: 0.2034 - accuracy: 0.9298 - val_loss: 0.8461 - val_accuracy: 0.7800 - lr: 0.0010 - 74s/epoch - 17ms/step
Epoch 69/100
4378/4378 - 74s - loss: 0.2026 - accuracy: 0.9289 - val_loss: 0.8790 - val_accuracy: 0.7735 - lr: 0.0010 - 74s/epoch - 17ms/step
Epoch 70/100
4378/4378 - 74s - loss: 0.1979 - accuracy: 0.9304 - val_loss: 0.8473 - val_accuracy: 0.7823 - lr: 0.0010 - 74s/epoch - 17ms/step
Epoch 71/100
4378/4378 - 74s - loss: 0.2070 - accuracy: 0.9279 - val_loss: 0.8593 - val_accuracy: 0.7789 - lr: 0.0010 - 74s/epoch - 17ms/step
Epoch 72/100
4378/4378 - 74s - loss: 0.2017 - accuracy: 0.9295 - val_loss: 1.0037 - val_accuracy: 0.7495 - lr: 0.0010 - 74s/epoch - 17ms/step
Epoch 73/100
4378/4378 - 74s - loss: 0.1991 - accuracy: 0.9305 - val_loss: 0.9393 - val_accuracy: 0.7558 - lr: 0.0010 - 74s/epoch - 17ms/step
Epoch 74/100
4378/4378 - 73s - loss: 0.2088 - accuracy: 0.9275 - val_loss: 0.8581 - val_accuracy: 0.7751 - lr: 0.0010 - 73s/epoch - 17ms/step
Epoch 75/100
4378/4378 - 74s - loss: 0.2065 - accuracy: 0.9274 - val_loss: 0.9111 - val_accuracy: 0.7548 - lr: 0.0010 - 74s/epoch - 17ms/step
Epoch 76/100
4378/4378 - 74s - loss: 0.1997 - accuracy: 0.9308 - val_loss: 0.8823 - val_accuracy: 0.7615 - lr: 0.0010 - 74s/epoch - 17ms/step
Epoch 77/100
4378/4378 - 74s - loss: 0.2079 - accuracy: 0.9271 - val_loss: 0.8360 - val_accuracy: 0.7736 - lr: 0.0010 - 74s/epoch - 17ms/step
Epoch 78/100
4378/4378 - 74s - loss: 0.2027 - accuracy: 0.9289 - val_loss: 0.8733 - val_accuracy: 0.7675 - lr: 0.0010 - 74s/epoch - 17ms/step
Epoch 79/100
4378/4378 - 74s - loss: 0.2059 - accuracy: 0.9274 - val_loss: 0.9399 - val_accuracy: 0.7525 - lr: 0.0010 - 74s/epoch - 17ms/step
Epoch 80/100
4378/4378 - 75s - loss: 0.2036 - accuracy: 0.9291 - val_loss: 0.8851 - val_accuracy: 0.7674 - lr: 0.0010 - 75s/epoch - 17ms/step
Epoch 81/100
4378/4378 - 74s - loss: 0.2119 - accuracy: 0.9263 - val_loss: 0.8357 - val_accuracy: 0.7853 - lr: 0.0010 - 74s/epoch - 17ms/step
Epoch 82/100
4378/4378 - 73s - loss: 0.2047 - accuracy: 0.9285 - val_loss: 0.8698 - val_accuracy: 0.7804 - lr: 0.0010 - 73s/epoch - 17ms/step
Epoch 83/100
4378/4378 - 73s - loss: 0.2050 - accuracy: 0.9280 - val_loss: 0.8645 - val_accuracy: 0.7765 - lr: 0.0010 - 73s/epoch - 17ms/step
Epoch 84/100
4378/4378 - 74s - loss: 0.2053 - accuracy: 0.9278 - val_loss: 0.8566 - val_accuracy: 0.7751 - lr: 0.0010 - 74s/epoch - 17ms/step
Epoch 85/100
4378/4378 - 74s - loss: 0.2074 - accuracy: 0.9273 - val_loss: 0.9746 - val_accuracy: 0.7501 - lr: 0.0010 - 74s/epoch - 17ms/step
Epoch 86/100
4378/4378 - 74s - loss: 0.2069 - accuracy: 0.9274 - val_loss: 0.8855 - val_accuracy: 0.7722 - lr: 0.0010 - 74s/epoch - 17ms/step
Epoch 87/100
4378/4378 - 73s - loss: 0.2083 - accuracy: 0.9282 - val_loss: 0.8288 - val_accuracy: 0.7862 - lr: 0.0010 - 73s/epoch - 17ms/step
Epoch 88/100
4378/4378 - 73s - loss: 0.2069 - accuracy: 0.9274 - val_loss: 0.9177 - val_accuracy: 0.7646 - lr: 0.0010 - 73s/epoch - 17ms/step
Epoch 89/100
4378/4378 - 74s - loss: 0.2007 - accuracy: 0.9301 - val_loss: 0.8585 - val_accuracy: 0.7784 - lr: 0.0010 - 74s/epoch - 17ms/step
Epoch 90/100
4378/4378 - 73s - loss: 0.2056 - accuracy: 0.9279 - val_loss: 0.8443 - val_accuracy: 0.7790 - lr: 0.0010 - 73s/epoch - 17ms/step
Epoch 91/100
4378/4378 - 74s - loss: 0.1990 - accuracy: 0.9305 - val_loss: 0.9452 - val_accuracy: 0.7618 - lr: 0.0010 - 74s/epoch - 17ms/step
Epoch 92/100
4378/4378 - 74s - loss: 0.2092 - accuracy: 0.9268 - val_loss: 0.8777 - val_accuracy: 0.7687 - lr: 0.0010 - 74s/epoch - 17ms/step
Epoch 93/100
4378/4378 - 73s - loss: 0.2072 - accuracy: 0.9281 - val_loss: 0.9611 - val_accuracy: 0.7527 - lr: 0.0010 - 73s/epoch - 17ms/step
Epoch 94/100
4378/4378 - 73s - loss: 0.2035 - accuracy: 0.9287 - val_loss: 0.8148 - val_accuracy: 0.7794 - lr: 0.0010 - 73s/epoch - 17ms/step
Epoch 95/100
4378/4378 - 73s - loss: 0.2043 - accuracy: 0.9293 - val_loss: 0.8840 - val_accuracy: 0.7730 - lr: 0.0010 - 73s/epoch - 17ms/step
Epoch 96/100
4378/4378 - 74s - loss: 0.2005 - accuracy: 0.9299 - val_loss: 0.9055 - val_accuracy: 0.7682 - lr: 0.0010 - 74s/epoch - 17ms/step
Epoch 97/100
4378/4378 - 73s - loss: 0.2117 - accuracy: 0.9261 - val_loss: 0.9287 - val_accuracy: 0.7512 - lr: 0.0010 - 73s/epoch - 17ms/step
Epoch 98/100
4378/4378 - 74s - loss: 0.2044 - accuracy: 0.9291 - val_loss: 0.8946 - val_accuracy: 0.7627 - lr: 0.0010 - 74s/epoch - 17ms/step
Epoch 99/100
4378/4378 - 73s - loss: 0.2083 - accuracy: 0.9261 - val_loss: 1.0231 - val_accuracy: 0.7508 - lr: 0.0010 - 73s/epoch - 17ms/step
Epoch 100/100
4378/4378 - 74s - loss: 0.2034 - accuracy: 0.9293 - val_loss: 0.9175 - val_accuracy: 0.7684 - lr: 0.0010 - 74s/epoch - 17ms/step
Epoch 1/100
876/876 - 21s - loss: 0.1360 - accuracy: 0.9542 - val_loss: 1.0578 - val_accuracy: 0.7638 - lr: 0.0010 - 21s/epoch - 24ms/step
Epoch 2/100
876/876 - 18s - loss: 0.1370 - accuracy: 0.9534 - val_loss: 1.0718 - val_accuracy: 0.7632 - lr: 0.0010 - 18s/epoch - 21ms/step
Epoch 3/100
876/876 - 18s - loss: 0.1428 - accuracy: 0.9522 - val_loss: 1.1546 - val_accuracy: 0.7462 - lr: 0.0010 - 18s/epoch - 21ms/step
Epoch 4/100
876/876 - 18s - loss: 0.1396 - accuracy: 0.9535 - val_loss: 1.1626 - val_accuracy: 0.7468 - lr: 0.0010 - 18s/epoch - 21ms/step
Epoch 5/100
876/876 - 18s - loss: 0.1277 - accuracy: 0.9571 - val_loss: 1.2789 - val_accuracy: 0.7430 - lr: 0.0010 - 18s/epoch - 21ms/step
Epoch 6/100
876/876 - 18s - loss: 0.1261 - accuracy: 0.9581 - val_loss: 1.2353 - val_accuracy: 0.7435 - lr: 0.0010 - 18s/epoch - 21ms/step
Epoch 7/100
876/876 - 18s - loss: 0.1330 - accuracy: 0.9545 - val_loss: 1.0935 - val_accuracy: 0.7743 - lr: 0.0010 - 18s/epoch - 21ms/step
Epoch 8/100
876/876 - 18s - loss: 0.1366 - accuracy: 0.9536 - val_loss: 1.1109 - val_accuracy: 0.7711 - lr: 0.0010 - 18s/epoch - 21ms/step
Epoch 9/100
876/876 - 18s - loss: 0.1364 - accuracy: 0.9543 - val_loss: 1.3106 - val_accuracy: 0.7346 - lr: 0.0010 - 18s/epoch - 21ms/step
Epoch 10/100
876/876 - 19s - loss: 0.1336 - accuracy: 0.9546 - val_loss: 1.1577 - val_accuracy: 0.7573 - lr: 0.0010 - 19s/epoch - 21ms/step
Epoch 11/100
876/876 - 18s - loss: 0.1359 - accuracy: 0.9539 - val_loss: 1.1501 - val_accuracy: 0.7601 - lr: 0.0010 - 18s/epoch - 21ms/step
Epoch 12/100
876/876 - 18s - loss: 0.1294 - accuracy: 0.9560 - val_loss: 1.2082 - val_accuracy: 0.7502 - lr: 0.0010 - 18s/epoch - 21ms/step
Epoch 13/100
876/876 - 18s - loss: 0.1373 - accuracy: 0.9532 - val_loss: 1.2158 - val_accuracy: 0.7509 - lr: 0.0010 - 18s/epoch - 21ms/step
Epoch 14/100
876/876 - 18s - loss: 0.1335 - accuracy: 0.9552 - val_loss: 1.1788 - val_accuracy: 0.7512 - lr: 0.0010 - 18s/epoch - 21ms/step
Epoch 15/100
876/876 - 18s - loss: 0.1328 - accuracy: 0.9553 - val_loss: 1.2405 - val_accuracy: 0.7464 - lr: 0.0010 - 18s/epoch - 21ms/step
Epoch 16/100
876/876 - 19s - loss: 0.1284 - accuracy: 0.9567 - val_loss: 1.1353 - val_accuracy: 0.7629 - lr: 0.0010 - 19s/epoch - 21ms/step
Epoch 17/100
876/876 - 19s - loss: 0.1312 - accuracy: 0.9552 - val_loss: 1.1591 - val_accuracy: 0.7683 - lr: 0.0010 - 19s/epoch - 21ms/step
Epoch 18/100
876/876 - 18s - loss: 0.1309 - accuracy: 0.9559 - val_loss: 1.2011 - val_accuracy: 0.7526 - lr: 0.0010 - 18s/epoch - 21ms/step
Epoch 19/100
876/876 - 18s - loss: 0.1272 - accuracy: 0.9568 - val_loss: 1.3054 - val_accuracy: 0.7409 - lr: 0.0010 - 18s/epoch - 21ms/step
Epoch 20/100
876/876 - 18s - loss: 0.1284 - accuracy: 0.9569 - val_loss: 1.1788 - val_accuracy: 0.7663 - lr: 0.0010 - 18s/epoch - 21ms/step
Epoch 21/100
876/876 - 18s - loss: 0.1296 - accuracy: 0.9557 - val_loss: 1.1338 - val_accuracy: 0.7703 - lr: 0.0010 - 18s/epoch - 21ms/step
Epoch 22/100
876/876 - 18s - loss: 0.1322 - accuracy: 0.9553 - val_loss: 1.2815 - val_accuracy: 0.7430 - lr: 0.0010 - 18s/epoch - 21ms/step
Epoch 23/100
876/876 - 18s - loss: 0.1299 - accuracy: 0.9556 - val_loss: 1.2521 - val_accuracy: 0.7528 - lr: 0.0010 - 18s/epoch - 21ms/step
Epoch 24/100
876/876 - 18s - loss: 0.1282 - accuracy: 0.9568 - val_loss: 1.2173 - val_accuracy: 0.7590 - lr: 0.0010 - 18s/epoch - 21ms/step
Epoch 25/100
876/876 - 18s - loss: 0.1277 - accuracy: 0.9566 - val_loss: 1.2805 - val_accuracy: 0.7444 - lr: 0.0010 - 18s/epoch - 21ms/step
Epoch 26/100
876/876 - 18s - loss: 0.1335 - accuracy: 0.9554 - val_loss: 1.2957 - val_accuracy: 0.7399 - lr: 0.0010 - 18s/epoch - 21ms/step
Epoch 27/100
876/876 - 18s - loss: 0.1262 - accuracy: 0.9577 - val_loss: 1.1803 - val_accuracy: 0.7565 - lr: 0.0010 - 18s/epoch - 21ms/step
Epoch 28/100
876/876 - 18s - loss: 0.1294 - accuracy: 0.9568 - val_loss: 1.1281 - val_accuracy: 0.7663 - lr: 0.0010 - 18s/epoch - 21ms/step
Epoch 29/100
876/876 - 18s - loss: 0.1298 - accuracy: 0.9558 - val_loss: 1.2283 - val_accuracy: 0.7494 - lr: 0.0010 - 18s/epoch - 21ms/step
Epoch 30/100
876/876 - 18s - loss: 0.1306 - accuracy: 0.9556 - val_loss: 1.1699 - val_accuracy: 0.7661 - lr: 0.0010 - 18s/epoch - 21ms/step
Epoch 31/100
876/876 - 18s - loss: 0.1256 - accuracy: 0.9576 - val_loss: 1.1413 - val_accuracy: 0.7669 - lr: 0.0010 - 18s/epoch - 21ms/step
Epoch 32/100
876/876 - 18s - loss: 0.1246 - accuracy: 0.9580 - val_loss: 1.2529 - val_accuracy: 0.7579 - lr: 0.0010 - 18s/epoch - 21ms/step
Epoch 33/100
876/876 - 18s - loss: 0.1276 - accuracy: 0.9564 - val_loss: 1.2513 - val_accuracy: 0.7591 - lr: 0.0010 - 18s/epoch - 21ms/step
Epoch 34/100
876/876 - 18s - loss: 0.1270 - accuracy: 0.9571 - val_loss: 1.1637 - val_accuracy: 0.7669 - lr: 0.0010 - 18s/epoch - 21ms/step
Epoch 35/100
876/876 - 18s - loss: 0.1272 - accuracy: 0.9575 - val_loss: 1.2475 - val_accuracy: 0.7537 - lr: 0.0010 - 18s/epoch - 21ms/step
Epoch 36/100
876/876 - 18s - loss: 0.1299 - accuracy: 0.9569 - val_loss: 1.2188 - val_accuracy: 0.7560 - lr: 0.0010 - 18s/epoch - 21ms/step
Epoch 37/100
876/876 - 18s - loss: 0.1276 - accuracy: 0.9570 - val_loss: 1.2216 - val_accuracy: 0.7540 - lr: 0.0010 - 18s/epoch - 21ms/step
Epoch 38/100
876/876 - 18s - loss: 0.1269 - accuracy: 0.9569 - val_loss: 1.2441 - val_accuracy: 0.7544 - lr: 0.0010 - 18s/epoch - 21ms/step
Epoch 39/100
876/876 - 18s - loss: 0.1297 - accuracy: 0.9563 - val_loss: 1.1831 - val_accuracy: 0.7641 - lr: 0.0010 - 18s/epoch - 21ms/step
Epoch 40/100
876/876 - 18s - loss: 0.1222 - accuracy: 0.9587 - val_loss: 1.2196 - val_accuracy: 0.7602 - lr: 0.0010 - 18s/epoch - 21ms/step
Epoch 41/100
876/876 - 18s - loss: 0.1266 - accuracy: 0.9572 - val_loss: 1.2055 - val_accuracy: 0.7648 - lr: 0.0010 - 18s/epoch - 21ms/step
Epoch 42/100
876/876 - 18s - loss: 0.1272 - accuracy: 0.9571 - val_loss: 1.1605 - val_accuracy: 0.7664 - lr: 0.0010 - 18s/epoch - 21ms/step
Epoch 43/100
876/876 - 18s - loss: 0.1260 - accuracy: 0.9572 - val_loss: 1.2622 - val_accuracy: 0.7374 - lr: 0.0010 - 18s/epoch - 21ms/step
Epoch 44/100
876/876 - 18s - loss: 0.1245 - accuracy: 0.9579 - val_loss: 1.2095 - val_accuracy: 0.7485 - lr: 0.0010 - 18s/epoch - 21ms/step
Epoch 45/100
876/876 - 19s - loss: 0.1266 - accuracy: 0.9583 - val_loss: 1.2580 - val_accuracy: 0.7468 - lr: 0.0010 - 19s/epoch - 21ms/step
Epoch 46/100
876/876 - 18s - loss: 0.1237 - accuracy: 0.9590 - val_loss: 1.3330 - val_accuracy: 0.7439 - lr: 0.0010 - 18s/epoch - 21ms/step
Epoch 47/100
876/876 - 18s - loss: 0.1270 - accuracy: 0.9575 - val_loss: 1.2600 - val_accuracy: 0.7506 - lr: 0.0010 - 18s/epoch - 21ms/step
Epoch 48/100
876/876 - 18s - loss: 0.1272 - accuracy: 0.9575 - val_loss: 1.1873 - val_accuracy: 0.7663 - lr: 0.0010 - 18s/epoch - 21ms/step
Epoch 49/100
876/876 - 18s - loss: 0.1263 - accuracy: 0.9576 - val_loss: 1.2468 - val_accuracy: 0.7490 - lr: 0.0010 - 18s/epoch - 21ms/step
Epoch 50/100
876/876 - 18s - loss: 0.1257 - accuracy: 0.9573 - val_loss: 1.3281 - val_accuracy: 0.7436 - lr: 0.0010 - 18s/epoch - 21ms/step
Epoch 51/100
876/876 - 18s - loss: 0.1157 - accuracy: 0.9612 - val_loss: 1.3153 - val_accuracy: 0.7529 - lr: 0.0010 - 18s/epoch - 21ms/step
Epoch 52/100
876/876 - 18s - loss: 0.1164 - accuracy: 0.9609 - val_loss: 1.4151 - val_accuracy: 0.7336 - lr: 0.0010 - 18s/epoch - 21ms/step
Epoch 53/100
876/876 - 19s - loss: 0.1197 - accuracy: 0.9593 - val_loss: 1.2215 - val_accuracy: 0.7693 - lr: 0.0010 - 19s/epoch - 21ms/step
Epoch 54/100
876/876 - 18s - loss: 0.1215 - accuracy: 0.9599 - val_loss: 1.2254 - val_accuracy: 0.7620 - lr: 0.0010 - 18s/epoch - 21ms/step
Epoch 55/100
876/876 - 18s - loss: 0.1217 - accuracy: 0.9594 - val_loss: 1.2239 - val_accuracy: 0.7604 - lr: 0.0010 - 18s/epoch - 21ms/step
Epoch 56/100
876/876 - 18s - loss: 0.1210 - accuracy: 0.9601 - val_loss: 1.1876 - val_accuracy: 0.7717 - lr: 0.0010 - 18s/epoch - 21ms/step
Epoch 57/100
876/876 - 19s - loss: 0.1264 - accuracy: 0.9572 - val_loss: 1.2495 - val_accuracy: 0.7548 - lr: 0.0010 - 19s/epoch - 21ms/step
Epoch 58/100
876/876 - 18s - loss: 0.1203 - accuracy: 0.9594 - val_loss: 1.1707 - val_accuracy: 0.7721 - lr: 0.0010 - 18s/epoch - 21ms/step
Epoch 59/100
876/876 - 18s - loss: 0.1218 - accuracy: 0.9587 - val_loss: 1.2343 - val_accuracy: 0.7558 - lr: 0.0010 - 18s/epoch - 21ms/step
Epoch 60/100
876/876 - 18s - loss: 0.1204 - accuracy: 0.9595 - val_loss: 1.1796 - val_accuracy: 0.7696 - lr: 0.0010 - 18s/epoch - 21ms/step
Epoch 61/100
876/876 - 18s - loss: 0.1224 - accuracy: 0.9593 - val_loss: 1.2115 - val_accuracy: 0.7529 - lr: 0.0010 - 18s/epoch - 21ms/step
Epoch 62/100
876/876 - 18s - loss: 0.1224 - accuracy: 0.9590 - val_loss: 1.2206 - val_accuracy: 0.7651 - lr: 0.0010 - 18s/epoch - 21ms/step
Epoch 63/100
876/876 - 18s - loss: 0.1214 - accuracy: 0.9588 - val_loss: 1.3133 - val_accuracy: 0.7461 - lr: 0.0010 - 18s/epoch - 21ms/step
Epoch 64/100
876/876 - 18s - loss: 0.1219 - accuracy: 0.9590 - val_loss: 1.2536 - val_accuracy: 0.7551 - lr: 0.0010 - 18s/epoch - 21ms/step
Epoch 65/100
876/876 - 18s - loss: 0.1246 - accuracy: 0.9578 - val_loss: 1.3532 - val_accuracy: 0.7328 - lr: 0.0010 - 18s/epoch - 21ms/step
Epoch 66/100
876/876 - 18s - loss: 0.1268 - accuracy: 0.9573 - val_loss: 1.2464 - val_accuracy: 0.7563 - lr: 0.0010 - 18s/epoch - 21ms/step
Epoch 67/100
876/876 - 18s - loss: 0.1260 - accuracy: 0.9576 - val_loss: 1.3128 - val_accuracy: 0.7398 - lr: 0.0010 - 18s/epoch - 21ms/step
Epoch 68/100
876/876 - 18s - loss: 0.1231 - accuracy: 0.9586 - val_loss: 1.3073 - val_accuracy: 0.7513 - lr: 0.0010 - 18s/epoch - 21ms/step
Epoch 69/100
876/876 - 18s - loss: 0.1238 - accuracy: 0.9580 - val_loss: 1.2909 - val_accuracy: 0.7521 - lr: 0.0010 - 18s/epoch - 21ms/step
Epoch 70/100
876/876 - 18s - loss: 0.1230 - accuracy: 0.9592 - val_loss: 1.2999 - val_accuracy: 0.7516 - lr: 0.0010 - 18s/epoch - 21ms/step
Epoch 71/100
876/876 - 18s - loss: 0.1212 - accuracy: 0.9592 - val_loss: 1.2348 - val_accuracy: 0.7566 - lr: 0.0010 - 18s/epoch - 21ms/step
Epoch 72/100
876/876 - 18s - loss: 0.1192 - accuracy: 0.9602 - val_loss: 1.2121 - val_accuracy: 0.7641 - lr: 0.0010 - 18s/epoch - 21ms/step
Epoch 73/100
876/876 - 19s - loss: 0.1171 - accuracy: 0.9601 - val_loss: 1.2291 - val_accuracy: 0.7651 - lr: 0.0010 - 19s/epoch - 21ms/step
Epoch 74/100
876/876 - 18s - loss: 0.1209 - accuracy: 0.9595 - val_loss: 1.3315 - val_accuracy: 0.7517 - lr: 0.0010 - 18s/epoch - 21ms/step
Epoch 75/100
876/876 - 18s - loss: 0.1230 - accuracy: 0.9583 - val_loss: 1.3608 - val_accuracy: 0.7403 - lr: 0.0010 - 18s/epoch - 21ms/step
Epoch 76/100
876/876 - 18s - loss: 0.1219 - accuracy: 0.9593 - val_loss: 1.2640 - val_accuracy: 0.7547 - lr: 0.0010 - 18s/epoch - 21ms/step
Epoch 77/100
876/876 - 18s - loss: 0.1224 - accuracy: 0.9589 - val_loss: 1.2650 - val_accuracy: 0.7582 - lr: 0.0010 - 18s/epoch - 21ms/step
Epoch 78/100
876/876 - 18s - loss: 0.1236 - accuracy: 0.9584 - val_loss: 1.2783 - val_accuracy: 0.7534 - lr: 0.0010 - 18s/epoch - 21ms/step
Epoch 79/100
876/876 - 18s - loss: 0.1175 - accuracy: 0.9605 - val_loss: 1.3085 - val_accuracy: 0.7407 - lr: 0.0010 - 18s/epoch - 21ms/step
Epoch 80/100
876/876 - 18s - loss: 0.1223 - accuracy: 0.9585 - val_loss: 1.2248 - val_accuracy: 0.7617 - lr: 0.0010 - 18s/epoch - 21ms/step
Epoch 81/100
876/876 - 18s - loss: 0.1222 - accuracy: 0.9592 - val_loss: 1.3014 - val_accuracy: 0.7543 - lr: 0.0010 - 18s/epoch - 21ms/step
Epoch 82/100
876/876 - 18s - loss: 0.1228 - accuracy: 0.9593 - val_loss: 1.2110 - val_accuracy: 0.7621 - lr: 0.0010 - 18s/epoch - 21ms/step
Epoch 83/100
876/876 - 18s - loss: 0.1169 - accuracy: 0.9606 - val_loss: 1.2377 - val_accuracy: 0.7664 - lr: 0.0010 - 18s/epoch - 21ms/step
Epoch 84/100
876/876 - 18s - loss: 0.1227 - accuracy: 0.9601 - val_loss: 1.1390 - val_accuracy: 0.7707 - lr: 0.0010 - 18s/epoch - 21ms/step
Epoch 85/100
876/876 - 18s - loss: 0.1229 - accuracy: 0.9585 - val_loss: 1.1313 - val_accuracy: 0.7759 - lr: 0.0010 - 18s/epoch - 21ms/step
Epoch 86/100
876/876 - 18s - loss: 0.1206 - accuracy: 0.9598 - val_loss: 1.3609 - val_accuracy: 0.7449 - lr: 0.0010 - 18s/epoch - 21ms/step
Epoch 87/100
876/876 - 18s - loss: 0.1226 - accuracy: 0.9582 - val_loss: 1.2643 - val_accuracy: 0.7543 - lr: 0.0010 - 18s/epoch - 21ms/step
Epoch 88/100
876/876 - 18s - loss: 0.1216 - accuracy: 0.9595 - val_loss: 1.2720 - val_accuracy: 0.7431 - lr: 0.0010 - 18s/epoch - 21ms/step
Epoch 89/100
876/876 - 19s - loss: 0.1214 - accuracy: 0.9592 - val_loss: 1.1874 - val_accuracy: 0.7621 - lr: 0.0010 - 19s/epoch - 21ms/step
Epoch 90/100
876/876 - 19s - loss: 0.1168 - accuracy: 0.9604 - val_loss: 1.2462 - val_accuracy: 0.7574 - lr: 0.0010 - 19s/epoch - 21ms/step
Epoch 91/100
876/876 - 19s - loss: 0.1207 - accuracy: 0.9590 - val_loss: 1.1996 - val_accuracy: 0.7637 - lr: 0.0010 - 19s/epoch - 21ms/step
Epoch 92/100
876/876 - 18s - loss: 0.1185 - accuracy: 0.9600 - val_loss: 1.2366 - val_accuracy: 0.7572 - lr: 0.0010 - 18s/epoch - 21ms/step
Epoch 93/100
876/876 - 19s - loss: 0.1171 - accuracy: 0.9615 - val_loss: 1.2452 - val_accuracy: 0.7591 - lr: 0.0010 - 19s/epoch - 21ms/step
Epoch 94/100
876/876 - 19s - loss: 0.1238 - accuracy: 0.9582 - val_loss: 1.1916 - val_accuracy: 0.7635 - lr: 0.0010 - 19s/epoch - 21ms/step
Epoch 95/100
876/876 - 18s - loss: 0.1204 - accuracy: 0.9592 - val_loss: 1.2521 - val_accuracy: 0.7490 - lr: 0.0010 - 18s/epoch - 21ms/step
Epoch 96/100
876/876 - 18s - loss: 0.1209 - accuracy: 0.9589 - val_loss: 1.2630 - val_accuracy: 0.7563 - lr: 0.0010 - 18s/epoch - 21ms/step
Epoch 97/100
876/876 - 18s - loss: 0.1221 - accuracy: 0.9593 - val_loss: 1.0939 - val_accuracy: 0.7848 - lr: 0.0010 - 18s/epoch - 21ms/step
Epoch 98/100
876/876 - 18s - loss: 0.1230 - accuracy: 0.9591 - val_loss: 1.1999 - val_accuracy: 0.7674 - lr: 0.0010 - 18s/epoch - 21ms/step
Epoch 99/100
876/876 - 18s - loss: 0.1193 - accuracy: 0.9604 - val_loss: 1.1809 - val_accuracy: 0.7702 - lr: 0.0010 - 18s/epoch - 21ms/step
Epoch 100/100
876/876 - 18s - loss: 0.1228 - accuracy: 0.9590 - val_loss: 1.2574 - val_accuracy: 0.7500 - lr: 0.0010 - 18s/epoch - 21ms/step
Epoch 1/100
176/176 - 12s - loss: 0.0951 - accuracy: 0.9694 - val_loss: 1.2991 - val_accuracy: 0.7528 - lr: 0.0010 - 12s/epoch - 69ms/step
Epoch 2/100
176/176 - 10s - loss: 0.0838 - accuracy: 0.9729 - val_loss: 1.3752 - val_accuracy: 0.7512 - lr: 0.0010 - 10s/epoch - 57ms/step
Epoch 3/100
176/176 - 10s - loss: 0.0813 - accuracy: 0.9741 - val_loss: 1.4125 - val_accuracy: 0.7495 - lr: 0.0010 - 10s/epoch - 56ms/step
Epoch 4/100
176/176 - 10s - loss: 0.0797 - accuracy: 0.9745 - val_loss: 1.4202 - val_accuracy: 0.7580 - lr: 0.0010 - 10s/epoch - 55ms/step
Epoch 5/100
176/176 - 10s - loss: 0.0821 - accuracy: 0.9737 - val_loss: 1.4585 - val_accuracy: 0.7510 - lr: 0.0010 - 10s/epoch - 56ms/step
Epoch 6/100
176/176 - 10s - loss: 0.0823 - accuracy: 0.9734 - val_loss: 1.4947 - val_accuracy: 0.7495 - lr: 0.0010 - 10s/epoch - 56ms/step
Epoch 7/100
176/176 - 10s - loss: 0.0820 - accuracy: 0.9741 - val_loss: 1.4651 - val_accuracy: 0.7520 - lr: 0.0010 - 10s/epoch - 56ms/step
Epoch 8/100
176/176 - 10s - loss: 0.0846 - accuracy: 0.9726 - val_loss: 1.5010 - val_accuracy: 0.7501 - lr: 0.0010 - 10s/epoch - 56ms/step
Epoch 9/100
176/176 - 10s - loss: 0.0847 - accuracy: 0.9723 - val_loss: 1.4925 - val_accuracy: 0.7538 - lr: 0.0010 - 10s/epoch - 56ms/step
Epoch 10/100
176/176 - 10s - loss: 0.0850 - accuracy: 0.9725 - val_loss: 1.4481 - val_accuracy: 0.7553 - lr: 0.0010 - 10s/epoch - 56ms/step
Epoch 11/100
176/176 - 10s - loss: 0.0851 - accuracy: 0.9718 - val_loss: 1.4742 - val_accuracy: 0.7520 - lr: 0.0010 - 10s/epoch - 55ms/step
Epoch 12/100
176/176 - 10s - loss: 0.0827 - accuracy: 0.9731 - val_loss: 1.4478 - val_accuracy: 0.7575 - lr: 0.0010 - 10s/epoch - 56ms/step
Epoch 13/100
176/176 - 10s - loss: 0.0835 - accuracy: 0.9728 - val_loss: 1.4963 - val_accuracy: 0.7518 - lr: 0.0010 - 10s/epoch - 56ms/step
Epoch 14/100
176/176 - 10s - loss: 0.0871 - accuracy: 0.9720 - val_loss: 1.4982 - val_accuracy: 0.7548 - lr: 0.0010 - 10s/epoch - 56ms/step
Epoch 15/100
176/176 - 10s - loss: 0.0848 - accuracy: 0.9721 - val_loss: 1.4666 - val_accuracy: 0.7579 - lr: 0.0010 - 10s/epoch - 56ms/step
Epoch 16/100
176/176 - 10s - loss: 0.0885 - accuracy: 0.9712 - val_loss: 1.5793 - val_accuracy: 0.7402 - lr: 0.0010 - 10s/epoch - 56ms/step
Epoch 17/100
176/176 - 10s - loss: 0.0868 - accuracy: 0.9719 - val_loss: 1.5295 - val_accuracy: 0.7461 - lr: 0.0010 - 10s/epoch - 56ms/step
Epoch 18/100
176/176 - 10s - loss: 0.0855 - accuracy: 0.9722 - val_loss: 1.5066 - val_accuracy: 0.7524 - lr: 0.0010 - 10s/epoch - 56ms/step
Epoch 19/100
176/176 - 10s - loss: 0.0802 - accuracy: 0.9741 - val_loss: 1.4715 - val_accuracy: 0.7546 - lr: 0.0010 - 10s/epoch - 56ms/step
Epoch 20/100
176/176 - 10s - loss: 0.0828 - accuracy: 0.9733 - val_loss: 1.4523 - val_accuracy: 0.7552 - lr: 0.0010 - 10s/epoch - 56ms/step
Epoch 21/100
176/176 - 10s - loss: 0.0875 - accuracy: 0.9723 - val_loss: 1.4585 - val_accuracy: 0.7548 - lr: 0.0010 - 10s/epoch - 56ms/step
Epoch 22/100
176/176 - 10s - loss: 0.0836 - accuracy: 0.9731 - val_loss: 1.4330 - val_accuracy: 0.7636 - lr: 0.0010 - 10s/epoch - 56ms/step
Epoch 23/100
176/176 - 10s - loss: 0.0832 - accuracy: 0.9731 - val_loss: 1.6060 - val_accuracy: 0.7410 - lr: 0.0010 - 10s/epoch - 57ms/step
Epoch 24/100
176/176 - 10s - loss: 0.0833 - accuracy: 0.9739 - val_loss: 1.5289 - val_accuracy: 0.7551 - lr: 0.0010 - 10s/epoch - 56ms/step
Epoch 25/100
176/176 - 10s - loss: 0.0816 - accuracy: 0.9738 - val_loss: 1.5882 - val_accuracy: 0.7468 - lr: 0.0010 - 10s/epoch - 55ms/step
Epoch 26/100
176/176 - 10s - loss: 0.0800 - accuracy: 0.9742 - val_loss: 1.5705 - val_accuracy: 0.7522 - lr: 0.0010 - 10s/epoch - 56ms/step
Epoch 27/100
176/176 - 11s - loss: 0.0814 - accuracy: 0.9739 - val_loss: 1.6367 - val_accuracy: 0.7416 - lr: 0.0010 - 11s/epoch - 60ms/step
Epoch 28/100
176/176 - 11s - loss: 0.0826 - accuracy: 0.9741 - val_loss: 1.6073 - val_accuracy: 0.7439 - lr: 0.0010 - 11s/epoch - 60ms/step
Epoch 29/100
176/176 - 11s - loss: 0.0797 - accuracy: 0.9741 - val_loss: 1.6615 - val_accuracy: 0.7420 - lr: 0.0010 - 11s/epoch - 60ms/step
Epoch 30/100
176/176 - 11s - loss: 0.0827 - accuracy: 0.9733 - val_loss: 1.5802 - val_accuracy: 0.7525 - lr: 0.0010 - 11s/epoch - 60ms/step
Epoch 31/100
176/176 - 10s - loss: 0.0802 - accuracy: 0.9738 - val_loss: 1.5609 - val_accuracy: 0.7488 - lr: 0.0010 - 10s/epoch - 56ms/step
Epoch 32/100
176/176 - 10s - loss: 0.0788 - accuracy: 0.9747 - val_loss: 1.6036 - val_accuracy: 0.7454 - lr: 0.0010 - 10s/epoch - 57ms/step
Epoch 33/100
176/176 - 10s - loss: 0.0813 - accuracy: 0.9739 - val_loss: 1.4566 - val_accuracy: 0.7666 - lr: 0.0010 - 10s/epoch - 56ms/step
Epoch 34/100
176/176 - 10s - loss: 0.0790 - accuracy: 0.9747 - val_loss: 1.5421 - val_accuracy: 0.7554 - lr: 0.0010 - 10s/epoch - 56ms/step
Epoch 35/100
176/176 - 10s - loss: 0.0827 - accuracy: 0.9734 - val_loss: 1.5827 - val_accuracy: 0.7466 - lr: 0.0010 - 10s/epoch - 55ms/step
Epoch 36/100
176/176 - 10s - loss: 0.0830 - accuracy: 0.9731 - val_loss: 1.5515 - val_accuracy: 0.7519 - lr: 0.0010 - 10s/epoch - 56ms/step
Epoch 37/100
176/176 - 10s - loss: 0.0818 - accuracy: 0.9739 - val_loss: 1.6239 - val_accuracy: 0.7414 - lr: 0.0010 - 10s/epoch - 56ms/step
Epoch 38/100
176/176 - 10s - loss: 0.0819 - accuracy: 0.9734 - val_loss: 1.6161 - val_accuracy: 0.7424 - lr: 0.0010 - 10s/epoch - 56ms/step
Epoch 39/100
176/176 - 10s - loss: 0.0844 - accuracy: 0.9725 - val_loss: 1.5939 - val_accuracy: 0.7439 - lr: 0.0010 - 10s/epoch - 56ms/step
Epoch 40/100
176/176 - 10s - loss: 0.0875 - accuracy: 0.9717 - val_loss: 1.5714 - val_accuracy: 0.7508 - lr: 0.0010 - 10s/epoch - 56ms/step
Epoch 41/100
176/176 - 10s - loss: 0.0790 - accuracy: 0.9742 - val_loss: 1.6298 - val_accuracy: 0.7431 - lr: 0.0010 - 10s/epoch - 56ms/step
Epoch 42/100
176/176 - 10s - loss: 0.0820 - accuracy: 0.9732 - val_loss: 1.6009 - val_accuracy: 0.7429 - lr: 0.0010 - 10s/epoch - 55ms/step
Epoch 43/100
176/176 - 10s - loss: 0.0848 - accuracy: 0.9727 - val_loss: 1.5144 - val_accuracy: 0.7538 - lr: 0.0010 - 10s/epoch - 56ms/step
Epoch 44/100
176/176 - 10s - loss: 0.0812 - accuracy: 0.9740 - val_loss: 1.5689 - val_accuracy: 0.7481 - lr: 0.0010 - 10s/epoch - 55ms/step
Epoch 45/100
176/176 - 10s - loss: 0.0766 - accuracy: 0.9754 - val_loss: 1.5669 - val_accuracy: 0.7545 - lr: 0.0010 - 10s/epoch - 55ms/step
Epoch 46/100
176/176 - 10s - loss: 0.0794 - accuracy: 0.9748 - val_loss: 1.5068 - val_accuracy: 0.7605 - lr: 0.0010 - 10s/epoch - 56ms/step
Epoch 47/100
176/176 - 10s - loss: 0.0797 - accuracy: 0.9743 - val_loss: 1.5462 - val_accuracy: 0.7543 - lr: 0.0010 - 10s/epoch - 57ms/step
Epoch 48/100
176/176 - 10s - loss: 0.0828 - accuracy: 0.9738 - val_loss: 1.5455 - val_accuracy: 0.7509 - lr: 0.0010 - 10s/epoch - 55ms/step
Epoch 49/100
176/176 - 10s - loss: 0.0860 - accuracy: 0.9724 - val_loss: 1.5233 - val_accuracy: 0.7513 - lr: 0.0010 - 10s/epoch - 55ms/step
Epoch 50/100
176/176 - 10s - loss: 0.0791 - accuracy: 0.9746 - val_loss: 1.5931 - val_accuracy: 0.7488 - lr: 0.0010 - 10s/epoch - 55ms/step
Epoch 51/100
176/176 - 10s - loss: 0.0787 - accuracy: 0.9745 - val_loss: 1.5823 - val_accuracy: 0.7516 - lr: 0.0010 - 10s/epoch - 56ms/step
Epoch 52/100
176/176 - 10s - loss: 0.0799 - accuracy: 0.9742 - val_loss: 1.6225 - val_accuracy: 0.7463 - lr: 0.0010 - 10s/epoch - 56ms/step
Epoch 53/100
176/176 - 10s - loss: 0.0801 - accuracy: 0.9738 - val_loss: 1.6367 - val_accuracy: 0.7452 - lr: 0.0010 - 10s/epoch - 56ms/step
Epoch 54/100
176/176 - 10s - loss: 0.0821 - accuracy: 0.9735 - val_loss: 1.6019 - val_accuracy: 0.7451 - lr: 0.0010 - 10s/epoch - 56ms/step
Epoch 55/100
176/176 - 10s - loss: 0.0821 - accuracy: 0.9736 - val_loss: 1.6117 - val_accuracy: 0.7465 - lr: 0.0010 - 10s/epoch - 56ms/step
Epoch 56/100
176/176 - 10s - loss: 0.0818 - accuracy: 0.9736 - val_loss: 1.6303 - val_accuracy: 0.7438 - lr: 0.0010 - 10s/epoch - 55ms/step
Epoch 57/100
176/176 - 10s - loss: 0.0793 - accuracy: 0.9749 - val_loss: 1.5624 - val_accuracy: 0.7511 - lr: 0.0010 - 10s/epoch - 56ms/step
Epoch 58/100
176/176 - 10s - loss: 0.0807 - accuracy: 0.9744 - val_loss: 1.6392 - val_accuracy: 0.7394 - lr: 0.0010 - 10s/epoch - 55ms/step
Epoch 59/100
176/176 - 10s - loss: 0.0810 - accuracy: 0.9731 - val_loss: 1.5908 - val_accuracy: 0.7506 - lr: 0.0010 - 10s/epoch - 56ms/step
Epoch 60/100
176/176 - 10s - loss: 0.0803 - accuracy: 0.9736 - val_loss: 1.6181 - val_accuracy: 0.7488 - lr: 0.0010 - 10s/epoch - 56ms/step
Epoch 61/100
176/176 - 10s - loss: 0.0805 - accuracy: 0.9734 - val_loss: 1.6406 - val_accuracy: 0.7481 - lr: 0.0010 - 10s/epoch - 57ms/step
Epoch 62/100
176/176 - 10s - loss: 0.0836 - accuracy: 0.9727 - val_loss: 1.5823 - val_accuracy: 0.7475 - lr: 0.0010 - 10s/epoch - 57ms/step
Epoch 63/100
176/176 - 10s - loss: 0.0817 - accuracy: 0.9736 - val_loss: 1.5285 - val_accuracy: 0.7557 - lr: 0.0010 - 10s/epoch - 56ms/step
Epoch 64/100
176/176 - 10s - loss: 0.0778 - accuracy: 0.9750 - val_loss: 1.6684 - val_accuracy: 0.7334 - lr: 0.0010 - 10s/epoch - 56ms/step
Epoch 65/100
176/176 - 10s - loss: 0.0809 - accuracy: 0.9741 - val_loss: 1.5402 - val_accuracy: 0.7503 - lr: 0.0010 - 10s/epoch - 56ms/step
Epoch 66/100
176/176 - 10s - loss: 0.0811 - accuracy: 0.9738 - val_loss: 1.6421 - val_accuracy: 0.7427 - lr: 0.0010 - 10s/epoch - 56ms/step
Epoch 67/100
176/176 - 10s - loss: 0.0807 - accuracy: 0.9739 - val_loss: 1.5815 - val_accuracy: 0.7469 - lr: 0.0010 - 10s/epoch - 55ms/step
Epoch 68/100
176/176 - 10s - loss: 0.0787 - accuracy: 0.9743 - val_loss: 1.6084 - val_accuracy: 0.7484 - lr: 0.0010 - 10s/epoch - 55ms/step
Epoch 69/100
176/176 - 10s - loss: 0.0808 - accuracy: 0.9738 - val_loss: 1.6095 - val_accuracy: 0.7471 - lr: 0.0010 - 10s/epoch - 56ms/step
Epoch 70/100
176/176 - 10s - loss: 0.0791 - accuracy: 0.9740 - val_loss: 1.5964 - val_accuracy: 0.7424 - lr: 0.0010 - 10s/epoch - 55ms/step
Epoch 71/100
176/176 - 10s - loss: 0.0802 - accuracy: 0.9744 - val_loss: 1.6899 - val_accuracy: 0.7395 - lr: 0.0010 - 10s/epoch - 55ms/step
Epoch 72/100
176/176 - 10s - loss: 0.0795 - accuracy: 0.9741 - val_loss: 1.7029 - val_accuracy: 0.7364 - lr: 0.0010 - 10s/epoch - 56ms/step
Epoch 73/100
176/176 - 10s - loss: 0.0788 - accuracy: 0.9745 - val_loss: 1.5833 - val_accuracy: 0.7489 - lr: 0.0010 - 10s/epoch - 57ms/step
Epoch 74/100
176/176 - 10s - loss: 0.0770 - accuracy: 0.9753 - val_loss: 1.6197 - val_accuracy: 0.7476 - lr: 0.0010 - 10s/epoch - 56ms/step
Epoch 75/100
176/176 - 10s - loss: 0.0761 - accuracy: 0.9755 - val_loss: 1.7009 - val_accuracy: 0.7355 - lr: 0.0010 - 10s/epoch - 56ms/step
Epoch 76/100
176/176 - 10s - loss: 0.0799 - accuracy: 0.9744 - val_loss: 1.5774 - val_accuracy: 0.7482 - lr: 0.0010 - 10s/epoch - 56ms/step
Epoch 77/100
176/176 - 10s - loss: 0.0763 - accuracy: 0.9749 - val_loss: 1.6629 - val_accuracy: 0.7449 - lr: 0.0010 - 10s/epoch - 55ms/step
Epoch 78/100
176/176 - 10s - loss: 0.0807 - accuracy: 0.9742 - val_loss: 1.6122 - val_accuracy: 0.7445 - lr: 0.0010 - 10s/epoch - 56ms/step
Epoch 79/100
176/176 - 10s - loss: 0.0794 - accuracy: 0.9749 - val_loss: 1.5802 - val_accuracy: 0.7484 - lr: 0.0010 - 10s/epoch - 56ms/step
Epoch 80/100
176/176 - 10s - loss: 0.0763 - accuracy: 0.9752 - val_loss: 1.5714 - val_accuracy: 0.7570 - lr: 0.0010 - 10s/epoch - 56ms/step
Epoch 81/100
176/176 - 10s - loss: 0.0813 - accuracy: 0.9732 - val_loss: 1.6131 - val_accuracy: 0.7507 - lr: 0.0010 - 10s/epoch - 56ms/step
Epoch 82/100
176/176 - 10s - loss: 0.0823 - accuracy: 0.9732 - val_loss: 1.6786 - val_accuracy: 0.7389 - lr: 0.0010 - 10s/epoch - 56ms/step
Epoch 83/100
176/176 - 10s - loss: 0.0824 - accuracy: 0.9733 - val_loss: 1.6239 - val_accuracy: 0.7475 - lr: 0.0010 - 10s/epoch - 57ms/step
Epoch 84/100
176/176 - 10s - loss: 0.0781 - accuracy: 0.9744 - val_loss: 1.5662 - val_accuracy: 0.7528 - lr: 0.0010 - 10s/epoch - 56ms/step
Epoch 85/100
176/176 - 10s - loss: 0.0767 - accuracy: 0.9756 - val_loss: 1.6477 - val_accuracy: 0.7433 - lr: 0.0010 - 10s/epoch - 55ms/step
Epoch 86/100
176/176 - 10s - loss: 0.0755 - accuracy: 0.9759 - val_loss: 1.5794 - val_accuracy: 0.7548 - lr: 0.0010 - 10s/epoch - 56ms/step
Epoch 87/100
176/176 - 10s - loss: 0.0790 - accuracy: 0.9741 - val_loss: 1.6596 - val_accuracy: 0.7479 - lr: 0.0010 - 10s/epoch - 56ms/step
Epoch 88/100
176/176 - 10s - loss: 0.0759 - accuracy: 0.9757 - val_loss: 1.6315 - val_accuracy: 0.7490 - lr: 0.0010 - 10s/epoch - 56ms/step
Epoch 89/100
176/176 - 11s - loss: 0.0732 - accuracy: 0.9766 - val_loss: 1.6407 - val_accuracy: 0.7500 - lr: 0.0010 - 11s/epoch - 61ms/step
Epoch 90/100
176/176 - 10s - loss: 0.0772 - accuracy: 0.9750 - val_loss: 1.7049 - val_accuracy: 0.7355 - lr: 0.0010 - 10s/epoch - 60ms/step
Epoch 91/100
176/176 - 10s - loss: 0.0792 - accuracy: 0.9742 - val_loss: 1.6478 - val_accuracy: 0.7467 - lr: 0.0010 - 10s/epoch - 60ms/step
Epoch 92/100
176/176 - 10s - loss: 0.0810 - accuracy: 0.9741 - val_loss: 1.5492 - val_accuracy: 0.7545 - lr: 0.0010 - 10s/epoch - 56ms/step
Epoch 93/100
176/176 - 10s - loss: 0.0771 - accuracy: 0.9753 - val_loss: 1.6292 - val_accuracy: 0.7430 - lr: 0.0010 - 10s/epoch - 56ms/step
Epoch 94/100
176/176 - 10s - loss: 0.0734 - accuracy: 0.9763 - val_loss: 1.6331 - val_accuracy: 0.7493 - lr: 0.0010 - 10s/epoch - 56ms/step
Epoch 95/100
176/176 - 10s - loss: 0.0768 - accuracy: 0.9751 - val_loss: 1.6286 - val_accuracy: 0.7447 - lr: 0.0010 - 10s/epoch - 56ms/step
Epoch 96/100
176/176 - 10s - loss: 0.0804 - accuracy: 0.9743 - val_loss: 1.5960 - val_accuracy: 0.7538 - lr: 0.0010 - 10s/epoch - 56ms/step
Epoch 97/100
176/176 - 10s - loss: 0.0816 - accuracy: 0.9739 - val_loss: 1.6275 - val_accuracy: 0.7481 - lr: 0.0010 - 10s/epoch - 56ms/step
Epoch 98/100
176/176 - 10s - loss: 0.0751 - accuracy: 0.9755 - val_loss: 1.6047 - val_accuracy: 0.7491 - lr: 0.0010 - 10s/epoch - 56ms/step
Epoch 99/100
176/176 - 10s - loss: 0.0773 - accuracy: 0.9752 - val_loss: 1.5409 - val_accuracy: 0.7590 - lr: 0.0010 - 10s/epoch - 55ms/step
Epoch 100/100
176/176 - 10s - loss: 0.0766 - accuracy: 0.9751 - val_loss: 1.6092 - val_accuracy: 0.7472 - lr: 0.0010 - 10s/epoch - 56ms/step
Epoch 1/100
36/36 - 13s - loss: 0.0711 - accuracy: 0.9773 - val_loss: 1.6419 - val_accuracy: 0.7474 - lr: 0.0010 - 13s/epoch - 359ms/step
Epoch 2/100
36/36 - 9s - loss: 0.0655 - accuracy: 0.9790 - val_loss: 1.6575 - val_accuracy: 0.7474 - lr: 0.0010 - 9s/epoch - 244ms/step
Epoch 3/100
36/36 - 9s - loss: 0.0626 - accuracy: 0.9802 - val_loss: 1.7423 - val_accuracy: 0.7402 - lr: 0.0010 - 9s/epoch - 244ms/step
Epoch 4/100
36/36 - 9s - loss: 0.0615 - accuracy: 0.9804 - val_loss: 1.6732 - val_accuracy: 0.7489 - lr: 0.0010 - 9s/epoch - 246ms/step
Epoch 5/100
36/36 - 9s - loss: 0.0653 - accuracy: 0.9790 - val_loss: 1.6907 - val_accuracy: 0.7440 - lr: 0.0010 - 9s/epoch - 244ms/step
Epoch 6/100
36/36 - 9s - loss: 0.0642 - accuracy: 0.9800 - val_loss: 1.6968 - val_accuracy: 0.7463 - lr: 0.0010 - 9s/epoch - 241ms/step
Epoch 7/100
36/36 - 9s - loss: 0.0613 - accuracy: 0.9805 - val_loss: 1.6859 - val_accuracy: 0.7489 - lr: 0.0010 - 9s/epoch - 247ms/step
Epoch 8/100
36/36 - 9s - loss: 0.0607 - accuracy: 0.9811 - val_loss: 1.7473 - val_accuracy: 0.7401 - lr: 0.0010 - 9s/epoch - 247ms/step
Epoch 9/100
36/36 - 9s - loss: 0.0607 - accuracy: 0.9809 - val_loss: 1.7124 - val_accuracy: 0.7470 - lr: 0.0010 - 9s/epoch - 246ms/step
Epoch 10/100
36/36 - 9s - loss: 0.0616 - accuracy: 0.9802 - val_loss: 1.7215 - val_accuracy: 0.7468 - lr: 0.0010 - 9s/epoch - 247ms/step
Epoch 11/100
36/36 - 9s - loss: 0.0686 - accuracy: 0.9782 - val_loss: 1.7379 - val_accuracy: 0.7426 - lr: 0.0010 - 9s/epoch - 246ms/step
Epoch 12/100
36/36 - 9s - loss: 0.0582 - accuracy: 0.9811 - val_loss: 1.7537 - val_accuracy: 0.7447 - lr: 0.0010 - 9s/epoch - 261ms/step
Epoch 13/100
36/36 - 9s - loss: 0.0586 - accuracy: 0.9810 - val_loss: 1.7404 - val_accuracy: 0.7464 - lr: 0.0010 - 9s/epoch - 242ms/step
Epoch 14/100
36/36 - 9s - loss: 0.0589 - accuracy: 0.9814 - val_loss: 1.8008 - val_accuracy: 0.7411 - lr: 0.0010 - 9s/epoch - 244ms/step
Epoch 15/100
36/36 - 9s - loss: 0.0583 - accuracy: 0.9814 - val_loss: 1.7751 - val_accuracy: 0.7343 - lr: 0.0010 - 9s/epoch - 246ms/step
Epoch 16/100
36/36 - 9s - loss: 0.0592 - accuracy: 0.9812 - val_loss: 1.7836 - val_accuracy: 0.7348 - lr: 0.0010 - 9s/epoch - 245ms/step
Epoch 17/100
36/36 - 9s - loss: 0.0587 - accuracy: 0.9815 - val_loss: 1.7839 - val_accuracy: 0.7338 - lr: 0.0010 - 9s/epoch - 246ms/step
Epoch 18/100
36/36 - 9s - loss: 0.0579 - accuracy: 0.9820 - val_loss: 1.7895 - val_accuracy: 0.7339 - lr: 0.0010 - 9s/epoch - 244ms/step
Epoch 19/100
36/36 - 9s - loss: 0.0592 - accuracy: 0.9821 - val_loss: 1.7649 - val_accuracy: 0.7347 - lr: 0.0010 - 9s/epoch - 244ms/step
Epoch 20/100
36/36 - 9s - loss: 0.0574 - accuracy: 0.9817 - val_loss: 1.7997 - val_accuracy: 0.7344 - lr: 0.0010 - 9s/epoch - 243ms/step
Epoch 21/100
36/36 - 9s - loss: 0.0578 - accuracy: 0.9817 - val_loss: 1.8572 - val_accuracy: 0.7279 - lr: 0.0010 - 9s/epoch - 241ms/step
Epoch 22/100
36/36 - 9s - loss: 0.0605 - accuracy: 0.9816 - val_loss: 1.8126 - val_accuracy: 0.7323 - lr: 0.0010 - 9s/epoch - 247ms/step
Epoch 23/100
36/36 - 10s - loss: 0.0586 - accuracy: 0.9818 - val_loss: 1.8178 - val_accuracy: 0.7316 - lr: 0.0010 - 10s/epoch - 265ms/step
Epoch 24/100
36/36 - 9s - loss: 0.0580 - accuracy: 0.9819 - val_loss: 1.8060 - val_accuracy: 0.7334 - lr: 0.0010 - 9s/epoch - 263ms/step
Epoch 25/100
36/36 - 10s - loss: 0.0587 - accuracy: 0.9818 - val_loss: 1.8263 - val_accuracy: 0.7323 - lr: 0.0010 - 10s/epoch - 264ms/step
Epoch 26/100
36/36 - 9s - loss: 0.0568 - accuracy: 0.9825 - val_loss: 1.8122 - val_accuracy: 0.7347 - lr: 0.0010 - 9s/epoch - 263ms/step
Epoch 27/100
36/36 - 9s - loss: 0.0595 - accuracy: 0.9814 - val_loss: 1.8529 - val_accuracy: 0.7275 - lr: 0.0010 - 9s/epoch - 257ms/step
Epoch 28/100
36/36 - 9s - loss: 0.0564 - accuracy: 0.9820 - val_loss: 1.8397 - val_accuracy: 0.7324 - lr: 0.0010 - 9s/epoch - 241ms/step
Epoch 29/100
36/36 - 9s - loss: 0.0575 - accuracy: 0.9823 - val_loss: 1.8255 - val_accuracy: 0.7345 - lr: 0.0010 - 9s/epoch - 245ms/step
Epoch 30/100
36/36 - 9s - loss: 0.0561 - accuracy: 0.9825 - val_loss: 1.9170 - val_accuracy: 0.7240 - lr: 0.0010 - 9s/epoch - 247ms/step
Epoch 31/100
36/36 - 9s - loss: 0.0594 - accuracy: 0.9815 - val_loss: 1.8461 - val_accuracy: 0.7311 - lr: 0.0010 - 9s/epoch - 247ms/step
Epoch 32/100
36/36 - 9s - loss: 0.0618 - accuracy: 0.9811 - val_loss: 1.8173 - val_accuracy: 0.7366 - lr: 0.0010 - 9s/epoch - 248ms/step
Epoch 33/100
36/36 - 9s - loss: 0.0560 - accuracy: 0.9824 - val_loss: 1.8555 - val_accuracy: 0.7338 - lr: 0.0010 - 9s/epoch - 263ms/step
Epoch 34/100
36/36 - 10s - loss: 0.0578 - accuracy: 0.9820 - val_loss: 1.8314 - val_accuracy: 0.7317 - lr: 0.0010 - 10s/epoch - 264ms/step
Epoch 35/100
36/36 - 9s - loss: 0.0575 - accuracy: 0.9819 - val_loss: 1.8472 - val_accuracy: 0.7349 - lr: 0.0010 - 9s/epoch - 244ms/step
Epoch 36/100
36/36 - 9s - loss: 0.0575 - accuracy: 0.9819 - val_loss: 1.8233 - val_accuracy: 0.7370 - lr: 0.0010 - 9s/epoch - 244ms/step
Epoch 37/100
36/36 - 9s - loss: 0.0567 - accuracy: 0.9823 - val_loss: 1.8755 - val_accuracy: 0.7322 - lr: 0.0010 - 9s/epoch - 248ms/step
Epoch 38/100
36/36 - 9s - loss: 0.0576 - accuracy: 0.9820 - val_loss: 1.8723 - val_accuracy: 0.7308 - lr: 0.0010 - 9s/epoch - 248ms/step
Epoch 39/100
36/36 - 9s - loss: 0.0571 - accuracy: 0.9822 - val_loss: 1.8921 - val_accuracy: 0.7294 - lr: 0.0010 - 9s/epoch - 247ms/step
Epoch 40/100
36/36 - 9s - loss: 0.0581 - accuracy: 0.9820 - val_loss: 1.8445 - val_accuracy: 0.7342 - lr: 0.0010 - 9s/epoch - 247ms/step
Epoch 41/100
36/36 - 9s - loss: 0.0583 - accuracy: 0.9818 - val_loss: 1.8538 - val_accuracy: 0.7330 - lr: 0.0010 - 9s/epoch - 248ms/step
Epoch 42/100
36/36 - 9s - loss: 0.0558 - accuracy: 0.9825 - val_loss: 1.8400 - val_accuracy: 0.7380 - lr: 0.0010 - 9s/epoch - 244ms/step
Epoch 43/100
36/36 - 9s - loss: 0.0574 - accuracy: 0.9823 - val_loss: 1.8878 - val_accuracy: 0.7279 - lr: 0.0010 - 9s/epoch - 241ms/step
Epoch 44/100
36/36 - 9s - loss: 0.0564 - accuracy: 0.9824 - val_loss: 1.8721 - val_accuracy: 0.7325 - lr: 0.0010 - 9s/epoch - 245ms/step
Epoch 45/100
36/36 - 9s - loss: 0.0585 - accuracy: 0.9817 - val_loss: 1.8557 - val_accuracy: 0.7361 - lr: 0.0010 - 9s/epoch - 247ms/step
Epoch 46/100
36/36 - 9s - loss: 0.0597 - accuracy: 0.9815 - val_loss: 1.9048 - val_accuracy: 0.7283 - lr: 0.0010 - 9s/epoch - 248ms/step
Epoch 47/100
36/36 - 9s - loss: 0.0600 - accuracy: 0.9813 - val_loss: 1.8968 - val_accuracy: 0.7314 - lr: 0.0010 - 9s/epoch - 246ms/step
Epoch 48/100
36/36 - 9s - loss: 0.0558 - accuracy: 0.9823 - val_loss: 1.9346 - val_accuracy: 0.7248 - lr: 0.0010 - 9s/epoch - 247ms/step
Epoch 49/100
36/36 - 9s - loss: 0.0640 - accuracy: 0.9804 - val_loss: 1.8775 - val_accuracy: 0.7290 - lr: 0.0010 - 9s/epoch - 246ms/step
Epoch 50/100
36/36 - 9s - loss: 0.0596 - accuracy: 0.9814 - val_loss: 1.8342 - val_accuracy: 0.7370 - lr: 0.0010 - 9s/epoch - 243ms/step
Epoch 51/100
36/36 - 9s - loss: 0.0560 - accuracy: 0.9824 - val_loss: 1.8305 - val_accuracy: 0.7372 - lr: 0.0010 - 9s/epoch - 243ms/step
Epoch 52/100
36/36 - 9s - loss: 0.0549 - accuracy: 0.9829 - val_loss: 1.8728 - val_accuracy: 0.7351 - lr: 0.0010 - 9s/epoch - 245ms/step
Epoch 53/100
36/36 - 9s - loss: 0.0560 - accuracy: 0.9827 - val_loss: 1.8457 - val_accuracy: 0.7376 - lr: 0.0010 - 9s/epoch - 245ms/step
Epoch 54/100
36/36 - 9s - loss: 0.0550 - accuracy: 0.9826 - val_loss: 1.8864 - val_accuracy: 0.7314 - lr: 0.0010 - 9s/epoch - 243ms/step
Epoch 55/100
36/36 - 9s - loss: 0.0560 - accuracy: 0.9826 - val_loss: 1.8920 - val_accuracy: 0.7315 - lr: 0.0010 - 9s/epoch - 244ms/step
Epoch 56/100
36/36 - 9s - loss: 0.0550 - accuracy: 0.9827 - val_loss: 1.9128 - val_accuracy: 0.7311 - lr: 0.0010 - 9s/epoch - 244ms/step
Epoch 57/100
36/36 - 9s - loss: 0.0566 - accuracy: 0.9828 - val_loss: 1.8686 - val_accuracy: 0.7357 - lr: 0.0010 - 9s/epoch - 244ms/step
Epoch 58/100
36/36 - 9s - loss: 0.0563 - accuracy: 0.9827 - val_loss: 1.8931 - val_accuracy: 0.7341 - lr: 0.0010 - 9s/epoch - 241ms/step
Epoch 59/100
36/36 - 9s - loss: 0.0605 - accuracy: 0.9811 - val_loss: 1.9041 - val_accuracy: 0.7277 - lr: 0.0010 - 9s/epoch - 244ms/step
Epoch 60/100
36/36 - 9s - loss: 0.0569 - accuracy: 0.9814 - val_loss: 1.8669 - val_accuracy: 0.7338 - lr: 0.0010 - 9s/epoch - 245ms/step
Epoch 61/100
36/36 - 9s - loss: 0.0577 - accuracy: 0.9824 - val_loss: 1.9057 - val_accuracy: 0.7309 - lr: 0.0010 - 9s/epoch - 248ms/step
Epoch 62/100
36/36 - 9s - loss: 0.0554 - accuracy: 0.9831 - val_loss: 1.8667 - val_accuracy: 0.7338 - lr: 0.0010 - 9s/epoch - 246ms/step
Epoch 63/100
36/36 - 9s - loss: 0.0572 - accuracy: 0.9822 - val_loss: 1.9341 - val_accuracy: 0.7279 - lr: 0.0010 - 9s/epoch - 246ms/step
Epoch 64/100
36/36 - 9s - loss: 0.0563 - accuracy: 0.9826 - val_loss: 1.8584 - val_accuracy: 0.7393 - lr: 0.0010 - 9s/epoch - 245ms/step
Epoch 65/100
36/36 - 9s - loss: 0.0556 - accuracy: 0.9832 - val_loss: 1.9103 - val_accuracy: 0.7320 - lr: 0.0010 - 9s/epoch - 243ms/step
Epoch 66/100
36/36 - 9s - loss: 0.0550 - accuracy: 0.9828 - val_loss: 1.8642 - val_accuracy: 0.7389 - lr: 0.0010 - 9s/epoch - 242ms/step
Epoch 67/100
36/36 - 9s - loss: 0.0596 - accuracy: 0.9809 - val_loss: 1.8612 - val_accuracy: 0.7368 - lr: 0.0010 - 9s/epoch - 245ms/step
Epoch 68/100
36/36 - 9s - loss: 0.0574 - accuracy: 0.9821 - val_loss: 1.9124 - val_accuracy: 0.7321 - lr: 0.0010 - 9s/epoch - 244ms/step
Epoch 69/100
36/36 - 9s - loss: 0.0574 - accuracy: 0.9823 - val_loss: 1.8993 - val_accuracy: 0.7319 - lr: 0.0010 - 9s/epoch - 244ms/step
Epoch 70/100
36/36 - 9s - loss: 0.0561 - accuracy: 0.9827 - val_loss: 1.9244 - val_accuracy: 0.7291 - lr: 0.0010 - 9s/epoch - 245ms/step
Epoch 71/100
36/36 - 9s - loss: 0.0562 - accuracy: 0.9822 - val_loss: 1.9154 - val_accuracy: 0.7315 - lr: 0.0010 - 9s/epoch - 244ms/step
Epoch 72/100
36/36 - 9s - loss: 0.0534 - accuracy: 0.9833 - val_loss: 1.9281 - val_accuracy: 0.7313 - lr: 0.0010 - 9s/epoch - 244ms/step
Epoch 73/100
36/36 - 9s - loss: 0.0533 - accuracy: 0.9832 - val_loss: 1.9646 - val_accuracy: 0.7271 - lr: 0.0010 - 9s/epoch - 240ms/step
Epoch 74/100
36/36 - 9s - loss: 0.0538 - accuracy: 0.9833 - val_loss: 1.9369 - val_accuracy: 0.7304 - lr: 0.0010 - 9s/epoch - 243ms/step
Epoch 75/100
36/36 - 9s - loss: 0.0556 - accuracy: 0.9827 - val_loss: 1.9323 - val_accuracy: 0.7312 - lr: 0.0010 - 9s/epoch - 247ms/step
Epoch 76/100
36/36 - 9s - loss: 0.0569 - accuracy: 0.9823 - val_loss: 1.9173 - val_accuracy: 0.7317 - lr: 0.0010 - 9s/epoch - 245ms/step
Epoch 77/100
36/36 - 9s - loss: 0.0561 - accuracy: 0.9825 - val_loss: 1.9097 - val_accuracy: 0.7320 - lr: 0.0010 - 9s/epoch - 247ms/step
Epoch 78/100
36/36 - 9s - loss: 0.0577 - accuracy: 0.9825 - val_loss: 1.9202 - val_accuracy: 0.7305 - lr: 0.0010 - 9s/epoch - 246ms/step
Epoch 79/100
36/36 - 9s - loss: 0.0549 - accuracy: 0.9829 - val_loss: 1.9234 - val_accuracy: 0.7299 - lr: 0.0010 - 9s/epoch - 245ms/step
Epoch 80/100
36/36 - 9s - loss: 0.0538 - accuracy: 0.9830 - val_loss: 1.9904 - val_accuracy: 0.7232 - lr: 0.0010 - 9s/epoch - 243ms/step
Epoch 81/100
36/36 - 9s - loss: 0.0563 - accuracy: 0.9826 - val_loss: 1.9400 - val_accuracy: 0.7273 - lr: 0.0010 - 9s/epoch - 241ms/step
Epoch 82/100
36/36 - 9s - loss: 0.0595 - accuracy: 0.9814 - val_loss: 1.9040 - val_accuracy: 0.7320 - lr: 0.0010 - 9s/epoch - 243ms/step
Epoch 83/100
36/36 - 9s - loss: 0.0554 - accuracy: 0.9825 - val_loss: 1.9142 - val_accuracy: 0.7311 - lr: 0.0010 - 9s/epoch - 244ms/step
Epoch 84/100
36/36 - 9s - loss: 0.0572 - accuracy: 0.9824 - val_loss: 1.8957 - val_accuracy: 0.7340 - lr: 0.0010 - 9s/epoch - 245ms/step
Epoch 85/100
36/36 - 9s - loss: 0.0546 - accuracy: 0.9829 - val_loss: 1.9508 - val_accuracy: 0.7281 - lr: 0.0010 - 9s/epoch - 245ms/step
Epoch 86/100
36/36 - 9s - loss: 0.0553 - accuracy: 0.9825 - val_loss: 1.9163 - val_accuracy: 0.7303 - lr: 0.0010 - 9s/epoch - 244ms/step
Epoch 87/100
36/36 - 9s - loss: 0.0605 - accuracy: 0.9811 - val_loss: 1.9394 - val_accuracy: 0.7295 - lr: 0.0010 - 9s/epoch - 245ms/step
Epoch 88/100
36/36 - 9s - loss: 0.0561 - accuracy: 0.9824 - val_loss: 1.8866 - val_accuracy: 0.7360 - lr: 0.0010 - 9s/epoch - 242ms/step
Epoch 89/100
36/36 - 9s - loss: 0.0558 - accuracy: 0.9820 - val_loss: 1.9669 - val_accuracy: 0.7309 - lr: 0.0010 - 9s/epoch - 243ms/step
Epoch 90/100
36/36 - 9s - loss: 0.0569 - accuracy: 0.9826 - val_loss: 1.9826 - val_accuracy: 0.7257 - lr: 0.0010 - 9s/epoch - 247ms/step
Epoch 91/100
36/36 - 9s - loss: 0.0547 - accuracy: 0.9828 - val_loss: 1.9673 - val_accuracy: 0.7292 - lr: 0.0010 - 9s/epoch - 244ms/step
Epoch 92/100
36/36 - 9s - loss: 0.0538 - accuracy: 0.9835 - val_loss: 1.9562 - val_accuracy: 0.7286 - lr: 0.0010 - 9s/epoch - 244ms/step
Epoch 93/100
36/36 - 9s - loss: 0.0526 - accuracy: 0.9837 - val_loss: 1.9711 - val_accuracy: 0.7277 - lr: 0.0010 - 9s/epoch - 242ms/step
Epoch 94/100
36/36 - 9s - loss: 0.0559 - accuracy: 0.9831 - val_loss: 1.9258 - val_accuracy: 0.7311 - lr: 0.0010 - 9s/epoch - 245ms/step
Epoch 95/100
36/36 - 9s - loss: 0.0534 - accuracy: 0.9832 - val_loss: 1.9899 - val_accuracy: 0.7249 - lr: 0.0010 - 9s/epoch - 243ms/step
Epoch 96/100
36/36 - 9s - loss: 0.0554 - accuracy: 0.9830 - val_loss: 1.9657 - val_accuracy: 0.7277 - lr: 0.0010 - 9s/epoch - 241ms/step
Epoch 97/100
36/36 - 9s - loss: 0.0560 - accuracy: 0.9825 - val_loss: 1.9859 - val_accuracy: 0.7259 - lr: 0.0010 - 9s/epoch - 245ms/step
Epoch 98/100
36/36 - 9s - loss: 0.0534 - accuracy: 0.9829 - val_loss: 1.9744 - val_accuracy: 0.7271 - lr: 0.0010 - 9s/epoch - 247ms/step
Epoch 99/100
36/36 - 9s - loss: 0.0534 - accuracy: 0.9832 - val_loss: 1.9856 - val_accuracy: 0.7290 - lr: 0.0010 - 9s/epoch - 247ms/step
Epoch 100/100
36/36 - 9s - loss: 0.0549 - accuracy: 0.9827 - val_loss: 1.9589 - val_accuracy: 0.7294 - lr: 0.0010 - 9s/epoch - 247ms/step
