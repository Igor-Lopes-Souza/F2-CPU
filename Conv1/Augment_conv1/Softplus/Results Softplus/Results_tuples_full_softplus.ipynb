Epoch 1/25
4378/4378 - 86s - loss: 1.1676 - accuracy: 0.5146 - val_loss: 0.9254 - val_accuracy: 0.6325 - lr: 0.0010 - 86s/epoch - 20ms/step
Epoch 2/25
4378/4378 - 70s - loss: 0.9389 - accuracy: 0.6364 - val_loss: 0.9601 - val_accuracy: 0.5943 - lr: 0.0010 - 70s/epoch - 16ms/step
Epoch 3/25
4378/4378 - 70s - loss: 0.8903 - accuracy: 0.6614 - val_loss: 0.9056 - val_accuracy: 0.6299 - lr: 0.0010 - 70s/epoch - 16ms/step
Epoch 4/25
4378/4378 - 70s - loss: 0.8604 - accuracy: 0.6720 - val_loss: 0.9099 - val_accuracy: 0.6610 - lr: 0.0010 - 70s/epoch - 16ms/step
Epoch 5/25
4378/4378 - 70s - loss: 0.8390 - accuracy: 0.6810 - val_loss: 0.8720 - val_accuracy: 0.6549 - lr: 0.0010 - 70s/epoch - 16ms/step
Epoch 6/25
4378/4378 - 70s - loss: 0.8233 - accuracy: 0.6877 - val_loss: 0.9621 - val_accuracy: 0.6178 - lr: 0.0010 - 70s/epoch - 16ms/step
Epoch 7/25
4378/4378 - 70s - loss: 0.8099 - accuracy: 0.6932 - val_loss: 0.7781 - val_accuracy: 0.7184 - lr: 0.0010 - 70s/epoch - 16ms/step
Epoch 8/25
4378/4378 - 70s - loss: 0.8002 - accuracy: 0.6954 - val_loss: 0.7645 - val_accuracy: 0.7266 - lr: 0.0010 - 70s/epoch - 16ms/step
Epoch 9/25
4378/4378 - 71s - loss: 0.7906 - accuracy: 0.7003 - val_loss: 0.8106 - val_accuracy: 0.7091 - lr: 0.0010 - 71s/epoch - 16ms/step
Epoch 10/25
4378/4378 - 70s - loss: 0.7818 - accuracy: 0.7042 - val_loss: 0.7890 - val_accuracy: 0.7149 - lr: 0.0010 - 70s/epoch - 16ms/step
Epoch 11/25
4378/4378 - 70s - loss: 0.7758 - accuracy: 0.7060 - val_loss: 0.8231 - val_accuracy: 0.7039 - lr: 0.0010 - 70s/epoch - 16ms/step
Epoch 12/25
4378/4378 - 70s - loss: 0.7696 - accuracy: 0.7090 - val_loss: 0.7992 - val_accuracy: 0.7110 - lr: 0.0010 - 70s/epoch - 16ms/step
Epoch 13/25
4378/4378 - 70s - loss: 0.7627 - accuracy: 0.7121 - val_loss: 0.7718 - val_accuracy: 0.7294 - lr: 0.0010 - 70s/epoch - 16ms/step
Epoch 14/25
4378/4378 - 70s - loss: 0.7561 - accuracy: 0.7151 - val_loss: 0.8075 - val_accuracy: 0.7144 - lr: 0.0010 - 70s/epoch - 16ms/step
Epoch 15/25
4378/4378 - 70s - loss: 0.7532 - accuracy: 0.7165 - val_loss: 0.7291 - val_accuracy: 0.7537 - lr: 0.0010 - 70s/epoch - 16ms/step
Epoch 16/25
4378/4378 - 69s - loss: 0.7476 - accuracy: 0.7183 - val_loss: 0.7154 - val_accuracy: 0.7357 - lr: 0.0010 - 69s/epoch - 16ms/step
Epoch 17/25
4378/4378 - 70s - loss: 0.7432 - accuracy: 0.7203 - val_loss: 0.7802 - val_accuracy: 0.7150 - lr: 0.0010 - 70s/epoch - 16ms/step
Epoch 18/25
4378/4378 - 70s - loss: 0.7363 - accuracy: 0.7221 - val_loss: 0.6752 - val_accuracy: 0.7687 - lr: 0.0010 - 70s/epoch - 16ms/step
Epoch 19/25
4378/4378 - 70s - loss: 0.7326 - accuracy: 0.7237 - val_loss: 0.7724 - val_accuracy: 0.7430 - lr: 0.0010 - 70s/epoch - 16ms/step
Epoch 20/25
4378/4378 - 69s - loss: 0.7272 - accuracy: 0.7252 - val_loss: 0.6939 - val_accuracy: 0.7701 - lr: 0.0010 - 69s/epoch - 16ms/step
Epoch 21/25
4378/4378 - 70s - loss: 0.7251 - accuracy: 0.7265 - val_loss: 0.6791 - val_accuracy: 0.7830 - lr: 0.0010 - 70s/epoch - 16ms/step
Epoch 22/25
4378/4378 - 70s - loss: 0.7195 - accuracy: 0.7283 - val_loss: 0.6928 - val_accuracy: 0.7737 - lr: 0.0010 - 70s/epoch - 16ms/step
Epoch 23/25
4378/4378 - 69s - loss: 0.7162 - accuracy: 0.7287 - val_loss: 0.6525 - val_accuracy: 0.7709 - lr: 0.0010 - 69s/epoch - 16ms/step
Epoch 24/25
4378/4378 - 70s - loss: 0.7129 - accuracy: 0.7309 - val_loss: 0.7178 - val_accuracy: 0.7416 - lr: 0.0010 - 70s/epoch - 16ms/step
Epoch 25/25
4378/4378 - 70s - loss: 0.7075 - accuracy: 0.7330 - val_loss: 0.7310 - val_accuracy: 0.7581 - lr: 0.0010 - 70s/epoch - 16ms/step
Epoch 1/25
876/876 - 22s - loss: 0.6792 - accuracy: 0.7446 - val_loss: 0.6938 - val_accuracy: 0.7571 - lr: 0.0010 - 22s/epoch - 25ms/step
Epoch 2/25
876/876 - 19s - loss: 0.6800 - accuracy: 0.7438 - val_loss: 0.6608 - val_accuracy: 0.7794 - lr: 0.0010 - 19s/epoch - 21ms/step
Epoch 3/25
876/876 - 19s - loss: 0.6774 - accuracy: 0.7440 - val_loss: 0.6817 - val_accuracy: 0.7662 - lr: 0.0010 - 19s/epoch - 21ms/step
Epoch 4/25
876/876 - 19s - loss: 0.6744 - accuracy: 0.7447 - val_loss: 0.7017 - val_accuracy: 0.7653 - lr: 0.0010 - 19s/epoch - 21ms/step
Epoch 5/25
876/876 - 19s - loss: 0.6700 - accuracy: 0.7466 - val_loss: 0.7137 - val_accuracy: 0.7520 - lr: 0.0010 - 19s/epoch - 21ms/step
Epoch 6/25
876/876 - 19s - loss: 0.6678 - accuracy: 0.7487 - val_loss: 0.7147 - val_accuracy: 0.7551 - lr: 0.0010 - 19s/epoch - 21ms/step
Epoch 7/25
876/876 - 19s - loss: 0.6639 - accuracy: 0.7491 - val_loss: 0.7158 - val_accuracy: 0.7516 - lr: 0.0010 - 19s/epoch - 21ms/step
Epoch 8/25
876/876 - 19s - loss: 0.6603 - accuracy: 0.7514 - val_loss: 0.7046 - val_accuracy: 0.7610 - lr: 0.0010 - 19s/epoch - 21ms/step
Epoch 9/25
876/876 - 19s - loss: 0.6570 - accuracy: 0.7520 - val_loss: 0.7264 - val_accuracy: 0.7525 - lr: 0.0010 - 19s/epoch - 21ms/step
Epoch 10/25
876/876 - 19s - loss: 0.6533 - accuracy: 0.7530 - val_loss: 0.6683 - val_accuracy: 0.7773 - lr: 0.0010 - 19s/epoch - 21ms/step
Epoch 11/25
876/876 - 19s - loss: 0.6524 - accuracy: 0.7548 - val_loss: 0.7103 - val_accuracy: 0.7515 - lr: 0.0010 - 19s/epoch - 21ms/step
Epoch 12/25
876/876 - 19s - loss: 0.6475 - accuracy: 0.7563 - val_loss: 0.6950 - val_accuracy: 0.7595 - lr: 0.0010 - 19s/epoch - 21ms/step
Epoch 13/25
876/876 - 19s - loss: 0.6434 - accuracy: 0.7578 - val_loss: 0.7210 - val_accuracy: 0.7446 - lr: 0.0010 - 19s/epoch - 21ms/step
Epoch 14/25
876/876 - 19s - loss: 0.6397 - accuracy: 0.7579 - val_loss: 0.7175 - val_accuracy: 0.7527 - lr: 0.0010 - 19s/epoch - 21ms/step
Epoch 15/25
876/876 - 19s - loss: 0.6359 - accuracy: 0.7601 - val_loss: 0.7599 - val_accuracy: 0.7328 - lr: 0.0010 - 19s/epoch - 21ms/step
Epoch 16/25
876/876 - 19s - loss: 0.6335 - accuracy: 0.7619 - val_loss: 0.7140 - val_accuracy: 0.7616 - lr: 0.0010 - 19s/epoch - 21ms/step
Epoch 17/25
876/876 - 19s - loss: 0.6315 - accuracy: 0.7616 - val_loss: 0.6907 - val_accuracy: 0.7738 - lr: 0.0010 - 19s/epoch - 21ms/step
Epoch 18/25
876/876 - 19s - loss: 0.6263 - accuracy: 0.7642 - val_loss: 0.7129 - val_accuracy: 0.7500 - lr: 0.0010 - 19s/epoch - 21ms/step
Epoch 19/25
876/876 - 19s - loss: 0.6237 - accuracy: 0.7655 - val_loss: 0.6665 - val_accuracy: 0.7700 - lr: 0.0010 - 19s/epoch - 21ms/step
Epoch 20/25
876/876 - 19s - loss: 0.6198 - accuracy: 0.7668 - val_loss: 0.6552 - val_accuracy: 0.7829 - lr: 0.0010 - 19s/epoch - 21ms/step
Epoch 21/25
876/876 - 19s - loss: 0.6156 - accuracy: 0.7678 - val_loss: 0.6829 - val_accuracy: 0.7622 - lr: 0.0010 - 19s/epoch - 21ms/step
Epoch 22/25
876/876 - 19s - loss: 0.6127 - accuracy: 0.7686 - val_loss: 0.6925 - val_accuracy: 0.7701 - lr: 0.0010 - 19s/epoch - 21ms/step
Epoch 23/25
876/876 - 19s - loss: 0.6088 - accuracy: 0.7703 - val_loss: 0.6602 - val_accuracy: 0.7823 - lr: 0.0010 - 19s/epoch - 21ms/step
Epoch 24/25
876/876 - 19s - loss: 0.6061 - accuracy: 0.7709 - val_loss: 0.7414 - val_accuracy: 0.7515 - lr: 0.0010 - 19s/epoch - 21ms/step
Epoch 25/25
876/876 - 19s - loss: 0.6035 - accuracy: 0.7726 - val_loss: 0.6756 - val_accuracy: 0.7723 - lr: 0.0010 - 19s/epoch - 22ms/step
Epoch 1/25
176/176 - 12s - loss: 0.5714 - accuracy: 0.7849 - val_loss: 0.6701 - val_accuracy: 0.7796 - lr: 0.0010 - 12s/epoch - 68ms/step
Epoch 2/25
176/176 - 9s - loss: 0.5674 - accuracy: 0.7868 - val_loss: 0.7028 - val_accuracy: 0.7580 - lr: 0.0010 - 9s/epoch - 53ms/step
Epoch 3/25
176/176 - 9s - loss: 0.5657 - accuracy: 0.7873 - val_loss: 0.6904 - val_accuracy: 0.7639 - lr: 0.0010 - 9s/epoch - 52ms/step
Epoch 4/25
176/176 - 9s - loss: 0.5659 - accuracy: 0.7865 - val_loss: 0.6877 - val_accuracy: 0.7688 - lr: 0.0010 - 9s/epoch - 52ms/step
Epoch 5/25
176/176 - 9s - loss: 0.5659 - accuracy: 0.7872 - val_loss: 0.6745 - val_accuracy: 0.7683 - lr: 0.0010 - 9s/epoch - 52ms/step
Epoch 6/25
176/176 - 9s - loss: 0.5640 - accuracy: 0.7875 - val_loss: 0.6762 - val_accuracy: 0.7713 - lr: 0.0010 - 9s/epoch - 53ms/step
Epoch 7/25
176/176 - 9s - loss: 0.5604 - accuracy: 0.7898 - val_loss: 0.7103 - val_accuracy: 0.7538 - lr: 0.0010 - 9s/epoch - 52ms/step
Epoch 8/25
176/176 - 9s - loss: 0.5594 - accuracy: 0.7907 - val_loss: 0.6781 - val_accuracy: 0.7771 - lr: 0.0010 - 9s/epoch - 52ms/step
Epoch 9/25
176/176 - 9s - loss: 0.5597 - accuracy: 0.7900 - val_loss: 0.6568 - val_accuracy: 0.7772 - lr: 0.0010 - 9s/epoch - 52ms/step
Epoch 10/25
176/176 - 9s - loss: 0.5586 - accuracy: 0.7903 - val_loss: 0.6653 - val_accuracy: 0.7737 - lr: 0.0010 - 9s/epoch - 53ms/step
Epoch 11/25
176/176 - 9s - loss: 0.5570 - accuracy: 0.7905 - val_loss: 0.6696 - val_accuracy: 0.7753 - lr: 0.0010 - 9s/epoch - 52ms/step
Epoch 12/25
176/176 - 9s - loss: 0.5523 - accuracy: 0.7924 - val_loss: 0.6987 - val_accuracy: 0.7690 - lr: 0.0010 - 9s/epoch - 52ms/step
Epoch 13/25
176/176 - 9s - loss: 0.5524 - accuracy: 0.7921 - val_loss: 0.7245 - val_accuracy: 0.7519 - lr: 0.0010 - 9s/epoch - 52ms/step
Epoch 14/25
176/176 - 9s - loss: 0.5486 - accuracy: 0.7930 - val_loss: 0.6776 - val_accuracy: 0.7764 - lr: 0.0010 - 9s/epoch - 53ms/step
Epoch 15/25
176/176 - 9s - loss: 0.5455 - accuracy: 0.7948 - val_loss: 0.6771 - val_accuracy: 0.7684 - lr: 0.0010 - 9s/epoch - 52ms/step
Epoch 16/25
176/176 - 9s - loss: 0.5437 - accuracy: 0.7960 - val_loss: 0.6526 - val_accuracy: 0.7851 - lr: 0.0010 - 9s/epoch - 52ms/step
Epoch 17/25
176/176 - 9s - loss: 0.5441 - accuracy: 0.7955 - val_loss: 0.6697 - val_accuracy: 0.7763 - lr: 0.0010 - 9s/epoch - 53ms/step
Epoch 18/25
176/176 - 9s - loss: 0.5373 - accuracy: 0.7991 - val_loss: 0.6443 - val_accuracy: 0.7858 - lr: 0.0010 - 9s/epoch - 53ms/step
Epoch 19/25
176/176 - 9s - loss: 0.5383 - accuracy: 0.7975 - val_loss: 0.6697 - val_accuracy: 0.7701 - lr: 0.0010 - 9s/epoch - 53ms/step
Epoch 20/25
176/176 - 9s - loss: 0.5336 - accuracy: 0.8003 - val_loss: 0.7298 - val_accuracy: 0.7536 - lr: 0.0010 - 9s/epoch - 52ms/step
Epoch 21/25
176/176 - 9s - loss: 0.5334 - accuracy: 0.8000 - val_loss: 0.7034 - val_accuracy: 0.7684 - lr: 0.0010 - 9s/epoch - 53ms/step
Epoch 22/25
176/176 - 9s - loss: 0.5306 - accuracy: 0.8018 - val_loss: 0.6472 - val_accuracy: 0.7900 - lr: 0.0010 - 9s/epoch - 52ms/step
Epoch 23/25
176/176 - 9s - loss: 0.5277 - accuracy: 0.8019 - val_loss: 0.6609 - val_accuracy: 0.7817 - lr: 0.0010 - 9s/epoch - 52ms/step
Epoch 24/25
176/176 - 9s - loss: 0.5280 - accuracy: 0.8017 - val_loss: 0.7194 - val_accuracy: 0.7667 - lr: 0.0010 - 9s/epoch - 53ms/step
Epoch 25/25
176/176 - 9s - loss: 0.5263 - accuracy: 0.8026 - val_loss: 0.6628 - val_accuracy: 0.7801 - lr: 0.0010 - 9s/epoch - 52ms/step
Epoch 1/25
36/36 - 11s - loss: 0.5130 - accuracy: 0.8086 - val_loss: 0.6909 - val_accuracy: 0.7660 - lr: 0.0010 - 11s/epoch - 308ms/step
Epoch 2/25
36/36 - 8s - loss: 0.5067 - accuracy: 0.8108 - val_loss: 0.7021 - val_accuracy: 0.7613 - lr: 0.0010 - 8s/epoch - 215ms/step
Epoch 3/25
36/36 - 8s - loss: 0.5069 - accuracy: 0.8113 - val_loss: 0.7095 - val_accuracy: 0.7629 - lr: 0.0010 - 8s/epoch - 217ms/step
Epoch 4/25
36/36 - 8s - loss: 0.5052 - accuracy: 0.8117 - val_loss: 0.7016 - val_accuracy: 0.7659 - lr: 0.0010 - 8s/epoch - 217ms/step
Epoch 5/25
36/36 - 8s - loss: 0.5033 - accuracy: 0.8129 - val_loss: 0.7162 - val_accuracy: 0.7585 - lr: 0.0010 - 8s/epoch - 216ms/step
Epoch 6/25
36/36 - 8s - loss: 0.5041 - accuracy: 0.8115 - val_loss: 0.7054 - val_accuracy: 0.7636 - lr: 0.0010 - 8s/epoch - 217ms/step
Epoch 7/25
36/36 - 8s - loss: 0.5012 - accuracy: 0.8126 - val_loss: 0.7031 - val_accuracy: 0.7658 - lr: 0.0010 - 8s/epoch - 217ms/step
Epoch 8/25
36/36 - 8s - loss: 0.5018 - accuracy: 0.8135 - val_loss: 0.6911 - val_accuracy: 0.7722 - lr: 0.0010 - 8s/epoch - 217ms/step
Epoch 9/25
36/36 - 8s - loss: 0.5013 - accuracy: 0.8132 - val_loss: 0.6891 - val_accuracy: 0.7717 - lr: 0.0010 - 8s/epoch - 217ms/step
Epoch 10/25
36/36 - 8s - loss: 0.5025 - accuracy: 0.8125 - val_loss: 0.7290 - val_accuracy: 0.7556 - lr: 0.0010 - 8s/epoch - 216ms/step
Epoch 11/25
36/36 - 8s - loss: 0.4998 - accuracy: 0.8145 - val_loss: 0.6938 - val_accuracy: 0.7695 - lr: 0.0010 - 8s/epoch - 217ms/step
Epoch 12/25
36/36 - 8s - loss: 0.5029 - accuracy: 0.8129 - val_loss: 0.6855 - val_accuracy: 0.7694 - lr: 0.0010 - 8s/epoch - 217ms/step
Epoch 13/25
36/36 - 8s - loss: 0.4994 - accuracy: 0.8134 - val_loss: 0.6894 - val_accuracy: 0.7703 - lr: 0.0010 - 8s/epoch - 216ms/step
Epoch 14/25
36/36 - 8s - loss: 0.5007 - accuracy: 0.8133 - val_loss: 0.6904 - val_accuracy: 0.7674 - lr: 0.0010 - 8s/epoch - 216ms/step
Epoch 15/25
36/36 - 8s - loss: 0.5003 - accuracy: 0.8133 - val_loss: 0.6963 - val_accuracy: 0.7697 - lr: 0.0010 - 8s/epoch - 217ms/step
Epoch 16/25
36/36 - 8s - loss: 0.4976 - accuracy: 0.8143 - val_loss: 0.6965 - val_accuracy: 0.7688 - lr: 0.0010 - 8s/epoch - 217ms/step
Epoch 17/25
36/36 - 8s - loss: 0.4979 - accuracy: 0.8138 - val_loss: 0.6930 - val_accuracy: 0.7712 - lr: 0.0010 - 8s/epoch - 217ms/step
Epoch 18/25
36/36 - 8s - loss: 0.4999 - accuracy: 0.8130 - val_loss: 0.6642 - val_accuracy: 0.7831 - lr: 0.0010 - 8s/epoch - 216ms/step
Epoch 19/25
36/36 - 8s - loss: 0.4996 - accuracy: 0.8137 - val_loss: 0.6952 - val_accuracy: 0.7680 - lr: 0.0010 - 8s/epoch - 217ms/step
Epoch 20/25
36/36 - 8s - loss: 0.4977 - accuracy: 0.8144 - val_loss: 0.6936 - val_accuracy: 0.7702 - lr: 0.0010 - 8s/epoch - 217ms/step
Epoch 21/25
36/36 - 8s - loss: 0.4979 - accuracy: 0.8143 - val_loss: 0.6911 - val_accuracy: 0.7750 - lr: 0.0010 - 8s/epoch - 217ms/step
Epoch 22/25
36/36 - 8s - loss: 0.4967 - accuracy: 0.8142 - val_loss: 0.7137 - val_accuracy: 0.7634 - lr: 0.0010 - 8s/epoch - 216ms/step
Epoch 23/25
36/36 - 8s - loss: 0.4972 - accuracy: 0.8144 - val_loss: 0.7067 - val_accuracy: 0.7667 - lr: 0.0010 - 8s/epoch - 217ms/step
Epoch 24/25
36/36 - 8s - loss: 0.4946 - accuracy: 0.8145 - val_loss: 0.6929 - val_accuracy: 0.7709 - lr: 0.0010 - 8s/epoch - 217ms/step
Epoch 25/25
36/36 - 8s - loss: 0.4946 - accuracy: 0.8153 - val_loss: 0.6903 - val_accuracy: 0.7730 - lr: 0.0010 - 8s/epoch - 217ms/step
Epoch 1/50
4378/4378 - 72s - loss: 0.5935 - accuracy: 0.7766 - val_loss: 0.7107 - val_accuracy: 0.7655 - lr: 0.0010 - 72s/epoch - 16ms/step
Epoch 2/50
4378/4378 - 70s - loss: 0.5969 - accuracy: 0.7735 - val_loss: 0.7748 - val_accuracy: 0.7111 - lr: 0.0010 - 70s/epoch - 16ms/step
Epoch 3/50
4378/4378 - 69s - loss: 0.5927 - accuracy: 0.7762 - val_loss: 0.6811 - val_accuracy: 0.7875 - lr: 0.0010 - 69s/epoch - 16ms/step
Epoch 4/50
4378/4378 - 70s - loss: 0.5943 - accuracy: 0.7754 - val_loss: 0.7482 - val_accuracy: 0.7486 - lr: 0.0010 - 70s/epoch - 16ms/step
Epoch 5/50
4378/4378 - 70s - loss: 0.5917 - accuracy: 0.7769 - val_loss: 0.6884 - val_accuracy: 0.7815 - lr: 0.0010 - 70s/epoch - 16ms/step
Epoch 6/50
4378/4378 - 70s - loss: 0.5888 - accuracy: 0.7774 - val_loss: 0.6579 - val_accuracy: 0.7848 - lr: 0.0010 - 70s/epoch - 16ms/step
Epoch 7/50
4378/4378 - 70s - loss: 0.5862 - accuracy: 0.7788 - val_loss: 0.6790 - val_accuracy: 0.7580 - lr: 0.0010 - 70s/epoch - 16ms/step
Epoch 8/50
4378/4378 - 70s - loss: 0.5829 - accuracy: 0.7800 - val_loss: 0.7259 - val_accuracy: 0.7481 - lr: 0.0010 - 70s/epoch - 16ms/step
Epoch 9/50
4378/4378 - 70s - loss: 0.5801 - accuracy: 0.7814 - val_loss: 0.6832 - val_accuracy: 0.7640 - lr: 0.0010 - 70s/epoch - 16ms/step
Epoch 10/50
4378/4378 - 70s - loss: 0.5745 - accuracy: 0.7832 - val_loss: 0.7199 - val_accuracy: 0.7500 - lr: 0.0010 - 70s/epoch - 16ms/step
Epoch 11/50
4378/4378 - 71s - loss: 0.5746 - accuracy: 0.7819 - val_loss: 0.6218 - val_accuracy: 0.8010 - lr: 0.0010 - 71s/epoch - 16ms/step
Epoch 12/50
4378/4378 - 71s - loss: 0.5729 - accuracy: 0.7843 - val_loss: 0.6427 - val_accuracy: 0.7968 - lr: 0.0010 - 71s/epoch - 16ms/step
Epoch 13/50
4378/4378 - 71s - loss: 0.5683 - accuracy: 0.7859 - val_loss: 0.7654 - val_accuracy: 0.7282 - lr: 0.0010 - 71s/epoch - 16ms/step
Epoch 14/50
4378/4378 - 70s - loss: 0.5679 - accuracy: 0.7857 - val_loss: 0.6877 - val_accuracy: 0.7659 - lr: 0.0010 - 70s/epoch - 16ms/step
Epoch 15/50
4378/4378 - 71s - loss: 0.5647 - accuracy: 0.7872 - val_loss: 0.6593 - val_accuracy: 0.7836 - lr: 0.0010 - 71s/epoch - 16ms/step
Epoch 16/50
4378/4378 - 71s - loss: 0.5603 - accuracy: 0.7898 - val_loss: 0.7560 - val_accuracy: 0.7500 - lr: 0.0010 - 71s/epoch - 16ms/step
Epoch 17/50
4378/4378 - 71s - loss: 0.5565 - accuracy: 0.7902 - val_loss: 0.6409 - val_accuracy: 0.7780 - lr: 0.0010 - 71s/epoch - 16ms/step
Epoch 18/50
4378/4378 - 70s - loss: 0.5571 - accuracy: 0.7900 - val_loss: 0.7807 - val_accuracy: 0.7425 - lr: 0.0010 - 70s/epoch - 16ms/step
Epoch 19/50
4378/4378 - 70s - loss: 0.5535 - accuracy: 0.7915 - val_loss: 0.7491 - val_accuracy: 0.7426 - lr: 0.0010 - 70s/epoch - 16ms/step
Epoch 20/50
4378/4378 - 70s - loss: 0.5533 - accuracy: 0.7913 - val_loss: 0.6780 - val_accuracy: 0.7773 - lr: 0.0010 - 70s/epoch - 16ms/step
Epoch 21/50
4378/4378 - 70s - loss: 0.5473 - accuracy: 0.7941 - val_loss: 0.6728 - val_accuracy: 0.7682 - lr: 0.0010 - 70s/epoch - 16ms/step
Epoch 22/50
4378/4378 - 70s - loss: 0.5483 - accuracy: 0.7936 - val_loss: 0.7602 - val_accuracy: 0.7526 - lr: 0.0010 - 70s/epoch - 16ms/step
Epoch 23/50
4378/4378 - 70s - loss: 0.5436 - accuracy: 0.7934 - val_loss: 0.7358 - val_accuracy: 0.7486 - lr: 0.0010 - 70s/epoch - 16ms/step
Epoch 24/50
4378/4378 - 70s - loss: 0.5424 - accuracy: 0.7956 - val_loss: 0.7978 - val_accuracy: 0.7223 - lr: 0.0010 - 70s/epoch - 16ms/step
Epoch 25/50
4378/4378 - 71s - loss: 0.5408 - accuracy: 0.7953 - val_loss: 0.7041 - val_accuracy: 0.7589 - lr: 0.0010 - 71s/epoch - 16ms/step
Epoch 26/50
4378/4378 - 71s - loss: 0.5389 - accuracy: 0.7964 - val_loss: 0.7481 - val_accuracy: 0.7255 - lr: 0.0010 - 71s/epoch - 16ms/step
Epoch 27/50
4378/4378 - 70s - loss: 0.5350 - accuracy: 0.7981 - val_loss: 0.7664 - val_accuracy: 0.7386 - lr: 0.0010 - 70s/epoch - 16ms/step
Epoch 28/50
4378/4378 - 70s - loss: 0.5316 - accuracy: 0.7994 - val_loss: 0.7244 - val_accuracy: 0.7608 - lr: 0.0010 - 70s/epoch - 16ms/step
Epoch 29/50
4378/4378 - 70s - loss: 0.5294 - accuracy: 0.7999 - val_loss: 0.8036 - val_accuracy: 0.7140 - lr: 0.0010 - 70s/epoch - 16ms/step
Epoch 30/50
4378/4378 - 70s - loss: 0.5286 - accuracy: 0.8012 - val_loss: 0.7233 - val_accuracy: 0.7595 - lr: 0.0010 - 70s/epoch - 16ms/step
Epoch 31/50
4378/4378 - 70s - loss: 0.5262 - accuracy: 0.8014 - val_loss: 0.7674 - val_accuracy: 0.7284 - lr: 0.0010 - 70s/epoch - 16ms/step
Epoch 32/50
4378/4378 - 70s - loss: 0.5221 - accuracy: 0.8044 - val_loss: 0.7337 - val_accuracy: 0.7522 - lr: 0.0010 - 70s/epoch - 16ms/step
Epoch 33/50
4378/4378 - 70s - loss: 0.5197 - accuracy: 0.8032 - val_loss: 0.6673 - val_accuracy: 0.7746 - lr: 0.0010 - 70s/epoch - 16ms/step
Epoch 34/50
4378/4378 - 73s - loss: 0.5192 - accuracy: 0.8041 - val_loss: 0.7596 - val_accuracy: 0.7203 - lr: 0.0010 - 73s/epoch - 17ms/step
Epoch 35/50
4378/4378 - 70s - loss: 0.5160 - accuracy: 0.8055 - val_loss: 0.7435 - val_accuracy: 0.7559 - lr: 0.0010 - 70s/epoch - 16ms/step
Epoch 36/50
4378/4378 - 70s - loss: 0.5146 - accuracy: 0.8062 - val_loss: 0.6875 - val_accuracy: 0.7719 - lr: 0.0010 - 70s/epoch - 16ms/step
Epoch 37/50
4378/4378 - 70s - loss: 0.5123 - accuracy: 0.8069 - val_loss: 0.7073 - val_accuracy: 0.7752 - lr: 0.0010 - 70s/epoch - 16ms/step
Epoch 38/50
4378/4378 - 70s - loss: 0.5082 - accuracy: 0.8082 - val_loss: 0.7354 - val_accuracy: 0.7529 - lr: 0.0010 - 70s/epoch - 16ms/step
Epoch 39/50
4378/4378 - 70s - loss: 0.5071 - accuracy: 0.8097 - val_loss: 0.6902 - val_accuracy: 0.7823 - lr: 0.0010 - 70s/epoch - 16ms/step
Epoch 40/50
4378/4378 - 70s - loss: 0.5052 - accuracy: 0.8095 - val_loss: 0.8091 - val_accuracy: 0.7359 - lr: 0.0010 - 70s/epoch - 16ms/step
Epoch 41/50
4378/4378 - 70s - loss: 0.5048 - accuracy: 0.8099 - val_loss: 0.8207 - val_accuracy: 0.7225 - lr: 0.0010 - 70s/epoch - 16ms/step
Epoch 42/50
4378/4378 - 70s - loss: 0.5039 - accuracy: 0.8092 - val_loss: 0.8274 - val_accuracy: 0.7222 - lr: 0.0010 - 70s/epoch - 16ms/step
Epoch 43/50
4378/4378 - 70s - loss: 0.4982 - accuracy: 0.8118 - val_loss: 0.7722 - val_accuracy: 0.7463 - lr: 0.0010 - 70s/epoch - 16ms/step
Epoch 44/50
4378/4378 - 70s - loss: 0.4973 - accuracy: 0.8131 - val_loss: 0.7941 - val_accuracy: 0.7424 - lr: 0.0010 - 70s/epoch - 16ms/step
Epoch 45/50
4378/4378 - 70s - loss: 0.4965 - accuracy: 0.8125 - val_loss: 0.7114 - val_accuracy: 0.7719 - lr: 0.0010 - 70s/epoch - 16ms/step
Epoch 46/50
4378/4378 - 71s - loss: 0.4934 - accuracy: 0.8140 - val_loss: 0.8491 - val_accuracy: 0.7294 - lr: 0.0010 - 71s/epoch - 16ms/step
Epoch 47/50
4378/4378 - 70s - loss: 0.4931 - accuracy: 0.8151 - val_loss: 0.7179 - val_accuracy: 0.7643 - lr: 0.0010 - 70s/epoch - 16ms/step
Epoch 48/50
4378/4378 - 70s - loss: 0.4891 - accuracy: 0.8150 - val_loss: 0.8165 - val_accuracy: 0.7187 - lr: 0.0010 - 70s/epoch - 16ms/step
Epoch 49/50
4378/4378 - 71s - loss: 0.4890 - accuracy: 0.8171 - val_loss: 0.7063 - val_accuracy: 0.7711 - lr: 0.0010 - 71s/epoch - 16ms/step
Epoch 50/50
4378/4378 - 73s - loss: 0.4836 - accuracy: 0.8191 - val_loss: 0.7189 - val_accuracy: 0.7608 - lr: 0.0010 - 73s/epoch - 17ms/step
Epoch 1/50
876/876 - 21s - loss: 0.4238 - accuracy: 0.8411 - val_loss: 0.7574 - val_accuracy: 0.7447 - lr: 0.0010 - 21s/epoch - 24ms/step
Epoch 2/50
876/876 - 19s - loss: 0.4313 - accuracy: 0.8380 - val_loss: 0.7885 - val_accuracy: 0.7492 - lr: 0.0010 - 19s/epoch - 21ms/step
Epoch 3/50
876/876 - 19s - loss: 0.4306 - accuracy: 0.8383 - val_loss: 0.7735 - val_accuracy: 0.7468 - lr: 0.0010 - 19s/epoch - 21ms/step
Epoch 4/50
876/876 - 19s - loss: 0.4243 - accuracy: 0.8403 - val_loss: 0.8676 - val_accuracy: 0.7306 - lr: 0.0010 - 19s/epoch - 21ms/step
Epoch 5/50
876/876 - 19s - loss: 0.4232 - accuracy: 0.8411 - val_loss: 0.8370 - val_accuracy: 0.7368 - lr: 0.0010 - 19s/epoch - 21ms/step
Epoch 6/50
876/876 - 19s - loss: 0.4198 - accuracy: 0.8417 - val_loss: 0.8190 - val_accuracy: 0.7412 - lr: 0.0010 - 19s/epoch - 21ms/step
Epoch 7/50
876/876 - 19s - loss: 0.4174 - accuracy: 0.8439 - val_loss: 0.7738 - val_accuracy: 0.7496 - lr: 0.0010 - 19s/epoch - 21ms/step
Epoch 8/50
876/876 - 19s - loss: 0.4147 - accuracy: 0.8436 - val_loss: 0.8026 - val_accuracy: 0.7499 - lr: 0.0010 - 19s/epoch - 21ms/step
Epoch 9/50
876/876 - 19s - loss: 0.4149 - accuracy: 0.8440 - val_loss: 0.8230 - val_accuracy: 0.7318 - lr: 0.0010 - 19s/epoch - 21ms/step
Epoch 10/50
876/876 - 19s - loss: 0.4110 - accuracy: 0.8468 - val_loss: 0.7867 - val_accuracy: 0.7447 - lr: 0.0010 - 19s/epoch - 21ms/step
Epoch 11/50
876/876 - 19s - loss: 0.4095 - accuracy: 0.8457 - val_loss: 0.7750 - val_accuracy: 0.7427 - lr: 0.0010 - 19s/epoch - 21ms/step
Epoch 12/50
876/876 - 19s - loss: 0.4075 - accuracy: 0.8472 - val_loss: 0.7384 - val_accuracy: 0.7616 - lr: 0.0010 - 19s/epoch - 21ms/step
Epoch 13/50
876/876 - 19s - loss: 0.4068 - accuracy: 0.8480 - val_loss: 0.7589 - val_accuracy: 0.7558 - lr: 0.0010 - 19s/epoch - 21ms/step
Epoch 14/50
876/876 - 19s - loss: 0.4030 - accuracy: 0.8490 - val_loss: 0.7979 - val_accuracy: 0.7520 - lr: 0.0010 - 19s/epoch - 22ms/step
Epoch 15/50
876/876 - 19s - loss: 0.4011 - accuracy: 0.8491 - val_loss: 0.8154 - val_accuracy: 0.7397 - lr: 0.0010 - 19s/epoch - 21ms/step
Epoch 16/50
876/876 - 19s - loss: 0.3998 - accuracy: 0.8505 - val_loss: 0.8984 - val_accuracy: 0.7219 - lr: 0.0010 - 19s/epoch - 21ms/step
Epoch 17/50
876/876 - 19s - loss: 0.3946 - accuracy: 0.8517 - val_loss: 0.8227 - val_accuracy: 0.7403 - lr: 0.0010 - 19s/epoch - 21ms/step
Epoch 18/50
876/876 - 19s - loss: 0.3957 - accuracy: 0.8518 - val_loss: 0.9056 - val_accuracy: 0.7194 - lr: 0.0010 - 19s/epoch - 21ms/step
Epoch 19/50
876/876 - 19s - loss: 0.3918 - accuracy: 0.8529 - val_loss: 0.8676 - val_accuracy: 0.7393 - lr: 0.0010 - 19s/epoch - 21ms/step
Epoch 20/50
876/876 - 19s - loss: 0.3917 - accuracy: 0.8526 - val_loss: 0.8839 - val_accuracy: 0.7281 - lr: 0.0010 - 19s/epoch - 21ms/step
Epoch 21/50
876/876 - 19s - loss: 0.3914 - accuracy: 0.8530 - val_loss: 0.8066 - val_accuracy: 0.7561 - lr: 0.0010 - 19s/epoch - 22ms/step
Epoch 22/50
876/876 - 19s - loss: 0.3913 - accuracy: 0.8538 - val_loss: 0.8382 - val_accuracy: 0.7417 - lr: 0.0010 - 19s/epoch - 21ms/step
Epoch 23/50
876/876 - 19s - loss: 0.3902 - accuracy: 0.8538 - val_loss: 0.8585 - val_accuracy: 0.7463 - lr: 0.0010 - 19s/epoch - 21ms/step
Epoch 24/50
876/876 - 19s - loss: 0.3890 - accuracy: 0.8530 - val_loss: 0.8200 - val_accuracy: 0.7370 - lr: 0.0010 - 19s/epoch - 21ms/step
Epoch 25/50
876/876 - 19s - loss: 0.3851 - accuracy: 0.8558 - val_loss: 0.8282 - val_accuracy: 0.7415 - lr: 0.0010 - 19s/epoch - 21ms/step
Epoch 26/50
876/876 - 19s - loss: 0.3863 - accuracy: 0.8548 - val_loss: 0.8125 - val_accuracy: 0.7505 - lr: 0.0010 - 19s/epoch - 21ms/step
Epoch 27/50
876/876 - 19s - loss: 0.3814 - accuracy: 0.8566 - val_loss: 0.8771 - val_accuracy: 0.7266 - lr: 0.0010 - 19s/epoch - 21ms/step
Epoch 28/50
876/876 - 19s - loss: 0.3812 - accuracy: 0.8579 - val_loss: 0.8575 - val_accuracy: 0.7560 - lr: 0.0010 - 19s/epoch - 21ms/step
Epoch 29/50
876/876 - 19s - loss: 0.3794 - accuracy: 0.8573 - val_loss: 0.8712 - val_accuracy: 0.7433 - lr: 0.0010 - 19s/epoch - 21ms/step
Epoch 30/50
876/876 - 19s - loss: 0.3786 - accuracy: 0.8577 - val_loss: 0.8761 - val_accuracy: 0.7408 - lr: 0.0010 - 19s/epoch - 21ms/step
Epoch 31/50
876/876 - 19s - loss: 0.3774 - accuracy: 0.8591 - val_loss: 0.9042 - val_accuracy: 0.7409 - lr: 0.0010 - 19s/epoch - 21ms/step
Epoch 32/50
876/876 - 19s - loss: 0.3772 - accuracy: 0.8586 - val_loss: 0.8173 - val_accuracy: 0.7479 - lr: 0.0010 - 19s/epoch - 21ms/step
Epoch 33/50
876/876 - 19s - loss: 0.3731 - accuracy: 0.8609 - val_loss: 0.8343 - val_accuracy: 0.7388 - lr: 0.0010 - 19s/epoch - 21ms/step
Epoch 34/50
876/876 - 19s - loss: 0.3704 - accuracy: 0.8609 - val_loss: 0.8617 - val_accuracy: 0.7481 - lr: 0.0010 - 19s/epoch - 21ms/step
Epoch 35/50
876/876 - 19s - loss: 0.3725 - accuracy: 0.8604 - val_loss: 0.8394 - val_accuracy: 0.7442 - lr: 0.0010 - 19s/epoch - 21ms/step
Epoch 36/50
876/876 - 19s - loss: 0.3716 - accuracy: 0.8611 - val_loss: 0.9769 - val_accuracy: 0.7088 - lr: 0.0010 - 19s/epoch - 21ms/step
Epoch 37/50
876/876 - 19s - loss: 0.3686 - accuracy: 0.8629 - val_loss: 0.9384 - val_accuracy: 0.7268 - lr: 0.0010 - 19s/epoch - 21ms/step
Epoch 38/50
876/876 - 19s - loss: 0.3666 - accuracy: 0.8631 - val_loss: 0.8758 - val_accuracy: 0.7430 - lr: 0.0010 - 19s/epoch - 21ms/step
Epoch 39/50
876/876 - 19s - loss: 0.3664 - accuracy: 0.8635 - val_loss: 0.8964 - val_accuracy: 0.7395 - lr: 0.0010 - 19s/epoch - 21ms/step
Epoch 40/50
876/876 - 19s - loss: 0.3652 - accuracy: 0.8640 - val_loss: 0.8554 - val_accuracy: 0.7526 - lr: 0.0010 - 19s/epoch - 21ms/step
Epoch 41/50
876/876 - 19s - loss: 0.3629 - accuracy: 0.8648 - val_loss: 0.9441 - val_accuracy: 0.7254 - lr: 0.0010 - 19s/epoch - 21ms/step
Epoch 42/50
876/876 - 19s - loss: 0.3655 - accuracy: 0.8633 - val_loss: 0.8835 - val_accuracy: 0.7213 - lr: 0.0010 - 19s/epoch - 21ms/step
Epoch 43/50
876/876 - 19s - loss: 0.3637 - accuracy: 0.8634 - val_loss: 0.8405 - val_accuracy: 0.7414 - lr: 0.0010 - 19s/epoch - 21ms/step
Epoch 44/50
876/876 - 19s - loss: 0.3625 - accuracy: 0.8642 - val_loss: 0.8452 - val_accuracy: 0.7458 - lr: 0.0010 - 19s/epoch - 21ms/step
Epoch 45/50
876/876 - 19s - loss: 0.3607 - accuracy: 0.8654 - val_loss: 0.9582 - val_accuracy: 0.7197 - lr: 0.0010 - 19s/epoch - 21ms/step
Epoch 46/50
876/876 - 19s - loss: 0.3593 - accuracy: 0.8649 - val_loss: 0.8810 - val_accuracy: 0.7433 - lr: 0.0010 - 19s/epoch - 21ms/step
Epoch 47/50
876/876 - 19s - loss: 0.3573 - accuracy: 0.8673 - val_loss: 0.8950 - val_accuracy: 0.7392 - lr: 0.0010 - 19s/epoch - 21ms/step
Epoch 48/50
876/876 - 19s - loss: 0.3565 - accuracy: 0.8677 - val_loss: 1.0195 - val_accuracy: 0.7188 - lr: 0.0010 - 19s/epoch - 21ms/step
Epoch 49/50
876/876 - 19s - loss: 0.3559 - accuracy: 0.8661 - val_loss: 0.9375 - val_accuracy: 0.7231 - lr: 0.0010 - 19s/epoch - 21ms/step
Epoch 50/50
876/876 - 19s - loss: 0.3565 - accuracy: 0.8670 - val_loss: 1.0064 - val_accuracy: 0.7055 - lr: 0.0010 - 19s/epoch - 21ms/step
Epoch 1/50
176/176 - 11s - loss: 0.3121 - accuracy: 0.8846 - val_loss: 0.9744 - val_accuracy: 0.7260 - lr: 0.0010 - 11s/epoch - 65ms/step
Epoch 2/50
176/176 - 9s - loss: 0.3013 - accuracy: 0.8892 - val_loss: 0.9700 - val_accuracy: 0.7359 - lr: 0.0010 - 9s/epoch - 53ms/step
Epoch 3/50
176/176 - 9s - loss: 0.2990 - accuracy: 0.8905 - val_loss: 0.9041 - val_accuracy: 0.7517 - lr: 0.0010 - 9s/epoch - 52ms/step
Epoch 4/50
176/176 - 9s - loss: 0.2996 - accuracy: 0.8896 - val_loss: 0.9671 - val_accuracy: 0.7347 - lr: 0.0010 - 9s/epoch - 52ms/step
Epoch 5/50
176/176 - 9s - loss: 0.3015 - accuracy: 0.8905 - val_loss: 0.9800 - val_accuracy: 0.7260 - lr: 0.0010 - 9s/epoch - 52ms/step
Epoch 6/50
176/176 - 9s - loss: 0.3014 - accuracy: 0.8890 - val_loss: 0.9776 - val_accuracy: 0.7416 - lr: 0.0010 - 9s/epoch - 53ms/step
Epoch 7/50
176/176 - 9s - loss: 0.2989 - accuracy: 0.8902 - val_loss: 1.0472 - val_accuracy: 0.7207 - lr: 0.0010 - 9s/epoch - 53ms/step
Epoch 8/50
176/176 - 9s - loss: 0.2982 - accuracy: 0.8895 - val_loss: 0.9921 - val_accuracy: 0.7273 - lr: 0.0010 - 9s/epoch - 52ms/step
Epoch 9/50
176/176 - 9s - loss: 0.2961 - accuracy: 0.8919 - val_loss: 1.0043 - val_accuracy: 0.7348 - lr: 0.0010 - 9s/epoch - 52ms/step
Epoch 10/50
176/176 - 9s - loss: 0.2992 - accuracy: 0.8917 - val_loss: 1.0091 - val_accuracy: 0.7326 - lr: 0.0010 - 9s/epoch - 53ms/step
Epoch 11/50
176/176 - 9s - loss: 0.2967 - accuracy: 0.8916 - val_loss: 0.9785 - val_accuracy: 0.7344 - lr: 0.0010 - 9s/epoch - 52ms/step
Epoch 12/50
176/176 - 9s - loss: 0.2972 - accuracy: 0.8912 - val_loss: 1.0341 - val_accuracy: 0.7232 - lr: 0.0010 - 9s/epoch - 52ms/step
Epoch 13/50
176/176 - 9s - loss: 0.2974 - accuracy: 0.8897 - val_loss: 1.0391 - val_accuracy: 0.7266 - lr: 0.0010 - 9s/epoch - 52ms/step
Epoch 14/50
176/176 - 9s - loss: 0.2977 - accuracy: 0.8901 - val_loss: 1.0053 - val_accuracy: 0.7350 - lr: 0.0010 - 9s/epoch - 53ms/step
Epoch 15/50
176/176 - 9s - loss: 0.2936 - accuracy: 0.8929 - val_loss: 1.0532 - val_accuracy: 0.7243 - lr: 0.0010 - 9s/epoch - 52ms/step
Epoch 16/50
176/176 - 9s - loss: 0.2918 - accuracy: 0.8928 - val_loss: 1.0328 - val_accuracy: 0.7310 - lr: 0.0010 - 9s/epoch - 53ms/step
Epoch 17/50
176/176 - 9s - loss: 0.2910 - accuracy: 0.8928 - val_loss: 1.1230 - val_accuracy: 0.7176 - lr: 0.0010 - 9s/epoch - 52ms/step
Epoch 18/50
176/176 - 9s - loss: 0.2906 - accuracy: 0.8933 - val_loss: 1.0730 - val_accuracy: 0.7228 - lr: 0.0010 - 9s/epoch - 52ms/step
Epoch 19/50
176/176 - 9s - loss: 0.2900 - accuracy: 0.8937 - val_loss: 1.0738 - val_accuracy: 0.7282 - lr: 0.0010 - 9s/epoch - 52ms/step
Epoch 20/50
176/176 - 9s - loss: 0.2866 - accuracy: 0.8949 - val_loss: 1.1150 - val_accuracy: 0.7197 - lr: 0.0010 - 9s/epoch - 53ms/step
Epoch 21/50
176/176 - 9s - loss: 0.2882 - accuracy: 0.8941 - val_loss: 1.0488 - val_accuracy: 0.7287 - lr: 0.0010 - 9s/epoch - 53ms/step
Epoch 22/50
176/176 - 9s - loss: 0.2909 - accuracy: 0.8934 - val_loss: 1.0717 - val_accuracy: 0.7233 - lr: 0.0010 - 9s/epoch - 52ms/step
Epoch 23/50
176/176 - 9s - loss: 0.2906 - accuracy: 0.8926 - val_loss: 1.0179 - val_accuracy: 0.7307 - lr: 0.0010 - 9s/epoch - 52ms/step
Epoch 24/50
176/176 - 9s - loss: 0.2887 - accuracy: 0.8936 - val_loss: 1.0827 - val_accuracy: 0.7270 - lr: 0.0010 - 9s/epoch - 52ms/step
Epoch 25/50
176/176 - 9s - loss: 0.2886 - accuracy: 0.8939 - val_loss: 1.0020 - val_accuracy: 0.7394 - lr: 0.0010 - 9s/epoch - 52ms/step
Epoch 26/50
176/176 - 9s - loss: 0.2905 - accuracy: 0.8928 - val_loss: 1.0355 - val_accuracy: 0.7278 - lr: 0.0010 - 9s/epoch - 52ms/step
Epoch 27/50
176/176 - 9s - loss: 0.2864 - accuracy: 0.8954 - val_loss: 1.0481 - val_accuracy: 0.7329 - lr: 0.0010 - 9s/epoch - 53ms/step
Epoch 28/50
176/176 - 9s - loss: 0.2854 - accuracy: 0.8951 - val_loss: 1.1115 - val_accuracy: 0.7183 - lr: 0.0010 - 9s/epoch - 52ms/step
Epoch 29/50
176/176 - 9s - loss: 0.2876 - accuracy: 0.8951 - val_loss: 1.0742 - val_accuracy: 0.7346 - lr: 0.0010 - 9s/epoch - 52ms/step
Epoch 30/50
176/176 - 9s - loss: 0.2810 - accuracy: 0.8965 - val_loss: 1.0863 - val_accuracy: 0.7233 - lr: 0.0010 - 9s/epoch - 53ms/step
Epoch 31/50
176/176 - 9s - loss: 0.2793 - accuracy: 0.8972 - val_loss: 1.1495 - val_accuracy: 0.7122 - lr: 0.0010 - 9s/epoch - 52ms/step
Epoch 32/50
176/176 - 9s - loss: 0.2786 - accuracy: 0.8984 - val_loss: 1.1233 - val_accuracy: 0.7143 - lr: 0.0010 - 9s/epoch - 52ms/step
Epoch 33/50
176/176 - 9s - loss: 0.2820 - accuracy: 0.8966 - val_loss: 1.1950 - val_accuracy: 0.7098 - lr: 0.0010 - 9s/epoch - 52ms/step
Epoch 34/50
176/176 - 9s - loss: 0.2818 - accuracy: 0.8960 - val_loss: 1.0971 - val_accuracy: 0.7228 - lr: 0.0010 - 9s/epoch - 53ms/step
Epoch 35/50
176/176 - 9s - loss: 0.2844 - accuracy: 0.8963 - val_loss: 1.0755 - val_accuracy: 0.7408 - lr: 0.0010 - 9s/epoch - 52ms/step
Epoch 36/50
176/176 - 9s - loss: 0.2828 - accuracy: 0.8963 - val_loss: 1.0542 - val_accuracy: 0.7342 - lr: 0.0010 - 9s/epoch - 52ms/step
Epoch 37/50
176/176 - 9s - loss: 0.2824 - accuracy: 0.8971 - val_loss: 1.1454 - val_accuracy: 0.7184 - lr: 0.0010 - 9s/epoch - 52ms/step
Epoch 38/50
176/176 - 9s - loss: 0.2820 - accuracy: 0.8965 - val_loss: 1.1344 - val_accuracy: 0.7227 - lr: 0.0010 - 9s/epoch - 53ms/step
Epoch 39/50
176/176 - 9s - loss: 0.2817 - accuracy: 0.8968 - val_loss: 1.0884 - val_accuracy: 0.7236 - lr: 0.0010 - 9s/epoch - 53ms/step
Epoch 40/50
176/176 - 9s - loss: 0.2818 - accuracy: 0.8965 - val_loss: 1.0981 - val_accuracy: 0.7305 - lr: 0.0010 - 9s/epoch - 52ms/step
Epoch 41/50
176/176 - 9s - loss: 0.2785 - accuracy: 0.8980 - val_loss: 1.1062 - val_accuracy: 0.7345 - lr: 0.0010 - 9s/epoch - 52ms/step
Epoch 42/50
176/176 - 9s - loss: 0.2764 - accuracy: 0.8984 - val_loss: 1.1319 - val_accuracy: 0.7251 - lr: 0.0010 - 9s/epoch - 53ms/step
Epoch 43/50
176/176 - 9s - loss: 0.2805 - accuracy: 0.8974 - val_loss: 1.1474 - val_accuracy: 0.7159 - lr: 0.0010 - 9s/epoch - 52ms/step
Epoch 44/50
176/176 - 9s - loss: 0.2774 - accuracy: 0.8977 - val_loss: 1.1203 - val_accuracy: 0.7296 - lr: 0.0010 - 9s/epoch - 52ms/step
Epoch 45/50
176/176 - 9s - loss: 0.2748 - accuracy: 0.8992 - val_loss: 1.1149 - val_accuracy: 0.7218 - lr: 0.0010 - 9s/epoch - 52ms/step
Epoch 46/50
176/176 - 9s - loss: 0.2707 - accuracy: 0.9011 - val_loss: 1.1374 - val_accuracy: 0.7230 - lr: 0.0010 - 9s/epoch - 52ms/step
Epoch 47/50
176/176 - 9s - loss: 0.2719 - accuracy: 0.9007 - val_loss: 1.1345 - val_accuracy: 0.7301 - lr: 0.0010 - 9s/epoch - 52ms/step
Epoch 48/50
176/176 - 9s - loss: 0.2682 - accuracy: 0.9022 - val_loss: 1.1264 - val_accuracy: 0.7261 - lr: 0.0010 - 9s/epoch - 53ms/step
Epoch 49/50
176/176 - 9s - loss: 0.2647 - accuracy: 0.9037 - val_loss: 1.1885 - val_accuracy: 0.7175 - lr: 0.0010 - 9s/epoch - 52ms/step
Epoch 50/50
176/176 - 9s - loss: 0.2677 - accuracy: 0.9027 - val_loss: 1.2046 - val_accuracy: 0.7215 - lr: 0.0010 - 9s/epoch - 52ms/step
Epoch 1/50
36/36 - 10s - loss: 0.2548 - accuracy: 0.9079 - val_loss: 1.2044 - val_accuracy: 0.7196 - lr: 0.0010 - 10s/epoch - 280ms/step
Epoch 2/50
36/36 - 8s - loss: 0.2484 - accuracy: 0.9110 - val_loss: 1.1937 - val_accuracy: 0.7188 - lr: 0.0010 - 8s/epoch - 216ms/step
Epoch 3/50
36/36 - 8s - loss: 0.2466 - accuracy: 0.9108 - val_loss: 1.2240 - val_accuracy: 0.7161 - lr: 0.0010 - 8s/epoch - 217ms/step
Epoch 4/50
36/36 - 8s - loss: 0.2451 - accuracy: 0.9114 - val_loss: 1.2418 - val_accuracy: 0.7135 - lr: 0.0010 - 8s/epoch - 217ms/step
Epoch 5/50
36/36 - 8s - loss: 0.2441 - accuracy: 0.9123 - val_loss: 1.2552 - val_accuracy: 0.7104 - lr: 0.0010 - 8s/epoch - 217ms/step
Epoch 6/50
36/36 - 8s - loss: 0.2409 - accuracy: 0.9129 - val_loss: 1.2206 - val_accuracy: 0.7203 - lr: 0.0010 - 8s/epoch - 217ms/step
Epoch 7/50
36/36 - 8s - loss: 0.2423 - accuracy: 0.9117 - val_loss: 1.2291 - val_accuracy: 0.7171 - lr: 0.0010 - 8s/epoch - 217ms/step
Epoch 8/50
36/36 - 8s - loss: 0.2433 - accuracy: 0.9131 - val_loss: 1.2508 - val_accuracy: 0.7182 - lr: 0.0010 - 8s/epoch - 218ms/step
Epoch 9/50
36/36 - 8s - loss: 0.2404 - accuracy: 0.9135 - val_loss: 1.2512 - val_accuracy: 0.7154 - lr: 0.0010 - 8s/epoch - 217ms/step
Epoch 10/50
36/36 - 8s - loss: 0.2413 - accuracy: 0.9141 - val_loss: 1.2521 - val_accuracy: 0.7177 - lr: 0.0010 - 8s/epoch - 216ms/step
Epoch 11/50
36/36 - 8s - loss: 0.2415 - accuracy: 0.9133 - val_loss: 1.2361 - val_accuracy: 0.7198 - lr: 0.0010 - 8s/epoch - 217ms/step
Epoch 12/50
36/36 - 8s - loss: 0.2416 - accuracy: 0.9129 - val_loss: 1.2514 - val_accuracy: 0.7179 - lr: 0.0010 - 8s/epoch - 218ms/step
Epoch 13/50
36/36 - 8s - loss: 0.2376 - accuracy: 0.9151 - val_loss: 1.2830 - val_accuracy: 0.7153 - lr: 0.0010 - 8s/epoch - 217ms/step
Epoch 14/50
36/36 - 8s - loss: 0.2412 - accuracy: 0.9134 - val_loss: 1.2797 - val_accuracy: 0.7151 - lr: 0.0010 - 8s/epoch - 217ms/step
Epoch 15/50
36/36 - 8s - loss: 0.2365 - accuracy: 0.9147 - val_loss: 1.2820 - val_accuracy: 0.7164 - lr: 0.0010 - 8s/epoch - 218ms/step
Epoch 16/50
36/36 - 8s - loss: 0.2386 - accuracy: 0.9146 - val_loss: 1.2854 - val_accuracy: 0.7139 - lr: 0.0010 - 8s/epoch - 220ms/step
Epoch 17/50
36/36 - 8s - loss: 0.2429 - accuracy: 0.9129 - val_loss: 1.2803 - val_accuracy: 0.7167 - lr: 0.0010 - 8s/epoch - 220ms/step
Epoch 18/50
36/36 - 8s - loss: 0.2384 - accuracy: 0.9142 - val_loss: 1.2615 - val_accuracy: 0.7169 - lr: 0.0010 - 8s/epoch - 218ms/step
Epoch 19/50
36/36 - 8s - loss: 0.2376 - accuracy: 0.9145 - val_loss: 1.2558 - val_accuracy: 0.7213 - lr: 0.0010 - 8s/epoch - 217ms/step
Epoch 20/50
36/36 - 8s - loss: 0.2412 - accuracy: 0.9133 - val_loss: 1.2529 - val_accuracy: 0.7191 - lr: 0.0010 - 8s/epoch - 218ms/step
Epoch 21/50
36/36 - 8s - loss: 0.2391 - accuracy: 0.9129 - val_loss: 1.2437 - val_accuracy: 0.7193 - lr: 0.0010 - 8s/epoch - 218ms/step
Epoch 22/50
36/36 - 8s - loss: 0.2390 - accuracy: 0.9145 - val_loss: 1.2307 - val_accuracy: 0.7231 - lr: 0.0010 - 8s/epoch - 217ms/step
Epoch 23/50
36/36 - 8s - loss: 0.2376 - accuracy: 0.9153 - val_loss: 1.2668 - val_accuracy: 0.7172 - lr: 0.0010 - 8s/epoch - 217ms/step
Epoch 24/50
36/36 - 8s - loss: 0.2377 - accuracy: 0.9149 - val_loss: 1.2540 - val_accuracy: 0.7202 - lr: 0.0010 - 8s/epoch - 219ms/step
Epoch 25/50
36/36 - 8s - loss: 0.2367 - accuracy: 0.9148 - val_loss: 1.2559 - val_accuracy: 0.7225 - lr: 0.0010 - 8s/epoch - 218ms/step
Epoch 26/50
36/36 - 8s - loss: 0.2376 - accuracy: 0.9154 - val_loss: 1.2752 - val_accuracy: 0.7184 - lr: 0.0010 - 8s/epoch - 218ms/step
Epoch 27/50
36/36 - 8s - loss: 0.2354 - accuracy: 0.9153 - val_loss: 1.2886 - val_accuracy: 0.7152 - lr: 0.0010 - 8s/epoch - 218ms/step
Epoch 28/50
36/36 - 8s - loss: 0.2341 - accuracy: 0.9160 - val_loss: 1.2687 - val_accuracy: 0.7180 - lr: 0.0010 - 8s/epoch - 218ms/step
Epoch 29/50
36/36 - 8s - loss: 0.2357 - accuracy: 0.9158 - val_loss: 1.2863 - val_accuracy: 0.7171 - lr: 0.0010 - 8s/epoch - 218ms/step
Epoch 30/50
36/36 - 8s - loss: 0.2326 - accuracy: 0.9170 - val_loss: 1.2786 - val_accuracy: 0.7194 - lr: 0.0010 - 8s/epoch - 219ms/step
Epoch 31/50
36/36 - 8s - loss: 0.2361 - accuracy: 0.9151 - val_loss: 1.2811 - val_accuracy: 0.7177 - lr: 0.0010 - 8s/epoch - 217ms/step
Epoch 32/50
36/36 - 8s - loss: 0.2364 - accuracy: 0.9153 - val_loss: 1.2925 - val_accuracy: 0.7166 - lr: 0.0010 - 8s/epoch - 218ms/step
Epoch 33/50
36/36 - 8s - loss: 0.2378 - accuracy: 0.9151 - val_loss: 1.2842 - val_accuracy: 0.7172 - lr: 0.0010 - 8s/epoch - 219ms/step
Epoch 34/50
36/36 - 8s - loss: 0.2360 - accuracy: 0.9156 - val_loss: 1.3010 - val_accuracy: 0.7131 - lr: 0.0010 - 8s/epoch - 219ms/step
Epoch 35/50
36/36 - 8s - loss: 0.2373 - accuracy: 0.9158 - val_loss: 1.2831 - val_accuracy: 0.7173 - lr: 0.0010 - 8s/epoch - 218ms/step
Epoch 36/50
36/36 - 8s - loss: 0.2366 - accuracy: 0.9148 - val_loss: 1.2843 - val_accuracy: 0.7173 - lr: 0.0010 - 8s/epoch - 219ms/step
Epoch 37/50
36/36 - 8s - loss: 0.2346 - accuracy: 0.9162 - val_loss: 1.2978 - val_accuracy: 0.7118 - lr: 0.0010 - 8s/epoch - 219ms/step
Epoch 38/50
36/36 - 8s - loss: 0.2347 - accuracy: 0.9159 - val_loss: 1.2927 - val_accuracy: 0.7162 - lr: 0.0010 - 8s/epoch - 217ms/step
Epoch 39/50
36/36 - 8s - loss: 0.2346 - accuracy: 0.9158 - val_loss: 1.2940 - val_accuracy: 0.7173 - lr: 0.0010 - 8s/epoch - 217ms/step
Epoch 40/50
36/36 - 8s - loss: 0.2343 - accuracy: 0.9161 - val_loss: 1.2674 - val_accuracy: 0.7229 - lr: 0.0010 - 8s/epoch - 220ms/step
Epoch 41/50
36/36 - 8s - loss: 0.2379 - accuracy: 0.9145 - val_loss: 1.2909 - val_accuracy: 0.7168 - lr: 0.0010 - 8s/epoch - 218ms/step
Epoch 42/50
36/36 - 8s - loss: 0.2341 - accuracy: 0.9163 - val_loss: 1.2949 - val_accuracy: 0.7177 - lr: 0.0010 - 8s/epoch - 220ms/step
Epoch 43/50
36/36 - 8s - loss: 0.2344 - accuracy: 0.9165 - val_loss: 1.2812 - val_accuracy: 0.7192 - lr: 0.0010 - 8s/epoch - 217ms/step
Epoch 44/50
36/36 - 8s - loss: 0.2343 - accuracy: 0.9157 - val_loss: 1.2865 - val_accuracy: 0.7172 - lr: 0.0010 - 8s/epoch - 217ms/step
Epoch 45/50
36/36 - 8s - loss: 0.2338 - accuracy: 0.9166 - val_loss: 1.2998 - val_accuracy: 0.7184 - lr: 0.0010 - 8s/epoch - 220ms/step
Epoch 46/50
36/36 - 8s - loss: 0.2323 - accuracy: 0.9163 - val_loss: 1.2977 - val_accuracy: 0.7186 - lr: 0.0010 - 8s/epoch - 218ms/step
Epoch 47/50
36/36 - 8s - loss: 0.2321 - accuracy: 0.9174 - val_loss: 1.3205 - val_accuracy: 0.7171 - lr: 0.0010 - 8s/epoch - 219ms/step
Epoch 48/50
36/36 - 8s - loss: 0.2316 - accuracy: 0.9171 - val_loss: 1.3013 - val_accuracy: 0.7206 - lr: 0.0010 - 8s/epoch - 218ms/step
Epoch 49/50
36/36 - 8s - loss: 0.2335 - accuracy: 0.9167 - val_loss: 1.3381 - val_accuracy: 0.7142 - lr: 0.0010 - 8s/epoch - 218ms/step
Epoch 50/50
36/36 - 8s - loss: 0.2318 - accuracy: 0.9165 - val_loss: 1.3109 - val_accuracy: 0.7200 - lr: 0.0010 - 8s/epoch - 219ms/step
Epoch 1/75
4378/4378 - 74s - loss: 0.3992 - accuracy: 0.8513 - val_loss: 1.0346 - val_accuracy: 0.7026 - lr: 0.0010 - 74s/epoch - 17ms/step
Epoch 2/75
4378/4378 - 71s - loss: 0.4069 - accuracy: 0.8474 - val_loss: 0.7643 - val_accuracy: 0.7543 - lr: 0.0010 - 71s/epoch - 16ms/step
Epoch 3/75
4378/4378 - 71s - loss: 0.4055 - accuracy: 0.8471 - val_loss: 1.0071 - val_accuracy: 0.7034 - lr: 0.0010 - 71s/epoch - 16ms/step
Epoch 4/75
4378/4378 - 71s - loss: 0.4118 - accuracy: 0.8453 - val_loss: 0.8805 - val_accuracy: 0.7372 - lr: 0.0010 - 71s/epoch - 16ms/step
Epoch 5/75
4378/4378 - 71s - loss: 0.4071 - accuracy: 0.8475 - val_loss: 0.8392 - val_accuracy: 0.7341 - lr: 0.0010 - 71s/epoch - 16ms/step
Epoch 6/75
4378/4378 - 71s - loss: 0.4075 - accuracy: 0.8468 - val_loss: 0.8318 - val_accuracy: 0.7300 - lr: 0.0010 - 71s/epoch - 16ms/step
Epoch 7/75
4378/4378 - 71s - loss: 0.4118 - accuracy: 0.8459 - val_loss: 0.8063 - val_accuracy: 0.7426 - lr: 0.0010 - 71s/epoch - 16ms/step
Epoch 8/75
4378/4378 - 71s - loss: 0.4082 - accuracy: 0.8464 - val_loss: 0.8492 - val_accuracy: 0.7486 - lr: 0.0010 - 71s/epoch - 16ms/step
Epoch 9/75
4378/4378 - 70s - loss: 0.4039 - accuracy: 0.8475 - val_loss: 0.9888 - val_accuracy: 0.7057 - lr: 0.0010 - 70s/epoch - 16ms/step
Epoch 10/75
4378/4378 - 71s - loss: 0.4105 - accuracy: 0.8461 - val_loss: 0.9106 - val_accuracy: 0.7129 - lr: 0.0010 - 71s/epoch - 16ms/step
Epoch 11/75
4378/4378 - 71s - loss: 0.4073 - accuracy: 0.8475 - val_loss: 0.9236 - val_accuracy: 0.7219 - lr: 0.0010 - 71s/epoch - 16ms/step
Epoch 12/75
4378/4378 - 71s - loss: 0.4050 - accuracy: 0.8488 - val_loss: 0.8623 - val_accuracy: 0.7250 - lr: 0.0010 - 71s/epoch - 16ms/step
Epoch 13/75
4378/4378 - 70s - loss: 0.4079 - accuracy: 0.8477 - val_loss: 0.9566 - val_accuracy: 0.6989 - lr: 0.0010 - 70s/epoch - 16ms/step
Epoch 14/75
4378/4378 - 71s - loss: 0.4095 - accuracy: 0.8452 - val_loss: 0.7623 - val_accuracy: 0.7569 - lr: 0.0010 - 71s/epoch - 16ms/step
Epoch 15/75
4378/4378 - 71s - loss: 0.4036 - accuracy: 0.8491 - val_loss: 0.9366 - val_accuracy: 0.7110 - lr: 0.0010 - 71s/epoch - 16ms/step
Epoch 16/75
4378/4378 - 70s - loss: 0.4070 - accuracy: 0.8471 - val_loss: 0.8741 - val_accuracy: 0.7345 - lr: 0.0010 - 70s/epoch - 16ms/step
Epoch 17/75
4378/4378 - 71s - loss: 0.4077 - accuracy: 0.8462 - val_loss: 0.8798 - val_accuracy: 0.7248 - lr: 0.0010 - 71s/epoch - 16ms/step
Epoch 18/75
4378/4378 - 71s - loss: 0.4025 - accuracy: 0.8489 - val_loss: 0.8253 - val_accuracy: 0.7508 - lr: 0.0010 - 71s/epoch - 16ms/step
Epoch 19/75
4378/4378 - 70s - loss: 0.4063 - accuracy: 0.8473 - val_loss: 0.7735 - val_accuracy: 0.7562 - lr: 0.0010 - 70s/epoch - 16ms/step
Epoch 20/75
4378/4378 - 71s - loss: 0.4049 - accuracy: 0.8485 - val_loss: 0.8671 - val_accuracy: 0.7282 - lr: 0.0010 - 71s/epoch - 16ms/step
Epoch 21/75
4378/4378 - 71s - loss: 0.4027 - accuracy: 0.8495 - val_loss: 0.7968 - val_accuracy: 0.7504 - lr: 0.0010 - 71s/epoch - 16ms/step
Epoch 22/75
4378/4378 - 71s - loss: 0.4022 - accuracy: 0.8490 - val_loss: 0.8208 - val_accuracy: 0.7214 - lr: 0.0010 - 71s/epoch - 16ms/step
Epoch 23/75
4378/4378 - 71s - loss: 0.4053 - accuracy: 0.8476 - val_loss: 0.8945 - val_accuracy: 0.7169 - lr: 0.0010 - 71s/epoch - 16ms/step
Epoch 24/75
4378/4378 - 71s - loss: 0.4049 - accuracy: 0.8484 - val_loss: 0.8464 - val_accuracy: 0.7347 - lr: 0.0010 - 71s/epoch - 16ms/step
Epoch 25/75
4378/4378 - 72s - loss: 0.4036 - accuracy: 0.8488 - val_loss: 0.7930 - val_accuracy: 0.7450 - lr: 0.0010 - 72s/epoch - 16ms/step
Epoch 26/75
4378/4378 - 72s - loss: 0.4012 - accuracy: 0.8487 - val_loss: 0.7970 - val_accuracy: 0.7393 - lr: 0.0010 - 72s/epoch - 16ms/step
Epoch 27/75
4378/4378 - 71s - loss: 0.4019 - accuracy: 0.8496 - val_loss: 0.8470 - val_accuracy: 0.7357 - lr: 0.0010 - 71s/epoch - 16ms/step
Epoch 28/75
4378/4378 - 74s - loss: 0.4035 - accuracy: 0.8485 - val_loss: 0.8867 - val_accuracy: 0.7082 - lr: 0.0010 - 74s/epoch - 17ms/step
Epoch 29/75
4378/4378 - 71s - loss: 0.4022 - accuracy: 0.8481 - val_loss: 0.8776 - val_accuracy: 0.7183 - lr: 0.0010 - 71s/epoch - 16ms/step
Epoch 30/75
4378/4378 - 71s - loss: 0.4012 - accuracy: 0.8490 - val_loss: 0.8593 - val_accuracy: 0.7218 - lr: 0.0010 - 71s/epoch - 16ms/step
Epoch 31/75
4378/4378 - 71s - loss: 0.4000 - accuracy: 0.8504 - val_loss: 0.8364 - val_accuracy: 0.7375 - lr: 0.0010 - 71s/epoch - 16ms/step
Epoch 32/75
4378/4378 - 71s - loss: 0.3988 - accuracy: 0.8503 - val_loss: 0.8378 - val_accuracy: 0.7339 - lr: 0.0010 - 71s/epoch - 16ms/step
Epoch 33/75
4378/4378 - 71s - loss: 0.3969 - accuracy: 0.8504 - val_loss: 0.8375 - val_accuracy: 0.7457 - lr: 0.0010 - 71s/epoch - 16ms/step
Epoch 34/75
4378/4378 - 71s - loss: 0.3975 - accuracy: 0.8509 - val_loss: 0.8906 - val_accuracy: 0.7241 - lr: 0.0010 - 71s/epoch - 16ms/step
Epoch 35/75
4378/4378 - 71s - loss: 0.3976 - accuracy: 0.8501 - val_loss: 0.8015 - val_accuracy: 0.7495 - lr: 0.0010 - 71s/epoch - 16ms/step
Epoch 36/75
4378/4378 - 70s - loss: 0.3984 - accuracy: 0.8501 - val_loss: 0.8365 - val_accuracy: 0.7428 - lr: 0.0010 - 70s/epoch - 16ms/step
Epoch 37/75
4378/4378 - 71s - loss: 0.3966 - accuracy: 0.8511 - val_loss: 0.8092 - val_accuracy: 0.7398 - lr: 0.0010 - 71s/epoch - 16ms/step
Epoch 38/75
4378/4378 - 71s - loss: 0.3936 - accuracy: 0.8528 - val_loss: 0.8617 - val_accuracy: 0.7355 - lr: 0.0010 - 71s/epoch - 16ms/step
Epoch 39/75
4378/4378 - 71s - loss: 0.3943 - accuracy: 0.8521 - val_loss: 0.9073 - val_accuracy: 0.7253 - lr: 0.0010 - 71s/epoch - 16ms/step
Epoch 40/75
4378/4378 - 70s - loss: 0.3946 - accuracy: 0.8522 - val_loss: 0.8799 - val_accuracy: 0.7244 - lr: 0.0010 - 70s/epoch - 16ms/step
Epoch 41/75
4378/4378 - 71s - loss: 0.3939 - accuracy: 0.8522 - val_loss: 0.9017 - val_accuracy: 0.7269 - lr: 0.0010 - 71s/epoch - 16ms/step
Epoch 42/75
4378/4378 - 71s - loss: 0.3948 - accuracy: 0.8520 - val_loss: 0.8894 - val_accuracy: 0.7202 - lr: 0.0010 - 71s/epoch - 16ms/step
Epoch 43/75
4378/4378 - 71s - loss: 0.3962 - accuracy: 0.8509 - val_loss: 0.8748 - val_accuracy: 0.7136 - lr: 0.0010 - 71s/epoch - 16ms/step
Epoch 44/75
4378/4378 - 71s - loss: 0.3897 - accuracy: 0.8531 - val_loss: 0.8584 - val_accuracy: 0.7246 - lr: 0.0010 - 71s/epoch - 16ms/step
Epoch 45/75
4378/4378 - 71s - loss: 0.3938 - accuracy: 0.8516 - val_loss: 0.8299 - val_accuracy: 0.7486 - lr: 0.0010 - 71s/epoch - 16ms/step
Epoch 46/75
4378/4378 - 70s - loss: 0.3929 - accuracy: 0.8527 - val_loss: 0.9031 - val_accuracy: 0.7206 - lr: 0.0010 - 70s/epoch - 16ms/step
Epoch 47/75
4378/4378 - 70s - loss: 0.3901 - accuracy: 0.8534 - val_loss: 0.8750 - val_accuracy: 0.7278 - lr: 0.0010 - 70s/epoch - 16ms/step
Epoch 48/75
4378/4378 - 71s - loss: 0.3873 - accuracy: 0.8548 - val_loss: 0.8759 - val_accuracy: 0.7358 - lr: 0.0010 - 71s/epoch - 16ms/step
Epoch 49/75
4378/4378 - 71s - loss: 0.3906 - accuracy: 0.8538 - val_loss: 0.8807 - val_accuracy: 0.7346 - lr: 0.0010 - 71s/epoch - 16ms/step
Epoch 50/75
4378/4378 - 70s - loss: 0.3908 - accuracy: 0.8539 - val_loss: 0.9094 - val_accuracy: 0.7034 - lr: 0.0010 - 70s/epoch - 16ms/step
Epoch 51/75
4378/4378 - 71s - loss: 0.3951 - accuracy: 0.8514 - val_loss: 0.9656 - val_accuracy: 0.6955 - lr: 0.0010 - 71s/epoch - 16ms/step
Epoch 52/75
4378/4378 - 71s - loss: 0.3877 - accuracy: 0.8540 - val_loss: 0.8753 - val_accuracy: 0.7396 - lr: 0.0010 - 71s/epoch - 16ms/step
Epoch 53/75
4378/4378 - 71s - loss: 0.3872 - accuracy: 0.8545 - val_loss: 0.8641 - val_accuracy: 0.7268 - lr: 0.0010 - 71s/epoch - 16ms/step
Epoch 54/75
4378/4378 - 71s - loss: 0.3906 - accuracy: 0.8530 - val_loss: 0.8665 - val_accuracy: 0.7351 - lr: 0.0010 - 71s/epoch - 16ms/step
Epoch 55/75
4378/4378 - 71s - loss: 0.3875 - accuracy: 0.8546 - val_loss: 0.8706 - val_accuracy: 0.7287 - lr: 0.0010 - 71s/epoch - 16ms/step
Epoch 56/75
4378/4378 - 71s - loss: 0.3861 - accuracy: 0.8544 - val_loss: 0.8547 - val_accuracy: 0.7258 - lr: 0.0010 - 71s/epoch - 16ms/step
Epoch 57/75
4378/4378 - 70s - loss: 0.3856 - accuracy: 0.8550 - val_loss: 0.8636 - val_accuracy: 0.7251 - lr: 0.0010 - 70s/epoch - 16ms/step
Epoch 58/75
4378/4378 - 70s - loss: 0.3854 - accuracy: 0.8550 - val_loss: 0.8831 - val_accuracy: 0.7225 - lr: 0.0010 - 70s/epoch - 16ms/step
Epoch 59/75
4378/4378 - 71s - loss: 0.3837 - accuracy: 0.8559 - val_loss: 0.8250 - val_accuracy: 0.7377 - lr: 0.0010 - 71s/epoch - 16ms/step
Epoch 60/75
4378/4378 - 71s - loss: 0.3837 - accuracy: 0.8560 - val_loss: 0.7842 - val_accuracy: 0.7543 - lr: 0.0010 - 71s/epoch - 16ms/step
Epoch 61/75
4378/4378 - 71s - loss: 0.3811 - accuracy: 0.8579 - val_loss: 0.9299 - val_accuracy: 0.7034 - lr: 0.0010 - 71s/epoch - 16ms/step
Epoch 62/75
4378/4378 - 71s - loss: 0.3807 - accuracy: 0.8573 - val_loss: 0.7557 - val_accuracy: 0.7629 - lr: 0.0010 - 71s/epoch - 16ms/step
Epoch 63/75
4378/4378 - 71s - loss: 0.3839 - accuracy: 0.8556 - val_loss: 0.8494 - val_accuracy: 0.7335 - lr: 0.0010 - 71s/epoch - 16ms/step
Epoch 64/75
4378/4378 - 71s - loss: 0.3809 - accuracy: 0.8571 - val_loss: 0.8680 - val_accuracy: 0.7167 - lr: 0.0010 - 71s/epoch - 16ms/step
Epoch 65/75
4378/4378 - 71s - loss: 0.3837 - accuracy: 0.8562 - val_loss: 0.8774 - val_accuracy: 0.7230 - lr: 0.0010 - 71s/epoch - 16ms/step
Epoch 66/75
4378/4378 - 71s - loss: 0.3819 - accuracy: 0.8564 - val_loss: 0.8899 - val_accuracy: 0.7299 - lr: 0.0010 - 71s/epoch - 16ms/step
Epoch 67/75
4378/4378 - 71s - loss: 0.3820 - accuracy: 0.8569 - val_loss: 0.8557 - val_accuracy: 0.7419 - lr: 0.0010 - 71s/epoch - 16ms/step
Epoch 68/75
4378/4378 - 71s - loss: 0.3863 - accuracy: 0.8550 - val_loss: 0.8284 - val_accuracy: 0.7365 - lr: 0.0010 - 71s/epoch - 16ms/step
Epoch 69/75
4378/4378 - 71s - loss: 0.3805 - accuracy: 0.8576 - val_loss: 0.9251 - val_accuracy: 0.7129 - lr: 0.0010 - 71s/epoch - 16ms/step
Epoch 70/75
4378/4378 - 71s - loss: 0.3788 - accuracy: 0.8570 - val_loss: 0.7920 - val_accuracy: 0.7487 - lr: 0.0010 - 71s/epoch - 16ms/step
Epoch 71/75
4378/4378 - 71s - loss: 0.3806 - accuracy: 0.8562 - val_loss: 0.8124 - val_accuracy: 0.7481 - lr: 0.0010 - 71s/epoch - 16ms/step
Epoch 72/75
4378/4378 - 71s - loss: 0.3818 - accuracy: 0.8562 - val_loss: 0.9100 - val_accuracy: 0.7101 - lr: 0.0010 - 71s/epoch - 16ms/step
Epoch 73/75
4378/4378 - 70s - loss: 0.3795 - accuracy: 0.8583 - val_loss: 0.8360 - val_accuracy: 0.7413 - lr: 0.0010 - 70s/epoch - 16ms/step
Epoch 74/75
4378/4378 - 71s - loss: 0.3792 - accuracy: 0.8582 - val_loss: 0.8376 - val_accuracy: 0.7410 - lr: 0.0010 - 71s/epoch - 16ms/step
Epoch 75/75
4378/4378 - 70s - loss: 0.3795 - accuracy: 0.8573 - val_loss: 0.7554 - val_accuracy: 0.7550 - lr: 0.0010 - 70s/epoch - 16ms/step
Epoch 1/75
876/876 - 21s - loss: 0.3046 - accuracy: 0.8864 - val_loss: 0.9736 - val_accuracy: 0.7039 - lr: 0.0010 - 21s/epoch - 24ms/step
Epoch 2/75
876/876 - 19s - loss: 0.3123 - accuracy: 0.8840 - val_loss: 0.9009 - val_accuracy: 0.7294 - lr: 0.0010 - 19s/epoch - 21ms/step
Epoch 3/75
876/876 - 19s - loss: 0.3122 - accuracy: 0.8833 - val_loss: 0.9072 - val_accuracy: 0.7274 - lr: 0.0010 - 19s/epoch - 21ms/step
Epoch 4/75
876/876 - 19s - loss: 0.3074 - accuracy: 0.8853 - val_loss: 0.9092 - val_accuracy: 0.7372 - lr: 0.0010 - 19s/epoch - 21ms/step
Epoch 5/75
876/876 - 19s - loss: 0.3037 - accuracy: 0.8863 - val_loss: 0.9133 - val_accuracy: 0.7244 - lr: 0.0010 - 19s/epoch - 21ms/step
Epoch 6/75
876/876 - 19s - loss: 0.3037 - accuracy: 0.8864 - val_loss: 0.9717 - val_accuracy: 0.7223 - lr: 0.0010 - 19s/epoch - 21ms/step
Epoch 7/75
876/876 - 19s - loss: 0.3031 - accuracy: 0.8874 - val_loss: 0.9936 - val_accuracy: 0.7183 - lr: 0.0010 - 19s/epoch - 21ms/step
Epoch 8/75
876/876 - 19s - loss: 0.2976 - accuracy: 0.8889 - val_loss: 0.9327 - val_accuracy: 0.7375 - lr: 0.0010 - 19s/epoch - 22ms/step
Epoch 9/75
876/876 - 19s - loss: 0.3013 - accuracy: 0.8873 - val_loss: 1.0759 - val_accuracy: 0.6900 - lr: 0.0010 - 19s/epoch - 21ms/step
Epoch 10/75
876/876 - 19s - loss: 0.2953 - accuracy: 0.8898 - val_loss: 0.9178 - val_accuracy: 0.7313 - lr: 0.0010 - 19s/epoch - 21ms/step
Epoch 11/75
876/876 - 19s - loss: 0.2964 - accuracy: 0.8884 - val_loss: 1.0374 - val_accuracy: 0.7103 - lr: 0.0010 - 19s/epoch - 21ms/step
Epoch 12/75
876/876 - 19s - loss: 0.2933 - accuracy: 0.8895 - val_loss: 0.9651 - val_accuracy: 0.7301 - lr: 0.0010 - 19s/epoch - 21ms/step
Epoch 13/75
876/876 - 19s - loss: 0.2921 - accuracy: 0.8911 - val_loss: 0.8818 - val_accuracy: 0.7484 - lr: 0.0010 - 19s/epoch - 21ms/step
Epoch 14/75
876/876 - 19s - loss: 0.2950 - accuracy: 0.8894 - val_loss: 0.9368 - val_accuracy: 0.7317 - lr: 0.0010 - 19s/epoch - 21ms/step
Epoch 15/75
876/876 - 19s - loss: 0.2900 - accuracy: 0.8923 - val_loss: 1.1117 - val_accuracy: 0.6909 - lr: 0.0010 - 19s/epoch - 21ms/step
Epoch 16/75
876/876 - 19s - loss: 0.2913 - accuracy: 0.8914 - val_loss: 0.9227 - val_accuracy: 0.7379 - lr: 0.0010 - 19s/epoch - 22ms/step
Epoch 17/75
876/876 - 19s - loss: 0.2907 - accuracy: 0.8908 - val_loss: 0.9957 - val_accuracy: 0.7228 - lr: 0.0010 - 19s/epoch - 21ms/step
Epoch 18/75
876/876 - 19s - loss: 0.2880 - accuracy: 0.8929 - val_loss: 0.9854 - val_accuracy: 0.7219 - lr: 0.0010 - 19s/epoch - 22ms/step
Epoch 19/75
876/876 - 19s - loss: 0.2915 - accuracy: 0.8928 - val_loss: 0.9853 - val_accuracy: 0.7252 - lr: 0.0010 - 19s/epoch - 21ms/step
Epoch 20/75
876/876 - 19s - loss: 0.2846 - accuracy: 0.8939 - val_loss: 0.9426 - val_accuracy: 0.7398 - lr: 0.0010 - 19s/epoch - 21ms/step
Epoch 21/75
876/876 - 19s - loss: 0.2842 - accuracy: 0.8942 - val_loss: 1.0266 - val_accuracy: 0.7138 - lr: 0.0010 - 19s/epoch - 22ms/step
Epoch 22/75
876/876 - 19s - loss: 0.2842 - accuracy: 0.8945 - val_loss: 0.9688 - val_accuracy: 0.7277 - lr: 0.0010 - 19s/epoch - 21ms/step
Epoch 23/75
876/876 - 19s - loss: 0.2814 - accuracy: 0.8954 - val_loss: 1.0807 - val_accuracy: 0.7068 - lr: 0.0010 - 19s/epoch - 22ms/step
Epoch 24/75
876/876 - 19s - loss: 0.2859 - accuracy: 0.8940 - val_loss: 1.0400 - val_accuracy: 0.7208 - lr: 0.0010 - 19s/epoch - 21ms/step
Epoch 25/75
876/876 - 19s - loss: 0.2849 - accuracy: 0.8953 - val_loss: 1.0417 - val_accuracy: 0.7137 - lr: 0.0010 - 19s/epoch - 21ms/step
Epoch 26/75
876/876 - 19s - loss: 0.2849 - accuracy: 0.8943 - val_loss: 1.0021 - val_accuracy: 0.7259 - lr: 0.0010 - 19s/epoch - 21ms/step
Epoch 27/75
876/876 - 19s - loss: 0.2838 - accuracy: 0.8947 - val_loss: 1.1146 - val_accuracy: 0.7054 - lr: 0.0010 - 19s/epoch - 21ms/step
Epoch 28/75
876/876 - 19s - loss: 0.2820 - accuracy: 0.8943 - val_loss: 1.0099 - val_accuracy: 0.7242 - lr: 0.0010 - 19s/epoch - 22ms/step
Epoch 29/75
876/876 - 19s - loss: 0.2815 - accuracy: 0.8955 - val_loss: 0.9709 - val_accuracy: 0.7339 - lr: 0.0010 - 19s/epoch - 21ms/step
Epoch 30/75
876/876 - 19s - loss: 0.2795 - accuracy: 0.8962 - val_loss: 0.9690 - val_accuracy: 0.7331 - lr: 0.0010 - 19s/epoch - 22ms/step
Epoch 31/75
876/876 - 19s - loss: 0.2820 - accuracy: 0.8953 - val_loss: 1.0235 - val_accuracy: 0.7281 - lr: 0.0010 - 19s/epoch - 21ms/step
Epoch 32/75
876/876 - 19s - loss: 0.2784 - accuracy: 0.8961 - val_loss: 0.9077 - val_accuracy: 0.7387 - lr: 0.0010 - 19s/epoch - 21ms/step
Epoch 33/75
876/876 - 19s - loss: 0.2776 - accuracy: 0.8965 - val_loss: 1.0050 - val_accuracy: 0.7187 - lr: 0.0010 - 19s/epoch - 22ms/step
Epoch 34/75
876/876 - 19s - loss: 0.2783 - accuracy: 0.8967 - val_loss: 1.0443 - val_accuracy: 0.7214 - lr: 0.0010 - 19s/epoch - 21ms/step
Epoch 35/75
876/876 - 19s - loss: 0.2778 - accuracy: 0.8973 - val_loss: 1.0207 - val_accuracy: 0.7307 - lr: 0.0010 - 19s/epoch - 21ms/step
Epoch 36/75
876/876 - 19s - loss: 0.2767 - accuracy: 0.8967 - val_loss: 1.0283 - val_accuracy: 0.7259 - lr: 0.0010 - 19s/epoch - 21ms/step
Epoch 37/75
876/876 - 19s - loss: 0.2756 - accuracy: 0.8987 - val_loss: 1.0701 - val_accuracy: 0.7024 - lr: 0.0010 - 19s/epoch - 22ms/step
Epoch 38/75
876/876 - 19s - loss: 0.2733 - accuracy: 0.8989 - val_loss: 1.0709 - val_accuracy: 0.7250 - lr: 0.0010 - 19s/epoch - 21ms/step
Epoch 39/75
876/876 - 19s - loss: 0.2739 - accuracy: 0.8981 - val_loss: 1.1074 - val_accuracy: 0.7099 - lr: 0.0010 - 19s/epoch - 21ms/step
Epoch 40/75
876/876 - 19s - loss: 0.2735 - accuracy: 0.8981 - val_loss: 0.9800 - val_accuracy: 0.7308 - lr: 0.0010 - 19s/epoch - 22ms/step
Epoch 41/75
876/876 - 19s - loss: 0.2736 - accuracy: 0.8981 - val_loss: 1.0781 - val_accuracy: 0.7193 - lr: 0.0010 - 19s/epoch - 21ms/step
Epoch 42/75
876/876 - 19s - loss: 0.2719 - accuracy: 0.8989 - val_loss: 1.1055 - val_accuracy: 0.7091 - lr: 0.0010 - 19s/epoch - 22ms/step
Epoch 43/75
876/876 - 19s - loss: 0.2744 - accuracy: 0.8983 - val_loss: 1.1464 - val_accuracy: 0.6905 - lr: 0.0010 - 19s/epoch - 21ms/step
Epoch 44/75
876/876 - 19s - loss: 0.2742 - accuracy: 0.8984 - val_loss: 1.1259 - val_accuracy: 0.7080 - lr: 0.0010 - 19s/epoch - 21ms/step
Epoch 45/75
876/876 - 19s - loss: 0.2719 - accuracy: 0.8992 - val_loss: 1.1392 - val_accuracy: 0.7056 - lr: 0.0010 - 19s/epoch - 21ms/step
Epoch 46/75
876/876 - 19s - loss: 0.2717 - accuracy: 0.8985 - val_loss: 0.9980 - val_accuracy: 0.7262 - lr: 0.0010 - 19s/epoch - 22ms/step
Epoch 47/75
876/876 - 19s - loss: 0.2758 - accuracy: 0.8970 - val_loss: 1.1293 - val_accuracy: 0.7040 - lr: 0.0010 - 19s/epoch - 22ms/step
Epoch 48/75
876/876 - 19s - loss: 0.2690 - accuracy: 0.8999 - val_loss: 1.0458 - val_accuracy: 0.7080 - lr: 0.0010 - 19s/epoch - 21ms/step
Epoch 49/75
876/876 - 19s - loss: 0.2690 - accuracy: 0.8999 - val_loss: 0.9934 - val_accuracy: 0.7309 - lr: 0.0010 - 19s/epoch - 21ms/step
Epoch 50/75
876/876 - 19s - loss: 0.2749 - accuracy: 0.8972 - val_loss: 1.0586 - val_accuracy: 0.7137 - lr: 0.0010 - 19s/epoch - 22ms/step
Epoch 51/75
876/876 - 19s - loss: 0.2703 - accuracy: 0.9001 - val_loss: 1.0329 - val_accuracy: 0.7199 - lr: 0.0010 - 19s/epoch - 21ms/step
Epoch 52/75
876/876 - 19s - loss: 0.2706 - accuracy: 0.8994 - val_loss: 0.9586 - val_accuracy: 0.7405 - lr: 0.0010 - 19s/epoch - 22ms/step
Epoch 53/75
876/876 - 19s - loss: 0.2708 - accuracy: 0.8997 - val_loss: 1.1358 - val_accuracy: 0.6932 - lr: 0.0010 - 19s/epoch - 21ms/step
Epoch 54/75
876/876 - 19s - loss: 0.2686 - accuracy: 0.8997 - val_loss: 1.1362 - val_accuracy: 0.6965 - lr: 0.0010 - 19s/epoch - 21ms/step
Epoch 55/75
876/876 - 19s - loss: 0.2662 - accuracy: 0.9014 - val_loss: 0.9847 - val_accuracy: 0.7384 - lr: 0.0010 - 19s/epoch - 22ms/step
Epoch 56/75
876/876 - 19s - loss: 0.2697 - accuracy: 0.8999 - val_loss: 0.9605 - val_accuracy: 0.7434 - lr: 0.0010 - 19s/epoch - 21ms/step
Epoch 57/75
876/876 - 19s - loss: 0.2673 - accuracy: 0.9008 - val_loss: 1.1303 - val_accuracy: 0.7130 - lr: 0.0010 - 19s/epoch - 21ms/step
Epoch 58/75
876/876 - 19s - loss: 0.2650 - accuracy: 0.9009 - val_loss: 1.1528 - val_accuracy: 0.7107 - lr: 0.0010 - 19s/epoch - 21ms/step
Epoch 59/75
876/876 - 19s - loss: 0.2657 - accuracy: 0.9020 - val_loss: 0.9930 - val_accuracy: 0.7395 - lr: 0.0010 - 19s/epoch - 21ms/step
Epoch 60/75
876/876 - 19s - loss: 0.2668 - accuracy: 0.9003 - val_loss: 1.1255 - val_accuracy: 0.7067 - lr: 0.0010 - 19s/epoch - 22ms/step
Epoch 61/75
876/876 - 19s - loss: 0.2645 - accuracy: 0.9019 - val_loss: 1.1131 - val_accuracy: 0.7127 - lr: 0.0010 - 19s/epoch - 21ms/step
Epoch 62/75
876/876 - 19s - loss: 0.2626 - accuracy: 0.9030 - val_loss: 1.1265 - val_accuracy: 0.7155 - lr: 0.0010 - 19s/epoch - 21ms/step
Epoch 63/75
876/876 - 19s - loss: 0.2658 - accuracy: 0.9017 - val_loss: 1.2331 - val_accuracy: 0.6934 - lr: 0.0010 - 19s/epoch - 21ms/step
Epoch 64/75
876/876 - 19s - loss: 0.2667 - accuracy: 0.9004 - val_loss: 1.0334 - val_accuracy: 0.7306 - lr: 0.0010 - 19s/epoch - 21ms/step
Epoch 65/75
876/876 - 19s - loss: 0.2623 - accuracy: 0.9028 - val_loss: 1.0315 - val_accuracy: 0.7349 - lr: 0.0010 - 19s/epoch - 21ms/step
Epoch 66/75
876/876 - 19s - loss: 0.2595 - accuracy: 0.9036 - val_loss: 1.0062 - val_accuracy: 0.7349 - lr: 0.0010 - 19s/epoch - 21ms/step
Epoch 67/75
876/876 - 19s - loss: 0.2662 - accuracy: 0.9007 - val_loss: 1.1231 - val_accuracy: 0.7121 - lr: 0.0010 - 19s/epoch - 21ms/step
Epoch 68/75
876/876 - 19s - loss: 0.2638 - accuracy: 0.9024 - val_loss: 1.1436 - val_accuracy: 0.7085 - lr: 0.0010 - 19s/epoch - 21ms/step
Epoch 69/75
876/876 - 19s - loss: 0.2645 - accuracy: 0.9016 - val_loss: 1.0610 - val_accuracy: 0.7271 - lr: 0.0010 - 19s/epoch - 21ms/step
Epoch 70/75
876/876 - 19s - loss: 0.2629 - accuracy: 0.9029 - val_loss: 1.1770 - val_accuracy: 0.6934 - lr: 0.0010 - 19s/epoch - 21ms/step
Epoch 71/75
876/876 - 19s - loss: 0.2614 - accuracy: 0.9030 - val_loss: 1.0082 - val_accuracy: 0.7331 - lr: 0.0010 - 19s/epoch - 21ms/step
Epoch 72/75
876/876 - 19s - loss: 0.2629 - accuracy: 0.9034 - val_loss: 1.0033 - val_accuracy: 0.7305 - lr: 0.0010 - 19s/epoch - 21ms/step
Epoch 73/75
876/876 - 19s - loss: 0.2631 - accuracy: 0.9023 - val_loss: 1.1926 - val_accuracy: 0.6988 - lr: 0.0010 - 19s/epoch - 21ms/step
Epoch 74/75
876/876 - 19s - loss: 0.2619 - accuracy: 0.9021 - val_loss: 1.0914 - val_accuracy: 0.7135 - lr: 0.0010 - 19s/epoch - 21ms/step
Epoch 75/75
876/876 - 19s - loss: 0.2601 - accuracy: 0.9035 - val_loss: 1.0399 - val_accuracy: 0.7290 - lr: 0.0010 - 19s/epoch - 21ms/step
Epoch 1/75
176/176 - 12s - loss: 0.2156 - accuracy: 0.9214 - val_loss: 1.1470 - val_accuracy: 0.7140 - lr: 0.0010 - 12s/epoch - 65ms/step
Epoch 2/75
176/176 - 9s - loss: 0.2045 - accuracy: 0.9263 - val_loss: 1.1984 - val_accuracy: 0.7114 - lr: 0.0010 - 9s/epoch - 52ms/step
Epoch 3/75
176/176 - 9s - loss: 0.2015 - accuracy: 0.9273 - val_loss: 1.2874 - val_accuracy: 0.6987 - lr: 0.0010 - 9s/epoch - 52ms/step
Epoch 4/75
176/176 - 9s - loss: 0.2008 - accuracy: 0.9266 - val_loss: 1.2181 - val_accuracy: 0.7100 - lr: 0.0010 - 9s/epoch - 52ms/step
Epoch 5/75
176/176 - 9s - loss: 0.2026 - accuracy: 0.9268 - val_loss: 1.2663 - val_accuracy: 0.7097 - lr: 0.0010 - 9s/epoch - 52ms/step
Epoch 6/75
176/176 - 9s - loss: 0.2052 - accuracy: 0.9248 - val_loss: 1.3552 - val_accuracy: 0.6904 - lr: 0.0010 - 9s/epoch - 52ms/step
Epoch 7/75
176/176 - 9s - loss: 0.2054 - accuracy: 0.9263 - val_loss: 1.2620 - val_accuracy: 0.7038 - lr: 0.0010 - 9s/epoch - 52ms/step
Epoch 8/75
176/176 - 9s - loss: 0.2048 - accuracy: 0.9257 - val_loss: 1.2150 - val_accuracy: 0.7080 - lr: 0.0010 - 9s/epoch - 52ms/step
Epoch 9/75
176/176 - 9s - loss: 0.2044 - accuracy: 0.9258 - val_loss: 1.3130 - val_accuracy: 0.7074 - lr: 0.0010 - 9s/epoch - 52ms/step
Epoch 10/75
176/176 - 9s - loss: 0.2046 - accuracy: 0.9254 - val_loss: 1.3152 - val_accuracy: 0.7093 - lr: 0.0010 - 9s/epoch - 53ms/step
Epoch 11/75
176/176 - 9s - loss: 0.2043 - accuracy: 0.9267 - val_loss: 1.3389 - val_accuracy: 0.7062 - lr: 0.0010 - 9s/epoch - 52ms/step
Epoch 12/75
176/176 - 9s - loss: 0.2052 - accuracy: 0.9262 - val_loss: 1.3490 - val_accuracy: 0.7019 - lr: 0.0010 - 9s/epoch - 52ms/step
Epoch 13/75
176/176 - 9s - loss: 0.2033 - accuracy: 0.9258 - val_loss: 1.2683 - val_accuracy: 0.7138 - lr: 0.0010 - 9s/epoch - 52ms/step
Epoch 14/75
176/176 - 9s - loss: 0.2038 - accuracy: 0.9265 - val_loss: 1.2885 - val_accuracy: 0.7114 - lr: 0.0010 - 9s/epoch - 52ms/step
Epoch 15/75
176/176 - 9s - loss: 0.2033 - accuracy: 0.9260 - val_loss: 1.2702 - val_accuracy: 0.7094 - lr: 0.0010 - 9s/epoch - 53ms/step
Epoch 16/75
176/176 - 9s - loss: 0.2041 - accuracy: 0.9256 - val_loss: 1.3123 - val_accuracy: 0.7072 - lr: 0.0010 - 9s/epoch - 52ms/step
Epoch 17/75
176/176 - 9s - loss: 0.2065 - accuracy: 0.9248 - val_loss: 1.2961 - val_accuracy: 0.7164 - lr: 0.0010 - 9s/epoch - 52ms/step
Epoch 18/75
176/176 - 9s - loss: 0.2034 - accuracy: 0.9258 - val_loss: 1.2693 - val_accuracy: 0.7146 - lr: 0.0010 - 9s/epoch - 52ms/step
Epoch 19/75
176/176 - 9s - loss: 0.2042 - accuracy: 0.9273 - val_loss: 1.3464 - val_accuracy: 0.7041 - lr: 0.0010 - 9s/epoch - 52ms/step
Epoch 20/75
176/176 - 9s - loss: 0.2071 - accuracy: 0.9249 - val_loss: 1.2614 - val_accuracy: 0.7180 - lr: 0.0010 - 9s/epoch - 53ms/step
Epoch 21/75
176/176 - 9s - loss: 0.2038 - accuracy: 0.9256 - val_loss: 1.4186 - val_accuracy: 0.7044 - lr: 0.0010 - 9s/epoch - 52ms/step
Epoch 22/75
176/176 - 9s - loss: 0.2044 - accuracy: 0.9253 - val_loss: 1.2475 - val_accuracy: 0.7274 - lr: 0.0010 - 9s/epoch - 52ms/step
Epoch 23/75
176/176 - 9s - loss: 0.2027 - accuracy: 0.9257 - val_loss: 1.3521 - val_accuracy: 0.7011 - lr: 0.0010 - 9s/epoch - 52ms/step
Epoch 24/75
176/176 - 9s - loss: 0.2016 - accuracy: 0.9265 - val_loss: 1.3597 - val_accuracy: 0.7126 - lr: 0.0010 - 9s/epoch - 52ms/step
Epoch 25/75
176/176 - 9s - loss: 0.1991 - accuracy: 0.9279 - val_loss: 1.3924 - val_accuracy: 0.7007 - lr: 0.0010 - 9s/epoch - 52ms/step
Epoch 26/75
176/176 - 9s - loss: 0.2017 - accuracy: 0.9263 - val_loss: 1.4195 - val_accuracy: 0.6900 - lr: 0.0010 - 9s/epoch - 52ms/step
Epoch 27/75
176/176 - 9s - loss: 0.1985 - accuracy: 0.9286 - val_loss: 1.3145 - val_accuracy: 0.7130 - lr: 0.0010 - 9s/epoch - 52ms/step
Epoch 28/75
176/176 - 9s - loss: 0.2004 - accuracy: 0.9274 - val_loss: 1.3959 - val_accuracy: 0.7042 - lr: 0.0010 - 9s/epoch - 52ms/step
Epoch 29/75
176/176 - 9s - loss: 0.2003 - accuracy: 0.9271 - val_loss: 1.4120 - val_accuracy: 0.6906 - lr: 0.0010 - 9s/epoch - 52ms/step
Epoch 30/75
176/176 - 9s - loss: 0.1977 - accuracy: 0.9279 - val_loss: 1.4238 - val_accuracy: 0.6967 - lr: 0.0010 - 9s/epoch - 53ms/step
Epoch 31/75
176/176 - 9s - loss: 0.1998 - accuracy: 0.9279 - val_loss: 1.3495 - val_accuracy: 0.7135 - lr: 0.0010 - 9s/epoch - 52ms/step
Epoch 32/75
176/176 - 9s - loss: 0.2025 - accuracy: 0.9268 - val_loss: 1.4763 - val_accuracy: 0.6936 - lr: 0.0010 - 9s/epoch - 52ms/step
Epoch 33/75
176/176 - 9s - loss: 0.1949 - accuracy: 0.9295 - val_loss: 1.4638 - val_accuracy: 0.6897 - lr: 0.0010 - 9s/epoch - 52ms/step
Epoch 34/75
176/176 - 9s - loss: 0.1932 - accuracy: 0.9301 - val_loss: 1.5164 - val_accuracy: 0.6950 - lr: 0.0010 - 9s/epoch - 52ms/step
Epoch 35/75
176/176 - 9s - loss: 0.1954 - accuracy: 0.9289 - val_loss: 1.4913 - val_accuracy: 0.6910 - lr: 0.0010 - 9s/epoch - 53ms/step
Epoch 36/75
176/176 - 9s - loss: 0.1978 - accuracy: 0.9285 - val_loss: 1.4160 - val_accuracy: 0.6968 - lr: 0.0010 - 9s/epoch - 52ms/step
Epoch 37/75
176/176 - 9s - loss: 0.1949 - accuracy: 0.9293 - val_loss: 1.4031 - val_accuracy: 0.7051 - lr: 0.0010 - 9s/epoch - 52ms/step
Epoch 38/75
176/176 - 9s - loss: 0.1922 - accuracy: 0.9305 - val_loss: 1.4779 - val_accuracy: 0.6973 - lr: 0.0010 - 9s/epoch - 52ms/step
Epoch 39/75
176/176 - 9s - loss: 0.1903 - accuracy: 0.9315 - val_loss: 1.4146 - val_accuracy: 0.7046 - lr: 0.0010 - 9s/epoch - 52ms/step
Epoch 40/75
176/176 - 9s - loss: 0.1905 - accuracy: 0.9304 - val_loss: 1.4409 - val_accuracy: 0.7068 - lr: 0.0010 - 9s/epoch - 52ms/step
Epoch 41/75
176/176 - 9s - loss: 0.1932 - accuracy: 0.9303 - val_loss: 1.3780 - val_accuracy: 0.7095 - lr: 0.0010 - 9s/epoch - 52ms/step
Epoch 42/75
176/176 - 9s - loss: 0.1943 - accuracy: 0.9298 - val_loss: 1.3808 - val_accuracy: 0.6979 - lr: 0.0010 - 9s/epoch - 52ms/step
Epoch 43/75
176/176 - 9s - loss: 0.1923 - accuracy: 0.9299 - val_loss: 1.3851 - val_accuracy: 0.7156 - lr: 0.0010 - 9s/epoch - 52ms/step
Epoch 44/75
176/176 - 9s - loss: 0.1930 - accuracy: 0.9299 - val_loss: 1.3660 - val_accuracy: 0.7130 - lr: 0.0010 - 9s/epoch - 52ms/step
Epoch 45/75
176/176 - 9s - loss: 0.1948 - accuracy: 0.9289 - val_loss: 1.5062 - val_accuracy: 0.6917 - lr: 0.0010 - 9s/epoch - 52ms/step
Epoch 46/75
176/176 - 9s - loss: 0.1930 - accuracy: 0.9303 - val_loss: 1.4535 - val_accuracy: 0.7018 - lr: 0.0010 - 9s/epoch - 53ms/step
Epoch 47/75
176/176 - 9s - loss: 0.1868 - accuracy: 0.9322 - val_loss: 1.4687 - val_accuracy: 0.7059 - lr: 0.0010 - 9s/epoch - 52ms/step
Epoch 48/75
176/176 - 9s - loss: 0.1844 - accuracy: 0.9336 - val_loss: 1.5556 - val_accuracy: 0.6853 - lr: 0.0010 - 9s/epoch - 52ms/step
Epoch 49/75
176/176 - 9s - loss: 0.1889 - accuracy: 0.9317 - val_loss: 1.4498 - val_accuracy: 0.7002 - lr: 0.0010 - 9s/epoch - 52ms/step
Epoch 50/75
176/176 - 9s - loss: 0.1888 - accuracy: 0.9316 - val_loss: 1.5552 - val_accuracy: 0.6843 - lr: 0.0010 - 9s/epoch - 52ms/step
Epoch 51/75
176/176 - 9s - loss: 0.1921 - accuracy: 0.9303 - val_loss: 1.4896 - val_accuracy: 0.6987 - lr: 0.0010 - 9s/epoch - 52ms/step
Epoch 52/75
176/176 - 9s - loss: 0.1912 - accuracy: 0.9306 - val_loss: 1.4953 - val_accuracy: 0.6975 - lr: 0.0010 - 9s/epoch - 52ms/step
Epoch 53/75
176/176 - 9s - loss: 0.1902 - accuracy: 0.9309 - val_loss: 1.4462 - val_accuracy: 0.7085 - lr: 0.0010 - 9s/epoch - 52ms/step
Epoch 54/75
176/176 - 9s - loss: 0.1897 - accuracy: 0.9319 - val_loss: 1.3834 - val_accuracy: 0.7080 - lr: 0.0010 - 9s/epoch - 52ms/step
Epoch 55/75
176/176 - 9s - loss: 0.1875 - accuracy: 0.9316 - val_loss: 1.4613 - val_accuracy: 0.6986 - lr: 0.0010 - 9s/epoch - 52ms/step
Epoch 56/75
176/176 - 9s - loss: 0.1915 - accuracy: 0.9310 - val_loss: 1.5782 - val_accuracy: 0.6808 - lr: 0.0010 - 9s/epoch - 53ms/step
Epoch 57/75
176/176 - 9s - loss: 0.1886 - accuracy: 0.9317 - val_loss: 1.4677 - val_accuracy: 0.7055 - lr: 0.0010 - 9s/epoch - 52ms/step
Epoch 58/75
176/176 - 9s - loss: 0.1902 - accuracy: 0.9312 - val_loss: 1.3235 - val_accuracy: 0.7146 - lr: 0.0010 - 9s/epoch - 52ms/step
Epoch 59/75
176/176 - 9s - loss: 0.1938 - accuracy: 0.9292 - val_loss: 1.4987 - val_accuracy: 0.6958 - lr: 0.0010 - 9s/epoch - 52ms/step
Epoch 60/75
176/176 - 9s - loss: 0.1916 - accuracy: 0.9304 - val_loss: 1.4675 - val_accuracy: 0.7076 - lr: 0.0010 - 9s/epoch - 52ms/step
Epoch 61/75
176/176 - 9s - loss: 0.1919 - accuracy: 0.9313 - val_loss: 1.4960 - val_accuracy: 0.7089 - lr: 0.0010 - 9s/epoch - 53ms/step
Epoch 62/75
176/176 - 9s - loss: 0.1889 - accuracy: 0.9311 - val_loss: 1.5158 - val_accuracy: 0.6950 - lr: 0.0010 - 9s/epoch - 52ms/step
Epoch 63/75
176/176 - 9s - loss: 0.1890 - accuracy: 0.9312 - val_loss: 1.3619 - val_accuracy: 0.7233 - lr: 0.0010 - 9s/epoch - 52ms/step
Epoch 64/75
176/176 - 9s - loss: 0.1857 - accuracy: 0.9328 - val_loss: 1.5640 - val_accuracy: 0.6934 - lr: 0.0010 - 9s/epoch - 52ms/step
Epoch 65/75
176/176 - 9s - loss: 0.1868 - accuracy: 0.9325 - val_loss: 1.6244 - val_accuracy: 0.6938 - lr: 0.0010 - 9s/epoch - 52ms/step
Epoch 66/75
176/176 - 9s - loss: 0.1881 - accuracy: 0.9328 - val_loss: 1.5532 - val_accuracy: 0.7014 - lr: 0.0010 - 9s/epoch - 52ms/step
Epoch 67/75
176/176 - 9s - loss: 0.1879 - accuracy: 0.9322 - val_loss: 1.6022 - val_accuracy: 0.6911 - lr: 0.0010 - 9s/epoch - 52ms/step
Epoch 68/75
176/176 - 9s - loss: 0.1897 - accuracy: 0.9319 - val_loss: 1.4950 - val_accuracy: 0.6910 - lr: 0.0010 - 9s/epoch - 52ms/step
Epoch 69/75
176/176 - 9s - loss: 0.1914 - accuracy: 0.9309 - val_loss: 1.4869 - val_accuracy: 0.7108 - lr: 0.0010 - 9s/epoch - 52ms/step
Epoch 70/75
176/176 - 9s - loss: 0.1887 - accuracy: 0.9321 - val_loss: 1.6439 - val_accuracy: 0.6884 - lr: 0.0010 - 9s/epoch - 52ms/step
Epoch 71/75
176/176 - 9s - loss: 0.1885 - accuracy: 0.9320 - val_loss: 1.5579 - val_accuracy: 0.6923 - lr: 0.0010 - 9s/epoch - 53ms/step
Epoch 72/75
176/176 - 9s - loss: 0.1899 - accuracy: 0.9310 - val_loss: 1.5575 - val_accuracy: 0.7012 - lr: 0.0010 - 9s/epoch - 52ms/step
Epoch 73/75
176/176 - 9s - loss: 0.1851 - accuracy: 0.9336 - val_loss: 1.5317 - val_accuracy: 0.7007 - lr: 0.0010 - 9s/epoch - 52ms/step
Epoch 74/75
176/176 - 9s - loss: 0.1852 - accuracy: 0.9328 - val_loss: 1.5863 - val_accuracy: 0.6861 - lr: 0.0010 - 9s/epoch - 52ms/step
Epoch 75/75
176/176 - 9s - loss: 0.1882 - accuracy: 0.9314 - val_loss: 1.5985 - val_accuracy: 0.6977 - lr: 0.0010 - 9s/epoch - 52ms/step
Epoch 1/75
36/36 - 11s - loss: 0.1745 - accuracy: 0.9371 - val_loss: 1.6107 - val_accuracy: 0.6900 - lr: 0.0010 - 11s/epoch - 293ms/step
Epoch 2/75
36/36 - 8s - loss: 0.1641 - accuracy: 0.9420 - val_loss: 1.6062 - val_accuracy: 0.6913 - lr: 0.0010 - 8s/epoch - 215ms/step
Epoch 3/75
36/36 - 8s - loss: 0.1639 - accuracy: 0.9419 - val_loss: 1.6229 - val_accuracy: 0.6919 - lr: 0.0010 - 8s/epoch - 217ms/step
Epoch 4/75
36/36 - 8s - loss: 0.1570 - accuracy: 0.9449 - val_loss: 1.6377 - val_accuracy: 0.6870 - lr: 0.0010 - 8s/epoch - 216ms/step
Epoch 5/75
36/36 - 8s - loss: 0.1655 - accuracy: 0.9415 - val_loss: 1.7027 - val_accuracy: 0.6816 - lr: 0.0010 - 8s/epoch - 216ms/step
Epoch 6/75
36/36 - 8s - loss: 0.1593 - accuracy: 0.9437 - val_loss: 1.6918 - val_accuracy: 0.6828 - lr: 0.0010 - 8s/epoch - 218ms/step
Epoch 7/75
36/36 - 8s - loss: 0.1587 - accuracy: 0.9435 - val_loss: 1.6703 - val_accuracy: 0.6866 - lr: 0.0010 - 8s/epoch - 217ms/step
Epoch 8/75
36/36 - 8s - loss: 0.1591 - accuracy: 0.9436 - val_loss: 1.6388 - val_accuracy: 0.6906 - lr: 0.0010 - 8s/epoch - 218ms/step
Epoch 9/75
36/36 - 8s - loss: 0.1584 - accuracy: 0.9438 - val_loss: 1.7066 - val_accuracy: 0.6860 - lr: 0.0010 - 8s/epoch - 217ms/step
Epoch 10/75
36/36 - 8s - loss: 0.1577 - accuracy: 0.9437 - val_loss: 1.6906 - val_accuracy: 0.6873 - lr: 0.0010 - 8s/epoch - 216ms/step
Epoch 11/75
36/36 - 8s - loss: 0.1586 - accuracy: 0.9437 - val_loss: 1.6594 - val_accuracy: 0.6920 - lr: 0.0010 - 8s/epoch - 217ms/step
Epoch 12/75
36/36 - 8s - loss: 0.1590 - accuracy: 0.9434 - val_loss: 1.6704 - val_accuracy: 0.6914 - lr: 0.0010 - 8s/epoch - 217ms/step
Epoch 13/75
36/36 - 8s - loss: 0.1552 - accuracy: 0.9453 - val_loss: 1.6862 - val_accuracy: 0.6913 - lr: 0.0010 - 8s/epoch - 216ms/step
Epoch 14/75
36/36 - 8s - loss: 0.1630 - accuracy: 0.9428 - val_loss: 1.7091 - val_accuracy: 0.6905 - lr: 0.0010 - 8s/epoch - 216ms/step
Epoch 15/75
36/36 - 8s - loss: 0.1583 - accuracy: 0.9442 - val_loss: 1.7122 - val_accuracy: 0.6894 - lr: 0.0010 - 8s/epoch - 217ms/step
Epoch 16/75
36/36 - 8s - loss: 0.1550 - accuracy: 0.9454 - val_loss: 1.7316 - val_accuracy: 0.6912 - lr: 0.0010 - 8s/epoch - 217ms/step
Epoch 17/75
36/36 - 8s - loss: 0.1531 - accuracy: 0.9463 - val_loss: 1.7526 - val_accuracy: 0.6843 - lr: 0.0010 - 8s/epoch - 219ms/step
Epoch 18/75
36/36 - 8s - loss: 0.1576 - accuracy: 0.9443 - val_loss: 1.7517 - val_accuracy: 0.6878 - lr: 0.0010 - 8s/epoch - 216ms/step
Epoch 19/75
36/36 - 8s - loss: 0.1535 - accuracy: 0.9453 - val_loss: 1.7290 - val_accuracy: 0.6930 - lr: 0.0010 - 8s/epoch - 216ms/step
Epoch 20/75
36/36 - 8s - loss: 0.1549 - accuracy: 0.9455 - val_loss: 1.7382 - val_accuracy: 0.6895 - lr: 0.0010 - 8s/epoch - 218ms/step
Epoch 21/75
36/36 - 8s - loss: 0.1523 - accuracy: 0.9465 - val_loss: 1.7492 - val_accuracy: 0.6909 - lr: 0.0010 - 8s/epoch - 217ms/step
Epoch 22/75
36/36 - 8s - loss: 0.1518 - accuracy: 0.9463 - val_loss: 1.7924 - val_accuracy: 0.6846 - lr: 0.0010 - 8s/epoch - 216ms/step
Epoch 23/75
36/36 - 8s - loss: 0.1578 - accuracy: 0.9438 - val_loss: 1.7859 - val_accuracy: 0.6856 - lr: 0.0010 - 8s/epoch - 217ms/step
Epoch 24/75
36/36 - 8s - loss: 0.1551 - accuracy: 0.9460 - val_loss: 1.7983 - val_accuracy: 0.6873 - lr: 0.0010 - 8s/epoch - 218ms/step
Epoch 25/75
36/36 - 8s - loss: 0.1532 - accuracy: 0.9469 - val_loss: 1.7933 - val_accuracy: 0.6875 - lr: 0.0010 - 8s/epoch - 217ms/step
Epoch 26/75
36/36 - 8s - loss: 0.1535 - accuracy: 0.9466 - val_loss: 1.7322 - val_accuracy: 0.6942 - lr: 0.0010 - 8s/epoch - 217ms/step
Epoch 27/75
36/36 - 8s - loss: 0.1564 - accuracy: 0.9453 - val_loss: 1.7907 - val_accuracy: 0.6878 - lr: 0.0010 - 8s/epoch - 216ms/step
Epoch 28/75
36/36 - 8s - loss: 0.1535 - accuracy: 0.9463 - val_loss: 1.7294 - val_accuracy: 0.6951 - lr: 0.0010 - 8s/epoch - 217ms/step
Epoch 29/75
36/36 - 8s - loss: 0.1525 - accuracy: 0.9462 - val_loss: 1.7975 - val_accuracy: 0.6875 - lr: 0.0010 - 8s/epoch - 218ms/step
Epoch 30/75
36/36 - 8s - loss: 0.1505 - accuracy: 0.9473 - val_loss: 1.8229 - val_accuracy: 0.6858 - lr: 0.0010 - 8s/epoch - 216ms/step
Epoch 31/75
36/36 - 8s - loss: 0.1526 - accuracy: 0.9469 - val_loss: 1.7959 - val_accuracy: 0.6876 - lr: 0.0010 - 8s/epoch - 216ms/step
Epoch 32/75
36/36 - 8s - loss: 0.1527 - accuracy: 0.9453 - val_loss: 1.8153 - val_accuracy: 0.6860 - lr: 0.0010 - 8s/epoch - 217ms/step
Epoch 33/75
36/36 - 8s - loss: 0.1523 - accuracy: 0.9464 - val_loss: 1.8097 - val_accuracy: 0.6852 - lr: 0.0010 - 8s/epoch - 217ms/step
Epoch 34/75
36/36 - 8s - loss: 0.1535 - accuracy: 0.9466 - val_loss: 1.7916 - val_accuracy: 0.6888 - lr: 0.0010 - 8s/epoch - 218ms/step
Epoch 35/75
36/36 - 8s - loss: 0.1516 - accuracy: 0.9468 - val_loss: 1.8065 - val_accuracy: 0.6921 - lr: 0.0010 - 8s/epoch - 216ms/step
Epoch 36/75
36/36 - 8s - loss: 0.1519 - accuracy: 0.9471 - val_loss: 1.8895 - val_accuracy: 0.6786 - lr: 0.0010 - 8s/epoch - 216ms/step
Epoch 37/75
36/36 - 8s - loss: 0.1549 - accuracy: 0.9462 - val_loss: 1.8199 - val_accuracy: 0.6834 - lr: 0.0010 - 8s/epoch - 218ms/step
Epoch 38/75
36/36 - 8s - loss: 0.1532 - accuracy: 0.9468 - val_loss: 1.8373 - val_accuracy: 0.6869 - lr: 0.0010 - 8s/epoch - 217ms/step
Epoch 39/75
36/36 - 8s - loss: 0.1570 - accuracy: 0.9450 - val_loss: 1.8380 - val_accuracy: 0.6821 - lr: 0.0010 - 8s/epoch - 216ms/step
Epoch 40/75
36/36 - 8s - loss: 0.1543 - accuracy: 0.9460 - val_loss: 1.8154 - val_accuracy: 0.6829 - lr: 0.0010 - 8s/epoch - 217ms/step
Epoch 41/75
36/36 - 8s - loss: 0.1538 - accuracy: 0.9461 - val_loss: 1.8159 - val_accuracy: 0.6902 - lr: 0.0010 - 8s/epoch - 218ms/step
Epoch 42/75
36/36 - 8s - loss: 0.1500 - accuracy: 0.9470 - val_loss: 1.8374 - val_accuracy: 0.6829 - lr: 0.0010 - 8s/epoch - 218ms/step
Epoch 43/75
36/36 - 8s - loss: 0.1537 - accuracy: 0.9462 - val_loss: 1.8607 - val_accuracy: 0.6835 - lr: 0.0010 - 8s/epoch - 217ms/step
Epoch 44/75
36/36 - 8s - loss: 0.1507 - accuracy: 0.9474 - val_loss: 1.8456 - val_accuracy: 0.6861 - lr: 0.0010 - 8s/epoch - 216ms/step
Epoch 45/75
36/36 - 8s - loss: 0.1516 - accuracy: 0.9468 - val_loss: 1.9203 - val_accuracy: 0.6802 - lr: 0.0010 - 8s/epoch - 218ms/step
Epoch 46/75
36/36 - 8s - loss: 0.1513 - accuracy: 0.9470 - val_loss: 1.8485 - val_accuracy: 0.6847 - lr: 0.0010 - 8s/epoch - 217ms/step
Epoch 47/75
36/36 - 8s - loss: 0.1530 - accuracy: 0.9464 - val_loss: 1.8128 - val_accuracy: 0.6898 - lr: 0.0010 - 8s/epoch - 217ms/step
Epoch 48/75
36/36 - 8s - loss: 0.1546 - accuracy: 0.9467 - val_loss: 1.8151 - val_accuracy: 0.6905 - lr: 0.0010 - 8s/epoch - 216ms/step
Epoch 49/75
36/36 - 8s - loss: 0.1523 - accuracy: 0.9470 - val_loss: 1.8918 - val_accuracy: 0.6818 - lr: 0.0010 - 8s/epoch - 217ms/step
Epoch 50/75
36/36 - 8s - loss: 0.1523 - accuracy: 0.9460 - val_loss: 1.8277 - val_accuracy: 0.6910 - lr: 0.0010 - 8s/epoch - 218ms/step
Epoch 51/75
36/36 - 8s - loss: 0.1560 - accuracy: 0.9453 - val_loss: 1.8537 - val_accuracy: 0.6853 - lr: 0.0010 - 8s/epoch - 220ms/step
Epoch 52/75
36/36 - 8s - loss: 0.1536 - accuracy: 0.9462 - val_loss: 1.8385 - val_accuracy: 0.6894 - lr: 0.0010 - 8s/epoch - 216ms/step
Epoch 53/75
36/36 - 8s - loss: 0.1521 - accuracy: 0.9468 - val_loss: 1.9199 - val_accuracy: 0.6783 - lr: 0.0010 - 8s/epoch - 216ms/step
Epoch 54/75
36/36 - 8s - loss: 0.1551 - accuracy: 0.9461 - val_loss: 1.7728 - val_accuracy: 0.6947 - lr: 0.0010 - 8s/epoch - 218ms/step
Epoch 55/75
36/36 - 8s - loss: 0.1590 - accuracy: 0.9439 - val_loss: 1.8807 - val_accuracy: 0.6836 - lr: 0.0010 - 8s/epoch - 217ms/step
Epoch 56/75
36/36 - 8s - loss: 0.1523 - accuracy: 0.9463 - val_loss: 1.8439 - val_accuracy: 0.6892 - lr: 0.0010 - 8s/epoch - 217ms/step
Epoch 57/75
36/36 - 8s - loss: 0.1489 - accuracy: 0.9470 - val_loss: 1.8463 - val_accuracy: 0.6911 - lr: 0.0010 - 8s/epoch - 219ms/step
Epoch 58/75
36/36 - 8s - loss: 0.1463 - accuracy: 0.9492 - val_loss: 1.8465 - val_accuracy: 0.6914 - lr: 0.0010 - 8s/epoch - 218ms/step
Epoch 59/75
36/36 - 8s - loss: 0.1495 - accuracy: 0.9472 - val_loss: 1.8413 - val_accuracy: 0.6882 - lr: 0.0010 - 8s/epoch - 217ms/step
Epoch 60/75
36/36 - 8s - loss: 0.1532 - accuracy: 0.9466 - val_loss: 1.8061 - val_accuracy: 0.6929 - lr: 0.0010 - 8s/epoch - 217ms/step
Epoch 61/75
36/36 - 8s - loss: 0.1504 - accuracy: 0.9475 - val_loss: 1.8542 - val_accuracy: 0.6876 - lr: 0.0010 - 8s/epoch - 216ms/step
Epoch 62/75
36/36 - 8s - loss: 0.1477 - accuracy: 0.9491 - val_loss: 1.9005 - val_accuracy: 0.6818 - lr: 0.0010 - 8s/epoch - 217ms/step
Epoch 63/75
36/36 - 8s - loss: 0.1483 - accuracy: 0.9481 - val_loss: 1.9402 - val_accuracy: 0.6776 - lr: 0.0010 - 8s/epoch - 219ms/step
Epoch 64/75
36/36 - 8s - loss: 0.1502 - accuracy: 0.9473 - val_loss: 1.9191 - val_accuracy: 0.6854 - lr: 0.0010 - 8s/epoch - 216ms/step
Epoch 65/75
36/36 - 8s - loss: 0.1499 - accuracy: 0.9469 - val_loss: 1.9438 - val_accuracy: 0.6799 - lr: 0.0010 - 8s/epoch - 216ms/step
Epoch 66/75
36/36 - 8s - loss: 0.1526 - accuracy: 0.9471 - val_loss: 1.9461 - val_accuracy: 0.6776 - lr: 0.0010 - 8s/epoch - 218ms/step
Epoch 67/75
36/36 - 8s - loss: 0.1518 - accuracy: 0.9457 - val_loss: 1.9520 - val_accuracy: 0.6799 - lr: 0.0010 - 8s/epoch - 218ms/step
Epoch 68/75
36/36 - 8s - loss: 0.1494 - accuracy: 0.9476 - val_loss: 1.9396 - val_accuracy: 0.6791 - lr: 0.0010 - 8s/epoch - 218ms/step
Epoch 69/75
36/36 - 8s - loss: 0.1493 - accuracy: 0.9477 - val_loss: 1.9189 - val_accuracy: 0.6829 - lr: 0.0010 - 8s/epoch - 216ms/step
Epoch 70/75
36/36 - 8s - loss: 0.1526 - accuracy: 0.9471 - val_loss: 1.9511 - val_accuracy: 0.6824 - lr: 0.0010 - 8s/epoch - 217ms/step
Epoch 71/75
36/36 - 8s - loss: 0.1491 - accuracy: 0.9475 - val_loss: 1.9413 - val_accuracy: 0.6823 - lr: 0.0010 - 8s/epoch - 217ms/step
Epoch 72/75
36/36 - 8s - loss: 0.1501 - accuracy: 0.9479 - val_loss: 1.9735 - val_accuracy: 0.6776 - lr: 0.0010 - 8s/epoch - 217ms/step
Epoch 73/75
36/36 - 8s - loss: 0.1495 - accuracy: 0.9479 - val_loss: 1.8927 - val_accuracy: 0.6860 - lr: 0.0010 - 8s/epoch - 217ms/step
Epoch 74/75
36/36 - 8s - loss: 0.1487 - accuracy: 0.9477 - val_loss: 1.9577 - val_accuracy: 0.6789 - lr: 0.0010 - 8s/epoch - 217ms/step
Epoch 75/75
36/36 - 8s - loss: 0.1494 - accuracy: 0.9484 - val_loss: 1.9610 - val_accuracy: 0.6802 - lr: 0.0010 - 8s/epoch - 217ms/step
Epoch 1/100
4378/4378 - 73s - loss: 0.3347 - accuracy: 0.8791 - val_loss: 1.2244 - val_accuracy: 0.6951 - lr: 0.0010 - 73s/epoch - 17ms/step
Epoch 2/100
4378/4378 - 71s - loss: 0.3366 - accuracy: 0.8753 - val_loss: 1.0757 - val_accuracy: 0.6978 - lr: 0.0010 - 71s/epoch - 16ms/step
Epoch 3/100
4378/4378 - 71s - loss: 0.3372 - accuracy: 0.8741 - val_loss: 0.9276 - val_accuracy: 0.7291 - lr: 0.0010 - 71s/epoch - 16ms/step
Epoch 4/100
4378/4378 - 71s - loss: 0.3411 - accuracy: 0.8729 - val_loss: 1.0703 - val_accuracy: 0.7112 - lr: 0.0010 - 71s/epoch - 16ms/step
Epoch 5/100
4378/4378 - 71s - loss: 0.3389 - accuracy: 0.8724 - val_loss: 1.0318 - val_accuracy: 0.7032 - lr: 0.0010 - 71s/epoch - 16ms/step
Epoch 6/100
4378/4378 - 71s - loss: 0.3451 - accuracy: 0.8698 - val_loss: 0.9725 - val_accuracy: 0.7090 - lr: 0.0010 - 71s/epoch - 16ms/step
Epoch 7/100
4378/4378 - 71s - loss: 0.3432 - accuracy: 0.8714 - val_loss: 1.0590 - val_accuracy: 0.7016 - lr: 0.0010 - 71s/epoch - 16ms/step
Epoch 8/100
4378/4378 - 71s - loss: 0.3452 - accuracy: 0.8695 - val_loss: 0.9481 - val_accuracy: 0.7023 - lr: 0.0010 - 71s/epoch - 16ms/step
Epoch 9/100
4378/4378 - 72s - loss: 0.3428 - accuracy: 0.8709 - val_loss: 0.8816 - val_accuracy: 0.7310 - lr: 0.0010 - 72s/epoch - 16ms/step
Epoch 10/100
4378/4378 - 71s - loss: 0.3432 - accuracy: 0.8714 - val_loss: 0.8307 - val_accuracy: 0.7448 - lr: 0.0010 - 71s/epoch - 16ms/step
Epoch 11/100
4378/4378 - 71s - loss: 0.3449 - accuracy: 0.8705 - val_loss: 0.8446 - val_accuracy: 0.7415 - lr: 0.0010 - 71s/epoch - 16ms/step
Epoch 12/100
4378/4378 - 71s - loss: 0.3429 - accuracy: 0.8717 - val_loss: 0.8670 - val_accuracy: 0.7178 - lr: 0.0010 - 71s/epoch - 16ms/step
Epoch 13/100
4378/4378 - 71s - loss: 0.3433 - accuracy: 0.8713 - val_loss: 1.0037 - val_accuracy: 0.7114 - lr: 0.0010 - 71s/epoch - 16ms/step
Epoch 14/100
4378/4378 - 71s - loss: 0.3457 - accuracy: 0.8713 - val_loss: 0.9324 - val_accuracy: 0.7176 - lr: 0.0010 - 71s/epoch - 16ms/step
Epoch 15/100
4378/4378 - 71s - loss: 0.3438 - accuracy: 0.8709 - val_loss: 0.8421 - val_accuracy: 0.7445 - lr: 0.0010 - 71s/epoch - 16ms/step
Epoch 16/100
4378/4378 - 71s - loss: 0.3454 - accuracy: 0.8707 - val_loss: 0.9655 - val_accuracy: 0.7003 - lr: 0.0010 - 71s/epoch - 16ms/step
Epoch 17/100
4378/4378 - 71s - loss: 0.3405 - accuracy: 0.8721 - val_loss: 0.9303 - val_accuracy: 0.7061 - lr: 0.0010 - 71s/epoch - 16ms/step
Epoch 18/100
4378/4378 - 70s - loss: 0.3430 - accuracy: 0.8713 - val_loss: 0.8740 - val_accuracy: 0.7361 - lr: 0.0010 - 70s/epoch - 16ms/step
Epoch 19/100
4378/4378 - 73s - loss: 0.3435 - accuracy: 0.8720 - val_loss: 0.9436 - val_accuracy: 0.7051 - lr: 0.0010 - 73s/epoch - 17ms/step
Epoch 20/100
4378/4378 - 71s - loss: 0.3400 - accuracy: 0.8719 - val_loss: 0.9171 - val_accuracy: 0.7096 - lr: 0.0010 - 71s/epoch - 16ms/step
Epoch 21/100
4378/4378 - 71s - loss: 0.3441 - accuracy: 0.8709 - val_loss: 0.9388 - val_accuracy: 0.7122 - lr: 0.0010 - 71s/epoch - 16ms/step
Epoch 22/100
4378/4378 - 71s - loss: 0.3444 - accuracy: 0.8708 - val_loss: 0.8713 - val_accuracy: 0.7283 - lr: 0.0010 - 71s/epoch - 16ms/step
Epoch 23/100
4378/4378 - 71s - loss: 0.3439 - accuracy: 0.8724 - val_loss: 0.8800 - val_accuracy: 0.7266 - lr: 0.0010 - 71s/epoch - 16ms/step
Epoch 24/100
4378/4378 - 71s - loss: 0.3416 - accuracy: 0.8707 - val_loss: 0.9653 - val_accuracy: 0.7127 - lr: 0.0010 - 71s/epoch - 16ms/step
Epoch 25/100
4378/4378 - 70s - loss: 0.3402 - accuracy: 0.8727 - val_loss: 0.9432 - val_accuracy: 0.7117 - lr: 0.0010 - 70s/epoch - 16ms/step
Epoch 26/100
4378/4378 - 71s - loss: 0.3411 - accuracy: 0.8718 - val_loss: 0.8765 - val_accuracy: 0.7280 - lr: 0.0010 - 71s/epoch - 16ms/step
Epoch 27/100
4378/4378 - 71s - loss: 0.3451 - accuracy: 0.8715 - val_loss: 0.8226 - val_accuracy: 0.7400 - lr: 0.0010 - 71s/epoch - 16ms/step
Epoch 28/100
4378/4378 - 71s - loss: 0.3411 - accuracy: 0.8730 - val_loss: 0.9348 - val_accuracy: 0.7135 - lr: 0.0010 - 71s/epoch - 16ms/step
Epoch 29/100
4378/4378 - 71s - loss: 0.3437 - accuracy: 0.8709 - val_loss: 0.8083 - val_accuracy: 0.7552 - lr: 0.0010 - 71s/epoch - 16ms/step
Epoch 30/100
4378/4378 - 71s - loss: 0.3416 - accuracy: 0.8720 - val_loss: 1.0117 - val_accuracy: 0.7076 - lr: 0.0010 - 71s/epoch - 16ms/step
Epoch 31/100
4378/4378 - 71s - loss: 0.3398 - accuracy: 0.8722 - val_loss: 0.8646 - val_accuracy: 0.7352 - lr: 0.0010 - 71s/epoch - 16ms/step
Epoch 32/100
4378/4378 - 71s - loss: 0.3396 - accuracy: 0.8726 - val_loss: 0.9470 - val_accuracy: 0.7255 - lr: 0.0010 - 71s/epoch - 16ms/step
Epoch 33/100
4378/4378 - 71s - loss: 0.3386 - accuracy: 0.8735 - val_loss: 0.8447 - val_accuracy: 0.7266 - lr: 0.0010 - 71s/epoch - 16ms/step
Epoch 34/100
4378/4378 - 71s - loss: 0.3388 - accuracy: 0.8717 - val_loss: 0.8745 - val_accuracy: 0.7318 - lr: 0.0010 - 71s/epoch - 16ms/step
Epoch 35/100
4378/4378 - 71s - loss: 0.3397 - accuracy: 0.8718 - val_loss: 0.8251 - val_accuracy: 0.7462 - lr: 0.0010 - 71s/epoch - 16ms/step
Epoch 36/100
4378/4378 - 71s - loss: 0.3391 - accuracy: 0.8735 - val_loss: 0.8678 - val_accuracy: 0.7342 - lr: 0.0010 - 71s/epoch - 16ms/step
Epoch 37/100
4378/4378 - 72s - loss: 0.3410 - accuracy: 0.8724 - val_loss: 0.8360 - val_accuracy: 0.7356 - lr: 0.0010 - 72s/epoch - 16ms/step
Epoch 38/100
4378/4378 - 71s - loss: 0.3424 - accuracy: 0.8711 - val_loss: 0.8459 - val_accuracy: 0.7308 - lr: 0.0010 - 71s/epoch - 16ms/step
Epoch 39/100
4378/4378 - 70s - loss: 0.3396 - accuracy: 0.8729 - val_loss: 0.9213 - val_accuracy: 0.7299 - lr: 0.0010 - 70s/epoch - 16ms/step
Epoch 40/100
4378/4378 - 71s - loss: 0.3394 - accuracy: 0.8723 - val_loss: 0.9499 - val_accuracy: 0.6929 - lr: 0.0010 - 71s/epoch - 16ms/step
Epoch 41/100
4378/4378 - 71s - loss: 0.3425 - accuracy: 0.8715 - val_loss: 0.8636 - val_accuracy: 0.7369 - lr: 0.0010 - 71s/epoch - 16ms/step
Epoch 42/100
4378/4378 - 71s - loss: 0.3408 - accuracy: 0.8723 - val_loss: 0.9204 - val_accuracy: 0.7109 - lr: 0.0010 - 71s/epoch - 16ms/step
Epoch 43/100
4378/4378 - 71s - loss: 0.3375 - accuracy: 0.8731 - val_loss: 0.8059 - val_accuracy: 0.7470 - lr: 0.0010 - 71s/epoch - 16ms/step
Epoch 44/100
4378/4378 - 71s - loss: 0.3370 - accuracy: 0.8748 - val_loss: 0.9763 - val_accuracy: 0.7040 - lr: 0.0010 - 71s/epoch - 16ms/step
Epoch 45/100
4378/4378 - 71s - loss: 0.3377 - accuracy: 0.8737 - val_loss: 0.9120 - val_accuracy: 0.7218 - lr: 0.0010 - 71s/epoch - 16ms/step
Epoch 46/100
4378/4378 - 71s - loss: 0.3366 - accuracy: 0.8737 - val_loss: 0.8639 - val_accuracy: 0.7443 - lr: 0.0010 - 71s/epoch - 16ms/step
Epoch 47/100
4378/4378 - 71s - loss: 0.3360 - accuracy: 0.8738 - val_loss: 0.8781 - val_accuracy: 0.7320 - lr: 0.0010 - 71s/epoch - 16ms/step
Epoch 48/100
4378/4378 - 71s - loss: 0.3392 - accuracy: 0.8735 - val_loss: 0.9154 - val_accuracy: 0.7131 - lr: 0.0010 - 71s/epoch - 16ms/step
Epoch 49/100
4378/4378 - 71s - loss: 0.3374 - accuracy: 0.8738 - val_loss: 0.8197 - val_accuracy: 0.7467 - lr: 0.0010 - 71s/epoch - 16ms/step
Epoch 50/100
4378/4378 - 71s - loss: 0.3339 - accuracy: 0.8751 - val_loss: 1.0001 - val_accuracy: 0.6963 - lr: 0.0010 - 71s/epoch - 16ms/step
Epoch 51/100
4378/4378 - 71s - loss: 0.3358 - accuracy: 0.8743 - val_loss: 1.0467 - val_accuracy: 0.6876 - lr: 0.0010 - 71s/epoch - 16ms/step
Epoch 52/100
4378/4378 - 71s - loss: 0.3425 - accuracy: 0.8702 - val_loss: 0.8978 - val_accuracy: 0.7331 - lr: 0.0010 - 71s/epoch - 16ms/step
Epoch 53/100
4378/4378 - 71s - loss: 0.3391 - accuracy: 0.8725 - val_loss: 0.8396 - val_accuracy: 0.7251 - lr: 0.0010 - 71s/epoch - 16ms/step
Epoch 54/100
4378/4378 - 71s - loss: 0.3380 - accuracy: 0.8725 - val_loss: 0.9176 - val_accuracy: 0.7149 - lr: 0.0010 - 71s/epoch - 16ms/step
Epoch 55/100
4378/4378 - 71s - loss: 0.3355 - accuracy: 0.8749 - val_loss: 0.9133 - val_accuracy: 0.7201 - lr: 0.0010 - 71s/epoch - 16ms/step
Epoch 56/100
4378/4378 - 71s - loss: 0.3351 - accuracy: 0.8743 - val_loss: 0.9272 - val_accuracy: 0.7232 - lr: 0.0010 - 71s/epoch - 16ms/step
Epoch 57/100
4378/4378 - 71s - loss: 0.3362 - accuracy: 0.8742 - val_loss: 0.9150 - val_accuracy: 0.7167 - lr: 0.0010 - 71s/epoch - 16ms/step
Epoch 58/100
4378/4378 - 71s - loss: 0.3365 - accuracy: 0.8734 - val_loss: 0.8005 - val_accuracy: 0.7495 - lr: 0.0010 - 71s/epoch - 16ms/step
Epoch 59/100
4378/4378 - 71s - loss: 0.3389 - accuracy: 0.8727 - val_loss: 0.8404 - val_accuracy: 0.7367 - lr: 0.0010 - 71s/epoch - 16ms/step
Epoch 60/100
4378/4378 - 71s - loss: 0.3388 - accuracy: 0.8730 - val_loss: 0.7924 - val_accuracy: 0.7376 - lr: 0.0010 - 71s/epoch - 16ms/step
Epoch 61/100
4378/4378 - 71s - loss: 0.3341 - accuracy: 0.8739 - val_loss: 0.8498 - val_accuracy: 0.7418 - lr: 0.0010 - 71s/epoch - 16ms/step
Epoch 62/100
4378/4378 - 71s - loss: 0.3335 - accuracy: 0.8752 - val_loss: 0.9683 - val_accuracy: 0.7100 - lr: 0.0010 - 71s/epoch - 16ms/step
Epoch 63/100
4378/4378 - 71s - loss: 0.3363 - accuracy: 0.8733 - val_loss: 0.8570 - val_accuracy: 0.7311 - lr: 0.0010 - 71s/epoch - 16ms/step
Epoch 64/100
4378/4378 - 71s - loss: 0.3379 - accuracy: 0.8740 - val_loss: 0.9361 - val_accuracy: 0.7238 - lr: 0.0010 - 71s/epoch - 16ms/step
Epoch 65/100
4378/4378 - 71s - loss: 0.3361 - accuracy: 0.8739 - val_loss: 0.8699 - val_accuracy: 0.7291 - lr: 0.0010 - 71s/epoch - 16ms/step
Epoch 66/100
4378/4378 - 70s - loss: 0.3347 - accuracy: 0.8747 - val_loss: 0.8358 - val_accuracy: 0.7398 - lr: 0.0010 - 70s/epoch - 16ms/step
Epoch 67/100
4378/4378 - 71s - loss: 0.3355 - accuracy: 0.8748 - val_loss: 0.8829 - val_accuracy: 0.7153 - lr: 0.0010 - 71s/epoch - 16ms/step
Epoch 68/100
4378/4378 - 71s - loss: 0.3356 - accuracy: 0.8744 - val_loss: 0.7660 - val_accuracy: 0.7604 - lr: 0.0010 - 71s/epoch - 16ms/step
Epoch 69/100
4378/4378 - 71s - loss: 0.3315 - accuracy: 0.8758 - val_loss: 0.9532 - val_accuracy: 0.6995 - lr: 0.0010 - 71s/epoch - 16ms/step
Epoch 70/100
4378/4378 - 71s - loss: 0.3282 - accuracy: 0.8768 - val_loss: 0.8397 - val_accuracy: 0.7332 - lr: 0.0010 - 71s/epoch - 16ms/step
Epoch 71/100
4378/4378 - 71s - loss: 0.3303 - accuracy: 0.8773 - val_loss: 0.9013 - val_accuracy: 0.7274 - lr: 0.0010 - 71s/epoch - 16ms/step
Epoch 72/100
4378/4378 - 71s - loss: 0.3330 - accuracy: 0.8757 - val_loss: 0.9235 - val_accuracy: 0.7207 - lr: 0.0010 - 71s/epoch - 16ms/step
Epoch 73/100
4378/4378 - 71s - loss: 0.3312 - accuracy: 0.8753 - val_loss: 0.9076 - val_accuracy: 0.7141 - lr: 0.0010 - 71s/epoch - 16ms/step
Epoch 74/100
4378/4378 - 71s - loss: 0.3300 - accuracy: 0.8768 - val_loss: 0.9315 - val_accuracy: 0.7166 - lr: 0.0010 - 71s/epoch - 16ms/step
Epoch 75/100
4378/4378 - 70s - loss: 0.3325 - accuracy: 0.8770 - val_loss: 0.9665 - val_accuracy: 0.6940 - lr: 0.0010 - 70s/epoch - 16ms/step
Epoch 76/100
4378/4378 - 71s - loss: 0.3339 - accuracy: 0.8755 - val_loss: 0.8784 - val_accuracy: 0.7154 - lr: 0.0010 - 71s/epoch - 16ms/step
Epoch 77/100
4378/4378 - 71s - loss: 0.3328 - accuracy: 0.8753 - val_loss: 0.8408 - val_accuracy: 0.7232 - lr: 0.0010 - 71s/epoch - 16ms/step
Epoch 78/100
4378/4378 - 71s - loss: 0.3336 - accuracy: 0.8760 - val_loss: 0.9534 - val_accuracy: 0.7003 - lr: 0.0010 - 71s/epoch - 16ms/step
Epoch 79/100
4378/4378 - 71s - loss: 0.3317 - accuracy: 0.8750 - val_loss: 0.9201 - val_accuracy: 0.6920 - lr: 0.0010 - 71s/epoch - 16ms/step
Epoch 80/100
4378/4378 - 71s - loss: 0.3303 - accuracy: 0.8762 - val_loss: 0.8676 - val_accuracy: 0.7282 - lr: 0.0010 - 71s/epoch - 16ms/step
Epoch 81/100
4378/4378 - 70s - loss: 0.3306 - accuracy: 0.8765 - val_loss: 0.8216 - val_accuracy: 0.7447 - lr: 0.0010 - 70s/epoch - 16ms/step
Epoch 82/100
4378/4378 - 71s - loss: 0.3322 - accuracy: 0.8755 - val_loss: 0.8847 - val_accuracy: 0.7196 - lr: 0.0010 - 71s/epoch - 16ms/step
Epoch 83/100
4378/4378 - 71s - loss: 0.3311 - accuracy: 0.8758 - val_loss: 0.8103 - val_accuracy: 0.7443 - lr: 0.0010 - 71s/epoch - 16ms/step
Epoch 84/100
4378/4378 - 71s - loss: 0.3314 - accuracy: 0.8783 - val_loss: 0.9233 - val_accuracy: 0.7039 - lr: 0.0010 - 71s/epoch - 16ms/step
Epoch 85/100
4378/4378 - 71s - loss: 0.3302 - accuracy: 0.8773 - val_loss: 0.8940 - val_accuracy: 0.7209 - lr: 0.0010 - 71s/epoch - 16ms/step
Epoch 86/100
4378/4378 - 71s - loss: 0.3279 - accuracy: 0.8781 - val_loss: 0.8057 - val_accuracy: 0.7389 - lr: 0.0010 - 71s/epoch - 16ms/step
Epoch 87/100
4378/4378 - 71s - loss: 0.3277 - accuracy: 0.8770 - val_loss: 0.9160 - val_accuracy: 0.7139 - lr: 0.0010 - 71s/epoch - 16ms/step
Epoch 88/100
4378/4378 - 71s - loss: 0.3308 - accuracy: 0.8777 - val_loss: 0.9819 - val_accuracy: 0.6983 - lr: 0.0010 - 71s/epoch - 16ms/step
Epoch 89/100
4378/4378 - 71s - loss: 0.3297 - accuracy: 0.8766 - val_loss: 0.8455 - val_accuracy: 0.7442 - lr: 0.0010 - 71s/epoch - 16ms/step
Epoch 90/100
4378/4378 - 71s - loss: 0.3285 - accuracy: 0.8768 - val_loss: 0.8632 - val_accuracy: 0.7274 - lr: 0.0010 - 71s/epoch - 16ms/step
Epoch 91/100
4378/4378 - 70s - loss: 0.3251 - accuracy: 0.8788 - val_loss: 0.9073 - val_accuracy: 0.7289 - lr: 0.0010 - 70s/epoch - 16ms/step
Epoch 92/100
4378/4378 - 71s - loss: 0.3280 - accuracy: 0.8777 - val_loss: 0.8433 - val_accuracy: 0.7352 - lr: 0.0010 - 71s/epoch - 16ms/step
Epoch 93/100
4378/4378 - 71s - loss: 0.3295 - accuracy: 0.8765 - val_loss: 0.8457 - val_accuracy: 0.7392 - lr: 0.0010 - 71s/epoch - 16ms/step
Epoch 94/100
4378/4378 - 71s - loss: 0.3268 - accuracy: 0.8779 - val_loss: 0.8853 - val_accuracy: 0.7252 - lr: 0.0010 - 71s/epoch - 16ms/step
Epoch 95/100
4378/4378 - 71s - loss: 0.3309 - accuracy: 0.8749 - val_loss: 0.8716 - val_accuracy: 0.7225 - lr: 0.0010 - 71s/epoch - 16ms/step
Epoch 96/100
4378/4378 - 71s - loss: 0.3250 - accuracy: 0.8781 - val_loss: 0.9037 - val_accuracy: 0.7332 - lr: 0.0010 - 71s/epoch - 16ms/step
Epoch 97/100
4378/4378 - 71s - loss: 0.3264 - accuracy: 0.8782 - val_loss: 0.9280 - val_accuracy: 0.7139 - lr: 0.0010 - 71s/epoch - 16ms/step
Epoch 98/100
4378/4378 - 71s - loss: 0.3234 - accuracy: 0.8790 - val_loss: 0.9807 - val_accuracy: 0.6980 - lr: 0.0010 - 71s/epoch - 16ms/step
Epoch 99/100
4378/4378 - 71s - loss: 0.3241 - accuracy: 0.8800 - val_loss: 0.9890 - val_accuracy: 0.7133 - lr: 0.0010 - 71s/epoch - 16ms/step
Epoch 100/100
4378/4378 - 70s - loss: 0.3236 - accuracy: 0.8797 - val_loss: 0.9555 - val_accuracy: 0.7122 - lr: 0.0010 - 70s/epoch - 16ms/step
Epoch 1/100
876/876 - 21s - loss: 0.2506 - accuracy: 0.9077 - val_loss: 1.0082 - val_accuracy: 0.7154 - lr: 0.0010 - 21s/epoch - 24ms/step
Epoch 2/100
876/876 - 18s - loss: 0.2538 - accuracy: 0.9060 - val_loss: 0.9497 - val_accuracy: 0.7377 - lr: 0.0010 - 18s/epoch - 21ms/step
Epoch 3/100
876/876 - 19s - loss: 0.2560 - accuracy: 0.9043 - val_loss: 1.0300 - val_accuracy: 0.7189 - lr: 0.0010 - 19s/epoch - 21ms/step
Epoch 4/100
876/876 - 19s - loss: 0.2539 - accuracy: 0.9062 - val_loss: 1.1439 - val_accuracy: 0.7044 - lr: 0.0010 - 19s/epoch - 21ms/step
Epoch 5/100
876/876 - 19s - loss: 0.2500 - accuracy: 0.9074 - val_loss: 1.0047 - val_accuracy: 0.7210 - lr: 0.0010 - 19s/epoch - 21ms/step
Epoch 6/100
876/876 - 19s - loss: 0.2452 - accuracy: 0.9091 - val_loss: 1.0136 - val_accuracy: 0.7318 - lr: 0.0010 - 19s/epoch - 21ms/step
Epoch 7/100
876/876 - 19s - loss: 0.2495 - accuracy: 0.9080 - val_loss: 1.1259 - val_accuracy: 0.7017 - lr: 0.0010 - 19s/epoch - 21ms/step
Epoch 8/100
876/876 - 19s - loss: 0.2455 - accuracy: 0.9093 - val_loss: 1.0771 - val_accuracy: 0.7146 - lr: 0.0010 - 19s/epoch - 21ms/step
Epoch 9/100
876/876 - 19s - loss: 0.2463 - accuracy: 0.9091 - val_loss: 0.9940 - val_accuracy: 0.7375 - lr: 0.0010 - 19s/epoch - 21ms/step
Epoch 10/100
876/876 - 19s - loss: 0.2456 - accuracy: 0.9102 - val_loss: 1.0027 - val_accuracy: 0.7226 - lr: 0.0010 - 19s/epoch - 21ms/step
Epoch 11/100
876/876 - 19s - loss: 0.2434 - accuracy: 0.9099 - val_loss: 1.0236 - val_accuracy: 0.7290 - lr: 0.0010 - 19s/epoch - 21ms/step
Epoch 12/100
876/876 - 19s - loss: 0.2417 - accuracy: 0.9097 - val_loss: 1.0805 - val_accuracy: 0.7130 - lr: 0.0010 - 19s/epoch - 21ms/step
Epoch 13/100
876/876 - 19s - loss: 0.2407 - accuracy: 0.9115 - val_loss: 1.0506 - val_accuracy: 0.7144 - lr: 0.0010 - 19s/epoch - 21ms/step
Epoch 14/100
876/876 - 19s - loss: 0.2380 - accuracy: 0.9126 - val_loss: 1.0311 - val_accuracy: 0.7367 - lr: 0.0010 - 19s/epoch - 21ms/step
Epoch 15/100
876/876 - 19s - loss: 0.2417 - accuracy: 0.9115 - val_loss: 1.0546 - val_accuracy: 0.7212 - lr: 0.0010 - 19s/epoch - 21ms/step
Epoch 16/100
876/876 - 19s - loss: 0.2380 - accuracy: 0.9125 - val_loss: 1.0434 - val_accuracy: 0.7251 - lr: 0.0010 - 19s/epoch - 21ms/step
Epoch 17/100
876/876 - 19s - loss: 0.2362 - accuracy: 0.9118 - val_loss: 1.0099 - val_accuracy: 0.7381 - lr: 0.0010 - 19s/epoch - 21ms/step
Epoch 18/100
876/876 - 19s - loss: 0.2374 - accuracy: 0.9126 - val_loss: 1.1130 - val_accuracy: 0.7125 - lr: 0.0010 - 19s/epoch - 21ms/step
Epoch 19/100
876/876 - 19s - loss: 0.2376 - accuracy: 0.9132 - val_loss: 1.0814 - val_accuracy: 0.7193 - lr: 0.0010 - 19s/epoch - 21ms/step
Epoch 20/100
876/876 - 19s - loss: 0.2326 - accuracy: 0.9138 - val_loss: 1.2234 - val_accuracy: 0.7051 - lr: 0.0010 - 19s/epoch - 21ms/step
Epoch 21/100
876/876 - 19s - loss: 0.2299 - accuracy: 0.9163 - val_loss: 1.1029 - val_accuracy: 0.7197 - lr: 0.0010 - 19s/epoch - 21ms/step
Epoch 22/100
876/876 - 19s - loss: 0.2320 - accuracy: 0.9145 - val_loss: 1.1783 - val_accuracy: 0.7070 - lr: 0.0010 - 19s/epoch - 21ms/step
Epoch 23/100
876/876 - 19s - loss: 0.2329 - accuracy: 0.9142 - val_loss: 1.0817 - val_accuracy: 0.7249 - lr: 0.0010 - 19s/epoch - 21ms/step
Epoch 24/100
876/876 - 19s - loss: 0.2327 - accuracy: 0.9143 - val_loss: 1.0837 - val_accuracy: 0.7309 - lr: 0.0010 - 19s/epoch - 21ms/step
Epoch 25/100
876/876 - 19s - loss: 0.2316 - accuracy: 0.9151 - val_loss: 1.0817 - val_accuracy: 0.7232 - lr: 0.0010 - 19s/epoch - 21ms/step
Epoch 26/100
876/876 - 19s - loss: 0.2302 - accuracy: 0.9155 - val_loss: 1.1106 - val_accuracy: 0.7163 - lr: 0.0010 - 19s/epoch - 21ms/step
Epoch 27/100
876/876 - 19s - loss: 0.2327 - accuracy: 0.9142 - val_loss: 1.0895 - val_accuracy: 0.7257 - lr: 0.0010 - 19s/epoch - 21ms/step
Epoch 28/100
876/876 - 19s - loss: 0.2303 - accuracy: 0.9152 - val_loss: 1.1867 - val_accuracy: 0.7054 - lr: 0.0010 - 19s/epoch - 22ms/step
Epoch 29/100
876/876 - 19s - loss: 0.2308 - accuracy: 0.9147 - val_loss: 1.0394 - val_accuracy: 0.7326 - lr: 0.0010 - 19s/epoch - 21ms/step
Epoch 30/100
876/876 - 19s - loss: 0.2280 - accuracy: 0.9168 - val_loss: 1.2473 - val_accuracy: 0.6973 - lr: 0.0010 - 19s/epoch - 22ms/step
Epoch 31/100
876/876 - 19s - loss: 0.2304 - accuracy: 0.9154 - val_loss: 1.1190 - val_accuracy: 0.7183 - lr: 0.0010 - 19s/epoch - 21ms/step
Epoch 32/100
876/876 - 19s - loss: 0.2317 - accuracy: 0.9145 - val_loss: 1.0260 - val_accuracy: 0.7368 - lr: 0.0010 - 19s/epoch - 21ms/step
Epoch 33/100
876/876 - 19s - loss: 0.2296 - accuracy: 0.9154 - val_loss: 1.2556 - val_accuracy: 0.7080 - lr: 0.0010 - 19s/epoch - 21ms/step
Epoch 34/100
876/876 - 19s - loss: 0.2286 - accuracy: 0.9156 - val_loss: 1.0541 - val_accuracy: 0.7305 - lr: 0.0010 - 19s/epoch - 21ms/step
Epoch 35/100
876/876 - 19s - loss: 0.2281 - accuracy: 0.9159 - val_loss: 1.0581 - val_accuracy: 0.7344 - lr: 0.0010 - 19s/epoch - 21ms/step
Epoch 36/100
876/876 - 19s - loss: 0.2267 - accuracy: 0.9163 - val_loss: 1.0916 - val_accuracy: 0.7302 - lr: 0.0010 - 19s/epoch - 21ms/step
Epoch 37/100
876/876 - 19s - loss: 0.2305 - accuracy: 0.9148 - val_loss: 1.1397 - val_accuracy: 0.7222 - lr: 0.0010 - 19s/epoch - 21ms/step
Epoch 38/100
876/876 - 19s - loss: 0.2287 - accuracy: 0.9158 - val_loss: 1.2405 - val_accuracy: 0.6977 - lr: 0.0010 - 19s/epoch - 21ms/step
Epoch 39/100
876/876 - 19s - loss: 0.2275 - accuracy: 0.9171 - val_loss: 1.2146 - val_accuracy: 0.6934 - lr: 0.0010 - 19s/epoch - 21ms/step
Epoch 40/100
876/876 - 19s - loss: 0.2243 - accuracy: 0.9181 - val_loss: 1.2336 - val_accuracy: 0.7001 - lr: 0.0010 - 19s/epoch - 21ms/step
Epoch 41/100
876/876 - 19s - loss: 0.2285 - accuracy: 0.9158 - val_loss: 1.2455 - val_accuracy: 0.7018 - lr: 0.0010 - 19s/epoch - 22ms/step
Epoch 42/100
876/876 - 19s - loss: 0.2288 - accuracy: 0.9161 - val_loss: 1.1027 - val_accuracy: 0.7276 - lr: 0.0010 - 19s/epoch - 21ms/step
Epoch 43/100
876/876 - 19s - loss: 0.2252 - accuracy: 0.9169 - val_loss: 1.0776 - val_accuracy: 0.7331 - lr: 0.0010 - 19s/epoch - 21ms/step
Epoch 44/100
876/876 - 19s - loss: 0.2243 - accuracy: 0.9177 - val_loss: 1.1309 - val_accuracy: 0.7221 - lr: 0.0010 - 19s/epoch - 21ms/step
Epoch 45/100
876/876 - 19s - loss: 0.2280 - accuracy: 0.9161 - val_loss: 1.0584 - val_accuracy: 0.7331 - lr: 0.0010 - 19s/epoch - 21ms/step
Epoch 46/100
876/876 - 19s - loss: 0.2258 - accuracy: 0.9178 - val_loss: 1.1883 - val_accuracy: 0.7073 - lr: 0.0010 - 19s/epoch - 21ms/step
Epoch 47/100
876/876 - 19s - loss: 0.2268 - accuracy: 0.9170 - val_loss: 1.2255 - val_accuracy: 0.7047 - lr: 0.0010 - 19s/epoch - 21ms/step
Epoch 48/100
876/876 - 19s - loss: 0.2272 - accuracy: 0.9166 - val_loss: 1.1584 - val_accuracy: 0.7260 - lr: 0.0010 - 19s/epoch - 21ms/step
Epoch 49/100
876/876 - 19s - loss: 0.2242 - accuracy: 0.9179 - val_loss: 1.1731 - val_accuracy: 0.7060 - lr: 0.0010 - 19s/epoch - 21ms/step
Epoch 50/100
876/876 - 19s - loss: 0.2261 - accuracy: 0.9166 - val_loss: 1.0910 - val_accuracy: 0.7357 - lr: 0.0010 - 19s/epoch - 21ms/step
Epoch 51/100
876/876 - 19s - loss: 0.2257 - accuracy: 0.9174 - val_loss: 1.0751 - val_accuracy: 0.7352 - lr: 0.0010 - 19s/epoch - 21ms/step
Epoch 52/100
876/876 - 19s - loss: 0.2252 - accuracy: 0.9169 - val_loss: 1.3272 - val_accuracy: 0.6951 - lr: 0.0010 - 19s/epoch - 21ms/step
Epoch 53/100
876/876 - 19s - loss: 0.2219 - accuracy: 0.9193 - val_loss: 1.2068 - val_accuracy: 0.7144 - lr: 0.0010 - 19s/epoch - 21ms/step
Epoch 54/100
876/876 - 19s - loss: 0.2239 - accuracy: 0.9182 - val_loss: 1.1534 - val_accuracy: 0.7196 - lr: 0.0010 - 19s/epoch - 21ms/step
Epoch 55/100
876/876 - 19s - loss: 0.2207 - accuracy: 0.9196 - val_loss: 1.1723 - val_accuracy: 0.7038 - lr: 0.0010 - 19s/epoch - 21ms/step
Epoch 56/100
876/876 - 19s - loss: 0.2228 - accuracy: 0.9176 - val_loss: 1.2514 - val_accuracy: 0.6983 - lr: 0.0010 - 19s/epoch - 21ms/step
Epoch 57/100
876/876 - 19s - loss: 0.2224 - accuracy: 0.9180 - val_loss: 1.2275 - val_accuracy: 0.7085 - lr: 0.0010 - 19s/epoch - 22ms/step
Epoch 58/100
876/876 - 21s - loss: 0.2230 - accuracy: 0.9189 - val_loss: 1.1620 - val_accuracy: 0.7181 - lr: 0.0010 - 21s/epoch - 24ms/step
Epoch 59/100
876/876 - 19s - loss: 0.2206 - accuracy: 0.9190 - val_loss: 1.2446 - val_accuracy: 0.7080 - lr: 0.0010 - 19s/epoch - 21ms/step
Epoch 60/100
876/876 - 19s - loss: 0.2194 - accuracy: 0.9186 - val_loss: 1.2015 - val_accuracy: 0.7120 - lr: 0.0010 - 19s/epoch - 21ms/step
Epoch 61/100
876/876 - 19s - loss: 0.2242 - accuracy: 0.9175 - val_loss: 1.2639 - val_accuracy: 0.7131 - lr: 0.0010 - 19s/epoch - 21ms/step
Epoch 62/100
876/876 - 19s - loss: 0.2236 - accuracy: 0.9179 - val_loss: 1.2100 - val_accuracy: 0.7193 - lr: 0.0010 - 19s/epoch - 21ms/step
Epoch 63/100
876/876 - 19s - loss: 0.2222 - accuracy: 0.9183 - val_loss: 1.1876 - val_accuracy: 0.7203 - lr: 0.0010 - 19s/epoch - 21ms/step
Epoch 64/100
876/876 - 19s - loss: 0.2198 - accuracy: 0.9197 - val_loss: 1.2023 - val_accuracy: 0.7024 - lr: 0.0010 - 19s/epoch - 21ms/step
Epoch 65/100
876/876 - 19s - loss: 0.2193 - accuracy: 0.9203 - val_loss: 1.2415 - val_accuracy: 0.7084 - lr: 0.0010 - 19s/epoch - 21ms/step
Epoch 66/100
876/876 - 19s - loss: 0.2226 - accuracy: 0.9193 - val_loss: 1.2946 - val_accuracy: 0.6959 - lr: 0.0010 - 19s/epoch - 21ms/step
Epoch 67/100
876/876 - 19s - loss: 0.2197 - accuracy: 0.9203 - val_loss: 1.1854 - val_accuracy: 0.7169 - lr: 0.0010 - 19s/epoch - 21ms/step
Epoch 68/100
876/876 - 19s - loss: 0.2195 - accuracy: 0.9194 - val_loss: 1.2017 - val_accuracy: 0.7093 - lr: 0.0010 - 19s/epoch - 21ms/step
Epoch 69/100
876/876 - 19s - loss: 0.2231 - accuracy: 0.9181 - val_loss: 1.1759 - val_accuracy: 0.7195 - lr: 0.0010 - 19s/epoch - 21ms/step
Epoch 70/100
876/876 - 19s - loss: 0.2198 - accuracy: 0.9199 - val_loss: 1.1689 - val_accuracy: 0.7174 - lr: 0.0010 - 19s/epoch - 21ms/step
Epoch 71/100
876/876 - 19s - loss: 0.2198 - accuracy: 0.9205 - val_loss: 1.1612 - val_accuracy: 0.7198 - lr: 0.0010 - 19s/epoch - 21ms/step
Epoch 72/100
876/876 - 19s - loss: 0.2193 - accuracy: 0.9195 - val_loss: 1.1165 - val_accuracy: 0.7347 - lr: 0.0010 - 19s/epoch - 21ms/step
Epoch 73/100
876/876 - 19s - loss: 0.2189 - accuracy: 0.9198 - val_loss: 1.1527 - val_accuracy: 0.7362 - lr: 0.0010 - 19s/epoch - 21ms/step
Epoch 74/100
876/876 - 19s - loss: 0.2184 - accuracy: 0.9200 - val_loss: 1.2166 - val_accuracy: 0.7077 - lr: 0.0010 - 19s/epoch - 21ms/step
Epoch 75/100
876/876 - 19s - loss: 0.2196 - accuracy: 0.9196 - val_loss: 1.2038 - val_accuracy: 0.7074 - lr: 0.0010 - 19s/epoch - 21ms/step
Epoch 76/100
876/876 - 19s - loss: 0.2155 - accuracy: 0.9203 - val_loss: 1.2730 - val_accuracy: 0.7050 - lr: 0.0010 - 19s/epoch - 21ms/step
Epoch 77/100
876/876 - 19s - loss: 0.2183 - accuracy: 0.9200 - val_loss: 1.1425 - val_accuracy: 0.7237 - lr: 0.0010 - 19s/epoch - 21ms/step
Epoch 78/100
876/876 - 19s - loss: 0.2216 - accuracy: 0.9193 - val_loss: 1.1656 - val_accuracy: 0.7203 - lr: 0.0010 - 19s/epoch - 21ms/step
Epoch 79/100
876/876 - 19s - loss: 0.2161 - accuracy: 0.9214 - val_loss: 1.1757 - val_accuracy: 0.7223 - lr: 0.0010 - 19s/epoch - 21ms/step
Epoch 80/100
876/876 - 19s - loss: 0.2183 - accuracy: 0.9204 - val_loss: 1.2051 - val_accuracy: 0.7162 - lr: 0.0010 - 19s/epoch - 21ms/step
Epoch 81/100
876/876 - 19s - loss: 0.2172 - accuracy: 0.9203 - val_loss: 1.1227 - val_accuracy: 0.7220 - lr: 0.0010 - 19s/epoch - 21ms/step
Epoch 82/100
876/876 - 19s - loss: 0.2147 - accuracy: 0.9216 - val_loss: 1.1799 - val_accuracy: 0.7188 - lr: 0.0010 - 19s/epoch - 21ms/step
Epoch 83/100
876/876 - 19s - loss: 0.2154 - accuracy: 0.9213 - val_loss: 1.2846 - val_accuracy: 0.6968 - lr: 0.0010 - 19s/epoch - 21ms/step
Epoch 84/100
876/876 - 19s - loss: 0.2162 - accuracy: 0.9208 - val_loss: 1.1415 - val_accuracy: 0.7257 - lr: 0.0010 - 19s/epoch - 21ms/step
Epoch 85/100
876/876 - 19s - loss: 0.2168 - accuracy: 0.9211 - val_loss: 1.0855 - val_accuracy: 0.7314 - lr: 0.0010 - 19s/epoch - 21ms/step
Epoch 86/100
876/876 - 19s - loss: 0.2183 - accuracy: 0.9204 - val_loss: 1.2090 - val_accuracy: 0.7080 - lr: 0.0010 - 19s/epoch - 21ms/step
Epoch 87/100
876/876 - 19s - loss: 0.2135 - accuracy: 0.9223 - val_loss: 1.1187 - val_accuracy: 0.7278 - lr: 0.0010 - 19s/epoch - 21ms/step
Epoch 88/100
876/876 - 19s - loss: 0.2160 - accuracy: 0.9217 - val_loss: 1.1668 - val_accuracy: 0.7246 - lr: 0.0010 - 19s/epoch - 21ms/step
Epoch 89/100
876/876 - 19s - loss: 0.2193 - accuracy: 0.9192 - val_loss: 1.2714 - val_accuracy: 0.7088 - lr: 0.0010 - 19s/epoch - 21ms/step
Epoch 90/100
876/876 - 19s - loss: 0.2164 - accuracy: 0.9212 - val_loss: 1.0813 - val_accuracy: 0.7417 - lr: 0.0010 - 19s/epoch - 21ms/step
Epoch 91/100
876/876 - 19s - loss: 0.2116 - accuracy: 0.9219 - val_loss: 1.2288 - val_accuracy: 0.7058 - lr: 0.0010 - 19s/epoch - 21ms/step
Epoch 92/100
876/876 - 19s - loss: 0.2155 - accuracy: 0.9210 - val_loss: 1.2273 - val_accuracy: 0.7018 - lr: 0.0010 - 19s/epoch - 21ms/step
Epoch 93/100
876/876 - 19s - loss: 0.2174 - accuracy: 0.9207 - val_loss: 1.1228 - val_accuracy: 0.7267 - lr: 0.0010 - 19s/epoch - 21ms/step
Epoch 94/100
876/876 - 19s - loss: 0.2151 - accuracy: 0.9210 - val_loss: 1.2300 - val_accuracy: 0.7068 - lr: 0.0010 - 19s/epoch - 21ms/step
Epoch 95/100
876/876 - 19s - loss: 0.2122 - accuracy: 0.9225 - val_loss: 1.1875 - val_accuracy: 0.7131 - lr: 0.0010 - 19s/epoch - 21ms/step
Epoch 96/100
876/876 - 19s - loss: 0.2182 - accuracy: 0.9199 - val_loss: 1.3292 - val_accuracy: 0.6977 - lr: 0.0010 - 19s/epoch - 21ms/step
Epoch 97/100
876/876 - 19s - loss: 0.2143 - accuracy: 0.9226 - val_loss: 1.2140 - val_accuracy: 0.7129 - lr: 0.0010 - 19s/epoch - 21ms/step
Epoch 98/100
876/876 - 19s - loss: 0.2114 - accuracy: 0.9217 - val_loss: 1.1929 - val_accuracy: 0.7228 - lr: 0.0010 - 19s/epoch - 21ms/step
Epoch 99/100
876/876 - 19s - loss: 0.2185 - accuracy: 0.9204 - val_loss: 1.2577 - val_accuracy: 0.7094 - lr: 0.0010 - 19s/epoch - 21ms/step
Epoch 100/100
876/876 - 19s - loss: 0.2174 - accuracy: 0.9199 - val_loss: 1.2655 - val_accuracy: 0.6983 - lr: 0.0010 - 19s/epoch - 21ms/step
Epoch 1/100
176/176 - 12s - loss: 0.1724 - accuracy: 0.9385 - val_loss: 1.3424 - val_accuracy: 0.7026 - lr: 0.0010 - 12s/epoch - 68ms/step
Epoch 2/100
176/176 - 9s - loss: 0.1583 - accuracy: 0.9446 - val_loss: 1.3930 - val_accuracy: 0.7020 - lr: 0.0010 - 9s/epoch - 52ms/step
Epoch 3/100
176/176 - 9s - loss: 0.1568 - accuracy: 0.9458 - val_loss: 1.3744 - val_accuracy: 0.7061 - lr: 0.0010 - 9s/epoch - 52ms/step
Epoch 4/100
176/176 - 9s - loss: 0.1569 - accuracy: 0.9442 - val_loss: 1.3778 - val_accuracy: 0.6990 - lr: 0.0010 - 9s/epoch - 52ms/step
Epoch 5/100
176/176 - 9s - loss: 0.1596 - accuracy: 0.9436 - val_loss: 1.4107 - val_accuracy: 0.7036 - lr: 0.0010 - 9s/epoch - 52ms/step
Epoch 6/100
176/176 - 9s - loss: 0.1613 - accuracy: 0.9430 - val_loss: 1.4420 - val_accuracy: 0.7021 - lr: 0.0010 - 9s/epoch - 52ms/step
Epoch 7/100
176/176 - 9s - loss: 0.1621 - accuracy: 0.9420 - val_loss: 1.5049 - val_accuracy: 0.6942 - lr: 0.0010 - 9s/epoch - 51ms/step
Epoch 8/100
176/176 - 9s - loss: 0.1624 - accuracy: 0.9428 - val_loss: 1.4854 - val_accuracy: 0.6993 - lr: 0.0010 - 9s/epoch - 52ms/step
Epoch 9/100
176/176 - 9s - loss: 0.1613 - accuracy: 0.9423 - val_loss: 1.4609 - val_accuracy: 0.7092 - lr: 0.0010 - 9s/epoch - 52ms/step
Epoch 10/100
176/176 - 9s - loss: 0.1630 - accuracy: 0.9420 - val_loss: 1.5844 - val_accuracy: 0.6918 - lr: 0.0010 - 9s/epoch - 52ms/step
Epoch 11/100
176/176 - 9s - loss: 0.1615 - accuracy: 0.9426 - val_loss: 1.5201 - val_accuracy: 0.6956 - lr: 0.0010 - 9s/epoch - 52ms/step
Epoch 12/100
176/176 - 9s - loss: 0.1565 - accuracy: 0.9441 - val_loss: 1.5545 - val_accuracy: 0.6979 - lr: 0.0010 - 9s/epoch - 52ms/step
Epoch 13/100
176/176 - 9s - loss: 0.1563 - accuracy: 0.9453 - val_loss: 1.5693 - val_accuracy: 0.6936 - lr: 0.0010 - 9s/epoch - 52ms/step
Epoch 14/100
176/176 - 9s - loss: 0.1558 - accuracy: 0.9444 - val_loss: 1.6356 - val_accuracy: 0.6906 - lr: 0.0010 - 9s/epoch - 52ms/step
Epoch 15/100
176/176 - 9s - loss: 0.1590 - accuracy: 0.9440 - val_loss: 1.5588 - val_accuracy: 0.6956 - lr: 0.0010 - 9s/epoch - 53ms/step
Epoch 16/100
176/176 - 9s - loss: 0.1596 - accuracy: 0.9434 - val_loss: 1.4852 - val_accuracy: 0.7096 - lr: 0.0010 - 9s/epoch - 53ms/step
Epoch 17/100
176/176 - 9s - loss: 0.1572 - accuracy: 0.9444 - val_loss: 1.5378 - val_accuracy: 0.6995 - lr: 0.0010 - 9s/epoch - 53ms/step
Epoch 18/100
176/176 - 9s - loss: 0.1606 - accuracy: 0.9433 - val_loss: 1.5359 - val_accuracy: 0.7014 - lr: 0.0010 - 9s/epoch - 52ms/step
Epoch 19/100
176/176 - 9s - loss: 0.1589 - accuracy: 0.9432 - val_loss: 1.5402 - val_accuracy: 0.7030 - lr: 0.0010 - 9s/epoch - 52ms/step
Epoch 20/100
176/176 - 9s - loss: 0.1594 - accuracy: 0.9431 - val_loss: 1.4998 - val_accuracy: 0.7119 - lr: 0.0010 - 9s/epoch - 53ms/step
Epoch 21/100
176/176 - 9s - loss: 0.1608 - accuracy: 0.9424 - val_loss: 1.5183 - val_accuracy: 0.7098 - lr: 0.0010 - 9s/epoch - 52ms/step
Epoch 22/100
176/176 - 9s - loss: 0.1598 - accuracy: 0.9435 - val_loss: 1.5652 - val_accuracy: 0.7062 - lr: 0.0010 - 9s/epoch - 52ms/step
Epoch 23/100
176/176 - 9s - loss: 0.1614 - accuracy: 0.9435 - val_loss: 1.6827 - val_accuracy: 0.6881 - lr: 0.0010 - 9s/epoch - 52ms/step
Epoch 24/100
176/176 - 9s - loss: 0.1602 - accuracy: 0.9432 - val_loss: 1.5234 - val_accuracy: 0.7094 - lr: 0.0010 - 9s/epoch - 52ms/step
Epoch 25/100
176/176 - 9s - loss: 0.1568 - accuracy: 0.9444 - val_loss: 1.5492 - val_accuracy: 0.7097 - lr: 0.0010 - 9s/epoch - 52ms/step
Epoch 26/100
176/176 - 9s - loss: 0.1593 - accuracy: 0.9433 - val_loss: 1.5471 - val_accuracy: 0.7104 - lr: 0.0010 - 9s/epoch - 52ms/step
Epoch 27/100
176/176 - 9s - loss: 0.1566 - accuracy: 0.9440 - val_loss: 1.6079 - val_accuracy: 0.7015 - lr: 0.0010 - 9s/epoch - 52ms/step
Epoch 28/100
176/176 - 9s - loss: 0.1582 - accuracy: 0.9434 - val_loss: 1.5439 - val_accuracy: 0.7141 - lr: 0.0010 - 9s/epoch - 52ms/step
Epoch 29/100
176/176 - 9s - loss: 0.1568 - accuracy: 0.9446 - val_loss: 1.5861 - val_accuracy: 0.7044 - lr: 0.0010 - 9s/epoch - 52ms/step
Epoch 30/100
176/176 - 9s - loss: 0.1503 - accuracy: 0.9467 - val_loss: 1.6058 - val_accuracy: 0.7060 - lr: 0.0010 - 9s/epoch - 52ms/step
Epoch 31/100
176/176 - 9s - loss: 0.1542 - accuracy: 0.9454 - val_loss: 1.6045 - val_accuracy: 0.6937 - lr: 0.0010 - 9s/epoch - 52ms/step
Epoch 32/100
176/176 - 9s - loss: 0.1535 - accuracy: 0.9463 - val_loss: 1.6985 - val_accuracy: 0.6884 - lr: 0.0010 - 9s/epoch - 53ms/step
Epoch 33/100
176/176 - 9s - loss: 0.1524 - accuracy: 0.9464 - val_loss: 1.6289 - val_accuracy: 0.6969 - lr: 0.0010 - 9s/epoch - 52ms/step
Epoch 34/100
176/176 - 9s - loss: 0.1509 - accuracy: 0.9464 - val_loss: 1.5243 - val_accuracy: 0.7117 - lr: 0.0010 - 9s/epoch - 52ms/step
Epoch 35/100
176/176 - 9s - loss: 0.1537 - accuracy: 0.9451 - val_loss: 1.6023 - val_accuracy: 0.7055 - lr: 0.0010 - 9s/epoch - 52ms/step
Epoch 36/100
176/176 - 9s - loss: 0.1511 - accuracy: 0.9476 - val_loss: 1.5453 - val_accuracy: 0.7130 - lr: 0.0010 - 9s/epoch - 52ms/step
Epoch 37/100
176/176 - 9s - loss: 0.1544 - accuracy: 0.9446 - val_loss: 1.7064 - val_accuracy: 0.6888 - lr: 0.0010 - 9s/epoch - 52ms/step
Epoch 38/100
176/176 - 9s - loss: 0.1489 - accuracy: 0.9480 - val_loss: 1.6888 - val_accuracy: 0.6988 - lr: 0.0010 - 9s/epoch - 53ms/step
Epoch 39/100
176/176 - 9s - loss: 0.1485 - accuracy: 0.9477 - val_loss: 1.6639 - val_accuracy: 0.7031 - lr: 0.0010 - 9s/epoch - 52ms/step
Epoch 40/100
176/176 - 9s - loss: 0.1527 - accuracy: 0.9461 - val_loss: 1.6824 - val_accuracy: 0.7022 - lr: 0.0010 - 9s/epoch - 52ms/step
Epoch 41/100
176/176 - 9s - loss: 0.1532 - accuracy: 0.9461 - val_loss: 1.5504 - val_accuracy: 0.7118 - lr: 0.0010 - 9s/epoch - 52ms/step
Epoch 42/100
176/176 - 9s - loss: 0.1516 - accuracy: 0.9462 - val_loss: 1.7267 - val_accuracy: 0.6984 - lr: 0.0010 - 9s/epoch - 52ms/step
Epoch 43/100
176/176 - 9s - loss: 0.1511 - accuracy: 0.9469 - val_loss: 1.7863 - val_accuracy: 0.6876 - lr: 0.0010 - 9s/epoch - 52ms/step
Epoch 44/100
176/176 - 9s - loss: 0.1495 - accuracy: 0.9467 - val_loss: 1.7641 - val_accuracy: 0.6942 - lr: 0.0010 - 9s/epoch - 52ms/step
Epoch 45/100
176/176 - 9s - loss: 0.1504 - accuracy: 0.9466 - val_loss: 1.6106 - val_accuracy: 0.7128 - lr: 0.0010 - 9s/epoch - 52ms/step
Epoch 46/100
176/176 - 9s - loss: 0.1510 - accuracy: 0.9468 - val_loss: 1.7293 - val_accuracy: 0.7013 - lr: 0.0010 - 9s/epoch - 52ms/step
Epoch 47/100
176/176 - 9s - loss: 0.1488 - accuracy: 0.9468 - val_loss: 1.7185 - val_accuracy: 0.7037 - lr: 0.0010 - 9s/epoch - 52ms/step
Epoch 48/100
176/176 - 9s - loss: 0.1453 - accuracy: 0.9489 - val_loss: 1.7828 - val_accuracy: 0.6860 - lr: 0.0010 - 9s/epoch - 53ms/step
Epoch 49/100
176/176 - 9s - loss: 0.1509 - accuracy: 0.9466 - val_loss: 1.6182 - val_accuracy: 0.7098 - lr: 0.0010 - 9s/epoch - 52ms/step
Epoch 50/100
176/176 - 9s - loss: 0.1510 - accuracy: 0.9478 - val_loss: 1.7438 - val_accuracy: 0.6971 - lr: 0.0010 - 9s/epoch - 52ms/step
Epoch 51/100
176/176 - 9s - loss: 0.1535 - accuracy: 0.9456 - val_loss: 1.7309 - val_accuracy: 0.6943 - lr: 0.0010 - 9s/epoch - 52ms/step
Epoch 52/100
176/176 - 9s - loss: 0.1511 - accuracy: 0.9465 - val_loss: 1.6901 - val_accuracy: 0.7029 - lr: 0.0010 - 9s/epoch - 52ms/step
Epoch 53/100
176/176 - 9s - loss: 0.1524 - accuracy: 0.9465 - val_loss: 1.8071 - val_accuracy: 0.6934 - lr: 0.0010 - 9s/epoch - 52ms/step
Epoch 54/100
176/176 - 9s - loss: 0.1532 - accuracy: 0.9456 - val_loss: 1.8140 - val_accuracy: 0.6934 - lr: 0.0010 - 9s/epoch - 53ms/step
Epoch 55/100
176/176 - 9s - loss: 0.1480 - accuracy: 0.9480 - val_loss: 1.7421 - val_accuracy: 0.6999 - lr: 0.0010 - 9s/epoch - 52ms/step
Epoch 56/100
176/176 - 9s - loss: 0.1520 - accuracy: 0.9462 - val_loss: 1.7784 - val_accuracy: 0.6934 - lr: 0.0010 - 9s/epoch - 52ms/step
Epoch 57/100
176/176 - 9s - loss: 0.1503 - accuracy: 0.9464 - val_loss: 1.7235 - val_accuracy: 0.6990 - lr: 0.0010 - 9s/epoch - 52ms/step
Epoch 58/100
176/176 - 9s - loss: 0.1458 - accuracy: 0.9497 - val_loss: 1.7009 - val_accuracy: 0.7008 - lr: 0.0010 - 9s/epoch - 52ms/step
Epoch 59/100
176/176 - 9s - loss: 0.1444 - accuracy: 0.9486 - val_loss: 1.9020 - val_accuracy: 0.6858 - lr: 0.0010 - 9s/epoch - 53ms/step
Epoch 60/100
176/176 - 9s - loss: 0.1446 - accuracy: 0.9484 - val_loss: 1.8315 - val_accuracy: 0.6906 - lr: 0.0010 - 9s/epoch - 52ms/step
Epoch 61/100
176/176 - 9s - loss: 0.1446 - accuracy: 0.9489 - val_loss: 1.7222 - val_accuracy: 0.7035 - lr: 0.0010 - 9s/epoch - 52ms/step
Epoch 62/100
176/176 - 9s - loss: 0.1455 - accuracy: 0.9491 - val_loss: 1.8829 - val_accuracy: 0.6872 - lr: 0.0010 - 9s/epoch - 52ms/step
Epoch 63/100
176/176 - 9s - loss: 0.1482 - accuracy: 0.9481 - val_loss: 1.8469 - val_accuracy: 0.6956 - lr: 0.0010 - 9s/epoch - 52ms/step
Epoch 64/100
176/176 - 9s - loss: 0.1474 - accuracy: 0.9487 - val_loss: 1.8190 - val_accuracy: 0.6979 - lr: 0.0010 - 9s/epoch - 52ms/step
Epoch 65/100
176/176 - 9s - loss: 0.1490 - accuracy: 0.9468 - val_loss: 1.6824 - val_accuracy: 0.6997 - lr: 0.0010 - 9s/epoch - 52ms/step
Epoch 66/100
176/176 - 9s - loss: 0.1518 - accuracy: 0.9467 - val_loss: 1.6334 - val_accuracy: 0.7218 - lr: 0.0010 - 9s/epoch - 52ms/step
Epoch 67/100
176/176 - 9s - loss: 0.1466 - accuracy: 0.9481 - val_loss: 1.6677 - val_accuracy: 0.7040 - lr: 0.0010 - 9s/epoch - 52ms/step
Epoch 68/100
176/176 - 9s - loss: 0.1489 - accuracy: 0.9473 - val_loss: 1.7281 - val_accuracy: 0.7024 - lr: 0.0010 - 9s/epoch - 52ms/step
Epoch 69/100
176/176 - 9s - loss: 0.1465 - accuracy: 0.9477 - val_loss: 1.7342 - val_accuracy: 0.7020 - lr: 0.0010 - 9s/epoch - 52ms/step
Epoch 70/100
176/176 - 9s - loss: 0.1487 - accuracy: 0.9477 - val_loss: 1.7614 - val_accuracy: 0.6981 - lr: 0.0010 - 9s/epoch - 52ms/step
Epoch 71/100
176/176 - 9s - loss: 0.1466 - accuracy: 0.9492 - val_loss: 1.6969 - val_accuracy: 0.7025 - lr: 0.0010 - 9s/epoch - 52ms/step
Epoch 72/100
176/176 - 9s - loss: 0.1483 - accuracy: 0.9483 - val_loss: 1.6799 - val_accuracy: 0.7124 - lr: 0.0010 - 9s/epoch - 52ms/step
Epoch 73/100
176/176 - 9s - loss: 0.1462 - accuracy: 0.9482 - val_loss: 1.7724 - val_accuracy: 0.6988 - lr: 0.0010 - 9s/epoch - 52ms/step
Epoch 74/100
176/176 - 9s - loss: 0.1509 - accuracy: 0.9480 - val_loss: 1.9239 - val_accuracy: 0.6824 - lr: 0.0010 - 9s/epoch - 52ms/step
Epoch 75/100
176/176 - 9s - loss: 0.1501 - accuracy: 0.9473 - val_loss: 1.6741 - val_accuracy: 0.7130 - lr: 0.0010 - 9s/epoch - 53ms/step
Epoch 76/100
176/176 - 9s - loss: 0.1428 - accuracy: 0.9498 - val_loss: 1.7898 - val_accuracy: 0.6953 - lr: 0.0010 - 9s/epoch - 52ms/step
Epoch 77/100
176/176 - 9s - loss: 0.1462 - accuracy: 0.9484 - val_loss: 1.7507 - val_accuracy: 0.7051 - lr: 0.0010 - 9s/epoch - 52ms/step
Epoch 78/100
176/176 - 9s - loss: 0.1460 - accuracy: 0.9481 - val_loss: 1.8233 - val_accuracy: 0.6966 - lr: 0.0010 - 9s/epoch - 52ms/step
Epoch 79/100
176/176 - 9s - loss: 0.1472 - accuracy: 0.9483 - val_loss: 1.7162 - val_accuracy: 0.7032 - lr: 0.0010 - 9s/epoch - 52ms/step
Epoch 80/100
176/176 - 9s - loss: 0.1476 - accuracy: 0.9472 - val_loss: 1.7194 - val_accuracy: 0.7086 - lr: 0.0010 - 9s/epoch - 52ms/step
Epoch 81/100
176/176 - 9s - loss: 0.1493 - accuracy: 0.9481 - val_loss: 1.7245 - val_accuracy: 0.7085 - lr: 0.0010 - 9s/epoch - 53ms/step
Epoch 82/100
176/176 - 9s - loss: 0.1523 - accuracy: 0.9466 - val_loss: 1.7774 - val_accuracy: 0.6979 - lr: 0.0010 - 9s/epoch - 52ms/step
Epoch 83/100
176/176 - 9s - loss: 0.1536 - accuracy: 0.9459 - val_loss: 1.7754 - val_accuracy: 0.6978 - lr: 0.0010 - 9s/epoch - 52ms/step
Epoch 84/100
176/176 - 9s - loss: 0.1469 - accuracy: 0.9484 - val_loss: 1.8459 - val_accuracy: 0.6859 - lr: 0.0010 - 9s/epoch - 52ms/step
Epoch 85/100
176/176 - 9s - loss: 0.1420 - accuracy: 0.9506 - val_loss: 1.7388 - val_accuracy: 0.7038 - lr: 0.0010 - 9s/epoch - 52ms/step
Epoch 86/100
176/176 - 9s - loss: 0.1435 - accuracy: 0.9499 - val_loss: 1.7006 - val_accuracy: 0.7087 - lr: 0.0010 - 9s/epoch - 53ms/step
Epoch 87/100
176/176 - 9s - loss: 0.1421 - accuracy: 0.9502 - val_loss: 1.8453 - val_accuracy: 0.6946 - lr: 0.0010 - 9s/epoch - 52ms/step
Epoch 88/100
176/176 - 9s - loss: 0.1370 - accuracy: 0.9521 - val_loss: 1.8816 - val_accuracy: 0.6971 - lr: 0.0010 - 9s/epoch - 52ms/step
Epoch 89/100
176/176 - 9s - loss: 0.1403 - accuracy: 0.9518 - val_loss: 1.9963 - val_accuracy: 0.6790 - lr: 0.0010 - 9s/epoch - 52ms/step
Epoch 90/100
176/176 - 9s - loss: 0.1392 - accuracy: 0.9524 - val_loss: 1.8452 - val_accuracy: 0.6890 - lr: 0.0010 - 9s/epoch - 52ms/step
Epoch 91/100
176/176 - 9s - loss: 0.1387 - accuracy: 0.9510 - val_loss: 1.8371 - val_accuracy: 0.6913 - lr: 0.0010 - 9s/epoch - 52ms/step
Epoch 92/100
176/176 - 9s - loss: 0.1425 - accuracy: 0.9503 - val_loss: 1.7515 - val_accuracy: 0.7033 - lr: 0.0010 - 9s/epoch - 53ms/step
Epoch 93/100
176/176 - 9s - loss: 0.1409 - accuracy: 0.9510 - val_loss: 1.7628 - val_accuracy: 0.7023 - lr: 0.0010 - 9s/epoch - 53ms/step
Epoch 94/100
176/176 - 9s - loss: 0.1433 - accuracy: 0.9502 - val_loss: 1.8484 - val_accuracy: 0.6979 - lr: 0.0010 - 9s/epoch - 52ms/step
Epoch 95/100
176/176 - 9s - loss: 0.1484 - accuracy: 0.9477 - val_loss: 1.8908 - val_accuracy: 0.6787 - lr: 0.0010 - 9s/epoch - 52ms/step
Epoch 96/100
176/176 - 9s - loss: 0.1491 - accuracy: 0.9475 - val_loss: 1.7911 - val_accuracy: 0.6974 - lr: 0.0010 - 9s/epoch - 52ms/step
Epoch 97/100
176/176 - 9s - loss: 0.1496 - accuracy: 0.9476 - val_loss: 1.9117 - val_accuracy: 0.6876 - lr: 0.0010 - 9s/epoch - 52ms/step
Epoch 98/100
176/176 - 9s - loss: 0.1488 - accuracy: 0.9477 - val_loss: 1.8441 - val_accuracy: 0.7022 - lr: 0.0010 - 9s/epoch - 52ms/step
Epoch 99/100
176/176 - 9s - loss: 0.1485 - accuracy: 0.9476 - val_loss: 1.7478 - val_accuracy: 0.6963 - lr: 0.0010 - 9s/epoch - 52ms/step
Epoch 100/100
176/176 - 9s - loss: 0.1486 - accuracy: 0.9484 - val_loss: 1.7488 - val_accuracy: 0.7024 - lr: 0.0010 - 9s/epoch - 52ms/step
Epoch 1/100
36/36 - 10s - loss: 0.1376 - accuracy: 0.9519 - val_loss: 1.8933 - val_accuracy: 0.6886 - lr: 0.0010 - 10s/epoch - 280ms/step
Epoch 2/100
36/36 - 8s - loss: 0.1243 - accuracy: 0.9572 - val_loss: 1.9275 - val_accuracy: 0.6841 - lr: 0.0010 - 8s/epoch - 216ms/step
Epoch 3/100
36/36 - 8s - loss: 0.1207 - accuracy: 0.9588 - val_loss: 1.9145 - val_accuracy: 0.6903 - lr: 0.0010 - 8s/epoch - 217ms/step
Epoch 4/100
36/36 - 8s - loss: 0.1223 - accuracy: 0.9582 - val_loss: 1.9159 - val_accuracy: 0.6895 - lr: 0.0010 - 8s/epoch - 217ms/step
Epoch 5/100
36/36 - 8s - loss: 0.1240 - accuracy: 0.9581 - val_loss: 1.8788 - val_accuracy: 0.6950 - lr: 0.0010 - 8s/epoch - 217ms/step
Epoch 6/100
36/36 - 8s - loss: 0.1241 - accuracy: 0.9571 - val_loss: 1.9127 - val_accuracy: 0.6933 - lr: 0.0010 - 8s/epoch - 216ms/step
Epoch 7/100
36/36 - 8s - loss: 0.1206 - accuracy: 0.9583 - val_loss: 1.9749 - val_accuracy: 0.6876 - lr: 0.0010 - 8s/epoch - 217ms/step
Epoch 8/100
36/36 - 8s - loss: 0.1218 - accuracy: 0.9583 - val_loss: 1.9362 - val_accuracy: 0.6904 - lr: 0.0010 - 8s/epoch - 218ms/step
Epoch 9/100
36/36 - 8s - loss: 0.1178 - accuracy: 0.9593 - val_loss: 2.0140 - val_accuracy: 0.6820 - lr: 0.0010 - 8s/epoch - 219ms/step
Epoch 10/100
36/36 - 8s - loss: 0.1194 - accuracy: 0.9591 - val_loss: 1.9900 - val_accuracy: 0.6873 - lr: 0.0010 - 8s/epoch - 216ms/step
Epoch 11/100
36/36 - 8s - loss: 0.1198 - accuracy: 0.9592 - val_loss: 2.0469 - val_accuracy: 0.6821 - lr: 0.0010 - 8s/epoch - 217ms/step
Epoch 12/100
36/36 - 8s - loss: 0.1210 - accuracy: 0.9592 - val_loss: 1.9773 - val_accuracy: 0.6881 - lr: 0.0010 - 8s/epoch - 218ms/step
Epoch 13/100
36/36 - 8s - loss: 0.1208 - accuracy: 0.9586 - val_loss: 1.9894 - val_accuracy: 0.6837 - lr: 0.0010 - 8s/epoch - 218ms/step
Epoch 14/100
36/36 - 8s - loss: 0.1198 - accuracy: 0.9588 - val_loss: 2.0258 - val_accuracy: 0.6839 - lr: 0.0010 - 8s/epoch - 218ms/step
Epoch 15/100
36/36 - 8s - loss: 0.1149 - accuracy: 0.9605 - val_loss: 2.0054 - val_accuracy: 0.6899 - lr: 0.0010 - 8s/epoch - 216ms/step
Epoch 16/100
36/36 - 8s - loss: 0.1177 - accuracy: 0.9595 - val_loss: 1.9801 - val_accuracy: 0.6894 - lr: 0.0010 - 8s/epoch - 218ms/step
Epoch 17/100
36/36 - 8s - loss: 0.1191 - accuracy: 0.9593 - val_loss: 2.0265 - val_accuracy: 0.6853 - lr: 0.0010 - 8s/epoch - 218ms/step
Epoch 18/100
36/36 - 8s - loss: 0.1205 - accuracy: 0.9584 - val_loss: 2.0216 - val_accuracy: 0.6889 - lr: 0.0010 - 8s/epoch - 216ms/step
Epoch 19/100
36/36 - 8s - loss: 0.1148 - accuracy: 0.9607 - val_loss: 2.0373 - val_accuracy: 0.6862 - lr: 0.0010 - 8s/epoch - 217ms/step
Epoch 20/100
36/36 - 8s - loss: 0.1136 - accuracy: 0.9609 - val_loss: 2.0429 - val_accuracy: 0.6848 - lr: 0.0010 - 8s/epoch - 218ms/step
Epoch 21/100
36/36 - 8s - loss: 0.1167 - accuracy: 0.9599 - val_loss: 2.0468 - val_accuracy: 0.6875 - lr: 0.0010 - 8s/epoch - 220ms/step
Epoch 22/100
36/36 - 8s - loss: 0.1176 - accuracy: 0.9604 - val_loss: 2.0112 - val_accuracy: 0.6919 - lr: 0.0010 - 8s/epoch - 218ms/step
Epoch 23/100
36/36 - 8s - loss: 0.1168 - accuracy: 0.9600 - val_loss: 2.0683 - val_accuracy: 0.6857 - lr: 0.0010 - 8s/epoch - 217ms/step
Epoch 24/100
36/36 - 8s - loss: 0.1163 - accuracy: 0.9608 - val_loss: 2.0648 - val_accuracy: 0.6882 - lr: 0.0010 - 8s/epoch - 217ms/step
Epoch 25/100
36/36 - 8s - loss: 0.1146 - accuracy: 0.9610 - val_loss: 2.0154 - val_accuracy: 0.6914 - lr: 0.0010 - 8s/epoch - 218ms/step
Epoch 26/100
36/36 - 8s - loss: 0.1180 - accuracy: 0.9597 - val_loss: 2.0665 - val_accuracy: 0.6886 - lr: 0.0010 - 8s/epoch - 217ms/step
Epoch 27/100
36/36 - 8s - loss: 0.1156 - accuracy: 0.9607 - val_loss: 2.0507 - val_accuracy: 0.6881 - lr: 0.0010 - 8s/epoch - 217ms/step
Epoch 28/100
36/36 - 8s - loss: 0.1165 - accuracy: 0.9599 - val_loss: 2.0266 - val_accuracy: 0.6899 - lr: 0.0010 - 8s/epoch - 218ms/step
Epoch 29/100
36/36 - 8s - loss: 0.1136 - accuracy: 0.9615 - val_loss: 2.0698 - val_accuracy: 0.6868 - lr: 0.0010 - 8s/epoch - 218ms/step
Epoch 30/100
36/36 - 8s - loss: 0.1165 - accuracy: 0.9610 - val_loss: 2.0770 - val_accuracy: 0.6879 - lr: 0.0010 - 8s/epoch - 218ms/step
Epoch 31/100
36/36 - 8s - loss: 0.1131 - accuracy: 0.9618 - val_loss: 2.0641 - val_accuracy: 0.6893 - lr: 0.0010 - 8s/epoch - 217ms/step
Epoch 32/100
36/36 - 8s - loss: 0.1148 - accuracy: 0.9612 - val_loss: 2.0618 - val_accuracy: 0.6879 - lr: 0.0010 - 8s/epoch - 216ms/step
Epoch 33/100
36/36 - 8s - loss: 0.1145 - accuracy: 0.9610 - val_loss: 2.1595 - val_accuracy: 0.6794 - lr: 0.0010 - 8s/epoch - 218ms/step
Epoch 34/100
36/36 - 8s - loss: 0.1145 - accuracy: 0.9607 - val_loss: 2.0635 - val_accuracy: 0.6888 - lr: 0.0010 - 8s/epoch - 219ms/step
Epoch 35/100
36/36 - 8s - loss: 0.1138 - accuracy: 0.9614 - val_loss: 2.1373 - val_accuracy: 0.6857 - lr: 0.0010 - 8s/epoch - 216ms/step
Epoch 36/100
36/36 - 8s - loss: 0.1147 - accuracy: 0.9614 - val_loss: 2.1108 - val_accuracy: 0.6858 - lr: 0.0010 - 8s/epoch - 217ms/step
Epoch 37/100
36/36 - 8s - loss: 0.1145 - accuracy: 0.9611 - val_loss: 2.1672 - val_accuracy: 0.6801 - lr: 0.0010 - 8s/epoch - 217ms/step
Epoch 38/100
36/36 - 8s - loss: 0.1177 - accuracy: 0.9606 - val_loss: 2.1591 - val_accuracy: 0.6828 - lr: 0.0010 - 8s/epoch - 218ms/step
Epoch 39/100
36/36 - 8s - loss: 0.1145 - accuracy: 0.9616 - val_loss: 2.1415 - val_accuracy: 0.6835 - lr: 0.0010 - 8s/epoch - 218ms/step
Epoch 40/100
36/36 - 8s - loss: 0.1145 - accuracy: 0.9605 - val_loss: 2.1980 - val_accuracy: 0.6781 - lr: 0.0010 - 8s/epoch - 217ms/step
Epoch 41/100
36/36 - 8s - loss: 0.1103 - accuracy: 0.9625 - val_loss: 2.1711 - val_accuracy: 0.6815 - lr: 0.0010 - 8s/epoch - 217ms/step
Epoch 42/100
36/36 - 8s - loss: 0.1151 - accuracy: 0.9609 - val_loss: 2.1547 - val_accuracy: 0.6834 - lr: 0.0010 - 8s/epoch - 218ms/step
Epoch 43/100
36/36 - 8s - loss: 0.1134 - accuracy: 0.9619 - val_loss: 2.1406 - val_accuracy: 0.6830 - lr: 0.0010 - 8s/epoch - 217ms/step
Epoch 44/100
36/36 - 8s - loss: 0.1172 - accuracy: 0.9598 - val_loss: 2.1487 - val_accuracy: 0.6841 - lr: 0.0010 - 8s/epoch - 217ms/step
Epoch 45/100
36/36 - 8s - loss: 0.1196 - accuracy: 0.9598 - val_loss: 2.1258 - val_accuracy: 0.6834 - lr: 0.0010 - 8s/epoch - 217ms/step
Epoch 46/100
36/36 - 8s - loss: 0.1151 - accuracy: 0.9603 - val_loss: 2.1609 - val_accuracy: 0.6807 - lr: 0.0010 - 8s/epoch - 218ms/step
Epoch 47/100
36/36 - 8s - loss: 0.1157 - accuracy: 0.9611 - val_loss: 2.0934 - val_accuracy: 0.6874 - lr: 0.0010 - 8s/epoch - 218ms/step
Epoch 48/100
36/36 - 8s - loss: 0.1168 - accuracy: 0.9613 - val_loss: 2.1928 - val_accuracy: 0.6800 - lr: 0.0010 - 8s/epoch - 217ms/step
Epoch 49/100
36/36 - 8s - loss: 0.1146 - accuracy: 0.9606 - val_loss: 2.1699 - val_accuracy: 0.6816 - lr: 0.0010 - 8s/epoch - 217ms/step
Epoch 50/100
36/36 - 8s - loss: 0.1136 - accuracy: 0.9616 - val_loss: 2.1348 - val_accuracy: 0.6823 - lr: 0.0010 - 8s/epoch - 217ms/step
Epoch 51/100
36/36 - 8s - loss: 0.1142 - accuracy: 0.9618 - val_loss: 2.1490 - val_accuracy: 0.6822 - lr: 0.0010 - 8s/epoch - 218ms/step
Epoch 52/100
36/36 - 8s - loss: 0.1125 - accuracy: 0.9623 - val_loss: 2.1548 - val_accuracy: 0.6826 - lr: 0.0010 - 8s/epoch - 217ms/step
Epoch 53/100
36/36 - 8s - loss: 0.1116 - accuracy: 0.9624 - val_loss: 2.1470 - val_accuracy: 0.6852 - lr: 0.0010 - 8s/epoch - 218ms/step
Epoch 54/100
36/36 - 8s - loss: 0.1115 - accuracy: 0.9622 - val_loss: 2.1554 - val_accuracy: 0.6844 - lr: 0.0010 - 8s/epoch - 217ms/step
Epoch 55/100
36/36 - 8s - loss: 0.1108 - accuracy: 0.9632 - val_loss: 2.2098 - val_accuracy: 0.6787 - lr: 0.0010 - 8s/epoch - 218ms/step
Epoch 56/100
36/36 - 8s - loss: 0.1187 - accuracy: 0.9592 - val_loss: 2.1766 - val_accuracy: 0.6835 - lr: 0.0010 - 8s/epoch - 218ms/step
Epoch 57/100
36/36 - 8s - loss: 0.1099 - accuracy: 0.9620 - val_loss: 2.2163 - val_accuracy: 0.6800 - lr: 0.0010 - 8s/epoch - 217ms/step
Epoch 58/100
36/36 - 8s - loss: 0.1125 - accuracy: 0.9623 - val_loss: 2.2236 - val_accuracy: 0.6797 - lr: 0.0010 - 8s/epoch - 217ms/step
Epoch 59/100
36/36 - 8s - loss: 0.1107 - accuracy: 0.9621 - val_loss: 2.2534 - val_accuracy: 0.6782 - lr: 0.0010 - 8s/epoch - 218ms/step
Epoch 60/100
36/36 - 8s - loss: 0.1090 - accuracy: 0.9633 - val_loss: 2.2606 - val_accuracy: 0.6755 - lr: 0.0010 - 8s/epoch - 217ms/step
Epoch 61/100
36/36 - 8s - loss: 0.1112 - accuracy: 0.9622 - val_loss: 2.2302 - val_accuracy: 0.6783 - lr: 0.0010 - 8s/epoch - 217ms/step
Epoch 62/100
36/36 - 8s - loss: 0.1102 - accuracy: 0.9628 - val_loss: 2.2253 - val_accuracy: 0.6806 - lr: 0.0010 - 8s/epoch - 217ms/step
Epoch 63/100
36/36 - 8s - loss: 0.1142 - accuracy: 0.9613 - val_loss: 2.2087 - val_accuracy: 0.6803 - lr: 0.0010 - 8s/epoch - 218ms/step
Epoch 64/100
36/36 - 8s - loss: 0.1081 - accuracy: 0.9631 - val_loss: 2.2973 - val_accuracy: 0.6750 - lr: 0.0010 - 8s/epoch - 218ms/step
Epoch 65/100
36/36 - 8s - loss: 0.1170 - accuracy: 0.9608 - val_loss: 2.1628 - val_accuracy: 0.6863 - lr: 0.0010 - 8s/epoch - 220ms/step
Epoch 66/100
36/36 - 8s - loss: 0.1114 - accuracy: 0.9617 - val_loss: 2.3002 - val_accuracy: 0.6729 - lr: 0.0010 - 8s/epoch - 217ms/step
Epoch 67/100
36/36 - 8s - loss: 0.1123 - accuracy: 0.9621 - val_loss: 2.2659 - val_accuracy: 0.6762 - lr: 0.0010 - 8s/epoch - 217ms/step
Epoch 68/100
36/36 - 8s - loss: 0.1111 - accuracy: 0.9617 - val_loss: 2.2645 - val_accuracy: 0.6785 - lr: 0.0010 - 8s/epoch - 218ms/step
Epoch 69/100
36/36 - 8s - loss: 0.1188 - accuracy: 0.9608 - val_loss: 2.2483 - val_accuracy: 0.6805 - lr: 0.0010 - 8s/epoch - 217ms/step
Epoch 70/100
36/36 - 8s - loss: 0.1145 - accuracy: 0.9608 - val_loss: 2.2664 - val_accuracy: 0.6788 - lr: 0.0010 - 8s/epoch - 217ms/step
Epoch 71/100
36/36 - 8s - loss: 0.1127 - accuracy: 0.9618 - val_loss: 2.2643 - val_accuracy: 0.6766 - lr: 0.0010 - 8s/epoch - 218ms/step
Epoch 72/100
36/36 - 8s - loss: 0.1094 - accuracy: 0.9631 - val_loss: 2.2048 - val_accuracy: 0.6815 - lr: 0.0010 - 8s/epoch - 218ms/step
Epoch 73/100
36/36 - 8s - loss: 0.1186 - accuracy: 0.9594 - val_loss: 2.2930 - val_accuracy: 0.6753 - lr: 0.0010 - 8s/epoch - 218ms/step
Epoch 74/100
36/36 - 8s - loss: 0.1119 - accuracy: 0.9621 - val_loss: 2.2404 - val_accuracy: 0.6827 - lr: 0.0010 - 8s/epoch - 217ms/step
Epoch 75/100
36/36 - 8s - loss: 0.1101 - accuracy: 0.9627 - val_loss: 2.2323 - val_accuracy: 0.6819 - lr: 0.0010 - 8s/epoch - 217ms/step
Epoch 76/100
36/36 - 8s - loss: 0.1106 - accuracy: 0.9624 - val_loss: 2.2731 - val_accuracy: 0.6784 - lr: 0.0010 - 8s/epoch - 218ms/step
Epoch 77/100
36/36 - 8s - loss: 0.1101 - accuracy: 0.9630 - val_loss: 2.2887 - val_accuracy: 0.6742 - lr: 0.0010 - 8s/epoch - 217ms/step
Epoch 78/100
36/36 - 8s - loss: 0.1068 - accuracy: 0.9641 - val_loss: 2.2663 - val_accuracy: 0.6774 - lr: 0.0010 - 8s/epoch - 217ms/step
Epoch 79/100
36/36 - 8s - loss: 0.1089 - accuracy: 0.9626 - val_loss: 2.2812 - val_accuracy: 0.6781 - lr: 0.0010 - 8s/epoch - 217ms/step
Epoch 80/100
36/36 - 8s - loss: 0.1115 - accuracy: 0.9624 - val_loss: 2.3202 - val_accuracy: 0.6760 - lr: 0.0010 - 8s/epoch - 218ms/step
Epoch 81/100
36/36 - 8s - loss: 0.1084 - accuracy: 0.9642 - val_loss: 2.2248 - val_accuracy: 0.6843 - lr: 0.0010 - 8s/epoch - 218ms/step
Epoch 82/100
36/36 - 8s - loss: 0.1071 - accuracy: 0.9638 - val_loss: 2.3020 - val_accuracy: 0.6769 - lr: 0.0010 - 8s/epoch - 218ms/step
Epoch 83/100
36/36 - 8s - loss: 0.1103 - accuracy: 0.9628 - val_loss: 2.3079 - val_accuracy: 0.6747 - lr: 0.0010 - 8s/epoch - 217ms/step
Epoch 84/100
36/36 - 8s - loss: 0.1096 - accuracy: 0.9628 - val_loss: 2.2957 - val_accuracy: 0.6787 - lr: 0.0010 - 8s/epoch - 218ms/step
Epoch 85/100
36/36 - 8s - loss: 0.1124 - accuracy: 0.9622 - val_loss: 2.3057 - val_accuracy: 0.6778 - lr: 0.0010 - 8s/epoch - 218ms/step
Epoch 86/100
36/36 - 8s - loss: 0.1127 - accuracy: 0.9616 - val_loss: 2.3073 - val_accuracy: 0.6783 - lr: 0.0010 - 8s/epoch - 217ms/step
Epoch 87/100
36/36 - 8s - loss: 0.1142 - accuracy: 0.9610 - val_loss: 2.2720 - val_accuracy: 0.6818 - lr: 0.0010 - 8s/epoch - 217ms/step
Epoch 88/100
36/36 - 8s - loss: 0.1076 - accuracy: 0.9632 - val_loss: 2.2909 - val_accuracy: 0.6794 - lr: 0.0010 - 8s/epoch - 218ms/step
Epoch 89/100
36/36 - 8s - loss: 0.1119 - accuracy: 0.9620 - val_loss: 2.3649 - val_accuracy: 0.6724 - lr: 0.0010 - 8s/epoch - 218ms/step
Epoch 90/100
36/36 - 8s - loss: 0.1162 - accuracy: 0.9611 - val_loss: 2.2811 - val_accuracy: 0.6822 - lr: 0.0010 - 8s/epoch - 218ms/step
Epoch 91/100
36/36 - 8s - loss: 0.1112 - accuracy: 0.9622 - val_loss: 2.2488 - val_accuracy: 0.6826 - lr: 0.0010 - 8s/epoch - 219ms/step
Epoch 92/100
36/36 - 8s - loss: 0.1128 - accuracy: 0.9620 - val_loss: 2.2447 - val_accuracy: 0.6853 - lr: 0.0010 - 8s/epoch - 217ms/step
Epoch 93/100
36/36 - 8s - loss: 0.1103 - accuracy: 0.9622 - val_loss: 2.2850 - val_accuracy: 0.6795 - lr: 0.0010 - 8s/epoch - 218ms/step
Epoch 94/100
36/36 - 8s - loss: 0.1140 - accuracy: 0.9621 - val_loss: 2.2857 - val_accuracy: 0.6794 - lr: 0.0010 - 8s/epoch - 217ms/step
Epoch 95/100
36/36 - 8s - loss: 0.1114 - accuracy: 0.9623 - val_loss: 2.2512 - val_accuracy: 0.6830 - lr: 0.0010 - 8s/epoch - 217ms/step
Epoch 96/100
36/36 - 8s - loss: 0.1125 - accuracy: 0.9622 - val_loss: 2.2538 - val_accuracy: 0.6811 - lr: 0.0010 - 8s/epoch - 218ms/step
Epoch 97/100
36/36 - 8s - loss: 0.1118 - accuracy: 0.9625 - val_loss: 2.2515 - val_accuracy: 0.6801 - lr: 0.0010 - 8s/epoch - 219ms/step
Epoch 98/100
36/36 - 8s - loss: 0.1098 - accuracy: 0.9626 - val_loss: 2.3521 - val_accuracy: 0.6734 - lr: 0.0010 - 8s/epoch - 220ms/step
Epoch 99/100
36/36 - 8s - loss: 0.1080 - accuracy: 0.9639 - val_loss: 2.3600 - val_accuracy: 0.6746 - lr: 0.0010 - 8s/epoch - 219ms/step
Epoch 100/100
36/36 - 8s - loss: 0.1079 - accuracy: 0.9637 - val_loss: 2.3665 - val_accuracy: 0.6751 - lr: 0.0010 - 8s/epoch - 216ms/step
Epoch 1/25
4378/4378 - 78s - loss: 0.1118 - accuracy: 0.8901 - val_loss: 0.3857 - val_accuracy: 0.7195 - lr: 0.0010 - 78s/epoch - 18ms/step
Epoch 2/25
4378/4378 - 75s - loss: 0.1098 - accuracy: 0.8872 - val_loss: 0.3862 - val_accuracy: 0.7037 - lr: 0.0010 - 75s/epoch - 17ms/step
Epoch 3/25
4378/4378 - 75s - loss: 0.1104 - accuracy: 0.8864 - val_loss: 0.3314 - val_accuracy: 0.7324 - lr: 0.0010 - 75s/epoch - 17ms/step
Epoch 4/25
4378/4378 - 76s - loss: 0.1108 - accuracy: 0.8844 - val_loss: 0.3474 - val_accuracy: 0.7107 - lr: 0.0010 - 76s/epoch - 17ms/step
Epoch 5/25
4378/4378 - 76s - loss: 0.1098 - accuracy: 0.8865 - val_loss: 0.3412 - val_accuracy: 0.7199 - lr: 0.0010 - 76s/epoch - 17ms/step
Epoch 6/25
4378/4378 - 76s - loss: 0.1110 - accuracy: 0.8843 - val_loss: 0.3136 - val_accuracy: 0.7333 - lr: 0.0010 - 76s/epoch - 17ms/step
Epoch 7/25
4378/4378 - 76s - loss: 0.1091 - accuracy: 0.8868 - val_loss: 0.3174 - val_accuracy: 0.7483 - lr: 0.0010 - 76s/epoch - 17ms/step
Epoch 8/25
4378/4378 - 76s - loss: 0.1099 - accuracy: 0.8852 - val_loss: 0.3339 - val_accuracy: 0.7183 - lr: 0.0010 - 76s/epoch - 17ms/step
Epoch 9/25
4378/4378 - 76s - loss: 0.1101 - accuracy: 0.8863 - val_loss: 0.3344 - val_accuracy: 0.7252 - lr: 0.0010 - 76s/epoch - 17ms/step
Epoch 10/25
4378/4378 - 76s - loss: 0.1094 - accuracy: 0.8863 - val_loss: 0.3564 - val_accuracy: 0.7011 - lr: 0.0010 - 76s/epoch - 17ms/step
Epoch 11/25
4378/4378 - 76s - loss: 0.1088 - accuracy: 0.8872 - val_loss: 0.3285 - val_accuracy: 0.7110 - lr: 0.0010 - 76s/epoch - 17ms/step
Epoch 12/25
4378/4378 - 76s - loss: 0.1103 - accuracy: 0.8857 - val_loss: 0.3393 - val_accuracy: 0.7111 - lr: 0.0010 - 76s/epoch - 17ms/step
Epoch 13/25
4378/4378 - 76s - loss: 0.1093 - accuracy: 0.8867 - val_loss: 0.3565 - val_accuracy: 0.7130 - lr: 0.0010 - 76s/epoch - 17ms/step
Epoch 14/25
4378/4378 - 76s - loss: 0.1098 - accuracy: 0.8867 - val_loss: 0.3375 - val_accuracy: 0.7145 - lr: 0.0010 - 76s/epoch - 17ms/step
Epoch 15/25
4378/4378 - 76s - loss: 0.1104 - accuracy: 0.8855 - val_loss: 0.3152 - val_accuracy: 0.7183 - lr: 0.0010 - 76s/epoch - 17ms/step
Epoch 16/25
4378/4378 - 76s - loss: 0.1095 - accuracy: 0.8869 - val_loss: 0.3306 - val_accuracy: 0.7238 - lr: 0.0010 - 76s/epoch - 17ms/step
Epoch 17/25
4378/4378 - 75s - loss: 0.1100 - accuracy: 0.8850 - val_loss: 0.3271 - val_accuracy: 0.7355 - lr: 0.0010 - 75s/epoch - 17ms/step
Epoch 18/25
4378/4378 - 75s - loss: 0.1083 - accuracy: 0.8888 - val_loss: 0.3510 - val_accuracy: 0.7073 - lr: 0.0010 - 75s/epoch - 17ms/step
Epoch 19/25
4378/4378 - 75s - loss: 0.1091 - accuracy: 0.8877 - val_loss: 0.3037 - val_accuracy: 0.7432 - lr: 0.0010 - 75s/epoch - 17ms/step
Epoch 20/25
4378/4378 - 75s - loss: 0.1093 - accuracy: 0.8862 - val_loss: 0.3150 - val_accuracy: 0.7366 - lr: 0.0010 - 75s/epoch - 17ms/step
Epoch 21/25
4378/4378 - 76s - loss: 0.1088 - accuracy: 0.8878 - val_loss: 0.3036 - val_accuracy: 0.7351 - lr: 0.0010 - 76s/epoch - 17ms/step
Epoch 22/25
4378/4378 - 75s - loss: 0.1094 - accuracy: 0.8868 - val_loss: 0.3278 - val_accuracy: 0.7238 - lr: 0.0010 - 75s/epoch - 17ms/step
Epoch 23/25
4378/4378 - 75s - loss: 0.1092 - accuracy: 0.8867 - val_loss: 0.2871 - val_accuracy: 0.7584 - lr: 0.0010 - 75s/epoch - 17ms/step
Epoch 24/25
4378/4378 - 75s - loss: 0.1073 - accuracy: 0.8882 - val_loss: 0.3123 - val_accuracy: 0.7363 - lr: 0.0010 - 75s/epoch - 17ms/step
Epoch 25/25
4378/4378 - 75s - loss: 0.1098 - accuracy: 0.8858 - val_loss: 0.3252 - val_accuracy: 0.7230 - lr: 0.0010 - 75s/epoch - 17ms/step
Epoch 1/25
876/876 - 22s - loss: 0.0807 - accuracy: 0.9187 - val_loss: 0.3654 - val_accuracy: 0.7114 - lr: 0.0010 - 22s/epoch - 25ms/step
Epoch 2/25
876/876 - 19s - loss: 0.0823 - accuracy: 0.9166 - val_loss: 0.3911 - val_accuracy: 0.6979 - lr: 0.0010 - 19s/epoch - 22ms/step
Epoch 3/25
876/876 - 19s - loss: 0.0819 - accuracy: 0.9163 - val_loss: 0.3429 - val_accuracy: 0.7373 - lr: 0.0010 - 19s/epoch - 22ms/step
Epoch 4/25
876/876 - 19s - loss: 0.0810 - accuracy: 0.9164 - val_loss: 0.3827 - val_accuracy: 0.7143 - lr: 0.0010 - 19s/epoch - 22ms/step
Epoch 5/25
876/876 - 19s - loss: 0.0803 - accuracy: 0.9191 - val_loss: 0.3629 - val_accuracy: 0.7277 - lr: 0.0010 - 19s/epoch - 22ms/step
Epoch 6/25
876/876 - 19s - loss: 0.0799 - accuracy: 0.9193 - val_loss: 0.3894 - val_accuracy: 0.7103 - lr: 0.0010 - 19s/epoch - 22ms/step
Epoch 7/25
876/876 - 19s - loss: 0.0790 - accuracy: 0.9206 - val_loss: 0.3508 - val_accuracy: 0.7410 - lr: 0.0010 - 19s/epoch - 22ms/step
Epoch 8/25
876/876 - 19s - loss: 0.0786 - accuracy: 0.9214 - val_loss: 0.3739 - val_accuracy: 0.7360 - lr: 0.0010 - 19s/epoch - 22ms/step
Epoch 9/25
876/876 - 19s - loss: 0.0785 - accuracy: 0.9213 - val_loss: 0.3633 - val_accuracy: 0.7299 - lr: 0.0010 - 19s/epoch - 22ms/step
Epoch 10/25
876/876 - 19s - loss: 0.0775 - accuracy: 0.9224 - val_loss: 0.3502 - val_accuracy: 0.7436 - lr: 0.0010 - 19s/epoch - 22ms/step
Epoch 11/25
876/876 - 19s - loss: 0.0766 - accuracy: 0.9226 - val_loss: 0.3668 - val_accuracy: 0.7338 - lr: 0.0010 - 19s/epoch - 22ms/step
Epoch 12/25
876/876 - 19s - loss: 0.0776 - accuracy: 0.9209 - val_loss: 0.3633 - val_accuracy: 0.7322 - lr: 0.0010 - 19s/epoch - 22ms/step
Epoch 13/25
876/876 - 19s - loss: 0.0775 - accuracy: 0.9213 - val_loss: 0.3880 - val_accuracy: 0.7251 - lr: 0.0010 - 19s/epoch - 22ms/step
Epoch 14/25
876/876 - 19s - loss: 0.0778 - accuracy: 0.9223 - val_loss: 0.4059 - val_accuracy: 0.7095 - lr: 0.0010 - 19s/epoch - 22ms/step
Epoch 15/25
876/876 - 19s - loss: 0.0776 - accuracy: 0.9233 - val_loss: 0.3663 - val_accuracy: 0.7290 - lr: 0.0010 - 19s/epoch - 22ms/step
Epoch 16/25
876/876 - 19s - loss: 0.0771 - accuracy: 0.9220 - val_loss: 0.3935 - val_accuracy: 0.7093 - lr: 0.0010 - 19s/epoch - 22ms/step
Epoch 17/25
876/876 - 19s - loss: 0.0771 - accuracy: 0.9233 - val_loss: 0.3826 - val_accuracy: 0.7200 - lr: 0.0010 - 19s/epoch - 22ms/step
Epoch 18/25
876/876 - 19s - loss: 0.0752 - accuracy: 0.9249 - val_loss: 0.3938 - val_accuracy: 0.7155 - lr: 0.0010 - 19s/epoch - 22ms/step
Epoch 19/25
876/876 - 19s - loss: 0.0746 - accuracy: 0.9251 - val_loss: 0.3973 - val_accuracy: 0.7247 - lr: 0.0010 - 19s/epoch - 22ms/step
Epoch 20/25
876/876 - 19s - loss: 0.0777 - accuracy: 0.9220 - val_loss: 0.4105 - val_accuracy: 0.6995 - lr: 0.0010 - 19s/epoch - 22ms/step
Epoch 21/25
876/876 - 19s - loss: 0.0761 - accuracy: 0.9243 - val_loss: 0.3697 - val_accuracy: 0.7316 - lr: 0.0010 - 19s/epoch - 22ms/step
Epoch 22/25
876/876 - 19s - loss: 0.0758 - accuracy: 0.9233 - val_loss: 0.4206 - val_accuracy: 0.7070 - lr: 0.0010 - 19s/epoch - 22ms/step
Epoch 23/25
876/876 - 19s - loss: 0.0761 - accuracy: 0.9242 - val_loss: 0.3745 - val_accuracy: 0.7131 - lr: 0.0010 - 19s/epoch - 22ms/step
Epoch 24/25
876/876 - 19s - loss: 0.0764 - accuracy: 0.9230 - val_loss: 0.4238 - val_accuracy: 0.6963 - lr: 0.0010 - 19s/epoch - 22ms/step
Epoch 25/25
876/876 - 19s - loss: 0.0757 - accuracy: 0.9244 - val_loss: 0.4136 - val_accuracy: 0.7093 - lr: 0.0010 - 19s/epoch - 22ms/step
Epoch 1/25
176/176 - 12s - loss: 0.0600 - accuracy: 0.9419 - val_loss: 0.4095 - val_accuracy: 0.7171 - lr: 0.0010 - 12s/epoch - 70ms/step
Epoch 2/25
176/176 - 9s - loss: 0.0557 - accuracy: 0.9466 - val_loss: 0.4260 - val_accuracy: 0.7116 - lr: 0.0010 - 9s/epoch - 53ms/step
Epoch 3/25
176/176 - 9s - loss: 0.0540 - accuracy: 0.9488 - val_loss: 0.4572 - val_accuracy: 0.7026 - lr: 0.0010 - 9s/epoch - 54ms/step
Epoch 4/25
176/176 - 9s - loss: 0.0555 - accuracy: 0.9473 - val_loss: 0.4502 - val_accuracy: 0.7125 - lr: 0.0010 - 9s/epoch - 54ms/step
Epoch 5/25
176/176 - 9s - loss: 0.0547 - accuracy: 0.9474 - val_loss: 0.4571 - val_accuracy: 0.7110 - lr: 0.0010 - 9s/epoch - 53ms/step
Epoch 6/25
176/176 - 9s - loss: 0.0561 - accuracy: 0.9464 - val_loss: 0.4462 - val_accuracy: 0.7109 - lr: 0.0010 - 9s/epoch - 53ms/step
Epoch 7/25
176/176 - 9s - loss: 0.0570 - accuracy: 0.9460 - val_loss: 0.4727 - val_accuracy: 0.7018 - lr: 0.0010 - 9s/epoch - 54ms/step
Epoch 8/25
176/176 - 9s - loss: 0.0566 - accuracy: 0.9462 - val_loss: 0.4468 - val_accuracy: 0.7144 - lr: 0.0010 - 9s/epoch - 53ms/step
Epoch 9/25
176/176 - 9s - loss: 0.0576 - accuracy: 0.9445 - val_loss: 0.4628 - val_accuracy: 0.7098 - lr: 0.0010 - 9s/epoch - 53ms/step
Epoch 10/25
176/176 - 9s - loss: 0.0581 - accuracy: 0.9442 - val_loss: 0.4757 - val_accuracy: 0.7030 - lr: 0.0010 - 9s/epoch - 54ms/step
Epoch 11/25
176/176 - 9s - loss: 0.0584 - accuracy: 0.9439 - val_loss: 0.4731 - val_accuracy: 0.7007 - lr: 0.0010 - 9s/epoch - 54ms/step
Epoch 12/25
176/176 - 9s - loss: 0.0582 - accuracy: 0.9442 - val_loss: 0.4494 - val_accuracy: 0.7220 - lr: 0.0010 - 9s/epoch - 53ms/step
Epoch 13/25
176/176 - 9s - loss: 0.0564 - accuracy: 0.9460 - val_loss: 0.4857 - val_accuracy: 0.7055 - lr: 0.0010 - 9s/epoch - 53ms/step
Epoch 14/25
176/176 - 9s - loss: 0.0562 - accuracy: 0.9462 - val_loss: 0.4630 - val_accuracy: 0.7122 - lr: 0.0010 - 9s/epoch - 54ms/step
Epoch 15/25
176/176 - 9s - loss: 0.0570 - accuracy: 0.9460 - val_loss: 0.4395 - val_accuracy: 0.7246 - lr: 0.0010 - 9s/epoch - 53ms/step
Epoch 16/25
176/176 - 9s - loss: 0.0548 - accuracy: 0.9474 - val_loss: 0.4258 - val_accuracy: 0.7308 - lr: 0.0010 - 9s/epoch - 53ms/step
Epoch 17/25
176/176 - 9s - loss: 0.0547 - accuracy: 0.9483 - val_loss: 0.4616 - val_accuracy: 0.7166 - lr: 0.0010 - 9s/epoch - 54ms/step
Epoch 18/25
176/176 - 9s - loss: 0.0555 - accuracy: 0.9471 - val_loss: 0.4833 - val_accuracy: 0.7077 - lr: 0.0010 - 9s/epoch - 54ms/step
Epoch 19/25
176/176 - 9s - loss: 0.0540 - accuracy: 0.9483 - val_loss: 0.4919 - val_accuracy: 0.6998 - lr: 0.0010 - 9s/epoch - 53ms/step
Epoch 20/25
176/176 - 9s - loss: 0.0543 - accuracy: 0.9478 - val_loss: 0.4750 - val_accuracy: 0.7096 - lr: 0.0010 - 9s/epoch - 53ms/step
Epoch 21/25
176/176 - 9s - loss: 0.0531 - accuracy: 0.9484 - val_loss: 0.4859 - val_accuracy: 0.7045 - lr: 0.0010 - 9s/epoch - 53ms/step
Epoch 22/25
176/176 - 9s - loss: 0.0553 - accuracy: 0.9471 - val_loss: 0.5004 - val_accuracy: 0.6964 - lr: 0.0010 - 9s/epoch - 53ms/step
Epoch 23/25
176/176 - 9s - loss: 0.0531 - accuracy: 0.9495 - val_loss: 0.4800 - val_accuracy: 0.7087 - lr: 0.0010 - 9s/epoch - 53ms/step
Epoch 24/25
176/176 - 9s - loss: 0.0543 - accuracy: 0.9480 - val_loss: 0.4928 - val_accuracy: 0.7038 - lr: 0.0010 - 9s/epoch - 53ms/step
Epoch 25/25
176/176 - 9s - loss: 0.0520 - accuracy: 0.9509 - val_loss: 0.4897 - val_accuracy: 0.7054 - lr: 0.0010 - 9s/epoch - 53ms/step
Epoch 1/25
36/36 - 10s - loss: 0.0482 - accuracy: 0.9549 - val_loss: 0.5309 - val_accuracy: 0.6924 - lr: 0.0010 - 10s/epoch - 288ms/step
Epoch 2/25
36/36 - 8s - loss: 0.0465 - accuracy: 0.9567 - val_loss: 0.5135 - val_accuracy: 0.6981 - lr: 0.0010 - 8s/epoch - 216ms/step
Epoch 3/25
36/36 - 8s - loss: 0.0465 - accuracy: 0.9570 - val_loss: 0.5172 - val_accuracy: 0.6982 - lr: 0.0010 - 8s/epoch - 216ms/step
Epoch 4/25
36/36 - 8s - loss: 0.0451 - accuracy: 0.9577 - val_loss: 0.5224 - val_accuracy: 0.6971 - lr: 0.0010 - 8s/epoch - 216ms/step
Epoch 5/25
36/36 - 8s - loss: 0.0448 - accuracy: 0.9585 - val_loss: 0.5251 - val_accuracy: 0.6967 - lr: 0.0010 - 8s/epoch - 216ms/step
Epoch 6/25
36/36 - 8s - loss: 0.0441 - accuracy: 0.9592 - val_loss: 0.5353 - val_accuracy: 0.6945 - lr: 0.0010 - 8s/epoch - 216ms/step
Epoch 7/25
36/36 - 8s - loss: 0.0472 - accuracy: 0.9565 - val_loss: 0.5315 - val_accuracy: 0.6947 - lr: 0.0010 - 8s/epoch - 216ms/step
Epoch 8/25
36/36 - 8s - loss: 0.0451 - accuracy: 0.9586 - val_loss: 0.5189 - val_accuracy: 0.7025 - lr: 0.0010 - 8s/epoch - 217ms/step
Epoch 9/25
36/36 - 8s - loss: 0.0461 - accuracy: 0.9570 - val_loss: 0.5268 - val_accuracy: 0.6987 - lr: 0.0010 - 8s/epoch - 217ms/step
Epoch 10/25
36/36 - 8s - loss: 0.0440 - accuracy: 0.9594 - val_loss: 0.5355 - val_accuracy: 0.6974 - lr: 0.0010 - 8s/epoch - 216ms/step
Epoch 11/25
36/36 - 8s - loss: 0.0445 - accuracy: 0.9592 - val_loss: 0.5316 - val_accuracy: 0.6997 - lr: 0.0010 - 8s/epoch - 218ms/step
Epoch 12/25
36/36 - 8s - loss: 0.0437 - accuracy: 0.9592 - val_loss: 0.5408 - val_accuracy: 0.6966 - lr: 0.0010 - 8s/epoch - 218ms/step
Epoch 13/25
36/36 - 8s - loss: 0.0454 - accuracy: 0.9579 - val_loss: 0.5458 - val_accuracy: 0.6940 - lr: 0.0010 - 8s/epoch - 216ms/step
Epoch 14/25
36/36 - 8s - loss: 0.0450 - accuracy: 0.9577 - val_loss: 0.5365 - val_accuracy: 0.6982 - lr: 0.0010 - 8s/epoch - 217ms/step
Epoch 15/25
36/36 - 8s - loss: 0.0446 - accuracy: 0.9587 - val_loss: 0.5491 - val_accuracy: 0.6945 - lr: 0.0010 - 8s/epoch - 218ms/step
Epoch 16/25
36/36 - 8s - loss: 0.0437 - accuracy: 0.9595 - val_loss: 0.5365 - val_accuracy: 0.6971 - lr: 0.0010 - 8s/epoch - 218ms/step
Epoch 17/25
36/36 - 8s - loss: 0.0436 - accuracy: 0.9597 - val_loss: 0.5454 - val_accuracy: 0.6967 - lr: 0.0010 - 8s/epoch - 218ms/step
Epoch 18/25
36/36 - 8s - loss: 0.0437 - accuracy: 0.9592 - val_loss: 0.5381 - val_accuracy: 0.6972 - lr: 0.0010 - 8s/epoch - 216ms/step
Epoch 19/25
36/36 - 8s - loss: 0.0442 - accuracy: 0.9592 - val_loss: 0.5336 - val_accuracy: 0.6996 - lr: 0.0010 - 8s/epoch - 217ms/step
Epoch 20/25
36/36 - 8s - loss: 0.0430 - accuracy: 0.9598 - val_loss: 0.5534 - val_accuracy: 0.6931 - lr: 0.0010 - 8s/epoch - 217ms/step
Epoch 21/25
36/36 - 8s - loss: 0.0437 - accuracy: 0.9599 - val_loss: 0.5479 - val_accuracy: 0.6966 - lr: 0.0010 - 8s/epoch - 217ms/step
Epoch 22/25
36/36 - 8s - loss: 0.0448 - accuracy: 0.9586 - val_loss: 0.5510 - val_accuracy: 0.6934 - lr: 0.0010 - 8s/epoch - 216ms/step
Epoch 23/25
36/36 - 8s - loss: 0.0434 - accuracy: 0.9604 - val_loss: 0.5384 - val_accuracy: 0.7017 - lr: 0.0010 - 8s/epoch - 217ms/step
Epoch 24/25
36/36 - 8s - loss: 0.0455 - accuracy: 0.9579 - val_loss: 0.5312 - val_accuracy: 0.7016 - lr: 0.0010 - 8s/epoch - 218ms/step
Epoch 25/25
36/36 - 8s - loss: 0.0431 - accuracy: 0.9601 - val_loss: 0.5372 - val_accuracy: 0.7023 - lr: 0.0010 - 8s/epoch - 217ms/step
Epoch 1/50
4378/4378 - 79s - loss: 0.1005 - accuracy: 0.8994 - val_loss: 0.3818 - val_accuracy: 0.7265 - lr: 0.0010 - 79s/epoch - 18ms/step
Epoch 2/50
4378/4378 - 76s - loss: 0.1020 - accuracy: 0.8959 - val_loss: 0.3430 - val_accuracy: 0.7298 - lr: 0.0010 - 76s/epoch - 17ms/step
Epoch 3/50
4378/4378 - 75s - loss: 0.1029 - accuracy: 0.8950 - val_loss: 0.3798 - val_accuracy: 0.6954 - lr: 0.0010 - 75s/epoch - 17ms/step
Epoch 4/50
4378/4378 - 76s - loss: 0.1059 - accuracy: 0.8914 - val_loss: 0.3249 - val_accuracy: 0.7350 - lr: 0.0010 - 76s/epoch - 17ms/step
Epoch 5/50
4378/4378 - 76s - loss: 0.1060 - accuracy: 0.8918 - val_loss: 0.3027 - val_accuracy: 0.7377 - lr: 0.0010 - 76s/epoch - 17ms/step
Epoch 6/50
4378/4378 - 75s - loss: 0.1042 - accuracy: 0.8935 - val_loss: 0.3020 - val_accuracy: 0.7438 - lr: 0.0010 - 75s/epoch - 17ms/step
Epoch 7/50
4378/4378 - 75s - loss: 0.1050 - accuracy: 0.8915 - val_loss: 0.3345 - val_accuracy: 0.7212 - lr: 0.0010 - 75s/epoch - 17ms/step
Epoch 8/50
4378/4378 - 76s - loss: 0.1058 - accuracy: 0.8899 - val_loss: 0.3007 - val_accuracy: 0.7190 - lr: 0.0010 - 76s/epoch - 17ms/step
Epoch 9/50
4378/4378 - 75s - loss: 0.1062 - accuracy: 0.8910 - val_loss: 0.2978 - val_accuracy: 0.7360 - lr: 0.0010 - 75s/epoch - 17ms/step
Epoch 10/50
4378/4378 - 75s - loss: 0.1053 - accuracy: 0.8914 - val_loss: 0.3085 - val_accuracy: 0.7444 - lr: 0.0010 - 75s/epoch - 17ms/step
Epoch 11/50
4378/4378 - 75s - loss: 0.1068 - accuracy: 0.8898 - val_loss: 0.3096 - val_accuracy: 0.7484 - lr: 0.0010 - 75s/epoch - 17ms/step
Epoch 12/50
4378/4378 - 74s - loss: 0.1060 - accuracy: 0.8910 - val_loss: 0.3068 - val_accuracy: 0.7407 - lr: 0.0010 - 74s/epoch - 17ms/step
Epoch 13/50
4378/4378 - 75s - loss: 0.1077 - accuracy: 0.8884 - val_loss: 0.3558 - val_accuracy: 0.7128 - lr: 0.0010 - 75s/epoch - 17ms/step
Epoch 14/50
4378/4378 - 75s - loss: 0.1065 - accuracy: 0.8905 - val_loss: 0.3052 - val_accuracy: 0.7485 - lr: 0.0010 - 75s/epoch - 17ms/step
Epoch 15/50
4378/4378 - 75s - loss: 0.1061 - accuracy: 0.8906 - val_loss: 0.3063 - val_accuracy: 0.7343 - lr: 0.0010 - 75s/epoch - 17ms/step
Epoch 16/50
4378/4378 - 75s - loss: 0.1065 - accuracy: 0.8904 - val_loss: 0.2846 - val_accuracy: 0.7589 - lr: 0.0010 - 75s/epoch - 17ms/step
Epoch 17/50
4378/4378 - 75s - loss: 0.1060 - accuracy: 0.8907 - val_loss: 0.3339 - val_accuracy: 0.7254 - lr: 0.0010 - 75s/epoch - 17ms/step
Epoch 18/50
4378/4378 - 74s - loss: 0.1057 - accuracy: 0.8913 - val_loss: 0.3066 - val_accuracy: 0.7405 - lr: 0.0010 - 74s/epoch - 17ms/step
Epoch 19/50
4378/4378 - 75s - loss: 0.1067 - accuracy: 0.8907 - val_loss: 0.2900 - val_accuracy: 0.7541 - lr: 0.0010 - 75s/epoch - 17ms/step
Epoch 20/50
4378/4378 - 74s - loss: 0.1065 - accuracy: 0.8905 - val_loss: 0.3013 - val_accuracy: 0.7479 - lr: 0.0010 - 74s/epoch - 17ms/step
Epoch 21/50
4378/4378 - 75s - loss: 0.1054 - accuracy: 0.8918 - val_loss: 0.3061 - val_accuracy: 0.7387 - lr: 0.0010 - 75s/epoch - 17ms/step
Epoch 22/50
4378/4378 - 75s - loss: 0.1077 - accuracy: 0.8890 - val_loss: 0.3133 - val_accuracy: 0.7322 - lr: 0.0010 - 75s/epoch - 17ms/step
Epoch 23/50
4378/4378 - 75s - loss: 0.1076 - accuracy: 0.8892 - val_loss: 0.3276 - val_accuracy: 0.7233 - lr: 0.0010 - 75s/epoch - 17ms/step
Epoch 24/50
4378/4378 - 74s - loss: 0.1082 - accuracy: 0.8883 - val_loss: 0.3193 - val_accuracy: 0.7238 - lr: 0.0010 - 74s/epoch - 17ms/step
Epoch 25/50
4378/4378 - 75s - loss: 0.1064 - accuracy: 0.8895 - val_loss: 0.3056 - val_accuracy: 0.7324 - lr: 0.0010 - 75s/epoch - 17ms/step
Epoch 26/50
4378/4378 - 75s - loss: 0.1046 - accuracy: 0.8917 - val_loss: 0.3005 - val_accuracy: 0.7458 - lr: 0.0010 - 75s/epoch - 17ms/step
Epoch 27/50
4378/4378 - 75s - loss: 0.1065 - accuracy: 0.8906 - val_loss: 0.2788 - val_accuracy: 0.7585 - lr: 0.0010 - 75s/epoch - 17ms/step
Epoch 28/50
4378/4378 - 75s - loss: 0.1068 - accuracy: 0.8883 - val_loss: 0.2601 - val_accuracy: 0.7790 - lr: 0.0010 - 75s/epoch - 17ms/step
Epoch 29/50
4378/4378 - 75s - loss: 0.1054 - accuracy: 0.8920 - val_loss: 0.3218 - val_accuracy: 0.7375 - lr: 0.0010 - 75s/epoch - 17ms/step
Epoch 30/50
4378/4378 - 75s - loss: 0.1072 - accuracy: 0.8884 - val_loss: 0.2980 - val_accuracy: 0.7431 - lr: 0.0010 - 75s/epoch - 17ms/step
Epoch 31/50
4378/4378 - 75s - loss: 0.1075 - accuracy: 0.8885 - val_loss: 0.3137 - val_accuracy: 0.7364 - lr: 0.0010 - 75s/epoch - 17ms/step
Epoch 32/50
4378/4378 - 75s - loss: 0.1065 - accuracy: 0.8905 - val_loss: 0.2899 - val_accuracy: 0.7551 - lr: 0.0010 - 75s/epoch - 17ms/step
Epoch 33/50
4378/4378 - 74s - loss: 0.1061 - accuracy: 0.8917 - val_loss: 0.2655 - val_accuracy: 0.7678 - lr: 0.0010 - 74s/epoch - 17ms/step
Epoch 34/50
4378/4378 - 75s - loss: 0.1068 - accuracy: 0.8892 - val_loss: 0.2496 - val_accuracy: 0.7745 - lr: 0.0010 - 75s/epoch - 17ms/step
Epoch 35/50
4378/4378 - 75s - loss: 0.1061 - accuracy: 0.8901 - val_loss: 0.3253 - val_accuracy: 0.7119 - lr: 0.0010 - 75s/epoch - 17ms/step
Epoch 36/50
4378/4378 - 75s - loss: 0.1067 - accuracy: 0.8901 - val_loss: 0.3148 - val_accuracy: 0.7164 - lr: 0.0010 - 75s/epoch - 17ms/step
Epoch 37/50
4378/4378 - 75s - loss: 0.1049 - accuracy: 0.8916 - val_loss: 0.3161 - val_accuracy: 0.7263 - lr: 0.0010 - 75s/epoch - 17ms/step
Epoch 38/50
4378/4378 - 75s - loss: 0.1050 - accuracy: 0.8924 - val_loss: 0.2718 - val_accuracy: 0.7669 - lr: 0.0010 - 75s/epoch - 17ms/step
Epoch 39/50
4378/4378 - 75s - loss: 0.1045 - accuracy: 0.8923 - val_loss: 0.3152 - val_accuracy: 0.7297 - lr: 0.0010 - 75s/epoch - 17ms/step
Epoch 40/50
4378/4378 - 75s - loss: 0.1068 - accuracy: 0.8895 - val_loss: 0.2777 - val_accuracy: 0.7530 - lr: 0.0010 - 75s/epoch - 17ms/step
Epoch 41/50
4378/4378 - 75s - loss: 0.1067 - accuracy: 0.8896 - val_loss: 0.3497 - val_accuracy: 0.6967 - lr: 0.0010 - 75s/epoch - 17ms/step
Epoch 42/50
4378/4378 - 75s - loss: 0.1059 - accuracy: 0.8892 - val_loss: 0.3184 - val_accuracy: 0.7270 - lr: 0.0010 - 75s/epoch - 17ms/step
Epoch 43/50
4378/4378 - 75s - loss: 0.1050 - accuracy: 0.8914 - val_loss: 0.2888 - val_accuracy: 0.7547 - lr: 0.0010 - 75s/epoch - 17ms/step
Epoch 44/50
4378/4378 - 75s - loss: 0.1064 - accuracy: 0.8909 - val_loss: 0.2828 - val_accuracy: 0.7600 - lr: 0.0010 - 75s/epoch - 17ms/step
Epoch 45/50
4378/4378 - 75s - loss: 0.1064 - accuracy: 0.8906 - val_loss: 0.3093 - val_accuracy: 0.7315 - lr: 0.0010 - 75s/epoch - 17ms/step
Epoch 46/50
4378/4378 - 75s - loss: 0.1048 - accuracy: 0.8908 - val_loss: 0.2766 - val_accuracy: 0.7529 - lr: 0.0010 - 75s/epoch - 17ms/step
Epoch 47/50
4378/4378 - 75s - loss: 0.1060 - accuracy: 0.8905 - val_loss: 0.2914 - val_accuracy: 0.7468 - lr: 0.0010 - 75s/epoch - 17ms/step
Epoch 48/50
4378/4378 - 75s - loss: 0.1047 - accuracy: 0.8918 - val_loss: 0.3340 - val_accuracy: 0.7130 - lr: 0.0010 - 75s/epoch - 17ms/step
Epoch 49/50
4378/4378 - 75s - loss: 0.1050 - accuracy: 0.8914 - val_loss: 0.3235 - val_accuracy: 0.7183 - lr: 0.0010 - 75s/epoch - 17ms/step
Epoch 50/50
4378/4378 - 75s - loss: 0.1059 - accuracy: 0.8905 - val_loss: 0.3189 - val_accuracy: 0.7276 - lr: 0.0010 - 75s/epoch - 17ms/step
Epoch 1/50
876/876 - 22s - loss: 0.0766 - accuracy: 0.9226 - val_loss: 0.3440 - val_accuracy: 0.7329 - lr: 0.0010 - 22s/epoch - 25ms/step
Epoch 2/50
876/876 - 19s - loss: 0.0798 - accuracy: 0.9197 - val_loss: 0.3499 - val_accuracy: 0.7295 - lr: 0.0010 - 19s/epoch - 22ms/step
Epoch 3/50
876/876 - 19s - loss: 0.0801 - accuracy: 0.9185 - val_loss: 0.3836 - val_accuracy: 0.7170 - lr: 0.0010 - 19s/epoch - 22ms/step
Epoch 4/50
876/876 - 19s - loss: 0.0783 - accuracy: 0.9215 - val_loss: 0.3456 - val_accuracy: 0.7407 - lr: 0.0010 - 19s/epoch - 22ms/step
Epoch 5/50
876/876 - 19s - loss: 0.0796 - accuracy: 0.9207 - val_loss: 0.3463 - val_accuracy: 0.7410 - lr: 0.0010 - 19s/epoch - 22ms/step
Epoch 6/50
876/876 - 19s - loss: 0.0784 - accuracy: 0.9206 - val_loss: 0.3360 - val_accuracy: 0.7449 - lr: 0.0010 - 19s/epoch - 22ms/step
Epoch 7/50
876/876 - 19s - loss: 0.0780 - accuracy: 0.9213 - val_loss: 0.4064 - val_accuracy: 0.7106 - lr: 0.0010 - 19s/epoch - 22ms/step
Epoch 8/50
876/876 - 19s - loss: 0.0769 - accuracy: 0.9223 - val_loss: 0.3616 - val_accuracy: 0.7335 - lr: 0.0010 - 19s/epoch - 22ms/step
Epoch 9/50
876/876 - 19s - loss: 0.0765 - accuracy: 0.9233 - val_loss: 0.3526 - val_accuracy: 0.7355 - lr: 0.0010 - 19s/epoch - 22ms/step
Epoch 10/50
876/876 - 19s - loss: 0.0770 - accuracy: 0.9220 - val_loss: 0.3397 - val_accuracy: 0.7447 - lr: 0.0010 - 19s/epoch - 22ms/step
Epoch 11/50
876/876 - 19s - loss: 0.0759 - accuracy: 0.9239 - val_loss: 0.3533 - val_accuracy: 0.7374 - lr: 0.0010 - 19s/epoch - 22ms/step
Epoch 12/50
876/876 - 19s - loss: 0.0745 - accuracy: 0.9257 - val_loss: 0.3714 - val_accuracy: 0.7374 - lr: 0.0010 - 19s/epoch - 22ms/step
Epoch 13/50
876/876 - 19s - loss: 0.0757 - accuracy: 0.9240 - val_loss: 0.3564 - val_accuracy: 0.7357 - lr: 0.0010 - 19s/epoch - 22ms/step
Epoch 14/50
876/876 - 19s - loss: 0.0743 - accuracy: 0.9262 - val_loss: 0.3673 - val_accuracy: 0.7310 - lr: 0.0010 - 19s/epoch - 22ms/step
Epoch 15/50
876/876 - 19s - loss: 0.0732 - accuracy: 0.9268 - val_loss: 0.3641 - val_accuracy: 0.7283 - lr: 0.0010 - 19s/epoch - 22ms/step
Epoch 16/50
876/876 - 19s - loss: 0.0752 - accuracy: 0.9246 - val_loss: 0.3492 - val_accuracy: 0.7452 - lr: 0.0010 - 19s/epoch - 22ms/step
Epoch 17/50
876/876 - 19s - loss: 0.0744 - accuracy: 0.9257 - val_loss: 0.4257 - val_accuracy: 0.7049 - lr: 0.0010 - 19s/epoch - 22ms/step
Epoch 18/50
876/876 - 19s - loss: 0.0739 - accuracy: 0.9257 - val_loss: 0.3802 - val_accuracy: 0.7327 - lr: 0.0010 - 19s/epoch - 22ms/step
Epoch 19/50
876/876 - 19s - loss: 0.0751 - accuracy: 0.9252 - val_loss: 0.3712 - val_accuracy: 0.7233 - lr: 0.0010 - 19s/epoch - 22ms/step
Epoch 20/50
876/876 - 19s - loss: 0.0748 - accuracy: 0.9258 - val_loss: 0.3691 - val_accuracy: 0.7286 - lr: 0.0010 - 19s/epoch - 22ms/step
Epoch 21/50
876/876 - 19s - loss: 0.0738 - accuracy: 0.9267 - val_loss: 0.3543 - val_accuracy: 0.7403 - lr: 0.0010 - 19s/epoch - 22ms/step
Epoch 22/50
876/876 - 19s - loss: 0.0731 - accuracy: 0.9271 - val_loss: 0.3641 - val_accuracy: 0.7415 - lr: 0.0010 - 19s/epoch - 22ms/step
Epoch 23/50
876/876 - 19s - loss: 0.0734 - accuracy: 0.9268 - val_loss: 0.3775 - val_accuracy: 0.7258 - lr: 0.0010 - 19s/epoch - 22ms/step
Epoch 24/50
876/876 - 19s - loss: 0.0734 - accuracy: 0.9269 - val_loss: 0.3841 - val_accuracy: 0.7283 - lr: 0.0010 - 19s/epoch - 22ms/step
Epoch 25/50
876/876 - 19s - loss: 0.0734 - accuracy: 0.9263 - val_loss: 0.3778 - val_accuracy: 0.7347 - lr: 0.0010 - 19s/epoch - 22ms/step
Epoch 26/50
876/876 - 19s - loss: 0.0725 - accuracy: 0.9279 - val_loss: 0.3565 - val_accuracy: 0.7479 - lr: 0.0010 - 19s/epoch - 22ms/step
Epoch 27/50
876/876 - 19s - loss: 0.0744 - accuracy: 0.9259 - val_loss: 0.3586 - val_accuracy: 0.7410 - lr: 0.0010 - 19s/epoch - 22ms/step
Epoch 28/50
876/876 - 19s - loss: 0.0726 - accuracy: 0.9281 - val_loss: 0.4155 - val_accuracy: 0.7130 - lr: 0.0010 - 19s/epoch - 22ms/step
Epoch 29/50
876/876 - 19s - loss: 0.0718 - accuracy: 0.9288 - val_loss: 0.4080 - val_accuracy: 0.7173 - lr: 0.0010 - 19s/epoch - 22ms/step
Epoch 30/50
876/876 - 19s - loss: 0.0724 - accuracy: 0.9284 - val_loss: 0.3938 - val_accuracy: 0.7262 - lr: 0.0010 - 19s/epoch - 22ms/step
Epoch 31/50
876/876 - 19s - loss: 0.0728 - accuracy: 0.9271 - val_loss: 0.3666 - val_accuracy: 0.7376 - lr: 0.0010 - 19s/epoch - 22ms/step
Epoch 32/50
876/876 - 19s - loss: 0.0730 - accuracy: 0.9270 - val_loss: 0.3730 - val_accuracy: 0.7336 - lr: 0.0010 - 19s/epoch - 22ms/step
Epoch 33/50
876/876 - 19s - loss: 0.0727 - accuracy: 0.9275 - val_loss: 0.3718 - val_accuracy: 0.7341 - lr: 0.0010 - 19s/epoch - 22ms/step
Epoch 34/50
876/876 - 19s - loss: 0.0719 - accuracy: 0.9279 - val_loss: 0.4012 - val_accuracy: 0.7122 - lr: 0.0010 - 19s/epoch - 22ms/step
Epoch 35/50
876/876 - 19s - loss: 0.0736 - accuracy: 0.9270 - val_loss: 0.3921 - val_accuracy: 0.7241 - lr: 0.0010 - 19s/epoch - 22ms/step
Epoch 36/50
876/876 - 19s - loss: 0.0731 - accuracy: 0.9272 - val_loss: 0.3735 - val_accuracy: 0.7330 - lr: 0.0010 - 19s/epoch - 22ms/step
Epoch 37/50
876/876 - 19s - loss: 0.0721 - accuracy: 0.9276 - val_loss: 0.3617 - val_accuracy: 0.7320 - lr: 0.0010 - 19s/epoch - 22ms/step
Epoch 38/50
876/876 - 19s - loss: 0.0728 - accuracy: 0.9284 - val_loss: 0.3737 - val_accuracy: 0.7343 - lr: 0.0010 - 19s/epoch - 22ms/step
Epoch 39/50
876/876 - 19s - loss: 0.0723 - accuracy: 0.9283 - val_loss: 0.3559 - val_accuracy: 0.7484 - lr: 0.0010 - 19s/epoch - 22ms/step
Epoch 40/50
876/876 - 19s - loss: 0.0719 - accuracy: 0.9272 - val_loss: 0.4184 - val_accuracy: 0.7171 - lr: 0.0010 - 19s/epoch - 22ms/step
Epoch 41/50
876/876 - 19s - loss: 0.0707 - accuracy: 0.9305 - val_loss: 0.3895 - val_accuracy: 0.7298 - lr: 0.0010 - 19s/epoch - 22ms/step
Epoch 42/50
876/876 - 19s - loss: 0.0720 - accuracy: 0.9286 - val_loss: 0.4057 - val_accuracy: 0.7167 - lr: 0.0010 - 19s/epoch - 22ms/step
Epoch 43/50
876/876 - 19s - loss: 0.0723 - accuracy: 0.9282 - val_loss: 0.3916 - val_accuracy: 0.7252 - lr: 0.0010 - 19s/epoch - 22ms/step
Epoch 44/50
876/876 - 19s - loss: 0.0724 - accuracy: 0.9285 - val_loss: 0.3861 - val_accuracy: 0.7238 - lr: 0.0010 - 19s/epoch - 22ms/step
Epoch 45/50
876/876 - 19s - loss: 0.0728 - accuracy: 0.9279 - val_loss: 0.3490 - val_accuracy: 0.7459 - lr: 0.0010 - 19s/epoch - 22ms/step
Epoch 46/50
876/876 - 19s - loss: 0.0714 - accuracy: 0.9288 - val_loss: 0.3590 - val_accuracy: 0.7431 - lr: 0.0010 - 19s/epoch - 22ms/step
Epoch 47/50
876/876 - 19s - loss: 0.0719 - accuracy: 0.9282 - val_loss: 0.3570 - val_accuracy: 0.7477 - lr: 0.0010 - 19s/epoch - 22ms/step
Epoch 48/50
876/876 - 19s - loss: 0.0702 - accuracy: 0.9304 - val_loss: 0.3618 - val_accuracy: 0.7436 - lr: 0.0010 - 19s/epoch - 22ms/step
Epoch 49/50
876/876 - 19s - loss: 0.0713 - accuracy: 0.9297 - val_loss: 0.3713 - val_accuracy: 0.7340 - lr: 0.0010 - 19s/epoch - 22ms/step
Epoch 50/50
876/876 - 20s - loss: 0.0708 - accuracy: 0.9296 - val_loss: 0.3867 - val_accuracy: 0.7299 - lr: 0.0010 - 20s/epoch - 22ms/step
Epoch 1/50
176/176 - 13s - loss: 0.0564 - accuracy: 0.9453 - val_loss: 0.4140 - val_accuracy: 0.7166 - lr: 0.0010 - 13s/epoch - 71ms/step
Epoch 2/50
176/176 - 9s - loss: 0.0522 - accuracy: 0.9506 - val_loss: 0.4365 - val_accuracy: 0.7126 - lr: 0.0010 - 9s/epoch - 53ms/step
Epoch 3/50
176/176 - 9s - loss: 0.0516 - accuracy: 0.9513 - val_loss: 0.4323 - val_accuracy: 0.7194 - lr: 0.0010 - 9s/epoch - 53ms/step
Epoch 4/50
176/176 - 9s - loss: 0.0510 - accuracy: 0.9510 - val_loss: 0.4478 - val_accuracy: 0.7151 - lr: 0.0010 - 9s/epoch - 53ms/step
Epoch 5/50
176/176 - 9s - loss: 0.0519 - accuracy: 0.9508 - val_loss: 0.4533 - val_accuracy: 0.7140 - lr: 0.0010 - 9s/epoch - 53ms/step
Epoch 6/50
176/176 - 9s - loss: 0.0518 - accuracy: 0.9505 - val_loss: 0.4420 - val_accuracy: 0.7201 - lr: 0.0010 - 9s/epoch - 53ms/step
Epoch 7/50
176/176 - 9s - loss: 0.0533 - accuracy: 0.9490 - val_loss: 0.4847 - val_accuracy: 0.7049 - lr: 0.0010 - 9s/epoch - 53ms/step
Epoch 8/50
176/176 - 9s - loss: 0.0528 - accuracy: 0.9496 - val_loss: 0.4717 - val_accuracy: 0.7122 - lr: 0.0010 - 9s/epoch - 53ms/step
Epoch 9/50
176/176 - 9s - loss: 0.0546 - accuracy: 0.9470 - val_loss: 0.4312 - val_accuracy: 0.7292 - lr: 0.0010 - 9s/epoch - 53ms/step
Epoch 10/50
176/176 - 9s - loss: 0.0544 - accuracy: 0.9476 - val_loss: 0.4725 - val_accuracy: 0.7105 - lr: 0.0010 - 9s/epoch - 53ms/step
Epoch 11/50
176/176 - 9s - loss: 0.0550 - accuracy: 0.9475 - val_loss: 0.4766 - val_accuracy: 0.7105 - lr: 0.0010 - 9s/epoch - 54ms/step
Epoch 12/50
176/176 - 9s - loss: 0.0538 - accuracy: 0.9487 - val_loss: 0.5133 - val_accuracy: 0.6836 - lr: 0.0010 - 9s/epoch - 53ms/step
Epoch 13/50
176/176 - 9s - loss: 0.0542 - accuracy: 0.9483 - val_loss: 0.4454 - val_accuracy: 0.7205 - lr: 0.0010 - 9s/epoch - 53ms/step
Epoch 14/50
176/176 - 9s - loss: 0.0534 - accuracy: 0.9491 - val_loss: 0.4789 - val_accuracy: 0.7106 - lr: 0.0010 - 9s/epoch - 53ms/step
Epoch 15/50
176/176 - 9s - loss: 0.0527 - accuracy: 0.9500 - val_loss: 0.4617 - val_accuracy: 0.7230 - lr: 0.0010 - 9s/epoch - 54ms/step
Epoch 16/50
176/176 - 9s - loss: 0.0533 - accuracy: 0.9492 - val_loss: 0.4727 - val_accuracy: 0.7122 - lr: 0.0010 - 9s/epoch - 53ms/step
Epoch 17/50
176/176 - 9s - loss: 0.0535 - accuracy: 0.9491 - val_loss: 0.4774 - val_accuracy: 0.7183 - lr: 0.0010 - 9s/epoch - 54ms/step
Epoch 18/50
176/176 - 9s - loss: 0.0533 - accuracy: 0.9495 - val_loss: 0.4841 - val_accuracy: 0.7072 - lr: 0.0010 - 9s/epoch - 53ms/step
Epoch 19/50
176/176 - 9s - loss: 0.0540 - accuracy: 0.9487 - val_loss: 0.4668 - val_accuracy: 0.7203 - lr: 0.0010 - 9s/epoch - 53ms/step
Epoch 20/50
176/176 - 9s - loss: 0.0534 - accuracy: 0.9495 - val_loss: 0.4553 - val_accuracy: 0.7261 - lr: 0.0010 - 9s/epoch - 53ms/step
Epoch 21/50
176/176 - 9s - loss: 0.0536 - accuracy: 0.9485 - val_loss: 0.4607 - val_accuracy: 0.7197 - lr: 0.0010 - 9s/epoch - 54ms/step
Epoch 22/50
176/176 - 10s - loss: 0.0538 - accuracy: 0.9481 - val_loss: 0.4715 - val_accuracy: 0.7131 - lr: 0.0010 - 10s/epoch - 54ms/step
Epoch 23/50
176/176 - 9s - loss: 0.0539 - accuracy: 0.9490 - val_loss: 0.4466 - val_accuracy: 0.7236 - lr: 0.0010 - 9s/epoch - 53ms/step
Epoch 24/50
176/176 - 9s - loss: 0.0546 - accuracy: 0.9482 - val_loss: 0.4703 - val_accuracy: 0.7165 - lr: 0.0010 - 9s/epoch - 53ms/step
Epoch 25/50
176/176 - 9s - loss: 0.0503 - accuracy: 0.9523 - val_loss: 0.4743 - val_accuracy: 0.7225 - lr: 0.0010 - 9s/epoch - 53ms/step
Epoch 26/50
176/176 - 9s - loss: 0.0496 - accuracy: 0.9530 - val_loss: 0.4605 - val_accuracy: 0.7202 - lr: 0.0010 - 9s/epoch - 53ms/step
Epoch 27/50
176/176 - 9s - loss: 0.0501 - accuracy: 0.9534 - val_loss: 0.4777 - val_accuracy: 0.7236 - lr: 0.0010 - 9s/epoch - 53ms/step
Epoch 28/50
176/176 - 9s - loss: 0.0509 - accuracy: 0.9521 - val_loss: 0.4880 - val_accuracy: 0.7182 - lr: 0.0010 - 9s/epoch - 54ms/step
Epoch 29/50
176/176 - 9s - loss: 0.0491 - accuracy: 0.9534 - val_loss: 0.4811 - val_accuracy: 0.7157 - lr: 0.0010 - 9s/epoch - 54ms/step
Epoch 30/50
176/176 - 9s - loss: 0.0490 - accuracy: 0.9533 - val_loss: 0.4859 - val_accuracy: 0.7183 - lr: 0.0010 - 9s/epoch - 53ms/step
Epoch 31/50
176/176 - 9s - loss: 0.0503 - accuracy: 0.9525 - val_loss: 0.4750 - val_accuracy: 0.7227 - lr: 0.0010 - 9s/epoch - 53ms/step
Epoch 32/50
176/176 - 9s - loss: 0.0496 - accuracy: 0.9531 - val_loss: 0.5029 - val_accuracy: 0.7061 - lr: 0.0010 - 9s/epoch - 53ms/step
Epoch 33/50
176/176 - 9s - loss: 0.0492 - accuracy: 0.9540 - val_loss: 0.5061 - val_accuracy: 0.7063 - lr: 0.0010 - 9s/epoch - 53ms/step
Epoch 34/50
176/176 - 9s - loss: 0.0491 - accuracy: 0.9538 - val_loss: 0.4891 - val_accuracy: 0.7184 - lr: 0.0010 - 9s/epoch - 54ms/step
Epoch 35/50
176/176 - 9s - loss: 0.0503 - accuracy: 0.9526 - val_loss: 0.4903 - val_accuracy: 0.7212 - lr: 0.0010 - 9s/epoch - 53ms/step
Epoch 36/50
176/176 - 9s - loss: 0.0505 - accuracy: 0.9518 - val_loss: 0.5116 - val_accuracy: 0.7054 - lr: 0.0010 - 9s/epoch - 54ms/step
Epoch 37/50
176/176 - 9s - loss: 0.0518 - accuracy: 0.9511 - val_loss: 0.5122 - val_accuracy: 0.7037 - lr: 0.0010 - 9s/epoch - 53ms/step
Epoch 38/50
176/176 - 9s - loss: 0.0512 - accuracy: 0.9517 - val_loss: 0.4775 - val_accuracy: 0.7247 - lr: 0.0010 - 9s/epoch - 53ms/step
Epoch 39/50
176/176 - 9s - loss: 0.0515 - accuracy: 0.9505 - val_loss: 0.5000 - val_accuracy: 0.7144 - lr: 0.0010 - 9s/epoch - 54ms/step
Epoch 40/50
176/176 - 9s - loss: 0.0508 - accuracy: 0.9519 - val_loss: 0.4876 - val_accuracy: 0.7151 - lr: 0.0010 - 9s/epoch - 53ms/step
Epoch 41/50
176/176 - 9s - loss: 0.0495 - accuracy: 0.9532 - val_loss: 0.4791 - val_accuracy: 0.7165 - lr: 0.0010 - 9s/epoch - 53ms/step
Epoch 42/50
176/176 - 9s - loss: 0.0475 - accuracy: 0.9553 - val_loss: 0.5162 - val_accuracy: 0.7085 - lr: 0.0010 - 9s/epoch - 54ms/step
Epoch 43/50
176/176 - 9s - loss: 0.0479 - accuracy: 0.9553 - val_loss: 0.5077 - val_accuracy: 0.7104 - lr: 0.0010 - 9s/epoch - 53ms/step
Epoch 44/50
176/176 - 9s - loss: 0.0498 - accuracy: 0.9532 - val_loss: 0.4838 - val_accuracy: 0.7183 - lr: 0.0010 - 9s/epoch - 53ms/step
Epoch 45/50
176/176 - 9s - loss: 0.0488 - accuracy: 0.9541 - val_loss: 0.5206 - val_accuracy: 0.7072 - lr: 0.0010 - 9s/epoch - 53ms/step
Epoch 46/50
176/176 - 9s - loss: 0.0501 - accuracy: 0.9528 - val_loss: 0.5059 - val_accuracy: 0.7124 - lr: 0.0010 - 9s/epoch - 54ms/step
Epoch 47/50
176/176 - 9s - loss: 0.0490 - accuracy: 0.9536 - val_loss: 0.5113 - val_accuracy: 0.7073 - lr: 0.0010 - 9s/epoch - 53ms/step
Epoch 48/50
176/176 - 9s - loss: 0.0494 - accuracy: 0.9525 - val_loss: 0.5098 - val_accuracy: 0.7094 - lr: 0.0010 - 9s/epoch - 53ms/step
Epoch 49/50
176/176 - 9s - loss: 0.0500 - accuracy: 0.9534 - val_loss: 0.4704 - val_accuracy: 0.7274 - lr: 0.0010 - 9s/epoch - 53ms/step
Epoch 50/50
176/176 - 9s - loss: 0.0485 - accuracy: 0.9544 - val_loss: 0.4874 - val_accuracy: 0.7220 - lr: 0.0010 - 9s/epoch - 53ms/step
Epoch 1/50
36/36 - 10s - loss: 0.0472 - accuracy: 0.9559 - val_loss: 0.5218 - val_accuracy: 0.7042 - lr: 0.0010 - 10s/epoch - 288ms/step
Epoch 2/50
36/36 - 8s - loss: 0.0428 - accuracy: 0.9602 - val_loss: 0.5219 - val_accuracy: 0.7050 - lr: 0.0010 - 8s/epoch - 218ms/step
Epoch 3/50
36/36 - 8s - loss: 0.0426 - accuracy: 0.9609 - val_loss: 0.5290 - val_accuracy: 0.7021 - lr: 0.0010 - 8s/epoch - 218ms/step
Epoch 4/50
36/36 - 8s - loss: 0.0429 - accuracy: 0.9607 - val_loss: 0.5372 - val_accuracy: 0.6978 - lr: 0.0010 - 8s/epoch - 218ms/step
Epoch 5/50
36/36 - 8s - loss: 0.0411 - accuracy: 0.9622 - val_loss: 0.5382 - val_accuracy: 0.7012 - lr: 0.0010 - 8s/epoch - 217ms/step
Epoch 6/50
36/36 - 8s - loss: 0.0407 - accuracy: 0.9628 - val_loss: 0.5347 - val_accuracy: 0.7034 - lr: 0.0010 - 8s/epoch - 219ms/step
Epoch 7/50
36/36 - 8s - loss: 0.0414 - accuracy: 0.9614 - val_loss: 0.5335 - val_accuracy: 0.7059 - lr: 0.0010 - 8s/epoch - 220ms/step
Epoch 8/50
36/36 - 8s - loss: 0.0411 - accuracy: 0.9626 - val_loss: 0.5312 - val_accuracy: 0.7071 - lr: 0.0010 - 8s/epoch - 220ms/step
Epoch 9/50
36/36 - 8s - loss: 0.0414 - accuracy: 0.9620 - val_loss: 0.5406 - val_accuracy: 0.7064 - lr: 0.0010 - 8s/epoch - 218ms/step
Epoch 10/50
36/36 - 8s - loss: 0.0409 - accuracy: 0.9630 - val_loss: 0.5416 - val_accuracy: 0.7060 - lr: 0.0010 - 8s/epoch - 217ms/step
Epoch 11/50
36/36 - 8s - loss: 0.0397 - accuracy: 0.9632 - val_loss: 0.5565 - val_accuracy: 0.6992 - lr: 0.0010 - 8s/epoch - 218ms/step
Epoch 12/50
36/36 - 8s - loss: 0.0397 - accuracy: 0.9636 - val_loss: 0.5626 - val_accuracy: 0.6983 - lr: 0.0010 - 8s/epoch - 218ms/step
Epoch 13/50
36/36 - 8s - loss: 0.0405 - accuracy: 0.9630 - val_loss: 0.5507 - val_accuracy: 0.7039 - lr: 0.0010 - 8s/epoch - 217ms/step
Epoch 14/50
36/36 - 8s - loss: 0.0400 - accuracy: 0.9634 - val_loss: 0.5460 - val_accuracy: 0.7076 - lr: 0.0010 - 8s/epoch - 217ms/step
Epoch 15/50
36/36 - 8s - loss: 0.0410 - accuracy: 0.9623 - val_loss: 0.5499 - val_accuracy: 0.7066 - lr: 0.0010 - 8s/epoch - 219ms/step
Epoch 16/50
36/36 - 8s - loss: 0.0400 - accuracy: 0.9631 - val_loss: 0.5473 - val_accuracy: 0.7061 - lr: 0.0010 - 8s/epoch - 220ms/step
Epoch 17/50
36/36 - 8s - loss: 0.0409 - accuracy: 0.9621 - val_loss: 0.5603 - val_accuracy: 0.6982 - lr: 0.0010 - 8s/epoch - 220ms/step
Epoch 18/50
36/36 - 8s - loss: 0.0397 - accuracy: 0.9635 - val_loss: 0.5589 - val_accuracy: 0.7036 - lr: 0.0010 - 8s/epoch - 218ms/step
Epoch 19/50
36/36 - 8s - loss: 0.0409 - accuracy: 0.9627 - val_loss: 0.5471 - val_accuracy: 0.7067 - lr: 0.0010 - 8s/epoch - 218ms/step
Epoch 20/50
36/36 - 8s - loss: 0.0396 - accuracy: 0.9640 - val_loss: 0.5489 - val_accuracy: 0.7082 - lr: 0.0010 - 8s/epoch - 220ms/step
Epoch 21/50
36/36 - 8s - loss: 0.0386 - accuracy: 0.9648 - val_loss: 0.5631 - val_accuracy: 0.6998 - lr: 0.0010 - 8s/epoch - 219ms/step
Epoch 22/50
36/36 - 8s - loss: 0.0407 - accuracy: 0.9627 - val_loss: 0.5756 - val_accuracy: 0.6963 - lr: 0.0010 - 8s/epoch - 219ms/step
Epoch 23/50
36/36 - 8s - loss: 0.0397 - accuracy: 0.9638 - val_loss: 0.5649 - val_accuracy: 0.7019 - lr: 0.0010 - 8s/epoch - 219ms/step
Epoch 24/50
36/36 - 8s - loss: 0.0393 - accuracy: 0.9640 - val_loss: 0.5742 - val_accuracy: 0.6991 - lr: 0.0010 - 8s/epoch - 220ms/step
Epoch 25/50
36/36 - 8s - loss: 0.0397 - accuracy: 0.9637 - val_loss: 0.5696 - val_accuracy: 0.7013 - lr: 0.0010 - 8s/epoch - 219ms/step
Epoch 26/50
36/36 - 8s - loss: 0.0399 - accuracy: 0.9639 - val_loss: 0.5616 - val_accuracy: 0.7044 - lr: 0.0010 - 8s/epoch - 219ms/step
Epoch 27/50
36/36 - 8s - loss: 0.0405 - accuracy: 0.9630 - val_loss: 0.5602 - val_accuracy: 0.7026 - lr: 0.0010 - 8s/epoch - 219ms/step
Epoch 28/50
36/36 - 8s - loss: 0.0398 - accuracy: 0.9635 - val_loss: 0.5682 - val_accuracy: 0.7008 - lr: 0.0010 - 8s/epoch - 219ms/step
Epoch 29/50
36/36 - 8s - loss: 0.0398 - accuracy: 0.9643 - val_loss: 0.5413 - val_accuracy: 0.7112 - lr: 0.0010 - 8s/epoch - 220ms/step
Epoch 30/50
36/36 - 8s - loss: 0.0399 - accuracy: 0.9630 - val_loss: 0.5682 - val_accuracy: 0.7004 - lr: 0.0010 - 8s/epoch - 219ms/step
Epoch 31/50
36/36 - 8s - loss: 0.0401 - accuracy: 0.9633 - val_loss: 0.5597 - val_accuracy: 0.7051 - lr: 0.0010 - 8s/epoch - 219ms/step
Epoch 32/50
36/36 - 8s - loss: 0.0393 - accuracy: 0.9637 - val_loss: 0.5715 - val_accuracy: 0.7010 - lr: 0.0010 - 8s/epoch - 220ms/step
Epoch 33/50
36/36 - 8s - loss: 0.0389 - accuracy: 0.9643 - val_loss: 0.5700 - val_accuracy: 0.7033 - lr: 0.0010 - 8s/epoch - 219ms/step
Epoch 34/50
36/36 - 8s - loss: 0.0400 - accuracy: 0.9635 - val_loss: 0.5729 - val_accuracy: 0.7040 - lr: 0.0010 - 8s/epoch - 219ms/step
Epoch 35/50
36/36 - 8s - loss: 0.0415 - accuracy: 0.9623 - val_loss: 0.5734 - val_accuracy: 0.7035 - lr: 0.0010 - 8s/epoch - 217ms/step
Epoch 36/50
36/36 - 8s - loss: 0.0415 - accuracy: 0.9621 - val_loss: 0.5659 - val_accuracy: 0.7056 - lr: 0.0010 - 8s/epoch - 218ms/step
Epoch 37/50
36/36 - 8s - loss: 0.0398 - accuracy: 0.9634 - val_loss: 0.5838 - val_accuracy: 0.7005 - lr: 0.0010 - 8s/epoch - 219ms/step
Epoch 38/50
36/36 - 8s - loss: 0.0403 - accuracy: 0.9631 - val_loss: 0.5571 - val_accuracy: 0.7099 - lr: 0.0010 - 8s/epoch - 218ms/step
Epoch 39/50
36/36 - 8s - loss: 0.0391 - accuracy: 0.9638 - val_loss: 0.5679 - val_accuracy: 0.7074 - lr: 0.0010 - 8s/epoch - 217ms/step
Epoch 40/50
36/36 - 8s - loss: 0.0396 - accuracy: 0.9633 - val_loss: 0.5627 - val_accuracy: 0.7100 - lr: 0.0010 - 8s/epoch - 220ms/step
Epoch 41/50
36/36 - 8s - loss: 0.0400 - accuracy: 0.9632 - val_loss: 0.5734 - val_accuracy: 0.7039 - lr: 0.0010 - 8s/epoch - 219ms/step
Epoch 42/50
36/36 - 8s - loss: 0.0403 - accuracy: 0.9627 - val_loss: 0.5617 - val_accuracy: 0.7093 - lr: 0.0010 - 8s/epoch - 220ms/step
Epoch 43/50
36/36 - 8s - loss: 0.0392 - accuracy: 0.9646 - val_loss: 0.5605 - val_accuracy: 0.7094 - lr: 0.0010 - 8s/epoch - 218ms/step
Epoch 44/50
36/36 - 8s - loss: 0.0390 - accuracy: 0.9647 - val_loss: 0.5755 - val_accuracy: 0.7031 - lr: 0.0010 - 8s/epoch - 217ms/step
Epoch 45/50
36/36 - 8s - loss: 0.0392 - accuracy: 0.9639 - val_loss: 0.5725 - val_accuracy: 0.7029 - lr: 0.0010 - 8s/epoch - 218ms/step
Epoch 46/50
36/36 - 8s - loss: 0.0388 - accuracy: 0.9649 - val_loss: 0.5792 - val_accuracy: 0.7038 - lr: 0.0010 - 8s/epoch - 219ms/step
Epoch 47/50
36/36 - 8s - loss: 0.0383 - accuracy: 0.9655 - val_loss: 0.5778 - val_accuracy: 0.7027 - lr: 0.0010 - 8s/epoch - 218ms/step
Epoch 48/50
36/36 - 8s - loss: 0.0377 - accuracy: 0.9661 - val_loss: 0.5740 - val_accuracy: 0.7058 - lr: 0.0010 - 8s/epoch - 219ms/step
Epoch 49/50
36/36 - 8s - loss: 0.0385 - accuracy: 0.9645 - val_loss: 0.5704 - val_accuracy: 0.7072 - lr: 0.0010 - 8s/epoch - 220ms/step
Epoch 50/50
36/36 - 8s - loss: 0.0375 - accuracy: 0.9660 - val_loss: 0.5800 - val_accuracy: 0.7045 - lr: 0.0010 - 8s/epoch - 220ms/step
Epoch 1/75
4378/4378 - 80s - loss: 0.0977 - accuracy: 0.9031 - val_loss: 0.3840 - val_accuracy: 0.7308 - lr: 0.0010 - 80s/epoch - 18ms/step
Epoch 2/75
4378/4378 - 77s - loss: 0.0987 - accuracy: 0.8998 - val_loss: 0.3270 - val_accuracy: 0.7453 - lr: 0.0010 - 77s/epoch - 18ms/step
Epoch 3/75
4378/4378 - 77s - loss: 0.0997 - accuracy: 0.8991 - val_loss: 0.3045 - val_accuracy: 0.7458 - lr: 0.0010 - 77s/epoch - 18ms/step
Epoch 4/75
4378/4378 - 77s - loss: 0.1017 - accuracy: 0.8952 - val_loss: 0.3285 - val_accuracy: 0.7272 - lr: 0.0010 - 77s/epoch - 18ms/step
Epoch 5/75
4378/4378 - 77s - loss: 0.1001 - accuracy: 0.8967 - val_loss: 0.2980 - val_accuracy: 0.7503 - lr: 0.0010 - 77s/epoch - 18ms/step
Epoch 6/75
4378/4378 - 77s - loss: 0.1038 - accuracy: 0.8931 - val_loss: 0.3129 - val_accuracy: 0.7349 - lr: 0.0010 - 77s/epoch - 18ms/step
Epoch 7/75
4378/4378 - 77s - loss: 0.1029 - accuracy: 0.8940 - val_loss: 0.3270 - val_accuracy: 0.7363 - lr: 0.0010 - 77s/epoch - 18ms/step
Epoch 8/75
4378/4378 - 78s - loss: 0.1005 - accuracy: 0.8959 - val_loss: 0.3566 - val_accuracy: 0.7110 - lr: 0.0010 - 78s/epoch - 18ms/step
Epoch 9/75
4378/4378 - 77s - loss: 0.1038 - accuracy: 0.8934 - val_loss: 0.3099 - val_accuracy: 0.7400 - lr: 0.0010 - 77s/epoch - 18ms/step
Epoch 10/75
4378/4378 - 78s - loss: 0.1010 - accuracy: 0.8965 - val_loss: 0.3233 - val_accuracy: 0.7286 - lr: 0.0010 - 78s/epoch - 18ms/step
Epoch 11/75
4378/4378 - 78s - loss: 0.1014 - accuracy: 0.8961 - val_loss: 0.3050 - val_accuracy: 0.7512 - lr: 0.0010 - 78s/epoch - 18ms/step
Epoch 12/75
4378/4378 - 78s - loss: 0.1024 - accuracy: 0.8953 - val_loss: 0.3176 - val_accuracy: 0.7290 - lr: 0.0010 - 78s/epoch - 18ms/step
Epoch 13/75
4378/4378 - 77s - loss: 0.1012 - accuracy: 0.8967 - val_loss: 0.3303 - val_accuracy: 0.7387 - lr: 0.0010 - 77s/epoch - 18ms/step
Epoch 14/75
4378/4378 - 78s - loss: 0.1016 - accuracy: 0.8961 - val_loss: 0.2606 - val_accuracy: 0.7834 - lr: 0.0010 - 78s/epoch - 18ms/step
Epoch 15/75
4378/4378 - 78s - loss: 0.1027 - accuracy: 0.8944 - val_loss: 0.3057 - val_accuracy: 0.7538 - lr: 0.0010 - 78s/epoch - 18ms/step
Epoch 16/75
4378/4378 - 78s - loss: 0.1025 - accuracy: 0.8952 - val_loss: 0.3059 - val_accuracy: 0.7406 - lr: 0.0010 - 78s/epoch - 18ms/step
Epoch 17/75
4378/4378 - 78s - loss: 0.1025 - accuracy: 0.8943 - val_loss: 0.2917 - val_accuracy: 0.7417 - lr: 0.0010 - 78s/epoch - 18ms/step
Epoch 18/75
4378/4378 - 77s - loss: 0.1029 - accuracy: 0.8939 - val_loss: 0.3431 - val_accuracy: 0.7294 - lr: 0.0010 - 77s/epoch - 18ms/step
Epoch 19/75
4378/4378 - 77s - loss: 0.1012 - accuracy: 0.8960 - val_loss: 0.3082 - val_accuracy: 0.7373 - lr: 0.0010 - 77s/epoch - 18ms/step
Epoch 20/75
4378/4378 - 77s - loss: 0.1019 - accuracy: 0.8958 - val_loss: 0.3167 - val_accuracy: 0.7262 - lr: 0.0010 - 77s/epoch - 18ms/step
Epoch 21/75
4378/4378 - 77s - loss: 0.1025 - accuracy: 0.8947 - val_loss: 0.3043 - val_accuracy: 0.7296 - lr: 0.0010 - 77s/epoch - 18ms/step
Epoch 22/75
4378/4378 - 78s - loss: 0.1020 - accuracy: 0.8953 - val_loss: 0.3090 - val_accuracy: 0.7356 - lr: 0.0010 - 78s/epoch - 18ms/step
Epoch 23/75
4378/4378 - 78s - loss: 0.1008 - accuracy: 0.8963 - val_loss: 0.3257 - val_accuracy: 0.7195 - lr: 0.0010 - 78s/epoch - 18ms/step
Epoch 24/75
4378/4378 - 78s - loss: 0.1000 - accuracy: 0.8981 - val_loss: 0.3471 - val_accuracy: 0.7292 - lr: 0.0010 - 78s/epoch - 18ms/step
Epoch 25/75
4378/4378 - 77s - loss: 0.1021 - accuracy: 0.8956 - val_loss: 0.2855 - val_accuracy: 0.7521 - lr: 0.0010 - 77s/epoch - 18ms/step
Epoch 26/75
4378/4378 - 78s - loss: 0.1024 - accuracy: 0.8954 - val_loss: 0.2916 - val_accuracy: 0.7612 - lr: 0.0010 - 78s/epoch - 18ms/step
Epoch 27/75
4378/4378 - 78s - loss: 0.0998 - accuracy: 0.8977 - val_loss: 0.3353 - val_accuracy: 0.7072 - lr: 0.0010 - 78s/epoch - 18ms/step
Epoch 28/75
4378/4378 - 78s - loss: 0.1014 - accuracy: 0.8962 - val_loss: 0.3112 - val_accuracy: 0.7427 - lr: 0.0010 - 78s/epoch - 18ms/step
Epoch 29/75
4378/4378 - 77s - loss: 0.1019 - accuracy: 0.8956 - val_loss: 0.2953 - val_accuracy: 0.7455 - lr: 0.0010 - 77s/epoch - 18ms/step
Epoch 30/75
4378/4378 - 78s - loss: 0.1015 - accuracy: 0.8960 - val_loss: 0.3156 - val_accuracy: 0.7358 - lr: 0.0010 - 78s/epoch - 18ms/step
Epoch 31/75
4378/4378 - 78s - loss: 0.1009 - accuracy: 0.8964 - val_loss: 0.3138 - val_accuracy: 0.7347 - lr: 0.0010 - 78s/epoch - 18ms/step
Epoch 32/75
4378/4378 - 78s - loss: 0.1019 - accuracy: 0.8945 - val_loss: 0.2926 - val_accuracy: 0.7551 - lr: 0.0010 - 78s/epoch - 18ms/step
Epoch 33/75
4378/4378 - 78s - loss: 0.1026 - accuracy: 0.8947 - val_loss: 0.3210 - val_accuracy: 0.7353 - lr: 0.0010 - 78s/epoch - 18ms/step
Epoch 34/75
4378/4378 - 78s - loss: 0.1031 - accuracy: 0.8933 - val_loss: 0.3137 - val_accuracy: 0.7327 - lr: 0.0010 - 78s/epoch - 18ms/step
Epoch 35/75
4378/4378 - 78s - loss: 0.1026 - accuracy: 0.8957 - val_loss: 0.3069 - val_accuracy: 0.7197 - lr: 0.0010 - 78s/epoch - 18ms/step
Epoch 36/75
4378/4378 - 78s - loss: 0.1023 - accuracy: 0.8952 - val_loss: 0.3071 - val_accuracy: 0.7296 - lr: 0.0010 - 78s/epoch - 18ms/step
Epoch 37/75
4378/4378 - 78s - loss: 0.1019 - accuracy: 0.8951 - val_loss: 0.3065 - val_accuracy: 0.7322 - lr: 0.0010 - 78s/epoch - 18ms/step
Epoch 38/75
4378/4378 - 78s - loss: 0.1005 - accuracy: 0.8968 - val_loss: 0.3006 - val_accuracy: 0.7419 - lr: 0.0010 - 78s/epoch - 18ms/step
Epoch 39/75
4378/4378 - 78s - loss: 0.1022 - accuracy: 0.8946 - val_loss: 0.2962 - val_accuracy: 0.7437 - lr: 0.0010 - 78s/epoch - 18ms/step
Epoch 40/75
4378/4378 - 78s - loss: 0.1005 - accuracy: 0.8971 - val_loss: 0.3125 - val_accuracy: 0.7321 - lr: 0.0010 - 78s/epoch - 18ms/step
Epoch 41/75
4378/4378 - 78s - loss: 0.1020 - accuracy: 0.8950 - val_loss: 0.3217 - val_accuracy: 0.7135 - lr: 0.0010 - 78s/epoch - 18ms/step
Epoch 42/75
4378/4378 - 78s - loss: 0.1018 - accuracy: 0.8953 - val_loss: 0.2733 - val_accuracy: 0.7634 - lr: 0.0010 - 78s/epoch - 18ms/step
Epoch 43/75
4378/4378 - 78s - loss: 0.1002 - accuracy: 0.8975 - val_loss: 0.3514 - val_accuracy: 0.6957 - lr: 0.0010 - 78s/epoch - 18ms/step
Epoch 44/75
4378/4378 - 78s - loss: 0.1003 - accuracy: 0.8969 - val_loss: 0.3568 - val_accuracy: 0.7058 - lr: 0.0010 - 78s/epoch - 18ms/step
Epoch 45/75
4378/4378 - 78s - loss: 0.1004 - accuracy: 0.8969 - val_loss: 0.3157 - val_accuracy: 0.7291 - lr: 0.0010 - 78s/epoch - 18ms/step
Epoch 46/75
4378/4378 - 78s - loss: 0.1009 - accuracy: 0.8971 - val_loss: 0.3178 - val_accuracy: 0.7363 - lr: 0.0010 - 78s/epoch - 18ms/step
Epoch 47/75
4378/4378 - 78s - loss: 0.1005 - accuracy: 0.8972 - val_loss: 0.3139 - val_accuracy: 0.7312 - lr: 0.0010 - 78s/epoch - 18ms/step
Epoch 48/75
4378/4378 - 78s - loss: 0.1018 - accuracy: 0.8951 - val_loss: 0.3294 - val_accuracy: 0.7304 - lr: 0.0010 - 78s/epoch - 18ms/step
Epoch 49/75
4378/4378 - 78s - loss: 0.0995 - accuracy: 0.8977 - val_loss: 0.3198 - val_accuracy: 0.7314 - lr: 0.0010 - 78s/epoch - 18ms/step
Epoch 50/75
4378/4378 - 78s - loss: 0.1012 - accuracy: 0.8954 - val_loss: 0.3270 - val_accuracy: 0.7299 - lr: 0.0010 - 78s/epoch - 18ms/step
Epoch 51/75
4378/4378 - 78s - loss: 0.1000 - accuracy: 0.8972 - val_loss: 0.2959 - val_accuracy: 0.7466 - lr: 0.0010 - 78s/epoch - 18ms/step
Epoch 52/75
4378/4378 - 78s - loss: 0.1020 - accuracy: 0.8951 - val_loss: 0.3007 - val_accuracy: 0.7430 - lr: 0.0010 - 78s/epoch - 18ms/step
Epoch 53/75
4378/4378 - 78s - loss: 0.1025 - accuracy: 0.8948 - val_loss: 0.3379 - val_accuracy: 0.7262 - lr: 0.0010 - 78s/epoch - 18ms/step
Epoch 54/75
4378/4378 - 78s - loss: 0.1007 - accuracy: 0.8970 - val_loss: 0.3115 - val_accuracy: 0.7341 - lr: 0.0010 - 78s/epoch - 18ms/step
Epoch 55/75
4378/4378 - 78s - loss: 0.1013 - accuracy: 0.8962 - val_loss: 0.2969 - val_accuracy: 0.7564 - lr: 0.0010 - 78s/epoch - 18ms/step
Epoch 56/75
4378/4378 - 78s - loss: 0.1011 - accuracy: 0.8961 - val_loss: 0.2959 - val_accuracy: 0.7504 - lr: 0.0010 - 78s/epoch - 18ms/step
Epoch 57/75
4378/4378 - 78s - loss: 0.1021 - accuracy: 0.8957 - val_loss: 0.2949 - val_accuracy: 0.7547 - lr: 0.0010 - 78s/epoch - 18ms/step
Epoch 58/75
4378/4378 - 78s - loss: 0.1020 - accuracy: 0.8954 - val_loss: 0.2942 - val_accuracy: 0.7520 - lr: 0.0010 - 78s/epoch - 18ms/step
Epoch 59/75
4378/4378 - 78s - loss: 0.1019 - accuracy: 0.8946 - val_loss: 0.3256 - val_accuracy: 0.7290 - lr: 0.0010 - 78s/epoch - 18ms/step
Epoch 60/75
4378/4378 - 78s - loss: 0.1007 - accuracy: 0.8964 - val_loss: 0.2798 - val_accuracy: 0.7634 - lr: 0.0010 - 78s/epoch - 18ms/step
Epoch 61/75
4378/4378 - 78s - loss: 0.1010 - accuracy: 0.8959 - val_loss: 0.3249 - val_accuracy: 0.7302 - lr: 0.0010 - 78s/epoch - 18ms/step
Epoch 62/75
4378/4378 - 77s - loss: 0.1000 - accuracy: 0.8977 - val_loss: 0.3160 - val_accuracy: 0.7416 - lr: 0.0010 - 77s/epoch - 18ms/step
Epoch 63/75
4378/4378 - 78s - loss: 0.0993 - accuracy: 0.8976 - val_loss: 0.2738 - val_accuracy: 0.7658 - lr: 0.0010 - 78s/epoch - 18ms/step
Epoch 64/75
4378/4378 - 78s - loss: 0.1021 - accuracy: 0.8954 - val_loss: 0.3019 - val_accuracy: 0.7530 - lr: 0.0010 - 78s/epoch - 18ms/step
Epoch 65/75
4378/4378 - 77s - loss: 0.0996 - accuracy: 0.8986 - val_loss: 0.3054 - val_accuracy: 0.7391 - lr: 0.0010 - 77s/epoch - 18ms/step
Epoch 66/75
4378/4378 - 78s - loss: 0.1003 - accuracy: 0.8980 - val_loss: 0.3081 - val_accuracy: 0.7421 - lr: 0.0010 - 78s/epoch - 18ms/step
Epoch 67/75
4378/4378 - 78s - loss: 0.1011 - accuracy: 0.8962 - val_loss: 0.3212 - val_accuracy: 0.7352 - lr: 0.0010 - 78s/epoch - 18ms/step
Epoch 68/75
4378/4378 - 78s - loss: 0.0998 - accuracy: 0.8978 - val_loss: 0.2756 - val_accuracy: 0.7631 - lr: 0.0010 - 78s/epoch - 18ms/step
Epoch 69/75
4378/4378 - 78s - loss: 0.0991 - accuracy: 0.8986 - val_loss: 0.3180 - val_accuracy: 0.7384 - lr: 0.0010 - 78s/epoch - 18ms/step
Epoch 70/75
4378/4378 - 78s - loss: 0.0997 - accuracy: 0.8978 - val_loss: 0.3016 - val_accuracy: 0.7400 - lr: 0.0010 - 78s/epoch - 18ms/step
Epoch 71/75
4378/4378 - 78s - loss: 0.1007 - accuracy: 0.8964 - val_loss: 0.3394 - val_accuracy: 0.7259 - lr: 0.0010 - 78s/epoch - 18ms/step
Epoch 72/75
4378/4378 - 78s - loss: 0.1000 - accuracy: 0.8982 - val_loss: 0.2978 - val_accuracy: 0.7414 - lr: 0.0010 - 78s/epoch - 18ms/step
Epoch 73/75
4378/4378 - 78s - loss: 0.1005 - accuracy: 0.8965 - val_loss: 0.3056 - val_accuracy: 0.7417 - lr: 0.0010 - 78s/epoch - 18ms/step
Epoch 74/75
4378/4378 - 78s - loss: 0.1000 - accuracy: 0.8987 - val_loss: 0.2817 - val_accuracy: 0.7622 - lr: 0.0010 - 78s/epoch - 18ms/step
Epoch 75/75
4378/4378 - 78s - loss: 0.1005 - accuracy: 0.8976 - val_loss: 0.3044 - val_accuracy: 0.7480 - lr: 0.0010 - 78s/epoch - 18ms/step
Epoch 1/75
876/876 - 22s - loss: 0.0726 - accuracy: 0.9287 - val_loss: 0.3165 - val_accuracy: 0.7614 - lr: 0.0010 - 22s/epoch - 25ms/step
Epoch 2/75
876/876 - 19s - loss: 0.0745 - accuracy: 0.9256 - val_loss: 0.3574 - val_accuracy: 0.7314 - lr: 0.0010 - 19s/epoch - 22ms/step
Epoch 3/75
876/876 - 19s - loss: 0.0753 - accuracy: 0.9248 - val_loss: 0.3439 - val_accuracy: 0.7384 - lr: 0.0010 - 19s/epoch - 22ms/step
Epoch 4/75
876/876 - 20s - loss: 0.0750 - accuracy: 0.9250 - val_loss: 0.3621 - val_accuracy: 0.7289 - lr: 0.0010 - 20s/epoch - 22ms/step
Epoch 5/75
876/876 - 20s - loss: 0.0745 - accuracy: 0.9259 - val_loss: 0.3738 - val_accuracy: 0.7241 - lr: 0.0010 - 20s/epoch - 22ms/step
Epoch 6/75
876/876 - 20s - loss: 0.0731 - accuracy: 0.9272 - val_loss: 0.3663 - val_accuracy: 0.7307 - lr: 0.0010 - 20s/epoch - 22ms/step
Epoch 7/75
876/876 - 20s - loss: 0.0723 - accuracy: 0.9271 - val_loss: 0.3614 - val_accuracy: 0.7369 - lr: 0.0010 - 20s/epoch - 22ms/step
Epoch 8/75
876/876 - 20s - loss: 0.0740 - accuracy: 0.9254 - val_loss: 0.3805 - val_accuracy: 0.7254 - lr: 0.0010 - 20s/epoch - 22ms/step
Epoch 9/75
876/876 - 20s - loss: 0.0727 - accuracy: 0.9275 - val_loss: 0.3545 - val_accuracy: 0.7342 - lr: 0.0010 - 20s/epoch - 22ms/step
Epoch 10/75
876/876 - 20s - loss: 0.0728 - accuracy: 0.9278 - val_loss: 0.3459 - val_accuracy: 0.7478 - lr: 0.0010 - 20s/epoch - 22ms/step
Epoch 11/75
876/876 - 19s - loss: 0.0719 - accuracy: 0.9276 - val_loss: 0.3940 - val_accuracy: 0.7236 - lr: 0.0010 - 19s/epoch - 22ms/step
Epoch 12/75
876/876 - 19s - loss: 0.0720 - accuracy: 0.9281 - val_loss: 0.3664 - val_accuracy: 0.7382 - lr: 0.0010 - 19s/epoch - 22ms/step
Epoch 13/75
876/876 - 20s - loss: 0.0723 - accuracy: 0.9277 - val_loss: 0.3565 - val_accuracy: 0.7397 - lr: 0.0010 - 20s/epoch - 22ms/step
Epoch 14/75
876/876 - 20s - loss: 0.0721 - accuracy: 0.9278 - val_loss: 0.3751 - val_accuracy: 0.7405 - lr: 0.0010 - 20s/epoch - 22ms/step
Epoch 15/75
876/876 - 20s - loss: 0.0715 - accuracy: 0.9289 - val_loss: 0.3674 - val_accuracy: 0.7408 - lr: 0.0010 - 20s/epoch - 22ms/step
Epoch 16/75
876/876 - 20s - loss: 0.0720 - accuracy: 0.9279 - val_loss: 0.3710 - val_accuracy: 0.7371 - lr: 0.0010 - 20s/epoch - 22ms/step
Epoch 17/75
876/876 - 20s - loss: 0.0707 - accuracy: 0.9299 - val_loss: 0.3617 - val_accuracy: 0.7478 - lr: 0.0010 - 20s/epoch - 22ms/step
Epoch 18/75
876/876 - 20s - loss: 0.0684 - accuracy: 0.9332 - val_loss: 0.3984 - val_accuracy: 0.7273 - lr: 0.0010 - 20s/epoch - 22ms/step
Epoch 19/75
876/876 - 20s - loss: 0.0714 - accuracy: 0.9287 - val_loss: 0.3855 - val_accuracy: 0.7225 - lr: 0.0010 - 20s/epoch - 22ms/step
Epoch 20/75
876/876 - 20s - loss: 0.0708 - accuracy: 0.9301 - val_loss: 0.3626 - val_accuracy: 0.7452 - lr: 0.0010 - 20s/epoch - 22ms/step
Epoch 21/75
876/876 - 20s - loss: 0.0709 - accuracy: 0.9304 - val_loss: 0.4061 - val_accuracy: 0.7175 - lr: 0.0010 - 20s/epoch - 22ms/step
Epoch 22/75
876/876 - 20s - loss: 0.0718 - accuracy: 0.9297 - val_loss: 0.3993 - val_accuracy: 0.7167 - lr: 0.0010 - 20s/epoch - 22ms/step
Epoch 23/75
876/876 - 20s - loss: 0.0705 - accuracy: 0.9303 - val_loss: 0.3616 - val_accuracy: 0.7396 - lr: 0.0010 - 20s/epoch - 22ms/step
Epoch 24/75
876/876 - 20s - loss: 0.0696 - accuracy: 0.9319 - val_loss: 0.4074 - val_accuracy: 0.7254 - lr: 0.0010 - 20s/epoch - 22ms/step
Epoch 25/75
876/876 - 20s - loss: 0.0701 - accuracy: 0.9303 - val_loss: 0.3919 - val_accuracy: 0.7241 - lr: 0.0010 - 20s/epoch - 22ms/step
Epoch 26/75
876/876 - 20s - loss: 0.0695 - accuracy: 0.9315 - val_loss: 0.3938 - val_accuracy: 0.7312 - lr: 0.0010 - 20s/epoch - 22ms/step
Epoch 27/75
876/876 - 20s - loss: 0.0686 - accuracy: 0.9321 - val_loss: 0.3602 - val_accuracy: 0.7521 - lr: 0.0010 - 20s/epoch - 22ms/step
Epoch 28/75
876/876 - 20s - loss: 0.0693 - accuracy: 0.9314 - val_loss: 0.3759 - val_accuracy: 0.7401 - lr: 0.0010 - 20s/epoch - 22ms/step
Epoch 29/75
876/876 - 20s - loss: 0.0680 - accuracy: 0.9330 - val_loss: 0.3882 - val_accuracy: 0.7369 - lr: 0.0010 - 20s/epoch - 22ms/step
Epoch 30/75
876/876 - 20s - loss: 0.0691 - accuracy: 0.9319 - val_loss: 0.3842 - val_accuracy: 0.7314 - lr: 0.0010 - 20s/epoch - 22ms/step
Epoch 31/75
876/876 - 20s - loss: 0.0686 - accuracy: 0.9314 - val_loss: 0.3850 - val_accuracy: 0.7383 - lr: 0.0010 - 20s/epoch - 22ms/step
Epoch 32/75
876/876 - 20s - loss: 0.0689 - accuracy: 0.9325 - val_loss: 0.3790 - val_accuracy: 0.7319 - lr: 0.0010 - 20s/epoch - 22ms/step
Epoch 33/75
876/876 - 19s - loss: 0.0693 - accuracy: 0.9323 - val_loss: 0.4029 - val_accuracy: 0.7271 - lr: 0.0010 - 19s/epoch - 22ms/step
Epoch 34/75
876/876 - 20s - loss: 0.0687 - accuracy: 0.9321 - val_loss: 0.3734 - val_accuracy: 0.7350 - lr: 0.0010 - 20s/epoch - 22ms/step
Epoch 35/75
876/876 - 19s - loss: 0.0673 - accuracy: 0.9341 - val_loss: 0.3921 - val_accuracy: 0.7171 - lr: 0.0010 - 19s/epoch - 22ms/step
Epoch 36/75
876/876 - 20s - loss: 0.0682 - accuracy: 0.9324 - val_loss: 0.3614 - val_accuracy: 0.7435 - lr: 0.0010 - 20s/epoch - 22ms/step
Epoch 37/75
876/876 - 20s - loss: 0.0685 - accuracy: 0.9324 - val_loss: 0.3841 - val_accuracy: 0.7291 - lr: 0.0010 - 20s/epoch - 22ms/step
Epoch 38/75
876/876 - 19s - loss: 0.0679 - accuracy: 0.9330 - val_loss: 0.4102 - val_accuracy: 0.7241 - lr: 0.0010 - 19s/epoch - 22ms/step
Epoch 39/75
876/876 - 20s - loss: 0.0675 - accuracy: 0.9330 - val_loss: 0.3881 - val_accuracy: 0.7359 - lr: 0.0010 - 20s/epoch - 22ms/step
Epoch 40/75
876/876 - 20s - loss: 0.0675 - accuracy: 0.9331 - val_loss: 0.4438 - val_accuracy: 0.7031 - lr: 0.0010 - 20s/epoch - 22ms/step
Epoch 41/75
876/876 - 20s - loss: 0.0672 - accuracy: 0.9341 - val_loss: 0.3995 - val_accuracy: 0.7297 - lr: 0.0010 - 20s/epoch - 22ms/step
Epoch 42/75
876/876 - 20s - loss: 0.0676 - accuracy: 0.9337 - val_loss: 0.3908 - val_accuracy: 0.7305 - lr: 0.0010 - 20s/epoch - 22ms/step
Epoch 43/75
876/876 - 20s - loss: 0.0678 - accuracy: 0.9331 - val_loss: 0.3940 - val_accuracy: 0.7306 - lr: 0.0010 - 20s/epoch - 22ms/step
Epoch 44/75
876/876 - 20s - loss: 0.0684 - accuracy: 0.9329 - val_loss: 0.4063 - val_accuracy: 0.7238 - lr: 0.0010 - 20s/epoch - 22ms/step
Epoch 45/75
876/876 - 20s - loss: 0.0675 - accuracy: 0.9334 - val_loss: 0.3867 - val_accuracy: 0.7379 - lr: 0.0010 - 20s/epoch - 22ms/step
Epoch 46/75
876/876 - 20s - loss: 0.0669 - accuracy: 0.9348 - val_loss: 0.4213 - val_accuracy: 0.7268 - lr: 0.0010 - 20s/epoch - 22ms/step
Epoch 47/75
876/876 - 20s - loss: 0.0676 - accuracy: 0.9332 - val_loss: 0.4373 - val_accuracy: 0.7095 - lr: 0.0010 - 20s/epoch - 22ms/step
Epoch 48/75
876/876 - 20s - loss: 0.0673 - accuracy: 0.9342 - val_loss: 0.3954 - val_accuracy: 0.7201 - lr: 0.0010 - 20s/epoch - 22ms/step
Epoch 49/75
876/876 - 20s - loss: 0.0670 - accuracy: 0.9332 - val_loss: 0.3863 - val_accuracy: 0.7437 - lr: 0.0010 - 20s/epoch - 23ms/step
Epoch 50/75
876/876 - 20s - loss: 0.0669 - accuracy: 0.9345 - val_loss: 0.3942 - val_accuracy: 0.7341 - lr: 0.0010 - 20s/epoch - 22ms/step
Epoch 51/75
876/876 - 20s - loss: 0.0665 - accuracy: 0.9347 - val_loss: 0.3942 - val_accuracy: 0.7348 - lr: 0.0010 - 20s/epoch - 22ms/step
Epoch 52/75
876/876 - 20s - loss: 0.0673 - accuracy: 0.9327 - val_loss: 0.3802 - val_accuracy: 0.7420 - lr: 0.0010 - 20s/epoch - 22ms/step
Epoch 53/75
876/876 - 20s - loss: 0.0671 - accuracy: 0.9340 - val_loss: 0.4666 - val_accuracy: 0.7030 - lr: 0.0010 - 20s/epoch - 22ms/step
Epoch 54/75
876/876 - 20s - loss: 0.0671 - accuracy: 0.9335 - val_loss: 0.3831 - val_accuracy: 0.7441 - lr: 0.0010 - 20s/epoch - 22ms/step
Epoch 55/75
876/876 - 20s - loss: 0.0668 - accuracy: 0.9351 - val_loss: 0.4480 - val_accuracy: 0.7132 - lr: 0.0010 - 20s/epoch - 22ms/step
Epoch 56/75
876/876 - 20s - loss: 0.0683 - accuracy: 0.9324 - val_loss: 0.4120 - val_accuracy: 0.7230 - lr: 0.0010 - 20s/epoch - 22ms/step
Epoch 57/75
876/876 - 20s - loss: 0.0677 - accuracy: 0.9333 - val_loss: 0.4043 - val_accuracy: 0.7292 - lr: 0.0010 - 20s/epoch - 22ms/step
Epoch 58/75
876/876 - 20s - loss: 0.0678 - accuracy: 0.9338 - val_loss: 0.4069 - val_accuracy: 0.7286 - lr: 0.0010 - 20s/epoch - 22ms/step
Epoch 59/75
876/876 - 19s - loss: 0.0658 - accuracy: 0.9358 - val_loss: 0.4279 - val_accuracy: 0.7220 - lr: 0.0010 - 19s/epoch - 22ms/step
Epoch 60/75
876/876 - 20s - loss: 0.0662 - accuracy: 0.9352 - val_loss: 0.4023 - val_accuracy: 0.7331 - lr: 0.0010 - 20s/epoch - 22ms/step
Epoch 61/75
876/876 - 20s - loss: 0.0660 - accuracy: 0.9352 - val_loss: 0.3990 - val_accuracy: 0.7309 - lr: 0.0010 - 20s/epoch - 22ms/step
Epoch 62/75
876/876 - 20s - loss: 0.0662 - accuracy: 0.9344 - val_loss: 0.4377 - val_accuracy: 0.7030 - lr: 0.0010 - 20s/epoch - 22ms/step
Epoch 63/75
876/876 - 20s - loss: 0.0683 - accuracy: 0.9321 - val_loss: 0.3768 - val_accuracy: 0.7419 - lr: 0.0010 - 20s/epoch - 22ms/step
Epoch 64/75
876/876 - 20s - loss: 0.0669 - accuracy: 0.9349 - val_loss: 0.4198 - val_accuracy: 0.7123 - lr: 0.0010 - 20s/epoch - 22ms/step
Epoch 65/75
876/876 - 20s - loss: 0.0659 - accuracy: 0.9350 - val_loss: 0.3938 - val_accuracy: 0.7420 - lr: 0.0010 - 20s/epoch - 23ms/step
Epoch 66/75
876/876 - 19s - loss: 0.0666 - accuracy: 0.9347 - val_loss: 0.4127 - val_accuracy: 0.7156 - lr: 0.0010 - 19s/epoch - 22ms/step
Epoch 67/75
876/876 - 20s - loss: 0.0670 - accuracy: 0.9336 - val_loss: 0.4079 - val_accuracy: 0.7276 - lr: 0.0010 - 20s/epoch - 22ms/step
Epoch 68/75
876/876 - 20s - loss: 0.0664 - accuracy: 0.9347 - val_loss: 0.4116 - val_accuracy: 0.7282 - lr: 0.0010 - 20s/epoch - 22ms/step
Epoch 69/75
876/876 - 20s - loss: 0.0661 - accuracy: 0.9354 - val_loss: 0.4068 - val_accuracy: 0.7304 - lr: 0.0010 - 20s/epoch - 22ms/step
Epoch 70/75
876/876 - 20s - loss: 0.0661 - accuracy: 0.9354 - val_loss: 0.3944 - val_accuracy: 0.7301 - lr: 0.0010 - 20s/epoch - 22ms/step
Epoch 71/75
876/876 - 20s - loss: 0.0646 - accuracy: 0.9360 - val_loss: 0.4088 - val_accuracy: 0.7295 - lr: 0.0010 - 20s/epoch - 22ms/step
Epoch 72/75
876/876 - 20s - loss: 0.0664 - accuracy: 0.9354 - val_loss: 0.4253 - val_accuracy: 0.7287 - lr: 0.0010 - 20s/epoch - 22ms/step
Epoch 73/75
876/876 - 20s - loss: 0.0655 - accuracy: 0.9363 - val_loss: 0.4125 - val_accuracy: 0.7315 - lr: 0.0010 - 20s/epoch - 22ms/step
Epoch 74/75
876/876 - 20s - loss: 0.0666 - accuracy: 0.9348 - val_loss: 0.4057 - val_accuracy: 0.7337 - lr: 0.0010 - 20s/epoch - 22ms/step
Epoch 75/75
876/876 - 20s - loss: 0.0665 - accuracy: 0.9349 - val_loss: 0.4151 - val_accuracy: 0.7236 - lr: 0.0010 - 20s/epoch - 22ms/step
Epoch 1/75
176/176 - 13s - loss: 0.0527 - accuracy: 0.9502 - val_loss: 0.4307 - val_accuracy: 0.7261 - lr: 0.0010 - 13s/epoch - 72ms/step
Epoch 2/75
176/176 - 9s - loss: 0.0483 - accuracy: 0.9545 - val_loss: 0.4508 - val_accuracy: 0.7208 - lr: 0.0010 - 9s/epoch - 53ms/step
Epoch 3/75
176/176 - 9s - loss: 0.0470 - accuracy: 0.9560 - val_loss: 0.4657 - val_accuracy: 0.7180 - lr: 0.0010 - 9s/epoch - 53ms/step
Epoch 4/75
176/176 - 9s - loss: 0.0484 - accuracy: 0.9550 - val_loss: 0.4787 - val_accuracy: 0.7140 - lr: 0.0010 - 9s/epoch - 53ms/step
Epoch 5/75
176/176 - 9s - loss: 0.0481 - accuracy: 0.9551 - val_loss: 0.4573 - val_accuracy: 0.7239 - lr: 0.0010 - 9s/epoch - 53ms/step
Epoch 6/75
176/176 - 9s - loss: 0.0495 - accuracy: 0.9527 - val_loss: 0.4565 - val_accuracy: 0.7235 - lr: 0.0010 - 9s/epoch - 53ms/step
Epoch 7/75
176/176 - 9s - loss: 0.0491 - accuracy: 0.9534 - val_loss: 0.4749 - val_accuracy: 0.7213 - lr: 0.0010 - 9s/epoch - 53ms/step
Epoch 8/75
176/176 - 9s - loss: 0.0506 - accuracy: 0.9514 - val_loss: 0.4711 - val_accuracy: 0.7185 - lr: 0.0010 - 9s/epoch - 53ms/step
Epoch 9/75
176/176 - 9s - loss: 0.0499 - accuracy: 0.9526 - val_loss: 0.4684 - val_accuracy: 0.7223 - lr: 0.0010 - 9s/epoch - 53ms/step
Epoch 10/75
176/176 - 9s - loss: 0.0498 - accuracy: 0.9529 - val_loss: 0.4975 - val_accuracy: 0.7186 - lr: 0.0010 - 9s/epoch - 53ms/step
Epoch 11/75
176/176 - 9s - loss: 0.0495 - accuracy: 0.9535 - val_loss: 0.4746 - val_accuracy: 0.7250 - lr: 0.0010 - 9s/epoch - 53ms/step
Epoch 12/75
176/176 - 9s - loss: 0.0500 - accuracy: 0.9527 - val_loss: 0.4793 - val_accuracy: 0.7235 - lr: 0.0010 - 9s/epoch - 53ms/step
Epoch 13/75
176/176 - 9s - loss: 0.0490 - accuracy: 0.9534 - val_loss: 0.5221 - val_accuracy: 0.7039 - lr: 0.0010 - 9s/epoch - 53ms/step
Epoch 14/75
176/176 - 9s - loss: 0.0492 - accuracy: 0.9532 - val_loss: 0.4735 - val_accuracy: 0.7209 - lr: 0.0010 - 9s/epoch - 53ms/step
Epoch 15/75
176/176 - 9s - loss: 0.0501 - accuracy: 0.9522 - val_loss: 0.4954 - val_accuracy: 0.7116 - lr: 0.0010 - 9s/epoch - 53ms/step
Epoch 16/75
176/176 - 9s - loss: 0.0490 - accuracy: 0.9541 - val_loss: 0.5174 - val_accuracy: 0.7106 - lr: 0.0010 - 9s/epoch - 53ms/step
Epoch 17/75
176/176 - 9s - loss: 0.0471 - accuracy: 0.9559 - val_loss: 0.4923 - val_accuracy: 0.7167 - lr: 0.0010 - 9s/epoch - 54ms/step
Epoch 18/75
176/176 - 9s - loss: 0.0478 - accuracy: 0.9548 - val_loss: 0.4827 - val_accuracy: 0.7212 - lr: 0.0010 - 9s/epoch - 53ms/step
Epoch 19/75
176/176 - 9s - loss: 0.0487 - accuracy: 0.9535 - val_loss: 0.5159 - val_accuracy: 0.7095 - lr: 0.0010 - 9s/epoch - 53ms/step
Epoch 20/75
176/176 - 9s - loss: 0.0487 - accuracy: 0.9546 - val_loss: 0.5173 - val_accuracy: 0.7164 - lr: 0.0010 - 9s/epoch - 53ms/step
Epoch 21/75
176/176 - 9s - loss: 0.0472 - accuracy: 0.9558 - val_loss: 0.5027 - val_accuracy: 0.7179 - lr: 0.0010 - 9s/epoch - 53ms/step
Epoch 22/75
176/176 - 9s - loss: 0.0468 - accuracy: 0.9565 - val_loss: 0.5184 - val_accuracy: 0.7076 - lr: 0.0010 - 9s/epoch - 53ms/step
Epoch 23/75
176/176 - 9s - loss: 0.0452 - accuracy: 0.9578 - val_loss: 0.5259 - val_accuracy: 0.7123 - lr: 0.0010 - 9s/epoch - 53ms/step
Epoch 24/75
176/176 - 9s - loss: 0.0463 - accuracy: 0.9566 - val_loss: 0.5327 - val_accuracy: 0.7151 - lr: 0.0010 - 9s/epoch - 54ms/step
Epoch 25/75
176/176 - 9s - loss: 0.0463 - accuracy: 0.9559 - val_loss: 0.5352 - val_accuracy: 0.7094 - lr: 0.0010 - 9s/epoch - 53ms/step
Epoch 26/75
176/176 - 9s - loss: 0.0469 - accuracy: 0.9555 - val_loss: 0.5002 - val_accuracy: 0.7240 - lr: 0.0010 - 9s/epoch - 53ms/step
Epoch 27/75
176/176 - 9s - loss: 0.0482 - accuracy: 0.9546 - val_loss: 0.5077 - val_accuracy: 0.7148 - lr: 0.0010 - 9s/epoch - 53ms/step
Epoch 28/75
176/176 - 9s - loss: 0.0480 - accuracy: 0.9553 - val_loss: 0.5077 - val_accuracy: 0.7175 - lr: 0.0010 - 9s/epoch - 53ms/step
Epoch 29/75
176/176 - 9s - loss: 0.0488 - accuracy: 0.9546 - val_loss: 0.5455 - val_accuracy: 0.7065 - lr: 0.0010 - 9s/epoch - 53ms/step
Epoch 30/75
176/176 - 9s - loss: 0.0494 - accuracy: 0.9533 - val_loss: 0.4782 - val_accuracy: 0.7273 - lr: 0.0010 - 9s/epoch - 53ms/step
Epoch 31/75
176/176 - 9s - loss: 0.0480 - accuracy: 0.9543 - val_loss: 0.5225 - val_accuracy: 0.7132 - lr: 0.0010 - 9s/epoch - 53ms/step
Epoch 32/75
176/176 - 9s - loss: 0.0483 - accuracy: 0.9544 - val_loss: 0.4686 - val_accuracy: 0.7344 - lr: 0.0010 - 9s/epoch - 53ms/step
Epoch 33/75
176/176 - 9s - loss: 0.0481 - accuracy: 0.9545 - val_loss: 0.4898 - val_accuracy: 0.7249 - lr: 0.0010 - 9s/epoch - 53ms/step
Epoch 34/75
176/176 - 9s - loss: 0.0490 - accuracy: 0.9540 - val_loss: 0.5218 - val_accuracy: 0.7095 - lr: 0.0010 - 9s/epoch - 53ms/step
Epoch 35/75
176/176 - 9s - loss: 0.0486 - accuracy: 0.9536 - val_loss: 0.4945 - val_accuracy: 0.7182 - lr: 0.0010 - 9s/epoch - 53ms/step
Epoch 36/75
176/176 - 9s - loss: 0.0471 - accuracy: 0.9553 - val_loss: 0.5207 - val_accuracy: 0.7087 - lr: 0.0010 - 9s/epoch - 54ms/step
Epoch 37/75
176/176 - 9s - loss: 0.0469 - accuracy: 0.9560 - val_loss: 0.5132 - val_accuracy: 0.7192 - lr: 0.0010 - 9s/epoch - 53ms/step
Epoch 38/75
176/176 - 9s - loss: 0.0472 - accuracy: 0.9549 - val_loss: 0.5215 - val_accuracy: 0.7131 - lr: 0.0010 - 9s/epoch - 53ms/step
Epoch 39/75
176/176 - 9s - loss: 0.0479 - accuracy: 0.9552 - val_loss: 0.5104 - val_accuracy: 0.7255 - lr: 0.0010 - 9s/epoch - 53ms/step
Epoch 40/75
176/176 - 9s - loss: 0.0469 - accuracy: 0.9550 - val_loss: 0.5340 - val_accuracy: 0.7142 - lr: 0.0010 - 9s/epoch - 53ms/step
Epoch 41/75
176/176 - 9s - loss: 0.0471 - accuracy: 0.9554 - val_loss: 0.5112 - val_accuracy: 0.7218 - lr: 0.0010 - 9s/epoch - 53ms/step
Epoch 42/75
176/176 - 9s - loss: 0.0465 - accuracy: 0.9567 - val_loss: 0.5134 - val_accuracy: 0.7230 - lr: 0.0010 - 9s/epoch - 53ms/step
Epoch 43/75
176/176 - 9s - loss: 0.0466 - accuracy: 0.9559 - val_loss: 0.5326 - val_accuracy: 0.7097 - lr: 0.0010 - 9s/epoch - 53ms/step
Epoch 44/75
176/176 - 9s - loss: 0.0472 - accuracy: 0.9556 - val_loss: 0.5373 - val_accuracy: 0.7125 - lr: 0.0010 - 9s/epoch - 53ms/step
Epoch 45/75
176/176 - 9s - loss: 0.0469 - accuracy: 0.9557 - val_loss: 0.5183 - val_accuracy: 0.7130 - lr: 0.0010 - 9s/epoch - 53ms/step
Epoch 46/75
176/176 - 9s - loss: 0.0463 - accuracy: 0.9565 - val_loss: 0.5140 - val_accuracy: 0.7244 - lr: 0.0010 - 9s/epoch - 53ms/step
Epoch 47/75
176/176 - 9s - loss: 0.0457 - accuracy: 0.9574 - val_loss: 0.5047 - val_accuracy: 0.7281 - lr: 0.0010 - 9s/epoch - 53ms/step
Epoch 48/75
176/176 - 9s - loss: 0.0466 - accuracy: 0.9562 - val_loss: 0.5456 - val_accuracy: 0.7057 - lr: 0.0010 - 9s/epoch - 53ms/step
Epoch 49/75
176/176 - 9s - loss: 0.0463 - accuracy: 0.9567 - val_loss: 0.5424 - val_accuracy: 0.7026 - lr: 0.0010 - 9s/epoch - 53ms/step
Epoch 50/75
176/176 - 9s - loss: 0.0463 - accuracy: 0.9565 - val_loss: 0.5514 - val_accuracy: 0.7052 - lr: 0.0010 - 9s/epoch - 53ms/step
Epoch 51/75
176/176 - 9s - loss: 0.0469 - accuracy: 0.9564 - val_loss: 0.5544 - val_accuracy: 0.7069 - lr: 0.0010 - 9s/epoch - 53ms/step
Epoch 52/75
176/176 - 9s - loss: 0.0475 - accuracy: 0.9553 - val_loss: 0.5276 - val_accuracy: 0.7151 - lr: 0.0010 - 9s/epoch - 53ms/step
Epoch 53/75
176/176 - 9s - loss: 0.0463 - accuracy: 0.9570 - val_loss: 0.5460 - val_accuracy: 0.7108 - lr: 0.0010 - 9s/epoch - 54ms/step
Epoch 54/75
176/176 - 9s - loss: 0.0469 - accuracy: 0.9557 - val_loss: 0.5184 - val_accuracy: 0.7204 - lr: 0.0010 - 9s/epoch - 53ms/step
Epoch 55/75
176/176 - 9s - loss: 0.0452 - accuracy: 0.9578 - val_loss: 0.5511 - val_accuracy: 0.7058 - lr: 0.0010 - 9s/epoch - 53ms/step
Epoch 56/75
176/176 - 9s - loss: 0.0457 - accuracy: 0.9567 - val_loss: 0.5555 - val_accuracy: 0.7106 - lr: 0.0010 - 9s/epoch - 53ms/step
Epoch 57/75
176/176 - 9s - loss: 0.0447 - accuracy: 0.9583 - val_loss: 0.5291 - val_accuracy: 0.7165 - lr: 0.0010 - 9s/epoch - 53ms/step
Epoch 58/75
176/176 - 9s - loss: 0.0462 - accuracy: 0.9562 - val_loss: 0.5487 - val_accuracy: 0.7114 - lr: 0.0010 - 9s/epoch - 54ms/step
Epoch 59/75
176/176 - 9s - loss: 0.0466 - accuracy: 0.9566 - val_loss: 0.5364 - val_accuracy: 0.7138 - lr: 0.0010 - 9s/epoch - 53ms/step
Epoch 60/75
176/176 - 9s - loss: 0.0461 - accuracy: 0.9563 - val_loss: 0.5476 - val_accuracy: 0.7075 - lr: 0.0010 - 9s/epoch - 53ms/step
Epoch 61/75
176/176 - 9s - loss: 0.0467 - accuracy: 0.9563 - val_loss: 0.5724 - val_accuracy: 0.7017 - lr: 0.0010 - 9s/epoch - 53ms/step
Epoch 62/75
176/176 - 9s - loss: 0.0467 - accuracy: 0.9564 - val_loss: 0.5257 - val_accuracy: 0.7165 - lr: 0.0010 - 9s/epoch - 53ms/step
Epoch 63/75
176/176 - 9s - loss: 0.0464 - accuracy: 0.9561 - val_loss: 0.5230 - val_accuracy: 0.7185 - lr: 0.0010 - 9s/epoch - 53ms/step
Epoch 64/75
176/176 - 9s - loss: 0.0461 - accuracy: 0.9572 - val_loss: 0.5491 - val_accuracy: 0.7058 - lr: 0.0010 - 9s/epoch - 54ms/step
Epoch 65/75
176/176 - 9s - loss: 0.0469 - accuracy: 0.9563 - val_loss: 0.5450 - val_accuracy: 0.7115 - lr: 0.0010 - 9s/epoch - 53ms/step
Epoch 66/75
176/176 - 9s - loss: 0.0461 - accuracy: 0.9568 - val_loss: 0.5532 - val_accuracy: 0.7081 - lr: 0.0010 - 9s/epoch - 53ms/step
Epoch 67/75
176/176 - 9s - loss: 0.0463 - accuracy: 0.9568 - val_loss: 0.5450 - val_accuracy: 0.7067 - lr: 0.0010 - 9s/epoch - 53ms/step
Epoch 68/75
176/176 - 9s - loss: 0.0465 - accuracy: 0.9572 - val_loss: 0.5427 - val_accuracy: 0.7138 - lr: 0.0010 - 9s/epoch - 53ms/step
Epoch 69/75
176/176 - 9s - loss: 0.0454 - accuracy: 0.9575 - val_loss: 0.5257 - val_accuracy: 0.7199 - lr: 0.0010 - 9s/epoch - 53ms/step
Epoch 70/75
176/176 - 9s - loss: 0.0425 - accuracy: 0.9605 - val_loss: 0.5429 - val_accuracy: 0.7101 - lr: 0.0010 - 9s/epoch - 54ms/step
Epoch 71/75
176/176 - 9s - loss: 0.0430 - accuracy: 0.9596 - val_loss: 0.5425 - val_accuracy: 0.7177 - lr: 0.0010 - 9s/epoch - 53ms/step
Epoch 72/75
176/176 - 9s - loss: 0.0451 - accuracy: 0.9579 - val_loss: 0.5434 - val_accuracy: 0.7107 - lr: 0.0010 - 9s/epoch - 54ms/step
Epoch 73/75
176/176 - 9s - loss: 0.0448 - accuracy: 0.9581 - val_loss: 0.5288 - val_accuracy: 0.7176 - lr: 0.0010 - 9s/epoch - 53ms/step
Epoch 74/75
176/176 - 9s - loss: 0.0460 - accuracy: 0.9573 - val_loss: 0.5635 - val_accuracy: 0.7045 - lr: 0.0010 - 9s/epoch - 53ms/step
Epoch 75/75
176/176 - 9s - loss: 0.0467 - accuracy: 0.9565 - val_loss: 0.5678 - val_accuracy: 0.7002 - lr: 0.0010 - 9s/epoch - 53ms/step
Epoch 1/75
36/36 - 10s - loss: 0.0439 - accuracy: 0.9591 - val_loss: 0.5565 - val_accuracy: 0.7100 - lr: 0.0010 - 10s/epoch - 284ms/step
Epoch 2/75
36/36 - 8s - loss: 0.0392 - accuracy: 0.9638 - val_loss: 0.5616 - val_accuracy: 0.7110 - lr: 0.0010 - 8s/epoch - 218ms/step
Epoch 3/75
36/36 - 8s - loss: 0.0380 - accuracy: 0.9652 - val_loss: 0.5756 - val_accuracy: 0.7061 - lr: 0.0010 - 8s/epoch - 218ms/step
Epoch 4/75
36/36 - 8s - loss: 0.0373 - accuracy: 0.9656 - val_loss: 0.5769 - val_accuracy: 0.7054 - lr: 0.0010 - 8s/epoch - 218ms/step
Epoch 5/75
36/36 - 8s - loss: 0.0365 - accuracy: 0.9668 - val_loss: 0.5806 - val_accuracy: 0.7080 - lr: 0.0010 - 8s/epoch - 218ms/step
Epoch 6/75
36/36 - 8s - loss: 0.0377 - accuracy: 0.9660 - val_loss: 0.5841 - val_accuracy: 0.7056 - lr: 0.0010 - 8s/epoch - 217ms/step
Epoch 7/75
36/36 - 8s - loss: 0.0369 - accuracy: 0.9670 - val_loss: 0.5829 - val_accuracy: 0.7054 - lr: 0.0010 - 8s/epoch - 219ms/step
Epoch 8/75
36/36 - 8s - loss: 0.0361 - accuracy: 0.9673 - val_loss: 0.6010 - val_accuracy: 0.7009 - lr: 0.0010 - 8s/epoch - 219ms/step
Epoch 9/75
36/36 - 8s - loss: 0.0366 - accuracy: 0.9671 - val_loss: 0.5871 - val_accuracy: 0.7065 - lr: 0.0010 - 8s/epoch - 218ms/step
Epoch 10/75
36/36 - 8s - loss: 0.0367 - accuracy: 0.9660 - val_loss: 0.5934 - val_accuracy: 0.7021 - lr: 0.0010 - 8s/epoch - 219ms/step
Epoch 11/75
36/36 - 8s - loss: 0.0362 - accuracy: 0.9673 - val_loss: 0.5822 - val_accuracy: 0.7080 - lr: 0.0010 - 8s/epoch - 219ms/step
Epoch 12/75
36/36 - 8s - loss: 0.0362 - accuracy: 0.9670 - val_loss: 0.5998 - val_accuracy: 0.7051 - lr: 0.0010 - 8s/epoch - 219ms/step
Epoch 13/75
36/36 - 8s - loss: 0.0362 - accuracy: 0.9672 - val_loss: 0.6138 - val_accuracy: 0.7035 - lr: 0.0010 - 8s/epoch - 219ms/step
Epoch 14/75
36/36 - 8s - loss: 0.0363 - accuracy: 0.9674 - val_loss: 0.5976 - val_accuracy: 0.7035 - lr: 0.0010 - 8s/epoch - 218ms/step
Epoch 15/75
36/36 - 8s - loss: 0.0360 - accuracy: 0.9670 - val_loss: 0.6115 - val_accuracy: 0.7018 - lr: 0.0010 - 8s/epoch - 219ms/step
Epoch 16/75
36/36 - 8s - loss: 0.0356 - accuracy: 0.9675 - val_loss: 0.6099 - val_accuracy: 0.7016 - lr: 0.0010 - 8s/epoch - 219ms/step
Epoch 17/75
36/36 - 8s - loss: 0.0366 - accuracy: 0.9670 - val_loss: 0.5926 - val_accuracy: 0.7066 - lr: 0.0010 - 8s/epoch - 218ms/step
Epoch 18/75
36/36 - 8s - loss: 0.0364 - accuracy: 0.9672 - val_loss: 0.6040 - val_accuracy: 0.7063 - lr: 0.0010 - 8s/epoch - 218ms/step
Epoch 19/75
36/36 - 8s - loss: 0.0356 - accuracy: 0.9675 - val_loss: 0.5998 - val_accuracy: 0.7048 - lr: 0.0010 - 8s/epoch - 219ms/step
Epoch 20/75
36/36 - 8s - loss: 0.0366 - accuracy: 0.9675 - val_loss: 0.6061 - val_accuracy: 0.7025 - lr: 0.0010 - 8s/epoch - 220ms/step
Epoch 21/75
36/36 - 8s - loss: 0.0367 - accuracy: 0.9665 - val_loss: 0.6107 - val_accuracy: 0.7027 - lr: 0.0010 - 8s/epoch - 219ms/step
Epoch 22/75
36/36 - 8s - loss: 0.0359 - accuracy: 0.9673 - val_loss: 0.6054 - val_accuracy: 0.7034 - lr: 0.0010 - 8s/epoch - 218ms/step
Epoch 23/75
36/36 - 8s - loss: 0.0372 - accuracy: 0.9665 - val_loss: 0.5922 - val_accuracy: 0.7057 - lr: 0.0010 - 8s/epoch - 218ms/step
Epoch 24/75
36/36 - 8s - loss: 0.0374 - accuracy: 0.9660 - val_loss: 0.6028 - val_accuracy: 0.7000 - lr: 0.0010 - 8s/epoch - 219ms/step
Epoch 25/75
36/36 - 8s - loss: 0.0370 - accuracy: 0.9664 - val_loss: 0.6193 - val_accuracy: 0.6972 - lr: 0.0010 - 8s/epoch - 219ms/step
Epoch 26/75
36/36 - 8s - loss: 0.0344 - accuracy: 0.9692 - val_loss: 0.6148 - val_accuracy: 0.6986 - lr: 0.0010 - 8s/epoch - 218ms/step
Epoch 27/75
36/36 - 8s - loss: 0.0357 - accuracy: 0.9676 - val_loss: 0.6252 - val_accuracy: 0.6957 - lr: 0.0010 - 8s/epoch - 219ms/step
Epoch 28/75
36/36 - 8s - loss: 0.0353 - accuracy: 0.9685 - val_loss: 0.6171 - val_accuracy: 0.7006 - lr: 0.0010 - 8s/epoch - 219ms/step
Epoch 29/75
36/36 - 8s - loss: 0.0348 - accuracy: 0.9679 - val_loss: 0.6255 - val_accuracy: 0.6969 - lr: 0.0010 - 8s/epoch - 219ms/step
Epoch 30/75
36/36 - 8s - loss: 0.0353 - accuracy: 0.9675 - val_loss: 0.6244 - val_accuracy: 0.6971 - lr: 0.0010 - 8s/epoch - 220ms/step
Epoch 31/75
36/36 - 8s - loss: 0.0363 - accuracy: 0.9668 - val_loss: 0.6185 - val_accuracy: 0.7005 - lr: 0.0010 - 8s/epoch - 218ms/step
Epoch 32/75
36/36 - 8s - loss: 0.0347 - accuracy: 0.9681 - val_loss: 0.6121 - val_accuracy: 0.7033 - lr: 0.0010 - 8s/epoch - 218ms/step
Epoch 33/75
36/36 - 8s - loss: 0.0346 - accuracy: 0.9691 - val_loss: 0.6231 - val_accuracy: 0.7010 - lr: 0.0010 - 8s/epoch - 220ms/step
Epoch 34/75
36/36 - 8s - loss: 0.0360 - accuracy: 0.9674 - val_loss: 0.6194 - val_accuracy: 0.6988 - lr: 0.0010 - 8s/epoch - 218ms/step
Epoch 35/75
36/36 - 8s - loss: 0.0355 - accuracy: 0.9682 - val_loss: 0.6430 - val_accuracy: 0.6929 - lr: 0.0010 - 8s/epoch - 218ms/step
Epoch 36/75
36/36 - 8s - loss: 0.0381 - accuracy: 0.9658 - val_loss: 0.6250 - val_accuracy: 0.7006 - lr: 0.0010 - 8s/epoch - 219ms/step
Epoch 37/75
36/36 - 8s - loss: 0.0349 - accuracy: 0.9682 - val_loss: 0.6223 - val_accuracy: 0.7027 - lr: 0.0010 - 8s/epoch - 219ms/step
Epoch 38/75
36/36 - 8s - loss: 0.0344 - accuracy: 0.9688 - val_loss: 0.6214 - val_accuracy: 0.7034 - lr: 0.0010 - 8s/epoch - 220ms/step
Epoch 39/75
36/36 - 8s - loss: 0.0346 - accuracy: 0.9679 - val_loss: 0.6225 - val_accuracy: 0.7040 - lr: 0.0010 - 8s/epoch - 218ms/step
Epoch 40/75
36/36 - 8s - loss: 0.0351 - accuracy: 0.9682 - val_loss: 0.6289 - val_accuracy: 0.6996 - lr: 0.0010 - 8s/epoch - 218ms/step
Epoch 41/75
36/36 - 8s - loss: 0.0362 - accuracy: 0.9676 - val_loss: 0.6220 - val_accuracy: 0.7018 - lr: 0.0010 - 8s/epoch - 219ms/step
Epoch 42/75
36/36 - 8s - loss: 0.0356 - accuracy: 0.9677 - val_loss: 0.6325 - val_accuracy: 0.7003 - lr: 0.0010 - 8s/epoch - 218ms/step
Epoch 43/75
36/36 - 8s - loss: 0.0349 - accuracy: 0.9685 - val_loss: 0.6238 - val_accuracy: 0.7011 - lr: 0.0010 - 8s/epoch - 217ms/step
Epoch 44/75
36/36 - 8s - loss: 0.0346 - accuracy: 0.9691 - val_loss: 0.6250 - val_accuracy: 0.7024 - lr: 0.0010 - 8s/epoch - 218ms/step
Epoch 45/75
36/36 - 8s - loss: 0.0339 - accuracy: 0.9694 - val_loss: 0.6271 - val_accuracy: 0.7027 - lr: 0.0010 - 8s/epoch - 219ms/step
Epoch 46/75
36/36 - 8s - loss: 0.0335 - accuracy: 0.9692 - val_loss: 0.6329 - val_accuracy: 0.6998 - lr: 0.0010 - 8s/epoch - 219ms/step
Epoch 47/75
36/36 - 8s - loss: 0.0348 - accuracy: 0.9684 - val_loss: 0.6272 - val_accuracy: 0.7034 - lr: 0.0010 - 8s/epoch - 219ms/step
Epoch 48/75
36/36 - 8s - loss: 0.0336 - accuracy: 0.9693 - val_loss: 0.6308 - val_accuracy: 0.6987 - lr: 0.0010 - 8s/epoch - 218ms/step
Epoch 49/75
36/36 - 8s - loss: 0.0354 - accuracy: 0.9678 - val_loss: 0.6326 - val_accuracy: 0.7011 - lr: 0.0010 - 8s/epoch - 219ms/step
Epoch 50/75
36/36 - 8s - loss: 0.0339 - accuracy: 0.9690 - val_loss: 0.6304 - val_accuracy: 0.7010 - lr: 0.0010 - 8s/epoch - 220ms/step
Epoch 51/75
36/36 - 8s - loss: 0.0350 - accuracy: 0.9685 - val_loss: 0.6217 - val_accuracy: 0.7027 - lr: 0.0010 - 8s/epoch - 218ms/step
Epoch 52/75
36/36 - 8s - loss: 0.0348 - accuracy: 0.9689 - val_loss: 0.6353 - val_accuracy: 0.6987 - lr: 0.0010 - 8s/epoch - 218ms/step
Epoch 53/75
36/36 - 8s - loss: 0.0332 - accuracy: 0.9698 - val_loss: 0.6334 - val_accuracy: 0.6998 - lr: 0.0010 - 8s/epoch - 219ms/step
Epoch 54/75
36/36 - 8s - loss: 0.0339 - accuracy: 0.9690 - val_loss: 0.6295 - val_accuracy: 0.7012 - lr: 0.0010 - 8s/epoch - 220ms/step
Epoch 55/75
36/36 - 8s - loss: 0.0331 - accuracy: 0.9700 - val_loss: 0.6378 - val_accuracy: 0.6986 - lr: 0.0010 - 8s/epoch - 221ms/step
Epoch 56/75
36/36 - 8s - loss: 0.0344 - accuracy: 0.9692 - val_loss: 0.6474 - val_accuracy: 0.6975 - lr: 0.0010 - 8s/epoch - 219ms/step
Epoch 57/75
36/36 - 8s - loss: 0.0351 - accuracy: 0.9685 - val_loss: 0.6475 - val_accuracy: 0.6977 - lr: 0.0010 - 8s/epoch - 218ms/step
Epoch 58/75
36/36 - 8s - loss: 0.0344 - accuracy: 0.9686 - val_loss: 0.6282 - val_accuracy: 0.7024 - lr: 0.0010 - 8s/epoch - 219ms/step
Epoch 59/75
36/36 - 8s - loss: 0.0362 - accuracy: 0.9679 - val_loss: 0.6345 - val_accuracy: 0.7008 - lr: 0.0010 - 8s/epoch - 218ms/step
Epoch 60/75
36/36 - 8s - loss: 0.0354 - accuracy: 0.9681 - val_loss: 0.6465 - val_accuracy: 0.6961 - lr: 0.0010 - 8s/epoch - 218ms/step
Epoch 61/75
36/36 - 8s - loss: 0.0345 - accuracy: 0.9687 - val_loss: 0.6497 - val_accuracy: 0.6948 - lr: 0.0010 - 8s/epoch - 219ms/step
Epoch 62/75
36/36 - 8s - loss: 0.0341 - accuracy: 0.9692 - val_loss: 0.6379 - val_accuracy: 0.6981 - lr: 0.0010 - 8s/epoch - 219ms/step
Epoch 63/75
36/36 - 8s - loss: 0.0341 - accuracy: 0.9688 - val_loss: 0.6602 - val_accuracy: 0.6924 - lr: 0.0010 - 8s/epoch - 219ms/step
Epoch 64/75
36/36 - 8s - loss: 0.0337 - accuracy: 0.9695 - val_loss: 0.6484 - val_accuracy: 0.6973 - lr: 0.0010 - 8s/epoch - 218ms/step
Epoch 65/75
36/36 - 8s - loss: 0.0343 - accuracy: 0.9694 - val_loss: 0.6611 - val_accuracy: 0.6908 - lr: 0.0010 - 8s/epoch - 218ms/step
Epoch 66/75
36/36 - 8s - loss: 0.0343 - accuracy: 0.9690 - val_loss: 0.6534 - val_accuracy: 0.6946 - lr: 0.0010 - 8s/epoch - 219ms/step
Epoch 67/75
36/36 - 8s - loss: 0.0346 - accuracy: 0.9691 - val_loss: 0.6558 - val_accuracy: 0.6922 - lr: 0.0010 - 8s/epoch - 219ms/step
Epoch 68/75
36/36 - 8s - loss: 0.0342 - accuracy: 0.9690 - val_loss: 0.6560 - val_accuracy: 0.6970 - lr: 0.0010 - 8s/epoch - 217ms/step
Epoch 69/75
36/36 - 8s - loss: 0.0334 - accuracy: 0.9704 - val_loss: 0.6662 - val_accuracy: 0.6929 - lr: 0.0010 - 8s/epoch - 218ms/step
Epoch 70/75
36/36 - 8s - loss: 0.0339 - accuracy: 0.9694 - val_loss: 0.6550 - val_accuracy: 0.6975 - lr: 0.0010 - 8s/epoch - 219ms/step
Epoch 71/75
36/36 - 8s - loss: 0.0360 - accuracy: 0.9674 - val_loss: 0.6527 - val_accuracy: 0.6934 - lr: 0.0010 - 8s/epoch - 219ms/step
Epoch 72/75
36/36 - 8s - loss: 0.0343 - accuracy: 0.9689 - val_loss: 0.6672 - val_accuracy: 0.6929 - lr: 0.0010 - 8s/epoch - 219ms/step
Epoch 73/75
36/36 - 8s - loss: 0.0334 - accuracy: 0.9698 - val_loss: 0.6628 - val_accuracy: 0.6927 - lr: 0.0010 - 8s/epoch - 218ms/step
Epoch 74/75
36/36 - 8s - loss: 0.0334 - accuracy: 0.9698 - val_loss: 0.6543 - val_accuracy: 0.6989 - lr: 0.0010 - 8s/epoch - 218ms/step
Epoch 75/75
36/36 - 8s - loss: 0.0363 - accuracy: 0.9668 - val_loss: 0.6594 - val_accuracy: 0.6941 - lr: 0.0010 - 8s/epoch - 219ms/step
Epoch 1/100
4378/4378 - 79s - loss: 0.0927 - accuracy: 0.9103 - val_loss: 0.4149 - val_accuracy: 0.7151 - lr: 0.0010 - 79s/epoch - 18ms/step
Epoch 2/100
4378/4378 - 76s - loss: 0.0959 - accuracy: 0.9038 - val_loss: 0.3681 - val_accuracy: 0.7289 - lr: 0.0010 - 76s/epoch - 17ms/step
Epoch 3/100
4378/4378 - 76s - loss: 0.0951 - accuracy: 0.9036 - val_loss: 0.3685 - val_accuracy: 0.7239 - lr: 0.0010 - 76s/epoch - 17ms/step
Epoch 4/100
4378/4378 - 76s - loss: 0.0976 - accuracy: 0.9012 - val_loss: 0.3605 - val_accuracy: 0.7145 - lr: 0.0010 - 76s/epoch - 17ms/step
Epoch 5/100
4378/4378 - 76s - loss: 0.0967 - accuracy: 0.9011 - val_loss: 0.3412 - val_accuracy: 0.7394 - lr: 0.0010 - 76s/epoch - 17ms/step
Epoch 6/100
4378/4378 - 76s - loss: 0.0966 - accuracy: 0.9018 - val_loss: 0.3692 - val_accuracy: 0.7140 - lr: 0.0010 - 76s/epoch - 17ms/step
Epoch 7/100
4378/4378 - 76s - loss: 0.0948 - accuracy: 0.9031 - val_loss: 0.2964 - val_accuracy: 0.7587 - lr: 0.0010 - 76s/epoch - 17ms/step
Epoch 8/100
4378/4378 - 76s - loss: 0.0972 - accuracy: 0.9012 - val_loss: 0.3281 - val_accuracy: 0.7371 - lr: 0.0010 - 76s/epoch - 17ms/step
Epoch 9/100
4378/4378 - 76s - loss: 0.0968 - accuracy: 0.9010 - val_loss: 0.3237 - val_accuracy: 0.7324 - lr: 0.0010 - 76s/epoch - 17ms/step
Epoch 10/100
4378/4378 - 76s - loss: 0.0953 - accuracy: 0.9036 - val_loss: 0.2977 - val_accuracy: 0.7547 - lr: 0.0010 - 76s/epoch - 17ms/step
Epoch 11/100
4378/4378 - 76s - loss: 0.0956 - accuracy: 0.9019 - val_loss: 0.3171 - val_accuracy: 0.7270 - lr: 0.0010 - 76s/epoch - 17ms/step
Epoch 12/100
4378/4378 - 76s - loss: 0.0973 - accuracy: 0.9005 - val_loss: 0.3395 - val_accuracy: 0.7317 - lr: 0.0010 - 76s/epoch - 17ms/step
Epoch 13/100
4378/4378 - 76s - loss: 0.0959 - accuracy: 0.9028 - val_loss: 0.3124 - val_accuracy: 0.7361 - lr: 0.0010 - 76s/epoch - 17ms/step
Epoch 14/100
4378/4378 - 76s - loss: 0.0972 - accuracy: 0.9016 - val_loss: 0.3001 - val_accuracy: 0.7589 - lr: 0.0010 - 76s/epoch - 17ms/step
Epoch 15/100
4378/4378 - 76s - loss: 0.0953 - accuracy: 0.9038 - val_loss: 0.3380 - val_accuracy: 0.7338 - lr: 0.0010 - 76s/epoch - 17ms/step
Epoch 16/100
4378/4378 - 76s - loss: 0.0983 - accuracy: 0.8993 - val_loss: 0.3669 - val_accuracy: 0.6965 - lr: 0.0010 - 76s/epoch - 17ms/step
Epoch 17/100
4378/4378 - 77s - loss: 0.0976 - accuracy: 0.8997 - val_loss: 0.3261 - val_accuracy: 0.7273 - lr: 0.0010 - 77s/epoch - 17ms/step
Epoch 18/100
4378/4378 - 76s - loss: 0.0970 - accuracy: 0.9004 - val_loss: 0.3129 - val_accuracy: 0.7341 - lr: 0.0010 - 76s/epoch - 17ms/step
Epoch 19/100
4378/4378 - 76s - loss: 0.0972 - accuracy: 0.9007 - val_loss: 0.3260 - val_accuracy: 0.7447 - lr: 0.0010 - 76s/epoch - 17ms/step
Epoch 20/100
4378/4378 - 76s - loss: 0.0952 - accuracy: 0.9024 - val_loss: 0.3662 - val_accuracy: 0.7016 - lr: 0.0010 - 76s/epoch - 17ms/step
Epoch 21/100
4378/4378 - 76s - loss: 0.0953 - accuracy: 0.9031 - val_loss: 0.2990 - val_accuracy: 0.7473 - lr: 0.0010 - 76s/epoch - 17ms/step
Epoch 22/100
4378/4378 - 76s - loss: 0.0967 - accuracy: 0.9015 - val_loss: 0.3170 - val_accuracy: 0.7381 - lr: 0.0010 - 76s/epoch - 17ms/step
Epoch 23/100
4378/4378 - 76s - loss: 0.0980 - accuracy: 0.8996 - val_loss: 0.3104 - val_accuracy: 0.7412 - lr: 0.0010 - 76s/epoch - 17ms/step
Epoch 24/100
4378/4378 - 77s - loss: 0.0952 - accuracy: 0.9027 - val_loss: 0.3377 - val_accuracy: 0.7397 - lr: 0.0010 - 77s/epoch - 18ms/step
Epoch 25/100
4378/4378 - 76s - loss: 0.0968 - accuracy: 0.9020 - val_loss: 0.2921 - val_accuracy: 0.7589 - lr: 0.0010 - 76s/epoch - 17ms/step
Epoch 26/100
4378/4378 - 76s - loss: 0.0976 - accuracy: 0.9003 - val_loss: 0.3657 - val_accuracy: 0.6930 - lr: 0.0010 - 76s/epoch - 17ms/step
Epoch 27/100
4378/4378 - 76s - loss: 0.0963 - accuracy: 0.9013 - val_loss: 0.3205 - val_accuracy: 0.7306 - lr: 0.0010 - 76s/epoch - 17ms/step
Epoch 28/100
4378/4378 - 77s - loss: 0.0970 - accuracy: 0.9003 - val_loss: 0.3007 - val_accuracy: 0.7531 - lr: 0.0010 - 77s/epoch - 18ms/step
Epoch 29/100
4378/4378 - 76s - loss: 0.0965 - accuracy: 0.9010 - val_loss: 0.3525 - val_accuracy: 0.7147 - lr: 0.0010 - 76s/epoch - 17ms/step
Epoch 30/100
4378/4378 - 76s - loss: 0.0956 - accuracy: 0.9029 - val_loss: 0.3295 - val_accuracy: 0.7414 - lr: 0.0010 - 76s/epoch - 17ms/step
Epoch 31/100
4378/4378 - 76s - loss: 0.0970 - accuracy: 0.9004 - val_loss: 0.3414 - val_accuracy: 0.7304 - lr: 0.0010 - 76s/epoch - 17ms/step
Epoch 32/100
4378/4378 - 76s - loss: 0.0956 - accuracy: 0.9024 - val_loss: 0.3495 - val_accuracy: 0.7178 - lr: 0.0010 - 76s/epoch - 17ms/step
Epoch 33/100
4378/4378 - 76s - loss: 0.0968 - accuracy: 0.9015 - val_loss: 0.3280 - val_accuracy: 0.7405 - lr: 0.0010 - 76s/epoch - 17ms/step
Epoch 34/100
4378/4378 - 76s - loss: 0.0965 - accuracy: 0.9017 - val_loss: 0.3195 - val_accuracy: 0.7344 - lr: 0.0010 - 76s/epoch - 17ms/step
Epoch 35/100
4378/4378 - 75s - loss: 0.0954 - accuracy: 0.9021 - val_loss: 0.3652 - val_accuracy: 0.7027 - lr: 0.0010 - 75s/epoch - 17ms/step
Epoch 36/100
4378/4378 - 76s - loss: 0.0975 - accuracy: 0.9001 - val_loss: 0.2982 - val_accuracy: 0.7466 - lr: 0.0010 - 76s/epoch - 17ms/step
Epoch 37/100
4378/4378 - 76s - loss: 0.0979 - accuracy: 0.9003 - val_loss: 0.3288 - val_accuracy: 0.7365 - lr: 0.0010 - 76s/epoch - 17ms/step
Epoch 38/100
4378/4378 - 76s - loss: 0.0972 - accuracy: 0.9009 - val_loss: 0.3219 - val_accuracy: 0.7441 - lr: 0.0010 - 76s/epoch - 17ms/step
Epoch 39/100
4378/4378 - 76s - loss: 0.0980 - accuracy: 0.9011 - val_loss: 0.3407 - val_accuracy: 0.7217 - lr: 0.0010 - 76s/epoch - 17ms/step
Epoch 40/100
4378/4378 - 76s - loss: 0.0958 - accuracy: 0.9020 - val_loss: 0.2980 - val_accuracy: 0.7582 - lr: 0.0010 - 76s/epoch - 17ms/step
Epoch 41/100
4378/4378 - 77s - loss: 0.0965 - accuracy: 0.9021 - val_loss: 0.3798 - val_accuracy: 0.7070 - lr: 0.0010 - 77s/epoch - 17ms/step
Epoch 42/100
4378/4378 - 76s - loss: 0.0966 - accuracy: 0.9012 - val_loss: 0.3368 - val_accuracy: 0.7263 - lr: 0.0010 - 76s/epoch - 17ms/step
Epoch 43/100
4378/4378 - 76s - loss: 0.0959 - accuracy: 0.9018 - val_loss: 0.2978 - val_accuracy: 0.7546 - lr: 0.0010 - 76s/epoch - 17ms/step
Epoch 44/100
4378/4378 - 76s - loss: 0.0967 - accuracy: 0.9011 - val_loss: 0.3427 - val_accuracy: 0.7262 - lr: 0.0010 - 76s/epoch - 17ms/step
Epoch 45/100
4378/4378 - 76s - loss: 0.0956 - accuracy: 0.9025 - val_loss: 0.3037 - val_accuracy: 0.7391 - lr: 0.0010 - 76s/epoch - 17ms/step
Epoch 46/100
4378/4378 - 76s - loss: 0.0965 - accuracy: 0.9016 - val_loss: 0.3181 - val_accuracy: 0.7308 - lr: 0.0010 - 76s/epoch - 17ms/step
Epoch 47/100
4378/4378 - 76s - loss: 0.0973 - accuracy: 0.9007 - val_loss: 0.3094 - val_accuracy: 0.7438 - lr: 0.0010 - 76s/epoch - 17ms/step
Epoch 48/100
4378/4378 - 76s - loss: 0.0954 - accuracy: 0.9021 - val_loss: 0.3224 - val_accuracy: 0.7289 - lr: 0.0010 - 76s/epoch - 17ms/step
Epoch 49/100
4378/4378 - 76s - loss: 0.0980 - accuracy: 0.9008 - val_loss: 0.2962 - val_accuracy: 0.7491 - lr: 0.0010 - 76s/epoch - 17ms/step
Epoch 50/100
4378/4378 - 76s - loss: 0.0953 - accuracy: 0.9032 - val_loss: 0.3038 - val_accuracy: 0.7516 - lr: 0.0010 - 76s/epoch - 17ms/step
Epoch 51/100
4378/4378 - 76s - loss: 0.0958 - accuracy: 0.9025 - val_loss: 0.3286 - val_accuracy: 0.7366 - lr: 0.0010 - 76s/epoch - 17ms/step
Epoch 52/100
4378/4378 - 77s - loss: 0.0966 - accuracy: 0.9013 - val_loss: 0.2949 - val_accuracy: 0.7542 - lr: 0.0010 - 77s/epoch - 18ms/step
Epoch 53/100
4378/4378 - 76s - loss: 0.0961 - accuracy: 0.9022 - val_loss: 0.2839 - val_accuracy: 0.7611 - lr: 0.0010 - 76s/epoch - 17ms/step
Epoch 54/100
4378/4378 - 76s - loss: 0.0954 - accuracy: 0.9026 - val_loss: 0.3046 - val_accuracy: 0.7404 - lr: 0.0010 - 76s/epoch - 17ms/step
Epoch 55/100
4378/4378 - 76s - loss: 0.0961 - accuracy: 0.9016 - val_loss: 0.3231 - val_accuracy: 0.7393 - lr: 0.0010 - 76s/epoch - 17ms/step
Epoch 56/100
4378/4378 - 76s - loss: 0.0968 - accuracy: 0.9003 - val_loss: 0.2958 - val_accuracy: 0.7465 - lr: 0.0010 - 76s/epoch - 17ms/step
Epoch 57/100
4378/4378 - 76s - loss: 0.0956 - accuracy: 0.9022 - val_loss: 0.3460 - val_accuracy: 0.7320 - lr: 0.0010 - 76s/epoch - 17ms/step
Epoch 58/100
4378/4378 - 77s - loss: 0.0970 - accuracy: 0.9013 - val_loss: 0.3093 - val_accuracy: 0.7460 - lr: 0.0010 - 77s/epoch - 18ms/step
Epoch 59/100
4378/4378 - 76s - loss: 0.0952 - accuracy: 0.9024 - val_loss: 0.3272 - val_accuracy: 0.7385 - lr: 0.0010 - 76s/epoch - 17ms/step
Epoch 60/100
4378/4378 - 76s - loss: 0.0964 - accuracy: 0.9015 - val_loss: 0.3221 - val_accuracy: 0.7254 - lr: 0.0010 - 76s/epoch - 17ms/step
Epoch 61/100
4378/4378 - 76s - loss: 0.0969 - accuracy: 0.9013 - val_loss: 0.3036 - val_accuracy: 0.7424 - lr: 0.0010 - 76s/epoch - 17ms/step
Epoch 62/100
4378/4378 - 76s - loss: 0.0946 - accuracy: 0.9026 - val_loss: 0.3402 - val_accuracy: 0.7249 - lr: 0.0010 - 76s/epoch - 17ms/step
Epoch 63/100
4378/4378 - 76s - loss: 0.0957 - accuracy: 0.9024 - val_loss: 0.3242 - val_accuracy: 0.7347 - lr: 0.0010 - 76s/epoch - 17ms/step
Epoch 64/100
4378/4378 - 76s - loss: 0.0953 - accuracy: 0.9032 - val_loss: 0.3174 - val_accuracy: 0.7413 - lr: 0.0010 - 76s/epoch - 17ms/step
Epoch 65/100
4378/4378 - 76s - loss: 0.0958 - accuracy: 0.9021 - val_loss: 0.2948 - val_accuracy: 0.7516 - lr: 0.0010 - 76s/epoch - 17ms/step
Epoch 66/100
4378/4378 - 76s - loss: 0.0957 - accuracy: 0.9027 - val_loss: 0.2991 - val_accuracy: 0.7548 - lr: 0.0010 - 76s/epoch - 17ms/step
Epoch 67/100
4378/4378 - 76s - loss: 0.0955 - accuracy: 0.9032 - val_loss: 0.3063 - val_accuracy: 0.7555 - lr: 0.0010 - 76s/epoch - 17ms/step
Epoch 68/100
4378/4378 - 76s - loss: 0.0957 - accuracy: 0.9020 - val_loss: 0.2924 - val_accuracy: 0.7618 - lr: 0.0010 - 76s/epoch - 17ms/step
Epoch 69/100
4378/4378 - 76s - loss: 0.0960 - accuracy: 0.9023 - val_loss: 0.3049 - val_accuracy: 0.7522 - lr: 0.0010 - 76s/epoch - 17ms/step
Epoch 70/100
4378/4378 - 76s - loss: 0.0950 - accuracy: 0.9038 - val_loss: 0.3331 - val_accuracy: 0.7295 - lr: 0.0010 - 76s/epoch - 17ms/step
Epoch 71/100
4378/4378 - 77s - loss: 0.0953 - accuracy: 0.9030 - val_loss: 0.3213 - val_accuracy: 0.7323 - lr: 0.0010 - 77s/epoch - 17ms/step
Epoch 72/100
4378/4378 - 76s - loss: 0.0975 - accuracy: 0.9005 - val_loss: 0.3160 - val_accuracy: 0.7305 - lr: 0.0010 - 76s/epoch - 17ms/step
Epoch 73/100
4378/4378 - 76s - loss: 0.0961 - accuracy: 0.9026 - val_loss: 0.3199 - val_accuracy: 0.7359 - lr: 0.0010 - 76s/epoch - 17ms/step
Epoch 74/100
4378/4378 - 76s - loss: 0.0961 - accuracy: 0.9022 - val_loss: 0.3291 - val_accuracy: 0.7421 - lr: 0.0010 - 76s/epoch - 17ms/step
Epoch 75/100
4378/4378 - 76s - loss: 0.0963 - accuracy: 0.9015 - val_loss: 0.2994 - val_accuracy: 0.7472 - lr: 0.0010 - 76s/epoch - 17ms/step
Epoch 76/100
4378/4378 - 76s - loss: 0.0947 - accuracy: 0.9041 - val_loss: 0.2856 - val_accuracy: 0.7594 - lr: 0.0010 - 76s/epoch - 17ms/step
Epoch 77/100
4378/4378 - 76s - loss: 0.0941 - accuracy: 0.9043 - val_loss: 0.3046 - val_accuracy: 0.7488 - lr: 0.0010 - 76s/epoch - 17ms/step
Epoch 78/100
4378/4378 - 76s - loss: 0.0965 - accuracy: 0.9020 - val_loss: 0.3403 - val_accuracy: 0.7238 - lr: 0.0010 - 76s/epoch - 17ms/step
Epoch 79/100
4378/4378 - 76s - loss: 0.0947 - accuracy: 0.9032 - val_loss: 0.3093 - val_accuracy: 0.7400 - lr: 0.0010 - 76s/epoch - 17ms/step
Epoch 80/100
4378/4378 - 76s - loss: 0.0970 - accuracy: 0.9004 - val_loss: 0.3224 - val_accuracy: 0.7350 - lr: 0.0010 - 76s/epoch - 17ms/step
Epoch 81/100
4378/4378 - 76s - loss: 0.0947 - accuracy: 0.9038 - val_loss: 0.2974 - val_accuracy: 0.7557 - lr: 0.0010 - 76s/epoch - 17ms/step
Epoch 82/100
4378/4378 - 76s - loss: 0.0942 - accuracy: 0.9046 - val_loss: 0.2937 - val_accuracy: 0.7575 - lr: 0.0010 - 76s/epoch - 17ms/step
Epoch 83/100
4378/4378 - 76s - loss: 0.0952 - accuracy: 0.9035 - val_loss: 0.3023 - val_accuracy: 0.7355 - lr: 0.0010 - 76s/epoch - 17ms/step
Epoch 84/100
4378/4378 - 76s - loss: 0.0961 - accuracy: 0.9024 - val_loss: 0.3438 - val_accuracy: 0.7135 - lr: 0.0010 - 76s/epoch - 17ms/step
Epoch 85/100
4378/4378 - 76s - loss: 0.0956 - accuracy: 0.9021 - val_loss: 0.3073 - val_accuracy: 0.7363 - lr: 0.0010 - 76s/epoch - 17ms/step
Epoch 86/100
4378/4378 - 76s - loss: 0.0927 - accuracy: 0.9058 - val_loss: 0.2803 - val_accuracy: 0.7575 - lr: 0.0010 - 76s/epoch - 17ms/step
Epoch 87/100
4378/4378 - 76s - loss: 0.0937 - accuracy: 0.9041 - val_loss: 0.3270 - val_accuracy: 0.7360 - lr: 0.0010 - 76s/epoch - 17ms/step
Epoch 88/100
4378/4378 - 76s - loss: 0.0947 - accuracy: 0.9035 - val_loss: 0.2780 - val_accuracy: 0.7688 - lr: 0.0010 - 76s/epoch - 17ms/step
Epoch 89/100
4378/4378 - 76s - loss: 0.0937 - accuracy: 0.9048 - val_loss: 0.3324 - val_accuracy: 0.7441 - lr: 0.0010 - 76s/epoch - 17ms/step
Epoch 90/100
4378/4378 - 76s - loss: 0.0936 - accuracy: 0.9045 - val_loss: 0.3066 - val_accuracy: 0.7505 - lr: 0.0010 - 76s/epoch - 17ms/step
Epoch 91/100
4378/4378 - 76s - loss: 0.0934 - accuracy: 0.9054 - val_loss: 0.3059 - val_accuracy: 0.7510 - lr: 0.0010 - 76s/epoch - 17ms/step
Epoch 92/100
4378/4378 - 77s - loss: 0.0942 - accuracy: 0.9034 - val_loss: 0.3262 - val_accuracy: 0.7420 - lr: 0.0010 - 77s/epoch - 18ms/step
Epoch 93/100
4378/4378 - 76s - loss: 0.0943 - accuracy: 0.9040 - val_loss: 0.3265 - val_accuracy: 0.7402 - lr: 0.0010 - 76s/epoch - 17ms/step
Epoch 94/100
4378/4378 - 76s - loss: 0.0931 - accuracy: 0.9053 - val_loss: 0.3140 - val_accuracy: 0.7460 - lr: 0.0010 - 76s/epoch - 17ms/step
Epoch 95/100
4378/4378 - 76s - loss: 0.0944 - accuracy: 0.9034 - val_loss: 0.3164 - val_accuracy: 0.7363 - lr: 0.0010 - 76s/epoch - 17ms/step
Epoch 96/100
4378/4378 - 76s - loss: 0.0940 - accuracy: 0.9047 - val_loss: 0.3481 - val_accuracy: 0.7262 - lr: 0.0010 - 76s/epoch - 17ms/step
Epoch 97/100
4378/4378 - 76s - loss: 0.0946 - accuracy: 0.9030 - val_loss: 0.3245 - val_accuracy: 0.7402 - lr: 0.0010 - 76s/epoch - 17ms/step
Epoch 98/100
4378/4378 - 76s - loss: 0.0950 - accuracy: 0.9026 - val_loss: 0.3325 - val_accuracy: 0.7328 - lr: 0.0010 - 76s/epoch - 17ms/step
Epoch 99/100
4378/4378 - 77s - loss: 0.0954 - accuracy: 0.9025 - val_loss: 0.3183 - val_accuracy: 0.7452 - lr: 0.0010 - 77s/epoch - 18ms/step
Epoch 100/100
4378/4378 - 76s - loss: 0.0931 - accuracy: 0.9054 - val_loss: 0.3213 - val_accuracy: 0.7368 - lr: 0.0010 - 76s/epoch - 17ms/step
Epoch 1/100
876/876 - 22s - loss: 0.0693 - accuracy: 0.9307 - val_loss: 0.3606 - val_accuracy: 0.7313 - lr: 0.0010 - 22s/epoch - 25ms/step
Epoch 2/100
876/876 - 19s - loss: 0.0693 - accuracy: 0.9307 - val_loss: 0.3762 - val_accuracy: 0.7278 - lr: 0.0010 - 19s/epoch - 22ms/step
Epoch 3/100
876/876 - 20s - loss: 0.0707 - accuracy: 0.9298 - val_loss: 0.3826 - val_accuracy: 0.7259 - lr: 0.0010 - 20s/epoch - 22ms/step
Epoch 4/100
876/876 - 19s - loss: 0.0674 - accuracy: 0.9333 - val_loss: 0.4244 - val_accuracy: 0.7016 - lr: 0.0010 - 19s/epoch - 22ms/step
Epoch 5/100
876/876 - 19s - loss: 0.0688 - accuracy: 0.9317 - val_loss: 0.3886 - val_accuracy: 0.7180 - lr: 0.0010 - 19s/epoch - 22ms/step
Epoch 6/100
876/876 - 20s - loss: 0.0696 - accuracy: 0.9316 - val_loss: 0.3929 - val_accuracy: 0.7257 - lr: 0.0010 - 20s/epoch - 22ms/step
Epoch 7/100
876/876 - 19s - loss: 0.0679 - accuracy: 0.9325 - val_loss: 0.4097 - val_accuracy: 0.7147 - lr: 0.0010 - 19s/epoch - 22ms/step
Epoch 8/100
876/876 - 19s - loss: 0.0676 - accuracy: 0.9330 - val_loss: 0.3718 - val_accuracy: 0.7383 - lr: 0.0010 - 19s/epoch - 22ms/step
Epoch 9/100
876/876 - 20s - loss: 0.0676 - accuracy: 0.9337 - val_loss: 0.4053 - val_accuracy: 0.7189 - lr: 0.0010 - 20s/epoch - 22ms/step
Epoch 10/100
876/876 - 20s - loss: 0.0675 - accuracy: 0.9338 - val_loss: 0.3926 - val_accuracy: 0.7304 - lr: 0.0010 - 20s/epoch - 22ms/step
Epoch 11/100
876/876 - 19s - loss: 0.0658 - accuracy: 0.9354 - val_loss: 0.3875 - val_accuracy: 0.7333 - lr: 0.0010 - 19s/epoch - 22ms/step
Epoch 12/100
876/876 - 20s - loss: 0.0659 - accuracy: 0.9347 - val_loss: 0.3956 - val_accuracy: 0.7348 - lr: 0.0010 - 20s/epoch - 22ms/step
Epoch 13/100
876/876 - 19s - loss: 0.0664 - accuracy: 0.9338 - val_loss: 0.3723 - val_accuracy: 0.7374 - lr: 0.0010 - 19s/epoch - 22ms/step
Epoch 14/100
876/876 - 19s - loss: 0.0659 - accuracy: 0.9342 - val_loss: 0.3836 - val_accuracy: 0.7374 - lr: 0.0010 - 19s/epoch - 22ms/step
Epoch 15/100
876/876 - 19s - loss: 0.0655 - accuracy: 0.9358 - val_loss: 0.4236 - val_accuracy: 0.7158 - lr: 0.0010 - 19s/epoch - 22ms/step
Epoch 16/100
876/876 - 19s - loss: 0.0659 - accuracy: 0.9350 - val_loss: 0.3999 - val_accuracy: 0.7311 - lr: 0.0010 - 19s/epoch - 22ms/step
Epoch 17/100
876/876 - 19s - loss: 0.0657 - accuracy: 0.9350 - val_loss: 0.3796 - val_accuracy: 0.7378 - lr: 0.0010 - 19s/epoch - 22ms/step
Epoch 18/100
876/876 - 19s - loss: 0.0656 - accuracy: 0.9356 - val_loss: 0.3829 - val_accuracy: 0.7346 - lr: 0.0010 - 19s/epoch - 22ms/step
Epoch 19/100
876/876 - 19s - loss: 0.0651 - accuracy: 0.9360 - val_loss: 0.4135 - val_accuracy: 0.7194 - lr: 0.0010 - 19s/epoch - 22ms/step
Epoch 20/100
876/876 - 19s - loss: 0.0660 - accuracy: 0.9344 - val_loss: 0.3738 - val_accuracy: 0.7379 - lr: 0.0010 - 19s/epoch - 22ms/step
Epoch 21/100
876/876 - 19s - loss: 0.0644 - accuracy: 0.9370 - val_loss: 0.4008 - val_accuracy: 0.7248 - lr: 0.0010 - 19s/epoch - 22ms/step
Epoch 22/100
876/876 - 20s - loss: 0.0652 - accuracy: 0.9363 - val_loss: 0.4099 - val_accuracy: 0.7262 - lr: 0.0010 - 20s/epoch - 22ms/step
Epoch 23/100
876/876 - 19s - loss: 0.0632 - accuracy: 0.9379 - val_loss: 0.3711 - val_accuracy: 0.7470 - lr: 0.0010 - 19s/epoch - 22ms/step
Epoch 24/100
876/876 - 19s - loss: 0.0647 - accuracy: 0.9364 - val_loss: 0.4067 - val_accuracy: 0.7291 - lr: 0.0010 - 19s/epoch - 22ms/step
Epoch 25/100
876/876 - 20s - loss: 0.0645 - accuracy: 0.9366 - val_loss: 0.4257 - val_accuracy: 0.7222 - lr: 0.0010 - 20s/epoch - 22ms/step
Epoch 26/100
876/876 - 19s - loss: 0.0646 - accuracy: 0.9360 - val_loss: 0.4330 - val_accuracy: 0.7196 - lr: 0.0010 - 19s/epoch - 22ms/step
Epoch 27/100
876/876 - 19s - loss: 0.0647 - accuracy: 0.9361 - val_loss: 0.4238 - val_accuracy: 0.7188 - lr: 0.0010 - 19s/epoch - 22ms/step
Epoch 28/100
876/876 - 19s - loss: 0.0649 - accuracy: 0.9366 - val_loss: 0.4362 - val_accuracy: 0.7147 - lr: 0.0010 - 19s/epoch - 22ms/step
Epoch 29/100
876/876 - 19s - loss: 0.0642 - accuracy: 0.9370 - val_loss: 0.4039 - val_accuracy: 0.7308 - lr: 0.0010 - 19s/epoch - 22ms/step
Epoch 30/100
876/876 - 19s - loss: 0.0641 - accuracy: 0.9366 - val_loss: 0.4363 - val_accuracy: 0.7109 - lr: 0.0010 - 19s/epoch - 22ms/step
Epoch 31/100
876/876 - 19s - loss: 0.0638 - accuracy: 0.9371 - val_loss: 0.4392 - val_accuracy: 0.7181 - lr: 0.0010 - 19s/epoch - 22ms/step
Epoch 32/100
876/876 - 19s - loss: 0.0632 - accuracy: 0.9384 - val_loss: 0.3982 - val_accuracy: 0.7356 - lr: 0.0010 - 19s/epoch - 22ms/step
Epoch 33/100
876/876 - 19s - loss: 0.0634 - accuracy: 0.9376 - val_loss: 0.4222 - val_accuracy: 0.7244 - lr: 0.0010 - 19s/epoch - 22ms/step
Epoch 34/100
876/876 - 19s - loss: 0.0636 - accuracy: 0.9381 - val_loss: 0.3936 - val_accuracy: 0.7379 - lr: 0.0010 - 19s/epoch - 22ms/step
Epoch 35/100
876/876 - 20s - loss: 0.0624 - accuracy: 0.9387 - val_loss: 0.3961 - val_accuracy: 0.7411 - lr: 0.0010 - 20s/epoch - 22ms/step
Epoch 36/100
876/876 - 20s - loss: 0.0630 - accuracy: 0.9382 - val_loss: 0.4067 - val_accuracy: 0.7297 - lr: 0.0010 - 20s/epoch - 22ms/step
Epoch 37/100
876/876 - 19s - loss: 0.0638 - accuracy: 0.9374 - val_loss: 0.4516 - val_accuracy: 0.7059 - lr: 0.0010 - 19s/epoch - 22ms/step
Epoch 38/100
876/876 - 20s - loss: 0.0629 - accuracy: 0.9380 - val_loss: 0.4093 - val_accuracy: 0.7325 - lr: 0.0010 - 20s/epoch - 22ms/step
Epoch 39/100
876/876 - 19s - loss: 0.0639 - accuracy: 0.9379 - val_loss: 0.4303 - val_accuracy: 0.7260 - lr: 0.0010 - 19s/epoch - 22ms/step
Epoch 40/100
876/876 - 19s - loss: 0.0643 - accuracy: 0.9357 - val_loss: 0.4135 - val_accuracy: 0.7341 - lr: 0.0010 - 19s/epoch - 22ms/step
Epoch 41/100
876/876 - 20s - loss: 0.0634 - accuracy: 0.9375 - val_loss: 0.4253 - val_accuracy: 0.7169 - lr: 0.0010 - 20s/epoch - 22ms/step
Epoch 42/100
876/876 - 19s - loss: 0.0628 - accuracy: 0.9386 - val_loss: 0.4075 - val_accuracy: 0.7244 - lr: 0.0010 - 19s/epoch - 22ms/step
Epoch 43/100
876/876 - 19s - loss: 0.0626 - accuracy: 0.9390 - val_loss: 0.4235 - val_accuracy: 0.7275 - lr: 0.0010 - 19s/epoch - 22ms/step
Epoch 44/100
876/876 - 19s - loss: 0.0623 - accuracy: 0.9397 - val_loss: 0.4451 - val_accuracy: 0.7195 - lr: 0.0010 - 19s/epoch - 22ms/step
Epoch 45/100
876/876 - 20s - loss: 0.0624 - accuracy: 0.9386 - val_loss: 0.4111 - val_accuracy: 0.7301 - lr: 0.0010 - 20s/epoch - 22ms/step
Epoch 46/100
876/876 - 19s - loss: 0.0626 - accuracy: 0.9388 - val_loss: 0.4355 - val_accuracy: 0.7202 - lr: 0.0010 - 19s/epoch - 22ms/step
Epoch 47/100
876/876 - 19s - loss: 0.0621 - accuracy: 0.9390 - val_loss: 0.3887 - val_accuracy: 0.7377 - lr: 0.0010 - 19s/epoch - 22ms/step
Epoch 48/100
876/876 - 20s - loss: 0.0629 - accuracy: 0.9383 - val_loss: 0.4284 - val_accuracy: 0.7281 - lr: 0.0010 - 20s/epoch - 22ms/step
Epoch 49/100
876/876 - 19s - loss: 0.0622 - accuracy: 0.9395 - val_loss: 0.3797 - val_accuracy: 0.7489 - lr: 0.0010 - 19s/epoch - 22ms/step
Epoch 50/100
876/876 - 19s - loss: 0.0624 - accuracy: 0.9386 - val_loss: 0.3967 - val_accuracy: 0.7364 - lr: 0.0010 - 19s/epoch - 22ms/step
Epoch 51/100
876/876 - 19s - loss: 0.0617 - accuracy: 0.9399 - val_loss: 0.4356 - val_accuracy: 0.7130 - lr: 0.0010 - 19s/epoch - 22ms/step
Epoch 52/100
876/876 - 19s - loss: 0.0634 - accuracy: 0.9375 - val_loss: 0.4610 - val_accuracy: 0.7121 - lr: 0.0010 - 19s/epoch - 22ms/step
Epoch 53/100
876/876 - 19s - loss: 0.0635 - accuracy: 0.9376 - val_loss: 0.4001 - val_accuracy: 0.7320 - lr: 0.0010 - 19s/epoch - 22ms/step
Epoch 54/100
876/876 - 19s - loss: 0.0632 - accuracy: 0.9384 - val_loss: 0.3856 - val_accuracy: 0.7537 - lr: 0.0010 - 19s/epoch - 22ms/step
Epoch 55/100
876/876 - 20s - loss: 0.0622 - accuracy: 0.9388 - val_loss: 0.4368 - val_accuracy: 0.7271 - lr: 0.0010 - 20s/epoch - 22ms/step
Epoch 56/100
876/876 - 19s - loss: 0.0638 - accuracy: 0.9382 - val_loss: 0.3768 - val_accuracy: 0.7385 - lr: 0.0010 - 19s/epoch - 22ms/step
Epoch 57/100
876/876 - 19s - loss: 0.0617 - accuracy: 0.9396 - val_loss: 0.4311 - val_accuracy: 0.7199 - lr: 0.0010 - 19s/epoch - 22ms/step
Epoch 58/100
876/876 - 20s - loss: 0.0616 - accuracy: 0.9401 - val_loss: 0.4397 - val_accuracy: 0.7171 - lr: 0.0010 - 20s/epoch - 22ms/step
Epoch 59/100
876/876 - 20s - loss: 0.0620 - accuracy: 0.9393 - val_loss: 0.4115 - val_accuracy: 0.7345 - lr: 0.0010 - 20s/epoch - 22ms/step
Epoch 60/100
876/876 - 20s - loss: 0.0616 - accuracy: 0.9402 - val_loss: 0.4191 - val_accuracy: 0.7322 - lr: 0.0010 - 20s/epoch - 22ms/step
Epoch 61/100
876/876 - 20s - loss: 0.0629 - accuracy: 0.9394 - val_loss: 0.3632 - val_accuracy: 0.7525 - lr: 0.0010 - 20s/epoch - 22ms/step
Epoch 62/100
876/876 - 19s - loss: 0.0622 - accuracy: 0.9391 - val_loss: 0.4255 - val_accuracy: 0.7277 - lr: 0.0010 - 19s/epoch - 22ms/step
Epoch 63/100
876/876 - 19s - loss: 0.0624 - accuracy: 0.9396 - val_loss: 0.4200 - val_accuracy: 0.7261 - lr: 0.0010 - 19s/epoch - 22ms/step
Epoch 64/100
876/876 - 19s - loss: 0.0626 - accuracy: 0.9382 - val_loss: 0.4122 - val_accuracy: 0.7279 - lr: 0.0010 - 19s/epoch - 22ms/step
Epoch 65/100
876/876 - 19s - loss: 0.0624 - accuracy: 0.9398 - val_loss: 0.4200 - val_accuracy: 0.7309 - lr: 0.0010 - 19s/epoch - 22ms/step
Epoch 66/100
876/876 - 19s - loss: 0.0613 - accuracy: 0.9404 - val_loss: 0.3763 - val_accuracy: 0.7500 - lr: 0.0010 - 19s/epoch - 22ms/step
Epoch 67/100
876/876 - 19s - loss: 0.0618 - accuracy: 0.9398 - val_loss: 0.4114 - val_accuracy: 0.7325 - lr: 0.0010 - 19s/epoch - 22ms/step
Epoch 68/100
876/876 - 19s - loss: 0.0616 - accuracy: 0.9395 - val_loss: 0.4202 - val_accuracy: 0.7338 - lr: 0.0010 - 19s/epoch - 22ms/step
Epoch 69/100
876/876 - 20s - loss: 0.0625 - accuracy: 0.9390 - val_loss: 0.4159 - val_accuracy: 0.7264 - lr: 0.0010 - 20s/epoch - 23ms/step
Epoch 70/100
876/876 - 20s - loss: 0.0623 - accuracy: 0.9396 - val_loss: 0.4043 - val_accuracy: 0.7284 - lr: 0.0010 - 20s/epoch - 22ms/step
Epoch 71/100
876/876 - 19s - loss: 0.0615 - accuracy: 0.9402 - val_loss: 0.4030 - val_accuracy: 0.7317 - lr: 0.0010 - 19s/epoch - 22ms/step
Epoch 72/100
876/876 - 20s - loss: 0.0616 - accuracy: 0.9397 - val_loss: 0.4212 - val_accuracy: 0.7334 - lr: 0.0010 - 20s/epoch - 22ms/step
Epoch 73/100
876/876 - 19s - loss: 0.0611 - accuracy: 0.9399 - val_loss: 0.4060 - val_accuracy: 0.7298 - lr: 0.0010 - 19s/epoch - 22ms/step
Epoch 74/100
876/876 - 20s - loss: 0.0616 - accuracy: 0.9406 - val_loss: 0.4091 - val_accuracy: 0.7410 - lr: 0.0010 - 20s/epoch - 22ms/step
Epoch 75/100
876/876 - 19s - loss: 0.0614 - accuracy: 0.9406 - val_loss: 0.4442 - val_accuracy: 0.7187 - lr: 0.0010 - 19s/epoch - 22ms/step
Epoch 76/100
876/876 - 20s - loss: 0.0614 - accuracy: 0.9397 - val_loss: 0.3983 - val_accuracy: 0.7394 - lr: 0.0010 - 20s/epoch - 22ms/step
Epoch 77/100
876/876 - 20s - loss: 0.0624 - accuracy: 0.9393 - val_loss: 0.4111 - val_accuracy: 0.7382 - lr: 0.0010 - 20s/epoch - 22ms/step
Epoch 78/100
876/876 - 19s - loss: 0.0609 - accuracy: 0.9401 - val_loss: 0.3970 - val_accuracy: 0.7381 - lr: 0.0010 - 19s/epoch - 22ms/step
Epoch 79/100
876/876 - 19s - loss: 0.0614 - accuracy: 0.9397 - val_loss: 0.4264 - val_accuracy: 0.7298 - lr: 0.0010 - 19s/epoch - 22ms/step
Epoch 80/100
876/876 - 19s - loss: 0.0630 - accuracy: 0.9383 - val_loss: 0.4374 - val_accuracy: 0.7199 - lr: 0.0010 - 19s/epoch - 22ms/step
Epoch 81/100
876/876 - 19s - loss: 0.0607 - accuracy: 0.9412 - val_loss: 0.4012 - val_accuracy: 0.7375 - lr: 0.0010 - 19s/epoch - 22ms/step
Epoch 82/100
876/876 - 19s - loss: 0.0609 - accuracy: 0.9399 - val_loss: 0.4688 - val_accuracy: 0.7086 - lr: 0.0010 - 19s/epoch - 22ms/step
Epoch 83/100
876/876 - 19s - loss: 0.0616 - accuracy: 0.9395 - val_loss: 0.4411 - val_accuracy: 0.7205 - lr: 0.0010 - 19s/epoch - 22ms/step
Epoch 84/100
876/876 - 19s - loss: 0.0615 - accuracy: 0.9398 - val_loss: 0.4238 - val_accuracy: 0.7294 - lr: 0.0010 - 19s/epoch - 22ms/step
Epoch 85/100
876/876 - 19s - loss: 0.0608 - accuracy: 0.9413 - val_loss: 0.4376 - val_accuracy: 0.7184 - lr: 0.0010 - 19s/epoch - 22ms/step
Epoch 86/100
876/876 - 20s - loss: 0.0614 - accuracy: 0.9395 - val_loss: 0.4310 - val_accuracy: 0.7257 - lr: 0.0010 - 20s/epoch - 23ms/step
Epoch 87/100
876/876 - 19s - loss: 0.0613 - accuracy: 0.9396 - val_loss: 0.4411 - val_accuracy: 0.7207 - lr: 0.0010 - 19s/epoch - 22ms/step
Epoch 88/100
876/876 - 19s - loss: 0.0619 - accuracy: 0.9397 - val_loss: 0.4393 - val_accuracy: 0.7219 - lr: 0.0010 - 19s/epoch - 22ms/step
Epoch 89/100
876/876 - 19s - loss: 0.0608 - accuracy: 0.9411 - val_loss: 0.4272 - val_accuracy: 0.7274 - lr: 0.0010 - 19s/epoch - 22ms/step
Epoch 90/100
876/876 - 20s - loss: 0.0615 - accuracy: 0.9401 - val_loss: 0.4344 - val_accuracy: 0.7270 - lr: 0.0010 - 20s/epoch - 23ms/step
Epoch 91/100
876/876 - 21s - loss: 0.0606 - accuracy: 0.9410 - val_loss: 0.4490 - val_accuracy: 0.7199 - lr: 0.0010 - 21s/epoch - 24ms/step
Epoch 92/100
876/876 - 20s - loss: 0.0609 - accuracy: 0.9409 - val_loss: 0.3959 - val_accuracy: 0.7525 - lr: 0.0010 - 20s/epoch - 23ms/step
Epoch 93/100
876/876 - 21s - loss: 0.0608 - accuracy: 0.9414 - val_loss: 0.4344 - val_accuracy: 0.7247 - lr: 0.0010 - 21s/epoch - 24ms/step
Epoch 94/100
876/876 - 23s - loss: 0.0600 - accuracy: 0.9419 - val_loss: 0.4692 - val_accuracy: 0.7105 - lr: 0.0010 - 23s/epoch - 26ms/step
Epoch 95/100
876/876 - 23s - loss: 0.0600 - accuracy: 0.9427 - val_loss: 0.4454 - val_accuracy: 0.7269 - lr: 0.0010 - 23s/epoch - 26ms/step
Epoch 96/100
876/876 - 24s - loss: 0.0613 - accuracy: 0.9407 - val_loss: 0.4357 - val_accuracy: 0.7323 - lr: 0.0010 - 24s/epoch - 27ms/step
Epoch 97/100
876/876 - 22s - loss: 0.0600 - accuracy: 0.9415 - val_loss: 0.4251 - val_accuracy: 0.7285 - lr: 0.0010 - 22s/epoch - 25ms/step
Epoch 98/100
876/876 - 23s - loss: 0.0608 - accuracy: 0.9411 - val_loss: 0.4134 - val_accuracy: 0.7384 - lr: 0.0010 - 23s/epoch - 26ms/step
Epoch 99/100
876/876 - 22s - loss: 0.0586 - accuracy: 0.9424 - val_loss: 0.4715 - val_accuracy: 0.7080 - lr: 0.0010 - 22s/epoch - 26ms/step
Epoch 100/100
876/876 - 22s - loss: 0.0607 - accuracy: 0.9417 - val_loss: 0.4335 - val_accuracy: 0.7257 - lr: 0.0010 - 22s/epoch - 25ms/step
Epoch 1/100
176/176 - 12s - loss: 0.0478 - accuracy: 0.9555 - val_loss: 0.4542 - val_accuracy: 0.7233 - lr: 0.0010 - 12s/epoch - 70ms/step
Epoch 2/100
176/176 - 10s - loss: 0.0443 - accuracy: 0.9585 - val_loss: 0.4336 - val_accuracy: 0.7354 - lr: 0.0010 - 10s/epoch - 54ms/step
Epoch 3/100
176/176 - 10s - loss: 0.0426 - accuracy: 0.9607 - val_loss: 0.4704 - val_accuracy: 0.7249 - lr: 0.0010 - 10s/epoch - 54ms/step
Epoch 4/100
176/176 - 9s - loss: 0.0425 - accuracy: 0.9606 - val_loss: 0.5108 - val_accuracy: 0.7096 - lr: 0.0010 - 9s/epoch - 54ms/step
Epoch 5/100
176/176 - 9s - loss: 0.0431 - accuracy: 0.9597 - val_loss: 0.4911 - val_accuracy: 0.7278 - lr: 0.0010 - 9s/epoch - 54ms/step
Epoch 6/100
176/176 - 9s - loss: 0.0435 - accuracy: 0.9592 - val_loss: 0.4878 - val_accuracy: 0.7254 - lr: 0.0010 - 9s/epoch - 54ms/step
Epoch 7/100
176/176 - 9s - loss: 0.0431 - accuracy: 0.9596 - val_loss: 0.4827 - val_accuracy: 0.7300 - lr: 0.0010 - 9s/epoch - 53ms/step
Epoch 8/100
176/176 - 10s - loss: 0.0446 - accuracy: 0.9580 - val_loss: 0.4900 - val_accuracy: 0.7298 - lr: 0.0010 - 10s/epoch - 55ms/step
Epoch 9/100
176/176 - 10s - loss: 0.0444 - accuracy: 0.9586 - val_loss: 0.4990 - val_accuracy: 0.7235 - lr: 0.0010 - 10s/epoch - 56ms/step
Epoch 10/100
176/176 - 10s - loss: 0.0445 - accuracy: 0.9585 - val_loss: 0.5104 - val_accuracy: 0.7193 - lr: 0.0010 - 10s/epoch - 54ms/step
Epoch 11/100
176/176 - 9s - loss: 0.0448 - accuracy: 0.9580 - val_loss: 0.5109 - val_accuracy: 0.7175 - lr: 0.0010 - 9s/epoch - 54ms/step
Epoch 12/100
176/176 - 9s - loss: 0.0446 - accuracy: 0.9577 - val_loss: 0.5252 - val_accuracy: 0.7208 - lr: 0.0010 - 9s/epoch - 53ms/step
Epoch 13/100
176/176 - 9s - loss: 0.0445 - accuracy: 0.9580 - val_loss: 0.4882 - val_accuracy: 0.7286 - lr: 0.0010 - 9s/epoch - 54ms/step
Epoch 14/100
176/176 - 9s - loss: 0.0454 - accuracy: 0.9575 - val_loss: 0.5204 - val_accuracy: 0.7141 - lr: 0.0010 - 9s/epoch - 54ms/step
Epoch 15/100
176/176 - 9s - loss: 0.0462 - accuracy: 0.9565 - val_loss: 0.5115 - val_accuracy: 0.7200 - lr: 0.0010 - 9s/epoch - 53ms/step
Epoch 16/100
176/176 - 9s - loss: 0.0446 - accuracy: 0.9581 - val_loss: 0.5239 - val_accuracy: 0.7136 - lr: 0.0010 - 9s/epoch - 53ms/step
Epoch 17/100
176/176 - 9s - loss: 0.0455 - accuracy: 0.9569 - val_loss: 0.5418 - val_accuracy: 0.7120 - lr: 0.0010 - 9s/epoch - 53ms/step
Epoch 18/100
176/176 - 9s - loss: 0.0454 - accuracy: 0.9574 - val_loss: 0.5039 - val_accuracy: 0.7271 - lr: 0.0010 - 9s/epoch - 53ms/step
Epoch 19/100
176/176 - 9s - loss: 0.0445 - accuracy: 0.9584 - val_loss: 0.4978 - val_accuracy: 0.7181 - lr: 0.0010 - 9s/epoch - 53ms/step
Epoch 20/100
176/176 - 9s - loss: 0.0448 - accuracy: 0.9579 - val_loss: 0.5386 - val_accuracy: 0.7144 - lr: 0.0010 - 9s/epoch - 53ms/step
Epoch 21/100
176/176 - 9s - loss: 0.0438 - accuracy: 0.9587 - val_loss: 0.5193 - val_accuracy: 0.7243 - lr: 0.0010 - 9s/epoch - 54ms/step
Epoch 22/100
176/176 - 9s - loss: 0.0433 - accuracy: 0.9598 - val_loss: 0.5215 - val_accuracy: 0.7197 - lr: 0.0010 - 9s/epoch - 53ms/step
Epoch 23/100
176/176 - 9s - loss: 0.0418 - accuracy: 0.9613 - val_loss: 0.5405 - val_accuracy: 0.7103 - lr: 0.0010 - 9s/epoch - 53ms/step
Epoch 24/100
176/176 - 9s - loss: 0.0415 - accuracy: 0.9613 - val_loss: 0.5240 - val_accuracy: 0.7192 - lr: 0.0010 - 9s/epoch - 53ms/step
Epoch 25/100
176/176 - 9s - loss: 0.0421 - accuracy: 0.9608 - val_loss: 0.5403 - val_accuracy: 0.7142 - lr: 0.0010 - 9s/epoch - 54ms/step
Epoch 26/100
176/176 - 9s - loss: 0.0428 - accuracy: 0.9600 - val_loss: 0.5570 - val_accuracy: 0.7109 - lr: 0.0010 - 9s/epoch - 53ms/step
Epoch 27/100
176/176 - 9s - loss: 0.0418 - accuracy: 0.9610 - val_loss: 0.5566 - val_accuracy: 0.7183 - lr: 0.0010 - 9s/epoch - 53ms/step
Epoch 28/100
176/176 - 9s - loss: 0.0430 - accuracy: 0.9599 - val_loss: 0.5445 - val_accuracy: 0.7214 - lr: 0.0010 - 9s/epoch - 53ms/step
Epoch 29/100
176/176 - 9s - loss: 0.0432 - accuracy: 0.9599 - val_loss: 0.5067 - val_accuracy: 0.7305 - lr: 0.0010 - 9s/epoch - 53ms/step
Epoch 30/100
176/176 - 9s - loss: 0.0427 - accuracy: 0.9602 - val_loss: 0.5521 - val_accuracy: 0.7201 - lr: 0.0010 - 9s/epoch - 53ms/step
Epoch 31/100
176/176 - 9s - loss: 0.0435 - accuracy: 0.9590 - val_loss: 0.5155 - val_accuracy: 0.7310 - lr: 0.0010 - 9s/epoch - 53ms/step
Epoch 32/100
176/176 - 9s - loss: 0.0439 - accuracy: 0.9588 - val_loss: 0.5476 - val_accuracy: 0.7152 - lr: 0.0010 - 9s/epoch - 53ms/step
Epoch 33/100
176/176 - 9s - loss: 0.0436 - accuracy: 0.9596 - val_loss: 0.5300 - val_accuracy: 0.7290 - lr: 0.0010 - 9s/epoch - 53ms/step
Epoch 34/100
176/176 - 9s - loss: 0.0437 - accuracy: 0.9592 - val_loss: 0.5707 - val_accuracy: 0.7135 - lr: 0.0010 - 9s/epoch - 53ms/step
Epoch 35/100
176/176 - 9s - loss: 0.0438 - accuracy: 0.9590 - val_loss: 0.5256 - val_accuracy: 0.7198 - lr: 0.0010 - 9s/epoch - 53ms/step
Epoch 36/100
176/176 - 9s - loss: 0.0431 - accuracy: 0.9600 - val_loss: 0.5445 - val_accuracy: 0.7191 - lr: 0.0010 - 9s/epoch - 53ms/step
Epoch 37/100
176/176 - 9s - loss: 0.0431 - accuracy: 0.9601 - val_loss: 0.5377 - val_accuracy: 0.7204 - lr: 0.0010 - 9s/epoch - 53ms/step
Epoch 38/100
176/176 - 9s - loss: 0.0419 - accuracy: 0.9610 - val_loss: 0.5297 - val_accuracy: 0.7192 - lr: 0.0010 - 9s/epoch - 53ms/step
Epoch 39/100
176/176 - 9s - loss: 0.0440 - accuracy: 0.9595 - val_loss: 0.5491 - val_accuracy: 0.7155 - lr: 0.0010 - 9s/epoch - 53ms/step
Epoch 40/100
176/176 - 9s - loss: 0.0426 - accuracy: 0.9605 - val_loss: 0.5356 - val_accuracy: 0.7253 - lr: 0.0010 - 9s/epoch - 53ms/step
Epoch 41/100
176/176 - 9s - loss: 0.0440 - accuracy: 0.9591 - val_loss: 0.5361 - val_accuracy: 0.7274 - lr: 0.0010 - 9s/epoch - 53ms/step
Epoch 42/100
176/176 - 9s - loss: 0.0431 - accuracy: 0.9600 - val_loss: 0.5496 - val_accuracy: 0.7209 - lr: 0.0010 - 9s/epoch - 53ms/step
Epoch 43/100
176/176 - 9s - loss: 0.0427 - accuracy: 0.9605 - val_loss: 0.5247 - val_accuracy: 0.7304 - lr: 0.0010 - 9s/epoch - 53ms/step
Epoch 44/100
176/176 - 9s - loss: 0.0431 - accuracy: 0.9603 - val_loss: 0.5407 - val_accuracy: 0.7263 - lr: 0.0010 - 9s/epoch - 53ms/step
Epoch 45/100
176/176 - 9s - loss: 0.0411 - accuracy: 0.9622 - val_loss: 0.5217 - val_accuracy: 0.7262 - lr: 0.0010 - 9s/epoch - 53ms/step
Epoch 46/100
176/176 - 9s - loss: 0.0419 - accuracy: 0.9619 - val_loss: 0.5574 - val_accuracy: 0.7176 - lr: 0.0010 - 9s/epoch - 54ms/step
Epoch 47/100
176/176 - 9s - loss: 0.0404 - accuracy: 0.9623 - val_loss: 0.5460 - val_accuracy: 0.7270 - lr: 0.0010 - 9s/epoch - 53ms/step
Epoch 48/100
176/176 - 9s - loss: 0.0401 - accuracy: 0.9626 - val_loss: 0.5378 - val_accuracy: 0.7290 - lr: 0.0010 - 9s/epoch - 53ms/step
Epoch 49/100
176/176 - 9s - loss: 0.0404 - accuracy: 0.9629 - val_loss: 0.5197 - val_accuracy: 0.7315 - lr: 0.0010 - 9s/epoch - 53ms/step
Epoch 50/100
176/176 - 9s - loss: 0.0411 - accuracy: 0.9614 - val_loss: 0.5369 - val_accuracy: 0.7289 - lr: 0.0010 - 9s/epoch - 53ms/step
Epoch 51/100
176/176 - 9s - loss: 0.0407 - accuracy: 0.9620 - val_loss: 0.5347 - val_accuracy: 0.7246 - lr: 0.0010 - 9s/epoch - 53ms/step
Epoch 52/100
176/176 - 9s - loss: 0.0424 - accuracy: 0.9608 - val_loss: 0.5465 - val_accuracy: 0.7274 - lr: 0.0010 - 9s/epoch - 54ms/step
Epoch 53/100
176/176 - 9s - loss: 0.0429 - accuracy: 0.9600 - val_loss: 0.5549 - val_accuracy: 0.7195 - lr: 0.0010 - 9s/epoch - 53ms/step
Epoch 54/100
176/176 - 9s - loss: 0.0416 - accuracy: 0.9616 - val_loss: 0.5555 - val_accuracy: 0.7123 - lr: 0.0010 - 9s/epoch - 53ms/step
Epoch 55/100
176/176 - 9s - loss: 0.0391 - accuracy: 0.9638 - val_loss: 0.5892 - val_accuracy: 0.7133 - lr: 0.0010 - 9s/epoch - 53ms/step
Epoch 56/100
176/176 - 9s - loss: 0.0408 - accuracy: 0.9622 - val_loss: 0.5798 - val_accuracy: 0.7110 - lr: 0.0010 - 9s/epoch - 53ms/step
Epoch 57/100
176/176 - 9s - loss: 0.0419 - accuracy: 0.9615 - val_loss: 0.5466 - val_accuracy: 0.7260 - lr: 0.0010 - 9s/epoch - 53ms/step
Epoch 58/100
176/176 - 9s - loss: 0.0418 - accuracy: 0.9615 - val_loss: 0.5565 - val_accuracy: 0.7144 - lr: 0.0010 - 9s/epoch - 53ms/step
Epoch 59/100
176/176 - 9s - loss: 0.0417 - accuracy: 0.9607 - val_loss: 0.5574 - val_accuracy: 0.7226 - lr: 0.0010 - 9s/epoch - 53ms/step
Epoch 60/100
176/176 - 9s - loss: 0.0408 - accuracy: 0.9618 - val_loss: 0.5493 - val_accuracy: 0.7230 - lr: 0.0010 - 9s/epoch - 54ms/step
Epoch 61/100
176/176 - 9s - loss: 0.0426 - accuracy: 0.9599 - val_loss: 0.5399 - val_accuracy: 0.7246 - lr: 0.0010 - 9s/epoch - 54ms/step
Epoch 62/100
176/176 - 9s - loss: 0.0416 - accuracy: 0.9622 - val_loss: 0.5816 - val_accuracy: 0.7098 - lr: 0.0010 - 9s/epoch - 53ms/step
Epoch 63/100
176/176 - 9s - loss: 0.0414 - accuracy: 0.9620 - val_loss: 0.5530 - val_accuracy: 0.7217 - lr: 0.0010 - 9s/epoch - 53ms/step
Epoch 64/100
176/176 - 9s - loss: 0.0420 - accuracy: 0.9612 - val_loss: 0.5136 - val_accuracy: 0.7363 - lr: 0.0010 - 9s/epoch - 54ms/step
Epoch 65/100
176/176 - 9s - loss: 0.0412 - accuracy: 0.9621 - val_loss: 0.5658 - val_accuracy: 0.7139 - lr: 0.0010 - 9s/epoch - 53ms/step
Epoch 66/100
176/176 - 9s - loss: 0.0417 - accuracy: 0.9617 - val_loss: 0.5499 - val_accuracy: 0.7243 - lr: 0.0010 - 9s/epoch - 54ms/step
Epoch 67/100
176/176 - 9s - loss: 0.0411 - accuracy: 0.9624 - val_loss: 0.5860 - val_accuracy: 0.7103 - lr: 0.0010 - 9s/epoch - 54ms/step
Epoch 68/100
176/176 - 10s - loss: 0.0411 - accuracy: 0.9619 - val_loss: 0.5494 - val_accuracy: 0.7252 - lr: 0.0010 - 10s/epoch - 54ms/step
Epoch 69/100
176/176 - 9s - loss: 0.0403 - accuracy: 0.9621 - val_loss: 0.5579 - val_accuracy: 0.7195 - lr: 0.0010 - 9s/epoch - 54ms/step
Epoch 70/100
176/176 - 9s - loss: 0.0420 - accuracy: 0.9612 - val_loss: 0.5472 - val_accuracy: 0.7268 - lr: 0.0010 - 9s/epoch - 54ms/step
Epoch 71/100
176/176 - 9s - loss: 0.0414 - accuracy: 0.9622 - val_loss: 0.5405 - val_accuracy: 0.7229 - lr: 0.0010 - 9s/epoch - 54ms/step
Epoch 72/100
176/176 - 9s - loss: 0.0419 - accuracy: 0.9613 - val_loss: 0.5366 - val_accuracy: 0.7260 - lr: 0.0010 - 9s/epoch - 53ms/step
Epoch 73/100
176/176 - 9s - loss: 0.0421 - accuracy: 0.9616 - val_loss: 0.5748 - val_accuracy: 0.7100 - lr: 0.0010 - 9s/epoch - 54ms/step
Epoch 74/100
176/176 - 9s - loss: 0.0412 - accuracy: 0.9621 - val_loss: 0.5800 - val_accuracy: 0.7194 - lr: 0.0010 - 9s/epoch - 54ms/step
Epoch 75/100
176/176 - 10s - loss: 0.0409 - accuracy: 0.9631 - val_loss: 0.5654 - val_accuracy: 0.7183 - lr: 0.0010 - 10s/epoch - 54ms/step
Epoch 76/100
176/176 - 9s - loss: 0.0389 - accuracy: 0.9645 - val_loss: 0.5714 - val_accuracy: 0.7180 - lr: 0.0010 - 9s/epoch - 54ms/step
Epoch 77/100
176/176 - 9s - loss: 0.0392 - accuracy: 0.9640 - val_loss: 0.5583 - val_accuracy: 0.7271 - lr: 0.0010 - 9s/epoch - 54ms/step
Epoch 78/100
176/176 - 9s - loss: 0.0397 - accuracy: 0.9635 - val_loss: 0.6086 - val_accuracy: 0.7123 - lr: 0.0010 - 9s/epoch - 54ms/step
Epoch 79/100
176/176 - 9s - loss: 0.0407 - accuracy: 0.9626 - val_loss: 0.5420 - val_accuracy: 0.7266 - lr: 0.0010 - 9s/epoch - 53ms/step
Epoch 80/100
176/176 - 10s - loss: 0.0401 - accuracy: 0.9635 - val_loss: 0.5802 - val_accuracy: 0.7187 - lr: 0.0010 - 10s/epoch - 54ms/step
Epoch 81/100
176/176 - 10s - loss: 0.0404 - accuracy: 0.9628 - val_loss: 0.5795 - val_accuracy: 0.7142 - lr: 0.0010 - 10s/epoch - 54ms/step
Epoch 82/100
176/176 - 9s - loss: 0.0395 - accuracy: 0.9640 - val_loss: 0.5890 - val_accuracy: 0.7115 - lr: 0.0010 - 9s/epoch - 54ms/step
Epoch 83/100
176/176 - 9s - loss: 0.0404 - accuracy: 0.9626 - val_loss: 0.5763 - val_accuracy: 0.7172 - lr: 0.0010 - 9s/epoch - 53ms/step
Epoch 84/100
176/176 - 9s - loss: 0.0404 - accuracy: 0.9625 - val_loss: 0.5851 - val_accuracy: 0.7196 - lr: 0.0010 - 9s/epoch - 54ms/step
Epoch 85/100
176/176 - 9s - loss: 0.0408 - accuracy: 0.9629 - val_loss: 0.5583 - val_accuracy: 0.7294 - lr: 0.0010 - 9s/epoch - 53ms/step
Epoch 86/100
176/176 - 9s - loss: 0.0401 - accuracy: 0.9630 - val_loss: 0.5686 - val_accuracy: 0.7259 - lr: 0.0010 - 9s/epoch - 54ms/step
Epoch 87/100
176/176 - 9s - loss: 0.0413 - accuracy: 0.9619 - val_loss: 0.5669 - val_accuracy: 0.7266 - lr: 0.0010 - 9s/epoch - 54ms/step
Epoch 88/100
176/176 - 9s - loss: 0.0411 - accuracy: 0.9616 - val_loss: 0.5275 - val_accuracy: 0.7334 - lr: 0.0010 - 9s/epoch - 54ms/step
Epoch 89/100
176/176 - 10s - loss: 0.0403 - accuracy: 0.9630 - val_loss: 0.5716 - val_accuracy: 0.7240 - lr: 0.0010 - 10s/epoch - 54ms/step
Epoch 90/100
176/176 - 9s - loss: 0.0421 - accuracy: 0.9607 - val_loss: 0.5561 - val_accuracy: 0.7246 - lr: 0.0010 - 9s/epoch - 54ms/step
Epoch 91/100
176/176 - 9s - loss: 0.0417 - accuracy: 0.9616 - val_loss: 0.5745 - val_accuracy: 0.7199 - lr: 0.0010 - 9s/epoch - 54ms/step
Epoch 92/100
176/176 - 9s - loss: 0.0410 - accuracy: 0.9623 - val_loss: 0.5753 - val_accuracy: 0.7180 - lr: 0.0010 - 9s/epoch - 54ms/step
Epoch 93/100
176/176 - 10s - loss: 0.0418 - accuracy: 0.9611 - val_loss: 0.5589 - val_accuracy: 0.7261 - lr: 0.0010 - 10s/epoch - 54ms/step
Epoch 94/100
176/176 - 9s - loss: 0.0408 - accuracy: 0.9618 - val_loss: 0.5741 - val_accuracy: 0.7168 - lr: 0.0010 - 9s/epoch - 54ms/step
Epoch 95/100
176/176 - 9s - loss: 0.0395 - accuracy: 0.9633 - val_loss: 0.5685 - val_accuracy: 0.7226 - lr: 0.0010 - 9s/epoch - 54ms/step
Epoch 96/100
176/176 - 9s - loss: 0.0419 - accuracy: 0.9612 - val_loss: 0.5859 - val_accuracy: 0.7222 - lr: 0.0010 - 9s/epoch - 54ms/step
Epoch 97/100
176/176 - 9s - loss: 0.0427 - accuracy: 0.9602 - val_loss: 0.5549 - val_accuracy: 0.7277 - lr: 0.0010 - 9s/epoch - 54ms/step
Epoch 98/100
176/176 - 9s - loss: 0.0411 - accuracy: 0.9619 - val_loss: 0.5595 - val_accuracy: 0.7255 - lr: 0.0010 - 9s/epoch - 54ms/step
Epoch 99/100
176/176 - 10s - loss: 0.0402 - accuracy: 0.9625 - val_loss: 0.5364 - val_accuracy: 0.7359 - lr: 0.0010 - 10s/epoch - 54ms/step
Epoch 100/100
176/176 - 9s - loss: 0.0406 - accuracy: 0.9620 - val_loss: 0.5623 - val_accuracy: 0.7258 - lr: 0.0010 - 9s/epoch - 53ms/step
Epoch 1/100
36/36 - 12s - loss: 0.0380 - accuracy: 0.9657 - val_loss: 0.5899 - val_accuracy: 0.7144 - lr: 0.0010 - 12s/epoch - 344ms/step
Epoch 2/100
36/36 - 10s - loss: 0.0361 - accuracy: 0.9677 - val_loss: 0.5809 - val_accuracy: 0.7197 - lr: 0.0010 - 10s/epoch - 272ms/step
Epoch 3/100
36/36 - 10s - loss: 0.0337 - accuracy: 0.9697 - val_loss: 0.5669 - val_accuracy: 0.7243 - lr: 0.0010 - 10s/epoch - 272ms/step
Epoch 4/100
