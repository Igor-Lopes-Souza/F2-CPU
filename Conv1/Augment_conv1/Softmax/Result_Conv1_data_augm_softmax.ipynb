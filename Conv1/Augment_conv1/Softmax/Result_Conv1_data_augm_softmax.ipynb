Epoch 1/25
4378/4378 - 94s - loss: 1.6098 - accuracy: 0.2000 - val_loss: 1.6256 - val_accuracy: 0.0661 - lr: 0.0010 - 94s/epoch - 22ms/step
Epoch 2/25
4378/4378 - 83s - loss: 1.6097 - accuracy: 0.1981 - val_loss: 1.6376 - val_accuracy: 0.0074 - lr: 0.0010 - 83s/epoch - 19ms/step
Epoch 3/25
4378/4378 - 87s - loss: 1.6097 - accuracy: 0.1996 - val_loss: 1.6017 - val_accuracy: 0.0661 - lr: 0.0010 - 87s/epoch - 20ms/step
Epoch 4/25
4378/4378 - 74s - loss: 1.6097 - accuracy: 0.1988 - val_loss: 1.6233 - val_accuracy: 0.0074 - lr: 0.0010 - 74s/epoch - 17ms/step
Epoch 5/25
4378/4378 - 74s - loss: 1.6097 - accuracy: 0.2004 - val_loss: 1.6302 - val_accuracy: 0.0254 - lr: 0.0010 - 74s/epoch - 17ms/step
Epoch 6/25
4378/4378 - 74s - loss: 1.6096 - accuracy: 0.1995 - val_loss: 1.6054 - val_accuracy: 0.0661 - lr: 0.0010 - 74s/epoch - 17ms/step
Epoch 7/25
4378/4378 - 75s - loss: 1.6097 - accuracy: 0.2006 - val_loss: 1.6007 - val_accuracy: 0.8276 - lr: 0.0010 - 75s/epoch - 17ms/step
Epoch 8/25
4378/4378 - 74s - loss: 1.6096 - accuracy: 0.1993 - val_loss: 1.6034 - val_accuracy: 0.0254 - lr: 0.0010 - 74s/epoch - 17ms/step
Epoch 9/25
4378/4378 - 74s - loss: 1.6097 - accuracy: 0.1969 - val_loss: 1.6008 - val_accuracy: 0.8276 - lr: 0.0010 - 74s/epoch - 17ms/step
Epoch 10/25
4378/4378 - 75s - loss: 1.6096 - accuracy: 0.1999 - val_loss: 1.6094 - val_accuracy: 0.0735 - lr: 0.0010 - 75s/epoch - 17ms/step
Epoch 11/25
4378/4378 - 74s - loss: 1.6096 - accuracy: 0.1989 - val_loss: 1.6063 - val_accuracy: 0.0735 - lr: 0.0010 - 74s/epoch - 17ms/step
Epoch 12/25
4378/4378 - 74s - loss: 1.6096 - accuracy: 0.1980 - val_loss: 1.5957 - val_accuracy: 0.0735 - lr: 0.0010 - 74s/epoch - 17ms/step
Epoch 13/25
4378/4378 - 74s - loss: 1.6096 - accuracy: 0.1985 - val_loss: 1.6064 - val_accuracy: 0.0661 - lr: 0.0010 - 74s/epoch - 17ms/step
Epoch 14/25
4378/4378 - 75s - loss: 1.6096 - accuracy: 0.1982 - val_loss: 1.5993 - val_accuracy: 0.8276 - lr: 0.0010 - 75s/epoch - 17ms/step
Epoch 15/25
4378/4378 - 74s - loss: 1.6095 - accuracy: 0.1999 - val_loss: 1.6092 - val_accuracy: 0.0254 - lr: 0.0010 - 74s/epoch - 17ms/step
Epoch 16/25
4378/4378 - 74s - loss: 1.6095 - accuracy: 0.1989 - val_loss: 1.6197 - val_accuracy: 0.0254 - lr: 0.0010 - 74s/epoch - 17ms/step
Epoch 17/25
4378/4378 - 74s - loss: 1.6095 - accuracy: 0.2019 - val_loss: 1.6146 - val_accuracy: 0.0074 - lr: 0.0010 - 74s/epoch - 17ms/step
Epoch 18/25
4378/4378 - 74s - loss: 1.6095 - accuracy: 0.1983 - val_loss: 1.6139 - val_accuracy: 0.0074 - lr: 0.0010 - 74s/epoch - 17ms/step
Epoch 19/25
4378/4378 - 74s - loss: 1.6095 - accuracy: 0.1996 - val_loss: 1.6227 - val_accuracy: 0.0254 - lr: 0.0010 - 74s/epoch - 17ms/step
Epoch 20/25
4378/4378 - 74s - loss: 1.6095 - accuracy: 0.2005 - val_loss: 1.6207 - val_accuracy: 0.0074 - lr: 0.0010 - 74s/epoch - 17ms/step
Epoch 21/25
4378/4378 - 74s - loss: 1.6095 - accuracy: 0.1958 - val_loss: 1.6072 - val_accuracy: 0.0074 - lr: 0.0010 - 74s/epoch - 17ms/step
Epoch 22/25
4378/4378 - 74s - loss: 1.6095 - accuracy: 0.1996 - val_loss: 1.6111 - val_accuracy: 0.0661 - lr: 0.0010 - 74s/epoch - 17ms/step
Epoch 23/25
4378/4378 - 74s - loss: 1.6095 - accuracy: 0.1983 - val_loss: 1.6053 - val_accuracy: 0.0074 - lr: 0.0010 - 74s/epoch - 17ms/step
Epoch 24/25
4378/4378 - 84s - loss: 1.6095 - accuracy: 0.1988 - val_loss: 1.6118 - val_accuracy: 0.0074 - lr: 0.0010 - 84s/epoch - 19ms/step
Epoch 25/25
4378/4378 - 86s - loss: 1.6095 - accuracy: 0.2006 - val_loss: 1.6118 - val_accuracy: 0.0074 - lr: 0.0010 - 86s/epoch - 20ms/step
Epoch 1/25
876/876 - 26s - loss: 1.6095 - accuracy: 0.1995 - val_loss: 1.6086 - val_accuracy: 0.0074 - lr: 0.0010 - 26s/epoch - 30ms/step
Epoch 2/25
876/876 - 21s - loss: 1.6095 - accuracy: 0.1972 - val_loss: 1.6060 - val_accuracy: 0.8276 - lr: 0.0010 - 21s/epoch - 24ms/step
Epoch 3/25
876/876 - 21s - loss: 1.6095 - accuracy: 0.1988 - val_loss: 1.6141 - val_accuracy: 0.0735 - lr: 0.0010 - 21s/epoch - 24ms/step
Epoch 4/25
876/876 - 21s - loss: 1.6095 - accuracy: 0.1998 - val_loss: 1.6087 - val_accuracy: 0.0254 - lr: 0.0010 - 21s/epoch - 24ms/step
Epoch 5/25
876/876 - 21s - loss: 1.6095 - accuracy: 0.2000 - val_loss: 1.6047 - val_accuracy: 0.8276 - lr: 0.0010 - 21s/epoch - 24ms/step
Epoch 6/25
876/876 - 21s - loss: 1.6095 - accuracy: 0.1981 - val_loss: 1.6079 - val_accuracy: 0.0074 - lr: 0.0010 - 21s/epoch - 24ms/step
Epoch 7/25
876/876 - 20s - loss: 1.6095 - accuracy: 0.1971 - val_loss: 1.6080 - val_accuracy: 0.0254 - lr: 0.0010 - 20s/epoch - 23ms/step
Epoch 8/25
876/876 - 20s - loss: 1.6095 - accuracy: 0.1983 - val_loss: 1.6101 - val_accuracy: 0.0661 - lr: 0.0010 - 20s/epoch - 23ms/step
Epoch 9/25
876/876 - 20s - loss: 1.6095 - accuracy: 0.1973 - val_loss: 1.6096 - val_accuracy: 0.0735 - lr: 0.0010 - 20s/epoch - 23ms/step
Epoch 10/25
876/876 - 20s - loss: 1.6095 - accuracy: 0.1987 - val_loss: 1.6073 - val_accuracy: 0.0735 - lr: 0.0010 - 20s/epoch - 23ms/step
Epoch 11/25
876/876 - 21s - loss: 1.6095 - accuracy: 0.1970 - val_loss: 1.6077 - val_accuracy: 0.8276 - lr: 0.0010 - 21s/epoch - 24ms/step
Epoch 12/25
876/876 - 22s - loss: 1.6095 - accuracy: 0.1971 - val_loss: 1.6093 - val_accuracy: 0.0074 - lr: 0.0010 - 22s/epoch - 25ms/step
Epoch 13/25
876/876 - 22s - loss: 1.6095 - accuracy: 0.1981 - val_loss: 1.6101 - val_accuracy: 0.0735 - lr: 0.0010 - 22s/epoch - 25ms/step
Epoch 14/25
876/876 - 23s - loss: 1.6095 - accuracy: 0.2007 - val_loss: 1.6026 - val_accuracy: 0.8276 - lr: 0.0010 - 23s/epoch - 26ms/step
Epoch 15/25
876/876 - 23s - loss: 1.6095 - accuracy: 0.1966 - val_loss: 1.6097 - val_accuracy: 0.0254 - lr: 0.0010 - 23s/epoch - 26ms/step
Epoch 16/25
876/876 - 23s - loss: 1.6095 - accuracy: 0.2000 - val_loss: 1.6063 - val_accuracy: 0.0735 - lr: 0.0010 - 23s/epoch - 26ms/step
Epoch 17/25
876/876 - 27s - loss: 1.6095 - accuracy: 0.1981 - val_loss: 1.6088 - val_accuracy: 0.0735 - lr: 0.0010 - 27s/epoch - 31ms/step
Epoch 18/25
876/876 - 22s - loss: 1.6095 - accuracy: 0.2008 - val_loss: 1.6146 - val_accuracy: 0.0074 - lr: 0.0010 - 22s/epoch - 25ms/step
Epoch 19/25
876/876 - 22s - loss: 1.6095 - accuracy: 0.1978 - val_loss: 1.6080 - val_accuracy: 0.0661 - lr: 0.0010 - 22s/epoch - 25ms/step
Epoch 20/25
876/876 - 23s - loss: 1.6095 - accuracy: 0.1988 - val_loss: 1.6111 - val_accuracy: 0.0254 - lr: 0.0010 - 23s/epoch - 26ms/step
Epoch 21/25
876/876 - 22s - loss: 1.6095 - accuracy: 0.1990 - val_loss: 1.6114 - val_accuracy: 0.0074 - lr: 0.0010 - 22s/epoch - 25ms/step
Epoch 22/25
876/876 - 22s - loss: 1.6095 - accuracy: 0.1993 - val_loss: 1.6085 - val_accuracy: 0.8276 - lr: 0.0010 - 22s/epoch - 25ms/step
Epoch 23/25
876/876 - 22s - loss: 1.6095 - accuracy: 0.1976 - val_loss: 1.6081 - val_accuracy: 0.0074 - lr: 0.0010 - 22s/epoch - 25ms/step
Epoch 24/25
876/876 - 23s - loss: 1.6095 - accuracy: 0.1971 - val_loss: 1.6084 - val_accuracy: 0.0074 - lr: 0.0010 - 23s/epoch - 26ms/step
Epoch 25/25
876/876 - 22s - loss: 1.6095 - accuracy: 0.1988 - val_loss: 1.6079 - val_accuracy: 0.0735 - lr: 0.0010 - 22s/epoch - 25ms/step
Epoch 1/25
176/176 - 16s - loss: 1.6094 - accuracy: 0.1987 - val_loss: 1.6092 - val_accuracy: 0.0074 - lr: 0.0010 - 16s/epoch - 93ms/step
Epoch 2/25
176/176 - 10s - loss: 1.6094 - accuracy: 0.1974 - val_loss: 1.6090 - val_accuracy: 0.0074 - lr: 0.0010 - 10s/epoch - 56ms/step
Epoch 3/25
176/176 - 10s - loss: 1.6094 - accuracy: 0.1965 - val_loss: 1.6100 - val_accuracy: 0.0074 - lr: 0.0010 - 10s/epoch - 57ms/step
Epoch 4/25
176/176 - 10s - loss: 1.6094 - accuracy: 0.1990 - val_loss: 1.6091 - val_accuracy: 0.0661 - lr: 0.0010 - 10s/epoch - 55ms/step
Epoch 5/25
176/176 - 10s - loss: 1.6094 - accuracy: 0.1988 - val_loss: 1.6090 - val_accuracy: 0.0254 - lr: 0.0010 - 10s/epoch - 58ms/step
Epoch 6/25
176/176 - 11s - loss: 1.6094 - accuracy: 0.1985 - val_loss: 1.6098 - val_accuracy: 0.0735 - lr: 0.0010 - 11s/epoch - 61ms/step
Epoch 7/25
176/176 - 11s - loss: 1.6094 - accuracy: 0.1991 - val_loss: 1.6101 - val_accuracy: 0.0254 - lr: 0.0010 - 11s/epoch - 63ms/step
Epoch 8/25
176/176 - 11s - loss: 1.6094 - accuracy: 0.1989 - val_loss: 1.6093 - val_accuracy: 0.0254 - lr: 0.0010 - 11s/epoch - 65ms/step
Epoch 9/25
176/176 - 11s - loss: 1.6094 - accuracy: 0.1987 - val_loss: 1.6101 - val_accuracy: 0.0254 - lr: 0.0010 - 11s/epoch - 61ms/step
Epoch 10/25
176/176 - 10s - loss: 1.6095 - accuracy: 0.1978 - val_loss: 1.6105 - val_accuracy: 0.0254 - lr: 0.0010 - 10s/epoch - 57ms/step
Epoch 11/25
176/176 - 11s - loss: 1.6095 - accuracy: 0.1983 - val_loss: 1.6102 - val_accuracy: 0.0074 - lr: 0.0010 - 11s/epoch - 60ms/step
Epoch 12/25
176/176 - 12s - loss: 1.6095 - accuracy: 0.1983 - val_loss: 1.6092 - val_accuracy: 0.0254 - lr: 0.0010 - 12s/epoch - 68ms/step
Epoch 13/25
176/176 - 11s - loss: 1.6094 - accuracy: 0.1970 - val_loss: 1.6103 - val_accuracy: 0.0254 - lr: 0.0010 - 11s/epoch - 65ms/step
Epoch 14/25
176/176 - 10s - loss: 1.6095 - accuracy: 0.1971 - val_loss: 1.6107 - val_accuracy: 0.0074 - lr: 0.0010 - 10s/epoch - 59ms/step
Epoch 15/25
176/176 - 11s - loss: 1.6095 - accuracy: 0.1984 - val_loss: 1.6098 - val_accuracy: 0.0254 - lr: 0.0010 - 11s/epoch - 62ms/step
Epoch 16/25
176/176 - 10s - loss: 1.6095 - accuracy: 0.1984 - val_loss: 1.6085 - val_accuracy: 0.8276 - lr: 0.0010 - 10s/epoch - 58ms/step
Epoch 17/25
176/176 - 11s - loss: 1.6095 - accuracy: 0.1988 - val_loss: 1.6072 - val_accuracy: 0.8276 - lr: 0.0010 - 11s/epoch - 64ms/step
Epoch 18/25
176/176 - 12s - loss: 1.6095 - accuracy: 0.1975 - val_loss: 1.6086 - val_accuracy: 0.8276 - lr: 0.0010 - 12s/epoch - 71ms/step
Epoch 19/25
176/176 - 12s - loss: 1.6095 - accuracy: 0.1995 - val_loss: 1.6088 - val_accuracy: 0.0074 - lr: 0.0010 - 12s/epoch - 71ms/step
Epoch 20/25
176/176 - 12s - loss: 1.6095 - accuracy: 0.1968 - val_loss: 1.6088 - val_accuracy: 0.0074 - lr: 0.0010 - 12s/epoch - 71ms/step
Epoch 21/25
176/176 - 12s - loss: 1.6095 - accuracy: 0.1968 - val_loss: 1.6090 - val_accuracy: 0.0735 - lr: 0.0010 - 12s/epoch - 71ms/step
Epoch 22/25
176/176 - 13s - loss: 1.6094 - accuracy: 0.1975 - val_loss: 1.6092 - val_accuracy: 0.0735 - lr: 0.0010 - 13s/epoch - 76ms/step
Epoch 23/25
176/176 - 12s - loss: 1.6095 - accuracy: 0.1980 - val_loss: 1.6103 - val_accuracy: 0.0074 - lr: 0.0010 - 12s/epoch - 71ms/step
Epoch 24/25
176/176 - 12s - loss: 1.6094 - accuracy: 0.1985 - val_loss: 1.6094 - val_accuracy: 0.0735 - lr: 0.0010 - 12s/epoch - 71ms/step
Epoch 25/25
176/176 - 12s - loss: 1.6094 - accuracy: 0.1980 - val_loss: 1.6084 - val_accuracy: 0.8276 - lr: 0.0010 - 12s/epoch - 70ms/step
Epoch 1/25
36/36 - 15s - loss: 1.6094 - accuracy: 0.1981 - val_loss: 1.6091 - val_accuracy: 0.0735 - lr: 0.0010 - 15s/epoch - 416ms/step
Epoch 2/25
36/36 - 11s - loss: 1.6094 - accuracy: 0.1979 - val_loss: 1.6092 - val_accuracy: 0.0735 - lr: 0.0010 - 11s/epoch - 318ms/step
Epoch 3/25
36/36 - 11s - loss: 1.6094 - accuracy: 0.1970 - val_loss: 1.6094 - val_accuracy: 0.0661 - lr: 0.0010 - 11s/epoch - 317ms/step
Epoch 4/25
36/36 - 11s - loss: 1.6094 - accuracy: 0.1989 - val_loss: 1.6093 - val_accuracy: 0.0735 - lr: 0.0010 - 11s/epoch - 318ms/step
Epoch 5/25
36/36 - 10s - loss: 1.6094 - accuracy: 0.2000 - val_loss: 1.6100 - val_accuracy: 0.0735 - lr: 0.0010 - 10s/epoch - 269ms/step
Epoch 6/25
36/36 - 9s - loss: 1.6094 - accuracy: 0.1994 - val_loss: 1.6097 - val_accuracy: 0.0254 - lr: 0.0010 - 9s/epoch - 236ms/step
Epoch 7/25
36/36 - 9s - loss: 1.6094 - accuracy: 0.2000 - val_loss: 1.6099 - val_accuracy: 0.0254 - lr: 0.0010 - 9s/epoch - 252ms/step
Epoch 8/25
36/36 - 9s - loss: 1.6094 - accuracy: 0.2000 - val_loss: 1.6090 - val_accuracy: 0.0254 - lr: 0.0010 - 9s/epoch - 246ms/step
Epoch 9/25
36/36 - 9s - loss: 1.6094 - accuracy: 0.2000 - val_loss: 1.6086 - val_accuracy: 0.0254 - lr: 0.0010 - 9s/epoch - 259ms/step
Epoch 10/25
36/36 - 9s - loss: 1.6094 - accuracy: 0.2000 - val_loss: 1.6081 - val_accuracy: 0.0254 - lr: 0.0010 - 9s/epoch - 254ms/step
Epoch 11/25
36/36 - 10s - loss: 1.6094 - accuracy: 0.2000 - val_loss: 1.6082 - val_accuracy: 0.0254 - lr: 0.0010 - 10s/epoch - 265ms/step
Epoch 12/25
36/36 - 9s - loss: 1.6094 - accuracy: 0.2000 - val_loss: 1.6080 - val_accuracy: 0.0254 - lr: 0.0010 - 9s/epoch - 250ms/step
Epoch 13/25
36/36 - 9s - loss: 1.6094 - accuracy: 0.2000 - val_loss: 1.6084 - val_accuracy: 0.0254 - lr: 0.0010 - 9s/epoch - 250ms/step
Epoch 14/25
36/36 - 10s - loss: 1.6094 - accuracy: 0.2000 - val_loss: 1.6084 - val_accuracy: 0.0254 - lr: 0.0010 - 10s/epoch - 282ms/step
Epoch 15/25
36/36 - 10s - loss: 1.6094 - accuracy: 0.2000 - val_loss: 1.6080 - val_accuracy: 0.0254 - lr: 0.0010 - 10s/epoch - 277ms/step
Epoch 16/25
36/36 - 10s - loss: 1.6094 - accuracy: 0.2000 - val_loss: 1.6084 - val_accuracy: 0.0254 - lr: 0.0010 - 10s/epoch - 275ms/step
Epoch 17/25
36/36 - 9s - loss: 1.6094 - accuracy: 0.1999 - val_loss: 1.6079 - val_accuracy: 0.0254 - lr: 0.0010 - 9s/epoch - 238ms/step
Epoch 18/25
36/36 - 9s - loss: 1.6094 - accuracy: 0.2000 - val_loss: 1.6086 - val_accuracy: 0.0254 - lr: 0.0010 - 9s/epoch - 242ms/step
Epoch 19/25
36/36 - 9s - loss: 1.6094 - accuracy: 0.2000 - val_loss: 1.6095 - val_accuracy: 0.0254 - lr: 0.0010 - 9s/epoch - 237ms/step
Epoch 20/25
36/36 - 9s - loss: 1.6094 - accuracy: 0.1991 - val_loss: 1.6101 - val_accuracy: 0.0254 - lr: 0.0010 - 9s/epoch - 238ms/step
Epoch 21/25
36/36 - 9s - loss: 1.6094 - accuracy: 0.1998 - val_loss: 1.6103 - val_accuracy: 0.0661 - lr: 0.0010 - 9s/epoch - 242ms/step
Epoch 22/25
36/36 - 9s - loss: 1.6094 - accuracy: 0.2000 - val_loss: 1.6094 - val_accuracy: 0.0661 - lr: 0.0010 - 9s/epoch - 237ms/step
Epoch 23/25
36/36 - 9s - loss: 1.6094 - accuracy: 0.2000 - val_loss: 1.6085 - val_accuracy: 0.0661 - lr: 0.0010 - 9s/epoch - 244ms/step
Epoch 24/25
36/36 - 9s - loss: 1.6094 - accuracy: 0.2000 - val_loss: 1.6085 - val_accuracy: 0.0661 - lr: 0.0010 - 9s/epoch - 237ms/step
Epoch 25/25
36/36 - 9s - loss: 1.6094 - accuracy: 0.1983 - val_loss: 1.6086 - val_accuracy: 0.0254 - lr: 0.0010 - 9s/epoch - 238ms/step
Epoch 1/50
4378/4378 - 80s - loss: 1.6095 - accuracy: 0.1997 - val_loss: 1.6094 - val_accuracy: 0.0735 - lr: 0.0010 - 80s/epoch - 18ms/step
Epoch 2/50
4378/4378 - 77s - loss: 1.6095 - accuracy: 0.1985 - val_loss: 1.6156 - val_accuracy: 0.0254 - lr: 0.0010 - 77s/epoch - 18ms/step
Epoch 3/50
4378/4378 - 77s - loss: 1.6095 - accuracy: 0.1971 - val_loss: 1.6066 - val_accuracy: 0.0074 - lr: 0.0010 - 77s/epoch - 18ms/step
Epoch 4/50
4378/4378 - 81s - loss: 1.6095 - accuracy: 0.1981 - val_loss: 1.6151 - val_accuracy: 0.0735 - lr: 0.0010 - 81s/epoch - 19ms/step
Epoch 5/50
4378/4378 - 80s - loss: 1.6095 - accuracy: 0.1972 - val_loss: 1.6073 - val_accuracy: 0.0254 - lr: 0.0010 - 80s/epoch - 18ms/step
Epoch 6/50
4378/4378 - 86s - loss: 1.6095 - accuracy: 0.1984 - val_loss: 1.6177 - val_accuracy: 0.0254 - lr: 0.0010 - 86s/epoch - 20ms/step
Epoch 7/50
4378/4378 - 88s - loss: 1.6095 - accuracy: 0.1981 - val_loss: 1.6067 - val_accuracy: 0.0735 - lr: 0.0010 - 88s/epoch - 20ms/step
Epoch 8/50
4378/4378 - 86s - loss: 1.6095 - accuracy: 0.1996 - val_loss: 1.6151 - val_accuracy: 0.0254 - lr: 0.0010 - 86s/epoch - 20ms/step
Epoch 9/50
4378/4378 - 86s - loss: 1.6095 - accuracy: 0.1970 - val_loss: 1.6111 - val_accuracy: 0.0254 - lr: 0.0010 - 86s/epoch - 20ms/step
Epoch 10/50
4378/4378 - 84s - loss: 1.6095 - accuracy: 0.1980 - val_loss: 1.6037 - val_accuracy: 0.8276 - lr: 0.0010 - 84s/epoch - 19ms/step
Epoch 11/50
4378/4378 - 81s - loss: 1.6095 - accuracy: 0.2009 - val_loss: 1.6105 - val_accuracy: 0.0735 - lr: 0.0010 - 81s/epoch - 18ms/step
Epoch 12/50
4378/4378 - 86s - loss: 1.6095 - accuracy: 0.1953 - val_loss: 1.6138 - val_accuracy: 0.0074 - lr: 0.0010 - 86s/epoch - 20ms/step
Epoch 13/50
4378/4378 - 85s - loss: 1.6095 - accuracy: 0.1997 - val_loss: 1.6192 - val_accuracy: 0.0735 - lr: 0.0010 - 85s/epoch - 19ms/step
Epoch 14/50
4378/4378 - 87s - loss: 1.6095 - accuracy: 0.1961 - val_loss: 1.6052 - val_accuracy: 0.8276 - lr: 0.0010 - 87s/epoch - 20ms/step
Epoch 15/50
4378/4378 - 83s - loss: 1.6095 - accuracy: 0.1998 - val_loss: 1.5977 - val_accuracy: 0.8276 - lr: 0.0010 - 83s/epoch - 19ms/step
Epoch 16/50
4378/4378 - 75s - loss: 1.6095 - accuracy: 0.2006 - val_loss: 1.6145 - val_accuracy: 0.0074 - lr: 0.0010 - 75s/epoch - 17ms/step
Epoch 17/50
4378/4378 - 87s - loss: 1.6095 - accuracy: 0.1981 - val_loss: 1.6107 - val_accuracy: 0.0661 - lr: 0.0010 - 87s/epoch - 20ms/step
Epoch 18/50
4378/4378 - 78s - loss: 1.6095 - accuracy: 0.1989 - val_loss: 1.6084 - val_accuracy: 0.0254 - lr: 0.0010 - 78s/epoch - 18ms/step
Epoch 19/50
4378/4378 - 85s - loss: 1.6095 - accuracy: 0.1961 - val_loss: 1.6093 - val_accuracy: 0.0661 - lr: 0.0010 - 85s/epoch - 19ms/step
Epoch 20/50
4378/4378 - 87s - loss: 1.6095 - accuracy: 0.1985 - val_loss: 1.6080 - val_accuracy: 0.0735 - lr: 0.0010 - 87s/epoch - 20ms/step
Epoch 21/50
4378/4378 - 86s - loss: 1.6095 - accuracy: 0.1975 - val_loss: 1.6165 - val_accuracy: 0.0661 - lr: 0.0010 - 86s/epoch - 20ms/step
Epoch 22/50
4378/4378 - 85s - loss: 1.6095 - accuracy: 0.2008 - val_loss: 1.6209 - val_accuracy: 0.0661 - lr: 0.0010 - 85s/epoch - 19ms/step
Epoch 23/50
4378/4378 - 86s - loss: 1.6095 - accuracy: 0.1987 - val_loss: 1.5998 - val_accuracy: 0.8276 - lr: 0.0010 - 86s/epoch - 20ms/step
Epoch 24/50
4378/4378 - 84s - loss: 1.6095 - accuracy: 0.1991 - val_loss: 1.6199 - val_accuracy: 0.0074 - lr: 0.0010 - 84s/epoch - 19ms/step
Epoch 25/50
4378/4378 - 89s - loss: 1.6095 - accuracy: 0.1980 - val_loss: 1.6088 - val_accuracy: 0.0661 - lr: 0.0010 - 89s/epoch - 20ms/step
Epoch 26/50
4378/4378 - 84s - loss: 1.6095 - accuracy: 0.1981 - val_loss: 1.6165 - val_accuracy: 0.0074 - lr: 0.0010 - 84s/epoch - 19ms/step
Epoch 27/50
4378/4378 - 86s - loss: 1.6095 - accuracy: 0.1985 - val_loss: 1.6110 - val_accuracy: 0.0074 - lr: 0.0010 - 86s/epoch - 20ms/step
Epoch 28/50
4378/4378 - 85s - loss: 1.6095 - accuracy: 0.1985 - val_loss: 1.6133 - val_accuracy: 0.0661 - lr: 0.0010 - 85s/epoch - 19ms/step
Epoch 29/50
4378/4378 - 85s - loss: 1.6095 - accuracy: 0.1969 - val_loss: 1.6134 - val_accuracy: 0.0074 - lr: 0.0010 - 85s/epoch - 20ms/step
Epoch 30/50
4378/4378 - 86s - loss: 1.6095 - accuracy: 0.1976 - val_loss: 1.6088 - val_accuracy: 0.0254 - lr: 0.0010 - 86s/epoch - 20ms/step
Epoch 31/50
4378/4378 - 84s - loss: 1.6095 - accuracy: 0.2007 - val_loss: 1.6091 - val_accuracy: 0.0254 - lr: 0.0010 - 84s/epoch - 19ms/step
Epoch 32/50
4378/4378 - 86s - loss: 1.6095 - accuracy: 0.1999 - val_loss: 1.6031 - val_accuracy: 0.8276 - lr: 0.0010 - 86s/epoch - 20ms/step
Epoch 33/50
4378/4378 - 79s - loss: 1.6095 - accuracy: 0.2011 - val_loss: 1.6069 - val_accuracy: 0.0661 - lr: 0.0010 - 79s/epoch - 18ms/step
Epoch 34/50
4378/4378 - 74s - loss: 1.6095 - accuracy: 0.1984 - val_loss: 1.6088 - val_accuracy: 0.0074 - lr: 0.0010 - 74s/epoch - 17ms/step
Epoch 35/50
4378/4378 - 74s - loss: 1.6095 - accuracy: 0.1973 - val_loss: 1.6116 - val_accuracy: 0.0074 - lr: 0.0010 - 74s/epoch - 17ms/step
Epoch 36/50
4378/4378 - 73s - loss: 1.6095 - accuracy: 0.1971 - val_loss: 1.6041 - val_accuracy: 0.8276 - lr: 0.0010 - 73s/epoch - 17ms/step
Epoch 37/50
4378/4378 - 74s - loss: 1.6095 - accuracy: 0.2006 - val_loss: 1.6194 - val_accuracy: 0.0254 - lr: 0.0010 - 74s/epoch - 17ms/step
Epoch 38/50
4378/4378 - 77s - loss: 1.6095 - accuracy: 0.1997 - val_loss: 1.6241 - val_accuracy: 0.0254 - lr: 0.0010 - 77s/epoch - 18ms/step
Epoch 39/50
4378/4378 - 72s - loss: 1.6095 - accuracy: 0.1974 - val_loss: 1.6176 - val_accuracy: 0.0661 - lr: 0.0010 - 72s/epoch - 16ms/step
Epoch 40/50
4378/4378 - 72s - loss: 1.6095 - accuracy: 0.1965 - val_loss: 1.6104 - val_accuracy: 0.0074 - lr: 0.0010 - 72s/epoch - 16ms/step
Epoch 41/50
4378/4378 - 71s - loss: 1.6095 - accuracy: 0.1998 - val_loss: 1.6053 - val_accuracy: 0.0254 - lr: 0.0010 - 71s/epoch - 16ms/step
Epoch 42/50
4378/4378 - 72s - loss: 1.6095 - accuracy: 0.1969 - val_loss: 1.6074 - val_accuracy: 0.8276 - lr: 0.0010 - 72s/epoch - 16ms/step
Epoch 43/50
4378/4378 - 72s - loss: 1.6095 - accuracy: 0.1976 - val_loss: 1.6069 - val_accuracy: 0.8276 - lr: 0.0010 - 72s/epoch - 16ms/step
Epoch 44/50
4378/4378 - 72s - loss: 1.6095 - accuracy: 0.1995 - val_loss: 1.5951 - val_accuracy: 0.8276 - lr: 0.0010 - 72s/epoch - 16ms/step
Epoch 45/50
4378/4378 - 73s - loss: 1.6095 - accuracy: 0.1990 - val_loss: 1.6131 - val_accuracy: 0.0661 - lr: 0.0010 - 73s/epoch - 17ms/step
Epoch 46/50
4378/4378 - 78s - loss: 1.6095 - accuracy: 0.2020 - val_loss: 1.5943 - val_accuracy: 0.8276 - lr: 0.0010 - 78s/epoch - 18ms/step
Epoch 47/50
4378/4378 - 101s - loss: 1.6095 - accuracy: 0.1993 - val_loss: 1.6120 - val_accuracy: 0.0735 - lr: 0.0010 - 101s/epoch - 23ms/step
Epoch 48/50
4378/4378 - 92s - loss: 1.6095 - accuracy: 0.1985 - val_loss: 1.6124 - val_accuracy: 0.0735 - lr: 0.0010 - 92s/epoch - 21ms/step
Epoch 49/50
4378/4378 - 101s - loss: 1.6095 - accuracy: 0.1981 - val_loss: 1.6199 - val_accuracy: 0.0661 - lr: 0.0010 - 101s/epoch - 23ms/step
Epoch 50/50
4378/4378 - 99s - loss: 1.6095 - accuracy: 0.1965 - val_loss: 1.6083 - val_accuracy: 0.0735 - lr: 0.0010 - 99s/epoch - 23ms/step
Epoch 1/50
876/876 - 34s - loss: 1.6095 - accuracy: 0.1974 - val_loss: 1.6123 - val_accuracy: 0.0661 - lr: 0.0010 - 34s/epoch - 39ms/step
Epoch 2/50
876/876 - 32s - loss: 1.6095 - accuracy: 0.1984 - val_loss: 1.6106 - val_accuracy: 0.0735 - lr: 0.0010 - 32s/epoch - 36ms/step
Epoch 3/50
876/876 - 33s - loss: 1.6095 - accuracy: 0.1968 - val_loss: 1.6108 - val_accuracy: 0.0735 - lr: 0.0010 - 33s/epoch - 37ms/step
Epoch 4/50
876/876 - 32s - loss: 1.6095 - accuracy: 0.1987 - val_loss: 1.6125 - val_accuracy: 0.0074 - lr: 0.0010 - 32s/epoch - 36ms/step
Epoch 5/50
876/876 - 31s - loss: 1.6095 - accuracy: 0.1981 - val_loss: 1.6123 - val_accuracy: 0.0074 - lr: 0.0010 - 31s/epoch - 35ms/step
Epoch 6/50
876/876 - 34s - loss: 1.6095 - accuracy: 0.1976 - val_loss: 1.6078 - val_accuracy: 0.0074 - lr: 0.0010 - 34s/epoch - 39ms/step
Epoch 7/50
876/876 - 34s - loss: 1.6095 - accuracy: 0.1981 - val_loss: 1.6103 - val_accuracy: 0.0735 - lr: 0.0010 - 34s/epoch - 39ms/step
Epoch 8/50
876/876 - 34s - loss: 1.6095 - accuracy: 0.1989 - val_loss: 1.6057 - val_accuracy: 0.0661 - lr: 0.0010 - 34s/epoch - 39ms/step
Epoch 9/50
876/876 - 38s - loss: 1.6095 - accuracy: 0.2001 - val_loss: 1.6158 - val_accuracy: 0.0074 - lr: 0.0010 - 38s/epoch - 44ms/step
Epoch 10/50
876/876 - 36s - loss: 1.6095 - accuracy: 0.1998 - val_loss: 1.6142 - val_accuracy: 0.0254 - lr: 0.0010 - 36s/epoch - 41ms/step
Epoch 11/50
876/876 - 32s - loss: 1.6095 - accuracy: 0.1998 - val_loss: 1.6131 - val_accuracy: 0.0661 - lr: 0.0010 - 32s/epoch - 37ms/step
Epoch 12/50
876/876 - 32s - loss: 1.6095 - accuracy: 0.1998 - val_loss: 1.6125 - val_accuracy: 0.0735 - lr: 0.0010 - 32s/epoch - 36ms/step
Epoch 13/50
876/876 - 33s - loss: 1.6095 - accuracy: 0.1985 - val_loss: 1.6051 - val_accuracy: 0.8276 - lr: 0.0010 - 33s/epoch - 37ms/step
Epoch 14/50
876/876 - 34s - loss: 1.6095 - accuracy: 0.1971 - val_loss: 1.6097 - val_accuracy: 0.0254 - lr: 0.0010 - 34s/epoch - 38ms/step
Epoch 15/50
876/876 - 32s - loss: 1.6095 - accuracy: 0.1982 - val_loss: 1.6113 - val_accuracy: 0.0074 - lr: 0.0010 - 32s/epoch - 37ms/step
Epoch 16/50
876/876 - 32s - loss: 1.6095 - accuracy: 0.1984 - val_loss: 1.6115 - val_accuracy: 0.0074 - lr: 0.0010 - 32s/epoch - 36ms/step
Epoch 17/50
876/876 - 33s - loss: 1.6095 - accuracy: 0.1969 - val_loss: 1.6104 - val_accuracy: 0.0735 - lr: 0.0010 - 33s/epoch - 38ms/step
Epoch 18/50
876/876 - 32s - loss: 1.6095 - accuracy: 0.1990 - val_loss: 1.6078 - val_accuracy: 0.8276 - lr: 0.0010 - 32s/epoch - 36ms/step
Epoch 19/50
876/876 - 32s - loss: 1.6095 - accuracy: 0.1987 - val_loss: 1.6117 - val_accuracy: 0.0661 - lr: 0.0010 - 32s/epoch - 37ms/step
Epoch 20/50
876/876 - 33s - loss: 1.6095 - accuracy: 0.1973 - val_loss: 1.6138 - val_accuracy: 0.0735 - lr: 0.0010 - 33s/epoch - 38ms/step
Epoch 21/50
876/876 - 34s - loss: 1.6095 - accuracy: 0.1998 - val_loss: 1.6121 - val_accuracy: 0.0254 - lr: 0.0010 - 34s/epoch - 39ms/step
Epoch 22/50
876/876 - 33s - loss: 1.6095 - accuracy: 0.2000 - val_loss: 1.6099 - val_accuracy: 0.0074 - lr: 0.0010 - 33s/epoch - 38ms/step
Epoch 23/50
876/876 - 32s - loss: 1.6095 - accuracy: 0.1983 - val_loss: 1.6107 - val_accuracy: 0.0735 - lr: 0.0010 - 32s/epoch - 37ms/step
Epoch 24/50
876/876 - 39s - loss: 1.6095 - accuracy: 0.1974 - val_loss: 1.6085 - val_accuracy: 0.8276 - lr: 0.0010 - 39s/epoch - 44ms/step
Epoch 25/50
876/876 - 35s - loss: 1.6095 - accuracy: 0.2009 - val_loss: 1.6144 - val_accuracy: 0.0254 - lr: 0.0010 - 35s/epoch - 40ms/step
Epoch 26/50
876/876 - 35s - loss: 1.6095 - accuracy: 0.1993 - val_loss: 1.6061 - val_accuracy: 0.8276 - lr: 0.0010 - 35s/epoch - 40ms/step
Epoch 27/50
876/876 - 36s - loss: 1.6095 - accuracy: 0.1979 - val_loss: 1.6108 - val_accuracy: 0.0254 - lr: 0.0010 - 36s/epoch - 41ms/step
Epoch 28/50
876/876 - 35s - loss: 1.6095 - accuracy: 0.1960 - val_loss: 1.6116 - val_accuracy: 0.0254 - lr: 0.0010 - 35s/epoch - 40ms/step
Epoch 29/50
876/876 - 33s - loss: 1.6095 - accuracy: 0.1996 - val_loss: 1.6088 - val_accuracy: 0.0735 - lr: 0.0010 - 33s/epoch - 37ms/step
Epoch 30/50
876/876 - 35s - loss: 1.6095 - accuracy: 0.2002 - val_loss: 1.6079 - val_accuracy: 0.0661 - lr: 0.0010 - 35s/epoch - 40ms/step
Epoch 31/50
876/876 - 37s - loss: 1.6095 - accuracy: 0.1958 - val_loss: 1.6081 - val_accuracy: 0.8276 - lr: 0.0010 - 37s/epoch - 42ms/step
Epoch 32/50
876/876 - 33s - loss: 1.6095 - accuracy: 0.1988 - val_loss: 1.6139 - val_accuracy: 0.0254 - lr: 0.0010 - 33s/epoch - 37ms/step
Epoch 33/50
876/876 - 36s - loss: 1.6095 - accuracy: 0.1989 - val_loss: 1.6040 - val_accuracy: 0.8276 - lr: 0.0010 - 36s/epoch - 41ms/step
Epoch 34/50
876/876 - 37s - loss: 1.6095 - accuracy: 0.1986 - val_loss: 1.6104 - val_accuracy: 0.0661 - lr: 0.0010 - 37s/epoch - 43ms/step
Epoch 35/50
876/876 - 38s - loss: 1.6095 - accuracy: 0.1969 - val_loss: 1.6085 - val_accuracy: 0.0735 - lr: 0.0010 - 38s/epoch - 43ms/step
Epoch 36/50
876/876 - 31s - loss: 1.6095 - accuracy: 0.1985 - val_loss: 1.6078 - val_accuracy: 0.8276 - lr: 0.0010 - 31s/epoch - 36ms/step
Epoch 37/50
876/876 - 34s - loss: 1.6095 - accuracy: 0.1994 - val_loss: 1.6100 - val_accuracy: 0.0735 - lr: 0.0010 - 34s/epoch - 38ms/step
Epoch 38/50
876/876 - 34s - loss: 1.6095 - accuracy: 0.1985 - val_loss: 1.6102 - val_accuracy: 0.0735 - lr: 0.0010 - 34s/epoch - 39ms/step
Epoch 39/50
876/876 - 32s - loss: 1.6095 - accuracy: 0.1983 - val_loss: 1.6144 - val_accuracy: 0.0661 - lr: 0.0010 - 32s/epoch - 37ms/step
Epoch 40/50
876/876 - 35s - loss: 1.6095 - accuracy: 0.2002 - val_loss: 1.6103 - val_accuracy: 0.0074 - lr: 0.0010 - 35s/epoch - 40ms/step
Epoch 41/50
876/876 - 36s - loss: 1.6095 - accuracy: 0.1989 - val_loss: 1.6118 - val_accuracy: 0.0661 - lr: 0.0010 - 36s/epoch - 41ms/step
Epoch 42/50
876/876 - 38s - loss: 1.6095 - accuracy: 0.2004 - val_loss: 1.6047 - val_accuracy: 0.0254 - lr: 0.0010 - 38s/epoch - 43ms/step
Epoch 43/50
876/876 - 35s - loss: 1.6095 - accuracy: 0.1979 - val_loss: 1.6082 - val_accuracy: 0.0254 - lr: 0.0010 - 35s/epoch - 40ms/step
Epoch 44/50
876/876 - 37s - loss: 1.6095 - accuracy: 0.1976 - val_loss: 1.6061 - val_accuracy: 0.8276 - lr: 0.0010 - 37s/epoch - 42ms/step
Epoch 45/50
876/876 - 38s - loss: 1.6095 - accuracy: 0.1972 - val_loss: 1.6088 - val_accuracy: 0.0661 - lr: 0.0010 - 38s/epoch - 43ms/step
Epoch 46/50
876/876 - 36s - loss: 1.6095 - accuracy: 0.1980 - val_loss: 1.6112 - val_accuracy: 0.0661 - lr: 0.0010 - 36s/epoch - 41ms/step
Epoch 47/50
876/876 - 34s - loss: 1.6095 - accuracy: 0.1973 - val_loss: 1.6114 - val_accuracy: 0.0661 - lr: 0.0010 - 34s/epoch - 39ms/step
Epoch 48/50
876/876 - 37s - loss: 1.6095 - accuracy: 0.1992 - val_loss: 1.6127 - val_accuracy: 0.0661 - lr: 0.0010 - 37s/epoch - 42ms/step
Epoch 49/50
876/876 - 35s - loss: 1.6095 - accuracy: 0.1991 - val_loss: 1.6040 - val_accuracy: 0.8276 - lr: 0.0010 - 35s/epoch - 40ms/step
Epoch 50/50
876/876 - 35s - loss: 1.6095 - accuracy: 0.1995 - val_loss: 1.6108 - val_accuracy: 0.0074 - lr: 0.0010 - 35s/epoch - 40ms/step
Epoch 1/50
176/176 - 36s - loss: 1.6094 - accuracy: 0.1992 - val_loss: 1.6097 - val_accuracy: 0.0074 - lr: 0.0010 - 36s/epoch - 206ms/step
Epoch 2/50
176/176 - 28s - loss: 1.6094 - accuracy: 0.1988 - val_loss: 1.6101 - val_accuracy: 0.0074 - lr: 0.0010 - 28s/epoch - 159ms/step
Epoch 3/50
176/176 - 26s - loss: 1.6094 - accuracy: 0.1991 - val_loss: 1.6106 - val_accuracy: 0.0074 - lr: 0.0010 - 26s/epoch - 150ms/step
Epoch 4/50
176/176 - 19s - loss: 1.6094 - accuracy: 0.1989 - val_loss: 1.6102 - val_accuracy: 0.0661 - lr: 0.0010 - 19s/epoch - 110ms/step
Epoch 5/50
176/176 - 20s - loss: 1.6095 - accuracy: 0.1970 - val_loss: 1.6105 - val_accuracy: 0.0074 - lr: 0.0010 - 20s/epoch - 111ms/step
Epoch 6/50
176/176 - 26s - loss: 1.6095 - accuracy: 0.2000 - val_loss: 1.6106 - val_accuracy: 0.0661 - lr: 0.0010 - 26s/epoch - 150ms/step
Epoch 7/50
176/176 - 29s - loss: 1.6094 - accuracy: 0.1984 - val_loss: 1.6101 - val_accuracy: 0.0074 - lr: 0.0010 - 29s/epoch - 163ms/step
Epoch 8/50
176/176 - 28s - loss: 1.6094 - accuracy: 0.1981 - val_loss: 1.6106 - val_accuracy: 0.0074 - lr: 0.0010 - 28s/epoch - 160ms/step
Epoch 9/50
176/176 - 19s - loss: 1.6095 - accuracy: 0.1950 - val_loss: 1.6107 - val_accuracy: 0.0735 - lr: 0.0010 - 19s/epoch - 108ms/step
Epoch 10/50
176/176 - 17s - loss: 1.6095 - accuracy: 0.1988 - val_loss: 1.6105 - val_accuracy: 0.0735 - lr: 0.0010 - 17s/epoch - 98ms/step
Epoch 11/50
176/176 - 16s - loss: 1.6095 - accuracy: 0.2004 - val_loss: 1.6098 - val_accuracy: 0.0074 - lr: 0.0010 - 16s/epoch - 94ms/step
Epoch 12/50
176/176 - 16s - loss: 1.6095 - accuracy: 0.1968 - val_loss: 1.6087 - val_accuracy: 0.0074 - lr: 0.0010 - 16s/epoch - 93ms/step
Epoch 13/50
176/176 - 16s - loss: 1.6094 - accuracy: 0.1977 - val_loss: 1.6106 - val_accuracy: 0.0074 - lr: 0.0010 - 16s/epoch - 93ms/step
Epoch 14/50
176/176 - 18s - loss: 1.6095 - accuracy: 0.1971 - val_loss: 1.6108 - val_accuracy: 0.0074 - lr: 0.0010 - 18s/epoch - 104ms/step
Epoch 15/50
176/176 - 21s - loss: 1.6094 - accuracy: 0.1992 - val_loss: 1.6086 - val_accuracy: 0.0735 - lr: 0.0010 - 21s/epoch - 120ms/step
Epoch 16/50
176/176 - 24s - loss: 1.6095 - accuracy: 0.1975 - val_loss: 1.6095 - val_accuracy: 0.0254 - lr: 0.0010 - 24s/epoch - 136ms/step
Epoch 17/50
176/176 - 24s - loss: 1.6094 - accuracy: 0.1985 - val_loss: 1.6079 - val_accuracy: 0.8276 - lr: 0.0010 - 24s/epoch - 136ms/step
Epoch 18/50
176/176 - 31s - loss: 1.6095 - accuracy: 0.1992 - val_loss: 1.6081 - val_accuracy: 0.8276 - lr: 0.0010 - 31s/epoch - 178ms/step
Epoch 19/50
176/176 - 22s - loss: 1.6094 - accuracy: 0.1998 - val_loss: 1.6087 - val_accuracy: 0.8276 - lr: 0.0010 - 22s/epoch - 127ms/step
Epoch 20/50
176/176 - 30s - loss: 1.6095 - accuracy: 0.1978 - val_loss: 1.6100 - val_accuracy: 0.0254 - lr: 0.0010 - 30s/epoch - 171ms/step
Epoch 21/50
176/176 - 24s - loss: 1.6095 - accuracy: 0.1977 - val_loss: 1.6101 - val_accuracy: 0.0074 - lr: 0.0010 - 24s/epoch - 139ms/step
Epoch 22/50
176/176 - 22s - loss: 1.6094 - accuracy: 0.1981 - val_loss: 1.6097 - val_accuracy: 0.0254 - lr: 0.0010 - 22s/epoch - 126ms/step
Epoch 23/50
176/176 - 23s - loss: 1.6094 - accuracy: 0.1980 - val_loss: 1.6092 - val_accuracy: 0.0254 - lr: 0.0010 - 23s/epoch - 130ms/step
Epoch 24/50
176/176 - 26s - loss: 1.6094 - accuracy: 0.1974 - val_loss: 1.6093 - val_accuracy: 0.0254 - lr: 0.0010 - 26s/epoch - 147ms/step
Epoch 25/50
176/176 - 35s - loss: 1.6094 - accuracy: 0.1981 - val_loss: 1.6090 - val_accuracy: 0.0254 - lr: 0.0010 - 35s/epoch - 196ms/step
Epoch 26/50
176/176 - 29s - loss: 1.6095 - accuracy: 0.1985 - val_loss: 1.6091 - val_accuracy: 0.8276 - lr: 0.0010 - 29s/epoch - 165ms/step
Epoch 27/50
176/176 - 28s - loss: 1.6094 - accuracy: 0.1996 - val_loss: 1.6093 - val_accuracy: 0.0074 - lr: 0.0010 - 28s/epoch - 157ms/step
Epoch 28/50
176/176 - 24s - loss: 1.6095 - accuracy: 0.1981 - val_loss: 1.6092 - val_accuracy: 0.0661 - lr: 0.0010 - 24s/epoch - 134ms/step
Epoch 29/50
176/176 - 24s - loss: 1.6095 - accuracy: 0.1995 - val_loss: 1.6113 - val_accuracy: 0.0735 - lr: 0.0010 - 24s/epoch - 138ms/step
Epoch 30/50
176/176 - 27s - loss: 1.6095 - accuracy: 0.1983 - val_loss: 1.6104 - val_accuracy: 0.0735 - lr: 0.0010 - 27s/epoch - 155ms/step
Epoch 31/50
176/176 - 27s - loss: 1.6095 - accuracy: 0.1974 - val_loss: 1.6082 - val_accuracy: 0.8276 - lr: 0.0010 - 27s/epoch - 152ms/step
Epoch 32/50
176/176 - 23s - loss: 1.6094 - accuracy: 0.1987 - val_loss: 1.6093 - val_accuracy: 0.0074 - lr: 0.0010 - 23s/epoch - 132ms/step
Epoch 33/50
176/176 - 24s - loss: 1.6094 - accuracy: 0.1980 - val_loss: 1.6098 - val_accuracy: 0.0254 - lr: 0.0010 - 24s/epoch - 139ms/step
Epoch 34/50
176/176 - 26s - loss: 1.6094 - accuracy: 0.1976 - val_loss: 1.6088 - val_accuracy: 0.8276 - lr: 0.0010 - 26s/epoch - 149ms/step
Epoch 35/50
176/176 - 26s - loss: 1.6094 - accuracy: 0.1967 - val_loss: 1.6093 - val_accuracy: 0.0661 - lr: 0.0010 - 26s/epoch - 147ms/step
Epoch 36/50
176/176 - 26s - loss: 1.6094 - accuracy: 0.1993 - val_loss: 1.6095 - val_accuracy: 0.0661 - lr: 0.0010 - 26s/epoch - 146ms/step
Epoch 37/50
176/176 - 20s - loss: 1.6094 - accuracy: 0.1978 - val_loss: 1.6098 - val_accuracy: 0.0661 - lr: 0.0010 - 20s/epoch - 114ms/step
Epoch 38/50
176/176 - 31s - loss: 1.6094 - accuracy: 0.1979 - val_loss: 1.6123 - val_accuracy: 0.0661 - lr: 0.0010 - 31s/epoch - 175ms/step
Epoch 39/50
176/176 - 31s - loss: 1.6095 - accuracy: 0.1980 - val_loss: 1.6103 - val_accuracy: 0.0661 - lr: 0.0010 - 31s/epoch - 175ms/step
Epoch 40/50
176/176 - 33s - loss: 1.6095 - accuracy: 0.1979 - val_loss: 1.6097 - val_accuracy: 0.0735 - lr: 0.0010 - 33s/epoch - 186ms/step
Epoch 41/50
176/176 - 34s - loss: 1.6094 - accuracy: 0.1993 - val_loss: 1.6085 - val_accuracy: 0.8276 - lr: 0.0010 - 34s/epoch - 194ms/step
Epoch 42/50
176/176 - 40s - loss: 1.6095 - accuracy: 0.1980 - val_loss: 1.6081 - val_accuracy: 0.8276 - lr: 0.0010 - 40s/epoch - 229ms/step
Epoch 43/50
176/176 - 17s - loss: 1.6095 - accuracy: 0.1990 - val_loss: 1.6088 - val_accuracy: 0.0661 - lr: 0.0010 - 17s/epoch - 94ms/step
Epoch 44/50
176/176 - 20s - loss: 1.6094 - accuracy: 0.1990 - val_loss: 1.6096 - val_accuracy: 0.0735 - lr: 0.0010 - 20s/epoch - 115ms/step
Epoch 45/50
176/176 - 18s - loss: 1.6094 - accuracy: 0.1973 - val_loss: 1.6099 - val_accuracy: 0.0735 - lr: 0.0010 - 18s/epoch - 104ms/step
Epoch 46/50
176/176 - 18s - loss: 1.6094 - accuracy: 0.1991 - val_loss: 1.6096 - val_accuracy: 0.0661 - lr: 0.0010 - 18s/epoch - 101ms/step
Epoch 47/50
176/176 - 18s - loss: 1.6094 - accuracy: 0.1985 - val_loss: 1.6093 - val_accuracy: 0.0661 - lr: 0.0010 - 18s/epoch - 100ms/step
Epoch 48/50
176/176 - 18s - loss: 1.6094 - accuracy: 0.1990 - val_loss: 1.6099 - val_accuracy: 0.0074 - lr: 0.0010 - 18s/epoch - 104ms/step
Epoch 49/50
176/176 - 18s - loss: 1.6094 - accuracy: 0.1981 - val_loss: 1.6094 - val_accuracy: 0.0074 - lr: 0.0010 - 18s/epoch - 102ms/step
Epoch 50/50
176/176 - 18s - loss: 1.6094 - accuracy: 0.1983 - val_loss: 1.6097 - val_accuracy: 0.0735 - lr: 0.0010 - 18s/epoch - 102ms/step
Epoch 1/50
36/36 - 19s - loss: 1.6094 - accuracy: 0.1986 - val_loss: 1.6090 - val_accuracy: 0.0074 - lr: 0.0010 - 19s/epoch - 537ms/step
Epoch 2/50
36/36 - 17s - loss: 1.6094 - accuracy: 0.2001 - val_loss: 1.6082 - val_accuracy: 0.0735 - lr: 0.0010 - 17s/epoch - 473ms/step
Epoch 3/50
36/36 - 17s - loss: 1.6094 - accuracy: 0.2000 - val_loss: 1.6090 - val_accuracy: 0.0735 - lr: 0.0010 - 17s/epoch - 464ms/step
Epoch 4/50
36/36 - 17s - loss: 1.6094 - accuracy: 0.2000 - val_loss: 1.6097 - val_accuracy: 0.0735 - lr: 0.0010 - 17s/epoch - 479ms/step
Epoch 5/50
36/36 - 17s - loss: 1.6094 - accuracy: 0.2000 - val_loss: 1.6102 - val_accuracy: 0.0735 - lr: 0.0010 - 17s/epoch - 458ms/step
Epoch 6/50
36/36 - 16s - loss: 1.6094 - accuracy: 0.2000 - val_loss: 1.6092 - val_accuracy: 0.0735 - lr: 0.0010 - 16s/epoch - 456ms/step
Epoch 7/50
36/36 - 17s - loss: 1.6094 - accuracy: 0.2000 - val_loss: 1.6088 - val_accuracy: 0.0735 - lr: 0.0010 - 17s/epoch - 468ms/step
Epoch 8/50
36/36 - 17s - loss: 1.6094 - accuracy: 0.2000 - val_loss: 1.6084 - val_accuracy: 0.0735 - lr: 0.0010 - 17s/epoch - 473ms/step
Epoch 9/50
36/36 - 17s - loss: 1.6094 - accuracy: 0.2001 - val_loss: 1.6085 - val_accuracy: 0.0735 - lr: 0.0010 - 17s/epoch - 461ms/step
Epoch 10/50
36/36 - 16s - loss: 1.6094 - accuracy: 0.2000 - val_loss: 1.6087 - val_accuracy: 0.0735 - lr: 0.0010 - 16s/epoch - 457ms/step
Epoch 11/50
36/36 - 17s - loss: 1.6094 - accuracy: 0.2000 - val_loss: 1.6084 - val_accuracy: 0.0074 - lr: 0.0010 - 17s/epoch - 461ms/step
Epoch 12/50
36/36 - 17s - loss: 1.6094 - accuracy: 0.2006 - val_loss: 1.6077 - val_accuracy: 0.8276 - lr: 0.0010 - 17s/epoch - 465ms/step
Epoch 13/50
36/36 - 17s - loss: 1.6094 - accuracy: 0.2000 - val_loss: 1.6076 - val_accuracy: 0.8276 - lr: 0.0010 - 17s/epoch - 468ms/step
Epoch 14/50
36/36 - 17s - loss: 1.6094 - accuracy: 0.2000 - val_loss: 1.6084 - val_accuracy: 0.8276 - lr: 0.0010 - 17s/epoch - 461ms/step
Epoch 15/50
36/36 - 16s - loss: 1.6094 - accuracy: 0.1995 - val_loss: 1.6087 - val_accuracy: 0.0074 - lr: 0.0010 - 16s/epoch - 458ms/step
Epoch 16/50
36/36 - 17s - loss: 1.6094 - accuracy: 0.1975 - val_loss: 1.6086 - val_accuracy: 0.0074 - lr: 0.0010 - 17s/epoch - 466ms/step
Epoch 17/50
36/36 - 17s - loss: 1.6094 - accuracy: 0.2000 - val_loss: 1.6090 - val_accuracy: 0.0074 - lr: 0.0010 - 17s/epoch - 466ms/step
Epoch 18/50
36/36 - 17s - loss: 1.6094 - accuracy: 0.2000 - val_loss: 1.6088 - val_accuracy: 0.0074 - lr: 0.0010 - 17s/epoch - 469ms/step
Epoch 19/50
36/36 - 17s - loss: 1.6094 - accuracy: 0.2000 - val_loss: 1.6094 - val_accuracy: 0.0074 - lr: 0.0010 - 17s/epoch - 461ms/step
Epoch 20/50
36/36 - 17s - loss: 1.6094 - accuracy: 0.2000 - val_loss: 1.6096 - val_accuracy: 0.0074 - lr: 0.0010 - 17s/epoch - 467ms/step
Epoch 21/50
36/36 - 17s - loss: 1.6094 - accuracy: 0.1999 - val_loss: 1.6097 - val_accuracy: 0.0074 - lr: 0.0010 - 17s/epoch - 463ms/step
Epoch 22/50
36/36 - 17s - loss: 1.6094 - accuracy: 0.1981 - val_loss: 1.6089 - val_accuracy: 0.8276 - lr: 0.0010 - 17s/epoch - 465ms/step
Epoch 23/50
36/36 - 17s - loss: 1.6094 - accuracy: 0.1995 - val_loss: 1.6090 - val_accuracy: 0.0074 - lr: 0.0010 - 17s/epoch - 474ms/step
Epoch 24/50
36/36 - 17s - loss: 1.6094 - accuracy: 0.2000 - val_loss: 1.6097 - val_accuracy: 0.0074 - lr: 0.0010 - 17s/epoch - 466ms/step
Epoch 25/50
36/36 - 17s - loss: 1.6094 - accuracy: 0.2000 - val_loss: 1.6095 - val_accuracy: 0.0074 - lr: 0.0010 - 17s/epoch - 477ms/step
Epoch 26/50
36/36 - 17s - loss: 1.6094 - accuracy: 0.2000 - val_loss: 1.6094 - val_accuracy: 0.0074 - lr: 0.0010 - 17s/epoch - 465ms/step
Epoch 27/50
36/36 - 17s - loss: 1.6094 - accuracy: 0.2002 - val_loss: 1.6086 - val_accuracy: 0.8276 - lr: 0.0010 - 17s/epoch - 466ms/step
Epoch 28/50
36/36 - 17s - loss: 1.6094 - accuracy: 0.2000 - val_loss: 1.6082 - val_accuracy: 0.8276 - lr: 0.0010 - 17s/epoch - 467ms/step
Epoch 29/50
36/36 - 17s - loss: 1.6094 - accuracy: 0.1997 - val_loss: 1.6080 - val_accuracy: 0.0735 - lr: 0.0010 - 17s/epoch - 461ms/step
Epoch 30/50
36/36 - 16s - loss: 1.6094 - accuracy: 0.2000 - val_loss: 1.6075 - val_accuracy: 0.8276 - lr: 0.0010 - 16s/epoch - 454ms/step
Epoch 31/50
36/36 - 16s - loss: 1.6094 - accuracy: 0.1989 - val_loss: 1.6080 - val_accuracy: 0.8276 - lr: 0.0010 - 16s/epoch - 456ms/step
Epoch 32/50
36/36 - 17s - loss: 1.6094 - accuracy: 0.2002 - val_loss: 1.6085 - val_accuracy: 0.8276 - lr: 0.0010 - 17s/epoch - 460ms/step
Epoch 33/50
36/36 - 17s - loss: 1.6094 - accuracy: 0.1978 - val_loss: 1.6092 - val_accuracy: 0.0735 - lr: 0.0010 - 17s/epoch - 466ms/step
Epoch 34/50
36/36 - 16s - loss: 1.6094 - accuracy: 0.2000 - val_loss: 1.6096 - val_accuracy: 0.0735 - lr: 0.0010 - 16s/epoch - 458ms/step
Epoch 35/50
36/36 - 17s - loss: 1.6094 - accuracy: 0.1989 - val_loss: 1.6103 - val_accuracy: 0.0735 - lr: 0.0010 - 17s/epoch - 461ms/step
Epoch 36/50
36/36 - 14s - loss: 1.6094 - accuracy: 0.2003 - val_loss: 1.6112 - val_accuracy: 0.0074 - lr: 0.0010 - 14s/epoch - 388ms/step
Epoch 37/50
36/36 - 10s - loss: 1.6094 - accuracy: 0.2000 - val_loss: 1.6106 - val_accuracy: 0.0074 - lr: 0.0010 - 10s/epoch - 283ms/step
Epoch 38/50
36/36 - 10s - loss: 1.6094 - accuracy: 0.2000 - val_loss: 1.6100 - val_accuracy: 0.0074 - lr: 0.0010 - 10s/epoch - 280ms/step
Epoch 39/50
36/36 - 10s - loss: 1.6094 - accuracy: 0.2000 - val_loss: 1.6095 - val_accuracy: 0.0074 - lr: 0.0010 - 10s/epoch - 280ms/step
Epoch 40/50
36/36 - 10s - loss: 1.6094 - accuracy: 0.2000 - val_loss: 1.6090 - val_accuracy: 0.0074 - lr: 0.0010 - 10s/epoch - 280ms/step
Epoch 41/50
36/36 - 10s - loss: 1.6094 - accuracy: 0.1989 - val_loss: 1.6086 - val_accuracy: 0.8276 - lr: 0.0010 - 10s/epoch - 284ms/step
Epoch 42/50
36/36 - 10s - loss: 1.6094 - accuracy: 0.2000 - val_loss: 1.6081 - val_accuracy: 0.8276 - lr: 0.0010 - 10s/epoch - 285ms/step
Epoch 43/50
36/36 - 10s - loss: 1.6094 - accuracy: 0.2000 - val_loss: 1.6081 - val_accuracy: 0.8276 - lr: 0.0010 - 10s/epoch - 282ms/step
Epoch 44/50
36/36 - 10s - loss: 1.6094 - accuracy: 0.2000 - val_loss: 1.6073 - val_accuracy: 0.8276 - lr: 0.0010 - 10s/epoch - 282ms/step
Epoch 45/50
36/36 - 10s - loss: 1.6094 - accuracy: 0.2000 - val_loss: 1.6073 - val_accuracy: 0.8276 - lr: 0.0010 - 10s/epoch - 282ms/step
Epoch 46/50
36/36 - 10s - loss: 1.6094 - accuracy: 0.2000 - val_loss: 1.6072 - val_accuracy: 0.8276 - lr: 0.0010 - 10s/epoch - 281ms/step
Epoch 47/50
36/36 - 10s - loss: 1.6094 - accuracy: 0.2000 - val_loss: 1.6072 - val_accuracy: 0.8276 - lr: 0.0010 - 10s/epoch - 281ms/step
Epoch 48/50
36/36 - 10s - loss: 1.6094 - accuracy: 0.2000 - val_loss: 1.6078 - val_accuracy: 0.8276 - lr: 0.0010 - 10s/epoch - 282ms/step
Epoch 49/50
36/36 - 10s - loss: 1.6094 - accuracy: 0.2000 - val_loss: 1.6083 - val_accuracy: 0.8276 - lr: 0.0010 - 10s/epoch - 281ms/step
Epoch 50/50
36/36 - 10s - loss: 1.6094 - accuracy: 0.2000 - val_loss: 1.6079 - val_accuracy: 0.8276 - lr: 0.0010 - 10s/epoch - 283ms/step
Epoch 1/75
4378/4378 - 80s - loss: 1.6095 - accuracy: 0.1992 - val_loss: 1.6008 - val_accuracy: 0.8276 - lr: 0.0010 - 80s/epoch - 18ms/step
Epoch 2/75
4378/4378 - 74s - loss: 1.6095 - accuracy: 0.1977 - val_loss: 1.6090 - val_accuracy: 0.0254 - lr: 0.0010 - 74s/epoch - 17ms/step
Epoch 3/75
4378/4378 - 74s - loss: 1.6095 - accuracy: 0.2002 - val_loss: 1.5903 - val_accuracy: 0.8276 - lr: 0.0010 - 74s/epoch - 17ms/step
Epoch 4/75
4378/4378 - 74s - loss: 1.6095 - accuracy: 0.2008 - val_loss: 1.6154 - val_accuracy: 0.0254 - lr: 0.0010 - 74s/epoch - 17ms/step
Epoch 5/75
4378/4378 - 74s - loss: 1.6095 - accuracy: 0.1976 - val_loss: 1.6116 - val_accuracy: 0.0074 - lr: 0.0010 - 74s/epoch - 17ms/step
Epoch 6/75
4378/4378 - 74s - loss: 1.6095 - accuracy: 0.1977 - val_loss: 1.6110 - val_accuracy: 0.0661 - lr: 0.0010 - 74s/epoch - 17ms/step
Epoch 7/75
4378/4378 - 74s - loss: 1.6095 - accuracy: 0.1977 - val_loss: 1.6086 - val_accuracy: 0.0074 - lr: 0.0010 - 74s/epoch - 17ms/step
Epoch 8/75
4378/4378 - 74s - loss: 1.6095 - accuracy: 0.1984 - val_loss: 1.6128 - val_accuracy: 0.0735 - lr: 0.0010 - 74s/epoch - 17ms/step
Epoch 9/75
4378/4378 - 74s - loss: 1.6095 - accuracy: 0.1996 - val_loss: 1.6032 - val_accuracy: 0.8276 - lr: 0.0010 - 74s/epoch - 17ms/step
Epoch 10/75
4378/4378 - 74s - loss: 1.6095 - accuracy: 0.1971 - val_loss: 1.6076 - val_accuracy: 0.8276 - lr: 0.0010 - 74s/epoch - 17ms/step
Epoch 11/75
4378/4378 - 74s - loss: 1.6095 - accuracy: 0.1986 - val_loss: 1.6018 - val_accuracy: 0.8276 - lr: 0.0010 - 74s/epoch - 17ms/step
Epoch 12/75
4378/4378 - 74s - loss: 1.6095 - accuracy: 0.1992 - val_loss: 1.6012 - val_accuracy: 0.0254 - lr: 0.0010 - 74s/epoch - 17ms/step
Epoch 13/75
4378/4378 - 74s - loss: 1.6095 - accuracy: 0.1979 - val_loss: 1.6042 - val_accuracy: 0.8276 - lr: 0.0010 - 74s/epoch - 17ms/step
Epoch 14/75
4378/4378 - 74s - loss: 1.6095 - accuracy: 0.1980 - val_loss: 1.6092 - val_accuracy: 0.0661 - lr: 0.0010 - 74s/epoch - 17ms/step
Epoch 15/75
4378/4378 - 74s - loss: 1.6095 - accuracy: 0.1972 - val_loss: 1.6074 - val_accuracy: 0.8276 - lr: 0.0010 - 74s/epoch - 17ms/step
Epoch 16/75
4378/4378 - 74s - loss: 1.6095 - accuracy: 0.1968 - val_loss: 1.6125 - val_accuracy: 0.0074 - lr: 0.0010 - 74s/epoch - 17ms/step
Epoch 17/75
4378/4378 - 74s - loss: 1.6095 - accuracy: 0.1990 - val_loss: 1.6091 - val_accuracy: 0.0735 - lr: 0.0010 - 74s/epoch - 17ms/step
Epoch 18/75
4378/4378 - 74s - loss: 1.6095 - accuracy: 0.1988 - val_loss: 1.6066 - val_accuracy: 0.0254 - lr: 0.0010 - 74s/epoch - 17ms/step
Epoch 19/75
4378/4378 - 74s - loss: 1.6095 - accuracy: 0.1985 - val_loss: 1.6064 - val_accuracy: 0.0661 - lr: 0.0010 - 74s/epoch - 17ms/step
Epoch 20/75
4378/4378 - 74s - loss: 1.6095 - accuracy: 0.1979 - val_loss: 1.6145 - val_accuracy: 0.0074 - lr: 0.0010 - 74s/epoch - 17ms/step
Epoch 21/75
4378/4378 - 74s - loss: 1.6095 - accuracy: 0.1987 - val_loss: 1.6067 - val_accuracy: 0.0254 - lr: 0.0010 - 74s/epoch - 17ms/step
Epoch 22/75
4378/4378 - 74s - loss: 1.6095 - accuracy: 0.1978 - val_loss: 1.6078 - val_accuracy: 0.0074 - lr: 0.0010 - 74s/epoch - 17ms/step
Epoch 23/75
4378/4378 - 75s - loss: 1.6095 - accuracy: 0.1990 - val_loss: 1.6082 - val_accuracy: 0.0661 - lr: 0.0010 - 75s/epoch - 17ms/step
Epoch 24/75
4378/4378 - 74s - loss: 1.6095 - accuracy: 0.1991 - val_loss: 1.6114 - val_accuracy: 0.0661 - lr: 0.0010 - 74s/epoch - 17ms/step
Epoch 25/75
4378/4378 - 74s - loss: 1.6095 - accuracy: 0.2001 - val_loss: 1.6140 - val_accuracy: 0.0254 - lr: 0.0010 - 74s/epoch - 17ms/step
Epoch 26/75
4378/4378 - 74s - loss: 1.6095 - accuracy: 0.1992 - val_loss: 1.6074 - val_accuracy: 0.8276 - lr: 0.0010 - 74s/epoch - 17ms/step
Epoch 27/75
4378/4378 - 74s - loss: 1.6095 - accuracy: 0.1970 - val_loss: 1.6172 - val_accuracy: 0.0074 - lr: 0.0010 - 74s/epoch - 17ms/step
Epoch 28/75
4378/4378 - 75s - loss: 1.6095 - accuracy: 0.1996 - val_loss: 1.6129 - val_accuracy: 0.0661 - lr: 0.0010 - 75s/epoch - 17ms/step
Epoch 29/75
4378/4378 - 74s - loss: 1.6095 - accuracy: 0.1996 - val_loss: 1.6121 - val_accuracy: 0.0661 - lr: 0.0010 - 74s/epoch - 17ms/step
Epoch 30/75
4378/4378 - 74s - loss: 1.6095 - accuracy: 0.1992 - val_loss: 1.6103 - val_accuracy: 0.0254 - lr: 0.0010 - 74s/epoch - 17ms/step
Epoch 31/75
4378/4378 - 74s - loss: 1.6095 - accuracy: 0.1980 - val_loss: 1.6022 - val_accuracy: 0.8276 - lr: 0.0010 - 74s/epoch - 17ms/step
Epoch 32/75
4378/4378 - 74s - loss: 1.6095 - accuracy: 0.2002 - val_loss: 1.6164 - val_accuracy: 0.0661 - lr: 0.0010 - 74s/epoch - 17ms/step
Epoch 33/75
4378/4378 - 75s - loss: 1.6095 - accuracy: 0.1979 - val_loss: 1.6151 - val_accuracy: 0.0735 - lr: 0.0010 - 75s/epoch - 17ms/step
Epoch 34/75
4378/4378 - 74s - loss: 1.6095 - accuracy: 0.1968 - val_loss: 1.6116 - val_accuracy: 0.0735 - lr: 0.0010 - 74s/epoch - 17ms/step
Epoch 35/75
4378/4378 - 74s - loss: 1.6095 - accuracy: 0.1996 - val_loss: 1.6123 - val_accuracy: 0.0661 - lr: 0.0010 - 74s/epoch - 17ms/step
Epoch 36/75
4378/4378 - 75s - loss: 1.6095 - accuracy: 0.1996 - val_loss: 1.6091 - val_accuracy: 0.0661 - lr: 0.0010 - 75s/epoch - 17ms/step
Epoch 37/75
4378/4378 - 74s - loss: 1.6095 - accuracy: 0.1959 - val_loss: 1.6073 - val_accuracy: 0.0735 - lr: 0.0010 - 74s/epoch - 17ms/step
Epoch 38/75
4378/4378 - 75s - loss: 1.6095 - accuracy: 0.1981 - val_loss: 1.6130 - val_accuracy: 0.0074 - lr: 0.0010 - 75s/epoch - 17ms/step
Epoch 39/75
4378/4378 - 75s - loss: 1.6095 - accuracy: 0.2028 - val_loss: 1.6101 - val_accuracy: 0.0254 - lr: 0.0010 - 75s/epoch - 17ms/step
Epoch 40/75
4378/4378 - 74s - loss: 1.6095 - accuracy: 0.2001 - val_loss: 1.6102 - val_accuracy: 0.0735 - lr: 0.0010 - 74s/epoch - 17ms/step
Epoch 41/75
4378/4378 - 74s - loss: 1.6095 - accuracy: 0.1973 - val_loss: 1.6167 - val_accuracy: 0.0661 - lr: 0.0010 - 74s/epoch - 17ms/step
Epoch 42/75
4378/4378 - 74s - loss: 1.6095 - accuracy: 0.2023 - val_loss: 1.5952 - val_accuracy: 0.8276 - lr: 0.0010 - 74s/epoch - 17ms/step
Epoch 43/75
4378/4378 - 74s - loss: 1.6095 - accuracy: 0.1984 - val_loss: 1.6066 - val_accuracy: 0.8276 - lr: 0.0010 - 74s/epoch - 17ms/step
Epoch 44/75
4378/4378 - 74s - loss: 1.6095 - accuracy: 0.1983 - val_loss: 1.6097 - val_accuracy: 0.0074 - lr: 0.0010 - 74s/epoch - 17ms/step
Epoch 45/75
4378/4378 - 74s - loss: 1.6095 - accuracy: 0.1991 - val_loss: 1.6188 - val_accuracy: 0.0661 - lr: 0.0010 - 74s/epoch - 17ms/step
Epoch 46/75
4378/4378 - 74s - loss: 1.6095 - accuracy: 0.2000 - val_loss: 1.6137 - val_accuracy: 0.0254 - lr: 0.0010 - 74s/epoch - 17ms/step
Epoch 47/75
4378/4378 - 74s - loss: 1.6095 - accuracy: 0.1996 - val_loss: 1.6056 - val_accuracy: 0.0661 - lr: 0.0010 - 74s/epoch - 17ms/step
Epoch 48/75
4378/4378 - 73s - loss: 1.6095 - accuracy: 0.1995 - val_loss: 1.6132 - val_accuracy: 0.0074 - lr: 0.0010 - 73s/epoch - 17ms/step
Epoch 49/75
4378/4378 - 74s - loss: 1.6095 - accuracy: 0.2003 - val_loss: 1.5908 - val_accuracy: 0.8276 - lr: 0.0010 - 74s/epoch - 17ms/step
Epoch 50/75
4378/4378 - 73s - loss: 1.6095 - accuracy: 0.1998 - val_loss: 1.6030 - val_accuracy: 0.8276 - lr: 0.0010 - 73s/epoch - 17ms/step
Epoch 51/75
4378/4378 - 74s - loss: 1.6095 - accuracy: 0.2001 - val_loss: 1.6045 - val_accuracy: 0.0074 - lr: 0.0010 - 74s/epoch - 17ms/step
Epoch 52/75
4378/4378 - 74s - loss: 1.6095 - accuracy: 0.1980 - val_loss: 1.6087 - val_accuracy: 0.0735 - lr: 0.0010 - 74s/epoch - 17ms/step
Epoch 53/75
4378/4378 - 74s - loss: 1.6095 - accuracy: 0.1987 - val_loss: 1.5877 - val_accuracy: 0.8276 - lr: 0.0010 - 74s/epoch - 17ms/step
Epoch 54/75
4378/4378 - 74s - loss: 1.6095 - accuracy: 0.1981 - val_loss: 1.6048 - val_accuracy: 0.0661 - lr: 0.0010 - 74s/epoch - 17ms/step
Epoch 55/75
4378/4378 - 74s - loss: 1.6095 - accuracy: 0.2009 - val_loss: 1.6074 - val_accuracy: 0.0735 - lr: 0.0010 - 74s/epoch - 17ms/step
Epoch 56/75
4378/4378 - 74s - loss: 1.6095 - accuracy: 0.1986 - val_loss: 1.6087 - val_accuracy: 0.0735 - lr: 0.0010 - 74s/epoch - 17ms/step
Epoch 57/75
4378/4378 - 74s - loss: 1.6095 - accuracy: 0.1986 - val_loss: 1.6080 - val_accuracy: 0.0661 - lr: 0.0010 - 74s/epoch - 17ms/step
Epoch 58/75
4378/4378 - 74s - loss: 1.6095 - accuracy: 0.2005 - val_loss: 1.5962 - val_accuracy: 0.8276 - lr: 0.0010 - 74s/epoch - 17ms/step
Epoch 59/75
4378/4378 - 74s - loss: 1.6095 - accuracy: 0.1982 - val_loss: 1.5922 - val_accuracy: 0.8276 - lr: 0.0010 - 74s/epoch - 17ms/step
Epoch 60/75
4378/4378 - 74s - loss: 1.6095 - accuracy: 0.1966 - val_loss: 1.6089 - val_accuracy: 0.0254 - lr: 0.0010 - 74s/epoch - 17ms/step
Epoch 61/75
4378/4378 - 74s - loss: 1.6095 - accuracy: 0.1969 - val_loss: 1.6074 - val_accuracy: 0.0254 - lr: 0.0010 - 74s/epoch - 17ms/step
Epoch 62/75
4378/4378 - 74s - loss: 1.6095 - accuracy: 0.1970 - val_loss: 1.6076 - val_accuracy: 0.0254 - lr: 0.0010 - 74s/epoch - 17ms/step
Epoch 63/75
4378/4378 - 74s - loss: 1.6095 - accuracy: 0.1976 - val_loss: 1.6003 - val_accuracy: 0.8276 - lr: 0.0010 - 74s/epoch - 17ms/step
Epoch 64/75
4378/4378 - 74s - loss: 1.6095 - accuracy: 0.1961 - val_loss: 1.6169 - val_accuracy: 0.0254 - lr: 0.0010 - 74s/epoch - 17ms/step
Epoch 65/75
4378/4378 - 74s - loss: 1.6095 - accuracy: 0.1993 - val_loss: 1.5995 - val_accuracy: 0.8276 - lr: 0.0010 - 74s/epoch - 17ms/step
Epoch 66/75
4378/4378 - 74s - loss: 1.6095 - accuracy: 0.1992 - val_loss: 1.5997 - val_accuracy: 0.8276 - lr: 0.0010 - 74s/epoch - 17ms/step
Epoch 67/75
4378/4378 - 74s - loss: 1.6095 - accuracy: 0.1999 - val_loss: 1.6124 - val_accuracy: 0.0735 - lr: 0.0010 - 74s/epoch - 17ms/step
Epoch 68/75
4378/4378 - 74s - loss: 1.6095 - accuracy: 0.2015 - val_loss: 1.6135 - val_accuracy: 0.0254 - lr: 0.0010 - 74s/epoch - 17ms/step
Epoch 69/75
4378/4378 - 74s - loss: 1.6095 - accuracy: 0.1975 - val_loss: 1.6104 - val_accuracy: 0.0074 - lr: 0.0010 - 74s/epoch - 17ms/step
Epoch 70/75
4378/4378 - 74s - loss: 1.6095 - accuracy: 0.1995 - val_loss: 1.6132 - val_accuracy: 0.0661 - lr: 0.0010 - 74s/epoch - 17ms/step
Epoch 71/75
4378/4378 - 74s - loss: 1.6095 - accuracy: 0.1981 - val_loss: 1.6089 - val_accuracy: 0.0661 - lr: 0.0010 - 74s/epoch - 17ms/step
Epoch 72/75
4378/4378 - 74s - loss: 1.6095 - accuracy: 0.2008 - val_loss: 1.6050 - val_accuracy: 0.0074 - lr: 0.0010 - 74s/epoch - 17ms/step
Epoch 73/75
4378/4378 - 74s - loss: 1.6095 - accuracy: 0.1981 - val_loss: 1.6031 - val_accuracy: 0.0735 - lr: 0.0010 - 74s/epoch - 17ms/step
Epoch 74/75
4378/4378 - 74s - loss: 1.6095 - accuracy: 0.2013 - val_loss: 1.6074 - val_accuracy: 0.0074 - lr: 0.0010 - 74s/epoch - 17ms/step
Epoch 75/75
4378/4378 - 75s - loss: 1.6095 - accuracy: 0.1994 - val_loss: 1.6055 - val_accuracy: 0.0661 - lr: 0.0010 - 75s/epoch - 17ms/step
Epoch 1/75
876/876 - 22s - loss: 1.6095 - accuracy: 0.1964 - val_loss: 1.6128 - val_accuracy: 0.0661 - lr: 0.0010 - 22s/epoch - 25ms/step
Epoch 2/75
876/876 - 20s - loss: 1.6095 - accuracy: 0.1986 - val_loss: 1.6108 - val_accuracy: 0.0074 - lr: 0.0010 - 20s/epoch - 22ms/step
Epoch 3/75
876/876 - 20s - loss: 1.6095 - accuracy: 0.1993 - val_loss: 1.6020 - val_accuracy: 0.8276 - lr: 0.0010 - 20s/epoch - 23ms/step
Epoch 4/75
876/876 - 20s - loss: 1.6095 - accuracy: 0.1994 - val_loss: 1.6090 - val_accuracy: 0.0254 - lr: 0.0010 - 20s/epoch - 22ms/step
Epoch 5/75
876/876 - 20s - loss: 1.6095 - accuracy: 0.1989 - val_loss: 1.6127 - val_accuracy: 0.0661 - lr: 0.0010 - 20s/epoch - 22ms/step
Epoch 6/75
876/876 - 20s - loss: 1.6095 - accuracy: 0.1980 - val_loss: 1.6085 - val_accuracy: 0.0074 - lr: 0.0010 - 20s/epoch - 22ms/step
Epoch 7/75
876/876 - 20s - loss: 1.6095 - accuracy: 0.1978 - val_loss: 1.6026 - val_accuracy: 0.8276 - lr: 0.0010 - 20s/epoch - 23ms/step
Epoch 8/75
876/876 - 20s - loss: 1.6095 - accuracy: 0.2000 - val_loss: 1.6154 - val_accuracy: 0.0254 - lr: 0.0010 - 20s/epoch - 22ms/step
Epoch 9/75
876/876 - 20s - loss: 1.6095 - accuracy: 0.1971 - val_loss: 1.6094 - val_accuracy: 0.0661 - lr: 0.0010 - 20s/epoch - 22ms/step
Epoch 10/75
876/876 - 20s - loss: 1.6095 - accuracy: 0.1951 - val_loss: 1.6090 - val_accuracy: 0.0661 - lr: 0.0010 - 20s/epoch - 23ms/step
Epoch 11/75
876/876 - 20s - loss: 1.6095 - accuracy: 0.1993 - val_loss: 1.6112 - val_accuracy: 0.0254 - lr: 0.0010 - 20s/epoch - 22ms/step
Epoch 12/75
876/876 - 20s - loss: 1.6095 - accuracy: 0.1992 - val_loss: 1.5973 - val_accuracy: 0.8276 - lr: 0.0010 - 20s/epoch - 22ms/step
Epoch 13/75
876/876 - 20s - loss: 1.6095 - accuracy: 0.1990 - val_loss: 1.6115 - val_accuracy: 0.0661 - lr: 0.0010 - 20s/epoch - 22ms/step
Epoch 14/75
876/876 - 20s - loss: 1.6095 - accuracy: 0.1995 - val_loss: 1.6091 - val_accuracy: 0.0074 - lr: 0.0010 - 20s/epoch - 22ms/step
Epoch 15/75
876/876 - 20s - loss: 1.6095 - accuracy: 0.1984 - val_loss: 1.6102 - val_accuracy: 0.0661 - lr: 0.0010 - 20s/epoch - 23ms/step
Epoch 16/75
876/876 - 20s - loss: 1.6095 - accuracy: 0.1975 - val_loss: 1.6077 - val_accuracy: 0.0254 - lr: 0.0010 - 20s/epoch - 22ms/step
Epoch 17/75
876/876 - 22s - loss: 1.6095 - accuracy: 0.1959 - val_loss: 1.6107 - val_accuracy: 0.0735 - lr: 0.0010 - 22s/epoch - 25ms/step
Epoch 18/75
876/876 - 20s - loss: 1.6095 - accuracy: 0.1998 - val_loss: 1.6093 - val_accuracy: 0.0661 - lr: 0.0010 - 20s/epoch - 22ms/step
Epoch 19/75
876/876 - 20s - loss: 1.6095 - accuracy: 0.1991 - val_loss: 1.6154 - val_accuracy: 0.0254 - lr: 0.0010 - 20s/epoch - 22ms/step
Epoch 20/75
876/876 - 20s - loss: 1.6095 - accuracy: 0.1996 - val_loss: 1.6104 - val_accuracy: 0.0735 - lr: 0.0010 - 20s/epoch - 22ms/step
Epoch 21/75
876/876 - 20s - loss: 1.6095 - accuracy: 0.1997 - val_loss: 1.6068 - val_accuracy: 0.8276 - lr: 0.0010 - 20s/epoch - 22ms/step
Epoch 22/75
876/876 - 20s - loss: 1.6095 - accuracy: 0.2000 - val_loss: 1.6048 - val_accuracy: 0.8276 - lr: 0.0010 - 20s/epoch - 22ms/step
Epoch 23/75
876/876 - 20s - loss: 1.6095 - accuracy: 0.1992 - val_loss: 1.6040 - val_accuracy: 0.8276 - lr: 0.0010 - 20s/epoch - 23ms/step
Epoch 24/75
876/876 - 20s - loss: 1.6095 - accuracy: 0.1977 - val_loss: 1.6080 - val_accuracy: 0.0074 - lr: 0.0010 - 20s/epoch - 22ms/step
Epoch 25/75
876/876 - 20s - loss: 1.6095 - accuracy: 0.1985 - val_loss: 1.6091 - val_accuracy: 0.0661 - lr: 0.0010 - 20s/epoch - 22ms/step
Epoch 26/75
876/876 - 20s - loss: 1.6095 - accuracy: 0.1982 - val_loss: 1.6117 - val_accuracy: 0.0254 - lr: 0.0010 - 20s/epoch - 22ms/step
Epoch 27/75
876/876 - 20s - loss: 1.6095 - accuracy: 0.1997 - val_loss: 1.6034 - val_accuracy: 0.8276 - lr: 0.0010 - 20s/epoch - 22ms/step
Epoch 28/75
876/876 - 20s - loss: 1.6095 - accuracy: 0.1982 - val_loss: 1.6158 - val_accuracy: 0.0074 - lr: 0.0010 - 20s/epoch - 22ms/step
Epoch 29/75
876/876 - 20s - loss: 1.6095 - accuracy: 0.1997 - val_loss: 1.6125 - val_accuracy: 0.0735 - lr: 0.0010 - 20s/epoch - 22ms/step
Epoch 30/75
876/876 - 20s - loss: 1.6095 - accuracy: 0.1968 - val_loss: 1.6061 - val_accuracy: 0.0735 - lr: 0.0010 - 20s/epoch - 22ms/step
Epoch 31/75
876/876 - 20s - loss: 1.6095 - accuracy: 0.1990 - val_loss: 1.6069 - val_accuracy: 0.8276 - lr: 0.0010 - 20s/epoch - 22ms/step
Epoch 32/75
876/876 - 20s - loss: 1.6095 - accuracy: 0.1957 - val_loss: 1.6094 - val_accuracy: 0.0074 - lr: 0.0010 - 20s/epoch - 22ms/step
Epoch 33/75
876/876 - 20s - loss: 1.6095 - accuracy: 0.1982 - val_loss: 1.6060 - val_accuracy: 0.8276 - lr: 0.0010 - 20s/epoch - 22ms/step
Epoch 34/75
876/876 - 20s - loss: 1.6095 - accuracy: 0.1983 - val_loss: 1.6143 - val_accuracy: 0.0074 - lr: 0.0010 - 20s/epoch - 22ms/step
Epoch 35/75
876/876 - 20s - loss: 1.6095 - accuracy: 0.1972 - val_loss: 1.6112 - val_accuracy: 0.0074 - lr: 0.0010 - 20s/epoch - 22ms/step
Epoch 36/75
876/876 - 20s - loss: 1.6095 - accuracy: 0.1997 - val_loss: 1.6103 - val_accuracy: 0.0254 - lr: 0.0010 - 20s/epoch - 22ms/step
Epoch 37/75
876/876 - 20s - loss: 1.6095 - accuracy: 0.1994 - val_loss: 1.6092 - val_accuracy: 0.0254 - lr: 0.0010 - 20s/epoch - 22ms/step
Epoch 38/75
876/876 - 20s - loss: 1.6095 - accuracy: 0.1987 - val_loss: 1.6151 - val_accuracy: 0.0254 - lr: 0.0010 - 20s/epoch - 23ms/step
Epoch 39/75
876/876 - 20s - loss: 1.6095 - accuracy: 0.1957 - val_loss: 1.6074 - val_accuracy: 0.8276 - lr: 0.0010 - 20s/epoch - 22ms/step
Epoch 40/75
876/876 - 20s - loss: 1.6095 - accuracy: 0.1973 - val_loss: 1.6099 - val_accuracy: 0.0735 - lr: 0.0010 - 20s/epoch - 23ms/step
Epoch 41/75
876/876 - 20s - loss: 1.6095 - accuracy: 0.2003 - val_loss: 1.6073 - val_accuracy: 0.0074 - lr: 0.0010 - 20s/epoch - 23ms/step
Epoch 42/75
876/876 - 20s - loss: 1.6095 - accuracy: 0.1977 - val_loss: 1.6089 - val_accuracy: 0.0254 - lr: 0.0010 - 20s/epoch - 22ms/step
Epoch 43/75
876/876 - 20s - loss: 1.6095 - accuracy: 0.1986 - val_loss: 1.6116 - val_accuracy: 0.0074 - lr: 0.0010 - 20s/epoch - 23ms/step
Epoch 44/75
876/876 - 20s - loss: 1.6095 - accuracy: 0.1978 - val_loss: 1.6129 - val_accuracy: 0.0074 - lr: 0.0010 - 20s/epoch - 22ms/step
Epoch 45/75
876/876 - 20s - loss: 1.6095 - accuracy: 0.1985 - val_loss: 1.6096 - val_accuracy: 0.0074 - lr: 0.0010 - 20s/epoch - 22ms/step
Epoch 46/75
876/876 - 20s - loss: 1.6095 - accuracy: 0.1970 - val_loss: 1.6111 - val_accuracy: 0.0661 - lr: 0.0010 - 20s/epoch - 22ms/step
Epoch 47/75
876/876 - 20s - loss: 1.6095 - accuracy: 0.1982 - val_loss: 1.6102 - val_accuracy: 0.0661 - lr: 0.0010 - 20s/epoch - 23ms/step
Epoch 48/75
876/876 - 20s - loss: 1.6094 - accuracy: 0.2010 - val_loss: 1.6044 - val_accuracy: 0.0254 - lr: 0.0010 - 20s/epoch - 22ms/step
Epoch 49/75
876/876 - 20s - loss: 1.6095 - accuracy: 0.1988 - val_loss: 1.6088 - val_accuracy: 0.0735 - lr: 0.0010 - 20s/epoch - 22ms/step
Epoch 50/75
876/876 - 20s - loss: 1.6095 - accuracy: 0.2005 - val_loss: 1.6113 - val_accuracy: 0.0735 - lr: 0.0010 - 20s/epoch - 22ms/step
Epoch 51/75
876/876 - 20s - loss: 1.6095 - accuracy: 0.1981 - val_loss: 1.6066 - val_accuracy: 0.0661 - lr: 0.0010 - 20s/epoch - 22ms/step
Epoch 52/75
876/876 - 20s - loss: 1.6095 - accuracy: 0.1983 - val_loss: 1.6105 - val_accuracy: 0.0735 - lr: 0.0010 - 20s/epoch - 22ms/step
Epoch 53/75
876/876 - 20s - loss: 1.6095 - accuracy: 0.1986 - val_loss: 1.6106 - val_accuracy: 0.0661 - lr: 0.0010 - 20s/epoch - 22ms/step
Epoch 54/75
876/876 - 20s - loss: 1.6095 - accuracy: 0.2010 - val_loss: 1.6065 - val_accuracy: 0.8276 - lr: 0.0010 - 20s/epoch - 22ms/step
Epoch 55/75
876/876 - 20s - loss: 1.6095 - accuracy: 0.2001 - val_loss: 1.6083 - val_accuracy: 0.0735 - lr: 0.0010 - 20s/epoch - 22ms/step
Epoch 56/75
876/876 - 20s - loss: 1.6095 - accuracy: 0.1995 - val_loss: 1.6109 - val_accuracy: 0.0254 - lr: 0.0010 - 20s/epoch - 22ms/step
Epoch 57/75
876/876 - 20s - loss: 1.6095 - accuracy: 0.1994 - val_loss: 1.6211 - val_accuracy: 0.0661 - lr: 0.0010 - 20s/epoch - 22ms/step
Epoch 58/75
876/876 - 20s - loss: 1.6095 - accuracy: 0.1975 - val_loss: 1.6095 - val_accuracy: 0.0254 - lr: 0.0010 - 20s/epoch - 22ms/step
Epoch 59/75
876/876 - 20s - loss: 1.6095 - accuracy: 0.1968 - val_loss: 1.6091 - val_accuracy: 0.0074 - lr: 0.0010 - 20s/epoch - 22ms/step
Epoch 60/75
876/876 - 20s - loss: 1.6095 - accuracy: 0.2003 - val_loss: 1.6110 - val_accuracy: 0.0074 - lr: 0.0010 - 20s/epoch - 23ms/step
Epoch 61/75
876/876 - 20s - loss: 1.6095 - accuracy: 0.1992 - val_loss: 1.6086 - val_accuracy: 0.0661 - lr: 0.0010 - 20s/epoch - 22ms/step
Epoch 62/75
876/876 - 20s - loss: 1.6095 - accuracy: 0.1989 - val_loss: 1.6081 - val_accuracy: 0.0074 - lr: 0.0010 - 20s/epoch - 23ms/step
Epoch 63/75
876/876 - 20s - loss: 1.6095 - accuracy: 0.1986 - val_loss: 1.6163 - val_accuracy: 0.0661 - lr: 0.0010 - 20s/epoch - 22ms/step
Epoch 64/75
876/876 - 20s - loss: 1.6095 - accuracy: 0.2001 - val_loss: 1.5972 - val_accuracy: 0.8276 - lr: 0.0010 - 20s/epoch - 22ms/step
Epoch 65/75
876/876 - 20s - loss: 1.6095 - accuracy: 0.1994 - val_loss: 1.6149 - val_accuracy: 0.0661 - lr: 0.0010 - 20s/epoch - 23ms/step
Epoch 66/75
876/876 - 20s - loss: 1.6095 - accuracy: 0.1975 - val_loss: 1.6084 - val_accuracy: 0.0254 - lr: 0.0010 - 20s/epoch - 22ms/step
Epoch 67/75
876/876 - 20s - loss: 1.6095 - accuracy: 0.1991 - val_loss: 1.6102 - val_accuracy: 0.0074 - lr: 0.0010 - 20s/epoch - 22ms/step
Epoch 68/75
876/876 - 20s - loss: 1.6095 - accuracy: 0.1980 - val_loss: 1.6113 - val_accuracy: 0.0661 - lr: 0.0010 - 20s/epoch - 22ms/step
Epoch 69/75
876/876 - 20s - loss: 1.6095 - accuracy: 0.1993 - val_loss: 1.6054 - val_accuracy: 0.8276 - lr: 0.0010 - 20s/epoch - 22ms/step
Epoch 70/75
876/876 - 20s - loss: 1.6095 - accuracy: 0.1989 - val_loss: 1.6067 - val_accuracy: 0.8276 - lr: 0.0010 - 20s/epoch - 22ms/step
Epoch 71/75
876/876 - 20s - loss: 1.6095 - accuracy: 0.1983 - val_loss: 1.6073 - val_accuracy: 0.0661 - lr: 0.0010 - 20s/epoch - 23ms/step
Epoch 72/75
876/876 - 20s - loss: 1.6095 - accuracy: 0.1984 - val_loss: 1.6133 - val_accuracy: 0.0074 - lr: 0.0010 - 20s/epoch - 23ms/step
Epoch 73/75
876/876 - 20s - loss: 1.6095 - accuracy: 0.1969 - val_loss: 1.6062 - val_accuracy: 0.0661 - lr: 0.0010 - 20s/epoch - 23ms/step
Epoch 74/75
876/876 - 20s - loss: 1.6095 - accuracy: 0.1970 - val_loss: 1.6065 - val_accuracy: 0.8276 - lr: 0.0010 - 20s/epoch - 22ms/step
Epoch 75/75
876/876 - 20s - loss: 1.6095 - accuracy: 0.1985 - val_loss: 1.6124 - val_accuracy: 0.0661 - lr: 0.0010 - 20s/epoch - 23ms/step
Epoch 1/75
176/176 - 14s - loss: 1.6094 - accuracy: 0.1995 - val_loss: 1.6118 - val_accuracy: 0.0661 - lr: 0.0010 - 14s/epoch - 78ms/step
Epoch 2/75
176/176 - 11s - loss: 1.6094 - accuracy: 0.1988 - val_loss: 1.6105 - val_accuracy: 0.0735 - lr: 0.0010 - 11s/epoch - 64ms/step
Epoch 3/75
176/176 - 11s - loss: 1.6094 - accuracy: 0.1990 - val_loss: 1.6103 - val_accuracy: 0.0254 - lr: 0.0010 - 11s/epoch - 65ms/step
Epoch 4/75
176/176 - 11s - loss: 1.6095 - accuracy: 0.1978 - val_loss: 1.6099 - val_accuracy: 0.0254 - lr: 0.0010 - 11s/epoch - 64ms/step
Epoch 5/75
176/176 - 11s - loss: 1.6094 - accuracy: 0.1975 - val_loss: 1.6110 - val_accuracy: 0.0254 - lr: 0.0010 - 11s/epoch - 64ms/step
Epoch 6/75
176/176 - 11s - loss: 1.6095 - accuracy: 0.1984 - val_loss: 1.6095 - val_accuracy: 0.0254 - lr: 0.0010 - 11s/epoch - 65ms/step
Epoch 7/75
176/176 - 11s - loss: 1.6094 - accuracy: 0.1978 - val_loss: 1.6101 - val_accuracy: 0.0254 - lr: 0.0010 - 11s/epoch - 64ms/step
Epoch 8/75
176/176 - 11s - loss: 1.6094 - accuracy: 0.1976 - val_loss: 1.6089 - val_accuracy: 0.8276 - lr: 0.0010 - 11s/epoch - 64ms/step
Epoch 9/75
176/176 - 11s - loss: 1.6095 - accuracy: 0.1990 - val_loss: 1.6072 - val_accuracy: 0.8276 - lr: 0.0010 - 11s/epoch - 64ms/step
Epoch 10/75
176/176 - 11s - loss: 1.6095 - accuracy: 0.1976 - val_loss: 1.6079 - val_accuracy: 0.8276 - lr: 0.0010 - 11s/epoch - 64ms/step
Epoch 11/75
176/176 - 11s - loss: 1.6095 - accuracy: 0.1986 - val_loss: 1.6089 - val_accuracy: 0.0661 - lr: 0.0010 - 11s/epoch - 64ms/step
Epoch 12/75
176/176 - 11s - loss: 1.6095 - accuracy: 0.1998 - val_loss: 1.6094 - val_accuracy: 0.0735 - lr: 0.0010 - 11s/epoch - 64ms/step
Epoch 13/75
176/176 - 11s - loss: 1.6094 - accuracy: 0.1972 - val_loss: 1.6093 - val_accuracy: 0.0661 - lr: 0.0010 - 11s/epoch - 64ms/step
Epoch 14/75
176/176 - 11s - loss: 1.6095 - accuracy: 0.1962 - val_loss: 1.6099 - val_accuracy: 0.0661 - lr: 0.0010 - 11s/epoch - 65ms/step
Epoch 15/75
176/176 - 11s - loss: 1.6094 - accuracy: 0.1991 - val_loss: 1.6094 - val_accuracy: 0.0661 - lr: 0.0010 - 11s/epoch - 64ms/step
Epoch 16/75
176/176 - 11s - loss: 1.6094 - accuracy: 0.1999 - val_loss: 1.6082 - val_accuracy: 0.8276 - lr: 0.0010 - 11s/epoch - 65ms/step
Epoch 17/75
176/176 - 11s - loss: 1.6094 - accuracy: 0.1971 - val_loss: 1.6082 - val_accuracy: 0.8276 - lr: 0.0010 - 11s/epoch - 64ms/step
Epoch 18/75
176/176 - 11s - loss: 1.6094 - accuracy: 0.1986 - val_loss: 1.6086 - val_accuracy: 0.8276 - lr: 0.0010 - 11s/epoch - 64ms/step
Epoch 19/75
176/176 - 11s - loss: 1.6094 - accuracy: 0.1988 - val_loss: 1.6079 - val_accuracy: 0.8276 - lr: 0.0010 - 11s/epoch - 64ms/step
Epoch 20/75
176/176 - 11s - loss: 1.6094 - accuracy: 0.1989 - val_loss: 1.6086 - val_accuracy: 0.8276 - lr: 0.0010 - 11s/epoch - 64ms/step
Epoch 21/75
176/176 - 11s - loss: 1.6095 - accuracy: 0.1981 - val_loss: 1.6095 - val_accuracy: 0.0074 - lr: 0.0010 - 11s/epoch - 64ms/step
Epoch 22/75
176/176 - 11s - loss: 1.6095 - accuracy: 0.1966 - val_loss: 1.6103 - val_accuracy: 0.0661 - lr: 0.0010 - 11s/epoch - 64ms/step
Epoch 23/75
176/176 - 11s - loss: 1.6095 - accuracy: 0.1985 - val_loss: 1.6099 - val_accuracy: 0.0661 - lr: 0.0010 - 11s/epoch - 64ms/step
Epoch 24/75
176/176 - 11s - loss: 1.6095 - accuracy: 0.1982 - val_loss: 1.6098 - val_accuracy: 0.0661 - lr: 0.0010 - 11s/epoch - 64ms/step
Epoch 25/75
176/176 - 11s - loss: 1.6094 - accuracy: 0.1994 - val_loss: 1.6107 - val_accuracy: 0.0074 - lr: 0.0010 - 11s/epoch - 64ms/step
Epoch 26/75
176/176 - 11s - loss: 1.6095 - accuracy: 0.1973 - val_loss: 1.6089 - val_accuracy: 0.0074 - lr: 0.0010 - 11s/epoch - 65ms/step
Epoch 27/75
176/176 - 11s - loss: 1.6095 - accuracy: 0.1979 - val_loss: 1.6077 - val_accuracy: 0.8276 - lr: 0.0010 - 11s/epoch - 64ms/step
Epoch 28/75
176/176 - 11s - loss: 1.6094 - accuracy: 0.2002 - val_loss: 1.6094 - val_accuracy: 0.0074 - lr: 0.0010 - 11s/epoch - 64ms/step
Epoch 29/75
176/176 - 11s - loss: 1.6095 - accuracy: 0.1991 - val_loss: 1.6091 - val_accuracy: 0.0254 - lr: 0.0010 - 11s/epoch - 64ms/step
Epoch 30/75
176/176 - 11s - loss: 1.6094 - accuracy: 0.1981 - val_loss: 1.6095 - val_accuracy: 0.0074 - lr: 0.0010 - 11s/epoch - 64ms/step
Epoch 31/75
176/176 - 11s - loss: 1.6095 - accuracy: 0.1975 - val_loss: 1.6100 - val_accuracy: 0.0735 - lr: 0.0010 - 11s/epoch - 64ms/step
Epoch 32/75
176/176 - 11s - loss: 1.6095 - accuracy: 0.2010 - val_loss: 1.6081 - val_accuracy: 0.8276 - lr: 0.0010 - 11s/epoch - 64ms/step
Epoch 33/75
176/176 - 11s - loss: 1.6095 - accuracy: 0.1996 - val_loss: 1.6092 - val_accuracy: 0.0254 - lr: 0.0010 - 11s/epoch - 64ms/step
Epoch 34/75
176/176 - 11s - loss: 1.6094 - accuracy: 0.1959 - val_loss: 1.6096 - val_accuracy: 0.0254 - lr: 0.0010 - 11s/epoch - 64ms/step
Epoch 35/75
176/176 - 11s - loss: 1.6094 - accuracy: 0.1995 - val_loss: 1.6096 - val_accuracy: 0.0661 - lr: 0.0010 - 11s/epoch - 64ms/step
Epoch 36/75
176/176 - 11s - loss: 1.6094 - accuracy: 0.1980 - val_loss: 1.6088 - val_accuracy: 0.8276 - lr: 0.0010 - 11s/epoch - 64ms/step
Epoch 37/75
176/176 - 11s - loss: 1.6095 - accuracy: 0.1971 - val_loss: 1.6088 - val_accuracy: 0.8276 - lr: 0.0010 - 11s/epoch - 64ms/step
Epoch 38/75
176/176 - 11s - loss: 1.6094 - accuracy: 0.1978 - val_loss: 1.6106 - val_accuracy: 0.0661 - lr: 0.0010 - 11s/epoch - 64ms/step
Epoch 39/75
176/176 - 11s - loss: 1.6095 - accuracy: 0.1978 - val_loss: 1.6095 - val_accuracy: 0.0735 - lr: 0.0010 - 11s/epoch - 64ms/step
Epoch 40/75
176/176 - 11s - loss: 1.6094 - accuracy: 0.1979 - val_loss: 1.6094 - val_accuracy: 0.0661 - lr: 0.0010 - 11s/epoch - 64ms/step
Epoch 41/75
176/176 - 11s - loss: 1.6095 - accuracy: 0.1980 - val_loss: 1.6082 - val_accuracy: 0.8276 - lr: 0.0010 - 11s/epoch - 64ms/step
Epoch 42/75
176/176 - 11s - loss: 1.6095 - accuracy: 0.1981 - val_loss: 1.6083 - val_accuracy: 0.8276 - lr: 0.0010 - 11s/epoch - 64ms/step
Epoch 43/75
176/176 - 11s - loss: 1.6095 - accuracy: 0.1992 - val_loss: 1.6083 - val_accuracy: 0.8276 - lr: 0.0010 - 11s/epoch - 64ms/step
Epoch 44/75
176/176 - 11s - loss: 1.6094 - accuracy: 0.1991 - val_loss: 1.6101 - val_accuracy: 0.0661 - lr: 0.0010 - 11s/epoch - 64ms/step
Epoch 45/75
176/176 - 11s - loss: 1.6095 - accuracy: 0.1985 - val_loss: 1.6100 - val_accuracy: 0.0735 - lr: 0.0010 - 11s/epoch - 64ms/step
Epoch 46/75
176/176 - 11s - loss: 1.6095 - accuracy: 0.1959 - val_loss: 1.6095 - val_accuracy: 0.0254 - lr: 0.0010 - 11s/epoch - 64ms/step
Epoch 47/75
176/176 - 11s - loss: 1.6094 - accuracy: 0.1991 - val_loss: 1.6103 - val_accuracy: 0.0074 - lr: 0.0010 - 11s/epoch - 65ms/step
Epoch 48/75
176/176 - 11s - loss: 1.6094 - accuracy: 0.1979 - val_loss: 1.6101 - val_accuracy: 0.0661 - lr: 0.0010 - 11s/epoch - 64ms/step
Epoch 49/75
176/176 - 11s - loss: 1.6094 - accuracy: 0.1996 - val_loss: 1.6102 - val_accuracy: 0.0254 - lr: 0.0010 - 11s/epoch - 64ms/step
Epoch 50/75
176/176 - 11s - loss: 1.6095 - accuracy: 0.1961 - val_loss: 1.6095 - val_accuracy: 0.0735 - lr: 0.0010 - 11s/epoch - 64ms/step
Epoch 51/75
176/176 - 11s - loss: 1.6094 - accuracy: 0.1986 - val_loss: 1.6096 - val_accuracy: 0.0735 - lr: 0.0010 - 11s/epoch - 65ms/step
Epoch 52/75
176/176 - 11s - loss: 1.6095 - accuracy: 0.1980 - val_loss: 1.6107 - val_accuracy: 0.0735 - lr: 0.0010 - 11s/epoch - 65ms/step
Epoch 53/75
176/176 - 11s - loss: 1.6095 - accuracy: 0.1969 - val_loss: 1.6089 - val_accuracy: 0.0735 - lr: 0.0010 - 11s/epoch - 64ms/step
Epoch 54/75
176/176 - 11s - loss: 1.6094 - accuracy: 0.1988 - val_loss: 1.6096 - val_accuracy: 0.0735 - lr: 0.0010 - 11s/epoch - 64ms/step
Epoch 55/75
176/176 - 11s - loss: 1.6095 - accuracy: 0.1980 - val_loss: 1.6102 - val_accuracy: 0.0661 - lr: 0.0010 - 11s/epoch - 64ms/step
Epoch 56/75
176/176 - 11s - loss: 1.6095 - accuracy: 0.1985 - val_loss: 1.6113 - val_accuracy: 0.0661 - lr: 0.0010 - 11s/epoch - 64ms/step
Epoch 57/75
176/176 - 11s - loss: 1.6095 - accuracy: 0.1975 - val_loss: 1.6102 - val_accuracy: 0.0661 - lr: 0.0010 - 11s/epoch - 65ms/step
Epoch 58/75
176/176 - 11s - loss: 1.6095 - accuracy: 0.1980 - val_loss: 1.6108 - val_accuracy: 0.0254 - lr: 0.0010 - 11s/epoch - 65ms/step
Epoch 59/75
176/176 - 11s - loss: 1.6095 - accuracy: 0.1981 - val_loss: 1.6087 - val_accuracy: 0.8276 - lr: 0.0010 - 11s/epoch - 64ms/step
Epoch 60/75
176/176 - 11s - loss: 1.6095 - accuracy: 0.1984 - val_loss: 1.6100 - val_accuracy: 0.0661 - lr: 0.0010 - 11s/epoch - 64ms/step
Epoch 61/75
176/176 - 11s - loss: 1.6095 - accuracy: 0.1992 - val_loss: 1.6103 - val_accuracy: 0.0074 - lr: 0.0010 - 11s/epoch - 65ms/step
Epoch 62/75
176/176 - 11s - loss: 1.6095 - accuracy: 0.1973 - val_loss: 1.6107 - val_accuracy: 0.0735 - lr: 0.0010 - 11s/epoch - 64ms/step
Epoch 63/75
176/176 - 11s - loss: 1.6095 - accuracy: 0.1989 - val_loss: 1.6116 - val_accuracy: 0.0735 - lr: 0.0010 - 11s/epoch - 64ms/step
Epoch 64/75
176/176 - 11s - loss: 1.6094 - accuracy: 0.1974 - val_loss: 1.6106 - val_accuracy: 0.0074 - lr: 0.0010 - 11s/epoch - 64ms/step
Epoch 65/75
176/176 - 11s - loss: 1.6095 - accuracy: 0.1989 - val_loss: 1.6108 - val_accuracy: 0.0074 - lr: 0.0010 - 11s/epoch - 64ms/step
Epoch 66/75
176/176 - 11s - loss: 1.6094 - accuracy: 0.1997 - val_loss: 1.6103 - val_accuracy: 0.0661 - lr: 0.0010 - 11s/epoch - 64ms/step
Epoch 67/75
176/176 - 11s - loss: 1.6095 - accuracy: 0.1986 - val_loss: 1.6101 - val_accuracy: 0.0074 - lr: 0.0010 - 11s/epoch - 65ms/step
Epoch 68/75
176/176 - 11s - loss: 1.6095 - accuracy: 0.1992 - val_loss: 1.6093 - val_accuracy: 0.0074 - lr: 0.0010 - 11s/epoch - 64ms/step
Epoch 69/75
176/176 - 11s - loss: 1.6095 - accuracy: 0.1974 - val_loss: 1.6100 - val_accuracy: 0.0074 - lr: 0.0010 - 11s/epoch - 64ms/step
Epoch 70/75
176/176 - 11s - loss: 1.6094 - accuracy: 0.1991 - val_loss: 1.6096 - val_accuracy: 0.0661 - lr: 0.0010 - 11s/epoch - 64ms/step
Epoch 71/75
176/176 - 11s - loss: 1.6094 - accuracy: 0.1983 - val_loss: 1.6098 - val_accuracy: 0.0661 - lr: 0.0010 - 11s/epoch - 64ms/step
Epoch 72/75
176/176 - 11s - loss: 1.6094 - accuracy: 0.1988 - val_loss: 1.6096 - val_accuracy: 0.0735 - lr: 0.0010 - 11s/epoch - 64ms/step
Epoch 73/75
176/176 - 11s - loss: 1.6094 - accuracy: 0.1993 - val_loss: 1.6096 - val_accuracy: 0.0735 - lr: 0.0010 - 11s/epoch - 64ms/step
Epoch 74/75
176/176 - 11s - loss: 1.6094 - accuracy: 0.1985 - val_loss: 1.6097 - val_accuracy: 0.0074 - lr: 0.0010 - 11s/epoch - 64ms/step
Epoch 75/75
176/176 - 11s - loss: 1.6094 - accuracy: 0.1991 - val_loss: 1.6097 - val_accuracy: 0.0074 - lr: 0.0010 - 11s/epoch - 64ms/step
Epoch 1/75
36/36 - 13s - loss: 1.6094 - accuracy: 0.2000 - val_loss: 1.6089 - val_accuracy: 0.8276 - lr: 0.0010 - 13s/epoch - 359ms/step
Epoch 2/75
36/36 - 10s - loss: 1.6094 - accuracy: 0.2000 - val_loss: 1.6083 - val_accuracy: 0.8276 - lr: 0.0010 - 10s/epoch - 281ms/step
Epoch 3/75
36/36 - 10s - loss: 1.6094 - accuracy: 0.2000 - val_loss: 1.6080 - val_accuracy: 0.8276 - lr: 0.0010 - 10s/epoch - 282ms/step
Epoch 4/75
36/36 - 10s - loss: 1.6094 - accuracy: 0.2000 - val_loss: 1.6079 - val_accuracy: 0.8276 - lr: 0.0010 - 10s/epoch - 281ms/step
Epoch 5/75
36/36 - 10s - loss: 1.6094 - accuracy: 0.2000 - val_loss: 1.6075 - val_accuracy: 0.8276 - lr: 0.0010 - 10s/epoch - 282ms/step
Epoch 6/75
36/36 - 10s - loss: 1.6094 - accuracy: 0.1993 - val_loss: 1.6078 - val_accuracy: 0.0735 - lr: 0.0010 - 10s/epoch - 282ms/step
Epoch 7/75
36/36 - 10s - loss: 1.6094 - accuracy: 0.2000 - val_loss: 1.6086 - val_accuracy: 0.0735 - lr: 0.0010 - 10s/epoch - 281ms/step
Epoch 8/75
36/36 - 10s - loss: 1.6094 - accuracy: 0.2000 - val_loss: 1.6082 - val_accuracy: 0.0735 - lr: 0.0010 - 10s/epoch - 281ms/step
Epoch 9/75
36/36 - 10s - loss: 1.6094 - accuracy: 0.1998 - val_loss: 1.6084 - val_accuracy: 0.0735 - lr: 0.0010 - 10s/epoch - 281ms/step
Epoch 10/75
36/36 - 10s - loss: 1.6094 - accuracy: 0.2000 - val_loss: 1.6089 - val_accuracy: 0.0735 - lr: 0.0010 - 10s/epoch - 282ms/step
Epoch 11/75
36/36 - 10s - loss: 1.6094 - accuracy: 0.1990 - val_loss: 1.6093 - val_accuracy: 0.0735 - lr: 0.0010 - 10s/epoch - 282ms/step
Epoch 12/75
36/36 - 10s - loss: 1.6094 - accuracy: 0.2001 - val_loss: 1.6094 - val_accuracy: 0.0735 - lr: 0.0010 - 10s/epoch - 282ms/step
Epoch 13/75
36/36 - 10s - loss: 1.6094 - accuracy: 0.1994 - val_loss: 1.6094 - val_accuracy: 0.0254 - lr: 0.0010 - 10s/epoch - 281ms/step
Epoch 14/75
36/36 - 10s - loss: 1.6094 - accuracy: 0.1991 - val_loss: 1.6102 - val_accuracy: 0.0254 - lr: 0.0010 - 10s/epoch - 280ms/step
Epoch 15/75
36/36 - 10s - loss: 1.6094 - accuracy: 0.2000 - val_loss: 1.6097 - val_accuracy: 0.0254 - lr: 0.0010 - 10s/epoch - 282ms/step
Epoch 16/75
36/36 - 10s - loss: 1.6094 - accuracy: 0.1999 - val_loss: 1.6099 - val_accuracy: 0.0254 - lr: 0.0010 - 10s/epoch - 280ms/step
Epoch 17/75
36/36 - 10s - loss: 1.6094 - accuracy: 0.1999 - val_loss: 1.6097 - val_accuracy: 0.0735 - lr: 0.0010 - 10s/epoch - 282ms/step
Epoch 18/75
36/36 - 10s - loss: 1.6094 - accuracy: 0.1999 - val_loss: 1.6098 - val_accuracy: 0.0735 - lr: 0.0010 - 10s/epoch - 282ms/step
Epoch 19/75
36/36 - 10s - loss: 1.6094 - accuracy: 0.2000 - val_loss: 1.6093 - val_accuracy: 0.0735 - lr: 0.0010 - 10s/epoch - 281ms/step
Epoch 20/75
36/36 - 10s - loss: 1.6094 - accuracy: 0.2000 - val_loss: 1.6096 - val_accuracy: 0.0735 - lr: 0.0010 - 10s/epoch - 282ms/step
Epoch 21/75
36/36 - 10s - loss: 1.6094 - accuracy: 0.2000 - val_loss: 1.6100 - val_accuracy: 0.0735 - lr: 0.0010 - 10s/epoch - 282ms/step
Epoch 22/75
36/36 - 10s - loss: 1.6094 - accuracy: 0.2000 - val_loss: 1.6097 - val_accuracy: 0.0735 - lr: 0.0010 - 10s/epoch - 281ms/step
Epoch 23/75
36/36 - 10s - loss: 1.6094 - accuracy: 0.2000 - val_loss: 1.6103 - val_accuracy: 0.0735 - lr: 0.0010 - 10s/epoch - 282ms/step
Epoch 24/75
36/36 - 10s - loss: 1.6094 - accuracy: 0.2000 - val_loss: 1.6096 - val_accuracy: 0.0735 - lr: 0.0010 - 10s/epoch - 283ms/step
Epoch 25/75
36/36 - 10s - loss: 1.6094 - accuracy: 0.2000 - val_loss: 1.6097 - val_accuracy: 0.0735 - lr: 0.0010 - 10s/epoch - 280ms/step
Epoch 26/75
36/36 - 10s - loss: 1.6094 - accuracy: 0.2000 - val_loss: 1.6092 - val_accuracy: 0.0735 - lr: 0.0010 - 10s/epoch - 281ms/step
Epoch 27/75
36/36 - 10s - loss: 1.6094 - accuracy: 0.2000 - val_loss: 1.6092 - val_accuracy: 0.0735 - lr: 0.0010 - 10s/epoch - 282ms/step
Epoch 28/75
36/36 - 10s - loss: 1.6094 - accuracy: 0.2004 - val_loss: 1.6096 - val_accuracy: 0.0074 - lr: 0.0010 - 10s/epoch - 281ms/step
Epoch 29/75
36/36 - 10s - loss: 1.6094 - accuracy: 0.2000 - val_loss: 1.6103 - val_accuracy: 0.0074 - lr: 0.0010 - 10s/epoch - 282ms/step
Epoch 30/75
36/36 - 10s - loss: 1.6094 - accuracy: 0.2000 - val_loss: 1.6097 - val_accuracy: 0.0074 - lr: 0.0010 - 10s/epoch - 282ms/step
Epoch 31/75
36/36 - 10s - loss: 1.6094 - accuracy: 0.2000 - val_loss: 1.6095 - val_accuracy: 0.0074 - lr: 0.0010 - 10s/epoch - 282ms/step
Epoch 32/75
36/36 - 10s - loss: 1.6094 - accuracy: 0.1999 - val_loss: 1.6095 - val_accuracy: 0.0074 - lr: 0.0010 - 10s/epoch - 281ms/step
Epoch 33/75
36/36 - 10s - loss: 1.6094 - accuracy: 0.2000 - val_loss: 1.6096 - val_accuracy: 0.0074 - lr: 0.0010 - 10s/epoch - 281ms/step
Epoch 34/75
36/36 - 10s - loss: 1.6094 - accuracy: 0.2000 - val_loss: 1.6096 - val_accuracy: 0.0074 - lr: 0.0010 - 10s/epoch - 282ms/step
Epoch 35/75
36/36 - 10s - loss: 1.6094 - accuracy: 0.1992 - val_loss: 1.6097 - val_accuracy: 0.0661 - lr: 0.0010 - 10s/epoch - 282ms/step
Epoch 36/75
36/36 - 10s - loss: 1.6094 - accuracy: 0.1999 - val_loss: 1.6096 - val_accuracy: 0.0661 - lr: 0.0010 - 10s/epoch - 282ms/step
Epoch 37/75
36/36 - 10s - loss: 1.6094 - accuracy: 0.2000 - val_loss: 1.6101 - val_accuracy: 0.0661 - lr: 0.0010 - 10s/epoch - 281ms/step
Epoch 38/75
36/36 - 10s - loss: 1.6094 - accuracy: 0.2000 - val_loss: 1.6102 - val_accuracy: 0.0661 - lr: 0.0010 - 10s/epoch - 282ms/step
Epoch 39/75
36/36 - 10s - loss: 1.6094 - accuracy: 0.2000 - val_loss: 1.6104 - val_accuracy: 0.0661 - lr: 0.0010 - 10s/epoch - 282ms/step
Epoch 40/75
36/36 - 10s - loss: 1.6094 - accuracy: 0.2000 - val_loss: 1.6102 - val_accuracy: 0.0661 - lr: 0.0010 - 10s/epoch - 285ms/step
Epoch 41/75
36/36 - 10s - loss: 1.6094 - accuracy: 0.2000 - val_loss: 1.6093 - val_accuracy: 0.0661 - lr: 0.0010 - 10s/epoch - 281ms/step
Epoch 42/75
36/36 - 10s - loss: 1.6094 - accuracy: 0.1984 - val_loss: 1.6097 - val_accuracy: 0.0661 - lr: 0.0010 - 10s/epoch - 283ms/step
Epoch 43/75
36/36 - 10s - loss: 1.6094 - accuracy: 0.2003 - val_loss: 1.6098 - val_accuracy: 0.0661 - lr: 0.0010 - 10s/epoch - 280ms/step
Epoch 44/75
36/36 - 10s - loss: 1.6094 - accuracy: 0.2001 - val_loss: 1.6096 - val_accuracy: 0.0661 - lr: 0.0010 - 10s/epoch - 283ms/step
Epoch 45/75
36/36 - 10s - loss: 1.6094 - accuracy: 0.2000 - val_loss: 1.6099 - val_accuracy: 0.0661 - lr: 0.0010 - 10s/epoch - 281ms/step
Epoch 46/75
36/36 - 10s - loss: 1.6094 - accuracy: 0.2000 - val_loss: 1.6094 - val_accuracy: 0.0661 - lr: 0.0010 - 10s/epoch - 282ms/step
Epoch 47/75
36/36 - 10s - loss: 1.6094 - accuracy: 0.1983 - val_loss: 1.6088 - val_accuracy: 0.8276 - lr: 0.0010 - 10s/epoch - 280ms/step
Epoch 48/75
36/36 - 10s - loss: 1.6094 - accuracy: 0.1988 - val_loss: 1.6090 - val_accuracy: 0.0074 - lr: 0.0010 - 10s/epoch - 282ms/step
Epoch 49/75
36/36 - 10s - loss: 1.6094 - accuracy: 0.2000 - val_loss: 1.6093 - val_accuracy: 0.0074 - lr: 0.0010 - 10s/epoch - 282ms/step
Epoch 50/75
36/36 - 10s - loss: 1.6094 - accuracy: 0.2000 - val_loss: 1.6098 - val_accuracy: 0.0074 - lr: 0.0010 - 10s/epoch - 280ms/step
Epoch 51/75
36/36 - 10s - loss: 1.6094 - accuracy: 0.1983 - val_loss: 1.6099 - val_accuracy: 0.0254 - lr: 0.0010 - 10s/epoch - 281ms/step
Epoch 52/75
36/36 - 10s - loss: 1.6094 - accuracy: 0.1992 - val_loss: 1.6101 - val_accuracy: 0.0074 - lr: 0.0010 - 10s/epoch - 281ms/step
Epoch 53/75
36/36 - 10s - loss: 1.6094 - accuracy: 0.2000 - val_loss: 1.6108 - val_accuracy: 0.0074 - lr: 0.0010 - 10s/epoch - 281ms/step
Epoch 54/75
36/36 - 10s - loss: 1.6094 - accuracy: 0.2000 - val_loss: 1.6105 - val_accuracy: 0.0074 - lr: 0.0010 - 10s/epoch - 282ms/step
Epoch 55/75
36/36 - 10s - loss: 1.6094 - accuracy: 0.1997 - val_loss: 1.6104 - val_accuracy: 0.0254 - lr: 0.0010 - 10s/epoch - 281ms/step
Epoch 56/75
36/36 - 10s - loss: 1.6094 - accuracy: 0.2000 - val_loss: 1.6101 - val_accuracy: 0.0254 - lr: 0.0010 - 10s/epoch - 282ms/step
Epoch 57/75
36/36 - 10s - loss: 1.6094 - accuracy: 0.2000 - val_loss: 1.6102 - val_accuracy: 0.0254 - lr: 0.0010 - 10s/epoch - 281ms/step
Epoch 58/75
36/36 - 10s - loss: 1.6094 - accuracy: 0.2000 - val_loss: 1.6108 - val_accuracy: 0.0254 - lr: 0.0010 - 10s/epoch - 281ms/step
Epoch 59/75
36/36 - 10s - loss: 1.6094 - accuracy: 0.2000 - val_loss: 1.6111 - val_accuracy: 0.0254 - lr: 0.0010 - 10s/epoch - 283ms/step
Epoch 60/75
36/36 - 10s - loss: 1.6094 - accuracy: 0.2000 - val_loss: 1.6099 - val_accuracy: 0.0254 - lr: 0.0010 - 10s/epoch - 283ms/step
Epoch 61/75
36/36 - 10s - loss: 1.6094 - accuracy: 0.2000 - val_loss: 1.6101 - val_accuracy: 0.0254 - lr: 0.0010 - 10s/epoch - 281ms/step
Epoch 62/75
36/36 - 10s - loss: 1.6094 - accuracy: 0.2000 - val_loss: 1.6102 - val_accuracy: 0.0254 - lr: 0.0010 - 10s/epoch - 281ms/step
Epoch 63/75
36/36 - 10s - loss: 1.6094 - accuracy: 0.2000 - val_loss: 1.6104 - val_accuracy: 0.0254 - lr: 0.0010 - 10s/epoch - 282ms/step
Epoch 64/75
36/36 - 10s - loss: 1.6094 - accuracy: 0.2000 - val_loss: 1.6098 - val_accuracy: 0.0254 - lr: 0.0010 - 10s/epoch - 282ms/step
Epoch 65/75
36/36 - 10s - loss: 1.6094 - accuracy: 0.2000 - val_loss: 1.6092 - val_accuracy: 0.0254 - lr: 0.0010 - 10s/epoch - 283ms/step
Epoch 66/75
36/36 - 10s - loss: 1.6094 - accuracy: 0.2000 - val_loss: 1.6092 - val_accuracy: 0.0254 - lr: 0.0010 - 10s/epoch - 282ms/step
Epoch 67/75
36/36 - 10s - loss: 1.6094 - accuracy: 0.2000 - val_loss: 1.6096 - val_accuracy: 0.0254 - lr: 0.0010 - 10s/epoch - 281ms/step
Epoch 68/75
36/36 - 10s - loss: 1.6094 - accuracy: 0.2000 - val_loss: 1.6093 - val_accuracy: 0.0254 - lr: 0.0010 - 10s/epoch - 283ms/step
Epoch 69/75
36/36 - 10s - loss: 1.6094 - accuracy: 0.2000 - val_loss: 1.6089 - val_accuracy: 0.0254 - lr: 0.0010 - 10s/epoch - 282ms/step
Epoch 70/75
36/36 - 10s - loss: 1.6094 - accuracy: 0.2000 - val_loss: 1.6095 - val_accuracy: 0.0254 - lr: 0.0010 - 10s/epoch - 282ms/step
Epoch 71/75
36/36 - 10s - loss: 1.6094 - accuracy: 0.1992 - val_loss: 1.6104 - val_accuracy: 0.0074 - lr: 0.0010 - 10s/epoch - 281ms/step
Epoch 72/75
36/36 - 10s - loss: 1.6094 - accuracy: 0.2011 - val_loss: 1.6108 - val_accuracy: 0.0254 - lr: 0.0010 - 10s/epoch - 281ms/step
Epoch 73/75
36/36 - 10s - loss: 1.6094 - accuracy: 0.2001 - val_loss: 1.6110 - val_accuracy: 0.0254 - lr: 0.0010 - 10s/epoch - 282ms/step
Epoch 74/75
36/36 - 10s - loss: 1.6094 - accuracy: 0.2001 - val_loss: 1.6116 - val_accuracy: 0.0254 - lr: 0.0010 - 10s/epoch - 282ms/step
Epoch 75/75
36/36 - 10s - loss: 1.6094 - accuracy: 0.1999 - val_loss: 1.6113 - val_accuracy: 0.0661 - lr: 0.0010 - 10s/epoch - 281ms/step
Epoch 1/100
4378/4378 - 76s - loss: 1.6095 - accuracy: 0.1985 - val_loss: 1.6143 - val_accuracy: 0.0735 - lr: 0.0010 - 76s/epoch - 17ms/step
Epoch 2/100
4378/4378 - 74s - loss: 1.6095 - accuracy: 0.1991 - val_loss: 1.6112 - val_accuracy: 0.0735 - lr: 0.0010 - 74s/epoch - 17ms/step
Epoch 3/100
4378/4378 - 74s - loss: 1.6095 - accuracy: 0.1980 - val_loss: 1.6113 - val_accuracy: 0.0254 - lr: 0.0010 - 74s/epoch - 17ms/step
Epoch 4/100
4378/4378 - 74s - loss: 1.6095 - accuracy: 0.1996 - val_loss: 1.6123 - val_accuracy: 0.0254 - lr: 0.0010 - 74s/epoch - 17ms/step
Epoch 5/100
4378/4378 - 74s - loss: 1.6095 - accuracy: 0.2003 - val_loss: 1.6263 - val_accuracy: 0.0074 - lr: 0.0010 - 74s/epoch - 17ms/step
Epoch 6/100
4378/4378 - 74s - loss: 1.6095 - accuracy: 0.1987 - val_loss: 1.6046 - val_accuracy: 0.8276 - lr: 0.0010 - 74s/epoch - 17ms/step
Epoch 7/100
4378/4378 - 73s - loss: 1.6095 - accuracy: 0.1973 - val_loss: 1.6050 - val_accuracy: 0.8276 - lr: 0.0010 - 73s/epoch - 17ms/step
Epoch 8/100
4378/4378 - 73s - loss: 1.6095 - accuracy: 0.1994 - val_loss: 1.6034 - val_accuracy: 0.8276 - lr: 0.0010 - 73s/epoch - 17ms/step
Epoch 9/100
4378/4378 - 73s - loss: 1.6095 - accuracy: 0.1966 - val_loss: 1.6077 - val_accuracy: 0.0254 - lr: 0.0010 - 73s/epoch - 17ms/step
Epoch 10/100
4378/4378 - 74s - loss: 1.6095 - accuracy: 0.1977 - val_loss: 1.6092 - val_accuracy: 0.0254 - lr: 0.0010 - 74s/epoch - 17ms/step
Epoch 11/100
4378/4378 - 74s - loss: 1.6095 - accuracy: 0.1997 - val_loss: 1.6127 - val_accuracy: 0.0254 - lr: 0.0010 - 74s/epoch - 17ms/step
Epoch 12/100
4378/4378 - 76s - loss: 1.6095 - accuracy: 0.1999 - val_loss: 1.6078 - val_accuracy: 0.0661 - lr: 0.0010 - 76s/epoch - 17ms/step
Epoch 13/100
4378/4378 - 74s - loss: 1.6095 - accuracy: 0.1985 - val_loss: 1.6133 - val_accuracy: 0.0735 - lr: 0.0010 - 74s/epoch - 17ms/step
Epoch 14/100
4378/4378 - 74s - loss: 1.6095 - accuracy: 0.1986 - val_loss: 1.6014 - val_accuracy: 0.0074 - lr: 0.0010 - 74s/epoch - 17ms/step
Epoch 15/100
4378/4378 - 74s - loss: 1.6095 - accuracy: 0.1994 - val_loss: 1.6117 - val_accuracy: 0.0735 - lr: 0.0010 - 74s/epoch - 17ms/step
Epoch 16/100
4378/4378 - 74s - loss: 1.6095 - accuracy: 0.2001 - val_loss: 1.6066 - val_accuracy: 0.0735 - lr: 0.0010 - 74s/epoch - 17ms/step
Epoch 17/100
4378/4378 - 74s - loss: 1.6095 - accuracy: 0.1993 - val_loss: 1.6165 - val_accuracy: 0.0735 - lr: 0.0010 - 74s/epoch - 17ms/step
Epoch 18/100
4378/4378 - 73s - loss: 1.6095 - accuracy: 0.1998 - val_loss: 1.6089 - val_accuracy: 0.0661 - lr: 0.0010 - 73s/epoch - 17ms/step
Epoch 19/100
4378/4378 - 74s - loss: 1.6095 - accuracy: 0.1972 - val_loss: 1.6039 - val_accuracy: 0.8276 - lr: 0.0010 - 74s/epoch - 17ms/step
Epoch 20/100
4378/4378 - 74s - loss: 1.6095 - accuracy: 0.1966 - val_loss: 1.6055 - val_accuracy: 0.8276 - lr: 0.0010 - 74s/epoch - 17ms/step
Epoch 21/100
4378/4378 - 74s - loss: 1.6095 - accuracy: 0.1992 - val_loss: 1.6042 - val_accuracy: 0.8276 - lr: 0.0010 - 74s/epoch - 17ms/step
Epoch 22/100
4378/4378 - 74s - loss: 1.6095 - accuracy: 0.1990 - val_loss: 1.6162 - val_accuracy: 0.0661 - lr: 0.0010 - 74s/epoch - 17ms/step
Epoch 23/100
4378/4378 - 74s - loss: 1.6095 - accuracy: 0.1999 - val_loss: 1.6013 - val_accuracy: 0.8276 - lr: 0.0010 - 74s/epoch - 17ms/step
Epoch 24/100
4378/4378 - 74s - loss: 1.6095 - accuracy: 0.1964 - val_loss: 1.6058 - val_accuracy: 0.0735 - lr: 0.0010 - 74s/epoch - 17ms/step
Epoch 25/100
4378/4378 - 74s - loss: 1.6095 - accuracy: 0.1968 - val_loss: 1.6099 - val_accuracy: 0.0254 - lr: 0.0010 - 74s/epoch - 17ms/step
Epoch 26/100
4378/4378 - 74s - loss: 1.6095 - accuracy: 0.2002 - val_loss: 1.6123 - val_accuracy: 0.0074 - lr: 0.0010 - 74s/epoch - 17ms/step
Epoch 27/100
4378/4378 - 74s - loss: 1.6095 - accuracy: 0.1993 - val_loss: 1.6066 - val_accuracy: 0.0735 - lr: 0.0010 - 74s/epoch - 17ms/step
Epoch 28/100
4378/4378 - 73s - loss: 1.6095 - accuracy: 0.1980 - val_loss: 1.6116 - val_accuracy: 0.0074 - lr: 0.0010 - 73s/epoch - 17ms/step
Epoch 29/100
4378/4378 - 73s - loss: 1.6095 - accuracy: 0.1990 - val_loss: 1.6083 - val_accuracy: 0.0074 - lr: 0.0010 - 73s/epoch - 17ms/step
Epoch 30/100
4378/4378 - 74s - loss: 1.6095 - accuracy: 0.1983 - val_loss: 1.6128 - val_accuracy: 0.0254 - lr: 0.0010 - 74s/epoch - 17ms/step
Epoch 31/100
4378/4378 - 74s - loss: 1.6095 - accuracy: 0.1991 - val_loss: 1.6049 - val_accuracy: 0.8276 - lr: 0.0010 - 74s/epoch - 17ms/step
Epoch 32/100
4378/4378 - 74s - loss: 1.6095 - accuracy: 0.1980 - val_loss: 1.6070 - val_accuracy: 0.0735 - lr: 0.0010 - 74s/epoch - 17ms/step
Epoch 33/100
4378/4378 - 73s - loss: 1.6095 - accuracy: 0.1966 - val_loss: 1.6130 - val_accuracy: 0.0661 - lr: 0.0010 - 73s/epoch - 17ms/step
Epoch 34/100
4378/4378 - 74s - loss: 1.6095 - accuracy: 0.1991 - val_loss: 1.6065 - val_accuracy: 0.8276 - lr: 0.0010 - 74s/epoch - 17ms/step
Epoch 35/100
4378/4378 - 74s - loss: 1.6095 - accuracy: 0.1980 - val_loss: 1.6129 - val_accuracy: 0.0661 - lr: 0.0010 - 74s/epoch - 17ms/step
Epoch 36/100
4378/4378 - 74s - loss: 1.6095 - accuracy: 0.1967 - val_loss: 1.6087 - val_accuracy: 0.0735 - lr: 0.0010 - 74s/epoch - 17ms/step
Epoch 37/100
4378/4378 - 74s - loss: 1.6095 - accuracy: 0.1997 - val_loss: 1.6115 - val_accuracy: 0.0254 - lr: 0.0010 - 74s/epoch - 17ms/step
Epoch 38/100
4378/4378 - 74s - loss: 1.6095 - accuracy: 0.1986 - val_loss: 1.6101 - val_accuracy: 0.0254 - lr: 0.0010 - 74s/epoch - 17ms/step
Epoch 39/100
4378/4378 - 74s - loss: 1.6095 - accuracy: 0.1988 - val_loss: 1.6031 - val_accuracy: 0.8276 - lr: 0.0010 - 74s/epoch - 17ms/step
Epoch 40/100
4378/4378 - 74s - loss: 1.6095 - accuracy: 0.1981 - val_loss: 1.6091 - val_accuracy: 0.0735 - lr: 0.0010 - 74s/epoch - 17ms/step
Epoch 41/100
4378/4378 - 74s - loss: 1.6095 - accuracy: 0.1988 - val_loss: 1.6182 - val_accuracy: 0.0074 - lr: 0.0010 - 74s/epoch - 17ms/step
Epoch 42/100
4378/4378 - 75s - loss: 1.6095 - accuracy: 0.1992 - val_loss: 1.6162 - val_accuracy: 0.0074 - lr: 0.0010 - 75s/epoch - 17ms/step
Epoch 43/100
4378/4378 - 74s - loss: 1.6095 - accuracy: 0.2012 - val_loss: 1.6140 - val_accuracy: 0.0254 - lr: 0.0010 - 74s/epoch - 17ms/step
Epoch 44/100
4378/4378 - 74s - loss: 1.6095 - accuracy: 0.1975 - val_loss: 1.6108 - val_accuracy: 0.0254 - lr: 0.0010 - 74s/epoch - 17ms/step
Epoch 45/100
4378/4378 - 74s - loss: 1.6095 - accuracy: 0.1995 - val_loss: 1.6166 - val_accuracy: 0.0074 - lr: 0.0010 - 74s/epoch - 17ms/step
Epoch 46/100
4378/4378 - 74s - loss: 1.6095 - accuracy: 0.1979 - val_loss: 1.6140 - val_accuracy: 0.0074 - lr: 0.0010 - 74s/epoch - 17ms/step
Epoch 47/100
4378/4378 - 74s - loss: 1.6095 - accuracy: 0.2010 - val_loss: 1.6180 - val_accuracy: 0.0661 - lr: 0.0010 - 74s/epoch - 17ms/step
Epoch 48/100
4378/4378 - 74s - loss: 1.6095 - accuracy: 0.1980 - val_loss: 1.6094 - val_accuracy: 0.0735 - lr: 0.0010 - 74s/epoch - 17ms/step
Epoch 49/100
4378/4378 - 74s - loss: 1.6095 - accuracy: 0.1964 - val_loss: 1.6069 - val_accuracy: 0.0661 - lr: 0.0010 - 74s/epoch - 17ms/step
Epoch 50/100
4378/4378 - 74s - loss: 1.6095 - accuracy: 0.1990 - val_loss: 1.6138 - val_accuracy: 0.0254 - lr: 0.0010 - 74s/epoch - 17ms/step
Epoch 51/100
4378/4378 - 75s - loss: 1.6095 - accuracy: 0.1978 - val_loss: 1.6008 - val_accuracy: 0.8276 - lr: 0.0010 - 75s/epoch - 17ms/step
Epoch 52/100
4378/4378 - 74s - loss: 1.6095 - accuracy: 0.1997 - val_loss: 1.6127 - val_accuracy: 0.0661 - lr: 0.0010 - 74s/epoch - 17ms/step
Epoch 53/100
4378/4378 - 74s - loss: 1.6095 - accuracy: 0.1971 - val_loss: 1.6025 - val_accuracy: 0.0661 - lr: 0.0010 - 74s/epoch - 17ms/step
Epoch 54/100
4378/4378 - 74s - loss: 1.6095 - accuracy: 0.1977 - val_loss: 1.6170 - val_accuracy: 0.0074 - lr: 0.0010 - 74s/epoch - 17ms/step
Epoch 55/100
4378/4378 - 74s - loss: 1.6095 - accuracy: 0.1998 - val_loss: 1.6142 - val_accuracy: 0.0661 - lr: 0.0010 - 74s/epoch - 17ms/step
Epoch 56/100
4378/4378 - 74s - loss: 1.6095 - accuracy: 0.2010 - val_loss: 1.6097 - val_accuracy: 0.0661 - lr: 0.0010 - 74s/epoch - 17ms/step
Epoch 57/100
4378/4378 - 74s - loss: 1.6095 - accuracy: 0.1976 - val_loss: 1.6145 - val_accuracy: 0.0661 - lr: 0.0010 - 74s/epoch - 17ms/step
Epoch 58/100
4378/4378 - 74s - loss: 1.6095 - accuracy: 0.1988 - val_loss: 1.6096 - val_accuracy: 0.0074 - lr: 0.0010 - 74s/epoch - 17ms/step
Epoch 59/100
4378/4378 - 75s - loss: 1.6095 - accuracy: 0.1968 - val_loss: 1.6075 - val_accuracy: 0.0735 - lr: 0.0010 - 75s/epoch - 17ms/step
Epoch 60/100
4378/4378 - 77s - loss: 1.6095 - accuracy: 0.1977 - val_loss: 1.6096 - val_accuracy: 0.0735 - lr: 0.0010 - 77s/epoch - 17ms/step
Epoch 61/100
4378/4378 - 74s - loss: 1.6095 - accuracy: 0.1990 - val_loss: 1.6147 - val_accuracy: 0.0074 - lr: 0.0010 - 74s/epoch - 17ms/step
Epoch 62/100
4378/4378 - 74s - loss: 1.6095 - accuracy: 0.2008 - val_loss: 1.6101 - val_accuracy: 0.0735 - lr: 0.0010 - 74s/epoch - 17ms/step
Epoch 63/100
4378/4378 - 74s - loss: 1.6095 - accuracy: 0.1988 - val_loss: 1.6230 - val_accuracy: 0.0254 - lr: 0.0010 - 74s/epoch - 17ms/step
Epoch 64/100
4378/4378 - 74s - loss: 1.6095 - accuracy: 0.1986 - val_loss: 1.6153 - val_accuracy: 0.0254 - lr: 0.0010 - 74s/epoch - 17ms/step
Epoch 65/100
4378/4378 - 74s - loss: 1.6095 - accuracy: 0.1977 - val_loss: 1.6119 - val_accuracy: 0.0661 - lr: 0.0010 - 74s/epoch - 17ms/step
Epoch 66/100
4378/4378 - 75s - loss: 1.6095 - accuracy: 0.1981 - val_loss: 1.6129 - val_accuracy: 0.0254 - lr: 0.0010 - 75s/epoch - 17ms/step
Epoch 67/100
4378/4378 - 74s - loss: 1.6095 - accuracy: 0.2003 - val_loss: 1.6084 - val_accuracy: 0.0074 - lr: 0.0010 - 74s/epoch - 17ms/step
Epoch 68/100
4378/4378 - 74s - loss: 1.6095 - accuracy: 0.1975 - val_loss: 1.6079 - val_accuracy: 0.0661 - lr: 0.0010 - 74s/epoch - 17ms/step
Epoch 69/100
4378/4378 - 74s - loss: 1.6095 - accuracy: 0.1981 - val_loss: 1.6174 - val_accuracy: 0.0661 - lr: 0.0010 - 74s/epoch - 17ms/step
Epoch 70/100
4378/4378 - 74s - loss: 1.6095 - accuracy: 0.1985 - val_loss: 1.6206 - val_accuracy: 0.0735 - lr: 0.0010 - 74s/epoch - 17ms/step
Epoch 71/100
4378/4378 - 74s - loss: 1.6095 - accuracy: 0.1980 - val_loss: 1.6041 - val_accuracy: 0.0661 - lr: 0.0010 - 74s/epoch - 17ms/step
Epoch 72/100
4378/4378 - 74s - loss: 1.6095 - accuracy: 0.1999 - val_loss: 1.6081 - val_accuracy: 0.0254 - lr: 0.0010 - 74s/epoch - 17ms/step
Epoch 73/100
4378/4378 - 74s - loss: 1.6095 - accuracy: 0.1989 - val_loss: 1.6145 - val_accuracy: 0.0074 - lr: 0.0010 - 74s/epoch - 17ms/step
Epoch 74/100
4378/4378 - 74s - loss: 1.6095 - accuracy: 0.1988 - val_loss: 1.5995 - val_accuracy: 0.8276 - lr: 0.0010 - 74s/epoch - 17ms/step
Epoch 75/100
4378/4378 - 74s - loss: 1.6095 - accuracy: 0.1971 - val_loss: 1.6131 - val_accuracy: 0.0074 - lr: 0.0010 - 74s/epoch - 17ms/step
Epoch 76/100
4378/4378 - 75s - loss: 1.6095 - accuracy: 0.1987 - val_loss: 1.5981 - val_accuracy: 0.8276 - lr: 0.0010 - 75s/epoch - 17ms/step
Epoch 77/100
4378/4378 - 74s - loss: 1.6095 - accuracy: 0.1989 - val_loss: 1.6173 - val_accuracy: 0.0254 - lr: 0.0010 - 74s/epoch - 17ms/step
Epoch 78/100
4378/4378 - 74s - loss: 1.6095 - accuracy: 0.1997 - val_loss: 1.6179 - val_accuracy: 0.0074 - lr: 0.0010 - 74s/epoch - 17ms/step
Epoch 79/100
4378/4378 - 74s - loss: 1.6095 - accuracy: 0.2002 - val_loss: 1.6109 - val_accuracy: 0.0735 - lr: 0.0010 - 74s/epoch - 17ms/step
Epoch 80/100
4378/4378 - 74s - loss: 1.6095 - accuracy: 0.1983 - val_loss: 1.6169 - val_accuracy: 0.0074 - lr: 0.0010 - 74s/epoch - 17ms/step
Epoch 81/100
4378/4378 - 74s - loss: 1.6095 - accuracy: 0.2005 - val_loss: 1.6028 - val_accuracy: 0.8276 - lr: 0.0010 - 74s/epoch - 17ms/step
Epoch 82/100
4378/4378 - 74s - loss: 1.6095 - accuracy: 0.2019 - val_loss: 1.6160 - val_accuracy: 0.0254 - lr: 0.0010 - 74s/epoch - 17ms/step
Epoch 83/100
4378/4378 - 74s - loss: 1.6095 - accuracy: 0.1992 - val_loss: 1.6270 - val_accuracy: 0.0735 - lr: 0.0010 - 74s/epoch - 17ms/step
Epoch 84/100
4378/4378 - 74s - loss: 1.6095 - accuracy: 0.1992 - val_loss: 1.6172 - val_accuracy: 0.0735 - lr: 0.0010 - 74s/epoch - 17ms/step
Epoch 85/100
4378/4378 - 74s - loss: 1.6095 - accuracy: 0.2008 - val_loss: 1.6172 - val_accuracy: 0.0735 - lr: 0.0010 - 74s/epoch - 17ms/step
Epoch 86/100
4378/4378 - 74s - loss: 1.6095 - accuracy: 0.2021 - val_loss: 1.6155 - val_accuracy: 0.0254 - lr: 0.0010 - 74s/epoch - 17ms/step
Epoch 87/100
4378/4378 - 75s - loss: 1.6095 - accuracy: 0.1993 - val_loss: 1.6014 - val_accuracy: 0.0254 - lr: 0.0010 - 75s/epoch - 17ms/step
Epoch 88/100
4378/4378 - 74s - loss: 1.6095 - accuracy: 0.1986 - val_loss: 1.6219 - val_accuracy: 0.0735 - lr: 0.0010 - 74s/epoch - 17ms/step
Epoch 89/100
4378/4378 - 74s - loss: 1.6095 - accuracy: 0.1993 - val_loss: 1.6159 - val_accuracy: 0.0735 - lr: 0.0010 - 74s/epoch - 17ms/step
Epoch 90/100
4378/4378 - 74s - loss: 1.6095 - accuracy: 0.1983 - val_loss: 1.6070 - val_accuracy: 0.0074 - lr: 0.0010 - 74s/epoch - 17ms/step
Epoch 91/100
4378/4378 - 74s - loss: 1.6095 - accuracy: 0.1981 - val_loss: 1.6165 - val_accuracy: 0.0074 - lr: 0.0010 - 74s/epoch - 17ms/step
Epoch 92/100
4378/4378 - 74s - loss: 1.6095 - accuracy: 0.1990 - val_loss: 1.6058 - val_accuracy: 0.0735 - lr: 0.0010 - 74s/epoch - 17ms/step
Epoch 93/100
4378/4378 - 74s - loss: 1.6095 - accuracy: 0.1976 - val_loss: 1.6107 - val_accuracy: 0.0074 - lr: 0.0010 - 74s/epoch - 17ms/step
Epoch 94/100
4378/4378 - 74s - loss: 1.6095 - accuracy: 0.2003 - val_loss: 1.6026 - val_accuracy: 0.8276 - lr: 0.0010 - 74s/epoch - 17ms/step
Epoch 95/100
4378/4378 - 74s - loss: 1.6095 - accuracy: 0.1985 - val_loss: 1.6081 - val_accuracy: 0.0254 - lr: 0.0010 - 74s/epoch - 17ms/step
Epoch 96/100
4378/4378 - 74s - loss: 1.6095 - accuracy: 0.2018 - val_loss: 1.6032 - val_accuracy: 0.0661 - lr: 0.0010 - 74s/epoch - 17ms/step
Epoch 97/100
4378/4378 - 74s - loss: 1.6095 - accuracy: 0.1996 - val_loss: 1.6012 - val_accuracy: 0.8276 - lr: 0.0010 - 74s/epoch - 17ms/step
Epoch 98/100
4378/4378 - 74s - loss: 1.6095 - accuracy: 0.1984 - val_loss: 1.6131 - val_accuracy: 0.0254 - lr: 0.0010 - 74s/epoch - 17ms/step
Epoch 99/100
4378/4378 - 74s - loss: 1.6095 - accuracy: 0.1969 - val_loss: 1.6024 - val_accuracy: 0.8276 - lr: 0.0010 - 74s/epoch - 17ms/step
Epoch 100/100
4378/4378 - 74s - loss: 1.6095 - accuracy: 0.2000 - val_loss: 1.6093 - val_accuracy: 0.0254 - lr: 0.0010 - 74s/epoch - 17ms/step
Epoch 1/100
876/876 - 22s - loss: 1.6095 - accuracy: 0.1995 - val_loss: 1.6125 - val_accuracy: 0.0254 - lr: 0.0010 - 22s/epoch - 25ms/step
Epoch 2/100
876/876 - 19s - loss: 1.6095 - accuracy: 0.1994 - val_loss: 1.6081 - val_accuracy: 0.0661 - lr: 0.0010 - 19s/epoch - 22ms/step
Epoch 3/100
876/876 - 19s - loss: 1.6095 - accuracy: 0.1993 - val_loss: 1.6134 - val_accuracy: 0.0661 - lr: 0.0010 - 19s/epoch - 22ms/step
Epoch 4/100
876/876 - 20s - loss: 1.6095 - accuracy: 0.1987 - val_loss: 1.6068 - val_accuracy: 0.0254 - lr: 0.0010 - 20s/epoch - 22ms/step
Epoch 5/100
876/876 - 19s - loss: 1.6095 - accuracy: 0.1985 - val_loss: 1.6129 - val_accuracy: 0.0735 - lr: 0.0010 - 19s/epoch - 22ms/step
Epoch 6/100
876/876 - 19s - loss: 1.6095 - accuracy: 0.1988 - val_loss: 1.6112 - val_accuracy: 0.0254 - lr: 0.0010 - 19s/epoch - 22ms/step
Epoch 7/100
876/876 - 20s - loss: 1.6095 - accuracy: 0.1991 - val_loss: 1.6174 - val_accuracy: 0.0661 - lr: 0.0010 - 20s/epoch - 23ms/step
Epoch 8/100
876/876 - 20s - loss: 1.6095 - accuracy: 0.1996 - val_loss: 1.6019 - val_accuracy: 0.8276 - lr: 0.0010 - 20s/epoch - 22ms/step
Epoch 9/100
876/876 - 20s - loss: 1.6095 - accuracy: 0.1963 - val_loss: 1.6109 - val_accuracy: 0.0074 - lr: 0.0010 - 20s/epoch - 22ms/step
Epoch 10/100
876/876 - 19s - loss: 1.6095 - accuracy: 0.1992 - val_loss: 1.6095 - val_accuracy: 0.0254 - lr: 0.0010 - 19s/epoch - 22ms/step
Epoch 11/100
876/876 - 20s - loss: 1.6095 - accuracy: 0.1987 - val_loss: 1.6087 - val_accuracy: 0.0074 - lr: 0.0010 - 20s/epoch - 22ms/step
Epoch 12/100
876/876 - 19s - loss: 1.6095 - accuracy: 0.1994 - val_loss: 1.6056 - val_accuracy: 0.8276 - lr: 0.0010 - 19s/epoch - 22ms/step
Epoch 13/100
876/876 - 20s - loss: 1.6095 - accuracy: 0.1995 - val_loss: 1.6131 - val_accuracy: 0.0074 - lr: 0.0010 - 20s/epoch - 22ms/step
Epoch 14/100
876/876 - 19s - loss: 1.6095 - accuracy: 0.1954 - val_loss: 1.6097 - val_accuracy: 0.0074 - lr: 0.0010 - 19s/epoch - 22ms/step
Epoch 15/100
876/876 - 20s - loss: 1.6095 - accuracy: 0.1959 - val_loss: 1.6106 - val_accuracy: 0.0254 - lr: 0.0010 - 20s/epoch - 22ms/step
Epoch 16/100
876/876 - 19s - loss: 1.6095 - accuracy: 0.1998 - val_loss: 1.6079 - val_accuracy: 0.0254 - lr: 0.0010 - 19s/epoch - 22ms/step
Epoch 17/100
876/876 - 20s - loss: 1.6095 - accuracy: 0.1984 - val_loss: 1.6087 - val_accuracy: 0.0735 - lr: 0.0010 - 20s/epoch - 22ms/step
Epoch 18/100
876/876 - 20s - loss: 1.6095 - accuracy: 0.1982 - val_loss: 1.6102 - val_accuracy: 0.0735 - lr: 0.0010 - 20s/epoch - 22ms/step
Epoch 19/100
876/876 - 20s - loss: 1.6095 - accuracy: 0.1969 - val_loss: 1.6063 - val_accuracy: 0.8276 - lr: 0.0010 - 20s/epoch - 22ms/step
Epoch 20/100
876/876 - 20s - loss: 1.6095 - accuracy: 0.1970 - val_loss: 1.6086 - val_accuracy: 0.0254 - lr: 0.0010 - 20s/epoch - 22ms/step
Epoch 21/100
876/876 - 20s - loss: 1.6095 - accuracy: 0.1991 - val_loss: 1.6039 - val_accuracy: 0.8276 - lr: 0.0010 - 20s/epoch - 22ms/step
Epoch 22/100
876/876 - 20s - loss: 1.6095 - accuracy: 0.1985 - val_loss: 1.6093 - val_accuracy: 0.0254 - lr: 0.0010 - 20s/epoch - 22ms/step
Epoch 23/100
876/876 - 20s - loss: 1.6095 - accuracy: 0.1986 - val_loss: 1.6108 - val_accuracy: 0.0254 - lr: 0.0010 - 20s/epoch - 22ms/step
Epoch 24/100
876/876 - 19s - loss: 1.6095 - accuracy: 0.1979 - val_loss: 1.6077 - val_accuracy: 0.8276 - lr: 0.0010 - 19s/epoch - 22ms/step
Epoch 25/100
876/876 - 20s - loss: 1.6095 - accuracy: 0.1984 - val_loss: 1.6121 - val_accuracy: 0.0254 - lr: 0.0010 - 20s/epoch - 22ms/step
Epoch 26/100
876/876 - 20s - loss: 1.6095 - accuracy: 0.2003 - val_loss: 1.6194 - val_accuracy: 0.0074 - lr: 0.0010 - 20s/epoch - 22ms/step
Epoch 27/100
876/876 - 20s - loss: 1.6095 - accuracy: 0.1997 - val_loss: 1.6112 - val_accuracy: 0.0074 - lr: 0.0010 - 20s/epoch - 22ms/step
Epoch 28/100
876/876 - 20s - loss: 1.6095 - accuracy: 0.1980 - val_loss: 1.6095 - val_accuracy: 0.0074 - lr: 0.0010 - 20s/epoch - 22ms/step
Epoch 29/100
876/876 - 20s - loss: 1.6095 - accuracy: 0.1986 - val_loss: 1.6078 - val_accuracy: 0.8276 - lr: 0.0010 - 20s/epoch - 22ms/step
Epoch 30/100
876/876 - 19s - loss: 1.6095 - accuracy: 0.1987 - val_loss: 1.6102 - val_accuracy: 0.0661 - lr: 0.0010 - 19s/epoch - 22ms/step
Epoch 31/100
876/876 - 19s - loss: 1.6095 - accuracy: 0.1978 - val_loss: 1.6073 - val_accuracy: 0.8276 - lr: 0.0010 - 19s/epoch - 22ms/step
Epoch 32/100
876/876 - 22s - loss: 1.6095 - accuracy: 0.1971 - val_loss: 1.6076 - val_accuracy: 0.0074 - lr: 0.0010 - 22s/epoch - 25ms/step
Epoch 33/100
876/876 - 20s - loss: 1.6095 - accuracy: 0.1992 - val_loss: 1.6049 - val_accuracy: 0.8276 - lr: 0.0010 - 20s/epoch - 22ms/step
Epoch 34/100
876/876 - 20s - loss: 1.6095 - accuracy: 0.1986 - val_loss: 1.6125 - val_accuracy: 0.0254 - lr: 0.0010 - 20s/epoch - 22ms/step
Epoch 35/100
876/876 - 20s - loss: 1.6095 - accuracy: 0.1957 - val_loss: 1.6093 - val_accuracy: 0.0074 - lr: 0.0010 - 20s/epoch - 22ms/step
Epoch 36/100
876/876 - 20s - loss: 1.6095 - accuracy: 0.1969 - val_loss: 1.6117 - val_accuracy: 0.0735 - lr: 0.0010 - 20s/epoch - 22ms/step
Epoch 37/100
876/876 - 20s - loss: 1.6095 - accuracy: 0.1979 - val_loss: 1.6100 - val_accuracy: 0.0254 - lr: 0.0010 - 20s/epoch - 22ms/step
Epoch 38/100
876/876 - 20s - loss: 1.6095 - accuracy: 0.1995 - val_loss: 1.6079 - val_accuracy: 0.0735 - lr: 0.0010 - 20s/epoch - 22ms/step
Epoch 39/100
876/876 - 20s - loss: 1.6095 - accuracy: 0.1978 - val_loss: 1.6139 - val_accuracy: 0.0254 - lr: 0.0010 - 20s/epoch - 22ms/step
Epoch 40/100
876/876 - 20s - loss: 1.6095 - accuracy: 0.1991 - val_loss: 1.6107 - val_accuracy: 0.0074 - lr: 0.0010 - 20s/epoch - 22ms/step
Epoch 41/100
876/876 - 20s - loss: 1.6095 - accuracy: 0.1966 - val_loss: 1.6117 - val_accuracy: 0.0661 - lr: 0.0010 - 20s/epoch - 22ms/step
Epoch 42/100
876/876 - 20s - loss: 1.6095 - accuracy: 0.1975 - val_loss: 1.6140 - val_accuracy: 0.0254 - lr: 0.0010 - 20s/epoch - 22ms/step
Epoch 43/100
876/876 - 20s - loss: 1.6095 - accuracy: 0.1986 - val_loss: 1.6090 - val_accuracy: 0.0074 - lr: 0.0010 - 20s/epoch - 22ms/step
Epoch 44/100
876/876 - 19s - loss: 1.6095 - accuracy: 0.1967 - val_loss: 1.6122 - val_accuracy: 0.0661 - lr: 0.0010 - 19s/epoch - 22ms/step
Epoch 45/100
876/876 - 20s - loss: 1.6095 - accuracy: 0.1984 - val_loss: 1.6042 - val_accuracy: 0.8276 - lr: 0.0010 - 20s/epoch - 22ms/step
Epoch 46/100
876/876 - 20s - loss: 1.6095 - accuracy: 0.1979 - val_loss: 1.6060 - val_accuracy: 0.8276 - lr: 0.0010 - 20s/epoch - 23ms/step
Epoch 47/100
876/876 - 19s - loss: 1.6095 - accuracy: 0.1994 - val_loss: 1.6230 - val_accuracy: 0.0661 - lr: 0.0010 - 19s/epoch - 22ms/step
Epoch 48/100
876/876 - 20s - loss: 1.6095 - accuracy: 0.1984 - val_loss: 1.6116 - val_accuracy: 0.0254 - lr: 0.0010 - 20s/epoch - 22ms/step
Epoch 49/100
876/876 - 20s - loss: 1.6095 - accuracy: 0.1978 - val_loss: 1.6079 - val_accuracy: 0.0735 - lr: 0.0010 - 20s/epoch - 22ms/step
Epoch 50/100
876/876 - 20s - loss: 1.6095 - accuracy: 0.1985 - val_loss: 1.6034 - val_accuracy: 0.8276 - lr: 0.0010 - 20s/epoch - 22ms/step
Epoch 51/100
876/876 - 20s - loss: 1.6095 - accuracy: 0.1990 - val_loss: 1.6101 - val_accuracy: 0.0074 - lr: 0.0010 - 20s/epoch - 22ms/step
Epoch 52/100
876/876 - 20s - loss: 1.6095 - accuracy: 0.1989 - val_loss: 1.6114 - val_accuracy: 0.0735 - lr: 0.0010 - 20s/epoch - 22ms/step
Epoch 53/100
876/876 - 20s - loss: 1.6095 - accuracy: 0.1988 - val_loss: 1.6062 - val_accuracy: 0.8276 - lr: 0.0010 - 20s/epoch - 22ms/step
Epoch 54/100
876/876 - 20s - loss: 1.6095 - accuracy: 0.1976 - val_loss: 1.6078 - val_accuracy: 0.8276 - lr: 0.0010 - 20s/epoch - 22ms/step
Epoch 55/100
876/876 - 20s - loss: 1.6095 - accuracy: 0.2006 - val_loss: 1.6091 - val_accuracy: 0.0735 - lr: 0.0010 - 20s/epoch - 22ms/step
Epoch 56/100
876/876 - 20s - loss: 1.6095 - accuracy: 0.1978 - val_loss: 1.6111 - val_accuracy: 0.0735 - lr: 0.0010 - 20s/epoch - 22ms/step
Epoch 57/100
876/876 - 19s - loss: 1.6095 - accuracy: 0.1981 - val_loss: 1.6108 - val_accuracy: 0.0074 - lr: 0.0010 - 19s/epoch - 22ms/step
Epoch 58/100
876/876 - 20s - loss: 1.6095 - accuracy: 0.1966 - val_loss: 1.6094 - val_accuracy: 0.0074 - lr: 0.0010 - 20s/epoch - 22ms/step
Epoch 59/100
876/876 - 20s - loss: 1.6095 - accuracy: 0.1976 - val_loss: 1.6081 - val_accuracy: 0.0661 - lr: 0.0010 - 20s/epoch - 22ms/step
Epoch 60/100
876/876 - 20s - loss: 1.6095 - accuracy: 0.1994 - val_loss: 1.6057 - val_accuracy: 0.8276 - lr: 0.0010 - 20s/epoch - 22ms/step
Epoch 61/100
876/876 - 19s - loss: 1.6095 - accuracy: 0.1985 - val_loss: 1.6085 - val_accuracy: 0.0661 - lr: 0.0010 - 19s/epoch - 22ms/step
Epoch 62/100
876/876 - 20s - loss: 1.6095 - accuracy: 0.1980 - val_loss: 1.6072 - val_accuracy: 0.0735 - lr: 0.0010 - 20s/epoch - 22ms/step
Epoch 63/100
876/876 - 20s - loss: 1.6095 - accuracy: 0.1967 - val_loss: 1.6059 - val_accuracy: 0.0735 - lr: 0.0010 - 20s/epoch - 23ms/step
Epoch 64/100
876/876 - 20s - loss: 1.6095 - accuracy: 0.1988 - val_loss: 1.6070 - val_accuracy: 0.0735 - lr: 0.0010 - 20s/epoch - 22ms/step
Epoch 65/100
876/876 - 20s - loss: 1.6095 - accuracy: 0.1989 - val_loss: 1.6103 - val_accuracy: 0.0735 - lr: 0.0010 - 20s/epoch - 22ms/step
Epoch 66/100
876/876 - 20s - loss: 1.6095 - accuracy: 0.1977 - val_loss: 1.6094 - val_accuracy: 0.0661 - lr: 0.0010 - 20s/epoch - 22ms/step
Epoch 67/100
876/876 - 20s - loss: 1.6095 - accuracy: 0.1988 - val_loss: 1.6033 - val_accuracy: 0.8276 - lr: 0.0010 - 20s/epoch - 22ms/step
Epoch 68/100
876/876 - 20s - loss: 1.6095 - accuracy: 0.1992 - val_loss: 1.6115 - val_accuracy: 0.0074 - lr: 0.0010 - 20s/epoch - 22ms/step
Epoch 69/100
876/876 - 20s - loss: 1.6095 - accuracy: 0.1987 - val_loss: 1.6084 - val_accuracy: 0.8276 - lr: 0.0010 - 20s/epoch - 22ms/step
Epoch 70/100
876/876 - 20s - loss: 1.6095 - accuracy: 0.1960 - val_loss: 1.6053 - val_accuracy: 0.8276 - lr: 0.0010 - 20s/epoch - 22ms/step
Epoch 71/100
876/876 - 20s - loss: 1.6095 - accuracy: 0.1985 - val_loss: 1.6086 - val_accuracy: 0.0661 - lr: 0.0010 - 20s/epoch - 22ms/step
Epoch 72/100
876/876 - 20s - loss: 1.6095 - accuracy: 0.1978 - val_loss: 1.6107 - val_accuracy: 0.0735 - lr: 0.0010 - 20s/epoch - 22ms/step
Epoch 73/100
876/876 - 20s - loss: 1.6095 - accuracy: 0.1968 - val_loss: 1.6111 - val_accuracy: 0.0661 - lr: 0.0010 - 20s/epoch - 22ms/step
Epoch 74/100
876/876 - 20s - loss: 1.6095 - accuracy: 0.1978 - val_loss: 1.6104 - val_accuracy: 0.0661 - lr: 0.0010 - 20s/epoch - 22ms/step
Epoch 75/100
876/876 - 19s - loss: 1.6095 - accuracy: 0.1993 - val_loss: 1.6064 - val_accuracy: 0.0735 - lr: 0.0010 - 19s/epoch - 22ms/step
Epoch 76/100
876/876 - 20s - loss: 1.6095 - accuracy: 0.1981 - val_loss: 1.6120 - val_accuracy: 0.0074 - lr: 0.0010 - 20s/epoch - 22ms/step
Epoch 77/100
876/876 - 20s - loss: 1.6095 - accuracy: 0.1973 - val_loss: 1.6063 - val_accuracy: 0.8276 - lr: 0.0010 - 20s/epoch - 22ms/step
Epoch 78/100
876/876 - 20s - loss: 1.6095 - accuracy: 0.1998 - val_loss: 1.6184 - val_accuracy: 0.0661 - lr: 0.0010 - 20s/epoch - 22ms/step
Epoch 79/100
876/876 - 20s - loss: 1.6095 - accuracy: 0.1994 - val_loss: 1.6138 - val_accuracy: 0.0661 - lr: 0.0010 - 20s/epoch - 22ms/step
Epoch 80/100
876/876 - 20s - loss: 1.6095 - accuracy: 0.2000 - val_loss: 1.6130 - val_accuracy: 0.0254 - lr: 0.0010 - 20s/epoch - 22ms/step
Epoch 81/100
876/876 - 20s - loss: 1.6095 - accuracy: 0.1992 - val_loss: 1.6154 - val_accuracy: 0.0661 - lr: 0.0010 - 20s/epoch - 22ms/step
Epoch 82/100
876/876 - 19s - loss: 1.6095 - accuracy: 0.1975 - val_loss: 1.6095 - val_accuracy: 0.0735 - lr: 0.0010 - 19s/epoch - 22ms/step
Epoch 83/100
876/876 - 20s - loss: 1.6095 - accuracy: 0.1988 - val_loss: 1.6139 - val_accuracy: 0.0074 - lr: 0.0010 - 20s/epoch - 22ms/step
Epoch 84/100
876/876 - 20s - loss: 1.6095 - accuracy: 0.1986 - val_loss: 1.6081 - val_accuracy: 0.0254 - lr: 0.0010 - 20s/epoch - 22ms/step
Epoch 85/100
876/876 - 20s - loss: 1.6095 - accuracy: 0.1976 - val_loss: 1.6073 - val_accuracy: 0.8276 - lr: 0.0010 - 20s/epoch - 22ms/step
Epoch 86/100
876/876 - 20s - loss: 1.6095 - accuracy: 0.1999 - val_loss: 1.6095 - val_accuracy: 0.0661 - lr: 0.0010 - 20s/epoch - 22ms/step
Epoch 87/100
876/876 - 20s - loss: 1.6095 - accuracy: 0.1994 - val_loss: 1.6117 - val_accuracy: 0.0254 - lr: 0.0010 - 20s/epoch - 22ms/step
Epoch 88/100
876/876 - 20s - loss: 1.6095 - accuracy: 0.1991 - val_loss: 1.6145 - val_accuracy: 0.0735 - lr: 0.0010 - 20s/epoch - 22ms/step
Epoch 89/100
876/876 - 20s - loss: 1.6095 - accuracy: 0.1983 - val_loss: 1.6125 - val_accuracy: 0.0735 - lr: 0.0010 - 20s/epoch - 22ms/step
Epoch 90/100
876/876 - 20s - loss: 1.6095 - accuracy: 0.1975 - val_loss: 1.6102 - val_accuracy: 0.0254 - lr: 0.0010 - 20s/epoch - 22ms/step
Epoch 91/100
876/876 - 19s - loss: 1.6095 - accuracy: 0.1987 - val_loss: 1.6067 - val_accuracy: 0.0254 - lr: 0.0010 - 19s/epoch - 22ms/step
Epoch 92/100
876/876 - 20s - loss: 1.6095 - accuracy: 0.1994 - val_loss: 1.6106 - val_accuracy: 0.0735 - lr: 0.0010 - 20s/epoch - 22ms/step
Epoch 93/100
876/876 - 20s - loss: 1.6095 - accuracy: 0.1991 - val_loss: 1.6096 - val_accuracy: 0.0074 - lr: 0.0010 - 20s/epoch - 22ms/step
Epoch 94/100
876/876 - 20s - loss: 1.6095 - accuracy: 0.1964 - val_loss: 1.6077 - val_accuracy: 0.0735 - lr: 0.0010 - 20s/epoch - 22ms/step
Epoch 95/100
876/876 - 20s - loss: 1.6095 - accuracy: 0.2005 - val_loss: 1.6143 - val_accuracy: 0.0074 - lr: 0.0010 - 20s/epoch - 22ms/step
Epoch 96/100
876/876 - 20s - loss: 1.6095 - accuracy: 0.1993 - val_loss: 1.6120 - val_accuracy: 0.0074 - lr: 0.0010 - 20s/epoch - 22ms/step
Epoch 97/100
876/876 - 20s - loss: 1.6095 - accuracy: 0.1977 - val_loss: 1.6114 - val_accuracy: 0.0074 - lr: 0.0010 - 20s/epoch - 23ms/step
Epoch 98/100
876/876 - 20s - loss: 1.6095 - accuracy: 0.1997 - val_loss: 1.6094 - val_accuracy: 0.0661 - lr: 0.0010 - 20s/epoch - 22ms/step
Epoch 99/100
876/876 - 20s - loss: 1.6095 - accuracy: 0.1959 - val_loss: 1.6115 - val_accuracy: 0.0661 - lr: 0.0010 - 20s/epoch - 22ms/step
Epoch 100/100
876/876 - 20s - loss: 1.6095 - accuracy: 0.1971 - val_loss: 1.6106 - val_accuracy: 0.0254 - lr: 0.0010 - 20s/epoch - 22ms/step
Epoch 1/100
176/176 - 14s - loss: 1.6094 - accuracy: 0.2000 - val_loss: 1.6108 - val_accuracy: 0.0254 - lr: 0.0010 - 14s/epoch - 81ms/step
Epoch 2/100
176/176 - 11s - loss: 1.6094 - accuracy: 0.1986 - val_loss: 1.6100 - val_accuracy: 0.0735 - lr: 0.0010 - 11s/epoch - 64ms/step
Epoch 3/100
176/176 - 11s - loss: 1.6095 - accuracy: 0.1979 - val_loss: 1.6112 - val_accuracy: 0.0254 - lr: 0.0010 - 11s/epoch - 64ms/step
Epoch 4/100
176/176 - 11s - loss: 1.6094 - accuracy: 0.1979 - val_loss: 1.6111 - val_accuracy: 0.0735 - lr: 0.0010 - 11s/epoch - 64ms/step
Epoch 5/100
176/176 - 11s - loss: 1.6095 - accuracy: 0.1983 - val_loss: 1.6109 - val_accuracy: 0.0735 - lr: 0.0010 - 11s/epoch - 65ms/step
Epoch 6/100
176/176 - 11s - loss: 1.6094 - accuracy: 0.1990 - val_loss: 1.6088 - val_accuracy: 0.0254 - lr: 0.0010 - 11s/epoch - 64ms/step
Epoch 7/100
176/176 - 11s - loss: 1.6094 - accuracy: 0.1999 - val_loss: 1.6083 - val_accuracy: 0.8276 - lr: 0.0010 - 11s/epoch - 64ms/step
Epoch 8/100
176/176 - 11s - loss: 1.6094 - accuracy: 0.1968 - val_loss: 1.6094 - val_accuracy: 0.0254 - lr: 0.0010 - 11s/epoch - 65ms/step
Epoch 9/100
176/176 - 11s - loss: 1.6094 - accuracy: 0.1991 - val_loss: 1.6095 - val_accuracy: 0.0661 - lr: 0.0010 - 11s/epoch - 64ms/step
Epoch 10/100
176/176 - 11s - loss: 1.6094 - accuracy: 0.1979 - val_loss: 1.6095 - val_accuracy: 0.0661 - lr: 0.0010 - 11s/epoch - 64ms/step
Epoch 11/100
176/176 - 11s - loss: 1.6094 - accuracy: 0.1989 - val_loss: 1.6095 - val_accuracy: 0.0254 - lr: 0.0010 - 11s/epoch - 64ms/step
Epoch 12/100
176/176 - 11s - loss: 1.6094 - accuracy: 0.1989 - val_loss: 1.6097 - val_accuracy: 0.0254 - lr: 0.0010 - 11s/epoch - 65ms/step
Epoch 13/100
176/176 - 11s - loss: 1.6095 - accuracy: 0.1975 - val_loss: 1.6093 - val_accuracy: 0.0254 - lr: 0.0010 - 11s/epoch - 64ms/step
Epoch 14/100
176/176 - 11s - loss: 1.6094 - accuracy: 0.1967 - val_loss: 1.6097 - val_accuracy: 0.0254 - lr: 0.0010 - 11s/epoch - 64ms/step
Epoch 15/100
176/176 - 11s - loss: 1.6094 - accuracy: 0.1966 - val_loss: 1.6099 - val_accuracy: 0.0074 - lr: 0.0010 - 11s/epoch - 64ms/step
Epoch 16/100
176/176 - 11s - loss: 1.6094 - accuracy: 0.1998 - val_loss: 1.6098 - val_accuracy: 0.0254 - lr: 0.0010 - 11s/epoch - 65ms/step
Epoch 17/100
176/176 - 11s - loss: 1.6095 - accuracy: 0.1988 - val_loss: 1.6098 - val_accuracy: 0.0254 - lr: 0.0010 - 11s/epoch - 65ms/step
Epoch 18/100
176/176 - 11s - loss: 1.6095 - accuracy: 0.1982 - val_loss: 1.6100 - val_accuracy: 0.0254 - lr: 0.0010 - 11s/epoch - 64ms/step
Epoch 19/100
176/176 - 11s - loss: 1.6095 - accuracy: 0.1958 - val_loss: 1.6089 - val_accuracy: 0.0735 - lr: 0.0010 - 11s/epoch - 64ms/step
Epoch 20/100
176/176 - 11s - loss: 1.6095 - accuracy: 0.1948 - val_loss: 1.6099 - val_accuracy: 0.0074 - lr: 0.0010 - 11s/epoch - 64ms/step
Epoch 21/100
176/176 - 11s - loss: 1.6095 - accuracy: 0.1980 - val_loss: 1.6104 - val_accuracy: 0.0735 - lr: 0.0010 - 11s/epoch - 64ms/step
Epoch 22/100
176/176 - 11s - loss: 1.6095 - accuracy: 0.1976 - val_loss: 1.6101 - val_accuracy: 0.0735 - lr: 0.0010 - 11s/epoch - 64ms/step
Epoch 23/100
176/176 - 11s - loss: 1.6094 - accuracy: 0.1965 - val_loss: 1.6096 - val_accuracy: 0.0661 - lr: 0.0010 - 11s/epoch - 64ms/step
Epoch 24/100
176/176 - 11s - loss: 1.6094 - accuracy: 0.1982 - val_loss: 1.6097 - val_accuracy: 0.0735 - lr: 0.0010 - 11s/epoch - 64ms/step
Epoch 25/100
176/176 - 11s - loss: 1.6095 - accuracy: 0.1989 - val_loss: 1.6102 - val_accuracy: 0.0735 - lr: 0.0010 - 11s/epoch - 64ms/step
Epoch 26/100
176/176 - 11s - loss: 1.6095 - accuracy: 0.1981 - val_loss: 1.6102 - val_accuracy: 0.0254 - lr: 0.0010 - 11s/epoch - 64ms/step
Epoch 27/100
176/176 - 11s - loss: 1.6094 - accuracy: 0.1989 - val_loss: 1.6107 - val_accuracy: 0.0735 - lr: 0.0010 - 11s/epoch - 64ms/step
Epoch 28/100
176/176 - 11s - loss: 1.6094 - accuracy: 0.1983 - val_loss: 1.6106 - val_accuracy: 0.0735 - lr: 0.0010 - 11s/epoch - 64ms/step
Epoch 29/100
176/176 - 11s - loss: 1.6094 - accuracy: 0.1990 - val_loss: 1.6101 - val_accuracy: 0.0735 - lr: 0.0010 - 11s/epoch - 64ms/step
Epoch 30/100
176/176 - 11s - loss: 1.6094 - accuracy: 0.1984 - val_loss: 1.6089 - val_accuracy: 0.8276 - lr: 0.0010 - 11s/epoch - 64ms/step
Epoch 31/100
176/176 - 11s - loss: 1.6094 - accuracy: 0.1981 - val_loss: 1.6102 - val_accuracy: 0.0735 - lr: 0.0010 - 11s/epoch - 64ms/step
Epoch 32/100
176/176 - 11s - loss: 1.6095 - accuracy: 0.1984 - val_loss: 1.6091 - val_accuracy: 0.0074 - lr: 0.0010 - 11s/epoch - 64ms/step
Epoch 33/100
176/176 - 11s - loss: 1.6094 - accuracy: 0.1996 - val_loss: 1.6093 - val_accuracy: 0.0074 - lr: 0.0010 - 11s/epoch - 65ms/step
Epoch 34/100
176/176 - 11s - loss: 1.6095 - accuracy: 0.1975 - val_loss: 1.6108 - val_accuracy: 0.0074 - lr: 0.0010 - 11s/epoch - 64ms/step
Epoch 35/100
176/176 - 11s - loss: 1.6094 - accuracy: 0.1997 - val_loss: 1.6097 - val_accuracy: 0.0661 - lr: 0.0010 - 11s/epoch - 64ms/step
Epoch 36/100
176/176 - 11s - loss: 1.6095 - accuracy: 0.1979 - val_loss: 1.6088 - val_accuracy: 0.8276 - lr: 0.0010 - 11s/epoch - 64ms/step
Epoch 37/100
176/176 - 11s - loss: 1.6094 - accuracy: 0.1996 - val_loss: 1.6098 - val_accuracy: 0.0735 - lr: 0.0010 - 11s/epoch - 64ms/step
Epoch 38/100
176/176 - 11s - loss: 1.6094 - accuracy: 0.1975 - val_loss: 1.6097 - val_accuracy: 0.0254 - lr: 0.0010 - 11s/epoch - 64ms/step
Epoch 39/100
176/176 - 11s - loss: 1.6094 - accuracy: 0.1978 - val_loss: 1.6098 - val_accuracy: 0.0254 - lr: 0.0010 - 11s/epoch - 65ms/step
Epoch 40/100
176/176 - 11s - loss: 1.6094 - accuracy: 0.1980 - val_loss: 1.6093 - val_accuracy: 0.0254 - lr: 0.0010 - 11s/epoch - 64ms/step
Epoch 41/100
176/176 - 11s - loss: 1.6095 - accuracy: 0.1994 - val_loss: 1.6094 - val_accuracy: 0.0735 - lr: 0.0010 - 11s/epoch - 64ms/step
Epoch 42/100
176/176 - 11s - loss: 1.6095 - accuracy: 0.1986 - val_loss: 1.6096 - val_accuracy: 0.0661 - lr: 0.0010 - 11s/epoch - 64ms/step
Epoch 43/100
176/176 - 11s - loss: 1.6095 - accuracy: 0.1968 - val_loss: 1.6097 - val_accuracy: 0.0074 - lr: 0.0010 - 11s/epoch - 64ms/step
Epoch 44/100
176/176 - 11s - loss: 1.6095 - accuracy: 0.1979 - val_loss: 1.6102 - val_accuracy: 0.0735 - lr: 0.0010 - 11s/epoch - 64ms/step
Epoch 45/100
176/176 - 11s - loss: 1.6095 - accuracy: 0.1977 - val_loss: 1.6099 - val_accuracy: 0.0074 - lr: 0.0010 - 11s/epoch - 64ms/step
Epoch 46/100
176/176 - 11s - loss: 1.6094 - accuracy: 0.1992 - val_loss: 1.6088 - val_accuracy: 0.8276 - lr: 0.0010 - 11s/epoch - 65ms/step
Epoch 47/100
176/176 - 11s - loss: 1.6094 - accuracy: 0.2004 - val_loss: 1.6087 - val_accuracy: 0.8276 - lr: 0.0010 - 11s/epoch - 65ms/step
Epoch 48/100
176/176 - 11s - loss: 1.6095 - accuracy: 0.1976 - val_loss: 1.6084 - val_accuracy: 0.8276 - lr: 0.0010 - 11s/epoch - 64ms/step
Epoch 49/100
176/176 - 11s - loss: 1.6094 - accuracy: 0.1986 - val_loss: 1.6093 - val_accuracy: 0.0735 - lr: 0.0010 - 11s/epoch - 64ms/step
Epoch 50/100
176/176 - 11s - loss: 1.6094 - accuracy: 0.1982 - val_loss: 1.6090 - val_accuracy: 0.0661 - lr: 0.0010 - 11s/epoch - 64ms/step
Epoch 51/100
176/176 - 11s - loss: 1.6094 - accuracy: 0.1986 - val_loss: 1.6099 - val_accuracy: 0.0074 - lr: 0.0010 - 11s/epoch - 64ms/step
Epoch 52/100
176/176 - 11s - loss: 1.6094 - accuracy: 0.1987 - val_loss: 1.6090 - val_accuracy: 0.0074 - lr: 0.0010 - 11s/epoch - 64ms/step
Epoch 53/100
176/176 - 11s - loss: 1.6095 - accuracy: 0.1973 - val_loss: 1.6087 - val_accuracy: 0.0074 - lr: 0.0010 - 11s/epoch - 64ms/step
Epoch 54/100
176/176 - 11s - loss: 1.6095 - accuracy: 0.1996 - val_loss: 1.6082 - val_accuracy: 0.8276 - lr: 0.0010 - 11s/epoch - 65ms/step
Epoch 55/100
176/176 - 11s - loss: 1.6095 - accuracy: 0.1957 - val_loss: 1.6093 - val_accuracy: 0.0074 - lr: 0.0010 - 11s/epoch - 64ms/step
Epoch 56/100
176/176 - 11s - loss: 1.6094 - accuracy: 0.1975 - val_loss: 1.6087 - val_accuracy: 0.0074 - lr: 0.0010 - 11s/epoch - 64ms/step
Epoch 57/100
176/176 - 11s - loss: 1.6094 - accuracy: 0.1992 - val_loss: 1.6085 - val_accuracy: 0.8276 - lr: 0.0010 - 11s/epoch - 64ms/step
Epoch 58/100
176/176 - 11s - loss: 1.6095 - accuracy: 0.1975 - val_loss: 1.6089 - val_accuracy: 0.8276 - lr: 0.0010 - 11s/epoch - 64ms/step
Epoch 59/100
176/176 - 11s - loss: 1.6094 - accuracy: 0.1966 - val_loss: 1.6097 - val_accuracy: 0.0661 - lr: 0.0010 - 11s/epoch - 64ms/step
Epoch 60/100
176/176 - 11s - loss: 1.6094 - accuracy: 0.1978 - val_loss: 1.6099 - val_accuracy: 0.0661 - lr: 0.0010 - 11s/epoch - 64ms/step
Epoch 61/100
176/176 - 11s - loss: 1.6094 - accuracy: 0.1983 - val_loss: 1.6094 - val_accuracy: 0.0661 - lr: 0.0010 - 11s/epoch - 64ms/step
Epoch 62/100
176/176 - 11s - loss: 1.6094 - accuracy: 0.1988 - val_loss: 1.6086 - val_accuracy: 0.8276 - lr: 0.0010 - 11s/epoch - 64ms/step
Epoch 63/100
176/176 - 11s - loss: 1.6094 - accuracy: 0.1981 - val_loss: 1.6094 - val_accuracy: 0.0661 - lr: 0.0010 - 11s/epoch - 64ms/step
Epoch 64/100
176/176 - 11s - loss: 1.6094 - accuracy: 0.1994 - val_loss: 1.6092 - val_accuracy: 0.0661 - lr: 0.0010 - 11s/epoch - 64ms/step
Epoch 65/100
176/176 - 11s - loss: 1.6094 - accuracy: 0.1975 - val_loss: 1.6090 - val_accuracy: 0.0735 - lr: 0.0010 - 11s/epoch - 64ms/step
Epoch 66/100
176/176 - 11s - loss: 1.6095 - accuracy: 0.1986 - val_loss: 1.6095 - val_accuracy: 0.0735 - lr: 0.0010 - 11s/epoch - 64ms/step
Epoch 67/100
176/176 - 11s - loss: 1.6095 - accuracy: 0.1980 - val_loss: 1.6077 - val_accuracy: 0.8276 - lr: 0.0010 - 11s/epoch - 64ms/step
Epoch 68/100
176/176 - 11s - loss: 1.6095 - accuracy: 0.1983 - val_loss: 1.6090 - val_accuracy: 0.0735 - lr: 0.0010 - 11s/epoch - 64ms/step
Epoch 69/100
176/176 - 11s - loss: 1.6095 - accuracy: 0.1985 - val_loss: 1.6092 - val_accuracy: 0.0661 - lr: 0.0010 - 11s/epoch - 64ms/step
Epoch 70/100
176/176 - 11s - loss: 1.6095 - accuracy: 0.1987 - val_loss: 1.6095 - val_accuracy: 0.0074 - lr: 0.0010 - 11s/epoch - 64ms/step
Epoch 71/100
176/176 - 11s - loss: 1.6094 - accuracy: 0.1974 - val_loss: 1.6099 - val_accuracy: 0.0661 - lr: 0.0010 - 11s/epoch - 64ms/step
Epoch 72/100
176/176 - 11s - loss: 1.6095 - accuracy: 0.1975 - val_loss: 1.6097 - val_accuracy: 0.0254 - lr: 0.0010 - 11s/epoch - 64ms/step
Epoch 73/100
176/176 - 11s - loss: 1.6094 - accuracy: 0.1992 - val_loss: 1.6095 - val_accuracy: 0.0254 - lr: 0.0010 - 11s/epoch - 64ms/step
Epoch 74/100
176/176 - 11s - loss: 1.6094 - accuracy: 0.1996 - val_loss: 1.6107 - val_accuracy: 0.0661 - lr: 0.0010 - 11s/epoch - 64ms/step
Epoch 75/100
176/176 - 11s - loss: 1.6095 - accuracy: 0.1989 - val_loss: 1.6100 - val_accuracy: 0.0254 - lr: 0.0010 - 11s/epoch - 64ms/step
Epoch 76/100
176/176 - 11s - loss: 1.6095 - accuracy: 0.1997 - val_loss: 1.6093 - val_accuracy: 0.0074 - lr: 0.0010 - 11s/epoch - 64ms/step
Epoch 77/100
176/176 - 11s - loss: 1.6094 - accuracy: 0.1985 - val_loss: 1.6103 - val_accuracy: 0.0735 - lr: 0.0010 - 11s/epoch - 64ms/step
Epoch 78/100
176/176 - 11s - loss: 1.6095 - accuracy: 0.1989 - val_loss: 1.6095 - val_accuracy: 0.0735 - lr: 0.0010 - 11s/epoch - 64ms/step
Epoch 79/100
176/176 - 11s - loss: 1.6094 - accuracy: 0.1988 - val_loss: 1.6094 - val_accuracy: 0.0254 - lr: 0.0010 - 11s/epoch - 64ms/step
Epoch 80/100
176/176 - 11s - loss: 1.6095 - accuracy: 0.1979 - val_loss: 1.6101 - val_accuracy: 0.0254 - lr: 0.0010 - 11s/epoch - 64ms/step
Epoch 81/100
176/176 - 11s - loss: 1.6095 - accuracy: 0.1993 - val_loss: 1.6085 - val_accuracy: 0.8276 - lr: 0.0010 - 11s/epoch - 64ms/step
Epoch 82/100
176/176 - 11s - loss: 1.6095 - accuracy: 0.1982 - val_loss: 1.6095 - val_accuracy: 0.0074 - lr: 0.0010 - 11s/epoch - 64ms/step
Epoch 83/100
176/176 - 11s - loss: 1.6095 - accuracy: 0.2000 - val_loss: 1.6101 - val_accuracy: 0.0074 - lr: 0.0010 - 11s/epoch - 64ms/step
Epoch 84/100
176/176 - 11s - loss: 1.6094 - accuracy: 0.1992 - val_loss: 1.6096 - val_accuracy: 0.0661 - lr: 0.0010 - 11s/epoch - 64ms/step
Epoch 85/100
176/176 - 11s - loss: 1.6095 - accuracy: 0.1977 - val_loss: 1.6097 - val_accuracy: 0.0661 - lr: 0.0010 - 11s/epoch - 63ms/step
Epoch 86/100
176/176 - 11s - loss: 1.6094 - accuracy: 0.1975 - val_loss: 1.6093 - val_accuracy: 0.0661 - lr: 0.0010 - 11s/epoch - 64ms/step
Epoch 87/100
176/176 - 11s - loss: 1.6095 - accuracy: 0.1974 - val_loss: 1.6097 - val_accuracy: 0.0661 - lr: 0.0010 - 11s/epoch - 64ms/step
Epoch 88/100
176/176 - 11s - loss: 1.6094 - accuracy: 0.1992 - val_loss: 1.6088 - val_accuracy: 0.8276 - lr: 0.0010 - 11s/epoch - 64ms/step
Epoch 89/100
176/176 - 11s - loss: 1.6095 - accuracy: 0.1984 - val_loss: 1.6076 - val_accuracy: 0.8276 - lr: 0.0010 - 11s/epoch - 64ms/step
Epoch 90/100
176/176 - 11s - loss: 1.6094 - accuracy: 0.1982 - val_loss: 1.6085 - val_accuracy: 0.8276 - lr: 0.0010 - 11s/epoch - 64ms/step
Epoch 91/100
176/176 - 11s - loss: 1.6094 - accuracy: 0.1992 - val_loss: 1.6096 - val_accuracy: 0.0254 - lr: 0.0010 - 11s/epoch - 64ms/step
Epoch 92/100
176/176 - 11s - loss: 1.6095 - accuracy: 0.1991 - val_loss: 1.6086 - val_accuracy: 0.8276 - lr: 0.0010 - 11s/epoch - 64ms/step
Epoch 93/100
176/176 - 11s - loss: 1.6094 - accuracy: 0.1972 - val_loss: 1.6097 - val_accuracy: 0.0074 - lr: 0.0010 - 11s/epoch - 64ms/step
Epoch 94/100
176/176 - 11s - loss: 1.6095 - accuracy: 0.1978 - val_loss: 1.6097 - val_accuracy: 0.0074 - lr: 0.0010 - 11s/epoch - 64ms/step
Epoch 95/100
176/176 - 11s - loss: 1.6094 - accuracy: 0.1977 - val_loss: 1.6086 - val_accuracy: 0.8276 - lr: 0.0010 - 11s/epoch - 64ms/step
Epoch 96/100
176/176 - 11s - loss: 1.6094 - accuracy: 0.1985 - val_loss: 1.6092 - val_accuracy: 0.0661 - lr: 0.0010 - 11s/epoch - 64ms/step
Epoch 97/100
176/176 - 11s - loss: 1.6094 - accuracy: 0.1985 - val_loss: 1.6085 - val_accuracy: 0.8276 - lr: 0.0010 - 11s/epoch - 64ms/step
Epoch 98/100
176/176 - 11s - loss: 1.6094 - accuracy: 0.1967 - val_loss: 1.6085 - val_accuracy: 0.8276 - lr: 0.0010 - 11s/epoch - 64ms/step
Epoch 99/100
176/176 - 11s - loss: 1.6094 - accuracy: 0.1977 - val_loss: 1.6089 - val_accuracy: 0.0661 - lr: 0.0010 - 11s/epoch - 64ms/step
Epoch 100/100
176/176 - 11s - loss: 1.6094 - accuracy: 0.1994 - val_loss: 1.6079 - val_accuracy: 0.8276 - lr: 0.0010 - 11s/epoch - 64ms/step
Epoch 1/100
36/36 - 13s - loss: 1.6094 - accuracy: 0.2003 - val_loss: 1.6087 - val_accuracy: 0.0661 - lr: 0.0010 - 13s/epoch - 349ms/step
Epoch 2/100
36/36 - 10s - loss: 1.6094 - accuracy: 0.1999 - val_loss: 1.6088 - val_accuracy: 0.0661 - lr: 0.0010 - 10s/epoch - 283ms/step
Epoch 3/100
36/36 - 10s - loss: 1.6094 - accuracy: 0.2001 - val_loss: 1.6090 - val_accuracy: 0.0661 - lr: 0.0010 - 10s/epoch - 281ms/step
Epoch 4/100
36/36 - 10s - loss: 1.6094 - accuracy: 0.1996 - val_loss: 1.6091 - val_accuracy: 0.0074 - lr: 0.0010 - 10s/epoch - 284ms/step
Epoch 5/100
36/36 - 10s - loss: 1.6094 - accuracy: 0.1968 - val_loss: 1.6090 - val_accuracy: 0.0735 - lr: 0.0010 - 10s/epoch - 281ms/step
Epoch 6/100
36/36 - 10s - loss: 1.6094 - accuracy: 0.2000 - val_loss: 1.6087 - val_accuracy: 0.8276 - lr: 0.0010 - 10s/epoch - 282ms/step
Epoch 7/100
36/36 - 10s - loss: 1.6094 - accuracy: 0.1976 - val_loss: 1.6093 - val_accuracy: 0.0254 - lr: 0.0010 - 10s/epoch - 282ms/step
Epoch 8/100
36/36 - 10s - loss: 1.6094 - accuracy: 0.2007 - val_loss: 1.6085 - val_accuracy: 0.8276 - lr: 0.0010 - 10s/epoch - 283ms/step
Epoch 9/100
36/36 - 10s - loss: 1.6094 - accuracy: 0.2000 - val_loss: 1.6080 - val_accuracy: 0.8276 - lr: 0.0010 - 10s/epoch - 282ms/step
Epoch 10/100
36/36 - 10s - loss: 1.6094 - accuracy: 0.1979 - val_loss: 1.6084 - val_accuracy: 0.0074 - lr: 0.0010 - 10s/epoch - 282ms/step
Epoch 11/100
36/36 - 10s - loss: 1.6094 - accuracy: 0.1992 - val_loss: 1.6085 - val_accuracy: 0.8276 - lr: 0.0010 - 10s/epoch - 281ms/step
Epoch 12/100
36/36 - 10s - loss: 1.6094 - accuracy: 0.1989 - val_loss: 1.6094 - val_accuracy: 0.0254 - lr: 0.0010 - 10s/epoch - 284ms/step
Epoch 13/100
36/36 - 10s - loss: 1.6094 - accuracy: 0.2000 - val_loss: 1.6098 - val_accuracy: 0.0254 - lr: 0.0010 - 10s/epoch - 283ms/step
Epoch 14/100
36/36 - 10s - loss: 1.6094 - accuracy: 0.1993 - val_loss: 1.6100 - val_accuracy: 0.0661 - lr: 0.0010 - 10s/epoch - 282ms/step
Epoch 15/100
36/36 - 10s - loss: 1.6094 - accuracy: 0.2000 - val_loss: 1.6099 - val_accuracy: 0.0661 - lr: 0.0010 - 10s/epoch - 280ms/step
Epoch 16/100
36/36 - 10s - loss: 1.6094 - accuracy: 0.2000 - val_loss: 1.6100 - val_accuracy: 0.0661 - lr: 0.0010 - 10s/epoch - 282ms/step
Epoch 17/100
36/36 - 10s - loss: 1.6094 - accuracy: 0.2000 - val_loss: 1.6096 - val_accuracy: 0.0661 - lr: 0.0010 - 10s/epoch - 281ms/step
Epoch 18/100
36/36 - 10s - loss: 1.6094 - accuracy: 0.2000 - val_loss: 1.6096 - val_accuracy: 0.0661 - lr: 0.0010 - 10s/epoch - 282ms/step
Epoch 19/100
36/36 - 10s - loss: 1.6094 - accuracy: 0.2000 - val_loss: 1.6098 - val_accuracy: 0.0661 - lr: 0.0010 - 10s/epoch - 284ms/step
Epoch 20/100
36/36 - 10s - loss: 1.6094 - accuracy: 0.2000 - val_loss: 1.6092 - val_accuracy: 0.0661 - lr: 0.0010 - 10s/epoch - 287ms/step
Epoch 21/100
36/36 - 10s - loss: 1.6094 - accuracy: 0.2000 - val_loss: 1.6088 - val_accuracy: 0.0661 - lr: 0.0010 - 10s/epoch - 282ms/step
Epoch 22/100
36/36 - 10s - loss: 1.6094 - accuracy: 0.2000 - val_loss: 1.6089 - val_accuracy: 0.0661 - lr: 0.0010 - 10s/epoch - 284ms/step
Epoch 23/100
36/36 - 10s - loss: 1.6094 - accuracy: 0.2001 - val_loss: 1.6088 - val_accuracy: 0.0661 - lr: 0.0010 - 10s/epoch - 282ms/step
Epoch 24/100
36/36 - 10s - loss: 1.6094 - accuracy: 0.1986 - val_loss: 1.6090 - val_accuracy: 0.8276 - lr: 0.0010 - 10s/epoch - 282ms/step
Epoch 25/100
36/36 - 10s - loss: 1.6094 - accuracy: 0.1990 - val_loss: 1.6093 - val_accuracy: 0.0074 - lr: 0.0010 - 10s/epoch - 282ms/step
Epoch 26/100
36/36 - 10s - loss: 1.6094 - accuracy: 0.2000 - val_loss: 1.6092 - val_accuracy: 0.0074 - lr: 0.0010 - 10s/epoch - 281ms/step
Epoch 27/100
36/36 - 10s - loss: 1.6094 - accuracy: 0.2000 - val_loss: 1.6096 - val_accuracy: 0.0074 - lr: 0.0010 - 10s/epoch - 281ms/step
Epoch 28/100
36/36 - 10s - loss: 1.6094 - accuracy: 0.2000 - val_loss: 1.6095 - val_accuracy: 0.0074 - lr: 0.0010 - 10s/epoch - 282ms/step
Epoch 29/100
36/36 - 10s - loss: 1.6094 - accuracy: 0.2000 - val_loss: 1.6094 - val_accuracy: 0.0074 - lr: 0.0010 - 10s/epoch - 282ms/step
Epoch 30/100
36/36 - 10s - loss: 1.6094 - accuracy: 0.2000 - val_loss: 1.6093 - val_accuracy: 0.0074 - lr: 0.0010 - 10s/epoch - 282ms/step
Epoch 31/100
36/36 - 10s - loss: 1.6094 - accuracy: 0.2000 - val_loss: 1.6092 - val_accuracy: 0.0074 - lr: 0.0010 - 10s/epoch - 284ms/step
Epoch 32/100
36/36 - 10s - loss: 1.6094 - accuracy: 0.2000 - val_loss: 1.6097 - val_accuracy: 0.0074 - lr: 0.0010 - 10s/epoch - 282ms/step
Epoch 33/100
36/36 - 10s - loss: 1.6094 - accuracy: 0.2000 - val_loss: 1.6099 - val_accuracy: 0.0074 - lr: 0.0010 - 10s/epoch - 283ms/step
Epoch 34/100
36/36 - 10s - loss: 1.6094 - accuracy: 0.2000 - val_loss: 1.6100 - val_accuracy: 0.0074 - lr: 0.0010 - 10s/epoch - 283ms/step
Epoch 35/100
36/36 - 10s - loss: 1.6094 - accuracy: 0.1995 - val_loss: 1.6105 - val_accuracy: 0.0074 - lr: 0.0010 - 10s/epoch - 281ms/step
Epoch 36/100
36/36 - 10s - loss: 1.6094 - accuracy: 0.1987 - val_loss: 1.6097 - val_accuracy: 0.0074 - lr: 0.0010 - 10s/epoch - 284ms/step
Epoch 37/100
36/36 - 10s - loss: 1.6094 - accuracy: 0.2002 - val_loss: 1.6099 - val_accuracy: 0.0074 - lr: 0.0010 - 10s/epoch - 283ms/step
Epoch 38/100
36/36 - 10s - loss: 1.6094 - accuracy: 0.2001 - val_loss: 1.6093 - val_accuracy: 0.0735 - lr: 0.0010 - 10s/epoch - 284ms/step
Epoch 39/100
36/36 - 10s - loss: 1.6094 - accuracy: 0.2000 - val_loss: 1.6087 - val_accuracy: 0.0735 - lr: 0.0010 - 10s/epoch - 281ms/step
Epoch 40/100
36/36 - 10s - loss: 1.6094 - accuracy: 0.1988 - val_loss: 1.6083 - val_accuracy: 0.0735 - lr: 0.0010 - 10s/epoch - 282ms/step
Epoch 41/100
36/36 - 10s - loss: 1.6094 - accuracy: 0.2000 - val_loss: 1.6084 - val_accuracy: 0.0735 - lr: 0.0010 - 10s/epoch - 283ms/step
Epoch 42/100
36/36 - 10s - loss: 1.6094 - accuracy: 0.2000 - val_loss: 1.6091 - val_accuracy: 0.0735 - lr: 0.0010 - 10s/epoch - 282ms/step
Epoch 43/100
36/36 - 10s - loss: 1.6094 - accuracy: 0.2000 - val_loss: 1.6096 - val_accuracy: 0.0735 - lr: 0.0010 - 10s/epoch - 281ms/step
Epoch 44/100
36/36 - 10s - loss: 1.6094 - accuracy: 0.2000 - val_loss: 1.6097 - val_accuracy: 0.0735 - lr: 0.0010 - 10s/epoch - 282ms/step
Epoch 45/100
36/36 - 10s - loss: 1.6094 - accuracy: 0.2000 - val_loss: 1.6103 - val_accuracy: 0.0735 - lr: 0.0010 - 10s/epoch - 284ms/step
Epoch 46/100
36/36 - 10s - loss: 1.6094 - accuracy: 0.1986 - val_loss: 1.6105 - val_accuracy: 0.0735 - lr: 0.0010 - 10s/epoch - 282ms/step
Epoch 47/100
36/36 - 10s - loss: 1.6094 - accuracy: 0.2002 - val_loss: 1.6099 - val_accuracy: 0.0661 - lr: 0.0010 - 10s/epoch - 281ms/step
Epoch 48/100
36/36 - 10s - loss: 1.6094 - accuracy: 0.2000 - val_loss: 1.6100 - val_accuracy: 0.0661 - lr: 0.0010 - 10s/epoch - 283ms/step
Epoch 49/100
36/36 - 10s - loss: 1.6094 - accuracy: 0.2000 - val_loss: 1.6096 - val_accuracy: 0.0661 - lr: 0.0010 - 10s/epoch - 287ms/step
Epoch 50/100
36/36 - 10s - loss: 1.6094 - accuracy: 0.2000 - val_loss: 1.6098 - val_accuracy: 0.0661 - lr: 0.0010 - 10s/epoch - 283ms/step
Epoch 51/100
36/36 - 10s - loss: 1.6094 - accuracy: 0.1983 - val_loss: 1.6094 - val_accuracy: 0.0074 - lr: 0.0010 - 10s/epoch - 281ms/step
Epoch 52/100
36/36 - 10s - loss: 1.6094 - accuracy: 0.1983 - val_loss: 1.6102 - val_accuracy: 0.0661 - lr: 0.0010 - 10s/epoch - 283ms/step
Epoch 53/100
36/36 - 10s - loss: 1.6094 - accuracy: 0.2000 - val_loss: 1.6107 - val_accuracy: 0.0661 - lr: 0.0010 - 10s/epoch - 283ms/step
Epoch 54/100
36/36 - 10s - loss: 1.6094 - accuracy: 0.2011 - val_loss: 1.6102 - val_accuracy: 0.0254 - lr: 0.0010 - 10s/epoch - 282ms/step
Epoch 55/100
36/36 - 10s - loss: 1.6094 - accuracy: 0.2000 - val_loss: 1.6107 - val_accuracy: 0.0254 - lr: 0.0010 - 10s/epoch - 282ms/step
Epoch 56/100
36/36 - 10s - loss: 1.6094 - accuracy: 0.2000 - val_loss: 1.6110 - val_accuracy: 0.0254 - lr: 0.0010 - 10s/epoch - 281ms/step
Epoch 57/100
36/36 - 10s - loss: 1.6094 - accuracy: 0.1995 - val_loss: 1.6103 - val_accuracy: 0.0254 - lr: 0.0010 - 10s/epoch - 281ms/step
Epoch 58/100
36/36 - 10s - loss: 1.6094 - accuracy: 0.1993 - val_loss: 1.6107 - val_accuracy: 0.0254 - lr: 0.0010 - 10s/epoch - 282ms/step
Epoch 59/100
36/36 - 10s - loss: 1.6094 - accuracy: 0.1999 - val_loss: 1.6105 - val_accuracy: 0.0254 - lr: 0.0010 - 10s/epoch - 282ms/step
Epoch 60/100
36/36 - 10s - loss: 1.6094 - accuracy: 0.2000 - val_loss: 1.6101 - val_accuracy: 0.0254 - lr: 0.0010 - 10s/epoch - 281ms/step
Epoch 61/100
36/36 - 10s - loss: 1.6094 - accuracy: 0.1998 - val_loss: 1.6099 - val_accuracy: 0.0661 - lr: 0.0010 - 10s/epoch - 282ms/step
Epoch 62/100
36/36 - 10s - loss: 1.6094 - accuracy: 0.1999 - val_loss: 1.6099 - val_accuracy: 0.0661 - lr: 0.0010 - 10s/epoch - 281ms/step
Epoch 63/100
36/36 - 10s - loss: 1.6094 - accuracy: 0.2000 - val_loss: 1.6105 - val_accuracy: 0.0661 - lr: 0.0010 - 10s/epoch - 282ms/step
Epoch 64/100
36/36 - 10s - loss: 1.6094 - accuracy: 0.2000 - val_loss: 1.6107 - val_accuracy: 0.0661 - lr: 0.0010 - 10s/epoch - 284ms/step
Epoch 65/100
36/36 - 10s - loss: 1.6094 - accuracy: 0.2000 - val_loss: 1.6106 - val_accuracy: 0.0661 - lr: 0.0010 - 10s/epoch - 282ms/step
Epoch 66/100
36/36 - 10s - loss: 1.6094 - accuracy: 0.1990 - val_loss: 1.6100 - val_accuracy: 0.0735 - lr: 0.0010 - 10s/epoch - 283ms/step
Epoch 67/100
36/36 - 10s - loss: 1.6094 - accuracy: 0.2000 - val_loss: 1.6101 - val_accuracy: 0.0735 - lr: 0.0010 - 10s/epoch - 282ms/step
Epoch 68/100
36/36 - 10s - loss: 1.6094 - accuracy: 0.2010 - val_loss: 1.6093 - val_accuracy: 0.0735 - lr: 0.0010 - 10s/epoch - 281ms/step
Epoch 69/100
36/36 - 10s - loss: 1.6094 - accuracy: 0.2004 - val_loss: 1.6083 - val_accuracy: 0.0735 - lr: 0.0010 - 10s/epoch - 284ms/step
Epoch 70/100
36/36 - 10s - loss: 1.6094 - accuracy: 0.1981 - val_loss: 1.6081 - val_accuracy: 0.8276 - lr: 0.0010 - 10s/epoch - 282ms/step
Epoch 71/100
36/36 - 10s - loss: 1.6094 - accuracy: 0.1997 - val_loss: 1.6083 - val_accuracy: 0.0254 - lr: 0.0010 - 10s/epoch - 284ms/step
Epoch 72/100
36/36 - 10s - loss: 1.6094 - accuracy: 0.2000 - val_loss: 1.6086 - val_accuracy: 0.0254 - lr: 0.0010 - 10s/epoch - 282ms/step
Epoch 73/100
36/36 - 10s - loss: 1.6094 - accuracy: 0.2000 - val_loss: 1.6095 - val_accuracy: 0.0254 - lr: 0.0010 - 10s/epoch - 282ms/step
Epoch 74/100
36/36 - 10s - loss: 1.6094 - accuracy: 0.2000 - val_loss: 1.6104 - val_accuracy: 0.0254 - lr: 0.0010 - 10s/epoch - 282ms/step
Epoch 75/100
36/36 - 10s - loss: 1.6094 - accuracy: 0.2000 - val_loss: 1.6103 - val_accuracy: 0.0254 - lr: 0.0010 - 10s/epoch - 283ms/step
Epoch 76/100
36/36 - 10s - loss: 1.6094 - accuracy: 0.2000 - val_loss: 1.6098 - val_accuracy: 0.0254 - lr: 0.0010 - 10s/epoch - 282ms/step
Epoch 77/100
36/36 - 10s - loss: 1.6094 - accuracy: 0.2000 - val_loss: 1.6100 - val_accuracy: 0.0254 - lr: 0.0010 - 10s/epoch - 283ms/step
Epoch 78/100
36/36 - 10s - loss: 1.6094 - accuracy: 0.2003 - val_loss: 1.6099 - val_accuracy: 0.0254 - lr: 0.0010 - 10s/epoch - 282ms/step
Epoch 79/100
36/36 - 10s - loss: 1.6094 - accuracy: 0.1999 - val_loss: 1.6092 - val_accuracy: 0.0254 - lr: 0.0010 - 10s/epoch - 283ms/step
Epoch 80/100
36/36 - 10s - loss: 1.6094 - accuracy: 0.1997 - val_loss: 1.6097 - val_accuracy: 0.0254 - lr: 0.0010 - 10s/epoch - 283ms/step
Epoch 81/100
36/36 - 10s - loss: 1.6094 - accuracy: 0.2000 - val_loss: 1.6098 - val_accuracy: 0.0254 - lr: 0.0010 - 10s/epoch - 282ms/step
Epoch 82/100
36/36 - 10s - loss: 1.6094 - accuracy: 0.2000 - val_loss: 1.6094 - val_accuracy: 0.0254 - lr: 0.0010 - 10s/epoch - 281ms/step
Epoch 83/100
36/36 - 10s - loss: 1.6094 - accuracy: 0.2000 - val_loss: 1.6095 - val_accuracy: 0.0254 - lr: 0.0010 - 10s/epoch - 281ms/step
Epoch 84/100
36/36 - 10s - loss: 1.6094 - accuracy: 0.2000 - val_loss: 1.6096 - val_accuracy: 0.0254 - lr: 0.0010 - 10s/epoch - 282ms/step
Epoch 85/100
36/36 - 10s - loss: 1.6094 - accuracy: 0.2000 - val_loss: 1.6091 - val_accuracy: 0.0254 - lr: 0.0010 - 10s/epoch - 282ms/step
Epoch 86/100
36/36 - 10s - loss: 1.6094 - accuracy: 0.2008 - val_loss: 1.6084 - val_accuracy: 0.8276 - lr: 0.0010 - 10s/epoch - 281ms/step
Epoch 87/100
36/36 - 10s - loss: 1.6094 - accuracy: 0.2000 - val_loss: 1.6080 - val_accuracy: 0.0735 - lr: 0.0010 - 10s/epoch - 281ms/step
Epoch 88/100
36/36 - 10s - loss: 1.6094 - accuracy: 0.2003 - val_loss: 1.6081 - val_accuracy: 0.0735 - lr: 0.0010 - 10s/epoch - 282ms/step
Epoch 89/100
36/36 - 10s - loss: 1.6094 - accuracy: 0.1999 - val_loss: 1.6078 - val_accuracy: 0.8276 - lr: 0.0010 - 10s/epoch - 283ms/step
Epoch 90/100
36/36 - 10s - loss: 1.6094 - accuracy: 0.2002 - val_loss: 1.6087 - val_accuracy: 0.0735 - lr: 0.0010 - 10s/epoch - 283ms/step
Epoch 91/100
36/36 - 10s - loss: 1.6094 - accuracy: 0.1996 - val_loss: 1.6080 - val_accuracy: 0.8276 - lr: 0.0010 - 10s/epoch - 283ms/step
Epoch 92/100
36/36 - 10s - loss: 1.6094 - accuracy: 0.1989 - val_loss: 1.6090 - val_accuracy: 0.0735 - lr: 0.0010 - 10s/epoch - 281ms/step
Epoch 93/100
36/36 - 10s - loss: 1.6094 - accuracy: 0.1991 - val_loss: 1.6090 - val_accuracy: 0.0735 - lr: 0.0010 - 10s/epoch - 283ms/step
Epoch 94/100
36/36 - 10s - loss: 1.6094 - accuracy: 0.2000 - val_loss: 1.6088 - val_accuracy: 0.0735 - lr: 0.0010 - 10s/epoch - 281ms/step
Epoch 95/100
36/36 - 10s - loss: 1.6094 - accuracy: 0.1999 - val_loss: 1.6085 - val_accuracy: 0.0735 - lr: 0.0010 - 10s/epoch - 283ms/step
Epoch 96/100
36/36 - 10s - loss: 1.6094 - accuracy: 0.2003 - val_loss: 1.6088 - val_accuracy: 0.0735 - lr: 0.0010 - 10s/epoch - 282ms/step
Epoch 97/100
36/36 - 10s - loss: 1.6094 - accuracy: 0.2000 - val_loss: 1.6098 - val_accuracy: 0.0735 - lr: 0.0010 - 10s/epoch - 281ms/step
Epoch 98/100
36/36 - 10s - loss: 1.6094 - accuracy: 0.2000 - val_loss: 1.6100 - val_accuracy: 0.0735 - lr: 0.0010 - 10s/epoch - 283ms/step
Epoch 99/100
36/36 - 10s - loss: 1.6094 - accuracy: 0.1996 - val_loss: 1.6101 - val_accuracy: 0.0735 - lr: 0.0010 - 10s/epoch - 283ms/step
Epoch 100/100
36/36 - 10s - loss: 1.6094 - accuracy: 0.1999 - val_loss: 1.6101 - val_accuracy: 0.0735 - lr: 0.0010 - 10s/epoch - 282ms/step
Epoch 1/25
4378/4378 - 82s - loss: 0.5004 - accuracy: 0.1985 - val_loss: 0.4995 - val_accuracy: 0.0254 - lr: 0.0010 - 82s/epoch - 19ms/step
Epoch 2/25
4378/4378 - 80s - loss: 0.5004 - accuracy: 0.1985 - val_loss: 0.4968 - val_accuracy: 0.8276 - lr: 0.0010 - 80s/epoch - 18ms/step
Epoch 3/25
4378/4378 - 79s - loss: 0.5004 - accuracy: 0.1997 - val_loss: 0.5001 - val_accuracy: 0.0254 - lr: 0.0010 - 79s/epoch - 18ms/step
Epoch 4/25
4378/4378 - 80s - loss: 0.5004 - accuracy: 0.1980 - val_loss: 0.5034 - val_accuracy: 0.0661 - lr: 0.0010 - 80s/epoch - 18ms/step
Epoch 5/25
4378/4378 - 79s - loss: 0.5004 - accuracy: 0.2011 - val_loss: 0.5048 - val_accuracy: 0.0254 - lr: 0.0010 - 79s/epoch - 18ms/step
Epoch 6/25
4378/4378 - 79s - loss: 0.5004 - accuracy: 0.1995 - val_loss: 0.5004 - val_accuracy: 0.0254 - lr: 0.0010 - 79s/epoch - 18ms/step
Epoch 7/25
4378/4378 - 80s - loss: 0.5004 - accuracy: 0.1990 - val_loss: 0.5001 - val_accuracy: 0.0254 - lr: 0.0010 - 80s/epoch - 18ms/step
Epoch 8/25
4378/4378 - 80s - loss: 0.5004 - accuracy: 0.1970 - val_loss: 0.4985 - val_accuracy: 0.0661 - lr: 0.0010 - 80s/epoch - 18ms/step
Epoch 9/25
4378/4378 - 79s - loss: 0.5004 - accuracy: 0.2000 - val_loss: 0.5025 - val_accuracy: 0.0254 - lr: 0.0010 - 79s/epoch - 18ms/step
Epoch 10/25
4378/4378 - 79s - loss: 0.5004 - accuracy: 0.1988 - val_loss: 0.4998 - val_accuracy: 0.0661 - lr: 0.0010 - 79s/epoch - 18ms/step
Epoch 11/25
4378/4378 - 79s - loss: 0.5004 - accuracy: 0.1990 - val_loss: 0.4988 - val_accuracy: 0.8276 - lr: 0.0010 - 79s/epoch - 18ms/step
Epoch 12/25
4378/4378 - 79s - loss: 0.5004 - accuracy: 0.1976 - val_loss: 0.5014 - val_accuracy: 0.0254 - lr: 0.0010 - 79s/epoch - 18ms/step
Epoch 13/25
4378/4378 - 79s - loss: 0.5004 - accuracy: 0.1981 - val_loss: 0.4987 - val_accuracy: 0.8276 - lr: 0.0010 - 79s/epoch - 18ms/step
Epoch 14/25
4378/4378 - 79s - loss: 0.5004 - accuracy: 0.2014 - val_loss: 0.5003 - val_accuracy: 0.0661 - lr: 0.0010 - 79s/epoch - 18ms/step
Epoch 15/25
4378/4378 - 79s - loss: 0.5004 - accuracy: 0.2001 - val_loss: 0.5016 - val_accuracy: 0.0074 - lr: 0.0010 - 79s/epoch - 18ms/step
Epoch 16/25
4378/4378 - 79s - loss: 0.5004 - accuracy: 0.1994 - val_loss: 0.5019 - val_accuracy: 0.0735 - lr: 0.0010 - 79s/epoch - 18ms/step
Epoch 17/25
4378/4378 - 79s - loss: 0.5004 - accuracy: 0.1982 - val_loss: 0.5017 - val_accuracy: 0.0074 - lr: 0.0010 - 79s/epoch - 18ms/step
Epoch 18/25
4378/4378 - 79s - loss: 0.5004 - accuracy: 0.2019 - val_loss: 0.4992 - val_accuracy: 0.0074 - lr: 0.0010 - 79s/epoch - 18ms/step
Epoch 19/25
4378/4378 - 79s - loss: 0.5004 - accuracy: 0.1974 - val_loss: 0.5020 - val_accuracy: 0.0074 - lr: 0.0010 - 79s/epoch - 18ms/step
Epoch 20/25
4378/4378 - 80s - loss: 0.5004 - accuracy: 0.1975 - val_loss: 0.4991 - val_accuracy: 0.0735 - lr: 0.0010 - 80s/epoch - 18ms/step
Epoch 21/25
4378/4378 - 79s - loss: 0.5004 - accuracy: 0.2002 - val_loss: 0.4983 - val_accuracy: 0.8276 - lr: 0.0010 - 79s/epoch - 18ms/step
Epoch 22/25
4378/4378 - 79s - loss: 0.5004 - accuracy: 0.1983 - val_loss: 0.5000 - val_accuracy: 0.0254 - lr: 0.0010 - 79s/epoch - 18ms/step
Epoch 23/25
4378/4378 - 79s - loss: 0.5004 - accuracy: 0.1986 - val_loss: 0.5022 - val_accuracy: 0.0074 - lr: 0.0010 - 79s/epoch - 18ms/step
Epoch 24/25
4378/4378 - 80s - loss: 0.5004 - accuracy: 0.1981 - val_loss: 0.5002 - val_accuracy: 0.0074 - lr: 0.0010 - 80s/epoch - 18ms/step
Epoch 25/25
4378/4378 - 79s - loss: 0.5004 - accuracy: 0.1984 - val_loss: 0.4958 - val_accuracy: 0.8276 - lr: 0.0010 - 79s/epoch - 18ms/step
Epoch 1/25
876/876 - 24s - loss: 0.5004 - accuracy: 0.2000 - val_loss: 0.5007 - val_accuracy: 0.0661 - lr: 0.0010 - 24s/epoch - 27ms/step
Epoch 2/25
876/876 - 20s - loss: 0.5004 - accuracy: 0.1995 - val_loss: 0.4992 - val_accuracy: 0.8276 - lr: 0.0010 - 20s/epoch - 23ms/step
Epoch 3/25
876/876 - 20s - loss: 0.5004 - accuracy: 0.1988 - val_loss: 0.5000 - val_accuracy: 0.8276 - lr: 0.0010 - 20s/epoch - 23ms/step
Epoch 4/25
876/876 - 20s - loss: 0.5004 - accuracy: 0.1971 - val_loss: 0.5004 - val_accuracy: 0.0074 - lr: 0.0010 - 20s/epoch - 23ms/step
Epoch 5/25
876/876 - 20s - loss: 0.5004 - accuracy: 0.1966 - val_loss: 0.5005 - val_accuracy: 0.0254 - lr: 0.0010 - 20s/epoch - 23ms/step
Epoch 6/25
876/876 - 20s - loss: 0.5004 - accuracy: 0.1982 - val_loss: 0.5005 - val_accuracy: 0.0661 - lr: 0.0010 - 20s/epoch - 23ms/step
Epoch 7/25
876/876 - 20s - loss: 0.5004 - accuracy: 0.2004 - val_loss: 0.5015 - val_accuracy: 0.0074 - lr: 0.0010 - 20s/epoch - 23ms/step
Epoch 8/25
876/876 - 21s - loss: 0.5004 - accuracy: 0.1981 - val_loss: 0.5007 - val_accuracy: 0.0254 - lr: 0.0010 - 21s/epoch - 23ms/step
Epoch 9/25
876/876 - 20s - loss: 0.5004 - accuracy: 0.1999 - val_loss: 0.5008 - val_accuracy: 0.0074 - lr: 0.0010 - 20s/epoch - 23ms/step
Epoch 10/25
876/876 - 20s - loss: 0.5004 - accuracy: 0.1965 - val_loss: 0.5002 - val_accuracy: 0.0735 - lr: 0.0010 - 20s/epoch - 23ms/step
Epoch 11/25
876/876 - 20s - loss: 0.5004 - accuracy: 0.1987 - val_loss: 0.5003 - val_accuracy: 0.0074 - lr: 0.0010 - 20s/epoch - 23ms/step
Epoch 12/25
876/876 - 20s - loss: 0.5004 - accuracy: 0.2003 - val_loss: 0.4974 - val_accuracy: 0.8276 - lr: 0.0010 - 20s/epoch - 23ms/step
Epoch 13/25
876/876 - 20s - loss: 0.5004 - accuracy: 0.1987 - val_loss: 0.5015 - val_accuracy: 0.0661 - lr: 0.0010 - 20s/epoch - 23ms/step
Epoch 14/25
876/876 - 20s - loss: 0.5004 - accuracy: 0.1972 - val_loss: 0.5004 - val_accuracy: 0.0254 - lr: 0.0010 - 20s/epoch - 23ms/step
Epoch 15/25
876/876 - 20s - loss: 0.5004 - accuracy: 0.1985 - val_loss: 0.5020 - val_accuracy: 0.0735 - lr: 0.0010 - 20s/epoch - 23ms/step
Epoch 16/25
876/876 - 20s - loss: 0.5004 - accuracy: 0.2007 - val_loss: 0.4995 - val_accuracy: 0.8276 - lr: 0.0010 - 20s/epoch - 23ms/step
Epoch 17/25
876/876 - 20s - loss: 0.5004 - accuracy: 0.1998 - val_loss: 0.5013 - val_accuracy: 0.0254 - lr: 0.0010 - 20s/epoch - 23ms/step
Epoch 18/25
876/876 - 20s - loss: 0.5004 - accuracy: 0.1970 - val_loss: 0.5011 - val_accuracy: 0.0735 - lr: 0.0010 - 20s/epoch - 23ms/step
Epoch 19/25
876/876 - 20s - loss: 0.5004 - accuracy: 0.1983 - val_loss: 0.4998 - val_accuracy: 0.8276 - lr: 0.0010 - 20s/epoch - 23ms/step
Epoch 20/25
876/876 - 20s - loss: 0.5004 - accuracy: 0.1994 - val_loss: 0.4999 - val_accuracy: 0.0074 - lr: 0.0010 - 20s/epoch - 23ms/step
Epoch 21/25
876/876 - 21s - loss: 0.5004 - accuracy: 0.1997 - val_loss: 0.5010 - val_accuracy: 0.0254 - lr: 0.0010 - 21s/epoch - 23ms/step
Epoch 22/25
876/876 - 21s - loss: 0.5004 - accuracy: 0.1990 - val_loss: 0.5007 - val_accuracy: 0.0661 - lr: 0.0010 - 21s/epoch - 23ms/step
Epoch 23/25
876/876 - 20s - loss: 0.5004 - accuracy: 0.1992 - val_loss: 0.4995 - val_accuracy: 0.0661 - lr: 0.0010 - 20s/epoch - 23ms/step
Epoch 24/25
876/876 - 20s - loss: 0.5004 - accuracy: 0.1975 - val_loss: 0.5003 - val_accuracy: 0.0661 - lr: 0.0010 - 20s/epoch - 23ms/step
Epoch 25/25
876/876 - 20s - loss: 0.5004 - accuracy: 0.1963 - val_loss: 0.4997 - val_accuracy: 0.0735 - lr: 0.0010 - 20s/epoch - 23ms/step
Epoch 1/25
176/176 - 14s - loss: 0.5004 - accuracy: 0.1998 - val_loss: 0.5000 - val_accuracy: 0.0735 - lr: 0.0010 - 14s/epoch - 79ms/step
Epoch 2/25
176/176 - 11s - loss: 0.5004 - accuracy: 0.2000 - val_loss: 0.5000 - val_accuracy: 0.8276 - lr: 0.0010 - 11s/epoch - 65ms/step
Epoch 3/25
176/176 - 11s - loss: 0.5004 - accuracy: 0.1974 - val_loss: 0.5002 - val_accuracy: 0.8276 - lr: 0.0010 - 11s/epoch - 65ms/step
Epoch 4/25
176/176 - 12s - loss: 0.5004 - accuracy: 0.1997 - val_loss: 0.5005 - val_accuracy: 0.0074 - lr: 0.0010 - 12s/epoch - 65ms/step
Epoch 5/25
176/176 - 12s - loss: 0.5004 - accuracy: 0.1984 - val_loss: 0.5000 - val_accuracy: 0.8276 - lr: 0.0010 - 12s/epoch - 65ms/step
Epoch 6/25
176/176 - 12s - loss: 0.5004 - accuracy: 0.1977 - val_loss: 0.5003 - val_accuracy: 0.8276 - lr: 0.0010 - 12s/epoch - 66ms/step
Epoch 7/25
176/176 - 11s - loss: 0.5004 - accuracy: 0.1974 - val_loss: 0.5005 - val_accuracy: 0.0074 - lr: 0.0010 - 11s/epoch - 65ms/step
Epoch 8/25
176/176 - 12s - loss: 0.5004 - accuracy: 0.1981 - val_loss: 0.5005 - val_accuracy: 0.0661 - lr: 0.0010 - 12s/epoch - 65ms/step
Epoch 9/25
176/176 - 11s - loss: 0.5004 - accuracy: 0.1975 - val_loss: 0.5004 - val_accuracy: 0.0735 - lr: 0.0010 - 11s/epoch - 65ms/step
Epoch 10/25
176/176 - 11s - loss: 0.5004 - accuracy: 0.1978 - val_loss: 0.5004 - val_accuracy: 0.0735 - lr: 0.0010 - 11s/epoch - 65ms/step
Epoch 11/25
176/176 - 11s - loss: 0.5004 - accuracy: 0.1976 - val_loss: 0.5007 - val_accuracy: 0.0074 - lr: 0.0010 - 11s/epoch - 65ms/step
Epoch 12/25
176/176 - 11s - loss: 0.5004 - accuracy: 0.1988 - val_loss: 0.5005 - val_accuracy: 0.0735 - lr: 0.0010 - 11s/epoch - 65ms/step
Epoch 13/25
176/176 - 11s - loss: 0.5004 - accuracy: 0.1980 - val_loss: 0.5002 - val_accuracy: 0.0074 - lr: 0.0010 - 11s/epoch - 65ms/step
Epoch 14/25
176/176 - 12s - loss: 0.5004 - accuracy: 0.1974 - val_loss: 0.5003 - val_accuracy: 0.8276 - lr: 0.0010 - 12s/epoch - 66ms/step
Epoch 15/25
176/176 - 11s - loss: 0.5004 - accuracy: 0.1984 - val_loss: 0.5003 - val_accuracy: 0.0735 - lr: 0.0010 - 11s/epoch - 65ms/step
Epoch 16/25
176/176 - 12s - loss: 0.5004 - accuracy: 0.2000 - val_loss: 0.5003 - val_accuracy: 0.0735 - lr: 0.0010 - 12s/epoch - 65ms/step
Epoch 17/25
176/176 - 12s - loss: 0.5004 - accuracy: 0.1996 - val_loss: 0.5002 - val_accuracy: 0.8276 - lr: 0.0010 - 12s/epoch - 65ms/step
Epoch 18/25
176/176 - 12s - loss: 0.5004 - accuracy: 0.1987 - val_loss: 0.5004 - val_accuracy: 0.0074 - lr: 0.0010 - 12s/epoch - 65ms/step
Epoch 19/25
176/176 - 11s - loss: 0.5004 - accuracy: 0.1993 - val_loss: 0.5003 - val_accuracy: 0.0254 - lr: 0.0010 - 11s/epoch - 65ms/step
Epoch 20/25
176/176 - 12s - loss: 0.5004 - accuracy: 0.1991 - val_loss: 0.5004 - val_accuracy: 0.0661 - lr: 0.0010 - 12s/epoch - 66ms/step
Epoch 21/25
176/176 - 11s - loss: 0.5004 - accuracy: 0.1974 - val_loss: 0.5003 - val_accuracy: 0.0661 - lr: 0.0010 - 11s/epoch - 65ms/step
Epoch 22/25
176/176 - 12s - loss: 0.5004 - accuracy: 0.1986 - val_loss: 0.5006 - val_accuracy: 0.0661 - lr: 0.0010 - 12s/epoch - 65ms/step
Epoch 23/25
176/176 - 12s - loss: 0.5004 - accuracy: 0.1963 - val_loss: 0.5004 - val_accuracy: 0.0661 - lr: 0.0010 - 12s/epoch - 66ms/step
Epoch 24/25
176/176 - 11s - loss: 0.5004 - accuracy: 0.1989 - val_loss: 0.5004 - val_accuracy: 0.0661 - lr: 0.0010 - 11s/epoch - 65ms/step
Epoch 25/25
176/176 - 12s - loss: 0.5004 - accuracy: 0.1974 - val_loss: 0.5006 - val_accuracy: 0.0074 - lr: 0.0010 - 12s/epoch - 65ms/step
Epoch 1/25
36/36 - 13s - loss: 0.5004 - accuracy: 0.2006 - val_loss: 0.5005 - val_accuracy: 0.0735 - lr: 0.0010 - 13s/epoch - 353ms/step
Epoch 2/25
36/36 - 10s - loss: 0.5004 - accuracy: 0.2000 - val_loss: 0.5006 - val_accuracy: 0.0735 - lr: 0.0010 - 10s/epoch - 285ms/step
Epoch 3/25
36/36 - 10s - loss: 0.5004 - accuracy: 0.2000 - val_loss: 0.5006 - val_accuracy: 0.0735 - lr: 0.0010 - 10s/epoch - 284ms/step
Epoch 4/25
36/36 - 10s - loss: 0.5004 - accuracy: 0.2000 - val_loss: 0.5007 - val_accuracy: 0.0735 - lr: 0.0010 - 10s/epoch - 284ms/step
Epoch 5/25
36/36 - 10s - loss: 0.5004 - accuracy: 0.2005 - val_loss: 0.5009 - val_accuracy: 0.0074 - lr: 0.0010 - 10s/epoch - 284ms/step
Epoch 6/25
36/36 - 10s - loss: 0.5004 - accuracy: 0.2000 - val_loss: 0.5008 - val_accuracy: 0.0074 - lr: 0.0010 - 10s/epoch - 283ms/step
Epoch 7/25
36/36 - 10s - loss: 0.5004 - accuracy: 0.2000 - val_loss: 0.5009 - val_accuracy: 0.0074 - lr: 0.0010 - 10s/epoch - 283ms/step
Epoch 8/25
36/36 - 10s - loss: 0.5004 - accuracy: 0.2000 - val_loss: 0.5008 - val_accuracy: 0.0074 - lr: 0.0010 - 10s/epoch - 281ms/step
Epoch 9/25
36/36 - 10s - loss: 0.5004 - accuracy: 0.1996 - val_loss: 0.5006 - val_accuracy: 0.0074 - lr: 0.0010 - 10s/epoch - 284ms/step
Epoch 10/25
36/36 - 10s - loss: 0.5004 - accuracy: 0.2000 - val_loss: 0.5008 - val_accuracy: 0.0074 - lr: 0.0010 - 10s/epoch - 283ms/step
Epoch 11/25
36/36 - 10s - loss: 0.5004 - accuracy: 0.1995 - val_loss: 0.5009 - val_accuracy: 0.0074 - lr: 0.0010 - 10s/epoch - 282ms/step
Epoch 12/25
36/36 - 10s - loss: 0.5004 - accuracy: 0.2000 - val_loss: 0.5008 - val_accuracy: 0.0074 - lr: 0.0010 - 10s/epoch - 284ms/step
Epoch 13/25
36/36 - 10s - loss: 0.5004 - accuracy: 0.2000 - val_loss: 0.5006 - val_accuracy: 0.0074 - lr: 0.0010 - 10s/epoch - 283ms/step
Epoch 14/25
36/36 - 10s - loss: 0.5004 - accuracy: 0.2000 - val_loss: 0.5004 - val_accuracy: 0.0074 - lr: 0.0010 - 10s/epoch - 284ms/step
Epoch 15/25
36/36 - 10s - loss: 0.5004 - accuracy: 0.2000 - val_loss: 0.5006 - val_accuracy: 0.0074 - lr: 0.0010 - 10s/epoch - 284ms/step
Epoch 16/25
36/36 - 10s - loss: 0.5004 - accuracy: 0.2000 - val_loss: 0.5007 - val_accuracy: 0.0074 - lr: 0.0010 - 10s/epoch - 282ms/step
Epoch 17/25
36/36 - 10s - loss: 0.5004 - accuracy: 0.2000 - val_loss: 0.5007 - val_accuracy: 0.0074 - lr: 0.0010 - 10s/epoch - 283ms/step
Epoch 18/25
36/36 - 10s - loss: 0.5004 - accuracy: 0.2000 - val_loss: 0.5006 - val_accuracy: 0.0735 - lr: 0.0010 - 10s/epoch - 283ms/step
Epoch 19/25
36/36 - 10s - loss: 0.5004 - accuracy: 0.2000 - val_loss: 0.5005 - val_accuracy: 0.0735 - lr: 0.0010 - 10s/epoch - 283ms/step
Epoch 20/25
36/36 - 10s - loss: 0.5004 - accuracy: 0.2000 - val_loss: 0.5006 - val_accuracy: 0.0735 - lr: 0.0010 - 10s/epoch - 283ms/step
Epoch 21/25
36/36 - 10s - loss: 0.5004 - accuracy: 0.1991 - val_loss: 0.5004 - val_accuracy: 0.0074 - lr: 0.0010 - 10s/epoch - 283ms/step
Epoch 22/25
36/36 - 10s - loss: 0.5004 - accuracy: 0.2000 - val_loss: 0.5002 - val_accuracy: 0.0074 - lr: 0.0010 - 10s/epoch - 284ms/step
Epoch 23/25
36/36 - 10s - loss: 0.5004 - accuracy: 0.2000 - val_loss: 0.5003 - val_accuracy: 0.0074 - lr: 0.0010 - 10s/epoch - 284ms/step
Epoch 24/25
36/36 - 10s - loss: 0.5004 - accuracy: 0.2003 - val_loss: 0.5003 - val_accuracy: 0.8276 - lr: 0.0010 - 10s/epoch - 282ms/step
Epoch 25/25
36/36 - 10s - loss: 0.5004 - accuracy: 0.2000 - val_loss: 0.5002 - val_accuracy: 0.8276 - lr: 0.0010 - 10s/epoch - 282ms/step
Epoch 1/50
4378/4378 - 81s - loss: 0.5004 - accuracy: 0.1994 - val_loss: 0.5027 - val_accuracy: 0.0254 - lr: 0.0010 - 81s/epoch - 18ms/step
Epoch 2/50
4378/4378 - 79s - loss: 0.5004 - accuracy: 0.2004 - val_loss: 0.5000 - val_accuracy: 0.0735 - lr: 0.0010 - 79s/epoch - 18ms/step
Epoch 3/50
4378/4378 - 79s - loss: 0.5004 - accuracy: 0.1977 - val_loss: 0.5010 - val_accuracy: 0.0254 - lr: 0.0010 - 79s/epoch - 18ms/step
Epoch 4/50
4378/4378 - 79s - loss: 0.5004 - accuracy: 0.2014 - val_loss: 0.5013 - val_accuracy: 0.0661 - lr: 0.0010 - 79s/epoch - 18ms/step
Epoch 5/50
4378/4378 - 78s - loss: 0.5004 - accuracy: 0.1994 - val_loss: 0.4995 - val_accuracy: 0.0735 - lr: 0.0010 - 78s/epoch - 18ms/step
Epoch 6/50
4378/4378 - 79s - loss: 0.5004 - accuracy: 0.1972 - val_loss: 0.5005 - val_accuracy: 0.0254 - lr: 0.0010 - 79s/epoch - 18ms/step
Epoch 7/50
4378/4378 - 79s - loss: 0.5004 - accuracy: 0.1983 - val_loss: 0.5009 - val_accuracy: 0.0074 - lr: 0.0010 - 79s/epoch - 18ms/step
Epoch 8/50
4378/4378 - 79s - loss: 0.5004 - accuracy: 0.1976 - val_loss: 0.5017 - val_accuracy: 0.0254 - lr: 0.0010 - 79s/epoch - 18ms/step
Epoch 9/50
4378/4378 - 79s - loss: 0.5004 - accuracy: 0.1988 - val_loss: 0.5030 - val_accuracy: 0.0735 - lr: 0.0010 - 79s/epoch - 18ms/step
Epoch 10/50
4378/4378 - 79s - loss: 0.5004 - accuracy: 0.2004 - val_loss: 0.5016 - val_accuracy: 0.0254 - lr: 0.0010 - 79s/epoch - 18ms/step
Epoch 11/50
4378/4378 - 79s - loss: 0.5004 - accuracy: 0.1990 - val_loss: 0.5006 - val_accuracy: 0.0254 - lr: 0.0010 - 79s/epoch - 18ms/step
Epoch 12/50
4378/4378 - 80s - loss: 0.5004 - accuracy: 0.1975 - val_loss: 0.4994 - val_accuracy: 0.0254 - lr: 0.0010 - 80s/epoch - 18ms/step
Epoch 13/50
4378/4378 - 79s - loss: 0.5004 - accuracy: 0.1983 - val_loss: 0.5008 - val_accuracy: 0.0254 - lr: 0.0010 - 79s/epoch - 18ms/step
Epoch 14/50
4378/4378 - 80s - loss: 0.5004 - accuracy: 0.1978 - val_loss: 0.4999 - val_accuracy: 0.0735 - lr: 0.0010 - 80s/epoch - 18ms/step
Epoch 15/50
4378/4378 - 80s - loss: 0.5004 - accuracy: 0.1989 - val_loss: 0.4982 - val_accuracy: 0.8276 - lr: 0.0010 - 80s/epoch - 18ms/step
Epoch 16/50
4378/4378 - 79s - loss: 0.5004 - accuracy: 0.1982 - val_loss: 0.5004 - val_accuracy: 0.0254 - lr: 0.0010 - 79s/epoch - 18ms/step
Epoch 17/50
4378/4378 - 80s - loss: 0.5004 - accuracy: 0.1985 - val_loss: 0.5026 - val_accuracy: 0.0661 - lr: 0.0010 - 80s/epoch - 18ms/step
Epoch 18/50
4378/4378 - 80s - loss: 0.5004 - accuracy: 0.1993 - val_loss: 0.5003 - val_accuracy: 0.0074 - lr: 0.0010 - 80s/epoch - 18ms/step
Epoch 19/50
4378/4378 - 79s - loss: 0.5004 - accuracy: 0.1982 - val_loss: 0.4993 - val_accuracy: 0.0254 - lr: 0.0010 - 79s/epoch - 18ms/step
Epoch 20/50
4378/4378 - 79s - loss: 0.5004 - accuracy: 0.1998 - val_loss: 0.5013 - val_accuracy: 0.0254 - lr: 0.0010 - 79s/epoch - 18ms/step
Epoch 21/50
4378/4378 - 79s - loss: 0.5004 - accuracy: 0.2008 - val_loss: 0.5027 - val_accuracy: 0.0074 - lr: 0.0010 - 79s/epoch - 18ms/step
Epoch 22/50
4378/4378 - 79s - loss: 0.5004 - accuracy: 0.1970 - val_loss: 0.4997 - val_accuracy: 0.8276 - lr: 0.0010 - 79s/epoch - 18ms/step
Epoch 23/50
4378/4378 - 79s - loss: 0.5004 - accuracy: 0.1987 - val_loss: 0.5002 - val_accuracy: 0.0074 - lr: 0.0010 - 79s/epoch - 18ms/step
Epoch 24/50
4378/4378 - 79s - loss: 0.5004 - accuracy: 0.1981 - val_loss: 0.5017 - val_accuracy: 0.0735 - lr: 0.0010 - 79s/epoch - 18ms/step
Epoch 25/50
4378/4378 - 79s - loss: 0.5004 - accuracy: 0.1999 - val_loss: 0.5043 - val_accuracy: 0.0661 - lr: 0.0010 - 79s/epoch - 18ms/step
Epoch 26/50
4378/4378 - 79s - loss: 0.5004 - accuracy: 0.1995 - val_loss: 0.5003 - val_accuracy: 0.0735 - lr: 0.0010 - 79s/epoch - 18ms/step
Epoch 27/50
4378/4378 - 79s - loss: 0.5004 - accuracy: 0.1988 - val_loss: 0.4994 - val_accuracy: 0.0074 - lr: 0.0010 - 79s/epoch - 18ms/step
Epoch 28/50
4378/4378 - 79s - loss: 0.5004 - accuracy: 0.1994 - val_loss: 0.5021 - val_accuracy: 0.0254 - lr: 0.0010 - 79s/epoch - 18ms/step
Epoch 29/50
4378/4378 - 79s - loss: 0.5004 - accuracy: 0.1999 - val_loss: 0.5009 - val_accuracy: 0.0661 - lr: 0.0010 - 79s/epoch - 18ms/step
Epoch 30/50
4378/4378 - 79s - loss: 0.5004 - accuracy: 0.1989 - val_loss: 0.5030 - val_accuracy: 0.0735 - lr: 0.0010 - 79s/epoch - 18ms/step
Epoch 31/50
4378/4378 - 79s - loss: 0.5004 - accuracy: 0.1997 - val_loss: 0.4991 - val_accuracy: 0.0074 - lr: 0.0010 - 79s/epoch - 18ms/step
Epoch 32/50
4378/4378 - 79s - loss: 0.5004 - accuracy: 0.1992 - val_loss: 0.4982 - val_accuracy: 0.8276 - lr: 0.0010 - 79s/epoch - 18ms/step
Epoch 33/50
4378/4378 - 79s - loss: 0.5004 - accuracy: 0.1990 - val_loss: 0.5008 - val_accuracy: 0.0661 - lr: 0.0010 - 79s/epoch - 18ms/step
Epoch 34/50
4378/4378 - 79s - loss: 0.5004 - accuracy: 0.1975 - val_loss: 0.5013 - val_accuracy: 0.0254 - lr: 0.0010 - 79s/epoch - 18ms/step
Epoch 35/50
4378/4378 - 79s - loss: 0.5004 - accuracy: 0.1986 - val_loss: 0.5019 - val_accuracy: 0.0254 - lr: 0.0010 - 79s/epoch - 18ms/step
Epoch 36/50
4378/4378 - 79s - loss: 0.5004 - accuracy: 0.1991 - val_loss: 0.5004 - val_accuracy: 0.0735 - lr: 0.0010 - 79s/epoch - 18ms/step
Epoch 37/50
4378/4378 - 79s - loss: 0.5004 - accuracy: 0.1985 - val_loss: 0.4996 - val_accuracy: 0.0254 - lr: 0.0010 - 79s/epoch - 18ms/step
Epoch 38/50
4378/4378 - 80s - loss: 0.5004 - accuracy: 0.2003 - val_loss: 0.5025 - val_accuracy: 0.0735 - lr: 0.0010 - 80s/epoch - 18ms/step
Epoch 39/50
4378/4378 - 80s - loss: 0.5004 - accuracy: 0.1995 - val_loss: 0.5007 - val_accuracy: 0.0254 - lr: 0.0010 - 80s/epoch - 18ms/step
Epoch 40/50
4378/4378 - 79s - loss: 0.5004 - accuracy: 0.2008 - val_loss: 0.4963 - val_accuracy: 0.8276 - lr: 0.0010 - 79s/epoch - 18ms/step
Epoch 41/50
4378/4378 - 80s - loss: 0.5004 - accuracy: 0.1996 - val_loss: 0.5026 - val_accuracy: 0.0735 - lr: 0.0010 - 80s/epoch - 18ms/step
Epoch 42/50
4378/4378 - 79s - loss: 0.5004 - accuracy: 0.1994 - val_loss: 0.5006 - val_accuracy: 0.0254 - lr: 0.0010 - 79s/epoch - 18ms/step
Epoch 43/50
4378/4378 - 79s - loss: 0.5004 - accuracy: 0.1992 - val_loss: 0.5022 - val_accuracy: 0.0254 - lr: 0.0010 - 79s/epoch - 18ms/step
Epoch 44/50
4378/4378 - 79s - loss: 0.5004 - accuracy: 0.1974 - val_loss: 0.4998 - val_accuracy: 0.0074 - lr: 0.0010 - 79s/epoch - 18ms/step
Epoch 45/50
4378/4378 - 79s - loss: 0.5004 - accuracy: 0.1973 - val_loss: 0.5005 - val_accuracy: 0.0735 - lr: 0.0010 - 79s/epoch - 18ms/step
Epoch 46/50
4378/4378 - 79s - loss: 0.5004 - accuracy: 0.1983 - val_loss: 0.5011 - val_accuracy: 0.0661 - lr: 0.0010 - 79s/epoch - 18ms/step
Epoch 47/50
4378/4378 - 79s - loss: 0.5004 - accuracy: 0.1993 - val_loss: 0.5037 - val_accuracy: 0.0074 - lr: 0.0010 - 79s/epoch - 18ms/step
Epoch 48/50
4378/4378 - 82s - loss: 0.5004 - accuracy: 0.1998 - val_loss: 0.5025 - val_accuracy: 0.0254 - lr: 0.0010 - 82s/epoch - 19ms/step
Epoch 49/50
4378/4378 - 80s - loss: 0.5004 - accuracy: 0.1982 - val_loss: 0.5015 - val_accuracy: 0.0661 - lr: 0.0010 - 80s/epoch - 18ms/step
Epoch 50/50
4378/4378 - 79s - loss: 0.5004 - accuracy: 0.1993 - val_loss: 0.4999 - val_accuracy: 0.8276 - lr: 0.0010 - 79s/epoch - 18ms/step
Epoch 1/50
876/876 - 24s - loss: 0.5004 - accuracy: 0.1985 - val_loss: 0.4999 - val_accuracy: 0.8276 - lr: 0.0010 - 24s/epoch - 27ms/step
Epoch 2/50
876/876 - 20s - loss: 0.5004 - accuracy: 0.1981 - val_loss: 0.5008 - val_accuracy: 0.0735 - lr: 0.0010 - 20s/epoch - 23ms/step
Epoch 3/50
876/876 - 20s - loss: 0.5004 - accuracy: 0.1986 - val_loss: 0.5007 - val_accuracy: 0.0254 - lr: 0.0010 - 20s/epoch - 23ms/step
Epoch 4/50
876/876 - 21s - loss: 0.5004 - accuracy: 0.1976 - val_loss: 0.4998 - val_accuracy: 0.8276 - lr: 0.0010 - 21s/epoch - 23ms/step
Epoch 5/50
876/876 - 20s - loss: 0.5004 - accuracy: 0.2013 - val_loss: 0.5022 - val_accuracy: 0.0661 - lr: 0.0010 - 20s/epoch - 23ms/step
Epoch 6/50
876/876 - 21s - loss: 0.5004 - accuracy: 0.2002 - val_loss: 0.4990 - val_accuracy: 0.8276 - lr: 0.0010 - 21s/epoch - 23ms/step
Epoch 7/50
876/876 - 20s - loss: 0.5004 - accuracy: 0.1996 - val_loss: 0.5017 - val_accuracy: 0.0735 - lr: 0.0010 - 20s/epoch - 23ms/step
Epoch 8/50
876/876 - 21s - loss: 0.5004 - accuracy: 0.1986 - val_loss: 0.5009 - val_accuracy: 0.0735 - lr: 0.0010 - 21s/epoch - 24ms/step
Epoch 9/50
876/876 - 21s - loss: 0.5004 - accuracy: 0.1996 - val_loss: 0.5008 - val_accuracy: 0.0735 - lr: 0.0010 - 21s/epoch - 23ms/step
Epoch 10/50
876/876 - 20s - loss: 0.5004 - accuracy: 0.1976 - val_loss: 0.4998 - val_accuracy: 0.0661 - lr: 0.0010 - 20s/epoch - 23ms/step
Epoch 11/50
876/876 - 21s - loss: 0.5004 - accuracy: 0.1979 - val_loss: 0.5004 - val_accuracy: 0.0074 - lr: 0.0010 - 21s/epoch - 23ms/step
Epoch 12/50
876/876 - 21s - loss: 0.5004 - accuracy: 0.1979 - val_loss: 0.4996 - val_accuracy: 0.8276 - lr: 0.0010 - 21s/epoch - 24ms/step
Epoch 13/50
876/876 - 20s - loss: 0.5004 - accuracy: 0.1997 - val_loss: 0.5007 - val_accuracy: 0.0735 - lr: 0.0010 - 20s/epoch - 23ms/step
Epoch 14/50
876/876 - 20s - loss: 0.5004 - accuracy: 0.1971 - val_loss: 0.5006 - val_accuracy: 0.0735 - lr: 0.0010 - 20s/epoch - 23ms/step
Epoch 15/50
876/876 - 21s - loss: 0.5004 - accuracy: 0.1986 - val_loss: 0.4997 - val_accuracy: 0.0254 - lr: 0.0010 - 21s/epoch - 24ms/step
Epoch 16/50
876/876 - 21s - loss: 0.5004 - accuracy: 0.1974 - val_loss: 0.5004 - val_accuracy: 0.0074 - lr: 0.0010 - 21s/epoch - 24ms/step
Epoch 17/50
876/876 - 20s - loss: 0.5004 - accuracy: 0.1988 - val_loss: 0.4995 - val_accuracy: 0.8276 - lr: 0.0010 - 20s/epoch - 23ms/step
Epoch 18/50
876/876 - 20s - loss: 0.5004 - accuracy: 0.2008 - val_loss: 0.5009 - val_accuracy: 0.0661 - lr: 0.0010 - 20s/epoch - 23ms/step
Epoch 19/50
876/876 - 21s - loss: 0.5004 - accuracy: 0.1972 - val_loss: 0.4999 - val_accuracy: 0.8276 - lr: 0.0010 - 21s/epoch - 23ms/step
Epoch 20/50
876/876 - 21s - loss: 0.5004 - accuracy: 0.1987 - val_loss: 0.4998 - val_accuracy: 0.8276 - lr: 0.0010 - 21s/epoch - 23ms/step
Epoch 21/50
876/876 - 21s - loss: 0.5004 - accuracy: 0.1961 - val_loss: 0.5008 - val_accuracy: 0.0074 - lr: 0.0010 - 21s/epoch - 24ms/step
Epoch 22/50
876/876 - 21s - loss: 0.5004 - accuracy: 0.1986 - val_loss: 0.5005 - val_accuracy: 0.0735 - lr: 0.0010 - 21s/epoch - 23ms/step
Epoch 23/50
876/876 - 21s - loss: 0.5004 - accuracy: 0.1970 - val_loss: 0.5002 - val_accuracy: 0.0254 - lr: 0.0010 - 21s/epoch - 24ms/step
Epoch 24/50
876/876 - 21s - loss: 0.5004 - accuracy: 0.2002 - val_loss: 0.5017 - val_accuracy: 0.0661 - lr: 0.0010 - 21s/epoch - 23ms/step
Epoch 25/50
876/876 - 21s - loss: 0.5004 - accuracy: 0.1971 - val_loss: 0.5002 - val_accuracy: 0.0661 - lr: 0.0010 - 21s/epoch - 23ms/step
Epoch 26/50
876/876 - 21s - loss: 0.5004 - accuracy: 0.1981 - val_loss: 0.5005 - val_accuracy: 0.0661 - lr: 0.0010 - 21s/epoch - 23ms/step
Epoch 27/50
876/876 - 21s - loss: 0.5004 - accuracy: 0.1975 - val_loss: 0.4993 - val_accuracy: 0.8276 - lr: 0.0010 - 21s/epoch - 23ms/step
Epoch 28/50
876/876 - 20s - loss: 0.5004 - accuracy: 0.1996 - val_loss: 0.4996 - val_accuracy: 0.8276 - lr: 0.0010 - 20s/epoch - 23ms/step
Epoch 29/50
876/876 - 21s - loss: 0.5004 - accuracy: 0.1987 - val_loss: 0.4988 - val_accuracy: 0.8276 - lr: 0.0010 - 21s/epoch - 24ms/step
Epoch 30/50
876/876 - 21s - loss: 0.5004 - accuracy: 0.1991 - val_loss: 0.5018 - val_accuracy: 0.0735 - lr: 0.0010 - 21s/epoch - 23ms/step
Epoch 31/50
876/876 - 21s - loss: 0.5004 - accuracy: 0.1978 - val_loss: 0.4995 - val_accuracy: 0.8276 - lr: 0.0010 - 21s/epoch - 23ms/step
Epoch 32/50
876/876 - 21s - loss: 0.5004 - accuracy: 0.2009 - val_loss: 0.5016 - val_accuracy: 0.0735 - lr: 0.0010 - 21s/epoch - 23ms/step
Epoch 33/50
876/876 - 21s - loss: 0.5004 - accuracy: 0.1991 - val_loss: 0.5010 - val_accuracy: 0.0254 - lr: 0.0010 - 21s/epoch - 23ms/step
Epoch 34/50
876/876 - 21s - loss: 0.5004 - accuracy: 0.1976 - val_loss: 0.5002 - val_accuracy: 0.8276 - lr: 0.0010 - 21s/epoch - 23ms/step
Epoch 35/50
876/876 - 21s - loss: 0.5004 - accuracy: 0.1965 - val_loss: 0.5001 - val_accuracy: 0.0254 - lr: 0.0010 - 21s/epoch - 23ms/step
Epoch 36/50
876/876 - 21s - loss: 0.5004 - accuracy: 0.1967 - val_loss: 0.5000 - val_accuracy: 0.8276 - lr: 0.0010 - 21s/epoch - 24ms/step
Epoch 37/50
876/876 - 21s - loss: 0.5004 - accuracy: 0.1985 - val_loss: 0.5010 - val_accuracy: 0.0735 - lr: 0.0010 - 21s/epoch - 23ms/step
Epoch 38/50
876/876 - 20s - loss: 0.5004 - accuracy: 0.1978 - val_loss: 0.5015 - val_accuracy: 0.0254 - lr: 0.0010 - 20s/epoch - 23ms/step
Epoch 39/50
876/876 - 21s - loss: 0.5004 - accuracy: 0.1973 - val_loss: 0.5010 - val_accuracy: 0.0661 - lr: 0.0010 - 21s/epoch - 24ms/step
Epoch 40/50
876/876 - 21s - loss: 0.5004 - accuracy: 0.1996 - val_loss: 0.5021 - val_accuracy: 0.0661 - lr: 0.0010 - 21s/epoch - 23ms/step
Epoch 41/50
876/876 - 21s - loss: 0.5004 - accuracy: 0.1985 - val_loss: 0.5013 - val_accuracy: 0.0074 - lr: 0.0010 - 21s/epoch - 24ms/step
Epoch 42/50
876/876 - 20s - loss: 0.5004 - accuracy: 0.2002 - val_loss: 0.5005 - val_accuracy: 0.0661 - lr: 0.0010 - 20s/epoch - 23ms/step
Epoch 43/50
876/876 - 21s - loss: 0.5004 - accuracy: 0.1974 - val_loss: 0.5002 - val_accuracy: 0.0074 - lr: 0.0010 - 21s/epoch - 23ms/step
Epoch 44/50
876/876 - 21s - loss: 0.5004 - accuracy: 0.1988 - val_loss: 0.5000 - val_accuracy: 0.8276 - lr: 0.0010 - 21s/epoch - 23ms/step
Epoch 45/50
876/876 - 21s - loss: 0.5004 - accuracy: 0.1998 - val_loss: 0.5008 - val_accuracy: 0.0661 - lr: 0.0010 - 21s/epoch - 24ms/step
Epoch 46/50
876/876 - 21s - loss: 0.5004 - accuracy: 0.1982 - val_loss: 0.4998 - val_accuracy: 0.8276 - lr: 0.0010 - 21s/epoch - 23ms/step
Epoch 47/50
876/876 - 21s - loss: 0.5004 - accuracy: 0.1983 - val_loss: 0.4996 - val_accuracy: 0.8276 - lr: 0.0010 - 21s/epoch - 24ms/step
Epoch 48/50
876/876 - 21s - loss: 0.5004 - accuracy: 0.1976 - val_loss: 0.4999 - val_accuracy: 0.0661 - lr: 0.0010 - 21s/epoch - 23ms/step
Epoch 49/50
876/876 - 21s - loss: 0.5004 - accuracy: 0.1978 - val_loss: 0.5003 - val_accuracy: 0.0074 - lr: 0.0010 - 21s/epoch - 24ms/step
Epoch 50/50
876/876 - 21s - loss: 0.5004 - accuracy: 0.1989 - val_loss: 0.5025 - val_accuracy: 0.0735 - lr: 0.0010 - 21s/epoch - 24ms/step
Epoch 1/50
176/176 - 14s - loss: 0.5004 - accuracy: 0.2000 - val_loss: 0.5015 - val_accuracy: 0.0735 - lr: 0.0010 - 14s/epoch - 79ms/step
Epoch 2/50
176/176 - 11s - loss: 0.5004 - accuracy: 0.1989 - val_loss: 0.5007 - val_accuracy: 0.0074 - lr: 0.0010 - 11s/epoch - 65ms/step
Epoch 3/50
176/176 - 12s - loss: 0.5004 - accuracy: 0.1984 - val_loss: 0.5005 - val_accuracy: 0.0735 - lr: 0.0010 - 12s/epoch - 66ms/step
Epoch 4/50
176/176 - 11s - loss: 0.5004 - accuracy: 0.1958 - val_loss: 0.5005 - val_accuracy: 0.0254 - lr: 0.0010 - 11s/epoch - 65ms/step
Epoch 5/50
176/176 - 12s - loss: 0.5004 - accuracy: 0.1985 - val_loss: 0.5005 - val_accuracy: 0.0735 - lr: 0.0010 - 12s/epoch - 66ms/step
Epoch 6/50
176/176 - 11s - loss: 0.5004 - accuracy: 0.1982 - val_loss: 0.5001 - val_accuracy: 0.8276 - lr: 0.0010 - 11s/epoch - 65ms/step
Epoch 7/50
176/176 - 11s - loss: 0.5004 - accuracy: 0.1989 - val_loss: 0.5002 - val_accuracy: 0.8276 - lr: 0.0010 - 11s/epoch - 65ms/step
Epoch 8/50
176/176 - 12s - loss: 0.5004 - accuracy: 0.1996 - val_loss: 0.5006 - val_accuracy: 0.0074 - lr: 0.0010 - 12s/epoch - 66ms/step
Epoch 9/50
176/176 - 12s - loss: 0.5004 - accuracy: 0.1982 - val_loss: 0.5005 - val_accuracy: 0.0074 - lr: 0.0010 - 12s/epoch - 65ms/step
Epoch 10/50
176/176 - 12s - loss: 0.5004 - accuracy: 0.2001 - val_loss: 0.5005 - val_accuracy: 0.0735 - lr: 0.0010 - 12s/epoch - 66ms/step
Epoch 11/50
176/176 - 11s - loss: 0.5004 - accuracy: 0.1981 - val_loss: 0.5004 - val_accuracy: 0.0735 - lr: 0.0010 - 11s/epoch - 65ms/step
Epoch 12/50
176/176 - 11s - loss: 0.5004 - accuracy: 0.1967 - val_loss: 0.5004 - val_accuracy: 0.0254 - lr: 0.0010 - 11s/epoch - 65ms/step
Epoch 13/50
176/176 - 12s - loss: 0.5004 - accuracy: 0.1976 - val_loss: 0.5009 - val_accuracy: 0.0254 - lr: 0.0010 - 12s/epoch - 66ms/step
Epoch 14/50
176/176 - 11s - loss: 0.5004 - accuracy: 0.1989 - val_loss: 0.5005 - val_accuracy: 0.0074 - lr: 0.0010 - 11s/epoch - 65ms/step
Epoch 15/50
176/176 - 11s - loss: 0.5004 - accuracy: 0.1987 - val_loss: 0.5006 - val_accuracy: 0.0735 - lr: 0.0010 - 11s/epoch - 65ms/step
Epoch 16/50
176/176 - 12s - loss: 0.5004 - accuracy: 0.1994 - val_loss: 0.5007 - val_accuracy: 0.0074 - lr: 0.0010 - 12s/epoch - 66ms/step
Epoch 17/50
176/176 - 11s - loss: 0.5004 - accuracy: 0.1999 - val_loss: 0.5003 - val_accuracy: 0.0661 - lr: 0.0010 - 11s/epoch - 65ms/step
Epoch 18/50
176/176 - 11s - loss: 0.5004 - accuracy: 0.1969 - val_loss: 0.5003 - val_accuracy: 0.0661 - lr: 0.0010 - 11s/epoch - 65ms/step
Epoch 19/50
176/176 - 11s - loss: 0.5004 - accuracy: 0.1993 - val_loss: 0.5006 - val_accuracy: 0.0074 - lr: 0.0010 - 11s/epoch - 65ms/step
Epoch 20/50
176/176 - 12s - loss: 0.5004 - accuracy: 0.1974 - val_loss: 0.5001 - val_accuracy: 0.8276 - lr: 0.0010 - 12s/epoch - 66ms/step
Epoch 21/50
176/176 - 11s - loss: 0.5004 - accuracy: 0.1971 - val_loss: 0.5002 - val_accuracy: 0.8276 - lr: 0.0010 - 11s/epoch - 65ms/step
Epoch 22/50
176/176 - 11s - loss: 0.5004 - accuracy: 0.1992 - val_loss: 0.5003 - val_accuracy: 0.0735 - lr: 0.0010 - 11s/epoch - 65ms/step
Epoch 23/50
176/176 - 12s - loss: 0.5004 - accuracy: 0.1992 - val_loss: 0.5002 - val_accuracy: 0.0735 - lr: 0.0010 - 12s/epoch - 66ms/step
Epoch 24/50
176/176 - 11s - loss: 0.5004 - accuracy: 0.1990 - val_loss: 0.5004 - val_accuracy: 0.0735 - lr: 0.0010 - 11s/epoch - 65ms/step
Epoch 25/50
176/176 - 12s - loss: 0.5004 - accuracy: 0.1971 - val_loss: 0.5003 - val_accuracy: 0.0735 - lr: 0.0010 - 12s/epoch - 65ms/step
Epoch 26/50
176/176 - 12s - loss: 0.5004 - accuracy: 0.1999 - val_loss: 0.5005 - val_accuracy: 0.0735 - lr: 0.0010 - 12s/epoch - 65ms/step
Epoch 27/50
176/176 - 11s - loss: 0.5004 - accuracy: 0.1984 - val_loss: 0.5004 - val_accuracy: 0.0074 - lr: 0.0010 - 11s/epoch - 65ms/step
Epoch 28/50
176/176 - 12s - loss: 0.5004 - accuracy: 0.1976 - val_loss: 0.5004 - val_accuracy: 0.0074 - lr: 0.0010 - 12s/epoch - 66ms/step
Epoch 29/50
176/176 - 12s - loss: 0.5004 - accuracy: 0.1995 - val_loss: 0.5004 - val_accuracy: 0.0074 - lr: 0.0010 - 12s/epoch - 66ms/step
Epoch 30/50
176/176 - 12s - loss: 0.5004 - accuracy: 0.1981 - val_loss: 0.5003 - val_accuracy: 0.0254 - lr: 0.0010 - 12s/epoch - 66ms/step
Epoch 31/50
176/176 - 12s - loss: 0.5004 - accuracy: 0.1983 - val_loss: 0.5003 - val_accuracy: 0.0074 - lr: 0.0010 - 12s/epoch - 65ms/step
Epoch 32/50
176/176 - 11s - loss: 0.5004 - accuracy: 0.1979 - val_loss: 0.5003 - val_accuracy: 0.0735 - lr: 0.0010 - 11s/epoch - 65ms/step
Epoch 33/50
176/176 - 12s - loss: 0.5004 - accuracy: 0.1981 - val_loss: 0.5004 - val_accuracy: 0.0074 - lr: 0.0010 - 12s/epoch - 66ms/step
Epoch 34/50
176/176 - 12s - loss: 0.5004 - accuracy: 0.1985 - val_loss: 0.5002 - val_accuracy: 0.8276 - lr: 0.0010 - 12s/epoch - 65ms/step
Epoch 35/50
176/176 - 12s - loss: 0.5004 - accuracy: 0.1967 - val_loss: 0.5001 - val_accuracy: 0.8276 - lr: 0.0010 - 12s/epoch - 65ms/step
Epoch 36/50
176/176 - 12s - loss: 0.5004 - accuracy: 0.1965 - val_loss: 0.5004 - val_accuracy: 0.0074 - lr: 0.0010 - 12s/epoch - 66ms/step
Epoch 37/50
176/176 - 12s - loss: 0.5004 - accuracy: 0.1988 - val_loss: 0.5002 - val_accuracy: 0.0661 - lr: 0.0010 - 12s/epoch - 65ms/step
Epoch 38/50
176/176 - 12s - loss: 0.5004 - accuracy: 0.1995 - val_loss: 0.5004 - val_accuracy: 0.0074 - lr: 0.0010 - 12s/epoch - 65ms/step
Epoch 39/50
176/176 - 11s - loss: 0.5004 - accuracy: 0.1979 - val_loss: 0.5003 - val_accuracy: 0.8276 - lr: 0.0010 - 11s/epoch - 65ms/step
Epoch 40/50
176/176 - 12s - loss: 0.5004 - accuracy: 0.1983 - val_loss: 0.5004 - val_accuracy: 0.0074 - lr: 0.0010 - 12s/epoch - 66ms/step
Epoch 41/50
176/176 - 12s - loss: 0.5004 - accuracy: 0.1993 - val_loss: 0.5003 - val_accuracy: 0.8276 - lr: 0.0010 - 12s/epoch - 66ms/step
Epoch 42/50
176/176 - 12s - loss: 0.5004 - accuracy: 0.1987 - val_loss: 0.5002 - val_accuracy: 0.8276 - lr: 0.0010 - 12s/epoch - 66ms/step
Epoch 43/50
176/176 - 11s - loss: 0.5004 - accuracy: 0.1985 - val_loss: 0.5006 - val_accuracy: 0.0661 - lr: 0.0010 - 11s/epoch - 65ms/step
Epoch 44/50
176/176 - 12s - loss: 0.5004 - accuracy: 0.1991 - val_loss: 0.5003 - val_accuracy: 0.8276 - lr: 0.0010 - 12s/epoch - 66ms/step
Epoch 45/50
176/176 - 11s - loss: 0.5004 - accuracy: 0.1988 - val_loss: 0.5001 - val_accuracy: 0.8276 - lr: 0.0010 - 11s/epoch - 65ms/step
Epoch 46/50
176/176 - 12s - loss: 0.5004 - accuracy: 0.1976 - val_loss: 0.5001 - val_accuracy: 0.0661 - lr: 0.0010 - 12s/epoch - 66ms/step
Epoch 47/50
176/176 - 12s - loss: 0.5004 - accuracy: 0.1983 - val_loss: 0.5004 - val_accuracy: 0.0661 - lr: 0.0010 - 12s/epoch - 66ms/step
Epoch 48/50
176/176 - 12s - loss: 0.5004 - accuracy: 0.1969 - val_loss: 0.5004 - val_accuracy: 0.0254 - lr: 0.0010 - 12s/epoch - 65ms/step
Epoch 49/50
176/176 - 11s - loss: 0.5004 - accuracy: 0.1995 - val_loss: 0.5007 - val_accuracy: 0.0661 - lr: 0.0010 - 11s/epoch - 65ms/step
Epoch 50/50
176/176 - 11s - loss: 0.5004 - accuracy: 0.1983 - val_loss: 0.5005 - val_accuracy: 0.0661 - lr: 0.0010 - 11s/epoch - 65ms/step
Epoch 1/50
36/36 - 13s - loss: 0.5004 - accuracy: 0.2000 - val_loss: 0.5006 - val_accuracy: 0.0661 - lr: 0.0010 - 13s/epoch - 356ms/step
Epoch 2/50
36/36 - 10s - loss: 0.5004 - accuracy: 0.2006 - val_loss: 0.5007 - val_accuracy: 0.0254 - lr: 0.0010 - 10s/epoch - 282ms/step
Epoch 3/50
36/36 - 10s - loss: 0.5004 - accuracy: 0.2000 - val_loss: 0.5008 - val_accuracy: 0.0254 - lr: 0.0010 - 10s/epoch - 284ms/step
Epoch 4/50
36/36 - 10s - loss: 0.5004 - accuracy: 0.1991 - val_loss: 0.5007 - val_accuracy: 0.0661 - lr: 0.0010 - 10s/epoch - 287ms/step
Epoch 5/50
36/36 - 10s - loss: 0.5004 - accuracy: 0.1998 - val_loss: 0.5006 - val_accuracy: 0.0661 - lr: 0.0010 - 10s/epoch - 282ms/step
Epoch 6/50
36/36 - 10s - loss: 0.5004 - accuracy: 0.2000 - val_loss: 0.5006 - val_accuracy: 0.0661 - lr: 0.0010 - 10s/epoch - 283ms/step
Epoch 7/50
36/36 - 10s - loss: 0.5004 - accuracy: 0.2000 - val_loss: 0.5008 - val_accuracy: 0.0661 - lr: 0.0010 - 10s/epoch - 282ms/step
Epoch 8/50
36/36 - 10s - loss: 0.5004 - accuracy: 0.2000 - val_loss: 0.5005 - val_accuracy: 0.0661 - lr: 0.0010 - 10s/epoch - 285ms/step
Epoch 9/50
36/36 - 10s - loss: 0.5004 - accuracy: 0.2000 - val_loss: 0.5005 - val_accuracy: 0.0661 - lr: 0.0010 - 10s/epoch - 283ms/step
Epoch 10/50
36/36 - 10s - loss: 0.5004 - accuracy: 0.2000 - val_loss: 0.5007 - val_accuracy: 0.0661 - lr: 0.0010 - 10s/epoch - 283ms/step
Epoch 11/50
36/36 - 10s - loss: 0.5004 - accuracy: 0.2000 - val_loss: 0.5006 - val_accuracy: 0.0661 - lr: 0.0010 - 10s/epoch - 283ms/step
Epoch 12/50
36/36 - 10s - loss: 0.5004 - accuracy: 0.2000 - val_loss: 0.5006 - val_accuracy: 0.0661 - lr: 0.0010 - 10s/epoch - 282ms/step
Epoch 13/50
36/36 - 10s - loss: 0.5004 - accuracy: 0.2000 - val_loss: 0.5006 - val_accuracy: 0.0661 - lr: 0.0010 - 10s/epoch - 285ms/step
Epoch 14/50
36/36 - 10s - loss: 0.5004 - accuracy: 0.2000 - val_loss: 0.5006 - val_accuracy: 0.0661 - lr: 0.0010 - 10s/epoch - 284ms/step
Epoch 15/50
36/36 - 10s - loss: 0.5004 - accuracy: 0.2000 - val_loss: 0.5006 - val_accuracy: 0.0661 - lr: 0.0010 - 10s/epoch - 283ms/step
Epoch 16/50
36/36 - 10s - loss: 0.5004 - accuracy: 0.2000 - val_loss: 0.5006 - val_accuracy: 0.0661 - lr: 0.0010 - 10s/epoch - 284ms/step
Epoch 17/50
36/36 - 10s - loss: 0.5004 - accuracy: 0.2000 - val_loss: 0.5008 - val_accuracy: 0.0661 - lr: 0.0010 - 10s/epoch - 282ms/step
Epoch 18/50
36/36 - 10s - loss: 0.5004 - accuracy: 0.2000 - val_loss: 0.5008 - val_accuracy: 0.0661 - lr: 0.0010 - 10s/epoch - 285ms/step
Epoch 19/50
36/36 - 10s - loss: 0.5004 - accuracy: 0.2000 - val_loss: 0.5008 - val_accuracy: 0.0661 - lr: 0.0010 - 10s/epoch - 282ms/step
Epoch 20/50
36/36 - 10s - loss: 0.5004 - accuracy: 0.2000 - val_loss: 0.5007 - val_accuracy: 0.0661 - lr: 0.0010 - 10s/epoch - 283ms/step
Epoch 21/50
36/36 - 10s - loss: 0.5004 - accuracy: 0.2000 - val_loss: 0.5008 - val_accuracy: 0.0661 - lr: 0.0010 - 10s/epoch - 284ms/step
Epoch 22/50
36/36 - 10s - loss: 0.5004 - accuracy: 0.2000 - val_loss: 0.5008 - val_accuracy: 0.0661 - lr: 0.0010 - 10s/epoch - 283ms/step
Epoch 23/50
36/36 - 10s - loss: 0.5004 - accuracy: 0.2000 - val_loss: 0.5008 - val_accuracy: 0.0661 - lr: 0.0010 - 10s/epoch - 285ms/step
Epoch 24/50
36/36 - 10s - loss: 0.5004 - accuracy: 0.2000 - val_loss: 0.5008 - val_accuracy: 0.0661 - lr: 0.0010 - 10s/epoch - 283ms/step
Epoch 25/50
36/36 - 10s - loss: 0.5004 - accuracy: 0.2000 - val_loss: 0.5007 - val_accuracy: 0.0661 - lr: 0.0010 - 10s/epoch - 282ms/step
Epoch 26/50
36/36 - 10s - loss: 0.5004 - accuracy: 0.2000 - val_loss: 0.5007 - val_accuracy: 0.0661 - lr: 0.0010 - 10s/epoch - 284ms/step
Epoch 27/50
36/36 - 10s - loss: 0.5004 - accuracy: 0.2000 - val_loss: 0.5008 - val_accuracy: 0.0661 - lr: 0.0010 - 10s/epoch - 282ms/step
Epoch 28/50
36/36 - 10s - loss: 0.5004 - accuracy: 0.2000 - val_loss: 0.5008 - val_accuracy: 0.0661 - lr: 0.0010 - 10s/epoch - 284ms/step
Epoch 29/50
36/36 - 10s - loss: 0.5004 - accuracy: 0.2000 - val_loss: 0.5006 - val_accuracy: 0.0661 - lr: 0.0010 - 10s/epoch - 284ms/step
Epoch 30/50
36/36 - 10s - loss: 0.5004 - accuracy: 0.2000 - val_loss: 0.5006 - val_accuracy: 0.0661 - lr: 0.0010 - 10s/epoch - 285ms/step
Epoch 31/50
36/36 - 10s - loss: 0.5004 - accuracy: 0.2000 - val_loss: 0.5006 - val_accuracy: 0.0661 - lr: 0.0010 - 10s/epoch - 284ms/step
Epoch 32/50
36/36 - 10s - loss: 0.5004 - accuracy: 0.2000 - val_loss: 0.5006 - val_accuracy: 0.0661 - lr: 0.0010 - 10s/epoch - 283ms/step
Epoch 33/50
36/36 - 10s - loss: 0.5004 - accuracy: 0.2000 - val_loss: 0.5005 - val_accuracy: 0.0661 - lr: 0.0010 - 10s/epoch - 283ms/step
Epoch 34/50
36/36 - 10s - loss: 0.5004 - accuracy: 0.1998 - val_loss: 0.5004 - val_accuracy: 0.0735 - lr: 0.0010 - 10s/epoch - 284ms/step
Epoch 35/50
36/36 - 10s - loss: 0.5004 - accuracy: 0.2000 - val_loss: 0.5002 - val_accuracy: 0.0735 - lr: 0.0010 - 10s/epoch - 283ms/step
Epoch 36/50
36/36 - 10s - loss: 0.5004 - accuracy: 0.2000 - val_loss: 0.5002 - val_accuracy: 0.0735 - lr: 0.0010 - 10s/epoch - 282ms/step
Epoch 37/50
36/36 - 10s - loss: 0.5004 - accuracy: 0.2001 - val_loss: 0.5001 - val_accuracy: 0.0735 - lr: 0.0010 - 10s/epoch - 284ms/step
Epoch 38/50
36/36 - 10s - loss: 0.5004 - accuracy: 0.2000 - val_loss: 0.5004 - val_accuracy: 0.0735 - lr: 0.0010 - 10s/epoch - 283ms/step
Epoch 39/50
36/36 - 10s - loss: 0.5004 - accuracy: 0.2000 - val_loss: 0.5004 - val_accuracy: 0.0735 - lr: 0.0010 - 10s/epoch - 282ms/step
Epoch 40/50
36/36 - 10s - loss: 0.5004 - accuracy: 0.1982 - val_loss: 0.5005 - val_accuracy: 0.0661 - lr: 0.0010 - 10s/epoch - 283ms/step
Epoch 41/50
36/36 - 10s - loss: 0.5004 - accuracy: 0.1997 - val_loss: 0.5006 - val_accuracy: 0.0074 - lr: 0.0010 - 10s/epoch - 282ms/step
Epoch 42/50
36/36 - 10s - loss: 0.5004 - accuracy: 0.1982 - val_loss: 0.5005 - val_accuracy: 0.0254 - lr: 0.0010 - 10s/epoch - 283ms/step
Epoch 43/50
36/36 - 10s - loss: 0.5004 - accuracy: 0.1999 - val_loss: 0.5004 - val_accuracy: 0.0254 - lr: 0.0010 - 10s/epoch - 284ms/step
Epoch 44/50
36/36 - 10s - loss: 0.5004 - accuracy: 0.2000 - val_loss: 0.5005 - val_accuracy: 0.0254 - lr: 0.0010 - 10s/epoch - 283ms/step
Epoch 45/50
36/36 - 10s - loss: 0.5004 - accuracy: 0.2003 - val_loss: 0.5003 - val_accuracy: 0.0254 - lr: 0.0010 - 10s/epoch - 284ms/step
Epoch 46/50
36/36 - 10s - loss: 0.5004 - accuracy: 0.1997 - val_loss: 0.5002 - val_accuracy: 0.8276 - lr: 0.0010 - 10s/epoch - 283ms/step
Epoch 47/50
36/36 - 10s - loss: 0.5004 - accuracy: 0.2000 - val_loss: 0.5002 - val_accuracy: 0.8276 - lr: 0.0010 - 10s/epoch - 284ms/step
Epoch 48/50
36/36 - 10s - loss: 0.5004 - accuracy: 0.1999 - val_loss: 0.5004 - val_accuracy: 0.0735 - lr: 0.0010 - 10s/epoch - 284ms/step
Epoch 49/50
36/36 - 10s - loss: 0.5004 - accuracy: 0.2000 - val_loss: 0.5004 - val_accuracy: 0.0735 - lr: 0.0010 - 10s/epoch - 284ms/step
Epoch 50/50
36/36 - 10s - loss: 0.5004 - accuracy: 0.1991 - val_loss: 0.5005 - val_accuracy: 0.0254 - lr: 0.0010 - 10s/epoch - 284ms/step
Epoch 1/75
4378/4378 - 82s - loss: 0.5004 - accuracy: 0.2009 - val_loss: 0.5045 - val_accuracy: 0.0254 - lr: 0.0010 - 82s/epoch - 19ms/step
Epoch 2/75
4378/4378 - 80s - loss: 0.5004 - accuracy: 0.1968 - val_loss: 0.5008 - val_accuracy: 0.0074 - lr: 0.0010 - 80s/epoch - 18ms/step
Epoch 3/75
4378/4378 - 80s - loss: 0.5004 - accuracy: 0.1996 - val_loss: 0.5000 - val_accuracy: 0.0254 - lr: 0.0010 - 80s/epoch - 18ms/step
Epoch 4/75
4378/4378 - 80s - loss: 0.5004 - accuracy: 0.1989 - val_loss: 0.5028 - val_accuracy: 0.0074 - lr: 0.0010 - 80s/epoch - 18ms/step
Epoch 5/75
4378/4378 - 80s - loss: 0.5004 - accuracy: 0.1991 - val_loss: 0.5035 - val_accuracy: 0.0735 - lr: 0.0010 - 80s/epoch - 18ms/step
Epoch 6/75
4378/4378 - 80s - loss: 0.5004 - accuracy: 0.2000 - val_loss: 0.4983 - val_accuracy: 0.8276 - lr: 0.0010 - 80s/epoch - 18ms/step
Epoch 7/75
4378/4378 - 80s - loss: 0.5004 - accuracy: 0.1997 - val_loss: 0.4999 - val_accuracy: 0.0254 - lr: 0.0010 - 80s/epoch - 18ms/step
Epoch 8/75
4378/4378 - 80s - loss: 0.5004 - accuracy: 0.1997 - val_loss: 0.5006 - val_accuracy: 0.0074 - lr: 0.0010 - 80s/epoch - 18ms/step
Epoch 9/75
4378/4378 - 80s - loss: 0.5004 - accuracy: 0.1992 - val_loss: 0.5013 - val_accuracy: 0.0661 - lr: 0.0010 - 80s/epoch - 18ms/step
Epoch 10/75
4378/4378 - 80s - loss: 0.5004 - accuracy: 0.1976 - val_loss: 0.4991 - val_accuracy: 0.8276 - lr: 0.0010 - 80s/epoch - 18ms/step
Epoch 11/75
4378/4378 - 80s - loss: 0.5004 - accuracy: 0.1992 - val_loss: 0.4986 - val_accuracy: 0.0661 - lr: 0.0010 - 80s/epoch - 18ms/step
Epoch 12/75
4378/4378 - 80s - loss: 0.5004 - accuracy: 0.1995 - val_loss: 0.4985 - val_accuracy: 0.8276 - lr: 0.0010 - 80s/epoch - 18ms/step
Epoch 13/75
4378/4378 - 80s - loss: 0.5004 - accuracy: 0.1995 - val_loss: 0.5028 - val_accuracy: 0.0074 - lr: 0.0010 - 80s/epoch - 18ms/step
Epoch 14/75
4378/4378 - 80s - loss: 0.5004 - accuracy: 0.1993 - val_loss: 0.5009 - val_accuracy: 0.0254 - lr: 0.0010 - 80s/epoch - 18ms/step
Epoch 15/75
4378/4378 - 80s - loss: 0.5004 - accuracy: 0.1983 - val_loss: 0.4997 - val_accuracy: 0.0254 - lr: 0.0010 - 80s/epoch - 18ms/step
Epoch 16/75
4378/4378 - 80s - loss: 0.5004 - accuracy: 0.1996 - val_loss: 0.5026 - val_accuracy: 0.0074 - lr: 0.0010 - 80s/epoch - 18ms/step
Epoch 17/75
4378/4378 - 80s - loss: 0.5004 - accuracy: 0.1990 - val_loss: 0.4991 - val_accuracy: 0.8276 - lr: 0.0010 - 80s/epoch - 18ms/step
Epoch 18/75
4378/4378 - 80s - loss: 0.5004 - accuracy: 0.1973 - val_loss: 0.4990 - val_accuracy: 0.0661 - lr: 0.0010 - 80s/epoch - 18ms/step
Epoch 19/75
4378/4378 - 80s - loss: 0.5004 - accuracy: 0.2001 - val_loss: 0.4991 - val_accuracy: 0.0074 - lr: 0.0010 - 80s/epoch - 18ms/step
Epoch 20/75
4378/4378 - 80s - loss: 0.5004 - accuracy: 0.1985 - val_loss: 0.5014 - val_accuracy: 0.0254 - lr: 0.0010 - 80s/epoch - 18ms/step
Epoch 21/75
4378/4378 - 80s - loss: 0.5004 - accuracy: 0.2000 - val_loss: 0.5008 - val_accuracy: 0.0254 - lr: 0.0010 - 80s/epoch - 18ms/step
Epoch 22/75
4378/4378 - 80s - loss: 0.5004 - accuracy: 0.1980 - val_loss: 0.5008 - val_accuracy: 0.0735 - lr: 0.0010 - 80s/epoch - 18ms/step
Epoch 23/75
4378/4378 - 79s - loss: 0.5004 - accuracy: 0.2007 - val_loss: 0.4989 - val_accuracy: 0.0735 - lr: 0.0010 - 79s/epoch - 18ms/step
Epoch 24/75
4378/4378 - 80s - loss: 0.5004 - accuracy: 0.1989 - val_loss: 0.4968 - val_accuracy: 0.8276 - lr: 0.0010 - 80s/epoch - 18ms/step
Epoch 25/75
4378/4378 - 79s - loss: 0.5004 - accuracy: 0.1983 - val_loss: 0.4988 - val_accuracy: 0.8276 - lr: 0.0010 - 79s/epoch - 18ms/step
Epoch 26/75
4378/4378 - 79s - loss: 0.5004 - accuracy: 0.2007 - val_loss: 0.4959 - val_accuracy: 0.8276 - lr: 0.0010 - 79s/epoch - 18ms/step
Epoch 27/75
4378/4378 - 79s - loss: 0.5004 - accuracy: 0.1998 - val_loss: 0.5014 - val_accuracy: 0.0254 - lr: 0.0010 - 79s/epoch - 18ms/step
Epoch 28/75
4378/4378 - 79s - loss: 0.5004 - accuracy: 0.2022 - val_loss: 0.5019 - val_accuracy: 0.0661 - lr: 0.0010 - 79s/epoch - 18ms/step
Epoch 29/75
4378/4378 - 80s - loss: 0.5004 - accuracy: 0.1991 - val_loss: 0.4991 - val_accuracy: 0.8276 - lr: 0.0010 - 80s/epoch - 18ms/step
Epoch 30/75
4378/4378 - 80s - loss: 0.5004 - accuracy: 0.1990 - val_loss: 0.5004 - val_accuracy: 0.0735 - lr: 0.0010 - 80s/epoch - 18ms/step
Epoch 31/75
4378/4378 - 79s - loss: 0.5004 - accuracy: 0.1998 - val_loss: 0.5000 - val_accuracy: 0.0254 - lr: 0.0010 - 79s/epoch - 18ms/step
Epoch 32/75
4378/4378 - 80s - loss: 0.5004 - accuracy: 0.1996 - val_loss: 0.4997 - val_accuracy: 0.0661 - lr: 0.0010 - 80s/epoch - 18ms/step
Epoch 33/75
4378/4378 - 80s - loss: 0.5004 - accuracy: 0.1978 - val_loss: 0.5008 - val_accuracy: 0.0254 - lr: 0.0010 - 80s/epoch - 18ms/step
Epoch 34/75
4378/4378 - 80s - loss: 0.5004 - accuracy: 0.1995 - val_loss: 0.5019 - val_accuracy: 0.0661 - lr: 0.0010 - 80s/epoch - 18ms/step
Epoch 35/75
4378/4378 - 80s - loss: 0.5004 - accuracy: 0.1991 - val_loss: 0.5032 - val_accuracy: 0.0735 - lr: 0.0010 - 80s/epoch - 18ms/step
Epoch 36/75
4378/4378 - 80s - loss: 0.5004 - accuracy: 0.1970 - val_loss: 0.5012 - val_accuracy: 0.0074 - lr: 0.0010 - 80s/epoch - 18ms/step
Epoch 37/75
4378/4378 - 79s - loss: 0.5004 - accuracy: 0.1992 - val_loss: 0.5000 - val_accuracy: 0.0074 - lr: 0.0010 - 79s/epoch - 18ms/step
Epoch 38/75
4378/4378 - 80s - loss: 0.5004 - accuracy: 0.1987 - val_loss: 0.4998 - val_accuracy: 0.8276 - lr: 0.0010 - 80s/epoch - 18ms/step
Epoch 39/75
4378/4378 - 80s - loss: 0.5004 - accuracy: 0.1977 - val_loss: 0.4990 - val_accuracy: 0.0074 - lr: 0.0010 - 80s/epoch - 18ms/step
Epoch 40/75
4378/4378 - 80s - loss: 0.5004 - accuracy: 0.1985 - val_loss: 0.5003 - val_accuracy: 0.0735 - lr: 0.0010 - 80s/epoch - 18ms/step
Epoch 41/75
4378/4378 - 80s - loss: 0.5004 - accuracy: 0.2006 - val_loss: 0.5001 - val_accuracy: 0.0735 - lr: 0.0010 - 80s/epoch - 18ms/step
Epoch 42/75
4378/4378 - 80s - loss: 0.5004 - accuracy: 0.2017 - val_loss: 0.5047 - val_accuracy: 0.0074 - lr: 0.0010 - 80s/epoch - 18ms/step
Epoch 43/75
4378/4378 - 80s - loss: 0.5004 - accuracy: 0.1968 - val_loss: 0.5006 - val_accuracy: 0.0074 - lr: 0.0010 - 80s/epoch - 18ms/step
Epoch 44/75
4378/4378 - 80s - loss: 0.5004 - accuracy: 0.1975 - val_loss: 0.5002 - val_accuracy: 0.0074 - lr: 0.0010 - 80s/epoch - 18ms/step
Epoch 45/75
4378/4378 - 80s - loss: 0.5004 - accuracy: 0.1991 - val_loss: 0.4974 - val_accuracy: 0.8276 - lr: 0.0010 - 80s/epoch - 18ms/step
Epoch 46/75
4378/4378 - 80s - loss: 0.5004 - accuracy: 0.1974 - val_loss: 0.5002 - val_accuracy: 0.0074 - lr: 0.0010 - 80s/epoch - 18ms/step
Epoch 47/75
4378/4378 - 80s - loss: 0.5004 - accuracy: 0.1991 - val_loss: 0.5008 - val_accuracy: 0.0254 - lr: 0.0010 - 80s/epoch - 18ms/step
Epoch 48/75
4378/4378 - 80s - loss: 0.5004 - accuracy: 0.1974 - val_loss: 0.5008 - val_accuracy: 0.0735 - lr: 0.0010 - 80s/epoch - 18ms/step
Epoch 49/75
4378/4378 - 80s - loss: 0.5004 - accuracy: 0.1984 - val_loss: 0.5000 - val_accuracy: 0.0074 - lr: 0.0010 - 80s/epoch - 18ms/step
Epoch 50/75
4378/4378 - 80s - loss: 0.5004 - accuracy: 0.1997 - val_loss: 0.4991 - val_accuracy: 0.8276 - lr: 0.0010 - 80s/epoch - 18ms/step
Epoch 51/75
4378/4378 - 80s - loss: 0.5004 - accuracy: 0.1963 - val_loss: 0.5005 - val_accuracy: 0.0735 - lr: 0.0010 - 80s/epoch - 18ms/step
Epoch 52/75
4378/4378 - 79s - loss: 0.5004 - accuracy: 0.1991 - val_loss: 0.5026 - val_accuracy: 0.0074 - lr: 0.0010 - 79s/epoch - 18ms/step
Epoch 53/75
4378/4378 - 80s - loss: 0.5004 - accuracy: 0.1994 - val_loss: 0.5019 - val_accuracy: 0.0735 - lr: 0.0010 - 80s/epoch - 18ms/step
Epoch 54/75
4378/4378 - 80s - loss: 0.5004 - accuracy: 0.2003 - val_loss: 0.5027 - val_accuracy: 0.0735 - lr: 0.0010 - 80s/epoch - 18ms/step
Epoch 55/75
4378/4378 - 80s - loss: 0.5004 - accuracy: 0.1974 - val_loss: 0.4980 - val_accuracy: 0.8276 - lr: 0.0010 - 80s/epoch - 18ms/step
Epoch 56/75
4378/4378 - 79s - loss: 0.5004 - accuracy: 0.2003 - val_loss: 0.5003 - val_accuracy: 0.0074 - lr: 0.0010 - 79s/epoch - 18ms/step
Epoch 57/75
4378/4378 - 79s - loss: 0.5004 - accuracy: 0.2002 - val_loss: 0.4999 - val_accuracy: 0.0735 - lr: 0.0010 - 79s/epoch - 18ms/step
Epoch 58/75
4378/4378 - 80s - loss: 0.5004 - accuracy: 0.2001 - val_loss: 0.4993 - val_accuracy: 0.0735 - lr: 0.0010 - 80s/epoch - 18ms/step
Epoch 59/75
4378/4378 - 80s - loss: 0.5004 - accuracy: 0.1979 - val_loss: 0.5016 - val_accuracy: 0.0661 - lr: 0.0010 - 80s/epoch - 18ms/step
Epoch 60/75
4378/4378 - 80s - loss: 0.5004 - accuracy: 0.2001 - val_loss: 0.5008 - val_accuracy: 0.0735 - lr: 0.0010 - 80s/epoch - 18ms/step
Epoch 61/75
4378/4378 - 80s - loss: 0.5004 - accuracy: 0.1992 - val_loss: 0.5002 - val_accuracy: 0.0735 - lr: 0.0010 - 80s/epoch - 18ms/step
Epoch 62/75
4378/4378 - 80s - loss: 0.5004 - accuracy: 0.1978 - val_loss: 0.5006 - val_accuracy: 0.0254 - lr: 0.0010 - 80s/epoch - 18ms/step
Epoch 63/75
4378/4378 - 80s - loss: 0.5004 - accuracy: 0.1979 - val_loss: 0.4990 - val_accuracy: 0.8276 - lr: 0.0010 - 80s/epoch - 18ms/step
Epoch 64/75
4378/4378 - 80s - loss: 0.5004 - accuracy: 0.1965 - val_loss: 0.5005 - val_accuracy: 0.0254 - lr: 0.0010 - 80s/epoch - 18ms/step
Epoch 65/75
4378/4378 - 80s - loss: 0.5004 - accuracy: 0.1992 - val_loss: 0.5049 - val_accuracy: 0.0735 - lr: 0.0010 - 80s/epoch - 18ms/step
Epoch 66/75
4378/4378 - 80s - loss: 0.5004 - accuracy: 0.1987 - val_loss: 0.5015 - val_accuracy: 0.0661 - lr: 0.0010 - 80s/epoch - 18ms/step
Epoch 67/75
4378/4378 - 80s - loss: 0.5004 - accuracy: 0.1968 - val_loss: 0.4995 - val_accuracy: 0.0735 - lr: 0.0010 - 80s/epoch - 18ms/step
Epoch 68/75
4378/4378 - 80s - loss: 0.5004 - accuracy: 0.2002 - val_loss: 0.5045 - val_accuracy: 0.0074 - lr: 0.0010 - 80s/epoch - 18ms/step
Epoch 69/75
4378/4378 - 80s - loss: 0.5004 - accuracy: 0.1984 - val_loss: 0.5009 - val_accuracy: 0.0661 - lr: 0.0010 - 80s/epoch - 18ms/step
Epoch 70/75
4378/4378 - 80s - loss: 0.5004 - accuracy: 0.1981 - val_loss: 0.4988 - val_accuracy: 0.8276 - lr: 0.0010 - 80s/epoch - 18ms/step
Epoch 71/75
4378/4378 - 80s - loss: 0.5004 - accuracy: 0.1991 - val_loss: 0.5009 - val_accuracy: 0.0735 - lr: 0.0010 - 80s/epoch - 18ms/step
Epoch 72/75
4378/4378 - 80s - loss: 0.5004 - accuracy: 0.1955 - val_loss: 0.5008 - val_accuracy: 0.0074 - lr: 0.0010 - 80s/epoch - 18ms/step
Epoch 73/75
4378/4378 - 80s - loss: 0.5004 - accuracy: 0.1984 - val_loss: 0.5000 - val_accuracy: 0.0661 - lr: 0.0010 - 80s/epoch - 18ms/step
Epoch 74/75
4378/4378 - 80s - loss: 0.5004 - accuracy: 0.1998 - val_loss: 0.4991 - val_accuracy: 0.8276 - lr: 0.0010 - 80s/epoch - 18ms/step
Epoch 75/75
4378/4378 - 80s - loss: 0.5004 - accuracy: 0.1981 - val_loss: 0.4990 - val_accuracy: 0.8276 - lr: 0.0010 - 80s/epoch - 18ms/step
Epoch 1/75
876/876 - 24s - loss: 0.5004 - accuracy: 0.1986 - val_loss: 0.4994 - val_accuracy: 0.8276 - lr: 0.0010 - 24s/epoch - 27ms/step
Epoch 2/75
876/876 - 20s - loss: 0.5004 - accuracy: 0.1998 - val_loss: 0.5014 - val_accuracy: 0.0254 - lr: 0.0010 - 20s/epoch - 23ms/step
Epoch 3/75
876/876 - 20s - loss: 0.5004 - accuracy: 0.2000 - val_loss: 0.5013 - val_accuracy: 0.0254 - lr: 0.0010 - 20s/epoch - 23ms/step
Epoch 4/75
876/876 - 21s - loss: 0.5004 - accuracy: 0.1978 - val_loss: 0.5004 - val_accuracy: 0.0074 - lr: 0.0010 - 21s/epoch - 24ms/step
Epoch 5/75
876/876 - 21s - loss: 0.5004 - accuracy: 0.1982 - val_loss: 0.5008 - val_accuracy: 0.0735 - lr: 0.0010 - 21s/epoch - 23ms/step
Epoch 6/75
876/876 - 21s - loss: 0.5004 - accuracy: 0.1998 - val_loss: 0.5002 - val_accuracy: 0.0735 - lr: 0.0010 - 21s/epoch - 24ms/step
Epoch 7/75
876/876 - 20s - loss: 0.5004 - accuracy: 0.1995 - val_loss: 0.4990 - val_accuracy: 0.8276 - lr: 0.0010 - 20s/epoch - 23ms/step
Epoch 8/75
876/876 - 21s - loss: 0.5004 - accuracy: 0.1991 - val_loss: 0.5008 - val_accuracy: 0.0254 - lr: 0.0010 - 21s/epoch - 23ms/step
Epoch 9/75
876/876 - 21s - loss: 0.5004 - accuracy: 0.1970 - val_loss: 0.4999 - val_accuracy: 0.0661 - lr: 0.0010 - 21s/epoch - 23ms/step
Epoch 10/75
876/876 - 21s - loss: 0.5004 - accuracy: 0.1978 - val_loss: 0.5004 - val_accuracy: 0.0254 - lr: 0.0010 - 21s/epoch - 23ms/step
Epoch 11/75
876/876 - 21s - loss: 0.5004 - accuracy: 0.1983 - val_loss: 0.5009 - val_accuracy: 0.0254 - lr: 0.0010 - 21s/epoch - 23ms/step
Epoch 12/75
876/876 - 21s - loss: 0.5004 - accuracy: 0.1975 - val_loss: 0.5003 - val_accuracy: 0.0254 - lr: 0.0010 - 21s/epoch - 23ms/step
Epoch 13/75
876/876 - 20s - loss: 0.5004 - accuracy: 0.1972 - val_loss: 0.5003 - val_accuracy: 0.0074 - lr: 0.0010 - 20s/epoch - 23ms/step
Epoch 14/75
876/876 - 21s - loss: 0.5004 - accuracy: 0.2001 - val_loss: 0.5013 - val_accuracy: 0.0254 - lr: 0.0010 - 21s/epoch - 24ms/step
Epoch 15/75
876/876 - 21s - loss: 0.5004 - accuracy: 0.1997 - val_loss: 0.4997 - val_accuracy: 0.8276 - lr: 0.0010 - 21s/epoch - 23ms/step
Epoch 16/75
876/876 - 21s - loss: 0.5004 - accuracy: 0.1972 - val_loss: 0.4998 - val_accuracy: 0.8276 - lr: 0.0010 - 21s/epoch - 24ms/step
Epoch 17/75
876/876 - 21s - loss: 0.5004 - accuracy: 0.1980 - val_loss: 0.4995 - val_accuracy: 0.8276 - lr: 0.0010 - 21s/epoch - 23ms/step
Epoch 18/75
876/876 - 21s - loss: 0.5004 - accuracy: 0.1984 - val_loss: 0.5003 - val_accuracy: 0.0735 - lr: 0.0010 - 21s/epoch - 24ms/step
Epoch 19/75
876/876 - 20s - loss: 0.5004 - accuracy: 0.1989 - val_loss: 0.5004 - val_accuracy: 0.0254 - lr: 0.0010 - 20s/epoch - 23ms/step
Epoch 20/75
876/876 - 21s - loss: 0.5004 - accuracy: 0.1978 - val_loss: 0.5012 - val_accuracy: 0.0254 - lr: 0.0010 - 21s/epoch - 23ms/step
Epoch 21/75
876/876 - 20s - loss: 0.5004 - accuracy: 0.1962 - val_loss: 0.4999 - val_accuracy: 0.8276 - lr: 0.0010 - 20s/epoch - 23ms/step
Epoch 22/75
876/876 - 20s - loss: 0.5004 - accuracy: 0.1982 - val_loss: 0.5004 - val_accuracy: 0.0254 - lr: 0.0010 - 20s/epoch - 23ms/step
Epoch 23/75
876/876 - 20s - loss: 0.5004 - accuracy: 0.1990 - val_loss: 0.5007 - val_accuracy: 0.0074 - lr: 0.0010 - 20s/epoch - 23ms/step
Epoch 24/75
876/876 - 20s - loss: 0.5004 - accuracy: 0.1997 - val_loss: 0.5007 - val_accuracy: 0.0254 - lr: 0.0010 - 20s/epoch - 23ms/step
Epoch 25/75
876/876 - 21s - loss: 0.5004 - accuracy: 0.1991 - val_loss: 0.5002 - val_accuracy: 0.0074 - lr: 0.0010 - 21s/epoch - 23ms/step
Epoch 26/75
876/876 - 20s - loss: 0.5004 - accuracy: 0.1976 - val_loss: 0.5010 - val_accuracy: 0.0254 - lr: 0.0010 - 20s/epoch - 23ms/step
Epoch 27/75
876/876 - 20s - loss: 0.5004 - accuracy: 0.1990 - val_loss: 0.5011 - val_accuracy: 0.0661 - lr: 0.0010 - 20s/epoch - 23ms/step
Epoch 28/75
876/876 - 20s - loss: 0.5004 - accuracy: 0.1983 - val_loss: 0.4998 - val_accuracy: 0.8276 - lr: 0.0010 - 20s/epoch - 23ms/step
Epoch 29/75
876/876 - 21s - loss: 0.5004 - accuracy: 0.1980 - val_loss: 0.5001 - val_accuracy: 0.0254 - lr: 0.0010 - 21s/epoch - 23ms/step
Epoch 30/75
876/876 - 20s - loss: 0.5004 - accuracy: 0.1987 - val_loss: 0.4990 - val_accuracy: 0.8276 - lr: 0.0010 - 20s/epoch - 23ms/step
Epoch 31/75
876/876 - 20s - loss: 0.5004 - accuracy: 0.1963 - val_loss: 0.4994 - val_accuracy: 0.8276 - lr: 0.0010 - 20s/epoch - 23ms/step
Epoch 32/75
876/876 - 20s - loss: 0.5004 - accuracy: 0.1992 - val_loss: 0.4985 - val_accuracy: 0.8276 - lr: 0.0010 - 20s/epoch - 23ms/step
Epoch 33/75
876/876 - 21s - loss: 0.5004 - accuracy: 0.1968 - val_loss: 0.4992 - val_accuracy: 0.8276 - lr: 0.0010 - 21s/epoch - 24ms/step
Epoch 34/75
876/876 - 20s - loss: 0.5004 - accuracy: 0.1984 - val_loss: 0.4978 - val_accuracy: 0.8276 - lr: 0.0010 - 20s/epoch - 23ms/step
Epoch 35/75
876/876 - 21s - loss: 0.5004 - accuracy: 0.1986 - val_loss: 0.5003 - val_accuracy: 0.0074 - lr: 0.0010 - 21s/epoch - 24ms/step
Epoch 36/75
876/876 - 21s - loss: 0.5004 - accuracy: 0.1985 - val_loss: 0.5016 - val_accuracy: 0.0735 - lr: 0.0010 - 21s/epoch - 23ms/step
Epoch 37/75
876/876 - 21s - loss: 0.5004 - accuracy: 0.1978 - val_loss: 0.5008 - val_accuracy: 0.0074 - lr: 0.0010 - 21s/epoch - 23ms/step
Epoch 38/75
876/876 - 21s - loss: 0.5004 - accuracy: 0.1999 - val_loss: 0.5002 - val_accuracy: 0.0254 - lr: 0.0010 - 21s/epoch - 23ms/step
Epoch 39/75
876/876 - 21s - loss: 0.5004 - accuracy: 0.1978 - val_loss: 0.4996 - val_accuracy: 0.8276 - lr: 0.0010 - 21s/epoch - 23ms/step
Epoch 40/75
876/876 - 20s - loss: 0.5004 - accuracy: 0.1984 - val_loss: 0.4998 - val_accuracy: 0.0254 - lr: 0.0010 - 20s/epoch - 23ms/step
Epoch 41/75
876/876 - 21s - loss: 0.5004 - accuracy: 0.1973 - val_loss: 0.4997 - val_accuracy: 0.8276 - lr: 0.0010 - 21s/epoch - 23ms/step
Epoch 42/75
876/876 - 20s - loss: 0.5004 - accuracy: 0.1976 - val_loss: 0.5008 - val_accuracy: 0.0661 - lr: 0.0010 - 20s/epoch - 23ms/step
Epoch 43/75
876/876 - 20s - loss: 0.5004 - accuracy: 0.1977 - val_loss: 0.5005 - val_accuracy: 0.0074 - lr: 0.0010 - 20s/epoch - 23ms/step
Epoch 44/75
876/876 - 20s - loss: 0.5004 - accuracy: 0.1981 - val_loss: 0.5003 - val_accuracy: 0.0735 - lr: 0.0010 - 20s/epoch - 23ms/step
Epoch 45/75
876/876 - 20s - loss: 0.5004 - accuracy: 0.1998 - val_loss: 0.5009 - val_accuracy: 0.0661 - lr: 0.0010 - 20s/epoch - 23ms/step
Epoch 46/75
876/876 - 20s - loss: 0.5004 - accuracy: 0.1995 - val_loss: 0.5012 - val_accuracy: 0.0661 - lr: 0.0010 - 20s/epoch - 23ms/step
Epoch 47/75
876/876 - 20s - loss: 0.5004 - accuracy: 0.2011 - val_loss: 0.4996 - val_accuracy: 0.0254 - lr: 0.0010 - 20s/epoch - 23ms/step
Epoch 48/75
876/876 - 21s - loss: 0.5004 - accuracy: 0.1993 - val_loss: 0.5009 - val_accuracy: 0.0735 - lr: 0.0010 - 21s/epoch - 23ms/step
Epoch 49/75
876/876 - 20s - loss: 0.5004 - accuracy: 0.1970 - val_loss: 0.5013 - val_accuracy: 0.0074 - lr: 0.0010 - 20s/epoch - 23ms/step
Epoch 50/75
876/876 - 21s - loss: 0.5004 - accuracy: 0.1975 - val_loss: 0.4991 - val_accuracy: 0.8276 - lr: 0.0010 - 21s/epoch - 23ms/step
Epoch 51/75
876/876 - 20s - loss: 0.5004 - accuracy: 0.1970 - val_loss: 0.5007 - val_accuracy: 0.0661 - lr: 0.0010 - 20s/epoch - 23ms/step
Epoch 52/75
876/876 - 21s - loss: 0.5004 - accuracy: 0.1974 - val_loss: 0.4995 - val_accuracy: 0.0254 - lr: 0.0010 - 21s/epoch - 23ms/step
Epoch 53/75
876/876 - 20s - loss: 0.5004 - accuracy: 0.1989 - val_loss: 0.5002 - val_accuracy: 0.0254 - lr: 0.0010 - 20s/epoch - 23ms/step
Epoch 54/75
876/876 - 21s - loss: 0.5004 - accuracy: 0.1979 - val_loss: 0.5001 - val_accuracy: 0.0735 - lr: 0.0010 - 21s/epoch - 23ms/step
Epoch 55/75
876/876 - 21s - loss: 0.5004 - accuracy: 0.1986 - val_loss: 0.5011 - val_accuracy: 0.0254 - lr: 0.0010 - 21s/epoch - 23ms/step
Epoch 56/75
876/876 - 20s - loss: 0.5004 - accuracy: 0.1998 - val_loss: 0.5001 - val_accuracy: 0.0735 - lr: 0.0010 - 20s/epoch - 23ms/step
Epoch 57/75
876/876 - 21s - loss: 0.5004 - accuracy: 0.1973 - val_loss: 0.5008 - val_accuracy: 0.0254 - lr: 0.0010 - 21s/epoch - 23ms/step
Epoch 58/75
876/876 - 21s - loss: 0.5004 - accuracy: 0.1995 - val_loss: 0.5002 - val_accuracy: 0.0735 - lr: 0.0010 - 21s/epoch - 23ms/step
Epoch 59/75
876/876 - 21s - loss: 0.5004 - accuracy: 0.1983 - val_loss: 0.5005 - val_accuracy: 0.0254 - lr: 0.0010 - 21s/epoch - 23ms/step
Epoch 60/75
876/876 - 21s - loss: 0.5004 - accuracy: 0.1989 - val_loss: 0.5007 - val_accuracy: 0.0735 - lr: 0.0010 - 21s/epoch - 24ms/step
Epoch 61/75
876/876 - 21s - loss: 0.5004 - accuracy: 0.1975 - val_loss: 0.4999 - val_accuracy: 0.8276 - lr: 0.0010 - 21s/epoch - 23ms/step
Epoch 62/75
876/876 - 20s - loss: 0.5004 - accuracy: 0.1985 - val_loss: 0.4996 - val_accuracy: 0.8276 - lr: 0.0010 - 20s/epoch - 23ms/step
Epoch 63/75
876/876 - 21s - loss: 0.5004 - accuracy: 0.1981 - val_loss: 0.5005 - val_accuracy: 0.0735 - lr: 0.0010 - 21s/epoch - 24ms/step
Epoch 64/75
876/876 - 20s - loss: 0.5004 - accuracy: 0.1967 - val_loss: 0.4999 - val_accuracy: 0.0735 - lr: 0.0010 - 20s/epoch - 23ms/step
Epoch 65/75
876/876 - 20s - loss: 0.5004 - accuracy: 0.1992 - val_loss: 0.5008 - val_accuracy: 0.0735 - lr: 0.0010 - 20s/epoch - 23ms/step
Epoch 66/75
876/876 - 20s - loss: 0.5004 - accuracy: 0.1968 - val_loss: 0.5007 - val_accuracy: 0.0735 - lr: 0.0010 - 20s/epoch - 23ms/step
Epoch 67/75
876/876 - 21s - loss: 0.5004 - accuracy: 0.1999 - val_loss: 0.4993 - val_accuracy: 0.8276 - lr: 0.0010 - 21s/epoch - 24ms/step
Epoch 68/75
876/876 - 20s - loss: 0.5004 - accuracy: 0.1986 - val_loss: 0.4999 - val_accuracy: 0.0735 - lr: 0.0010 - 20s/epoch - 23ms/step
Epoch 69/75
876/876 - 20s - loss: 0.5004 - accuracy: 0.1977 - val_loss: 0.5002 - val_accuracy: 0.0735 - lr: 0.0010 - 20s/epoch - 23ms/step
Epoch 70/75
876/876 - 20s - loss: 0.5004 - accuracy: 0.1987 - val_loss: 0.4993 - val_accuracy: 0.8276 - lr: 0.0010 - 20s/epoch - 23ms/step
Epoch 71/75
876/876 - 20s - loss: 0.5004 - accuracy: 0.1979 - val_loss: 0.4994 - val_accuracy: 0.8276 - lr: 0.0010 - 20s/epoch - 23ms/step
Epoch 72/75
876/876 - 20s - loss: 0.5004 - accuracy: 0.1975 - val_loss: 0.5003 - val_accuracy: 0.0074 - lr: 0.0010 - 20s/epoch - 23ms/step
Epoch 73/75
876/876 - 20s - loss: 0.5004 - accuracy: 0.2004 - val_loss: 0.4982 - val_accuracy: 0.8276 - lr: 0.0010 - 20s/epoch - 23ms/step
Epoch 74/75
876/876 - 20s - loss: 0.5004 - accuracy: 0.1992 - val_loss: 0.4995 - val_accuracy: 0.8276 - lr: 0.0010 - 20s/epoch - 23ms/step
Epoch 75/75
876/876 - 20s - loss: 0.5004 - accuracy: 0.1994 - val_loss: 0.5017 - val_accuracy: 0.0074 - lr: 0.0010 - 20s/epoch - 23ms/step
Epoch 1/75
176/176 - 14s - loss: 0.5004 - accuracy: 0.2000 - val_loss: 0.5012 - val_accuracy: 0.0074 - lr: 0.0010 - 14s/epoch - 80ms/step
Epoch 2/75
176/176 - 12s - loss: 0.5004 - accuracy: 0.2000 - val_loss: 0.5008 - val_accuracy: 0.0074 - lr: 0.0010 - 12s/epoch - 65ms/step
Epoch 3/75
176/176 - 12s - loss: 0.5004 - accuracy: 0.1974 - val_loss: 0.5007 - val_accuracy: 0.0074 - lr: 0.0010 - 12s/epoch - 66ms/step
Epoch 4/75
176/176 - 12s - loss: 0.5004 - accuracy: 0.1982 - val_loss: 0.5006 - val_accuracy: 0.0735 - lr: 0.0010 - 12s/epoch - 65ms/step
Epoch 5/75
176/176 - 12s - loss: 0.5004 - accuracy: 0.1972 - val_loss: 0.5004 - val_accuracy: 0.0735 - lr: 0.0010 - 12s/epoch - 66ms/step
Epoch 6/75
176/176 - 11s - loss: 0.5004 - accuracy: 0.1993 - val_loss: 0.5003 - val_accuracy: 0.0254 - lr: 0.0010 - 11s/epoch - 65ms/step
Epoch 7/75
176/176 - 12s - loss: 0.5004 - accuracy: 0.1968 - val_loss: 0.5003 - val_accuracy: 0.8276 - lr: 0.0010 - 12s/epoch - 66ms/step
Epoch 8/75
176/176 - 12s - loss: 0.5004 - accuracy: 0.1988 - val_loss: 0.5003 - val_accuracy: 0.8276 - lr: 0.0010 - 12s/epoch - 66ms/step
Epoch 9/75
176/176 - 12s - loss: 0.5004 - accuracy: 0.1979 - val_loss: 0.5004 - val_accuracy: 0.0254 - lr: 0.0010 - 12s/epoch - 66ms/step
Epoch 10/75
176/176 - 12s - loss: 0.5004 - accuracy: 0.1953 - val_loss: 0.5004 - val_accuracy: 0.0254 - lr: 0.0010 - 12s/epoch - 66ms/step
Epoch 11/75
176/176 - 12s - loss: 0.5004 - accuracy: 0.1983 - val_loss: 0.5002 - val_accuracy: 0.8276 - lr: 0.0010 - 12s/epoch - 66ms/step
Epoch 12/75
176/176 - 12s - loss: 0.5004 - accuracy: 0.2001 - val_loss: 0.5003 - val_accuracy: 0.0661 - lr: 0.0010 - 12s/epoch - 66ms/step
Epoch 13/75
176/176 - 12s - loss: 0.5004 - accuracy: 0.1980 - val_loss: 0.5004 - val_accuracy: 0.0661 - lr: 0.0010 - 12s/epoch - 66ms/step
Epoch 14/75
176/176 - 12s - loss: 0.5004 - accuracy: 0.1971 - val_loss: 0.5005 - val_accuracy: 0.0074 - lr: 0.0010 - 12s/epoch - 66ms/step
Epoch 15/75
176/176 - 12s - loss: 0.5004 - accuracy: 0.1979 - val_loss: 0.5003 - val_accuracy: 0.0661 - lr: 0.0010 - 12s/epoch - 66ms/step
Epoch 16/75
176/176 - 12s - loss: 0.5004 - accuracy: 0.1978 - val_loss: 0.5006 - val_accuracy: 0.0074 - lr: 0.0010 - 12s/epoch - 66ms/step
Epoch 17/75
176/176 - 12s - loss: 0.5004 - accuracy: 0.1996 - val_loss: 0.5004 - val_accuracy: 0.0254 - lr: 0.0010 - 12s/epoch - 66ms/step
Epoch 18/75
176/176 - 12s - loss: 0.5004 - accuracy: 0.1978 - val_loss: 0.5004 - val_accuracy: 0.0254 - lr: 0.0010 - 12s/epoch - 66ms/step
Epoch 19/75
176/176 - 12s - loss: 0.5004 - accuracy: 0.1993 - val_loss: 0.5002 - val_accuracy: 0.0254 - lr: 0.0010 - 12s/epoch - 66ms/step
Epoch 20/75
176/176 - 12s - loss: 0.5004 - accuracy: 0.1984 - val_loss: 0.5002 - val_accuracy: 0.8276 - lr: 0.0010 - 12s/epoch - 66ms/step
Epoch 21/75
176/176 - 12s - loss: 0.5004 - accuracy: 0.1980 - val_loss: 0.5003 - val_accuracy: 0.0661 - lr: 0.0010 - 12s/epoch - 66ms/step
Epoch 22/75
176/176 - 12s - loss: 0.5004 - accuracy: 0.1989 - val_loss: 0.5002 - val_accuracy: 0.0661 - lr: 0.0010 - 12s/epoch - 67ms/step
Epoch 23/75
176/176 - 12s - loss: 0.5004 - accuracy: 0.1992 - val_loss: 0.5001 - val_accuracy: 0.8276 - lr: 0.0010 - 12s/epoch - 66ms/step
Epoch 24/75
176/176 - 12s - loss: 0.5004 - accuracy: 0.1970 - val_loss: 0.5001 - val_accuracy: 0.8276 - lr: 0.0010 - 12s/epoch - 66ms/step
Epoch 25/75
176/176 - 12s - loss: 0.5004 - accuracy: 0.1991 - val_loss: 0.4999 - val_accuracy: 0.8276 - lr: 0.0010 - 12s/epoch - 66ms/step
Epoch 26/75
176/176 - 12s - loss: 0.5004 - accuracy: 0.1998 - val_loss: 0.5003 - val_accuracy: 0.0735 - lr: 0.0010 - 12s/epoch - 65ms/step
Epoch 27/75
176/176 - 12s - loss: 0.5004 - accuracy: 0.1987 - val_loss: 0.5005 - val_accuracy: 0.0661 - lr: 0.0010 - 12s/epoch - 66ms/step
Epoch 28/75
176/176 - 12s - loss: 0.5004 - accuracy: 0.1967 - val_loss: 0.5003 - val_accuracy: 0.0735 - lr: 0.0010 - 12s/epoch - 66ms/step
Epoch 29/75
176/176 - 12s - loss: 0.5004 - accuracy: 0.1987 - val_loss: 0.5004 - val_accuracy: 0.0735 - lr: 0.0010 - 12s/epoch - 66ms/step
Epoch 30/75
176/176 - 12s - loss: 0.5004 - accuracy: 0.1976 - val_loss: 0.5005 - val_accuracy: 0.0735 - lr: 0.0010 - 12s/epoch - 65ms/step
Epoch 31/75
176/176 - 12s - loss: 0.5004 - accuracy: 0.1966 - val_loss: 0.5004 - val_accuracy: 0.0735 - lr: 0.0010 - 12s/epoch - 66ms/step
Epoch 32/75
176/176 - 12s - loss: 0.5004 - accuracy: 0.1993 - val_loss: 0.5007 - val_accuracy: 0.0074 - lr: 0.0010 - 12s/epoch - 66ms/step
Epoch 33/75
176/176 - 12s - loss: 0.5004 - accuracy: 0.1968 - val_loss: 0.5003 - val_accuracy: 0.8276 - lr: 0.0010 - 12s/epoch - 66ms/step
Epoch 34/75
176/176 - 12s - loss: 0.5004 - accuracy: 0.1993 - val_loss: 0.5006 - val_accuracy: 0.0074 - lr: 0.0010 - 12s/epoch - 66ms/step
Epoch 35/75
176/176 - 12s - loss: 0.5004 - accuracy: 0.1988 - val_loss: 0.5004 - val_accuracy: 0.0254 - lr: 0.0010 - 12s/epoch - 66ms/step
Epoch 36/75
176/176 - 12s - loss: 0.5004 - accuracy: 0.1967 - val_loss: 0.5003 - val_accuracy: 0.0661 - lr: 0.0010 - 12s/epoch - 66ms/step
Epoch 37/75
176/176 - 12s - loss: 0.5004 - accuracy: 0.1960 - val_loss: 0.5006 - val_accuracy: 0.0661 - lr: 0.0010 - 12s/epoch - 66ms/step
Epoch 38/75
176/176 - 12s - loss: 0.5004 - accuracy: 0.2000 - val_loss: 0.5005 - val_accuracy: 0.0661 - lr: 0.0010 - 12s/epoch - 66ms/step
Epoch 39/75
176/176 - 12s - loss: 0.5004 - accuracy: 0.1963 - val_loss: 0.5006 - val_accuracy: 0.0661 - lr: 0.0010 - 12s/epoch - 65ms/step
Epoch 40/75
176/176 - 12s - loss: 0.5004 - accuracy: 0.1967 - val_loss: 0.5007 - val_accuracy: 0.0735 - lr: 0.0010 - 12s/epoch - 66ms/step
Epoch 41/75
176/176 - 11s - loss: 0.5004 - accuracy: 0.1993 - val_loss: 0.5004 - val_accuracy: 0.0661 - lr: 0.0010 - 11s/epoch - 65ms/step
Epoch 42/75
176/176 - 12s - loss: 0.5004 - accuracy: 0.1977 - val_loss: 0.5010 - val_accuracy: 0.0661 - lr: 0.0010 - 12s/epoch - 66ms/step
Epoch 43/75
176/176 - 11s - loss: 0.5004 - accuracy: 0.1991 - val_loss: 0.5005 - val_accuracy: 0.0661 - lr: 0.0010 - 11s/epoch - 65ms/step
Epoch 44/75
176/176 - 12s - loss: 0.5004 - accuracy: 0.1984 - val_loss: 0.5007 - val_accuracy: 0.0074 - lr: 0.0010 - 12s/epoch - 66ms/step
Epoch 45/75
176/176 - 12s - loss: 0.5004 - accuracy: 0.1962 - val_loss: 0.5004 - val_accuracy: 0.0074 - lr: 0.0010 - 12s/epoch - 66ms/step
Epoch 46/75
176/176 - 11s - loss: 0.5004 - accuracy: 0.1977 - val_loss: 0.5004 - val_accuracy: 0.0074 - lr: 0.0010 - 11s/epoch - 65ms/step
Epoch 47/75
176/176 - 12s - loss: 0.5004 - accuracy: 0.1980 - val_loss: 0.5004 - val_accuracy: 0.0735 - lr: 0.0010 - 12s/epoch - 65ms/step
Epoch 48/75
176/176 - 12s - loss: 0.5004 - accuracy: 0.1988 - val_loss: 0.5003 - val_accuracy: 0.0735 - lr: 0.0010 - 12s/epoch - 66ms/step
Epoch 49/75
176/176 - 12s - loss: 0.5004 - accuracy: 0.1989 - val_loss: 0.5005 - val_accuracy: 0.0074 - lr: 0.0010 - 12s/epoch - 66ms/step
Epoch 50/75
176/176 - 12s - loss: 0.5004 - accuracy: 0.1998 - val_loss: 0.5005 - val_accuracy: 0.0661 - lr: 0.0010 - 12s/epoch - 65ms/step
Epoch 51/75
176/176 - 12s - loss: 0.5004 - accuracy: 0.1970 - val_loss: 0.5006 - val_accuracy: 0.0074 - lr: 0.0010 - 12s/epoch - 66ms/step
Epoch 52/75
176/176 - 12s - loss: 0.5004 - accuracy: 0.1979 - val_loss: 0.5003 - val_accuracy: 0.0074 - lr: 0.0010 - 12s/epoch - 66ms/step
Epoch 53/75
176/176 - 11s - loss: 0.5004 - accuracy: 0.1975 - val_loss: 0.5003 - val_accuracy: 0.8276 - lr: 0.0010 - 11s/epoch - 65ms/step
Epoch 54/75
176/176 - 12s - loss: 0.5004 - accuracy: 0.1991 - val_loss: 0.5005 - val_accuracy: 0.0735 - lr: 0.0010 - 12s/epoch - 66ms/step
Epoch 55/75
176/176 - 12s - loss: 0.5004 - accuracy: 0.1990 - val_loss: 0.5007 - val_accuracy: 0.0735 - lr: 0.0010 - 12s/epoch - 66ms/step
Epoch 56/75
176/176 - 12s - loss: 0.5004 - accuracy: 0.1988 - val_loss: 0.5006 - val_accuracy: 0.0735 - lr: 0.0010 - 12s/epoch - 66ms/step
Epoch 57/75
176/176 - 12s - loss: 0.5004 - accuracy: 0.1992 - val_loss: 0.5004 - val_accuracy: 0.0735 - lr: 0.0010 - 12s/epoch - 65ms/step
Epoch 58/75
176/176 - 12s - loss: 0.5004 - accuracy: 0.1979 - val_loss: 0.5003 - val_accuracy: 0.0735 - lr: 0.0010 - 12s/epoch - 66ms/step
Epoch 59/75
176/176 - 12s - loss: 0.5004 - accuracy: 0.1982 - val_loss: 0.5004 - val_accuracy: 0.0735 - lr: 0.0010 - 12s/epoch - 66ms/step
Epoch 60/75
176/176 - 12s - loss: 0.5004 - accuracy: 0.1995 - val_loss: 0.5002 - val_accuracy: 0.8276 - lr: 0.0010 - 12s/epoch - 66ms/step
Epoch 61/75
176/176 - 12s - loss: 0.5004 - accuracy: 0.1970 - val_loss: 0.5004 - val_accuracy: 0.0254 - lr: 0.0010 - 12s/epoch - 66ms/step
Epoch 62/75
176/176 - 12s - loss: 0.5004 - accuracy: 0.1985 - val_loss: 0.5002 - val_accuracy: 0.8276 - lr: 0.0010 - 12s/epoch - 66ms/step
Epoch 63/75
176/176 - 12s - loss: 0.5004 - accuracy: 0.1977 - val_loss: 0.5003 - val_accuracy: 0.8276 - lr: 0.0010 - 12s/epoch - 66ms/step
Epoch 64/75
176/176 - 12s - loss: 0.5004 - accuracy: 0.1980 - val_loss: 0.5002 - val_accuracy: 0.8276 - lr: 0.0010 - 12s/epoch - 66ms/step
Epoch 65/75
176/176 - 11s - loss: 0.5004 - accuracy: 0.1985 - val_loss: 0.5002 - val_accuracy: 0.8276 - lr: 0.0010 - 11s/epoch - 65ms/step
Epoch 66/75
176/176 - 12s - loss: 0.5004 - accuracy: 0.1987 - val_loss: 0.5002 - val_accuracy: 0.8276 - lr: 0.0010 - 12s/epoch - 66ms/step
Epoch 67/75
176/176 - 12s - loss: 0.5004 - accuracy: 0.1981 - val_loss: 0.5002 - val_accuracy: 0.8276 - lr: 0.0010 - 12s/epoch - 66ms/step
Epoch 68/75
176/176 - 12s - loss: 0.5004 - accuracy: 0.1984 - val_loss: 0.5004 - val_accuracy: 0.0661 - lr: 0.0010 - 12s/epoch - 66ms/step
Epoch 69/75
176/176 - 12s - loss: 0.5004 - accuracy: 0.1978 - val_loss: 0.5004 - val_accuracy: 0.0661 - lr: 0.0010 - 12s/epoch - 66ms/step
Epoch 70/75
176/176 - 12s - loss: 0.5004 - accuracy: 0.1990 - val_loss: 0.5003 - val_accuracy: 0.0735 - lr: 0.0010 - 12s/epoch - 66ms/step
Epoch 71/75
176/176 - 12s - loss: 0.5004 - accuracy: 0.1988 - val_loss: 0.5002 - val_accuracy: 0.8276 - lr: 0.0010 - 12s/epoch - 66ms/step
Epoch 72/75
176/176 - 12s - loss: 0.5004 - accuracy: 0.1973 - val_loss: 0.5003 - val_accuracy: 0.0661 - lr: 0.0010 - 12s/epoch - 66ms/step
Epoch 73/75
176/176 - 12s - loss: 0.5004 - accuracy: 0.1969 - val_loss: 0.5002 - val_accuracy: 0.8276 - lr: 0.0010 - 12s/epoch - 67ms/step
Epoch 74/75
176/176 - 12s - loss: 0.5004 - accuracy: 0.1984 - val_loss: 0.5001 - val_accuracy: 0.8276 - lr: 0.0010 - 12s/epoch - 66ms/step
Epoch 75/75
176/176 - 12s - loss: 0.5004 - accuracy: 0.1980 - val_loss: 0.5004 - val_accuracy: 0.0254 - lr: 0.0010 - 12s/epoch - 66ms/step
Epoch 1/75
36/36 - 13s - loss: 0.5004 - accuracy: 0.2009 - val_loss: 0.5003 - val_accuracy: 0.8276 - lr: 0.0010 - 13s/epoch - 356ms/step
Epoch 2/75
36/36 - 10s - loss: 0.5004 - accuracy: 0.1999 - val_loss: 0.5001 - val_accuracy: 0.8276 - lr: 0.0010 - 10s/epoch - 282ms/step
Epoch 3/75
36/36 - 10s - loss: 0.5004 - accuracy: 0.2000 - val_loss: 0.4999 - val_accuracy: 0.8276 - lr: 0.0010 - 10s/epoch - 283ms/step
Epoch 4/75
36/36 - 10s - loss: 0.5004 - accuracy: 0.2002 - val_loss: 0.5000 - val_accuracy: 0.8276 - lr: 0.0010 - 10s/epoch - 283ms/step
Epoch 5/75
36/36 - 10s - loss: 0.5004 - accuracy: 0.2000 - val_loss: 0.4999 - val_accuracy: 0.0735 - lr: 0.0010 - 10s/epoch - 284ms/step
Epoch 6/75
36/36 - 10s - loss: 0.5004 - accuracy: 0.2001 - val_loss: 0.4998 - val_accuracy: 0.8276 - lr: 0.0010 - 10s/epoch - 287ms/step
Epoch 7/75
36/36 - 10s - loss: 0.5004 - accuracy: 0.2000 - val_loss: 0.5000 - val_accuracy: 0.0735 - lr: 0.0010 - 10s/epoch - 283ms/step
Epoch 8/75
36/36 - 10s - loss: 0.5004 - accuracy: 0.2006 - val_loss: 0.5002 - val_accuracy: 0.0074 - lr: 0.0010 - 10s/epoch - 282ms/step
Epoch 9/75
36/36 - 10s - loss: 0.5004 - accuracy: 0.1999 - val_loss: 0.5003 - val_accuracy: 0.0074 - lr: 0.0010 - 10s/epoch - 285ms/step
Epoch 10/75
36/36 - 10s - loss: 0.5004 - accuracy: 0.2000 - val_loss: 0.5006 - val_accuracy: 0.0074 - lr: 0.0010 - 10s/epoch - 284ms/step
Epoch 11/75
36/36 - 10s - loss: 0.5004 - accuracy: 0.2000 - val_loss: 0.5005 - val_accuracy: 0.0074 - lr: 0.0010 - 10s/epoch - 285ms/step
Epoch 12/75
36/36 - 10s - loss: 0.5004 - accuracy: 0.1999 - val_loss: 0.5006 - val_accuracy: 0.0074 - lr: 0.0010 - 10s/epoch - 283ms/step
Epoch 13/75
36/36 - 10s - loss: 0.5004 - accuracy: 0.1983 - val_loss: 0.5006 - val_accuracy: 0.0254 - lr: 0.0010 - 10s/epoch - 283ms/step
Epoch 14/75
36/36 - 10s - loss: 0.5004 - accuracy: 0.1975 - val_loss: 0.5006 - val_accuracy: 0.0254 - lr: 0.0010 - 10s/epoch - 285ms/step
Epoch 15/75
36/36 - 10s - loss: 0.5004 - accuracy: 0.2000 - val_loss: 0.5006 - val_accuracy: 0.0735 - lr: 0.0010 - 10s/epoch - 282ms/step
Epoch 16/75
36/36 - 10s - loss: 0.5004 - accuracy: 0.2001 - val_loss: 0.5007 - val_accuracy: 0.0735 - lr: 0.0010 - 10s/epoch - 283ms/step
Epoch 17/75
36/36 - 10s - loss: 0.5004 - accuracy: 0.1985 - val_loss: 0.5008 - val_accuracy: 0.0074 - lr: 0.0010 - 10s/epoch - 283ms/step
Epoch 18/75
36/36 - 10s - loss: 0.5004 - accuracy: 0.1999 - val_loss: 0.5009 - val_accuracy: 0.0074 - lr: 0.0010 - 10s/epoch - 283ms/step
Epoch 19/75
36/36 - 10s - loss: 0.5004 - accuracy: 0.2001 - val_loss: 0.5010 - val_accuracy: 0.0074 - lr: 0.0010 - 10s/epoch - 284ms/step
Epoch 20/75
36/36 - 10s - loss: 0.5004 - accuracy: 0.2000 - val_loss: 0.5009 - val_accuracy: 0.0074 - lr: 0.0010 - 10s/epoch - 284ms/step
Epoch 21/75
36/36 - 10s - loss: 0.5004 - accuracy: 0.2000 - val_loss: 0.5006 - val_accuracy: 0.0074 - lr: 0.0010 - 10s/epoch - 283ms/step
Epoch 22/75
36/36 - 10s - loss: 0.5004 - accuracy: 0.2000 - val_loss: 0.5006 - val_accuracy: 0.0074 - lr: 0.0010 - 10s/epoch - 283ms/step
Epoch 23/75
36/36 - 10s - loss: 0.5004 - accuracy: 0.2000 - val_loss: 0.5006 - val_accuracy: 0.0074 - lr: 0.0010 - 10s/epoch - 283ms/step
Epoch 24/75
36/36 - 10s - loss: 0.5004 - accuracy: 0.2000 - val_loss: 0.5006 - val_accuracy: 0.0074 - lr: 0.0010 - 10s/epoch - 284ms/step
Epoch 25/75
36/36 - 10s - loss: 0.5004 - accuracy: 0.2000 - val_loss: 0.5007 - val_accuracy: 0.0074 - lr: 0.0010 - 10s/epoch - 285ms/step
Epoch 26/75
36/36 - 10s - loss: 0.5004 - accuracy: 0.2000 - val_loss: 0.5008 - val_accuracy: 0.0074 - lr: 0.0010 - 10s/epoch - 283ms/step
Epoch 27/75
36/36 - 10s - loss: 0.5004 - accuracy: 0.2000 - val_loss: 0.5008 - val_accuracy: 0.0074 - lr: 0.0010 - 10s/epoch - 285ms/step
Epoch 28/75
36/36 - 10s - loss: 0.5004 - accuracy: 0.2000 - val_loss: 0.5008 - val_accuracy: 0.0074 - lr: 0.0010 - 10s/epoch - 284ms/step
Epoch 29/75
36/36 - 10s - loss: 0.5004 - accuracy: 0.2000 - val_loss: 0.5008 - val_accuracy: 0.0074 - lr: 0.0010 - 10s/epoch - 282ms/step
Epoch 30/75
36/36 - 10s - loss: 0.5004 - accuracy: 0.2000 - val_loss: 0.5007 - val_accuracy: 0.0074 - lr: 0.0010 - 10s/epoch - 282ms/step
Epoch 31/75
36/36 - 10s - loss: 0.5004 - accuracy: 0.2000 - val_loss: 0.5008 - val_accuracy: 0.0074 - lr: 0.0010 - 10s/epoch - 285ms/step
Epoch 32/75
36/36 - 10s - loss: 0.5004 - accuracy: 0.2000 - val_loss: 0.5008 - val_accuracy: 0.0074 - lr: 0.0010 - 10s/epoch - 282ms/step
Epoch 33/75
36/36 - 10s - loss: 0.5004 - accuracy: 0.2000 - val_loss: 0.5009 - val_accuracy: 0.0074 - lr: 0.0010 - 10s/epoch - 283ms/step
Epoch 34/75
36/36 - 10s - loss: 0.5004 - accuracy: 0.2000 - val_loss: 0.5009 - val_accuracy: 0.0074 - lr: 0.0010 - 10s/epoch - 284ms/step
Epoch 35/75
36/36 - 10s - loss: 0.5004 - accuracy: 0.2000 - val_loss: 0.5010 - val_accuracy: 0.0074 - lr: 0.0010 - 10s/epoch - 281ms/step
Epoch 36/75
36/36 - 10s - loss: 0.5004 - accuracy: 0.1997 - val_loss: 0.5009 - val_accuracy: 0.0074 - lr: 0.0010 - 10s/epoch - 283ms/step
Epoch 37/75
36/36 - 10s - loss: 0.5004 - accuracy: 0.1997 - val_loss: 0.5009 - val_accuracy: 0.0074 - lr: 0.0010 - 10s/epoch - 284ms/step
Epoch 38/75
36/36 - 10s - loss: 0.5004 - accuracy: 0.1990 - val_loss: 0.5007 - val_accuracy: 0.0074 - lr: 0.0010 - 10s/epoch - 283ms/step
Epoch 39/75
36/36 - 10s - loss: 0.5004 - accuracy: 0.1989 - val_loss: 0.5006 - val_accuracy: 0.0074 - lr: 0.0010 - 10s/epoch - 283ms/step
Epoch 40/75
36/36 - 10s - loss: 0.5004 - accuracy: 0.1989 - val_loss: 0.5006 - val_accuracy: 0.0074 - lr: 0.0010 - 10s/epoch - 283ms/step
Epoch 41/75
36/36 - 10s - loss: 0.5004 - accuracy: 0.1983 - val_loss: 0.5006 - val_accuracy: 0.0661 - lr: 0.0010 - 10s/epoch - 285ms/step
Epoch 42/75
36/36 - 10s - loss: 0.5004 - accuracy: 0.1998 - val_loss: 0.5007 - val_accuracy: 0.0074 - lr: 0.0010 - 10s/epoch - 285ms/step
Epoch 43/75
36/36 - 10s - loss: 0.5004 - accuracy: 0.1964 - val_loss: 0.5005 - val_accuracy: 0.0735 - lr: 0.0010 - 10s/epoch - 282ms/step
Epoch 44/75
36/36 - 10s - loss: 0.5004 - accuracy: 0.1996 - val_loss: 0.5003 - val_accuracy: 0.0735 - lr: 0.0010 - 10s/epoch - 282ms/step
Epoch 45/75
36/36 - 10s - loss: 0.5004 - accuracy: 0.1990 - val_loss: 0.5001 - val_accuracy: 0.8276 - lr: 0.0010 - 10s/epoch - 281ms/step
Epoch 46/75
36/36 - 10s - loss: 0.5004 - accuracy: 0.1996 - val_loss: 0.5000 - val_accuracy: 0.8276 - lr: 0.0010 - 10s/epoch - 284ms/step
Epoch 47/75
36/36 - 10s - loss: 0.5004 - accuracy: 0.2000 - val_loss: 0.5001 - val_accuracy: 0.8276 - lr: 0.0010 - 10s/epoch - 284ms/step
Epoch 48/75
36/36 - 10s - loss: 0.5004 - accuracy: 0.1995 - val_loss: 0.5002 - val_accuracy: 0.0735 - lr: 0.0010 - 10s/epoch - 284ms/step
Epoch 49/75
36/36 - 10s - loss: 0.5004 - accuracy: 0.2000 - val_loss: 0.5004 - val_accuracy: 0.0735 - lr: 0.0010 - 10s/epoch - 283ms/step
Epoch 50/75
36/36 - 10s - loss: 0.5004 - accuracy: 0.2000 - val_loss: 0.5005 - val_accuracy: 0.0735 - lr: 0.0010 - 10s/epoch - 285ms/step
Epoch 51/75
36/36 - 10s - loss: 0.5004 - accuracy: 0.2000 - val_loss: 0.5006 - val_accuracy: 0.0735 - lr: 0.0010 - 10s/epoch - 283ms/step
Epoch 52/75
36/36 - 10s - loss: 0.5004 - accuracy: 0.2000 - val_loss: 0.5003 - val_accuracy: 0.0735 - lr: 0.0010 - 10s/epoch - 283ms/step
Epoch 53/75
36/36 - 10s - loss: 0.5004 - accuracy: 0.1999 - val_loss: 0.5005 - val_accuracy: 0.0735 - lr: 0.0010 - 10s/epoch - 283ms/step
Epoch 54/75
36/36 - 10s - loss: 0.5004 - accuracy: 0.1996 - val_loss: 0.5006 - val_accuracy: 0.0661 - lr: 0.0010 - 10s/epoch - 282ms/step
Epoch 55/75
36/36 - 10s - loss: 0.5004 - accuracy: 0.2000 - val_loss: 0.5003 - val_accuracy: 0.0661 - lr: 0.0010 - 10s/epoch - 281ms/step
Epoch 56/75
36/36 - 10s - loss: 0.5004 - accuracy: 0.2000 - val_loss: 0.5005 - val_accuracy: 0.0735 - lr: 0.0010 - 10s/epoch - 283ms/step
Epoch 57/75
36/36 - 10s - loss: 0.5004 - accuracy: 0.2003 - val_loss: 0.5004 - val_accuracy: 0.0735 - lr: 0.0010 - 10s/epoch - 283ms/step
Epoch 58/75
36/36 - 10s - loss: 0.5004 - accuracy: 0.2000 - val_loss: 0.5003 - val_accuracy: 0.0735 - lr: 0.0010 - 10s/epoch - 284ms/step
Epoch 59/75
36/36 - 10s - loss: 0.5004 - accuracy: 0.2000 - val_loss: 0.5001 - val_accuracy: 0.0735 - lr: 0.0010 - 10s/epoch - 282ms/step
Epoch 60/75
36/36 - 10s - loss: 0.5004 - accuracy: 0.1997 - val_loss: 0.5001 - val_accuracy: 0.0735 - lr: 0.0010 - 10s/epoch - 283ms/step
Epoch 61/75
36/36 - 10s - loss: 0.5004 - accuracy: 0.2000 - val_loss: 0.5002 - val_accuracy: 0.0661 - lr: 0.0010 - 10s/epoch - 284ms/step
Epoch 62/75
36/36 - 10s - loss: 0.5004 - accuracy: 0.2000 - val_loss: 0.5002 - val_accuracy: 0.0661 - lr: 0.0010 - 10s/epoch - 283ms/step
Epoch 63/75
36/36 - 10s - loss: 0.5004 - accuracy: 0.1999 - val_loss: 0.5004 - val_accuracy: 0.0735 - lr: 0.0010 - 10s/epoch - 283ms/step
Epoch 64/75
36/36 - 10s - loss: 0.5004 - accuracy: 0.1996 - val_loss: 0.5005 - val_accuracy: 0.0735 - lr: 0.0010 - 10s/epoch - 283ms/step
Epoch 65/75
36/36 - 10s - loss: 0.5004 - accuracy: 0.1992 - val_loss: 0.5005 - val_accuracy: 0.0661 - lr: 0.0010 - 10s/epoch - 283ms/step
Epoch 66/75
36/36 - 10s - loss: 0.5004 - accuracy: 0.1983 - val_loss: 0.5005 - val_accuracy: 0.0735 - lr: 0.0010 - 10s/epoch - 283ms/step
Epoch 67/75
36/36 - 10s - loss: 0.5004 - accuracy: 0.1993 - val_loss: 0.5007 - val_accuracy: 0.0735 - lr: 0.0010 - 10s/epoch - 282ms/step
Epoch 68/75
36/36 - 10s - loss: 0.5004 - accuracy: 0.2000 - val_loss: 0.5005 - val_accuracy: 0.0735 - lr: 0.0010 - 10s/epoch - 283ms/step
Epoch 69/75
36/36 - 10s - loss: 0.5004 - accuracy: 0.2000 - val_loss: 0.5002 - val_accuracy: 0.0735 - lr: 0.0010 - 10s/epoch - 282ms/step
Epoch 70/75
36/36 - 10s - loss: 0.5004 - accuracy: 0.2000 - val_loss: 0.5001 - val_accuracy: 0.0735 - lr: 0.0010 - 10s/epoch - 282ms/step
Epoch 71/75
36/36 - 10s - loss: 0.5004 - accuracy: 0.1992 - val_loss: 0.5000 - val_accuracy: 0.0661 - lr: 0.0010 - 10s/epoch - 283ms/step
Epoch 72/75
36/36 - 10s - loss: 0.5004 - accuracy: 0.1999 - val_loss: 0.5001 - val_accuracy: 0.0661 - lr: 0.0010 - 10s/epoch - 283ms/step
Epoch 73/75
36/36 - 10s - loss: 0.5004 - accuracy: 0.1977 - val_loss: 0.5002 - val_accuracy: 0.0661 - lr: 0.0010 - 10s/epoch - 283ms/step
Epoch 74/75
36/36 - 10s - loss: 0.5004 - accuracy: 0.1997 - val_loss: 0.5002 - val_accuracy: 0.0661 - lr: 0.0010 - 10s/epoch - 283ms/step
Epoch 75/75
36/36 - 10s - loss: 0.5004 - accuracy: 0.2000 - val_loss: 0.5002 - val_accuracy: 0.0661 - lr: 0.0010 - 10s/epoch - 283ms/step
Epoch 1/100
4378/4378 - 82s - loss: 0.5004 - accuracy: 0.1995 - val_loss: 0.5010 - val_accuracy: 0.0254 - lr: 0.0010 - 82s/epoch - 19ms/step
Epoch 2/100
4378/4378 - 79s - loss: 0.5004 - accuracy: 0.1996 - val_loss: 0.5014 - val_accuracy: 0.0254 - lr: 0.0010 - 79s/epoch - 18ms/step
Epoch 3/100
4378/4378 - 79s - loss: 0.5004 - accuracy: 0.1991 - val_loss: 0.4975 - val_accuracy: 0.8276 - lr: 0.0010 - 79s/epoch - 18ms/step
Epoch 4/100
4378/4378 - 79s - loss: 0.5004 - accuracy: 0.1998 - val_loss: 0.4981 - val_accuracy: 0.8276 - lr: 0.0010 - 79s/epoch - 18ms/step
Epoch 5/100
4378/4378 - 79s - loss: 0.5004 - accuracy: 0.1995 - val_loss: 0.5013 - val_accuracy: 0.0661 - lr: 0.0010 - 79s/epoch - 18ms/step
Epoch 6/100
4378/4378 - 79s - loss: 0.5004 - accuracy: 0.2002 - val_loss: 0.5031 - val_accuracy: 0.0074 - lr: 0.0010 - 79s/epoch - 18ms/step
Epoch 7/100
4378/4378 - 79s - loss: 0.5004 - accuracy: 0.1994 - val_loss: 0.5003 - val_accuracy: 0.0661 - lr: 0.0010 - 79s/epoch - 18ms/step
Epoch 8/100
4378/4378 - 79s - loss: 0.5004 - accuracy: 0.1986 - val_loss: 0.4989 - val_accuracy: 0.0661 - lr: 0.0010 - 79s/epoch - 18ms/step
Epoch 9/100
4378/4378 - 79s - loss: 0.5004 - accuracy: 0.1992 - val_loss: 0.5002 - val_accuracy: 0.0735 - lr: 0.0010 - 79s/epoch - 18ms/step
Epoch 10/100
4378/4378 - 80s - loss: 0.5004 - accuracy: 0.2011 - val_loss: 0.4983 - val_accuracy: 0.8276 - lr: 0.0010 - 80s/epoch - 18ms/step
Epoch 11/100
4378/4378 - 80s - loss: 0.5004 - accuracy: 0.2018 - val_loss: 0.5038 - val_accuracy: 0.0661 - lr: 0.0010 - 80s/epoch - 18ms/step
Epoch 12/100
4378/4378 - 79s - loss: 0.5004 - accuracy: 0.1981 - val_loss: 0.5047 - val_accuracy: 0.0074 - lr: 0.0010 - 79s/epoch - 18ms/step
Epoch 13/100
4378/4378 - 79s - loss: 0.5004 - accuracy: 0.1999 - val_loss: 0.5000 - val_accuracy: 0.0661 - lr: 0.0010 - 79s/epoch - 18ms/step
Epoch 14/100
4378/4378 - 79s - loss: 0.5004 - accuracy: 0.1992 - val_loss: 0.5019 - val_accuracy: 0.0661 - lr: 0.0010 - 79s/epoch - 18ms/step
Epoch 15/100
4378/4378 - 80s - loss: 0.5004 - accuracy: 0.1979 - val_loss: 0.5008 - val_accuracy: 0.0074 - lr: 0.0010 - 80s/epoch - 18ms/step
Epoch 16/100
4378/4378 - 79s - loss: 0.5004 - accuracy: 0.2003 - val_loss: 0.4999 - val_accuracy: 0.0254 - lr: 0.0010 - 79s/epoch - 18ms/step
Epoch 17/100
4378/4378 - 80s - loss: 0.5004 - accuracy: 0.1983 - val_loss: 0.5005 - val_accuracy: 0.0735 - lr: 0.0010 - 80s/epoch - 18ms/step
Epoch 18/100
4378/4378 - 79s - loss: 0.5004 - accuracy: 0.1981 - val_loss: 0.5013 - val_accuracy: 0.0254 - lr: 0.0010 - 79s/epoch - 18ms/step
Epoch 19/100
4378/4378 - 79s - loss: 0.5004 - accuracy: 0.1978 - val_loss: 0.4981 - val_accuracy: 0.8276 - lr: 0.0010 - 79s/epoch - 18ms/step
Epoch 20/100
4378/4378 - 79s - loss: 0.5004 - accuracy: 0.1993 - val_loss: 0.4992 - val_accuracy: 0.8276 - lr: 0.0010 - 79s/epoch - 18ms/step
Epoch 21/100
4378/4378 - 79s - loss: 0.5004 - accuracy: 0.1996 - val_loss: 0.4999 - val_accuracy: 0.0661 - lr: 0.0010 - 79s/epoch - 18ms/step
Epoch 22/100
4378/4378 - 79s - loss: 0.5004 - accuracy: 0.1996 - val_loss: 0.5002 - val_accuracy: 0.0661 - lr: 0.0010 - 79s/epoch - 18ms/step
Epoch 23/100
4378/4378 - 79s - loss: 0.5004 - accuracy: 0.2002 - val_loss: 0.4995 - val_accuracy: 0.0661 - lr: 0.0010 - 79s/epoch - 18ms/step
Epoch 24/100
4378/4378 - 79s - loss: 0.5004 - accuracy: 0.1985 - val_loss: 0.5019 - val_accuracy: 0.0254 - lr: 0.0010 - 79s/epoch - 18ms/step
Epoch 25/100
4378/4378 - 79s - loss: 0.5004 - accuracy: 0.1974 - val_loss: 0.4976 - val_accuracy: 0.8276 - lr: 0.0010 - 79s/epoch - 18ms/step
Epoch 26/100
4378/4378 - 80s - loss: 0.5004 - accuracy: 0.1998 - val_loss: 0.5020 - val_accuracy: 0.0661 - lr: 0.0010 - 80s/epoch - 18ms/step
Epoch 27/100
4378/4378 - 80s - loss: 0.5004 - accuracy: 0.1971 - val_loss: 0.5025 - val_accuracy: 0.0074 - lr: 0.0010 - 80s/epoch - 18ms/step
Epoch 28/100
4378/4378 - 79s - loss: 0.5004 - accuracy: 0.1996 - val_loss: 0.4999 - val_accuracy: 0.0254 - lr: 0.0010 - 79s/epoch - 18ms/step
Epoch 29/100
4378/4378 - 79s - loss: 0.5004 - accuracy: 0.2000 - val_loss: 0.5025 - val_accuracy: 0.0661 - lr: 0.0010 - 79s/epoch - 18ms/step
Epoch 30/100
4378/4378 - 79s - loss: 0.5004 - accuracy: 0.1997 - val_loss: 0.5014 - val_accuracy: 0.0254 - lr: 0.0010 - 79s/epoch - 18ms/step
Epoch 31/100
4378/4378 - 79s - loss: 0.5004 - accuracy: 0.1976 - val_loss: 0.5005 - val_accuracy: 0.0735 - lr: 0.0010 - 79s/epoch - 18ms/step
Epoch 32/100
4378/4378 - 79s - loss: 0.5004 - accuracy: 0.1995 - val_loss: 0.4991 - val_accuracy: 0.8276 - lr: 0.0010 - 79s/epoch - 18ms/step
Epoch 33/100
4378/4378 - 79s - loss: 0.5004 - accuracy: 0.2001 - val_loss: 0.4992 - val_accuracy: 0.0735 - lr: 0.0010 - 79s/epoch - 18ms/step
Epoch 34/100
4378/4378 - 79s - loss: 0.5004 - accuracy: 0.1993 - val_loss: 0.5011 - val_accuracy: 0.0735 - lr: 0.0010 - 79s/epoch - 18ms/step
Epoch 35/100
4378/4378 - 80s - loss: 0.5004 - accuracy: 0.1972 - val_loss: 0.4985 - val_accuracy: 0.8276 - lr: 0.0010 - 80s/epoch - 18ms/step
Epoch 36/100
4378/4378 - 79s - loss: 0.5004 - accuracy: 0.1989 - val_loss: 0.5022 - val_accuracy: 0.0254 - lr: 0.0010 - 79s/epoch - 18ms/step
Epoch 37/100
4378/4378 - 79s - loss: 0.5004 - accuracy: 0.2011 - val_loss: 0.5028 - val_accuracy: 0.0074 - lr: 0.0010 - 79s/epoch - 18ms/step
Epoch 38/100
4378/4378 - 79s - loss: 0.5004 - accuracy: 0.1969 - val_loss: 0.4994 - val_accuracy: 0.8276 - lr: 0.0010 - 79s/epoch - 18ms/step
Epoch 39/100
4378/4378 - 79s - loss: 0.5004 - accuracy: 0.1996 - val_loss: 0.5013 - val_accuracy: 0.0735 - lr: 0.0010 - 79s/epoch - 18ms/step
Epoch 40/100
4378/4378 - 79s - loss: 0.5004 - accuracy: 0.1993 - val_loss: 0.5010 - val_accuracy: 0.0254 - lr: 0.0010 - 79s/epoch - 18ms/step
Epoch 41/100
4378/4378 - 79s - loss: 0.5004 - accuracy: 0.1978 - val_loss: 0.5011 - val_accuracy: 0.0661 - lr: 0.0010 - 79s/epoch - 18ms/step
Epoch 42/100
4378/4378 - 79s - loss: 0.5004 - accuracy: 0.1999 - val_loss: 0.5003 - val_accuracy: 0.0074 - lr: 0.0010 - 79s/epoch - 18ms/step
Epoch 43/100
4378/4378 - 79s - loss: 0.5004 - accuracy: 0.1980 - val_loss: 0.4996 - val_accuracy: 0.0661 - lr: 0.0010 - 79s/epoch - 18ms/step
Epoch 44/100
4378/4378 - 79s - loss: 0.5004 - accuracy: 0.1986 - val_loss: 0.5033 - val_accuracy: 0.0661 - lr: 0.0010 - 79s/epoch - 18ms/step
Epoch 45/100
4378/4378 - 79s - loss: 0.5004 - accuracy: 0.1985 - val_loss: 0.5026 - val_accuracy: 0.0074 - lr: 0.0010 - 79s/epoch - 18ms/step
Epoch 46/100
4378/4378 - 79s - loss: 0.5004 - accuracy: 0.1999 - val_loss: 0.4969 - val_accuracy: 0.8276 - lr: 0.0010 - 79s/epoch - 18ms/step
Epoch 47/100
4378/4378 - 79s - loss: 0.5004 - accuracy: 0.1983 - val_loss: 0.4991 - val_accuracy: 0.0254 - lr: 0.0010 - 79s/epoch - 18ms/step
Epoch 48/100
4378/4378 - 79s - loss: 0.5004 - accuracy: 0.1985 - val_loss: 0.5023 - val_accuracy: 0.0661 - lr: 0.0010 - 79s/epoch - 18ms/step
Epoch 49/100
4378/4378 - 79s - loss: 0.5004 - accuracy: 0.1971 - val_loss: 0.5049 - val_accuracy: 0.0735 - lr: 0.0010 - 79s/epoch - 18ms/step
Epoch 50/100
4378/4378 - 79s - loss: 0.5004 - accuracy: 0.2000 - val_loss: 0.5000 - val_accuracy: 0.0254 - lr: 0.0010 - 79s/epoch - 18ms/step
Epoch 51/100
4378/4378 - 79s - loss: 0.5004 - accuracy: 0.1984 - val_loss: 0.5013 - val_accuracy: 0.0735 - lr: 0.0010 - 79s/epoch - 18ms/step
Epoch 52/100
4378/4378 - 79s - loss: 0.5004 - accuracy: 0.1991 - val_loss: 0.4992 - val_accuracy: 0.0661 - lr: 0.0010 - 79s/epoch - 18ms/step
Epoch 53/100
4378/4378 - 79s - loss: 0.5004 - accuracy: 0.1987 - val_loss: 0.5015 - val_accuracy: 0.0254 - lr: 0.0010 - 79s/epoch - 18ms/step
Epoch 54/100
4378/4378 - 79s - loss: 0.5004 - accuracy: 0.1986 - val_loss: 0.5035 - val_accuracy: 0.0074 - lr: 0.0010 - 79s/epoch - 18ms/step
Epoch 55/100
4378/4378 - 79s - loss: 0.5004 - accuracy: 0.1955 - val_loss: 0.4997 - val_accuracy: 0.0735 - lr: 0.0010 - 79s/epoch - 18ms/step
Epoch 56/100
4378/4378 - 79s - loss: 0.5004 - accuracy: 0.1998 - val_loss: 0.5044 - val_accuracy: 0.0254 - lr: 0.0010 - 79s/epoch - 18ms/step
Epoch 57/100
4378/4378 - 79s - loss: 0.5004 - accuracy: 0.1988 - val_loss: 0.5009 - val_accuracy: 0.0735 - lr: 0.0010 - 79s/epoch - 18ms/step
Epoch 58/100
4378/4378 - 78s - loss: 0.5004 - accuracy: 0.1995 - val_loss: 0.4997 - val_accuracy: 0.0661 - lr: 0.0010 - 78s/epoch - 18ms/step
Epoch 59/100
4378/4378 - 78s - loss: 0.5004 - accuracy: 0.1994 - val_loss: 0.5000 - val_accuracy: 0.0074 - lr: 0.0010 - 78s/epoch - 18ms/step
Epoch 60/100
4378/4378 - 79s - loss: 0.5004 - accuracy: 0.1985 - val_loss: 0.4995 - val_accuracy: 0.0735 - lr: 0.0010 - 79s/epoch - 18ms/step
Epoch 61/100
4378/4378 - 78s - loss: 0.5004 - accuracy: 0.2008 - val_loss: 0.4997 - val_accuracy: 0.0074 - lr: 0.0010 - 78s/epoch - 18ms/step
Epoch 62/100
4378/4378 - 79s - loss: 0.5004 - accuracy: 0.1988 - val_loss: 0.5005 - val_accuracy: 0.0735 - lr: 0.0010 - 79s/epoch - 18ms/step
Epoch 63/100
4378/4378 - 79s - loss: 0.5004 - accuracy: 0.1967 - val_loss: 0.5013 - val_accuracy: 0.0735 - lr: 0.0010 - 79s/epoch - 18ms/step
Epoch 64/100
4378/4378 - 78s - loss: 0.5004 - accuracy: 0.1974 - val_loss: 0.5003 - val_accuracy: 0.0661 - lr: 0.0010 - 78s/epoch - 18ms/step
Epoch 65/100
4378/4378 - 79s - loss: 0.5004 - accuracy: 0.1970 - val_loss: 0.5003 - val_accuracy: 0.0074 - lr: 0.0010 - 79s/epoch - 18ms/step
Epoch 66/100
4378/4378 - 78s - loss: 0.5004 - accuracy: 0.1996 - val_loss: 0.5030 - val_accuracy: 0.0254 - lr: 0.0010 - 78s/epoch - 18ms/step
Epoch 67/100
4378/4378 - 78s - loss: 0.5004 - accuracy: 0.1991 - val_loss: 0.5008 - val_accuracy: 0.0254 - lr: 0.0010 - 78s/epoch - 18ms/step
Epoch 68/100
4378/4378 - 79s - loss: 0.5004 - accuracy: 0.2002 - val_loss: 0.4995 - val_accuracy: 0.8276 - lr: 0.0010 - 79s/epoch - 18ms/step
Epoch 69/100
4378/4378 - 80s - loss: 0.5004 - accuracy: 0.2009 - val_loss: 0.4968 - val_accuracy: 0.8276 - lr: 0.0010 - 80s/epoch - 18ms/step
Epoch 70/100
4378/4378 - 79s - loss: 0.5004 - accuracy: 0.1986 - val_loss: 0.4997 - val_accuracy: 0.0254 - lr: 0.0010 - 79s/epoch - 18ms/step
Epoch 71/100
4378/4378 - 79s - loss: 0.5004 - accuracy: 0.1995 - val_loss: 0.5000 - val_accuracy: 0.0074 - lr: 0.0010 - 79s/epoch - 18ms/step
Epoch 72/100
4378/4378 - 79s - loss: 0.5004 - accuracy: 0.1973 - val_loss: 0.5016 - val_accuracy: 0.0661 - lr: 0.0010 - 79s/epoch - 18ms/step
Epoch 73/100
4378/4378 - 79s - loss: 0.5004 - accuracy: 0.1988 - val_loss: 0.4979 - val_accuracy: 0.8276 - lr: 0.0010 - 79s/epoch - 18ms/step
Epoch 74/100
4378/4378 - 79s - loss: 0.5004 - accuracy: 0.1984 - val_loss: 0.4988 - val_accuracy: 0.8276 - lr: 0.0010 - 79s/epoch - 18ms/step
Epoch 75/100
4378/4378 - 80s - loss: 0.5004 - accuracy: 0.1974 - val_loss: 0.5015 - val_accuracy: 0.0661 - lr: 0.0010 - 80s/epoch - 18ms/step
Epoch 76/100
4378/4378 - 79s - loss: 0.5004 - accuracy: 0.2008 - val_loss: 0.5014 - val_accuracy: 0.0254 - lr: 0.0010 - 79s/epoch - 18ms/step
Epoch 77/100
4378/4378 - 79s - loss: 0.5004 - accuracy: 0.1973 - val_loss: 0.5011 - val_accuracy: 0.0661 - lr: 0.0010 - 79s/epoch - 18ms/step
Epoch 78/100
4378/4378 - 79s - loss: 0.5004 - accuracy: 0.2006 - val_loss: 0.4991 - val_accuracy: 0.0661 - lr: 0.0010 - 79s/epoch - 18ms/step
Epoch 79/100
4378/4378 - 79s - loss: 0.5004 - accuracy: 0.1992 - val_loss: 0.4995 - val_accuracy: 0.0661 - lr: 0.0010 - 79s/epoch - 18ms/step
Epoch 80/100
4378/4378 - 79s - loss: 0.5004 - accuracy: 0.2006 - val_loss: 0.5017 - val_accuracy: 0.0661 - lr: 0.0010 - 79s/epoch - 18ms/step
Epoch 81/100
4378/4378 - 79s - loss: 0.5004 - accuracy: 0.1987 - val_loss: 0.5008 - val_accuracy: 0.0735 - lr: 0.0010 - 79s/epoch - 18ms/step
Epoch 82/100
4378/4378 - 80s - loss: 0.5004 - accuracy: 0.1980 - val_loss: 0.4993 - val_accuracy: 0.0735 - lr: 0.0010 - 80s/epoch - 18ms/step
Epoch 83/100
4378/4378 - 79s - loss: 0.5004 - accuracy: 0.2009 - val_loss: 0.5009 - val_accuracy: 0.0074 - lr: 0.0010 - 79s/epoch - 18ms/step
Epoch 84/100
4378/4378 - 80s - loss: 0.5004 - accuracy: 0.1987 - val_loss: 0.5011 - val_accuracy: 0.0735 - lr: 0.0010 - 80s/epoch - 18ms/step
Epoch 85/100
4378/4378 - 79s - loss: 0.5004 - accuracy: 0.1990 - val_loss: 0.4995 - val_accuracy: 0.8276 - lr: 0.0010 - 79s/epoch - 18ms/step
Epoch 86/100
4378/4378 - 79s - loss: 0.5004 - accuracy: 0.1985 - val_loss: 0.5017 - val_accuracy: 0.0254 - lr: 0.0010 - 79s/epoch - 18ms/step
Epoch 87/100
4378/4378 - 79s - loss: 0.5004 - accuracy: 0.1978 - val_loss: 0.5010 - val_accuracy: 0.0254 - lr: 0.0010 - 79s/epoch - 18ms/step
Epoch 88/100
4378/4378 - 80s - loss: 0.5004 - accuracy: 0.1989 - val_loss: 0.5000 - val_accuracy: 0.0735 - lr: 0.0010 - 80s/epoch - 18ms/step
Epoch 89/100
4378/4378 - 80s - loss: 0.5004 - accuracy: 0.1976 - val_loss: 0.5004 - val_accuracy: 0.0074 - lr: 0.0010 - 80s/epoch - 18ms/step
Epoch 90/100
4378/4378 - 79s - loss: 0.5004 - accuracy: 0.1989 - val_loss: 0.5001 - val_accuracy: 0.0254 - lr: 0.0010 - 79s/epoch - 18ms/step
Epoch 91/100
4378/4378 - 79s - loss: 0.5004 - accuracy: 0.1989 - val_loss: 0.5005 - val_accuracy: 0.0254 - lr: 0.0010 - 79s/epoch - 18ms/step
Epoch 92/100
4378/4378 - 79s - loss: 0.5004 - accuracy: 0.1993 - val_loss: 0.5040 - val_accuracy: 0.0074 - lr: 0.0010 - 79s/epoch - 18ms/step
Epoch 93/100
4378/4378 - 79s - loss: 0.5004 - accuracy: 0.2003 - val_loss: 0.5026 - val_accuracy: 0.0661 - lr: 0.0010 - 79s/epoch - 18ms/step
Epoch 94/100
4378/4378 - 79s - loss: 0.5004 - accuracy: 0.2009 - val_loss: 0.5002 - val_accuracy: 0.0661 - lr: 0.0010 - 79s/epoch - 18ms/step
Epoch 95/100
4378/4378 - 79s - loss: 0.5004 - accuracy: 0.1993 - val_loss: 0.4997 - val_accuracy: 0.8276 - lr: 0.0010 - 79s/epoch - 18ms/step
Epoch 96/100
4378/4378 - 79s - loss: 0.5004 - accuracy: 0.1997 - val_loss: 0.5029 - val_accuracy: 0.0735 - lr: 0.0010 - 79s/epoch - 18ms/step
Epoch 97/100
4378/4378 - 79s - loss: 0.5004 - accuracy: 0.1999 - val_loss: 0.5004 - val_accuracy: 0.0661 - lr: 0.0010 - 79s/epoch - 18ms/step
Epoch 98/100
4378/4378 - 79s - loss: 0.5004 - accuracy: 0.1981 - val_loss: 0.5007 - val_accuracy: 0.0735 - lr: 0.0010 - 79s/epoch - 18ms/step
Epoch 99/100
4378/4378 - 79s - loss: 0.5004 - accuracy: 0.1982 - val_loss: 0.5013 - val_accuracy: 0.0735 - lr: 0.0010 - 79s/epoch - 18ms/step
Epoch 100/100
4378/4378 - 79s - loss: 0.5004 - accuracy: 0.1990 - val_loss: 0.5001 - val_accuracy: 0.0735 - lr: 0.0010 - 79s/epoch - 18ms/step
Epoch 1/100
876/876 - 23s - loss: 0.5004 - accuracy: 0.2010 - val_loss: 0.5008 - val_accuracy: 0.0661 - lr: 0.0010 - 23s/epoch - 26ms/step
Epoch 2/100
876/876 - 20s - loss: 0.5004 - accuracy: 0.1977 - val_loss: 0.4995 - val_accuracy: 0.8276 - lr: 0.0010 - 20s/epoch - 23ms/step
Epoch 3/100
876/876 - 20s - loss: 0.5004 - accuracy: 0.1983 - val_loss: 0.4998 - val_accuracy: 0.0074 - lr: 0.0010 - 20s/epoch - 23ms/step
Epoch 4/100
876/876 - 20s - loss: 0.5004 - accuracy: 0.1987 - val_loss: 0.5003 - val_accuracy: 0.0661 - lr: 0.0010 - 20s/epoch - 23ms/step
Epoch 5/100
876/876 - 20s - loss: 0.5004 - accuracy: 0.1979 - val_loss: 0.5011 - val_accuracy: 0.0254 - lr: 0.0010 - 20s/epoch - 23ms/step
Epoch 6/100
876/876 - 20s - loss: 0.5004 - accuracy: 0.2000 - val_loss: 0.4989 - val_accuracy: 0.0074 - lr: 0.0010 - 20s/epoch - 23ms/step
Epoch 7/100
876/876 - 20s - loss: 0.5004 - accuracy: 0.1985 - val_loss: 0.5001 - val_accuracy: 0.0074 - lr: 0.0010 - 20s/epoch - 23ms/step
Epoch 8/100
876/876 - 20s - loss: 0.5004 - accuracy: 0.1969 - val_loss: 0.4994 - val_accuracy: 0.8276 - lr: 0.0010 - 20s/epoch - 23ms/step
Epoch 9/100
876/876 - 20s - loss: 0.5004 - accuracy: 0.1980 - val_loss: 0.5001 - val_accuracy: 0.0254 - lr: 0.0010 - 20s/epoch - 23ms/step
Epoch 10/100
876/876 - 20s - loss: 0.5004 - accuracy: 0.1983 - val_loss: 0.4992 - val_accuracy: 0.8276 - lr: 0.0010 - 20s/epoch - 23ms/step
Epoch 11/100
876/876 - 20s - loss: 0.5004 - accuracy: 0.1981 - val_loss: 0.5011 - val_accuracy: 0.0661 - lr: 0.0010 - 20s/epoch - 23ms/step
Epoch 12/100
876/876 - 20s - loss: 0.5004 - accuracy: 0.1993 - val_loss: 0.5002 - val_accuracy: 0.0074 - lr: 0.0010 - 20s/epoch - 23ms/step
Epoch 13/100
876/876 - 20s - loss: 0.5004 - accuracy: 0.1992 - val_loss: 0.4998 - val_accuracy: 0.0661 - lr: 0.0010 - 20s/epoch - 23ms/step
Epoch 14/100
876/876 - 20s - loss: 0.5004 - accuracy: 0.2005 - val_loss: 0.5010 - val_accuracy: 0.0074 - lr: 0.0010 - 20s/epoch - 23ms/step
Epoch 15/100
876/876 - 20s - loss: 0.5004 - accuracy: 0.1989 - val_loss: 0.4997 - val_accuracy: 0.8276 - lr: 0.0010 - 20s/epoch - 23ms/step
Epoch 16/100
876/876 - 20s - loss: 0.5004 - accuracy: 0.1973 - val_loss: 0.5007 - val_accuracy: 0.0661 - lr: 0.0010 - 20s/epoch - 23ms/step
Epoch 17/100
876/876 - 20s - loss: 0.5004 - accuracy: 0.1987 - val_loss: 0.5007 - val_accuracy: 0.0661 - lr: 0.0010 - 20s/epoch - 23ms/step
Epoch 18/100
876/876 - 20s - loss: 0.5004 - accuracy: 0.1997 - val_loss: 0.5006 - val_accuracy: 0.0254 - lr: 0.0010 - 20s/epoch - 23ms/step
Epoch 19/100
876/876 - 20s - loss: 0.5004 - accuracy: 0.1981 - val_loss: 0.5003 - val_accuracy: 0.0661 - lr: 0.0010 - 20s/epoch - 23ms/step
Epoch 20/100
876/876 - 20s - loss: 0.5004 - accuracy: 0.1973 - val_loss: 0.5004 - val_accuracy: 0.0661 - lr: 0.0010 - 20s/epoch - 23ms/step
Epoch 21/100
876/876 - 20s - loss: 0.5004 - accuracy: 0.1989 - val_loss: 0.5004 - val_accuracy: 0.0661 - lr: 0.0010 - 20s/epoch - 23ms/step
Epoch 22/100
876/876 - 20s - loss: 0.5004 - accuracy: 0.1978 - val_loss: 0.4998 - val_accuracy: 0.0074 - lr: 0.0010 - 20s/epoch - 23ms/step
Epoch 23/100
876/876 - 20s - loss: 0.5004 - accuracy: 0.2000 - val_loss: 0.4994 - val_accuracy: 0.8276 - lr: 0.0010 - 20s/epoch - 23ms/step
Epoch 24/100
876/876 - 20s - loss: 0.5004 - accuracy: 0.1968 - val_loss: 0.5001 - val_accuracy: 0.8276 - lr: 0.0010 - 20s/epoch - 23ms/step
Epoch 25/100
876/876 - 20s - loss: 0.5004 - accuracy: 0.1972 - val_loss: 0.5011 - val_accuracy: 0.0254 - lr: 0.0010 - 20s/epoch - 23ms/step
Epoch 26/100
876/876 - 20s - loss: 0.5004 - accuracy: 0.1986 - val_loss: 0.4995 - val_accuracy: 0.8276 - lr: 0.0010 - 20s/epoch - 23ms/step
Epoch 27/100
876/876 - 20s - loss: 0.5004 - accuracy: 0.1986 - val_loss: 0.5009 - val_accuracy: 0.0254 - lr: 0.0010 - 20s/epoch - 23ms/step
Epoch 28/100
876/876 - 20s - loss: 0.5004 - accuracy: 0.1970 - val_loss: 0.5005 - val_accuracy: 0.0074 - lr: 0.0010 - 20s/epoch - 23ms/step
Epoch 29/100
876/876 - 20s - loss: 0.5004 - accuracy: 0.1986 - val_loss: 0.5004 - val_accuracy: 0.0074 - lr: 0.0010 - 20s/epoch - 23ms/step
Epoch 30/100
876/876 - 20s - loss: 0.5004 - accuracy: 0.1997 - val_loss: 0.5006 - val_accuracy: 0.0735 - lr: 0.0010 - 20s/epoch - 23ms/step
Epoch 31/100
876/876 - 20s - loss: 0.5004 - accuracy: 0.1968 - val_loss: 0.5005 - val_accuracy: 0.0735 - lr: 0.0010 - 20s/epoch - 23ms/step
Epoch 32/100
876/876 - 20s - loss: 0.5004 - accuracy: 0.1983 - val_loss: 0.5014 - val_accuracy: 0.0661 - lr: 0.0010 - 20s/epoch - 23ms/step
Epoch 33/100
876/876 - 20s - loss: 0.5004 - accuracy: 0.1963 - val_loss: 0.5012 - val_accuracy: 0.0074 - lr: 0.0010 - 20s/epoch - 23ms/step
Epoch 34/100
876/876 - 20s - loss: 0.5004 - accuracy: 0.1992 - val_loss: 0.5014 - val_accuracy: 0.0074 - lr: 0.0010 - 20s/epoch - 23ms/step
Epoch 35/100
876/876 - 20s - loss: 0.5004 - accuracy: 0.1964 - val_loss: 0.5009 - val_accuracy: 0.0254 - lr: 0.0010 - 20s/epoch - 23ms/step
Epoch 36/100
876/876 - 20s - loss: 0.5004 - accuracy: 0.1966 - val_loss: 0.5011 - val_accuracy: 0.0661 - lr: 0.0010 - 20s/epoch - 23ms/step
Epoch 37/100
876/876 - 20s - loss: 0.5004 - accuracy: 0.1972 - val_loss: 0.5006 - val_accuracy: 0.0735 - lr: 0.0010 - 20s/epoch - 23ms/step
Epoch 38/100
876/876 - 20s - loss: 0.5004 - accuracy: 0.2001 - val_loss: 0.4997 - val_accuracy: 0.8276 - lr: 0.0010 - 20s/epoch - 23ms/step
Epoch 39/100
876/876 - 20s - loss: 0.5004 - accuracy: 0.1971 - val_loss: 0.5005 - val_accuracy: 0.0074 - lr: 0.0010 - 20s/epoch - 23ms/step
Epoch 40/100
876/876 - 20s - loss: 0.5004 - accuracy: 0.1980 - val_loss: 0.5009 - val_accuracy: 0.0074 - lr: 0.0010 - 20s/epoch - 23ms/step
Epoch 41/100
876/876 - 20s - loss: 0.5004 - accuracy: 0.1976 - val_loss: 0.5004 - val_accuracy: 0.0735 - lr: 0.0010 - 20s/epoch - 23ms/step
Epoch 42/100
876/876 - 20s - loss: 0.5004 - accuracy: 0.2011 - val_loss: 0.4991 - val_accuracy: 0.8276 - lr: 0.0010 - 20s/epoch - 23ms/step
Epoch 43/100
876/876 - 20s - loss: 0.5004 - accuracy: 0.1994 - val_loss: 0.5008 - val_accuracy: 0.0074 - lr: 0.0010 - 20s/epoch - 23ms/step
Epoch 44/100
876/876 - 20s - loss: 0.5004 - accuracy: 0.1982 - val_loss: 0.5002 - val_accuracy: 0.0074 - lr: 0.0010 - 20s/epoch - 23ms/step
Epoch 45/100
876/876 - 20s - loss: 0.5004 - accuracy: 0.1986 - val_loss: 0.5010 - val_accuracy: 0.0661 - lr: 0.0010 - 20s/epoch - 23ms/step
Epoch 46/100
876/876 - 20s - loss: 0.5004 - accuracy: 0.1973 - val_loss: 0.5003 - val_accuracy: 0.0074 - lr: 0.0010 - 20s/epoch - 23ms/step
Epoch 47/100
876/876 - 20s - loss: 0.5004 - accuracy: 0.1976 - val_loss: 0.5005 - val_accuracy: 0.0735 - lr: 0.0010 - 20s/epoch - 23ms/step
Epoch 48/100
876/876 - 20s - loss: 0.5004 - accuracy: 0.1970 - val_loss: 0.5003 - val_accuracy: 0.0735 - lr: 0.0010 - 20s/epoch - 23ms/step
Epoch 49/100
876/876 - 20s - loss: 0.5004 - accuracy: 0.1990 - val_loss: 0.5003 - val_accuracy: 0.0735 - lr: 0.0010 - 20s/epoch - 23ms/step
Epoch 50/100
876/876 - 20s - loss: 0.5004 - accuracy: 0.1965 - val_loss: 0.5017 - val_accuracy: 0.0661 - lr: 0.0010 - 20s/epoch - 23ms/step
Epoch 51/100
876/876 - 20s - loss: 0.5004 - accuracy: 0.1992 - val_loss: 0.5004 - val_accuracy: 0.0074 - lr: 0.0010 - 20s/epoch - 23ms/step
Epoch 52/100
876/876 - 20s - loss: 0.5004 - accuracy: 0.1975 - val_loss: 0.5003 - val_accuracy: 0.0254 - lr: 0.0010 - 20s/epoch - 23ms/step
Epoch 53/100
876/876 - 20s - loss: 0.5004 - accuracy: 0.1987 - val_loss: 0.5003 - val_accuracy: 0.0254 - lr: 0.0010 - 20s/epoch - 23ms/step
Epoch 54/100
876/876 - 20s - loss: 0.5004 - accuracy: 0.1980 - val_loss: 0.4998 - val_accuracy: 0.0254 - lr: 0.0010 - 20s/epoch - 23ms/step
Epoch 55/100
876/876 - 20s - loss: 0.5004 - accuracy: 0.1994 - val_loss: 0.5001 - val_accuracy: 0.0254 - lr: 0.0010 - 20s/epoch - 23ms/step
Epoch 56/100
876/876 - 20s - loss: 0.5004 - accuracy: 0.1981 - val_loss: 0.5010 - val_accuracy: 0.0074 - lr: 0.0010 - 20s/epoch - 23ms/step
Epoch 57/100
876/876 - 20s - loss: 0.5004 - accuracy: 0.1987 - val_loss: 0.4997 - val_accuracy: 0.8276 - lr: 0.0010 - 20s/epoch - 23ms/step
Epoch 58/100
876/876 - 20s - loss: 0.5004 - accuracy: 0.1996 - val_loss: 0.5012 - val_accuracy: 0.0661 - lr: 0.0010 - 20s/epoch - 23ms/step
Epoch 59/100
876/876 - 20s - loss: 0.5004 - accuracy: 0.1979 - val_loss: 0.5006 - val_accuracy: 0.0074 - lr: 0.0010 - 20s/epoch - 23ms/step
Epoch 60/100
876/876 - 20s - loss: 0.5004 - accuracy: 0.1977 - val_loss: 0.5004 - val_accuracy: 0.0661 - lr: 0.0010 - 20s/epoch - 23ms/step
Epoch 61/100
876/876 - 20s - loss: 0.5004 - accuracy: 0.1993 - val_loss: 0.4986 - val_accuracy: 0.8276 - lr: 0.0010 - 20s/epoch - 23ms/step
Epoch 62/100
876/876 - 20s - loss: 0.5004 - accuracy: 0.2002 - val_loss: 0.5002 - val_accuracy: 0.0735 - lr: 0.0010 - 20s/epoch - 23ms/step
Epoch 63/100
876/876 - 20s - loss: 0.5004 - accuracy: 0.1992 - val_loss: 0.5011 - val_accuracy: 0.0254 - lr: 0.0010 - 20s/epoch - 23ms/step
Epoch 64/100
876/876 - 20s - loss: 0.5004 - accuracy: 0.1980 - val_loss: 0.5007 - val_accuracy: 0.0074 - lr: 0.0010 - 20s/epoch - 23ms/step
Epoch 65/100
876/876 - 20s - loss: 0.5004 - accuracy: 0.1984 - val_loss: 0.5008 - val_accuracy: 0.0074 - lr: 0.0010 - 20s/epoch - 23ms/step
Epoch 66/100
876/876 - 20s - loss: 0.5004 - accuracy: 0.1978 - val_loss: 0.5020 - val_accuracy: 0.0661 - lr: 0.0010 - 20s/epoch - 23ms/step
Epoch 67/100
876/876 - 20s - loss: 0.5004 - accuracy: 0.1991 - val_loss: 0.4999 - val_accuracy: 0.0661 - lr: 0.0010 - 20s/epoch - 23ms/step
Epoch 68/100
876/876 - 20s - loss: 0.5004 - accuracy: 0.1980 - val_loss: 0.5006 - val_accuracy: 0.0661 - lr: 0.0010 - 20s/epoch - 23ms/step
Epoch 69/100
876/876 - 20s - loss: 0.5004 - accuracy: 0.1988 - val_loss: 0.5015 - val_accuracy: 0.0074 - lr: 0.0010 - 20s/epoch - 23ms/step
Epoch 70/100
876/876 - 20s - loss: 0.5004 - accuracy: 0.1983 - val_loss: 0.5009 - val_accuracy: 0.0661 - lr: 0.0010 - 20s/epoch - 23ms/step
Epoch 71/100
876/876 - 20s - loss: 0.5004 - accuracy: 0.1980 - val_loss: 0.5006 - val_accuracy: 0.0254 - lr: 0.0010 - 20s/epoch - 23ms/step
Epoch 72/100
876/876 - 20s - loss: 0.5004 - accuracy: 0.1966 - val_loss: 0.5003 - val_accuracy: 0.0254 - lr: 0.0010 - 20s/epoch - 23ms/step
Epoch 73/100
876/876 - 20s - loss: 0.5004 - accuracy: 0.1963 - val_loss: 0.4997 - val_accuracy: 0.8276 - lr: 0.0010 - 20s/epoch - 23ms/step
Epoch 74/100
876/876 - 20s - loss: 0.5004 - accuracy: 0.1982 - val_loss: 0.5004 - val_accuracy: 0.0661 - lr: 0.0010 - 20s/epoch - 23ms/step
Epoch 75/100
876/876 - 20s - loss: 0.5004 - accuracy: 0.1997 - val_loss: 0.5006 - val_accuracy: 0.0074 - lr: 0.0010 - 20s/epoch - 23ms/step
Epoch 76/100
876/876 - 20s - loss: 0.5004 - accuracy: 0.1989 - val_loss: 0.4994 - val_accuracy: 0.8276 - lr: 0.0010 - 20s/epoch - 23ms/step
Epoch 77/100
876/876 - 20s - loss: 0.5004 - accuracy: 0.1969 - val_loss: 0.5000 - val_accuracy: 0.0254 - lr: 0.0010 - 20s/epoch - 23ms/step
Epoch 78/100
876/876 - 20s - loss: 0.5004 - accuracy: 0.1979 - val_loss: 0.5007 - val_accuracy: 0.0735 - lr: 0.0010 - 20s/epoch - 23ms/step
Epoch 79/100
876/876 - 20s - loss: 0.5004 - accuracy: 0.1986 - val_loss: 0.5009 - val_accuracy: 0.0254 - lr: 0.0010 - 20s/epoch - 23ms/step
Epoch 80/100
876/876 - 20s - loss: 0.5004 - accuracy: 0.1986 - val_loss: 0.4999 - val_accuracy: 0.0254 - lr: 0.0010 - 20s/epoch - 23ms/step
Epoch 81/100
876/876 - 20s - loss: 0.5004 - accuracy: 0.2000 - val_loss: 0.4995 - val_accuracy: 0.8276 - lr: 0.0010 - 20s/epoch - 23ms/step
Epoch 82/100
876/876 - 20s - loss: 0.5004 - accuracy: 0.1965 - val_loss: 0.5000 - val_accuracy: 0.0735 - lr: 0.0010 - 20s/epoch - 23ms/step
Epoch 83/100
876/876 - 20s - loss: 0.5004 - accuracy: 0.1964 - val_loss: 0.5003 - val_accuracy: 0.0074 - lr: 0.0010 - 20s/epoch - 23ms/step
Epoch 84/100
876/876 - 20s - loss: 0.5004 - accuracy: 0.1969 - val_loss: 0.4999 - val_accuracy: 0.0735 - lr: 0.0010 - 20s/epoch - 23ms/step
Epoch 85/100
876/876 - 20s - loss: 0.5004 - accuracy: 0.1985 - val_loss: 0.5007 - val_accuracy: 0.0074 - lr: 0.0010 - 20s/epoch - 23ms/step
Epoch 86/100
876/876 - 20s - loss: 0.5004 - accuracy: 0.1998 - val_loss: 0.5016 - val_accuracy: 0.0254 - lr: 0.0010 - 20s/epoch - 23ms/step
Epoch 87/100
876/876 - 20s - loss: 0.5004 - accuracy: 0.1972 - val_loss: 0.5003 - val_accuracy: 0.0254 - lr: 0.0010 - 20s/epoch - 23ms/step
Epoch 88/100
876/876 - 20s - loss: 0.5004 - accuracy: 0.1991 - val_loss: 0.5005 - val_accuracy: 0.0074 - lr: 0.0010 - 20s/epoch - 23ms/step
Epoch 89/100
876/876 - 20s - loss: 0.5004 - accuracy: 0.1995 - val_loss: 0.5008 - val_accuracy: 0.0661 - lr: 0.0010 - 20s/epoch - 23ms/step
Epoch 90/100
876/876 - 20s - loss: 0.5004 - accuracy: 0.1998 - val_loss: 0.4999 - val_accuracy: 0.0254 - lr: 0.0010 - 20s/epoch - 23ms/step
Epoch 91/100
876/876 - 20s - loss: 0.5004 - accuracy: 0.1986 - val_loss: 0.5009 - val_accuracy: 0.0661 - lr: 0.0010 - 20s/epoch - 23ms/step
Epoch 92/100
876/876 - 20s - loss: 0.5004 - accuracy: 0.1984 - val_loss: 0.4984 - val_accuracy: 0.8276 - lr: 0.0010 - 20s/epoch - 23ms/step
Epoch 93/100
876/876 - 20s - loss: 0.5004 - accuracy: 0.1980 - val_loss: 0.5005 - val_accuracy: 0.0735 - lr: 0.0010 - 20s/epoch - 23ms/step
Epoch 94/100
876/876 - 20s - loss: 0.5004 - accuracy: 0.1989 - val_loss: 0.4997 - val_accuracy: 0.8276 - lr: 0.0010 - 20s/epoch - 23ms/step
Epoch 95/100
876/876 - 20s - loss: 0.5004 - accuracy: 0.1994 - val_loss: 0.4998 - val_accuracy: 0.0661 - lr: 0.0010 - 20s/epoch - 23ms/step
Epoch 96/100
876/876 - 20s - loss: 0.5004 - accuracy: 0.1992 - val_loss: 0.5004 - val_accuracy: 0.0074 - lr: 0.0010 - 20s/epoch - 23ms/step
Epoch 97/100
876/876 - 20s - loss: 0.5004 - accuracy: 0.1988 - val_loss: 0.5001 - val_accuracy: 0.0735 - lr: 0.0010 - 20s/epoch - 23ms/step
Epoch 98/100
876/876 - 20s - loss: 0.5004 - accuracy: 0.1973 - val_loss: 0.4994 - val_accuracy: 0.8276 - lr: 0.0010 - 20s/epoch - 23ms/step
Epoch 99/100
876/876 - 20s - loss: 0.5004 - accuracy: 0.1987 - val_loss: 0.5006 - val_accuracy: 0.0254 - lr: 0.0010 - 20s/epoch - 23ms/step
Epoch 100/100
876/876 - 20s - loss: 0.5004 - accuracy: 0.2000 - val_loss: 0.5004 - val_accuracy: 0.0254 - lr: 0.0010 - 20s/epoch - 23ms/step
Epoch 1/100
176/176 - 15s - loss: 0.5004 - accuracy: 0.2000 - val_loss: 0.5004 - val_accuracy: 0.0254 - lr: 0.0010 - 15s/epoch - 85ms/step
Epoch 2/100
176/176 - 11s - loss: 0.5004 - accuracy: 0.1985 - val_loss: 0.5003 - val_accuracy: 0.0254 - lr: 0.0010 - 11s/epoch - 65ms/step
Epoch 3/100
176/176 - 12s - loss: 0.5004 - accuracy: 0.1989 - val_loss: 0.5004 - val_accuracy: 0.0254 - lr: 0.0010 - 12s/epoch - 66ms/step
Epoch 4/100
176/176 - 11s - loss: 0.5004 - accuracy: 0.1975 - val_loss: 0.5004 - val_accuracy: 0.0254 - lr: 0.0010 - 11s/epoch - 65ms/step
Epoch 5/100
176/176 - 11s - loss: 0.5004 - accuracy: 0.1983 - val_loss: 0.5005 - val_accuracy: 0.0074 - lr: 0.0010 - 11s/epoch - 65ms/step
Epoch 6/100
176/176 - 11s - loss: 0.5004 - accuracy: 0.1974 - val_loss: 0.5004 - val_accuracy: 0.0074 - lr: 0.0010 - 11s/epoch - 64ms/step
Epoch 7/100
176/176 - 11s - loss: 0.5004 - accuracy: 0.1982 - val_loss: 0.5007 - val_accuracy: 0.0254 - lr: 0.0010 - 11s/epoch - 64ms/step
Epoch 8/100
176/176 - 11s - loss: 0.5004 - accuracy: 0.1982 - val_loss: 0.5005 - val_accuracy: 0.0074 - lr: 0.0010 - 11s/epoch - 63ms/step
Epoch 9/100
176/176 - 11s - loss: 0.5004 - accuracy: 0.1991 - val_loss: 0.5005 - val_accuracy: 0.0074 - lr: 0.0010 - 11s/epoch - 64ms/step
Epoch 10/100
176/176 - 11s - loss: 0.5004 - accuracy: 0.1991 - val_loss: 0.5004 - val_accuracy: 0.0074 - lr: 0.0010 - 11s/epoch - 64ms/step
Epoch 11/100
176/176 - 11s - loss: 0.5004 - accuracy: 0.1981 - val_loss: 0.5004 - val_accuracy: 0.0735 - lr: 0.0010 - 11s/epoch - 65ms/step
Epoch 12/100
176/176 - 11s - loss: 0.5004 - accuracy: 0.1991 - val_loss: 0.5006 - val_accuracy: 0.0254 - lr: 0.0010 - 11s/epoch - 65ms/step
Epoch 13/100
176/176 - 11s - loss: 0.5004 - accuracy: 0.1976 - val_loss: 0.5005 - val_accuracy: 0.0074 - lr: 0.0010 - 11s/epoch - 65ms/step
Epoch 14/100
176/176 - 11s - loss: 0.5004 - accuracy: 0.1988 - val_loss: 0.5006 - val_accuracy: 0.0661 - lr: 0.0010 - 11s/epoch - 64ms/step
Epoch 15/100
176/176 - 11s - loss: 0.5004 - accuracy: 0.1992 - val_loss: 0.5007 - val_accuracy: 0.0661 - lr: 0.0010 - 11s/epoch - 65ms/step
Epoch 16/100
176/176 - 11s - loss: 0.5004 - accuracy: 0.1974 - val_loss: 0.5009 - val_accuracy: 0.0661 - lr: 0.0010 - 11s/epoch - 64ms/step
Epoch 17/100
176/176 - 11s - loss: 0.5004 - accuracy: 0.1975 - val_loss: 0.5008 - val_accuracy: 0.0254 - lr: 0.0010 - 11s/epoch - 65ms/step
Epoch 18/100
176/176 - 11s - loss: 0.5004 - accuracy: 0.1985 - val_loss: 0.5002 - val_accuracy: 0.8276 - lr: 0.0010 - 11s/epoch - 65ms/step
Epoch 19/100
176/176 - 11s - loss: 0.5004 - accuracy: 0.1985 - val_loss: 0.5007 - val_accuracy: 0.0074 - lr: 0.0010 - 11s/epoch - 65ms/step
Epoch 20/100
176/176 - 12s - loss: 0.5004 - accuracy: 0.1990 - val_loss: 0.5007 - val_accuracy: 0.0735 - lr: 0.0010 - 12s/epoch - 65ms/step
Epoch 21/100
176/176 - 12s - loss: 0.5004 - accuracy: 0.1980 - val_loss: 0.5006 - val_accuracy: 0.0735 - lr: 0.0010 - 12s/epoch - 66ms/step
Epoch 22/100
176/176 - 12s - loss: 0.5004 - accuracy: 0.1972 - val_loss: 0.5005 - val_accuracy: 0.0735 - lr: 0.0010 - 12s/epoch - 66ms/step
Epoch 23/100
176/176 - 11s - loss: 0.5004 - accuracy: 0.1967 - val_loss: 0.5002 - val_accuracy: 0.0735 - lr: 0.0010 - 11s/epoch - 65ms/step
Epoch 24/100
176/176 - 11s - loss: 0.5004 - accuracy: 0.1981 - val_loss: 0.5005 - val_accuracy: 0.0074 - lr: 0.0010 - 11s/epoch - 65ms/step
Epoch 25/100
176/176 - 11s - loss: 0.5004 - accuracy: 0.1975 - val_loss: 0.5004 - val_accuracy: 0.0661 - lr: 0.0010 - 11s/epoch - 64ms/step
Epoch 26/100
176/176 - 11s - loss: 0.5004 - accuracy: 0.1983 - val_loss: 0.5001 - val_accuracy: 0.8276 - lr: 0.0010 - 11s/epoch - 65ms/step
Epoch 27/100
176/176 - 12s - loss: 0.5004 - accuracy: 0.1959 - val_loss: 0.5003 - val_accuracy: 0.0661 - lr: 0.0010 - 12s/epoch - 65ms/step
Epoch 28/100
176/176 - 11s - loss: 0.5004 - accuracy: 0.1986 - val_loss: 0.5002 - val_accuracy: 0.0661 - lr: 0.0010 - 11s/epoch - 65ms/step
Epoch 29/100
176/176 - 12s - loss: 0.5004 - accuracy: 0.1973 - val_loss: 0.5004 - val_accuracy: 0.0661 - lr: 0.0010 - 12s/epoch - 66ms/step
Epoch 30/100
176/176 - 11s - loss: 0.5004 - accuracy: 0.1993 - val_loss: 0.5006 - val_accuracy: 0.0074 - lr: 0.0010 - 11s/epoch - 65ms/step
Epoch 31/100
176/176 - 11s - loss: 0.5004 - accuracy: 0.1987 - val_loss: 0.5006 - val_accuracy: 0.0735 - lr: 0.0010 - 11s/epoch - 65ms/step
Epoch 32/100
176/176 - 12s - loss: 0.5004 - accuracy: 0.1990 - val_loss: 0.5003 - val_accuracy: 0.0074 - lr: 0.0010 - 12s/epoch - 66ms/step
Epoch 33/100
176/176 - 11s - loss: 0.5004 - accuracy: 0.1956 - val_loss: 0.5006 - val_accuracy: 0.0254 - lr: 0.0010 - 11s/epoch - 65ms/step
Epoch 34/100
176/176 - 11s - loss: 0.5004 - accuracy: 0.1967 - val_loss: 0.5007 - val_accuracy: 0.0254 - lr: 0.0010 - 11s/epoch - 65ms/step
Epoch 35/100
176/176 - 11s - loss: 0.5004 - accuracy: 0.1970 - val_loss: 0.5006 - val_accuracy: 0.0254 - lr: 0.0010 - 11s/epoch - 65ms/step
Epoch 36/100
176/176 - 11s - loss: 0.5004 - accuracy: 0.1956 - val_loss: 0.5004 - val_accuracy: 0.0074 - lr: 0.0010 - 11s/epoch - 65ms/step
Epoch 37/100
176/176 - 11s - loss: 0.5004 - accuracy: 0.1997 - val_loss: 0.5006 - val_accuracy: 0.0074 - lr: 0.0010 - 11s/epoch - 65ms/step
Epoch 38/100
176/176 - 11s - loss: 0.5004 - accuracy: 0.1990 - val_loss: 0.5005 - val_accuracy: 0.0074 - lr: 0.0010 - 11s/epoch - 65ms/step
Epoch 39/100
176/176 - 12s - loss: 0.5004 - accuracy: 0.1995 - val_loss: 0.5005 - val_accuracy: 0.0074 - lr: 0.0010 - 12s/epoch - 65ms/step
Epoch 40/100
176/176 - 11s - loss: 0.5004 - accuracy: 0.2000 - val_loss: 0.5002 - val_accuracy: 0.8276 - lr: 0.0010 - 11s/epoch - 65ms/step
Epoch 41/100
176/176 - 11s - loss: 0.5004 - accuracy: 0.1968 - val_loss: 0.5003 - val_accuracy: 0.0735 - lr: 0.0010 - 11s/epoch - 65ms/step
Epoch 42/100
176/176 - 12s - loss: 0.5004 - accuracy: 0.1980 - val_loss: 0.5004 - val_accuracy: 0.0661 - lr: 0.0010 - 12s/epoch - 66ms/step
Epoch 43/100
176/176 - 11s - loss: 0.5004 - accuracy: 0.1967 - val_loss: 0.5005 - val_accuracy: 0.0074 - lr: 0.0010 - 11s/epoch - 65ms/step
Epoch 44/100
176/176 - 11s - loss: 0.5004 - accuracy: 0.1991 - val_loss: 0.5005 - val_accuracy: 0.0735 - lr: 0.0010 - 11s/epoch - 65ms/step
Epoch 45/100
176/176 - 12s - loss: 0.5004 - accuracy: 0.1987 - val_loss: 0.5004 - val_accuracy: 0.0735 - lr: 0.0010 - 12s/epoch - 66ms/step
Epoch 46/100
176/176 - 11s - loss: 0.5004 - accuracy: 0.1967 - val_loss: 0.5002 - val_accuracy: 0.8276 - lr: 0.0010 - 11s/epoch - 65ms/step
Epoch 47/100
176/176 - 12s - loss: 0.5004 - accuracy: 0.1974 - val_loss: 0.5001 - val_accuracy: 0.0661 - lr: 0.0010 - 12s/epoch - 65ms/step
Epoch 48/100
176/176 - 11s - loss: 0.5004 - accuracy: 0.1992 - val_loss: 0.5001 - val_accuracy: 0.8276 - lr: 0.0010 - 11s/epoch - 65ms/step
Epoch 49/100
176/176 - 11s - loss: 0.5004 - accuracy: 0.1985 - val_loss: 0.5002 - val_accuracy: 0.8276 - lr: 0.0010 - 11s/epoch - 65ms/step
Epoch 50/100
176/176 - 11s - loss: 0.5004 - accuracy: 0.1992 - val_loss: 0.5005 - val_accuracy: 0.0661 - lr: 0.0010 - 11s/epoch - 65ms/step
Epoch 51/100
176/176 - 12s - loss: 0.5004 - accuracy: 0.1984 - val_loss: 0.5005 - val_accuracy: 0.0074 - lr: 0.0010 - 12s/epoch - 66ms/step
Epoch 52/100
176/176 - 11s - loss: 0.5004 - accuracy: 0.1974 - val_loss: 0.5005 - val_accuracy: 0.0074 - lr: 0.0010 - 11s/epoch - 65ms/step
Epoch 53/100
176/176 - 11s - loss: 0.5004 - accuracy: 0.1983 - val_loss: 0.5002 - val_accuracy: 0.0074 - lr: 0.0010 - 11s/epoch - 65ms/step
Epoch 54/100
176/176 - 12s - loss: 0.5004 - accuracy: 0.1973 - val_loss: 0.5005 - val_accuracy: 0.0661 - lr: 0.0010 - 12s/epoch - 66ms/step
Epoch 55/100
176/176 - 12s - loss: 0.5004 - accuracy: 0.1989 - val_loss: 0.5003 - val_accuracy: 0.0661 - lr: 0.0010 - 12s/epoch - 65ms/step
Epoch 56/100
176/176 - 11s - loss: 0.5004 - accuracy: 0.1973 - val_loss: 0.5002 - val_accuracy: 0.8276 - lr: 0.0010 - 11s/epoch - 65ms/step
Epoch 57/100
176/176 - 11s - loss: 0.5004 - accuracy: 0.1995 - val_loss: 0.5005 - val_accuracy: 0.0661 - lr: 0.0010 - 11s/epoch - 65ms/step
Epoch 58/100
176/176 - 12s - loss: 0.5004 - accuracy: 0.1985 - val_loss: 0.5007 - val_accuracy: 0.0254 - lr: 0.0010 - 12s/epoch - 66ms/step
Epoch 59/100
176/176 - 12s - loss: 0.5004 - accuracy: 0.1984 - val_loss: 0.5005 - val_accuracy: 0.0254 - lr: 0.0010 - 12s/epoch - 65ms/step
Epoch 60/100
176/176 - 12s - loss: 0.5004 - accuracy: 0.1992 - val_loss: 0.5004 - val_accuracy: 0.0661 - lr: 0.0010 - 12s/epoch - 66ms/step
Epoch 61/100
176/176 - 12s - loss: 0.5004 - accuracy: 0.1985 - val_loss: 0.5003 - val_accuracy: 0.8276 - lr: 0.0010 - 12s/epoch - 66ms/step
Epoch 62/100
176/176 - 11s - loss: 0.5004 - accuracy: 0.1976 - val_loss: 0.5006 - val_accuracy: 0.0661 - lr: 0.0010 - 11s/epoch - 65ms/step
Epoch 63/100
176/176 - 12s - loss: 0.5004 - accuracy: 0.1975 - val_loss: 0.5005 - val_accuracy: 0.0661 - lr: 0.0010 - 12s/epoch - 66ms/step
Epoch 64/100
176/176 - 12s - loss: 0.5004 - accuracy: 0.1974 - val_loss: 0.5005 - val_accuracy: 0.0254 - lr: 0.0010 - 12s/epoch - 65ms/step
Epoch 65/100
176/176 - 11s - loss: 0.5004 - accuracy: 0.1997 - val_loss: 0.5002 - val_accuracy: 0.0661 - lr: 0.0010 - 11s/epoch - 65ms/step
Epoch 66/100
176/176 - 12s - loss: 0.5004 - accuracy: 0.1988 - val_loss: 0.5005 - val_accuracy: 0.0661 - lr: 0.0010 - 12s/epoch - 65ms/step
Epoch 67/100
176/176 - 12s - loss: 0.5004 - accuracy: 0.1974 - val_loss: 0.5007 - val_accuracy: 0.0661 - lr: 0.0010 - 12s/epoch - 66ms/step
Epoch 68/100
176/176 - 11s - loss: 0.5004 - accuracy: 0.1992 - val_loss: 0.5007 - val_accuracy: 0.0254 - lr: 0.0010 - 11s/epoch - 65ms/step
Epoch 69/100
176/176 - 12s - loss: 0.5004 - accuracy: 0.1990 - val_loss: 0.5009 - val_accuracy: 0.0661 - lr: 0.0010 - 12s/epoch - 65ms/step
Epoch 70/100
176/176 - 11s - loss: 0.5004 - accuracy: 0.1994 - val_loss: 0.5008 - val_accuracy: 0.0074 - lr: 0.0010 - 11s/epoch - 65ms/step
Epoch 71/100
176/176 - 11s - loss: 0.5004 - accuracy: 0.1993 - val_loss: 0.5007 - val_accuracy: 0.0074 - lr: 0.0010 - 11s/epoch - 65ms/step
Epoch 72/100
176/176 - 11s - loss: 0.5004 - accuracy: 0.1998 - val_loss: 0.5005 - val_accuracy: 0.0661 - lr: 0.0010 - 11s/epoch - 65ms/step
Epoch 73/100
176/176 - 12s - loss: 0.5004 - accuracy: 0.1997 - val_loss: 0.5007 - val_accuracy: 0.0074 - lr: 0.0010 - 12s/epoch - 65ms/step
Epoch 74/100
176/176 - 11s - loss: 0.5004 - accuracy: 0.1979 - val_loss: 0.5007 - val_accuracy: 0.0074 - lr: 0.0010 - 11s/epoch - 65ms/step
Epoch 75/100
176/176 - 11s - loss: 0.5004 - accuracy: 0.1986 - val_loss: 0.5011 - val_accuracy: 0.0074 - lr: 0.0010 - 11s/epoch - 65ms/step
Epoch 76/100
176/176 - 11s - loss: 0.5004 - accuracy: 0.1985 - val_loss: 0.5009 - val_accuracy: 0.0074 - lr: 0.0010 - 11s/epoch - 65ms/step
Epoch 77/100
176/176 - 12s - loss: 0.5004 - accuracy: 0.1970 - val_loss: 0.5007 - val_accuracy: 0.0074 - lr: 0.0010 - 12s/epoch - 66ms/step
Epoch 78/100
176/176 - 12s - loss: 0.5004 - accuracy: 0.1972 - val_loss: 0.5001 - val_accuracy: 0.8276 - lr: 0.0010 - 12s/epoch - 65ms/step
Epoch 79/100
176/176 - 12s - loss: 0.5004 - accuracy: 0.1976 - val_loss: 0.5005 - val_accuracy: 0.0254 - lr: 0.0010 - 12s/epoch - 65ms/step
Epoch 80/100
176/176 - 12s - loss: 0.5004 - accuracy: 0.1988 - val_loss: 0.5004 - val_accuracy: 0.0074 - lr: 0.0010 - 12s/epoch - 65ms/step
Epoch 81/100
176/176 - 12s - loss: 0.5004 - accuracy: 0.2001 - val_loss: 0.5002 - val_accuracy: 0.0735 - lr: 0.0010 - 12s/epoch - 66ms/step
Epoch 82/100
176/176 - 11s - loss: 0.5004 - accuracy: 0.1999 - val_loss: 0.5004 - val_accuracy: 0.0735 - lr: 0.0010 - 11s/epoch - 65ms/step
Epoch 83/100
176/176 - 12s - loss: 0.5004 - accuracy: 0.1967 - val_loss: 0.5003 - val_accuracy: 0.0661 - lr: 0.0010 - 12s/epoch - 65ms/step
Epoch 84/100
176/176 - 12s - loss: 0.5004 - accuracy: 0.2007 - val_loss: 0.5005 - val_accuracy: 0.0735 - lr: 0.0010 - 12s/epoch - 65ms/step
Epoch 85/100
176/176 - 12s - loss: 0.5004 - accuracy: 0.1978 - val_loss: 0.5003 - val_accuracy: 0.0074 - lr: 0.0010 - 12s/epoch - 66ms/step
Epoch 86/100
176/176 - 12s - loss: 0.5004 - accuracy: 0.1990 - val_loss: 0.5009 - val_accuracy: 0.0074 - lr: 0.0010 - 12s/epoch - 65ms/step
Epoch 87/100
176/176 - 11s - loss: 0.5004 - accuracy: 0.1990 - val_loss: 0.5008 - val_accuracy: 0.0074 - lr: 0.0010 - 11s/epoch - 65ms/step
Epoch 88/100
176/176 - 11s - loss: 0.5004 - accuracy: 0.1982 - val_loss: 0.5007 - val_accuracy: 0.0074 - lr: 0.0010 - 11s/epoch - 65ms/step
Epoch 89/100
176/176 - 12s - loss: 0.5004 - accuracy: 0.1992 - val_loss: 0.5001 - val_accuracy: 0.8276 - lr: 0.0010 - 12s/epoch - 65ms/step
Epoch 90/100
176/176 - 11s - loss: 0.5004 - accuracy: 0.1982 - val_loss: 0.5003 - val_accuracy: 0.0254 - lr: 0.0010 - 11s/epoch - 65ms/step
Epoch 91/100
176/176 - 12s - loss: 0.5004 - accuracy: 0.1998 - val_loss: 0.5001 - val_accuracy: 0.8276 - lr: 0.0010 - 12s/epoch - 66ms/step
Epoch 92/100
176/176 - 11s - loss: 0.5004 - accuracy: 0.1991 - val_loss: 0.5001 - val_accuracy: 0.8276 - lr: 0.0010 - 11s/epoch - 65ms/step
Epoch 93/100
176/176 - 11s - loss: 0.5004 - accuracy: 0.1999 - val_loss: 0.5004 - val_accuracy: 0.0735 - lr: 0.0010 - 11s/epoch - 65ms/step
Epoch 94/100
176/176 - 11s - loss: 0.5004 - accuracy: 0.1969 - val_loss: 0.5004 - val_accuracy: 0.0661 - lr: 0.0010 - 11s/epoch - 65ms/step
Epoch 95/100
176/176 - 12s - loss: 0.5004 - accuracy: 0.1976 - val_loss: 0.5002 - val_accuracy: 0.8276 - lr: 0.0010 - 12s/epoch - 65ms/step
Epoch 96/100
176/176 - 11s - loss: 0.5004 - accuracy: 0.2002 - val_loss: 0.5003 - val_accuracy: 0.8276 - lr: 0.0010 - 11s/epoch - 65ms/step
Epoch 97/100
176/176 - 12s - loss: 0.5004 - accuracy: 0.1988 - val_loss: 0.5002 - val_accuracy: 0.8276 - lr: 0.0010 - 12s/epoch - 66ms/step
Epoch 98/100
176/176 - 12s - loss: 0.5004 - accuracy: 0.1989 - val_loss: 0.5001 - val_accuracy: 0.8276 - lr: 0.0010 - 12s/epoch - 66ms/step
Epoch 99/100
176/176 - 12s - loss: 0.5004 - accuracy: 0.1974 - val_loss: 0.5003 - val_accuracy: 0.0735 - lr: 0.0010 - 12s/epoch - 65ms/step
Epoch 100/100
176/176 - 12s - loss: 0.5004 - accuracy: 0.1969 - val_loss: 0.5001 - val_accuracy: 0.8276 - lr: 0.0010 - 12s/epoch - 65ms/step
Epoch 1/100
36/36 - 13s - loss: 0.5004 - accuracy: 0.2000 - val_loss: 0.5000 - val_accuracy: 0.8276 - lr: 0.0010 - 13s/epoch - 354ms/step
Epoch 2/100
36/36 - 10s - loss: 0.5004 - accuracy: 0.2000 - val_loss: 0.5000 - val_accuracy: 0.8276 - lr: 0.0010 - 10s/epoch - 283ms/step
Epoch 3/100
36/36 - 10s - loss: 0.5004 - accuracy: 0.2007 - val_loss: 0.5002 - val_accuracy: 0.8276 - lr: 0.0010 - 10s/epoch - 285ms/step
Epoch 4/100
36/36 - 10s - loss: 0.5004 - accuracy: 0.1981 - val_loss: 0.5003 - val_accuracy: 0.0735 - lr: 0.0010 - 10s/epoch - 283ms/step
Epoch 5/100
36/36 - 10s - loss: 0.5004 - accuracy: 0.2001 - val_loss: 0.5001 - val_accuracy: 0.0074 - lr: 0.0010 - 10s/epoch - 284ms/step
Epoch 6/100
36/36 - 10s - loss: 0.5004 - accuracy: 0.2000 - val_loss: 0.5001 - val_accuracy: 0.0074 - lr: 0.0010 - 10s/epoch - 285ms/step
Epoch 7/100
36/36 - 10s - loss: 0.5004 - accuracy: 0.2000 - val_loss: 0.5001 - val_accuracy: 0.0074 - lr: 0.0010 - 10s/epoch - 283ms/step
Epoch 8/100
36/36 - 10s - loss: 0.5004 - accuracy: 0.1973 - val_loss: 0.5000 - val_accuracy: 0.0074 - lr: 0.0010 - 10s/epoch - 285ms/step
Epoch 9/100
36/36 - 10s - loss: 0.5004 - accuracy: 0.2000 - val_loss: 0.5003 - val_accuracy: 0.0074 - lr: 0.0010 - 10s/epoch - 283ms/step
Epoch 10/100
36/36 - 10s - loss: 0.5004 - accuracy: 0.2000 - val_loss: 0.5003 - val_accuracy: 0.0074 - lr: 0.0010 - 10s/epoch - 284ms/step
Epoch 11/100
36/36 - 10s - loss: 0.5004 - accuracy: 0.2000 - val_loss: 0.5003 - val_accuracy: 0.0074 - lr: 0.0010 - 10s/epoch - 285ms/step
Epoch 12/100
36/36 - 10s - loss: 0.5004 - accuracy: 0.2000 - val_loss: 0.5002 - val_accuracy: 0.0074 - lr: 0.0010 - 10s/epoch - 284ms/step
Epoch 13/100
36/36 - 10s - loss: 0.5004 - accuracy: 0.1998 - val_loss: 0.5001 - val_accuracy: 0.0074 - lr: 0.0010 - 10s/epoch - 284ms/step
Epoch 14/100
36/36 - 10s - loss: 0.5004 - accuracy: 0.2001 - val_loss: 0.5002 - val_accuracy: 0.0074 - lr: 0.0010 - 10s/epoch - 286ms/step
Epoch 15/100
36/36 - 10s - loss: 0.5004 - accuracy: 0.1973 - val_loss: 0.5000 - val_accuracy: 0.8276 - lr: 0.0010 - 10s/epoch - 286ms/step
Epoch 16/100
36/36 - 10s - loss: 0.5004 - accuracy: 0.2002 - val_loss: 0.4999 - val_accuracy: 0.8276 - lr: 0.0010 - 10s/epoch - 285ms/step
Epoch 17/100
36/36 - 10s - loss: 0.5004 - accuracy: 0.2000 - val_loss: 0.4998 - val_accuracy: 0.8276 - lr: 0.0010 - 10s/epoch - 285ms/step
Epoch 18/100
36/36 - 10s - loss: 0.5004 - accuracy: 0.2000 - val_loss: 0.4998 - val_accuracy: 0.8276 - lr: 0.0010 - 10s/epoch - 285ms/step
Epoch 19/100
36/36 - 10s - loss: 0.5004 - accuracy: 0.2000 - val_loss: 0.4999 - val_accuracy: 0.8276 - lr: 0.0010 - 10s/epoch - 285ms/step
Epoch 20/100
36/36 - 10s - loss: 0.5004 - accuracy: 0.2000 - val_loss: 0.4999 - val_accuracy: 0.8276 - lr: 0.0010 - 10s/epoch - 285ms/step
Epoch 21/100
36/36 - 10s - loss: 0.5004 - accuracy: 0.2007 - val_loss: 0.5001 - val_accuracy: 0.0661 - lr: 0.0010 - 10s/epoch - 286ms/step
Epoch 22/100
36/36 - 10s - loss: 0.5004 - accuracy: 0.2000 - val_loss: 0.5002 - val_accuracy: 0.0661 - lr: 0.0010 - 10s/epoch - 285ms/step
Epoch 23/100
36/36 - 10s - loss: 0.5004 - accuracy: 0.1999 - val_loss: 0.5002 - val_accuracy: 0.0661 - lr: 0.0010 - 10s/epoch - 284ms/step
Epoch 24/100
36/36 - 10s - loss: 0.5004 - accuracy: 0.1969 - val_loss: 0.5002 - val_accuracy: 0.8276 - lr: 0.0010 - 10s/epoch - 286ms/step
Epoch 25/100
36/36 - 10s - loss: 0.5004 - accuracy: 0.2010 - val_loss: 0.5002 - val_accuracy: 0.0661 - lr: 0.0010 - 10s/epoch - 285ms/step
Epoch 26/100
36/36 - 10s - loss: 0.5004 - accuracy: 0.2000 - val_loss: 0.5003 - val_accuracy: 0.0661 - lr: 0.0010 - 10s/epoch - 283ms/step
Epoch 27/100
36/36 - 10s - loss: 0.5004 - accuracy: 0.1990 - val_loss: 0.5001 - val_accuracy: 0.8276 - lr: 0.0010 - 10s/epoch - 284ms/step
Epoch 28/100
36/36 - 10s - loss: 0.5004 - accuracy: 0.1998 - val_loss: 0.5002 - val_accuracy: 0.8276 - lr: 0.0010 - 10s/epoch - 285ms/step
Epoch 29/100
36/36 - 10s - loss: 0.5004 - accuracy: 0.1996 - val_loss: 0.5001 - val_accuracy: 0.8276 - lr: 0.0010 - 10s/epoch - 285ms/step
Epoch 30/100
36/36 - 10s - loss: 0.5004 - accuracy: 0.2000 - val_loss: 0.5001 - val_accuracy: 0.8276 - lr: 0.0010 - 10s/epoch - 284ms/step
Epoch 31/100
36/36 - 10s - loss: 0.5004 - accuracy: 0.2000 - val_loss: 0.5002 - val_accuracy: 0.8276 - lr: 0.0010 - 10s/epoch - 285ms/step
Epoch 32/100
36/36 - 10s - loss: 0.5004 - accuracy: 0.1993 - val_loss: 0.5004 - val_accuracy: 0.0254 - lr: 0.0010 - 10s/epoch - 286ms/step
Epoch 33/100
36/36 - 10s - loss: 0.5004 - accuracy: 0.2000 - val_loss: 0.5004 - val_accuracy: 0.0254 - lr: 0.0010 - 10s/epoch - 285ms/step
Epoch 34/100
36/36 - 10s - loss: 0.5004 - accuracy: 0.2000 - val_loss: 0.5005 - val_accuracy: 0.0254 - lr: 0.0010 - 10s/epoch - 284ms/step
Epoch 35/100
36/36 - 10s - loss: 0.5004 - accuracy: 0.1983 - val_loss: 0.5007 - val_accuracy: 0.0661 - lr: 0.0010 - 10s/epoch - 284ms/step
Epoch 36/100
36/36 - 10s - loss: 0.5004 - accuracy: 0.2002 - val_loss: 0.5006 - val_accuracy: 0.0254 - lr: 0.0010 - 10s/epoch - 285ms/step
Epoch 37/100
36/36 - 10s - loss: 0.5004 - accuracy: 0.1999 - val_loss: 0.5006 - val_accuracy: 0.0661 - lr: 0.0010 - 10s/epoch - 286ms/step
Epoch 38/100
36/36 - 10s - loss: 0.5004 - accuracy: 0.2000 - val_loss: 0.5007 - val_accuracy: 0.0661 - lr: 0.0010 - 10s/epoch - 286ms/step
Epoch 39/100
36/36 - 10s - loss: 0.5004 - accuracy: 0.2002 - val_loss: 0.5009 - val_accuracy: 0.0735 - lr: 0.0010 - 10s/epoch - 286ms/step
Epoch 40/100
36/36 - 10s - loss: 0.5004 - accuracy: 0.1996 - val_loss: 0.5008 - val_accuracy: 0.0661 - lr: 0.0010 - 10s/epoch - 286ms/step
Epoch 41/100
36/36 - 10s - loss: 0.5004 - accuracy: 0.1990 - val_loss: 0.5008 - val_accuracy: 0.0661 - lr: 0.0010 - 10s/epoch - 285ms/step
Epoch 42/100
36/36 - 10s - loss: 0.5004 - accuracy: 0.1988 - val_loss: 0.5007 - val_accuracy: 0.0735 - lr: 0.0010 - 10s/epoch - 287ms/step
Epoch 43/100
36/36 - 10s - loss: 0.5004 - accuracy: 0.2000 - val_loss: 0.5007 - val_accuracy: 0.0735 - lr: 0.0010 - 10s/epoch - 285ms/step
Epoch 44/100
36/36 - 10s - loss: 0.5004 - accuracy: 0.2000 - val_loss: 0.5007 - val_accuracy: 0.0735 - lr: 0.0010 - 10s/epoch - 284ms/step
Epoch 45/100
36/36 - 10s - loss: 0.5004 - accuracy: 0.2000 - val_loss: 0.5006 - val_accuracy: 0.0735 - lr: 0.0010 - 10s/epoch - 285ms/step
Epoch 46/100
36/36 - 10s - loss: 0.5004 - accuracy: 0.2000 - val_loss: 0.5004 - val_accuracy: 0.0735 - lr: 0.0010 - 10s/epoch - 286ms/step
Epoch 47/100
36/36 - 10s - loss: 0.5004 - accuracy: 0.2000 - val_loss: 0.5007 - val_accuracy: 0.0735 - lr: 0.0010 - 10s/epoch - 286ms/step
Epoch 48/100
36/36 - 10s - loss: 0.5004 - accuracy: 0.2000 - val_loss: 0.5006 - val_accuracy: 0.0735 - lr: 0.0010 - 10s/epoch - 286ms/step
Epoch 49/100
36/36 - 11s - loss: 0.5004 - accuracy: 0.2000 - val_loss: 0.5005 - val_accuracy: 0.0735 - lr: 0.0010 - 11s/epoch - 292ms/step
Epoch 50/100
36/36 - 10s - loss: 0.5004 - accuracy: 0.2000 - val_loss: 0.5005 - val_accuracy: 0.0735 - lr: 0.0010 - 10s/epoch - 285ms/step
Epoch 51/100
36/36 - 10s - loss: 0.5004 - accuracy: 0.2000 - val_loss: 0.5006 - val_accuracy: 0.0735 - lr: 0.0010 - 10s/epoch - 285ms/step
Epoch 52/100
36/36 - 10s - loss: 0.5004 - accuracy: 0.2000 - val_loss: 0.5006 - val_accuracy: 0.0735 - lr: 0.0010 - 10s/epoch - 285ms/step
Epoch 53/100
36/36 - 10s - loss: 0.5004 - accuracy: 0.2000 - val_loss: 0.5007 - val_accuracy: 0.0735 - lr: 0.0010 - 10s/epoch - 286ms/step
Epoch 54/100
36/36 - 10s - loss: 0.5004 - accuracy: 0.2000 - val_loss: 0.5006 - val_accuracy: 0.0735 - lr: 0.0010 - 10s/epoch - 284ms/step
Epoch 55/100
36/36 - 10s - loss: 0.5004 - accuracy: 0.2000 - val_loss: 0.5005 - val_accuracy: 0.0735 - lr: 0.0010 - 10s/epoch - 284ms/step
Epoch 56/100
36/36 - 10s - loss: 0.5004 - accuracy: 0.2000 - val_loss: 0.5003 - val_accuracy: 0.0735 - lr: 0.0010 - 10s/epoch - 285ms/step
Epoch 57/100
36/36 - 10s - loss: 0.5004 - accuracy: 0.1996 - val_loss: 0.5002 - val_accuracy: 0.0735 - lr: 0.0010 - 10s/epoch - 285ms/step
Epoch 58/100
36/36 - 10s - loss: 0.5004 - accuracy: 0.1999 - val_loss: 0.5001 - val_accuracy: 0.8276 - lr: 0.0010 - 10s/epoch - 285ms/step
Epoch 59/100
36/36 - 10s - loss: 0.5004 - accuracy: 0.2000 - val_loss: 0.5000 - val_accuracy: 0.8276 - lr: 0.0010 - 10s/epoch - 286ms/step
Epoch 60/100
36/36 - 10s - loss: 0.5004 - accuracy: 0.1990 - val_loss: 0.5003 - val_accuracy: 0.0254 - lr: 0.0010 - 10s/epoch - 287ms/step
Epoch 61/100
36/36 - 10s - loss: 0.5004 - accuracy: 0.1982 - val_loss: 0.5002 - val_accuracy: 0.0254 - lr: 0.0010 - 10s/epoch - 286ms/step
Epoch 62/100
36/36 - 10s - loss: 0.5004 - accuracy: 0.1994 - val_loss: 0.5003 - val_accuracy: 0.0254 - lr: 0.0010 - 10s/epoch - 285ms/step
Epoch 63/100
36/36 - 10s - loss: 0.5004 - accuracy: 0.2001 - val_loss: 0.5003 - val_accuracy: 0.0735 - lr: 0.0010 - 10s/epoch - 285ms/step
Epoch 64/100
36/36 - 10s - loss: 0.5004 - accuracy: 0.2000 - val_loss: 0.5004 - val_accuracy: 0.0735 - lr: 0.0010 - 10s/epoch - 284ms/step
Epoch 65/100
36/36 - 10s - loss: 0.5004 - accuracy: 0.2002 - val_loss: 0.5002 - val_accuracy: 0.0735 - lr: 0.0010 - 10s/epoch - 288ms/step
Epoch 66/100
36/36 - 10s - loss: 0.5004 - accuracy: 0.2000 - val_loss: 0.5001 - val_accuracy: 0.8276 - lr: 0.0010 - 10s/epoch - 286ms/step
Epoch 67/100
36/36 - 10s - loss: 0.5004 - accuracy: 0.2000 - val_loss: 0.5002 - val_accuracy: 0.8276 - lr: 0.0010 - 10s/epoch - 285ms/step
Epoch 68/100
36/36 - 10s - loss: 0.5004 - accuracy: 0.1976 - val_loss: 0.5001 - val_accuracy: 0.8276 - lr: 0.0010 - 10s/epoch - 285ms/step
Epoch 69/100
36/36 - 10s - loss: 0.5004 - accuracy: 0.1991 - val_loss: 0.5001 - val_accuracy: 0.8276 - lr: 0.0010 - 10s/epoch - 286ms/step
Epoch 70/100
36/36 - 10s - loss: 0.5004 - accuracy: 0.2001 - val_loss: 0.5000 - val_accuracy: 0.8276 - lr: 0.0010 - 10s/epoch - 286ms/step
Epoch 71/100
36/36 - 10s - loss: 0.5004 - accuracy: 0.2000 - val_loss: 0.5001 - val_accuracy: 0.8276 - lr: 0.0010 - 10s/epoch - 284ms/step
Epoch 72/100
36/36 - 10s - loss: 0.5004 - accuracy: 0.2000 - val_loss: 0.5001 - val_accuracy: 0.8276 - lr: 0.0010 - 10s/epoch - 287ms/step
Epoch 73/100
36/36 - 10s - loss: 0.5004 - accuracy: 0.2002 - val_loss: 0.5002 - val_accuracy: 0.8276 - lr: 0.0010 - 10s/epoch - 285ms/step
Epoch 74/100
36/36 - 10s - loss: 0.5004 - accuracy: 0.1992 - val_loss: 0.5003 - val_accuracy: 0.0074 - lr: 0.0010 - 10s/epoch - 285ms/step
Epoch 75/100
36/36 - 10s - loss: 0.5004 - accuracy: 0.2011 - val_loss: 0.5003 - val_accuracy: 0.8276 - lr: 0.0010 - 10s/epoch - 286ms/step
Epoch 76/100
36/36 - 10s - loss: 0.5004 - accuracy: 0.2001 - val_loss: 0.5002 - val_accuracy: 0.8276 - lr: 0.0010 - 10s/epoch - 286ms/step
Epoch 77/100
36/36 - 10s - loss: 0.5004 - accuracy: 0.1986 - val_loss: 0.5004 - val_accuracy: 0.0254 - lr: 0.0010 - 10s/epoch - 286ms/step
Epoch 78/100
36/36 - 10s - loss: 0.5004 - accuracy: 0.1977 - val_loss: 0.5004 - val_accuracy: 0.0735 - lr: 0.0010 - 10s/epoch - 286ms/step
Epoch 79/100
36/36 - 10s - loss: 0.5004 - accuracy: 0.2000 - val_loss: 0.5005 - val_accuracy: 0.0074 - lr: 0.0010 - 10s/epoch - 286ms/step
Epoch 80/100
36/36 - 10s - loss: 0.5004 - accuracy: 0.1983 - val_loss: 0.5003 - val_accuracy: 0.0074 - lr: 0.0010 - 10s/epoch - 285ms/step
Epoch 81/100
36/36 - 10s - loss: 0.5004 - accuracy: 0.2000 - val_loss: 0.5003 - val_accuracy: 0.0074 - lr: 0.0010 - 10s/epoch - 285ms/step
Epoch 82/100
36/36 - 10s - loss: 0.5004 - accuracy: 0.1997 - val_loss: 0.5001 - val_accuracy: 0.8276 - lr: 0.0010 - 10s/epoch - 284ms/step
Epoch 83/100
36/36 - 10s - loss: 0.5004 - accuracy: 0.2000 - val_loss: 0.4999 - val_accuracy: 0.8276 - lr: 0.0010 - 10s/epoch - 286ms/step
Epoch 84/100
36/36 - 10s - loss: 0.5004 - accuracy: 0.2000 - val_loss: 0.4999 - val_accuracy: 0.8276 - lr: 0.0010 - 10s/epoch - 286ms/step
Epoch 85/100
36/36 - 10s - loss: 0.5004 - accuracy: 0.2000 - val_loss: 0.4998 - val_accuracy: 0.8276 - lr: 0.0010 - 10s/epoch - 285ms/step
Epoch 86/100
36/36 - 10s - loss: 0.5004 - accuracy: 0.2000 - val_loss: 0.4999 - val_accuracy: 0.8276 - lr: 0.0010 - 10s/epoch - 285ms/step
Epoch 87/100
36/36 - 10s - loss: 0.5004 - accuracy: 0.1998 - val_loss: 0.4999 - val_accuracy: 0.8276 - lr: 0.0010 - 10s/epoch - 286ms/step
Epoch 88/100
36/36 - 10s - loss: 0.5004 - accuracy: 0.2002 - val_loss: 0.5000 - val_accuracy: 0.0074 - lr: 0.0010 - 10s/epoch - 285ms/step
Epoch 89/100
36/36 - 10s - loss: 0.5004 - accuracy: 0.1993 - val_loss: 0.5000 - val_accuracy: 0.8276 - lr: 0.0010 - 10s/epoch - 286ms/step
Epoch 90/100
36/36 - 10s - loss: 0.5004 - accuracy: 0.1990 - val_loss: 0.4999 - val_accuracy: 0.8276 - lr: 0.0010 - 10s/epoch - 284ms/step
Epoch 91/100
36/36 - 10s - loss: 0.5004 - accuracy: 0.2009 - val_loss: 0.5002 - val_accuracy: 0.0074 - lr: 0.0010 - 10s/epoch - 286ms/step
Epoch 92/100
36/36 - 10s - loss: 0.5004 - accuracy: 0.2000 - val_loss: 0.5002 - val_accuracy: 0.0074 - lr: 0.0010 - 10s/epoch - 284ms/step
Epoch 93/100
36/36 - 10s - loss: 0.5004 - accuracy: 0.2000 - val_loss: 0.5004 - val_accuracy: 0.0074 - lr: 0.0010 - 10s/epoch - 285ms/step
Epoch 94/100
36/36 - 10s - loss: 0.5004 - accuracy: 0.2000 - val_loss: 0.5005 - val_accuracy: 0.0074 - lr: 0.0010 - 10s/epoch - 286ms/step
Epoch 95/100
36/36 - 10s - loss: 0.5004 - accuracy: 0.2000 - val_loss: 0.5004 - val_accuracy: 0.0074 - lr: 0.0010 - 10s/epoch - 285ms/step
Epoch 96/100
36/36 - 10s - loss: 0.5004 - accuracy: 0.1986 - val_loss: 0.5003 - val_accuracy: 0.0661 - lr: 0.0010 - 10s/epoch - 286ms/step
Epoch 97/100
36/36 - 10s - loss: 0.5004 - accuracy: 0.2009 - val_loss: 0.5003 - val_accuracy: 0.0254 - lr: 0.0010 - 10s/epoch - 284ms/step
Epoch 98/100
36/36 - 10s - loss: 0.5004 - accuracy: 0.2023 - val_loss: 0.5003 - val_accuracy: 0.0661 - lr: 0.0010 - 10s/epoch - 285ms/step
Epoch 99/100
36/36 - 10s - loss: 0.5004 - accuracy: 0.1997 - val_loss: 0.5003 - val_accuracy: 0.0661 - lr: 0.0010 - 10s/epoch - 284ms/step
Epoch 100/100
36/36 - 10s - loss: 0.5004 - accuracy: 0.1989 - val_loss: 0.5000 - val_accuracy: 0.8276 - lr: 0.0010 - 10s/epoch - 285ms/step
Epoch 1/25
4378/4378 - 80s - loss: 0.0800 - accuracy: 0.1973 - val_loss: 0.0801 - val_accuracy: 0.0074 - lr: 0.0010 - 80s/epoch - 18ms/step
Epoch 2/25
4378/4378 - 78s - loss: 0.0800 - accuracy: 0.1996 - val_loss: 0.0798 - val_accuracy: 0.8276 - lr: 0.0010 - 78s/epoch - 18ms/step
Epoch 3/25
4378/4378 - 78s - loss: 0.0800 - accuracy: 0.1974 - val_loss: 0.0809 - val_accuracy: 0.0735 - lr: 0.0010 - 78s/epoch - 18ms/step
Epoch 4/25
4378/4378 - 78s - loss: 0.0800 - accuracy: 0.1969 - val_loss: 0.0801 - val_accuracy: 0.0735 - lr: 0.0010 - 78s/epoch - 18ms/step
Epoch 5/25
4378/4378 - 78s - loss: 0.0800 - accuracy: 0.1984 - val_loss: 0.0802 - val_accuracy: 0.0254 - lr: 0.0010 - 78s/epoch - 18ms/step
Epoch 6/25
4378/4378 - 78s - loss: 0.0800 - accuracy: 0.2011 - val_loss: 0.0801 - val_accuracy: 0.0735 - lr: 0.0010 - 78s/epoch - 18ms/step
Epoch 7/25
4378/4378 - 78s - loss: 0.0800 - accuracy: 0.1980 - val_loss: 0.0803 - val_accuracy: 0.0074 - lr: 0.0010 - 78s/epoch - 18ms/step
Epoch 8/25
4378/4378 - 78s - loss: 0.0800 - accuracy: 0.2001 - val_loss: 0.0808 - val_accuracy: 0.0074 - lr: 0.0010 - 78s/epoch - 18ms/step
Epoch 9/25
4378/4378 - 78s - loss: 0.0800 - accuracy: 0.1991 - val_loss: 0.0799 - val_accuracy: 0.0074 - lr: 0.0010 - 78s/epoch - 18ms/step
Epoch 10/25
4378/4378 - 78s - loss: 0.0800 - accuracy: 0.1984 - val_loss: 0.0796 - val_accuracy: 0.8276 - lr: 0.0010 - 78s/epoch - 18ms/step
Epoch 11/25
4378/4378 - 78s - loss: 0.0800 - accuracy: 0.1976 - val_loss: 0.0801 - val_accuracy: 0.0074 - lr: 0.0010 - 78s/epoch - 18ms/step
Epoch 12/25
4378/4378 - 78s - loss: 0.0800 - accuracy: 0.1974 - val_loss: 0.0806 - val_accuracy: 0.0254 - lr: 0.0010 - 78s/epoch - 18ms/step
Epoch 13/25
4378/4378 - 78s - loss: 0.0800 - accuracy: 0.1986 - val_loss: 0.0801 - val_accuracy: 0.0661 - lr: 0.0010 - 78s/epoch - 18ms/step
Epoch 14/25
4378/4378 - 78s - loss: 0.0800 - accuracy: 0.1997 - val_loss: 0.0800 - val_accuracy: 0.0661 - lr: 0.0010 - 78s/epoch - 18ms/step
Epoch 15/25
4378/4378 - 78s - loss: 0.0800 - accuracy: 0.1981 - val_loss: 0.0798 - val_accuracy: 0.0074 - lr: 0.0010 - 78s/epoch - 18ms/step
Epoch 16/25
4378/4378 - 78s - loss: 0.0800 - accuracy: 0.1974 - val_loss: 0.0804 - val_accuracy: 0.0661 - lr: 0.0010 - 78s/epoch - 18ms/step
Epoch 17/25
4378/4378 - 78s - loss: 0.0800 - accuracy: 0.1981 - val_loss: 0.0798 - val_accuracy: 0.0735 - lr: 0.0010 - 78s/epoch - 18ms/step
Epoch 18/25
4378/4378 - 78s - loss: 0.0800 - accuracy: 0.1979 - val_loss: 0.0799 - val_accuracy: 0.0074 - lr: 0.0010 - 78s/epoch - 18ms/step
Epoch 19/25
4378/4378 - 78s - loss: 0.0800 - accuracy: 0.1993 - val_loss: 0.0795 - val_accuracy: 0.8276 - lr: 0.0010 - 78s/epoch - 18ms/step
Epoch 20/25
4378/4378 - 78s - loss: 0.0800 - accuracy: 0.1987 - val_loss: 0.0801 - val_accuracy: 0.0254 - lr: 0.0010 - 78s/epoch - 18ms/step
Epoch 21/25
4378/4378 - 78s - loss: 0.0800 - accuracy: 0.1981 - val_loss: 0.0800 - val_accuracy: 0.0254 - lr: 0.0010 - 78s/epoch - 18ms/step
Epoch 22/25
4378/4378 - 78s - loss: 0.0800 - accuracy: 0.1985 - val_loss: 0.0801 - val_accuracy: 0.0735 - lr: 0.0010 - 78s/epoch - 18ms/step
Epoch 23/25
4378/4378 - 78s - loss: 0.0800 - accuracy: 0.1989 - val_loss: 0.0801 - val_accuracy: 0.0254 - lr: 0.0010 - 78s/epoch - 18ms/step
Epoch 24/25
4378/4378 - 78s - loss: 0.0800 - accuracy: 0.1988 - val_loss: 0.0800 - val_accuracy: 0.0661 - lr: 0.0010 - 78s/epoch - 18ms/step
Epoch 25/25
4378/4378 - 78s - loss: 0.0800 - accuracy: 0.1965 - val_loss: 0.0798 - val_accuracy: 0.8276 - lr: 0.0010 - 78s/epoch - 18ms/step
Epoch 1/25
876/876 - 23s - loss: 0.0800 - accuracy: 0.2009 - val_loss: 0.0801 - val_accuracy: 0.0254 - lr: 0.0010 - 23s/epoch - 26ms/step
Epoch 2/25
876/876 - 20s - loss: 0.0800 - accuracy: 0.1985 - val_loss: 0.0798 - val_accuracy: 0.8276 - lr: 0.0010 - 20s/epoch - 23ms/step
Epoch 3/25
876/876 - 20s - loss: 0.0800 - accuracy: 0.1982 - val_loss: 0.0801 - val_accuracy: 0.0074 - lr: 0.0010 - 20s/epoch - 23ms/step
Epoch 4/25
876/876 - 20s - loss: 0.0800 - accuracy: 0.1969 - val_loss: 0.0802 - val_accuracy: 0.0074 - lr: 0.0010 - 20s/epoch - 23ms/step
Epoch 5/25
876/876 - 20s - loss: 0.0800 - accuracy: 0.1989 - val_loss: 0.0800 - val_accuracy: 0.0254 - lr: 0.0010 - 20s/epoch - 23ms/step
Epoch 6/25
876/876 - 20s - loss: 0.0800 - accuracy: 0.1980 - val_loss: 0.0801 - val_accuracy: 0.0735 - lr: 0.0010 - 20s/epoch - 23ms/step
Epoch 7/25
876/876 - 20s - loss: 0.0800 - accuracy: 0.1961 - val_loss: 0.0800 - val_accuracy: 0.0661 - lr: 0.0010 - 20s/epoch - 23ms/step
Epoch 8/25
876/876 - 20s - loss: 0.0800 - accuracy: 0.1999 - val_loss: 0.0800 - val_accuracy: 0.0074 - lr: 0.0010 - 20s/epoch - 23ms/step
Epoch 9/25
876/876 - 20s - loss: 0.0800 - accuracy: 0.1990 - val_loss: 0.0800 - val_accuracy: 0.0735 - lr: 0.0010 - 20s/epoch - 23ms/step
Epoch 10/25
876/876 - 20s - loss: 0.0800 - accuracy: 0.2002 - val_loss: 0.0802 - val_accuracy: 0.0074 - lr: 0.0010 - 20s/epoch - 23ms/step
Epoch 11/25
876/876 - 20s - loss: 0.0800 - accuracy: 0.1991 - val_loss: 0.0800 - val_accuracy: 0.0074 - lr: 0.0010 - 20s/epoch - 23ms/step
Epoch 12/25
876/876 - 20s - loss: 0.0800 - accuracy: 0.1975 - val_loss: 0.0800 - val_accuracy: 0.0074 - lr: 0.0010 - 20s/epoch - 23ms/step
Epoch 13/25
876/876 - 20s - loss: 0.0800 - accuracy: 0.1983 - val_loss: 0.0799 - val_accuracy: 0.8276 - lr: 0.0010 - 20s/epoch - 23ms/step
Epoch 14/25
876/876 - 20s - loss: 0.0800 - accuracy: 0.1995 - val_loss: 0.0800 - val_accuracy: 0.0254 - lr: 0.0010 - 20s/epoch - 23ms/step
Epoch 15/25
876/876 - 20s - loss: 0.0800 - accuracy: 0.1970 - val_loss: 0.0800 - val_accuracy: 0.0254 - lr: 0.0010 - 20s/epoch - 23ms/step
Epoch 16/25
876/876 - 20s - loss: 0.0800 - accuracy: 0.1966 - val_loss: 0.0800 - val_accuracy: 0.0661 - lr: 0.0010 - 20s/epoch - 23ms/step
Epoch 17/25
876/876 - 20s - loss: 0.0800 - accuracy: 0.1983 - val_loss: 0.0799 - val_accuracy: 0.0735 - lr: 0.0010 - 20s/epoch - 23ms/step
Epoch 18/25
876/876 - 20s - loss: 0.0800 - accuracy: 0.1991 - val_loss: 0.0800 - val_accuracy: 0.0074 - lr: 0.0010 - 20s/epoch - 23ms/step
Epoch 19/25
876/876 - 20s - loss: 0.0800 - accuracy: 0.1966 - val_loss: 0.0801 - val_accuracy: 0.0074 - lr: 0.0010 - 20s/epoch - 23ms/step
Epoch 20/25
876/876 - 20s - loss: 0.0800 - accuracy: 0.1986 - val_loss: 0.0800 - val_accuracy: 0.0661 - lr: 0.0010 - 20s/epoch - 23ms/step
Epoch 21/25
876/876 - 20s - loss: 0.0800 - accuracy: 0.1987 - val_loss: 0.0800 - val_accuracy: 0.0074 - lr: 0.0010 - 20s/epoch - 23ms/step
Epoch 22/25
876/876 - 20s - loss: 0.0800 - accuracy: 0.1978 - val_loss: 0.0800 - val_accuracy: 0.0074 - lr: 0.0010 - 20s/epoch - 23ms/step
Epoch 23/25
876/876 - 20s - loss: 0.0800 - accuracy: 0.1988 - val_loss: 0.0800 - val_accuracy: 0.0074 - lr: 0.0010 - 20s/epoch - 23ms/step
Epoch 24/25
876/876 - 20s - loss: 0.0800 - accuracy: 0.1997 - val_loss: 0.0798 - val_accuracy: 0.8276 - lr: 0.0010 - 20s/epoch - 23ms/step
Epoch 25/25
876/876 - 20s - loss: 0.0800 - accuracy: 0.1993 - val_loss: 0.0799 - val_accuracy: 0.8276 - lr: 0.0010 - 20s/epoch - 23ms/step
Epoch 1/25
176/176 - 14s - loss: 0.0800 - accuracy: 0.1995 - val_loss: 0.0800 - val_accuracy: 0.0661 - lr: 0.0010 - 14s/epoch - 79ms/step
Epoch 2/25
176/176 - 11s - loss: 0.0800 - accuracy: 0.2000 - val_loss: 0.0800 - val_accuracy: 0.0661 - lr: 0.0010 - 11s/epoch - 65ms/step
Epoch 3/25
176/176 - 11s - loss: 0.0800 - accuracy: 0.1948 - val_loss: 0.0800 - val_accuracy: 0.0661 - lr: 0.0010 - 11s/epoch - 65ms/step
Epoch 4/25
176/176 - 11s - loss: 0.0800 - accuracy: 0.1979 - val_loss: 0.0800 - val_accuracy: 0.0661 - lr: 0.0010 - 11s/epoch - 65ms/step
Epoch 5/25
176/176 - 12s - loss: 0.0800 - accuracy: 0.1978 - val_loss: 0.0800 - val_accuracy: 0.0074 - lr: 0.0010 - 12s/epoch - 65ms/step
Epoch 6/25
176/176 - 11s - loss: 0.0800 - accuracy: 0.2000 - val_loss: 0.0800 - val_accuracy: 0.0074 - lr: 0.0010 - 11s/epoch - 65ms/step
Epoch 7/25
176/176 - 11s - loss: 0.0800 - accuracy: 0.1988 - val_loss: 0.0800 - val_accuracy: 0.0661 - lr: 0.0010 - 11s/epoch - 65ms/step
Epoch 8/25
176/176 - 12s - loss: 0.0800 - accuracy: 0.1986 - val_loss: 0.0800 - val_accuracy: 0.0735 - lr: 0.0010 - 12s/epoch - 65ms/step
Epoch 9/25
176/176 - 12s - loss: 0.0800 - accuracy: 0.1983 - val_loss: 0.0799 - val_accuracy: 0.0735 - lr: 0.0010 - 12s/epoch - 66ms/step
Epoch 10/25
176/176 - 11s - loss: 0.0800 - accuracy: 0.1988 - val_loss: 0.0799 - val_accuracy: 0.8276 - lr: 0.0010 - 11s/epoch - 65ms/step
Epoch 11/25
176/176 - 12s - loss: 0.0800 - accuracy: 0.2002 - val_loss: 0.0799 - val_accuracy: 0.8276 - lr: 0.0010 - 12s/epoch - 65ms/step
Epoch 12/25
176/176 - 11s - loss: 0.0800 - accuracy: 0.1980 - val_loss: 0.0799 - val_accuracy: 0.8276 - lr: 0.0010 - 11s/epoch - 65ms/step
Epoch 13/25
176/176 - 12s - loss: 0.0800 - accuracy: 0.1982 - val_loss: 0.0799 - val_accuracy: 0.8276 - lr: 0.0010 - 12s/epoch - 66ms/step
Epoch 14/25
176/176 - 12s - loss: 0.0800 - accuracy: 0.1977 - val_loss: 0.0800 - val_accuracy: 0.0074 - lr: 0.0010 - 12s/epoch - 65ms/step
Epoch 15/25
176/176 - 11s - loss: 0.0800 - accuracy: 0.1969 - val_loss: 0.0800 - val_accuracy: 0.0254 - lr: 0.0010 - 11s/epoch - 65ms/step
Epoch 16/25
176/176 - 12s - loss: 0.0800 - accuracy: 0.1976 - val_loss: 0.0800 - val_accuracy: 0.0735 - lr: 0.0010 - 12s/epoch - 66ms/step
Epoch 17/25
176/176 - 11s - loss: 0.0800 - accuracy: 0.1985 - val_loss: 0.0800 - val_accuracy: 0.0254 - lr: 0.0010 - 11s/epoch - 65ms/step
Epoch 18/25
176/176 - 11s - loss: 0.0800 - accuracy: 0.1982 - val_loss: 0.0800 - val_accuracy: 0.8276 - lr: 0.0010 - 11s/epoch - 65ms/step
Epoch 19/25
176/176 - 11s - loss: 0.0800 - accuracy: 0.1989 - val_loss: 0.0800 - val_accuracy: 0.0661 - lr: 0.0010 - 11s/epoch - 65ms/step
Epoch 20/25
176/176 - 11s - loss: 0.0800 - accuracy: 0.1975 - val_loss: 0.0800 - val_accuracy: 0.0735 - lr: 0.0010 - 11s/epoch - 65ms/step
Epoch 21/25
176/176 - 11s - loss: 0.0800 - accuracy: 0.1989 - val_loss: 0.0800 - val_accuracy: 0.0735 - lr: 0.0010 - 11s/epoch - 65ms/step
Epoch 22/25
176/176 - 11s - loss: 0.0800 - accuracy: 0.1979 - val_loss: 0.0800 - val_accuracy: 0.8276 - lr: 0.0010 - 11s/epoch - 65ms/step
Epoch 23/25
176/176 - 12s - loss: 0.0800 - accuracy: 0.1981 - val_loss: 0.0799 - val_accuracy: 0.8276 - lr: 0.0010 - 12s/epoch - 65ms/step
Epoch 24/25
176/176 - 11s - loss: 0.0800 - accuracy: 0.1991 - val_loss: 0.0799 - val_accuracy: 0.8276 - lr: 0.0010 - 11s/epoch - 65ms/step
Epoch 25/25
176/176 - 11s - loss: 0.0800 - accuracy: 0.2004 - val_loss: 0.0800 - val_accuracy: 0.0254 - lr: 0.0010 - 11s/epoch - 65ms/step
Epoch 1/25
36/36 - 13s - loss: 0.0800 - accuracy: 0.1980 - val_loss: 0.0800 - val_accuracy: 0.8276 - lr: 0.0010 - 13s/epoch - 355ms/step
Epoch 2/25
36/36 - 10s - loss: 0.0800 - accuracy: 0.2000 - val_loss: 0.0799 - val_accuracy: 0.8276 - lr: 0.0010 - 10s/epoch - 283ms/step
Epoch 3/25
36/36 - 10s - loss: 0.0800 - accuracy: 0.2000 - val_loss: 0.0799 - val_accuracy: 0.8276 - lr: 0.0010 - 10s/epoch - 283ms/step
Epoch 4/25
36/36 - 10s - loss: 0.0800 - accuracy: 0.2000 - val_loss: 0.0799 - val_accuracy: 0.8276 - lr: 0.0010 - 10s/epoch - 283ms/step
Epoch 5/25
36/36 - 10s - loss: 0.0800 - accuracy: 0.2000 - val_loss: 0.0799 - val_accuracy: 0.8276 - lr: 0.0010 - 10s/epoch - 283ms/step
Epoch 6/25
36/36 - 10s - loss: 0.0800 - accuracy: 0.1987 - val_loss: 0.0799 - val_accuracy: 0.0254 - lr: 0.0010 - 10s/epoch - 284ms/step
Epoch 7/25
36/36 - 10s - loss: 0.0800 - accuracy: 0.2001 - val_loss: 0.0799 - val_accuracy: 0.8276 - lr: 0.0010 - 10s/epoch - 284ms/step
Epoch 8/25
36/36 - 10s - loss: 0.0800 - accuracy: 0.2006 - val_loss: 0.0800 - val_accuracy: 0.0254 - lr: 0.0010 - 10s/epoch - 282ms/step
Epoch 9/25
36/36 - 10s - loss: 0.0800 - accuracy: 0.2000 - val_loss: 0.0800 - val_accuracy: 0.0254 - lr: 0.0010 - 10s/epoch - 283ms/step
Epoch 10/25
36/36 - 10s - loss: 0.0800 - accuracy: 0.2000 - val_loss: 0.0800 - val_accuracy: 0.0254 - lr: 0.0010 - 10s/epoch - 283ms/step
Epoch 11/25
36/36 - 10s - loss: 0.0800 - accuracy: 0.2000 - val_loss: 0.0800 - val_accuracy: 0.0254 - lr: 0.0010 - 10s/epoch - 282ms/step
Epoch 12/25
36/36 - 10s - loss: 0.0800 - accuracy: 0.2000 - val_loss: 0.0800 - val_accuracy: 0.0254 - lr: 0.0010 - 10s/epoch - 284ms/step
Epoch 13/25
36/36 - 10s - loss: 0.0800 - accuracy: 0.2001 - val_loss: 0.0800 - val_accuracy: 0.0254 - lr: 0.0010 - 10s/epoch - 284ms/step
Epoch 14/25
36/36 - 10s - loss: 0.0800 - accuracy: 0.1990 - val_loss: 0.0800 - val_accuracy: 0.0735 - lr: 0.0010 - 10s/epoch - 283ms/step
Epoch 15/25
36/36 - 10s - loss: 0.0800 - accuracy: 0.2000 - val_loss: 0.0800 - val_accuracy: 0.0735 - lr: 0.0010 - 10s/epoch - 283ms/step
Epoch 16/25
36/36 - 10s - loss: 0.0800 - accuracy: 0.2007 - val_loss: 0.0800 - val_accuracy: 0.0735 - lr: 0.0010 - 10s/epoch - 284ms/step
Epoch 17/25
36/36 - 10s - loss: 0.0800 - accuracy: 0.1995 - val_loss: 0.0800 - val_accuracy: 0.0661 - lr: 0.0010 - 10s/epoch - 284ms/step
Epoch 18/25
36/36 - 10s - loss: 0.0800 - accuracy: 0.2000 - val_loss: 0.0800 - val_accuracy: 0.0661 - lr: 0.0010 - 10s/epoch - 282ms/step
Epoch 19/25
36/36 - 10s - loss: 0.0800 - accuracy: 0.1989 - val_loss: 0.0800 - val_accuracy: 0.0735 - lr: 0.0010 - 10s/epoch - 284ms/step
Epoch 20/25
36/36 - 10s - loss: 0.0800 - accuracy: 0.2001 - val_loss: 0.0800 - val_accuracy: 0.0735 - lr: 0.0010 - 10s/epoch - 285ms/step
Epoch 21/25
36/36 - 10s - loss: 0.0800 - accuracy: 0.2001 - val_loss: 0.0800 - val_accuracy: 0.0735 - lr: 0.0010 - 10s/epoch - 285ms/step
Epoch 22/25
36/36 - 10s - loss: 0.0800 - accuracy: 0.2000 - val_loss: 0.0800 - val_accuracy: 0.0735 - lr: 0.0010 - 10s/epoch - 286ms/step
Epoch 23/25
36/36 - 10s - loss: 0.0800 - accuracy: 0.2000 - val_loss: 0.0800 - val_accuracy: 0.0735 - lr: 0.0010 - 10s/epoch - 283ms/step
Epoch 24/25
36/36 - 10s - loss: 0.0800 - accuracy: 0.2000 - val_loss: 0.0800 - val_accuracy: 0.0735 - lr: 0.0010 - 10s/epoch - 282ms/step
Epoch 25/25
36/36 - 10s - loss: 0.0800 - accuracy: 0.1984 - val_loss: 0.0800 - val_accuracy: 0.0254 - lr: 0.0010 - 10s/epoch - 283ms/step
Epoch 1/50
4378/4378 - 81s - loss: 0.0800 - accuracy: 0.1983 - val_loss: 0.0801 - val_accuracy: 0.0661 - lr: 0.0010 - 81s/epoch - 18ms/step
Epoch 2/50
4378/4378 - 77s - loss: 0.0800 - accuracy: 0.1996 - val_loss: 0.0800 - val_accuracy: 0.0074 - lr: 0.0010 - 77s/epoch - 18ms/step
Epoch 3/50
4378/4378 - 77s - loss: 0.0800 - accuracy: 0.1971 - val_loss: 0.0799 - val_accuracy: 0.0254 - lr: 0.0010 - 77s/epoch - 18ms/step
Epoch 4/50
4378/4378 - 78s - loss: 0.0800 - accuracy: 0.1982 - val_loss: 0.0798 - val_accuracy: 0.0254 - lr: 0.0010 - 78s/epoch - 18ms/step
Epoch 5/50
4378/4378 - 77s - loss: 0.0800 - accuracy: 0.2000 - val_loss: 0.0801 - val_accuracy: 0.0254 - lr: 0.0010 - 77s/epoch - 18ms/step
Epoch 6/50
4378/4378 - 78s - loss: 0.0800 - accuracy: 0.1988 - val_loss: 0.0798 - val_accuracy: 0.8276 - lr: 0.0010 - 78s/epoch - 18ms/step
Epoch 7/50
4378/4378 - 78s - loss: 0.0800 - accuracy: 0.2003 - val_loss: 0.0801 - val_accuracy: 0.0661 - lr: 0.0010 - 78s/epoch - 18ms/step
Epoch 8/50
4378/4378 - 77s - loss: 0.0800 - accuracy: 0.1980 - val_loss: 0.0799 - val_accuracy: 0.0661 - lr: 0.0010 - 77s/epoch - 18ms/step
Epoch 9/50
4378/4378 - 77s - loss: 0.0800 - accuracy: 0.1973 - val_loss: 0.0803 - val_accuracy: 0.0074 - lr: 0.0010 - 77s/epoch - 18ms/step
Epoch 10/50
4378/4378 - 77s - loss: 0.0800 - accuracy: 0.1993 - val_loss: 0.0801 - val_accuracy: 0.0074 - lr: 0.0010 - 77s/epoch - 18ms/step
Epoch 11/50
4378/4378 - 77s - loss: 0.0800 - accuracy: 0.1995 - val_loss: 0.0798 - val_accuracy: 0.0735 - lr: 0.0010 - 77s/epoch - 18ms/step
Epoch 12/50
4378/4378 - 77s - loss: 0.0800 - accuracy: 0.1995 - val_loss: 0.0799 - val_accuracy: 0.0254 - lr: 0.0010 - 77s/epoch - 18ms/step
Epoch 13/50
4378/4378 - 77s - loss: 0.0800 - accuracy: 0.1996 - val_loss: 0.0794 - val_accuracy: 0.8276 - lr: 0.0010 - 77s/epoch - 18ms/step
Epoch 14/50
4378/4378 - 77s - loss: 0.0800 - accuracy: 0.1995 - val_loss: 0.0803 - val_accuracy: 0.0735 - lr: 0.0010 - 77s/epoch - 18ms/step
Epoch 15/50
4378/4378 - 77s - loss: 0.0800 - accuracy: 0.1990 - val_loss: 0.0798 - val_accuracy: 0.8276 - lr: 0.0010 - 77s/epoch - 18ms/step
Epoch 16/50
4378/4378 - 78s - loss: 0.0800 - accuracy: 0.1985 - val_loss: 0.0797 - val_accuracy: 0.0735 - lr: 0.0010 - 78s/epoch - 18ms/step
Epoch 17/50
4378/4378 - 77s - loss: 0.0800 - accuracy: 0.1980 - val_loss: 0.0799 - val_accuracy: 0.0661 - lr: 0.0010 - 77s/epoch - 18ms/step
Epoch 18/50
4378/4378 - 77s - loss: 0.0800 - accuracy: 0.1997 - val_loss: 0.0804 - val_accuracy: 0.0661 - lr: 0.0010 - 77s/epoch - 18ms/step
Epoch 19/50
4378/4378 - 77s - loss: 0.0800 - accuracy: 0.1975 - val_loss: 0.0802 - val_accuracy: 0.0661 - lr: 0.0010 - 77s/epoch - 18ms/step
Epoch 20/50
4378/4378 - 78s - loss: 0.0800 - accuracy: 0.1997 - val_loss: 0.0798 - val_accuracy: 0.0074 - lr: 0.0010 - 78s/epoch - 18ms/step
Epoch 21/50
4378/4378 - 78s - loss: 0.0800 - accuracy: 0.1975 - val_loss: 0.0800 - val_accuracy: 0.0254 - lr: 0.0010 - 78s/epoch - 18ms/step
Epoch 22/50
4378/4378 - 78s - loss: 0.0800 - accuracy: 0.1980 - val_loss: 0.0801 - val_accuracy: 0.0661 - lr: 0.0010 - 78s/epoch - 18ms/step
Epoch 23/50
4378/4378 - 78s - loss: 0.0800 - accuracy: 0.1972 - val_loss: 0.0800 - val_accuracy: 0.0254 - lr: 0.0010 - 78s/epoch - 18ms/step
Epoch 24/50
4378/4378 - 77s - loss: 0.0800 - accuracy: 0.1981 - val_loss: 0.0796 - val_accuracy: 0.8276 - lr: 0.0010 - 77s/epoch - 18ms/step
Epoch 25/50
4378/4378 - 78s - loss: 0.0800 - accuracy: 0.1978 - val_loss: 0.0800 - val_accuracy: 0.0254 - lr: 0.0010 - 78s/epoch - 18ms/step
Epoch 26/50
4378/4378 - 77s - loss: 0.0800 - accuracy: 0.1988 - val_loss: 0.0802 - val_accuracy: 0.0735 - lr: 0.0010 - 77s/epoch - 18ms/step
Epoch 27/50
4378/4378 - 77s - loss: 0.0800 - accuracy: 0.2012 - val_loss: 0.0801 - val_accuracy: 0.0661 - lr: 0.0010 - 77s/epoch - 18ms/step
Epoch 28/50
4378/4378 - 77s - loss: 0.0800 - accuracy: 0.2006 - val_loss: 0.0798 - val_accuracy: 0.0661 - lr: 0.0010 - 77s/epoch - 18ms/step
Epoch 29/50
4378/4378 - 77s - loss: 0.0800 - accuracy: 0.1995 - val_loss: 0.0800 - val_accuracy: 0.0074 - lr: 0.0010 - 77s/epoch - 18ms/step
Epoch 30/50
4378/4378 - 77s - loss: 0.0800 - accuracy: 0.1990 - val_loss: 0.0799 - val_accuracy: 0.0254 - lr: 0.0010 - 77s/epoch - 18ms/step
Epoch 31/50
4378/4378 - 77s - loss: 0.0800 - accuracy: 0.1988 - val_loss: 0.0799 - val_accuracy: 0.8276 - lr: 0.0010 - 77s/epoch - 18ms/step
Epoch 32/50
4378/4378 - 77s - loss: 0.0800 - accuracy: 0.2000 - val_loss: 0.0798 - val_accuracy: 0.0735 - lr: 0.0010 - 77s/epoch - 18ms/step
Epoch 33/50
4378/4378 - 77s - loss: 0.0800 - accuracy: 0.1988 - val_loss: 0.0798 - val_accuracy: 0.0735 - lr: 0.0010 - 77s/epoch - 18ms/step
Epoch 34/50
4378/4378 - 77s - loss: 0.0800 - accuracy: 0.1985 - val_loss: 0.0799 - val_accuracy: 0.0254 - lr: 0.0010 - 77s/epoch - 18ms/step
Epoch 35/50
4378/4378 - 78s - loss: 0.0800 - accuracy: 0.1990 - val_loss: 0.0798 - val_accuracy: 0.0735 - lr: 0.0010 - 78s/epoch - 18ms/step
Epoch 36/50
4378/4378 - 77s - loss: 0.0800 - accuracy: 0.2004 - val_loss: 0.0800 - val_accuracy: 0.0661 - lr: 0.0010 - 77s/epoch - 18ms/step
Epoch 37/50
4378/4378 - 77s - loss: 0.0800 - accuracy: 0.1988 - val_loss: 0.0801 - val_accuracy: 0.0254 - lr: 0.0010 - 77s/epoch - 18ms/step
Epoch 38/50
4378/4378 - 77s - loss: 0.0800 - accuracy: 0.1985 - val_loss: 0.0799 - val_accuracy: 0.0661 - lr: 0.0010 - 77s/epoch - 18ms/step
Epoch 39/50
4378/4378 - 77s - loss: 0.0800 - accuracy: 0.1976 - val_loss: 0.0800 - val_accuracy: 0.0074 - lr: 0.0010 - 77s/epoch - 18ms/step
Epoch 40/50
4378/4378 - 77s - loss: 0.0800 - accuracy: 0.1984 - val_loss: 0.0802 - val_accuracy: 0.0074 - lr: 0.0010 - 77s/epoch - 18ms/step
Epoch 41/50
4378/4378 - 77s - loss: 0.0800 - accuracy: 0.1992 - val_loss: 0.0800 - val_accuracy: 0.0074 - lr: 0.0010 - 77s/epoch - 18ms/step
Epoch 42/50
4378/4378 - 77s - loss: 0.0800 - accuracy: 0.1986 - val_loss: 0.0800 - val_accuracy: 0.0254 - lr: 0.0010 - 77s/epoch - 18ms/step
Epoch 43/50
4378/4378 - 77s - loss: 0.0800 - accuracy: 0.1983 - val_loss: 0.0803 - val_accuracy: 0.0661 - lr: 0.0010 - 77s/epoch - 18ms/step
Epoch 44/50
4378/4378 - 77s - loss: 0.0800 - accuracy: 0.1993 - val_loss: 0.0801 - val_accuracy: 0.0074 - lr: 0.0010 - 77s/epoch - 18ms/step
Epoch 45/50
4378/4378 - 77s - loss: 0.0800 - accuracy: 0.1964 - val_loss: 0.0795 - val_accuracy: 0.8276 - lr: 0.0010 - 77s/epoch - 18ms/step
Epoch 46/50
4378/4378 - 77s - loss: 0.0800 - accuracy: 0.1979 - val_loss: 0.0800 - val_accuracy: 0.0254 - lr: 0.0010 - 77s/epoch - 18ms/step
Epoch 47/50
4378/4378 - 77s - loss: 0.0800 - accuracy: 0.1978 - val_loss: 0.0801 - val_accuracy: 0.0254 - lr: 0.0010 - 77s/epoch - 18ms/step
Epoch 48/50
4378/4378 - 77s - loss: 0.0800 - accuracy: 0.1996 - val_loss: 0.0800 - val_accuracy: 0.0074 - lr: 0.0010 - 77s/epoch - 18ms/step
Epoch 49/50
4378/4378 - 77s - loss: 0.0800 - accuracy: 0.1979 - val_loss: 0.0801 - val_accuracy: 0.0661 - lr: 0.0010 - 77s/epoch - 18ms/step
Epoch 50/50
4378/4378 - 77s - loss: 0.0800 - accuracy: 0.1983 - val_loss: 0.0798 - val_accuracy: 0.8276 - lr: 0.0010 - 77s/epoch - 18ms/step
Epoch 1/50
876/876 - 23s - loss: 0.0800 - accuracy: 0.1997 - val_loss: 0.0801 - val_accuracy: 0.0735 - lr: 0.0010 - 23s/epoch - 26ms/step
Epoch 2/50
876/876 - 20s - loss: 0.0800 - accuracy: 0.1968 - val_loss: 0.0800 - val_accuracy: 0.0661 - lr: 0.0010 - 20s/epoch - 23ms/step
Epoch 3/50
876/876 - 20s - loss: 0.0800 - accuracy: 0.1997 - val_loss: 0.0798 - val_accuracy: 0.0254 - lr: 0.0010 - 20s/epoch - 23ms/step
Epoch 4/50
876/876 - 20s - loss: 0.0800 - accuracy: 0.2013 - val_loss: 0.0803 - val_accuracy: 0.0661 - lr: 0.0010 - 20s/epoch - 23ms/step
Epoch 5/50
876/876 - 20s - loss: 0.0800 - accuracy: 0.1973 - val_loss: 0.0799 - val_accuracy: 0.8276 - lr: 0.0010 - 20s/epoch - 23ms/step
Epoch 6/50
876/876 - 20s - loss: 0.0800 - accuracy: 0.1981 - val_loss: 0.0800 - val_accuracy: 0.0074 - lr: 0.0010 - 20s/epoch - 23ms/step
Epoch 7/50
876/876 - 20s - loss: 0.0800 - accuracy: 0.1972 - val_loss: 0.0799 - val_accuracy: 0.0074 - lr: 0.0010 - 20s/epoch - 23ms/step
Epoch 8/50
876/876 - 20s - loss: 0.0800 - accuracy: 0.1988 - val_loss: 0.0798 - val_accuracy: 0.8276 - lr: 0.0010 - 20s/epoch - 23ms/step
Epoch 9/50
876/876 - 20s - loss: 0.0800 - accuracy: 0.1987 - val_loss: 0.0800 - val_accuracy: 0.0074 - lr: 0.0010 - 20s/epoch - 23ms/step
Epoch 10/50
876/876 - 20s - loss: 0.0800 - accuracy: 0.1981 - val_loss: 0.0800 - val_accuracy: 0.0661 - lr: 0.0010 - 20s/epoch - 23ms/step
Epoch 11/50
876/876 - 20s - loss: 0.0800 - accuracy: 0.1983 - val_loss: 0.0801 - val_accuracy: 0.0735 - lr: 0.0010 - 20s/epoch - 23ms/step
Epoch 12/50
876/876 - 20s - loss: 0.0800 - accuracy: 0.1998 - val_loss: 0.0800 - val_accuracy: 0.0735 - lr: 0.0010 - 20s/epoch - 23ms/step
Epoch 13/50
876/876 - 20s - loss: 0.0800 - accuracy: 0.1973 - val_loss: 0.0799 - val_accuracy: 0.8276 - lr: 0.0010 - 20s/epoch - 23ms/step
Epoch 14/50
876/876 - 20s - loss: 0.0800 - accuracy: 0.1983 - val_loss: 0.0801 - val_accuracy: 0.0074 - lr: 0.0010 - 20s/epoch - 23ms/step
Epoch 15/50
876/876 - 20s - loss: 0.0800 - accuracy: 0.1984 - val_loss: 0.0800 - val_accuracy: 0.0074 - lr: 0.0010 - 20s/epoch - 23ms/step
Epoch 16/50
876/876 - 20s - loss: 0.0800 - accuracy: 0.1982 - val_loss: 0.0798 - val_accuracy: 0.8276 - lr: 0.0010 - 20s/epoch - 23ms/step
Epoch 17/50
876/876 - 20s - loss: 0.0800 - accuracy: 0.1976 - val_loss: 0.0799 - val_accuracy: 0.0254 - lr: 0.0010 - 20s/epoch - 23ms/step
Epoch 18/50
876/876 - 20s - loss: 0.0800 - accuracy: 0.1977 - val_loss: 0.0800 - val_accuracy: 0.8276 - lr: 0.0010 - 20s/epoch - 23ms/step
Epoch 19/50
876/876 - 20s - loss: 0.0800 - accuracy: 0.1976 - val_loss: 0.0800 - val_accuracy: 0.0254 - lr: 0.0010 - 20s/epoch - 23ms/step
Epoch 20/50
876/876 - 20s - loss: 0.0800 - accuracy: 0.1978 - val_loss: 0.0799 - val_accuracy: 0.8276 - lr: 0.0010 - 20s/epoch - 23ms/step
Epoch 21/50
876/876 - 20s - loss: 0.0800 - accuracy: 0.1964 - val_loss: 0.0800 - val_accuracy: 0.0254 - lr: 0.0010 - 20s/epoch - 23ms/step
Epoch 22/50
876/876 - 20s - loss: 0.0800 - accuracy: 0.1990 - val_loss: 0.0799 - val_accuracy: 0.8276 - lr: 0.0010 - 20s/epoch - 23ms/step
Epoch 23/50
876/876 - 20s - loss: 0.0800 - accuracy: 0.1991 - val_loss: 0.0801 - val_accuracy: 0.0735 - lr: 0.0010 - 20s/epoch - 23ms/step
Epoch 24/50
876/876 - 20s - loss: 0.0800 - accuracy: 0.2008 - val_loss: 0.0798 - val_accuracy: 0.8276 - lr: 0.0010 - 20s/epoch - 23ms/step
Epoch 25/50
876/876 - 20s - loss: 0.0800 - accuracy: 0.1986 - val_loss: 0.0799 - val_accuracy: 0.8276 - lr: 0.0010 - 20s/epoch - 23ms/step
Epoch 26/50
876/876 - 20s - loss: 0.0800 - accuracy: 0.1966 - val_loss: 0.0798 - val_accuracy: 0.8276 - lr: 0.0010 - 20s/epoch - 23ms/step
Epoch 27/50
876/876 - 20s - loss: 0.0800 - accuracy: 0.1974 - val_loss: 0.0799 - val_accuracy: 0.8276 - lr: 0.0010 - 20s/epoch - 23ms/step
Epoch 28/50
876/876 - 20s - loss: 0.0800 - accuracy: 0.1983 - val_loss: 0.0800 - val_accuracy: 0.0661 - lr: 0.0010 - 20s/epoch - 23ms/step
Epoch 29/50
876/876 - 20s - loss: 0.0800 - accuracy: 0.1991 - val_loss: 0.0800 - val_accuracy: 0.0735 - lr: 0.0010 - 20s/epoch - 23ms/step
Epoch 30/50
876/876 - 20s - loss: 0.0800 - accuracy: 0.1985 - val_loss: 0.0800 - val_accuracy: 0.0254 - lr: 0.0010 - 20s/epoch - 23ms/step
Epoch 31/50
876/876 - 20s - loss: 0.0800 - accuracy: 0.2006 - val_loss: 0.0801 - val_accuracy: 0.0074 - lr: 0.0010 - 20s/epoch - 23ms/step
Epoch 32/50
876/876 - 20s - loss: 0.0800 - accuracy: 0.1986 - val_loss: 0.0801 - val_accuracy: 0.0074 - lr: 0.0010 - 20s/epoch - 23ms/step
Epoch 33/50
876/876 - 20s - loss: 0.0800 - accuracy: 0.1991 - val_loss: 0.0800 - val_accuracy: 0.0661 - lr: 0.0010 - 20s/epoch - 23ms/step
Epoch 34/50
876/876 - 20s - loss: 0.0800 - accuracy: 0.1975 - val_loss: 0.0800 - val_accuracy: 0.0661 - lr: 0.0010 - 20s/epoch - 23ms/step
Epoch 35/50
876/876 - 20s - loss: 0.0800 - accuracy: 0.1996 - val_loss: 0.0802 - val_accuracy: 0.0254 - lr: 0.0010 - 20s/epoch - 23ms/step
Epoch 36/50
876/876 - 20s - loss: 0.0800 - accuracy: 0.2005 - val_loss: 0.0800 - val_accuracy: 0.0735 - lr: 0.0010 - 20s/epoch - 23ms/step
Epoch 37/50
876/876 - 20s - loss: 0.0800 - accuracy: 0.2018 - val_loss: 0.0800 - val_accuracy: 0.0074 - lr: 0.0010 - 20s/epoch - 23ms/step
Epoch 38/50
876/876 - 20s - loss: 0.0800 - accuracy: 0.1986 - val_loss: 0.0800 - val_accuracy: 0.0661 - lr: 0.0010 - 20s/epoch - 23ms/step
Epoch 39/50
876/876 - 20s - loss: 0.0800 - accuracy: 0.1979 - val_loss: 0.0801 - val_accuracy: 0.0661 - lr: 0.0010 - 20s/epoch - 23ms/step
Epoch 40/50
876/876 - 20s - loss: 0.0800 - accuracy: 0.1991 - val_loss: 0.0799 - val_accuracy: 0.0661 - lr: 0.0010 - 20s/epoch - 23ms/step
Epoch 41/50
876/876 - 20s - loss: 0.0800 - accuracy: 0.1988 - val_loss: 0.0799 - val_accuracy: 0.0074 - lr: 0.0010 - 20s/epoch - 23ms/step
Epoch 42/50
876/876 - 20s - loss: 0.0800 - accuracy: 0.1974 - val_loss: 0.0800 - val_accuracy: 0.0661 - lr: 0.0010 - 20s/epoch - 23ms/step
Epoch 43/50
876/876 - 20s - loss: 0.0800 - accuracy: 0.2001 - val_loss: 0.0799 - val_accuracy: 0.0661 - lr: 0.0010 - 20s/epoch - 23ms/step
Epoch 44/50
876/876 - 20s - loss: 0.0800 - accuracy: 0.2004 - val_loss: 0.0802 - val_accuracy: 0.0074 - lr: 0.0010 - 20s/epoch - 23ms/step
Epoch 45/50
876/876 - 20s - loss: 0.0800 - accuracy: 0.1984 - val_loss: 0.0800 - val_accuracy: 0.0254 - lr: 0.0010 - 20s/epoch - 23ms/step
Epoch 46/50
876/876 - 20s - loss: 0.0800 - accuracy: 0.1977 - val_loss: 0.0801 - val_accuracy: 0.0074 - lr: 0.0010 - 20s/epoch - 23ms/step
Epoch 47/50
876/876 - 20s - loss: 0.0800 - accuracy: 0.1971 - val_loss: 0.0799 - val_accuracy: 0.8276 - lr: 0.0010 - 20s/epoch - 23ms/step
Epoch 48/50
876/876 - 20s - loss: 0.0800 - accuracy: 0.1979 - val_loss: 0.0801 - val_accuracy: 0.0735 - lr: 0.0010 - 20s/epoch - 23ms/step
Epoch 49/50
876/876 - 20s - loss: 0.0800 - accuracy: 0.2002 - val_loss: 0.0799 - val_accuracy: 0.8276 - lr: 0.0010 - 20s/epoch - 23ms/step
Epoch 50/50
876/876 - 20s - loss: 0.0800 - accuracy: 0.1980 - val_loss: 0.0801 - val_accuracy: 0.0254 - lr: 0.0010 - 20s/epoch - 23ms/step
Epoch 1/50
176/176 - 14s - loss: 0.0800 - accuracy: 0.1993 - val_loss: 0.0801 - val_accuracy: 0.0254 - lr: 0.0010 - 14s/epoch - 80ms/step
Epoch 2/50
176/176 - 11s - loss: 0.0800 - accuracy: 0.1983 - val_loss: 0.0800 - val_accuracy: 0.0735 - lr: 0.0010 - 11s/epoch - 65ms/step
Epoch 3/50
176/176 - 11s - loss: 0.0800 - accuracy: 0.1970 - val_loss: 0.0800 - val_accuracy: 0.0735 - lr: 0.0010 - 11s/epoch - 65ms/step
Epoch 4/50
176/176 - 12s - loss: 0.0800 - accuracy: 0.1980 - val_loss: 0.0800 - val_accuracy: 0.0735 - lr: 0.0010 - 12s/epoch - 66ms/step
Epoch 5/50
176/176 - 12s - loss: 0.0800 - accuracy: 0.1990 - val_loss: 0.0800 - val_accuracy: 0.0735 - lr: 0.0010 - 12s/epoch - 65ms/step
Epoch 6/50
176/176 - 11s - loss: 0.0800 - accuracy: 0.1984 - val_loss: 0.0800 - val_accuracy: 0.8276 - lr: 0.0010 - 11s/epoch - 65ms/step
Epoch 7/50
176/176 - 12s - loss: 0.0800 - accuracy: 0.1971 - val_loss: 0.0800 - val_accuracy: 0.0254 - lr: 0.0010 - 12s/epoch - 65ms/step
Epoch 8/50
176/176 - 11s - loss: 0.0800 - accuracy: 0.1999 - val_loss: 0.0800 - val_accuracy: 0.0254 - lr: 0.0010 - 11s/epoch - 65ms/step
Epoch 9/50
176/176 - 12s - loss: 0.0800 - accuracy: 0.1968 - val_loss: 0.0800 - val_accuracy: 0.0254 - lr: 0.0010 - 12s/epoch - 66ms/step
Epoch 10/50
176/176 - 11s - loss: 0.0800 - accuracy: 0.1997 - val_loss: 0.0800 - val_accuracy: 0.0254 - lr: 0.0010 - 11s/epoch - 65ms/step
Epoch 11/50
176/176 - 11s - loss: 0.0800 - accuracy: 0.1963 - val_loss: 0.0800 - val_accuracy: 0.0074 - lr: 0.0010 - 11s/epoch - 65ms/step
Epoch 12/50
176/176 - 11s - loss: 0.0800 - accuracy: 0.1976 - val_loss: 0.0800 - val_accuracy: 0.0254 - lr: 0.0010 - 11s/epoch - 65ms/step
Epoch 13/50
176/176 - 11s - loss: 0.0800 - accuracy: 0.1970 - val_loss: 0.0800 - val_accuracy: 0.0074 - lr: 0.0010 - 11s/epoch - 65ms/step
Epoch 14/50
176/176 - 11s - loss: 0.0800 - accuracy: 0.1971 - val_loss: 0.0800 - val_accuracy: 0.0735 - lr: 0.0010 - 11s/epoch - 65ms/step
Epoch 15/50
176/176 - 11s - loss: 0.0800 - accuracy: 0.1960 - val_loss: 0.0800 - val_accuracy: 0.0074 - lr: 0.0010 - 11s/epoch - 65ms/step
Epoch 16/50
176/176 - 12s - loss: 0.0800 - accuracy: 0.1944 - val_loss: 0.0800 - val_accuracy: 0.0661 - lr: 0.0010 - 12s/epoch - 65ms/step
Epoch 17/50
176/176 - 11s - loss: 0.0800 - accuracy: 0.1967 - val_loss: 0.0800 - val_accuracy: 0.0074 - lr: 0.0010 - 11s/epoch - 65ms/step
Epoch 18/50
176/176 - 12s - loss: 0.0800 - accuracy: 0.1984 - val_loss: 0.0800 - val_accuracy: 0.0661 - lr: 0.0010 - 12s/epoch - 65ms/step
Epoch 19/50
176/176 - 12s - loss: 0.0800 - accuracy: 0.1979 - val_loss: 0.0800 - val_accuracy: 0.0661 - lr: 0.0010 - 12s/epoch - 65ms/step
Epoch 20/50
176/176 - 11s - loss: 0.0800 - accuracy: 0.1989 - val_loss: 0.0800 - val_accuracy: 0.0254 - lr: 0.0010 - 11s/epoch - 65ms/step
Epoch 21/50
176/176 - 11s - loss: 0.0800 - accuracy: 0.1978 - val_loss: 0.0800 - val_accuracy: 0.0661 - lr: 0.0010 - 11s/epoch - 64ms/step
Epoch 22/50
176/176 - 11s - loss: 0.0800 - accuracy: 0.1982 - val_loss: 0.0800 - val_accuracy: 0.0254 - lr: 0.0010 - 11s/epoch - 65ms/step
Epoch 23/50
176/176 - 11s - loss: 0.0800 - accuracy: 0.1983 - val_loss: 0.0800 - val_accuracy: 0.8276 - lr: 0.0010 - 11s/epoch - 65ms/step
Epoch 24/50
176/176 - 12s - loss: 0.0800 - accuracy: 0.1967 - val_loss: 0.0800 - val_accuracy: 0.0254 - lr: 0.0010 - 12s/epoch - 65ms/step
Epoch 25/50
176/176 - 11s - loss: 0.0800 - accuracy: 0.1983 - val_loss: 0.0800 - val_accuracy: 0.0661 - lr: 0.0010 - 11s/epoch - 65ms/step
Epoch 26/50
176/176 - 11s - loss: 0.0800 - accuracy: 0.1971 - val_loss: 0.0800 - val_accuracy: 0.0735 - lr: 0.0010 - 11s/epoch - 65ms/step
Epoch 27/50
176/176 - 11s - loss: 0.0800 - accuracy: 0.1996 - val_loss: 0.0800 - val_accuracy: 0.0735 - lr: 0.0010 - 11s/epoch - 65ms/step
Epoch 28/50
176/176 - 11s - loss: 0.0800 - accuracy: 0.1999 - val_loss: 0.0800 - val_accuracy: 0.0661 - lr: 0.0010 - 11s/epoch - 65ms/step
Epoch 29/50
176/176 - 11s - loss: 0.0800 - accuracy: 0.1996 - val_loss: 0.0800 - val_accuracy: 0.0074 - lr: 0.0010 - 11s/epoch - 65ms/step
Epoch 30/50
176/176 - 12s - loss: 0.0800 - accuracy: 0.1977 - val_loss: 0.0800 - val_accuracy: 0.0254 - lr: 0.0010 - 12s/epoch - 66ms/step
Epoch 31/50
176/176 - 11s - loss: 0.0800 - accuracy: 0.1981 - val_loss: 0.0800 - val_accuracy: 0.0254 - lr: 0.0010 - 11s/epoch - 65ms/step
Epoch 32/50
176/176 - 11s - loss: 0.0800 - accuracy: 0.1966 - val_loss: 0.0800 - val_accuracy: 0.8276 - lr: 0.0010 - 11s/epoch - 65ms/step
Epoch 33/50
176/176 - 11s - loss: 0.0800 - accuracy: 0.1959 - val_loss: 0.0800 - val_accuracy: 0.8276 - lr: 0.0010 - 11s/epoch - 65ms/step
Epoch 34/50
176/176 - 12s - loss: 0.0800 - accuracy: 0.1966 - val_loss: 0.0800 - val_accuracy: 0.8276 - lr: 0.0010 - 12s/epoch - 65ms/step
Epoch 35/50
176/176 - 12s - loss: 0.0800 - accuracy: 0.1989 - val_loss: 0.0800 - val_accuracy: 0.0074 - lr: 0.0010 - 12s/epoch - 66ms/step
Epoch 36/50
176/176 - 12s - loss: 0.0800 - accuracy: 0.1978 - val_loss: 0.0800 - val_accuracy: 0.8276 - lr: 0.0010 - 12s/epoch - 66ms/step
Epoch 37/50
176/176 - 12s - loss: 0.0800 - accuracy: 0.1995 - val_loss: 0.0800 - val_accuracy: 0.0074 - lr: 0.0010 - 12s/epoch - 66ms/step
Epoch 38/50
176/176 - 12s - loss: 0.0800 - accuracy: 0.1977 - val_loss: 0.0800 - val_accuracy: 0.0735 - lr: 0.0010 - 12s/epoch - 65ms/step
Epoch 39/50
176/176 - 12s - loss: 0.0800 - accuracy: 0.1988 - val_loss: 0.0799 - val_accuracy: 0.8276 - lr: 0.0010 - 12s/epoch - 66ms/step
Epoch 40/50
176/176 - 12s - loss: 0.0800 - accuracy: 0.1994 - val_loss: 0.0800 - val_accuracy: 0.8276 - lr: 0.0010 - 12s/epoch - 66ms/step
Epoch 41/50
176/176 - 11s - loss: 0.0800 - accuracy: 0.1968 - val_loss: 0.0800 - val_accuracy: 0.0254 - lr: 0.0010 - 11s/epoch - 65ms/step
Epoch 42/50
176/176 - 11s - loss: 0.0800 - accuracy: 0.1979 - val_loss: 0.0800 - val_accuracy: 0.0254 - lr: 0.0010 - 11s/epoch - 65ms/step
Epoch 43/50
176/176 - 12s - loss: 0.0800 - accuracy: 0.1960 - val_loss: 0.0800 - val_accuracy: 0.0661 - lr: 0.0010 - 12s/epoch - 66ms/step
Epoch 44/50
176/176 - 12s - loss: 0.0800 - accuracy: 0.1971 - val_loss: 0.0800 - val_accuracy: 0.0661 - lr: 0.0010 - 12s/epoch - 66ms/step
Epoch 45/50
176/176 - 11s - loss: 0.0800 - accuracy: 0.1971 - val_loss: 0.0800 - val_accuracy: 0.0661 - lr: 0.0010 - 11s/epoch - 65ms/step
Epoch 46/50
176/176 - 11s - loss: 0.0800 - accuracy: 0.1972 - val_loss: 0.0800 - val_accuracy: 0.0661 - lr: 0.0010 - 11s/epoch - 65ms/step
Epoch 47/50
176/176 - 12s - loss: 0.0800 - accuracy: 0.1993 - val_loss: 0.0800 - val_accuracy: 0.0735 - lr: 0.0010 - 12s/epoch - 65ms/step
Epoch 48/50
176/176 - 12s - loss: 0.0800 - accuracy: 0.1973 - val_loss: 0.0800 - val_accuracy: 0.0735 - lr: 0.0010 - 12s/epoch - 66ms/step
Epoch 49/50
176/176 - 12s - loss: 0.0800 - accuracy: 0.1986 - val_loss: 0.0800 - val_accuracy: 0.0074 - lr: 0.0010 - 12s/epoch - 66ms/step
Epoch 50/50
176/176 - 12s - loss: 0.0800 - accuracy: 0.1998 - val_loss: 0.0800 - val_accuracy: 0.0254 - lr: 0.0010 - 12s/epoch - 65ms/step
Epoch 1/50
36/36 - 13s - loss: 0.0800 - accuracy: 0.1995 - val_loss: 0.0800 - val_accuracy: 0.0661 - lr: 0.0010 - 13s/epoch - 352ms/step
Epoch 2/50
36/36 - 10s - loss: 0.0800 - accuracy: 0.1989 - val_loss: 0.0800 - val_accuracy: 0.0661 - lr: 0.0010 - 10s/epoch - 283ms/step
Epoch 3/50
36/36 - 10s - loss: 0.0800 - accuracy: 0.2000 - val_loss: 0.0801 - val_accuracy: 0.0661 - lr: 0.0010 - 10s/epoch - 284ms/step
Epoch 4/50
36/36 - 10s - loss: 0.0800 - accuracy: 0.1987 - val_loss: 0.0801 - val_accuracy: 0.0735 - lr: 0.0010 - 10s/epoch - 283ms/step
Epoch 5/50
36/36 - 10s - loss: 0.0800 - accuracy: 0.1999 - val_loss: 0.0801 - val_accuracy: 0.0735 - lr: 0.0010 - 10s/epoch - 282ms/step
Epoch 6/50
36/36 - 10s - loss: 0.0800 - accuracy: 0.2000 - val_loss: 0.0800 - val_accuracy: 0.0735 - lr: 0.0010 - 10s/epoch - 283ms/step
Epoch 7/50
36/36 - 10s - loss: 0.0800 - accuracy: 0.1997 - val_loss: 0.0800 - val_accuracy: 0.0254 - lr: 0.0010 - 10s/epoch - 283ms/step
Epoch 8/50
36/36 - 10s - loss: 0.0800 - accuracy: 0.1995 - val_loss: 0.0800 - val_accuracy: 0.0661 - lr: 0.0010 - 10s/epoch - 282ms/step
Epoch 9/50
36/36 - 10s - loss: 0.0800 - accuracy: 0.1993 - val_loss: 0.0800 - val_accuracy: 0.0254 - lr: 0.0010 - 10s/epoch - 284ms/step
Epoch 10/50
36/36 - 10s - loss: 0.0800 - accuracy: 0.2003 - val_loss: 0.0801 - val_accuracy: 0.0254 - lr: 0.0010 - 10s/epoch - 283ms/step
Epoch 11/50
36/36 - 10s - loss: 0.0800 - accuracy: 0.2000 - val_loss: 0.0801 - val_accuracy: 0.0254 - lr: 0.0010 - 10s/epoch - 284ms/step
Epoch 12/50
36/36 - 10s - loss: 0.0800 - accuracy: 0.2000 - val_loss: 0.0801 - val_accuracy: 0.0254 - lr: 0.0010 - 10s/epoch - 284ms/step
Epoch 13/50
36/36 - 10s - loss: 0.0800 - accuracy: 0.2000 - val_loss: 0.0801 - val_accuracy: 0.0254 - lr: 0.0010 - 10s/epoch - 283ms/step
Epoch 14/50
36/36 - 10s - loss: 0.0800 - accuracy: 0.2000 - val_loss: 0.0801 - val_accuracy: 0.0254 - lr: 0.0010 - 10s/epoch - 283ms/step
Epoch 15/50
36/36 - 10s - loss: 0.0800 - accuracy: 0.2000 - val_loss: 0.0800 - val_accuracy: 0.0254 - lr: 0.0010 - 10s/epoch - 283ms/step
Epoch 16/50
36/36 - 10s - loss: 0.0800 - accuracy: 0.2000 - val_loss: 0.0800 - val_accuracy: 0.0254 - lr: 0.0010 - 10s/epoch - 283ms/step
Epoch 17/50
36/36 - 10s - loss: 0.0800 - accuracy: 0.2000 - val_loss: 0.0800 - val_accuracy: 0.0254 - lr: 0.0010 - 10s/epoch - 283ms/step
Epoch 18/50
36/36 - 10s - loss: 0.0800 - accuracy: 0.2000 - val_loss: 0.0800 - val_accuracy: 0.0254 - lr: 0.0010 - 10s/epoch - 283ms/step
Epoch 19/50
36/36 - 10s - loss: 0.0800 - accuracy: 0.2000 - val_loss: 0.0801 - val_accuracy: 0.0254 - lr: 0.0010 - 10s/epoch - 284ms/step
Epoch 20/50
36/36 - 10s - loss: 0.0800 - accuracy: 0.2000 - val_loss: 0.0800 - val_accuracy: 0.0254 - lr: 0.0010 - 10s/epoch - 285ms/step
Epoch 21/50
36/36 - 10s - loss: 0.0800 - accuracy: 0.2000 - val_loss: 0.0801 - val_accuracy: 0.0254 - lr: 0.0010 - 10s/epoch - 282ms/step
Epoch 22/50
36/36 - 10s - loss: 0.0800 - accuracy: 0.2000 - val_loss: 0.0801 - val_accuracy: 0.0254 - lr: 0.0010 - 10s/epoch - 285ms/step
Epoch 23/50
36/36 - 10s - loss: 0.0800 - accuracy: 0.2001 - val_loss: 0.0801 - val_accuracy: 0.0074 - lr: 0.0010 - 10s/epoch - 284ms/step
Epoch 24/50
36/36 - 10s - loss: 0.0800 - accuracy: 0.1987 - val_loss: 0.0800 - val_accuracy: 0.0074 - lr: 0.0010 - 10s/epoch - 284ms/step
Epoch 25/50
36/36 - 10s - loss: 0.0800 - accuracy: 0.1953 - val_loss: 0.0800 - val_accuracy: 0.0661 - lr: 0.0010 - 10s/epoch - 283ms/step
Epoch 26/50
36/36 - 10s - loss: 0.0800 - accuracy: 0.2007 - val_loss: 0.0800 - val_accuracy: 0.0661 - lr: 0.0010 - 10s/epoch - 283ms/step
Epoch 27/50
36/36 - 10s - loss: 0.0800 - accuracy: 0.2001 - val_loss: 0.0800 - val_accuracy: 0.0661 - lr: 0.0010 - 10s/epoch - 284ms/step
Epoch 28/50
36/36 - 10s - loss: 0.0800 - accuracy: 0.1999 - val_loss: 0.0800 - val_accuracy: 0.0661 - lr: 0.0010 - 10s/epoch - 285ms/step
Epoch 29/50
36/36 - 10s - loss: 0.0800 - accuracy: 0.2002 - val_loss: 0.0800 - val_accuracy: 0.0254 - lr: 0.0010 - 10s/epoch - 282ms/step
Epoch 30/50
36/36 - 10s - loss: 0.0800 - accuracy: 0.1995 - val_loss: 0.0800 - val_accuracy: 0.0735 - lr: 0.0010 - 10s/epoch - 285ms/step
Epoch 31/50
36/36 - 10s - loss: 0.0800 - accuracy: 0.1996 - val_loss: 0.0800 - val_accuracy: 0.0735 - lr: 0.0010 - 10s/epoch - 284ms/step
Epoch 32/50
36/36 - 10s - loss: 0.0800 - accuracy: 0.1989 - val_loss: 0.0800 - val_accuracy: 0.0254 - lr: 0.0010 - 10s/epoch - 283ms/step
Epoch 33/50
36/36 - 10s - loss: 0.0800 - accuracy: 0.1999 - val_loss: 0.0800 - val_accuracy: 0.0254 - lr: 0.0010 - 10s/epoch - 283ms/step
Epoch 34/50
36/36 - 10s - loss: 0.0800 - accuracy: 0.2000 - val_loss: 0.0800 - val_accuracy: 0.0254 - lr: 0.0010 - 10s/epoch - 283ms/step
Epoch 35/50
36/36 - 10s - loss: 0.0800 - accuracy: 0.2000 - val_loss: 0.0800 - val_accuracy: 0.0254 - lr: 0.0010 - 10s/epoch - 284ms/step
Epoch 36/50
36/36 - 10s - loss: 0.0800 - accuracy: 0.2000 - val_loss: 0.0800 - val_accuracy: 0.0254 - lr: 0.0010 - 10s/epoch - 284ms/step
Epoch 37/50
36/36 - 10s - loss: 0.0800 - accuracy: 0.2000 - val_loss: 0.0800 - val_accuracy: 0.0254 - lr: 0.0010 - 10s/epoch - 283ms/step
Epoch 38/50
36/36 - 10s - loss: 0.0800 - accuracy: 0.2000 - val_loss: 0.0801 - val_accuracy: 0.0254 - lr: 0.0010 - 10s/epoch - 283ms/step
Epoch 39/50
36/36 - 10s - loss: 0.0800 - accuracy: 0.2000 - val_loss: 0.0801 - val_accuracy: 0.0254 - lr: 0.0010 - 10s/epoch - 283ms/step
Epoch 40/50
36/36 - 10s - loss: 0.0800 - accuracy: 0.2000 - val_loss: 0.0801 - val_accuracy: 0.0254 - lr: 0.0010 - 10s/epoch - 284ms/step
Epoch 41/50
36/36 - 10s - loss: 0.0800 - accuracy: 0.1998 - val_loss: 0.0801 - val_accuracy: 0.0254 - lr: 0.0010 - 10s/epoch - 283ms/step
Epoch 42/50
36/36 - 10s - loss: 0.0800 - accuracy: 0.1998 - val_loss: 0.0801 - val_accuracy: 0.0254 - lr: 0.0010 - 10s/epoch - 284ms/step
Epoch 43/50
36/36 - 10s - loss: 0.0800 - accuracy: 0.2002 - val_loss: 0.0801 - val_accuracy: 0.0661 - lr: 0.0010 - 10s/epoch - 284ms/step
Epoch 44/50
36/36 - 10s - loss: 0.0800 - accuracy: 0.1992 - val_loss: 0.0801 - val_accuracy: 0.0254 - lr: 0.0010 - 10s/epoch - 284ms/step
Epoch 45/50
36/36 - 10s - loss: 0.0800 - accuracy: 0.2004 - val_loss: 0.0801 - val_accuracy: 0.0661 - lr: 0.0010 - 10s/epoch - 283ms/step
Epoch 46/50
36/36 - 10s - loss: 0.0800 - accuracy: 0.1982 - val_loss: 0.0801 - val_accuracy: 0.0661 - lr: 0.0010 - 10s/epoch - 284ms/step
Epoch 47/50
36/36 - 10s - loss: 0.0800 - accuracy: 0.1998 - val_loss: 0.0801 - val_accuracy: 0.0254 - lr: 0.0010 - 10s/epoch - 284ms/step
Epoch 48/50
36/36 - 10s - loss: 0.0800 - accuracy: 0.2000 - val_loss: 0.0801 - val_accuracy: 0.0254 - lr: 0.0010 - 10s/epoch - 284ms/step
Epoch 49/50
36/36 - 10s - loss: 0.0800 - accuracy: 0.1980 - val_loss: 0.0801 - val_accuracy: 0.0254 - lr: 0.0010 - 10s/epoch - 284ms/step
Epoch 50/50
36/36 - 10s - loss: 0.0800 - accuracy: 0.2000 - val_loss: 0.0801 - val_accuracy: 0.0254 - lr: 0.0010 - 10s/epoch - 283ms/step
Epoch 1/75
4378/4378 - 81s - loss: 0.0800 - accuracy: 0.1991 - val_loss: 0.0798 - val_accuracy: 0.0254 - lr: 0.0010 - 81s/epoch - 19ms/step
Epoch 2/75
4378/4378 - 79s - loss: 0.0800 - accuracy: 0.1965 - val_loss: 0.0804 - val_accuracy: 0.0254 - lr: 0.0010 - 79s/epoch - 18ms/step
Epoch 3/75
4378/4378 - 79s - loss: 0.0800 - accuracy: 0.1976 - val_loss: 0.0801 - val_accuracy: 0.0661 - lr: 0.0010 - 79s/epoch - 18ms/step
Epoch 4/75
4378/4378 - 79s - loss: 0.0800 - accuracy: 0.1971 - val_loss: 0.0800 - val_accuracy: 0.0735 - lr: 0.0010 - 79s/epoch - 18ms/step
Epoch 5/75
4378/4378 - 78s - loss: 0.0800 - accuracy: 0.2008 - val_loss: 0.0796 - val_accuracy: 0.8276 - lr: 0.0010 - 78s/epoch - 18ms/step
Epoch 6/75
4378/4378 - 79s - loss: 0.0800 - accuracy: 0.1986 - val_loss: 0.0800 - val_accuracy: 0.0661 - lr: 0.0010 - 79s/epoch - 18ms/step
Epoch 7/75
4378/4378 - 79s - loss: 0.0800 - accuracy: 0.1993 - val_loss: 0.0795 - val_accuracy: 0.8276 - lr: 0.0010 - 79s/epoch - 18ms/step
Epoch 8/75
4378/4378 - 79s - loss: 0.0800 - accuracy: 0.1955 - val_loss: 0.0800 - val_accuracy: 0.0661 - lr: 0.0010 - 79s/epoch - 18ms/step
Epoch 9/75
4378/4378 - 79s - loss: 0.0800 - accuracy: 0.1991 - val_loss: 0.0799 - val_accuracy: 0.0074 - lr: 0.0010 - 79s/epoch - 18ms/step
Epoch 10/75
4378/4378 - 79s - loss: 0.0800 - accuracy: 0.2005 - val_loss: 0.0794 - val_accuracy: 0.8276 - lr: 0.0010 - 79s/epoch - 18ms/step
Epoch 11/75
4378/4378 - 79s - loss: 0.0800 - accuracy: 0.1992 - val_loss: 0.0801 - val_accuracy: 0.0735 - lr: 0.0010 - 79s/epoch - 18ms/step
Epoch 12/75
4378/4378 - 79s - loss: 0.0800 - accuracy: 0.2008 - val_loss: 0.0803 - val_accuracy: 0.0661 - lr: 0.0010 - 79s/epoch - 18ms/step
Epoch 13/75
4378/4378 - 79s - loss: 0.0800 - accuracy: 0.2002 - val_loss: 0.0799 - val_accuracy: 0.0735 - lr: 0.0010 - 79s/epoch - 18ms/step
Epoch 14/75
4378/4378 - 78s - loss: 0.0800 - accuracy: 0.1976 - val_loss: 0.0803 - val_accuracy: 0.0254 - lr: 0.0010 - 78s/epoch - 18ms/step
Epoch 15/75
4378/4378 - 79s - loss: 0.0800 - accuracy: 0.2003 - val_loss: 0.0801 - val_accuracy: 0.0254 - lr: 0.0010 - 79s/epoch - 18ms/step
Epoch 16/75
4378/4378 - 79s - loss: 0.0800 - accuracy: 0.1983 - val_loss: 0.0803 - val_accuracy: 0.0735 - lr: 0.0010 - 79s/epoch - 18ms/step
Epoch 17/75
4378/4378 - 79s - loss: 0.0800 - accuracy: 0.1985 - val_loss: 0.0799 - val_accuracy: 0.8276 - lr: 0.0010 - 79s/epoch - 18ms/step
Epoch 18/75
4378/4378 - 78s - loss: 0.0800 - accuracy: 0.1987 - val_loss: 0.0799 - val_accuracy: 0.8276 - lr: 0.0010 - 78s/epoch - 18ms/step
Epoch 19/75
4378/4378 - 79s - loss: 0.0800 - accuracy: 0.1979 - val_loss: 0.0799 - val_accuracy: 0.0735 - lr: 0.0010 - 79s/epoch - 18ms/step
Epoch 20/75
4378/4378 - 79s - loss: 0.0800 - accuracy: 0.1990 - val_loss: 0.0802 - val_accuracy: 0.0661 - lr: 0.0010 - 79s/epoch - 18ms/step
Epoch 21/75
4378/4378 - 79s - loss: 0.0800 - accuracy: 0.1992 - val_loss: 0.0799 - val_accuracy: 0.0735 - lr: 0.0010 - 79s/epoch - 18ms/step
Epoch 22/75
4378/4378 - 79s - loss: 0.0800 - accuracy: 0.2006 - val_loss: 0.0795 - val_accuracy: 0.8276 - lr: 0.0010 - 79s/epoch - 18ms/step
Epoch 23/75
4378/4378 - 79s - loss: 0.0800 - accuracy: 0.1985 - val_loss: 0.0800 - val_accuracy: 0.0735 - lr: 0.0010 - 79s/epoch - 18ms/step
Epoch 24/75
4378/4378 - 79s - loss: 0.0800 - accuracy: 0.1987 - val_loss: 0.0796 - val_accuracy: 0.8276 - lr: 0.0010 - 79s/epoch - 18ms/step
Epoch 25/75
4378/4378 - 79s - loss: 0.0800 - accuracy: 0.1985 - val_loss: 0.0801 - val_accuracy: 0.0074 - lr: 0.0010 - 79s/epoch - 18ms/step
Epoch 26/75
4378/4378 - 79s - loss: 0.0800 - accuracy: 0.1980 - val_loss: 0.0803 - val_accuracy: 0.0074 - lr: 0.0010 - 79s/epoch - 18ms/step
Epoch 27/75
4378/4378 - 79s - loss: 0.0800 - accuracy: 0.1994 - val_loss: 0.0799 - val_accuracy: 0.0661 - lr: 0.0010 - 79s/epoch - 18ms/step
Epoch 28/75
4378/4378 - 78s - loss: 0.0800 - accuracy: 0.1983 - val_loss: 0.0798 - val_accuracy: 0.8276 - lr: 0.0010 - 78s/epoch - 18ms/step
Epoch 29/75
4378/4378 - 78s - loss: 0.0800 - accuracy: 0.1966 - val_loss: 0.0802 - val_accuracy: 0.0254 - lr: 0.0010 - 78s/epoch - 18ms/step
Epoch 30/75
4378/4378 - 79s - loss: 0.0800 - accuracy: 0.1982 - val_loss: 0.0801 - val_accuracy: 0.0254 - lr: 0.0010 - 79s/epoch - 18ms/step
Epoch 31/75
4378/4378 - 79s - loss: 0.0800 - accuracy: 0.1986 - val_loss: 0.0800 - val_accuracy: 0.0661 - lr: 0.0010 - 79s/epoch - 18ms/step
Epoch 32/75
4378/4378 - 79s - loss: 0.0800 - accuracy: 0.1975 - val_loss: 0.0800 - val_accuracy: 0.0735 - lr: 0.0010 - 79s/epoch - 18ms/step
Epoch 33/75
4378/4378 - 79s - loss: 0.0800 - accuracy: 0.1983 - val_loss: 0.0798 - val_accuracy: 0.8276 - lr: 0.0010 - 79s/epoch - 18ms/step
Epoch 34/75
4378/4378 - 79s - loss: 0.0800 - accuracy: 0.1971 - val_loss: 0.0800 - val_accuracy: 0.0254 - lr: 0.0010 - 79s/epoch - 18ms/step
Epoch 35/75
4378/4378 - 79s - loss: 0.0800 - accuracy: 0.1990 - val_loss: 0.0798 - val_accuracy: 0.8276 - lr: 0.0010 - 79s/epoch - 18ms/step
Epoch 36/75
4378/4378 - 79s - loss: 0.0800 - accuracy: 0.2008 - val_loss: 0.0796 - val_accuracy: 0.8276 - lr: 0.0010 - 79s/epoch - 18ms/step
Epoch 37/75
4378/4378 - 79s - loss: 0.0800 - accuracy: 0.1985 - val_loss: 0.0803 - val_accuracy: 0.0661 - lr: 0.0010 - 79s/epoch - 18ms/step
Epoch 38/75
4378/4378 - 79s - loss: 0.0800 - accuracy: 0.1999 - val_loss: 0.0796 - val_accuracy: 0.8276 - lr: 0.0010 - 79s/epoch - 18ms/step
Epoch 39/75
4378/4378 - 79s - loss: 0.0800 - accuracy: 0.1974 - val_loss: 0.0799 - val_accuracy: 0.8276 - lr: 0.0010 - 79s/epoch - 18ms/step
Epoch 40/75
4378/4378 - 78s - loss: 0.0800 - accuracy: 0.1971 - val_loss: 0.0799 - val_accuracy: 0.8276 - lr: 0.0010 - 78s/epoch - 18ms/step
Epoch 41/75
4378/4378 - 79s - loss: 0.0800 - accuracy: 0.1983 - val_loss: 0.0802 - val_accuracy: 0.0661 - lr: 0.0010 - 79s/epoch - 18ms/step
Epoch 42/75
4378/4378 - 79s - loss: 0.0800 - accuracy: 0.1996 - val_loss: 0.0802 - val_accuracy: 0.0074 - lr: 0.0010 - 79s/epoch - 18ms/step
Epoch 43/75
4378/4378 - 79s - loss: 0.0800 - accuracy: 0.1997 - val_loss: 0.0802 - val_accuracy: 0.0735 - lr: 0.0010 - 79s/epoch - 18ms/step
Epoch 44/75
4378/4378 - 79s - loss: 0.0800 - accuracy: 0.1983 - val_loss: 0.0800 - val_accuracy: 0.0074 - lr: 0.0010 - 79s/epoch - 18ms/step
Epoch 45/75
4378/4378 - 79s - loss: 0.0800 - accuracy: 0.2006 - val_loss: 0.0794 - val_accuracy: 0.0735 - lr: 0.0010 - 79s/epoch - 18ms/step
Epoch 46/75
4378/4378 - 78s - loss: 0.0800 - accuracy: 0.1995 - val_loss: 0.0799 - val_accuracy: 0.0254 - lr: 0.0010 - 78s/epoch - 18ms/step
Epoch 47/75
4378/4378 - 79s - loss: 0.0800 - accuracy: 0.1995 - val_loss: 0.0798 - val_accuracy: 0.0074 - lr: 0.0010 - 79s/epoch - 18ms/step
Epoch 48/75
4378/4378 - 79s - loss: 0.0800 - accuracy: 0.1994 - val_loss: 0.0801 - val_accuracy: 0.0735 - lr: 0.0010 - 79s/epoch - 18ms/step
Epoch 49/75
4378/4378 - 79s - loss: 0.0800 - accuracy: 0.2007 - val_loss: 0.0801 - val_accuracy: 0.0254 - lr: 0.0010 - 79s/epoch - 18ms/step
Epoch 50/75
4378/4378 - 79s - loss: 0.0800 - accuracy: 0.1972 - val_loss: 0.0800 - val_accuracy: 0.0254 - lr: 0.0010 - 79s/epoch - 18ms/step
Epoch 51/75
4378/4378 - 79s - loss: 0.0800 - accuracy: 0.2014 - val_loss: 0.0795 - val_accuracy: 0.0735 - lr: 0.0010 - 79s/epoch - 18ms/step
Epoch 52/75
4378/4378 - 79s - loss: 0.0800 - accuracy: 0.1969 - val_loss: 0.0802 - val_accuracy: 0.0735 - lr: 0.0010 - 79s/epoch - 18ms/step
Epoch 53/75
4378/4378 - 78s - loss: 0.0800 - accuracy: 0.1993 - val_loss: 0.0800 - val_accuracy: 0.0661 - lr: 0.0010 - 78s/epoch - 18ms/step
Epoch 54/75
4378/4378 - 79s - loss: 0.0800 - accuracy: 0.1988 - val_loss: 0.0796 - val_accuracy: 0.0074 - lr: 0.0010 - 79s/epoch - 18ms/step
Epoch 55/75
4378/4378 - 79s - loss: 0.0800 - accuracy: 0.2004 - val_loss: 0.0800 - val_accuracy: 0.0735 - lr: 0.0010 - 79s/epoch - 18ms/step
Epoch 56/75
4378/4378 - 79s - loss: 0.0800 - accuracy: 0.1977 - val_loss: 0.0800 - val_accuracy: 0.0735 - lr: 0.0010 - 79s/epoch - 18ms/step
Epoch 57/75
4378/4378 - 78s - loss: 0.0800 - accuracy: 0.1988 - val_loss: 0.0803 - val_accuracy: 0.0661 - lr: 0.0010 - 78s/epoch - 18ms/step
Epoch 58/75
4378/4378 - 79s - loss: 0.0800 - accuracy: 0.1969 - val_loss: 0.0800 - val_accuracy: 0.0074 - lr: 0.0010 - 79s/epoch - 18ms/step
Epoch 59/75
4378/4378 - 79s - loss: 0.0800 - accuracy: 0.1999 - val_loss: 0.0803 - val_accuracy: 0.0735 - lr: 0.0010 - 79s/epoch - 18ms/step
Epoch 60/75
4378/4378 - 79s - loss: 0.0800 - accuracy: 0.1965 - val_loss: 0.0799 - val_accuracy: 0.0661 - lr: 0.0010 - 79s/epoch - 18ms/step
Epoch 61/75
4378/4378 - 79s - loss: 0.0800 - accuracy: 0.1997 - val_loss: 0.0800 - val_accuracy: 0.0074 - lr: 0.0010 - 79s/epoch - 18ms/step
Epoch 62/75
4378/4378 - 79s - loss: 0.0800 - accuracy: 0.1980 - val_loss: 0.0800 - val_accuracy: 0.0254 - lr: 0.0010 - 79s/epoch - 18ms/step
Epoch 63/75
4378/4378 - 79s - loss: 0.0800 - accuracy: 0.1990 - val_loss: 0.0800 - val_accuracy: 0.0074 - lr: 0.0010 - 79s/epoch - 18ms/step
Epoch 64/75
4378/4378 - 79s - loss: 0.0800 - accuracy: 0.1982 - val_loss: 0.0800 - val_accuracy: 0.0254 - lr: 0.0010 - 79s/epoch - 18ms/step
Epoch 65/75
4378/4378 - 79s - loss: 0.0800 - accuracy: 0.1997 - val_loss: 0.0800 - val_accuracy: 0.0661 - lr: 0.0010 - 79s/epoch - 18ms/step
Epoch 66/75
4378/4378 - 79s - loss: 0.0800 - accuracy: 0.1986 - val_loss: 0.0796 - val_accuracy: 0.8276 - lr: 0.0010 - 79s/epoch - 18ms/step
Epoch 67/75
4378/4378 - 79s - loss: 0.0800 - accuracy: 0.1982 - val_loss: 0.0803 - val_accuracy: 0.0074 - lr: 0.0010 - 79s/epoch - 18ms/step
Epoch 68/75
4378/4378 - 79s - loss: 0.0800 - accuracy: 0.1999 - val_loss: 0.0801 - val_accuracy: 0.0735 - lr: 0.0010 - 79s/epoch - 18ms/step
Epoch 69/75
4378/4378 - 79s - loss: 0.0800 - accuracy: 0.1980 - val_loss: 0.0797 - val_accuracy: 0.8276 - lr: 0.0010 - 79s/epoch - 18ms/step
Epoch 70/75
4378/4378 - 79s - loss: 0.0800 - accuracy: 0.1988 - val_loss: 0.0801 - val_accuracy: 0.0661 - lr: 0.0010 - 79s/epoch - 18ms/step
Epoch 71/75
4378/4378 - 79s - loss: 0.0800 - accuracy: 0.1991 - val_loss: 0.0804 - val_accuracy: 0.0254 - lr: 0.0010 - 79s/epoch - 18ms/step
Epoch 72/75
4378/4378 - 79s - loss: 0.0800 - accuracy: 0.1986 - val_loss: 0.0797 - val_accuracy: 0.8276 - lr: 0.0010 - 79s/epoch - 18ms/step
Epoch 73/75
4378/4378 - 79s - loss: 0.0800 - accuracy: 0.1991 - val_loss: 0.0801 - val_accuracy: 0.0254 - lr: 0.0010 - 79s/epoch - 18ms/step
Epoch 74/75
4378/4378 - 78s - loss: 0.0800 - accuracy: 0.1983 - val_loss: 0.0798 - val_accuracy: 0.8276 - lr: 0.0010 - 78s/epoch - 18ms/step
Epoch 75/75
4378/4378 - 79s - loss: 0.0800 - accuracy: 0.1992 - val_loss: 0.0796 - val_accuracy: 0.8276 - lr: 0.0010 - 79s/epoch - 18ms/step
Epoch 1/75
876/876 - 23s - loss: 0.0800 - accuracy: 0.1988 - val_loss: 0.0799 - val_accuracy: 0.0074 - lr: 0.0010 - 23s/epoch - 26ms/step
Epoch 2/75
876/876 - 20s - loss: 0.0800 - accuracy: 0.1982 - val_loss: 0.0799 - val_accuracy: 0.0074 - lr: 0.0010 - 20s/epoch - 23ms/step
Epoch 3/75
876/876 - 20s - loss: 0.0800 - accuracy: 0.1978 - val_loss: 0.0800 - val_accuracy: 0.0661 - lr: 0.0010 - 20s/epoch - 23ms/step
Epoch 4/75
876/876 - 20s - loss: 0.0800 - accuracy: 0.1993 - val_loss: 0.0800 - val_accuracy: 0.0254 - lr: 0.0010 - 20s/epoch - 23ms/step
Epoch 5/75
876/876 - 20s - loss: 0.0800 - accuracy: 0.1983 - val_loss: 0.0800 - val_accuracy: 0.0074 - lr: 0.0010 - 20s/epoch - 23ms/step
Epoch 6/75
876/876 - 20s - loss: 0.0800 - accuracy: 0.1967 - val_loss: 0.0801 - val_accuracy: 0.0735 - lr: 0.0010 - 20s/epoch - 23ms/step
Epoch 7/75
876/876 - 20s - loss: 0.0800 - accuracy: 0.1955 - val_loss: 0.0800 - val_accuracy: 0.0254 - lr: 0.0010 - 20s/epoch - 23ms/step
Epoch 8/75
876/876 - 20s - loss: 0.0800 - accuracy: 0.1984 - val_loss: 0.0801 - val_accuracy: 0.0254 - lr: 0.0010 - 20s/epoch - 23ms/step
Epoch 9/75
876/876 - 20s - loss: 0.0800 - accuracy: 0.1997 - val_loss: 0.0799 - val_accuracy: 0.0661 - lr: 0.0010 - 20s/epoch - 23ms/step
Epoch 10/75
876/876 - 20s - loss: 0.0800 - accuracy: 0.1990 - val_loss: 0.0799 - val_accuracy: 0.8276 - lr: 0.0010 - 20s/epoch - 23ms/step
Epoch 11/75
876/876 - 20s - loss: 0.0800 - accuracy: 0.1995 - val_loss: 0.0797 - val_accuracy: 0.8276 - lr: 0.0010 - 20s/epoch - 23ms/step
Epoch 12/75
876/876 - 20s - loss: 0.0800 - accuracy: 0.1984 - val_loss: 0.0800 - val_accuracy: 0.0254 - lr: 0.0010 - 20s/epoch - 23ms/step
Epoch 13/75
876/876 - 20s - loss: 0.0800 - accuracy: 0.1965 - val_loss: 0.0799 - val_accuracy: 0.0735 - lr: 0.0010 - 20s/epoch - 23ms/step
Epoch 14/75
876/876 - 20s - loss: 0.0800 - accuracy: 0.1992 - val_loss: 0.0800 - val_accuracy: 0.0735 - lr: 0.0010 - 20s/epoch - 23ms/step
Epoch 15/75
876/876 - 20s - loss: 0.0800 - accuracy: 0.1999 - val_loss: 0.0797 - val_accuracy: 0.8276 - lr: 0.0010 - 20s/epoch - 23ms/step
Epoch 16/75
876/876 - 20s - loss: 0.0800 - accuracy: 0.1978 - val_loss: 0.0800 - val_accuracy: 0.0661 - lr: 0.0010 - 20s/epoch - 23ms/step
Epoch 17/75
876/876 - 20s - loss: 0.0800 - accuracy: 0.1980 - val_loss: 0.0799 - val_accuracy: 0.8276 - lr: 0.0010 - 20s/epoch - 23ms/step
Epoch 18/75
876/876 - 20s - loss: 0.0800 - accuracy: 0.1991 - val_loss: 0.0800 - val_accuracy: 0.0074 - lr: 0.0010 - 20s/epoch - 23ms/step
Epoch 19/75
876/876 - 20s - loss: 0.0800 - accuracy: 0.1991 - val_loss: 0.0798 - val_accuracy: 0.8276 - lr: 0.0010 - 20s/epoch - 23ms/step
Epoch 20/75
876/876 - 20s - loss: 0.0800 - accuracy: 0.1971 - val_loss: 0.0800 - val_accuracy: 0.0735 - lr: 0.0010 - 20s/epoch - 23ms/step
Epoch 21/75
876/876 - 20s - loss: 0.0800 - accuracy: 0.1975 - val_loss: 0.0801 - val_accuracy: 0.0254 - lr: 0.0010 - 20s/epoch - 23ms/step
Epoch 22/75
876/876 - 20s - loss: 0.0800 - accuracy: 0.1975 - val_loss: 0.0801 - val_accuracy: 0.0735 - lr: 0.0010 - 20s/epoch - 23ms/step
Epoch 23/75
876/876 - 20s - loss: 0.0800 - accuracy: 0.1988 - val_loss: 0.0800 - val_accuracy: 0.0735 - lr: 0.0010 - 20s/epoch - 23ms/step
Epoch 24/75
876/876 - 20s - loss: 0.0800 - accuracy: 0.1988 - val_loss: 0.0802 - val_accuracy: 0.0735 - lr: 0.0010 - 20s/epoch - 23ms/step
Epoch 25/75
876/876 - 20s - loss: 0.0800 - accuracy: 0.1970 - val_loss: 0.0800 - val_accuracy: 0.0661 - lr: 0.0010 - 20s/epoch - 23ms/step
Epoch 26/75
876/876 - 20s - loss: 0.0800 - accuracy: 0.1990 - val_loss: 0.0799 - val_accuracy: 0.0661 - lr: 0.0010 - 20s/epoch - 23ms/step
Epoch 27/75
876/876 - 20s - loss: 0.0800 - accuracy: 0.1981 - val_loss: 0.0803 - val_accuracy: 0.0254 - lr: 0.0010 - 20s/epoch - 23ms/step
Epoch 28/75
876/876 - 20s - loss: 0.0800 - accuracy: 0.1980 - val_loss: 0.0800 - val_accuracy: 0.0254 - lr: 0.0010 - 20s/epoch - 23ms/step
Epoch 29/75
876/876 - 20s - loss: 0.0800 - accuracy: 0.2000 - val_loss: 0.0799 - val_accuracy: 0.8276 - lr: 0.0010 - 20s/epoch - 23ms/step
Epoch 30/75
876/876 - 20s - loss: 0.0800 - accuracy: 0.1994 - val_loss: 0.0799 - val_accuracy: 0.0074 - lr: 0.0010 - 20s/epoch - 23ms/step
Epoch 31/75
876/876 - 20s - loss: 0.0800 - accuracy: 0.1972 - val_loss: 0.0799 - val_accuracy: 0.8276 - lr: 0.0010 - 20s/epoch - 23ms/step
Epoch 32/75
876/876 - 20s - loss: 0.0800 - accuracy: 0.1996 - val_loss: 0.0799 - val_accuracy: 0.0074 - lr: 0.0010 - 20s/epoch - 23ms/step
Epoch 33/75
876/876 - 20s - loss: 0.0800 - accuracy: 0.2007 - val_loss: 0.0800 - val_accuracy: 0.0661 - lr: 0.0010 - 20s/epoch - 23ms/step
Epoch 34/75
876/876 - 20s - loss: 0.0800 - accuracy: 0.2002 - val_loss: 0.0798 - val_accuracy: 0.8276 - lr: 0.0010 - 20s/epoch - 23ms/step
Epoch 35/75
876/876 - 20s - loss: 0.0800 - accuracy: 0.1978 - val_loss: 0.0799 - val_accuracy: 0.8276 - lr: 0.0010 - 20s/epoch - 23ms/step
Epoch 36/75
876/876 - 20s - loss: 0.0800 - accuracy: 0.1960 - val_loss: 0.0800 - val_accuracy: 0.0661 - lr: 0.0010 - 20s/epoch - 23ms/step
Epoch 37/75
876/876 - 20s - loss: 0.0800 - accuracy: 0.1983 - val_loss: 0.0800 - val_accuracy: 0.0074 - lr: 0.0010 - 20s/epoch - 23ms/step
Epoch 38/75
876/876 - 20s - loss: 0.0800 - accuracy: 0.1996 - val_loss: 0.0800 - val_accuracy: 0.0735 - lr: 0.0010 - 20s/epoch - 23ms/step
Epoch 39/75
876/876 - 20s - loss: 0.0800 - accuracy: 0.1978 - val_loss: 0.0799 - val_accuracy: 0.0661 - lr: 0.0010 - 20s/epoch - 23ms/step
Epoch 40/75
876/876 - 20s - loss: 0.0800 - accuracy: 0.1970 - val_loss: 0.0802 - val_accuracy: 0.0074 - lr: 0.0010 - 20s/epoch - 23ms/step
Epoch 41/75
876/876 - 20s - loss: 0.0800 - accuracy: 0.1989 - val_loss: 0.0799 - val_accuracy: 0.0254 - lr: 0.0010 - 20s/epoch - 23ms/step
Epoch 42/75
876/876 - 20s - loss: 0.0800 - accuracy: 0.2004 - val_loss: 0.0800 - val_accuracy: 0.0735 - lr: 0.0010 - 20s/epoch - 23ms/step
Epoch 43/75
876/876 - 20s - loss: 0.0800 - accuracy: 0.1993 - val_loss: 0.0800 - val_accuracy: 0.8276 - lr: 0.0010 - 20s/epoch - 23ms/step
Epoch 44/75
876/876 - 20s - loss: 0.0800 - accuracy: 0.1996 - val_loss: 0.0802 - val_accuracy: 0.0661 - lr: 0.0010 - 20s/epoch - 23ms/step
Epoch 45/75
876/876 - 20s - loss: 0.0800 - accuracy: 0.1989 - val_loss: 0.0799 - val_accuracy: 0.8276 - lr: 0.0010 - 20s/epoch - 23ms/step
Epoch 46/75
876/876 - 20s - loss: 0.0800 - accuracy: 0.1977 - val_loss: 0.0799 - val_accuracy: 0.0661 - lr: 0.0010 - 20s/epoch - 23ms/step
Epoch 47/75
876/876 - 20s - loss: 0.0800 - accuracy: 0.1967 - val_loss: 0.0801 - val_accuracy: 0.0254 - lr: 0.0010 - 20s/epoch - 23ms/step
Epoch 48/75
876/876 - 20s - loss: 0.0800 - accuracy: 0.1975 - val_loss: 0.0800 - val_accuracy: 0.0661 - lr: 0.0010 - 20s/epoch - 23ms/step
Epoch 49/75
876/876 - 20s - loss: 0.0800 - accuracy: 0.1979 - val_loss: 0.0797 - val_accuracy: 0.8276 - lr: 0.0010 - 20s/epoch - 23ms/step
Epoch 50/75
876/876 - 20s - loss: 0.0800 - accuracy: 0.1991 - val_loss: 0.0800 - val_accuracy: 0.8276 - lr: 0.0010 - 20s/epoch - 23ms/step
Epoch 51/75
876/876 - 20s - loss: 0.0800 - accuracy: 0.1981 - val_loss: 0.0798 - val_accuracy: 0.8276 - lr: 0.0010 - 20s/epoch - 23ms/step
Epoch 52/75
876/876 - 20s - loss: 0.0800 - accuracy: 0.2002 - val_loss: 0.0800 - val_accuracy: 0.0661 - lr: 0.0010 - 20s/epoch - 23ms/step
Epoch 53/75
876/876 - 20s - loss: 0.0800 - accuracy: 0.1987 - val_loss: 0.0801 - val_accuracy: 0.0254 - lr: 0.0010 - 20s/epoch - 23ms/step
Epoch 54/75
876/876 - 20s - loss: 0.0800 - accuracy: 0.1987 - val_loss: 0.0800 - val_accuracy: 0.0074 - lr: 0.0010 - 20s/epoch - 23ms/step
Epoch 55/75
876/876 - 20s - loss: 0.0800 - accuracy: 0.1964 - val_loss: 0.0800 - val_accuracy: 0.0735 - lr: 0.0010 - 20s/epoch - 23ms/step
Epoch 56/75
876/876 - 20s - loss: 0.0800 - accuracy: 0.1989 - val_loss: 0.0801 - val_accuracy: 0.0661 - lr: 0.0010 - 20s/epoch - 23ms/step
Epoch 57/75
876/876 - 20s - loss: 0.0800 - accuracy: 0.1991 - val_loss: 0.0801 - val_accuracy: 0.0254 - lr: 0.0010 - 20s/epoch - 23ms/step
Epoch 58/75
876/876 - 20s - loss: 0.0800 - accuracy: 0.1957 - val_loss: 0.0801 - val_accuracy: 0.0735 - lr: 0.0010 - 20s/epoch - 23ms/step
Epoch 59/75
876/876 - 20s - loss: 0.0800 - accuracy: 0.2008 - val_loss: 0.0800 - val_accuracy: 0.0735 - lr: 0.0010 - 20s/epoch - 23ms/step
Epoch 60/75
876/876 - 20s - loss: 0.0800 - accuracy: 0.1976 - val_loss: 0.0800 - val_accuracy: 0.0254 - lr: 0.0010 - 20s/epoch - 23ms/step
Epoch 61/75
876/876 - 20s - loss: 0.0800 - accuracy: 0.1968 - val_loss: 0.0800 - val_accuracy: 0.0254 - lr: 0.0010 - 20s/epoch - 23ms/step
Epoch 62/75
876/876 - 20s - loss: 0.0800 - accuracy: 0.1966 - val_loss: 0.0800 - val_accuracy: 0.0254 - lr: 0.0010 - 20s/epoch - 23ms/step
Epoch 63/75
876/876 - 20s - loss: 0.0800 - accuracy: 0.1988 - val_loss: 0.0801 - val_accuracy: 0.0735 - lr: 0.0010 - 20s/epoch - 23ms/step
Epoch 64/75
876/876 - 20s - loss: 0.0800 - accuracy: 0.1997 - val_loss: 0.0799 - val_accuracy: 0.8276 - lr: 0.0010 - 20s/epoch - 23ms/step
Epoch 65/75
876/876 - 20s - loss: 0.0800 - accuracy: 0.1974 - val_loss: 0.0800 - val_accuracy: 0.0254 - lr: 0.0010 - 20s/epoch - 23ms/step
Epoch 66/75
876/876 - 20s - loss: 0.0800 - accuracy: 0.1992 - val_loss: 0.0799 - val_accuracy: 0.8276 - lr: 0.0010 - 20s/epoch - 23ms/step
Epoch 67/75
876/876 - 20s - loss: 0.0800 - accuracy: 0.1972 - val_loss: 0.0800 - val_accuracy: 0.0254 - lr: 0.0010 - 20s/epoch - 23ms/step
Epoch 68/75
876/876 - 20s - loss: 0.0800 - accuracy: 0.1980 - val_loss: 0.0799 - val_accuracy: 0.8276 - lr: 0.0010 - 20s/epoch - 23ms/step
Epoch 69/75
876/876 - 20s - loss: 0.0800 - accuracy: 0.1988 - val_loss: 0.0801 - val_accuracy: 0.0735 - lr: 0.0010 - 20s/epoch - 23ms/step
Epoch 70/75
876/876 - 20s - loss: 0.0800 - accuracy: 0.1978 - val_loss: 0.0802 - val_accuracy: 0.0735 - lr: 0.0010 - 20s/epoch - 23ms/step
Epoch 71/75
876/876 - 20s - loss: 0.0800 - accuracy: 0.1973 - val_loss: 0.0799 - val_accuracy: 0.0735 - lr: 0.0010 - 20s/epoch - 23ms/step
Epoch 72/75
876/876 - 20s - loss: 0.0800 - accuracy: 0.1982 - val_loss: 0.0802 - val_accuracy: 0.0074 - lr: 0.0010 - 20s/epoch - 23ms/step
Epoch 73/75
876/876 - 20s - loss: 0.0800 - accuracy: 0.1981 - val_loss: 0.0801 - val_accuracy: 0.0661 - lr: 0.0010 - 20s/epoch - 23ms/step
Epoch 74/75
876/876 - 20s - loss: 0.0800 - accuracy: 0.1988 - val_loss: 0.0805 - val_accuracy: 0.0661 - lr: 0.0010 - 20s/epoch - 23ms/step
Epoch 75/75
876/876 - 20s - loss: 0.0800 - accuracy: 0.1987 - val_loss: 0.0799 - val_accuracy: 0.8276 - lr: 0.0010 - 20s/epoch - 23ms/step
Epoch 1/75
176/176 - 15s - loss: 0.0800 - accuracy: 0.1991 - val_loss: 0.0799 - val_accuracy: 0.8276 - lr: 0.0010 - 15s/epoch - 85ms/step
Epoch 2/75
176/176 - 11s - loss: 0.0800 - accuracy: 0.1978 - val_loss: 0.0800 - val_accuracy: 0.8276 - lr: 0.0010 - 11s/epoch - 65ms/step
Epoch 3/75
176/176 - 11s - loss: 0.0800 - accuracy: 0.1966 - val_loss: 0.0800 - val_accuracy: 0.0254 - lr: 0.0010 - 11s/epoch - 65ms/step
Epoch 4/75
176/176 - 11s - loss: 0.0800 - accuracy: 0.1981 - val_loss: 0.0800 - val_accuracy: 0.0254 - lr: 0.0010 - 11s/epoch - 65ms/step
Epoch 5/75
176/176 - 11s - loss: 0.0800 - accuracy: 0.1994 - val_loss: 0.0800 - val_accuracy: 0.0254 - lr: 0.0010 - 11s/epoch - 65ms/step
Epoch 6/75
176/176 - 11s - loss: 0.0800 - accuracy: 0.1990 - val_loss: 0.0800 - val_accuracy: 0.0735 - lr: 0.0010 - 11s/epoch - 65ms/step
Epoch 7/75
176/176 - 11s - loss: 0.0800 - accuracy: 0.1989 - val_loss: 0.0800 - val_accuracy: 0.0074 - lr: 0.0010 - 11s/epoch - 65ms/step
Epoch 8/75
176/176 - 11s - loss: 0.0800 - accuracy: 0.1987 - val_loss: 0.0800 - val_accuracy: 0.0074 - lr: 0.0010 - 11s/epoch - 65ms/step
Epoch 9/75
176/176 - 11s - loss: 0.0800 - accuracy: 0.1986 - val_loss: 0.0800 - val_accuracy: 0.0074 - lr: 0.0010 - 11s/epoch - 64ms/step
Epoch 10/75
176/176 - 11s - loss: 0.0800 - accuracy: 0.1983 - val_loss: 0.0799 - val_accuracy: 0.0254 - lr: 0.0010 - 11s/epoch - 64ms/step
Epoch 11/75
176/176 - 11s - loss: 0.0800 - accuracy: 0.1977 - val_loss: 0.0800 - val_accuracy: 0.0254 - lr: 0.0010 - 11s/epoch - 65ms/step
Epoch 12/75
176/176 - 11s - loss: 0.0800 - accuracy: 0.2000 - val_loss: 0.0800 - val_accuracy: 0.0254 - lr: 0.0010 - 11s/epoch - 65ms/step
Epoch 13/75
176/176 - 11s - loss: 0.0800 - accuracy: 0.1957 - val_loss: 0.0800 - val_accuracy: 0.0254 - lr: 0.0010 - 11s/epoch - 65ms/step
Epoch 14/75
176/176 - 11s - loss: 0.0800 - accuracy: 0.1979 - val_loss: 0.0800 - val_accuracy: 0.0254 - lr: 0.0010 - 11s/epoch - 65ms/step
Epoch 15/75
176/176 - 11s - loss: 0.0800 - accuracy: 0.1992 - val_loss: 0.0800 - val_accuracy: 0.0254 - lr: 0.0010 - 11s/epoch - 65ms/step
Epoch 16/75
176/176 - 11s - loss: 0.0800 - accuracy: 0.1985 - val_loss: 0.0800 - val_accuracy: 0.0254 - lr: 0.0010 - 11s/epoch - 65ms/step
Epoch 17/75
176/176 - 12s - loss: 0.0800 - accuracy: 0.1989 - val_loss: 0.0800 - val_accuracy: 0.0254 - lr: 0.0010 - 12s/epoch - 66ms/step
Epoch 18/75
176/176 - 11s - loss: 0.0800 - accuracy: 0.1993 - val_loss: 0.0800 - val_accuracy: 0.0254 - lr: 0.0010 - 11s/epoch - 65ms/step
Epoch 19/75
176/176 - 11s - loss: 0.0800 - accuracy: 0.1985 - val_loss: 0.0800 - val_accuracy: 0.0074 - lr: 0.0010 - 11s/epoch - 65ms/step
Epoch 20/75
176/176 - 11s - loss: 0.0800 - accuracy: 0.1977 - val_loss: 0.0800 - val_accuracy: 0.0254 - lr: 0.0010 - 11s/epoch - 65ms/step
Epoch 21/75
176/176 - 12s - loss: 0.0800 - accuracy: 0.1991 - val_loss: 0.0800 - val_accuracy: 0.0735 - lr: 0.0010 - 12s/epoch - 65ms/step
Epoch 22/75
176/176 - 11s - loss: 0.0800 - accuracy: 0.1974 - val_loss: 0.0800 - val_accuracy: 0.0254 - lr: 0.0010 - 11s/epoch - 65ms/step
Epoch 23/75
176/176 - 11s - loss: 0.0800 - accuracy: 0.1994 - val_loss: 0.0800 - val_accuracy: 0.0074 - lr: 0.0010 - 11s/epoch - 65ms/step
Epoch 24/75
176/176 - 11s - loss: 0.0800 - accuracy: 0.1997 - val_loss: 0.0800 - val_accuracy: 0.0254 - lr: 0.0010 - 11s/epoch - 65ms/step
Epoch 25/75
176/176 - 11s - loss: 0.0800 - accuracy: 0.1992 - val_loss: 0.0799 - val_accuracy: 0.8276 - lr: 0.0010 - 11s/epoch - 65ms/step
Epoch 26/75
176/176 - 11s - loss: 0.0800 - accuracy: 0.1986 - val_loss: 0.0800 - val_accuracy: 0.8276 - lr: 0.0010 - 11s/epoch - 65ms/step
Epoch 27/75
176/176 - 12s - loss: 0.0800 - accuracy: 0.1962 - val_loss: 0.0800 - val_accuracy: 0.8276 - lr: 0.0010 - 12s/epoch - 65ms/step
Epoch 28/75
176/176 - 11s - loss: 0.0800 - accuracy: 0.1987 - val_loss: 0.0800 - val_accuracy: 0.0074 - lr: 0.0010 - 11s/epoch - 65ms/step
Epoch 29/75
176/176 - 11s - loss: 0.0800 - accuracy: 0.1989 - val_loss: 0.0800 - val_accuracy: 0.8276 - lr: 0.0010 - 11s/epoch - 65ms/step
Epoch 30/75
176/176 - 11s - loss: 0.0800 - accuracy: 0.1996 - val_loss: 0.0800 - val_accuracy: 0.0074 - lr: 0.0010 - 11s/epoch - 65ms/step
Epoch 31/75
176/176 - 11s - loss: 0.0800 - accuracy: 0.1997 - val_loss: 0.0800 - val_accuracy: 0.0735 - lr: 0.0010 - 11s/epoch - 65ms/step
Epoch 32/75
176/176 - 11s - loss: 0.0800 - accuracy: 0.1980 - val_loss: 0.0800 - val_accuracy: 0.8276 - lr: 0.0010 - 11s/epoch - 65ms/step
Epoch 33/75
176/176 - 12s - loss: 0.0800 - accuracy: 0.1980 - val_loss: 0.0800 - val_accuracy: 0.0661 - lr: 0.0010 - 12s/epoch - 66ms/step
Epoch 34/75
176/176 - 11s - loss: 0.0800 - accuracy: 0.1982 - val_loss: 0.0800 - val_accuracy: 0.0735 - lr: 0.0010 - 11s/epoch - 65ms/step
Epoch 35/75
176/176 - 11s - loss: 0.0800 - accuracy: 0.1988 - val_loss: 0.0800 - val_accuracy: 0.0074 - lr: 0.0010 - 11s/epoch - 65ms/step
Epoch 36/75
176/176 - 11s - loss: 0.0800 - accuracy: 0.1990 - val_loss: 0.0800 - val_accuracy: 0.0661 - lr: 0.0010 - 11s/epoch - 65ms/step
Epoch 37/75
176/176 - 11s - loss: 0.0800 - accuracy: 0.1989 - val_loss: 0.0799 - val_accuracy: 0.8276 - lr: 0.0010 - 11s/epoch - 65ms/step
Epoch 38/75
176/176 - 11s - loss: 0.0800 - accuracy: 0.1981 - val_loss: 0.0799 - val_accuracy: 0.8276 - lr: 0.0010 - 11s/epoch - 65ms/step
Epoch 39/75
176/176 - 11s - loss: 0.0800 - accuracy: 0.1984 - val_loss: 0.0800 - val_accuracy: 0.8276 - lr: 0.0010 - 11s/epoch - 65ms/step
Epoch 40/75
176/176 - 12s - loss: 0.0800 - accuracy: 0.1979 - val_loss: 0.0799 - val_accuracy: 0.8276 - lr: 0.0010 - 12s/epoch - 65ms/step
Epoch 41/75
176/176 - 11s - loss: 0.0800 - accuracy: 0.1988 - val_loss: 0.0800 - val_accuracy: 0.8276 - lr: 0.0010 - 11s/epoch - 65ms/step
Epoch 42/75
176/176 - 11s - loss: 0.0800 - accuracy: 0.1971 - val_loss: 0.0800 - val_accuracy: 0.0661 - lr: 0.0010 - 11s/epoch - 65ms/step
Epoch 43/75
176/176 - 11s - loss: 0.0800 - accuracy: 0.1989 - val_loss: 0.0800 - val_accuracy: 0.0661 - lr: 0.0010 - 11s/epoch - 65ms/step
Epoch 44/75
176/176 - 11s - loss: 0.0800 - accuracy: 0.2000 - val_loss: 0.0800 - val_accuracy: 0.0735 - lr: 0.0010 - 11s/epoch - 65ms/step
Epoch 45/75
176/176 - 11s - loss: 0.0800 - accuracy: 0.1975 - val_loss: 0.0800 - val_accuracy: 0.0735 - lr: 0.0010 - 11s/epoch - 65ms/step
Epoch 46/75
176/176 - 11s - loss: 0.0800 - accuracy: 0.1962 - val_loss: 0.0800 - val_accuracy: 0.0735 - lr: 0.0010 - 11s/epoch - 65ms/step
Epoch 47/75
176/176 - 11s - loss: 0.0800 - accuracy: 0.1995 - val_loss: 0.0800 - val_accuracy: 0.0661 - lr: 0.0010 - 11s/epoch - 65ms/step
Epoch 48/75
176/176 - 11s - loss: 0.0800 - accuracy: 0.1984 - val_loss: 0.0800 - val_accuracy: 0.0254 - lr: 0.0010 - 11s/epoch - 65ms/step
Epoch 49/75
176/176 - 11s - loss: 0.0800 - accuracy: 0.1997 - val_loss: 0.0800 - val_accuracy: 0.0074 - lr: 0.0010 - 11s/epoch - 65ms/step
Epoch 50/75
176/176 - 11s - loss: 0.0800 - accuracy: 0.1986 - val_loss: 0.0800 - val_accuracy: 0.0074 - lr: 0.0010 - 11s/epoch - 65ms/step
Epoch 51/75
176/176 - 11s - loss: 0.0800 - accuracy: 0.1980 - val_loss: 0.0800 - val_accuracy: 0.0735 - lr: 0.0010 - 11s/epoch - 65ms/step
Epoch 52/75
176/176 - 11s - loss: 0.0800 - accuracy: 0.1976 - val_loss: 0.0800 - val_accuracy: 0.8276 - lr: 0.0010 - 11s/epoch - 65ms/step
Epoch 53/75
176/176 - 11s - loss: 0.0800 - accuracy: 0.1995 - val_loss: 0.0800 - val_accuracy: 0.8276 - lr: 0.0010 - 11s/epoch - 65ms/step
Epoch 54/75
176/176 - 11s - loss: 0.0800 - accuracy: 0.1977 - val_loss: 0.0800 - val_accuracy: 0.0074 - lr: 0.0010 - 11s/epoch - 65ms/step
Epoch 55/75
176/176 - 11s - loss: 0.0800 - accuracy: 0.1961 - val_loss: 0.0800 - val_accuracy: 0.0735 - lr: 0.0010 - 11s/epoch - 65ms/step
Epoch 56/75
176/176 - 12s - loss: 0.0800 - accuracy: 0.1980 - val_loss: 0.0800 - val_accuracy: 0.0661 - lr: 0.0010 - 12s/epoch - 65ms/step
Epoch 57/75
176/176 - 12s - loss: 0.0800 - accuracy: 0.1980 - val_loss: 0.0800 - val_accuracy: 0.0735 - lr: 0.0010 - 12s/epoch - 66ms/step
Epoch 58/75
176/176 - 11s - loss: 0.0800 - accuracy: 0.1997 - val_loss: 0.0800 - val_accuracy: 0.0661 - lr: 0.0010 - 11s/epoch - 65ms/step
Epoch 59/75
176/176 - 11s - loss: 0.0800 - accuracy: 0.1987 - val_loss: 0.0800 - val_accuracy: 0.0254 - lr: 0.0010 - 11s/epoch - 65ms/step
Epoch 60/75
176/176 - 12s - loss: 0.0800 - accuracy: 0.1978 - val_loss: 0.0800 - val_accuracy: 0.0661 - lr: 0.0010 - 12s/epoch - 66ms/step
Epoch 61/75
176/176 - 11s - loss: 0.0800 - accuracy: 0.1972 - val_loss: 0.0800 - val_accuracy: 0.0254 - lr: 0.0010 - 11s/epoch - 65ms/step
Epoch 62/75
176/176 - 12s - loss: 0.0800 - accuracy: 0.1969 - val_loss: 0.0800 - val_accuracy: 0.0735 - lr: 0.0010 - 12s/epoch - 65ms/step
Epoch 63/75
176/176 - 11s - loss: 0.0800 - accuracy: 0.1981 - val_loss: 0.0800 - val_accuracy: 0.0735 - lr: 0.0010 - 11s/epoch - 65ms/step
Epoch 64/75
176/176 - 11s - loss: 0.0800 - accuracy: 0.1989 - val_loss: 0.0800 - val_accuracy: 0.8276 - lr: 0.0010 - 11s/epoch - 65ms/step
Epoch 65/75
176/176 - 11s - loss: 0.0800 - accuracy: 0.1988 - val_loss: 0.0800 - val_accuracy: 0.0254 - lr: 0.0010 - 11s/epoch - 65ms/step
Epoch 66/75
176/176 - 11s - loss: 0.0800 - accuracy: 0.1967 - val_loss: 0.0800 - val_accuracy: 0.0661 - lr: 0.0010 - 11s/epoch - 65ms/step
Epoch 67/75
176/176 - 12s - loss: 0.0800 - accuracy: 0.1988 - val_loss: 0.0800 - val_accuracy: 0.0074 - lr: 0.0010 - 12s/epoch - 65ms/step
Epoch 68/75
176/176 - 11s - loss: 0.0800 - accuracy: 0.1984 - val_loss: 0.0800 - val_accuracy: 0.0254 - lr: 0.0010 - 11s/epoch - 65ms/step
Epoch 69/75
176/176 - 12s - loss: 0.0800 - accuracy: 0.1992 - val_loss: 0.0800 - val_accuracy: 0.0074 - lr: 0.0010 - 12s/epoch - 65ms/step
Epoch 70/75
176/176 - 11s - loss: 0.0800 - accuracy: 0.1994 - val_loss: 0.0800 - val_accuracy: 0.8276 - lr: 0.0010 - 11s/epoch - 65ms/step
Epoch 71/75
176/176 - 11s - loss: 0.0800 - accuracy: 0.1984 - val_loss: 0.0800 - val_accuracy: 0.0661 - lr: 0.0010 - 11s/epoch - 65ms/step
Epoch 72/75
176/176 - 11s - loss: 0.0800 - accuracy: 0.1974 - val_loss: 0.0800 - val_accuracy: 0.0661 - lr: 0.0010 - 11s/epoch - 65ms/step
Epoch 73/75
176/176 - 11s - loss: 0.0800 - accuracy: 0.1981 - val_loss: 0.0800 - val_accuracy: 0.0661 - lr: 0.0010 - 11s/epoch - 65ms/step
Epoch 74/75
176/176 - 11s - loss: 0.0800 - accuracy: 0.1996 - val_loss: 0.0801 - val_accuracy: 0.0074 - lr: 0.0010 - 11s/epoch - 65ms/step
Epoch 75/75
176/176 - 11s - loss: 0.0800 - accuracy: 0.1978 - val_loss: 0.0800 - val_accuracy: 0.0661 - lr: 0.0010 - 11s/epoch - 65ms/step
Epoch 1/75
36/36 - 13s - loss: 0.0800 - accuracy: 0.2000 - val_loss: 0.0800 - val_accuracy: 0.0661 - lr: 0.0010 - 13s/epoch - 353ms/step
Epoch 2/75
36/36 - 10s - loss: 0.0800 - accuracy: 0.2000 - val_loss: 0.0800 - val_accuracy: 0.0661 - lr: 0.0010 - 10s/epoch - 283ms/step
Epoch 3/75
36/36 - 10s - loss: 0.0800 - accuracy: 0.2000 - val_loss: 0.0800 - val_accuracy: 0.0661 - lr: 0.0010 - 10s/epoch - 283ms/step
Epoch 4/75
36/36 - 10s - loss: 0.0800 - accuracy: 0.2000 - val_loss: 0.0800 - val_accuracy: 0.0661 - lr: 0.0010 - 10s/epoch - 284ms/step
Epoch 5/75
36/36 - 10s - loss: 0.0800 - accuracy: 0.2000 - val_loss: 0.0800 - val_accuracy: 0.0661 - lr: 0.0010 - 10s/epoch - 283ms/step
Epoch 6/75
36/36 - 10s - loss: 0.0800 - accuracy: 0.2000 - val_loss: 0.0800 - val_accuracy: 0.0661 - lr: 0.0010 - 10s/epoch - 283ms/step
Epoch 7/75
36/36 - 10s - loss: 0.0800 - accuracy: 0.2000 - val_loss: 0.0800 - val_accuracy: 0.0661 - lr: 0.0010 - 10s/epoch - 284ms/step
Epoch 8/75
36/36 - 10s - loss: 0.0800 - accuracy: 0.2000 - val_loss: 0.0800 - val_accuracy: 0.0661 - lr: 0.0010 - 10s/epoch - 284ms/step
Epoch 9/75
36/36 - 10s - loss: 0.0800 - accuracy: 0.1996 - val_loss: 0.0800 - val_accuracy: 0.8276 - lr: 0.0010 - 10s/epoch - 283ms/step
Epoch 10/75
36/36 - 10s - loss: 0.0800 - accuracy: 0.2000 - val_loss: 0.0799 - val_accuracy: 0.8276 - lr: 0.0010 - 10s/epoch - 283ms/step
Epoch 11/75
36/36 - 10s - loss: 0.0800 - accuracy: 0.2010 - val_loss: 0.0800 - val_accuracy: 0.0661 - lr: 0.0010 - 10s/epoch - 284ms/step
Epoch 12/75
36/36 - 10s - loss: 0.0800 - accuracy: 0.2011 - val_loss: 0.0799 - val_accuracy: 0.8276 - lr: 0.0010 - 10s/epoch - 283ms/step
Epoch 13/75
36/36 - 10s - loss: 0.0800 - accuracy: 0.1998 - val_loss: 0.0799 - val_accuracy: 0.8276 - lr: 0.0010 - 10s/epoch - 283ms/step
Epoch 14/75
36/36 - 10s - loss: 0.0800 - accuracy: 0.2000 - val_loss: 0.0800 - val_accuracy: 0.8276 - lr: 0.0010 - 10s/epoch - 283ms/step
Epoch 15/75
36/36 - 10s - loss: 0.0800 - accuracy: 0.1997 - val_loss: 0.0800 - val_accuracy: 0.0735 - lr: 0.0010 - 10s/epoch - 286ms/step
Epoch 16/75
36/36 - 10s - loss: 0.0800 - accuracy: 0.2000 - val_loss: 0.0800 - val_accuracy: 0.0735 - lr: 0.0010 - 10s/epoch - 282ms/step
Epoch 17/75
36/36 - 10s - loss: 0.0800 - accuracy: 0.2000 - val_loss: 0.0800 - val_accuracy: 0.0735 - lr: 0.0010 - 10s/epoch - 283ms/step
Epoch 18/75
36/36 - 10s - loss: 0.0800 - accuracy: 0.2000 - val_loss: 0.0800 - val_accuracy: 0.0735 - lr: 0.0010 - 10s/epoch - 283ms/step
Epoch 19/75
36/36 - 10s - loss: 0.0800 - accuracy: 0.2000 - val_loss: 0.0800 - val_accuracy: 0.0735 - lr: 0.0010 - 10s/epoch - 282ms/step
Epoch 20/75
36/36 - 10s - loss: 0.0800 - accuracy: 0.2000 - val_loss: 0.0800 - val_accuracy: 0.0735 - lr: 0.0010 - 10s/epoch - 281ms/step
Epoch 21/75
36/36 - 10s - loss: 0.0800 - accuracy: 0.1995 - val_loss: 0.0800 - val_accuracy: 0.0735 - lr: 0.0010 - 10s/epoch - 283ms/step
Epoch 22/75
36/36 - 10s - loss: 0.0800 - accuracy: 0.1993 - val_loss: 0.0800 - val_accuracy: 0.0735 - lr: 0.0010 - 10s/epoch - 284ms/step
Epoch 23/75
36/36 - 10s - loss: 0.0800 - accuracy: 0.1993 - val_loss: 0.0800 - val_accuracy: 0.8276 - lr: 0.0010 - 10s/epoch - 281ms/step
Epoch 24/75
36/36 - 10s - loss: 0.0800 - accuracy: 0.1997 - val_loss: 0.0800 - val_accuracy: 0.8276 - lr: 0.0010 - 10s/epoch - 283ms/step
Epoch 25/75
36/36 - 10s - loss: 0.0800 - accuracy: 0.2000 - val_loss: 0.0800 - val_accuracy: 0.8276 - lr: 0.0010 - 10s/epoch - 283ms/step
Epoch 26/75
36/36 - 10s - loss: 0.0800 - accuracy: 0.1998 - val_loss: 0.0800 - val_accuracy: 0.8276 - lr: 0.0010 - 10s/epoch - 284ms/step
Epoch 27/75
36/36 - 10s - loss: 0.0800 - accuracy: 0.2005 - val_loss: 0.0800 - val_accuracy: 0.0074 - lr: 0.0010 - 10s/epoch - 283ms/step
Epoch 28/75
36/36 - 10s - loss: 0.0800 - accuracy: 0.2000 - val_loss: 0.0800 - val_accuracy: 0.0074 - lr: 0.0010 - 10s/epoch - 284ms/step
Epoch 29/75
36/36 - 10s - loss: 0.0800 - accuracy: 0.2000 - val_loss: 0.0800 - val_accuracy: 0.0074 - lr: 0.0010 - 10s/epoch - 283ms/step
Epoch 30/75
36/36 - 10s - loss: 0.0800 - accuracy: 0.2000 - val_loss: 0.0800 - val_accuracy: 0.0074 - lr: 0.0010 - 10s/epoch - 283ms/step
Epoch 31/75
36/36 - 10s - loss: 0.0800 - accuracy: 0.2000 - val_loss: 0.0800 - val_accuracy: 0.0074 - lr: 0.0010 - 10s/epoch - 284ms/step
Epoch 32/75
36/36 - 10s - loss: 0.0800 - accuracy: 0.2000 - val_loss: 0.0800 - val_accuracy: 0.0074 - lr: 0.0010 - 10s/epoch - 284ms/step
Epoch 33/75
36/36 - 10s - loss: 0.0800 - accuracy: 0.2000 - val_loss: 0.0800 - val_accuracy: 0.0074 - lr: 0.0010 - 10s/epoch - 285ms/step
Epoch 34/75
36/36 - 10s - loss: 0.0800 - accuracy: 0.2000 - val_loss: 0.0800 - val_accuracy: 0.0074 - lr: 0.0010 - 10s/epoch - 283ms/step
Epoch 35/75
36/36 - 10s - loss: 0.0800 - accuracy: 0.2000 - val_loss: 0.0800 - val_accuracy: 0.0074 - lr: 0.0010 - 10s/epoch - 283ms/step
Epoch 36/75
36/36 - 10s - loss: 0.0800 - accuracy: 0.2000 - val_loss: 0.0800 - val_accuracy: 0.0074 - lr: 0.0010 - 10s/epoch - 283ms/step
Epoch 37/75
36/36 - 10s - loss: 0.0800 - accuracy: 0.2000 - val_loss: 0.0800 - val_accuracy: 0.0074 - lr: 0.0010 - 10s/epoch - 283ms/step
Epoch 38/75
36/36 - 10s - loss: 0.0800 - accuracy: 0.2000 - val_loss: 0.0800 - val_accuracy: 0.0074 - lr: 0.0010 - 10s/epoch - 283ms/step
Epoch 39/75
36/36 - 10s - loss: 0.0800 - accuracy: 0.1994 - val_loss: 0.0800 - val_accuracy: 0.0074 - lr: 0.0010 - 10s/epoch - 283ms/step
Epoch 40/75
36/36 - 10s - loss: 0.0800 - accuracy: 0.2000 - val_loss: 0.0800 - val_accuracy: 0.8276 - lr: 0.0010 - 10s/epoch - 284ms/step
Epoch 41/75
36/36 - 10s - loss: 0.0800 - accuracy: 0.1996 - val_loss: 0.0800 - val_accuracy: 0.0661 - lr: 0.0010 - 10s/epoch - 284ms/step
Epoch 42/75
36/36 - 10s - loss: 0.0800 - accuracy: 0.2000 - val_loss: 0.0800 - val_accuracy: 0.0661 - lr: 0.0010 - 10s/epoch - 285ms/step
Epoch 43/75
36/36 - 10s - loss: 0.0800 - accuracy: 0.2000 - val_loss: 0.0800 - val_accuracy: 0.0661 - lr: 0.0010 - 10s/epoch - 282ms/step
Epoch 44/75
36/36 - 10s - loss: 0.0800 - accuracy: 0.2000 - val_loss: 0.0800 - val_accuracy: 0.0661 - lr: 0.0010 - 10s/epoch - 283ms/step
Epoch 45/75
36/36 - 10s - loss: 0.0800 - accuracy: 0.2002 - val_loss: 0.0800 - val_accuracy: 0.0074 - lr: 0.0010 - 10s/epoch - 283ms/step
Epoch 46/75
36/36 - 10s - loss: 0.0800 - accuracy: 0.2000 - val_loss: 0.0800 - val_accuracy: 0.0074 - lr: 0.0010 - 10s/epoch - 284ms/step
Epoch 47/75
36/36 - 10s - loss: 0.0800 - accuracy: 0.2000 - val_loss: 0.0800 - val_accuracy: 0.0074 - lr: 0.0010 - 10s/epoch - 283ms/step
Epoch 48/75
36/36 - 10s - loss: 0.0800 - accuracy: 0.1987 - val_loss: 0.0800 - val_accuracy: 0.0735 - lr: 0.0010 - 10s/epoch - 283ms/step
Epoch 49/75
36/36 - 10s - loss: 0.0800 - accuracy: 0.1994 - val_loss: 0.0800 - val_accuracy: 0.0074 - lr: 0.0010 - 10s/epoch - 282ms/step
Epoch 50/75
36/36 - 10s - loss: 0.0800 - accuracy: 0.1995 - val_loss: 0.0800 - val_accuracy: 0.0735 - lr: 0.0010 - 10s/epoch - 283ms/step
Epoch 51/75
36/36 - 10s - loss: 0.0800 - accuracy: 0.1997 - val_loss: 0.0801 - val_accuracy: 0.0661 - lr: 0.0010 - 10s/epoch - 284ms/step
Epoch 52/75
36/36 - 10s - loss: 0.0800 - accuracy: 0.1999 - val_loss: 0.0800 - val_accuracy: 0.0661 - lr: 0.0010 - 10s/epoch - 284ms/step
Epoch 53/75
36/36 - 10s - loss: 0.0800 - accuracy: 0.2000 - val_loss: 0.0800 - val_accuracy: 0.0661 - lr: 0.0010 - 10s/epoch - 283ms/step
Epoch 54/75
36/36 - 10s - loss: 0.0800 - accuracy: 0.2000 - val_loss: 0.0800 - val_accuracy: 0.0661 - lr: 0.0010 - 10s/epoch - 284ms/step
Epoch 55/75
36/36 - 10s - loss: 0.0800 - accuracy: 0.2000 - val_loss: 0.0800 - val_accuracy: 0.0661 - lr: 0.0010 - 10s/epoch - 283ms/step
Epoch 56/75
36/36 - 10s - loss: 0.0800 - accuracy: 0.2001 - val_loss: 0.0800 - val_accuracy: 0.0661 - lr: 0.0010 - 10s/epoch - 283ms/step
Epoch 57/75
36/36 - 10s - loss: 0.0800 - accuracy: 0.2000 - val_loss: 0.0800 - val_accuracy: 0.0661 - lr: 0.0010 - 10s/epoch - 283ms/step
Epoch 58/75
36/36 - 10s - loss: 0.0800 - accuracy: 0.2000 - val_loss: 0.0800 - val_accuracy: 0.0661 - lr: 0.0010 - 10s/epoch - 284ms/step
Epoch 59/75
36/36 - 10s - loss: 0.0800 - accuracy: 0.2000 - val_loss: 0.0800 - val_accuracy: 0.0661 - lr: 0.0010 - 10s/epoch - 282ms/step
Epoch 60/75
36/36 - 10s - loss: 0.0800 - accuracy: 0.2000 - val_loss: 0.0800 - val_accuracy: 0.0661 - lr: 0.0010 - 10s/epoch - 284ms/step
Epoch 61/75
36/36 - 10s - loss: 0.0800 - accuracy: 0.2000 - val_loss: 0.0800 - val_accuracy: 0.0661 - lr: 0.0010 - 10s/epoch - 282ms/step
Epoch 62/75
36/36 - 10s - loss: 0.0800 - accuracy: 0.2000 - val_loss: 0.0800 - val_accuracy: 0.0661 - lr: 0.0010 - 10s/epoch - 284ms/step
Epoch 63/75
36/36 - 10s - loss: 0.0800 - accuracy: 0.2000 - val_loss: 0.0800 - val_accuracy: 0.0661 - lr: 0.0010 - 10s/epoch - 282ms/step
Epoch 64/75
36/36 - 10s - loss: 0.0800 - accuracy: 0.2000 - val_loss: 0.0800 - val_accuracy: 0.0661 - lr: 0.0010 - 10s/epoch - 283ms/step
Epoch 65/75
36/36 - 10s - loss: 0.0800 - accuracy: 0.2000 - val_loss: 0.0800 - val_accuracy: 0.0661 - lr: 0.0010 - 10s/epoch - 284ms/step
Epoch 66/75
36/36 - 10s - loss: 0.0800 - accuracy: 0.2000 - val_loss: 0.0800 - val_accuracy: 0.0661 - lr: 0.0010 - 10s/epoch - 284ms/step
Epoch 67/75
36/36 - 10s - loss: 0.0800 - accuracy: 0.2000 - val_loss: 0.0800 - val_accuracy: 0.0661 - lr: 0.0010 - 10s/epoch - 282ms/step
Epoch 68/75
36/36 - 10s - loss: 0.0800 - accuracy: 0.2000 - val_loss: 0.0800 - val_accuracy: 0.0661 - lr: 0.0010 - 10s/epoch - 284ms/step
Epoch 69/75
36/36 - 10s - loss: 0.0800 - accuracy: 0.2000 - val_loss: 0.0800 - val_accuracy: 0.0661 - lr: 0.0010 - 10s/epoch - 283ms/step
Epoch 70/75
36/36 - 10s - loss: 0.0800 - accuracy: 0.2000 - val_loss: 0.0800 - val_accuracy: 0.0661 - lr: 0.0010 - 10s/epoch - 284ms/step
Epoch 71/75
36/36 - 10s - loss: 0.0800 - accuracy: 0.2000 - val_loss: 0.0800 - val_accuracy: 0.0661 - lr: 0.0010 - 10s/epoch - 284ms/step
Epoch 72/75
36/36 - 10s - loss: 0.0800 - accuracy: 0.2000 - val_loss: 0.0800 - val_accuracy: 0.0661 - lr: 0.0010 - 10s/epoch - 284ms/step
Epoch 73/75
36/36 - 10s - loss: 0.0800 - accuracy: 0.1981 - val_loss: 0.0800 - val_accuracy: 0.0074 - lr: 0.0010 - 10s/epoch - 284ms/step
Epoch 74/75
36/36 - 10s - loss: 0.0800 - accuracy: 0.2004 - val_loss: 0.0800 - val_accuracy: 0.0661 - lr: 0.0010 - 10s/epoch - 283ms/step
Epoch 75/75
36/36 - 10s - loss: 0.0800 - accuracy: 0.2001 - val_loss: 0.0800 - val_accuracy: 0.0661 - lr: 0.0010 - 10s/epoch - 285ms/step
Epoch 1/100
4378/4378 - 81s - loss: 0.0800 - accuracy: 0.1990 - val_loss: 0.0802 - val_accuracy: 0.0735 - lr: 0.0010 - 81s/epoch - 18ms/step
Epoch 2/100
4378/4378 - 79s - loss: 0.0800 - accuracy: 0.2024 - val_loss: 0.0797 - val_accuracy: 0.0661 - lr: 0.0010 - 79s/epoch - 18ms/step
Epoch 3/100
4378/4378 - 78s - loss: 0.0800 - accuracy: 0.1985 - val_loss: 0.0800 - val_accuracy: 0.0735 - lr: 0.0010 - 78s/epoch - 18ms/step
Epoch 4/100
4378/4378 - 78s - loss: 0.0800 - accuracy: 0.1989 - val_loss: 0.0800 - val_accuracy: 0.0661 - lr: 0.0010 - 78s/epoch - 18ms/step
Epoch 5/100
4378/4378 - 78s - loss: 0.0800 - accuracy: 0.1990 - val_loss: 0.0798 - val_accuracy: 0.0074 - lr: 0.0010 - 78s/epoch - 18ms/step
Epoch 6/100
4378/4378 - 78s - loss: 0.0800 - accuracy: 0.1980 - val_loss: 0.0799 - val_accuracy: 0.0661 - lr: 0.0010 - 78s/epoch - 18ms/step
Epoch 7/100
4378/4378 - 78s - loss: 0.0800 - accuracy: 0.1983 - val_loss: 0.0800 - val_accuracy: 0.0735 - lr: 0.0010 - 78s/epoch - 18ms/step
Epoch 8/100
4378/4378 - 79s - loss: 0.0800 - accuracy: 0.2001 - val_loss: 0.0795 - val_accuracy: 0.8276 - lr: 0.0010 - 79s/epoch - 18ms/step
Epoch 9/100
4378/4378 - 78s - loss: 0.0800 - accuracy: 0.1971 - val_loss: 0.0801 - val_accuracy: 0.0661 - lr: 0.0010 - 78s/epoch - 18ms/step
Epoch 10/100
4378/4378 - 78s - loss: 0.0800 - accuracy: 0.1981 - val_loss: 0.0798 - val_accuracy: 0.0661 - lr: 0.0010 - 78s/epoch - 18ms/step
Epoch 11/100
4378/4378 - 78s - loss: 0.0800 - accuracy: 0.1987 - val_loss: 0.0803 - val_accuracy: 0.0254 - lr: 0.0010 - 78s/epoch - 18ms/step
Epoch 12/100
4378/4378 - 78s - loss: 0.0800 - accuracy: 0.1997 - val_loss: 0.0798 - val_accuracy: 0.8276 - lr: 0.0010 - 78s/epoch - 18ms/step
Epoch 13/100
4378/4378 - 78s - loss: 0.0800 - accuracy: 0.1993 - val_loss: 0.0803 - val_accuracy: 0.0735 - lr: 0.0010 - 78s/epoch - 18ms/step
Epoch 14/100
4378/4378 - 78s - loss: 0.0800 - accuracy: 0.1997 - val_loss: 0.0799 - val_accuracy: 0.0254 - lr: 0.0010 - 78s/epoch - 18ms/step
Epoch 15/100
4378/4378 - 78s - loss: 0.0800 - accuracy: 0.1989 - val_loss: 0.0798 - val_accuracy: 0.0735 - lr: 0.0010 - 78s/epoch - 18ms/step
Epoch 16/100
4378/4378 - 78s - loss: 0.0800 - accuracy: 0.1986 - val_loss: 0.0803 - val_accuracy: 0.0735 - lr: 0.0010 - 78s/epoch - 18ms/step
Epoch 17/100
4378/4378 - 78s - loss: 0.0800 - accuracy: 0.1996 - val_loss: 0.0796 - val_accuracy: 0.8276 - lr: 0.0010 - 78s/epoch - 18ms/step
Epoch 18/100
4378/4378 - 78s - loss: 0.0800 - accuracy: 0.2007 - val_loss: 0.0798 - val_accuracy: 0.0661 - lr: 0.0010 - 78s/epoch - 18ms/step
Epoch 19/100
4378/4378 - 78s - loss: 0.0800 - accuracy: 0.1983 - val_loss: 0.0802 - val_accuracy: 0.0254 - lr: 0.0010 - 78s/epoch - 18ms/step
Epoch 20/100
4378/4378 - 78s - loss: 0.0800 - accuracy: 0.1967 - val_loss: 0.0800 - val_accuracy: 0.0735 - lr: 0.0010 - 78s/epoch - 18ms/step
Epoch 21/100
4378/4378 - 78s - loss: 0.0800 - accuracy: 0.1984 - val_loss: 0.0803 - val_accuracy: 0.0074 - lr: 0.0010 - 78s/epoch - 18ms/step
Epoch 22/100
4378/4378 - 77s - loss: 0.0800 - accuracy: 0.1992 - val_loss: 0.0797 - val_accuracy: 0.8276 - lr: 0.0010 - 77s/epoch - 18ms/step
Epoch 23/100
4378/4378 - 78s - loss: 0.0800 - accuracy: 0.1979 - val_loss: 0.0799 - val_accuracy: 0.0254 - lr: 0.0010 - 78s/epoch - 18ms/step
Epoch 24/100
4378/4378 - 78s - loss: 0.0800 - accuracy: 0.1985 - val_loss: 0.0801 - val_accuracy: 0.0074 - lr: 0.0010 - 78s/epoch - 18ms/step
Epoch 25/100
4378/4378 - 78s - loss: 0.0800 - accuracy: 0.1990 - val_loss: 0.0801 - val_accuracy: 0.0735 - lr: 0.0010 - 78s/epoch - 18ms/step
Epoch 26/100
4378/4378 - 79s - loss: 0.0800 - accuracy: 0.1981 - val_loss: 0.0802 - val_accuracy: 0.0735 - lr: 0.0010 - 79s/epoch - 18ms/step
Epoch 27/100
4378/4378 - 79s - loss: 0.0800 - accuracy: 0.1987 - val_loss: 0.0800 - val_accuracy: 0.0074 - lr: 0.0010 - 79s/epoch - 18ms/step
Epoch 28/100
4378/4378 - 78s - loss: 0.0800 - accuracy: 0.2003 - val_loss: 0.0803 - val_accuracy: 0.0735 - lr: 0.0010 - 78s/epoch - 18ms/step
Epoch 29/100
4378/4378 - 79s - loss: 0.0800 - accuracy: 0.2000 - val_loss: 0.0798 - val_accuracy: 0.0074 - lr: 0.0010 - 79s/epoch - 18ms/step
Epoch 30/100
4378/4378 - 78s - loss: 0.0800 - accuracy: 0.1985 - val_loss: 0.0800 - val_accuracy: 0.0735 - lr: 0.0010 - 78s/epoch - 18ms/step
Epoch 31/100
4378/4378 - 78s - loss: 0.0800 - accuracy: 0.2012 - val_loss: 0.0796 - val_accuracy: 0.0254 - lr: 0.0010 - 78s/epoch - 18ms/step
Epoch 32/100
4378/4378 - 78s - loss: 0.0800 - accuracy: 0.1973 - val_loss: 0.0801 - val_accuracy: 0.0661 - lr: 0.0010 - 78s/epoch - 18ms/step
Epoch 33/100
4378/4378 - 79s - loss: 0.0800 - accuracy: 0.2003 - val_loss: 0.0798 - val_accuracy: 0.8276 - lr: 0.0010 - 79s/epoch - 18ms/step
Epoch 34/100
4378/4378 - 79s - loss: 0.0800 - accuracy: 0.2003 - val_loss: 0.0799 - val_accuracy: 0.8276 - lr: 0.0010 - 79s/epoch - 18ms/step
Epoch 35/100
4378/4378 - 79s - loss: 0.0800 - accuracy: 0.1994 - val_loss: 0.0801 - val_accuracy: 0.0661 - lr: 0.0010 - 79s/epoch - 18ms/step
Epoch 36/100
4378/4378 - 78s - loss: 0.0800 - accuracy: 0.1990 - val_loss: 0.0798 - val_accuracy: 0.8276 - lr: 0.0010 - 78s/epoch - 18ms/step
Epoch 37/100
4378/4378 - 78s - loss: 0.0800 - accuracy: 0.1973 - val_loss: 0.0799 - val_accuracy: 0.0661 - lr: 0.0010 - 78s/epoch - 18ms/step
Epoch 38/100
4378/4378 - 79s - loss: 0.0800 - accuracy: 0.1985 - val_loss: 0.0797 - val_accuracy: 0.8276 - lr: 0.0010 - 79s/epoch - 18ms/step
Epoch 39/100
4378/4378 - 78s - loss: 0.0800 - accuracy: 0.1977 - val_loss: 0.0800 - val_accuracy: 0.0661 - lr: 0.0010 - 78s/epoch - 18ms/step
Epoch 40/100
4378/4378 - 78s - loss: 0.0800 - accuracy: 0.1966 - val_loss: 0.0799 - val_accuracy: 0.0735 - lr: 0.0010 - 78s/epoch - 18ms/step
Epoch 41/100
4378/4378 - 79s - loss: 0.0800 - accuracy: 0.1992 - val_loss: 0.0801 - val_accuracy: 0.0254 - lr: 0.0010 - 79s/epoch - 18ms/step
Epoch 42/100
4378/4378 - 79s - loss: 0.0800 - accuracy: 0.1974 - val_loss: 0.0801 - val_accuracy: 0.0074 - lr: 0.0010 - 79s/epoch - 18ms/step
Epoch 43/100
4378/4378 - 79s - loss: 0.0800 - accuracy: 0.1982 - val_loss: 0.0803 - val_accuracy: 0.0074 - lr: 0.0010 - 79s/epoch - 18ms/step
Epoch 44/100
4378/4378 - 79s - loss: 0.0800 - accuracy: 0.1993 - val_loss: 0.0796 - val_accuracy: 0.8276 - lr: 0.0010 - 79s/epoch - 18ms/step
Epoch 45/100
4378/4378 - 79s - loss: 0.0800 - accuracy: 0.1996 - val_loss: 0.0802 - val_accuracy: 0.0254 - lr: 0.0010 - 79s/epoch - 18ms/step
Epoch 46/100
4378/4378 - 79s - loss: 0.0800 - accuracy: 0.1984 - val_loss: 0.0799 - val_accuracy: 0.8276 - lr: 0.0010 - 79s/epoch - 18ms/step
Epoch 47/100
4378/4378 - 79s - loss: 0.0800 - accuracy: 0.1991 - val_loss: 0.0801 - val_accuracy: 0.0661 - lr: 0.0010 - 79s/epoch - 18ms/step
Epoch 48/100
4378/4378 - 79s - loss: 0.0800 - accuracy: 0.1985 - val_loss: 0.0800 - val_accuracy: 0.0735 - lr: 0.0010 - 79s/epoch - 18ms/step
Epoch 49/100
4378/4378 - 79s - loss: 0.0800 - accuracy: 0.1973 - val_loss: 0.0799 - val_accuracy: 0.0254 - lr: 0.0010 - 79s/epoch - 18ms/step
Epoch 50/100
4378/4378 - 80s - loss: 0.0800 - accuracy: 0.1993 - val_loss: 0.0800 - val_accuracy: 0.0074 - lr: 0.0010 - 80s/epoch - 18ms/step
Epoch 51/100
4378/4378 - 77s - loss: 0.0800 - accuracy: 0.1997 - val_loss: 0.0801 - val_accuracy: 0.0735 - lr: 0.0010 - 77s/epoch - 18ms/step
Epoch 52/100
4378/4378 - 77s - loss: 0.0800 - accuracy: 0.2005 - val_loss: 0.0798 - val_accuracy: 0.8276 - lr: 0.0010 - 77s/epoch - 18ms/step
Epoch 53/100
4378/4378 - 75s - loss: 0.0800 - accuracy: 0.1988 - val_loss: 0.0803 - val_accuracy: 0.0074 - lr: 0.0010 - 75s/epoch - 17ms/step
Epoch 54/100
4378/4378 - 73s - loss: 0.0800 - accuracy: 0.1991 - val_loss: 0.0798 - val_accuracy: 0.0074 - lr: 0.0010 - 73s/epoch - 17ms/step
Epoch 55/100
4378/4378 - 79s - loss: 0.0800 - accuracy: 0.1986 - val_loss: 0.0800 - val_accuracy: 0.0074 - lr: 0.0010 - 79s/epoch - 18ms/step
Epoch 56/100
4378/4378 - 79s - loss: 0.0800 - accuracy: 0.1971 - val_loss: 0.0801 - val_accuracy: 0.0254 - lr: 0.0010 - 79s/epoch - 18ms/step
Epoch 57/100
4378/4378 - 80s - loss: 0.0800 - accuracy: 0.1991 - val_loss: 0.0800 - val_accuracy: 0.0254 - lr: 0.0010 - 80s/epoch - 18ms/step
Epoch 58/100
4378/4378 - 83s - loss: 0.0800 - accuracy: 0.1992 - val_loss: 0.0803 - val_accuracy: 0.0735 - lr: 0.0010 - 83s/epoch - 19ms/step
Epoch 59/100
4378/4378 - 83s - loss: 0.0800 - accuracy: 0.2012 - val_loss: 0.0799 - val_accuracy: 0.0254 - lr: 0.0010 - 83s/epoch - 19ms/step
Epoch 60/100
4378/4378 - 81s - loss: 0.0800 - accuracy: 0.1993 - val_loss: 0.0799 - val_accuracy: 0.8276 - lr: 0.0010 - 81s/epoch - 18ms/step
Epoch 61/100
4378/4378 - 80s - loss: 0.0800 - accuracy: 0.1983 - val_loss: 0.0797 - val_accuracy: 0.8276 - lr: 0.0010 - 80s/epoch - 18ms/step
Epoch 62/100
4378/4378 - 80s - loss: 0.0800 - accuracy: 0.1991 - val_loss: 0.0799 - val_accuracy: 0.0661 - lr: 0.0010 - 80s/epoch - 18ms/step
Epoch 63/100
4378/4378 - 79s - loss: 0.0800 - accuracy: 0.1993 - val_loss: 0.0797 - val_accuracy: 0.8276 - lr: 0.0010 - 79s/epoch - 18ms/step
Epoch 64/100
4378/4378 - 80s - loss: 0.0800 - accuracy: 0.1989 - val_loss: 0.0797 - val_accuracy: 0.8276 - lr: 0.0010 - 80s/epoch - 18ms/step
Epoch 65/100
4378/4378 - 81s - loss: 0.0800 - accuracy: 0.1998 - val_loss: 0.0804 - val_accuracy: 0.0074 - lr: 0.0010 - 81s/epoch - 18ms/step
Epoch 66/100
4378/4378 - 82s - loss: 0.0800 - accuracy: 0.2009 - val_loss: 0.0801 - val_accuracy: 0.0074 - lr: 0.0010 - 82s/epoch - 19ms/step
Epoch 67/100
4378/4378 - 80s - loss: 0.0800 - accuracy: 0.1987 - val_loss: 0.0801 - val_accuracy: 0.0735 - lr: 0.0010 - 80s/epoch - 18ms/step
Epoch 68/100
4378/4378 - 81s - loss: 0.0800 - accuracy: 0.1983 - val_loss: 0.0802 - val_accuracy: 0.0254 - lr: 0.0010 - 81s/epoch - 19ms/step
Epoch 69/100
4378/4378 - 81s - loss: 0.0800 - accuracy: 0.1991 - val_loss: 0.0799 - val_accuracy: 0.0254 - lr: 0.0010 - 81s/epoch - 18ms/step
Epoch 70/100
4378/4378 - 79s - loss: 0.0800 - accuracy: 0.1978 - val_loss: 0.0800 - val_accuracy: 0.0074 - lr: 0.0010 - 79s/epoch - 18ms/step
Epoch 71/100
4378/4378 - 82s - loss: 0.0800 - accuracy: 0.1987 - val_loss: 0.0800 - val_accuracy: 0.0735 - lr: 0.0010 - 82s/epoch - 19ms/step
Epoch 72/100
4378/4378 - 81s - loss: 0.0800 - accuracy: 0.1974 - val_loss: 0.0800 - val_accuracy: 0.0254 - lr: 0.0010 - 81s/epoch - 18ms/step
Epoch 73/100
4378/4378 - 81s - loss: 0.0800 - accuracy: 0.1990 - val_loss: 0.0802 - val_accuracy: 0.0074 - lr: 0.0010 - 81s/epoch - 18ms/step
Epoch 74/100
4378/4378 - 82s - loss: 0.0800 - accuracy: 0.1999 - val_loss: 0.0802 - val_accuracy: 0.0661 - lr: 0.0010 - 82s/epoch - 19ms/step
Epoch 75/100
4378/4378 - 83s - loss: 0.0800 - accuracy: 0.1968 - val_loss: 0.0799 - val_accuracy: 0.8276 - lr: 0.0010 - 83s/epoch - 19ms/step
Epoch 76/100
4378/4378 - 81s - loss: 0.0800 - accuracy: 0.1997 - val_loss: 0.0799 - val_accuracy: 0.0735 - lr: 0.0010 - 81s/epoch - 18ms/step
Epoch 77/100
4378/4378 - 80s - loss: 0.0800 - accuracy: 0.2001 - val_loss: 0.0800 - val_accuracy: 0.0661 - lr: 0.0010 - 80s/epoch - 18ms/step
Epoch 78/100
4378/4378 - 85s - loss: 0.0800 - accuracy: 0.1987 - val_loss: 0.0804 - val_accuracy: 0.0661 - lr: 0.0010 - 85s/epoch - 19ms/step
Epoch 79/100
4378/4378 - 83s - loss: 0.0800 - accuracy: 0.1959 - val_loss: 0.0804 - val_accuracy: 0.0074 - lr: 0.0010 - 83s/epoch - 19ms/step
Epoch 80/100
4378/4378 - 83s - loss: 0.0800 - accuracy: 0.2005 - val_loss: 0.0802 - val_accuracy: 0.0254 - lr: 0.0010 - 83s/epoch - 19ms/step
Epoch 81/100
4378/4378 - 84s - loss: 0.0800 - accuracy: 0.1991 - val_loss: 0.0801 - val_accuracy: 0.0074 - lr: 0.0010 - 84s/epoch - 19ms/step
Epoch 82/100
4378/4378 - 86s - loss: 0.0800 - accuracy: 0.1983 - val_loss: 0.0805 - val_accuracy: 0.0074 - lr: 0.0010 - 86s/epoch - 20ms/step
Epoch 83/100
4378/4378 - 83s - loss: 0.0800 - accuracy: 0.1992 - val_loss: 0.0801 - val_accuracy: 0.0661 - lr: 0.0010 - 83s/epoch - 19ms/step
Epoch 84/100
4378/4378 - 82s - loss: 0.0800 - accuracy: 0.1960 - val_loss: 0.0799 - val_accuracy: 0.8276 - lr: 0.0010 - 82s/epoch - 19ms/step
Epoch 85/100
4378/4378 - 81s - loss: 0.0800 - accuracy: 0.1996 - val_loss: 0.0798 - val_accuracy: 0.0254 - lr: 0.0010 - 81s/epoch - 18ms/step
Epoch 86/100
4378/4378 - 81s - loss: 0.0800 - accuracy: 0.1961 - val_loss: 0.0799 - val_accuracy: 0.0735 - lr: 0.0010 - 81s/epoch - 18ms/step
Epoch 87/100
4378/4378 - 81s - loss: 0.0800 - accuracy: 0.1985 - val_loss: 0.0801 - val_accuracy: 0.0661 - lr: 0.0010 - 81s/epoch - 18ms/step
Epoch 88/100
4378/4378 - 82s - loss: 0.0800 - accuracy: 0.1984 - val_loss: 0.0799 - val_accuracy: 0.0735 - lr: 0.0010 - 82s/epoch - 19ms/step
Epoch 89/100
4378/4378 - 80s - loss: 0.0800 - accuracy: 0.1995 - val_loss: 0.0801 - val_accuracy: 0.0735 - lr: 0.0010 - 80s/epoch - 18ms/step
Epoch 90/100
4378/4378 - 81s - loss: 0.0800 - accuracy: 0.1997 - val_loss: 0.0802 - val_accuracy: 0.0735 - lr: 0.0010 - 81s/epoch - 19ms/step
Epoch 91/100
4378/4378 - 80s - loss: 0.0800 - accuracy: 0.1974 - val_loss: 0.0801 - val_accuracy: 0.0735 - lr: 0.0010 - 80s/epoch - 18ms/step
Epoch 92/100
4378/4378 - 79s - loss: 0.0800 - accuracy: 0.1978 - val_loss: 0.0799 - val_accuracy: 0.0735 - lr: 0.0010 - 79s/epoch - 18ms/step
Epoch 93/100
4378/4378 - 83s - loss: 0.0800 - accuracy: 0.1979 - val_loss: 0.0801 - val_accuracy: 0.0661 - lr: 0.0010 - 83s/epoch - 19ms/step
Epoch 94/100
4378/4378 - 81s - loss: 0.0800 - accuracy: 0.1978 - val_loss: 0.0805 - val_accuracy: 0.0661 - lr: 0.0010 - 81s/epoch - 18ms/step
Epoch 95/100
4378/4378 - 81s - loss: 0.0800 - accuracy: 0.2012 - val_loss: 0.0801 - val_accuracy: 0.0074 - lr: 0.0010 - 81s/epoch - 19ms/step
Epoch 96/100
4378/4378 - 80s - loss: 0.0800 - accuracy: 0.2003 - val_loss: 0.0797 - val_accuracy: 0.8276 - lr: 0.0010 - 80s/epoch - 18ms/step
Epoch 97/100
4378/4378 - 81s - loss: 0.0800 - accuracy: 0.1974 - val_loss: 0.0798 - val_accuracy: 0.8276 - lr: 0.0010 - 81s/epoch - 19ms/step
Epoch 98/100
4378/4378 - 82s - loss: 0.0800 - accuracy: 0.1977 - val_loss: 0.0800 - val_accuracy: 0.0735 - lr: 0.0010 - 82s/epoch - 19ms/step
Epoch 99/100
4378/4378 - 81s - loss: 0.0800 - accuracy: 0.1997 - val_loss: 0.0799 - val_accuracy: 0.0074 - lr: 0.0010 - 81s/epoch - 19ms/step
Epoch 100/100
4378/4378 - 81s - loss: 0.0800 - accuracy: 0.1988 - val_loss: 0.0799 - val_accuracy: 0.0735 - lr: 0.0010 - 81s/epoch - 19ms/step
Epoch 1/100
876/876 - 26s - loss: 0.0800 - accuracy: 0.1980 - val_loss: 0.0800 - val_accuracy: 0.0735 - lr: 0.0010 - 26s/epoch - 30ms/step
Epoch 2/100
876/876 - 23s - loss: 0.0800 - accuracy: 0.1997 - val_loss: 0.0800 - val_accuracy: 0.0074 - lr: 0.0010 - 23s/epoch - 26ms/step
Epoch 3/100
876/876 - 23s - loss: 0.0800 - accuracy: 0.1974 - val_loss: 0.0800 - val_accuracy: 0.0661 - lr: 0.0010 - 23s/epoch - 26ms/step
Epoch 4/100
876/876 - 23s - loss: 0.0800 - accuracy: 0.1981 - val_loss: 0.0800 - val_accuracy: 0.0661 - lr: 0.0010 - 23s/epoch - 27ms/step
Epoch 5/100
876/876 - 25s - loss: 0.0800 - accuracy: 0.1990 - val_loss: 0.0800 - val_accuracy: 0.0254 - lr: 0.0010 - 25s/epoch - 28ms/step
Epoch 6/100
876/876 - 24s - loss: 0.0800 - accuracy: 0.1979 - val_loss: 0.0800 - val_accuracy: 0.0254 - lr: 0.0010 - 24s/epoch - 28ms/step
Epoch 7/100
876/876 - 24s - loss: 0.0800 - accuracy: 0.1993 - val_loss: 0.0801 - val_accuracy: 0.0735 - lr: 0.0010 - 24s/epoch - 27ms/step
Epoch 8/100
876/876 - 24s - loss: 0.0800 - accuracy: 0.1979 - val_loss: 0.0800 - val_accuracy: 0.0074 - lr: 0.0010 - 24s/epoch - 27ms/step
Epoch 9/100
876/876 - 24s - loss: 0.0800 - accuracy: 0.1980 - val_loss: 0.0800 - val_accuracy: 0.0074 - lr: 0.0010 - 24s/epoch - 27ms/step
Epoch 10/100
876/876 - 24s - loss: 0.0800 - accuracy: 0.1998 - val_loss: 0.0797 - val_accuracy: 0.8276 - lr: 0.0010 - 24s/epoch - 27ms/step
Epoch 11/100
876/876 - 24s - loss: 0.0800 - accuracy: 0.1994 - val_loss: 0.0799 - val_accuracy: 0.8276 - lr: 0.0010 - 24s/epoch - 27ms/step
Epoch 12/100
876/876 - 24s - loss: 0.0800 - accuracy: 0.1963 - val_loss: 0.0801 - val_accuracy: 0.0735 - lr: 0.0010 - 24s/epoch - 27ms/step
Epoch 13/100
876/876 - 24s - loss: 0.0800 - accuracy: 0.1964 - val_loss: 0.0800 - val_accuracy: 0.0735 - lr: 0.0010 - 24s/epoch - 27ms/step
Epoch 14/100
876/876 - 24s - loss: 0.0800 - accuracy: 0.1976 - val_loss: 0.0801 - val_accuracy: 0.0735 - lr: 0.0010 - 24s/epoch - 28ms/step
Epoch 15/100
876/876 - 24s - loss: 0.0800 - accuracy: 0.1978 - val_loss: 0.0800 - val_accuracy: 0.0661 - lr: 0.0010 - 24s/epoch - 28ms/step
Epoch 16/100
876/876 - 24s - loss: 0.0800 - accuracy: 0.1984 - val_loss: 0.0801 - val_accuracy: 0.0661 - lr: 0.0010 - 24s/epoch - 27ms/step
Epoch 17/100
876/876 - 24s - loss: 0.0800 - accuracy: 0.1994 - val_loss: 0.0799 - val_accuracy: 0.8276 - lr: 0.0010 - 24s/epoch - 27ms/step
Epoch 18/100
876/876 - 24s - loss: 0.0800 - accuracy: 0.1983 - val_loss: 0.0801 - val_accuracy: 0.0074 - lr: 0.0010 - 24s/epoch - 28ms/step
Epoch 19/100
876/876 - 25s - loss: 0.0800 - accuracy: 0.1999 - val_loss: 0.0800 - val_accuracy: 0.0735 - lr: 0.0010 - 25s/epoch - 28ms/step
Epoch 20/100
876/876 - 24s - loss: 0.0800 - accuracy: 0.1990 - val_loss: 0.0801 - val_accuracy: 0.0074 - lr: 0.0010 - 24s/epoch - 28ms/step
Epoch 21/100
876/876 - 24s - loss: 0.0800 - accuracy: 0.1985 - val_loss: 0.0801 - val_accuracy: 0.0735 - lr: 0.0010 - 24s/epoch - 28ms/step
Epoch 22/100
876/876 - 24s - loss: 0.0800 - accuracy: 0.2012 - val_loss: 0.0800 - val_accuracy: 0.0254 - lr: 0.0010 - 24s/epoch - 28ms/step
Epoch 23/100
876/876 - 24s - loss: 0.0800 - accuracy: 0.1975 - val_loss: 0.0801 - val_accuracy: 0.0661 - lr: 0.0010 - 24s/epoch - 28ms/step
Epoch 24/100
876/876 - 28s - loss: 0.0800 - accuracy: 0.1986 - val_loss: 0.0801 - val_accuracy: 0.0735 - lr: 0.0010 - 28s/epoch - 32ms/step
Epoch 25/100
876/876 - 22s - loss: 0.0800 - accuracy: 0.1985 - val_loss: 0.0800 - val_accuracy: 0.0254 - lr: 0.0010 - 22s/epoch - 25ms/step
Epoch 26/100
876/876 - 22s - loss: 0.0800 - accuracy: 0.1993 - val_loss: 0.0800 - val_accuracy: 0.0074 - lr: 0.0010 - 22s/epoch - 26ms/step
Epoch 27/100
876/876 - 21s - loss: 0.0800 - accuracy: 0.1981 - val_loss: 0.0800 - val_accuracy: 0.0661 - lr: 0.0010 - 21s/epoch - 24ms/step
Epoch 28/100
876/876 - 23s - loss: 0.0800 - accuracy: 0.1959 - val_loss: 0.0800 - val_accuracy: 0.0735 - lr: 0.0010 - 23s/epoch - 27ms/step
Epoch 29/100
876/876 - 25s - loss: 0.0800 - accuracy: 0.1993 - val_loss: 0.0800 - val_accuracy: 0.0074 - lr: 0.0010 - 25s/epoch - 28ms/step
Epoch 30/100
876/876 - 25s - loss: 0.0800 - accuracy: 0.2001 - val_loss: 0.0799 - val_accuracy: 0.0661 - lr: 0.0010 - 25s/epoch - 29ms/step
Epoch 31/100
876/876 - 26s - loss: 0.0800 - accuracy: 0.1991 - val_loss: 0.0797 - val_accuracy: 0.8276 - lr: 0.0010 - 26s/epoch - 29ms/step
Epoch 32/100
876/876 - 25s - loss: 0.0800 - accuracy: 0.1996 - val_loss: 0.0801 - val_accuracy: 0.0661 - lr: 0.0010 - 25s/epoch - 29ms/step
Epoch 33/100
876/876 - 25s - loss: 0.0800 - accuracy: 0.1998 - val_loss: 0.0797 - val_accuracy: 0.8276 - lr: 0.0010 - 25s/epoch - 29ms/step
Epoch 34/100
876/876 - 26s - loss: 0.0800 - accuracy: 0.1987 - val_loss: 0.0799 - val_accuracy: 0.8276 - lr: 0.0010 - 26s/epoch - 29ms/step
Epoch 35/100
876/876 - 25s - loss: 0.0800 - accuracy: 0.1971 - val_loss: 0.0799 - val_accuracy: 0.0735 - lr: 0.0010 - 25s/epoch - 29ms/step
Epoch 36/100
876/876 - 25s - loss: 0.0800 - accuracy: 0.1991 - val_loss: 0.0799 - val_accuracy: 0.8276 - lr: 0.0010 - 25s/epoch - 29ms/step
Epoch 37/100
876/876 - 25s - loss: 0.0800 - accuracy: 0.1964 - val_loss: 0.0801 - val_accuracy: 0.0074 - lr: 0.0010 - 25s/epoch - 29ms/step
Epoch 38/100
876/876 - 25s - loss: 0.0800 - accuracy: 0.1990 - val_loss: 0.0799 - val_accuracy: 0.8276 - lr: 0.0010 - 25s/epoch - 29ms/step
Epoch 39/100
876/876 - 25s - loss: 0.0800 - accuracy: 0.1982 - val_loss: 0.0800 - val_accuracy: 0.0661 - lr: 0.0010 - 25s/epoch - 29ms/step
Epoch 40/100
876/876 - 25s - loss: 0.0800 - accuracy: 0.1968 - val_loss: 0.0799 - val_accuracy: 0.0661 - lr: 0.0010 - 25s/epoch - 29ms/step
Epoch 41/100
876/876 - 25s - loss: 0.0800 - accuracy: 0.1969 - val_loss: 0.0800 - val_accuracy: 0.0254 - lr: 0.0010 - 25s/epoch - 29ms/step
Epoch 42/100
876/876 - 25s - loss: 0.0800 - accuracy: 0.1980 - val_loss: 0.0801 - val_accuracy: 0.0661 - lr: 0.0010 - 25s/epoch - 29ms/step
Epoch 43/100
876/876 - 25s - loss: 0.0800 - accuracy: 0.1998 - val_loss: 0.0798 - val_accuracy: 0.8276 - lr: 0.0010 - 25s/epoch - 29ms/step
Epoch 44/100
876/876 - 25s - loss: 0.0800 - accuracy: 0.2001 - val_loss: 0.0800 - val_accuracy: 0.0661 - lr: 0.0010 - 25s/epoch - 29ms/step
Epoch 45/100
876/876 - 25s - loss: 0.0800 - accuracy: 0.1994 - val_loss: 0.0800 - val_accuracy: 0.0735 - lr: 0.0010 - 25s/epoch - 29ms/step
Epoch 46/100
876/876 - 25s - loss: 0.0800 - accuracy: 0.1959 - val_loss: 0.0800 - val_accuracy: 0.0735 - lr: 0.0010 - 25s/epoch - 29ms/step
Epoch 47/100
876/876 - 25s - loss: 0.0800 - accuracy: 0.1979 - val_loss: 0.0801 - val_accuracy: 0.0735 - lr: 0.0010 - 25s/epoch - 29ms/step
Epoch 48/100
876/876 - 25s - loss: 0.0800 - accuracy: 0.1981 - val_loss: 0.0799 - val_accuracy: 0.8276 - lr: 0.0010 - 25s/epoch - 29ms/step
Epoch 49/100
876/876 - 25s - loss: 0.0800 - accuracy: 0.1995 - val_loss: 0.0802 - val_accuracy: 0.0074 - lr: 0.0010 - 25s/epoch - 29ms/step
Epoch 50/100
876/876 - 26s - loss: 0.0800 - accuracy: 0.1984 - val_loss: 0.0799 - val_accuracy: 0.8276 - lr: 0.0010 - 26s/epoch - 29ms/step
Epoch 51/100
876/876 - 25s - loss: 0.0800 - accuracy: 0.1976 - val_loss: 0.0799 - val_accuracy: 0.8276 - lr: 0.0010 - 25s/epoch - 28ms/step
Epoch 52/100
876/876 - 26s - loss: 0.0800 - accuracy: 0.1970 - val_loss: 0.0800 - val_accuracy: 0.0254 - lr: 0.0010 - 26s/epoch - 30ms/step
Epoch 53/100
876/876 - 25s - loss: 0.0800 - accuracy: 0.1967 - val_loss: 0.0799 - val_accuracy: 0.8276 - lr: 0.0010 - 25s/epoch - 28ms/step
Epoch 54/100
876/876 - 25s - loss: 0.0800 - accuracy: 0.1998 - val_loss: 0.0796 - val_accuracy: 0.8276 - lr: 0.0010 - 25s/epoch - 28ms/step
Epoch 55/100
876/876 - 26s - loss: 0.0800 - accuracy: 0.1981 - val_loss: 0.0800 - val_accuracy: 0.0074 - lr: 0.0010 - 26s/epoch - 30ms/step
Epoch 56/100
876/876 - 25s - loss: 0.0800 - accuracy: 0.1989 - val_loss: 0.0799 - val_accuracy: 0.0074 - lr: 0.0010 - 25s/epoch - 29ms/step
Epoch 57/100
876/876 - 25s - loss: 0.0800 - accuracy: 0.1965 - val_loss: 0.0799 - val_accuracy: 0.0661 - lr: 0.0010 - 25s/epoch - 28ms/step
Epoch 58/100
876/876 - 24s - loss: 0.0800 - accuracy: 0.1976 - val_loss: 0.0799 - val_accuracy: 0.0074 - lr: 0.0010 - 24s/epoch - 27ms/step
Epoch 59/100
876/876 - 25s - loss: 0.0800 - accuracy: 0.1988 - val_loss: 0.0800 - val_accuracy: 0.0074 - lr: 0.0010 - 25s/epoch - 29ms/step
Epoch 60/100
876/876 - 24s - loss: 0.0800 - accuracy: 0.1984 - val_loss: 0.0799 - val_accuracy: 0.0735 - lr: 0.0010 - 24s/epoch - 28ms/step
Epoch 61/100
876/876 - 23s - loss: 0.0800 - accuracy: 0.1966 - val_loss: 0.0800 - val_accuracy: 0.0074 - lr: 0.0010 - 23s/epoch - 26ms/step
Epoch 62/100
876/876 - 23s - loss: 0.0800 - accuracy: 0.2000 - val_loss: 0.0800 - val_accuracy: 0.0254 - lr: 0.0010 - 23s/epoch - 27ms/step
Epoch 63/100
876/876 - 23s - loss: 0.0800 - accuracy: 0.1991 - val_loss: 0.0800 - val_accuracy: 0.0074 - lr: 0.0010 - 23s/epoch - 26ms/step
Epoch 64/100
876/876 - 23s - loss: 0.0800 - accuracy: 0.1977 - val_loss: 0.0801 - val_accuracy: 0.0661 - lr: 0.0010 - 23s/epoch - 27ms/step
Epoch 65/100
876/876 - 23s - loss: 0.0800 - accuracy: 0.1987 - val_loss: 0.0800 - val_accuracy: 0.0074 - lr: 0.0010 - 23s/epoch - 27ms/step
Epoch 66/100
876/876 - 23s - loss: 0.0800 - accuracy: 0.1978 - val_loss: 0.0800 - val_accuracy: 0.0074 - lr: 0.0010 - 23s/epoch - 27ms/step
Epoch 67/100
876/876 - 26s - loss: 0.0800 - accuracy: 0.1988 - val_loss: 0.0804 - val_accuracy: 0.0661 - lr: 0.0010 - 26s/epoch - 29ms/step
Epoch 68/100
876/876 - 25s - loss: 0.0800 - accuracy: 0.1991 - val_loss: 0.0799 - val_accuracy: 0.8276 - lr: 0.0010 - 25s/epoch - 28ms/step
Epoch 69/100
876/876 - 29s - loss: 0.0800 - accuracy: 0.1995 - val_loss: 0.0799 - val_accuracy: 0.8276 - lr: 0.0010 - 29s/epoch - 33ms/step
Epoch 70/100
876/876 - 28s - loss: 0.0800 - accuracy: 0.2008 - val_loss: 0.0803 - val_accuracy: 0.0254 - lr: 0.0010 - 28s/epoch - 31ms/step
Epoch 71/100
876/876 - 26s - loss: 0.0800 - accuracy: 0.2000 - val_loss: 0.0800 - val_accuracy: 0.0735 - lr: 0.0010 - 26s/epoch - 30ms/step
Epoch 72/100
876/876 - 27s - loss: 0.0800 - accuracy: 0.2001 - val_loss: 0.0797 - val_accuracy: 0.8276 - lr: 0.0010 - 27s/epoch - 31ms/step
Epoch 73/100
876/876 - 28s - loss: 0.0800 - accuracy: 0.1987 - val_loss: 0.0799 - val_accuracy: 0.8276 - lr: 0.0010 - 28s/epoch - 32ms/step
Epoch 74/100
876/876 - 28s - loss: 0.0800 - accuracy: 0.1989 - val_loss: 0.0797 - val_accuracy: 0.8276 - lr: 0.0010 - 28s/epoch - 32ms/step
Epoch 75/100
876/876 - 26s - loss: 0.0800 - accuracy: 0.1996 - val_loss: 0.0802 - val_accuracy: 0.0735 - lr: 0.0010 - 26s/epoch - 30ms/step
Epoch 76/100
876/876 - 28s - loss: 0.0800 - accuracy: 0.1973 - val_loss: 0.0799 - val_accuracy: 0.0735 - lr: 0.0010 - 28s/epoch - 32ms/step
Epoch 77/100
876/876 - 29s - loss: 0.0800 - accuracy: 0.1979 - val_loss: 0.0800 - val_accuracy: 0.0661 - lr: 0.0010 - 29s/epoch - 33ms/step
Epoch 78/100
876/876 - 26s - loss: 0.0800 - accuracy: 0.1984 - val_loss: 0.0802 - val_accuracy: 0.0074 - lr: 0.0010 - 26s/epoch - 30ms/step
Epoch 79/100
876/876 - 26s - loss: 0.0800 - accuracy: 0.2000 - val_loss: 0.0799 - val_accuracy: 0.0735 - lr: 0.0010 - 26s/epoch - 30ms/step
Epoch 80/100
876/876 - 27s - loss: 0.0800 - accuracy: 0.1976 - val_loss: 0.0801 - val_accuracy: 0.0074 - lr: 0.0010 - 27s/epoch - 30ms/step
Epoch 81/100
876/876 - 27s - loss: 0.0800 - accuracy: 0.1988 - val_loss: 0.0802 - val_accuracy: 0.0074 - lr: 0.0010 - 27s/epoch - 30ms/step
Epoch 82/100
876/876 - 27s - loss: 0.0800 - accuracy: 0.1974 - val_loss: 0.0800 - val_accuracy: 0.0074 - lr: 0.0010 - 27s/epoch - 30ms/step
Epoch 83/100
876/876 - 26s - loss: 0.0800 - accuracy: 0.2017 - val_loss: 0.0800 - val_accuracy: 0.0735 - lr: 0.0010 - 26s/epoch - 30ms/step
Epoch 84/100
876/876 - 26s - loss: 0.0800 - accuracy: 0.1990 - val_loss: 0.0803 - val_accuracy: 0.0735 - lr: 0.0010 - 26s/epoch - 30ms/step
Epoch 85/100
876/876 - 26s - loss: 0.0800 - accuracy: 0.1990 - val_loss: 0.0800 - val_accuracy: 0.0254 - lr: 0.0010 - 26s/epoch - 30ms/step
Epoch 86/100
876/876 - 25s - loss: 0.0800 - accuracy: 0.1972 - val_loss: 0.0800 - val_accuracy: 0.0735 - lr: 0.0010 - 25s/epoch - 29ms/step
Epoch 87/100
876/876 - 26s - loss: 0.0800 - accuracy: 0.2003 - val_loss: 0.0800 - val_accuracy: 0.0661 - lr: 0.0010 - 26s/epoch - 30ms/step
Epoch 88/100
876/876 - 25s - loss: 0.0800 - accuracy: 0.1989 - val_loss: 0.0798 - val_accuracy: 0.8276 - lr: 0.0010 - 25s/epoch - 29ms/step
Epoch 89/100
876/876 - 25s - loss: 0.0800 - accuracy: 0.1976 - val_loss: 0.0798 - val_accuracy: 0.8276 - lr: 0.0010 - 25s/epoch - 29ms/step
Epoch 90/100
876/876 - 26s - loss: 0.0800 - accuracy: 0.2000 - val_loss: 0.0801 - val_accuracy: 0.0735 - lr: 0.0010 - 26s/epoch - 29ms/step
Epoch 91/100
876/876 - 26s - loss: 0.0800 - accuracy: 0.1996 - val_loss: 0.0799 - val_accuracy: 0.8276 - lr: 0.0010 - 26s/epoch - 30ms/step
Epoch 92/100
876/876 - 26s - loss: 0.0800 - accuracy: 0.1975 - val_loss: 0.0799 - val_accuracy: 0.0254 - lr: 0.0010 - 26s/epoch - 29ms/step
Epoch 93/100
876/876 - 26s - loss: 0.0800 - accuracy: 0.1970 - val_loss: 0.0800 - val_accuracy: 0.0074 - lr: 0.0010 - 26s/epoch - 30ms/step
Epoch 94/100
876/876 - 25s - loss: 0.0800 - accuracy: 0.1994 - val_loss: 0.0800 - val_accuracy: 0.0074 - lr: 0.0010 - 25s/epoch - 29ms/step
Epoch 95/100
876/876 - 26s - loss: 0.0800 - accuracy: 0.1994 - val_loss: 0.0798 - val_accuracy: 0.8276 - lr: 0.0010 - 26s/epoch - 29ms/step
Epoch 96/100
876/876 - 26s - loss: 0.0800 - accuracy: 0.1967 - val_loss: 0.0800 - val_accuracy: 0.0254 - lr: 0.0010 - 26s/epoch - 29ms/step
Epoch 97/100
876/876 - 26s - loss: 0.0800 - accuracy: 0.1975 - val_loss: 0.0801 - val_accuracy: 0.0661 - lr: 0.0010 - 26s/epoch - 30ms/step
Epoch 98/100
876/876 - 26s - loss: 0.0800 - accuracy: 0.1978 - val_loss: 0.0799 - val_accuracy: 0.8276 - lr: 0.0010 - 26s/epoch - 29ms/step
Epoch 99/100
876/876 - 26s - loss: 0.0800 - accuracy: 0.1991 - val_loss: 0.0799 - val_accuracy: 0.8276 - lr: 0.0010 - 26s/epoch - 30ms/step
Epoch 100/100
876/876 - 26s - loss: 0.0800 - accuracy: 0.1979 - val_loss: 0.0799 - val_accuracy: 0.8276 - lr: 0.0010 - 26s/epoch - 29ms/step
Epoch 1/100
176/176 - 18s - loss: 0.0800 - accuracy: 0.1987 - val_loss: 0.0799 - val_accuracy: 0.8276 - lr: 0.0010 - 18s/epoch - 104ms/step
Epoch 2/100
176/176 - 16s - loss: 0.0800 - accuracy: 0.1989 - val_loss: 0.0800 - val_accuracy: 0.0661 - lr: 0.0010 - 16s/epoch - 88ms/step
Epoch 3/100
176/176 - 15s - loss: 0.0800 - accuracy: 0.1996 - val_loss: 0.0799 - val_accuracy: 0.8276 - lr: 0.0010 - 15s/epoch - 85ms/step
Epoch 4/100
176/176 - 15s - loss: 0.0800 - accuracy: 0.2001 - val_loss: 0.0800 - val_accuracy: 0.0735 - lr: 0.0010 - 15s/epoch - 86ms/step
Epoch 5/100
176/176 - 17s - loss: 0.0800 - accuracy: 0.1984 - val_loss: 0.0800 - val_accuracy: 0.0661 - lr: 0.0010 - 17s/epoch - 95ms/step
Epoch 6/100
176/176 - 16s - loss: 0.0800 - accuracy: 0.1977 - val_loss: 0.0800 - val_accuracy: 0.0735 - lr: 0.0010 - 16s/epoch - 92ms/step
Epoch 7/100
176/176 - 16s - loss: 0.0800 - accuracy: 0.1993 - val_loss: 0.0800 - val_accuracy: 0.0074 - lr: 0.0010 - 16s/epoch - 90ms/step
Epoch 8/100
176/176 - 16s - loss: 0.0800 - accuracy: 0.1983 - val_loss: 0.0800 - val_accuracy: 0.0074 - lr: 0.0010 - 16s/epoch - 89ms/step
Epoch 9/100
176/176 - 16s - loss: 0.0800 - accuracy: 0.1974 - val_loss: 0.0800 - val_accuracy: 0.0254 - lr: 0.0010 - 16s/epoch - 89ms/step
Epoch 10/100
176/176 - 15s - loss: 0.0800 - accuracy: 0.1999 - val_loss: 0.0800 - val_accuracy: 0.0074 - lr: 0.0010 - 15s/epoch - 88ms/step
Epoch 11/100
176/176 - 16s - loss: 0.0800 - accuracy: 0.1985 - val_loss: 0.0800 - val_accuracy: 0.0254 - lr: 0.0010 - 16s/epoch - 89ms/step
Epoch 12/100
176/176 - 16s - loss: 0.0800 - accuracy: 0.1987 - val_loss: 0.0800 - val_accuracy: 0.0074 - lr: 0.0010 - 16s/epoch - 88ms/step
Epoch 13/100
176/176 - 15s - loss: 0.0800 - accuracy: 0.1992 - val_loss: 0.0800 - val_accuracy: 0.0074 - lr: 0.0010 - 15s/epoch - 86ms/step
Epoch 14/100
176/176 - 15s - loss: 0.0800 - accuracy: 0.1995 - val_loss: 0.0800 - val_accuracy: 0.0661 - lr: 0.0010 - 15s/epoch - 84ms/step
Epoch 15/100
176/176 - 15s - loss: 0.0800 - accuracy: 0.1990 - val_loss: 0.0801 - val_accuracy: 0.0661 - lr: 0.0010 - 15s/epoch - 86ms/step
Epoch 16/100
176/176 - 15s - loss: 0.0800 - accuracy: 0.1984 - val_loss: 0.0800 - val_accuracy: 0.0735 - lr: 0.0010 - 15s/epoch - 86ms/step
Epoch 17/100
176/176 - 15s - loss: 0.0800 - accuracy: 0.1980 - val_loss: 0.0800 - val_accuracy: 0.0735 - lr: 0.0010 - 15s/epoch - 84ms/step
Epoch 18/100
176/176 - 15s - loss: 0.0800 - accuracy: 0.1993 - val_loss: 0.0800 - val_accuracy: 0.0661 - lr: 0.0010 - 15s/epoch - 83ms/step
Epoch 19/100
176/176 - 15s - loss: 0.0800 - accuracy: 0.1979 - val_loss: 0.0800 - val_accuracy: 0.0074 - lr: 0.0010 - 15s/epoch - 85ms/step
Epoch 20/100
176/176 - 15s - loss: 0.0800 - accuracy: 0.1961 - val_loss: 0.0800 - val_accuracy: 0.0074 - lr: 0.0010 - 15s/epoch - 84ms/step
Epoch 21/100
176/176 - 15s - loss: 0.0800 - accuracy: 0.1972 - val_loss: 0.0800 - val_accuracy: 0.0074 - lr: 0.0010 - 15s/epoch - 87ms/step
Epoch 22/100
176/176 - 16s - loss: 0.0800 - accuracy: 0.1988 - val_loss: 0.0800 - val_accuracy: 0.0074 - lr: 0.0010 - 16s/epoch - 89ms/step
Epoch 23/100
176/176 - 15s - loss: 0.0800 - accuracy: 0.1991 - val_loss: 0.0800 - val_accuracy: 0.0074 - lr: 0.0010 - 15s/epoch - 87ms/step
Epoch 24/100
176/176 - 16s - loss: 0.0800 - accuracy: 0.2001 - val_loss: 0.0800 - val_accuracy: 0.0735 - lr: 0.0010 - 16s/epoch - 89ms/step
Epoch 25/100
176/176 - 16s - loss: 0.0800 - accuracy: 0.1972 - val_loss: 0.0800 - val_accuracy: 0.0735 - lr: 0.0010 - 16s/epoch - 89ms/step
Epoch 26/100
176/176 - 16s - loss: 0.0800 - accuracy: 0.1979 - val_loss: 0.0800 - val_accuracy: 0.8276 - lr: 0.0010 - 16s/epoch - 89ms/step
Epoch 27/100
176/176 - 15s - loss: 0.0800 - accuracy: 0.1974 - val_loss: 0.0800 - val_accuracy: 0.8276 - lr: 0.0010 - 15s/epoch - 87ms/step
Epoch 28/100
176/176 - 15s - loss: 0.0800 - accuracy: 0.1967 - val_loss: 0.0800 - val_accuracy: 0.0254 - lr: 0.0010 - 15s/epoch - 86ms/step
Epoch 29/100
176/176 - 15s - loss: 0.0800 - accuracy: 0.1988 - val_loss: 0.0800 - val_accuracy: 0.0661 - lr: 0.0010 - 15s/epoch - 87ms/step
Epoch 30/100
176/176 - 16s - loss: 0.0800 - accuracy: 0.1996 - val_loss: 0.0800 - val_accuracy: 0.0254 - lr: 0.0010 - 16s/epoch - 88ms/step
Epoch 31/100
176/176 - 15s - loss: 0.0800 - accuracy: 0.1976 - val_loss: 0.0800 - val_accuracy: 0.0254 - lr: 0.0010 - 15s/epoch - 86ms/step
Epoch 32/100
176/176 - 16s - loss: 0.0800 - accuracy: 0.1987 - val_loss: 0.0800 - val_accuracy: 0.0661 - lr: 0.0010 - 16s/epoch - 89ms/step
Epoch 33/100
176/176 - 16s - loss: 0.0800 - accuracy: 0.1959 - val_loss: 0.0800 - val_accuracy: 0.8276 - lr: 0.0010 - 16s/epoch - 91ms/step
Epoch 34/100
176/176 - 16s - loss: 0.0800 - accuracy: 0.1978 - val_loss: 0.0800 - val_accuracy: 0.0661 - lr: 0.0010 - 16s/epoch - 90ms/step
Epoch 35/100
176/176 - 16s - loss: 0.0800 - accuracy: 0.1994 - val_loss: 0.0800 - val_accuracy: 0.8276 - lr: 0.0010 - 16s/epoch - 91ms/step
Epoch 36/100
176/176 - 16s - loss: 0.0800 - accuracy: 0.1980 - val_loss: 0.0800 - val_accuracy: 0.8276 - lr: 0.0010 - 16s/epoch - 90ms/step
Epoch 37/100
176/176 - 16s - loss: 0.0800 - accuracy: 0.1982 - val_loss: 0.0800 - val_accuracy: 0.8276 - lr: 0.0010 - 16s/epoch - 89ms/step
Epoch 38/100
176/176 - 15s - loss: 0.0800 - accuracy: 0.1984 - val_loss: 0.0800 - val_accuracy: 0.0254 - lr: 0.0010 - 15s/epoch - 88ms/step
Epoch 39/100
176/176 - 15s - loss: 0.0800 - accuracy: 0.1981 - val_loss: 0.0800 - val_accuracy: 0.0074 - lr: 0.0010 - 15s/epoch - 87ms/step
Epoch 40/100
176/176 - 15s - loss: 0.0800 - accuracy: 0.1986 - val_loss: 0.0800 - val_accuracy: 0.0661 - lr: 0.0010 - 15s/epoch - 88ms/step
Epoch 41/100
176/176 - 16s - loss: 0.0800 - accuracy: 0.1982 - val_loss: 0.0800 - val_accuracy: 0.0074 - lr: 0.0010 - 16s/epoch - 90ms/step
Epoch 42/100
176/176 - 16s - loss: 0.0800 - accuracy: 0.1974 - val_loss: 0.0800 - val_accuracy: 0.0074 - lr: 0.0010 - 16s/epoch - 89ms/step
Epoch 43/100
176/176 - 15s - loss: 0.0800 - accuracy: 0.1983 - val_loss: 0.0800 - val_accuracy: 0.0735 - lr: 0.0010 - 15s/epoch - 87ms/step
Epoch 44/100
176/176 - 15s - loss: 0.0800 - accuracy: 0.1991 - val_loss: 0.0800 - val_accuracy: 0.0661 - lr: 0.0010 - 15s/epoch - 87ms/step
Epoch 45/100
176/176 - 15s - loss: 0.0800 - accuracy: 0.1982 - val_loss: 0.0800 - val_accuracy: 0.0735 - lr: 0.0010 - 15s/epoch - 87ms/step
Epoch 46/100
176/176 - 16s - loss: 0.0800 - accuracy: 0.1995 - val_loss: 0.0800 - val_accuracy: 0.0254 - lr: 0.0010 - 16s/epoch - 89ms/step
Epoch 47/100
176/176 - 15s - loss: 0.0800 - accuracy: 0.1976 - val_loss: 0.0800 - val_accuracy: 0.0074 - lr: 0.0010 - 15s/epoch - 87ms/step
Epoch 48/100
176/176 - 15s - loss: 0.0800 - accuracy: 0.1991 - val_loss: 0.0800 - val_accuracy: 0.0074 - lr: 0.0010 - 15s/epoch - 87ms/step
Epoch 49/100
176/176 - 15s - loss: 0.0800 - accuracy: 0.1963 - val_loss: 0.0800 - val_accuracy: 0.0661 - lr: 0.0010 - 15s/epoch - 86ms/step
Epoch 50/100
176/176 - 17s - loss: 0.0800 - accuracy: 0.1994 - val_loss: 0.0800 - val_accuracy: 0.0661 - lr: 0.0010 - 17s/epoch - 95ms/step
Epoch 51/100
176/176 - 15s - loss: 0.0800 - accuracy: 0.1981 - val_loss: 0.0799 - val_accuracy: 0.8276 - lr: 0.0010 - 15s/epoch - 87ms/step
Epoch 52/100
176/176 - 15s - loss: 0.0800 - accuracy: 0.1984 - val_loss: 0.0800 - val_accuracy: 0.0661 - lr: 0.0010 - 15s/epoch - 87ms/step
Epoch 53/100
176/176 - 16s - loss: 0.0800 - accuracy: 0.1995 - val_loss: 0.0799 - val_accuracy: 0.8276 - lr: 0.0010 - 16s/epoch - 89ms/step
Epoch 54/100
176/176 - 16s - loss: 0.0800 - accuracy: 0.1999 - val_loss: 0.0800 - val_accuracy: 0.0254 - lr: 0.0010 - 16s/epoch - 88ms/step
Epoch 55/100
176/176 - 15s - loss: 0.0800 - accuracy: 0.1965 - val_loss: 0.0800 - val_accuracy: 0.0735 - lr: 0.0010 - 15s/epoch - 87ms/step
Epoch 56/100
176/176 - 15s - loss: 0.0800 - accuracy: 0.1969 - val_loss: 0.0800 - val_accuracy: 0.0661 - lr: 0.0010 - 15s/epoch - 88ms/step
Epoch 57/100
176/176 - 15s - loss: 0.0800 - accuracy: 0.1971 - val_loss: 0.0800 - val_accuracy: 0.8276 - lr: 0.0010 - 15s/epoch - 87ms/step
Epoch 58/100
176/176 - 15s - loss: 0.0800 - accuracy: 0.1991 - val_loss: 0.0800 - val_accuracy: 0.0074 - lr: 0.0010 - 15s/epoch - 86ms/step
Epoch 59/100
176/176 - 15s - loss: 0.0800 - accuracy: 0.1980 - val_loss: 0.0800 - val_accuracy: 0.0661 - lr: 0.0010 - 15s/epoch - 88ms/step
Epoch 60/100
176/176 - 15s - loss: 0.0800 - accuracy: 0.1979 - val_loss: 0.0800 - val_accuracy: 0.0074 - lr: 0.0010 - 15s/epoch - 88ms/step
Epoch 61/100
176/176 - 14s - loss: 0.0800 - accuracy: 0.1992 - val_loss: 0.0800 - val_accuracy: 0.0074 - lr: 0.0010 - 14s/epoch - 79ms/step
Epoch 62/100
176/176 - 18s - loss: 0.0800 - accuracy: 0.1981 - val_loss: 0.0800 - val_accuracy: 0.0661 - lr: 0.0010 - 18s/epoch - 104ms/step
Epoch 63/100
176/176 - 20s - loss: 0.0800 - accuracy: 0.1993 - val_loss: 0.0800 - val_accuracy: 0.8276 - lr: 0.0010 - 20s/epoch - 111ms/step
Epoch 64/100
176/176 - 20s - loss: 0.0800 - accuracy: 0.1988 - val_loss: 0.0800 - val_accuracy: 0.0074 - lr: 0.0010 - 20s/epoch - 114ms/step
Epoch 65/100
176/176 - 18s - loss: 0.0800 - accuracy: 0.1977 - val_loss: 0.0799 - val_accuracy: 0.8276 - lr: 0.0010 - 18s/epoch - 103ms/step
Epoch 66/100
176/176 - 18s - loss: 0.0800 - accuracy: 0.1992 - val_loss: 0.0800 - val_accuracy: 0.0254 - lr: 0.0010 - 18s/epoch - 100ms/step
Epoch 67/100
176/176 - 17s - loss: 0.0800 - accuracy: 0.1975 - val_loss: 0.0800 - val_accuracy: 0.0074 - lr: 0.0010 - 17s/epoch - 99ms/step
Epoch 68/100
176/176 - 18s - loss: 0.0800 - accuracy: 0.1987 - val_loss: 0.0800 - val_accuracy: 0.0661 - lr: 0.0010 - 18s/epoch - 100ms/step
Epoch 69/100
176/176 - 17s - loss: 0.0800 - accuracy: 0.1978 - val_loss: 0.0800 - val_accuracy: 0.0661 - lr: 0.0010 - 17s/epoch - 99ms/step
Epoch 70/100
176/176 - 17s - loss: 0.0800 - accuracy: 0.1985 - val_loss: 0.0800 - val_accuracy: 0.0074 - lr: 0.0010 - 17s/epoch - 99ms/step
Epoch 71/100
176/176 - 18s - loss: 0.0800 - accuracy: 0.1976 - val_loss: 0.0800 - val_accuracy: 0.0254 - lr: 0.0010 - 18s/epoch - 100ms/step
Epoch 72/100
176/176 - 17s - loss: 0.0800 - accuracy: 0.1982 - val_loss: 0.0800 - val_accuracy: 0.0735 - lr: 0.0010 - 17s/epoch - 99ms/step
Epoch 73/100
176/176 - 18s - loss: 0.0800 - accuracy: 0.1994 - val_loss: 0.0800 - val_accuracy: 0.0254 - lr: 0.0010 - 18s/epoch - 102ms/step
Epoch 74/100
176/176 - 16s - loss: 0.0800 - accuracy: 0.1995 - val_loss: 0.0800 - val_accuracy: 0.0074 - lr: 0.0010 - 16s/epoch - 92ms/step
Epoch 75/100
176/176 - 15s - loss: 0.0800 - accuracy: 0.1964 - val_loss: 0.0800 - val_accuracy: 0.0254 - lr: 0.0010 - 15s/epoch - 88ms/step
Epoch 76/100
176/176 - 17s - loss: 0.0800 - accuracy: 0.1983 - val_loss: 0.0800 - val_accuracy: 0.8276 - lr: 0.0010 - 17s/epoch - 99ms/step
Epoch 77/100
176/176 - 20s - loss: 0.0800 - accuracy: 0.1964 - val_loss: 0.0800 - val_accuracy: 0.0074 - lr: 0.0010 - 20s/epoch - 111ms/step
Epoch 78/100
176/176 - 20s - loss: 0.0800 - accuracy: 0.1994 - val_loss: 0.0800 - val_accuracy: 0.8276 - lr: 0.0010 - 20s/epoch - 111ms/step
Epoch 79/100
176/176 - 19s - loss: 0.0800 - accuracy: 0.1967 - val_loss: 0.0800 - val_accuracy: 0.0661 - lr: 0.0010 - 19s/epoch - 110ms/step
Epoch 80/100
176/176 - 20s - loss: 0.0800 - accuracy: 0.1978 - val_loss: 0.0800 - val_accuracy: 0.0254 - lr: 0.0010 - 20s/epoch - 112ms/step
Epoch 81/100
176/176 - 20s - loss: 0.0800 - accuracy: 0.1980 - val_loss: 0.0801 - val_accuracy: 0.0254 - lr: 0.0010 - 20s/epoch - 112ms/step
Epoch 82/100
176/176 - 18s - loss: 0.0800 - accuracy: 0.1992 - val_loss: 0.0800 - val_accuracy: 0.8276 - lr: 0.0010 - 18s/epoch - 103ms/step
Epoch 83/100
176/176 - 16s - loss: 0.0800 - accuracy: 0.1973 - val_loss: 0.0800 - val_accuracy: 0.0074 - lr: 0.0010 - 16s/epoch - 89ms/step
Epoch 84/100
176/176 - 16s - loss: 0.0800 - accuracy: 0.1989 - val_loss: 0.0800 - val_accuracy: 0.0074 - lr: 0.0010 - 16s/epoch - 92ms/step
Epoch 85/100
176/176 - 18s - loss: 0.0800 - accuracy: 0.1996 - val_loss: 0.0801 - val_accuracy: 0.0074 - lr: 0.0010 - 18s/epoch - 100ms/step
Epoch 86/100
176/176 - 17s - loss: 0.0800 - accuracy: 0.1994 - val_loss: 0.0800 - val_accuracy: 0.0074 - lr: 0.0010 - 17s/epoch - 99ms/step
Epoch 87/100
176/176 - 18s - loss: 0.0800 - accuracy: 0.1988 - val_loss: 0.0800 - val_accuracy: 0.0735 - lr: 0.0010 - 18s/epoch - 101ms/step
Epoch 88/100
176/176 - 17s - loss: 0.0800 - accuracy: 0.1985 - val_loss: 0.0800 - val_accuracy: 0.0735 - lr: 0.0010 - 17s/epoch - 96ms/step
Epoch 89/100
176/176 - 16s - loss: 0.0800 - accuracy: 0.1967 - val_loss: 0.0800 - val_accuracy: 0.0074 - lr: 0.0010 - 16s/epoch - 88ms/step
Epoch 90/100
176/176 - 16s - loss: 0.0800 - accuracy: 0.1981 - val_loss: 0.0800 - val_accuracy: 0.0074 - lr: 0.0010 - 16s/epoch - 89ms/step
Epoch 91/100
176/176 - 15s - loss: 0.0800 - accuracy: 0.1983 - val_loss: 0.0800 - val_accuracy: 0.0661 - lr: 0.0010 - 15s/epoch - 88ms/step
Epoch 92/100
176/176 - 14s - loss: 0.0800 - accuracy: 0.1995 - val_loss: 0.0800 - val_accuracy: 0.0735 - lr: 0.0010 - 14s/epoch - 82ms/step
Epoch 93/100
176/176 - 15s - loss: 0.0800 - accuracy: 0.1989 - val_loss: 0.0800 - val_accuracy: 0.8276 - lr: 0.0010 - 15s/epoch - 88ms/step
Epoch 94/100
176/176 - 16s - loss: 0.0800 - accuracy: 0.1971 - val_loss: 0.0800 - val_accuracy: 0.8276 - lr: 0.0010 - 16s/epoch - 88ms/step
Epoch 95/100
176/176 - 16s - loss: 0.0800 - accuracy: 0.1986 - val_loss: 0.0800 - val_accuracy: 0.8276 - lr: 0.0010 - 16s/epoch - 90ms/step
Epoch 96/100
176/176 - 16s - loss: 0.0800 - accuracy: 0.1967 - val_loss: 0.0800 - val_accuracy: 0.0254 - lr: 0.0010 - 16s/epoch - 89ms/step
Epoch 97/100
176/176 - 15s - loss: 0.0800 - accuracy: 0.1997 - val_loss: 0.0800 - val_accuracy: 0.8276 - lr: 0.0010 - 15s/epoch - 88ms/step
Epoch 98/100
176/176 - 16s - loss: 0.0800 - accuracy: 0.1988 - val_loss: 0.0800 - val_accuracy: 0.0661 - lr: 0.0010 - 16s/epoch - 89ms/step
Epoch 99/100
176/176 - 16s - loss: 0.0800 - accuracy: 0.1975 - val_loss: 0.0800 - val_accuracy: 0.0661 - lr: 0.0010 - 16s/epoch - 89ms/step
Epoch 100/100
176/176 - 16s - loss: 0.0800 - accuracy: 0.2000 - val_loss: 0.0800 - val_accuracy: 0.0661 - lr: 0.0010 - 16s/epoch - 90ms/step
Epoch 1/100
36/36 - 17s - loss: 0.0800 - accuracy: 0.2000 - val_loss: 0.0800 - val_accuracy: 0.0661 - lr: 0.0010 - 17s/epoch - 462ms/step
Epoch 2/100
36/36 - 14s - loss: 0.0800 - accuracy: 0.2000 - val_loss: 0.0800 - val_accuracy: 0.0661 - lr: 0.0010 - 14s/epoch - 400ms/step
Epoch 3/100
36/36 - 14s - loss: 0.0800 - accuracy: 0.1992 - val_loss: 0.0800 - val_accuracy: 0.0661 - lr: 0.0010 - 14s/epoch - 388ms/step
Epoch 4/100
36/36 - 14s - loss: 0.0800 - accuracy: 0.1994 - val_loss: 0.0800 - val_accuracy: 0.8276 - lr: 0.0010 - 14s/epoch - 385ms/step
Epoch 5/100
36/36 - 14s - loss: 0.0800 - accuracy: 0.1997 - val_loss: 0.0800 - val_accuracy: 0.8276 - lr: 0.0010 - 14s/epoch - 388ms/step
Epoch 6/100
36/36 - 14s - loss: 0.0800 - accuracy: 0.1991 - val_loss: 0.0800 - val_accuracy: 0.0254 - lr: 0.0010 - 14s/epoch - 396ms/step
Epoch 7/100
36/36 - 14s - loss: 0.0800 - accuracy: 0.1970 - val_loss: 0.0800 - val_accuracy: 0.0661 - lr: 0.0010 - 14s/epoch - 395ms/step
Epoch 8/100
36/36 - 14s - loss: 0.0800 - accuracy: 0.1994 - val_loss: 0.0800 - val_accuracy: 0.0661 - lr: 0.0010 - 14s/epoch - 388ms/step
Epoch 9/100
36/36 - 14s - loss: 0.0800 - accuracy: 0.2000 - val_loss: 0.0800 - val_accuracy: 0.0661 - lr: 0.0010 - 14s/epoch - 398ms/step
Epoch 10/100
36/36 - 14s - loss: 0.0800 - accuracy: 0.2009 - val_loss: 0.0801 - val_accuracy: 0.0661 - lr: 0.0010 - 14s/epoch - 389ms/step
Epoch 11/100
36/36 - 14s - loss: 0.0800 - accuracy: 0.2002 - val_loss: 0.0801 - val_accuracy: 0.0661 - lr: 0.0010 - 14s/epoch - 384ms/step
Epoch 12/100
36/36 - 14s - loss: 0.0800 - accuracy: 0.1998 - val_loss: 0.0800 - val_accuracy: 0.0661 - lr: 0.0010 - 14s/epoch - 390ms/step
Epoch 13/100
36/36 - 14s - loss: 0.0800 - accuracy: 0.2000 - val_loss: 0.0800 - val_accuracy: 0.0661 - lr: 0.0010 - 14s/epoch - 380ms/step
Epoch 14/100
36/36 - 14s - loss: 0.0800 - accuracy: 0.1983 - val_loss: 0.0800 - val_accuracy: 0.0661 - lr: 0.0010 - 14s/epoch - 382ms/step
Epoch 15/100
36/36 - 14s - loss: 0.0800 - accuracy: 0.2000 - val_loss: 0.0800 - val_accuracy: 0.0661 - lr: 0.0010 - 14s/epoch - 376ms/step
Epoch 16/100
36/36 - 14s - loss: 0.0800 - accuracy: 0.2001 - val_loss: 0.0801 - val_accuracy: 0.0074 - lr: 0.0010 - 14s/epoch - 377ms/step
Epoch 17/100
36/36 - 13s - loss: 0.0800 - accuracy: 0.2000 - val_loss: 0.0801 - val_accuracy: 0.0074 - lr: 0.0010 - 13s/epoch - 370ms/step
Epoch 18/100
36/36 - 14s - loss: 0.0800 - accuracy: 0.2001 - val_loss: 0.0801 - val_accuracy: 0.0074 - lr: 0.0010 - 14s/epoch - 390ms/step
Epoch 19/100
36/36 - 14s - loss: 0.0800 - accuracy: 0.2004 - val_loss: 0.0801 - val_accuracy: 0.0074 - lr: 0.0010 - 14s/epoch - 392ms/step
Epoch 20/100
36/36 - 14s - loss: 0.0800 - accuracy: 0.2008 - val_loss: 0.0801 - val_accuracy: 0.0074 - lr: 0.0010 - 14s/epoch - 396ms/step
Epoch 21/100
36/36 - 14s - loss: 0.0800 - accuracy: 0.1994 - val_loss: 0.0801 - val_accuracy: 0.0661 - lr: 0.0010 - 14s/epoch - 394ms/step
Epoch 22/100
36/36 - 14s - loss: 0.0800 - accuracy: 0.1980 - val_loss: 0.0801 - val_accuracy: 0.0661 - lr: 0.0010 - 14s/epoch - 393ms/step
Epoch 23/100
36/36 - 14s - loss: 0.0800 - accuracy: 0.2000 - val_loss: 0.0801 - val_accuracy: 0.0661 - lr: 0.0010 - 14s/epoch - 388ms/step
Epoch 24/100
36/36 - 14s - loss: 0.0800 - accuracy: 0.2000 - val_loss: 0.0801 - val_accuracy: 0.0661 - lr: 0.0010 - 14s/epoch - 379ms/step
Epoch 25/100
36/36 - 14s - loss: 0.0800 - accuracy: 0.2000 - val_loss: 0.0800 - val_accuracy: 0.0661 - lr: 0.0010 - 14s/epoch - 394ms/step
Epoch 26/100
36/36 - 14s - loss: 0.0800 - accuracy: 0.1993 - val_loss: 0.0800 - val_accuracy: 0.0074 - lr: 0.0010 - 14s/epoch - 399ms/step
Epoch 27/100
36/36 - 14s - loss: 0.0800 - accuracy: 0.2000 - val_loss: 0.0800 - val_accuracy: 0.0074 - lr: 0.0010 - 14s/epoch - 401ms/step
Epoch 28/100
36/36 - 14s - loss: 0.0800 - accuracy: 0.2000 - val_loss: 0.0800 - val_accuracy: 0.0074 - lr: 0.0010 - 14s/epoch - 394ms/step
Epoch 29/100
36/36 - 14s - loss: 0.0800 - accuracy: 0.2003 - val_loss: 0.0800 - val_accuracy: 0.0661 - lr: 0.0010 - 14s/epoch - 390ms/step
Epoch 30/100
36/36 - 14s - loss: 0.0800 - accuracy: 0.2002 - val_loss: 0.0800 - val_accuracy: 0.0661 - lr: 0.0010 - 14s/epoch - 389ms/step
Epoch 31/100
36/36 - 14s - loss: 0.0800 - accuracy: 0.2003 - val_loss: 0.0800 - val_accuracy: 0.0254 - lr: 0.0010 - 14s/epoch - 391ms/step
Epoch 32/100
36/36 - 14s - loss: 0.0800 - accuracy: 0.1996 - val_loss: 0.0800 - val_accuracy: 0.0074 - lr: 0.0010 - 14s/epoch - 398ms/step
Epoch 33/100
36/36 - 14s - loss: 0.0800 - accuracy: 0.1995 - val_loss: 0.0800 - val_accuracy: 0.0254 - lr: 0.0010 - 14s/epoch - 383ms/step
Epoch 34/100
36/36 - 14s - loss: 0.0800 - accuracy: 0.1982 - val_loss: 0.0800 - val_accuracy: 0.8276 - lr: 0.0010 - 14s/epoch - 402ms/step
Epoch 35/100
36/36 - 14s - loss: 0.0800 - accuracy: 0.1998 - val_loss: 0.0800 - val_accuracy: 0.0074 - lr: 0.0010 - 14s/epoch - 386ms/step
Epoch 36/100
36/36 - 14s - loss: 0.0800 - accuracy: 0.2000 - val_loss: 0.0800 - val_accuracy: 0.0074 - lr: 0.0010 - 14s/epoch - 380ms/step
Epoch 37/100
36/36 - 14s - loss: 0.0800 - accuracy: 0.2000 - val_loss: 0.0800 - val_accuracy: 0.0074 - lr: 0.0010 - 14s/epoch - 391ms/step
Epoch 38/100
36/36 - 14s - loss: 0.0800 - accuracy: 0.2000 - val_loss: 0.0801 - val_accuracy: 0.0074 - lr: 0.0010 - 14s/epoch - 387ms/step
Epoch 39/100
36/36 - 14s - loss: 0.0800 - accuracy: 0.2000 - val_loss: 0.0801 - val_accuracy: 0.0074 - lr: 0.0010 - 14s/epoch - 391ms/step
Epoch 40/100
36/36 - 14s - loss: 0.0800 - accuracy: 0.2000 - val_loss: 0.0800 - val_accuracy: 0.0074 - lr: 0.0010 - 14s/epoch - 393ms/step
Epoch 41/100
36/36 - 14s - loss: 0.0800 - accuracy: 0.2000 - val_loss: 0.0801 - val_accuracy: 0.0074 - lr: 0.0010 - 14s/epoch - 400ms/step
Epoch 42/100
36/36 - 14s - loss: 0.0800 - accuracy: 0.2000 - val_loss: 0.0800 - val_accuracy: 0.0074 - lr: 0.0010 - 14s/epoch - 387ms/step
Epoch 43/100
36/36 - 14s - loss: 0.0800 - accuracy: 0.2000 - val_loss: 0.0801 - val_accuracy: 0.0074 - lr: 0.0010 - 14s/epoch - 388ms/step
Epoch 44/100
36/36 - 14s - loss: 0.0800 - accuracy: 0.2000 - val_loss: 0.0801 - val_accuracy: 0.0074 - lr: 0.0010 - 14s/epoch - 388ms/step
Epoch 45/100
36/36 - 14s - loss: 0.0800 - accuracy: 0.2000 - val_loss: 0.0800 - val_accuracy: 0.0074 - lr: 0.0010 - 14s/epoch - 388ms/step
Epoch 46/100
36/36 - 14s - loss: 0.0800 - accuracy: 0.2000 - val_loss: 0.0800 - val_accuracy: 0.0074 - lr: 0.0010 - 14s/epoch - 389ms/step
Epoch 47/100
36/36 - 14s - loss: 0.0800 - accuracy: 0.2000 - val_loss: 0.0801 - val_accuracy: 0.0074 - lr: 0.0010 - 14s/epoch - 384ms/step
Epoch 48/100
36/36 - 14s - loss: 0.0800 - accuracy: 0.2000 - val_loss: 0.0800 - val_accuracy: 0.0074 - lr: 0.0010 - 14s/epoch - 384ms/step
Epoch 49/100
36/36 - 14s - loss: 0.0800 - accuracy: 0.2000 - val_loss: 0.0801 - val_accuracy: 0.0074 - lr: 0.0010 - 14s/epoch - 382ms/step
Epoch 50/100
36/36 - 14s - loss: 0.0800 - accuracy: 0.2000 - val_loss: 0.0801 - val_accuracy: 0.0074 - lr: 0.0010 - 14s/epoch - 378ms/step
Epoch 51/100
36/36 - 15s - loss: 0.0800 - accuracy: 0.2000 - val_loss: 0.0801 - val_accuracy: 0.0074 - lr: 0.0010 - 15s/epoch - 412ms/step
Epoch 52/100
36/36 - 14s - loss: 0.0800 - accuracy: 0.2000 - val_loss: 0.0800 - val_accuracy: 0.0074 - lr: 0.0010 - 14s/epoch - 383ms/step
Epoch 53/100
36/36 - 13s - loss: 0.0800 - accuracy: 0.2000 - val_loss: 0.0800 - val_accuracy: 0.0074 - lr: 0.0010 - 13s/epoch - 368ms/step
Epoch 54/100
36/36 - 13s - loss: 0.0800 - accuracy: 0.2000 - val_loss: 0.0800 - val_accuracy: 0.0074 - lr: 0.0010 - 13s/epoch - 370ms/step
Epoch 55/100
36/36 - 13s - loss: 0.0800 - accuracy: 0.1984 - val_loss: 0.0800 - val_accuracy: 0.0074 - lr: 0.0010 - 13s/epoch - 367ms/step
Epoch 56/100
36/36 - 13s - loss: 0.0800 - accuracy: 0.2000 - val_loss: 0.0800 - val_accuracy: 0.0074 - lr: 0.0010 - 13s/epoch - 364ms/step
Epoch 57/100
36/36 - 13s - loss: 0.0800 - accuracy: 0.2000 - val_loss: 0.0800 - val_accuracy: 0.0074 - lr: 0.0010 - 13s/epoch - 372ms/step
Epoch 58/100
36/36 - 14s - loss: 0.0800 - accuracy: 0.2001 - val_loss: 0.0799 - val_accuracy: 0.8276 - lr: 0.0010 - 14s/epoch - 393ms/step
Epoch 59/100
36/36 - 14s - loss: 0.0800 - accuracy: 0.2000 - val_loss: 0.0800 - val_accuracy: 0.8276 - lr: 0.0010 - 14s/epoch - 394ms/step
Epoch 60/100
36/36 - 14s - loss: 0.0800 - accuracy: 0.1999 - val_loss: 0.0800 - val_accuracy: 0.0074 - lr: 0.0010 - 14s/epoch - 399ms/step
Epoch 61/100
36/36 - 14s - loss: 0.0800 - accuracy: 0.1991 - val_loss: 0.0800 - val_accuracy: 0.0254 - lr: 0.0010 - 14s/epoch - 396ms/step
Epoch 62/100
36/36 - 14s - loss: 0.0800 - accuracy: 0.1990 - val_loss: 0.0800 - val_accuracy: 0.0254 - lr: 0.0010 - 14s/epoch - 396ms/step
Epoch 63/100
36/36 - 14s - loss: 0.0800 - accuracy: 0.1980 - val_loss: 0.0800 - val_accuracy: 0.8276 - lr: 0.0010 - 14s/epoch - 392ms/step
Epoch 64/100
36/36 - 14s - loss: 0.0800 - accuracy: 0.1980 - val_loss: 0.0800 - val_accuracy: 0.0254 - lr: 0.0010 - 14s/epoch - 392ms/step
Epoch 65/100
36/36 - 14s - loss: 0.0800 - accuracy: 0.1993 - val_loss: 0.0800 - val_accuracy: 0.8276 - lr: 0.0010 - 14s/epoch - 379ms/step
Epoch 66/100
36/36 - 14s - loss: 0.0800 - accuracy: 0.2001 - val_loss: 0.0800 - val_accuracy: 0.8276 - lr: 0.0010 - 14s/epoch - 390ms/step
Epoch 67/100
36/36 - 14s - loss: 0.0800 - accuracy: 0.2003 - val_loss: 0.0800 - val_accuracy: 0.0074 - lr: 0.0010 - 14s/epoch - 394ms/step
Epoch 68/100
36/36 - 14s - loss: 0.0800 - accuracy: 0.2000 - val_loss: 0.0800 - val_accuracy: 0.0074 - lr: 0.0010 - 14s/epoch - 384ms/step
Epoch 69/100
36/36 - 14s - loss: 0.0800 - accuracy: 0.1998 - val_loss: 0.0800 - val_accuracy: 0.0074 - lr: 0.0010 - 14s/epoch - 392ms/step
Epoch 70/100
36/36 - 14s - loss: 0.0800 - accuracy: 0.1998 - val_loss: 0.0800 - val_accuracy: 0.0074 - lr: 0.0010 - 14s/epoch - 388ms/step
Epoch 71/100
36/36 - 14s - loss: 0.0800 - accuracy: 0.2003 - val_loss: 0.0800 - val_accuracy: 0.8276 - lr: 0.0010 - 14s/epoch - 386ms/step
Epoch 72/100
36/36 - 14s - loss: 0.0800 - accuracy: 0.2000 - val_loss: 0.0800 - val_accuracy: 0.8276 - lr: 0.0010 - 14s/epoch - 392ms/step
Epoch 73/100
36/36 - 14s - loss: 0.0800 - accuracy: 0.2000 - val_loss: 0.0799 - val_accuracy: 0.8276 - lr: 0.0010 - 14s/epoch - 378ms/step
Epoch 74/100
36/36 - 14s - loss: 0.0800 - accuracy: 0.2000 - val_loss: 0.0799 - val_accuracy: 0.8276 - lr: 0.0010 - 14s/epoch - 394ms/step
Epoch 75/100
36/36 - 14s - loss: 0.0800 - accuracy: 0.2000 - val_loss: 0.0799 - val_accuracy: 0.8276 - lr: 0.0010 - 14s/epoch - 378ms/step
Epoch 76/100
36/36 - 14s - loss: 0.0800 - accuracy: 0.2000 - val_loss: 0.0799 - val_accuracy: 0.8276 - lr: 0.0010 - 14s/epoch - 381ms/step
Epoch 77/100
36/36 - 14s - loss: 0.0800 - accuracy: 0.2019 - val_loss: 0.0800 - val_accuracy: 0.0254 - lr: 0.0010 - 14s/epoch - 381ms/step
Epoch 78/100
36/36 - 13s - loss: 0.0800 - accuracy: 0.2000 - val_loss: 0.0800 - val_accuracy: 0.0254 - lr: 0.0010 - 13s/epoch - 372ms/step
Epoch 79/100
36/36 - 14s - loss: 0.0800 - accuracy: 0.2000 - val_loss: 0.0800 - val_accuracy: 0.0254 - lr: 0.0010 - 14s/epoch - 379ms/step
Epoch 80/100
36/36 - 14s - loss: 0.0800 - accuracy: 0.2000 - val_loss: 0.0800 - val_accuracy: 0.0254 - lr: 0.0010 - 14s/epoch - 392ms/step
Epoch 81/100
36/36 - 15s - loss: 0.0800 - accuracy: 0.2000 - val_loss: 0.0800 - val_accuracy: 0.0254 - lr: 0.0010 - 15s/epoch - 404ms/step
Epoch 82/100
36/36 - 14s - loss: 0.0800 - accuracy: 0.2000 - val_loss: 0.0801 - val_accuracy: 0.0254 - lr: 0.0010 - 14s/epoch - 397ms/step
Epoch 83/100
36/36 - 14s - loss: 0.0800 - accuracy: 0.2000 - val_loss: 0.0801 - val_accuracy: 0.0254 - lr: 0.0010 - 14s/epoch - 394ms/step
Epoch 84/100
36/36 - 14s - loss: 0.0800 - accuracy: 0.1967 - val_loss: 0.0801 - val_accuracy: 0.0254 - lr: 0.0010 - 14s/epoch - 398ms/step
Epoch 85/100
36/36 - 14s - loss: 0.0800 - accuracy: 0.1995 - val_loss: 0.0801 - val_accuracy: 0.0254 - lr: 0.0010 - 14s/epoch - 394ms/step
Epoch 86/100
36/36 - 14s - loss: 0.0800 - accuracy: 0.1995 - val_loss: 0.0801 - val_accuracy: 0.0074 - lr: 0.0010 - 14s/epoch - 396ms/step
Epoch 87/100
36/36 - 14s - loss: 0.0800 - accuracy: 0.2001 - val_loss: 0.0801 - val_accuracy: 0.0254 - lr: 0.0010 - 14s/epoch - 387ms/step
Epoch 88/100
36/36 - 14s - loss: 0.0800 - accuracy: 0.2000 - val_loss: 0.0800 - val_accuracy: 0.0254 - lr: 0.0010 - 14s/epoch - 391ms/step
Epoch 89/100
36/36 - 14s - loss: 0.0800 - accuracy: 0.2000 - val_loss: 0.0800 - val_accuracy: 0.0254 - lr: 0.0010 - 14s/epoch - 393ms/step
Epoch 90/100
36/36 - 14s - loss: 0.0800 - accuracy: 0.1979 - val_loss: 0.0800 - val_accuracy: 0.0074 - lr: 0.0010 - 14s/epoch - 382ms/step
Epoch 91/100
36/36 - 14s - loss: 0.0800 - accuracy: 0.1993 - val_loss: 0.0800 - val_accuracy: 0.0254 - lr: 0.0010 - 14s/epoch - 379ms/step
Epoch 92/100
36/36 - 14s - loss: 0.0800 - accuracy: 0.2000 - val_loss: 0.0800 - val_accuracy: 0.0254 - lr: 0.0010 - 14s/epoch - 382ms/step
Epoch 93/100
36/36 - 14s - loss: 0.0800 - accuracy: 0.1989 - val_loss: 0.0800 - val_accuracy: 0.0254 - lr: 0.0010 - 14s/epoch - 382ms/step
Epoch 94/100
36/36 - 14s - loss: 0.0800 - accuracy: 0.1994 - val_loss: 0.0800 - val_accuracy: 0.0254 - lr: 0.0010 - 14s/epoch - 378ms/step
Epoch 95/100
36/36 - 14s - loss: 0.0800 - accuracy: 0.1987 - val_loss: 0.0800 - val_accuracy: 0.8276 - lr: 0.0010 - 14s/epoch - 382ms/step
Epoch 96/100
36/36 - 14s - loss: 0.0800 - accuracy: 0.2000 - val_loss: 0.0799 - val_accuracy: 0.8276 - lr: 0.0010 - 14s/epoch - 391ms/step
Epoch 97/100
36/36 - 14s - loss: 0.0800 - accuracy: 0.2000 - val_loss: 0.0799 - val_accuracy: 0.8276 - lr: 0.0010 - 14s/epoch - 384ms/step
Epoch 98/100
36/36 - 14s - loss: 0.0800 - accuracy: 0.2000 - val_loss: 0.0800 - val_accuracy: 0.8276 - lr: 0.0010 - 14s/epoch - 392ms/step
Epoch 99/100
36/36 - 14s - loss: 0.0800 - accuracy: 0.2000 - val_loss: 0.0799 - val_accuracy: 0.8276 - lr: 0.0010 - 14s/epoch - 390ms/step
Epoch 100/100
36/36 - 14s - loss: 0.0800 - accuracy: 0.2000 - val_loss: 0.0799 - val_accuracy: 0.8276 - lr: 0.0010 - 14s/epoch - 386ms/step
Epoch 1/25
4378/4378 - 87s - loss: 1.6095 - accuracy: 0.2000 - val_loss: 1.6177 - val_accuracy: 0.0735 - lr: 0.0010 - 87s/epoch - 20ms/step
Epoch 2/25
4378/4378 - 85s - loss: 1.6095 - accuracy: 0.1993 - val_loss: 1.6093 - val_accuracy: 0.0254 - lr: 0.0010 - 85s/epoch - 19ms/step
Epoch 3/25
4378/4378 - 85s - loss: 1.6095 - accuracy: 0.1985 - val_loss: 1.6145 - val_accuracy: 0.0254 - lr: 0.0010 - 85s/epoch - 19ms/step
Epoch 4/25
4378/4378 - 87s - loss: 1.6095 - accuracy: 0.2003 - val_loss: 1.6112 - val_accuracy: 0.0735 - lr: 0.0010 - 87s/epoch - 20ms/step
Epoch 5/25
4378/4378 - 87s - loss: 1.6095 - accuracy: 0.1979 - val_loss: 1.6050 - val_accuracy: 0.8276 - lr: 0.0010 - 87s/epoch - 20ms/step
Epoch 6/25
4378/4378 - 88s - loss: 1.6095 - accuracy: 0.1993 - val_loss: 1.5948 - val_accuracy: 0.8276 - lr: 0.0010 - 88s/epoch - 20ms/step
Epoch 7/25
4378/4378 - 88s - loss: 1.6095 - accuracy: 0.1996 - val_loss: 1.6103 - val_accuracy: 0.0254 - lr: 0.0010 - 88s/epoch - 20ms/step
Epoch 8/25
4378/4378 - 88s - loss: 1.6095 - accuracy: 0.1988 - val_loss: 1.6073 - val_accuracy: 0.0735 - lr: 0.0010 - 88s/epoch - 20ms/step
Epoch 9/25
4378/4378 - 88s - loss: 1.6095 - accuracy: 0.1986 - val_loss: 1.6218 - val_accuracy: 0.0254 - lr: 0.0010 - 88s/epoch - 20ms/step
Epoch 10/25
4378/4378 - 88s - loss: 1.6095 - accuracy: 0.2003 - val_loss: 1.6044 - val_accuracy: 0.8276 - lr: 0.0010 - 88s/epoch - 20ms/step
Epoch 11/25
4378/4378 - 84s - loss: 1.6095 - accuracy: 0.2003 - val_loss: 1.6094 - val_accuracy: 0.0661 - lr: 0.0010 - 84s/epoch - 19ms/step
Epoch 12/25
4378/4378 - 84s - loss: 1.6095 - accuracy: 0.1989 - val_loss: 1.6004 - val_accuracy: 0.0735 - lr: 0.0010 - 84s/epoch - 19ms/step
Epoch 13/25
4378/4378 - 86s - loss: 1.6095 - accuracy: 0.2001 - val_loss: 1.6170 - val_accuracy: 0.0735 - lr: 0.0010 - 86s/epoch - 20ms/step
Epoch 14/25
4378/4378 - 85s - loss: 1.6095 - accuracy: 0.1980 - val_loss: 1.6145 - val_accuracy: 0.0735 - lr: 0.0010 - 85s/epoch - 19ms/step
Epoch 15/25
4378/4378 - 86s - loss: 1.6095 - accuracy: 0.1996 - val_loss: 1.5977 - val_accuracy: 0.8276 - lr: 0.0010 - 86s/epoch - 20ms/step
Epoch 16/25
4378/4378 - 85s - loss: 1.6095 - accuracy: 0.1989 - val_loss: 1.6175 - val_accuracy: 0.0254 - lr: 0.0010 - 85s/epoch - 19ms/step
Epoch 17/25
4378/4378 - 84s - loss: 1.6095 - accuracy: 0.2004 - val_loss: 1.5896 - val_accuracy: 0.8276 - lr: 0.0010 - 84s/epoch - 19ms/step
Epoch 18/25
4378/4378 - 84s - loss: 1.6095 - accuracy: 0.1990 - val_loss: 1.6062 - val_accuracy: 0.0254 - lr: 0.0010 - 84s/epoch - 19ms/step
Epoch 19/25
4378/4378 - 85s - loss: 1.6095 - accuracy: 0.1990 - val_loss: 1.6057 - val_accuracy: 0.0661 - lr: 0.0010 - 85s/epoch - 19ms/step
Epoch 20/25
4378/4378 - 85s - loss: 1.6095 - accuracy: 0.1972 - val_loss: 1.6033 - val_accuracy: 0.8276 - lr: 0.0010 - 85s/epoch - 20ms/step
Epoch 21/25
4378/4378 - 85s - loss: 1.6095 - accuracy: 0.1996 - val_loss: 1.6110 - val_accuracy: 0.0254 - lr: 0.0010 - 85s/epoch - 19ms/step
Epoch 22/25
4378/4378 - 84s - loss: 1.6095 - accuracy: 0.1980 - val_loss: 1.6049 - val_accuracy: 0.0661 - lr: 0.0010 - 84s/epoch - 19ms/step
Epoch 23/25
4378/4378 - 88s - loss: 1.6095 - accuracy: 0.2007 - val_loss: 1.6092 - val_accuracy: 0.0735 - lr: 0.0010 - 88s/epoch - 20ms/step
Epoch 24/25
4378/4378 - 89s - loss: 1.6095 - accuracy: 0.1980 - val_loss: 1.6118 - val_accuracy: 0.0254 - lr: 0.0010 - 89s/epoch - 20ms/step
Epoch 25/25
4378/4378 - 89s - loss: 1.6095 - accuracy: 0.1975 - val_loss: 1.6100 - val_accuracy: 0.0735 - lr: 0.0010 - 89s/epoch - 20ms/step
Epoch 1/25
876/876 - 40s - loss: 1.6095 - accuracy: 0.1981 - val_loss: 1.6073 - val_accuracy: 0.0735 - lr: 0.0010 - 40s/epoch - 45ms/step
Epoch 2/25
876/876 - 28s - loss: 1.6095 - accuracy: 0.1997 - val_loss: 1.6149 - val_accuracy: 0.0254 - lr: 0.0010 - 28s/epoch - 32ms/step
Epoch 3/25
876/876 - 28s - loss: 1.6095 - accuracy: 0.1980 - val_loss: 1.6010 - val_accuracy: 0.8276 - lr: 0.0010 - 28s/epoch - 32ms/step
Epoch 4/25
876/876 - 28s - loss: 1.6095 - accuracy: 0.1974 - val_loss: 1.6094 - val_accuracy: 0.0254 - lr: 0.0010 - 28s/epoch - 32ms/step
Epoch 5/25
876/876 - 28s - loss: 1.6095 - accuracy: 0.2005 - val_loss: 1.6128 - val_accuracy: 0.0074 - lr: 0.0010 - 28s/epoch - 32ms/step
Epoch 6/25
876/876 - 28s - loss: 1.6095 - accuracy: 0.1989 - val_loss: 1.6135 - val_accuracy: 0.0735 - lr: 0.0010 - 28s/epoch - 32ms/step
Epoch 7/25
876/876 - 28s - loss: 1.6095 - accuracy: 0.1982 - val_loss: 1.6122 - val_accuracy: 0.0254 - lr: 0.0010 - 28s/epoch - 32ms/step
Epoch 8/25
876/876 - 28s - loss: 1.6095 - accuracy: 0.1996 - val_loss: 1.6102 - val_accuracy: 0.0661 - lr: 0.0010 - 28s/epoch - 32ms/step
Epoch 9/25
876/876 - 28s - loss: 1.6095 - accuracy: 0.1986 - val_loss: 1.6064 - val_accuracy: 0.8276 - lr: 0.0010 - 28s/epoch - 32ms/step
Epoch 10/25
876/876 - 28s - loss: 1.6095 - accuracy: 0.1977 - val_loss: 1.6086 - val_accuracy: 0.0735 - lr: 0.0010 - 28s/epoch - 32ms/step
Epoch 11/25
876/876 - 28s - loss: 1.6095 - accuracy: 0.1991 - val_loss: 1.6109 - val_accuracy: 0.0254 - lr: 0.0010 - 28s/epoch - 32ms/step
Epoch 12/25
876/876 - 28s - loss: 1.6095 - accuracy: 0.2009 - val_loss: 1.6103 - val_accuracy: 0.0074 - lr: 0.0010 - 28s/epoch - 32ms/step
Epoch 13/25
876/876 - 28s - loss: 1.6095 - accuracy: 0.1966 - val_loss: 1.6083 - val_accuracy: 0.0074 - lr: 0.0010 - 28s/epoch - 32ms/step
Epoch 14/25
876/876 - 28s - loss: 1.6095 - accuracy: 0.1993 - val_loss: 1.6050 - val_accuracy: 0.0074 - lr: 0.0010 - 28s/epoch - 32ms/step
Epoch 15/25
876/876 - 28s - loss: 1.6095 - accuracy: 0.1978 - val_loss: 1.6089 - val_accuracy: 0.8276 - lr: 0.0010 - 28s/epoch - 31ms/step
Epoch 16/25
876/876 - 28s - loss: 1.6095 - accuracy: 0.1973 - val_loss: 1.6108 - val_accuracy: 0.0661 - lr: 0.0010 - 28s/epoch - 32ms/step
Epoch 17/25
876/876 - 28s - loss: 1.6095 - accuracy: 0.1984 - val_loss: 1.6111 - val_accuracy: 0.0735 - lr: 0.0010 - 28s/epoch - 32ms/step
Epoch 18/25
876/876 - 28s - loss: 1.6095 - accuracy: 0.2004 - val_loss: 1.6070 - val_accuracy: 0.0074 - lr: 0.0010 - 28s/epoch - 32ms/step
Epoch 19/25
876/876 - 28s - loss: 1.6095 - accuracy: 0.1987 - val_loss: 1.6095 - val_accuracy: 0.0661 - lr: 0.0010 - 28s/epoch - 32ms/step
Epoch 20/25
876/876 - 28s - loss: 1.6095 - accuracy: 0.1966 - val_loss: 1.6077 - val_accuracy: 0.8276 - lr: 0.0010 - 28s/epoch - 32ms/step
Epoch 21/25
876/876 - 28s - loss: 1.6095 - accuracy: 0.1987 - val_loss: 1.6065 - val_accuracy: 0.8276 - lr: 0.0010 - 28s/epoch - 32ms/step
Epoch 22/25
876/876 - 28s - loss: 1.6095 - accuracy: 0.1967 - val_loss: 1.6079 - val_accuracy: 0.0735 - lr: 0.0010 - 28s/epoch - 32ms/step
Epoch 23/25
876/876 - 28s - loss: 1.6095 - accuracy: 0.1989 - val_loss: 1.6095 - val_accuracy: 0.0254 - lr: 0.0010 - 28s/epoch - 32ms/step
Epoch 24/25
876/876 - 28s - loss: 1.6095 - accuracy: 0.1994 - val_loss: 1.6076 - val_accuracy: 0.0074 - lr: 0.0010 - 28s/epoch - 32ms/step
Epoch 25/25
876/876 - 28s - loss: 1.6095 - accuracy: 0.1981 - val_loss: 1.6115 - val_accuracy: 0.0074 - lr: 0.0010 - 28s/epoch - 32ms/step
Epoch 1/25
176/176 - 20s - loss: 1.6094 - accuracy: 0.1986 - val_loss: 1.6106 - val_accuracy: 0.0074 - lr: 0.0010 - 20s/epoch - 114ms/step
Epoch 2/25
176/176 - 17s - loss: 1.6094 - accuracy: 0.2001 - val_loss: 1.6101 - val_accuracy: 0.0074 - lr: 0.0010 - 17s/epoch - 99ms/step
Epoch 3/25
176/176 - 17s - loss: 1.6094 - accuracy: 0.1965 - val_loss: 1.6103 - val_accuracy: 0.0735 - lr: 0.0010 - 17s/epoch - 99ms/step
Epoch 4/25
176/176 - 17s - loss: 1.6094 - accuracy: 0.1990 - val_loss: 1.6102 - val_accuracy: 0.0074 - lr: 0.0010 - 17s/epoch - 98ms/step
Epoch 5/25
176/176 - 17s - loss: 1.6094 - accuracy: 0.1979 - val_loss: 1.6102 - val_accuracy: 0.0074 - lr: 0.0010 - 17s/epoch - 99ms/step
Epoch 6/25
176/176 - 17s - loss: 1.6094 - accuracy: 0.1990 - val_loss: 1.6102 - val_accuracy: 0.0735 - lr: 0.0010 - 17s/epoch - 99ms/step
Epoch 7/25
176/176 - 18s - loss: 1.6094 - accuracy: 0.1994 - val_loss: 1.6104 - val_accuracy: 0.0074 - lr: 0.0010 - 18s/epoch - 100ms/step
Epoch 8/25
176/176 - 18s - loss: 1.6095 - accuracy: 0.1982 - val_loss: 1.6095 - val_accuracy: 0.0661 - lr: 0.0010 - 18s/epoch - 100ms/step
Epoch 9/25
176/176 - 18s - loss: 1.6094 - accuracy: 0.1983 - val_loss: 1.6104 - val_accuracy: 0.0074 - lr: 0.0010 - 18s/epoch - 100ms/step
Epoch 10/25
176/176 - 17s - loss: 1.6094 - accuracy: 0.1982 - val_loss: 1.6103 - val_accuracy: 0.0074 - lr: 0.0010 - 17s/epoch - 99ms/step
Epoch 11/25
176/176 - 17s - loss: 1.6094 - accuracy: 0.1981 - val_loss: 1.6097 - val_accuracy: 0.0661 - lr: 0.0010 - 17s/epoch - 99ms/step
Epoch 12/25
176/176 - 17s - loss: 1.6094 - accuracy: 0.1978 - val_loss: 1.6101 - val_accuracy: 0.0074 - lr: 0.0010 - 17s/epoch - 99ms/step
Epoch 13/25
176/176 - 18s - loss: 1.6094 - accuracy: 0.1995 - val_loss: 1.6090 - val_accuracy: 0.0074 - lr: 0.0010 - 18s/epoch - 99ms/step
Epoch 14/25
176/176 - 18s - loss: 1.6094 - accuracy: 0.1992 - val_loss: 1.6092 - val_accuracy: 0.0074 - lr: 0.0010 - 18s/epoch - 100ms/step
Epoch 15/25
176/176 - 17s - loss: 1.6094 - accuracy: 0.1985 - val_loss: 1.6096 - val_accuracy: 0.0074 - lr: 0.0010 - 17s/epoch - 99ms/step
Epoch 16/25
176/176 - 17s - loss: 1.6094 - accuracy: 0.1957 - val_loss: 1.6091 - val_accuracy: 0.8276 - lr: 0.0010 - 17s/epoch - 98ms/step
Epoch 17/25
176/176 - 18s - loss: 1.6094 - accuracy: 0.1970 - val_loss: 1.6088 - val_accuracy: 0.8276 - lr: 0.0010 - 18s/epoch - 100ms/step
Epoch 18/25
176/176 - 17s - loss: 1.6094 - accuracy: 0.1979 - val_loss: 1.6093 - val_accuracy: 0.0661 - lr: 0.0010 - 17s/epoch - 99ms/step
Epoch 19/25
176/176 - 18s - loss: 1.6094 - accuracy: 0.1988 - val_loss: 1.6103 - val_accuracy: 0.0254 - lr: 0.0010 - 18s/epoch - 100ms/step
Epoch 20/25
176/176 - 18s - loss: 1.6094 - accuracy: 0.1988 - val_loss: 1.6108 - val_accuracy: 0.0254 - lr: 0.0010 - 18s/epoch - 100ms/step
Epoch 21/25
176/176 - 18s - loss: 1.6094 - accuracy: 0.1998 - val_loss: 1.6092 - val_accuracy: 0.0661 - lr: 0.0010 - 18s/epoch - 100ms/step
Epoch 22/25
176/176 - 18s - loss: 1.6094 - accuracy: 0.1983 - val_loss: 1.6097 - val_accuracy: 0.0735 - lr: 0.0010 - 18s/epoch - 100ms/step
Epoch 23/25
176/176 - 17s - loss: 1.6094 - accuracy: 0.1987 - val_loss: 1.6085 - val_accuracy: 0.8276 - lr: 0.0010 - 17s/epoch - 99ms/step
Epoch 24/25
176/176 - 17s - loss: 1.6094 - accuracy: 0.1985 - val_loss: 1.6091 - val_accuracy: 0.0254 - lr: 0.0010 - 17s/epoch - 98ms/step
Epoch 25/25
176/176 - 17s - loss: 1.6094 - accuracy: 0.1958 - val_loss: 1.6087 - val_accuracy: 0.8276 - lr: 0.0010 - 17s/epoch - 99ms/step
Epoch 1/25
36/36 - 19s - loss: 1.6094 - accuracy: 0.1989 - val_loss: 1.6086 - val_accuracy: 0.0661 - lr: 0.0010 - 19s/epoch - 517ms/step
Epoch 2/25
36/36 - 16s - loss: 1.6094 - accuracy: 0.2004 - val_loss: 1.6079 - val_accuracy: 0.8276 - lr: 0.0010 - 16s/epoch - 450ms/step
Epoch 3/25
36/36 - 16s - loss: 1.6094 - accuracy: 0.1999 - val_loss: 1.6078 - val_accuracy: 0.8276 - lr: 0.0010 - 16s/epoch - 444ms/step
Epoch 4/25
36/36 - 16s - loss: 1.6094 - accuracy: 0.2007 - val_loss: 1.6087 - val_accuracy: 0.0661 - lr: 0.0010 - 16s/epoch - 445ms/step
Epoch 5/25
36/36 - 16s - loss: 1.6094 - accuracy: 0.2000 - val_loss: 1.6087 - val_accuracy: 0.0661 - lr: 0.0010 - 16s/epoch - 444ms/step
Epoch 6/25
36/36 - 16s - loss: 1.6094 - accuracy: 0.2000 - val_loss: 1.6088 - val_accuracy: 0.0661 - lr: 0.0010 - 16s/epoch - 443ms/step
Epoch 7/25
36/36 - 16s - loss: 1.6094 - accuracy: 0.2000 - val_loss: 1.6092 - val_accuracy: 0.0661 - lr: 0.0010 - 16s/epoch - 449ms/step
Epoch 8/25
36/36 - 16s - loss: 1.6094 - accuracy: 0.2000 - val_loss: 1.6088 - val_accuracy: 0.0661 - lr: 0.0010 - 16s/epoch - 446ms/step
Epoch 9/25
36/36 - 16s - loss: 1.6094 - accuracy: 0.1999 - val_loss: 1.6083 - val_accuracy: 0.8276 - lr: 0.0010 - 16s/epoch - 448ms/step
Epoch 10/25
36/36 - 16s - loss: 1.6094 - accuracy: 0.1982 - val_loss: 1.6087 - val_accuracy: 0.0661 - lr: 0.0010 - 16s/epoch - 445ms/step
Epoch 11/25
36/36 - 16s - loss: 1.6094 - accuracy: 0.2000 - val_loss: 1.6083 - val_accuracy: 0.0661 - lr: 0.0010 - 16s/epoch - 445ms/step
Epoch 12/25
36/36 - 16s - loss: 1.6094 - accuracy: 0.2008 - val_loss: 1.6083 - val_accuracy: 0.8276 - lr: 0.0010 - 16s/epoch - 444ms/step
Epoch 13/25
36/36 - 16s - loss: 1.6094 - accuracy: 0.1994 - val_loss: 1.6090 - val_accuracy: 0.0661 - lr: 0.0010 - 16s/epoch - 448ms/step
Epoch 14/25
36/36 - 16s - loss: 1.6094 - accuracy: 0.1999 - val_loss: 1.6099 - val_accuracy: 0.0661 - lr: 0.0010 - 16s/epoch - 442ms/step
Epoch 15/25
36/36 - 16s - loss: 1.6094 - accuracy: 0.1988 - val_loss: 1.6103 - val_accuracy: 0.0074 - lr: 0.0010 - 16s/epoch - 447ms/step
Epoch 16/25
36/36 - 16s - loss: 1.6094 - accuracy: 0.2000 - val_loss: 1.6095 - val_accuracy: 0.0074 - lr: 0.0010 - 16s/epoch - 445ms/step
Epoch 17/25
36/36 - 16s - loss: 1.6094 - accuracy: 0.1995 - val_loss: 1.6091 - val_accuracy: 0.0074 - lr: 0.0010 - 16s/epoch - 445ms/step
Epoch 18/25
36/36 - 16s - loss: 1.6094 - accuracy: 0.2002 - val_loss: 1.6088 - val_accuracy: 0.8276 - lr: 0.0010 - 16s/epoch - 444ms/step
Epoch 19/25
36/36 - 16s - loss: 1.6094 - accuracy: 0.2013 - val_loss: 1.6089 - val_accuracy: 0.0074 - lr: 0.0010 - 16s/epoch - 446ms/step
Epoch 20/25
36/36 - 16s - loss: 1.6094 - accuracy: 0.2000 - val_loss: 1.6097 - val_accuracy: 0.0735 - lr: 0.0010 - 16s/epoch - 441ms/step
Epoch 21/25
36/36 - 16s - loss: 1.6094 - accuracy: 0.1987 - val_loss: 1.6096 - val_accuracy: 0.0074 - lr: 0.0010 - 16s/epoch - 446ms/step
Epoch 22/25
36/36 - 16s - loss: 1.6094 - accuracy: 0.1995 - val_loss: 1.6102 - val_accuracy: 0.0074 - lr: 0.0010 - 16s/epoch - 447ms/step
Epoch 23/25
36/36 - 16s - loss: 1.6094 - accuracy: 0.2001 - val_loss: 1.6105 - val_accuracy: 0.0661 - lr: 0.0010 - 16s/epoch - 447ms/step
Epoch 24/25
36/36 - 16s - loss: 1.6094 - accuracy: 0.1997 - val_loss: 1.6097 - val_accuracy: 0.0735 - lr: 0.0010 - 16s/epoch - 442ms/step
Epoch 25/25
36/36 - 16s - loss: 1.6094 - accuracy: 0.2000 - val_loss: 1.6091 - val_accuracy: 0.0735 - lr: 0.0010 - 16s/epoch - 440ms/step
Epoch 1/50
4378/4378 - 91s - loss: 1.6095 - accuracy: 0.1982 - val_loss: 1.6057 - val_accuracy: 0.0661 - lr: 0.0010 - 91s/epoch - 21ms/step
Epoch 2/50
4378/4378 - 88s - loss: 1.6095 - accuracy: 0.1991 - val_loss: 1.6084 - val_accuracy: 0.0254 - lr: 0.0010 - 88s/epoch - 20ms/step
Epoch 3/50
4378/4378 - 88s - loss: 1.6095 - accuracy: 0.1986 - val_loss: 1.5988 - val_accuracy: 0.8276 - lr: 0.0010 - 88s/epoch - 20ms/step
Epoch 4/50
4378/4378 - 89s - loss: 1.6095 - accuracy: 0.1984 - val_loss: 1.6141 - val_accuracy: 0.0661 - lr: 0.0010 - 89s/epoch - 20ms/step
Epoch 5/50
4378/4378 - 89s - loss: 1.6095 - accuracy: 0.1978 - val_loss: 1.6222 - val_accuracy: 0.0074 - lr: 0.0010 - 89s/epoch - 20ms/step
Epoch 6/50
4378/4378 - 88s - loss: 1.6095 - accuracy: 0.1991 - val_loss: 1.6190 - val_accuracy: 0.0735 - lr: 0.0010 - 88s/epoch - 20ms/step
Epoch 7/50
4378/4378 - 89s - loss: 1.6095 - accuracy: 0.1977 - val_loss: 1.6025 - val_accuracy: 0.8276 - lr: 0.0010 - 89s/epoch - 20ms/step
Epoch 8/50
4378/4378 - 88s - loss: 1.6095 - accuracy: 0.1989 - val_loss: 1.6113 - val_accuracy: 0.0661 - lr: 0.0010 - 88s/epoch - 20ms/step
Epoch 9/50
4378/4378 - 89s - loss: 1.6095 - accuracy: 0.1987 - val_loss: 1.6083 - val_accuracy: 0.0254 - lr: 0.0010 - 89s/epoch - 20ms/step
Epoch 10/50
4378/4378 - 89s - loss: 1.6095 - accuracy: 0.1986 - val_loss: 1.6070 - val_accuracy: 0.0735 - lr: 0.0010 - 89s/epoch - 20ms/step
Epoch 11/50
4378/4378 - 88s - loss: 1.6095 - accuracy: 0.1981 - val_loss: 1.6130 - val_accuracy: 0.0254 - lr: 0.0010 - 88s/epoch - 20ms/step
Epoch 12/50
4378/4378 - 88s - loss: 1.6095 - accuracy: 0.1978 - val_loss: 1.6112 - val_accuracy: 0.0074 - lr: 0.0010 - 88s/epoch - 20ms/step
Epoch 13/50
4378/4378 - 87s - loss: 1.6095 - accuracy: 0.1995 - val_loss: 1.6113 - val_accuracy: 0.0661 - lr: 0.0010 - 87s/epoch - 20ms/step
Epoch 14/50
4378/4378 - 84s - loss: 1.6095 - accuracy: 0.1967 - val_loss: 1.6136 - val_accuracy: 0.0735 - lr: 0.0010 - 84s/epoch - 19ms/step
Epoch 15/50
4378/4378 - 85s - loss: 1.6095 - accuracy: 0.1960 - val_loss: 1.6096 - val_accuracy: 0.0254 - lr: 0.0010 - 85s/epoch - 19ms/step
Epoch 16/50
4378/4378 - 85s - loss: 1.6095 - accuracy: 0.1979 - val_loss: 1.6098 - val_accuracy: 0.0254 - lr: 0.0010 - 85s/epoch - 19ms/step
Epoch 17/50
4378/4378 - 82s - loss: 1.6095 - accuracy: 0.2006 - val_loss: 1.6058 - val_accuracy: 0.0074 - lr: 0.0010 - 82s/epoch - 19ms/step
Epoch 18/50
4378/4378 - 84s - loss: 1.6095 - accuracy: 0.1981 - val_loss: 1.6084 - val_accuracy: 0.0074 - lr: 0.0010 - 84s/epoch - 19ms/step
Epoch 19/50
4378/4378 - 84s - loss: 1.6095 - accuracy: 0.1976 - val_loss: 1.6055 - val_accuracy: 0.0254 - lr: 0.0010 - 84s/epoch - 19ms/step
Epoch 20/50
4378/4378 - 84s - loss: 1.6095 - accuracy: 0.1985 - val_loss: 1.6066 - val_accuracy: 0.0254 - lr: 0.0010 - 84s/epoch - 19ms/step
Epoch 21/50
4378/4378 - 84s - loss: 1.6095 - accuracy: 0.1981 - val_loss: 1.6082 - val_accuracy: 0.0074 - lr: 0.0010 - 84s/epoch - 19ms/step
Epoch 22/50
4378/4378 - 84s - loss: 1.6095 - accuracy: 0.1983 - val_loss: 1.6087 - val_accuracy: 0.0074 - lr: 0.0010 - 84s/epoch - 19ms/step
Epoch 23/50
4378/4378 - 87s - loss: 1.6095 - accuracy: 0.1989 - val_loss: 1.6114 - val_accuracy: 0.0254 - lr: 0.0010 - 87s/epoch - 20ms/step
Epoch 24/50
4378/4378 - 86s - loss: 1.6095 - accuracy: 0.1959 - val_loss: 1.6169 - val_accuracy: 0.0735 - lr: 0.0010 - 86s/epoch - 20ms/step
Epoch 25/50
4378/4378 - 85s - loss: 1.6095 - accuracy: 0.1994 - val_loss: 1.6101 - val_accuracy: 0.0254 - lr: 0.0010 - 85s/epoch - 19ms/step
Epoch 26/50
4378/4378 - 84s - loss: 1.6095 - accuracy: 0.1980 - val_loss: 1.6073 - val_accuracy: 0.0254 - lr: 0.0010 - 84s/epoch - 19ms/step
Epoch 27/50
4378/4378 - 86s - loss: 1.6095 - accuracy: 0.1988 - val_loss: 1.6015 - val_accuracy: 0.0661 - lr: 0.0010 - 86s/epoch - 20ms/step
Epoch 28/50
4378/4378 - 92s - loss: 1.6095 - accuracy: 0.1987 - val_loss: 1.6014 - val_accuracy: 0.8276 - lr: 0.0010 - 92s/epoch - 21ms/step
Epoch 29/50
4378/4378 - 88s - loss: 1.6095 - accuracy: 0.1972 - val_loss: 1.5959 - val_accuracy: 0.8276 - lr: 0.0010 - 88s/epoch - 20ms/step
Epoch 30/50
4378/4378 - 88s - loss: 1.6095 - accuracy: 0.1990 - val_loss: 1.6100 - val_accuracy: 0.0074 - lr: 0.0010 - 88s/epoch - 20ms/step
Epoch 31/50
4378/4378 - 86s - loss: 1.6095 - accuracy: 0.1992 - val_loss: 1.6108 - val_accuracy: 0.0074 - lr: 0.0010 - 86s/epoch - 20ms/step
Epoch 32/50
4378/4378 - 85s - loss: 1.6095 - accuracy: 0.1985 - val_loss: 1.6143 - val_accuracy: 0.0661 - lr: 0.0010 - 85s/epoch - 19ms/step
Epoch 33/50
4378/4378 - 86s - loss: 1.6095 - accuracy: 0.2020 - val_loss: 1.6096 - val_accuracy: 0.0074 - lr: 0.0010 - 86s/epoch - 20ms/step
Epoch 34/50
4378/4378 - 86s - loss: 1.6095 - accuracy: 0.1985 - val_loss: 1.6017 - val_accuracy: 0.8276 - lr: 0.0010 - 86s/epoch - 20ms/step
Epoch 35/50
4378/4378 - 85s - loss: 1.6095 - accuracy: 0.2014 - val_loss: 1.6258 - val_accuracy: 0.0074 - lr: 0.0010 - 85s/epoch - 19ms/step
Epoch 36/50
4378/4378 - 83s - loss: 1.6095 - accuracy: 0.2001 - val_loss: 1.6156 - val_accuracy: 0.0661 - lr: 0.0010 - 83s/epoch - 19ms/step
Epoch 37/50
4378/4378 - 87s - loss: 1.6095 - accuracy: 0.1994 - val_loss: 1.6093 - val_accuracy: 0.0661 - lr: 0.0010 - 87s/epoch - 20ms/step
Epoch 38/50
4378/4378 - 85s - loss: 1.6095 - accuracy: 0.1994 - val_loss: 1.6109 - val_accuracy: 0.0254 - lr: 0.0010 - 85s/epoch - 19ms/step
Epoch 39/50
4378/4378 - 85s - loss: 1.6095 - accuracy: 0.1996 - val_loss: 1.6146 - val_accuracy: 0.0735 - lr: 0.0010 - 85s/epoch - 19ms/step
Epoch 40/50
4378/4378 - 84s - loss: 1.6095 - accuracy: 0.1982 - val_loss: 1.6114 - val_accuracy: 0.0661 - lr: 0.0010 - 84s/epoch - 19ms/step
Epoch 41/50
4378/4378 - 85s - loss: 1.6095 - accuracy: 0.1991 - val_loss: 1.5934 - val_accuracy: 0.8276 - lr: 0.0010 - 85s/epoch - 19ms/step
Epoch 42/50
4378/4378 - 85s - loss: 1.6095 - accuracy: 0.2003 - val_loss: 1.6098 - val_accuracy: 0.0661 - lr: 0.0010 - 85s/epoch - 19ms/step
Epoch 43/50
4378/4378 - 84s - loss: 1.6095 - accuracy: 0.1967 - val_loss: 1.6080 - val_accuracy: 0.0254 - lr: 0.0010 - 84s/epoch - 19ms/step
Epoch 44/50
4378/4378 - 86s - loss: 1.6095 - accuracy: 0.1986 - val_loss: 1.6113 - val_accuracy: 0.0074 - lr: 0.0010 - 86s/epoch - 20ms/step
Epoch 45/50
4378/4378 - 85s - loss: 1.6095 - accuracy: 0.2002 - val_loss: 1.6019 - val_accuracy: 0.0074 - lr: 0.0010 - 85s/epoch - 19ms/step
Epoch 46/50
4378/4378 - 84s - loss: 1.6095 - accuracy: 0.2013 - val_loss: 1.5933 - val_accuracy: 0.8276 - lr: 0.0010 - 84s/epoch - 19ms/step
Epoch 47/50
4378/4378 - 88s - loss: 1.6095 - accuracy: 0.1984 - val_loss: 1.6153 - val_accuracy: 0.0735 - lr: 0.0010 - 88s/epoch - 20ms/step
Epoch 48/50
4378/4378 - 84s - loss: 1.6095 - accuracy: 0.1982 - val_loss: 1.6126 - val_accuracy: 0.0661 - lr: 0.0010 - 84s/epoch - 19ms/step
Epoch 49/50
4378/4378 - 87s - loss: 1.6095 - accuracy: 0.1985 - val_loss: 1.6095 - val_accuracy: 0.0074 - lr: 0.0010 - 87s/epoch - 20ms/step
Epoch 50/50
4378/4378 - 89s - loss: 1.6095 - accuracy: 0.1999 - val_loss: 1.6048 - val_accuracy: 0.8276 - lr: 0.0010 - 89s/epoch - 20ms/step
Epoch 1/50
876/876 - 32s - loss: 1.6095 - accuracy: 0.2014 - val_loss: 1.6051 - val_accuracy: 0.8276 - lr: 0.0010 - 32s/epoch - 36ms/step
Epoch 2/50
876/876 - 29s - loss: 1.6095 - accuracy: 0.1986 - val_loss: 1.6046 - val_accuracy: 0.0254 - lr: 0.0010 - 29s/epoch - 33ms/step
Epoch 3/50
876/876 - 27s - loss: 1.6095 - accuracy: 0.1982 - val_loss: 1.6087 - val_accuracy: 0.0661 - lr: 0.0010 - 27s/epoch - 31ms/step
Epoch 4/50
876/876 - 26s - loss: 1.6095 - accuracy: 0.1993 - val_loss: 1.6080 - val_accuracy: 0.0254 - lr: 0.0010 - 26s/epoch - 30ms/step
Epoch 5/50
876/876 - 25s - loss: 1.6095 - accuracy: 0.2001 - val_loss: 1.6069 - val_accuracy: 0.0074 - lr: 0.0010 - 25s/epoch - 29ms/step
Epoch 6/50
876/876 - 27s - loss: 1.6095 - accuracy: 0.1972 - val_loss: 1.6051 - val_accuracy: 0.8276 - lr: 0.0010 - 27s/epoch - 31ms/step
Epoch 7/50
876/876 - 26s - loss: 1.6095 - accuracy: 0.1974 - val_loss: 1.6069 - val_accuracy: 0.8276 - lr: 0.0010 - 26s/epoch - 30ms/step
Epoch 8/50
876/876 - 26s - loss: 1.6095 - accuracy: 0.2008 - val_loss: 1.6120 - val_accuracy: 0.0254 - lr: 0.0010 - 26s/epoch - 30ms/step
Epoch 9/50
876/876 - 26s - loss: 1.6095 - accuracy: 0.1970 - val_loss: 1.6099 - val_accuracy: 0.0735 - lr: 0.0010 - 26s/epoch - 30ms/step
Epoch 10/50
876/876 - 26s - loss: 1.6095 - accuracy: 0.1986 - val_loss: 1.6069 - val_accuracy: 0.0735 - lr: 0.0010 - 26s/epoch - 30ms/step
Epoch 11/50
876/876 - 26s - loss: 1.6095 - accuracy: 0.1977 - val_loss: 1.6073 - val_accuracy: 0.0735 - lr: 0.0010 - 26s/epoch - 30ms/step
Epoch 12/50
876/876 - 27s - loss: 1.6095 - accuracy: 0.1957 - val_loss: 1.6075 - val_accuracy: 0.8276 - lr: 0.0010 - 27s/epoch - 31ms/step
Epoch 13/50
876/876 - 27s - loss: 1.6095 - accuracy: 0.1985 - val_loss: 1.6071 - val_accuracy: 0.0254 - lr: 0.0010 - 27s/epoch - 31ms/step
Epoch 14/50
876/876 - 27s - loss: 1.6095 - accuracy: 0.1968 - val_loss: 1.6100 - val_accuracy: 0.0735 - lr: 0.0010 - 27s/epoch - 31ms/step
Epoch 15/50
876/876 - 27s - loss: 1.6095 - accuracy: 0.1984 - val_loss: 1.6086 - val_accuracy: 0.0661 - lr: 0.0010 - 27s/epoch - 31ms/step
Epoch 16/50
876/876 - 27s - loss: 1.6095 - accuracy: 0.2006 - val_loss: 1.6131 - val_accuracy: 0.0735 - lr: 0.0010 - 27s/epoch - 31ms/step
Epoch 17/50
876/876 - 27s - loss: 1.6095 - accuracy: 0.1980 - val_loss: 1.6105 - val_accuracy: 0.0735 - lr: 0.0010 - 27s/epoch - 31ms/step
Epoch 18/50
876/876 - 27s - loss: 1.6095 - accuracy: 0.1986 - val_loss: 1.6089 - val_accuracy: 0.0735 - lr: 0.0010 - 27s/epoch - 31ms/step
Epoch 19/50
876/876 - 27s - loss: 1.6095 - accuracy: 0.1988 - val_loss: 1.6093 - val_accuracy: 0.0661 - lr: 0.0010 - 27s/epoch - 31ms/step
Epoch 20/50
876/876 - 29s - loss: 1.6095 - accuracy: 0.1981 - val_loss: 1.6159 - val_accuracy: 0.0074 - lr: 0.0010 - 29s/epoch - 33ms/step
Epoch 21/50
876/876 - 26s - loss: 1.6095 - accuracy: 0.1983 - val_loss: 1.6172 - val_accuracy: 0.0661 - lr: 0.0010 - 26s/epoch - 30ms/step
Epoch 22/50
876/876 - 26s - loss: 1.6095 - accuracy: 0.1977 - val_loss: 1.6105 - val_accuracy: 0.0735 - lr: 0.0010 - 26s/epoch - 30ms/step
Epoch 23/50
876/876 - 25s - loss: 1.6095 - accuracy: 0.1999 - val_loss: 1.6135 - val_accuracy: 0.0254 - lr: 0.0010 - 25s/epoch - 29ms/step
Epoch 24/50
876/876 - 25s - loss: 1.6095 - accuracy: 0.1981 - val_loss: 1.6098 - val_accuracy: 0.0661 - lr: 0.0010 - 25s/epoch - 28ms/step
Epoch 25/50
876/876 - 26s - loss: 1.6095 - accuracy: 0.1990 - val_loss: 1.6126 - val_accuracy: 0.0074 - lr: 0.0010 - 26s/epoch - 29ms/step
Epoch 26/50
876/876 - 25s - loss: 1.6095 - accuracy: 0.1992 - val_loss: 1.6109 - val_accuracy: 0.0074 - lr: 0.0010 - 25s/epoch - 28ms/step
Epoch 27/50
876/876 - 25s - loss: 1.6095 - accuracy: 0.1979 - val_loss: 1.6084 - val_accuracy: 0.8276 - lr: 0.0010 - 25s/epoch - 29ms/step
Epoch 28/50
876/876 - 25s - loss: 1.6095 - accuracy: 0.1997 - val_loss: 1.6112 - val_accuracy: 0.0661 - lr: 0.0010 - 25s/epoch - 29ms/step
Epoch 29/50
876/876 - 25s - loss: 1.6095 - accuracy: 0.1976 - val_loss: 1.6135 - val_accuracy: 0.0661 - lr: 0.0010 - 25s/epoch - 29ms/step
Epoch 30/50
876/876 - 25s - loss: 1.6095 - accuracy: 0.1969 - val_loss: 1.6069 - val_accuracy: 0.8276 - lr: 0.0010 - 25s/epoch - 29ms/step
Epoch 31/50
876/876 - 25s - loss: 1.6095 - accuracy: 0.1977 - val_loss: 1.6058 - val_accuracy: 0.8276 - lr: 0.0010 - 25s/epoch - 29ms/step
Epoch 32/50
876/876 - 25s - loss: 1.6095 - accuracy: 0.1988 - val_loss: 1.6109 - val_accuracy: 0.0254 - lr: 0.0010 - 25s/epoch - 29ms/step
Epoch 33/50
876/876 - 26s - loss: 1.6095 - accuracy: 0.1992 - val_loss: 1.6080 - val_accuracy: 0.0074 - lr: 0.0010 - 26s/epoch - 29ms/step
Epoch 34/50
876/876 - 25s - loss: 1.6095 - accuracy: 0.1982 - val_loss: 1.6057 - val_accuracy: 0.8276 - lr: 0.0010 - 25s/epoch - 28ms/step
Epoch 35/50
876/876 - 25s - loss: 1.6095 - accuracy: 0.1995 - val_loss: 1.6107 - val_accuracy: 0.0254 - lr: 0.0010 - 25s/epoch - 29ms/step
Epoch 36/50
876/876 - 25s - loss: 1.6095 - accuracy: 0.1995 - val_loss: 1.6105 - val_accuracy: 0.0254 - lr: 0.0010 - 25s/epoch - 29ms/step
Epoch 37/50
876/876 - 26s - loss: 1.6095 - accuracy: 0.1977 - val_loss: 1.6133 - val_accuracy: 0.0074 - lr: 0.0010 - 26s/epoch - 29ms/step
Epoch 38/50
876/876 - 25s - loss: 1.6095 - accuracy: 0.1986 - val_loss: 1.6131 - val_accuracy: 0.0074 - lr: 0.0010 - 25s/epoch - 28ms/step
Epoch 39/50
876/876 - 25s - loss: 1.6095 - accuracy: 0.1993 - val_loss: 1.6133 - val_accuracy: 0.0074 - lr: 0.0010 - 25s/epoch - 29ms/step
Epoch 40/50
876/876 - 25s - loss: 1.6095 - accuracy: 0.1993 - val_loss: 1.6104 - val_accuracy: 0.0074 - lr: 0.0010 - 25s/epoch - 29ms/step
Epoch 41/50
876/876 - 25s - loss: 1.6095 - accuracy: 0.1983 - val_loss: 1.6114 - val_accuracy: 0.0254 - lr: 0.0010 - 25s/epoch - 28ms/step
Epoch 42/50
876/876 - 25s - loss: 1.6095 - accuracy: 0.1979 - val_loss: 1.6117 - val_accuracy: 0.0074 - lr: 0.0010 - 25s/epoch - 28ms/step
Epoch 43/50
876/876 - 25s - loss: 1.6095 - accuracy: 0.1984 - val_loss: 1.6064 - val_accuracy: 0.0661 - lr: 0.0010 - 25s/epoch - 28ms/step
Epoch 44/50
876/876 - 25s - loss: 1.6095 - accuracy: 0.1981 - val_loss: 1.6090 - val_accuracy: 0.0074 - lr: 0.0010 - 25s/epoch - 29ms/step
Epoch 45/50
876/876 - 25s - loss: 1.6095 - accuracy: 0.1993 - val_loss: 1.6121 - val_accuracy: 0.0254 - lr: 0.0010 - 25s/epoch - 28ms/step
Epoch 46/50
876/876 - 25s - loss: 1.6095 - accuracy: 0.2002 - val_loss: 1.6100 - val_accuracy: 0.0074 - lr: 0.0010 - 25s/epoch - 28ms/step
Epoch 47/50
876/876 - 25s - loss: 1.6095 - accuracy: 0.1986 - val_loss: 1.6040 - val_accuracy: 0.8276 - lr: 0.0010 - 25s/epoch - 28ms/step
Epoch 48/50
876/876 - 25s - loss: 1.6095 - accuracy: 0.2004 - val_loss: 1.6076 - val_accuracy: 0.0661 - lr: 0.0010 - 25s/epoch - 29ms/step
Epoch 49/50
876/876 - 25s - loss: 1.6095 - accuracy: 0.2000 - val_loss: 1.6033 - val_accuracy: 0.8276 - lr: 0.0010 - 25s/epoch - 29ms/step
Epoch 50/50
876/876 - 25s - loss: 1.6095 - accuracy: 0.1977 - val_loss: 1.6087 - val_accuracy: 0.0735 - lr: 0.0010 - 25s/epoch - 29ms/step
Epoch 1/50
176/176 - 18s - loss: 1.6094 - accuracy: 0.1988 - val_loss: 1.6096 - val_accuracy: 0.0735 - lr: 0.0010 - 18s/epoch - 105ms/step
Epoch 2/50
176/176 - 16s - loss: 1.6094 - accuracy: 0.2000 - val_loss: 1.6098 - val_accuracy: 0.0661 - lr: 0.0010 - 16s/epoch - 90ms/step
Epoch 3/50
176/176 - 15s - loss: 1.6094 - accuracy: 0.1988 - val_loss: 1.6093 - val_accuracy: 0.0735 - lr: 0.0010 - 15s/epoch - 88ms/step
Epoch 4/50
176/176 - 15s - loss: 1.6094 - accuracy: 0.1992 - val_loss: 1.6095 - val_accuracy: 0.0074 - lr: 0.0010 - 15s/epoch - 86ms/step
Epoch 5/50
176/176 - 16s - loss: 1.6094 - accuracy: 0.1972 - val_loss: 1.6087 - val_accuracy: 0.8276 - lr: 0.0010 - 16s/epoch - 91ms/step
Epoch 6/50
176/176 - 17s - loss: 1.6094 - accuracy: 0.1986 - val_loss: 1.6084 - val_accuracy: 0.0661 - lr: 0.0010 - 17s/epoch - 94ms/step
Epoch 7/50
176/176 - 16s - loss: 1.6094 - accuracy: 0.1979 - val_loss: 1.6083 - val_accuracy: 0.8276 - lr: 0.0010 - 16s/epoch - 91ms/step
Epoch 8/50
176/176 - 16s - loss: 1.6094 - accuracy: 0.1988 - val_loss: 1.6087 - val_accuracy: 0.8276 - lr: 0.0010 - 16s/epoch - 90ms/step
Epoch 9/50
176/176 - 16s - loss: 1.6094 - accuracy: 0.1974 - val_loss: 1.6085 - val_accuracy: 0.8276 - lr: 0.0010 - 16s/epoch - 88ms/step
Epoch 10/50
176/176 - 15s - loss: 1.6094 - accuracy: 0.1964 - val_loss: 1.6083 - val_accuracy: 0.8276 - lr: 0.0010 - 15s/epoch - 87ms/step
Epoch 11/50
176/176 - 15s - loss: 1.6094 - accuracy: 0.2000 - val_loss: 1.6091 - val_accuracy: 0.8276 - lr: 0.0010 - 15s/epoch - 86ms/step
Epoch 12/50
176/176 - 15s - loss: 1.6094 - accuracy: 0.1979 - val_loss: 1.6100 - val_accuracy: 0.0735 - lr: 0.0010 - 15s/epoch - 87ms/step
Epoch 13/50
176/176 - 15s - loss: 1.6094 - accuracy: 0.1989 - val_loss: 1.6109 - val_accuracy: 0.0254 - lr: 0.0010 - 15s/epoch - 87ms/step
Epoch 14/50
176/176 - 15s - loss: 1.6094 - accuracy: 0.1992 - val_loss: 1.6107 - val_accuracy: 0.0254 - lr: 0.0010 - 15s/epoch - 86ms/step
Epoch 15/50
176/176 - 15s - loss: 1.6094 - accuracy: 0.1962 - val_loss: 1.6104 - val_accuracy: 0.0735 - lr: 0.0010 - 15s/epoch - 87ms/step
Epoch 16/50
176/176 - 15s - loss: 1.6094 - accuracy: 0.1986 - val_loss: 1.6100 - val_accuracy: 0.0254 - lr: 0.0010 - 15s/epoch - 86ms/step
Epoch 17/50
176/176 - 16s - loss: 1.6094 - accuracy: 0.1955 - val_loss: 1.6095 - val_accuracy: 0.0254 - lr: 0.0010 - 16s/epoch - 88ms/step
Epoch 18/50
176/176 - 15s - loss: 1.6094 - accuracy: 0.1986 - val_loss: 1.6088 - val_accuracy: 0.0254 - lr: 0.0010 - 15s/epoch - 87ms/step
Epoch 19/50
176/176 - 15s - loss: 1.6094 - accuracy: 0.1994 - val_loss: 1.6081 - val_accuracy: 0.0254 - lr: 0.0010 - 15s/epoch - 84ms/step
Epoch 20/50
176/176 - 15s - loss: 1.6094 - accuracy: 0.1998 - val_loss: 1.6077 - val_accuracy: 0.8276 - lr: 0.0010 - 15s/epoch - 83ms/step
Epoch 21/50
176/176 - 15s - loss: 1.6094 - accuracy: 0.1991 - val_loss: 1.6093 - val_accuracy: 0.0254 - lr: 0.0010 - 15s/epoch - 84ms/step
Epoch 22/50
176/176 - 15s - loss: 1.6094 - accuracy: 0.1976 - val_loss: 1.6094 - val_accuracy: 0.0254 - lr: 0.0010 - 15s/epoch - 85ms/step
Epoch 23/50
176/176 - 15s - loss: 1.6094 - accuracy: 0.1986 - val_loss: 1.6092 - val_accuracy: 0.0254 - lr: 0.0010 - 15s/epoch - 85ms/step
Epoch 24/50
176/176 - 15s - loss: 1.6094 - accuracy: 0.1981 - val_loss: 1.6089 - val_accuracy: 0.0735 - lr: 0.0010 - 15s/epoch - 84ms/step
Epoch 25/50
176/176 - 15s - loss: 1.6094 - accuracy: 0.2003 - val_loss: 1.6085 - val_accuracy: 0.0661 - lr: 0.0010 - 15s/epoch - 86ms/step
Epoch 26/50
176/176 - 15s - loss: 1.6094 - accuracy: 0.1979 - val_loss: 1.6084 - val_accuracy: 0.8276 - lr: 0.0010 - 15s/epoch - 86ms/step
Epoch 27/50
176/176 - 15s - loss: 1.6094 - accuracy: 0.1971 - val_loss: 1.6091 - val_accuracy: 0.8276 - lr: 0.0010 - 15s/epoch - 87ms/step
Epoch 28/50
176/176 - 15s - loss: 1.6094 - accuracy: 0.1988 - val_loss: 1.6081 - val_accuracy: 0.8276 - lr: 0.0010 - 15s/epoch - 86ms/step
Epoch 29/50
176/176 - 15s - loss: 1.6094 - accuracy: 0.1982 - val_loss: 1.6077 - val_accuracy: 0.8276 - lr: 0.0010 - 15s/epoch - 86ms/step
Epoch 30/50
176/176 - 15s - loss: 1.6094 - accuracy: 0.1986 - val_loss: 1.6089 - val_accuracy: 0.0254 - lr: 0.0010 - 15s/epoch - 87ms/step
Epoch 31/50
176/176 - 16s - loss: 1.6094 - accuracy: 0.1979 - val_loss: 1.6087 - val_accuracy: 0.8276 - lr: 0.0010 - 16s/epoch - 89ms/step
Epoch 32/50
176/176 - 16s - loss: 1.6094 - accuracy: 0.1981 - val_loss: 1.6085 - val_accuracy: 0.0254 - lr: 0.0010 - 16s/epoch - 90ms/step
Epoch 33/50
176/176 - 16s - loss: 1.6094 - accuracy: 0.1996 - val_loss: 1.6085 - val_accuracy: 0.8276 - lr: 0.0010 - 16s/epoch - 89ms/step
Epoch 34/50
176/176 - 16s - loss: 1.6094 - accuracy: 0.1972 - val_loss: 1.6095 - val_accuracy: 0.0661 - lr: 0.0010 - 16s/epoch - 92ms/step
Epoch 35/50
176/176 - 16s - loss: 1.6094 - accuracy: 0.1971 - val_loss: 1.6098 - val_accuracy: 0.0074 - lr: 0.0010 - 16s/epoch - 89ms/step
Epoch 36/50
176/176 - 16s - loss: 1.6094 - accuracy: 0.1972 - val_loss: 1.6095 - val_accuracy: 0.0735 - lr: 0.0010 - 16s/epoch - 89ms/step
Epoch 37/50
176/176 - 16s - loss: 1.6094 - accuracy: 0.1974 - val_loss: 1.6088 - val_accuracy: 0.8276 - lr: 0.0010 - 16s/epoch - 90ms/step
Epoch 38/50
176/176 - 16s - loss: 1.6094 - accuracy: 0.1979 - val_loss: 1.6090 - val_accuracy: 0.0661 - lr: 0.0010 - 16s/epoch - 89ms/step
Epoch 39/50
176/176 - 16s - loss: 1.6095 - accuracy: 0.1974 - val_loss: 1.6095 - val_accuracy: 0.0254 - lr: 0.0010 - 16s/epoch - 88ms/step
Epoch 40/50
176/176 - 16s - loss: 1.6094 - accuracy: 0.1986 - val_loss: 1.6084 - val_accuracy: 0.8276 - lr: 0.0010 - 16s/epoch - 90ms/step
Epoch 41/50
176/176 - 16s - loss: 1.6094 - accuracy: 0.1981 - val_loss: 1.6084 - val_accuracy: 0.8276 - lr: 0.0010 - 16s/epoch - 88ms/step
Epoch 42/50
176/176 - 15s - loss: 1.6094 - accuracy: 0.1991 - val_loss: 1.6094 - val_accuracy: 0.0661 - lr: 0.0010 - 15s/epoch - 87ms/step
Epoch 43/50
176/176 - 15s - loss: 1.6095 - accuracy: 0.1969 - val_loss: 1.6089 - val_accuracy: 0.8276 - lr: 0.0010 - 15s/epoch - 87ms/step
Epoch 44/50
176/176 - 15s - loss: 1.6094 - accuracy: 0.1987 - val_loss: 1.6083 - val_accuracy: 0.8276 - lr: 0.0010 - 15s/epoch - 86ms/step
Epoch 45/50
176/176 - 15s - loss: 1.6094 - accuracy: 0.1977 - val_loss: 1.6100 - val_accuracy: 0.0661 - lr: 0.0010 - 15s/epoch - 87ms/step
Epoch 46/50
176/176 - 17s - loss: 1.6094 - accuracy: 0.1961 - val_loss: 1.6095 - val_accuracy: 0.0735 - lr: 0.0010 - 17s/epoch - 94ms/step
Epoch 47/50
176/176 - 14s - loss: 1.6094 - accuracy: 0.1979 - val_loss: 1.6097 - val_accuracy: 0.0735 - lr: 0.0010 - 14s/epoch - 78ms/step
Epoch 48/50
176/176 - 16s - loss: 1.6094 - accuracy: 0.1972 - val_loss: 1.6091 - val_accuracy: 0.0735 - lr: 0.0010 - 16s/epoch - 90ms/step
Epoch 49/50
176/176 - 17s - loss: 1.6094 - accuracy: 0.1985 - val_loss: 1.6098 - val_accuracy: 0.0735 - lr: 0.0010 - 17s/epoch - 98ms/step
Epoch 50/50
176/176 - 17s - loss: 1.6095 - accuracy: 0.1969 - val_loss: 1.6095 - val_accuracy: 0.0735 - lr: 0.0010 - 17s/epoch - 97ms/step
Epoch 1/50
36/36 - 18s - loss: 1.6094 - accuracy: 0.2000 - val_loss: 1.6098 - val_accuracy: 0.0735 - lr: 0.0010 - 18s/epoch - 490ms/step
Epoch 2/50
36/36 - 16s - loss: 1.6094 - accuracy: 0.2000 - val_loss: 1.6094 - val_accuracy: 0.0735 - lr: 0.0010 - 16s/epoch - 451ms/step
Epoch 3/50
36/36 - 18s - loss: 1.6094 - accuracy: 0.2000 - val_loss: 1.6087 - val_accuracy: 0.0735 - lr: 0.0010 - 18s/epoch - 490ms/step
Epoch 4/50
36/36 - 16s - loss: 1.6094 - accuracy: 0.2002 - val_loss: 1.6090 - val_accuracy: 0.8276 - lr: 0.0010 - 16s/epoch - 444ms/step
Epoch 5/50
36/36 - 16s - loss: 1.6094 - accuracy: 0.1995 - val_loss: 1.6087 - val_accuracy: 0.0661 - lr: 0.0010 - 16s/epoch - 448ms/step
Epoch 6/50
36/36 - 16s - loss: 1.6094 - accuracy: 0.2000 - val_loss: 1.6088 - val_accuracy: 0.0661 - lr: 0.0010 - 16s/epoch - 449ms/step
Epoch 7/50
36/36 - 16s - loss: 1.6094 - accuracy: 0.1994 - val_loss: 1.6086 - val_accuracy: 0.0661 - lr: 0.0010 - 16s/epoch - 446ms/step
Epoch 8/50
36/36 - 16s - loss: 1.6094 - accuracy: 0.1994 - val_loss: 1.6086 - val_accuracy: 0.0735 - lr: 0.0010 - 16s/epoch - 451ms/step
Epoch 9/50
36/36 - 16s - loss: 1.6094 - accuracy: 0.2001 - val_loss: 1.6097 - val_accuracy: 0.0735 - lr: 0.0010 - 16s/epoch - 447ms/step
Epoch 10/50
36/36 - 16s - loss: 1.6094 - accuracy: 0.2000 - val_loss: 1.6094 - val_accuracy: 0.0735 - lr: 0.0010 - 16s/epoch - 453ms/step
Epoch 11/50
36/36 - 16s - loss: 1.6094 - accuracy: 0.2000 - val_loss: 1.6090 - val_accuracy: 0.0735 - lr: 0.0010 - 16s/epoch - 451ms/step
Epoch 12/50
36/36 - 16s - loss: 1.6094 - accuracy: 0.2000 - val_loss: 1.6090 - val_accuracy: 0.0735 - lr: 0.0010 - 16s/epoch - 444ms/step
Epoch 13/50
36/36 - 16s - loss: 1.6094 - accuracy: 0.2000 - val_loss: 1.6090 - val_accuracy: 0.0735 - lr: 0.0010 - 16s/epoch - 448ms/step
Epoch 14/50
36/36 - 14s - loss: 1.6094 - accuracy: 0.1982 - val_loss: 1.6088 - val_accuracy: 0.8276 - lr: 0.0010 - 14s/epoch - 378ms/step
Epoch 15/50
36/36 - 10s - loss: 1.6094 - accuracy: 0.1984 - val_loss: 1.6090 - val_accuracy: 0.0254 - lr: 0.0010 - 10s/epoch - 268ms/step
Epoch 16/50
36/36 - 9s - loss: 1.6094 - accuracy: 0.2003 - val_loss: 1.6095 - val_accuracy: 0.0661 - lr: 0.0010 - 9s/epoch - 249ms/step
Epoch 17/50
36/36 - 9s - loss: 1.6094 - accuracy: 0.2000 - val_loss: 1.6097 - val_accuracy: 0.0661 - lr: 0.0010 - 9s/epoch - 248ms/step
Epoch 18/50
36/36 - 9s - loss: 1.6094 - accuracy: 0.1990 - val_loss: 1.6098 - val_accuracy: 0.0254 - lr: 0.0010 - 9s/epoch - 247ms/step
Epoch 19/50
36/36 - 9s - loss: 1.6094 - accuracy: 0.2001 - val_loss: 1.6100 - val_accuracy: 0.0254 - lr: 0.0010 - 9s/epoch - 249ms/step
Epoch 20/50
36/36 - 9s - loss: 1.6094 - accuracy: 0.2000 - val_loss: 1.6093 - val_accuracy: 0.0254 - lr: 0.0010 - 9s/epoch - 247ms/step
Epoch 21/50
36/36 - 9s - loss: 1.6094 - accuracy: 0.2000 - val_loss: 1.6087 - val_accuracy: 0.0254 - lr: 0.0010 - 9s/epoch - 247ms/step
Epoch 22/50
36/36 - 9s - loss: 1.6094 - accuracy: 0.1995 - val_loss: 1.6087 - val_accuracy: 0.0254 - lr: 0.0010 - 9s/epoch - 247ms/step
Epoch 23/50
36/36 - 9s - loss: 1.6094 - accuracy: 0.1997 - val_loss: 1.6090 - val_accuracy: 0.0254 - lr: 0.0010 - 9s/epoch - 248ms/step
Epoch 24/50
36/36 - 9s - loss: 1.6094 - accuracy: 0.1997 - val_loss: 1.6089 - val_accuracy: 0.0254 - lr: 0.0010 - 9s/epoch - 248ms/step
Epoch 25/50
36/36 - 9s - loss: 1.6094 - accuracy: 0.2000 - val_loss: 1.6089 - val_accuracy: 0.0254 - lr: 0.0010 - 9s/epoch - 246ms/step
Epoch 26/50
36/36 - 9s - loss: 1.6094 - accuracy: 0.2003 - val_loss: 1.6083 - val_accuracy: 0.0254 - lr: 0.0010 - 9s/epoch - 247ms/step
Epoch 27/50
36/36 - 9s - loss: 1.6094 - accuracy: 0.2001 - val_loss: 1.6085 - val_accuracy: 0.0254 - lr: 0.0010 - 9s/epoch - 247ms/step
Epoch 28/50
36/36 - 9s - loss: 1.6094 - accuracy: 0.2002 - val_loss: 1.6095 - val_accuracy: 0.0254 - lr: 0.0010 - 9s/epoch - 248ms/step
Epoch 29/50
36/36 - 9s - loss: 1.6094 - accuracy: 0.2000 - val_loss: 1.6098 - val_accuracy: 0.0254 - lr: 0.0010 - 9s/epoch - 248ms/step
Epoch 30/50
36/36 - 9s - loss: 1.6094 - accuracy: 0.1993 - val_loss: 1.6096 - val_accuracy: 0.0735 - lr: 0.0010 - 9s/epoch - 249ms/step
Epoch 31/50
36/36 - 9s - loss: 1.6094 - accuracy: 0.2000 - val_loss: 1.6094 - val_accuracy: 0.0735 - lr: 0.0010 - 9s/epoch - 249ms/step
Epoch 32/50
36/36 - 9s - loss: 1.6094 - accuracy: 0.1999 - val_loss: 1.6091 - val_accuracy: 0.0735 - lr: 0.0010 - 9s/epoch - 249ms/step
Epoch 33/50
36/36 - 9s - loss: 1.6094 - accuracy: 0.1997 - val_loss: 1.6085 - val_accuracy: 0.8276 - lr: 0.0010 - 9s/epoch - 249ms/step
Epoch 34/50
36/36 - 9s - loss: 1.6094 - accuracy: 0.2000 - val_loss: 1.6085 - val_accuracy: 0.8276 - lr: 0.0010 - 9s/epoch - 249ms/step
Epoch 35/50
36/36 - 9s - loss: 1.6094 - accuracy: 0.2008 - val_loss: 1.6093 - val_accuracy: 0.0735 - lr: 0.0010 - 9s/epoch - 250ms/step
Epoch 36/50
36/36 - 9s - loss: 1.6094 - accuracy: 0.1995 - val_loss: 1.6093 - val_accuracy: 0.0735 - lr: 0.0010 - 9s/epoch - 249ms/step
Epoch 37/50
36/36 - 9s - loss: 1.6094 - accuracy: 0.1970 - val_loss: 1.6091 - val_accuracy: 0.8276 - lr: 0.0010 - 9s/epoch - 250ms/step
Epoch 38/50
36/36 - 9s - loss: 1.6094 - accuracy: 0.1988 - val_loss: 1.6090 - val_accuracy: 0.8276 - lr: 0.0010 - 9s/epoch - 250ms/step
Epoch 39/50
36/36 - 9s - loss: 1.6094 - accuracy: 0.1987 - val_loss: 1.6095 - val_accuracy: 0.0661 - lr: 0.0010 - 9s/epoch - 250ms/step
Epoch 40/50
36/36 - 9s - loss: 1.6094 - accuracy: 0.1997 - val_loss: 1.6094 - val_accuracy: 0.0735 - lr: 0.0010 - 9s/epoch - 250ms/step
Epoch 41/50
36/36 - 9s - loss: 1.6094 - accuracy: 0.1984 - val_loss: 1.6101 - val_accuracy: 0.0735 - lr: 0.0010 - 9s/epoch - 250ms/step
Epoch 42/50
36/36 - 9s - loss: 1.6094 - accuracy: 0.1999 - val_loss: 1.6094 - val_accuracy: 0.0735 - lr: 0.0010 - 9s/epoch - 250ms/step
Epoch 43/50
36/36 - 9s - loss: 1.6094 - accuracy: 0.1998 - val_loss: 1.6098 - val_accuracy: 0.0735 - lr: 0.0010 - 9s/epoch - 249ms/step
Epoch 44/50
36/36 - 9s - loss: 1.6094 - accuracy: 0.2008 - val_loss: 1.6096 - val_accuracy: 0.0074 - lr: 0.0010 - 9s/epoch - 250ms/step
Epoch 45/50
36/36 - 9s - loss: 1.6094 - accuracy: 0.1999 - val_loss: 1.6099 - val_accuracy: 0.0074 - lr: 0.0010 - 9s/epoch - 250ms/step
Epoch 46/50
36/36 - 9s - loss: 1.6094 - accuracy: 0.2000 - val_loss: 1.6102 - val_accuracy: 0.0074 - lr: 0.0010 - 9s/epoch - 250ms/step
Epoch 47/50
36/36 - 9s - loss: 1.6094 - accuracy: 0.2000 - val_loss: 1.6101 - val_accuracy: 0.0074 - lr: 0.0010 - 9s/epoch - 250ms/step
Epoch 48/50
36/36 - 9s - loss: 1.6094 - accuracy: 0.1992 - val_loss: 1.6096 - val_accuracy: 0.0254 - lr: 0.0010 - 9s/epoch - 249ms/step
Epoch 49/50
36/36 - 9s - loss: 1.6094 - accuracy: 0.2002 - val_loss: 1.6091 - val_accuracy: 0.0254 - lr: 0.0010 - 9s/epoch - 250ms/step
Epoch 50/50
36/36 - 9s - loss: 1.6094 - accuracy: 0.2007 - val_loss: 1.6084 - val_accuracy: 0.8276 - lr: 0.0010 - 9s/epoch - 250ms/step
Epoch 1/75
4378/4378 - 81s - loss: 1.6095 - accuracy: 0.1976 - val_loss: 1.6137 - val_accuracy: 0.0074 - lr: 0.0010 - 81s/epoch - 18ms/step
Epoch 2/75
4378/4378 - 78s - loss: 1.6095 - accuracy: 0.1998 - val_loss: 1.6170 - val_accuracy: 0.0735 - lr: 0.0010 - 78s/epoch - 18ms/step
Epoch 3/75
4378/4378 - 78s - loss: 1.6095 - accuracy: 0.1973 - val_loss: 1.6055 - val_accuracy: 0.8276 - lr: 0.0010 - 78s/epoch - 18ms/step
Epoch 4/75
4378/4378 - 78s - loss: 1.6095 - accuracy: 0.1978 - val_loss: 1.5989 - val_accuracy: 0.8276 - lr: 0.0010 - 78s/epoch - 18ms/step
Epoch 5/75
4378/4378 - 78s - loss: 1.6095 - accuracy: 0.2005 - val_loss: 1.6080 - val_accuracy: 0.0661 - lr: 0.0010 - 78s/epoch - 18ms/step
Epoch 6/75
4378/4378 - 79s - loss: 1.6095 - accuracy: 0.1984 - val_loss: 1.5954 - val_accuracy: 0.8276 - lr: 0.0010 - 79s/epoch - 18ms/step
Epoch 7/75
4378/4378 - 78s - loss: 1.6095 - accuracy: 0.1980 - val_loss: 1.6133 - val_accuracy: 0.0735 - lr: 0.0010 - 78s/epoch - 18ms/step
Epoch 8/75
4378/4378 - 79s - loss: 1.6095 - accuracy: 0.1979 - val_loss: 1.6107 - val_accuracy: 0.0735 - lr: 0.0010 - 79s/epoch - 18ms/step
Epoch 9/75
4378/4378 - 78s - loss: 1.6095 - accuracy: 0.1979 - val_loss: 1.6114 - val_accuracy: 0.0735 - lr: 0.0010 - 78s/epoch - 18ms/step
Epoch 10/75
4378/4378 - 78s - loss: 1.6095 - accuracy: 0.1999 - val_loss: 1.6175 - val_accuracy: 0.0661 - lr: 0.0010 - 78s/epoch - 18ms/step
Epoch 11/75
4378/4378 - 78s - loss: 1.6095 - accuracy: 0.1996 - val_loss: 1.6080 - val_accuracy: 0.0735 - lr: 0.0010 - 78s/epoch - 18ms/step
Epoch 12/75
4378/4378 - 78s - loss: 1.6095 - accuracy: 0.1973 - val_loss: 1.6146 - val_accuracy: 0.0735 - lr: 0.0010 - 78s/epoch - 18ms/step
Epoch 13/75
4378/4378 - 79s - loss: 1.6095 - accuracy: 0.1998 - val_loss: 1.6096 - val_accuracy: 0.0254 - lr: 0.0010 - 79s/epoch - 18ms/step
Epoch 14/75
4378/4378 - 78s - loss: 1.6095 - accuracy: 0.1989 - val_loss: 1.6108 - val_accuracy: 0.0661 - lr: 0.0010 - 78s/epoch - 18ms/step
Epoch 15/75
4378/4378 - 78s - loss: 1.6095 - accuracy: 0.1986 - val_loss: 1.6030 - val_accuracy: 0.8276 - lr: 0.0010 - 78s/epoch - 18ms/step
Epoch 16/75
4378/4378 - 78s - loss: 1.6095 - accuracy: 0.1998 - val_loss: 1.6088 - val_accuracy: 0.0735 - lr: 0.0010 - 78s/epoch - 18ms/step
Epoch 17/75
4378/4378 - 78s - loss: 1.6095 - accuracy: 0.1986 - val_loss: 1.6108 - val_accuracy: 0.0074 - lr: 0.0010 - 78s/epoch - 18ms/step
Epoch 18/75
4378/4378 - 78s - loss: 1.6095 - accuracy: 0.2008 - val_loss: 1.5979 - val_accuracy: 0.0661 - lr: 0.0010 - 78s/epoch - 18ms/step
Epoch 19/75
4378/4378 - 78s - loss: 1.6095 - accuracy: 0.1984 - val_loss: 1.6119 - val_accuracy: 0.0735 - lr: 0.0010 - 78s/epoch - 18ms/step
Epoch 20/75
4378/4378 - 78s - loss: 1.6095 - accuracy: 0.1984 - val_loss: 1.6225 - val_accuracy: 0.0254 - lr: 0.0010 - 78s/epoch - 18ms/step
Epoch 21/75
4378/4378 - 78s - loss: 1.6095 - accuracy: 0.1981 - val_loss: 1.6073 - val_accuracy: 0.0735 - lr: 0.0010 - 78s/epoch - 18ms/step
Epoch 22/75
4378/4378 - 78s - loss: 1.6095 - accuracy: 0.1984 - val_loss: 1.6057 - val_accuracy: 0.8276 - lr: 0.0010 - 78s/epoch - 18ms/step
Epoch 23/75
4378/4378 - 78s - loss: 1.6095 - accuracy: 0.2002 - val_loss: 1.6042 - val_accuracy: 0.0735 - lr: 0.0010 - 78s/epoch - 18ms/step
Epoch 24/75
4378/4378 - 79s - loss: 1.6095 - accuracy: 0.1989 - val_loss: 1.6059 - val_accuracy: 0.0254 - lr: 0.0010 - 79s/epoch - 18ms/step
Epoch 25/75
4378/4378 - 78s - loss: 1.6095 - accuracy: 0.1988 - val_loss: 1.6123 - val_accuracy: 0.0254 - lr: 0.0010 - 78s/epoch - 18ms/step
Epoch 26/75
4378/4378 - 78s - loss: 1.6095 - accuracy: 0.1980 - val_loss: 1.6093 - val_accuracy: 0.0661 - lr: 0.0010 - 78s/epoch - 18ms/step
Epoch 27/75
4378/4378 - 78s - loss: 1.6095 - accuracy: 0.1981 - val_loss: 1.5980 - val_accuracy: 0.8276 - lr: 0.0010 - 78s/epoch - 18ms/step
Epoch 28/75
4378/4378 - 78s - loss: 1.6095 - accuracy: 0.2008 - val_loss: 1.6017 - val_accuracy: 0.8276 - lr: 0.0010 - 78s/epoch - 18ms/step
Epoch 29/75
4378/4378 - 78s - loss: 1.6095 - accuracy: 0.1988 - val_loss: 1.6066 - val_accuracy: 0.0254 - lr: 0.0010 - 78s/epoch - 18ms/step
Epoch 30/75
4378/4378 - 78s - loss: 1.6095 - accuracy: 0.2004 - val_loss: 1.5937 - val_accuracy: 0.0735 - lr: 0.0010 - 78s/epoch - 18ms/step
Epoch 31/75
4378/4378 - 78s - loss: 1.6095 - accuracy: 0.1965 - val_loss: 1.6027 - val_accuracy: 0.0074 - lr: 0.0010 - 78s/epoch - 18ms/step
Epoch 32/75
4378/4378 - 78s - loss: 1.6095 - accuracy: 0.1983 - val_loss: 1.6019 - val_accuracy: 0.8276 - lr: 0.0010 - 78s/epoch - 18ms/step
Epoch 33/75
4378/4378 - 78s - loss: 1.6095 - accuracy: 0.1989 - val_loss: 1.6049 - val_accuracy: 0.8276 - lr: 0.0010 - 78s/epoch - 18ms/step
Epoch 34/75
4378/4378 - 78s - loss: 1.6095 - accuracy: 0.1988 - val_loss: 1.5976 - val_accuracy: 0.8276 - lr: 0.0010 - 78s/epoch - 18ms/step
Epoch 35/75
4378/4378 - 78s - loss: 1.6095 - accuracy: 0.1997 - val_loss: 1.6090 - val_accuracy: 0.0254 - lr: 0.0010 - 78s/epoch - 18ms/step
Epoch 36/75
4378/4378 - 78s - loss: 1.6095 - accuracy: 0.1996 - val_loss: 1.6245 - val_accuracy: 0.0254 - lr: 0.0010 - 78s/epoch - 18ms/step
Epoch 37/75
4378/4378 - 78s - loss: 1.6095 - accuracy: 0.1978 - val_loss: 1.6158 - val_accuracy: 0.0661 - lr: 0.0010 - 78s/epoch - 18ms/step
Epoch 38/75
4378/4378 - 78s - loss: 1.6095 - accuracy: 0.1995 - val_loss: 1.6147 - val_accuracy: 0.0074 - lr: 0.0010 - 78s/epoch - 18ms/step
Epoch 39/75
4378/4378 - 78s - loss: 1.6095 - accuracy: 0.1979 - val_loss: 1.6158 - val_accuracy: 0.0661 - lr: 0.0010 - 78s/epoch - 18ms/step
Epoch 40/75
4378/4378 - 78s - loss: 1.6095 - accuracy: 0.1972 - val_loss: 1.6125 - val_accuracy: 0.0254 - lr: 0.0010 - 78s/epoch - 18ms/step
Epoch 41/75
4378/4378 - 77s - loss: 1.6095 - accuracy: 0.1979 - val_loss: 1.6050 - val_accuracy: 0.8276 - lr: 0.0010 - 77s/epoch - 18ms/step
Epoch 42/75
4378/4378 - 78s - loss: 1.6095 - accuracy: 0.1980 - val_loss: 1.6202 - val_accuracy: 0.0735 - lr: 0.0010 - 78s/epoch - 18ms/step
Epoch 43/75
4378/4378 - 78s - loss: 1.6095 - accuracy: 0.1990 - val_loss: 1.6047 - val_accuracy: 0.0661 - lr: 0.0010 - 78s/epoch - 18ms/step
Epoch 44/75
4378/4378 - 78s - loss: 1.6095 - accuracy: 0.2005 - val_loss: 1.6130 - val_accuracy: 0.0661 - lr: 0.0010 - 78s/epoch - 18ms/step
Epoch 45/75
4378/4378 - 78s - loss: 1.6095 - accuracy: 0.2001 - val_loss: 1.6064 - val_accuracy: 0.0254 - lr: 0.0010 - 78s/epoch - 18ms/step
Epoch 46/75
4378/4378 - 78s - loss: 1.6095 - accuracy: 0.1993 - val_loss: 1.6142 - val_accuracy: 0.0254 - lr: 0.0010 - 78s/epoch - 18ms/step
Epoch 47/75
4378/4378 - 78s - loss: 1.6095 - accuracy: 0.2004 - val_loss: 1.6088 - val_accuracy: 0.0661 - lr: 0.0010 - 78s/epoch - 18ms/step
Epoch 48/75
4378/4378 - 78s - loss: 1.6095 - accuracy: 0.1987 - val_loss: 1.6116 - val_accuracy: 0.0074 - lr: 0.0010 - 78s/epoch - 18ms/step
Epoch 49/75
4378/4378 - 78s - loss: 1.6095 - accuracy: 0.1979 - val_loss: 1.6095 - val_accuracy: 0.0074 - lr: 0.0010 - 78s/epoch - 18ms/step
Epoch 50/75
4378/4378 - 78s - loss: 1.6095 - accuracy: 0.1988 - val_loss: 1.6104 - val_accuracy: 0.0074 - lr: 0.0010 - 78s/epoch - 18ms/step
Epoch 51/75
4378/4378 - 78s - loss: 1.6095 - accuracy: 0.1988 - val_loss: 1.6104 - val_accuracy: 0.0735 - lr: 0.0010 - 78s/epoch - 18ms/step
Epoch 52/75
4378/4378 - 78s - loss: 1.6095 - accuracy: 0.2001 - val_loss: 1.6131 - val_accuracy: 0.0735 - lr: 0.0010 - 78s/epoch - 18ms/step
Epoch 53/75
4378/4378 - 78s - loss: 1.6095 - accuracy: 0.1996 - val_loss: 1.6059 - val_accuracy: 0.0661 - lr: 0.0010 - 78s/epoch - 18ms/step
Epoch 54/75
4378/4378 - 78s - loss: 1.6095 - accuracy: 0.1980 - val_loss: 1.6133 - val_accuracy: 0.0661 - lr: 0.0010 - 78s/epoch - 18ms/step
Epoch 55/75
4378/4378 - 78s - loss: 1.6095 - accuracy: 0.1990 - val_loss: 1.6160 - val_accuracy: 0.0254 - lr: 0.0010 - 78s/epoch - 18ms/step
Epoch 56/75
4378/4378 - 78s - loss: 1.6095 - accuracy: 0.1981 - val_loss: 1.6141 - val_accuracy: 0.0661 - lr: 0.0010 - 78s/epoch - 18ms/step
Epoch 57/75
4378/4378 - 78s - loss: 1.6095 - accuracy: 0.1979 - val_loss: 1.6104 - val_accuracy: 0.0661 - lr: 0.0010 - 78s/epoch - 18ms/step
Epoch 58/75
4378/4378 - 78s - loss: 1.6095 - accuracy: 0.1994 - val_loss: 1.6106 - val_accuracy: 0.0074 - lr: 0.0010 - 78s/epoch - 18ms/step
Epoch 59/75
4378/4378 - 78s - loss: 1.6095 - accuracy: 0.1961 - val_loss: 1.6062 - val_accuracy: 0.0254 - lr: 0.0010 - 78s/epoch - 18ms/step
Epoch 60/75
4378/4378 - 78s - loss: 1.6095 - accuracy: 0.1991 - val_loss: 1.6016 - val_accuracy: 0.0661 - lr: 0.0010 - 78s/epoch - 18ms/step
Epoch 61/75
4378/4378 - 78s - loss: 1.6095 - accuracy: 0.1977 - val_loss: 1.6153 - val_accuracy: 0.0661 - lr: 0.0010 - 78s/epoch - 18ms/step
Epoch 62/75
4378/4378 - 78s - loss: 1.6095 - accuracy: 0.1983 - val_loss: 1.6121 - val_accuracy: 0.0074 - lr: 0.0010 - 78s/epoch - 18ms/step
Epoch 63/75
4378/4378 - 78s - loss: 1.6095 - accuracy: 0.1982 - val_loss: 1.6114 - val_accuracy: 0.0074 - lr: 0.0010 - 78s/epoch - 18ms/step
Epoch 64/75
4378/4378 - 78s - loss: 1.6095 - accuracy: 0.1979 - val_loss: 1.6144 - val_accuracy: 0.0661 - lr: 0.0010 - 78s/epoch - 18ms/step
Epoch 65/75
4378/4378 - 78s - loss: 1.6095 - accuracy: 0.1988 - val_loss: 1.6185 - val_accuracy: 0.0074 - lr: 0.0010 - 78s/epoch - 18ms/step
Epoch 66/75
4378/4378 - 78s - loss: 1.6095 - accuracy: 0.1980 - val_loss: 1.6106 - val_accuracy: 0.0254 - lr: 0.0010 - 78s/epoch - 18ms/step
Epoch 67/75
4378/4378 - 78s - loss: 1.6094 - accuracy: 0.2003 - val_loss: 1.6234 - val_accuracy: 0.0735 - lr: 0.0010 - 78s/epoch - 18ms/step
Epoch 68/75
4378/4378 - 78s - loss: 1.6095 - accuracy: 0.2010 - val_loss: 1.6184 - val_accuracy: 0.0254 - lr: 0.0010 - 78s/epoch - 18ms/step
Epoch 69/75
4378/4378 - 78s - loss: 1.6095 - accuracy: 0.1983 - val_loss: 1.6101 - val_accuracy: 0.0735 - lr: 0.0010 - 78s/epoch - 18ms/step
Epoch 70/75
4378/4378 - 78s - loss: 1.6095 - accuracy: 0.1974 - val_loss: 1.6101 - val_accuracy: 0.0074 - lr: 0.0010 - 78s/epoch - 18ms/step
Epoch 71/75
4378/4378 - 78s - loss: 1.6095 - accuracy: 0.1986 - val_loss: 1.6071 - val_accuracy: 0.0735 - lr: 0.0010 - 78s/epoch - 18ms/step
Epoch 72/75
4378/4378 - 78s - loss: 1.6095 - accuracy: 0.1975 - val_loss: 1.6063 - val_accuracy: 0.8276 - lr: 0.0010 - 78s/epoch - 18ms/step
Epoch 73/75
4378/4378 - 78s - loss: 1.6095 - accuracy: 0.1984 - val_loss: 1.6006 - val_accuracy: 0.8276 - lr: 0.0010 - 78s/epoch - 18ms/step
Epoch 74/75
4378/4378 - 78s - loss: 1.6095 - accuracy: 0.2011 - val_loss: 1.6091 - val_accuracy: 0.0735 - lr: 0.0010 - 78s/epoch - 18ms/step
Epoch 75/75
4378/4378 - 78s - loss: 1.6095 - accuracy: 0.2002 - val_loss: 1.6103 - val_accuracy: 0.0254 - lr: 0.0010 - 78s/epoch - 18ms/step
Epoch 1/75
876/876 - 22s - loss: 1.6095 - accuracy: 0.1984 - val_loss: 1.6095 - val_accuracy: 0.0661 - lr: 0.0010 - 22s/epoch - 25ms/step
Epoch 2/75
876/876 - 20s - loss: 1.6095 - accuracy: 0.1976 - val_loss: 1.6074 - val_accuracy: 0.8276 - lr: 0.0010 - 20s/epoch - 22ms/step
Epoch 3/75
876/876 - 20s - loss: 1.6095 - accuracy: 0.1986 - val_loss: 1.6097 - val_accuracy: 0.0661 - lr: 0.0010 - 20s/epoch - 22ms/step
Epoch 4/75
876/876 - 20s - loss: 1.6095 - accuracy: 0.1974 - val_loss: 1.6097 - val_accuracy: 0.0661 - lr: 0.0010 - 20s/epoch - 22ms/step
Epoch 5/75
876/876 - 20s - loss: 1.6095 - accuracy: 0.2012 - val_loss: 1.6065 - val_accuracy: 0.0074 - lr: 0.0010 - 20s/epoch - 22ms/step
Epoch 6/75
876/876 - 20s - loss: 1.6095 - accuracy: 0.1989 - val_loss: 1.6120 - val_accuracy: 0.0074 - lr: 0.0010 - 20s/epoch - 22ms/step
Epoch 7/75
876/876 - 20s - loss: 1.6095 - accuracy: 0.1963 - val_loss: 1.6095 - val_accuracy: 0.0661 - lr: 0.0010 - 20s/epoch - 22ms/step
Epoch 8/75
876/876 - 20s - loss: 1.6095 - accuracy: 0.1961 - val_loss: 1.6111 - val_accuracy: 0.0735 - lr: 0.0010 - 20s/epoch - 22ms/step
Epoch 9/75
876/876 - 20s - loss: 1.6094 - accuracy: 0.2000 - val_loss: 1.6131 - val_accuracy: 0.0254 - lr: 0.0010 - 20s/epoch - 22ms/step
Epoch 10/75
876/876 - 19s - loss: 1.6095 - accuracy: 0.1993 - val_loss: 1.6076 - val_accuracy: 0.0074 - lr: 0.0010 - 19s/epoch - 22ms/step
Epoch 11/75
876/876 - 20s - loss: 1.6095 - accuracy: 0.1993 - val_loss: 1.6050 - val_accuracy: 0.8276 - lr: 0.0010 - 20s/epoch - 23ms/step
Epoch 12/75
876/876 - 20s - loss: 1.6095 - accuracy: 0.1967 - val_loss: 1.6100 - val_accuracy: 0.0254 - lr: 0.0010 - 20s/epoch - 22ms/step
Epoch 13/75
876/876 - 20s - loss: 1.6095 - accuracy: 0.1998 - val_loss: 1.6039 - val_accuracy: 0.0661 - lr: 0.0010 - 20s/epoch - 22ms/step
Epoch 14/75
876/876 - 20s - loss: 1.6095 - accuracy: 0.1987 - val_loss: 1.6074 - val_accuracy: 0.0661 - lr: 0.0010 - 20s/epoch - 22ms/step
Epoch 15/75
876/876 - 20s - loss: 1.6095 - accuracy: 0.1995 - val_loss: 1.6158 - val_accuracy: 0.0735 - lr: 0.0010 - 20s/epoch - 22ms/step
Epoch 16/75
876/876 - 20s - loss: 1.6095 - accuracy: 0.1981 - val_loss: 1.6151 - val_accuracy: 0.0074 - lr: 0.0010 - 20s/epoch - 22ms/step
Epoch 17/75
876/876 - 20s - loss: 1.6095 - accuracy: 0.2003 - val_loss: 1.6080 - val_accuracy: 0.0074 - lr: 0.0010 - 20s/epoch - 22ms/step
Epoch 18/75
876/876 - 20s - loss: 1.6095 - accuracy: 0.1969 - val_loss: 1.6086 - val_accuracy: 0.0661 - lr: 0.0010 - 20s/epoch - 22ms/step
Epoch 19/75
876/876 - 19s - loss: 1.6095 - accuracy: 0.1975 - val_loss: 1.6035 - val_accuracy: 0.8276 - lr: 0.0010 - 19s/epoch - 22ms/step
Epoch 20/75
876/876 - 20s - loss: 1.6095 - accuracy: 0.1965 - val_loss: 1.6083 - val_accuracy: 0.8276 - lr: 0.0010 - 20s/epoch - 22ms/step
Epoch 21/75
876/876 - 20s - loss: 1.6095 - accuracy: 0.1983 - val_loss: 1.6068 - val_accuracy: 0.8276 - lr: 0.0010 - 20s/epoch - 22ms/step
Epoch 22/75
876/876 - 20s - loss: 1.6095 - accuracy: 0.1982 - val_loss: 1.6071 - val_accuracy: 0.8276 - lr: 0.0010 - 20s/epoch - 22ms/step
Epoch 23/75
876/876 - 20s - loss: 1.6095 - accuracy: 0.1993 - val_loss: 1.6088 - val_accuracy: 0.0661 - lr: 0.0010 - 20s/epoch - 22ms/step
Epoch 24/75
876/876 - 20s - loss: 1.6095 - accuracy: 0.1988 - val_loss: 1.6053 - val_accuracy: 0.8276 - lr: 0.0010 - 20s/epoch - 22ms/step
Epoch 25/75
876/876 - 20s - loss: 1.6095 - accuracy: 0.1974 - val_loss: 1.6119 - val_accuracy: 0.0074 - lr: 0.0010 - 20s/epoch - 22ms/step
Epoch 26/75
876/876 - 20s - loss: 1.6095 - accuracy: 0.1976 - val_loss: 1.6063 - val_accuracy: 0.8276 - lr: 0.0010 - 20s/epoch - 22ms/step
Epoch 27/75
876/876 - 20s - loss: 1.6094 - accuracy: 0.2019 - val_loss: 1.6142 - val_accuracy: 0.0254 - lr: 0.0010 - 20s/epoch - 22ms/step
Epoch 28/75
876/876 - 20s - loss: 1.6095 - accuracy: 0.1992 - val_loss: 1.6110 - val_accuracy: 0.0661 - lr: 0.0010 - 20s/epoch - 22ms/step
Epoch 29/75
876/876 - 20s - loss: 1.6095 - accuracy: 0.1978 - val_loss: 1.6101 - val_accuracy: 0.0074 - lr: 0.0010 - 20s/epoch - 22ms/step
Epoch 30/75
876/876 - 20s - loss: 1.6095 - accuracy: 0.1954 - val_loss: 1.6086 - val_accuracy: 0.0661 - lr: 0.0010 - 20s/epoch - 22ms/step
Epoch 31/75
876/876 - 20s - loss: 1.6095 - accuracy: 0.1989 - val_loss: 1.6181 - val_accuracy: 0.0254 - lr: 0.0010 - 20s/epoch - 22ms/step
Epoch 32/75
876/876 - 20s - loss: 1.6095 - accuracy: 0.1970 - val_loss: 1.6098 - val_accuracy: 0.0254 - lr: 0.0010 - 20s/epoch - 22ms/step
Epoch 33/75
876/876 - 19s - loss: 1.6095 - accuracy: 0.1973 - val_loss: 1.6103 - val_accuracy: 0.0254 - lr: 0.0010 - 19s/epoch - 22ms/step
Epoch 34/75
876/876 - 20s - loss: 1.6095 - accuracy: 0.1986 - val_loss: 1.6101 - val_accuracy: 0.0661 - lr: 0.0010 - 20s/epoch - 23ms/step
Epoch 35/75
876/876 - 20s - loss: 1.6095 - accuracy: 0.1983 - val_loss: 1.6103 - val_accuracy: 0.0735 - lr: 0.0010 - 20s/epoch - 22ms/step
Epoch 36/75
876/876 - 20s - loss: 1.6095 - accuracy: 0.1991 - val_loss: 1.6096 - val_accuracy: 0.0661 - lr: 0.0010 - 20s/epoch - 22ms/step
Epoch 37/75
876/876 - 20s - loss: 1.6095 - accuracy: 0.1978 - val_loss: 1.6074 - val_accuracy: 0.0254 - lr: 0.0010 - 20s/epoch - 22ms/step
Epoch 38/75
876/876 - 20s - loss: 1.6095 - accuracy: 0.1961 - val_loss: 1.6106 - val_accuracy: 0.0735 - lr: 0.0010 - 20s/epoch - 22ms/step
Epoch 39/75
876/876 - 20s - loss: 1.6095 - accuracy: 0.1988 - val_loss: 1.6086 - val_accuracy: 0.0661 - lr: 0.0010 - 20s/epoch - 22ms/step
Epoch 40/75
876/876 - 20s - loss: 1.6095 - accuracy: 0.1971 - val_loss: 1.6090 - val_accuracy: 0.0254 - lr: 0.0010 - 20s/epoch - 22ms/step
Epoch 41/75
876/876 - 20s - loss: 1.6095 - accuracy: 0.2000 - val_loss: 1.6089 - val_accuracy: 0.0735 - lr: 0.0010 - 20s/epoch - 22ms/step
Epoch 42/75
876/876 - 20s - loss: 1.6095 - accuracy: 0.1999 - val_loss: 1.6189 - val_accuracy: 0.0661 - lr: 0.0010 - 20s/epoch - 22ms/step
Epoch 43/75
876/876 - 20s - loss: 1.6095 - accuracy: 0.1984 - val_loss: 1.6113 - val_accuracy: 0.0074 - lr: 0.0010 - 20s/epoch - 22ms/step
Epoch 44/75
876/876 - 20s - loss: 1.6095 - accuracy: 0.1981 - val_loss: 1.6109 - val_accuracy: 0.0735 - lr: 0.0010 - 20s/epoch - 22ms/step
Epoch 45/75
876/876 - 20s - loss: 1.6095 - accuracy: 0.1982 - val_loss: 1.6100 - val_accuracy: 0.0074 - lr: 0.0010 - 20s/epoch - 23ms/step
Epoch 46/75
876/876 - 20s - loss: 1.6095 - accuracy: 0.1969 - val_loss: 1.6092 - val_accuracy: 0.0661 - lr: 0.0010 - 20s/epoch - 22ms/step
Epoch 47/75
876/876 - 20s - loss: 1.6095 - accuracy: 0.1987 - val_loss: 1.6058 - val_accuracy: 0.8276 - lr: 0.0010 - 20s/epoch - 22ms/step
Epoch 48/75
876/876 - 20s - loss: 1.6095 - accuracy: 0.1991 - val_loss: 1.6096 - val_accuracy: 0.0074 - lr: 0.0010 - 20s/epoch - 22ms/step
Epoch 49/75
876/876 - 20s - loss: 1.6095 - accuracy: 0.1981 - val_loss: 1.6092 - val_accuracy: 0.0074 - lr: 0.0010 - 20s/epoch - 22ms/step
Epoch 50/75
876/876 - 20s - loss: 1.6095 - accuracy: 0.1979 - val_loss: 1.6077 - val_accuracy: 0.0074 - lr: 0.0010 - 20s/epoch - 22ms/step
Epoch 51/75
876/876 - 20s - loss: 1.6095 - accuracy: 0.1986 - val_loss: 1.6080 - val_accuracy: 0.0661 - lr: 0.0010 - 20s/epoch - 22ms/step
Epoch 52/75
876/876 - 20s - loss: 1.6095 - accuracy: 0.1991 - val_loss: 1.6092 - val_accuracy: 0.0074 - lr: 0.0010 - 20s/epoch - 22ms/step
Epoch 53/75
876/876 - 20s - loss: 1.6095 - accuracy: 0.1978 - val_loss: 1.6093 - val_accuracy: 0.0661 - lr: 0.0010 - 20s/epoch - 22ms/step
Epoch 54/75
876/876 - 20s - loss: 1.6095 - accuracy: 0.1987 - val_loss: 1.6076 - val_accuracy: 0.0074 - lr: 0.0010 - 20s/epoch - 22ms/step
Epoch 55/75
876/876 - 20s - loss: 1.6095 - accuracy: 0.2000 - val_loss: 1.6106 - val_accuracy: 0.0735 - lr: 0.0010 - 20s/epoch - 22ms/step
Epoch 56/75
876/876 - 20s - loss: 1.6095 - accuracy: 0.1982 - val_loss: 1.6084 - val_accuracy: 0.8276 - lr: 0.0010 - 20s/epoch - 22ms/step
Epoch 57/75
876/876 - 20s - loss: 1.6095 - accuracy: 0.1987 - val_loss: 1.6110 - val_accuracy: 0.0254 - lr: 0.0010 - 20s/epoch - 22ms/step
Epoch 58/75
876/876 - 20s - loss: 1.6095 - accuracy: 0.1983 - val_loss: 1.6099 - val_accuracy: 0.0735 - lr: 0.0010 - 20s/epoch - 22ms/step
Epoch 59/75
876/876 - 20s - loss: 1.6095 - accuracy: 0.1992 - val_loss: 1.6090 - val_accuracy: 0.0074 - lr: 0.0010 - 20s/epoch - 23ms/step
Epoch 60/75
876/876 - 20s - loss: 1.6095 - accuracy: 0.2007 - val_loss: 1.6054 - val_accuracy: 0.0735 - lr: 0.0010 - 20s/epoch - 22ms/step
Epoch 61/75
876/876 - 20s - loss: 1.6095 - accuracy: 0.1994 - val_loss: 1.6126 - val_accuracy: 0.0074 - lr: 0.0010 - 20s/epoch - 22ms/step
Epoch 62/75
876/876 - 20s - loss: 1.6095 - accuracy: 0.1999 - val_loss: 1.6121 - val_accuracy: 0.0074 - lr: 0.0010 - 20s/epoch - 22ms/step
Epoch 63/75
876/876 - 20s - loss: 1.6095 - accuracy: 0.1983 - val_loss: 1.6102 - val_accuracy: 0.0661 - lr: 0.0010 - 20s/epoch - 22ms/step
Epoch 64/75
876/876 - 20s - loss: 1.6095 - accuracy: 0.1976 - val_loss: 1.6077 - val_accuracy: 0.0661 - lr: 0.0010 - 20s/epoch - 22ms/step
Epoch 65/75
876/876 - 20s - loss: 1.6095 - accuracy: 0.1979 - val_loss: 1.6093 - val_accuracy: 0.0735 - lr: 0.0010 - 20s/epoch - 22ms/step
Epoch 66/75
876/876 - 20s - loss: 1.6095 - accuracy: 0.1991 - val_loss: 1.6059 - val_accuracy: 0.8276 - lr: 0.0010 - 20s/epoch - 22ms/step
Epoch 67/75
876/876 - 20s - loss: 1.6095 - accuracy: 0.1975 - val_loss: 1.6082 - val_accuracy: 0.0735 - lr: 0.0010 - 20s/epoch - 22ms/step
Epoch 68/75
876/876 - 20s - loss: 1.6095 - accuracy: 0.1987 - val_loss: 1.6128 - val_accuracy: 0.0074 - lr: 0.0010 - 20s/epoch - 22ms/step
Epoch 69/75
876/876 - 20s - loss: 1.6095 - accuracy: 0.1990 - val_loss: 1.6091 - val_accuracy: 0.0735 - lr: 0.0010 - 20s/epoch - 22ms/step
Epoch 70/75
876/876 - 20s - loss: 1.6095 - accuracy: 0.2000 - val_loss: 1.6094 - val_accuracy: 0.0074 - lr: 0.0010 - 20s/epoch - 22ms/step
Epoch 71/75
876/876 - 20s - loss: 1.6095 - accuracy: 0.1990 - val_loss: 1.6076 - val_accuracy: 0.8276 - lr: 0.0010 - 20s/epoch - 22ms/step
Epoch 72/75
876/876 - 20s - loss: 1.6095 - accuracy: 0.1986 - val_loss: 1.6116 - val_accuracy: 0.0074 - lr: 0.0010 - 20s/epoch - 22ms/step
Epoch 73/75
876/876 - 20s - loss: 1.6095 - accuracy: 0.1985 - val_loss: 1.6099 - val_accuracy: 0.0661 - lr: 0.0010 - 20s/epoch - 23ms/step
Epoch 74/75
876/876 - 20s - loss: 1.6095 - accuracy: 0.1991 - val_loss: 1.6096 - val_accuracy: 0.0074 - lr: 0.0010 - 20s/epoch - 22ms/step
Epoch 75/75
876/876 - 20s - loss: 1.6095 - accuracy: 0.1976 - val_loss: 1.6103 - val_accuracy: 0.0074 - lr: 0.0010 - 20s/epoch - 22ms/step
Epoch 1/75
176/176 - 15s - loss: 1.6094 - accuracy: 0.1994 - val_loss: 1.6100 - val_accuracy: 0.0074 - lr: 0.0010 - 15s/epoch - 86ms/step
Epoch 2/75
176/176 - 10s - loss: 1.6094 - accuracy: 0.1972 - val_loss: 1.6095 - val_accuracy: 0.0074 - lr: 0.0010 - 10s/epoch - 59ms/step
Epoch 3/75
176/176 - 10s - loss: 1.6094 - accuracy: 0.1970 - val_loss: 1.6094 - val_accuracy: 0.0074 - lr: 0.0010 - 10s/epoch - 59ms/step
Epoch 4/75
176/176 - 10s - loss: 1.6094 - accuracy: 0.1990 - val_loss: 1.6091 - val_accuracy: 0.0074 - lr: 0.0010 - 10s/epoch - 58ms/step
Epoch 5/75
176/176 - 10s - loss: 1.6094 - accuracy: 0.1979 - val_loss: 1.6089 - val_accuracy: 0.0074 - lr: 0.0010 - 10s/epoch - 59ms/step
Epoch 6/75
176/176 - 10s - loss: 1.6094 - accuracy: 0.1983 - val_loss: 1.6094 - val_accuracy: 0.0074 - lr: 0.0010 - 10s/epoch - 59ms/step
Epoch 7/75
176/176 - 10s - loss: 1.6094 - accuracy: 0.1985 - val_loss: 1.6099 - val_accuracy: 0.0661 - lr: 0.0010 - 10s/epoch - 59ms/step
Epoch 8/75
176/176 - 10s - loss: 1.6094 - accuracy: 0.1986 - val_loss: 1.6100 - val_accuracy: 0.0735 - lr: 0.0010 - 10s/epoch - 59ms/step
Epoch 9/75
176/176 - 10s - loss: 1.6094 - accuracy: 0.1981 - val_loss: 1.6109 - val_accuracy: 0.0254 - lr: 0.0010 - 10s/epoch - 58ms/step
Epoch 10/75
176/176 - 10s - loss: 1.6094 - accuracy: 0.1970 - val_loss: 1.6100 - val_accuracy: 0.0254 - lr: 0.0010 - 10s/epoch - 59ms/step
Epoch 11/75
176/176 - 10s - loss: 1.6094 - accuracy: 0.1976 - val_loss: 1.6098 - val_accuracy: 0.0735 - lr: 0.0010 - 10s/epoch - 59ms/step
Epoch 12/75
176/176 - 10s - loss: 1.6094 - accuracy: 0.1997 - val_loss: 1.6088 - val_accuracy: 0.0074 - lr: 0.0010 - 10s/epoch - 59ms/step
Epoch 13/75
176/176 - 10s - loss: 1.6094 - accuracy: 0.1968 - val_loss: 1.6101 - val_accuracy: 0.0074 - lr: 0.0010 - 10s/epoch - 58ms/step
Epoch 14/75
176/176 - 10s - loss: 1.6094 - accuracy: 0.1966 - val_loss: 1.6093 - val_accuracy: 0.0254 - lr: 0.0010 - 10s/epoch - 58ms/step
Epoch 15/75
176/176 - 10s - loss: 1.6094 - accuracy: 0.2000 - val_loss: 1.6085 - val_accuracy: 0.0074 - lr: 0.0010 - 10s/epoch - 59ms/step
Epoch 16/75
176/176 - 10s - loss: 1.6094 - accuracy: 0.1983 - val_loss: 1.6095 - val_accuracy: 0.0254 - lr: 0.0010 - 10s/epoch - 59ms/step
Epoch 17/75
176/176 - 10s - loss: 1.6094 - accuracy: 0.1983 - val_loss: 1.6094 - val_accuracy: 0.0735 - lr: 0.0010 - 10s/epoch - 58ms/step
Epoch 18/75
176/176 - 10s - loss: 1.6095 - accuracy: 0.1988 - val_loss: 1.6098 - val_accuracy: 0.0735 - lr: 0.0010 - 10s/epoch - 59ms/step
Epoch 19/75
176/176 - 10s - loss: 1.6094 - accuracy: 0.1972 - val_loss: 1.6102 - val_accuracy: 0.0661 - lr: 0.0010 - 10s/epoch - 59ms/step
Epoch 20/75
176/176 - 10s - loss: 1.6094 - accuracy: 0.1970 - val_loss: 1.6101 - val_accuracy: 0.0074 - lr: 0.0010 - 10s/epoch - 59ms/step
Epoch 21/75
176/176 - 10s - loss: 1.6094 - accuracy: 0.1989 - val_loss: 1.6097 - val_accuracy: 0.0661 - lr: 0.0010 - 10s/epoch - 59ms/step
Epoch 22/75
176/176 - 10s - loss: 1.6094 - accuracy: 0.1984 - val_loss: 1.6093 - val_accuracy: 0.0661 - lr: 0.0010 - 10s/epoch - 59ms/step
Epoch 23/75
176/176 - 10s - loss: 1.6094 - accuracy: 0.1968 - val_loss: 1.6092 - val_accuracy: 0.0254 - lr: 0.0010 - 10s/epoch - 59ms/step
Epoch 24/75
176/176 - 10s - loss: 1.6094 - accuracy: 0.1989 - val_loss: 1.6092 - val_accuracy: 0.0074 - lr: 0.0010 - 10s/epoch - 59ms/step
Epoch 25/75
176/176 - 10s - loss: 1.6094 - accuracy: 0.1987 - val_loss: 1.6092 - val_accuracy: 0.0661 - lr: 0.0010 - 10s/epoch - 58ms/step
Epoch 26/75
176/176 - 10s - loss: 1.6094 - accuracy: 0.1982 - val_loss: 1.6105 - val_accuracy: 0.0074 - lr: 0.0010 - 10s/epoch - 59ms/step
Epoch 27/75
176/176 - 10s - loss: 1.6094 - accuracy: 0.1983 - val_loss: 1.6111 - val_accuracy: 0.0074 - lr: 0.0010 - 10s/epoch - 58ms/step
Epoch 28/75
176/176 - 10s - loss: 1.6094 - accuracy: 0.1976 - val_loss: 1.6101 - val_accuracy: 0.0735 - lr: 0.0010 - 10s/epoch - 59ms/step
Epoch 29/75
176/176 - 10s - loss: 1.6094 - accuracy: 0.1987 - val_loss: 1.6096 - val_accuracy: 0.0074 - lr: 0.0010 - 10s/epoch - 59ms/step
Epoch 30/75
176/176 - 10s - loss: 1.6094 - accuracy: 0.1962 - val_loss: 1.6102 - val_accuracy: 0.0735 - lr: 0.0010 - 10s/epoch - 59ms/step
Epoch 31/75
176/176 - 10s - loss: 1.6095 - accuracy: 0.2000 - val_loss: 1.6102 - val_accuracy: 0.0735 - lr: 0.0010 - 10s/epoch - 59ms/step
Epoch 32/75
176/176 - 10s - loss: 1.6094 - accuracy: 0.1980 - val_loss: 1.6091 - val_accuracy: 0.0735 - lr: 0.0010 - 10s/epoch - 59ms/step
Epoch 33/75
176/176 - 10s - loss: 1.6094 - accuracy: 0.1991 - val_loss: 1.6084 - val_accuracy: 0.8276 - lr: 0.0010 - 10s/epoch - 59ms/step
Epoch 34/75
176/176 - 10s - loss: 1.6094 - accuracy: 0.1982 - val_loss: 1.6086 - val_accuracy: 0.8276 - lr: 0.0010 - 10s/epoch - 59ms/step
Epoch 35/75
176/176 - 10s - loss: 1.6094 - accuracy: 0.1977 - val_loss: 1.6089 - val_accuracy: 0.0254 - lr: 0.0010 - 10s/epoch - 59ms/step
Epoch 36/75
176/176 - 10s - loss: 1.6094 - accuracy: 0.1993 - val_loss: 1.6082 - val_accuracy: 0.8276 - lr: 0.0010 - 10s/epoch - 59ms/step
Epoch 37/75
176/176 - 10s - loss: 1.6094 - accuracy: 0.1991 - val_loss: 1.6089 - val_accuracy: 0.0254 - lr: 0.0010 - 10s/epoch - 59ms/step
Epoch 38/75
176/176 - 10s - loss: 1.6094 - accuracy: 0.1972 - val_loss: 1.6089 - val_accuracy: 0.0254 - lr: 0.0010 - 10s/epoch - 59ms/step
Epoch 39/75
176/176 - 10s - loss: 1.6094 - accuracy: 0.1968 - val_loss: 1.6105 - val_accuracy: 0.0254 - lr: 0.0010 - 10s/epoch - 59ms/step
Epoch 40/75
176/176 - 10s - loss: 1.6094 - accuracy: 0.1981 - val_loss: 1.6091 - val_accuracy: 0.0254 - lr: 0.0010 - 10s/epoch - 58ms/step
Epoch 41/75
176/176 - 10s - loss: 1.6094 - accuracy: 0.1976 - val_loss: 1.6086 - val_accuracy: 0.8276 - lr: 0.0010 - 10s/epoch - 59ms/step
Epoch 42/75
176/176 - 10s - loss: 1.6094 - accuracy: 0.1988 - val_loss: 1.6085 - val_accuracy: 0.8276 - lr: 0.0010 - 10s/epoch - 59ms/step
Epoch 43/75
176/176 - 10s - loss: 1.6094 - accuracy: 0.1993 - val_loss: 1.6085 - val_accuracy: 0.8276 - lr: 0.0010 - 10s/epoch - 59ms/step
Epoch 44/75
176/176 - 10s - loss: 1.6094 - accuracy: 0.1995 - val_loss: 1.6107 - val_accuracy: 0.0254 - lr: 0.0010 - 10s/epoch - 59ms/step
Epoch 45/75
176/176 - 10s - loss: 1.6094 - accuracy: 0.1986 - val_loss: 1.6090 - val_accuracy: 0.0661 - lr: 0.0010 - 10s/epoch - 59ms/step
Epoch 46/75
176/176 - 10s - loss: 1.6094 - accuracy: 0.1987 - val_loss: 1.6098 - val_accuracy: 0.0661 - lr: 0.0010 - 10s/epoch - 59ms/step
Epoch 47/75
176/176 - 10s - loss: 1.6094 - accuracy: 0.1989 - val_loss: 1.6095 - val_accuracy: 0.0074 - lr: 0.0010 - 10s/epoch - 59ms/step
Epoch 48/75
176/176 - 10s - loss: 1.6094 - accuracy: 0.1997 - val_loss: 1.6088 - val_accuracy: 0.0074 - lr: 0.0010 - 10s/epoch - 59ms/step
Epoch 49/75
176/176 - 10s - loss: 1.6094 - accuracy: 0.1979 - val_loss: 1.6085 - val_accuracy: 0.8276 - lr: 0.0010 - 10s/epoch - 59ms/step
Epoch 50/75
176/176 - 10s - loss: 1.6094 - accuracy: 0.1996 - val_loss: 1.6096 - val_accuracy: 0.0735 - lr: 0.0010 - 10s/epoch - 59ms/step
Epoch 51/75
176/176 - 10s - loss: 1.6094 - accuracy: 0.1980 - val_loss: 1.6088 - val_accuracy: 0.8276 - lr: 0.0010 - 10s/epoch - 59ms/step
Epoch 52/75
176/176 - 10s - loss: 1.6094 - accuracy: 0.1971 - val_loss: 1.6091 - val_accuracy: 0.0254 - lr: 0.0010 - 10s/epoch - 59ms/step
Epoch 53/75
176/176 - 10s - loss: 1.6094 - accuracy: 0.1987 - val_loss: 1.6094 - val_accuracy: 0.0735 - lr: 0.0010 - 10s/epoch - 59ms/step
Epoch 54/75
176/176 - 10s - loss: 1.6094 - accuracy: 0.1970 - val_loss: 1.6095 - val_accuracy: 0.0735 - lr: 0.0010 - 10s/epoch - 59ms/step
Epoch 55/75
176/176 - 10s - loss: 1.6094 - accuracy: 0.1990 - val_loss: 1.6094 - val_accuracy: 0.0254 - lr: 0.0010 - 10s/epoch - 59ms/step
Epoch 56/75
176/176 - 10s - loss: 1.6094 - accuracy: 0.1988 - val_loss: 1.6100 - val_accuracy: 0.0661 - lr: 0.0010 - 10s/epoch - 59ms/step
Epoch 57/75
176/176 - 10s - loss: 1.6094 - accuracy: 0.1974 - val_loss: 1.6095 - val_accuracy: 0.0661 - lr: 0.0010 - 10s/epoch - 59ms/step
Epoch 58/75
176/176 - 10s - loss: 1.6094 - accuracy: 0.1978 - val_loss: 1.6090 - val_accuracy: 0.0661 - lr: 0.0010 - 10s/epoch - 59ms/step
Epoch 59/75
176/176 - 10s - loss: 1.6094 - accuracy: 0.1982 - val_loss: 1.6093 - val_accuracy: 0.0074 - lr: 0.0010 - 10s/epoch - 59ms/step
Epoch 60/75
176/176 - 10s - loss: 1.6094 - accuracy: 0.1976 - val_loss: 1.6098 - val_accuracy: 0.0074 - lr: 0.0010 - 10s/epoch - 59ms/step
Epoch 61/75
176/176 - 10s - loss: 1.6094 - accuracy: 0.1984 - val_loss: 1.6092 - val_accuracy: 0.8276 - lr: 0.0010 - 10s/epoch - 58ms/step
Epoch 62/75
176/176 - 10s - loss: 1.6094 - accuracy: 0.1990 - val_loss: 1.6101 - val_accuracy: 0.0254 - lr: 0.0010 - 10s/epoch - 59ms/step
Epoch 63/75
176/176 - 10s - loss: 1.6094 - accuracy: 0.1977 - val_loss: 1.6104 - val_accuracy: 0.0074 - lr: 0.0010 - 10s/epoch - 58ms/step
Epoch 64/75
176/176 - 10s - loss: 1.6094 - accuracy: 0.1965 - val_loss: 1.6102 - val_accuracy: 0.0074 - lr: 0.0010 - 10s/epoch - 59ms/step
Epoch 65/75
176/176 - 10s - loss: 1.6094 - accuracy: 0.1988 - val_loss: 1.6086 - val_accuracy: 0.0074 - lr: 0.0010 - 10s/epoch - 59ms/step
Epoch 66/75
176/176 - 10s - loss: 1.6094 - accuracy: 0.1974 - val_loss: 1.6085 - val_accuracy: 0.8276 - lr: 0.0010 - 10s/epoch - 59ms/step
Epoch 67/75
176/176 - 10s - loss: 1.6094 - accuracy: 0.1993 - val_loss: 1.6092 - val_accuracy: 0.0074 - lr: 0.0010 - 10s/epoch - 59ms/step
Epoch 68/75
176/176 - 10s - loss: 1.6094 - accuracy: 0.1988 - val_loss: 1.6084 - val_accuracy: 0.8276 - lr: 0.0010 - 10s/epoch - 59ms/step
Epoch 69/75
176/176 - 10s - loss: 1.6094 - accuracy: 0.1981 - val_loss: 1.6085 - val_accuracy: 0.8276 - lr: 0.0010 - 10s/epoch - 59ms/step
Epoch 70/75
176/176 - 10s - loss: 1.6094 - accuracy: 0.1989 - val_loss: 1.6089 - val_accuracy: 0.0074 - lr: 0.0010 - 10s/epoch - 59ms/step
Epoch 71/75
176/176 - 10s - loss: 1.6094 - accuracy: 0.1989 - val_loss: 1.6092 - val_accuracy: 0.0661 - lr: 0.0010 - 10s/epoch - 59ms/step
Epoch 72/75
176/176 - 10s - loss: 1.6094 - accuracy: 0.1994 - val_loss: 1.6095 - val_accuracy: 0.0074 - lr: 0.0010 - 10s/epoch - 59ms/step
Epoch 73/75
176/176 - 10s - loss: 1.6094 - accuracy: 0.1982 - val_loss: 1.6100 - val_accuracy: 0.0661 - lr: 0.0010 - 10s/epoch - 59ms/step
Epoch 74/75
176/176 - 10s - loss: 1.6094 - accuracy: 0.1993 - val_loss: 1.6100 - val_accuracy: 0.0735 - lr: 0.0010 - 10s/epoch - 59ms/step
Epoch 75/75
176/176 - 10s - loss: 1.6094 - accuracy: 0.1986 - val_loss: 1.6102 - val_accuracy: 0.0735 - lr: 0.0010 - 10s/epoch - 58ms/step
Epoch 1/75
36/36 - 11s - loss: 1.6094 - accuracy: 0.2000 - val_loss: 1.6101 - val_accuracy: 0.0735 - lr: 0.0010 - 11s/epoch - 315ms/step
Epoch 2/75
36/36 - 9s - loss: 1.6094 - accuracy: 0.2000 - val_loss: 1.6095 - val_accuracy: 0.0735 - lr: 0.0010 - 9s/epoch - 246ms/step
Epoch 3/75
36/36 - 9s - loss: 1.6094 - accuracy: 0.2000 - val_loss: 1.6095 - val_accuracy: 0.0735 - lr: 0.0010 - 9s/epoch - 247ms/step
Epoch 4/75
36/36 - 9s - loss: 1.6094 - accuracy: 0.2000 - val_loss: 1.6093 - val_accuracy: 0.0735 - lr: 0.0010 - 9s/epoch - 247ms/step
Epoch 5/75
36/36 - 9s - loss: 1.6094 - accuracy: 0.2000 - val_loss: 1.6102 - val_accuracy: 0.0735 - lr: 0.0010 - 9s/epoch - 247ms/step
Epoch 6/75
36/36 - 9s - loss: 1.6094 - accuracy: 0.2000 - val_loss: 1.6101 - val_accuracy: 0.0735 - lr: 0.0010 - 9s/epoch - 247ms/step
Epoch 7/75
36/36 - 9s - loss: 1.6094 - accuracy: 0.2000 - val_loss: 1.6099 - val_accuracy: 0.0735 - lr: 0.0010 - 9s/epoch - 247ms/step
Epoch 8/75
36/36 - 9s - loss: 1.6094 - accuracy: 0.2000 - val_loss: 1.6092 - val_accuracy: 0.0735 - lr: 0.0010 - 9s/epoch - 247ms/step
Epoch 9/75
36/36 - 9s - loss: 1.6094 - accuracy: 0.2000 - val_loss: 1.6095 - val_accuracy: 0.0735 - lr: 0.0010 - 9s/epoch - 248ms/step
Epoch 10/75
36/36 - 9s - loss: 1.6094 - accuracy: 0.2000 - val_loss: 1.6105 - val_accuracy: 0.0735 - lr: 0.0010 - 9s/epoch - 247ms/step
Epoch 11/75
36/36 - 9s - loss: 1.6094 - accuracy: 0.1998 - val_loss: 1.6107 - val_accuracy: 0.0735 - lr: 0.0010 - 9s/epoch - 248ms/step
Epoch 12/75
36/36 - 9s - loss: 1.6094 - accuracy: 0.2000 - val_loss: 1.6103 - val_accuracy: 0.0735 - lr: 0.0010 - 9s/epoch - 246ms/step
Epoch 13/75
36/36 - 9s - loss: 1.6094 - accuracy: 0.2000 - val_loss: 1.6108 - val_accuracy: 0.0735 - lr: 0.0010 - 9s/epoch - 247ms/step
Epoch 14/75
36/36 - 9s - loss: 1.6094 - accuracy: 0.2000 - val_loss: 1.6115 - val_accuracy: 0.0735 - lr: 0.0010 - 9s/epoch - 247ms/step
Epoch 15/75
36/36 - 9s - loss: 1.6094 - accuracy: 0.2000 - val_loss: 1.6110 - val_accuracy: 0.0735 - lr: 0.0010 - 9s/epoch - 247ms/step
Epoch 16/75
36/36 - 9s - loss: 1.6094 - accuracy: 0.2000 - val_loss: 1.6110 - val_accuracy: 0.0735 - lr: 0.0010 - 9s/epoch - 247ms/step
Epoch 17/75
36/36 - 9s - loss: 1.6094 - accuracy: 0.2000 - val_loss: 1.6104 - val_accuracy: 0.0735 - lr: 0.0010 - 9s/epoch - 247ms/step
Epoch 18/75
36/36 - 9s - loss: 1.6094 - accuracy: 0.2000 - val_loss: 1.6105 - val_accuracy: 0.0735 - lr: 0.0010 - 9s/epoch - 247ms/step
Epoch 19/75
36/36 - 9s - loss: 1.6094 - accuracy: 0.2000 - val_loss: 1.6103 - val_accuracy: 0.0735 - lr: 0.0010 - 9s/epoch - 247ms/step
Epoch 20/75
36/36 - 9s - loss: 1.6094 - accuracy: 0.2000 - val_loss: 1.6110 - val_accuracy: 0.0735 - lr: 0.0010 - 9s/epoch - 247ms/step
Epoch 21/75
36/36 - 9s - loss: 1.6094 - accuracy: 0.2000 - val_loss: 1.6104 - val_accuracy: 0.0735 - lr: 0.0010 - 9s/epoch - 248ms/step
Epoch 22/75
36/36 - 9s - loss: 1.6094 - accuracy: 0.2000 - val_loss: 1.6101 - val_accuracy: 0.0735 - lr: 0.0010 - 9s/epoch - 247ms/step
Epoch 23/75
36/36 - 9s - loss: 1.6094 - accuracy: 0.2000 - val_loss: 1.6100 - val_accuracy: 0.0735 - lr: 0.0010 - 9s/epoch - 247ms/step
Epoch 24/75
36/36 - 9s - loss: 1.6094 - accuracy: 0.2004 - val_loss: 1.6097 - val_accuracy: 0.0735 - lr: 0.0010 - 9s/epoch - 247ms/step
Epoch 25/75
36/36 - 9s - loss: 1.6094 - accuracy: 0.2000 - val_loss: 1.6105 - val_accuracy: 0.0735 - lr: 0.0010 - 9s/epoch - 247ms/step
Epoch 26/75
36/36 - 9s - loss: 1.6094 - accuracy: 0.2000 - val_loss: 1.6105 - val_accuracy: 0.0735 - lr: 0.0010 - 9s/epoch - 247ms/step
Epoch 27/75
36/36 - 9s - loss: 1.6094 - accuracy: 0.2000 - val_loss: 1.6102 - val_accuracy: 0.0735 - lr: 0.0010 - 9s/epoch - 248ms/step
Epoch 28/75
36/36 - 9s - loss: 1.6094 - accuracy: 0.2000 - val_loss: 1.6095 - val_accuracy: 0.0735 - lr: 0.0010 - 9s/epoch - 247ms/step
Epoch 29/75
36/36 - 9s - loss: 1.6094 - accuracy: 0.2000 - val_loss: 1.6103 - val_accuracy: 0.0735 - lr: 0.0010 - 9s/epoch - 248ms/step
Epoch 30/75
36/36 - 9s - loss: 1.6094 - accuracy: 0.2000 - val_loss: 1.6103 - val_accuracy: 0.0735 - lr: 0.0010 - 9s/epoch - 247ms/step
Epoch 31/75
36/36 - 9s - loss: 1.6094 - accuracy: 0.2000 - val_loss: 1.6103 - val_accuracy: 0.0735 - lr: 0.0010 - 9s/epoch - 248ms/step
Epoch 32/75
36/36 - 9s - loss: 1.6094 - accuracy: 0.2000 - val_loss: 1.6095 - val_accuracy: 0.0735 - lr: 0.0010 - 9s/epoch - 248ms/step
Epoch 33/75
36/36 - 9s - loss: 1.6094 - accuracy: 0.2000 - val_loss: 1.6097 - val_accuracy: 0.0735 - lr: 0.0010 - 9s/epoch - 247ms/step
Epoch 34/75
36/36 - 9s - loss: 1.6094 - accuracy: 0.1989 - val_loss: 1.6090 - val_accuracy: 0.0735 - lr: 0.0010 - 9s/epoch - 247ms/step
Epoch 35/75
36/36 - 9s - loss: 1.6094 - accuracy: 0.1992 - val_loss: 1.6089 - val_accuracy: 0.0735 - lr: 0.0010 - 9s/epoch - 246ms/step
Epoch 36/75
36/36 - 9s - loss: 1.6094 - accuracy: 0.1994 - val_loss: 1.6089 - val_accuracy: 0.0735 - lr: 0.0010 - 9s/epoch - 247ms/step
Epoch 37/75
36/36 - 9s - loss: 1.6094 - accuracy: 0.1987 - val_loss: 1.6080 - val_accuracy: 0.8276 - lr: 0.0010 - 9s/epoch - 248ms/step
Epoch 38/75
36/36 - 9s - loss: 1.6094 - accuracy: 0.1989 - val_loss: 1.6078 - val_accuracy: 0.8276 - lr: 0.0010 - 9s/epoch - 247ms/step
Epoch 39/75
36/36 - 9s - loss: 1.6094 - accuracy: 0.1997 - val_loss: 1.6073 - val_accuracy: 0.8276 - lr: 0.0010 - 9s/epoch - 247ms/step
Epoch 40/75
36/36 - 9s - loss: 1.6094 - accuracy: 0.2003 - val_loss: 1.6078 - val_accuracy: 0.0735 - lr: 0.0010 - 9s/epoch - 247ms/step
Epoch 41/75
36/36 - 9s - loss: 1.6094 - accuracy: 0.2002 - val_loss: 1.6079 - val_accuracy: 0.8276 - lr: 0.0010 - 9s/epoch - 248ms/step
Epoch 42/75
36/36 - 9s - loss: 1.6094 - accuracy: 0.1986 - val_loss: 1.6084 - val_accuracy: 0.8276 - lr: 0.0010 - 9s/epoch - 247ms/step
Epoch 43/75
36/36 - 9s - loss: 1.6094 - accuracy: 0.1999 - val_loss: 1.6086 - val_accuracy: 0.8276 - lr: 0.0010 - 9s/epoch - 247ms/step
Epoch 44/75
36/36 - 9s - loss: 1.6094 - accuracy: 0.1994 - val_loss: 1.6087 - val_accuracy: 0.0074 - lr: 0.0010 - 9s/epoch - 247ms/step
Epoch 45/75
36/36 - 9s - loss: 1.6094 - accuracy: 0.1991 - val_loss: 1.6088 - val_accuracy: 0.8276 - lr: 0.0010 - 9s/epoch - 248ms/step
Epoch 46/75
36/36 - 9s - loss: 1.6094 - accuracy: 0.1976 - val_loss: 1.6095 - val_accuracy: 0.0735 - lr: 0.0010 - 9s/epoch - 247ms/step
Epoch 47/75
36/36 - 9s - loss: 1.6094 - accuracy: 0.2000 - val_loss: 1.6104 - val_accuracy: 0.0735 - lr: 0.0010 - 9s/epoch - 248ms/step
Epoch 48/75
36/36 - 9s - loss: 1.6094 - accuracy: 0.2000 - val_loss: 1.6097 - val_accuracy: 0.0735 - lr: 0.0010 - 9s/epoch - 247ms/step
Epoch 49/75
36/36 - 9s - loss: 1.6094 - accuracy: 0.1985 - val_loss: 1.6089 - val_accuracy: 0.0074 - lr: 0.0010 - 9s/epoch - 247ms/step
Epoch 50/75
36/36 - 9s - loss: 1.6094 - accuracy: 0.1994 - val_loss: 1.6082 - val_accuracy: 0.8276 - lr: 0.0010 - 9s/epoch - 247ms/step
Epoch 51/75
36/36 - 9s - loss: 1.6094 - accuracy: 0.2000 - val_loss: 1.6078 - val_accuracy: 0.8276 - lr: 0.0010 - 9s/epoch - 248ms/step
Epoch 52/75
36/36 - 9s - loss: 1.6094 - accuracy: 0.2000 - val_loss: 1.6075 - val_accuracy: 0.8276 - lr: 0.0010 - 9s/epoch - 247ms/step
Epoch 53/75
36/36 - 9s - loss: 1.6094 - accuracy: 0.2000 - val_loss: 1.6086 - val_accuracy: 0.8276 - lr: 0.0010 - 9s/epoch - 247ms/step
Epoch 54/75
36/36 - 9s - loss: 1.6094 - accuracy: 0.1997 - val_loss: 1.6098 - val_accuracy: 0.0074 - lr: 0.0010 - 9s/epoch - 247ms/step
Epoch 55/75
36/36 - 9s - loss: 1.6094 - accuracy: 0.2000 - val_loss: 1.6099 - val_accuracy: 0.0074 - lr: 0.0010 - 9s/epoch - 247ms/step
Epoch 56/75
36/36 - 9s - loss: 1.6094 - accuracy: 0.2000 - val_loss: 1.6098 - val_accuracy: 0.0074 - lr: 0.0010 - 9s/epoch - 247ms/step
Epoch 57/75
36/36 - 9s - loss: 1.6094 - accuracy: 0.2000 - val_loss: 1.6099 - val_accuracy: 0.0074 - lr: 0.0010 - 9s/epoch - 247ms/step
Epoch 58/75
36/36 - 9s - loss: 1.6094 - accuracy: 0.2000 - val_loss: 1.6100 - val_accuracy: 0.0074 - lr: 0.0010 - 9s/epoch - 247ms/step
Epoch 59/75
36/36 - 9s - loss: 1.6094 - accuracy: 0.1984 - val_loss: 1.6110 - val_accuracy: 0.0735 - lr: 0.0010 - 9s/epoch - 248ms/step
Epoch 60/75
36/36 - 9s - loss: 1.6094 - accuracy: 0.2000 - val_loss: 1.6106 - val_accuracy: 0.0074 - lr: 0.0010 - 9s/epoch - 247ms/step
Epoch 61/75
36/36 - 9s - loss: 1.6094 - accuracy: 0.2000 - val_loss: 1.6098 - val_accuracy: 0.0074 - lr: 0.0010 - 9s/epoch - 248ms/step
Epoch 62/75
36/36 - 9s - loss: 1.6094 - accuracy: 0.1995 - val_loss: 1.6096 - val_accuracy: 0.0735 - lr: 0.0010 - 9s/epoch - 247ms/step
Epoch 63/75
36/36 - 9s - loss: 1.6094 - accuracy: 0.2009 - val_loss: 1.6104 - val_accuracy: 0.0661 - lr: 0.0010 - 9s/epoch - 248ms/step
Epoch 64/75
36/36 - 9s - loss: 1.6094 - accuracy: 0.2000 - val_loss: 1.6098 - val_accuracy: 0.0661 - lr: 0.0010 - 9s/epoch - 248ms/step
Epoch 65/75
36/36 - 9s - loss: 1.6094 - accuracy: 0.2000 - val_loss: 1.6093 - val_accuracy: 0.0661 - lr: 0.0010 - 9s/epoch - 247ms/step
Epoch 66/75
36/36 - 9s - loss: 1.6094 - accuracy: 0.2000 - val_loss: 1.6095 - val_accuracy: 0.0661 - lr: 0.0010 - 9s/epoch - 247ms/step
Epoch 67/75
36/36 - 9s - loss: 1.6094 - accuracy: 0.2000 - val_loss: 1.6100 - val_accuracy: 0.0661 - lr: 0.0010 - 9s/epoch - 247ms/step
Epoch 68/75
36/36 - 9s - loss: 1.6094 - accuracy: 0.2001 - val_loss: 1.6107 - val_accuracy: 0.0661 - lr: 0.0010 - 9s/epoch - 247ms/step
Epoch 69/75
36/36 - 9s - loss: 1.6094 - accuracy: 0.2000 - val_loss: 1.6106 - val_accuracy: 0.0661 - lr: 0.0010 - 9s/epoch - 247ms/step
Epoch 70/75
36/36 - 9s - loss: 1.6094 - accuracy: 0.2000 - val_loss: 1.6115 - val_accuracy: 0.0661 - lr: 0.0010 - 9s/epoch - 247ms/step
Epoch 71/75
36/36 - 9s - loss: 1.6094 - accuracy: 0.2000 - val_loss: 1.6112 - val_accuracy: 0.0661 - lr: 0.0010 - 9s/epoch - 247ms/step
Epoch 72/75
36/36 - 9s - loss: 1.6094 - accuracy: 0.1999 - val_loss: 1.6107 - val_accuracy: 0.0661 - lr: 0.0010 - 9s/epoch - 247ms/step
Epoch 73/75
36/36 - 9s - loss: 1.6094 - accuracy: 0.2000 - val_loss: 1.6115 - val_accuracy: 0.0661 - lr: 0.0010 - 9s/epoch - 247ms/step
Epoch 74/75
36/36 - 9s - loss: 1.6094 - accuracy: 0.2012 - val_loss: 1.6110 - val_accuracy: 0.0661 - lr: 0.0010 - 9s/epoch - 247ms/step
Epoch 75/75
36/36 - 9s - loss: 1.6094 - accuracy: 0.1969 - val_loss: 1.6103 - val_accuracy: 0.0661 - lr: 0.0010 - 9s/epoch - 247ms/step
Epoch 1/100
4378/4378 - 81s - loss: 1.6095 - accuracy: 0.2018 - val_loss: 1.5957 - val_accuracy: 0.8276 - lr: 0.0010 - 81s/epoch - 19ms/step
Epoch 2/100
4378/4378 - 79s - loss: 1.6095 - accuracy: 0.1988 - val_loss: 1.6119 - val_accuracy: 0.0074 - lr: 0.0010 - 79s/epoch - 18ms/step
Epoch 3/100
4378/4378 - 79s - loss: 1.6095 - accuracy: 0.1985 - val_loss: 1.6106 - val_accuracy: 0.0254 - lr: 0.0010 - 79s/epoch - 18ms/step
Epoch 4/100
4378/4378 - 79s - loss: 1.6095 - accuracy: 0.1985 - val_loss: 1.6097 - val_accuracy: 0.0735 - lr: 0.0010 - 79s/epoch - 18ms/step
Epoch 5/100
4378/4378 - 79s - loss: 1.6095 - accuracy: 0.1982 - val_loss: 1.6140 - val_accuracy: 0.0254 - lr: 0.0010 - 79s/epoch - 18ms/step
Epoch 6/100
4378/4378 - 79s - loss: 1.6095 - accuracy: 0.1996 - val_loss: 1.6155 - val_accuracy: 0.0074 - lr: 0.0010 - 79s/epoch - 18ms/step
Epoch 7/100
4378/4378 - 79s - loss: 1.6095 - accuracy: 0.1980 - val_loss: 1.6079 - val_accuracy: 0.0661 - lr: 0.0010 - 79s/epoch - 18ms/step
Epoch 8/100
4378/4378 - 79s - loss: 1.6095 - accuracy: 0.1998 - val_loss: 1.6096 - val_accuracy: 0.0254 - lr: 0.0010 - 79s/epoch - 18ms/step
Epoch 9/100
4378/4378 - 79s - loss: 1.6095 - accuracy: 0.1994 - val_loss: 1.6003 - val_accuracy: 0.0254 - lr: 0.0010 - 79s/epoch - 18ms/step
Epoch 10/100
4378/4378 - 79s - loss: 1.6095 - accuracy: 0.2023 - val_loss: 1.6050 - val_accuracy: 0.0735 - lr: 0.0010 - 79s/epoch - 18ms/step
Epoch 11/100
4378/4378 - 79s - loss: 1.6095 - accuracy: 0.1968 - val_loss: 1.6037 - val_accuracy: 0.8276 - lr: 0.0010 - 79s/epoch - 18ms/step
Epoch 12/100
4378/4378 - 79s - loss: 1.6095 - accuracy: 0.1992 - val_loss: 1.6212 - val_accuracy: 0.0254 - lr: 0.0010 - 79s/epoch - 18ms/step
Epoch 13/100
4378/4378 - 79s - loss: 1.6095 - accuracy: 0.2022 - val_loss: 1.6182 - val_accuracy: 0.0074 - lr: 0.0010 - 79s/epoch - 18ms/step
Epoch 14/100
4378/4378 - 79s - loss: 1.6095 - accuracy: 0.2004 - val_loss: 1.6069 - val_accuracy: 0.0074 - lr: 0.0010 - 79s/epoch - 18ms/step
Epoch 15/100
4378/4378 - 80s - loss: 1.6095 - accuracy: 0.2012 - val_loss: 1.6027 - val_accuracy: 0.8276 - lr: 0.0010 - 80s/epoch - 18ms/step
Epoch 16/100
4378/4378 - 79s - loss: 1.6095 - accuracy: 0.1997 - val_loss: 1.6165 - val_accuracy: 0.0661 - lr: 0.0010 - 79s/epoch - 18ms/step
Epoch 17/100
4378/4378 - 79s - loss: 1.6095 - accuracy: 0.1980 - val_loss: 1.6099 - val_accuracy: 0.0074 - lr: 0.0010 - 79s/epoch - 18ms/step
Epoch 18/100
4378/4378 - 79s - loss: 1.6095 - accuracy: 0.1996 - val_loss: 1.6145 - val_accuracy: 0.0254 - lr: 0.0010 - 79s/epoch - 18ms/step
Epoch 19/100
4378/4378 - 79s - loss: 1.6095 - accuracy: 0.2008 - val_loss: 1.6077 - val_accuracy: 0.0735 - lr: 0.0010 - 79s/epoch - 18ms/step
Epoch 20/100
4378/4378 - 79s - loss: 1.6095 - accuracy: 0.1966 - val_loss: 1.6087 - val_accuracy: 0.0735 - lr: 0.0010 - 79s/epoch - 18ms/step
Epoch 21/100
4378/4378 - 79s - loss: 1.6095 - accuracy: 0.1991 - val_loss: 1.5989 - val_accuracy: 0.8276 - lr: 0.0010 - 79s/epoch - 18ms/step
Epoch 22/100
4378/4378 - 79s - loss: 1.6095 - accuracy: 0.1980 - val_loss: 1.6147 - val_accuracy: 0.0735 - lr: 0.0010 - 79s/epoch - 18ms/step
Epoch 23/100
4378/4378 - 79s - loss: 1.6095 - accuracy: 0.1994 - val_loss: 1.6075 - val_accuracy: 0.0661 - lr: 0.0010 - 79s/epoch - 18ms/step
Epoch 24/100
4378/4378 - 79s - loss: 1.6095 - accuracy: 0.1991 - val_loss: 1.6091 - val_accuracy: 0.0735 - lr: 0.0010 - 79s/epoch - 18ms/step
Epoch 25/100
4378/4378 - 79s - loss: 1.6095 - accuracy: 0.1994 - val_loss: 1.6211 - val_accuracy: 0.0254 - lr: 0.0010 - 79s/epoch - 18ms/step
Epoch 26/100
4378/4378 - 79s - loss: 1.6095 - accuracy: 0.2003 - val_loss: 1.6009 - val_accuracy: 0.8276 - lr: 0.0010 - 79s/epoch - 18ms/step
Epoch 27/100
4378/4378 - 79s - loss: 1.6095 - accuracy: 0.2000 - val_loss: 1.6099 - val_accuracy: 0.0074 - lr: 0.0010 - 79s/epoch - 18ms/step
Epoch 28/100
4378/4378 - 80s - loss: 1.6095 - accuracy: 0.2000 - val_loss: 1.6052 - val_accuracy: 0.0254 - lr: 0.0010 - 80s/epoch - 18ms/step
Epoch 29/100
4378/4378 - 79s - loss: 1.6095 - accuracy: 0.1998 - val_loss: 1.6105 - val_accuracy: 0.0254 - lr: 0.0010 - 79s/epoch - 18ms/step
Epoch 30/100
4378/4378 - 79s - loss: 1.6095 - accuracy: 0.2011 - val_loss: 1.5940 - val_accuracy: 0.8276 - lr: 0.0010 - 79s/epoch - 18ms/step
Epoch 31/100
4378/4378 - 79s - loss: 1.6095 - accuracy: 0.1992 - val_loss: 1.6115 - val_accuracy: 0.0254 - lr: 0.0010 - 79s/epoch - 18ms/step
Epoch 32/100
4378/4378 - 79s - loss: 1.6095 - accuracy: 0.1973 - val_loss: 1.6167 - val_accuracy: 0.0735 - lr: 0.0010 - 79s/epoch - 18ms/step
Epoch 33/100
4378/4378 - 79s - loss: 1.6095 - accuracy: 0.2004 - val_loss: 1.6040 - val_accuracy: 0.8276 - lr: 0.0010 - 79s/epoch - 18ms/step
Epoch 34/100
4378/4378 - 79s - loss: 1.6095 - accuracy: 0.1987 - val_loss: 1.6045 - val_accuracy: 0.8276 - lr: 0.0010 - 79s/epoch - 18ms/step
Epoch 35/100
4378/4378 - 79s - loss: 1.6095 - accuracy: 0.2003 - val_loss: 1.5935 - val_accuracy: 0.8276 - lr: 0.0010 - 79s/epoch - 18ms/step
Epoch 36/100
4378/4378 - 79s - loss: 1.6095 - accuracy: 0.1975 - val_loss: 1.6078 - val_accuracy: 0.0661 - lr: 0.0010 - 79s/epoch - 18ms/step
Epoch 37/100
4378/4378 - 79s - loss: 1.6095 - accuracy: 0.1960 - val_loss: 1.6138 - val_accuracy: 0.0254 - lr: 0.0010 - 79s/epoch - 18ms/step
Epoch 38/100
4378/4378 - 79s - loss: 1.6095 - accuracy: 0.1999 - val_loss: 1.6065 - val_accuracy: 0.0735 - lr: 0.0010 - 79s/epoch - 18ms/step
Epoch 39/100
4378/4378 - 79s - loss: 1.6095 - accuracy: 0.1999 - val_loss: 1.5973 - val_accuracy: 0.8276 - lr: 0.0010 - 79s/epoch - 18ms/step
Epoch 40/100
4378/4378 - 79s - loss: 1.6095 - accuracy: 0.2005 - val_loss: 1.6119 - val_accuracy: 0.0661 - lr: 0.0010 - 79s/epoch - 18ms/step
Epoch 41/100
4378/4378 - 79s - loss: 1.6095 - accuracy: 0.2020 - val_loss: 1.6041 - val_accuracy: 0.0735 - lr: 0.0010 - 79s/epoch - 18ms/step
Epoch 42/100
4378/4378 - 79s - loss: 1.6095 - accuracy: 0.1978 - val_loss: 1.6074 - val_accuracy: 0.8276 - lr: 0.0010 - 79s/epoch - 18ms/step
Epoch 43/100
4378/4378 - 79s - loss: 1.6095 - accuracy: 0.1981 - val_loss: 1.6042 - val_accuracy: 0.0254 - lr: 0.0010 - 79s/epoch - 18ms/step
Epoch 44/100
4378/4378 - 79s - loss: 1.6095 - accuracy: 0.1974 - val_loss: 1.6092 - val_accuracy: 0.0661 - lr: 0.0010 - 79s/epoch - 18ms/step
Epoch 45/100
4378/4378 - 79s - loss: 1.6095 - accuracy: 0.1998 - val_loss: 1.6054 - val_accuracy: 0.8276 - lr: 0.0010 - 79s/epoch - 18ms/step
Epoch 46/100
4378/4378 - 79s - loss: 1.6095 - accuracy: 0.1963 - val_loss: 1.6087 - val_accuracy: 0.0074 - lr: 0.0010 - 79s/epoch - 18ms/step
Epoch 47/100
4378/4378 - 79s - loss: 1.6095 - accuracy: 0.2010 - val_loss: 1.5922 - val_accuracy: 0.8276 - lr: 0.0010 - 79s/epoch - 18ms/step
Epoch 48/100
4378/4378 - 79s - loss: 1.6095 - accuracy: 0.1958 - val_loss: 1.6062 - val_accuracy: 0.0735 - lr: 0.0010 - 79s/epoch - 18ms/step
Epoch 49/100
4378/4378 - 79s - loss: 1.6095 - accuracy: 0.2010 - val_loss: 1.6122 - val_accuracy: 0.0735 - lr: 0.0010 - 79s/epoch - 18ms/step
Epoch 50/100
4378/4378 - 79s - loss: 1.6095 - accuracy: 0.1985 - val_loss: 1.6090 - val_accuracy: 0.0661 - lr: 0.0010 - 79s/epoch - 18ms/step
Epoch 51/100
4378/4378 - 79s - loss: 1.6095 - accuracy: 0.1961 - val_loss: 1.6107 - val_accuracy: 0.0254 - lr: 0.0010 - 79s/epoch - 18ms/step
Epoch 52/100
4378/4378 - 79s - loss: 1.6095 - accuracy: 0.2018 - val_loss: 1.6042 - val_accuracy: 0.8276 - lr: 0.0010 - 79s/epoch - 18ms/step
Epoch 53/100
4378/4378 - 79s - loss: 1.6095 - accuracy: 0.1987 - val_loss: 1.6212 - val_accuracy: 0.0735 - lr: 0.0010 - 79s/epoch - 18ms/step
Epoch 54/100
4378/4378 - 79s - loss: 1.6095 - accuracy: 0.1997 - val_loss: 1.6106 - val_accuracy: 0.0254 - lr: 0.0010 - 79s/epoch - 18ms/step
Epoch 55/100
4378/4378 - 79s - loss: 1.6095 - accuracy: 0.1999 - val_loss: 1.6209 - val_accuracy: 0.0254 - lr: 0.0010 - 79s/epoch - 18ms/step
Epoch 56/100
4378/4378 - 79s - loss: 1.6095 - accuracy: 0.1997 - val_loss: 1.6072 - val_accuracy: 0.0254 - lr: 0.0010 - 79s/epoch - 18ms/step
Epoch 57/100
4378/4378 - 79s - loss: 1.6095 - accuracy: 0.2007 - val_loss: 1.6204 - val_accuracy: 0.0074 - lr: 0.0010 - 79s/epoch - 18ms/step
Epoch 58/100
4378/4378 - 79s - loss: 1.6095 - accuracy: 0.1988 - val_loss: 1.6082 - val_accuracy: 0.0074 - lr: 0.0010 - 79s/epoch - 18ms/step
Epoch 59/100
4378/4378 - 79s - loss: 1.6095 - accuracy: 0.1972 - val_loss: 1.6096 - val_accuracy: 0.0254 - lr: 0.0010 - 79s/epoch - 18ms/step
Epoch 60/100
4378/4378 - 79s - loss: 1.6095 - accuracy: 0.2001 - val_loss: 1.6010 - val_accuracy: 0.0735 - lr: 0.0010 - 79s/epoch - 18ms/step
Epoch 61/100
4378/4378 - 79s - loss: 1.6095 - accuracy: 0.1980 - val_loss: 1.6107 - val_accuracy: 0.0074 - lr: 0.0010 - 79s/epoch - 18ms/step
Epoch 62/100
4378/4378 - 79s - loss: 1.6095 - accuracy: 0.1970 - val_loss: 1.6128 - val_accuracy: 0.0254 - lr: 0.0010 - 79s/epoch - 18ms/step
Epoch 63/100
4378/4378 - 79s - loss: 1.6095 - accuracy: 0.2001 - val_loss: 1.6078 - val_accuracy: 0.0661 - lr: 0.0010 - 79s/epoch - 18ms/step
Epoch 64/100
4378/4378 - 79s - loss: 1.6095 - accuracy: 0.2017 - val_loss: 1.6181 - val_accuracy: 0.0254 - lr: 0.0010 - 79s/epoch - 18ms/step
Epoch 65/100
4378/4378 - 79s - loss: 1.6095 - accuracy: 0.1994 - val_loss: 1.5956 - val_accuracy: 0.8276 - lr: 0.0010 - 79s/epoch - 18ms/step
Epoch 66/100
4378/4378 - 79s - loss: 1.6095 - accuracy: 0.1970 - val_loss: 1.6123 - val_accuracy: 0.0661 - lr: 0.0010 - 79s/epoch - 18ms/step
Epoch 67/100
4378/4378 - 79s - loss: 1.6095 - accuracy: 0.1991 - val_loss: 1.5989 - val_accuracy: 0.8276 - lr: 0.0010 - 79s/epoch - 18ms/step
Epoch 68/100
4378/4378 - 79s - loss: 1.6095 - accuracy: 0.2001 - val_loss: 1.6198 - val_accuracy: 0.0735 - lr: 0.0010 - 79s/epoch - 18ms/step
Epoch 69/100
4378/4378 - 79s - loss: 1.6095 - accuracy: 0.1970 - val_loss: 1.6109 - val_accuracy: 0.0074 - lr: 0.0010 - 79s/epoch - 18ms/step
Epoch 70/100
4378/4378 - 79s - loss: 1.6095 - accuracy: 0.1985 - val_loss: 1.6167 - val_accuracy: 0.0254 - lr: 0.0010 - 79s/epoch - 18ms/step
Epoch 71/100
4378/4378 - 79s - loss: 1.6095 - accuracy: 0.1990 - val_loss: 1.6045 - val_accuracy: 0.8276 - lr: 0.0010 - 79s/epoch - 18ms/step
Epoch 72/100
4378/4378 - 79s - loss: 1.6095 - accuracy: 0.1983 - val_loss: 1.6104 - val_accuracy: 0.0254 - lr: 0.0010 - 79s/epoch - 18ms/step
Epoch 73/100
4378/4378 - 79s - loss: 1.6095 - accuracy: 0.1980 - val_loss: 1.6063 - val_accuracy: 0.8276 - lr: 0.0010 - 79s/epoch - 18ms/step
Epoch 74/100
4378/4378 - 79s - loss: 1.6095 - accuracy: 0.1985 - val_loss: 1.6108 - val_accuracy: 0.0074 - lr: 0.0010 - 79s/epoch - 18ms/step
Epoch 75/100
4378/4378 - 79s - loss: 1.6095 - accuracy: 0.1993 - val_loss: 1.6124 - val_accuracy: 0.0661 - lr: 0.0010 - 79s/epoch - 18ms/step
Epoch 76/100
4378/4378 - 79s - loss: 1.6095 - accuracy: 0.1987 - val_loss: 1.6155 - val_accuracy: 0.0074 - lr: 0.0010 - 79s/epoch - 18ms/step
Epoch 77/100
4378/4378 - 79s - loss: 1.6095 - accuracy: 0.1957 - val_loss: 1.6063 - val_accuracy: 0.0661 - lr: 0.0010 - 79s/epoch - 18ms/step
Epoch 78/100
4378/4378 - 79s - loss: 1.6095 - accuracy: 0.1974 - val_loss: 1.6100 - val_accuracy: 0.0074 - lr: 0.0010 - 79s/epoch - 18ms/step
Epoch 79/100
4378/4378 - 79s - loss: 1.6095 - accuracy: 0.1997 - val_loss: 1.6091 - val_accuracy: 0.0074 - lr: 0.0010 - 79s/epoch - 18ms/step
Epoch 80/100
4378/4378 - 79s - loss: 1.6095 - accuracy: 0.1989 - val_loss: 1.6017 - val_accuracy: 0.0661 - lr: 0.0010 - 79s/epoch - 18ms/step
Epoch 81/100
4378/4378 - 79s - loss: 1.6095 - accuracy: 0.2007 - val_loss: 1.6110 - val_accuracy: 0.0735 - lr: 0.0010 - 79s/epoch - 18ms/step
Epoch 82/100
4378/4378 - 79s - loss: 1.6095 - accuracy: 0.1977 - val_loss: 1.6148 - val_accuracy: 0.0661 - lr: 0.0010 - 79s/epoch - 18ms/step
Epoch 83/100
4378/4378 - 80s - loss: 1.6095 - accuracy: 0.1992 - val_loss: 1.6067 - val_accuracy: 0.0074 - lr: 0.0010 - 80s/epoch - 18ms/step
Epoch 84/100
4378/4378 - 79s - loss: 1.6095 - accuracy: 0.1982 - val_loss: 1.6089 - val_accuracy: 0.0735 - lr: 0.0010 - 79s/epoch - 18ms/step
Epoch 85/100
4378/4378 - 79s - loss: 1.6095 - accuracy: 0.1984 - val_loss: 1.6095 - val_accuracy: 0.0254 - lr: 0.0010 - 79s/epoch - 18ms/step
Epoch 86/100
4378/4378 - 79s - loss: 1.6095 - accuracy: 0.1986 - val_loss: 1.6123 - val_accuracy: 0.0074 - lr: 0.0010 - 79s/epoch - 18ms/step
Epoch 87/100
4378/4378 - 79s - loss: 1.6095 - accuracy: 0.1976 - val_loss: 1.6100 - val_accuracy: 0.0254 - lr: 0.0010 - 79s/epoch - 18ms/step
Epoch 88/100
4378/4378 - 79s - loss: 1.6095 - accuracy: 0.1987 - val_loss: 1.6098 - val_accuracy: 0.0254 - lr: 0.0010 - 79s/epoch - 18ms/step
Epoch 89/100
4378/4378 - 80s - loss: 1.6095 - accuracy: 0.2009 - val_loss: 1.6371 - val_accuracy: 0.0661 - lr: 0.0010 - 80s/epoch - 18ms/step
Epoch 90/100
4378/4378 - 79s - loss: 1.6095 - accuracy: 0.2012 - val_loss: 1.6067 - val_accuracy: 0.0735 - lr: 0.0010 - 79s/epoch - 18ms/step
Epoch 91/100
4378/4378 - 79s - loss: 1.6095 - accuracy: 0.1987 - val_loss: 1.6083 - val_accuracy: 0.0074 - lr: 0.0010 - 79s/epoch - 18ms/step
Epoch 92/100
4378/4378 - 79s - loss: 1.6095 - accuracy: 0.1978 - val_loss: 1.6096 - val_accuracy: 0.0074 - lr: 0.0010 - 79s/epoch - 18ms/step
Epoch 93/100
4378/4378 - 79s - loss: 1.6095 - accuracy: 0.1984 - val_loss: 1.6133 - val_accuracy: 0.0074 - lr: 0.0010 - 79s/epoch - 18ms/step
Epoch 94/100
4378/4378 - 79s - loss: 1.6095 - accuracy: 0.1989 - val_loss: 1.6130 - val_accuracy: 0.0074 - lr: 0.0010 - 79s/epoch - 18ms/step
Epoch 95/100
4378/4378 - 79s - loss: 1.6095 - accuracy: 0.1990 - val_loss: 1.6170 - val_accuracy: 0.0661 - lr: 0.0010 - 79s/epoch - 18ms/step
Epoch 96/100
4378/4378 - 79s - loss: 1.6095 - accuracy: 0.1980 - val_loss: 1.6093 - val_accuracy: 0.0661 - lr: 0.0010 - 79s/epoch - 18ms/step
Epoch 97/100
4378/4378 - 79s - loss: 1.6095 - accuracy: 0.1996 - val_loss: 1.6115 - val_accuracy: 0.0074 - lr: 0.0010 - 79s/epoch - 18ms/step
Epoch 98/100
4378/4378 - 79s - loss: 1.6095 - accuracy: 0.1992 - val_loss: 1.6135 - val_accuracy: 0.0735 - lr: 0.0010 - 79s/epoch - 18ms/step
Epoch 99/100
4378/4378 - 79s - loss: 1.6095 - accuracy: 0.1993 - val_loss: 1.6002 - val_accuracy: 0.8276 - lr: 0.0010 - 79s/epoch - 18ms/step
Epoch 100/100
4378/4378 - 79s - loss: 1.6095 - accuracy: 0.1993 - val_loss: 1.6036 - val_accuracy: 0.0735 - lr: 0.0010 - 79s/epoch - 18ms/step
Epoch 1/100
876/876 - 22s - loss: 1.6095 - accuracy: 0.1981 - val_loss: 1.6101 - val_accuracy: 0.0661 - lr: 0.0010 - 22s/epoch - 25ms/step
Epoch 2/100
876/876 - 19s - loss: 1.6095 - accuracy: 0.1982 - val_loss: 1.6097 - val_accuracy: 0.0661 - lr: 0.0010 - 19s/epoch - 22ms/step
Epoch 3/100
876/876 - 20s - loss: 1.6095 - accuracy: 0.1963 - val_loss: 1.6126 - val_accuracy: 0.0661 - lr: 0.0010 - 20s/epoch - 22ms/step
Epoch 4/100
876/876 - 20s - loss: 1.6095 - accuracy: 0.1992 - val_loss: 1.6095 - val_accuracy: 0.0735 - lr: 0.0010 - 20s/epoch - 22ms/step
Epoch 5/100
876/876 - 20s - loss: 1.6095 - accuracy: 0.1983 - val_loss: 1.6071 - val_accuracy: 0.8276 - lr: 0.0010 - 20s/epoch - 22ms/step
Epoch 6/100
876/876 - 20s - loss: 1.6095 - accuracy: 0.1988 - val_loss: 1.6062 - val_accuracy: 0.8276 - lr: 0.0010 - 20s/epoch - 22ms/step
Epoch 7/100
876/876 - 20s - loss: 1.6095 - accuracy: 0.1980 - val_loss: 1.6074 - val_accuracy: 0.0074 - lr: 0.0010 - 20s/epoch - 22ms/step
Epoch 8/100
876/876 - 20s - loss: 1.6095 - accuracy: 0.1997 - val_loss: 1.6028 - val_accuracy: 0.8276 - lr: 0.0010 - 20s/epoch - 22ms/step
Epoch 9/100
876/876 - 20s - loss: 1.6095 - accuracy: 0.1987 - val_loss: 1.6107 - val_accuracy: 0.0254 - lr: 0.0010 - 20s/epoch - 22ms/step
Epoch 10/100
876/876 - 20s - loss: 1.6095 - accuracy: 0.1969 - val_loss: 1.6096 - val_accuracy: 0.0074 - lr: 0.0010 - 20s/epoch - 22ms/step
Epoch 11/100
876/876 - 20s - loss: 1.6095 - accuracy: 0.1983 - val_loss: 1.6079 - val_accuracy: 0.0254 - lr: 0.0010 - 20s/epoch - 22ms/step
Epoch 12/100
876/876 - 20s - loss: 1.6095 - accuracy: 0.1972 - val_loss: 1.6073 - val_accuracy: 0.0254 - lr: 0.0010 - 20s/epoch - 22ms/step
Epoch 13/100
876/876 - 19s - loss: 1.6095 - accuracy: 0.1985 - val_loss: 1.6075 - val_accuracy: 0.0735 - lr: 0.0010 - 19s/epoch - 22ms/step
Epoch 14/100
876/876 - 20s - loss: 1.6095 - accuracy: 0.2008 - val_loss: 1.6109 - val_accuracy: 0.0254 - lr: 0.0010 - 20s/epoch - 22ms/step
Epoch 15/100
876/876 - 19s - loss: 1.6095 - accuracy: 0.1985 - val_loss: 1.6100 - val_accuracy: 0.0735 - lr: 0.0010 - 19s/epoch - 22ms/step
Epoch 16/100
876/876 - 20s - loss: 1.6094 - accuracy: 0.2015 - val_loss: 1.6063 - val_accuracy: 0.0661 - lr: 0.0010 - 20s/epoch - 22ms/step
Epoch 17/100
876/876 - 20s - loss: 1.6095 - accuracy: 0.1967 - val_loss: 1.6119 - val_accuracy: 0.0661 - lr: 0.0010 - 20s/epoch - 22ms/step
Epoch 18/100
876/876 - 20s - loss: 1.6095 - accuracy: 0.1973 - val_loss: 1.6060 - val_accuracy: 0.8276 - lr: 0.0010 - 20s/epoch - 22ms/step
Epoch 19/100
876/876 - 19s - loss: 1.6095 - accuracy: 0.1986 - val_loss: 1.6098 - val_accuracy: 0.0074 - lr: 0.0010 - 19s/epoch - 22ms/step
Epoch 20/100
876/876 - 20s - loss: 1.6095 - accuracy: 0.2011 - val_loss: 1.6059 - val_accuracy: 0.0735 - lr: 0.0010 - 20s/epoch - 23ms/step
Epoch 21/100
876/876 - 20s - loss: 1.6095 - accuracy: 0.1987 - val_loss: 1.6064 - val_accuracy: 0.8276 - lr: 0.0010 - 20s/epoch - 22ms/step
Epoch 22/100
876/876 - 20s - loss: 1.6095 - accuracy: 0.1977 - val_loss: 1.6074 - val_accuracy: 0.0735 - lr: 0.0010 - 20s/epoch - 22ms/step
Epoch 23/100
876/876 - 19s - loss: 1.6095 - accuracy: 0.2002 - val_loss: 1.6098 - val_accuracy: 0.0254 - lr: 0.0010 - 19s/epoch - 22ms/step
Epoch 24/100
876/876 - 20s - loss: 1.6095 - accuracy: 0.1975 - val_loss: 1.6095 - val_accuracy: 0.0254 - lr: 0.0010 - 20s/epoch - 22ms/step
Epoch 25/100
876/876 - 20s - loss: 1.6095 - accuracy: 0.1992 - val_loss: 1.6089 - val_accuracy: 0.0661 - lr: 0.0010 - 20s/epoch - 22ms/step
Epoch 26/100
876/876 - 20s - loss: 1.6095 - accuracy: 0.1985 - val_loss: 1.6097 - val_accuracy: 0.0735 - lr: 0.0010 - 20s/epoch - 22ms/step
Epoch 27/100
876/876 - 20s - loss: 1.6095 - accuracy: 0.2011 - val_loss: 1.6068 - val_accuracy: 0.8276 - lr: 0.0010 - 20s/epoch - 22ms/step
Epoch 28/100
876/876 - 20s - loss: 1.6095 - accuracy: 0.1993 - val_loss: 1.6118 - val_accuracy: 0.0254 - lr: 0.0010 - 20s/epoch - 22ms/step
Epoch 29/100
876/876 - 19s - loss: 1.6095 - accuracy: 0.1971 - val_loss: 1.6117 - val_accuracy: 0.0735 - lr: 0.0010 - 19s/epoch - 22ms/step
Epoch 30/100
876/876 - 20s - loss: 1.6095 - accuracy: 0.1987 - val_loss: 1.6097 - val_accuracy: 0.0735 - lr: 0.0010 - 20s/epoch - 22ms/step
Epoch 31/100
876/876 - 20s - loss: 1.6095 - accuracy: 0.1997 - val_loss: 1.6027 - val_accuracy: 0.8276 - lr: 0.0010 - 20s/epoch - 22ms/step
Epoch 32/100
876/876 - 20s - loss: 1.6095 - accuracy: 0.1952 - val_loss: 1.6090 - val_accuracy: 0.0735 - lr: 0.0010 - 20s/epoch - 22ms/step
Epoch 33/100
876/876 - 19s - loss: 1.6095 - accuracy: 0.1985 - val_loss: 1.6048 - val_accuracy: 0.8276 - lr: 0.0010 - 19s/epoch - 22ms/step
Epoch 34/100
876/876 - 19s - loss: 1.6095 - accuracy: 0.1964 - val_loss: 1.6110 - val_accuracy: 0.0254 - lr: 0.0010 - 19s/epoch - 22ms/step
Epoch 35/100
876/876 - 20s - loss: 1.6095 - accuracy: 0.1987 - val_loss: 1.6075 - val_accuracy: 0.0074 - lr: 0.0010 - 20s/epoch - 22ms/step
Epoch 36/100
876/876 - 20s - loss: 1.6095 - accuracy: 0.1997 - val_loss: 1.6126 - val_accuracy: 0.0254 - lr: 0.0010 - 20s/epoch - 22ms/step
Epoch 37/100
876/876 - 20s - loss: 1.6095 - accuracy: 0.1981 - val_loss: 1.6099 - val_accuracy: 0.0254 - lr: 0.0010 - 20s/epoch - 22ms/step
Epoch 38/100
876/876 - 20s - loss: 1.6095 - accuracy: 0.2005 - val_loss: 1.6020 - val_accuracy: 0.8276 - lr: 0.0010 - 20s/epoch - 22ms/step
Epoch 39/100
876/876 - 19s - loss: 1.6095 - accuracy: 0.1979 - val_loss: 1.6054 - val_accuracy: 0.8276 - lr: 0.0010 - 19s/epoch - 22ms/step
Epoch 40/100
876/876 - 20s - loss: 1.6095 - accuracy: 0.1982 - val_loss: 1.6118 - val_accuracy: 0.0735 - lr: 0.0010 - 20s/epoch - 23ms/step
Epoch 41/100
876/876 - 20s - loss: 1.6095 - accuracy: 0.1977 - val_loss: 1.6117 - val_accuracy: 0.0661 - lr: 0.0010 - 20s/epoch - 23ms/step
Epoch 42/100
876/876 - 20s - loss: 1.6095 - accuracy: 0.1981 - val_loss: 1.6116 - val_accuracy: 0.0735 - lr: 0.0010 - 20s/epoch - 22ms/step
Epoch 43/100
876/876 - 20s - loss: 1.6095 - accuracy: 0.1961 - val_loss: 1.6119 - val_accuracy: 0.0661 - lr: 0.0010 - 20s/epoch - 22ms/step
Epoch 44/100
876/876 - 19s - loss: 1.6095 - accuracy: 0.1987 - val_loss: 1.6092 - val_accuracy: 0.0074 - lr: 0.0010 - 19s/epoch - 22ms/step
Epoch 45/100
876/876 - 20s - loss: 1.6095 - accuracy: 0.1999 - val_loss: 1.6099 - val_accuracy: 0.0735 - lr: 0.0010 - 20s/epoch - 22ms/step
Epoch 46/100
876/876 - 20s - loss: 1.6095 - accuracy: 0.1981 - val_loss: 1.6055 - val_accuracy: 0.8276 - lr: 0.0010 - 20s/epoch - 22ms/step
Epoch 47/100
876/876 - 20s - loss: 1.6095 - accuracy: 0.1982 - val_loss: 1.6112 - val_accuracy: 0.0661 - lr: 0.0010 - 20s/epoch - 22ms/step
Epoch 48/100
876/876 - 20s - loss: 1.6095 - accuracy: 0.1985 - val_loss: 1.6076 - val_accuracy: 0.8276 - lr: 0.0010 - 20s/epoch - 22ms/step
Epoch 49/100
876/876 - 20s - loss: 1.6095 - accuracy: 0.1979 - val_loss: 1.6106 - val_accuracy: 0.0661 - lr: 0.0010 - 20s/epoch - 22ms/step
Epoch 50/100
876/876 - 20s - loss: 1.6095 - accuracy: 0.1979 - val_loss: 1.6078 - val_accuracy: 0.8276 - lr: 0.0010 - 20s/epoch - 22ms/step
Epoch 51/100
876/876 - 20s - loss: 1.6095 - accuracy: 0.1980 - val_loss: 1.6136 - val_accuracy: 0.0254 - lr: 0.0010 - 20s/epoch - 22ms/step
Epoch 52/100
876/876 - 20s - loss: 1.6095 - accuracy: 0.1978 - val_loss: 1.6042 - val_accuracy: 0.8276 - lr: 0.0010 - 20s/epoch - 22ms/step
Epoch 53/100
876/876 - 20s - loss: 1.6095 - accuracy: 0.1962 - val_loss: 1.6106 - val_accuracy: 0.0254 - lr: 0.0010 - 20s/epoch - 22ms/step
Epoch 54/100
876/876 - 19s - loss: 1.6095 - accuracy: 0.1975 - val_loss: 1.6102 - val_accuracy: 0.0074 - lr: 0.0010 - 19s/epoch - 22ms/step
Epoch 55/100
876/876 - 20s - loss: 1.6095 - accuracy: 0.1986 - val_loss: 1.6077 - val_accuracy: 0.8276 - lr: 0.0010 - 20s/epoch - 22ms/step
Epoch 56/100
876/876 - 19s - loss: 1.6095 - accuracy: 0.1979 - val_loss: 1.6076 - val_accuracy: 0.0661 - lr: 0.0010 - 19s/epoch - 22ms/step
Epoch 57/100
876/876 - 20s - loss: 1.6095 - accuracy: 0.1994 - val_loss: 1.6112 - val_accuracy: 0.0735 - lr: 0.0010 - 20s/epoch - 22ms/step
Epoch 58/100
876/876 - 20s - loss: 1.6095 - accuracy: 0.1976 - val_loss: 1.6092 - val_accuracy: 0.0661 - lr: 0.0010 - 20s/epoch - 22ms/step
Epoch 59/100
876/876 - 19s - loss: 1.6095 - accuracy: 0.1991 - val_loss: 1.6061 - val_accuracy: 0.8276 - lr: 0.0010 - 19s/epoch - 22ms/step
Epoch 60/100
876/876 - 19s - loss: 1.6095 - accuracy: 0.1983 - val_loss: 1.6070 - val_accuracy: 0.8276 - lr: 0.0010 - 19s/epoch - 22ms/step
Epoch 61/100
876/876 - 20s - loss: 1.6095 - accuracy: 0.1974 - val_loss: 1.6074 - val_accuracy: 0.0661 - lr: 0.0010 - 20s/epoch - 22ms/step
Epoch 62/100
876/876 - 20s - loss: 1.6095 - accuracy: 0.1982 - val_loss: 1.6131 - val_accuracy: 0.0661 - lr: 0.0010 - 20s/epoch - 22ms/step
Epoch 63/100
876/876 - 20s - loss: 1.6095 - accuracy: 0.1982 - val_loss: 1.6121 - val_accuracy: 0.0735 - lr: 0.0010 - 20s/epoch - 22ms/step
Epoch 64/100
876/876 - 20s - loss: 1.6095 - accuracy: 0.1976 - val_loss: 1.6096 - val_accuracy: 0.0254 - lr: 0.0010 - 20s/epoch - 22ms/step
Epoch 65/100
876/876 - 20s - loss: 1.6095 - accuracy: 0.1995 - val_loss: 1.6121 - val_accuracy: 0.0074 - lr: 0.0010 - 20s/epoch - 22ms/step
Epoch 66/100
876/876 - 20s - loss: 1.6095 - accuracy: 0.1997 - val_loss: 1.6132 - val_accuracy: 0.0074 - lr: 0.0010 - 20s/epoch - 22ms/step
Epoch 67/100
876/876 - 20s - loss: 1.6095 - accuracy: 0.1966 - val_loss: 1.6092 - val_accuracy: 0.0074 - lr: 0.0010 - 20s/epoch - 22ms/step
Epoch 68/100
876/876 - 19s - loss: 1.6094 - accuracy: 0.2012 - val_loss: 1.6129 - val_accuracy: 0.0661 - lr: 0.0010 - 19s/epoch - 22ms/step
Epoch 69/100
876/876 - 20s - loss: 1.6095 - accuracy: 0.1972 - val_loss: 1.6078 - val_accuracy: 0.8276 - lr: 0.0010 - 20s/epoch - 22ms/step
Epoch 70/100
876/876 - 19s - loss: 1.6095 - accuracy: 0.1981 - val_loss: 1.6094 - val_accuracy: 0.0735 - lr: 0.0010 - 19s/epoch - 22ms/step
Epoch 71/100
876/876 - 19s - loss: 1.6095 - accuracy: 0.1994 - val_loss: 1.6112 - val_accuracy: 0.0254 - lr: 0.0010 - 19s/epoch - 22ms/step
Epoch 72/100
876/876 - 20s - loss: 1.6095 - accuracy: 0.1989 - val_loss: 1.6051 - val_accuracy: 0.8276 - lr: 0.0010 - 20s/epoch - 22ms/step
Epoch 73/100
876/876 - 20s - loss: 1.6095 - accuracy: 0.1994 - val_loss: 1.6061 - val_accuracy: 0.0074 - lr: 0.0010 - 20s/epoch - 22ms/step
Epoch 74/100
876/876 - 20s - loss: 1.6095 - accuracy: 0.1978 - val_loss: 1.6087 - val_accuracy: 0.0735 - lr: 0.0010 - 20s/epoch - 22ms/step
Epoch 75/100
876/876 - 20s - loss: 1.6095 - accuracy: 0.1967 - val_loss: 1.6110 - val_accuracy: 0.0735 - lr: 0.0010 - 20s/epoch - 22ms/step
Epoch 76/100
876/876 - 20s - loss: 1.6095 - accuracy: 0.1990 - val_loss: 1.6080 - val_accuracy: 0.0735 - lr: 0.0010 - 20s/epoch - 22ms/step
Epoch 77/100
876/876 - 20s - loss: 1.6095 - accuracy: 0.1974 - val_loss: 1.6080 - val_accuracy: 0.0074 - lr: 0.0010 - 20s/epoch - 22ms/step
Epoch 78/100
876/876 - 20s - loss: 1.6095 - accuracy: 0.1983 - val_loss: 1.6090 - val_accuracy: 0.0074 - lr: 0.0010 - 20s/epoch - 22ms/step
Epoch 79/100
876/876 - 20s - loss: 1.6095 - accuracy: 0.1988 - val_loss: 1.6140 - val_accuracy: 0.0254 - lr: 0.0010 - 20s/epoch - 22ms/step
Epoch 80/100
876/876 - 19s - loss: 1.6095 - accuracy: 0.1974 - val_loss: 1.6118 - val_accuracy: 0.0661 - lr: 0.0010 - 19s/epoch - 22ms/step
Epoch 81/100
876/876 - 20s - loss: 1.6095 - accuracy: 0.1983 - val_loss: 1.6087 - val_accuracy: 0.0735 - lr: 0.0010 - 20s/epoch - 22ms/step
Epoch 82/100
876/876 - 20s - loss: 1.6095 - accuracy: 0.1969 - val_loss: 1.6096 - val_accuracy: 0.0735 - lr: 0.0010 - 20s/epoch - 22ms/step
Epoch 83/100
876/876 - 20s - loss: 1.6095 - accuracy: 0.1988 - val_loss: 1.6100 - val_accuracy: 0.0254 - lr: 0.0010 - 20s/epoch - 22ms/step
Epoch 84/100
876/876 - 20s - loss: 1.6095 - accuracy: 0.1995 - val_loss: 1.6075 - val_accuracy: 0.0254 - lr: 0.0010 - 20s/epoch - 22ms/step
Epoch 85/100
876/876 - 20s - loss: 1.6095 - accuracy: 0.1978 - val_loss: 1.6093 - val_accuracy: 0.0735 - lr: 0.0010 - 20s/epoch - 22ms/step
Epoch 86/100
876/876 - 20s - loss: 1.6095 - accuracy: 0.1981 - val_loss: 1.6067 - val_accuracy: 0.0735 - lr: 0.0010 - 20s/epoch - 22ms/step
Epoch 87/100
876/876 - 20s - loss: 1.6095 - accuracy: 0.1983 - val_loss: 1.6056 - val_accuracy: 0.8276 - lr: 0.0010 - 20s/epoch - 22ms/step
Epoch 88/100
876/876 - 20s - loss: 1.6095 - accuracy: 0.2003 - val_loss: 1.6099 - val_accuracy: 0.0735 - lr: 0.0010 - 20s/epoch - 22ms/step
Epoch 89/100
876/876 - 20s - loss: 1.6095 - accuracy: 0.1984 - val_loss: 1.6068 - val_accuracy: 0.8276 - lr: 0.0010 - 20s/epoch - 22ms/step
Epoch 90/100
876/876 - 20s - loss: 1.6095 - accuracy: 0.1971 - val_loss: 1.6084 - val_accuracy: 0.0661 - lr: 0.0010 - 20s/epoch - 22ms/step
Epoch 91/100
876/876 - 20s - loss: 1.6095 - accuracy: 0.1979 - val_loss: 1.6079 - val_accuracy: 0.0074 - lr: 0.0010 - 20s/epoch - 22ms/step
Epoch 92/100
876/876 - 20s - loss: 1.6095 - accuracy: 0.1992 - val_loss: 1.6083 - val_accuracy: 0.0074 - lr: 0.0010 - 20s/epoch - 22ms/step
Epoch 93/100
876/876 - 20s - loss: 1.6095 - accuracy: 0.1991 - val_loss: 1.6185 - val_accuracy: 0.0254 - lr: 0.0010 - 20s/epoch - 22ms/step
Epoch 94/100
876/876 - 19s - loss: 1.6095 - accuracy: 0.1976 - val_loss: 1.6121 - val_accuracy: 0.0735 - lr: 0.0010 - 19s/epoch - 22ms/step
Epoch 95/100
876/876 - 19s - loss: 1.6095 - accuracy: 0.1980 - val_loss: 1.6032 - val_accuracy: 0.8276 - lr: 0.0010 - 19s/epoch - 22ms/step
Epoch 96/100
876/876 - 19s - loss: 1.6095 - accuracy: 0.1975 - val_loss: 1.6121 - val_accuracy: 0.0254 - lr: 0.0010 - 19s/epoch - 22ms/step
Epoch 97/100
876/876 - 20s - loss: 1.6095 - accuracy: 0.1986 - val_loss: 1.6127 - val_accuracy: 0.0254 - lr: 0.0010 - 20s/epoch - 22ms/step
Epoch 98/100
876/876 - 20s - loss: 1.6095 - accuracy: 0.1997 - val_loss: 1.6101 - val_accuracy: 0.0074 - lr: 0.0010 - 20s/epoch - 22ms/step
Epoch 99/100
876/876 - 20s - loss: 1.6095 - accuracy: 0.1993 - val_loss: 1.6048 - val_accuracy: 0.8276 - lr: 0.0010 - 20s/epoch - 22ms/step
Epoch 100/100
876/876 - 20s - loss: 1.6095 - accuracy: 0.1981 - val_loss: 1.6102 - val_accuracy: 0.0735 - lr: 0.0010 - 20s/epoch - 22ms/step
Epoch 1/100
176/176 - 13s - loss: 1.6094 - accuracy: 0.1977 - val_loss: 1.6109 - val_accuracy: 0.0735 - lr: 0.0010 - 13s/epoch - 73ms/step
Epoch 2/100
176/176 - 10s - loss: 1.6094 - accuracy: 0.1977 - val_loss: 1.6103 - val_accuracy: 0.0254 - lr: 0.0010 - 10s/epoch - 58ms/step
Epoch 3/100
176/176 - 10s - loss: 1.6094 - accuracy: 0.1987 - val_loss: 1.6099 - val_accuracy: 0.0254 - lr: 0.0010 - 10s/epoch - 59ms/step
Epoch 4/100
176/176 - 10s - loss: 1.6094 - accuracy: 0.1980 - val_loss: 1.6093 - val_accuracy: 0.0661 - lr: 0.0010 - 10s/epoch - 59ms/step
Epoch 5/100
176/176 - 10s - loss: 1.6094 - accuracy: 0.1994 - val_loss: 1.6091 - val_accuracy: 0.0254 - lr: 0.0010 - 10s/epoch - 59ms/step
Epoch 6/100
176/176 - 10s - loss: 1.6094 - accuracy: 0.1997 - val_loss: 1.6103 - val_accuracy: 0.0254 - lr: 0.0010 - 10s/epoch - 59ms/step
Epoch 7/100
176/176 - 10s - loss: 1.6094 - accuracy: 0.1996 - val_loss: 1.6107 - val_accuracy: 0.0254 - lr: 0.0010 - 10s/epoch - 59ms/step
Epoch 8/100
176/176 - 10s - loss: 1.6094 - accuracy: 0.1959 - val_loss: 1.6100 - val_accuracy: 0.0074 - lr: 0.0010 - 10s/epoch - 59ms/step
Epoch 9/100
176/176 - 10s - loss: 1.6094 - accuracy: 0.1973 - val_loss: 1.6104 - val_accuracy: 0.0074 - lr: 0.0010 - 10s/epoch - 58ms/step
Epoch 10/100
176/176 - 10s - loss: 1.6094 - accuracy: 0.1980 - val_loss: 1.6103 - val_accuracy: 0.0661 - lr: 0.0010 - 10s/epoch - 59ms/step
Epoch 11/100
176/176 - 10s - loss: 1.6094 - accuracy: 0.1970 - val_loss: 1.6099 - val_accuracy: 0.0254 - lr: 0.0010 - 10s/epoch - 59ms/step
Epoch 12/100
176/176 - 10s - loss: 1.6094 - accuracy: 0.1978 - val_loss: 1.6095 - val_accuracy: 0.0661 - lr: 0.0010 - 10s/epoch - 58ms/step
Epoch 13/100
176/176 - 10s - loss: 1.6094 - accuracy: 0.1989 - val_loss: 1.6080 - val_accuracy: 0.8276 - lr: 0.0010 - 10s/epoch - 59ms/step
Epoch 14/100
176/176 - 10s - loss: 1.6094 - accuracy: 0.1983 - val_loss: 1.6088 - val_accuracy: 0.0074 - lr: 0.0010 - 10s/epoch - 58ms/step
Epoch 15/100
176/176 - 10s - loss: 1.6094 - accuracy: 0.1972 - val_loss: 1.6089 - val_accuracy: 0.0074 - lr: 0.0010 - 10s/epoch - 59ms/step
Epoch 16/100
176/176 - 10s - loss: 1.6094 - accuracy: 0.1993 - val_loss: 1.6097 - val_accuracy: 0.0661 - lr: 0.0010 - 10s/epoch - 59ms/step
Epoch 17/100
176/176 - 10s - loss: 1.6094 - accuracy: 0.1998 - val_loss: 1.6094 - val_accuracy: 0.0735 - lr: 0.0010 - 10s/epoch - 58ms/step
Epoch 18/100
176/176 - 10s - loss: 1.6094 - accuracy: 0.1985 - val_loss: 1.6096 - val_accuracy: 0.0074 - lr: 0.0010 - 10s/epoch - 58ms/step
Epoch 19/100
176/176 - 10s - loss: 1.6094 - accuracy: 0.1972 - val_loss: 1.6105 - val_accuracy: 0.0074 - lr: 0.0010 - 10s/epoch - 58ms/step
Epoch 20/100
176/176 - 10s - loss: 1.6094 - accuracy: 0.1977 - val_loss: 1.6091 - val_accuracy: 0.0735 - lr: 0.0010 - 10s/epoch - 59ms/step
Epoch 21/100
176/176 - 10s - loss: 1.6095 - accuracy: 0.1983 - val_loss: 1.6096 - val_accuracy: 0.0735 - lr: 0.0010 - 10s/epoch - 58ms/step
Epoch 22/100
176/176 - 10s - loss: 1.6094 - accuracy: 0.1990 - val_loss: 1.6092 - val_accuracy: 0.0735 - lr: 0.0010 - 10s/epoch - 59ms/step
Epoch 23/100
176/176 - 10s - loss: 1.6094 - accuracy: 0.2002 - val_loss: 1.6085 - val_accuracy: 0.0735 - lr: 0.0010 - 10s/epoch - 59ms/step
Epoch 24/100
176/176 - 10s - loss: 1.6094 - accuracy: 0.2001 - val_loss: 1.6084 - val_accuracy: 0.0735 - lr: 0.0010 - 10s/epoch - 59ms/step
Epoch 25/100
176/176 - 10s - loss: 1.6094 - accuracy: 0.1998 - val_loss: 1.6073 - val_accuracy: 0.8276 - lr: 0.0010 - 10s/epoch - 59ms/step
Epoch 26/100
176/176 - 10s - loss: 1.6094 - accuracy: 0.1998 - val_loss: 1.6082 - val_accuracy: 0.0661 - lr: 0.0010 - 10s/epoch - 59ms/step
Epoch 27/100
176/176 - 10s - loss: 1.6094 - accuracy: 0.1994 - val_loss: 1.6093 - val_accuracy: 0.0661 - lr: 0.0010 - 10s/epoch - 59ms/step
Epoch 28/100
176/176 - 10s - loss: 1.6094 - accuracy: 0.1975 - val_loss: 1.6088 - val_accuracy: 0.0254 - lr: 0.0010 - 10s/epoch - 59ms/step
Epoch 29/100
176/176 - 10s - loss: 1.6094 - accuracy: 0.1981 - val_loss: 1.6099 - val_accuracy: 0.0254 - lr: 0.0010 - 10s/epoch - 58ms/step
Epoch 30/100
176/176 - 10s - loss: 1.6094 - accuracy: 0.1987 - val_loss: 1.6097 - val_accuracy: 0.0254 - lr: 0.0010 - 10s/epoch - 59ms/step
Epoch 31/100
176/176 - 10s - loss: 1.6094 - accuracy: 0.1989 - val_loss: 1.6101 - val_accuracy: 0.0254 - lr: 0.0010 - 10s/epoch - 59ms/step
Epoch 32/100
176/176 - 10s - loss: 1.6094 - accuracy: 0.1980 - val_loss: 1.6109 - val_accuracy: 0.0254 - lr: 0.0010 - 10s/epoch - 58ms/step
Epoch 33/100
176/176 - 10s - loss: 1.6094 - accuracy: 0.1962 - val_loss: 1.6108 - val_accuracy: 0.0074 - lr: 0.0010 - 10s/epoch - 59ms/step
Epoch 34/100
176/176 - 10s - loss: 1.6094 - accuracy: 0.1985 - val_loss: 1.6110 - val_accuracy: 0.0074 - lr: 0.0010 - 10s/epoch - 59ms/step
Epoch 35/100
176/176 - 10s - loss: 1.6094 - accuracy: 0.2000 - val_loss: 1.6105 - val_accuracy: 0.0074 - lr: 0.0010 - 10s/epoch - 59ms/step
Epoch 36/100
176/176 - 10s - loss: 1.6094 - accuracy: 0.1984 - val_loss: 1.6104 - val_accuracy: 0.0661 - lr: 0.0010 - 10s/epoch - 58ms/step
Epoch 37/100
176/176 - 10s - loss: 1.6094 - accuracy: 0.1972 - val_loss: 1.6112 - val_accuracy: 0.0661 - lr: 0.0010 - 10s/epoch - 59ms/step
Epoch 38/100
176/176 - 10s - loss: 1.6094 - accuracy: 0.1979 - val_loss: 1.6101 - val_accuracy: 0.0661 - lr: 0.0010 - 10s/epoch - 58ms/step
Epoch 39/100
176/176 - 10s - loss: 1.6094 - accuracy: 0.1993 - val_loss: 1.6103 - val_accuracy: 0.0661 - lr: 0.0010 - 10s/epoch - 59ms/step
Epoch 40/100
176/176 - 10s - loss: 1.6094 - accuracy: 0.1991 - val_loss: 1.6101 - val_accuracy: 0.0254 - lr: 0.0010 - 10s/epoch - 58ms/step
Epoch 41/100
176/176 - 10s - loss: 1.6094 - accuracy: 0.1973 - val_loss: 1.6088 - val_accuracy: 0.0661 - lr: 0.0010 - 10s/epoch - 59ms/step
Epoch 42/100
176/176 - 10s - loss: 1.6094 - accuracy: 0.1989 - val_loss: 1.6083 - val_accuracy: 0.0254 - lr: 0.0010 - 10s/epoch - 59ms/step
Epoch 43/100
176/176 - 10s - loss: 1.6094 - accuracy: 0.1989 - val_loss: 1.6112 - val_accuracy: 0.0254 - lr: 0.0010 - 10s/epoch - 59ms/step
Epoch 44/100
176/176 - 10s - loss: 1.6094 - accuracy: 0.1988 - val_loss: 1.6095 - val_accuracy: 0.0735 - lr: 0.0010 - 10s/epoch - 59ms/step
Epoch 45/100
176/176 - 10s - loss: 1.6094 - accuracy: 0.1982 - val_loss: 1.6092 - val_accuracy: 0.0735 - lr: 0.0010 - 10s/epoch - 59ms/step
Epoch 46/100
176/176 - 10s - loss: 1.6094 - accuracy: 0.1981 - val_loss: 1.6103 - val_accuracy: 0.0735 - lr: 0.0010 - 10s/epoch - 59ms/step
Epoch 47/100
176/176 - 10s - loss: 1.6094 - accuracy: 0.1977 - val_loss: 1.6104 - val_accuracy: 0.0254 - lr: 0.0010 - 10s/epoch - 59ms/step
Epoch 48/100
176/176 - 10s - loss: 1.6094 - accuracy: 0.2010 - val_loss: 1.6103 - val_accuracy: 0.0735 - lr: 0.0010 - 10s/epoch - 59ms/step
Epoch 49/100
176/176 - 10s - loss: 1.6094 - accuracy: 0.1989 - val_loss: 1.6098 - val_accuracy: 0.0074 - lr: 0.0010 - 10s/epoch - 59ms/step
Epoch 50/100
176/176 - 10s - loss: 1.6094 - accuracy: 0.1983 - val_loss: 1.6094 - val_accuracy: 0.0735 - lr: 0.0010 - 10s/epoch - 59ms/step
Epoch 51/100
176/176 - 10s - loss: 1.6094 - accuracy: 0.2002 - val_loss: 1.6091 - val_accuracy: 0.0254 - lr: 0.0010 - 10s/epoch - 58ms/step
Epoch 52/100
176/176 - 10s - loss: 1.6094 - accuracy: 0.1992 - val_loss: 1.6101 - val_accuracy: 0.0074 - lr: 0.0010 - 10s/epoch - 59ms/step
Epoch 53/100
176/176 - 10s - loss: 1.6094 - accuracy: 0.1997 - val_loss: 1.6107 - val_accuracy: 0.0661 - lr: 0.0010 - 10s/epoch - 58ms/step
Epoch 54/100
176/176 - 10s - loss: 1.6094 - accuracy: 0.1995 - val_loss: 1.6094 - val_accuracy: 0.0735 - lr: 0.0010 - 10s/epoch - 59ms/step
Epoch 55/100
176/176 - 10s - loss: 1.6094 - accuracy: 0.1996 - val_loss: 1.6103 - val_accuracy: 0.0074 - lr: 0.0010 - 10s/epoch - 58ms/step
Epoch 56/100
176/176 - 10s - loss: 1.6095 - accuracy: 0.1963 - val_loss: 1.6103 - val_accuracy: 0.0735 - lr: 0.0010 - 10s/epoch - 59ms/step
Epoch 57/100
176/176 - 10s - loss: 1.6094 - accuracy: 0.1983 - val_loss: 1.6088 - val_accuracy: 0.8276 - lr: 0.0010 - 10s/epoch - 58ms/step
Epoch 58/100
176/176 - 10s - loss: 1.6094 - accuracy: 0.1968 - val_loss: 1.6098 - val_accuracy: 0.0074 - lr: 0.0010 - 10s/epoch - 59ms/step
Epoch 59/100
176/176 - 10s - loss: 1.6094 - accuracy: 0.1983 - val_loss: 1.6098 - val_accuracy: 0.0074 - lr: 0.0010 - 10s/epoch - 59ms/step
Epoch 60/100
176/176 - 10s - loss: 1.6094 - accuracy: 0.1988 - val_loss: 1.6105 - val_accuracy: 0.0074 - lr: 0.0010 - 10s/epoch - 58ms/step
Epoch 61/100
176/176 - 10s - loss: 1.6094 - accuracy: 0.1985 - val_loss: 1.6108 - val_accuracy: 0.0074 - lr: 0.0010 - 10s/epoch - 58ms/step
Epoch 62/100
176/176 - 10s - loss: 1.6094 - accuracy: 0.1981 - val_loss: 1.6102 - val_accuracy: 0.0074 - lr: 0.0010 - 10s/epoch - 59ms/step
Epoch 63/100
176/176 - 10s - loss: 1.6094 - accuracy: 0.1997 - val_loss: 1.6097 - val_accuracy: 0.0254 - lr: 0.0010 - 10s/epoch - 59ms/step
Epoch 64/100
176/176 - 10s - loss: 1.6094 - accuracy: 0.1973 - val_loss: 1.6092 - val_accuracy: 0.0074 - lr: 0.0010 - 10s/epoch - 59ms/step
Epoch 65/100
176/176 - 10s - loss: 1.6094 - accuracy: 0.1972 - val_loss: 1.6088 - val_accuracy: 0.0074 - lr: 0.0010 - 10s/epoch - 58ms/step
Epoch 66/100
176/176 - 10s - loss: 1.6094 - accuracy: 0.1993 - val_loss: 1.6100 - val_accuracy: 0.0735 - lr: 0.0010 - 10s/epoch - 59ms/step
Epoch 67/100
176/176 - 10s - loss: 1.6094 - accuracy: 0.1970 - val_loss: 1.6098 - val_accuracy: 0.0735 - lr: 0.0010 - 10s/epoch - 59ms/step
Epoch 68/100
176/176 - 10s - loss: 1.6094 - accuracy: 0.1975 - val_loss: 1.6100 - val_accuracy: 0.0074 - lr: 0.0010 - 10s/epoch - 59ms/step
Epoch 69/100
176/176 - 10s - loss: 1.6094 - accuracy: 0.1988 - val_loss: 1.6095 - val_accuracy: 0.0735 - lr: 0.0010 - 10s/epoch - 59ms/step
Epoch 70/100
176/176 - 10s - loss: 1.6094 - accuracy: 0.1986 - val_loss: 1.6095 - val_accuracy: 0.0254 - lr: 0.0010 - 10s/epoch - 59ms/step
Epoch 71/100
176/176 - 10s - loss: 1.6094 - accuracy: 0.1983 - val_loss: 1.6096 - val_accuracy: 0.0735 - lr: 0.0010 - 10s/epoch - 59ms/step
Epoch 72/100
176/176 - 10s - loss: 1.6094 - accuracy: 0.1975 - val_loss: 1.6099 - val_accuracy: 0.0735 - lr: 0.0010 - 10s/epoch - 59ms/step
Epoch 73/100
176/176 - 10s - loss: 1.6094 - accuracy: 0.2000 - val_loss: 1.6098 - val_accuracy: 0.0074 - lr: 0.0010 - 10s/epoch - 59ms/step
Epoch 74/100
176/176 - 10s - loss: 1.6094 - accuracy: 0.1983 - val_loss: 1.6093 - val_accuracy: 0.0735 - lr: 0.0010 - 10s/epoch - 59ms/step
Epoch 75/100
176/176 - 10s - loss: 1.6094 - accuracy: 0.1979 - val_loss: 1.6102 - val_accuracy: 0.0074 - lr: 0.0010 - 10s/epoch - 59ms/step
Epoch 76/100
176/176 - 10s - loss: 1.6094 - accuracy: 0.1989 - val_loss: 1.6087 - val_accuracy: 0.0661 - lr: 0.0010 - 10s/epoch - 59ms/step
Epoch 77/100
176/176 - 10s - loss: 1.6094 - accuracy: 0.2000 - val_loss: 1.6092 - val_accuracy: 0.0661 - lr: 0.0010 - 10s/epoch - 59ms/step
Epoch 78/100
176/176 - 10s - loss: 1.6094 - accuracy: 0.1983 - val_loss: 1.6097 - val_accuracy: 0.0661 - lr: 0.0010 - 10s/epoch - 59ms/step
Epoch 79/100
176/176 - 10s - loss: 1.6094 - accuracy: 0.1974 - val_loss: 1.6092 - val_accuracy: 0.0735 - lr: 0.0010 - 10s/epoch - 59ms/step
Epoch 80/100
176/176 - 10s - loss: 1.6094 - accuracy: 0.1997 - val_loss: 1.6094 - val_accuracy: 0.0735 - lr: 0.0010 - 10s/epoch - 59ms/step
Epoch 81/100
176/176 - 10s - loss: 1.6094 - accuracy: 0.1983 - val_loss: 1.6107 - val_accuracy: 0.0074 - lr: 0.0010 - 10s/epoch - 58ms/step
Epoch 82/100
176/176 - 10s - loss: 1.6094 - accuracy: 0.1978 - val_loss: 1.6097 - val_accuracy: 0.0074 - lr: 0.0010 - 10s/epoch - 59ms/step
Epoch 83/100
176/176 - 10s - loss: 1.6094 - accuracy: 0.1998 - val_loss: 1.6099 - val_accuracy: 0.0735 - lr: 0.0010 - 10s/epoch - 59ms/step
Epoch 84/100
176/176 - 10s - loss: 1.6094 - accuracy: 0.1993 - val_loss: 1.6101 - val_accuracy: 0.0661 - lr: 0.0010 - 10s/epoch - 59ms/step
Epoch 85/100
176/176 - 10s - loss: 1.6094 - accuracy: 0.2002 - val_loss: 1.6104 - val_accuracy: 0.0254 - lr: 0.0010 - 10s/epoch - 59ms/step
Epoch 86/100
176/176 - 10s - loss: 1.6094 - accuracy: 0.1998 - val_loss: 1.6103 - val_accuracy: 0.0661 - lr: 0.0010 - 10s/epoch - 59ms/step
Epoch 87/100
176/176 - 10s - loss: 1.6094 - accuracy: 0.1988 - val_loss: 1.6087 - val_accuracy: 0.0661 - lr: 0.0010 - 10s/epoch - 59ms/step
Epoch 88/100
176/176 - 10s - loss: 1.6094 - accuracy: 0.1970 - val_loss: 1.6079 - val_accuracy: 0.8276 - lr: 0.0010 - 10s/epoch - 59ms/step
Epoch 89/100
176/176 - 10s - loss: 1.6095 - accuracy: 0.1968 - val_loss: 1.6099 - val_accuracy: 0.0254 - lr: 0.0010 - 10s/epoch - 59ms/step
Epoch 90/100
176/176 - 10s - loss: 1.6094 - accuracy: 0.1998 - val_loss: 1.6102 - val_accuracy: 0.0661 - lr: 0.0010 - 10s/epoch - 59ms/step
Epoch 91/100
176/176 - 10s - loss: 1.6094 - accuracy: 0.1986 - val_loss: 1.6096 - val_accuracy: 0.0661 - lr: 0.0010 - 10s/epoch - 58ms/step
Epoch 92/100
176/176 - 10s - loss: 1.6094 - accuracy: 0.1972 - val_loss: 1.6077 - val_accuracy: 0.8276 - lr: 0.0010 - 10s/epoch - 59ms/step
Epoch 93/100
176/176 - 10s - loss: 1.6094 - accuracy: 0.1989 - val_loss: 1.6085 - val_accuracy: 0.8276 - lr: 0.0010 - 10s/epoch - 59ms/step
Epoch 94/100
176/176 - 10s - loss: 1.6094 - accuracy: 0.1986 - val_loss: 1.6086 - val_accuracy: 0.0661 - lr: 0.0010 - 10s/epoch - 58ms/step
Epoch 95/100
176/176 - 10s - loss: 1.6094 - accuracy: 0.1968 - val_loss: 1.6094 - val_accuracy: 0.0661 - lr: 0.0010 - 10s/epoch - 58ms/step
Epoch 96/100
176/176 - 10s - loss: 1.6094 - accuracy: 0.1962 - val_loss: 1.6087 - val_accuracy: 0.8276 - lr: 0.0010 - 10s/epoch - 59ms/step
Epoch 97/100
176/176 - 10s - loss: 1.6094 - accuracy: 0.1982 - val_loss: 1.6091 - val_accuracy: 0.0661 - lr: 0.0010 - 10s/epoch - 58ms/step
Epoch 98/100
176/176 - 10s - loss: 1.6094 - accuracy: 0.1987 - val_loss: 1.6088 - val_accuracy: 0.0661 - lr: 0.0010 - 10s/epoch - 59ms/step
Epoch 99/100
176/176 - 10s - loss: 1.6094 - accuracy: 0.1996 - val_loss: 1.6085 - val_accuracy: 0.0735 - lr: 0.0010 - 10s/epoch - 59ms/step
Epoch 100/100
176/176 - 10s - loss: 1.6094 - accuracy: 0.1988 - val_loss: 1.6091 - val_accuracy: 0.0735 - lr: 0.0010 - 10s/epoch - 59ms/step
Epoch 1/100
36/36 - 11s - loss: 1.6094 - accuracy: 0.1983 - val_loss: 1.6097 - val_accuracy: 0.0661 - lr: 0.0010 - 11s/epoch - 315ms/step
Epoch 2/100
36/36 - 9s - loss: 1.6094 - accuracy: 0.2001 - val_loss: 1.6092 - val_accuracy: 0.0661 - lr: 0.0010 - 9s/epoch - 247ms/step
Epoch 3/100
36/36 - 9s - loss: 1.6094 - accuracy: 0.2000 - val_loss: 1.6090 - val_accuracy: 0.0661 - lr: 0.0010 - 9s/epoch - 247ms/step
Epoch 4/100
36/36 - 9s - loss: 1.6094 - accuracy: 0.1985 - val_loss: 1.6098 - val_accuracy: 0.0661 - lr: 0.0010 - 9s/epoch - 247ms/step
Epoch 5/100
36/36 - 9s - loss: 1.6094 - accuracy: 0.2000 - val_loss: 1.6093 - val_accuracy: 0.0661 - lr: 0.0010 - 9s/epoch - 247ms/step
Epoch 6/100
36/36 - 9s - loss: 1.6094 - accuracy: 0.2000 - val_loss: 1.6096 - val_accuracy: 0.0661 - lr: 0.0010 - 9s/epoch - 249ms/step
Epoch 7/100
36/36 - 9s - loss: 1.6094 - accuracy: 0.2000 - val_loss: 1.6091 - val_accuracy: 0.0661 - lr: 0.0010 - 9s/epoch - 248ms/step
Epoch 8/100
36/36 - 9s - loss: 1.6094 - accuracy: 0.1994 - val_loss: 1.6090 - val_accuracy: 0.0661 - lr: 0.0010 - 9s/epoch - 248ms/step
Epoch 9/100
36/36 - 9s - loss: 1.6094 - accuracy: 0.1993 - val_loss: 1.6093 - val_accuracy: 0.0735 - lr: 0.0010 - 9s/epoch - 247ms/step
Epoch 10/100
36/36 - 9s - loss: 1.6094 - accuracy: 0.2000 - val_loss: 1.6092 - val_accuracy: 0.0735 - lr: 0.0010 - 9s/epoch - 248ms/step
Epoch 11/100
36/36 - 9s - loss: 1.6094 - accuracy: 0.2000 - val_loss: 1.6099 - val_accuracy: 0.0735 - lr: 0.0010 - 9s/epoch - 248ms/step
Epoch 12/100
36/36 - 9s - loss: 1.6094 - accuracy: 0.2001 - val_loss: 1.6090 - val_accuracy: 0.0735 - lr: 0.0010 - 9s/epoch - 248ms/step
Epoch 13/100
36/36 - 9s - loss: 1.6094 - accuracy: 0.1989 - val_loss: 1.6087 - val_accuracy: 0.8276 - lr: 0.0010 - 9s/epoch - 248ms/step
Epoch 14/100
36/36 - 9s - loss: 1.6094 - accuracy: 0.2002 - val_loss: 1.6094 - val_accuracy: 0.0735 - lr: 0.0010 - 9s/epoch - 248ms/step
Epoch 15/100
36/36 - 9s - loss: 1.6094 - accuracy: 0.2008 - val_loss: 1.6093 - val_accuracy: 0.0074 - lr: 0.0010 - 9s/epoch - 248ms/step
Epoch 16/100
36/36 - 9s - loss: 1.6094 - accuracy: 0.1998 - val_loss: 1.6103 - val_accuracy: 0.0074 - lr: 0.0010 - 9s/epoch - 248ms/step
Epoch 17/100
36/36 - 9s - loss: 1.6094 - accuracy: 0.1983 - val_loss: 1.6103 - val_accuracy: 0.0735 - lr: 0.0010 - 9s/epoch - 248ms/step
Epoch 18/100
36/36 - 9s - loss: 1.6094 - accuracy: 0.2003 - val_loss: 1.6110 - val_accuracy: 0.0074 - lr: 0.0010 - 9s/epoch - 248ms/step
Epoch 19/100
36/36 - 9s - loss: 1.6094 - accuracy: 0.2000 - val_loss: 1.6104 - val_accuracy: 0.0074 - lr: 0.0010 - 9s/epoch - 248ms/step
Epoch 20/100
36/36 - 9s - loss: 1.6094 - accuracy: 0.1999 - val_loss: 1.6106 - val_accuracy: 0.0735 - lr: 0.0010 - 9s/epoch - 248ms/step
Epoch 21/100
36/36 - 9s - loss: 1.6094 - accuracy: 0.1990 - val_loss: 1.6098 - val_accuracy: 0.0254 - lr: 0.0010 - 9s/epoch - 248ms/step
Epoch 22/100
36/36 - 9s - loss: 1.6094 - accuracy: 0.1992 - val_loss: 1.6093 - val_accuracy: 0.0735 - lr: 0.0010 - 9s/epoch - 248ms/step
Epoch 23/100
36/36 - 9s - loss: 1.6094 - accuracy: 0.1998 - val_loss: 1.6086 - val_accuracy: 0.8276 - lr: 0.0010 - 9s/epoch - 248ms/step
Epoch 24/100
36/36 - 9s - loss: 1.6094 - accuracy: 0.1994 - val_loss: 1.6089 - val_accuracy: 0.0661 - lr: 0.0010 - 9s/epoch - 248ms/step
Epoch 25/100
36/36 - 9s - loss: 1.6094 - accuracy: 0.2000 - val_loss: 1.6097 - val_accuracy: 0.0661 - lr: 0.0010 - 9s/epoch - 248ms/step
Epoch 26/100
36/36 - 9s - loss: 1.6094 - accuracy: 0.2000 - val_loss: 1.6102 - val_accuracy: 0.0661 - lr: 0.0010 - 9s/epoch - 248ms/step
Epoch 27/100
36/36 - 9s - loss: 1.6094 - accuracy: 0.2000 - val_loss: 1.6100 - val_accuracy: 0.0661 - lr: 0.0010 - 9s/epoch - 248ms/step
Epoch 28/100
36/36 - 9s - loss: 1.6094 - accuracy: 0.1993 - val_loss: 1.6105 - val_accuracy: 0.0254 - lr: 0.0010 - 9s/epoch - 248ms/step
Epoch 29/100
36/36 - 9s - loss: 1.6094 - accuracy: 0.1999 - val_loss: 1.6112 - val_accuracy: 0.0661 - lr: 0.0010 - 9s/epoch - 248ms/step
Epoch 30/100
36/36 - 9s - loss: 1.6094 - accuracy: 0.1999 - val_loss: 1.6117 - val_accuracy: 0.0661 - lr: 0.0010 - 9s/epoch - 248ms/step
Epoch 31/100
36/36 - 9s - loss: 1.6094 - accuracy: 0.1997 - val_loss: 1.6116 - val_accuracy: 0.0254 - lr: 0.0010 - 9s/epoch - 248ms/step
Epoch 32/100
36/36 - 9s - loss: 1.6094 - accuracy: 0.2009 - val_loss: 1.6108 - val_accuracy: 0.0661 - lr: 0.0010 - 9s/epoch - 248ms/step
Epoch 33/100
36/36 - 9s - loss: 1.6094 - accuracy: 0.2000 - val_loss: 1.6109 - val_accuracy: 0.0661 - lr: 0.0010 - 9s/epoch - 249ms/step
Epoch 34/100
36/36 - 9s - loss: 1.6094 - accuracy: 0.2000 - val_loss: 1.6103 - val_accuracy: 0.0661 - lr: 0.0010 - 9s/epoch - 248ms/step
Epoch 35/100
36/36 - 9s - loss: 1.6094 - accuracy: 0.2000 - val_loss: 1.6109 - val_accuracy: 0.0661 - lr: 0.0010 - 9s/epoch - 248ms/step
Epoch 36/100
36/36 - 9s - loss: 1.6094 - accuracy: 0.2000 - val_loss: 1.6108 - val_accuracy: 0.0661 - lr: 0.0010 - 9s/epoch - 248ms/step
Epoch 37/100
36/36 - 9s - loss: 1.6094 - accuracy: 0.2000 - val_loss: 1.6114 - val_accuracy: 0.0661 - lr: 0.0010 - 9s/epoch - 248ms/step
Epoch 38/100
36/36 - 9s - loss: 1.6094 - accuracy: 0.2000 - val_loss: 1.6103 - val_accuracy: 0.0661 - lr: 0.0010 - 9s/epoch - 249ms/step
Epoch 39/100
36/36 - 9s - loss: 1.6094 - accuracy: 0.2000 - val_loss: 1.6104 - val_accuracy: 0.0661 - lr: 0.0010 - 9s/epoch - 248ms/step
Epoch 40/100
36/36 - 9s - loss: 1.6094 - accuracy: 0.2000 - val_loss: 1.6104 - val_accuracy: 0.0661 - lr: 0.0010 - 9s/epoch - 248ms/step
Epoch 41/100
36/36 - 9s - loss: 1.6094 - accuracy: 0.2000 - val_loss: 1.6104 - val_accuracy: 0.0661 - lr: 0.0010 - 9s/epoch - 248ms/step
Epoch 42/100
36/36 - 9s - loss: 1.6094 - accuracy: 0.1997 - val_loss: 1.6098 - val_accuracy: 0.0661 - lr: 0.0010 - 9s/epoch - 248ms/step
Epoch 43/100
36/36 - 9s - loss: 1.6094 - accuracy: 0.1994 - val_loss: 1.6103 - val_accuracy: 0.0074 - lr: 0.0010 - 9s/epoch - 248ms/step
Epoch 44/100
36/36 - 9s - loss: 1.6094 - accuracy: 0.2000 - val_loss: 1.6108 - val_accuracy: 0.0074 - lr: 0.0010 - 9s/epoch - 248ms/step
Epoch 45/100
36/36 - 9s - loss: 1.6094 - accuracy: 0.1972 - val_loss: 1.6112 - val_accuracy: 0.0661 - lr: 0.0010 - 9s/epoch - 248ms/step
Epoch 46/100
36/36 - 9s - loss: 1.6094 - accuracy: 0.1997 - val_loss: 1.6113 - val_accuracy: 0.0074 - lr: 0.0010 - 9s/epoch - 248ms/step
Epoch 47/100
36/36 - 9s - loss: 1.6094 - accuracy: 0.2000 - val_loss: 1.6109 - val_accuracy: 0.0074 - lr: 0.0010 - 9s/epoch - 248ms/step
Epoch 48/100
36/36 - 9s - loss: 1.6094 - accuracy: 0.1997 - val_loss: 1.6102 - val_accuracy: 0.0254 - lr: 0.0010 - 9s/epoch - 248ms/step
Epoch 49/100
36/36 - 9s - loss: 1.6094 - accuracy: 0.2000 - val_loss: 1.6106 - val_accuracy: 0.0254 - lr: 0.0010 - 9s/epoch - 248ms/step
Epoch 50/100
36/36 - 9s - loss: 1.6094 - accuracy: 0.2000 - val_loss: 1.6108 - val_accuracy: 0.0254 - lr: 0.0010 - 9s/epoch - 248ms/step
Epoch 51/100
36/36 - 9s - loss: 1.6094 - accuracy: 0.2000 - val_loss: 1.6111 - val_accuracy: 0.0254 - lr: 0.0010 - 9s/epoch - 248ms/step
Epoch 52/100
36/36 - 9s - loss: 1.6094 - accuracy: 0.2000 - val_loss: 1.6105 - val_accuracy: 0.0254 - lr: 0.0010 - 9s/epoch - 248ms/step
Epoch 53/100
36/36 - 9s - loss: 1.6094 - accuracy: 0.2000 - val_loss: 1.6099 - val_accuracy: 0.0254 - lr: 0.0010 - 9s/epoch - 248ms/step
Epoch 54/100
36/36 - 9s - loss: 1.6094 - accuracy: 0.2000 - val_loss: 1.6102 - val_accuracy: 0.0254 - lr: 0.0010 - 9s/epoch - 248ms/step
Epoch 55/100
36/36 - 9s - loss: 1.6094 - accuracy: 0.2000 - val_loss: 1.6108 - val_accuracy: 0.0254 - lr: 0.0010 - 9s/epoch - 247ms/step
Epoch 56/100
36/36 - 9s - loss: 1.6094 - accuracy: 0.2000 - val_loss: 1.6108 - val_accuracy: 0.0254 - lr: 0.0010 - 9s/epoch - 248ms/step
Epoch 57/100
36/36 - 9s - loss: 1.6094 - accuracy: 0.1997 - val_loss: 1.6108 - val_accuracy: 0.0254 - lr: 0.0010 - 9s/epoch - 248ms/step
Epoch 58/100
36/36 - 9s - loss: 1.6094 - accuracy: 0.1998 - val_loss: 1.6110 - val_accuracy: 0.0254 - lr: 0.0010 - 9s/epoch - 248ms/step
Epoch 59/100
36/36 - 9s - loss: 1.6094 - accuracy: 0.1993 - val_loss: 1.6111 - val_accuracy: 0.0254 - lr: 0.0010 - 9s/epoch - 248ms/step
Epoch 60/100
36/36 - 9s - loss: 1.6094 - accuracy: 0.1991 - val_loss: 1.6107 - val_accuracy: 0.0254 - lr: 0.0010 - 9s/epoch - 248ms/step
Epoch 61/100
36/36 - 9s - loss: 1.6094 - accuracy: 0.2001 - val_loss: 1.6102 - val_accuracy: 0.0254 - lr: 0.0010 - 9s/epoch - 248ms/step
Epoch 62/100
36/36 - 9s - loss: 1.6094 - accuracy: 0.1983 - val_loss: 1.6096 - val_accuracy: 0.0254 - lr: 0.0010 - 9s/epoch - 249ms/step
Epoch 63/100
36/36 - 9s - loss: 1.6094 - accuracy: 0.2008 - val_loss: 1.6098 - val_accuracy: 0.0735 - lr: 0.0010 - 9s/epoch - 248ms/step
Epoch 64/100
36/36 - 9s - loss: 1.6094 - accuracy: 0.2002 - val_loss: 1.6100 - val_accuracy: 0.0735 - lr: 0.0010 - 9s/epoch - 248ms/step
Epoch 65/100
36/36 - 9s - loss: 1.6094 - accuracy: 0.2014 - val_loss: 1.6101 - val_accuracy: 0.0735 - lr: 0.0010 - 9s/epoch - 248ms/step
Epoch 66/100
36/36 - 9s - loss: 1.6094 - accuracy: 0.2006 - val_loss: 1.6094 - val_accuracy: 0.0735 - lr: 0.0010 - 9s/epoch - 248ms/step
Epoch 67/100
36/36 - 9s - loss: 1.6094 - accuracy: 0.2000 - val_loss: 1.6093 - val_accuracy: 0.0735 - lr: 0.0010 - 9s/epoch - 248ms/step
Epoch 68/100
36/36 - 9s - loss: 1.6094 - accuracy: 0.2000 - val_loss: 1.6086 - val_accuracy: 0.0735 - lr: 0.0010 - 9s/epoch - 248ms/step
Epoch 69/100
36/36 - 9s - loss: 1.6094 - accuracy: 0.2004 - val_loss: 1.6085 - val_accuracy: 0.0735 - lr: 0.0010 - 9s/epoch - 248ms/step
Epoch 70/100
36/36 - 9s - loss: 1.6094 - accuracy: 0.1986 - val_loss: 1.6085 - val_accuracy: 0.0661 - lr: 0.0010 - 9s/epoch - 249ms/step
Epoch 71/100
36/36 - 9s - loss: 1.6094 - accuracy: 0.1997 - val_loss: 1.6082 - val_accuracy: 0.8276 - lr: 0.0010 - 9s/epoch - 248ms/step
Epoch 72/100
36/36 - 9s - loss: 1.6094 - accuracy: 0.1995 - val_loss: 1.6087 - val_accuracy: 0.0735 - lr: 0.0010 - 9s/epoch - 248ms/step
Epoch 73/100
36/36 - 9s - loss: 1.6094 - accuracy: 0.2002 - val_loss: 1.6087 - val_accuracy: 0.0735 - lr: 0.0010 - 9s/epoch - 248ms/step
Epoch 74/100
36/36 - 9s - loss: 1.6094 - accuracy: 0.2000 - val_loss: 1.6095 - val_accuracy: 0.0735 - lr: 0.0010 - 9s/epoch - 248ms/step
Epoch 75/100
36/36 - 9s - loss: 1.6094 - accuracy: 0.2000 - val_loss: 1.6091 - val_accuracy: 0.0735 - lr: 0.0010 - 9s/epoch - 249ms/step
Epoch 76/100
36/36 - 9s - loss: 1.6094 - accuracy: 0.2000 - val_loss: 1.6087 - val_accuracy: 0.0735 - lr: 0.0010 - 9s/epoch - 248ms/step
Epoch 77/100
36/36 - 9s - loss: 1.6094 - accuracy: 0.2000 - val_loss: 1.6087 - val_accuracy: 0.0735 - lr: 0.0010 - 9s/epoch - 248ms/step
Epoch 78/100
36/36 - 9s - loss: 1.6094 - accuracy: 0.1994 - val_loss: 1.6093 - val_accuracy: 0.0735 - lr: 0.0010 - 9s/epoch - 248ms/step
Epoch 79/100
36/36 - 9s - loss: 1.6094 - accuracy: 0.1991 - val_loss: 1.6095 - val_accuracy: 0.0735 - lr: 0.0010 - 9s/epoch - 248ms/step
Epoch 80/100
36/36 - 9s - loss: 1.6094 - accuracy: 0.1997 - val_loss: 1.6092 - val_accuracy: 0.0735 - lr: 0.0010 - 9s/epoch - 248ms/step
Epoch 81/100
36/36 - 9s - loss: 1.6094 - accuracy: 0.2000 - val_loss: 1.6090 - val_accuracy: 0.0735 - lr: 0.0010 - 9s/epoch - 248ms/step
Epoch 82/100
36/36 - 9s - loss: 1.6094 - accuracy: 0.2000 - val_loss: 1.6087 - val_accuracy: 0.0735 - lr: 0.0010 - 9s/epoch - 248ms/step
Epoch 83/100
36/36 - 9s - loss: 1.6094 - accuracy: 0.2000 - val_loss: 1.6079 - val_accuracy: 0.0735 - lr: 0.0010 - 9s/epoch - 248ms/step
Epoch 84/100
36/36 - 9s - loss: 1.6094 - accuracy: 0.2000 - val_loss: 1.6080 - val_accuracy: 0.0735 - lr: 0.0010 - 9s/epoch - 248ms/step
Epoch 85/100
36/36 - 9s - loss: 1.6094 - accuracy: 0.2000 - val_loss: 1.6088 - val_accuracy: 0.0735 - lr: 0.0010 - 9s/epoch - 248ms/step
Epoch 86/100
36/36 - 9s - loss: 1.6094 - accuracy: 0.2000 - val_loss: 1.6083 - val_accuracy: 0.0735 - lr: 0.0010 - 9s/epoch - 248ms/step
Epoch 87/100
36/36 - 9s - loss: 1.6094 - accuracy: 0.2000 - val_loss: 1.6088 - val_accuracy: 0.0735 - lr: 0.0010 - 9s/epoch - 248ms/step
Epoch 88/100
36/36 - 9s - loss: 1.6094 - accuracy: 0.2000 - val_loss: 1.6089 - val_accuracy: 0.0735 - lr: 0.0010 - 9s/epoch - 248ms/step
Epoch 89/100
36/36 - 9s - loss: 1.6094 - accuracy: 0.2000 - val_loss: 1.6085 - val_accuracy: 0.0735 - lr: 0.0010 - 9s/epoch - 249ms/step
Epoch 90/100
36/36 - 9s - loss: 1.6094 - accuracy: 0.1999 - val_loss: 1.6088 - val_accuracy: 0.0735 - lr: 0.0010 - 9s/epoch - 248ms/step
Epoch 91/100
36/36 - 9s - loss: 1.6094 - accuracy: 0.1989 - val_loss: 1.6080 - val_accuracy: 0.8276 - lr: 0.0010 - 9s/epoch - 248ms/step
Epoch 92/100
36/36 - 9s - loss: 1.6094 - accuracy: 0.2000 - val_loss: 1.6076 - val_accuracy: 0.8276 - lr: 0.0010 - 9s/epoch - 248ms/step
Epoch 93/100
36/36 - 9s - loss: 1.6094 - accuracy: 0.2000 - val_loss: 1.6077 - val_accuracy: 0.8276 - lr: 0.0010 - 9s/epoch - 248ms/step
Epoch 94/100
36/36 - 9s - loss: 1.6094 - accuracy: 0.2004 - val_loss: 1.6086 - val_accuracy: 0.0735 - lr: 0.0010 - 9s/epoch - 248ms/step
Epoch 95/100
36/36 - 9s - loss: 1.6094 - accuracy: 0.1997 - val_loss: 1.6094 - val_accuracy: 0.0254 - lr: 0.0010 - 9s/epoch - 248ms/step
Epoch 96/100
36/36 - 9s - loss: 1.6094 - accuracy: 0.1990 - val_loss: 1.6100 - val_accuracy: 0.0254 - lr: 0.0010 - 9s/epoch - 248ms/step
Epoch 97/100
36/36 - 9s - loss: 1.6094 - accuracy: 0.1988 - val_loss: 1.6094 - val_accuracy: 0.0735 - lr: 0.0010 - 9s/epoch - 248ms/step
Epoch 98/100
36/36 - 9s - loss: 1.6094 - accuracy: 0.2000 - val_loss: 1.6091 - val_accuracy: 0.0735 - lr: 0.0010 - 9s/epoch - 248ms/step
Epoch 99/100
36/36 - 9s - loss: 1.6094 - accuracy: 0.2000 - val_loss: 1.6095 - val_accuracy: 0.0735 - lr: 0.0010 - 9s/epoch - 248ms/step
Epoch 100/100
36/36 - 9s - loss: 1.6094 - accuracy: 0.2000 - val_loss: 1.6102 - val_accuracy: 0.0735 - lr: 0.0010 - 9s/epoch - 248ms/step
Epoch 1/25
4378/4378 - 77s - loss: 1.6096 - accuracy: 0.1992 - val_loss: 1.6117 - val_accuracy: 0.0074 - lr: 0.0010 - 77s/epoch - 17ms/step
Epoch 2/25
4378/4378 - 74s - loss: 1.6096 - accuracy: 0.2003 - val_loss: 1.6059 - val_accuracy: 0.0074 - lr: 0.0010 - 74s/epoch - 17ms/step
Epoch 3/25
4378/4378 - 74s - loss: 1.6096 - accuracy: 0.2005 - val_loss: 1.6155 - val_accuracy: 0.0661 - lr: 0.0010 - 74s/epoch - 17ms/step
Epoch 4/25
4378/4378 - 74s - loss: 1.6096 - accuracy: 0.2011 - val_loss: 1.6323 - val_accuracy: 0.0735 - lr: 0.0010 - 74s/epoch - 17ms/step
Epoch 5/25
4378/4378 - 74s - loss: 1.6096 - accuracy: 0.1994 - val_loss: 1.6174 - val_accuracy: 0.0074 - lr: 0.0010 - 74s/epoch - 17ms/step
Epoch 6/25
4378/4378 - 74s - loss: 1.6097 - accuracy: 0.1983 - val_loss: 1.6142 - val_accuracy: 0.0735 - lr: 0.0010 - 74s/epoch - 17ms/step
Epoch 7/25
4378/4378 - 76s - loss: 1.6096 - accuracy: 0.1991 - val_loss: 1.6111 - val_accuracy: 0.0074 - lr: 0.0010 - 76s/epoch - 17ms/step
Epoch 8/25
4378/4378 - 75s - loss: 1.6096 - accuracy: 0.1974 - val_loss: 1.6106 - val_accuracy: 0.0735 - lr: 0.0010 - 75s/epoch - 17ms/step
Epoch 9/25
4378/4378 - 74s - loss: 1.6096 - accuracy: 0.1986 - val_loss: 1.5789 - val_accuracy: 0.8276 - lr: 0.0010 - 74s/epoch - 17ms/step
Epoch 10/25
4378/4378 - 74s - loss: 1.6096 - accuracy: 0.1983 - val_loss: 1.6295 - val_accuracy: 0.0074 - lr: 0.0010 - 74s/epoch - 17ms/step
Epoch 11/25
4378/4378 - 74s - loss: 1.6097 - accuracy: 0.1991 - val_loss: 1.6142 - val_accuracy: 0.0661 - lr: 0.0010 - 74s/epoch - 17ms/step
Epoch 12/25
4378/4378 - 74s - loss: 1.6096 - accuracy: 0.1999 - val_loss: 1.6056 - val_accuracy: 0.0661 - lr: 0.0010 - 74s/epoch - 17ms/step
Epoch 13/25
4378/4378 - 74s - loss: 1.6096 - accuracy: 0.2000 - val_loss: 1.5976 - val_accuracy: 0.0074 - lr: 0.0010 - 74s/epoch - 17ms/step
Epoch 14/25
4378/4378 - 74s - loss: 1.6096 - accuracy: 0.1989 - val_loss: 1.6059 - val_accuracy: 0.0735 - lr: 0.0010 - 74s/epoch - 17ms/step
Epoch 15/25
4378/4378 - 74s - loss: 1.6097 - accuracy: 0.1997 - val_loss: 1.6055 - val_accuracy: 0.0074 - lr: 0.0010 - 74s/epoch - 17ms/step
Epoch 16/25
4378/4378 - 74s - loss: 1.6096 - accuracy: 0.1990 - val_loss: 1.6114 - val_accuracy: 0.0661 - lr: 0.0010 - 74s/epoch - 17ms/step
Epoch 17/25
4378/4378 - 74s - loss: 1.6096 - accuracy: 0.1986 - val_loss: 1.6363 - val_accuracy: 0.0254 - lr: 0.0010 - 74s/epoch - 17ms/step
Epoch 18/25
4378/4378 - 74s - loss: 1.6096 - accuracy: 0.1999 - val_loss: 1.6071 - val_accuracy: 0.0074 - lr: 0.0010 - 74s/epoch - 17ms/step
Epoch 19/25
4378/4378 - 74s - loss: 1.6096 - accuracy: 0.1995 - val_loss: 1.6110 - val_accuracy: 0.0254 - lr: 0.0010 - 74s/epoch - 17ms/step
Epoch 20/25
4378/4378 - 74s - loss: 1.6097 - accuracy: 0.1984 - val_loss: 1.6045 - val_accuracy: 0.0735 - lr: 0.0010 - 74s/epoch - 17ms/step
Epoch 21/25
4378/4378 - 74s - loss: 1.6097 - accuracy: 0.1981 - val_loss: 1.6126 - val_accuracy: 0.0661 - lr: 0.0010 - 74s/epoch - 17ms/step
Epoch 22/25
4378/4378 - 74s - loss: 1.6097 - accuracy: 0.1984 - val_loss: 1.6044 - val_accuracy: 0.0661 - lr: 0.0010 - 74s/epoch - 17ms/step
Epoch 23/25
4378/4378 - 74s - loss: 1.6096 - accuracy: 0.1988 - val_loss: 1.6055 - val_accuracy: 0.0735 - lr: 0.0010 - 74s/epoch - 17ms/step
Epoch 24/25
4378/4378 - 74s - loss: 1.6096 - accuracy: 0.2020 - val_loss: 1.6197 - val_accuracy: 0.0661 - lr: 0.0010 - 74s/epoch - 17ms/step
Epoch 25/25
4378/4378 - 74s - loss: 1.6096 - accuracy: 0.1975 - val_loss: 1.6078 - val_accuracy: 0.0254 - lr: 0.0010 - 74s/epoch - 17ms/step
Epoch 1/25
876/876 - 21s - loss: 1.6095 - accuracy: 0.1992 - val_loss: 1.6122 - val_accuracy: 0.0661 - lr: 0.0010 - 21s/epoch - 24ms/step
Epoch 2/25
876/876 - 19s - loss: 1.6095 - accuracy: 0.1982 - val_loss: 1.6085 - val_accuracy: 0.0254 - lr: 0.0010 - 19s/epoch - 22ms/step
Epoch 3/25
876/876 - 19s - loss: 1.6095 - accuracy: 0.1989 - val_loss: 1.6116 - val_accuracy: 0.0735 - lr: 0.0010 - 19s/epoch - 21ms/step
Epoch 4/25
876/876 - 19s - loss: 1.6095 - accuracy: 0.1988 - val_loss: 1.6160 - val_accuracy: 0.0254 - lr: 0.0010 - 19s/epoch - 21ms/step
Epoch 5/25
876/876 - 19s - loss: 1.6095 - accuracy: 0.2004 - val_loss: 1.5978 - val_accuracy: 0.8276 - lr: 0.0010 - 19s/epoch - 21ms/step
Epoch 6/25
876/876 - 19s - loss: 1.6095 - accuracy: 0.1995 - val_loss: 1.6075 - val_accuracy: 0.0254 - lr: 0.0010 - 19s/epoch - 22ms/step
Epoch 7/25
876/876 - 19s - loss: 1.6095 - accuracy: 0.1977 - val_loss: 1.6161 - val_accuracy: 0.0661 - lr: 0.0010 - 19s/epoch - 21ms/step
Epoch 8/25
876/876 - 19s - loss: 1.6095 - accuracy: 0.2010 - val_loss: 1.6175 - val_accuracy: 0.0254 - lr: 0.0010 - 19s/epoch - 21ms/step
Epoch 9/25
876/876 - 19s - loss: 1.6096 - accuracy: 0.1975 - val_loss: 1.6070 - val_accuracy: 0.0254 - lr: 0.0010 - 19s/epoch - 21ms/step
Epoch 10/25
876/876 - 19s - loss: 1.6095 - accuracy: 0.2003 - val_loss: 1.6130 - val_accuracy: 0.0735 - lr: 0.0010 - 19s/epoch - 21ms/step
Epoch 11/25
876/876 - 19s - loss: 1.6095 - accuracy: 0.1993 - val_loss: 1.6125 - val_accuracy: 0.0254 - lr: 0.0010 - 19s/epoch - 22ms/step
Epoch 12/25
876/876 - 19s - loss: 1.6096 - accuracy: 0.1981 - val_loss: 1.6131 - val_accuracy: 0.0074 - lr: 0.0010 - 19s/epoch - 21ms/step
Epoch 13/25
876/876 - 19s - loss: 1.6095 - accuracy: 0.1993 - val_loss: 1.5986 - val_accuracy: 0.8276 - lr: 0.0010 - 19s/epoch - 21ms/step
Epoch 14/25
876/876 - 19s - loss: 1.6095 - accuracy: 0.1991 - val_loss: 1.6209 - val_accuracy: 0.0074 - lr: 0.0010 - 19s/epoch - 21ms/step
Epoch 15/25
876/876 - 19s - loss: 1.6095 - accuracy: 0.1970 - val_loss: 1.6044 - val_accuracy: 0.8276 - lr: 0.0010 - 19s/epoch - 22ms/step
Epoch 16/25
876/876 - 19s - loss: 1.6095 - accuracy: 0.1992 - val_loss: 1.6103 - val_accuracy: 0.0735 - lr: 0.0010 - 19s/epoch - 21ms/step
Epoch 17/25
876/876 - 19s - loss: 1.6095 - accuracy: 0.2002 - val_loss: 1.6084 - val_accuracy: 0.0074 - lr: 0.0010 - 19s/epoch - 21ms/step
Epoch 18/25
876/876 - 19s - loss: 1.6095 - accuracy: 0.1991 - val_loss: 1.6095 - val_accuracy: 0.0254 - lr: 0.0010 - 19s/epoch - 21ms/step
Epoch 19/25
876/876 - 19s - loss: 1.6095 - accuracy: 0.2006 - val_loss: 1.6107 - val_accuracy: 0.0254 - lr: 0.0010 - 19s/epoch - 22ms/step
Epoch 20/25
876/876 - 19s - loss: 1.6095 - accuracy: 0.2002 - val_loss: 1.5894 - val_accuracy: 0.8276 - lr: 0.0010 - 19s/epoch - 21ms/step
Epoch 21/25
876/876 - 19s - loss: 1.6095 - accuracy: 0.1984 - val_loss: 1.6130 - val_accuracy: 0.0074 - lr: 0.0010 - 19s/epoch - 21ms/step
Epoch 22/25
876/876 - 19s - loss: 1.6095 - accuracy: 0.1977 - val_loss: 1.6091 - val_accuracy: 0.0661 - lr: 0.0010 - 19s/epoch - 21ms/step
Epoch 23/25
876/876 - 19s - loss: 1.6096 - accuracy: 0.1963 - val_loss: 1.6083 - val_accuracy: 0.0074 - lr: 0.0010 - 19s/epoch - 21ms/step
Epoch 24/25
876/876 - 19s - loss: 1.6095 - accuracy: 0.2003 - val_loss: 1.6109 - val_accuracy: 0.0735 - lr: 0.0010 - 19s/epoch - 22ms/step
Epoch 25/25
876/876 - 19s - loss: 1.6095 - accuracy: 0.2003 - val_loss: 1.6171 - val_accuracy: 0.0074 - lr: 0.0010 - 19s/epoch - 21ms/step
Epoch 1/25
176/176 - 13s - loss: 1.6095 - accuracy: 0.1980 - val_loss: 1.6076 - val_accuracy: 0.8276 - lr: 0.0010 - 13s/epoch - 71ms/step
Epoch 2/25
176/176 - 10s - loss: 1.6095 - accuracy: 0.1988 - val_loss: 1.6121 - val_accuracy: 0.0074 - lr: 0.0010 - 10s/epoch - 58ms/step
Epoch 3/25
176/176 - 10s - loss: 1.6095 - accuracy: 0.2001 - val_loss: 1.6086 - val_accuracy: 0.0661 - lr: 0.0010 - 10s/epoch - 59ms/step
Epoch 4/25
176/176 - 10s - loss: 1.6095 - accuracy: 0.1982 - val_loss: 1.6093 - val_accuracy: 0.0661 - lr: 0.0010 - 10s/epoch - 57ms/step
Epoch 5/25
176/176 - 10s - loss: 1.6095 - accuracy: 0.1993 - val_loss: 1.6105 - val_accuracy: 0.0074 - lr: 0.0010 - 10s/epoch - 58ms/step
Epoch 6/25
176/176 - 10s - loss: 1.6095 - accuracy: 0.1991 - val_loss: 1.6093 - val_accuracy: 0.0661 - lr: 0.0010 - 10s/epoch - 57ms/step
Epoch 7/25
176/176 - 10s - loss: 1.6095 - accuracy: 0.2003 - val_loss: 1.6069 - val_accuracy: 0.0735 - lr: 0.0010 - 10s/epoch - 58ms/step
Epoch 8/25
176/176 - 10s - loss: 1.6095 - accuracy: 0.1987 - val_loss: 1.6081 - val_accuracy: 0.0661 - lr: 0.0010 - 10s/epoch - 58ms/step
Epoch 9/25
176/176 - 10s - loss: 1.6095 - accuracy: 0.1973 - val_loss: 1.6085 - val_accuracy: 0.0735 - lr: 0.0010 - 10s/epoch - 58ms/step
Epoch 10/25
176/176 - 10s - loss: 1.6095 - accuracy: 0.1981 - val_loss: 1.6085 - val_accuracy: 0.0074 - lr: 0.0010 - 10s/epoch - 57ms/step
Epoch 11/25
176/176 - 10s - loss: 1.6095 - accuracy: 0.1988 - val_loss: 1.6110 - val_accuracy: 0.0661 - lr: 0.0010 - 10s/epoch - 58ms/step
Epoch 12/25
176/176 - 10s - loss: 1.6095 - accuracy: 0.1967 - val_loss: 1.6101 - val_accuracy: 0.0254 - lr: 0.0010 - 10s/epoch - 57ms/step
Epoch 13/25
176/176 - 10s - loss: 1.6095 - accuracy: 0.2004 - val_loss: 1.6093 - val_accuracy: 0.0735 - lr: 0.0010 - 10s/epoch - 58ms/step
Epoch 14/25
176/176 - 10s - loss: 1.6095 - accuracy: 0.1980 - val_loss: 1.6090 - val_accuracy: 0.0254 - lr: 0.0010 - 10s/epoch - 58ms/step
Epoch 15/25
176/176 - 10s - loss: 1.6095 - accuracy: 0.1987 - val_loss: 1.6061 - val_accuracy: 0.8276 - lr: 0.0010 - 10s/epoch - 58ms/step
Epoch 16/25
176/176 - 10s - loss: 1.6095 - accuracy: 0.1991 - val_loss: 1.6066 - val_accuracy: 0.8276 - lr: 0.0010 - 10s/epoch - 58ms/step
Epoch 17/25
176/176 - 10s - loss: 1.6095 - accuracy: 0.1997 - val_loss: 1.6040 - val_accuracy: 0.8276 - lr: 0.0010 - 10s/epoch - 58ms/step
Epoch 18/25
176/176 - 10s - loss: 1.6095 - accuracy: 0.1997 - val_loss: 1.6110 - val_accuracy: 0.0074 - lr: 0.0010 - 10s/epoch - 58ms/step
Epoch 19/25
176/176 - 10s - loss: 1.6095 - accuracy: 0.1980 - val_loss: 1.6135 - val_accuracy: 0.0074 - lr: 0.0010 - 10s/epoch - 58ms/step
Epoch 20/25
176/176 - 10s - loss: 1.6095 - accuracy: 0.2002 - val_loss: 1.6093 - val_accuracy: 0.0735 - lr: 0.0010 - 10s/epoch - 57ms/step
Epoch 21/25
176/176 - 10s - loss: 1.6095 - accuracy: 0.1986 - val_loss: 1.6093 - val_accuracy: 0.0074 - lr: 0.0010 - 10s/epoch - 57ms/step
Epoch 22/25
176/176 - 10s - loss: 1.6095 - accuracy: 0.1984 - val_loss: 1.6111 - val_accuracy: 0.0661 - lr: 0.0010 - 10s/epoch - 58ms/step
Epoch 23/25
176/176 - 10s - loss: 1.6095 - accuracy: 0.2004 - val_loss: 1.6046 - val_accuracy: 0.0661 - lr: 0.0010 - 10s/epoch - 57ms/step
Epoch 24/25
176/176 - 10s - loss: 1.6095 - accuracy: 0.1982 - val_loss: 1.6162 - val_accuracy: 0.0735 - lr: 0.0010 - 10s/epoch - 58ms/step
Epoch 25/25
176/176 - 10s - loss: 1.6095 - accuracy: 0.1979 - val_loss: 1.6092 - val_accuracy: 0.0074 - lr: 0.0010 - 10s/epoch - 57ms/step
Epoch 1/25
