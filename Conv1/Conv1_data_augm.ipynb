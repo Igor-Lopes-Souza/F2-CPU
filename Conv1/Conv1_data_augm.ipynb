{
 "cells": [
  {
   "cell_type": "code",
   "execution_count": 138,
   "metadata": {
    "_cell_guid": "b1076dfc-b9ad-4769-8c92-a6c4dae69d19",
    "_uuid": "8f2839f25d086af736a60e9eeb907d3b93b6e0e5",
    "jupyter": {
     "outputs_hidden": true
    }
   },
   "outputs": [
    {
     "name": "stdout",
     "output_type": "stream",
     "text": [
      "['mitbih_test.csv', 'mitbih_test.csv.zip', 'mitbih_train.csv', 'mitbih_train.csv.zip', 'ptbdb_abnormal.csv', 'ptbdb_abnormal.csv.zip', 'ptbdb_normal.csv', 'ptbdb_normal.csv.zip']\n"
     ]
    }
   ],
   "source": [
    "# This Python 3 environment comes with many helpful analytics libraries installed0\n",
    "# For example, here's several helpful packages to load in \n",
    "import math\n",
    "import random\n",
    "import pickle\n",
    "import itertools\n",
    "\n",
    "import numpy as np # linear algebra\n",
    "import pandas as pd # data processing, CSV file I/O (e.g. pd.read_csv)\n",
    "\n",
    "from sklearn.metrics import accuracy_score, classification_report, confusion_matrix, label_ranking_average_precision_score, label_ranking_loss, coverage_error \n",
    "\n",
    "from sklearn.utils import shuffle\n",
    "\n",
    "from scipy.signal import resample\n",
    "\n",
    "import matplotlib.pyplot as plt\n",
    "\n",
    "np.random.seed(42)\n",
    "\n",
    "import pickle\n",
    "#from sklearn.preprocessing import OneHotEncoder\n",
    "from keras.utils.np_utils import to_categorical\n",
    "from keras.models import Model\n",
    "from keras.layers import Input, Dense, Conv1D, MaxPooling1D, Softmax, Add, Flatten, Activation , Dropout\n",
    "from keras import backend as K\n",
    "from keras.optimizers import Adam\n",
    "from keras.callbacks import LearningRateScheduler, ModelCheckpoint\n",
    "\n",
    "# Input data files are available in the \"../input/\" directory.\n",
    "# For example, running this (by clicking run or pressing Shift+Enter) will list the files in the input directory\n",
    "\n",
    "import os\n",
    "print(os.listdir(\"/UFS/F2 - Copia/database\"))\n",
    "\n",
    "# Any results you write to the current directory are saved as output."
   ]
  },
  {
   "cell_type": "code",
   "execution_count": 139,
   "metadata": {
    "_cell_guid": "79c7e3d0-c299-4dcb-8224-4455121ee9b0",
    "_uuid": "d629ff2d2480ee46fbb7e2d37f6b5fab8052498a",
    "jupyter": {
     "outputs_hidden": true
    }
   },
   "outputs": [],
   "source": [
    "train_df = pd.read_csv(\"/UFS/F2 - Copia/database/mitbih_train.csv\", header=None)\n",
    "test_df = pd.read_csv(\"/UFS/F2 - Copia/database/mitbih_test.csv\", header=None)\n",
    "#df = pd.concat([df, df2], axis=0)"
   ]
  },
  {
   "cell_type": "code",
   "execution_count": 140,
   "metadata": {
    "_uuid": "494fc8a26ba40beb73fc1a4f7b219b213fb7705e",
    "jupyter": {
     "outputs_hidden": true
    }
   },
   "outputs": [
    {
     "data": {
      "text/html": [
       "<div>\n",
       "<style scoped>\n",
       "    .dataframe tbody tr th:only-of-type {\n",
       "        vertical-align: middle;\n",
       "    }\n",
       "\n",
       "    .dataframe tbody tr th {\n",
       "        vertical-align: top;\n",
       "    }\n",
       "\n",
       "    .dataframe thead th {\n",
       "        text-align: right;\n",
       "    }\n",
       "</style>\n",
       "<table border=\"1\" class=\"dataframe\">\n",
       "  <thead>\n",
       "    <tr style=\"text-align: right;\">\n",
       "      <th></th>\n",
       "      <th>0</th>\n",
       "      <th>1</th>\n",
       "      <th>2</th>\n",
       "      <th>3</th>\n",
       "      <th>4</th>\n",
       "      <th>5</th>\n",
       "      <th>6</th>\n",
       "      <th>7</th>\n",
       "      <th>8</th>\n",
       "      <th>9</th>\n",
       "      <th>...</th>\n",
       "      <th>178</th>\n",
       "      <th>179</th>\n",
       "      <th>180</th>\n",
       "      <th>181</th>\n",
       "      <th>182</th>\n",
       "      <th>183</th>\n",
       "      <th>184</th>\n",
       "      <th>185</th>\n",
       "      <th>186</th>\n",
       "      <th>187</th>\n",
       "    </tr>\n",
       "  </thead>\n",
       "  <tbody>\n",
       "    <tr>\n",
       "      <th>0</th>\n",
       "      <td>0.977941</td>\n",
       "      <td>0.926471</td>\n",
       "      <td>0.681373</td>\n",
       "      <td>0.245098</td>\n",
       "      <td>0.154412</td>\n",
       "      <td>0.191176</td>\n",
       "      <td>0.151961</td>\n",
       "      <td>0.085784</td>\n",
       "      <td>0.058824</td>\n",
       "      <td>0.049020</td>\n",
       "      <td>...</td>\n",
       "      <td>0.0</td>\n",
       "      <td>0.0</td>\n",
       "      <td>0.0</td>\n",
       "      <td>0.0</td>\n",
       "      <td>0.0</td>\n",
       "      <td>0.0</td>\n",
       "      <td>0.0</td>\n",
       "      <td>0.0</td>\n",
       "      <td>0.0</td>\n",
       "      <td>0.0</td>\n",
       "    </tr>\n",
       "    <tr>\n",
       "      <th>1</th>\n",
       "      <td>0.960114</td>\n",
       "      <td>0.863248</td>\n",
       "      <td>0.461538</td>\n",
       "      <td>0.196581</td>\n",
       "      <td>0.094017</td>\n",
       "      <td>0.125356</td>\n",
       "      <td>0.099715</td>\n",
       "      <td>0.088319</td>\n",
       "      <td>0.074074</td>\n",
       "      <td>0.082621</td>\n",
       "      <td>...</td>\n",
       "      <td>0.0</td>\n",
       "      <td>0.0</td>\n",
       "      <td>0.0</td>\n",
       "      <td>0.0</td>\n",
       "      <td>0.0</td>\n",
       "      <td>0.0</td>\n",
       "      <td>0.0</td>\n",
       "      <td>0.0</td>\n",
       "      <td>0.0</td>\n",
       "      <td>0.0</td>\n",
       "    </tr>\n",
       "    <tr>\n",
       "      <th>2</th>\n",
       "      <td>1.000000</td>\n",
       "      <td>0.659459</td>\n",
       "      <td>0.186486</td>\n",
       "      <td>0.070270</td>\n",
       "      <td>0.070270</td>\n",
       "      <td>0.059459</td>\n",
       "      <td>0.056757</td>\n",
       "      <td>0.043243</td>\n",
       "      <td>0.054054</td>\n",
       "      <td>0.045946</td>\n",
       "      <td>...</td>\n",
       "      <td>0.0</td>\n",
       "      <td>0.0</td>\n",
       "      <td>0.0</td>\n",
       "      <td>0.0</td>\n",
       "      <td>0.0</td>\n",
       "      <td>0.0</td>\n",
       "      <td>0.0</td>\n",
       "      <td>0.0</td>\n",
       "      <td>0.0</td>\n",
       "      <td>0.0</td>\n",
       "    </tr>\n",
       "    <tr>\n",
       "      <th>3</th>\n",
       "      <td>0.925414</td>\n",
       "      <td>0.665746</td>\n",
       "      <td>0.541436</td>\n",
       "      <td>0.276243</td>\n",
       "      <td>0.196133</td>\n",
       "      <td>0.077348</td>\n",
       "      <td>0.071823</td>\n",
       "      <td>0.060773</td>\n",
       "      <td>0.066298</td>\n",
       "      <td>0.058011</td>\n",
       "      <td>...</td>\n",
       "      <td>0.0</td>\n",
       "      <td>0.0</td>\n",
       "      <td>0.0</td>\n",
       "      <td>0.0</td>\n",
       "      <td>0.0</td>\n",
       "      <td>0.0</td>\n",
       "      <td>0.0</td>\n",
       "      <td>0.0</td>\n",
       "      <td>0.0</td>\n",
       "      <td>0.0</td>\n",
       "    </tr>\n",
       "    <tr>\n",
       "      <th>4</th>\n",
       "      <td>0.967136</td>\n",
       "      <td>1.000000</td>\n",
       "      <td>0.830986</td>\n",
       "      <td>0.586854</td>\n",
       "      <td>0.356808</td>\n",
       "      <td>0.248826</td>\n",
       "      <td>0.145540</td>\n",
       "      <td>0.089202</td>\n",
       "      <td>0.117371</td>\n",
       "      <td>0.150235</td>\n",
       "      <td>...</td>\n",
       "      <td>0.0</td>\n",
       "      <td>0.0</td>\n",
       "      <td>0.0</td>\n",
       "      <td>0.0</td>\n",
       "      <td>0.0</td>\n",
       "      <td>0.0</td>\n",
       "      <td>0.0</td>\n",
       "      <td>0.0</td>\n",
       "      <td>0.0</td>\n",
       "      <td>0.0</td>\n",
       "    </tr>\n",
       "  </tbody>\n",
       "</table>\n",
       "<p>5 rows × 188 columns</p>\n",
       "</div>"
      ],
      "text/plain": [
       "        0         1         2         3         4         5         6    \\\n",
       "0  0.977941  0.926471  0.681373  0.245098  0.154412  0.191176  0.151961   \n",
       "1  0.960114  0.863248  0.461538  0.196581  0.094017  0.125356  0.099715   \n",
       "2  1.000000  0.659459  0.186486  0.070270  0.070270  0.059459  0.056757   \n",
       "3  0.925414  0.665746  0.541436  0.276243  0.196133  0.077348  0.071823   \n",
       "4  0.967136  1.000000  0.830986  0.586854  0.356808  0.248826  0.145540   \n",
       "\n",
       "        7         8         9    ...  178  179  180  181  182  183  184  185  \\\n",
       "0  0.085784  0.058824  0.049020  ...  0.0  0.0  0.0  0.0  0.0  0.0  0.0  0.0   \n",
       "1  0.088319  0.074074  0.082621  ...  0.0  0.0  0.0  0.0  0.0  0.0  0.0  0.0   \n",
       "2  0.043243  0.054054  0.045946  ...  0.0  0.0  0.0  0.0  0.0  0.0  0.0  0.0   \n",
       "3  0.060773  0.066298  0.058011  ...  0.0  0.0  0.0  0.0  0.0  0.0  0.0  0.0   \n",
       "4  0.089202  0.117371  0.150235  ...  0.0  0.0  0.0  0.0  0.0  0.0  0.0  0.0   \n",
       "\n",
       "   186  187  \n",
       "0  0.0  0.0  \n",
       "1  0.0  0.0  \n",
       "2  0.0  0.0  \n",
       "3  0.0  0.0  \n",
       "4  0.0  0.0  \n",
       "\n",
       "[5 rows x 188 columns]"
      ]
     },
     "execution_count": 140,
     "metadata": {},
     "output_type": "execute_result"
    }
   ],
   "source": [
    "train_df.head()"
   ]
  },
  {
   "cell_type": "code",
   "execution_count": 141,
   "metadata": {
    "_uuid": "5281cb19f54f3bd379f875c24ae52b3b15fcafaf",
    "jupyter": {
     "outputs_hidden": true
    }
   },
   "outputs": [
    {
     "name": "stdout",
     "output_type": "stream",
     "text": [
      "<class 'pandas.core.frame.DataFrame'>\n",
      "RangeIndex: 87554 entries, 0 to 87553\n",
      "Columns: 188 entries, 0 to 187\n",
      "dtypes: float64(188)\n",
      "memory usage: 125.6 MB\n",
      "17510\n"
     ]
    }
   ],
   "source": [
    "train_df.info()\n",
    "dataset_row = train_df.shape[0]\n",
    "dataset_size= int(dataset_row/5)\n",
    "print(dataset_size)"
   ]
  },
  {
   "cell_type": "code",
   "execution_count": 142,
   "metadata": {},
   "outputs": [
    {
     "name": "stdout",
     "output_type": "stream",
     "text": [
      "0    72471\n",
      "4     6431\n",
      "2     5788\n",
      "1     2223\n",
      "3      641\n",
      "Name: 187, dtype: int64\n"
     ]
    }
   ],
   "source": [
    "train_df[187]=train_df[187].astype(int)\n",
    "equilibre= train_df[187].value_counts()\n",
    "print(equilibre)\n",
    "\n"
   ]
  },
  {
   "cell_type": "code",
   "execution_count": 143,
   "metadata": {
    "_uuid": "0fac0fb658ea34b48055838b4ad85078e883360d",
    "jupyter": {
     "outputs_hidden": true
    }
   },
   "outputs": [],
   "source": [
    "train_df[187].value_counts()\n",
    "equilibre = train_df[187].value_counts()"
   ]
  },
  {
   "cell_type": "code",
   "execution_count": 144,
   "metadata": {},
   "outputs": [
    {
     "data": {
      "image/png": "[encoded data removed]",
      "text/plain": [
       "<Figure size 1440x720 with 1 Axes>"
      ]
     },
     "metadata": {},
     "output_type": "display_data"
    }
   ],
   "source": [
    "plt.figure(figsize=(20,10))\n",
    "my_circle=plt.Circle((0,0), 0.7, color='white')\n",
    "plt.pie(equilibre, labels=['n','q','v','s','f'], colors=['red','green','blue','skyblue','orange'],autopct='%1.1f%%')\n",
    "p=plt.gcf()\n",
    "p.gca().add_artist(my_circle)\n",
    "plt.show()"
   ]
  },
  {
   "cell_type": "code",
   "execution_count": 145,
   "metadata": {},
   "outputs": [],
   "source": [
    "from sklearn.utils import resample\n",
    "k=72471\n",
    "#dataset_size= 2000\n",
    "df_1=train_df[train_df[187]==1]\n",
    "df_2=train_df[train_df[187]==2]\n",
    "df_3=train_df[train_df[187]==3]\n",
    "df_4=train_df[train_df[187]==4]\n",
    "df_0=(train_df[train_df[187]==0]).sample(n=dataset_size,random_state=42)\n",
    "\n",
    "df_1_upsample=resample(df_1,replace=True,n_samples=dataset_size,random_state=123)\n",
    "df_2_upsample=resample(df_2,replace=True,n_samples=dataset_size,random_state=124)\n",
    "df_3_upsample=resample(df_3,replace=True,n_samples=dataset_size,random_state=125)\n",
    "df_4_upsample=resample(df_4,replace=True,n_samples=dataset_size,random_state=126)\n",
    "\n",
    "train_df=pd.concat([df_0,df_1_upsample,df_2_upsample,df_3_upsample,df_4_upsample])"
   ]
  },
  {
   "cell_type": "code",
   "execution_count": 146,
   "metadata": {},
   "outputs": [
    {
     "name": "stdout",
     "output_type": "stream",
     "text": [
      "0    17510\n",
      "1    17510\n",
      "2    17510\n",
      "3    17510\n",
      "4    17510\n",
      "Name: 187, dtype: int64\n"
     ]
    }
   ],
   "source": [
    "equilibre=train_df[187].value_counts()\n",
    "print(equilibre)"
   ]
  },
  {
   "cell_type": "code",
   "execution_count": 147,
   "metadata": {},
   "outputs": [
    {
     "data": {
      "image/png": "[encoded data removed]",
      "text/plain": [
       "<Figure size 1440x720 with 1 Axes>"
      ]
     },
     "metadata": {},
     "output_type": "display_data"
    }
   ],
   "source": [
    "plt.figure(figsize=(20,10))\n",
    "my_circle=plt.Circle( (0,0), 0.7, color='white')\n",
    "plt.pie(equilibre, labels=['n','q','v','s','f'], colors=['red','green','blue','skyblue','orange'],autopct='%1.1f%%')\n",
    "p=plt.gcf()\n",
    "p.gca().add_artist(my_circle)\n",
    "plt.show()"
   ]
  },
  {
   "cell_type": "code",
   "execution_count": 148,
   "metadata": {
    "_uuid": "147b7604bd8a389d7f6aa111f38ae308af7c4eb7",
    "jupyter": {
     "outputs_hidden": true
    }
   },
   "outputs": [],
   "source": [
    "M = train_df.values\n",
    "X = M[:, :-1]\n",
    "y = M[:, -1].astype(int)"
   ]
  },
  {
   "cell_type": "code",
   "execution_count": 149,
   "metadata": {
    "_uuid": "504d95532114efa4cc581d80bf02159c3ce519c6",
    "jupyter": {
     "outputs_hidden": true
    }
   },
   "outputs": [],
   "source": [
    "#del train_df\n",
    "#del test_df\n",
    "#del M"
   ]
  },
  {
   "cell_type": "code",
   "execution_count": 150,
   "metadata": {},
   "outputs": [],
   "source": [
    "def add_gaussian_noise(signal):\n",
    "    noise=np.random.normal(0,0.5,186)\n",
    "    return (signal+noise)\n"
   ]
  },
  {
   "cell_type": "code",
   "execution_count": 151,
   "metadata": {},
   "outputs": [],
   "source": [
    "#tempo=c.iloc[0,:186]\n",
    "#bruiter=add_gaussian_noise(tempo)\n",
    "\n",
    "#plt.subplot(2,1,1)\n",
    "#plt.plot(c.iloc[0,:186])\n",
    "\n",
    "#plt.subplot(2,1,2)\n",
    "#plt.plot(bruiter)\n",
    "\n",
    "#plt.show()\n",
    "\n"
   ]
  },
  {
   "cell_type": "code",
   "execution_count": 152,
   "metadata": {},
   "outputs": [],
   "source": [
    "target_train=train_df[187]\n",
    "target_test=test_df[187]\n",
    "y_train=to_categorical(target_train)\n",
    "y_test=to_categorical(target_test)"
   ]
  },
  {
   "cell_type": "code",
   "execution_count": 153,
   "metadata": {},
   "outputs": [],
   "source": [
    "X_train=train_df.iloc[:,:186].values\n",
    "X_test=test_df.iloc[:,:186].values\n",
    "for i in range(len(X_train)):\n",
    "    X_train[i,:186]= add_gaussian_noise(X_train[i,:186])\n",
    "X_train = X_train.reshape(len(X_train), X_train.shape[1],1)\n",
    "X_test = X_test.reshape(len(X_test), X_test.shape[1],1)"
   ]
  },
  {
   "cell_type": "code",
   "execution_count": 154,
   "metadata": {},
   "outputs": [],
   "source": [
    "target_train=train_df[187]\n",
    "target_test=test_df[187]\n",
    "y_train=to_categorical(target_train)\n",
    "y_test=to_categorical(target_test)"
   ]
  },
  {
   "cell_type": "markdown",
   "metadata": {
    "_uuid": "c269ab78773e4b5a960a5e55d2b48c53d5f9c446"
   },
   "source": [
    "# Data augmentation\n",
    "\n",
    "To train properly the model, we sould have to augment all data to the same level. Nevertheless, for a first try, we will just augment the smallest class to the same level as class 1. With that we will be able to have a test set of around 5x800 observations."
   ]
  },
  {
   "cell_type": "markdown",
   "metadata": {
    "_uuid": "c42605d020fd51885437f4af3cf10cebbeafc9bb"
   },
   "source": [
    "# Split"
   ]
  },
  {
   "cell_type": "code",
   "execution_count": 155,
   "metadata": {
    "_uuid": "16c106c2702045790367fc49d7223560fc613d75",
    "jupyter": {
     "outputs_hidden": true
    }
   },
   "outputs": [
    {
     "name": "stdout",
     "output_type": "stream",
     "text": [
      "X_train (87550, 186, 1)\n",
      "y_train (87550, 5)\n",
      "X_test (21892, 186, 1)\n",
      "y_test (21892, 5)\n"
     ]
    }
   ],
   "source": [
    "print(\"X_train\", X_train.shape)\n",
    "print(\"y_train\", y_train.shape)\n",
    "print(\"X_test\", X_test.shape)\n",
    "print(\"y_test\", y_test.shape)"
   ]
  },
  {
   "cell_type": "markdown",
   "metadata": {
    "_uuid": "c4de23b85abe34a726eab268171da0e827bafa35"
   },
   "source": [
    "# Model\n",
    "\n",
    "Now let's re-create the model from the ArXiv Document"
   ]
  },
  {
   "cell_type": "code",
   "execution_count": 156,
   "metadata": {
    "_uuid": "fb0dc9775ddfa761c0ad948d59020fcbd2681c57",
    "jupyter": {
     "outputs_hidden": true
    }
   },
   "outputs": [],
   "source": [
    "n_obs, feature, depth = X_train.shape\n",
    "batch_size = 1500\n",
    "#batch_size = 500"
   ]
  },
  {
   "cell_type": "code",
   "execution_count": null,
   "metadata": {},
   "outputs": [],
   "source": []
  },
  {
   "cell_type": "code",
   "execution_count": 157,
   "metadata": {
    "_uuid": "e70fab0b07290e042ba9cd7c6cba37462a457b03",
    "jupyter": {
     "outputs_hidden": true
    }
   },
   "outputs": [
    {
     "name": "stdout",
     "output_type": "stream",
     "text": [
      "Model: \"model\"\n",
      "__________________________________________________________________________________________________\n",
      " Layer (type)                   Output Shape         Param #     Connected to                     \n",
      "==================================================================================================\n",
      " input_1 (InputLayer)           [(None, 186, 1)]     0           []                               \n",
      "                                                                                                  \n",
      " conv1d (Conv1D)                (None, 182, 32)      192         ['input_1[0][0]']                \n",
      "                                                                                                  \n",
      " conv1d_1 (Conv1D)              (None, 182, 32)      5152        ['conv1d[0][0]']                 \n",
      "                                                                                                  \n",
      " activation (Activation)        (None, 182, 32)      0           ['conv1d_1[0][0]']               \n",
      "                                                                                                  \n",
      " conv1d_2 (Conv1D)              (None, 182, 32)      5152        ['activation[0][0]']             \n",
      "                                                                                                  \n",
      " add (Add)                      (None, 182, 32)      0           ['conv1d_2[0][0]',               \n",
      "                                                                  'conv1d[0][0]']                 \n",
      "                                                                                                  \n",
      " activation_1 (Activation)      (None, 182, 32)      0           ['add[0][0]']                    \n",
      "                                                                                                  \n",
      " max_pooling1d (MaxPooling1D)   (None, 89, 32)       0           ['activation_1[0][0]']           \n",
      "                                                                                                  \n",
      " conv1d_3 (Conv1D)              (None, 89, 32)       5152        ['max_pooling1d[0][0]']          \n",
      "                                                                                                  \n",
      " activation_2 (Activation)      (None, 89, 32)       0           ['conv1d_3[0][0]']               \n",
      "                                                                                                  \n",
      " conv1d_4 (Conv1D)              (None, 89, 32)       5152        ['activation_2[0][0]']           \n",
      "                                                                                                  \n",
      " add_1 (Add)                    (None, 89, 32)       0           ['conv1d_4[0][0]',               \n",
      "                                                                  'max_pooling1d[0][0]']          \n",
      "                                                                                                  \n",
      " activation_3 (Activation)      (None, 89, 32)       0           ['add_1[0][0]']                  \n",
      "                                                                                                  \n",
      " max_pooling1d_1 (MaxPooling1D)  (None, 43, 32)      0           ['activation_3[0][0]']           \n",
      "                                                                                                  \n",
      " conv1d_5 (Conv1D)              (None, 43, 32)       5152        ['max_pooling1d_1[0][0]']        \n",
      "                                                                                                  \n",
      " activation_4 (Activation)      (None, 43, 32)       0           ['conv1d_5[0][0]']               \n",
      "                                                                                                  \n",
      " conv1d_6 (Conv1D)              (None, 43, 32)       5152        ['activation_4[0][0]']           \n",
      "                                                                                                  \n",
      " add_2 (Add)                    (None, 43, 32)       0           ['conv1d_6[0][0]',               \n",
      "                                                                  'max_pooling1d_1[0][0]']        \n",
      "                                                                                                  \n",
      " activation_5 (Activation)      (None, 43, 32)       0           ['add_2[0][0]']                  \n",
      "                                                                                                  \n",
      " max_pooling1d_2 (MaxPooling1D)  (None, 20, 32)      0           ['activation_5[0][0]']           \n",
      "                                                                                                  \n",
      " conv1d_7 (Conv1D)              (None, 20, 32)       5152        ['max_pooling1d_2[0][0]']        \n",
      "                                                                                                  \n",
      " activation_6 (Activation)      (None, 20, 32)       0           ['conv1d_7[0][0]']               \n",
      "                                                                                                  \n",
      " conv1d_8 (Conv1D)              (None, 20, 32)       5152        ['activation_6[0][0]']           \n",
      "                                                                                                  \n",
      " add_3 (Add)                    (None, 20, 32)       0           ['conv1d_8[0][0]',               \n",
      "                                                                  'max_pooling1d_2[0][0]']        \n",
      "                                                                                                  \n",
      " activation_7 (Activation)      (None, 20, 32)       0           ['add_3[0][0]']                  \n",
      "                                                                                                  \n",
      " max_pooling1d_3 (MaxPooling1D)  (None, 8, 32)       0           ['activation_7[0][0]']           \n",
      "                                                                                                  \n",
      " conv1d_9 (Conv1D)              (None, 8, 32)        5152        ['max_pooling1d_3[0][0]']        \n",
      "                                                                                                  \n",
      " activation_8 (Activation)      (None, 8, 32)        0           ['conv1d_9[0][0]']               \n",
      "                                                                                                  \n",
      " conv1d_10 (Conv1D)             (None, 8, 32)        5152        ['activation_8[0][0]']           \n",
      "                                                                                                  \n",
      " add_4 (Add)                    (None, 8, 32)        0           ['conv1d_10[0][0]',              \n",
      "                                                                  'max_pooling1d_3[0][0]']        \n",
      "                                                                                                  \n",
      " activation_9 (Activation)      (None, 8, 32)        0           ['add_4[0][0]']                  \n",
      "                                                                                                  \n",
      " max_pooling1d_4 (MaxPooling1D)  (None, 2, 32)       0           ['activation_9[0][0]']           \n",
      "                                                                                                  \n",
      " dropout (Dropout)              (None, 2, 32)        0           ['max_pooling1d_4[0][0]']        \n",
      "                                                                                                  \n",
      " flatten (Flatten)              (None, 64)           0           ['dropout[0][0]']                \n",
      "                                                                                                  \n",
      " dense (Dense)                  (None, 32)           2080        ['flatten[0][0]']                \n",
      "                                                                                                  \n",
      " activation_10 (Activation)     (None, 32)           0           ['dense[0][0]']                  \n",
      "                                                                                                  \n",
      " dense_1 (Dense)                (None, 32)           1056        ['activation_10[0][0]']          \n",
      "                                                                                                  \n",
      " dense_2 (Dense)                (None, 5)            165         ['dense_1[0][0]']                \n",
      "                                                                                                  \n",
      " softmax (Softmax)              (None, 5)            0           ['dense_2[0][0]']                \n",
      "                                                                                                  \n",
      "==================================================================================================\n",
      "Total params: 55,013\n",
      "Trainable params: 55,013\n",
      "Non-trainable params: 0\n",
      "__________________________________________________________________________________________________\n"
     ]
    }
   ],
   "source": [
    "K.clear_session()\n",
    "\n",
    "inp = Input(shape=(feature, depth))\n",
    "C = Conv1D(filters=32, kernel_size=5, strides=1)(inp)\n",
    "C11 = Conv1D(filters=32, kernel_size=5, strides=1, padding='same')(C)\n",
    "A11 = Activation(\"relu\")(C11)\n",
    "C12 = Conv1D(filters=32, kernel_size=5, strides=1, padding='same')(A11)\n",
    "S11 = Add()([C12, C])\n",
    "A12 = Activation(\"relu\")(S11)\n",
    "M11 = MaxPooling1D(pool_size=5, strides=2)(A12)\n",
    "\n",
    "\n",
    "C21 = Conv1D(filters=32, kernel_size=5, strides=1, padding='same')(M11)\n",
    "A21 = Activation(\"relu\")(C21)\n",
    "C22 = Conv1D(filters=32, kernel_size=5, strides=1, padding='same')(A21)\n",
    "S21 = Add()([C22, M11])\n",
    "A22 = Activation(\"relu\")(S21)\n",
    "M21 = MaxPooling1D(pool_size=5, strides=2)(A22)\n",
    "\n",
    "\n",
    "C31 = Conv1D(filters=32, kernel_size=5, strides=1, padding='same')(M21)\n",
    "A31 = Activation(\"relu\")(C31)\n",
    "C32 = Conv1D(filters=32, kernel_size=5, strides=1, padding='same')(A31)\n",
    "S31 = Add()([C32, M21])\n",
    "A32 = Activation(\"relu\")(S31)\n",
    "M31 = MaxPooling1D(pool_size=5, strides=2)(A32)\n",
    "\n",
    "\n",
    "C41 = Conv1D(filters=32, kernel_size=5, strides=1, padding='same')(M31)\n",
    "A41 = Activation(\"relu\")(C41)\n",
    "C42 = Conv1D(filters=32, kernel_size=5, strides=1, padding='same')(A41)\n",
    "S41 = Add()([C42, M31])\n",
    "A42 = Activation(\"relu\")(S41)\n",
    "M41 = MaxPooling1D(pool_size=5, strides=2)(A42)\n",
    "\n",
    "\n",
    "C51 = Conv1D(filters=32, kernel_size=5, strides=1, padding='same')(M41)\n",
    "A51 = Activation(\"relu\")(C51)\n",
    "C52 = Conv1D(filters=32, kernel_size=5, strides=1, padding='same')(A51)\n",
    "S51 = Add()([C52, M41])\n",
    "A52 = Activation(\"relu\")(S51)\n",
    "M51 = MaxPooling1D(pool_size=5, strides=2)(A52)\n",
    "\n",
    "M52 = (Dropout(0.25))(M51)\n",
    "\n",
    "F1 = Flatten()(M52)\n",
    "\n",
    "D1 = Dense(32)(F1)\n",
    "A6 = Activation(\"relu\")(D1)\n",
    "D2 = Dense(32)(A6)\n",
    "D3 = Dense(5)(D2)\n",
    "A7 = Softmax()(D3)\n",
    "\n",
    "model = Model(inputs=inp, outputs=A7)\n",
    "\n",
    "model.summary()"
   ]
  },
  {
   "cell_type": "code",
   "execution_count": 158,
   "metadata": {
    "_uuid": "fdc0d8aa8475330af8d8e652d0b9ce214da66956",
    "jupyter": {
     "outputs_hidden": true
    }
   },
   "outputs": [],
   "source": [
    "def exp_decay(epoch):\n",
    "    initial_lrate = 0.001\n",
    "    k = 0.75\n",
    "    t = n_obs//(10000 * batch_size)  # every epoch we do n_obs/batch_size iteration\n",
    "    lrate = initial_lrate * math.exp(-k*t)\n",
    "    return lrate\n",
    "\n",
    "lrate = LearningRateScheduler(exp_decay)"
   ]
  },
  {
   "cell_type": "code",
   "execution_count": 159,
   "metadata": {
    "_uuid": "abcd2f0e8488c8f3b33cd6ed9ca7fd60fa44404b",
    "jupyter": {
     "outputs_hidden": true
    }
   },
   "outputs": [],
   "source": [
    "adam = Adam(learning_rate = 0.01, beta_1 = 0.9, beta_2 = 0.99)\n",
    "#adam = Adam(learning_rate = 0.001, beta_1 = 0.9, beta_2 = 0.999)"
   ]
  },
  {
   "cell_type": "code",
   "execution_count": 160,
   "metadata": {
    "_uuid": "812e637ae56f6a4be9c8e98d3b501cfb11ef78cb",
    "jupyter": {
     "outputs_hidden": true
    }
   },
   "outputs": [],
   "source": [
    "model.compile(loss='binary_crossentropy', optimizer=adam, metrics=['accuracy'])"
   ]
  },
  {
   "cell_type": "code",
   "execution_count": 161,
   "metadata": {
    "_uuid": "1e6ef643f6a55ab5b3c1b46126832c3ac45a6a2b",
    "jupyter": {
     "outputs_hidden": true
    }
   },
   "outputs": [
    {
     "name": "stdout",
     "output_type": "stream",
     "text": [
      "Epoch 1/75\n",
      "59/59 - 13s - loss: 0.4819 - accuracy: 0.3124 - val_loss: 0.4938 - val_accuracy: 0.1808 - lr: 0.0010 - 13s/epoch - 221ms/step\n",
      "Epoch 2/75\n",
      "59/59 - 9s - loss: 0.3827 - accuracy: 0.5293 - val_loss: 0.4192 - val_accuracy: 0.3913 - lr: 0.0010 - 9s/epoch - 156ms/step\n",
      "Epoch 3/75\n",
      "59/59 - 9s - loss: 0.3330 - accuracy: 0.6094 - val_loss: 0.3587 - val_accuracy: 0.5581 - lr: 0.0010 - 9s/epoch - 153ms/step\n",
      "Epoch 4/75\n",
      "59/59 - 9s - loss: 0.3131 - accuracy: 0.6367 - val_loss: 0.3044 - val_accuracy: 0.6879 - lr: 0.0010 - 9s/epoch - 153ms/step\n",
      "Epoch 5/75\n",
      "59/59 - 9s - loss: 0.3017 - accuracy: 0.6548 - val_loss: 0.2745 - val_accuracy: 0.7399 - lr: 0.0010 - 9s/epoch - 156ms/step\n",
      "Epoch 6/75\n",
      "59/59 - 9s - loss: 0.2950 - accuracy: 0.6648 - val_loss: 0.3200 - val_accuracy: 0.6214 - lr: 0.0010 - 9s/epoch - 150ms/step\n",
      "Epoch 7/75\n",
      "59/59 - 9s - loss: 0.2894 - accuracy: 0.6732 - val_loss: 0.2981 - val_accuracy: 0.6823 - lr: 0.0010 - 9s/epoch - 161ms/step\n",
      "Epoch 8/75\n",
      "59/59 - 9s - loss: 0.2847 - accuracy: 0.6793 - val_loss: 0.2812 - val_accuracy: 0.7136 - lr: 0.0010 - 9s/epoch - 157ms/step\n",
      "Epoch 9/75\n",
      "59/59 - 9s - loss: 0.2832 - accuracy: 0.6816 - val_loss: 0.2876 - val_accuracy: 0.7415 - lr: 0.0010 - 9s/epoch - 154ms/step\n",
      "Epoch 10/75\n",
      "59/59 - 9s - loss: 0.2807 - accuracy: 0.6857 - val_loss: 0.2711 - val_accuracy: 0.7545 - lr: 0.0010 - 9s/epoch - 154ms/step\n",
      "Epoch 11/75\n",
      "59/59 - 9s - loss: 0.2773 - accuracy: 0.6897 - val_loss: 0.2659 - val_accuracy: 0.7636 - lr: 0.0010 - 9s/epoch - 155ms/step\n",
      "Epoch 12/75\n",
      "59/59 - 9s - loss: 0.2741 - accuracy: 0.6950 - val_loss: 0.2488 - val_accuracy: 0.7896 - lr: 0.0010 - 9s/epoch - 154ms/step\n",
      "Epoch 13/75\n",
      "59/59 - 9s - loss: 0.2729 - accuracy: 0.6957 - val_loss: 0.2566 - val_accuracy: 0.7773 - lr: 0.0010 - 9s/epoch - 153ms/step\n",
      "Epoch 14/75\n",
      "59/59 - 9s - loss: 0.2711 - accuracy: 0.6985 - val_loss: 0.2496 - val_accuracy: 0.7904 - lr: 0.0010 - 9s/epoch - 153ms/step\n",
      "Epoch 15/75\n",
      "59/59 - 9s - loss: 0.2700 - accuracy: 0.7002 - val_loss: 0.2416 - val_accuracy: 0.7960 - lr: 0.0010 - 9s/epoch - 153ms/step\n",
      "Epoch 16/75\n",
      "59/59 - 9s - loss: 0.2687 - accuracy: 0.7014 - val_loss: 0.2552 - val_accuracy: 0.7918 - lr: 0.0010 - 9s/epoch - 153ms/step\n",
      "Epoch 17/75\n",
      "59/59 - 9s - loss: 0.2658 - accuracy: 0.7044 - val_loss: 0.2562 - val_accuracy: 0.7696 - lr: 0.0010 - 9s/epoch - 154ms/step\n",
      "Epoch 18/75\n",
      "59/59 - 9s - loss: 0.2656 - accuracy: 0.7053 - val_loss: 0.2463 - val_accuracy: 0.7785 - lr: 0.0010 - 9s/epoch - 154ms/step\n",
      "Epoch 19/75\n",
      "59/59 - 9s - loss: 0.2638 - accuracy: 0.7079 - val_loss: 0.2672 - val_accuracy: 0.7698 - lr: 0.0010 - 9s/epoch - 152ms/step\n",
      "Epoch 20/75\n",
      "59/59 - 9s - loss: 0.2616 - accuracy: 0.7110 - val_loss: 0.2419 - val_accuracy: 0.7928 - lr: 0.0010 - 9s/epoch - 154ms/step\n",
      "Epoch 21/75\n",
      "59/59 - 9s - loss: 0.2606 - accuracy: 0.7106 - val_loss: 0.2625 - val_accuracy: 0.7857 - lr: 0.0010 - 9s/epoch - 155ms/step\n",
      "Epoch 22/75\n",
      "59/59 - 10s - loss: 0.2602 - accuracy: 0.7127 - val_loss: 0.2407 - val_accuracy: 0.8229 - lr: 0.0010 - 10s/epoch - 161ms/step\n",
      "Epoch 23/75\n",
      "59/59 - 9s - loss: 0.2583 - accuracy: 0.7128 - val_loss: 0.2511 - val_accuracy: 0.8035 - lr: 0.0010 - 9s/epoch - 155ms/step\n",
      "Epoch 24/75\n",
      "59/59 - 9s - loss: 0.2588 - accuracy: 0.7148 - val_loss: 0.2331 - val_accuracy: 0.8158 - lr: 0.0010 - 9s/epoch - 154ms/step\n",
      "Epoch 25/75\n",
      "59/59 - 9s - loss: 0.2573 - accuracy: 0.7152 - val_loss: 0.2427 - val_accuracy: 0.7817 - lr: 0.0010 - 9s/epoch - 153ms/step\n",
      "Epoch 26/75\n",
      "59/59 - 9s - loss: 0.2564 - accuracy: 0.7163 - val_loss: 0.2358 - val_accuracy: 0.8132 - lr: 0.0010 - 9s/epoch - 160ms/step\n",
      "Epoch 27/75\n",
      "59/59 - 10s - loss: 0.2554 - accuracy: 0.7186 - val_loss: 0.2448 - val_accuracy: 0.7979 - lr: 0.0010 - 10s/epoch - 161ms/step\n",
      "Epoch 28/75\n",
      "59/59 - 9s - loss: 0.2537 - accuracy: 0.7188 - val_loss: 0.2471 - val_accuracy: 0.7970 - lr: 0.0010 - 9s/epoch - 157ms/step\n",
      "Epoch 29/75\n",
      "59/59 - 9s - loss: 0.2527 - accuracy: 0.7206 - val_loss: 0.2401 - val_accuracy: 0.8101 - lr: 0.0010 - 9s/epoch - 151ms/step\n",
      "Epoch 30/75\n",
      "59/59 - 9s - loss: 0.2524 - accuracy: 0.7214 - val_loss: 0.2422 - val_accuracy: 0.7998 - lr: 0.0010 - 9s/epoch - 154ms/step\n",
      "Epoch 31/75\n",
      "59/59 - 9s - loss: 0.2510 - accuracy: 0.7229 - val_loss: 0.2427 - val_accuracy: 0.8183 - lr: 0.0010 - 9s/epoch - 154ms/step\n",
      "Epoch 32/75\n",
      "59/59 - 9s - loss: 0.2513 - accuracy: 0.7227 - val_loss: 0.2481 - val_accuracy: 0.8081 - lr: 0.0010 - 9s/epoch - 152ms/step\n",
      "Epoch 33/75\n",
      "59/59 - 9s - loss: 0.2483 - accuracy: 0.7259 - val_loss: 0.2377 - val_accuracy: 0.8170 - lr: 0.0010 - 9s/epoch - 155ms/step\n",
      "Epoch 34/75\n",
      "59/59 - 9s - loss: 0.2491 - accuracy: 0.7242 - val_loss: 0.2601 - val_accuracy: 0.7940 - lr: 0.0010 - 9s/epoch - 154ms/step\n",
      "Epoch 35/75\n",
      "59/59 - 9s - loss: 0.2469 - accuracy: 0.7285 - val_loss: 0.2505 - val_accuracy: 0.8054 - lr: 0.0010 - 9s/epoch - 150ms/step\n",
      "Epoch 36/75\n",
      "59/59 - 9s - loss: 0.2468 - accuracy: 0.7283 - val_loss: 0.2248 - val_accuracy: 0.8318 - lr: 0.0010 - 9s/epoch - 152ms/step\n",
      "Epoch 37/75\n",
      "59/59 - 9s - loss: 0.2458 - accuracy: 0.7281 - val_loss: 0.2376 - val_accuracy: 0.8122 - lr: 0.0010 - 9s/epoch - 156ms/step\n",
      "Epoch 38/75\n",
      "59/59 - 9s - loss: 0.2439 - accuracy: 0.7309 - val_loss: 0.2228 - val_accuracy: 0.8433 - lr: 0.0010 - 9s/epoch - 157ms/step\n",
      "Epoch 39/75\n",
      "59/59 - 9s - loss: 0.2434 - accuracy: 0.7310 - val_loss: 0.2308 - val_accuracy: 0.8207 - lr: 0.0010 - 9s/epoch - 153ms/step\n",
      "Epoch 40/75\n",
      "59/59 - 9s - loss: 0.2427 - accuracy: 0.7326 - val_loss: 0.2308 - val_accuracy: 0.8145 - lr: 0.0010 - 9s/epoch - 151ms/step\n",
      "Epoch 41/75\n",
      "59/59 - 9s - loss: 0.2410 - accuracy: 0.7352 - val_loss: 0.2302 - val_accuracy: 0.8279 - lr: 0.0010 - 9s/epoch - 158ms/step\n",
      "Epoch 42/75\n",
      "59/59 - 9s - loss: 0.2406 - accuracy: 0.7351 - val_loss: 0.2323 - val_accuracy: 0.8231 - lr: 0.0010 - 9s/epoch - 154ms/step\n",
      "Epoch 43/75\n",
      "59/59 - 9s - loss: 0.2402 - accuracy: 0.7352 - val_loss: 0.2304 - val_accuracy: 0.8221 - lr: 0.0010 - 9s/epoch - 156ms/step\n",
      "Epoch 44/75\n",
      "59/59 - 9s - loss: 0.2397 - accuracy: 0.7365 - val_loss: 0.2091 - val_accuracy: 0.8373 - lr: 0.0010 - 9s/epoch - 155ms/step\n",
      "Epoch 45/75\n",
      "59/59 - 9s - loss: 0.2379 - accuracy: 0.7377 - val_loss: 0.2306 - val_accuracy: 0.8135 - lr: 0.0010 - 9s/epoch - 153ms/step\n",
      "Epoch 46/75\n",
      "59/59 - 9s - loss: 0.2382 - accuracy: 0.7389 - val_loss: 0.2317 - val_accuracy: 0.8183 - lr: 0.0010 - 9s/epoch - 152ms/step\n",
      "Epoch 47/75\n",
      "59/59 - 9s - loss: 0.2375 - accuracy: 0.7389 - val_loss: 0.2227 - val_accuracy: 0.8259 - lr: 0.0010 - 9s/epoch - 153ms/step\n",
      "Epoch 48/75\n",
      "59/59 - 9s - loss: 0.2372 - accuracy: 0.7405 - val_loss: 0.2272 - val_accuracy: 0.8286 - lr: 0.0010 - 9s/epoch - 153ms/step\n",
      "Epoch 49/75\n",
      "59/59 - 9s - loss: 0.2351 - accuracy: 0.7416 - val_loss: 0.2168 - val_accuracy: 0.8309 - lr: 0.0010 - 9s/epoch - 155ms/step\n",
      "Epoch 50/75\n",
      "59/59 - 9s - loss: 0.2344 - accuracy: 0.7433 - val_loss: 0.2308 - val_accuracy: 0.8075 - lr: 0.0010 - 9s/epoch - 154ms/step\n",
      "Epoch 51/75\n",
      "59/59 - 9s - loss: 0.2351 - accuracy: 0.7430 - val_loss: 0.2301 - val_accuracy: 0.8337 - lr: 0.0010 - 9s/epoch - 153ms/step\n",
      "Epoch 52/75\n",
      "59/59 - 9s - loss: 0.2331 - accuracy: 0.7444 - val_loss: 0.2169 - val_accuracy: 0.8472 - lr: 0.0010 - 9s/epoch - 152ms/step\n",
      "Epoch 53/75\n",
      "59/59 - 9s - loss: 0.2314 - accuracy: 0.7458 - val_loss: 0.2282 - val_accuracy: 0.8278 - lr: 0.0010 - 9s/epoch - 155ms/step\n",
      "Epoch 54/75\n",
      "59/59 - 9s - loss: 0.2302 - accuracy: 0.7465 - val_loss: 0.2245 - val_accuracy: 0.8410 - lr: 0.0010 - 9s/epoch - 154ms/step\n",
      "Epoch 55/75\n",
      "59/59 - 9s - loss: 0.2310 - accuracy: 0.7472 - val_loss: 0.2243 - val_accuracy: 0.8289 - lr: 0.0010 - 9s/epoch - 154ms/step\n",
      "Epoch 56/75\n",
      "59/59 - 9s - loss: 0.2301 - accuracy: 0.7481 - val_loss: 0.2226 - val_accuracy: 0.8182 - lr: 0.0010 - 9s/epoch - 153ms/step\n",
      "Epoch 57/75\n",
      "59/59 - 9s - loss: 0.2295 - accuracy: 0.7493 - val_loss: 0.2008 - val_accuracy: 0.8541 - lr: 0.0010 - 9s/epoch - 153ms/step\n",
      "Epoch 58/75\n",
      "59/59 - 9s - loss: 0.2290 - accuracy: 0.7492 - val_loss: 0.2049 - val_accuracy: 0.8411 - lr: 0.0010 - 9s/epoch - 151ms/step\n",
      "Epoch 59/75\n",
      "59/59 - 9s - loss: 0.2267 - accuracy: 0.7530 - val_loss: 0.2111 - val_accuracy: 0.8325 - lr: 0.0010 - 9s/epoch - 154ms/step\n",
      "Epoch 60/75\n",
      "59/59 - 9s - loss: 0.2269 - accuracy: 0.7513 - val_loss: 0.2218 - val_accuracy: 0.8381 - lr: 0.0010 - 9s/epoch - 152ms/step\n",
      "Epoch 61/75\n",
      "59/59 - 9s - loss: 0.2261 - accuracy: 0.7520 - val_loss: 0.2142 - val_accuracy: 0.8480 - lr: 0.0010 - 9s/epoch - 154ms/step\n",
      "Epoch 62/75\n",
      "59/59 - 9s - loss: 0.2247 - accuracy: 0.7530 - val_loss: 0.2013 - val_accuracy: 0.8515 - lr: 0.0010 - 9s/epoch - 155ms/step\n",
      "Epoch 63/75\n",
      "59/59 - 9s - loss: 0.2243 - accuracy: 0.7547 - val_loss: 0.2128 - val_accuracy: 0.8429 - lr: 0.0010 - 9s/epoch - 153ms/step\n",
      "Epoch 64/75\n",
      "59/59 - 9s - loss: 0.2242 - accuracy: 0.7549 - val_loss: 0.2090 - val_accuracy: 0.8434 - lr: 0.0010 - 9s/epoch - 155ms/step\n",
      "Epoch 65/75\n",
      "59/59 - 9s - loss: 0.2225 - accuracy: 0.7561 - val_loss: 0.2173 - val_accuracy: 0.8273 - lr: 0.0010 - 9s/epoch - 154ms/step\n",
      "Epoch 66/75\n",
      "59/59 - 9s - loss: 0.2217 - accuracy: 0.7579 - val_loss: 0.2218 - val_accuracy: 0.8257 - lr: 0.0010 - 9s/epoch - 151ms/step\n",
      "Epoch 67/75\n",
      "59/59 - 9s - loss: 0.2214 - accuracy: 0.7584 - val_loss: 0.2104 - val_accuracy: 0.8271 - lr: 0.0010 - 9s/epoch - 159ms/step\n",
      "Epoch 68/75\n",
      "59/59 - 9s - loss: 0.2199 - accuracy: 0.7590 - val_loss: 0.2114 - val_accuracy: 0.8400 - lr: 0.0010 - 9s/epoch - 154ms/step\n",
      "Epoch 69/75\n",
      "59/59 - 9s - loss: 0.2212 - accuracy: 0.7579 - val_loss: 0.2199 - val_accuracy: 0.8185 - lr: 0.0010 - 9s/epoch - 151ms/step\n",
      "Epoch 70/75\n",
      "59/59 - 9s - loss: 0.2183 - accuracy: 0.7615 - val_loss: 0.2223 - val_accuracy: 0.8251 - lr: 0.0010 - 9s/epoch - 153ms/step\n",
      "Epoch 71/75\n",
      "59/59 - 9s - loss: 0.2200 - accuracy: 0.7581 - val_loss: 0.2030 - val_accuracy: 0.8396 - lr: 0.0010 - 9s/epoch - 156ms/step\n",
      "Epoch 72/75\n",
      "59/59 - 9s - loss: 0.2173 - accuracy: 0.7638 - val_loss: 0.1996 - val_accuracy: 0.8628 - lr: 0.0010 - 9s/epoch - 155ms/step\n",
      "Epoch 73/75\n",
      "59/59 - 9s - loss: 0.2174 - accuracy: 0.7619 - val_loss: 0.2102 - val_accuracy: 0.8402 - lr: 0.0010 - 9s/epoch - 155ms/step\n",
      "Epoch 74/75\n",
      "59/59 - 9s - loss: 0.2153 - accuracy: 0.7649 - val_loss: 0.1933 - val_accuracy: 0.8533 - lr: 0.0010 - 9s/epoch - 156ms/step\n",
      "Epoch 75/75\n",
      "59/59 - 9s - loss: 0.2156 - accuracy: 0.7650 - val_loss: 0.2270 - val_accuracy: 0.7938 - lr: 0.0010 - 9s/epoch - 151ms/step\n"
     ]
    }
   ],
   "source": [
    "#epochs = 0\n",
    "batch_range = [50,150,200,450, 1350]\n",
    "epochs_range= [5,25,125,625]\n",
    "n=0\n",
    "i=0\n",
    "#optimizer_range= [adamax,adam]\n",
    "#itertools\n",
    "for ep in epochs_range:\n",
    "    print(f\"Epoch: {ep}\")\n",
    "    for bs in batch_range:\n",
    "        print(f\"fitting with batch size: {bs}\")\n",
    "        model.compile(loss='categorical_crossentropy', optimizer=adam, metrics=['accuracy'])\n",
    "        history = model.fit(X_train, y_train, \n",
    "                            epochs=epochs_range[i], \n",
    "                            batch_size=batch_range[n], \n",
    "                            verbose=2, \n",
    "                            validation_data=(X_test, y_test), \n",
    "                            callbacks=[lrate])\n",
    "        n = n+1\n",
    "    n=0    \n",
    "    i=i+1"
   ]
  },
  {
   "cell_type": "code",
   "execution_count": 162,
   "metadata": {
    "_uuid": "d43023d26a87e3c4702b96bea5962c990c76aa0a",
    "jupyter": {
     "outputs_hidden": true
    }
   },
   "outputs": [
    {
     "name": "stdout",
     "output_type": "stream",
     "text": [
      "44/44 [==============================] - 1s 18ms/step\n"
     ]
    }
   ],
   "source": [
    "y_pred = model.predict(X_test, batch_size = 500)"
   ]
  },
  {
   "cell_type": "code",
   "execution_count": 163,
   "metadata": {
    "_uuid": "20cfe7f5891e3c26c599fa4cd728ac0a499ac70e",
    "jupyter": {
     "outputs_hidden": true
    }
   },
   "outputs": [
    {
     "name": "stdout",
     "output_type": "stream",
     "text": [
      "              precision    recall  f1-score   support\n",
      "\n",
      "           0       0.98      0.79      0.87     18118\n",
      "           1       0.17      0.74      0.28       556\n",
      "           2       0.70      0.80      0.75      1448\n",
      "           3       0.09      0.88      0.16       162\n",
      "           4       0.87      0.89      0.88      1608\n",
      "\n",
      "    accuracy                           0.79     21892\n",
      "   macro avg       0.56      0.82      0.59     21892\n",
      "weighted avg       0.92      0.79      0.84     21892\n",
      "\n"
     ]
    }
   ],
   "source": [
    "print(classification_report(y_test.argmax(axis=1), y_pred.argmax(axis=1)))"
   ]
  },
  {
   "cell_type": "code",
   "execution_count": 164,
   "metadata": {
    "_uuid": "017f2431a45766fb0d4b2ef17ce613c1142ca085",
    "jupyter": {
     "outputs_hidden": true
    }
   },
   "outputs": [
    {
     "name": "stdout",
     "output_type": "stream",
     "text": [
      "ranking-based average precision : 0.891\n",
      "Ranking loss : 0.062\n",
      "Coverage_error : 1.248\n"
     ]
    }
   ],
   "source": [
    "print(\"ranking-based average precision : {:.3f}\".format(label_ranking_average_precision_score(y_test, y_pred)))\n",
    "print(\"Ranking loss : {:.3f}\".format(label_ranking_loss(y_test, y_pred)))\n",
    "print(\"Coverage_error : {:.3f}\".format(coverage_error(y_test, y_pred)))"
   ]
  },
  {
   "cell_type": "code",
   "execution_count": 165,
   "metadata": {},
   "outputs": [
    {
     "name": "stdout",
     "output_type": "stream",
     "text": [
      "Normalized confusion matrix\n"
     ]
    },
    {
     "data": {
      "image/png": "[encoded data removed]",
      "text/plain": [
       "<Figure size 720x720 with 2 Axes>"
      ]
     },
     "metadata": {
      "needs_background": "light"
     },
     "output_type": "display_data"
    }
   ],
   "source": [
    "import itertools\n",
    "def plot_confusion_matrix(cm, classes,\n",
    "                          normalize=False,\n",
    "                          title='Confusion matrix',\n",
    "                          cmap=plt.cm.Blues):\n",
    "    \"\"\"\n",
    "    This function prints and plots the confusion matrix.\n",
    "    Normalization can be applied by setting `normalize=True`.\n",
    "    \"\"\"\n",
    "    if normalize:\n",
    "        cm = cm.astype('float') / cm.sum(axis=1)[:, np.newaxis]\n",
    "        print(\"Normalized confusion matrix\")\n",
    "    else:\n",
    "        print('Confusion matrix, without normalization')\n",
    "\n",
    "    plt.imshow(cm, interpolation='nearest', cmap=cmap)\n",
    "    plt.title(title)\n",
    "    plt.colorbar()\n",
    "    tick_marks = np.arange(len(classes))\n",
    "    plt.xticks(tick_marks, classes, rotation=45)\n",
    "    plt.yticks(tick_marks, classes)\n",
    "\n",
    "    fmt = '.2f' if normalize else 'd'\n",
    "    thresh = cm.max() / 2.\n",
    "    for i, j in itertools.product(range(cm.shape[0]), range(cm.shape[1])):\n",
    "        plt.text(j, i, format(cm[i, j], fmt),\n",
    "                 horizontalalignment=\"center\",\n",
    "                 color=\"white\" if cm[i, j] > thresh else \"black\", fontsize=30)\n",
    "\n",
    "    plt.tight_layout()\n",
    "    plt.ylabel('True label')\n",
    "    plt.xlabel('Predicted label')\n",
    "\n",
    "# Compute confusion matrix\n",
    "cnf_matrix = confusion_matrix(y_test.argmax(axis=1), y_pred.argmax(axis=1))\n",
    "np.set_printoptions(precision=2)\n",
    "\n",
    "# Plot non-normalized confusion matrix\n",
    "plt.figure(figsize=(10, 10))\n",
    "plot_confusion_matrix(cnf_matrix, classes=['N', 'S', 'V', 'F', 'Q'],normalize=True,\n",
    "                      title='Confusion matrix, with normalization')\n",
    "plt.show()"
   ]
  },
  {
   "cell_type": "code",
   "execution_count": 166,
   "metadata": {},
   "outputs": [],
   "source": [
    "FP = cnf_matrix.sum(axis=0) - np.diag(cnf_matrix)  \n",
    "FN = cnf_matrix.sum(axis=1) - np.diag(cnf_matrix)\n",
    "TP = np.diag(cnf_matrix)\n",
    "TN = cnf_matrix.sum() - (FP + FN + TP)\n",
    "\n",
    "# Sensitivity, hit rate, recall, or true positive rate\n",
    "RECALL = TP/(TP+FN)\n",
    "# Specificity or true negative rate\n",
    "SPECIFICITY = TN/(TN+FP) \n",
    "# Precision or positive predictive value\n",
    "PRECISION = TP/(TP+FP)\n",
    "# Negative predictive value\n",
    "NPV = TN/(TN+FN)\n",
    "# Fall out or false positive rate\n",
    "FPR = FP/(FP+TN)\n",
    "# False negative rate\n",
    "FNR = FN/(TP+FN)\n",
    "# False discovery rate\n",
    "FDR = FP/(TP+FP)\n",
    "\n",
    "# Overall accuracy\n",
    "ACC = (TP+TN)/(TP+FP+FN+TN)\n",
    "#F1-score\n",
    "F1 = 2*((RECALL*PRECISION)/(RECALL+PRECISION))"
   ]
  },
  {
   "cell_type": "code",
   "execution_count": 167,
   "metadata": {},
   "outputs": [
    {
     "name": "stdout",
     "output_type": "stream",
     "text": [
      "44/44 [==============================] - 1s 23ms/step - loss: 0.2270 - accuracy: 0.7938\n",
      "44/44 [==============================] - 1s 20ms/step - loss: 0.3028 - accuracy: 1.0000\n",
      "Accuracy: 22.70%\n",
      "Accuracy: 79.38%\n",
      "Precision: 56.20%\n",
      "Specificity: 94.30%\n",
      "Recall :82.03%\n",
      "F1-Score :58.77%\n",
      "Recall:82.03%\n"
     ]
    }
   ],
   "source": [
    "from statistics import mean, median\n",
    "from tkinter import N\n",
    "scores = model.evaluate((X_test), y_test, batch_size = 500)\n",
    "scores2 = model.evaluate(X_test, y_pred, batch_size = 500)\n",
    "print(\"Accuracy: %.2f%%\" % (scores[0]*100))\n",
    "print(\"Accuracy: %.2f%%\" % (scores[1]*100))\n",
    "PRE = mean(PRECISION)\n",
    "print(\"Precision: %.2f%%\"% (PRE*100))\n",
    "#print(\"Precision: \", PRECISION)\n",
    "SPE = mean(SPECIFICITY)\n",
    "print(\"Specificity: %.2f%%\"% (SPE*100))\n",
    "#print(\"Specificity\", SPECIFICITY)\n",
    "RE = mean(RECALL)\n",
    "print(\"Recall :%.2f%%\"% (RE*100))\n",
    "#print(\"Recall\", RECALL)\n",
    "#print(\"F1: \", F1)\n",
    "F1S = mean(F1)\n",
    "print(\"F1-Score :%.2f%%\"% (F1S*100))\n",
    "Z= mean(1-FNR)*100\n",
    "print(\"Recall:%.2f%%\"%Z)"
   ]
  }
 ],
 "metadata": {
  "kernelspec": {
   "display_name": "base",
   "language": "python",
   "name": "python3"
  },
  "language_info": {
   "codemirror_mode": {
    "name": "ipython",
    "version": 3
   },
   "file_extension": ".py",
   "mimetype": "text/x-python",
   "name": "python",
   "nbconvert_exporter": "python",
   "pygments_lexer": "ipython3",
   "version": "3.9.12 (main, Apr  4 2022, 05:22:27) [MSC v.1916 64 bit (AMD64)]"
  },
  "vscode": {
   "interpreter": {
    "hash": "e06ff7da33dc9620448857a90ad8b5f428f0d573d205a934d2841c8aee45ea32"
   }
  }
 },
 "nbformat": 4,
 "nbformat_minor": 4
}
