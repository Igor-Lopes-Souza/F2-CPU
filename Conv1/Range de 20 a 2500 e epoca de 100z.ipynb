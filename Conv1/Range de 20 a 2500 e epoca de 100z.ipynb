Epoch number: 100
fitting with batch size: 20
Epoch 1/100
4378/4378 - 87s - loss: 1.0167 - accuracy: 0.5974 - val_loss: 0.9315 - val_accuracy: 0.6304 - lr: 0.0010 - 87s/epoch - 20ms/step
Epoch 2/100
4378/4378 - 82s - loss: 0.8842 - accuracy: 0.6626 - val_loss: 0.7676 - val_accuracy: 0.7074 - lr: 0.0010 - 82s/epoch - 19ms/step
Epoch 3/100
4378/4378 - 83s - loss: 0.8514 - accuracy: 0.6771 - val_loss: 0.9629 - val_accuracy: 0.5941 - lr: 0.0010 - 83s/epoch - 19ms/step
Epoch 4/100
4378/4378 - 81s - loss: 0.8297 - accuracy: 0.6857 - val_loss: 0.7558 - val_accuracy: 0.7109 - lr: 0.0010 - 81s/epoch - 18ms/step
Epoch 5/100
4378/4378 - 81s - loss: 0.8153 - accuracy: 0.6920 - val_loss: 0.9127 - val_accuracy: 0.6431 - lr: 0.0010 - 81s/epoch - 18ms/step
Epoch 6/100
4378/4378 - 77s - loss: 0.8054 - accuracy: 0.6947 - val_loss: 0.7380 - val_accuracy: 0.7452 - lr: 0.0010 - 77s/epoch - 18ms/step
Epoch 7/100
4378/4378 - 79s - loss: 0.7988 - accuracy: 0.6990 - val_loss: 0.8589 - val_accuracy: 0.6665 - lr: 0.0010 - 79s/epoch - 18ms/step
Epoch 8/100
4378/4378 - 82s - loss: 0.7928 - accuracy: 0.7019 - val_loss: 0.8025 - val_accuracy: 0.6879 - lr: 0.0010 - 82s/epoch - 19ms/step
Epoch 9/100
4378/4378 - 82s - loss: 0.7865 - accuracy: 0.7039 - val_loss: 0.8120 - val_accuracy: 0.7118 - lr: 0.0010 - 82s/epoch - 19ms/step
Epoch 10/100
4378/4378 - 83s - loss: 0.7832 - accuracy: 0.7055 - val_loss: 0.8975 - val_accuracy: 0.6457 - lr: 0.0010 - 83s/epoch - 19ms/step
Epoch 11/100
4378/4378 - 80s - loss: 0.7796 - accuracy: 0.7072 - val_loss: 0.7789 - val_accuracy: 0.6766 - lr: 0.0010 - 80s/epoch - 18ms/step
Epoch 12/100
4378/4378 - 74s - loss: 0.7758 - accuracy: 0.7081 - val_loss: 0.7883 - val_accuracy: 0.7149 - lr: 0.0010 - 74s/epoch - 17ms/step
Epoch 13/100
4378/4378 - 75s - loss: 0.7724 - accuracy: 0.7091 - val_loss: 0.7688 - val_accuracy: 0.7256 - lr: 0.0010 - 75s/epoch - 17ms/step
Epoch 14/100
4378/4378 - 82s - loss: 0.7695 - accuracy: 0.7126 - val_loss: 0.8439 - val_accuracy: 0.6939 - lr: 0.0010 - 82s/epoch - 19ms/step
Epoch 15/100
4378/4378 - 79s - loss: 0.7667 - accuracy: 0.7125 - val_loss: 0.7752 - val_accuracy: 0.7063 - lr: 0.0010 - 79s/epoch - 18ms/step
Epoch 16/100
4378/4378 - 81s - loss: 0.7644 - accuracy: 0.7138 - val_loss: 0.7620 - val_accuracy: 0.7212 - lr: 0.0010 - 81s/epoch - 18ms/step
Epoch 17/100
4378/4378 - 71s - loss: 0.7629 - accuracy: 0.7148 - val_loss: 0.6610 - val_accuracy: 0.7626 - lr: 0.0010 - 71s/epoch - 16ms/step
Epoch 18/100
4378/4378 - 65s - loss: 0.7606 - accuracy: 0.7166 - val_loss: 0.7230 - val_accuracy: 0.7199 - lr: 0.0010 - 65s/epoch - 15ms/step
Epoch 19/100
4378/4378 - 66s - loss: 0.7575 - accuracy: 0.7173 - val_loss: 0.7871 - val_accuracy: 0.6715 - lr: 0.0010 - 66s/epoch - 15ms/step
Epoch 20/100
4378/4378 - 66s - loss: 0.7565 - accuracy: 0.7157 - val_loss: 0.8515 - val_accuracy: 0.6914 - lr: 0.0010 - 66s/epoch - 15ms/step
Epoch 21/100
4378/4378 - 66s - loss: 0.7533 - accuracy: 0.7167 - val_loss: 0.7815 - val_accuracy: 0.7125 - lr: 0.0010 - 66s/epoch - 15ms/step
Epoch 22/100
4378/4378 - 67s - loss: 0.7515 - accuracy: 0.7168 - val_loss: 0.7644 - val_accuracy: 0.6971 - lr: 0.0010 - 67s/epoch - 15ms/step
Epoch 23/100
4378/4378 - 74s - loss: 0.7492 - accuracy: 0.7195 - val_loss: 0.7483 - val_accuracy: 0.7059 - lr: 0.0010 - 74s/epoch - 17ms/step
Epoch 24/100
4378/4378 - 79s - loss: 0.7486 - accuracy: 0.7185 - val_loss: 0.7298 - val_accuracy: 0.7267 - lr: 0.0010 - 79s/epoch - 18ms/step
Epoch 25/100
4378/4378 - 81s - loss: 0.7463 - accuracy: 0.7202 - val_loss: 0.7795 - val_accuracy: 0.6983 - lr: 0.0010 - 81s/epoch - 19ms/step
Epoch 26/100
4378/4378 - 78s - loss: 0.7464 - accuracy: 0.7187 - val_loss: 0.7434 - val_accuracy: 0.7044 - lr: 0.0010 - 78s/epoch - 18ms/step
Epoch 27/100
4378/4378 - 72s - loss: 0.7435 - accuracy: 0.7205 - val_loss: 0.7296 - val_accuracy: 0.7262 - lr: 0.0010 - 72s/epoch - 16ms/step
Epoch 28/100
4378/4378 - 71s - loss: 0.7442 - accuracy: 0.7217 - val_loss: 0.8092 - val_accuracy: 0.7119 - lr: 0.0010 - 71s/epoch - 16ms/step
Epoch 29/100
4378/4378 - 71s - loss: 0.7403 - accuracy: 0.7215 - val_loss: 0.6813 - val_accuracy: 0.7597 - lr: 0.0010 - 71s/epoch - 16ms/step
Epoch 30/100
4378/4378 - 71s - loss: 0.7385 - accuracy: 0.7227 - val_loss: 0.6468 - val_accuracy: 0.7654 - lr: 0.0010 - 71s/epoch - 16ms/step
Epoch 31/100
4378/4378 - 71s - loss: 0.7364 - accuracy: 0.7229 - val_loss: 0.7186 - val_accuracy: 0.7283 - lr: 0.0010 - 71s/epoch - 16ms/step
Epoch 32/100
4378/4378 - 67s - loss: 0.7386 - accuracy: 0.7216 - val_loss: 0.7431 - val_accuracy: 0.7276 - lr: 0.0010 - 67s/epoch - 15ms/step
Epoch 33/100
4378/4378 - 72s - loss: 0.7390 - accuracy: 0.7230 - val_loss: 0.7423 - val_accuracy: 0.7180 - lr: 0.0010 - 72s/epoch - 17ms/step
Epoch 34/100
4378/4378 - 80s - loss: 0.7398 - accuracy: 0.7223 - val_loss: 0.7657 - val_accuracy: 0.7140 - lr: 0.0010 - 80s/epoch - 18ms/step
Epoch 35/100
4378/4378 - 78s - loss: 0.7361 - accuracy: 0.7235 - val_loss: 0.7480 - val_accuracy: 0.6932 - lr: 0.0010 - 78s/epoch - 18ms/step
Epoch 36/100
4378/4378 - 76s - loss: 0.7362 - accuracy: 0.7239 - val_loss: 0.6856 - val_accuracy: 0.7574 - lr: 0.0010 - 76s/epoch - 17ms/step
Epoch 37/100
4378/4378 - 77s - loss: 0.7350 - accuracy: 0.7227 - val_loss: 0.7864 - val_accuracy: 0.6983 - lr: 0.0010 - 77s/epoch - 18ms/step
Epoch 38/100
4378/4378 - 81s - loss: 0.7372 - accuracy: 0.7245 - val_loss: 0.8078 - val_accuracy: 0.7037 - lr: 0.0010 - 81s/epoch - 18ms/step
Epoch 39/100
4378/4378 - 82s - loss: 0.7346 - accuracy: 0.7238 - val_loss: 0.6791 - val_accuracy: 0.7488 - lr: 0.0010 - 82s/epoch - 19ms/step
Epoch 40/100
4378/4378 - 83s - loss: 0.7370 - accuracy: 0.7238 - val_loss: 0.8147 - val_accuracy: 0.6610 - lr: 0.0010 - 83s/epoch - 19ms/step
Epoch 41/100
4378/4378 - 81s - loss: 0.7364 - accuracy: 0.7244 - val_loss: 0.7158 - val_accuracy: 0.7632 - lr: 0.0010 - 81s/epoch - 19ms/step
Epoch 42/100
4378/4378 - 81s - loss: 0.7338 - accuracy: 0.7252 - val_loss: 0.8142 - val_accuracy: 0.6870 - lr: 0.0010 - 81s/epoch - 18ms/step
Epoch 43/100
4378/4378 - 82s - loss: 0.7350 - accuracy: 0.7244 - val_loss: 0.7289 - val_accuracy: 0.7368 - lr: 0.0010 - 82s/epoch - 19ms/step
Epoch 44/100
4378/4378 - 76s - loss: 0.7344 - accuracy: 0.7242 - val_loss: 0.6391 - val_accuracy: 0.7753 - lr: 0.0010 - 76s/epoch - 17ms/step
Epoch 45/100
4378/4378 - 71s - loss: 0.7335 - accuracy: 0.7247 - val_loss: 0.8594 - val_accuracy: 0.6961 - lr: 0.0010 - 71s/epoch - 16ms/step
Epoch 46/100
4378/4378 - 72s - loss: 0.7389 - accuracy: 0.7238 - val_loss: 0.7024 - val_accuracy: 0.7555 - lr: 0.0010 - 72s/epoch - 16ms/step
Epoch 47/100
4378/4378 - 71s - loss: 0.7323 - accuracy: 0.7264 - val_loss: 0.7532 - val_accuracy: 0.7130 - lr: 0.0010 - 71s/epoch - 16ms/step
Epoch 48/100
4378/4378 - 77s - loss: 0.7349 - accuracy: 0.7250 - val_loss: 0.7660 - val_accuracy: 0.7075 - lr: 0.0010 - 77s/epoch - 18ms/step
Epoch 49/100
4378/4378 - 83s - loss: 0.7333 - accuracy: 0.7263 - val_loss: 0.7420 - val_accuracy: 0.7282 - lr: 0.0010 - 83s/epoch - 19ms/step
Epoch 50/100
4378/4378 - 80s - loss: 0.7309 - accuracy: 0.7262 - val_loss: 0.7790 - val_accuracy: 0.7015 - lr: 0.0010 - 80s/epoch - 18ms/step
Epoch 51/100
4378/4378 - 73s - loss: 0.7325 - accuracy: 0.7274 - val_loss: 0.8163 - val_accuracy: 0.6794 - lr: 0.0010 - 73s/epoch - 17ms/step
Epoch 52/100
4378/4378 - 71s - loss: 0.7366 - accuracy: 0.7245 - val_loss: 0.7966 - val_accuracy: 0.6976 - lr: 0.0010 - 71s/epoch - 16ms/step
Epoch 53/100
4378/4378 - 71s - loss: 0.7361 - accuracy: 0.7253 - val_loss: 0.7595 - val_accuracy: 0.7291 - lr: 0.0010 - 71s/epoch - 16ms/step
Epoch 54/100
4378/4378 - 74s - loss: 0.7393 - accuracy: 0.7238 - val_loss: 0.8771 - val_accuracy: 0.6695 - lr: 0.0010 - 74s/epoch - 17ms/step
Epoch 55/100
4378/4378 - 71s - loss: 0.7305 - accuracy: 0.7261 - val_loss: 0.6887 - val_accuracy: 0.7475 - lr: 0.0010 - 71s/epoch - 16ms/step
Epoch 56/100
4378/4378 - 71s - loss: 0.7307 - accuracy: 0.7264 - val_loss: 0.7858 - val_accuracy: 0.7088 - lr: 0.0010 - 71s/epoch - 16ms/step
Epoch 57/100
4378/4378 - 71s - loss: 0.7311 - accuracy: 0.7254 - val_loss: 0.7239 - val_accuracy: 0.7340 - lr: 0.0010 - 71s/epoch - 16ms/step
Epoch 58/100
4378/4378 - 78s - loss: 0.8210 - accuracy: 0.7244 - val_loss: 0.6967 - val_accuracy: 0.7373 - lr: 0.0010 - 78s/epoch - 18ms/step
Epoch 59/100
4378/4378 - 68s - loss: 0.7338 - accuracy: 0.7256 - val_loss: 0.7064 - val_accuracy: 0.7593 - lr: 0.0010 - 68s/epoch - 15ms/step
Epoch 60/100
4378/4378 - 67s - loss: 0.7288 - accuracy: 0.7274 - val_loss: 0.7564 - val_accuracy: 0.7110 - lr: 0.0010 - 67s/epoch - 15ms/step
Epoch 61/100
4378/4378 - 66s - loss: 0.7300 - accuracy: 0.7270 - val_loss: 0.7552 - val_accuracy: 0.7242 - lr: 0.0010 - 66s/epoch - 15ms/step
Epoch 62/100
4378/4378 - 66s - loss: 0.7322 - accuracy: 0.7257 - val_loss: 0.7786 - val_accuracy: 0.7128 - lr: 0.0010 - 66s/epoch - 15ms/step
Epoch 63/100
4378/4378 - 66s - loss: 0.7356 - accuracy: 0.7270 - val_loss: 0.7186 - val_accuracy: 0.7428 - lr: 0.0010 - 66s/epoch - 15ms/step
Epoch 64/100
4378/4378 - 74s - loss: 0.7309 - accuracy: 0.7265 - val_loss: 0.7933 - val_accuracy: 0.7118 - lr: 0.0010 - 74s/epoch - 17ms/step
Epoch 65/100
4378/4378 - 79s - loss: 0.8997 - accuracy: 0.7228 - val_loss: 0.7979 - val_accuracy: 0.7179 - lr: 0.0010 - 79s/epoch - 18ms/step
Epoch 66/100
4378/4378 - 75s - loss: 0.7324 - accuracy: 0.7251 - val_loss: 0.8205 - val_accuracy: 0.6871 - lr: 0.0010 - 75s/epoch - 17ms/step
Epoch 67/100
4378/4378 - 72s - loss: 0.7360 - accuracy: 0.7259 - val_loss: 0.8148 - val_accuracy: 0.6998 - lr: 0.0010 - 72s/epoch - 16ms/step
Epoch 68/100
4378/4378 - 72s - loss: 0.7331 - accuracy: 0.7266 - val_loss: 0.7427 - val_accuracy: 0.7665 - lr: 0.0010 - 72s/epoch - 16ms/step
Epoch 69/100
4378/4378 - 73s - loss: 0.7301 - accuracy: 0.7248 - val_loss: 0.7455 - val_accuracy: 0.7182 - lr: 0.0010 - 73s/epoch - 17ms/step
Epoch 70/100
4378/4378 - 81s - loss: 0.7335 - accuracy: 0.7245 - val_loss: 0.7913 - val_accuracy: 0.6997 - lr: 0.0010 - 81s/epoch - 18ms/step
Epoch 71/100
4378/4378 - 74s - loss: 0.7346 - accuracy: 0.7250 - val_loss: 0.7254 - val_accuracy: 0.7521 - lr: 0.0010 - 74s/epoch - 17ms/step
Epoch 72/100
4378/4378 - 70s - loss: 0.7358 - accuracy: 0.7242 - val_loss: 0.7165 - val_accuracy: 0.7532 - lr: 0.0010 - 70s/epoch - 16ms/step
Epoch 73/100
4378/4378 - 71s - loss: 0.7345 - accuracy: 0.7243 - val_loss: 0.7544 - val_accuracy: 0.7232 - lr: 0.0010 - 71s/epoch - 16ms/step
Epoch 74/100
4378/4378 - 71s - loss: 0.7387 - accuracy: 0.7244 - val_loss: 0.8181 - val_accuracy: 0.7014 - lr: 0.0010 - 71s/epoch - 16ms/step
Epoch 75/100
4378/4378 - 71s - loss: 0.7361 - accuracy: 0.7251 - val_loss: 0.7674 - val_accuracy: 0.7368 - lr: 0.0010 - 71s/epoch - 16ms/step
Epoch 76/100
4378/4378 - 73s - loss: 0.7308 - accuracy: 0.7261 - val_loss: 0.7488 - val_accuracy: 0.7399 - lr: 0.0010 - 73s/epoch - 17ms/step
Epoch 77/100
4378/4378 - 72s - loss: 0.7541 - accuracy: 0.7245 - val_loss: 0.7132 - val_accuracy: 0.7691 - lr: 0.0010 - 72s/epoch - 16ms/step
Epoch 78/100
4378/4378 - 71s - loss: 0.7354 - accuracy: 0.7255 - val_loss: 0.8162 - val_accuracy: 0.7299 - lr: 0.0010 - 71s/epoch - 16ms/step
Epoch 79/100
4378/4378 - 71s - loss: 0.7409 - accuracy: 0.7249 - val_loss: 0.7710 - val_accuracy: 0.6984 - lr: 0.0010 - 71s/epoch - 16ms/step
Epoch 80/100
4378/4378 - 75s - loss: 0.7654 - accuracy: 0.7220 - val_loss: 0.6695 - val_accuracy: 0.7513 - lr: 0.0010 - 75s/epoch - 17ms/step
Epoch 81/100
4378/4378 - 78s - loss: 0.7433 - accuracy: 0.7232 - val_loss: 0.6778 - val_accuracy: 0.7661 - lr: 0.0010 - 78s/epoch - 18ms/step
Epoch 82/100
4378/4378 - 71s - loss: 0.7459 - accuracy: 0.7241 - val_loss: 0.8788 - val_accuracy: 0.6786 - lr: 0.0010 - 71s/epoch - 16ms/step
Epoch 83/100
4378/4378 - 71s - loss: 0.7446 - accuracy: 0.7240 - val_loss: 0.7545 - val_accuracy: 0.7152 - lr: 0.0010 - 71s/epoch - 16ms/step
Epoch 84/100
4378/4378 - 71s - loss: 0.7357 - accuracy: 0.7249 - val_loss: 0.8368 - val_accuracy: 0.7234 - lr: 0.0010 - 71s/epoch - 16ms/step
Epoch 85/100
4378/4378 - 71s - loss: 0.7403 - accuracy: 0.7226 - val_loss: 0.8228 - val_accuracy: 0.7068 - lr: 0.0010 - 71s/epoch - 16ms/step
Epoch 86/100
4378/4378 - 81s - loss: 0.7493 - accuracy: 0.7223 - val_loss: 0.7555 - val_accuracy: 0.7123 - lr: 0.0010 - 81s/epoch - 19ms/step
Epoch 87/100
4378/4378 - 72s - loss: 0.7386 - accuracy: 0.7242 - val_loss: 0.7306 - val_accuracy: 0.7275 - lr: 0.0010 - 72s/epoch - 16ms/step
Epoch 88/100
4378/4378 - 70s - loss: 0.7470 - accuracy: 0.7208 - val_loss: 0.8130 - val_accuracy: 0.6986 - lr: 0.0010 - 70s/epoch - 16ms/step
Epoch 89/100
4378/4378 - 71s - loss: 0.7487 - accuracy: 0.7208 - val_loss: 0.9114 - val_accuracy: 0.6425 - lr: 0.0010 - 71s/epoch - 16ms/step
Epoch 90/100
4378/4378 - 70s - loss: 0.7444 - accuracy: 0.7214 - val_loss: 0.7623 - val_accuracy: 0.7187 - lr: 0.0010 - 70s/epoch - 16ms/step
Epoch 91/100
4378/4378 - 71s - loss: 0.7663 - accuracy: 0.7211 - val_loss: 0.7535 - val_accuracy: 0.7190 - lr: 0.0010 - 71s/epoch - 16ms/step
Epoch 92/100
4378/4378 - 72s - loss: 0.7420 - accuracy: 0.7225 - val_loss: 0.7783 - val_accuracy: 0.7136 - lr: 0.0010 - 72s/epoch - 16ms/step
Epoch 93/100
4378/4378 - 70s - loss: 0.7442 - accuracy: 0.7208 - val_loss: 0.7079 - val_accuracy: 0.7606 - lr: 0.0010 - 70s/epoch - 16ms/step
Epoch 94/100
4378/4378 - 70s - loss: 0.7498 - accuracy: 0.7230 - val_loss: 0.7394 - val_accuracy: 0.7439 - lr: 0.0010 - 70s/epoch - 16ms/step
Epoch 95/100
4378/4378 - 70s - loss: 0.7502 - accuracy: 0.7195 - val_loss: 0.7574 - val_accuracy: 0.7201 - lr: 0.0010 - 70s/epoch - 16ms/step
Epoch 96/100
4378/4378 - 70s - loss: 0.7570 - accuracy: 0.7219 - val_loss: 0.7021 - val_accuracy: 0.7343 - lr: 0.0010 - 70s/epoch - 16ms/step
Epoch 97/100
4378/4378 - 70s - loss: 0.7487 - accuracy: 0.7212 - val_loss: 0.6800 - val_accuracy: 0.7643 - lr: 0.0010 - 70s/epoch - 16ms/step
Epoch 98/100
4378/4378 - 71s - loss: 0.7854 - accuracy: 0.7202 - val_loss: 0.8628 - val_accuracy: 0.7046 - lr: 0.0010 - 71s/epoch - 16ms/step
Epoch 99/100
4378/4378 - 71s - loss: 0.7491 - accuracy: 0.7231 - val_loss: 0.6792 - val_accuracy: 0.7721 - lr: 0.0010 - 71s/epoch - 16ms/step
Epoch 100/100
4378/4378 - 73s - loss: 0.7459 - accuracy: 0.7213 - val_loss: 0.7030 - val_accuracy: 0.7516 - lr: 0.0010 - 73s/epoch - 17ms/step
fitting with batch size: 100
Epoch 1/100
876/876 - 21s - loss: 0.7001 - accuracy: 0.7360 - val_loss: 0.6915 - val_accuracy: 0.7538 - lr: 0.0010 - 21s/epoch - 24ms/step
Epoch 2/100
876/876 - 16s - loss: 0.6923 - accuracy: 0.7398 - val_loss: 0.6780 - val_accuracy: 0.7703 - lr: 0.0010 - 16s/epoch - 19ms/step
Epoch 3/100
876/876 - 17s - loss: 0.6831 - accuracy: 0.7424 - val_loss: 0.7064 - val_accuracy: 0.7443 - lr: 0.0010 - 17s/epoch - 19ms/step
Epoch 4/100
876/876 - 17s - loss: 0.6823 - accuracy: 0.7433 - val_loss: 0.6857 - val_accuracy: 0.7646 - lr: 0.0010 - 17s/epoch - 19ms/step
Epoch 5/100
876/876 - 17s - loss: 0.6783 - accuracy: 0.7435 - val_loss: 0.6769 - val_accuracy: 0.7725 - lr: 0.0010 - 17s/epoch - 19ms/step
Epoch 6/100
876/876 - 16s - loss: 0.6782 - accuracy: 0.7441 - val_loss: 0.7519 - val_accuracy: 0.7360 - lr: 0.0010 - 16s/epoch - 19ms/step
Epoch 7/100
876/876 - 16s - loss: 0.6739 - accuracy: 0.7470 - val_loss: 0.7916 - val_accuracy: 0.7019 - lr: 0.0010 - 16s/epoch - 19ms/step
Epoch 8/100
876/876 - 16s - loss: 0.6764 - accuracy: 0.7451 - val_loss: 0.7856 - val_accuracy: 0.7129 - lr: 0.0010 - 16s/epoch - 19ms/step
Epoch 9/100
876/876 - 17s - loss: 0.6717 - accuracy: 0.7471 - val_loss: 0.7420 - val_accuracy: 0.7351 - lr: 0.0010 - 17s/epoch - 19ms/step
Epoch 10/100
876/876 - 16s - loss: 0.6687 - accuracy: 0.7474 - val_loss: 0.7300 - val_accuracy: 0.7443 - lr: 0.0010 - 16s/epoch - 19ms/step
Epoch 11/100
876/876 - 16s - loss: 0.6679 - accuracy: 0.7476 - val_loss: 0.7220 - val_accuracy: 0.7466 - lr: 0.0010 - 16s/epoch - 19ms/step
Epoch 12/100
876/876 - 17s - loss: 0.6648 - accuracy: 0.7488 - val_loss: 0.7467 - val_accuracy: 0.7357 - lr: 0.0010 - 17s/epoch - 20ms/step
Epoch 13/100
876/876 - 18s - loss: 0.6690 - accuracy: 0.7486 - val_loss: 0.7149 - val_accuracy: 0.7447 - lr: 0.0010 - 18s/epoch - 21ms/step
Epoch 14/100
876/876 - 18s - loss: 0.6661 - accuracy: 0.7487 - val_loss: 0.7132 - val_accuracy: 0.7446 - lr: 0.0010 - 18s/epoch - 20ms/step
Epoch 15/100
876/876 - 17s - loss: 0.6642 - accuracy: 0.7503 - val_loss: 0.6969 - val_accuracy: 0.7294 - lr: 0.0010 - 17s/epoch - 19ms/step
Epoch 16/100
876/876 - 16s - loss: 0.6613 - accuracy: 0.7512 - val_loss: 0.6454 - val_accuracy: 0.7857 - lr: 0.0010 - 16s/epoch - 19ms/step
Epoch 17/100
876/876 - 17s - loss: 0.6599 - accuracy: 0.7501 - val_loss: 0.6378 - val_accuracy: 0.7706 - lr: 0.0010 - 17s/epoch - 19ms/step
Epoch 18/100
876/876 - 16s - loss: 0.6746 - accuracy: 0.7474 - val_loss: 0.6699 - val_accuracy: 0.7720 - lr: 0.0010 - 16s/epoch - 19ms/step
Epoch 19/100
876/876 - 16s - loss: 0.6624 - accuracy: 0.7505 - val_loss: 0.7140 - val_accuracy: 0.7463 - lr: 0.0010 - 16s/epoch - 19ms/step
Epoch 20/100
876/876 - 16s - loss: 0.6602 - accuracy: 0.7514 - val_loss: 0.7089 - val_accuracy: 0.7401 - lr: 0.0010 - 16s/epoch - 19ms/step
Epoch 21/100
876/876 - 17s - loss: 0.6620 - accuracy: 0.7531 - val_loss: 0.7374 - val_accuracy: 0.7250 - lr: 0.0010 - 17s/epoch - 19ms/step
Epoch 22/100
876/876 - 16s - loss: 0.6598 - accuracy: 0.7506 - val_loss: 0.6795 - val_accuracy: 0.7709 - lr: 0.0010 - 16s/epoch - 19ms/step
Epoch 23/100
876/876 - 16s - loss: 0.6588 - accuracy: 0.7522 - val_loss: 0.7085 - val_accuracy: 0.7553 - lr: 0.0010 - 16s/epoch - 19ms/step
Epoch 24/100
876/876 - 16s - loss: 0.6546 - accuracy: 0.7531 - val_loss: 0.6407 - val_accuracy: 0.7670 - lr: 0.0010 - 16s/epoch - 19ms/step
Epoch 25/100
876/876 - 16s - loss: 0.6551 - accuracy: 0.7528 - val_loss: 0.7308 - val_accuracy: 0.7321 - lr: 0.0010 - 16s/epoch - 19ms/step
Epoch 26/100
876/876 - 16s - loss: 0.6557 - accuracy: 0.7544 - val_loss: 0.7081 - val_accuracy: 0.7488 - lr: 0.0010 - 16s/epoch - 19ms/step
Epoch 27/100
876/876 - 17s - loss: 0.6542 - accuracy: 0.7543 - val_loss: 0.7045 - val_accuracy: 0.7369 - lr: 0.0010 - 17s/epoch - 19ms/step
Epoch 28/100
876/876 - 16s - loss: 0.6511 - accuracy: 0.7553 - val_loss: 0.7325 - val_accuracy: 0.7307 - lr: 0.0010 - 16s/epoch - 19ms/step
Epoch 29/100
876/876 - 17s - loss: 0.6520 - accuracy: 0.7536 - val_loss: 0.7544 - val_accuracy: 0.7288 - lr: 0.0010 - 17s/epoch - 20ms/step
Epoch 30/100
876/876 - 18s - loss: 0.6499 - accuracy: 0.7548 - val_loss: 0.7341 - val_accuracy: 0.7308 - lr: 0.0010 - 18s/epoch - 20ms/step
Epoch 31/100
876/876 - 17s - loss: 0.6484 - accuracy: 0.7551 - val_loss: 0.7359 - val_accuracy: 0.7198 - lr: 0.0010 - 17s/epoch - 20ms/step
Epoch 32/100
876/876 - 17s - loss: 0.6506 - accuracy: 0.7551 - val_loss: 0.7536 - val_accuracy: 0.7192 - lr: 0.0010 - 17s/epoch - 19ms/step
Epoch 33/100
876/876 - 17s - loss: 0.6453 - accuracy: 0.7564 - val_loss: 0.7257 - val_accuracy: 0.7324 - lr: 0.0010 - 17s/epoch - 19ms/step
Epoch 34/100
876/876 - 16s - loss: 0.6487 - accuracy: 0.7562 - val_loss: 0.7108 - val_accuracy: 0.7553 - lr: 0.0010 - 16s/epoch - 19ms/step
Epoch 35/100
876/876 - 16s - loss: 0.6477 - accuracy: 0.7552 - val_loss: 0.6779 - val_accuracy: 0.7643 - lr: 0.0010 - 16s/epoch - 19ms/step
Epoch 36/100
876/876 - 16s - loss: 0.6693 - accuracy: 0.7517 - val_loss: 0.7409 - val_accuracy: 0.7325 - lr: 0.0010 - 16s/epoch - 19ms/step
Epoch 37/100
876/876 - 17s - loss: 0.6531 - accuracy: 0.7553 - val_loss: 0.7406 - val_accuracy: 0.7415 - lr: 0.0010 - 17s/epoch - 19ms/step
Epoch 38/100
876/876 - 17s - loss: 0.6472 - accuracy: 0.7557 - val_loss: 0.7407 - val_accuracy: 0.7248 - lr: 0.0010 - 17s/epoch - 19ms/step
Epoch 39/100
876/876 - 18s - loss: 0.6423 - accuracy: 0.7575 - val_loss: 0.7584 - val_accuracy: 0.7278 - lr: 0.0010 - 18s/epoch - 20ms/step
Epoch 40/100
876/876 - 18s - loss: 0.6415 - accuracy: 0.7577 - val_loss: 0.7695 - val_accuracy: 0.7125 - lr: 0.0010 - 18s/epoch - 20ms/step
Epoch 41/100
876/876 - 18s - loss: 0.6781 - accuracy: 0.7558 - val_loss: 0.6650 - val_accuracy: 0.7625 - lr: 0.0010 - 18s/epoch - 20ms/step
Epoch 42/100
876/876 - 18s - loss: 0.6399 - accuracy: 0.7587 - val_loss: 0.7683 - val_accuracy: 0.7238 - lr: 0.0010 - 18s/epoch - 20ms/step
Epoch 43/100
876/876 - 18s - loss: 0.6435 - accuracy: 0.7566 - val_loss: 0.6958 - val_accuracy: 0.7496 - lr: 0.0010 - 18s/epoch - 20ms/step
Epoch 44/100
876/876 - 18s - loss: 0.6406 - accuracy: 0.7581 - val_loss: 0.7556 - val_accuracy: 0.7165 - lr: 0.0010 - 18s/epoch - 20ms/step
Epoch 45/100
876/876 - 18s - loss: 0.6414 - accuracy: 0.7575 - val_loss: 0.6648 - val_accuracy: 0.7672 - lr: 0.0010 - 18s/epoch - 20ms/step
Epoch 46/100
876/876 - 17s - loss: 0.6447 - accuracy: 0.7569 - val_loss: 0.6745 - val_accuracy: 0.7492 - lr: 0.0010 - 17s/epoch - 20ms/step
Epoch 47/100
876/876 - 18s - loss: 0.6457 - accuracy: 0.7575 - val_loss: 0.7439 - val_accuracy: 0.7176 - lr: 0.0010 - 18s/epoch - 20ms/step
Epoch 48/100
876/876 - 18s - loss: 0.6372 - accuracy: 0.7594 - val_loss: 0.7021 - val_accuracy: 0.7505 - lr: 0.0010 - 18s/epoch - 20ms/step
Epoch 49/100
876/876 - 18s - loss: 0.6397 - accuracy: 0.7596 - val_loss: 0.6942 - val_accuracy: 0.7450 - lr: 0.0010 - 18s/epoch - 20ms/step
Epoch 50/100
876/876 - 18s - loss: 0.6351 - accuracy: 0.7612 - val_loss: 0.7345 - val_accuracy: 0.7275 - lr: 0.0010 - 18s/epoch - 20ms/step
Epoch 51/100
876/876 - 18s - loss: 0.6377 - accuracy: 0.7599 - val_loss: 0.6663 - val_accuracy: 0.7659 - lr: 0.0010 - 18s/epoch - 20ms/step
Epoch 52/100
876/876 - 19s - loss: 0.6346 - accuracy: 0.7612 - val_loss: 0.6387 - val_accuracy: 0.7672 - lr: 0.0010 - 19s/epoch - 22ms/step
Epoch 53/100
876/876 - 19s - loss: 0.6319 - accuracy: 0.7614 - val_loss: 0.7326 - val_accuracy: 0.7374 - lr: 0.0010 - 19s/epoch - 21ms/step
Epoch 54/100
876/876 - 18s - loss: 0.6334 - accuracy: 0.7611 - val_loss: 0.6890 - val_accuracy: 0.7422 - lr: 0.0010 - 18s/epoch - 21ms/step
Epoch 55/100
876/876 - 18s - loss: 0.6446 - accuracy: 0.7592 - val_loss: 0.7168 - val_accuracy: 0.7375 - lr: 0.0010 - 18s/epoch - 20ms/step
Epoch 56/100
876/876 - 18s - loss: 0.6317 - accuracy: 0.7615 - val_loss: 0.6516 - val_accuracy: 0.7656 - lr: 0.0010 - 18s/epoch - 20ms/step
Epoch 57/100
876/876 - 18s - loss: 0.6394 - accuracy: 0.7595 - val_loss: 0.7443 - val_accuracy: 0.7306 - lr: 0.0010 - 18s/epoch - 20ms/step
Epoch 58/100
876/876 - 18s - loss: 0.6306 - accuracy: 0.7618 - val_loss: 0.7360 - val_accuracy: 0.7215 - lr: 0.0010 - 18s/epoch - 20ms/step
Epoch 59/100
876/876 - 18s - loss: 0.6370 - accuracy: 0.7590 - val_loss: 0.7432 - val_accuracy: 0.7247 - lr: 0.0010 - 18s/epoch - 20ms/step
Epoch 60/100
876/876 - 18s - loss: 0.6332 - accuracy: 0.7620 - val_loss: 0.7440 - val_accuracy: 0.7390 - lr: 0.0010 - 18s/epoch - 20ms/step
Epoch 61/100
876/876 - 18s - loss: 0.6317 - accuracy: 0.7617 - val_loss: 0.7595 - val_accuracy: 0.7251 - lr: 0.0010 - 18s/epoch - 20ms/step
Epoch 62/100
876/876 - 18s - loss: 0.6289 - accuracy: 0.7624 - val_loss: 0.7674 - val_accuracy: 0.7210 - lr: 0.0010 - 18s/epoch - 20ms/step
Epoch 63/100
876/876 - 18s - loss: 0.6269 - accuracy: 0.7621 - val_loss: 0.7166 - val_accuracy: 0.7564 - lr: 0.0010 - 18s/epoch - 20ms/step
Epoch 64/100
876/876 - 18s - loss: 0.6266 - accuracy: 0.7630 - val_loss: 0.6867 - val_accuracy: 0.7504 - lr: 0.0010 - 18s/epoch - 20ms/step
Epoch 65/100
876/876 - 19s - loss: 0.6258 - accuracy: 0.7629 - val_loss: 0.7507 - val_accuracy: 0.7394 - lr: 0.0010 - 19s/epoch - 21ms/step
Epoch 66/100
876/876 - 19s - loss: 0.6285 - accuracy: 0.7640 - val_loss: 0.6739 - val_accuracy: 0.7669 - lr: 0.0010 - 19s/epoch - 22ms/step
Epoch 67/100
876/876 - 19s - loss: 0.6230 - accuracy: 0.7641 - val_loss: 0.6626 - val_accuracy: 0.7630 - lr: 0.0010 - 19s/epoch - 22ms/step
Epoch 68/100
876/876 - 19s - loss: 0.6265 - accuracy: 0.7631 - val_loss: 0.7049 - val_accuracy: 0.7474 - lr: 0.0010 - 19s/epoch - 22ms/step
Epoch 69/100
876/876 - 19s - loss: 0.6270 - accuracy: 0.7637 - val_loss: 0.7043 - val_accuracy: 0.7455 - lr: 0.0010 - 19s/epoch - 22ms/step
Epoch 70/100
876/876 - 19s - loss: 0.6255 - accuracy: 0.7653 - val_loss: 0.6991 - val_accuracy: 0.7458 - lr: 0.0010 - 19s/epoch - 22ms/step
Epoch 71/100
876/876 - 19s - loss: 0.6266 - accuracy: 0.7638 - val_loss: 0.6511 - val_accuracy: 0.7841 - lr: 0.0010 - 19s/epoch - 22ms/step
Epoch 72/100
876/876 - 19s - loss: 0.6268 - accuracy: 0.7634 - val_loss: 0.7636 - val_accuracy: 0.7170 - lr: 0.0010 - 19s/epoch - 22ms/step
Epoch 73/100
876/876 - 19s - loss: 0.6281 - accuracy: 0.7636 - val_loss: 0.7184 - val_accuracy: 0.7457 - lr: 0.0010 - 19s/epoch - 22ms/step
Epoch 74/100
876/876 - 18s - loss: 0.6300 - accuracy: 0.7648 - val_loss: 0.7129 - val_accuracy: 0.7389 - lr: 0.0010 - 18s/epoch - 21ms/step
Epoch 75/100
876/876 - 18s - loss: 0.6229 - accuracy: 0.7651 - val_loss: 0.7473 - val_accuracy: 0.7170 - lr: 0.0010 - 18s/epoch - 20ms/step
Epoch 76/100
876/876 - 18s - loss: 0.6251 - accuracy: 0.7652 - val_loss: 0.6937 - val_accuracy: 0.7587 - lr: 0.0010 - 18s/epoch - 20ms/step
Epoch 77/100
876/876 - 18s - loss: 0.6253 - accuracy: 0.7637 - val_loss: 0.6735 - val_accuracy: 0.7572 - lr: 0.0010 - 18s/epoch - 20ms/step
Epoch 78/100
876/876 - 18s - loss: 0.6211 - accuracy: 0.7643 - val_loss: 0.7021 - val_accuracy: 0.7433 - lr: 0.0010 - 18s/epoch - 20ms/step
Epoch 79/100
876/876 - 18s - loss: 0.6370 - accuracy: 0.7600 - val_loss: 0.7283 - val_accuracy: 0.7306 - lr: 0.0010 - 18s/epoch - 20ms/step
Epoch 80/100
876/876 - 18s - loss: 0.6512 - accuracy: 0.7621 - val_loss: 0.7288 - val_accuracy: 0.7428 - lr: 0.0010 - 18s/epoch - 20ms/step
Epoch 81/100
876/876 - 18s - loss: 0.8118 - accuracy: 0.7475 - val_loss: 0.6946 - val_accuracy: 0.7603 - lr: 0.0010 - 18s/epoch - 20ms/step
Epoch 82/100
876/876 - 18s - loss: 0.6233 - accuracy: 0.7654 - val_loss: 0.6873 - val_accuracy: 0.7592 - lr: 0.0010 - 18s/epoch - 20ms/step
Epoch 83/100
876/876 - 18s - loss: 0.6201 - accuracy: 0.7664 - val_loss: 0.6669 - val_accuracy: 0.7715 - lr: 0.0010 - 18s/epoch - 20ms/step
Epoch 84/100
876/876 - 18s - loss: 0.6198 - accuracy: 0.7674 - val_loss: 0.7139 - val_accuracy: 0.7421 - lr: 0.0010 - 18s/epoch - 20ms/step
Epoch 85/100
876/876 - 18s - loss: 0.6170 - accuracy: 0.7653 - val_loss: 0.6500 - val_accuracy: 0.7575 - lr: 0.0010 - 18s/epoch - 20ms/step
Epoch 86/100
876/876 - 20s - loss: 0.6183 - accuracy: 0.7665 - val_loss: 0.7013 - val_accuracy: 0.7629 - lr: 0.0010 - 20s/epoch - 23ms/step
Epoch 87/100
876/876 - 19s - loss: 0.6181 - accuracy: 0.7680 - val_loss: 0.7144 - val_accuracy: 0.7363 - lr: 0.0010 - 19s/epoch - 22ms/step
Epoch 88/100
876/876 - 19s - loss: 0.6184 - accuracy: 0.7670 - val_loss: 0.7496 - val_accuracy: 0.7330 - lr: 0.0010 - 19s/epoch - 22ms/step
Epoch 89/100
876/876 - 19s - loss: 0.6136 - accuracy: 0.7694 - val_loss: 0.6963 - val_accuracy: 0.7479 - lr: 0.0010 - 19s/epoch - 22ms/step
Epoch 90/100
876/876 - 18s - loss: 0.6166 - accuracy: 0.7674 - val_loss: 0.7297 - val_accuracy: 0.7238 - lr: 0.0010 - 18s/epoch - 21ms/step
Epoch 91/100
876/876 - 18s - loss: 0.6156 - accuracy: 0.7680 - val_loss: 0.7086 - val_accuracy: 0.7250 - lr: 0.0010 - 18s/epoch - 20ms/step
Epoch 92/100
876/876 - 18s - loss: 0.6184 - accuracy: 0.7664 - val_loss: 0.6817 - val_accuracy: 0.7496 - lr: 0.0010 - 18s/epoch - 20ms/step
Epoch 93/100
876/876 - 18s - loss: 0.6148 - accuracy: 0.7681 - val_loss: 0.7351 - val_accuracy: 0.7286 - lr: 0.0010 - 18s/epoch - 20ms/step
Epoch 94/100
876/876 - 17s - loss: 0.6148 - accuracy: 0.7686 - val_loss: 0.7272 - val_accuracy: 0.7313 - lr: 0.0010 - 17s/epoch - 20ms/step
Epoch 95/100
876/876 - 18s - loss: 0.6224 - accuracy: 0.7652 - val_loss: 0.7158 - val_accuracy: 0.7424 - lr: 0.0010 - 18s/epoch - 20ms/step
Epoch 96/100
876/876 - 18s - loss: 0.6130 - accuracy: 0.7687 - val_loss: 0.7178 - val_accuracy: 0.7334 - lr: 0.0010 - 18s/epoch - 20ms/step
Epoch 97/100
876/876 - 18s - loss: 0.6190 - accuracy: 0.7681 - val_loss: 0.7329 - val_accuracy: 0.7269 - lr: 0.0010 - 18s/epoch - 20ms/step
Epoch 98/100
876/876 - 18s - loss: 0.6115 - accuracy: 0.7697 - val_loss: 0.6513 - val_accuracy: 0.7764 - lr: 0.0010 - 18s/epoch - 20ms/step
Epoch 99/100
876/876 - 18s - loss: 0.6186 - accuracy: 0.7652 - val_loss: 0.7325 - val_accuracy: 0.7415 - lr: 0.0010 - 18s/epoch - 20ms/step
Epoch 100/100
876/876 - 18s - loss: 0.6142 - accuracy: 0.7678 - val_loss: 0.7086 - val_accuracy: 0.7485 - lr: 0.0010 - 18s/epoch - 20ms/step
fitting with batch size: 500
Epoch 1/100
176/176 - 13s - loss: 0.5787 - accuracy: 0.7808 - val_loss: 0.6976 - val_accuracy: 0.7402 - lr: 0.0010 - 13s/epoch - 74ms/step
Epoch 2/100
176/176 - 10s - loss: 0.5724 - accuracy: 0.7837 - val_loss: 0.6753 - val_accuracy: 0.7454 - lr: 0.0010 - 10s/epoch - 55ms/step
Epoch 3/100
176/176 - 11s - loss: 0.5723 - accuracy: 0.7841 - val_loss: 0.6953 - val_accuracy: 0.7388 - lr: 0.0010 - 11s/epoch - 60ms/step
Epoch 4/100
176/176 - 12s - loss: 0.5708 - accuracy: 0.7851 - val_loss: 0.7486 - val_accuracy: 0.7196 - lr: 0.0010 - 12s/epoch - 66ms/step
Epoch 5/100
176/176 - 12s - loss: 0.5702 - accuracy: 0.7859 - val_loss: 0.6962 - val_accuracy: 0.7352 - lr: 0.0010 - 12s/epoch - 67ms/step
Epoch 6/100
176/176 - 11s - loss: 0.5762 - accuracy: 0.7831 - val_loss: 0.6913 - val_accuracy: 0.7468 - lr: 0.0010 - 11s/epoch - 64ms/step
Epoch 7/100
176/176 - 11s - loss: 0.5733 - accuracy: 0.7825 - val_loss: 0.7011 - val_accuracy: 0.7404 - lr: 0.0010 - 11s/epoch - 63ms/step
Epoch 8/100
176/176 - 11s - loss: 0.5927 - accuracy: 0.7795 - val_loss: 0.7635 - val_accuracy: 0.7077 - lr: 0.0010 - 11s/epoch - 65ms/step
Epoch 9/100
176/176 - 11s - loss: 0.5777 - accuracy: 0.7817 - val_loss: 0.6702 - val_accuracy: 0.7497 - lr: 0.0010 - 11s/epoch - 63ms/step
Epoch 10/100
176/176 - 10s - loss: 0.5654 - accuracy: 0.7857 - val_loss: 0.7013 - val_accuracy: 0.7334 - lr: 0.0010 - 10s/epoch - 57ms/step
Epoch 11/100
176/176 - 10s - loss: 0.5662 - accuracy: 0.7855 - val_loss: 0.7106 - val_accuracy: 0.7379 - lr: 0.0010 - 10s/epoch - 55ms/step
Epoch 12/100
176/176 - 10s - loss: 0.5672 - accuracy: 0.7858 - val_loss: 0.7124 - val_accuracy: 0.7330 - lr: 0.0010 - 10s/epoch - 56ms/step
Epoch 13/100
176/176 - 10s - loss: 0.5640 - accuracy: 0.7877 - val_loss: 0.7129 - val_accuracy: 0.7328 - lr: 0.0010 - 10s/epoch - 55ms/step
Epoch 14/100
176/176 - 10s - loss: 0.5623 - accuracy: 0.7878 - val_loss: 0.7118 - val_accuracy: 0.7384 - lr: 0.0010 - 10s/epoch - 55ms/step
Epoch 15/100
176/176 - 10s - loss: 0.5614 - accuracy: 0.7881 - val_loss: 0.6854 - val_accuracy: 0.7465 - lr: 0.0010 - 10s/epoch - 55ms/step
Epoch 16/100
176/176 - 10s - loss: 0.5615 - accuracy: 0.7884 - val_loss: 0.6802 - val_accuracy: 0.7488 - lr: 0.0010 - 10s/epoch - 54ms/step
Epoch 17/100
176/176 - 10s - loss: 0.5595 - accuracy: 0.7891 - val_loss: 0.6798 - val_accuracy: 0.7437 - lr: 0.0010 - 10s/epoch - 56ms/step
Epoch 18/100
176/176 - 10s - loss: 0.5615 - accuracy: 0.7873 - val_loss: 0.7287 - val_accuracy: 0.7336 - lr: 0.0010 - 10s/epoch - 54ms/step
Epoch 19/100
176/176 - 9s - loss: 0.5583 - accuracy: 0.7886 - val_loss: 0.6796 - val_accuracy: 0.7493 - lr: 0.0010 - 9s/epoch - 54ms/step
Epoch 20/100
176/176 - 10s - loss: 0.5587 - accuracy: 0.7898 - val_loss: 0.7024 - val_accuracy: 0.7331 - lr: 0.0010 - 10s/epoch - 54ms/step
Epoch 21/100
176/176 - 10s - loss: 0.5631 - accuracy: 0.7885 - val_loss: 0.6984 - val_accuracy: 0.7368 - lr: 0.0010 - 10s/epoch - 55ms/step
Epoch 22/100
176/176 - 10s - loss: 0.5587 - accuracy: 0.7902 - val_loss: 0.7054 - val_accuracy: 0.7368 - lr: 0.0010 - 10s/epoch - 57ms/step
Epoch 23/100
176/176 - 10s - loss: 0.5555 - accuracy: 0.7899 - val_loss: 0.6561 - val_accuracy: 0.7552 - lr: 0.0010 - 10s/epoch - 55ms/step
Epoch 24/100
176/176 - 10s - loss: 0.5556 - accuracy: 0.7893 - val_loss: 0.6894 - val_accuracy: 0.7472 - lr: 0.0010 - 10s/epoch - 56ms/step
Epoch 25/100
176/176 - 10s - loss: 0.5572 - accuracy: 0.7899 - val_loss: 0.6963 - val_accuracy: 0.7407 - lr: 0.0010 - 10s/epoch - 57ms/step
Epoch 26/100
176/176 - 10s - loss: 0.5537 - accuracy: 0.7902 - val_loss: 0.6755 - val_accuracy: 0.7496 - lr: 0.0010 - 10s/epoch - 56ms/step
Epoch 27/100
176/176 - 10s - loss: 0.5552 - accuracy: 0.7906 - val_loss: 0.7035 - val_accuracy: 0.7358 - lr: 0.0010 - 10s/epoch - 56ms/step
Epoch 28/100
176/176 - 10s - loss: 0.5548 - accuracy: 0.7909 - val_loss: 0.7113 - val_accuracy: 0.7272 - lr: 0.0010 - 10s/epoch - 55ms/step
Epoch 29/100
176/176 - 10s - loss: 0.5530 - accuracy: 0.7912 - val_loss: 0.6923 - val_accuracy: 0.7378 - lr: 0.0010 - 10s/epoch - 55ms/step
Epoch 30/100
176/176 - 10s - loss: 0.5523 - accuracy: 0.7930 - val_loss: 0.6625 - val_accuracy: 0.7543 - lr: 0.0010 - 10s/epoch - 56ms/step
Epoch 31/100
176/176 - 10s - loss: 0.5530 - accuracy: 0.7916 - val_loss: 0.6722 - val_accuracy: 0.7510 - lr: 0.0010 - 10s/epoch - 57ms/step
Epoch 32/100
176/176 - 10s - loss: 0.5520 - accuracy: 0.7919 - val_loss: 0.6432 - val_accuracy: 0.7658 - lr: 0.0010 - 10s/epoch - 55ms/step
Epoch 33/100
176/176 - 10s - loss: 0.5538 - accuracy: 0.7904 - val_loss: 0.7016 - val_accuracy: 0.7366 - lr: 0.0010 - 10s/epoch - 55ms/step
Epoch 34/100
176/176 - 10s - loss: 0.5512 - accuracy: 0.7921 - val_loss: 0.6784 - val_accuracy: 0.7505 - lr: 0.0010 - 10s/epoch - 56ms/step
Epoch 35/100
176/176 - 10s - loss: 0.5498 - accuracy: 0.7923 - val_loss: 0.6707 - val_accuracy: 0.7542 - lr: 0.0010 - 10s/epoch - 56ms/step
Epoch 36/100
176/176 - 10s - loss: 0.5487 - accuracy: 0.7928 - val_loss: 0.6580 - val_accuracy: 0.7602 - lr: 0.0010 - 10s/epoch - 55ms/step
Epoch 37/100
176/176 - 10s - loss: 0.5497 - accuracy: 0.7922 - val_loss: 0.6933 - val_accuracy: 0.7440 - lr: 0.0010 - 10s/epoch - 54ms/step
Epoch 38/100
176/176 - 10s - loss: 0.5497 - accuracy: 0.7920 - val_loss: 0.6828 - val_accuracy: 0.7425 - lr: 0.0010 - 10s/epoch - 54ms/step
Epoch 39/100
176/176 - 10s - loss: 0.5465 - accuracy: 0.7955 - val_loss: 0.7084 - val_accuracy: 0.7351 - lr: 0.0010 - 10s/epoch - 55ms/step
Epoch 40/100
176/176 - 10s - loss: 0.5450 - accuracy: 0.7945 - val_loss: 0.7039 - val_accuracy: 0.7230 - lr: 0.0010 - 10s/epoch - 55ms/step
Epoch 41/100
176/176 - 10s - loss: 0.5491 - accuracy: 0.7922 - val_loss: 0.6616 - val_accuracy: 0.7495 - lr: 0.0010 - 10s/epoch - 55ms/step
Epoch 42/100
176/176 - 10s - loss: 0.5516 - accuracy: 0.7928 - val_loss: 0.7057 - val_accuracy: 0.7360 - lr: 0.0010 - 10s/epoch - 55ms/step
Epoch 43/100
176/176 - 10s - loss: 0.5443 - accuracy: 0.7945 - val_loss: 0.6299 - val_accuracy: 0.7651 - lr: 0.0010 - 10s/epoch - 56ms/step
Epoch 44/100
176/176 - 10s - loss: 0.5447 - accuracy: 0.7950 - val_loss: 0.7414 - val_accuracy: 0.7181 - lr: 0.0010 - 10s/epoch - 56ms/step
Epoch 45/100
176/176 - 10s - loss: 0.5462 - accuracy: 0.7940 - val_loss: 0.6891 - val_accuracy: 0.7387 - lr: 0.0010 - 10s/epoch - 55ms/step
Epoch 46/100
176/176 - 10s - loss: 0.5527 - accuracy: 0.7919 - val_loss: 0.6818 - val_accuracy: 0.7480 - lr: 0.0010 - 10s/epoch - 56ms/step
Epoch 47/100
176/176 - 10s - loss: 0.5454 - accuracy: 0.7941 - val_loss: 0.6984 - val_accuracy: 0.7403 - lr: 0.0010 - 10s/epoch - 55ms/step
Epoch 48/100
176/176 - 10s - loss: 0.5433 - accuracy: 0.7948 - val_loss: 0.6619 - val_accuracy: 0.7458 - lr: 0.0010 - 10s/epoch - 56ms/step
Epoch 49/100
176/176 - 10s - loss: 0.5452 - accuracy: 0.7940 - val_loss: 0.6955 - val_accuracy: 0.7393 - lr: 0.0010 - 10s/epoch - 56ms/step
Epoch 50/100
176/176 - 10s - loss: 0.5452 - accuracy: 0.7934 - val_loss: 0.6806 - val_accuracy: 0.7537 - lr: 0.0010 - 10s/epoch - 56ms/step
Epoch 51/100
176/176 - 10s - loss: 0.5429 - accuracy: 0.7963 - val_loss: 0.6938 - val_accuracy: 0.7385 - lr: 0.0010 - 10s/epoch - 56ms/step
Epoch 52/100
176/176 - 10s - loss: 0.5415 - accuracy: 0.7963 - val_loss: 0.7070 - val_accuracy: 0.7411 - lr: 0.0010 - 10s/epoch - 56ms/step
Epoch 53/100
176/176 - 10s - loss: 0.5398 - accuracy: 0.7971 - val_loss: 0.6984 - val_accuracy: 0.7371 - lr: 0.0010 - 10s/epoch - 55ms/step
Epoch 54/100
176/176 - 10s - loss: 0.5592 - accuracy: 0.7907 - val_loss: 0.6666 - val_accuracy: 0.7425 - lr: 0.0010 - 10s/epoch - 55ms/step
Epoch 55/100
176/176 - 10s - loss: 0.6733 - accuracy: 0.7841 - val_loss: 0.7756 - val_accuracy: 0.6886 - lr: 0.0010 - 10s/epoch - 55ms/step
Epoch 56/100
176/176 - 10s - loss: 0.5992 - accuracy: 0.7730 - val_loss: 0.7158 - val_accuracy: 0.7356 - lr: 0.0010 - 10s/epoch - 55ms/step
Epoch 57/100
176/176 - 10s - loss: 0.5555 - accuracy: 0.7903 - val_loss: 0.6830 - val_accuracy: 0.7499 - lr: 0.0010 - 10s/epoch - 59ms/step
Epoch 58/100
176/176 - 10s - loss: 0.5464 - accuracy: 0.7935 - val_loss: 0.6848 - val_accuracy: 0.7463 - lr: 0.0010 - 10s/epoch - 56ms/step
Epoch 59/100
176/176 - 10s - loss: 0.5440 - accuracy: 0.7938 - val_loss: 0.7000 - val_accuracy: 0.7313 - lr: 0.0010 - 10s/epoch - 56ms/step
Epoch 60/100
176/176 - 10s - loss: 0.5399 - accuracy: 0.7968 - val_loss: 0.6971 - val_accuracy: 0.7278 - lr: 0.0010 - 10s/epoch - 55ms/step
Epoch 61/100
176/176 - 10s - loss: 0.5398 - accuracy: 0.7957 - val_loss: 0.7209 - val_accuracy: 0.7226 - lr: 0.0010 - 10s/epoch - 56ms/step
Epoch 62/100
176/176 - 10s - loss: 0.5463 - accuracy: 0.7924 - val_loss: 0.6742 - val_accuracy: 0.7455 - lr: 0.0010 - 10s/epoch - 55ms/step
Epoch 63/100
176/176 - 10s - loss: 0.5413 - accuracy: 0.7956 - val_loss: 0.6567 - val_accuracy: 0.7547 - lr: 0.0010 - 10s/epoch - 54ms/step
Epoch 64/100
176/176 - 10s - loss: 0.5400 - accuracy: 0.7974 - val_loss: 0.7517 - val_accuracy: 0.7217 - lr: 0.0010 - 10s/epoch - 54ms/step
Epoch 65/100
176/176 - 10s - loss: 0.5385 - accuracy: 0.7985 - val_loss: 0.6608 - val_accuracy: 0.7501 - lr: 0.0010 - 10s/epoch - 56ms/step
Epoch 66/100
176/176 - 10s - loss: 0.5393 - accuracy: 0.7955 - val_loss: 0.7325 - val_accuracy: 0.7186 - lr: 0.0010 - 10s/epoch - 56ms/step
Epoch 67/100
176/176 - 10s - loss: 0.5386 - accuracy: 0.7972 - val_loss: 0.6792 - val_accuracy: 0.7473 - lr: 0.0010 - 10s/epoch - 54ms/step
Epoch 68/100
176/176 - 10s - loss: 0.5378 - accuracy: 0.7975 - val_loss: 0.6795 - val_accuracy: 0.7445 - lr: 0.0010 - 10s/epoch - 58ms/step
Epoch 69/100
176/176 - 10s - loss: 0.5463 - accuracy: 0.7954 - val_loss: 0.7181 - val_accuracy: 0.7314 - lr: 0.0010 - 10s/epoch - 55ms/step
Epoch 70/100
176/176 - 10s - loss: 0.5439 - accuracy: 0.7963 - val_loss: 0.6941 - val_accuracy: 0.7405 - lr: 0.0010 - 10s/epoch - 58ms/step
Epoch 71/100
176/176 - 10s - loss: 0.5371 - accuracy: 0.7979 - val_loss: 0.6916 - val_accuracy: 0.7373 - lr: 0.0010 - 10s/epoch - 60ms/step
Epoch 72/100
176/176 - 11s - loss: 0.5355 - accuracy: 0.7985 - val_loss: 0.6865 - val_accuracy: 0.7360 - lr: 0.0010 - 11s/epoch - 62ms/step
Epoch 73/100
176/176 - 11s - loss: 0.5385 - accuracy: 0.7978 - val_loss: 0.7257 - val_accuracy: 0.7241 - lr: 0.0010 - 11s/epoch - 63ms/step
Epoch 74/100
176/176 - 12s - loss: 0.5381 - accuracy: 0.7970 - val_loss: 0.7473 - val_accuracy: 0.7198 - lr: 0.0010 - 12s/epoch - 66ms/step
Epoch 75/100
176/176 - 10s - loss: 0.5356 - accuracy: 0.7987 - val_loss: 0.6696 - val_accuracy: 0.7433 - lr: 0.0010 - 10s/epoch - 59ms/step
Epoch 76/100
176/176 - 10s - loss: 0.5364 - accuracy: 0.7980 - val_loss: 0.6709 - val_accuracy: 0.7539 - lr: 0.0010 - 10s/epoch - 58ms/step
Epoch 77/100
176/176 - 12s - loss: 0.5364 - accuracy: 0.7974 - val_loss: 0.7104 - val_accuracy: 0.7318 - lr: 0.0010 - 12s/epoch - 66ms/step
Epoch 78/100
176/176 - 11s - loss: 0.5348 - accuracy: 0.7991 - val_loss: 0.6933 - val_accuracy: 0.7384 - lr: 0.0010 - 11s/epoch - 65ms/step
Epoch 79/100
176/176 - 11s - loss: 0.5361 - accuracy: 0.7969 - val_loss: 0.6972 - val_accuracy: 0.7349 - lr: 0.0010 - 11s/epoch - 61ms/step
Epoch 80/100
176/176 - 10s - loss: 0.5396 - accuracy: 0.7970 - val_loss: 0.6627 - val_accuracy: 0.7458 - lr: 0.0010 - 10s/epoch - 57ms/step
Epoch 81/100
176/176 - 11s - loss: 0.5335 - accuracy: 0.8000 - val_loss: 0.7276 - val_accuracy: 0.7193 - lr: 0.0010 - 11s/epoch - 62ms/step
Epoch 82/100
176/176 - 12s - loss: 0.5355 - accuracy: 0.7984 - val_loss: 0.7010 - val_accuracy: 0.7285 - lr: 0.0010 - 12s/epoch - 66ms/step
Epoch 83/100
176/176 - 11s - loss: 0.5367 - accuracy: 0.7970 - val_loss: 0.6984 - val_accuracy: 0.7353 - lr: 0.0010 - 11s/epoch - 61ms/step
Epoch 84/100
176/176 - 11s - loss: 0.5389 - accuracy: 0.7963 - val_loss: 0.6517 - val_accuracy: 0.7566 - lr: 0.0010 - 11s/epoch - 60ms/step
Epoch 85/100
176/176 - 12s - loss: 0.5293 - accuracy: 0.8009 - val_loss: 0.6895 - val_accuracy: 0.7427 - lr: 0.0010 - 12s/epoch - 68ms/step
Epoch 86/100
176/176 - 10s - loss: 0.5308 - accuracy: 0.8006 - val_loss: 0.7170 - val_accuracy: 0.7274 - lr: 0.0010 - 10s/epoch - 58ms/step
Epoch 87/100
176/176 - 10s - loss: 0.5306 - accuracy: 0.8002 - val_loss: 0.6786 - val_accuracy: 0.7439 - lr: 0.0010 - 10s/epoch - 56ms/step
Epoch 88/100
176/176 - 10s - loss: 0.5289 - accuracy: 0.8012 - val_loss: 0.7086 - val_accuracy: 0.7311 - lr: 0.0010 - 10s/epoch - 56ms/step
Epoch 89/100
176/176 - 10s - loss: 0.5313 - accuracy: 0.8000 - val_loss: 0.6848 - val_accuracy: 0.7407 - lr: 0.0010 - 10s/epoch - 56ms/step
Epoch 90/100
176/176 - 10s - loss: 0.5305 - accuracy: 0.8000 - val_loss: 0.6575 - val_accuracy: 0.7534 - lr: 0.0010 - 10s/epoch - 56ms/step
Epoch 91/100
176/176 - 12s - loss: 0.5359 - accuracy: 0.7996 - val_loss: 0.7419 - val_accuracy: 0.7317 - lr: 0.0010 - 12s/epoch - 67ms/step
Epoch 92/100
176/176 - 11s - loss: 0.5387 - accuracy: 0.7974 - val_loss: 0.6266 - val_accuracy: 0.7678 - lr: 0.0010 - 11s/epoch - 61ms/step
Epoch 93/100
176/176 - 10s - loss: 0.5286 - accuracy: 0.8007 - val_loss: 0.7249 - val_accuracy: 0.7196 - lr: 0.0010 - 10s/epoch - 57ms/step
Epoch 94/100
176/176 - 10s - loss: 0.5349 - accuracy: 0.7997 - val_loss: 0.7331 - val_accuracy: 0.7209 - lr: 0.0010 - 10s/epoch - 55ms/step
Epoch 95/100
176/176 - 10s - loss: 0.5316 - accuracy: 0.8002 - val_loss: 0.6707 - val_accuracy: 0.7517 - lr: 0.0010 - 10s/epoch - 55ms/step
Epoch 96/100
176/176 - 10s - loss: 0.5296 - accuracy: 0.8005 - val_loss: 0.6966 - val_accuracy: 0.7433 - lr: 0.0010 - 10s/epoch - 55ms/step
Epoch 97/100
176/176 - 10s - loss: 0.5283 - accuracy: 0.8016 - val_loss: 0.6923 - val_accuracy: 0.7482 - lr: 0.0010 - 10s/epoch - 58ms/step
Epoch 98/100
176/176 - 10s - loss: 0.5256 - accuracy: 0.8019 - val_loss: 0.7338 - val_accuracy: 0.7163 - lr: 0.0010 - 10s/epoch - 58ms/step
Epoch 99/100
176/176 - 12s - loss: 0.5293 - accuracy: 0.8022 - val_loss: 0.6846 - val_accuracy: 0.7417 - lr: 0.0010 - 12s/epoch - 66ms/step
Epoch 100/100
176/176 - 10s - loss: 0.5253 - accuracy: 0.8032 - val_loss: 0.6936 - val_accuracy: 0.7411 - lr: 0.0010 - 10s/epoch - 56ms/step
fitting with batch size: 1500
Epoch 1/100
59/59 - 13s - loss: 0.5161 - accuracy: 0.8072 - val_loss: 0.7109 - val_accuracy: 0.7261 - lr: 0.0010 - 13s/epoch - 219ms/step
Epoch 2/100
59/59 - 9s - loss: 0.5041 - accuracy: 0.8113 - val_loss: 0.7079 - val_accuracy: 0.7276 - lr: 0.0010 - 9s/epoch - 160ms/step
Epoch 3/100
59/59 - 9s - loss: 0.5040 - accuracy: 0.8111 - val_loss: 0.7037 - val_accuracy: 0.7330 - lr: 0.0010 - 9s/epoch - 155ms/step
Epoch 4/100
59/59 - 9s - loss: 0.5060 - accuracy: 0.8113 - val_loss: 0.7109 - val_accuracy: 0.7228 - lr: 0.0010 - 9s/epoch - 153ms/step
Epoch 5/100
59/59 - 9s - loss: 0.5108 - accuracy: 0.8078 - val_loss: 0.7002 - val_accuracy: 0.7275 - lr: 0.0010 - 9s/epoch - 152ms/step
Epoch 6/100
59/59 - 9s - loss: 0.5053 - accuracy: 0.8115 - val_loss: 0.6732 - val_accuracy: 0.7397 - lr: 0.0010 - 9s/epoch - 155ms/step
Epoch 7/100
59/59 - 9s - loss: 0.5109 - accuracy: 0.8086 - val_loss: 0.6963 - val_accuracy: 0.7381 - lr: 0.0010 - 9s/epoch - 157ms/step
Epoch 8/100
59/59 - 9s - loss: 0.5114 - accuracy: 0.8080 - val_loss: 0.7145 - val_accuracy: 0.7258 - lr: 0.0010 - 9s/epoch - 158ms/step
Epoch 9/100
59/59 - 10s - loss: 0.5064 - accuracy: 0.8102 - val_loss: 0.7111 - val_accuracy: 0.7253 - lr: 0.0010 - 10s/epoch - 162ms/step
Epoch 10/100
59/59 - 9s - loss: 0.5080 - accuracy: 0.8105 - val_loss: 0.7057 - val_accuracy: 0.7334 - lr: 0.0010 - 9s/epoch - 157ms/step
Epoch 11/100
59/59 - 9s - loss: 0.5057 - accuracy: 0.8111 - val_loss: 0.6930 - val_accuracy: 0.7328 - lr: 0.0010 - 9s/epoch - 152ms/step
Epoch 12/100
59/59 - 9s - loss: 0.5079 - accuracy: 0.8094 - val_loss: 0.7130 - val_accuracy: 0.7260 - lr: 0.0010 - 9s/epoch - 155ms/step
Epoch 13/100
59/59 - 9s - loss: 0.5024 - accuracy: 0.8117 - val_loss: 0.7001 - val_accuracy: 0.7278 - lr: 0.0010 - 9s/epoch - 156ms/step
Epoch 14/100
59/59 - 9s - loss: 0.5039 - accuracy: 0.8116 - val_loss: 0.6940 - val_accuracy: 0.7344 - lr: 0.0010 - 9s/epoch - 158ms/step
Epoch 15/100
59/59 - 9s - loss: 0.5009 - accuracy: 0.8124 - val_loss: 0.7114 - val_accuracy: 0.7264 - lr: 0.0010 - 9s/epoch - 160ms/step
Epoch 16/100
59/59 - 9s - loss: 0.5011 - accuracy: 0.8128 - val_loss: 0.7304 - val_accuracy: 0.7171 - lr: 0.0010 - 9s/epoch - 160ms/step
Epoch 17/100
59/59 - 9s - loss: 0.5020 - accuracy: 0.8117 - val_loss: 0.7090 - val_accuracy: 0.7347 - lr: 0.0010 - 9s/epoch - 155ms/step
Epoch 18/100
59/59 - 9s - loss: 0.5029 - accuracy: 0.8110 - val_loss: 0.7133 - val_accuracy: 0.7324 - lr: 0.0010 - 9s/epoch - 151ms/step
Epoch 19/100
59/59 - 9s - loss: 0.5012 - accuracy: 0.8130 - val_loss: 0.6798 - val_accuracy: 0.7423 - lr: 0.0010 - 9s/epoch - 155ms/step
Epoch 20/100
59/59 - 9s - loss: 0.5008 - accuracy: 0.8134 - val_loss: 0.6953 - val_accuracy: 0.7360 - lr: 0.0010 - 9s/epoch - 154ms/step
Epoch 21/100
59/59 - 9s - loss: 0.5041 - accuracy: 0.8128 - val_loss: 0.7173 - val_accuracy: 0.7231 - lr: 0.0010 - 9s/epoch - 154ms/step
Epoch 22/100
59/59 - 9s - loss: 0.5223 - accuracy: 0.8042 - val_loss: 0.6726 - val_accuracy: 0.7477 - lr: 0.0010 - 9s/epoch - 153ms/step
Epoch 23/100
59/59 - 9s - loss: 0.5071 - accuracy: 0.8102 - val_loss: 0.7073 - val_accuracy: 0.7248 - lr: 0.0010 - 9s/epoch - 152ms/step
Epoch 24/100
59/59 - 9s - loss: 0.5126 - accuracy: 0.8083 - val_loss: 0.7205 - val_accuracy: 0.7238 - lr: 0.0010 - 9s/epoch - 155ms/step
Epoch 25/100
59/59 - 9s - loss: 0.5041 - accuracy: 0.8115 - val_loss: 0.6886 - val_accuracy: 0.7304 - lr: 0.0010 - 9s/epoch - 157ms/step
Epoch 26/100
59/59 - 9s - loss: 0.5035 - accuracy: 0.8118 - val_loss: 0.7172 - val_accuracy: 0.7236 - lr: 0.0010 - 9s/epoch - 157ms/step
Epoch 27/100
59/59 - 9s - loss: 0.5010 - accuracy: 0.8128 - val_loss: 0.7111 - val_accuracy: 0.7271 - lr: 0.0010 - 9s/epoch - 159ms/step
Epoch 28/100
59/59 - 9s - loss: 0.4988 - accuracy: 0.8134 - val_loss: 0.7199 - val_accuracy: 0.7283 - lr: 0.0010 - 9s/epoch - 155ms/step
Epoch 29/100
59/59 - 9s - loss: 0.5009 - accuracy: 0.8117 - val_loss: 0.6935 - val_accuracy: 0.7340 - lr: 0.0010 - 9s/epoch - 153ms/step
Epoch 30/100
59/59 - 9s - loss: 0.4974 - accuracy: 0.8139 - val_loss: 0.7245 - val_accuracy: 0.7200 - lr: 0.0010 - 9s/epoch - 158ms/step
Epoch 31/100
59/59 - 9s - loss: 0.5005 - accuracy: 0.8130 - val_loss: 0.7049 - val_accuracy: 0.7317 - lr: 0.0010 - 9s/epoch - 157ms/step
Epoch 32/100
59/59 - 9s - loss: 0.4987 - accuracy: 0.8147 - val_loss: 0.7222 - val_accuracy: 0.7253 - lr: 0.0010 - 9s/epoch - 152ms/step
Epoch 33/100
59/59 - 9s - loss: 0.4985 - accuracy: 0.8140 - val_loss: 0.6879 - val_accuracy: 0.7463 - lr: 0.0010 - 9s/epoch - 157ms/step
Epoch 34/100
59/59 - 9s - loss: 0.5005 - accuracy: 0.8136 - val_loss: 0.6773 - val_accuracy: 0.7386 - lr: 0.0010 - 9s/epoch - 155ms/step
Epoch 35/100
59/59 - 9s - loss: 0.5134 - accuracy: 0.8075 - val_loss: 0.7011 - val_accuracy: 0.7343 - lr: 0.0010 - 9s/epoch - 152ms/step
Epoch 36/100
59/59 - 9s - loss: 0.4950 - accuracy: 0.8156 - val_loss: 0.7527 - val_accuracy: 0.7144 - lr: 0.0010 - 9s/epoch - 153ms/step
Epoch 37/100
59/59 - 9s - loss: 0.4975 - accuracy: 0.8155 - val_loss: 0.7170 - val_accuracy: 0.7253 - lr: 0.0010 - 9s/epoch - 153ms/step
Epoch 38/100
59/59 - 9s - loss: 0.4976 - accuracy: 0.8133 - val_loss: 0.6817 - val_accuracy: 0.7377 - lr: 0.0010 - 9s/epoch - 154ms/step
Epoch 39/100
59/59 - 9s - loss: 0.4971 - accuracy: 0.8146 - val_loss: 0.7013 - val_accuracy: 0.7295 - lr: 0.0010 - 9s/epoch - 154ms/step
Epoch 40/100
59/59 - 9s - loss: 0.5006 - accuracy: 0.8132 - val_loss: 0.7036 - val_accuracy: 0.7274 - lr: 0.0010 - 9s/epoch - 155ms/step
Epoch 41/100
59/59 - 9s - loss: 0.4994 - accuracy: 0.8137 - val_loss: 0.7292 - val_accuracy: 0.7165 - lr: 0.0010 - 9s/epoch - 150ms/step
Epoch 42/100
59/59 - 9s - loss: 0.4979 - accuracy: 0.8138 - val_loss: 0.6800 - val_accuracy: 0.7411 - lr: 0.0010 - 9s/epoch - 157ms/step
Epoch 43/100
59/59 - 9s - loss: 0.4970 - accuracy: 0.8153 - val_loss: 0.6927 - val_accuracy: 0.7346 - lr: 0.0010 - 9s/epoch - 154ms/step
Epoch 44/100
59/59 - 9s - loss: 0.4949 - accuracy: 0.8148 - val_loss: 0.6966 - val_accuracy: 0.7306 - lr: 0.0010 - 9s/epoch - 154ms/step
Epoch 45/100
59/59 - 9s - loss: 0.4947 - accuracy: 0.8153 - val_loss: 0.7067 - val_accuracy: 0.7259 - lr: 0.0010 - 9s/epoch - 155ms/step
Epoch 46/100
59/59 - 9s - loss: 0.4962 - accuracy: 0.8154 - val_loss: 0.7267 - val_accuracy: 0.7214 - lr: 0.0010 - 9s/epoch - 154ms/step
Epoch 47/100
59/59 - 9s - loss: 0.4933 - accuracy: 0.8172 - val_loss: 0.7173 - val_accuracy: 0.7250 - lr: 0.0010 - 9s/epoch - 152ms/step
Epoch 48/100
59/59 - 9s - loss: 0.4954 - accuracy: 0.8149 - val_loss: 0.6810 - val_accuracy: 0.7421 - lr: 0.0010 - 9s/epoch - 155ms/step
Epoch 49/100
59/59 - 9s - loss: 0.4943 - accuracy: 0.8166 - val_loss: 0.7518 - val_accuracy: 0.7076 - lr: 0.0010 - 9s/epoch - 157ms/step
Epoch 50/100
59/59 - 10s - loss: 0.4933 - accuracy: 0.8166 - val_loss: 0.6991 - val_accuracy: 0.7325 - lr: 0.0010 - 10s/epoch - 173ms/step
Epoch 51/100
59/59 - 10s - loss: 0.4956 - accuracy: 0.8149 - val_loss: 0.7176 - val_accuracy: 0.7218 - lr: 0.0010 - 10s/epoch - 164ms/step
Epoch 52/100
59/59 - 9s - loss: 0.4956 - accuracy: 0.8145 - val_loss: 0.7033 - val_accuracy: 0.7328 - lr: 0.0010 - 9s/epoch - 155ms/step
Epoch 53/100
59/59 - 9s - loss: 0.4911 - accuracy: 0.8170 - val_loss: 0.6915 - val_accuracy: 0.7368 - lr: 0.0010 - 9s/epoch - 153ms/step
Epoch 54/100
59/59 - 9s - loss: 0.4919 - accuracy: 0.8172 - val_loss: 0.7067 - val_accuracy: 0.7365 - lr: 0.0010 - 9s/epoch - 155ms/step
Epoch 55/100
59/59 - 9s - loss: 0.4920 - accuracy: 0.8160 - val_loss: 0.6876 - val_accuracy: 0.7384 - lr: 0.0010 - 9s/epoch - 156ms/step
Epoch 56/100
59/59 - 9s - loss: 0.4919 - accuracy: 0.8163 - val_loss: 0.6641 - val_accuracy: 0.7481 - lr: 0.0010 - 9s/epoch - 155ms/step
Epoch 57/100
59/59 - 9s - loss: 0.4914 - accuracy: 0.8173 - val_loss: 0.7396 - val_accuracy: 0.7167 - lr: 0.0010 - 9s/epoch - 155ms/step
Epoch 58/100
59/59 - 9s - loss: 0.4910 - accuracy: 0.8165 - val_loss: 0.7062 - val_accuracy: 0.7282 - lr: 0.0010 - 9s/epoch - 156ms/step
Epoch 59/100
59/59 - 9s - loss: 0.4921 - accuracy: 0.8168 - val_loss: 0.7137 - val_accuracy: 0.7207 - lr: 0.0010 - 9s/epoch - 155ms/step
Epoch 60/100
59/59 - 9s - loss: 0.4883 - accuracy: 0.8183 - val_loss: 0.6955 - val_accuracy: 0.7283 - lr: 0.0010 - 9s/epoch - 157ms/step
Epoch 61/100
59/59 - 9s - loss: 0.4932 - accuracy: 0.8161 - val_loss: 0.7342 - val_accuracy: 0.7163 - lr: 0.0010 - 9s/epoch - 158ms/step
Epoch 62/100
59/59 - 10s - loss: 0.4906 - accuracy: 0.8183 - val_loss: 0.7424 - val_accuracy: 0.7130 - lr: 0.0010 - 10s/epoch - 177ms/step
Epoch 63/100
59/59 - 9s - loss: 0.4904 - accuracy: 0.8186 - val_loss: 0.7255 - val_accuracy: 0.7199 - lr: 0.0010 - 9s/epoch - 154ms/step
Epoch 64/100
59/59 - 9s - loss: 0.4938 - accuracy: 0.8154 - val_loss: 0.6984 - val_accuracy: 0.7309 - lr: 0.0010 - 9s/epoch - 154ms/step
Epoch 65/100
59/59 - 9s - loss: 0.4905 - accuracy: 0.8167 - val_loss: 0.7140 - val_accuracy: 0.7254 - lr: 0.0010 - 9s/epoch - 157ms/step
Epoch 66/100
59/59 - 9s - loss: 0.4916 - accuracy: 0.8158 - val_loss: 0.7205 - val_accuracy: 0.7225 - lr: 0.0010 - 9s/epoch - 159ms/step
Epoch 67/100
59/59 - 9s - loss: 0.4901 - accuracy: 0.8173 - val_loss: 0.6995 - val_accuracy: 0.7361 - lr: 0.0010 - 9s/epoch - 157ms/step
Epoch 68/100
59/59 - 9s - loss: 0.4915 - accuracy: 0.8171 - val_loss: 0.7012 - val_accuracy: 0.7321 - lr: 0.0010 - 9s/epoch - 156ms/step
Epoch 69/100
59/59 - 9s - loss: 0.5071 - accuracy: 0.8094 - val_loss: 0.6904 - val_accuracy: 0.7349 - lr: 0.0010 - 9s/epoch - 155ms/step
Epoch 70/100
59/59 - 9s - loss: 0.4888 - accuracy: 0.8171 - val_loss: 0.6927 - val_accuracy: 0.7350 - lr: 0.0010 - 9s/epoch - 154ms/step
Epoch 71/100
59/59 - 9s - loss: 0.4902 - accuracy: 0.8175 - val_loss: 0.6739 - val_accuracy: 0.7428 - lr: 0.0010 - 9s/epoch - 156ms/step
Epoch 72/100
59/59 - 9s - loss: 0.4905 - accuracy: 0.8168 - val_loss: 0.7316 - val_accuracy: 0.7168 - lr: 0.0010 - 9s/epoch - 156ms/step
Epoch 73/100
59/59 - 9s - loss: 0.4897 - accuracy: 0.8184 - val_loss: 0.7131 - val_accuracy: 0.7273 - lr: 0.0010 - 9s/epoch - 156ms/step
Epoch 74/100
59/59 - 9s - loss: 0.4890 - accuracy: 0.8179 - val_loss: 0.7084 - val_accuracy: 0.7313 - lr: 0.0010 - 9s/epoch - 155ms/step
Epoch 75/100
59/59 - 9s - loss: 0.4881 - accuracy: 0.8183 - val_loss: 0.7456 - val_accuracy: 0.7091 - lr: 0.0010 - 9s/epoch - 155ms/step
Epoch 76/100
59/59 - 9s - loss: 0.4878 - accuracy: 0.8184 - val_loss: 0.7374 - val_accuracy: 0.7159 - lr: 0.0010 - 9s/epoch - 157ms/step
Epoch 77/100
59/59 - 9s - loss: 0.4967 - accuracy: 0.8153 - val_loss: 0.7038 - val_accuracy: 0.7302 - lr: 0.0010 - 9s/epoch - 153ms/step
Epoch 78/100
59/59 - 9s - loss: 0.4929 - accuracy: 0.8168 - val_loss: 0.7348 - val_accuracy: 0.7138 - lr: 0.0010 - 9s/epoch - 153ms/step
Epoch 79/100
59/59 - 10s - loss: 0.4889 - accuracy: 0.8187 - val_loss: 0.7289 - val_accuracy: 0.7225 - lr: 0.0010 - 10s/epoch - 161ms/step
Epoch 80/100
59/59 - 10s - loss: 0.4951 - accuracy: 0.8155 - val_loss: 0.7203 - val_accuracy: 0.7223 - lr: 0.0010 - 10s/epoch - 163ms/step
Epoch 81/100
59/59 - 9s - loss: 0.4883 - accuracy: 0.8172 - val_loss: 0.7212 - val_accuracy: 0.7210 - lr: 0.0010 - 9s/epoch - 161ms/step
Epoch 82/100
59/59 - 9s - loss: 0.4857 - accuracy: 0.8185 - val_loss: 0.7058 - val_accuracy: 0.7304 - lr: 0.0010 - 9s/epoch - 158ms/step
Epoch 83/100
59/59 - 11s - loss: 0.4855 - accuracy: 0.8199 - val_loss: 0.7174 - val_accuracy: 0.7248 - lr: 0.0010 - 11s/epoch - 179ms/step
Epoch 84/100
59/59 - 9s - loss: 0.4891 - accuracy: 0.8179 - val_loss: 0.7349 - val_accuracy: 0.7101 - lr: 0.0010 - 9s/epoch - 157ms/step
Epoch 85/100
59/59 - 9s - loss: 0.5004 - accuracy: 0.8130 - val_loss: 0.7299 - val_accuracy: 0.7156 - lr: 0.0010 - 9s/epoch - 154ms/step
Epoch 86/100
59/59 - 9s - loss: 0.4904 - accuracy: 0.8174 - val_loss: 0.7251 - val_accuracy: 0.7237 - lr: 0.0010 - 9s/epoch - 152ms/step
Epoch 87/100
59/59 - 9s - loss: 0.4864 - accuracy: 0.8195 - val_loss: 0.7206 - val_accuracy: 0.7230 - lr: 0.0010 - 9s/epoch - 154ms/step
Epoch 88/100
59/59 - 9s - loss: 0.4882 - accuracy: 0.8181 - val_loss: 0.7216 - val_accuracy: 0.7199 - lr: 0.0010 - 9s/epoch - 160ms/step
Epoch 89/100
59/59 - 9s - loss: 0.4845 - accuracy: 0.8200 - val_loss: 0.7097 - val_accuracy: 0.7291 - lr: 0.0010 - 9s/epoch - 158ms/step
Epoch 90/100
59/59 - 9s - loss: 0.4844 - accuracy: 0.8198 - val_loss: 0.7348 - val_accuracy: 0.7159 - lr: 0.0010 - 9s/epoch - 154ms/step
Epoch 91/100
59/59 - 9s - loss: 0.4874 - accuracy: 0.8192 - val_loss: 0.7005 - val_accuracy: 0.7219 - lr: 0.0010 - 9s/epoch - 156ms/step
Epoch 92/100
59/59 - 9s - loss: 0.4958 - accuracy: 0.8158 - val_loss: 0.6820 - val_accuracy: 0.7396 - lr: 0.0010 - 9s/epoch - 154ms/step
Epoch 93/100
59/59 - 9s - loss: 0.4865 - accuracy: 0.8185 - val_loss: 0.7078 - val_accuracy: 0.7267 - lr: 0.0010 - 9s/epoch - 152ms/step
Epoch 94/100
59/59 - 9s - loss: 0.4879 - accuracy: 0.8195 - val_loss: 0.6982 - val_accuracy: 0.7344 - lr: 0.0010 - 9s/epoch - 154ms/step
Epoch 95/100
59/59 - 9s - loss: 0.4884 - accuracy: 0.8183 - val_loss: 0.7193 - val_accuracy: 0.7212 - lr: 0.0010 - 9s/epoch - 156ms/step
Epoch 96/100
59/59 - 9s - loss: 0.4874 - accuracy: 0.8184 - val_loss: 0.7049 - val_accuracy: 0.7269 - lr: 0.0010 - 9s/epoch - 159ms/step
Epoch 97/100
59/59 - 10s - loss: 0.4854 - accuracy: 0.8188 - val_loss: 0.7059 - val_accuracy: 0.7225 - lr: 0.0010 - 10s/epoch - 176ms/step
Epoch 98/100
59/59 - 9s - loss: 0.4867 - accuracy: 0.8180 - val_loss: 0.7334 - val_accuracy: 0.7146 - lr: 0.0010 - 9s/epoch - 156ms/step
Epoch 99/100
59/59 - 9s - loss: 0.4865 - accuracy: 0.8183 - val_loss: 0.7254 - val_accuracy: 0.7208 - lr: 0.0010 - 9s/epoch - 154ms/step
Epoch 100/100
59/59 - 9s - loss: 0.4823 - accuracy: 0.8203 - val_loss: 0.7253 - val_accuracy: 0.7254 - lr: 0.0010 - 9s/epoch - 155ms/step
fitting with batch size: 2500
Epoch 1/100
36/36 - 12s - loss: 0.4772 - accuracy: 0.8237 - val_loss: 0.7205 - val_accuracy: 0.7192 - lr: 0.0010 - 12s/epoch - 346ms/step
Epoch 2/100
36/36 - 9s - loss: 0.4788 - accuracy: 0.8214 - val_loss: 0.7262 - val_accuracy: 0.7183 - lr: 0.0010 - 9s/epoch - 245ms/step
Epoch 3/100
36/36 - 9s - loss: 0.4881 - accuracy: 0.8181 - val_loss: 0.7228 - val_accuracy: 0.7186 - lr: 0.0010 - 9s/epoch - 263ms/step
Epoch 4/100
36/36 - 10s - loss: 0.4833 - accuracy: 0.8195 - val_loss: 0.7106 - val_accuracy: 0.7251 - lr: 0.0010 - 10s/epoch - 266ms/step
Epoch 5/100
36/36 - 9s - loss: 0.4820 - accuracy: 0.8215 - val_loss: 0.6976 - val_accuracy: 0.7268 - lr: 0.0010 - 9s/epoch - 239ms/step
Epoch 6/100
36/36 - 9s - loss: 0.4845 - accuracy: 0.8203 - val_loss: 0.6873 - val_accuracy: 0.7321 - lr: 0.0010 - 9s/epoch - 239ms/step
Epoch 7/100
36/36 - 9s - loss: 0.4977 - accuracy: 0.8127 - val_loss: 0.7205 - val_accuracy: 0.7183 - lr: 0.0010 - 9s/epoch - 241ms/step
Epoch 8/100
36/36 - 9s - loss: 0.4827 - accuracy: 0.8205 - val_loss: 0.7361 - val_accuracy: 0.7183 - lr: 0.0010 - 9s/epoch - 240ms/step
Epoch 9/100
36/36 - 10s - loss: 0.4810 - accuracy: 0.8205 - val_loss: 0.7339 - val_accuracy: 0.7150 - lr: 0.0010 - 10s/epoch - 276ms/step
Epoch 10/100
36/36 - 9s - loss: 0.4819 - accuracy: 0.8219 - val_loss: 0.7238 - val_accuracy: 0.7156 - lr: 0.0010 - 9s/epoch - 246ms/step
Epoch 11/100
36/36 - 9s - loss: 0.4817 - accuracy: 0.8211 - val_loss: 0.7040 - val_accuracy: 0.7278 - lr: 0.0010 - 9s/epoch - 245ms/step
Epoch 12/100
36/36 - 9s - loss: 0.4936 - accuracy: 0.8158 - val_loss: 0.6761 - val_accuracy: 0.7377 - lr: 0.0010 - 9s/epoch - 246ms/step
Epoch 13/100
36/36 - 9s - loss: 0.4789 - accuracy: 0.8222 - val_loss: 0.7094 - val_accuracy: 0.7254 - lr: 0.0010 - 9s/epoch - 237ms/step
Epoch 14/100
36/36 - 9s - loss: 0.4798 - accuracy: 0.8216 - val_loss: 0.6851 - val_accuracy: 0.7367 - lr: 0.0010 - 9s/epoch - 243ms/step
Epoch 15/100
36/36 - 9s - loss: 0.4908 - accuracy: 0.8172 - val_loss: 0.7080 - val_accuracy: 0.7274 - lr: 0.0010 - 9s/epoch - 241ms/step
Epoch 16/100
36/36 - 9s - loss: 0.4804 - accuracy: 0.8221 - val_loss: 0.7198 - val_accuracy: 0.7186 - lr: 0.0010 - 9s/epoch - 248ms/step
Epoch 17/100
36/36 - 9s - loss: 0.4801 - accuracy: 0.8211 - val_loss: 0.7286 - val_accuracy: 0.7113 - lr: 0.0010 - 9s/epoch - 248ms/step
Epoch 18/100
36/36 - 9s - loss: 0.4816 - accuracy: 0.8211 - val_loss: 0.7193 - val_accuracy: 0.7168 - lr: 0.0010 - 9s/epoch - 262ms/step
Epoch 19/100
36/36 - 9s - loss: 0.4948 - accuracy: 0.8150 - val_loss: 0.7075 - val_accuracy: 0.7270 - lr: 0.0010 - 9s/epoch - 245ms/step
Epoch 20/100
36/36 - 8s - loss: 0.4787 - accuracy: 0.8220 - val_loss: 0.7300 - val_accuracy: 0.7151 - lr: 0.0010 - 8s/epoch - 234ms/step
Epoch 21/100
36/36 - 8s - loss: 0.4836 - accuracy: 0.8190 - val_loss: 0.7079 - val_accuracy: 0.7260 - lr: 0.0010 - 8s/epoch - 226ms/step
Epoch 22/100
36/36 - 7s - loss: 0.4769 - accuracy: 0.8218 - val_loss: 0.7144 - val_accuracy: 0.7219 - lr: 0.0010 - 7s/epoch - 205ms/step
Epoch 23/100
36/36 - 7s - loss: 0.4794 - accuracy: 0.8209 - val_loss: 0.7232 - val_accuracy: 0.7206 - lr: 0.0010 - 7s/epoch - 205ms/step
Epoch 24/100
36/36 - 8s - loss: 0.4780 - accuracy: 0.8226 - val_loss: 0.6791 - val_accuracy: 0.7394 - lr: 0.0010 - 8s/epoch - 219ms/step
Epoch 25/100
36/36 - 8s - loss: 0.4798 - accuracy: 0.8210 - val_loss: 0.7160 - val_accuracy: 0.7220 - lr: 0.0010 - 8s/epoch - 222ms/step
Epoch 26/100
36/36 - 8s - loss: 0.4839 - accuracy: 0.8199 - val_loss: 0.7037 - val_accuracy: 0.7224 - lr: 0.0010 - 8s/epoch - 226ms/step
Epoch 27/100
36/36 - 9s - loss: 0.4862 - accuracy: 0.8188 - val_loss: 0.7391 - val_accuracy: 0.7163 - lr: 0.0010 - 9s/epoch - 243ms/step
Epoch 28/100
36/36 - 9s - loss: 0.4841 - accuracy: 0.8206 - val_loss: 0.7143 - val_accuracy: 0.7219 - lr: 0.0010 - 9s/epoch - 254ms/step
Epoch 29/100
36/36 - 9s - loss: 0.4820 - accuracy: 0.8210 - val_loss: 0.7417 - val_accuracy: 0.7122 - lr: 0.0010 - 9s/epoch - 245ms/step
Epoch 30/100
36/36 - 8s - loss: 0.4787 - accuracy: 0.8217 - val_loss: 0.6868 - val_accuracy: 0.7308 - lr: 0.0010 - 8s/epoch - 236ms/step
Epoch 31/100
36/36 - 8s - loss: 0.4783 - accuracy: 0.8224 - val_loss: 0.6996 - val_accuracy: 0.7317 - lr: 0.0010 - 8s/epoch - 230ms/step
Epoch 32/100
36/36 - 8s - loss: 0.4838 - accuracy: 0.8213 - val_loss: 0.7117 - val_accuracy: 0.7225 - lr: 0.0010 - 8s/epoch - 221ms/step
Epoch 33/100
36/36 - 8s - loss: 0.4888 - accuracy: 0.8172 - val_loss: 0.7291 - val_accuracy: 0.7174 - lr: 0.0010 - 8s/epoch - 214ms/step
Epoch 34/100
36/36 - 8s - loss: 0.4846 - accuracy: 0.8197 - val_loss: 0.7586 - val_accuracy: 0.7019 - lr: 0.0010 - 8s/epoch - 211ms/step
Epoch 35/100
36/36 - 7s - loss: 0.4783 - accuracy: 0.8228 - val_loss: 0.7399 - val_accuracy: 0.7128 - lr: 0.0010 - 7s/epoch - 208ms/step
Epoch 36/100
36/36 - 8s - loss: 0.4889 - accuracy: 0.8185 - val_loss: 0.7036 - val_accuracy: 0.7273 - lr: 0.0010 - 8s/epoch - 216ms/step
Epoch 37/100
36/36 - 8s - loss: 0.4912 - accuracy: 0.8164 - val_loss: 0.7179 - val_accuracy: 0.7201 - lr: 0.0010 - 8s/epoch - 212ms/step
Epoch 38/100
36/36 - 8s - loss: 0.4812 - accuracy: 0.8198 - val_loss: 0.7177 - val_accuracy: 0.7236 - lr: 0.0010 - 8s/epoch - 212ms/step
Epoch 39/100
36/36 - 8s - loss: 0.4831 - accuracy: 0.8199 - val_loss: 0.6798 - val_accuracy: 0.7374 - lr: 0.0010 - 8s/epoch - 215ms/step
Epoch 40/100
36/36 - 8s - loss: 0.4783 - accuracy: 0.8226 - val_loss: 0.6910 - val_accuracy: 0.7353 - lr: 0.0010 - 8s/epoch - 218ms/step
Epoch 41/100
36/36 - 8s - loss: 0.4844 - accuracy: 0.8196 - val_loss: 0.7289 - val_accuracy: 0.7171 - lr: 0.0010 - 8s/epoch - 213ms/step
Epoch 42/100
36/36 - 8s - loss: 0.4823 - accuracy: 0.8201 - val_loss: 0.7311 - val_accuracy: 0.7189 - lr: 0.0010 - 8s/epoch - 216ms/step
Epoch 43/100
36/36 - 8s - loss: 0.4744 - accuracy: 0.8233 - val_loss: 0.7155 - val_accuracy: 0.7233 - lr: 0.0010 - 8s/epoch - 219ms/step
Epoch 44/100
36/36 - 8s - loss: 0.4853 - accuracy: 0.8195 - val_loss: 0.7613 - val_accuracy: 0.7004 - lr: 0.0010 - 8s/epoch - 214ms/step
Epoch 45/100
36/36 - 7s - loss: 0.4856 - accuracy: 0.8197 - val_loss: 0.7199 - val_accuracy: 0.7201 - lr: 0.0010 - 7s/epoch - 206ms/step
Epoch 46/100
36/36 - 7s - loss: 0.4826 - accuracy: 0.8202 - val_loss: 0.7717 - val_accuracy: 0.7015 - lr: 0.0010 - 7s/epoch - 204ms/step
Epoch 47/100
36/36 - 7s - loss: 0.4759 - accuracy: 0.8220 - val_loss: 0.7059 - val_accuracy: 0.7276 - lr: 0.0010 - 7s/epoch - 204ms/step
Epoch 48/100
36/36 - 8s - loss: 0.4802 - accuracy: 0.8208 - val_loss: 0.7176 - val_accuracy: 0.7197 - lr: 0.0010 - 8s/epoch - 216ms/step
Epoch 49/100
36/36 - 8s - loss: 0.4791 - accuracy: 0.8225 - val_loss: 0.6966 - val_accuracy: 0.7281 - lr: 0.0010 - 8s/epoch - 231ms/step
Epoch 50/100
36/36 - 7s - loss: 0.4780 - accuracy: 0.8218 - val_loss: 0.7156 - val_accuracy: 0.7219 - lr: 0.0010 - 7s/epoch - 203ms/step
Epoch 51/100
36/36 - 7s - loss: 0.4825 - accuracy: 0.8201 - val_loss: 0.7179 - val_accuracy: 0.7195 - lr: 0.0010 - 7s/epoch - 200ms/step
Epoch 52/100
36/36 - 7s - loss: 0.4955 - accuracy: 0.8136 - val_loss: 0.7113 - val_accuracy: 0.7293 - lr: 0.0010 - 7s/epoch - 200ms/step
Epoch 53/100
36/36 - 7s - loss: 0.4773 - accuracy: 0.8223 - val_loss: 0.7249 - val_accuracy: 0.7150 - lr: 0.0010 - 7s/epoch - 200ms/step
Epoch 54/100
36/36 - 7s - loss: 0.4962 - accuracy: 0.8152 - val_loss: 0.7707 - val_accuracy: 0.7021 - lr: 0.0010 - 7s/epoch - 200ms/step
Epoch 55/100
36/36 - 7s - loss: 0.4815 - accuracy: 0.8208 - val_loss: 0.7100 - val_accuracy: 0.7263 - lr: 0.0010 - 7s/epoch - 200ms/step
Epoch 56/100
36/36 - 7s - loss: 0.4805 - accuracy: 0.8218 - val_loss: 0.7054 - val_accuracy: 0.7282 - lr: 0.0010 - 7s/epoch - 200ms/step
Epoch 57/100
36/36 - 7s - loss: 0.4781 - accuracy: 0.8230 - val_loss: 0.7196 - val_accuracy: 0.7214 - lr: 0.0010 - 7s/epoch - 200ms/step
Epoch 58/100
36/36 - 7s - loss: 0.4774 - accuracy: 0.8218 - val_loss: 0.7494 - val_accuracy: 0.7086 - lr: 0.0010 - 7s/epoch - 200ms/step
Epoch 59/100
36/36 - 7s - loss: 0.4793 - accuracy: 0.8217 - val_loss: 0.7074 - val_accuracy: 0.7233 - lr: 0.0010 - 7s/epoch - 200ms/step
Epoch 60/100
36/36 - 7s - loss: 0.4774 - accuracy: 0.8220 - val_loss: 0.6954 - val_accuracy: 0.7326 - lr: 0.0010 - 7s/epoch - 200ms/step
Epoch 61/100
36/36 - 7s - loss: 0.4803 - accuracy: 0.8216 - val_loss: 0.7028 - val_accuracy: 0.7286 - lr: 0.0010 - 7s/epoch - 200ms/step
Epoch 62/100
36/36 - 7s - loss: 0.4744 - accuracy: 0.8238 - val_loss: 0.7504 - val_accuracy: 0.7124 - lr: 0.0010 - 7s/epoch - 200ms/step
Epoch 63/100
36/36 - 7s - loss: 0.4784 - accuracy: 0.8219 - val_loss: 0.7359 - val_accuracy: 0.7106 - lr: 0.0010 - 7s/epoch - 200ms/step
Epoch 64/100
36/36 - 7s - loss: 0.4728 - accuracy: 0.8233 - val_loss: 0.7089 - val_accuracy: 0.7257 - lr: 0.0010 - 7s/epoch - 200ms/step
Epoch 65/100
36/36 - 7s - loss: 0.4947 - accuracy: 0.8163 - val_loss: 0.7043 - val_accuracy: 0.7299 - lr: 0.0010 - 7s/epoch - 200ms/step
Epoch 66/100
36/36 - 7s - loss: 0.4839 - accuracy: 0.8196 - val_loss: 0.6728 - val_accuracy: 0.7384 - lr: 0.0010 - 7s/epoch - 200ms/step
Epoch 67/100
36/36 - 7s - loss: 0.4788 - accuracy: 0.8213 - val_loss: 0.6971 - val_accuracy: 0.7294 - lr: 0.0010 - 7s/epoch - 200ms/step
Epoch 68/100
36/36 - 7s - loss: 0.4767 - accuracy: 0.8224 - val_loss: 0.7086 - val_accuracy: 0.7280 - lr: 0.0010 - 7s/epoch - 200ms/step
Epoch 69/100
36/36 - 7s - loss: 0.4810 - accuracy: 0.8209 - val_loss: 0.7258 - val_accuracy: 0.7190 - lr: 0.0010 - 7s/epoch - 200ms/step
Epoch 70/100
36/36 - 7s - loss: 0.4730 - accuracy: 0.8246 - val_loss: 0.7339 - val_accuracy: 0.7114 - lr: 0.0010 - 7s/epoch - 200ms/step
Epoch 71/100
36/36 - 7s - loss: 0.4802 - accuracy: 0.8211 - val_loss: 0.7433 - val_accuracy: 0.7104 - lr: 0.0010 - 7s/epoch - 200ms/step
Epoch 72/100
36/36 - 7s - loss: 0.4802 - accuracy: 0.8208 - val_loss: 0.7070 - val_accuracy: 0.7248 - lr: 0.0010 - 7s/epoch - 200ms/step
Epoch 73/100
36/36 - 7s - loss: 0.4770 - accuracy: 0.8233 - val_loss: 0.7073 - val_accuracy: 0.7270 - lr: 0.0010 - 7s/epoch - 200ms/step
Epoch 74/100
36/36 - 7s - loss: 0.4712 - accuracy: 0.8242 - val_loss: 0.6949 - val_accuracy: 0.7300 - lr: 0.0010 - 7s/epoch - 200ms/step
Epoch 75/100
36/36 - 7s - loss: 0.4731 - accuracy: 0.8236 - val_loss: 0.7378 - val_accuracy: 0.7110 - lr: 0.0010 - 7s/epoch - 200ms/step
Epoch 76/100
36/36 - 7s - loss: 0.4717 - accuracy: 0.8257 - val_loss: 0.6930 - val_accuracy: 0.7318 - lr: 0.0010 - 7s/epoch - 200ms/step
Epoch 77/100
36/36 - 7s - loss: 0.4773 - accuracy: 0.8226 - val_loss: 0.7042 - val_accuracy: 0.7267 - lr: 0.0010 - 7s/epoch - 200ms/step
Epoch 78/100
36/36 - 7s - loss: 0.4761 - accuracy: 0.8235 - val_loss: 0.7095 - val_accuracy: 0.7242 - lr: 0.0010 - 7s/epoch - 200ms/step
Epoch 79/100
36/36 - 7s - loss: 0.4797 - accuracy: 0.8224 - val_loss: 0.7187 - val_accuracy: 0.7147 - lr: 0.0010 - 7s/epoch - 200ms/step
Epoch 80/100
36/36 - 7s - loss: 0.4813 - accuracy: 0.8211 - val_loss: 0.7140 - val_accuracy: 0.7255 - lr: 0.0010 - 7s/epoch - 200ms/step
Epoch 81/100
36/36 - 7s - loss: 0.4782 - accuracy: 0.8217 - val_loss: 0.7086 - val_accuracy: 0.7239 - lr: 0.0010 - 7s/epoch - 200ms/step
Epoch 82/100
36/36 - 7s - loss: 0.4758 - accuracy: 0.8227 - val_loss: 0.7191 - val_accuracy: 0.7201 - lr: 0.0010 - 7s/epoch - 200ms/step
Epoch 83/100
36/36 - 7s - loss: 0.4734 - accuracy: 0.8233 - val_loss: 0.7397 - val_accuracy: 0.7120 - lr: 0.0010 - 7s/epoch - 200ms/step
Epoch 84/100
36/36 - 7s - loss: 0.4776 - accuracy: 0.8211 - val_loss: 0.7063 - val_accuracy: 0.7236 - lr: 0.0010 - 7s/epoch - 200ms/step
Epoch 85/100
36/36 - 7s - loss: 0.4713 - accuracy: 0.8251 - val_loss: 0.7329 - val_accuracy: 0.7157 - lr: 0.0010 - 7s/epoch - 200ms/step
Epoch 86/100
36/36 - 7s - loss: 0.4715 - accuracy: 0.8244 - val_loss: 0.7159 - val_accuracy: 0.7227 - lr: 0.0010 - 7s/epoch - 200ms/step
Epoch 87/100
36/36 - 7s - loss: 0.4717 - accuracy: 0.8242 - val_loss: 0.7364 - val_accuracy: 0.7164 - lr: 0.0010 - 7s/epoch - 200ms/step
Epoch 88/100
36/36 - 7s - loss: 0.4761 - accuracy: 0.8229 - val_loss: 0.7375 - val_accuracy: 0.7144 - lr: 0.0010 - 7s/epoch - 200ms/step
Epoch 89/100
36/36 - 7s - loss: 0.4758 - accuracy: 0.8222 - val_loss: 0.7293 - val_accuracy: 0.7159 - lr: 0.0010 - 7s/epoch - 200ms/step
Epoch 90/100
36/36 - 7s - loss: 0.4769 - accuracy: 0.8235 - val_loss: 0.7103 - val_accuracy: 0.7248 - lr: 0.0010 - 7s/epoch - 200ms/step
Epoch 91/100
36/36 - 7s - loss: 0.4708 - accuracy: 0.8249 - val_loss: 0.7473 - val_accuracy: 0.7099 - lr: 0.0010 - 7s/epoch - 200ms/step
Epoch 92/100
36/36 - 7s - loss: 0.4741 - accuracy: 0.8244 - val_loss: 0.7226 - val_accuracy: 0.7198 - lr: 0.0010 - 7s/epoch - 200ms/step
Epoch 93/100
36/36 - 7s - loss: 0.4766 - accuracy: 0.8229 - val_loss: 0.7288 - val_accuracy: 0.7152 - lr: 0.0010 - 7s/epoch - 200ms/step
Epoch 94/100
36/36 - 7s - loss: 0.4755 - accuracy: 0.8227 - val_loss: 0.7366 - val_accuracy: 0.7135 - lr: 0.0010 - 7s/epoch - 200ms/step
Epoch 95/100
36/36 - 7s - loss: 0.4722 - accuracy: 0.8244 - val_loss: 0.7264 - val_accuracy: 0.7155 - lr: 0.0010 - 7s/epoch - 200ms/step
Epoch 96/100
36/36 - 7s - loss: 0.4706 - accuracy: 0.8252 - val_loss: 0.7537 - val_accuracy: 0.7062 - lr: 0.0010 - 7s/epoch - 200ms/step
Epoch 97/100
36/36 - 7s - loss: 0.4723 - accuracy: 0.8239 - val_loss: 0.7313 - val_accuracy: 0.7196 - lr: 0.0010 - 7s/epoch - 200ms/step
Epoch 98/100
36/36 - 7s - loss: 0.4769 - accuracy: 0.8227 - val_loss: 0.7291 - val_accuracy: 0.7166 - lr: 0.0010 - 7s/epoch - 200ms/step
Epoch 99/100
36/36 - 7s - loss: 0.4708 - accuracy: 0.8253 - val_loss: 0.7024 - val_accuracy: 0.7278 - lr: 0.0010 - 7s/epoch - 200ms/step
Epoch 100/100
36/36 - 7s - loss: 0.4760 - accuracy: 0.8232 - val_loss: 0.7184 - val_accuracy: 0.7246 - lr: 0.0010 - 7s/epoch - 200ms/step
