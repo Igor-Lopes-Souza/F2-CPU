{
 "cells": [
  {
   "cell_type": "code",
   "execution_count": 1,
   "metadata": {},
   "outputs": [
    {
     "name": "stdout",
     "output_type": "stream",
     "text": [
      "['mitbih_test.csv', 'mitbih_test.csv.zip', 'mitbih_train.csv', 'mitbih_train.csv.zip', 'ptbdb_abnormal.csv', 'ptbdb_abnormal.csv.zip', 'ptbdb_normal.csv', 'ptbdb_normal.csv.zip']\n"
     ]
    }
   ],
   "source": [
    "# This Python 3 environment comes with many helpful analytics libraries installed\n",
    "# It is defined by the kaggle/python docker image: https://github.com/kaggle/docker-python\n",
    "# For example, here's several helpful packages to load in \n",
    "import math\n",
    "import random\n",
    "import pickle\n",
    "import itertools\n",
    "\n",
    "import numpy as np # linear algebra\n",
    "import pandas as pd # data processing, CSV file I/O (e.g. pd.read_csv)\n",
    "\n",
    "from sklearn.metrics import accuracy_score, classification_report, confusion_matrix, label_ranking_average_precision_score, label_ranking_loss, coverage_error \n",
    "\n",
    "from sklearn.utils import shuffle\n",
    "\n",
    "from scipy.signal import resample\n",
    "\n",
    "import matplotlib.pyplot as plt\n",
    "\n",
    "np.random.seed(42)\n",
    "\n",
    "import pickle\n",
    "#from sklearn.preprocessing import OneHotEncoder\n",
    "from keras.utils.np_utils import to_categorical\n",
    "from keras.models import Model\n",
    "from keras.layers import Input, Dense, Conv1D, MaxPooling1D, Softmax, Add, Flatten, Activation , Dropout\n",
    "from keras import backend as K\n",
    "from keras.optimizers import Adam\n",
    "from keras.callbacks import LearningRateScheduler, ModelCheckpoint\n",
    "\n",
    "# Input data files are available in the \"../input/\" directory.\n",
    "# For example, running this (by clicking run or pressing Shift+Enter) will list the files in the input directory\n",
    "\n",
    "import os\n",
    "print(os.listdir(\"/Users/Usuario/Documents/Python Scripts/F2/database\"))\n",
    "\n",
    "# Any results you write to the current directory are saved as output."
   ]
  },
  {
   "cell_type": "code",
   "execution_count": 2,
   "metadata": {},
   "outputs": [],
   "source": [
    "import sklearn\n",
    "from sklearn.model_selection import train_test_split\n",
    "import numpy as np\n",
    "import pandas as pd\n",
    "from sklearn.preprocessing import OneHotEncoder\n",
    "from imblearn.over_sampling import RandomOverSampler\n",
    "np.random.seed(42)\n",
    "\n",
    "\n",
    "path = '/Users/Usuario/Documents/Python Scripts/F2/database/'\n",
    "\n",
    "df = pd.read_csv(path + \"mitbih_train.csv\", header=None)\n",
    "df_test = pd.read_csv(path + \"mitbih_test.csv\", header=None)\n",
    "\n",
    "df_val_train = df.values\n",
    "X = df_val_train[:, :-1]\n",
    "y = df_val_train[:, -1].astype(int)\n",
    "\n",
    "df_val_test = df_test.values\n",
    "X_test = df_val_test[:, :-1]\n",
    "Y_test = df_val_test[:, -1].astype(int)\n",
    "\n",
    "ros = RandomOverSampler(random_state=0)\n",
    "X_train, Y_train = ros.fit_resample(X, y)\n",
    "\n",
    "X_train, X_val, Y_train, Y_val = train_test_split(\n",
    "    X_train,\n",
    "    Y_train,\n",
    "    test_size=0.25,\n",
    "    random_state=42)\n",
    "\n",
    "shuffle_idx = np.random.permutation(list(range(X_train.shape[0])))\n",
    "X_train = X_train[shuffle_idx]\n",
    "Y_train = Y_train[shuffle_idx]\n",
    "\n",
    "X_train = np.expand_dims(X_train, 2)\n",
    "X_val = np.expand_dims(X_val, 2)\n",
    "X_test = np.expand_dims(X_test, 2)\n",
    "\n",
    "ohe = OneHotEncoder()\n",
    "Y_test = ohe.fit_transform(Y_test.reshape(-1, 1))\n"
   ]
  },
  {
   "cell_type": "markdown",
   "metadata": {
    "_uuid": "425c4b7abe39a14c6f81f8a71094cc1024276935"
   },
   "source": [
    "# Visual Input"
   ]
  },
  {
   "cell_type": "markdown",
   "metadata": {
    "_uuid": "c269ab78773e4b5a960a5e55d2b48c53d5f9c446"
   },
   "source": [
    "# Data augmentation\n",
    "\n",
    "To train properly the model, we sould have to augment all data to the same level. Nevertheless, for a first try, we will just augment the smallest class to the same level as class 1. With that we will be able to have a test set of around 5x800 observations."
   ]
  },
  {
   "cell_type": "markdown",
   "metadata": {
    "_uuid": "c42605d020fd51885437f4af3cf10cebbeafc9bb"
   },
   "source": [
    "# Split"
   ]
  },
  {
   "cell_type": "code",
   "execution_count": 3,
   "metadata": {
    "_uuid": "5ddf1e7b397de3c413fc991945d2d7f09df67da1",
    "jupyter": {
     "outputs_hidden": true
    }
   },
   "outputs": [],
   "source": [
    "#ohe = OneHotEncoder()\n",
    "#y_train = ohe.fit_transform(y_train.reshape(-1,1))\n",
    "#y_test = ohe.transform(y_test.reshape(-1,1))\n",
    "Y_train=to_categorical(Y_train)\n",
    "#y_train=y_train.toarray()\n",
    "#y_test=y_test.toarray()\n",
    "Y_val=to_categorical(Y_val)"
   ]
  },
  {
   "cell_type": "code",
   "execution_count": 4,
   "metadata": {
    "_uuid": "16c106c2702045790367fc49d7223560fc613d75",
    "jupyter": {
     "outputs_hidden": true
    }
   },
   "outputs": [
    {
     "name": "stdout",
     "output_type": "stream",
     "text": [
      "X_train (271766, 187, 1)\n",
      "y_train (271766, 5)\n",
      "X_test (90589, 187, 1)\n",
      "y_test (90589, 5)\n"
     ]
    }
   ],
   "source": [
    "print(\"X_train\", X_train.shape)\n",
    "print(\"y_train\", Y_train.shape)\n",
    "print(\"X_test\", X_val.shape)\n",
    "print(\"y_test\", Y_val.shape)"
   ]
  },
  {
   "cell_type": "markdown",
   "metadata": {
    "_uuid": "c4de23b85abe34a726eab268171da0e827bafa35"
   },
   "source": [
    "# Model\n",
    "\n",
    "Now let's re-create the model from the ArXiv Document"
   ]
  },
  {
   "cell_type": "code",
   "execution_count": 5,
   "metadata": {
    "_uuid": "fb0dc9775ddfa761c0ad948d59020fcbd2681c57",
    "jupyter": {
     "outputs_hidden": true
    }
   },
   "outputs": [],
   "source": [
    "n_obs, feature, depth = X_train.shape\n",
    "batch_size = 500\n",
    "#batch_size = 500"
   ]
  },
  {
   "cell_type": "code",
   "execution_count": 6,
   "metadata": {
    "_uuid": "e70fab0b07290e042ba9cd7c6cba37462a457b03",
    "jupyter": {
     "outputs_hidden": true
    }
   },
   "outputs": [
    {
     "name": "stdout",
     "output_type": "stream",
     "text": [
      "Model: \"model\"\n",
      "__________________________________________________________________________________________________\n",
      " Layer (type)                   Output Shape         Param #     Connected to                     \n",
      "==================================================================================================\n",
      " input_1 (InputLayer)           [(None, 187, 1)]     0           []                               \n",
      "                                                                                                  \n",
      " conv1d (Conv1D)                (None, 183, 32)      192         ['input_1[0][0]']                \n",
      "                                                                                                  \n",
      " conv1d_1 (Conv1D)              (None, 183, 32)      5152        ['conv1d[0][0]']                 \n",
      "                                                                                                  \n",
      " activation (Activation)        (None, 183, 32)      0           ['conv1d_1[0][0]']               \n",
      "                                                                                                  \n",
      " conv1d_2 (Conv1D)              (None, 183, 32)      5152        ['activation[0][0]']             \n",
      "                                                                                                  \n",
      " add (Add)                      (None, 183, 32)      0           ['conv1d_2[0][0]',               \n",
      "                                                                  'conv1d[0][0]']                 \n",
      "                                                                                                  \n",
      " activation_1 (Activation)      (None, 183, 32)      0           ['add[0][0]']                    \n",
      "                                                                                                  \n",
      " max_pooling1d (MaxPooling1D)   (None, 90, 32)       0           ['activation_1[0][0]']           \n",
      "                                                                                                  \n",
      " conv1d_3 (Conv1D)              (None, 90, 32)       5152        ['max_pooling1d[0][0]']          \n",
      "                                                                                                  \n",
      " activation_2 (Activation)      (None, 90, 32)       0           ['conv1d_3[0][0]']               \n",
      "                                                                                                  \n",
      " conv1d_4 (Conv1D)              (None, 90, 32)       5152        ['activation_2[0][0]']           \n",
      "                                                                                                  \n",
      " add_1 (Add)                    (None, 90, 32)       0           ['conv1d_4[0][0]',               \n",
      "                                                                  'max_pooling1d[0][0]']          \n",
      "                                                                                                  \n",
      " activation_3 (Activation)      (None, 90, 32)       0           ['add_1[0][0]']                  \n",
      "                                                                                                  \n",
      " max_pooling1d_1 (MaxPooling1D)  (None, 43, 32)      0           ['activation_3[0][0]']           \n",
      "                                                                                                  \n",
      " conv1d_5 (Conv1D)              (None, 43, 32)       5152        ['max_pooling1d_1[0][0]']        \n",
      "                                                                                                  \n",
      " activation_4 (Activation)      (None, 43, 32)       0           ['conv1d_5[0][0]']               \n",
      "                                                                                                  \n",
      " conv1d_6 (Conv1D)              (None, 43, 32)       5152        ['activation_4[0][0]']           \n",
      "                                                                                                  \n",
      " add_2 (Add)                    (None, 43, 32)       0           ['conv1d_6[0][0]',               \n",
      "                                                                  'max_pooling1d_1[0][0]']        \n",
      "                                                                                                  \n",
      " activation_5 (Activation)      (None, 43, 32)       0           ['add_2[0][0]']                  \n",
      "                                                                                                  \n",
      " max_pooling1d_2 (MaxPooling1D)  (None, 20, 32)      0           ['activation_5[0][0]']           \n",
      "                                                                                                  \n",
      " conv1d_7 (Conv1D)              (None, 20, 32)       5152        ['max_pooling1d_2[0][0]']        \n",
      "                                                                                                  \n",
      " activation_6 (Activation)      (None, 20, 32)       0           ['conv1d_7[0][0]']               \n",
      "                                                                                                  \n",
      " conv1d_8 (Conv1D)              (None, 20, 32)       5152        ['activation_6[0][0]']           \n",
      "                                                                                                  \n",
      " add_3 (Add)                    (None, 20, 32)       0           ['conv1d_8[0][0]',               \n",
      "                                                                  'max_pooling1d_2[0][0]']        \n",
      "                                                                                                  \n",
      " activation_7 (Activation)      (None, 20, 32)       0           ['add_3[0][0]']                  \n",
      "                                                                                                  \n",
      " max_pooling1d_3 (MaxPooling1D)  (None, 8, 32)       0           ['activation_7[0][0]']           \n",
      "                                                                                                  \n",
      " conv1d_9 (Conv1D)              (None, 8, 32)        5152        ['max_pooling1d_3[0][0]']        \n",
      "                                                                                                  \n",
      " activation_8 (Activation)      (None, 8, 32)        0           ['conv1d_9[0][0]']               \n",
      "                                                                                                  \n",
      " conv1d_10 (Conv1D)             (None, 8, 32)        5152        ['activation_8[0][0]']           \n",
      "                                                                                                  \n",
      " add_4 (Add)                    (None, 8, 32)        0           ['conv1d_10[0][0]',              \n",
      "                                                                  'max_pooling1d_3[0][0]']        \n",
      "                                                                                                  \n",
      " activation_9 (Activation)      (None, 8, 32)        0           ['add_4[0][0]']                  \n",
      "                                                                                                  \n",
      " max_pooling1d_4 (MaxPooling1D)  (None, 2, 32)       0           ['activation_9[0][0]']           \n",
      "                                                                                                  \n",
      " dropout (Dropout)              (None, 2, 32)        0           ['max_pooling1d_4[0][0]']        \n",
      "                                                                                                  \n",
      " flatten (Flatten)              (None, 64)           0           ['dropout[0][0]']                \n",
      "                                                                                                  \n",
      " dense (Dense)                  (None, 32)           2080        ['flatten[0][0]']                \n",
      "                                                                                                  \n",
      " activation_10 (Activation)     (None, 32)           0           ['dense[0][0]']                  \n",
      "                                                                                                  \n",
      " dense_1 (Dense)                (None, 32)           1056        ['activation_10[0][0]']          \n",
      "                                                                                                  \n",
      " dense_2 (Dense)                (None, 5)            165         ['dense_1[0][0]']                \n",
      "                                                                                                  \n",
      " softmax (Softmax)              (None, 5)            0           ['dense_2[0][0]']                \n",
      "                                                                                                  \n",
      "==================================================================================================\n",
      "Total params: 55,013\n",
      "Trainable params: 55,013\n",
      "Non-trainable params: 0\n",
      "__________________________________________________________________________________________________\n"
     ]
    }
   ],
   "source": [
    "K.clear_session()\n",
    "\n",
    "inp = Input(shape=(feature, depth))\n",
    "C = Conv1D(filters=32, kernel_size=5, strides=1)(inp)\n",
    "C11 = Conv1D(filters=32, kernel_size=5, strides=1, padding='same')(C)\n",
    "A11 = Activation(\"relu\")(C11)\n",
    "C12 = Conv1D(filters=32, kernel_size=5, strides=1, padding='same')(A11)\n",
    "S11 = Add()([C12, C])\n",
    "A12 = Activation(\"relu\")(S11)\n",
    "M11 = MaxPooling1D(pool_size=5, strides=2)(A12)\n",
    "\n",
    "\n",
    "C21 = Conv1D(filters=32, kernel_size=5, strides=1, padding='same')(M11)\n",
    "A21 = Activation(\"relu\")(C21)\n",
    "C22 = Conv1D(filters=32, kernel_size=5, strides=1, padding='same')(A21)\n",
    "S21 = Add()([C22, M11])\n",
    "A22 = Activation(\"relu\")(S21)\n",
    "M21 = MaxPooling1D(pool_size=5, strides=2)(A22)\n",
    "\n",
    "\n",
    "C31 = Conv1D(filters=32, kernel_size=5, strides=1, padding='same')(M21)\n",
    "A31 = Activation(\"relu\")(C31)\n",
    "C32 = Conv1D(filters=32, kernel_size=5, strides=1, padding='same')(A31)\n",
    "S31 = Add()([C32, M21])\n",
    "A32 = Activation(\"relu\")(S31)\n",
    "M31 = MaxPooling1D(pool_size=5, strides=2)(A32)\n",
    "\n",
    "\n",
    "C41 = Conv1D(filters=32, kernel_size=5, strides=1, padding='same')(M31)\n",
    "A41 = Activation(\"relu\")(C41)\n",
    "C42 = Conv1D(filters=32, kernel_size=5, strides=1, padding='same')(A41)\n",
    "S41 = Add()([C42, M31])\n",
    "A42 = Activation(\"relu\")(S41)\n",
    "M41 = MaxPooling1D(pool_size=5, strides=2)(A42)\n",
    "\n",
    "\n",
    "C51 = Conv1D(filters=32, kernel_size=5, strides=1, padding='same')(M41)\n",
    "A51 = Activation(\"relu\")(C51)\n",
    "C52 = Conv1D(filters=32, kernel_size=5, strides=1, padding='same')(A51)\n",
    "S51 = Add()([C52, M41])\n",
    "A52 = Activation(\"relu\")(S51)\n",
    "M51 = MaxPooling1D(pool_size=5, strides=2)(A52)\n",
    "\n",
    "M52 = (Dropout(0.25))(M51)\n",
    "\n",
    "F1 = Flatten()(M52)\n",
    "\n",
    "D1 = Dense(32)(F1)\n",
    "A6 = Activation(\"relu\")(D1)\n",
    "D2 = Dense(32)(A6)\n",
    "D3 = Dense(5)(D2)\n",
    "A7 = Softmax()(D3)\n",
    "\n",
    "model = Model(inputs=inp, outputs=A7)\n",
    "\n",
    "model.summary()"
   ]
  },
  {
   "cell_type": "code",
   "execution_count": 7,
   "metadata": {
    "_uuid": "fdc0d8aa8475330af8d8e652d0b9ce214da66956",
    "jupyter": {
     "outputs_hidden": true
    }
   },
   "outputs": [],
   "source": [
    "def exp_decay(epoch):\n",
    "    initial_lrate = 0.001\n",
    "    k = 0.75\n",
    "    t = n_obs//(10000 * batch_size)  # every epoch we do n_obs/batch_size iteration\n",
    "    lrate = initial_lrate * math.exp(-k*t)\n",
    "    return lrate\n",
    "\n",
    "lrate = LearningRateScheduler(exp_decay)"
   ]
  },
  {
   "cell_type": "code",
   "execution_count": 8,
   "metadata": {
    "_uuid": "abcd2f0e8488c8f3b33cd6ed9ca7fd60fa44404b",
    "jupyter": {
     "outputs_hidden": true
    }
   },
   "outputs": [],
   "source": [
    "adam = Adam(learning_rate = 0.01, beta_1 = 0.9, beta_2 = 0.99)\n",
    "#adam = Adam(learning_rate = 0.001, beta_1 = 0.9, beta_2 = 0.999)"
   ]
  },
  {
   "cell_type": "code",
   "execution_count": 9,
   "metadata": {
    "_uuid": "812e637ae56f6a4be9c8e98d3b501cfb11ef78cb",
    "jupyter": {
     "outputs_hidden": true
    }
   },
   "outputs": [],
   "source": [
    "model.compile(loss='binary_crossentropy', optimizer=adam, metrics=['accuracy'])"
   ]
  },
  {
   "cell_type": "code",
   "execution_count": 10,
   "metadata": {
    "_uuid": "1e6ef643f6a55ab5b3c1b46126832c3ac45a6a2b",
    "jupyter": {
     "outputs_hidden": true
    }
   },
   "outputs": [
    {
     "name": "stdout",
     "output_type": "stream",
     "text": [
      "Epoch 1/75\n",
      "544/544 - 38s - loss: 0.1410 - accuracy: 0.8513 - val_loss: 0.0640 - val_accuracy: 0.9375 - lr: 0.0010 - 38s/epoch - 71ms/step\n",
      "Epoch 2/75\n",
      "544/544 - 30s - loss: 0.0590 - accuracy: 0.9427 - val_loss: 0.0368 - val_accuracy: 0.9669 - lr: 0.0010 - 30s/epoch - 54ms/step\n",
      "Epoch 3/75\n",
      "544/544 - 29s - loss: 0.0389 - accuracy: 0.9643 - val_loss: 0.0264 - val_accuracy: 0.9772 - lr: 0.0010 - 29s/epoch - 53ms/step\n",
      "Epoch 4/75\n",
      "544/544 - 31s - loss: 0.0292 - accuracy: 0.9739 - val_loss: 0.0159 - val_accuracy: 0.9867 - lr: 0.0010 - 31s/epoch - 58ms/step\n",
      "Epoch 5/75\n",
      "544/544 - 30s - loss: 0.0242 - accuracy: 0.9789 - val_loss: 0.0188 - val_accuracy: 0.9839 - lr: 0.0010 - 30s/epoch - 56ms/step\n",
      "Epoch 6/75\n",
      "544/544 - 30s - loss: 0.0194 - accuracy: 0.9834 - val_loss: 0.0231 - val_accuracy: 0.9809 - lr: 0.0010 - 30s/epoch - 55ms/step\n",
      "Epoch 7/75\n",
      "544/544 - 30s - loss: 0.0168 - accuracy: 0.9858 - val_loss: 0.0118 - val_accuracy: 0.9899 - lr: 0.0010 - 30s/epoch - 55ms/step\n",
      "Epoch 8/75\n",
      "544/544 - 35s - loss: 0.0151 - accuracy: 0.9874 - val_loss: 0.0129 - val_accuracy: 0.9894 - lr: 0.0010 - 35s/epoch - 64ms/step\n",
      "Epoch 9/75\n",
      "544/544 - 35s - loss: 0.0140 - accuracy: 0.9886 - val_loss: 0.0133 - val_accuracy: 0.9885 - lr: 0.0010 - 35s/epoch - 64ms/step\n",
      "Epoch 10/75\n",
      "544/544 - 31s - loss: 0.0127 - accuracy: 0.9894 - val_loss: 0.0082 - val_accuracy: 0.9938 - lr: 0.0010 - 31s/epoch - 57ms/step\n",
      "Epoch 11/75\n",
      "544/544 - 32s - loss: 0.0112 - accuracy: 0.9910 - val_loss: 0.0100 - val_accuracy: 0.9921 - lr: 0.0010 - 32s/epoch - 58ms/step\n",
      "Epoch 12/75\n",
      "544/544 - 31s - loss: 0.0108 - accuracy: 0.9912 - val_loss: 0.0067 - val_accuracy: 0.9946 - lr: 0.0010 - 31s/epoch - 57ms/step\n",
      "Epoch 13/75\n",
      "544/544 - 32s - loss: 0.0099 - accuracy: 0.9922 - val_loss: 0.0093 - val_accuracy: 0.9927 - lr: 0.0010 - 32s/epoch - 58ms/step\n",
      "Epoch 14/75\n",
      "544/544 - 32s - loss: 0.0092 - accuracy: 0.9928 - val_loss: 0.0069 - val_accuracy: 0.9955 - lr: 0.0010 - 32s/epoch - 58ms/step\n",
      "Epoch 15/75\n",
      "544/544 - 32s - loss: 0.0088 - accuracy: 0.9931 - val_loss: 0.0124 - val_accuracy: 0.9915 - lr: 0.0010 - 32s/epoch - 58ms/step\n",
      "Epoch 16/75\n",
      "544/544 - 31s - loss: 0.0087 - accuracy: 0.9933 - val_loss: 0.0081 - val_accuracy: 0.9931 - lr: 0.0010 - 31s/epoch - 58ms/step\n",
      "Epoch 17/75\n",
      "544/544 - 31s - loss: 0.0077 - accuracy: 0.9939 - val_loss: 0.0062 - val_accuracy: 0.9955 - lr: 0.0010 - 31s/epoch - 57ms/step\n",
      "Epoch 18/75\n",
      "544/544 - 31s - loss: 0.0076 - accuracy: 0.9941 - val_loss: 0.0076 - val_accuracy: 0.9946 - lr: 0.0010 - 31s/epoch - 57ms/step\n",
      "Epoch 19/75\n",
      "544/544 - 31s - loss: 0.0072 - accuracy: 0.9945 - val_loss: 0.0066 - val_accuracy: 0.9948 - lr: 0.0010 - 31s/epoch - 57ms/step\n",
      "Epoch 20/75\n",
      "544/544 - 31s - loss: 0.0067 - accuracy: 0.9948 - val_loss: 0.0123 - val_accuracy: 0.9919 - lr: 0.0010 - 31s/epoch - 57ms/step\n",
      "Epoch 21/75\n",
      "544/544 - 31s - loss: 0.0064 - accuracy: 0.9952 - val_loss: 0.0079 - val_accuracy: 0.9942 - lr: 0.0010 - 31s/epoch - 56ms/step\n",
      "Epoch 22/75\n",
      "544/544 - 31s - loss: 0.0063 - accuracy: 0.9952 - val_loss: 0.0068 - val_accuracy: 0.9948 - lr: 0.0010 - 31s/epoch - 57ms/step\n",
      "Epoch 23/75\n",
      "544/544 - 31s - loss: 0.0058 - accuracy: 0.9956 - val_loss: 0.0072 - val_accuracy: 0.9943 - lr: 0.0010 - 31s/epoch - 57ms/step\n",
      "Epoch 24/75\n",
      "544/544 - 34s - loss: 0.0057 - accuracy: 0.9957 - val_loss: 0.0075 - val_accuracy: 0.9945 - lr: 0.0010 - 34s/epoch - 62ms/step\n",
      "Epoch 25/75\n",
      "544/544 - 34s - loss: 0.0056 - accuracy: 0.9957 - val_loss: 0.0064 - val_accuracy: 0.9955 - lr: 0.0010 - 34s/epoch - 62ms/step\n",
      "Epoch 26/75\n",
      "544/544 - 34s - loss: 0.0055 - accuracy: 0.9957 - val_loss: 0.0047 - val_accuracy: 0.9971 - lr: 0.0010 - 34s/epoch - 62ms/step\n",
      "Epoch 27/75\n",
      "544/544 - 34s - loss: 0.0048 - accuracy: 0.9964 - val_loss: 0.0038 - val_accuracy: 0.9972 - lr: 0.0010 - 34s/epoch - 62ms/step\n",
      "Epoch 28/75\n",
      "544/544 - 31s - loss: 0.0051 - accuracy: 0.9961 - val_loss: 0.0045 - val_accuracy: 0.9972 - lr: 0.0010 - 31s/epoch - 57ms/step\n",
      "Epoch 29/75\n",
      "544/544 - 31s - loss: 0.0046 - accuracy: 0.9965 - val_loss: 0.0036 - val_accuracy: 0.9977 - lr: 0.0010 - 31s/epoch - 57ms/step\n",
      "Epoch 30/75\n",
      "544/544 - 31s - loss: 0.0047 - accuracy: 0.9966 - val_loss: 0.0044 - val_accuracy: 0.9970 - lr: 0.0010 - 31s/epoch - 58ms/step\n",
      "Epoch 31/75\n",
      "544/544 - 31s - loss: 0.0047 - accuracy: 0.9965 - val_loss: 0.0064 - val_accuracy: 0.9950 - lr: 0.0010 - 31s/epoch - 57ms/step\n",
      "Epoch 32/75\n",
      "544/544 - 32s - loss: 0.0044 - accuracy: 0.9968 - val_loss: 0.0042 - val_accuracy: 0.9971 - lr: 0.0010 - 32s/epoch - 58ms/step\n",
      "Epoch 33/75\n",
      "544/544 - 31s - loss: 0.0041 - accuracy: 0.9968 - val_loss: 0.0049 - val_accuracy: 0.9971 - lr: 0.0010 - 31s/epoch - 58ms/step\n",
      "Epoch 34/75\n",
      "544/544 - 31s - loss: 0.0040 - accuracy: 0.9970 - val_loss: 0.0037 - val_accuracy: 0.9974 - lr: 0.0010 - 31s/epoch - 57ms/step\n",
      "Epoch 35/75\n",
      "544/544 - 30s - loss: 0.0037 - accuracy: 0.9972 - val_loss: 0.0048 - val_accuracy: 0.9969 - lr: 0.0010 - 30s/epoch - 56ms/step\n",
      "Epoch 36/75\n",
      "544/544 - 32s - loss: 0.0040 - accuracy: 0.9969 - val_loss: 0.0059 - val_accuracy: 0.9963 - lr: 0.0010 - 32s/epoch - 58ms/step\n",
      "Epoch 37/75\n",
      "544/544 - 34s - loss: 0.0038 - accuracy: 0.9971 - val_loss: 0.0046 - val_accuracy: 0.9966 - lr: 0.0010 - 34s/epoch - 62ms/step\n",
      "Epoch 38/75\n",
      "544/544 - 33s - loss: 0.0035 - accuracy: 0.9974 - val_loss: 0.0042 - val_accuracy: 0.9972 - lr: 0.0010 - 33s/epoch - 61ms/step\n",
      "Epoch 39/75\n",
      "544/544 - 32s - loss: 0.0036 - accuracy: 0.9974 - val_loss: 0.0035 - val_accuracy: 0.9974 - lr: 0.0010 - 32s/epoch - 58ms/step\n",
      "Epoch 40/75\n",
      "544/544 - 31s - loss: 0.0034 - accuracy: 0.9975 - val_loss: 0.0041 - val_accuracy: 0.9975 - lr: 0.0010 - 31s/epoch - 58ms/step\n",
      "Epoch 41/75\n",
      "544/544 - 31s - loss: 0.0032 - accuracy: 0.9976 - val_loss: 0.0050 - val_accuracy: 0.9968 - lr: 0.0010 - 31s/epoch - 56ms/step\n",
      "Epoch 42/75\n",
      "544/544 - 31s - loss: 0.0033 - accuracy: 0.9975 - val_loss: 0.0042 - val_accuracy: 0.9973 - lr: 0.0010 - 31s/epoch - 57ms/step\n",
      "Epoch 43/75\n",
      "544/544 - 32s - loss: 0.0035 - accuracy: 0.9975 - val_loss: 0.0051 - val_accuracy: 0.9968 - lr: 0.0010 - 32s/epoch - 59ms/step\n",
      "Epoch 44/75\n",
      "544/544 - 31s - loss: 0.0032 - accuracy: 0.9976 - val_loss: 0.0043 - val_accuracy: 0.9974 - lr: 0.0010 - 31s/epoch - 57ms/step\n",
      "Epoch 45/75\n",
      "544/544 - 32s - loss: 0.0032 - accuracy: 0.9976 - val_loss: 0.0035 - val_accuracy: 0.9976 - lr: 0.0010 - 32s/epoch - 58ms/step\n",
      "Epoch 46/75\n",
      "544/544 - 31s - loss: 0.0029 - accuracy: 0.9979 - val_loss: 0.0043 - val_accuracy: 0.9970 - lr: 0.0010 - 31s/epoch - 58ms/step\n",
      "Epoch 47/75\n",
      "544/544 - 31s - loss: 0.0028 - accuracy: 0.9979 - val_loss: 0.0089 - val_accuracy: 0.9950 - lr: 0.0010 - 31s/epoch - 57ms/step\n",
      "Epoch 48/75\n",
      "544/544 - 31s - loss: 0.0032 - accuracy: 0.9977 - val_loss: 0.0036 - val_accuracy: 0.9980 - lr: 0.0010 - 31s/epoch - 57ms/step\n",
      "Epoch 49/75\n",
      "544/544 - 31s - loss: 0.0029 - accuracy: 0.9979 - val_loss: 0.0048 - val_accuracy: 0.9973 - lr: 0.0010 - 31s/epoch - 57ms/step\n",
      "Epoch 50/75\n",
      "544/544 - 32s - loss: 0.0029 - accuracy: 0.9978 - val_loss: 0.0037 - val_accuracy: 0.9978 - lr: 0.0010 - 32s/epoch - 58ms/step\n",
      "Epoch 51/75\n",
      "544/544 - 32s - loss: 0.0029 - accuracy: 0.9980 - val_loss: 0.0049 - val_accuracy: 0.9972 - lr: 0.0010 - 32s/epoch - 58ms/step\n",
      "Epoch 52/75\n",
      "544/544 - 31s - loss: 0.0027 - accuracy: 0.9980 - val_loss: 0.0051 - val_accuracy: 0.9973 - lr: 0.0010 - 31s/epoch - 57ms/step\n",
      "Epoch 53/75\n",
      "544/544 - 31s - loss: 0.0026 - accuracy: 0.9980 - val_loss: 0.0070 - val_accuracy: 0.9955 - lr: 0.0010 - 31s/epoch - 58ms/step\n",
      "Epoch 54/75\n",
      "544/544 - 32s - loss: 0.0025 - accuracy: 0.9982 - val_loss: 0.0033 - val_accuracy: 0.9985 - lr: 0.0010 - 32s/epoch - 59ms/step\n",
      "Epoch 55/75\n",
      "544/544 - 31s - loss: 0.0025 - accuracy: 0.9982 - val_loss: 0.0044 - val_accuracy: 0.9978 - lr: 0.0010 - 31s/epoch - 57ms/step\n",
      "Epoch 56/75\n",
      "544/544 - 31s - loss: 0.0027 - accuracy: 0.9982 - val_loss: 0.0042 - val_accuracy: 0.9975 - lr: 0.0010 - 31s/epoch - 58ms/step\n",
      "Epoch 57/75\n",
      "544/544 - 31s - loss: 0.0024 - accuracy: 0.9982 - val_loss: 0.0058 - val_accuracy: 0.9964 - lr: 0.0010 - 31s/epoch - 57ms/step\n",
      "Epoch 58/75\n",
      "544/544 - 32s - loss: 0.0025 - accuracy: 0.9982 - val_loss: 0.0042 - val_accuracy: 0.9975 - lr: 0.0010 - 32s/epoch - 58ms/step\n",
      "Epoch 59/75\n",
      "544/544 - 32s - loss: 0.0025 - accuracy: 0.9982 - val_loss: 0.0059 - val_accuracy: 0.9963 - lr: 0.0010 - 32s/epoch - 58ms/step\n",
      "Epoch 60/75\n",
      "544/544 - 31s - loss: 0.0023 - accuracy: 0.9984 - val_loss: 0.0039 - val_accuracy: 0.9980 - lr: 0.0010 - 31s/epoch - 57ms/step\n",
      "Epoch 61/75\n",
      "544/544 - 31s - loss: 0.0023 - accuracy: 0.9984 - val_loss: 0.0039 - val_accuracy: 0.9979 - lr: 0.0010 - 31s/epoch - 57ms/step\n",
      "Epoch 62/75\n",
      "544/544 - 31s - loss: 0.0025 - accuracy: 0.9982 - val_loss: 0.0036 - val_accuracy: 0.9983 - lr: 0.0010 - 31s/epoch - 57ms/step\n",
      "Epoch 63/75\n",
      "544/544 - 32s - loss: 0.0024 - accuracy: 0.9983 - val_loss: 0.0039 - val_accuracy: 0.9977 - lr: 0.0010 - 32s/epoch - 59ms/step\n",
      "Epoch 64/75\n",
      "544/544 - 34s - loss: 0.0021 - accuracy: 0.9985 - val_loss: 0.0056 - val_accuracy: 0.9972 - lr: 0.0010 - 34s/epoch - 62ms/step\n",
      "Epoch 65/75\n",
      "544/544 - 33s - loss: 0.0022 - accuracy: 0.9984 - val_loss: 0.0036 - val_accuracy: 0.9979 - lr: 0.0010 - 33s/epoch - 60ms/step\n",
      "Epoch 66/75\n",
      "544/544 - 33s - loss: 0.0023 - accuracy: 0.9983 - val_loss: 0.0047 - val_accuracy: 0.9977 - lr: 0.0010 - 33s/epoch - 60ms/step\n",
      "Epoch 67/75\n",
      "544/544 - 33s - loss: 0.0020 - accuracy: 0.9985 - val_loss: 0.0058 - val_accuracy: 0.9963 - lr: 0.0010 - 33s/epoch - 60ms/step\n",
      "Epoch 68/75\n",
      "544/544 - 33s - loss: 0.0021 - accuracy: 0.9984 - val_loss: 0.0038 - val_accuracy: 0.9976 - lr: 0.0010 - 33s/epoch - 61ms/step\n",
      "Epoch 69/75\n",
      "544/544 - 33s - loss: 0.0021 - accuracy: 0.9984 - val_loss: 0.0052 - val_accuracy: 0.9968 - lr: 0.0010 - 33s/epoch - 60ms/step\n",
      "Epoch 70/75\n",
      "544/544 - 37s - loss: 0.0022 - accuracy: 0.9985 - val_loss: 0.0040 - val_accuracy: 0.9978 - lr: 0.0010 - 37s/epoch - 67ms/step\n",
      "Epoch 71/75\n",
      "544/544 - 33s - loss: 0.0022 - accuracy: 0.9984 - val_loss: 0.0045 - val_accuracy: 0.9976 - lr: 0.0010 - 33s/epoch - 60ms/step\n",
      "Epoch 72/75\n",
      "544/544 - 33s - loss: 0.0021 - accuracy: 0.9984 - val_loss: 0.0060 - val_accuracy: 0.9965 - lr: 0.0010 - 33s/epoch - 61ms/step\n",
      "Epoch 73/75\n",
      "544/544 - 32s - loss: 0.0021 - accuracy: 0.9984 - val_loss: 0.0040 - val_accuracy: 0.9976 - lr: 0.0010 - 32s/epoch - 59ms/step\n",
      "Epoch 74/75\n",
      "544/544 - 33s - loss: 0.0018 - accuracy: 0.9986 - val_loss: 0.0061 - val_accuracy: 0.9958 - lr: 0.0010 - 33s/epoch - 60ms/step\n",
      "Epoch 75/75\n",
      "544/544 - 33s - loss: 0.0020 - accuracy: 0.9985 - val_loss: 0.0045 - val_accuracy: 0.9977 - lr: 0.0010 - 33s/epoch - 61ms/step\n"
     ]
    }
   ],
   "source": [
    "history = model.fit(X_train, Y_train, \n",
    "                    epochs=75, \n",
    "                    batch_size=batch_size, \n",
    "                    verbose=2, \n",
    "                    validation_data=(X_val, Y_val), \n",
    "                    callbacks=[lrate])"
   ]
  },
  {
   "cell_type": "code",
   "execution_count": 11,
   "metadata": {
    "_uuid": "d43023d26a87e3c4702b96bea5962c990c76aa0a",
    "jupyter": {
     "outputs_hidden": true
    }
   },
   "outputs": [
    {
     "name": "stdout",
     "output_type": "stream",
     "text": [
      "182/182 [==============================] - 5s 20ms/step\n"
     ]
    }
   ],
   "source": [
    "y_pred = model.predict(X_val, batch_size=500)"
   ]
  },
  {
   "cell_type": "code",
   "execution_count": 12,
   "metadata": {
    "_uuid": "20cfe7f5891e3c26c599fa4cd728ac0a499ac70e",
    "jupyter": {
     "outputs_hidden": true
    }
   },
   "outputs": [
    {
     "name": "stdout",
     "output_type": "stream",
     "text": [
      "              precision    recall  f1-score   support\n",
      "\n",
      "           0       1.00      0.99      1.00     18082\n",
      "           1       1.00      1.00      1.00     18083\n",
      "           2       0.99      1.00      1.00     18112\n",
      "           3       1.00      1.00      1.00     18004\n",
      "           4       1.00      1.00      1.00     18308\n",
      "\n",
      "    accuracy                           1.00     90589\n",
      "   macro avg       1.00      1.00      1.00     90589\n",
      "weighted avg       1.00      1.00      1.00     90589\n",
      "\n"
     ]
    }
   ],
   "source": [
    "print(classification_report(Y_val.argmax(axis=1), y_pred.argmax(axis=1)))"
   ]
  },
  {
   "cell_type": "code",
   "execution_count": 13,
   "metadata": {},
   "outputs": [
    {
     "name": "stdout",
     "output_type": "stream",
     "text": [
      "ranking-based average precision : 0.999\n",
      "Ranking loss : 0.001\n",
      "Coverage_error : 1.003\n"
     ]
    }
   ],
   "source": [
    "print(\"ranking-based average precision : {:.3f}\".format(label_ranking_average_precision_score(Y_val, y_pred)))\n",
    "print(\"Ranking loss : {:.3f}\".format(label_ranking_loss(Y_val, y_pred)))\n",
    "print(\"Coverage_error : {:.3f}\".format(coverage_error(Y_val, y_pred)))"
   ]
  },
  {
   "cell_type": "code",
   "execution_count": 14,
   "metadata": {},
   "outputs": [
    {
     "name": "stdout",
     "output_type": "stream",
     "text": [
      "Normalized confusion matrix\n"
     ]
    },
    {
     "data": {
      "image/png": "[encoded data removed]",
      "text/plain": [
       "<Figure size 720x720 with 2 Axes>"
      ]
     },
     "metadata": {
      "needs_background": "light"
     },
     "output_type": "display_data"
    }
   ],
   "source": [
    "import itertools\n",
    "def plot_confusion_matrix(cm, classes,\n",
    "                          normalize=False,\n",
    "                          title='Confusion matrix',\n",
    "                          cmap=plt.cm.Blues):\n",
    "    \"\"\"\n",
    "    This function prints and plots the confusion matrix.\n",
    "    Normalization can be applied by setting `normalize=True`.\n",
    "    \"\"\"\n",
    "    if normalize:\n",
    "        cm = cm.astype('float') / cm.sum(axis=1)[:, np.newaxis]\n",
    "        print(\"Normalized confusion matrix\")\n",
    "    else:\n",
    "        print('Confusion matrix, without normalization')\n",
    "\n",
    "    plt.imshow(cm, interpolation='nearest', cmap=cmap)\n",
    "    plt.title(title)\n",
    "    plt.colorbar()\n",
    "    tick_marks = np.arange(len(classes))\n",
    "    plt.xticks(tick_marks, classes, rotation=45)\n",
    "    plt.yticks(tick_marks, classes)\n",
    "\n",
    "    fmt = '.2f' if normalize else 'd'\n",
    "    thresh = cm.max() / 2.\n",
    "    for i, j in itertools.product(range(cm.shape[0]), range(cm.shape[1])):\n",
    "        plt.text(j, i, format(cm[i, j], fmt),\n",
    "                 horizontalalignment=\"center\",\n",
    "                 color=\"white\" if cm[i, j] > thresh else \"black\", fontsize=30)\n",
    "\n",
    "    plt.tight_layout()\n",
    "    plt.ylabel('True label')\n",
    "    plt.xlabel('Predicted label')\n",
    "\n",
    "# Compute confusion matrix\n",
    "cnf_matrix = confusion_matrix(Y_val.argmax(axis=1), y_pred.argmax(axis=1))\n",
    "np.set_printoptions(precision=2)\n",
    "\n",
    "# Plot non-normalized confusion matrix\n",
    "plt.figure(figsize=(10, 10))\n",
    "plot_confusion_matrix(cnf_matrix, classes=['N', 'S', 'V', 'F', 'Q'],normalize=True,\n",
    "                      title='Confusion matrix, with normalization')\n",
    "plt.show()"
   ]
  },
  {
   "cell_type": "code",
   "execution_count": 17,
   "metadata": {},
   "outputs": [],
   "source": [
    "FP = cnf_matrix.sum(axis=0) - np.diag(cnf_matrix)  \n",
    "FN = cnf_matrix.sum(axis=1) - np.diag(cnf_matrix)\n",
    "TP = np.diag(cnf_matrix)\n",
    "TN = cnf_matrix.sum() - (FP + FN + TP)\n",
    "\n",
    "# Sensitivity, hit rate, recall, or true positive rate\n",
    "RECALL = TP/(TP+FN)\n",
    "# Specificity or true negative rate\n",
    "SPECIFICITY = TN/(TN+FP) \n",
    "# Precision or positive predictive value\n",
    "PRECISION = TP/(TP+FP)\n",
    "# Negative predictive value\n",
    "NPV = TN/(TN+FN)\n",
    "# Fall out or false positive rate\n",
    "FPR = FP/(FP+TN)\n",
    "# False negative rate\n",
    "FNR = FN/(TP+FN)\n",
    "# False discovery rate\n",
    "FDR = FP/(TP+FP)\n",
    "\n",
    "# Overall accuracy\n",
    "ACC = (TP+TN)/(TP+FP+FN+TN)\n",
    "#F1-score\n",
    "F1 = 2*((RECALL*PRECISION)/(RECALL+PRECISION))"
   ]
  },
  {
   "cell_type": "code",
   "execution_count": 18,
   "metadata": {},
   "outputs": [
    {
     "name": "stdout",
     "output_type": "stream",
     "text": [
      "182/182 [==============================] - 4s 20ms/step - loss: 0.0013 - accuracy: 1.0000\n",
      "Accuracy: 0.13%\n",
      "Accuracy: 100.00%\n",
      "Precision: 99.77%\n",
      "Specificity: 99.94%\n",
      "Recall :99.77%\n",
      "F1-Score :99.77%\n"
     ]
    }
   ],
   "source": [
    "from statistics import mean, median\n",
    "from tkinter import N\n",
    "scores = model.evaluate((X_val),y_pred,batch_size=500)\n",
    "print(\"Accuracy: %.2f%%\" % (scores[0]*100))\n",
    "print(\"Accuracy: %.2f%%\" % (scores[1]*100))\n",
    "PRE = mean(PRECISION)\n",
    "print(\"Precision: %.2f%%\"% (PRE*100))\n",
    "#print(\"Precision: \", PRECISION)\n",
    "SPE = mean(SPECIFICITY)\n",
    "print(\"Specificity: %.2f%%\"% (SPE*100))\n",
    "#print(\"Specificity\", SPECIFICITY)\n",
    "RE = mean(RECALL)\n",
    "print(\"Recall :%.2f%%\"% (RE*100))\n",
    "#print(\"Recall\", RECALL)\n",
    "#print(\"F1: \", F1)\n",
    "F1S = mean(F1)\n",
    "print(\"F1-Score :%.2f%%\"% (F1S*100))\n",
    "#Z= mean(1-FNR)*100\n",
    "#print(\"Recall:%.2f%%\"%Z)"
   ]
  }
 ],
 "metadata": {
  "kernelspec": {
   "display_name": "Python 3",
   "language": "python",
   "name": "python3"
  },
  "language_info": {
   "codemirror_mode": {
    "name": "ipython",
    "version": 3
   },
   "file_extension": ".py",
   "mimetype": "text/x-python",
   "name": "python",
   "nbconvert_exporter": "python",
   "pygments_lexer": "ipython3",
   "version": "3.9.12"
  },
  "vscode": {
   "interpreter": {
    "hash": "e06ff7da33dc9620448857a90ad8b5f428f0d573d205a934d2841c8aee45ea32"
   }
  }
 },
 "nbformat": 4,
 "nbformat_minor": 4
}
